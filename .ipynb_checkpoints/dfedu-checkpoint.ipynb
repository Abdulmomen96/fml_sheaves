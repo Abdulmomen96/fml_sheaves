{
 "cells": [
  {
   "cell_type": "code",
   "execution_count": 1,
   "id": "74d5d395",
   "metadata": {},
   "outputs": [],
   "source": [
    "import torch\n",
    "import torch.nn as nn\n",
    "import torch.nn.functional as F\n",
    "import torch.optim as optim\n",
    "from torchvision import datasets, transforms\n",
    "from torch.utils.data import DataLoader, Dataset\n",
    "import copy\n",
    "import numpy as np\n",
    "import matplotlib.pyplot as plt\n",
    "from tqdm import tqdm\n",
    "import networkx as nx\n",
    "from torch.nn.utils import parameters_to_vector, vector_to_parameters"
   ]
  },
  {
   "cell_type": "code",
   "execution_count": 2,
   "id": "7617ffd7",
   "metadata": {},
   "outputs": [],
   "source": [
    "# Graph implementation\n",
    "def generate_graph(cluster_sizes=[100,100], pin=0.5, pout=0.01, seed=0):\n",
    "    \"\"\"Generate a random connected graph\"\"\"\n",
    "    probs = np.array([[pin, pout],[pout, pin]])\n",
    "    while True:\n",
    "        g = nx.stochastic_block_model(cluster_sizes, probs)\n",
    "        if nx.algorithms.components.is_connected(g):\n",
    "            return g\n",
    "\n",
    "\n",
    "cluster_sizes = [10, 10]\n",
    "pin = 0.5\n",
    "pout = 0.01\n",
    "seed = 0\n",
    "alpha = 1e-3\n",
    "lamda = 1e-3\n",
    "eta = 1e-1\n",
    "mu = 1e-1\n",
    "no_users = sum(cluster_sizes)\n",
    "batch_size = 20\n",
    "epochs = 1\n",
    "it = 1000\n",
    "G = generate_graph(cluster_sizes, pin, pout, seed)\n",
    "\n",
    "#nx.draw(G, with_labels=True, node_size=100, alpha=1, linewidths=10)\n",
    "#plt.show()"
   ]
  },
  {
   "cell_type": "code",
   "execution_count": 3,
   "id": "809e7c6f",
   "metadata": {},
   "outputs": [
    {
     "name": "stdout",
     "output_type": "stream",
     "text": [
      "[[0.         0.14285714 0.14285714 0.         0.14285714 0.16666667\n",
      "  0.         0.16666667 0.         0.         0.         0.\n",
      "  0.         0.         0.         0.         0.         0.\n",
      "  0.         0.        ]\n",
      " [0.14285714 0.         0.14285714 0.         0.14285714 0.\n",
      "  0.14285714 0.         0.14285714 0.         0.         0.\n",
      "  0.         0.         0.         0.         0.         0.\n",
      "  0.         0.14285714]\n",
      " [0.14285714 0.14285714 0.         0.14285714 0.         0.14285714\n",
      "  0.14285714 0.         0.         0.         0.         0.\n",
      "  0.         0.         0.         0.         0.         0.\n",
      "  0.         0.14285714]\n",
      " [0.         0.         0.14285714 0.         0.14285714 0.\n",
      "  0.14285714 0.         0.         0.         0.         0.\n",
      "  0.         0.         0.         0.         0.         0.\n",
      "  0.         0.        ]\n",
      " [0.14285714 0.14285714 0.         0.14285714 0.         0.\n",
      "  0.14285714 0.         0.14285714 0.         0.         0.\n",
      "  0.         0.         0.         0.         0.         0.\n",
      "  0.         0.14285714]\n",
      " [0.16666667 0.         0.14285714 0.         0.         0.\n",
      "  0.         0.         0.         0.         0.         0.\n",
      "  0.         0.         0.         0.         0.         0.\n",
      "  0.         0.16666667]\n",
      " [0.         0.14285714 0.14285714 0.14285714 0.14285714 0.\n",
      "  0.         0.         0.14285714 0.         0.         0.\n",
      "  0.         0.         0.         0.         0.         0.\n",
      "  0.         0.14285714]\n",
      " [0.16666667 0.         0.         0.         0.         0.\n",
      "  0.         0.         0.         0.         0.         0.\n",
      "  0.         0.         0.         0.         0.         0.\n",
      "  0.         0.        ]\n",
      " [0.         0.14285714 0.         0.         0.14285714 0.\n",
      "  0.14285714 0.         0.         0.         0.         0.\n",
      "  0.         0.16666667 0.         0.         0.         0.\n",
      "  0.         0.        ]\n",
      " [0.         0.         0.         0.         0.         0.\n",
      "  0.         0.         0.         0.         0.14285714 0.\n",
      "  0.14285714 0.14285714 0.125      0.14285714 0.         0.\n",
      "  0.14285714 0.        ]\n",
      " [0.         0.         0.         0.         0.         0.\n",
      "  0.         0.         0.         0.14285714 0.         0.\n",
      "  0.         0.         0.125      0.14285714 0.16666667 0.14285714\n",
      "  0.         0.        ]\n",
      " [0.         0.         0.         0.         0.         0.\n",
      "  0.         0.         0.         0.         0.         0.\n",
      "  0.         0.         0.         0.14285714 0.         0.14285714\n",
      "  0.         0.        ]\n",
      " [0.         0.         0.         0.         0.         0.\n",
      "  0.         0.         0.         0.14285714 0.         0.\n",
      "  0.         0.         0.125      0.14285714 0.         0.14285714\n",
      "  0.16666667 0.        ]\n",
      " [0.         0.         0.         0.         0.         0.\n",
      "  0.         0.         0.16666667 0.14285714 0.         0.\n",
      "  0.         0.         0.125      0.         0.         0.14285714\n",
      "  0.16666667 0.        ]\n",
      " [0.         0.         0.         0.         0.         0.\n",
      "  0.         0.         0.         0.125      0.125      0.\n",
      "  0.125      0.125      0.         0.125      0.125      0.125\n",
      "  0.         0.        ]\n",
      " [0.         0.         0.         0.         0.         0.\n",
      "  0.         0.         0.         0.14285714 0.14285714 0.14285714\n",
      "  0.14285714 0.         0.125      0.         0.14285714 0.\n",
      "  0.         0.        ]\n",
      " [0.         0.         0.         0.         0.         0.\n",
      "  0.         0.         0.         0.         0.16666667 0.\n",
      "  0.         0.         0.125      0.14285714 0.         0.14285714\n",
      "  0.         0.        ]\n",
      " [0.         0.         0.         0.         0.         0.\n",
      "  0.         0.         0.         0.         0.14285714 0.14285714\n",
      "  0.14285714 0.14285714 0.125      0.         0.14285714 0.\n",
      "  0.         0.        ]\n",
      " [0.         0.         0.         0.         0.         0.\n",
      "  0.         0.         0.         0.14285714 0.         0.\n",
      "  0.16666667 0.16666667 0.         0.         0.         0.\n",
      "  0.         0.        ]\n",
      " [0.         0.14285714 0.14285714 0.         0.14285714 0.16666667\n",
      "  0.14285714 0.         0.         0.         0.         0.\n",
      "  0.         0.         0.         0.         0.         0.\n",
      "  0.         0.        ]]\n",
      "[[0.23809524 0.14285714 0.14285714 0.         0.14285714 0.16666667\n",
      "  0.         0.16666667 0.         0.         0.         0.\n",
      "  0.         0.         0.         0.         0.         0.\n",
      "  0.         0.        ]\n",
      " [0.14285714 0.14285714 0.14285714 0.         0.14285714 0.\n",
      "  0.14285714 0.         0.14285714 0.         0.         0.\n",
      "  0.         0.         0.         0.         0.         0.\n",
      "  0.         0.14285714]\n",
      " [0.14285714 0.14285714 0.14285714 0.14285714 0.         0.14285714\n",
      "  0.14285714 0.         0.         0.         0.         0.\n",
      "  0.         0.         0.         0.         0.         0.\n",
      "  0.         0.14285714]\n",
      " [0.         0.         0.14285714 0.57142857 0.14285714 0.\n",
      "  0.14285714 0.         0.         0.         0.         0.\n",
      "  0.         0.         0.         0.         0.         0.\n",
      "  0.         0.        ]\n",
      " [0.14285714 0.14285714 0.         0.14285714 0.14285714 0.\n",
      "  0.14285714 0.         0.14285714 0.         0.         0.\n",
      "  0.         0.         0.         0.         0.         0.\n",
      "  0.         0.14285714]\n",
      " [0.16666667 0.         0.14285714 0.         0.         0.52380952\n",
      "  0.         0.         0.         0.         0.         0.\n",
      "  0.         0.         0.         0.         0.         0.\n",
      "  0.         0.16666667]\n",
      " [0.         0.14285714 0.14285714 0.14285714 0.14285714 0.\n",
      "  0.14285714 0.         0.14285714 0.         0.         0.\n",
      "  0.         0.         0.         0.         0.         0.\n",
      "  0.         0.14285714]\n",
      " [0.16666667 0.         0.         0.         0.         0.\n",
      "  0.         0.83333333 0.         0.         0.         0.\n",
      "  0.         0.         0.         0.         0.         0.\n",
      "  0.         0.        ]\n",
      " [0.         0.14285714 0.         0.         0.14285714 0.\n",
      "  0.14285714 0.         0.4047619  0.         0.         0.\n",
      "  0.         0.16666667 0.         0.         0.         0.\n",
      "  0.         0.        ]\n",
      " [0.         0.         0.         0.         0.         0.\n",
      "  0.         0.         0.         0.16071429 0.14285714 0.\n",
      "  0.14285714 0.14285714 0.125      0.14285714 0.         0.\n",
      "  0.14285714 0.        ]\n",
      " [0.         0.         0.         0.         0.         0.\n",
      "  0.         0.         0.         0.14285714 0.2797619  0.\n",
      "  0.         0.         0.125      0.14285714 0.16666667 0.14285714\n",
      "  0.         0.        ]\n",
      " [0.         0.         0.         0.         0.         0.\n",
      "  0.         0.         0.         0.         0.         0.71428571\n",
      "  0.         0.         0.         0.14285714 0.         0.14285714\n",
      "  0.         0.        ]\n",
      " [0.         0.         0.         0.         0.         0.\n",
      "  0.         0.         0.         0.14285714 0.         0.\n",
      "  0.2797619  0.         0.125      0.14285714 0.         0.14285714\n",
      "  0.16666667 0.        ]\n",
      " [0.         0.         0.         0.         0.         0.\n",
      "  0.         0.         0.16666667 0.14285714 0.         0.\n",
      "  0.         0.25595238 0.125      0.         0.         0.14285714\n",
      "  0.16666667 0.        ]\n",
      " [0.         0.         0.         0.         0.         0.\n",
      "  0.         0.         0.         0.125      0.125      0.\n",
      "  0.125      0.125      0.125      0.125      0.125      0.125\n",
      "  0.         0.        ]\n",
      " [0.         0.         0.         0.         0.         0.\n",
      "  0.         0.         0.         0.14285714 0.14285714 0.14285714\n",
      "  0.14285714 0.         0.125      0.16071429 0.14285714 0.\n",
      "  0.         0.        ]\n",
      " [0.         0.         0.         0.         0.         0.\n",
      "  0.         0.         0.         0.         0.16666667 0.\n",
      "  0.         0.         0.125      0.14285714 0.42261905 0.14285714\n",
      "  0.         0.        ]\n",
      " [0.         0.         0.         0.         0.         0.\n",
      "  0.         0.         0.         0.         0.14285714 0.14285714\n",
      "  0.14285714 0.14285714 0.125      0.         0.14285714 0.16071429\n",
      "  0.         0.        ]\n",
      " [0.         0.         0.         0.         0.         0.\n",
      "  0.         0.         0.         0.14285714 0.         0.\n",
      "  0.16666667 0.16666667 0.         0.         0.         0.\n",
      "  0.52380952 0.        ]\n",
      " [0.         0.14285714 0.14285714 0.         0.14285714 0.16666667\n",
      "  0.14285714 0.         0.         0.         0.         0.\n",
      "  0.         0.         0.         0.         0.         0.\n",
      "  0.         0.26190476]]\n"
     ]
    }
   ],
   "source": [
    "# Metropolis weights \n",
    "number_nodes = G.number_of_nodes()\n",
    "weights = np.zeros([number_nodes, number_nodes])\n",
    "for edge in G.edges():\n",
    "  i, j = edge[0], edge[1]\n",
    "  weights[i - 1][j - 1] = 1 / (1 + np.max([G.degree(i), G.degree(j)]))\n",
    "  weights[j - 1][i - 1] = weights[i - 1][j - 1]\n",
    "\n",
    "print(weights)\n",
    "\n",
    "weights = weights + np.diag(1 - np.sum(weights, axis=0))\n",
    "\n",
    "metropolis_weights = weights\n",
    "print(metropolis_weights)\n"
   ]
  },
  {
   "cell_type": "code",
   "execution_count": 4,
   "id": "26f67564",
   "metadata": {},
   "outputs": [],
   "source": [
    "def degrees(A):\n",
    "    \"\"\"Return the degrees of each node of a graph from its adjacency matrix\"\"\"\n",
    "    return np.sum(A, axis=0).reshape(A.shape[0], 1)\n",
    "\n",
    "def node_degree(n, G):\n",
    "    cnt = 0\n",
    "    for i in G.neighbors(n):\n",
    "        cnt += 1\n",
    "    return cnt\n",
    "\n",
    "def get_neighbors(n, G):\n",
    "    neighbors_list = []\n",
    "    for i in G.neighbors(n):\n",
    "        neighbors_list.append(int(i))\n",
    "    return neighbors_list"
   ]
  },
  {
   "cell_type": "code",
   "execution_count": 5,
   "id": "4861cc66",
   "metadata": {},
   "outputs": [
    {
     "name": "stdout",
     "output_type": "stream",
     "text": [
      "[5, 5, 6, 6, 3, 6, 3, 6, 1, 4, 6, 5, 2, 5, 5, 7, 6, 4, 6, 3]\n",
      "2\n",
      "3\n",
      "5\n",
      "6\n",
      "7\n"
     ]
    }
   ],
   "source": [
    "degree_list = [G.degree(i) for i in range(no_users)]\n",
    "print(degree_list)\n",
    "\n",
    "for i in G.neighbors(0):\n",
    "    print(i)"
   ]
  },
  {
   "cell_type": "code",
   "execution_count": 6,
   "id": "dbc31eff",
   "metadata": {},
   "outputs": [],
   "source": [
    "datapoints = {}\n",
    "count = 0\n",
    "W1 = np.array([2, 2])\n",
    "W2 = np.array([-2, 2])\n",
    "W = [W1, W2]\n",
    "m = 200\n",
    "n = 2\n",
    "noise_sd = 0.001\n",
    "for i, cluster_size in enumerate(cluster_sizes):\n",
    "    for j in range(cluster_size):\n",
    "        features = np.random.normal(loc=0.0, scale=1.0, size=(m, n))\n",
    "        label = np.dot(features, W[i]) + np.random.normal(0,noise_sd)\n",
    "        datapoints[count] = {\n",
    "                'features': features,\n",
    "                'degree': node_degree(count, G),\n",
    "                'label': label,\n",
    "                'neighbors': get_neighbors(count, G),\n",
    "                'exact_weights': torch.from_numpy(W[i])\n",
    "            }\n",
    "        count += 1"
   ]
  },
  {
   "cell_type": "code",
   "execution_count": 7,
   "id": "3c2530b1",
   "metadata": {},
   "outputs": [],
   "source": [
    "class MyDataset(Dataset):\n",
    "    def __init__(self, data, targets, transform=None):\n",
    "        self.data = torch.FloatTensor(data)\n",
    "        self.targets = torch.FloatTensor(targets).unsqueeze(-1)\n",
    "        \n",
    "    def __getitem__(self, index):\n",
    "        x = self.data[index]\n",
    "        y = self.targets[index]\n",
    "\n",
    "        return x, y\n",
    "    \n",
    "    def __len__(self):\n",
    "        return len(self.data)\n"
   ]
  },
  {
   "cell_type": "code",
   "execution_count": 8,
   "id": "1d84bf7c",
   "metadata": {},
   "outputs": [],
   "source": [
    "class MLP_Net(nn.Module):\n",
    "    def __init__(self, user_id):\n",
    "        super(MLP_Net, self).__init__()\n",
    "        self.fc1 = nn.Linear(2, 1, bias=False)\n",
    "        #self.fc2 = nn.Linear(4, 1, bias=False)\n",
    "        #self.fc3 = nn.Linear(200, 10)\n",
    "        self.user_id = user_id\n",
    "\n",
    "    def forward(self, x):\n",
    "        x = torch.flatten(x, 1)\n",
    "        #x = F.relu(self.fc1(x))\n",
    "        output = self.fc1(x)\n",
    "        #output = self.fc3(x)\n",
    "        return output"
   ]
  },
  {
   "cell_type": "code",
   "execution_count": 9,
   "id": "f93f4bbc",
   "metadata": {},
   "outputs": [],
   "source": [
    "from typing import Iterable, Optional\n",
    "\n",
    "def grads_to_vector(parameters: Iterable[torch.Tensor]) -> torch.Tensor:\n",
    "    r\"\"\"Convert parameters to one vector\n",
    "\n",
    "    Args:\n",
    "        parameters (Iterable[Tensor]): an iterator of Tensors that are the\n",
    "            parameters of a model.\n",
    "\n",
    "    Returns:\n",
    "        The parameters represented by a single vector\n",
    "    \"\"\"\n",
    "    # Flag for the device where the parameter is located\n",
    "    param_device = None\n",
    "\n",
    "    vec = []\n",
    "    for param in parameters:\n",
    "        # Ensure the parameters are located in the same device\n",
    "        param_device = param.grad\n",
    "\n",
    "        vec.append(param_device.view(-1))\n",
    "    return torch.cat(vec)"
   ]
  },
  {
   "cell_type": "code",
   "execution_count": 10,
   "id": "9cd3a679",
   "metadata": {},
   "outputs": [
    {
     "name": "stdout",
     "output_type": "stream",
     "text": [
      "torch.Size([50, 1])\n",
      "torch.Size([50, 1])\n",
      "0 tensor(8.8567, grad_fn=<MseLossBackward0>) tensor([ 3.8131, -3.3254]) tensor([ 0.3650, -0.6148], grad_fn=<CatBackward0>)\n",
      "torch.Size([50, 1])\n",
      "torch.Size([50, 1])\n",
      "0 tensor(15.8825, grad_fn=<MseLossBackward0>) tensor([ 5.4840, -7.3619]) tensor([ 0.3269, -0.5815], grad_fn=<CatBackward0>)\n",
      "torch.Size([50, 1])\n",
      "torch.Size([50, 1])\n",
      "0 tensor(12.3863, grad_fn=<MseLossBackward0>) tensor([ 3.7551, -6.4766]) tensor([ 0.2721, -0.5079], grad_fn=<CatBackward0>)\n",
      "torch.Size([50, 1])\n",
      "torch.Size([50, 1])\n",
      "0 tensor(8.6644, grad_fn=<MseLossBackward0>) tensor([ 3.2384, -4.1309]) tensor([ 0.2345, -0.4432], grad_fn=<CatBackward0>)\n",
      "torch.Size([50, 1])\n",
      "torch.Size([50, 1])\n",
      "1 tensor(7.5777, grad_fn=<MseLossBackward0>) tensor([ 3.5601, -3.0459]) tensor([ 0.2021, -0.4019], grad_fn=<CatBackward0>)\n",
      "torch.Size([50, 1])\n",
      "torch.Size([50, 1])\n",
      "1 tensor(13.5490, grad_fn=<MseLossBackward0>) tensor([ 5.0929, -6.7743]) tensor([ 0.1665, -0.3714], grad_fn=<CatBackward0>)\n",
      "torch.Size([50, 1])\n",
      "torch.Size([50, 1])\n",
      "1 tensor(10.5498, grad_fn=<MseLossBackward0>) tensor([ 3.4924, -5.9527]) tensor([ 0.1156, -0.3036], grad_fn=<CatBackward0>)\n",
      "torch.Size([50, 1])\n",
      "torch.Size([50, 1])\n",
      "1 tensor(7.3946, grad_fn=<MseLossBackward0>) tensor([ 3.0172, -3.7928]) tensor([ 0.0807, -0.2441], grad_fn=<CatBackward0>)\n",
      "torch.Size([50, 1])\n",
      "torch.Size([50, 1])\n",
      "2 tensor(6.4850, grad_fn=<MseLossBackward0>) tensor([ 3.3238, -2.7896]) tensor([ 0.0505, -0.2062], grad_fn=<CatBackward0>)\n",
      "torch.Size([50, 1])\n",
      "torch.Size([50, 1])\n",
      "2 tensor(11.5600, grad_fn=<MseLossBackward0>) tensor([ 4.7300, -6.2337]) tensor([ 0.0173, -0.1783], grad_fn=<CatBackward0>)\n",
      "torch.Size([50, 1])\n",
      "torch.Size([50, 1])\n",
      "2 tensor(8.9869, grad_fn=<MseLossBackward0>) tensor([ 3.2482, -5.4711]) tensor([-0.0300, -0.1160], grad_fn=<CatBackward0>)\n",
      "torch.Size([50, 1])\n",
      "torch.Size([50, 1])\n",
      "2 tensor(6.3122, grad_fn=<MseLossBackward0>) tensor([ 2.8111, -3.4822]) tensor([-0.0625, -0.0612], grad_fn=<CatBackward0>)\n",
      "torch.Size([50, 1])\n",
      "torch.Size([50, 1])\n",
      "3 tensor(5.5511, grad_fn=<MseLossBackward0>) tensor([ 3.1032, -2.5547]) tensor([-0.0906, -0.0264], grad_fn=<CatBackward0>)\n",
      "torch.Size([50, 1])\n",
      "torch.Size([50, 1])\n",
      "3 tensor(9.8645, grad_fn=<MseLossBackward0>) tensor([ 4.3932, -5.7363]) tensor([-0.1217, -0.0009], grad_fn=<CatBackward0>)\n",
      "torch.Size([50, 1])\n",
      "torch.Size([50, 1])\n",
      "3 tensor(7.6567, grad_fn=<MseLossBackward0>) tensor([ 3.0212, -5.0284]) tensor([-0.1656,  0.0565], grad_fn=<CatBackward0>)\n",
      "torch.Size([50, 1])\n",
      "torch.Size([50, 1])\n",
      "3 tensor(5.3892, grad_fn=<MseLossBackward0>) tensor([ 2.6192, -3.1970]) tensor([-0.1958,  0.1068], grad_fn=<CatBackward0>)\n",
      "torch.Size([50, 1])\n",
      "torch.Size([50, 1])\n",
      "4 tensor(4.7528, grad_fn=<MseLossBackward0>) tensor([ 2.8973, -2.3394]) tensor([-0.2220,  0.1387], grad_fn=<CatBackward0>)\n",
      "torch.Size([50, 1])\n",
      "torch.Size([50, 1])\n",
      "4 tensor(8.4188, grad_fn=<MseLossBackward0>) tensor([ 4.0805, -5.2785]) tensor([-0.2510,  0.1621], grad_fn=<CatBackward0>)\n",
      "torch.Size([50, 1])\n",
      "torch.Size([50, 1])\n",
      "4 tensor(6.5244, grad_fn=<MseLossBackward0>) tensor([ 2.8101, -4.6215]) tensor([-0.2918,  0.2149], grad_fn=<CatBackward0>)\n",
      "torch.Size([50, 1])\n",
      "torch.Size([50, 1])\n",
      "4 tensor(4.6020, grad_fn=<MseLossBackward0>) tensor([ 2.4404, -2.9350]) tensor([-0.3199,  0.2611], grad_fn=<CatBackward0>)\n",
      "torch.Size([50, 1])\n",
      "torch.Size([50, 1])\n",
      "5 tensor(4.0702, grad_fn=<MseLossBackward0>) tensor([ 2.7050, -2.1420]) tensor([-0.3443,  0.2905], grad_fn=<CatBackward0>)\n",
      "torch.Size([50, 1])\n",
      "torch.Size([50, 1])\n",
      "5 tensor(7.1861, grad_fn=<MseLossBackward0>) tensor([ 3.7902, -4.8573]) tensor([-0.3713,  0.3119], grad_fn=<CatBackward0>)\n",
      "torch.Size([50, 1])\n",
      "torch.Size([50, 1])\n",
      "5 tensor(5.5603, grad_fn=<MseLossBackward0>) tensor([ 2.6139, -4.2474]) tensor([-0.4092,  0.3605], grad_fn=<CatBackward0>)\n",
      "torch.Size([50, 1])\n",
      "torch.Size([50, 1])\n",
      "5 tensor(3.9306, grad_fn=<MseLossBackward0>) tensor([ 2.2739, -2.6945]) tensor([-0.4354,  0.4029], grad_fn=<CatBackward0>)\n",
      "torch.Size([50, 1])\n",
      "torch.Size([50, 1])\n",
      "6 tensor(3.4865, grad_fn=<MseLossBackward0>) tensor([ 2.5254, -1.9611]) tensor([-0.4581,  0.4299], grad_fn=<CatBackward0>)\n",
      "torch.Size([50, 1])\n",
      "torch.Size([50, 1])\n",
      "6 tensor(6.1349, grad_fn=<MseLossBackward0>) tensor([ 3.5208, -4.4698]) tensor([-0.4834,  0.4495], grad_fn=<CatBackward0>)\n",
      "torch.Size([50, 1])\n",
      "torch.Size([50, 1])\n",
      "6 tensor(4.7395, grad_fn=<MseLossBackward0>) tensor([ 2.4315, -3.9036]) tensor([-0.5186,  0.4942], grad_fn=<CatBackward0>)\n",
      "torch.Size([50, 1])\n",
      "torch.Size([50, 1])\n",
      "6 tensor(3.3578, grad_fn=<MseLossBackward0>) tensor([ 2.1188, -2.4735]) tensor([-0.5429,  0.5332], grad_fn=<CatBackward0>)\n",
      "torch.Size([50, 1])\n",
      "torch.Size([50, 1])\n",
      "7 tensor(2.9872, grad_fn=<MseLossBackward0>) tensor([ 2.3578, -1.7953]) tensor([-0.5641,  0.5580], grad_fn=<CatBackward0>)\n",
      "torch.Size([50, 1])\n",
      "torch.Size([50, 1])\n",
      "7 tensor(5.2382, grad_fn=<MseLossBackward0>) tensor([ 3.2707, -4.1131]) tensor([-0.5877,  0.5759], grad_fn=<CatBackward0>)\n",
      "torch.Size([50, 1])\n",
      "torch.Size([50, 1])\n",
      "7 tensor(4.0405, grad_fn=<MseLossBackward0>) tensor([ 2.2619, -3.5875]) tensor([-0.6204,  0.6171], grad_fn=<CatBackward0>)\n",
      "torch.Size([50, 1])\n",
      "torch.Size([50, 1])\n",
      "7 tensor(2.8690, grad_fn=<MseLossBackward0>) tensor([ 1.9743, -2.2706]) tensor([-0.6430,  0.6529], grad_fn=<CatBackward0>)\n",
      "torch.Size([50, 1])\n",
      "torch.Size([50, 1])\n",
      "8 tensor(2.5601, grad_fn=<MseLossBackward0>) tensor([ 2.2012, -1.6434]) tensor([-0.6627,  0.6756], grad_fn=<CatBackward0>)\n",
      "torch.Size([50, 1])\n",
      "torch.Size([50, 1])\n",
      "8 tensor(4.4733, grad_fn=<MseLossBackward0>) tensor([ 3.0385, -3.7850]) tensor([-0.6847,  0.6921], grad_fn=<CatBackward0>)\n",
      "torch.Size([50, 1])\n",
      "torch.Size([50, 1])\n",
      "8 tensor(3.4451, grad_fn=<MseLossBackward0>) tensor([ 2.1042, -3.2970]) tensor([-0.7151,  0.7299], grad_fn=<CatBackward0>)\n",
      "torch.Size([50, 1])\n",
      "torch.Size([50, 1])\n",
      "8 tensor(2.4518, grad_fn=<MseLossBackward0>) tensor([ 1.8397, -2.0843]) tensor([-0.7362,  0.7629], grad_fn=<CatBackward0>)\n",
      "torch.Size([50, 1])\n",
      "torch.Size([50, 1])\n",
      "9 tensor(2.1945, grad_fn=<MseLossBackward0>) tensor([ 2.0551, -1.5042]) tensor([-0.7546,  0.7837], grad_fn=<CatBackward0>)\n",
      "torch.Size([50, 1])\n",
      "torch.Size([50, 1])\n",
      "9 tensor(3.8207, grad_fn=<MseLossBackward0>) tensor([ 2.8229, -3.4830]) tensor([-0.7751,  0.7988], grad_fn=<CatBackward0>)\n",
      "torch.Size([50, 1])\n",
      "torch.Size([50, 1])\n",
      "9 tensor(2.9379, grad_fn=<MseLossBackward0>) tensor([ 1.9576, -3.0300]) tensor([-0.8033,  0.8336], grad_fn=<CatBackward0>)\n",
      "torch.Size([50, 1])\n",
      "torch.Size([50, 1])\n",
      "9 tensor(2.0958, grad_fn=<MseLossBackward0>) tensor([ 1.7143, -1.9132]) tensor([-0.8229,  0.8639], grad_fn=<CatBackward0>)\n",
      "torch.Size([50, 1])\n",
      "torch.Size([50, 1])\n",
      "10 tensor(1.8816, grad_fn=<MseLossBackward0>) tensor([ 1.9186, -1.3767]) tensor([-0.8401,  0.8830], grad_fn=<CatBackward0>)\n",
      "torch.Size([50, 1])\n",
      "torch.Size([50, 1])\n",
      "10 tensor(3.2638, grad_fn=<MseLossBackward0>) tensor([ 2.6227, -3.2052]) tensor([-0.8593,  0.8968], grad_fn=<CatBackward0>)\n",
      "torch.Size([50, 1])\n",
      "torch.Size([50, 1])\n",
      "10 tensor(2.5058, grad_fn=<MseLossBackward0>) tensor([ 1.8213, -2.7845]) tensor([-0.8855,  0.9289], grad_fn=<CatBackward0>)\n",
      "torch.Size([50, 1])\n",
      "torch.Size([50, 1])\n",
      "10 tensor(1.7918, grad_fn=<MseLossBackward0>) tensor([ 1.5975, -1.7561]) tensor([-0.9037,  0.9567], grad_fn=<CatBackward0>)\n",
      "torch.Size([50, 1])\n",
      "torch.Size([50, 1])\n",
      "11 tensor(1.6137, grad_fn=<MseLossBackward0>) tensor([ 1.7912, -1.2598]) tensor([-0.9197,  0.9743], grad_fn=<CatBackward0>)\n",
      "torch.Size([50, 1])\n",
      "torch.Size([50, 1])\n",
      "11 tensor(2.7885, grad_fn=<MseLossBackward0>) tensor([ 2.4368, -2.9495]) tensor([-0.9376,  0.9869], grad_fn=<CatBackward0>)\n",
      "torch.Size([50, 1])\n",
      "torch.Size([50, 1])\n",
      "11 tensor(2.1376, grad_fn=<MseLossBackward0>) tensor([ 1.6945, -2.5589]) tensor([-0.9619,  1.0164], grad_fn=<CatBackward0>)\n",
      "torch.Size([50, 1])\n",
      "torch.Size([50, 1])\n",
      "11 tensor(1.5322, grad_fn=<MseLossBackward0>) tensor([ 1.4887, -1.6118]) tensor([-0.9789,  1.0419], grad_fn=<CatBackward0>)\n",
      "torch.Size([50, 1])\n",
      "torch.Size([50, 1])\n",
      "12 tensor(1.3842, grad_fn=<MseLossBackward0>) tensor([ 1.6723, -1.1528]) tensor([-0.9938,  1.0581], grad_fn=<CatBackward0>)\n",
      "torch.Size([50, 1])\n",
      "torch.Size([50, 1])\n",
      "12 tensor(2.3828, grad_fn=<MseLossBackward0>) tensor([ 2.2642, -2.7142]) tensor([-1.0105,  1.0696], grad_fn=<CatBackward0>)\n",
      "torch.Size([50, 1])\n",
      "torch.Size([50, 1])\n",
      "12 tensor(1.8238, grad_fn=<MseLossBackward0>) tensor([ 1.5766, -2.3515]) tensor([-1.0331,  1.0967], grad_fn=<CatBackward0>)\n",
      "torch.Size([50, 1])\n",
      "torch.Size([50, 1])\n",
      "12 tensor(1.3105, grad_fn=<MseLossBackward0>) tensor([ 1.3873, -1.4793]) tensor([-1.0489,  1.1202], grad_fn=<CatBackward0>)\n",
      "torch.Size([50, 1])\n",
      "torch.Size([50, 1])\n",
      "13 tensor(1.1877, grad_fn=<MseLossBackward0>) tensor([ 1.5612, -1.0547]) tensor([-1.0628,  1.1350], grad_fn=<CatBackward0>)\n",
      "torch.Size([50, 1])\n",
      "torch.Size([50, 1])\n",
      "13 tensor(2.0365, grad_fn=<MseLossBackward0>) tensor([ 2.1040, -2.4977]) tensor([-1.0784,  1.1456], grad_fn=<CatBackward0>)\n",
      "torch.Size([50, 1])\n",
      "torch.Size([50, 1])\n",
      "13 tensor(1.5564, grad_fn=<MseLossBackward0>) tensor([ 1.4669, -2.1609]) tensor([-1.0994,  1.1706], grad_fn=<CatBackward0>)\n",
      "torch.Size([50, 1])\n",
      "torch.Size([50, 1])\n",
      "13 tensor(1.1211, grad_fn=<MseLossBackward0>) tensor([ 1.2929, -1.3577]) tensor([-1.1141,  1.1922], grad_fn=<CatBackward0>)\n",
      "torch.Size([50, 1])\n",
      "torch.Size([50, 1])\n",
      "14 tensor(1.0193, grad_fn=<MseLossBackward0>) tensor([ 1.4575, -0.9649]) tensor([-1.1270,  1.2058], grad_fn=<CatBackward0>)\n",
      "torch.Size([50, 1])\n",
      "torch.Size([50, 1])\n",
      "14 tensor(1.7408, grad_fn=<MseLossBackward0>) tensor([ 1.9551, -2.2985]) tensor([-1.1416,  1.2154], grad_fn=<CatBackward0>)\n",
      "torch.Size([50, 1])\n",
      "torch.Size([50, 1])\n",
      "14 tensor(1.3284, grad_fn=<MseLossBackward0>) tensor([ 1.3650, -1.9857]) tensor([-1.1612,  1.2384], grad_fn=<CatBackward0>)\n",
      "torch.Size([50, 1])\n",
      "torch.Size([50, 1])\n",
      "14 tensor(0.9593, grad_fn=<MseLossBackward0>) tensor([ 1.2049, -1.2460]) tensor([-1.1748,  1.2582], grad_fn=<CatBackward0>)\n",
      "torch.Size([50, 1])\n",
      "torch.Size([50, 1])\n",
      "15 tensor(0.8750, grad_fn=<MseLossBackward0>) tensor([ 1.3607, -0.8826]) tensor([-1.1869,  1.2707], grad_fn=<CatBackward0>)\n",
      "torch.Size([50, 1])\n",
      "torch.Size([50, 1])\n",
      "15 tensor(1.4882, grad_fn=<MseLossBackward0>) tensor([ 1.8169, -2.1152]) tensor([-1.2005,  1.2795], grad_fn=<CatBackward0>)\n",
      "torch.Size([50, 1])\n",
      "torch.Size([50, 1])\n",
      "15 tensor(1.1339, grad_fn=<MseLossBackward0>) tensor([ 1.2701, -1.8247]) tensor([-1.2186,  1.3007], grad_fn=<CatBackward0>)\n",
      "torch.Size([50, 1])\n",
      "torch.Size([50, 1])\n",
      "15 tensor(0.8210, grad_fn=<MseLossBackward0>) tensor([ 1.1229, -1.1435]) tensor([-1.2313,  1.3189], grad_fn=<CatBackward0>)\n",
      "torch.Size([50, 1])\n",
      "torch.Size([50, 1])\n",
      "16 tensor(0.7513, grad_fn=<MseLossBackward0>) tensor([ 1.2703, -0.8073]) tensor([-1.2426,  1.3304], grad_fn=<CatBackward0>)\n",
      "torch.Size([50, 1])\n",
      "torch.Size([50, 1])\n",
      "16 tensor(1.2726, grad_fn=<MseLossBackward0>) tensor([ 1.6885, -1.9465]) tensor([-1.2553,  1.3384], grad_fn=<CatBackward0>)\n",
      "torch.Size([50, 1])\n",
      "torch.Size([50, 1])\n",
      "16 tensor(0.9682, grad_fn=<MseLossBackward0>) tensor([ 1.1819, -1.6767]) tensor([-1.2721,  1.3579], grad_fn=<CatBackward0>)\n",
      "torch.Size([50, 1])\n",
      "torch.Size([50, 1])\n",
      "16 tensor(0.7028, grad_fn=<MseLossBackward0>) tensor([ 1.0465, -1.0493]) tensor([-1.2840,  1.3747], grad_fn=<CatBackward0>)\n",
      "torch.Size([50, 1])\n",
      "torch.Size([50, 1])\n",
      "17 tensor(0.6453, grad_fn=<MseLossBackward0>) tensor([ 1.1859, -0.7383]) tensor([-1.2944,  1.3852], grad_fn=<CatBackward0>)\n",
      "torch.Size([50, 1])\n",
      "torch.Size([50, 1])\n",
      "17 tensor(1.0883, grad_fn=<MseLossBackward0>) tensor([ 1.5693, -1.7912]) tensor([-1.3063,  1.3925], grad_fn=<CatBackward0>)\n",
      "torch.Size([50, 1])\n",
      "torch.Size([50, 1])\n",
      "17 tensor(0.8268, grad_fn=<MseLossBackward0>) tensor([ 1.0999, -1.5406]) tensor([-1.3220,  1.4105], grad_fn=<CatBackward0>)\n",
      "torch.Size([50, 1])\n",
      "torch.Size([50, 1])\n",
      "17 tensor(0.6017, grad_fn=<MseLossBackward0>) tensor([ 0.9753, -0.9629]) tensor([-1.3330,  1.4259], grad_fn=<CatBackward0>)\n",
      "torch.Size([50, 1])\n",
      "torch.Size([50, 1])\n",
      "18 tensor(0.5543, grad_fn=<MseLossBackward0>) tensor([ 1.1071, -0.6751]) tensor([-1.3427,  1.4355], grad_fn=<CatBackward0>)\n",
      "torch.Size([50, 1])\n",
      "torch.Size([50, 1])\n",
      "18 tensor(0.9309, grad_fn=<MseLossBackward0>) tensor([ 1.4585, -1.6484]) tensor([-1.3538,  1.4422], grad_fn=<CatBackward0>)\n",
      "torch.Size([50, 1])\n",
      "torch.Size([50, 1])\n",
      "18 tensor(0.7061, grad_fn=<MseLossBackward0>) tensor([ 1.0235, -1.4156]) tensor([-1.3684,  1.4587], grad_fn=<CatBackward0>)\n",
      "torch.Size([50, 1])\n",
      "torch.Size([50, 1])\n",
      "18 tensor(0.5153, grad_fn=<MseLossBackward0>) tensor([ 0.9090, -0.8836]) tensor([-1.3786,  1.4729], grad_fn=<CatBackward0>)\n",
      "torch.Size([50, 1])\n",
      "torch.Size([50, 1])\n",
      "19 tensor(0.4763, grad_fn=<MseLossBackward0>) tensor([ 1.0335, -0.6173]) tensor([-1.3877,  1.4817], grad_fn=<CatBackward0>)\n",
      "torch.Size([50, 1])\n",
      "torch.Size([50, 1])\n",
      "19 tensor(0.7964, grad_fn=<MseLossBackward0>) tensor([ 1.3557, -1.5170]) tensor([-1.3981,  1.4879], grad_fn=<CatBackward0>)\n",
      "torch.Size([50, 1])\n",
      "torch.Size([50, 1])\n"
     ]
    },
    {
     "name": "stdout",
     "output_type": "stream",
     "text": [
      "19 tensor(0.6032, grad_fn=<MseLossBackward0>) tensor([ 0.9525, -1.3007]) tensor([-1.4116,  1.5031], grad_fn=<CatBackward0>)\n",
      "torch.Size([50, 1])\n",
      "torch.Size([50, 1])\n",
      "19 tensor(0.4414, grad_fn=<MseLossBackward0>) tensor([ 0.8472, -0.8107]) tensor([-1.4211,  1.5161], grad_fn=<CatBackward0>)\n",
      "torch.Size([50, 1])\n",
      "torch.Size([50, 1])\n",
      "20 tensor(0.4094, grad_fn=<MseLossBackward0>) tensor([ 0.9648, -0.5643]) tensor([-1.4296,  1.5242], grad_fn=<CatBackward0>)\n",
      "torch.Size([50, 1])\n",
      "torch.Size([50, 1])\n",
      "20 tensor(0.6814, grad_fn=<MseLossBackward0>) tensor([ 1.2601, -1.3960]) tensor([-1.4393,  1.5298], grad_fn=<CatBackward0>)\n",
      "torch.Size([50, 1])\n",
      "torch.Size([50, 1])\n",
      "20 tensor(0.5154, grad_fn=<MseLossBackward0>) tensor([ 0.8865, -1.1951]) tensor([-1.4519,  1.5438], grad_fn=<CatBackward0>)\n",
      "torch.Size([50, 1])\n",
      "torch.Size([50, 1])\n",
      "20 tensor(0.3781, grad_fn=<MseLossBackward0>) tensor([ 0.7896, -0.7439]) tensor([-1.4607,  1.5557], grad_fn=<CatBackward0>)\n",
      "torch.Size([50, 1])\n",
      "torch.Size([50, 1])\n",
      "21 tensor(0.3519, grad_fn=<MseLossBackward0>) tensor([ 0.9007, -0.5158]) tensor([-1.4686,  1.5632], grad_fn=<CatBackward0>)\n",
      "torch.Size([50, 1])\n",
      "torch.Size([50, 1])\n",
      "21 tensor(0.5832, grad_fn=<MseLossBackward0>) tensor([ 1.1713, -1.2847]) tensor([-1.4776,  1.5683], grad_fn=<CatBackward0>)\n",
      "torch.Size([50, 1])\n",
      "torch.Size([50, 1])\n",
      "21 tensor(0.4404, grad_fn=<MseLossBackward0>) tensor([ 0.8251, -1.0981]) tensor([-1.4893,  1.5812], grad_fn=<CatBackward0>)\n",
      "torch.Size([50, 1])\n",
      "torch.Size([50, 1])\n",
      "21 tensor(0.3240, grad_fn=<MseLossBackward0>) tensor([ 0.7359, -0.6825]) tensor([-1.4976,  1.5922], grad_fn=<CatBackward0>)\n",
      "torch.Size([50, 1])\n",
      "torch.Size([50, 1])\n",
      "22 tensor(0.3026, grad_fn=<MseLossBackward0>) tensor([ 0.8408, -0.4715]) tensor([-1.5049,  1.5990], grad_fn=<CatBackward0>)\n",
      "torch.Size([50, 1])\n",
      "torch.Size([50, 1])\n",
      "22 tensor(0.4992, grad_fn=<MseLossBackward0>) tensor([ 1.0889, -1.1822]) tensor([-1.5134,  1.6037], grad_fn=<CatBackward0>)\n",
      "torch.Size([50, 1])\n",
      "torch.Size([50, 1])\n",
      "22 tensor(0.3765, grad_fn=<MseLossBackward0>) tensor([ 0.7679, -1.0089]) tensor([-1.5242,  1.6155], grad_fn=<CatBackward0>)\n",
      "torch.Size([50, 1])\n",
      "torch.Size([50, 1])\n",
      "22 tensor(0.2777, grad_fn=<MseLossBackward0>) tensor([ 0.6860, -0.6262]) tensor([-1.5319,  1.6256], grad_fn=<CatBackward0>)\n",
      "torch.Size([50, 1])\n",
      "torch.Size([50, 1])\n",
      "23 tensor(0.2603, grad_fn=<MseLossBackward0>) tensor([ 0.7849, -0.4308]) tensor([-1.5388,  1.6319], grad_fn=<CatBackward0>)\n",
      "torch.Size([50, 1])\n",
      "torch.Size([50, 1])\n",
      "23 tensor(0.4274, grad_fn=<MseLossBackward0>) tensor([ 1.0122, -1.0880]) tensor([-1.5466,  1.6362], grad_fn=<CatBackward0>)\n",
      "torch.Size([50, 1])\n",
      "torch.Size([50, 1])\n",
      "23 tensor(0.3218, grad_fn=<MseLossBackward0>) tensor([ 0.7147, -0.9269]) tensor([-1.5568,  1.6471], grad_fn=<CatBackward0>)\n",
      "torch.Size([50, 1])\n",
      "torch.Size([50, 1])\n",
      "23 tensor(0.2381, grad_fn=<MseLossBackward0>) tensor([ 0.6394, -0.5744]) tensor([-1.5639,  1.6563], grad_fn=<CatBackward0>)\n",
      "torch.Size([50, 1])\n",
      "torch.Size([50, 1])\n",
      "24 tensor(0.2239, grad_fn=<MseLossBackward0>) tensor([ 0.7328, -0.3937]) tensor([-1.5703,  1.6621], grad_fn=<CatBackward0>)\n",
      "torch.Size([50, 1])\n",
      "torch.Size([50, 1])\n",
      "24 tensor(0.3659, grad_fn=<MseLossBackward0>) tensor([ 0.9411, -1.0012]) tensor([-1.5776,  1.6660], grad_fn=<CatBackward0>)\n",
      "torch.Size([50, 1])\n",
      "torch.Size([50, 1])\n",
      "24 tensor(0.2752, grad_fn=<MseLossBackward0>) tensor([ 0.6653, -0.8516]) tensor([-1.5870,  1.6760], grad_fn=<CatBackward0>)\n",
      "torch.Size([50, 1])\n",
      "torch.Size([50, 1])\n",
      "24 tensor(0.2042, grad_fn=<MseLossBackward0>) tensor([ 0.5959, -0.5270]) tensor([-1.5937,  1.6845], grad_fn=<CatBackward0>)\n",
      "torch.Size([50, 1])\n",
      "torch.Size([50, 1])\n",
      "25 tensor(0.1927, grad_fn=<MseLossBackward0>) tensor([ 0.6840, -0.3597]) tensor([-1.5996,  1.6898], grad_fn=<CatBackward0>)\n",
      "torch.Size([50, 1])\n",
      "torch.Size([50, 1])\n",
      "25 tensor(0.3134, grad_fn=<MseLossBackward0>) tensor([ 0.8749, -0.9214]) tensor([-1.6065,  1.6934], grad_fn=<CatBackward0>)\n",
      "torch.Size([50, 1])\n",
      "torch.Size([50, 1])\n",
      "25 tensor(0.2353, grad_fn=<MseLossBackward0>) tensor([ 0.6193, -0.7824]) tensor([-1.6152,  1.7026], grad_fn=<CatBackward0>)\n",
      "torch.Size([50, 1])\n",
      "torch.Size([50, 1])\n",
      "25 tensor(0.1751, grad_fn=<MseLossBackward0>) tensor([ 0.5555, -0.4834]) tensor([-1.6214,  1.7104], grad_fn=<CatBackward0>)\n",
      "torch.Size([50, 1])\n",
      "torch.Size([50, 1])\n",
      "26 tensor(0.1658, grad_fn=<MseLossBackward0>) tensor([ 0.6385, -0.3286]) tensor([-1.6270,  1.7153], grad_fn=<CatBackward0>)\n",
      "torch.Size([50, 1])\n",
      "torch.Size([50, 1])\n",
      "26 tensor(0.2684, grad_fn=<MseLossBackward0>) tensor([ 0.8135, -0.8480]) tensor([-1.6334,  1.7186], grad_fn=<CatBackward0>)\n",
      "torch.Size([50, 1])\n",
      "torch.Size([50, 1])\n",
      "26 tensor(0.2013, grad_fn=<MseLossBackward0>) tensor([ 0.5764, -0.7188]) tensor([-1.6415,  1.7270], grad_fn=<CatBackward0>)\n",
      "torch.Size([50, 1])\n",
      "torch.Size([50, 1])\n",
      "26 tensor(0.1502, grad_fn=<MseLossBackward0>) tensor([ 0.5178, -0.4434]) tensor([-1.6473,  1.7342], grad_fn=<CatBackward0>)\n",
      "torch.Size([50, 1])\n",
      "torch.Size([50, 1])\n",
      "27 tensor(0.1428, grad_fn=<MseLossBackward0>) tensor([ 0.5961, -0.3001]) tensor([-1.6524,  1.7387], grad_fn=<CatBackward0>)\n",
      "torch.Size([50, 1])\n",
      "torch.Size([50, 1])\n",
      "27 tensor(0.2300, grad_fn=<MseLossBackward0>) tensor([ 0.7564, -0.7804]) tensor([-1.6584,  1.7417], grad_fn=<CatBackward0>)\n",
      "torch.Size([50, 1])\n",
      "torch.Size([50, 1])\n",
      "27 tensor(0.1722, grad_fn=<MseLossBackward0>) tensor([ 0.5366, -0.6603]) tensor([-1.6660,  1.7495], grad_fn=<CatBackward0>)\n",
      "torch.Size([50, 1])\n",
      "torch.Size([50, 1])\n",
      "27 tensor(0.1289, grad_fn=<MseLossBackward0>) tensor([ 0.4826, -0.4067]) tensor([-1.6713,  1.7561], grad_fn=<CatBackward0>)\n",
      "torch.Size([50, 1])\n",
      "torch.Size([50, 1])\n",
      "28 tensor(0.1229, grad_fn=<MseLossBackward0>) tensor([ 0.5564, -0.2740]) tensor([-1.6762,  1.7601], grad_fn=<CatBackward0>)\n",
      "torch.Size([50, 1])\n",
      "torch.Size([50, 1])\n",
      "28 tensor(0.1971, grad_fn=<MseLossBackward0>) tensor([ 0.7033, -0.7182]) tensor([-1.6817,  1.7629], grad_fn=<CatBackward0>)\n",
      "torch.Size([50, 1])\n",
      "torch.Size([50, 1])\n",
      "28 tensor(0.1474, grad_fn=<MseLossBackward0>) tensor([ 0.4995, -0.6066]) tensor([-1.6888,  1.7701], grad_fn=<CatBackward0>)\n",
      "torch.Size([50, 1])\n",
      "torch.Size([50, 1])\n",
      "28 tensor(0.1106, grad_fn=<MseLossBackward0>) tensor([ 0.4499, -0.3731]) tensor([-1.6938,  1.7761], grad_fn=<CatBackward0>)\n",
      "torch.Size([50, 1])\n",
      "torch.Size([50, 1])\n",
      "29 tensor(0.1059, grad_fn=<MseLossBackward0>) tensor([ 0.5194, -0.2502]) tensor([-1.6983,  1.7799], grad_fn=<CatBackward0>)\n",
      "torch.Size([50, 1])\n",
      "torch.Size([50, 1])\n",
      "29 tensor(0.1689, grad_fn=<MseLossBackward0>) tensor([ 0.6540, -0.6609]) tensor([-1.7034,  1.7824], grad_fn=<CatBackward0>)\n",
      "torch.Size([50, 1])\n",
      "torch.Size([50, 1])\n",
      "29 tensor(0.1261, grad_fn=<MseLossBackward0>) tensor([ 0.4650, -0.5572]) tensor([-1.7100,  1.7890], grad_fn=<CatBackward0>)\n",
      "torch.Size([50, 1])\n",
      "torch.Size([50, 1])\n",
      "29 tensor(0.0950, grad_fn=<MseLossBackward0>) tensor([ 0.4194, -0.3422]) tensor([-1.7146,  1.7945], grad_fn=<CatBackward0>)\n",
      "torch.Size([50, 1])\n",
      "torch.Size([50, 1])\n",
      "30 tensor(0.0912, grad_fn=<MseLossBackward0>) tensor([ 0.4849, -0.2284]) tensor([-1.7188,  1.7980], grad_fn=<CatBackward0>)\n",
      "torch.Size([50, 1])\n",
      "torch.Size([50, 1])\n",
      "30 tensor(0.1448, grad_fn=<MseLossBackward0>) tensor([ 0.6082, -0.6082]) tensor([-1.7237,  1.8002], grad_fn=<CatBackward0>)\n",
      "torch.Size([50, 1])\n",
      "torch.Size([50, 1])\n",
      "30 tensor(0.1080, grad_fn=<MseLossBackward0>) tensor([ 0.4329, -0.5119]) tensor([-1.7298,  1.8063], grad_fn=<CatBackward0>)\n",
      "torch.Size([50, 1])\n",
      "torch.Size([50, 1])\n",
      "30 tensor(0.0816, grad_fn=<MseLossBackward0>) tensor([ 0.3909, -0.3138]) tensor([-1.7341,  1.8114], grad_fn=<CatBackward0>)\n",
      "torch.Size([50, 1])\n",
      "torch.Size([50, 1])\n",
      "31 tensor(0.0786, grad_fn=<MseLossBackward0>) tensor([ 0.4526, -0.2085]) tensor([-1.7380,  1.8146], grad_fn=<CatBackward0>)\n",
      "torch.Size([50, 1])\n",
      "torch.Size([50, 1])\n",
      "31 tensor(0.1241, grad_fn=<MseLossBackward0>) tensor([ 0.5656, -0.5597]) tensor([-1.7425,  1.8167], grad_fn=<CatBackward0>)\n",
      "torch.Size([50, 1])\n",
      "torch.Size([50, 1])\n",
      "31 tensor(0.0925, grad_fn=<MseLossBackward0>) tensor([ 0.4030, -0.4702]) tensor([-1.7482,  1.8223], grad_fn=<CatBackward0>)\n",
      "torch.Size([50, 1])\n",
      "torch.Size([50, 1])\n",
      "31 tensor(0.0700, grad_fn=<MseLossBackward0>) tensor([ 0.3644, -0.2878]) tensor([-1.7522,  1.8270], grad_fn=<CatBackward0>)\n",
      "torch.Size([50, 1])\n",
      "torch.Size([50, 1])\n",
      "32 tensor(0.0677, grad_fn=<MseLossBackward0>) tensor([ 0.4225, -0.1903]) tensor([-1.7559,  1.8298], grad_fn=<CatBackward0>)\n",
      "torch.Size([50, 1])\n",
      "torch.Size([50, 1])\n",
      "32 tensor(0.1064, grad_fn=<MseLossBackward0>) tensor([ 0.5260, -0.5151]) tensor([-1.7601,  1.8317], grad_fn=<CatBackward0>)\n",
      "torch.Size([50, 1])\n",
      "torch.Size([50, 1])\n",
      "32 tensor(0.0792, grad_fn=<MseLossBackward0>) tensor([ 0.3752, -0.4319]) tensor([-1.7653,  1.8369], grad_fn=<CatBackward0>)\n",
      "torch.Size([50, 1])\n",
      "torch.Size([50, 1])\n",
      "32 tensor(0.0602, grad_fn=<MseLossBackward0>) tensor([ 0.3397, -0.2639]) tensor([-1.7691,  1.8412], grad_fn=<CatBackward0>)\n",
      "torch.Size([50, 1])\n",
      "torch.Size([50, 1])\n",
      "33 tensor(0.0584, grad_fn=<MseLossBackward0>) tensor([ 0.3944, -0.1737]) tensor([-1.7725,  1.8439], grad_fn=<CatBackward0>)\n",
      "torch.Size([50, 1])\n",
      "torch.Size([50, 1])\n",
      "33 tensor(0.0913, grad_fn=<MseLossBackward0>) tensor([ 0.4892, -0.4741]) tensor([-1.7764,  1.8456], grad_fn=<CatBackward0>)\n",
      "torch.Size([50, 1])\n",
      "torch.Size([50, 1])\n"
     ]
    },
    {
     "name": "stdout",
     "output_type": "stream",
     "text": [
      "33 tensor(0.0678, grad_fn=<MseLossBackward0>) tensor([ 0.3494, -0.3967]) tensor([-1.7813,  1.8503], grad_fn=<CatBackward0>)\n",
      "torch.Size([50, 1])\n",
      "torch.Size([50, 1])\n",
      "33 tensor(0.0517, grad_fn=<MseLossBackward0>) tensor([ 0.3167, -0.2420]) tensor([-1.7848,  1.8543], grad_fn=<CatBackward0>)\n",
      "torch.Size([50, 1])\n",
      "torch.Size([50, 1])\n",
      "34 tensor(0.0504, grad_fn=<MseLossBackward0>) tensor([ 0.3681, -0.1585]) tensor([-1.7880,  1.8567], grad_fn=<CatBackward0>)\n",
      "torch.Size([50, 1])\n",
      "torch.Size([50, 1])\n",
      "34 tensor(0.0783, grad_fn=<MseLossBackward0>) tensor([ 0.4550, -0.4363]) tensor([-1.7917,  1.8583], grad_fn=<CatBackward0>)\n",
      "torch.Size([50, 1])\n",
      "torch.Size([50, 1])\n",
      "34 tensor(0.0581, grad_fn=<MseLossBackward0>) tensor([ 0.3253, -0.3644]) tensor([-1.7962,  1.8627], grad_fn=<CatBackward0>)\n",
      "torch.Size([50, 1])\n",
      "torch.Size([50, 1])\n",
      "34 tensor(0.0444, grad_fn=<MseLossBackward0>) tensor([ 0.2952, -0.2219]) tensor([-1.7995,  1.8663], grad_fn=<CatBackward0>)\n",
      "torch.Size([50, 1])\n",
      "torch.Size([50, 1])\n",
      "35 tensor(0.0434, grad_fn=<MseLossBackward0>) tensor([ 0.3436, -0.1445]) tensor([-1.8024,  1.8685], grad_fn=<CatBackward0>)\n",
      "torch.Size([50, 1])\n",
      "torch.Size([50, 1])\n",
      "35 tensor(0.0672, grad_fn=<MseLossBackward0>) tensor([ 0.4232, -0.4015]) tensor([-1.8059,  1.8700], grad_fn=<CatBackward0>)\n",
      "torch.Size([50, 1])\n",
      "torch.Size([50, 1])\n",
      "35 tensor(0.0498, grad_fn=<MseLossBackward0>) tensor([ 0.3029, -0.3346]) tensor([-1.8101,  1.8740], grad_fn=<CatBackward0>)\n",
      "torch.Size([50, 1])\n",
      "torch.Size([50, 1])\n",
      "35 tensor(0.0382, grad_fn=<MseLossBackward0>) tensor([ 0.2752, -0.2035]) tensor([-1.8131,  1.8773], grad_fn=<CatBackward0>)\n",
      "torch.Size([50, 1])\n",
      "torch.Size([50, 1])\n",
      "36 tensor(0.0375, grad_fn=<MseLossBackward0>) tensor([ 0.3208, -0.1318]) tensor([-1.8159,  1.8794], grad_fn=<CatBackward0>)\n",
      "torch.Size([50, 1])\n",
      "torch.Size([50, 1])\n",
      "36 tensor(0.0577, grad_fn=<MseLossBackward0>) tensor([ 0.3937, -0.3695]) tensor([-1.8191,  1.8807], grad_fn=<CatBackward0>)\n",
      "torch.Size([50, 1])\n",
      "torch.Size([50, 1])\n",
      "36 tensor(0.0427, grad_fn=<MseLossBackward0>) tensor([ 0.2820, -0.3073]) tensor([-1.8230,  1.8844], grad_fn=<CatBackward0>)\n",
      "torch.Size([50, 1])\n",
      "torch.Size([50, 1])\n",
      "36 tensor(0.0328, grad_fn=<MseLossBackward0>) tensor([ 0.2566, -0.1866]) tensor([-1.8258,  1.8875], grad_fn=<CatBackward0>)\n",
      "torch.Size([50, 1])\n",
      "torch.Size([50, 1])\n",
      "37 tensor(0.0323, grad_fn=<MseLossBackward0>) tensor([ 0.2994, -0.1202]) tensor([-1.8284,  1.8893], grad_fn=<CatBackward0>)\n",
      "torch.Size([50, 1])\n",
      "torch.Size([50, 1])\n",
      "37 tensor(0.0495, grad_fn=<MseLossBackward0>) tensor([ 0.3662, -0.3400]) tensor([-1.8314,  1.8905], grad_fn=<CatBackward0>)\n",
      "torch.Size([50, 1])\n",
      "torch.Size([50, 1])\n",
      "37 tensor(0.0366, grad_fn=<MseLossBackward0>) tensor([ 0.2626, -0.2823]) tensor([-1.8351,  1.8939], grad_fn=<CatBackward0>)\n",
      "torch.Size([50, 1])\n",
      "torch.Size([50, 1])\n",
      "37 tensor(0.0282, grad_fn=<MseLossBackward0>) tensor([ 0.2392, -0.1710]) tensor([-1.8377,  1.8968], grad_fn=<CatBackward0>)\n",
      "torch.Size([50, 1])\n",
      "torch.Size([50, 1])\n",
      "38 tensor(0.0279, grad_fn=<MseLossBackward0>) tensor([ 0.2795, -0.1096]) tensor([-1.8401,  1.8985], grad_fn=<CatBackward0>)\n",
      "torch.Size([50, 1])\n",
      "torch.Size([50, 1])\n",
      "38 tensor(0.0425, grad_fn=<MseLossBackward0>) tensor([ 0.3406, -0.3129]) tensor([-1.8429,  1.8996], grad_fn=<CatBackward0>)\n",
      "torch.Size([50, 1])\n",
      "torch.Size([50, 1])\n",
      "38 tensor(0.0314, grad_fn=<MseLossBackward0>) tensor([ 0.2445, -0.2592]) tensor([-1.8463,  1.9027], grad_fn=<CatBackward0>)\n",
      "torch.Size([50, 1])\n",
      "torch.Size([50, 1])\n",
      "38 tensor(0.0243, grad_fn=<MseLossBackward0>) tensor([ 0.2230, -0.1568]) tensor([-1.8487,  1.9053], grad_fn=<CatBackward0>)\n",
      "torch.Size([50, 1])\n",
      "torch.Size([50, 1])\n",
      "39 tensor(0.0241, grad_fn=<MseLossBackward0>) tensor([ 0.2609, -0.0999]) tensor([-1.8510,  1.9068], grad_fn=<CatBackward0>)\n",
      "torch.Size([50, 1])\n",
      "torch.Size([50, 1])\n",
      "39 tensor(0.0365, grad_fn=<MseLossBackward0>) tensor([ 0.3169, -0.2880]) tensor([-1.8536,  1.9078], grad_fn=<CatBackward0>)\n",
      "torch.Size([50, 1])\n",
      "torch.Size([50, 1])\n",
      "39 tensor(0.0269, grad_fn=<MseLossBackward0>) tensor([ 0.2277, -0.2380]) tensor([-1.8567,  1.9107], grad_fn=<CatBackward0>)\n",
      "torch.Size([50, 1])\n",
      "torch.Size([50, 1])\n",
      "39 tensor(0.0209, grad_fn=<MseLossBackward0>) tensor([ 0.2079, -0.1438]) tensor([-1.8590,  1.9131], grad_fn=<CatBackward0>)\n",
      "torch.Size([50, 1])\n",
      "torch.Size([50, 1])\n",
      "40 tensor(0.0208, grad_fn=<MseLossBackward0>) tensor([ 0.2435, -0.0911]) tensor([-1.8611,  1.9145], grad_fn=<CatBackward0>)\n",
      "torch.Size([50, 1])\n",
      "torch.Size([50, 1])\n",
      "40 tensor(0.0313, grad_fn=<MseLossBackward0>) tensor([ 0.2948, -0.2650]) tensor([-1.8635,  1.9155], grad_fn=<CatBackward0>)\n",
      "torch.Size([50, 1])\n",
      "torch.Size([50, 1])\n",
      "40 tensor(0.0231, grad_fn=<MseLossBackward0>) tensor([ 0.2120, -0.2186]) tensor([-1.8665,  1.9181], grad_fn=<CatBackward0>)\n",
      "torch.Size([50, 1])\n",
      "torch.Size([50, 1])\n",
      "40 tensor(0.0180, grad_fn=<MseLossBackward0>) tensor([ 0.1938, -0.1318]) tensor([-1.8686,  1.9203], grad_fn=<CatBackward0>)\n",
      "torch.Size([50, 1])\n",
      "torch.Size([50, 1])\n",
      "41 tensor(0.0179, grad_fn=<MseLossBackward0>) tensor([ 0.2273, -0.0830]) tensor([-1.8705,  1.9216], grad_fn=<CatBackward0>)\n",
      "torch.Size([50, 1])\n",
      "torch.Size([50, 1])\n",
      "41 tensor(0.0269, grad_fn=<MseLossBackward0>) tensor([ 0.2743, -0.2439]) tensor([-1.8728,  1.9224], grad_fn=<CatBackward0>)\n",
      "torch.Size([50, 1])\n",
      "torch.Size([50, 1])\n",
      "41 tensor(0.0198, grad_fn=<MseLossBackward0>) tensor([ 0.1975, -0.2007]) tensor([-1.8755,  1.9249], grad_fn=<CatBackward0>)\n",
      "torch.Size([50, 1])\n",
      "torch.Size([50, 1])\n",
      "41 tensor(0.0155, grad_fn=<MseLossBackward0>) tensor([ 0.1807, -0.1208]) tensor([-1.8775,  1.9269], grad_fn=<CatBackward0>)\n",
      "torch.Size([50, 1])\n",
      "torch.Size([50, 1])\n",
      "42 tensor(0.0155, grad_fn=<MseLossBackward0>) tensor([ 0.2121, -0.0756]) tensor([-1.8793,  1.9281], grad_fn=<CatBackward0>)\n",
      "torch.Size([50, 1])\n",
      "torch.Size([50, 1])\n",
      "42 tensor(0.0231, grad_fn=<MseLossBackward0>) tensor([ 0.2552, -0.2244]) tensor([-1.8814,  1.9288], grad_fn=<CatBackward0>)\n",
      "torch.Size([50, 1])\n",
      "torch.Size([50, 1])\n",
      "42 tensor(0.0170, grad_fn=<MseLossBackward0>) tensor([ 0.1839, -0.1843]) tensor([-1.8840,  1.9311], grad_fn=<CatBackward0>)\n",
      "torch.Size([50, 1])\n",
      "torch.Size([50, 1])\n",
      "42 tensor(0.0133, grad_fn=<MseLossBackward0>) tensor([ 0.1684, -0.1107]) tensor([-1.8858,  1.9329], grad_fn=<CatBackward0>)\n",
      "torch.Size([50, 1])\n",
      "torch.Size([50, 1])\n",
      "43 tensor(0.0134, grad_fn=<MseLossBackward0>) tensor([ 0.1980, -0.0689]) tensor([-1.8875,  1.9340], grad_fn=<CatBackward0>)\n",
      "torch.Size([50, 1])\n",
      "torch.Size([50, 1])\n",
      "43 tensor(0.0199, grad_fn=<MseLossBackward0>) tensor([ 0.2375, -0.2065]) tensor([-1.8895,  1.9347], grad_fn=<CatBackward0>)\n",
      "torch.Size([50, 1])\n",
      "torch.Size([50, 1])\n",
      "43 tensor(0.0146, grad_fn=<MseLossBackward0>) tensor([ 0.1713, -0.1692]) tensor([-1.8919,  1.9368], grad_fn=<CatBackward0>)\n",
      "torch.Size([50, 1])\n",
      "torch.Size([50, 1])\n",
      "43 tensor(0.0115, grad_fn=<MseLossBackward0>) tensor([ 0.1570, -0.1015]) tensor([-1.8936,  1.9385], grad_fn=<CatBackward0>)\n",
      "torch.Size([50, 1])\n",
      "torch.Size([50, 1])\n",
      "44 tensor(0.0116, grad_fn=<MseLossBackward0>) tensor([ 0.1848, -0.0627]) tensor([-1.8952,  1.9395], grad_fn=<CatBackward0>)\n",
      "torch.Size([50, 1])\n",
      "torch.Size([50, 1])\n",
      "44 tensor(0.0171, grad_fn=<MseLossBackward0>) tensor([ 0.2210, -0.1901]) tensor([-1.8970,  1.9401], grad_fn=<CatBackward0>)\n",
      "torch.Size([50, 1])\n",
      "torch.Size([50, 1])\n",
      "44 tensor(0.0125, grad_fn=<MseLossBackward0>) tensor([ 0.1595, -0.1554]) tensor([-1.8992,  1.9420], grad_fn=<CatBackward0>)\n",
      "torch.Size([50, 1])\n",
      "torch.Size([50, 1])\n",
      "44 tensor(0.0099, grad_fn=<MseLossBackward0>) tensor([ 0.1464, -0.0930]) tensor([-1.9008,  1.9436], grad_fn=<CatBackward0>)\n",
      "torch.Size([50, 1])\n",
      "torch.Size([50, 1])\n",
      "45 tensor(0.0100, grad_fn=<MseLossBackward0>) tensor([ 0.1725, -0.0571]) tensor([-1.9023,  1.9445], grad_fn=<CatBackward0>)\n",
      "torch.Size([50, 1])\n",
      "torch.Size([50, 1])\n",
      "45 tensor(0.0147, grad_fn=<MseLossBackward0>) tensor([ 0.2056, -0.1749]) tensor([-1.9040,  1.9451], grad_fn=<CatBackward0>)\n",
      "torch.Size([50, 1])\n",
      "torch.Size([50, 1])\n",
      "45 tensor(0.0107, grad_fn=<MseLossBackward0>) tensor([ 0.1485, -0.1426]) tensor([-1.9061,  1.9468], grad_fn=<CatBackward0>)\n",
      "torch.Size([50, 1])\n",
      "torch.Size([50, 1])\n",
      "45 tensor(0.0085, grad_fn=<MseLossBackward0>) tensor([ 0.1365, -0.0853]) tensor([-1.9075,  1.9483], grad_fn=<CatBackward0>)\n",
      "torch.Size([50, 1])\n",
      "torch.Size([50, 1])\n",
      "46 tensor(0.0086, grad_fn=<MseLossBackward0>) tensor([ 0.1610, -0.0520]) tensor([-1.9089,  1.9491], grad_fn=<CatBackward0>)\n",
      "torch.Size([50, 1])\n",
      "torch.Size([50, 1])\n",
      "46 tensor(0.0126, grad_fn=<MseLossBackward0>) tensor([ 0.1914, -0.1610]) tensor([-1.9105,  1.9496], grad_fn=<CatBackward0>)\n",
      "torch.Size([50, 1])\n",
      "torch.Size([50, 1])\n",
      "46 tensor(0.0092, grad_fn=<MseLossBackward0>) tensor([ 0.1383, -0.1309]) tensor([-1.9124,  1.9512], grad_fn=<CatBackward0>)\n",
      "torch.Size([50, 1])\n",
      "torch.Size([50, 1])\n",
      "46 tensor(0.0073, grad_fn=<MseLossBackward0>) tensor([ 0.1273, -0.0781]) tensor([-1.9138,  1.9526], grad_fn=<CatBackward0>)\n",
      "torch.Size([50, 1])\n",
      "torch.Size([50, 1])\n",
      "47 tensor(0.0075, grad_fn=<MseLossBackward0>) tensor([ 0.1502, -0.0473]) tensor([-1.9151,  1.9533], grad_fn=<CatBackward0>)\n",
      "torch.Size([50, 1])\n",
      "torch.Size([50, 1])\n",
      "47 tensor(0.0109, grad_fn=<MseLossBackward0>) tensor([ 0.1781, -0.1481]) tensor([-1.9166,  1.9538], grad_fn=<CatBackward0>)\n",
      "torch.Size([50, 1])\n",
      "torch.Size([50, 1])\n",
      "47 tensor(0.0079, grad_fn=<MseLossBackward0>) tensor([ 0.1289, -0.1202]) tensor([-1.9184,  1.9553], grad_fn=<CatBackward0>)\n",
      "torch.Size([50, 1])\n",
      "torch.Size([50, 1])\n",
      "47 tensor(0.0063, grad_fn=<MseLossBackward0>) tensor([ 0.1187, -0.0716]) tensor([-1.9197,  1.9565], grad_fn=<CatBackward0>)\n",
      "torch.Size([50, 1])\n",
      "torch.Size([50, 1])\n",
      "48 tensor(0.0065, grad_fn=<MseLossBackward0>) tensor([ 0.1402, -0.0431]) tensor([-1.9208,  1.9572], grad_fn=<CatBackward0>)\n",
      "torch.Size([50, 1])\n",
      "torch.Size([50, 1])\n",
      "48 tensor(0.0093, grad_fn=<MseLossBackward0>) tensor([ 0.1658, -0.1363]) tensor([-1.9222,  1.9576], grad_fn=<CatBackward0>)\n",
      "torch.Size([50, 1])\n",
      "torch.Size([50, 1])\n",
      "48 tensor(0.0068, grad_fn=<MseLossBackward0>) tensor([ 0.1200, -0.1103]) tensor([-1.9239,  1.9590], grad_fn=<CatBackward0>)\n",
      "torch.Size([50, 1])\n",
      "torch.Size([50, 1])\n",
      "48 tensor(0.0054, grad_fn=<MseLossBackward0>) tensor([ 0.1106, -0.0656]) tensor([-1.9251,  1.9601], grad_fn=<CatBackward0>)\n",
      "torch.Size([50, 1])\n",
      "torch.Size([50, 1])\n",
      "49 tensor(0.0056, grad_fn=<MseLossBackward0>) tensor([ 0.1309, -0.0392]) tensor([-1.9262,  1.9608], grad_fn=<CatBackward0>)\n",
      "torch.Size([50, 1])\n",
      "torch.Size([50, 1])\n",
      "49 tensor(0.0080, grad_fn=<MseLossBackward0>) tensor([ 0.1543, -0.1254]) tensor([-1.9275,  1.9612], grad_fn=<CatBackward0>)\n",
      "torch.Size([50, 1])\n",
      "torch.Size([50, 1])\n",
      "49 tensor(0.0059, grad_fn=<MseLossBackward0>) tensor([ 0.1118, -0.1013]) tensor([-1.9291,  1.9624], grad_fn=<CatBackward0>)\n",
      "torch.Size([50, 1])\n",
      "torch.Size([50, 1])\n",
      "49 tensor(0.0047, grad_fn=<MseLossBackward0>) tensor([ 0.1031, -0.0601]) tensor([-1.9302,  1.9634], grad_fn=<CatBackward0>)\n",
      "torch.Size([50, 1])\n",
      "torch.Size([50, 1])\n",
      "50 tensor(0.0048, grad_fn=<MseLossBackward0>) tensor([ 0.1221, -0.0356]) tensor([-1.9312,  1.9640], grad_fn=<CatBackward0>)\n",
      "torch.Size([50, 1])\n",
      "torch.Size([50, 1])\n",
      "50 tensor(0.0069, grad_fn=<MseLossBackward0>) tensor([ 0.1436, -0.1154]) tensor([-1.9324,  1.9644], grad_fn=<CatBackward0>)\n",
      "torch.Size([50, 1])\n",
      "torch.Size([50, 1])\n",
      "50 tensor(0.0050, grad_fn=<MseLossBackward0>) tensor([ 0.1041, -0.0929]) tensor([-1.9339,  1.9655], grad_fn=<CatBackward0>)\n",
      "torch.Size([50, 1])\n",
      "torch.Size([50, 1])\n",
      "50 tensor(0.0041, grad_fn=<MseLossBackward0>) tensor([ 0.0962, -0.0551]) tensor([-1.9349,  1.9665], grad_fn=<CatBackward0>)\n",
      "torch.Size([50, 1])\n",
      "torch.Size([50, 1])\n",
      "51 tensor(0.0042, grad_fn=<MseLossBackward0>) tensor([ 0.1140, -0.0324]) tensor([-1.9359,  1.9670], grad_fn=<CatBackward0>)\n",
      "torch.Size([50, 1])\n",
      "torch.Size([50, 1])\n",
      "51 tensor(0.0059, grad_fn=<MseLossBackward0>) tensor([ 0.1337, -0.1062]) tensor([-1.9370,  1.9673], grad_fn=<CatBackward0>)\n",
      "torch.Size([50, 1])\n",
      "torch.Size([50, 1])\n",
      "51 tensor(0.0043, grad_fn=<MseLossBackward0>) tensor([ 0.0970, -0.0853]) tensor([-1.9383,  1.9684], grad_fn=<CatBackward0>)\n",
      "torch.Size([50, 1])\n",
      "torch.Size([50, 1])\n",
      "51 tensor(0.0035, grad_fn=<MseLossBackward0>) tensor([ 0.0897, -0.0505]) tensor([-1.9393,  1.9692], grad_fn=<CatBackward0>)\n",
      "torch.Size([50, 1])\n",
      "torch.Size([50, 1])\n",
      "52 tensor(0.0036, grad_fn=<MseLossBackward0>) tensor([ 0.1064, -0.0295]) tensor([-1.9402,  1.9698], grad_fn=<CatBackward0>)\n",
      "torch.Size([50, 1])\n",
      "torch.Size([50, 1])\n",
      "52 tensor(0.0051, grad_fn=<MseLossBackward0>) tensor([ 0.1245, -0.0977]) tensor([-1.9413,  1.9700], grad_fn=<CatBackward0>)\n",
      "torch.Size([50, 1])\n",
      "torch.Size([50, 1])\n",
      "52 tensor(0.0037, grad_fn=<MseLossBackward0>) tensor([ 0.0903, -0.0783]) tensor([-1.9425,  1.9710], grad_fn=<CatBackward0>)\n",
      "torch.Size([50, 1])\n",
      "torch.Size([50, 1])\n",
      "52 tensor(0.0030, grad_fn=<MseLossBackward0>) tensor([ 0.0836, -0.0463]) tensor([-1.9434,  1.9718], grad_fn=<CatBackward0>)\n",
      "torch.Size([50, 1])\n",
      "torch.Size([50, 1])\n",
      "53 tensor(0.0031, grad_fn=<MseLossBackward0>) tensor([ 0.0993, -0.0268]) tensor([-1.9443,  1.9723], grad_fn=<CatBackward0>)\n",
      "torch.Size([50, 1])\n",
      "torch.Size([50, 1])\n",
      "53 tensor(0.0044, grad_fn=<MseLossBackward0>) tensor([ 0.1159, -0.0899]) tensor([-1.9453,  1.9725], grad_fn=<CatBackward0>)\n",
      "torch.Size([50, 1])\n",
      "torch.Size([50, 1])\n",
      "53 tensor(0.0032, grad_fn=<MseLossBackward0>) tensor([ 0.0842, -0.0718]) tensor([-1.9464,  1.9734], grad_fn=<CatBackward0>)\n",
      "torch.Size([50, 1])\n",
      "torch.Size([50, 1])\n",
      "53 tensor(0.0026, grad_fn=<MseLossBackward0>) tensor([ 0.0779, -0.0424]) tensor([-1.9473,  1.9742], grad_fn=<CatBackward0>)\n",
      "torch.Size([50, 1])\n",
      "torch.Size([50, 1])\n",
      "54 tensor(0.0027, grad_fn=<MseLossBackward0>) tensor([ 0.0926, -0.0244]) tensor([-1.9480,  1.9746], grad_fn=<CatBackward0>)\n"
     ]
    },
    {
     "name": "stdout",
     "output_type": "stream",
     "text": [
      "torch.Size([50, 1])\n",
      "torch.Size([50, 1])\n",
      "54 tensor(0.0038, grad_fn=<MseLossBackward0>) tensor([ 0.1079, -0.0827]) tensor([-1.9490,  1.9748], grad_fn=<CatBackward0>)\n",
      "torch.Size([50, 1])\n",
      "torch.Size([50, 1])\n",
      "54 tensor(0.0028, grad_fn=<MseLossBackward0>) tensor([ 0.0784, -0.0659]) tensor([-1.9500,  1.9757], grad_fn=<CatBackward0>)\n",
      "torch.Size([50, 1])\n",
      "torch.Size([50, 1])\n",
      "54 tensor(0.0022, grad_fn=<MseLossBackward0>) tensor([ 0.0727, -0.0388]) tensor([-1.9508,  1.9763], grad_fn=<CatBackward0>)\n",
      "torch.Size([50, 1])\n",
      "torch.Size([50, 1])\n",
      "55 tensor(0.0023, grad_fn=<MseLossBackward0>) tensor([ 0.0864, -0.0221]) tensor([-1.9516,  1.9767], grad_fn=<CatBackward0>)\n",
      "torch.Size([50, 1])\n",
      "torch.Size([50, 1])\n",
      "55 tensor(0.0033, grad_fn=<MseLossBackward0>) tensor([ 0.1004, -0.0761]) tensor([-1.9524,  1.9769], grad_fn=<CatBackward0>)\n",
      "torch.Size([50, 1])\n",
      "torch.Size([50, 1])\n",
      "55 tensor(0.0024, grad_fn=<MseLossBackward0>) tensor([ 0.0730, -0.0605]) tensor([-1.9534,  1.9777], grad_fn=<CatBackward0>)\n",
      "torch.Size([50, 1])\n",
      "torch.Size([50, 1])\n",
      "55 tensor(0.0019, grad_fn=<MseLossBackward0>) tensor([ 0.0678, -0.0356]) tensor([-1.9542,  1.9783], grad_fn=<CatBackward0>)\n",
      "torch.Size([50, 1])\n",
      "torch.Size([50, 1])\n",
      "56 tensor(0.0020, grad_fn=<MseLossBackward0>) tensor([ 0.0807, -0.0201]) tensor([-1.9548,  1.9786], grad_fn=<CatBackward0>)\n",
      "torch.Size([50, 1])\n",
      "torch.Size([50, 1])\n",
      "56 tensor(0.0028, grad_fn=<MseLossBackward0>) tensor([ 0.0935, -0.0700]) tensor([-1.9556,  1.9788], grad_fn=<CatBackward0>)\n",
      "torch.Size([50, 1])\n",
      "torch.Size([50, 1])\n",
      "56 tensor(0.0020, grad_fn=<MseLossBackward0>) tensor([ 0.0680, -0.0555]) tensor([-1.9566,  1.9795], grad_fn=<CatBackward0>)\n",
      "torch.Size([50, 1])\n",
      "torch.Size([50, 1])\n",
      "56 tensor(0.0017, grad_fn=<MseLossBackward0>) tensor([ 0.0632, -0.0326]) tensor([-1.9572,  1.9801], grad_fn=<CatBackward0>)\n",
      "torch.Size([50, 1])\n",
      "torch.Size([50, 1])\n",
      "57 tensor(0.0018, grad_fn=<MseLossBackward0>) tensor([ 0.0753, -0.0183]) tensor([-1.9579,  1.9804], grad_fn=<CatBackward0>)\n",
      "torch.Size([50, 1])\n",
      "torch.Size([50, 1])\n",
      "57 tensor(0.0024, grad_fn=<MseLossBackward0>) tensor([ 0.0871, -0.0644]) tensor([-1.9586,  1.9806], grad_fn=<CatBackward0>)\n",
      "torch.Size([50, 1])\n",
      "torch.Size([50, 1])\n",
      "57 tensor(0.0018, grad_fn=<MseLossBackward0>) tensor([ 0.0634, -0.0509]) tensor([-1.9595,  1.9813], grad_fn=<CatBackward0>)\n",
      "torch.Size([50, 1])\n",
      "torch.Size([50, 1])\n",
      "57 tensor(0.0014, grad_fn=<MseLossBackward0>) tensor([ 0.0589, -0.0299]) tensor([-1.9601,  1.9818], grad_fn=<CatBackward0>)\n",
      "torch.Size([50, 1])\n",
      "torch.Size([50, 1])\n",
      "58 tensor(0.0015, grad_fn=<MseLossBackward0>) tensor([ 0.0702, -0.0166]) tensor([-1.9607,  1.9821], grad_fn=<CatBackward0>)\n",
      "torch.Size([50, 1])\n",
      "torch.Size([50, 1])\n",
      "58 tensor(0.0021, grad_fn=<MseLossBackward0>) tensor([ 0.0811, -0.0593]) tensor([-1.9614,  1.9822], grad_fn=<CatBackward0>)\n",
      "torch.Size([50, 1])\n",
      "torch.Size([50, 1])\n",
      "58 tensor(0.0015, grad_fn=<MseLossBackward0>) tensor([ 0.0591, -0.0466]) tensor([-1.9622,  1.9828], grad_fn=<CatBackward0>)\n",
      "torch.Size([50, 1])\n",
      "torch.Size([50, 1])\n",
      "58 tensor(0.0012, grad_fn=<MseLossBackward0>) tensor([ 0.0549, -0.0274]) tensor([-1.9628,  1.9833], grad_fn=<CatBackward0>)\n",
      "torch.Size([50, 1])\n",
      "torch.Size([50, 1])\n",
      "59 tensor(0.0013, grad_fn=<MseLossBackward0>) tensor([ 0.0655, -0.0151]) tensor([-1.9634,  1.9836], grad_fn=<CatBackward0>)\n",
      "torch.Size([50, 1])\n",
      "torch.Size([50, 1])\n",
      "59 tensor(0.0018, grad_fn=<MseLossBackward0>) tensor([ 0.0755, -0.0545]) tensor([-1.9640,  1.9837], grad_fn=<CatBackward0>)\n",
      "torch.Size([50, 1])\n",
      "torch.Size([50, 1])\n",
      "59 tensor(0.0013, grad_fn=<MseLossBackward0>) tensor([ 0.0550, -0.0428]) tensor([-1.9648,  1.9843], grad_fn=<CatBackward0>)\n",
      "torch.Size([50, 1])\n",
      "torch.Size([50, 1])\n",
      "59 tensor(0.0011, grad_fn=<MseLossBackward0>) tensor([ 0.0512, -0.0251]) tensor([-1.9653,  1.9847], grad_fn=<CatBackward0>)\n",
      "torch.Size([50, 1])\n",
      "torch.Size([50, 1])\n",
      "60 tensor(0.0011, grad_fn=<MseLossBackward0>) tensor([ 0.0611, -0.0137]) tensor([-1.9659,  1.9849], grad_fn=<CatBackward0>)\n",
      "torch.Size([50, 1])\n",
      "torch.Size([50, 1])\n",
      "60 tensor(0.0016, grad_fn=<MseLossBackward0>) tensor([ 0.0704, -0.0501]) tensor([-1.9665,  1.9851], grad_fn=<CatBackward0>)\n",
      "torch.Size([50, 1])\n",
      "torch.Size([50, 1])\n",
      "60 tensor(0.0011, grad_fn=<MseLossBackward0>) tensor([ 0.0513, -0.0392]) tensor([-1.9672,  1.9856], grad_fn=<CatBackward0>)\n",
      "torch.Size([50, 1])\n",
      "torch.Size([50, 1])\n",
      "60 tensor(0.0009, grad_fn=<MseLossBackward0>) tensor([ 0.0477, -0.0230]) tensor([-1.9677,  1.9860], grad_fn=<CatBackward0>)\n",
      "torch.Size([50, 1])\n",
      "torch.Size([50, 1])\n",
      "61 tensor(0.0010, grad_fn=<MseLossBackward0>) tensor([ 0.0570, -0.0124]) tensor([-1.9682,  1.9862], grad_fn=<CatBackward0>)\n",
      "torch.Size([50, 1])\n",
      "torch.Size([50, 1])\n",
      "61 tensor(0.0013, grad_fn=<MseLossBackward0>) tensor([ 0.0655, -0.0461]) tensor([-1.9687,  1.9863], grad_fn=<CatBackward0>)\n",
      "torch.Size([50, 1])\n",
      "torch.Size([50, 1])\n",
      "61 tensor(0.0010, grad_fn=<MseLossBackward0>) tensor([ 0.0478, -0.0360]) tensor([-1.9694,  1.9868], grad_fn=<CatBackward0>)\n",
      "torch.Size([50, 1])\n",
      "torch.Size([50, 1])\n",
      "61 tensor(0.0008, grad_fn=<MseLossBackward0>) tensor([ 0.0445, -0.0211]) tensor([-1.9699,  1.9871], grad_fn=<CatBackward0>)\n",
      "torch.Size([50, 1])\n",
      "torch.Size([50, 1])\n",
      "62 tensor(0.0009, grad_fn=<MseLossBackward0>) tensor([ 0.0532, -0.0113]) tensor([-1.9703,  1.9873], grad_fn=<CatBackward0>)\n",
      "torch.Size([50, 1])\n",
      "torch.Size([50, 1])\n",
      "62 tensor(0.0012, grad_fn=<MseLossBackward0>) tensor([ 0.0610, -0.0424]) tensor([-1.9708,  1.9875], grad_fn=<CatBackward0>)\n",
      "torch.Size([50, 1])\n",
      "torch.Size([50, 1])\n",
      "62 tensor(0.0008, grad_fn=<MseLossBackward0>) tensor([ 0.0445, -0.0330]) tensor([-1.9714,  1.9879], grad_fn=<CatBackward0>)\n",
      "torch.Size([50, 1])\n",
      "torch.Size([50, 1])\n",
      "62 tensor(0.0007, grad_fn=<MseLossBackward0>) tensor([ 0.0415, -0.0193]) tensor([-1.9719,  1.9882], grad_fn=<CatBackward0>)\n",
      "torch.Size([50, 1])\n",
      "torch.Size([50, 1])\n",
      "63 tensor(0.0007, grad_fn=<MseLossBackward0>) tensor([ 0.0496, -0.0102]) tensor([-1.9723,  1.9884], grad_fn=<CatBackward0>)\n",
      "torch.Size([50, 1])\n",
      "torch.Size([50, 1])\n",
      "63 tensor(0.0010, grad_fn=<MseLossBackward0>) tensor([ 0.0569, -0.0390]) tensor([-1.9728,  1.9885], grad_fn=<CatBackward0>)\n",
      "torch.Size([50, 1])\n",
      "torch.Size([50, 1])\n",
      "63 tensor(0.0007, grad_fn=<MseLossBackward0>) tensor([ 0.0415, -0.0302]) tensor([-1.9734,  1.9889], grad_fn=<CatBackward0>)\n",
      "torch.Size([50, 1])\n",
      "torch.Size([50, 1])\n",
      "63 tensor(0.0006, grad_fn=<MseLossBackward0>) tensor([ 0.0387, -0.0177]) tensor([-1.9738,  1.9892], grad_fn=<CatBackward0>)\n",
      "torch.Size([50, 1])\n",
      "torch.Size([50, 1])\n",
      "64 tensor(0.0006, grad_fn=<MseLossBackward0>) tensor([ 0.0463, -0.0093]) tensor([-1.9742,  1.9894], grad_fn=<CatBackward0>)\n",
      "torch.Size([50, 1])\n",
      "torch.Size([50, 1])\n",
      "64 tensor(0.0009, grad_fn=<MseLossBackward0>) tensor([ 0.0530, -0.0359]) tensor([-1.9746,  1.9895], grad_fn=<CatBackward0>)\n",
      "torch.Size([50, 1])\n",
      "torch.Size([50, 1])\n",
      "64 tensor(0.0006, grad_fn=<MseLossBackward0>) tensor([ 0.0386, -0.0277]) tensor([-1.9752,  1.9898], grad_fn=<CatBackward0>)\n",
      "torch.Size([50, 1])\n",
      "torch.Size([50, 1])\n",
      "64 tensor(0.0005, grad_fn=<MseLossBackward0>) tensor([ 0.0361, -0.0162]) tensor([-1.9756,  1.9901], grad_fn=<CatBackward0>)\n",
      "torch.Size([50, 1])\n",
      "torch.Size([50, 1])\n",
      "65 tensor(0.0006, grad_fn=<MseLossBackward0>) tensor([ 0.0432, -0.0084]) tensor([-1.9759,  1.9903], grad_fn=<CatBackward0>)\n",
      "torch.Size([50, 1])\n",
      "torch.Size([50, 1])\n",
      "65 tensor(0.0007, grad_fn=<MseLossBackward0>) tensor([ 0.0494, -0.0330]) tensor([-1.9763,  1.9904], grad_fn=<CatBackward0>)\n",
      "torch.Size([50, 1])\n",
      "torch.Size([50, 1])\n",
      "65 tensor(0.0005, grad_fn=<MseLossBackward0>) tensor([ 0.0360, -0.0254]) tensor([-1.9768,  1.9907], grad_fn=<CatBackward0>)\n",
      "torch.Size([50, 1])\n",
      "torch.Size([50, 1])\n",
      "65 tensor(0.0005, grad_fn=<MseLossBackward0>) tensor([ 0.0336, -0.0149]) tensor([-1.9772,  1.9909], grad_fn=<CatBackward0>)\n",
      "torch.Size([50, 1])\n",
      "torch.Size([50, 1])\n",
      "66 tensor(0.0005, grad_fn=<MseLossBackward0>) tensor([ 0.0403, -0.0077]) tensor([-1.9775,  1.9911], grad_fn=<CatBackward0>)\n",
      "torch.Size([50, 1])\n",
      "torch.Size([50, 1])\n",
      "66 tensor(0.0006, grad_fn=<MseLossBackward0>) tensor([ 0.0460, -0.0303]) tensor([-1.9779,  1.9912], grad_fn=<CatBackward0>)\n",
      "torch.Size([50, 1])\n",
      "torch.Size([50, 1])\n",
      "66 tensor(0.0005, grad_fn=<MseLossBackward0>) tensor([ 0.0335, -0.0232]) tensor([-1.9784,  1.9915], grad_fn=<CatBackward0>)\n",
      "torch.Size([50, 1])\n",
      "torch.Size([50, 1])\n",
      "66 tensor(0.0004, grad_fn=<MseLossBackward0>) tensor([ 0.0314, -0.0136]) tensor([-1.9787,  1.9917], grad_fn=<CatBackward0>)\n",
      "torch.Size([50, 1])\n",
      "torch.Size([50, 1])\n",
      "67 tensor(0.0004, grad_fn=<MseLossBackward0>) tensor([ 0.0376, -0.0070]) tensor([-1.9790,  1.9918], grad_fn=<CatBackward0>)\n",
      "torch.Size([50, 1])\n",
      "torch.Size([50, 1])\n",
      "67 tensor(0.0006, grad_fn=<MseLossBackward0>) tensor([ 0.0429, -0.0279]) tensor([-1.9794,  1.9919], grad_fn=<CatBackward0>)\n",
      "torch.Size([50, 1])\n",
      "torch.Size([50, 1])\n",
      "67 tensor(0.0004, grad_fn=<MseLossBackward0>) tensor([ 0.0312, -0.0213]) tensor([-1.9799,  1.9922], grad_fn=<CatBackward0>)\n",
      "torch.Size([50, 1])\n",
      "torch.Size([50, 1])\n",
      "67 tensor(0.0003, grad_fn=<MseLossBackward0>) tensor([ 0.0292, -0.0125]) tensor([-1.9802,  1.9924], grad_fn=<CatBackward0>)\n",
      "torch.Size([50, 1])\n",
      "torch.Size([50, 1])\n",
      "68 tensor(0.0004, grad_fn=<MseLossBackward0>) tensor([ 0.0351, -0.0063]) tensor([-1.9805,  1.9925], grad_fn=<CatBackward0>)\n",
      "torch.Size([50, 1])\n",
      "torch.Size([50, 1])\n",
      "68 tensor(0.0005, grad_fn=<MseLossBackward0>) tensor([ 0.0400, -0.0256]) tensor([-1.9808,  1.9926], grad_fn=<CatBackward0>)\n",
      "torch.Size([50, 1])\n",
      "torch.Size([50, 1])\n",
      "68 tensor(0.0003, grad_fn=<MseLossBackward0>) tensor([ 0.0291, -0.0195]) tensor([-1.9812,  1.9928], grad_fn=<CatBackward0>)\n",
      "torch.Size([50, 1])\n",
      "torch.Size([50, 1])\n",
      "68 tensor(0.0003, grad_fn=<MseLossBackward0>) tensor([ 0.0273, -0.0114]) tensor([-1.9815,  1.9930], grad_fn=<CatBackward0>)\n",
      "torch.Size([50, 1])\n",
      "torch.Size([50, 1])\n",
      "69 tensor(0.0003, grad_fn=<MseLossBackward0>) tensor([ 0.0327, -0.0057]) tensor([-1.9818,  1.9931], grad_fn=<CatBackward0>)\n"
     ]
    },
    {
     "name": "stdout",
     "output_type": "stream",
     "text": [
      "torch.Size([50, 1])\n",
      "torch.Size([50, 1])\n",
      "69 tensor(0.0004, grad_fn=<MseLossBackward0>) tensor([ 0.0372, -0.0236]) tensor([-1.9821,  1.9932], grad_fn=<CatBackward0>)\n",
      "torch.Size([50, 1])\n",
      "torch.Size([50, 1])\n",
      "69 tensor(0.0003, grad_fn=<MseLossBackward0>) tensor([ 0.0271, -0.0178]) tensor([-1.9825,  1.9934], grad_fn=<CatBackward0>)\n",
      "torch.Size([50, 1])\n",
      "torch.Size([50, 1])\n",
      "69 tensor(0.0003, grad_fn=<MseLossBackward0>) tensor([ 0.0254, -0.0105]) tensor([-1.9827,  1.9936], grad_fn=<CatBackward0>)\n",
      "torch.Size([50, 1])\n",
      "torch.Size([50, 1])\n",
      "70 tensor(0.0003, grad_fn=<MseLossBackward0>) tensor([ 0.0305, -0.0052]) tensor([-1.9830,  1.9937], grad_fn=<CatBackward0>)\n",
      "torch.Size([50, 1])\n",
      "torch.Size([50, 1])\n",
      "70 tensor(0.0004, grad_fn=<MseLossBackward0>) tensor([ 0.0347, -0.0217]) tensor([-1.9833,  1.9938], grad_fn=<CatBackward0>)\n",
      "torch.Size([50, 1])\n",
      "torch.Size([50, 1])\n",
      "70 tensor(0.0003, grad_fn=<MseLossBackward0>) tensor([ 0.0253, -0.0163]) tensor([-1.9836,  1.9940], grad_fn=<CatBackward0>)\n",
      "torch.Size([50, 1])\n",
      "torch.Size([50, 1])\n",
      "70 tensor(0.0002, grad_fn=<MseLossBackward0>) tensor([ 0.0237, -0.0096]) tensor([-1.9839,  1.9942], grad_fn=<CatBackward0>)\n",
      "torch.Size([50, 1])\n",
      "torch.Size([50, 1])\n",
      "71 tensor(0.0002, grad_fn=<MseLossBackward0>) tensor([ 0.0284, -0.0047]) tensor([-1.9841,  1.9943], grad_fn=<CatBackward0>)\n",
      "torch.Size([50, 1])\n",
      "torch.Size([50, 1])\n",
      "71 tensor(0.0003, grad_fn=<MseLossBackward0>) tensor([ 0.0324, -0.0199]) tensor([-1.9844,  1.9943], grad_fn=<CatBackward0>)\n",
      "torch.Size([50, 1])\n",
      "torch.Size([50, 1])\n",
      "71 tensor(0.0002, grad_fn=<MseLossBackward0>) tensor([ 0.0236, -0.0149]) tensor([-1.9847,  1.9945], grad_fn=<CatBackward0>)\n",
      "torch.Size([50, 1])\n",
      "torch.Size([50, 1])\n",
      "71 tensor(0.0002, grad_fn=<MseLossBackward0>) tensor([ 0.0221, -0.0088]) tensor([-1.9850,  1.9946], grad_fn=<CatBackward0>)\n",
      "torch.Size([50, 1])\n",
      "torch.Size([50, 1])\n",
      "72 tensor(0.0002, grad_fn=<MseLossBackward0>) tensor([ 0.0265, -0.0043]) tensor([-1.9852,  1.9947], grad_fn=<CatBackward0>)\n",
      "torch.Size([50, 1])\n",
      "torch.Size([50, 1])\n",
      "72 tensor(0.0003, grad_fn=<MseLossBackward0>) tensor([ 0.0302, -0.0183]) tensor([-1.9855,  1.9948], grad_fn=<CatBackward0>)\n",
      "torch.Size([50, 1])\n",
      "torch.Size([50, 1])\n",
      "72 tensor(0.0002, grad_fn=<MseLossBackward0>) tensor([ 0.0220, -0.0137]) tensor([-1.9858,  1.9950], grad_fn=<CatBackward0>)\n",
      "torch.Size([50, 1])\n",
      "torch.Size([50, 1])\n",
      "72 tensor(0.0002, grad_fn=<MseLossBackward0>) tensor([ 0.0206, -0.0081]) tensor([-1.9860,  1.9951], grad_fn=<CatBackward0>)\n",
      "torch.Size([50, 1])\n",
      "torch.Size([50, 1])\n",
      "73 tensor(0.0002, grad_fn=<MseLossBackward0>) tensor([ 0.0247, -0.0039]) tensor([-1.9862,  1.9952], grad_fn=<CatBackward0>)\n",
      "torch.Size([50, 1])\n",
      "torch.Size([50, 1])\n",
      "73 tensor(0.0002, grad_fn=<MseLossBackward0>) tensor([ 0.0282, -0.0168]) tensor([-1.9864,  1.9952], grad_fn=<CatBackward0>)\n",
      "torch.Size([50, 1])\n",
      "torch.Size([50, 1])\n",
      "73 tensor(0.0002, grad_fn=<MseLossBackward0>) tensor([ 0.0205, -0.0125]) tensor([-1.9867,  1.9954], grad_fn=<CatBackward0>)\n",
      "torch.Size([50, 1])\n",
      "torch.Size([50, 1])\n",
      "73 tensor(0.0001, grad_fn=<MseLossBackward0>) tensor([ 0.0192, -0.0074]) tensor([-1.9869,  1.9955], grad_fn=<CatBackward0>)\n",
      "torch.Size([50, 1])\n",
      "torch.Size([50, 1])\n",
      "74 tensor(0.0002, grad_fn=<MseLossBackward0>) tensor([ 0.0230, -0.0036]) tensor([-1.9871,  1.9956], grad_fn=<CatBackward0>)\n",
      "torch.Size([50, 1])\n",
      "torch.Size([50, 1])\n",
      "74 tensor(0.0002, grad_fn=<MseLossBackward0>) tensor([ 0.0263, -0.0154]) tensor([-1.9874,  1.9956], grad_fn=<CatBackward0>)\n",
      "torch.Size([50, 1])\n",
      "torch.Size([50, 1])\n",
      "74 tensor(0.0001, grad_fn=<MseLossBackward0>) tensor([ 0.0191, -0.0114]) tensor([-1.9876,  1.9958], grad_fn=<CatBackward0>)\n",
      "torch.Size([50, 1])\n",
      "torch.Size([50, 1])\n",
      "74 tensor(0.0001, grad_fn=<MseLossBackward0>) tensor([ 0.0179, -0.0068]) tensor([-1.9878,  1.9959], grad_fn=<CatBackward0>)\n",
      "torch.Size([50, 1])\n",
      "torch.Size([50, 1])\n",
      "75 tensor(0.0001, grad_fn=<MseLossBackward0>) tensor([ 0.0215, -0.0033]) tensor([-1.9880,  1.9960], grad_fn=<CatBackward0>)\n",
      "torch.Size([50, 1])\n",
      "torch.Size([50, 1])\n",
      "75 tensor(0.0002, grad_fn=<MseLossBackward0>) tensor([ 0.0245, -0.0142]) tensor([-1.9882,  1.9960], grad_fn=<CatBackward0>)\n",
      "torch.Size([50, 1])\n",
      "torch.Size([50, 1])\n",
      "75 tensor(0.0001, grad_fn=<MseLossBackward0>) tensor([ 0.0178, -0.0104]) tensor([-1.9884,  1.9961], grad_fn=<CatBackward0>)\n",
      "torch.Size([50, 1])\n",
      "torch.Size([50, 1])\n",
      "75 tensor(0.0001, grad_fn=<MseLossBackward0>) tensor([ 0.0167, -0.0063]) tensor([-1.9886,  1.9962], grad_fn=<CatBackward0>)\n",
      "torch.Size([50, 1])\n",
      "torch.Size([50, 1])\n",
      "76 tensor(0.0001, grad_fn=<MseLossBackward0>) tensor([ 0.0200, -0.0030]) tensor([-1.9888,  1.9963], grad_fn=<CatBackward0>)\n",
      "torch.Size([50, 1])\n",
      "torch.Size([50, 1])\n",
      "76 tensor(0.0002, grad_fn=<MseLossBackward0>) tensor([ 0.0229, -0.0130]) tensor([-1.9890,  1.9963], grad_fn=<CatBackward0>)\n",
      "torch.Size([50, 1])\n",
      "torch.Size([50, 1])\n",
      "76 tensor(0.0001, grad_fn=<MseLossBackward0>) tensor([ 0.0166, -0.0095]) tensor([-1.9892,  1.9965], grad_fn=<CatBackward0>)\n",
      "torch.Size([50, 1])\n",
      "torch.Size([50, 1])\n",
      "76 tensor(9.3437e-05, grad_fn=<MseLossBackward0>) tensor([ 0.0155, -0.0058]) tensor([-1.9894,  1.9966], grad_fn=<CatBackward0>)\n",
      "torch.Size([50, 1])\n",
      "torch.Size([50, 1])\n",
      "77 tensor(0.0001, grad_fn=<MseLossBackward0>) tensor([ 0.0187, -0.0027]) tensor([-1.9895,  1.9966], grad_fn=<CatBackward0>)\n",
      "torch.Size([50, 1])\n",
      "torch.Size([50, 1])\n",
      "77 tensor(0.0001, grad_fn=<MseLossBackward0>) tensor([ 0.0213, -0.0119]) tensor([-1.9897,  1.9966], grad_fn=<CatBackward0>)\n",
      "torch.Size([50, 1])\n",
      "torch.Size([50, 1])\n",
      "77 tensor(9.1914e-05, grad_fn=<MseLossBackward0>) tensor([ 0.0154, -0.0087]) tensor([-1.9899,  1.9968], grad_fn=<CatBackward0>)\n",
      "torch.Size([50, 1])\n",
      "torch.Size([50, 1])\n",
      "77 tensor(8.1181e-05, grad_fn=<MseLossBackward0>) tensor([ 0.0145, -0.0053]) tensor([-1.9901,  1.9968], grad_fn=<CatBackward0>)\n",
      "torch.Size([50, 1])\n",
      "torch.Size([50, 1])\n",
      "78 tensor(8.8707e-05, grad_fn=<MseLossBackward0>) tensor([ 0.0174, -0.0025]) tensor([-1.9902,  1.9969], grad_fn=<CatBackward0>)\n",
      "torch.Size([50, 1])\n",
      "torch.Size([50, 1])\n",
      "78 tensor(0.0001, grad_fn=<MseLossBackward0>) tensor([ 0.0199, -0.0109]) tensor([-1.9904,  1.9969], grad_fn=<CatBackward0>)\n",
      "torch.Size([50, 1])\n",
      "torch.Size([50, 1])\n",
      "78 tensor(7.9623e-05, grad_fn=<MseLossBackward0>) tensor([ 0.0144, -0.0079]) tensor([-1.9906,  1.9970], grad_fn=<CatBackward0>)\n",
      "torch.Size([50, 1])\n",
      "torch.Size([50, 1])\n",
      "78 tensor(7.0577e-05, grad_fn=<MseLossBackward0>) tensor([ 0.0135, -0.0049]) tensor([-1.9908,  1.9971], grad_fn=<CatBackward0>)\n",
      "torch.Size([50, 1])\n",
      "torch.Size([50, 1])\n",
      "79 tensor(7.7142e-05, grad_fn=<MseLossBackward0>) tensor([ 0.0162, -0.0023]) tensor([-1.9909,  1.9972], grad_fn=<CatBackward0>)\n",
      "torch.Size([50, 1])\n",
      "torch.Size([50, 1])\n",
      "79 tensor(0.0001, grad_fn=<MseLossBackward0>) tensor([ 0.0186, -0.0100]) tensor([-1.9911,  1.9972], grad_fn=<CatBackward0>)\n",
      "torch.Size([50, 1])\n",
      "torch.Size([50, 1])\n",
      "79 tensor(6.9021e-05, grad_fn=<MseLossBackward0>) tensor([ 0.0134, -0.0072]) tensor([-1.9912,  1.9973], grad_fn=<CatBackward0>)\n",
      "torch.Size([50, 1])\n",
      "torch.Size([50, 1])\n",
      "79 tensor(6.1399e-05, grad_fn=<MseLossBackward0>) tensor([ 0.0126, -0.0045]) tensor([-1.9914,  1.9974], grad_fn=<CatBackward0>)\n",
      "torch.Size([50, 1])\n",
      "torch.Size([50, 1])\n",
      "80 tensor(6.7113e-05, grad_fn=<MseLossBackward0>) tensor([ 0.0151, -0.0021]) tensor([-1.9915,  1.9974], grad_fn=<CatBackward0>)\n",
      "torch.Size([50, 1])\n",
      "torch.Size([50, 1])\n",
      "80 tensor(8.7190e-05, grad_fn=<MseLossBackward0>) tensor([ 0.0173, -0.0092]) tensor([-1.9916,  1.9974], grad_fn=<CatBackward0>)\n",
      "torch.Size([50, 1])\n",
      "torch.Size([50, 1])\n",
      "80 tensor(5.9872e-05, grad_fn=<MseLossBackward0>) tensor([ 0.0125, -0.0066]) tensor([-1.9918,  1.9975], grad_fn=<CatBackward0>)\n",
      "torch.Size([50, 1])\n",
      "torch.Size([50, 1])\n",
      "80 tensor(5.3451e-05, grad_fn=<MseLossBackward0>) tensor([ 0.0117, -0.0041]) tensor([-1.9919,  1.9976], grad_fn=<CatBackward0>)\n",
      "torch.Size([50, 1])\n",
      "torch.Size([50, 1])\n",
      "81 tensor(5.8416e-05, grad_fn=<MseLossBackward0>) tensor([ 0.0141, -0.0019]) tensor([-1.9921,  1.9976], grad_fn=<CatBackward0>)\n",
      "torch.Size([50, 1])\n",
      "torch.Size([50, 1])\n",
      "81 tensor(7.5942e-05, grad_fn=<MseLossBackward0>) tensor([ 0.0162, -0.0084]) tensor([-1.9922,  1.9976], grad_fn=<CatBackward0>)\n",
      "torch.Size([50, 1])\n",
      "torch.Size([50, 1])\n",
      "81 tensor(5.1979e-05, grad_fn=<MseLossBackward0>) tensor([ 0.0116, -0.0060]) tensor([-1.9924,  1.9977], grad_fn=<CatBackward0>)\n",
      "torch.Size([50, 1])\n",
      "torch.Size([50, 1])\n",
      "81 tensor(4.6573e-05, grad_fn=<MseLossBackward0>) tensor([ 0.0109, -0.0038]) tensor([-1.9925,  1.9978], grad_fn=<CatBackward0>)\n",
      "torch.Size([50, 1])\n",
      "torch.Size([50, 1])\n",
      "82 tensor(5.0875e-05, grad_fn=<MseLossBackward0>) tensor([ 0.0131, -0.0017]) tensor([-1.9926,  1.9978], grad_fn=<CatBackward0>)\n",
      "torch.Size([50, 1])\n",
      "torch.Size([50, 1])\n",
      "82 tensor(6.6209e-05, grad_fn=<MseLossBackward0>) tensor([ 0.0151, -0.0077]) tensor([-1.9927,  1.9978], grad_fn=<CatBackward0>)\n",
      "torch.Size([50, 1])\n",
      "torch.Size([50, 1])\n",
      "82 tensor(4.5165e-05, grad_fn=<MseLossBackward0>) tensor([ 0.0108, -0.0055]) tensor([-1.9929,  1.9979], grad_fn=<CatBackward0>)\n",
      "torch.Size([50, 1])\n",
      "torch.Size([50, 1])\n",
      "82 tensor(4.0616e-05, grad_fn=<MseLossBackward0>) tensor([ 0.0102, -0.0035]) tensor([-1.9930,  1.9980], grad_fn=<CatBackward0>)\n",
      "torch.Size([50, 1])\n",
      "torch.Size([50, 1])\n",
      "83 tensor(4.4335e-05, grad_fn=<MseLossBackward0>) tensor([ 0.0122, -0.0016]) tensor([-1.9931,  1.9980], grad_fn=<CatBackward0>)\n",
      "torch.Size([50, 1])\n",
      "torch.Size([50, 1])\n",
      "83 tensor(5.7783e-05, grad_fn=<MseLossBackward0>) tensor([ 0.0141, -0.0071]) tensor([-1.9932,  1.9980], grad_fn=<CatBackward0>)\n",
      "torch.Size([50, 1])\n",
      "torch.Size([50, 1])\n"
     ]
    },
    {
     "name": "stdout",
     "output_type": "stream",
     "text": [
      "83 tensor(3.9286e-05, grad_fn=<MseLossBackward0>) tensor([ 0.0101, -0.0050]) tensor([-1.9933,  1.9981], grad_fn=<CatBackward0>)\n",
      "torch.Size([50, 1])\n",
      "torch.Size([50, 1])\n",
      "83 tensor(3.5459e-05, grad_fn=<MseLossBackward0>) tensor([ 0.0095, -0.0032]) tensor([-1.9934,  1.9981], grad_fn=<CatBackward0>)\n",
      "torch.Size([50, 1])\n",
      "torch.Size([50, 1])\n",
      "84 tensor(3.8666e-05, grad_fn=<MseLossBackward0>) tensor([ 0.0114, -0.0015]) tensor([-1.9935,  1.9982], grad_fn=<CatBackward0>)\n",
      "torch.Size([50, 1])\n",
      "torch.Size([50, 1])\n",
      "84 tensor(5.0489e-05, grad_fn=<MseLossBackward0>) tensor([ 0.0132, -0.0065]) tensor([-1.9937,  1.9982], grad_fn=<CatBackward0>)\n",
      "torch.Size([50, 1])\n",
      "torch.Size([50, 1])\n",
      "84 tensor(3.4211e-05, grad_fn=<MseLossBackward0>) tensor([ 0.0094, -0.0045]) tensor([-1.9938,  1.9983], grad_fn=<CatBackward0>)\n",
      "torch.Size([50, 1])\n",
      "torch.Size([50, 1])\n",
      "84 tensor(3.0994e-05, grad_fn=<MseLossBackward0>) tensor([ 0.0088, -0.0030]) tensor([-1.9939,  1.9983], grad_fn=<CatBackward0>)\n",
      "torch.Size([50, 1])\n",
      "torch.Size([50, 1])\n",
      "85 tensor(3.3751e-05, grad_fn=<MseLossBackward0>) tensor([ 0.0106, -0.0014]) tensor([-1.9940,  1.9983], grad_fn=<CatBackward0>)\n",
      "torch.Size([50, 1])\n",
      "torch.Size([50, 1])\n",
      "85 tensor(4.4172e-05, grad_fn=<MseLossBackward0>) tensor([ 0.0123, -0.0059]) tensor([-1.9941,  1.9983], grad_fn=<CatBackward0>)\n",
      "torch.Size([50, 1])\n",
      "torch.Size([50, 1])\n",
      "85 tensor(2.9830e-05, grad_fn=<MseLossBackward0>) tensor([ 0.0088, -0.0041]) tensor([-1.9942,  1.9984], grad_fn=<CatBackward0>)\n",
      "torch.Size([50, 1])\n",
      "torch.Size([50, 1])\n",
      "85 tensor(2.7125e-05, grad_fn=<MseLossBackward0>) tensor([ 0.0082, -0.0027]) tensor([-1.9943,  1.9984], grad_fn=<CatBackward0>)\n",
      "torch.Size([50, 1])\n",
      "torch.Size([50, 1])\n",
      "86 tensor(2.9488e-05, grad_fn=<MseLossBackward0>) tensor([ 0.0098, -0.0013]) tensor([-1.9944,  1.9985], grad_fn=<CatBackward0>)\n",
      "torch.Size([50, 1])\n",
      "torch.Size([50, 1])\n",
      "86 tensor(3.8699e-05, grad_fn=<MseLossBackward0>) tensor([ 0.0115, -0.0054]) tensor([-1.9945,  1.9985], grad_fn=<CatBackward0>)\n",
      "torch.Size([50, 1])\n",
      "torch.Size([50, 1])\n",
      "86 tensor(2.6047e-05, grad_fn=<MseLossBackward0>) tensor([ 0.0082, -0.0037]) tensor([-1.9946,  1.9985], grad_fn=<CatBackward0>)\n",
      "torch.Size([50, 1])\n",
      "torch.Size([50, 1])\n",
      "86 tensor(2.3775e-05, grad_fn=<MseLossBackward0>) tensor([ 0.0077, -0.0025]) tensor([-1.9947,  1.9986], grad_fn=<CatBackward0>)\n",
      "torch.Size([50, 1])\n",
      "torch.Size([50, 1])\n",
      "87 tensor(2.5791e-05, grad_fn=<MseLossBackward0>) tensor([ 0.0092, -0.0012]) tensor([-1.9947,  1.9986], grad_fn=<CatBackward0>)\n",
      "torch.Size([50, 1])\n",
      "torch.Size([50, 1])\n",
      "87 tensor(3.3956e-05, grad_fn=<MseLossBackward0>) tensor([ 0.0108, -0.0050]) tensor([-1.9948,  1.9986], grad_fn=<CatBackward0>)\n",
      "torch.Size([50, 1])\n",
      "torch.Size([50, 1])\n",
      "87 tensor(2.2781e-05, grad_fn=<MseLossBackward0>) tensor([ 0.0076, -0.0033]) tensor([-1.9949,  1.9987], grad_fn=<CatBackward0>)\n",
      "torch.Size([50, 1])\n",
      "torch.Size([50, 1])\n",
      "87 tensor(2.0872e-05, grad_fn=<MseLossBackward0>) tensor([ 0.0071, -0.0023]) tensor([-1.9950,  1.9987], grad_fn=<CatBackward0>)\n",
      "torch.Size([50, 1])\n",
      "torch.Size([50, 1])\n",
      "88 tensor(2.2587e-05, grad_fn=<MseLossBackward0>) tensor([ 0.0085, -0.0011]) tensor([-1.9951,  1.9987], grad_fn=<CatBackward0>)\n",
      "torch.Size([50, 1])\n",
      "torch.Size([50, 1])\n",
      "88 tensor(2.9842e-05, grad_fn=<MseLossBackward0>) tensor([ 0.0101, -0.0045]) tensor([-1.9952,  1.9987], grad_fn=<CatBackward0>)\n",
      "torch.Size([50, 1])\n",
      "torch.Size([50, 1])\n",
      "88 tensor(1.9959e-05, grad_fn=<MseLossBackward0>) tensor([ 0.0071, -0.0030]) tensor([-1.9953,  1.9988], grad_fn=<CatBackward0>)\n",
      "torch.Size([50, 1])\n",
      "torch.Size([50, 1])\n",
      "88 tensor(1.8358e-05, grad_fn=<MseLossBackward0>) tensor([ 0.0067, -0.0022]) tensor([-1.9953,  1.9988], grad_fn=<CatBackward0>)\n",
      "torch.Size([50, 1])\n",
      "torch.Size([50, 1])\n",
      "89 tensor(1.9810e-05, grad_fn=<MseLossBackward0>) tensor([ 0.0079, -0.0010]) tensor([-1.9954,  1.9988], grad_fn=<CatBackward0>)\n",
      "torch.Size([50, 1])\n",
      "torch.Size([50, 1])\n",
      "89 tensor(2.6276e-05, grad_fn=<MseLossBackward0>) tensor([ 0.0094, -0.0041]) tensor([-1.9955,  1.9988], grad_fn=<CatBackward0>)\n",
      "torch.Size([50, 1])\n",
      "torch.Size([50, 1])\n",
      "89 tensor(1.7523e-05, grad_fn=<MseLossBackward0>) tensor([ 0.0066, -0.0027]) tensor([-1.9956,  1.9989], grad_fn=<CatBackward0>)\n",
      "torch.Size([50, 1])\n",
      "torch.Size([50, 1])\n",
      "89 tensor(1.6179e-05, grad_fn=<MseLossBackward0>) tensor([ 0.0062, -0.0020]) tensor([-1.9957,  1.9989], grad_fn=<CatBackward0>)\n",
      "torch.Size([50, 1])\n",
      "torch.Size([50, 1])\n",
      "90 tensor(1.7402e-05, grad_fn=<MseLossBackward0>) tensor([ 0.0074, -0.0010]) tensor([-1.9957,  1.9989], grad_fn=<CatBackward0>)\n",
      "torch.Size([50, 1])\n",
      "torch.Size([50, 1])\n",
      "90 tensor(2.3182e-05, grad_fn=<MseLossBackward0>) tensor([ 0.0088, -0.0038]) tensor([-1.9958,  1.9989], grad_fn=<CatBackward0>)\n",
      "torch.Size([50, 1])\n",
      "torch.Size([50, 1])\n",
      "90 tensor(1.5420e-05, grad_fn=<MseLossBackward0>) tensor([ 0.0062, -0.0025]) tensor([-1.9959,  1.9990], grad_fn=<CatBackward0>)\n",
      "torch.Size([50, 1])\n",
      "torch.Size([50, 1])\n",
      "90 tensor(1.4293e-05, grad_fn=<MseLossBackward0>) tensor([ 0.0058, -0.0019]) tensor([-1.9959,  1.9990], grad_fn=<CatBackward0>)\n",
      "torch.Size([50, 1])\n",
      "torch.Size([50, 1])\n",
      "91 tensor(1.5316e-05, grad_fn=<MseLossBackward0>) tensor([ 0.0069, -0.0009]) tensor([-1.9960,  1.9990], grad_fn=<CatBackward0>)\n",
      "torch.Size([50, 1])\n",
      "torch.Size([50, 1])\n",
      "91 tensor(2.0495e-05, grad_fn=<MseLossBackward0>) tensor([ 0.0083, -0.0034]) tensor([-1.9961,  1.9990], grad_fn=<CatBackward0>)\n",
      "torch.Size([50, 1])\n",
      "torch.Size([50, 1])\n",
      "91 tensor(1.3603e-05, grad_fn=<MseLossBackward0>) tensor([ 0.0058, -0.0022]) tensor([-1.9961,  1.9991], grad_fn=<CatBackward0>)\n",
      "torch.Size([50, 1])\n",
      "torch.Size([50, 1])\n",
      "91 tensor(1.2656e-05, grad_fn=<MseLossBackward0>) tensor([ 0.0054, -0.0017]) tensor([-1.9962,  1.9991], grad_fn=<CatBackward0>)\n",
      "torch.Size([50, 1])\n",
      "torch.Size([50, 1])\n",
      "92 tensor(1.3507e-05, grad_fn=<MseLossBackward0>) tensor([ 0.0064, -0.0009]) tensor([-1.9963,  1.9991], grad_fn=<CatBackward0>)\n",
      "torch.Size([50, 1])\n",
      "torch.Size([50, 1])\n",
      "92 tensor(1.8163e-05, grad_fn=<MseLossBackward0>) tensor([ 0.0077, -0.0031]) tensor([-1.9963,  1.9991], grad_fn=<CatBackward0>)\n",
      "torch.Size([50, 1])\n",
      "torch.Size([50, 1])\n",
      "92 tensor(1.2033e-05, grad_fn=<MseLossBackward0>) tensor([ 0.0054, -0.0020]) tensor([-1.9964,  1.9991], grad_fn=<CatBackward0>)\n",
      "torch.Size([50, 1])\n",
      "torch.Size([50, 1])\n",
      "92 tensor(1.1240e-05, grad_fn=<MseLossBackward0>) tensor([ 0.0050, -0.0016]) tensor([-1.9965,  1.9992], grad_fn=<CatBackward0>)\n",
      "torch.Size([50, 1])\n",
      "torch.Size([50, 1])\n",
      "93 tensor(1.1941e-05, grad_fn=<MseLossBackward0>) tensor([ 0.0059, -0.0008]) tensor([-1.9965,  1.9992], grad_fn=<CatBackward0>)\n",
      "torch.Size([50, 1])\n",
      "torch.Size([50, 1])\n",
      "93 tensor(1.6137e-05, grad_fn=<MseLossBackward0>) tensor([ 0.0073, -0.0028]) tensor([-1.9966,  1.9992], grad_fn=<CatBackward0>)\n",
      "torch.Size([50, 1])\n",
      "torch.Size([50, 1])\n",
      "93 tensor(1.0677e-05, grad_fn=<MseLossBackward0>) tensor([ 0.0050, -0.0018]) tensor([-1.9966,  1.9992], grad_fn=<CatBackward0>)\n",
      "torch.Size([50, 1])\n",
      "torch.Size([50, 1])\n",
      "93 tensor(1.0012e-05, grad_fn=<MseLossBackward0>) tensor([ 0.0047, -0.0015]) tensor([-1.9967,  1.9992], grad_fn=<CatBackward0>)\n",
      "torch.Size([50, 1])\n",
      "torch.Size([50, 1])\n",
      "94 tensor(1.0584e-05, grad_fn=<MseLossBackward0>) tensor([ 0.0055, -0.0008]) tensor([-1.9967,  1.9992], grad_fn=<CatBackward0>)\n",
      "torch.Size([50, 1])\n",
      "torch.Size([50, 1])\n",
      "94 tensor(1.4377e-05, grad_fn=<MseLossBackward0>) tensor([ 0.0068, -0.0026]) tensor([-1.9968,  1.9993], grad_fn=<CatBackward0>)\n",
      "torch.Size([50, 1])\n",
      "torch.Size([50, 1])\n",
      "94 tensor(9.5056e-06, grad_fn=<MseLossBackward0>) tensor([ 0.0047, -0.0016]) tensor([-1.9969,  1.9993], grad_fn=<CatBackward0>)\n",
      "torch.Size([50, 1])\n",
      "torch.Size([50, 1])\n",
      "94 tensor(8.9478e-06, grad_fn=<MseLossBackward0>) tensor([ 0.0043, -0.0014]) tensor([-1.9969,  1.9993], grad_fn=<CatBackward0>)\n",
      "torch.Size([50, 1])\n",
      "torch.Size([50, 1])\n",
      "95 tensor(9.4080e-06, grad_fn=<MseLossBackward0>) tensor([ 0.0051, -0.0007]) tensor([-1.9969,  1.9993], grad_fn=<CatBackward0>)\n",
      "torch.Size([50, 1])\n",
      "torch.Size([50, 1])\n",
      "95 tensor(1.2845e-05, grad_fn=<MseLossBackward0>) tensor([ 0.0064, -0.0023]) tensor([-1.9970,  1.9993], grad_fn=<CatBackward0>)\n",
      "torch.Size([50, 1])\n",
      "torch.Size([50, 1])\n",
      "95 tensor(8.4937e-06, grad_fn=<MseLossBackward0>) tensor([ 0.0043, -0.0014]) tensor([-1.9971,  1.9993], grad_fn=<CatBackward0>)\n",
      "torch.Size([50, 1])\n",
      "torch.Size([50, 1])\n",
      "95 tensor(8.0260e-06, grad_fn=<MseLossBackward0>) tensor([ 0.0040, -0.0013]) tensor([-1.9971,  1.9994], grad_fn=<CatBackward0>)\n",
      "torch.Size([50, 1])\n",
      "torch.Size([50, 1])\n",
      "96 tensor(8.3903e-06, grad_fn=<MseLossBackward0>) tensor([ 0.0047, -0.0007]) tensor([-1.9971,  1.9994], grad_fn=<CatBackward0>)\n",
      "torch.Size([50, 1])\n",
      "torch.Size([50, 1])\n",
      "96 tensor(1.1513e-05, grad_fn=<MseLossBackward0>) tensor([ 0.0060, -0.0021]) tensor([-1.9972,  1.9994], grad_fn=<CatBackward0>)\n",
      "torch.Size([50, 1])\n",
      "torch.Size([50, 1])\n",
      "96 tensor(7.6190e-06, grad_fn=<MseLossBackward0>) tensor([ 0.0040, -0.0012]) tensor([-1.9972,  1.9994], grad_fn=<CatBackward0>)\n",
      "torch.Size([50, 1])\n",
      "torch.Size([50, 1])\n",
      "96 tensor(7.2264e-06, grad_fn=<MseLossBackward0>) tensor([ 0.0037, -0.0012]) tensor([-1.9973,  1.9994], grad_fn=<CatBackward0>)\n",
      "torch.Size([50, 1])\n",
      "torch.Size([50, 1])\n",
      "97 tensor(7.5092e-06, grad_fn=<MseLossBackward0>) tensor([ 0.0044, -0.0007]) tensor([-1.9973,  1.9994], grad_fn=<CatBackward0>)\n",
      "torch.Size([50, 1])\n",
      "torch.Size([50, 1])\n",
      "97 tensor(1.0354e-05, grad_fn=<MseLossBackward0>) tensor([ 0.0056, -0.0019]) tensor([-1.9974,  1.9994], grad_fn=<CatBackward0>)\n",
      "torch.Size([50, 1])\n",
      "torch.Size([50, 1])\n",
      "97 tensor(6.8638e-06, grad_fn=<MseLossBackward0>) tensor([ 0.0038, -0.0011]) tensor([-1.9974,  1.9994], grad_fn=<CatBackward0>)\n",
      "torch.Size([50, 1])\n",
      "torch.Size([50, 1])\n",
      "97 tensor(6.5341e-06, grad_fn=<MseLossBackward0>) tensor([ 0.0035, -0.0012]) tensor([-1.9975,  1.9995], grad_fn=<CatBackward0>)\n",
      "torch.Size([50, 1])\n",
      "torch.Size([50, 1])\n",
      "98 tensor(6.7468e-06, grad_fn=<MseLossBackward0>) tensor([ 0.0041, -0.0007]) tensor([-1.9975,  1.9995], grad_fn=<CatBackward0>)\n",
      "torch.Size([50, 1])\n",
      "torch.Size([50, 1])\n",
      "98 tensor(9.3449e-06, grad_fn=<MseLossBackward0>) tensor([ 0.0053, -0.0017]) tensor([-1.9975,  1.9995], grad_fn=<CatBackward0>)\n",
      "torch.Size([50, 1])\n",
      "torch.Size([50, 1])\n",
      "98 tensor(6.2113e-06, grad_fn=<MseLossBackward0>) tensor([ 0.0035, -0.0010]) tensor([-1.9976,  1.9995], grad_fn=<CatBackward0>)\n",
      "torch.Size([50, 1])\n",
      "torch.Size([50, 1])\n",
      "98 tensor(5.9346e-06, grad_fn=<MseLossBackward0>) tensor([ 0.0032, -0.0011]) tensor([-1.9976,  1.9995], grad_fn=<CatBackward0>)\n",
      "torch.Size([50, 1])\n",
      "torch.Size([50, 1])\n",
      "99 tensor(6.0872e-06, grad_fn=<MseLossBackward0>) tensor([ 0.0038, -0.0006]) tensor([-1.9977,  1.9995], grad_fn=<CatBackward0>)\n",
      "torch.Size([50, 1])\n",
      "torch.Size([50, 1])\n",
      "99 tensor(8.4652e-06, grad_fn=<MseLossBackward0>) tensor([ 0.0050, -0.0015]) tensor([-1.9977,  1.9995], grad_fn=<CatBackward0>)\n",
      "torch.Size([50, 1])\n",
      "torch.Size([50, 1])\n",
      "99 tensor(5.6472e-06, grad_fn=<MseLossBackward0>) tensor([ 0.0033, -0.0008]) tensor([-1.9977,  1.9995], grad_fn=<CatBackward0>)\n",
      "torch.Size([50, 1])\n",
      "torch.Size([50, 1])\n",
      "99 tensor(5.4146e-06, grad_fn=<MseLossBackward0>) tensor([ 0.0030, -0.0010]) tensor([-1.9978,  1.9995], grad_fn=<CatBackward0>)\n"
     ]
    }
   ],
   "source": [
    "model = MLP_Net(user_id=0)\n",
    "\n",
    "lr = 0.01\n",
    "\n",
    "dataloader = DataLoader(MyDataset(datapoints[19][\"features\"], datapoints[19][\"label\"]), batch_size=50, shuffle=False)\n",
    "optimizer = torch.optim.SGD(model.parameters(), lr=0.01)\n",
    "for i in range(100):\n",
    "    for (x, y) in dataloader:\n",
    "        criterion = nn.MSELoss()\n",
    "        optimizer.zero_grad()\n",
    "        yhat = model(x)\n",
    "        print(y.size())\n",
    "        print(yhat.size())\n",
    "        loss = criterion(yhat, y)\n",
    "        \n",
    "        loss.backward()\n",
    "        print(i, loss, grads_to_vector(model.parameters()), parameters_to_vector(model.parameters()))\n",
    "        #optimizer.step()\n",
    "        new_model = parameters_to_vector(model.parameters()) - lr * grads_to_vector(model.parameters())\n",
    "        vector_to_parameters(parameters=model.parameters(), vec=new_model)\n",
    "        #if i % 50 ==0:\n",
    "            #lr *= 0.9\n",
    "            \n",
    "\n",
    "#parameters_to_vector(model.parameters())"
   ]
  },
  {
   "cell_type": "code",
   "execution_count": 11,
   "id": "5eb22da2",
   "metadata": {},
   "outputs": [
    {
     "data": {
      "text/plain": [
       "tensor([-1.9978,  1.9996], grad_fn=<CatBackward0>)"
      ]
     },
     "execution_count": 11,
     "metadata": {},
     "output_type": "execute_result"
    }
   ],
   "source": [
    "parameters_to_vector(model.parameters())"
   ]
  },
  {
   "cell_type": "code",
   "execution_count": 12,
   "id": "52396ca6",
   "metadata": {},
   "outputs": [],
   "source": [
    "class CNN_Net(nn.Module):\n",
    "    def __init__(self):\n",
    "        super(CNN_Net, self).__init__()\n",
    "        self.conv1 = nn.Conv2d(1, 32, kernel_size=5)\n",
    "        self.conv2 = nn.Conv2d(32, 64, kernel_size=5)\n",
    "        self.pool = nn.MaxPool2d(2,2)\n",
    "        self.dropout = nn.Dropout(p=0.2)\n",
    "        self.fc1 = nn.Linear(1024, 512)\n",
    "        self.fc2 = nn.Linear(512, 10)\n",
    "\n",
    "    def forward(self, x):\n",
    "        x = self.pool(F.relu(self.conv1(x)))\n",
    "        x = self.pool(F.relu(self.conv2(x)))\n",
    "        x = self.dropout(x)\n",
    "        x = torch.flatten(x, 1)\n",
    "        x = F.relu(self.fc1(x))\n",
    "        output = self.fc2(x)\n",
    "        return output"
   ]
  },
  {
   "cell_type": "code",
   "execution_count": 13,
   "id": "cb5fe42b",
   "metadata": {},
   "outputs": [],
   "source": [
    "class ClientUpdate(object):\n",
    "    def __init__(self, dataset, batchSize, alpha, lamda, epochs, projection_list, projected_weights):\n",
    "        self.train_loader = DataLoader(MyDataset(dataset[\"features\"], dataset[\"label\"]), batch_size=batchSize, shuffle=True)\n",
    "        #self.learning_rate = learning_rate\n",
    "        self.epochs = epochs\n",
    "        self.batchSize = batchSize\n",
    "\n",
    "    def train(self, model):\n",
    "        criterion = nn.MSELoss()\n",
    "        optimizer = torch.optim.SGD(model.parameters(), lr=1e-3, momentum=0.5)\n",
    "\n",
    "        e_loss = []\n",
    "        for epoch in range(1, self.epochs+1):\n",
    "            train_loss = 0\n",
    "            model.train()\n",
    "            for i, (data, labels) in zip(range(1), self.train_loader):\n",
    "                data, labels = data, labels\n",
    "                optimizer.zero_grad() \n",
    "                output = model(data)  \n",
    "                loss = criterion(output, labels)\n",
    "                #loss += mu/2 * torch.norm(client_param.data - server_param.data)**2\n",
    "                loss.backward()\n",
    "                #grads = grads_to_vector(model.parameters())\n",
    "                optimizer.step()\n",
    "                train_loss += loss.item()*data.size(0)\n",
    "                \n",
    "                \n",
    "\n",
    "            train_loss = train_loss/self.batchSize#len(self.train_loader.dataset) \n",
    "            e_loss.append(train_loss)\n",
    "\n",
    "        total_loss = e_loss#sum(e_loss)/len(e_loss)\n",
    "\n",
    "        return model.state_dict(), total_loss"
   ]
  },
  {
   "cell_type": "code",
   "execution_count": 14,
   "id": "2eeef5b5",
   "metadata": {},
   "outputs": [],
   "source": [
    "# Preparing projection matrices\n",
    "models = [MLP_Net(user_id=i) for i in range(no_users)]\n",
    "#temp = MLP_Net()\n",
    "projection_list = []\n",
    "projected_weights = []\n",
    "\n",
    "def update_ProjWeight(projection_list, projected_weights, first_run=True):\n",
    "    #projected_weights = []\n",
    "    for i in range(no_users):\n",
    "        neighbors_mat = []\n",
    "        neighbors_weights = []\n",
    "        for j in range(no_users):\n",
    "            if j in G.neighbors(i):\n",
    "                with torch.no_grad():\n",
    "                    if first_run == True:\n",
    "                        row, column = parameters_to_vector(models[j].parameters()).size()[0], parameters_to_vector(models[i].parameters()).size()[0]\n",
    "                        mat = torch.zeros((row, column))\n",
    "                        mat.fill_diagonal_(1.0 + 1.0 * float(np.random.randn(1)))\n",
    "                        neighbors_mat.append(mat)\n",
    "                        neighbors_weights.append(torch.matmul(mat, parameters_to_vector(models[j].parameters())))\n",
    "                    else:\n",
    "                        neighbors_weights.append(torch.matmul(projection_list[j][i], parameters_to_vector(models[j].parameters())))\n",
    "            else:\n",
    "                neighbors_mat.append(0)\n",
    "                neighbors_weights.append(0)\n",
    "        if first_run == True:\n",
    "            projection_list.append(neighbors_mat)\n",
    "        projected_weights.append(neighbors_weights)\n",
    "\n",
    "update_ProjWeight(projection_list, projected_weights)\n",
    "\n"
   ]
  },
  {
   "cell_type": "code",
   "execution_count": 15,
   "id": "8a69ce43",
   "metadata": {},
   "outputs": [
    {
     "name": "stdout",
     "output_type": "stream",
     "text": [
      "[0, 0, tensor([[-0.4589,  0.0000],\n",
      "        [ 0.0000, -0.4589]]), tensor([[0.4372, 0.0000],\n",
      "        [0.0000, 0.4372]]), 0, tensor([[3.1154, 0.0000],\n",
      "        [0.0000, 3.1154]]), tensor([[1.4100, 0.0000],\n",
      "        [0.0000, 1.4100]]), tensor([[0.9351, 0.0000],\n",
      "        [0.0000, 0.9351]]), 0, 0, 0, 0, 0, 0, 0, 0, 0, 0, 0, 0]\n"
     ]
    }
   ],
   "source": [
    "print(projection_list[0])"
   ]
  },
  {
   "cell_type": "code",
   "execution_count": 16,
   "id": "5f6059eb",
   "metadata": {},
   "outputs": [],
   "source": [
    "def testing(model, dataset, bs, criterion): \n",
    "    test_loss = 0\n",
    "    correct = 0\n",
    "    test_loader = DataLoader(MyDataset(dataset[\"features\"], dataset[\"label\"]), batch_size=bs)\n",
    "    l = len(test_loader)\n",
    "    model.eval()\n",
    "    for data, labels in test_loader:\n",
    "        data, labels = data, labels\n",
    "        output = model(data)\n",
    "        loss = criterion(output, labels)\n",
    "        test_loss += loss.item()*data.size(0)\n",
    "        #_, pred = torch.max(output, 1)\n",
    "        #correct += pred.eq(labels.data.view_as(pred)).sum().item()\n",
    "    \n",
    "    test_loss /= len(test_loader.dataset)\n",
    "    \n",
    "    return test_loss"
   ]
  },
  {
   "cell_type": "code",
   "execution_count": null,
   "id": "1c5a8c93",
   "metadata": {},
   "outputs": [],
   "source": []
  },
  {
   "cell_type": "code",
   "execution_count": 17,
   "id": "a5a25e6d",
   "metadata": {},
   "outputs": [],
   "source": [
    "def rel_error(model):\n",
    "    return (torch.norm(parameters_to_vector(model.parameters()) - datapoints[model.user_id]['exact_weights']) / torch.norm(parameters_to_vector(model.parameters()))).detach()"
   ]
  },
  {
   "cell_type": "code",
   "execution_count": 18,
   "id": "1d1a33e3",
   "metadata": {},
   "outputs": [
    {
     "name": "stdout",
     "output_type": "stream",
     "text": [
      "tensor([ 0.1016, -0.3627])\n"
     ]
    },
    {
     "data": {
      "text/plain": [
       "tensor([ 0.2032, -0.7254], grad_fn=<CatBackward0>)"
      ]
     },
     "execution_count": 18,
     "metadata": {},
     "output_type": "execute_result"
    }
   ],
   "source": [
    "model = MLP_Net(user_id=0)\n",
    "\n",
    "from torch.nn.utils import parameters_to_vector, vector_to_parameters\n",
    "\n",
    "with torch.no_grad():    \n",
    "    params = parameters_to_vector(model.parameters())\n",
    "\n",
    "    print(params)\n",
    "\n",
    "params *= 2.\n",
    "\n",
    "vector_to_parameters(parameters=model.parameters(), vec=params)\n",
    "\n",
    "parameters_to_vector(model.parameters())\n",
    "\n",
    "\n",
    "\n"
   ]
  },
  {
   "cell_type": "code",
   "execution_count": 19,
   "id": "71472693",
   "metadata": {},
   "outputs": [
    {
     "name": "stderr",
     "output_type": "stream",
     "text": [
      "  0%|          | 2/1000 [00:00<01:01, 16.21it/s]"
     ]
    },
    {
     "name": "stdout",
     "output_type": "stream",
     "text": [
      "Training_loss 5.90597,   Relative Error 6.87315\n",
      "Training_loss 5.91365,   Relative Error 6.88521\n",
      "Training_loss 5.90201,   Relative Error 6.81896\n"
     ]
    },
    {
     "name": "stderr",
     "output_type": "stream",
     "text": [
      "\r",
      "  0%|          | 4/1000 [00:00<01:00, 16.37it/s]"
     ]
    },
    {
     "name": "stdout",
     "output_type": "stream",
     "text": [
      "Training_loss 5.90443,   Relative Error 6.80918\n"
     ]
    },
    {
     "name": "stderr",
     "output_type": "stream",
     "text": [
      "\r",
      "  1%|          | 6/1000 [00:00<00:57, 17.32it/s]"
     ]
    },
    {
     "name": "stdout",
     "output_type": "stream",
     "text": [
      "Training_loss 5.90930,   Relative Error 6.80982\n",
      "Training_loss 5.91444,   Relative Error 6.81682\n",
      "Training_loss 5.92205,   Relative Error 6.83521\n"
     ]
    },
    {
     "name": "stderr",
     "output_type": "stream",
     "text": [
      "\r",
      "  1%|          | 8/1000 [00:00<00:59, 16.54it/s]"
     ]
    },
    {
     "name": "stdout",
     "output_type": "stream",
     "text": [
      "Training_loss 5.93014,   Relative Error 6.86045\n"
     ]
    },
    {
     "name": "stderr",
     "output_type": "stream",
     "text": [
      "\r",
      "  1%|          | 10/1000 [00:00<00:59, 16.60it/s]"
     ]
    },
    {
     "name": "stdout",
     "output_type": "stream",
     "text": [
      "Training_loss 5.92384,   Relative Error 6.82064\n",
      "Training_loss 5.92264,   Relative Error 6.79852\n",
      "Training_loss 5.92394,   Relative Error 6.78902\n"
     ]
    },
    {
     "name": "stderr",
     "output_type": "stream",
     "text": [
      "\r",
      "  1%|          | 12/1000 [00:00<00:59, 16.74it/s]"
     ]
    },
    {
     "name": "stdout",
     "output_type": "stream",
     "text": [
      "Training_loss 5.92519,   Relative Error 6.78813\n"
     ]
    },
    {
     "name": "stderr",
     "output_type": "stream",
     "text": [
      "\r",
      "  1%|▏         | 14/1000 [00:00<00:57, 17.23it/s]"
     ]
    },
    {
     "name": "stdout",
     "output_type": "stream",
     "text": [
      "Training_loss 5.91966,   Relative Error 6.74820\n",
      "Training_loss 5.92143,   Relative Error 6.74270\n",
      "Training_loss 5.92197,   Relative Error 6.72762\n"
     ]
    },
    {
     "name": "stderr",
     "output_type": "stream",
     "text": [
      "\r",
      "  2%|▏         | 16/1000 [00:00<00:56, 17.41it/s]"
     ]
    },
    {
     "name": "stdout",
     "output_type": "stream",
     "text": [
      "Training_loss 5.91746,   Relative Error 6.70471\n"
     ]
    },
    {
     "name": "stderr",
     "output_type": "stream",
     "text": [
      "\r",
      "  2%|▏         | 18/1000 [00:01<00:55, 17.75it/s]"
     ]
    },
    {
     "name": "stdout",
     "output_type": "stream",
     "text": [
      "Training_loss 5.91080,   Relative Error 6.66398\n",
      "Training_loss 5.90413,   Relative Error 6.62489\n",
      "Training_loss 5.89065,   Relative Error 6.55693\n"
     ]
    },
    {
     "name": "stderr",
     "output_type": "stream",
     "text": [
      "\r",
      "  2%|▏         | 20/1000 [00:01<00:55, 17.58it/s]"
     ]
    },
    {
     "name": "stdout",
     "output_type": "stream",
     "text": [
      "Training_loss 5.87946,   Relative Error 6.51195\n"
     ]
    },
    {
     "name": "stderr",
     "output_type": "stream",
     "text": [
      "\r",
      "  2%|▏         | 23/1000 [00:01<00:54, 17.96it/s]"
     ]
    },
    {
     "name": "stdout",
     "output_type": "stream",
     "text": [
      "Training_loss 5.86889,   Relative Error 6.46022\n",
      "Training_loss 5.86185,   Relative Error 6.43240\n",
      "Training_loss 5.84096,   Relative Error 6.34805\n"
     ]
    },
    {
     "name": "stderr",
     "output_type": "stream",
     "text": [
      "\r",
      "  2%|▎         | 25/1000 [00:01<00:52, 18.43it/s]"
     ]
    },
    {
     "name": "stdout",
     "output_type": "stream",
     "text": [
      "Training_loss 5.83986,   Relative Error 6.34337\n",
      "Training_loss 5.82264,   Relative Error 6.27496\n"
     ]
    },
    {
     "name": "stderr",
     "output_type": "stream",
     "text": [
      "\r",
      "  3%|▎         | 27/1000 [00:01<00:52, 18.49it/s]"
     ]
    },
    {
     "name": "stdout",
     "output_type": "stream",
     "text": [
      "Training_loss 5.81607,   Relative Error 6.24943\n",
      "Training_loss 5.80158,   Relative Error 6.18452\n"
     ]
    },
    {
     "name": "stderr",
     "output_type": "stream",
     "text": [
      "\r",
      "  3%|▎         | 29/1000 [00:01<00:53, 18.06it/s]"
     ]
    },
    {
     "name": "stdout",
     "output_type": "stream",
     "text": [
      "Training_loss 5.77744,   Relative Error 6.08300\n",
      "Training_loss 5.75982,   Relative Error 6.01408\n",
      "Training_loss 5.74834,   Relative Error 5.97101\n"
     ]
    },
    {
     "name": "stderr",
     "output_type": "stream",
     "text": [
      "\r",
      "  3%|▎         | 31/1000 [00:01<00:52, 18.44it/s]"
     ]
    },
    {
     "name": "stdout",
     "output_type": "stream",
     "text": [
      "Training_loss 5.72029,   Relative Error 5.88051\n",
      "Training_loss 5.69556,   Relative Error 5.79741\n"
     ]
    },
    {
     "name": "stderr",
     "output_type": "stream",
     "text": [
      "\r",
      "  3%|▎         | 33/1000 [00:01<00:53, 18.12it/s]"
     ]
    },
    {
     "name": "stdout",
     "output_type": "stream",
     "text": [
      "Training_loss 5.68484,   Relative Error 5.76075\n",
      "Training_loss 5.66289,   Relative Error 5.69285\n"
     ]
    },
    {
     "name": "stderr",
     "output_type": "stream",
     "text": [
      "\r",
      "  4%|▎         | 35/1000 [00:01<00:54, 17.55it/s]"
     ]
    },
    {
     "name": "stdout",
     "output_type": "stream",
     "text": [
      "Training_loss 5.64950,   Relative Error 5.64650\n",
      "Training_loss 5.63289,   Relative Error 5.59560\n"
     ]
    },
    {
     "name": "stderr",
     "output_type": "stream",
     "text": [
      "\r",
      "  4%|▎         | 37/1000 [00:02<00:54, 17.63it/s]"
     ]
    },
    {
     "name": "stdout",
     "output_type": "stream",
     "text": [
      "Training_loss 5.61776,   Relative Error 5.55119\n",
      "Training_loss 5.60169,   Relative Error 5.50748\n"
     ]
    },
    {
     "name": "stderr",
     "output_type": "stream",
     "text": [
      "\r",
      "  4%|▍         | 39/1000 [00:02<00:56, 17.11it/s]"
     ]
    },
    {
     "name": "stdout",
     "output_type": "stream",
     "text": [
      "Training_loss 5.58261,   Relative Error 5.45202\n",
      "Training_loss 5.57215,   Relative Error 5.42614\n"
     ]
    },
    {
     "name": "stderr",
     "output_type": "stream",
     "text": [
      "\r",
      "  4%|▍         | 41/1000 [00:02<00:56, 17.12it/s]"
     ]
    },
    {
     "name": "stdout",
     "output_type": "stream",
     "text": [
      "Training_loss 5.56310,   Relative Error 5.40139\n",
      "Training_loss 5.54561,   Relative Error 5.35059\n"
     ]
    },
    {
     "name": "stderr",
     "output_type": "stream",
     "text": [
      "\r",
      "  4%|▍         | 43/1000 [00:02<00:54, 17.65it/s]"
     ]
    },
    {
     "name": "stdout",
     "output_type": "stream",
     "text": [
      "Training_loss 5.51428,   Relative Error 5.26735\n",
      "Training_loss 5.49668,   Relative Error 5.22408\n"
     ]
    },
    {
     "name": "stderr",
     "output_type": "stream",
     "text": [
      "\r",
      "  4%|▍         | 45/1000 [00:02<00:54, 17.49it/s]"
     ]
    },
    {
     "name": "stdout",
     "output_type": "stream",
     "text": [
      "Training_loss 5.47785,   Relative Error 5.16468\n",
      "Training_loss 5.47038,   Relative Error 5.14893\n"
     ]
    },
    {
     "name": "stderr",
     "output_type": "stream",
     "text": [
      "\r",
      "  5%|▍         | 47/1000 [00:02<00:52, 18.10it/s]"
     ]
    },
    {
     "name": "stdout",
     "output_type": "stream",
     "text": [
      "Training_loss 5.45169,   Relative Error 5.09496\n",
      "Training_loss 5.43631,   Relative Error 5.05553\n",
      "Training_loss 5.41416,   Relative Error 4.99500\n"
     ]
    },
    {
     "name": "stderr",
     "output_type": "stream",
     "text": [
      "\r",
      "  5%|▌         | 50/1000 [00:02<00:51, 18.42it/s]"
     ]
    },
    {
     "name": "stdout",
     "output_type": "stream",
     "text": [
      "Training_loss 5.39735,   Relative Error 4.95281\n"
     ]
    },
    {
     "name": "stderr",
     "output_type": "stream",
     "text": [
      "\r",
      "  5%|▌         | 52/1000 [00:02<00:51, 18.37it/s]"
     ]
    },
    {
     "name": "stdout",
     "output_type": "stream",
     "text": [
      "Training_loss 5.38493,   Relative Error 4.91880\n",
      "Training_loss 5.37436,   Relative Error 4.89072\n",
      "Training_loss 5.34990,   Relative Error 4.83527\n",
      "Training_loss 5.32825,   Relative Error 4.78464\n"
     ]
    },
    {
     "name": "stderr",
     "output_type": "stream",
     "text": [
      "  6%|▌         | 57/1000 [00:03<00:50, 18.53it/s]"
     ]
    },
    {
     "name": "stdout",
     "output_type": "stream",
     "text": [
      "Training_loss 5.31148,   Relative Error 4.74264\n",
      "Training_loss 5.28784,   Relative Error 4.68809\n",
      "Training_loss 5.27807,   Relative Error 4.66457\n",
      "Training_loss 5.26815,   Relative Error 4.64360\n",
      "Training_loss 5.24402,   Relative Error 4.58477\n"
     ]
    },
    {
     "name": "stderr",
     "output_type": "stream",
     "text": [
      "  6%|▌         | 62/1000 [00:03<00:49, 18.85it/s]"
     ]
    },
    {
     "name": "stdout",
     "output_type": "stream",
     "text": [
      "Training_loss 5.21484,   Relative Error 4.51899\n",
      "Training_loss 5.18947,   Relative Error 4.46078\n",
      "Training_loss 5.18012,   Relative Error 4.44294\n",
      "Training_loss 5.15899,   Relative Error 4.39742\n"
     ]
    },
    {
     "name": "stderr",
     "output_type": "stream",
     "text": [
      "  7%|▋         | 66/1000 [00:03<00:51, 18.23it/s]"
     ]
    },
    {
     "name": "stdout",
     "output_type": "stream",
     "text": [
      "Training_loss 5.13808,   Relative Error 4.35204\n",
      "Training_loss 5.11625,   Relative Error 4.30714\n",
      "Training_loss 5.10474,   Relative Error 4.28534\n",
      "Training_loss 5.08494,   Relative Error 4.24240\n"
     ]
    },
    {
     "name": "stderr",
     "output_type": "stream",
     "text": [
      "  7%|▋         | 70/1000 [00:03<00:50, 18.44it/s]"
     ]
    },
    {
     "name": "stdout",
     "output_type": "stream",
     "text": [
      "Training_loss 5.06491,   Relative Error 4.20042\n",
      "Training_loss 5.05200,   Relative Error 4.17259\n",
      "Training_loss 5.04421,   Relative Error 4.15604\n",
      "Training_loss 5.02122,   Relative Error 4.11042\n"
     ]
    },
    {
     "name": "stderr",
     "output_type": "stream",
     "text": [
      "  8%|▊         | 75/1000 [00:04<00:52, 17.79it/s]"
     ]
    },
    {
     "name": "stdout",
     "output_type": "stream",
     "text": [
      "Training_loss 5.01143,   Relative Error 4.09099\n",
      "Training_loss 4.98983,   Relative Error 4.04910\n",
      "Training_loss 4.97608,   Relative Error 4.02058\n",
      "Training_loss 4.95512,   Relative Error 3.98202\n"
     ]
    },
    {
     "name": "stderr",
     "output_type": "stream",
     "text": [
      "  8%|▊         | 79/1000 [00:04<00:52, 17.64it/s]"
     ]
    },
    {
     "name": "stdout",
     "output_type": "stream",
     "text": [
      "Training_loss 4.93493,   Relative Error 3.94230\n",
      "Training_loss 4.91586,   Relative Error 3.90645\n",
      "Training_loss 4.89744,   Relative Error 3.87161\n",
      "Training_loss 4.87231,   Relative Error 3.82611\n"
     ]
    },
    {
     "name": "stderr",
     "output_type": "stream",
     "text": [
      "  8%|▊         | 83/1000 [00:04<00:54, 16.96it/s]"
     ]
    },
    {
     "name": "stdout",
     "output_type": "stream",
     "text": [
      "Training_loss 4.85111,   Relative Error 3.78639\n",
      "Training_loss 4.84076,   Relative Error 3.76614\n",
      "Training_loss 4.81678,   Relative Error 3.72216\n",
      "Training_loss 4.79974,   Relative Error 3.69060\n"
     ]
    },
    {
     "name": "stderr",
     "output_type": "stream",
     "text": [
      "  9%|▊         | 87/1000 [00:04<00:53, 17.11it/s]"
     ]
    },
    {
     "name": "stdout",
     "output_type": "stream",
     "text": [
      "Training_loss 4.78386,   Relative Error 3.66372\n",
      "Training_loss 4.76130,   Relative Error 3.62564\n",
      "Training_loss 4.74950,   Relative Error 3.60557\n",
      "Training_loss 4.72749,   Relative Error 3.56695\n"
     ]
    },
    {
     "name": "stderr",
     "output_type": "stream",
     "text": [
      "  9%|▉         | 91/1000 [00:05<00:53, 16.85it/s]"
     ]
    },
    {
     "name": "stdout",
     "output_type": "stream",
     "text": [
      "Training_loss 4.70883,   Relative Error 3.53497\n",
      "Training_loss 4.69196,   Relative Error 3.50642\n",
      "Training_loss 4.66913,   Relative Error 3.46963\n",
      "Training_loss 4.65498,   Relative Error 3.44532\n"
     ]
    },
    {
     "name": "stderr",
     "output_type": "stream",
     "text": [
      " 10%|▉         | 95/1000 [00:05<00:54, 16.67it/s]"
     ]
    },
    {
     "name": "stdout",
     "output_type": "stream",
     "text": [
      "Training_loss 4.64213,   Relative Error 3.42505\n",
      "Training_loss 4.63035,   Relative Error 3.40676\n",
      "Training_loss 4.61417,   Relative Error 3.38101\n",
      "Training_loss 4.59914,   Relative Error 3.35908\n"
     ]
    },
    {
     "name": "stderr",
     "output_type": "stream",
     "text": [
      " 10%|▉         | 99/1000 [00:05<00:53, 16.87it/s]"
     ]
    },
    {
     "name": "stdout",
     "output_type": "stream",
     "text": [
      "Training_loss 4.56936,   Relative Error 3.31382\n",
      "Training_loss 4.55541,   Relative Error 3.29291\n",
      "Training_loss 4.54611,   Relative Error 3.27969\n",
      "Training_loss 4.53065,   Relative Error 3.25645\n"
     ]
    },
    {
     "name": "stderr",
     "output_type": "stream",
     "text": [
      "\r",
      " 10%|█         | 102/1000 [00:05<00:49, 17.96it/s]"
     ]
    },
    {
     "name": "stdout",
     "output_type": "stream",
     "text": [
      "Training_loss 4.51457,   Relative Error 3.23221\n",
      "Training_loss 4.49760,   Relative Error 3.20743\n",
      "Training_loss 4.48119,   Relative Error 3.18363\n",
      "Training_loss 4.46876,   Relative Error 3.16591\n",
      "Training_loss 4.45249,   Relative Error 3.14273\n"
     ]
    },
    {
     "name": "stderr",
     "output_type": "stream",
     "text": [
      " 11%|█         | 109/1000 [00:06<00:48, 18.49it/s]"
     ]
    },
    {
     "name": "stdout",
     "output_type": "stream",
     "text": [
      "Training_loss 4.43314,   Relative Error 3.11460\n",
      "Training_loss 4.41519,   Relative Error 3.08939\n",
      "Training_loss 4.40573,   Relative Error 3.07594\n",
      "Training_loss 4.39295,   Relative Error 3.05808\n",
      "Training_loss 4.37608,   Relative Error 3.03479\n"
     ]
    },
    {
     "name": "stderr",
     "output_type": "stream",
     "text": [
      " 11%|█▏        | 113/1000 [00:06<00:49, 17.85it/s]"
     ]
    },
    {
     "name": "stdout",
     "output_type": "stream",
     "text": [
      "Training_loss 4.36141,   Relative Error 3.01482\n",
      "Training_loss 4.33956,   Relative Error 2.98533\n",
      "Training_loss 4.32932,   Relative Error 2.97238\n",
      "Training_loss 4.31005,   Relative Error 2.94655\n"
     ]
    },
    {
     "name": "stderr",
     "output_type": "stream",
     "text": [
      " 12%|█▏        | 117/1000 [00:06<00:48, 18.12it/s]"
     ]
    },
    {
     "name": "stdout",
     "output_type": "stream",
     "text": [
      "Training_loss 4.29911,   Relative Error 2.93179\n",
      "Training_loss 4.28185,   Relative Error 2.90925\n",
      "Training_loss 4.26771,   Relative Error 2.89097\n",
      "Training_loss 4.24887,   Relative Error 2.86657\n"
     ]
    },
    {
     "name": "stderr",
     "output_type": "stream",
     "text": [
      " 12%|█▏        | 121/1000 [00:06<00:47, 18.37it/s]"
     ]
    },
    {
     "name": "stdout",
     "output_type": "stream",
     "text": [
      "Training_loss 4.23428,   Relative Error 2.84739\n",
      "Training_loss 4.21945,   Relative Error 2.82912\n",
      "Training_loss 4.20532,   Relative Error 2.81131\n",
      "Training_loss 4.19444,   Relative Error 2.79742\n"
     ]
    },
    {
     "name": "stderr",
     "output_type": "stream",
     "text": [
      " 12%|█▎        | 125/1000 [00:07<00:48, 17.96it/s]"
     ]
    },
    {
     "name": "stdout",
     "output_type": "stream",
     "text": [
      "Training_loss 4.17782,   Relative Error 2.77681\n",
      "Training_loss 4.14678,   Relative Error 2.73899\n",
      "Training_loss 4.13402,   Relative Error 2.72278\n",
      "Training_loss 4.11402,   Relative Error 2.69816\n"
     ]
    },
    {
     "name": "stderr",
     "output_type": "stream",
     "text": [
      "\r",
      " 13%|█▎        | 127/1000 [00:07<00:47, 18.31it/s]"
     ]
    },
    {
     "name": "stdout",
     "output_type": "stream",
     "text": [
      "Training_loss 4.09445,   Relative Error 2.67435\n",
      "Training_loss 4.08295,   Relative Error 2.66074\n",
      "Training_loss 4.06563,   Relative Error 2.64082\n",
      "Training_loss 4.04982,   Relative Error 2.62284\n"
     ]
    },
    {
     "name": "stderr",
     "output_type": "stream",
     "text": [
      " 13%|█▎        | 132/1000 [00:07<00:46, 18.55it/s]"
     ]
    },
    {
     "name": "stdout",
     "output_type": "stream",
     "text": [
      "Training_loss 4.03157,   Relative Error 2.60185\n",
      "Training_loss 4.01754,   Relative Error 2.58587\n",
      "Training_loss 4.00609,   Relative Error 2.57302\n",
      "Training_loss 3.99223,   Relative Error 2.55761\n"
     ]
    },
    {
     "name": "stderr",
     "output_type": "stream",
     "text": [
      " 14%|█▎        | 136/1000 [00:07<00:46, 18.51it/s]"
     ]
    },
    {
     "name": "stdout",
     "output_type": "stream",
     "text": [
      "Training_loss 3.97747,   Relative Error 2.54115\n",
      "Training_loss 3.96165,   Relative Error 2.52340\n",
      "Training_loss 3.95032,   Relative Error 2.51053\n",
      "Training_loss 3.93451,   Relative Error 2.49338\n",
      "Training_loss 3.91689,   Relative Error 2.47386\n"
     ]
    },
    {
     "name": "stderr",
     "output_type": "stream",
     "text": [
      " 14%|█▍        | 141/1000 [00:07<00:43, 19.78it/s]"
     ]
    },
    {
     "name": "stdout",
     "output_type": "stream",
     "text": [
      "Training_loss 3.91027,   Relative Error 2.46689\n",
      "Training_loss 3.90148,   Relative Error 2.45703\n",
      "Training_loss 3.88283,   Relative Error 2.43710\n",
      "Training_loss 3.86834,   Relative Error 2.42184\n"
     ]
    },
    {
     "name": "stderr",
     "output_type": "stream",
     "text": [
      " 15%|█▍        | 146/1000 [00:08<00:46, 18.53it/s]"
     ]
    },
    {
     "name": "stdout",
     "output_type": "stream",
     "text": [
      "Training_loss 3.84676,   Relative Error 2.39921\n",
      "Training_loss 3.83447,   Relative Error 2.38645\n",
      "Training_loss 3.82060,   Relative Error 2.37170\n",
      "Training_loss 3.80946,   Relative Error 2.36036\n",
      "Training_loss 3.79127,   Relative Error 2.34192\n"
     ]
    },
    {
     "name": "stderr",
     "output_type": "stream",
     "text": [
      " 15%|█▌        | 151/1000 [00:08<00:45, 18.55it/s]"
     ]
    },
    {
     "name": "stdout",
     "output_type": "stream",
     "text": [
      "Training_loss 3.77767,   Relative Error 2.32798\n",
      "Training_loss 3.76168,   Relative Error 2.31207\n",
      "Training_loss 3.74914,   Relative Error 2.29945\n",
      "Training_loss 3.74056,   Relative Error 2.29109\n"
     ]
    },
    {
     "name": "stderr",
     "output_type": "stream",
     "text": [
      " 16%|█▌        | 155/1000 [00:08<00:46, 18.13it/s]"
     ]
    },
    {
     "name": "stdout",
     "output_type": "stream",
     "text": [
      "Training_loss 3.72616,   Relative Error 2.27647\n",
      "Training_loss 3.71798,   Relative Error 2.26858\n",
      "Training_loss 3.71213,   Relative Error 2.26296\n",
      "Training_loss 3.69125,   Relative Error 2.24241\n"
     ]
    },
    {
     "name": "stderr",
     "output_type": "stream",
     "text": [
      "\r",
      " 16%|█▌        | 158/1000 [00:08<00:44, 18.89it/s]"
     ]
    },
    {
     "name": "stdout",
     "output_type": "stream",
     "text": [
      "Training_loss 3.68489,   Relative Error 2.23619\n",
      "Training_loss 3.67652,   Relative Error 2.22820\n",
      "Training_loss 3.66391,   Relative Error 2.21596\n",
      "Training_loss 3.64929,   Relative Error 2.20172\n",
      "Training_loss 3.64121,   Relative Error 2.19404\n"
     ]
    },
    {
     "name": "stderr",
     "output_type": "stream",
     "text": [
      " 16%|█▋        | 163/1000 [00:09<00:44, 18.98it/s]"
     ]
    },
    {
     "name": "stdout",
     "output_type": "stream",
     "text": [
      "Training_loss 3.62689,   Relative Error 2.18047\n",
      "Training_loss 3.61422,   Relative Error 2.16858\n",
      "Training_loss 3.59840,   Relative Error 2.15355\n",
      "Training_loss 3.58654,   Relative Error 2.14244\n",
      "Training_loss 3.57277,   Relative Error 2.12966\n"
     ]
    },
    {
     "name": "stderr",
     "output_type": "stream",
     "text": [
      " 17%|█▋        | 168/1000 [00:09<00:44, 18.87it/s]"
     ]
    },
    {
     "name": "stdout",
     "output_type": "stream",
     "text": [
      "Training_loss 3.55759,   Relative Error 2.11577\n",
      "Training_loss 3.55174,   Relative Error 2.11036\n",
      "Training_loss 3.53246,   Relative Error 2.09296\n",
      "Training_loss 3.52737,   Relative Error 2.08832\n",
      "Training_loss 3.50854,   Relative Error 2.07132\n"
     ]
    },
    {
     "name": "stderr",
     "output_type": "stream",
     "text": [
      " 17%|█▋        | 173/1000 [00:09<00:43, 18.85it/s]"
     ]
    },
    {
     "name": "stdout",
     "output_type": "stream",
     "text": [
      "Training_loss 3.50331,   Relative Error 2.06667\n",
      "Training_loss 3.49216,   Relative Error 2.05656\n",
      "Training_loss 3.47406,   Relative Error 2.04052\n",
      "Training_loss 3.46123,   Relative Error 2.02930\n"
     ]
    },
    {
     "name": "stderr",
     "output_type": "stream",
     "text": [
      " 18%|█▊        | 177/1000 [00:09<00:44, 18.49it/s]"
     ]
    },
    {
     "name": "stdout",
     "output_type": "stream",
     "text": [
      "Training_loss 3.45242,   Relative Error 2.02152\n",
      "Training_loss 3.44287,   Relative Error 2.01322\n",
      "Training_loss 3.43453,   Relative Error 2.00585\n",
      "Training_loss 3.42588,   Relative Error 1.99826\n"
     ]
    },
    {
     "name": "stderr",
     "output_type": "stream",
     "text": [
      " 18%|█▊        | 181/1000 [00:09<00:44, 18.60it/s]"
     ]
    },
    {
     "name": "stdout",
     "output_type": "stream",
     "text": [
      "Training_loss 3.42083,   Relative Error 1.99388\n",
      "Training_loss 3.41423,   Relative Error 1.98801\n",
      "Training_loss 3.40484,   Relative Error 1.98008\n",
      "Training_loss 3.39384,   Relative Error 1.97060\n"
     ]
    },
    {
     "name": "stderr",
     "output_type": "stream",
     "text": [
      " 18%|█▊        | 185/1000 [00:10<00:44, 18.41it/s]"
     ]
    },
    {
     "name": "stdout",
     "output_type": "stream",
     "text": [
      "Training_loss 3.38051,   Relative Error 1.95919\n",
      "Training_loss 3.37051,   Relative Error 1.95058\n",
      "Training_loss 3.35718,   Relative Error 1.93928\n",
      "Training_loss 3.34366,   Relative Error 1.92802\n"
     ]
    },
    {
     "name": "stderr",
     "output_type": "stream",
     "text": [
      " 19%|█▉        | 189/1000 [00:10<00:44, 18.24it/s]"
     ]
    },
    {
     "name": "stdout",
     "output_type": "stream",
     "text": [
      "Training_loss 3.33689,   Relative Error 1.92245\n",
      "Training_loss 3.32675,   Relative Error 1.91389\n",
      "Training_loss 3.31853,   Relative Error 1.90696\n",
      "Training_loss 3.30973,   Relative Error 1.89981\n"
     ]
    },
    {
     "name": "stderr",
     "output_type": "stream",
     "text": [
      " 19%|█▉        | 193/1000 [00:10<00:43, 18.44it/s]"
     ]
    },
    {
     "name": "stdout",
     "output_type": "stream",
     "text": [
      "Training_loss 3.29643,   Relative Error 1.88856\n",
      "Training_loss 3.28399,   Relative Error 1.87841\n",
      "Training_loss 3.27545,   Relative Error 1.87164\n",
      "Training_loss 3.26878,   Relative Error 1.86642\n"
     ]
    },
    {
     "name": "stderr",
     "output_type": "stream",
     "text": [
      " 20%|█▉        | 198/1000 [00:10<00:44, 18.10it/s]"
     ]
    },
    {
     "name": "stdout",
     "output_type": "stream",
     "text": [
      "Training_loss 3.26163,   Relative Error 1.86078\n",
      "Training_loss 3.24923,   Relative Error 1.85093\n",
      "Training_loss 3.23798,   Relative Error 1.84194\n",
      "Training_loss 3.22999,   Relative Error 1.83562\n"
     ]
    },
    {
     "name": "stderr",
     "output_type": "stream",
     "text": [
      " 20%|██        | 203/1000 [00:11<00:41, 19.21it/s]"
     ]
    },
    {
     "name": "stdout",
     "output_type": "stream",
     "text": [
      "Training_loss 3.21928,   Relative Error 1.82712\n",
      "Training_loss 3.20648,   Relative Error 1.81690\n",
      "Training_loss 3.19414,   Relative Error 1.80720\n",
      "Training_loss 3.17476,   Relative Error 1.79205\n",
      "Training_loss 3.15732,   Relative Error 1.77846\n"
     ]
    },
    {
     "name": "stderr",
     "output_type": "stream",
     "text": [
      " 21%|██        | 207/1000 [00:11<00:44, 17.64it/s]"
     ]
    },
    {
     "name": "stdout",
     "output_type": "stream",
     "text": [
      "Training_loss 3.14830,   Relative Error 1.77153\n",
      "Training_loss 3.13261,   Relative Error 1.75948\n",
      "Training_loss 3.12055,   Relative Error 1.75025\n",
      "Training_loss 3.11802,   Relative Error 1.74833\n"
     ]
    },
    {
     "name": "stderr",
     "output_type": "stream",
     "text": [
      "\r",
      " 21%|██        | 210/1000 [00:11<00:43, 18.17it/s]"
     ]
    },
    {
     "name": "stdout",
     "output_type": "stream",
     "text": [
      "Training_loss 3.11242,   Relative Error 1.74396\n",
      "Training_loss 3.10432,   Relative Error 1.73766\n",
      "Training_loss 3.09199,   Relative Error 1.72830\n",
      "Training_loss 3.07669,   Relative Error 1.71687\n"
     ]
    },
    {
     "name": "stderr",
     "output_type": "stream",
     "text": [
      " 22%|██▏       | 215/1000 [00:11<00:42, 18.37it/s]"
     ]
    },
    {
     "name": "stdout",
     "output_type": "stream",
     "text": [
      "Training_loss 3.05391,   Relative Error 1.69981\n",
      "Training_loss 3.04034,   Relative Error 1.68982\n",
      "Training_loss 3.02317,   Relative Error 1.67724\n",
      "Training_loss 3.01630,   Relative Error 1.67228\n",
      "Training_loss 3.00316,   Relative Error 1.66265\n"
     ]
    },
    {
     "name": "stderr",
     "output_type": "stream",
     "text": [
      " 22%|██▏       | 220/1000 [00:12<00:41, 18.80it/s]"
     ]
    },
    {
     "name": "stdout",
     "output_type": "stream",
     "text": [
      "Training_loss 2.99051,   Relative Error 1.65347\n",
      "Training_loss 2.98031,   Relative Error 1.64608\n",
      "Training_loss 2.97032,   Relative Error 1.63895\n",
      "Training_loss 2.95562,   Relative Error 1.62847\n"
     ]
    },
    {
     "name": "stderr",
     "output_type": "stream",
     "text": [
      " 22%|██▏       | 224/1000 [00:12<00:41, 18.77it/s]"
     ]
    },
    {
     "name": "stdout",
     "output_type": "stream",
     "text": [
      "Training_loss 2.94655,   Relative Error 1.62195\n",
      "Training_loss 2.94320,   Relative Error 1.61961\n",
      "Training_loss 2.93509,   Relative Error 1.61377\n",
      "Training_loss 2.93063,   Relative Error 1.61059\n",
      "Training_loss 2.92215,   Relative Error 1.60460\n"
     ]
    },
    {
     "name": "stderr",
     "output_type": "stream",
     "text": [
      " 23%|██▎       | 228/1000 [00:12<00:41, 18.69it/s]"
     ]
    },
    {
     "name": "stdout",
     "output_type": "stream",
     "text": [
      "Training_loss 2.91529,   Relative Error 1.59978\n",
      "Training_loss 2.90586,   Relative Error 1.59322\n",
      "Training_loss 2.89389,   Relative Error 1.58485\n",
      "Training_loss 2.87964,   Relative Error 1.57494\n"
     ]
    },
    {
     "name": "stderr",
     "output_type": "stream",
     "text": [
      "\r",
      " 23%|██▎       | 231/1000 [00:12<00:41, 18.52it/s]"
     ]
    },
    {
     "name": "stdout",
     "output_type": "stream",
     "text": [
      "Training_loss 2.87305,   Relative Error 1.57037\n",
      "Training_loss 2.86108,   Relative Error 1.56205\n",
      "Training_loss 2.85166,   Relative Error 1.55554\n",
      "Training_loss 2.84361,   Relative Error 1.54998\n"
     ]
    },
    {
     "name": "stderr",
     "output_type": "stream",
     "text": [
      " 24%|██▎       | 237/1000 [00:13<00:40, 18.61it/s]"
     ]
    },
    {
     "name": "stdout",
     "output_type": "stream",
     "text": [
      "Training_loss 2.83820,   Relative Error 1.54634\n",
      "Training_loss 2.82465,   Relative Error 1.53706\n",
      "Training_loss 2.80704,   Relative Error 1.52499\n",
      "Training_loss 2.79169,   Relative Error 1.51462\n",
      "Training_loss 2.78442,   Relative Error 1.50969\n"
     ]
    },
    {
     "name": "stderr",
     "output_type": "stream",
     "text": [
      " 24%|██▍       | 242/1000 [00:13<00:39, 18.98it/s]"
     ]
    },
    {
     "name": "stdout",
     "output_type": "stream",
     "text": [
      "Training_loss 2.77743,   Relative Error 1.50504\n",
      "Training_loss 2.77214,   Relative Error 1.50153\n",
      "Training_loss 2.76030,   Relative Error 1.49357\n",
      "Training_loss 2.74850,   Relative Error 1.48571\n"
     ]
    },
    {
     "name": "stderr",
     "output_type": "stream",
     "text": [
      "\r",
      " 24%|██▍       | 245/1000 [00:13<00:39, 19.09it/s]"
     ]
    },
    {
     "name": "stdout",
     "output_type": "stream",
     "text": [
      "Training_loss 2.73876,   Relative Error 1.47912\n",
      "Training_loss 2.73240,   Relative Error 1.47492\n",
      "Training_loss 2.72523,   Relative Error 1.47022\n",
      "Training_loss 2.71539,   Relative Error 1.46373\n"
     ]
    },
    {
     "name": "stderr",
     "output_type": "stream",
     "text": [
      " 25%|██▍       | 249/1000 [00:13<00:40, 18.49it/s]"
     ]
    },
    {
     "name": "stdout",
     "output_type": "stream",
     "text": [
      "Training_loss 2.71028,   Relative Error 1.46037\n",
      "Training_loss 2.70219,   Relative Error 1.45504\n",
      "Training_loss 2.69378,   Relative Error 1.44955\n",
      "Training_loss 2.68558,   Relative Error 1.44419\n"
     ]
    },
    {
     "name": "stderr",
     "output_type": "stream",
     "text": [
      " 25%|██▌       | 253/1000 [00:13<00:40, 18.55it/s]"
     ]
    },
    {
     "name": "stdout",
     "output_type": "stream",
     "text": [
      "Training_loss 2.67747,   Relative Error 1.43891\n",
      "Training_loss 2.66480,   Relative Error 1.43081\n",
      "Training_loss 2.65964,   Relative Error 1.42747\n",
      "Training_loss 2.65402,   Relative Error 1.42386\n"
     ]
    },
    {
     "name": "stderr",
     "output_type": "stream",
     "text": [
      " 26%|██▌       | 258/1000 [00:14<00:39, 18.83it/s]"
     ]
    },
    {
     "name": "stdout",
     "output_type": "stream",
     "text": [
      "Training_loss 2.64511,   Relative Error 1.41813\n",
      "Training_loss 2.63702,   Relative Error 1.41290\n",
      "Training_loss 2.63504,   Relative Error 1.41164\n",
      "Training_loss 2.63093,   Relative Error 1.40899\n"
     ]
    },
    {
     "name": "stderr",
     "output_type": "stream",
     "text": [
      " 26%|██▌       | 262/1000 [00:14<00:39, 18.51it/s]"
     ]
    },
    {
     "name": "stdout",
     "output_type": "stream",
     "text": [
      "Training_loss 2.62412,   Relative Error 1.40467\n",
      "Training_loss 2.61459,   Relative Error 1.39863\n",
      "Training_loss 2.60376,   Relative Error 1.39177\n",
      "Training_loss 2.59471,   Relative Error 1.38608\n",
      "Training_loss 2.59005,   Relative Error 1.38314\n"
     ]
    },
    {
     "name": "stderr",
     "output_type": "stream",
     "text": [
      " 27%|██▋       | 266/1000 [00:14<00:39, 18.64it/s]"
     ]
    },
    {
     "name": "stdout",
     "output_type": "stream",
     "text": [
      "Training_loss 2.58275,   Relative Error 1.37852\n",
      "Training_loss 2.57269,   Relative Error 1.37226\n",
      "Training_loss 2.56054,   Relative Error 1.36463\n",
      "Training_loss 2.55507,   Relative Error 1.36120\n"
     ]
    },
    {
     "name": "stderr",
     "output_type": "stream",
     "text": [
      " 27%|██▋       | 270/1000 [00:14<00:40, 18.08it/s]"
     ]
    },
    {
     "name": "stdout",
     "output_type": "stream",
     "text": [
      "Training_loss 2.55059,   Relative Error 1.35846\n",
      "Training_loss 2.54562,   Relative Error 1.35539\n",
      "Training_loss 2.53826,   Relative Error 1.35080\n",
      "Training_loss 2.53072,   Relative Error 1.34613\n"
     ]
    },
    {
     "name": "stderr",
     "output_type": "stream",
     "text": [
      " 28%|██▊       | 275/1000 [00:15<00:38, 18.87it/s]"
     ]
    },
    {
     "name": "stdout",
     "output_type": "stream",
     "text": [
      "Training_loss 2.52662,   Relative Error 1.34361\n",
      "Training_loss 2.51133,   Relative Error 1.33417\n",
      "Training_loss 2.50175,   Relative Error 1.32829\n",
      "Training_loss 2.49616,   Relative Error 1.32490\n",
      "Training_loss 2.48902,   Relative Error 1.32052\n"
     ]
    },
    {
     "name": "stderr",
     "output_type": "stream",
     "text": [
      " 28%|██▊       | 281/1000 [00:15<00:38, 18.69it/s]"
     ]
    },
    {
     "name": "stdout",
     "output_type": "stream",
     "text": [
      "Training_loss 2.48021,   Relative Error 1.31516\n",
      "Training_loss 2.47639,   Relative Error 1.31285\n",
      "Training_loss 2.46983,   Relative Error 1.30887\n",
      "Training_loss 2.46319,   Relative Error 1.30485\n",
      "Training_loss 2.45260,   Relative Error 1.29846\n"
     ]
    },
    {
     "name": "stderr",
     "output_type": "stream",
     "text": [
      " 28%|██▊       | 285/1000 [00:15<00:38, 18.60it/s]"
     ]
    },
    {
     "name": "stdout",
     "output_type": "stream",
     "text": [
      "Training_loss 2.44022,   Relative Error 1.29100\n",
      "Training_loss 2.43035,   Relative Error 1.28511\n",
      "Training_loss 2.41769,   Relative Error 1.27754\n",
      "Training_loss 2.41379,   Relative Error 1.27522\n"
     ]
    },
    {
     "name": "stderr",
     "output_type": "stream",
     "text": [
      " 29%|██▉       | 289/1000 [00:15<00:39, 17.89it/s]"
     ]
    },
    {
     "name": "stdout",
     "output_type": "stream",
     "text": [
      "Training_loss 2.40659,   Relative Error 1.27093\n",
      "Training_loss 2.39903,   Relative Error 1.26643\n",
      "Training_loss 2.38922,   Relative Error 1.26064\n",
      "Training_loss 2.38186,   Relative Error 1.25627\n",
      "Training_loss 2.37521,   Relative Error 1.25235\n"
     ]
    },
    {
     "name": "stderr",
     "output_type": "stream",
     "text": [
      " 29%|██▉       | 293/1000 [00:16<00:40, 17.67it/s]"
     ]
    },
    {
     "name": "stdout",
     "output_type": "stream",
     "text": [
      "Training_loss 2.37062,   Relative Error 1.24965\n",
      "Training_loss 2.36208,   Relative Error 1.24463\n",
      "Training_loss 2.35694,   Relative Error 1.24163\n",
      "Training_loss 2.35005,   Relative Error 1.23761\n"
     ]
    },
    {
     "name": "stderr",
     "output_type": "stream",
     "text": [
      " 30%|██▉       | 298/1000 [00:16<00:37, 18.73it/s]"
     ]
    },
    {
     "name": "stdout",
     "output_type": "stream",
     "text": [
      "Training_loss 2.34114,   Relative Error 1.23243\n",
      "Training_loss 2.33317,   Relative Error 1.22780\n",
      "Training_loss 2.32155,   Relative Error 1.22108\n",
      "Training_loss 2.31647,   Relative Error 1.21814\n"
     ]
    },
    {
     "name": "stderr",
     "output_type": "stream",
     "text": [
      " 30%|███       | 303/1000 [00:16<00:36, 18.85it/s]"
     ]
    },
    {
     "name": "stdout",
     "output_type": "stream",
     "text": [
      "Training_loss 2.30611,   Relative Error 1.21213\n",
      "Training_loss 2.29735,   Relative Error 1.20709\n",
      "Training_loss 2.29271,   Relative Error 1.20443\n",
      "Training_loss 2.28776,   Relative Error 1.20160\n",
      "Training_loss 2.28490,   Relative Error 1.19995\n"
     ]
    },
    {
     "name": "stderr",
     "output_type": "stream",
     "text": [
      " 31%|███       | 308/1000 [00:16<00:36, 19.10it/s]"
     ]
    },
    {
     "name": "stdout",
     "output_type": "stream",
     "text": [
      "Training_loss 2.28048,   Relative Error 1.19742\n",
      "Training_loss 2.27350,   Relative Error 1.19344\n",
      "Training_loss 2.26109,   Relative Error 1.18637\n",
      "Training_loss 2.25429,   Relative Error 1.18250\n",
      "Training_loss 2.24877,   Relative Error 1.17937\n"
     ]
    },
    {
     "name": "stderr",
     "output_type": "stream",
     "text": [
      " 31%|███▏      | 313/1000 [00:17<00:35, 19.21it/s]"
     ]
    },
    {
     "name": "stdout",
     "output_type": "stream",
     "text": [
      "Training_loss 2.24604,   Relative Error 1.17783\n",
      "Training_loss 2.24000,   Relative Error 1.17439\n",
      "Training_loss 2.23376,   Relative Error 1.17088\n",
      "Training_loss 2.22362,   Relative Error 1.16516\n",
      "Training_loss 2.21590,   Relative Error 1.16083\n"
     ]
    },
    {
     "name": "stderr",
     "output_type": "stream",
     "text": [
      " 32%|███▏      | 318/1000 [00:17<00:36, 18.86it/s]"
     ]
    },
    {
     "name": "stdout",
     "output_type": "stream",
     "text": [
      "Training_loss 2.20443,   Relative Error 1.15439\n",
      "Training_loss 2.19945,   Relative Error 1.15162\n",
      "Training_loss 2.19375,   Relative Error 1.14844\n",
      "Training_loss 2.18917,   Relative Error 1.14590\n",
      "Training_loss 2.18054,   Relative Error 1.14109\n"
     ]
    },
    {
     "name": "stderr",
     "output_type": "stream",
     "text": [
      " 32%|███▏      | 323/1000 [00:17<00:34, 19.53it/s]"
     ]
    },
    {
     "name": "stdout",
     "output_type": "stream",
     "text": [
      "Training_loss 2.17392,   Relative Error 1.13741\n",
      "Training_loss 2.16630,   Relative Error 1.13319\n",
      "Training_loss 2.15555,   Relative Error 1.12725\n",
      "Training_loss 2.15174,   Relative Error 1.12516\n",
      "Training_loss 2.14475,   Relative Error 1.12132\n"
     ]
    },
    {
     "name": "stderr",
     "output_type": "stream",
     "text": [
      " 33%|███▎      | 327/1000 [00:17<00:36, 18.55it/s]"
     ]
    },
    {
     "name": "stdout",
     "output_type": "stream",
     "text": [
      "Training_loss 2.13467,   Relative Error 1.11578\n",
      "Training_loss 2.12675,   Relative Error 1.11145\n",
      "Training_loss 2.12273,   Relative Error 1.10926\n",
      "Training_loss 2.11531,   Relative Error 1.10521\n",
      "Training_loss 2.10561,   Relative Error 1.09993\n"
     ]
    },
    {
     "name": "stderr",
     "output_type": "stream",
     "text": [
      " 33%|███▎      | 331/1000 [00:18<00:35, 18.69it/s]"
     ]
    },
    {
     "name": "stdout",
     "output_type": "stream",
     "text": [
      "Training_loss 2.09835,   Relative Error 1.09598\n",
      "Training_loss 2.09102,   Relative Error 1.09201\n",
      "Training_loss 2.08591,   Relative Error 1.08924\n",
      "Training_loss 2.08511,   Relative Error 1.08881\n"
     ]
    },
    {
     "name": "stderr",
     "output_type": "stream",
     "text": [
      " 34%|███▎      | 335/1000 [00:18<00:36, 18.47it/s]"
     ]
    },
    {
     "name": "stdout",
     "output_type": "stream",
     "text": [
      "Training_loss 2.07497,   Relative Error 1.08333\n",
      "Training_loss 2.06899,   Relative Error 1.08011\n",
      "Training_loss 2.05801,   Relative Error 1.07421\n",
      "Training_loss 2.05218,   Relative Error 1.07108\n"
     ]
    },
    {
     "name": "stderr",
     "output_type": "stream",
     "text": [
      " 34%|███▍      | 340/1000 [00:18<00:33, 19.64it/s]"
     ]
    },
    {
     "name": "stdout",
     "output_type": "stream",
     "text": [
      "Training_loss 2.04808,   Relative Error 1.06888\n",
      "Training_loss 2.04393,   Relative Error 1.06667\n",
      "Training_loss 2.03761,   Relative Error 1.06329\n",
      "Training_loss 2.03772,   Relative Error 1.06335\n"
     ]
    },
    {
     "name": "stderr",
     "output_type": "stream",
     "text": [
      " 34%|███▍      | 344/1000 [00:18<00:34, 18.84it/s]"
     ]
    },
    {
     "name": "stdout",
     "output_type": "stream",
     "text": [
      "Training_loss 2.03304,   Relative Error 1.06085\n",
      "Training_loss 2.02747,   Relative Error 1.05788\n",
      "Training_loss 2.02391,   Relative Error 1.05598\n",
      "Training_loss 2.01838,   Relative Error 1.05305\n"
     ]
    },
    {
     "name": "stderr",
     "output_type": "stream",
     "text": [
      " 35%|███▍      | 348/1000 [00:18<00:34, 18.73it/s]"
     ]
    },
    {
     "name": "stdout",
     "output_type": "stream",
     "text": [
      "Training_loss 2.01460,   Relative Error 1.05104\n",
      "Training_loss 2.01248,   Relative Error 1.04991\n",
      "Training_loss 2.00518,   Relative Error 1.04604\n",
      "Training_loss 1.99920,   Relative Error 1.04288\n",
      "Training_loss 1.99149,   Relative Error 1.03881\n"
     ]
    },
    {
     "name": "stderr",
     "output_type": "stream",
     "text": [
      " 35%|███▌      | 352/1000 [00:19<00:34, 19.03it/s]"
     ]
    },
    {
     "name": "stdout",
     "output_type": "stream",
     "text": [
      "Training_loss 1.98758,   Relative Error 1.03675\n",
      "Training_loss 1.98602,   Relative Error 1.03592\n",
      "Training_loss 1.98256,   Relative Error 1.03409\n",
      "Training_loss 1.97826,   Relative Error 1.03181\n"
     ]
    },
    {
     "name": "stderr",
     "output_type": "stream",
     "text": [
      " 36%|███▌      | 356/1000 [00:19<00:35, 18.09it/s]"
     ]
    },
    {
     "name": "stdout",
     "output_type": "stream",
     "text": [
      "Training_loss 1.97379,   Relative Error 1.02948\n",
      "Training_loss 1.97366,   Relative Error 1.02940\n",
      "Training_loss 1.96845,   Relative Error 1.02666\n",
      "Training_loss 1.96238,   Relative Error 1.02347\n"
     ]
    },
    {
     "name": "stderr",
     "output_type": "stream",
     "text": [
      " 36%|███▌      | 360/1000 [00:19<00:37, 17.06it/s]"
     ]
    },
    {
     "name": "stdout",
     "output_type": "stream",
     "text": [
      "Training_loss 1.95733,   Relative Error 1.02083\n",
      "Training_loss 1.95256,   Relative Error 1.01834\n",
      "Training_loss 1.94715,   Relative Error 1.01552\n",
      "Training_loss 1.94077,   Relative Error 1.01219\n"
     ]
    },
    {
     "name": "stderr",
     "output_type": "stream",
     "text": [
      " 36%|███▋      | 364/1000 [00:19<00:36, 17.41it/s]"
     ]
    },
    {
     "name": "stdout",
     "output_type": "stream",
     "text": [
      "Training_loss 1.93099,   Relative Error 1.00711\n",
      "Training_loss 1.92524,   Relative Error 1.00412\n",
      "Training_loss 1.92161,   Relative Error 1.00225\n",
      "Training_loss 1.90979,   Relative Error 0.99612\n"
     ]
    },
    {
     "name": "stderr",
     "output_type": "stream",
     "text": [
      " 37%|███▋      | 368/1000 [00:20<00:36, 17.30it/s]"
     ]
    },
    {
     "name": "stdout",
     "output_type": "stream",
     "text": [
      "Training_loss 1.90391,   Relative Error 0.99308\n",
      "Training_loss 1.90017,   Relative Error 0.99116\n",
      "Training_loss 1.89167,   Relative Error 0.98679\n",
      "Training_loss 1.89032,   Relative Error 0.98609\n"
     ]
    },
    {
     "name": "stderr",
     "output_type": "stream",
     "text": [
      " 37%|███▋      | 372/1000 [00:20<00:36, 17.20it/s]"
     ]
    },
    {
     "name": "stdout",
     "output_type": "stream",
     "text": [
      "Training_loss 1.88354,   Relative Error 0.98261\n",
      "Training_loss 1.87668,   Relative Error 0.97910\n",
      "Training_loss 1.87385,   Relative Error 0.97764\n",
      "Training_loss 1.87221,   Relative Error 0.97679\n"
     ]
    },
    {
     "name": "stderr",
     "output_type": "stream",
     "text": [
      " 38%|███▊      | 376/1000 [00:20<00:35, 17.58it/s]"
     ]
    },
    {
     "name": "stdout",
     "output_type": "stream",
     "text": [
      "Training_loss 1.86820,   Relative Error 0.97474\n",
      "Training_loss 1.86530,   Relative Error 0.97324\n",
      "Training_loss 1.85859,   Relative Error 0.96982\n",
      "Training_loss 1.85572,   Relative Error 0.96835\n"
     ]
    },
    {
     "name": "stderr",
     "output_type": "stream",
     "text": [
      " 38%|███▊      | 380/1000 [00:20<00:38, 16.17it/s]"
     ]
    },
    {
     "name": "stdout",
     "output_type": "stream",
     "text": [
      "Training_loss 1.85358,   Relative Error 0.96725\n",
      "Training_loss 1.84833,   Relative Error 0.96458\n",
      "Training_loss 1.84364,   Relative Error 0.96218\n",
      "Training_loss 1.83976,   Relative Error 0.96022\n"
     ]
    },
    {
     "name": "stderr",
     "output_type": "stream",
     "text": [
      " 38%|███▊      | 384/1000 [00:21<00:37, 16.50it/s]"
     ]
    },
    {
     "name": "stdout",
     "output_type": "stream",
     "text": [
      "Training_loss 1.83343,   Relative Error 0.95702\n",
      "Training_loss 1.82583,   Relative Error 0.95319\n",
      "Training_loss 1.82222,   Relative Error 0.95135\n",
      "Training_loss 1.81216,   Relative Error 0.94628\n"
     ]
    },
    {
     "name": "stderr",
     "output_type": "stream",
     "text": [
      "\r",
      " 39%|███▊      | 386/1000 [00:21<00:37, 16.44it/s]"
     ]
    },
    {
     "name": "stdout",
     "output_type": "stream",
     "text": [
      "Training_loss 1.80911,   Relative Error 0.94472\n",
      "Training_loss 1.80027,   Relative Error 0.94030\n"
     ]
    },
    {
     "name": "stderr",
     "output_type": "stream",
     "text": [
      "\r",
      " 39%|███▉      | 388/1000 [00:21<00:51, 11.77it/s]"
     ]
    },
    {
     "name": "stdout",
     "output_type": "stream",
     "text": [
      "Training_loss 1.79649,   Relative Error 0.93839\n",
      "Training_loss 1.79368,   Relative Error 0.93697\n"
     ]
    },
    {
     "name": "stderr",
     "output_type": "stream",
     "text": [
      " 39%|███▉      | 392/1000 [00:21<00:54, 11.15it/s]"
     ]
    },
    {
     "name": "stdout",
     "output_type": "stream",
     "text": [
      "Training_loss 1.79248,   Relative Error 0.93636\n",
      "Training_loss 1.78912,   Relative Error 0.93468\n",
      "Training_loss 1.78678,   Relative Error 0.93350\n",
      "Training_loss 1.78393,   Relative Error 0.93206\n"
     ]
    },
    {
     "name": "stderr",
     "output_type": "stream",
     "text": [
      "\r",
      " 39%|███▉      | 394/1000 [00:21<00:48, 12.54it/s]"
     ]
    },
    {
     "name": "stdout",
     "output_type": "stream",
     "text": [
      "Training_loss 1.78170,   Relative Error 0.93093\n",
      "Training_loss 1.77881,   Relative Error 0.92947\n"
     ]
    },
    {
     "name": "stderr",
     "output_type": "stream",
     "text": [
      "\r",
      " 40%|███▉      | 396/1000 [00:22<00:52, 11.48it/s]"
     ]
    },
    {
     "name": "stdout",
     "output_type": "stream",
     "text": [
      "Training_loss 1.77238,   Relative Error 0.92623\n"
     ]
    },
    {
     "name": "stderr",
     "output_type": "stream",
     "text": [
      "\r",
      " 40%|███▉      | 398/1000 [00:22<01:08,  8.82it/s]"
     ]
    },
    {
     "name": "stdout",
     "output_type": "stream",
     "text": [
      "Training_loss 1.76944,   Relative Error 0.92474\n",
      "Training_loss 1.76151,   Relative Error 0.92079\n",
      "Training_loss 1.75424,   Relative Error 0.91716\n"
     ]
    },
    {
     "name": "stderr",
     "output_type": "stream",
     "text": [
      "\r",
      " 40%|████      | 400/1000 [00:22<01:02,  9.67it/s]"
     ]
    },
    {
     "name": "stdout",
     "output_type": "stream",
     "text": [
      "Training_loss 1.75034,   Relative Error 0.91520\n",
      "Training_loss 1.73893,   Relative Error 0.90953\n"
     ]
    },
    {
     "name": "stderr",
     "output_type": "stream",
     "text": [
      " 40%|████      | 403/1000 [00:23<01:11,  8.37it/s]"
     ]
    },
    {
     "name": "stdout",
     "output_type": "stream",
     "text": [
      "Training_loss 1.73696,   Relative Error 0.90856\n",
      "Training_loss 1.73157,   Relative Error 0.90588\n",
      "Training_loss 1.72434,   Relative Error 0.90231\n"
     ]
    },
    {
     "name": "stderr",
     "output_type": "stream",
     "text": [
      " 41%|████      | 407/1000 [00:23<01:00,  9.85it/s]"
     ]
    },
    {
     "name": "stdout",
     "output_type": "stream",
     "text": [
      "Training_loss 1.71821,   Relative Error 0.89928\n",
      "Training_loss 1.70981,   Relative Error 0.89512\n",
      "Training_loss 1.70743,   Relative Error 0.89393\n"
     ]
    },
    {
     "name": "stderr",
     "output_type": "stream",
     "text": [
      "\r",
      " 41%|████      | 409/1000 [00:23<00:59,  9.98it/s]"
     ]
    },
    {
     "name": "stdout",
     "output_type": "stream",
     "text": [
      "Training_loss 1.70497,   Relative Error 0.89272\n",
      "Training_loss 1.70251,   Relative Error 0.89148\n",
      "Training_loss 1.69397,   Relative Error 0.88726\n"
     ]
    },
    {
     "name": "stderr",
     "output_type": "stream",
     "text": [
      " 41%|████▏     | 413/1000 [00:24<00:57, 10.22it/s]"
     ]
    },
    {
     "name": "stdout",
     "output_type": "stream",
     "text": [
      "Training_loss 1.69169,   Relative Error 0.88616\n",
      "Training_loss 1.68737,   Relative Error 0.88404\n",
      "Training_loss 1.68092,   Relative Error 0.88088\n"
     ]
    },
    {
     "name": "stderr",
     "output_type": "stream",
     "text": [
      "\r",
      " 42%|████▏     | 415/1000 [00:24<00:58,  9.97it/s]"
     ]
    },
    {
     "name": "stdout",
     "output_type": "stream",
     "text": [
      "Training_loss 1.67653,   Relative Error 0.87875\n",
      "Training_loss 1.67131,   Relative Error 0.87618\n"
     ]
    },
    {
     "name": "stderr",
     "output_type": "stream",
     "text": [
      "\r",
      " 42%|████▏     | 417/1000 [00:24<01:07,  8.65it/s]"
     ]
    },
    {
     "name": "stdout",
     "output_type": "stream",
     "text": [
      "Training_loss 1.66829,   Relative Error 0.87470\n",
      "Training_loss 1.66490,   Relative Error 0.87305\n"
     ]
    },
    {
     "name": "stderr",
     "output_type": "stream",
     "text": [
      "\r",
      " 42%|████▏     | 418/1000 [00:24<01:20,  7.19it/s]"
     ]
    },
    {
     "name": "stdout",
     "output_type": "stream",
     "text": [
      "Training_loss 1.66193,   Relative Error 0.87160\n"
     ]
    },
    {
     "name": "stderr",
     "output_type": "stream",
     "text": [
      "\r",
      " 42%|████▏     | 419/1000 [00:25<01:44,  5.54it/s]"
     ]
    },
    {
     "name": "stdout",
     "output_type": "stream",
     "text": [
      "Training_loss 1.65997,   Relative Error 0.87064\n"
     ]
    },
    {
     "name": "stderr",
     "output_type": "stream",
     "text": [
      "\r",
      " 42%|████▏     | 420/1000 [00:25<01:57,  4.92it/s]"
     ]
    },
    {
     "name": "stdout",
     "output_type": "stream",
     "text": [
      "Training_loss 1.65796,   Relative Error 0.86965\n"
     ]
    },
    {
     "name": "stderr",
     "output_type": "stream",
     "text": [
      "\r",
      " 42%|████▏     | 421/1000 [00:25<02:16,  4.26it/s]"
     ]
    },
    {
     "name": "stdout",
     "output_type": "stream",
     "text": [
      "Training_loss 1.65444,   Relative Error 0.86793\n"
     ]
    },
    {
     "name": "stderr",
     "output_type": "stream",
     "text": [
      "\r",
      " 42%|████▏     | 422/1000 [00:26<02:28,  3.88it/s]"
     ]
    },
    {
     "name": "stdout",
     "output_type": "stream",
     "text": [
      "Training_loss 1.64971,   Relative Error 0.86565\n"
     ]
    },
    {
     "name": "stderr",
     "output_type": "stream",
     "text": [
      " 42%|████▏     | 424/1000 [00:26<02:08,  4.47it/s]"
     ]
    },
    {
     "name": "stdout",
     "output_type": "stream",
     "text": [
      "Training_loss 1.64766,   Relative Error 0.86464\n",
      "Training_loss 1.64646,   Relative Error 0.86404\n",
      "Training_loss 1.64136,   Relative Error 0.86157\n"
     ]
    },
    {
     "name": "stderr",
     "output_type": "stream",
     "text": [
      "\r",
      " 43%|████▎     | 426/1000 [00:26<01:30,  6.35it/s]"
     ]
    },
    {
     "name": "stdout",
     "output_type": "stream",
     "text": [
      "Training_loss 1.63522,   Relative Error 0.85857\n"
     ]
    },
    {
     "name": "stderr",
     "output_type": "stream",
     "text": [
      "\r",
      " 43%|████▎     | 427/1000 [00:26<01:51,  5.13it/s]"
     ]
    },
    {
     "name": "stdout",
     "output_type": "stream",
     "text": [
      "Training_loss 1.63023,   Relative Error 0.85615\n"
     ]
    },
    {
     "name": "stderr",
     "output_type": "stream",
     "text": [
      "\r",
      " 43%|████▎     | 428/1000 [00:27<02:02,  4.68it/s]"
     ]
    },
    {
     "name": "stdout",
     "output_type": "stream",
     "text": [
      "Training_loss 1.61918,   Relative Error 0.85081\n"
     ]
    },
    {
     "name": "stderr",
     "output_type": "stream",
     "text": [
      "\r",
      " 43%|████▎     | 429/1000 [00:27<02:04,  4.59it/s]"
     ]
    },
    {
     "name": "stdout",
     "output_type": "stream",
     "text": [
      "Training_loss 1.61381,   Relative Error 0.84821\n"
     ]
    },
    {
     "name": "stderr",
     "output_type": "stream",
     "text": [
      " 43%|████▎     | 431/1000 [00:27<01:50,  5.16it/s]"
     ]
    },
    {
     "name": "stdout",
     "output_type": "stream",
     "text": [
      "Training_loss 1.61146,   Relative Error 0.84707\n",
      "Training_loss 1.60963,   Relative Error 0.84616\n"
     ]
    },
    {
     "name": "stderr",
     "output_type": "stream",
     "text": [
      " 43%|████▎     | 433/1000 [00:28<01:37,  5.79it/s]"
     ]
    },
    {
     "name": "stdout",
     "output_type": "stream",
     "text": [
      "Training_loss 1.60579,   Relative Error 0.84428\n",
      "Training_loss 1.60257,   Relative Error 0.84271\n"
     ]
    },
    {
     "name": "stderr",
     "output_type": "stream",
     "text": [
      " 44%|████▎     | 435/1000 [00:28<01:27,  6.45it/s]"
     ]
    },
    {
     "name": "stdout",
     "output_type": "stream",
     "text": [
      "Training_loss 1.60047,   Relative Error 0.84171\n",
      "Training_loss 1.59692,   Relative Error 0.84000\n"
     ]
    },
    {
     "name": "stderr",
     "output_type": "stream",
     "text": [
      " 44%|████▎     | 437/1000 [00:28<01:36,  5.83it/s]"
     ]
    },
    {
     "name": "stdout",
     "output_type": "stream",
     "text": [
      "Training_loss 1.59350,   Relative Error 0.83835\n",
      "Training_loss 1.59052,   Relative Error 0.83691\n"
     ]
    },
    {
     "name": "stderr",
     "output_type": "stream",
     "text": [
      " 44%|████▍     | 439/1000 [00:29<01:31,  6.10it/s]"
     ]
    },
    {
     "name": "stdout",
     "output_type": "stream",
     "text": [
      "Training_loss 1.58490,   Relative Error 0.83421\n",
      "Training_loss 1.58043,   Relative Error 0.83207\n"
     ]
    },
    {
     "name": "stderr",
     "output_type": "stream",
     "text": [
      " 44%|████▍     | 441/1000 [00:29<01:21,  6.83it/s]"
     ]
    },
    {
     "name": "stdout",
     "output_type": "stream",
     "text": [
      "Training_loss 1.57843,   Relative Error 0.83110\n",
      "Training_loss 1.57395,   Relative Error 0.82897\n"
     ]
    },
    {
     "name": "stderr",
     "output_type": "stream",
     "text": [
      " 44%|████▍     | 443/1000 [00:29<01:25,  6.51it/s]"
     ]
    },
    {
     "name": "stdout",
     "output_type": "stream",
     "text": [
      "Training_loss 1.57107,   Relative Error 0.82758\n",
      "Training_loss 1.56425,   Relative Error 0.82433\n"
     ]
    },
    {
     "name": "stderr",
     "output_type": "stream",
     "text": [
      " 44%|████▍     | 445/1000 [00:29<01:15,  7.37it/s]"
     ]
    },
    {
     "name": "stdout",
     "output_type": "stream",
     "text": [
      "Training_loss 1.55912,   Relative Error 0.82189\n",
      "Training_loss 1.55620,   Relative Error 0.82053\n"
     ]
    },
    {
     "name": "stderr",
     "output_type": "stream",
     "text": [
      " 45%|████▍     | 447/1000 [00:30<01:10,  7.86it/s]"
     ]
    },
    {
     "name": "stdout",
     "output_type": "stream",
     "text": [
      "Training_loss 1.55468,   Relative Error 0.81977\n",
      "Training_loss 1.55217,   Relative Error 0.81857\n"
     ]
    },
    {
     "name": "stderr",
     "output_type": "stream",
     "text": [
      " 45%|████▍     | 449/1000 [00:30<01:10,  7.77it/s]"
     ]
    },
    {
     "name": "stdout",
     "output_type": "stream",
     "text": [
      "Training_loss 1.54919,   Relative Error 0.81715\n",
      "Training_loss 1.54722,   Relative Error 0.81622\n"
     ]
    },
    {
     "name": "stderr",
     "output_type": "stream",
     "text": [
      " 45%|████▌     | 451/1000 [00:30<01:07,  8.11it/s]"
     ]
    },
    {
     "name": "stdout",
     "output_type": "stream",
     "text": [
      "Training_loss 1.54251,   Relative Error 0.81397\n",
      "Training_loss 1.53606,   Relative Error 0.81090\n",
      "Training_loss 1.53200,   Relative Error 0.80897\n"
     ]
    },
    {
     "name": "stderr",
     "output_type": "stream",
     "text": [
      "\r",
      " 45%|████▌     | 453/1000 [00:30<01:00,  9.03it/s]"
     ]
    },
    {
     "name": "stdout",
     "output_type": "stream",
     "text": [
      "Training_loss 1.52885,   Relative Error 0.80745\n",
      "Training_loss 1.52689,   Relative Error 0.80651\n"
     ]
    },
    {
     "name": "stderr",
     "output_type": "stream",
     "text": [
      " 46%|████▌     | 457/1000 [00:31<00:59,  9.11it/s]"
     ]
    },
    {
     "name": "stdout",
     "output_type": "stream",
     "text": [
      "Training_loss 1.52335,   Relative Error 0.80483\n",
      "Training_loss 1.51953,   Relative Error 0.80298\n",
      "Training_loss 1.51564,   Relative Error 0.80114\n"
     ]
    },
    {
     "name": "stderr",
     "output_type": "stream",
     "text": [
      " 46%|████▌     | 459/1000 [00:31<01:04,  8.43it/s]"
     ]
    },
    {
     "name": "stdout",
     "output_type": "stream",
     "text": [
      "Training_loss 1.51411,   Relative Error 0.80040\n",
      "Training_loss 1.50895,   Relative Error 0.79794\n"
     ]
    },
    {
     "name": "stderr",
     "output_type": "stream",
     "text": [
      " 46%|████▌     | 461/1000 [00:31<01:00,  8.86it/s]"
     ]
    },
    {
     "name": "stdout",
     "output_type": "stream",
     "text": [
      "Training_loss 1.50654,   Relative Error 0.79681\n",
      "Training_loss 1.50451,   Relative Error 0.79582\n"
     ]
    },
    {
     "name": "stderr",
     "output_type": "stream",
     "text": [
      " 46%|████▋     | 464/1000 [00:32<00:56,  9.42it/s]"
     ]
    },
    {
     "name": "stdout",
     "output_type": "stream",
     "text": [
      "Training_loss 1.50137,   Relative Error 0.79432\n",
      "Training_loss 1.49623,   Relative Error 0.79191\n",
      "Training_loss 1.49090,   Relative Error 0.78935\n"
     ]
    },
    {
     "name": "stderr",
     "output_type": "stream",
     "text": [
      "\r",
      " 47%|████▋     | 466/1000 [00:32<00:57,  9.23it/s]"
     ]
    },
    {
     "name": "stdout",
     "output_type": "stream",
     "text": [
      "Training_loss 1.48789,   Relative Error 0.78792\n",
      "Training_loss 1.48473,   Relative Error 0.78644\n"
     ]
    },
    {
     "name": "stderr",
     "output_type": "stream",
     "text": [
      "\r",
      " 47%|████▋     | 468/1000 [00:32<00:59,  8.93it/s]"
     ]
    },
    {
     "name": "stdout",
     "output_type": "stream",
     "text": [
      "Training_loss 1.48204,   Relative Error 0.78520\n",
      "Training_loss 1.47702,   Relative Error 0.78287\n"
     ]
    },
    {
     "name": "stderr",
     "output_type": "stream",
     "text": [
      " 47%|████▋     | 471/1000 [00:32<00:55,  9.55it/s]"
     ]
    },
    {
     "name": "stdout",
     "output_type": "stream",
     "text": [
      "Training_loss 1.47279,   Relative Error 0.78091\n",
      "Training_loss 1.46990,   Relative Error 0.77954\n",
      "Training_loss 1.46570,   Relative Error 0.77756\n"
     ]
    },
    {
     "name": "stderr",
     "output_type": "stream",
     "text": [
      "\r",
      " 47%|████▋     | 473/1000 [00:33<00:53,  9.87it/s]"
     ]
    },
    {
     "name": "stdout",
     "output_type": "stream",
     "text": [
      "Training_loss 1.46268,   Relative Error 0.77612\n",
      "Training_loss 1.46058,   Relative Error 0.77513\n",
      "Training_loss 1.45612,   Relative Error 0.77307\n"
     ]
    },
    {
     "name": "stderr",
     "output_type": "stream",
     "text": [
      " 48%|████▊     | 477/1000 [00:33<00:46, 11.25it/s]"
     ]
    },
    {
     "name": "stdout",
     "output_type": "stream",
     "text": [
      "Training_loss 1.45409,   Relative Error 0.77209\n",
      "Training_loss 1.45032,   Relative Error 0.77032\n",
      "Training_loss 1.44904,   Relative Error 0.76972\n"
     ]
    },
    {
     "name": "stderr",
     "output_type": "stream",
     "text": [
      "\r",
      " 48%|████▊     | 479/1000 [00:33<00:44, 11.74it/s]"
     ]
    },
    {
     "name": "stdout",
     "output_type": "stream",
     "text": [
      "Training_loss 1.44373,   Relative Error 0.76723\n",
      "Training_loss 1.43682,   Relative Error 0.76399\n",
      "Training_loss 1.43331,   Relative Error 0.76237\n"
     ]
    },
    {
     "name": "stderr",
     "output_type": "stream",
     "text": [
      " 48%|████▊     | 483/1000 [00:33<00:39, 13.20it/s]"
     ]
    },
    {
     "name": "stdout",
     "output_type": "stream",
     "text": [
      "Training_loss 1.42741,   Relative Error 0.75959\n",
      "Training_loss 1.42301,   Relative Error 0.75755\n",
      "Training_loss 1.41907,   Relative Error 0.75573\n",
      "Training_loss 1.41332,   Relative Error 0.75307\n"
     ]
    },
    {
     "name": "stderr",
     "output_type": "stream",
     "text": [
      " 49%|████▊     | 487/1000 [00:34<00:42, 12.17it/s]"
     ]
    },
    {
     "name": "stdout",
     "output_type": "stream",
     "text": [
      "Training_loss 1.41050,   Relative Error 0.75178\n",
      "Training_loss 1.40392,   Relative Error 0.74873\n",
      "Training_loss 1.40073,   Relative Error 0.74724\n"
     ]
    },
    {
     "name": "stderr",
     "output_type": "stream",
     "text": [
      "\r",
      " 49%|████▉     | 489/1000 [00:34<00:39, 12.78it/s]"
     ]
    },
    {
     "name": "stdout",
     "output_type": "stream",
     "text": [
      "Training_loss 1.39745,   Relative Error 0.74574\n",
      "Training_loss 1.39695,   Relative Error 0.74548\n",
      "Training_loss 1.39553,   Relative Error 0.74478\n"
     ]
    },
    {
     "name": "stderr",
     "output_type": "stream",
     "text": [
      "\r",
      " 49%|████▉     | 491/1000 [00:34<00:47, 10.70it/s]"
     ]
    },
    {
     "name": "stdout",
     "output_type": "stream",
     "text": [
      "Training_loss 1.39050,   Relative Error 0.74248\n",
      "Training_loss 1.39041,   Relative Error 0.74241\n"
     ]
    },
    {
     "name": "stderr",
     "output_type": "stream",
     "text": [
      "\r",
      " 49%|████▉     | 493/1000 [00:34<00:53,  9.45it/s]"
     ]
    },
    {
     "name": "stdout",
     "output_type": "stream",
     "text": [
      "Training_loss 1.38433,   Relative Error 0.73962\n",
      "Training_loss 1.38231,   Relative Error 0.73865\n"
     ]
    },
    {
     "name": "stderr",
     "output_type": "stream",
     "text": [
      " 50%|████▉     | 497/1000 [00:35<00:49, 10.17it/s]"
     ]
    },
    {
     "name": "stdout",
     "output_type": "stream",
     "text": [
      "Training_loss 1.38055,   Relative Error 0.73781\n",
      "Training_loss 1.37957,   Relative Error 0.73734\n",
      "Training_loss 1.37613,   Relative Error 0.73576\n"
     ]
    },
    {
     "name": "stderr",
     "output_type": "stream",
     "text": [
      " 50%|█████     | 501/1000 [00:35<00:42, 11.75it/s]"
     ]
    },
    {
     "name": "stdout",
     "output_type": "stream",
     "text": [
      "Training_loss 1.37292,   Relative Error 0.73423\n",
      "Training_loss 1.37079,   Relative Error 0.73326\n",
      "Training_loss 1.36624,   Relative Error 0.73117\n",
      "Training_loss 1.36490,   Relative Error 0.73054\n"
     ]
    },
    {
     "name": "stderr",
     "output_type": "stream",
     "text": [
      "\r",
      " 50%|█████     | 503/1000 [00:35<00:39, 12.55it/s]"
     ]
    },
    {
     "name": "stdout",
     "output_type": "stream",
     "text": [
      "Training_loss 1.35994,   Relative Error 0.72826\n",
      "Training_loss 1.35786,   Relative Error 0.72728\n",
      "Training_loss 1.35560,   Relative Error 0.72625\n"
     ]
    },
    {
     "name": "stderr",
     "output_type": "stream",
     "text": [
      " 51%|█████     | 507/1000 [00:35<00:36, 13.38it/s]"
     ]
    },
    {
     "name": "stdout",
     "output_type": "stream",
     "text": [
      "Training_loss 1.35205,   Relative Error 0.72459\n",
      "Training_loss 1.34696,   Relative Error 0.72220\n",
      "Training_loss 1.34421,   Relative Error 0.72092\n"
     ]
    },
    {
     "name": "stderr",
     "output_type": "stream",
     "text": [
      " 51%|█████     | 511/1000 [00:36<00:33, 14.39it/s]"
     ]
    },
    {
     "name": "stdout",
     "output_type": "stream",
     "text": [
      "Training_loss 1.34063,   Relative Error 0.71927\n",
      "Training_loss 1.33648,   Relative Error 0.71738\n",
      "Training_loss 1.33190,   Relative Error 0.71529\n",
      "Training_loss 1.32853,   Relative Error 0.71374\n"
     ]
    },
    {
     "name": "stderr",
     "output_type": "stream",
     "text": [
      " 52%|█████▏    | 515/1000 [00:36<00:31, 15.28it/s]"
     ]
    },
    {
     "name": "stdout",
     "output_type": "stream",
     "text": [
      "Training_loss 1.32443,   Relative Error 0.71184\n",
      "Training_loss 1.32209,   Relative Error 0.71074\n",
      "Training_loss 1.32224,   Relative Error 0.71079\n",
      "Training_loss 1.31919,   Relative Error 0.70937\n"
     ]
    },
    {
     "name": "stderr",
     "output_type": "stream",
     "text": [
      "\r",
      " 52%|█████▏    | 517/1000 [00:36<00:32, 14.76it/s]"
     ]
    },
    {
     "name": "stdout",
     "output_type": "stream",
     "text": [
      "Training_loss 1.31705,   Relative Error 0.70840\n",
      "Training_loss 1.31402,   Relative Error 0.70699\n",
      "Training_loss 1.30844,   Relative Error 0.70442\n"
     ]
    },
    {
     "name": "stderr",
     "output_type": "stream",
     "text": [
      " 52%|█████▏    | 521/1000 [00:36<00:36, 13.24it/s]"
     ]
    },
    {
     "name": "stdout",
     "output_type": "stream",
     "text": [
      "Training_loss 1.30406,   Relative Error 0.70240\n",
      "Training_loss 1.30297,   Relative Error 0.70186\n",
      "Training_loss 1.30175,   Relative Error 0.70126\n"
     ]
    },
    {
     "name": "stderr",
     "output_type": "stream",
     "text": [
      "\r",
      " 52%|█████▏    | 523/1000 [00:37<00:36, 12.93it/s]"
     ]
    },
    {
     "name": "stdout",
     "output_type": "stream",
     "text": [
      "Training_loss 1.29793,   Relative Error 0.69951\n",
      "Training_loss 1.29284,   Relative Error 0.69723\n"
     ]
    },
    {
     "name": "stderr",
     "output_type": "stream",
     "text": [
      "\r",
      " 52%|█████▎    | 525/1000 [00:37<00:52,  9.01it/s]"
     ]
    },
    {
     "name": "stdout",
     "output_type": "stream",
     "text": [
      "Training_loss 1.29102,   Relative Error 0.69636\n",
      "Training_loss 1.28928,   Relative Error 0.69554\n"
     ]
    },
    {
     "name": "stderr",
     "output_type": "stream",
     "text": [
      "\r",
      " 53%|█████▎    | 527/1000 [00:37<00:55,  8.50it/s]"
     ]
    },
    {
     "name": "stdout",
     "output_type": "stream",
     "text": [
      "Training_loss 1.28847,   Relative Error 0.69517\n",
      "Training_loss 1.28540,   Relative Error 0.69375\n"
     ]
    },
    {
     "name": "stderr",
     "output_type": "stream",
     "text": [
      "\r",
      " 53%|█████▎    | 529/1000 [00:37<00:49,  9.44it/s]"
     ]
    },
    {
     "name": "stdout",
     "output_type": "stream",
     "text": [
      "Training_loss 1.28175,   Relative Error 0.69205\n",
      "Training_loss 1.27925,   Relative Error 0.69091\n",
      "Training_loss 1.27463,   Relative Error 0.68884\n"
     ]
    },
    {
     "name": "stderr",
     "output_type": "stream",
     "text": [
      " 53%|█████▎    | 533/1000 [00:38<00:42, 11.03it/s]"
     ]
    },
    {
     "name": "stdout",
     "output_type": "stream",
     "text": [
      "Training_loss 1.27012,   Relative Error 0.68682\n",
      "Training_loss 1.26633,   Relative Error 0.68512\n",
      "Training_loss 1.26373,   Relative Error 0.68387\n",
      "Training_loss 1.25748,   Relative Error 0.68108\n"
     ]
    },
    {
     "name": "stderr",
     "output_type": "stream",
     "text": [
      " 54%|█████▎    | 537/1000 [00:38<00:34, 13.55it/s]"
     ]
    },
    {
     "name": "stdout",
     "output_type": "stream",
     "text": [
      "Training_loss 1.25228,   Relative Error 0.67869\n",
      "Training_loss 1.24849,   Relative Error 0.67696\n",
      "Training_loss 1.24700,   Relative Error 0.67625\n",
      "Training_loss 1.24230,   Relative Error 0.67408\n"
     ]
    },
    {
     "name": "stderr",
     "output_type": "stream",
     "text": [
      " 54%|█████▍    | 541/1000 [00:38<00:32, 14.14it/s]"
     ]
    },
    {
     "name": "stdout",
     "output_type": "stream",
     "text": [
      "Training_loss 1.24133,   Relative Error 0.67363\n",
      "Training_loss 1.23925,   Relative Error 0.67270\n",
      "Training_loss 1.23701,   Relative Error 0.67166\n",
      "Training_loss 1.23421,   Relative Error 0.67040\n"
     ]
    },
    {
     "name": "stderr",
     "output_type": "stream",
     "text": [
      " 55%|█████▍    | 545/1000 [00:38<00:30, 14.89it/s]"
     ]
    },
    {
     "name": "stdout",
     "output_type": "stream",
     "text": [
      "Training_loss 1.23348,   Relative Error 0.67003\n",
      "Training_loss 1.23244,   Relative Error 0.66955\n",
      "Training_loss 1.23100,   Relative Error 0.66884\n",
      "Training_loss 1.22971,   Relative Error 0.66822\n"
     ]
    },
    {
     "name": "stderr",
     "output_type": "stream",
     "text": [
      " 55%|█████▍    | 549/1000 [00:39<00:29, 15.54it/s]"
     ]
    },
    {
     "name": "stdout",
     "output_type": "stream",
     "text": [
      "Training_loss 1.22681,   Relative Error 0.66692\n",
      "Training_loss 1.22554,   Relative Error 0.66631\n",
      "Training_loss 1.22386,   Relative Error 0.66556\n",
      "Training_loss 1.22173,   Relative Error 0.66460\n"
     ]
    },
    {
     "name": "stderr",
     "output_type": "stream",
     "text": [
      " 55%|█████▌    | 553/1000 [00:39<00:28, 15.46it/s]"
     ]
    },
    {
     "name": "stdout",
     "output_type": "stream",
     "text": [
      "Training_loss 1.21971,   Relative Error 0.66370\n",
      "Training_loss 1.22018,   Relative Error 0.66390\n",
      "Training_loss 1.21723,   Relative Error 0.66258\n",
      "Training_loss 1.21474,   Relative Error 0.66144\n"
     ]
    },
    {
     "name": "stderr",
     "output_type": "stream",
     "text": [
      " 56%|█████▌    | 557/1000 [00:39<00:29, 15.12it/s]"
     ]
    },
    {
     "name": "stdout",
     "output_type": "stream",
     "text": [
      "Training_loss 1.21394,   Relative Error 0.66103\n",
      "Training_loss 1.21316,   Relative Error 0.66068\n",
      "Training_loss 1.21185,   Relative Error 0.66005\n",
      "Training_loss 1.20884,   Relative Error 0.65868\n"
     ]
    },
    {
     "name": "stderr",
     "output_type": "stream",
     "text": [
      " 56%|█████▌    | 561/1000 [00:39<00:27, 15.87it/s]"
     ]
    },
    {
     "name": "stdout",
     "output_type": "stream",
     "text": [
      "Training_loss 1.20293,   Relative Error 0.65604\n",
      "Training_loss 1.20151,   Relative Error 0.65540\n",
      "Training_loss 1.20007,   Relative Error 0.65474\n",
      "Training_loss 1.20013,   Relative Error 0.65476\n"
     ]
    },
    {
     "name": "stderr",
     "output_type": "stream",
     "text": [
      " 56%|█████▋    | 565/1000 [00:40<00:27, 16.06it/s]"
     ]
    },
    {
     "name": "stdout",
     "output_type": "stream",
     "text": [
      "Training_loss 1.19604,   Relative Error 0.65290\n",
      "Training_loss 1.19353,   Relative Error 0.65176\n",
      "Training_loss 1.19248,   Relative Error 0.65126\n"
     ]
    },
    {
     "name": "stderr",
     "output_type": "stream",
     "text": [
      "\r",
      " 57%|█████▋    | 567/1000 [00:40<00:32, 13.48it/s]"
     ]
    },
    {
     "name": "stdout",
     "output_type": "stream",
     "text": [
      "Training_loss 1.19106,   Relative Error 0.65062\n",
      "Training_loss 1.19134,   Relative Error 0.65071\n"
     ]
    },
    {
     "name": "stderr",
     "output_type": "stream",
     "text": [
      "\r",
      " 57%|█████▋    | 569/1000 [00:40<00:36, 11.79it/s]"
     ]
    },
    {
     "name": "stdout",
     "output_type": "stream",
     "text": [
      "Training_loss 1.18954,   Relative Error 0.64988\n",
      "Training_loss 1.18701,   Relative Error 0.64874\n"
     ]
    },
    {
     "name": "stderr",
     "output_type": "stream",
     "text": [
      "\r",
      " 57%|█████▋    | 571/1000 [00:40<00:39, 10.74it/s]"
     ]
    },
    {
     "name": "stdout",
     "output_type": "stream",
     "text": [
      "Training_loss 1.18567,   Relative Error 0.64812\n",
      "Training_loss 1.18325,   Relative Error 0.64699\n",
      "Training_loss 1.18067,   Relative Error 0.64580\n"
     ]
    },
    {
     "name": "stderr",
     "output_type": "stream",
     "text": [
      " 57%|█████▊    | 575/1000 [00:41<00:33, 12.55it/s]"
     ]
    },
    {
     "name": "stdout",
     "output_type": "stream",
     "text": [
      "Training_loss 1.17909,   Relative Error 0.64509\n",
      "Training_loss 1.17645,   Relative Error 0.64391\n",
      "Training_loss 1.17475,   Relative Error 0.64312\n",
      "Training_loss 1.16920,   Relative Error 0.64065\n"
     ]
    },
    {
     "name": "stderr",
     "output_type": "stream",
     "text": [
      " 58%|█████▊    | 579/1000 [00:41<00:30, 13.84it/s]"
     ]
    },
    {
     "name": "stdout",
     "output_type": "stream",
     "text": [
      "Training_loss 1.16749,   Relative Error 0.63988\n",
      "Training_loss 1.16427,   Relative Error 0.63850\n",
      "Training_loss 1.16263,   Relative Error 0.63772\n"
     ]
    },
    {
     "name": "stderr",
     "output_type": "stream",
     "text": [
      "\r",
      " 58%|█████▊    | 581/1000 [00:41<00:33, 12.40it/s]"
     ]
    },
    {
     "name": "stdout",
     "output_type": "stream",
     "text": [
      "Training_loss 1.16048,   Relative Error 0.63678\n",
      "Training_loss 1.15928,   Relative Error 0.63621\n",
      "Training_loss 1.15692,   Relative Error 0.63516\n"
     ]
    },
    {
     "name": "stderr",
     "output_type": "stream",
     "text": [
      "\r",
      " 58%|█████▊    | 583/1000 [00:41<00:32, 12.95it/s]"
     ]
    },
    {
     "name": "stdout",
     "output_type": "stream",
     "text": [
      "Training_loss 1.15468,   Relative Error 0.63417\n",
      "Training_loss 1.15336,   Relative Error 0.63355\n"
     ]
    },
    {
     "name": "stderr",
     "output_type": "stream",
     "text": [
      "\r",
      " 58%|█████▊    | 585/1000 [00:41<00:35, 11.63it/s]"
     ]
    },
    {
     "name": "stdout",
     "output_type": "stream",
     "text": [
      "Training_loss 1.15221,   Relative Error 0.63302\n",
      "Training_loss 1.14808,   Relative Error 0.63116\n"
     ]
    },
    {
     "name": "stderr",
     "output_type": "stream",
     "text": [
      " 59%|█████▉    | 589/1000 [00:42<00:41,  9.79it/s]"
     ]
    },
    {
     "name": "stdout",
     "output_type": "stream",
     "text": [
      "Training_loss 1.14737,   Relative Error 0.63083\n",
      "Training_loss 1.14118,   Relative Error 0.62805\n",
      "Training_loss 1.13651,   Relative Error 0.62598\n"
     ]
    },
    {
     "name": "stderr",
     "output_type": "stream",
     "text": [
      "\r",
      " 59%|█████▉    | 591/1000 [00:42<00:40, 10.19it/s]"
     ]
    },
    {
     "name": "stdout",
     "output_type": "stream",
     "text": [
      "Training_loss 1.13527,   Relative Error 0.62537\n",
      "Training_loss 1.13512,   Relative Error 0.62527\n"
     ]
    },
    {
     "name": "stderr",
     "output_type": "stream",
     "text": [
      "\r",
      " 59%|█████▉    | 593/1000 [00:42<00:47,  8.54it/s]"
     ]
    },
    {
     "name": "stdout",
     "output_type": "stream",
     "text": [
      "Training_loss 1.13566,   Relative Error 0.62546\n",
      "Training_loss 1.13210,   Relative Error 0.62389\n"
     ]
    },
    {
     "name": "stderr",
     "output_type": "stream",
     "text": [
      "\r",
      " 60%|█████▉    | 595/1000 [00:43<00:46,  8.64it/s]"
     ]
    },
    {
     "name": "stdout",
     "output_type": "stream",
     "text": [
      "Training_loss 1.13043,   Relative Error 0.62312\n",
      "Training_loss 1.12752,   Relative Error 0.62176\n"
     ]
    },
    {
     "name": "stderr",
     "output_type": "stream",
     "text": [
      "\r",
      " 60%|█████▉    | 597/1000 [00:43<00:42,  9.43it/s]"
     ]
    },
    {
     "name": "stdout",
     "output_type": "stream",
     "text": [
      "Training_loss 1.12607,   Relative Error 0.62112\n",
      "Training_loss 1.12518,   Relative Error 0.62074\n",
      "Training_loss 1.12301,   Relative Error 0.61973\n"
     ]
    },
    {
     "name": "stderr",
     "output_type": "stream",
     "text": [
      " 60%|██████    | 601/1000 [00:43<00:38, 10.37it/s]"
     ]
    },
    {
     "name": "stdout",
     "output_type": "stream",
     "text": [
      "Training_loss 1.12013,   Relative Error 0.61846\n",
      "Training_loss 1.11949,   Relative Error 0.61814\n",
      "Training_loss 1.11765,   Relative Error 0.61731\n"
     ]
    },
    {
     "name": "stderr",
     "output_type": "stream",
     "text": [
      "\r",
      " 60%|██████    | 603/1000 [00:43<00:35, 11.07it/s]"
     ]
    },
    {
     "name": "stdout",
     "output_type": "stream",
     "text": [
      "Training_loss 1.11606,   Relative Error 0.61659\n",
      "Training_loss 1.11442,   Relative Error 0.61581\n",
      "Training_loss 1.11376,   Relative Error 0.61550\n"
     ]
    },
    {
     "name": "stderr",
     "output_type": "stream",
     "text": [
      " 61%|██████    | 607/1000 [00:44<00:34, 11.49it/s]"
     ]
    },
    {
     "name": "stdout",
     "output_type": "stream",
     "text": [
      "Training_loss 1.11163,   Relative Error 0.61452\n",
      "Training_loss 1.11126,   Relative Error 0.61429\n",
      "Training_loss 1.10912,   Relative Error 0.61335\n"
     ]
    },
    {
     "name": "stderr",
     "output_type": "stream",
     "text": [
      "\r",
      " 61%|██████    | 609/1000 [00:44<00:35, 10.91it/s]"
     ]
    },
    {
     "name": "stdout",
     "output_type": "stream",
     "text": [
      "Training_loss 1.10611,   Relative Error 0.61203\n",
      "Training_loss 1.10307,   Relative Error 0.61072\n"
     ]
    },
    {
     "name": "stderr",
     "output_type": "stream",
     "text": [
      "\r",
      " 61%|██████    | 611/1000 [00:44<00:38,  9.99it/s]"
     ]
    },
    {
     "name": "stdout",
     "output_type": "stream",
     "text": [
      "Training_loss 1.10196,   Relative Error 0.61018\n",
      "Training_loss 1.10054,   Relative Error 0.60954\n"
     ]
    },
    {
     "name": "stderr",
     "output_type": "stream",
     "text": [
      "\r",
      " 61%|██████▏   | 613/1000 [00:44<00:41,  9.26it/s]"
     ]
    },
    {
     "name": "stdout",
     "output_type": "stream",
     "text": [
      "Training_loss 1.09854,   Relative Error 0.60864\n",
      "Training_loss 1.09702,   Relative Error 0.60795\n"
     ]
    },
    {
     "name": "stderr",
     "output_type": "stream",
     "text": [
      " 62%|██████▏   | 615/1000 [00:45<00:49,  7.84it/s]"
     ]
    },
    {
     "name": "stdout",
     "output_type": "stream",
     "text": [
      "Training_loss 1.09336,   Relative Error 0.60634\n",
      "Training_loss 1.09400,   Relative Error 0.60660\n",
      "Training_loss 1.09286,   Relative Error 0.60608\n"
     ]
    },
    {
     "name": "stderr",
     "output_type": "stream",
     "text": [
      " 62%|██████▏   | 619/1000 [00:45<00:39,  9.62it/s]"
     ]
    },
    {
     "name": "stdout",
     "output_type": "stream",
     "text": [
      "Training_loss 1.08966,   Relative Error 0.60470\n",
      "Training_loss 1.08748,   Relative Error 0.60371\n",
      "Training_loss 1.08719,   Relative Error 0.60353\n"
     ]
    },
    {
     "name": "stderr",
     "output_type": "stream",
     "text": [
      "\r",
      " 62%|██████▏   | 621/1000 [00:45<00:38,  9.84it/s]"
     ]
    },
    {
     "name": "stdout",
     "output_type": "stream",
     "text": [
      "Training_loss 1.08577,   Relative Error 0.60287\n",
      "Training_loss 1.08344,   Relative Error 0.60180\n",
      "Training_loss 1.08271,   Relative Error 0.60145\n"
     ]
    },
    {
     "name": "stderr",
     "output_type": "stream",
     "text": [
      " 62%|██████▎   | 625/1000 [00:45<00:33, 11.29it/s]"
     ]
    },
    {
     "name": "stdout",
     "output_type": "stream",
     "text": [
      "Training_loss 1.08067,   Relative Error 0.60055\n",
      "Training_loss 1.07984,   Relative Error 0.60019\n",
      "Training_loss 1.07790,   Relative Error 0.59927\n"
     ]
    },
    {
     "name": "stderr",
     "output_type": "stream",
     "text": [
      "\r",
      " 63%|██████▎   | 627/1000 [00:46<00:30, 12.12it/s]"
     ]
    },
    {
     "name": "stdout",
     "output_type": "stream",
     "text": [
      "Training_loss 1.07680,   Relative Error 0.59877\n",
      "Training_loss 1.07435,   Relative Error 0.59765\n",
      "Training_loss 1.07310,   Relative Error 0.59709\n"
     ]
    },
    {
     "name": "stderr",
     "output_type": "stream",
     "text": [
      " 63%|██████▎   | 631/1000 [00:46<00:26, 13.77it/s]"
     ]
    },
    {
     "name": "stdout",
     "output_type": "stream",
     "text": [
      "Training_loss 1.07163,   Relative Error 0.59643\n",
      "Training_loss 1.06949,   Relative Error 0.59545\n",
      "Training_loss 1.06666,   Relative Error 0.59425\n",
      "Training_loss 1.06633,   Relative Error 0.59406\n"
     ]
    },
    {
     "name": "stderr",
     "output_type": "stream",
     "text": [
      " 64%|██████▎   | 635/1000 [00:46<00:25, 14.30it/s]"
     ]
    },
    {
     "name": "stdout",
     "output_type": "stream",
     "text": [
      "Training_loss 1.06483,   Relative Error 0.59335\n",
      "Training_loss 1.06296,   Relative Error 0.59249\n",
      "Training_loss 1.06208,   Relative Error 0.59204\n"
     ]
    },
    {
     "name": "stderr",
     "output_type": "stream",
     "text": [
      "\r",
      " 64%|██████▎   | 637/1000 [00:46<00:26, 13.80it/s]"
     ]
    },
    {
     "name": "stdout",
     "output_type": "stream",
     "text": [
      "Training_loss 1.06180,   Relative Error 0.59187\n",
      "Training_loss 1.05895,   Relative Error 0.59055\n",
      "Training_loss 1.05694,   Relative Error 0.58962\n"
     ]
    },
    {
     "name": "stderr",
     "output_type": "stream",
     "text": [
      " 64%|██████▍   | 641/1000 [00:47<00:25, 14.36it/s]"
     ]
    },
    {
     "name": "stdout",
     "output_type": "stream",
     "text": [
      "Training_loss 1.05330,   Relative Error 0.58806\n",
      "Training_loss 1.04970,   Relative Error 0.58643\n",
      "Training_loss 1.04887,   Relative Error 0.58604\n",
      "Training_loss 1.04658,   Relative Error 0.58499\n"
     ]
    },
    {
     "name": "stderr",
     "output_type": "stream",
     "text": [
      " 64%|██████▍   | 645/1000 [00:47<00:23, 15.10it/s]"
     ]
    },
    {
     "name": "stdout",
     "output_type": "stream",
     "text": [
      "Training_loss 1.04665,   Relative Error 0.58497\n",
      "Training_loss 1.04519,   Relative Error 0.58430\n",
      "Training_loss 1.04370,   Relative Error 0.58362\n",
      "Training_loss 1.04296,   Relative Error 0.58323\n"
     ]
    },
    {
     "name": "stderr",
     "output_type": "stream",
     "text": [
      " 65%|██████▍   | 649/1000 [00:47<00:22, 15.62it/s]"
     ]
    },
    {
     "name": "stdout",
     "output_type": "stream",
     "text": [
      "Training_loss 1.04048,   Relative Error 0.58212\n",
      "Training_loss 1.03831,   Relative Error 0.58113\n",
      "Training_loss 1.03628,   Relative Error 0.58021\n"
     ]
    },
    {
     "name": "stderr",
     "output_type": "stream",
     "text": [
      " 65%|██████▌   | 653/1000 [00:47<00:23, 14.97it/s]"
     ]
    },
    {
     "name": "stdout",
     "output_type": "stream",
     "text": [
      "Training_loss 1.03592,   Relative Error 0.58004\n",
      "Training_loss 1.03263,   Relative Error 0.57858\n",
      "Training_loss 1.02944,   Relative Error 0.57725\n",
      "Training_loss 1.02733,   Relative Error 0.57633\n"
     ]
    },
    {
     "name": "stderr",
     "output_type": "stream",
     "text": [
      " 66%|██████▌   | 657/1000 [00:48<00:21, 15.96it/s]"
     ]
    },
    {
     "name": "stdout",
     "output_type": "stream",
     "text": [
      "Training_loss 1.02698,   Relative Error 0.57611\n",
      "Training_loss 1.02550,   Relative Error 0.57542\n",
      "Training_loss 1.02327,   Relative Error 0.57444\n",
      "Training_loss 1.02238,   Relative Error 0.57399\n"
     ]
    },
    {
     "name": "stderr",
     "output_type": "stream",
     "text": [
      "\r",
      " 66%|██████▌   | 659/1000 [00:48<00:22, 14.93it/s]"
     ]
    },
    {
     "name": "stdout",
     "output_type": "stream",
     "text": [
      "Training_loss 1.02010,   Relative Error 0.57291\n",
      "Training_loss 1.01850,   Relative Error 0.57217\n",
      "Training_loss 1.01705,   Relative Error 0.57149\n"
     ]
    },
    {
     "name": "stderr",
     "output_type": "stream",
     "text": [
      " 66%|██████▋   | 663/1000 [00:48<00:21, 15.43it/s]"
     ]
    },
    {
     "name": "stdout",
     "output_type": "stream",
     "text": [
      "Training_loss 1.01657,   Relative Error 0.57125\n",
      "Training_loss 1.01465,   Relative Error 0.57039\n",
      "Training_loss 1.01367,   Relative Error 0.56997\n",
      "Training_loss 1.01167,   Relative Error 0.56913\n"
     ]
    },
    {
     "name": "stderr",
     "output_type": "stream",
     "text": [
      " 67%|██████▋   | 667/1000 [00:48<00:21, 15.42it/s]"
     ]
    },
    {
     "name": "stdout",
     "output_type": "stream",
     "text": [
      "Training_loss 1.00888,   Relative Error 0.56799\n",
      "Training_loss 1.00604,   Relative Error 0.56667\n",
      "Training_loss 1.00534,   Relative Error 0.56634\n"
     ]
    },
    {
     "name": "stderr",
     "output_type": "stream",
     "text": [
      "\r",
      " 67%|██████▋   | 669/1000 [00:48<00:22, 15.01it/s]"
     ]
    },
    {
     "name": "stdout",
     "output_type": "stream",
     "text": [
      "Training_loss 1.00307,   Relative Error 0.56534\n",
      "Training_loss 0.99875,   Relative Error 0.56342\n",
      "Training_loss 0.99625,   Relative Error 0.56230\n"
     ]
    },
    {
     "name": "stderr",
     "output_type": "stream",
     "text": [
      " 67%|██████▋   | 673/1000 [00:49<00:25, 12.70it/s]"
     ]
    },
    {
     "name": "stdout",
     "output_type": "stream",
     "text": [
      "Training_loss 0.99539,   Relative Error 0.56188\n",
      "Training_loss 0.99442,   Relative Error 0.56143\n",
      "Training_loss 0.99431,   Relative Error 0.56135\n"
     ]
    },
    {
     "name": "stderr",
     "output_type": "stream",
     "text": [
      "\r",
      " 68%|██████▊   | 675/1000 [00:49<00:24, 13.20it/s]"
     ]
    },
    {
     "name": "stdout",
     "output_type": "stream",
     "text": [
      "Training_loss 0.99137,   Relative Error 0.56000\n",
      "Training_loss 0.98900,   Relative Error 0.55891\n",
      "Training_loss 0.98658,   Relative Error 0.55784\n"
     ]
    },
    {
     "name": "stderr",
     "output_type": "stream",
     "text": [
      " 68%|██████▊   | 679/1000 [00:49<00:24, 12.97it/s]"
     ]
    },
    {
     "name": "stdout",
     "output_type": "stream",
     "text": [
      "Training_loss 0.98605,   Relative Error 0.55758\n",
      "Training_loss 0.98499,   Relative Error 0.55710\n",
      "Training_loss 0.98473,   Relative Error 0.55697\n"
     ]
    },
    {
     "name": "stderr",
     "output_type": "stream",
     "text": [
      "\r",
      " 68%|██████▊   | 681/1000 [00:49<00:26, 12.17it/s]"
     ]
    },
    {
     "name": "stdout",
     "output_type": "stream",
     "text": [
      "Training_loss 0.98158,   Relative Error 0.55562\n",
      "Training_loss 0.98010,   Relative Error 0.55497\n",
      "Training_loss 0.97964,   Relative Error 0.55469\n"
     ]
    },
    {
     "name": "stderr",
     "output_type": "stream",
     "text": [
      " 68%|██████▊   | 685/1000 [00:50<00:23, 13.22it/s]"
     ]
    },
    {
     "name": "stdout",
     "output_type": "stream",
     "text": [
      "Training_loss 0.97745,   Relative Error 0.55372\n",
      "Training_loss 0.97763,   Relative Error 0.55377\n",
      "Training_loss 0.97735,   Relative Error 0.55359\n"
     ]
    },
    {
     "name": "stderr",
     "output_type": "stream",
     "text": [
      "\r",
      " 69%|██████▊   | 687/1000 [00:50<00:22, 13.71it/s]"
     ]
    },
    {
     "name": "stdout",
     "output_type": "stream",
     "text": [
      "Training_loss 0.97628,   Relative Error 0.55312\n",
      "Training_loss 0.97529,   Relative Error 0.55269\n",
      "Training_loss 0.97449,   Relative Error 0.55229\n"
     ]
    },
    {
     "name": "stderr",
     "output_type": "stream",
     "text": [
      " 69%|██████▉   | 691/1000 [00:50<00:22, 14.00it/s]"
     ]
    },
    {
     "name": "stdout",
     "output_type": "stream",
     "text": [
      "Training_loss 0.97221,   Relative Error 0.55129\n",
      "Training_loss 0.97007,   Relative Error 0.55035\n",
      "Training_loss 0.96796,   Relative Error 0.54935\n"
     ]
    },
    {
     "name": "stderr",
     "output_type": "stream",
     "text": [
      " 70%|██████▉   | 695/1000 [00:50<00:21, 14.24it/s]"
     ]
    },
    {
     "name": "stdout",
     "output_type": "stream",
     "text": [
      "Training_loss 0.96412,   Relative Error 0.54770\n",
      "Training_loss 0.96444,   Relative Error 0.54782\n",
      "Training_loss 0.96106,   Relative Error 0.54637\n",
      "Training_loss 0.95922,   Relative Error 0.54557\n"
     ]
    },
    {
     "name": "stderr",
     "output_type": "stream",
     "text": [
      " 70%|██████▉   | 699/1000 [00:51<00:20, 15.05it/s]"
     ]
    },
    {
     "name": "stdout",
     "output_type": "stream",
     "text": [
      "Training_loss 0.95963,   Relative Error 0.54572\n",
      "Training_loss 0.95896,   Relative Error 0.54539\n",
      "Training_loss 0.95685,   Relative Error 0.54444\n",
      "Training_loss 0.95639,   Relative Error 0.54422\n"
     ]
    },
    {
     "name": "stderr",
     "output_type": "stream",
     "text": [
      "\r",
      " 70%|███████   | 701/1000 [00:51<00:20, 14.59it/s]"
     ]
    },
    {
     "name": "stdout",
     "output_type": "stream",
     "text": [
      "Training_loss 0.95459,   Relative Error 0.54340\n",
      "Training_loss 0.95262,   Relative Error 0.54247\n",
      "Training_loss 0.95054,   Relative Error 0.54155\n",
      "Training_loss 0.94918,   Relative Error 0.54096\n"
     ]
    },
    {
     "name": "stderr",
     "output_type": "stream",
     "text": [
      "\r",
      " 70%|███████   | 703/1000 [00:51<00:20, 14.54it/s]"
     ]
    },
    {
     "name": "stdout",
     "output_type": "stream",
     "text": [
      "Training_loss 0.94751,   Relative Error 0.54023\n"
     ]
    },
    {
     "name": "stderr",
     "output_type": "stream",
     "text": [
      " 71%|███████   | 707/1000 [00:51<00:23, 12.71it/s]"
     ]
    },
    {
     "name": "stdout",
     "output_type": "stream",
     "text": [
      "Training_loss 0.94704,   Relative Error 0.53995\n",
      "Training_loss 0.94650,   Relative Error 0.53971\n",
      "Training_loss 0.94630,   Relative Error 0.53957\n",
      "Training_loss 0.94459,   Relative Error 0.53875\n"
     ]
    },
    {
     "name": "stderr",
     "output_type": "stream",
     "text": [
      " 71%|███████   | 711/1000 [00:52<00:21, 13.38it/s]"
     ]
    },
    {
     "name": "stdout",
     "output_type": "stream",
     "text": [
      "Training_loss 0.94359,   Relative Error 0.53831\n",
      "Training_loss 0.93989,   Relative Error 0.53669\n",
      "Training_loss 0.93997,   Relative Error 0.53672\n"
     ]
    },
    {
     "name": "stderr",
     "output_type": "stream",
     "text": [
      "\r",
      " 71%|███████▏  | 713/1000 [00:52<00:25, 11.16it/s]"
     ]
    },
    {
     "name": "stdout",
     "output_type": "stream",
     "text": [
      "Training_loss 0.93838,   Relative Error 0.53599\n",
      "Training_loss 0.93723,   Relative Error 0.53549\n"
     ]
    },
    {
     "name": "stderr",
     "output_type": "stream",
     "text": [
      "\r",
      " 72%|███████▏  | 715/1000 [00:52<00:26, 10.89it/s]"
     ]
    },
    {
     "name": "stdout",
     "output_type": "stream",
     "text": [
      "Training_loss 0.93692,   Relative Error 0.53538\n",
      "Training_loss 0.93722,   Relative Error 0.53549\n",
      "Training_loss 0.93556,   Relative Error 0.53474\n"
     ]
    },
    {
     "name": "stderr",
     "output_type": "stream",
     "text": [
      " 72%|███████▏  | 719/1000 [00:52<00:24, 11.54it/s]"
     ]
    },
    {
     "name": "stdout",
     "output_type": "stream",
     "text": [
      "Training_loss 0.93529,   Relative Error 0.53459\n",
      "Training_loss 0.93521,   Relative Error 0.53453\n",
      "Training_loss 0.93539,   Relative Error 0.53458\n"
     ]
    },
    {
     "name": "stderr",
     "output_type": "stream",
     "text": [
      "\r",
      " 72%|███████▏  | 721/1000 [00:52<00:24, 11.45it/s]"
     ]
    },
    {
     "name": "stdout",
     "output_type": "stream",
     "text": [
      "Training_loss 0.93326,   Relative Error 0.53361\n",
      "Training_loss 0.93156,   Relative Error 0.53286\n",
      "Training_loss 0.92984,   Relative Error 0.53208\n"
     ]
    },
    {
     "name": "stderr",
     "output_type": "stream",
     "text": [
      " 72%|███████▎  | 725/1000 [00:53<00:22, 12.24it/s]"
     ]
    },
    {
     "name": "stdout",
     "output_type": "stream",
     "text": [
      "Training_loss 0.92891,   Relative Error 0.53166\n",
      "Training_loss 0.92795,   Relative Error 0.53120\n",
      "Training_loss 0.92603,   Relative Error 0.53033\n"
     ]
    },
    {
     "name": "stderr",
     "output_type": "stream",
     "text": [
      "\r",
      " 73%|███████▎  | 727/1000 [00:53<00:22, 12.26it/s]"
     ]
    },
    {
     "name": "stdout",
     "output_type": "stream",
     "text": [
      "Training_loss 0.92542,   Relative Error 0.53011\n",
      "Training_loss 0.92385,   Relative Error 0.52939\n",
      "Training_loss 0.92288,   Relative Error 0.52897\n"
     ]
    },
    {
     "name": "stderr",
     "output_type": "stream",
     "text": [
      " 73%|███████▎  | 731/1000 [00:53<00:21, 12.55it/s]"
     ]
    },
    {
     "name": "stdout",
     "output_type": "stream",
     "text": [
      "Training_loss 0.92052,   Relative Error 0.52795\n",
      "Training_loss 0.91896,   Relative Error 0.52725\n",
      "Training_loss 0.91667,   Relative Error 0.52625\n"
     ]
    },
    {
     "name": "stderr",
     "output_type": "stream",
     "text": [
      " 74%|███████▎  | 735/1000 [00:54<00:19, 13.70it/s]"
     ]
    },
    {
     "name": "stdout",
     "output_type": "stream",
     "text": [
      "Training_loss 0.91436,   Relative Error 0.52531\n",
      "Training_loss 0.91374,   Relative Error 0.52498\n",
      "Training_loss 0.91381,   Relative Error 0.52499\n",
      "Training_loss 0.91432,   Relative Error 0.52518\n"
     ]
    },
    {
     "name": "stderr",
     "output_type": "stream",
     "text": [
      " 74%|███████▍  | 739/1000 [00:54<00:17, 14.55it/s]"
     ]
    },
    {
     "name": "stdout",
     "output_type": "stream",
     "text": [
      "Training_loss 0.91410,   Relative Error 0.52504\n",
      "Training_loss 0.91277,   Relative Error 0.52444\n",
      "Training_loss 0.90989,   Relative Error 0.52319\n",
      "Training_loss 0.90764,   Relative Error 0.52221\n"
     ]
    },
    {
     "name": "stderr",
     "output_type": "stream",
     "text": [
      " 74%|███████▍  | 743/1000 [00:54<00:16, 15.35it/s]"
     ]
    },
    {
     "name": "stdout",
     "output_type": "stream",
     "text": [
      "Training_loss 0.90704,   Relative Error 0.52190\n",
      "Training_loss 0.90579,   Relative Error 0.52133\n",
      "Training_loss 0.90541,   Relative Error 0.52113\n",
      "Training_loss 0.90311,   Relative Error 0.52014\n"
     ]
    },
    {
     "name": "stderr",
     "output_type": "stream",
     "text": [
      " 75%|███████▍  | 747/1000 [00:54<00:16, 15.80it/s]"
     ]
    },
    {
     "name": "stdout",
     "output_type": "stream",
     "text": [
      "Training_loss 0.90185,   Relative Error 0.51953\n",
      "Training_loss 0.89890,   Relative Error 0.51828\n",
      "Training_loss 0.89797,   Relative Error 0.51783\n",
      "Training_loss 0.89686,   Relative Error 0.51732\n"
     ]
    },
    {
     "name": "stderr",
     "output_type": "stream",
     "text": [
      "\r",
      " 75%|███████▍  | 749/1000 [00:54<00:15, 15.77it/s]"
     ]
    },
    {
     "name": "stdout",
     "output_type": "stream",
     "text": [
      "Training_loss 0.89572,   Relative Error 0.51679\n",
      "Training_loss 0.89597,   Relative Error 0.51689\n",
      "Training_loss 0.89413,   Relative Error 0.51606\n"
     ]
    },
    {
     "name": "stderr",
     "output_type": "stream",
     "text": [
      "\r",
      " 75%|███████▌  | 751/1000 [00:55<00:17, 14.37it/s]"
     ]
    },
    {
     "name": "stdout",
     "output_type": "stream",
     "text": [
      "Training_loss 0.89122,   Relative Error 0.51479\n",
      "Training_loss 0.89124,   Relative Error 0.51477\n"
     ]
    },
    {
     "name": "stderr",
     "output_type": "stream",
     "text": [
      " 76%|███████▌  | 755/1000 [00:55<00:18, 13.07it/s]"
     ]
    },
    {
     "name": "stdout",
     "output_type": "stream",
     "text": [
      "Training_loss 0.89115,   Relative Error 0.51468\n",
      "Training_loss 0.89052,   Relative Error 0.51438\n",
      "Training_loss 0.88838,   Relative Error 0.51339\n"
     ]
    },
    {
     "name": "stderr",
     "output_type": "stream",
     "text": [
      " 76%|███████▌  | 759/1000 [00:55<00:17, 13.57it/s]"
     ]
    },
    {
     "name": "stdout",
     "output_type": "stream",
     "text": [
      "Training_loss 0.88706,   Relative Error 0.51276\n",
      "Training_loss 0.88581,   Relative Error 0.51221\n",
      "Training_loss 0.88581,   Relative Error 0.51215\n",
      "Training_loss 0.88584,   Relative Error 0.51219\n"
     ]
    },
    {
     "name": "stderr",
     "output_type": "stream",
     "text": [
      " 76%|███████▋  | 763/1000 [00:55<00:16, 14.19it/s]"
     ]
    },
    {
     "name": "stdout",
     "output_type": "stream",
     "text": [
      "Training_loss 0.88419,   Relative Error 0.51141\n",
      "Training_loss 0.88423,   Relative Error 0.51138\n",
      "Training_loss 0.88178,   Relative Error 0.51027\n",
      "Training_loss 0.88050,   Relative Error 0.50967\n"
     ]
    },
    {
     "name": "stderr",
     "output_type": "stream",
     "text": [
      " 77%|███████▋  | 767/1000 [00:56<00:16, 14.16it/s]"
     ]
    },
    {
     "name": "stdout",
     "output_type": "stream",
     "text": [
      "Training_loss 0.87998,   Relative Error 0.50946\n",
      "Training_loss 0.87937,   Relative Error 0.50919\n",
      "Training_loss 0.87900,   Relative Error 0.50900\n",
      "Training_loss 0.87714,   Relative Error 0.50819\n"
     ]
    },
    {
     "name": "stderr",
     "output_type": "stream",
     "text": [
      "\r",
      " 77%|███████▋  | 769/1000 [00:56<00:18, 12.61it/s]"
     ]
    },
    {
     "name": "stdout",
     "output_type": "stream",
     "text": [
      "Training_loss 0.87487,   Relative Error 0.50720\n",
      "Training_loss 0.87443,   Relative Error 0.50698\n",
      "Training_loss 0.87408,   Relative Error 0.50677\n"
     ]
    },
    {
     "name": "stderr",
     "output_type": "stream",
     "text": [
      " 77%|███████▋  | 773/1000 [00:56<00:17, 12.74it/s]"
     ]
    },
    {
     "name": "stdout",
     "output_type": "stream",
     "text": [
      "Training_loss 0.87240,   Relative Error 0.50598\n",
      "Training_loss 0.86964,   Relative Error 0.50478\n",
      "Training_loss 0.86998,   Relative Error 0.50491\n"
     ]
    },
    {
     "name": "stderr",
     "output_type": "stream",
     "text": [
      " 78%|███████▊  | 777/1000 [00:57<00:15, 14.23it/s]"
     ]
    },
    {
     "name": "stdout",
     "output_type": "stream",
     "text": [
      "Training_loss 0.86982,   Relative Error 0.50482\n",
      "Training_loss 0.86849,   Relative Error 0.50424\n",
      "Training_loss 0.86678,   Relative Error 0.50347\n",
      "Training_loss 0.86527,   Relative Error 0.50277\n"
     ]
    },
    {
     "name": "stderr",
     "output_type": "stream",
     "text": [
      " 78%|███████▊  | 781/1000 [00:57<00:15, 14.32it/s]"
     ]
    },
    {
     "name": "stdout",
     "output_type": "stream",
     "text": [
      "Training_loss 0.86400,   Relative Error 0.50218\n",
      "Training_loss 0.86299,   Relative Error 0.50178\n",
      "Training_loss 0.86132,   Relative Error 0.50108\n",
      "Training_loss 0.85839,   Relative Error 0.49979\n"
     ]
    },
    {
     "name": "stderr",
     "output_type": "stream",
     "text": [
      "\r",
      " 78%|███████▊  | 783/1000 [00:57<00:13, 15.51it/s]"
     ]
    },
    {
     "name": "stdout",
     "output_type": "stream",
     "text": [
      "Training_loss 0.85835,   Relative Error 0.49975\n",
      "Training_loss 0.85841,   Relative Error 0.49970\n",
      "Training_loss 0.85503,   Relative Error 0.49819\n"
     ]
    },
    {
     "name": "stderr",
     "output_type": "stream",
     "text": [
      " 79%|███████▊  | 787/1000 [00:57<00:17, 12.11it/s]"
     ]
    },
    {
     "name": "stdout",
     "output_type": "stream",
     "text": [
      "Training_loss 0.85228,   Relative Error 0.49702\n",
      "Training_loss 0.85129,   Relative Error 0.49657\n",
      "Training_loss 0.84786,   Relative Error 0.49507\n"
     ]
    },
    {
     "name": "stderr",
     "output_type": "stream",
     "text": [
      "\r",
      " 79%|███████▉  | 789/1000 [00:58<00:19, 10.85it/s]"
     ]
    },
    {
     "name": "stdout",
     "output_type": "stream",
     "text": [
      "Training_loss 0.84778,   Relative Error 0.49499\n",
      "Training_loss 0.84651,   Relative Error 0.49440\n",
      "Training_loss 0.84480,   Relative Error 0.49366\n"
     ]
    },
    {
     "name": "stderr",
     "output_type": "stream",
     "text": [
      " 79%|███████▉  | 793/1000 [00:58<00:17, 11.79it/s]"
     ]
    },
    {
     "name": "stdout",
     "output_type": "stream",
     "text": [
      "Training_loss 0.84588,   Relative Error 0.49406\n",
      "Training_loss 0.84664,   Relative Error 0.49434\n",
      "Training_loss 0.84679,   Relative Error 0.49438\n"
     ]
    },
    {
     "name": "stderr",
     "output_type": "stream",
     "text": [
      "\r",
      " 80%|███████▉  | 795/1000 [00:58<00:18, 11.17it/s]"
     ]
    },
    {
     "name": "stdout",
     "output_type": "stream",
     "text": [
      "Training_loss 0.84531,   Relative Error 0.49365\n",
      "Training_loss 0.84185,   Relative Error 0.49220\n",
      "Training_loss 0.84149,   Relative Error 0.49201\n"
     ]
    },
    {
     "name": "stderr",
     "output_type": "stream",
     "text": [
      "\r",
      " 80%|███████▉  | 797/1000 [00:58<00:19, 10.38it/s]"
     ]
    },
    {
     "name": "stdout",
     "output_type": "stream",
     "text": [
      "Training_loss 0.84202,   Relative Error 0.49220\n",
      "Training_loss 0.84100,   Relative Error 0.49172\n"
     ]
    },
    {
     "name": "stderr",
     "output_type": "stream",
     "text": [
      " 80%|████████  | 801/1000 [00:59<00:18, 10.58it/s]"
     ]
    },
    {
     "name": "stdout",
     "output_type": "stream",
     "text": [
      "Training_loss 0.84020,   Relative Error 0.49133\n",
      "Training_loss 0.83767,   Relative Error 0.49022\n",
      "Training_loss 0.83787,   Relative Error 0.49027\n"
     ]
    },
    {
     "name": "stderr",
     "output_type": "stream",
     "text": [
      "\r",
      " 80%|████████  | 803/1000 [00:59<00:17, 11.21it/s]"
     ]
    },
    {
     "name": "stdout",
     "output_type": "stream",
     "text": [
      "Training_loss 0.83637,   Relative Error 0.48958\n",
      "Training_loss 0.83662,   Relative Error 0.48962\n",
      "Training_loss 0.83622,   Relative Error 0.48943\n"
     ]
    },
    {
     "name": "stderr",
     "output_type": "stream",
     "text": [
      " 81%|████████  | 807/1000 [00:59<00:14, 13.07it/s]"
     ]
    },
    {
     "name": "stdout",
     "output_type": "stream",
     "text": [
      "Training_loss 0.83523,   Relative Error 0.48899\n",
      "Training_loss 0.83353,   Relative Error 0.48823\n",
      "Training_loss 0.83168,   Relative Error 0.48746\n",
      "Training_loss 0.83218,   Relative Error 0.48761\n"
     ]
    },
    {
     "name": "stderr",
     "output_type": "stream",
     "text": [
      "\r",
      " 81%|████████  | 809/1000 [00:59<00:14, 13.41it/s]"
     ]
    },
    {
     "name": "stdout",
     "output_type": "stream",
     "text": [
      "Training_loss 0.83075,   Relative Error 0.48700\n",
      "Training_loss 0.82947,   Relative Error 0.48646\n"
     ]
    },
    {
     "name": "stderr",
     "output_type": "stream",
     "text": [
      "\r",
      " 81%|████████  | 811/1000 [00:59<00:16, 11.26it/s]"
     ]
    },
    {
     "name": "stdout",
     "output_type": "stream",
     "text": [
      "Training_loss 0.82921,   Relative Error 0.48633\n",
      "Training_loss 0.82953,   Relative Error 0.48641\n",
      "Training_loss 0.82550,   Relative Error 0.48470\n"
     ]
    },
    {
     "name": "stderr",
     "output_type": "stream",
     "text": [
      " 82%|████████▏ | 815/1000 [01:00<00:16, 11.32it/s]"
     ]
    },
    {
     "name": "stdout",
     "output_type": "stream",
     "text": [
      "Training_loss 0.82507,   Relative Error 0.48447\n",
      "Training_loss 0.82446,   Relative Error 0.48418\n",
      "Training_loss 0.82293,   Relative Error 0.48348\n"
     ]
    },
    {
     "name": "stderr",
     "output_type": "stream",
     "text": [
      " 82%|████████▏ | 819/1000 [01:00<00:14, 12.70it/s]"
     ]
    },
    {
     "name": "stdout",
     "output_type": "stream",
     "text": [
      "Training_loss 0.82230,   Relative Error 0.48322\n",
      "Training_loss 0.81896,   Relative Error 0.48175\n",
      "Training_loss 0.81789,   Relative Error 0.48126\n",
      "Training_loss 0.81732,   Relative Error 0.48103\n"
     ]
    },
    {
     "name": "stderr",
     "output_type": "stream",
     "text": [
      " 82%|████████▏ | 823/1000 [01:00<00:13, 12.99it/s]"
     ]
    },
    {
     "name": "stdout",
     "output_type": "stream",
     "text": [
      "Training_loss 0.81753,   Relative Error 0.48110\n",
      "Training_loss 0.81645,   Relative Error 0.48062\n",
      "Training_loss 0.81568,   Relative Error 0.48029\n"
     ]
    },
    {
     "name": "stderr",
     "output_type": "stream",
     "text": [
      " 83%|████████▎ | 827/1000 [01:01<00:12, 13.78it/s]"
     ]
    },
    {
     "name": "stdout",
     "output_type": "stream",
     "text": [
      "Training_loss 0.81553,   Relative Error 0.48020\n",
      "Training_loss 0.81519,   Relative Error 0.47999\n",
      "Training_loss 0.81550,   Relative Error 0.48006\n",
      "Training_loss 0.81561,   Relative Error 0.48005\n"
     ]
    },
    {
     "name": "stderr",
     "output_type": "stream",
     "text": [
      " 83%|████████▎ | 831/1000 [01:01<00:11, 15.34it/s]"
     ]
    },
    {
     "name": "stdout",
     "output_type": "stream",
     "text": [
      "Training_loss 0.81387,   Relative Error 0.47928\n",
      "Training_loss 0.81311,   Relative Error 0.47887\n",
      "Training_loss 0.80964,   Relative Error 0.47736\n",
      "Training_loss 0.80954,   Relative Error 0.47725\n"
     ]
    },
    {
     "name": "stderr",
     "output_type": "stream",
     "text": [
      " 84%|████████▎ | 835/1000 [01:01<00:10, 15.45it/s]"
     ]
    },
    {
     "name": "stdout",
     "output_type": "stream",
     "text": [
      "Training_loss 0.80905,   Relative Error 0.47702\n",
      "Training_loss 0.80828,   Relative Error 0.47665\n",
      "Training_loss 0.80607,   Relative Error 0.47571\n",
      "Training_loss 0.80544,   Relative Error 0.47544\n"
     ]
    },
    {
     "name": "stderr",
     "output_type": "stream",
     "text": [
      " 84%|████████▍ | 839/1000 [01:01<00:10, 15.87it/s]"
     ]
    },
    {
     "name": "stdout",
     "output_type": "stream",
     "text": [
      "Training_loss 0.80582,   Relative Error 0.47553\n",
      "Training_loss 0.80468,   Relative Error 0.47501\n",
      "Training_loss 0.80294,   Relative Error 0.47427\n",
      "Training_loss 0.79909,   Relative Error 0.47263\n"
     ]
    },
    {
     "name": "stderr",
     "output_type": "stream",
     "text": [
      " 84%|████████▍ | 843/1000 [01:02<00:09, 16.75it/s]"
     ]
    },
    {
     "name": "stdout",
     "output_type": "stream",
     "text": [
      "Training_loss 0.79802,   Relative Error 0.47212\n",
      "Training_loss 0.79804,   Relative Error 0.47210\n",
      "Training_loss 0.79614,   Relative Error 0.47126\n",
      "Training_loss 0.79605,   Relative Error 0.47118\n"
     ]
    },
    {
     "name": "stderr",
     "output_type": "stream",
     "text": [
      " 85%|████████▍ | 847/1000 [01:02<00:09, 15.44it/s]"
     ]
    },
    {
     "name": "stdout",
     "output_type": "stream",
     "text": [
      "Training_loss 0.79567,   Relative Error 0.47099\n",
      "Training_loss 0.79613,   Relative Error 0.47115\n",
      "Training_loss 0.79654,   Relative Error 0.47127\n",
      "Training_loss 0.79691,   Relative Error 0.47136\n"
     ]
    },
    {
     "name": "stderr",
     "output_type": "stream",
     "text": [
      " 85%|████████▌ | 851/1000 [01:02<00:09, 16.29it/s]"
     ]
    },
    {
     "name": "stdout",
     "output_type": "stream",
     "text": [
      "Training_loss 0.79731,   Relative Error 0.47152\n",
      "Training_loss 0.79734,   Relative Error 0.47151\n",
      "Training_loss 0.79782,   Relative Error 0.47169\n",
      "Training_loss 0.79546,   Relative Error 0.47066\n"
     ]
    },
    {
     "name": "stderr",
     "output_type": "stream",
     "text": [
      " 86%|████████▌ | 855/1000 [01:02<00:09, 15.94it/s]"
     ]
    },
    {
     "name": "stdout",
     "output_type": "stream",
     "text": [
      "Training_loss 0.79443,   Relative Error 0.47013\n",
      "Training_loss 0.79394,   Relative Error 0.46988\n",
      "Training_loss 0.79332,   Relative Error 0.46959\n",
      "Training_loss 0.79400,   Relative Error 0.46985\n"
     ]
    },
    {
     "name": "stderr",
     "output_type": "stream",
     "text": [
      " 86%|████████▌ | 859/1000 [01:03<00:08, 15.72it/s]"
     ]
    },
    {
     "name": "stdout",
     "output_type": "stream",
     "text": [
      "Training_loss 0.79352,   Relative Error 0.46964\n",
      "Training_loss 0.79274,   Relative Error 0.46931\n",
      "Training_loss 0.79189,   Relative Error 0.46890\n",
      "Training_loss 0.79265,   Relative Error 0.46919\n"
     ]
    },
    {
     "name": "stderr",
     "output_type": "stream",
     "text": [
      " 86%|████████▋ | 863/1000 [01:03<00:08, 15.39it/s]"
     ]
    },
    {
     "name": "stdout",
     "output_type": "stream",
     "text": [
      "Training_loss 0.79292,   Relative Error 0.46923\n",
      "Training_loss 0.79224,   Relative Error 0.46894\n",
      "Training_loss 0.79108,   Relative Error 0.46842\n",
      "Training_loss 0.79186,   Relative Error 0.46869\n"
     ]
    },
    {
     "name": "stderr",
     "output_type": "stream",
     "text": [
      " 87%|████████▋ | 867/1000 [01:03<00:08, 16.39it/s]"
     ]
    },
    {
     "name": "stdout",
     "output_type": "stream",
     "text": [
      "Training_loss 0.79117,   Relative Error 0.46835\n",
      "Training_loss 0.78855,   Relative Error 0.46724\n",
      "Training_loss 0.78813,   Relative Error 0.46705\n",
      "Training_loss 0.78720,   Relative Error 0.46669\n"
     ]
    },
    {
     "name": "stderr",
     "output_type": "stream",
     "text": [
      " 87%|████████▋ | 871/1000 [01:03<00:07, 16.16it/s]"
     ]
    },
    {
     "name": "stdout",
     "output_type": "stream",
     "text": [
      "Training_loss 0.78716,   Relative Error 0.46666\n",
      "Training_loss 0.78682,   Relative Error 0.46648\n",
      "Training_loss 0.78594,   Relative Error 0.46603\n",
      "Training_loss 0.78553,   Relative Error 0.46581\n"
     ]
    },
    {
     "name": "stderr",
     "output_type": "stream",
     "text": [
      " 88%|████████▊ | 875/1000 [01:04<00:07, 16.01it/s]"
     ]
    },
    {
     "name": "stdout",
     "output_type": "stream",
     "text": [
      "Training_loss 0.78565,   Relative Error 0.46581\n",
      "Training_loss 0.78487,   Relative Error 0.46546\n",
      "Training_loss 0.78322,   Relative Error 0.46473\n",
      "Training_loss 0.78293,   Relative Error 0.46455\n"
     ]
    },
    {
     "name": "stderr",
     "output_type": "stream",
     "text": [
      " 88%|████████▊ | 879/1000 [01:04<00:07, 15.53it/s]"
     ]
    },
    {
     "name": "stdout",
     "output_type": "stream",
     "text": [
      "Training_loss 0.78038,   Relative Error 0.46340\n",
      "Training_loss 0.78059,   Relative Error 0.46343\n",
      "Training_loss 0.78088,   Relative Error 0.46350\n",
      "Training_loss 0.78046,   Relative Error 0.46331\n"
     ]
    },
    {
     "name": "stderr",
     "output_type": "stream",
     "text": [
      " 88%|████████▊ | 883/1000 [01:04<00:07, 16.28it/s]"
     ]
    },
    {
     "name": "stdout",
     "output_type": "stream",
     "text": [
      "Training_loss 0.78016,   Relative Error 0.46316\n",
      "Training_loss 0.77688,   Relative Error 0.46173\n",
      "Training_loss 0.77614,   Relative Error 0.46132\n",
      "Training_loss 0.77663,   Relative Error 0.46146\n"
     ]
    },
    {
     "name": "stderr",
     "output_type": "stream",
     "text": [
      " 89%|████████▊ | 887/1000 [01:04<00:06, 16.79it/s]"
     ]
    },
    {
     "name": "stdout",
     "output_type": "stream",
     "text": [
      "Training_loss 0.77745,   Relative Error 0.46177\n",
      "Training_loss 0.77529,   Relative Error 0.46089\n",
      "Training_loss 0.77459,   Relative Error 0.46060\n",
      "Training_loss 0.77289,   Relative Error 0.45989\n"
     ]
    },
    {
     "name": "stderr",
     "output_type": "stream",
     "text": [
      " 89%|████████▉ | 891/1000 [01:05<00:06, 16.39it/s]"
     ]
    },
    {
     "name": "stdout",
     "output_type": "stream",
     "text": [
      "Training_loss 0.77378,   Relative Error 0.46021\n",
      "Training_loss 0.77239,   Relative Error 0.45961\n",
      "Training_loss 0.77024,   Relative Error 0.45877\n",
      "Training_loss 0.76956,   Relative Error 0.45843\n"
     ]
    },
    {
     "name": "stderr",
     "output_type": "stream",
     "text": [
      " 90%|████████▉ | 895/1000 [01:05<00:06, 16.70it/s]"
     ]
    },
    {
     "name": "stdout",
     "output_type": "stream",
     "text": [
      "Training_loss 0.76970,   Relative Error 0.45845\n",
      "Training_loss 0.76736,   Relative Error 0.45740\n",
      "Training_loss 0.76615,   Relative Error 0.45692\n",
      "Training_loss 0.76601,   Relative Error 0.45686\n"
     ]
    },
    {
     "name": "stderr",
     "output_type": "stream",
     "text": [
      " 90%|████████▉ | 899/1000 [01:05<00:05, 17.05it/s]"
     ]
    },
    {
     "name": "stdout",
     "output_type": "stream",
     "text": [
      "Training_loss 0.76503,   Relative Error 0.45639\n",
      "Training_loss 0.76454,   Relative Error 0.45610\n",
      "Training_loss 0.76263,   Relative Error 0.45526\n",
      "Training_loss 0.76184,   Relative Error 0.45489\n"
     ]
    },
    {
     "name": "stderr",
     "output_type": "stream",
     "text": [
      " 90%|█████████ | 903/1000 [01:05<00:05, 16.47it/s]"
     ]
    },
    {
     "name": "stdout",
     "output_type": "stream",
     "text": [
      "Training_loss 0.76000,   Relative Error 0.45411\n",
      "Training_loss 0.75910,   Relative Error 0.45367\n",
      "Training_loss 0.75948,   Relative Error 0.45379\n",
      "Training_loss 0.75911,   Relative Error 0.45357\n"
     ]
    },
    {
     "name": "stderr",
     "output_type": "stream",
     "text": [
      " 91%|█████████ | 907/1000 [01:06<00:05, 17.15it/s]"
     ]
    },
    {
     "name": "stdout",
     "output_type": "stream",
     "text": [
      "Training_loss 0.76002,   Relative Error 0.45392\n",
      "Training_loss 0.75914,   Relative Error 0.45352\n",
      "Training_loss 0.75744,   Relative Error 0.45282\n",
      "Training_loss 0.75836,   Relative Error 0.45317\n"
     ]
    },
    {
     "name": "stderr",
     "output_type": "stream",
     "text": [
      " 91%|█████████ | 911/1000 [01:06<00:05, 16.95it/s]"
     ]
    },
    {
     "name": "stdout",
     "output_type": "stream",
     "text": [
      "Training_loss 0.75642,   Relative Error 0.45231\n",
      "Training_loss 0.75537,   Relative Error 0.45185\n",
      "Training_loss 0.75482,   Relative Error 0.45155\n",
      "Training_loss 0.75381,   Relative Error 0.45111\n"
     ]
    },
    {
     "name": "stderr",
     "output_type": "stream",
     "text": [
      " 92%|█████████▏| 915/1000 [01:06<00:05, 16.94it/s]"
     ]
    },
    {
     "name": "stdout",
     "output_type": "stream",
     "text": [
      "Training_loss 0.75366,   Relative Error 0.45104\n",
      "Training_loss 0.75380,   Relative Error 0.45104\n",
      "Training_loss 0.75294,   Relative Error 0.45063\n",
      "Training_loss 0.75158,   Relative Error 0.44996\n"
     ]
    },
    {
     "name": "stderr",
     "output_type": "stream",
     "text": [
      " 92%|█████████▏| 919/1000 [01:06<00:04, 16.74it/s]"
     ]
    },
    {
     "name": "stdout",
     "output_type": "stream",
     "text": [
      "Training_loss 0.74984,   Relative Error 0.44918\n",
      "Training_loss 0.74954,   Relative Error 0.44896\n",
      "Training_loss 0.74961,   Relative Error 0.44895\n",
      "Training_loss 0.75003,   Relative Error 0.44907\n"
     ]
    },
    {
     "name": "stderr",
     "output_type": "stream",
     "text": [
      " 92%|█████████▏| 923/1000 [01:06<00:04, 17.06it/s]"
     ]
    },
    {
     "name": "stdout",
     "output_type": "stream",
     "text": [
      "Training_loss 0.74826,   Relative Error 0.44829\n",
      "Training_loss 0.74809,   Relative Error 0.44820\n",
      "Training_loss 0.74740,   Relative Error 0.44788\n",
      "Training_loss 0.74521,   Relative Error 0.44695\n"
     ]
    },
    {
     "name": "stderr",
     "output_type": "stream",
     "text": [
      " 93%|█████████▎| 927/1000 [01:07<00:04, 16.60it/s]"
     ]
    },
    {
     "name": "stdout",
     "output_type": "stream",
     "text": [
      "Training_loss 0.74430,   Relative Error 0.44657\n",
      "Training_loss 0.74435,   Relative Error 0.44657\n",
      "Training_loss 0.74462,   Relative Error 0.44664\n",
      "Training_loss 0.74354,   Relative Error 0.44618\n"
     ]
    },
    {
     "name": "stderr",
     "output_type": "stream",
     "text": [
      "\r",
      " 93%|█████████▎| 929/1000 [01:07<00:04, 16.07it/s]"
     ]
    },
    {
     "name": "stdout",
     "output_type": "stream",
     "text": [
      "Training_loss 0.74161,   Relative Error 0.44530\n",
      "Training_loss 0.74073,   Relative Error 0.44493\n",
      "Training_loss 0.74025,   Relative Error 0.44464\n"
     ]
    },
    {
     "name": "stderr",
     "output_type": "stream",
     "text": [
      " 93%|█████████▎| 933/1000 [01:07<00:04, 16.19it/s]"
     ]
    },
    {
     "name": "stdout",
     "output_type": "stream",
     "text": [
      "Training_loss 0.73871,   Relative Error 0.44395\n",
      "Training_loss 0.73637,   Relative Error 0.44290\n",
      "Training_loss 0.73708,   Relative Error 0.44315\n",
      "Training_loss 0.73645,   Relative Error 0.44289\n"
     ]
    },
    {
     "name": "stderr",
     "output_type": "stream",
     "text": [
      " 94%|█████████▎| 937/1000 [01:07<00:03, 16.58it/s]"
     ]
    },
    {
     "name": "stdout",
     "output_type": "stream",
     "text": [
      "Training_loss 0.73670,   Relative Error 0.44293\n",
      "Training_loss 0.73693,   Relative Error 0.44303\n",
      "Training_loss 0.73650,   Relative Error 0.44281\n",
      "Training_loss 0.73668,   Relative Error 0.44283\n"
     ]
    },
    {
     "name": "stderr",
     "output_type": "stream",
     "text": [
      " 94%|█████████▍| 941/1000 [01:08<00:03, 16.77it/s]"
     ]
    },
    {
     "name": "stdout",
     "output_type": "stream",
     "text": [
      "Training_loss 0.73728,   Relative Error 0.44306\n",
      "Training_loss 0.73637,   Relative Error 0.44267\n",
      "Training_loss 0.73743,   Relative Error 0.44304\n",
      "Training_loss 0.73657,   Relative Error 0.44271\n"
     ]
    },
    {
     "name": "stderr",
     "output_type": "stream",
     "text": [
      " 94%|█████████▍| 945/1000 [01:08<00:03, 16.76it/s]"
     ]
    },
    {
     "name": "stdout",
     "output_type": "stream",
     "text": [
      "Training_loss 0.73667,   Relative Error 0.44274\n",
      "Training_loss 0.73660,   Relative Error 0.44271\n",
      "Training_loss 0.73755,   Relative Error 0.44305\n",
      "Training_loss 0.73756,   Relative Error 0.44299\n"
     ]
    },
    {
     "name": "stderr",
     "output_type": "stream",
     "text": [
      " 95%|█████████▍| 949/1000 [01:08<00:03, 14.59it/s]"
     ]
    },
    {
     "name": "stdout",
     "output_type": "stream",
     "text": [
      "Training_loss 0.73789,   Relative Error 0.44314\n",
      "Training_loss 0.73595,   Relative Error 0.44233\n",
      "Training_loss 0.73472,   Relative Error 0.44174\n"
     ]
    },
    {
     "name": "stderr",
     "output_type": "stream",
     "text": [
      "\r",
      " 95%|█████████▌| 951/1000 [01:08<00:03, 14.14it/s]"
     ]
    },
    {
     "name": "stdout",
     "output_type": "stream",
     "text": [
      "Training_loss 0.73375,   Relative Error 0.44128\n",
      "Training_loss 0.73348,   Relative Error 0.44113\n",
      "Training_loss 0.73302,   Relative Error 0.44092\n"
     ]
    },
    {
     "name": "stderr",
     "output_type": "stream",
     "text": [
      " 96%|█████████▌| 955/1000 [01:09<00:03, 13.84it/s]"
     ]
    },
    {
     "name": "stdout",
     "output_type": "stream",
     "text": [
      "Training_loss 0.73262,   Relative Error 0.44071\n",
      "Training_loss 0.73230,   Relative Error 0.44058\n",
      "Training_loss 0.73332,   Relative Error 0.44101\n"
     ]
    },
    {
     "name": "stderr",
     "output_type": "stream",
     "text": [
      "\r",
      " 96%|█████████▌| 957/1000 [01:09<00:03, 13.64it/s]"
     ]
    },
    {
     "name": "stdout",
     "output_type": "stream",
     "text": [
      "Training_loss 0.73268,   Relative Error 0.44075\n",
      "Training_loss 0.73229,   Relative Error 0.44053\n",
      "Training_loss 0.73162,   Relative Error 0.44022\n"
     ]
    },
    {
     "name": "stderr",
     "output_type": "stream",
     "text": [
      " 96%|█████████▌| 961/1000 [01:09<00:02, 13.28it/s]"
     ]
    },
    {
     "name": "stdout",
     "output_type": "stream",
     "text": [
      "Training_loss 0.73086,   Relative Error 0.43984\n",
      "Training_loss 0.73008,   Relative Error 0.43951\n",
      "Training_loss 0.73089,   Relative Error 0.43979\n"
     ]
    },
    {
     "name": "stderr",
     "output_type": "stream",
     "text": [
      "\r",
      " 96%|█████████▋| 963/1000 [01:09<00:02, 13.24it/s]"
     ]
    },
    {
     "name": "stdout",
     "output_type": "stream",
     "text": [
      "Training_loss 0.73124,   Relative Error 0.43986\n",
      "Training_loss 0.73165,   Relative Error 0.44000\n",
      "Training_loss 0.73065,   Relative Error 0.43949\n"
     ]
    },
    {
     "name": "stderr",
     "output_type": "stream",
     "text": [
      " 97%|█████████▋| 967/1000 [01:09<00:02, 13.97it/s]"
     ]
    },
    {
     "name": "stdout",
     "output_type": "stream",
     "text": [
      "Training_loss 0.73147,   Relative Error 0.43979\n",
      "Training_loss 0.73055,   Relative Error 0.43941\n",
      "Training_loss 0.73091,   Relative Error 0.43955\n",
      "Training_loss 0.73079,   Relative Error 0.43949\n"
     ]
    },
    {
     "name": "stderr",
     "output_type": "stream",
     "text": [
      " 97%|█████████▋| 971/1000 [01:10<00:02, 14.44it/s]"
     ]
    },
    {
     "name": "stdout",
     "output_type": "stream",
     "text": [
      "Training_loss 0.73020,   Relative Error 0.43918\n",
      "Training_loss 0.72997,   Relative Error 0.43909\n",
      "Training_loss 0.72994,   Relative Error 0.43902\n"
     ]
    },
    {
     "name": "stderr",
     "output_type": "stream",
     "text": [
      " 98%|█████████▊| 975/1000 [01:10<00:01, 15.50it/s]"
     ]
    },
    {
     "name": "stdout",
     "output_type": "stream",
     "text": [
      "Training_loss 0.73013,   Relative Error 0.43909\n",
      "Training_loss 0.72875,   Relative Error 0.43847\n",
      "Training_loss 0.72827,   Relative Error 0.43818\n",
      "Training_loss 0.72617,   Relative Error 0.43732\n"
     ]
    },
    {
     "name": "stderr",
     "output_type": "stream",
     "text": [
      "\r",
      " 98%|█████████▊| 977/1000 [01:10<00:01, 15.06it/s]"
     ]
    },
    {
     "name": "stdout",
     "output_type": "stream",
     "text": [
      "Training_loss 0.72599,   Relative Error 0.43721\n",
      "Training_loss 0.72521,   Relative Error 0.43684\n",
      "Training_loss 0.72435,   Relative Error 0.43642\n"
     ]
    },
    {
     "name": "stderr",
     "output_type": "stream",
     "text": [
      " 98%|█████████▊| 981/1000 [01:10<00:01, 15.24it/s]"
     ]
    },
    {
     "name": "stdout",
     "output_type": "stream",
     "text": [
      "Training_loss 0.72296,   Relative Error 0.43593\n",
      "Training_loss 0.72213,   Relative Error 0.43554\n",
      "Training_loss 0.72150,   Relative Error 0.43520\n",
      "Training_loss 0.72208,   Relative Error 0.43538\n"
     ]
    },
    {
     "name": "stderr",
     "output_type": "stream",
     "text": [
      " 98%|█████████▊| 985/1000 [01:11<00:00, 16.11it/s]"
     ]
    },
    {
     "name": "stdout",
     "output_type": "stream",
     "text": [
      "Training_loss 0.72186,   Relative Error 0.43530\n",
      "Training_loss 0.72043,   Relative Error 0.43466\n",
      "Training_loss 0.72044,   Relative Error 0.43462\n",
      "Training_loss 0.72008,   Relative Error 0.43439\n"
     ]
    },
    {
     "name": "stderr",
     "output_type": "stream",
     "text": [
      " 99%|█████████▉| 989/1000 [01:11<00:00, 16.51it/s]"
     ]
    },
    {
     "name": "stdout",
     "output_type": "stream",
     "text": [
      "Training_loss 0.71893,   Relative Error 0.43393\n",
      "Training_loss 0.71913,   Relative Error 0.43395\n",
      "Training_loss 0.71915,   Relative Error 0.43395\n",
      "Training_loss 0.71998,   Relative Error 0.43426\n"
     ]
    },
    {
     "name": "stderr",
     "output_type": "stream",
     "text": [
      " 99%|█████████▉| 993/1000 [01:11<00:00, 16.76it/s]"
     ]
    },
    {
     "name": "stdout",
     "output_type": "stream",
     "text": [
      "Training_loss 0.72046,   Relative Error 0.43444\n",
      "Training_loss 0.72162,   Relative Error 0.43489\n",
      "Training_loss 0.72041,   Relative Error 0.43435\n",
      "Training_loss 0.72079,   Relative Error 0.43446\n"
     ]
    },
    {
     "name": "stderr",
     "output_type": "stream",
     "text": [
      "100%|█████████▉| 997/1000 [01:11<00:00, 17.06it/s]"
     ]
    },
    {
     "name": "stdout",
     "output_type": "stream",
     "text": [
      "Training_loss 0.72123,   Relative Error 0.43462\n",
      "Training_loss 0.72120,   Relative Error 0.43453\n",
      "Training_loss 0.72145,   Relative Error 0.43460\n",
      "Training_loss 0.72179,   Relative Error 0.43471\n"
     ]
    },
    {
     "name": "stderr",
     "output_type": "stream",
     "text": [
      "100%|██████████| 1000/1000 [01:12<00:00, 13.88it/s]"
     ]
    },
    {
     "name": "stdout",
     "output_type": "stream",
     "text": [
      "Training_loss 0.72199,   Relative Error 0.43479\n",
      "Training_loss 0.72192,   Relative Error 0.43474\n"
     ]
    },
    {
     "name": "stderr",
     "output_type": "stream",
     "text": [
      "\n"
     ]
    }
   ],
   "source": [
    "#global_model = CNN_Net().cuda()\n",
    "models = [MLP_Net(user_id=i) for i in range(no_users)]\n",
    "dummy_models = [MLP_Net(user_id=i) for i in range(no_users)]\n",
    "\n",
    "#model.load_state_dict(global_model.state_dict())\n",
    "\n",
    "criterion = nn.MSELoss()\n",
    "\n",
    "\n",
    "train_loss = []\n",
    "test_loss = []\n",
    "test_accuracy = []\n",
    "total_rel_error = []\n",
    "\n",
    "for curr_round in tqdm(range(1, it+1)):\n",
    "    w, local_loss = [], []\n",
    "\n",
    "    \n",
    "    for i in range(no_users):\n",
    "        dummy_models[i].load_state_dict(models[i].state_dict())\n",
    "        local_update = ClientUpdate(dataset=datapoints[i], batchSize=batch_size, alpha=alpha, lamda=lamda, epochs=1, projection_list=projection_list, projected_weights=projected_weights)\n",
    "        weights, loss = local_update.train(dummy_models[i])\n",
    "        w.append(weights)\n",
    "        local_loss.append(loss)\n",
    "        models[i].load_state_dict(w[i])\n",
    "        \n",
    "    \n",
    "    \n",
    "    \n",
    "    #Share and mix the local weights\n",
    "    \n",
    "    \n",
    "    for i in range(no_users):\n",
    "        weights = parameters_to_vector(dummy_models[i].parameters())\n",
    "        mat_vec_sum = torch.zeros_like(weights)\n",
    "        for j in G.neighbors(i):\n",
    "            mat_vec_sum = torch.add(mat_vec_sum, parameters_to_vector(dummy_models[j].parameters()))\n",
    "        \n",
    "        new_weights = weights - mu * eta * (degree_list[i] * weights - mat_vec_sum)\n",
    "        # Update real models\n",
    "        vector_to_parameters(parameters=models[i].parameters(), vec=new_weights)\n",
    "        \n",
    "        \n",
    "        \n",
    "    \n",
    "    \n",
    "\n",
    "\n",
    "\n",
    "\n",
    "          \n",
    "            \n",
    "\n",
    "    local_test_acc = []\n",
    "    local_test_loss = []\n",
    "    \n",
    "    user_rel_error = 0\n",
    "    for k in range(no_users):\n",
    "      \n",
    "        g_loss = testing(models[i], datapoints[i], 50, criterion)\n",
    "        local_test_loss.append(g_loss)\n",
    "        user_rel_error += rel_error(models[i])\n",
    "    \n",
    "    \n",
    "        \n",
    "\n",
    "    g_loss = sum(local_test_loss) / len(local_test_loss)\n",
    "    total_rel_error.append(user_rel_error / no_users)\n",
    "    #g_accuracy = sum(local_test_acc) / len(local_test_acc)\n",
    "    \n",
    "    \n",
    "\n",
    "    test_loss.append(g_loss)\n",
    "    #test_accuracy.append(g_accuracy)\n",
    "    print(\"Training_loss %2.5f,   Relative Error %2.5f\"% (test_loss[-1], total_rel_error[-1]))"
   ]
  },
  {
   "cell_type": "code",
   "execution_count": 20,
   "id": "2ff0ff71",
   "metadata": {},
   "outputs": [
    {
     "data": {
      "text/plain": [
       "tensor([-1.1348,  1.7405], grad_fn=<CatBackward0>)"
      ]
     },
     "execution_count": 20,
     "metadata": {},
     "output_type": "execute_result"
    }
   ],
   "source": [
    "#plot.plot(test_loss)\n",
    "parameters_to_vector(models[19].parameters())"
   ]
  },
  {
   "cell_type": "code",
   "execution_count": 21,
   "id": "679d15ac",
   "metadata": {},
   "outputs": [
    {
     "name": "stdout",
     "output_type": "stream",
     "text": [
      "2\n",
      "3\n",
      "5\n",
      "6\n",
      "7\n"
     ]
    }
   ],
   "source": [
    "for j in G.neighbors(0):\n",
    "    print(j)"
   ]
  },
  {
   "cell_type": "code",
   "execution_count": 22,
   "id": "c76fd36c",
   "metadata": {},
   "outputs": [
    {
     "data": {
      "text/plain": [
       "tensor([1.1467, 1.7330], grad_fn=<CatBackward0>)"
      ]
     },
     "execution_count": 22,
     "metadata": {},
     "output_type": "execute_result"
    }
   ],
   "source": [
    "parameters_to_vector(models[0].parameters())"
   ]
  },
  {
   "cell_type": "code",
   "execution_count": 23,
   "id": "42f4dc91",
   "metadata": {},
   "outputs": [
    {
     "data": {
      "text/plain": [
       "[0,\n",
       " 0,\n",
       " tensor([[-0.4589,  0.0000],\n",
       "         [ 0.0000, -0.4589]]),\n",
       " tensor([[0.4372, 0.0000],\n",
       "         [0.0000, 0.4372]]),\n",
       " 0,\n",
       " tensor([[3.1154, 0.0000],\n",
       "         [0.0000, 3.1154]]),\n",
       " tensor([[1.4100, 0.0000],\n",
       "         [0.0000, 1.4100]]),\n",
       " tensor([[0.9351, 0.0000],\n",
       "         [0.0000, 0.9351]]),\n",
       " 0,\n",
       " 0,\n",
       " 0,\n",
       " 0,\n",
       " 0,\n",
       " 0,\n",
       " 0,\n",
       " 0,\n",
       " 0,\n",
       " 0,\n",
       " 0,\n",
       " 0]"
      ]
     },
     "execution_count": 23,
     "metadata": {},
     "output_type": "execute_result"
    }
   ],
   "source": [
    "projection_list[0]"
   ]
  },
  {
   "cell_type": "code",
   "execution_count": 24,
   "id": "e98c0b57",
   "metadata": {},
   "outputs": [
    {
     "data": {
      "text/plain": [
       "[0,\n",
       " 0,\n",
       " tensor([ 0.0766, -0.2752]),\n",
       " tensor([0.0599, 0.2225]),\n",
       " 0,\n",
       " tensor([-0.4415,  0.8300]),\n",
       " tensor([-0.8779,  0.4329]),\n",
       " tensor([-0.0385, -0.3940]),\n",
       " 0,\n",
       " 0,\n",
       " 0,\n",
       " 0,\n",
       " 0,\n",
       " 0,\n",
       " 0,\n",
       " 0,\n",
       " 0,\n",
       " 0,\n",
       " 0,\n",
       " 0]"
      ]
     },
     "execution_count": 24,
     "metadata": {},
     "output_type": "execute_result"
    }
   ],
   "source": [
    "projected_weights[0]"
   ]
  },
  {
   "cell_type": "code",
   "execution_count": 25,
   "id": "1cf9ba5d",
   "metadata": {},
   "outputs": [],
   "source": [
    "test_loss = np.asarray(test_loss)\n",
    "total_rel_error = np.asarray(total_rel_error)"
   ]
  },
  {
   "cell_type": "code",
   "execution_count": 26,
   "id": "7dade085",
   "metadata": {},
   "outputs": [],
   "source": [
    "np.save( 'training_loss_dfedu', test_loss)\n",
    "np.save('relative_error_dfedu', total_rel_error)"
   ]
  },
  {
   "cell_type": "code",
   "execution_count": null,
   "id": "1bb16136",
   "metadata": {},
   "outputs": [],
   "source": [
    "plt.plot(total_rel_error)"
   ]
  },
  {
   "cell_type": "code",
   "execution_count": null,
   "id": "e5bf8f56",
   "metadata": {},
   "outputs": [],
   "source": []
  }
 ],
 "metadata": {
  "kernelspec": {
   "display_name": "Python 3",
   "language": "python",
   "name": "python3"
  },
  "language_info": {
   "codemirror_mode": {
    "name": "ipython",
    "version": 3
   },
   "file_extension": ".py",
   "mimetype": "text/x-python",
   "name": "python",
   "nbconvert_exporter": "python",
   "pygments_lexer": "ipython3",
   "version": "3.8.8"
  }
 },
 "nbformat": 4,
 "nbformat_minor": 5
}
