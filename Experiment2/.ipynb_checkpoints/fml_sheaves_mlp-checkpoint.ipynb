{
 "cells": [
  {
   "cell_type": "code",
   "execution_count": 1,
   "id": "74d5d395",
   "metadata": {},
   "outputs": [],
   "source": [
    "import torch\n",
    "import torch.nn as nn\n",
    "import torch.nn.functional as F\n",
    "import torch.optim as optim\n",
    "from torchvision import datasets, transforms\n",
    "from torch.utils.data import DataLoader, Dataset\n",
    "import copy\n",
    "import numpy as np\n",
    "import matplotlib.pyplot as plt\n",
    "from tqdm import tqdm\n",
    "import networkx as nx\n",
    "from torch.nn.utils import parameters_to_vector, vector_to_parameters"
   ]
  },
  {
   "cell_type": "code",
   "execution_count": 2,
   "id": "7617ffd7",
   "metadata": {},
   "outputs": [],
   "source": [
    "# Graph implementation\n",
    "def generate_graph(cluster_sizes=[100,100], pin=0.5, pout=0.01, seed=0):\n",
    "    \"\"\"Generate a random connected graph\"\"\"\n",
    "    probs = np.array([[pin, pout],[pout, pin]])\n",
    "    while True:\n",
    "        g = nx.stochastic_block_model(cluster_sizes, probs)\n",
    "        if nx.algorithms.components.is_connected(g):\n",
    "            return g\n",
    "\n",
    "\n",
    "cluster_sizes = [10, 10]\n",
    "pin = 0.5\n",
    "pout = 0.01\n",
    "seed = 0\n",
    "alpha = 1e-3\n",
    "lamda = 1e-1\n",
    "eta = 1e-3\n",
    "no_users = sum(cluster_sizes)\n",
    "batch_size = 20\n",
    "epochs = 1\n",
    "it = 2000\n",
    "G = generate_graph(cluster_sizes, pin, pout, seed)\n",
    "\n",
    "#nx.draw(G, with_labels=True, node_size=100, alpha=1, linewidths=10)\n",
    "#plt.show()"
   ]
  },
  {
   "cell_type": "code",
   "execution_count": 3,
   "id": "809e7c6f",
   "metadata": {},
   "outputs": [
    {
     "name": "stdout",
     "output_type": "stream",
     "text": [
      "[[0.         0.         0.         0.         0.16666667 0.\n",
      "  0.2        0.14285714 0.         0.         0.         0.\n",
      "  0.         0.         0.         0.         0.         0.\n",
      "  0.         0.11111111]\n",
      " [0.         0.         0.16666667 0.         0.         0.2\n",
      "  0.         0.         0.125      0.         0.         0.\n",
      "  0.         0.         0.         0.         0.         0.\n",
      "  0.         0.11111111]\n",
      " [0.         0.16666667 0.         0.         0.16666667 0.\n",
      "  0.         0.14285714 0.125      0.         0.         0.\n",
      "  0.         0.         0.         0.         0.         0.\n",
      "  0.         0.11111111]\n",
      " [0.         0.         0.         0.         0.16666667 0.\n",
      "  0.         0.14285714 0.         0.         0.         0.\n",
      "  0.         0.         0.         0.         0.         0.\n",
      "  0.         0.11111111]\n",
      " [0.16666667 0.         0.16666667 0.16666667 0.         0.\n",
      "  0.         0.14285714 0.         0.         0.         0.\n",
      "  0.         0.         0.         0.         0.         0.\n",
      "  0.         0.11111111]\n",
      " [0.         0.2        0.         0.         0.         0.\n",
      "  0.2        0.         0.125      0.         0.         0.\n",
      "  0.         0.         0.         0.         0.         0.\n",
      "  0.         0.11111111]\n",
      " [0.2        0.         0.         0.         0.         0.2\n",
      "  0.         0.14285714 0.125      0.         0.         0.\n",
      "  0.         0.         0.         0.         0.         0.\n",
      "  0.         0.        ]\n",
      " [0.14285714 0.         0.14285714 0.14285714 0.14285714 0.\n",
      "  0.14285714 0.         0.         0.         0.         0.\n",
      "  0.         0.         0.         0.         0.         0.\n",
      "  0.         0.11111111]\n",
      " [0.         0.125      0.125      0.         0.         0.125\n",
      "  0.125      0.         0.         0.         0.         0.125\n",
      "  0.         0.125      0.         0.         0.         0.\n",
      "  0.         0.11111111]\n",
      " [0.         0.         0.         0.         0.         0.\n",
      "  0.         0.         0.         0.         0.         0.16666667\n",
      "  0.         0.14285714 0.         0.         0.         0.2\n",
      "  0.         0.        ]\n",
      " [0.         0.         0.         0.         0.         0.\n",
      "  0.         0.         0.         0.         0.         0.\n",
      "  0.         0.         0.2        0.16666667 0.14285714 0.\n",
      "  0.14285714 0.        ]\n",
      " [0.         0.         0.         0.         0.         0.\n",
      "  0.         0.         0.125      0.16666667 0.         0.\n",
      "  0.         0.         0.16666667 0.         0.14285714 0.16666667\n",
      "  0.         0.        ]\n",
      " [0.         0.         0.         0.         0.         0.\n",
      "  0.         0.         0.         0.         0.         0.\n",
      "  0.         0.14285714 0.         0.16666667 0.         0.\n",
      "  0.14285714 0.        ]\n",
      " [0.         0.         0.         0.         0.         0.\n",
      "  0.         0.         0.125      0.14285714 0.         0.\n",
      "  0.14285714 0.         0.         0.         0.14285714 0.14285714\n",
      "  0.14285714 0.        ]\n",
      " [0.         0.         0.         0.         0.         0.\n",
      "  0.         0.         0.         0.         0.2        0.16666667\n",
      "  0.         0.         0.         0.         0.14285714 0.\n",
      "  0.14285714 0.        ]\n",
      " [0.         0.         0.         0.         0.         0.\n",
      "  0.         0.         0.         0.         0.16666667 0.\n",
      "  0.16666667 0.         0.         0.         0.14285714 0.16666667\n",
      "  0.14285714 0.        ]\n",
      " [0.         0.         0.         0.         0.         0.\n",
      "  0.         0.         0.         0.         0.14285714 0.14285714\n",
      "  0.         0.14285714 0.14285714 0.14285714 0.         0.\n",
      "  0.14285714 0.        ]\n",
      " [0.         0.         0.         0.         0.         0.\n",
      "  0.         0.         0.         0.2        0.         0.16666667\n",
      "  0.         0.14285714 0.         0.16666667 0.         0.\n",
      "  0.         0.        ]\n",
      " [0.         0.         0.         0.         0.         0.\n",
      "  0.         0.         0.         0.         0.14285714 0.\n",
      "  0.14285714 0.14285714 0.14285714 0.14285714 0.14285714 0.\n",
      "  0.         0.        ]\n",
      " [0.11111111 0.11111111 0.11111111 0.11111111 0.11111111 0.11111111\n",
      "  0.         0.11111111 0.11111111 0.         0.         0.\n",
      "  0.         0.         0.         0.         0.         0.\n",
      "  0.         0.        ]]\n",
      "[[0.37936508 0.         0.         0.         0.16666667 0.\n",
      "  0.2        0.14285714 0.         0.         0.         0.\n",
      "  0.         0.         0.         0.         0.         0.\n",
      "  0.         0.11111111]\n",
      " [0.         0.39722222 0.16666667 0.         0.         0.2\n",
      "  0.         0.         0.125      0.         0.         0.\n",
      "  0.         0.         0.         0.         0.         0.\n",
      "  0.         0.11111111]\n",
      " [0.         0.16666667 0.28769841 0.         0.16666667 0.\n",
      "  0.         0.14285714 0.125      0.         0.         0.\n",
      "  0.         0.         0.         0.         0.         0.\n",
      "  0.         0.11111111]\n",
      " [0.         0.         0.         0.57936508 0.16666667 0.\n",
      "  0.         0.14285714 0.         0.         0.         0.\n",
      "  0.         0.         0.         0.         0.         0.\n",
      "  0.         0.11111111]\n",
      " [0.16666667 0.         0.16666667 0.16666667 0.24603175 0.\n",
      "  0.         0.14285714 0.         0.         0.         0.\n",
      "  0.         0.         0.         0.         0.         0.\n",
      "  0.         0.11111111]\n",
      " [0.         0.2        0.         0.         0.         0.36388889\n",
      "  0.2        0.         0.125      0.         0.         0.\n",
      "  0.         0.         0.         0.         0.         0.\n",
      "  0.         0.11111111]\n",
      " [0.2        0.         0.         0.         0.         0.2\n",
      "  0.33214286 0.14285714 0.125      0.         0.         0.\n",
      "  0.         0.         0.         0.         0.         0.\n",
      "  0.         0.        ]\n",
      " [0.14285714 0.         0.14285714 0.14285714 0.14285714 0.\n",
      "  0.14285714 0.17460317 0.         0.         0.         0.\n",
      "  0.         0.         0.         0.         0.         0.\n",
      "  0.         0.11111111]\n",
      " [0.         0.125      0.125      0.         0.         0.125\n",
      "  0.125      0.         0.13888889 0.         0.         0.125\n",
      "  0.         0.125      0.         0.         0.         0.\n",
      "  0.         0.11111111]\n",
      " [0.         0.         0.         0.         0.         0.\n",
      "  0.         0.         0.         0.49047619 0.         0.16666667\n",
      "  0.         0.14285714 0.         0.         0.         0.2\n",
      "  0.         0.        ]\n",
      " [0.         0.         0.         0.         0.         0.\n",
      "  0.         0.         0.         0.         0.34761905 0.\n",
      "  0.         0.         0.2        0.16666667 0.14285714 0.\n",
      "  0.14285714 0.        ]\n",
      " [0.         0.         0.         0.         0.         0.\n",
      "  0.         0.         0.125      0.16666667 0.         0.23214286\n",
      "  0.         0.         0.16666667 0.         0.14285714 0.16666667\n",
      "  0.         0.        ]\n",
      " [0.         0.         0.         0.         0.         0.\n",
      "  0.         0.         0.         0.         0.         0.\n",
      "  0.54761905 0.14285714 0.         0.16666667 0.         0.\n",
      "  0.14285714 0.        ]\n",
      " [0.         0.         0.         0.         0.         0.\n",
      "  0.         0.         0.125      0.14285714 0.         0.\n",
      "  0.14285714 0.16071429 0.         0.         0.14285714 0.14285714\n",
      "  0.14285714 0.        ]\n",
      " [0.         0.         0.         0.         0.         0.\n",
      "  0.         0.         0.         0.         0.2        0.16666667\n",
      "  0.         0.         0.34761905 0.         0.14285714 0.\n",
      "  0.14285714 0.        ]\n",
      " [0.         0.         0.         0.         0.         0.\n",
      "  0.         0.         0.         0.         0.16666667 0.\n",
      "  0.16666667 0.         0.         0.21428571 0.14285714 0.16666667\n",
      "  0.14285714 0.        ]\n",
      " [0.         0.         0.         0.         0.         0.\n",
      "  0.         0.         0.         0.         0.14285714 0.14285714\n",
      "  0.         0.14285714 0.14285714 0.14285714 0.14285714 0.\n",
      "  0.14285714 0.        ]\n",
      " [0.         0.         0.         0.         0.         0.\n",
      "  0.         0.         0.         0.2        0.         0.16666667\n",
      "  0.         0.14285714 0.         0.16666667 0.         0.32380952\n",
      "  0.         0.        ]\n",
      " [0.         0.         0.         0.         0.         0.\n",
      "  0.         0.         0.         0.         0.14285714 0.\n",
      "  0.14285714 0.14285714 0.14285714 0.14285714 0.14285714 0.\n",
      "  0.14285714 0.        ]\n",
      " [0.11111111 0.11111111 0.11111111 0.11111111 0.11111111 0.11111111\n",
      "  0.         0.11111111 0.11111111 0.         0.         0.\n",
      "  0.         0.         0.         0.         0.         0.\n",
      "  0.         0.11111111]]\n"
     ]
    }
   ],
   "source": [
    "# Metropolis weights \n",
    "number_nodes = G.number_of_nodes()\n",
    "weights = np.zeros([number_nodes, number_nodes])\n",
    "for edge in G.edges():\n",
    "  i, j = edge[0], edge[1]\n",
    "  weights[i - 1][j - 1] = 1 / (1 + np.max([G.degree(i), G.degree(j)]))\n",
    "  weights[j - 1][i - 1] = weights[i - 1][j - 1]\n",
    "\n",
    "print(weights)\n",
    "\n",
    "weights = weights + np.diag(1 - np.sum(weights, axis=0))\n",
    "\n",
    "metropolis_weights = weights\n",
    "print(metropolis_weights)\n"
   ]
  },
  {
   "cell_type": "code",
   "execution_count": 4,
   "id": "654ab72f",
   "metadata": {},
   "outputs": [],
   "source": [
    "def load_dataset():\n",
    "    transforms_mnist = transforms.Compose([transforms.ToTensor(), transforms.Normalize((0.1307,),(0.3081,))])\n",
    "    mnist_data_train = datasets.MNIST('./data/mnist', train=True, download=True, transform=transforms_mnist)\n",
    "    mnist_data_test = datasets.MNIST('./data/mnist', train=False, download=True, transform=transforms_mnist)\n",
    "\n",
    "    return mnist_data_train, mnist_data_test"
   ]
  },
  {
   "cell_type": "code",
   "execution_count": 5,
   "id": "26f67564",
   "metadata": {},
   "outputs": [],
   "source": [
    "def degrees(A):\n",
    "    \"\"\"Return the degrees of each node of a graph from its adjacency matrix\"\"\"\n",
    "    return np.sum(A, axis=0).reshape(A.shape[0], 1)\n",
    "\n",
    "def node_degree(n, G):\n",
    "    cnt = 0\n",
    "    for i in G.neighbors(n):\n",
    "        cnt += 1\n",
    "    return cnt\n",
    "\n",
    "def get_neighbors(n, G):\n",
    "    neighbors_list = []\n",
    "    for i in G.neighbors(n):\n",
    "        neighbors_list.append(int(i))\n",
    "    return neighbors_list"
   ]
  },
  {
   "cell_type": "code",
   "execution_count": 6,
   "id": "dbc31eff",
   "metadata": {},
   "outputs": [],
   "source": [
    "datapoints = {}\n",
    "count = 0\n",
    "W1 = np.array([2.0, 2.0])\n",
    "W2 = np.array([-2.0, 2.0])\n",
    "W = [W1, W2]\n",
    "m = 200\n",
    "n = 2\n",
    "noise_sd = 0.001\n",
    "for i, cluster_size in enumerate(cluster_sizes):\n",
    "    for j in range(cluster_size):\n",
    "        features = np.random.normal(loc=0.0, scale=1.0, size=(m, n))\n",
    "        label = np.dot(features, W[i]) + np.random.normal(0,noise_sd)\n",
    "        datapoints[count] = {\n",
    "                'features': features,\n",
    "                'degree': node_degree(count, G),\n",
    "                'label': label,\n",
    "                'neighbors': get_neighbors(count, G),\n",
    "                'exact_weights': torch.from_numpy(W[i])\n",
    "            }\n",
    "        count += 1"
   ]
  },
  {
   "cell_type": "code",
   "execution_count": 7,
   "id": "3c2530b1",
   "metadata": {},
   "outputs": [],
   "source": [
    "class MyDataset(Dataset):\n",
    "    def __init__(self, data, targets, transform=None):\n",
    "        self.data = torch.FloatTensor(data)\n",
    "        self.targets = torch.FloatTensor(targets).unsqueeze(-1)\n",
    "        \n",
    "    def __getitem__(self, index):\n",
    "        x = self.data[index]\n",
    "        y = self.targets[index]\n",
    "\n",
    "        return x, y\n",
    "    \n",
    "    def __len__(self):\n",
    "        return len(self.data)\n"
   ]
  },
  {
   "cell_type": "code",
   "execution_count": 8,
   "id": "1d84bf7c",
   "metadata": {},
   "outputs": [],
   "source": [
    "class MLP_Net(nn.Module):\n",
    "    def __init__(self, user_id):\n",
    "        super(MLP_Net, self).__init__()\n",
    "        self.fc1 = nn.Linear(2, 1, bias=False)\n",
    "        #self.fc2 = nn.Linear(4, 1, bias=False)\n",
    "        #self.fc3 = nn.Linear(200, 10)\n",
    "        self.user_id = user_id\n",
    "\n",
    "    def forward(self, x):\n",
    "        x = torch.flatten(x, 1)\n",
    "        #x = F.relu(self.fc1(x))\n",
    "        output = self.fc1(x)\n",
    "        #output = self.fc3(x)\n",
    "        return output"
   ]
  },
  {
   "cell_type": "code",
   "execution_count": 9,
   "id": "f93f4bbc",
   "metadata": {},
   "outputs": [],
   "source": [
    "from typing import Iterable, Optional\n",
    "\n",
    "def grads_to_vector(parameters: Iterable[torch.Tensor]) -> torch.Tensor:\n",
    "    r\"\"\"Convert parameters to one vector\n",
    "\n",
    "    Args:\n",
    "        parameters (Iterable[Tensor]): an iterator of Tensors that are the\n",
    "            parameters of a model.\n",
    "\n",
    "    Returns:\n",
    "        The parameters represented by a single vector\n",
    "    \"\"\"\n",
    "    # Flag for the device where the parameter is located\n",
    "    param_device = None\n",
    "\n",
    "    vec = []\n",
    "    for param in parameters:\n",
    "        # Ensure the parameters are located in the same device\n",
    "        param_device = param.grad\n",
    "\n",
    "        vec.append(param_device.view(-1))\n",
    "    return torch.cat(vec)"
   ]
  },
  {
   "cell_type": "code",
   "execution_count": 10,
   "id": "9cd3a679",
   "metadata": {},
   "outputs": [
    {
     "name": "stdout",
     "output_type": "stream",
     "text": [
      "torch.Size([50, 1])\n",
      "torch.Size([50, 1])\n",
      "0 tensor(10.0853, grad_fn=<MseLossBackward0>) tensor([ 4.2892, -4.2840]) tensor([ 0.5111, -0.1943], grad_fn=<CatBackward0>)\n",
      "torch.Size([50, 1])\n",
      "torch.Size([50, 1])\n",
      "0 tensor(12.2048, grad_fn=<MseLossBackward0>) tensor([ 6.5189, -3.8671]) tensor([ 0.4682, -0.1514], grad_fn=<CatBackward0>)\n",
      "torch.Size([50, 1])\n",
      "torch.Size([50, 1])\n",
      "0 tensor(7.2678, grad_fn=<MseLossBackward0>) tensor([ 3.8602, -2.4888]) tensor([ 0.4030, -0.1128], grad_fn=<CatBackward0>)\n",
      "torch.Size([50, 1])\n",
      "torch.Size([50, 1])\n",
      "0 tensor(7.3562, grad_fn=<MseLossBackward0>) tensor([ 3.9552, -2.5681]) tensor([ 0.3644, -0.0879], grad_fn=<CatBackward0>)\n",
      "torch.Size([50, 1])\n",
      "torch.Size([50, 1])\n",
      "1 tensor(8.7673, grad_fn=<MseLossBackward0>) tensor([ 3.9711, -4.0262]) tensor([ 0.3248, -0.0622], grad_fn=<CatBackward0>)\n",
      "torch.Size([50, 1])\n",
      "torch.Size([50, 1])\n",
      "1 tensor(10.5703, grad_fn=<MseLossBackward0>) tensor([ 6.0182, -3.6542]) tensor([ 0.2851, -0.0219], grad_fn=<CatBackward0>)\n",
      "torch.Size([50, 1])\n",
      "torch.Size([50, 1])\n",
      "1 tensor(6.2987, grad_fn=<MseLossBackward0>) tensor([ 3.5606, -2.3543]) tensor([0.2249, 0.0146], grad_fn=<CatBackward0>)\n",
      "torch.Size([50, 1])\n",
      "torch.Size([50, 1])\n",
      "1 tensor(6.3756, grad_fn=<MseLossBackward0>) tensor([ 3.6645, -2.4106]) tensor([0.1893, 0.0382], grad_fn=<CatBackward0>)\n",
      "torch.Size([50, 1])\n",
      "torch.Size([50, 1])\n",
      "2 tensor(7.6231, grad_fn=<MseLossBackward0>) tensor([ 3.6770, -3.7833]) tensor([0.1527, 0.0623], grad_fn=<CatBackward0>)\n",
      "torch.Size([50, 1])\n",
      "torch.Size([50, 1])\n",
      "2 tensor(9.1575, grad_fn=<MseLossBackward0>) tensor([ 5.5566, -3.4516]) tensor([0.1159, 0.1001], grad_fn=<CatBackward0>)\n",
      "torch.Size([50, 1])\n",
      "torch.Size([50, 1])\n",
      "2 tensor(5.4606, grad_fn=<MseLossBackward0>) tensor([ 3.2847, -2.2260]) tensor([0.0604, 0.1346], grad_fn=<CatBackward0>)\n",
      "torch.Size([50, 1])\n",
      "torch.Size([50, 1])\n",
      "2 tensor(5.5270, grad_fn=<MseLossBackward0>) tensor([ 3.3956, -2.2626]) tensor([0.0275, 0.1569], grad_fn=<CatBackward0>)\n",
      "torch.Size([50, 1])\n",
      "torch.Size([50, 1])\n",
      "3 tensor(6.6295, grad_fn=<MseLossBackward0>) tensor([ 3.4051, -3.5545]) tensor([-0.0064,  0.1795], grad_fn=<CatBackward0>)\n",
      "torch.Size([50, 1])\n",
      "torch.Size([50, 1])\n",
      "3 tensor(7.9359, grad_fn=<MseLossBackward0>) tensor([ 5.1312, -3.2591]) tensor([-0.0405,  0.2151], grad_fn=<CatBackward0>)\n",
      "torch.Size([50, 1])\n",
      "torch.Size([50, 1])\n",
      "3 tensor(4.7354, grad_fn=<MseLossBackward0>) tensor([ 3.0306, -2.1039]) tensor([-0.0918,  0.2476], grad_fn=<CatBackward0>)\n",
      "torch.Size([50, 1])\n",
      "torch.Size([50, 1])\n",
      "3 tensor(4.7923, grad_fn=<MseLossBackward0>) tensor([ 3.1468, -2.1233]) tensor([-0.1221,  0.2687], grad_fn=<CatBackward0>)\n",
      "torch.Size([50, 1])\n",
      "torch.Size([50, 1])\n",
      "4 tensor(5.7664, grad_fn=<MseLossBackward0>) tensor([ 3.1537, -3.3389]) tensor([-0.1536,  0.2899], grad_fn=<CatBackward0>)\n",
      "torch.Size([50, 1])\n",
      "torch.Size([50, 1])\n",
      "4 tensor(6.8793, grad_fn=<MseLossBackward0>) tensor([ 4.7390, -3.0763]) tensor([-0.1851,  0.3233], grad_fn=<CatBackward0>)\n",
      "torch.Size([50, 1])\n",
      "torch.Size([50, 1])\n",
      "4 tensor(4.1077, grad_fn=<MseLossBackward0>) tensor([ 2.7965, -1.9878]) tensor([-0.2325,  0.3541], grad_fn=<CatBackward0>)\n",
      "torch.Size([50, 1])\n",
      "torch.Size([50, 1])\n",
      "4 tensor(4.1562, grad_fn=<MseLossBackward0>) tensor([ 2.9166, -1.9924]) tensor([-0.2605,  0.3739], grad_fn=<CatBackward0>)\n",
      "torch.Size([50, 1])\n",
      "torch.Size([50, 1])\n",
      "5 tensor(5.0166, grad_fn=<MseLossBackward0>) tensor([ 2.9213, -3.1360]) tensor([-0.2896,  0.3939], grad_fn=<CatBackward0>)\n",
      "torch.Size([50, 1])\n",
      "torch.Size([50, 1])\n",
      "5 tensor(5.9650, grad_fn=<MseLossBackward0>) tensor([ 4.3773, -2.9028]) tensor([-0.3188,  0.4252], grad_fn=<CatBackward0>)\n",
      "torch.Size([50, 1])\n",
      "torch.Size([50, 1])\n",
      "5 tensor(3.5643, grad_fn=<MseLossBackward0>) tensor([ 2.5808, -1.8773]) tensor([-0.3626,  0.4543], grad_fn=<CatBackward0>)\n",
      "torch.Size([50, 1])\n",
      "torch.Size([50, 1])\n",
      "5 tensor(3.6054, grad_fn=<MseLossBackward0>) tensor([ 2.7036, -1.8693]) tensor([-0.3884,  0.4730], grad_fn=<CatBackward0>)\n",
      "torch.Size([50, 1])\n",
      "torch.Size([50, 1])\n",
      "6 tensor(4.3650, grad_fn=<MseLossBackward0>) tensor([ 2.7063, -2.9450]) tensor([-0.4155,  0.4917], grad_fn=<CatBackward0>)\n",
      "torch.Size([50, 1])\n",
      "torch.Size([50, 1])\n",
      "6 tensor(5.1736, grad_fn=<MseLossBackward0>) tensor([ 4.0438, -2.7381]) tensor([-0.4425,  0.5212], grad_fn=<CatBackward0>)\n",
      "torch.Size([50, 1])\n",
      "torch.Size([50, 1])\n",
      "6 tensor(3.0936, grad_fn=<MseLossBackward0>) tensor([ 2.3822, -1.7723]) tensor([-0.4830,  0.5486], grad_fn=<CatBackward0>)\n",
      "torch.Size([50, 1])\n",
      "torch.Size([50, 1])\n",
      "6 tensor(3.1281, grad_fn=<MseLossBackward0>) tensor([ 2.5064, -1.7537]) tensor([-0.5068,  0.5663], grad_fn=<CatBackward0>)\n",
      "torch.Size([50, 1])\n",
      "torch.Size([50, 1])\n",
      "7 tensor(3.7986, grad_fn=<MseLossBackward0>) tensor([ 2.5075, -2.7652]) tensor([-0.5319,  0.5838], grad_fn=<CatBackward0>)\n",
      "torch.Size([50, 1])\n",
      "torch.Size([50, 1])\n",
      "7 tensor(4.4884, grad_fn=<MseLossBackward0>) tensor([ 3.7363, -2.5821]) tensor([-0.5569,  0.6115], grad_fn=<CatBackward0>)\n",
      "torch.Size([50, 1])\n",
      "torch.Size([50, 1])\n",
      "7 tensor(2.6857, grad_fn=<MseLossBackward0>) tensor([ 2.1991, -1.6727]) tensor([-0.5943,  0.6373], grad_fn=<CatBackward0>)\n",
      "torch.Size([50, 1])\n",
      "torch.Size([50, 1])\n",
      "7 tensor(2.7146, grad_fn=<MseLossBackward0>) tensor([ 2.3239, -1.6450]) tensor([-0.6163,  0.6540], grad_fn=<CatBackward0>)\n",
      "torch.Size([50, 1])\n",
      "torch.Size([50, 1])\n",
      "8 tensor(3.3063, grad_fn=<MseLossBackward0>) tensor([ 2.3236, -2.5960]) tensor([-0.6395,  0.6705], grad_fn=<CatBackward0>)\n",
      "torch.Size([50, 1])\n",
      "torch.Size([50, 1])\n",
      "8 tensor(3.8950, grad_fn=<MseLossBackward0>) tensor([ 3.4526, -2.4342]) tensor([-0.6628,  0.6964], grad_fn=<CatBackward0>)\n",
      "torch.Size([50, 1])\n",
      "torch.Size([50, 1])\n",
      "8 tensor(2.3322, grad_fn=<MseLossBackward0>) tensor([ 2.0303, -1.5781]) tensor([-0.6973,  0.7208], grad_fn=<CatBackward0>)\n",
      "torch.Size([50, 1])\n",
      "torch.Size([50, 1])\n",
      "8 tensor(2.3562, grad_fn=<MseLossBackward0>) tensor([ 2.1549, -1.5429]) tensor([-0.7176,  0.7365], grad_fn=<CatBackward0>)\n",
      "torch.Size([50, 1])\n",
      "torch.Size([50, 1])\n",
      "9 tensor(2.8782, grad_fn=<MseLossBackward0>) tensor([ 2.1534, -2.4369]) tensor([-0.7391,  0.7520], grad_fn=<CatBackward0>)\n",
      "torch.Size([50, 1])\n",
      "torch.Size([50, 1])\n",
      "9 tensor(3.3808, grad_fn=<MseLossBackward0>) tensor([ 3.1908, -2.2941]) tensor([-0.7607,  0.7763], grad_fn=<CatBackward0>)\n",
      "torch.Size([50, 1])\n",
      "torch.Size([50, 1])\n",
      "9 tensor(2.0258, grad_fn=<MseLossBackward0>) tensor([ 1.8748, -1.4884]) tensor([-0.7926,  0.7993], grad_fn=<CatBackward0>)\n",
      "torch.Size([50, 1])\n",
      "torch.Size([50, 1])\n",
      "9 tensor(2.0454, grad_fn=<MseLossBackward0>) tensor([ 1.9985, -1.4470]) tensor([-0.8113,  0.8142], grad_fn=<CatBackward0>)\n",
      "torch.Size([50, 1])\n",
      "torch.Size([50, 1])\n",
      "10 tensor(2.5059, grad_fn=<MseLossBackward0>) tensor([ 1.9960, -2.2872]) tensor([-0.8313,  0.8286], grad_fn=<CatBackward0>)\n",
      "torch.Size([50, 1])\n",
      "torch.Size([50, 1])\n",
      "10 tensor(2.9352, grad_fn=<MseLossBackward0>) tensor([ 2.9493, -2.1615]) tensor([-0.8513,  0.8515], grad_fn=<CatBackward0>)\n",
      "torch.Size([50, 1])\n",
      "torch.Size([50, 1])\n",
      "10 tensor(1.7600, grad_fn=<MseLossBackward0>) tensor([ 1.7314, -1.4034]) tensor([-0.8808,  0.8731], grad_fn=<CatBackward0>)\n",
      "torch.Size([50, 1])\n",
      "torch.Size([50, 1])\n",
      "10 tensor(1.7760, grad_fn=<MseLossBackward0>) tensor([ 1.8537, -1.3569]) tensor([-0.8981,  0.8872], grad_fn=<CatBackward0>)\n",
      "torch.Size([50, 1])\n",
      "torch.Size([50, 1])\n",
      "11 tensor(2.1820, grad_fn=<MseLossBackward0>) tensor([ 1.8502, -2.1465]) tensor([-0.9166,  0.9007], grad_fn=<CatBackward0>)\n",
      "torch.Size([50, 1])\n",
      "torch.Size([50, 1])\n",
      "11 tensor(2.5489, grad_fn=<MseLossBackward0>) tensor([ 2.7265, -2.0360]) tensor([-0.9351,  0.9222], grad_fn=<CatBackward0>)\n",
      "torch.Size([50, 1])\n",
      "torch.Size([50, 1])\n",
      "11 tensor(1.5294, grad_fn=<MseLossBackward0>) tensor([ 1.5993, -1.3229]) tensor([-0.9624,  0.9426], grad_fn=<CatBackward0>)\n",
      "torch.Size([50, 1])\n",
      "torch.Size([50, 1])\n",
      "11 tensor(1.5424, grad_fn=<MseLossBackward0>) tensor([ 1.7195, -1.2723]) tensor([-0.9784,  0.9558], grad_fn=<CatBackward0>)\n",
      "torch.Size([50, 1])\n",
      "torch.Size([50, 1])\n",
      "12 tensor(1.9002, grad_fn=<MseLossBackward0>) tensor([ 1.7154, -2.0142]) tensor([-0.9956,  0.9685], grad_fn=<CatBackward0>)\n",
      "torch.Size([50, 1])\n",
      "torch.Size([50, 1])\n",
      "12 tensor(2.2139, grad_fn=<MseLossBackward0>) tensor([ 2.5209, -1.9173]) tensor([-1.0127,  0.9886], grad_fn=<CatBackward0>)\n",
      "torch.Size([50, 1])\n",
      "torch.Size([50, 1])\n",
      "12 tensor(1.3294, grad_fn=<MseLossBackward0>) tensor([ 1.4774, -1.2466]) tensor([-1.0379,  1.0078], grad_fn=<CatBackward0>)\n",
      "torch.Size([50, 1])\n",
      "torch.Size([50, 1])\n",
      "12 tensor(1.3397, grad_fn=<MseLossBackward0>) tensor([ 1.5952, -1.1928]) tensor([-1.0527,  1.0203], grad_fn=<CatBackward0>)\n",
      "torch.Size([50, 1])\n",
      "torch.Size([50, 1])\n",
      "13 tensor(1.6551, grad_fn=<MseLossBackward0>) tensor([ 1.5905, -1.8898]) tensor([-1.0687,  1.0322], grad_fn=<CatBackward0>)\n",
      "torch.Size([50, 1])\n",
      "torch.Size([50, 1])\n",
      "13 tensor(1.9234, grad_fn=<MseLossBackward0>) tensor([ 2.3310, -1.8052]) tensor([-1.0846,  1.0511], grad_fn=<CatBackward0>)\n",
      "torch.Size([50, 1])\n",
      "torch.Size([50, 1])\n",
      "13 tensor(1.1557, grad_fn=<MseLossBackward0>) tensor([ 1.3649, -1.1744]) tensor([-1.1079,  1.0692], grad_fn=<CatBackward0>)\n",
      "torch.Size([50, 1])\n",
      "torch.Size([50, 1])\n",
      "13 tensor(1.1638, grad_fn=<MseLossBackward0>) tensor([ 1.4801, -1.1182]) tensor([-1.1215,  1.0809], grad_fn=<CatBackward0>)\n",
      "torch.Size([50, 1])\n",
      "torch.Size([50, 1])\n",
      "14 tensor(1.4417, grad_fn=<MseLossBackward0>) tensor([ 1.4749, -1.7729]) tensor([-1.1363,  1.0921], grad_fn=<CatBackward0>)\n",
      "torch.Size([50, 1])\n",
      "torch.Size([50, 1])\n",
      "14 tensor(1.6713, grad_fn=<MseLossBackward0>) tensor([ 2.1558, -1.6992]) tensor([-1.1511,  1.1098], grad_fn=<CatBackward0>)\n",
      "torch.Size([50, 1])\n",
      "torch.Size([50, 1])\n",
      "14 tensor(1.0049, grad_fn=<MseLossBackward0>) tensor([ 1.2613, -1.1061]) tensor([-1.1726,  1.1268], grad_fn=<CatBackward0>)\n",
      "torch.Size([50, 1])\n",
      "torch.Size([50, 1])\n",
      "14 tensor(1.0112, grad_fn=<MseLossBackward0>) tensor([ 1.3735, -1.0482]) tensor([-1.1852,  1.1379], grad_fn=<CatBackward0>)\n",
      "torch.Size([50, 1])\n",
      "torch.Size([50, 1])\n",
      "15 tensor(1.2560, grad_fn=<MseLossBackward0>) tensor([ 1.3679, -1.6630]) tensor([-1.1990,  1.1484], grad_fn=<CatBackward0>)\n",
      "torch.Size([50, 1])\n",
      "torch.Size([50, 1])\n",
      "15 tensor(1.4525, grad_fn=<MseLossBackward0>) tensor([ 1.9940, -1.5990]) tensor([-1.2127,  1.1650], grad_fn=<CatBackward0>)\n",
      "torch.Size([50, 1])\n",
      "torch.Size([50, 1])\n",
      "15 tensor(0.8740, grad_fn=<MseLossBackward0>) tensor([ 1.1656, -1.0416]) tensor([-1.2326,  1.1810], grad_fn=<CatBackward0>)\n",
      "torch.Size([50, 1])\n",
      "torch.Size([50, 1])\n",
      "15 tensor(0.8787, grad_fn=<MseLossBackward0>) tensor([ 1.2747, -0.9825]) tensor([-1.2443,  1.1914], grad_fn=<CatBackward0>)\n",
      "torch.Size([50, 1])\n",
      "torch.Size([50, 1])\n",
      "16 tensor(1.0943, grad_fn=<MseLossBackward0>) tensor([ 1.2688, -1.5598]) tensor([-1.2570,  1.2012], grad_fn=<CatBackward0>)\n",
      "torch.Size([50, 1])\n",
      "torch.Size([50, 1])\n",
      "16 tensor(1.2627, grad_fn=<MseLossBackward0>) tensor([ 1.8446, -1.5044]) tensor([-1.2697,  1.2168], grad_fn=<CatBackward0>)\n",
      "torch.Size([50, 1])\n",
      "torch.Size([50, 1])\n"
     ]
    },
    {
     "name": "stdout",
     "output_type": "stream",
     "text": [
      "16 tensor(0.7603, grad_fn=<MseLossBackward0>) tensor([ 1.0774, -0.9806]) tensor([-1.2881,  1.2319], grad_fn=<CatBackward0>)\n",
      "torch.Size([50, 1])\n",
      "torch.Size([50, 1])\n",
      "16 tensor(0.7637, grad_fn=<MseLossBackward0>) tensor([ 1.1831, -0.9208]) tensor([-1.2989,  1.2417], grad_fn=<CatBackward0>)\n",
      "torch.Size([50, 1])\n",
      "torch.Size([50, 1])\n",
      "17 tensor(0.9535, grad_fn=<MseLossBackward0>) tensor([ 1.1770, -1.4629]) tensor([-1.3107,  1.2509], grad_fn=<CatBackward0>)\n",
      "torch.Size([50, 1])\n",
      "torch.Size([50, 1])\n",
      "17 tensor(1.0978, grad_fn=<MseLossBackward0>) tensor([ 1.7066, -1.4152]) tensor([-1.3225,  1.2655], grad_fn=<CatBackward0>)\n",
      "torch.Size([50, 1])\n",
      "torch.Size([50, 1])\n",
      "17 tensor(0.6615, grad_fn=<MseLossBackward0>) tensor([ 0.9959, -0.9229]) tensor([-1.3396,  1.2797], grad_fn=<CatBackward0>)\n",
      "torch.Size([50, 1])\n",
      "torch.Size([50, 1])\n",
      "17 tensor(0.6638, grad_fn=<MseLossBackward0>) tensor([ 1.0982, -0.8629]) tensor([-1.3495,  1.2889], grad_fn=<CatBackward0>)\n",
      "torch.Size([50, 1])\n",
      "torch.Size([50, 1])\n",
      "18 tensor(0.8310, grad_fn=<MseLossBackward0>) tensor([ 1.0920, -1.3718]) tensor([-1.3605,  1.2975], grad_fn=<CatBackward0>)\n",
      "torch.Size([50, 1])\n",
      "torch.Size([50, 1])\n",
      "18 tensor(0.9546, grad_fn=<MseLossBackward0>) tensor([ 1.5791, -1.3309]) tensor([-1.3714,  1.3112], grad_fn=<CatBackward0>)\n",
      "torch.Size([50, 1])\n",
      "torch.Size([50, 1])\n",
      "18 tensor(0.5756, grad_fn=<MseLossBackward0>) tensor([ 0.9208, -0.8684]) tensor([-1.3872,  1.3245], grad_fn=<CatBackward0>)\n",
      "torch.Size([50, 1])\n",
      "torch.Size([50, 1])\n",
      "18 tensor(0.5771, grad_fn=<MseLossBackward0>) tensor([ 1.0195, -0.8086]) tensor([-1.3964,  1.3332], grad_fn=<CatBackward0>)\n",
      "torch.Size([50, 1])\n",
      "torch.Size([50, 1])\n",
      "19 tensor(0.7242, grad_fn=<MseLossBackward0>) tensor([ 1.0132, -1.2863]) tensor([-1.4066,  1.3413], grad_fn=<CatBackward0>)\n",
      "torch.Size([50, 1])\n",
      "torch.Size([50, 1])\n",
      "19 tensor(0.8303, grad_fn=<MseLossBackward0>) tensor([ 1.4614, -1.2515]) tensor([-1.4168,  1.3542], grad_fn=<CatBackward0>)\n",
      "torch.Size([50, 1])\n",
      "torch.Size([50, 1])\n",
      "19 tensor(0.5010, grad_fn=<MseLossBackward0>) tensor([ 0.8514, -0.8170]) tensor([-1.4314,  1.3667], grad_fn=<CatBackward0>)\n",
      "torch.Size([50, 1])\n",
      "torch.Size([50, 1])\n",
      "19 tensor(0.5018, grad_fn=<MseLossBackward0>) tensor([ 0.9466, -0.7577]) tensor([-1.4399,  1.3749], grad_fn=<CatBackward0>)\n",
      "torch.Size([50, 1])\n",
      "torch.Size([50, 1])\n",
      "20 tensor(0.6312, grad_fn=<MseLossBackward0>) tensor([ 0.9403, -1.2060]) tensor([-1.4494,  1.3824], grad_fn=<CatBackward0>)\n",
      "torch.Size([50, 1])\n",
      "torch.Size([50, 1])\n",
      "20 tensor(0.7222, grad_fn=<MseLossBackward0>) tensor([ 1.3526, -1.1766]) tensor([-1.4588,  1.3945], grad_fn=<CatBackward0>)\n",
      "torch.Size([50, 1])\n",
      "torch.Size([50, 1])\n",
      "20 tensor(0.4361, grad_fn=<MseLossBackward0>) tensor([ 0.7874, -0.7685]) tensor([-1.4723,  1.4063], grad_fn=<CatBackward0>)\n",
      "torch.Size([50, 1])\n",
      "torch.Size([50, 1])\n",
      "20 tensor(0.4364, grad_fn=<MseLossBackward0>) tensor([ 0.8789, -0.7099]) tensor([-1.4802,  1.4139], grad_fn=<CatBackward0>)\n",
      "torch.Size([50, 1])\n",
      "torch.Size([50, 1])\n",
      "21 tensor(0.5502, grad_fn=<MseLossBackward0>) tensor([ 0.8726, -1.1306]) tensor([-1.4889,  1.4210], grad_fn=<CatBackward0>)\n",
      "torch.Size([50, 1])\n",
      "torch.Size([50, 1])\n",
      "21 tensor(0.6283, grad_fn=<MseLossBackward0>) tensor([ 1.2521, -1.1059]) tensor([-1.4977,  1.4323], grad_fn=<CatBackward0>)\n",
      "torch.Size([50, 1])\n",
      "torch.Size([50, 1])\n",
      "21 tensor(0.3796, grad_fn=<MseLossBackward0>) tensor([ 0.7283, -0.7227]) tensor([-1.5102,  1.4434], grad_fn=<CatBackward0>)\n",
      "torch.Size([50, 1])\n",
      "torch.Size([50, 1])\n",
      "21 tensor(0.3795, grad_fn=<MseLossBackward0>) tensor([ 0.8162, -0.6651]) tensor([-1.5175,  1.4506], grad_fn=<CatBackward0>)\n",
      "torch.Size([50, 1])\n",
      "torch.Size([50, 1])\n",
      "22 tensor(0.4797, grad_fn=<MseLossBackward0>) tensor([ 0.8100, -1.0598]) tensor([-1.5256,  1.4573], grad_fn=<CatBackward0>)\n",
      "torch.Size([50, 1])\n",
      "torch.Size([50, 1])\n",
      "22 tensor(0.5467, grad_fn=<MseLossBackward0>) tensor([ 1.1592, -1.0393]) tensor([-1.5337,  1.4679], grad_fn=<CatBackward0>)\n",
      "torch.Size([50, 1])\n",
      "torch.Size([50, 1])\n",
      "22 tensor(0.3306, grad_fn=<MseLossBackward0>) tensor([ 0.6737, -0.6795]) tensor([-1.5453,  1.4783], grad_fn=<CatBackward0>)\n",
      "torch.Size([50, 1])\n",
      "torch.Size([50, 1])\n",
      "22 tensor(0.3301, grad_fn=<MseLossBackward0>) tensor([ 0.7581, -0.6231]) tensor([-1.5521,  1.4851], grad_fn=<CatBackward0>)\n",
      "torch.Size([50, 1])\n",
      "torch.Size([50, 1])\n",
      "23 tensor(0.4182, grad_fn=<MseLossBackward0>) tensor([ 0.7519, -0.9934]) tensor([-1.5597,  1.4913], grad_fn=<CatBackward0>)\n",
      "torch.Size([50, 1])\n",
      "torch.Size([50, 1])\n",
      "23 tensor(0.4758, grad_fn=<MseLossBackward0>) tensor([ 1.0734, -0.9766]) tensor([-1.5672,  1.5012], grad_fn=<CatBackward0>)\n",
      "torch.Size([50, 1])\n",
      "torch.Size([50, 1])\n",
      "23 tensor(0.2879, grad_fn=<MseLossBackward0>) tensor([ 0.6233, -0.6388]) tensor([-1.5779,  1.5110], grad_fn=<CatBackward0>)\n",
      "torch.Size([50, 1])\n",
      "torch.Size([50, 1])\n",
      "23 tensor(0.2871, grad_fn=<MseLossBackward0>) tensor([ 0.7041, -0.5836]) tensor([-1.5841,  1.5174], grad_fn=<CatBackward0>)\n",
      "torch.Size([50, 1])\n",
      "torch.Size([50, 1])\n",
      "24 tensor(0.3646, grad_fn=<MseLossBackward0>) tensor([ 0.6980, -0.9311]) tensor([-1.5912,  1.5232], grad_fn=<CatBackward0>)\n",
      "torch.Size([50, 1])\n",
      "torch.Size([50, 1])\n",
      "24 tensor(0.4141, grad_fn=<MseLossBackward0>) tensor([ 0.9940, -0.9175]) tensor([-1.5982,  1.5325], grad_fn=<CatBackward0>)\n",
      "torch.Size([50, 1])\n",
      "torch.Size([50, 1])\n",
      "24 tensor(0.2507, grad_fn=<MseLossBackward0>) tensor([ 0.5767, -0.6004]) tensor([-1.6081,  1.5417], grad_fn=<CatBackward0>)\n",
      "torch.Size([50, 1])\n",
      "torch.Size([50, 1])\n",
      "24 tensor(0.2498, grad_fn=<MseLossBackward0>) tensor([ 0.6541, -0.5467]) tensor([-1.6139,  1.5477], grad_fn=<CatBackward0>)\n",
      "torch.Size([50, 1])\n",
      "torch.Size([50, 1])\n",
      "25 tensor(0.3179, grad_fn=<MseLossBackward0>) tensor([ 0.6481, -0.8726]) tensor([-1.6204,  1.5532], grad_fn=<CatBackward0>)\n",
      "torch.Size([50, 1])\n",
      "torch.Size([50, 1])\n",
      "25 tensor(0.3605, grad_fn=<MseLossBackward0>) tensor([ 0.9206, -0.8618]) tensor([-1.6269,  1.5619], grad_fn=<CatBackward0>)\n",
      "torch.Size([50, 1])\n",
      "torch.Size([50, 1])\n",
      "25 tensor(0.2184, grad_fn=<MseLossBackward0>) tensor([ 0.5337, -0.5643]) tensor([-1.6361,  1.5705], grad_fn=<CatBackward0>)\n",
      "torch.Size([50, 1])\n",
      "torch.Size([50, 1])\n",
      "25 tensor(0.2174, grad_fn=<MseLossBackward0>) tensor([ 0.6077, -0.5120]) tensor([-1.6414,  1.5762], grad_fn=<CatBackward0>)\n",
      "torch.Size([50, 1])\n",
      "torch.Size([50, 1])\n",
      "26 tensor(0.2772, grad_fn=<MseLossBackward0>) tensor([ 0.6018, -0.8177]) tensor([-1.6475,  1.5813], grad_fn=<CatBackward0>)\n",
      "torch.Size([50, 1])\n",
      "torch.Size([50, 1])\n",
      "26 tensor(0.3139, grad_fn=<MseLossBackward0>) tensor([ 0.8527, -0.8094]) tensor([-1.6535,  1.5895], grad_fn=<CatBackward0>)\n",
      "torch.Size([50, 1])\n",
      "torch.Size([50, 1])\n",
      "26 tensor(0.1903, grad_fn=<MseLossBackward0>) tensor([ 0.4940, -0.5302]) tensor([-1.6621,  1.5976], grad_fn=<CatBackward0>)\n",
      "torch.Size([50, 1])\n",
      "torch.Size([50, 1])\n",
      "26 tensor(0.1891, grad_fn=<MseLossBackward0>) tensor([ 0.5646, -0.4795]) tensor([-1.6670,  1.6029], grad_fn=<CatBackward0>)\n",
      "torch.Size([50, 1])\n",
      "torch.Size([50, 1])\n",
      "27 tensor(0.2418, grad_fn=<MseLossBackward0>) tensor([ 0.5589, -0.7662]) tensor([-1.6726,  1.6077], grad_fn=<CatBackward0>)\n",
      "torch.Size([50, 1])\n",
      "torch.Size([50, 1])\n",
      "27 tensor(0.2733, grad_fn=<MseLossBackward0>) tensor([ 0.7900, -0.7601]) tensor([-1.6782,  1.6153], grad_fn=<CatBackward0>)\n",
      "torch.Size([50, 1])\n",
      "torch.Size([50, 1])\n",
      "27 tensor(0.1658, grad_fn=<MseLossBackward0>) tensor([ 0.4573, -0.4981]) tensor([-1.6861,  1.6229], grad_fn=<CatBackward0>)\n",
      "torch.Size([50, 1])\n",
      "torch.Size([50, 1])\n",
      "27 tensor(0.1646, grad_fn=<MseLossBackward0>) tensor([ 0.5246, -0.4491]) tensor([-1.6907,  1.6279], grad_fn=<CatBackward0>)\n",
      "torch.Size([50, 1])\n",
      "torch.Size([50, 1])\n",
      "28 tensor(0.2108, grad_fn=<MseLossBackward0>) tensor([ 0.5191, -0.7179]) tensor([-1.6959,  1.6324], grad_fn=<CatBackward0>)\n",
      "torch.Size([50, 1])\n",
      "torch.Size([50, 1])\n",
      "28 tensor(0.2380, grad_fn=<MseLossBackward0>) tensor([ 0.7319, -0.7137]) tensor([-1.7011,  1.6396], grad_fn=<CatBackward0>)\n",
      "torch.Size([50, 1])\n",
      "torch.Size([50, 1])\n",
      "28 tensor(0.1445, grad_fn=<MseLossBackward0>) tensor([ 0.4233, -0.4679]) tensor([-1.7085,  1.6467], grad_fn=<CatBackward0>)\n",
      "torch.Size([50, 1])\n",
      "torch.Size([50, 1])\n",
      "28 tensor(0.1433, grad_fn=<MseLossBackward0>) tensor([ 0.4876, -0.4205]) tensor([-1.7127,  1.6514], grad_fn=<CatBackward0>)\n",
      "torch.Size([50, 1])\n",
      "torch.Size([50, 1])\n",
      "29 tensor(0.1839, grad_fn=<MseLossBackward0>) tensor([ 0.4822, -0.6726]) tensor([-1.7176,  1.6556], grad_fn=<CatBackward0>)\n",
      "torch.Size([50, 1])\n",
      "torch.Size([50, 1])\n",
      "29 tensor(0.2072, grad_fn=<MseLossBackward0>) tensor([ 0.6782, -0.6700]) tensor([-1.7224,  1.6623], grad_fn=<CatBackward0>)\n",
      "torch.Size([50, 1])\n",
      "torch.Size([50, 1])\n",
      "29 tensor(0.1259, grad_fn=<MseLossBackward0>) tensor([ 0.3920, -0.4394]) tensor([-1.7292,  1.6690], grad_fn=<CatBackward0>)\n",
      "torch.Size([50, 1])\n",
      "torch.Size([50, 1])\n",
      "29 tensor(0.1247, grad_fn=<MseLossBackward0>) tensor([ 0.4531, -0.3938]) tensor([-1.7331,  1.6734], grad_fn=<CatBackward0>)\n",
      "torch.Size([50, 1])\n",
      "torch.Size([50, 1])\n",
      "30 tensor(0.1604, grad_fn=<MseLossBackward0>) tensor([ 0.4479, -0.6301]) tensor([-1.7376,  1.6774], grad_fn=<CatBackward0>)\n",
      "torch.Size([50, 1])\n",
      "torch.Size([50, 1])\n",
      "30 tensor(0.1805, grad_fn=<MseLossBackward0>) tensor([ 0.6286, -0.6289]) tensor([-1.7421,  1.6837], grad_fn=<CatBackward0>)\n",
      "torch.Size([50, 1])\n",
      "torch.Size([50, 1])\n",
      "30 tensor(0.1097, grad_fn=<MseLossBackward0>) tensor([ 0.3630, -0.4126]) tensor([-1.7484,  1.6899], grad_fn=<CatBackward0>)\n",
      "torch.Size([50, 1])\n",
      "torch.Size([50, 1])\n"
     ]
    },
    {
     "name": "stdout",
     "output_type": "stream",
     "text": [
      "30 tensor(0.1086, grad_fn=<MseLossBackward0>) tensor([ 0.4212, -0.3687]) tensor([-1.7520,  1.6941], grad_fn=<CatBackward0>)\n",
      "torch.Size([50, 1])\n",
      "torch.Size([50, 1])\n",
      "31 tensor(0.1399, grad_fn=<MseLossBackward0>) tensor([ 0.4162, -0.5903]) tensor([-1.7562,  1.6978], grad_fn=<CatBackward0>)\n",
      "torch.Size([50, 1])\n",
      "torch.Size([50, 1])\n",
      "31 tensor(0.1572, grad_fn=<MseLossBackward0>) tensor([ 0.5826, -0.5903]) tensor([-1.7604,  1.7037], grad_fn=<CatBackward0>)\n",
      "torch.Size([50, 1])\n",
      "torch.Size([50, 1])\n",
      "31 tensor(0.0956, grad_fn=<MseLossBackward0>) tensor([ 0.3362, -0.3874]) tensor([-1.7662,  1.7096], grad_fn=<CatBackward0>)\n",
      "torch.Size([50, 1])\n",
      "torch.Size([50, 1])\n",
      "31 tensor(0.0945, grad_fn=<MseLossBackward0>) tensor([ 0.3915, -0.3452]) tensor([-1.7696,  1.7134], grad_fn=<CatBackward0>)\n",
      "torch.Size([50, 1])\n",
      "torch.Size([50, 1])\n",
      "32 tensor(0.1220, grad_fn=<MseLossBackward0>) tensor([ 0.3867, -0.5529]) tensor([-1.7735,  1.7169], grad_fn=<CatBackward0>)\n",
      "torch.Size([50, 1])\n",
      "torch.Size([50, 1])\n",
      "32 tensor(0.1370, grad_fn=<MseLossBackward0>) tensor([ 0.5401, -0.5539]) tensor([-1.7774,  1.7224], grad_fn=<CatBackward0>)\n",
      "torch.Size([50, 1])\n",
      "torch.Size([50, 1])\n",
      "32 tensor(0.0834, grad_fn=<MseLossBackward0>) tensor([ 0.3114, -0.3637]) tensor([-1.7828,  1.7280], grad_fn=<CatBackward0>)\n",
      "torch.Size([50, 1])\n",
      "torch.Size([50, 1])\n",
      "32 tensor(0.0823, grad_fn=<MseLossBackward0>) tensor([ 0.3640, -0.3232]) tensor([-1.7859,  1.7316], grad_fn=<CatBackward0>)\n",
      "torch.Size([50, 1])\n",
      "torch.Size([50, 1])\n",
      "33 tensor(0.1065, grad_fn=<MseLossBackward0>) tensor([ 0.3593, -0.5179]) tensor([-1.7895,  1.7348], grad_fn=<CatBackward0>)\n",
      "torch.Size([50, 1])\n",
      "torch.Size([50, 1])\n",
      "33 tensor(0.1194, grad_fn=<MseLossBackward0>) tensor([ 0.5007, -0.5198]) tensor([-1.7931,  1.7400], grad_fn=<CatBackward0>)\n",
      "torch.Size([50, 1])\n",
      "torch.Size([50, 1])\n",
      "33 tensor(0.0727, grad_fn=<MseLossBackward0>) tensor([ 0.2885, -0.3414]) tensor([-1.7981,  1.7452], grad_fn=<CatBackward0>)\n",
      "torch.Size([50, 1])\n",
      "torch.Size([50, 1])\n",
      "33 tensor(0.0716, grad_fn=<MseLossBackward0>) tensor([ 0.3384, -0.3026]) tensor([-1.8010,  1.7486], grad_fn=<CatBackward0>)\n",
      "torch.Size([50, 1])\n",
      "torch.Size([50, 1])\n",
      "34 tensor(0.0929, grad_fn=<MseLossBackward0>) tensor([ 0.3339, -0.4850]) tensor([-1.8044,  1.7516], grad_fn=<CatBackward0>)\n",
      "torch.Size([50, 1])\n",
      "torch.Size([50, 1])\n",
      "34 tensor(0.1040, grad_fn=<MseLossBackward0>) tensor([ 0.4643, -0.4877]) tensor([-1.8077,  1.7565], grad_fn=<CatBackward0>)\n",
      "torch.Size([50, 1])\n",
      "torch.Size([50, 1])\n",
      "34 tensor(0.0634, grad_fn=<MseLossBackward0>) tensor([ 0.2673, -0.3204]) tensor([-1.8124,  1.7614], grad_fn=<CatBackward0>)\n",
      "torch.Size([50, 1])\n",
      "torch.Size([50, 1])\n",
      "34 tensor(0.0624, grad_fn=<MseLossBackward0>) tensor([ 0.3146, -0.2832]) tensor([-1.8150,  1.7646], grad_fn=<CatBackward0>)\n",
      "torch.Size([50, 1])\n",
      "torch.Size([50, 1])\n",
      "35 tensor(0.0810, grad_fn=<MseLossBackward0>) tensor([ 0.3103, -0.4542]) tensor([-1.8182,  1.7674], grad_fn=<CatBackward0>)\n",
      "torch.Size([50, 1])\n",
      "torch.Size([50, 1])\n",
      "35 tensor(0.0906, grad_fn=<MseLossBackward0>) tensor([ 0.4305, -0.4575]) tensor([-1.8213,  1.7719], grad_fn=<CatBackward0>)\n",
      "torch.Size([50, 1])\n",
      "torch.Size([50, 1])\n",
      "35 tensor(0.0553, grad_fn=<MseLossBackward0>) tensor([ 0.2477, -0.3007]) tensor([-1.8256,  1.7765], grad_fn=<CatBackward0>)\n",
      "torch.Size([50, 1])\n",
      "torch.Size([50, 1])\n",
      "35 tensor(0.0543, grad_fn=<MseLossBackward0>) tensor([ 0.2926, -0.2651]) tensor([-1.8281,  1.7795], grad_fn=<CatBackward0>)\n",
      "torch.Size([50, 1])\n",
      "torch.Size([50, 1])\n",
      "36 tensor(0.0707, grad_fn=<MseLossBackward0>) tensor([ 0.2885, -0.4254]) tensor([-1.8310,  1.7822], grad_fn=<CatBackward0>)\n",
      "torch.Size([50, 1])\n",
      "torch.Size([50, 1])\n",
      "36 tensor(0.0790, grad_fn=<MseLossBackward0>) tensor([ 0.3993, -0.4291]) tensor([-1.8339,  1.7864], grad_fn=<CatBackward0>)\n",
      "torch.Size([50, 1])\n",
      "torch.Size([50, 1])\n",
      "36 tensor(0.0482, grad_fn=<MseLossBackward0>) tensor([ 0.2296, -0.2822]) tensor([-1.8379,  1.7907], grad_fn=<CatBackward0>)\n",
      "torch.Size([50, 1])\n",
      "torch.Size([50, 1])\n",
      "36 tensor(0.0473, grad_fn=<MseLossBackward0>) tensor([ 0.2721, -0.2482]) tensor([-1.8402,  1.7935], grad_fn=<CatBackward0>)\n",
      "torch.Size([50, 1])\n",
      "torch.Size([50, 1])\n",
      "37 tensor(0.0617, grad_fn=<MseLossBackward0>) tensor([ 0.2682, -0.3983]) tensor([-1.8429,  1.7960], grad_fn=<CatBackward0>)\n",
      "torch.Size([50, 1])\n",
      "torch.Size([50, 1])\n",
      "37 tensor(0.0688, grad_fn=<MseLossBackward0>) tensor([ 0.3703, -0.4025]) tensor([-1.8456,  1.8000], grad_fn=<CatBackward0>)\n",
      "torch.Size([50, 1])\n",
      "torch.Size([50, 1])\n",
      "37 tensor(0.0420, grad_fn=<MseLossBackward0>) tensor([ 0.2128, -0.2648]) tensor([-1.8493,  1.8040], grad_fn=<CatBackward0>)\n",
      "torch.Size([50, 1])\n",
      "torch.Size([50, 1])\n",
      "37 tensor(0.0412, grad_fn=<MseLossBackward0>) tensor([ 0.2531, -0.2323]) tensor([-1.8514,  1.8067], grad_fn=<CatBackward0>)\n",
      "torch.Size([50, 1])\n",
      "torch.Size([50, 1])\n",
      "38 tensor(0.0538, grad_fn=<MseLossBackward0>) tensor([ 0.2493, -0.3730]) tensor([-1.8539,  1.8090], grad_fn=<CatBackward0>)\n",
      "torch.Size([50, 1])\n",
      "torch.Size([50, 1])\n",
      "38 tensor(0.0600, grad_fn=<MseLossBackward0>) tensor([ 0.3436, -0.3774]) tensor([-1.8564,  1.8127], grad_fn=<CatBackward0>)\n",
      "torch.Size([50, 1])\n",
      "torch.Size([50, 1])\n",
      "38 tensor(0.0367, grad_fn=<MseLossBackward0>) tensor([ 0.1973, -0.2484]) tensor([-1.8599,  1.8165], grad_fn=<CatBackward0>)\n",
      "torch.Size([50, 1])\n",
      "torch.Size([50, 1])\n",
      "38 tensor(0.0359, grad_fn=<MseLossBackward0>) tensor([ 0.2354, -0.2174]) tensor([-1.8618,  1.8190], grad_fn=<CatBackward0>)\n",
      "torch.Size([50, 1])\n",
      "torch.Size([50, 1])\n",
      "39 tensor(0.0470, grad_fn=<MseLossBackward0>) tensor([ 0.2318, -0.3492]) tensor([-1.8642,  1.8212], grad_fn=<CatBackward0>)\n",
      "torch.Size([50, 1])\n",
      "torch.Size([50, 1])\n",
      "39 tensor(0.0523, grad_fn=<MseLossBackward0>) tensor([ 0.3187, -0.3539]) tensor([-1.8665,  1.8247], grad_fn=<CatBackward0>)\n",
      "torch.Size([50, 1])\n",
      "torch.Size([50, 1])\n",
      "39 tensor(0.0320, grad_fn=<MseLossBackward0>) tensor([ 0.1829, -0.2330]) tensor([-1.8697,  1.8282], grad_fn=<CatBackward0>)\n",
      "torch.Size([50, 1])\n",
      "torch.Size([50, 1])\n",
      "39 tensor(0.0313, grad_fn=<MseLossBackward0>) tensor([ 0.2190, -0.2034]) tensor([-1.8715,  1.8305], grad_fn=<CatBackward0>)\n",
      "torch.Size([50, 1])\n",
      "torch.Size([50, 1])\n",
      "40 tensor(0.0410, grad_fn=<MseLossBackward0>) tensor([ 0.2155, -0.3270]) tensor([-1.8737,  1.8326], grad_fn=<CatBackward0>)\n",
      "torch.Size([50, 1])\n",
      "torch.Size([50, 1])\n",
      "40 tensor(0.0456, grad_fn=<MseLossBackward0>) tensor([ 0.2958, -0.3319]) tensor([-1.8759,  1.8358], grad_fn=<CatBackward0>)\n",
      "torch.Size([50, 1])\n",
      "torch.Size([50, 1])\n",
      "40 tensor(0.0279, grad_fn=<MseLossBackward0>) tensor([ 0.1696, -0.2186]) tensor([-1.8788,  1.8392], grad_fn=<CatBackward0>)\n",
      "torch.Size([50, 1])\n",
      "torch.Size([50, 1])\n",
      "40 tensor(0.0272, grad_fn=<MseLossBackward0>) tensor([ 0.2037, -0.1904]) tensor([-1.8805,  1.8413], grad_fn=<CatBackward0>)\n",
      "torch.Size([50, 1])\n",
      "torch.Size([50, 1])\n",
      "41 tensor(0.0358, grad_fn=<MseLossBackward0>) tensor([ 0.2004, -0.3061]) tensor([-1.8826,  1.8432], grad_fn=<CatBackward0>)\n",
      "torch.Size([50, 1])\n",
      "torch.Size([50, 1])\n",
      "41 tensor(0.0397, grad_fn=<MseLossBackward0>) tensor([ 0.2745, -0.3111]) tensor([-1.8846,  1.8463], grad_fn=<CatBackward0>)\n",
      "torch.Size([50, 1])\n",
      "torch.Size([50, 1])\n",
      "41 tensor(0.0243, grad_fn=<MseLossBackward0>) tensor([ 0.1573, -0.2050]) tensor([-1.8873,  1.8494], grad_fn=<CatBackward0>)\n",
      "torch.Size([50, 1])\n",
      "torch.Size([50, 1])\n",
      "41 tensor(0.0237, grad_fn=<MseLossBackward0>) tensor([ 0.1895, -0.1782]) tensor([-1.8889,  1.8515], grad_fn=<CatBackward0>)\n",
      "torch.Size([50, 1])\n",
      "torch.Size([50, 1])\n",
      "42 tensor(0.0312, grad_fn=<MseLossBackward0>) tensor([ 0.1864, -0.2866]) tensor([-1.8908,  1.8532], grad_fn=<CatBackward0>)\n",
      "torch.Size([50, 1])\n",
      "torch.Size([50, 1])\n",
      "42 tensor(0.0347, grad_fn=<MseLossBackward0>) tensor([ 0.2547, -0.2917]) tensor([-1.8926,  1.8561], grad_fn=<CatBackward0>)\n",
      "torch.Size([50, 1])\n",
      "torch.Size([50, 1])\n",
      "42 tensor(0.0212, grad_fn=<MseLossBackward0>) tensor([ 0.1459, -0.1922]) tensor([-1.8952,  1.8590], grad_fn=<CatBackward0>)\n",
      "torch.Size([50, 1])\n",
      "torch.Size([50, 1])\n",
      "42 tensor(0.0207, grad_fn=<MseLossBackward0>) tensor([ 0.1763, -0.1667]) tensor([-1.8966,  1.8610], grad_fn=<CatBackward0>)\n",
      "torch.Size([50, 1])\n",
      "torch.Size([50, 1])\n",
      "43 tensor(0.0272, grad_fn=<MseLossBackward0>) tensor([ 0.1734, -0.2683]) tensor([-1.8984,  1.8626], grad_fn=<CatBackward0>)\n",
      "torch.Size([50, 1])\n",
      "torch.Size([50, 1])\n",
      "43 tensor(0.0302, grad_fn=<MseLossBackward0>) tensor([ 0.2364, -0.2734]) tensor([-1.9001,  1.8653], grad_fn=<CatBackward0>)\n",
      "torch.Size([50, 1])\n",
      "torch.Size([50, 1])\n",
      "43 tensor(0.0185, grad_fn=<MseLossBackward0>) tensor([ 0.1353, -0.1803]) tensor([-1.9025,  1.8680], grad_fn=<CatBackward0>)\n",
      "torch.Size([50, 1])\n",
      "torch.Size([50, 1])\n",
      "43 tensor(0.0180, grad_fn=<MseLossBackward0>) tensor([ 0.1641, -0.1560]) tensor([-1.9039,  1.8698], grad_fn=<CatBackward0>)\n",
      "torch.Size([50, 1])\n",
      "torch.Size([50, 1])\n",
      "44 tensor(0.0238, grad_fn=<MseLossBackward0>) tensor([ 0.1612, -0.2511]) tensor([-1.9055,  1.8714], grad_fn=<CatBackward0>)\n",
      "torch.Size([50, 1])\n",
      "torch.Size([50, 1])\n",
      "44 tensor(0.0263, grad_fn=<MseLossBackward0>) tensor([ 0.2195, -0.2563]) tensor([-1.9071,  1.8739], grad_fn=<CatBackward0>)\n",
      "torch.Size([50, 1])\n",
      "torch.Size([50, 1])\n",
      "44 tensor(0.0162, grad_fn=<MseLossBackward0>) tensor([ 0.1255, -0.1690]) tensor([-1.9093,  1.8765], grad_fn=<CatBackward0>)\n",
      "torch.Size([50, 1])\n",
      "torch.Size([50, 1])\n",
      "44 tensor(0.0157, grad_fn=<MseLossBackward0>) tensor([ 0.1527, -0.1460]) tensor([-1.9106,  1.8782], grad_fn=<CatBackward0>)\n",
      "torch.Size([50, 1])\n",
      "torch.Size([50, 1])\n"
     ]
    },
    {
     "name": "stdout",
     "output_type": "stream",
     "text": [
      "45 tensor(0.0207, grad_fn=<MseLossBackward0>) tensor([ 0.1500, -0.2351]) tensor([-1.9121,  1.8796], grad_fn=<CatBackward0>)\n",
      "torch.Size([50, 1])\n",
      "torch.Size([50, 1])\n",
      "45 tensor(0.0230, grad_fn=<MseLossBackward0>) tensor([ 0.2038, -0.2402]) tensor([-1.9136,  1.8820], grad_fn=<CatBackward0>)\n",
      "torch.Size([50, 1])\n",
      "torch.Size([50, 1])\n",
      "45 tensor(0.0141, grad_fn=<MseLossBackward0>) tensor([ 0.1165, -0.1585]) tensor([-1.9156,  1.8844], grad_fn=<CatBackward0>)\n",
      "torch.Size([50, 1])\n",
      "torch.Size([50, 1])\n",
      "45 tensor(0.0137, grad_fn=<MseLossBackward0>) tensor([ 0.1421, -0.1366]) tensor([-1.9168,  1.8860], grad_fn=<CatBackward0>)\n",
      "torch.Size([50, 1])\n",
      "torch.Size([50, 1])\n",
      "46 tensor(0.0181, grad_fn=<MseLossBackward0>) tensor([ 0.1395, -0.2200]) tensor([-1.9182,  1.8873], grad_fn=<CatBackward0>)\n",
      "torch.Size([50, 1])\n",
      "torch.Size([50, 1])\n",
      "46 tensor(0.0200, grad_fn=<MseLossBackward0>) tensor([ 0.1892, -0.2251]) tensor([-1.9196,  1.8895], grad_fn=<CatBackward0>)\n",
      "torch.Size([50, 1])\n",
      "torch.Size([50, 1])\n",
      "46 tensor(0.0123, grad_fn=<MseLossBackward0>) tensor([ 0.1081, -0.1486]) tensor([-1.9215,  1.8918], grad_fn=<CatBackward0>)\n",
      "torch.Size([50, 1])\n",
      "torch.Size([50, 1])\n",
      "46 tensor(0.0119, grad_fn=<MseLossBackward0>) tensor([ 0.1322, -0.1278]) tensor([-1.9226,  1.8933], grad_fn=<CatBackward0>)\n",
      "torch.Size([50, 1])\n",
      "torch.Size([50, 1])\n",
      "47 tensor(0.0158, grad_fn=<MseLossBackward0>) tensor([ 0.1298, -0.2060]) tensor([-1.9239,  1.8945], grad_fn=<CatBackward0>)\n",
      "torch.Size([50, 1])\n",
      "torch.Size([50, 1])\n",
      "47 tensor(0.0175, grad_fn=<MseLossBackward0>) tensor([ 0.1757, -0.2109]) tensor([-1.9252,  1.8966], grad_fn=<CatBackward0>)\n",
      "torch.Size([50, 1])\n",
      "torch.Size([50, 1])\n",
      "47 tensor(0.0107, grad_fn=<MseLossBackward0>) tensor([ 0.1003, -0.1393]) tensor([-1.9270,  1.8987], grad_fn=<CatBackward0>)\n",
      "torch.Size([50, 1])\n",
      "torch.Size([50, 1])\n",
      "47 tensor(0.0104, grad_fn=<MseLossBackward0>) tensor([ 0.1231, -0.1195]) tensor([-1.9280,  1.9001], grad_fn=<CatBackward0>)\n",
      "torch.Size([50, 1])\n",
      "torch.Size([50, 1])\n",
      "48 tensor(0.0138, grad_fn=<MseLossBackward0>) tensor([ 0.1208, -0.1928]) tensor([-1.9292,  1.9013], grad_fn=<CatBackward0>)\n",
      "torch.Size([50, 1])\n",
      "torch.Size([50, 1])\n",
      "48 tensor(0.0152, grad_fn=<MseLossBackward0>) tensor([ 0.1632, -0.1976]) tensor([-1.9304,  1.9032], grad_fn=<CatBackward0>)\n",
      "torch.Size([50, 1])\n",
      "torch.Size([50, 1])\n",
      "48 tensor(0.0094, grad_fn=<MseLossBackward0>) tensor([ 0.0931, -0.1305]) tensor([-1.9320,  1.9052], grad_fn=<CatBackward0>)\n",
      "torch.Size([50, 1])\n",
      "torch.Size([50, 1])\n",
      "48 tensor(0.0090, grad_fn=<MseLossBackward0>) tensor([ 0.1146, -0.1118]) tensor([-1.9330,  1.9065], grad_fn=<CatBackward0>)\n",
      "torch.Size([50, 1])\n",
      "torch.Size([50, 1])\n",
      "49 tensor(0.0120, grad_fn=<MseLossBackward0>) tensor([ 0.1124, -0.1804]) tensor([-1.9341,  1.9076], grad_fn=<CatBackward0>)\n",
      "torch.Size([50, 1])\n",
      "torch.Size([50, 1])\n",
      "49 tensor(0.0133, grad_fn=<MseLossBackward0>) tensor([ 0.1515, -0.1851]) tensor([-1.9352,  1.9094], grad_fn=<CatBackward0>)\n",
      "torch.Size([50, 1])\n",
      "torch.Size([50, 1])\n",
      "49 tensor(0.0082, grad_fn=<MseLossBackward0>) tensor([ 0.0865, -0.1223]) tensor([-1.9367,  1.9113], grad_fn=<CatBackward0>)\n",
      "torch.Size([50, 1])\n",
      "torch.Size([50, 1])\n",
      "49 tensor(0.0079, grad_fn=<MseLossBackward0>) tensor([ 0.1066, -0.1046]) tensor([-1.9376,  1.9125], grad_fn=<CatBackward0>)\n",
      "torch.Size([50, 1])\n",
      "torch.Size([50, 1])\n",
      "50 tensor(0.0105, grad_fn=<MseLossBackward0>) tensor([ 0.1046, -0.1688]) tensor([-1.9387,  1.9135], grad_fn=<CatBackward0>)\n",
      "torch.Size([50, 1])\n",
      "torch.Size([50, 1])\n",
      "50 tensor(0.0116, grad_fn=<MseLossBackward0>) tensor([ 0.1408, -0.1734]) tensor([-1.9397,  1.9152], grad_fn=<CatBackward0>)\n",
      "torch.Size([50, 1])\n",
      "torch.Size([50, 1])\n",
      "50 tensor(0.0071, grad_fn=<MseLossBackward0>) tensor([ 0.0803, -0.1147]) tensor([-1.9411,  1.9170], grad_fn=<CatBackward0>)\n",
      "torch.Size([50, 1])\n",
      "torch.Size([50, 1])\n",
      "50 tensor(0.0069, grad_fn=<MseLossBackward0>) tensor([ 0.0993, -0.0978]) tensor([-1.9419,  1.9181], grad_fn=<CatBackward0>)\n",
      "torch.Size([50, 1])\n",
      "torch.Size([50, 1])\n",
      "51 tensor(0.0092, grad_fn=<MseLossBackward0>) tensor([ 0.0973, -0.1580]) tensor([-1.9429,  1.9191], grad_fn=<CatBackward0>)\n",
      "torch.Size([50, 1])\n",
      "torch.Size([50, 1])\n",
      "51 tensor(0.0101, grad_fn=<MseLossBackward0>) tensor([ 0.1308, -0.1625]) tensor([-1.9439,  1.9207], grad_fn=<CatBackward0>)\n",
      "torch.Size([50, 1])\n",
      "torch.Size([50, 1])\n",
      "51 tensor(0.0062, grad_fn=<MseLossBackward0>) tensor([ 0.0745, -0.1075]) tensor([-1.9452,  1.9223], grad_fn=<CatBackward0>)\n",
      "torch.Size([50, 1])\n",
      "torch.Size([50, 1])\n",
      "51 tensor(0.0060, grad_fn=<MseLossBackward0>) tensor([ 0.0924, -0.0915]) tensor([-1.9460,  1.9234], grad_fn=<CatBackward0>)\n",
      "torch.Size([50, 1])\n",
      "torch.Size([50, 1])\n",
      "52 tensor(0.0080, grad_fn=<MseLossBackward0>) tensor([ 0.0906, -0.1479]) tensor([-1.9469,  1.9243], grad_fn=<CatBackward0>)\n",
      "torch.Size([50, 1])\n",
      "torch.Size([50, 1])\n",
      "52 tensor(0.0088, grad_fn=<MseLossBackward0>) tensor([ 0.1215, -0.1522]) tensor([-1.9478,  1.9258], grad_fn=<CatBackward0>)\n",
      "torch.Size([50, 1])\n",
      "torch.Size([50, 1])\n",
      "52 tensor(0.0054, grad_fn=<MseLossBackward0>) tensor([ 0.0692, -0.1007]) tensor([-1.9490,  1.9273], grad_fn=<CatBackward0>)\n",
      "torch.Size([50, 1])\n",
      "torch.Size([50, 1])\n",
      "52 tensor(0.0052, grad_fn=<MseLossBackward0>) tensor([ 0.0860, -0.0856]) tensor([-1.9497,  1.9283], grad_fn=<CatBackward0>)\n",
      "torch.Size([50, 1])\n",
      "torch.Size([50, 1])\n",
      "53 tensor(0.0070, grad_fn=<MseLossBackward0>) tensor([ 0.0843, -0.1384]) tensor([-1.9506,  1.9292], grad_fn=<CatBackward0>)\n",
      "torch.Size([50, 1])\n",
      "torch.Size([50, 1])\n",
      "53 tensor(0.0077, grad_fn=<MseLossBackward0>) tensor([ 0.1129, -0.1426]) tensor([-1.9514,  1.9305], grad_fn=<CatBackward0>)\n",
      "torch.Size([50, 1])\n",
      "torch.Size([50, 1])\n",
      "53 tensor(0.0048, grad_fn=<MseLossBackward0>) tensor([ 0.0643, -0.0944]) tensor([-1.9525,  1.9320], grad_fn=<CatBackward0>)\n",
      "torch.Size([50, 1])\n",
      "torch.Size([50, 1])\n",
      "53 tensor(0.0045, grad_fn=<MseLossBackward0>) tensor([ 0.0801, -0.0801]) tensor([-1.9532,  1.9329], grad_fn=<CatBackward0>)\n",
      "torch.Size([50, 1])\n",
      "torch.Size([50, 1])\n",
      "54 tensor(0.0061, grad_fn=<MseLossBackward0>) tensor([ 0.0785, -0.1295]) tensor([-1.9540,  1.9337], grad_fn=<CatBackward0>)\n",
      "torch.Size([50, 1])\n",
      "torch.Size([50, 1])\n",
      "54 tensor(0.0067, grad_fn=<MseLossBackward0>) tensor([ 0.1049, -0.1335]) tensor([-1.9548,  1.9350], grad_fn=<CatBackward0>)\n",
      "torch.Size([50, 1])\n",
      "torch.Size([50, 1])\n",
      "54 tensor(0.0042, grad_fn=<MseLossBackward0>) tensor([ 0.0597, -0.0884]) tensor([-1.9558,  1.9363], grad_fn=<CatBackward0>)\n",
      "torch.Size([50, 1])\n",
      "torch.Size([50, 1])\n",
      "54 tensor(0.0040, grad_fn=<MseLossBackward0>) tensor([ 0.0746, -0.0749]) tensor([-1.9564,  1.9372], grad_fn=<CatBackward0>)\n",
      "torch.Size([50, 1])\n",
      "torch.Size([50, 1])\n",
      "55 tensor(0.0053, grad_fn=<MseLossBackward0>) tensor([ 0.0731, -0.1211]) tensor([-1.9571,  1.9380], grad_fn=<CatBackward0>)\n",
      "torch.Size([50, 1])\n",
      "torch.Size([50, 1])\n",
      "55 tensor(0.0059, grad_fn=<MseLossBackward0>) tensor([ 0.0975, -0.1250]) tensor([-1.9579,  1.9392], grad_fn=<CatBackward0>)\n",
      "torch.Size([50, 1])\n",
      "torch.Size([50, 1])\n",
      "55 tensor(0.0036, grad_fn=<MseLossBackward0>) tensor([ 0.0555, -0.0828]) tensor([-1.9589,  1.9404], grad_fn=<CatBackward0>)\n",
      "torch.Size([50, 1])\n",
      "torch.Size([50, 1])\n",
      "55 tensor(0.0035, grad_fn=<MseLossBackward0>) tensor([ 0.0695, -0.0700]) tensor([-1.9594,  1.9413], grad_fn=<CatBackward0>)\n",
      "torch.Size([50, 1])\n",
      "torch.Size([50, 1])\n",
      "56 tensor(0.0046, grad_fn=<MseLossBackward0>) tensor([ 0.0680, -0.1133]) tensor([-1.9601,  1.9420], grad_fn=<CatBackward0>)\n",
      "torch.Size([50, 1])\n",
      "torch.Size([50, 1])\n",
      "56 tensor(0.0051, grad_fn=<MseLossBackward0>) tensor([ 0.0906, -0.1171]) tensor([-1.9608,  1.9431], grad_fn=<CatBackward0>)\n",
      "torch.Size([50, 1])\n",
      "torch.Size([50, 1])\n",
      "56 tensor(0.0032, grad_fn=<MseLossBackward0>) tensor([ 0.0516, -0.0776]) tensor([-1.9617,  1.9443], grad_fn=<CatBackward0>)\n",
      "torch.Size([50, 1])\n",
      "torch.Size([50, 1])\n",
      "56 tensor(0.0030, grad_fn=<MseLossBackward0>) tensor([ 0.0647, -0.0655]) tensor([-1.9622,  1.9450], grad_fn=<CatBackward0>)\n",
      "torch.Size([50, 1])\n",
      "torch.Size([50, 1])\n",
      "57 tensor(0.0041, grad_fn=<MseLossBackward0>) tensor([ 0.0633, -0.1060]) tensor([-1.9628,  1.9457], grad_fn=<CatBackward0>)\n",
      "torch.Size([50, 1])\n",
      "torch.Size([50, 1])\n",
      "57 tensor(0.0045, grad_fn=<MseLossBackward0>) tensor([ 0.0842, -0.1096]) tensor([-1.9635,  1.9468], grad_fn=<CatBackward0>)\n",
      "torch.Size([50, 1])\n",
      "torch.Size([50, 1])\n",
      "57 tensor(0.0028, grad_fn=<MseLossBackward0>) tensor([ 0.0479, -0.0727]) tensor([-1.9643,  1.9479], grad_fn=<CatBackward0>)\n",
      "torch.Size([50, 1])\n",
      "torch.Size([50, 1])\n",
      "57 tensor(0.0026, grad_fn=<MseLossBackward0>) tensor([ 0.0602, -0.0612]) tensor([-1.9648,  1.9486], grad_fn=<CatBackward0>)\n",
      "torch.Size([50, 1])\n",
      "torch.Size([50, 1])\n",
      "58 tensor(0.0035, grad_fn=<MseLossBackward0>) tensor([ 0.0590, -0.0992]) tensor([-1.9654,  1.9492], grad_fn=<CatBackward0>)\n",
      "torch.Size([50, 1])\n",
      "torch.Size([50, 1])\n",
      "58 tensor(0.0039, grad_fn=<MseLossBackward0>) tensor([ 0.0783, -0.1027]) tensor([-1.9660,  1.9502], grad_fn=<CatBackward0>)\n",
      "torch.Size([50, 1])\n",
      "torch.Size([50, 1])\n",
      "58 tensor(0.0024, grad_fn=<MseLossBackward0>) tensor([ 0.0445, -0.0681]) tensor([-1.9668,  1.9512], grad_fn=<CatBackward0>)\n",
      "torch.Size([50, 1])\n",
      "torch.Size([50, 1])\n",
      "58 tensor(0.0023, grad_fn=<MseLossBackward0>) tensor([ 0.0561, -0.0573]) tensor([-1.9672,  1.9519], grad_fn=<CatBackward0>)\n",
      "torch.Size([50, 1])\n",
      "torch.Size([50, 1])\n",
      "59 tensor(0.0031, grad_fn=<MseLossBackward0>) tensor([ 0.0549, -0.0928]) tensor([-1.9678,  1.9525], grad_fn=<CatBackward0>)\n",
      "torch.Size([50, 1])\n",
      "torch.Size([50, 1])\n",
      "59 tensor(0.0034, grad_fn=<MseLossBackward0>) tensor([ 0.0728, -0.0961]) tensor([-1.9683,  1.9534], grad_fn=<CatBackward0>)\n",
      "torch.Size([50, 1])\n",
      "torch.Size([50, 1])\n",
      "59 tensor(0.0021, grad_fn=<MseLossBackward0>) tensor([ 0.0414, -0.0638]) tensor([-1.9691,  1.9544], grad_fn=<CatBackward0>)\n",
      "torch.Size([50, 1])\n",
      "torch.Size([50, 1])\n",
      "59 tensor(0.0020, grad_fn=<MseLossBackward0>) tensor([ 0.0523, -0.0535]) tensor([-1.9695,  1.9550], grad_fn=<CatBackward0>)\n",
      "torch.Size([50, 1])\n",
      "torch.Size([50, 1])\n",
      "60 tensor(0.0027, grad_fn=<MseLossBackward0>) tensor([ 0.0511, -0.0868]) tensor([-1.9700,  1.9555], grad_fn=<CatBackward0>)\n",
      "torch.Size([50, 1])\n",
      "torch.Size([50, 1])\n",
      "60 tensor(0.0030, grad_fn=<MseLossBackward0>) tensor([ 0.0677, -0.0900]) tensor([-1.9705,  1.9564], grad_fn=<CatBackward0>)\n",
      "torch.Size([50, 1])\n",
      "torch.Size([50, 1])\n",
      "60 tensor(0.0018, grad_fn=<MseLossBackward0>) tensor([ 0.0385, -0.0598]) tensor([-1.9712,  1.9573], grad_fn=<CatBackward0>)\n",
      "torch.Size([50, 1])\n",
      "torch.Size([50, 1])\n",
      "60 tensor(0.0017, grad_fn=<MseLossBackward0>) tensor([ 0.0487, -0.0501]) tensor([-1.9716,  1.9579], grad_fn=<CatBackward0>)\n",
      "torch.Size([50, 1])\n",
      "torch.Size([50, 1])\n",
      "61 tensor(0.0024, grad_fn=<MseLossBackward0>) tensor([ 0.0476, -0.0812]) tensor([-1.9721,  1.9584], grad_fn=<CatBackward0>)\n",
      "torch.Size([50, 1])\n",
      "torch.Size([50, 1])\n",
      "61 tensor(0.0026, grad_fn=<MseLossBackward0>) tensor([ 0.0630, -0.0843]) tensor([-1.9725,  1.9592], grad_fn=<CatBackward0>)\n",
      "torch.Size([50, 1])\n",
      "torch.Size([50, 1])\n",
      "61 tensor(0.0016, grad_fn=<MseLossBackward0>) tensor([ 0.0358, -0.0560]) tensor([-1.9732,  1.9600], grad_fn=<CatBackward0>)\n",
      "torch.Size([50, 1])\n",
      "torch.Size([50, 1])\n",
      "61 tensor(0.0015, grad_fn=<MseLossBackward0>) tensor([ 0.0453, -0.0468]) tensor([-1.9735,  1.9606], grad_fn=<CatBackward0>)\n",
      "torch.Size([50, 1])\n",
      "torch.Size([50, 1])\n",
      "62 tensor(0.0021, grad_fn=<MseLossBackward0>) tensor([ 0.0443, -0.0760]) tensor([-1.9740,  1.9611], grad_fn=<CatBackward0>)\n",
      "torch.Size([50, 1])\n",
      "torch.Size([50, 1])\n",
      "62 tensor(0.0023, grad_fn=<MseLossBackward0>) tensor([ 0.0586, -0.0789]) tensor([-1.9744,  1.9618], grad_fn=<CatBackward0>)\n",
      "torch.Size([50, 1])\n",
      "torch.Size([50, 1])\n",
      "62 tensor(0.0014, grad_fn=<MseLossBackward0>) tensor([ 0.0333, -0.0525]) tensor([-1.9750,  1.9626], grad_fn=<CatBackward0>)\n",
      "torch.Size([50, 1])\n",
      "torch.Size([50, 1])\n",
      "62 tensor(0.0013, grad_fn=<MseLossBackward0>) tensor([ 0.0422, -0.0438]) tensor([-1.9753,  1.9632], grad_fn=<CatBackward0>)\n",
      "torch.Size([50, 1])\n",
      "torch.Size([50, 1])\n",
      "63 tensor(0.0018, grad_fn=<MseLossBackward0>) tensor([ 0.0413, -0.0711]) tensor([-1.9758,  1.9636], grad_fn=<CatBackward0>)\n",
      "torch.Size([50, 1])\n",
      "torch.Size([50, 1])\n",
      "63 tensor(0.0020, grad_fn=<MseLossBackward0>) tensor([ 0.0545, -0.0738]) tensor([-1.9762,  1.9643], grad_fn=<CatBackward0>)\n",
      "torch.Size([50, 1])\n",
      "torch.Size([50, 1])\n",
      "63 tensor(0.0012, grad_fn=<MseLossBackward0>) tensor([ 0.0309, -0.0491]) tensor([-1.9767,  1.9650], grad_fn=<CatBackward0>)\n",
      "torch.Size([50, 1])\n",
      "torch.Size([50, 1])\n",
      "63 tensor(0.0012, grad_fn=<MseLossBackward0>) tensor([ 0.0393, -0.0409]) tensor([-1.9770,  1.9655], grad_fn=<CatBackward0>)\n",
      "torch.Size([50, 1])\n",
      "torch.Size([50, 1])\n",
      "64 tensor(0.0016, grad_fn=<MseLossBackward0>) tensor([ 0.0384, -0.0665]) tensor([-1.9774,  1.9659], grad_fn=<CatBackward0>)\n",
      "torch.Size([50, 1])\n",
      "torch.Size([50, 1])\n",
      "64 tensor(0.0017, grad_fn=<MseLossBackward0>) tensor([ 0.0507, -0.0691]) tensor([-1.9778,  1.9666], grad_fn=<CatBackward0>)\n",
      "torch.Size([50, 1])\n",
      "torch.Size([50, 1])\n",
      "64 tensor(0.0011, grad_fn=<MseLossBackward0>) tensor([ 0.0288, -0.0460]) tensor([-1.9783,  1.9673], grad_fn=<CatBackward0>)\n",
      "torch.Size([50, 1])\n",
      "torch.Size([50, 1])\n",
      "64 tensor(0.0010, grad_fn=<MseLossBackward0>) tensor([ 0.0366, -0.0382]) tensor([-1.9786,  1.9678], grad_fn=<CatBackward0>)\n",
      "torch.Size([50, 1])\n",
      "torch.Size([50, 1])\n",
      "65 tensor(0.0014, grad_fn=<MseLossBackward0>) tensor([ 0.0358, -0.0622]) tensor([-1.9790,  1.9681], grad_fn=<CatBackward0>)\n",
      "torch.Size([50, 1])\n",
      "torch.Size([50, 1])\n",
      "65 tensor(0.0015, grad_fn=<MseLossBackward0>) tensor([ 0.0471, -0.0647]) tensor([-1.9793,  1.9688], grad_fn=<CatBackward0>)\n",
      "torch.Size([50, 1])\n",
      "torch.Size([50, 1])\n",
      "65 tensor(0.0009, grad_fn=<MseLossBackward0>) tensor([ 0.0268, -0.0431]) tensor([-1.9798,  1.9694], grad_fn=<CatBackward0>)\n",
      "torch.Size([50, 1])\n",
      "torch.Size([50, 1])\n",
      "65 tensor(0.0009, grad_fn=<MseLossBackward0>) tensor([ 0.0341, -0.0357]) tensor([-1.9801,  1.9698], grad_fn=<CatBackward0>)\n",
      "torch.Size([50, 1])\n",
      "torch.Size([50, 1])\n",
      "66 tensor(0.0012, grad_fn=<MseLossBackward0>) tensor([ 0.0334, -0.0582]) tensor([-1.9804,  1.9702], grad_fn=<CatBackward0>)\n",
      "torch.Size([50, 1])\n",
      "torch.Size([50, 1])\n",
      "66 tensor(0.0013, grad_fn=<MseLossBackward0>) tensor([ 0.0438, -0.0605]) tensor([-1.9807,  1.9708], grad_fn=<CatBackward0>)\n",
      "torch.Size([50, 1])\n",
      "torch.Size([50, 1])\n",
      "66 tensor(0.0008, grad_fn=<MseLossBackward0>) tensor([ 0.0249, -0.0404]) tensor([-1.9812,  1.9714], grad_fn=<CatBackward0>)\n",
      "torch.Size([50, 1])\n",
      "torch.Size([50, 1])\n",
      "66 tensor(0.0008, grad_fn=<MseLossBackward0>) tensor([ 0.0318, -0.0334]) tensor([-1.9814,  1.9718], grad_fn=<CatBackward0>)\n",
      "torch.Size([50, 1])\n",
      "torch.Size([50, 1])\n",
      "67 tensor(0.0010, grad_fn=<MseLossBackward0>) tensor([ 0.0311, -0.0544]) tensor([-1.9817,  1.9721], grad_fn=<CatBackward0>)\n",
      "torch.Size([50, 1])\n",
      "torch.Size([50, 1])\n"
     ]
    },
    {
     "name": "stdout",
     "output_type": "stream",
     "text": [
      "67 tensor(0.0011, grad_fn=<MseLossBackward0>) tensor([ 0.0408, -0.0567]) tensor([-1.9821,  1.9727], grad_fn=<CatBackward0>)\n",
      "torch.Size([50, 1])\n",
      "torch.Size([50, 1])\n",
      "67 tensor(0.0007, grad_fn=<MseLossBackward0>) tensor([ 0.0232, -0.0378]) tensor([-1.9825,  1.9732], grad_fn=<CatBackward0>)\n",
      "torch.Size([50, 1])\n",
      "torch.Size([50, 1])\n",
      "67 tensor(0.0007, grad_fn=<MseLossBackward0>) tensor([ 0.0296, -0.0312]) tensor([-1.9827,  1.9736], grad_fn=<CatBackward0>)\n",
      "torch.Size([50, 1])\n",
      "torch.Size([50, 1])\n",
      "68 tensor(0.0009, grad_fn=<MseLossBackward0>) tensor([ 0.0289, -0.0509]) tensor([-1.9830,  1.9739], grad_fn=<CatBackward0>)\n",
      "torch.Size([50, 1])\n",
      "torch.Size([50, 1])\n",
      "68 tensor(0.0010, grad_fn=<MseLossBackward0>) tensor([ 0.0380, -0.0530]) tensor([-1.9833,  1.9744], grad_fn=<CatBackward0>)\n",
      "torch.Size([50, 1])\n",
      "torch.Size([50, 1])\n",
      "68 tensor(0.0006, grad_fn=<MseLossBackward0>) tensor([ 0.0216, -0.0354]) tensor([-1.9837,  1.9750], grad_fn=<CatBackward0>)\n",
      "torch.Size([50, 1])\n",
      "torch.Size([50, 1])\n",
      "68 tensor(0.0006, grad_fn=<MseLossBackward0>) tensor([ 0.0276, -0.0292]) tensor([-1.9839,  1.9753], grad_fn=<CatBackward0>)\n",
      "torch.Size([50, 1])\n",
      "torch.Size([50, 1])\n",
      "69 tensor(0.0008, grad_fn=<MseLossBackward0>) tensor([ 0.0270, -0.0476]) tensor([-1.9842,  1.9756], grad_fn=<CatBackward0>)\n",
      "torch.Size([50, 1])\n",
      "torch.Size([50, 1])\n",
      "69 tensor(0.0009, grad_fn=<MseLossBackward0>) tensor([ 0.0353, -0.0496]) tensor([-1.9844,  1.9761], grad_fn=<CatBackward0>)\n",
      "torch.Size([50, 1])\n",
      "torch.Size([50, 1])\n",
      "69 tensor(0.0005, grad_fn=<MseLossBackward0>) tensor([ 0.0201, -0.0332]) tensor([-1.9848,  1.9766], grad_fn=<CatBackward0>)\n",
      "torch.Size([50, 1])\n",
      "torch.Size([50, 1])\n",
      "69 tensor(0.0005, grad_fn=<MseLossBackward0>) tensor([ 0.0257, -0.0273]) tensor([-1.9850,  1.9769], grad_fn=<CatBackward0>)\n",
      "torch.Size([50, 1])\n",
      "torch.Size([50, 1])\n",
      "70 tensor(0.0007, grad_fn=<MseLossBackward0>) tensor([ 0.0251, -0.0445]) tensor([-1.9852,  1.9772], grad_fn=<CatBackward0>)\n",
      "torch.Size([50, 1])\n",
      "torch.Size([50, 1])\n",
      "70 tensor(0.0008, grad_fn=<MseLossBackward0>) tensor([ 0.0329, -0.0464]) tensor([-1.9855,  1.9776], grad_fn=<CatBackward0>)\n",
      "torch.Size([50, 1])\n",
      "torch.Size([50, 1])\n",
      "70 tensor(0.0005, grad_fn=<MseLossBackward0>) tensor([ 0.0187, -0.0311]) tensor([-1.9858,  1.9781], grad_fn=<CatBackward0>)\n",
      "torch.Size([50, 1])\n",
      "torch.Size([50, 1])\n",
      "70 tensor(0.0004, grad_fn=<MseLossBackward0>) tensor([ 0.0240, -0.0255]) tensor([-1.9860,  1.9784], grad_fn=<CatBackward0>)\n",
      "torch.Size([50, 1])\n",
      "torch.Size([50, 1])\n",
      "71 tensor(0.0006, grad_fn=<MseLossBackward0>) tensor([ 0.0234, -0.0417]) tensor([-1.9862,  1.9787], grad_fn=<CatBackward0>)\n",
      "torch.Size([50, 1])\n",
      "torch.Size([50, 1])\n",
      "71 tensor(0.0007, grad_fn=<MseLossBackward0>) tensor([ 0.0306, -0.0434]) tensor([-1.9865,  1.9791], grad_fn=<CatBackward0>)\n",
      "torch.Size([50, 1])\n",
      "torch.Size([50, 1])\n",
      "71 tensor(0.0004, grad_fn=<MseLossBackward0>) tensor([ 0.0174, -0.0291]) tensor([-1.9868,  1.9795], grad_fn=<CatBackward0>)\n",
      "torch.Size([50, 1])\n",
      "torch.Size([50, 1])\n",
      "71 tensor(0.0004, grad_fn=<MseLossBackward0>) tensor([ 0.0223, -0.0238]) tensor([-1.9870,  1.9798], grad_fn=<CatBackward0>)\n",
      "torch.Size([50, 1])\n",
      "torch.Size([50, 1])\n",
      "72 tensor(0.0005, grad_fn=<MseLossBackward0>) tensor([ 0.0218, -0.0390]) tensor([-1.9872,  1.9800], grad_fn=<CatBackward0>)\n",
      "torch.Size([50, 1])\n",
      "torch.Size([50, 1])\n",
      "72 tensor(0.0006, grad_fn=<MseLossBackward0>) tensor([ 0.0285, -0.0406]) tensor([-1.9874,  1.9804], grad_fn=<CatBackward0>)\n",
      "torch.Size([50, 1])\n",
      "torch.Size([50, 1])\n",
      "72 tensor(0.0004, grad_fn=<MseLossBackward0>) tensor([ 0.0162, -0.0273]) tensor([-1.9877,  1.9808], grad_fn=<CatBackward0>)\n",
      "torch.Size([50, 1])\n",
      "torch.Size([50, 1])\n",
      "72 tensor(0.0003, grad_fn=<MseLossBackward0>) tensor([ 0.0208, -0.0222]) tensor([-1.9878,  1.9811], grad_fn=<CatBackward0>)\n",
      "torch.Size([50, 1])\n",
      "torch.Size([50, 1])\n",
      "73 tensor(0.0005, grad_fn=<MseLossBackward0>) tensor([ 0.0203, -0.0364]) tensor([-1.9880,  1.9813], grad_fn=<CatBackward0>)\n",
      "torch.Size([50, 1])\n",
      "torch.Size([50, 1])\n",
      "73 tensor(0.0005, grad_fn=<MseLossBackward0>) tensor([ 0.0265, -0.0380]) tensor([-1.9883,  1.9817], grad_fn=<CatBackward0>)\n",
      "torch.Size([50, 1])\n",
      "torch.Size([50, 1])\n",
      "73 tensor(0.0003, grad_fn=<MseLossBackward0>) tensor([ 0.0151, -0.0255]) tensor([-1.9885,  1.9821], grad_fn=<CatBackward0>)\n",
      "torch.Size([50, 1])\n",
      "torch.Size([50, 1])\n",
      "73 tensor(0.0003, grad_fn=<MseLossBackward0>) tensor([ 0.0194, -0.0208]) tensor([-1.9887,  1.9823], grad_fn=<CatBackward0>)\n",
      "torch.Size([50, 1])\n",
      "torch.Size([50, 1])\n",
      "74 tensor(0.0004, grad_fn=<MseLossBackward0>) tensor([ 0.0189, -0.0341]) tensor([-1.9889,  1.9825], grad_fn=<CatBackward0>)\n",
      "torch.Size([50, 1])\n",
      "torch.Size([50, 1])\n",
      "74 tensor(0.0004, grad_fn=<MseLossBackward0>) tensor([ 0.0247, -0.0356]) tensor([-1.9891,  1.9829], grad_fn=<CatBackward0>)\n",
      "torch.Size([50, 1])\n",
      "torch.Size([50, 1])\n",
      "74 tensor(0.0003, grad_fn=<MseLossBackward0>) tensor([ 0.0141, -0.0239]) tensor([-1.9893,  1.9832], grad_fn=<CatBackward0>)\n",
      "torch.Size([50, 1])\n",
      "torch.Size([50, 1])\n",
      "74 tensor(0.0003, grad_fn=<MseLossBackward0>) tensor([ 0.0181, -0.0194]) tensor([-1.9894,  1.9835], grad_fn=<CatBackward0>)\n",
      "torch.Size([50, 1])\n",
      "torch.Size([50, 1])\n",
      "75 tensor(0.0004, grad_fn=<MseLossBackward0>) tensor([ 0.0176, -0.0319]) tensor([-1.9896,  1.9837], grad_fn=<CatBackward0>)\n",
      "torch.Size([50, 1])\n",
      "torch.Size([50, 1])\n",
      "75 tensor(0.0004, grad_fn=<MseLossBackward0>) tensor([ 0.0230, -0.0333]) tensor([-1.9898,  1.9840], grad_fn=<CatBackward0>)\n",
      "torch.Size([50, 1])\n",
      "torch.Size([50, 1])\n",
      "75 tensor(0.0002, grad_fn=<MseLossBackward0>) tensor([ 0.0131, -0.0224]) tensor([-1.9900,  1.9843], grad_fn=<CatBackward0>)\n",
      "torch.Size([50, 1])\n",
      "torch.Size([50, 1])\n",
      "75 tensor(0.0002, grad_fn=<MseLossBackward0>) tensor([ 0.0168, -0.0181]) tensor([-1.9902,  1.9845], grad_fn=<CatBackward0>)\n",
      "torch.Size([50, 1])\n",
      "torch.Size([50, 1])\n",
      "76 tensor(0.0003, grad_fn=<MseLossBackward0>) tensor([ 0.0164, -0.0298]) tensor([-1.9903,  1.9847], grad_fn=<CatBackward0>)\n",
      "torch.Size([50, 1])\n",
      "torch.Size([50, 1])\n",
      "76 tensor(0.0003, grad_fn=<MseLossBackward0>) tensor([ 0.0214, -0.0311]) tensor([-1.9905,  1.9850], grad_fn=<CatBackward0>)\n",
      "torch.Size([50, 1])\n",
      "torch.Size([50, 1])\n",
      "76 tensor(0.0002, grad_fn=<MseLossBackward0>) tensor([ 0.0122, -0.0210]) tensor([-1.9907,  1.9853], grad_fn=<CatBackward0>)\n",
      "torch.Size([50, 1])\n",
      "torch.Size([50, 1])\n",
      "76 tensor(0.0002, grad_fn=<MseLossBackward0>) tensor([ 0.0157, -0.0169]) tensor([-1.9908,  1.9855], grad_fn=<CatBackward0>)\n",
      "torch.Size([50, 1])\n",
      "torch.Size([50, 1])\n",
      "77 tensor(0.0003, grad_fn=<MseLossBackward0>) tensor([ 0.0153, -0.0279]) tensor([-1.9910,  1.9857], grad_fn=<CatBackward0>)\n",
      "torch.Size([50, 1])\n",
      "torch.Size([50, 1])\n",
      "77 tensor(0.0003, grad_fn=<MseLossBackward0>) tensor([ 0.0199, -0.0291]) tensor([-1.9911,  1.9860], grad_fn=<CatBackward0>)\n",
      "torch.Size([50, 1])\n",
      "torch.Size([50, 1])\n",
      "77 tensor(0.0002, grad_fn=<MseLossBackward0>) tensor([ 0.0114, -0.0197]) tensor([-1.9913,  1.9863], grad_fn=<CatBackward0>)\n",
      "torch.Size([50, 1])\n",
      "torch.Size([50, 1])\n",
      "77 tensor(0.0002, grad_fn=<MseLossBackward0>) tensor([ 0.0146, -0.0158]) tensor([-1.9914,  1.9865], grad_fn=<CatBackward0>)\n",
      "torch.Size([50, 1])\n",
      "torch.Size([50, 1])\n",
      "78 tensor(0.0002, grad_fn=<MseLossBackward0>) tensor([ 0.0143, -0.0261]) tensor([-1.9916,  1.9866], grad_fn=<CatBackward0>)\n",
      "torch.Size([50, 1])\n",
      "torch.Size([50, 1])\n",
      "78 tensor(0.0003, grad_fn=<MseLossBackward0>) tensor([ 0.0186, -0.0272]) tensor([-1.9917,  1.9869], grad_fn=<CatBackward0>)\n",
      "torch.Size([50, 1])\n",
      "torch.Size([50, 1])\n",
      "78 tensor(0.0002, grad_fn=<MseLossBackward0>) tensor([ 0.0106, -0.0184]) tensor([-1.9919,  1.9872], grad_fn=<CatBackward0>)\n",
      "torch.Size([50, 1])\n",
      "torch.Size([50, 1])\n",
      "78 tensor(0.0001, grad_fn=<MseLossBackward0>) tensor([ 0.0136, -0.0148]) tensor([-1.9920,  1.9874], grad_fn=<CatBackward0>)\n",
      "torch.Size([50, 1])\n",
      "torch.Size([50, 1])\n",
      "79 tensor(0.0002, grad_fn=<MseLossBackward0>) tensor([ 0.0133, -0.0244]) tensor([-1.9922,  1.9875], grad_fn=<CatBackward0>)\n",
      "torch.Size([50, 1])\n",
      "torch.Size([50, 1])\n",
      "79 tensor(0.0002, grad_fn=<MseLossBackward0>) tensor([ 0.0173, -0.0255]) tensor([-1.9923,  1.9877], grad_fn=<CatBackward0>)\n",
      "torch.Size([50, 1])\n",
      "torch.Size([50, 1])\n",
      "79 tensor(0.0001, grad_fn=<MseLossBackward0>) tensor([ 0.0099, -0.0173]) tensor([-1.9925,  1.9880], grad_fn=<CatBackward0>)\n",
      "torch.Size([50, 1])\n",
      "torch.Size([50, 1])\n",
      "79 tensor(0.0001, grad_fn=<MseLossBackward0>) tensor([ 0.0127, -0.0138]) tensor([-1.9926,  1.9882], grad_fn=<CatBackward0>)\n",
      "torch.Size([50, 1])\n",
      "torch.Size([50, 1])\n",
      "80 tensor(0.0002, grad_fn=<MseLossBackward0>) tensor([ 0.0124, -0.0228]) tensor([-1.9927,  1.9883], grad_fn=<CatBackward0>)\n",
      "torch.Size([50, 1])\n",
      "torch.Size([50, 1])\n",
      "80 tensor(0.0002, grad_fn=<MseLossBackward0>) tensor([ 0.0161, -0.0238]) tensor([-1.9928,  1.9885], grad_fn=<CatBackward0>)\n",
      "torch.Size([50, 1])\n",
      "torch.Size([50, 1])\n",
      "80 tensor(0.0001, grad_fn=<MseLossBackward0>) tensor([ 0.0092, -0.0162]) tensor([-1.9930,  1.9888], grad_fn=<CatBackward0>)\n",
      "torch.Size([50, 1])\n",
      "torch.Size([50, 1])\n",
      "80 tensor(0.0001, grad_fn=<MseLossBackward0>) tensor([ 0.0118, -0.0129]) tensor([-1.9931,  1.9889], grad_fn=<CatBackward0>)\n",
      "torch.Size([50, 1])\n",
      "torch.Size([50, 1])\n",
      "81 tensor(0.0002, grad_fn=<MseLossBackward0>) tensor([ 0.0115, -0.0213]) tensor([-1.9932,  1.9891], grad_fn=<CatBackward0>)\n",
      "torch.Size([50, 1])\n",
      "torch.Size([50, 1])\n",
      "81 tensor(0.0002, grad_fn=<MseLossBackward0>) tensor([ 0.0150, -0.0223]) tensor([-1.9933,  1.9893], grad_fn=<CatBackward0>)\n",
      "torch.Size([50, 1])\n",
      "torch.Size([50, 1])\n",
      "81 tensor(0.0001, grad_fn=<MseLossBackward0>) tensor([ 0.0086, -0.0151]) tensor([-1.9935,  1.9895], grad_fn=<CatBackward0>)\n",
      "torch.Size([50, 1])\n",
      "torch.Size([50, 1])\n",
      "81 tensor(9.7352e-05, grad_fn=<MseLossBackward0>) tensor([ 0.0110, -0.0120]) tensor([-1.9935,  1.9897], grad_fn=<CatBackward0>)\n",
      "torch.Size([50, 1])\n",
      "torch.Size([50, 1])\n",
      "82 tensor(0.0001, grad_fn=<MseLossBackward0>) tensor([ 0.0107, -0.0199]) tensor([-1.9937,  1.9898], grad_fn=<CatBackward0>)\n",
      "torch.Size([50, 1])\n",
      "torch.Size([50, 1])\n",
      "82 tensor(0.0001, grad_fn=<MseLossBackward0>) tensor([ 0.0140, -0.0208]) tensor([-1.9938,  1.9900], grad_fn=<CatBackward0>)\n",
      "torch.Size([50, 1])\n",
      "torch.Size([50, 1])\n",
      "82 tensor(9.8062e-05, grad_fn=<MseLossBackward0>) tensor([ 0.0080, -0.0142]) tensor([-1.9939,  1.9902], grad_fn=<CatBackward0>)\n",
      "torch.Size([50, 1])\n",
      "torch.Size([50, 1])\n",
      "82 tensor(8.4913e-05, grad_fn=<MseLossBackward0>) tensor([ 0.0102, -0.0112]) tensor([-1.9940,  1.9903], grad_fn=<CatBackward0>)\n",
      "torch.Size([50, 1])\n",
      "torch.Size([50, 1])\n",
      "83 tensor(0.0001, grad_fn=<MseLossBackward0>) tensor([ 0.0100, -0.0187]) tensor([-1.9941,  1.9904], grad_fn=<CatBackward0>)\n",
      "torch.Size([50, 1])\n",
      "torch.Size([50, 1])\n",
      "83 tensor(0.0001, grad_fn=<MseLossBackward0>) tensor([ 0.0130, -0.0195]) tensor([-1.9942,  1.9906], grad_fn=<CatBackward0>)\n",
      "torch.Size([50, 1])\n",
      "torch.Size([50, 1])\n",
      "83 tensor(8.6121e-05, grad_fn=<MseLossBackward0>) tensor([ 0.0075, -0.0133]) tensor([-1.9943,  1.9908], grad_fn=<CatBackward0>)\n",
      "torch.Size([50, 1])\n",
      "torch.Size([50, 1])\n",
      "83 tensor(7.4076e-05, grad_fn=<MseLossBackward0>) tensor([ 0.0095, -0.0105]) tensor([-1.9944,  1.9910], grad_fn=<CatBackward0>)\n",
      "torch.Size([50, 1])\n",
      "torch.Size([50, 1])\n",
      "84 tensor(0.0001, grad_fn=<MseLossBackward0>) tensor([ 0.0093, -0.0174]) tensor([-1.9945,  1.9911], grad_fn=<CatBackward0>)\n",
      "torch.Size([50, 1])\n",
      "torch.Size([50, 1])\n",
      "84 tensor(0.0001, grad_fn=<MseLossBackward0>) tensor([ 0.0121, -0.0182]) tensor([-1.9946,  1.9912], grad_fn=<CatBackward0>)\n",
      "torch.Size([50, 1])\n",
      "torch.Size([50, 1])\n",
      "84 tensor(7.5677e-05, grad_fn=<MseLossBackward0>) tensor([ 0.0070, -0.0125]) tensor([-1.9947,  1.9914], grad_fn=<CatBackward0>)\n",
      "torch.Size([50, 1])\n",
      "torch.Size([50, 1])\n",
      "84 tensor(6.4638e-05, grad_fn=<MseLossBackward0>) tensor([ 0.0089, -0.0098]) tensor([-1.9948,  1.9915], grad_fn=<CatBackward0>)\n",
      "torch.Size([50, 1])\n",
      "torch.Size([50, 1])\n",
      "85 tensor(9.1869e-05, grad_fn=<MseLossBackward0>) tensor([ 0.0087, -0.0163]) tensor([-1.9949,  1.9916], grad_fn=<CatBackward0>)\n",
      "torch.Size([50, 1])\n",
      "torch.Size([50, 1])\n",
      "85 tensor(9.9557e-05, grad_fn=<MseLossBackward0>) tensor([ 0.0113, -0.0170]) tensor([-1.9949,  1.9918], grad_fn=<CatBackward0>)\n",
      "torch.Size([50, 1])\n",
      "torch.Size([50, 1])\n",
      "85 tensor(6.6541e-05, grad_fn=<MseLossBackward0>) tensor([ 0.0065, -0.0117]) tensor([-1.9951,  1.9920], grad_fn=<CatBackward0>)\n",
      "torch.Size([50, 1])\n",
      "torch.Size([50, 1])\n",
      "85 tensor(5.6416e-05, grad_fn=<MseLossBackward0>) tensor([ 0.0083, -0.0091]) tensor([-1.9951,  1.9921], grad_fn=<CatBackward0>)\n",
      "torch.Size([50, 1])\n",
      "torch.Size([50, 1])\n",
      "86 tensor(8.0401e-05, grad_fn=<MseLossBackward0>) tensor([ 0.0081, -0.0153]) tensor([-1.9952,  1.9922], grad_fn=<CatBackward0>)\n",
      "torch.Size([50, 1])\n",
      "torch.Size([50, 1])\n",
      "86 tensor(8.7069e-05, grad_fn=<MseLossBackward0>) tensor([ 0.0105, -0.0159]) tensor([-1.9953,  1.9923], grad_fn=<CatBackward0>)\n",
      "torch.Size([50, 1])\n",
      "torch.Size([50, 1])\n",
      "86 tensor(5.8547e-05, grad_fn=<MseLossBackward0>) tensor([ 0.0061, -0.0109]) tensor([-1.9954,  1.9925], grad_fn=<CatBackward0>)\n",
      "torch.Size([50, 1])\n",
      "torch.Size([50, 1])\n",
      "86 tensor(4.9255e-05, grad_fn=<MseLossBackward0>) tensor([ 0.0077, -0.0085]) tensor([-1.9955,  1.9926], grad_fn=<CatBackward0>)\n",
      "torch.Size([50, 1])\n",
      "torch.Size([50, 1])\n",
      "87 tensor(7.0391e-05, grad_fn=<MseLossBackward0>) tensor([ 0.0075, -0.0143]) tensor([-1.9955,  1.9927], grad_fn=<CatBackward0>)\n",
      "torch.Size([50, 1])\n",
      "torch.Size([50, 1])\n",
      "87 tensor(7.6176e-05, grad_fn=<MseLossBackward0>) tensor([ 0.0098, -0.0149]) tensor([-1.9956,  1.9928], grad_fn=<CatBackward0>)\n",
      "torch.Size([50, 1])\n",
      "torch.Size([50, 1])\n"
     ]
    },
    {
     "name": "stdout",
     "output_type": "stream",
     "text": [
      "87 tensor(5.1553e-05, grad_fn=<MseLossBackward0>) tensor([ 0.0057, -0.0103]) tensor([-1.9957,  1.9930], grad_fn=<CatBackward0>)\n",
      "torch.Size([50, 1])\n",
      "torch.Size([50, 1])\n",
      "87 tensor(4.3020e-05, grad_fn=<MseLossBackward0>) tensor([ 0.0072, -0.0079]) tensor([-1.9958,  1.9931], grad_fn=<CatBackward0>)\n",
      "torch.Size([50, 1])\n",
      "torch.Size([50, 1])\n",
      "88 tensor(6.1654e-05, grad_fn=<MseLossBackward0>) tensor([ 0.0070, -0.0133]) tensor([-1.9958,  1.9932], grad_fn=<CatBackward0>)\n",
      "torch.Size([50, 1])\n",
      "torch.Size([50, 1])\n",
      "88 tensor(6.6669e-05, grad_fn=<MseLossBackward0>) tensor([ 0.0091, -0.0139]) tensor([-1.9959,  1.9933], grad_fn=<CatBackward0>)\n",
      "torch.Size([50, 1])\n",
      "torch.Size([50, 1])\n",
      "88 tensor(4.5431e-05, grad_fn=<MseLossBackward0>) tensor([ 0.0053, -0.0096]) tensor([-1.9960,  1.9934], grad_fn=<CatBackward0>)\n",
      "torch.Size([50, 1])\n",
      "torch.Size([50, 1])\n",
      "88 tensor(3.7590e-05, grad_fn=<MseLossBackward0>) tensor([ 0.0067, -0.0074]) tensor([-1.9960,  1.9935], grad_fn=<CatBackward0>)\n",
      "torch.Size([50, 1])\n",
      "torch.Size([50, 1])\n",
      "89 tensor(5.4027e-05, grad_fn=<MseLossBackward0>) tensor([ 0.0065, -0.0125]) tensor([-1.9961,  1.9936], grad_fn=<CatBackward0>)\n",
      "torch.Size([50, 1])\n",
      "torch.Size([50, 1])\n",
      "89 tensor(5.8374e-05, grad_fn=<MseLossBackward0>) tensor([ 0.0085, -0.0130]) tensor([-1.9962,  1.9937], grad_fn=<CatBackward0>)\n",
      "torch.Size([50, 1])\n",
      "torch.Size([50, 1])\n",
      "89 tensor(4.0074e-05, grad_fn=<MseLossBackward0>) tensor([ 0.0050, -0.0090]) tensor([-1.9963,  1.9939], grad_fn=<CatBackward0>)\n",
      "torch.Size([50, 1])\n",
      "torch.Size([50, 1])\n",
      "89 tensor(3.2863e-05, grad_fn=<MseLossBackward0>) tensor([ 0.0062, -0.0069]) tensor([-1.9963,  1.9939], grad_fn=<CatBackward0>)\n",
      "torch.Size([50, 1])\n",
      "torch.Size([50, 1])\n",
      "90 tensor(4.7370e-05, grad_fn=<MseLossBackward0>) tensor([ 0.0061, -0.0117]) tensor([-1.9964,  1.9940], grad_fn=<CatBackward0>)\n",
      "torch.Size([50, 1])\n",
      "torch.Size([50, 1])\n",
      "90 tensor(5.1134e-05, grad_fn=<MseLossBackward0>) tensor([ 0.0080, -0.0122]) tensor([-1.9964,  1.9941], grad_fn=<CatBackward0>)\n",
      "torch.Size([50, 1])\n",
      "torch.Size([50, 1])\n",
      "90 tensor(3.5383e-05, grad_fn=<MseLossBackward0>) tensor([ 0.0047, -0.0085]) tensor([-1.9965,  1.9943], grad_fn=<CatBackward0>)\n",
      "torch.Size([50, 1])\n",
      "torch.Size([50, 1])\n",
      "90 tensor(2.8749e-05, grad_fn=<MseLossBackward0>) tensor([ 0.0058, -0.0064]) tensor([-1.9966,  1.9943], grad_fn=<CatBackward0>)\n",
      "torch.Size([50, 1])\n",
      "torch.Size([50, 1])\n",
      "91 tensor(4.1557e-05, grad_fn=<MseLossBackward0>) tensor([ 0.0057, -0.0109]) tensor([-1.9966,  1.9944], grad_fn=<CatBackward0>)\n",
      "torch.Size([50, 1])\n",
      "torch.Size([50, 1])\n",
      "91 tensor(4.4818e-05, grad_fn=<MseLossBackward0>) tensor([ 0.0074, -0.0114]) tensor([-1.9967,  1.9945], grad_fn=<CatBackward0>)\n",
      "torch.Size([50, 1])\n",
      "torch.Size([50, 1])\n",
      "91 tensor(3.1277e-05, grad_fn=<MseLossBackward0>) tensor([ 0.0044, -0.0079]) tensor([-1.9967,  1.9946], grad_fn=<CatBackward0>)\n",
      "torch.Size([50, 1])\n",
      "torch.Size([50, 1])\n",
      "91 tensor(2.5169e-05, grad_fn=<MseLossBackward0>) tensor([ 0.0054, -0.0060]) tensor([-1.9968,  1.9947], grad_fn=<CatBackward0>)\n",
      "torch.Size([50, 1])\n",
      "torch.Size([50, 1])\n",
      "92 tensor(3.6484e-05, grad_fn=<MseLossBackward0>) tensor([ 0.0053, -0.0102]) tensor([-1.9968,  1.9948], grad_fn=<CatBackward0>)\n",
      "torch.Size([50, 1])\n",
      "torch.Size([50, 1])\n",
      "92 tensor(3.9306e-05, grad_fn=<MseLossBackward0>) tensor([ 0.0069, -0.0106]) tensor([-1.9969,  1.9949], grad_fn=<CatBackward0>)\n",
      "torch.Size([50, 1])\n",
      "torch.Size([50, 1])\n",
      "92 tensor(2.7680e-05, grad_fn=<MseLossBackward0>) tensor([ 0.0041, -0.0074]) tensor([-1.9970,  1.9950], grad_fn=<CatBackward0>)\n",
      "torch.Size([50, 1])\n",
      "torch.Size([50, 1])\n",
      "92 tensor(2.2052e-05, grad_fn=<MseLossBackward0>) tensor([ 0.0050, -0.0056]) tensor([-1.9970,  1.9950], grad_fn=<CatBackward0>)\n",
      "torch.Size([50, 1])\n",
      "torch.Size([50, 1])\n",
      "93 tensor(3.2055e-05, grad_fn=<MseLossBackward0>) tensor([ 0.0049, -0.0095]) tensor([-1.9971,  1.9951], grad_fn=<CatBackward0>)\n",
      "torch.Size([50, 1])\n",
      "torch.Size([50, 1])\n",
      "93 tensor(3.4496e-05, grad_fn=<MseLossBackward0>) tensor([ 0.0064, -0.0099]) tensor([-1.9971,  1.9952], grad_fn=<CatBackward0>)\n",
      "torch.Size([50, 1])\n",
      "torch.Size([50, 1])\n",
      "93 tensor(2.4529e-05, grad_fn=<MseLossBackward0>) tensor([ 0.0038, -0.0070]) tensor([-1.9972,  1.9953], grad_fn=<CatBackward0>)\n",
      "torch.Size([50, 1])\n",
      "torch.Size([50, 1])\n",
      "93 tensor(1.9341e-05, grad_fn=<MseLossBackward0>) tensor([ 0.0047, -0.0052]) tensor([-1.9972,  1.9954], grad_fn=<CatBackward0>)\n",
      "torch.Size([50, 1])\n",
      "torch.Size([50, 1])\n",
      "94 tensor(2.8188e-05, grad_fn=<MseLossBackward0>) tensor([ 0.0046, -0.0089]) tensor([-1.9973,  1.9954], grad_fn=<CatBackward0>)\n",
      "torch.Size([50, 1])\n",
      "torch.Size([50, 1])\n",
      "94 tensor(3.0300e-05, grad_fn=<MseLossBackward0>) tensor([ 0.0060, -0.0093]) tensor([-1.9973,  1.9955], grad_fn=<CatBackward0>)\n",
      "torch.Size([50, 1])\n",
      "torch.Size([50, 1])\n",
      "94 tensor(2.1769e-05, grad_fn=<MseLossBackward0>) tensor([ 0.0036, -0.0066]) tensor([-1.9974,  1.9956], grad_fn=<CatBackward0>)\n",
      "torch.Size([50, 1])\n",
      "torch.Size([50, 1])\n",
      "94 tensor(1.6984e-05, grad_fn=<MseLossBackward0>) tensor([ 0.0044, -0.0049]) tensor([-1.9974,  1.9957], grad_fn=<CatBackward0>)\n",
      "torch.Size([50, 1])\n",
      "torch.Size([50, 1])\n",
      "95 tensor(2.4815e-05, grad_fn=<MseLossBackward0>) tensor([ 0.0043, -0.0083]) tensor([-1.9974,  1.9957], grad_fn=<CatBackward0>)\n",
      "torch.Size([50, 1])\n",
      "torch.Size([50, 1])\n",
      "95 tensor(2.6638e-05, grad_fn=<MseLossBackward0>) tensor([ 0.0056, -0.0087]) tensor([-1.9975,  1.9958], grad_fn=<CatBackward0>)\n",
      "torch.Size([50, 1])\n",
      "torch.Size([50, 1])\n",
      "95 tensor(1.9349e-05, grad_fn=<MseLossBackward0>) tensor([ 0.0033, -0.0061]) tensor([-1.9975,  1.9959], grad_fn=<CatBackward0>)\n",
      "torch.Size([50, 1])\n",
      "torch.Size([50, 1])\n",
      "95 tensor(1.4933e-05, grad_fn=<MseLossBackward0>) tensor([ 0.0040, -0.0045]) tensor([-1.9976,  1.9959], grad_fn=<CatBackward0>)\n",
      "torch.Size([50, 1])\n",
      "torch.Size([50, 1])\n",
      "96 tensor(2.1868e-05, grad_fn=<MseLossBackward0>) tensor([ 0.0040, -0.0078]) tensor([-1.9976,  1.9960], grad_fn=<CatBackward0>)\n",
      "torch.Size([50, 1])\n",
      "torch.Size([50, 1])\n",
      "96 tensor(2.3442e-05, grad_fn=<MseLossBackward0>) tensor([ 0.0052, -0.0081]) tensor([-1.9977,  1.9961], grad_fn=<CatBackward0>)\n",
      "torch.Size([50, 1])\n",
      "torch.Size([50, 1])\n",
      "96 tensor(1.7227e-05, grad_fn=<MseLossBackward0>) tensor([ 0.0031, -0.0058]) tensor([-1.9977,  1.9962], grad_fn=<CatBackward0>)\n",
      "torch.Size([50, 1])\n",
      "torch.Size([50, 1])\n",
      "96 tensor(1.3149e-05, grad_fn=<MseLossBackward0>) tensor([ 0.0038, -0.0042]) tensor([-1.9977,  1.9962], grad_fn=<CatBackward0>)\n",
      "torch.Size([50, 1])\n",
      "torch.Size([50, 1])\n",
      "97 tensor(1.9296e-05, grad_fn=<MseLossBackward0>) tensor([ 0.0037, -0.0073]) tensor([-1.9978,  1.9963], grad_fn=<CatBackward0>)\n",
      "torch.Size([50, 1])\n",
      "torch.Size([50, 1])\n",
      "97 tensor(2.0655e-05, grad_fn=<MseLossBackward0>) tensor([ 0.0049, -0.0076]) tensor([-1.9978,  1.9963], grad_fn=<CatBackward0>)\n",
      "torch.Size([50, 1])\n",
      "torch.Size([50, 1])\n",
      "97 tensor(1.5367e-05, grad_fn=<MseLossBackward0>) tensor([ 0.0029, -0.0054]) tensor([-1.9979,  1.9964], grad_fn=<CatBackward0>)\n",
      "torch.Size([50, 1])\n",
      "torch.Size([50, 1])\n",
      "97 tensor(1.1600e-05, grad_fn=<MseLossBackward0>) tensor([ 0.0035, -0.0039]) tensor([-1.9979,  1.9965], grad_fn=<CatBackward0>)\n",
      "torch.Size([50, 1])\n",
      "torch.Size([50, 1])\n",
      "98 tensor(1.7052e-05, grad_fn=<MseLossBackward0>) tensor([ 0.0034, -0.0068]) tensor([-1.9979,  1.9965], grad_fn=<CatBackward0>)\n",
      "torch.Size([50, 1])\n",
      "torch.Size([50, 1])\n",
      "98 tensor(1.8223e-05, grad_fn=<MseLossBackward0>) tensor([ 0.0045, -0.0071]) tensor([-1.9980,  1.9966], grad_fn=<CatBackward0>)\n",
      "torch.Size([50, 1])\n",
      "torch.Size([50, 1])\n",
      "98 tensor(1.3736e-05, grad_fn=<MseLossBackward0>) tensor([ 0.0028, -0.0051]) tensor([-1.9980,  1.9966], grad_fn=<CatBackward0>)\n",
      "torch.Size([50, 1])\n",
      "torch.Size([50, 1])\n",
      "98 tensor(1.0253e-05, grad_fn=<MseLossBackward0>) tensor([ 0.0033, -0.0036]) tensor([-1.9980,  1.9967], grad_fn=<CatBackward0>)\n",
      "torch.Size([50, 1])\n",
      "torch.Size([50, 1])\n",
      "99 tensor(1.5092e-05, grad_fn=<MseLossBackward0>) tensor([ 0.0032, -0.0064]) tensor([-1.9981,  1.9967], grad_fn=<CatBackward0>)\n",
      "torch.Size([50, 1])\n",
      "torch.Size([50, 1])\n",
      "99 tensor(1.6101e-05, grad_fn=<MseLossBackward0>) tensor([ 0.0042, -0.0066]) tensor([-1.9981,  1.9968], grad_fn=<CatBackward0>)\n",
      "torch.Size([50, 1])\n",
      "torch.Size([50, 1])\n",
      "99 tensor(1.2305e-05, grad_fn=<MseLossBackward0>) tensor([ 0.0026, -0.0048]) tensor([-1.9981,  1.9968], grad_fn=<CatBackward0>)\n",
      "torch.Size([50, 1])\n",
      "torch.Size([50, 1])\n",
      "99 tensor(9.0834e-06, grad_fn=<MseLossBackward0>) tensor([ 0.0030, -0.0034]) tensor([-1.9982,  1.9969], grad_fn=<CatBackward0>)\n"
     ]
    }
   ],
   "source": [
    "model = MLP_Net(user_id=0)\n",
    "\n",
    "lr = 0.01\n",
    "\n",
    "dataloader = DataLoader(MyDataset(datapoints[19][\"features\"], datapoints[19][\"label\"]), batch_size=50, shuffle=False)\n",
    "optimizer = torch.optim.SGD(model.parameters(), lr=0.01)\n",
    "for i in range(100):\n",
    "    for (x, y) in dataloader:\n",
    "        criterion = nn.MSELoss()\n",
    "        optimizer.zero_grad()\n",
    "        yhat = model(x)\n",
    "        print(y.size())\n",
    "        print(yhat.size())\n",
    "        loss = criterion(yhat, y)\n",
    "        \n",
    "        loss.backward()\n",
    "        print(i, loss, grads_to_vector(model.parameters()), parameters_to_vector(model.parameters()))\n",
    "        #optimizer.step()\n",
    "        new_model = parameters_to_vector(model.parameters()) - lr * grads_to_vector(model.parameters())\n",
    "        vector_to_parameters(parameters=model.parameters(), vec=new_model)\n",
    "        #if i % 50 ==0:\n",
    "            #lr *= 0.9\n",
    "            \n",
    "\n",
    "#parameters_to_vector(model.parameters())"
   ]
  },
  {
   "cell_type": "code",
   "execution_count": 11,
   "id": "5eb22da2",
   "metadata": {},
   "outputs": [
    {
     "data": {
      "text/plain": [
       "tensor([-1.9982,  1.9969], grad_fn=<CatBackward0>)"
      ]
     },
     "execution_count": 11,
     "metadata": {},
     "output_type": "execute_result"
    }
   ],
   "source": [
    "parameters_to_vector(model.parameters())"
   ]
  },
  {
   "cell_type": "code",
   "execution_count": 12,
   "id": "52396ca6",
   "metadata": {},
   "outputs": [],
   "source": [
    "class CNN_Net(nn.Module):\n",
    "    def __init__(self):\n",
    "        super(CNN_Net, self).__init__()\n",
    "        self.conv1 = nn.Conv2d(1, 32, kernel_size=5)\n",
    "        self.conv2 = nn.Conv2d(32, 64, kernel_size=5)\n",
    "        self.pool = nn.MaxPool2d(2,2)\n",
    "        self.dropout = nn.Dropout(p=0.2)\n",
    "        self.fc1 = nn.Linear(1024, 512)\n",
    "        self.fc2 = nn.Linear(512, 10)\n",
    "\n",
    "    def forward(self, x):\n",
    "        x = self.pool(F.relu(self.conv1(x)))\n",
    "        x = self.pool(F.relu(self.conv2(x)))\n",
    "        x = self.dropout(x)\n",
    "        x = torch.flatten(x, 1)\n",
    "        x = F.relu(self.fc1(x))\n",
    "        output = self.fc2(x)\n",
    "        return output"
   ]
  },
  {
   "cell_type": "code",
   "execution_count": 13,
   "id": "cb5fe42b",
   "metadata": {},
   "outputs": [],
   "source": [
    "class ClientUpdate(object):\n",
    "    def __init__(self, dataset, batchSize, alpha, lamda, epochs, projection_list, projected_weights):\n",
    "        self.train_loader = DataLoader(MyDataset(dataset[\"features\"], dataset[\"label\"]), batch_size=batchSize, shuffle=True)\n",
    "        #self.learning_rate = learning_rate\n",
    "        self.epochs = epochs\n",
    "        self.batchSize = batchSize\n",
    "\n",
    "    def train(self, model):\n",
    "        criterion = nn.MSELoss()\n",
    "        optimizer = torch.optim.SGD(model.parameters(), lr=1e-3, momentum=0.5)\n",
    "\n",
    "        e_loss = []\n",
    "        for epoch in range(1, self.epochs+1):\n",
    "            train_loss = 0\n",
    "            model.train()\n",
    "            for i, (data, labels) in zip(range(1), self.train_loader):\n",
    "                data, labels = data, labels\n",
    "                optimizer.zero_grad() \n",
    "                output = model(data)  \n",
    "                loss = criterion(output, labels)\n",
    "                #loss += mu/2 * torch.norm(client_param.data - server_param.data)**2\n",
    "                loss.backward()\n",
    "                grads = grads_to_vector(model.parameters())\n",
    "                #optimizer.step()\n",
    "                train_loss += loss.item()*data.size(0)\n",
    "                weights = parameters_to_vector(model.parameters())\n",
    "                mat_vec_sum = torch.zeros_like(weights)\n",
    "                for j in G.neighbors(model.user_id):\n",
    "                    mat_vec_sum = torch.add(mat_vec_sum, torch.matmul(torch.transpose(projection_list[model.user_id][j], 0, 1), \n",
    "                                                         projected_weights[j][model.user_id] - projected_weights[model.user_id][j]))\n",
    "                \n",
    "                model_update = parameters_to_vector(model.parameters()) - alpha * (grads + lamda * mat_vec_sum)\n",
    "                \n",
    "            vector_to_parameters(parameters=model.parameters(), vec=model_update)\n",
    "                \n",
    "\n",
    "            train_loss = train_loss/self.batchSize#len(self.train_loader.dataset) \n",
    "            e_loss.append(train_loss)\n",
    "\n",
    "        total_loss = e_loss#sum(e_loss)/len(e_loss)\n",
    "\n",
    "        return model.state_dict(), total_loss"
   ]
  },
  {
   "cell_type": "code",
   "execution_count": 14,
   "id": "2eeef5b5",
   "metadata": {},
   "outputs": [],
   "source": [
    "# Preparing projection matrices\n",
    "models = [MLP_Net(user_id=i) for i in range(no_users)]\n",
    "#temp = MLP_Net()\n",
    "projection_list = []\n",
    "projected_weights = []\n",
    "\n",
    "def update_ProjWeight(projection_list, projected_weights, first_run=True):\n",
    "    #projected_weights = []\n",
    "    for i in range(no_users):\n",
    "        neighbors_mat = []\n",
    "        neighbors_weights = []\n",
    "        for j in range(no_users):\n",
    "            if j in G.neighbors(i):\n",
    "                with torch.no_grad():\n",
    "                    if first_run == True:\n",
    "                        row, column = parameters_to_vector(models[j].parameters()).size()[0], parameters_to_vector(models[i].parameters()).size()[0]\n",
    "                        mat = torch.zeros((row, column))\n",
    "                        mat.fill_diagonal_(1.0 + 1.0 * float(np.random.randn(1)))\n",
    "                        neighbors_mat.append(mat)\n",
    "                        neighbors_weights.append(torch.matmul(mat, parameters_to_vector(models[j].parameters())))\n",
    "                    else:\n",
    "                        neighbors_weights.append(torch.matmul(projection_list[j][i], parameters_to_vector(models[j].parameters())))\n",
    "            else:\n",
    "                neighbors_mat.append(0)\n",
    "                neighbors_weights.append(0)\n",
    "        if first_run == True:\n",
    "            projection_list.append(neighbors_mat)\n",
    "        projected_weights.append(neighbors_weights)\n",
    "\n",
    "update_ProjWeight(projection_list, projected_weights)\n",
    "\n"
   ]
  },
  {
   "cell_type": "code",
   "execution_count": 15,
   "id": "f733ee68",
   "metadata": {},
   "outputs": [
    {
     "name": "stdout",
     "output_type": "stream",
     "text": [
      "[0, tensor([[1.6434, 0.0000],\n",
      "        [0.0000, 1.6434]]), tensor([[-0.6775,  0.0000],\n",
      "        [ 0.0000, -0.6775]]), tensor([[0.2411, 0.0000],\n",
      "        [0.0000, 0.2411]]), tensor([[1.8230, 0.0000],\n",
      "        [0.0000, 1.8230]]), tensor([[1.3884, 0.0000],\n",
      "        [0.0000, 1.3884]]), tensor([[1.7704, 0.0000],\n",
      "        [0.0000, 1.7704]]), 0, tensor([[-0.1809,  0.0000],\n",
      "        [ 0.0000, -0.1809]]), tensor([[0.6027, 0.0000],\n",
      "        [0.0000, 0.6027]]), 0, 0, 0, 0, 0, 0, 0, 0, 0, 0]\n"
     ]
    }
   ],
   "source": [
    "print(projection_list[0])"
   ]
  },
  {
   "cell_type": "code",
   "execution_count": 16,
   "id": "5f6059eb",
   "metadata": {},
   "outputs": [],
   "source": [
    "def testing(model, dataset, bs, criterion): \n",
    "    test_loss = 0\n",
    "    correct = 0\n",
    "    test_loader = DataLoader(MyDataset(dataset[\"features\"], dataset[\"label\"]), batch_size=bs)\n",
    "    l = len(test_loader)\n",
    "    model.eval()\n",
    "    for data, labels in test_loader:\n",
    "        data, labels = data, labels\n",
    "        output = model(data)\n",
    "        loss = criterion(output, labels)\n",
    "        test_loss += loss.item()*data.size(0)\n",
    "        #_, pred = torch.max(output, 1)\n",
    "        #correct += pred.eq(labels.data.view_as(pred)).sum().item()\n",
    "    \n",
    "    test_loss /= len(test_loader.dataset)\n",
    "    \n",
    "    return test_loss"
   ]
  },
  {
   "cell_type": "code",
   "execution_count": 17,
   "id": "f172f558",
   "metadata": {},
   "outputs": [],
   "source": [
    "def rel_error(model):\n",
    "    return (torch.norm(parameters_to_vector(model.parameters()) - datapoints[model.user_id]['exact_weights']) / torch.norm(datapoints[model.user_id]['exact_weights'])).detach()"
   ]
  },
  {
   "cell_type": "code",
   "execution_count": 18,
   "id": "6e38148f",
   "metadata": {},
   "outputs": [
    {
     "data": {
      "text/plain": [
       "tensor(2.8284, dtype=torch.float64)"
      ]
     },
     "execution_count": 18,
     "metadata": {},
     "output_type": "execute_result"
    }
   ],
   "source": [
    "torch.norm(datapoints[model.user_id]['exact_weights'])"
   ]
  },
  {
   "cell_type": "code",
   "execution_count": 19,
   "id": "1d1a33e3",
   "metadata": {},
   "outputs": [
    {
     "name": "stdout",
     "output_type": "stream",
     "text": [
      "tensor([-0.4948,  0.1582])\n"
     ]
    },
    {
     "data": {
      "text/plain": [
       "tensor([-0.9895,  0.3165], grad_fn=<CatBackward0>)"
      ]
     },
     "execution_count": 19,
     "metadata": {},
     "output_type": "execute_result"
    }
   ],
   "source": [
    "model = MLP_Net(user_id=0)\n",
    "\n",
    "from torch.nn.utils import parameters_to_vector, vector_to_parameters\n",
    "\n",
    "with torch.no_grad():    \n",
    "    params = parameters_to_vector(model.parameters())\n",
    "\n",
    "    print(params)\n",
    "\n",
    "params *= 2.\n",
    "\n",
    "vector_to_parameters(parameters=model.parameters(), vec=params)\n",
    "\n",
    "parameters_to_vector(model.parameters())\n",
    "\n",
    "\n",
    "\n"
   ]
  },
  {
   "cell_type": "code",
   "execution_count": 20,
   "id": "71472693",
   "metadata": {},
   "outputs": [
    {
     "name": "stderr",
     "output_type": "stream",
     "text": [
      "  0%|          | 1/2000 [00:00<03:29,  9.55it/s]"
     ]
    },
    {
     "name": "stdout",
     "output_type": "stream",
     "text": [
      "Training_loss 8.87526,   Relative Error 1.14112\n"
     ]
    },
    {
     "name": "stderr",
     "output_type": "stream",
     "text": [
      "\r",
      "  0%|          | 3/2000 [00:00<02:52, 11.55it/s]"
     ]
    },
    {
     "name": "stdout",
     "output_type": "stream",
     "text": [
      "Training_loss 8.84790,   Relative Error 1.13935\n",
      "Training_loss 8.80522,   Relative Error 1.13668\n",
      "Training_loss 8.78304,   Relative Error 1.13521\n"
     ]
    },
    {
     "name": "stderr",
     "output_type": "stream",
     "text": [
      "\r",
      "  0%|          | 5/2000 [00:00<02:54, 11.40it/s]"
     ]
    },
    {
     "name": "stdout",
     "output_type": "stream",
     "text": [
      "Training_loss 8.75723,   Relative Error 1.13353\n",
      "Training_loss 8.73376,   Relative Error 1.13198\n"
     ]
    },
    {
     "name": "stderr",
     "output_type": "stream",
     "text": [
      "\r",
      "  0%|          | 7/2000 [00:00<02:54, 11.44it/s]"
     ]
    },
    {
     "name": "stdout",
     "output_type": "stream",
     "text": [
      "Training_loss 8.69203,   Relative Error 1.12930\n"
     ]
    },
    {
     "name": "stderr",
     "output_type": "stream",
     "text": [
      "\r",
      "  0%|          | 9/2000 [00:00<02:51, 11.59it/s]"
     ]
    },
    {
     "name": "stdout",
     "output_type": "stream",
     "text": [
      "Training_loss 8.66784,   Relative Error 1.12774\n",
      "Training_loss 8.65956,   Relative Error 1.12721\n",
      "Training_loss 8.64057,   Relative Error 1.12598\n"
     ]
    },
    {
     "name": "stderr",
     "output_type": "stream",
     "text": [
      "\r",
      "  1%|          | 11/2000 [00:00<02:51, 11.58it/s]"
     ]
    },
    {
     "name": "stdout",
     "output_type": "stream",
     "text": [
      "Training_loss 8.60336,   Relative Error 1.12361\n",
      "Training_loss 8.58259,   Relative Error 1.12226\n"
     ]
    },
    {
     "name": "stderr",
     "output_type": "stream",
     "text": [
      "\r",
      "  1%|          | 13/2000 [00:01<02:48, 11.82it/s]"
     ]
    },
    {
     "name": "stdout",
     "output_type": "stream",
     "text": [
      "Training_loss 8.54953,   Relative Error 1.12011\n"
     ]
    },
    {
     "name": "stderr",
     "output_type": "stream",
     "text": [
      "\r",
      "  1%|          | 15/2000 [00:01<02:52, 11.53it/s]"
     ]
    },
    {
     "name": "stdout",
     "output_type": "stream",
     "text": [
      "Training_loss 8.52173,   Relative Error 1.11830\n",
      "Training_loss 8.47444,   Relative Error 1.11517\n",
      "Training_loss 8.44324,   Relative Error 1.11313\n"
     ]
    },
    {
     "name": "stderr",
     "output_type": "stream",
     "text": [
      "\r",
      "  1%|          | 17/2000 [00:01<02:52, 11.50it/s]"
     ]
    },
    {
     "name": "stdout",
     "output_type": "stream",
     "text": [
      "Training_loss 8.41328,   Relative Error 1.11115\n",
      "Training_loss 8.39091,   Relative Error 1.10966\n"
     ]
    },
    {
     "name": "stderr",
     "output_type": "stream",
     "text": [
      "\r",
      "  1%|          | 19/2000 [00:01<02:59, 11.04it/s]"
     ]
    },
    {
     "name": "stdout",
     "output_type": "stream",
     "text": [
      "Training_loss 8.37538,   Relative Error 1.10869\n",
      "Training_loss 8.35130,   Relative Error 1.10711\n"
     ]
    },
    {
     "name": "stderr",
     "output_type": "stream",
     "text": [
      "\r",
      "  1%|          | 21/2000 [00:01<03:09, 10.43it/s]"
     ]
    },
    {
     "name": "stdout",
     "output_type": "stream",
     "text": [
      "Training_loss 8.32885,   Relative Error 1.10561\n",
      "Training_loss 8.30229,   Relative Error 1.10387\n"
     ]
    },
    {
     "name": "stderr",
     "output_type": "stream",
     "text": [
      "\r",
      "  1%|          | 23/2000 [00:02<03:06, 10.58it/s]"
     ]
    },
    {
     "name": "stdout",
     "output_type": "stream",
     "text": [
      "Training_loss 8.27994,   Relative Error 1.10237\n"
     ]
    },
    {
     "name": "stderr",
     "output_type": "stream",
     "text": [
      "\r",
      "  1%|▏         | 25/2000 [00:02<02:58, 11.06it/s]"
     ]
    },
    {
     "name": "stdout",
     "output_type": "stream",
     "text": [
      "Training_loss 8.25134,   Relative Error 1.10045\n",
      "Training_loss 8.23782,   Relative Error 1.09953\n",
      "Training_loss 8.21364,   Relative Error 1.09794\n"
     ]
    },
    {
     "name": "stderr",
     "output_type": "stream",
     "text": [
      "\r",
      "  1%|▏         | 27/2000 [00:02<02:58, 11.05it/s]"
     ]
    },
    {
     "name": "stdout",
     "output_type": "stream",
     "text": [
      "Training_loss 8.19676,   Relative Error 1.09681\n",
      "Training_loss 8.16802,   Relative Error 1.09485\n"
     ]
    },
    {
     "name": "stderr",
     "output_type": "stream",
     "text": [
      "\r",
      "  1%|▏         | 29/2000 [00:02<02:55, 11.24it/s]"
     ]
    },
    {
     "name": "stdout",
     "output_type": "stream",
     "text": [
      "Training_loss 8.15565,   Relative Error 1.09401\n"
     ]
    },
    {
     "name": "stderr",
     "output_type": "stream",
     "text": [
      "\r",
      "  2%|▏         | 31/2000 [00:02<02:56, 11.18it/s]"
     ]
    },
    {
     "name": "stdout",
     "output_type": "stream",
     "text": [
      "Training_loss 8.10694,   Relative Error 1.09070\n",
      "Training_loss 8.07629,   Relative Error 1.08865\n",
      "Training_loss 8.04075,   Relative Error 1.08629\n"
     ]
    },
    {
     "name": "stderr",
     "output_type": "stream",
     "text": [
      "\r",
      "  2%|▏         | 33/2000 [00:02<02:57, 11.07it/s]"
     ]
    },
    {
     "name": "stdout",
     "output_type": "stream",
     "text": [
      "Training_loss 8.02058,   Relative Error 1.08493\n",
      "Training_loss 7.99006,   Relative Error 1.08281\n"
     ]
    },
    {
     "name": "stderr",
     "output_type": "stream",
     "text": [
      "  2%|▏         | 36/2000 [00:03<04:59,  6.55it/s]"
     ]
    },
    {
     "name": "stdout",
     "output_type": "stream",
     "text": [
      "Training_loss 7.94249,   Relative Error 1.07957\n",
      "Training_loss 7.91786,   Relative Error 1.07791\n"
     ]
    },
    {
     "name": "stderr",
     "output_type": "stream",
     "text": [
      "  2%|▏         | 38/2000 [00:03<04:43,  6.93it/s]"
     ]
    },
    {
     "name": "stdout",
     "output_type": "stream",
     "text": [
      "Training_loss 7.89342,   Relative Error 1.07620\n",
      "Training_loss 7.87190,   Relative Error 1.07471\n"
     ]
    },
    {
     "name": "stderr",
     "output_type": "stream",
     "text": [
      "  2%|▏         | 41/2000 [00:04<03:55,  8.30it/s]"
     ]
    },
    {
     "name": "stdout",
     "output_type": "stream",
     "text": [
      "Training_loss 7.84299,   Relative Error 1.07280\n",
      "Training_loss 7.80436,   Relative Error 1.07018\n",
      "Training_loss 7.77748,   Relative Error 1.06840\n"
     ]
    },
    {
     "name": "stderr",
     "output_type": "stream",
     "text": [
      "\r",
      "  2%|▏         | 43/2000 [00:04<03:21,  9.73it/s]"
     ]
    },
    {
     "name": "stdout",
     "output_type": "stream",
     "text": [
      "Training_loss 7.75856,   Relative Error 1.06709\n",
      "Training_loss 7.74307,   Relative Error 1.06600\n",
      "Training_loss 7.72230,   Relative Error 1.06456\n"
     ]
    },
    {
     "name": "stderr",
     "output_type": "stream",
     "text": [
      "  2%|▏         | 47/2000 [00:04<02:52, 11.34it/s]"
     ]
    },
    {
     "name": "stdout",
     "output_type": "stream",
     "text": [
      "Training_loss 7.70628,   Relative Error 1.06345\n",
      "Training_loss 7.67454,   Relative Error 1.06127\n",
      "Training_loss 7.65664,   Relative Error 1.06005\n"
     ]
    },
    {
     "name": "stderr",
     "output_type": "stream",
     "text": [
      "\r",
      "  2%|▏         | 49/2000 [00:04<02:43, 11.97it/s]"
     ]
    },
    {
     "name": "stdout",
     "output_type": "stream",
     "text": [
      "Training_loss 7.63680,   Relative Error 1.05866\n",
      "Training_loss 7.60779,   Relative Error 1.05664\n",
      "Training_loss 7.56876,   Relative Error 1.05387\n"
     ]
    },
    {
     "name": "stderr",
     "output_type": "stream",
     "text": [
      "  3%|▎         | 53/2000 [00:05<02:35, 12.49it/s]"
     ]
    },
    {
     "name": "stdout",
     "output_type": "stream",
     "text": [
      "Training_loss 7.55453,   Relative Error 1.05286\n",
      "Training_loss 7.53202,   Relative Error 1.05133\n",
      "Training_loss 7.50612,   Relative Error 1.04953\n"
     ]
    },
    {
     "name": "stderr",
     "output_type": "stream",
     "text": [
      "\r",
      "  3%|▎         | 55/2000 [00:05<02:34, 12.59it/s]"
     ]
    },
    {
     "name": "stdout",
     "output_type": "stream",
     "text": [
      "Training_loss 7.48118,   Relative Error 1.04778\n",
      "Training_loss 7.46739,   Relative Error 1.04684\n",
      "Training_loss 7.44034,   Relative Error 1.04498\n"
     ]
    },
    {
     "name": "stderr",
     "output_type": "stream",
     "text": [
      "  3%|▎         | 59/2000 [00:05<02:37, 12.35it/s]"
     ]
    },
    {
     "name": "stdout",
     "output_type": "stream",
     "text": [
      "Training_loss 7.41367,   Relative Error 1.04313\n",
      "Training_loss 7.39470,   Relative Error 1.04182\n",
      "Training_loss 7.35006,   Relative Error 1.03858\n"
     ]
    },
    {
     "name": "stderr",
     "output_type": "stream",
     "text": [
      "\r",
      "  3%|▎         | 61/2000 [00:05<02:51, 11.33it/s]"
     ]
    },
    {
     "name": "stdout",
     "output_type": "stream",
     "text": [
      "Training_loss 7.32808,   Relative Error 1.03703\n",
      "Training_loss 7.30978,   Relative Error 1.03575\n"
     ]
    },
    {
     "name": "stderr",
     "output_type": "stream",
     "text": [
      "\r",
      "  3%|▎         | 63/2000 [00:06<03:05, 10.46it/s]"
     ]
    },
    {
     "name": "stdout",
     "output_type": "stream",
     "text": [
      "Training_loss 7.27630,   Relative Error 1.03336\n",
      "Training_loss 7.25516,   Relative Error 1.03188\n",
      "Training_loss 7.21488,   Relative Error 1.02908\n"
     ]
    },
    {
     "name": "stderr",
     "output_type": "stream",
     "text": [
      "  3%|▎         | 67/2000 [00:06<02:50, 11.32it/s]"
     ]
    },
    {
     "name": "stdout",
     "output_type": "stream",
     "text": [
      "Training_loss 7.18814,   Relative Error 1.02725\n",
      "Training_loss 7.17767,   Relative Error 1.02649\n",
      "Training_loss 7.16577,   Relative Error 1.02564\n"
     ]
    },
    {
     "name": "stderr",
     "output_type": "stream",
     "text": [
      "\r",
      "  3%|▎         | 69/2000 [00:06<02:41, 11.94it/s]"
     ]
    },
    {
     "name": "stdout",
     "output_type": "stream",
     "text": [
      "Training_loss 7.13498,   Relative Error 1.02347\n",
      "Training_loss 7.11491,   Relative Error 1.02206\n",
      "Training_loss 7.09102,   Relative Error 1.02036\n"
     ]
    },
    {
     "name": "stderr",
     "output_type": "stream",
     "text": [
      "  4%|▎         | 73/2000 [00:07<03:01, 10.63it/s]"
     ]
    },
    {
     "name": "stdout",
     "output_type": "stream",
     "text": [
      "Training_loss 7.06211,   Relative Error 1.01831\n",
      "Training_loss 7.04013,   Relative Error 1.01675\n",
      "Training_loss 7.00785,   Relative Error 1.01441\n"
     ]
    },
    {
     "name": "stderr",
     "output_type": "stream",
     "text": [
      "\r",
      "  4%|▍         | 75/2000 [00:07<03:00, 10.65it/s]"
     ]
    },
    {
     "name": "stdout",
     "output_type": "stream",
     "text": [
      "Training_loss 6.98230,   Relative Error 1.01257\n",
      "Training_loss 6.95835,   Relative Error 1.01084\n",
      "Training_loss 6.92355,   Relative Error 1.00833\n"
     ]
    },
    {
     "name": "stderr",
     "output_type": "stream",
     "text": [
      "  4%|▍         | 79/2000 [00:07<02:55, 10.93it/s]"
     ]
    },
    {
     "name": "stdout",
     "output_type": "stream",
     "text": [
      "Training_loss 6.88774,   Relative Error 1.00576\n",
      "Training_loss 6.84080,   Relative Error 1.00229\n",
      "Training_loss 6.80922,   Relative Error 1.00000\n"
     ]
    },
    {
     "name": "stderr",
     "output_type": "stream",
     "text": [
      "\r",
      "  4%|▍         | 81/2000 [00:07<02:49, 11.32it/s]"
     ]
    },
    {
     "name": "stdout",
     "output_type": "stream",
     "text": [
      "Training_loss 6.79340,   Relative Error 0.99885\n",
      "Training_loss 6.76408,   Relative Error 0.99670\n",
      "Training_loss 6.72994,   Relative Error 0.99412\n"
     ]
    },
    {
     "name": "stderr",
     "output_type": "stream",
     "text": [
      "  4%|▍         | 85/2000 [00:08<02:45, 11.60it/s]"
     ]
    },
    {
     "name": "stdout",
     "output_type": "stream",
     "text": [
      "Training_loss 6.70627,   Relative Error 0.99235\n",
      "Training_loss 6.68220,   Relative Error 0.99054\n",
      "Training_loss 6.65851,   Relative Error 0.98876\n"
     ]
    },
    {
     "name": "stderr",
     "output_type": "stream",
     "text": [
      "\r",
      "  4%|▍         | 87/2000 [00:08<02:41, 11.81it/s]"
     ]
    },
    {
     "name": "stdout",
     "output_type": "stream",
     "text": [
      "Training_loss 6.64313,   Relative Error 0.98759\n",
      "Training_loss 6.62330,   Relative Error 0.98612\n"
     ]
    },
    {
     "name": "stderr",
     "output_type": "stream",
     "text": [
      "\r",
      "  4%|▍         | 89/2000 [00:08<03:00, 10.61it/s]"
     ]
    },
    {
     "name": "stdout",
     "output_type": "stream",
     "text": [
      "Training_loss 6.59555,   Relative Error 0.98411\n",
      "Training_loss 6.56866,   Relative Error 0.98207\n",
      "Training_loss 6.54780,   Relative Error 0.98050\n"
     ]
    },
    {
     "name": "stderr",
     "output_type": "stream",
     "text": [
      "  5%|▍         | 93/2000 [00:08<03:00, 10.57it/s]"
     ]
    },
    {
     "name": "stdout",
     "output_type": "stream",
     "text": [
      "Training_loss 6.53029,   Relative Error 0.97918\n",
      "Training_loss 6.51302,   Relative Error 0.97790\n",
      "Training_loss 6.48843,   Relative Error 0.97604\n"
     ]
    },
    {
     "name": "stderr",
     "output_type": "stream",
     "text": [
      "\r",
      "  5%|▍         | 95/2000 [00:08<02:58, 10.69it/s]"
     ]
    },
    {
     "name": "stdout",
     "output_type": "stream",
     "text": [
      "Training_loss 6.46972,   Relative Error 0.97462\n",
      "Training_loss 6.43198,   Relative Error 0.97184\n",
      "Training_loss 6.41116,   Relative Error 0.97026\n"
     ]
    },
    {
     "name": "stderr",
     "output_type": "stream",
     "text": [
      "  5%|▍         | 99/2000 [00:09<02:53, 10.98it/s]"
     ]
    },
    {
     "name": "stdout",
     "output_type": "stream",
     "text": [
      "Training_loss 6.39440,   Relative Error 0.96901\n",
      "Training_loss 6.38009,   Relative Error 0.96796\n",
      "Training_loss 6.34505,   Relative Error 0.96527\n"
     ]
    },
    {
     "name": "stderr",
     "output_type": "stream",
     "text": [
      "\r",
      "  5%|▌         | 101/2000 [00:09<02:48, 11.27it/s]"
     ]
    },
    {
     "name": "stdout",
     "output_type": "stream",
     "text": [
      "Training_loss 6.31486,   Relative Error 0.96300\n",
      "Training_loss 6.30247,   Relative Error 0.96205\n",
      "Training_loss 6.27256,   Relative Error 0.95972\n"
     ]
    },
    {
     "name": "stderr",
     "output_type": "stream",
     "text": [
      "  5%|▌         | 105/2000 [00:09<02:42, 11.67it/s]"
     ]
    },
    {
     "name": "stdout",
     "output_type": "stream",
     "text": [
      "Training_loss 6.24771,   Relative Error 0.95781\n",
      "Training_loss 6.21479,   Relative Error 0.95534\n",
      "Training_loss 6.18422,   Relative Error 0.95297\n"
     ]
    },
    {
     "name": "stderr",
     "output_type": "stream",
     "text": [
      "\r",
      "  5%|▌         | 107/2000 [00:10<03:04, 10.24it/s]"
     ]
    },
    {
     "name": "stdout",
     "output_type": "stream",
     "text": [
      "Training_loss 6.16731,   Relative Error 0.95163\n",
      "Training_loss 6.14816,   Relative Error 0.95016\n",
      "Training_loss 6.12874,   Relative Error 0.94866\n"
     ]
    },
    {
     "name": "stderr",
     "output_type": "stream",
     "text": [
      "\r",
      "  5%|▌         | 109/2000 [00:10<03:05, 10.20it/s]"
     ]
    },
    {
     "name": "stdout",
     "output_type": "stream",
     "text": [
      "Training_loss 6.10713,   Relative Error 0.94701\n",
      "Training_loss 6.08323,   Relative Error 0.94516\n"
     ]
    },
    {
     "name": "stderr",
     "output_type": "stream",
     "text": [
      "  6%|▌         | 113/2000 [00:10<03:04, 10.25it/s]"
     ]
    },
    {
     "name": "stdout",
     "output_type": "stream",
     "text": [
      "Training_loss 6.05429,   Relative Error 0.94287\n",
      "Training_loss 6.04058,   Relative Error 0.94181\n",
      "Training_loss 6.02367,   Relative Error 0.94047\n"
     ]
    },
    {
     "name": "stderr",
     "output_type": "stream",
     "text": [
      "\r",
      "  6%|▌         | 115/2000 [00:10<02:58, 10.56it/s]"
     ]
    },
    {
     "name": "stdout",
     "output_type": "stream",
     "text": [
      "Training_loss 6.00244,   Relative Error 0.93879\n",
      "Training_loss 5.98058,   Relative Error 0.93711\n",
      "Training_loss 5.96181,   Relative Error 0.93558\n"
     ]
    },
    {
     "name": "stderr",
     "output_type": "stream",
     "text": [
      "  6%|▌         | 119/2000 [00:11<02:44, 11.46it/s]"
     ]
    },
    {
     "name": "stdout",
     "output_type": "stream",
     "text": [
      "Training_loss 5.93589,   Relative Error 0.93352\n",
      "Training_loss 5.92324,   Relative Error 0.93252\n",
      "Training_loss 5.90364,   Relative Error 0.93095\n"
     ]
    },
    {
     "name": "stderr",
     "output_type": "stream",
     "text": [
      "\r",
      "  6%|▌         | 121/2000 [00:11<02:45, 11.34it/s]"
     ]
    },
    {
     "name": "stdout",
     "output_type": "stream",
     "text": [
      "Training_loss 5.87999,   Relative Error 0.92909\n",
      "Training_loss 5.86722,   Relative Error 0.92809\n",
      "Training_loss 5.84960,   Relative Error 0.92671\n"
     ]
    },
    {
     "name": "stderr",
     "output_type": "stream",
     "text": [
      "  6%|▋         | 125/2000 [00:11<02:48, 11.13it/s]"
     ]
    },
    {
     "name": "stdout",
     "output_type": "stream",
     "text": [
      "Training_loss 5.82908,   Relative Error 0.92508\n",
      "Training_loss 5.81701,   Relative Error 0.92410\n",
      "Training_loss 5.79581,   Relative Error 0.92241\n"
     ]
    },
    {
     "name": "stderr",
     "output_type": "stream",
     "text": [
      "\r",
      "  6%|▋         | 127/2000 [00:11<02:40, 11.64it/s]"
     ]
    },
    {
     "name": "stdout",
     "output_type": "stream",
     "text": [
      "Training_loss 5.76154,   Relative Error 0.91969\n",
      "Training_loss 5.73958,   Relative Error 0.91792\n",
      "Training_loss 5.71059,   Relative Error 0.91559\n"
     ]
    },
    {
     "name": "stderr",
     "output_type": "stream",
     "text": [
      "  7%|▋         | 131/2000 [00:12<02:53, 10.80it/s]"
     ]
    },
    {
     "name": "stdout",
     "output_type": "stream",
     "text": [
      "Training_loss 5.69378,   Relative Error 0.91425\n",
      "Training_loss 5.68022,   Relative Error 0.91316\n",
      "Training_loss 5.65640,   Relative Error 0.91130\n"
     ]
    },
    {
     "name": "stderr",
     "output_type": "stream",
     "text": [
      "\r",
      "  7%|▋         | 133/2000 [00:12<02:46, 11.19it/s]"
     ]
    },
    {
     "name": "stdout",
     "output_type": "stream",
     "text": [
      "Training_loss 5.63848,   Relative Error 0.90983\n",
      "Training_loss 5.62530,   Relative Error 0.90873\n",
      "Training_loss 5.60766,   Relative Error 0.90731\n"
     ]
    },
    {
     "name": "stderr",
     "output_type": "stream",
     "text": [
      "  7%|▋         | 137/2000 [00:12<02:53, 10.76it/s]"
     ]
    },
    {
     "name": "stdout",
     "output_type": "stream",
     "text": [
      "Training_loss 5.59275,   Relative Error 0.90612\n",
      "Training_loss 5.57315,   Relative Error 0.90457\n",
      "Training_loss 5.55189,   Relative Error 0.90278\n"
     ]
    },
    {
     "name": "stderr",
     "output_type": "stream",
     "text": [
      "\r",
      "  7%|▋         | 139/2000 [00:13<02:47, 11.13it/s]"
     ]
    },
    {
     "name": "stdout",
     "output_type": "stream",
     "text": [
      "Training_loss 5.53816,   Relative Error 0.90167\n",
      "Training_loss 5.52701,   Relative Error 0.90075\n",
      "Training_loss 5.50561,   Relative Error 0.89899\n"
     ]
    },
    {
     "name": "stderr",
     "output_type": "stream",
     "text": [
      "  7%|▋         | 143/2000 [00:13<02:45, 11.25it/s]"
     ]
    },
    {
     "name": "stdout",
     "output_type": "stream",
     "text": [
      "Training_loss 5.49389,   Relative Error 0.89804\n",
      "Training_loss 5.47669,   Relative Error 0.89662\n",
      "Training_loss 5.46425,   Relative Error 0.89562\n"
     ]
    },
    {
     "name": "stderr",
     "output_type": "stream",
     "text": [
      "\r",
      "  7%|▋         | 145/2000 [00:13<02:44, 11.26it/s]"
     ]
    },
    {
     "name": "stdout",
     "output_type": "stream",
     "text": [
      "Training_loss 5.44863,   Relative Error 0.89435\n",
      "Training_loss 5.44073,   Relative Error 0.89370\n",
      "Training_loss 5.41928,   Relative Error 0.89194\n"
     ]
    },
    {
     "name": "stderr",
     "output_type": "stream",
     "text": [
      "  7%|▋         | 149/2000 [00:13<02:52, 10.75it/s]"
     ]
    },
    {
     "name": "stdout",
     "output_type": "stream",
     "text": [
      "Training_loss 5.39356,   Relative Error 0.88982\n",
      "Training_loss 5.37767,   Relative Error 0.88853\n",
      "Training_loss 5.35947,   Relative Error 0.88700\n"
     ]
    },
    {
     "name": "stderr",
     "output_type": "stream",
     "text": [
      "\r",
      "  8%|▊         | 151/2000 [00:14<02:53, 10.69it/s]"
     ]
    },
    {
     "name": "stdout",
     "output_type": "stream",
     "text": [
      "Training_loss 5.34632,   Relative Error 0.88595\n",
      "Training_loss 5.32487,   Relative Error 0.88415\n"
     ]
    },
    {
     "name": "stderr",
     "output_type": "stream",
     "text": [
      "\r",
      "  8%|▊         | 153/2000 [00:14<02:59, 10.31it/s]"
     ]
    },
    {
     "name": "stdout",
     "output_type": "stream",
     "text": [
      "Training_loss 5.30495,   Relative Error 0.88253\n",
      "Training_loss 5.28630,   Relative Error 0.88097\n",
      "Training_loss 5.24926,   Relative Error 0.87785\n"
     ]
    },
    {
     "name": "stderr",
     "output_type": "stream",
     "text": [
      "  8%|▊         | 157/2000 [00:14<03:00, 10.19it/s]"
     ]
    },
    {
     "name": "stdout",
     "output_type": "stream",
     "text": [
      "Training_loss 5.23189,   Relative Error 0.87641\n",
      "Training_loss 5.21380,   Relative Error 0.87493\n",
      "Training_loss 5.19074,   Relative Error 0.87302\n"
     ]
    },
    {
     "name": "stderr",
     "output_type": "stream",
     "text": [
      "\r",
      "  8%|▊         | 159/2000 [00:14<03:03, 10.04it/s]"
     ]
    },
    {
     "name": "stdout",
     "output_type": "stream",
     "text": [
      "Training_loss 5.18012,   Relative Error 0.87214\n",
      "Training_loss 5.16437,   Relative Error 0.87084\n"
     ]
    },
    {
     "name": "stderr",
     "output_type": "stream",
     "text": [
      "\r",
      "  8%|▊         | 161/2000 [00:15<03:09,  9.69it/s]"
     ]
    },
    {
     "name": "stdout",
     "output_type": "stream",
     "text": [
      "Training_loss 5.14495,   Relative Error 0.86922\n",
      "Training_loss 5.13115,   Relative Error 0.86807\n"
     ]
    },
    {
     "name": "stderr",
     "output_type": "stream",
     "text": [
      "  8%|▊         | 164/2000 [00:15<03:04,  9.94it/s]"
     ]
    },
    {
     "name": "stdout",
     "output_type": "stream",
     "text": [
      "Training_loss 5.11000,   Relative Error 0.86621\n",
      "Training_loss 5.09513,   Relative Error 0.86492\n",
      "Training_loss 5.07904,   Relative Error 0.86356\n"
     ]
    },
    {
     "name": "stderr",
     "output_type": "stream",
     "text": [
      "\r",
      "  8%|▊         | 166/2000 [00:15<03:01, 10.09it/s]"
     ]
    },
    {
     "name": "stdout",
     "output_type": "stream",
     "text": [
      "Training_loss 5.05521,   Relative Error 0.86153\n",
      "Training_loss 5.03946,   Relative Error 0.86017\n",
      "Training_loss 5.02315,   Relative Error 0.85881\n"
     ]
    },
    {
     "name": "stderr",
     "output_type": "stream",
     "text": [
      "  8%|▊         | 169/2000 [00:15<03:11,  9.56it/s]"
     ]
    },
    {
     "name": "stdout",
     "output_type": "stream",
     "text": [
      "Training_loss 5.00418,   Relative Error 0.85718\n",
      "Training_loss 4.99583,   Relative Error 0.85644\n"
     ]
    },
    {
     "name": "stderr",
     "output_type": "stream",
     "text": [
      "\r",
      "  9%|▊         | 171/2000 [00:16<03:08,  9.70it/s]"
     ]
    },
    {
     "name": "stdout",
     "output_type": "stream",
     "text": [
      "Training_loss 4.97548,   Relative Error 0.85471\n",
      "Training_loss 4.96172,   Relative Error 0.85349\n",
      "Training_loss 4.93957,   Relative Error 0.85158\n"
     ]
    },
    {
     "name": "stderr",
     "output_type": "stream",
     "text": [
      "  9%|▉         | 175/2000 [00:16<02:50, 10.68it/s]"
     ]
    },
    {
     "name": "stdout",
     "output_type": "stream",
     "text": [
      "Training_loss 4.92141,   Relative Error 0.85003\n",
      "Training_loss 4.90361,   Relative Error 0.84853\n",
      "Training_loss 4.88463,   Relative Error 0.84689\n"
     ]
    },
    {
     "name": "stderr",
     "output_type": "stream",
     "text": [
      "\r",
      "  9%|▉         | 177/2000 [00:16<02:50, 10.71it/s]"
     ]
    },
    {
     "name": "stdout",
     "output_type": "stream",
     "text": [
      "Training_loss 4.86548,   Relative Error 0.84523\n",
      "Training_loss 4.84252,   Relative Error 0.84322\n",
      "Training_loss 4.82971,   Relative Error 0.84213\n"
     ]
    },
    {
     "name": "stderr",
     "output_type": "stream",
     "text": [
      "  9%|▉         | 181/2000 [00:17<02:55, 10.39it/s]"
     ]
    },
    {
     "name": "stdout",
     "output_type": "stream",
     "text": [
      "Training_loss 4.80523,   Relative Error 0.83995\n",
      "Training_loss 4.79328,   Relative Error 0.83894\n",
      "Training_loss 4.78331,   Relative Error 0.83806\n"
     ]
    },
    {
     "name": "stderr",
     "output_type": "stream",
     "text": [
      "\r",
      "  9%|▉         | 183/2000 [00:17<02:49, 10.74it/s]"
     ]
    },
    {
     "name": "stdout",
     "output_type": "stream",
     "text": [
      "Training_loss 4.76633,   Relative Error 0.83659\n",
      "Training_loss 4.73950,   Relative Error 0.83424\n",
      "Training_loss 4.71967,   Relative Error 0.83249\n"
     ]
    },
    {
     "name": "stderr",
     "output_type": "stream",
     "text": [
      "  9%|▉         | 187/2000 [00:17<02:40, 11.31it/s]"
     ]
    },
    {
     "name": "stdout",
     "output_type": "stream",
     "text": [
      "Training_loss 4.70650,   Relative Error 0.83132\n",
      "Training_loss 4.68950,   Relative Error 0.82983\n",
      "Training_loss 4.66932,   Relative Error 0.82808\n"
     ]
    },
    {
     "name": "stderr",
     "output_type": "stream",
     "text": [
      "\r",
      "  9%|▉         | 189/2000 [00:17<02:42, 11.16it/s]"
     ]
    },
    {
     "name": "stdout",
     "output_type": "stream",
     "text": [
      "Training_loss 4.66084,   Relative Error 0.82735\n",
      "Training_loss 4.63940,   Relative Error 0.82544\n"
     ]
    },
    {
     "name": "stderr",
     "output_type": "stream",
     "text": [
      "\r",
      " 10%|▉         | 191/2000 [00:18<02:51, 10.54it/s]"
     ]
    },
    {
     "name": "stdout",
     "output_type": "stream",
     "text": [
      "Training_loss 4.62068,   Relative Error 0.82380\n",
      "Training_loss 4.60796,   Relative Error 0.82268\n",
      "Training_loss 4.58916,   Relative Error 0.82102\n"
     ]
    },
    {
     "name": "stderr",
     "output_type": "stream",
     "text": [
      " 10%|▉         | 195/2000 [00:18<02:49, 10.64it/s]"
     ]
    },
    {
     "name": "stdout",
     "output_type": "stream",
     "text": [
      "Training_loss 4.58407,   Relative Error 0.82056\n",
      "Training_loss 4.56926,   Relative Error 0.81923\n",
      "Training_loss 4.56021,   Relative Error 0.81840\n"
     ]
    },
    {
     "name": "stderr",
     "output_type": "stream",
     "text": [
      "\r",
      " 10%|▉         | 197/2000 [00:18<02:47, 10.77it/s]"
     ]
    },
    {
     "name": "stdout",
     "output_type": "stream",
     "text": [
      "Training_loss 4.54659,   Relative Error 0.81717\n",
      "Training_loss 4.53282,   Relative Error 0.81594\n",
      "Training_loss 4.51296,   Relative Error 0.81412\n"
     ]
    },
    {
     "name": "stderr",
     "output_type": "stream",
     "text": [
      " 10%|█         | 201/2000 [00:18<02:49, 10.62it/s]"
     ]
    },
    {
     "name": "stdout",
     "output_type": "stream",
     "text": [
      "Training_loss 4.50030,   Relative Error 0.81295\n",
      "Training_loss 4.48220,   Relative Error 0.81129\n",
      "Training_loss 4.45995,   Relative Error 0.80923\n"
     ]
    },
    {
     "name": "stderr",
     "output_type": "stream",
     "text": [
      "\r",
      " 10%|█         | 203/2000 [00:19<02:52, 10.39it/s]"
     ]
    },
    {
     "name": "stdout",
     "output_type": "stream",
     "text": [
      "Training_loss 4.44271,   Relative Error 0.80766\n",
      "Training_loss 4.42442,   Relative Error 0.80602\n",
      "Training_loss 4.41594,   Relative Error 0.80521\n"
     ]
    },
    {
     "name": "stderr",
     "output_type": "stream",
     "text": [
      " 10%|█         | 207/2000 [00:19<02:38, 11.30it/s]"
     ]
    },
    {
     "name": "stdout",
     "output_type": "stream",
     "text": [
      "Training_loss 4.39494,   Relative Error 0.80329\n",
      "Training_loss 4.37720,   Relative Error 0.80170\n",
      "Training_loss 4.37034,   Relative Error 0.80107\n"
     ]
    },
    {
     "name": "stderr",
     "output_type": "stream",
     "text": [
      "\r",
      " 10%|█         | 209/2000 [00:19<02:33, 11.64it/s]"
     ]
    },
    {
     "name": "stdout",
     "output_type": "stream",
     "text": [
      "Training_loss 4.35555,   Relative Error 0.79973\n",
      "Training_loss 4.33596,   Relative Error 0.79789\n",
      "Training_loss 4.32863,   Relative Error 0.79723\n"
     ]
    },
    {
     "name": "stderr",
     "output_type": "stream",
     "text": [
      " 11%|█         | 213/2000 [00:19<02:35, 11.48it/s]"
     ]
    },
    {
     "name": "stdout",
     "output_type": "stream",
     "text": [
      "Training_loss 4.32320,   Relative Error 0.79677\n",
      "Training_loss 4.31232,   Relative Error 0.79578\n",
      "Training_loss 4.29302,   Relative Error 0.79397\n"
     ]
    },
    {
     "name": "stderr",
     "output_type": "stream",
     "text": [
      "\r",
      " 11%|█         | 215/2000 [00:20<02:42, 11.00it/s]"
     ]
    },
    {
     "name": "stdout",
     "output_type": "stream",
     "text": [
      "Training_loss 4.28190,   Relative Error 0.79298\n",
      "Training_loss 4.27468,   Relative Error 0.79232\n",
      "Training_loss 4.25765,   Relative Error 0.79074\n"
     ]
    },
    {
     "name": "stderr",
     "output_type": "stream",
     "text": [
      " 11%|█         | 219/2000 [00:20<02:39, 11.19it/s]"
     ]
    },
    {
     "name": "stdout",
     "output_type": "stream",
     "text": [
      "Training_loss 4.24488,   Relative Error 0.78954\n",
      "Training_loss 4.23567,   Relative Error 0.78869\n",
      "Training_loss 4.22755,   Relative Error 0.78793\n"
     ]
    },
    {
     "name": "stderr",
     "output_type": "stream",
     "text": [
      "\r",
      " 11%|█         | 221/2000 [00:20<03:47,  7.81it/s]"
     ]
    },
    {
     "name": "stdout",
     "output_type": "stream",
     "text": [
      "Training_loss 4.21324,   Relative Error 0.78657\n",
      "Training_loss 4.20310,   Relative Error 0.78559\n"
     ]
    },
    {
     "name": "stderr",
     "output_type": "stream",
     "text": [
      " 11%|█         | 224/2000 [00:21<03:28,  8.52it/s]"
     ]
    },
    {
     "name": "stdout",
     "output_type": "stream",
     "text": [
      "Training_loss 4.18883,   Relative Error 0.78426\n",
      "Training_loss 4.17905,   Relative Error 0.78337\n",
      "Training_loss 4.16518,   Relative Error 0.78201\n"
     ]
    },
    {
     "name": "stderr",
     "output_type": "stream",
     "text": [
      " 11%|█▏        | 227/2000 [00:21<02:57,  9.98it/s]"
     ]
    },
    {
     "name": "stdout",
     "output_type": "stream",
     "text": [
      "Training_loss 4.15621,   Relative Error 0.78117\n",
      "Training_loss 4.13482,   Relative Error 0.77917\n",
      "Training_loss 4.12039,   Relative Error 0.77780\n"
     ]
    },
    {
     "name": "stderr",
     "output_type": "stream",
     "text": [
      "\r",
      " 11%|█▏        | 229/2000 [00:21<02:44, 10.76it/s]"
     ]
    },
    {
     "name": "stdout",
     "output_type": "stream",
     "text": [
      "Training_loss 4.11303,   Relative Error 0.77712\n",
      "Training_loss 4.09977,   Relative Error 0.77588\n",
      "Training_loss 4.08463,   Relative Error 0.77444\n"
     ]
    },
    {
     "name": "stderr",
     "output_type": "stream",
     "text": [
      " 12%|█▏        | 233/2000 [00:22<02:31, 11.63it/s]"
     ]
    },
    {
     "name": "stdout",
     "output_type": "stream",
     "text": [
      "Training_loss 4.07081,   Relative Error 0.77315\n",
      "Training_loss 4.06505,   Relative Error 0.77260\n",
      "Training_loss 4.05496,   Relative Error 0.77167\n"
     ]
    },
    {
     "name": "stderr",
     "output_type": "stream",
     "text": [
      "\r",
      " 12%|█▏        | 235/2000 [00:22<02:36, 11.31it/s]"
     ]
    },
    {
     "name": "stdout",
     "output_type": "stream",
     "text": [
      "Training_loss 4.04852,   Relative Error 0.77104\n",
      "Training_loss 4.02926,   Relative Error 0.76924\n",
      "Training_loss 4.02080,   Relative Error 0.76844\n"
     ]
    },
    {
     "name": "stderr",
     "output_type": "stream",
     "text": [
      " 12%|█▏        | 239/2000 [00:22<02:42, 10.85it/s]"
     ]
    },
    {
     "name": "stdout",
     "output_type": "stream",
     "text": [
      "Training_loss 4.01250,   Relative Error 0.76768\n",
      "Training_loss 4.00702,   Relative Error 0.76715\n",
      "Training_loss 3.99492,   Relative Error 0.76598\n"
     ]
    },
    {
     "name": "stderr",
     "output_type": "stream",
     "text": [
      "\r",
      " 12%|█▏        | 241/2000 [00:22<02:54, 10.09it/s]"
     ]
    },
    {
     "name": "stdout",
     "output_type": "stream",
     "text": [
      "Training_loss 3.98740,   Relative Error 0.76523\n",
      "Training_loss 3.97588,   Relative Error 0.76411\n"
     ]
    },
    {
     "name": "stderr",
     "output_type": "stream",
     "text": [
      "\r",
      " 12%|█▏        | 243/2000 [00:23<03:13,  9.06it/s]"
     ]
    },
    {
     "name": "stdout",
     "output_type": "stream",
     "text": [
      "Training_loss 3.96000,   Relative Error 0.76259\n",
      "Training_loss 3.94934,   Relative Error 0.76156\n"
     ]
    },
    {
     "name": "stderr",
     "output_type": "stream",
     "text": [
      " 12%|█▏        | 246/2000 [00:23<03:03,  9.54it/s]"
     ]
    },
    {
     "name": "stdout",
     "output_type": "stream",
     "text": [
      "Training_loss 3.93040,   Relative Error 0.75973\n",
      "Training_loss 3.91815,   Relative Error 0.75853\n",
      "Training_loss 3.91269,   Relative Error 0.75799\n"
     ]
    },
    {
     "name": "stderr",
     "output_type": "stream",
     "text": [
      " 12%|█▏        | 249/2000 [00:23<02:45, 10.61it/s]"
     ]
    },
    {
     "name": "stdout",
     "output_type": "stream",
     "text": [
      "Training_loss 3.90179,   Relative Error 0.75694\n",
      "Training_loss 3.89093,   Relative Error 0.75589\n",
      "Training_loss 3.87713,   Relative Error 0.75456\n"
     ]
    },
    {
     "name": "stderr",
     "output_type": "stream",
     "text": [
      "\r",
      " 13%|█▎        | 251/2000 [00:23<02:43, 10.72it/s]"
     ]
    },
    {
     "name": "stdout",
     "output_type": "stream",
     "text": [
      "Training_loss 3.86128,   Relative Error 0.75305\n",
      "Training_loss 3.85073,   Relative Error 0.75202\n",
      "Training_loss 3.84373,   Relative Error 0.75134\n"
     ]
    },
    {
     "name": "stderr",
     "output_type": "stream",
     "text": [
      "\r",
      " 13%|█▎        | 253/2000 [00:23<02:37, 11.11it/s]"
     ]
    },
    {
     "name": "stdout",
     "output_type": "stream",
     "text": [
      "Training_loss 3.82869,   Relative Error 0.74982\n",
      "Training_loss 3.81075,   Relative Error 0.74805\n"
     ]
    },
    {
     "name": "stderr",
     "output_type": "stream",
     "text": [
      " 13%|█▎        | 256/2000 [00:24<03:26,  8.44it/s]"
     ]
    },
    {
     "name": "stdout",
     "output_type": "stream",
     "text": [
      "Training_loss 3.79646,   Relative Error 0.74663\n",
      "Training_loss 3.78762,   Relative Error 0.74573\n",
      "Training_loss 3.77969,   Relative Error 0.74496\n"
     ]
    },
    {
     "name": "stderr",
     "output_type": "stream",
     "text": [
      " 13%|█▎        | 260/2000 [00:24<03:03,  9.50it/s]"
     ]
    },
    {
     "name": "stdout",
     "output_type": "stream",
     "text": [
      "Training_loss 3.77015,   Relative Error 0.74399\n",
      "Training_loss 3.76204,   Relative Error 0.74319\n",
      "Training_loss 3.75649,   Relative Error 0.74264\n"
     ]
    },
    {
     "name": "stderr",
     "output_type": "stream",
     "text": [
      "\r",
      " 13%|█▎        | 262/2000 [00:25<02:48, 10.31it/s]"
     ]
    },
    {
     "name": "stdout",
     "output_type": "stream",
     "text": [
      "Training_loss 3.74755,   Relative Error 0.74175\n",
      "Training_loss 3.73851,   Relative Error 0.74085\n",
      "Training_loss 3.73434,   Relative Error 0.74044\n"
     ]
    },
    {
     "name": "stderr",
     "output_type": "stream",
     "text": [
      " 13%|█▎        | 266/2000 [00:25<02:32, 11.35it/s]"
     ]
    },
    {
     "name": "stdout",
     "output_type": "stream",
     "text": [
      "Training_loss 3.72708,   Relative Error 0.73971\n",
      "Training_loss 3.71424,   Relative Error 0.73845\n",
      "Training_loss 3.70607,   Relative Error 0.73762\n"
     ]
    },
    {
     "name": "stderr",
     "output_type": "stream",
     "text": [
      "\r",
      " 13%|█▎        | 268/2000 [00:25<02:32, 11.33it/s]"
     ]
    },
    {
     "name": "stdout",
     "output_type": "stream",
     "text": [
      "Training_loss 3.68737,   Relative Error 0.73575\n",
      "Training_loss 3.67298,   Relative Error 0.73434\n",
      "Training_loss 3.65019,   Relative Error 0.73203\n"
     ]
    },
    {
     "name": "stderr",
     "output_type": "stream",
     "text": [
      "\r",
      " 14%|█▎        | 270/2000 [00:25<02:32, 11.33it/s]"
     ]
    },
    {
     "name": "stdout",
     "output_type": "stream",
     "text": [
      "Training_loss 3.63502,   Relative Error 0.73048\n",
      "Training_loss 3.62739,   Relative Error 0.72967\n"
     ]
    },
    {
     "name": "stderr",
     "output_type": "stream",
     "text": [
      "\r",
      " 14%|█▎        | 272/2000 [00:25<02:44, 10.52it/s]"
     ]
    },
    {
     "name": "stdout",
     "output_type": "stream",
     "text": [
      "Training_loss 3.61157,   Relative Error 0.72809\n",
      "Training_loss 3.60085,   Relative Error 0.72698\n"
     ]
    },
    {
     "name": "stderr",
     "output_type": "stream",
     "text": [
      " 14%|█▍        | 276/2000 [00:26<02:48, 10.25it/s]"
     ]
    },
    {
     "name": "stdout",
     "output_type": "stream",
     "text": [
      "Training_loss 3.59107,   Relative Error 0.72597\n",
      "Training_loss 3.58188,   Relative Error 0.72502\n",
      "Training_loss 3.56867,   Relative Error 0.72369\n"
     ]
    },
    {
     "name": "stderr",
     "output_type": "stream",
     "text": [
      "\r",
      " 14%|█▍        | 278/2000 [00:26<02:52,  9.97it/s]"
     ]
    },
    {
     "name": "stdout",
     "output_type": "stream",
     "text": [
      "Training_loss 3.55693,   Relative Error 0.72252\n",
      "Training_loss 3.54643,   Relative Error 0.72143\n",
      "Training_loss 3.53257,   Relative Error 0.72001\n"
     ]
    },
    {
     "name": "stderr",
     "output_type": "stream",
     "text": [
      " 14%|█▍        | 282/2000 [00:26<02:43, 10.54it/s]"
     ]
    },
    {
     "name": "stdout",
     "output_type": "stream",
     "text": [
      "Training_loss 3.52504,   Relative Error 0.71926\n",
      "Training_loss 3.51057,   Relative Error 0.71776\n",
      "Training_loss 3.50515,   Relative Error 0.71719\n"
     ]
    },
    {
     "name": "stderr",
     "output_type": "stream",
     "text": [
      "\r",
      " 14%|█▍        | 284/2000 [00:27<02:38, 10.81it/s]"
     ]
    },
    {
     "name": "stdout",
     "output_type": "stream",
     "text": [
      "Training_loss 3.49531,   Relative Error 0.71618\n",
      "Training_loss 3.48098,   Relative Error 0.71474\n",
      "Training_loss 3.46782,   Relative Error 0.71340\n"
     ]
    },
    {
     "name": "stderr",
     "output_type": "stream",
     "text": [
      " 14%|█▍        | 288/2000 [00:27<02:37, 10.90it/s]"
     ]
    },
    {
     "name": "stdout",
     "output_type": "stream",
     "text": [
      "Training_loss 3.46131,   Relative Error 0.71272\n",
      "Training_loss 3.45146,   Relative Error 0.71173\n",
      "Training_loss 3.44369,   Relative Error 0.71094\n"
     ]
    },
    {
     "name": "stderr",
     "output_type": "stream",
     "text": [
      "\r",
      " 14%|█▍        | 290/2000 [00:27<02:45, 10.35it/s]"
     ]
    },
    {
     "name": "stdout",
     "output_type": "stream",
     "text": [
      "Training_loss 3.43377,   Relative Error 0.70994\n",
      "Training_loss 3.42432,   Relative Error 0.70895\n"
     ]
    },
    {
     "name": "stderr",
     "output_type": "stream",
     "text": [
      "\r",
      " 15%|█▍        | 292/2000 [00:27<02:46, 10.27it/s]"
     ]
    },
    {
     "name": "stdout",
     "output_type": "stream",
     "text": [
      "Training_loss 3.41230,   Relative Error 0.70771\n",
      "Training_loss 3.40570,   Relative Error 0.70702\n"
     ]
    },
    {
     "name": "stderr",
     "output_type": "stream",
     "text": [
      "\r",
      " 15%|█▍        | 294/2000 [00:28<02:44, 10.37it/s]"
     ]
    },
    {
     "name": "stdout",
     "output_type": "stream",
     "text": [
      "Training_loss 3.39150,   Relative Error 0.70556\n",
      "Training_loss 3.38212,   Relative Error 0.70456\n",
      "Training_loss 3.36982,   Relative Error 0.70326\n"
     ]
    },
    {
     "name": "stderr",
     "output_type": "stream",
     "text": [
      " 15%|█▍        | 298/2000 [00:28<02:30, 11.31it/s]"
     ]
    },
    {
     "name": "stdout",
     "output_type": "stream",
     "text": [
      "Training_loss 3.36108,   Relative Error 0.70238\n",
      "Training_loss 3.35240,   Relative Error 0.70152\n",
      "Training_loss 3.34505,   Relative Error 0.70071\n"
     ]
    },
    {
     "name": "stderr",
     "output_type": "stream",
     "text": [
      "\r",
      " 15%|█▌        | 300/2000 [00:28<02:42, 10.48it/s]"
     ]
    },
    {
     "name": "stdout",
     "output_type": "stream",
     "text": [
      "Training_loss 3.34088,   Relative Error 0.70029\n",
      "Training_loss 3.33636,   Relative Error 0.69981\n"
     ]
    },
    {
     "name": "stderr",
     "output_type": "stream",
     "text": [
      "\r",
      " 15%|█▌        | 302/2000 [00:28<02:43, 10.38it/s]"
     ]
    },
    {
     "name": "stdout",
     "output_type": "stream",
     "text": [
      "Training_loss 3.32882,   Relative Error 0.69900\n",
      "Training_loss 3.32495,   Relative Error 0.69861\n",
      "Training_loss 3.31952,   Relative Error 0.69803\n"
     ]
    },
    {
     "name": "stderr",
     "output_type": "stream",
     "text": [
      " 15%|█▌        | 306/2000 [00:29<02:32, 11.13it/s]"
     ]
    },
    {
     "name": "stdout",
     "output_type": "stream",
     "text": [
      "Training_loss 3.31452,   Relative Error 0.69751\n",
      "Training_loss 3.29192,   Relative Error 0.69508\n",
      "Training_loss 3.28512,   Relative Error 0.69436\n"
     ]
    },
    {
     "name": "stderr",
     "output_type": "stream",
     "text": [
      "\r",
      " 15%|█▌        | 308/2000 [00:29<02:59,  9.41it/s]"
     ]
    },
    {
     "name": "stdout",
     "output_type": "stream",
     "text": [
      "Training_loss 3.27666,   Relative Error 0.69348\n",
      "Training_loss 3.27218,   Relative Error 0.69299\n"
     ]
    },
    {
     "name": "stderr",
     "output_type": "stream",
     "text": [
      "\r",
      " 15%|█▌        | 309/2000 [00:29<04:11,  6.72it/s]"
     ]
    },
    {
     "name": "stdout",
     "output_type": "stream",
     "text": [
      "Training_loss 3.26174,   Relative Error 0.69189\n"
     ]
    },
    {
     "name": "stderr",
     "output_type": "stream",
     "text": [
      "\r",
      " 16%|█▌        | 310/2000 [00:29<04:38,  6.07it/s]"
     ]
    },
    {
     "name": "stdout",
     "output_type": "stream",
     "text": [
      "Training_loss 3.25306,   Relative Error 0.69096\n"
     ]
    },
    {
     "name": "stderr",
     "output_type": "stream",
     "text": [
      " 16%|█▌        | 312/2000 [00:30<05:18,  5.31it/s]"
     ]
    },
    {
     "name": "stdout",
     "output_type": "stream",
     "text": [
      "Training_loss 3.24685,   Relative Error 0.69034\n",
      "Training_loss 3.23893,   Relative Error 0.68951\n"
     ]
    },
    {
     "name": "stderr",
     "output_type": "stream",
     "text": [
      " 16%|█▌        | 314/2000 [00:30<04:55,  5.70it/s]"
     ]
    },
    {
     "name": "stdout",
     "output_type": "stream",
     "text": [
      "Training_loss 3.22021,   Relative Error 0.68750\n",
      "Training_loss 3.21228,   Relative Error 0.68667\n"
     ]
    },
    {
     "name": "stderr",
     "output_type": "stream",
     "text": [
      " 16%|█▌        | 317/2000 [00:30<03:17,  8.51it/s]"
     ]
    },
    {
     "name": "stdout",
     "output_type": "stream",
     "text": [
      "Training_loss 3.20532,   Relative Error 0.68592\n",
      "Training_loss 3.19277,   Relative Error 0.68461\n",
      "Training_loss 3.18890,   Relative Error 0.68420\n"
     ]
    },
    {
     "name": "stderr",
     "output_type": "stream",
     "text": [
      " 16%|█▌        | 319/2000 [00:31<03:38,  7.68it/s]"
     ]
    },
    {
     "name": "stdout",
     "output_type": "stream",
     "text": [
      "Training_loss 3.18179,   Relative Error 0.68344\n",
      "Training_loss 3.17977,   Relative Error 0.68323\n"
     ]
    },
    {
     "name": "stderr",
     "output_type": "stream",
     "text": [
      " 16%|█▌        | 321/2000 [00:31<03:56,  7.09it/s]"
     ]
    },
    {
     "name": "stdout",
     "output_type": "stream",
     "text": [
      "Training_loss 3.17452,   Relative Error 0.68266\n",
      "Training_loss 3.16269,   Relative Error 0.68139\n"
     ]
    },
    {
     "name": "stderr",
     "output_type": "stream",
     "text": [
      " 16%|█▌        | 323/2000 [00:31<03:41,  7.56it/s]"
     ]
    },
    {
     "name": "stdout",
     "output_type": "stream",
     "text": [
      "Training_loss 3.14756,   Relative Error 0.67976\n",
      "Training_loss 3.14262,   Relative Error 0.67921\n"
     ]
    },
    {
     "name": "stderr",
     "output_type": "stream",
     "text": [
      " 16%|█▋        | 326/2000 [00:32<03:04,  9.07it/s]"
     ]
    },
    {
     "name": "stdout",
     "output_type": "stream",
     "text": [
      "Training_loss 3.13232,   Relative Error 0.67811\n",
      "Training_loss 3.12537,   Relative Error 0.67735\n",
      "Training_loss 3.12104,   Relative Error 0.67688\n"
     ]
    },
    {
     "name": "stderr",
     "output_type": "stream",
     "text": [
      "\r",
      " 16%|█▋        | 328/2000 [00:32<02:53,  9.62it/s]"
     ]
    },
    {
     "name": "stdout",
     "output_type": "stream",
     "text": [
      "Training_loss 3.11370,   Relative Error 0.67608\n",
      "Training_loss 3.10310,   Relative Error 0.67492\n",
      "Training_loss 3.09298,   Relative Error 0.67379\n"
     ]
    },
    {
     "name": "stderr",
     "output_type": "stream",
     "text": [
      "\r",
      " 16%|█▋        | 330/2000 [00:32<02:47,  9.96it/s]"
     ]
    },
    {
     "name": "stdout",
     "output_type": "stream",
     "text": [
      "Training_loss 3.07993,   Relative Error 0.67236\n",
      "Training_loss 3.06868,   Relative Error 0.67113\n"
     ]
    },
    {
     "name": "stderr",
     "output_type": "stream",
     "text": [
      " 17%|█▋        | 333/2000 [00:32<02:51,  9.74it/s]"
     ]
    },
    {
     "name": "stdout",
     "output_type": "stream",
     "text": [
      "Training_loss 3.05645,   Relative Error 0.66979\n",
      "Training_loss 3.04939,   Relative Error 0.66904\n"
     ]
    },
    {
     "name": "stderr",
     "output_type": "stream",
     "text": [
      " 17%|█▋        | 335/2000 [00:33<03:04,  9.03it/s]"
     ]
    },
    {
     "name": "stdout",
     "output_type": "stream",
     "text": [
      "Training_loss 3.04011,   Relative Error 0.66801\n",
      "Training_loss 3.03350,   Relative Error 0.66728\n"
     ]
    },
    {
     "name": "stderr",
     "output_type": "stream",
     "text": [
      "\r",
      " 17%|█▋        | 337/2000 [00:33<02:53,  9.57it/s]"
     ]
    },
    {
     "name": "stdout",
     "output_type": "stream",
     "text": [
      "Training_loss 3.02552,   Relative Error 0.66642\n",
      "Training_loss 3.01726,   Relative Error 0.66550\n",
      "Training_loss 3.01223,   Relative Error 0.66495\n"
     ]
    },
    {
     "name": "stderr",
     "output_type": "stream",
     "text": [
      " 17%|█▋        | 341/2000 [00:33<02:32, 10.90it/s]"
     ]
    },
    {
     "name": "stdout",
     "output_type": "stream",
     "text": [
      "Training_loss 3.00262,   Relative Error 0.66386\n",
      "Training_loss 2.99338,   Relative Error 0.66289\n",
      "Training_loss 2.98926,   Relative Error 0.66244\n"
     ]
    },
    {
     "name": "stderr",
     "output_type": "stream",
     "text": [
      "\r",
      " 17%|█▋        | 343/2000 [00:33<02:27, 11.22it/s]"
     ]
    },
    {
     "name": "stdout",
     "output_type": "stream",
     "text": [
      "Training_loss 2.98654,   Relative Error 0.66214\n",
      "Training_loss 2.98199,   Relative Error 0.66161\n",
      "Training_loss 2.97336,   Relative Error 0.66064\n"
     ]
    },
    {
     "name": "stderr",
     "output_type": "stream",
     "text": [
      " 17%|█▋        | 347/2000 [00:34<02:21, 11.67it/s]"
     ]
    },
    {
     "name": "stdout",
     "output_type": "stream",
     "text": [
      "Training_loss 2.96750,   Relative Error 0.65998\n",
      "Training_loss 2.96261,   Relative Error 0.65942\n",
      "Training_loss 2.95134,   Relative Error 0.65817\n"
     ]
    },
    {
     "name": "stderr",
     "output_type": "stream",
     "text": [
      "\r",
      " 17%|█▋        | 349/2000 [00:34<02:19, 11.83it/s]"
     ]
    },
    {
     "name": "stdout",
     "output_type": "stream",
     "text": [
      "Training_loss 2.94080,   Relative Error 0.65701\n",
      "Training_loss 2.92728,   Relative Error 0.65550\n"
     ]
    },
    {
     "name": "stderr",
     "output_type": "stream",
     "text": [
      "\r",
      " 18%|█▊        | 351/2000 [00:34<02:32, 10.81it/s]"
     ]
    },
    {
     "name": "stdout",
     "output_type": "stream",
     "text": [
      "Training_loss 2.92306,   Relative Error 0.65503\n",
      "Training_loss 2.91178,   Relative Error 0.65380\n",
      "Training_loss 2.90258,   Relative Error 0.65276\n"
     ]
    },
    {
     "name": "stderr",
     "output_type": "stream",
     "text": [
      " 18%|█▊        | 354/2000 [00:35<03:37,  7.58it/s]"
     ]
    },
    {
     "name": "stdout",
     "output_type": "stream",
     "text": [
      "Training_loss 2.89463,   Relative Error 0.65186\n",
      "Training_loss 2.88805,   Relative Error 0.65114\n"
     ]
    },
    {
     "name": "stderr",
     "output_type": "stream",
     "text": [
      " 18%|█▊        | 356/2000 [00:35<04:37,  5.93it/s]"
     ]
    },
    {
     "name": "stdout",
     "output_type": "stream",
     "text": [
      "Training_loss 2.87894,   Relative Error 0.65008\n",
      "Training_loss 2.87284,   Relative Error 0.64937\n"
     ]
    },
    {
     "name": "stderr",
     "output_type": "stream",
     "text": [
      " 18%|█▊        | 358/2000 [00:35<04:19,  6.32it/s]"
     ]
    },
    {
     "name": "stdout",
     "output_type": "stream",
     "text": [
      "Training_loss 2.86786,   Relative Error 0.64880\n",
      "Training_loss 2.85655,   Relative Error 0.64751\n"
     ]
    },
    {
     "name": "stderr",
     "output_type": "stream",
     "text": [
      " 18%|█▊        | 360/2000 [00:36<03:52,  7.07it/s]"
     ]
    },
    {
     "name": "stdout",
     "output_type": "stream",
     "text": [
      "Training_loss 2.84378,   Relative Error 0.64607\n",
      "Training_loss 2.83561,   Relative Error 0.64514\n"
     ]
    },
    {
     "name": "stderr",
     "output_type": "stream",
     "text": [
      " 18%|█▊        | 362/2000 [00:36<03:33,  7.68it/s]"
     ]
    },
    {
     "name": "stdout",
     "output_type": "stream",
     "text": [
      "Training_loss 2.82818,   Relative Error 0.64430\n",
      "Training_loss 2.82204,   Relative Error 0.64361\n",
      "Training_loss 2.80856,   Relative Error 0.64207\n"
     ]
    },
    {
     "name": "stderr",
     "output_type": "stream",
     "text": [
      " 18%|█▊        | 365/2000 [00:36<03:23,  8.02it/s]"
     ]
    },
    {
     "name": "stdout",
     "output_type": "stream",
     "text": [
      "Training_loss 2.80143,   Relative Error 0.64125\n",
      "Training_loss 2.79848,   Relative Error 0.64090\n",
      "Training_loss 2.78893,   Relative Error 0.63984\n"
     ]
    },
    {
     "name": "stderr",
     "output_type": "stream",
     "text": [
      " 18%|█▊        | 369/2000 [00:36<02:41, 10.09it/s]"
     ]
    },
    {
     "name": "stdout",
     "output_type": "stream",
     "text": [
      "Training_loss 2.78328,   Relative Error 0.63920\n",
      "Training_loss 2.77830,   Relative Error 0.63866\n",
      "Training_loss 2.77289,   Relative Error 0.63808\n"
     ]
    },
    {
     "name": "stderr",
     "output_type": "stream",
     "text": [
      " 19%|█▊        | 372/2000 [00:37<02:50,  9.55it/s]"
     ]
    },
    {
     "name": "stdout",
     "output_type": "stream",
     "text": [
      "Training_loss 2.76835,   Relative Error 0.63755\n",
      "Training_loss 2.75664,   Relative Error 0.63618\n",
      "Training_loss 2.74914,   Relative Error 0.63534\n"
     ]
    },
    {
     "name": "stderr",
     "output_type": "stream",
     "text": [
      "\r",
      " 19%|█▊        | 374/2000 [00:37<02:41, 10.07it/s]"
     ]
    },
    {
     "name": "stdout",
     "output_type": "stream",
     "text": [
      "Training_loss 2.74554,   Relative Error 0.63495\n",
      "Training_loss 2.73940,   Relative Error 0.63426\n",
      "Training_loss 2.72892,   Relative Error 0.63306\n"
     ]
    },
    {
     "name": "stderr",
     "output_type": "stream",
     "text": [
      " 19%|█▉        | 378/2000 [00:37<02:30, 10.81it/s]"
     ]
    },
    {
     "name": "stdout",
     "output_type": "stream",
     "text": [
      "Training_loss 2.72252,   Relative Error 0.63232\n",
      "Training_loss 2.71582,   Relative Error 0.63155\n",
      "Training_loss 2.70728,   Relative Error 0.63055\n"
     ]
    },
    {
     "name": "stderr",
     "output_type": "stream",
     "text": [
      "\r",
      " 19%|█▉        | 380/2000 [00:38<02:39, 10.17it/s]"
     ]
    },
    {
     "name": "stdout",
     "output_type": "stream",
     "text": [
      "Training_loss 2.70074,   Relative Error 0.62979\n",
      "Training_loss 2.69702,   Relative Error 0.62934\n"
     ]
    },
    {
     "name": "stderr",
     "output_type": "stream",
     "text": [
      "\r",
      " 19%|█▉        | 382/2000 [00:38<02:37, 10.26it/s]"
     ]
    },
    {
     "name": "stdout",
     "output_type": "stream",
     "text": [
      "Training_loss 2.69672,   Relative Error 0.62931\n",
      "Training_loss 2.68907,   Relative Error 0.62841\n",
      "Training_loss 2.68136,   Relative Error 0.62747\n"
     ]
    },
    {
     "name": "stderr",
     "output_type": "stream",
     "text": [
      " 19%|█▉        | 386/2000 [00:38<02:31, 10.66it/s]"
     ]
    },
    {
     "name": "stdout",
     "output_type": "stream",
     "text": [
      "Training_loss 2.67144,   Relative Error 0.62631\n",
      "Training_loss 2.66376,   Relative Error 0.62543\n",
      "Training_loss 2.65922,   Relative Error 0.62489\n"
     ]
    },
    {
     "name": "stderr",
     "output_type": "stream",
     "text": [
      "\r",
      " 19%|█▉        | 388/2000 [00:38<02:31, 10.67it/s]"
     ]
    },
    {
     "name": "stdout",
     "output_type": "stream",
     "text": [
      "Training_loss 2.65006,   Relative Error 0.62380\n",
      "Training_loss 2.64353,   Relative Error 0.62305\n",
      "Training_loss 2.62901,   Relative Error 0.62137\n"
     ]
    },
    {
     "name": "stderr",
     "output_type": "stream",
     "text": [
      " 20%|█▉        | 392/2000 [00:39<02:24, 11.15it/s]"
     ]
    },
    {
     "name": "stdout",
     "output_type": "stream",
     "text": [
      "Training_loss 2.62708,   Relative Error 0.62112\n",
      "Training_loss 2.61941,   Relative Error 0.62019\n",
      "Training_loss 2.61652,   Relative Error 0.61984\n"
     ]
    },
    {
     "name": "stderr",
     "output_type": "stream",
     "text": [
      "\r",
      " 20%|█▉        | 394/2000 [00:39<02:25, 11.01it/s]"
     ]
    },
    {
     "name": "stdout",
     "output_type": "stream",
     "text": [
      "Training_loss 2.60656,   Relative Error 0.61867\n",
      "Training_loss 2.60284,   Relative Error 0.61823\n",
      "Training_loss 2.60014,   Relative Error 0.61793\n"
     ]
    },
    {
     "name": "stderr",
     "output_type": "stream",
     "text": [
      " 20%|█▉        | 398/2000 [00:39<02:21, 11.34it/s]"
     ]
    },
    {
     "name": "stdout",
     "output_type": "stream",
     "text": [
      "Training_loss 2.59091,   Relative Error 0.61683\n",
      "Training_loss 2.58680,   Relative Error 0.61633\n",
      "Training_loss 2.58292,   Relative Error 0.61587\n"
     ]
    },
    {
     "name": "stderr",
     "output_type": "stream",
     "text": [
      "\r",
      " 20%|██        | 400/2000 [00:39<02:24, 11.05it/s]"
     ]
    },
    {
     "name": "stdout",
     "output_type": "stream",
     "text": [
      "Training_loss 2.58144,   Relative Error 0.61568\n",
      "Training_loss 2.57516,   Relative Error 0.61494\n",
      "Training_loss 2.56575,   Relative Error 0.61381\n"
     ]
    },
    {
     "name": "stderr",
     "output_type": "stream",
     "text": [
      " 20%|██        | 404/2000 [00:40<02:21, 11.26it/s]"
     ]
    },
    {
     "name": "stdout",
     "output_type": "stream",
     "text": [
      "Training_loss 2.55930,   Relative Error 0.61301\n",
      "Training_loss 2.55011,   Relative Error 0.61193\n",
      "Training_loss 2.54477,   Relative Error 0.61132\n"
     ]
    },
    {
     "name": "stderr",
     "output_type": "stream",
     "text": [
      "\r",
      " 20%|██        | 406/2000 [00:40<02:19, 11.39it/s]"
     ]
    },
    {
     "name": "stdout",
     "output_type": "stream",
     "text": [
      "Training_loss 2.53632,   Relative Error 0.61030\n",
      "Training_loss 2.53038,   Relative Error 0.60957\n",
      "Training_loss 2.52169,   Relative Error 0.60851\n"
     ]
    },
    {
     "name": "stderr",
     "output_type": "stream",
     "text": [
      " 20%|██        | 410/2000 [00:40<02:17, 11.58it/s]"
     ]
    },
    {
     "name": "stdout",
     "output_type": "stream",
     "text": [
      "Training_loss 2.51648,   Relative Error 0.60790\n",
      "Training_loss 2.51519,   Relative Error 0.60775\n",
      "Training_loss 2.50648,   Relative Error 0.60670\n"
     ]
    },
    {
     "name": "stderr",
     "output_type": "stream",
     "text": [
      "\r",
      " 21%|██        | 412/2000 [00:40<02:15, 11.69it/s]"
     ]
    },
    {
     "name": "stdout",
     "output_type": "stream",
     "text": [
      "Training_loss 2.50228,   Relative Error 0.60618\n",
      "Training_loss 2.49824,   Relative Error 0.60569\n",
      "Training_loss 2.49197,   Relative Error 0.60492\n"
     ]
    },
    {
     "name": "stderr",
     "output_type": "stream",
     "text": [
      " 21%|██        | 416/2000 [00:41<02:12, 12.00it/s]"
     ]
    },
    {
     "name": "stdout",
     "output_type": "stream",
     "text": [
      "Training_loss 2.49085,   Relative Error 0.60478\n",
      "Training_loss 2.48180,   Relative Error 0.60364\n",
      "Training_loss 2.46874,   Relative Error 0.60207\n"
     ]
    },
    {
     "name": "stderr",
     "output_type": "stream",
     "text": [
      "\r",
      " 21%|██        | 418/2000 [00:41<02:18, 11.42it/s]"
     ]
    },
    {
     "name": "stdout",
     "output_type": "stream",
     "text": [
      "Training_loss 2.46548,   Relative Error 0.60171\n",
      "Training_loss 2.45491,   Relative Error 0.60041\n",
      "Training_loss 2.44776,   Relative Error 0.59954\n"
     ]
    },
    {
     "name": "stderr",
     "output_type": "stream",
     "text": [
      " 21%|██        | 422/2000 [00:41<02:16, 11.52it/s]"
     ]
    },
    {
     "name": "stdout",
     "output_type": "stream",
     "text": [
      "Training_loss 2.43680,   Relative Error 0.59826\n",
      "Training_loss 2.43196,   Relative Error 0.59768\n",
      "Training_loss 2.42462,   Relative Error 0.59675\n"
     ]
    },
    {
     "name": "stderr",
     "output_type": "stream",
     "text": [
      "\r",
      " 21%|██        | 424/2000 [00:41<02:17, 11.45it/s]"
     ]
    },
    {
     "name": "stdout",
     "output_type": "stream",
     "text": [
      "Training_loss 2.42066,   Relative Error 0.59624\n",
      "Training_loss 2.41228,   Relative Error 0.59517\n",
      "Training_loss 2.40239,   Relative Error 0.59396\n"
     ]
    },
    {
     "name": "stderr",
     "output_type": "stream",
     "text": [
      " 21%|██▏       | 428/2000 [00:42<02:13, 11.81it/s]"
     ]
    },
    {
     "name": "stdout",
     "output_type": "stream",
     "text": [
      "Training_loss 2.40029,   Relative Error 0.59371\n",
      "Training_loss 2.39457,   Relative Error 0.59298\n",
      "Training_loss 2.39094,   Relative Error 0.59255\n"
     ]
    },
    {
     "name": "stderr",
     "output_type": "stream",
     "text": [
      "\r",
      " 22%|██▏       | 430/2000 [00:42<02:13, 11.73it/s]"
     ]
    },
    {
     "name": "stdout",
     "output_type": "stream",
     "text": [
      "Training_loss 2.38744,   Relative Error 0.59212\n",
      "Training_loss 2.37805,   Relative Error 0.59092\n",
      "Training_loss 2.37377,   Relative Error 0.59040\n"
     ]
    },
    {
     "name": "stderr",
     "output_type": "stream",
     "text": [
      " 22%|██▏       | 434/2000 [00:42<02:15, 11.54it/s]"
     ]
    },
    {
     "name": "stdout",
     "output_type": "stream",
     "text": [
      "Training_loss 2.36393,   Relative Error 0.58919\n",
      "Training_loss 2.35392,   Relative Error 0.58797\n",
      "Training_loss 2.34927,   Relative Error 0.58736\n"
     ]
    },
    {
     "name": "stderr",
     "output_type": "stream",
     "text": [
      "\r",
      " 22%|██▏       | 436/2000 [00:42<02:14, 11.67it/s]"
     ]
    },
    {
     "name": "stdout",
     "output_type": "stream",
     "text": [
      "Training_loss 2.34265,   Relative Error 0.58651\n",
      "Training_loss 2.33869,   Relative Error 0.58602\n"
     ]
    },
    {
     "name": "stderr",
     "output_type": "stream",
     "text": [
      "\r",
      " 22%|██▏       | 438/2000 [00:43<02:30, 10.36it/s]"
     ]
    },
    {
     "name": "stdout",
     "output_type": "stream",
     "text": [
      "Training_loss 2.33439,   Relative Error 0.58548\n",
      "Training_loss 2.32941,   Relative Error 0.58485\n",
      "Training_loss 2.32400,   Relative Error 0.58418\n"
     ]
    },
    {
     "name": "stderr",
     "output_type": "stream",
     "text": [
      "\r",
      " 22%|██▏       | 440/2000 [00:43<02:26, 10.63it/s]"
     ]
    },
    {
     "name": "stdout",
     "output_type": "stream",
     "text": [
      "Training_loss 2.32264,   Relative Error 0.58400\n",
      "Training_loss 2.31366,   Relative Error 0.58289\n"
     ]
    },
    {
     "name": "stderr",
     "output_type": "stream",
     "text": [
      " 22%|██▏       | 444/2000 [00:43<02:22, 10.91it/s]"
     ]
    },
    {
     "name": "stdout",
     "output_type": "stream",
     "text": [
      "Training_loss 2.31021,   Relative Error 0.58246\n",
      "Training_loss 2.30200,   Relative Error 0.58141\n",
      "Training_loss 2.29352,   Relative Error 0.58034\n"
     ]
    },
    {
     "name": "stderr",
     "output_type": "stream",
     "text": [
      "\r",
      " 22%|██▏       | 446/2000 [00:43<02:17, 11.34it/s]"
     ]
    },
    {
     "name": "stdout",
     "output_type": "stream",
     "text": [
      "Training_loss 2.29054,   Relative Error 0.57998\n",
      "Training_loss 2.28619,   Relative Error 0.57941\n",
      "Training_loss 2.28312,   Relative Error 0.57902\n"
     ]
    },
    {
     "name": "stderr",
     "output_type": "stream",
     "text": [
      " 22%|██▎       | 450/2000 [00:44<02:12, 11.66it/s]"
     ]
    },
    {
     "name": "stdout",
     "output_type": "stream",
     "text": [
      "Training_loss 2.27735,   Relative Error 0.57827\n",
      "Training_loss 2.27177,   Relative Error 0.57758\n",
      "Training_loss 2.26848,   Relative Error 0.57715\n"
     ]
    },
    {
     "name": "stderr",
     "output_type": "stream",
     "text": [
      "\r",
      " 23%|██▎       | 452/2000 [00:44<02:13, 11.62it/s]"
     ]
    },
    {
     "name": "stdout",
     "output_type": "stream",
     "text": [
      "Training_loss 2.26622,   Relative Error 0.57687\n",
      "Training_loss 2.26123,   Relative Error 0.57620\n",
      "Training_loss 2.25594,   Relative Error 0.57553\n"
     ]
    },
    {
     "name": "stderr",
     "output_type": "stream",
     "text": [
      "\r",
      " 23%|██▎       | 454/2000 [00:44<02:23, 10.79it/s]"
     ]
    },
    {
     "name": "stdout",
     "output_type": "stream",
     "text": [
      "Training_loss 2.24786,   Relative Error 0.57446\n",
      "Training_loss 2.24354,   Relative Error 0.57391\n"
     ]
    },
    {
     "name": "stderr",
     "output_type": "stream",
     "text": [
      "\r",
      " 23%|██▎       | 456/2000 [00:44<02:26, 10.51it/s]"
     ]
    },
    {
     "name": "stdout",
     "output_type": "stream",
     "text": [
      "Training_loss 2.23966,   Relative Error 0.57342\n",
      "Training_loss 2.23450,   Relative Error 0.57276\n"
     ]
    },
    {
     "name": "stderr",
     "output_type": "stream",
     "text": [
      " 23%|██▎       | 460/2000 [00:45<02:30, 10.20it/s]"
     ]
    },
    {
     "name": "stdout",
     "output_type": "stream",
     "text": [
      "Training_loss 2.22734,   Relative Error 0.57181\n",
      "Training_loss 2.21915,   Relative Error 0.57077\n",
      "Training_loss 2.21317,   Relative Error 0.57000\n"
     ]
    },
    {
     "name": "stderr",
     "output_type": "stream",
     "text": [
      "\r",
      " 23%|██▎       | 462/2000 [00:45<02:27, 10.42it/s]"
     ]
    },
    {
     "name": "stdout",
     "output_type": "stream",
     "text": [
      "Training_loss 2.20489,   Relative Error 0.56891\n",
      "Training_loss 2.19737,   Relative Error 0.56792\n",
      "Training_loss 2.18765,   Relative Error 0.56668\n"
     ]
    },
    {
     "name": "stderr",
     "output_type": "stream",
     "text": [
      " 23%|██▎       | 466/2000 [00:45<02:25, 10.54it/s]"
     ]
    },
    {
     "name": "stdout",
     "output_type": "stream",
     "text": [
      "Training_loss 2.17748,   Relative Error 0.56540\n",
      "Training_loss 2.17048,   Relative Error 0.56449\n",
      "Training_loss 2.16728,   Relative Error 0.56409\n"
     ]
    },
    {
     "name": "stderr",
     "output_type": "stream",
     "text": [
      "\r",
      " 23%|██▎       | 468/2000 [00:46<02:30, 10.19it/s]"
     ]
    },
    {
     "name": "stdout",
     "output_type": "stream",
     "text": [
      "Training_loss 2.16386,   Relative Error 0.56364\n",
      "Training_loss 2.15661,   Relative Error 0.56268\n"
     ]
    },
    {
     "name": "stderr",
     "output_type": "stream",
     "text": [
      "\r",
      " 24%|██▎       | 470/2000 [00:46<02:28, 10.29it/s]"
     ]
    },
    {
     "name": "stdout",
     "output_type": "stream",
     "text": [
      "Training_loss 2.15195,   Relative Error 0.56209\n",
      "Training_loss 2.14270,   Relative Error 0.56088\n",
      "Training_loss 2.13616,   Relative Error 0.56006\n"
     ]
    },
    {
     "name": "stderr",
     "output_type": "stream",
     "text": [
      " 24%|██▎       | 474/2000 [00:46<02:19, 10.92it/s]"
     ]
    },
    {
     "name": "stdout",
     "output_type": "stream",
     "text": [
      "Training_loss 2.13312,   Relative Error 0.55965\n",
      "Training_loss 2.12935,   Relative Error 0.55913\n",
      "Training_loss 2.12797,   Relative Error 0.55895\n"
     ]
    },
    {
     "name": "stderr",
     "output_type": "stream",
     "text": [
      "\r",
      " 24%|██▍       | 476/2000 [00:46<02:16, 11.20it/s]"
     ]
    },
    {
     "name": "stdout",
     "output_type": "stream",
     "text": [
      "Training_loss 2.12340,   Relative Error 0.55834\n",
      "Training_loss 2.11478,   Relative Error 0.55722\n",
      "Training_loss 2.10794,   Relative Error 0.55635\n"
     ]
    },
    {
     "name": "stderr",
     "output_type": "stream",
     "text": [
      " 24%|██▍       | 480/2000 [00:47<02:12, 11.43it/s]"
     ]
    },
    {
     "name": "stdout",
     "output_type": "stream",
     "text": [
      "Training_loss 2.10486,   Relative Error 0.55595\n",
      "Training_loss 2.10228,   Relative Error 0.55562\n",
      "Training_loss 2.09975,   Relative Error 0.55530\n"
     ]
    },
    {
     "name": "stderr",
     "output_type": "stream",
     "text": [
      "\r",
      " 24%|██▍       | 482/2000 [00:47<02:15, 11.17it/s]"
     ]
    },
    {
     "name": "stdout",
     "output_type": "stream",
     "text": [
      "Training_loss 2.09610,   Relative Error 0.55482\n",
      "Training_loss 2.09187,   Relative Error 0.55426\n",
      "Training_loss 2.08658,   Relative Error 0.55354\n"
     ]
    },
    {
     "name": "stderr",
     "output_type": "stream",
     "text": [
      " 24%|██▍       | 486/2000 [00:47<02:10, 11.56it/s]"
     ]
    },
    {
     "name": "stdout",
     "output_type": "stream",
     "text": [
      "Training_loss 2.07983,   Relative Error 0.55263\n",
      "Training_loss 2.07787,   Relative Error 0.55239\n",
      "Training_loss 2.07365,   Relative Error 0.55181\n"
     ]
    },
    {
     "name": "stderr",
     "output_type": "stream",
     "text": [
      "\r",
      " 24%|██▍       | 488/2000 [00:47<02:13, 11.33it/s]"
     ]
    },
    {
     "name": "stdout",
     "output_type": "stream",
     "text": [
      "Training_loss 2.07248,   Relative Error 0.55165\n",
      "Training_loss 2.07065,   Relative Error 0.55140\n",
      "Training_loss 2.06698,   Relative Error 0.55092\n"
     ]
    },
    {
     "name": "stderr",
     "output_type": "stream",
     "text": [
      "\r",
      " 24%|██▍       | 490/2000 [00:47<02:09, 11.66it/s]"
     ]
    },
    {
     "name": "stdout",
     "output_type": "stream",
     "text": [
      "Training_loss 2.06243,   Relative Error 0.55032\n"
     ]
    },
    {
     "name": "stderr",
     "output_type": "stream",
     "text": [
      "\r",
      " 25%|██▍       | 492/2000 [00:48<03:00,  8.36it/s]"
     ]
    },
    {
     "name": "stdout",
     "output_type": "stream",
     "text": [
      "Training_loss 2.06041,   Relative Error 0.55003\n",
      "Training_loss 2.05418,   Relative Error 0.54920\n",
      "Training_loss 2.04680,   Relative Error 0.54821\n"
     ]
    },
    {
     "name": "stderr",
     "output_type": "stream",
     "text": [
      " 25%|██▍       | 496/2000 [00:48<02:34,  9.72it/s]"
     ]
    },
    {
     "name": "stdout",
     "output_type": "stream",
     "text": [
      "Training_loss 2.04564,   Relative Error 0.54805\n",
      "Training_loss 2.03846,   Relative Error 0.54709\n",
      "Training_loss 2.03125,   Relative Error 0.54611\n"
     ]
    },
    {
     "name": "stderr",
     "output_type": "stream",
     "text": [
      "\r",
      " 25%|██▍       | 498/2000 [00:48<02:25, 10.33it/s]"
     ]
    },
    {
     "name": "stdout",
     "output_type": "stream",
     "text": [
      "Training_loss 2.02711,   Relative Error 0.54556\n",
      "Training_loss 2.02485,   Relative Error 0.54526\n",
      "Training_loss 2.02327,   Relative Error 0.54504\n"
     ]
    },
    {
     "name": "stderr",
     "output_type": "stream",
     "text": [
      " 25%|██▌       | 502/2000 [00:49<02:13, 11.20it/s]"
     ]
    },
    {
     "name": "stdout",
     "output_type": "stream",
     "text": [
      "Training_loss 2.01972,   Relative Error 0.54454\n",
      "Training_loss 2.01109,   Relative Error 0.54342\n",
      "Training_loss 2.00685,   Relative Error 0.54284\n"
     ]
    },
    {
     "name": "stderr",
     "output_type": "stream",
     "text": [
      "\r",
      " 25%|██▌       | 504/2000 [00:49<02:10, 11.44it/s]"
     ]
    },
    {
     "name": "stdout",
     "output_type": "stream",
     "text": [
      "Training_loss 2.00431,   Relative Error 0.54248\n",
      "Training_loss 2.00254,   Relative Error 0.54221\n",
      "Training_loss 1.99544,   Relative Error 0.54128\n"
     ]
    },
    {
     "name": "stderr",
     "output_type": "stream",
     "text": [
      " 25%|██▌       | 508/2000 [00:49<02:01, 12.31it/s]"
     ]
    },
    {
     "name": "stdout",
     "output_type": "stream",
     "text": [
      "Training_loss 1.99421,   Relative Error 0.54107\n",
      "Training_loss 1.99175,   Relative Error 0.54075\n",
      "Training_loss 1.98665,   Relative Error 0.54006\n"
     ]
    },
    {
     "name": "stderr",
     "output_type": "stream",
     "text": [
      "\r",
      " 26%|██▌       | 510/2000 [00:49<02:05, 11.84it/s]"
     ]
    },
    {
     "name": "stdout",
     "output_type": "stream",
     "text": [
      "Training_loss 1.98189,   Relative Error 0.53939\n",
      "Training_loss 1.97920,   Relative Error 0.53904\n",
      "Training_loss 1.97692,   Relative Error 0.53875\n"
     ]
    },
    {
     "name": "stderr",
     "output_type": "stream",
     "text": [
      " 26%|██▌       | 514/2000 [00:50<02:11, 11.28it/s]"
     ]
    },
    {
     "name": "stdout",
     "output_type": "stream",
     "text": [
      "Training_loss 1.97333,   Relative Error 0.53823\n",
      "Training_loss 1.97151,   Relative Error 0.53798\n",
      "Training_loss 1.96447,   Relative Error 0.53704\n"
     ]
    },
    {
     "name": "stderr",
     "output_type": "stream",
     "text": [
      "\r",
      " 26%|██▌       | 516/2000 [00:50<02:12, 11.24it/s]"
     ]
    },
    {
     "name": "stdout",
     "output_type": "stream",
     "text": [
      "Training_loss 1.96248,   Relative Error 0.53677\n",
      "Training_loss 1.95877,   Relative Error 0.53626\n",
      "Training_loss 1.95481,   Relative Error 0.53574\n"
     ]
    },
    {
     "name": "stderr",
     "output_type": "stream",
     "text": [
      " 26%|██▌       | 520/2000 [00:50<02:03, 12.01it/s]"
     ]
    },
    {
     "name": "stdout",
     "output_type": "stream",
     "text": [
      "Training_loss 1.95111,   Relative Error 0.53523\n",
      "Training_loss 1.94626,   Relative Error 0.53456\n",
      "Training_loss 1.94204,   Relative Error 0.53398\n"
     ]
    },
    {
     "name": "stderr",
     "output_type": "stream",
     "text": [
      "\r",
      " 26%|██▌       | 522/2000 [00:50<02:11, 11.26it/s]"
     ]
    },
    {
     "name": "stdout",
     "output_type": "stream",
     "text": [
      "Training_loss 1.93826,   Relative Error 0.53347\n",
      "Training_loss 1.93648,   Relative Error 0.53320\n",
      "Training_loss 1.92910,   Relative Error 0.53223\n"
     ]
    },
    {
     "name": "stderr",
     "output_type": "stream",
     "text": [
      " 26%|██▋       | 526/2000 [00:51<02:08, 11.43it/s]"
     ]
    },
    {
     "name": "stdout",
     "output_type": "stream",
     "text": [
      "Training_loss 1.92805,   Relative Error 0.53207\n",
      "Training_loss 1.92081,   Relative Error 0.53107\n",
      "Training_loss 1.91861,   Relative Error 0.53078\n"
     ]
    },
    {
     "name": "stderr",
     "output_type": "stream",
     "text": [
      "\r",
      " 26%|██▋       | 528/2000 [00:51<02:03, 11.92it/s]"
     ]
    },
    {
     "name": "stdout",
     "output_type": "stream",
     "text": [
      "Training_loss 1.91123,   Relative Error 0.52979\n",
      "Training_loss 1.91021,   Relative Error 0.52963\n",
      "Training_loss 1.90753,   Relative Error 0.52928\n"
     ]
    },
    {
     "name": "stderr",
     "output_type": "stream",
     "text": [
      "\r",
      " 26%|██▋       | 530/2000 [00:51<02:13, 11.04it/s]"
     ]
    },
    {
     "name": "stdout",
     "output_type": "stream",
     "text": [
      "Training_loss 1.90202,   Relative Error 0.52853\n",
      "Training_loss 1.90128,   Relative Error 0.52843\n"
     ]
    },
    {
     "name": "stderr",
     "output_type": "stream",
     "text": [
      "\r",
      " 27%|██▋       | 532/2000 [00:51<02:24, 10.16it/s]"
     ]
    },
    {
     "name": "stdout",
     "output_type": "stream",
     "text": [
      "Training_loss 1.89980,   Relative Error 0.52822\n",
      "Training_loss 1.89825,   Relative Error 0.52801\n"
     ]
    },
    {
     "name": "stderr",
     "output_type": "stream",
     "text": [
      " 27%|██▋       | 535/2000 [00:52<02:53,  8.44it/s]"
     ]
    },
    {
     "name": "stdout",
     "output_type": "stream",
     "text": [
      "Training_loss 1.89231,   Relative Error 0.52718\n",
      "Training_loss 1.88890,   Relative Error 0.52673\n"
     ]
    },
    {
     "name": "stderr",
     "output_type": "stream",
     "text": [
      " 27%|██▋       | 537/2000 [00:52<03:00,  8.12it/s]"
     ]
    },
    {
     "name": "stdout",
     "output_type": "stream",
     "text": [
      "Training_loss 1.88290,   Relative Error 0.52592\n",
      "Training_loss 1.87979,   Relative Error 0.52548\n"
     ]
    },
    {
     "name": "stderr",
     "output_type": "stream",
     "text": [
      "\r",
      " 27%|██▋       | 539/2000 [00:52<02:37,  9.29it/s]"
     ]
    },
    {
     "name": "stdout",
     "output_type": "stream",
     "text": [
      "Training_loss 1.87490,   Relative Error 0.52479\n",
      "Training_loss 1.86673,   Relative Error 0.52364\n",
      "Training_loss 1.86527,   Relative Error 0.52341\n"
     ]
    },
    {
     "name": "stderr",
     "output_type": "stream",
     "text": [
      " 27%|██▋       | 543/2000 [00:53<02:15, 10.79it/s]"
     ]
    },
    {
     "name": "stdout",
     "output_type": "stream",
     "text": [
      "Training_loss 1.86234,   Relative Error 0.52300\n",
      "Training_loss 1.85554,   Relative Error 0.52205\n",
      "Training_loss 1.85340,   Relative Error 0.52175\n"
     ]
    },
    {
     "name": "stderr",
     "output_type": "stream",
     "text": [
      "\r",
      " 27%|██▋       | 545/2000 [00:53<02:12, 10.99it/s]"
     ]
    },
    {
     "name": "stdout",
     "output_type": "stream",
     "text": [
      "Training_loss 1.84975,   Relative Error 0.52125\n",
      "Training_loss 1.84774,   Relative Error 0.52099\n",
      "Training_loss 1.84531,   Relative Error 0.52066\n"
     ]
    },
    {
     "name": "stderr",
     "output_type": "stream",
     "text": [
      " 27%|██▋       | 549/2000 [00:53<02:01, 11.93it/s]"
     ]
    },
    {
     "name": "stdout",
     "output_type": "stream",
     "text": [
      "Training_loss 1.84173,   Relative Error 0.52018\n",
      "Training_loss 1.83896,   Relative Error 0.51978\n",
      "Training_loss 1.83790,   Relative Error 0.51962\n"
     ]
    },
    {
     "name": "stderr",
     "output_type": "stream",
     "text": [
      "\r",
      " 28%|██▊       | 551/2000 [00:53<01:59, 12.08it/s]"
     ]
    },
    {
     "name": "stdout",
     "output_type": "stream",
     "text": [
      "Training_loss 1.83293,   Relative Error 0.51888\n",
      "Training_loss 1.82871,   Relative Error 0.51828\n",
      "Training_loss 1.82815,   Relative Error 0.51822\n"
     ]
    },
    {
     "name": "stderr",
     "output_type": "stream",
     "text": [
      " 28%|██▊       | 555/2000 [00:54<01:56, 12.44it/s]"
     ]
    },
    {
     "name": "stdout",
     "output_type": "stream",
     "text": [
      "Training_loss 1.82342,   Relative Error 0.51755\n",
      "Training_loss 1.82059,   Relative Error 0.51712\n",
      "Training_loss 1.81665,   Relative Error 0.51657\n"
     ]
    },
    {
     "name": "stderr",
     "output_type": "stream",
     "text": [
      "\r",
      " 28%|██▊       | 557/2000 [00:54<02:01, 11.85it/s]"
     ]
    },
    {
     "name": "stdout",
     "output_type": "stream",
     "text": [
      "Training_loss 1.81415,   Relative Error 0.51621\n",
      "Training_loss 1.80684,   Relative Error 0.51519\n",
      "Training_loss 1.80600,   Relative Error 0.51506\n"
     ]
    },
    {
     "name": "stderr",
     "output_type": "stream",
     "text": [
      " 28%|██▊       | 561/2000 [00:54<01:56, 12.37it/s]"
     ]
    },
    {
     "name": "stdout",
     "output_type": "stream",
     "text": [
      "Training_loss 1.79926,   Relative Error 0.51410\n",
      "Training_loss 1.79790,   Relative Error 0.51391\n",
      "Training_loss 1.79259,   Relative Error 0.51318\n"
     ]
    },
    {
     "name": "stderr",
     "output_type": "stream",
     "text": [
      "\r",
      " 28%|██▊       | 563/2000 [00:54<01:55, 12.47it/s]"
     ]
    },
    {
     "name": "stdout",
     "output_type": "stream",
     "text": [
      "Training_loss 1.79062,   Relative Error 0.51289\n",
      "Training_loss 1.79107,   Relative Error 0.51296\n",
      "Training_loss 1.79032,   Relative Error 0.51284\n"
     ]
    },
    {
     "name": "stderr",
     "output_type": "stream",
     "text": [
      " 28%|██▊       | 567/2000 [00:54<01:54, 12.47it/s]"
     ]
    },
    {
     "name": "stdout",
     "output_type": "stream",
     "text": [
      "Training_loss 1.78485,   Relative Error 0.51208\n",
      "Training_loss 1.78205,   Relative Error 0.51168\n",
      "Training_loss 1.77954,   Relative Error 0.51134\n"
     ]
    },
    {
     "name": "stderr",
     "output_type": "stream",
     "text": [
      "\r",
      " 28%|██▊       | 569/2000 [00:55<01:55, 12.44it/s]"
     ]
    },
    {
     "name": "stdout",
     "output_type": "stream",
     "text": [
      "Training_loss 1.77835,   Relative Error 0.51115\n",
      "Training_loss 1.77066,   Relative Error 0.51002\n",
      "Training_loss 1.76847,   Relative Error 0.50975\n"
     ]
    },
    {
     "name": "stderr",
     "output_type": "stream",
     "text": [
      " 29%|██▊       | 573/2000 [00:55<02:17, 10.41it/s]"
     ]
    },
    {
     "name": "stdout",
     "output_type": "stream",
     "text": [
      "Training_loss 1.76183,   Relative Error 0.50879\n",
      "Training_loss 1.75591,   Relative Error 0.50795\n",
      "Training_loss 1.75139,   Relative Error 0.50731\n"
     ]
    },
    {
     "name": "stderr",
     "output_type": "stream",
     "text": [
      "\r",
      " 29%|██▉       | 575/2000 [00:55<02:10, 10.90it/s]"
     ]
    },
    {
     "name": "stdout",
     "output_type": "stream",
     "text": [
      "Training_loss 1.74963,   Relative Error 0.50706\n",
      "Training_loss 1.74571,   Relative Error 0.50649\n",
      "Training_loss 1.74120,   Relative Error 0.50585\n"
     ]
    },
    {
     "name": "stderr",
     "output_type": "stream",
     "text": [
      " 29%|██▉       | 579/2000 [00:56<02:03, 11.47it/s]"
     ]
    },
    {
     "name": "stdout",
     "output_type": "stream",
     "text": [
      "Training_loss 1.74012,   Relative Error 0.50570\n",
      "Training_loss 1.73771,   Relative Error 0.50535\n",
      "Training_loss 1.73495,   Relative Error 0.50497\n"
     ]
    },
    {
     "name": "stderr",
     "output_type": "stream",
     "text": [
      "\r",
      " 29%|██▉       | 581/2000 [00:56<02:11, 10.76it/s]"
     ]
    },
    {
     "name": "stdout",
     "output_type": "stream",
     "text": [
      "Training_loss 1.73392,   Relative Error 0.50480\n",
      "Training_loss 1.72860,   Relative Error 0.50404\n",
      "Training_loss 1.72749,   Relative Error 0.50388\n"
     ]
    },
    {
     "name": "stderr",
     "output_type": "stream",
     "text": [
      "\r",
      " 29%|██▉       | 583/2000 [00:56<02:05, 11.25it/s]"
     ]
    },
    {
     "name": "stdout",
     "output_type": "stream",
     "text": [
      "Training_loss 1.72597,   Relative Error 0.50367\n",
      "Training_loss 1.72321,   Relative Error 0.50327\n"
     ]
    },
    {
     "name": "stderr",
     "output_type": "stream",
     "text": [
      " 29%|██▉       | 587/2000 [00:56<02:25,  9.69it/s]"
     ]
    },
    {
     "name": "stdout",
     "output_type": "stream",
     "text": [
      "Training_loss 1.71833,   Relative Error 0.50256\n",
      "Training_loss 1.71526,   Relative Error 0.50212\n",
      "Training_loss 1.71163,   Relative Error 0.50160\n"
     ]
    },
    {
     "name": "stderr",
     "output_type": "stream",
     "text": [
      "\r",
      " 29%|██▉       | 589/2000 [00:57<02:36,  9.03it/s]"
     ]
    },
    {
     "name": "stdout",
     "output_type": "stream",
     "text": [
      "Training_loss 1.71218,   Relative Error 0.50168\n",
      "Training_loss 1.71056,   Relative Error 0.50145\n"
     ]
    },
    {
     "name": "stderr",
     "output_type": "stream",
     "text": [
      " 30%|██▉       | 592/2000 [00:57<02:26,  9.61it/s]"
     ]
    },
    {
     "name": "stdout",
     "output_type": "stream",
     "text": [
      "Training_loss 1.70632,   Relative Error 0.50080\n",
      "Training_loss 1.70264,   Relative Error 0.50025\n",
      "Training_loss 1.69800,   Relative Error 0.49956\n"
     ]
    },
    {
     "name": "stderr",
     "output_type": "stream",
     "text": [
      "\r",
      " 30%|██▉       | 594/2000 [00:57<02:22,  9.86it/s]"
     ]
    },
    {
     "name": "stdout",
     "output_type": "stream",
     "text": [
      "Training_loss 1.69936,   Relative Error 0.49975\n",
      "Training_loss 1.69448,   Relative Error 0.49905\n",
      "Training_loss 1.69232,   Relative Error 0.49872\n"
     ]
    },
    {
     "name": "stderr",
     "output_type": "stream",
     "text": [
      "\r",
      " 30%|██▉       | 596/2000 [00:57<02:15, 10.37it/s]"
     ]
    },
    {
     "name": "stdout",
     "output_type": "stream",
     "text": [
      "Training_loss 1.68863,   Relative Error 0.49819\n",
      "Training_loss 1.68660,   Relative Error 0.49789\n"
     ]
    },
    {
     "name": "stderr",
     "output_type": "stream",
     "text": [
      "\r",
      " 30%|██▉       | 598/2000 [00:58<02:20, 10.00it/s]"
     ]
    },
    {
     "name": "stdout",
     "output_type": "stream",
     "text": [
      "Training_loss 1.68546,   Relative Error 0.49770\n",
      "Training_loss 1.68236,   Relative Error 0.49723\n"
     ]
    },
    {
     "name": "stderr",
     "output_type": "stream",
     "text": [
      " 30%|███       | 601/2000 [00:58<03:59,  5.83it/s]"
     ]
    },
    {
     "name": "stdout",
     "output_type": "stream",
     "text": [
      "Training_loss 1.67706,   Relative Error 0.49644\n",
      "Training_loss 1.67233,   Relative Error 0.49574\n"
     ]
    },
    {
     "name": "stderr",
     "output_type": "stream",
     "text": [
      "\r",
      " 30%|███       | 603/2000 [00:59<03:19,  6.99it/s]"
     ]
    },
    {
     "name": "stdout",
     "output_type": "stream",
     "text": [
      "Training_loss 1.67033,   Relative Error 0.49544\n",
      "Training_loss 1.66683,   Relative Error 0.49494\n",
      "Training_loss 1.66398,   Relative Error 0.49453\n"
     ]
    },
    {
     "name": "stderr",
     "output_type": "stream",
     "text": [
      " 30%|███       | 607/2000 [00:59<02:35,  8.94it/s]"
     ]
    },
    {
     "name": "stdout",
     "output_type": "stream",
     "text": [
      "Training_loss 1.66169,   Relative Error 0.49420\n",
      "Training_loss 1.66106,   Relative Error 0.49409\n",
      "Training_loss 1.66019,   Relative Error 0.49398\n"
     ]
    },
    {
     "name": "stderr",
     "output_type": "stream",
     "text": [
      "\r",
      " 30%|███       | 609/2000 [00:59<02:28,  9.34it/s]"
     ]
    },
    {
     "name": "stdout",
     "output_type": "stream",
     "text": [
      "Training_loss 1.65889,   Relative Error 0.49378\n",
      "Training_loss 1.65837,   Relative Error 0.49368\n"
     ]
    },
    {
     "name": "stderr",
     "output_type": "stream",
     "text": [
      "\r",
      " 31%|███       | 611/2000 [00:59<02:27,  9.45it/s]"
     ]
    },
    {
     "name": "stdout",
     "output_type": "stream",
     "text": [
      "Training_loss 1.65526,   Relative Error 0.49323\n",
      "Training_loss 1.65492,   Relative Error 0.49318\n",
      "Training_loss 1.65062,   Relative Error 0.49254\n"
     ]
    },
    {
     "name": "stderr",
     "output_type": "stream",
     "text": [
      " 31%|███       | 615/2000 [01:00<02:11, 10.51it/s]"
     ]
    },
    {
     "name": "stdout",
     "output_type": "stream",
     "text": [
      "Training_loss 1.65030,   Relative Error 0.49250\n",
      "Training_loss 1.64849,   Relative Error 0.49224\n",
      "Training_loss 1.64240,   Relative Error 0.49133\n"
     ]
    },
    {
     "name": "stderr",
     "output_type": "stream",
     "text": [
      "\r",
      " 31%|███       | 617/2000 [01:00<02:08, 10.72it/s]"
     ]
    },
    {
     "name": "stdout",
     "output_type": "stream",
     "text": [
      "Training_loss 1.63990,   Relative Error 0.49096\n",
      "Training_loss 1.63496,   Relative Error 0.49023\n",
      "Training_loss 1.62867,   Relative Error 0.48930\n"
     ]
    },
    {
     "name": "stderr",
     "output_type": "stream",
     "text": [
      " 31%|███       | 621/2000 [01:00<02:01, 11.32it/s]"
     ]
    },
    {
     "name": "stdout",
     "output_type": "stream",
     "text": [
      "Training_loss 1.62562,   Relative Error 0.48883\n",
      "Training_loss 1.62313,   Relative Error 0.48846\n",
      "Training_loss 1.62283,   Relative Error 0.48841\n"
     ]
    },
    {
     "name": "stderr",
     "output_type": "stream",
     "text": [
      "\r",
      " 31%|███       | 623/2000 [01:00<02:09, 10.65it/s]"
     ]
    },
    {
     "name": "stdout",
     "output_type": "stream",
     "text": [
      "Training_loss 1.62229,   Relative Error 0.48834\n",
      "Training_loss 1.62110,   Relative Error 0.48818\n",
      "Training_loss 1.61870,   Relative Error 0.48779\n"
     ]
    },
    {
     "name": "stderr",
     "output_type": "stream",
     "text": [
      " 31%|███▏      | 627/2000 [01:01<02:03, 11.08it/s]"
     ]
    },
    {
     "name": "stdout",
     "output_type": "stream",
     "text": [
      "Training_loss 1.61586,   Relative Error 0.48736\n",
      "Training_loss 1.61361,   Relative Error 0.48702\n",
      "Training_loss 1.61358,   Relative Error 0.48704\n",
      "Training_loss 1.61317,   Relative Error 0.48698\n"
     ]
    },
    {
     "name": "stderr",
     "output_type": "stream",
     "text": [
      "\r",
      " 31%|███▏      | 629/2000 [01:01<02:47,  8.19it/s]"
     ]
    },
    {
     "name": "stdout",
     "output_type": "stream",
     "text": [
      "Training_loss 1.61315,   Relative Error 0.48697\n"
     ]
    },
    {
     "name": "stderr",
     "output_type": "stream",
     "text": [
      " 32%|███▏      | 631/2000 [01:02<03:41,  6.18it/s]"
     ]
    },
    {
     "name": "stdout",
     "output_type": "stream",
     "text": [
      "Training_loss 1.61240,   Relative Error 0.48688\n",
      "Training_loss 1.61202,   Relative Error 0.48682\n"
     ]
    },
    {
     "name": "stderr",
     "output_type": "stream",
     "text": [
      " 32%|███▏      | 633/2000 [01:02<03:17,  6.92it/s]"
     ]
    },
    {
     "name": "stdout",
     "output_type": "stream",
     "text": [
      "Training_loss 1.61018,   Relative Error 0.48651\n",
      "Training_loss 1.60643,   Relative Error 0.48597\n"
     ]
    },
    {
     "name": "stderr",
     "output_type": "stream",
     "text": [
      "\r",
      " 32%|███▏      | 634/2000 [01:02<03:26,  6.62it/s]"
     ]
    },
    {
     "name": "stdout",
     "output_type": "stream",
     "text": [
      "Training_loss 1.60601,   Relative Error 0.48588\n",
      "Training_loss 1.60327,   Relative Error 0.48546"
     ]
    },
    {
     "name": "stderr",
     "output_type": "stream",
     "text": [
      "\r",
      " 32%|███▏      | 635/2000 [01:02<03:42,  6.14it/s]"
     ]
    },
    {
     "name": "stdout",
     "output_type": "stream",
     "text": [
      "\n"
     ]
    },
    {
     "name": "stderr",
     "output_type": "stream",
     "text": [
      "\r",
      " 32%|███▏      | 636/2000 [01:03<04:36,  4.94it/s]"
     ]
    },
    {
     "name": "stdout",
     "output_type": "stream",
     "text": [
      "Training_loss 1.60054,   Relative Error 0.48506\n"
     ]
    },
    {
     "name": "stderr",
     "output_type": "stream",
     "text": [
      "\r",
      " 32%|███▏      | 637/2000 [01:03<04:52,  4.66it/s]"
     ]
    },
    {
     "name": "stdout",
     "output_type": "stream",
     "text": [
      "Training_loss 1.59956,   Relative Error 0.48491\n",
      "Training_loss 1.59747,   Relative Error 0.48460\n"
     ]
    },
    {
     "name": "stderr",
     "output_type": "stream",
     "text": [
      "\r",
      " 32%|███▏      | 639/2000 [01:03<03:52,  5.86it/s]"
     ]
    },
    {
     "name": "stdout",
     "output_type": "stream",
     "text": [
      "Training_loss 1.59764,   Relative Error 0.48463\n"
     ]
    },
    {
     "name": "stderr",
     "output_type": "stream",
     "text": [
      "\r",
      " 32%|███▏      | 640/2000 [01:03<04:13,  5.36it/s]"
     ]
    },
    {
     "name": "stdout",
     "output_type": "stream",
     "text": [
      "Training_loss 1.59702,   Relative Error 0.48454\n"
     ]
    },
    {
     "name": "stderr",
     "output_type": "stream",
     "text": [
      " 32%|███▏      | 642/2000 [01:04<04:14,  5.34it/s]"
     ]
    },
    {
     "name": "stdout",
     "output_type": "stream",
     "text": [
      "Training_loss 1.59302,   Relative Error 0.48392\n",
      "Training_loss 1.59296,   Relative Error 0.48390\n"
     ]
    },
    {
     "name": "stderr",
     "output_type": "stream",
     "text": [
      "\r",
      " 32%|███▏      | 643/2000 [01:04<04:47,  4.71it/s]"
     ]
    },
    {
     "name": "stdout",
     "output_type": "stream",
     "text": [
      "Training_loss 1.59167,   Relative Error 0.48369\n"
     ]
    },
    {
     "name": "stderr",
     "output_type": "stream",
     "text": [
      "\r",
      " 32%|███▏      | 644/2000 [01:04<05:28,  4.13it/s]"
     ]
    },
    {
     "name": "stdout",
     "output_type": "stream",
     "text": [
      "Training_loss 1.59100,   Relative Error 0.48359\n"
     ]
    },
    {
     "name": "stderr",
     "output_type": "stream",
     "text": [
      "\r",
      " 32%|███▏      | 645/2000 [01:05<05:26,  4.15it/s]"
     ]
    },
    {
     "name": "stdout",
     "output_type": "stream",
     "text": [
      "Training_loss 1.58943,   Relative Error 0.48334\n",
      "Training_loss 1.58693,   Relative Error 0.48296\n"
     ]
    },
    {
     "name": "stderr",
     "output_type": "stream",
     "text": [
      " 32%|███▏      | 648/2000 [01:05<04:17,  5.24it/s]"
     ]
    },
    {
     "name": "stdout",
     "output_type": "stream",
     "text": [
      "Training_loss 1.58601,   Relative Error 0.48281\n",
      "Training_loss 1.58307,   Relative Error 0.48236\n"
     ]
    },
    {
     "name": "stderr",
     "output_type": "stream",
     "text": [
      " 32%|███▎      | 650/2000 [01:05<03:35,  6.27it/s]"
     ]
    },
    {
     "name": "stdout",
     "output_type": "stream",
     "text": [
      "Training_loss 1.57816,   Relative Error 0.48164\n",
      "Training_loss 1.57329,   Relative Error 0.48091\n"
     ]
    },
    {
     "name": "stderr",
     "output_type": "stream",
     "text": [
      " 33%|███▎      | 652/2000 [01:06<03:23,  6.61it/s]"
     ]
    },
    {
     "name": "stdout",
     "output_type": "stream",
     "text": [
      "Training_loss 1.56960,   Relative Error 0.48037\n",
      "Training_loss 1.57028,   Relative Error 0.48047\n"
     ]
    },
    {
     "name": "stderr",
     "output_type": "stream",
     "text": [
      " 33%|███▎      | 654/2000 [01:06<03:12,  6.98it/s]"
     ]
    },
    {
     "name": "stdout",
     "output_type": "stream",
     "text": [
      "Training_loss 1.56613,   Relative Error 0.47985\n",
      "Training_loss 1.56534,   Relative Error 0.47976\n"
     ]
    },
    {
     "name": "stderr",
     "output_type": "stream",
     "text": [
      " 33%|███▎      | 656/2000 [01:06<03:31,  6.37it/s]"
     ]
    },
    {
     "name": "stdout",
     "output_type": "stream",
     "text": [
      "Training_loss 1.56163,   Relative Error 0.47921\n",
      "Training_loss 1.55969,   Relative Error 0.47891\n"
     ]
    },
    {
     "name": "stderr",
     "output_type": "stream",
     "text": [
      " 33%|███▎      | 658/2000 [01:06<03:10,  7.05it/s]"
     ]
    },
    {
     "name": "stdout",
     "output_type": "stream",
     "text": [
      "Training_loss 1.55874,   Relative Error 0.47875\n",
      "Training_loss 1.55794,   Relative Error 0.47863\n"
     ]
    },
    {
     "name": "stderr",
     "output_type": "stream",
     "text": [
      "\r",
      " 33%|███▎      | 660/2000 [01:07<02:35,  8.59it/s]"
     ]
    },
    {
     "name": "stdout",
     "output_type": "stream",
     "text": [
      "Training_loss 1.55628,   Relative Error 0.47838\n",
      "Training_loss 1.55448,   Relative Error 0.47811\n",
      "Training_loss 1.55597,   Relative Error 0.47833\n"
     ]
    },
    {
     "name": "stderr",
     "output_type": "stream",
     "text": [
      " 33%|███▎      | 663/2000 [01:07<02:21,  9.44it/s]"
     ]
    },
    {
     "name": "stdout",
     "output_type": "stream",
     "text": [
      "Training_loss 1.55474,   Relative Error 0.47815\n",
      "Training_loss 1.55332,   Relative Error 0.47794\n"
     ]
    },
    {
     "name": "stderr",
     "output_type": "stream",
     "text": [
      " 33%|███▎      | 665/2000 [01:07<02:43,  8.19it/s]"
     ]
    },
    {
     "name": "stdout",
     "output_type": "stream",
     "text": [
      "Training_loss 1.55195,   Relative Error 0.47773\n",
      "Training_loss 1.54900,   Relative Error 0.47731\n"
     ]
    },
    {
     "name": "stderr",
     "output_type": "stream",
     "text": [
      " 33%|███▎      | 668/2000 [01:07<02:19,  9.58it/s]"
     ]
    },
    {
     "name": "stdout",
     "output_type": "stream",
     "text": [
      "Training_loss 1.54474,   Relative Error 0.47663\n",
      "Training_loss 1.54379,   Relative Error 0.47649\n",
      "Training_loss 1.54093,   Relative Error 0.47604\n"
     ]
    },
    {
     "name": "stderr",
     "output_type": "stream",
     "text": [
      " 34%|███▎      | 670/2000 [01:08<02:38,  8.40it/s]"
     ]
    },
    {
     "name": "stdout",
     "output_type": "stream",
     "text": [
      "Training_loss 1.53847,   Relative Error 0.47565\n",
      "Training_loss 1.53781,   Relative Error 0.47556\n"
     ]
    },
    {
     "name": "stderr",
     "output_type": "stream",
     "text": [
      " 34%|███▎      | 672/2000 [01:08<02:52,  7.70it/s]"
     ]
    },
    {
     "name": "stdout",
     "output_type": "stream",
     "text": [
      "Training_loss 1.53654,   Relative Error 0.47538\n",
      "Training_loss 1.53210,   Relative Error 0.47469\n"
     ]
    },
    {
     "name": "stderr",
     "output_type": "stream",
     "text": [
      " 34%|███▎      | 674/2000 [01:08<02:58,  7.44it/s]"
     ]
    },
    {
     "name": "stdout",
     "output_type": "stream",
     "text": [
      "Training_loss 1.53240,   Relative Error 0.47473\n",
      "Training_loss 1.53340,   Relative Error 0.47489\n"
     ]
    },
    {
     "name": "stderr",
     "output_type": "stream",
     "text": [
      "\r",
      " 34%|███▍      | 676/2000 [01:09<02:37,  8.42it/s]"
     ]
    },
    {
     "name": "stdout",
     "output_type": "stream",
     "text": [
      "Training_loss 1.53149,   Relative Error 0.47459\n",
      "Training_loss 1.53272,   Relative Error 0.47477\n"
     ]
    },
    {
     "name": "stderr",
     "output_type": "stream",
     "text": [
      " 34%|███▍      | 678/2000 [01:09<02:34,  8.58it/s]"
     ]
    },
    {
     "name": "stdout",
     "output_type": "stream",
     "text": [
      "Training_loss 1.52856,   Relative Error 0.47413\n",
      "Training_loss 1.52835,   Relative Error 0.47411\n"
     ]
    },
    {
     "name": "stderr",
     "output_type": "stream",
     "text": [
      " 34%|███▍      | 680/2000 [01:09<02:25,  9.05it/s]"
     ]
    },
    {
     "name": "stdout",
     "output_type": "stream",
     "text": [
      "Training_loss 1.52779,   Relative Error 0.47403\n",
      "Training_loss 1.52607,   Relative Error 0.47374\n"
     ]
    },
    {
     "name": "stderr",
     "output_type": "stream",
     "text": [
      " 34%|███▍      | 682/2000 [01:09<02:55,  7.52it/s]"
     ]
    },
    {
     "name": "stdout",
     "output_type": "stream",
     "text": [
      "Training_loss 1.52564,   Relative Error 0.47368\n",
      "Training_loss 1.52242,   Relative Error 0.47319\n"
     ]
    },
    {
     "name": "stderr",
     "output_type": "stream",
     "text": [
      " 34%|███▍      | 684/2000 [01:09<02:50,  7.72it/s]"
     ]
    },
    {
     "name": "stdout",
     "output_type": "stream",
     "text": [
      "Training_loss 1.52358,   Relative Error 0.47336\n",
      "Training_loss 1.52263,   Relative Error 0.47320\n"
     ]
    },
    {
     "name": "stderr",
     "output_type": "stream",
     "text": [
      "\r",
      " 34%|███▍      | 686/2000 [01:10<02:21,  9.26it/s]"
     ]
    },
    {
     "name": "stdout",
     "output_type": "stream",
     "text": [
      "Training_loss 1.52235,   Relative Error 0.47315\n",
      "Training_loss 1.52137,   Relative Error 0.47300\n",
      "Training_loss 1.52031,   Relative Error 0.47284\n"
     ]
    },
    {
     "name": "stderr",
     "output_type": "stream",
     "text": [
      " 34%|███▍      | 690/2000 [01:10<01:57, 11.15it/s]"
     ]
    },
    {
     "name": "stdout",
     "output_type": "stream",
     "text": [
      "Training_loss 1.51589,   Relative Error 0.47215\n",
      "Training_loss 1.51511,   Relative Error 0.47203\n",
      "Training_loss 1.51228,   Relative Error 0.47161\n"
     ]
    },
    {
     "name": "stderr",
     "output_type": "stream",
     "text": [
      "\r",
      " 35%|███▍      | 692/2000 [01:10<01:55, 11.33it/s]"
     ]
    },
    {
     "name": "stdout",
     "output_type": "stream",
     "text": [
      "Training_loss 1.51118,   Relative Error 0.47142\n",
      "Training_loss 1.51028,   Relative Error 0.47126\n",
      "Training_loss 1.50586,   Relative Error 0.47057\n"
     ]
    },
    {
     "name": "stderr",
     "output_type": "stream",
     "text": [
      " 35%|███▍      | 696/2000 [01:10<01:51, 11.67it/s]"
     ]
    },
    {
     "name": "stdout",
     "output_type": "stream",
     "text": [
      "Training_loss 1.50259,   Relative Error 0.47005\n",
      "Training_loss 1.49925,   Relative Error 0.46952\n",
      "Training_loss 1.49803,   Relative Error 0.46933\n"
     ]
    },
    {
     "name": "stderr",
     "output_type": "stream",
     "text": [
      "\r",
      " 35%|███▍      | 698/2000 [01:11<01:48, 11.95it/s]"
     ]
    },
    {
     "name": "stdout",
     "output_type": "stream",
     "text": [
      "Training_loss 1.49377,   Relative Error 0.46866\n",
      "Training_loss 1.49086,   Relative Error 0.46821\n",
      "Training_loss 1.48908,   Relative Error 0.46792\n"
     ]
    },
    {
     "name": "stderr",
     "output_type": "stream",
     "text": [
      " 35%|███▌      | 702/2000 [01:11<01:48, 11.98it/s]"
     ]
    },
    {
     "name": "stdout",
     "output_type": "stream",
     "text": [
      "Training_loss 1.48650,   Relative Error 0.46750\n",
      "Training_loss 1.48636,   Relative Error 0.46749\n",
      "Training_loss 1.48392,   Relative Error 0.46710\n"
     ]
    },
    {
     "name": "stderr",
     "output_type": "stream",
     "text": [
      "\r",
      " 35%|███▌      | 704/2000 [01:11<01:52, 11.56it/s]"
     ]
    },
    {
     "name": "stdout",
     "output_type": "stream",
     "text": [
      "Training_loss 1.48405,   Relative Error 0.46713\n",
      "Training_loss 1.48308,   Relative Error 0.46700\n"
     ]
    },
    {
     "name": "stderr",
     "output_type": "stream",
     "text": [
      "\r",
      " 35%|███▌      | 706/2000 [01:11<02:09,  9.96it/s]"
     ]
    },
    {
     "name": "stdout",
     "output_type": "stream",
     "text": [
      "Training_loss 1.48322,   Relative Error 0.46702\n",
      "Training_loss 1.47907,   Relative Error 0.46637\n",
      "Training_loss 1.47601,   Relative Error 0.46588\n"
     ]
    },
    {
     "name": "stderr",
     "output_type": "stream",
     "text": [
      " 36%|███▌      | 710/2000 [01:12<02:00, 10.74it/s]"
     ]
    },
    {
     "name": "stdout",
     "output_type": "stream",
     "text": [
      "Training_loss 1.47477,   Relative Error 0.46566\n",
      "Training_loss 1.47345,   Relative Error 0.46544\n",
      "Training_loss 1.47396,   Relative Error 0.46552\n"
     ]
    },
    {
     "name": "stderr",
     "output_type": "stream",
     "text": [
      "\r",
      " 36%|███▌      | 712/2000 [01:12<01:59, 10.75it/s]"
     ]
    },
    {
     "name": "stdout",
     "output_type": "stream",
     "text": [
      "Training_loss 1.47198,   Relative Error 0.46522\n",
      "Training_loss 1.47064,   Relative Error 0.46500\n",
      "Training_loss 1.46830,   Relative Error 0.46463\n"
     ]
    },
    {
     "name": "stderr",
     "output_type": "stream",
     "text": [
      " 36%|███▌      | 716/2000 [01:12<01:56, 11.05it/s]"
     ]
    },
    {
     "name": "stdout",
     "output_type": "stream",
     "text": [
      "Training_loss 1.46460,   Relative Error 0.46403\n",
      "Training_loss 1.46463,   Relative Error 0.46403\n",
      "Training_loss 1.46307,   Relative Error 0.46379\n"
     ]
    },
    {
     "name": "stderr",
     "output_type": "stream",
     "text": [
      "\r",
      " 36%|███▌      | 718/2000 [01:12<01:52, 11.44it/s]"
     ]
    },
    {
     "name": "stdout",
     "output_type": "stream",
     "text": [
      "Training_loss 1.46085,   Relative Error 0.46343\n",
      "Training_loss 1.45936,   Relative Error 0.46319\n",
      "Training_loss 1.46019,   Relative Error 0.46331\n"
     ]
    },
    {
     "name": "stderr",
     "output_type": "stream",
     "text": [
      "\r",
      " 36%|███▌      | 720/2000 [01:13<01:48, 11.77it/s]"
     ]
    },
    {
     "name": "stdout",
     "output_type": "stream",
     "text": [
      "Training_loss 1.45650,   Relative Error 0.46273\n",
      "Training_loss 1.45620,   Relative Error 0.46267\n"
     ]
    },
    {
     "name": "stderr",
     "output_type": "stream",
     "text": [
      " 36%|███▌      | 724/2000 [01:13<02:07, 10.03it/s]"
     ]
    },
    {
     "name": "stdout",
     "output_type": "stream",
     "text": [
      "Training_loss 1.45734,   Relative Error 0.46284\n",
      "Training_loss 1.45345,   Relative Error 0.46224\n",
      "Training_loss 1.45281,   Relative Error 0.46213\n",
      "Training_loss 1.45052,   Relative Error 0.46176\n",
      "Training_loss 1.44839,   Relative Error 0.46143\n"
     ]
    },
    {
     "name": "stderr",
     "output_type": "stream",
     "text": [
      " 36%|███▋      | 728/2000 [01:14<02:51,  7.42it/s]"
     ]
    },
    {
     "name": "stdout",
     "output_type": "stream",
     "text": [
      "Training_loss 1.44746,   Relative Error 0.46129\n",
      "Training_loss 1.44729,   Relative Error 0.46128\n",
      "Training_loss 1.44637,   Relative Error 0.46113\n"
     ]
    },
    {
     "name": "stderr",
     "output_type": "stream",
     "text": [
      " 37%|███▋      | 732/2000 [01:14<02:09,  9.82it/s]"
     ]
    },
    {
     "name": "stdout",
     "output_type": "stream",
     "text": [
      "Training_loss 1.44274,   Relative Error 0.46055\n",
      "Training_loss 1.44045,   Relative Error 0.46020\n",
      "Training_loss 1.44034,   Relative Error 0.46018\n"
     ]
    },
    {
     "name": "stderr",
     "output_type": "stream",
     "text": [
      "\r",
      " 37%|███▋      | 734/2000 [01:14<02:10,  9.67it/s]"
     ]
    },
    {
     "name": "stdout",
     "output_type": "stream",
     "text": [
      "Training_loss 1.44138,   Relative Error 0.46033\n",
      "Training_loss 1.44247,   Relative Error 0.46050\n"
     ]
    },
    {
     "name": "stderr",
     "output_type": "stream",
     "text": [
      "\r",
      " 37%|███▋      | 736/2000 [01:14<02:09,  9.75it/s]"
     ]
    },
    {
     "name": "stdout",
     "output_type": "stream",
     "text": [
      "Training_loss 1.44236,   Relative Error 0.46047\n",
      "Training_loss 1.44335,   Relative Error 0.46062\n",
      "Training_loss 1.44143,   Relative Error 0.46033\n"
     ]
    },
    {
     "name": "stderr",
     "output_type": "stream",
     "text": [
      " 37%|███▋      | 740/2000 [01:15<01:55, 10.87it/s]"
     ]
    },
    {
     "name": "stdout",
     "output_type": "stream",
     "text": [
      "Training_loss 1.43935,   Relative Error 0.45998\n",
      "Training_loss 1.44065,   Relative Error 0.46019\n",
      "Training_loss 1.44044,   Relative Error 0.46016\n"
     ]
    },
    {
     "name": "stderr",
     "output_type": "stream",
     "text": [
      "\r",
      " 37%|███▋      | 742/2000 [01:15<02:28,  8.45it/s]"
     ]
    },
    {
     "name": "stdout",
     "output_type": "stream",
     "text": [
      "Training_loss 1.43850,   Relative Error 0.45985\n",
      "Training_loss 1.43880,   Relative Error 0.45990\n"
     ]
    },
    {
     "name": "stderr",
     "output_type": "stream",
     "text": [
      " 37%|███▋      | 744/2000 [01:15<02:43,  7.68it/s]"
     ]
    },
    {
     "name": "stdout",
     "output_type": "stream",
     "text": [
      "Training_loss 1.43782,   Relative Error 0.45974\n",
      "Training_loss 1.43669,   Relative Error 0.45957\n"
     ]
    },
    {
     "name": "stderr",
     "output_type": "stream",
     "text": [
      " 37%|███▋      | 747/2000 [01:16<02:25,  8.63it/s]"
     ]
    },
    {
     "name": "stdout",
     "output_type": "stream",
     "text": [
      "Training_loss 1.43573,   Relative Error 0.45942\n",
      "Training_loss 1.43537,   Relative Error 0.45935\n",
      "Training_loss 1.43465,   Relative Error 0.45923\n"
     ]
    },
    {
     "name": "stderr",
     "output_type": "stream",
     "text": [
      "\r",
      " 37%|███▋      | 749/2000 [01:16<02:08,  9.76it/s]"
     ]
    },
    {
     "name": "stdout",
     "output_type": "stream",
     "text": [
      "Training_loss 1.43547,   Relative Error 0.45936\n",
      "Training_loss 1.43582,   Relative Error 0.45942\n",
      "Training_loss 1.43224,   Relative Error 0.45885\n"
     ]
    },
    {
     "name": "stderr",
     "output_type": "stream",
     "text": [
      " 38%|███▊      | 753/2000 [01:16<01:54, 10.93it/s]"
     ]
    },
    {
     "name": "stdout",
     "output_type": "stream",
     "text": [
      "Training_loss 1.43166,   Relative Error 0.45875\n",
      "Training_loss 1.43288,   Relative Error 0.45894\n",
      "Training_loss 1.43282,   Relative Error 0.45895\n"
     ]
    },
    {
     "name": "stderr",
     "output_type": "stream",
     "text": [
      "\r",
      " 38%|███▊      | 755/2000 [01:16<01:50, 11.24it/s]"
     ]
    },
    {
     "name": "stdout",
     "output_type": "stream",
     "text": [
      "Training_loss 1.43414,   Relative Error 0.45914\n",
      "Training_loss 1.43365,   Relative Error 0.45906\n",
      "Training_loss 1.43379,   Relative Error 0.45908\n"
     ]
    },
    {
     "name": "stderr",
     "output_type": "stream",
     "text": [
      " 38%|███▊      | 759/2000 [01:17<01:45, 11.76it/s]"
     ]
    },
    {
     "name": "stdout",
     "output_type": "stream",
     "text": [
      "Training_loss 1.43010,   Relative Error 0.45848\n",
      "Training_loss 1.43148,   Relative Error 0.45870\n",
      "Training_loss 1.43069,   Relative Error 0.45857\n"
     ]
    },
    {
     "name": "stderr",
     "output_type": "stream",
     "text": [
      "\r",
      " 38%|███▊      | 761/2000 [01:17<01:50, 11.20it/s]"
     ]
    },
    {
     "name": "stdout",
     "output_type": "stream",
     "text": [
      "Training_loss 1.42966,   Relative Error 0.45842\n",
      "Training_loss 1.42677,   Relative Error 0.45794\n"
     ]
    },
    {
     "name": "stderr",
     "output_type": "stream",
     "text": [
      "\r",
      " 38%|███▊      | 763/2000 [01:17<01:54, 10.79it/s]"
     ]
    },
    {
     "name": "stdout",
     "output_type": "stream",
     "text": [
      "Training_loss 1.42677,   Relative Error 0.45794\n",
      "Training_loss 1.42612,   Relative Error 0.45784\n",
      "Training_loss 1.42584,   Relative Error 0.45778\n"
     ]
    },
    {
     "name": "stderr",
     "output_type": "stream",
     "text": [
      " 38%|███▊      | 767/2000 [01:18<01:53, 10.88it/s]"
     ]
    },
    {
     "name": "stdout",
     "output_type": "stream",
     "text": [
      "Training_loss 1.42540,   Relative Error 0.45770\n",
      "Training_loss 1.42515,   Relative Error 0.45767\n",
      "Training_loss 1.42156,   Relative Error 0.45709\n"
     ]
    },
    {
     "name": "stderr",
     "output_type": "stream",
     "text": [
      "\r",
      " 38%|███▊      | 769/2000 [01:18<01:55, 10.67it/s]"
     ]
    },
    {
     "name": "stdout",
     "output_type": "stream",
     "text": [
      "Training_loss 1.41874,   Relative Error 0.45663\n",
      "Training_loss 1.41972,   Relative Error 0.45679\n",
      "Training_loss 1.41680,   Relative Error 0.45631\n"
     ]
    },
    {
     "name": "stderr",
     "output_type": "stream",
     "text": [
      " 39%|███▊      | 773/2000 [01:18<01:51, 10.98it/s]"
     ]
    },
    {
     "name": "stdout",
     "output_type": "stream",
     "text": [
      "Training_loss 1.41671,   Relative Error 0.45631\n",
      "Training_loss 1.41578,   Relative Error 0.45614\n",
      "Training_loss 1.41496,   Relative Error 0.45601\n"
     ]
    },
    {
     "name": "stderr",
     "output_type": "stream",
     "text": [
      "\r",
      " 39%|███▉      | 775/2000 [01:18<01:47, 11.38it/s]"
     ]
    },
    {
     "name": "stdout",
     "output_type": "stream",
     "text": [
      "Training_loss 1.41153,   Relative Error 0.45547\n",
      "Training_loss 1.40914,   Relative Error 0.45510\n",
      "Training_loss 1.40927,   Relative Error 0.45511\n"
     ]
    },
    {
     "name": "stderr",
     "output_type": "stream",
     "text": [
      " 39%|███▉      | 779/2000 [01:19<01:38, 12.43it/s]"
     ]
    },
    {
     "name": "stdout",
     "output_type": "stream",
     "text": [
      "Training_loss 1.40838,   Relative Error 0.45495\n",
      "Training_loss 1.41005,   Relative Error 0.45524\n",
      "Training_loss 1.41010,   Relative Error 0.45525\n"
     ]
    },
    {
     "name": "stderr",
     "output_type": "stream",
     "text": [
      "\r",
      " 39%|███▉      | 781/2000 [01:19<01:37, 12.50it/s]"
     ]
    },
    {
     "name": "stdout",
     "output_type": "stream",
     "text": [
      "Training_loss 1.40956,   Relative Error 0.45518\n",
      "Training_loss 1.40916,   Relative Error 0.45512\n",
      "Training_loss 1.40879,   Relative Error 0.45505\n"
     ]
    },
    {
     "name": "stderr",
     "output_type": "stream",
     "text": [
      "\r",
      " 39%|███▉      | 783/2000 [01:19<01:37, 12.50it/s]"
     ]
    },
    {
     "name": "stdout",
     "output_type": "stream",
     "text": [
      "Training_loss 1.40935,   Relative Error 0.45513\n",
      "Training_loss 1.41043,   Relative Error 0.45530\n"
     ]
    },
    {
     "name": "stderr",
     "output_type": "stream",
     "text": [
      " 39%|███▉      | 787/2000 [01:19<01:56, 10.44it/s]"
     ]
    },
    {
     "name": "stdout",
     "output_type": "stream",
     "text": [
      "Training_loss 1.40714,   Relative Error 0.45479\n",
      "Training_loss 1.40905,   Relative Error 0.45509\n",
      "Training_loss 1.40930,   Relative Error 0.45513\n"
     ]
    },
    {
     "name": "stderr",
     "output_type": "stream",
     "text": [
      "\r",
      " 39%|███▉      | 789/2000 [01:20<02:05,  9.68it/s]"
     ]
    },
    {
     "name": "stdout",
     "output_type": "stream",
     "text": [
      "Training_loss 1.40934,   Relative Error 0.45515\n",
      "Training_loss 1.40936,   Relative Error 0.45516\n"
     ]
    },
    {
     "name": "stderr",
     "output_type": "stream",
     "text": [
      "\r",
      " 40%|███▉      | 791/2000 [01:20<01:58, 10.16it/s]"
     ]
    },
    {
     "name": "stdout",
     "output_type": "stream",
     "text": [
      "Training_loss 1.40820,   Relative Error 0.45498\n",
      "Training_loss 1.40822,   Relative Error 0.45498\n",
      "Training_loss 1.40769,   Relative Error 0.45489\n"
     ]
    },
    {
     "name": "stderr",
     "output_type": "stream",
     "text": [
      "\r",
      " 40%|███▉      | 793/2000 [01:20<01:58, 10.19it/s]"
     ]
    },
    {
     "name": "stdout",
     "output_type": "stream",
     "text": [
      "Training_loss 1.40792,   Relative Error 0.45492\n",
      "Training_loss 1.40877,   Relative Error 0.45506\n"
     ]
    },
    {
     "name": "stderr",
     "output_type": "stream",
     "text": [
      " 40%|███▉      | 796/2000 [01:20<02:14,  8.93it/s]"
     ]
    },
    {
     "name": "stdout",
     "output_type": "stream",
     "text": [
      "Training_loss 1.40923,   Relative Error 0.45513\n",
      "Training_loss 1.40589,   Relative Error 0.45460\n"
     ]
    },
    {
     "name": "stderr",
     "output_type": "stream",
     "text": [
      " 40%|███▉      | 799/2000 [01:21<02:00,  9.95it/s]"
     ]
    },
    {
     "name": "stdout",
     "output_type": "stream",
     "text": [
      "Training_loss 1.40593,   Relative Error 0.45460\n",
      "Training_loss 1.40637,   Relative Error 0.45467\n",
      "Training_loss 1.40270,   Relative Error 0.45409\n"
     ]
    },
    {
     "name": "stderr",
     "output_type": "stream",
     "text": [
      "\r",
      " 40%|████      | 801/2000 [01:21<01:50, 10.86it/s]"
     ]
    },
    {
     "name": "stdout",
     "output_type": "stream",
     "text": [
      "Training_loss 1.40342,   Relative Error 0.45421\n",
      "Training_loss 1.40221,   Relative Error 0.45400\n",
      "Training_loss 1.40063,   Relative Error 0.45374\n"
     ]
    },
    {
     "name": "stderr",
     "output_type": "stream",
     "text": [
      " 40%|████      | 805/2000 [01:21<01:39, 11.96it/s]"
     ]
    },
    {
     "name": "stdout",
     "output_type": "stream",
     "text": [
      "Training_loss 1.39808,   Relative Error 0.45331\n",
      "Training_loss 1.39813,   Relative Error 0.45332\n",
      "Training_loss 1.39934,   Relative Error 0.45350\n"
     ]
    },
    {
     "name": "stderr",
     "output_type": "stream",
     "text": [
      "\r",
      " 40%|████      | 807/2000 [01:21<01:39, 12.05it/s]"
     ]
    },
    {
     "name": "stdout",
     "output_type": "stream",
     "text": [
      "Training_loss 1.39965,   Relative Error 0.45358\n",
      "Training_loss 1.39709,   Relative Error 0.45316\n",
      "Training_loss 1.39753,   Relative Error 0.45323\n"
     ]
    },
    {
     "name": "stderr",
     "output_type": "stream",
     "text": [
      " 41%|████      | 811/2000 [01:22<01:36, 12.31it/s]"
     ]
    },
    {
     "name": "stdout",
     "output_type": "stream",
     "text": [
      "Training_loss 1.39740,   Relative Error 0.45320\n",
      "Training_loss 1.39736,   Relative Error 0.45318\n",
      "Training_loss 1.39414,   Relative Error 0.45265\n"
     ]
    },
    {
     "name": "stderr",
     "output_type": "stream",
     "text": [
      "\r",
      " 41%|████      | 813/2000 [01:22<01:36, 12.24it/s]"
     ]
    },
    {
     "name": "stdout",
     "output_type": "stream",
     "text": [
      "Training_loss 1.39267,   Relative Error 0.45242\n",
      "Training_loss 1.39216,   Relative Error 0.45233\n",
      "Training_loss 1.39241,   Relative Error 0.45237\n"
     ]
    },
    {
     "name": "stderr",
     "output_type": "stream",
     "text": [
      " 41%|████      | 817/2000 [01:22<01:34, 12.47it/s]"
     ]
    },
    {
     "name": "stdout",
     "output_type": "stream",
     "text": [
      "Training_loss 1.38985,   Relative Error 0.45196\n",
      "Training_loss 1.38925,   Relative Error 0.45186\n",
      "Training_loss 1.38774,   Relative Error 0.45160\n"
     ]
    },
    {
     "name": "stderr",
     "output_type": "stream",
     "text": [
      "\r",
      " 41%|████      | 819/2000 [01:22<01:36, 12.26it/s]"
     ]
    },
    {
     "name": "stdout",
     "output_type": "stream",
     "text": [
      "Training_loss 1.38798,   Relative Error 0.45163\n",
      "Training_loss 1.38866,   Relative Error 0.45174\n",
      "Training_loss 1.38824,   Relative Error 0.45166\n"
     ]
    },
    {
     "name": "stderr",
     "output_type": "stream",
     "text": [
      " 41%|████      | 823/2000 [01:23<01:44, 11.27it/s]"
     ]
    },
    {
     "name": "stdout",
     "output_type": "stream",
     "text": [
      "Training_loss 1.38721,   Relative Error 0.45149\n",
      "Training_loss 1.38405,   Relative Error 0.45100\n",
      "Training_loss 1.38454,   Relative Error 0.45109\n"
     ]
    },
    {
     "name": "stderr",
     "output_type": "stream",
     "text": [
      "\r",
      " 41%|████▏     | 825/2000 [01:23<01:46, 11.05it/s]"
     ]
    },
    {
     "name": "stdout",
     "output_type": "stream",
     "text": [
      "Training_loss 1.38366,   Relative Error 0.45095\n",
      "Training_loss 1.38278,   Relative Error 0.45081\n",
      "Training_loss 1.38231,   Relative Error 0.45073\n"
     ]
    },
    {
     "name": "stderr",
     "output_type": "stream",
     "text": [
      " 41%|████▏     | 829/2000 [01:23<01:47, 10.90it/s]"
     ]
    },
    {
     "name": "stdout",
     "output_type": "stream",
     "text": [
      "Training_loss 1.38076,   Relative Error 0.45047\n",
      "Training_loss 1.37910,   Relative Error 0.45018\n",
      "Training_loss 1.37799,   Relative Error 0.45000\n"
     ]
    },
    {
     "name": "stderr",
     "output_type": "stream",
     "text": [
      "\r",
      " 42%|████▏     | 831/2000 [01:23<01:48, 10.74it/s]"
     ]
    },
    {
     "name": "stdout",
     "output_type": "stream",
     "text": [
      "Training_loss 1.37738,   Relative Error 0.44991\n",
      "Training_loss 1.37700,   Relative Error 0.44986\n",
      "Training_loss 1.37646,   Relative Error 0.44977\n"
     ]
    },
    {
     "name": "stderr",
     "output_type": "stream",
     "text": [
      " 42%|████▏     | 835/2000 [01:24<01:40, 11.65it/s]"
     ]
    },
    {
     "name": "stdout",
     "output_type": "stream",
     "text": [
      "Training_loss 1.37619,   Relative Error 0.44970\n",
      "Training_loss 1.37759,   Relative Error 0.44994\n",
      "Training_loss 1.37711,   Relative Error 0.44983\n"
     ]
    },
    {
     "name": "stderr",
     "output_type": "stream",
     "text": [
      "\r",
      " 42%|████▏     | 837/2000 [01:24<01:38, 11.82it/s]"
     ]
    },
    {
     "name": "stdout",
     "output_type": "stream",
     "text": [
      "Training_loss 1.37700,   Relative Error 0.44980\n",
      "Training_loss 1.37736,   Relative Error 0.44983\n",
      "Training_loss 1.37850,   Relative Error 0.45002\n"
     ]
    },
    {
     "name": "stderr",
     "output_type": "stream",
     "text": [
      " 42%|████▏     | 841/2000 [01:24<01:35, 12.12it/s]"
     ]
    },
    {
     "name": "stdout",
     "output_type": "stream",
     "text": [
      "Training_loss 1.38018,   Relative Error 0.45029\n",
      "Training_loss 1.38081,   Relative Error 0.45040\n",
      "Training_loss 1.38144,   Relative Error 0.45050\n"
     ]
    },
    {
     "name": "stderr",
     "output_type": "stream",
     "text": [
      "\r",
      " 42%|████▏     | 843/2000 [01:24<01:39, 11.57it/s]"
     ]
    },
    {
     "name": "stdout",
     "output_type": "stream",
     "text": [
      "Training_loss 1.38330,   Relative Error 0.45080\n",
      "Training_loss 1.38248,   Relative Error 0.45069\n",
      "Training_loss 1.38033,   Relative Error 0.45032\n"
     ]
    },
    {
     "name": "stderr",
     "output_type": "stream",
     "text": [
      " 42%|████▏     | 847/2000 [01:25<01:36, 12.01it/s]"
     ]
    },
    {
     "name": "stdout",
     "output_type": "stream",
     "text": [
      "Training_loss 1.37927,   Relative Error 0.45014\n",
      "Training_loss 1.37980,   Relative Error 0.45024\n",
      "Training_loss 1.37743,   Relative Error 0.44983\n"
     ]
    },
    {
     "name": "stderr",
     "output_type": "stream",
     "text": [
      "\r",
      " 42%|████▏     | 849/2000 [01:25<01:33, 12.36it/s]"
     ]
    },
    {
     "name": "stdout",
     "output_type": "stream",
     "text": [
      "Training_loss 1.37646,   Relative Error 0.44967\n",
      "Training_loss 1.37695,   Relative Error 0.44974\n",
      "Training_loss 1.37633,   Relative Error 0.44966\n"
     ]
    },
    {
     "name": "stderr",
     "output_type": "stream",
     "text": [
      " 43%|████▎     | 853/2000 [01:25<01:38, 11.60it/s]"
     ]
    },
    {
     "name": "stdout",
     "output_type": "stream",
     "text": [
      "Training_loss 1.37822,   Relative Error 0.44998\n",
      "Training_loss 1.37622,   Relative Error 0.44966\n",
      "Training_loss 1.37635,   Relative Error 0.44968\n"
     ]
    },
    {
     "name": "stderr",
     "output_type": "stream",
     "text": [
      "\r",
      " 43%|████▎     | 855/2000 [01:25<01:37, 11.79it/s]"
     ]
    },
    {
     "name": "stdout",
     "output_type": "stream",
     "text": [
      "Training_loss 1.37385,   Relative Error 0.44928\n",
      "Training_loss 1.37233,   Relative Error 0.44904\n",
      "Training_loss 1.37328,   Relative Error 0.44918\n"
     ]
    },
    {
     "name": "stderr",
     "output_type": "stream",
     "text": [
      " 43%|████▎     | 859/2000 [01:26<01:34, 12.03it/s]"
     ]
    },
    {
     "name": "stdout",
     "output_type": "stream",
     "text": [
      "Training_loss 1.37257,   Relative Error 0.44908\n",
      "Training_loss 1.37160,   Relative Error 0.44892\n",
      "Training_loss 1.37040,   Relative Error 0.44873\n"
     ]
    },
    {
     "name": "stderr",
     "output_type": "stream",
     "text": [
      " 43%|████▎     | 863/2000 [01:26<01:25, 13.37it/s]"
     ]
    },
    {
     "name": "stdout",
     "output_type": "stream",
     "text": [
      "Training_loss 1.36727,   Relative Error 0.44821\n",
      "Training_loss 1.36634,   Relative Error 0.44807\n",
      "Training_loss 1.36611,   Relative Error 0.44803\n",
      "Training_loss 1.36757,   Relative Error 0.44827\n"
     ]
    },
    {
     "name": "stderr",
     "output_type": "stream",
     "text": [
      "\r",
      " 43%|████▎     | 865/2000 [01:26<01:26, 13.12it/s]"
     ]
    },
    {
     "name": "stdout",
     "output_type": "stream",
     "text": [
      "Training_loss 1.36763,   Relative Error 0.44828\n",
      "Training_loss 1.36697,   Relative Error 0.44816\n",
      "Training_loss 1.36565,   Relative Error 0.44795\n"
     ]
    },
    {
     "name": "stderr",
     "output_type": "stream",
     "text": [
      " 43%|████▎     | 869/2000 [01:26<01:25, 13.16it/s]"
     ]
    },
    {
     "name": "stdout",
     "output_type": "stream",
     "text": [
      "Training_loss 1.36525,   Relative Error 0.44786\n",
      "Training_loss 1.36649,   Relative Error 0.44809\n",
      "Training_loss 1.36684,   Relative Error 0.44817\n"
     ]
    },
    {
     "name": "stderr",
     "output_type": "stream",
     "text": [
      "\r",
      " 44%|████▎     | 871/2000 [01:27<01:28, 12.74it/s]"
     ]
    },
    {
     "name": "stdout",
     "output_type": "stream",
     "text": [
      "Training_loss 1.36599,   Relative Error 0.44803\n",
      "Training_loss 1.36523,   Relative Error 0.44790\n",
      "Training_loss 1.36485,   Relative Error 0.44785\n"
     ]
    },
    {
     "name": "stderr",
     "output_type": "stream",
     "text": [
      " 44%|████▍     | 875/2000 [01:27<01:25, 13.12it/s]"
     ]
    },
    {
     "name": "stdout",
     "output_type": "stream",
     "text": [
      "Training_loss 1.36481,   Relative Error 0.44783\n",
      "Training_loss 1.36461,   Relative Error 0.44778\n",
      "Training_loss 1.36516,   Relative Error 0.44786\n"
     ]
    },
    {
     "name": "stderr",
     "output_type": "stream",
     "text": [
      "\r",
      " 44%|████▍     | 877/2000 [01:27<01:24, 13.22it/s]"
     ]
    },
    {
     "name": "stdout",
     "output_type": "stream",
     "text": [
      "Training_loss 1.36533,   Relative Error 0.44788\n",
      "Training_loss 1.36552,   Relative Error 0.44791\n",
      "Training_loss 1.36616,   Relative Error 0.44800\n"
     ]
    },
    {
     "name": "stderr",
     "output_type": "stream",
     "text": [
      " 44%|████▍     | 881/2000 [01:27<01:29, 12.44it/s]"
     ]
    },
    {
     "name": "stdout",
     "output_type": "stream",
     "text": [
      "Training_loss 1.36504,   Relative Error 0.44782\n",
      "Training_loss 1.36322,   Relative Error 0.44751\n",
      "Training_loss 1.36412,   Relative Error 0.44767\n"
     ]
    },
    {
     "name": "stderr",
     "output_type": "stream",
     "text": [
      "\r",
      " 44%|████▍     | 883/2000 [01:27<01:30, 12.33it/s]"
     ]
    },
    {
     "name": "stdout",
     "output_type": "stream",
     "text": [
      "Training_loss 1.36465,   Relative Error 0.44775\n",
      "Training_loss 1.36159,   Relative Error 0.44725\n",
      "Training_loss 1.36424,   Relative Error 0.44769\n"
     ]
    },
    {
     "name": "stderr",
     "output_type": "stream",
     "text": [
      "\r",
      " 44%|████▍     | 885/2000 [01:28<01:32, 12.12it/s]"
     ]
    },
    {
     "name": "stdout",
     "output_type": "stream",
     "text": [
      "Training_loss 1.36240,   Relative Error 0.44737\n",
      "Training_loss 1.36304,   Relative Error 0.44748\n"
     ]
    },
    {
     "name": "stderr",
     "output_type": "stream",
     "text": [
      " 44%|████▍     | 889/2000 [01:28<01:39, 11.22it/s]"
     ]
    },
    {
     "name": "stdout",
     "output_type": "stream",
     "text": [
      "Training_loss 1.36455,   Relative Error 0.44773\n",
      "Training_loss 1.36415,   Relative Error 0.44765\n",
      "Training_loss 1.36089,   Relative Error 0.44710\n"
     ]
    },
    {
     "name": "stderr",
     "output_type": "stream",
     "text": [
      "\r",
      " 45%|████▍     | 891/2000 [01:28<01:38, 11.23it/s]"
     ]
    },
    {
     "name": "stdout",
     "output_type": "stream",
     "text": [
      "Training_loss 1.35639,   Relative Error 0.44636\n",
      "Training_loss 1.35884,   Relative Error 0.44676\n",
      "Training_loss 1.35620,   Relative Error 0.44634\n"
     ]
    },
    {
     "name": "stderr",
     "output_type": "stream",
     "text": [
      " 45%|████▍     | 895/2000 [01:29<01:36, 11.48it/s]"
     ]
    },
    {
     "name": "stdout",
     "output_type": "stream",
     "text": [
      "Training_loss 1.35643,   Relative Error 0.44638\n",
      "Training_loss 1.35755,   Relative Error 0.44657\n",
      "Training_loss 1.35648,   Relative Error 0.44640\n"
     ]
    },
    {
     "name": "stderr",
     "output_type": "stream",
     "text": [
      "\r",
      " 45%|████▍     | 897/2000 [01:29<01:36, 11.41it/s]"
     ]
    },
    {
     "name": "stdout",
     "output_type": "stream",
     "text": [
      "Training_loss 1.35532,   Relative Error 0.44622\n",
      "Training_loss 1.35576,   Relative Error 0.44630\n",
      "Training_loss 1.35585,   Relative Error 0.44631\n"
     ]
    },
    {
     "name": "stderr",
     "output_type": "stream",
     "text": [
      " 45%|████▌     | 901/2000 [01:29<01:34, 11.69it/s]"
     ]
    },
    {
     "name": "stdout",
     "output_type": "stream",
     "text": [
      "Training_loss 1.35700,   Relative Error 0.44650\n",
      "Training_loss 1.35788,   Relative Error 0.44664\n",
      "Training_loss 1.35932,   Relative Error 0.44686\n"
     ]
    },
    {
     "name": "stderr",
     "output_type": "stream",
     "text": [
      "\r",
      " 45%|████▌     | 903/2000 [01:29<01:35, 11.51it/s]"
     ]
    },
    {
     "name": "stdout",
     "output_type": "stream",
     "text": [
      "Training_loss 1.35868,   Relative Error 0.44675\n",
      "Training_loss 1.35838,   Relative Error 0.44671\n",
      "Training_loss 1.35805,   Relative Error 0.44665\n"
     ]
    },
    {
     "name": "stderr",
     "output_type": "stream",
     "text": [
      " 45%|████▌     | 907/2000 [01:30<01:36, 11.31it/s]"
     ]
    },
    {
     "name": "stdout",
     "output_type": "stream",
     "text": [
      "Training_loss 1.35900,   Relative Error 0.44681\n",
      "Training_loss 1.36001,   Relative Error 0.44695\n",
      "Training_loss 1.36121,   Relative Error 0.44716\n"
     ]
    },
    {
     "name": "stderr",
     "output_type": "stream",
     "text": [
      "\r",
      " 45%|████▌     | 909/2000 [01:30<01:41, 10.80it/s]"
     ]
    },
    {
     "name": "stdout",
     "output_type": "stream",
     "text": [
      "Training_loss 1.36150,   Relative Error 0.44721\n",
      "Training_loss 1.36207,   Relative Error 0.44730\n",
      "Training_loss 1.36372,   Relative Error 0.44757\n"
     ]
    },
    {
     "name": "stderr",
     "output_type": "stream",
     "text": [
      " 46%|████▌     | 913/2000 [01:30<01:29, 12.12it/s]"
     ]
    },
    {
     "name": "stdout",
     "output_type": "stream",
     "text": [
      "Training_loss 1.36565,   Relative Error 0.44786\n",
      "Training_loss 1.36332,   Relative Error 0.44747\n",
      "Training_loss 1.36387,   Relative Error 0.44757\n"
     ]
    },
    {
     "name": "stderr",
     "output_type": "stream",
     "text": [
      "\r",
      " 46%|████▌     | 915/2000 [01:30<01:52,  9.61it/s]"
     ]
    },
    {
     "name": "stdout",
     "output_type": "stream",
     "text": [
      "Training_loss 1.36252,   Relative Error 0.44738\n",
      "Training_loss 1.36097,   Relative Error 0.44711\n"
     ]
    },
    {
     "name": "stderr",
     "output_type": "stream",
     "text": [
      "\r",
      " 46%|████▌     | 917/2000 [01:31<01:54,  9.45it/s]"
     ]
    },
    {
     "name": "stdout",
     "output_type": "stream",
     "text": [
      "Training_loss 1.36146,   Relative Error 0.44720\n",
      "Training_loss 1.36038,   Relative Error 0.44702\n",
      "Training_loss 1.36191,   Relative Error 0.44725\n"
     ]
    },
    {
     "name": "stderr",
     "output_type": "stream",
     "text": [
      " 46%|████▌     | 921/2000 [01:31<01:47, 10.00it/s]"
     ]
    },
    {
     "name": "stdout",
     "output_type": "stream",
     "text": [
      "Training_loss 1.36506,   Relative Error 0.44776\n",
      "Training_loss 1.36520,   Relative Error 0.44779\n",
      "Training_loss 1.36757,   Relative Error 0.44818\n"
     ]
    },
    {
     "name": "stderr",
     "output_type": "stream",
     "text": [
      "\r",
      " 46%|████▌     | 923/2000 [01:31<01:40, 10.68it/s]"
     ]
    },
    {
     "name": "stdout",
     "output_type": "stream",
     "text": [
      "Training_loss 1.36689,   Relative Error 0.44808\n",
      "Training_loss 1.36656,   Relative Error 0.44801\n",
      "Training_loss 1.36822,   Relative Error 0.44827\n"
     ]
    },
    {
     "name": "stderr",
     "output_type": "stream",
     "text": [
      "\r",
      " 46%|████▋     | 925/2000 [01:31<01:41, 10.64it/s]"
     ]
    },
    {
     "name": "stdout",
     "output_type": "stream",
     "text": [
      "Training_loss 1.36914,   Relative Error 0.44841\n",
      "Training_loss 1.37094,   Relative Error 0.44870\n"
     ]
    },
    {
     "name": "stderr",
     "output_type": "stream",
     "text": [
      " 46%|████▋     | 929/2000 [01:32<01:38, 10.86it/s]"
     ]
    },
    {
     "name": "stdout",
     "output_type": "stream",
     "text": [
      "Training_loss 1.37058,   Relative Error 0.44861\n",
      "Training_loss 1.37230,   Relative Error 0.44888\n",
      "Training_loss 1.37337,   Relative Error 0.44907\n"
     ]
    },
    {
     "name": "stderr",
     "output_type": "stream",
     "text": [
      "\r",
      " 47%|████▋     | 931/2000 [01:32<01:46, 10.07it/s]"
     ]
    },
    {
     "name": "stdout",
     "output_type": "stream",
     "text": [
      "Training_loss 1.37377,   Relative Error 0.44914\n",
      "Training_loss 1.37269,   Relative Error 0.44895\n"
     ]
    },
    {
     "name": "stderr",
     "output_type": "stream",
     "text": [
      "\r",
      " 47%|████▋     | 933/2000 [01:32<01:52,  9.49it/s]"
     ]
    },
    {
     "name": "stdout",
     "output_type": "stream",
     "text": [
      "Training_loss 1.37417,   Relative Error 0.44918\n",
      "Training_loss 1.37409,   Relative Error 0.44918\n",
      "Training_loss 1.37363,   Relative Error 0.44911\n"
     ]
    },
    {
     "name": "stderr",
     "output_type": "stream",
     "text": [
      " 47%|████▋     | 937/2000 [01:33<01:37, 10.95it/s]"
     ]
    },
    {
     "name": "stdout",
     "output_type": "stream",
     "text": [
      "Training_loss 1.37271,   Relative Error 0.44894\n",
      "Training_loss 1.37524,   Relative Error 0.44935\n",
      "Training_loss 1.37591,   Relative Error 0.44947\n"
     ]
    },
    {
     "name": "stderr",
     "output_type": "stream",
     "text": [
      "\r",
      " 47%|████▋     | 939/2000 [01:33<01:31, 11.66it/s]"
     ]
    },
    {
     "name": "stdout",
     "output_type": "stream",
     "text": [
      "Training_loss 1.37715,   Relative Error 0.44966\n",
      "Training_loss 1.37560,   Relative Error 0.44938\n",
      "Training_loss 1.37735,   Relative Error 0.44966\n"
     ]
    },
    {
     "name": "stderr",
     "output_type": "stream",
     "text": [
      " 47%|████▋     | 943/2000 [01:33<01:27, 12.04it/s]"
     ]
    },
    {
     "name": "stdout",
     "output_type": "stream",
     "text": [
      "Training_loss 1.37903,   Relative Error 0.44992\n",
      "Training_loss 1.38178,   Relative Error 0.45036\n",
      "Training_loss 1.37926,   Relative Error 0.44996\n"
     ]
    },
    {
     "name": "stderr",
     "output_type": "stream",
     "text": [
      "\r",
      " 47%|████▋     | 945/2000 [01:33<01:25, 12.32it/s]"
     ]
    },
    {
     "name": "stdout",
     "output_type": "stream",
     "text": [
      "Training_loss 1.37962,   Relative Error 0.45001\n",
      "Training_loss 1.37974,   Relative Error 0.45005\n",
      "Training_loss 1.38126,   Relative Error 0.45031\n"
     ]
    },
    {
     "name": "stderr",
     "output_type": "stream",
     "text": [
      " 47%|████▋     | 949/2000 [01:33<01:27, 12.02it/s]"
     ]
    },
    {
     "name": "stdout",
     "output_type": "stream",
     "text": [
      "Training_loss 1.37696,   Relative Error 0.44964\n",
      "Training_loss 1.37598,   Relative Error 0.44949\n",
      "Training_loss 1.37613,   Relative Error 0.44951\n"
     ]
    },
    {
     "name": "stderr",
     "output_type": "stream",
     "text": [
      "\r",
      " 48%|████▊     | 951/2000 [01:34<01:46,  9.88it/s]"
     ]
    },
    {
     "name": "stdout",
     "output_type": "stream",
     "text": [
      "Training_loss 1.37757,   Relative Error 0.44971\n",
      "Training_loss 1.38014,   Relative Error 0.45014\n"
     ]
    },
    {
     "name": "stderr",
     "output_type": "stream",
     "text": [
      " 48%|████▊     | 954/2000 [01:34<01:59,  8.75it/s]"
     ]
    },
    {
     "name": "stdout",
     "output_type": "stream",
     "text": [
      "Training_loss 1.38121,   Relative Error 0.45031\n",
      "Training_loss 1.38025,   Relative Error 0.45013\n",
      "Training_loss 1.37838,   Relative Error 0.44980\n"
     ]
    },
    {
     "name": "stderr",
     "output_type": "stream",
     "text": [
      "\r",
      " 48%|████▊     | 955/2000 [01:34<02:02,  8.55it/s]"
     ]
    },
    {
     "name": "stdout",
     "output_type": "stream",
     "text": [
      "Training_loss 1.37702,   Relative Error 0.44959\n",
      "Training_loss 1.37846,   Relative Error 0.44981\n"
     ]
    },
    {
     "name": "stderr",
     "output_type": "stream",
     "text": [
      " 48%|████▊     | 958/2000 [01:35<02:23,  7.25it/s]"
     ]
    },
    {
     "name": "stdout",
     "output_type": "stream",
     "text": [
      "Training_loss 1.37936,   Relative Error 0.44994\n",
      "Training_loss 1.38020,   Relative Error 0.45007\n"
     ]
    },
    {
     "name": "stderr",
     "output_type": "stream",
     "text": [
      "\r",
      " 48%|████▊     | 960/2000 [01:35<02:05,  8.31it/s]"
     ]
    },
    {
     "name": "stdout",
     "output_type": "stream",
     "text": [
      "Training_loss 1.38160,   Relative Error 0.45029\n",
      "Training_loss 1.38297,   Relative Error 0.45052\n",
      "Training_loss 1.38398,   Relative Error 0.45068\n"
     ]
    },
    {
     "name": "stderr",
     "output_type": "stream",
     "text": [
      "\r",
      " 48%|████▊     | 962/2000 [01:35<01:53,  9.16it/s]"
     ]
    },
    {
     "name": "stdout",
     "output_type": "stream",
     "text": [
      "Training_loss 1.38221,   Relative Error 0.45035\n"
     ]
    },
    {
     "name": "stderr",
     "output_type": "stream",
     "text": [
      " 48%|████▊     | 965/2000 [01:36<02:06,  8.16it/s]"
     ]
    },
    {
     "name": "stdout",
     "output_type": "stream",
     "text": [
      "Training_loss 1.38428,   Relative Error 0.45069\n",
      "Training_loss 1.38816,   Relative Error 0.45130\n",
      "Training_loss 1.38969,   Relative Error 0.45153\n"
     ]
    },
    {
     "name": "stderr",
     "output_type": "stream",
     "text": [
      "\r",
      " 48%|████▊     | 966/2000 [01:36<02:05,  8.23it/s]"
     ]
    },
    {
     "name": "stdout",
     "output_type": "stream",
     "text": [
      "Training_loss 1.39169,   Relative Error 0.45186\n"
     ]
    },
    {
     "name": "stderr",
     "output_type": "stream",
     "text": [
      " 48%|████▊     | 968/2000 [01:36<02:25,  7.11it/s]"
     ]
    },
    {
     "name": "stdout",
     "output_type": "stream",
     "text": [
      "Training_loss 1.39430,   Relative Error 0.45228\n",
      "Training_loss 1.39657,   Relative Error 0.45263\n"
     ]
    },
    {
     "name": "stderr",
     "output_type": "stream",
     "text": [
      "\r",
      " 48%|████▊     | 970/2000 [01:36<02:05,  8.22it/s]"
     ]
    },
    {
     "name": "stdout",
     "output_type": "stream",
     "text": [
      "Training_loss 1.39383,   Relative Error 0.45220\n",
      "Training_loss 1.39632,   Relative Error 0.45262\n",
      "Training_loss 1.39671,   Relative Error 0.45268\n"
     ]
    },
    {
     "name": "stderr",
     "output_type": "stream",
     "text": [
      " 49%|████▊     | 973/2000 [01:36<01:49,  9.40it/s]"
     ]
    },
    {
     "name": "stdout",
     "output_type": "stream",
     "text": [
      "Training_loss 1.39681,   Relative Error 0.45270\n",
      "Training_loss 1.39841,   Relative Error 0.45294\n"
     ]
    },
    {
     "name": "stderr",
     "output_type": "stream",
     "text": [
      " 49%|████▉     | 975/2000 [01:37<02:05,  8.19it/s]"
     ]
    },
    {
     "name": "stdout",
     "output_type": "stream",
     "text": [
      "Training_loss 1.39887,   Relative Error 0.45302\n",
      "Training_loss 1.39921,   Relative Error 0.45305\n"
     ]
    },
    {
     "name": "stderr",
     "output_type": "stream",
     "text": [
      " 49%|████▉     | 977/2000 [01:37<02:01,  8.45it/s]"
     ]
    },
    {
     "name": "stdout",
     "output_type": "stream",
     "text": [
      "Training_loss 1.39994,   Relative Error 0.45317\n",
      "Training_loss 1.40371,   Relative Error 0.45379\n"
     ]
    },
    {
     "name": "stderr",
     "output_type": "stream",
     "text": [
      "\r",
      " 49%|████▉     | 978/2000 [01:37<02:03,  8.28it/s]"
     ]
    },
    {
     "name": "stdout",
     "output_type": "stream",
     "text": [
      "Training_loss 1.40177,   Relative Error 0.45348\n",
      "Training_loss 1.40407,   Relative Error 0.45384\n"
     ]
    },
    {
     "name": "stderr",
     "output_type": "stream",
     "text": [
      " 49%|████▉     | 981/2000 [01:37<01:55,  8.80it/s]"
     ]
    },
    {
     "name": "stdout",
     "output_type": "stream",
     "text": [
      "Training_loss 1.40531,   Relative Error 0.45404\n",
      "Training_loss 1.40577,   Relative Error 0.45409\n"
     ]
    },
    {
     "name": "stderr",
     "output_type": "stream",
     "text": [
      "\r",
      " 49%|████▉     | 983/2000 [01:38<01:45,  9.60it/s]"
     ]
    },
    {
     "name": "stdout",
     "output_type": "stream",
     "text": [
      "Training_loss 1.40574,   Relative Error 0.45407\n",
      "Training_loss 1.40620,   Relative Error 0.45412\n"
     ]
    },
    {
     "name": "stderr",
     "output_type": "stream",
     "text": [
      " 49%|████▉     | 985/2000 [01:38<01:54,  8.88it/s]"
     ]
    },
    {
     "name": "stdout",
     "output_type": "stream",
     "text": [
      "Training_loss 1.40574,   Relative Error 0.45401\n",
      "Training_loss 1.40410,   Relative Error 0.45374\n",
      "Training_loss 1.40593,   Relative Error 0.45403\n"
     ]
    },
    {
     "name": "stderr",
     "output_type": "stream",
     "text": [
      " 49%|████▉     | 988/2000 [01:38<01:48,  9.36it/s]"
     ]
    },
    {
     "name": "stdout",
     "output_type": "stream",
     "text": [
      "Training_loss 1.40861,   Relative Error 0.45447\n",
      "Training_loss 1.40935,   Relative Error 0.45457\n"
     ]
    },
    {
     "name": "stderr",
     "output_type": "stream",
     "text": [
      "\r",
      " 50%|████▉     | 990/2000 [01:38<01:47,  9.39it/s]"
     ]
    },
    {
     "name": "stdout",
     "output_type": "stream",
     "text": [
      "Training_loss 1.40885,   Relative Error 0.45450\n",
      "Training_loss 1.41109,   Relative Error 0.45488\n",
      "Training_loss 1.41302,   Relative Error 0.45519\n"
     ]
    },
    {
     "name": "stderr",
     "output_type": "stream",
     "text": [
      " 50%|████▉     | 994/2000 [01:39<01:34, 10.67it/s]"
     ]
    },
    {
     "name": "stdout",
     "output_type": "stream",
     "text": [
      "Training_loss 1.41252,   Relative Error 0.45509\n",
      "Training_loss 1.41044,   Relative Error 0.45477\n",
      "Training_loss 1.40966,   Relative Error 0.45462\n"
     ]
    },
    {
     "name": "stderr",
     "output_type": "stream",
     "text": [
      "\r",
      " 50%|████▉     | 996/2000 [01:39<01:35, 10.55it/s]"
     ]
    },
    {
     "name": "stdout",
     "output_type": "stream",
     "text": [
      "Training_loss 1.41177,   Relative Error 0.45498\n",
      "Training_loss 1.41132,   Relative Error 0.45490\n",
      "Training_loss 1.41376,   Relative Error 0.45529\n"
     ]
    },
    {
     "name": "stderr",
     "output_type": "stream",
     "text": [
      "\r",
      " 50%|████▉     | 998/2000 [01:39<01:33, 10.67it/s]"
     ]
    },
    {
     "name": "stdout",
     "output_type": "stream",
     "text": [
      "Training_loss 1.41512,   Relative Error 0.45547\n",
      "Training_loss 1.41718,   Relative Error 0.45580\n"
     ]
    },
    {
     "name": "stderr",
     "output_type": "stream",
     "text": [
      "\r",
      " 50%|█████     | 1000/2000 [01:39<01:39, 10.05it/s]"
     ]
    },
    {
     "name": "stdout",
     "output_type": "stream",
     "text": [
      "Training_loss 1.41877,   Relative Error 0.45603\n",
      "Training_loss 1.41921,   Relative Error 0.45609\n"
     ]
    },
    {
     "name": "stderr",
     "output_type": "stream",
     "text": [
      " 50%|█████     | 1004/2000 [01:40<01:34, 10.49it/s]"
     ]
    },
    {
     "name": "stdout",
     "output_type": "stream",
     "text": [
      "Training_loss 1.41823,   Relative Error 0.45594\n",
      "Training_loss 1.41981,   Relative Error 0.45619\n",
      "Training_loss 1.42049,   Relative Error 0.45628\n"
     ]
    },
    {
     "name": "stderr",
     "output_type": "stream",
     "text": [
      "\r",
      " 50%|█████     | 1006/2000 [01:40<01:39,  9.98it/s]"
     ]
    },
    {
     "name": "stdout",
     "output_type": "stream",
     "text": [
      "Training_loss 1.42190,   Relative Error 0.45651\n",
      "Training_loss 1.42394,   Relative Error 0.45684\n"
     ]
    },
    {
     "name": "stderr",
     "output_type": "stream",
     "text": [
      "\r",
      " 50%|█████     | 1008/2000 [01:40<01:50,  8.97it/s]"
     ]
    },
    {
     "name": "stdout",
     "output_type": "stream",
     "text": [
      "Training_loss 1.42478,   Relative Error 0.45695\n",
      "Training_loss 1.42742,   Relative Error 0.45737\n"
     ]
    },
    {
     "name": "stderr",
     "output_type": "stream",
     "text": [
      " 51%|█████     | 1011/2000 [01:41<01:44,  9.44it/s]"
     ]
    },
    {
     "name": "stdout",
     "output_type": "stream",
     "text": [
      "Training_loss 1.43020,   Relative Error 0.45782\n",
      "Training_loss 1.42922,   Relative Error 0.45764\n",
      "Training_loss 1.42930,   Relative Error 0.45764\n"
     ]
    },
    {
     "name": "stderr",
     "output_type": "stream",
     "text": [
      "\r",
      " 51%|█████     | 1013/2000 [01:41<01:40,  9.82it/s]"
     ]
    },
    {
     "name": "stdout",
     "output_type": "stream",
     "text": [
      "Training_loss 1.43182,   Relative Error 0.45804\n",
      "Training_loss 1.43329,   Relative Error 0.45827\n"
     ]
    },
    {
     "name": "stderr",
     "output_type": "stream",
     "text": [
      " 51%|█████     | 1015/2000 [01:41<01:42,  9.60it/s]"
     ]
    },
    {
     "name": "stdout",
     "output_type": "stream",
     "text": [
      "Training_loss 1.43326,   Relative Error 0.45826\n",
      "Training_loss 1.43501,   Relative Error 0.45854\n",
      "Training_loss 1.43848,   Relative Error 0.45908\n"
     ]
    },
    {
     "name": "stderr",
     "output_type": "stream",
     "text": [
      " 51%|█████     | 1019/2000 [01:41<01:27, 11.19it/s]"
     ]
    },
    {
     "name": "stdout",
     "output_type": "stream",
     "text": [
      "Training_loss 1.44096,   Relative Error 0.45948\n",
      "Training_loss 1.44265,   Relative Error 0.45974\n",
      "Training_loss 1.44268,   Relative Error 0.45971\n"
     ]
    },
    {
     "name": "stderr",
     "output_type": "stream",
     "text": [
      "\r",
      " 51%|█████     | 1021/2000 [01:41<01:32, 10.55it/s]"
     ]
    },
    {
     "name": "stdout",
     "output_type": "stream",
     "text": [
      "Training_loss 1.44446,   Relative Error 0.45997\n",
      "Training_loss 1.44429,   Relative Error 0.45992\n",
      "Training_loss 1.44700,   Relative Error 0.46035\n"
     ]
    },
    {
     "name": "stderr",
     "output_type": "stream",
     "text": [
      " 51%|█████▏    | 1025/2000 [01:42<01:26, 11.25it/s]"
     ]
    },
    {
     "name": "stdout",
     "output_type": "stream",
     "text": [
      "Training_loss 1.44864,   Relative Error 0.46060\n",
      "Training_loss 1.44933,   Relative Error 0.46069\n",
      "Training_loss 1.45069,   Relative Error 0.46090\n"
     ]
    },
    {
     "name": "stderr",
     "output_type": "stream",
     "text": [
      "\r",
      " 51%|█████▏    | 1027/2000 [01:42<01:24, 11.55it/s]"
     ]
    },
    {
     "name": "stdout",
     "output_type": "stream",
     "text": [
      "Training_loss 1.45298,   Relative Error 0.46125\n",
      "Training_loss 1.45460,   Relative Error 0.46149\n",
      "Training_loss 1.45505,   Relative Error 0.46154\n"
     ]
    },
    {
     "name": "stderr",
     "output_type": "stream",
     "text": [
      " 52%|█████▏    | 1031/2000 [01:42<01:30, 10.70it/s]"
     ]
    },
    {
     "name": "stdout",
     "output_type": "stream",
     "text": [
      "Training_loss 1.45710,   Relative Error 0.46186\n",
      "Training_loss 1.46098,   Relative Error 0.46246\n",
      "Training_loss 1.46238,   Relative Error 0.46266\n"
     ]
    },
    {
     "name": "stderr",
     "output_type": "stream",
     "text": [
      "\r",
      " 52%|█████▏    | 1033/2000 [01:43<01:29, 10.76it/s]"
     ]
    },
    {
     "name": "stdout",
     "output_type": "stream",
     "text": [
      "Training_loss 1.46660,   Relative Error 0.46332\n",
      "Training_loss 1.46837,   Relative Error 0.46360\n",
      "Training_loss 1.46958,   Relative Error 0.46375\n"
     ]
    },
    {
     "name": "stderr",
     "output_type": "stream",
     "text": [
      " 52%|█████▏    | 1037/2000 [01:43<01:23, 11.60it/s]"
     ]
    },
    {
     "name": "stdout",
     "output_type": "stream",
     "text": [
      "Training_loss 1.47292,   Relative Error 0.46428\n",
      "Training_loss 1.47297,   Relative Error 0.46426\n",
      "Training_loss 1.47501,   Relative Error 0.46457\n"
     ]
    },
    {
     "name": "stderr",
     "output_type": "stream",
     "text": [
      "\r",
      " 52%|█████▏    | 1039/2000 [01:43<01:22, 11.70it/s]"
     ]
    },
    {
     "name": "stdout",
     "output_type": "stream",
     "text": [
      "Training_loss 1.47672,   Relative Error 0.46483\n",
      "Training_loss 1.48026,   Relative Error 0.46537\n",
      "Training_loss 1.48096,   Relative Error 0.46549\n"
     ]
    },
    {
     "name": "stderr",
     "output_type": "stream",
     "text": [
      " 52%|█████▏    | 1043/2000 [01:43<01:26, 11.11it/s]"
     ]
    },
    {
     "name": "stdout",
     "output_type": "stream",
     "text": [
      "Training_loss 1.48157,   Relative Error 0.46557\n",
      "Training_loss 1.48316,   Relative Error 0.46582\n",
      "Training_loss 1.48502,   Relative Error 0.46608\n"
     ]
    },
    {
     "name": "stderr",
     "output_type": "stream",
     "text": [
      "\r",
      " 52%|█████▏    | 1045/2000 [01:44<01:27, 10.97it/s]"
     ]
    },
    {
     "name": "stdout",
     "output_type": "stream",
     "text": [
      "Training_loss 1.48682,   Relative Error 0.46635\n",
      "Training_loss 1.48973,   Relative Error 0.46678\n",
      "Training_loss 1.49257,   Relative Error 0.46722\n"
     ]
    },
    {
     "name": "stderr",
     "output_type": "stream",
     "text": [
      " 52%|█████▏    | 1049/2000 [01:44<01:24, 11.20it/s]"
     ]
    },
    {
     "name": "stdout",
     "output_type": "stream",
     "text": [
      "Training_loss 1.49318,   Relative Error 0.46728\n",
      "Training_loss 1.49409,   Relative Error 0.46741\n",
      "Training_loss 1.49630,   Relative Error 0.46776\n"
     ]
    },
    {
     "name": "stderr",
     "output_type": "stream",
     "text": [
      "\r",
      " 53%|█████▎    | 1051/2000 [01:44<01:20, 11.72it/s]"
     ]
    },
    {
     "name": "stdout",
     "output_type": "stream",
     "text": [
      "Training_loss 1.49796,   Relative Error 0.46802\n",
      "Training_loss 1.49892,   Relative Error 0.46817\n",
      "Training_loss 1.50155,   Relative Error 0.46858\n"
     ]
    },
    {
     "name": "stderr",
     "output_type": "stream",
     "text": [
      " 53%|█████▎    | 1055/2000 [01:45<01:28, 10.64it/s]"
     ]
    },
    {
     "name": "stdout",
     "output_type": "stream",
     "text": [
      "Training_loss 1.50093,   Relative Error 0.46848\n",
      "Training_loss 1.50460,   Relative Error 0.46905\n",
      "Training_loss 1.50397,   Relative Error 0.46896\n"
     ]
    },
    {
     "name": "stderr",
     "output_type": "stream",
     "text": [
      "\r",
      " 53%|█████▎    | 1057/2000 [01:45<01:28, 10.62it/s]"
     ]
    },
    {
     "name": "stdout",
     "output_type": "stream",
     "text": [
      "Training_loss 1.50724,   Relative Error 0.46946\n",
      "Training_loss 1.50404,   Relative Error 0.46891\n",
      "Training_loss 1.50801,   Relative Error 0.46952\n"
     ]
    },
    {
     "name": "stderr",
     "output_type": "stream",
     "text": [
      " 53%|█████▎    | 1061/2000 [01:45<01:31, 10.30it/s]"
     ]
    },
    {
     "name": "stdout",
     "output_type": "stream",
     "text": [
      "Training_loss 1.50955,   Relative Error 0.46973\n",
      "Training_loss 1.51091,   Relative Error 0.46992\n",
      "Training_loss 1.51326,   Relative Error 0.47029\n"
     ]
    },
    {
     "name": "stderr",
     "output_type": "stream",
     "text": [
      "\r",
      " 53%|█████▎    | 1063/2000 [01:45<01:30, 10.37it/s]"
     ]
    },
    {
     "name": "stdout",
     "output_type": "stream",
     "text": [
      "Training_loss 1.51188,   Relative Error 0.47007\n",
      "Training_loss 1.51140,   Relative Error 0.46999\n",
      "Training_loss 1.51330,   Relative Error 0.47026\n"
     ]
    },
    {
     "name": "stderr",
     "output_type": "stream",
     "text": [
      "\r",
      " 53%|█████▎    | 1065/2000 [01:45<01:29, 10.49it/s]"
     ]
    },
    {
     "name": "stdout",
     "output_type": "stream",
     "text": [
      "Training_loss 1.51559,   Relative Error 0.47058\n",
      "Training_loss 1.51861,   Relative Error 0.47104\n"
     ]
    },
    {
     "name": "stderr",
     "output_type": "stream",
     "text": [
      " 53%|█████▎    | 1069/2000 [01:46<01:28, 10.47it/s]"
     ]
    },
    {
     "name": "stdout",
     "output_type": "stream",
     "text": [
      "Training_loss 1.51837,   Relative Error 0.47104\n",
      "Training_loss 1.51850,   Relative Error 0.47107\n",
      "Training_loss 1.51903,   Relative Error 0.47115\n"
     ]
    },
    {
     "name": "stderr",
     "output_type": "stream",
     "text": [
      "\r",
      " 54%|█████▎    | 1071/2000 [01:46<01:23, 11.11it/s]"
     ]
    },
    {
     "name": "stdout",
     "output_type": "stream",
     "text": [
      "Training_loss 1.51893,   Relative Error 0.47113\n",
      "Training_loss 1.52214,   Relative Error 0.47161\n",
      "Training_loss 1.52264,   Relative Error 0.47167\n"
     ]
    },
    {
     "name": "stderr",
     "output_type": "stream",
     "text": [
      " 54%|█████▍    | 1075/2000 [01:46<01:22, 11.23it/s]"
     ]
    },
    {
     "name": "stdout",
     "output_type": "stream",
     "text": [
      "Training_loss 1.52376,   Relative Error 0.47183\n",
      "Training_loss 1.52641,   Relative Error 0.47223\n",
      "Training_loss 1.52559,   Relative Error 0.47210\n"
     ]
    },
    {
     "name": "stderr",
     "output_type": "stream",
     "text": [
      "\r",
      " 54%|█████▍    | 1077/2000 [01:47<01:28, 10.46it/s]"
     ]
    },
    {
     "name": "stdout",
     "output_type": "stream",
     "text": [
      "Training_loss 1.52435,   Relative Error 0.47193\n",
      "Training_loss 1.52605,   Relative Error 0.47219\n",
      "Training_loss 1.52765,   Relative Error 0.47243\n"
     ]
    },
    {
     "name": "stderr",
     "output_type": "stream",
     "text": [
      " 54%|█████▍    | 1081/2000 [01:47<01:25, 10.81it/s]"
     ]
    },
    {
     "name": "stdout",
     "output_type": "stream",
     "text": [
      "Training_loss 1.52945,   Relative Error 0.47270\n",
      "Training_loss 1.53209,   Relative Error 0.47308\n",
      "Training_loss 1.53496,   Relative Error 0.47354\n"
     ]
    },
    {
     "name": "stderr",
     "output_type": "stream",
     "text": [
      "\r",
      " 54%|█████▍    | 1083/2000 [01:47<01:24, 10.88it/s]"
     ]
    },
    {
     "name": "stdout",
     "output_type": "stream",
     "text": [
      "Training_loss 1.53605,   Relative Error 0.47368\n",
      "Training_loss 1.53716,   Relative Error 0.47386\n",
      "Training_loss 1.53930,   Relative Error 0.47419\n"
     ]
    },
    {
     "name": "stderr",
     "output_type": "stream",
     "text": [
      " 54%|█████▍    | 1087/2000 [01:47<01:18, 11.59it/s]"
     ]
    },
    {
     "name": "stdout",
     "output_type": "stream",
     "text": [
      "Training_loss 1.54040,   Relative Error 0.47436\n",
      "Training_loss 1.53691,   Relative Error 0.47380\n",
      "Training_loss 1.53870,   Relative Error 0.47409\n"
     ]
    },
    {
     "name": "stderr",
     "output_type": "stream",
     "text": [
      "\r",
      " 54%|█████▍    | 1089/2000 [01:48<01:19, 11.49it/s]"
     ]
    },
    {
     "name": "stdout",
     "output_type": "stream",
     "text": [
      "Training_loss 1.54103,   Relative Error 0.47445\n",
      "Training_loss 1.54098,   Relative Error 0.47448\n",
      "Training_loss 1.54474,   Relative Error 0.47504\n"
     ]
    },
    {
     "name": "stderr",
     "output_type": "stream",
     "text": [
      " 55%|█████▍    | 1093/2000 [01:48<01:16, 11.81it/s]"
     ]
    },
    {
     "name": "stdout",
     "output_type": "stream",
     "text": [
      "Training_loss 1.54490,   Relative Error 0.47503\n",
      "Training_loss 1.54628,   Relative Error 0.47524\n",
      "Training_loss 1.54850,   Relative Error 0.47557\n"
     ]
    },
    {
     "name": "stderr",
     "output_type": "stream",
     "text": [
      "\r",
      " 55%|█████▍    | 1095/2000 [01:48<01:17, 11.67it/s]"
     ]
    },
    {
     "name": "stdout",
     "output_type": "stream",
     "text": [
      "Training_loss 1.54735,   Relative Error 0.47542\n",
      "Training_loss 1.55066,   Relative Error 0.47592\n",
      "Training_loss 1.55061,   Relative Error 0.47593\n"
     ]
    },
    {
     "name": "stderr",
     "output_type": "stream",
     "text": [
      " 55%|█████▍    | 1099/2000 [01:49<01:23, 10.82it/s]"
     ]
    },
    {
     "name": "stdout",
     "output_type": "stream",
     "text": [
      "Training_loss 1.55090,   Relative Error 0.47598\n",
      "Training_loss 1.55420,   Relative Error 0.47646\n",
      "Training_loss 1.55454,   Relative Error 0.47649\n"
     ]
    },
    {
     "name": "stderr",
     "output_type": "stream",
     "text": [
      "\r",
      " 55%|█████▌    | 1101/2000 [01:49<01:27, 10.30it/s]"
     ]
    },
    {
     "name": "stdout",
     "output_type": "stream",
     "text": [
      "Training_loss 1.55500,   Relative Error 0.47654\n",
      "Training_loss 1.55896,   Relative Error 0.47714\n",
      "Training_loss 1.56098,   Relative Error 0.47744\n"
     ]
    },
    {
     "name": "stderr",
     "output_type": "stream",
     "text": [
      " 55%|█████▌    | 1105/2000 [01:49<01:22, 10.80it/s]"
     ]
    },
    {
     "name": "stdout",
     "output_type": "stream",
     "text": [
      "Training_loss 1.56298,   Relative Error 0.47773\n",
      "Training_loss 1.56703,   Relative Error 0.47832\n",
      "Training_loss 1.56635,   Relative Error 0.47820\n"
     ]
    },
    {
     "name": "stderr",
     "output_type": "stream",
     "text": [
      "\r",
      " 55%|█████▌    | 1107/2000 [01:49<01:21, 11.02it/s]"
     ]
    },
    {
     "name": "stdout",
     "output_type": "stream",
     "text": [
      "Training_loss 1.56825,   Relative Error 0.47844\n",
      "Training_loss 1.57115,   Relative Error 0.47886\n",
      "Training_loss 1.57278,   Relative Error 0.47909\n"
     ]
    },
    {
     "name": "stderr",
     "output_type": "stream",
     "text": [
      "\r",
      " 55%|█████▌    | 1109/2000 [01:49<01:19, 11.16it/s]"
     ]
    },
    {
     "name": "stdout",
     "output_type": "stream",
     "text": [
      "Training_loss 1.57493,   Relative Error 0.47940\n",
      "Training_loss 1.57586,   Relative Error 0.47953\n"
     ]
    },
    {
     "name": "stderr",
     "output_type": "stream",
     "text": [
      " 56%|█████▌    | 1113/2000 [01:50<01:26, 10.24it/s]"
     ]
    },
    {
     "name": "stdout",
     "output_type": "stream",
     "text": [
      "Training_loss 1.57733,   Relative Error 0.47974\n",
      "Training_loss 1.57778,   Relative Error 0.47980\n",
      "Training_loss 1.57846,   Relative Error 0.47991\n"
     ]
    },
    {
     "name": "stderr",
     "output_type": "stream",
     "text": [
      "\r",
      " 56%|█████▌    | 1115/2000 [01:50<01:24, 10.46it/s]"
     ]
    },
    {
     "name": "stdout",
     "output_type": "stream",
     "text": [
      "Training_loss 1.57632,   Relative Error 0.47959\n",
      "Training_loss 1.57705,   Relative Error 0.47966\n",
      "Training_loss 1.57684,   Relative Error 0.47962\n"
     ]
    },
    {
     "name": "stderr",
     "output_type": "stream",
     "text": [
      "\r",
      " 56%|█████▌    | 1117/2000 [01:50<01:24, 10.48it/s]"
     ]
    },
    {
     "name": "stdout",
     "output_type": "stream",
     "text": [
      "Training_loss 1.57656,   Relative Error 0.47954\n",
      "Training_loss 1.57893,   Relative Error 0.47991\n"
     ]
    },
    {
     "name": "stderr",
     "output_type": "stream",
     "text": [
      " 56%|█████▌    | 1121/2000 [01:51<01:26, 10.17it/s]"
     ]
    },
    {
     "name": "stdout",
     "output_type": "stream",
     "text": [
      "Training_loss 1.57429,   Relative Error 0.47922\n",
      "Training_loss 1.57430,   Relative Error 0.47923\n",
      "Training_loss 1.57902,   Relative Error 0.47993\n"
     ]
    },
    {
     "name": "stderr",
     "output_type": "stream",
     "text": [
      "\r",
      " 56%|█████▌    | 1123/2000 [01:51<01:26, 10.14it/s]"
     ]
    },
    {
     "name": "stdout",
     "output_type": "stream",
     "text": [
      "Training_loss 1.58151,   Relative Error 0.48027\n",
      "Training_loss 1.58274,   Relative Error 0.48043\n",
      "Training_loss 1.58535,   Relative Error 0.48085\n"
     ]
    },
    {
     "name": "stderr",
     "output_type": "stream",
     "text": [
      " 56%|█████▋    | 1127/2000 [01:51<01:22, 10.52it/s]"
     ]
    },
    {
     "name": "stdout",
     "output_type": "stream",
     "text": [
      "Training_loss 1.58580,   Relative Error 0.48089\n",
      "Training_loss 1.58658,   Relative Error 0.48098\n",
      "Training_loss 1.58982,   Relative Error 0.48147\n"
     ]
    },
    {
     "name": "stderr",
     "output_type": "stream",
     "text": [
      "\r",
      " 56%|█████▋    | 1129/2000 [01:51<01:18, 11.08it/s]"
     ]
    },
    {
     "name": "stdout",
     "output_type": "stream",
     "text": [
      "Training_loss 1.59056,   Relative Error 0.48155\n",
      "Training_loss 1.59034,   Relative Error 0.48150\n",
      "Training_loss 1.58988,   Relative Error 0.48140\n"
     ]
    },
    {
     "name": "stderr",
     "output_type": "stream",
     "text": [
      " 57%|█████▋    | 1133/2000 [01:52<01:14, 11.71it/s]"
     ]
    },
    {
     "name": "stdout",
     "output_type": "stream",
     "text": [
      "Training_loss 1.59138,   Relative Error 0.48165\n",
      "Training_loss 1.59359,   Relative Error 0.48196\n",
      "Training_loss 1.59681,   Relative Error 0.48244\n"
     ]
    },
    {
     "name": "stderr",
     "output_type": "stream",
     "text": [
      "\r",
      " 57%|█████▋    | 1135/2000 [01:52<01:14, 11.57it/s]"
     ]
    },
    {
     "name": "stdout",
     "output_type": "stream",
     "text": [
      "Training_loss 1.59756,   Relative Error 0.48256\n",
      "Training_loss 1.59773,   Relative Error 0.48258\n"
     ]
    },
    {
     "name": "stderr",
     "output_type": "stream",
     "text": [
      "\r",
      " 57%|█████▋    | 1137/2000 [01:52<01:23, 10.33it/s]"
     ]
    },
    {
     "name": "stdout",
     "output_type": "stream",
     "text": [
      "Training_loss 1.59988,   Relative Error 0.48288\n",
      "Training_loss 1.59919,   Relative Error 0.48276\n",
      "Training_loss 1.60128,   Relative Error 0.48303\n"
     ]
    },
    {
     "name": "stderr",
     "output_type": "stream",
     "text": [
      "\r",
      " 57%|█████▋    | 1139/2000 [01:52<01:21, 10.59it/s]"
     ]
    },
    {
     "name": "stdout",
     "output_type": "stream",
     "text": [
      "Training_loss 1.60277,   Relative Error 0.48324\n",
      "Training_loss 1.60425,   Relative Error 0.48346\n"
     ]
    },
    {
     "name": "stderr",
     "output_type": "stream",
     "text": [
      " 57%|█████▋    | 1143/2000 [01:53<01:27,  9.79it/s]"
     ]
    },
    {
     "name": "stdout",
     "output_type": "stream",
     "text": [
      "Training_loss 1.60553,   Relative Error 0.48365\n",
      "Training_loss 1.60547,   Relative Error 0.48363\n",
      "Training_loss 1.60347,   Relative Error 0.48330\n"
     ]
    },
    {
     "name": "stderr",
     "output_type": "stream",
     "text": [
      " 57%|█████▋    | 1146/2000 [01:53<01:25, 10.03it/s]"
     ]
    },
    {
     "name": "stdout",
     "output_type": "stream",
     "text": [
      "Training_loss 1.60370,   Relative Error 0.48330\n",
      "Training_loss 1.60747,   Relative Error 0.48387\n",
      "Training_loss 1.60835,   Relative Error 0.48402\n"
     ]
    },
    {
     "name": "stderr",
     "output_type": "stream",
     "text": [
      "\r",
      " 57%|█████▋    | 1148/2000 [01:53<01:30,  9.41it/s]"
     ]
    },
    {
     "name": "stdout",
     "output_type": "stream",
     "text": [
      "Training_loss 1.60984,   Relative Error 0.48420\n",
      "Training_loss 1.61291,   Relative Error 0.48462\n",
      "Training_loss 1.61636,   Relative Error 0.48511\n"
     ]
    },
    {
     "name": "stderr",
     "output_type": "stream",
     "text": [
      " 58%|█████▊    | 1152/2000 [01:54<01:20, 10.49it/s]"
     ]
    },
    {
     "name": "stdout",
     "output_type": "stream",
     "text": [
      "Training_loss 1.61890,   Relative Error 0.48549\n",
      "Training_loss 1.62105,   Relative Error 0.48580\n",
      "Training_loss 1.62364,   Relative Error 0.48616\n"
     ]
    },
    {
     "name": "stderr",
     "output_type": "stream",
     "text": [
      "\r",
      " 58%|█████▊    | 1154/2000 [01:54<01:18, 10.72it/s]"
     ]
    },
    {
     "name": "stdout",
     "output_type": "stream",
     "text": [
      "Training_loss 1.62337,   Relative Error 0.48610\n",
      "Training_loss 1.62662,   Relative Error 0.48657\n",
      "Training_loss 1.62844,   Relative Error 0.48683\n"
     ]
    },
    {
     "name": "stderr",
     "output_type": "stream",
     "text": [
      " 58%|█████▊    | 1158/2000 [01:54<01:18, 10.79it/s]"
     ]
    },
    {
     "name": "stdout",
     "output_type": "stream",
     "text": [
      "Training_loss 1.63227,   Relative Error 0.48737\n",
      "Training_loss 1.63601,   Relative Error 0.48791\n",
      "Training_loss 1.63502,   Relative Error 0.48775\n"
     ]
    },
    {
     "name": "stderr",
     "output_type": "stream",
     "text": [
      "\r",
      " 58%|█████▊    | 1160/2000 [01:54<01:17, 10.88it/s]"
     ]
    },
    {
     "name": "stdout",
     "output_type": "stream",
     "text": [
      "Training_loss 1.63722,   Relative Error 0.48807\n",
      "Training_loss 1.63865,   Relative Error 0.48829\n",
      "Training_loss 1.63508,   Relative Error 0.48772\n"
     ]
    },
    {
     "name": "stderr",
     "output_type": "stream",
     "text": [
      " 58%|█████▊    | 1164/2000 [01:55<01:17, 10.75it/s]"
     ]
    },
    {
     "name": "stdout",
     "output_type": "stream",
     "text": [
      "Training_loss 1.63644,   Relative Error 0.48790\n",
      "Training_loss 1.63956,   Relative Error 0.48835\n",
      "Training_loss 1.64149,   Relative Error 0.48862\n"
     ]
    },
    {
     "name": "stderr",
     "output_type": "stream",
     "text": [
      "\r",
      " 58%|█████▊    | 1166/2000 [01:55<01:17, 10.72it/s]"
     ]
    },
    {
     "name": "stdout",
     "output_type": "stream",
     "text": [
      "Training_loss 1.64415,   Relative Error 0.48901\n",
      "Training_loss 1.64241,   Relative Error 0.48875\n"
     ]
    },
    {
     "name": "stderr",
     "output_type": "stream",
     "text": [
      "\r",
      " 58%|█████▊    | 1168/2000 [01:55<01:21, 10.15it/s]"
     ]
    },
    {
     "name": "stdout",
     "output_type": "stream",
     "text": [
      "Training_loss 1.64472,   Relative Error 0.48910\n",
      "Training_loss 1.64698,   Relative Error 0.48941\n",
      "Training_loss 1.64644,   Relative Error 0.48931\n"
     ]
    },
    {
     "name": "stderr",
     "output_type": "stream",
     "text": [
      " 59%|█████▊    | 1172/2000 [01:55<01:16, 10.81it/s]"
     ]
    },
    {
     "name": "stdout",
     "output_type": "stream",
     "text": [
      "Training_loss 1.64820,   Relative Error 0.48957\n",
      "Training_loss 1.64922,   Relative Error 0.48970\n",
      "Training_loss 1.65054,   Relative Error 0.48991\n"
     ]
    },
    {
     "name": "stderr",
     "output_type": "stream",
     "text": [
      "\r",
      " 59%|█████▊    | 1174/2000 [01:56<01:16, 10.74it/s]"
     ]
    },
    {
     "name": "stdout",
     "output_type": "stream",
     "text": [
      "Training_loss 1.65216,   Relative Error 0.49014\n",
      "Training_loss 1.65436,   Relative Error 0.49045\n",
      "Training_loss 1.65678,   Relative Error 0.49079\n"
     ]
    },
    {
     "name": "stderr",
     "output_type": "stream",
     "text": [
      " 59%|█████▉    | 1178/2000 [01:56<01:14, 11.11it/s]"
     ]
    },
    {
     "name": "stdout",
     "output_type": "stream",
     "text": [
      "Training_loss 1.65229,   Relative Error 0.49012\n",
      "Training_loss 1.65600,   Relative Error 0.49068\n",
      "Training_loss 1.66058,   Relative Error 0.49133\n"
     ]
    },
    {
     "name": "stderr",
     "output_type": "stream",
     "text": [
      "\r",
      " 59%|█████▉    | 1180/2000 [01:56<01:14, 11.06it/s]"
     ]
    },
    {
     "name": "stdout",
     "output_type": "stream",
     "text": [
      "Training_loss 1.66364,   Relative Error 0.49176\n",
      "Training_loss 1.66542,   Relative Error 0.49202\n",
      "Training_loss 1.66528,   Relative Error 0.49198\n"
     ]
    },
    {
     "name": "stderr",
     "output_type": "stream",
     "text": [
      " 59%|█████▉    | 1184/2000 [01:57<01:16, 10.61it/s]"
     ]
    },
    {
     "name": "stdout",
     "output_type": "stream",
     "text": [
      "Training_loss 1.66455,   Relative Error 0.49187\n",
      "Training_loss 1.66734,   Relative Error 0.49224\n",
      "Training_loss 1.67184,   Relative Error 0.49288\n"
     ]
    },
    {
     "name": "stderr",
     "output_type": "stream",
     "text": [
      "\r",
      " 59%|█████▉    | 1186/2000 [01:57<01:20, 10.12it/s]"
     ]
    },
    {
     "name": "stdout",
     "output_type": "stream",
     "text": [
      "Training_loss 1.66565,   Relative Error 0.49198\n",
      "Training_loss 1.66765,   Relative Error 0.49224\n",
      "Training_loss 1.67054,   Relative Error 0.49267\n"
     ]
    },
    {
     "name": "stderr",
     "output_type": "stream",
     "text": [
      "\r",
      " 59%|█████▉    | 1188/2000 [01:57<01:18, 10.32it/s]"
     ]
    },
    {
     "name": "stdout",
     "output_type": "stream",
     "text": [
      "Training_loss 1.67416,   Relative Error 0.49317\n",
      "Training_loss 1.67659,   Relative Error 0.49349\n"
     ]
    },
    {
     "name": "stderr",
     "output_type": "stream",
     "text": [
      " 60%|█████▉    | 1192/2000 [01:57<01:17, 10.36it/s]"
     ]
    },
    {
     "name": "stdout",
     "output_type": "stream",
     "text": [
      "Training_loss 1.67963,   Relative Error 0.49392\n",
      "Training_loss 1.68184,   Relative Error 0.49423\n",
      "Training_loss 1.68357,   Relative Error 0.49446\n"
     ]
    },
    {
     "name": "stderr",
     "output_type": "stream",
     "text": [
      "\r",
      " 60%|█████▉    | 1194/2000 [01:58<01:16, 10.53it/s]"
     ]
    },
    {
     "name": "stdout",
     "output_type": "stream",
     "text": [
      "Training_loss 1.67908,   Relative Error 0.49379\n",
      "Training_loss 1.68123,   Relative Error 0.49411\n",
      "Training_loss 1.68064,   Relative Error 0.49400\n"
     ]
    },
    {
     "name": "stderr",
     "output_type": "stream",
     "text": [
      "\r",
      " 60%|█████▉    | 1196/2000 [01:58<01:15, 10.61it/s]"
     ]
    },
    {
     "name": "stdout",
     "output_type": "stream",
     "text": [
      "Training_loss 1.68480,   Relative Error 0.49459\n",
      "Training_loss 1.68787,   Relative Error 0.49500\n"
     ]
    },
    {
     "name": "stderr",
     "output_type": "stream",
     "text": [
      " 60%|██████    | 1200/2000 [01:58<01:19, 10.06it/s]"
     ]
    },
    {
     "name": "stdout",
     "output_type": "stream",
     "text": [
      "Training_loss 1.69147,   Relative Error 0.49551\n",
      "Training_loss 1.69438,   Relative Error 0.49596\n",
      "Training_loss 1.69900,   Relative Error 0.49660\n"
     ]
    },
    {
     "name": "stderr",
     "output_type": "stream",
     "text": [
      "\r",
      " 60%|██████    | 1202/2000 [01:58<01:17, 10.35it/s]"
     ]
    },
    {
     "name": "stdout",
     "output_type": "stream",
     "text": [
      "Training_loss 1.70030,   Relative Error 0.49679\n",
      "Training_loss 1.70145,   Relative Error 0.49696\n",
      "Training_loss 1.69869,   Relative Error 0.49654\n"
     ]
    },
    {
     "name": "stderr",
     "output_type": "stream",
     "text": [
      " 60%|██████    | 1206/2000 [01:59<01:10, 11.34it/s]"
     ]
    },
    {
     "name": "stdout",
     "output_type": "stream",
     "text": [
      "Training_loss 1.70164,   Relative Error 0.49694\n",
      "Training_loss 1.70532,   Relative Error 0.49748\n",
      "Training_loss 1.70479,   Relative Error 0.49740\n"
     ]
    },
    {
     "name": "stderr",
     "output_type": "stream",
     "text": [
      "\r",
      " 60%|██████    | 1208/2000 [01:59<01:07, 11.70it/s]"
     ]
    },
    {
     "name": "stdout",
     "output_type": "stream",
     "text": [
      "Training_loss 1.70954,   Relative Error 0.49805\n",
      "Training_loss 1.71301,   Relative Error 0.49853\n",
      "Training_loss 1.71399,   Relative Error 0.49869\n"
     ]
    },
    {
     "name": "stderr",
     "output_type": "stream",
     "text": [
      " 61%|██████    | 1212/2000 [01:59<01:02, 12.57it/s]"
     ]
    },
    {
     "name": "stdout",
     "output_type": "stream",
     "text": [
      "Training_loss 1.71828,   Relative Error 0.49929\n",
      "Training_loss 1.71808,   Relative Error 0.49925\n",
      "Training_loss 1.71963,   Relative Error 0.49948\n"
     ]
    },
    {
     "name": "stderr",
     "output_type": "stream",
     "text": [
      "\r",
      " 61%|██████    | 1214/2000 [01:59<01:06, 11.85it/s]"
     ]
    },
    {
     "name": "stdout",
     "output_type": "stream",
     "text": [
      "Training_loss 1.72343,   Relative Error 0.50002\n",
      "Training_loss 1.72542,   Relative Error 0.50029\n",
      "Training_loss 1.72463,   Relative Error 0.50017\n"
     ]
    },
    {
     "name": "stderr",
     "output_type": "stream",
     "text": [
      "\r",
      " 61%|██████    | 1216/2000 [02:00<01:08, 11.48it/s]"
     ]
    },
    {
     "name": "stdout",
     "output_type": "stream",
     "text": [
      "Training_loss 1.72567,   Relative Error 0.50030\n",
      "Training_loss 1.72709,   Relative Error 0.50049\n"
     ]
    },
    {
     "name": "stderr",
     "output_type": "stream",
     "text": [
      " 61%|██████    | 1220/2000 [02:00<01:11, 10.88it/s]"
     ]
    },
    {
     "name": "stdout",
     "output_type": "stream",
     "text": [
      "Training_loss 1.73042,   Relative Error 0.50096\n",
      "Training_loss 1.73215,   Relative Error 0.50121\n",
      "Training_loss 1.73062,   Relative Error 0.50098\n"
     ]
    },
    {
     "name": "stderr",
     "output_type": "stream",
     "text": [
      "\r",
      " 61%|██████    | 1222/2000 [02:00<01:09, 11.11it/s]"
     ]
    },
    {
     "name": "stdout",
     "output_type": "stream",
     "text": [
      "Training_loss 1.73209,   Relative Error 0.50120\n",
      "Training_loss 1.73606,   Relative Error 0.50175\n",
      "Training_loss 1.73821,   Relative Error 0.50203\n"
     ]
    },
    {
     "name": "stderr",
     "output_type": "stream",
     "text": [
      " 61%|██████▏   | 1226/2000 [02:00<01:09, 11.19it/s]"
     ]
    },
    {
     "name": "stdout",
     "output_type": "stream",
     "text": [
      "Training_loss 1.73942,   Relative Error 0.50213\n",
      "Training_loss 1.74235,   Relative Error 0.50257\n",
      "Training_loss 1.74074,   Relative Error 0.50229\n"
     ]
    },
    {
     "name": "stderr",
     "output_type": "stream",
     "text": [
      "\r",
      " 61%|██████▏   | 1228/2000 [02:01<01:11, 10.73it/s]"
     ]
    },
    {
     "name": "stdout",
     "output_type": "stream",
     "text": [
      "Training_loss 1.74091,   Relative Error 0.50230\n",
      "Training_loss 1.74505,   Relative Error 0.50287\n",
      "Training_loss 1.74497,   Relative Error 0.50283\n"
     ]
    },
    {
     "name": "stderr",
     "output_type": "stream",
     "text": [
      " 62%|██████▏   | 1232/2000 [02:01<01:13, 10.44it/s]"
     ]
    },
    {
     "name": "stdout",
     "output_type": "stream",
     "text": [
      "Training_loss 1.74901,   Relative Error 0.50339\n",
      "Training_loss 1.75238,   Relative Error 0.50386\n",
      "Training_loss 1.75105,   Relative Error 0.50369\n"
     ]
    },
    {
     "name": "stderr",
     "output_type": "stream",
     "text": [
      "\r",
      " 62%|██████▏   | 1234/2000 [02:01<01:13, 10.47it/s]"
     ]
    },
    {
     "name": "stdout",
     "output_type": "stream",
     "text": [
      "Training_loss 1.74585,   Relative Error 0.50293\n",
      "Training_loss 1.74910,   Relative Error 0.50338\n"
     ]
    },
    {
     "name": "stderr",
     "output_type": "stream",
     "text": [
      "\r",
      " 62%|██████▏   | 1236/2000 [02:01<01:16, 10.01it/s]"
     ]
    },
    {
     "name": "stdout",
     "output_type": "stream",
     "text": [
      "Training_loss 1.75390,   Relative Error 0.50407\n",
      "Training_loss 1.75438,   Relative Error 0.50411\n",
      "Training_loss 1.75418,   Relative Error 0.50406\n"
     ]
    },
    {
     "name": "stderr",
     "output_type": "stream",
     "text": [
      " 62%|██████▏   | 1240/2000 [02:02<01:08, 11.15it/s]"
     ]
    },
    {
     "name": "stdout",
     "output_type": "stream",
     "text": [
      "Training_loss 1.75648,   Relative Error 0.50438\n",
      "Training_loss 1.75703,   Relative Error 0.50443\n",
      "Training_loss 1.75905,   Relative Error 0.50469\n"
     ]
    },
    {
     "name": "stderr",
     "output_type": "stream",
     "text": [
      "\r",
      " 62%|██████▏   | 1242/2000 [02:02<01:05, 11.58it/s]"
     ]
    },
    {
     "name": "stdout",
     "output_type": "stream",
     "text": [
      "Training_loss 1.76153,   Relative Error 0.50501\n",
      "Training_loss 1.76593,   Relative Error 0.50563\n",
      "Training_loss 1.76727,   Relative Error 0.50580\n"
     ]
    },
    {
     "name": "stderr",
     "output_type": "stream",
     "text": [
      " 62%|██████▏   | 1246/2000 [02:02<01:03, 11.92it/s]"
     ]
    },
    {
     "name": "stdout",
     "output_type": "stream",
     "text": [
      "Training_loss 1.77106,   Relative Error 0.50630\n",
      "Training_loss 1.77292,   Relative Error 0.50658\n",
      "Training_loss 1.77635,   Relative Error 0.50706\n"
     ]
    },
    {
     "name": "stderr",
     "output_type": "stream",
     "text": [
      "\r",
      " 62%|██████▏   | 1248/2000 [02:02<01:03, 11.90it/s]"
     ]
    },
    {
     "name": "stdout",
     "output_type": "stream",
     "text": [
      "Training_loss 1.78049,   Relative Error 0.50764\n",
      "Training_loss 1.78255,   Relative Error 0.50791\n",
      "Training_loss 1.78307,   Relative Error 0.50798\n"
     ]
    },
    {
     "name": "stderr",
     "output_type": "stream",
     "text": [
      " 63%|██████▎   | 1252/2000 [02:03<01:05, 11.46it/s]"
     ]
    },
    {
     "name": "stdout",
     "output_type": "stream",
     "text": [
      "Training_loss 1.78543,   Relative Error 0.50830\n",
      "Training_loss 1.78911,   Relative Error 0.50878\n",
      "Training_loss 1.79005,   Relative Error 0.50891\n"
     ]
    },
    {
     "name": "stderr",
     "output_type": "stream",
     "text": [
      "\r",
      " 63%|██████▎   | 1254/2000 [02:03<01:02, 12.01it/s]"
     ]
    },
    {
     "name": "stdout",
     "output_type": "stream",
     "text": [
      "Training_loss 1.78965,   Relative Error 0.50883\n",
      "Training_loss 1.78967,   Relative Error 0.50883\n",
      "Training_loss 1.78924,   Relative Error 0.50878\n"
     ]
    },
    {
     "name": "stderr",
     "output_type": "stream",
     "text": [
      " 63%|██████▎   | 1258/2000 [02:03<00:59, 12.55it/s]"
     ]
    },
    {
     "name": "stdout",
     "output_type": "stream",
     "text": [
      "Training_loss 1.79416,   Relative Error 0.50945\n",
      "Training_loss 1.79877,   Relative Error 0.51009\n",
      "Training_loss 1.80015,   Relative Error 0.51027\n"
     ]
    },
    {
     "name": "stderr",
     "output_type": "stream",
     "text": [
      "\r",
      " 63%|██████▎   | 1260/2000 [02:03<01:00, 12.25it/s]"
     ]
    },
    {
     "name": "stdout",
     "output_type": "stream",
     "text": [
      "Training_loss 1.80335,   Relative Error 0.51071\n",
      "Training_loss 1.80594,   Relative Error 0.51106\n"
     ]
    },
    {
     "name": "stderr",
     "output_type": "stream",
     "text": [
      "\r",
      " 63%|██████▎   | 1262/2000 [02:04<01:04, 11.45it/s]"
     ]
    },
    {
     "name": "stdout",
     "output_type": "stream",
     "text": [
      "Training_loss 1.80981,   Relative Error 0.51160\n",
      "Training_loss 1.81249,   Relative Error 0.51197\n",
      "Training_loss 1.81516,   Relative Error 0.51232\n"
     ]
    },
    {
     "name": "stderr",
     "output_type": "stream",
     "text": [
      " 63%|██████▎   | 1266/2000 [02:04<01:03, 11.61it/s]"
     ]
    },
    {
     "name": "stdout",
     "output_type": "stream",
     "text": [
      "Training_loss 1.81952,   Relative Error 0.51290\n",
      "Training_loss 1.82390,   Relative Error 0.51351\n",
      "Training_loss 1.82439,   Relative Error 0.51354\n"
     ]
    },
    {
     "name": "stderr",
     "output_type": "stream",
     "text": [
      "\r",
      " 63%|██████▎   | 1268/2000 [02:04<01:05, 11.21it/s]"
     ]
    },
    {
     "name": "stdout",
     "output_type": "stream",
     "text": [
      "Training_loss 1.82981,   Relative Error 0.51427\n",
      "Training_loss 1.83241,   Relative Error 0.51462\n",
      "Training_loss 1.83585,   Relative Error 0.51510\n"
     ]
    },
    {
     "name": "stderr",
     "output_type": "stream",
     "text": [
      " 64%|██████▎   | 1272/2000 [02:04<01:04, 11.37it/s]"
     ]
    },
    {
     "name": "stdout",
     "output_type": "stream",
     "text": [
      "Training_loss 1.83781,   Relative Error 0.51537\n",
      "Training_loss 1.83742,   Relative Error 0.51533\n",
      "Training_loss 1.83708,   Relative Error 0.51529\n"
     ]
    },
    {
     "name": "stderr",
     "output_type": "stream",
     "text": [
      "\r",
      " 64%|██████▎   | 1274/2000 [02:05<01:02, 11.56it/s]"
     ]
    },
    {
     "name": "stdout",
     "output_type": "stream",
     "text": [
      "Training_loss 1.84127,   Relative Error 0.51586\n",
      "Training_loss 1.84224,   Relative Error 0.51597\n",
      "Training_loss 1.84609,   Relative Error 0.51650\n"
     ]
    },
    {
     "name": "stderr",
     "output_type": "stream",
     "text": [
      "\r",
      " 64%|██████▍   | 1276/2000 [02:05<01:07, 10.69it/s]"
     ]
    },
    {
     "name": "stdout",
     "output_type": "stream",
     "text": [
      "Training_loss 1.84777,   Relative Error 0.51673\n",
      "Training_loss 1.84904,   Relative Error 0.51688\n"
     ]
    },
    {
     "name": "stderr",
     "output_type": "stream",
     "text": [
      "\r",
      " 64%|██████▍   | 1278/2000 [02:05<01:12, 10.01it/s]"
     ]
    },
    {
     "name": "stdout",
     "output_type": "stream",
     "text": [
      "Training_loss 1.84843,   Relative Error 0.51683\n",
      "Training_loss 1.85126,   Relative Error 0.51723\n"
     ]
    },
    {
     "name": "stderr",
     "output_type": "stream",
     "text": [
      " 64%|██████▍   | 1282/2000 [02:06<01:15,  9.46it/s]"
     ]
    },
    {
     "name": "stdout",
     "output_type": "stream",
     "text": [
      "Training_loss 1.85442,   Relative Error 0.51764\n",
      "Training_loss 1.85291,   Relative Error 0.51748\n",
      "Training_loss 1.85476,   Relative Error 0.51772\n"
     ]
    },
    {
     "name": "stderr",
     "output_type": "stream",
     "text": [
      " 64%|██████▍   | 1285/2000 [02:06<01:12,  9.88it/s]"
     ]
    },
    {
     "name": "stdout",
     "output_type": "stream",
     "text": [
      "Training_loss 1.85718,   Relative Error 0.51804\n",
      "Training_loss 1.85676,   Relative Error 0.51801\n",
      "Training_loss 1.86154,   Relative Error 0.51867\n"
     ]
    },
    {
     "name": "stderr",
     "output_type": "stream",
     "text": [
      "\r",
      " 64%|██████▍   | 1287/2000 [02:06<01:06, 10.68it/s]"
     ]
    },
    {
     "name": "stdout",
     "output_type": "stream",
     "text": [
      "Training_loss 1.86608,   Relative Error 0.51929\n",
      "Training_loss 1.86460,   Relative Error 0.51909\n",
      "Training_loss 1.86856,   Relative Error 0.51960\n"
     ]
    },
    {
     "name": "stderr",
     "output_type": "stream",
     "text": [
      " 65%|██████▍   | 1291/2000 [02:06<00:59, 11.83it/s]"
     ]
    },
    {
     "name": "stdout",
     "output_type": "stream",
     "text": [
      "Training_loss 1.86786,   Relative Error 0.51951\n",
      "Training_loss 1.87066,   Relative Error 0.51992\n",
      "Training_loss 1.87094,   Relative Error 0.51995\n"
     ]
    },
    {
     "name": "stderr",
     "output_type": "stream",
     "text": [
      "\r",
      " 65%|██████▍   | 1293/2000 [02:06<00:57, 12.20it/s]"
     ]
    },
    {
     "name": "stdout",
     "output_type": "stream",
     "text": [
      "Training_loss 1.87413,   Relative Error 0.52039\n",
      "Training_loss 1.87574,   Relative Error 0.52060\n",
      "Training_loss 1.87970,   Relative Error 0.52113\n"
     ]
    },
    {
     "name": "stderr",
     "output_type": "stream",
     "text": [
      " 65%|██████▍   | 1297/2000 [02:07<01:00, 11.60it/s]"
     ]
    },
    {
     "name": "stdout",
     "output_type": "stream",
     "text": [
      "Training_loss 1.88289,   Relative Error 0.52155\n",
      "Training_loss 1.88777,   Relative Error 0.52220\n",
      "Training_loss 1.89047,   Relative Error 0.52255\n"
     ]
    },
    {
     "name": "stderr",
     "output_type": "stream",
     "text": [
      "\r",
      " 65%|██████▍   | 1299/2000 [02:07<01:03, 11.12it/s]"
     ]
    },
    {
     "name": "stdout",
     "output_type": "stream",
     "text": [
      "Training_loss 1.89443,   Relative Error 0.52308\n",
      "Training_loss 1.89523,   Relative Error 0.52315\n",
      "Training_loss 1.89914,   Relative Error 0.52366\n"
     ]
    },
    {
     "name": "stderr",
     "output_type": "stream",
     "text": [
      " 65%|██████▌   | 1303/2000 [02:07<01:05, 10.68it/s]"
     ]
    },
    {
     "name": "stdout",
     "output_type": "stream",
     "text": [
      "Training_loss 1.90339,   Relative Error 0.52423\n",
      "Training_loss 1.90469,   Relative Error 0.52435\n",
      "Training_loss 1.90189,   Relative Error 0.52393\n"
     ]
    },
    {
     "name": "stderr",
     "output_type": "stream",
     "text": [
      "\r",
      " 65%|██████▌   | 1305/2000 [02:08<01:04, 10.80it/s]"
     ]
    },
    {
     "name": "stdout",
     "output_type": "stream",
     "text": [
      "Training_loss 1.90300,   Relative Error 0.52409\n",
      "Training_loss 1.90323,   Relative Error 0.52408\n",
      "Training_loss 1.90298,   Relative Error 0.52405"
     ]
    },
    {
     "name": "stderr",
     "output_type": "stream",
     "text": [
      "\r",
      " 65%|██████▌   | 1307/2000 [02:08<01:03, 10.99it/s]"
     ]
    },
    {
     "name": "stdout",
     "output_type": "stream",
     "text": [
      "\n",
      "Training_loss 1.90490,   Relative Error 0.52431\n",
      "Training_loss 1.90499,   Relative Error 0.52432\n"
     ]
    },
    {
     "name": "stderr",
     "output_type": "stream",
     "text": [
      " 66%|██████▌   | 1311/2000 [02:08<00:59, 11.58it/s]"
     ]
    },
    {
     "name": "stdout",
     "output_type": "stream",
     "text": [
      "Training_loss 1.90712,   Relative Error 0.52459\n",
      "Training_loss 1.91221,   Relative Error 0.52524\n",
      "Training_loss 1.91029,   Relative Error 0.52494\n"
     ]
    },
    {
     "name": "stderr",
     "output_type": "stream",
     "text": [
      "\r",
      " 66%|██████▌   | 1313/2000 [02:08<00:57, 11.93it/s]"
     ]
    },
    {
     "name": "stdout",
     "output_type": "stream",
     "text": [
      "Training_loss 1.91639,   Relative Error 0.52577\n",
      "Training_loss 1.92027,   Relative Error 0.52628\n",
      "Training_loss 1.92379,   Relative Error 0.52672\n"
     ]
    },
    {
     "name": "stderr",
     "output_type": "stream",
     "text": [
      " 66%|██████▌   | 1317/2000 [02:09<00:55, 12.26it/s]"
     ]
    },
    {
     "name": "stdout",
     "output_type": "stream",
     "text": [
      "Training_loss 1.92431,   Relative Error 0.52676\n",
      "Training_loss 1.92372,   Relative Error 0.52664\n",
      "Training_loss 1.92759,   Relative Error 0.52716\n"
     ]
    },
    {
     "name": "stderr",
     "output_type": "stream",
     "text": [
      "\r",
      " 66%|██████▌   | 1319/2000 [02:09<00:54, 12.61it/s]"
     ]
    },
    {
     "name": "stdout",
     "output_type": "stream",
     "text": [
      "Training_loss 1.93085,   Relative Error 0.52760\n",
      "Training_loss 1.93420,   Relative Error 0.52807\n",
      "Training_loss 1.93668,   Relative Error 0.52839\n"
     ]
    },
    {
     "name": "stderr",
     "output_type": "stream",
     "text": [
      " 66%|██████▌   | 1323/2000 [02:09<00:56, 11.97it/s]"
     ]
    },
    {
     "name": "stdout",
     "output_type": "stream",
     "text": [
      "Training_loss 1.93653,   Relative Error 0.52837\n",
      "Training_loss 1.94089,   Relative Error 0.52891\n",
      "Training_loss 1.94126,   Relative Error 0.52898\n"
     ]
    },
    {
     "name": "stderr",
     "output_type": "stream",
     "text": [
      "\r",
      " 66%|██████▋   | 1325/2000 [02:09<00:55, 12.24it/s]"
     ]
    },
    {
     "name": "stdout",
     "output_type": "stream",
     "text": [
      "Training_loss 1.94160,   Relative Error 0.52905\n",
      "Training_loss 1.94636,   Relative Error 0.52965\n",
      "Training_loss 1.95042,   Relative Error 0.53020\n"
     ]
    },
    {
     "name": "stderr",
     "output_type": "stream",
     "text": [
      " 66%|██████▋   | 1329/2000 [02:10<00:53, 12.52it/s]"
     ]
    },
    {
     "name": "stdout",
     "output_type": "stream",
     "text": [
      "Training_loss 1.95458,   Relative Error 0.53072\n",
      "Training_loss 1.96006,   Relative Error 0.53142\n",
      "Training_loss 1.96321,   Relative Error 0.53186\n"
     ]
    },
    {
     "name": "stderr",
     "output_type": "stream",
     "text": [
      "\r",
      " 67%|██████▋   | 1331/2000 [02:10<00:54, 12.31it/s]"
     ]
    },
    {
     "name": "stdout",
     "output_type": "stream",
     "text": [
      "Training_loss 1.96263,   Relative Error 0.53174\n",
      "Training_loss 1.96251,   Relative Error 0.53170\n",
      "Training_loss 1.96451,   Relative Error 0.53191\n"
     ]
    },
    {
     "name": "stderr",
     "output_type": "stream",
     "text": [
      " 67%|██████▋   | 1335/2000 [02:10<00:54, 12.23it/s]"
     ]
    },
    {
     "name": "stdout",
     "output_type": "stream",
     "text": [
      "Training_loss 1.96533,   Relative Error 0.53202\n",
      "Training_loss 1.96858,   Relative Error 0.53246\n",
      "Training_loss 1.97115,   Relative Error 0.53276\n"
     ]
    },
    {
     "name": "stderr",
     "output_type": "stream",
     "text": [
      "\r",
      " 67%|██████▋   | 1337/2000 [02:10<00:54, 12.19it/s]"
     ]
    },
    {
     "name": "stdout",
     "output_type": "stream",
     "text": [
      "Training_loss 1.97239,   Relative Error 0.53295\n",
      "Training_loss 1.97704,   Relative Error 0.53354\n",
      "Training_loss 1.97733,   Relative Error 0.53358\n"
     ]
    },
    {
     "name": "stderr",
     "output_type": "stream",
     "text": [
      " 67%|██████▋   | 1341/2000 [02:11<00:53, 12.39it/s]"
     ]
    },
    {
     "name": "stdout",
     "output_type": "stream",
     "text": [
      "Training_loss 1.97934,   Relative Error 0.53387\n",
      "Training_loss 1.98346,   Relative Error 0.53441\n",
      "Training_loss 1.98148,   Relative Error 0.53412\n"
     ]
    },
    {
     "name": "stderr",
     "output_type": "stream",
     "text": [
      "\r",
      " 67%|██████▋   | 1343/2000 [02:11<00:52, 12.43it/s]"
     ]
    },
    {
     "name": "stdout",
     "output_type": "stream",
     "text": [
      "Training_loss 1.98716,   Relative Error 0.53486\n",
      "Training_loss 1.99193,   Relative Error 0.53548\n",
      "Training_loss 1.99190,   Relative Error 0.53547\n"
     ]
    },
    {
     "name": "stderr",
     "output_type": "stream",
     "text": [
      " 67%|██████▋   | 1347/2000 [02:11<00:51, 12.58it/s]"
     ]
    },
    {
     "name": "stdout",
     "output_type": "stream",
     "text": [
      "Training_loss 1.99422,   Relative Error 0.53577\n",
      "Training_loss 1.99406,   Relative Error 0.53576\n",
      "Training_loss 1.99558,   Relative Error 0.53596\n"
     ]
    },
    {
     "name": "stderr",
     "output_type": "stream",
     "text": [
      "\r",
      " 67%|██████▋   | 1349/2000 [02:11<00:52, 12.33it/s]"
     ]
    },
    {
     "name": "stdout",
     "output_type": "stream",
     "text": [
      "Training_loss 1.99780,   Relative Error 0.53625\n",
      "Training_loss 2.00163,   Relative Error 0.53672\n",
      "Training_loss 2.00276,   Relative Error 0.53683\n"
     ]
    },
    {
     "name": "stderr",
     "output_type": "stream",
     "text": [
      " 68%|██████▊   | 1353/2000 [02:12<00:54, 11.79it/s]"
     ]
    },
    {
     "name": "stdout",
     "output_type": "stream",
     "text": [
      "Training_loss 1.99990,   Relative Error 0.53648\n",
      "Training_loss 2.00420,   Relative Error 0.53705\n",
      "Training_loss 2.00743,   Relative Error 0.53751\n"
     ]
    },
    {
     "name": "stderr",
     "output_type": "stream",
     "text": [
      "\r",
      " 68%|██████▊   | 1355/2000 [02:12<00:55, 11.58it/s]"
     ]
    },
    {
     "name": "stdout",
     "output_type": "stream",
     "text": [
      "Training_loss 2.00729,   Relative Error 0.53744\n",
      "Training_loss 2.00951,   Relative Error 0.53770\n",
      "Training_loss 2.01299,   Relative Error 0.53815\n"
     ]
    },
    {
     "name": "stderr",
     "output_type": "stream",
     "text": [
      " 68%|██████▊   | 1359/2000 [02:12<00:59, 10.82it/s]"
     ]
    },
    {
     "name": "stdout",
     "output_type": "stream",
     "text": [
      "Training_loss 2.01060,   Relative Error 0.53785\n",
      "Training_loss 2.01141,   Relative Error 0.53791\n",
      "Training_loss 2.01695,   Relative Error 0.53863\n"
     ]
    },
    {
     "name": "stderr",
     "output_type": "stream",
     "text": [
      "\r",
      " 68%|██████▊   | 1361/2000 [02:12<01:04,  9.86it/s]"
     ]
    },
    {
     "name": "stdout",
     "output_type": "stream",
     "text": [
      "Training_loss 2.01982,   Relative Error 0.53898\n",
      "Training_loss 2.02266,   Relative Error 0.53935\n"
     ]
    },
    {
     "name": "stderr",
     "output_type": "stream",
     "text": [
      "\r",
      " 68%|██████▊   | 1363/2000 [02:13<01:11,  8.96it/s]"
     ]
    },
    {
     "name": "stdout",
     "output_type": "stream",
     "text": [
      "Training_loss 2.02443,   Relative Error 0.53958\n",
      "Training_loss 2.02461,   Relative Error 0.53957\n"
     ]
    },
    {
     "name": "stderr",
     "output_type": "stream",
     "text": [
      " 68%|██████▊   | 1365/2000 [02:13<01:13,  8.58it/s]"
     ]
    },
    {
     "name": "stdout",
     "output_type": "stream",
     "text": [
      "Training_loss 2.02341,   Relative Error 0.53939\n",
      "Training_loss 2.02728,   Relative Error 0.53991\n"
     ]
    },
    {
     "name": "stderr",
     "output_type": "stream",
     "text": [
      " 68%|██████▊   | 1367/2000 [02:13<01:17,  8.12it/s]"
     ]
    },
    {
     "name": "stdout",
     "output_type": "stream",
     "text": [
      "Training_loss 2.03134,   Relative Error 0.54042\n",
      "Training_loss 2.03634,   Relative Error 0.54107\n"
     ]
    },
    {
     "name": "stderr",
     "output_type": "stream",
     "text": [
      " 68%|██████▊   | 1369/2000 [02:13<01:26,  7.26it/s]"
     ]
    },
    {
     "name": "stdout",
     "output_type": "stream",
     "text": [
      "Training_loss 2.03805,   Relative Error 0.54132\n",
      "Training_loss 2.03992,   Relative Error 0.54152\n"
     ]
    },
    {
     "name": "stderr",
     "output_type": "stream",
     "text": [
      " 69%|██████▊   | 1371/2000 [02:14<01:22,  7.66it/s]"
     ]
    },
    {
     "name": "stdout",
     "output_type": "stream",
     "text": [
      "Training_loss 2.04322,   Relative Error 0.54193\n",
      "Training_loss 2.04847,   Relative Error 0.54258\n"
     ]
    },
    {
     "name": "stderr",
     "output_type": "stream",
     "text": [
      " 69%|██████▊   | 1373/2000 [02:14<01:37,  6.40it/s]"
     ]
    },
    {
     "name": "stdout",
     "output_type": "stream",
     "text": [
      "Training_loss 2.04953,   Relative Error 0.54271\n",
      "Training_loss 2.05176,   Relative Error 0.54301\n",
      "Training_loss 2.05208,   Relative Error 0.54304\n"
     ]
    },
    {
     "name": "stderr",
     "output_type": "stream",
     "text": [
      " 69%|██████▉   | 1376/2000 [02:14<01:21,  7.70it/s]"
     ]
    },
    {
     "name": "stdout",
     "output_type": "stream",
     "text": [
      "Training_loss 2.05317,   Relative Error 0.54319\n",
      "Training_loss 2.04935,   Relative Error 0.54273\n"
     ]
    },
    {
     "name": "stderr",
     "output_type": "stream",
     "text": [
      "\r",
      " 69%|██████▉   | 1377/2000 [02:15<01:34,  6.62it/s]"
     ]
    },
    {
     "name": "stdout",
     "output_type": "stream",
     "text": [
      "Training_loss 2.05459,   Relative Error 0.54338\n"
     ]
    },
    {
     "name": "stderr",
     "output_type": "stream",
     "text": [
      " 69%|██████▉   | 1379/2000 [02:15<01:36,  6.40it/s]"
     ]
    },
    {
     "name": "stdout",
     "output_type": "stream",
     "text": [
      "Training_loss 2.05489,   Relative Error 0.54342\n",
      "Training_loss 2.05864,   Relative Error 0.54389\n"
     ]
    },
    {
     "name": "stderr",
     "output_type": "stream",
     "text": [
      " 69%|██████▉   | 1381/2000 [02:15<01:49,  5.63it/s]"
     ]
    },
    {
     "name": "stdout",
     "output_type": "stream",
     "text": [
      "Training_loss 2.06265,   Relative Error 0.54441\n",
      "Training_loss 2.05708,   Relative Error 0.54365\n"
     ]
    },
    {
     "name": "stderr",
     "output_type": "stream",
     "text": [
      " 69%|██████▉   | 1383/2000 [02:16<01:31,  6.76it/s]"
     ]
    },
    {
     "name": "stdout",
     "output_type": "stream",
     "text": [
      "Training_loss 2.05948,   Relative Error 0.54397\n",
      "Training_loss 2.05902,   Relative Error 0.54383\n"
     ]
    },
    {
     "name": "stderr",
     "output_type": "stream",
     "text": [
      " 69%|██████▉   | 1385/2000 [02:16<01:18,  7.85it/s]"
     ]
    },
    {
     "name": "stdout",
     "output_type": "stream",
     "text": [
      "Training_loss 2.06396,   Relative Error 0.54449\n",
      "Training_loss 2.06867,   Relative Error 0.54508\n",
      "Training_loss 2.06540,   Relative Error 0.54459\n"
     ]
    },
    {
     "name": "stderr",
     "output_type": "stream",
     "text": [
      "\r",
      " 69%|██████▉   | 1387/2000 [02:16<01:08,  8.89it/s]"
     ]
    },
    {
     "name": "stdout",
     "output_type": "stream",
     "text": [
      "Training_loss 2.06461,   Relative Error 0.54453\n",
      "Training_loss 2.06795,   Relative Error 0.54495\n"
     ]
    },
    {
     "name": "stderr",
     "output_type": "stream",
     "text": [
      " 70%|██████▉   | 1391/2000 [02:16<01:01,  9.84it/s]"
     ]
    },
    {
     "name": "stdout",
     "output_type": "stream",
     "text": [
      "Training_loss 2.07224,   Relative Error 0.54550\n",
      "Training_loss 2.06956,   Relative Error 0.54518\n",
      "Training_loss 2.07259,   Relative Error 0.54556\n"
     ]
    },
    {
     "name": "stderr",
     "output_type": "stream",
     "text": [
      "\r",
      " 70%|██████▉   | 1393/2000 [02:17<00:58, 10.35it/s]"
     ]
    },
    {
     "name": "stdout",
     "output_type": "stream",
     "text": [
      "Training_loss 2.07445,   Relative Error 0.54574\n",
      "Training_loss 2.07455,   Relative Error 0.54576\n",
      "Training_loss 2.07968,   Relative Error 0.54637\n"
     ]
    },
    {
     "name": "stderr",
     "output_type": "stream",
     "text": [
      " 70%|██████▉   | 1397/2000 [02:17<00:54, 10.99it/s]"
     ]
    },
    {
     "name": "stdout",
     "output_type": "stream",
     "text": [
      "Training_loss 2.08139,   Relative Error 0.54659\n",
      "Training_loss 2.08574,   Relative Error 0.54715\n",
      "Training_loss 2.08764,   Relative Error 0.54737\n"
     ]
    },
    {
     "name": "stderr",
     "output_type": "stream",
     "text": [
      "\r",
      " 70%|██████▉   | 1399/2000 [02:17<00:52, 11.48it/s]"
     ]
    },
    {
     "name": "stdout",
     "output_type": "stream",
     "text": [
      "Training_loss 2.08455,   Relative Error 0.54694\n",
      "Training_loss 2.08458,   Relative Error 0.54689\n",
      "Training_loss 2.08685,   Relative Error 0.54717\n"
     ]
    },
    {
     "name": "stderr",
     "output_type": "stream",
     "text": [
      " 70%|███████   | 1403/2000 [02:17<00:51, 11.56it/s]"
     ]
    },
    {
     "name": "stdout",
     "output_type": "stream",
     "text": [
      "Training_loss 2.09087,   Relative Error 0.54766\n",
      "Training_loss 2.08939,   Relative Error 0.54742\n",
      "Training_loss 2.09111,   Relative Error 0.54762\n"
     ]
    },
    {
     "name": "stderr",
     "output_type": "stream",
     "text": [
      "\r",
      " 70%|███████   | 1405/2000 [02:18<00:49, 11.94it/s]"
     ]
    },
    {
     "name": "stdout",
     "output_type": "stream",
     "text": [
      "Training_loss 2.09454,   Relative Error 0.54802\n",
      "Training_loss 2.09457,   Relative Error 0.54804\n",
      "Training_loss 2.09154,   Relative Error 0.54761\n"
     ]
    },
    {
     "name": "stderr",
     "output_type": "stream",
     "text": [
      " 70%|███████   | 1409/2000 [02:18<00:49, 12.00it/s]"
     ]
    },
    {
     "name": "stdout",
     "output_type": "stream",
     "text": [
      "Training_loss 2.09293,   Relative Error 0.54784\n",
      "Training_loss 2.09170,   Relative Error 0.54767\n",
      "Training_loss 2.09615,   Relative Error 0.54823\n"
     ]
    },
    {
     "name": "stderr",
     "output_type": "stream",
     "text": [
      "\r",
      " 71%|███████   | 1411/2000 [02:18<00:48, 12.26it/s]"
     ]
    },
    {
     "name": "stdout",
     "output_type": "stream",
     "text": [
      "Training_loss 2.09725,   Relative Error 0.54835\n",
      "Training_loss 2.09712,   Relative Error 0.54829\n",
      "Training_loss 2.09886,   Relative Error 0.54851\n"
     ]
    },
    {
     "name": "stderr",
     "output_type": "stream",
     "text": [
      " 71%|███████   | 1415/2000 [02:18<00:51, 11.46it/s]"
     ]
    },
    {
     "name": "stdout",
     "output_type": "stream",
     "text": [
      "Training_loss 2.10112,   Relative Error 0.54877\n",
      "Training_loss 2.10414,   Relative Error 0.54919\n",
      "Training_loss 2.10501,   Relative Error 0.54929\n"
     ]
    },
    {
     "name": "stderr",
     "output_type": "stream",
     "text": [
      "\r",
      " 71%|███████   | 1417/2000 [02:19<00:49, 11.73it/s]"
     ]
    },
    {
     "name": "stdout",
     "output_type": "stream",
     "text": [
      "Training_loss 2.10715,   Relative Error 0.54952\n",
      "Training_loss 2.10237,   Relative Error 0.54887\n",
      "Training_loss 2.10192,   Relative Error 0.54882\n"
     ]
    },
    {
     "name": "stderr",
     "output_type": "stream",
     "text": [
      " 71%|███████   | 1421/2000 [02:19<00:49, 11.61it/s]"
     ]
    },
    {
     "name": "stdout",
     "output_type": "stream",
     "text": [
      "Training_loss 2.10373,   Relative Error 0.54900\n",
      "Training_loss 2.10739,   Relative Error 0.54946\n",
      "Training_loss 2.10910,   Relative Error 0.54964\n"
     ]
    },
    {
     "name": "stderr",
     "output_type": "stream",
     "text": [
      "\r",
      " 71%|███████   | 1423/2000 [02:19<00:49, 11.76it/s]"
     ]
    },
    {
     "name": "stdout",
     "output_type": "stream",
     "text": [
      "Training_loss 2.11172,   Relative Error 0.54998\n",
      "Training_loss 2.11574,   Relative Error 0.55047\n",
      "Training_loss 2.12088,   Relative Error 0.55113\n"
     ]
    },
    {
     "name": "stderr",
     "output_type": "stream",
     "text": [
      " 71%|███████▏  | 1427/2000 [02:19<00:46, 12.25it/s]"
     ]
    },
    {
     "name": "stdout",
     "output_type": "stream",
     "text": [
      "Training_loss 2.12232,   Relative Error 0.55130\n",
      "Training_loss 2.12251,   Relative Error 0.55137\n",
      "Training_loss 2.12577,   Relative Error 0.55179\n"
     ]
    },
    {
     "name": "stderr",
     "output_type": "stream",
     "text": [
      "\r",
      " 71%|███████▏  | 1429/2000 [02:20<00:47, 12.09it/s]"
     ]
    },
    {
     "name": "stdout",
     "output_type": "stream",
     "text": [
      "Training_loss 2.12585,   Relative Error 0.55178\n",
      "Training_loss 2.12855,   Relative Error 0.55212\n",
      "Training_loss 2.12976,   Relative Error 0.55227\n"
     ]
    },
    {
     "name": "stderr",
     "output_type": "stream",
     "text": [
      " 72%|███████▏  | 1433/2000 [02:20<00:50, 11.33it/s]"
     ]
    },
    {
     "name": "stdout",
     "output_type": "stream",
     "text": [
      "Training_loss 2.12920,   Relative Error 0.55220\n",
      "Training_loss 2.13198,   Relative Error 0.55253\n",
      "Training_loss 2.13612,   Relative Error 0.55304\n"
     ]
    },
    {
     "name": "stderr",
     "output_type": "stream",
     "text": [
      "\r",
      " 72%|███████▏  | 1435/2000 [02:20<00:48, 11.77it/s]"
     ]
    },
    {
     "name": "stdout",
     "output_type": "stream",
     "text": [
      "Training_loss 2.14188,   Relative Error 0.55376\n",
      "Training_loss 2.14257,   Relative Error 0.55385\n",
      "Training_loss 2.14553,   Relative Error 0.55420\n"
     ]
    },
    {
     "name": "stderr",
     "output_type": "stream",
     "text": [
      "\r",
      " 72%|███████▏  | 1437/2000 [02:20<00:47, 11.91it/s]"
     ]
    },
    {
     "name": "stdout",
     "output_type": "stream",
     "text": [
      "Training_loss 2.14768,   Relative Error 0.55440\n",
      "Training_loss 2.14945,   Relative Error 0.55464\n"
     ]
    },
    {
     "name": "stderr",
     "output_type": "stream",
     "text": [
      " 72%|███████▏  | 1441/2000 [02:21<00:52, 10.56it/s]"
     ]
    },
    {
     "name": "stdout",
     "output_type": "stream",
     "text": [
      "Training_loss 2.15285,   Relative Error 0.55508\n",
      "Training_loss 2.15828,   Relative Error 0.55575\n",
      "Training_loss 2.16157,   Relative Error 0.55616\n"
     ]
    },
    {
     "name": "stderr",
     "output_type": "stream",
     "text": [
      "\r",
      " 72%|███████▏  | 1443/2000 [02:21<00:52, 10.60it/s]"
     ]
    },
    {
     "name": "stdout",
     "output_type": "stream",
     "text": [
      "Training_loss 2.16338,   Relative Error 0.55638\n",
      "Training_loss 2.16150,   Relative Error 0.55618\n",
      "Training_loss 2.16378,   Relative Error 0.55647\n"
     ]
    },
    {
     "name": "stderr",
     "output_type": "stream",
     "text": [
      " 72%|███████▏  | 1447/2000 [02:21<00:49, 11.28it/s]"
     ]
    },
    {
     "name": "stdout",
     "output_type": "stream",
     "text": [
      "Training_loss 2.16486,   Relative Error 0.55659\n",
      "Training_loss 2.16077,   Relative Error 0.55607\n",
      "Training_loss 2.16692,   Relative Error 0.55685\n"
     ]
    },
    {
     "name": "stderr",
     "output_type": "stream",
     "text": [
      "\r",
      " 72%|███████▏  | 1449/2000 [02:21<00:53, 10.23it/s]"
     ]
    },
    {
     "name": "stdout",
     "output_type": "stream",
     "text": [
      "Training_loss 2.17181,   Relative Error 0.55747\n",
      "Training_loss 2.16721,   Relative Error 0.55682\n",
      "Training_loss 2.17112,   Relative Error 0.55728\n"
     ]
    },
    {
     "name": "stderr",
     "output_type": "stream",
     "text": [
      " 73%|███████▎  | 1453/2000 [02:22<00:49, 11.16it/s]"
     ]
    },
    {
     "name": "stdout",
     "output_type": "stream",
     "text": [
      "Training_loss 2.17208,   Relative Error 0.55738\n",
      "Training_loss 2.17689,   Relative Error 0.55800\n",
      "Training_loss 2.17931,   Relative Error 0.55832\n"
     ]
    },
    {
     "name": "stderr",
     "output_type": "stream",
     "text": [
      "\r",
      " 73%|███████▎  | 1455/2000 [02:22<00:46, 11.61it/s]"
     ]
    },
    {
     "name": "stdout",
     "output_type": "stream",
     "text": [
      "Training_loss 2.18038,   Relative Error 0.55840\n",
      "Training_loss 2.17825,   Relative Error 0.55809\n",
      "Training_loss 2.17822,   Relative Error 0.55808\n"
     ]
    },
    {
     "name": "stderr",
     "output_type": "stream",
     "text": [
      " 73%|███████▎  | 1459/2000 [02:22<00:45, 11.97it/s]"
     ]
    },
    {
     "name": "stdout",
     "output_type": "stream",
     "text": [
      "Training_loss 2.18143,   Relative Error 0.55849\n",
      "Training_loss 2.18589,   Relative Error 0.55903\n",
      "Training_loss 2.18813,   Relative Error 0.55928\n"
     ]
    },
    {
     "name": "stderr",
     "output_type": "stream",
     "text": [
      "\r",
      " 73%|███████▎  | 1461/2000 [02:22<00:44, 12.12it/s]"
     ]
    },
    {
     "name": "stdout",
     "output_type": "stream",
     "text": [
      "Training_loss 2.18890,   Relative Error 0.55935\n",
      "Training_loss 2.18959,   Relative Error 0.55940\n",
      "Training_loss 2.18913,   Relative Error 0.55931\n"
     ]
    },
    {
     "name": "stderr",
     "output_type": "stream",
     "text": [
      " 73%|███████▎  | 1465/2000 [02:23<00:45, 11.87it/s]"
     ]
    },
    {
     "name": "stdout",
     "output_type": "stream",
     "text": [
      "Training_loss 2.18621,   Relative Error 0.55883\n",
      "Training_loss 2.18768,   Relative Error 0.55900\n",
      "Training_loss 2.19132,   Relative Error 0.55944\n"
     ]
    },
    {
     "name": "stderr",
     "output_type": "stream",
     "text": [
      "\r",
      " 73%|███████▎  | 1467/2000 [02:23<00:43, 12.20it/s]"
     ]
    },
    {
     "name": "stdout",
     "output_type": "stream",
     "text": [
      "Training_loss 2.19219,   Relative Error 0.55960\n",
      "Training_loss 2.19633,   Relative Error 0.56011\n",
      "Training_loss 2.19865,   Relative Error 0.56038\n"
     ]
    },
    {
     "name": "stderr",
     "output_type": "stream",
     "text": [
      " 74%|███████▎  | 1471/2000 [02:23<00:43, 12.17it/s]"
     ]
    },
    {
     "name": "stdout",
     "output_type": "stream",
     "text": [
      "Training_loss 2.20229,   Relative Error 0.56079\n",
      "Training_loss 2.20611,   Relative Error 0.56126\n",
      "Training_loss 2.20389,   Relative Error 0.56098\n"
     ]
    },
    {
     "name": "stderr",
     "output_type": "stream",
     "text": [
      "\r",
      " 74%|███████▎  | 1473/2000 [02:23<00:43, 12.11it/s]"
     ]
    },
    {
     "name": "stdout",
     "output_type": "stream",
     "text": [
      "Training_loss 2.20327,   Relative Error 0.56095\n",
      "Training_loss 2.20081,   Relative Error 0.56059\n",
      "Training_loss 2.20559,   Relative Error 0.56119\n"
     ]
    },
    {
     "name": "stderr",
     "output_type": "stream",
     "text": [
      " 74%|███████▍  | 1477/2000 [02:24<00:41, 12.61it/s]"
     ]
    },
    {
     "name": "stdout",
     "output_type": "stream",
     "text": [
      "Training_loss 2.20791,   Relative Error 0.56143\n",
      "Training_loss 2.20935,   Relative Error 0.56162\n",
      "Training_loss 2.21333,   Relative Error 0.56211\n"
     ]
    },
    {
     "name": "stderr",
     "output_type": "stream",
     "text": [
      "\r",
      " 74%|███████▍  | 1479/2000 [02:24<00:42, 12.26it/s]"
     ]
    },
    {
     "name": "stdout",
     "output_type": "stream",
     "text": [
      "Training_loss 2.21520,   Relative Error 0.56236\n",
      "Training_loss 2.21589,   Relative Error 0.56247\n",
      "Training_loss 2.21718,   Relative Error 0.56262\n"
     ]
    },
    {
     "name": "stderr",
     "output_type": "stream",
     "text": [
      " 74%|███████▍  | 1483/2000 [02:24<00:47, 10.85it/s]"
     ]
    },
    {
     "name": "stdout",
     "output_type": "stream",
     "text": [
      "Training_loss 2.21809,   Relative Error 0.56270\n",
      "Training_loss 2.21637,   Relative Error 0.56249\n",
      "Training_loss 2.21841,   Relative Error 0.56277\n"
     ]
    },
    {
     "name": "stderr",
     "output_type": "stream",
     "text": [
      "\r",
      " 74%|███████▍  | 1485/2000 [02:25<00:48, 10.70it/s]"
     ]
    },
    {
     "name": "stdout",
     "output_type": "stream",
     "text": [
      "Training_loss 2.21940,   Relative Error 0.56281\n",
      "Training_loss 2.21927,   Relative Error 0.56276\n",
      "Training_loss 2.22169,   Relative Error 0.56302\n"
     ]
    },
    {
     "name": "stderr",
     "output_type": "stream",
     "text": [
      " 74%|███████▍  | 1489/2000 [02:25<00:47, 10.73it/s]"
     ]
    },
    {
     "name": "stdout",
     "output_type": "stream",
     "text": [
      "Training_loss 2.22396,   Relative Error 0.56330\n",
      "Training_loss 2.22865,   Relative Error 0.56387\n",
      "Training_loss 2.23013,   Relative Error 0.56408\n"
     ]
    },
    {
     "name": "stderr",
     "output_type": "stream",
     "text": [
      "\r",
      " 75%|███████▍  | 1491/2000 [02:25<00:47, 10.80it/s]"
     ]
    },
    {
     "name": "stdout",
     "output_type": "stream",
     "text": [
      "Training_loss 2.22927,   Relative Error 0.56401\n",
      "Training_loss 2.23298,   Relative Error 0.56446\n"
     ]
    },
    {
     "name": "stderr",
     "output_type": "stream",
     "text": [
      "\r",
      " 75%|███████▍  | 1493/2000 [02:25<00:48, 10.36it/s]"
     ]
    },
    {
     "name": "stdout",
     "output_type": "stream",
     "text": [
      "Training_loss 2.23744,   Relative Error 0.56502\n",
      "Training_loss 2.23558,   Relative Error 0.56476\n",
      "Training_loss 2.24048,   Relative Error 0.56533\n"
     ]
    },
    {
     "name": "stderr",
     "output_type": "stream",
     "text": [
      "\r",
      " 75%|███████▍  | 1495/2000 [02:26<00:51,  9.72it/s]"
     ]
    },
    {
     "name": "stdout",
     "output_type": "stream",
     "text": [
      "Training_loss 2.24090,   Relative Error 0.56539\n",
      "Training_loss 2.24374,   Relative Error 0.56573\n"
     ]
    },
    {
     "name": "stderr",
     "output_type": "stream",
     "text": [
      " 75%|███████▍  | 1498/2000 [02:26<00:57,  8.72it/s]"
     ]
    },
    {
     "name": "stdout",
     "output_type": "stream",
     "text": [
      "Training_loss 2.24282,   Relative Error 0.56556\n",
      "Training_loss 2.24758,   Relative Error 0.56617\n",
      "Training_loss 2.25117,   Relative Error 0.56662\n"
     ]
    },
    {
     "name": "stderr",
     "output_type": "stream",
     "text": [
      " 75%|███████▌  | 1502/2000 [02:26<00:49, 10.16it/s]"
     ]
    },
    {
     "name": "stdout",
     "output_type": "stream",
     "text": [
      "Training_loss 2.25304,   Relative Error 0.56684\n",
      "Training_loss 2.25532,   Relative Error 0.56715\n",
      "Training_loss 2.25323,   Relative Error 0.56691\n"
     ]
    },
    {
     "name": "stderr",
     "output_type": "stream",
     "text": [
      "\r",
      " 75%|███████▌  | 1504/2000 [02:26<00:45, 10.87it/s]"
     ]
    },
    {
     "name": "stdout",
     "output_type": "stream",
     "text": [
      "Training_loss 2.25852,   Relative Error 0.56759\n",
      "Training_loss 2.25870,   Relative Error 0.56758\n",
      "Training_loss 2.26159,   Relative Error 0.56789\n"
     ]
    },
    {
     "name": "stderr",
     "output_type": "stream",
     "text": [
      " 75%|███████▌  | 1508/2000 [02:27<00:41, 11.89it/s]"
     ]
    },
    {
     "name": "stdout",
     "output_type": "stream",
     "text": [
      "Training_loss 2.26091,   Relative Error 0.56778\n",
      "Training_loss 2.25835,   Relative Error 0.56743\n",
      "Training_loss 2.26118,   Relative Error 0.56774\n"
     ]
    },
    {
     "name": "stderr",
     "output_type": "stream",
     "text": [
      "\r",
      " 76%|███████▌  | 1510/2000 [02:27<00:40, 12.11it/s]"
     ]
    },
    {
     "name": "stdout",
     "output_type": "stream",
     "text": [
      "Training_loss 2.25695,   Relative Error 0.56723\n",
      "Training_loss 2.25777,   Relative Error 0.56732\n",
      "Training_loss 2.26037,   Relative Error 0.56762\n"
     ]
    },
    {
     "name": "stderr",
     "output_type": "stream",
     "text": [
      " 76%|███████▌  | 1514/2000 [02:27<00:39, 12.32it/s]"
     ]
    },
    {
     "name": "stdout",
     "output_type": "stream",
     "text": [
      "Training_loss 2.26181,   Relative Error 0.56782\n",
      "Training_loss 2.26028,   Relative Error 0.56762\n",
      "Training_loss 2.26640,   Relative Error 0.56835\n"
     ]
    },
    {
     "name": "stderr",
     "output_type": "stream",
     "text": [
      "\r",
      " 76%|███████▌  | 1516/2000 [02:27<00:39, 12.24it/s]"
     ]
    },
    {
     "name": "stdout",
     "output_type": "stream",
     "text": [
      "Training_loss 2.27277,   Relative Error 0.56913\n",
      "Training_loss 2.27220,   Relative Error 0.56908\n",
      "Training_loss 2.27727,   Relative Error 0.56969\n"
     ]
    },
    {
     "name": "stderr",
     "output_type": "stream",
     "text": [
      " 76%|███████▌  | 1520/2000 [02:28<00:41, 11.51it/s]"
     ]
    },
    {
     "name": "stdout",
     "output_type": "stream",
     "text": [
      "Training_loss 2.27842,   Relative Error 0.56980\n",
      "Training_loss 2.28211,   Relative Error 0.57026\n",
      "Training_loss 2.27776,   Relative Error 0.56971\n"
     ]
    },
    {
     "name": "stderr",
     "output_type": "stream",
     "text": [
      "\r",
      " 76%|███████▌  | 1522/2000 [02:28<00:42, 11.31it/s]"
     ]
    },
    {
     "name": "stdout",
     "output_type": "stream",
     "text": [
      "Training_loss 2.27467,   Relative Error 0.56929\n",
      "Training_loss 2.28028,   Relative Error 0.56998\n",
      "Training_loss 2.28170,   Relative Error 0.57011\n"
     ]
    },
    {
     "name": "stderr",
     "output_type": "stream",
     "text": [
      " 76%|███████▋  | 1526/2000 [02:28<00:41, 11.47it/s]"
     ]
    },
    {
     "name": "stdout",
     "output_type": "stream",
     "text": [
      "Training_loss 2.27976,   Relative Error 0.56981\n",
      "Training_loss 2.28143,   Relative Error 0.57002\n",
      "Training_loss 2.28598,   Relative Error 0.57059\n"
     ]
    },
    {
     "name": "stderr",
     "output_type": "stream",
     "text": [
      "\r",
      " 76%|███████▋  | 1528/2000 [02:28<00:40, 11.68it/s]"
     ]
    },
    {
     "name": "stdout",
     "output_type": "stream",
     "text": [
      "Training_loss 2.29183,   Relative Error 0.57132\n",
      "Training_loss 2.29017,   Relative Error 0.57111\n",
      "Training_loss 2.29309,   Relative Error 0.57146\n"
     ]
    },
    {
     "name": "stderr",
     "output_type": "stream",
     "text": [
      " 77%|███████▋  | 1532/2000 [02:29<00:37, 12.38it/s]"
     ]
    },
    {
     "name": "stdout",
     "output_type": "stream",
     "text": [
      "Training_loss 2.29580,   Relative Error 0.57176\n",
      "Training_loss 2.29453,   Relative Error 0.57165\n",
      "Training_loss 2.30155,   Relative Error 0.57250\n"
     ]
    },
    {
     "name": "stderr",
     "output_type": "stream",
     "text": [
      "\r",
      " 77%|███████▋  | 1534/2000 [02:29<00:38, 12.11it/s]"
     ]
    },
    {
     "name": "stdout",
     "output_type": "stream",
     "text": [
      "Training_loss 2.30456,   Relative Error 0.57282\n",
      "Training_loss 2.30969,   Relative Error 0.57345\n",
      "Training_loss 2.31496,   Relative Error 0.57409\n"
     ]
    },
    {
     "name": "stderr",
     "output_type": "stream",
     "text": [
      " 77%|███████▋  | 1538/2000 [02:29<00:37, 12.40it/s]"
     ]
    },
    {
     "name": "stdout",
     "output_type": "stream",
     "text": [
      "Training_loss 2.32048,   Relative Error 0.57477\n",
      "Training_loss 2.32774,   Relative Error 0.57566\n",
      "Training_loss 2.33146,   Relative Error 0.57612\n"
     ]
    },
    {
     "name": "stderr",
     "output_type": "stream",
     "text": [
      "\r",
      " 77%|███████▋  | 1540/2000 [02:29<00:36, 12.49it/s]"
     ]
    },
    {
     "name": "stdout",
     "output_type": "stream",
     "text": [
      "Training_loss 2.33444,   Relative Error 0.57650\n",
      "Training_loss 2.34126,   Relative Error 0.57733\n",
      "Training_loss 2.34666,   Relative Error 0.57798\n"
     ]
    },
    {
     "name": "stderr",
     "output_type": "stream",
     "text": [
      "\r",
      " 77%|███████▋  | 1542/2000 [02:30<00:37, 12.29it/s]"
     ]
    },
    {
     "name": "stdout",
     "output_type": "stream",
     "text": [
      "Training_loss 2.34815,   Relative Error 0.57815\n",
      "Training_loss 2.35232,   Relative Error 0.57865\n"
     ]
    },
    {
     "name": "stderr",
     "output_type": "stream",
     "text": [
      "\r",
      " 77%|███████▋  | 1544/2000 [02:30<00:41, 11.04it/s]"
     ]
    },
    {
     "name": "stdout",
     "output_type": "stream",
     "text": [
      "Training_loss 2.35483,   Relative Error 0.57889\n",
      "Training_loss 2.35914,   Relative Error 0.57937\n"
     ]
    },
    {
     "name": "stderr",
     "output_type": "stream",
     "text": [
      "\r",
      " 77%|███████▋  | 1546/2000 [02:30<01:09,  6.56it/s]"
     ]
    },
    {
     "name": "stdout",
     "output_type": "stream",
     "text": [
      "Training_loss 2.36479,   Relative Error 0.58004\n"
     ]
    },
    {
     "name": "stderr",
     "output_type": "stream",
     "text": [
      " 77%|███████▋  | 1549/2000 [02:31<01:02,  7.21it/s]"
     ]
    },
    {
     "name": "stdout",
     "output_type": "stream",
     "text": [
      "Training_loss 2.36853,   Relative Error 0.58043\n",
      "Training_loss 2.37376,   Relative Error 0.58103\n",
      "Training_loss 2.37152,   Relative Error 0.58073\n"
     ]
    },
    {
     "name": "stderr",
     "output_type": "stream",
     "text": [
      "\r",
      " 78%|███████▊  | 1551/2000 [02:31<00:53,  8.39it/s]"
     ]
    },
    {
     "name": "stdout",
     "output_type": "stream",
     "text": [
      "Training_loss 2.37187,   Relative Error 0.58072\n",
      "Training_loss 2.37635,   Relative Error 0.58125\n",
      "Training_loss 2.37516,   Relative Error 0.58109\n"
     ]
    },
    {
     "name": "stderr",
     "output_type": "stream",
     "text": [
      " 78%|███████▊  | 1555/2000 [02:31<00:42, 10.38it/s]"
     ]
    },
    {
     "name": "stdout",
     "output_type": "stream",
     "text": [
      "Training_loss 2.37551,   Relative Error 0.58110\n",
      "Training_loss 2.38183,   Relative Error 0.58184\n",
      "Training_loss 2.38065,   Relative Error 0.58173\n"
     ]
    },
    {
     "name": "stderr",
     "output_type": "stream",
     "text": [
      "\r",
      " 78%|███████▊  | 1557/2000 [02:31<00:39, 11.16it/s]"
     ]
    },
    {
     "name": "stdout",
     "output_type": "stream",
     "text": [
      "Training_loss 2.38346,   Relative Error 0.58207\n",
      "Training_loss 2.38416,   Relative Error 0.58220\n",
      "Training_loss 2.39247,   Relative Error 0.58320\n"
     ]
    },
    {
     "name": "stderr",
     "output_type": "stream",
     "text": [
      " 78%|███████▊  | 1561/2000 [02:32<00:39, 11.20it/s]"
     ]
    },
    {
     "name": "stdout",
     "output_type": "stream",
     "text": [
      "Training_loss 2.39485,   Relative Error 0.58351\n",
      "Training_loss 2.39812,   Relative Error 0.58392\n",
      "Training_loss 2.40072,   Relative Error 0.58419\n"
     ]
    },
    {
     "name": "stderr",
     "output_type": "stream",
     "text": [
      "\r",
      " 78%|███████▊  | 1563/2000 [02:32<00:38, 11.46it/s]"
     ]
    },
    {
     "name": "stdout",
     "output_type": "stream",
     "text": [
      "Training_loss 2.40515,   Relative Error 0.58470\n",
      "Training_loss 2.40763,   Relative Error 0.58495\n",
      "Training_loss 2.40919,   Relative Error 0.58514\n"
     ]
    },
    {
     "name": "stderr",
     "output_type": "stream",
     "text": [
      " 78%|███████▊  | 1567/2000 [02:32<00:38, 11.29it/s]"
     ]
    },
    {
     "name": "stdout",
     "output_type": "stream",
     "text": [
      "Training_loss 2.41397,   Relative Error 0.58569\n",
      "Training_loss 2.40831,   Relative Error 0.58505\n",
      "Training_loss 2.41297,   Relative Error 0.58556\n",
      "Training_loss 2.41420,   Relative Error 0.58572\n"
     ]
    },
    {
     "name": "stderr",
     "output_type": "stream",
     "text": [
      "\r",
      " 78%|███████▊  | 1569/2000 [02:33<00:48,  8.84it/s]"
     ]
    },
    {
     "name": "stdout",
     "output_type": "stream",
     "text": [
      "Training_loss 2.41568,   Relative Error 0.58582\n",
      "Training_loss 2.42207,   Relative Error 0.58655\n"
     ]
    },
    {
     "name": "stderr",
     "output_type": "stream",
     "text": [
      " 79%|███████▊  | 1572/2000 [02:33<01:02,  6.84it/s]"
     ]
    },
    {
     "name": "stdout",
     "output_type": "stream",
     "text": [
      "Training_loss 2.42485,   Relative Error 0.58685\n",
      "Training_loss 2.42739,   Relative Error 0.58713\n"
     ]
    },
    {
     "name": "stderr",
     "output_type": "stream",
     "text": [
      " 79%|███████▊  | 1574/2000 [02:33<01:03,  6.72it/s]"
     ]
    },
    {
     "name": "stdout",
     "output_type": "stream",
     "text": [
      "Training_loss 2.42654,   Relative Error 0.58701\n",
      "Training_loss 2.42720,   Relative Error 0.58706\n"
     ]
    },
    {
     "name": "stderr",
     "output_type": "stream",
     "text": [
      " 79%|███████▉  | 1576/2000 [02:34<00:59,  7.15it/s]"
     ]
    },
    {
     "name": "stdout",
     "output_type": "stream",
     "text": [
      "Training_loss 2.43159,   Relative Error 0.58756\n",
      "Training_loss 2.43397,   Relative Error 0.58779\n"
     ]
    },
    {
     "name": "stderr",
     "output_type": "stream",
     "text": [
      " 79%|███████▉  | 1578/2000 [02:34<01:01,  6.83it/s]"
     ]
    },
    {
     "name": "stdout",
     "output_type": "stream",
     "text": [
      "Training_loss 2.43966,   Relative Error 0.58844\n",
      "Training_loss 2.44380,   Relative Error 0.58894\n"
     ]
    },
    {
     "name": "stderr",
     "output_type": "stream",
     "text": [
      " 79%|███████▉  | 1580/2000 [02:34<01:17,  5.43it/s]"
     ]
    },
    {
     "name": "stdout",
     "output_type": "stream",
     "text": [
      "Training_loss 2.44729,   Relative Error 0.58933\n",
      "Training_loss 2.44630,   Relative Error 0.58922\n"
     ]
    },
    {
     "name": "stderr",
     "output_type": "stream",
     "text": [
      "\r",
      " 79%|███████▉  | 1581/2000 [02:35<01:11,  5.84it/s]"
     ]
    },
    {
     "name": "stdout",
     "output_type": "stream",
     "text": [
      "Training_loss 2.44677,   Relative Error 0.58926\n",
      "Training_loss 2.44986,   Relative Error 0.58958\n"
     ]
    },
    {
     "name": "stderr",
     "output_type": "stream",
     "text": [
      "\r",
      " 79%|███████▉  | 1583/2000 [02:35<01:02,  6.66it/s]"
     ]
    },
    {
     "name": "stdout",
     "output_type": "stream",
     "text": [
      "Training_loss 2.45707,   Relative Error 0.59041\n"
     ]
    },
    {
     "name": "stderr",
     "output_type": "stream",
     "text": [
      " 79%|███████▉  | 1585/2000 [02:35<01:09,  5.97it/s]"
     ]
    },
    {
     "name": "stdout",
     "output_type": "stream",
     "text": [
      "Training_loss 2.45626,   Relative Error 0.59025\n",
      "Training_loss 2.45971,   Relative Error 0.59066\n"
     ]
    },
    {
     "name": "stderr",
     "output_type": "stream",
     "text": [
      " 79%|███████▉  | 1587/2000 [02:36<01:12,  5.66it/s]"
     ]
    },
    {
     "name": "stdout",
     "output_type": "stream",
     "text": [
      "Training_loss 2.46097,   Relative Error 0.59081\n",
      "Training_loss 2.46741,   Relative Error 0.59155\n"
     ]
    },
    {
     "name": "stderr",
     "output_type": "stream",
     "text": [
      " 79%|███████▉  | 1589/2000 [02:36<01:14,  5.48it/s]"
     ]
    },
    {
     "name": "stdout",
     "output_type": "stream",
     "text": [
      "Training_loss 2.46548,   Relative Error 0.59130\n",
      "Training_loss 2.47143,   Relative Error 0.59197\n"
     ]
    },
    {
     "name": "stderr",
     "output_type": "stream",
     "text": [
      " 80%|███████▉  | 1591/2000 [02:36<01:12,  5.61it/s]"
     ]
    },
    {
     "name": "stdout",
     "output_type": "stream",
     "text": [
      "Training_loss 2.47746,   Relative Error 0.59268\n",
      "Training_loss 2.47813,   Relative Error 0.59269\n"
     ]
    },
    {
     "name": "stderr",
     "output_type": "stream",
     "text": [
      "\r",
      " 80%|███████▉  | 1592/2000 [02:37<01:26,  4.70it/s]"
     ]
    },
    {
     "name": "stdout",
     "output_type": "stream",
     "text": [
      "Training_loss 2.48382,   Relative Error 0.59337\n"
     ]
    },
    {
     "name": "stderr",
     "output_type": "stream",
     "text": [
      "\r",
      " 80%|███████▉  | 1593/2000 [02:37<01:28,  4.58it/s]"
     ]
    },
    {
     "name": "stdout",
     "output_type": "stream",
     "text": [
      "Training_loss 2.48140,   Relative Error 0.59310\n",
      "Training_loss 2.48763,   Relative Error 0.59383"
     ]
    },
    {
     "name": "stderr",
     "output_type": "stream",
     "text": [
      " 80%|███████▉  | 1595/2000 [02:37<01:19,  5.08it/s]"
     ]
    },
    {
     "name": "stdout",
     "output_type": "stream",
     "text": [
      "\n",
      "Training_loss 2.49160,   Relative Error 0.59429\n"
     ]
    },
    {
     "name": "stderr",
     "output_type": "stream",
     "text": [
      "\r",
      " 80%|███████▉  | 1596/2000 [02:37<01:11,  5.67it/s]"
     ]
    },
    {
     "name": "stdout",
     "output_type": "stream",
     "text": [
      "Training_loss 2.49768,   Relative Error 0.59497\n"
     ]
    },
    {
     "name": "stderr",
     "output_type": "stream",
     "text": [
      " 80%|███████▉  | 1598/2000 [02:38<01:04,  6.21it/s]"
     ]
    },
    {
     "name": "stdout",
     "output_type": "stream",
     "text": [
      "Training_loss 2.49863,   Relative Error 0.59512\n",
      "Training_loss 2.50214,   Relative Error 0.59550\n"
     ]
    },
    {
     "name": "stderr",
     "output_type": "stream",
     "text": [
      " 80%|████████  | 1600/2000 [02:38<00:58,  6.81it/s]"
     ]
    },
    {
     "name": "stdout",
     "output_type": "stream",
     "text": [
      "Training_loss 2.50605,   Relative Error 0.59595\n",
      "Training_loss 2.50568,   Relative Error 0.59592\n"
     ]
    },
    {
     "name": "stderr",
     "output_type": "stream",
     "text": [
      " 80%|████████  | 1602/2000 [02:38<00:51,  7.76it/s]"
     ]
    },
    {
     "name": "stdout",
     "output_type": "stream",
     "text": [
      "Training_loss 2.50801,   Relative Error 0.59614\n",
      "Training_loss 2.50726,   Relative Error 0.59601\n"
     ]
    },
    {
     "name": "stderr",
     "output_type": "stream",
     "text": [
      " 80%|████████  | 1604/2000 [02:38<00:47,  8.32it/s]"
     ]
    },
    {
     "name": "stdout",
     "output_type": "stream",
     "text": [
      "Training_loss 2.51126,   Relative Error 0.59649\n",
      "Training_loss 2.50892,   Relative Error 0.59620\n"
     ]
    },
    {
     "name": "stderr",
     "output_type": "stream",
     "text": [
      "\r",
      " 80%|████████  | 1605/2000 [02:39<00:47,  8.28it/s]"
     ]
    },
    {
     "name": "stdout",
     "output_type": "stream",
     "text": [
      "Training_loss 2.51053,   Relative Error 0.59636\n",
      "Training_loss 2.51512,   Relative Error 0.59686\n"
     ]
    },
    {
     "name": "stderr",
     "output_type": "stream",
     "text": [
      " 80%|████████  | 1608/2000 [02:39<00:44,  8.84it/s]"
     ]
    },
    {
     "name": "stdout",
     "output_type": "stream",
     "text": [
      "Training_loss 2.51546,   Relative Error 0.59688\n",
      "Training_loss 2.51868,   Relative Error 0.59725\n"
     ]
    },
    {
     "name": "stderr",
     "output_type": "stream",
     "text": [
      " 80%|████████  | 1610/2000 [02:39<00:44,  8.79it/s]"
     ]
    },
    {
     "name": "stdout",
     "output_type": "stream",
     "text": [
      "Training_loss 2.51935,   Relative Error 0.59735\n",
      "Training_loss 2.52205,   Relative Error 0.59767\n"
     ]
    },
    {
     "name": "stderr",
     "output_type": "stream",
     "text": [
      " 81%|████████  | 1612/2000 [02:39<00:52,  7.32it/s]"
     ]
    },
    {
     "name": "stdout",
     "output_type": "stream",
     "text": [
      "Training_loss 2.52076,   Relative Error 0.59753\n",
      "Training_loss 2.52441,   Relative Error 0.59796\n"
     ]
    },
    {
     "name": "stderr",
     "output_type": "stream",
     "text": [
      "\r",
      " 81%|████████  | 1613/2000 [02:40<00:57,  6.77it/s]"
     ]
    },
    {
     "name": "stdout",
     "output_type": "stream",
     "text": [
      "Training_loss 2.52498,   Relative Error 0.59801\n"
     ]
    },
    {
     "name": "stderr",
     "output_type": "stream",
     "text": [
      " 81%|████████  | 1615/2000 [02:40<00:56,  6.79it/s]"
     ]
    },
    {
     "name": "stdout",
     "output_type": "stream",
     "text": [
      "Training_loss 2.52979,   Relative Error 0.59861\n",
      "Training_loss 2.53311,   Relative Error 0.59896\n"
     ]
    },
    {
     "name": "stderr",
     "output_type": "stream",
     "text": [
      " 81%|████████  | 1617/2000 [02:40<00:58,  6.55it/s]"
     ]
    },
    {
     "name": "stdout",
     "output_type": "stream",
     "text": [
      "Training_loss 2.53994,   Relative Error 0.59972\n",
      "Training_loss 2.54305,   Relative Error 0.60004\n"
     ]
    },
    {
     "name": "stderr",
     "output_type": "stream",
     "text": [
      " 81%|████████  | 1619/2000 [02:40<00:57,  6.63it/s]"
     ]
    },
    {
     "name": "stdout",
     "output_type": "stream",
     "text": [
      "Training_loss 2.54338,   Relative Error 0.60007\n",
      "Training_loss 2.54992,   Relative Error 0.60084\n"
     ]
    },
    {
     "name": "stderr",
     "output_type": "stream",
     "text": [
      "\r",
      " 81%|████████  | 1621/2000 [02:41<00:45,  8.35it/s]"
     ]
    },
    {
     "name": "stdout",
     "output_type": "stream",
     "text": [
      "Training_loss 2.55260,   Relative Error 0.60116\n",
      "Training_loss 2.55652,   Relative Error 0.60159\n",
      "Training_loss 2.56375,   Relative Error 0.60238\n"
     ]
    },
    {
     "name": "stderr",
     "output_type": "stream",
     "text": [
      " 81%|████████  | 1624/2000 [02:41<00:43,  8.67it/s]"
     ]
    },
    {
     "name": "stdout",
     "output_type": "stream",
     "text": [
      "Training_loss 2.56415,   Relative Error 0.60250\n",
      "Training_loss 2.56530,   Relative Error 0.60265\n"
     ]
    },
    {
     "name": "stderr",
     "output_type": "stream",
     "text": [
      " 81%|████████▏ | 1626/2000 [02:41<00:47,  7.94it/s]"
     ]
    },
    {
     "name": "stdout",
     "output_type": "stream",
     "text": [
      "Training_loss 2.56390,   Relative Error 0.60245\n",
      "Training_loss 2.56381,   Relative Error 0.60242\n",
      "Training_loss 2.56555,   Relative Error 0.60255\n"
     ]
    },
    {
     "name": "stderr",
     "output_type": "stream",
     "text": [
      " 82%|████████▏ | 1630/2000 [02:42<00:34, 10.61it/s]"
     ]
    },
    {
     "name": "stdout",
     "output_type": "stream",
     "text": [
      "Training_loss 2.56702,   Relative Error 0.60268\n",
      "Training_loss 2.56963,   Relative Error 0.60300\n",
      "Training_loss 2.57128,   Relative Error 0.60318\n"
     ]
    },
    {
     "name": "stderr",
     "output_type": "stream",
     "text": [
      "\r",
      " 82%|████████▏ | 1632/2000 [02:42<00:34, 10.60it/s]"
     ]
    },
    {
     "name": "stdout",
     "output_type": "stream",
     "text": [
      "Training_loss 2.57645,   Relative Error 0.60377\n",
      "Training_loss 2.58272,   Relative Error 0.60448\n"
     ]
    },
    {
     "name": "stderr",
     "output_type": "stream",
     "text": [
      "\r",
      " 82%|████████▏ | 1634/2000 [02:42<00:36, 10.02it/s]"
     ]
    },
    {
     "name": "stdout",
     "output_type": "stream",
     "text": [
      "Training_loss 2.58072,   Relative Error 0.60426\n",
      "Training_loss 2.58482,   Relative Error 0.60472\n",
      "Training_loss 2.58407,   Relative Error 0.60465\n"
     ]
    },
    {
     "name": "stderr",
     "output_type": "stream",
     "text": [
      " 82%|████████▏ | 1638/2000 [02:42<00:32, 11.09it/s]"
     ]
    },
    {
     "name": "stdout",
     "output_type": "stream",
     "text": [
      "Training_loss 2.58597,   Relative Error 0.60487\n",
      "Training_loss 2.58982,   Relative Error 0.60531\n",
      "Training_loss 2.59064,   Relative Error 0.60535\n"
     ]
    },
    {
     "name": "stderr",
     "output_type": "stream",
     "text": [
      "\r",
      " 82%|████████▏ | 1640/2000 [02:42<00:32, 10.95it/s]"
     ]
    },
    {
     "name": "stdout",
     "output_type": "stream",
     "text": [
      "Training_loss 2.59004,   Relative Error 0.60531\n",
      "Training_loss 2.59336,   Relative Error 0.60571\n",
      "Training_loss 2.59140,   Relative Error 0.60544\n"
     ]
    },
    {
     "name": "stderr",
     "output_type": "stream",
     "text": [
      " 82%|████████▏ | 1644/2000 [02:43<00:33, 10.66it/s]"
     ]
    },
    {
     "name": "stdout",
     "output_type": "stream",
     "text": [
      "Training_loss 2.59662,   Relative Error 0.60600\n",
      "Training_loss 2.59626,   Relative Error 0.60597\n",
      "Training_loss 2.59764,   Relative Error 0.60603\n"
     ]
    },
    {
     "name": "stderr",
     "output_type": "stream",
     "text": [
      "\r",
      " 82%|████████▏ | 1646/2000 [02:43<00:32, 10.93it/s]"
     ]
    },
    {
     "name": "stdout",
     "output_type": "stream",
     "text": [
      "Training_loss 2.59895,   Relative Error 0.60615\n",
      "Training_loss 2.59920,   Relative Error 0.60616\n",
      "Training_loss 2.60498,   Relative Error 0.60683\n"
     ]
    },
    {
     "name": "stderr",
     "output_type": "stream",
     "text": [
      " 82%|████████▎ | 1650/2000 [02:43<00:33, 10.38it/s]"
     ]
    },
    {
     "name": "stdout",
     "output_type": "stream",
     "text": [
      "Training_loss 2.60653,   Relative Error 0.60703\n",
      "Training_loss 2.60974,   Relative Error 0.60741\n",
      "Training_loss 2.61387,   Relative Error 0.60790\n"
     ]
    },
    {
     "name": "stderr",
     "output_type": "stream",
     "text": [
      "\r",
      " 83%|████████▎ | 1652/2000 [02:44<00:33, 10.29it/s]"
     ]
    },
    {
     "name": "stdout",
     "output_type": "stream",
     "text": [
      "Training_loss 2.61681,   Relative Error 0.60818\n",
      "Training_loss 2.62079,   Relative Error 0.60866\n",
      "Training_loss 2.62435,   Relative Error 0.60902\n"
     ]
    },
    {
     "name": "stderr",
     "output_type": "stream",
     "text": [
      " 83%|████████▎ | 1656/2000 [02:44<00:32, 10.74it/s]"
     ]
    },
    {
     "name": "stdout",
     "output_type": "stream",
     "text": [
      "Training_loss 2.62928,   Relative Error 0.60958\n",
      "Training_loss 2.63182,   Relative Error 0.60985\n",
      "Training_loss 2.63719,   Relative Error 0.61045\n"
     ]
    },
    {
     "name": "stderr",
     "output_type": "stream",
     "text": [
      "\r",
      " 83%|████████▎ | 1658/2000 [02:44<00:30, 11.22it/s]"
     ]
    },
    {
     "name": "stdout",
     "output_type": "stream",
     "text": [
      "Training_loss 2.63612,   Relative Error 0.61033\n",
      "Training_loss 2.64211,   Relative Error 0.61096\n",
      "Training_loss 2.64103,   Relative Error 0.61083\n"
     ]
    },
    {
     "name": "stderr",
     "output_type": "stream",
     "text": [
      " 83%|████████▎ | 1662/2000 [02:44<00:28, 11.84it/s]"
     ]
    },
    {
     "name": "stdout",
     "output_type": "stream",
     "text": [
      "Training_loss 2.64172,   Relative Error 0.61097\n",
      "Training_loss 2.64010,   Relative Error 0.61079\n",
      "Training_loss 2.63803,   Relative Error 0.61060\n"
     ]
    },
    {
     "name": "stderr",
     "output_type": "stream",
     "text": [
      "\r",
      " 83%|████████▎ | 1664/2000 [02:45<00:30, 11.15it/s]"
     ]
    },
    {
     "name": "stdout",
     "output_type": "stream",
     "text": [
      "Training_loss 2.63082,   Relative Error 0.60972\n",
      "Training_loss 2.63610,   Relative Error 0.61030\n",
      "Training_loss 2.64056,   Relative Error 0.61079\n"
     ]
    },
    {
     "name": "stderr",
     "output_type": "stream",
     "text": [
      " 83%|████████▎ | 1668/2000 [02:45<00:29, 11.14it/s]"
     ]
    },
    {
     "name": "stdout",
     "output_type": "stream",
     "text": [
      "Training_loss 2.63937,   Relative Error 0.61063\n",
      "Training_loss 2.63976,   Relative Error 0.61065\n",
      "Training_loss 2.64142,   Relative Error 0.61080\n"
     ]
    },
    {
     "name": "stderr",
     "output_type": "stream",
     "text": [
      "\r",
      " 84%|████████▎ | 1670/2000 [02:45<00:28, 11.54it/s]"
     ]
    },
    {
     "name": "stdout",
     "output_type": "stream",
     "text": [
      "Training_loss 2.64594,   Relative Error 0.61131\n",
      "Training_loss 2.64902,   Relative Error 0.61170\n",
      "Training_loss 2.65177,   Relative Error 0.61199\n"
     ]
    },
    {
     "name": "stderr",
     "output_type": "stream",
     "text": [
      " 84%|████████▎ | 1674/2000 [02:46<00:27, 11.75it/s]"
     ]
    },
    {
     "name": "stdout",
     "output_type": "stream",
     "text": [
      "Training_loss 2.65286,   Relative Error 0.61211\n",
      "Training_loss 2.64820,   Relative Error 0.61155\n",
      "Training_loss 2.65057,   Relative Error 0.61177\n"
     ]
    },
    {
     "name": "stderr",
     "output_type": "stream",
     "text": [
      "\r",
      " 84%|████████▍ | 1676/2000 [02:46<00:27, 11.91it/s]"
     ]
    },
    {
     "name": "stdout",
     "output_type": "stream",
     "text": [
      "Training_loss 2.65685,   Relative Error 0.61244\n",
      "Training_loss 2.65969,   Relative Error 0.61281\n",
      "Training_loss 2.66022,   Relative Error 0.61288\n"
     ]
    },
    {
     "name": "stderr",
     "output_type": "stream",
     "text": [
      "\r",
      " 84%|████████▍ | 1678/2000 [02:46<00:28, 11.25it/s]"
     ]
    },
    {
     "name": "stdout",
     "output_type": "stream",
     "text": [
      "Training_loss 2.66579,   Relative Error 0.61350\n",
      "Training_loss 2.66730,   Relative Error 0.61370\n"
     ]
    },
    {
     "name": "stderr",
     "output_type": "stream",
     "text": [
      " 84%|████████▍ | 1682/2000 [02:46<00:28, 11.14it/s]"
     ]
    },
    {
     "name": "stdout",
     "output_type": "stream",
     "text": [
      "Training_loss 2.67285,   Relative Error 0.61432\n",
      "Training_loss 2.67657,   Relative Error 0.61473\n",
      "Training_loss 2.67701,   Relative Error 0.61479\n"
     ]
    },
    {
     "name": "stderr",
     "output_type": "stream",
     "text": [
      "\r",
      " 84%|████████▍ | 1684/2000 [02:46<00:30, 10.50it/s]"
     ]
    },
    {
     "name": "stdout",
     "output_type": "stream",
     "text": [
      "Training_loss 2.68101,   Relative Error 0.61523\n",
      "Training_loss 2.68283,   Relative Error 0.61537\n",
      "Training_loss 2.68888,   Relative Error 0.61607\n"
     ]
    },
    {
     "name": "stderr",
     "output_type": "stream",
     "text": [
      " 84%|████████▍ | 1688/2000 [02:47<00:28, 10.96it/s]"
     ]
    },
    {
     "name": "stdout",
     "output_type": "stream",
     "text": [
      "Training_loss 2.69027,   Relative Error 0.61621\n",
      "Training_loss 2.69586,   Relative Error 0.61684\n",
      "Training_loss 2.69526,   Relative Error 0.61676\n"
     ]
    },
    {
     "name": "stderr",
     "output_type": "stream",
     "text": [
      "\r",
      " 84%|████████▍ | 1690/2000 [02:47<00:28, 10.80it/s]"
     ]
    },
    {
     "name": "stdout",
     "output_type": "stream",
     "text": [
      "Training_loss 2.69727,   Relative Error 0.61699\n",
      "Training_loss 2.69955,   Relative Error 0.61726\n"
     ]
    },
    {
     "name": "stderr",
     "output_type": "stream",
     "text": [
      "\r",
      " 85%|████████▍ | 1692/2000 [02:47<00:28, 10.86it/s]"
     ]
    },
    {
     "name": "stdout",
     "output_type": "stream",
     "text": [
      "Training_loss 2.69773,   Relative Error 0.61702\n",
      "Training_loss 2.70144,   Relative Error 0.61739\n",
      "Training_loss 2.70844,   Relative Error 0.61816\n"
     ]
    },
    {
     "name": "stderr",
     "output_type": "stream",
     "text": [
      " 85%|████████▍ | 1696/2000 [02:48<00:28, 10.69it/s]"
     ]
    },
    {
     "name": "stdout",
     "output_type": "stream",
     "text": [
      "Training_loss 2.70897,   Relative Error 0.61823\n",
      "Training_loss 2.71468,   Relative Error 0.61887\n",
      "Training_loss 2.71766,   Relative Error 0.61925\n"
     ]
    },
    {
     "name": "stderr",
     "output_type": "stream",
     "text": [
      "\r",
      " 85%|████████▍ | 1698/2000 [02:48<00:27, 10.88it/s]"
     ]
    },
    {
     "name": "stdout",
     "output_type": "stream",
     "text": [
      "Training_loss 2.72483,   Relative Error 0.62006\n",
      "Training_loss 2.72693,   Relative Error 0.62032\n",
      "Training_loss 2.72871,   Relative Error 0.62047\n"
     ]
    },
    {
     "name": "stderr",
     "output_type": "stream",
     "text": [
      " 85%|████████▌ | 1702/2000 [02:48<00:26, 11.33it/s]"
     ]
    },
    {
     "name": "stdout",
     "output_type": "stream",
     "text": [
      "Training_loss 2.73180,   Relative Error 0.62081\n",
      "Training_loss 2.73397,   Relative Error 0.62104\n",
      "Training_loss 2.73684,   Relative Error 0.62136\n"
     ]
    },
    {
     "name": "stderr",
     "output_type": "stream",
     "text": [
      "\r",
      " 85%|████████▌ | 1704/2000 [02:48<00:27, 10.74it/s]"
     ]
    },
    {
     "name": "stdout",
     "output_type": "stream",
     "text": [
      "Training_loss 2.74255,   Relative Error 0.62202\n",
      "Training_loss 2.74576,   Relative Error 0.62242\n"
     ]
    },
    {
     "name": "stderr",
     "output_type": "stream",
     "text": [
      "\r",
      " 85%|████████▌ | 1706/2000 [02:49<00:28, 10.20it/s]"
     ]
    },
    {
     "name": "stdout",
     "output_type": "stream",
     "text": [
      "Training_loss 2.74601,   Relative Error 0.62248\n",
      "Training_loss 2.74955,   Relative Error 0.62289\n",
      "Training_loss 2.74991,   Relative Error 0.62286\n"
     ]
    },
    {
     "name": "stderr",
     "output_type": "stream",
     "text": [
      "\r",
      " 85%|████████▌ | 1708/2000 [02:49<00:28, 10.37it/s]"
     ]
    },
    {
     "name": "stdout",
     "output_type": "stream",
     "text": [
      "Training_loss 2.74165,   Relative Error 0.62193\n",
      "Training_loss 2.73870,   Relative Error 0.62161\n"
     ]
    },
    {
     "name": "stderr",
     "output_type": "stream",
     "text": [
      " 86%|████████▌ | 1712/2000 [02:49<00:28, 10.11it/s]"
     ]
    },
    {
     "name": "stdout",
     "output_type": "stream",
     "text": [
      "Training_loss 2.73447,   Relative Error 0.62111\n",
      "Training_loss 2.73180,   Relative Error 0.62084\n",
      "Training_loss 2.73555,   Relative Error 0.62127\n"
     ]
    },
    {
     "name": "stderr",
     "output_type": "stream",
     "text": [
      "\r",
      " 86%|████████▌ | 1714/2000 [02:49<00:27, 10.43it/s]"
     ]
    },
    {
     "name": "stdout",
     "output_type": "stream",
     "text": [
      "Training_loss 2.73896,   Relative Error 0.62168\n",
      "Training_loss 2.74671,   Relative Error 0.62255\n",
      "Training_loss 2.74695,   Relative Error 0.62257\n"
     ]
    },
    {
     "name": "stderr",
     "output_type": "stream",
     "text": [
      " 86%|████████▌ | 1718/2000 [02:50<00:26, 10.46it/s]"
     ]
    },
    {
     "name": "stdout",
     "output_type": "stream",
     "text": [
      "Training_loss 2.74830,   Relative Error 0.62268\n",
      "Training_loss 2.75516,   Relative Error 0.62343\n",
      "Training_loss 2.75371,   Relative Error 0.62326\n"
     ]
    },
    {
     "name": "stderr",
     "output_type": "stream",
     "text": [
      "\r",
      " 86%|████████▌ | 1720/2000 [02:50<00:25, 10.95it/s]"
     ]
    },
    {
     "name": "stdout",
     "output_type": "stream",
     "text": [
      "Training_loss 2.75949,   Relative Error 0.62389\n",
      "Training_loss 2.76536,   Relative Error 0.62455\n",
      "Training_loss 2.77231,   Relative Error 0.62527\n"
     ]
    },
    {
     "name": "stderr",
     "output_type": "stream",
     "text": [
      " 86%|████████▌ | 1724/2000 [02:50<00:24, 11.24it/s]"
     ]
    },
    {
     "name": "stdout",
     "output_type": "stream",
     "text": [
      "Training_loss 2.77226,   Relative Error 0.62525\n",
      "Training_loss 2.77482,   Relative Error 0.62545\n",
      "Training_loss 2.77651,   Relative Error 0.62554\n"
     ]
    },
    {
     "name": "stderr",
     "output_type": "stream",
     "text": [
      "\r",
      " 86%|████████▋ | 1726/2000 [02:50<00:24, 11.10it/s]"
     ]
    },
    {
     "name": "stdout",
     "output_type": "stream",
     "text": [
      "Training_loss 2.77891,   Relative Error 0.62579\n",
      "Training_loss 2.78084,   Relative Error 0.62601\n",
      "Training_loss 2.78078,   Relative Error 0.62596\n"
     ]
    },
    {
     "name": "stderr",
     "output_type": "stream",
     "text": [
      " 86%|████████▋ | 1730/2000 [02:51<00:23, 11.40it/s]"
     ]
    },
    {
     "name": "stdout",
     "output_type": "stream",
     "text": [
      "Training_loss 2.78980,   Relative Error 0.62695\n",
      "Training_loss 2.79340,   Relative Error 0.62732\n",
      "Training_loss 2.79099,   Relative Error 0.62701\n"
     ]
    },
    {
     "name": "stderr",
     "output_type": "stream",
     "text": [
      "\r",
      " 87%|████████▋ | 1732/2000 [02:51<00:23, 11.59it/s]"
     ]
    },
    {
     "name": "stdout",
     "output_type": "stream",
     "text": [
      "Training_loss 2.78806,   Relative Error 0.62679\n",
      "Training_loss 2.79374,   Relative Error 0.62743\n",
      "Training_loss 2.79065,   Relative Error 0.62710\n"
     ]
    },
    {
     "name": "stderr",
     "output_type": "stream",
     "text": [
      " 87%|████████▋ | 1736/2000 [02:51<00:23, 11.42it/s]"
     ]
    },
    {
     "name": "stdout",
     "output_type": "stream",
     "text": [
      "Training_loss 2.79644,   Relative Error 0.62774\n",
      "Training_loss 2.79592,   Relative Error 0.62763\n",
      "Training_loss 2.79966,   Relative Error 0.62802\n"
     ]
    },
    {
     "name": "stderr",
     "output_type": "stream",
     "text": [
      "\r",
      " 87%|████████▋ | 1738/2000 [02:51<00:23, 11.09it/s]"
     ]
    },
    {
     "name": "stdout",
     "output_type": "stream",
     "text": [
      "Training_loss 2.80496,   Relative Error 0.62858\n",
      "Training_loss 2.80477,   Relative Error 0.62856\n",
      "Training_loss 2.80380,   Relative Error 0.62842\n"
     ]
    },
    {
     "name": "stderr",
     "output_type": "stream",
     "text": [
      " 87%|████████▋ | 1742/2000 [02:52<00:23, 10.94it/s]"
     ]
    },
    {
     "name": "stdout",
     "output_type": "stream",
     "text": [
      "Training_loss 2.80729,   Relative Error 0.62877\n",
      "Training_loss 2.81227,   Relative Error 0.62930\n",
      "Training_loss 2.81768,   Relative Error 0.62991\n"
     ]
    },
    {
     "name": "stderr",
     "output_type": "stream",
     "text": [
      "\r",
      " 87%|████████▋ | 1744/2000 [02:52<00:23, 10.89it/s]"
     ]
    },
    {
     "name": "stdout",
     "output_type": "stream",
     "text": [
      "Training_loss 2.82177,   Relative Error 0.63030\n",
      "Training_loss 2.82549,   Relative Error 0.63069\n",
      "Training_loss 2.82768,   Relative Error 0.63096\n"
     ]
    },
    {
     "name": "stderr",
     "output_type": "stream",
     "text": [
      " 87%|████████▋ | 1748/2000 [02:52<00:23, 10.68it/s]"
     ]
    },
    {
     "name": "stdout",
     "output_type": "stream",
     "text": [
      "Training_loss 2.82380,   Relative Error 0.63054\n",
      "Training_loss 2.82762,   Relative Error 0.63097\n",
      "Training_loss 2.83045,   Relative Error 0.63128\n"
     ]
    },
    {
     "name": "stderr",
     "output_type": "stream",
     "text": [
      "\r",
      " 88%|████████▊ | 1750/2000 [02:53<00:23, 10.55it/s]"
     ]
    },
    {
     "name": "stdout",
     "output_type": "stream",
     "text": [
      "Training_loss 2.83295,   Relative Error 0.63151\n",
      "Training_loss 2.83412,   Relative Error 0.63168\n",
      "Training_loss 2.83479,   Relative Error 0.63176\n"
     ]
    },
    {
     "name": "stderr",
     "output_type": "stream",
     "text": [
      " 88%|████████▊ | 1754/2000 [02:53<00:22, 10.93it/s]"
     ]
    },
    {
     "name": "stdout",
     "output_type": "stream",
     "text": [
      "Training_loss 2.83880,   Relative Error 0.63222\n",
      "Training_loss 2.84335,   Relative Error 0.63271\n",
      "Training_loss 2.84745,   Relative Error 0.63314\n"
     ]
    },
    {
     "name": "stderr",
     "output_type": "stream",
     "text": [
      "\r",
      " 88%|████████▊ | 1756/2000 [02:53<00:22, 10.80it/s]"
     ]
    },
    {
     "name": "stdout",
     "output_type": "stream",
     "text": [
      "Training_loss 2.85123,   Relative Error 0.63354\n",
      "Training_loss 2.85748,   Relative Error 0.63421\n",
      "Training_loss 2.86115,   Relative Error 0.63461\n"
     ]
    },
    {
     "name": "stderr",
     "output_type": "stream",
     "text": [
      " 88%|████████▊ | 1760/2000 [02:53<00:21, 11.07it/s]"
     ]
    },
    {
     "name": "stdout",
     "output_type": "stream",
     "text": [
      "Training_loss 2.85800,   Relative Error 0.63420\n",
      "Training_loss 2.85842,   Relative Error 0.63426\n",
      "Training_loss 2.86112,   Relative Error 0.63458\n"
     ]
    },
    {
     "name": "stderr",
     "output_type": "stream",
     "text": [
      "\r",
      " 88%|████████▊ | 1762/2000 [02:54<00:20, 11.33it/s]"
     ]
    },
    {
     "name": "stdout",
     "output_type": "stream",
     "text": [
      "Training_loss 2.86643,   Relative Error 0.63516\n",
      "Training_loss 2.86772,   Relative Error 0.63527\n"
     ]
    },
    {
     "name": "stderr",
     "output_type": "stream",
     "text": [
      "\r",
      " 88%|████████▊ | 1764/2000 [02:54<00:23, 10.23it/s]"
     ]
    },
    {
     "name": "stdout",
     "output_type": "stream",
     "text": [
      "Training_loss 2.86845,   Relative Error 0.63536\n",
      "Training_loss 2.86939,   Relative Error 0.63538\n",
      "Training_loss 2.87631,   Relative Error 0.63613\n"
     ]
    },
    {
     "name": "stderr",
     "output_type": "stream",
     "text": [
      "\r",
      " 88%|████████▊ | 1766/2000 [02:54<00:22, 10.23it/s]"
     ]
    },
    {
     "name": "stdout",
     "output_type": "stream",
     "text": [
      "Training_loss 2.87438,   Relative Error 0.63594\n",
      "Training_loss 2.87577,   Relative Error 0.63610\n"
     ]
    },
    {
     "name": "stderr",
     "output_type": "stream",
     "text": [
      "\r",
      " 88%|████████▊ | 1768/2000 [02:54<00:23,  9.82it/s]"
     ]
    },
    {
     "name": "stdout",
     "output_type": "stream",
     "text": [
      "Training_loss 2.87939,   Relative Error 0.63649\n",
      "Training_loss 2.88359,   Relative Error 0.63694\n"
     ]
    },
    {
     "name": "stderr",
     "output_type": "stream",
     "text": [
      " 89%|████████▊ | 1771/2000 [02:55<00:24,  9.40it/s]"
     ]
    },
    {
     "name": "stdout",
     "output_type": "stream",
     "text": [
      "Training_loss 2.88641,   Relative Error 0.63722\n",
      "Training_loss 2.89165,   Relative Error 0.63779\n",
      "Training_loss 2.89806,   Relative Error 0.63844\n"
     ]
    },
    {
     "name": "stderr",
     "output_type": "stream",
     "text": [
      " 89%|████████▉ | 1775/2000 [02:55<00:21, 10.46it/s]"
     ]
    },
    {
     "name": "stdout",
     "output_type": "stream",
     "text": [
      "Training_loss 2.89534,   Relative Error 0.63815\n",
      "Training_loss 2.90263,   Relative Error 0.63890\n",
      "Training_loss 2.90454,   Relative Error 0.63913\n"
     ]
    },
    {
     "name": "stderr",
     "output_type": "stream",
     "text": [
      "\r",
      " 89%|████████▉ | 1777/2000 [02:55<00:21, 10.24it/s]"
     ]
    },
    {
     "name": "stdout",
     "output_type": "stream",
     "text": [
      "Training_loss 2.90889,   Relative Error 0.63961\n",
      "Training_loss 2.90702,   Relative Error 0.63942\n"
     ]
    },
    {
     "name": "stderr",
     "output_type": "stream",
     "text": [
      "\r",
      " 89%|████████▉ | 1779/2000 [02:55<00:21, 10.47it/s]"
     ]
    },
    {
     "name": "stdout",
     "output_type": "stream",
     "text": [
      "Training_loss 2.90578,   Relative Error 0.63927\n",
      "Training_loss 2.90277,   Relative Error 0.63889\n",
      "Training_loss 2.90413,   Relative Error 0.63901\n"
     ]
    },
    {
     "name": "stderr",
     "output_type": "stream",
     "text": [
      " 89%|████████▉ | 1783/2000 [02:56<00:20, 10.66it/s]"
     ]
    },
    {
     "name": "stdout",
     "output_type": "stream",
     "text": [
      "Training_loss 2.91003,   Relative Error 0.63961\n",
      "Training_loss 2.91152,   Relative Error 0.63978\n",
      "Training_loss 2.91166,   Relative Error 0.63981\n"
     ]
    },
    {
     "name": "stderr",
     "output_type": "stream",
     "text": [
      "\r",
      " 89%|████████▉ | 1785/2000 [02:56<00:20, 10.39it/s]"
     ]
    },
    {
     "name": "stdout",
     "output_type": "stream",
     "text": [
      "Training_loss 2.90752,   Relative Error 0.63942\n",
      "Training_loss 2.91002,   Relative Error 0.63968\n"
     ]
    },
    {
     "name": "stderr",
     "output_type": "stream",
     "text": [
      "\r",
      " 89%|████████▉ | 1787/2000 [02:56<00:19, 10.67it/s]"
     ]
    },
    {
     "name": "stdout",
     "output_type": "stream",
     "text": [
      "Training_loss 2.90989,   Relative Error 0.63964\n",
      "Training_loss 2.90518,   Relative Error 0.63905\n",
      "Training_loss 2.91047,   Relative Error 0.63964\n"
     ]
    },
    {
     "name": "stderr",
     "output_type": "stream",
     "text": [
      " 90%|████████▉ | 1791/2000 [02:56<00:18, 11.31it/s]"
     ]
    },
    {
     "name": "stdout",
     "output_type": "stream",
     "text": [
      "Training_loss 2.90884,   Relative Error 0.63945\n",
      "Training_loss 2.91269,   Relative Error 0.63985\n",
      "Training_loss 2.91409,   Relative Error 0.63996\n"
     ]
    },
    {
     "name": "stderr",
     "output_type": "stream",
     "text": [
      "\r",
      " 90%|████████▉ | 1793/2000 [02:57<00:19, 10.67it/s]"
     ]
    },
    {
     "name": "stdout",
     "output_type": "stream",
     "text": [
      "Training_loss 2.91465,   Relative Error 0.63998\n",
      "Training_loss 2.91809,   Relative Error 0.64032\n"
     ]
    },
    {
     "name": "stderr",
     "output_type": "stream",
     "text": [
      "\r",
      " 90%|████████▉ | 1795/2000 [02:57<00:19, 10.33it/s]"
     ]
    },
    {
     "name": "stdout",
     "output_type": "stream",
     "text": [
      "Training_loss 2.91170,   Relative Error 0.63967\n",
      "Training_loss 2.91514,   Relative Error 0.64001\n",
      "Training_loss 2.91974,   Relative Error 0.64051\n"
     ]
    },
    {
     "name": "stderr",
     "output_type": "stream",
     "text": [
      " 90%|████████▉ | 1799/2000 [02:57<00:18, 10.83it/s]"
     ]
    },
    {
     "name": "stdout",
     "output_type": "stream",
     "text": [
      "Training_loss 2.92182,   Relative Error 0.64074\n",
      "Training_loss 2.91848,   Relative Error 0.64040\n",
      "Training_loss 2.92116,   Relative Error 0.64066\n"
     ]
    },
    {
     "name": "stderr",
     "output_type": "stream",
     "text": [
      "\r",
      " 90%|█████████ | 1801/2000 [02:57<00:18, 10.76it/s]"
     ]
    },
    {
     "name": "stdout",
     "output_type": "stream",
     "text": [
      "Training_loss 2.92344,   Relative Error 0.64087\n",
      "Training_loss 2.92846,   Relative Error 0.64139\n",
      "Training_loss 2.92778,   Relative Error 0.64131\n"
     ]
    },
    {
     "name": "stderr",
     "output_type": "stream",
     "text": [
      " 90%|█████████ | 1805/2000 [02:58<00:17, 11.09it/s]"
     ]
    },
    {
     "name": "stdout",
     "output_type": "stream",
     "text": [
      "Training_loss 2.93001,   Relative Error 0.64156\n",
      "Training_loss 2.92925,   Relative Error 0.64152\n",
      "Training_loss 2.93131,   Relative Error 0.64174\n"
     ]
    },
    {
     "name": "stderr",
     "output_type": "stream",
     "text": [
      "\r",
      " 90%|█████████ | 1807/2000 [02:58<00:18, 10.19it/s]"
     ]
    },
    {
     "name": "stdout",
     "output_type": "stream",
     "text": [
      "Training_loss 2.93039,   Relative Error 0.64164\n",
      "Training_loss 2.92725,   Relative Error 0.64124\n"
     ]
    },
    {
     "name": "stderr",
     "output_type": "stream",
     "text": [
      "\r",
      " 90%|█████████ | 1809/2000 [02:58<00:18, 10.30it/s]"
     ]
    },
    {
     "name": "stdout",
     "output_type": "stream",
     "text": [
      "Training_loss 2.93103,   Relative Error 0.64167\n",
      "Training_loss 2.93689,   Relative Error 0.64231\n",
      "Training_loss 2.93773,   Relative Error 0.64239\n"
     ]
    },
    {
     "name": "stderr",
     "output_type": "stream",
     "text": [
      " 91%|█████████ | 1813/2000 [02:59<00:18, 10.10it/s]"
     ]
    },
    {
     "name": "stdout",
     "output_type": "stream",
     "text": [
      "Training_loss 2.94414,   Relative Error 0.64305\n",
      "Training_loss 2.94934,   Relative Error 0.64360\n",
      "Training_loss 2.95556,   Relative Error 0.64427\n"
     ]
    },
    {
     "name": "stderr",
     "output_type": "stream",
     "text": [
      "\r",
      " 91%|█████████ | 1815/2000 [02:59<00:17, 10.58it/s]"
     ]
    },
    {
     "name": "stdout",
     "output_type": "stream",
     "text": [
      "Training_loss 2.95271,   Relative Error 0.64401\n",
      "Training_loss 2.95771,   Relative Error 0.64456\n",
      "Training_loss 2.95885,   Relative Error 0.64471\n"
     ]
    },
    {
     "name": "stderr",
     "output_type": "stream",
     "text": [
      " 91%|█████████ | 1819/2000 [02:59<00:17, 10.64it/s]"
     ]
    },
    {
     "name": "stdout",
     "output_type": "stream",
     "text": [
      "Training_loss 2.96133,   Relative Error 0.64498\n",
      "Training_loss 2.96527,   Relative Error 0.64541\n",
      "Training_loss 2.96619,   Relative Error 0.64547\n"
     ]
    },
    {
     "name": "stderr",
     "output_type": "stream",
     "text": [
      "\r",
      " 91%|█████████ | 1821/2000 [02:59<00:16, 10.77it/s]"
     ]
    },
    {
     "name": "stdout",
     "output_type": "stream",
     "text": [
      "Training_loss 2.96688,   Relative Error 0.64547\n",
      "Training_loss 2.96758,   Relative Error 0.64555\n",
      "Training_loss 2.96751,   Relative Error 0.64556\n"
     ]
    },
    {
     "name": "stderr",
     "output_type": "stream",
     "text": [
      " 91%|█████████▏| 1825/2000 [03:00<00:16, 10.86it/s]"
     ]
    },
    {
     "name": "stdout",
     "output_type": "stream",
     "text": [
      "Training_loss 2.96488,   Relative Error 0.64527\n",
      "Training_loss 2.97033,   Relative Error 0.64586\n",
      "Training_loss 2.97019,   Relative Error 0.64587\n"
     ]
    },
    {
     "name": "stderr",
     "output_type": "stream",
     "text": [
      "\r",
      " 91%|█████████▏| 1827/2000 [03:00<00:16, 10.75it/s]"
     ]
    },
    {
     "name": "stdout",
     "output_type": "stream",
     "text": [
      "Training_loss 2.97356,   Relative Error 0.64619\n",
      "Training_loss 2.97419,   Relative Error 0.64620\n",
      "Training_loss 2.97805,   Relative Error 0.64660\n"
     ]
    },
    {
     "name": "stderr",
     "output_type": "stream",
     "text": [
      "\r",
      " 91%|█████████▏| 1829/2000 [03:00<00:15, 11.02it/s]"
     ]
    },
    {
     "name": "stdout",
     "output_type": "stream",
     "text": [
      "Training_loss 2.98060,   Relative Error 0.64685\n",
      "Training_loss 2.97813,   Relative Error 0.64656\n"
     ]
    },
    {
     "name": "stderr",
     "output_type": "stream",
     "text": [
      " 92%|█████████▏| 1833/2000 [03:00<00:16, 10.42it/s]"
     ]
    },
    {
     "name": "stdout",
     "output_type": "stream",
     "text": [
      "Training_loss 2.97852,   Relative Error 0.64662\n",
      "Training_loss 2.98031,   Relative Error 0.64678\n",
      "Training_loss 2.98207,   Relative Error 0.64691\n"
     ]
    },
    {
     "name": "stderr",
     "output_type": "stream",
     "text": [
      "\r",
      " 92%|█████████▏| 1835/2000 [03:01<00:16,  9.86it/s]"
     ]
    },
    {
     "name": "stdout",
     "output_type": "stream",
     "text": [
      "Training_loss 2.98699,   Relative Error 0.64746\n",
      "Training_loss 2.98092,   Relative Error 0.64688\n"
     ]
    },
    {
     "name": "stderr",
     "output_type": "stream",
     "text": [
      " 92%|█████████▏| 1837/2000 [03:01<00:18,  8.76it/s]"
     ]
    },
    {
     "name": "stdout",
     "output_type": "stream",
     "text": [
      "Training_loss 2.98410,   Relative Error 0.64719\n",
      "Training_loss 2.98443,   Relative Error 0.64721\n"
     ]
    },
    {
     "name": "stderr",
     "output_type": "stream",
     "text": [
      " 92%|█████████▏| 1840/2000 [03:01<00:17,  8.97it/s]"
     ]
    },
    {
     "name": "stdout",
     "output_type": "stream",
     "text": [
      "Training_loss 2.98958,   Relative Error 0.64781\n",
      "Training_loss 2.99266,   Relative Error 0.64816\n",
      "Training_loss 2.99007,   Relative Error 0.64782\n"
     ]
    },
    {
     "name": "stderr",
     "output_type": "stream",
     "text": [
      " 92%|█████████▏| 1842/2000 [03:02<00:17,  9.05it/s]"
     ]
    },
    {
     "name": "stdout",
     "output_type": "stream",
     "text": [
      "Training_loss 2.98929,   Relative Error 0.64771\n",
      "Training_loss 2.98937,   Relative Error 0.64769\n"
     ]
    },
    {
     "name": "stderr",
     "output_type": "stream",
     "text": [
      " 92%|█████████▏| 1845/2000 [03:02<00:16,  9.67it/s]"
     ]
    },
    {
     "name": "stdout",
     "output_type": "stream",
     "text": [
      "Training_loss 2.98714,   Relative Error 0.64750\n",
      "Training_loss 2.99191,   Relative Error 0.64794\n",
      "Training_loss 2.98750,   Relative Error 0.64747\n"
     ]
    },
    {
     "name": "stderr",
     "output_type": "stream",
     "text": [
      " 92%|█████████▏| 1848/2000 [03:02<00:14, 10.35it/s]"
     ]
    },
    {
     "name": "stdout",
     "output_type": "stream",
     "text": [
      "Training_loss 2.99246,   Relative Error 0.64796\n",
      "Training_loss 2.99648,   Relative Error 0.64841\n",
      "Training_loss 3.00008,   Relative Error 0.64881\n"
     ]
    },
    {
     "name": "stderr",
     "output_type": "stream",
     "text": [
      "\r",
      " 92%|█████████▎| 1850/2000 [03:02<00:13, 11.09it/s]"
     ]
    },
    {
     "name": "stdout",
     "output_type": "stream",
     "text": [
      "Training_loss 3.00271,   Relative Error 0.64903\n",
      "Training_loss 3.00946,   Relative Error 0.64972\n"
     ]
    },
    {
     "name": "stderr",
     "output_type": "stream",
     "text": [
      "\r",
      " 93%|█████████▎| 1852/2000 [03:02<00:14, 10.10it/s]"
     ]
    },
    {
     "name": "stdout",
     "output_type": "stream",
     "text": [
      "Training_loss 3.01216,   Relative Error 0.64999\n",
      "Training_loss 3.01433,   Relative Error 0.65023\n",
      "Training_loss 3.01509,   Relative Error 0.65018\n"
     ]
    },
    {
     "name": "stderr",
     "output_type": "stream",
     "text": [
      " 93%|█████████▎| 1856/2000 [03:03<00:12, 11.62it/s]"
     ]
    },
    {
     "name": "stdout",
     "output_type": "stream",
     "text": [
      "Training_loss 3.02030,   Relative Error 0.65075\n",
      "Training_loss 3.02426,   Relative Error 0.65115\n",
      "Training_loss 3.03143,   Relative Error 0.65186\n"
     ]
    },
    {
     "name": "stderr",
     "output_type": "stream",
     "text": [
      "\r",
      " 93%|█████████▎| 1858/2000 [03:03<00:11, 12.22it/s]"
     ]
    },
    {
     "name": "stdout",
     "output_type": "stream",
     "text": [
      "Training_loss 3.03813,   Relative Error 0.65255\n",
      "Training_loss 3.04041,   Relative Error 0.65282\n",
      "Training_loss 3.03800,   Relative Error 0.65258\n"
     ]
    },
    {
     "name": "stderr",
     "output_type": "stream",
     "text": [
      " 93%|█████████▎| 1862/2000 [03:03<00:10, 12.76it/s]"
     ]
    },
    {
     "name": "stdout",
     "output_type": "stream",
     "text": [
      "Training_loss 3.03457,   Relative Error 0.65226\n",
      "Training_loss 3.04086,   Relative Error 0.65291\n",
      "Training_loss 3.04517,   Relative Error 0.65336\n"
     ]
    },
    {
     "name": "stderr",
     "output_type": "stream",
     "text": [
      "\r",
      " 93%|█████████▎| 1864/2000 [03:03<00:10, 12.87it/s]"
     ]
    },
    {
     "name": "stdout",
     "output_type": "stream",
     "text": [
      "Training_loss 3.05465,   Relative Error 0.65431\n",
      "Training_loss 3.05437,   Relative Error 0.65422\n",
      "Training_loss 3.05419,   Relative Error 0.65425\n"
     ]
    },
    {
     "name": "stderr",
     "output_type": "stream",
     "text": [
      " 93%|█████████▎| 1868/2000 [03:04<00:11, 11.85it/s]"
     ]
    },
    {
     "name": "stdout",
     "output_type": "stream",
     "text": [
      "Training_loss 3.05336,   Relative Error 0.65417\n",
      "Training_loss 3.05596,   Relative Error 0.65447\n",
      "Training_loss 3.05156,   Relative Error 0.65393\n"
     ]
    },
    {
     "name": "stderr",
     "output_type": "stream",
     "text": [
      "\r",
      " 94%|█████████▎| 1870/2000 [03:04<00:11, 11.30it/s]"
     ]
    },
    {
     "name": "stdout",
     "output_type": "stream",
     "text": [
      "Training_loss 3.05923,   Relative Error 0.65472\n",
      "Training_loss 3.06424,   Relative Error 0.65528\n",
      "Training_loss 3.06647,   Relative Error 0.65549\n"
     ]
    },
    {
     "name": "stderr",
     "output_type": "stream",
     "text": [
      " 94%|█████████▎| 1874/2000 [03:04<00:11, 10.96it/s]"
     ]
    },
    {
     "name": "stdout",
     "output_type": "stream",
     "text": [
      "Training_loss 3.07193,   Relative Error 0.65607\n",
      "Training_loss 3.07132,   Relative Error 0.65602\n",
      "Training_loss 3.07223,   Relative Error 0.65610\n"
     ]
    },
    {
     "name": "stderr",
     "output_type": "stream",
     "text": [
      "\r",
      " 94%|█████████▍| 1876/2000 [03:05<00:13,  9.39it/s]"
     ]
    },
    {
     "name": "stdout",
     "output_type": "stream",
     "text": [
      "Training_loss 3.07449,   Relative Error 0.65635\n",
      "Training_loss 3.06949,   Relative Error 0.65588\n",
      "Training_loss 3.07437,   Relative Error 0.65639\n"
     ]
    },
    {
     "name": "stderr",
     "output_type": "stream",
     "text": [
      " 94%|█████████▍| 1880/2000 [03:05<00:11, 10.35it/s]"
     ]
    },
    {
     "name": "stdout",
     "output_type": "stream",
     "text": [
      "Training_loss 3.08070,   Relative Error 0.65704\n",
      "Training_loss 3.08586,   Relative Error 0.65760\n",
      "Training_loss 3.08360,   Relative Error 0.65734\n"
     ]
    },
    {
     "name": "stderr",
     "output_type": "stream",
     "text": [
      "\r",
      " 94%|█████████▍| 1882/2000 [03:05<00:11, 10.07it/s]"
     ]
    },
    {
     "name": "stdout",
     "output_type": "stream",
     "text": [
      "Training_loss 3.09014,   Relative Error 0.65795\n",
      "Training_loss 3.09480,   Relative Error 0.65845\n",
      "Training_loss 3.10095,   Relative Error 0.65912\n"
     ]
    },
    {
     "name": "stderr",
     "output_type": "stream",
     "text": [
      "\r",
      " 94%|█████████▍| 1884/2000 [03:05<00:10, 10.57it/s]"
     ]
    },
    {
     "name": "stdout",
     "output_type": "stream",
     "text": [
      "Training_loss 3.10328,   Relative Error 0.65933\n",
      "Training_loss 3.10769,   Relative Error 0.65977\n"
     ]
    },
    {
     "name": "stderr",
     "output_type": "stream",
     "text": [
      "\r",
      " 94%|█████████▍| 1886/2000 [03:06<00:11,  9.97it/s]"
     ]
    },
    {
     "name": "stdout",
     "output_type": "stream",
     "text": [
      "Training_loss 3.10814,   Relative Error 0.65980\n",
      "Training_loss 3.10432,   Relative Error 0.65944\n"
     ]
    },
    {
     "name": "stderr",
     "output_type": "stream",
     "text": [
      " 94%|█████████▍| 1890/2000 [03:06<00:11,  9.68it/s]"
     ]
    },
    {
     "name": "stdout",
     "output_type": "stream",
     "text": [
      "Training_loss 3.10416,   Relative Error 0.65934\n",
      "Training_loss 3.10517,   Relative Error 0.65942\n",
      "Training_loss 3.10226,   Relative Error 0.65917\n"
     ]
    },
    {
     "name": "stderr",
     "output_type": "stream",
     "text": [
      "\r",
      " 95%|█████████▍| 1892/2000 [03:06<00:10, 10.00it/s]"
     ]
    },
    {
     "name": "stdout",
     "output_type": "stream",
     "text": [
      "Training_loss 3.11027,   Relative Error 0.66000\n",
      "Training_loss 3.10822,   Relative Error 0.65982\n",
      "Training_loss 3.11085,   Relative Error 0.66009\n"
     ]
    },
    {
     "name": "stderr",
     "output_type": "stream",
     "text": [
      " 95%|█████████▍| 1896/2000 [03:07<00:10, 10.22it/s]"
     ]
    },
    {
     "name": "stdout",
     "output_type": "stream",
     "text": [
      "Training_loss 3.11598,   Relative Error 0.66064\n",
      "Training_loss 3.11394,   Relative Error 0.66049\n",
      "Training_loss 3.11687,   Relative Error 0.66082\n"
     ]
    },
    {
     "name": "stderr",
     "output_type": "stream",
     "text": [
      "\r",
      " 95%|█████████▍| 1898/2000 [03:07<00:10, 10.06it/s]"
     ]
    },
    {
     "name": "stdout",
     "output_type": "stream",
     "text": [
      "Training_loss 3.12358,   Relative Error 0.66149\n",
      "Training_loss 3.11818,   Relative Error 0.66086\n",
      "Training_loss 3.11469,   Relative Error 0.66049\n"
     ]
    },
    {
     "name": "stderr",
     "output_type": "stream",
     "text": [
      " 95%|█████████▌| 1902/2000 [03:07<00:09, 10.52it/s]"
     ]
    },
    {
     "name": "stdout",
     "output_type": "stream",
     "text": [
      "Training_loss 3.11645,   Relative Error 0.66065\n",
      "Training_loss 3.12207,   Relative Error 0.66125\n",
      "Training_loss 3.12324,   Relative Error 0.66137\n"
     ]
    },
    {
     "name": "stderr",
     "output_type": "stream",
     "text": [
      "\r",
      " 95%|█████████▌| 1904/2000 [03:07<00:09, 10.42it/s]"
     ]
    },
    {
     "name": "stdout",
     "output_type": "stream",
     "text": [
      "Training_loss 3.11648,   Relative Error 0.66072\n",
      "Training_loss 3.11882,   Relative Error 0.66095\n",
      "Training_loss 3.12222,   Relative Error 0.66135\n"
     ]
    },
    {
     "name": "stderr",
     "output_type": "stream",
     "text": [
      " 95%|█████████▌| 1908/2000 [03:08<00:08, 10.53it/s]"
     ]
    },
    {
     "name": "stdout",
     "output_type": "stream",
     "text": [
      "Training_loss 3.12034,   Relative Error 0.66115\n",
      "Training_loss 3.12629,   Relative Error 0.66178\n",
      "Training_loss 3.13365,   Relative Error 0.66251\n"
     ]
    },
    {
     "name": "stderr",
     "output_type": "stream",
     "text": [
      "\r",
      " 96%|█████████▌| 1910/2000 [03:08<00:08, 10.85it/s]"
     ]
    },
    {
     "name": "stdout",
     "output_type": "stream",
     "text": [
      "Training_loss 3.13992,   Relative Error 0.66312\n",
      "Training_loss 3.14151,   Relative Error 0.66329\n",
      "Training_loss 3.14428,   Relative Error 0.66359\n"
     ]
    },
    {
     "name": "stderr",
     "output_type": "stream",
     "text": [
      " 96%|█████████▌| 1914/2000 [03:08<00:07, 11.57it/s]"
     ]
    },
    {
     "name": "stdout",
     "output_type": "stream",
     "text": [
      "Training_loss 3.14923,   Relative Error 0.66413\n",
      "Training_loss 3.15256,   Relative Error 0.66447\n",
      "Training_loss 3.15309,   Relative Error 0.66446\n"
     ]
    },
    {
     "name": "stderr",
     "output_type": "stream",
     "text": [
      "\r",
      " 96%|█████████▌| 1916/2000 [03:08<00:07, 11.86it/s]"
     ]
    },
    {
     "name": "stdout",
     "output_type": "stream",
     "text": [
      "Training_loss 3.15386,   Relative Error 0.66453\n",
      "Training_loss 3.14907,   Relative Error 0.66409\n"
     ]
    },
    {
     "name": "stderr",
     "output_type": "stream",
     "text": [
      "\r",
      " 96%|█████████▌| 1918/2000 [03:09<00:07, 10.49it/s]"
     ]
    },
    {
     "name": "stdout",
     "output_type": "stream",
     "text": [
      "Training_loss 3.14969,   Relative Error 0.66412\n",
      "Training_loss 3.14653,   Relative Error 0.66380\n",
      "Training_loss 3.14450,   Relative Error 0.66363\n"
     ]
    },
    {
     "name": "stderr",
     "output_type": "stream",
     "text": [
      " 96%|█████████▌| 1922/2000 [03:09<00:07, 11.06it/s]"
     ]
    },
    {
     "name": "stdout",
     "output_type": "stream",
     "text": [
      "Training_loss 3.14620,   Relative Error 0.66381\n",
      "Training_loss 3.14670,   Relative Error 0.66383\n",
      "Training_loss 3.14814,   Relative Error 0.66396\n"
     ]
    },
    {
     "name": "stderr",
     "output_type": "stream",
     "text": [
      "\r",
      " 96%|█████████▌| 1924/2000 [03:09<00:06, 11.34it/s]"
     ]
    },
    {
     "name": "stdout",
     "output_type": "stream",
     "text": [
      "Training_loss 3.15259,   Relative Error 0.66444\n",
      "Training_loss 3.15679,   Relative Error 0.66486\n",
      "Training_loss 3.15177,   Relative Error 0.66432\n"
     ]
    },
    {
     "name": "stderr",
     "output_type": "stream",
     "text": [
      " 96%|█████████▋| 1928/2000 [03:09<00:06, 11.34it/s]"
     ]
    },
    {
     "name": "stdout",
     "output_type": "stream",
     "text": [
      "Training_loss 3.15302,   Relative Error 0.66446\n",
      "Training_loss 3.15866,   Relative Error 0.66501\n",
      "Training_loss 3.16370,   Relative Error 0.66558\n"
     ]
    },
    {
     "name": "stderr",
     "output_type": "stream",
     "text": [
      "\r",
      " 96%|█████████▋| 1930/2000 [03:10<00:06, 10.11it/s]"
     ]
    },
    {
     "name": "stdout",
     "output_type": "stream",
     "text": [
      "Training_loss 3.16140,   Relative Error 0.66533\n",
      "Training_loss 3.15537,   Relative Error 0.66474\n"
     ]
    },
    {
     "name": "stderr",
     "output_type": "stream",
     "text": [
      "\r",
      " 97%|█████████▋| 1932/2000 [03:10<00:06,  9.92it/s]"
     ]
    },
    {
     "name": "stdout",
     "output_type": "stream",
     "text": [
      "Training_loss 3.16122,   Relative Error 0.66536\n",
      "Training_loss 3.15963,   Relative Error 0.66512\n",
      "Training_loss 3.16662,   Relative Error 0.66583\n"
     ]
    },
    {
     "name": "stderr",
     "output_type": "stream",
     "text": [
      " 97%|█████████▋| 1936/2000 [03:10<00:06, 10.62it/s]"
     ]
    },
    {
     "name": "stdout",
     "output_type": "stream",
     "text": [
      "Training_loss 3.16303,   Relative Error 0.66548\n",
      "Training_loss 3.16291,   Relative Error 0.66545\n",
      "Training_loss 3.16302,   Relative Error 0.66542\n"
     ]
    },
    {
     "name": "stderr",
     "output_type": "stream",
     "text": [
      "\r",
      " 97%|█████████▋| 1938/2000 [03:10<00:05, 10.93it/s]"
     ]
    },
    {
     "name": "stdout",
     "output_type": "stream",
     "text": [
      "Training_loss 3.16719,   Relative Error 0.66578\n",
      "Training_loss 3.17560,   Relative Error 0.66667\n",
      "Training_loss 3.17044,   Relative Error 0.66621\n"
     ]
    },
    {
     "name": "stderr",
     "output_type": "stream",
     "text": [
      " 97%|█████████▋| 1942/2000 [03:11<00:05, 10.77it/s]"
     ]
    },
    {
     "name": "stdout",
     "output_type": "stream",
     "text": [
      "Training_loss 3.17337,   Relative Error 0.66648\n",
      "Training_loss 3.17339,   Relative Error 0.66649\n",
      "Training_loss 3.17822,   Relative Error 0.66696\n"
     ]
    },
    {
     "name": "stderr",
     "output_type": "stream",
     "text": [
      "\r",
      " 97%|█████████▋| 1944/2000 [03:11<00:05, 10.73it/s]"
     ]
    },
    {
     "name": "stdout",
     "output_type": "stream",
     "text": [
      "Training_loss 3.17740,   Relative Error 0.66684\n",
      "Training_loss 3.18506,   Relative Error 0.66760\n",
      "Training_loss 3.18950,   Relative Error 0.66806\n"
     ]
    },
    {
     "name": "stderr",
     "output_type": "stream",
     "text": [
      " 97%|█████████▋| 1948/2000 [03:11<00:05,  9.93it/s]"
     ]
    },
    {
     "name": "stdout",
     "output_type": "stream",
     "text": [
      "Training_loss 3.18165,   Relative Error 0.66723\n",
      "Training_loss 3.18529,   Relative Error 0.66759\n",
      "Training_loss 3.19026,   Relative Error 0.66809\n"
     ]
    },
    {
     "name": "stderr",
     "output_type": "stream",
     "text": [
      "\r",
      " 98%|█████████▊| 1950/2000 [03:12<00:04, 10.29it/s]"
     ]
    },
    {
     "name": "stdout",
     "output_type": "stream",
     "text": [
      "Training_loss 3.19277,   Relative Error 0.66837\n",
      "Training_loss 3.20044,   Relative Error 0.66915\n",
      "Training_loss 3.19894,   Relative Error 0.66892\n"
     ]
    },
    {
     "name": "stderr",
     "output_type": "stream",
     "text": [
      " 98%|█████████▊| 1954/2000 [03:12<00:04, 10.35it/s]"
     ]
    },
    {
     "name": "stdout",
     "output_type": "stream",
     "text": [
      "Training_loss 3.19918,   Relative Error 0.66890\n",
      "Training_loss 3.20340,   Relative Error 0.66930\n",
      "Training_loss 3.20956,   Relative Error 0.66992\n"
     ]
    },
    {
     "name": "stderr",
     "output_type": "stream",
     "text": [
      "\r",
      " 98%|█████████▊| 1956/2000 [03:12<00:04, 10.37it/s]"
     ]
    },
    {
     "name": "stdout",
     "output_type": "stream",
     "text": [
      "Training_loss 3.20951,   Relative Error 0.66988\n",
      "Training_loss 3.21182,   Relative Error 0.67013\n",
      "Training_loss 3.21684,   Relative Error 0.67066\n"
     ]
    },
    {
     "name": "stderr",
     "output_type": "stream",
     "text": [
      " 98%|█████████▊| 1960/2000 [03:13<00:03, 10.27it/s]"
     ]
    },
    {
     "name": "stdout",
     "output_type": "stream",
     "text": [
      "Training_loss 3.21932,   Relative Error 0.67089\n",
      "Training_loss 3.22514,   Relative Error 0.67147\n",
      "Training_loss 3.22632,   Relative Error 0.67152\n"
     ]
    },
    {
     "name": "stderr",
     "output_type": "stream",
     "text": [
      "\r",
      " 98%|█████████▊| 1962/2000 [03:13<00:03,  9.88it/s]"
     ]
    },
    {
     "name": "stdout",
     "output_type": "stream",
     "text": [
      "Training_loss 3.22315,   Relative Error 0.67119\n",
      "Training_loss 3.22756,   Relative Error 0.67160\n",
      "Training_loss 3.22091,   Relative Error 0.67097\n"
     ]
    },
    {
     "name": "stderr",
     "output_type": "stream",
     "text": [
      " 98%|█████████▊| 1965/2000 [03:13<00:03,  9.76it/s]"
     ]
    },
    {
     "name": "stdout",
     "output_type": "stream",
     "text": [
      "Training_loss 3.22558,   Relative Error 0.67143\n",
      "Training_loss 3.21909,   Relative Error 0.67079\n"
     ]
    },
    {
     "name": "stderr",
     "output_type": "stream",
     "text": [
      " 98%|█████████▊| 1968/2000 [03:13<00:03, 10.26it/s]"
     ]
    },
    {
     "name": "stdout",
     "output_type": "stream",
     "text": [
      "Training_loss 3.21574,   Relative Error 0.67044\n",
      "Training_loss 3.21942,   Relative Error 0.67080\n",
      "Training_loss 3.22479,   Relative Error 0.67131\n"
     ]
    },
    {
     "name": "stderr",
     "output_type": "stream",
     "text": [
      "\r",
      " 98%|█████████▊| 1970/2000 [03:14<00:02, 10.41it/s]"
     ]
    },
    {
     "name": "stdout",
     "output_type": "stream",
     "text": [
      "Training_loss 3.22977,   Relative Error 0.67178\n",
      "Training_loss 3.23514,   Relative Error 0.67234\n",
      "Training_loss 3.23473,   Relative Error 0.67230\n"
     ]
    },
    {
     "name": "stderr",
     "output_type": "stream",
     "text": [
      " 99%|█████████▊| 1974/2000 [03:14<00:02, 11.06it/s]"
     ]
    },
    {
     "name": "stdout",
     "output_type": "stream",
     "text": [
      "Training_loss 3.23959,   Relative Error 0.67278\n",
      "Training_loss 3.24480,   Relative Error 0.67332\n",
      "Training_loss 3.24750,   Relative Error 0.67358\n"
     ]
    },
    {
     "name": "stderr",
     "output_type": "stream",
     "text": [
      "\r",
      " 99%|█████████▉| 1976/2000 [03:14<00:02, 10.53it/s]"
     ]
    },
    {
     "name": "stdout",
     "output_type": "stream",
     "text": [
      "Training_loss 3.24563,   Relative Error 0.67343\n",
      "Training_loss 3.24547,   Relative Error 0.67336\n"
     ]
    },
    {
     "name": "stderr",
     "output_type": "stream",
     "text": [
      "\r",
      " 99%|█████████▉| 1978/2000 [03:14<00:02, 10.06it/s]"
     ]
    },
    {
     "name": "stdout",
     "output_type": "stream",
     "text": [
      "Training_loss 3.24413,   Relative Error 0.67320\n",
      "Training_loss 3.24983,   Relative Error 0.67376\n",
      "Training_loss 3.25386,   Relative Error 0.67418\n"
     ]
    },
    {
     "name": "stderr",
     "output_type": "stream",
     "text": [
      " 99%|█████████▉| 1982/2000 [03:15<00:01, 10.27it/s]"
     ]
    },
    {
     "name": "stdout",
     "output_type": "stream",
     "text": [
      "Training_loss 3.25833,   Relative Error 0.67461\n",
      "Training_loss 3.25460,   Relative Error 0.67423\n",
      "Training_loss 3.25829,   Relative Error 0.67455\n"
     ]
    },
    {
     "name": "stderr",
     "output_type": "stream",
     "text": [
      "\r",
      " 99%|█████████▉| 1984/2000 [03:15<00:01, 10.16it/s]"
     ]
    },
    {
     "name": "stdout",
     "output_type": "stream",
     "text": [
      "Training_loss 3.25943,   Relative Error 0.67470\n",
      "Training_loss 3.26351,   Relative Error 0.67511\n",
      "Training_loss 3.26348,   Relative Error 0.67514\n"
     ]
    },
    {
     "name": "stderr",
     "output_type": "stream",
     "text": [
      " 99%|█████████▉| 1988/2000 [03:15<00:01, 10.64it/s]"
     ]
    },
    {
     "name": "stdout",
     "output_type": "stream",
     "text": [
      "Training_loss 3.25995,   Relative Error 0.67482\n",
      "Training_loss 3.26414,   Relative Error 0.67530\n",
      "Training_loss 3.26241,   Relative Error 0.67512\n"
     ]
    },
    {
     "name": "stderr",
     "output_type": "stream",
     "text": [
      "\r",
      "100%|█████████▉| 1990/2000 [03:15<00:00, 10.95it/s]"
     ]
    },
    {
     "name": "stdout",
     "output_type": "stream",
     "text": [
      "Training_loss 3.26933,   Relative Error 0.67577\n",
      "Training_loss 3.27491,   Relative Error 0.67638\n",
      "Training_loss 3.27516,   Relative Error 0.67648\n"
     ]
    },
    {
     "name": "stderr",
     "output_type": "stream",
     "text": [
      "100%|█████████▉| 1994/2000 [03:16<00:00, 11.42it/s]"
     ]
    },
    {
     "name": "stdout",
     "output_type": "stream",
     "text": [
      "Training_loss 3.27599,   Relative Error 0.67656\n",
      "Training_loss 3.27260,   Relative Error 0.67619\n",
      "Training_loss 3.27112,   Relative Error 0.67605\n"
     ]
    },
    {
     "name": "stderr",
     "output_type": "stream",
     "text": [
      "\r",
      "100%|█████████▉| 1996/2000 [03:16<00:00, 11.59it/s]"
     ]
    },
    {
     "name": "stdout",
     "output_type": "stream",
     "text": [
      "Training_loss 3.27186,   Relative Error 0.67608\n",
      "Training_loss 3.27775,   Relative Error 0.67664\n",
      "Training_loss 3.27921,   Relative Error 0.67673\n"
     ]
    },
    {
     "name": "stderr",
     "output_type": "stream",
     "text": [
      "100%|██████████| 2000/2000 [03:16<00:00, 11.03it/s]"
     ]
    },
    {
     "name": "stdout",
     "output_type": "stream",
     "text": [
      "Training_loss 3.28108,   Relative Error 0.67689\n",
      "Training_loss 3.28706,   Relative Error 0.67744\n",
      "Training_loss 3.29104,   Relative Error 0.67780\n"
     ]
    },
    {
     "name": "stderr",
     "output_type": "stream",
     "text": [
      "100%|██████████| 2000/2000 [03:16<00:00, 10.16it/s]\n"
     ]
    }
   ],
   "source": [
    "#global_model = CNN_Net().cuda()\n",
    "models = [MLP_Net(user_id=i) for i in range(no_users)]\n",
    "dummy_models = [MLP_Net(user_id=i) for i in range(no_users)]\n",
    "\n",
    "#model.load_state_dict(global_model.state_dict())\n",
    "\n",
    "criterion = nn.MSELoss()\n",
    "\n",
    "\n",
    "train_loss = []\n",
    "test_loss = []\n",
    "test_accuracy = []\n",
    "total_rel_error = []\n",
    "\n",
    "for curr_round in tqdm(range(1, it+1)):\n",
    "    w, local_loss = [], []\n",
    "\n",
    "    \n",
    "    for i in range(no_users):\n",
    "        dummy_models[i].load_state_dict(models[i].state_dict())\n",
    "        local_update = ClientUpdate(dataset=datapoints[i], batchSize=batch_size, alpha=alpha, lamda=lamda, epochs=1, projection_list=projection_list, projected_weights=projected_weights)\n",
    "        weights, loss = local_update.train(dummy_models[i])\n",
    "        w.append(weights)\n",
    "        local_loss.append(loss)\n",
    "        models[i].load_state_dict(w[i])\n",
    "        \n",
    "    \n",
    "    \n",
    "    # Update prjection matrix\n",
    "    \n",
    "    #print(projection_list[0], projected_weights[0])\n",
    "    \n",
    "    for i in range(no_users):\n",
    "        weights = parameters_to_vector(models[i].parameters())\n",
    "        for j in G.neighbors(i):\n",
    "            mat_vec_sum = torch.zeros_like(weights)\n",
    "            for k in G.neighbors(i):\n",
    "                mat_vec_sum = torch.add(mat_vec_sum, projected_weights[k][i] - projected_weights[i][k])\n",
    "            #print(torch.outer(mat_vec_sum, weights))\n",
    "\n",
    "            projection_list[i][j] = torch.add(projection_list[i][j], -1 * eta * lamda * mat_vec_sum)\n",
    "                                         \n",
    "    projected_weights = []                                          \n",
    "    update_ProjWeight(projection_list, projected_weights, first_run=False)\n",
    "        \n",
    "        \n",
    "        \n",
    "    \n",
    "    \n",
    "\n",
    "\n",
    "\n",
    "\n",
    "          \n",
    "            \n",
    "\n",
    "    local_test_acc = []\n",
    "    local_test_loss = []\n",
    "    user_rel_error = 0\n",
    "    for k in range(no_users):\n",
    "      \n",
    "        g_loss = testing(models[i], datapoints[i], 50, criterion)\n",
    "        local_test_loss.append(g_loss)\n",
    "        user_rel_error += rel_error(models[i])\n",
    "    \n",
    "    \n",
    "        \n",
    "\n",
    "    g_loss = sum(local_test_loss) / len(local_test_loss)\n",
    "    total_rel_error.append(user_rel_error / no_users)\n",
    "    \n",
    "    \n",
    "\n",
    "    test_loss.append(g_loss)\n",
    "    #test_accuracy.append(g_accuracy)\n",
    "    print(\"Training_loss %2.5f,   Relative Error %2.5f\"% (test_loss[-1], total_rel_error[-1]))"
   ]
  },
  {
   "cell_type": "code",
   "execution_count": 21,
   "id": "2ff0ff71",
   "metadata": {},
   "outputs": [
    {
     "data": {
      "text/plain": [
       "tensor([-0.4318,  0.8972], grad_fn=<CatBackward0>)"
      ]
     },
     "execution_count": 21,
     "metadata": {},
     "output_type": "execute_result"
    }
   ],
   "source": [
    "#plot.plot(test_loss)\n",
    "parameters_to_vector(models[19].parameters())"
   ]
  },
  {
   "cell_type": "code",
   "execution_count": 22,
   "id": "194e9ea4",
   "metadata": {},
   "outputs": [
    {
     "name": "stdout",
     "output_type": "stream",
     "text": [
      "1\n",
      "2\n",
      "3\n",
      "4\n",
      "5\n",
      "6\n",
      "8\n",
      "9\n"
     ]
    }
   ],
   "source": [
    "for j in G.neighbors(0):\n",
    "    print(j)"
   ]
  },
  {
   "cell_type": "code",
   "execution_count": 23,
   "id": "bbcca8ca",
   "metadata": {},
   "outputs": [
    {
     "data": {
      "text/plain": [
       "tensor([1.6000, 1.6499], grad_fn=<CatBackward0>)"
      ]
     },
     "execution_count": 23,
     "metadata": {},
     "output_type": "execute_result"
    }
   ],
   "source": [
    "parameters_to_vector(models[0].parameters())"
   ]
  },
  {
   "cell_type": "code",
   "execution_count": 24,
   "id": "bf702d86",
   "metadata": {},
   "outputs": [
    {
     "data": {
      "text/plain": [
       "[0,\n",
       " tensor([[1.6759, 0.0216],\n",
       "         [0.0324, 1.6650]]),\n",
       " tensor([[-0.6451,  0.0216],\n",
       "         [ 0.0324, -0.6560]]),\n",
       " tensor([[0.2735, 0.0216],\n",
       "         [0.0324, 0.2627]]),\n",
       " tensor([[1.8554, 0.0216],\n",
       "         [0.0324, 1.8446]]),\n",
       " tensor([[1.4208, 0.0216],\n",
       "         [0.0324, 1.4100]]),\n",
       " tensor([[1.8028, 0.0216],\n",
       "         [0.0324, 1.7919]]),\n",
       " 0,\n",
       " tensor([[-0.1485,  0.0216],\n",
       "         [ 0.0324, -0.1593]]),\n",
       " tensor([[0.6351, 0.0216],\n",
       "         [0.0324, 0.6243]]),\n",
       " 0,\n",
       " 0,\n",
       " 0,\n",
       " 0,\n",
       " 0,\n",
       " 0,\n",
       " 0,\n",
       " 0,\n",
       " 0,\n",
       " 0]"
      ]
     },
     "execution_count": 24,
     "metadata": {},
     "output_type": "execute_result"
    }
   ],
   "source": [
    "projection_list[0]"
   ]
  },
  {
   "cell_type": "code",
   "execution_count": 25,
   "id": "a73e6699",
   "metadata": {},
   "outputs": [
    {
     "data": {
      "text/plain": [
       "[0,\n",
       " tensor([0.7034, 0.7067]),\n",
       " tensor([1.2669, 1.3014]),\n",
       " tensor([2.4557, 2.4774]),\n",
       " tensor([1.9456, 1.9814]),\n",
       " tensor([1.9136, 1.9484]),\n",
       " tensor([2.9050, 2.9510]),\n",
       " 0,\n",
       " tensor([-0.7182, -0.7182]),\n",
       " tensor([0.6922, 0.7336]),\n",
       " 0,\n",
       " 0,\n",
       " 0,\n",
       " 0,\n",
       " 0,\n",
       " 0,\n",
       " 0,\n",
       " 0,\n",
       " 0,\n",
       " 0]"
      ]
     },
     "execution_count": 25,
     "metadata": {},
     "output_type": "execute_result"
    }
   ],
   "source": [
    "projected_weights[0]"
   ]
  },
  {
   "cell_type": "code",
   "execution_count": 26,
   "id": "2561d143",
   "metadata": {},
   "outputs": [],
   "source": [
    "test_loss = np.array(test_loss)\n",
    "total_rel_error = np.array(total_rel_error)"
   ]
  },
  {
   "cell_type": "code",
   "execution_count": 27,
   "id": "c36b1bc2",
   "metadata": {},
   "outputs": [
    {
     "name": "stdout",
     "output_type": "stream",
     "text": [
      "[8.87525535 8.84789896 8.80522132 ... 3.28108424 3.28705674 3.29104424]\n"
     ]
    }
   ],
   "source": [
    "print(test_loss)"
   ]
  },
  {
   "cell_type": "code",
   "execution_count": 28,
   "id": "d61db64c",
   "metadata": {},
   "outputs": [],
   "source": [
    "np.save( 'training_loss_sheave_fml' + str(lamda).replace('.', '_'), test_loss)\n",
    "np.save('relative_error_sheave_fml' + str(lamda).replace('.', '_'), total_rel_error)"
   ]
  },
  {
   "cell_type": "code",
   "execution_count": null,
   "id": "725be3f4",
   "metadata": {},
   "outputs": [],
   "source": []
  }
 ],
 "metadata": {
  "kernelspec": {
   "display_name": "Python 3",
   "language": "python",
   "name": "python3"
  },
  "language_info": {
   "codemirror_mode": {
    "name": "ipython",
    "version": 3
   },
   "file_extension": ".py",
   "mimetype": "text/x-python",
   "name": "python",
   "nbconvert_exporter": "python",
   "pygments_lexer": "ipython3",
   "version": "3.8.8"
  }
 },
 "nbformat": 4,
 "nbformat_minor": 5
}
