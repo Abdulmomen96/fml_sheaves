{
 "cells": [
  {
   "cell_type": "code",
   "execution_count": 1,
   "id": "74d5d395",
   "metadata": {},
   "outputs": [],
   "source": [
    "import torch\n",
    "import torch.nn as nn\n",
    "import torch.nn.functional as F\n",
    "import torch.optim as optim\n",
    "from torchvision import datasets, transforms\n",
    "from torch.utils.data import DataLoader, Dataset\n",
    "import copy\n",
    "import numpy as np\n",
    "\n",
    "from matplotlib import pyplot as plt\n",
    "from tqdm import tqdm\n",
    "import networkx as nx\n",
    "from torch.nn.utils import parameters_to_vector, vector_to_parameters\n",
    "import pandas as pd\n",
    "from sklearn.preprocessing import MinMaxScaler\n",
    "from sklearn.preprocessing import LabelEncoder\n",
    "from sklearn.model_selection import train_test_split\n"
   ]
  },
  {
   "cell_type": "code",
   "execution_count": 2,
   "id": "7617ffd7",
   "metadata": {},
   "outputs": [],
   "source": [
    "def generate_connected_graph(cluster_sizes=[100, 100], pin=0.5, pout=0.01, seed=0):\n",
    "    \"\"\"Generate a random connected graph\"\"\"\n",
    "    probabilities = np.array([[pin, pout], [pout, pin]])\n",
    "    while True:\n",
    "        graph = nx.stochastic_block_model(cluster_sizes, probabilities)\n",
    "        if nx.algorithms.components.is_connected(graph):\n",
    "            return graph\n",
    "\n",
    "def visualize_graph(graph):\n",
    "    nx.draw(graph, with_labels=True, node_size=100, alpha=1, linewidths=10)\n",
    "    plt.show()\n",
    "\n",
    "# Parameters\n",
    "cluster_sizes = [10, 10]\n",
    "pin = 0.5\n",
    "pout = 0.2\n",
    "seed = 0\n",
    "alpha = 1e-2\n",
    "lamda = 1e-3\n",
    "eta = 1e-3\n",
    "no_users = 20#sum(cluster_sizes)\n",
    "batch_size = 64\n",
    "epochs = 1\n",
    "embedding_dimension = 3372\n",
    "iterations = 2000\n",
    "\n",
    "# Generate a binomial graph with 20 nodes and probability of edge creation p=0.2\n",
    "G = nx.binomial_graph(n=no_users, p=0.3, seed=0)#generate_connected_graph(cluster_sizes=cluster_sizes, pin=0.5, pout=0.01, seed=0)\n",
    "#nx.binomial_graph(n=no_users, p=0.1, seed=0)\n",
    "#visualize_graph(graph)"
   ]
  },
  {
   "cell_type": "code",
   "execution_count": 3,
   "id": "809e7c6f",
   "metadata": {},
   "outputs": [
    {
     "name": "stdout",
     "output_type": "stream",
     "text": [
      "[[0.         0.         0.         0.         0.         0.\n",
      "  0.         0.1        0.         0.         0.         0.\n",
      "  0.         0.         0.25       0.         0.         0.1\n",
      "  0.         0.        ]\n",
      " [0.         0.         0.         0.         0.         0.1\n",
      "  0.         0.         0.11111111 0.         0.         0.16666667\n",
      "  0.         0.14285714 0.         0.         0.         0.1\n",
      "  0.         0.        ]\n",
      " [0.         0.         0.         0.         0.         0.1\n",
      "  0.         0.         0.         0.         0.         0.\n",
      "  0.         0.         0.         0.         0.         0.\n",
      "  0.14285714 0.        ]\n",
      " [0.         0.         0.         0.         0.2        0.1\n",
      "  0.         0.         0.         0.14285714 0.         0.\n",
      "  0.         0.         0.         0.         0.         0.\n",
      "  0.         0.2       ]\n",
      " [0.         0.         0.         0.2        0.         0.1\n",
      "  0.         0.         0.         0.         0.         0.\n",
      "  0.         0.         0.         0.         0.         0.1\n",
      "  0.         0.        ]\n",
      " [0.         0.1        0.1        0.1        0.1        0.\n",
      "  0.         0.         0.         0.1        0.         0.1\n",
      "  0.1        0.         0.         0.         0.1        0.1\n",
      "  0.         0.        ]\n",
      " [0.         0.         0.         0.         0.         0.\n",
      "  0.         0.1        0.         0.         0.         0.\n",
      "  0.11111111 0.         0.         0.         0.         0.\n",
      "  0.         0.        ]\n",
      " [0.1        0.         0.         0.         0.         0.\n",
      "  0.1        0.         0.1        0.1        0.         0.1\n",
      "  0.1        0.1        0.         0.         0.1        0.\n",
      "  0.1        0.        ]\n",
      " [0.         0.11111111 0.         0.         0.         0.\n",
      "  0.         0.1        0.         0.11111111 0.11111111 0.\n",
      "  0.         0.11111111 0.         0.11111111 0.11111111 0.\n",
      "  0.11111111 0.        ]\n",
      " [0.         0.         0.         0.14285714 0.         0.1\n",
      "  0.         0.1        0.11111111 0.         0.         0.\n",
      "  0.         0.         0.14285714 0.         0.         0.1\n",
      "  0.         0.        ]\n",
      " [0.         0.         0.         0.         0.         0.\n",
      "  0.         0.         0.11111111 0.         0.         0.\n",
      "  0.         0.14285714 0.         0.         0.125      0.\n",
      "  0.         0.        ]\n",
      " [0.         0.16666667 0.         0.         0.         0.1\n",
      "  0.         0.1        0.         0.         0.         0.\n",
      "  0.         0.         0.         0.         0.         0.1\n",
      "  0.         0.        ]\n",
      " [0.         0.         0.         0.         0.         0.1\n",
      "  0.11111111 0.1        0.         0.         0.         0.\n",
      "  0.         0.11111111 0.         0.         0.11111111 0.1\n",
      "  0.11111111 0.11111111]\n",
      " [0.         0.14285714 0.         0.         0.         0.\n",
      "  0.         0.1        0.11111111 0.         0.14285714 0.\n",
      "  0.11111111 0.         0.         0.         0.125      0.\n",
      "  0.         0.        ]\n",
      " [0.25       0.         0.         0.         0.         0.\n",
      "  0.         0.         0.         0.14285714 0.         0.\n",
      "  0.         0.         0.         0.         0.         0.\n",
      "  0.         0.        ]\n",
      " [0.         0.         0.         0.         0.         0.\n",
      "  0.         0.         0.11111111 0.         0.         0.\n",
      "  0.         0.         0.         0.         0.         0.\n",
      "  0.14285714 0.25      ]\n",
      " [0.         0.         0.         0.         0.         0.1\n",
      "  0.         0.1        0.11111111 0.         0.125      0.\n",
      "  0.11111111 0.125      0.         0.         0.         0.1\n",
      "  0.         0.        ]\n",
      " [0.1        0.1        0.         0.         0.1        0.1\n",
      "  0.         0.         0.         0.1        0.         0.1\n",
      "  0.1        0.         0.         0.         0.1        0.\n",
      "  0.1        0.        ]\n",
      " [0.         0.         0.14285714 0.         0.         0.\n",
      "  0.         0.1        0.11111111 0.         0.         0.\n",
      "  0.11111111 0.         0.         0.14285714 0.         0.1\n",
      "  0.         0.        ]\n",
      " [0.         0.         0.         0.2        0.         0.\n",
      "  0.         0.         0.         0.         0.         0.\n",
      "  0.11111111 0.         0.         0.25       0.         0.\n",
      "  0.         0.        ]]\n",
      "[[0.55       0.         0.         0.         0.         0.\n",
      "  0.         0.1        0.         0.         0.         0.\n",
      "  0.         0.         0.25       0.         0.         0.1\n",
      "  0.         0.        ]\n",
      " [0.         0.37936508 0.         0.         0.         0.1\n",
      "  0.         0.         0.11111111 0.         0.         0.16666667\n",
      "  0.         0.14285714 0.         0.         0.         0.1\n",
      "  0.         0.        ]\n",
      " [0.         0.         0.75714286 0.         0.         0.1\n",
      "  0.         0.         0.         0.         0.         0.\n",
      "  0.         0.         0.         0.         0.         0.\n",
      "  0.14285714 0.        ]\n",
      " [0.         0.         0.         0.35714286 0.2        0.1\n",
      "  0.         0.         0.         0.14285714 0.         0.\n",
      "  0.         0.         0.         0.         0.         0.\n",
      "  0.         0.2       ]\n",
      " [0.         0.         0.         0.2        0.6        0.1\n",
      "  0.         0.         0.         0.         0.         0.\n",
      "  0.         0.         0.         0.         0.         0.1\n",
      "  0.         0.        ]\n",
      " [0.         0.1        0.1        0.1        0.1        0.1\n",
      "  0.         0.         0.         0.1        0.         0.1\n",
      "  0.1        0.         0.         0.         0.1        0.1\n",
      "  0.         0.        ]\n",
      " [0.         0.         0.         0.         0.         0.\n",
      "  0.78888889 0.1        0.         0.         0.         0.\n",
      "  0.11111111 0.         0.         0.         0.         0.\n",
      "  0.         0.        ]\n",
      " [0.1        0.         0.         0.         0.         0.\n",
      "  0.1        0.1        0.1        0.1        0.         0.1\n",
      "  0.1        0.1        0.         0.         0.1        0.\n",
      "  0.1        0.        ]\n",
      " [0.         0.11111111 0.         0.         0.         0.\n",
      "  0.         0.1        0.12222222 0.11111111 0.11111111 0.\n",
      "  0.         0.11111111 0.         0.11111111 0.11111111 0.\n",
      "  0.11111111 0.        ]\n",
      " [0.         0.         0.         0.14285714 0.         0.1\n",
      "  0.         0.1        0.11111111 0.3031746  0.         0.\n",
      "  0.         0.         0.14285714 0.         0.         0.1\n",
      "  0.         0.        ]\n",
      " [0.         0.         0.         0.         0.         0.\n",
      "  0.         0.         0.11111111 0.         0.62103175 0.\n",
      "  0.         0.14285714 0.         0.         0.125      0.\n",
      "  0.         0.        ]\n",
      " [0.         0.16666667 0.         0.         0.         0.1\n",
      "  0.         0.1        0.         0.         0.         0.53333333\n",
      "  0.         0.         0.         0.         0.         0.1\n",
      "  0.         0.        ]\n",
      " [0.         0.         0.         0.         0.         0.1\n",
      "  0.11111111 0.1        0.         0.         0.         0.\n",
      "  0.14444444 0.11111111 0.         0.         0.11111111 0.1\n",
      "  0.11111111 0.11111111]\n",
      " [0.         0.14285714 0.         0.         0.         0.\n",
      "  0.         0.1        0.11111111 0.         0.14285714 0.\n",
      "  0.11111111 0.26706349 0.         0.         0.125      0.\n",
      "  0.         0.        ]\n",
      " [0.25       0.         0.         0.         0.         0.\n",
      "  0.         0.         0.         0.14285714 0.         0.\n",
      "  0.         0.         0.60714286 0.         0.         0.\n",
      "  0.         0.        ]\n",
      " [0.         0.         0.         0.         0.         0.\n",
      "  0.         0.         0.11111111 0.         0.         0.\n",
      "  0.         0.         0.         0.49603175 0.         0.\n",
      "  0.14285714 0.25      ]\n",
      " [0.         0.         0.         0.         0.         0.1\n",
      "  0.         0.1        0.11111111 0.         0.125      0.\n",
      "  0.11111111 0.125      0.         0.         0.22777778 0.1\n",
      "  0.         0.        ]\n",
      " [0.1        0.1        0.         0.         0.1        0.1\n",
      "  0.         0.         0.         0.1        0.         0.1\n",
      "  0.1        0.         0.         0.         0.1        0.1\n",
      "  0.1        0.        ]\n",
      " [0.         0.         0.14285714 0.         0.         0.\n",
      "  0.         0.1        0.11111111 0.         0.         0.\n",
      "  0.11111111 0.         0.         0.14285714 0.         0.1\n",
      "  0.29206349 0.        ]\n",
      " [0.         0.         0.         0.2        0.         0.\n",
      "  0.         0.         0.         0.         0.         0.\n",
      "  0.11111111 0.         0.         0.25       0.         0.\n",
      "  0.         0.43888889]]\n"
     ]
    }
   ],
   "source": [
    "# Metropolis weights \n",
    "number_nodes = G.number_of_nodes()\n",
    "weights = np.zeros([number_nodes, number_nodes])\n",
    "for edge in G.edges():\n",
    "  i, j = edge[0], edge[1]\n",
    "  weights[i - 1][j - 1] = 1 / (1 + np.max([G.degree(i), G.degree(j)]))\n",
    "  weights[j - 1][i - 1] = weights[i - 1][j - 1]\n",
    "\n",
    "print(weights)\n",
    "\n",
    "weights = weights + np.diag(1 - np.sum(weights, axis=0))\n",
    "\n",
    "metropolis_weights = weights\n",
    "print(metropolis_weights)\n"
   ]
  },
  {
   "cell_type": "code",
   "execution_count": 4,
   "id": "26f67564",
   "metadata": {},
   "outputs": [],
   "source": [
    "def degrees(A):\n",
    "    \"\"\"Return the degrees of each node of a graph from its adjacency matrix\"\"\"\n",
    "    return np.sum(A, axis=0).reshape(A.shape[0], 1)\n",
    "\n",
    "def node_degree(n, G):\n",
    "    cnt = 0\n",
    "    for i in G.neighbors(n):\n",
    "        cnt += 1\n",
    "    return cnt\n",
    "\n",
    "def get_neighbors(n, G):\n",
    "    neighbors_list = []\n",
    "    for i in G.neighbors(n):\n",
    "        neighbors_list.append(int(i))\n",
    "    return neighbors_list"
   ]
  },
  {
   "cell_type": "code",
   "execution_count": 5,
   "id": "499a99e7",
   "metadata": {},
   "outputs": [
    {
     "name": "stderr",
     "output_type": "stream",
     "text": [
      "C:\\ProgramData\\Anaconda3\\lib\\site-packages\\sklearn\\preprocessing\\_label.py:115: DataConversionWarning: A column-vector y was passed when a 1d array was expected. Please change the shape of y to (n_samples, ), for example using ravel().\n",
      "  y = column_or_1d(y, warn=True)\n",
      "C:\\ProgramData\\Anaconda3\\lib\\site-packages\\sklearn\\preprocessing\\_label.py:115: DataConversionWarning: A column-vector y was passed when a 1d array was expected. Please change the shape of y to (n_samples, ), for example using ravel().\n",
      "  y = column_or_1d(y, warn=True)\n",
      "C:\\ProgramData\\Anaconda3\\lib\\site-packages\\sklearn\\preprocessing\\_label.py:115: DataConversionWarning: A column-vector y was passed when a 1d array was expected. Please change the shape of y to (n_samples, ), for example using ravel().\n",
      "  y = column_or_1d(y, warn=True)\n"
     ]
    },
    {
     "name": "stdout",
     "output_type": "stream",
     "text": [
      "5\n",
      "19\n",
      "13\n"
     ]
    },
    {
     "name": "stderr",
     "output_type": "stream",
     "text": [
      "C:\\ProgramData\\Anaconda3\\lib\\site-packages\\sklearn\\preprocessing\\_label.py:115: DataConversionWarning: A column-vector y was passed when a 1d array was expected. Please change the shape of y to (n_samples, ), for example using ravel().\n",
      "  y = column_or_1d(y, warn=True)\n",
      "C:\\ProgramData\\Anaconda3\\lib\\site-packages\\sklearn\\preprocessing\\_label.py:115: DataConversionWarning: A column-vector y was passed when a 1d array was expected. Please change the shape of y to (n_samples, ), for example using ravel().\n",
      "  y = column_or_1d(y, warn=True)\n",
      "C:\\ProgramData\\Anaconda3\\lib\\site-packages\\sklearn\\preprocessing\\_label.py:115: DataConversionWarning: A column-vector y was passed when a 1d array was expected. Please change the shape of y to (n_samples, ), for example using ravel().\n",
      "  y = column_or_1d(y, warn=True)\n",
      "C:\\ProgramData\\Anaconda3\\lib\\site-packages\\sklearn\\preprocessing\\_label.py:115: DataConversionWarning: A column-vector y was passed when a 1d array was expected. Please change the shape of y to (n_samples, ), for example using ravel().\n",
      "  y = column_or_1d(y, warn=True)\n",
      "C:\\ProgramData\\Anaconda3\\lib\\site-packages\\sklearn\\preprocessing\\_label.py:115: DataConversionWarning: A column-vector y was passed when a 1d array was expected. Please change the shape of y to (n_samples, ), for example using ravel().\n",
      "  y = column_or_1d(y, warn=True)\n"
     ]
    },
    {
     "name": "stdout",
     "output_type": "stream",
     "text": [
      "4\n",
      "6\n",
      "22\n",
      "7\n",
      "18\n",
      "26\n",
      "14\n",
      "24\n"
     ]
    },
    {
     "name": "stderr",
     "output_type": "stream",
     "text": [
      "C:\\ProgramData\\Anaconda3\\lib\\site-packages\\sklearn\\preprocessing\\_label.py:115: DataConversionWarning: A column-vector y was passed when a 1d array was expected. Please change the shape of y to (n_samples, ), for example using ravel().\n",
      "  y = column_or_1d(y, warn=True)\n",
      "C:\\ProgramData\\Anaconda3\\lib\\site-packages\\sklearn\\preprocessing\\_label.py:115: DataConversionWarning: A column-vector y was passed when a 1d array was expected. Please change the shape of y to (n_samples, ), for example using ravel().\n",
      "  y = column_or_1d(y, warn=True)\n",
      "C:\\ProgramData\\Anaconda3\\lib\\site-packages\\sklearn\\preprocessing\\_label.py:115: DataConversionWarning: A column-vector y was passed when a 1d array was expected. Please change the shape of y to (n_samples, ), for example using ravel().\n",
      "  y = column_or_1d(y, warn=True)\n",
      "C:\\ProgramData\\Anaconda3\\lib\\site-packages\\sklearn\\preprocessing\\_label.py:115: DataConversionWarning: A column-vector y was passed when a 1d array was expected. Please change the shape of y to (n_samples, ), for example using ravel().\n",
      "  y = column_or_1d(y, warn=True)\n"
     ]
    },
    {
     "name": "stdout",
     "output_type": "stream",
     "text": [
      "20\n",
      "3\n",
      "16\n"
     ]
    },
    {
     "name": "stderr",
     "output_type": "stream",
     "text": [
      "C:\\ProgramData\\Anaconda3\\lib\\site-packages\\sklearn\\preprocessing\\_label.py:115: DataConversionWarning: A column-vector y was passed when a 1d array was expected. Please change the shape of y to (n_samples, ), for example using ravel().\n",
      "  y = column_or_1d(y, warn=True)\n",
      "C:\\ProgramData\\Anaconda3\\lib\\site-packages\\sklearn\\preprocessing\\_label.py:115: DataConversionWarning: A column-vector y was passed when a 1d array was expected. Please change the shape of y to (n_samples, ), for example using ravel().\n",
      "  y = column_or_1d(y, warn=True)\n",
      "C:\\ProgramData\\Anaconda3\\lib\\site-packages\\sklearn\\preprocessing\\_label.py:115: DataConversionWarning: A column-vector y was passed when a 1d array was expected. Please change the shape of y to (n_samples, ), for example using ravel().\n",
      "  y = column_or_1d(y, warn=True)\n"
     ]
    },
    {
     "name": "stdout",
     "output_type": "stream",
     "text": [
      "29\n",
      "15\n"
     ]
    },
    {
     "name": "stderr",
     "output_type": "stream",
     "text": [
      "C:\\ProgramData\\Anaconda3\\lib\\site-packages\\sklearn\\preprocessing\\_label.py:115: DataConversionWarning: A column-vector y was passed when a 1d array was expected. Please change the shape of y to (n_samples, ), for example using ravel().\n",
      "  y = column_or_1d(y, warn=True)\n",
      "C:\\ProgramData\\Anaconda3\\lib\\site-packages\\sklearn\\preprocessing\\_label.py:115: DataConversionWarning: A column-vector y was passed when a 1d array was expected. Please change the shape of y to (n_samples, ), for example using ravel().\n",
      "  y = column_or_1d(y, warn=True)\n"
     ]
    },
    {
     "name": "stdout",
     "output_type": "stream",
     "text": [
      "1\n",
      "2\n"
     ]
    },
    {
     "name": "stderr",
     "output_type": "stream",
     "text": [
      "C:\\ProgramData\\Anaconda3\\lib\\site-packages\\sklearn\\preprocessing\\_label.py:115: DataConversionWarning: A column-vector y was passed when a 1d array was expected. Please change the shape of y to (n_samples, ), for example using ravel().\n",
      "  y = column_or_1d(y, warn=True)\n",
      "C:\\ProgramData\\Anaconda3\\lib\\site-packages\\sklearn\\preprocessing\\_label.py:115: DataConversionWarning: A column-vector y was passed when a 1d array was expected. Please change the shape of y to (n_samples, ), for example using ravel().\n",
      "  y = column_or_1d(y, warn=True)\n"
     ]
    },
    {
     "name": "stdout",
     "output_type": "stream",
     "text": [
      "17\n",
      "27\n"
     ]
    },
    {
     "name": "stderr",
     "output_type": "stream",
     "text": [
      "C:\\ProgramData\\Anaconda3\\lib\\site-packages\\sklearn\\preprocessing\\_label.py:115: DataConversionWarning: A column-vector y was passed when a 1d array was expected. Please change the shape of y to (n_samples, ), for example using ravel().\n",
      "  y = column_or_1d(y, warn=True)\n",
      "C:\\ProgramData\\Anaconda3\\lib\\site-packages\\sklearn\\preprocessing\\_label.py:115: DataConversionWarning: A column-vector y was passed when a 1d array was expected. Please change the shape of y to (n_samples, ), for example using ravel().\n",
      "  y = column_or_1d(y, warn=True)\n"
     ]
    },
    {
     "name": "stdout",
     "output_type": "stream",
     "text": [
      "25\n",
      "23\n"
     ]
    },
    {
     "name": "stderr",
     "output_type": "stream",
     "text": [
      "C:\\ProgramData\\Anaconda3\\lib\\site-packages\\sklearn\\preprocessing\\_label.py:115: DataConversionWarning: A column-vector y was passed when a 1d array was expected. Please change the shape of y to (n_samples, ), for example using ravel().\n",
      "  y = column_or_1d(y, warn=True)\n",
      "C:\\ProgramData\\Anaconda3\\lib\\site-packages\\sklearn\\preprocessing\\_label.py:115: DataConversionWarning: A column-vector y was passed when a 1d array was expected. Please change the shape of y to (n_samples, ), for example using ravel().\n",
      "  y = column_or_1d(y, warn=True)\n"
     ]
    },
    {
     "name": "stdout",
     "output_type": "stream",
     "text": [
      "10\n",
      "21\n"
     ]
    },
    {
     "name": "stderr",
     "output_type": "stream",
     "text": [
      "C:\\ProgramData\\Anaconda3\\lib\\site-packages\\sklearn\\preprocessing\\_label.py:115: DataConversionWarning: A column-vector y was passed when a 1d array was expected. Please change the shape of y to (n_samples, ), for example using ravel().\n",
      "  y = column_or_1d(y, warn=True)\n",
      "C:\\ProgramData\\Anaconda3\\lib\\site-packages\\sklearn\\preprocessing\\_label.py:115: DataConversionWarning: A column-vector y was passed when a 1d array was expected. Please change the shape of y to (n_samples, ), for example using ravel().\n",
      "  y = column_or_1d(y, warn=True)\n"
     ]
    },
    {
     "name": "stdout",
     "output_type": "stream",
     "text": [
      "30\n",
      "9\n"
     ]
    },
    {
     "name": "stderr",
     "output_type": "stream",
     "text": [
      "C:\\ProgramData\\Anaconda3\\lib\\site-packages\\sklearn\\preprocessing\\_label.py:115: DataConversionWarning: A column-vector y was passed when a 1d array was expected. Please change the shape of y to (n_samples, ), for example using ravel().\n",
      "  y = column_or_1d(y, warn=True)\n",
      "C:\\ProgramData\\Anaconda3\\lib\\site-packages\\sklearn\\preprocessing\\_label.py:115: DataConversionWarning: A column-vector y was passed when a 1d array was expected. Please change the shape of y to (n_samples, ), for example using ravel().\n",
      "  y = column_or_1d(y, warn=True)\n"
     ]
    },
    {
     "name": "stdout",
     "output_type": "stream",
     "text": [
      "28\n",
      "8\n"
     ]
    },
    {
     "name": "stderr",
     "output_type": "stream",
     "text": [
      "C:\\ProgramData\\Anaconda3\\lib\\site-packages\\sklearn\\preprocessing\\_label.py:115: DataConversionWarning: A column-vector y was passed when a 1d array was expected. Please change the shape of y to (n_samples, ), for example using ravel().\n",
      "  y = column_or_1d(y, warn=True)\n",
      "C:\\ProgramData\\Anaconda3\\lib\\site-packages\\sklearn\\preprocessing\\_label.py:115: DataConversionWarning: A column-vector y was passed when a 1d array was expected. Please change the shape of y to (n_samples, ), for example using ravel().\n",
      "  y = column_or_1d(y, warn=True)\n"
     ]
    },
    {
     "name": "stdout",
     "output_type": "stream",
     "text": [
      "12\n",
      "11\n"
     ]
    },
    {
     "name": "stderr",
     "output_type": "stream",
     "text": [
      "C:\\ProgramData\\Anaconda3\\lib\\site-packages\\sklearn\\preprocessing\\_label.py:115: DataConversionWarning: A column-vector y was passed when a 1d array was expected. Please change the shape of y to (n_samples, ), for example using ravel().\n",
      "  y = column_or_1d(y, warn=True)\n",
      "C:\\ProgramData\\Anaconda3\\lib\\site-packages\\sklearn\\preprocessing\\_label.py:115: DataConversionWarning: A column-vector y was passed when a 1d array was expected. Please change the shape of y to (n_samples, ), for example using ravel().\n",
      "  y = column_or_1d(y, warn=True)\n"
     ]
    }
   ],
   "source": [
    "# Dataset partitioning\n",
    "def random_split(X, y, n, seed):\n",
    "    \"\"\"Equally split data between n agents\"\"\"\n",
    "    rng = np.random.default_rng(seed)\n",
    "    perm = rng.permutation(y.size)\n",
    "    X_split = np.array_split(X[perm], n)  #np.stack to keep as a np array\n",
    "    y_split = np.array_split(y[perm], n)\n",
    "    return X_split, y_split\n",
    "\n",
    "\n",
    "\n",
    "\n",
    "'''\n",
    "X_train = np.load('X_train.npy')\n",
    "X_test = np.load('X_test.npy')\n",
    "y_train = np.load('y_train.npy')\n",
    "y_test = np.load('y_test.npy')\n",
    "\n",
    "no_features = X_train.shape[1]\n",
    "\n",
    "X, y = random_split(X_train, y_train, no_users, 1234)\n",
    "'''\n",
    "\n",
    "\n",
    "train_data = pd.read_csv('./train.csv')\n",
    "test_data = pd.read_csv('./test.csv')\n",
    "\n",
    "concatenated_df = pd.concat([train_data, test_data], axis=0)\n",
    "\n",
    "# Display the concatenated DataFrame\n",
    "# Replace activities not in the 'keep_activities' list with 'OTHER_ACTIVITIES'\n",
    "#concatenated_df['Activity'] = np.where(concatenated_df['Activity'].isin(keep_activities), concatenated_df['Activity'], 'OTHER_ACTIVITIES')\n",
    "\n",
    "# Split the data into training and testing sets\n",
    "train_data, test_data = train_test_split(concatenated_df, test_size=0.2, random_state=42)\n",
    "\n",
    "\n",
    "keep_activities = ['SITTING']\n",
    "\n",
    "\n",
    "\n",
    "\n",
    "\n",
    "x_train, y_train = train_data.iloc[:, :-2], train_data.iloc[:, -1:]\n",
    "x_test, y_test = test_data.iloc[:, :-2], test_data.iloc[:, -1:]\n",
    "x_train.shape, y_train.shape\n",
    "\n",
    "x_test, y_test = test_data.iloc[:, :-2], test_data.iloc[:, -1:]\n",
    "x_test.shape, y_test.shape\n",
    "\n",
    "le = LabelEncoder()\n",
    "y_train = le.fit_transform(y_train)\n",
    "y_test = le.fit_transform(y_test)\n",
    "\n",
    "scaling_data = MinMaxScaler()\n",
    "x_train = scaling_data.fit_transform(x_train)\n",
    "X_test = scaling_data.transform(x_test)\n",
    "\n",
    "train_list = []\n",
    "\n",
    "for group_value in train_data['subject'].unique():\n",
    "    print(group_value)\n",
    "    # Query the DataFrame for the specific group\n",
    "    group_data = train_data.query(f'subject == {group_value}')\n",
    "    x_train, y_train = group_data.iloc[:, :-2], group_data.iloc[:, -1:]\n",
    "    y_train = le.fit_transform(y_train)\n",
    "    x_train = scaling_data.fit_transform(x_train)\n",
    "\n",
    "    \n",
    "    # Extract the 'value' column and convert it to a NumPy array\n",
    "    train_list.append((x_train, y_train))\n",
    "\n",
    "\n",
    "\n",
    "\n",
    "no_features = X_test.shape[1]\n",
    "\n",
    "#X, y = random_split(X_train, y_train, no_users, 1234)"
   ]
  },
  {
   "cell_type": "code",
   "execution_count": 6,
   "id": "dbc31eff",
   "metadata": {},
   "outputs": [],
   "source": [
    "datapoints = {}\n",
    "count = 0\n",
    "\n",
    "\n",
    "scaler = [1.0, -1.0]\n",
    "\n",
    "noise_sd = 0.001\n",
    "for i in range(no_users):\n",
    "    #features = np.random.normal(loc=0.0, scale=1.0, size=(m, n))\n",
    "    #label = np.dot(features, W[i ]) + np.random.normal(0,noise_sd)\n",
    "    data = train_list[i][0]\n",
    "    #data[:, 0:no_features//2] *= scaler[i]\n",
    "    datapoints[count] = {\n",
    "            'features': data,\n",
    "            'degree': node_degree(i, G),\n",
    "            'label': train_list[i][1],\n",
    "            'neighbors': get_neighbors(i, G),\n",
    "            #'exact_weights': torch.from_numpy(W[i])\n",
    "        }\n",
    "    count += 1"
   ]
  },
  {
   "cell_type": "code",
   "execution_count": 7,
   "id": "3c2530b1",
   "metadata": {},
   "outputs": [],
   "source": [
    "class MyDataset(Dataset):\n",
    "    def __init__(self, data, targets, transform=None):\n",
    "        self.data = torch.FloatTensor(data)\n",
    "        self.targets = torch.LongTensor(targets)\n",
    "        \n",
    "    def __getitem__(self, index):\n",
    "        x = self.data[index]\n",
    "        y = self.targets[index]\n",
    "\n",
    "        return x, y\n",
    "    \n",
    "    def __len__(self):\n",
    "        return len(self.data)\n"
   ]
  },
  {
   "cell_type": "code",
   "execution_count": 8,
   "id": "1d84bf7c",
   "metadata": {},
   "outputs": [
    {
     "data": {
      "text/plain": [
       "'\\nclass MLP_Net(nn.Module):\\n    def __init__(self, user_id):\\n        super(MLP_Net, self).__init__()\\n        self.fc1 = nn.Linear(no_features, 64, bias=True)\\n        self.fc2 = nn.Linear(64, 6, bias=True)\\n        #self.fc3 = nn.Linear(6, 10)\\n        self.user_id = user_id\\n\\n    def forward(self, x):\\n        x = torch.flatten(x, 1)\\n        x = F.relu(self.fc1(x))\\n        x = self.fc2(x)\\n        output = F.softmax(x, dim=0)\\n        return output\\n'"
      ]
     },
     "execution_count": 8,
     "metadata": {},
     "output_type": "execute_result"
    }
   ],
   "source": [
    "'''\n",
    "class MLP_Net(nn.Module):\n",
    "    def __init__(self, user_id):\n",
    "        super(MLP_Net, self).__init__()\n",
    "        self.fc1 = nn.Linear(no_features, 64, bias=True)\n",
    "        self.fc2 = nn.Linear(64, 6, bias=True)\n",
    "        #self.fc3 = nn.Linear(6, 10)\n",
    "        self.user_id = user_id\n",
    "\n",
    "    def forward(self, x):\n",
    "        x = torch.flatten(x, 1)\n",
    "        x = F.relu(self.fc1(x))\n",
    "        x = self.fc2(x)\n",
    "        output = F.softmax(x, dim=0)\n",
    "        return output\n",
    "'''"
   ]
  },
  {
   "cell_type": "code",
   "execution_count": 9,
   "id": "942f418c",
   "metadata": {},
   "outputs": [],
   "source": [
    "input_size = X_test.shape[1]\n",
    "hidden_size1 = 64\n",
    "hidden_size2 = 128\n",
    "output_size = 6\n",
    "\n",
    "class MLP_Net(nn.Module):\n",
    "    def __init__(self, user_id, input_size, hidden_size1, hidden_size2, output_size):\n",
    "        super(MLP_Net, self).__init__()\n",
    "\n",
    "        #self.layer1 = nn.Linear(input_size, hidden_size1, bias=True)\n",
    "        #self.activation1 = nn.ReLU()\n",
    "\n",
    "        #self.layer2 = nn.Linear(hidden_size1, hidden_size2, bias=True)\n",
    "        #self.activation2 = nn.ReLU()\n",
    "\n",
    "        #self.layer3 = nn.Linear(hidden_size2, 64, bias=True)\n",
    "        #self.activation3 = nn.ReLU()\n",
    "\n",
    "        self.output_layer = nn.Linear(input_size, output_size, bias=True)\n",
    "        self.softmax = nn.Softmax(dim=1)\n",
    "        self.user_id = user_id\n",
    "\n",
    "    def forward(self, x):\n",
    "        #x = self.activation1(self.layer1(x))\n",
    "        #x = self.activation2(self.layer2(x))\n",
    "        #x = self.activation3(self.layer3(x))\n",
    "        x = self.softmax(self.output_layer(x))\n",
    "        return x\n"
   ]
  },
  {
   "cell_type": "code",
   "execution_count": 10,
   "id": "f93f4bbc",
   "metadata": {},
   "outputs": [],
   "source": [
    "from typing import Iterable, Optional\n",
    "\n",
    "def grads_to_vector(parameters: Iterable[torch.Tensor]) -> torch.Tensor:\n",
    "    r\"\"\"Convert parameters to one vector\n",
    "\n",
    "    Args:\n",
    "        parameters (Iterable[Tensor]): an iterator of Tensors that are the\n",
    "            parameters of a model.\n",
    "\n",
    "    Returns:\n",
    "        The parameters represented by a single vector\n",
    "    \"\"\"\n",
    "    # Flag for the device where the parameter is located\n",
    "    param_device = None\n",
    "\n",
    "    vec = []\n",
    "    for param in parameters:\n",
    "        # Ensure the parameters are located in the same device\n",
    "        param_device = param.grad\n",
    "\n",
    "        vec.append(param_device.view(-1))\n",
    "    return torch.cat(vec)"
   ]
  },
  {
   "cell_type": "code",
   "execution_count": 11,
   "id": "9f48700b",
   "metadata": {},
   "outputs": [
    {
     "data": {
      "text/plain": [
       "64"
      ]
     },
     "execution_count": 11,
     "metadata": {},
     "output_type": "execute_result"
    }
   ],
   "source": [
    "batch_size"
   ]
  },
  {
   "cell_type": "code",
   "execution_count": 12,
   "id": "9cd3a679",
   "metadata": {},
   "outputs": [
    {
     "name": "stdout",
     "output_type": "stream",
     "text": [
      "Epoch 1/1000: Accuracy = 0.1699346, Loss = 0.0293911\n",
      "Epoch 2/1000: Accuracy = 0.2418301, Loss = 0.0293027\n",
      "Epoch 3/1000: Accuracy = 0.2908497, Loss = 0.0292206\n",
      "Epoch 4/1000: Accuracy = 0.3039216, Loss = 0.0291294\n",
      "Epoch 5/1000: Accuracy = 0.3104575, Loss = 0.0290523\n",
      "Epoch 6/1000: Accuracy = 0.3137255, Loss = 0.0289576\n",
      "Epoch 7/1000: Accuracy = 0.3137255, Loss = 0.0288702\n",
      "Epoch 8/1000: Accuracy = 0.3137255, Loss = 0.0287932\n",
      "Epoch 9/1000: Accuracy = 0.3137255, Loss = 0.0287121\n",
      "Epoch 10/1000: Accuracy = 0.3137255, Loss = 0.0286189\n",
      "Epoch 11/1000: Accuracy = 0.3202614, Loss = 0.0285435\n",
      "Epoch 12/1000: Accuracy = 0.3267974, Loss = 0.0284632\n",
      "Epoch 13/1000: Accuracy = 0.3333333, Loss = 0.0283755\n",
      "Epoch 14/1000: Accuracy = 0.3529412, Loss = 0.0282943\n",
      "Epoch 15/1000: Accuracy = 0.3692810, Loss = 0.0282062\n",
      "Epoch 16/1000: Accuracy = 0.4117647, Loss = 0.0281285\n",
      "Epoch 17/1000: Accuracy = 0.4444444, Loss = 0.0280582\n",
      "Epoch 18/1000: Accuracy = 0.4738562, Loss = 0.0279722\n",
      "Epoch 19/1000: Accuracy = 0.4771242, Loss = 0.0278903\n",
      "Epoch 20/1000: Accuracy = 0.4803922, Loss = 0.0277987\n",
      "Epoch 21/1000: Accuracy = 0.4967320, Loss = 0.0277149\n",
      "Epoch 22/1000: Accuracy = 0.5098039, Loss = 0.0276409\n",
      "Epoch 23/1000: Accuracy = 0.5392157, Loss = 0.0275466\n",
      "Epoch 24/1000: Accuracy = 0.5457516, Loss = 0.0274773\n",
      "Epoch 25/1000: Accuracy = 0.5784314, Loss = 0.0274135\n",
      "Epoch 26/1000: Accuracy = 0.6143791, Loss = 0.0273326\n",
      "Epoch 27/1000: Accuracy = 0.6503268, Loss = 0.0272350\n",
      "Epoch 28/1000: Accuracy = 0.6568627, Loss = 0.0271609\n",
      "Epoch 29/1000: Accuracy = 0.6699346, Loss = 0.0270823\n",
      "Epoch 30/1000: Accuracy = 0.6764706, Loss = 0.0270125\n",
      "Epoch 31/1000: Accuracy = 0.6928105, Loss = 0.0269116\n",
      "Epoch 32/1000: Accuracy = 0.6928105, Loss = 0.0268641\n",
      "Epoch 33/1000: Accuracy = 0.6960784, Loss = 0.0267583\n",
      "Epoch 34/1000: Accuracy = 0.6993464, Loss = 0.0267094\n",
      "Epoch 35/1000: Accuracy = 0.6993464, Loss = 0.0266229\n",
      "Epoch 36/1000: Accuracy = 0.6993464, Loss = 0.0265526\n",
      "Epoch 37/1000: Accuracy = 0.6993464, Loss = 0.0264636\n",
      "Epoch 38/1000: Accuracy = 0.6993464, Loss = 0.0264196\n",
      "Epoch 39/1000: Accuracy = 0.6993464, Loss = 0.0263251\n",
      "Epoch 40/1000: Accuracy = 0.6993464, Loss = 0.0262573\n",
      "Epoch 41/1000: Accuracy = 0.6993464, Loss = 0.0261676\n",
      "Epoch 42/1000: Accuracy = 0.6993464, Loss = 0.0261128\n",
      "Epoch 43/1000: Accuracy = 0.6993464, Loss = 0.0260755\n",
      "Epoch 44/1000: Accuracy = 0.6993464, Loss = 0.0259697\n",
      "Epoch 45/1000: Accuracy = 0.6993464, Loss = 0.0259063\n",
      "Epoch 46/1000: Accuracy = 0.6993464, Loss = 0.0258322\n",
      "Epoch 47/1000: Accuracy = 0.6993464, Loss = 0.0257853\n",
      "Epoch 48/1000: Accuracy = 0.6993464, Loss = 0.0257039\n",
      "Epoch 49/1000: Accuracy = 0.6993464, Loss = 0.0256625\n",
      "Epoch 50/1000: Accuracy = 0.6993464, Loss = 0.0255606\n",
      "Epoch 51/1000: Accuracy = 0.6993464, Loss = 0.0255172\n",
      "Epoch 52/1000: Accuracy = 0.6993464, Loss = 0.0254686\n",
      "Epoch 53/1000: Accuracy = 0.6993464, Loss = 0.0253856\n",
      "Epoch 54/1000: Accuracy = 0.6993464, Loss = 0.0253177\n",
      "Epoch 55/1000: Accuracy = 0.6993464, Loss = 0.0252388\n",
      "Epoch 56/1000: Accuracy = 0.6993464, Loss = 0.0251736\n",
      "Epoch 57/1000: Accuracy = 0.6993464, Loss = 0.0251124\n",
      "Epoch 58/1000: Accuracy = 0.6993464, Loss = 0.0250854\n",
      "Epoch 59/1000: Accuracy = 0.6993464, Loss = 0.0249828\n",
      "Epoch 60/1000: Accuracy = 0.6993464, Loss = 0.0249682\n",
      "Epoch 61/1000: Accuracy = 0.6993464, Loss = 0.0249335\n",
      "Epoch 62/1000: Accuracy = 0.6993464, Loss = 0.0248193\n",
      "Epoch 63/1000: Accuracy = 0.6993464, Loss = 0.0247905\n",
      "Epoch 64/1000: Accuracy = 0.6993464, Loss = 0.0247027\n",
      "Epoch 65/1000: Accuracy = 0.6993464, Loss = 0.0246806\n",
      "Epoch 66/1000: Accuracy = 0.6993464, Loss = 0.0246260\n",
      "Epoch 67/1000: Accuracy = 0.6993464, Loss = 0.0245827\n",
      "Epoch 68/1000: Accuracy = 0.6993464, Loss = 0.0245651\n",
      "Epoch 69/1000: Accuracy = 0.6993464, Loss = 0.0244662\n",
      "Epoch 70/1000: Accuracy = 0.6993464, Loss = 0.0244287\n",
      "Epoch 71/1000: Accuracy = 0.6993464, Loss = 0.0243843\n",
      "Epoch 72/1000: Accuracy = 0.6993464, Loss = 0.0243006\n",
      "Epoch 73/1000: Accuracy = 0.6993464, Loss = 0.0242926\n",
      "Epoch 74/1000: Accuracy = 0.6993464, Loss = 0.0241854\n",
      "Epoch 75/1000: Accuracy = 0.6993464, Loss = 0.0241497\n",
      "Epoch 76/1000: Accuracy = 0.6993464, Loss = 0.0241359\n",
      "Epoch 77/1000: Accuracy = 0.6993464, Loss = 0.0240790\n",
      "Epoch 78/1000: Accuracy = 0.6993464, Loss = 0.0240273\n",
      "Epoch 79/1000: Accuracy = 0.6993464, Loss = 0.0239321\n",
      "Epoch 80/1000: Accuracy = 0.6993464, Loss = 0.0239401\n",
      "Epoch 81/1000: Accuracy = 0.7156863, Loss = 0.0239103\n",
      "Epoch 82/1000: Accuracy = 0.7254902, Loss = 0.0238443\n",
      "Epoch 83/1000: Accuracy = 0.7516340, Loss = 0.0237716\n",
      "Epoch 84/1000: Accuracy = 0.7614379, Loss = 0.0237406\n",
      "Epoch 85/1000: Accuracy = 0.7745098, Loss = 0.0236894\n",
      "Epoch 86/1000: Accuracy = 0.7875817, Loss = 0.0236403\n",
      "Epoch 87/1000: Accuracy = 0.7941176, Loss = 0.0236133\n",
      "Epoch 88/1000: Accuracy = 0.8006536, Loss = 0.0235657\n",
      "Epoch 89/1000: Accuracy = 0.7973856, Loss = 0.0235032\n",
      "Epoch 90/1000: Accuracy = 0.8006536, Loss = 0.0234883\n",
      "Epoch 91/1000: Accuracy = 0.8039216, Loss = 0.0234258\n",
      "Epoch 92/1000: Accuracy = 0.8039216, Loss = 0.0233937\n",
      "Epoch 93/1000: Accuracy = 0.8039216, Loss = 0.0233378\n",
      "Epoch 94/1000: Accuracy = 0.8039216, Loss = 0.0233169\n",
      "Epoch 95/1000: Accuracy = 0.8039216, Loss = 0.0232726\n",
      "Epoch 96/1000: Accuracy = 0.8039216, Loss = 0.0232299\n",
      "Epoch 97/1000: Accuracy = 0.8039216, Loss = 0.0231437\n",
      "Epoch 98/1000: Accuracy = 0.8039216, Loss = 0.0231518\n",
      "Epoch 99/1000: Accuracy = 0.8039216, Loss = 0.0230835\n",
      "Epoch 100/1000: Accuracy = 0.8039216, Loss = 0.0230754\n",
      "Epoch 101/1000: Accuracy = 0.8039216, Loss = 0.0231170\n",
      "Epoch 102/1000: Accuracy = 0.8039216, Loss = 0.0230605\n",
      "Epoch 103/1000: Accuracy = 0.8039216, Loss = 0.0229707\n",
      "Epoch 104/1000: Accuracy = 0.8039216, Loss = 0.0229208\n",
      "Epoch 105/1000: Accuracy = 0.8039216, Loss = 0.0229328\n",
      "Epoch 106/1000: Accuracy = 0.8039216, Loss = 0.0228643\n",
      "Epoch 107/1000: Accuracy = 0.8039216, Loss = 0.0228213\n",
      "Epoch 108/1000: Accuracy = 0.8039216, Loss = 0.0227991\n",
      "Epoch 109/1000: Accuracy = 0.8039216, Loss = 0.0227502\n",
      "Epoch 110/1000: Accuracy = 0.8039216, Loss = 0.0227206\n",
      "Epoch 111/1000: Accuracy = 0.8039216, Loss = 0.0227398\n",
      "Epoch 112/1000: Accuracy = 0.8039216, Loss = 0.0227400\n",
      "Epoch 113/1000: Accuracy = 0.8039216, Loss = 0.0226580\n",
      "Epoch 114/1000: Accuracy = 0.8039216, Loss = 0.0226045\n",
      "Epoch 115/1000: Accuracy = 0.8039216, Loss = 0.0225941\n",
      "Epoch 116/1000: Accuracy = 0.8039216, Loss = 0.0225670\n",
      "Epoch 117/1000: Accuracy = 0.8071895, Loss = 0.0225597\n",
      "Epoch 118/1000: Accuracy = 0.8039216, Loss = 0.0225396\n",
      "Epoch 119/1000: Accuracy = 0.8071895, Loss = 0.0224437\n",
      "Epoch 120/1000: Accuracy = 0.8071895, Loss = 0.0224323\n",
      "Epoch 121/1000: Accuracy = 0.8071895, Loss = 0.0224923\n",
      "Epoch 122/1000: Accuracy = 0.8039216, Loss = 0.0223748\n",
      "Epoch 123/1000: Accuracy = 0.8039216, Loss = 0.0224054\n",
      "Epoch 124/1000: Accuracy = 0.8039216, Loss = 0.0223781\n",
      "Epoch 125/1000: Accuracy = 0.8071895, Loss = 0.0223252\n",
      "Epoch 126/1000: Accuracy = 0.8039216, Loss = 0.0223315\n",
      "Epoch 127/1000: Accuracy = 0.8071895, Loss = 0.0222981\n",
      "Epoch 128/1000: Accuracy = 0.8071895, Loss = 0.0222781\n",
      "Epoch 129/1000: Accuracy = 0.8071895, Loss = 0.0222426\n",
      "Epoch 130/1000: Accuracy = 0.8071895, Loss = 0.0222491\n",
      "Epoch 131/1000: Accuracy = 0.8071895, Loss = 0.0222127\n",
      "Epoch 132/1000: Accuracy = 0.8039216, Loss = 0.0221989\n",
      "Epoch 133/1000: Accuracy = 0.8071895, Loss = 0.0221542\n",
      "Epoch 134/1000: Accuracy = 0.8039216, Loss = 0.0221360\n",
      "Epoch 135/1000: Accuracy = 0.8071895, Loss = 0.0221135\n",
      "Epoch 136/1000: Accuracy = 0.8071895, Loss = 0.0220799\n",
      "Epoch 137/1000: Accuracy = 0.8071895, Loss = 0.0220673\n",
      "Epoch 138/1000: Accuracy = 0.8071895, Loss = 0.0220777\n",
      "Epoch 139/1000: Accuracy = 0.8071895, Loss = 0.0220233\n",
      "Epoch 140/1000: Accuracy = 0.8071895, Loss = 0.0220436\n",
      "Epoch 141/1000: Accuracy = 0.8071895, Loss = 0.0219780\n",
      "Epoch 142/1000: Accuracy = 0.8071895, Loss = 0.0219499\n",
      "Epoch 143/1000: Accuracy = 0.8071895, Loss = 0.0219732\n",
      "Epoch 144/1000: Accuracy = 0.8071895, Loss = 0.0219412\n",
      "Epoch 145/1000: Accuracy = 0.8071895, Loss = 0.0219268\n",
      "Epoch 146/1000: Accuracy = 0.8071895, Loss = 0.0218827\n",
      "Epoch 147/1000: Accuracy = 0.8071895, Loss = 0.0218512\n",
      "Epoch 148/1000: Accuracy = 0.8071895, Loss = 0.0218648\n",
      "Epoch 149/1000: Accuracy = 0.8071895, Loss = 0.0218395\n",
      "Epoch 150/1000: Accuracy = 0.8071895, Loss = 0.0218305\n",
      "Epoch 151/1000: Accuracy = 0.8071895, Loss = 0.0217953\n",
      "Epoch 152/1000: Accuracy = 0.8071895, Loss = 0.0217894\n",
      "Epoch 153/1000: Accuracy = 0.8071895, Loss = 0.0217535\n",
      "Epoch 154/1000: Accuracy = 0.8071895, Loss = 0.0217976\n"
     ]
    },
    {
     "name": "stdout",
     "output_type": "stream",
     "text": [
      "Epoch 155/1000: Accuracy = 0.8071895, Loss = 0.0217357\n",
      "Epoch 156/1000: Accuracy = 0.8071895, Loss = 0.0217717\n",
      "Epoch 157/1000: Accuracy = 0.8071895, Loss = 0.0216855\n",
      "Epoch 158/1000: Accuracy = 0.8071895, Loss = 0.0216876\n",
      "Epoch 159/1000: Accuracy = 0.8071895, Loss = 0.0216609\n",
      "Epoch 160/1000: Accuracy = 0.8071895, Loss = 0.0216294\n",
      "Epoch 161/1000: Accuracy = 0.8071895, Loss = 0.0216690\n",
      "Epoch 162/1000: Accuracy = 0.8071895, Loss = 0.0215714\n",
      "Epoch 163/1000: Accuracy = 0.8071895, Loss = 0.0215957\n",
      "Epoch 164/1000: Accuracy = 0.8071895, Loss = 0.0215462\n",
      "Epoch 165/1000: Accuracy = 0.8071895, Loss = 0.0215840\n",
      "Epoch 166/1000: Accuracy = 0.8071895, Loss = 0.0215726\n",
      "Epoch 167/1000: Accuracy = 0.8071895, Loss = 0.0215374\n",
      "Epoch 168/1000: Accuracy = 0.8071895, Loss = 0.0215124\n",
      "Epoch 169/1000: Accuracy = 0.8071895, Loss = 0.0215190\n",
      "Epoch 170/1000: Accuracy = 0.8071895, Loss = 0.0214778\n",
      "Epoch 171/1000: Accuracy = 0.8071895, Loss = 0.0214956\n",
      "Epoch 172/1000: Accuracy = 0.8071895, Loss = 0.0214498\n",
      "Epoch 173/1000: Accuracy = 0.8071895, Loss = 0.0214399\n",
      "Epoch 174/1000: Accuracy = 0.8071895, Loss = 0.0214443\n",
      "Epoch 175/1000: Accuracy = 0.8071895, Loss = 0.0213935\n",
      "Epoch 176/1000: Accuracy = 0.8071895, Loss = 0.0213863\n",
      "Epoch 177/1000: Accuracy = 0.8071895, Loss = 0.0213589\n",
      "Epoch 178/1000: Accuracy = 0.8071895, Loss = 0.0213522\n",
      "Epoch 179/1000: Accuracy = 0.8071895, Loss = 0.0213352\n",
      "Epoch 180/1000: Accuracy = 0.8071895, Loss = 0.0213394\n",
      "Epoch 181/1000: Accuracy = 0.8071895, Loss = 0.0213103\n",
      "Epoch 182/1000: Accuracy = 0.8104575, Loss = 0.0212742\n",
      "Epoch 183/1000: Accuracy = 0.8104575, Loss = 0.0212911\n",
      "Epoch 184/1000: Accuracy = 0.8169935, Loss = 0.0212558\n",
      "Epoch 185/1000: Accuracy = 0.8169935, Loss = 0.0212652\n",
      "Epoch 186/1000: Accuracy = 0.8169935, Loss = 0.0212089\n",
      "Epoch 187/1000: Accuracy = 0.8169935, Loss = 0.0212046\n",
      "Epoch 188/1000: Accuracy = 0.8169935, Loss = 0.0212007\n",
      "Epoch 189/1000: Accuracy = 0.8169935, Loss = 0.0211711\n",
      "Epoch 190/1000: Accuracy = 0.8169935, Loss = 0.0211495\n",
      "Epoch 191/1000: Accuracy = 0.8169935, Loss = 0.0211691\n",
      "Epoch 192/1000: Accuracy = 0.8169935, Loss = 0.0211535\n",
      "Epoch 193/1000: Accuracy = 0.8202614, Loss = 0.0211513\n",
      "Epoch 194/1000: Accuracy = 0.8235294, Loss = 0.0211024\n",
      "Epoch 195/1000: Accuracy = 0.8235294, Loss = 0.0210927\n",
      "Epoch 196/1000: Accuracy = 0.8267974, Loss = 0.0210790\n",
      "Epoch 197/1000: Accuracy = 0.8300654, Loss = 0.0210946\n",
      "Epoch 198/1000: Accuracy = 0.8333333, Loss = 0.0211090\n",
      "Epoch 199/1000: Accuracy = 0.8333333, Loss = 0.0210202\n",
      "Epoch 200/1000: Accuracy = 0.8333333, Loss = 0.0210024\n",
      "Epoch 201/1000: Accuracy = 0.8333333, Loss = 0.0209978\n",
      "Epoch 202/1000: Accuracy = 0.8333333, Loss = 0.0209494\n",
      "Epoch 203/1000: Accuracy = 0.8333333, Loss = 0.0209857\n",
      "Epoch 204/1000: Accuracy = 0.8333333, Loss = 0.0209656\n",
      "Epoch 205/1000: Accuracy = 0.8333333, Loss = 0.0209438\n",
      "Epoch 206/1000: Accuracy = 0.8366013, Loss = 0.0209105\n",
      "Epoch 207/1000: Accuracy = 0.8366013, Loss = 0.0209183\n",
      "Epoch 208/1000: Accuracy = 0.8366013, Loss = 0.0209041\n",
      "Epoch 209/1000: Accuracy = 0.8464052, Loss = 0.0209002\n",
      "Epoch 210/1000: Accuracy = 0.8496732, Loss = 0.0208597\n",
      "Epoch 211/1000: Accuracy = 0.8496732, Loss = 0.0208434\n",
      "Epoch 212/1000: Accuracy = 0.8562092, Loss = 0.0208620\n",
      "Epoch 213/1000: Accuracy = 0.8627451, Loss = 0.0208319\n",
      "Epoch 214/1000: Accuracy = 0.8660131, Loss = 0.0208209\n",
      "Epoch 215/1000: Accuracy = 0.8692810, Loss = 0.0208254\n",
      "Epoch 216/1000: Accuracy = 0.8725490, Loss = 0.0207788\n",
      "Epoch 217/1000: Accuracy = 0.8725490, Loss = 0.0208106\n",
      "Epoch 218/1000: Accuracy = 0.8758170, Loss = 0.0207497\n",
      "Epoch 219/1000: Accuracy = 0.8758170, Loss = 0.0207634\n",
      "Epoch 220/1000: Accuracy = 0.8758170, Loss = 0.0207299\n",
      "Epoch 221/1000: Accuracy = 0.8790850, Loss = 0.0207360\n",
      "Epoch 222/1000: Accuracy = 0.8790850, Loss = 0.0207221\n",
      "Epoch 223/1000: Accuracy = 0.8790850, Loss = 0.0206815\n",
      "Epoch 224/1000: Accuracy = 0.8790850, Loss = 0.0206828\n",
      "Epoch 225/1000: Accuracy = 0.8823529, Loss = 0.0206700\n",
      "Epoch 226/1000: Accuracy = 0.8823529, Loss = 0.0206628\n",
      "Epoch 227/1000: Accuracy = 0.8888889, Loss = 0.0206440\n",
      "Epoch 228/1000: Accuracy = 0.8888889, Loss = 0.0206741\n",
      "Epoch 229/1000: Accuracy = 0.8888889, Loss = 0.0206628\n",
      "Epoch 230/1000: Accuracy = 0.8888889, Loss = 0.0206178\n",
      "Epoch 231/1000: Accuracy = 0.9019608, Loss = 0.0206304\n",
      "Epoch 232/1000: Accuracy = 0.8986928, Loss = 0.0206037\n",
      "Epoch 233/1000: Accuracy = 0.9019608, Loss = 0.0205563\n",
      "Epoch 234/1000: Accuracy = 0.8986928, Loss = 0.0205994\n",
      "Epoch 235/1000: Accuracy = 0.9052288, Loss = 0.0205658\n",
      "Epoch 236/1000: Accuracy = 0.9084967, Loss = 0.0205422\n",
      "Epoch 237/1000: Accuracy = 0.9084967, Loss = 0.0205518\n",
      "Epoch 238/1000: Accuracy = 0.9084967, Loss = 0.0205103\n",
      "Epoch 239/1000: Accuracy = 0.9084967, Loss = 0.0205337\n",
      "Epoch 240/1000: Accuracy = 0.9084967, Loss = 0.0204901\n",
      "Epoch 241/1000: Accuracy = 0.9117647, Loss = 0.0204651\n",
      "Epoch 242/1000: Accuracy = 0.9084967, Loss = 0.0204793\n",
      "Epoch 243/1000: Accuracy = 0.9084967, Loss = 0.0204757\n",
      "Epoch 244/1000: Accuracy = 0.9150327, Loss = 0.0204347\n",
      "Epoch 245/1000: Accuracy = 0.9183007, Loss = 0.0204197\n",
      "Epoch 246/1000: Accuracy = 0.9117647, Loss = 0.0204288\n",
      "Epoch 247/1000: Accuracy = 0.9183007, Loss = 0.0204284\n",
      "Epoch 248/1000: Accuracy = 0.9215686, Loss = 0.0203916\n",
      "Epoch 249/1000: Accuracy = 0.9248366, Loss = 0.0203766\n",
      "Epoch 250/1000: Accuracy = 0.9183007, Loss = 0.0203878\n",
      "Epoch 251/1000: Accuracy = 0.9281046, Loss = 0.0203494\n",
      "Epoch 252/1000: Accuracy = 0.9313725, Loss = 0.0203426\n",
      "Epoch 253/1000: Accuracy = 0.9281046, Loss = 0.0203520\n",
      "Epoch 254/1000: Accuracy = 0.9313725, Loss = 0.0203389\n",
      "Epoch 255/1000: Accuracy = 0.9313725, Loss = 0.0203210\n",
      "Epoch 256/1000: Accuracy = 0.9346405, Loss = 0.0203103\n",
      "Epoch 257/1000: Accuracy = 0.9346405, Loss = 0.0202790\n",
      "Epoch 258/1000: Accuracy = 0.9346405, Loss = 0.0202837\n",
      "Epoch 259/1000: Accuracy = 0.9346405, Loss = 0.0202960\n",
      "Epoch 260/1000: Accuracy = 0.9379085, Loss = 0.0202856\n",
      "Epoch 261/1000: Accuracy = 0.9379085, Loss = 0.0202544\n",
      "Epoch 262/1000: Accuracy = 0.9379085, Loss = 0.0202798\n",
      "Epoch 263/1000: Accuracy = 0.9379085, Loss = 0.0202715\n",
      "Epoch 264/1000: Accuracy = 0.9379085, Loss = 0.0202341\n",
      "Epoch 265/1000: Accuracy = 0.9411765, Loss = 0.0202247\n",
      "Epoch 266/1000: Accuracy = 0.9411765, Loss = 0.0202319\n",
      "Epoch 267/1000: Accuracy = 0.9411765, Loss = 0.0201990\n",
      "Epoch 268/1000: Accuracy = 0.9444444, Loss = 0.0201864\n",
      "Epoch 269/1000: Accuracy = 0.9444444, Loss = 0.0201714\n",
      "Epoch 270/1000: Accuracy = 0.9444444, Loss = 0.0201718\n",
      "Epoch 271/1000: Accuracy = 0.9477124, Loss = 0.0201508\n",
      "Epoch 272/1000: Accuracy = 0.9444444, Loss = 0.0201240\n",
      "Epoch 273/1000: Accuracy = 0.9509804, Loss = 0.0201255\n",
      "Epoch 274/1000: Accuracy = 0.9444444, Loss = 0.0201494\n",
      "Epoch 275/1000: Accuracy = 0.9542484, Loss = 0.0201343\n",
      "Epoch 276/1000: Accuracy = 0.9542484, Loss = 0.0201164\n",
      "Epoch 277/1000: Accuracy = 0.9575163, Loss = 0.0201073\n",
      "Epoch 278/1000: Accuracy = 0.9575163, Loss = 0.0200969\n",
      "Epoch 279/1000: Accuracy = 0.9607843, Loss = 0.0200732\n",
      "Epoch 280/1000: Accuracy = 0.9607843, Loss = 0.0200747\n",
      "Epoch 281/1000: Accuracy = 0.9607843, Loss = 0.0200864\n",
      "Epoch 282/1000: Accuracy = 0.9640523, Loss = 0.0200324\n",
      "Epoch 283/1000: Accuracy = 0.9640523, Loss = 0.0200428\n",
      "Epoch 284/1000: Accuracy = 0.9640523, Loss = 0.0200320\n",
      "Epoch 285/1000: Accuracy = 0.9607843, Loss = 0.0200426\n",
      "Epoch 286/1000: Accuracy = 0.9738562, Loss = 0.0200161\n",
      "Epoch 287/1000: Accuracy = 0.9673203, Loss = 0.0200108\n",
      "Epoch 288/1000: Accuracy = 0.9738562, Loss = 0.0200025\n",
      "Epoch 289/1000: Accuracy = 0.9738562, Loss = 0.0199757\n",
      "Epoch 290/1000: Accuracy = 0.9771242, Loss = 0.0199775\n",
      "Epoch 291/1000: Accuracy = 0.9738562, Loss = 0.0199621\n",
      "Epoch 292/1000: Accuracy = 0.9738562, Loss = 0.0199580\n",
      "Epoch 293/1000: Accuracy = 0.9738562, Loss = 0.0199546\n",
      "Epoch 294/1000: Accuracy = 0.9771242, Loss = 0.0199168\n",
      "Epoch 295/1000: Accuracy = 0.9803922, Loss = 0.0199176\n",
      "Epoch 296/1000: Accuracy = 0.9771242, Loss = 0.0199064\n",
      "Epoch 297/1000: Accuracy = 0.9738562, Loss = 0.0199227\n",
      "Epoch 298/1000: Accuracy = 0.9738562, Loss = 0.0199120\n",
      "Epoch 299/1000: Accuracy = 0.9738562, Loss = 0.0198960\n",
      "Epoch 300/1000: Accuracy = 0.9803922, Loss = 0.0199017\n",
      "Epoch 301/1000: Accuracy = 0.9836601, Loss = 0.0198723\n",
      "Epoch 302/1000: Accuracy = 0.9836601, Loss = 0.0198657\n",
      "Epoch 303/1000: Accuracy = 0.9803922, Loss = 0.0198645\n",
      "Epoch 304/1000: Accuracy = 0.9803922, Loss = 0.0198579\n",
      "Epoch 305/1000: Accuracy = 0.9803922, Loss = 0.0198351\n",
      "Epoch 306/1000: Accuracy = 0.9869281, Loss = 0.0198497\n",
      "Epoch 307/1000: Accuracy = 0.9836601, Loss = 0.0198346\n",
      "Epoch 308/1000: Accuracy = 0.9836601, Loss = 0.0198298\n",
      "Epoch 309/1000: Accuracy = 0.9869281, Loss = 0.0198365\n",
      "Epoch 310/1000: Accuracy = 0.9869281, Loss = 0.0198117\n",
      "Epoch 311/1000: Accuracy = 0.9836601, Loss = 0.0197785\n"
     ]
    },
    {
     "name": "stdout",
     "output_type": "stream",
     "text": [
      "Epoch 312/1000: Accuracy = 0.9869281, Loss = 0.0198118\n",
      "Epoch 313/1000: Accuracy = 0.9869281, Loss = 0.0197874\n",
      "Epoch 314/1000: Accuracy = 0.9869281, Loss = 0.0197601\n",
      "Epoch 315/1000: Accuracy = 0.9869281, Loss = 0.0197798\n",
      "Epoch 316/1000: Accuracy = 0.9869281, Loss = 0.0197577\n",
      "Epoch 317/1000: Accuracy = 0.9869281, Loss = 0.0197621\n",
      "Epoch 318/1000: Accuracy = 0.9901961, Loss = 0.0197600\n",
      "Epoch 319/1000: Accuracy = 0.9869281, Loss = 0.0197278\n",
      "Epoch 320/1000: Accuracy = 0.9901961, Loss = 0.0197191\n",
      "Epoch 321/1000: Accuracy = 0.9869281, Loss = 0.0197177\n",
      "Epoch 322/1000: Accuracy = 0.9869281, Loss = 0.0197086\n",
      "Epoch 323/1000: Accuracy = 0.9869281, Loss = 0.0197110\n",
      "Epoch 324/1000: Accuracy = 0.9869281, Loss = 0.0197216\n",
      "Epoch 325/1000: Accuracy = 0.9869281, Loss = 0.0196994\n",
      "Epoch 326/1000: Accuracy = 0.9901961, Loss = 0.0196748\n",
      "Epoch 327/1000: Accuracy = 0.9869281, Loss = 0.0196873\n",
      "Epoch 328/1000: Accuracy = 0.9901961, Loss = 0.0196841\n",
      "Epoch 329/1000: Accuracy = 0.9901961, Loss = 0.0196708\n",
      "Epoch 330/1000: Accuracy = 0.9901961, Loss = 0.0196717\n",
      "Epoch 331/1000: Accuracy = 0.9869281, Loss = 0.0196345\n",
      "Epoch 332/1000: Accuracy = 0.9901961, Loss = 0.0196499\n",
      "Epoch 333/1000: Accuracy = 0.9901961, Loss = 0.0196415\n",
      "Epoch 334/1000: Accuracy = 0.9901961, Loss = 0.0196391\n",
      "Epoch 335/1000: Accuracy = 0.9901961, Loss = 0.0196291\n",
      "Epoch 336/1000: Accuracy = 0.9901961, Loss = 0.0196056\n",
      "Epoch 337/1000: Accuracy = 0.9901961, Loss = 0.0196133\n",
      "Epoch 338/1000: Accuracy = 0.9901961, Loss = 0.0196160\n",
      "Epoch 339/1000: Accuracy = 0.9901961, Loss = 0.0196096\n",
      "Epoch 340/1000: Accuracy = 0.9901961, Loss = 0.0195833\n",
      "Epoch 341/1000: Accuracy = 0.9901961, Loss = 0.0195892\n",
      "Epoch 342/1000: Accuracy = 0.9901961, Loss = 0.0195814\n",
      "Epoch 343/1000: Accuracy = 0.9901961, Loss = 0.0195770\n",
      "Epoch 344/1000: Accuracy = 0.9901961, Loss = 0.0195493\n",
      "Epoch 345/1000: Accuracy = 0.9901961, Loss = 0.0195485\n",
      "Epoch 346/1000: Accuracy = 0.9901961, Loss = 0.0195484\n",
      "Epoch 347/1000: Accuracy = 0.9901961, Loss = 0.0195546\n",
      "Epoch 348/1000: Accuracy = 0.9901961, Loss = 0.0195190\n",
      "Epoch 349/1000: Accuracy = 0.9901961, Loss = 0.0195284\n",
      "Epoch 350/1000: Accuracy = 0.9901961, Loss = 0.0195200\n",
      "Epoch 351/1000: Accuracy = 0.9901961, Loss = 0.0195114\n",
      "Epoch 352/1000: Accuracy = 0.9901961, Loss = 0.0195239\n",
      "Epoch 353/1000: Accuracy = 0.9901961, Loss = 0.0194920\n",
      "Epoch 354/1000: Accuracy = 0.9901961, Loss = 0.0195004\n",
      "Epoch 355/1000: Accuracy = 0.9901961, Loss = 0.0194779\n",
      "Epoch 356/1000: Accuracy = 0.9901961, Loss = 0.0195035\n",
      "Epoch 357/1000: Accuracy = 0.9901961, Loss = 0.0194687\n",
      "Epoch 358/1000: Accuracy = 0.9901961, Loss = 0.0194471\n",
      "Epoch 359/1000: Accuracy = 0.9901961, Loss = 0.0194656\n",
      "Epoch 360/1000: Accuracy = 0.9901961, Loss = 0.0194644\n",
      "Epoch 361/1000: Accuracy = 0.9901961, Loss = 0.0194421\n",
      "Epoch 362/1000: Accuracy = 0.9901961, Loss = 0.0194405\n",
      "Epoch 363/1000: Accuracy = 0.9901961, Loss = 0.0194458\n",
      "Epoch 364/1000: Accuracy = 0.9901961, Loss = 0.0194312\n",
      "Epoch 365/1000: Accuracy = 0.9901961, Loss = 0.0194296\n",
      "Epoch 366/1000: Accuracy = 0.9901961, Loss = 0.0194294\n",
      "Epoch 367/1000: Accuracy = 0.9901961, Loss = 0.0194123\n",
      "Epoch 368/1000: Accuracy = 0.9901961, Loss = 0.0194006\n",
      "Epoch 369/1000: Accuracy = 0.9901961, Loss = 0.0194096\n",
      "Epoch 370/1000: Accuracy = 0.9901961, Loss = 0.0194020\n",
      "Epoch 371/1000: Accuracy = 0.9901961, Loss = 0.0193738\n",
      "Epoch 372/1000: Accuracy = 0.9901961, Loss = 0.0193814\n",
      "Epoch 373/1000: Accuracy = 0.9901961, Loss = 0.0193802\n",
      "Epoch 374/1000: Accuracy = 0.9901961, Loss = 0.0193727\n",
      "Epoch 375/1000: Accuracy = 0.9901961, Loss = 0.0193631\n",
      "Epoch 376/1000: Accuracy = 0.9901961, Loss = 0.0193451\n",
      "Epoch 377/1000: Accuracy = 0.9901961, Loss = 0.0193501\n",
      "Epoch 378/1000: Accuracy = 0.9901961, Loss = 0.0193558\n",
      "Epoch 379/1000: Accuracy = 0.9901961, Loss = 0.0193478\n",
      "Epoch 380/1000: Accuracy = 0.9901961, Loss = 0.0193351\n",
      "Epoch 381/1000: Accuracy = 0.9901961, Loss = 0.0193483\n",
      "Epoch 382/1000: Accuracy = 0.9901961, Loss = 0.0193314\n",
      "Epoch 383/1000: Accuracy = 0.9901961, Loss = 0.0193282\n",
      "Epoch 384/1000: Accuracy = 0.9901961, Loss = 0.0193067\n",
      "Epoch 385/1000: Accuracy = 0.9901961, Loss = 0.0193109\n",
      "Epoch 386/1000: Accuracy = 0.9934641, Loss = 0.0193113\n",
      "Epoch 387/1000: Accuracy = 0.9934641, Loss = 0.0193072\n",
      "Epoch 388/1000: Accuracy = 0.9901961, Loss = 0.0192867\n",
      "Epoch 389/1000: Accuracy = 0.9901961, Loss = 0.0192914\n",
      "Epoch 390/1000: Accuracy = 0.9901961, Loss = 0.0192943\n",
      "Epoch 391/1000: Accuracy = 0.9934641, Loss = 0.0192633\n",
      "Epoch 392/1000: Accuracy = 0.9901961, Loss = 0.0192747\n",
      "Epoch 393/1000: Accuracy = 0.9934641, Loss = 0.0192879\n",
      "Epoch 394/1000: Accuracy = 0.9934641, Loss = 0.0192622\n",
      "Epoch 395/1000: Accuracy = 0.9934641, Loss = 0.0192412\n",
      "Epoch 396/1000: Accuracy = 0.9934641, Loss = 0.0192553\n",
      "Epoch 397/1000: Accuracy = 0.9934641, Loss = 0.0192453\n",
      "Epoch 398/1000: Accuracy = 0.9934641, Loss = 0.0192485\n",
      "Epoch 399/1000: Accuracy = 0.9934641, Loss = 0.0192233\n",
      "Epoch 400/1000: Accuracy = 0.9934641, Loss = 0.0192370\n",
      "Epoch 401/1000: Accuracy = 0.9934641, Loss = 0.0192344\n",
      "Epoch 402/1000: Accuracy = 0.9934641, Loss = 0.0192294\n",
      "Epoch 403/1000: Accuracy = 0.9934641, Loss = 0.0192092\n",
      "Epoch 404/1000: Accuracy = 0.9934641, Loss = 0.0192270\n",
      "Epoch 405/1000: Accuracy = 0.9934641, Loss = 0.0192146\n",
      "Epoch 406/1000: Accuracy = 0.9934641, Loss = 0.0192185\n",
      "Epoch 407/1000: Accuracy = 0.9934641, Loss = 0.0191871\n",
      "Epoch 408/1000: Accuracy = 0.9934641, Loss = 0.0192033\n",
      "Epoch 409/1000: Accuracy = 0.9934641, Loss = 0.0191875\n",
      "Epoch 410/1000: Accuracy = 0.9934641, Loss = 0.0191655\n",
      "Epoch 411/1000: Accuracy = 0.9934641, Loss = 0.0191675\n",
      "Epoch 412/1000: Accuracy = 0.9934641, Loss = 0.0191802\n",
      "Epoch 413/1000: Accuracy = 0.9934641, Loss = 0.0191629\n",
      "Epoch 414/1000: Accuracy = 0.9934641, Loss = 0.0191575\n",
      "Epoch 415/1000: Accuracy = 0.9934641, Loss = 0.0191521\n",
      "Epoch 416/1000: Accuracy = 0.9934641, Loss = 0.0191478\n",
      "Epoch 417/1000: Accuracy = 0.9934641, Loss = 0.0191585\n",
      "Epoch 418/1000: Accuracy = 0.9934641, Loss = 0.0191226\n",
      "Epoch 419/1000: Accuracy = 0.9934641, Loss = 0.0191520\n",
      "Epoch 420/1000: Accuracy = 0.9934641, Loss = 0.0191405\n",
      "Epoch 421/1000: Accuracy = 0.9934641, Loss = 0.0191312\n",
      "Epoch 422/1000: Accuracy = 0.9934641, Loss = 0.0191250\n",
      "Epoch 423/1000: Accuracy = 0.9934641, Loss = 0.0191071\n",
      "Epoch 424/1000: Accuracy = 0.9934641, Loss = 0.0191064\n",
      "Epoch 425/1000: Accuracy = 0.9934641, Loss = 0.0191156\n",
      "Epoch 426/1000: Accuracy = 0.9934641, Loss = 0.0191161\n",
      "Epoch 427/1000: Accuracy = 0.9934641, Loss = 0.0191030\n",
      "Epoch 428/1000: Accuracy = 0.9934641, Loss = 0.0191088\n",
      "Epoch 429/1000: Accuracy = 0.9967320, Loss = 0.0190942\n",
      "Epoch 430/1000: Accuracy = 0.9934641, Loss = 0.0190947\n",
      "Epoch 431/1000: Accuracy = 0.9934641, Loss = 0.0190830\n",
      "Epoch 432/1000: Accuracy = 0.9934641, Loss = 0.0190848\n",
      "Epoch 433/1000: Accuracy = 0.9934641, Loss = 0.0190785\n",
      "Epoch 434/1000: Accuracy = 0.9934641, Loss = 0.0190820\n",
      "Epoch 435/1000: Accuracy = 0.9967320, Loss = 0.0190644\n",
      "Epoch 436/1000: Accuracy = 0.9967320, Loss = 0.0190653\n",
      "Epoch 437/1000: Accuracy = 0.9934641, Loss = 0.0190536\n",
      "Epoch 438/1000: Accuracy = 0.9934641, Loss = 0.0190478\n",
      "Epoch 439/1000: Accuracy = 0.9934641, Loss = 0.0190562\n",
      "Epoch 440/1000: Accuracy = 0.9967320, Loss = 0.0190455\n",
      "Epoch 441/1000: Accuracy = 0.9967320, Loss = 0.0190319\n",
      "Epoch 442/1000: Accuracy = 0.9967320, Loss = 0.0190414\n",
      "Epoch 443/1000: Accuracy = 0.9967320, Loss = 0.0190244\n",
      "Epoch 444/1000: Accuracy = 0.9967320, Loss = 0.0190445\n",
      "Epoch 445/1000: Accuracy = 0.9967320, Loss = 0.0190305\n",
      "Epoch 446/1000: Accuracy = 0.9967320, Loss = 0.0190210\n",
      "Epoch 447/1000: Accuracy = 0.9967320, Loss = 0.0190447\n",
      "Epoch 448/1000: Accuracy = 0.9967320, Loss = 0.0190085\n",
      "Epoch 449/1000: Accuracy = 0.9967320, Loss = 0.0190202\n",
      "Epoch 450/1000: Accuracy = 0.9967320, Loss = 0.0189908\n",
      "Epoch 451/1000: Accuracy = 0.9967320, Loss = 0.0190117\n",
      "Epoch 452/1000: Accuracy = 0.9967320, Loss = 0.0189824\n",
      "Epoch 453/1000: Accuracy = 0.9967320, Loss = 0.0189893\n",
      "Epoch 454/1000: Accuracy = 0.9967320, Loss = 0.0189946\n",
      "Epoch 455/1000: Accuracy = 0.9967320, Loss = 0.0189859\n",
      "Epoch 456/1000: Accuracy = 0.9967320, Loss = 0.0189946\n",
      "Epoch 457/1000: Accuracy = 0.9967320, Loss = 0.0189605\n",
      "Epoch 458/1000: Accuracy = 0.9967320, Loss = 0.0189736\n",
      "Epoch 459/1000: Accuracy = 0.9967320, Loss = 0.0189758\n",
      "Epoch 460/1000: Accuracy = 0.9967320, Loss = 0.0189589\n",
      "Epoch 461/1000: Accuracy = 0.9967320, Loss = 0.0189544\n",
      "Epoch 462/1000: Accuracy = 0.9967320, Loss = 0.0189466\n",
      "Epoch 463/1000: Accuracy = 0.9967320, Loss = 0.0189463\n",
      "Epoch 464/1000: Accuracy = 0.9967320, Loss = 0.0189462\n",
      "Epoch 465/1000: Accuracy = 0.9967320, Loss = 0.0189444\n",
      "Epoch 466/1000: Accuracy = 0.9967320, Loss = 0.0189336\n",
      "Epoch 467/1000: Accuracy = 0.9967320, Loss = 0.0189348\n",
      "Epoch 468/1000: Accuracy = 0.9967320, Loss = 0.0189330\n",
      "Epoch 469/1000: Accuracy = 0.9967320, Loss = 0.0189405\n",
      "Epoch 470/1000: Accuracy = 0.9967320, Loss = 0.0189268\n"
     ]
    },
    {
     "name": "stdout",
     "output_type": "stream",
     "text": [
      "Epoch 471/1000: Accuracy = 0.9967320, Loss = 0.0189275\n",
      "Epoch 472/1000: Accuracy = 0.9967320, Loss = 0.0189202\n",
      "Epoch 473/1000: Accuracy = 0.9967320, Loss = 0.0189127\n",
      "Epoch 474/1000: Accuracy = 0.9967320, Loss = 0.0189035\n",
      "Epoch 475/1000: Accuracy = 0.9967320, Loss = 0.0189091\n",
      "Epoch 476/1000: Accuracy = 0.9967320, Loss = 0.0189077\n",
      "Epoch 477/1000: Accuracy = 0.9967320, Loss = 0.0189075\n",
      "Epoch 478/1000: Accuracy = 0.9967320, Loss = 0.0188884\n",
      "Epoch 479/1000: Accuracy = 0.9967320, Loss = 0.0188945\n",
      "Epoch 480/1000: Accuracy = 0.9967320, Loss = 0.0188826\n",
      "Epoch 481/1000: Accuracy = 0.9967320, Loss = 0.0188787\n",
      "Epoch 482/1000: Accuracy = 0.9967320, Loss = 0.0188839\n",
      "Epoch 483/1000: Accuracy = 0.9967320, Loss = 0.0188787\n",
      "Epoch 484/1000: Accuracy = 0.9967320, Loss = 0.0188668\n",
      "Epoch 485/1000: Accuracy = 0.9967320, Loss = 0.0188706\n",
      "Epoch 486/1000: Accuracy = 0.9967320, Loss = 0.0188728\n",
      "Epoch 487/1000: Accuracy = 0.9967320, Loss = 0.0188602\n",
      "Epoch 488/1000: Accuracy = 0.9967320, Loss = 0.0188598\n",
      "Epoch 489/1000: Accuracy = 0.9967320, Loss = 0.0188550\n",
      "Epoch 490/1000: Accuracy = 0.9967320, Loss = 0.0188449\n",
      "Epoch 491/1000: Accuracy = 0.9967320, Loss = 0.0188393\n",
      "Epoch 492/1000: Accuracy = 0.9967320, Loss = 0.0188433\n",
      "Epoch 493/1000: Accuracy = 0.9967320, Loss = 0.0188264\n",
      "Epoch 494/1000: Accuracy = 0.9967320, Loss = 0.0188439\n",
      "Epoch 495/1000: Accuracy = 0.9967320, Loss = 0.0188304\n",
      "Epoch 496/1000: Accuracy = 0.9967320, Loss = 0.0188304\n",
      "Epoch 497/1000: Accuracy = 0.9967320, Loss = 0.0188243\n",
      "Epoch 498/1000: Accuracy = 0.9967320, Loss = 0.0188236\n",
      "Epoch 499/1000: Accuracy = 0.9967320, Loss = 0.0188112\n",
      "Epoch 500/1000: Accuracy = 0.9967320, Loss = 0.0188257\n",
      "Epoch 501/1000: Accuracy = 0.9967320, Loss = 0.0188175\n",
      "Epoch 502/1000: Accuracy = 0.9967320, Loss = 0.0188145\n",
      "Epoch 503/1000: Accuracy = 0.9967320, Loss = 0.0187993\n",
      "Epoch 504/1000: Accuracy = 0.9967320, Loss = 0.0188139\n",
      "Epoch 505/1000: Accuracy = 0.9967320, Loss = 0.0188064\n",
      "Epoch 506/1000: Accuracy = 0.9967320, Loss = 0.0187970\n",
      "Epoch 507/1000: Accuracy = 0.9967320, Loss = 0.0187912\n",
      "Epoch 508/1000: Accuracy = 0.9967320, Loss = 0.0187910\n",
      "Epoch 509/1000: Accuracy = 0.9967320, Loss = 0.0187832\n",
      "Epoch 510/1000: Accuracy = 0.9967320, Loss = 0.0187745\n",
      "Epoch 511/1000: Accuracy = 0.9967320, Loss = 0.0187895\n",
      "Epoch 512/1000: Accuracy = 0.9967320, Loss = 0.0187864\n",
      "Epoch 513/1000: Accuracy = 0.9967320, Loss = 0.0187606\n",
      "Epoch 514/1000: Accuracy = 0.9967320, Loss = 0.0187643\n",
      "Epoch 515/1000: Accuracy = 0.9967320, Loss = 0.0187630\n",
      "Epoch 516/1000: Accuracy = 0.9967320, Loss = 0.0187514\n",
      "Epoch 517/1000: Accuracy = 0.9967320, Loss = 0.0187677\n",
      "Epoch 518/1000: Accuracy = 0.9967320, Loss = 0.0187538\n",
      "Epoch 519/1000: Accuracy = 0.9967320, Loss = 0.0187527\n",
      "Epoch 520/1000: Accuracy = 0.9967320, Loss = 0.0187629\n",
      "Epoch 521/1000: Accuracy = 0.9967320, Loss = 0.0187559\n",
      "Epoch 522/1000: Accuracy = 0.9967320, Loss = 0.0187450\n",
      "Epoch 523/1000: Accuracy = 0.9967320, Loss = 0.0187362\n",
      "Epoch 524/1000: Accuracy = 0.9967320, Loss = 0.0187378\n",
      "Epoch 525/1000: Accuracy = 0.9967320, Loss = 0.0187310\n",
      "Epoch 526/1000: Accuracy = 0.9967320, Loss = 0.0187106\n",
      "Epoch 527/1000: Accuracy = 0.9967320, Loss = 0.0187235\n",
      "Epoch 528/1000: Accuracy = 0.9967320, Loss = 0.0187309\n",
      "Epoch 529/1000: Accuracy = 0.9967320, Loss = 0.0187258\n",
      "Epoch 530/1000: Accuracy = 0.9967320, Loss = 0.0187014\n",
      "Epoch 531/1000: Accuracy = 0.9967320, Loss = 0.0187262\n",
      "Epoch 532/1000: Accuracy = 0.9967320, Loss = 0.0187229\n",
      "Epoch 533/1000: Accuracy = 0.9967320, Loss = 0.0186992\n",
      "Epoch 534/1000: Accuracy = 0.9967320, Loss = 0.0187180\n",
      "Epoch 535/1000: Accuracy = 0.9967320, Loss = 0.0187110\n",
      "Epoch 536/1000: Accuracy = 0.9967320, Loss = 0.0186962\n",
      "Epoch 537/1000: Accuracy = 0.9967320, Loss = 0.0186845\n",
      "Epoch 538/1000: Accuracy = 0.9967320, Loss = 0.0186786\n",
      "Epoch 539/1000: Accuracy = 0.9967320, Loss = 0.0187154\n",
      "Epoch 540/1000: Accuracy = 0.9967320, Loss = 0.0186861\n",
      "Epoch 541/1000: Accuracy = 0.9967320, Loss = 0.0186906\n",
      "Epoch 542/1000: Accuracy = 0.9967320, Loss = 0.0186735\n",
      "Epoch 543/1000: Accuracy = 0.9967320, Loss = 0.0186870\n",
      "Epoch 544/1000: Accuracy = 0.9967320, Loss = 0.0186716\n",
      "Epoch 545/1000: Accuracy = 0.9967320, Loss = 0.0186888\n",
      "Epoch 546/1000: Accuracy = 0.9967320, Loss = 0.0186726\n",
      "Epoch 547/1000: Accuracy = 0.9967320, Loss = 0.0186805\n",
      "Epoch 548/1000: Accuracy = 0.9967320, Loss = 0.0186575\n",
      "Epoch 549/1000: Accuracy = 0.9967320, Loss = 0.0186645\n",
      "Epoch 550/1000: Accuracy = 0.9967320, Loss = 0.0186702\n",
      "Epoch 551/1000: Accuracy = 0.9967320, Loss = 0.0186516\n",
      "Epoch 552/1000: Accuracy = 0.9967320, Loss = 0.0186441\n",
      "Epoch 553/1000: Accuracy = 0.9967320, Loss = 0.0186618\n",
      "Epoch 554/1000: Accuracy = 0.9967320, Loss = 0.0186447\n",
      "Epoch 555/1000: Accuracy = 0.9967320, Loss = 0.0186560\n",
      "Epoch 556/1000: Accuracy = 0.9967320, Loss = 0.0186480\n",
      "Epoch 557/1000: Accuracy = 0.9967320, Loss = 0.0186341\n",
      "Epoch 558/1000: Accuracy = 0.9967320, Loss = 0.0186170\n",
      "Epoch 559/1000: Accuracy = 0.9967320, Loss = 0.0186362\n",
      "Epoch 560/1000: Accuracy = 0.9967320, Loss = 0.0186287\n",
      "Epoch 561/1000: Accuracy = 0.9967320, Loss = 0.0186403\n",
      "Epoch 562/1000: Accuracy = 0.9967320, Loss = 0.0186351\n",
      "Epoch 563/1000: Accuracy = 0.9967320, Loss = 0.0186168\n",
      "Epoch 564/1000: Accuracy = 0.9967320, Loss = 0.0186216\n",
      "Epoch 565/1000: Accuracy = 0.9967320, Loss = 0.0186189\n",
      "Epoch 566/1000: Accuracy = 0.9967320, Loss = 0.0186178\n",
      "Epoch 567/1000: Accuracy = 0.9967320, Loss = 0.0186283\n",
      "Epoch 568/1000: Accuracy = 0.9967320, Loss = 0.0186142\n",
      "Epoch 569/1000: Accuracy = 0.9967320, Loss = 0.0186155\n",
      "Epoch 570/1000: Accuracy = 0.9967320, Loss = 0.0185993\n",
      "Epoch 571/1000: Accuracy = 0.9967320, Loss = 0.0186186\n",
      "Epoch 572/1000: Accuracy = 0.9967320, Loss = 0.0186228\n",
      "Epoch 573/1000: Accuracy = 0.9967320, Loss = 0.0186048\n",
      "Epoch 574/1000: Accuracy = 0.9967320, Loss = 0.0185949\n",
      "Epoch 575/1000: Accuracy = 0.9967320, Loss = 0.0185947\n",
      "Epoch 576/1000: Accuracy = 0.9967320, Loss = 0.0186021\n",
      "Epoch 577/1000: Accuracy = 0.9967320, Loss = 0.0185997\n",
      "Epoch 578/1000: Accuracy = 0.9967320, Loss = 0.0185974\n",
      "Epoch 579/1000: Accuracy = 0.9967320, Loss = 0.0185856\n",
      "Epoch 580/1000: Accuracy = 0.9967320, Loss = 0.0185744\n",
      "Epoch 581/1000: Accuracy = 0.9967320, Loss = 0.0185875\n",
      "Epoch 582/1000: Accuracy = 0.9967320, Loss = 0.0185818\n",
      "Epoch 583/1000: Accuracy = 0.9967320, Loss = 0.0185886\n",
      "Epoch 584/1000: Accuracy = 0.9967320, Loss = 0.0185819\n",
      "Epoch 585/1000: Accuracy = 0.9967320, Loss = 0.0185715\n",
      "Epoch 586/1000: Accuracy = 0.9967320, Loss = 0.0185744\n",
      "Epoch 587/1000: Accuracy = 0.9967320, Loss = 0.0185675\n",
      "Epoch 588/1000: Accuracy = 0.9967320, Loss = 0.0185708\n",
      "Epoch 589/1000: Accuracy = 0.9967320, Loss = 0.0185602\n",
      "Epoch 590/1000: Accuracy = 0.9967320, Loss = 0.0185597\n",
      "Epoch 591/1000: Accuracy = 0.9967320, Loss = 0.0185786\n",
      "Epoch 592/1000: Accuracy = 0.9967320, Loss = 0.0185614\n",
      "Epoch 593/1000: Accuracy = 0.9967320, Loss = 0.0185475\n",
      "Epoch 594/1000: Accuracy = 0.9967320, Loss = 0.0185485\n",
      "Epoch 595/1000: Accuracy = 0.9967320, Loss = 0.0185456\n",
      "Epoch 596/1000: Accuracy = 0.9967320, Loss = 0.0185460\n",
      "Epoch 597/1000: Accuracy = 0.9967320, Loss = 0.0185544\n",
      "Epoch 598/1000: Accuracy = 0.9967320, Loss = 0.0185525\n",
      "Epoch 599/1000: Accuracy = 0.9967320, Loss = 0.0185419\n",
      "Epoch 600/1000: Accuracy = 0.9967320, Loss = 0.0185324\n",
      "Epoch 601/1000: Accuracy = 0.9967320, Loss = 0.0185515\n",
      "Epoch 602/1000: Accuracy = 0.9967320, Loss = 0.0185338\n",
      "Epoch 603/1000: Accuracy = 0.9967320, Loss = 0.0185245\n",
      "Epoch 604/1000: Accuracy = 0.9967320, Loss = 0.0185136\n",
      "Epoch 605/1000: Accuracy = 0.9967320, Loss = 0.0185161\n",
      "Epoch 606/1000: Accuracy = 0.9967320, Loss = 0.0185084\n",
      "Epoch 607/1000: Accuracy = 0.9967320, Loss = 0.0185044\n",
      "Epoch 608/1000: Accuracy = 0.9967320, Loss = 0.0185232\n",
      "Epoch 609/1000: Accuracy = 0.9967320, Loss = 0.0185191\n",
      "Epoch 610/1000: Accuracy = 0.9967320, Loss = 0.0185077\n",
      "Epoch 611/1000: Accuracy = 0.9967320, Loss = 0.0185101\n",
      "Epoch 612/1000: Accuracy = 0.9967320, Loss = 0.0184996\n",
      "Epoch 613/1000: Accuracy = 0.9967320, Loss = 0.0184976\n",
      "Epoch 614/1000: Accuracy = 0.9967320, Loss = 0.0185097\n",
      "Epoch 615/1000: Accuracy = 0.9967320, Loss = 0.0185018\n",
      "Epoch 616/1000: Accuracy = 0.9967320, Loss = 0.0185027\n",
      "Epoch 617/1000: Accuracy = 0.9967320, Loss = 0.0184986\n",
      "Epoch 618/1000: Accuracy = 0.9967320, Loss = 0.0184815\n",
      "Epoch 619/1000: Accuracy = 0.9967320, Loss = 0.0184860\n",
      "Epoch 620/1000: Accuracy = 0.9967320, Loss = 0.0184783\n",
      "Epoch 621/1000: Accuracy = 0.9967320, Loss = 0.0184973\n",
      "Epoch 622/1000: Accuracy = 0.9967320, Loss = 0.0184818\n",
      "Epoch 623/1000: Accuracy = 0.9967320, Loss = 0.0184785\n",
      "Epoch 624/1000: Accuracy = 0.9967320, Loss = 0.0184849\n",
      "Epoch 625/1000: Accuracy = 0.9967320, Loss = 0.0184765\n"
     ]
    },
    {
     "name": "stdout",
     "output_type": "stream",
     "text": [
      "Epoch 626/1000: Accuracy = 0.9967320, Loss = 0.0184906\n",
      "Epoch 627/1000: Accuracy = 0.9967320, Loss = 0.0184715\n",
      "Epoch 628/1000: Accuracy = 0.9967320, Loss = 0.0184828\n",
      "Epoch 629/1000: Accuracy = 0.9967320, Loss = 0.0184585\n",
      "Epoch 630/1000: Accuracy = 0.9967320, Loss = 0.0184591\n",
      "Epoch 631/1000: Accuracy = 0.9967320, Loss = 0.0184561\n",
      "Epoch 632/1000: Accuracy = 0.9967320, Loss = 0.0184555\n",
      "Epoch 633/1000: Accuracy = 0.9967320, Loss = 0.0184666\n",
      "Epoch 634/1000: Accuracy = 0.9967320, Loss = 0.0184522\n",
      "Epoch 635/1000: Accuracy = 0.9967320, Loss = 0.0184594\n",
      "Epoch 636/1000: Accuracy = 0.9967320, Loss = 0.0184722\n",
      "Epoch 637/1000: Accuracy = 0.9967320, Loss = 0.0184666\n",
      "Epoch 638/1000: Accuracy = 0.9967320, Loss = 0.0184468\n",
      "Epoch 639/1000: Accuracy = 0.9967320, Loss = 0.0184500\n",
      "Epoch 640/1000: Accuracy = 0.9967320, Loss = 0.0184467\n",
      "Epoch 641/1000: Accuracy = 0.9967320, Loss = 0.0184379\n",
      "Epoch 642/1000: Accuracy = 0.9967320, Loss = 0.0184466\n",
      "Epoch 643/1000: Accuracy = 0.9967320, Loss = 0.0184509\n",
      "Epoch 644/1000: Accuracy = 0.9967320, Loss = 0.0184346\n",
      "Epoch 645/1000: Accuracy = 0.9967320, Loss = 0.0184351\n",
      "Epoch 646/1000: Accuracy = 0.9967320, Loss = 0.0184409\n",
      "Epoch 647/1000: Accuracy = 0.9967320, Loss = 0.0184315\n",
      "Epoch 648/1000: Accuracy = 0.9967320, Loss = 0.0184276\n",
      "Epoch 649/1000: Accuracy = 0.9967320, Loss = 0.0184390\n",
      "Epoch 650/1000: Accuracy = 0.9967320, Loss = 0.0184142\n",
      "Epoch 651/1000: Accuracy = 0.9967320, Loss = 0.0184205\n",
      "Epoch 652/1000: Accuracy = 0.9967320, Loss = 0.0184242\n",
      "Epoch 653/1000: Accuracy = 0.9967320, Loss = 0.0184132\n",
      "Epoch 654/1000: Accuracy = 0.9967320, Loss = 0.0184140\n",
      "Epoch 655/1000: Accuracy = 0.9967320, Loss = 0.0184041\n",
      "Epoch 656/1000: Accuracy = 0.9967320, Loss = 0.0184113\n",
      "Epoch 657/1000: Accuracy = 0.9967320, Loss = 0.0184226\n",
      "Epoch 658/1000: Accuracy = 0.9967320, Loss = 0.0184126\n",
      "Epoch 659/1000: Accuracy = 0.9967320, Loss = 0.0184212\n",
      "Epoch 660/1000: Accuracy = 0.9967320, Loss = 0.0184122\n",
      "Epoch 661/1000: Accuracy = 0.9967320, Loss = 0.0183949\n",
      "Epoch 662/1000: Accuracy = 0.9967320, Loss = 0.0184015\n",
      "Epoch 663/1000: Accuracy = 0.9967320, Loss = 0.0183905\n",
      "Epoch 664/1000: Accuracy = 0.9967320, Loss = 0.0184146\n",
      "Epoch 665/1000: Accuracy = 0.9967320, Loss = 0.0183985\n",
      "Epoch 666/1000: Accuracy = 0.9967320, Loss = 0.0183929\n",
      "Epoch 667/1000: Accuracy = 0.9967320, Loss = 0.0183817\n",
      "Epoch 668/1000: Accuracy = 0.9967320, Loss = 0.0183976\n",
      "Epoch 669/1000: Accuracy = 0.9967320, Loss = 0.0183829\n",
      "Epoch 670/1000: Accuracy = 0.9967320, Loss = 0.0183858\n",
      "Epoch 671/1000: Accuracy = 0.9967320, Loss = 0.0183931\n",
      "Epoch 672/1000: Accuracy = 0.9967320, Loss = 0.0183743\n",
      "Epoch 673/1000: Accuracy = 0.9967320, Loss = 0.0183818\n",
      "Epoch 674/1000: Accuracy = 0.9967320, Loss = 0.0183780\n",
      "Epoch 675/1000: Accuracy = 0.9967320, Loss = 0.0183735\n",
      "Epoch 676/1000: Accuracy = 0.9967320, Loss = 0.0183767\n",
      "Epoch 677/1000: Accuracy = 0.9967320, Loss = 0.0183732\n",
      "Epoch 678/1000: Accuracy = 0.9967320, Loss = 0.0183667\n",
      "Epoch 679/1000: Accuracy = 0.9967320, Loss = 0.0183707\n",
      "Epoch 680/1000: Accuracy = 0.9967320, Loss = 0.0183810\n",
      "Epoch 681/1000: Accuracy = 0.9967320, Loss = 0.0183693\n",
      "Epoch 682/1000: Accuracy = 1.0000000, Loss = 0.0183610\n",
      "Epoch 683/1000: Accuracy = 0.9967320, Loss = 0.0183758\n",
      "Epoch 684/1000: Accuracy = 0.9967320, Loss = 0.0183542\n",
      "Epoch 685/1000: Accuracy = 0.9967320, Loss = 0.0183536\n",
      "Epoch 686/1000: Accuracy = 0.9967320, Loss = 0.0183630\n",
      "Epoch 687/1000: Accuracy = 0.9967320, Loss = 0.0183563\n",
      "Epoch 688/1000: Accuracy = 0.9967320, Loss = 0.0183693\n",
      "Epoch 689/1000: Accuracy = 0.9967320, Loss = 0.0183502\n",
      "Epoch 690/1000: Accuracy = 0.9967320, Loss = 0.0183479\n",
      "Epoch 691/1000: Accuracy = 0.9967320, Loss = 0.0183429\n",
      "Epoch 692/1000: Accuracy = 0.9967320, Loss = 0.0183461\n",
      "Epoch 693/1000: Accuracy = 0.9967320, Loss = 0.0183501\n",
      "Epoch 694/1000: Accuracy = 0.9967320, Loss = 0.0183387\n",
      "Epoch 695/1000: Accuracy = 0.9967320, Loss = 0.0183366\n",
      "Epoch 696/1000: Accuracy = 0.9967320, Loss = 0.0183349\n",
      "Epoch 697/1000: Accuracy = 0.9967320, Loss = 0.0183445\n",
      "Epoch 698/1000: Accuracy = 0.9967320, Loss = 0.0183417\n",
      "Epoch 699/1000: Accuracy = 0.9967320, Loss = 0.0183208\n",
      "Epoch 700/1000: Accuracy = 0.9967320, Loss = 0.0183238\n",
      "Epoch 701/1000: Accuracy = 0.9967320, Loss = 0.0183294\n",
      "Epoch 702/1000: Accuracy = 0.9967320, Loss = 0.0183208\n",
      "Epoch 703/1000: Accuracy = 0.9967320, Loss = 0.0183340\n",
      "Epoch 704/1000: Accuracy = 0.9967320, Loss = 0.0183282\n",
      "Epoch 705/1000: Accuracy = 0.9967320, Loss = 0.0183175\n",
      "Epoch 706/1000: Accuracy = 0.9967320, Loss = 0.0183250\n",
      "Epoch 707/1000: Accuracy = 0.9967320, Loss = 0.0183136\n",
      "Epoch 708/1000: Accuracy = 0.9967320, Loss = 0.0183241\n",
      "Epoch 709/1000: Accuracy = 0.9967320, Loss = 0.0183291\n",
      "Epoch 710/1000: Accuracy = 0.9967320, Loss = 0.0183153\n",
      "Epoch 711/1000: Accuracy = 0.9967320, Loss = 0.0183172\n",
      "Epoch 712/1000: Accuracy = 1.0000000, Loss = 0.0183028\n",
      "Epoch 713/1000: Accuracy = 1.0000000, Loss = 0.0183034\n",
      "Epoch 714/1000: Accuracy = 0.9967320, Loss = 0.0183090\n",
      "Epoch 715/1000: Accuracy = 0.9967320, Loss = 0.0183135\n",
      "Epoch 716/1000: Accuracy = 1.0000000, Loss = 0.0183109\n",
      "Epoch 717/1000: Accuracy = 0.9967320, Loss = 0.0183112\n",
      "Epoch 718/1000: Accuracy = 0.9967320, Loss = 0.0182924\n",
      "Epoch 719/1000: Accuracy = 0.9967320, Loss = 0.0182937\n",
      "Epoch 720/1000: Accuracy = 1.0000000, Loss = 0.0182911\n",
      "Epoch 721/1000: Accuracy = 0.9967320, Loss = 0.0182844\n",
      "Epoch 722/1000: Accuracy = 0.9967320, Loss = 0.0182873\n",
      "Epoch 723/1000: Accuracy = 0.9967320, Loss = 0.0182970\n",
      "Epoch 724/1000: Accuracy = 0.9967320, Loss = 0.0182921\n",
      "Epoch 725/1000: Accuracy = 0.9967320, Loss = 0.0182909\n",
      "Epoch 726/1000: Accuracy = 1.0000000, Loss = 0.0182879\n",
      "Epoch 727/1000: Accuracy = 1.0000000, Loss = 0.0182866\n",
      "Epoch 728/1000: Accuracy = 1.0000000, Loss = 0.0182766\n",
      "Epoch 729/1000: Accuracy = 1.0000000, Loss = 0.0182792\n",
      "Epoch 730/1000: Accuracy = 0.9967320, Loss = 0.0182819\n",
      "Epoch 731/1000: Accuracy = 0.9967320, Loss = 0.0182779\n",
      "Epoch 732/1000: Accuracy = 0.9967320, Loss = 0.0182818\n",
      "Epoch 733/1000: Accuracy = 0.9967320, Loss = 0.0182800\n",
      "Epoch 734/1000: Accuracy = 1.0000000, Loss = 0.0182808\n",
      "Epoch 735/1000: Accuracy = 1.0000000, Loss = 0.0182780\n",
      "Epoch 736/1000: Accuracy = 1.0000000, Loss = 0.0182685\n",
      "Epoch 737/1000: Accuracy = 1.0000000, Loss = 0.0182707\n",
      "Epoch 738/1000: Accuracy = 1.0000000, Loss = 0.0182691\n",
      "Epoch 739/1000: Accuracy = 0.9967320, Loss = 0.0182827\n",
      "Epoch 740/1000: Accuracy = 1.0000000, Loss = 0.0182617\n",
      "Epoch 741/1000: Accuracy = 1.0000000, Loss = 0.0182714\n",
      "Epoch 742/1000: Accuracy = 1.0000000, Loss = 0.0182657\n",
      "Epoch 743/1000: Accuracy = 1.0000000, Loss = 0.0182731\n",
      "Epoch 744/1000: Accuracy = 1.0000000, Loss = 0.0182505\n",
      "Epoch 745/1000: Accuracy = 1.0000000, Loss = 0.0182513\n",
      "Epoch 746/1000: Accuracy = 1.0000000, Loss = 0.0182476\n",
      "Epoch 747/1000: Accuracy = 1.0000000, Loss = 0.0182550\n",
      "Epoch 748/1000: Accuracy = 1.0000000, Loss = 0.0182586\n",
      "Epoch 749/1000: Accuracy = 1.0000000, Loss = 0.0182459\n",
      "Epoch 750/1000: Accuracy = 1.0000000, Loss = 0.0182511\n",
      "Epoch 751/1000: Accuracy = 1.0000000, Loss = 0.0182630\n",
      "Epoch 752/1000: Accuracy = 1.0000000, Loss = 0.0182380\n",
      "Epoch 753/1000: Accuracy = 1.0000000, Loss = 0.0182451\n",
      "Epoch 754/1000: Accuracy = 1.0000000, Loss = 0.0182461\n",
      "Epoch 755/1000: Accuracy = 1.0000000, Loss = 0.0182388\n",
      "Epoch 756/1000: Accuracy = 1.0000000, Loss = 0.0182431\n",
      "Epoch 757/1000: Accuracy = 1.0000000, Loss = 0.0182639\n",
      "Epoch 758/1000: Accuracy = 1.0000000, Loss = 0.0182366\n",
      "Epoch 759/1000: Accuracy = 1.0000000, Loss = 0.0182368\n",
      "Epoch 760/1000: Accuracy = 1.0000000, Loss = 0.0182389\n",
      "Epoch 761/1000: Accuracy = 1.0000000, Loss = 0.0182312\n",
      "Epoch 762/1000: Accuracy = 1.0000000, Loss = 0.0182317\n",
      "Epoch 763/1000: Accuracy = 1.0000000, Loss = 0.0182470\n",
      "Epoch 764/1000: Accuracy = 1.0000000, Loss = 0.0182293\n",
      "Epoch 765/1000: Accuracy = 1.0000000, Loss = 0.0182197\n",
      "Epoch 766/1000: Accuracy = 1.0000000, Loss = 0.0182312\n",
      "Epoch 767/1000: Accuracy = 1.0000000, Loss = 0.0182249\n",
      "Epoch 768/1000: Accuracy = 1.0000000, Loss = 0.0182286\n",
      "Epoch 769/1000: Accuracy = 1.0000000, Loss = 0.0182276\n",
      "Epoch 770/1000: Accuracy = 1.0000000, Loss = 0.0182188\n",
      "Epoch 771/1000: Accuracy = 1.0000000, Loss = 0.0182304\n",
      "Epoch 772/1000: Accuracy = 1.0000000, Loss = 0.0182157\n",
      "Epoch 773/1000: Accuracy = 1.0000000, Loss = 0.0182131\n",
      "Epoch 774/1000: Accuracy = 1.0000000, Loss = 0.0182205\n",
      "Epoch 775/1000: Accuracy = 1.0000000, Loss = 0.0182090\n",
      "Epoch 776/1000: Accuracy = 1.0000000, Loss = 0.0182198\n",
      "Epoch 777/1000: Accuracy = 1.0000000, Loss = 0.0182035\n",
      "Epoch 778/1000: Accuracy = 1.0000000, Loss = 0.0182070\n",
      "Epoch 779/1000: Accuracy = 1.0000000, Loss = 0.0182139\n",
      "Epoch 780/1000: Accuracy = 1.0000000, Loss = 0.0182124\n",
      "Epoch 781/1000: Accuracy = 1.0000000, Loss = 0.0182077\n"
     ]
    },
    {
     "name": "stdout",
     "output_type": "stream",
     "text": [
      "Epoch 782/1000: Accuracy = 1.0000000, Loss = 0.0182101\n",
      "Epoch 783/1000: Accuracy = 1.0000000, Loss = 0.0182052\n",
      "Epoch 784/1000: Accuracy = 1.0000000, Loss = 0.0182029\n",
      "Epoch 785/1000: Accuracy = 1.0000000, Loss = 0.0181971\n",
      "Epoch 786/1000: Accuracy = 1.0000000, Loss = 0.0182088\n",
      "Epoch 787/1000: Accuracy = 1.0000000, Loss = 0.0182077\n",
      "Epoch 788/1000: Accuracy = 1.0000000, Loss = 0.0181967\n",
      "Epoch 789/1000: Accuracy = 1.0000000, Loss = 0.0181944\n",
      "Epoch 790/1000: Accuracy = 1.0000000, Loss = 0.0181989\n",
      "Epoch 791/1000: Accuracy = 1.0000000, Loss = 0.0181939\n",
      "Epoch 792/1000: Accuracy = 1.0000000, Loss = 0.0181957\n",
      "Epoch 793/1000: Accuracy = 1.0000000, Loss = 0.0181873\n",
      "Epoch 794/1000: Accuracy = 1.0000000, Loss = 0.0181829\n",
      "Epoch 795/1000: Accuracy = 1.0000000, Loss = 0.0181813\n",
      "Epoch 796/1000: Accuracy = 1.0000000, Loss = 0.0181859\n",
      "Epoch 797/1000: Accuracy = 1.0000000, Loss = 0.0181825\n",
      "Epoch 798/1000: Accuracy = 1.0000000, Loss = 0.0181780\n",
      "Epoch 799/1000: Accuracy = 1.0000000, Loss = 0.0181785\n",
      "Epoch 800/1000: Accuracy = 1.0000000, Loss = 0.0181717\n",
      "Epoch 801/1000: Accuracy = 1.0000000, Loss = 0.0181840\n",
      "Epoch 802/1000: Accuracy = 1.0000000, Loss = 0.0181710\n",
      "Epoch 803/1000: Accuracy = 1.0000000, Loss = 0.0181719\n",
      "Epoch 804/1000: Accuracy = 1.0000000, Loss = 0.0181772\n",
      "Epoch 805/1000: Accuracy = 1.0000000, Loss = 0.0181692\n",
      "Epoch 806/1000: Accuracy = 1.0000000, Loss = 0.0181788\n",
      "Epoch 807/1000: Accuracy = 1.0000000, Loss = 0.0181803\n",
      "Epoch 808/1000: Accuracy = 1.0000000, Loss = 0.0181635\n",
      "Epoch 809/1000: Accuracy = 1.0000000, Loss = 0.0181710\n",
      "Epoch 810/1000: Accuracy = 1.0000000, Loss = 0.0181725\n",
      "Epoch 811/1000: Accuracy = 1.0000000, Loss = 0.0181688\n",
      "Epoch 812/1000: Accuracy = 1.0000000, Loss = 0.0181778\n",
      "Epoch 813/1000: Accuracy = 1.0000000, Loss = 0.0181638\n",
      "Epoch 814/1000: Accuracy = 1.0000000, Loss = 0.0181614\n",
      "Epoch 815/1000: Accuracy = 1.0000000, Loss = 0.0181599\n",
      "Epoch 816/1000: Accuracy = 1.0000000, Loss = 0.0181685\n",
      "Epoch 817/1000: Accuracy = 1.0000000, Loss = 0.0181536\n",
      "Epoch 818/1000: Accuracy = 1.0000000, Loss = 0.0181532\n",
      "Epoch 819/1000: Accuracy = 1.0000000, Loss = 0.0181535\n",
      "Epoch 820/1000: Accuracy = 1.0000000, Loss = 0.0181720\n",
      "Epoch 821/1000: Accuracy = 1.0000000, Loss = 0.0181568\n",
      "Epoch 822/1000: Accuracy = 1.0000000, Loss = 0.0181631\n",
      "Epoch 823/1000: Accuracy = 1.0000000, Loss = 0.0181541\n",
      "Epoch 824/1000: Accuracy = 1.0000000, Loss = 0.0181468\n",
      "Epoch 825/1000: Accuracy = 1.0000000, Loss = 0.0181377\n",
      "Epoch 826/1000: Accuracy = 1.0000000, Loss = 0.0181476\n",
      "Epoch 827/1000: Accuracy = 1.0000000, Loss = 0.0181554\n",
      "Epoch 828/1000: Accuracy = 1.0000000, Loss = 0.0181446\n",
      "Epoch 829/1000: Accuracy = 1.0000000, Loss = 0.0181406\n",
      "Epoch 830/1000: Accuracy = 1.0000000, Loss = 0.0181451\n",
      "Epoch 831/1000: Accuracy = 1.0000000, Loss = 0.0181385\n",
      "Epoch 832/1000: Accuracy = 1.0000000, Loss = 0.0181457\n",
      "Epoch 833/1000: Accuracy = 1.0000000, Loss = 0.0181441\n",
      "Epoch 834/1000: Accuracy = 1.0000000, Loss = 0.0181380\n",
      "Epoch 835/1000: Accuracy = 1.0000000, Loss = 0.0181345\n",
      "Epoch 836/1000: Accuracy = 1.0000000, Loss = 0.0181323\n",
      "Epoch 837/1000: Accuracy = 1.0000000, Loss = 0.0181357\n",
      "Epoch 838/1000: Accuracy = 1.0000000, Loss = 0.0181336\n",
      "Epoch 839/1000: Accuracy = 1.0000000, Loss = 0.0181266\n",
      "Epoch 840/1000: Accuracy = 1.0000000, Loss = 0.0181329\n",
      "Epoch 841/1000: Accuracy = 1.0000000, Loss = 0.0181324\n",
      "Epoch 842/1000: Accuracy = 1.0000000, Loss = 0.0181249\n",
      "Epoch 843/1000: Accuracy = 1.0000000, Loss = 0.0181235\n",
      "Epoch 844/1000: Accuracy = 1.0000000, Loss = 0.0181131\n",
      "Epoch 845/1000: Accuracy = 1.0000000, Loss = 0.0181253\n",
      "Epoch 846/1000: Accuracy = 1.0000000, Loss = 0.0181220\n",
      "Epoch 847/1000: Accuracy = 1.0000000, Loss = 0.0181246\n",
      "Epoch 848/1000: Accuracy = 1.0000000, Loss = 0.0181228\n",
      "Epoch 849/1000: Accuracy = 1.0000000, Loss = 0.0181193\n",
      "Epoch 850/1000: Accuracy = 1.0000000, Loss = 0.0181156\n",
      "Epoch 851/1000: Accuracy = 1.0000000, Loss = 0.0181079\n",
      "Epoch 852/1000: Accuracy = 1.0000000, Loss = 0.0181175\n",
      "Epoch 853/1000: Accuracy = 1.0000000, Loss = 0.0181215\n",
      "Epoch 854/1000: Accuracy = 1.0000000, Loss = 0.0181148\n",
      "Epoch 855/1000: Accuracy = 1.0000000, Loss = 0.0181130\n",
      "Epoch 856/1000: Accuracy = 1.0000000, Loss = 0.0181129\n",
      "Epoch 857/1000: Accuracy = 1.0000000, Loss = 0.0181161\n",
      "Epoch 858/1000: Accuracy = 1.0000000, Loss = 0.0181134\n",
      "Epoch 859/1000: Accuracy = 1.0000000, Loss = 0.0181034\n",
      "Epoch 860/1000: Accuracy = 1.0000000, Loss = 0.0181056\n",
      "Epoch 861/1000: Accuracy = 1.0000000, Loss = 0.0181120\n",
      "Epoch 862/1000: Accuracy = 1.0000000, Loss = 0.0181060\n",
      "Epoch 863/1000: Accuracy = 1.0000000, Loss = 0.0180982\n",
      "Epoch 864/1000: Accuracy = 1.0000000, Loss = 0.0180988\n",
      "Epoch 865/1000: Accuracy = 1.0000000, Loss = 0.0181064\n",
      "Epoch 866/1000: Accuracy = 1.0000000, Loss = 0.0181029\n",
      "Epoch 867/1000: Accuracy = 1.0000000, Loss = 0.0180954\n",
      "Epoch 868/1000: Accuracy = 1.0000000, Loss = 0.0180829\n",
      "Epoch 869/1000: Accuracy = 1.0000000, Loss = 0.0181026\n",
      "Epoch 870/1000: Accuracy = 1.0000000, Loss = 0.0180931\n",
      "Epoch 871/1000: Accuracy = 1.0000000, Loss = 0.0180899\n",
      "Epoch 872/1000: Accuracy = 1.0000000, Loss = 0.0181062\n",
      "Epoch 873/1000: Accuracy = 1.0000000, Loss = 0.0180873\n",
      "Epoch 874/1000: Accuracy = 1.0000000, Loss = 0.0180894\n",
      "Epoch 875/1000: Accuracy = 1.0000000, Loss = 0.0180917\n",
      "Epoch 876/1000: Accuracy = 1.0000000, Loss = 0.0180929\n",
      "Epoch 877/1000: Accuracy = 1.0000000, Loss = 0.0180982\n",
      "Epoch 878/1000: Accuracy = 1.0000000, Loss = 0.0180825\n",
      "Epoch 879/1000: Accuracy = 1.0000000, Loss = 0.0180858\n",
      "Epoch 880/1000: Accuracy = 1.0000000, Loss = 0.0180803\n",
      "Epoch 881/1000: Accuracy = 1.0000000, Loss = 0.0180763\n",
      "Epoch 882/1000: Accuracy = 1.0000000, Loss = 0.0180821\n",
      "Epoch 883/1000: Accuracy = 1.0000000, Loss = 0.0180835\n",
      "Epoch 884/1000: Accuracy = 1.0000000, Loss = 0.0180870\n",
      "Epoch 885/1000: Accuracy = 1.0000000, Loss = 0.0180670\n",
      "Epoch 886/1000: Accuracy = 1.0000000, Loss = 0.0180783\n",
      "Epoch 887/1000: Accuracy = 1.0000000, Loss = 0.0180867\n",
      "Epoch 888/1000: Accuracy = 1.0000000, Loss = 0.0180844\n",
      "Epoch 889/1000: Accuracy = 1.0000000, Loss = 0.0180798\n",
      "Epoch 890/1000: Accuracy = 1.0000000, Loss = 0.0180767\n",
      "Epoch 891/1000: Accuracy = 1.0000000, Loss = 0.0180869\n",
      "Epoch 892/1000: Accuracy = 1.0000000, Loss = 0.0180628\n",
      "Epoch 893/1000: Accuracy = 1.0000000, Loss = 0.0180746\n",
      "Epoch 894/1000: Accuracy = 1.0000000, Loss = 0.0180725\n",
      "Epoch 895/1000: Accuracy = 1.0000000, Loss = 0.0180646\n",
      "Epoch 896/1000: Accuracy = 1.0000000, Loss = 0.0180752\n",
      "Epoch 897/1000: Accuracy = 1.0000000, Loss = 0.0180587\n",
      "Epoch 898/1000: Accuracy = 1.0000000, Loss = 0.0180702\n",
      "Epoch 899/1000: Accuracy = 1.0000000, Loss = 0.0180654\n",
      "Epoch 900/1000: Accuracy = 1.0000000, Loss = 0.0180646\n",
      "Epoch 901/1000: Accuracy = 1.0000000, Loss = 0.0180555\n",
      "Epoch 902/1000: Accuracy = 1.0000000, Loss = 0.0180555\n",
      "Epoch 903/1000: Accuracy = 1.0000000, Loss = 0.0180563\n",
      "Epoch 904/1000: Accuracy = 1.0000000, Loss = 0.0180654\n",
      "Epoch 905/1000: Accuracy = 1.0000000, Loss = 0.0180465\n",
      "Epoch 906/1000: Accuracy = 1.0000000, Loss = 0.0180488\n",
      "Epoch 907/1000: Accuracy = 1.0000000, Loss = 0.0180551\n",
      "Epoch 908/1000: Accuracy = 1.0000000, Loss = 0.0180546\n",
      "Epoch 909/1000: Accuracy = 1.0000000, Loss = 0.0180466\n",
      "Epoch 910/1000: Accuracy = 1.0000000, Loss = 0.0180581\n",
      "Epoch 911/1000: Accuracy = 1.0000000, Loss = 0.0180512\n",
      "Epoch 912/1000: Accuracy = 1.0000000, Loss = 0.0180424\n",
      "Epoch 913/1000: Accuracy = 1.0000000, Loss = 0.0180430\n",
      "Epoch 914/1000: Accuracy = 1.0000000, Loss = 0.0180516\n",
      "Epoch 915/1000: Accuracy = 1.0000000, Loss = 0.0180465\n",
      "Epoch 916/1000: Accuracy = 1.0000000, Loss = 0.0180463\n",
      "Epoch 917/1000: Accuracy = 1.0000000, Loss = 0.0180538\n",
      "Epoch 918/1000: Accuracy = 1.0000000, Loss = 0.0180557\n",
      "Epoch 919/1000: Accuracy = 1.0000000, Loss = 0.0180549\n",
      "Epoch 920/1000: Accuracy = 1.0000000, Loss = 0.0180452\n",
      "Epoch 921/1000: Accuracy = 1.0000000, Loss = 0.0180385\n",
      "Epoch 922/1000: Accuracy = 1.0000000, Loss = 0.0180391\n",
      "Epoch 923/1000: Accuracy = 1.0000000, Loss = 0.0180444\n",
      "Epoch 924/1000: Accuracy = 1.0000000, Loss = 0.0180509\n",
      "Epoch 925/1000: Accuracy = 1.0000000, Loss = 0.0180422\n",
      "Epoch 926/1000: Accuracy = 1.0000000, Loss = 0.0180275\n",
      "Epoch 927/1000: Accuracy = 1.0000000, Loss = 0.0180331\n",
      "Epoch 928/1000: Accuracy = 1.0000000, Loss = 0.0180329\n",
      "Epoch 929/1000: Accuracy = 1.0000000, Loss = 0.0180384\n",
      "Epoch 930/1000: Accuracy = 1.0000000, Loss = 0.0180334\n",
      "Epoch 931/1000: Accuracy = 1.0000000, Loss = 0.0180305\n",
      "Epoch 932/1000: Accuracy = 1.0000000, Loss = 0.0180340\n"
     ]
    },
    {
     "name": "stdout",
     "output_type": "stream",
     "text": [
      "Epoch 933/1000: Accuracy = 1.0000000, Loss = 0.0180104\n",
      "Epoch 934/1000: Accuracy = 1.0000000, Loss = 0.0180256\n",
      "Epoch 935/1000: Accuracy = 1.0000000, Loss = 0.0180315\n",
      "Epoch 936/1000: Accuracy = 1.0000000, Loss = 0.0180344\n",
      "Epoch 937/1000: Accuracy = 1.0000000, Loss = 0.0180144\n",
      "Epoch 938/1000: Accuracy = 1.0000000, Loss = 0.0180315\n",
      "Epoch 939/1000: Accuracy = 1.0000000, Loss = 0.0180232\n",
      "Epoch 940/1000: Accuracy = 1.0000000, Loss = 0.0180177\n",
      "Epoch 941/1000: Accuracy = 1.0000000, Loss = 0.0180255\n",
      "Epoch 942/1000: Accuracy = 1.0000000, Loss = 0.0180187\n",
      "Epoch 943/1000: Accuracy = 1.0000000, Loss = 0.0180096\n",
      "Epoch 944/1000: Accuracy = 1.0000000, Loss = 0.0180238\n",
      "Epoch 945/1000: Accuracy = 1.0000000, Loss = 0.0180349\n",
      "Epoch 946/1000: Accuracy = 1.0000000, Loss = 0.0180237\n",
      "Epoch 947/1000: Accuracy = 1.0000000, Loss = 0.0180097\n",
      "Epoch 948/1000: Accuracy = 1.0000000, Loss = 0.0180169\n",
      "Epoch 949/1000: Accuracy = 1.0000000, Loss = 0.0180270\n",
      "Epoch 950/1000: Accuracy = 1.0000000, Loss = 0.0180196\n",
      "Epoch 951/1000: Accuracy = 1.0000000, Loss = 0.0180074\n",
      "Epoch 952/1000: Accuracy = 1.0000000, Loss = 0.0180082\n",
      "Epoch 953/1000: Accuracy = 1.0000000, Loss = 0.0180042\n",
      "Epoch 954/1000: Accuracy = 1.0000000, Loss = 0.0180061\n",
      "Epoch 955/1000: Accuracy = 1.0000000, Loss = 0.0180042\n",
      "Epoch 956/1000: Accuracy = 1.0000000, Loss = 0.0180133\n",
      "Epoch 957/1000: Accuracy = 1.0000000, Loss = 0.0180130\n",
      "Epoch 958/1000: Accuracy = 1.0000000, Loss = 0.0180099\n",
      "Epoch 959/1000: Accuracy = 1.0000000, Loss = 0.0180079\n",
      "Epoch 960/1000: Accuracy = 1.0000000, Loss = 0.0180025\n",
      "Epoch 961/1000: Accuracy = 1.0000000, Loss = 0.0180083\n",
      "Epoch 962/1000: Accuracy = 1.0000000, Loss = 0.0180198\n",
      "Epoch 963/1000: Accuracy = 1.0000000, Loss = 0.0180047\n",
      "Epoch 964/1000: Accuracy = 1.0000000, Loss = 0.0180079\n",
      "Epoch 965/1000: Accuracy = 1.0000000, Loss = 0.0180005\n",
      "Epoch 966/1000: Accuracy = 1.0000000, Loss = 0.0179988\n",
      "Epoch 967/1000: Accuracy = 1.0000000, Loss = 0.0180005\n",
      "Epoch 968/1000: Accuracy = 1.0000000, Loss = 0.0179882\n",
      "Epoch 969/1000: Accuracy = 1.0000000, Loss = 0.0179959\n",
      "Epoch 970/1000: Accuracy = 1.0000000, Loss = 0.0179925\n",
      "Epoch 971/1000: Accuracy = 1.0000000, Loss = 0.0179852\n",
      "Epoch 972/1000: Accuracy = 1.0000000, Loss = 0.0179897\n",
      "Epoch 973/1000: Accuracy = 1.0000000, Loss = 0.0179925\n",
      "Epoch 974/1000: Accuracy = 1.0000000, Loss = 0.0179941\n",
      "Epoch 975/1000: Accuracy = 1.0000000, Loss = 0.0179871\n",
      "Epoch 976/1000: Accuracy = 1.0000000, Loss = 0.0180071\n",
      "Epoch 977/1000: Accuracy = 1.0000000, Loss = 0.0179828\n",
      "Epoch 978/1000: Accuracy = 1.0000000, Loss = 0.0179792\n",
      "Epoch 979/1000: Accuracy = 1.0000000, Loss = 0.0179833\n",
      "Epoch 980/1000: Accuracy = 1.0000000, Loss = 0.0179820\n",
      "Epoch 981/1000: Accuracy = 1.0000000, Loss = 0.0179936\n",
      "Epoch 982/1000: Accuracy = 1.0000000, Loss = 0.0179850\n",
      "Epoch 983/1000: Accuracy = 1.0000000, Loss = 0.0179767\n",
      "Epoch 984/1000: Accuracy = 1.0000000, Loss = 0.0179922\n",
      "Epoch 985/1000: Accuracy = 1.0000000, Loss = 0.0179758\n",
      "Epoch 986/1000: Accuracy = 1.0000000, Loss = 0.0179905\n",
      "Epoch 987/1000: Accuracy = 1.0000000, Loss = 0.0179757\n",
      "Epoch 988/1000: Accuracy = 1.0000000, Loss = 0.0179902\n",
      "Epoch 989/1000: Accuracy = 1.0000000, Loss = 0.0179744\n",
      "Epoch 990/1000: Accuracy = 1.0000000, Loss = 0.0179828\n",
      "Epoch 991/1000: Accuracy = 1.0000000, Loss = 0.0179781\n",
      "Epoch 992/1000: Accuracy = 1.0000000, Loss = 0.0179729\n",
      "Epoch 993/1000: Accuracy = 1.0000000, Loss = 0.0179724\n",
      "Epoch 994/1000: Accuracy = 1.0000000, Loss = 0.0179670\n",
      "Epoch 995/1000: Accuracy = 1.0000000, Loss = 0.0179698\n",
      "Epoch 996/1000: Accuracy = 1.0000000, Loss = 0.0179775\n",
      "Epoch 997/1000: Accuracy = 1.0000000, Loss = 0.0179733\n",
      "Epoch 998/1000: Accuracy = 1.0000000, Loss = 0.0179698\n",
      "Epoch 999/1000: Accuracy = 1.0000000, Loss = 0.0179622\n",
      "Epoch 1000/1000: Accuracy = 1.0000000, Loss = 0.0179685\n"
     ]
    }
   ],
   "source": [
    "# User-specific information\n",
    "user_id = 10\n",
    "\n",
    "# Initialize the MLP model\n",
    "model = MLP_Net(user_id, input_size, hidden_size1, hidden_size2, output_size)\n",
    "\n",
    "# Learning rate\n",
    "lr = 0.01\n",
    "\n",
    "# Create a DataLoader for the dataset\n",
    "dataloader = DataLoader(MyDataset(datapoints[19][\"features\"], datapoints[19][\"label\"]), batch_size=64, shuffle=True)\n",
    "\n",
    "# Define the optimizer\n",
    "optimizer = torch.optim.SGD(model.parameters(), lr=lr)\n",
    "\n",
    "\n",
    "losses = []\n",
    "\n",
    "acuracies = []\n",
    "\n",
    "# Training loop\n",
    "for epoch in range(1000):\n",
    "    batch_acc = 0\n",
    "    batch_s = 0\n",
    "    sum_loss = 0\n",
    "    data_points_length = 0\n",
    "    \n",
    "    # Iterate over batches in the DataLoader\n",
    "    for (x, y) in dataloader:\n",
    "        # Loss function\n",
    "        criterion = nn.CrossEntropyLoss()\n",
    "\n",
    "        # Zero the gradients\n",
    "        optimizer.zero_grad()\n",
    "\n",
    "        # Forward pass\n",
    "        yhat = model(x)\n",
    "\n",
    "        # Calculate accuracy\n",
    "        pred = torch.max(yhat, dim=1)[1]\n",
    "        batch_acc += (pred == y).sum().item()\n",
    "        batch_s += pred.size()[0]\n",
    "\n",
    "        # Calculate loss\n",
    "        loss = criterion(yhat, y)\n",
    "\n",
    "        # Backward pass\n",
    "        loss.backward()\n",
    "\n",
    "        # Update the optimizer\n",
    "        optimizer.step()\n",
    "\n",
    "        # Accumulate loss and data point count\n",
    "        sum_loss += loss.detach().item()\n",
    "        data_points_length += yhat.size()[0]\n",
    "    losses.append(sum_loss / data_points_length)\n",
    "    acuracies.append(batch_acc / batch_s)\n",
    "\n",
    "    # Print training statistics\n",
    "    print(f\"Epoch {epoch + 1}/{1000}: Accuracy = {batch_acc / batch_s:.7f}, Loss = {sum_loss / data_points_length:.7f}\")\n"
   ]
  },
  {
   "cell_type": "code",
   "execution_count": 13,
   "id": "256f348e",
   "metadata": {},
   "outputs": [
    {
     "data": {
      "text/plain": [
       "\"\\n# Plotting Accuracies\\nplt.figure(figsize=(12, 6))\\n\\nplt.subplot(1, 2, 1)  # 1 row, 2 columns, first subplot\\nplt.plot(acuracies, label='Accuracy')\\nplt.title('Accuracy Over Epochs')\\nplt.xlabel('Epoch')\\nplt.ylabel('Accuracy')\\nplt.legend()\\n\\n# Plotting Losses\\nplt.subplot(1, 2, 2)  # 1 row, 2 columns, second subplot\\nplt.plot(losses, label='Loss')\\nplt.title('Loss Over Epochs')\\nplt.xlabel('Epoch')\\nplt.ylabel('Loss')\\nplt.legend()\\n\\nplt.tight_layout()  # Ensures proper spacing between subplots\\nplt.show()\\n\""
      ]
     },
     "execution_count": 13,
     "metadata": {},
     "output_type": "execute_result"
    }
   ],
   "source": [
    "'''\n",
    "# Plotting Accuracies\n",
    "plt.figure(figsize=(12, 6))\n",
    "\n",
    "plt.subplot(1, 2, 1)  # 1 row, 2 columns, first subplot\n",
    "plt.plot(acuracies, label='Accuracy')\n",
    "plt.title('Accuracy Over Epochs')\n",
    "plt.xlabel('Epoch')\n",
    "plt.ylabel('Accuracy')\n",
    "plt.legend()\n",
    "\n",
    "# Plotting Losses\n",
    "plt.subplot(1, 2, 2)  # 1 row, 2 columns, second subplot\n",
    "plt.plot(losses, label='Loss')\n",
    "plt.title('Loss Over Epochs')\n",
    "plt.xlabel('Epoch')\n",
    "plt.ylabel('Loss')\n",
    "plt.legend()\n",
    "\n",
    "plt.tight_layout()  # Ensures proper spacing between subplots\n",
    "plt.show()\n",
    "'''"
   ]
  },
  {
   "cell_type": "code",
   "execution_count": 14,
   "id": "cb5fe42b",
   "metadata": {},
   "outputs": [],
   "source": [
    "class ClientUpdate(object):\n",
    "    def __init__(self, dataset, batchSize, alpha, lamda, epochs, projection_list, projected_weights):\n",
    "        self.train_loader = DataLoader(MyDataset(dataset[\"features\"], dataset[\"label\"]), batch_size=batchSize, shuffle=True)\n",
    "        #self.learning_rate = learning_rate\n",
    "        self.epochs = epochs\n",
    "        self.batchSize = batchSize\n",
    "\n",
    "    def train(self, model):\n",
    "        criterion = nn.CrossEntropyLoss()\n",
    "        optimizer = torch.optim.SGD(model.parameters(), lr=1e-3, momentum=0.5)\n",
    "\n",
    "        e_loss = []\n",
    "        for epoch in range(1, self.epochs+1):\n",
    "            train_loss = 0\n",
    "            model.train()\n",
    "            for i, (data, labels) in zip(range(1), self.train_loader):\n",
    "                data, labels = data, labels\n",
    "                optimizer.zero_grad() \n",
    "                output = model(data)  \n",
    "                loss = criterion(output, labels)\n",
    "                #loss += mu/2 * torch.norm(client_param.data - server_param.data)**2\n",
    "                loss.backward()\n",
    "                grads = grads_to_vector(model.parameters())\n",
    "                #optimizer.step()\n",
    "                train_loss += loss.item()*data.size(0)\n",
    "                weights = parameters_to_vector(model.parameters())\n",
    "                mat_vec_sum = torch.zeros_like(weights)\n",
    "                for j in G.neighbors(model.user_id):\n",
    "                    mat_vec_sum = torch.add(mat_vec_sum, torch.matmul(torch.transpose(projection_list[model.user_id][j], 0, 1), \n",
    "                                                         projected_weights[model.user_id][j] - projected_weights[j][model.user_id]))\n",
    "                \n",
    "                model_update = parameters_to_vector(model.parameters()) - alpha * (grads + lamda * mat_vec_sum)\n",
    "                \n",
    "            vector_to_parameters(parameters=model.parameters(), vec=model_update)\n",
    "                \n",
    "\n",
    "            train_loss = train_loss/self.batchSize#len(self.train_loader.dataset) \n",
    "            e_loss.append(train_loss)\n",
    "\n",
    "        total_loss = e_loss#sum(e_loss)/len(e_loss)\n",
    "\n",
    "        return model.state_dict(), total_loss"
   ]
  },
  {
   "cell_type": "code",
   "execution_count": 15,
   "id": "2eeef5b5",
   "metadata": {},
   "outputs": [],
   "source": [
    "# Preparing projection matrices\n",
    "models = [MLP_Net(i, input_size, hidden_size1, hidden_size2, output_size) for i in range(no_users)]\n",
    "#temp = MLP_Net()\n",
    "projection_list = []\n",
    "projected_weights = []\n",
    "\n",
    "def update_ProjWeight(projection_list, projected_weights, first_run=True):\n",
    "    #projected_weights = []\n",
    "    for i in range(no_users):\n",
    "        neighbors_mat = []\n",
    "        neighbors_weights = []\n",
    "        for j in range(no_users):\n",
    "            if j in G.neighbors(i):\n",
    "                with torch.no_grad():\n",
    "                    if first_run == True:\n",
    "                        row, column = embedding_dimension, parameters_to_vector(models[i].parameters()).size()[0]\n",
    "                        mat = torch.zeros((row, column))\n",
    "                        mat.fill_diagonal_(1.0 + 1.0 * float(np.random.randn(1)))\n",
    "                        neighbors_mat.append(mat)\n",
    "                        neighbors_weights.append(torch.matmul(mat, parameters_to_vector(models[i].parameters())))\n",
    "                    else:\n",
    "                        neighbors_weights.append(torch.matmul(projection_list[i][j], parameters_to_vector(models[i].parameters())))\n",
    "            else:\n",
    "                neighbors_mat.append(0)\n",
    "                neighbors_weights.append(0)\n",
    "        if first_run == True:\n",
    "            projection_list.append(neighbors_mat)\n",
    "        projected_weights.append(neighbors_weights)\n",
    "\n",
    "update_ProjWeight(projection_list, projected_weights)\n",
    "\n"
   ]
  },
  {
   "cell_type": "code",
   "execution_count": 16,
   "id": "7ba1b16d",
   "metadata": {},
   "outputs": [
    {
     "name": "stdout",
     "output_type": "stream",
     "text": [
      "Total parameters in the model: 3372\n",
      "Total weights in the model: 3372\n",
      "Total biases in the model: 0\n"
     ]
    }
   ],
   "source": [
    "total_params = sum(p.numel() for p in models[0].parameters())\n",
    "total_weights = sum(p.numel() for p in models[0].parameters() if p.requires_grad)\n",
    "total_biases = total_params - total_weights\n",
    "\n",
    "print(f'Total parameters in the model: {total_params}')\n",
    "print(f'Total weights in the model: {total_weights}')\n",
    "print(f'Total biases in the model: {total_biases}')"
   ]
  },
  {
   "cell_type": "code",
   "execution_count": 17,
   "id": "f733ee68",
   "metadata": {},
   "outputs": [
    {
     "ename": "AttributeError",
     "evalue": "'int' object has no attribute 'shape'",
     "output_type": "error",
     "traceback": [
      "\u001b[1;31m---------------------------------------------------------------------------\u001b[0m",
      "\u001b[1;31mAttributeError\u001b[0m                            Traceback (most recent call last)",
      "\u001b[1;32m<ipython-input-17-548e775fd703>\u001b[0m in \u001b[0;36m<module>\u001b[1;34m\u001b[0m\n\u001b[1;32m----> 1\u001b[1;33m \u001b[0mprint\u001b[0m\u001b[1;33m(\u001b[0m\u001b[0mprojection_list\u001b[0m\u001b[1;33m[\u001b[0m\u001b[1;36m0\u001b[0m\u001b[1;33m]\u001b[0m\u001b[1;33m[\u001b[0m\u001b[1;36m1\u001b[0m\u001b[1;33m]\u001b[0m\u001b[1;33m.\u001b[0m\u001b[0mshape\u001b[0m\u001b[1;33m)\u001b[0m\u001b[1;33m\u001b[0m\u001b[1;33m\u001b[0m\u001b[0m\n\u001b[0m",
      "\u001b[1;31mAttributeError\u001b[0m: 'int' object has no attribute 'shape'"
     ]
    }
   ],
   "source": [
    "print(projection_list[0][1].shape)"
   ]
  },
  {
   "cell_type": "code",
   "execution_count": 18,
   "id": "5f6059eb",
   "metadata": {},
   "outputs": [],
   "source": [
    "def testing(model, dataset, bs, criterion):\n",
    "    test_loss = 0\n",
    "    correct = 0\n",
    "    total_samples = 0\n",
    "\n",
    "    test_loader = DataLoader(MyDataset(X_test, y_test), batch_size=bs, shuffle=False)\n",
    "    \n",
    "    model.eval()\n",
    "\n",
    "    with torch.no_grad():\n",
    "        for data, labels in test_loader:\n",
    "            output = model(data)\n",
    "            loss = criterion(output, labels)\n",
    "            test_loss += loss.item() * data.size(0)\n",
    "\n",
    "            _, pred = torch.max(output, 1)\n",
    "            correct += pred.eq(labels.data.view_as(pred)).sum().item()\n",
    "            total_samples += labels.size(0)\n",
    "\n",
    "    test_loss /= len(test_loader.dataset)\n",
    "    test_accuracy = correct / total_samples\n",
    "\n",
    "    return test_loss, test_accuracy"
   ]
  },
  {
   "cell_type": "code",
   "execution_count": 19,
   "id": "b87006e0",
   "metadata": {},
   "outputs": [
    {
     "ename": "AttributeError",
     "evalue": "'int' object has no attribute 'shape'",
     "output_type": "error",
     "traceback": [
      "\u001b[1;31m---------------------------------------------------------------------------\u001b[0m",
      "\u001b[1;31mAttributeError\u001b[0m                            Traceback (most recent call last)",
      "\u001b[1;32m<ipython-input-19-5eefb927d9a8>\u001b[0m in \u001b[0;36m<module>\u001b[1;34m\u001b[0m\n\u001b[1;32m----> 1\u001b[1;33m \u001b[0mprojection_list\u001b[0m\u001b[1;33m[\u001b[0m\u001b[1;36m0\u001b[0m\u001b[1;33m]\u001b[0m\u001b[1;33m[\u001b[0m\u001b[1;36m6\u001b[0m\u001b[1;33m]\u001b[0m\u001b[1;33m.\u001b[0m\u001b[0mshape\u001b[0m\u001b[1;33m\u001b[0m\u001b[1;33m\u001b[0m\u001b[0m\n\u001b[0m",
      "\u001b[1;31mAttributeError\u001b[0m: 'int' object has no attribute 'shape'"
     ]
    }
   ],
   "source": [
    "projection_list[0][6].shape"
   ]
  },
  {
   "cell_type": "code",
   "execution_count": 20,
   "id": "71472693",
   "metadata": {},
   "outputs": [
    {
     "name": "stderr",
     "output_type": "stream",
     "text": [
      "  1%|          | 1/100 [00:10<17:03, 10.34s/it]"
     ]
    },
    {
     "name": "stdout",
     "output_type": "stream",
     "text": [
      "Training_loss 1.79231809,   0.13446602\n"
     ]
    },
    {
     "name": "stderr",
     "output_type": "stream",
     "text": [
      "\r",
      "  2%|▏         | 2/100 [00:20<16:20, 10.01s/it]"
     ]
    },
    {
     "name": "stdout",
     "output_type": "stream",
     "text": [
      "Training_loss 1.79166406,   0.13543689\n"
     ]
    },
    {
     "name": "stderr",
     "output_type": "stream",
     "text": [
      "\r",
      "  3%|▎         | 3/100 [00:30<16:43, 10.35s/it]"
     ]
    },
    {
     "name": "stdout",
     "output_type": "stream",
     "text": [
      "Training_loss 1.79117528,   0.13592233\n"
     ]
    },
    {
     "name": "stderr",
     "output_type": "stream",
     "text": [
      "\r",
      "  4%|▍         | 4/100 [00:40<16:17, 10.18s/it]"
     ]
    },
    {
     "name": "stdout",
     "output_type": "stream",
     "text": [
      "Training_loss 1.79066832,   0.13640777\n"
     ]
    },
    {
     "name": "stderr",
     "output_type": "stream",
     "text": [
      "\r",
      "  5%|▌         | 5/100 [00:50<15:49, 10.00s/it]"
     ]
    },
    {
     "name": "stdout",
     "output_type": "stream",
     "text": [
      "Training_loss 1.79014705,   0.13398058\n"
     ]
    },
    {
     "name": "stderr",
     "output_type": "stream",
     "text": [
      "\r",
      "  6%|▌         | 6/100 [00:59<15:16,  9.75s/it]"
     ]
    },
    {
     "name": "stdout",
     "output_type": "stream",
     "text": [
      "Training_loss 1.78953621,   0.13592233\n"
     ]
    },
    {
     "name": "stderr",
     "output_type": "stream",
     "text": [
      "\r",
      "  7%|▋         | 7/100 [01:10<15:39, 10.11s/it]"
     ]
    },
    {
     "name": "stdout",
     "output_type": "stream",
     "text": [
      "Training_loss 1.78896073,   0.13689320\n"
     ]
    },
    {
     "name": "stderr",
     "output_type": "stream",
     "text": [
      "\r",
      "  8%|▊         | 8/100 [01:20<15:11,  9.91s/it]"
     ]
    },
    {
     "name": "stdout",
     "output_type": "stream",
     "text": [
      "Training_loss 1.78851307,   0.13398058\n"
     ]
    },
    {
     "name": "stderr",
     "output_type": "stream",
     "text": [
      "\r",
      "  9%|▉         | 9/100 [01:29<14:57,  9.86s/it]"
     ]
    },
    {
     "name": "stdout",
     "output_type": "stream",
     "text": [
      "Training_loss 1.78800293,   0.13252427\n"
     ]
    },
    {
     "name": "stderr",
     "output_type": "stream",
     "text": [
      "\r",
      " 10%|█         | 10/100 [01:39<14:45,  9.84s/it]"
     ]
    },
    {
     "name": "stdout",
     "output_type": "stream",
     "text": [
      "Training_loss 1.78746381,   0.13300971\n"
     ]
    },
    {
     "name": "stderr",
     "output_type": "stream",
     "text": [
      "\r",
      " 11%|█         | 11/100 [01:49<14:28,  9.76s/it]"
     ]
    },
    {
     "name": "stdout",
     "output_type": "stream",
     "text": [
      "Training_loss 1.78686064,   0.13300971\n"
     ]
    },
    {
     "name": "stderr",
     "output_type": "stream",
     "text": [
      "\r",
      " 12%|█▏        | 12/100 [01:59<14:23,  9.81s/it]"
     ]
    },
    {
     "name": "stdout",
     "output_type": "stream",
     "text": [
      "Training_loss 1.78626512,   0.13446602\n"
     ]
    },
    {
     "name": "stderr",
     "output_type": "stream",
     "text": [
      "\r",
      " 13%|█▎        | 13/100 [02:09<14:15,  9.84s/it]"
     ]
    },
    {
     "name": "stdout",
     "output_type": "stream",
     "text": [
      "Training_loss 1.78570012,   0.13640777\n"
     ]
    },
    {
     "name": "stderr",
     "output_type": "stream",
     "text": [
      "\r",
      " 14%|█▍        | 14/100 [02:18<14:07,  9.85s/it]"
     ]
    },
    {
     "name": "stdout",
     "output_type": "stream",
     "text": [
      "Training_loss 1.78516277,   0.13543689\n"
     ]
    },
    {
     "name": "stderr",
     "output_type": "stream",
     "text": [
      "\r",
      " 15%|█▌        | 15/100 [02:28<13:52,  9.79s/it]"
     ]
    },
    {
     "name": "stdout",
     "output_type": "stream",
     "text": [
      "Training_loss 1.78467145,   0.13349515\n"
     ]
    },
    {
     "name": "stderr",
     "output_type": "stream",
     "text": [
      "\r",
      " 16%|█▌        | 16/100 [02:38<13:37,  9.74s/it]"
     ]
    },
    {
     "name": "stdout",
     "output_type": "stream",
     "text": [
      "Training_loss 1.78409727,   0.13689320\n"
     ]
    },
    {
     "name": "stderr",
     "output_type": "stream",
     "text": [
      "\r",
      " 17%|█▋        | 17/100 [02:47<13:29,  9.76s/it]"
     ]
    },
    {
     "name": "stdout",
     "output_type": "stream",
     "text": [
      "Training_loss 1.78345174,   0.14029126\n"
     ]
    },
    {
     "name": "stderr",
     "output_type": "stream",
     "text": [
      "\r",
      " 18%|█▊        | 18/100 [02:57<13:17,  9.73s/it]"
     ]
    },
    {
     "name": "stdout",
     "output_type": "stream",
     "text": [
      "Training_loss 1.78297758,   0.14271845\n"
     ]
    },
    {
     "name": "stderr",
     "output_type": "stream",
     "text": [
      "\r",
      " 19%|█▉        | 19/100 [03:07<13:03,  9.67s/it]"
     ]
    },
    {
     "name": "stdout",
     "output_type": "stream",
     "text": [
      "Training_loss 1.78252349,   0.14174757\n"
     ]
    },
    {
     "name": "stderr",
     "output_type": "stream",
     "text": [
      "\r",
      " 20%|██        | 20/100 [03:16<12:48,  9.60s/it]"
     ]
    },
    {
     "name": "stdout",
     "output_type": "stream",
     "text": [
      "Training_loss 1.78194360,   0.14563107\n"
     ]
    },
    {
     "name": "stderr",
     "output_type": "stream",
     "text": [
      "\r",
      " 21%|██        | 21/100 [03:26<12:41,  9.64s/it]"
     ]
    },
    {
     "name": "stdout",
     "output_type": "stream",
     "text": [
      "Training_loss 1.78133931,   0.15485437\n"
     ]
    },
    {
     "name": "stderr",
     "output_type": "stream",
     "text": [
      "\r",
      " 22%|██▏       | 22/100 [03:36<12:40,  9.75s/it]"
     ]
    },
    {
     "name": "stdout",
     "output_type": "stream",
     "text": [
      "Training_loss 1.78079980,   0.16213592\n"
     ]
    },
    {
     "name": "stderr",
     "output_type": "stream",
     "text": [
      "\r",
      " 23%|██▎       | 23/100 [03:46<12:40,  9.88s/it]"
     ]
    },
    {
     "name": "stdout",
     "output_type": "stream",
     "text": [
      "Training_loss 1.78021208,   0.17135922\n"
     ]
    },
    {
     "name": "stderr",
     "output_type": "stream",
     "text": [
      "\r",
      " 24%|██▍       | 24/100 [03:55<12:17,  9.70s/it]"
     ]
    },
    {
     "name": "stdout",
     "output_type": "stream",
     "text": [
      "Training_loss 1.77969341,   0.18009709\n"
     ]
    },
    {
     "name": "stderr",
     "output_type": "stream",
     "text": [
      "\r",
      " 25%|██▌       | 25/100 [04:05<12:17,  9.84s/it]"
     ]
    },
    {
     "name": "stdout",
     "output_type": "stream",
     "text": [
      "Training_loss 1.77904009,   0.20970874\n"
     ]
    },
    {
     "name": "stderr",
     "output_type": "stream",
     "text": [
      "\r",
      " 26%|██▌       | 26/100 [04:15<12:05,  9.80s/it]"
     ]
    },
    {
     "name": "stdout",
     "output_type": "stream",
     "text": [
      "Training_loss 1.77859402,   0.21893204\n"
     ]
    },
    {
     "name": "stderr",
     "output_type": "stream",
     "text": [
      "\r",
      " 27%|██▋       | 27/100 [04:25<11:57,  9.82s/it]"
     ]
    },
    {
     "name": "stdout",
     "output_type": "stream",
     "text": [
      "Training_loss 1.77798964,   0.24320388\n"
     ]
    },
    {
     "name": "stderr",
     "output_type": "stream",
     "text": [
      "\r",
      " 28%|██▊       | 28/100 [04:35<11:42,  9.76s/it]"
     ]
    },
    {
     "name": "stdout",
     "output_type": "stream",
     "text": [
      "Training_loss 1.77753374,   0.23398058\n"
     ]
    },
    {
     "name": "stderr",
     "output_type": "stream",
     "text": [
      "\r",
      " 29%|██▉       | 29/100 [04:44<11:24,  9.65s/it]"
     ]
    },
    {
     "name": "stdout",
     "output_type": "stream",
     "text": [
      "Training_loss 1.77685525,   0.25825243\n"
     ]
    },
    {
     "name": "stderr",
     "output_type": "stream",
     "text": [
      "\r",
      " 30%|███       | 30/100 [04:54<11:24,  9.78s/it]"
     ]
    },
    {
     "name": "stdout",
     "output_type": "stream",
     "text": [
      "Training_loss 1.77629638,   0.26844660\n"
     ]
    },
    {
     "name": "stderr",
     "output_type": "stream",
     "text": [
      "\r",
      " 31%|███       | 31/100 [05:04<11:11,  9.73s/it]"
     ]
    },
    {
     "name": "stdout",
     "output_type": "stream",
     "text": [
      "Training_loss 1.77580035,   0.26747573\n"
     ]
    },
    {
     "name": "stderr",
     "output_type": "stream",
     "text": [
      "\r",
      " 32%|███▏      | 32/100 [05:14<11:03,  9.75s/it]"
     ]
    },
    {
     "name": "stdout",
     "output_type": "stream",
     "text": [
      "Training_loss 1.77519949,   0.28300971\n"
     ]
    },
    {
     "name": "stderr",
     "output_type": "stream",
     "text": [
      "\r",
      " 33%|███▎      | 33/100 [05:23<10:48,  9.67s/it]"
     ]
    },
    {
     "name": "stdout",
     "output_type": "stream",
     "text": [
      "Training_loss 1.77456218,   0.30631068\n"
     ]
    },
    {
     "name": "stderr",
     "output_type": "stream",
     "text": [
      "\r",
      " 34%|███▍      | 34/100 [05:32<10:30,  9.56s/it]"
     ]
    },
    {
     "name": "stdout",
     "output_type": "stream",
     "text": [
      "Training_loss 1.77395899,   0.31747573\n"
     ]
    },
    {
     "name": "stderr",
     "output_type": "stream",
     "text": [
      "\r",
      " 35%|███▌      | 35/100 [05:42<10:26,  9.64s/it]"
     ]
    },
    {
     "name": "stdout",
     "output_type": "stream",
     "text": [
      "Training_loss 1.77335733,   0.32281553\n"
     ]
    },
    {
     "name": "stderr",
     "output_type": "stream",
     "text": [
      "\r",
      " 36%|███▌      | 36/100 [05:52<10:17,  9.65s/it]"
     ]
    },
    {
     "name": "stdout",
     "output_type": "stream",
     "text": [
      "Training_loss 1.77284504,   0.31844660\n"
     ]
    },
    {
     "name": "stderr",
     "output_type": "stream",
     "text": [
      "\r",
      " 37%|███▋      | 37/100 [06:02<10:10,  9.68s/it]"
     ]
    },
    {
     "name": "stdout",
     "output_type": "stream",
     "text": [
      "Training_loss 1.77236193,   0.31019417\n"
     ]
    },
    {
     "name": "stderr",
     "output_type": "stream",
     "text": [
      "\r",
      " 38%|███▊      | 38/100 [06:12<10:07,  9.79s/it]"
     ]
    },
    {
     "name": "stdout",
     "output_type": "stream",
     "text": [
      "Training_loss 1.77176331,   0.31990291\n"
     ]
    },
    {
     "name": "stderr",
     "output_type": "stream",
     "text": [
      "\r",
      " 39%|███▉      | 39/100 [06:22<09:58,  9.81s/it]"
     ]
    },
    {
     "name": "stdout",
     "output_type": "stream",
     "text": [
      "Training_loss 1.77111831,   0.33543689\n"
     ]
    },
    {
     "name": "stderr",
     "output_type": "stream",
     "text": [
      "\r",
      " 40%|████      | 40/100 [06:31<09:49,  9.83s/it]"
     ]
    },
    {
     "name": "stdout",
     "output_type": "stream",
     "text": [
      "Training_loss 1.77053390,   0.34466019\n"
     ]
    },
    {
     "name": "stderr",
     "output_type": "stream",
     "text": [
      "\r",
      " 41%|████      | 41/100 [06:41<09:41,  9.85s/it]"
     ]
    },
    {
     "name": "stdout",
     "output_type": "stream",
     "text": [
      "Training_loss 1.77004826,   0.33932039\n"
     ]
    },
    {
     "name": "stderr",
     "output_type": "stream",
     "text": [
      "\r",
      " 42%|████▏     | 42/100 [06:51<09:33,  9.88s/it]"
     ]
    },
    {
     "name": "stdout",
     "output_type": "stream",
     "text": [
      "Training_loss 1.76952798,   0.33980583\n"
     ]
    },
    {
     "name": "stderr",
     "output_type": "stream",
     "text": [
      "\r",
      " 43%|████▎     | 43/100 [07:02<09:31, 10.02s/it]"
     ]
    },
    {
     "name": "stdout",
     "output_type": "stream",
     "text": [
      "Training_loss 1.76893393,   0.34854369\n"
     ]
    },
    {
     "name": "stderr",
     "output_type": "stream",
     "text": [
      "\r",
      " 44%|████▍     | 44/100 [07:12<09:27, 10.13s/it]"
     ]
    },
    {
     "name": "stdout",
     "output_type": "stream",
     "text": [
      "Training_loss 1.76849787,   0.34223301\n"
     ]
    },
    {
     "name": "stderr",
     "output_type": "stream",
     "text": [
      "\r",
      " 45%|████▌     | 45/100 [07:22<09:10, 10.01s/it]"
     ]
    },
    {
     "name": "stdout",
     "output_type": "stream",
     "text": [
      "Training_loss 1.76812655,   0.31893204\n"
     ]
    },
    {
     "name": "stderr",
     "output_type": "stream",
     "text": [
      "\r",
      " 46%|████▌     | 46/100 [07:31<08:56,  9.93s/it]"
     ]
    },
    {
     "name": "stdout",
     "output_type": "stream",
     "text": [
      "Training_loss 1.76758045,   0.31699029\n"
     ]
    },
    {
     "name": "stderr",
     "output_type": "stream",
     "text": [
      "\r",
      " 47%|████▋     | 47/100 [07:41<08:40,  9.83s/it]"
     ]
    },
    {
     "name": "stdout",
     "output_type": "stream",
     "text": [
      "Training_loss 1.76694016,   0.33592233\n"
     ]
    },
    {
     "name": "stderr",
     "output_type": "stream",
     "text": [
      "\r",
      " 48%|████▊     | 48/100 [07:51<08:31,  9.83s/it]"
     ]
    },
    {
     "name": "stdout",
     "output_type": "stream",
     "text": [
      "Training_loss 1.76640973,   0.33495146\n"
     ]
    },
    {
     "name": "stderr",
     "output_type": "stream",
     "text": [
      "\r",
      " 49%|████▉     | 49/100 [08:00<08:17,  9.76s/it]"
     ]
    },
    {
     "name": "stdout",
     "output_type": "stream",
     "text": [
      "Training_loss 1.76580577,   0.34854369\n"
     ]
    },
    {
     "name": "stderr",
     "output_type": "stream",
     "text": [
      "\r",
      " 50%|█████     | 50/100 [08:10<08:05,  9.71s/it]"
     ]
    },
    {
     "name": "stdout",
     "output_type": "stream",
     "text": [
      "Training_loss 1.76506120,   0.36990291\n"
     ]
    },
    {
     "name": "stderr",
     "output_type": "stream",
     "text": [
      "\r",
      " 51%|█████     | 51/100 [08:20<07:52,  9.65s/it]"
     ]
    },
    {
     "name": "stdout",
     "output_type": "stream",
     "text": [
      "Training_loss 1.76441621,   0.37572816\n"
     ]
    },
    {
     "name": "stderr",
     "output_type": "stream",
     "text": [
      "\r",
      " 52%|█████▏    | 52/100 [08:29<07:42,  9.63s/it]"
     ]
    },
    {
     "name": "stdout",
     "output_type": "stream",
     "text": [
      "Training_loss 1.76386159,   0.37475728\n"
     ]
    },
    {
     "name": "stderr",
     "output_type": "stream",
     "text": [
      "\r",
      " 53%|█████▎    | 53/100 [08:39<07:37,  9.72s/it]"
     ]
    },
    {
     "name": "stdout",
     "output_type": "stream",
     "text": [
      "Training_loss 1.76315834,   0.37815534\n"
     ]
    },
    {
     "name": "stderr",
     "output_type": "stream",
     "text": [
      "\r",
      " 54%|█████▍    | 54/100 [08:49<07:31,  9.82s/it]"
     ]
    },
    {
     "name": "stdout",
     "output_type": "stream",
     "text": [
      "Training_loss 1.76271777,   0.37621359\n"
     ]
    },
    {
     "name": "stderr",
     "output_type": "stream",
     "text": [
      "\r",
      " 55%|█████▌    | 55/100 [08:59<07:19,  9.76s/it]"
     ]
    },
    {
     "name": "stdout",
     "output_type": "stream",
     "text": [
      "Training_loss 1.76211252,   0.37961165\n"
     ]
    },
    {
     "name": "stderr",
     "output_type": "stream",
     "text": [
      "\r",
      " 56%|█████▌    | 56/100 [09:09<07:09,  9.76s/it]"
     ]
    },
    {
     "name": "stdout",
     "output_type": "stream",
     "text": [
      "Training_loss 1.76173653,   0.36844660\n"
     ]
    },
    {
     "name": "stderr",
     "output_type": "stream",
     "text": [
      "\r",
      " 57%|█████▋    | 57/100 [09:18<06:59,  9.76s/it]"
     ]
    },
    {
     "name": "stdout",
     "output_type": "stream",
     "text": [
      "Training_loss 1.76119606,   0.37621359\n"
     ]
    },
    {
     "name": "stderr",
     "output_type": "stream",
     "text": [
      "\r",
      " 58%|█████▊    | 58/100 [09:28<06:50,  9.78s/it]"
     ]
    },
    {
     "name": "stdout",
     "output_type": "stream",
     "text": [
      "Training_loss 1.76055901,   0.38446602\n"
     ]
    },
    {
     "name": "stderr",
     "output_type": "stream",
     "text": [
      "\r",
      " 59%|█████▉    | 59/100 [09:38<06:39,  9.74s/it]"
     ]
    },
    {
     "name": "stdout",
     "output_type": "stream",
     "text": [
      "Training_loss 1.76006285,   0.38155340\n"
     ]
    },
    {
     "name": "stderr",
     "output_type": "stream",
     "text": [
      "\r",
      " 60%|██████    | 60/100 [09:47<06:23,  9.59s/it]"
     ]
    },
    {
     "name": "stdout",
     "output_type": "stream",
     "text": [
      "Training_loss 1.75953928,   0.38543689\n"
     ]
    },
    {
     "name": "stderr",
     "output_type": "stream",
     "text": [
      "\r",
      " 61%|██████    | 61/100 [09:57<06:13,  9.59s/it]"
     ]
    },
    {
     "name": "stdout",
     "output_type": "stream",
     "text": [
      "Training_loss 1.75895247,   0.38932039\n"
     ]
    },
    {
     "name": "stderr",
     "output_type": "stream",
     "text": [
      "\r",
      " 62%|██████▏   | 62/100 [10:06<06:04,  9.60s/it]"
     ]
    },
    {
     "name": "stdout",
     "output_type": "stream",
     "text": [
      "Training_loss 1.75836282,   0.39029126\n"
     ]
    },
    {
     "name": "stderr",
     "output_type": "stream",
     "text": [
      "\r",
      " 63%|██████▎   | 63/100 [10:16<05:57,  9.67s/it]"
     ]
    },
    {
     "name": "stdout",
     "output_type": "stream",
     "text": [
      "Training_loss 1.75784536,   0.38883495\n"
     ]
    },
    {
     "name": "stderr",
     "output_type": "stream",
     "text": [
      "\r",
      " 64%|██████▍   | 64/100 [10:26<05:46,  9.62s/it]"
     ]
    },
    {
     "name": "stdout",
     "output_type": "stream",
     "text": [
      "Training_loss 1.75722728,   0.39174757\n"
     ]
    },
    {
     "name": "stderr",
     "output_type": "stream",
     "text": [
      "\r",
      " 65%|██████▌   | 65/100 [10:35<05:34,  9.54s/it]"
     ]
    },
    {
     "name": "stdout",
     "output_type": "stream",
     "text": [
      "Training_loss 1.75666871,   0.39320388\n"
     ]
    },
    {
     "name": "stderr",
     "output_type": "stream",
     "text": [
      "\r",
      " 66%|██████▌   | 66/100 [10:45<05:27,  9.62s/it]"
     ]
    },
    {
     "name": "stdout",
     "output_type": "stream",
     "text": [
      "Training_loss 1.75623606,   0.38980583\n"
     ]
    },
    {
     "name": "stderr",
     "output_type": "stream",
     "text": [
      "\r",
      " 67%|██████▋   | 67/100 [10:55<05:23,  9.80s/it]"
     ]
    },
    {
     "name": "stdout",
     "output_type": "stream",
     "text": [
      "Training_loss 1.75573979,   0.38932039\n"
     ]
    },
    {
     "name": "stderr",
     "output_type": "stream",
     "text": [
      "\r",
      " 68%|██████▊   | 68/100 [11:05<05:17,  9.93s/it]"
     ]
    },
    {
     "name": "stdout",
     "output_type": "stream",
     "text": [
      "Training_loss 1.75515396,   0.39417476\n"
     ]
    },
    {
     "name": "stderr",
     "output_type": "stream",
     "text": [
      "\r",
      " 69%|██████▉   | 69/100 [11:15<05:04,  9.82s/it]"
     ]
    },
    {
     "name": "stdout",
     "output_type": "stream",
     "text": [
      "Training_loss 1.75445413,   0.39514563\n"
     ]
    },
    {
     "name": "stderr",
     "output_type": "stream",
     "text": [
      "\r",
      " 70%|███████   | 70/100 [11:24<04:49,  9.63s/it]"
     ]
    },
    {
     "name": "stdout",
     "output_type": "stream",
     "text": [
      "Training_loss 1.75399491,   0.39368932\n"
     ]
    },
    {
     "name": "stderr",
     "output_type": "stream",
     "text": [
      "\r",
      " 71%|███████   | 71/100 [11:34<04:39,  9.65s/it]"
     ]
    },
    {
     "name": "stdout",
     "output_type": "stream",
     "text": [
      "Training_loss 1.75358227,   0.38980583\n"
     ]
    },
    {
     "name": "stderr",
     "output_type": "stream",
     "text": [
      "\r",
      " 72%|███████▏  | 72/100 [11:43<04:30,  9.66s/it]"
     ]
    },
    {
     "name": "stdout",
     "output_type": "stream",
     "text": [
      "Training_loss 1.75285966,   0.39660194\n"
     ]
    },
    {
     "name": "stderr",
     "output_type": "stream",
     "text": [
      "\r",
      " 73%|███████▎  | 73/100 [11:53<04:23,  9.76s/it]"
     ]
    },
    {
     "name": "stdout",
     "output_type": "stream",
     "text": [
      "Training_loss 1.75227192,   0.39611650\n"
     ]
    },
    {
     "name": "stderr",
     "output_type": "stream",
     "text": [
      "\r",
      " 74%|███████▍  | 74/100 [12:05<04:25, 10.20s/it]"
     ]
    },
    {
     "name": "stdout",
     "output_type": "stream",
     "text": [
      "Training_loss 1.75174612,   0.39660194\n"
     ]
    },
    {
     "name": "stderr",
     "output_type": "stream",
     "text": [
      "\r",
      " 75%|███████▌  | 75/100 [12:14<04:13, 10.13s/it]"
     ]
    },
    {
     "name": "stdout",
     "output_type": "stream",
     "text": [
      "Training_loss 1.75128153,   0.39271845\n"
     ]
    },
    {
     "name": "stderr",
     "output_type": "stream",
     "text": [
      "\r",
      " 76%|███████▌  | 76/100 [12:25<04:03, 10.14s/it]"
     ]
    },
    {
     "name": "stdout",
     "output_type": "stream",
     "text": [
      "Training_loss 1.75056378,   0.39757282\n"
     ]
    },
    {
     "name": "stderr",
     "output_type": "stream",
     "text": [
      "\r",
      " 77%|███████▋  | 77/100 [12:35<03:52, 10.12s/it]"
     ]
    },
    {
     "name": "stdout",
     "output_type": "stream",
     "text": [
      "Training_loss 1.75003011,   0.39660194\n"
     ]
    },
    {
     "name": "stderr",
     "output_type": "stream",
     "text": [
      "\r",
      " 78%|███████▊  | 78/100 [12:45<03:46, 10.28s/it]"
     ]
    },
    {
     "name": "stdout",
     "output_type": "stream",
     "text": [
      "Training_loss 1.74955969,   0.40000000\n"
     ]
    },
    {
     "name": "stderr",
     "output_type": "stream",
     "text": [
      "\r",
      " 79%|███████▉  | 79/100 [12:57<03:44, 10.70s/it]"
     ]
    },
    {
     "name": "stdout",
     "output_type": "stream",
     "text": [
      "Training_loss 1.74892474,   0.40000000\n"
     ]
    },
    {
     "name": "stderr",
     "output_type": "stream",
     "text": [
      "\r",
      " 80%|████████  | 80/100 [13:08<03:37, 10.88s/it]"
     ]
    },
    {
     "name": "stdout",
     "output_type": "stream",
     "text": [
      "Training_loss 1.74840708,   0.40145631\n"
     ]
    },
    {
     "name": "stderr",
     "output_type": "stream",
     "text": [
      "\r",
      " 81%|████████  | 81/100 [13:19<03:25, 10.81s/it]"
     ]
    },
    {
     "name": "stdout",
     "output_type": "stream",
     "text": [
      "Training_loss 1.74787794,   0.40145631\n"
     ]
    },
    {
     "name": "stderr",
     "output_type": "stream",
     "text": [
      "\r",
      " 82%|████████▏ | 82/100 [13:30<03:15, 10.86s/it]"
     ]
    },
    {
     "name": "stdout",
     "output_type": "stream",
     "text": [
      "Training_loss 1.74749168,   0.39951456\n"
     ]
    },
    {
     "name": "stderr",
     "output_type": "stream",
     "text": [
      "\r",
      " 83%|████████▎ | 83/100 [13:41<03:05, 10.89s/it]"
     ]
    },
    {
     "name": "stdout",
     "output_type": "stream",
     "text": [
      "Training_loss 1.74721087,   0.39466019\n"
     ]
    },
    {
     "name": "stderr",
     "output_type": "stream",
     "text": [
      "\r",
      " 84%|████████▍ | 84/100 [13:52<02:53, 10.83s/it]"
     ]
    },
    {
     "name": "stdout",
     "output_type": "stream",
     "text": [
      "Training_loss 1.74663963,   0.39611650\n"
     ]
    },
    {
     "name": "stderr",
     "output_type": "stream",
     "text": [
      "\r",
      " 85%|████████▌ | 85/100 [14:03<02:42, 10.86s/it]"
     ]
    },
    {
     "name": "stdout",
     "output_type": "stream",
     "text": [
      "Training_loss 1.74615753,   0.39514563\n"
     ]
    },
    {
     "name": "stderr",
     "output_type": "stream",
     "text": [
      "\r",
      " 86%|████████▌ | 86/100 [14:13<02:31, 10.81s/it]"
     ]
    },
    {
     "name": "stdout",
     "output_type": "stream",
     "text": [
      "Training_loss 1.74576655,   0.38446602\n"
     ]
    },
    {
     "name": "stderr",
     "output_type": "stream",
     "text": [
      "\r",
      " 87%|████████▋ | 87/100 [14:24<02:20, 10.82s/it]"
     ]
    },
    {
     "name": "stdout",
     "output_type": "stream",
     "text": [
      "Training_loss 1.74529744,   0.37815534\n"
     ]
    },
    {
     "name": "stderr",
     "output_type": "stream",
     "text": [
      "\r",
      " 88%|████████▊ | 88/100 [14:35<02:09, 10.76s/it]"
     ]
    },
    {
     "name": "stdout",
     "output_type": "stream",
     "text": [
      "Training_loss 1.74482652,   0.37524272\n"
     ]
    },
    {
     "name": "stderr",
     "output_type": "stream",
     "text": [
      "\r",
      " 89%|████████▉ | 89/100 [14:45<01:58, 10.75s/it]"
     ]
    },
    {
     "name": "stdout",
     "output_type": "stream",
     "text": [
      "Training_loss 1.74428288,   0.37766990\n"
     ]
    },
    {
     "name": "stderr",
     "output_type": "stream",
     "text": [
      "\r",
      " 90%|█████████ | 90/100 [14:56<01:48, 10.80s/it]"
     ]
    },
    {
     "name": "stdout",
     "output_type": "stream",
     "text": [
      "Training_loss 1.74386931,   0.37427184\n"
     ]
    },
    {
     "name": "stderr",
     "output_type": "stream",
     "text": [
      "\r",
      " 91%|█████████ | 91/100 [15:07<01:36, 10.73s/it]"
     ]
    },
    {
     "name": "stdout",
     "output_type": "stream",
     "text": [
      "Training_loss 1.74338340,   0.37621359\n"
     ]
    },
    {
     "name": "stderr",
     "output_type": "stream",
     "text": [
      "\r",
      " 92%|█████████▏| 92/100 [15:18<01:25, 10.71s/it]"
     ]
    },
    {
     "name": "stdout",
     "output_type": "stream",
     "text": [
      "Training_loss 1.74289885,   0.37961165\n"
     ]
    },
    {
     "name": "stderr",
     "output_type": "stream",
     "text": [
      "\r",
      " 93%|█████████▎| 93/100 [15:29<01:16, 10.90s/it]"
     ]
    },
    {
     "name": "stdout",
     "output_type": "stream",
     "text": [
      "Training_loss 1.74237536,   0.38252427\n"
     ]
    },
    {
     "name": "stderr",
     "output_type": "stream",
     "text": [
      "\r",
      " 94%|█████████▍| 94/100 [15:39<01:04, 10.77s/it]"
     ]
    },
    {
     "name": "stdout",
     "output_type": "stream",
     "text": [
      "Training_loss 1.74187783,   0.38203883\n"
     ]
    },
    {
     "name": "stderr",
     "output_type": "stream",
     "text": [
      "\r",
      " 95%|█████████▌| 95/100 [15:50<00:53, 10.71s/it]"
     ]
    },
    {
     "name": "stdout",
     "output_type": "stream",
     "text": [
      "Training_loss 1.74147417,   0.37815534\n"
     ]
    },
    {
     "name": "stderr",
     "output_type": "stream",
     "text": [
      "\r",
      " 96%|█████████▌| 96/100 [16:01<00:43, 10.86s/it]"
     ]
    },
    {
     "name": "stdout",
     "output_type": "stream",
     "text": [
      "Training_loss 1.74086754,   0.37912621\n"
     ]
    },
    {
     "name": "stderr",
     "output_type": "stream",
     "text": [
      "\r",
      " 97%|█████████▋| 97/100 [16:12<00:32, 10.96s/it]"
     ]
    },
    {
     "name": "stdout",
     "output_type": "stream",
     "text": [
      "Training_loss 1.74036261,   0.37572816\n"
     ]
    },
    {
     "name": "stderr",
     "output_type": "stream",
     "text": [
      "\r",
      " 98%|█████████▊| 98/100 [16:23<00:21, 10.92s/it]"
     ]
    },
    {
     "name": "stdout",
     "output_type": "stream",
     "text": [
      "Training_loss 1.73986080,   0.37524272\n"
     ]
    },
    {
     "name": "stderr",
     "output_type": "stream",
     "text": [
      "\r",
      " 99%|█████████▉| 99/100 [16:34<00:10, 10.87s/it]"
     ]
    },
    {
     "name": "stdout",
     "output_type": "stream",
     "text": [
      "Training_loss 1.73924762,   0.38640777\n"
     ]
    },
    {
     "name": "stderr",
     "output_type": "stream",
     "text": [
      "100%|██████████| 100/100 [16:44<00:00, 10.05s/it]"
     ]
    },
    {
     "name": "stdout",
     "output_type": "stream",
     "text": [
      "Training_loss 1.73872310,   0.39417476\n"
     ]
    },
    {
     "name": "stderr",
     "output_type": "stream",
     "text": [
      "\n"
     ]
    }
   ],
   "source": [
    "#global_model = CNN_Net().cuda()\n",
    "models = [MLP_Net(i, input_size, hidden_size1, hidden_size2, output_size) for i in range(no_users) ]\n",
    "dummy_models = [MLP_Net(i, input_size, hidden_size1, hidden_size2, output_size) for i in range(no_users)]\n",
    "\n",
    "#model.load_state_dict(global_model.state_dict())\n",
    "\n",
    "criterion = nn.CrossEntropyLoss()\n",
    "\n",
    "it = 100\n",
    "train_loss = []\n",
    "test_loss = []\n",
    "test_accuracy = []\n",
    "total_rel_error = []\n",
    "\n",
    "for curr_round in tqdm(range(1, it+1)):\n",
    "    w, local_loss = [], []\n",
    "\n",
    "    \n",
    "    for i in range(no_users):\n",
    "        dummy_models[i].load_state_dict(models[i].state_dict())\n",
    "        local_update = ClientUpdate(dataset=datapoints[i], batchSize=batch_size, alpha=alpha, lamda=lamda, epochs=1, projection_list=projection_list, projected_weights=projected_weights)\n",
    "        weights, loss = local_update.train(dummy_models[i])\n",
    "        w.append(weights)\n",
    "        local_loss.append(loss)\n",
    "        models[i].load_state_dict(w[i])\n",
    "        \n",
    "    \n",
    "    \n",
    "    # Update prjection matrix\n",
    "    \n",
    "    #print(projection_list[0], projected_weights[0])\n",
    "    \n",
    "    for i in range(no_users):\n",
    "        weights = parameters_to_vector(models[i].parameters())\n",
    "        for j in G.neighbors(i):\n",
    "            mat_vec_sum = torch.zeros(embedding_dimension)\n",
    "            for k in G.neighbors(i):\n",
    "                mat_vec_sum = torch.add(mat_vec_sum, projected_weights[i][k] - projected_weights[k][i])\n",
    "            temp_mat = torch.outer(mat_vec_sum, weights).clone()\n",
    "\n",
    "\n",
    "            projection_list[i][j] = torch.add(projection_list[i][j], -1 * eta * lamda * temp_mat)\n",
    "                                         \n",
    "    projected_weights = []                                          \n",
    "    update_ProjWeight(projection_list, projected_weights, first_run=False)\n",
    "        \n",
    "        \n",
    "        \n",
    "    \n",
    "    \n",
    "\n",
    "\n",
    "\n",
    "\n",
    "          \n",
    "            \n",
    "\n",
    "    local_test_acc = []\n",
    "    local_test_loss = []\n",
    "    user_rel_error = 0\n",
    "    for k in range(no_users):\n",
    "      \n",
    "        g_loss, accuracy = testing(models[i], datapoints[i], 50, criterion)\n",
    "        local_test_loss.append(g_loss)\n",
    "        #user_rel_error += rel_error(models[i])\n",
    "    \n",
    "    \n",
    "        \n",
    "\n",
    "    g_loss = sum(local_test_loss) / len(local_test_loss)\n",
    "    #total_rel_error.append(user_rel_error / no_users)\n",
    "    \n",
    "    \n",
    "\n",
    "    test_loss.append(g_loss)\n",
    "    #test_accuracy.append(g_accuracy)\n",
    "    print(\"Training_loss %2.8f,   %2.8f\"% (test_loss[-1], accuracy))"
   ]
  },
  {
   "cell_type": "code",
   "execution_count": null,
   "id": "6fc1cd76",
   "metadata": {},
   "outputs": [],
   "source": [
    "#Training_loss 5.33078 with no communication"
   ]
  },
  {
   "cell_type": "code",
   "execution_count": null,
   "id": "2ff0ff71",
   "metadata": {},
   "outputs": [],
   "source": [
    "#plot.plot(test_loss)\n",
    "parameters_to_vector(models[19].parameters())"
   ]
  },
  {
   "cell_type": "code",
   "execution_count": null,
   "id": "194e9ea4",
   "metadata": {},
   "outputs": [],
   "source": [
    "for j in G.neighbors(0):\n",
    "    print(j)"
   ]
  },
  {
   "cell_type": "code",
   "execution_count": null,
   "id": "bbcca8ca",
   "metadata": {},
   "outputs": [],
   "source": [
    "parameters_to_vector(models[0].parameters())"
   ]
  },
  {
   "cell_type": "code",
   "execution_count": null,
   "id": "bf702d86",
   "metadata": {},
   "outputs": [],
   "source": [
    "projection_list[0]"
   ]
  },
  {
   "cell_type": "code",
   "execution_count": null,
   "id": "a73e6699",
   "metadata": {},
   "outputs": [],
   "source": [
    "projected_weights[0]"
   ]
  },
  {
   "cell_type": "code",
   "execution_count": null,
   "id": "2561d143",
   "metadata": {},
   "outputs": [],
   "source": [
    "test_loss = np.array(test_loss)\n",
    "total_rel_error = np.array(total_rel_error)"
   ]
  },
  {
   "cell_type": "code",
   "execution_count": null,
   "id": "c36b1bc2",
   "metadata": {},
   "outputs": [],
   "source": [
    "print(test_loss)"
   ]
  },
  {
   "cell_type": "code",
   "execution_count": null,
   "id": "d61db64c",
   "metadata": {},
   "outputs": [],
   "source": [
    "np.save( 'training_loss_sheave_fml_lambda' + str(lamda).replace('.', '_') + '_pout' + str(pout).replace('.', '_'), test_loss)\n",
    "#np.save('relative_error_sheave_fml' + str(lamda).replace('.', '_'), total_rel_error)"
   ]
  },
  {
   "cell_type": "code",
   "execution_count": null,
   "id": "1cbcb3e7",
   "metadata": {},
   "outputs": [],
   "source": [
    "'training_loss_sheave_fml' + str(lamda).replace('.', '_'), test_loss"
   ]
  },
  {
   "cell_type": "code",
   "execution_count": null,
   "id": "908aba1a",
   "metadata": {},
   "outputs": [],
   "source": []
  }
 ],
 "metadata": {
  "kernelspec": {
   "display_name": "Python 3",
   "language": "python",
   "name": "python3"
  },
  "language_info": {
   "codemirror_mode": {
    "name": "ipython",
    "version": 3
   },
   "file_extension": ".py",
   "mimetype": "text/x-python",
   "name": "python",
   "nbconvert_exporter": "python",
   "pygments_lexer": "ipython3",
   "version": "3.8.8"
  }
 },
 "nbformat": 4,
 "nbformat_minor": 5
}
