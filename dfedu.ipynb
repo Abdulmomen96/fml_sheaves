{
 "cells": [
  {
   "cell_type": "code",
   "execution_count": 1,
   "id": "74d5d395",
   "metadata": {},
   "outputs": [],
   "source": [
    "import torch\n",
    "import torch.nn as nn\n",
    "import torch.nn.functional as F\n",
    "import torch.optim as optim\n",
    "from torchvision import datasets, transforms\n",
    "from torch.utils.data import DataLoader, Dataset\n",
    "import copy\n",
    "import numpy as np\n",
    "import matplotlib.pyplot as plt\n",
    "from tqdm import tqdm\n",
    "import networkx as nx\n",
    "from torch.nn.utils import parameters_to_vector, vector_to_parameters"
   ]
  },
  {
   "cell_type": "code",
   "execution_count": 2,
   "id": "7617ffd7",
   "metadata": {},
   "outputs": [],
   "source": [
    "# Graph implementation\n",
    "def generate_graph(cluster_sizes=[100,100], pin=0.5, pout=0.01, seed=0):\n",
    "    \"\"\"Generate a random connected graph\"\"\"\n",
    "    probs = np.array([[pin, pout],[pout, pin]])\n",
    "    while True:\n",
    "        g = nx.stochastic_block_model(cluster_sizes, probs)\n",
    "        if nx.algorithms.components.is_connected(g):\n",
    "            return g\n",
    "\n",
    "\n",
    "cluster_sizes = [10, 10]\n",
    "pin = 0.5\n",
    "pout = 0.01\n",
    "seed = 0\n",
    "alpha = 1e-3\n",
    "lamda = 1e-3\n",
    "eta = 1e-2\n",
    "mu = 1e-2\n",
    "no_users = sum(cluster_sizes)\n",
    "batch_size = 20\n",
    "epochs = 1\n",
    "it = 2000\n",
    "G = generate_graph(cluster_sizes, pin, pout, seed)\n",
    "\n",
    "#nx.draw(G, with_labels=True, node_size=100, alpha=1, linewidths=10)\n",
    "#plt.show()"
   ]
  },
  {
   "cell_type": "code",
   "execution_count": 3,
   "id": "809e7c6f",
   "metadata": {},
   "outputs": [
    {
     "name": "stdout",
     "output_type": "stream",
     "text": [
      "[[0.         0.         0.14285714 0.14285714 0.125      0.14285714\n",
      "  0.14285714 0.14285714 0.         0.         0.         0.\n",
      "  0.         0.         0.         0.         0.         0.\n",
      "  0.         0.        ]\n",
      " [0.         0.         0.         0.         0.125      0.14285714\n",
      "  0.14285714 0.14285714 0.14285714 0.         0.         0.\n",
      "  0.         0.         0.         0.         0.         0.\n",
      "  0.         0.14285714]\n",
      " [0.14285714 0.         0.         0.         0.125      0.\n",
      "  0.2        0.         0.         0.         0.         0.\n",
      "  0.         0.         0.         0.         0.         0.\n",
      "  0.         0.2       ]\n",
      " [0.14285714 0.         0.         0.         0.125      0.\n",
      "  0.         0.         0.16666667 0.         0.         0.\n",
      "  0.         0.         0.         0.         0.         0.\n",
      "  0.         0.        ]\n",
      " [0.125      0.125      0.125      0.125      0.         0.125\n",
      "  0.         0.         0.125      0.         0.         0.\n",
      "  0.         0.         0.         0.         0.         0.\n",
      "  0.         0.125     ]\n",
      " [0.14285714 0.14285714 0.         0.         0.125      0.\n",
      "  0.         0.2        0.         0.         0.         0.\n",
      "  0.         0.         0.         0.         0.         0.\n",
      "  0.         0.        ]\n",
      " [0.14285714 0.14285714 0.2        0.         0.         0.\n",
      "  0.         0.         0.         0.         0.         0.\n",
      "  0.         0.         0.         0.         0.         0.\n",
      "  0.         0.        ]\n",
      " [0.14285714 0.14285714 0.         0.         0.         0.2\n",
      "  0.         0.         0.         0.         0.         0.\n",
      "  0.         0.         0.         0.         0.         0.\n",
      "  0.         0.        ]\n",
      " [0.         0.14285714 0.         0.16666667 0.125      0.\n",
      "  0.         0.         0.         0.         0.         0.16666667\n",
      "  0.         0.         0.         0.         0.         0.\n",
      "  0.         0.16666667]\n",
      " [0.         0.         0.         0.         0.         0.\n",
      "  0.         0.         0.         0.         0.         0.\n",
      "  0.         0.2        0.         0.16666667 0.         0.\n",
      "  0.16666667 0.        ]\n",
      " [0.         0.         0.         0.         0.         0.\n",
      "  0.         0.         0.         0.         0.         0.16666667\n",
      "  0.         0.         0.16666667 0.         0.         0.\n",
      "  0.         0.        ]\n",
      " [0.         0.         0.         0.         0.         0.\n",
      "  0.         0.         0.16666667 0.         0.16666667 0.\n",
      "  0.16666667 0.         0.         0.16666667 0.         0.\n",
      "  0.16666667 0.        ]\n",
      " [0.         0.         0.         0.         0.         0.\n",
      "  0.         0.         0.         0.         0.         0.16666667\n",
      "  0.         0.2        0.         0.         0.         0.2\n",
      "  0.16666667 0.        ]\n",
      " [0.         0.         0.         0.         0.         0.\n",
      "  0.         0.         0.         0.2        0.         0.\n",
      "  0.2        0.         0.         0.16666667 0.         0.2\n",
      "  0.         0.        ]\n",
      " [0.         0.         0.         0.         0.         0.\n",
      "  0.         0.         0.         0.         0.16666667 0.\n",
      "  0.         0.         0.         0.16666667 0.16666667 0.16666667\n",
      "  0.16666667 0.        ]\n",
      " [0.         0.         0.         0.         0.         0.\n",
      "  0.         0.         0.         0.16666667 0.         0.16666667\n",
      "  0.         0.16666667 0.16666667 0.         0.         0.\n",
      "  0.16666667 0.        ]\n",
      " [0.         0.         0.         0.         0.         0.\n",
      "  0.         0.         0.         0.         0.         0.\n",
      "  0.         0.         0.16666667 0.         0.         0.\n",
      "  0.         0.        ]\n",
      " [0.         0.         0.         0.         0.         0.\n",
      "  0.         0.         0.         0.         0.         0.\n",
      "  0.2        0.2        0.16666667 0.         0.         0.\n",
      "  0.         0.        ]\n",
      " [0.         0.         0.         0.         0.         0.\n",
      "  0.         0.         0.         0.16666667 0.         0.16666667\n",
      "  0.16666667 0.         0.16666667 0.16666667 0.         0.\n",
      "  0.         0.        ]\n",
      " [0.         0.14285714 0.2        0.         0.125      0.\n",
      "  0.         0.         0.16666667 0.         0.         0.\n",
      "  0.         0.         0.         0.         0.         0.\n",
      "  0.         0.        ]]\n",
      "[[0.16071429 0.         0.14285714 0.14285714 0.125      0.14285714\n",
      "  0.14285714 0.14285714 0.         0.         0.         0.\n",
      "  0.         0.         0.         0.         0.         0.\n",
      "  0.         0.        ]\n",
      " [0.         0.16071429 0.         0.         0.125      0.14285714\n",
      "  0.14285714 0.14285714 0.14285714 0.         0.         0.\n",
      "  0.         0.         0.         0.         0.         0.\n",
      "  0.         0.14285714]\n",
      " [0.14285714 0.         0.33214286 0.         0.125      0.\n",
      "  0.2        0.         0.         0.         0.         0.\n",
      "  0.         0.         0.         0.         0.         0.\n",
      "  0.         0.2       ]\n",
      " [0.14285714 0.         0.         0.56547619 0.125      0.\n",
      "  0.         0.         0.16666667 0.         0.         0.\n",
      "  0.         0.         0.         0.         0.         0.\n",
      "  0.         0.        ]\n",
      " [0.125      0.125      0.125      0.125      0.125      0.125\n",
      "  0.         0.         0.125      0.         0.         0.\n",
      "  0.         0.         0.         0.         0.         0.\n",
      "  0.         0.125     ]\n",
      " [0.14285714 0.14285714 0.         0.         0.125      0.38928571\n",
      "  0.         0.2        0.         0.         0.         0.\n",
      "  0.         0.         0.         0.         0.         0.\n",
      "  0.         0.        ]\n",
      " [0.14285714 0.14285714 0.2        0.         0.         0.\n",
      "  0.51428571 0.         0.         0.         0.         0.\n",
      "  0.         0.         0.         0.         0.         0.\n",
      "  0.         0.        ]\n",
      " [0.14285714 0.14285714 0.         0.         0.         0.2\n",
      "  0.         0.51428571 0.         0.         0.         0.\n",
      "  0.         0.         0.         0.         0.         0.\n",
      "  0.         0.        ]\n",
      " [0.         0.14285714 0.         0.16666667 0.125      0.\n",
      "  0.         0.         0.23214286 0.         0.         0.16666667\n",
      "  0.         0.         0.         0.         0.         0.\n",
      "  0.         0.16666667]\n",
      " [0.         0.         0.         0.         0.         0.\n",
      "  0.         0.         0.         0.46666667 0.         0.\n",
      "  0.         0.2        0.         0.16666667 0.         0.\n",
      "  0.16666667 0.        ]\n",
      " [0.         0.         0.         0.         0.         0.\n",
      "  0.         0.         0.         0.         0.66666667 0.16666667\n",
      "  0.         0.         0.16666667 0.         0.         0.\n",
      "  0.         0.        ]\n",
      " [0.         0.         0.         0.         0.         0.\n",
      "  0.         0.         0.16666667 0.         0.16666667 0.16666667\n",
      "  0.16666667 0.         0.         0.16666667 0.         0.\n",
      "  0.16666667 0.        ]\n",
      " [0.         0.         0.         0.         0.         0.\n",
      "  0.         0.         0.         0.         0.         0.16666667\n",
      "  0.26666667 0.2        0.         0.         0.         0.2\n",
      "  0.16666667 0.        ]\n",
      " [0.         0.         0.         0.         0.         0.\n",
      "  0.         0.         0.         0.2        0.         0.\n",
      "  0.2        0.23333333 0.         0.16666667 0.         0.2\n",
      "  0.         0.        ]\n",
      " [0.         0.         0.         0.         0.         0.\n",
      "  0.         0.         0.         0.         0.16666667 0.\n",
      "  0.         0.         0.16666667 0.16666667 0.16666667 0.16666667\n",
      "  0.16666667 0.        ]\n",
      " [0.         0.         0.         0.         0.         0.\n",
      "  0.         0.         0.         0.16666667 0.         0.16666667\n",
      "  0.         0.16666667 0.16666667 0.16666667 0.         0.\n",
      "  0.16666667 0.        ]\n",
      " [0.         0.         0.         0.         0.         0.\n",
      "  0.         0.         0.         0.         0.         0.\n",
      "  0.         0.         0.16666667 0.         0.83333333 0.\n",
      "  0.         0.        ]\n",
      " [0.         0.         0.         0.         0.         0.\n",
      "  0.         0.         0.         0.         0.         0.\n",
      "  0.2        0.2        0.16666667 0.         0.         0.43333333\n",
      "  0.         0.        ]\n",
      " [0.         0.         0.         0.         0.         0.\n",
      "  0.         0.         0.         0.16666667 0.         0.16666667\n",
      "  0.16666667 0.         0.16666667 0.16666667 0.         0.\n",
      "  0.16666667 0.        ]\n",
      " [0.         0.14285714 0.2        0.         0.125      0.\n",
      "  0.         0.         0.16666667 0.         0.         0.\n",
      "  0.         0.         0.         0.         0.         0.\n",
      "  0.         0.36547619]]\n"
     ]
    }
   ],
   "source": [
    "# Metropolis weights \n",
    "number_nodes = G.number_of_nodes()\n",
    "weights = np.zeros([number_nodes, number_nodes])\n",
    "for edge in G.edges():\n",
    "  i, j = edge[0], edge[1]\n",
    "  weights[i - 1][j - 1] = 1 / (1 + np.max([G.degree(i), G.degree(j)]))\n",
    "  weights[j - 1][i - 1] = weights[i - 1][j - 1]\n",
    "\n",
    "print(weights)\n",
    "\n",
    "weights = weights + np.diag(1 - np.sum(weights, axis=0))\n",
    "\n",
    "metropolis_weights = weights\n",
    "print(metropolis_weights)\n"
   ]
  },
  {
   "cell_type": "code",
   "execution_count": 4,
   "id": "26f67564",
   "metadata": {},
   "outputs": [],
   "source": [
    "def degrees(A):\n",
    "    \"\"\"Return the degrees of each node of a graph from its adjacency matrix\"\"\"\n",
    "    return np.sum(A, axis=0).reshape(A.shape[0], 1)\n",
    "\n",
    "def node_degree(n, G):\n",
    "    cnt = 0\n",
    "    for i in G.neighbors(n):\n",
    "        cnt += 1\n",
    "    return cnt\n",
    "\n",
    "def get_neighbors(n, G):\n",
    "    neighbors_list = []\n",
    "    for i in G.neighbors(n):\n",
    "        neighbors_list.append(int(i))\n",
    "    return neighbors_list"
   ]
  },
  {
   "cell_type": "code",
   "execution_count": 5,
   "id": "4861cc66",
   "metadata": {},
   "outputs": [
    {
     "name": "stdout",
     "output_type": "stream",
     "text": [
      "[4, 6, 6, 4, 3, 7, 4, 3, 3, 5, 3, 2, 5, 4, 4, 5, 5, 1, 3, 5]\n",
      "2\n",
      "3\n",
      "5\n",
      "9\n"
     ]
    }
   ],
   "source": [
    "degree_list = [G.degree(i) for i in range(no_users)]\n",
    "print(degree_list)\n",
    "\n",
    "for i in G.neighbors(0):\n",
    "    print(i)"
   ]
  },
  {
   "cell_type": "code",
   "execution_count": 6,
   "id": "dbc31eff",
   "metadata": {},
   "outputs": [],
   "source": [
    "datapoints = {}\n",
    "count = 0\n",
    "W1 = np.array([2.0, 2.0])\n",
    "W2 = np.array([-2.0, 2.0])\n",
    "W = [W1, W2]\n",
    "m = 200\n",
    "n = 2\n",
    "noise_sd = 0.001\n",
    "for i, cluster_size in enumerate(cluster_sizes):\n",
    "    for j in range(cluster_size):\n",
    "        features = np.random.normal(loc=0.0, scale=1.0, size=(m, n))\n",
    "        label = np.dot(features, W[i]) + np.random.normal(0,noise_sd)\n",
    "        datapoints[count] = {\n",
    "                'features': features,\n",
    "                'degree': node_degree(count, G),\n",
    "                'label': label,\n",
    "                'neighbors': get_neighbors(count, G),\n",
    "                'exact_weights': torch.from_numpy(W[i])\n",
    "            }\n",
    "        count += 1"
   ]
  },
  {
   "cell_type": "code",
   "execution_count": 7,
   "id": "3c2530b1",
   "metadata": {},
   "outputs": [],
   "source": [
    "class MyDataset(Dataset):\n",
    "    def __init__(self, data, targets, transform=None):\n",
    "        self.data = torch.FloatTensor(data)\n",
    "        self.targets = torch.FloatTensor(targets).unsqueeze(-1)\n",
    "        \n",
    "    def __getitem__(self, index):\n",
    "        x = self.data[index]\n",
    "        y = self.targets[index]\n",
    "\n",
    "        return x, y\n",
    "    \n",
    "    def __len__(self):\n",
    "        return len(self.data)\n"
   ]
  },
  {
   "cell_type": "code",
   "execution_count": 8,
   "id": "1d84bf7c",
   "metadata": {},
   "outputs": [],
   "source": [
    "class MLP_Net(nn.Module):\n",
    "    def __init__(self, user_id):\n",
    "        super(MLP_Net, self).__init__()\n",
    "        self.fc1 = nn.Linear(2, 1, bias=False)\n",
    "        #self.fc2 = nn.Linear(4, 1, bias=False)\n",
    "        #self.fc3 = nn.Linear(200, 10)\n",
    "        self.user_id = user_id\n",
    "\n",
    "    def forward(self, x):\n",
    "        x = torch.flatten(x, 1)\n",
    "        #x = F.relu(self.fc1(x))\n",
    "        output = self.fc1(x)\n",
    "        #output = self.fc3(x)\n",
    "        return output"
   ]
  },
  {
   "cell_type": "code",
   "execution_count": 9,
   "id": "f93f4bbc",
   "metadata": {},
   "outputs": [],
   "source": [
    "from typing import Iterable, Optional\n",
    "\n",
    "def grads_to_vector(parameters: Iterable[torch.Tensor]) -> torch.Tensor:\n",
    "    r\"\"\"Convert parameters to one vector\n",
    "\n",
    "    Args:\n",
    "        parameters (Iterable[Tensor]): an iterator of Tensors that are the\n",
    "            parameters of a model.\n",
    "\n",
    "    Returns:\n",
    "        The parameters represented by a single vector\n",
    "    \"\"\"\n",
    "    # Flag for the device where the parameter is located\n",
    "    param_device = None\n",
    "\n",
    "    vec = []\n",
    "    for param in parameters:\n",
    "        # Ensure the parameters are located in the same device\n",
    "        param_device = param.grad\n",
    "\n",
    "        vec.append(param_device.view(-1))\n",
    "    return torch.cat(vec)"
   ]
  },
  {
   "cell_type": "code",
   "execution_count": 10,
   "id": "9cd3a679",
   "metadata": {},
   "outputs": [
    {
     "name": "stdout",
     "output_type": "stream",
     "text": [
      "torch.Size([50, 1])\n",
      "torch.Size([50, 1])\n",
      "0 tensor(10.3434, grad_fn=<MseLossBackward0>) tensor([ 5.7181, -3.4439]) tensor([0.5334, 0.2001], grad_fn=<CatBackward0>)\n",
      "torch.Size([50, 1])\n",
      "torch.Size([50, 1])\n",
      "0 tensor(7.3859, grad_fn=<MseLossBackward0>) tensor([ 4.2482, -2.4084]) tensor([0.4763, 0.2345], grad_fn=<CatBackward0>)\n",
      "torch.Size([50, 1])\n",
      "torch.Size([50, 1])\n",
      "0 tensor(11.5803, grad_fn=<MseLossBackward0>) tensor([ 6.0629, -4.8251]) tensor([0.4338, 0.2586], grad_fn=<CatBackward0>)\n",
      "torch.Size([50, 1])\n",
      "torch.Size([50, 1])\n",
      "0 tensor(10.1169, grad_fn=<MseLossBackward0>) tensor([ 6.1634, -3.3119]) tensor([0.3732, 0.3068], grad_fn=<CatBackward0>)\n",
      "torch.Size([50, 1])\n",
      "torch.Size([50, 1])\n",
      "1 tensor(8.6669, grad_fn=<MseLossBackward0>) tensor([ 5.2149, -3.1795]) tensor([0.3115, 0.3400], grad_fn=<CatBackward0>)\n",
      "torch.Size([50, 1])\n",
      "torch.Size([50, 1])\n",
      "1 tensor(6.1873, grad_fn=<MseLossBackward0>) tensor([ 3.8691, -2.2310]) tensor([0.2594, 0.3717], grad_fn=<CatBackward0>)\n",
      "torch.Size([50, 1])\n",
      "torch.Size([50, 1])\n",
      "1 tensor(9.7165, grad_fn=<MseLossBackward0>) tensor([ 5.5367, -4.4433]) tensor([0.2207, 0.3941], grad_fn=<CatBackward0>)\n",
      "torch.Size([50, 1])\n",
      "torch.Size([50, 1])\n",
      "1 tensor(8.4729, grad_fn=<MseLossBackward0>) tensor([ 5.6221, -3.0564]) tensor([0.1653, 0.4385], grad_fn=<CatBackward0>)\n",
      "torch.Size([50, 1])\n",
      "torch.Size([50, 1])\n",
      "2 tensor(7.2630, grad_fn=<MseLossBackward0>) tensor([ 4.7561, -2.9353]) tensor([0.1091, 0.4691], grad_fn=<CatBackward0>)\n",
      "torch.Size([50, 1])\n",
      "torch.Size([50, 1])\n",
      "2 tensor(5.1838, grad_fn=<MseLossBackward0>) tensor([ 3.5239, -2.0664]) tensor([0.0615, 0.4984], grad_fn=<CatBackward0>)\n",
      "torch.Size([50, 1])\n",
      "torch.Size([50, 1])\n",
      "2 tensor(8.1534, grad_fn=<MseLossBackward0>) tensor([ 5.0563, -4.0917]) tensor([0.0263, 0.5191], grad_fn=<CatBackward0>)\n",
      "torch.Size([50, 1])\n",
      "torch.Size([50, 1])\n",
      "2 tensor(7.0969, grad_fn=<MseLossBackward0>) tensor([ 5.1285, -2.8204]) tensor([-0.0243,  0.5600], grad_fn=<CatBackward0>)\n",
      "torch.Size([50, 1])\n",
      "torch.Size([50, 1])\n",
      "3 tensor(6.0872, grad_fn=<MseLossBackward0>) tensor([ 4.3378, -2.7096]) tensor([-0.0756,  0.5882], grad_fn=<CatBackward0>)\n",
      "torch.Size([50, 1])\n",
      "torch.Size([50, 1])\n",
      "3 tensor(4.3436, grad_fn=<MseLossBackward0>) tensor([ 3.2095, -1.9136]) tensor([-0.1189,  0.6153], grad_fn=<CatBackward0>)\n",
      "torch.Size([50, 1])\n",
      "torch.Size([50, 1])\n",
      "3 tensor(6.8424, grad_fn=<MseLossBackward0>) tensor([ 4.6177, -3.7677]) tensor([-0.1510,  0.6344], grad_fn=<CatBackward0>)\n",
      "torch.Size([50, 1])\n",
      "torch.Size([50, 1])\n",
      "3 tensor(5.9449, grad_fn=<MseLossBackward0>) tensor([ 4.6784, -2.6025]) tensor([-0.1972,  0.6721], grad_fn=<CatBackward0>)\n",
      "torch.Size([50, 1])\n",
      "torch.Size([50, 1])\n",
      "4 tensor(5.1022, grad_fn=<MseLossBackward0>) tensor([ 3.9563, -2.5011]) tensor([-0.2440,  0.6981], grad_fn=<CatBackward0>)\n",
      "torch.Size([50, 1])\n",
      "torch.Size([50, 1])\n",
      "4 tensor(3.6401, grad_fn=<MseLossBackward0>) tensor([ 2.9233, -1.7718]) tensor([-0.2836,  0.7231], grad_fn=<CatBackward0>)\n",
      "torch.Size([50, 1])\n",
      "torch.Size([50, 1])\n",
      "4 tensor(5.7427, grad_fn=<MseLossBackward0>) tensor([ 4.2173, -3.4693]) tensor([-0.3128,  0.7409], grad_fn=<CatBackward0>)\n",
      "torch.Size([50, 1])\n",
      "torch.Size([50, 1])\n",
      "4 tensor(4.9804, grad_fn=<MseLossBackward0>) tensor([ 4.2679, -2.4013]) tensor([-0.3550,  0.7755], grad_fn=<CatBackward0>)\n",
      "torch.Size([50, 1])\n",
      "torch.Size([50, 1])\n",
      "5 tensor(4.2771, grad_fn=<MseLossBackward0>) tensor([ 3.6086, -2.3085]) tensor([-0.3976,  0.7996], grad_fn=<CatBackward0>)\n",
      "torch.Size([50, 1])\n",
      "torch.Size([50, 1])\n",
      "5 tensor(3.0509, grad_fn=<MseLossBackward0>) tensor([ 2.6626, -1.6404]) tensor([-0.4337,  0.8226], grad_fn=<CatBackward0>)\n",
      "torch.Size([50, 1])\n",
      "torch.Size([50, 1])\n",
      "5 tensor(4.8202, grad_fn=<MseLossBackward0>) tensor([ 3.8518, -3.1944]) tensor([-0.4603,  0.8391], grad_fn=<CatBackward0>)\n",
      "torch.Size([50, 1])\n",
      "torch.Size([50, 1])\n",
      "5 tensor(4.1728, grad_fn=<MseLossBackward0>) tensor([ 3.8935, -2.2155]) tensor([-0.4989,  0.8710], grad_fn=<CatBackward0>)\n",
      "torch.Size([50, 1])\n",
      "torch.Size([50, 1])\n",
      "6 tensor(3.5859, grad_fn=<MseLossBackward0>) tensor([ 3.2914, -2.1305]) tensor([-0.5378,  0.8931], grad_fn=<CatBackward0>)\n",
      "torch.Size([50, 1])\n",
      "torch.Size([50, 1])\n",
      "6 tensor(2.5574, grad_fn=<MseLossBackward0>) tensor([ 2.4252, -1.5185]) tensor([-0.5707,  0.9145], grad_fn=<CatBackward0>)\n",
      "torch.Size([50, 1])\n",
      "torch.Size([50, 1])\n",
      "6 tensor(4.0462, grad_fn=<MseLossBackward0>) tensor([ 3.5180, -2.9413]) tensor([-0.5950,  0.9296], grad_fn=<CatBackward0>)\n",
      "torch.Size([50, 1])\n",
      "torch.Size([50, 1])\n",
      "6 tensor(3.4966, grad_fn=<MseLossBackward0>) tensor([ 3.5520, -2.0439]) tensor([-0.6301,  0.9591], grad_fn=<CatBackward0>)\n",
      "torch.Size([50, 1])\n",
      "torch.Size([50, 1])\n",
      "7 tensor(3.0066, grad_fn=<MseLossBackward0>) tensor([ 3.0023, -1.9662]) tensor([-0.6657,  0.9795], grad_fn=<CatBackward0>)\n",
      "torch.Size([50, 1])\n",
      "torch.Size([50, 1])\n",
      "7 tensor(2.1440, grad_fn=<MseLossBackward0>) tensor([ 2.2090, -1.4054]) tensor([-0.6957,  0.9992], grad_fn=<CatBackward0>)\n",
      "torch.Size([50, 1])\n",
      "torch.Size([50, 1])\n",
      "7 tensor(3.3968, grad_fn=<MseLossBackward0>) tensor([ 3.2133, -2.7081]) tensor([-0.7178,  1.0132], grad_fn=<CatBackward0>)\n",
      "torch.Size([50, 1])\n",
      "torch.Size([50, 1])\n",
      "7 tensor(2.9302, grad_fn=<MseLossBackward0>) tensor([ 3.2406, -1.8855]) tensor([-0.7499,  1.0403], grad_fn=<CatBackward0>)\n",
      "torch.Size([50, 1])\n",
      "torch.Size([50, 1])\n",
      "8 tensor(2.5212, grad_fn=<MseLossBackward0>) tensor([ 2.7386, -1.8144]) tensor([-0.7823,  1.0591], grad_fn=<CatBackward0>)\n",
      "torch.Size([50, 1])\n",
      "torch.Size([50, 1])\n",
      "8 tensor(1.7976, grad_fn=<MseLossBackward0>) tensor([ 2.0122, -1.3006]) tensor([-0.8097,  1.0773], grad_fn=<CatBackward0>)\n",
      "torch.Size([50, 1])\n",
      "torch.Size([50, 1])\n",
      "8 tensor(2.8519, grad_fn=<MseLossBackward0>) tensor([ 2.9350, -2.4934]) tensor([-0.8298,  1.0903], grad_fn=<CatBackward0>)\n",
      "torch.Size([50, 1])\n",
      "torch.Size([50, 1])\n",
      "8 tensor(2.4558, grad_fn=<MseLossBackward0>) tensor([ 2.9566, -1.7393]) tensor([-0.8592,  1.1152], grad_fn=<CatBackward0>)\n",
      "torch.Size([50, 1])\n",
      "torch.Size([50, 1])\n",
      "9 tensor(2.1144, grad_fn=<MseLossBackward0>) tensor([ 2.4981, -1.6742]) tensor([-0.8887,  1.1326], grad_fn=<CatBackward0>)\n",
      "torch.Size([50, 1])\n",
      "torch.Size([50, 1])\n",
      "9 tensor(1.5074, grad_fn=<MseLossBackward0>) tensor([ 1.8329, -1.2035]) tensor([-0.9137,  1.1494], grad_fn=<CatBackward0>)\n",
      "torch.Size([50, 1])\n",
      "torch.Size([50, 1])\n",
      "9 tensor(2.3946, grad_fn=<MseLossBackward0>) tensor([ 2.6810, -2.2956]) tensor([-0.9321,  1.1614], grad_fn=<CatBackward0>)\n",
      "torch.Size([50, 1])\n",
      "torch.Size([50, 1])\n",
      "9 tensor(2.0584, grad_fn=<MseLossBackward0>) tensor([ 2.6975, -1.6044]) tensor([-0.9589,  1.1844], grad_fn=<CatBackward0>)\n",
      "torch.Size([50, 1])\n",
      "torch.Size([50, 1])\n",
      "10 tensor(1.7734, grad_fn=<MseLossBackward0>) tensor([ 2.2788, -1.5447]) tensor([-0.9858,  1.2004], grad_fn=<CatBackward0>)\n",
      "torch.Size([50, 1])\n",
      "torch.Size([50, 1])\n",
      "10 tensor(1.2642, grad_fn=<MseLossBackward0>) tensor([ 1.6696, -1.1135]) tensor([-1.0086,  1.2158], grad_fn=<CatBackward0>)\n",
      "torch.Size([50, 1])\n",
      "torch.Size([50, 1])\n",
      "10 tensor(2.0108, grad_fn=<MseLossBackward0>) tensor([ 2.4490, -2.1134]) tensor([-1.0253,  1.2270], grad_fn=<CatBackward0>)\n",
      "torch.Size([50, 1])\n",
      "torch.Size([50, 1])\n",
      "10 tensor(1.7255, grad_fn=<MseLossBackward0>) tensor([ 2.4612, -1.4798]) tensor([-1.0498,  1.2481], grad_fn=<CatBackward0>)\n",
      "torch.Size([50, 1])\n",
      "torch.Size([50, 1])\n",
      "11 tensor(1.4876, grad_fn=<MseLossBackward0>) tensor([ 2.0788, -1.4252]) tensor([-1.0744,  1.2629], grad_fn=<CatBackward0>)\n",
      "torch.Size([50, 1])\n",
      "torch.Size([50, 1])\n",
      "11 tensor(1.0604, grad_fn=<MseLossBackward0>) tensor([ 1.5209, -1.0301]) tensor([-1.0952,  1.2772], grad_fn=<CatBackward0>)\n",
      "torch.Size([50, 1])\n",
      "torch.Size([50, 1])\n",
      "11 tensor(1.6886, grad_fn=<MseLossBackward0>) tensor([ 2.2371, -1.9457]) tensor([-1.1104,  1.2875], grad_fn=<CatBackward0>)\n",
      "torch.Size([50, 1])\n",
      "torch.Size([50, 1])\n",
      "11 tensor(1.4466, grad_fn=<MseLossBackward0>) tensor([ 2.2456, -1.3648]) tensor([-1.1328,  1.3069], grad_fn=<CatBackward0>)\n",
      "torch.Size([50, 1])\n",
      "torch.Size([50, 1])\n",
      "12 tensor(1.2479, grad_fn=<MseLossBackward0>) tensor([ 1.8965, -1.3148]) tensor([-1.1552,  1.3206], grad_fn=<CatBackward0>)\n",
      "torch.Size([50, 1])\n",
      "torch.Size([50, 1])\n",
      "12 tensor(0.8895, grad_fn=<MseLossBackward0>) tensor([ 1.3854, -0.9528]) tensor([-1.1742,  1.3337], grad_fn=<CatBackward0>)\n",
      "torch.Size([50, 1])\n",
      "torch.Size([50, 1])\n",
      "12 tensor(1.4182, grad_fn=<MseLossBackward0>) tensor([ 2.0436, -1.7912]) tensor([-1.1881,  1.3432], grad_fn=<CatBackward0>)\n",
      "torch.Size([50, 1])\n",
      "torch.Size([50, 1])\n"
     ]
    },
    {
     "name": "stdout",
     "output_type": "stream",
     "text": [
      "12 tensor(1.2129, grad_fn=<MseLossBackward0>) tensor([ 2.0490, -1.2587]) tensor([-1.2085,  1.3612], grad_fn=<CatBackward0>)\n",
      "torch.Size([50, 1])\n",
      "torch.Size([50, 1])\n",
      "13 tensor(1.0470, grad_fn=<MseLossBackward0>) tensor([ 1.7302, -1.2129]) tensor([-1.2290,  1.3737], grad_fn=<CatBackward0>)\n",
      "torch.Size([50, 1])\n",
      "torch.Size([50, 1])\n",
      "13 tensor(0.7462, grad_fn=<MseLossBackward0>) tensor([ 1.2621, -0.8812]) tensor([-1.2463,  1.3859], grad_fn=<CatBackward0>)\n",
      "torch.Size([50, 1])\n",
      "torch.Size([50, 1])\n",
      "13 tensor(1.1912, grad_fn=<MseLossBackward0>) tensor([ 1.8670, -1.6490]) tensor([-1.2589,  1.3947], grad_fn=<CatBackward0>)\n",
      "torch.Size([50, 1])\n",
      "torch.Size([50, 1])\n",
      "13 tensor(1.0170, grad_fn=<MseLossBackward0>) tensor([ 1.8697, -1.1608]) tensor([-1.2776,  1.4112], grad_fn=<CatBackward0>)\n",
      "torch.Size([50, 1])\n",
      "torch.Size([50, 1])\n",
      "14 tensor(0.8785, grad_fn=<MseLossBackward0>) tensor([ 1.5785, -1.1189]) tensor([-1.2963,  1.4228], grad_fn=<CatBackward0>)\n",
      "torch.Size([50, 1])\n",
      "torch.Size([50, 1])\n",
      "14 tensor(0.6261, grad_fn=<MseLossBackward0>) tensor([ 1.1497, -0.8149]) tensor([-1.3121,  1.4340], grad_fn=<CatBackward0>)\n",
      "torch.Size([50, 1])\n",
      "torch.Size([50, 1])\n",
      "14 tensor(1.0006, grad_fn=<MseLossBackward0>) tensor([ 1.7056, -1.5180]) tensor([-1.3236,  1.4421], grad_fn=<CatBackward0>)\n",
      "torch.Size([50, 1])\n",
      "torch.Size([50, 1])\n",
      "14 tensor(0.8529, grad_fn=<MseLossBackward0>) tensor([ 1.7060, -1.0704]) tensor([-1.3406,  1.4573], grad_fn=<CatBackward0>)\n",
      "torch.Size([50, 1])\n",
      "torch.Size([50, 1])\n",
      "15 tensor(0.7372, grad_fn=<MseLossBackward0>) tensor([ 1.4401, -1.0320]) tensor([-1.3577,  1.4680], grad_fn=<CatBackward0>)\n",
      "torch.Size([50, 1])\n",
      "torch.Size([50, 1])\n",
      "15 tensor(0.5254, grad_fn=<MseLossBackward0>) tensor([ 1.0474, -0.7536]) tensor([-1.3721,  1.4783], grad_fn=<CatBackward0>)\n",
      "torch.Size([50, 1])\n",
      "torch.Size([50, 1])\n",
      "15 tensor(0.8406, grad_fn=<MseLossBackward0>) tensor([ 1.5583, -1.3974]) tensor([-1.3826,  1.4859], grad_fn=<CatBackward0>)\n",
      "torch.Size([50, 1])\n",
      "torch.Size([50, 1])\n",
      "15 tensor(0.7153, grad_fn=<MseLossBackward0>) tensor([ 1.5568, -0.9870]) tensor([-1.3981,  1.4998], grad_fn=<CatBackward0>)\n",
      "torch.Size([50, 1])\n",
      "torch.Size([50, 1])\n",
      "16 tensor(0.6187, grad_fn=<MseLossBackward0>) tensor([ 1.3139, -0.9519]) tensor([-1.4137,  1.5097], grad_fn=<CatBackward0>)\n",
      "torch.Size([50, 1])\n",
      "torch.Size([50, 1])\n",
      "16 tensor(0.4410, grad_fn=<MseLossBackward0>) tensor([ 0.9542, -0.6967]) tensor([-1.4268,  1.5192], grad_fn=<CatBackward0>)\n",
      "torch.Size([50, 1])\n",
      "torch.Size([50, 1])\n",
      "16 tensor(0.7062, grad_fn=<MseLossBackward0>) tensor([ 1.4237, -1.2863]) tensor([-1.4364,  1.5262], grad_fn=<CatBackward0>)\n",
      "torch.Size([50, 1])\n",
      "torch.Size([50, 1])\n",
      "16 tensor(0.5999, grad_fn=<MseLossBackward0>) tensor([ 1.4206, -0.9101]) tensor([-1.4506,  1.5391], grad_fn=<CatBackward0>)\n",
      "torch.Size([50, 1])\n",
      "torch.Size([50, 1])\n",
      "17 tensor(0.5193, grad_fn=<MseLossBackward0>) tensor([ 1.1988, -0.8779]) tensor([-1.4648,  1.5482], grad_fn=<CatBackward0>)\n",
      "torch.Size([50, 1])\n",
      "torch.Size([50, 1])\n",
      "17 tensor(0.3701, grad_fn=<MseLossBackward0>) tensor([ 0.8693, -0.6441]) tensor([-1.4768,  1.5569], grad_fn=<CatBackward0>)\n",
      "torch.Size([50, 1])\n",
      "torch.Size([50, 1])\n",
      "17 tensor(0.5934, grad_fn=<MseLossBackward0>) tensor([ 1.3008, -1.1841]) tensor([-1.4855,  1.5634], grad_fn=<CatBackward0>)\n",
      "torch.Size([50, 1])\n",
      "torch.Size([50, 1])\n",
      "17 tensor(0.5032, grad_fn=<MseLossBackward0>) tensor([ 1.2964, -0.8391]) tensor([-1.4985,  1.5752], grad_fn=<CatBackward0>)\n",
      "torch.Size([50, 1])\n",
      "torch.Size([50, 1])\n",
      "18 tensor(0.4359, grad_fn=<MseLossBackward0>) tensor([ 1.0939, -0.8096]) tensor([-1.5115,  1.5836], grad_fn=<CatBackward0>)\n",
      "torch.Size([50, 1])\n",
      "torch.Size([50, 1])\n",
      "18 tensor(0.3107, grad_fn=<MseLossBackward0>) tensor([ 0.7919, -0.5954]) tensor([-1.5224,  1.5917], grad_fn=<CatBackward0>)\n",
      "torch.Size([50, 1])\n",
      "torch.Size([50, 1])\n",
      "18 tensor(0.4986, grad_fn=<MseLossBackward0>) tensor([ 1.1885, -1.0899]) tensor([-1.5303,  1.5977], grad_fn=<CatBackward0>)\n",
      "torch.Size([50, 1])\n",
      "torch.Size([50, 1])\n",
      "18 tensor(0.4222, grad_fn=<MseLossBackward0>) tensor([ 1.1831, -0.7736]) tensor([-1.5422,  1.6086], grad_fn=<CatBackward0>)\n",
      "torch.Size([50, 1])\n",
      "torch.Size([50, 1])\n",
      "19 tensor(0.3659, grad_fn=<MseLossBackward0>) tensor([ 0.9981, -0.7466]) tensor([-1.5541,  1.6163], grad_fn=<CatBackward0>)\n",
      "torch.Size([50, 1])\n",
      "torch.Size([50, 1])\n",
      "19 tensor(0.2608, grad_fn=<MseLossBackward0>) tensor([ 0.7215, -0.5504]) tensor([-1.5640,  1.6238], grad_fn=<CatBackward0>)\n",
      "torch.Size([50, 1])\n",
      "torch.Size([50, 1])\n",
      "19 tensor(0.4190, grad_fn=<MseLossBackward0>) tensor([ 1.0860, -1.0032]) tensor([-1.5713,  1.6293], grad_fn=<CatBackward0>)\n",
      "torch.Size([50, 1])\n",
      "torch.Size([50, 1])\n",
      "19 tensor(0.3542, grad_fn=<MseLossBackward0>) tensor([ 1.0797, -0.7132]) tensor([-1.5821,  1.6393], grad_fn=<CatBackward0>)\n",
      "torch.Size([50, 1])\n",
      "torch.Size([50, 1])\n",
      "20 tensor(0.3072, grad_fn=<MseLossBackward0>) tensor([ 0.9108, -0.6885]) tensor([-1.5929,  1.6464], grad_fn=<CatBackward0>)\n",
      "torch.Size([50, 1])\n",
      "torch.Size([50, 1])\n",
      "20 tensor(0.2190, grad_fn=<MseLossBackward0>) tensor([ 0.6573, -0.5087]) tensor([-1.6020,  1.6533], grad_fn=<CatBackward0>)\n",
      "torch.Size([50, 1])\n",
      "torch.Size([50, 1])\n",
      "20 tensor(0.3521, grad_fn=<MseLossBackward0>) tensor([ 0.9923, -0.9234]) tensor([-1.6086,  1.6584], grad_fn=<CatBackward0>)\n",
      "torch.Size([50, 1])\n",
      "torch.Size([50, 1])\n",
      "20 tensor(0.2972, grad_fn=<MseLossBackward0>) tensor([ 0.9854, -0.6575]) tensor([-1.6185,  1.6676], grad_fn=<CatBackward0>)\n",
      "torch.Size([50, 1])\n",
      "torch.Size([50, 1])\n",
      "21 tensor(0.2579, grad_fn=<MseLossBackward0>) tensor([ 0.8311, -0.6349]) tensor([-1.6284,  1.6742], grad_fn=<CatBackward0>)\n",
      "torch.Size([50, 1])\n",
      "torch.Size([50, 1])\n",
      "21 tensor(0.1839, grad_fn=<MseLossBackward0>) tensor([ 0.5989, -0.4701]) tensor([-1.6367,  1.6806], grad_fn=<CatBackward0>)\n",
      "torch.Size([50, 1])\n",
      "torch.Size([50, 1])\n",
      "21 tensor(0.2959, grad_fn=<MseLossBackward0>) tensor([ 0.9068, -0.8499]) tensor([-1.6427,  1.6853], grad_fn=<CatBackward0>)\n",
      "torch.Size([50, 1])\n",
      "torch.Size([50, 1])\n",
      "21 tensor(0.2494, grad_fn=<MseLossBackward0>) tensor([ 0.8993, -0.6061]) tensor([-1.6517,  1.6938], grad_fn=<CatBackward0>)\n",
      "torch.Size([50, 1])\n",
      "torch.Size([50, 1])\n",
      "22 tensor(0.2166, grad_fn=<MseLossBackward0>) tensor([ 0.7584, -0.5854]) tensor([-1.6607,  1.6998], grad_fn=<CatBackward0>)\n",
      "torch.Size([50, 1])\n",
      "torch.Size([50, 1])\n",
      "22 tensor(0.1544, grad_fn=<MseLossBackward0>) tensor([ 0.5456, -0.4344]) tensor([-1.6683,  1.7057], grad_fn=<CatBackward0>)\n",
      "torch.Size([50, 1])\n",
      "torch.Size([50, 1])\n",
      "22 tensor(0.2487, grad_fn=<MseLossBackward0>) tensor([ 0.8287, -0.7823]) tensor([-1.6738,  1.7100], grad_fn=<CatBackward0>)\n",
      "torch.Size([50, 1])\n",
      "torch.Size([50, 1])\n",
      "22 tensor(0.2093, grad_fn=<MseLossBackward0>) tensor([ 0.8208, -0.5587]) tensor([-1.6821,  1.7178], grad_fn=<CatBackward0>)\n",
      "torch.Size([50, 1])\n",
      "torch.Size([50, 1])\n",
      "23 tensor(0.1819, grad_fn=<MseLossBackward0>) tensor([ 0.6921, -0.5397]) tensor([-1.6903,  1.7234], grad_fn=<CatBackward0>)\n",
      "torch.Size([50, 1])\n",
      "torch.Size([50, 1])\n",
      "23 tensor(0.1297, grad_fn=<MseLossBackward0>) tensor([ 0.4971, -0.4014]) tensor([-1.6972,  1.7288], grad_fn=<CatBackward0>)\n",
      "torch.Size([50, 1])\n",
      "torch.Size([50, 1])\n",
      "23 tensor(0.2091, grad_fn=<MseLossBackward0>) tensor([ 0.7573, -0.7200]) tensor([-1.7022,  1.7328], grad_fn=<CatBackward0>)\n",
      "torch.Size([50, 1])\n",
      "torch.Size([50, 1])\n",
      "23 tensor(0.1756, grad_fn=<MseLossBackward0>) tensor([ 0.7491, -0.5150]) tensor([-1.7097,  1.7400], grad_fn=<CatBackward0>)\n",
      "torch.Size([50, 1])\n",
      "torch.Size([50, 1])\n",
      "24 tensor(0.1528, grad_fn=<MseLossBackward0>) tensor([ 0.6316, -0.4976]) tensor([-1.7172,  1.7452], grad_fn=<CatBackward0>)\n",
      "torch.Size([50, 1])\n",
      "torch.Size([50, 1])\n",
      "24 tensor(0.1090, grad_fn=<MseLossBackward0>) tensor([ 0.4529, -0.3708]) tensor([-1.7235,  1.7502], grad_fn=<CatBackward0>)\n",
      "torch.Size([50, 1])\n",
      "torch.Size([50, 1])\n",
      "24 tensor(0.1758, grad_fn=<MseLossBackward0>) tensor([ 0.6921, -0.6626]) tensor([-1.7281,  1.7539], grad_fn=<CatBackward0>)\n",
      "torch.Size([50, 1])\n",
      "torch.Size([50, 1])\n",
      "24 tensor(0.1474, grad_fn=<MseLossBackward0>) tensor([ 0.6837, -0.4746]) tensor([-1.7350,  1.7605], grad_fn=<CatBackward0>)\n",
      "torch.Size([50, 1])\n",
      "torch.Size([50, 1])\n",
      "25 tensor(0.1283, grad_fn=<MseLossBackward0>) tensor([ 0.5764, -0.4587]) tensor([-1.7418,  1.7652], grad_fn=<CatBackward0>)\n",
      "torch.Size([50, 1])\n",
      "torch.Size([50, 1])\n",
      "25 tensor(0.0915, grad_fn=<MseLossBackward0>) tensor([ 0.4127, -0.3426]) tensor([-1.7476,  1.7698], grad_fn=<CatBackward0>)\n",
      "torch.Size([50, 1])\n",
      "torch.Size([50, 1])\n",
      "25 tensor(0.1478, grad_fn=<MseLossBackward0>) tensor([ 0.6325, -0.6099]) tensor([-1.7517,  1.7733], grad_fn=<CatBackward0>)\n",
      "torch.Size([50, 1])\n",
      "torch.Size([50, 1])\n",
      "25 tensor(0.1237, grad_fn=<MseLossBackward0>) tensor([ 0.6240, -0.4375]) tensor([-1.7580,  1.7794], grad_fn=<CatBackward0>)\n",
      "torch.Size([50, 1])\n",
      "torch.Size([50, 1])\n",
      "26 tensor(0.1078, grad_fn=<MseLossBackward0>) tensor([ 0.5261, -0.4229]) tensor([-1.7643,  1.7837], grad_fn=<CatBackward0>)\n",
      "torch.Size([50, 1])\n",
      "torch.Size([50, 1])\n",
      "26 tensor(0.0769, grad_fn=<MseLossBackward0>) tensor([ 0.3760, -0.3164]) tensor([-1.7695,  1.7880], grad_fn=<CatBackward0>)\n",
      "torch.Size([50, 1])\n",
      "torch.Size([50, 1])\n",
      "26 tensor(0.1243, grad_fn=<MseLossBackward0>) tensor([ 0.5781, -0.5613]) tensor([-1.7733,  1.7911], grad_fn=<CatBackward0>)\n",
      "torch.Size([50, 1])\n",
      "torch.Size([50, 1])\n",
      "26 tensor(0.1039, grad_fn=<MseLossBackward0>) tensor([ 0.5696, -0.4032]) tensor([-1.7791,  1.7967], grad_fn=<CatBackward0>)\n",
      "torch.Size([50, 1])\n",
      "torch.Size([50, 1])\n",
      "27 tensor(0.0906, grad_fn=<MseLossBackward0>) tensor([ 0.4802, -0.3898]) tensor([-1.7848,  1.8008], grad_fn=<CatBackward0>)\n",
      "torch.Size([50, 1])\n",
      "torch.Size([50, 1])\n",
      "27 tensor(0.0646, grad_fn=<MseLossBackward0>) tensor([ 0.3426, -0.2923]) tensor([-1.7896,  1.8047], grad_fn=<CatBackward0>)\n",
      "torch.Size([50, 1])\n",
      "torch.Size([50, 1])\n",
      "27 tensor(0.1045, grad_fn=<MseLossBackward0>) tensor([ 0.5284, -0.5165]) tensor([-1.7930,  1.8076], grad_fn=<CatBackward0>)\n",
      "torch.Size([50, 1])\n",
      "torch.Size([50, 1])\n",
      "27 tensor(0.0872, grad_fn=<MseLossBackward0>) tensor([ 0.5199, -0.3716]) tensor([-1.7983,  1.8128], grad_fn=<CatBackward0>)\n",
      "torch.Size([50, 1])\n",
      "torch.Size([50, 1])\n",
      "28 tensor(0.0761, grad_fn=<MseLossBackward0>) tensor([ 0.4383, -0.3593]) tensor([-1.8035,  1.8165], grad_fn=<CatBackward0>)\n",
      "torch.Size([50, 1])\n",
      "torch.Size([50, 1])\n",
      "28 tensor(0.0543, grad_fn=<MseLossBackward0>) tensor([ 0.3122, -0.2700]) tensor([-1.8079,  1.8201], grad_fn=<CatBackward0>)\n",
      "torch.Size([50, 1])\n",
      "torch.Size([50, 1])\n"
     ]
    },
    {
     "name": "stdout",
     "output_type": "stream",
     "text": [
      "28 tensor(0.0879, grad_fn=<MseLossBackward0>) tensor([ 0.4829, -0.4754]) tensor([-1.8110,  1.8228], grad_fn=<CatBackward0>)\n",
      "torch.Size([50, 1])\n",
      "torch.Size([50, 1])\n",
      "28 tensor(0.0732, grad_fn=<MseLossBackward0>) tensor([ 0.4746, -0.3424]) tensor([-1.8158,  1.8275], grad_fn=<CatBackward0>)\n",
      "torch.Size([50, 1])\n",
      "torch.Size([50, 1])\n",
      "29 tensor(0.0639, grad_fn=<MseLossBackward0>) tensor([ 0.4000, -0.3312]) tensor([-1.8206,  1.8309], grad_fn=<CatBackward0>)\n",
      "torch.Size([50, 1])\n",
      "torch.Size([50, 1])\n",
      "29 tensor(0.0456, grad_fn=<MseLossBackward0>) tensor([ 0.2845, -0.2493]) tensor([-1.8246,  1.8343], grad_fn=<CatBackward0>)\n",
      "torch.Size([50, 1])\n",
      "torch.Size([50, 1])\n",
      "29 tensor(0.0739, grad_fn=<MseLossBackward0>) tensor([ 0.4414, -0.4375]) tensor([-1.8274,  1.8367], grad_fn=<CatBackward0>)\n",
      "torch.Size([50, 1])\n",
      "torch.Size([50, 1])\n",
      "29 tensor(0.0615, grad_fn=<MseLossBackward0>) tensor([ 0.4332, -0.3155]) tensor([-1.8318,  1.8411], grad_fn=<CatBackward0>)\n",
      "torch.Size([50, 1])\n",
      "torch.Size([50, 1])\n",
      "30 tensor(0.0537, grad_fn=<MseLossBackward0>) tensor([ 0.3651, -0.3052]) tensor([-1.8362,  1.8443], grad_fn=<CatBackward0>)\n",
      "torch.Size([50, 1])\n",
      "torch.Size([50, 1])\n",
      "30 tensor(0.0383, grad_fn=<MseLossBackward0>) tensor([ 0.2592, -0.2302]) tensor([-1.8398,  1.8473], grad_fn=<CatBackward0>)\n",
      "torch.Size([50, 1])\n",
      "torch.Size([50, 1])\n",
      "30 tensor(0.0621, grad_fn=<MseLossBackward0>) tensor([ 0.4035, -0.4026]) tensor([-1.8424,  1.8496], grad_fn=<CatBackward0>)\n",
      "torch.Size([50, 1])\n",
      "torch.Size([50, 1])\n",
      "30 tensor(0.0516, grad_fn=<MseLossBackward0>) tensor([ 0.3954, -0.2908]) tensor([-1.8464,  1.8537], grad_fn=<CatBackward0>)\n",
      "torch.Size([50, 1])\n",
      "torch.Size([50, 1])\n",
      "31 tensor(0.0452, grad_fn=<MseLossBackward0>) tensor([ 0.3333, -0.2813]) tensor([-1.8504,  1.8566], grad_fn=<CatBackward0>)\n",
      "torch.Size([50, 1])\n",
      "torch.Size([50, 1])\n",
      "31 tensor(0.0322, grad_fn=<MseLossBackward0>) tensor([ 0.2362, -0.2126]) tensor([-1.8537,  1.8594], grad_fn=<CatBackward0>)\n",
      "torch.Size([50, 1])\n",
      "torch.Size([50, 1])\n",
      "31 tensor(0.0523, grad_fn=<MseLossBackward0>) tensor([ 0.3689, -0.3705]) tensor([-1.8561,  1.8615], grad_fn=<CatBackward0>)\n",
      "torch.Size([50, 1])\n",
      "torch.Size([50, 1])\n",
      "31 tensor(0.0434, grad_fn=<MseLossBackward0>) tensor([ 0.3610, -0.2679]) tensor([-1.8598,  1.8652], grad_fn=<CatBackward0>)\n",
      "torch.Size([50, 1])\n",
      "torch.Size([50, 1])\n",
      "32 tensor(0.0379, grad_fn=<MseLossBackward0>) tensor([ 0.3043, -0.2593]) tensor([-1.8634,  1.8679], grad_fn=<CatBackward0>)\n",
      "torch.Size([50, 1])\n",
      "torch.Size([50, 1])\n",
      "32 tensor(0.0271, grad_fn=<MseLossBackward0>) tensor([ 0.2152, -0.1963]) tensor([-1.8664,  1.8705], grad_fn=<CatBackward0>)\n",
      "torch.Size([50, 1])\n",
      "torch.Size([50, 1])\n",
      "32 tensor(0.0440, grad_fn=<MseLossBackward0>) tensor([ 0.3372, -0.3409]) tensor([-1.8686,  1.8724], grad_fn=<CatBackward0>)\n",
      "torch.Size([50, 1])\n",
      "torch.Size([50, 1])\n",
      "32 tensor(0.0364, grad_fn=<MseLossBackward0>) tensor([ 0.3295, -0.2468]) tensor([-1.8720,  1.8759], grad_fn=<CatBackward0>)\n",
      "torch.Size([50, 1])\n",
      "torch.Size([50, 1])\n",
      "33 tensor(0.0319, grad_fn=<MseLossBackward0>) tensor([ 0.2778, -0.2389]) tensor([-1.8752,  1.8783], grad_fn=<CatBackward0>)\n",
      "torch.Size([50, 1])\n",
      "torch.Size([50, 1])\n",
      "33 tensor(0.0228, grad_fn=<MseLossBackward0>) tensor([ 0.1961, -0.1813]) tensor([-1.8780,  1.8807], grad_fn=<CatBackward0>)\n",
      "torch.Size([50, 1])\n",
      "torch.Size([50, 1])\n",
      "33 tensor(0.0370, grad_fn=<MseLossBackward0>) tensor([ 0.3083, -0.3137]) tensor([-1.8800,  1.8825], grad_fn=<CatBackward0>)\n",
      "torch.Size([50, 1])\n",
      "torch.Size([50, 1])\n",
      "33 tensor(0.0306, grad_fn=<MseLossBackward0>) tensor([ 0.3008, -0.2274]) tensor([-1.8831,  1.8857], grad_fn=<CatBackward0>)\n",
      "torch.Size([50, 1])\n",
      "torch.Size([50, 1])\n",
      "34 tensor(0.0268, grad_fn=<MseLossBackward0>) tensor([ 0.2536, -0.2202]) tensor([-1.8861,  1.8879], grad_fn=<CatBackward0>)\n",
      "torch.Size([50, 1])\n",
      "torch.Size([50, 1])\n",
      "34 tensor(0.0192, grad_fn=<MseLossBackward0>) tensor([ 0.1787, -0.1673]) tensor([-1.8886,  1.8901], grad_fn=<CatBackward0>)\n",
      "torch.Size([50, 1])\n",
      "torch.Size([50, 1])\n",
      "34 tensor(0.0311, grad_fn=<MseLossBackward0>) tensor([ 0.2818, -0.2887]) tensor([-1.8904,  1.8918], grad_fn=<CatBackward0>)\n",
      "torch.Size([50, 1])\n",
      "torch.Size([50, 1])\n",
      "34 tensor(0.0257, grad_fn=<MseLossBackward0>) tensor([ 0.2746, -0.2095]) tensor([-1.8932,  1.8947], grad_fn=<CatBackward0>)\n",
      "torch.Size([50, 1])\n",
      "torch.Size([50, 1])\n",
      "35 tensor(0.0225, grad_fn=<MseLossBackward0>) tensor([ 0.2315, -0.2029]) tensor([-1.8960,  1.8968], grad_fn=<CatBackward0>)\n",
      "torch.Size([50, 1])\n",
      "torch.Size([50, 1])\n",
      "35 tensor(0.0161, grad_fn=<MseLossBackward0>) tensor([ 0.1628, -0.1545]) tensor([-1.8983,  1.8988], grad_fn=<CatBackward0>)\n",
      "torch.Size([50, 1])\n",
      "torch.Size([50, 1])\n",
      "35 tensor(0.0262, grad_fn=<MseLossBackward0>) tensor([ 0.2577, -0.2656]) tensor([-1.8999,  1.9004], grad_fn=<CatBackward0>)\n",
      "torch.Size([50, 1])\n",
      "torch.Size([50, 1])\n",
      "35 tensor(0.0216, grad_fn=<MseLossBackward0>) tensor([ 0.2507, -0.1930]) tensor([-1.9025,  1.9030], grad_fn=<CatBackward0>)\n",
      "torch.Size([50, 1])\n",
      "torch.Size([50, 1])\n",
      "36 tensor(0.0190, grad_fn=<MseLossBackward0>) tensor([ 0.2114, -0.1869]) tensor([-1.9050,  1.9049], grad_fn=<CatBackward0>)\n",
      "torch.Size([50, 1])\n",
      "torch.Size([50, 1])\n",
      "36 tensor(0.0135, grad_fn=<MseLossBackward0>) tensor([ 0.1484, -0.1426]) tensor([-1.9071,  1.9068], grad_fn=<CatBackward0>)\n",
      "torch.Size([50, 1])\n",
      "torch.Size([50, 1])\n",
      "36 tensor(0.0220, grad_fn=<MseLossBackward0>) tensor([ 0.2356, -0.2444]) tensor([-1.9086,  1.9082], grad_fn=<CatBackward0>)\n",
      "torch.Size([50, 1])\n",
      "torch.Size([50, 1])\n",
      "36 tensor(0.0181, grad_fn=<MseLossBackward0>) tensor([ 0.2289, -0.1778]) tensor([-1.9109,  1.9107], grad_fn=<CatBackward0>)\n",
      "torch.Size([50, 1])\n",
      "torch.Size([50, 1])\n",
      "37 tensor(0.0159, grad_fn=<MseLossBackward0>) tensor([ 0.1930, -0.1722]) tensor([-1.9132,  1.9125], grad_fn=<CatBackward0>)\n",
      "torch.Size([50, 1])\n",
      "torch.Size([50, 1])\n",
      "37 tensor(0.0114, grad_fn=<MseLossBackward0>) tensor([ 0.1352, -0.1316]) tensor([-1.9152,  1.9142], grad_fn=<CatBackward0>)\n",
      "torch.Size([50, 1])\n",
      "torch.Size([50, 1])\n",
      "37 tensor(0.0185, grad_fn=<MseLossBackward0>) tensor([ 0.2154, -0.2249]) tensor([-1.9165,  1.9155], grad_fn=<CatBackward0>)\n",
      "torch.Size([50, 1])\n",
      "torch.Size([50, 1])\n",
      "37 tensor(0.0152, grad_fn=<MseLossBackward0>) tensor([ 0.2089, -0.1638]) tensor([-1.9187,  1.9178], grad_fn=<CatBackward0>)\n",
      "torch.Size([50, 1])\n",
      "torch.Size([50, 1])\n",
      "38 tensor(0.0134, grad_fn=<MseLossBackward0>) tensor([ 0.1762, -0.1587]) tensor([-1.9208,  1.9194], grad_fn=<CatBackward0>)\n",
      "torch.Size([50, 1])\n",
      "torch.Size([50, 1])\n",
      "38 tensor(0.0096, grad_fn=<MseLossBackward0>) tensor([ 0.1232, -0.1215]) tensor([-1.9225,  1.9210], grad_fn=<CatBackward0>)\n",
      "torch.Size([50, 1])\n",
      "torch.Size([50, 1])\n",
      "38 tensor(0.0156, grad_fn=<MseLossBackward0>) tensor([ 0.1970, -0.2069]) tensor([-1.9238,  1.9222], grad_fn=<CatBackward0>)\n",
      "torch.Size([50, 1])\n",
      "torch.Size([50, 1])\n",
      "38 tensor(0.0128, grad_fn=<MseLossBackward0>) tensor([ 0.1908, -0.1509]) tensor([-1.9257,  1.9243], grad_fn=<CatBackward0>)\n",
      "torch.Size([50, 1])\n",
      "torch.Size([50, 1])\n",
      "39 tensor(0.0113, grad_fn=<MseLossBackward0>) tensor([ 0.1609, -0.1462]) tensor([-1.9276,  1.9258], grad_fn=<CatBackward0>)\n",
      "torch.Size([50, 1])\n",
      "torch.Size([50, 1])\n",
      "39 tensor(0.0081, grad_fn=<MseLossBackward0>) tensor([ 0.1123, -0.1121]) tensor([-1.9292,  1.9272], grad_fn=<CatBackward0>)\n",
      "torch.Size([50, 1])\n",
      "torch.Size([50, 1])\n",
      "39 tensor(0.0131, grad_fn=<MseLossBackward0>) tensor([ 0.1802, -0.1904]) tensor([-1.9304,  1.9284], grad_fn=<CatBackward0>)\n",
      "torch.Size([50, 1])\n",
      "torch.Size([50, 1])\n",
      "39 tensor(0.0107, grad_fn=<MseLossBackward0>) tensor([ 0.1741, -0.1390]) tensor([-1.9322,  1.9303], grad_fn=<CatBackward0>)\n",
      "torch.Size([50, 1])\n",
      "torch.Size([50, 1])\n",
      "40 tensor(0.0095, grad_fn=<MseLossBackward0>) tensor([ 0.1469, -0.1347]) tensor([-1.9339,  1.9317], grad_fn=<CatBackward0>)\n",
      "torch.Size([50, 1])\n",
      "torch.Size([50, 1])\n",
      "40 tensor(0.0068, grad_fn=<MseLossBackward0>) tensor([ 0.1023, -0.1035]) tensor([-1.9354,  1.9330], grad_fn=<CatBackward0>)\n",
      "torch.Size([50, 1])\n",
      "torch.Size([50, 1])\n",
      "40 tensor(0.0110, grad_fn=<MseLossBackward0>) tensor([ 0.1648, -0.1752]) tensor([-1.9364,  1.9340], grad_fn=<CatBackward0>)\n",
      "torch.Size([50, 1])\n",
      "torch.Size([50, 1])\n",
      "40 tensor(0.0090, grad_fn=<MseLossBackward0>) tensor([ 0.1590, -0.1280]) tensor([-1.9380,  1.9358], grad_fn=<CatBackward0>)\n",
      "torch.Size([50, 1])\n",
      "torch.Size([50, 1])\n",
      "41 tensor(0.0080, grad_fn=<MseLossBackward0>) tensor([ 0.1342, -0.1241]) tensor([-1.9396,  1.9371], grad_fn=<CatBackward0>)\n",
      "torch.Size([50, 1])\n",
      "torch.Size([50, 1])\n",
      "41 tensor(0.0057, grad_fn=<MseLossBackward0>) tensor([ 0.0932, -0.0955]) tensor([-1.9410,  1.9383], grad_fn=<CatBackward0>)\n",
      "torch.Size([50, 1])\n",
      "torch.Size([50, 1])\n"
     ]
    },
    {
     "name": "stdout",
     "output_type": "stream",
     "text": [
      "41 tensor(0.0093, grad_fn=<MseLossBackward0>) tensor([ 0.1507, -0.1612]) tensor([-1.9419,  1.9393], grad_fn=<CatBackward0>)\n",
      "torch.Size([50, 1])\n",
      "torch.Size([50, 1])\n",
      "41 tensor(0.0076, grad_fn=<MseLossBackward0>) tensor([ 0.1452, -0.1179]) tensor([-1.9434,  1.9409], grad_fn=<CatBackward0>)\n",
      "torch.Size([50, 1])\n",
      "torch.Size([50, 1])\n",
      "42 tensor(0.0067, grad_fn=<MseLossBackward0>) tensor([ 0.1226, -0.1143]) tensor([-1.9449,  1.9421], grad_fn=<CatBackward0>)\n",
      "torch.Size([50, 1])\n",
      "torch.Size([50, 1])\n",
      "42 tensor(0.0048, grad_fn=<MseLossBackward0>) tensor([ 0.0849, -0.0882]) tensor([-1.9461,  1.9432], grad_fn=<CatBackward0>)\n",
      "torch.Size([50, 1])\n",
      "torch.Size([50, 1])\n",
      "42 tensor(0.0078, grad_fn=<MseLossBackward0>) tensor([ 0.1378, -0.1483]) tensor([-1.9469,  1.9441], grad_fn=<CatBackward0>)\n",
      "torch.Size([50, 1])\n",
      "torch.Size([50, 1])\n",
      "42 tensor(0.0064, grad_fn=<MseLossBackward0>) tensor([ 0.1325, -0.1086]) tensor([-1.9483,  1.9456], grad_fn=<CatBackward0>)\n",
      "torch.Size([50, 1])\n",
      "torch.Size([50, 1])\n",
      "43 tensor(0.0056, grad_fn=<MseLossBackward0>) tensor([ 0.1119, -0.1053]) tensor([-1.9496,  1.9466], grad_fn=<CatBackward0>)\n",
      "torch.Size([50, 1])\n",
      "torch.Size([50, 1])\n",
      "43 tensor(0.0040, grad_fn=<MseLossBackward0>) tensor([ 0.0774, -0.0814]) tensor([-1.9508,  1.9477], grad_fn=<CatBackward0>)\n",
      "torch.Size([50, 1])\n",
      "torch.Size([50, 1])\n",
      "43 tensor(0.0066, grad_fn=<MseLossBackward0>) tensor([ 0.1261, -0.1364]) tensor([-1.9515,  1.9485], grad_fn=<CatBackward0>)\n",
      "torch.Size([50, 1])\n",
      "torch.Size([50, 1])\n",
      "43 tensor(0.0054, grad_fn=<MseLossBackward0>) tensor([ 0.1210, -0.1000]) tensor([-1.9528,  1.9499], grad_fn=<CatBackward0>)\n",
      "torch.Size([50, 1])\n",
      "torch.Size([50, 1])\n",
      "44 tensor(0.0047, grad_fn=<MseLossBackward0>) tensor([ 0.1022, -0.0970]) tensor([-1.9540,  1.9509], grad_fn=<CatBackward0>)\n",
      "torch.Size([50, 1])\n",
      "torch.Size([50, 1])\n",
      "44 tensor(0.0034, grad_fn=<MseLossBackward0>) tensor([ 0.0705, -0.0751]) tensor([-1.9550,  1.9518], grad_fn=<CatBackward0>)\n",
      "torch.Size([50, 1])\n",
      "torch.Size([50, 1])\n",
      "44 tensor(0.0055, grad_fn=<MseLossBackward0>) tensor([ 0.1153, -0.1255]) tensor([-1.9557,  1.9526], grad_fn=<CatBackward0>)\n",
      "torch.Size([50, 1])\n",
      "torch.Size([50, 1])\n",
      "44 tensor(0.0045, grad_fn=<MseLossBackward0>) tensor([ 0.1105, -0.0921]) tensor([-1.9569,  1.9539], grad_fn=<CatBackward0>)\n",
      "torch.Size([50, 1])\n",
      "torch.Size([50, 1])\n",
      "45 tensor(0.0040, grad_fn=<MseLossBackward0>) tensor([ 0.0934, -0.0893]) tensor([-1.9580,  1.9548], grad_fn=<CatBackward0>)\n",
      "torch.Size([50, 1])\n",
      "torch.Size([50, 1])\n",
      "45 tensor(0.0029, grad_fn=<MseLossBackward0>) tensor([ 0.0642, -0.0693]) tensor([-1.9589,  1.9557], grad_fn=<CatBackward0>)\n",
      "torch.Size([50, 1])\n",
      "torch.Size([50, 1])\n",
      "45 tensor(0.0047, grad_fn=<MseLossBackward0>) tensor([ 0.1055, -0.1155]) tensor([-1.9596,  1.9564], grad_fn=<CatBackward0>)\n",
      "torch.Size([50, 1])\n",
      "torch.Size([50, 1])\n",
      "45 tensor(0.0038, grad_fn=<MseLossBackward0>) tensor([ 0.1008, -0.0848]) tensor([-1.9606,  1.9575], grad_fn=<CatBackward0>)\n",
      "torch.Size([50, 1])\n",
      "torch.Size([50, 1])\n",
      "46 tensor(0.0034, grad_fn=<MseLossBackward0>) tensor([ 0.0853, -0.0823]) tensor([-1.9616,  1.9584], grad_fn=<CatBackward0>)\n",
      "torch.Size([50, 1])\n",
      "torch.Size([50, 1])\n",
      "46 tensor(0.0024, grad_fn=<MseLossBackward0>) tensor([ 0.0585, -0.0639]) tensor([-1.9625,  1.9592], grad_fn=<CatBackward0>)\n",
      "torch.Size([50, 1])\n",
      "torch.Size([50, 1])\n",
      "46 tensor(0.0039, grad_fn=<MseLossBackward0>) tensor([ 0.0965, -0.1063]) tensor([-1.9631,  1.9598], grad_fn=<CatBackward0>)\n",
      "torch.Size([50, 1])\n",
      "torch.Size([50, 1])\n",
      "46 tensor(0.0032, grad_fn=<MseLossBackward0>) tensor([ 0.0921, -0.0781]) tensor([-1.9640,  1.9609], grad_fn=<CatBackward0>)\n",
      "torch.Size([50, 1])\n",
      "torch.Size([50, 1])\n",
      "47 tensor(0.0028, grad_fn=<MseLossBackward0>) tensor([ 0.0779, -0.0758]) tensor([-1.9650,  1.9617], grad_fn=<CatBackward0>)\n",
      "torch.Size([50, 1])\n",
      "torch.Size([50, 1])\n",
      "47 tensor(0.0020, grad_fn=<MseLossBackward0>) tensor([ 0.0533, -0.0590]) tensor([-1.9657,  1.9624], grad_fn=<CatBackward0>)\n",
      "torch.Size([50, 1])\n",
      "torch.Size([50, 1])\n",
      "47 tensor(0.0033, grad_fn=<MseLossBackward0>) tensor([ 0.0883, -0.0978]) tensor([-1.9663,  1.9630], grad_fn=<CatBackward0>)\n",
      "torch.Size([50, 1])\n",
      "torch.Size([50, 1])\n",
      "47 tensor(0.0027, grad_fn=<MseLossBackward0>) tensor([ 0.0840, -0.0719]) tensor([-1.9672,  1.9640], grad_fn=<CatBackward0>)\n",
      "torch.Size([50, 1])\n",
      "torch.Size([50, 1])\n",
      "48 tensor(0.0024, grad_fn=<MseLossBackward0>) tensor([ 0.0712, -0.0698]) tensor([-1.9680,  1.9647], grad_fn=<CatBackward0>)\n",
      "torch.Size([50, 1])\n",
      "torch.Size([50, 1])\n",
      "48 tensor(0.0017, grad_fn=<MseLossBackward0>) tensor([ 0.0486, -0.0544]) tensor([-1.9687,  1.9654], grad_fn=<CatBackward0>)\n",
      "torch.Size([50, 1])\n",
      "torch.Size([50, 1])\n",
      "48 tensor(0.0028, grad_fn=<MseLossBackward0>) tensor([ 0.0808, -0.0899]) tensor([-1.9692,  1.9660], grad_fn=<CatBackward0>)\n",
      "torch.Size([50, 1])\n",
      "torch.Size([50, 1])\n",
      "48 tensor(0.0022, grad_fn=<MseLossBackward0>) tensor([ 0.0767, -0.0663]) tensor([-1.9700,  1.9669], grad_fn=<CatBackward0>)\n",
      "torch.Size([50, 1])\n",
      "torch.Size([50, 1])\n",
      "49 tensor(0.0020, grad_fn=<MseLossBackward0>) tensor([ 0.0651, -0.0642]) tensor([-1.9708,  1.9675], grad_fn=<CatBackward0>)\n",
      "torch.Size([50, 1])\n",
      "torch.Size([50, 1])\n",
      "49 tensor(0.0014, grad_fn=<MseLossBackward0>) tensor([ 0.0443, -0.0502]) tensor([-1.9714,  1.9682], grad_fn=<CatBackward0>)\n",
      "torch.Size([50, 1])\n",
      "torch.Size([50, 1])\n",
      "49 tensor(0.0024, grad_fn=<MseLossBackward0>) tensor([ 0.0739, -0.0827]) tensor([-1.9719,  1.9687], grad_fn=<CatBackward0>)\n",
      "torch.Size([50, 1])\n",
      "torch.Size([50, 1])\n",
      "49 tensor(0.0019, grad_fn=<MseLossBackward0>) tensor([ 0.0700, -0.0610]) tensor([-1.9726,  1.9695], grad_fn=<CatBackward0>)\n",
      "torch.Size([50, 1])\n",
      "torch.Size([50, 1])\n",
      "50 tensor(0.0017, grad_fn=<MseLossBackward0>) tensor([ 0.0594, -0.0592]) tensor([-1.9733,  1.9701], grad_fn=<CatBackward0>)\n",
      "torch.Size([50, 1])\n",
      "torch.Size([50, 1])\n",
      "50 tensor(0.0012, grad_fn=<MseLossBackward0>) tensor([ 0.0403, -0.0463]) tensor([-1.9739,  1.9707], grad_fn=<CatBackward0>)\n",
      "torch.Size([50, 1])\n",
      "torch.Size([50, 1])\n",
      "50 tensor(0.0020, grad_fn=<MseLossBackward0>) tensor([ 0.0677, -0.0761]) tensor([-1.9743,  1.9712], grad_fn=<CatBackward0>)\n",
      "torch.Size([50, 1])\n",
      "torch.Size([50, 1])\n",
      "50 tensor(0.0016, grad_fn=<MseLossBackward0>) tensor([ 0.0639, -0.0562]) tensor([-1.9750,  1.9719], grad_fn=<CatBackward0>)\n",
      "torch.Size([50, 1])\n",
      "torch.Size([50, 1])\n",
      "51 tensor(0.0014, grad_fn=<MseLossBackward0>) tensor([ 0.0543, -0.0545]) tensor([-1.9756,  1.9725], grad_fn=<CatBackward0>)\n",
      "torch.Size([50, 1])\n",
      "torch.Size([50, 1])\n",
      "51 tensor(0.0010, grad_fn=<MseLossBackward0>) tensor([ 0.0367, -0.0427]) tensor([-1.9762,  1.9730], grad_fn=<CatBackward0>)\n",
      "torch.Size([50, 1])\n",
      "torch.Size([50, 1])\n",
      "51 tensor(0.0017, grad_fn=<MseLossBackward0>) tensor([ 0.0619, -0.0700]) tensor([-1.9765,  1.9734], grad_fn=<CatBackward0>)\n",
      "torch.Size([50, 1])\n",
      "torch.Size([50, 1])\n",
      "51 tensor(0.0013, grad_fn=<MseLossBackward0>) tensor([ 0.0584, -0.0517]) tensor([-1.9771,  1.9741], grad_fn=<CatBackward0>)\n",
      "torch.Size([50, 1])\n",
      "torch.Size([50, 1])\n",
      "52 tensor(0.0012, grad_fn=<MseLossBackward0>) tensor([ 0.0496, -0.0501]) tensor([-1.9777,  1.9747], grad_fn=<CatBackward0>)\n",
      "torch.Size([50, 1])\n",
      "torch.Size([50, 1])\n",
      "52 tensor(0.0009, grad_fn=<MseLossBackward0>) tensor([ 0.0334, -0.0394]) tensor([-1.9782,  1.9752], grad_fn=<CatBackward0>)\n",
      "torch.Size([50, 1])\n",
      "torch.Size([50, 1])\n",
      "52 tensor(0.0014, grad_fn=<MseLossBackward0>) tensor([ 0.0567, -0.0644]) tensor([-1.9786,  1.9756], grad_fn=<CatBackward0>)\n",
      "torch.Size([50, 1])\n",
      "torch.Size([50, 1])\n",
      "52 tensor(0.0011, grad_fn=<MseLossBackward0>) tensor([ 0.0533, -0.0476]) tensor([-1.9791,  1.9762], grad_fn=<CatBackward0>)\n",
      "torch.Size([50, 1])\n",
      "torch.Size([50, 1])\n",
      "53 tensor(0.0010, grad_fn=<MseLossBackward0>) tensor([ 0.0454, -0.0462]) tensor([-1.9797,  1.9767], grad_fn=<CatBackward0>)\n",
      "torch.Size([50, 1])\n",
      "torch.Size([50, 1])\n",
      "53 tensor(0.0007, grad_fn=<MseLossBackward0>) tensor([ 0.0305, -0.0364]) tensor([-1.9801,  1.9771], grad_fn=<CatBackward0>)\n",
      "torch.Size([50, 1])\n",
      "torch.Size([50, 1])\n",
      "53 tensor(0.0012, grad_fn=<MseLossBackward0>) tensor([ 0.0519, -0.0593]) tensor([-1.9804,  1.9775], grad_fn=<CatBackward0>)\n",
      "torch.Size([50, 1])\n",
      "torch.Size([50, 1])\n",
      "53 tensor(0.0009, grad_fn=<MseLossBackward0>) tensor([ 0.0486, -0.0438]) tensor([-1.9809,  1.9781], grad_fn=<CatBackward0>)\n",
      "torch.Size([50, 1])\n",
      "torch.Size([50, 1])\n",
      "54 tensor(0.0008, grad_fn=<MseLossBackward0>) tensor([ 0.0415, -0.0425]) tensor([-1.9814,  1.9785], grad_fn=<CatBackward0>)\n",
      "torch.Size([50, 1])\n",
      "torch.Size([50, 1])\n",
      "54 tensor(0.0006, grad_fn=<MseLossBackward0>) tensor([ 0.0277, -0.0336]) tensor([-1.9818,  1.9790], grad_fn=<CatBackward0>)\n",
      "torch.Size([50, 1])\n",
      "torch.Size([50, 1])\n",
      "54 tensor(0.0010, grad_fn=<MseLossBackward0>) tensor([ 0.0475, -0.0545]) tensor([-1.9821,  1.9793], grad_fn=<CatBackward0>)\n",
      "torch.Size([50, 1])\n",
      "torch.Size([50, 1])\n",
      "54 tensor(0.0008, grad_fn=<MseLossBackward0>) tensor([ 0.0444, -0.0403]) tensor([-1.9826,  1.9798], grad_fn=<CatBackward0>)\n",
      "torch.Size([50, 1])\n",
      "torch.Size([50, 1])\n",
      "55 tensor(0.0007, grad_fn=<MseLossBackward0>) tensor([ 0.0379, -0.0391]) tensor([-1.9830,  1.9802], grad_fn=<CatBackward0>)\n",
      "torch.Size([50, 1])\n",
      "torch.Size([50, 1])\n"
     ]
    },
    {
     "name": "stdout",
     "output_type": "stream",
     "text": [
      "55 tensor(0.0005, grad_fn=<MseLossBackward0>) tensor([ 0.0253, -0.0310]) tensor([-1.9834,  1.9806], grad_fn=<CatBackward0>)\n",
      "torch.Size([50, 1])\n",
      "torch.Size([50, 1])\n",
      "55 tensor(0.0008, grad_fn=<MseLossBackward0>) tensor([ 0.0435, -0.0501]) tensor([-1.9837,  1.9809], grad_fn=<CatBackward0>)\n",
      "torch.Size([50, 1])\n",
      "torch.Size([50, 1])\n",
      "55 tensor(0.0007, grad_fn=<MseLossBackward0>) tensor([ 0.0405, -0.0371]) tensor([-1.9841,  1.9815], grad_fn=<CatBackward0>)\n",
      "torch.Size([50, 1])\n",
      "torch.Size([50, 1])\n",
      "56 tensor(0.0006, grad_fn=<MseLossBackward0>) tensor([ 0.0347, -0.0360]) tensor([-1.9845,  1.9818], grad_fn=<CatBackward0>)\n",
      "torch.Size([50, 1])\n",
      "torch.Size([50, 1])\n",
      "56 tensor(0.0004, grad_fn=<MseLossBackward0>) tensor([ 0.0230, -0.0286]) tensor([-1.9848,  1.9822], grad_fn=<CatBackward0>)\n",
      "torch.Size([50, 1])\n",
      "torch.Size([50, 1])\n",
      "56 tensor(0.0007, grad_fn=<MseLossBackward0>) tensor([ 0.0398, -0.0461]) tensor([-1.9851,  1.9825], grad_fn=<CatBackward0>)\n",
      "torch.Size([50, 1])\n",
      "torch.Size([50, 1])\n",
      "56 tensor(0.0006, grad_fn=<MseLossBackward0>) tensor([ 0.0370, -0.0342]) tensor([-1.9855,  1.9829], grad_fn=<CatBackward0>)\n",
      "torch.Size([50, 1])\n",
      "torch.Size([50, 1])\n",
      "57 tensor(0.0005, grad_fn=<MseLossBackward0>) tensor([ 0.0317, -0.0331]) tensor([-1.9858,  1.9833], grad_fn=<CatBackward0>)\n",
      "torch.Size([50, 1])\n",
      "torch.Size([50, 1])\n",
      "57 tensor(0.0004, grad_fn=<MseLossBackward0>) tensor([ 0.0209, -0.0264]) tensor([-1.9862,  1.9836], grad_fn=<CatBackward0>)\n",
      "torch.Size([50, 1])\n",
      "torch.Size([50, 1])\n",
      "57 tensor(0.0006, grad_fn=<MseLossBackward0>) tensor([ 0.0365, -0.0424]) tensor([-1.9864,  1.9839], grad_fn=<CatBackward0>)\n",
      "torch.Size([50, 1])\n",
      "torch.Size([50, 1])\n",
      "57 tensor(0.0005, grad_fn=<MseLossBackward0>) tensor([ 0.0337, -0.0315]) tensor([-1.9867,  1.9843], grad_fn=<CatBackward0>)\n",
      "torch.Size([50, 1])\n",
      "torch.Size([50, 1])\n",
      "58 tensor(0.0004, grad_fn=<MseLossBackward0>) tensor([ 0.0290, -0.0305]) tensor([-1.9871,  1.9846], grad_fn=<CatBackward0>)\n",
      "torch.Size([50, 1])\n",
      "torch.Size([50, 1])\n",
      "58 tensor(0.0003, grad_fn=<MseLossBackward0>) tensor([ 0.0191, -0.0243]) tensor([-1.9874,  1.9849], grad_fn=<CatBackward0>)\n",
      "torch.Size([50, 1])\n",
      "torch.Size([50, 1])\n",
      "58 tensor(0.0005, grad_fn=<MseLossBackward0>) tensor([ 0.0334, -0.0390]) tensor([-1.9876,  1.9852], grad_fn=<CatBackward0>)\n",
      "torch.Size([50, 1])\n",
      "torch.Size([50, 1])\n",
      "58 tensor(0.0004, grad_fn=<MseLossBackward0>) tensor([ 0.0308, -0.0290]) tensor([-1.9879,  1.9855], grad_fn=<CatBackward0>)\n",
      "torch.Size([50, 1])\n",
      "torch.Size([50, 1])\n",
      "59 tensor(0.0004, grad_fn=<MseLossBackward0>) tensor([ 0.0265, -0.0281]) tensor([-1.9882,  1.9858], grad_fn=<CatBackward0>)\n",
      "torch.Size([50, 1])\n",
      "torch.Size([50, 1])\n",
      "59 tensor(0.0003, grad_fn=<MseLossBackward0>) tensor([ 0.0173, -0.0225]) tensor([-1.9885,  1.9861], grad_fn=<CatBackward0>)\n",
      "torch.Size([50, 1])\n",
      "torch.Size([50, 1])\n",
      "59 tensor(0.0004, grad_fn=<MseLossBackward0>) tensor([ 0.0306, -0.0359]) tensor([-1.9886,  1.9863], grad_fn=<CatBackward0>)\n",
      "torch.Size([50, 1])\n",
      "torch.Size([50, 1])\n",
      "59 tensor(0.0003, grad_fn=<MseLossBackward0>) tensor([ 0.0281, -0.0267]) tensor([-1.9889,  1.9867], grad_fn=<CatBackward0>)\n",
      "torch.Size([50, 1])\n",
      "torch.Size([50, 1])\n",
      "60 tensor(0.0003, grad_fn=<MseLossBackward0>) tensor([ 0.0242, -0.0258]) tensor([-1.9892,  1.9870], grad_fn=<CatBackward0>)\n",
      "torch.Size([50, 1])\n",
      "torch.Size([50, 1])\n",
      "60 tensor(0.0002, grad_fn=<MseLossBackward0>) tensor([ 0.0158, -0.0207]) tensor([-1.9895,  1.9872], grad_fn=<CatBackward0>)\n",
      "torch.Size([50, 1])\n",
      "torch.Size([50, 1])\n",
      "60 tensor(0.0004, grad_fn=<MseLossBackward0>) tensor([ 0.0281, -0.0330]) tensor([-1.9896,  1.9874], grad_fn=<CatBackward0>)\n",
      "torch.Size([50, 1])\n",
      "torch.Size([50, 1])\n",
      "60 tensor(0.0003, grad_fn=<MseLossBackward0>) tensor([ 0.0256, -0.0245]) tensor([-1.9899,  1.9878], grad_fn=<CatBackward0>)\n",
      "torch.Size([50, 1])\n",
      "torch.Size([50, 1])\n",
      "61 tensor(0.0003, grad_fn=<MseLossBackward0>) tensor([ 0.0222, -0.0238]) tensor([-1.9902,  1.9880], grad_fn=<CatBackward0>)\n",
      "torch.Size([50, 1])\n",
      "torch.Size([50, 1])\n",
      "61 tensor(0.0002, grad_fn=<MseLossBackward0>) tensor([ 0.0144, -0.0191]) tensor([-1.9904,  1.9882], grad_fn=<CatBackward0>)\n",
      "torch.Size([50, 1])\n",
      "torch.Size([50, 1])\n",
      "61 tensor(0.0003, grad_fn=<MseLossBackward0>) tensor([ 0.0257, -0.0304]) tensor([-1.9905,  1.9884], grad_fn=<CatBackward0>)\n",
      "torch.Size([50, 1])\n",
      "torch.Size([50, 1])\n",
      "61 tensor(0.0002, grad_fn=<MseLossBackward0>) tensor([ 0.0234, -0.0226]) tensor([-1.9908,  1.9887], grad_fn=<CatBackward0>)\n",
      "torch.Size([50, 1])\n",
      "torch.Size([50, 1])\n",
      "62 tensor(0.0002, grad_fn=<MseLossBackward0>) tensor([ 0.0203, -0.0219]) tensor([-1.9910,  1.9890], grad_fn=<CatBackward0>)\n",
      "torch.Size([50, 1])\n",
      "torch.Size([50, 1])\n",
      "62 tensor(0.0002, grad_fn=<MseLossBackward0>) tensor([ 0.0131, -0.0176]) tensor([-1.9912,  1.9892], grad_fn=<CatBackward0>)\n",
      "torch.Size([50, 1])\n",
      "torch.Size([50, 1])\n",
      "62 tensor(0.0003, grad_fn=<MseLossBackward0>) tensor([ 0.0236, -0.0279]) tensor([-1.9913,  1.9894], grad_fn=<CatBackward0>)\n",
      "torch.Size([50, 1])\n",
      "torch.Size([50, 1])\n",
      "62 tensor(0.0002, grad_fn=<MseLossBackward0>) tensor([ 0.0213, -0.0208]) tensor([-1.9916,  1.9896], grad_fn=<CatBackward0>)\n",
      "torch.Size([50, 1])\n",
      "torch.Size([50, 1])\n",
      "63 tensor(0.0002, grad_fn=<MseLossBackward0>) tensor([ 0.0186, -0.0201]) tensor([-1.9918,  1.9898], grad_fn=<CatBackward0>)\n",
      "torch.Size([50, 1])\n",
      "torch.Size([50, 1])\n",
      "63 tensor(0.0001, grad_fn=<MseLossBackward0>) tensor([ 0.0119, -0.0163]) tensor([-1.9920,  1.9900], grad_fn=<CatBackward0>)\n",
      "torch.Size([50, 1])\n",
      "torch.Size([50, 1])\n",
      "63 tensor(0.0002, grad_fn=<MseLossBackward0>) tensor([ 0.0216, -0.0257]) tensor([-1.9921,  1.9902], grad_fn=<CatBackward0>)\n",
      "torch.Size([50, 1])\n",
      "torch.Size([50, 1])\n",
      "63 tensor(0.0002, grad_fn=<MseLossBackward0>) tensor([ 0.0194, -0.0191]) tensor([-1.9923,  1.9905], grad_fn=<CatBackward0>)\n",
      "torch.Size([50, 1])\n",
      "torch.Size([50, 1])\n",
      "64 tensor(0.0002, grad_fn=<MseLossBackward0>) tensor([ 0.0170, -0.0185]) tensor([-1.9925,  1.9907], grad_fn=<CatBackward0>)\n",
      "torch.Size([50, 1])\n",
      "torch.Size([50, 1])\n",
      "64 tensor(0.0001, grad_fn=<MseLossBackward0>) tensor([ 0.0108, -0.0150]) tensor([-1.9927,  1.9908], grad_fn=<CatBackward0>)\n",
      "torch.Size([50, 1])\n",
      "torch.Size([50, 1])\n",
      "64 tensor(0.0002, grad_fn=<MseLossBackward0>) tensor([ 0.0198, -0.0236]) tensor([-1.9928,  1.9910], grad_fn=<CatBackward0>)\n",
      "torch.Size([50, 1])\n",
      "torch.Size([50, 1])\n",
      "64 tensor(0.0001, grad_fn=<MseLossBackward0>) tensor([ 0.0177, -0.0176]) tensor([-1.9930,  1.9912], grad_fn=<CatBackward0>)\n",
      "torch.Size([50, 1])\n",
      "torch.Size([50, 1])\n",
      "65 tensor(0.0001, grad_fn=<MseLossBackward0>) tensor([ 0.0156, -0.0170]) tensor([-1.9932,  1.9914], grad_fn=<CatBackward0>)\n",
      "torch.Size([50, 1])\n",
      "torch.Size([50, 1])\n",
      "65 tensor(9.2929e-05, grad_fn=<MseLossBackward0>) tensor([ 0.0098, -0.0139]) tensor([-1.9933,  1.9916], grad_fn=<CatBackward0>)\n",
      "torch.Size([50, 1])\n",
      "torch.Size([50, 1])\n",
      "65 tensor(0.0002, grad_fn=<MseLossBackward0>) tensor([ 0.0182, -0.0217]) tensor([-1.9934,  1.9917], grad_fn=<CatBackward0>)\n",
      "torch.Size([50, 1])\n",
      "torch.Size([50, 1])\n",
      "65 tensor(0.0001, grad_fn=<MseLossBackward0>) tensor([ 0.0161, -0.0162]) tensor([-1.9936,  1.9919], grad_fn=<CatBackward0>)\n",
      "torch.Size([50, 1])\n",
      "torch.Size([50, 1])\n",
      "66 tensor(0.0001, grad_fn=<MseLossBackward0>) tensor([ 0.0143, -0.0157]) tensor([-1.9938,  1.9921], grad_fn=<CatBackward0>)\n",
      "torch.Size([50, 1])\n",
      "torch.Size([50, 1])\n",
      "66 tensor(7.8464e-05, grad_fn=<MseLossBackward0>) tensor([ 0.0089, -0.0128]) tensor([-1.9939,  1.9923], grad_fn=<CatBackward0>)\n",
      "torch.Size([50, 1])\n",
      "torch.Size([50, 1])\n",
      "66 tensor(0.0001, grad_fn=<MseLossBackward0>) tensor([ 0.0167, -0.0200]) tensor([-1.9940,  1.9924], grad_fn=<CatBackward0>)\n",
      "torch.Size([50, 1])\n",
      "torch.Size([50, 1])\n",
      "66 tensor(9.8591e-05, grad_fn=<MseLossBackward0>) tensor([ 0.0147, -0.0149]) tensor([-1.9942,  1.9926], grad_fn=<CatBackward0>)\n",
      "torch.Size([50, 1])\n",
      "torch.Size([50, 1])\n",
      "67 tensor(9.1887e-05, grad_fn=<MseLossBackward0>) tensor([ 0.0131, -0.0144]) tensor([-1.9943,  1.9927], grad_fn=<CatBackward0>)\n",
      "torch.Size([50, 1])\n",
      "torch.Size([50, 1])\n",
      "67 tensor(6.6279e-05, grad_fn=<MseLossBackward0>) tensor([ 0.0081, -0.0118]) tensor([-1.9944,  1.9929], grad_fn=<CatBackward0>)\n",
      "torch.Size([50, 1])\n",
      "torch.Size([50, 1])\n",
      "67 tensor(0.0001, grad_fn=<MseLossBackward0>) tensor([ 0.0153, -0.0184]) tensor([-1.9945,  1.9930], grad_fn=<CatBackward0>)\n",
      "torch.Size([50, 1])\n",
      "torch.Size([50, 1])\n",
      "67 tensor(8.2892e-05, grad_fn=<MseLossBackward0>) tensor([ 0.0134, -0.0137]) tensor([-1.9947,  1.9932], grad_fn=<CatBackward0>)\n",
      "torch.Size([50, 1])\n",
      "torch.Size([50, 1])\n",
      "68 tensor(7.7588e-05, grad_fn=<MseLossBackward0>) tensor([ 0.0120, -0.0132]) tensor([-1.9948,  1.9933], grad_fn=<CatBackward0>)\n",
      "torch.Size([50, 1])\n",
      "torch.Size([50, 1])\n",
      "68 tensor(5.6012e-05, grad_fn=<MseLossBackward0>) tensor([ 0.0073, -0.0109]) tensor([-1.9949,  1.9934], grad_fn=<CatBackward0>)\n",
      "torch.Size([50, 1])\n",
      "torch.Size([50, 1])\n",
      "68 tensor(9.3066e-05, grad_fn=<MseLossBackward0>) tensor([ 0.0140, -0.0169]) tensor([-1.9950,  1.9936], grad_fn=<CatBackward0>)\n",
      "torch.Size([50, 1])\n",
      "torch.Size([50, 1])\n",
      "68 tensor(6.9701e-05, grad_fn=<MseLossBackward0>) tensor([ 0.0122, -0.0126]) tensor([-1.9951,  1.9937], grad_fn=<CatBackward0>)\n",
      "torch.Size([50, 1])\n",
      "torch.Size([50, 1])\n",
      "69 tensor(6.5544e-05, grad_fn=<MseLossBackward0>) tensor([ 0.0110, -0.0122]) tensor([-1.9953,  1.9938], grad_fn=<CatBackward0>)\n",
      "torch.Size([50, 1])\n",
      "torch.Size([50, 1])\n",
      "69 tensor(4.7364e-05, grad_fn=<MseLossBackward0>) tensor([ 0.0067, -0.0101]) tensor([-1.9954,  1.9940], grad_fn=<CatBackward0>)\n",
      "torch.Size([50, 1])\n",
      "torch.Size([50, 1])\n",
      "69 tensor(7.8750e-05, grad_fn=<MseLossBackward0>) tensor([ 0.0129, -0.0156]) tensor([-1.9954,  1.9941], grad_fn=<CatBackward0>)\n",
      "torch.Size([50, 1])\n",
      "torch.Size([50, 1])\n",
      "69 tensor(5.8618e-05, grad_fn=<MseLossBackward0>) tensor([ 0.0111, -0.0116]) tensor([-1.9956,  1.9942], grad_fn=<CatBackward0>)\n",
      "torch.Size([50, 1])\n",
      "torch.Size([50, 1])\n",
      "70 tensor(5.5395e-05, grad_fn=<MseLossBackward0>) tensor([ 0.0100, -0.0112]) tensor([-1.9957,  1.9943], grad_fn=<CatBackward0>)\n",
      "torch.Size([50, 1])\n",
      "torch.Size([50, 1])\n",
      "70 tensor(4.0078e-05, grad_fn=<MseLossBackward0>) tensor([ 0.0060, -0.0093]) tensor([-1.9958,  1.9945], grad_fn=<CatBackward0>)\n",
      "torch.Size([50, 1])\n",
      "torch.Size([50, 1])\n"
     ]
    },
    {
     "name": "stdout",
     "output_type": "stream",
     "text": [
      "70 tensor(6.6671e-05, grad_fn=<MseLossBackward0>) tensor([ 0.0118, -0.0143]) tensor([-1.9958,  1.9945], grad_fn=<CatBackward0>)\n",
      "torch.Size([50, 1])\n",
      "torch.Size([50, 1])\n",
      "70 tensor(4.9309e-05, grad_fn=<MseLossBackward0>) tensor([ 0.0101, -0.0107]) tensor([-1.9960,  1.9947], grad_fn=<CatBackward0>)\n",
      "torch.Size([50, 1])\n",
      "torch.Size([50, 1])\n",
      "71 tensor(4.6844e-05, grad_fn=<MseLossBackward0>) tensor([ 0.0092, -0.0103]) tensor([-1.9961,  1.9948], grad_fn=<CatBackward0>)\n",
      "torch.Size([50, 1])\n",
      "torch.Size([50, 1])\n",
      "71 tensor(3.3938e-05, grad_fn=<MseLossBackward0>) tensor([ 0.0055, -0.0086]) tensor([-1.9962,  1.9949], grad_fn=<CatBackward0>)\n",
      "torch.Size([50, 1])\n",
      "torch.Size([50, 1])\n",
      "71 tensor(5.6481e-05, grad_fn=<MseLossBackward0>) tensor([ 0.0109, -0.0132]) tensor([-1.9962,  1.9950], grad_fn=<CatBackward0>)\n",
      "torch.Size([50, 1])\n",
      "torch.Size([50, 1])\n",
      "71 tensor(4.1490e-05, grad_fn=<MseLossBackward0>) tensor([ 0.0092, -0.0098]) tensor([-1.9963,  1.9951], grad_fn=<CatBackward0>)\n",
      "torch.Size([50, 1])\n",
      "torch.Size([50, 1])\n",
      "72 tensor(3.9640e-05, grad_fn=<MseLossBackward0>) tensor([ 0.0085, -0.0095]) tensor([-1.9964,  1.9952], grad_fn=<CatBackward0>)\n",
      "torch.Size([50, 1])\n",
      "torch.Size([50, 1])\n",
      "72 tensor(2.8766e-05, grad_fn=<MseLossBackward0>) tensor([ 0.0050, -0.0080]) tensor([-1.9965,  1.9953], grad_fn=<CatBackward0>)\n",
      "torch.Size([50, 1])\n",
      "torch.Size([50, 1])\n",
      "72 tensor(4.7883e-05, grad_fn=<MseLossBackward0>) tensor([ 0.0100, -0.0121]) tensor([-1.9965,  1.9954], grad_fn=<CatBackward0>)\n",
      "torch.Size([50, 1])\n",
      "torch.Size([50, 1])\n",
      "72 tensor(3.4923e-05, grad_fn=<MseLossBackward0>) tensor([ 0.0084, -0.0090]) tensor([-1.9966,  1.9955], grad_fn=<CatBackward0>)\n",
      "torch.Size([50, 1])\n",
      "torch.Size([50, 1])\n",
      "73 tensor(3.3568e-05, grad_fn=<MseLossBackward0>) tensor([ 0.0078, -0.0087]) tensor([-1.9967,  1.9956], grad_fn=<CatBackward0>)\n",
      "torch.Size([50, 1])\n",
      "torch.Size([50, 1])\n",
      "73 tensor(2.4406e-05, grad_fn=<MseLossBackward0>) tensor([ 0.0045, -0.0074]) tensor([-1.9968,  1.9957], grad_fn=<CatBackward0>)\n",
      "torch.Size([50, 1])\n",
      "torch.Size([50, 1])\n",
      "73 tensor(4.0625e-05, grad_fn=<MseLossBackward0>) tensor([ 0.0092, -0.0111]) tensor([-1.9968,  1.9958], grad_fn=<CatBackward0>)\n",
      "torch.Size([50, 1])\n",
      "torch.Size([50, 1])\n",
      "73 tensor(2.9411e-05, grad_fn=<MseLossBackward0>) tensor([ 0.0076, -0.0083]) tensor([-1.9969,  1.9959], grad_fn=<CatBackward0>)\n",
      "torch.Size([50, 1])\n",
      "torch.Size([50, 1])\n",
      "74 tensor(2.8451e-05, grad_fn=<MseLossBackward0>) tensor([ 0.0071, -0.0080]) tensor([-1.9970,  1.9960], grad_fn=<CatBackward0>)\n",
      "torch.Size([50, 1])\n",
      "torch.Size([50, 1])\n",
      "74 tensor(2.0733e-05, grad_fn=<MseLossBackward0>) tensor([ 0.0041, -0.0068]) tensor([-1.9971,  1.9960], grad_fn=<CatBackward0>)\n",
      "torch.Size([50, 1])\n",
      "torch.Size([50, 1])\n",
      "74 tensor(3.4499e-05, grad_fn=<MseLossBackward0>) tensor([ 0.0085, -0.0102]) tensor([-1.9971,  1.9961], grad_fn=<CatBackward0>)\n",
      "torch.Size([50, 1])\n",
      "torch.Size([50, 1])\n",
      "74 tensor(2.4783e-05, grad_fn=<MseLossBackward0>) tensor([ 0.0069, -0.0076]) tensor([-1.9972,  1.9962], grad_fn=<CatBackward0>)\n",
      "torch.Size([50, 1])\n",
      "torch.Size([50, 1])\n",
      "75 tensor(2.4139e-05, grad_fn=<MseLossBackward0>) tensor([ 0.0065, -0.0073]) tensor([-1.9973,  1.9963], grad_fn=<CatBackward0>)\n",
      "torch.Size([50, 1])\n",
      "torch.Size([50, 1])\n",
      "75 tensor(1.7638e-05, grad_fn=<MseLossBackward0>) tensor([ 0.0037, -0.0063]) tensor([-1.9973,  1.9964], grad_fn=<CatBackward0>)\n",
      "torch.Size([50, 1])\n",
      "torch.Size([50, 1])\n",
      "75 tensor(2.9328e-05, grad_fn=<MseLossBackward0>) tensor([ 0.0078, -0.0094]) tensor([-1.9974,  1.9964], grad_fn=<CatBackward0>)\n",
      "torch.Size([50, 1])\n",
      "torch.Size([50, 1])\n",
      "75 tensor(2.0898e-05, grad_fn=<MseLossBackward0>) tensor([ 0.0063, -0.0070]) tensor([-1.9975,  1.9965], grad_fn=<CatBackward0>)\n",
      "torch.Size([50, 1])\n",
      "torch.Size([50, 1])\n",
      "76 tensor(2.0503e-05, grad_fn=<MseLossBackward0>) tensor([ 0.0060, -0.0067]) tensor([-1.9975,  1.9966], grad_fn=<CatBackward0>)\n",
      "torch.Size([50, 1])\n",
      "torch.Size([50, 1])\n",
      "76 tensor(1.5029e-05, grad_fn=<MseLossBackward0>) tensor([ 0.0033, -0.0058]) tensor([-1.9976,  1.9966], grad_fn=<CatBackward0>)\n",
      "torch.Size([50, 1])\n",
      "torch.Size([50, 1])\n",
      "76 tensor(2.4958e-05, grad_fn=<MseLossBackward0>) tensor([ 0.0072, -0.0087]) tensor([-1.9976,  1.9967], grad_fn=<CatBackward0>)\n",
      "torch.Size([50, 1])\n",
      "torch.Size([50, 1])\n",
      "76 tensor(1.7636e-05, grad_fn=<MseLossBackward0>) tensor([ 0.0057, -0.0064]) tensor([-1.9977,  1.9968], grad_fn=<CatBackward0>)\n",
      "torch.Size([50, 1])\n",
      "torch.Size([50, 1])\n",
      "77 tensor(1.7437e-05, grad_fn=<MseLossBackward0>) tensor([ 0.0055, -0.0062]) tensor([-1.9977,  1.9969], grad_fn=<CatBackward0>)\n",
      "torch.Size([50, 1])\n",
      "torch.Size([50, 1])\n",
      "77 tensor(1.2829e-05, grad_fn=<MseLossBackward0>) tensor([ 0.0030, -0.0054]) tensor([-1.9978,  1.9969], grad_fn=<CatBackward0>)\n",
      "torch.Size([50, 1])\n",
      "torch.Size([50, 1])\n",
      "77 tensor(2.1269e-05, grad_fn=<MseLossBackward0>) tensor([ 0.0066, -0.0080]) tensor([-1.9978,  1.9970], grad_fn=<CatBackward0>)\n",
      "torch.Size([50, 1])\n",
      "torch.Size([50, 1])\n",
      "77 tensor(1.4902e-05, grad_fn=<MseLossBackward0>) tensor([ 0.0052, -0.0059]) tensor([-1.9979,  1.9971], grad_fn=<CatBackward0>)\n",
      "torch.Size([50, 1])\n",
      "torch.Size([50, 1])\n",
      "78 tensor(1.4854e-05, grad_fn=<MseLossBackward0>) tensor([ 0.0051, -0.0057]) tensor([-1.9979,  1.9971], grad_fn=<CatBackward0>)\n",
      "torch.Size([50, 1])\n",
      "torch.Size([50, 1])\n",
      "78 tensor(1.0976e-05, grad_fn=<MseLossBackward0>) tensor([ 0.0027, -0.0050]) tensor([-1.9980,  1.9972], grad_fn=<CatBackward0>)\n",
      "torch.Size([50, 1])\n",
      "torch.Size([50, 1])\n",
      "78 tensor(1.8151e-05, grad_fn=<MseLossBackward0>) tensor([ 0.0061, -0.0073]) tensor([-1.9980,  1.9972], grad_fn=<CatBackward0>)\n",
      "torch.Size([50, 1])\n",
      "torch.Size([50, 1])\n",
      "78 tensor(1.2608e-05, grad_fn=<MseLossBackward0>) tensor([ 0.0047, -0.0054]) tensor([-1.9981,  1.9973], grad_fn=<CatBackward0>)\n",
      "torch.Size([50, 1])\n",
      "torch.Size([50, 1])\n",
      "79 tensor(1.2675e-05, grad_fn=<MseLossBackward0>) tensor([ 0.0047, -0.0052]) tensor([-1.9981,  1.9973], grad_fn=<CatBackward0>)\n",
      "torch.Size([50, 1])\n",
      "torch.Size([50, 1])\n",
      "79 tensor(9.4130e-06, grad_fn=<MseLossBackward0>) tensor([ 0.0024, -0.0046]) tensor([-1.9982,  1.9974], grad_fn=<CatBackward0>)\n",
      "torch.Size([50, 1])\n",
      "torch.Size([50, 1])\n",
      "79 tensor(1.5516e-05, grad_fn=<MseLossBackward0>) tensor([ 0.0056, -0.0067]) tensor([-1.9982,  1.9974], grad_fn=<CatBackward0>)\n",
      "torch.Size([50, 1])\n",
      "torch.Size([50, 1])\n",
      "79 tensor(1.0684e-05, grad_fn=<MseLossBackward0>) tensor([ 0.0042, -0.0050]) tensor([-1.9983,  1.9975], grad_fn=<CatBackward0>)\n",
      "torch.Size([50, 1])\n",
      "torch.Size([50, 1])\n",
      "80 tensor(1.0837e-05, grad_fn=<MseLossBackward0>) tensor([ 0.0043, -0.0048]) tensor([-1.9983,  1.9976], grad_fn=<CatBackward0>)\n",
      "torch.Size([50, 1])\n",
      "torch.Size([50, 1])\n",
      "80 tensor(8.0950e-06, grad_fn=<MseLossBackward0>) tensor([ 0.0022, -0.0043]) tensor([-1.9983,  1.9976], grad_fn=<CatBackward0>)\n",
      "torch.Size([50, 1])\n",
      "torch.Size([50, 1])\n",
      "80 tensor(1.3289e-05, grad_fn=<MseLossBackward0>) tensor([ 0.0052, -0.0062]) tensor([-1.9984,  1.9977], grad_fn=<CatBackward0>)\n",
      "torch.Size([50, 1])\n",
      "torch.Size([50, 1])\n",
      "80 tensor(9.0730e-06, grad_fn=<MseLossBackward0>) tensor([ 0.0038, -0.0046]) tensor([-1.9984,  1.9977], grad_fn=<CatBackward0>)\n",
      "torch.Size([50, 1])\n",
      "torch.Size([50, 1])\n",
      "81 tensor(9.2878e-06, grad_fn=<MseLossBackward0>) tensor([ 0.0040, -0.0044]) tensor([-1.9985,  1.9978], grad_fn=<CatBackward0>)\n",
      "torch.Size([50, 1])\n",
      "torch.Size([50, 1])\n",
      "81 tensor(6.9843e-06, grad_fn=<MseLossBackward0>) tensor([ 0.0019, -0.0040]) tensor([-1.9985,  1.9978], grad_fn=<CatBackward0>)\n",
      "torch.Size([50, 1])\n",
      "torch.Size([50, 1])\n",
      "81 tensor(1.1405e-05, grad_fn=<MseLossBackward0>) tensor([ 0.0048, -0.0057]) tensor([-1.9985,  1.9978], grad_fn=<CatBackward0>)\n",
      "torch.Size([50, 1])\n",
      "torch.Size([50, 1])\n",
      "81 tensor(7.7225e-06, grad_fn=<MseLossBackward0>) tensor([ 0.0035, -0.0042]) tensor([-1.9986,  1.9979], grad_fn=<CatBackward0>)\n",
      "torch.Size([50, 1])\n",
      "torch.Size([50, 1])\n",
      "82 tensor(7.9810e-06, grad_fn=<MseLossBackward0>) tensor([ 0.0037, -0.0040]) tensor([-1.9986,  1.9979], grad_fn=<CatBackward0>)\n",
      "torch.Size([50, 1])\n",
      "torch.Size([50, 1])\n",
      "82 tensor(6.0484e-06, grad_fn=<MseLossBackward0>) tensor([ 0.0017, -0.0037]) tensor([-1.9986,  1.9980], grad_fn=<CatBackward0>)\n",
      "torch.Size([50, 1])\n",
      "torch.Size([50, 1])\n",
      "82 tensor(9.8124e-06, grad_fn=<MseLossBackward0>) tensor([ 0.0044, -0.0052]) tensor([-1.9987,  1.9980], grad_fn=<CatBackward0>)\n",
      "torch.Size([50, 1])\n",
      "torch.Size([50, 1])\n",
      "82 tensor(6.5918e-06, grad_fn=<MseLossBackward0>) tensor([ 0.0031, -0.0039]) tensor([-1.9987,  1.9981], grad_fn=<CatBackward0>)\n",
      "torch.Size([50, 1])\n",
      "torch.Size([50, 1])\n",
      "83 tensor(6.8783e-06, grad_fn=<MseLossBackward0>) tensor([ 0.0034, -0.0037]) tensor([-1.9987,  1.9981], grad_fn=<CatBackward0>)\n",
      "torch.Size([50, 1])\n",
      "torch.Size([50, 1])\n",
      "83 tensor(5.2583e-06, grad_fn=<MseLossBackward0>) tensor([ 0.0015, -0.0034]) tensor([-1.9988,  1.9981], grad_fn=<CatBackward0>)\n",
      "torch.Size([50, 1])\n",
      "torch.Size([50, 1])\n",
      "83 tensor(8.4649e-06, grad_fn=<MseLossBackward0>) tensor([ 0.0041, -0.0048]) tensor([-1.9988,  1.9982], grad_fn=<CatBackward0>)\n",
      "torch.Size([50, 1])\n",
      "torch.Size([50, 1])\n",
      "83 tensor(5.6454e-06, grad_fn=<MseLossBackward0>) tensor([ 0.0028, -0.0036]) tensor([-1.9988,  1.9982], grad_fn=<CatBackward0>)\n",
      "torch.Size([50, 1])\n",
      "torch.Size([50, 1])\n"
     ]
    },
    {
     "name": "stdout",
     "output_type": "stream",
     "text": [
      "84 tensor(5.9487e-06, grad_fn=<MseLossBackward0>) tensor([ 0.0031, -0.0034]) tensor([-1.9988,  1.9983], grad_fn=<CatBackward0>)\n",
      "torch.Size([50, 1])\n",
      "torch.Size([50, 1])\n",
      "84 tensor(4.5929e-06, grad_fn=<MseLossBackward0>) tensor([ 0.0014, -0.0032]) tensor([-1.9989,  1.9983], grad_fn=<CatBackward0>)\n",
      "torch.Size([50, 1])\n",
      "torch.Size([50, 1])\n",
      "84 tensor(7.3248e-06, grad_fn=<MseLossBackward0>) tensor([ 0.0038, -0.0044]) tensor([-1.9989,  1.9983], grad_fn=<CatBackward0>)\n",
      "torch.Size([50, 1])\n",
      "torch.Size([50, 1])\n",
      "84 tensor(4.8546e-06, grad_fn=<MseLossBackward0>) tensor([ 0.0025, -0.0033]) tensor([-1.9989,  1.9984], grad_fn=<CatBackward0>)\n",
      "torch.Size([50, 1])\n",
      "torch.Size([50, 1])\n",
      "85 tensor(5.1652e-06, grad_fn=<MseLossBackward0>) tensor([ 0.0029, -0.0031]) tensor([-1.9990,  1.9984], grad_fn=<CatBackward0>)\n",
      "torch.Size([50, 1])\n",
      "torch.Size([50, 1])\n",
      "85 tensor(4.0316e-06, grad_fn=<MseLossBackward0>) tensor([ 0.0012, -0.0029]) tensor([-1.9990,  1.9984], grad_fn=<CatBackward0>)\n",
      "torch.Size([50, 1])\n",
      "torch.Size([50, 1])\n",
      "85 tensor(6.3600e-06, grad_fn=<MseLossBackward0>) tensor([ 0.0035, -0.0041]) tensor([-1.9990,  1.9985], grad_fn=<CatBackward0>)\n",
      "torch.Size([50, 1])\n",
      "torch.Size([50, 1])\n",
      "85 tensor(4.1935e-06, grad_fn=<MseLossBackward0>) tensor([ 0.0023, -0.0030]) tensor([-1.9990,  1.9985], grad_fn=<CatBackward0>)\n",
      "torch.Size([50, 1])\n",
      "torch.Size([50, 1])\n",
      "86 tensor(4.5038e-06, grad_fn=<MseLossBackward0>) tensor([ 0.0027, -0.0028]) tensor([-1.9991,  1.9985], grad_fn=<CatBackward0>)\n",
      "torch.Size([50, 1])\n",
      "torch.Size([50, 1])\n",
      "86 tensor(3.5583e-06, grad_fn=<MseLossBackward0>) tensor([ 0.0011, -0.0027]) tensor([-1.9991,  1.9986], grad_fn=<CatBackward0>)\n",
      "torch.Size([50, 1])\n",
      "torch.Size([50, 1])\n",
      "86 tensor(5.5426e-06, grad_fn=<MseLossBackward0>) tensor([ 0.0033, -0.0037]) tensor([-1.9991,  1.9986], grad_fn=<CatBackward0>)\n",
      "torch.Size([50, 1])\n",
      "torch.Size([50, 1])\n",
      "86 tensor(3.6410e-06, grad_fn=<MseLossBackward0>) tensor([ 0.0020, -0.0027]) tensor([-1.9991,  1.9986], grad_fn=<CatBackward0>)\n",
      "torch.Size([50, 1])\n",
      "torch.Size([50, 1])\n",
      "87 tensor(3.9454e-06, grad_fn=<MseLossBackward0>) tensor([ 0.0025, -0.0026]) tensor([-1.9991,  1.9987], grad_fn=<CatBackward0>)\n",
      "torch.Size([50, 1])\n",
      "torch.Size([50, 1])\n",
      "87 tensor(3.1590e-06, grad_fn=<MseLossBackward0>) tensor([ 0.0009, -0.0025]) tensor([-1.9992,  1.9987], grad_fn=<CatBackward0>)\n",
      "torch.Size([50, 1])\n",
      "torch.Size([50, 1])\n",
      "87 tensor(4.8500e-06, grad_fn=<MseLossBackward0>) tensor([ 0.0030, -0.0034]) tensor([-1.9992,  1.9987], grad_fn=<CatBackward0>)\n",
      "torch.Size([50, 1])\n",
      "torch.Size([50, 1])\n",
      "87 tensor(3.1798e-06, grad_fn=<MseLossBackward0>) tensor([ 0.0018, -0.0025]) tensor([-1.9992,  1.9987], grad_fn=<CatBackward0>)\n",
      "torch.Size([50, 1])\n",
      "torch.Size([50, 1])\n",
      "88 tensor(3.4742e-06, grad_fn=<MseLossBackward0>) tensor([ 0.0023, -0.0024]) tensor([-1.9992,  1.9988], grad_fn=<CatBackward0>)\n",
      "torch.Size([50, 1])\n",
      "torch.Size([50, 1])\n",
      "88 tensor(2.8223e-06, grad_fn=<MseLossBackward0>) tensor([ 0.0008, -0.0024]) tensor([-1.9993,  1.9988], grad_fn=<CatBackward0>)\n",
      "torch.Size([50, 1])\n",
      "torch.Size([50, 1])\n",
      "88 tensor(4.2627e-06, grad_fn=<MseLossBackward0>) tensor([ 0.0028, -0.0032]) tensor([-1.9993,  1.9988], grad_fn=<CatBackward0>)\n",
      "torch.Size([50, 1])\n",
      "torch.Size([50, 1])\n",
      "88 tensor(2.7954e-06, grad_fn=<MseLossBackward0>) tensor([ 0.0016, -0.0023]) tensor([-1.9993,  1.9988], grad_fn=<CatBackward0>)\n",
      "torch.Size([50, 1])\n",
      "torch.Size([50, 1])\n",
      "89 tensor(3.0764e-06, grad_fn=<MseLossBackward0>) tensor([ 0.0021, -0.0022]) tensor([-1.9993,  1.9989], grad_fn=<CatBackward0>)\n",
      "torch.Size([50, 1])\n",
      "torch.Size([50, 1])\n",
      "89 tensor(2.5380e-06, grad_fn=<MseLossBackward0>) tensor([ 0.0007, -0.0022]) tensor([-1.9993,  1.9989], grad_fn=<CatBackward0>)\n",
      "torch.Size([50, 1])\n",
      "torch.Size([50, 1])\n",
      "89 tensor(3.7644e-06, grad_fn=<MseLossBackward0>) tensor([ 0.0026, -0.0029]) tensor([-1.9993,  1.9989], grad_fn=<CatBackward0>)\n",
      "torch.Size([50, 1])\n",
      "torch.Size([50, 1])\n",
      "89 tensor(2.4749e-06, grad_fn=<MseLossBackward0>) tensor([ 0.0014, -0.0021]) tensor([-1.9994,  1.9989], grad_fn=<CatBackward0>)\n",
      "torch.Size([50, 1])\n",
      "torch.Size([50, 1])\n",
      "90 tensor(2.7410e-06, grad_fn=<MseLossBackward0>) tensor([ 0.0020, -0.0020]) tensor([-1.9994,  1.9990], grad_fn=<CatBackward0>)\n",
      "torch.Size([50, 1])\n",
      "torch.Size([50, 1])\n",
      "90 tensor(2.2982e-06, grad_fn=<MseLossBackward0>) tensor([ 0.0006, -0.0020]) tensor([-1.9994,  1.9990], grad_fn=<CatBackward0>)\n",
      "torch.Size([50, 1])\n",
      "torch.Size([50, 1])\n",
      "90 tensor(3.3415e-06, grad_fn=<MseLossBackward0>) tensor([ 0.0025, -0.0027]) tensor([-1.9994,  1.9990], grad_fn=<CatBackward0>)\n",
      "torch.Size([50, 1])\n",
      "torch.Size([50, 1])\n",
      "90 tensor(2.2081e-06, grad_fn=<MseLossBackward0>) tensor([ 0.0013, -0.0019]) tensor([-1.9994,  1.9990], grad_fn=<CatBackward0>)\n",
      "torch.Size([50, 1])\n",
      "torch.Size([50, 1])\n",
      "91 tensor(2.4573e-06, grad_fn=<MseLossBackward0>) tensor([ 0.0018, -0.0018]) tensor([-1.9994,  1.9991], grad_fn=<CatBackward0>)\n",
      "torch.Size([50, 1])\n",
      "torch.Size([50, 1])\n",
      "91 tensor(2.0958e-06, grad_fn=<MseLossBackward0>) tensor([ 0.0005, -0.0019]) tensor([-1.9995,  1.9991], grad_fn=<CatBackward0>)\n",
      "torch.Size([50, 1])\n",
      "torch.Size([50, 1])\n",
      "91 tensor(2.9825e-06, grad_fn=<MseLossBackward0>) tensor([ 0.0023, -0.0025]) tensor([-1.9995,  1.9991], grad_fn=<CatBackward0>)\n",
      "torch.Size([50, 1])\n",
      "torch.Size([50, 1])\n",
      "91 tensor(1.9863e-06, grad_fn=<MseLossBackward0>) tensor([ 0.0011, -0.0018]) tensor([-1.9995,  1.9991], grad_fn=<CatBackward0>)\n",
      "torch.Size([50, 1])\n",
      "torch.Size([50, 1])\n",
      "92 tensor(2.2180e-06, grad_fn=<MseLossBackward0>) tensor([ 0.0017, -0.0016]) tensor([-1.9995,  1.9991], grad_fn=<CatBackward0>)\n",
      "torch.Size([50, 1])\n",
      "torch.Size([50, 1])\n",
      "92 tensor(1.9247e-06, grad_fn=<MseLossBackward0>) tensor([ 0.0004, -0.0018]) tensor([-1.9995,  1.9991], grad_fn=<CatBackward0>)\n",
      "torch.Size([50, 1])\n",
      "torch.Size([50, 1])\n",
      "92 tensor(2.6776e-06, grad_fn=<MseLossBackward0>) tensor([ 0.0022, -0.0023]) tensor([-1.9995,  1.9992], grad_fn=<CatBackward0>)\n",
      "torch.Size([50, 1])\n",
      "torch.Size([50, 1])\n",
      "92 tensor(1.8020e-06, grad_fn=<MseLossBackward0>) tensor([ 0.0010, -0.0016]) tensor([-1.9995,  1.9992], grad_fn=<CatBackward0>)\n",
      "torch.Size([50, 1])\n",
      "torch.Size([50, 1])\n",
      "93 tensor(2.0156e-06, grad_fn=<MseLossBackward0>) tensor([ 0.0016, -0.0015]) tensor([-1.9995,  1.9992], grad_fn=<CatBackward0>)\n",
      "torch.Size([50, 1])\n",
      "torch.Size([50, 1])\n",
      "93 tensor(1.7805e-06, grad_fn=<MseLossBackward0>) tensor([ 0.0004, -0.0017]) tensor([-1.9996,  1.9992], grad_fn=<CatBackward0>)\n",
      "torch.Size([50, 1])\n",
      "torch.Size([50, 1])\n",
      "93 tensor(2.4188e-06, grad_fn=<MseLossBackward0>) tensor([ 0.0020, -0.0021]) tensor([-1.9996,  1.9992], grad_fn=<CatBackward0>)\n",
      "torch.Size([50, 1])\n",
      "torch.Size([50, 1])\n",
      "93 tensor(1.6495e-06, grad_fn=<MseLossBackward0>) tensor([ 0.0009, -0.0015]) tensor([-1.9996,  1.9993], grad_fn=<CatBackward0>)\n",
      "torch.Size([50, 1])\n",
      "torch.Size([50, 1])\n",
      "94 tensor(1.8452e-06, grad_fn=<MseLossBackward0>) tensor([ 0.0015, -0.0014]) tensor([-1.9996,  1.9993], grad_fn=<CatBackward0>)\n",
      "torch.Size([50, 1])\n",
      "torch.Size([50, 1])\n",
      "94 tensor(1.6589e-06, grad_fn=<MseLossBackward0>) tensor([ 0.0003, -0.0016]) tensor([-1.9996,  1.9993], grad_fn=<CatBackward0>)\n",
      "torch.Size([50, 1])\n",
      "torch.Size([50, 1])\n",
      "94 tensor(2.1984e-06, grad_fn=<MseLossBackward0>) tensor([ 0.0019, -0.0019]) tensor([-1.9996,  1.9993], grad_fn=<CatBackward0>)\n",
      "torch.Size([50, 1])\n",
      "torch.Size([50, 1])\n",
      "94 tensor(1.5234e-06, grad_fn=<MseLossBackward0>) tensor([ 0.0007, -0.0014]) tensor([-1.9996,  1.9993], grad_fn=<CatBackward0>)\n",
      "torch.Size([50, 1])\n",
      "torch.Size([50, 1])\n",
      "95 tensor(1.7010e-06, grad_fn=<MseLossBackward0>) tensor([ 0.0014, -0.0012]) tensor([-1.9996,  1.9993], grad_fn=<CatBackward0>)\n",
      "torch.Size([50, 1])\n",
      "torch.Size([50, 1])\n",
      "95 tensor(1.5562e-06, grad_fn=<MseLossBackward0>) tensor([ 0.0002, -0.0015]) tensor([-1.9997,  1.9993], grad_fn=<CatBackward0>)\n",
      "torch.Size([50, 1])\n",
      "torch.Size([50, 1])\n",
      "95 tensor(2.0110e-06, grad_fn=<MseLossBackward0>) tensor([ 0.0018, -0.0018]) tensor([-1.9997,  1.9994], grad_fn=<CatBackward0>)\n",
      "torch.Size([50, 1])\n",
      "torch.Size([50, 1])\n",
      "95 tensor(1.4191e-06, grad_fn=<MseLossBackward0>) tensor([ 0.0006, -0.0012]) tensor([-1.9997,  1.9994], grad_fn=<CatBackward0>)\n",
      "torch.Size([50, 1])\n",
      "torch.Size([50, 1])\n",
      "96 tensor(1.5792e-06, grad_fn=<MseLossBackward0>) tensor([ 0.0013, -0.0011]) tensor([-1.9997,  1.9994], grad_fn=<CatBackward0>)\n",
      "torch.Size([50, 1])\n",
      "torch.Size([50, 1])\n",
      "96 tensor(1.4695e-06, grad_fn=<MseLossBackward0>) tensor([ 0.0002, -0.0014]) tensor([-1.9997,  1.9994], grad_fn=<CatBackward0>)\n",
      "torch.Size([50, 1])\n",
      "torch.Size([50, 1])\n",
      "96 tensor(1.8510e-06, grad_fn=<MseLossBackward0>) tensor([ 0.0017, -0.0016]) tensor([-1.9997,  1.9994], grad_fn=<CatBackward0>)\n",
      "torch.Size([50, 1])\n",
      "torch.Size([50, 1])\n",
      "96 tensor(1.3333e-06, grad_fn=<MseLossBackward0>) tensor([ 0.0005, -0.0011]) tensor([-1.9997,  1.9994], grad_fn=<CatBackward0>)\n",
      "torch.Size([50, 1])\n",
      "torch.Size([50, 1])\n",
      "97 tensor(1.4763e-06, grad_fn=<MseLossBackward0>) tensor([ 0.0012, -0.0010]) tensor([-1.9997,  1.9994], grad_fn=<CatBackward0>)\n",
      "torch.Size([50, 1])\n",
      "torch.Size([50, 1])\n",
      "97 tensor(1.3962e-06, grad_fn=<MseLossBackward0>) tensor([ 0.0001, -0.0013]) tensor([-1.9997,  1.9995], grad_fn=<CatBackward0>)\n",
      "torch.Size([50, 1])\n",
      "torch.Size([50, 1])\n",
      "97 tensor(1.7151e-06, grad_fn=<MseLossBackward0>) tensor([ 0.0016, -0.0015]) tensor([-1.9997,  1.9995], grad_fn=<CatBackward0>)\n",
      "torch.Size([50, 1])\n",
      "torch.Size([50, 1])\n"
     ]
    },
    {
     "name": "stdout",
     "output_type": "stream",
     "text": [
      "97 tensor(1.2626e-06, grad_fn=<MseLossBackward0>) tensor([ 0.0005, -0.0010]) tensor([-1.9997,  1.9995], grad_fn=<CatBackward0>)\n",
      "torch.Size([50, 1])\n",
      "torch.Size([50, 1])\n",
      "98 tensor(1.3893e-06, grad_fn=<MseLossBackward0>) tensor([ 0.0012, -0.0009]) tensor([-1.9998,  1.9995], grad_fn=<CatBackward0>)\n",
      "torch.Size([50, 1])\n",
      "torch.Size([50, 1])\n",
      "98 tensor(1.3341e-06, grad_fn=<MseLossBackward0>) tensor([ 8.6419e-05, -1.1982e-03]) tensor([-1.9998,  1.9995], grad_fn=<CatBackward0>)\n",
      "torch.Size([50, 1])\n",
      "torch.Size([50, 1])\n",
      "98 tensor(1.5989e-06, grad_fn=<MseLossBackward0>) tensor([ 0.0015, -0.0014]) tensor([-1.9998,  1.9995], grad_fn=<CatBackward0>)\n",
      "torch.Size([50, 1])\n",
      "torch.Size([50, 1])\n",
      "98 tensor(1.2046e-06, grad_fn=<MseLossBackward0>) tensor([ 0.0004, -0.0009]) tensor([-1.9998,  1.9995], grad_fn=<CatBackward0>)\n",
      "torch.Size([50, 1])\n",
      "torch.Size([50, 1])\n",
      "99 tensor(1.3158e-06, grad_fn=<MseLossBackward0>) tensor([ 0.0011, -0.0008]) tensor([-1.9998,  1.9995], grad_fn=<CatBackward0>)\n",
      "torch.Size([50, 1])\n",
      "torch.Size([50, 1])\n",
      "99 tensor(1.2817e-06, grad_fn=<MseLossBackward0>) tensor([ 4.3227e-05, -1.1267e-03]) tensor([-1.9998,  1.9995], grad_fn=<CatBackward0>)\n",
      "torch.Size([50, 1])\n",
      "torch.Size([50, 1])\n",
      "99 tensor(1.4997e-06, grad_fn=<MseLossBackward0>) tensor([ 0.0014, -0.0013]) tensor([-1.9998,  1.9996], grad_fn=<CatBackward0>)\n",
      "torch.Size([50, 1])\n",
      "torch.Size([50, 1])\n",
      "99 tensor(1.1573e-06, grad_fn=<MseLossBackward0>) tensor([ 0.0003, -0.0009]) tensor([-1.9998,  1.9996], grad_fn=<CatBackward0>)\n"
     ]
    }
   ],
   "source": [
    "model = MLP_Net(user_id=0)\n",
    "\n",
    "lr = 0.01\n",
    "\n",
    "dataloader = DataLoader(MyDataset(datapoints[19][\"features\"], datapoints[19][\"label\"]), batch_size=50, shuffle=False)\n",
    "optimizer = torch.optim.SGD(model.parameters(), lr=0.01)\n",
    "for i in range(100):\n",
    "    for (x, y) in dataloader:\n",
    "        criterion = nn.MSELoss()\n",
    "        optimizer.zero_grad()\n",
    "        yhat = model(x)\n",
    "        print(y.size())\n",
    "        print(yhat.size())\n",
    "        loss = criterion(yhat, y)\n",
    "        \n",
    "        loss.backward()\n",
    "        print(i, loss, grads_to_vector(model.parameters()), parameters_to_vector(model.parameters()))\n",
    "        #optimizer.step()\n",
    "        new_model = parameters_to_vector(model.parameters()) - lr * grads_to_vector(model.parameters())\n",
    "        vector_to_parameters(parameters=model.parameters(), vec=new_model)\n",
    "        #if i % 50 ==0:\n",
    "            #lr *= 0.9\n",
    "            \n",
    "\n",
    "#parameters_to_vector(model.parameters())"
   ]
  },
  {
   "cell_type": "code",
   "execution_count": 11,
   "id": "5eb22da2",
   "metadata": {},
   "outputs": [
    {
     "data": {
      "text/plain": [
       "tensor([-1.9998,  1.9996], grad_fn=<CatBackward0>)"
      ]
     },
     "execution_count": 11,
     "metadata": {},
     "output_type": "execute_result"
    }
   ],
   "source": [
    "parameters_to_vector(model.parameters())"
   ]
  },
  {
   "cell_type": "code",
   "execution_count": 12,
   "id": "52396ca6",
   "metadata": {},
   "outputs": [],
   "source": [
    "class CNN_Net(nn.Module):\n",
    "    def __init__(self):\n",
    "        super(CNN_Net, self).__init__()\n",
    "        self.conv1 = nn.Conv2d(1, 32, kernel_size=5)\n",
    "        self.conv2 = nn.Conv2d(32, 64, kernel_size=5)\n",
    "        self.pool = nn.MaxPool2d(2,2)\n",
    "        self.dropout = nn.Dropout(p=0.2)\n",
    "        self.fc1 = nn.Linear(1024, 512)\n",
    "        self.fc2 = nn.Linear(512, 10)\n",
    "\n",
    "    def forward(self, x):\n",
    "        x = self.pool(F.relu(self.conv1(x)))\n",
    "        x = self.pool(F.relu(self.conv2(x)))\n",
    "        x = self.dropout(x)\n",
    "        x = torch.flatten(x, 1)\n",
    "        x = F.relu(self.fc1(x))\n",
    "        output = self.fc2(x)\n",
    "        return output"
   ]
  },
  {
   "cell_type": "code",
   "execution_count": 13,
   "id": "cb5fe42b",
   "metadata": {},
   "outputs": [],
   "source": [
    "class ClientUpdate(object):\n",
    "    def __init__(self, dataset, batchSize, alpha, lamda, epochs, projection_list, projected_weights):\n",
    "        self.train_loader = DataLoader(MyDataset(dataset[\"features\"], dataset[\"label\"]), batch_size=batchSize, shuffle=True)\n",
    "        #self.learning_rate = learning_rate\n",
    "        self.epochs = epochs\n",
    "        self.batchSize = batchSize\n",
    "\n",
    "    def train(self, model):\n",
    "        criterion = nn.MSELoss()\n",
    "        optimizer = torch.optim.SGD(model.parameters(), lr=1e-3, momentum=0.5)\n",
    "\n",
    "        e_loss = []\n",
    "        for epoch in range(1, self.epochs+1):\n",
    "            train_loss = 0\n",
    "            model.train()\n",
    "            for i, (data, labels) in zip(range(1), self.train_loader):\n",
    "                data, labels = data, labels\n",
    "                optimizer.zero_grad() \n",
    "                output = model(data)  \n",
    "                loss = criterion(output, labels)\n",
    "                #loss += mu/2 * torch.norm(client_param.data - server_param.data)**2\n",
    "                loss.backward()\n",
    "                #grads = grads_to_vector(model.parameters())\n",
    "                optimizer.step()\n",
    "                train_loss += loss.item()*data.size(0)\n",
    "                \n",
    "                \n",
    "\n",
    "            train_loss = train_loss/self.batchSize#len(self.train_loader.dataset) \n",
    "            e_loss.append(train_loss)\n",
    "\n",
    "        total_loss = e_loss#sum(e_loss)/len(e_loss)\n",
    "\n",
    "        return model.state_dict(), total_loss"
   ]
  },
  {
   "cell_type": "code",
   "execution_count": 14,
   "id": "2eeef5b5",
   "metadata": {},
   "outputs": [],
   "source": [
    "# Preparing projection matrices\n",
    "models = [MLP_Net(user_id=i) for i in range(no_users)]\n",
    "#temp = MLP_Net()\n",
    "projection_list = []\n",
    "projected_weights = []\n",
    "\n",
    "def update_ProjWeight(projection_list, projected_weights, first_run=True):\n",
    "    #projected_weights = []\n",
    "    for i in range(no_users):\n",
    "        neighbors_mat = []\n",
    "        neighbors_weights = []\n",
    "        for j in range(no_users):\n",
    "            if j in G.neighbors(i):\n",
    "                with torch.no_grad():\n",
    "                    if first_run == True:\n",
    "                        row, column = parameters_to_vector(models[j].parameters()).size()[0], parameters_to_vector(models[i].parameters()).size()[0]\n",
    "                        mat = torch.zeros((row, column))\n",
    "                        mat.fill_diagonal_(1.0 + 1.0 * float(np.random.randn(1)))\n",
    "                        neighbors_mat.append(mat)\n",
    "                        neighbors_weights.append(torch.matmul(mat, parameters_to_vector(models[j].parameters())))\n",
    "                    else:\n",
    "                        neighbors_weights.append(torch.matmul(projection_list[j][i], parameters_to_vector(models[j].parameters())))\n",
    "            else:\n",
    "                neighbors_mat.append(0)\n",
    "                neighbors_weights.append(0)\n",
    "        if first_run == True:\n",
    "            projection_list.append(neighbors_mat)\n",
    "        projected_weights.append(neighbors_weights)\n",
    "\n",
    "update_ProjWeight(projection_list, projected_weights)\n",
    "\n"
   ]
  },
  {
   "cell_type": "code",
   "execution_count": 15,
   "id": "8a69ce43",
   "metadata": {},
   "outputs": [
    {
     "name": "stdout",
     "output_type": "stream",
     "text": [
      "[0, 0, tensor([[0.6216, 0.0000],\n",
      "        [0.0000, 0.6216]]), tensor([[0.1495, 0.0000],\n",
      "        [0.0000, 0.1495]]), 0, tensor([[2.0807, 0.0000],\n",
      "        [0.0000, 2.0807]]), 0, 0, 0, tensor([[1.0993, 0.0000],\n",
      "        [0.0000, 1.0993]]), 0, 0, 0, 0, 0, 0, 0, 0, 0, 0]\n"
     ]
    }
   ],
   "source": [
    "print(projection_list[0])"
   ]
  },
  {
   "cell_type": "code",
   "execution_count": 16,
   "id": "5f6059eb",
   "metadata": {},
   "outputs": [],
   "source": [
    "def testing(model, dataset, bs, criterion): \n",
    "    test_loss = 0\n",
    "    correct = 0\n",
    "    test_loader = DataLoader(MyDataset(dataset[\"features\"], dataset[\"label\"]), batch_size=bs)\n",
    "    l = len(test_loader)\n",
    "    model.eval()\n",
    "    for data, labels in test_loader:\n",
    "        data, labels = data, labels\n",
    "        output = model(data)\n",
    "        loss = criterion(output, labels)\n",
    "        test_loss += loss.item()*data.size(0)\n",
    "        #_, pred = torch.max(output, 1)\n",
    "        #correct += pred.eq(labels.data.view_as(pred)).sum().item()\n",
    "    \n",
    "    test_loss /= len(test_loader.dataset)\n",
    "    \n",
    "    return test_loss"
   ]
  },
  {
   "cell_type": "code",
   "execution_count": null,
   "id": "1c5a8c93",
   "metadata": {},
   "outputs": [],
   "source": []
  },
  {
   "cell_type": "code",
   "execution_count": 17,
   "id": "a5a25e6d",
   "metadata": {},
   "outputs": [],
   "source": [
    "def rel_error(model):\n",
    "    return (torch.norm(parameters_to_vector(model.parameters()) - datapoints[model.user_id]['exact_weights']) / torch.norm(datapoints[model.user_id]['exact_weights'])).detach()"
   ]
  },
  {
   "cell_type": "code",
   "execution_count": 18,
   "id": "1d1a33e3",
   "metadata": {},
   "outputs": [
    {
     "name": "stdout",
     "output_type": "stream",
     "text": [
      "tensor([-0.0820, -0.1822])\n"
     ]
    },
    {
     "data": {
      "text/plain": [
       "tensor([-0.1640, -0.3643], grad_fn=<CatBackward0>)"
      ]
     },
     "execution_count": 18,
     "metadata": {},
     "output_type": "execute_result"
    }
   ],
   "source": [
    "model = MLP_Net(user_id=0)\n",
    "\n",
    "from torch.nn.utils import parameters_to_vector, vector_to_parameters\n",
    "\n",
    "with torch.no_grad():    \n",
    "    params = parameters_to_vector(model.parameters())\n",
    "\n",
    "    print(params)\n",
    "\n",
    "params *= 2.\n",
    "\n",
    "vector_to_parameters(parameters=model.parameters(), vec=params)\n",
    "\n",
    "parameters_to_vector(model.parameters())\n",
    "\n",
    "\n",
    "\n"
   ]
  },
  {
   "cell_type": "code",
   "execution_count": 19,
   "id": "71472693",
   "metadata": {},
   "outputs": [
    {
     "name": "stderr",
     "output_type": "stream",
     "text": [
      "  0%|          | 2/2000 [00:00<01:52, 17.74it/s]"
     ]
    },
    {
     "name": "stdout",
     "output_type": "stream",
     "text": [
      "Training_loss 7.60723,   Relative Error 0.94956\n",
      "Training_loss 7.57464,   Relative Error 0.94750\n",
      "Training_loss 7.51970,   Relative Error 0.94407\n"
     ]
    },
    {
     "name": "stderr",
     "output_type": "stream",
     "text": [
      "\r",
      "  0%|          | 4/2000 [00:00<01:54, 17.47it/s]"
     ]
    },
    {
     "name": "stdout",
     "output_type": "stream",
     "text": [
      "Training_loss 7.50085,   Relative Error 0.94289\n"
     ]
    },
    {
     "name": "stderr",
     "output_type": "stream",
     "text": [
      "\r",
      "  0%|          | 6/2000 [00:00<02:03, 16.16it/s]"
     ]
    },
    {
     "name": "stdout",
     "output_type": "stream",
     "text": [
      "Training_loss 7.48362,   Relative Error 0.94182\n",
      "Training_loss 7.45539,   Relative Error 0.94004\n",
      "Training_loss 7.42247,   Relative Error 0.93797\n"
     ]
    },
    {
     "name": "stderr",
     "output_type": "stream",
     "text": [
      "\r",
      "  0%|          | 8/2000 [00:00<02:07, 15.58it/s]"
     ]
    },
    {
     "name": "stdout",
     "output_type": "stream",
     "text": [
      "Training_loss 7.38530,   Relative Error 0.93562\n"
     ]
    },
    {
     "name": "stderr",
     "output_type": "stream",
     "text": [
      "\r",
      "  0%|          | 10/2000 [00:00<02:02, 16.23it/s]"
     ]
    },
    {
     "name": "stdout",
     "output_type": "stream",
     "text": [
      "Training_loss 7.34444,   Relative Error 0.93304\n",
      "Training_loss 7.32113,   Relative Error 0.93157\n",
      "Training_loss 7.28708,   Relative Error 0.92941\n"
     ]
    },
    {
     "name": "stderr",
     "output_type": "stream",
     "text": [
      "\r",
      "  1%|          | 12/2000 [00:00<02:00, 16.46it/s]"
     ]
    },
    {
     "name": "stdout",
     "output_type": "stream",
     "text": [
      "Training_loss 7.25874,   Relative Error 0.92757\n"
     ]
    },
    {
     "name": "stderr",
     "output_type": "stream",
     "text": [
      "\r",
      "  1%|          | 14/2000 [00:00<01:57, 16.97it/s]"
     ]
    },
    {
     "name": "stdout",
     "output_type": "stream",
     "text": [
      "Training_loss 7.21484,   Relative Error 0.92479\n",
      "Training_loss 7.19140,   Relative Error 0.92329\n",
      "Training_loss 7.15123,   Relative Error 0.92072\n"
     ]
    },
    {
     "name": "stderr",
     "output_type": "stream",
     "text": [
      "\r",
      "  1%|          | 16/2000 [00:00<01:55, 17.20it/s]"
     ]
    },
    {
     "name": "stdout",
     "output_type": "stream",
     "text": [
      "Training_loss 7.12986,   Relative Error 0.91934\n"
     ]
    },
    {
     "name": "stderr",
     "output_type": "stream",
     "text": [
      "\r",
      "  1%|          | 18/2000 [00:01<01:53, 17.45it/s]"
     ]
    },
    {
     "name": "stdout",
     "output_type": "stream",
     "text": [
      "Training_loss 7.10160,   Relative Error 0.91753\n",
      "Training_loss 7.07296,   Relative Error 0.91568\n",
      "Training_loss 7.03977,   Relative Error 0.91353\n"
     ]
    },
    {
     "name": "stderr",
     "output_type": "stream",
     "text": [
      "\r",
      "  1%|          | 20/2000 [00:01<01:54, 17.35it/s]"
     ]
    },
    {
     "name": "stdout",
     "output_type": "stream",
     "text": [
      "Training_loss 7.02226,   Relative Error 0.91239\n"
     ]
    },
    {
     "name": "stderr",
     "output_type": "stream",
     "text": [
      "\r",
      "  1%|          | 22/2000 [00:01<01:53, 17.44it/s]"
     ]
    },
    {
     "name": "stdout",
     "output_type": "stream",
     "text": [
      "Training_loss 6.98930,   Relative Error 0.91025\n",
      "Training_loss 6.97043,   Relative Error 0.90902\n",
      "Training_loss 6.94324,   Relative Error 0.90723\n"
     ]
    },
    {
     "name": "stderr",
     "output_type": "stream",
     "text": [
      "\r",
      "  1%|          | 24/2000 [00:01<02:25, 13.58it/s]"
     ]
    },
    {
     "name": "stdout",
     "output_type": "stream",
     "text": [
      "Training_loss 6.91578,   Relative Error 0.90544\n"
     ]
    },
    {
     "name": "stderr",
     "output_type": "stream",
     "text": [
      "\r",
      "  1%|▏         | 26/2000 [00:01<02:41, 12.19it/s]"
     ]
    },
    {
     "name": "stdout",
     "output_type": "stream",
     "text": [
      "Training_loss 6.89226,   Relative Error 0.90389\n",
      "Training_loss 6.86891,   Relative Error 0.90235\n"
     ]
    },
    {
     "name": "stderr",
     "output_type": "stream",
     "text": [
      "\r",
      "  1%|▏         | 28/2000 [00:01<02:23, 13.79it/s]"
     ]
    },
    {
     "name": "stdout",
     "output_type": "stream",
     "text": [
      "Training_loss 6.83921,   Relative Error 0.90038\n",
      "Training_loss 6.81406,   Relative Error 0.89874\n"
     ]
    },
    {
     "name": "stderr",
     "output_type": "stream",
     "text": [
      "\r",
      "  2%|▏         | 30/2000 [00:01<02:12, 14.88it/s]"
     ]
    },
    {
     "name": "stdout",
     "output_type": "stream",
     "text": [
      "Training_loss 6.77775,   Relative Error 0.89635\n",
      "Training_loss 6.74805,   Relative Error 0.89440\n"
     ]
    },
    {
     "name": "stderr",
     "output_type": "stream",
     "text": [
      "\r",
      "  2%|▏         | 32/2000 [00:02<02:14, 14.62it/s]"
     ]
    },
    {
     "name": "stdout",
     "output_type": "stream",
     "text": [
      "Training_loss 6.71889,   Relative Error 0.89245\n",
      "Training_loss 6.68308,   Relative Error 0.89007\n"
     ]
    },
    {
     "name": "stderr",
     "output_type": "stream",
     "text": [
      "\r",
      "  2%|▏         | 35/2000 [00:02<01:59, 16.43it/s]"
     ]
    },
    {
     "name": "stdout",
     "output_type": "stream",
     "text": [
      "Training_loss 6.65770,   Relative Error 0.88836\n",
      "Training_loss 6.62803,   Relative Error 0.88641\n",
      "Training_loss 6.60644,   Relative Error 0.88496\n",
      "Training_loss 6.58355,   Relative Error 0.88343\n",
      "Training_loss 6.54343,   Relative Error 0.88076\n"
     ]
    },
    {
     "name": "stderr",
     "output_type": "stream",
     "text": [
      "\r",
      "  2%|▏         | 38/2000 [00:02<01:52, 17.49it/s]"
     ]
    },
    {
     "name": "stdout",
     "output_type": "stream",
     "text": [
      "Training_loss 6.51859,   Relative Error 0.87908\n",
      "Training_loss 6.48640,   Relative Error 0.87691\n",
      "Training_loss 6.46542,   Relative Error 0.87548\n"
     ]
    },
    {
     "name": "stderr",
     "output_type": "stream",
     "text": [
      "\r",
      "  2%|▏         | 41/2000 [00:02<01:47, 18.16it/s]"
     ]
    },
    {
     "name": "stdout",
     "output_type": "stream",
     "text": [
      "Training_loss 6.43628,   Relative Error 0.87350\n"
     ]
    },
    {
     "name": "stderr",
     "output_type": "stream",
     "text": [
      "\r",
      "  2%|▏         | 43/2000 [00:02<01:47, 18.15it/s]"
     ]
    },
    {
     "name": "stdout",
     "output_type": "stream",
     "text": [
      "Training_loss 6.40521,   Relative Error 0.87140\n",
      "Training_loss 6.38087,   Relative Error 0.86974\n",
      "Training_loss 6.34099,   Relative Error 0.86702\n"
     ]
    },
    {
     "name": "stderr",
     "output_type": "stream",
     "text": [
      "\r",
      "  2%|▏         | 45/2000 [00:02<01:47, 18.19it/s]"
     ]
    },
    {
     "name": "stdout",
     "output_type": "stream",
     "text": [
      "Training_loss 6.31639,   Relative Error 0.86532\n"
     ]
    },
    {
     "name": "stderr",
     "output_type": "stream",
     "text": [
      "\r",
      "  2%|▏         | 48/2000 [00:02<01:43, 18.85it/s]"
     ]
    },
    {
     "name": "stdout",
     "output_type": "stream",
     "text": [
      "Training_loss 6.28826,   Relative Error 0.86338\n",
      "Training_loss 6.26257,   Relative Error 0.86159\n",
      "Training_loss 6.24221,   Relative Error 0.86020\n",
      "Training_loss 6.22847,   Relative Error 0.85925\n"
     ]
    },
    {
     "name": "stderr",
     "output_type": "stream",
     "text": [
      "  3%|▎         | 52/2000 [00:03<01:45, 18.55it/s]"
     ]
    },
    {
     "name": "stdout",
     "output_type": "stream",
     "text": [
      "Training_loss 6.21123,   Relative Error 0.85806\n",
      "Training_loss 6.19335,   Relative Error 0.85685\n",
      "Training_loss 6.16304,   Relative Error 0.85472\n",
      "Training_loss 6.13495,   Relative Error 0.85275\n",
      "Training_loss 6.09436,   Relative Error 0.84995\n"
     ]
    },
    {
     "name": "stderr",
     "output_type": "stream",
     "text": [
      "  3%|▎         | 57/2000 [00:03<01:45, 18.49it/s]"
     ]
    },
    {
     "name": "stdout",
     "output_type": "stream",
     "text": [
      "Training_loss 6.06363,   Relative Error 0.84777\n",
      "Training_loss 6.05006,   Relative Error 0.84682\n",
      "Training_loss 6.01091,   Relative Error 0.84409\n",
      "Training_loss 5.98833,   Relative Error 0.84251\n"
     ]
    },
    {
     "name": "stderr",
     "output_type": "stream",
     "text": [
      "  3%|▎         | 61/2000 [00:03<01:52, 17.19it/s]"
     ]
    },
    {
     "name": "stdout",
     "output_type": "stream",
     "text": [
      "Training_loss 5.96491,   Relative Error 0.84086\n",
      "Training_loss 5.93437,   Relative Error 0.83869\n",
      "Training_loss 5.90156,   Relative Error 0.83637\n",
      "Training_loss 5.87461,   Relative Error 0.83445\n"
     ]
    },
    {
     "name": "stderr",
     "output_type": "stream",
     "text": [
      "  3%|▎         | 65/2000 [00:03<01:57, 16.48it/s]"
     ]
    },
    {
     "name": "stdout",
     "output_type": "stream",
     "text": [
      "Training_loss 5.85246,   Relative Error 0.83286\n",
      "Training_loss 5.82782,   Relative Error 0.83109\n",
      "Training_loss 5.81771,   Relative Error 0.83037\n",
      "Training_loss 5.79825,   Relative Error 0.82898\n"
     ]
    },
    {
     "name": "stderr",
     "output_type": "stream",
     "text": [
      "  3%|▎         | 69/2000 [00:04<01:58, 16.29it/s]"
     ]
    },
    {
     "name": "stdout",
     "output_type": "stream",
     "text": [
      "Training_loss 5.76630,   Relative Error 0.82671\n",
      "Training_loss 5.75344,   Relative Error 0.82577\n",
      "Training_loss 5.73145,   Relative Error 0.82419\n"
     ]
    },
    {
     "name": "stderr",
     "output_type": "stream",
     "text": [
      "  4%|▎         | 73/2000 [00:04<02:03, 15.64it/s]"
     ]
    },
    {
     "name": "stdout",
     "output_type": "stream",
     "text": [
      "Training_loss 5.71529,   Relative Error 0.82303\n",
      "Training_loss 5.69144,   Relative Error 0.82130\n",
      "Training_loss 5.67384,   Relative Error 0.82002\n",
      "Training_loss 5.64432,   Relative Error 0.81788\n"
     ]
    },
    {
     "name": "stderr",
     "output_type": "stream",
     "text": [
      "  4%|▍         | 77/2000 [00:04<01:59, 16.04it/s]"
     ]
    },
    {
     "name": "stdout",
     "output_type": "stream",
     "text": [
      "Training_loss 5.62781,   Relative Error 0.81667\n",
      "Training_loss 5.61191,   Relative Error 0.81550\n",
      "Training_loss 5.58447,   Relative Error 0.81348\n",
      "Training_loss 5.56118,   Relative Error 0.81179\n"
     ]
    },
    {
     "name": "stderr",
     "output_type": "stream",
     "text": [
      "\r",
      "  4%|▍         | 79/2000 [00:04<02:46, 11.56it/s]"
     ]
    },
    {
     "name": "stdout",
     "output_type": "stream",
     "text": [
      "Training_loss 5.53840,   Relative Error 0.81014\n",
      "Training_loss 5.50935,   Relative Error 0.80800\n"
     ]
    },
    {
     "name": "stderr",
     "output_type": "stream",
     "text": [
      "\r",
      "  4%|▍         | 81/2000 [00:05<02:54, 10.97it/s]"
     ]
    },
    {
     "name": "stdout",
     "output_type": "stream",
     "text": [
      "Training_loss 5.48852,   Relative Error 0.80648\n",
      "Training_loss 5.45753,   Relative Error 0.80421\n",
      "Training_loss 5.42925,   Relative Error 0.80214\n"
     ]
    },
    {
     "name": "stderr",
     "output_type": "stream",
     "text": [
      "  4%|▍         | 85/2000 [00:05<02:43, 11.70it/s]"
     ]
    },
    {
     "name": "stdout",
     "output_type": "stream",
     "text": [
      "Training_loss 5.39524,   Relative Error 0.79964\n",
      "Training_loss 5.37332,   Relative Error 0.79801\n",
      "Training_loss 5.36107,   Relative Error 0.79708\n"
     ]
    },
    {
     "name": "stderr",
     "output_type": "stream",
     "text": [
      "\r",
      "  4%|▍         | 87/2000 [00:05<02:37, 12.14it/s]"
     ]
    },
    {
     "name": "stdout",
     "output_type": "stream",
     "text": [
      "Training_loss 5.34178,   Relative Error 0.79564\n",
      "Training_loss 5.31798,   Relative Error 0.79388\n",
      "Training_loss 5.29025,   Relative Error 0.79183\n"
     ]
    },
    {
     "name": "stderr",
     "output_type": "stream",
     "text": [
      "\r",
      "  4%|▍         | 89/2000 [00:05<02:38, 12.09it/s]"
     ]
    },
    {
     "name": "stdout",
     "output_type": "stream",
     "text": [
      "Training_loss 5.26234,   Relative Error 0.78972\n",
      "Training_loss 5.24351,   Relative Error 0.78831\n"
     ]
    },
    {
     "name": "stderr",
     "output_type": "stream",
     "text": [
      "  5%|▍         | 93/2000 [00:06<02:32, 12.52it/s]"
     ]
    },
    {
     "name": "stdout",
     "output_type": "stream",
     "text": [
      "Training_loss 5.22420,   Relative Error 0.78685\n",
      "Training_loss 5.21427,   Relative Error 0.78610\n",
      "Training_loss 5.20093,   Relative Error 0.78510\n",
      "Training_loss 5.18408,   Relative Error 0.78383\n"
     ]
    },
    {
     "name": "stderr",
     "output_type": "stream",
     "text": [
      "  5%|▍         | 97/2000 [00:06<02:17, 13.85it/s]"
     ]
    },
    {
     "name": "stdout",
     "output_type": "stream",
     "text": [
      "Training_loss 5.16792,   Relative Error 0.78261\n",
      "Training_loss 5.14935,   Relative Error 0.78120\n",
      "Training_loss 5.13620,   Relative Error 0.78020\n"
     ]
    },
    {
     "name": "stderr",
     "output_type": "stream",
     "text": [
      "\r",
      "  5%|▍         | 99/2000 [00:06<02:12, 14.36it/s]"
     ]
    },
    {
     "name": "stdout",
     "output_type": "stream",
     "text": [
      "Training_loss 5.11635,   Relative Error 0.77868\n",
      "Training_loss 5.08729,   Relative Error 0.77647\n",
      "Training_loss 5.06217,   Relative Error 0.77454\n"
     ]
    },
    {
     "name": "stderr",
     "output_type": "stream",
     "text": [
      "  5%|▌         | 103/2000 [00:06<02:20, 13.47it/s]"
     ]
    },
    {
     "name": "stdout",
     "output_type": "stream",
     "text": [
      "Training_loss 5.04604,   Relative Error 0.77331\n",
      "Training_loss 5.03337,   Relative Error 0.77234\n",
      "Training_loss 5.01629,   Relative Error 0.77101\n"
     ]
    },
    {
     "name": "stderr",
     "output_type": "stream",
     "text": [
      "  5%|▌         | 107/2000 [00:07<02:12, 14.24it/s]"
     ]
    },
    {
     "name": "stdout",
     "output_type": "stream",
     "text": [
      "Training_loss 4.99498,   Relative Error 0.76939\n",
      "Training_loss 4.97359,   Relative Error 0.76774\n",
      "Training_loss 4.95928,   Relative Error 0.76663\n",
      "Training_loss 4.93039,   Relative Error 0.76438\n"
     ]
    },
    {
     "name": "stderr",
     "output_type": "stream",
     "text": [
      "  6%|▌         | 111/2000 [00:07<02:07, 14.79it/s]"
     ]
    },
    {
     "name": "stdout",
     "output_type": "stream",
     "text": [
      "Training_loss 4.90165,   Relative Error 0.76216\n",
      "Training_loss 4.87662,   Relative Error 0.76019\n",
      "Training_loss 4.85854,   Relative Error 0.75877\n",
      "Training_loss 4.83482,   Relative Error 0.75692\n"
     ]
    },
    {
     "name": "stderr",
     "output_type": "stream",
     "text": [
      "\r",
      "  6%|▌         | 113/2000 [00:07<02:11, 14.36it/s]"
     ]
    },
    {
     "name": "stdout",
     "output_type": "stream",
     "text": [
      "Training_loss 4.82360,   Relative Error 0.75604\n",
      "Training_loss 4.80487,   Relative Error 0.75457\n",
      "Training_loss 4.76932,   Relative Error 0.75177\n"
     ]
    },
    {
     "name": "stderr",
     "output_type": "stream",
     "text": [
      "  6%|▌         | 117/2000 [00:07<02:20, 13.39it/s]"
     ]
    },
    {
     "name": "stdout",
     "output_type": "stream",
     "text": [
      "Training_loss 4.73843,   Relative Error 0.74932\n",
      "Training_loss 4.71775,   Relative Error 0.74768\n",
      "Training_loss 4.68958,   Relative Error 0.74544\n"
     ]
    },
    {
     "name": "stderr",
     "output_type": "stream",
     "text": [
      "\r",
      "  6%|▌         | 119/2000 [00:07<02:16, 13.80it/s]"
     ]
    },
    {
     "name": "stdout",
     "output_type": "stream",
     "text": [
      "Training_loss 4.66977,   Relative Error 0.74386\n",
      "Training_loss 4.65757,   Relative Error 0.74286\n",
      "Training_loss 4.64442,   Relative Error 0.74182\n"
     ]
    },
    {
     "name": "stderr",
     "output_type": "stream",
     "text": [
      "  6%|▌         | 123/2000 [00:08<02:12, 14.19it/s]"
     ]
    },
    {
     "name": "stdout",
     "output_type": "stream",
     "text": [
      "Training_loss 4.62247,   Relative Error 0.74007\n",
      "Training_loss 4.59764,   Relative Error 0.73807\n",
      "Training_loss 4.57748,   Relative Error 0.73644\n"
     ]
    },
    {
     "name": "stderr",
     "output_type": "stream",
     "text": [
      "\r",
      "  6%|▋         | 125/2000 [00:08<02:10, 14.32it/s]"
     ]
    },
    {
     "name": "stdout",
     "output_type": "stream",
     "text": [
      "Training_loss 4.55308,   Relative Error 0.73446\n",
      "Training_loss 4.53812,   Relative Error 0.73324\n",
      "Training_loss 4.52034,   Relative Error 0.73180\n"
     ]
    },
    {
     "name": "stderr",
     "output_type": "stream",
     "text": [
      "  6%|▋         | 129/2000 [00:08<02:10, 14.34it/s]"
     ]
    },
    {
     "name": "stdout",
     "output_type": "stream",
     "text": [
      "Training_loss 4.50178,   Relative Error 0.73032\n",
      "Training_loss 4.48852,   Relative Error 0.72922\n",
      "Training_loss 4.46135,   Relative Error 0.72699\n"
     ]
    },
    {
     "name": "stderr",
     "output_type": "stream",
     "text": [
      "\r",
      "  7%|▋         | 131/2000 [00:08<02:06, 14.79it/s]"
     ]
    },
    {
     "name": "stdout",
     "output_type": "stream",
     "text": [
      "Training_loss 4.43646,   Relative Error 0.72496\n",
      "Training_loss 4.41937,   Relative Error 0.72355\n",
      "Training_loss 4.40775,   Relative Error 0.72260\n"
     ]
    },
    {
     "name": "stderr",
     "output_type": "stream",
     "text": [
      "  7%|▋         | 135/2000 [00:09<02:15, 13.79it/s]"
     ]
    },
    {
     "name": "stdout",
     "output_type": "stream",
     "text": [
      "Training_loss 4.38881,   Relative Error 0.72104\n",
      "Training_loss 4.37324,   Relative Error 0.71975\n",
      "Training_loss 4.35393,   Relative Error 0.71816\n"
     ]
    },
    {
     "name": "stderr",
     "output_type": "stream",
     "text": [
      "  7%|▋         | 139/2000 [00:09<02:10, 14.27it/s]"
     ]
    },
    {
     "name": "stdout",
     "output_type": "stream",
     "text": [
      "Training_loss 4.32552,   Relative Error 0.71583\n",
      "Training_loss 4.30931,   Relative Error 0.71447\n",
      "Training_loss 4.28864,   Relative Error 0.71276\n",
      "Training_loss 4.27702,   Relative Error 0.71179\n"
     ]
    },
    {
     "name": "stderr",
     "output_type": "stream",
     "text": [
      "\r",
      "  7%|▋         | 141/2000 [00:09<02:10, 14.28it/s]"
     ]
    },
    {
     "name": "stdout",
     "output_type": "stream",
     "text": [
      "Training_loss 4.25506,   Relative Error 0.70994\n",
      "Training_loss 4.24193,   Relative Error 0.70883\n",
      "Training_loss 4.22987,   Relative Error 0.70784\n"
     ]
    },
    {
     "name": "stderr",
     "output_type": "stream",
     "text": [
      "  7%|▋         | 145/2000 [00:09<02:22, 13.03it/s]"
     ]
    },
    {
     "name": "stdout",
     "output_type": "stream",
     "text": [
      "Training_loss 4.21551,   Relative Error 0.70662\n",
      "Training_loss 4.20515,   Relative Error 0.70575\n",
      "Training_loss 4.19015,   Relative Error 0.70449\n"
     ]
    },
    {
     "name": "stderr",
     "output_type": "stream",
     "text": [
      "\r",
      "  7%|▋         | 147/2000 [00:09<02:23, 12.88it/s]"
     ]
    },
    {
     "name": "stdout",
     "output_type": "stream",
     "text": [
      "Training_loss 4.17518,   Relative Error 0.70321\n",
      "Training_loss 4.14958,   Relative Error 0.70105\n",
      "Training_loss 4.14118,   Relative Error 0.70033\n"
     ]
    },
    {
     "name": "stderr",
     "output_type": "stream",
     "text": [
      "  8%|▊         | 151/2000 [00:10<02:15, 13.64it/s]"
     ]
    },
    {
     "name": "stdout",
     "output_type": "stream",
     "text": [
      "Training_loss 4.12656,   Relative Error 0.69910\n",
      "Training_loss 4.10612,   Relative Error 0.69735\n",
      "Training_loss 4.08939,   Relative Error 0.69594\n",
      "Training_loss 4.07452,   Relative Error 0.69466\n"
     ]
    },
    {
     "name": "stderr",
     "output_type": "stream",
     "text": [
      "  8%|▊         | 155/2000 [00:10<02:09, 14.30it/s]"
     ]
    },
    {
     "name": "stdout",
     "output_type": "stream",
     "text": [
      "Training_loss 4.05824,   Relative Error 0.69329\n",
      "Training_loss 4.03662,   Relative Error 0.69141\n",
      "Training_loss 4.02677,   Relative Error 0.69055\n"
     ]
    },
    {
     "name": "stderr",
     "output_type": "stream",
     "text": [
      "\r",
      "  8%|▊         | 157/2000 [00:10<02:10, 14.16it/s]"
     ]
    },
    {
     "name": "stdout",
     "output_type": "stream",
     "text": [
      "Training_loss 3.99893,   Relative Error 0.68815\n",
      "Training_loss 3.97636,   Relative Error 0.68621\n",
      "Training_loss 3.95649,   Relative Error 0.68450\n"
     ]
    },
    {
     "name": "stderr",
     "output_type": "stream",
     "text": [
      "\r",
      "  8%|▊         | 159/2000 [00:10<02:38, 11.63it/s]"
     ]
    },
    {
     "name": "stdout",
     "output_type": "stream",
     "text": [
      "Training_loss 3.94025,   Relative Error 0.68310\n"
     ]
    },
    {
     "name": "stderr",
     "output_type": "stream",
     "text": [
      "\r",
      "  8%|▊         | 161/2000 [00:11<03:20,  9.16it/s]"
     ]
    },
    {
     "name": "stdout",
     "output_type": "stream",
     "text": [
      "Training_loss 3.92454,   Relative Error 0.68173\n",
      "Training_loss 3.91356,   Relative Error 0.68077\n",
      "Training_loss 3.90092,   Relative Error 0.67966\n"
     ]
    },
    {
     "name": "stderr",
     "output_type": "stream",
     "text": [
      "  8%|▊         | 165/2000 [00:11<02:40, 11.41it/s]"
     ]
    },
    {
     "name": "stdout",
     "output_type": "stream",
     "text": [
      "Training_loss 3.88024,   Relative Error 0.67786\n",
      "Training_loss 3.86463,   Relative Error 0.67651\n",
      "Training_loss 3.84805,   Relative Error 0.67503\n",
      "Training_loss 3.83618,   Relative Error 0.67397\n"
     ]
    },
    {
     "name": "stderr",
     "output_type": "stream",
     "text": [
      "\r",
      "  8%|▊         | 167/2000 [00:11<03:39,  8.35it/s]"
     ]
    },
    {
     "name": "stdout",
     "output_type": "stream",
     "text": [
      "Training_loss 3.82213,   Relative Error 0.67275\n",
      "Training_loss 3.79470,   Relative Error 0.67032\n"
     ]
    },
    {
     "name": "stderr",
     "output_type": "stream",
     "text": [
      "  8%|▊         | 170/2000 [00:12<04:21,  6.99it/s]"
     ]
    },
    {
     "name": "stdout",
     "output_type": "stream",
     "text": [
      "Training_loss 3.77769,   Relative Error 0.66881\n",
      "Training_loss 3.76250,   Relative Error 0.66745\n"
     ]
    },
    {
     "name": "stderr",
     "output_type": "stream",
     "text": [
      "  9%|▊         | 172/2000 [00:12<04:45,  6.40it/s]"
     ]
    },
    {
     "name": "stdout",
     "output_type": "stream",
     "text": [
      "Training_loss 3.74025,   Relative Error 0.66545\n",
      "Training_loss 3.72826,   Relative Error 0.66439\n"
     ]
    },
    {
     "name": "stderr",
     "output_type": "stream",
     "text": [
      "  9%|▉         | 175/2000 [00:13<03:49,  7.97it/s]"
     ]
    },
    {
     "name": "stdout",
     "output_type": "stream",
     "text": [
      "Training_loss 3.71779,   Relative Error 0.66346\n",
      "Training_loss 3.69423,   Relative Error 0.66135\n",
      "Training_loss 3.68259,   Relative Error 0.66030\n"
     ]
    },
    {
     "name": "stderr",
     "output_type": "stream",
     "text": [
      "  9%|▉         | 178/2000 [00:13<03:21,  9.05it/s]"
     ]
    },
    {
     "name": "stdout",
     "output_type": "stream",
     "text": [
      "Training_loss 3.67068,   Relative Error 0.65923\n",
      "Training_loss 3.65414,   Relative Error 0.65775\n",
      "Training_loss 3.64531,   Relative Error 0.65697\n"
     ]
    },
    {
     "name": "stderr",
     "output_type": "stream",
     "text": [
      "  9%|▉         | 181/2000 [00:13<03:06,  9.76it/s]"
     ]
    },
    {
     "name": "stdout",
     "output_type": "stream",
     "text": [
      "Training_loss 3.62492,   Relative Error 0.65514\n",
      "Training_loss 3.60904,   Relative Error 0.65370\n",
      "Training_loss 3.59730,   Relative Error 0.65263\n"
     ]
    },
    {
     "name": "stderr",
     "output_type": "stream",
     "text": [
      "  9%|▉         | 183/2000 [00:13<03:18,  9.14it/s]"
     ]
    },
    {
     "name": "stdout",
     "output_type": "stream",
     "text": [
      "Training_loss 3.58150,   Relative Error 0.65121\n",
      "Training_loss 3.55937,   Relative Error 0.64920\n",
      "Training_loss 3.54333,   Relative Error 0.64773\n"
     ]
    },
    {
     "name": "stderr",
     "output_type": "stream",
     "text": [
      "  9%|▉         | 187/2000 [00:14<02:56, 10.28it/s]"
     ]
    },
    {
     "name": "stdout",
     "output_type": "stream",
     "text": [
      "Training_loss 3.53660,   Relative Error 0.64711\n",
      "Training_loss 3.51872,   Relative Error 0.64548\n",
      "Training_loss 3.50707,   Relative Error 0.64440\n"
     ]
    },
    {
     "name": "stderr",
     "output_type": "stream",
     "text": [
      "\r",
      "  9%|▉         | 189/2000 [00:14<03:04,  9.82it/s]"
     ]
    },
    {
     "name": "stdout",
     "output_type": "stream",
     "text": [
      "Training_loss 3.49524,   Relative Error 0.64331\n",
      "Training_loss 3.48130,   Relative Error 0.64201\n"
     ]
    },
    {
     "name": "stderr",
     "output_type": "stream",
     "text": [
      " 10%|▉         | 192/2000 [00:14<02:59, 10.10it/s]"
     ]
    },
    {
     "name": "stdout",
     "output_type": "stream",
     "text": [
      "Training_loss 3.46669,   Relative Error 0.64065\n",
      "Training_loss 3.45421,   Relative Error 0.63948\n",
      "Training_loss 3.44251,   Relative Error 0.63839\n"
     ]
    },
    {
     "name": "stderr",
     "output_type": "stream",
     "text": [
      "\r",
      " 10%|▉         | 194/2000 [00:14<03:02,  9.89it/s]"
     ]
    },
    {
     "name": "stdout",
     "output_type": "stream",
     "text": [
      "Training_loss 3.42951,   Relative Error 0.63718\n",
      "Training_loss 3.41843,   Relative Error 0.63616\n",
      "Training_loss 3.40598,   Relative Error 0.63501\n"
     ]
    },
    {
     "name": "stderr",
     "output_type": "stream",
     "text": [
      " 10%|▉         | 197/2000 [00:15<03:05,  9.74it/s]"
     ]
    },
    {
     "name": "stdout",
     "output_type": "stream",
     "text": [
      "Training_loss 3.39592,   Relative Error 0.63408\n",
      "Training_loss 3.38299,   Relative Error 0.63286\n"
     ]
    },
    {
     "name": "stderr",
     "output_type": "stream",
     "text": [
      " 10%|█         | 200/2000 [00:15<02:44, 10.94it/s]"
     ]
    },
    {
     "name": "stdout",
     "output_type": "stream",
     "text": [
      "Training_loss 3.36641,   Relative Error 0.63130\n",
      "Training_loss 3.35960,   Relative Error 0.63066\n",
      "Training_loss 3.34734,   Relative Error 0.62952\n",
      "Training_loss 3.33217,   Relative Error 0.62809\n"
     ]
    },
    {
     "name": "stderr",
     "output_type": "stream",
     "text": [
      "\r",
      " 10%|█         | 202/2000 [00:15<02:35, 11.54it/s]"
     ]
    },
    {
     "name": "stdout",
     "output_type": "stream",
     "text": [
      "Training_loss 3.31583,   Relative Error 0.62656\n",
      "Training_loss 3.30742,   Relative Error 0.62577\n"
     ]
    },
    {
     "name": "stderr",
     "output_type": "stream",
     "text": [
      " 10%|█         | 206/2000 [00:16<02:40, 11.17it/s]"
     ]
    },
    {
     "name": "stdout",
     "output_type": "stream",
     "text": [
      "Training_loss 3.29699,   Relative Error 0.62478\n",
      "Training_loss 3.28619,   Relative Error 0.62376\n",
      "Training_loss 3.27452,   Relative Error 0.62264\n"
     ]
    },
    {
     "name": "stderr",
     "output_type": "stream",
     "text": [
      "\r",
      " 10%|█         | 208/2000 [00:16<02:43, 10.97it/s]"
     ]
    },
    {
     "name": "stdout",
     "output_type": "stream",
     "text": [
      "Training_loss 3.26305,   Relative Error 0.62155\n",
      "Training_loss 3.25332,   Relative Error 0.62062\n",
      "Training_loss 3.23953,   Relative Error 0.61930\n"
     ]
    },
    {
     "name": "stderr",
     "output_type": "stream",
     "text": [
      " 11%|█         | 212/2000 [00:16<02:37, 11.35it/s]"
     ]
    },
    {
     "name": "stdout",
     "output_type": "stream",
     "text": [
      "Training_loss 3.21515,   Relative Error 0.61695\n",
      "Training_loss 3.20029,   Relative Error 0.61550\n",
      "Training_loss 3.18716,   Relative Error 0.61423\n"
     ]
    },
    {
     "name": "stderr",
     "output_type": "stream",
     "text": [
      "\r",
      " 11%|█         | 214/2000 [00:16<02:35, 11.47it/s]"
     ]
    },
    {
     "name": "stdout",
     "output_type": "stream",
     "text": [
      "Training_loss 3.17455,   Relative Error 0.61301\n",
      "Training_loss 3.16366,   Relative Error 0.61196\n",
      "Training_loss 3.15750,   Relative Error 0.61135\n"
     ]
    },
    {
     "name": "stderr",
     "output_type": "stream",
     "text": [
      " 11%|█         | 218/2000 [00:17<02:34, 11.56it/s]"
     ]
    },
    {
     "name": "stdout",
     "output_type": "stream",
     "text": [
      "Training_loss 3.14235,   Relative Error 0.60988\n",
      "Training_loss 3.13226,   Relative Error 0.60889\n",
      "Training_loss 3.11508,   Relative Error 0.60722\n"
     ]
    },
    {
     "name": "stderr",
     "output_type": "stream",
     "text": [
      "\r",
      " 11%|█         | 220/2000 [00:17<02:42, 10.92it/s]"
     ]
    },
    {
     "name": "stdout",
     "output_type": "stream",
     "text": [
      "Training_loss 3.10115,   Relative Error 0.60587\n",
      "Training_loss 3.08785,   Relative Error 0.60456\n"
     ]
    },
    {
     "name": "stderr",
     "output_type": "stream",
     "text": [
      "\r",
      " 11%|█         | 222/2000 [00:17<03:00,  9.87it/s]"
     ]
    },
    {
     "name": "stdout",
     "output_type": "stream",
     "text": [
      "Training_loss 3.07209,   Relative Error 0.60303\n",
      "Training_loss 3.05482,   Relative Error 0.60134\n"
     ]
    },
    {
     "name": "stderr",
     "output_type": "stream",
     "text": [
      "\r",
      " 11%|█         | 224/2000 [00:17<03:12,  9.24it/s]"
     ]
    },
    {
     "name": "stdout",
     "output_type": "stream",
     "text": [
      "Training_loss 3.03923,   Relative Error 0.59980\n",
      "Training_loss 3.02709,   Relative Error 0.59860\n",
      "Training_loss 3.01802,   Relative Error 0.59770\n"
     ]
    },
    {
     "name": "stderr",
     "output_type": "stream",
     "text": [
      " 11%|█▏        | 228/2000 [00:18<02:58,  9.94it/s]"
     ]
    },
    {
     "name": "stdout",
     "output_type": "stream",
     "text": [
      "Training_loss 3.00800,   Relative Error 0.59671\n",
      "Training_loss 2.99634,   Relative Error 0.59557\n",
      "Training_loss 2.98802,   Relative Error 0.59474\n"
     ]
    },
    {
     "name": "stderr",
     "output_type": "stream",
     "text": [
      "\r",
      " 12%|█▏        | 230/2000 [00:18<03:01,  9.76it/s]"
     ]
    },
    {
     "name": "stdout",
     "output_type": "stream",
     "text": [
      "Training_loss 2.97657,   Relative Error 0.59361\n",
      "Training_loss 2.96065,   Relative Error 0.59201\n"
     ]
    },
    {
     "name": "stderr",
     "output_type": "stream",
     "text": [
      "\r",
      " 12%|█▏        | 232/2000 [00:18<02:54, 10.11it/s]"
     ]
    },
    {
     "name": "stdout",
     "output_type": "stream",
     "text": [
      "Training_loss 2.94741,   Relative Error 0.59070\n",
      "Training_loss 2.93537,   Relative Error 0.58950\n",
      "Training_loss 2.92779,   Relative Error 0.58873\n"
     ]
    },
    {
     "name": "stderr",
     "output_type": "stream",
     "text": [
      "\r",
      " 12%|█▏        | 234/2000 [00:18<02:51, 10.29it/s]"
     ]
    },
    {
     "name": "stdout",
     "output_type": "stream",
     "text": [
      "Training_loss 2.91769,   Relative Error 0.58772\n",
      "Training_loss 2.90716,   Relative Error 0.58665\n",
      "Training_loss 2.89497,   Relative Error 0.58542\n"
     ]
    },
    {
     "name": "stderr",
     "output_type": "stream",
     "text": [
      " 12%|█▏        | 238/2000 [00:19<02:47, 10.50it/s]"
     ]
    },
    {
     "name": "stdout",
     "output_type": "stream",
     "text": [
      "Training_loss 2.88638,   Relative Error 0.58455\n",
      "Training_loss 2.87008,   Relative Error 0.58291\n",
      "Training_loss 2.85947,   Relative Error 0.58184\n"
     ]
    },
    {
     "name": "stderr",
     "output_type": "stream",
     "text": [
      " 12%|█▏        | 242/2000 [00:19<02:34, 11.37it/s]"
     ]
    },
    {
     "name": "stdout",
     "output_type": "stream",
     "text": [
      "Training_loss 2.84707,   Relative Error 0.58058\n",
      "Training_loss 2.83276,   Relative Error 0.57913\n",
      "Training_loss 2.82151,   Relative Error 0.57797\n"
     ]
    },
    {
     "name": "stderr",
     "output_type": "stream",
     "text": [
      "\r",
      " 12%|█▏        | 244/2000 [00:19<02:28, 11.85it/s]"
     ]
    },
    {
     "name": "stdout",
     "output_type": "stream",
     "text": [
      "Training_loss 2.80836,   Relative Error 0.57661\n",
      "Training_loss 2.79545,   Relative Error 0.57529\n",
      "Training_loss 2.78240,   Relative Error 0.57396\n"
     ]
    },
    {
     "name": "stderr",
     "output_type": "stream",
     "text": [
      " 12%|█▏        | 248/2000 [00:19<02:27, 11.87it/s]"
     ]
    },
    {
     "name": "stdout",
     "output_type": "stream",
     "text": [
      "Training_loss 2.76707,   Relative Error 0.57239\n",
      "Training_loss 2.75635,   Relative Error 0.57126\n",
      "Training_loss 2.74748,   Relative Error 0.57035\n"
     ]
    },
    {
     "name": "stderr",
     "output_type": "stream",
     "text": [
      "\r",
      " 12%|█▎        | 250/2000 [00:20<03:01,  9.63it/s]"
     ]
    },
    {
     "name": "stdout",
     "output_type": "stream",
     "text": [
      "Training_loss 2.73417,   Relative Error 0.56897\n",
      "Training_loss 2.72588,   Relative Error 0.56811\n"
     ]
    },
    {
     "name": "stderr",
     "output_type": "stream",
     "text": [
      "\r",
      " 13%|█▎        | 252/2000 [00:20<03:21,  8.68it/s]"
     ]
    },
    {
     "name": "stdout",
     "output_type": "stream",
     "text": [
      "Training_loss 2.71671,   Relative Error 0.56716\n",
      "Training_loss 2.70022,   Relative Error 0.56542\n"
     ]
    },
    {
     "name": "stderr",
     "output_type": "stream",
     "text": [
      "\r",
      " 13%|█▎        | 254/2000 [00:20<03:21,  8.65it/s]"
     ]
    },
    {
     "name": "stdout",
     "output_type": "stream",
     "text": [
      "Training_loss 2.69162,   Relative Error 0.56451\n",
      "Training_loss 2.68117,   Relative Error 0.56341\n"
     ]
    },
    {
     "name": "stderr",
     "output_type": "stream",
     "text": [
      " 13%|█▎        | 256/2000 [00:21<04:02,  7.19it/s]"
     ]
    },
    {
     "name": "stdout",
     "output_type": "stream",
     "text": [
      "Training_loss 2.67191,   Relative Error 0.56244\n",
      "Training_loss 2.65278,   Relative Error 0.56043\n"
     ]
    },
    {
     "name": "stderr",
     "output_type": "stream",
     "text": [
      "\r",
      " 13%|█▎        | 257/2000 [00:21<04:29,  6.46it/s]"
     ]
    },
    {
     "name": "stdout",
     "output_type": "stream",
     "text": [
      "Training_loss 2.64421,   Relative Error 0.55951\n"
     ]
    },
    {
     "name": "stderr",
     "output_type": "stream",
     "text": [
      " 13%|█▎        | 259/2000 [00:21<05:06,  5.68it/s]"
     ]
    },
    {
     "name": "stdout",
     "output_type": "stream",
     "text": [
      "Training_loss 2.63035,   Relative Error 0.55805\n",
      "Training_loss 2.61651,   Relative Error 0.55657\n"
     ]
    },
    {
     "name": "stderr",
     "output_type": "stream",
     "text": [
      " 13%|█▎        | 261/2000 [00:22<05:01,  5.76it/s]"
     ]
    },
    {
     "name": "stdout",
     "output_type": "stream",
     "text": [
      "Training_loss 2.60691,   Relative Error 0.55554\n",
      "Training_loss 2.59731,   Relative Error 0.55451\n"
     ]
    },
    {
     "name": "stderr",
     "output_type": "stream",
     "text": [
      "\r",
      " 13%|█▎        | 262/2000 [00:22<05:50,  4.95it/s]"
     ]
    },
    {
     "name": "stdout",
     "output_type": "stream",
     "text": [
      "Training_loss 2.58980,   Relative Error 0.55371\n"
     ]
    },
    {
     "name": "stderr",
     "output_type": "stream",
     "text": [
      "\r",
      " 13%|█▎        | 263/2000 [00:22<06:34,  4.40it/s]"
     ]
    },
    {
     "name": "stdout",
     "output_type": "stream",
     "text": [
      "Training_loss 2.57895,   Relative Error 0.55254\n"
     ]
    },
    {
     "name": "stderr",
     "output_type": "stream",
     "text": [
      "\r",
      " 13%|█▎        | 264/2000 [00:22<06:36,  4.38it/s]"
     ]
    },
    {
     "name": "stdout",
     "output_type": "stream",
     "text": [
      "Training_loss 2.56826,   Relative Error 0.55139\n"
     ]
    },
    {
     "name": "stderr",
     "output_type": "stream",
     "text": [
      "\r",
      " 13%|█▎        | 265/2000 [00:23<06:50,  4.22it/s]"
     ]
    },
    {
     "name": "stdout",
     "output_type": "stream",
     "text": [
      "Training_loss 2.55678,   Relative Error 0.55017\n"
     ]
    },
    {
     "name": "stderr",
     "output_type": "stream",
     "text": [
      "\r",
      " 13%|█▎        | 266/2000 [00:23<07:18,  3.96it/s]"
     ]
    },
    {
     "name": "stdout",
     "output_type": "stream",
     "text": [
      "Training_loss 2.55156,   Relative Error 0.54961\n"
     ]
    },
    {
     "name": "stderr",
     "output_type": "stream",
     "text": [
      "\r",
      " 13%|█▎        | 267/2000 [00:23<07:08,  4.04it/s]"
     ]
    },
    {
     "name": "stdout",
     "output_type": "stream",
     "text": [
      "Training_loss 2.54502,   Relative Error 0.54890\n"
     ]
    },
    {
     "name": "stderr",
     "output_type": "stream",
     "text": [
      "\r",
      " 13%|█▎        | 268/2000 [00:23<06:57,  4.15it/s]"
     ]
    },
    {
     "name": "stdout",
     "output_type": "stream",
     "text": [
      "Training_loss 2.53874,   Relative Error 0.54821\n"
     ]
    },
    {
     "name": "stderr",
     "output_type": "stream",
     "text": [
      "\r",
      " 13%|█▎        | 269/2000 [00:24<06:44,  4.28it/s]"
     ]
    },
    {
     "name": "stdout",
     "output_type": "stream",
     "text": [
      "Training_loss 2.53013,   Relative Error 0.54727\n"
     ]
    },
    {
     "name": "stderr",
     "output_type": "stream",
     "text": [
      "\r",
      " 14%|█▎        | 270/2000 [00:24<07:34,  3.81it/s]"
     ]
    },
    {
     "name": "stdout",
     "output_type": "stream",
     "text": [
      "Training_loss 2.52352,   Relative Error 0.54656\n"
     ]
    },
    {
     "name": "stderr",
     "output_type": "stream",
     "text": [
      "\r",
      " 14%|█▎        | 271/2000 [00:24<07:25,  3.88it/s]"
     ]
    },
    {
     "name": "stdout",
     "output_type": "stream",
     "text": [
      "Training_loss 2.50670,   Relative Error 0.54475\n"
     ]
    },
    {
     "name": "stderr",
     "output_type": "stream",
     "text": [
      "\r",
      " 14%|█▎        | 272/2000 [00:24<06:59,  4.12it/s]"
     ]
    },
    {
     "name": "stdout",
     "output_type": "stream",
     "text": [
      "Training_loss 2.49278,   Relative Error 0.54322\n"
     ]
    },
    {
     "name": "stderr",
     "output_type": "stream",
     "text": [
      " 14%|█▎        | 274/2000 [00:25<06:23,  4.50it/s]"
     ]
    },
    {
     "name": "stdout",
     "output_type": "stream",
     "text": [
      "Training_loss 2.48524,   Relative Error 0.54240\n",
      "Training_loss 2.47400,   Relative Error 0.54118\n"
     ]
    },
    {
     "name": "stderr",
     "output_type": "stream",
     "text": [
      " 14%|█▍        | 276/2000 [00:25<05:34,  5.15it/s]"
     ]
    },
    {
     "name": "stdout",
     "output_type": "stream",
     "text": [
      "Training_loss 2.46653,   Relative Error 0.54036\n",
      "Training_loss 2.45559,   Relative Error 0.53914\n"
     ]
    },
    {
     "name": "stderr",
     "output_type": "stream",
     "text": [
      "\r",
      " 14%|█▍        | 277/2000 [00:25<04:55,  5.84it/s]"
     ]
    },
    {
     "name": "stdout",
     "output_type": "stream",
     "text": [
      "Training_loss 2.44655,   Relative Error 0.53816\n",
      "Training_loss 2.43644,   Relative Error 0.53704\n"
     ]
    },
    {
     "name": "stderr",
     "output_type": "stream",
     "text": [
      "\r",
      " 14%|█▍        | 279/2000 [00:26<04:06,  6.97it/s]"
     ]
    },
    {
     "name": "stdout",
     "output_type": "stream",
     "text": [
      "Training_loss 2.42849,   Relative Error 0.53616\n",
      "Training_loss 2.41475,   Relative Error 0.53465\n"
     ]
    },
    {
     "name": "stderr",
     "output_type": "stream",
     "text": [
      " 14%|█▍        | 282/2000 [00:26<03:33,  8.06it/s]"
     ]
    },
    {
     "name": "stdout",
     "output_type": "stream",
     "text": [
      "Training_loss 2.40402,   Relative Error 0.53346\n",
      "Training_loss 2.39708,   Relative Error 0.53269\n"
     ]
    },
    {
     "name": "stderr",
     "output_type": "stream",
     "text": [
      " 14%|█▍        | 285/2000 [00:26<03:19,  8.59it/s]"
     ]
    },
    {
     "name": "stdout",
     "output_type": "stream",
     "text": [
      "Training_loss 2.38855,   Relative Error 0.53174\n",
      "Training_loss 2.37803,   Relative Error 0.53055\n",
      "Training_loss 2.36790,   Relative Error 0.52942\n"
     ]
    },
    {
     "name": "stderr",
     "output_type": "stream",
     "text": [
      " 14%|█▍        | 287/2000 [00:26<03:36,  7.93it/s]"
     ]
    },
    {
     "name": "stdout",
     "output_type": "stream",
     "text": [
      "Training_loss 2.36218,   Relative Error 0.52880\n",
      "Training_loss 2.35178,   Relative Error 0.52762\n"
     ]
    },
    {
     "name": "stderr",
     "output_type": "stream",
     "text": [
      " 14%|█▍        | 289/2000 [00:27<03:43,  7.66it/s]"
     ]
    },
    {
     "name": "stdout",
     "output_type": "stream",
     "text": [
      "Training_loss 2.33598,   Relative Error 0.52585\n",
      "Training_loss 2.32680,   Relative Error 0.52482\n"
     ]
    },
    {
     "name": "stderr",
     "output_type": "stream",
     "text": [
      " 15%|█▍        | 291/2000 [00:27<03:34,  7.97it/s]"
     ]
    },
    {
     "name": "stdout",
     "output_type": "stream",
     "text": [
      "Training_loss 2.31803,   Relative Error 0.52384\n",
      "Training_loss 2.30719,   Relative Error 0.52262\n"
     ]
    },
    {
     "name": "stderr",
     "output_type": "stream",
     "text": [
      " 15%|█▍        | 293/2000 [00:27<03:25,  8.31it/s]"
     ]
    },
    {
     "name": "stdout",
     "output_type": "stream",
     "text": [
      "Training_loss 2.30164,   Relative Error 0.52197\n",
      "Training_loss 2.29377,   Relative Error 0.52108\n",
      "Training_loss 2.28306,   Relative Error 0.51986\n"
     ]
    },
    {
     "name": "stderr",
     "output_type": "stream",
     "text": [
      " 15%|█▍        | 296/2000 [00:27<03:04,  9.22it/s]"
     ]
    },
    {
     "name": "stdout",
     "output_type": "stream",
     "text": [
      "Training_loss 2.26880,   Relative Error 0.51824\n",
      "Training_loss 2.26097,   Relative Error 0.51736\n"
     ]
    },
    {
     "name": "stderr",
     "output_type": "stream",
     "text": [
      " 15%|█▍        | 298/2000 [00:28<03:13,  8.81it/s]"
     ]
    },
    {
     "name": "stdout",
     "output_type": "stream",
     "text": [
      "Training_loss 2.25347,   Relative Error 0.51650\n",
      "Training_loss 2.24216,   Relative Error 0.51519\n"
     ]
    },
    {
     "name": "stderr",
     "output_type": "stream",
     "text": [
      " 15%|█▌        | 300/2000 [00:28<03:29,  8.11it/s]"
     ]
    },
    {
     "name": "stdout",
     "output_type": "stream",
     "text": [
      "Training_loss 2.23033,   Relative Error 0.51382\n",
      "Training_loss 2.22114,   Relative Error 0.51275\n"
     ]
    },
    {
     "name": "stderr",
     "output_type": "stream",
     "text": [
      " 15%|█▌        | 302/2000 [00:28<03:40,  7.71it/s]"
     ]
    },
    {
     "name": "stdout",
     "output_type": "stream",
     "text": [
      "Training_loss 2.20787,   Relative Error 0.51122\n",
      "Training_loss 2.19867,   Relative Error 0.51015\n"
     ]
    },
    {
     "name": "stderr",
     "output_type": "stream",
     "text": [
      "\r",
      " 15%|█▌        | 303/2000 [00:28<04:17,  6.60it/s]"
     ]
    },
    {
     "name": "stdout",
     "output_type": "stream",
     "text": [
      "Training_loss 2.18672,   Relative Error 0.50875\n"
     ]
    },
    {
     "name": "stderr",
     "output_type": "stream",
     "text": [
      "\r",
      " 15%|█▌        | 304/2000 [00:29<05:21,  5.28it/s]"
     ]
    },
    {
     "name": "stdout",
     "output_type": "stream",
     "text": [
      "Training_loss 2.17850,   Relative Error 0.50780\n"
     ]
    },
    {
     "name": "stderr",
     "output_type": "stream",
     "text": [
      "\r",
      " 15%|█▌        | 305/2000 [00:29<06:52,  4.11it/s]"
     ]
    },
    {
     "name": "stdout",
     "output_type": "stream",
     "text": [
      "Training_loss 2.17155,   Relative Error 0.50699\n"
     ]
    },
    {
     "name": "stderr",
     "output_type": "stream",
     "text": [
      "\r",
      " 15%|█▌        | 306/2000 [00:29<07:33,  3.74it/s]"
     ]
    },
    {
     "name": "stdout",
     "output_type": "stream",
     "text": [
      "Training_loss 2.16590,   Relative Error 0.50633\n"
     ]
    },
    {
     "name": "stderr",
     "output_type": "stream",
     "text": [
      "\r",
      " 15%|█▌        | 307/2000 [00:30<07:21,  3.84it/s]"
     ]
    },
    {
     "name": "stdout",
     "output_type": "stream",
     "text": [
      "Training_loss 2.15721,   Relative Error 0.50531\n"
     ]
    },
    {
     "name": "stderr",
     "output_type": "stream",
     "text": [
      "\r",
      " 15%|█▌        | 308/2000 [00:30<06:59,  4.04it/s]"
     ]
    },
    {
     "name": "stdout",
     "output_type": "stream",
     "text": [
      "Training_loss 2.14808,   Relative Error 0.50424\n"
     ]
    },
    {
     "name": "stderr",
     "output_type": "stream",
     "text": [
      "\r",
      " 15%|█▌        | 309/2000 [00:30<07:01,  4.01it/s]"
     ]
    },
    {
     "name": "stdout",
     "output_type": "stream",
     "text": [
      "Training_loss 2.13777,   Relative Error 0.50302\n"
     ]
    },
    {
     "name": "stderr",
     "output_type": "stream",
     "text": [
      "\r",
      " 16%|█▌        | 310/2000 [00:30<06:37,  4.25it/s]"
     ]
    },
    {
     "name": "stdout",
     "output_type": "stream",
     "text": [
      "Training_loss 2.13241,   Relative Error 0.50238\n"
     ]
    },
    {
     "name": "stderr",
     "output_type": "stream",
     "text": [
      "\r",
      " 16%|█▌        | 311/2000 [00:31<06:49,  4.13it/s]"
     ]
    },
    {
     "name": "stdout",
     "output_type": "stream",
     "text": [
      "Training_loss 2.12165,   Relative Error 0.50113\n"
     ]
    },
    {
     "name": "stderr",
     "output_type": "stream",
     "text": [
      "\r",
      " 16%|█▌        | 312/2000 [00:31<09:12,  3.05it/s]"
     ]
    },
    {
     "name": "stdout",
     "output_type": "stream",
     "text": [
      "Training_loss 2.11482,   Relative Error 0.50032\n"
     ]
    },
    {
     "name": "stderr",
     "output_type": "stream",
     "text": [
      "\r",
      " 16%|█▌        | 313/2000 [00:32<09:49,  2.86it/s]"
     ]
    },
    {
     "name": "stdout",
     "output_type": "stream",
     "text": [
      "Training_loss 2.10671,   Relative Error 0.49935\n"
     ]
    },
    {
     "name": "stderr",
     "output_type": "stream",
     "text": [
      "\r",
      " 16%|█▌        | 314/2000 [00:32<09:38,  2.92it/s]"
     ]
    },
    {
     "name": "stdout",
     "output_type": "stream",
     "text": [
      "Training_loss 2.09809,   Relative Error 0.49832\n"
     ]
    },
    {
     "name": "stderr",
     "output_type": "stream",
     "text": [
      " 16%|█▌        | 316/2000 [00:32<07:40,  3.66it/s]"
     ]
    },
    {
     "name": "stdout",
     "output_type": "stream",
     "text": [
      "Training_loss 2.08859,   Relative Error 0.49718\n",
      "Training_loss 2.08141,   Relative Error 0.49634\n"
     ]
    },
    {
     "name": "stderr",
     "output_type": "stream",
     "text": [
      "\r",
      " 16%|█▌        | 317/2000 [00:33<07:16,  3.85it/s]"
     ]
    },
    {
     "name": "stdout",
     "output_type": "stream",
     "text": [
      "Training_loss 2.07471,   Relative Error 0.49553\n"
     ]
    },
    {
     "name": "stderr",
     "output_type": "stream",
     "text": [
      " 16%|█▌        | 319/2000 [00:33<06:58,  4.02it/s]"
     ]
    },
    {
     "name": "stdout",
     "output_type": "stream",
     "text": [
      "Training_loss 2.06804,   Relative Error 0.49474\n",
      "Training_loss 2.06114,   Relative Error 0.49389\n"
     ]
    },
    {
     "name": "stderr",
     "output_type": "stream",
     "text": [
      " 16%|█▌        | 321/2000 [00:34<06:57,  4.02it/s]"
     ]
    },
    {
     "name": "stdout",
     "output_type": "stream",
     "text": [
      "Training_loss 2.05382,   Relative Error 0.49302\n",
      "Training_loss 2.04522,   Relative Error 0.49198\n"
     ]
    },
    {
     "name": "stderr",
     "output_type": "stream",
     "text": [
      " 16%|█▌        | 323/2000 [00:34<05:56,  4.70it/s]"
     ]
    },
    {
     "name": "stdout",
     "output_type": "stream",
     "text": [
      "Training_loss 2.03971,   Relative Error 0.49132\n",
      "Training_loss 2.03139,   Relative Error 0.49032\n"
     ]
    },
    {
     "name": "stderr",
     "output_type": "stream",
     "text": [
      " 16%|█▋        | 325/2000 [00:34<05:25,  5.15it/s]"
     ]
    },
    {
     "name": "stdout",
     "output_type": "stream",
     "text": [
      "Training_loss 2.02360,   Relative Error 0.48938\n",
      "Training_loss 2.01390,   Relative Error 0.48819\n"
     ]
    },
    {
     "name": "stderr",
     "output_type": "stream",
     "text": [
      " 16%|█▋        | 327/2000 [00:35<05:09,  5.41it/s]"
     ]
    },
    {
     "name": "stdout",
     "output_type": "stream",
     "text": [
      "Training_loss 2.00279,   Relative Error 0.48686\n",
      "Training_loss 1.99333,   Relative Error 0.48571\n"
     ]
    },
    {
     "name": "stderr",
     "output_type": "stream",
     "text": [
      " 16%|█▋        | 329/2000 [00:35<04:58,  5.60it/s]"
     ]
    },
    {
     "name": "stdout",
     "output_type": "stream",
     "text": [
      "Training_loss 1.98789,   Relative Error 0.48505\n",
      "Training_loss 1.98013,   Relative Error 0.48410\n"
     ]
    },
    {
     "name": "stderr",
     "output_type": "stream",
     "text": [
      "\r",
      " 16%|█▋        | 330/2000 [00:35<07:06,  3.91it/s]"
     ]
    },
    {
     "name": "stdout",
     "output_type": "stream",
     "text": [
      "Training_loss 1.97166,   Relative Error 0.48306\n"
     ]
    },
    {
     "name": "stderr",
     "output_type": "stream",
     "text": [
      "\r",
      " 17%|█▋        | 331/2000 [00:36<08:50,  3.15it/s]"
     ]
    },
    {
     "name": "stdout",
     "output_type": "stream",
     "text": [
      "Training_loss 1.96252,   Relative Error 0.48193\n"
     ]
    },
    {
     "name": "stderr",
     "output_type": "stream",
     "text": [
      " 17%|█▋        | 333/2000 [00:36<07:29,  3.71it/s]"
     ]
    },
    {
     "name": "stdout",
     "output_type": "stream",
     "text": [
      "Training_loss 1.95513,   Relative Error 0.48103\n",
      "Training_loss 1.94807,   Relative Error 0.48017\n"
     ]
    },
    {
     "name": "stderr",
     "output_type": "stream",
     "text": [
      "\r",
      " 17%|█▋        | 334/2000 [00:37<07:34,  3.67it/s]"
     ]
    },
    {
     "name": "stdout",
     "output_type": "stream",
     "text": [
      "Training_loss 1.94155,   Relative Error 0.47935\n"
     ]
    },
    {
     "name": "stderr",
     "output_type": "stream",
     "text": [
      "\r",
      " 17%|█▋        | 335/2000 [00:37<09:46,  2.84it/s]"
     ]
    },
    {
     "name": "stdout",
     "output_type": "stream",
     "text": [
      "Training_loss 1.93202,   Relative Error 0.47816\n"
     ]
    },
    {
     "name": "stderr",
     "output_type": "stream",
     "text": [
      " 17%|█▋        | 337/2000 [00:38<08:04,  3.43it/s]"
     ]
    },
    {
     "name": "stdout",
     "output_type": "stream",
     "text": [
      "Training_loss 1.91937,   Relative Error 0.47658\n",
      "Training_loss 1.91160,   Relative Error 0.47561\n"
     ]
    },
    {
     "name": "stderr",
     "output_type": "stream",
     "text": [
      " 17%|█▋        | 339/2000 [00:38<06:33,  4.22it/s]"
     ]
    },
    {
     "name": "stdout",
     "output_type": "stream",
     "text": [
      "Training_loss 1.90372,   Relative Error 0.47462\n",
      "Training_loss 1.89549,   Relative Error 0.47360\n"
     ]
    },
    {
     "name": "stderr",
     "output_type": "stream",
     "text": [
      "\r",
      " 17%|█▋        | 340/2000 [00:38<06:51,  4.03it/s]"
     ]
    },
    {
     "name": "stdout",
     "output_type": "stream",
     "text": [
      "Training_loss 1.88455,   Relative Error 0.47222\n"
     ]
    },
    {
     "name": "stderr",
     "output_type": "stream",
     "text": [
      "\r",
      " 17%|█▋        | 341/2000 [00:39<07:25,  3.73it/s]"
     ]
    },
    {
     "name": "stdout",
     "output_type": "stream",
     "text": [
      "Training_loss 1.87443,   Relative Error 0.47095\n"
     ]
    },
    {
     "name": "stderr",
     "output_type": "stream",
     "text": [
      "\r",
      " 17%|█▋        | 342/2000 [00:39<07:06,  3.88it/s]"
     ]
    },
    {
     "name": "stdout",
     "output_type": "stream",
     "text": [
      "Training_loss 1.86867,   Relative Error 0.47023\n"
     ]
    },
    {
     "name": "stderr",
     "output_type": "stream",
     "text": [
      " 17%|█▋        | 344/2000 [00:39<06:03,  4.56it/s]"
     ]
    },
    {
     "name": "stdout",
     "output_type": "stream",
     "text": [
      "Training_loss 1.85983,   Relative Error 0.46913\n",
      "Training_loss 1.85228,   Relative Error 0.46816\n"
     ]
    },
    {
     "name": "stderr",
     "output_type": "stream",
     "text": [
      " 17%|█▋        | 346/2000 [00:39<05:18,  5.19it/s]"
     ]
    },
    {
     "name": "stdout",
     "output_type": "stream",
     "text": [
      "Training_loss 1.84467,   Relative Error 0.46720\n",
      "Training_loss 1.83563,   Relative Error 0.46604\n"
     ]
    },
    {
     "name": "stderr",
     "output_type": "stream",
     "text": [
      " 17%|█▋        | 348/2000 [00:40<05:12,  5.29it/s]"
     ]
    },
    {
     "name": "stdout",
     "output_type": "stream",
     "text": [
      "Training_loss 1.82691,   Relative Error 0.46494\n",
      "Training_loss 1.81812,   Relative Error 0.46383\n"
     ]
    },
    {
     "name": "stderr",
     "output_type": "stream",
     "text": [
      " 18%|█▊        | 350/2000 [00:40<05:32,  4.96it/s]"
     ]
    },
    {
     "name": "stdout",
     "output_type": "stream",
     "text": [
      "Training_loss 1.81309,   Relative Error 0.46319\n",
      "Training_loss 1.80419,   Relative Error 0.46205\n"
     ]
    },
    {
     "name": "stderr",
     "output_type": "stream",
     "text": [
      "\r",
      " 18%|█▊        | 351/2000 [00:41<05:49,  4.72it/s]"
     ]
    },
    {
     "name": "stdout",
     "output_type": "stream",
     "text": [
      "Training_loss 1.79396,   Relative Error 0.46074\n"
     ]
    },
    {
     "name": "stderr",
     "output_type": "stream",
     "text": [
      " 18%|█▊        | 353/2000 [00:41<05:37,  4.89it/s]"
     ]
    },
    {
     "name": "stdout",
     "output_type": "stream",
     "text": [
      "Training_loss 1.78540,   Relative Error 0.45963\n",
      "Training_loss 1.78228,   Relative Error 0.45923\n"
     ]
    },
    {
     "name": "stderr",
     "output_type": "stream",
     "text": [
      "\r",
      " 18%|█▊        | 354/2000 [00:41<05:45,  4.76it/s]"
     ]
    },
    {
     "name": "stdout",
     "output_type": "stream",
     "text": [
      "Training_loss 1.77885,   Relative Error 0.45879\n"
     ]
    },
    {
     "name": "stderr",
     "output_type": "stream",
     "text": [
      " 18%|█▊        | 356/2000 [00:42<05:47,  4.73it/s]"
     ]
    },
    {
     "name": "stdout",
     "output_type": "stream",
     "text": [
      "Training_loss 1.77328,   Relative Error 0.45807\n",
      "Training_loss 1.76470,   Relative Error 0.45696\n"
     ]
    },
    {
     "name": "stderr",
     "output_type": "stream",
     "text": [
      " 18%|█▊        | 358/2000 [00:42<05:12,  5.25it/s]"
     ]
    },
    {
     "name": "stdout",
     "output_type": "stream",
     "text": [
      "Training_loss 1.75781,   Relative Error 0.45606\n",
      "Training_loss 1.74995,   Relative Error 0.45505\n"
     ]
    },
    {
     "name": "stderr",
     "output_type": "stream",
     "text": [
      " 18%|█▊        | 360/2000 [00:42<04:26,  6.15it/s]"
     ]
    },
    {
     "name": "stdout",
     "output_type": "stream",
     "text": [
      "Training_loss 1.74294,   Relative Error 0.45414\n",
      "Training_loss 1.73525,   Relative Error 0.45314\n"
     ]
    },
    {
     "name": "stderr",
     "output_type": "stream",
     "text": [
      " 18%|█▊        | 362/2000 [00:42<04:05,  6.68it/s]"
     ]
    },
    {
     "name": "stdout",
     "output_type": "stream",
     "text": [
      "Training_loss 1.72940,   Relative Error 0.45237\n",
      "Training_loss 1.72130,   Relative Error 0.45132\n"
     ]
    },
    {
     "name": "stderr",
     "output_type": "stream",
     "text": [
      " 18%|█▊        | 364/2000 [00:43<03:55,  6.94it/s]"
     ]
    },
    {
     "name": "stdout",
     "output_type": "stream",
     "text": [
      "Training_loss 1.71303,   Relative Error 0.45022\n",
      "Training_loss 1.70899,   Relative Error 0.44969\n"
     ]
    },
    {
     "name": "stderr",
     "output_type": "stream",
     "text": [
      " 18%|█▊        | 366/2000 [00:43<03:54,  6.97it/s]"
     ]
    },
    {
     "name": "stdout",
     "output_type": "stream",
     "text": [
      "Training_loss 1.70529,   Relative Error 0.44920\n",
      "Training_loss 1.69610,   Relative Error 0.44800\n"
     ]
    },
    {
     "name": "stderr",
     "output_type": "stream",
     "text": [
      " 18%|█▊        | 368/2000 [00:43<04:03,  6.69it/s]"
     ]
    },
    {
     "name": "stdout",
     "output_type": "stream",
     "text": [
      "Training_loss 1.69135,   Relative Error 0.44737\n",
      "Training_loss 1.68296,   Relative Error 0.44625\n"
     ]
    },
    {
     "name": "stderr",
     "output_type": "stream",
     "text": [
      " 18%|█▊        | 370/2000 [00:44<04:05,  6.64it/s]"
     ]
    },
    {
     "name": "stdout",
     "output_type": "stream",
     "text": [
      "Training_loss 1.67452,   Relative Error 0.44513\n",
      "Training_loss 1.66634,   Relative Error 0.44403\n"
     ]
    },
    {
     "name": "stderr",
     "output_type": "stream",
     "text": [
      " 19%|█▊        | 372/2000 [00:44<03:44,  7.25it/s]"
     ]
    },
    {
     "name": "stdout",
     "output_type": "stream",
     "text": [
      "Training_loss 1.65997,   Relative Error 0.44319\n",
      "Training_loss 1.65158,   Relative Error 0.44207\n"
     ]
    },
    {
     "name": "stderr",
     "output_type": "stream",
     "text": [
      " 19%|█▊        | 374/2000 [00:44<03:50,  7.07it/s]"
     ]
    },
    {
     "name": "stdout",
     "output_type": "stream",
     "text": [
      "Training_loss 1.64414,   Relative Error 0.44106\n",
      "Training_loss 1.63637,   Relative Error 0.44002\n"
     ]
    },
    {
     "name": "stderr",
     "output_type": "stream",
     "text": [
      " 19%|█▉        | 376/2000 [00:44<03:46,  7.18it/s]"
     ]
    },
    {
     "name": "stdout",
     "output_type": "stream",
     "text": [
      "Training_loss 1.62840,   Relative Error 0.43894\n",
      "Training_loss 1.62261,   Relative Error 0.43816\n"
     ]
    },
    {
     "name": "stderr",
     "output_type": "stream",
     "text": [
      " 19%|█▉        | 378/2000 [00:45<03:39,  7.38it/s]"
     ]
    },
    {
     "name": "stdout",
     "output_type": "stream",
     "text": [
      "Training_loss 1.61263,   Relative Error 0.43683\n",
      "Training_loss 1.60266,   Relative Error 0.43546\n"
     ]
    },
    {
     "name": "stderr",
     "output_type": "stream",
     "text": [
      " 19%|█▉        | 380/2000 [00:45<03:38,  7.43it/s]"
     ]
    },
    {
     "name": "stdout",
     "output_type": "stream",
     "text": [
      "Training_loss 1.59548,   Relative Error 0.43448\n",
      "Training_loss 1.58999,   Relative Error 0.43373\n"
     ]
    },
    {
     "name": "stderr",
     "output_type": "stream",
     "text": [
      " 19%|█▉        | 382/2000 [00:45<03:37,  7.43it/s]"
     ]
    },
    {
     "name": "stdout",
     "output_type": "stream",
     "text": [
      "Training_loss 1.58049,   Relative Error 0.43241\n",
      "Training_loss 1.57473,   Relative Error 0.43164\n"
     ]
    },
    {
     "name": "stderr",
     "output_type": "stream",
     "text": [
      " 19%|█▉        | 384/2000 [00:46<03:40,  7.33it/s]"
     ]
    },
    {
     "name": "stdout",
     "output_type": "stream",
     "text": [
      "Training_loss 1.56832,   Relative Error 0.43076\n",
      "Training_loss 1.56319,   Relative Error 0.43006\n"
     ]
    },
    {
     "name": "stderr",
     "output_type": "stream",
     "text": [
      " 19%|█▉        | 386/2000 [00:46<03:50,  7.01it/s]"
     ]
    },
    {
     "name": "stdout",
     "output_type": "stream",
     "text": [
      "Training_loss 1.55837,   Relative Error 0.42939\n",
      "Training_loss 1.55407,   Relative Error 0.42878\n"
     ]
    },
    {
     "name": "stderr",
     "output_type": "stream",
     "text": [
      " 19%|█▉        | 388/2000 [00:46<04:01,  6.67it/s]"
     ]
    },
    {
     "name": "stdout",
     "output_type": "stream",
     "text": [
      "Training_loss 1.54888,   Relative Error 0.42807\n",
      "Training_loss 1.54326,   Relative Error 0.42729\n"
     ]
    },
    {
     "name": "stderr",
     "output_type": "stream",
     "text": [
      " 20%|█▉        | 390/2000 [00:46<03:50,  6.97it/s]"
     ]
    },
    {
     "name": "stdout",
     "output_type": "stream",
     "text": [
      "Training_loss 1.53874,   Relative Error 0.42667\n",
      "Training_loss 1.53195,   Relative Error 0.42573\n"
     ]
    },
    {
     "name": "stderr",
     "output_type": "stream",
     "text": [
      " 20%|█▉        | 392/2000 [00:47<03:38,  7.37it/s]"
     ]
    },
    {
     "name": "stdout",
     "output_type": "stream",
     "text": [
      "Training_loss 1.52622,   Relative Error 0.42493\n",
      "Training_loss 1.52051,   Relative Error 0.42414\n"
     ]
    },
    {
     "name": "stderr",
     "output_type": "stream",
     "text": [
      " 20%|█▉        | 394/2000 [00:47<03:29,  7.66it/s]"
     ]
    },
    {
     "name": "stdout",
     "output_type": "stream",
     "text": [
      "Training_loss 1.51229,   Relative Error 0.42298\n",
      "Training_loss 1.50615,   Relative Error 0.42213\n"
     ]
    },
    {
     "name": "stderr",
     "output_type": "stream",
     "text": [
      " 20%|█▉        | 396/2000 [00:47<03:28,  7.70it/s]"
     ]
    },
    {
     "name": "stdout",
     "output_type": "stream",
     "text": [
      "Training_loss 1.50196,   Relative Error 0.42154\n",
      "Training_loss 1.49741,   Relative Error 0.42090\n"
     ]
    },
    {
     "name": "stderr",
     "output_type": "stream",
     "text": [
      " 20%|█▉        | 398/2000 [00:47<03:32,  7.55it/s]"
     ]
    },
    {
     "name": "stdout",
     "output_type": "stream",
     "text": [
      "Training_loss 1.49142,   Relative Error 0.42005\n",
      "Training_loss 1.48732,   Relative Error 0.41947\n"
     ]
    },
    {
     "name": "stderr",
     "output_type": "stream",
     "text": [
      " 20%|██        | 400/2000 [00:48<03:32,  7.54it/s]"
     ]
    },
    {
     "name": "stdout",
     "output_type": "stream",
     "text": [
      "Training_loss 1.48129,   Relative Error 0.41862\n",
      "Training_loss 1.47261,   Relative Error 0.41740\n"
     ]
    },
    {
     "name": "stderr",
     "output_type": "stream",
     "text": [
      " 20%|██        | 402/2000 [00:48<03:32,  7.52it/s]"
     ]
    },
    {
     "name": "stdout",
     "output_type": "stream",
     "text": [
      "Training_loss 1.46861,   Relative Error 0.41684\n",
      "Training_loss 1.46398,   Relative Error 0.41617\n"
     ]
    },
    {
     "name": "stderr",
     "output_type": "stream",
     "text": [
      " 20%|██        | 404/2000 [00:48<03:54,  6.80it/s]"
     ]
    },
    {
     "name": "stdout",
     "output_type": "stream",
     "text": [
      "Training_loss 1.45528,   Relative Error 0.41493\n",
      "Training_loss 1.44765,   Relative Error 0.41384\n"
     ]
    },
    {
     "name": "stderr",
     "output_type": "stream",
     "text": [
      " 20%|██        | 406/2000 [00:49<04:02,  6.58it/s]"
     ]
    },
    {
     "name": "stdout",
     "output_type": "stream",
     "text": [
      "Training_loss 1.44003,   Relative Error 0.41276\n",
      "Training_loss 1.43379,   Relative Error 0.41186\n"
     ]
    },
    {
     "name": "stderr",
     "output_type": "stream",
     "text": [
      " 20%|██        | 408/2000 [00:49<04:26,  5.96it/s]"
     ]
    },
    {
     "name": "stdout",
     "output_type": "stream",
     "text": [
      "Training_loss 1.42925,   Relative Error 0.41121\n",
      "Training_loss 1.42608,   Relative Error 0.41076\n"
     ]
    },
    {
     "name": "stderr",
     "output_type": "stream",
     "text": [
      " 20%|██        | 410/2000 [00:49<04:10,  6.35it/s]"
     ]
    },
    {
     "name": "stdout",
     "output_type": "stream",
     "text": [
      "Training_loss 1.42217,   Relative Error 0.41020\n",
      "Training_loss 1.41415,   Relative Error 0.40904\n"
     ]
    },
    {
     "name": "stderr",
     "output_type": "stream",
     "text": [
      " 21%|██        | 412/2000 [00:50<03:55,  6.74it/s]"
     ]
    },
    {
     "name": "stdout",
     "output_type": "stream",
     "text": [
      "Training_loss 1.40933,   Relative Error 0.40834\n",
      "Training_loss 1.40203,   Relative Error 0.40728\n"
     ]
    },
    {
     "name": "stderr",
     "output_type": "stream",
     "text": [
      " 21%|██        | 414/2000 [00:50<03:45,  7.03it/s]"
     ]
    },
    {
     "name": "stdout",
     "output_type": "stream",
     "text": [
      "Training_loss 1.39614,   Relative Error 0.40642\n",
      "Training_loss 1.39053,   Relative Error 0.40561\n"
     ]
    },
    {
     "name": "stderr",
     "output_type": "stream",
     "text": [
      " 21%|██        | 416/2000 [00:50<03:38,  7.24it/s]"
     ]
    },
    {
     "name": "stdout",
     "output_type": "stream",
     "text": [
      "Training_loss 1.38487,   Relative Error 0.40479\n",
      "Training_loss 1.37967,   Relative Error 0.40402\n"
     ]
    },
    {
     "name": "stderr",
     "output_type": "stream",
     "text": [
      " 21%|██        | 418/2000 [00:50<03:34,  7.36it/s]"
     ]
    },
    {
     "name": "stdout",
     "output_type": "stream",
     "text": [
      "Training_loss 1.37455,   Relative Error 0.40327\n",
      "Training_loss 1.36643,   Relative Error 0.40206\n"
     ]
    },
    {
     "name": "stderr",
     "output_type": "stream",
     "text": [
      " 21%|██        | 420/2000 [00:51<03:26,  7.65it/s]"
     ]
    },
    {
     "name": "stdout",
     "output_type": "stream",
     "text": [
      "Training_loss 1.36119,   Relative Error 0.40130\n",
      "Training_loss 1.35803,   Relative Error 0.40083\n"
     ]
    },
    {
     "name": "stderr",
     "output_type": "stream",
     "text": [
      " 21%|██        | 422/2000 [00:51<03:33,  7.41it/s]"
     ]
    },
    {
     "name": "stdout",
     "output_type": "stream",
     "text": [
      "Training_loss 1.35380,   Relative Error 0.40021\n",
      "Training_loss 1.34568,   Relative Error 0.39900\n"
     ]
    },
    {
     "name": "stderr",
     "output_type": "stream",
     "text": [
      " 21%|██        | 424/2000 [00:51<03:35,  7.33it/s]"
     ]
    },
    {
     "name": "stdout",
     "output_type": "stream",
     "text": [
      "Training_loss 1.33417,   Relative Error 0.39729\n",
      "Training_loss 1.32991,   Relative Error 0.39665\n"
     ]
    },
    {
     "name": "stderr",
     "output_type": "stream",
     "text": [
      " 21%|██▏       | 426/2000 [00:51<03:42,  7.07it/s]"
     ]
    },
    {
     "name": "stdout",
     "output_type": "stream",
     "text": [
      "Training_loss 1.32466,   Relative Error 0.39586\n",
      "Training_loss 1.31922,   Relative Error 0.39504\n"
     ]
    },
    {
     "name": "stderr",
     "output_type": "stream",
     "text": [
      " 21%|██▏       | 428/2000 [00:52<03:33,  7.38it/s]"
     ]
    },
    {
     "name": "stdout",
     "output_type": "stream",
     "text": [
      "Training_loss 1.31380,   Relative Error 0.39424\n",
      "Training_loss 1.30538,   Relative Error 0.39297\n"
     ]
    },
    {
     "name": "stderr",
     "output_type": "stream",
     "text": [
      " 22%|██▏       | 430/2000 [00:52<03:45,  6.96it/s]"
     ]
    },
    {
     "name": "stdout",
     "output_type": "stream",
     "text": [
      "Training_loss 1.30167,   Relative Error 0.39241\n",
      "Training_loss 1.29681,   Relative Error 0.39167\n"
     ]
    },
    {
     "name": "stderr",
     "output_type": "stream",
     "text": [
      " 22%|██▏       | 432/2000 [00:52<03:42,  7.03it/s]"
     ]
    },
    {
     "name": "stdout",
     "output_type": "stream",
     "text": [
      "Training_loss 1.28936,   Relative Error 0.39056\n",
      "Training_loss 1.28521,   Relative Error 0.38994\n"
     ]
    },
    {
     "name": "stderr",
     "output_type": "stream",
     "text": [
      " 22%|██▏       | 434/2000 [00:53<03:38,  7.17it/s]"
     ]
    },
    {
     "name": "stdout",
     "output_type": "stream",
     "text": [
      "Training_loss 1.28153,   Relative Error 0.38938\n",
      "Training_loss 1.27764,   Relative Error 0.38879\n"
     ]
    },
    {
     "name": "stderr",
     "output_type": "stream",
     "text": [
      " 22%|██▏       | 436/2000 [00:53<03:43,  6.99it/s]"
     ]
    },
    {
     "name": "stdout",
     "output_type": "stream",
     "text": [
      "Training_loss 1.27228,   Relative Error 0.38797\n",
      "Training_loss 1.26518,   Relative Error 0.38688\n"
     ]
    },
    {
     "name": "stderr",
     "output_type": "stream",
     "text": [
      " 22%|██▏       | 438/2000 [00:53<03:48,  6.83it/s]"
     ]
    },
    {
     "name": "stdout",
     "output_type": "stream",
     "text": [
      "Training_loss 1.26033,   Relative Error 0.38614\n",
      "Training_loss 1.25501,   Relative Error 0.38532\n"
     ]
    },
    {
     "name": "stderr",
     "output_type": "stream",
     "text": [
      " 22%|██▏       | 440/2000 [00:53<03:41,  7.04it/s]"
     ]
    },
    {
     "name": "stdout",
     "output_type": "stream",
     "text": [
      "Training_loss 1.24967,   Relative Error 0.38451\n",
      "Training_loss 1.24309,   Relative Error 0.38350\n"
     ]
    },
    {
     "name": "stderr",
     "output_type": "stream",
     "text": [
      " 22%|██▏       | 442/2000 [00:54<03:40,  7.07it/s]"
     ]
    },
    {
     "name": "stdout",
     "output_type": "stream",
     "text": [
      "Training_loss 1.23789,   Relative Error 0.38270\n",
      "Training_loss 1.22934,   Relative Error 0.38138\n"
     ]
    },
    {
     "name": "stderr",
     "output_type": "stream",
     "text": [
      " 22%|██▏       | 444/2000 [00:54<03:33,  7.28it/s]"
     ]
    },
    {
     "name": "stdout",
     "output_type": "stream",
     "text": [
      "Training_loss 1.22522,   Relative Error 0.38074\n",
      "Training_loss 1.22195,   Relative Error 0.38023\n"
     ]
    },
    {
     "name": "stderr",
     "output_type": "stream",
     "text": [
      " 22%|██▏       | 446/2000 [00:54<03:53,  6.65it/s]"
     ]
    },
    {
     "name": "stdout",
     "output_type": "stream",
     "text": [
      "Training_loss 1.21544,   Relative Error 0.37923\n",
      "Training_loss 1.21043,   Relative Error 0.37845\n"
     ]
    },
    {
     "name": "stderr",
     "output_type": "stream",
     "text": [
      " 22%|██▏       | 448/2000 [00:55<03:59,  6.48it/s]"
     ]
    },
    {
     "name": "stdout",
     "output_type": "stream",
     "text": [
      "Training_loss 1.20248,   Relative Error 0.37720\n",
      "Training_loss 1.19853,   Relative Error 0.37658\n"
     ]
    },
    {
     "name": "stderr",
     "output_type": "stream",
     "text": [
      " 22%|██▎       | 450/2000 [00:55<03:59,  6.48it/s]"
     ]
    },
    {
     "name": "stdout",
     "output_type": "stream",
     "text": [
      "Training_loss 1.19375,   Relative Error 0.37583\n",
      "Training_loss 1.19017,   Relative Error 0.37526\n"
     ]
    },
    {
     "name": "stderr",
     "output_type": "stream",
     "text": [
      " 23%|██▎       | 452/2000 [00:55<03:59,  6.47it/s]"
     ]
    },
    {
     "name": "stdout",
     "output_type": "stream",
     "text": [
      "Training_loss 1.18445,   Relative Error 0.37436\n",
      "Training_loss 1.18175,   Relative Error 0.37393\n"
     ]
    },
    {
     "name": "stderr",
     "output_type": "stream",
     "text": [
      " 23%|██▎       | 454/2000 [00:56<04:08,  6.21it/s]"
     ]
    },
    {
     "name": "stdout",
     "output_type": "stream",
     "text": [
      "Training_loss 1.17896,   Relative Error 0.37348\n",
      "Training_loss 1.17566,   Relative Error 0.37295\n"
     ]
    },
    {
     "name": "stderr",
     "output_type": "stream",
     "text": [
      " 23%|██▎       | 456/2000 [00:56<04:01,  6.40it/s]"
     ]
    },
    {
     "name": "stdout",
     "output_type": "stream",
     "text": [
      "Training_loss 1.17102,   Relative Error 0.37221\n",
      "Training_loss 1.16810,   Relative Error 0.37174\n"
     ]
    },
    {
     "name": "stderr",
     "output_type": "stream",
     "text": [
      " 23%|██▎       | 458/2000 [00:56<03:53,  6.62it/s]"
     ]
    },
    {
     "name": "stdout",
     "output_type": "stream",
     "text": [
      "Training_loss 1.16539,   Relative Error 0.37131\n",
      "Training_loss 1.15919,   Relative Error 0.37032\n"
     ]
    },
    {
     "name": "stderr",
     "output_type": "stream",
     "text": [
      " 23%|██▎       | 460/2000 [00:56<03:55,  6.54it/s]"
     ]
    },
    {
     "name": "stdout",
     "output_type": "stream",
     "text": [
      "Training_loss 1.15543,   Relative Error 0.36972\n",
      "Training_loss 1.15216,   Relative Error 0.36919\n"
     ]
    },
    {
     "name": "stderr",
     "output_type": "stream",
     "text": [
      " 23%|██▎       | 462/2000 [00:57<03:27,  7.42it/s]"
     ]
    },
    {
     "name": "stdout",
     "output_type": "stream",
     "text": [
      "Training_loss 1.14665,   Relative Error 0.36831\n",
      "Training_loss 1.13980,   Relative Error 0.36721\n"
     ]
    },
    {
     "name": "stderr",
     "output_type": "stream",
     "text": [
      " 23%|██▎       | 464/2000 [00:57<03:27,  7.40it/s]"
     ]
    },
    {
     "name": "stdout",
     "output_type": "stream",
     "text": [
      "Training_loss 1.13595,   Relative Error 0.36658\n",
      "Training_loss 1.12777,   Relative Error 0.36527\n"
     ]
    },
    {
     "name": "stderr",
     "output_type": "stream",
     "text": [
      " 23%|██▎       | 466/2000 [00:57<03:27,  7.38it/s]"
     ]
    },
    {
     "name": "stdout",
     "output_type": "stream",
     "text": [
      "Training_loss 1.12299,   Relative Error 0.36449\n",
      "Training_loss 1.11703,   Relative Error 0.36353\n"
     ]
    },
    {
     "name": "stderr",
     "output_type": "stream",
     "text": [
      " 23%|██▎       | 468/2000 [00:58<03:18,  7.71it/s]"
     ]
    },
    {
     "name": "stdout",
     "output_type": "stream",
     "text": [
      "Training_loss 1.11481,   Relative Error 0.36316\n",
      "Training_loss 1.11133,   Relative Error 0.36260\n"
     ]
    },
    {
     "name": "stderr",
     "output_type": "stream",
     "text": [
      " 24%|██▎       | 470/2000 [00:58<03:16,  7.78it/s]"
     ]
    },
    {
     "name": "stdout",
     "output_type": "stream",
     "text": [
      "Training_loss 1.10424,   Relative Error 0.36144\n",
      "Training_loss 1.10067,   Relative Error 0.36087\n"
     ]
    },
    {
     "name": "stderr",
     "output_type": "stream",
     "text": [
      " 24%|██▎       | 472/2000 [00:58<03:24,  7.47it/s]"
     ]
    },
    {
     "name": "stdout",
     "output_type": "stream",
     "text": [
      "Training_loss 1.09651,   Relative Error 0.36018\n",
      "Training_loss 1.09382,   Relative Error 0.35974\n"
     ]
    },
    {
     "name": "stderr",
     "output_type": "stream",
     "text": [
      " 24%|██▎       | 474/2000 [00:58<03:17,  7.71it/s]"
     ]
    },
    {
     "name": "stdout",
     "output_type": "stream",
     "text": [
      "Training_loss 1.09016,   Relative Error 0.35914\n",
      "Training_loss 1.08457,   Relative Error 0.35821\n"
     ]
    },
    {
     "name": "stderr",
     "output_type": "stream",
     "text": [
      " 24%|██▍       | 476/2000 [00:59<03:30,  7.23it/s]"
     ]
    },
    {
     "name": "stdout",
     "output_type": "stream",
     "text": [
      "Training_loss 1.07986,   Relative Error 0.35742\n",
      "Training_loss 1.07462,   Relative Error 0.35656\n"
     ]
    },
    {
     "name": "stderr",
     "output_type": "stream",
     "text": [
      " 24%|██▍       | 478/2000 [00:59<03:33,  7.14it/s]"
     ]
    },
    {
     "name": "stdout",
     "output_type": "stream",
     "text": [
      "Training_loss 1.07007,   Relative Error 0.35580\n",
      "Training_loss 1.06453,   Relative Error 0.35488\n"
     ]
    },
    {
     "name": "stderr",
     "output_type": "stream",
     "text": [
      " 24%|██▍       | 480/2000 [00:59<03:21,  7.53it/s]"
     ]
    },
    {
     "name": "stdout",
     "output_type": "stream",
     "text": [
      "Training_loss 1.06199,   Relative Error 0.35446\n",
      "Training_loss 1.05717,   Relative Error 0.35364\n"
     ]
    },
    {
     "name": "stderr",
     "output_type": "stream",
     "text": [
      " 24%|██▍       | 482/2000 [00:59<03:27,  7.32it/s]"
     ]
    },
    {
     "name": "stdout",
     "output_type": "stream",
     "text": [
      "Training_loss 1.05383,   Relative Error 0.35308\n",
      "Training_loss 1.05029,   Relative Error 0.35248\n"
     ]
    },
    {
     "name": "stderr",
     "output_type": "stream",
     "text": [
      " 24%|██▍       | 484/2000 [01:00<03:20,  7.55it/s]"
     ]
    },
    {
     "name": "stdout",
     "output_type": "stream",
     "text": [
      "Training_loss 1.04266,   Relative Error 0.35119\n",
      "Training_loss 1.03698,   Relative Error 0.35024\n"
     ]
    },
    {
     "name": "stderr",
     "output_type": "stream",
     "text": [
      " 24%|██▍       | 486/2000 [01:00<03:13,  7.83it/s]"
     ]
    },
    {
     "name": "stdout",
     "output_type": "stream",
     "text": [
      "Training_loss 1.03256,   Relative Error 0.34949\n",
      "Training_loss 1.02939,   Relative Error 0.34896\n"
     ]
    },
    {
     "name": "stderr",
     "output_type": "stream",
     "text": [
      " 24%|██▍       | 488/2000 [01:00<03:07,  8.07it/s]"
     ]
    },
    {
     "name": "stdout",
     "output_type": "stream",
     "text": [
      "Training_loss 1.02698,   Relative Error 0.34855\n",
      "Training_loss 1.02325,   Relative Error 0.34792\n"
     ]
    },
    {
     "name": "stderr",
     "output_type": "stream",
     "text": [
      " 24%|██▍       | 490/2000 [01:00<02:57,  8.50it/s]"
     ]
    },
    {
     "name": "stdout",
     "output_type": "stream",
     "text": [
      "Training_loss 1.01769,   Relative Error 0.34698\n",
      "Training_loss 1.01212,   Relative Error 0.34602\n"
     ]
    },
    {
     "name": "stderr",
     "output_type": "stream",
     "text": [
      " 25%|██▍       | 492/2000 [01:01<03:15,  7.73it/s]"
     ]
    },
    {
     "name": "stdout",
     "output_type": "stream",
     "text": [
      "Training_loss 1.00707,   Relative Error 0.34516\n",
      "Training_loss 1.00266,   Relative Error 0.34440\n"
     ]
    },
    {
     "name": "stderr",
     "output_type": "stream",
     "text": [
      " 25%|██▍       | 494/2000 [01:01<03:01,  8.31it/s]"
     ]
    },
    {
     "name": "stdout",
     "output_type": "stream",
     "text": [
      "Training_loss 0.99882,   Relative Error 0.34373\n",
      "Training_loss 0.99668,   Relative Error 0.34336\n"
     ]
    },
    {
     "name": "stderr",
     "output_type": "stream",
     "text": [
      " 25%|██▍       | 496/2000 [01:01<03:05,  8.10it/s]"
     ]
    },
    {
     "name": "stdout",
     "output_type": "stream",
     "text": [
      "Training_loss 0.99244,   Relative Error 0.34263\n",
      "Training_loss 0.98899,   Relative Error 0.34204\n"
     ]
    },
    {
     "name": "stderr",
     "output_type": "stream",
     "text": [
      " 25%|██▍       | 498/2000 [01:01<02:59,  8.38it/s]"
     ]
    },
    {
     "name": "stdout",
     "output_type": "stream",
     "text": [
      "Training_loss 0.98668,   Relative Error 0.34164\n",
      "Training_loss 0.98381,   Relative Error 0.34113\n"
     ]
    },
    {
     "name": "stderr",
     "output_type": "stream",
     "text": [
      " 25%|██▌       | 500/2000 [01:02<03:09,  7.93it/s]"
     ]
    },
    {
     "name": "stdout",
     "output_type": "stream",
     "text": [
      "Training_loss 0.97933,   Relative Error 0.34035\n",
      "Training_loss 0.97590,   Relative Error 0.33976\n"
     ]
    },
    {
     "name": "stderr",
     "output_type": "stream",
     "text": [
      " 25%|██▌       | 502/2000 [01:02<02:57,  8.44it/s]"
     ]
    },
    {
     "name": "stdout",
     "output_type": "stream",
     "text": [
      "Training_loss 0.97138,   Relative Error 0.33897\n",
      "Training_loss 0.96847,   Relative Error 0.33846\n"
     ]
    },
    {
     "name": "stderr",
     "output_type": "stream",
     "text": [
      " 25%|██▌       | 504/2000 [01:02<03:08,  7.94it/s]"
     ]
    },
    {
     "name": "stdout",
     "output_type": "stream",
     "text": [
      "Training_loss 0.96462,   Relative Error 0.33779\n",
      "Training_loss 0.96229,   Relative Error 0.33738\n"
     ]
    },
    {
     "name": "stderr",
     "output_type": "stream",
     "text": [
      " 25%|██▌       | 506/2000 [01:02<03:15,  7.65it/s]"
     ]
    },
    {
     "name": "stdout",
     "output_type": "stream",
     "text": [
      "Training_loss 0.95873,   Relative Error 0.33676\n",
      "Training_loss 0.95458,   Relative Error 0.33603\n"
     ]
    },
    {
     "name": "stderr",
     "output_type": "stream",
     "text": [
      " 25%|██▌       | 508/2000 [01:03<03:03,  8.11it/s]"
     ]
    },
    {
     "name": "stdout",
     "output_type": "stream",
     "text": [
      "Training_loss 0.94964,   Relative Error 0.33516\n",
      "Training_loss 0.94583,   Relative Error 0.33449\n"
     ]
    },
    {
     "name": "stderr",
     "output_type": "stream",
     "text": [
      " 26%|██▌       | 510/2000 [01:03<03:06,  7.97it/s]"
     ]
    },
    {
     "name": "stdout",
     "output_type": "stream",
     "text": [
      "Training_loss 0.94184,   Relative Error 0.33379\n",
      "Training_loss 0.93839,   Relative Error 0.33317\n"
     ]
    },
    {
     "name": "stderr",
     "output_type": "stream",
     "text": [
      " 26%|██▌       | 512/2000 [01:03<03:07,  7.94it/s]"
     ]
    },
    {
     "name": "stdout",
     "output_type": "stream",
     "text": [
      "Training_loss 0.93506,   Relative Error 0.33257\n",
      "Training_loss 0.92863,   Relative Error 0.33142\n"
     ]
    },
    {
     "name": "stderr",
     "output_type": "stream",
     "text": [
      " 26%|██▌       | 514/2000 [01:03<03:04,  8.05it/s]"
     ]
    },
    {
     "name": "stdout",
     "output_type": "stream",
     "text": [
      "Training_loss 0.92563,   Relative Error 0.33089\n",
      "Training_loss 0.92235,   Relative Error 0.33031\n"
     ]
    },
    {
     "name": "stderr",
     "output_type": "stream",
     "text": [
      " 26%|██▌       | 516/2000 [01:04<03:04,  8.05it/s]"
     ]
    },
    {
     "name": "stdout",
     "output_type": "stream",
     "text": [
      "Training_loss 0.91818,   Relative Error 0.32956\n",
      "Training_loss 0.91484,   Relative Error 0.32895\n"
     ]
    },
    {
     "name": "stderr",
     "output_type": "stream",
     "text": [
      " 26%|██▌       | 518/2000 [01:04<02:59,  8.28it/s]"
     ]
    },
    {
     "name": "stdout",
     "output_type": "stream",
     "text": [
      "Training_loss 0.91074,   Relative Error 0.32822\n",
      "Training_loss 0.90591,   Relative Error 0.32735\n"
     ]
    },
    {
     "name": "stderr",
     "output_type": "stream",
     "text": [
      " 26%|██▌       | 520/2000 [01:04<03:03,  8.06it/s]"
     ]
    },
    {
     "name": "stdout",
     "output_type": "stream",
     "text": [
      "Training_loss 0.90136,   Relative Error 0.32652\n",
      "Training_loss 0.89633,   Relative Error 0.32561\n"
     ]
    },
    {
     "name": "stderr",
     "output_type": "stream",
     "text": [
      " 26%|██▌       | 522/2000 [01:04<03:09,  7.80it/s]"
     ]
    },
    {
     "name": "stdout",
     "output_type": "stream",
     "text": [
      "Training_loss 0.89295,   Relative Error 0.32500\n",
      "Training_loss 0.89042,   Relative Error 0.32453\n"
     ]
    },
    {
     "name": "stderr",
     "output_type": "stream",
     "text": [
      " 26%|██▌       | 524/2000 [01:05<03:07,  7.87it/s]"
     ]
    },
    {
     "name": "stdout",
     "output_type": "stream",
     "text": [
      "Training_loss 0.88674,   Relative Error 0.32385\n",
      "Training_loss 0.88272,   Relative Error 0.32312\n"
     ]
    },
    {
     "name": "stderr",
     "output_type": "stream",
     "text": [
      " 26%|██▋       | 526/2000 [01:05<03:05,  7.95it/s]"
     ]
    },
    {
     "name": "stdout",
     "output_type": "stream",
     "text": [
      "Training_loss 0.88013,   Relative Error 0.32265\n",
      "Training_loss 0.87462,   Relative Error 0.32164\n"
     ]
    },
    {
     "name": "stderr",
     "output_type": "stream",
     "text": [
      " 26%|██▋       | 528/2000 [01:05<03:27,  7.11it/s]"
     ]
    },
    {
     "name": "stdout",
     "output_type": "stream",
     "text": [
      "Training_loss 0.87085,   Relative Error 0.32094\n",
      "Training_loss 0.86646,   Relative Error 0.32013\n"
     ]
    },
    {
     "name": "stderr",
     "output_type": "stream",
     "text": [
      " 26%|██▋       | 530/2000 [01:06<03:38,  6.72it/s]"
     ]
    },
    {
     "name": "stdout",
     "output_type": "stream",
     "text": [
      "Training_loss 0.86288,   Relative Error 0.31946\n",
      "Training_loss 0.85744,   Relative Error 0.31845\n"
     ]
    },
    {
     "name": "stderr",
     "output_type": "stream",
     "text": [
      " 27%|██▋       | 532/2000 [01:06<03:46,  6.48it/s]"
     ]
    },
    {
     "name": "stdout",
     "output_type": "stream",
     "text": [
      "Training_loss 0.85367,   Relative Error 0.31775\n",
      "Training_loss 0.85023,   Relative Error 0.31710\n"
     ]
    },
    {
     "name": "stderr",
     "output_type": "stream",
     "text": [
      " 27%|██▋       | 534/2000 [01:06<03:56,  6.20it/s]"
     ]
    },
    {
     "name": "stdout",
     "output_type": "stream",
     "text": [
      "Training_loss 0.84819,   Relative Error 0.31672\n",
      "Training_loss 0.84428,   Relative Error 0.31600\n"
     ]
    },
    {
     "name": "stderr",
     "output_type": "stream",
     "text": [
      " 27%|██▋       | 536/2000 [01:07<04:04,  5.98it/s]"
     ]
    },
    {
     "name": "stdout",
     "output_type": "stream",
     "text": [
      "Training_loss 0.83979,   Relative Error 0.31516\n",
      "Training_loss 0.83610,   Relative Error 0.31447\n"
     ]
    },
    {
     "name": "stderr",
     "output_type": "stream",
     "text": [
      " 27%|██▋       | 538/2000 [01:07<04:12,  5.78it/s]"
     ]
    },
    {
     "name": "stdout",
     "output_type": "stream",
     "text": [
      "Training_loss 0.83352,   Relative Error 0.31398\n",
      "Training_loss 0.83030,   Relative Error 0.31337\n"
     ]
    },
    {
     "name": "stderr",
     "output_type": "stream",
     "text": [
      " 27%|██▋       | 540/2000 [01:07<04:22,  5.56it/s]"
     ]
    },
    {
     "name": "stdout",
     "output_type": "stream",
     "text": [
      "Training_loss 0.82676,   Relative Error 0.31270\n",
      "Training_loss 0.82460,   Relative Error 0.31229\n"
     ]
    },
    {
     "name": "stderr",
     "output_type": "stream",
     "text": [
      "\r",
      " 27%|██▋       | 541/2000 [01:07<04:25,  5.50it/s]"
     ]
    },
    {
     "name": "stdout",
     "output_type": "stream",
     "text": [
      "Training_loss 0.82013,   Relative Error 0.31144\n",
      "Training_loss 0.81591,   Relative Error 0.31064"
     ]
    },
    {
     "name": "stderr",
     "output_type": "stream",
     "text": [
      " 27%|██▋       | 543/2000 [01:08<04:27,  5.44it/s]"
     ]
    },
    {
     "name": "stdout",
     "output_type": "stream",
     "text": [
      "\n",
      "Training_loss 0.81400,   Relative Error 0.31028\n"
     ]
    },
    {
     "name": "stderr",
     "output_type": "stream",
     "text": [
      " 27%|██▋       | 545/2000 [01:08<04:25,  5.48it/s]"
     ]
    },
    {
     "name": "stdout",
     "output_type": "stream",
     "text": [
      "Training_loss 0.80843,   Relative Error 0.30921\n",
      "Training_loss 0.80463,   Relative Error 0.30848\n"
     ]
    },
    {
     "name": "stderr",
     "output_type": "stream",
     "text": [
      " 27%|██▋       | 547/2000 [01:09<04:16,  5.67it/s]"
     ]
    },
    {
     "name": "stdout",
     "output_type": "stream",
     "text": [
      "Training_loss 0.80228,   Relative Error 0.30803\n",
      "Training_loss 0.79953,   Relative Error 0.30750\n"
     ]
    },
    {
     "name": "stderr",
     "output_type": "stream",
     "text": [
      " 27%|██▋       | 549/2000 [01:09<04:25,  5.47it/s]"
     ]
    },
    {
     "name": "stdout",
     "output_type": "stream",
     "text": [
      "Training_loss 0.79370,   Relative Error 0.30638\n",
      "Training_loss 0.79088,   Relative Error 0.30584\n"
     ]
    },
    {
     "name": "stderr",
     "output_type": "stream",
     "text": [
      " 28%|██▊       | 551/2000 [01:09<04:27,  5.42it/s]"
     ]
    },
    {
     "name": "stdout",
     "output_type": "stream",
     "text": [
      "Training_loss 0.78775,   Relative Error 0.30524\n",
      "Training_loss 0.78485,   Relative Error 0.30467\n"
     ]
    },
    {
     "name": "stderr",
     "output_type": "stream",
     "text": [
      "\r",
      " 28%|██▊       | 552/2000 [01:09<04:43,  5.11it/s]"
     ]
    },
    {
     "name": "stdout",
     "output_type": "stream",
     "text": [
      "Training_loss 0.78077,   Relative Error 0.30387\n"
     ]
    },
    {
     "name": "stderr",
     "output_type": "stream",
     "text": [
      " 28%|██▊       | 554/2000 [01:10<04:46,  5.05it/s]"
     ]
    },
    {
     "name": "stdout",
     "output_type": "stream",
     "text": [
      "Training_loss 0.77600,   Relative Error 0.30295\n",
      "Training_loss 0.77342,   Relative Error 0.30245\n"
     ]
    },
    {
     "name": "stderr",
     "output_type": "stream",
     "text": [
      "\r",
      " 28%|██▊       | 555/2000 [01:10<04:49,  4.99it/s]"
     ]
    },
    {
     "name": "stdout",
     "output_type": "stream",
     "text": [
      "Training_loss 0.77121,   Relative Error 0.30202\n"
     ]
    },
    {
     "name": "stderr",
     "output_type": "stream",
     "text": [
      "\r",
      " 28%|██▊       | 556/2000 [01:10<05:06,  4.71it/s]"
     ]
    },
    {
     "name": "stdout",
     "output_type": "stream",
     "text": [
      "Training_loss 0.76975,   Relative Error 0.30173\n"
     ]
    },
    {
     "name": "stderr",
     "output_type": "stream",
     "text": [
      "\r",
      " 28%|██▊       | 557/2000 [01:11<05:09,  4.66it/s]"
     ]
    },
    {
     "name": "stdout",
     "output_type": "stream",
     "text": [
      "Training_loss 0.76578,   Relative Error 0.30095\n"
     ]
    },
    {
     "name": "stderr",
     "output_type": "stream",
     "text": [
      "\r",
      " 28%|██▊       | 558/2000 [01:11<05:16,  4.56it/s]"
     ]
    },
    {
     "name": "stdout",
     "output_type": "stream",
     "text": [
      "Training_loss 0.76294,   Relative Error 0.30039\n"
     ]
    },
    {
     "name": "stderr",
     "output_type": "stream",
     "text": [
      " 28%|██▊       | 560/2000 [01:11<05:06,  4.69it/s]"
     ]
    },
    {
     "name": "stdout",
     "output_type": "stream",
     "text": [
      "Training_loss 0.75954,   Relative Error 0.29972\n",
      "Training_loss 0.75650,   Relative Error 0.29912\n"
     ]
    },
    {
     "name": "stderr",
     "output_type": "stream",
     "text": [
      "\r",
      " 28%|██▊       | 561/2000 [01:11<04:57,  4.83it/s]"
     ]
    },
    {
     "name": "stdout",
     "output_type": "stream",
     "text": [
      "Training_loss 0.75361,   Relative Error 0.29855\n"
     ]
    },
    {
     "name": "stderr",
     "output_type": "stream",
     "text": [
      "\r",
      " 28%|██▊       | 562/2000 [01:12<05:06,  4.68it/s]"
     ]
    },
    {
     "name": "stdout",
     "output_type": "stream",
     "text": [
      "Training_loss 0.75177,   Relative Error 0.29818\n"
     ]
    },
    {
     "name": "stderr",
     "output_type": "stream",
     "text": [
      "\r",
      " 28%|██▊       | 563/2000 [01:12<05:19,  4.50it/s]"
     ]
    },
    {
     "name": "stdout",
     "output_type": "stream",
     "text": [
      "Training_loss 0.74954,   Relative Error 0.29773\n"
     ]
    },
    {
     "name": "stderr",
     "output_type": "stream",
     "text": [
      "\r",
      " 28%|██▊       | 564/2000 [01:12<05:20,  4.48it/s]"
     ]
    },
    {
     "name": "stdout",
     "output_type": "stream",
     "text": [
      "Training_loss 0.74528,   Relative Error 0.29689\n"
     ]
    },
    {
     "name": "stderr",
     "output_type": "stream",
     "text": [
      "\r",
      " 28%|██▊       | 565/2000 [01:12<05:23,  4.44it/s]"
     ]
    },
    {
     "name": "stdout",
     "output_type": "stream",
     "text": [
      "Training_loss 0.74169,   Relative Error 0.29617\n"
     ]
    },
    {
     "name": "stderr",
     "output_type": "stream",
     "text": [
      "\r",
      " 28%|██▊       | 566/2000 [01:13<05:19,  4.49it/s]"
     ]
    },
    {
     "name": "stdout",
     "output_type": "stream",
     "text": [
      "Training_loss 0.73835,   Relative Error 0.29550\n"
     ]
    },
    {
     "name": "stderr",
     "output_type": "stream",
     "text": [
      "\r",
      " 28%|██▊       | 567/2000 [01:13<05:13,  4.57it/s]"
     ]
    },
    {
     "name": "stdout",
     "output_type": "stream",
     "text": [
      "Training_loss 0.73397,   Relative Error 0.29463\n"
     ]
    },
    {
     "name": "stderr",
     "output_type": "stream",
     "text": [
      "\r",
      " 28%|██▊       | 568/2000 [01:13<05:17,  4.52it/s]"
     ]
    },
    {
     "name": "stdout",
     "output_type": "stream",
     "text": [
      "Training_loss 0.73178,   Relative Error 0.29420\n"
     ]
    },
    {
     "name": "stderr",
     "output_type": "stream",
     "text": [
      "\r",
      " 28%|██▊       | 569/2000 [01:13<05:16,  4.53it/s]"
     ]
    },
    {
     "name": "stdout",
     "output_type": "stream",
     "text": [
      "Training_loss 0.72943,   Relative Error 0.29372\n"
     ]
    },
    {
     "name": "stderr",
     "output_type": "stream",
     "text": [
      " 29%|██▊       | 571/2000 [01:14<04:58,  4.79it/s]"
     ]
    },
    {
     "name": "stdout",
     "output_type": "stream",
     "text": [
      "Training_loss 0.72723,   Relative Error 0.29327\n",
      "Training_loss 0.72312,   Relative Error 0.29244\n"
     ]
    },
    {
     "name": "stderr",
     "output_type": "stream",
     "text": [
      " 29%|██▊       | 573/2000 [01:14<04:45,  5.01it/s]"
     ]
    },
    {
     "name": "stdout",
     "output_type": "stream",
     "text": [
      "Training_loss 0.72083,   Relative Error 0.29198\n",
      "Training_loss 0.71775,   Relative Error 0.29134\n"
     ]
    },
    {
     "name": "stderr",
     "output_type": "stream",
     "text": [
      " 29%|██▉       | 575/2000 [01:14<04:37,  5.13it/s]"
     ]
    },
    {
     "name": "stdout",
     "output_type": "stream",
     "text": [
      "Training_loss 0.71397,   Relative Error 0.29059\n",
      "Training_loss 0.71130,   Relative Error 0.29005\n"
     ]
    },
    {
     "name": "stderr",
     "output_type": "stream",
     "text": [
      " 29%|██▉       | 577/2000 [01:15<04:29,  5.29it/s]"
     ]
    },
    {
     "name": "stdout",
     "output_type": "stream",
     "text": [
      "Training_loss 0.70935,   Relative Error 0.28965\n",
      "Training_loss 0.70647,   Relative Error 0.28907\n"
     ]
    },
    {
     "name": "stderr",
     "output_type": "stream",
     "text": [
      "\r",
      " 29%|██▉       | 578/2000 [01:15<04:37,  5.12it/s]"
     ]
    },
    {
     "name": "stdout",
     "output_type": "stream",
     "text": [
      "Training_loss 0.70431,   Relative Error 0.28863\n",
      "Training_loss 0.70179,   Relative Error 0.28811"
     ]
    },
    {
     "name": "stderr",
     "output_type": "stream",
     "text": [
      " 29%|██▉       | 580/2000 [01:15<04:44,  4.99it/s]"
     ]
    },
    {
     "name": "stdout",
     "output_type": "stream",
     "text": [
      "\n",
      "Training_loss 0.69978,   Relative Error 0.28770\n"
     ]
    },
    {
     "name": "stderr",
     "output_type": "stream",
     "text": [
      " 29%|██▉       | 582/2000 [01:16<04:49,  4.90it/s]"
     ]
    },
    {
     "name": "stdout",
     "output_type": "stream",
     "text": [
      "Training_loss 0.69776,   Relative Error 0.28728\n",
      "Training_loss 0.69566,   Relative Error 0.28686\n"
     ]
    },
    {
     "name": "stderr",
     "output_type": "stream",
     "text": [
      "\r",
      " 29%|██▉       | 583/2000 [01:16<04:44,  4.97it/s]"
     ]
    },
    {
     "name": "stdout",
     "output_type": "stream",
     "text": [
      "Training_loss 0.69306,   Relative Error 0.28631\n"
     ]
    },
    {
     "name": "stderr",
     "output_type": "stream",
     "text": [
      "\r",
      " 29%|██▉       | 584/2000 [01:16<05:02,  4.69it/s]"
     ]
    },
    {
     "name": "stdout",
     "output_type": "stream",
     "text": [
      "Training_loss 0.68999,   Relative Error 0.28569\n"
     ]
    },
    {
     "name": "stderr",
     "output_type": "stream",
     "text": [
      " 29%|██▉       | 586/2000 [01:17<05:00,  4.70it/s]"
     ]
    },
    {
     "name": "stdout",
     "output_type": "stream",
     "text": [
      "Training_loss 0.68765,   Relative Error 0.28521\n",
      "Training_loss 0.68441,   Relative Error 0.28453\n"
     ]
    },
    {
     "name": "stderr",
     "output_type": "stream",
     "text": [
      " 29%|██▉       | 588/2000 [01:17<04:55,  4.78it/s]"
     ]
    },
    {
     "name": "stdout",
     "output_type": "stream",
     "text": [
      "Training_loss 0.68182,   Relative Error 0.28399\n",
      "Training_loss 0.67928,   Relative Error 0.28346\n"
     ]
    },
    {
     "name": "stderr",
     "output_type": "stream",
     "text": [
      "\r",
      " 29%|██▉       | 589/2000 [01:17<05:03,  4.65it/s]"
     ]
    },
    {
     "name": "stdout",
     "output_type": "stream",
     "text": [
      "Training_loss 0.67745,   Relative Error 0.28308\n"
     ]
    },
    {
     "name": "stderr",
     "output_type": "stream",
     "text": [
      "\r",
      " 30%|██▉       | 590/2000 [01:18<05:27,  4.30it/s]"
     ]
    },
    {
     "name": "stdout",
     "output_type": "stream",
     "text": [
      "Training_loss 0.67385,   Relative Error 0.28233\n"
     ]
    },
    {
     "name": "stderr",
     "output_type": "stream",
     "text": [
      "\r",
      " 30%|██▉       | 591/2000 [01:18<05:22,  4.37it/s]"
     ]
    },
    {
     "name": "stdout",
     "output_type": "stream",
     "text": [
      "Training_loss 0.67059,   Relative Error 0.28165\n"
     ]
    },
    {
     "name": "stderr",
     "output_type": "stream",
     "text": [
      " 30%|██▉       | 593/2000 [01:18<05:02,  4.65it/s]"
     ]
    },
    {
     "name": "stdout",
     "output_type": "stream",
     "text": [
      "Training_loss 0.66700,   Relative Error 0.28089\n",
      "Training_loss 0.66559,   Relative Error 0.28059\n"
     ]
    },
    {
     "name": "stderr",
     "output_type": "stream",
     "text": [
      " 30%|██▉       | 595/2000 [01:19<05:04,  4.61it/s]"
     ]
    },
    {
     "name": "stdout",
     "output_type": "stream",
     "text": [
      "Training_loss 0.66312,   Relative Error 0.28006\n",
      "Training_loss 0.66023,   Relative Error 0.27945\n"
     ]
    },
    {
     "name": "stderr",
     "output_type": "stream",
     "text": [
      "\r",
      " 30%|██▉       | 596/2000 [01:19<05:15,  4.46it/s]"
     ]
    },
    {
     "name": "stdout",
     "output_type": "stream",
     "text": [
      "Training_loss 0.65719,   Relative Error 0.27881\n",
      "Training_loss 0.65440,   Relative Error 0.27821\n"
     ]
    },
    {
     "name": "stderr",
     "output_type": "stream",
     "text": [
      "\r",
      " 30%|██▉       | 597/2000 [01:19<05:01,  4.66it/s]"
     ]
    },
    {
     "name": "stdout",
     "output_type": "stream",
     "text": [
      "Training_loss 0.65118,   Relative Error 0.27753"
     ]
    },
    {
     "name": "stderr",
     "output_type": "stream",
     "text": [
      " 30%|██▉       | 599/2000 [01:19<04:35,  5.08it/s]"
     ]
    },
    {
     "name": "stdout",
     "output_type": "stream",
     "text": [
      "\n",
      "Training_loss 0.64973,   Relative Error 0.27722\n"
     ]
    },
    {
     "name": "stderr",
     "output_type": "stream",
     "text": [
      " 30%|███       | 601/2000 [01:20<04:22,  5.33it/s]"
     ]
    },
    {
     "name": "stdout",
     "output_type": "stream",
     "text": [
      "Training_loss 0.64622,   Relative Error 0.27646\n",
      "Training_loss 0.64264,   Relative Error 0.27569\n"
     ]
    },
    {
     "name": "stderr",
     "output_type": "stream",
     "text": [
      " 30%|███       | 603/2000 [01:20<04:15,  5.46it/s]"
     ]
    },
    {
     "name": "stdout",
     "output_type": "stream",
     "text": [
      "Training_loss 0.63823,   Relative Error 0.27474\n",
      "Training_loss 0.63415,   Relative Error 0.27386\n"
     ]
    },
    {
     "name": "stderr",
     "output_type": "stream",
     "text": [
      "\r",
      " 30%|███       | 604/2000 [01:20<04:23,  5.31it/s]"
     ]
    },
    {
     "name": "stdout",
     "output_type": "stream",
     "text": [
      "Training_loss 0.63176,   Relative Error 0.27335\n",
      "Training_loss 0.62864,   Relative Error 0.27267"
     ]
    },
    {
     "name": "stderr",
     "output_type": "stream",
     "text": [
      " 30%|███       | 606/2000 [01:21<04:16,  5.43it/s]"
     ]
    },
    {
     "name": "stdout",
     "output_type": "stream",
     "text": [
      "\n",
      "Training_loss 0.62627,   Relative Error 0.27216\n"
     ]
    },
    {
     "name": "stderr",
     "output_type": "stream",
     "text": [
      " 30%|███       | 608/2000 [01:21<04:18,  5.38it/s]"
     ]
    },
    {
     "name": "stdout",
     "output_type": "stream",
     "text": [
      "Training_loss 0.62355,   Relative Error 0.27157\n",
      "Training_loss 0.62060,   Relative Error 0.27093\n"
     ]
    },
    {
     "name": "stderr",
     "output_type": "stream",
     "text": [
      " 30%|███       | 610/2000 [01:21<04:13,  5.48it/s]"
     ]
    },
    {
     "name": "stdout",
     "output_type": "stream",
     "text": [
      "Training_loss 0.61841,   Relative Error 0.27045\n",
      "Training_loss 0.61542,   Relative Error 0.26981\n"
     ]
    },
    {
     "name": "stderr",
     "output_type": "stream",
     "text": [
      " 31%|███       | 612/2000 [01:22<04:18,  5.38it/s]"
     ]
    },
    {
     "name": "stdout",
     "output_type": "stream",
     "text": [
      "Training_loss 0.61169,   Relative Error 0.26899\n",
      "Training_loss 0.60970,   Relative Error 0.26855\n"
     ]
    },
    {
     "name": "stderr",
     "output_type": "stream",
     "text": [
      " 31%|███       | 614/2000 [01:22<04:17,  5.38it/s]"
     ]
    },
    {
     "name": "stdout",
     "output_type": "stream",
     "text": [
      "Training_loss 0.60683,   Relative Error 0.26791\n",
      "Training_loss 0.60432,   Relative Error 0.26737\n"
     ]
    },
    {
     "name": "stderr",
     "output_type": "stream",
     "text": [
      "\r",
      " 31%|███       | 615/2000 [01:22<04:10,  5.52it/s]"
     ]
    },
    {
     "name": "stdout",
     "output_type": "stream",
     "text": [
      "Training_loss 0.60073,   Relative Error 0.26657\n",
      "Training_loss 0.59867,   Relative Error 0.26611\n"
     ]
    },
    {
     "name": "stderr",
     "output_type": "stream",
     "text": [
      " 31%|███       | 618/2000 [01:23<03:56,  5.85it/s]"
     ]
    },
    {
     "name": "stdout",
     "output_type": "stream",
     "text": [
      "Training_loss 0.59642,   Relative Error 0.26561\n",
      "Training_loss 0.59360,   Relative Error 0.26499\n"
     ]
    },
    {
     "name": "stderr",
     "output_type": "stream",
     "text": [
      " 31%|███       | 620/2000 [01:23<03:39,  6.28it/s]"
     ]
    },
    {
     "name": "stdout",
     "output_type": "stream",
     "text": [
      "Training_loss 0.59110,   Relative Error 0.26442\n",
      "Training_loss 0.58810,   Relative Error 0.26375\n"
     ]
    },
    {
     "name": "stderr",
     "output_type": "stream",
     "text": [
      " 31%|███       | 622/2000 [01:23<03:13,  7.11it/s]"
     ]
    },
    {
     "name": "stdout",
     "output_type": "stream",
     "text": [
      "Training_loss 0.58583,   Relative Error 0.26324\n",
      "Training_loss 0.58396,   Relative Error 0.26282\n"
     ]
    },
    {
     "name": "stderr",
     "output_type": "stream",
     "text": [
      " 31%|███       | 624/2000 [01:24<03:11,  7.19it/s]"
     ]
    },
    {
     "name": "stdout",
     "output_type": "stream",
     "text": [
      "Training_loss 0.58133,   Relative Error 0.26223\n",
      "Training_loss 0.57962,   Relative Error 0.26185\n"
     ]
    },
    {
     "name": "stderr",
     "output_type": "stream",
     "text": [
      " 31%|███▏      | 626/2000 [01:24<03:14,  7.05it/s]"
     ]
    },
    {
     "name": "stdout",
     "output_type": "stream",
     "text": [
      "Training_loss 0.57531,   Relative Error 0.26087\n",
      "Training_loss 0.57326,   Relative Error 0.26041\n"
     ]
    },
    {
     "name": "stderr",
     "output_type": "stream",
     "text": [
      " 31%|███▏      | 628/2000 [01:24<03:02,  7.52it/s]"
     ]
    },
    {
     "name": "stdout",
     "output_type": "stream",
     "text": [
      "Training_loss 0.57104,   Relative Error 0.25991\n",
      "Training_loss 0.56849,   Relative Error 0.25933\n"
     ]
    },
    {
     "name": "stderr",
     "output_type": "stream",
     "text": [
      " 32%|███▏      | 630/2000 [01:24<02:45,  8.26it/s]"
     ]
    },
    {
     "name": "stdout",
     "output_type": "stream",
     "text": [
      "Training_loss 0.56654,   Relative Error 0.25888\n",
      "Training_loss 0.56475,   Relative Error 0.25847\n"
     ]
    },
    {
     "name": "stderr",
     "output_type": "stream",
     "text": [
      " 32%|███▏      | 633/2000 [01:25<02:20,  9.75it/s]"
     ]
    },
    {
     "name": "stdout",
     "output_type": "stream",
     "text": [
      "Training_loss 0.56195,   Relative Error 0.25782\n",
      "Training_loss 0.55920,   Relative Error 0.25720\n",
      "Training_loss 0.55666,   Relative Error 0.25661\n"
     ]
    },
    {
     "name": "stderr",
     "output_type": "stream",
     "text": [
      " 32%|███▏      | 636/2000 [01:25<02:14, 10.16it/s]"
     ]
    },
    {
     "name": "stdout",
     "output_type": "stream",
     "text": [
      "Training_loss 0.55414,   Relative Error 0.25603\n",
      "Training_loss 0.55260,   Relative Error 0.25568\n",
      "Training_loss 0.55046,   Relative Error 0.25518\n"
     ]
    },
    {
     "name": "stderr",
     "output_type": "stream",
     "text": [
      "\r",
      " 32%|███▏      | 638/2000 [01:25<02:02, 11.10it/s]"
     ]
    },
    {
     "name": "stdout",
     "output_type": "stream",
     "text": [
      "Training_loss 0.54793,   Relative Error 0.25459\n",
      "Training_loss 0.54467,   Relative Error 0.25384\n",
      "Training_loss 0.54298,   Relative Error 0.25344\n"
     ]
    },
    {
     "name": "stderr",
     "output_type": "stream",
     "text": [
      " 32%|███▏      | 642/2000 [01:25<01:57, 11.54it/s]"
     ]
    },
    {
     "name": "stdout",
     "output_type": "stream",
     "text": [
      "Training_loss 0.54087,   Relative Error 0.25295\n",
      "Training_loss 0.53823,   Relative Error 0.25233\n",
      "Training_loss 0.53555,   Relative Error 0.25170\n"
     ]
    },
    {
     "name": "stderr",
     "output_type": "stream",
     "text": [
      "\r",
      " 32%|███▏      | 644/2000 [01:26<02:02, 11.10it/s]"
     ]
    },
    {
     "name": "stdout",
     "output_type": "stream",
     "text": [
      "Training_loss 0.53240,   Relative Error 0.25096\n",
      "Training_loss 0.52877,   Relative Error 0.25010\n",
      "Training_loss 0.52638,   Relative Error 0.24953\n"
     ]
    },
    {
     "name": "stderr",
     "output_type": "stream",
     "text": [
      " 32%|███▏      | 648/2000 [01:26<01:55, 11.75it/s]"
     ]
    },
    {
     "name": "stdout",
     "output_type": "stream",
     "text": [
      "Training_loss 0.52468,   Relative Error 0.24913\n",
      "Training_loss 0.52222,   Relative Error 0.24855\n",
      "Training_loss 0.51993,   Relative Error 0.24801\n"
     ]
    },
    {
     "name": "stderr",
     "output_type": "stream",
     "text": [
      "\r",
      " 32%|███▎      | 650/2000 [01:26<01:49, 12.35it/s]"
     ]
    },
    {
     "name": "stdout",
     "output_type": "stream",
     "text": [
      "Training_loss 0.51819,   Relative Error 0.24759\n",
      "Training_loss 0.51642,   Relative Error 0.24717\n",
      "Training_loss 0.51555,   Relative Error 0.24696\n"
     ]
    },
    {
     "name": "stderr",
     "output_type": "stream",
     "text": [
      "\r",
      " 33%|███▎      | 652/2000 [01:26<02:00, 11.21it/s]"
     ]
    },
    {
     "name": "stdout",
     "output_type": "stream",
     "text": [
      "Training_loss 0.51253,   Relative Error 0.24624\n",
      "Training_loss 0.51023,   Relative Error 0.24568\n"
     ]
    },
    {
     "name": "stderr",
     "output_type": "stream",
     "text": [
      " 33%|███▎      | 656/2000 [01:27<02:05, 10.67it/s]"
     ]
    },
    {
     "name": "stdout",
     "output_type": "stream",
     "text": [
      "Training_loss 0.50780,   Relative Error 0.24509\n",
      "Training_loss 0.50635,   Relative Error 0.24475\n",
      "Training_loss 0.50465,   Relative Error 0.24433\n"
     ]
    },
    {
     "name": "stderr",
     "output_type": "stream",
     "text": [
      "\r",
      " 33%|███▎      | 658/2000 [01:27<02:07, 10.49it/s]"
     ]
    },
    {
     "name": "stdout",
     "output_type": "stream",
     "text": [
      "Training_loss 0.50388,   Relative Error 0.24415\n",
      "Training_loss 0.50144,   Relative Error 0.24356\n",
      "Training_loss 0.50004,   Relative Error 0.24322\n"
     ]
    },
    {
     "name": "stderr",
     "output_type": "stream",
     "text": [
      "\r",
      " 33%|███▎      | 660/2000 [01:27<02:11, 10.20it/s]"
     ]
    },
    {
     "name": "stdout",
     "output_type": "stream",
     "text": [
      "Training_loss 0.49767,   Relative Error 0.24265\n",
      "Training_loss 0.49489,   Relative Error 0.24197\n"
     ]
    },
    {
     "name": "stderr",
     "output_type": "stream",
     "text": [
      " 33%|███▎      | 664/2000 [01:28<02:12, 10.06it/s]"
     ]
    },
    {
     "name": "stdout",
     "output_type": "stream",
     "text": [
      "Training_loss 0.49327,   Relative Error 0.24156\n",
      "Training_loss 0.49028,   Relative Error 0.24083\n",
      "Training_loss 0.48865,   Relative Error 0.24042\n"
     ]
    },
    {
     "name": "stderr",
     "output_type": "stream",
     "text": [
      "\r",
      " 33%|███▎      | 666/2000 [01:28<02:18,  9.64it/s]"
     ]
    },
    {
     "name": "stdout",
     "output_type": "stream",
     "text": [
      "Training_loss 0.48681,   Relative Error 0.23997\n",
      "Training_loss 0.48524,   Relative Error 0.23958\n",
      "Training_loss 0.48159,   Relative Error 0.23867\n"
     ]
    },
    {
     "name": "stderr",
     "output_type": "stream",
     "text": [
      " 34%|███▎      | 670/2000 [01:28<02:04, 10.71it/s]"
     ]
    },
    {
     "name": "stdout",
     "output_type": "stream",
     "text": [
      "Training_loss 0.47995,   Relative Error 0.23827\n",
      "Training_loss 0.47837,   Relative Error 0.23787\n",
      "Training_loss 0.47662,   Relative Error 0.23743\n"
     ]
    },
    {
     "name": "stderr",
     "output_type": "stream",
     "text": [
      "\r",
      " 34%|███▎      | 672/2000 [01:28<02:03, 10.79it/s]"
     ]
    },
    {
     "name": "stdout",
     "output_type": "stream",
     "text": [
      "Training_loss 0.47542,   Relative Error 0.23713\n",
      "Training_loss 0.47413,   Relative Error 0.23681\n",
      "Training_loss 0.47313,   Relative Error 0.23656\n"
     ]
    },
    {
     "name": "stderr",
     "output_type": "stream",
     "text": [
      " 34%|███▍      | 676/2000 [01:29<01:56, 11.33it/s]"
     ]
    },
    {
     "name": "stdout",
     "output_type": "stream",
     "text": [
      "Training_loss 0.47136,   Relative Error 0.23612\n",
      "Training_loss 0.46946,   Relative Error 0.23564\n",
      "Training_loss 0.46780,   Relative Error 0.23523\n"
     ]
    },
    {
     "name": "stderr",
     "output_type": "stream",
     "text": [
      "\r",
      " 34%|███▍      | 678/2000 [01:29<01:53, 11.66it/s]"
     ]
    },
    {
     "name": "stdout",
     "output_type": "stream",
     "text": [
      "Training_loss 0.46662,   Relative Error 0.23493\n",
      "Training_loss 0.46430,   Relative Error 0.23435\n",
      "Training_loss 0.46193,   Relative Error 0.23375\n"
     ]
    },
    {
     "name": "stderr",
     "output_type": "stream",
     "text": [
      " 34%|███▍      | 682/2000 [01:29<01:56, 11.27it/s]"
     ]
    },
    {
     "name": "stdout",
     "output_type": "stream",
     "text": [
      "Training_loss 0.46026,   Relative Error 0.23333\n",
      "Training_loss 0.45855,   Relative Error 0.23289\n",
      "Training_loss 0.45647,   Relative Error 0.23237\n"
     ]
    },
    {
     "name": "stderr",
     "output_type": "stream",
     "text": [
      "\r",
      " 34%|███▍      | 684/2000 [01:29<01:53, 11.56it/s]"
     ]
    },
    {
     "name": "stdout",
     "output_type": "stream",
     "text": [
      "Training_loss 0.45422,   Relative Error 0.23180\n",
      "Training_loss 0.45211,   Relative Error 0.23125\n",
      "Training_loss 0.44917,   Relative Error 0.23050\n"
     ]
    },
    {
     "name": "stderr",
     "output_type": "stream",
     "text": [
      " 34%|███▍      | 688/2000 [01:30<01:50, 11.90it/s]"
     ]
    },
    {
     "name": "stdout",
     "output_type": "stream",
     "text": [
      "Training_loss 0.44745,   Relative Error 0.23006\n",
      "Training_loss 0.44506,   Relative Error 0.22944\n",
      "Training_loss 0.44308,   Relative Error 0.22893\n"
     ]
    },
    {
     "name": "stderr",
     "output_type": "stream",
     "text": [
      "\r",
      " 34%|███▍      | 690/2000 [01:30<01:50, 11.85it/s]"
     ]
    },
    {
     "name": "stdout",
     "output_type": "stream",
     "text": [
      "Training_loss 0.44214,   Relative Error 0.22869\n",
      "Training_loss 0.43979,   Relative Error 0.22808\n",
      "Training_loss 0.43754,   Relative Error 0.22749\n"
     ]
    },
    {
     "name": "stderr",
     "output_type": "stream",
     "text": [
      " 35%|███▍      | 694/2000 [01:30<01:48, 12.02it/s]"
     ]
    },
    {
     "name": "stdout",
     "output_type": "stream",
     "text": [
      "Training_loss 0.43612,   Relative Error 0.22713\n",
      "Training_loss 0.43371,   Relative Error 0.22649\n",
      "Training_loss 0.43200,   Relative Error 0.22605\n"
     ]
    },
    {
     "name": "stderr",
     "output_type": "stream",
     "text": [
      "\r",
      " 35%|███▍      | 696/2000 [01:30<01:55, 11.31it/s]"
     ]
    },
    {
     "name": "stdout",
     "output_type": "stream",
     "text": [
      "Training_loss 0.43003,   Relative Error 0.22553\n",
      "Training_loss 0.42814,   Relative Error 0.22504\n",
      "Training_loss 0.42584,   Relative Error 0.22444\n"
     ]
    },
    {
     "name": "stderr",
     "output_type": "stream",
     "text": [
      " 35%|███▌      | 700/2000 [01:31<01:48, 12.00it/s]"
     ]
    },
    {
     "name": "stdout",
     "output_type": "stream",
     "text": [
      "Training_loss 0.42369,   Relative Error 0.22386\n",
      "Training_loss 0.42157,   Relative Error 0.22330\n",
      "Training_loss 0.41916,   Relative Error 0.22266\n"
     ]
    },
    {
     "name": "stderr",
     "output_type": "stream",
     "text": [
      " 35%|███▌      | 704/2000 [01:31<01:39, 13.07it/s]"
     ]
    },
    {
     "name": "stdout",
     "output_type": "stream",
     "text": [
      "Training_loss 0.41755,   Relative Error 0.22223\n",
      "Training_loss 0.41617,   Relative Error 0.22186\n",
      "Training_loss 0.41490,   Relative Error 0.22152\n",
      "Training_loss 0.41271,   Relative Error 0.22094\n"
     ]
    },
    {
     "name": "stderr",
     "output_type": "stream",
     "text": [
      " 35%|███▌      | 708/2000 [01:31<01:35, 13.57it/s]"
     ]
    },
    {
     "name": "stdout",
     "output_type": "stream",
     "text": [
      "Training_loss 0.41088,   Relative Error 0.22044\n",
      "Training_loss 0.40891,   Relative Error 0.21992\n",
      "Training_loss 0.40719,   Relative Error 0.21946\n",
      "Training_loss 0.40455,   Relative Error 0.21875\n"
     ]
    },
    {
     "name": "stderr",
     "output_type": "stream",
     "text": [
      "\r",
      " 36%|███▌      | 710/2000 [01:31<01:35, 13.48it/s]"
     ]
    },
    {
     "name": "stdout",
     "output_type": "stream",
     "text": [
      "Training_loss 0.40204,   Relative Error 0.21806\n",
      "Training_loss 0.40014,   Relative Error 0.21754\n",
      "Training_loss 0.39845,   Relative Error 0.21708\n"
     ]
    },
    {
     "name": "stderr",
     "output_type": "stream",
     "text": [
      " 36%|███▌      | 714/2000 [01:32<01:45, 12.20it/s]"
     ]
    },
    {
     "name": "stdout",
     "output_type": "stream",
     "text": [
      "Training_loss 0.39725,   Relative Error 0.21675\n",
      "Training_loss 0.39572,   Relative Error 0.21633\n",
      "Training_loss 0.39445,   Relative Error 0.21598\n"
     ]
    },
    {
     "name": "stderr",
     "output_type": "stream",
     "text": [
      "\r",
      " 36%|███▌      | 716/2000 [01:32<01:40, 12.72it/s]"
     ]
    },
    {
     "name": "stdout",
     "output_type": "stream",
     "text": [
      "Training_loss 0.39225,   Relative Error 0.21537\n",
      "Training_loss 0.38990,   Relative Error 0.21472\n",
      "Training_loss 0.38776,   Relative Error 0.21413\n"
     ]
    },
    {
     "name": "stderr",
     "output_type": "stream",
     "text": [
      " 36%|███▌      | 720/2000 [01:32<01:40, 12.72it/s]"
     ]
    },
    {
     "name": "stdout",
     "output_type": "stream",
     "text": [
      "Training_loss 0.38652,   Relative Error 0.21378\n",
      "Training_loss 0.38373,   Relative Error 0.21301\n",
      "Training_loss 0.38181,   Relative Error 0.21248\n"
     ]
    },
    {
     "name": "stderr",
     "output_type": "stream",
     "text": [
      "\r",
      " 36%|███▌      | 722/2000 [01:32<01:47, 11.89it/s]"
     ]
    },
    {
     "name": "stdout",
     "output_type": "stream",
     "text": [
      "Training_loss 0.38049,   Relative Error 0.21211\n",
      "Training_loss 0.37882,   Relative Error 0.21164\n",
      "Training_loss 0.37736,   Relative Error 0.21123\n"
     ]
    },
    {
     "name": "stderr",
     "output_type": "stream",
     "text": [
      " 36%|███▋      | 726/2000 [01:33<01:48, 11.78it/s]"
     ]
    },
    {
     "name": "stdout",
     "output_type": "stream",
     "text": [
      "Training_loss 0.37608,   Relative Error 0.21087\n",
      "Training_loss 0.37452,   Relative Error 0.21043\n",
      "Training_loss 0.37343,   Relative Error 0.21012\n"
     ]
    },
    {
     "name": "stderr",
     "output_type": "stream",
     "text": [
      "\r",
      " 36%|███▋      | 728/2000 [01:33<01:46, 11.95it/s]"
     ]
    },
    {
     "name": "stdout",
     "output_type": "stream",
     "text": [
      "Training_loss 0.37235,   Relative Error 0.20982\n",
      "Training_loss 0.37058,   Relative Error 0.20932\n",
      "Training_loss 0.36942,   Relative Error 0.20900\n"
     ]
    },
    {
     "name": "stderr",
     "output_type": "stream",
     "text": [
      " 37%|███▋      | 732/2000 [01:33<01:46, 11.86it/s]"
     ]
    },
    {
     "name": "stdout",
     "output_type": "stream",
     "text": [
      "Training_loss 0.36801,   Relative Error 0.20860\n",
      "Training_loss 0.36558,   Relative Error 0.20790\n",
      "Training_loss 0.36463,   Relative Error 0.20763\n"
     ]
    },
    {
     "name": "stderr",
     "output_type": "stream",
     "text": [
      "\r",
      " 37%|███▋      | 734/2000 [01:33<01:41, 12.51it/s]"
     ]
    },
    {
     "name": "stdout",
     "output_type": "stream",
     "text": [
      "Training_loss 0.36290,   Relative Error 0.20714\n",
      "Training_loss 0.36083,   Relative Error 0.20654\n",
      "Training_loss 0.35943,   Relative Error 0.20614\n"
     ]
    },
    {
     "name": "stderr",
     "output_type": "stream",
     "text": [
      " 37%|███▋      | 738/2000 [01:34<01:41, 12.49it/s]"
     ]
    },
    {
     "name": "stdout",
     "output_type": "stream",
     "text": [
      "Training_loss 0.35779,   Relative Error 0.20566\n",
      "Training_loss 0.35545,   Relative Error 0.20499\n",
      "Training_loss 0.35442,   Relative Error 0.20470\n"
     ]
    },
    {
     "name": "stderr",
     "output_type": "stream",
     "text": [
      "\r",
      " 37%|███▋      | 740/2000 [01:34<01:42, 12.35it/s]"
     ]
    },
    {
     "name": "stdout",
     "output_type": "stream",
     "text": [
      "Training_loss 0.35295,   Relative Error 0.20427\n",
      "Training_loss 0.35207,   Relative Error 0.20402\n",
      "Training_loss 0.35071,   Relative Error 0.20362\n"
     ]
    },
    {
     "name": "stderr",
     "output_type": "stream",
     "text": [
      " 37%|███▋      | 744/2000 [01:34<01:44, 12.06it/s]"
     ]
    },
    {
     "name": "stdout",
     "output_type": "stream",
     "text": [
      "Training_loss 0.34961,   Relative Error 0.20330\n",
      "Training_loss 0.34758,   Relative Error 0.20270\n",
      "Training_loss 0.34613,   Relative Error 0.20228\n"
     ]
    },
    {
     "name": "stderr",
     "output_type": "stream",
     "text": [
      "\r",
      " 37%|███▋      | 746/2000 [01:34<01:46, 11.77it/s]"
     ]
    },
    {
     "name": "stdout",
     "output_type": "stream",
     "text": [
      "Training_loss 0.34455,   Relative Error 0.20181\n",
      "Training_loss 0.34330,   Relative Error 0.20145\n",
      "Training_loss 0.34182,   Relative Error 0.20101\n"
     ]
    },
    {
     "name": "stderr",
     "output_type": "stream",
     "text": [
      " 38%|███▊      | 750/2000 [01:35<01:50, 11.31it/s]"
     ]
    },
    {
     "name": "stdout",
     "output_type": "stream",
     "text": [
      "Training_loss 0.34014,   Relative Error 0.20051\n",
      "Training_loss 0.33856,   Relative Error 0.20005\n",
      "Training_loss 0.33770,   Relative Error 0.19980\n"
     ]
    },
    {
     "name": "stderr",
     "output_type": "stream",
     "text": [
      "\r",
      " 38%|███▊      | 752/2000 [01:35<01:49, 11.39it/s]"
     ]
    },
    {
     "name": "stdout",
     "output_type": "stream",
     "text": [
      "Training_loss 0.33611,   Relative Error 0.19933\n",
      "Training_loss 0.33447,   Relative Error 0.19884\n",
      "Training_loss 0.33308,   Relative Error 0.19842\n"
     ]
    },
    {
     "name": "stderr",
     "output_type": "stream",
     "text": [
      " 38%|███▊      | 756/2000 [01:35<01:46, 11.67it/s]"
     ]
    },
    {
     "name": "stdout",
     "output_type": "stream",
     "text": [
      "Training_loss 0.33135,   Relative Error 0.19791\n",
      "Training_loss 0.32920,   Relative Error 0.19727\n",
      "Training_loss 0.32819,   Relative Error 0.19696\n"
     ]
    },
    {
     "name": "stderr",
     "output_type": "stream",
     "text": [
      "\r",
      " 38%|███▊      | 758/2000 [01:35<01:53, 10.90it/s]"
     ]
    },
    {
     "name": "stdout",
     "output_type": "stream",
     "text": [
      "Training_loss 0.32708,   Relative Error 0.19662\n",
      "Training_loss 0.32604,   Relative Error 0.19631\n",
      "Training_loss 0.32496,   Relative Error 0.19599\n"
     ]
    },
    {
     "name": "stderr",
     "output_type": "stream",
     "text": [
      " 38%|███▊      | 762/2000 [01:36<01:57, 10.55it/s]"
     ]
    },
    {
     "name": "stdout",
     "output_type": "stream",
     "text": [
      "Training_loss 0.32342,   Relative Error 0.19552\n",
      "Training_loss 0.32207,   Relative Error 0.19511\n",
      "Training_loss 0.32086,   Relative Error 0.19474\n"
     ]
    },
    {
     "name": "stderr",
     "output_type": "stream",
     "text": [
      "\r",
      " 38%|███▊      | 764/2000 [01:36<01:54, 10.80it/s]"
     ]
    },
    {
     "name": "stdout",
     "output_type": "stream",
     "text": [
      "Training_loss 0.31907,   Relative Error 0.19419\n",
      "Training_loss 0.31680,   Relative Error 0.19350\n",
      "Training_loss 0.31597,   Relative Error 0.19325\n"
     ]
    },
    {
     "name": "stderr",
     "output_type": "stream",
     "text": [
      " 38%|███▊      | 768/2000 [01:36<01:49, 11.30it/s]"
     ]
    },
    {
     "name": "stdout",
     "output_type": "stream",
     "text": [
      "Training_loss 0.31483,   Relative Error 0.19290\n",
      "Training_loss 0.31415,   Relative Error 0.19270\n",
      "Training_loss 0.31277,   Relative Error 0.19227\n"
     ]
    },
    {
     "name": "stderr",
     "output_type": "stream",
     "text": [
      "\r",
      " 38%|███▊      | 770/2000 [01:37<01:46, 11.53it/s]"
     ]
    },
    {
     "name": "stdout",
     "output_type": "stream",
     "text": [
      "Training_loss 0.31182,   Relative Error 0.19198\n",
      "Training_loss 0.31084,   Relative Error 0.19168\n",
      "Training_loss 0.30962,   Relative Error 0.19130\n"
     ]
    },
    {
     "name": "stderr",
     "output_type": "stream",
     "text": [
      " 39%|███▊      | 774/2000 [01:37<01:50, 11.08it/s]"
     ]
    },
    {
     "name": "stdout",
     "output_type": "stream",
     "text": [
      "Training_loss 0.30868,   Relative Error 0.19101\n",
      "Training_loss 0.30747,   Relative Error 0.19064\n",
      "Training_loss 0.30608,   Relative Error 0.19021\n"
     ]
    },
    {
     "name": "stderr",
     "output_type": "stream",
     "text": [
      "\r",
      " 39%|███▉      | 776/2000 [01:37<01:42, 11.99it/s]"
     ]
    },
    {
     "name": "stdout",
     "output_type": "stream",
     "text": [
      "Training_loss 0.30480,   Relative Error 0.18981\n",
      "Training_loss 0.30383,   Relative Error 0.18951\n",
      "Training_loss 0.30283,   Relative Error 0.18919\n"
     ]
    },
    {
     "name": "stderr",
     "output_type": "stream",
     "text": [
      " 39%|███▉      | 780/2000 [01:37<01:42, 11.96it/s]"
     ]
    },
    {
     "name": "stdout",
     "output_type": "stream",
     "text": [
      "Training_loss 0.30144,   Relative Error 0.18876\n",
      "Training_loss 0.29979,   Relative Error 0.18824\n",
      "Training_loss 0.29894,   Relative Error 0.18797\n"
     ]
    },
    {
     "name": "stderr",
     "output_type": "stream",
     "text": [
      "\r",
      " 39%|███▉      | 782/2000 [01:38<01:44, 11.63it/s]"
     ]
    },
    {
     "name": "stdout",
     "output_type": "stream",
     "text": [
      "Training_loss 0.29795,   Relative Error 0.18766\n",
      "Training_loss 0.29653,   Relative Error 0.18721\n",
      "Training_loss 0.29471,   Relative Error 0.18663\n"
     ]
    },
    {
     "name": "stderr",
     "output_type": "stream",
     "text": [
      " 39%|███▉      | 786/2000 [01:38<01:43, 11.71it/s]"
     ]
    },
    {
     "name": "stdout",
     "output_type": "stream",
     "text": [
      "Training_loss 0.29322,   Relative Error 0.18616\n",
      "Training_loss 0.29228,   Relative Error 0.18587\n",
      "Training_loss 0.29115,   Relative Error 0.18550\n"
     ]
    },
    {
     "name": "stderr",
     "output_type": "stream",
     "text": [
      "\r",
      " 39%|███▉      | 788/2000 [01:38<01:45, 11.47it/s]"
     ]
    },
    {
     "name": "stdout",
     "output_type": "stream",
     "text": [
      "Training_loss 0.28966,   Relative Error 0.18502\n",
      "Training_loss 0.28807,   Relative Error 0.18451\n",
      "Training_loss 0.28654,   Relative Error 0.18402\n"
     ]
    },
    {
     "name": "stderr",
     "output_type": "stream",
     "text": [
      " 40%|███▉      | 792/2000 [01:38<01:46, 11.31it/s]"
     ]
    },
    {
     "name": "stdout",
     "output_type": "stream",
     "text": [
      "Training_loss 0.28523,   Relative Error 0.18360\n",
      "Training_loss 0.28412,   Relative Error 0.18324\n",
      "Training_loss 0.28253,   Relative Error 0.18273\n"
     ]
    },
    {
     "name": "stderr",
     "output_type": "stream",
     "text": [
      "\r",
      " 40%|███▉      | 794/2000 [01:39<01:39, 12.09it/s]"
     ]
    },
    {
     "name": "stdout",
     "output_type": "stream",
     "text": [
      "Training_loss 0.28112,   Relative Error 0.18227\n",
      "Training_loss 0.27997,   Relative Error 0.18190\n",
      "Training_loss 0.27892,   Relative Error 0.18156\n"
     ]
    },
    {
     "name": "stderr",
     "output_type": "stream",
     "text": [
      " 40%|███▉      | 798/2000 [01:39<01:46, 11.31it/s]"
     ]
    },
    {
     "name": "stdout",
     "output_type": "stream",
     "text": [
      "Training_loss 0.27770,   Relative Error 0.18117\n",
      "Training_loss 0.27675,   Relative Error 0.18086\n",
      "Training_loss 0.27606,   Relative Error 0.18063\n"
     ]
    },
    {
     "name": "stderr",
     "output_type": "stream",
     "text": [
      "\r",
      " 40%|████      | 800/2000 [01:39<01:39, 12.12it/s]"
     ]
    },
    {
     "name": "stdout",
     "output_type": "stream",
     "text": [
      "Training_loss 0.27482,   Relative Error 0.18021\n",
      "Training_loss 0.27390,   Relative Error 0.17991\n",
      "Training_loss 0.27324,   Relative Error 0.17969\n"
     ]
    },
    {
     "name": "stderr",
     "output_type": "stream",
     "text": [
      " 40%|████      | 804/2000 [01:39<01:36, 12.35it/s]"
     ]
    },
    {
     "name": "stdout",
     "output_type": "stream",
     "text": [
      "Training_loss 0.27209,   Relative Error 0.17931\n",
      "Training_loss 0.27115,   Relative Error 0.17900\n",
      "Training_loss 0.26998,   Relative Error 0.17862\n"
     ]
    },
    {
     "name": "stderr",
     "output_type": "stream",
     "text": [
      "\r",
      " 40%|████      | 806/2000 [01:40<01:33, 12.81it/s]"
     ]
    },
    {
     "name": "stdout",
     "output_type": "stream",
     "text": [
      "Training_loss 0.26854,   Relative Error 0.17815\n",
      "Training_loss 0.26760,   Relative Error 0.17783\n",
      "Training_loss 0.26651,   Relative Error 0.17747\n"
     ]
    },
    {
     "name": "stderr",
     "output_type": "stream",
     "text": [
      " 40%|████      | 810/2000 [01:40<01:28, 13.40it/s]"
     ]
    },
    {
     "name": "stdout",
     "output_type": "stream",
     "text": [
      "Training_loss 0.26565,   Relative Error 0.17718\n",
      "Training_loss 0.26441,   Relative Error 0.17677\n",
      "Training_loss 0.26338,   Relative Error 0.17643\n"
     ]
    },
    {
     "name": "stderr",
     "output_type": "stream",
     "text": [
      "\r",
      " 41%|████      | 812/2000 [01:40<01:31, 13.03it/s]"
     ]
    },
    {
     "name": "stdout",
     "output_type": "stream",
     "text": [
      "Training_loss 0.26206,   Relative Error 0.17598\n",
      "Training_loss 0.26140,   Relative Error 0.17576\n",
      "Training_loss 0.26091,   Relative Error 0.17559\n"
     ]
    },
    {
     "name": "stderr",
     "output_type": "stream",
     "text": [
      "\r",
      " 41%|████      | 814/2000 [01:40<01:31, 12.97it/s]"
     ]
    },
    {
     "name": "stdout",
     "output_type": "stream",
     "text": [
      "Training_loss 0.25959,   Relative Error 0.17515\n",
      "Training_loss 0.25905,   Relative Error 0.17497\n"
     ]
    },
    {
     "name": "stderr",
     "output_type": "stream",
     "text": [
      " 41%|████      | 818/2000 [01:41<01:39, 11.91it/s]"
     ]
    },
    {
     "name": "stdout",
     "output_type": "stream",
     "text": [
      "Training_loss 0.25805,   Relative Error 0.17463\n",
      "Training_loss 0.25741,   Relative Error 0.17441\n",
      "Training_loss 0.25625,   Relative Error 0.17402\n"
     ]
    },
    {
     "name": "stderr",
     "output_type": "stream",
     "text": [
      "\r",
      " 41%|████      | 820/2000 [01:41<01:40, 11.79it/s]"
     ]
    },
    {
     "name": "stdout",
     "output_type": "stream",
     "text": [
      "Training_loss 0.25554,   Relative Error 0.17378\n",
      "Training_loss 0.25413,   Relative Error 0.17330\n",
      "Training_loss 0.25300,   Relative Error 0.17291\n"
     ]
    },
    {
     "name": "stderr",
     "output_type": "stream",
     "text": [
      " 41%|████      | 824/2000 [01:41<01:33, 12.60it/s]"
     ]
    },
    {
     "name": "stdout",
     "output_type": "stream",
     "text": [
      "Training_loss 0.25171,   Relative Error 0.17247\n",
      "Training_loss 0.25111,   Relative Error 0.17226\n",
      "Training_loss 0.25055,   Relative Error 0.17207\n"
     ]
    },
    {
     "name": "stderr",
     "output_type": "stream",
     "text": [
      "\r",
      " 41%|████▏     | 826/2000 [01:41<01:43, 11.34it/s]"
     ]
    },
    {
     "name": "stdout",
     "output_type": "stream",
     "text": [
      "Training_loss 0.24986,   Relative Error 0.17183\n",
      "Training_loss 0.24867,   Relative Error 0.17143\n",
      "Training_loss 0.24808,   Relative Error 0.17122\n"
     ]
    },
    {
     "name": "stderr",
     "output_type": "stream",
     "text": [
      " 42%|████▏     | 830/2000 [01:41<01:30, 12.94it/s]"
     ]
    },
    {
     "name": "stdout",
     "output_type": "stream",
     "text": [
      "Training_loss 0.24754,   Relative Error 0.17103\n",
      "Training_loss 0.24669,   Relative Error 0.17074\n",
      "Training_loss 0.24532,   Relative Error 0.17026\n",
      "Training_loss 0.24466,   Relative Error 0.17003\n"
     ]
    },
    {
     "name": "stderr",
     "output_type": "stream",
     "text": [
      " 42%|████▏     | 834/2000 [01:42<01:27, 13.30it/s]"
     ]
    },
    {
     "name": "stdout",
     "output_type": "stream",
     "text": [
      "Training_loss 0.24354,   Relative Error 0.16964\n",
      "Training_loss 0.24262,   Relative Error 0.16932\n",
      "Training_loss 0.24159,   Relative Error 0.16895\n"
     ]
    },
    {
     "name": "stderr",
     "output_type": "stream",
     "text": [
      "\r",
      " 42%|████▏     | 836/2000 [01:42<01:33, 12.43it/s]"
     ]
    },
    {
     "name": "stdout",
     "output_type": "stream",
     "text": [
      "Training_loss 0.24045,   Relative Error 0.16856\n",
      "Training_loss 0.23941,   Relative Error 0.16820\n",
      "Training_loss 0.23851,   Relative Error 0.16788\n"
     ]
    },
    {
     "name": "stderr",
     "output_type": "stream",
     "text": [
      " 42%|████▏     | 840/2000 [01:42<01:40, 11.52it/s]"
     ]
    },
    {
     "name": "stdout",
     "output_type": "stream",
     "text": [
      "Training_loss 0.23805,   Relative Error 0.16772\n",
      "Training_loss 0.23699,   Relative Error 0.16735\n",
      "Training_loss 0.23610,   Relative Error 0.16703\n"
     ]
    },
    {
     "name": "stderr",
     "output_type": "stream",
     "text": [
      "\r",
      " 42%|████▏     | 842/2000 [01:43<01:46, 10.90it/s]"
     ]
    },
    {
     "name": "stdout",
     "output_type": "stream",
     "text": [
      "Training_loss 0.23554,   Relative Error 0.16683\n",
      "Training_loss 0.23498,   Relative Error 0.16664\n",
      "Training_loss 0.23457,   Relative Error 0.16649\n"
     ]
    },
    {
     "name": "stderr",
     "output_type": "stream",
     "text": [
      "\r",
      " 42%|████▏     | 844/2000 [01:43<01:48, 10.65it/s]"
     ]
    },
    {
     "name": "stdout",
     "output_type": "stream",
     "text": [
      "Training_loss 0.23327,   Relative Error 0.16602\n",
      "Training_loss 0.23223,   Relative Error 0.16566\n"
     ]
    },
    {
     "name": "stderr",
     "output_type": "stream",
     "text": [
      "\r",
      " 42%|████▏     | 846/2000 [01:43<01:54, 10.04it/s]"
     ]
    },
    {
     "name": "stdout",
     "output_type": "stream",
     "text": [
      "Training_loss 0.23139,   Relative Error 0.16535\n",
      "Training_loss 0.23052,   Relative Error 0.16504\n"
     ]
    },
    {
     "name": "stderr",
     "output_type": "stream",
     "text": [
      " 42%|████▏     | 849/2000 [01:43<02:02,  9.39it/s]"
     ]
    },
    {
     "name": "stdout",
     "output_type": "stream",
     "text": [
      "Training_loss 0.22946,   Relative Error 0.16466\n",
      "Training_loss 0.22870,   Relative Error 0.16439\n"
     ]
    },
    {
     "name": "stderr",
     "output_type": "stream",
     "text": [
      " 43%|████▎     | 851/2000 [01:44<02:08,  8.92it/s]"
     ]
    },
    {
     "name": "stdout",
     "output_type": "stream",
     "text": [
      "Training_loss 0.22765,   Relative Error 0.16402\n",
      "Training_loss 0.22629,   Relative Error 0.16353\n"
     ]
    },
    {
     "name": "stderr",
     "output_type": "stream",
     "text": [
      "\r",
      " 43%|████▎     | 853/2000 [01:44<01:57,  9.73it/s]"
     ]
    },
    {
     "name": "stdout",
     "output_type": "stream",
     "text": [
      "Training_loss 0.22536,   Relative Error 0.16319\n",
      "Training_loss 0.22424,   Relative Error 0.16278\n",
      "Training_loss 0.22317,   Relative Error 0.16239\n"
     ]
    },
    {
     "name": "stderr",
     "output_type": "stream",
     "text": [
      " 43%|████▎     | 857/2000 [01:44<01:46, 10.78it/s]"
     ]
    },
    {
     "name": "stdout",
     "output_type": "stream",
     "text": [
      "Training_loss 0.22240,   Relative Error 0.16211\n",
      "Training_loss 0.22152,   Relative Error 0.16179\n",
      "Training_loss 0.22054,   Relative Error 0.16143\n"
     ]
    },
    {
     "name": "stderr",
     "output_type": "stream",
     "text": [
      "\r",
      " 43%|████▎     | 859/2000 [01:44<01:42, 11.12it/s]"
     ]
    },
    {
     "name": "stdout",
     "output_type": "stream",
     "text": [
      "Training_loss 0.21970,   Relative Error 0.16112\n",
      "Training_loss 0.21889,   Relative Error 0.16083\n",
      "Training_loss 0.21759,   Relative Error 0.16036\n"
     ]
    },
    {
     "name": "stderr",
     "output_type": "stream",
     "text": [
      " 43%|████▎     | 863/2000 [01:45<01:43, 11.01it/s]"
     ]
    },
    {
     "name": "stdout",
     "output_type": "stream",
     "text": [
      "Training_loss 0.21636,   Relative Error 0.15991\n",
      "Training_loss 0.21516,   Relative Error 0.15947\n",
      "Training_loss 0.21461,   Relative Error 0.15927\n"
     ]
    },
    {
     "name": "stderr",
     "output_type": "stream",
     "text": [
      "\r",
      " 43%|████▎     | 865/2000 [01:45<01:35, 11.83it/s]"
     ]
    },
    {
     "name": "stdout",
     "output_type": "stream",
     "text": [
      "Training_loss 0.21331,   Relative Error 0.15878\n",
      "Training_loss 0.21242,   Relative Error 0.15845\n",
      "Training_loss 0.21156,   Relative Error 0.15813\n"
     ]
    },
    {
     "name": "stderr",
     "output_type": "stream",
     "text": [
      " 43%|████▎     | 869/2000 [01:45<01:33, 12.13it/s]"
     ]
    },
    {
     "name": "stdout",
     "output_type": "stream",
     "text": [
      "Training_loss 0.21077,   Relative Error 0.15783\n",
      "Training_loss 0.20991,   Relative Error 0.15751\n",
      "Training_loss 0.20894,   Relative Error 0.15714\n"
     ]
    },
    {
     "name": "stderr",
     "output_type": "stream",
     "text": [
      "\r",
      " 44%|████▎     | 871/2000 [01:45<01:35, 11.88it/s]"
     ]
    },
    {
     "name": "stdout",
     "output_type": "stream",
     "text": [
      "Training_loss 0.20795,   Relative Error 0.15677\n",
      "Training_loss 0.20687,   Relative Error 0.15637\n",
      "Training_loss 0.20584,   Relative Error 0.15597\n"
     ]
    },
    {
     "name": "stderr",
     "output_type": "stream",
     "text": [
      " 44%|████▍     | 875/2000 [01:46<01:38, 11.41it/s]"
     ]
    },
    {
     "name": "stdout",
     "output_type": "stream",
     "text": [
      "Training_loss 0.20469,   Relative Error 0.15554\n",
      "Training_loss 0.20415,   Relative Error 0.15534\n",
      "Training_loss 0.20348,   Relative Error 0.15508\n"
     ]
    },
    {
     "name": "stderr",
     "output_type": "stream",
     "text": [
      "\r",
      " 44%|████▍     | 877/2000 [01:46<01:34, 11.93it/s]"
     ]
    },
    {
     "name": "stdout",
     "output_type": "stream",
     "text": [
      "Training_loss 0.20244,   Relative Error 0.15468\n",
      "Training_loss 0.20156,   Relative Error 0.15435\n",
      "Training_loss 0.20099,   Relative Error 0.15413\n"
     ]
    },
    {
     "name": "stderr",
     "output_type": "stream",
     "text": [
      " 44%|████▍     | 881/2000 [01:46<01:31, 12.19it/s]"
     ]
    },
    {
     "name": "stdout",
     "output_type": "stream",
     "text": [
      "Training_loss 0.20028,   Relative Error 0.15385\n",
      "Training_loss 0.19942,   Relative Error 0.15352\n",
      "Training_loss 0.19894,   Relative Error 0.15334\n"
     ]
    },
    {
     "name": "stderr",
     "output_type": "stream",
     "text": [
      "\r",
      " 44%|████▍     | 883/2000 [01:46<01:29, 12.49it/s]"
     ]
    },
    {
     "name": "stdout",
     "output_type": "stream",
     "text": [
      "Training_loss 0.19826,   Relative Error 0.15308\n",
      "Training_loss 0.19751,   Relative Error 0.15279\n",
      "Training_loss 0.19704,   Relative Error 0.15261\n"
     ]
    },
    {
     "name": "stderr",
     "output_type": "stream",
     "text": [
      " 44%|████▍     | 887/2000 [01:47<01:39, 11.16it/s]"
     ]
    },
    {
     "name": "stdout",
     "output_type": "stream",
     "text": [
      "Training_loss 0.19657,   Relative Error 0.15242\n",
      "Training_loss 0.19611,   Relative Error 0.15224\n",
      "Training_loss 0.19562,   Relative Error 0.15205\n"
     ]
    },
    {
     "name": "stderr",
     "output_type": "stream",
     "text": [
      "\r",
      " 44%|████▍     | 889/2000 [01:47<01:34, 11.73it/s]"
     ]
    },
    {
     "name": "stdout",
     "output_type": "stream",
     "text": [
      "Training_loss 0.19475,   Relative Error 0.15171\n",
      "Training_loss 0.19386,   Relative Error 0.15137\n",
      "Training_loss 0.19326,   Relative Error 0.15113\n"
     ]
    },
    {
     "name": "stderr",
     "output_type": "stream",
     "text": [
      " 45%|████▍     | 893/2000 [01:47<01:24, 13.03it/s]"
     ]
    },
    {
     "name": "stdout",
     "output_type": "stream",
     "text": [
      "Training_loss 0.19213,   Relative Error 0.15069\n",
      "Training_loss 0.19109,   Relative Error 0.15028\n",
      "Training_loss 0.18997,   Relative Error 0.14984\n"
     ]
    },
    {
     "name": "stderr",
     "output_type": "stream",
     "text": [
      "\r",
      " 45%|████▍     | 895/2000 [01:47<01:25, 12.95it/s]"
     ]
    },
    {
     "name": "stdout",
     "output_type": "stream",
     "text": [
      "Training_loss 0.18944,   Relative Error 0.14963\n",
      "Training_loss 0.18883,   Relative Error 0.14939\n",
      "Training_loss 0.18824,   Relative Error 0.14915\n"
     ]
    },
    {
     "name": "stderr",
     "output_type": "stream",
     "text": [
      " 45%|████▍     | 899/2000 [01:48<01:30, 12.21it/s]"
     ]
    },
    {
     "name": "stdout",
     "output_type": "stream",
     "text": [
      "Training_loss 0.18702,   Relative Error 0.14867\n",
      "Training_loss 0.18637,   Relative Error 0.14841\n",
      "Training_loss 0.18593,   Relative Error 0.14823\n"
     ]
    },
    {
     "name": "stderr",
     "output_type": "stream",
     "text": [
      "\r",
      " 45%|████▌     | 901/2000 [01:48<01:34, 11.68it/s]"
     ]
    },
    {
     "name": "stdout",
     "output_type": "stream",
     "text": [
      "Training_loss 0.18519,   Relative Error 0.14793\n",
      "Training_loss 0.18418,   Relative Error 0.14753\n",
      "Training_loss 0.18315,   Relative Error 0.14712\n"
     ]
    },
    {
     "name": "stderr",
     "output_type": "stream",
     "text": [
      " 45%|████▌     | 905/2000 [01:48<01:27, 12.50it/s]"
     ]
    },
    {
     "name": "stdout",
     "output_type": "stream",
     "text": [
      "Training_loss 0.18243,   Relative Error 0.14683\n",
      "Training_loss 0.18155,   Relative Error 0.14647\n",
      "Training_loss 0.18067,   Relative Error 0.14611\n"
     ]
    },
    {
     "name": "stderr",
     "output_type": "stream",
     "text": [
      "\r",
      " 45%|████▌     | 907/2000 [01:48<01:24, 12.94it/s]"
     ]
    },
    {
     "name": "stdout",
     "output_type": "stream",
     "text": [
      "Training_loss 0.17996,   Relative Error 0.14583\n",
      "Training_loss 0.17927,   Relative Error 0.14555\n",
      "Training_loss 0.17863,   Relative Error 0.14528\n"
     ]
    },
    {
     "name": "stderr",
     "output_type": "stream",
     "text": [
      " 46%|████▌     | 911/2000 [01:48<01:26, 12.55it/s]"
     ]
    },
    {
     "name": "stdout",
     "output_type": "stream",
     "text": [
      "Training_loss 0.17784,   Relative Error 0.14496\n",
      "Training_loss 0.17697,   Relative Error 0.14461\n",
      "Training_loss 0.17583,   Relative Error 0.14414\n"
     ]
    },
    {
     "name": "stderr",
     "output_type": "stream",
     "text": [
      " 46%|████▌     | 915/2000 [01:49<01:21, 13.35it/s]"
     ]
    },
    {
     "name": "stdout",
     "output_type": "stream",
     "text": [
      "Training_loss 0.17486,   Relative Error 0.14375\n",
      "Training_loss 0.17431,   Relative Error 0.14352\n",
      "Training_loss 0.17380,   Relative Error 0.14331\n",
      "Training_loss 0.17249,   Relative Error 0.14277\n"
     ]
    },
    {
     "name": "stderr",
     "output_type": "stream",
     "text": [
      "\r",
      " 46%|████▌     | 917/2000 [01:49<01:21, 13.31it/s]"
     ]
    },
    {
     "name": "stdout",
     "output_type": "stream",
     "text": [
      "Training_loss 0.17175,   Relative Error 0.14246\n",
      "Training_loss 0.17128,   Relative Error 0.14226\n",
      "Training_loss 0.17065,   Relative Error 0.14200\n"
     ]
    },
    {
     "name": "stderr",
     "output_type": "stream",
     "text": [
      " 46%|████▌     | 921/2000 [01:49<01:32, 11.70it/s]"
     ]
    },
    {
     "name": "stdout",
     "output_type": "stream",
     "text": [
      "Training_loss 0.16970,   Relative Error 0.14160\n",
      "Training_loss 0.16899,   Relative Error 0.14131\n",
      "Training_loss 0.16848,   Relative Error 0.14110\n"
     ]
    },
    {
     "name": "stderr",
     "output_type": "stream",
     "text": [
      "\r",
      " 46%|████▌     | 923/2000 [01:50<01:42, 10.49it/s]"
     ]
    },
    {
     "name": "stdout",
     "output_type": "stream",
     "text": [
      "Training_loss 0.16787,   Relative Error 0.14084\n",
      "Training_loss 0.16736,   Relative Error 0.14062\n"
     ]
    },
    {
     "name": "stderr",
     "output_type": "stream",
     "text": [
      "\r",
      " 46%|████▋     | 925/2000 [01:50<01:39, 10.81it/s]"
     ]
    },
    {
     "name": "stdout",
     "output_type": "stream",
     "text": [
      "Training_loss 0.16672,   Relative Error 0.14035\n",
      "Training_loss 0.16595,   Relative Error 0.14003\n",
      "Training_loss 0.16545,   Relative Error 0.13982\n"
     ]
    },
    {
     "name": "stderr",
     "output_type": "stream",
     "text": [
      " 46%|████▋     | 929/2000 [01:50<01:38, 10.88it/s]"
     ]
    },
    {
     "name": "stdout",
     "output_type": "stream",
     "text": [
      "Training_loss 0.16510,   Relative Error 0.13967\n",
      "Training_loss 0.16474,   Relative Error 0.13952\n",
      "Training_loss 0.16421,   Relative Error 0.13929\n"
     ]
    },
    {
     "name": "stderr",
     "output_type": "stream",
     "text": [
      "\r",
      " 47%|████▋     | 931/2000 [01:50<01:36, 11.12it/s]"
     ]
    },
    {
     "name": "stdout",
     "output_type": "stream",
     "text": [
      "Training_loss 0.16358,   Relative Error 0.13902\n",
      "Training_loss 0.16279,   Relative Error 0.13869\n",
      "Training_loss 0.16215,   Relative Error 0.13842\n"
     ]
    },
    {
     "name": "stderr",
     "output_type": "stream",
     "text": [
      " 47%|████▋     | 935/2000 [01:51<01:24, 12.58it/s]"
     ]
    },
    {
     "name": "stdout",
     "output_type": "stream",
     "text": [
      "Training_loss 0.16159,   Relative Error 0.13818\n",
      "Training_loss 0.16084,   Relative Error 0.13786\n",
      "Training_loss 0.16016,   Relative Error 0.13757\n"
     ]
    },
    {
     "name": "stderr",
     "output_type": "stream",
     "text": [
      "\r",
      " 47%|████▋     | 937/2000 [01:51<01:30, 11.80it/s]"
     ]
    },
    {
     "name": "stdout",
     "output_type": "stream",
     "text": [
      "Training_loss 0.15952,   Relative Error 0.13729\n",
      "Training_loss 0.15897,   Relative Error 0.13705\n",
      "Training_loss 0.15845,   Relative Error 0.13683\n"
     ]
    },
    {
     "name": "stderr",
     "output_type": "stream",
     "text": [
      " 47%|████▋     | 941/2000 [01:51<01:29, 11.85it/s]"
     ]
    },
    {
     "name": "stdout",
     "output_type": "stream",
     "text": [
      "Training_loss 0.15781,   Relative Error 0.13655\n",
      "Training_loss 0.15711,   Relative Error 0.13625\n",
      "Training_loss 0.15652,   Relative Error 0.13599\n"
     ]
    },
    {
     "name": "stderr",
     "output_type": "stream",
     "text": [
      "\r",
      " 47%|████▋     | 943/2000 [01:51<01:33, 11.36it/s]"
     ]
    },
    {
     "name": "stdout",
     "output_type": "stream",
     "text": [
      "Training_loss 0.15597,   Relative Error 0.13575\n",
      "Training_loss 0.15533,   Relative Error 0.13548\n",
      "Training_loss 0.15459,   Relative Error 0.13516\n"
     ]
    },
    {
     "name": "stderr",
     "output_type": "stream",
     "text": [
      "\r",
      " 47%|████▋     | 945/2000 [01:52<01:50,  9.55it/s]"
     ]
    },
    {
     "name": "stdout",
     "output_type": "stream",
     "text": [
      "Training_loss 0.15393,   Relative Error 0.13486\n",
      "Training_loss 0.15339,   Relative Error 0.13462\n"
     ]
    },
    {
     "name": "stderr",
     "output_type": "stream",
     "text": [
      " 47%|████▋     | 948/2000 [01:52<02:50,  6.19it/s]"
     ]
    },
    {
     "name": "stdout",
     "output_type": "stream",
     "text": [
      "Training_loss 0.15274,   Relative Error 0.13434\n",
      "Training_loss 0.15216,   Relative Error 0.13409\n"
     ]
    },
    {
     "name": "stderr",
     "output_type": "stream",
     "text": [
      " 48%|████▊     | 950/2000 [01:53<02:51,  6.11it/s]"
     ]
    },
    {
     "name": "stdout",
     "output_type": "stream",
     "text": [
      "Training_loss 0.15148,   Relative Error 0.13378\n",
      "Training_loss 0.15046,   Relative Error 0.13334\n"
     ]
    },
    {
     "name": "stderr",
     "output_type": "stream",
     "text": [
      " 48%|████▊     | 952/2000 [01:53<02:43,  6.42it/s]"
     ]
    },
    {
     "name": "stdout",
     "output_type": "stream",
     "text": [
      "Training_loss 0.15000,   Relative Error 0.13313\n",
      "Training_loss 0.14916,   Relative Error 0.13276\n"
     ]
    },
    {
     "name": "stderr",
     "output_type": "stream",
     "text": [
      " 48%|████▊     | 954/2000 [01:53<02:31,  6.88it/s]"
     ]
    },
    {
     "name": "stdout",
     "output_type": "stream",
     "text": [
      "Training_loss 0.14867,   Relative Error 0.13254\n",
      "Training_loss 0.14775,   Relative Error 0.13213\n"
     ]
    },
    {
     "name": "stderr",
     "output_type": "stream",
     "text": [
      " 48%|████▊     | 957/2000 [01:53<01:59,  8.75it/s]"
     ]
    },
    {
     "name": "stdout",
     "output_type": "stream",
     "text": [
      "Training_loss 0.14711,   Relative Error 0.13184\n",
      "Training_loss 0.14663,   Relative Error 0.13163\n",
      "Training_loss 0.14605,   Relative Error 0.13137\n"
     ]
    },
    {
     "name": "stderr",
     "output_type": "stream",
     "text": [
      " 48%|████▊     | 960/2000 [01:54<01:44,  9.97it/s]"
     ]
    },
    {
     "name": "stdout",
     "output_type": "stream",
     "text": [
      "Training_loss 0.14520,   Relative Error 0.13098\n",
      "Training_loss 0.14462,   Relative Error 0.13072\n",
      "Training_loss 0.14382,   Relative Error 0.13036\n"
     ]
    },
    {
     "name": "stderr",
     "output_type": "stream",
     "text": [
      "\r",
      " 48%|████▊     | 962/2000 [01:54<01:35, 10.82it/s]"
     ]
    },
    {
     "name": "stdout",
     "output_type": "stream",
     "text": [
      "Training_loss 0.14329,   Relative Error 0.13012\n",
      "Training_loss 0.14302,   Relative Error 0.12999\n",
      "Training_loss 0.14247,   Relative Error 0.12974\n"
     ]
    },
    {
     "name": "stderr",
     "output_type": "stream",
     "text": [
      " 48%|████▊     | 966/2000 [01:54<01:31, 11.32it/s]"
     ]
    },
    {
     "name": "stdout",
     "output_type": "stream",
     "text": [
      "Training_loss 0.14184,   Relative Error 0.12946\n",
      "Training_loss 0.14131,   Relative Error 0.12921\n",
      "Training_loss 0.14075,   Relative Error 0.12896\n"
     ]
    },
    {
     "name": "stderr",
     "output_type": "stream",
     "text": [
      "\r",
      " 48%|████▊     | 968/2000 [01:54<01:32, 11.21it/s]"
     ]
    },
    {
     "name": "stdout",
     "output_type": "stream",
     "text": [
      "Training_loss 0.14031,   Relative Error 0.12876\n",
      "Training_loss 0.13969,   Relative Error 0.12847\n",
      "Training_loss 0.13935,   Relative Error 0.12832\n"
     ]
    },
    {
     "name": "stderr",
     "output_type": "stream",
     "text": [
      " 49%|████▊     | 972/2000 [01:55<01:28, 11.64it/s]"
     ]
    },
    {
     "name": "stdout",
     "output_type": "stream",
     "text": [
      "Training_loss 0.13897,   Relative Error 0.12814\n",
      "Training_loss 0.13843,   Relative Error 0.12789\n",
      "Training_loss 0.13792,   Relative Error 0.12766\n"
     ]
    },
    {
     "name": "stderr",
     "output_type": "stream",
     "text": [
      "\r",
      " 49%|████▊     | 974/2000 [01:55<01:35, 10.71it/s]"
     ]
    },
    {
     "name": "stdout",
     "output_type": "stream",
     "text": [
      "Training_loss 0.13753,   Relative Error 0.12748\n",
      "Training_loss 0.13693,   Relative Error 0.12720\n",
      "Training_loss 0.13628,   Relative Error 0.12689\n"
     ]
    },
    {
     "name": "stderr",
     "output_type": "stream",
     "text": [
      " 49%|████▉     | 978/2000 [01:55<01:29, 11.47it/s]"
     ]
    },
    {
     "name": "stdout",
     "output_type": "stream",
     "text": [
      "Training_loss 0.13561,   Relative Error 0.12658\n",
      "Training_loss 0.13501,   Relative Error 0.12630\n",
      "Training_loss 0.13445,   Relative Error 0.12604\n"
     ]
    },
    {
     "name": "stderr",
     "output_type": "stream",
     "text": [
      "\r",
      " 49%|████▉     | 980/2000 [01:56<01:32, 10.98it/s]"
     ]
    },
    {
     "name": "stdout",
     "output_type": "stream",
     "text": [
      "Training_loss 0.13359,   Relative Error 0.12563\n",
      "Training_loss 0.13301,   Relative Error 0.12536\n",
      "Training_loss 0.13261,   Relative Error 0.12517\n"
     ]
    },
    {
     "name": "stderr",
     "output_type": "stream",
     "text": [
      " 49%|████▉     | 984/2000 [01:56<01:23, 12.20it/s]"
     ]
    },
    {
     "name": "stdout",
     "output_type": "stream",
     "text": [
      "Training_loss 0.13171,   Relative Error 0.12475\n",
      "Training_loss 0.13121,   Relative Error 0.12451\n",
      "Training_loss 0.13069,   Relative Error 0.12427\n"
     ]
    },
    {
     "name": "stderr",
     "output_type": "stream",
     "text": [
      "\r",
      " 49%|████▉     | 986/2000 [01:56<01:22, 12.24it/s]"
     ]
    },
    {
     "name": "stdout",
     "output_type": "stream",
     "text": [
      "Training_loss 0.13026,   Relative Error 0.12406\n",
      "Training_loss 0.12973,   Relative Error 0.12380\n",
      "Training_loss 0.12908,   Relative Error 0.12350\n"
     ]
    },
    {
     "name": "stderr",
     "output_type": "stream",
     "text": [
      " 50%|████▉     | 990/2000 [01:56<01:23, 12.06it/s]"
     ]
    },
    {
     "name": "stdout",
     "output_type": "stream",
     "text": [
      "Training_loss 0.12840,   Relative Error 0.12317\n",
      "Training_loss 0.12791,   Relative Error 0.12294\n",
      "Training_loss 0.12749,   Relative Error 0.12273\n"
     ]
    },
    {
     "name": "stderr",
     "output_type": "stream",
     "text": [
      "\r",
      " 50%|████▉     | 992/2000 [01:56<01:18, 12.87it/s]"
     ]
    },
    {
     "name": "stdout",
     "output_type": "stream",
     "text": [
      "Training_loss 0.12715,   Relative Error 0.12257\n",
      "Training_loss 0.12642,   Relative Error 0.12221\n",
      "Training_loss 0.12583,   Relative Error 0.12193\n"
     ]
    },
    {
     "name": "stderr",
     "output_type": "stream",
     "text": [
      " 50%|████▉     | 996/2000 [01:57<01:22, 12.11it/s]"
     ]
    },
    {
     "name": "stdout",
     "output_type": "stream",
     "text": [
      "Training_loss 0.12515,   Relative Error 0.12160\n",
      "Training_loss 0.12453,   Relative Error 0.12129\n",
      "Training_loss 0.12378,   Relative Error 0.12093\n"
     ]
    },
    {
     "name": "stderr",
     "output_type": "stream",
     "text": [
      "\r",
      " 50%|████▉     | 998/2000 [01:57<01:24, 11.87it/s]"
     ]
    },
    {
     "name": "stdout",
     "output_type": "stream",
     "text": [
      "Training_loss 0.12330,   Relative Error 0.12069\n",
      "Training_loss 0.12270,   Relative Error 0.12040\n",
      "Training_loss 0.12236,   Relative Error 0.12023\n"
     ]
    },
    {
     "name": "stderr",
     "output_type": "stream",
     "text": [
      " 50%|█████     | 1002/2000 [01:57<01:23, 11.99it/s]"
     ]
    },
    {
     "name": "stdout",
     "output_type": "stream",
     "text": [
      "Training_loss 0.12173,   Relative Error 0.11993\n",
      "Training_loss 0.12107,   Relative Error 0.11960\n",
      "Training_loss 0.12065,   Relative Error 0.11939\n"
     ]
    },
    {
     "name": "stderr",
     "output_type": "stream",
     "text": [
      "\r",
      " 50%|█████     | 1004/2000 [01:57<01:23, 11.91it/s]"
     ]
    },
    {
     "name": "stdout",
     "output_type": "stream",
     "text": [
      "Training_loss 0.11995,   Relative Error 0.11904\n",
      "Training_loss 0.11938,   Relative Error 0.11876\n",
      "Training_loss 0.11882,   Relative Error 0.11848\n"
     ]
    },
    {
     "name": "stderr",
     "output_type": "stream",
     "text": [
      " 50%|█████     | 1008/2000 [01:58<01:14, 13.38it/s]"
     ]
    },
    {
     "name": "stdout",
     "output_type": "stream",
     "text": [
      "Training_loss 0.11822,   Relative Error 0.11818\n",
      "Training_loss 0.11754,   Relative Error 0.11784\n",
      "Training_loss 0.11708,   Relative Error 0.11761\n"
     ]
    },
    {
     "name": "stderr",
     "output_type": "stream",
     "text": [
      "\r",
      " 50%|█████     | 1010/2000 [01:58<01:15, 13.10it/s]"
     ]
    },
    {
     "name": "stdout",
     "output_type": "stream",
     "text": [
      "Training_loss 0.11663,   Relative Error 0.11738\n",
      "Training_loss 0.11634,   Relative Error 0.11723\n",
      "Training_loss 0.11566,   Relative Error 0.11689\n"
     ]
    },
    {
     "name": "stderr",
     "output_type": "stream",
     "text": [
      "\r",
      " 51%|█████     | 1012/2000 [01:58<01:19, 12.39it/s]"
     ]
    },
    {
     "name": "stdout",
     "output_type": "stream",
     "text": [
      "Training_loss 0.11523,   Relative Error 0.11667\n",
      "Training_loss 0.11485,   Relative Error 0.11648\n"
     ]
    },
    {
     "name": "stderr",
     "output_type": "stream",
     "text": [
      "\r",
      " 51%|█████     | 1014/2000 [01:58<01:26, 11.35it/s]"
     ]
    },
    {
     "name": "stdout",
     "output_type": "stream",
     "text": [
      "Training_loss 0.11419,   Relative Error 0.11614\n",
      "Training_loss 0.11368,   Relative Error 0.11588\n"
     ]
    },
    {
     "name": "stderr",
     "output_type": "stream",
     "text": [
      "\r",
      " 51%|█████     | 1016/2000 [01:59<01:34, 10.47it/s]"
     ]
    },
    {
     "name": "stdout",
     "output_type": "stream",
     "text": [
      "Training_loss 0.11304,   Relative Error 0.11556\n",
      "Training_loss 0.11259,   Relative Error 0.11532\n"
     ]
    },
    {
     "name": "stderr",
     "output_type": "stream",
     "text": [
      "\r",
      " 51%|█████     | 1018/2000 [01:59<01:40,  9.82it/s]"
     ]
    },
    {
     "name": "stdout",
     "output_type": "stream",
     "text": [
      "Training_loss 0.11201,   Relative Error 0.11502\n",
      "Training_loss 0.11160,   Relative Error 0.11481\n"
     ]
    },
    {
     "name": "stderr",
     "output_type": "stream",
     "text": [
      " 51%|█████     | 1021/2000 [01:59<01:53,  8.66it/s]"
     ]
    },
    {
     "name": "stdout",
     "output_type": "stream",
     "text": [
      "Training_loss 0.11122,   Relative Error 0.11462\n",
      "Training_loss 0.11082,   Relative Error 0.11441\n"
     ]
    },
    {
     "name": "stderr",
     "output_type": "stream",
     "text": [
      "\r",
      " 51%|█████     | 1023/2000 [01:59<01:46,  9.20it/s]"
     ]
    },
    {
     "name": "stdout",
     "output_type": "stream",
     "text": [
      "Training_loss 0.11025,   Relative Error 0.11412\n",
      "Training_loss 0.10959,   Relative Error 0.11378\n"
     ]
    },
    {
     "name": "stderr",
     "output_type": "stream",
     "text": [
      " 51%|█████▏    | 1025/2000 [02:00<01:52,  8.70it/s]"
     ]
    },
    {
     "name": "stdout",
     "output_type": "stream",
     "text": [
      "Training_loss 0.10904,   Relative Error 0.11349\n",
      "Training_loss 0.10858,   Relative Error 0.11325\n"
     ]
    },
    {
     "name": "stderr",
     "output_type": "stream",
     "text": [
      " 51%|█████▏    | 1028/2000 [02:00<01:39,  9.79it/s]"
     ]
    },
    {
     "name": "stdout",
     "output_type": "stream",
     "text": [
      "Training_loss 0.10823,   Relative Error 0.11307\n",
      "Training_loss 0.10774,   Relative Error 0.11281\n",
      "Training_loss 0.10712,   Relative Error 0.11249\n"
     ]
    },
    {
     "name": "stderr",
     "output_type": "stream",
     "text": [
      " 52%|█████▏    | 1030/2000 [02:00<01:45,  9.19it/s]"
     ]
    },
    {
     "name": "stdout",
     "output_type": "stream",
     "text": [
      "Training_loss 0.10665,   Relative Error 0.11224\n",
      "Training_loss 0.10598,   Relative Error 0.11189\n"
     ]
    },
    {
     "name": "stderr",
     "output_type": "stream",
     "text": [
      " 52%|█████▏    | 1032/2000 [02:00<01:46,  9.09it/s]"
     ]
    },
    {
     "name": "stdout",
     "output_type": "stream",
     "text": [
      "Training_loss 0.10575,   Relative Error 0.11176\n",
      "Training_loss 0.10530,   Relative Error 0.11153\n"
     ]
    },
    {
     "name": "stderr",
     "output_type": "stream",
     "text": [
      " 52%|█████▏    | 1034/2000 [02:01<01:50,  8.73it/s]"
     ]
    },
    {
     "name": "stdout",
     "output_type": "stream",
     "text": [
      "Training_loss 0.10501,   Relative Error 0.11137\n",
      "Training_loss 0.10451,   Relative Error 0.11110\n"
     ]
    },
    {
     "name": "stderr",
     "output_type": "stream",
     "text": [
      " 52%|█████▏    | 1036/2000 [02:01<02:03,  7.83it/s]"
     ]
    },
    {
     "name": "stdout",
     "output_type": "stream",
     "text": [
      "Training_loss 0.10399,   Relative Error 0.11083\n",
      "Training_loss 0.10353,   Relative Error 0.11058\n"
     ]
    },
    {
     "name": "stderr",
     "output_type": "stream",
     "text": [
      " 52%|█████▏    | 1038/2000 [02:01<02:35,  6.18it/s]"
     ]
    },
    {
     "name": "stdout",
     "output_type": "stream",
     "text": [
      "Training_loss 0.10315,   Relative Error 0.11038\n",
      "Training_loss 0.10298,   Relative Error 0.11028\n"
     ]
    },
    {
     "name": "stderr",
     "output_type": "stream",
     "text": [
      " 52%|█████▏    | 1040/2000 [02:02<02:33,  6.26it/s]"
     ]
    },
    {
     "name": "stdout",
     "output_type": "stream",
     "text": [
      "Training_loss 0.10254,   Relative Error 0.11005\n",
      "Training_loss 0.10199,   Relative Error 0.10975\n"
     ]
    },
    {
     "name": "stderr",
     "output_type": "stream",
     "text": [
      " 52%|█████▏    | 1042/2000 [02:02<02:22,  6.71it/s]"
     ]
    },
    {
     "name": "stdout",
     "output_type": "stream",
     "text": [
      "Training_loss 0.10148,   Relative Error 0.10948\n",
      "Training_loss 0.10091,   Relative Error 0.10917\n"
     ]
    },
    {
     "name": "stderr",
     "output_type": "stream",
     "text": [
      "\r",
      " 52%|█████▏    | 1043/2000 [02:02<02:49,  5.64it/s]"
     ]
    },
    {
     "name": "stdout",
     "output_type": "stream",
     "text": [
      "Training_loss 0.10040,   Relative Error 0.10889\n"
     ]
    },
    {
     "name": "stderr",
     "output_type": "stream",
     "text": [
      "\r",
      " 52%|█████▏    | 1044/2000 [02:02<03:46,  4.22it/s]"
     ]
    },
    {
     "name": "stdout",
     "output_type": "stream",
     "text": [
      "Training_loss 0.10014,   Relative Error 0.10875\n"
     ]
    },
    {
     "name": "stderr",
     "output_type": "stream",
     "text": [
      "\r",
      " 52%|█████▏    | 1045/2000 [02:03<05:07,  3.11it/s]"
     ]
    },
    {
     "name": "stdout",
     "output_type": "stream",
     "text": [
      "Training_loss 0.09968,   Relative Error 0.10850\n"
     ]
    },
    {
     "name": "stderr",
     "output_type": "stream",
     "text": [
      "\r",
      " 52%|█████▏    | 1046/2000 [02:03<05:42,  2.78it/s]"
     ]
    },
    {
     "name": "stdout",
     "output_type": "stream",
     "text": [
      "Training_loss 0.09930,   Relative Error 0.10828\n"
     ]
    },
    {
     "name": "stderr",
     "output_type": "stream",
     "text": [
      "\r",
      " 52%|█████▏    | 1047/2000 [02:04<05:53,  2.70it/s]"
     ]
    },
    {
     "name": "stdout",
     "output_type": "stream",
     "text": [
      "Training_loss 0.09897,   Relative Error 0.10811\n"
     ]
    },
    {
     "name": "stderr",
     "output_type": "stream",
     "text": [
      "\r",
      " 52%|█████▏    | 1048/2000 [02:04<06:45,  2.35it/s]"
     ]
    },
    {
     "name": "stdout",
     "output_type": "stream",
     "text": [
      "Training_loss 0.09854,   Relative Error 0.10787\n"
     ]
    },
    {
     "name": "stderr",
     "output_type": "stream",
     "text": [
      "\r",
      " 52%|█████▏    | 1049/2000 [02:05<06:22,  2.49it/s]"
     ]
    },
    {
     "name": "stdout",
     "output_type": "stream",
     "text": [
      "Training_loss 0.09805,   Relative Error 0.10760\n"
     ]
    },
    {
     "name": "stderr",
     "output_type": "stream",
     "text": [
      "\r",
      " 52%|█████▎    | 1050/2000 [02:05<06:44,  2.35it/s]"
     ]
    },
    {
     "name": "stdout",
     "output_type": "stream",
     "text": [
      "Training_loss 0.09762,   Relative Error 0.10736\n"
     ]
    },
    {
     "name": "stderr",
     "output_type": "stream",
     "text": [
      " 53%|█████▎    | 1052/2000 [02:06<05:00,  3.16it/s]"
     ]
    },
    {
     "name": "stdout",
     "output_type": "stream",
     "text": [
      "Training_loss 0.09738,   Relative Error 0.10723\n",
      "Training_loss 0.09686,   Relative Error 0.10695\n"
     ]
    },
    {
     "name": "stderr",
     "output_type": "stream",
     "text": [
      " 53%|█████▎    | 1054/2000 [02:06<03:29,  4.51it/s]"
     ]
    },
    {
     "name": "stdout",
     "output_type": "stream",
     "text": [
      "Training_loss 0.09646,   Relative Error 0.10673\n",
      "Training_loss 0.09606,   Relative Error 0.10651\n"
     ]
    },
    {
     "name": "stderr",
     "output_type": "stream",
     "text": [
      "\r",
      " 53%|█████▎    | 1055/2000 [02:06<03:34,  4.41it/s]"
     ]
    },
    {
     "name": "stdout",
     "output_type": "stream",
     "text": [
      "Training_loss 0.09580,   Relative Error 0.10636\n"
     ]
    },
    {
     "name": "stderr",
     "output_type": "stream",
     "text": [
      " 53%|█████▎    | 1057/2000 [02:07<03:31,  4.45it/s]"
     ]
    },
    {
     "name": "stdout",
     "output_type": "stream",
     "text": [
      "Training_loss 0.09528,   Relative Error 0.10607\n",
      "Training_loss 0.09507,   Relative Error 0.10595\n"
     ]
    },
    {
     "name": "stderr",
     "output_type": "stream",
     "text": [
      "\r",
      " 53%|█████▎    | 1058/2000 [02:07<03:16,  4.80it/s]"
     ]
    },
    {
     "name": "stdout",
     "output_type": "stream",
     "text": [
      "Training_loss 0.09463,   Relative Error 0.10571\n"
     ]
    },
    {
     "name": "stderr",
     "output_type": "stream",
     "text": [
      " 53%|█████▎    | 1061/2000 [02:07<02:29,  6.29it/s]"
     ]
    },
    {
     "name": "stdout",
     "output_type": "stream",
     "text": [
      "Training_loss 0.09401,   Relative Error 0.10536\n",
      "Training_loss 0.09347,   Relative Error 0.10507\n",
      "Training_loss 0.09299,   Relative Error 0.10479\n"
     ]
    },
    {
     "name": "stderr",
     "output_type": "stream",
     "text": [
      "\r",
      " 53%|█████▎    | 1062/2000 [02:07<02:19,  6.72it/s]"
     ]
    },
    {
     "name": "stdout",
     "output_type": "stream",
     "text": [
      "Training_loss 0.09259,   Relative Error 0.10457\n",
      "Training_loss 0.09228,   Relative Error 0.10439\n"
     ]
    },
    {
     "name": "stderr",
     "output_type": "stream",
     "text": [
      " 53%|█████▎    | 1065/2000 [02:08<01:57,  7.92it/s]"
     ]
    },
    {
     "name": "stdout",
     "output_type": "stream",
     "text": [
      "Training_loss 0.09207,   Relative Error 0.10427\n",
      "Training_loss 0.09149,   Relative Error 0.10394\n"
     ]
    },
    {
     "name": "stderr",
     "output_type": "stream",
     "text": [
      "\r",
      " 53%|█████▎    | 1066/2000 [02:08<01:52,  8.33it/s]"
     ]
    },
    {
     "name": "stdout",
     "output_type": "stream",
     "text": [
      "Training_loss 0.09125,   Relative Error 0.10381\n",
      "Training_loss 0.09088,   Relative Error 0.10359\n"
     ]
    },
    {
     "name": "stderr",
     "output_type": "stream",
     "text": [
      " 53%|█████▎    | 1069/2000 [02:08<01:42,  9.04it/s]"
     ]
    },
    {
     "name": "stdout",
     "output_type": "stream",
     "text": [
      "Training_loss 0.09047,   Relative Error 0.10336\n",
      "Training_loss 0.09010,   Relative Error 0.10315\n",
      "Training_loss 0.08982,   Relative Error 0.10298\n"
     ]
    },
    {
     "name": "stderr",
     "output_type": "stream",
     "text": [
      " 54%|█████▎    | 1072/2000 [02:08<01:38,  9.43it/s]"
     ]
    },
    {
     "name": "stdout",
     "output_type": "stream",
     "text": [
      "Training_loss 0.08941,   Relative Error 0.10275\n",
      "Training_loss 0.08900,   Relative Error 0.10251\n"
     ]
    },
    {
     "name": "stderr",
     "output_type": "stream",
     "text": [
      " 54%|█████▍    | 1075/2000 [02:09<01:35,  9.64it/s]"
     ]
    },
    {
     "name": "stdout",
     "output_type": "stream",
     "text": [
      "Training_loss 0.08863,   Relative Error 0.10230\n",
      "Training_loss 0.08807,   Relative Error 0.10197\n",
      "Training_loss 0.08769,   Relative Error 0.10175\n"
     ]
    },
    {
     "name": "stderr",
     "output_type": "stream",
     "text": [
      " 54%|█████▍    | 1077/2000 [02:09<01:52,  8.21it/s]"
     ]
    },
    {
     "name": "stdout",
     "output_type": "stream",
     "text": [
      "Training_loss 0.08736,   Relative Error 0.10156\n",
      "Training_loss 0.08710,   Relative Error 0.10141\n",
      "Training_loss 0.08662,   Relative Error 0.10112\n"
     ]
    },
    {
     "name": "stderr",
     "output_type": "stream",
     "text": [
      " 54%|█████▍    | 1080/2000 [02:09<01:43,  8.87it/s]"
     ]
    },
    {
     "name": "stdout",
     "output_type": "stream",
     "text": [
      "Training_loss 0.08639,   Relative Error 0.10099\n",
      "Training_loss 0.08584,   Relative Error 0.10067\n"
     ]
    },
    {
     "name": "stderr",
     "output_type": "stream",
     "text": [
      "\r",
      " 54%|█████▍    | 1081/2000 [02:09<02:00,  7.63it/s]"
     ]
    },
    {
     "name": "stdout",
     "output_type": "stream",
     "text": [
      "Training_loss 0.08555,   Relative Error 0.10050\n"
     ]
    },
    {
     "name": "stderr",
     "output_type": "stream",
     "text": [
      "\r",
      " 54%|█████▍    | 1082/2000 [02:10<02:26,  6.26it/s]"
     ]
    },
    {
     "name": "stdout",
     "output_type": "stream",
     "text": [
      "Training_loss 0.08512,   Relative Error 0.10025\n"
     ]
    },
    {
     "name": "stderr",
     "output_type": "stream",
     "text": [
      "\r",
      " 54%|█████▍    | 1083/2000 [02:10<02:52,  5.32it/s]"
     ]
    },
    {
     "name": "stdout",
     "output_type": "stream",
     "text": [
      "Training_loss 0.08498,   Relative Error 0.10017\n"
     ]
    },
    {
     "name": "stderr",
     "output_type": "stream",
     "text": [
      "\r",
      " 54%|█████▍    | 1084/2000 [02:10<04:02,  3.78it/s]"
     ]
    },
    {
     "name": "stdout",
     "output_type": "stream",
     "text": [
      "Training_loss 0.08462,   Relative Error 0.09996\n"
     ]
    },
    {
     "name": "stderr",
     "output_type": "stream",
     "text": [
      "\r",
      " 54%|█████▍    | 1085/2000 [02:11<04:39,  3.27it/s]"
     ]
    },
    {
     "name": "stdout",
     "output_type": "stream",
     "text": [
      "Training_loss 0.08428,   Relative Error 0.09975\n"
     ]
    },
    {
     "name": "stderr",
     "output_type": "stream",
     "text": [
      "\r",
      " 54%|█████▍    | 1086/2000 [02:11<04:45,  3.21it/s]"
     ]
    },
    {
     "name": "stdout",
     "output_type": "stream",
     "text": [
      "Training_loss 0.08401,   Relative Error 0.09958\n"
     ]
    },
    {
     "name": "stderr",
     "output_type": "stream",
     "text": [
      " 54%|█████▍    | 1088/2000 [02:12<03:52,  3.93it/s]"
     ]
    },
    {
     "name": "stdout",
     "output_type": "stream",
     "text": [
      "Training_loss 0.08346,   Relative Error 0.09926\n",
      "Training_loss 0.08319,   Relative Error 0.09910\n"
     ]
    },
    {
     "name": "stderr",
     "output_type": "stream",
     "text": [
      "\r",
      " 54%|█████▍    | 1089/2000 [02:12<03:30,  4.32it/s]"
     ]
    },
    {
     "name": "stdout",
     "output_type": "stream",
     "text": [
      "Training_loss 0.08270,   Relative Error 0.09881\n",
      "Training_loss 0.08243,   Relative Error 0.09864\n"
     ]
    },
    {
     "name": "stderr",
     "output_type": "stream",
     "text": [
      " 55%|█████▍    | 1092/2000 [02:12<03:16,  4.62it/s]"
     ]
    },
    {
     "name": "stdout",
     "output_type": "stream",
     "text": [
      "Training_loss 0.08215,   Relative Error 0.09848\n",
      "Training_loss 0.08182,   Relative Error 0.09828\n"
     ]
    },
    {
     "name": "stderr",
     "output_type": "stream",
     "text": [
      " 55%|█████▍    | 1094/2000 [02:13<02:59,  5.05it/s]"
     ]
    },
    {
     "name": "stdout",
     "output_type": "stream",
     "text": [
      "Training_loss 0.08144,   Relative Error 0.09804\n",
      "Training_loss 0.08106,   Relative Error 0.09782\n"
     ]
    },
    {
     "name": "stderr",
     "output_type": "stream",
     "text": [
      "\r",
      " 55%|█████▍    | 1095/2000 [02:13<03:00,  5.03it/s]"
     ]
    },
    {
     "name": "stdout",
     "output_type": "stream",
     "text": [
      "Training_loss 0.08065,   Relative Error 0.09758\n"
     ]
    },
    {
     "name": "stderr",
     "output_type": "stream",
     "text": [
      "\r",
      " 55%|█████▍    | 1096/2000 [02:13<03:06,  4.84it/s]"
     ]
    },
    {
     "name": "stdout",
     "output_type": "stream",
     "text": [
      "Training_loss 0.08040,   Relative Error 0.09742\n"
     ]
    },
    {
     "name": "stderr",
     "output_type": "stream",
     "text": [
      " 55%|█████▍    | 1098/2000 [02:14<03:01,  4.98it/s]"
     ]
    },
    {
     "name": "stdout",
     "output_type": "stream",
     "text": [
      "Training_loss 0.08012,   Relative Error 0.09726\n",
      "Training_loss 0.07978,   Relative Error 0.09705\n"
     ]
    },
    {
     "name": "stderr",
     "output_type": "stream",
     "text": [
      "\r",
      " 55%|█████▍    | 1099/2000 [02:14<02:59,  5.01it/s]"
     ]
    },
    {
     "name": "stdout",
     "output_type": "stream",
     "text": [
      "Training_loss 0.07947,   Relative Error 0.09686\n"
     ]
    },
    {
     "name": "stderr",
     "output_type": "stream",
     "text": [
      "\r",
      " 55%|█████▌    | 1100/2000 [02:14<03:07,  4.79it/s]"
     ]
    },
    {
     "name": "stdout",
     "output_type": "stream",
     "text": [
      "Training_loss 0.07917,   Relative Error 0.09668\n"
     ]
    },
    {
     "name": "stderr",
     "output_type": "stream",
     "text": [
      "\r",
      " 55%|█████▌    | 1101/2000 [02:14<03:14,  4.61it/s]"
     ]
    },
    {
     "name": "stdout",
     "output_type": "stream",
     "text": [
      "Training_loss 0.07880,   Relative Error 0.09646\n"
     ]
    },
    {
     "name": "stderr",
     "output_type": "stream",
     "text": [
      " 55%|█████▌    | 1103/2000 [02:15<03:03,  4.88it/s]"
     ]
    },
    {
     "name": "stdout",
     "output_type": "stream",
     "text": [
      "Training_loss 0.07851,   Relative Error 0.09627\n",
      "Training_loss 0.07805,   Relative Error 0.09599\n"
     ]
    },
    {
     "name": "stderr",
     "output_type": "stream",
     "text": [
      "\r",
      " 55%|█████▌    | 1104/2000 [02:15<03:25,  4.37it/s]"
     ]
    },
    {
     "name": "stdout",
     "output_type": "stream",
     "text": [
      "Training_loss 0.07782,   Relative Error 0.09585\n"
     ]
    },
    {
     "name": "stderr",
     "output_type": "stream",
     "text": [
      " 55%|█████▌    | 1106/2000 [02:15<03:19,  4.49it/s]"
     ]
    },
    {
     "name": "stdout",
     "output_type": "stream",
     "text": [
      "Training_loss 0.07748,   Relative Error 0.09564\n",
      "Training_loss 0.07705,   Relative Error 0.09537\n"
     ]
    },
    {
     "name": "stderr",
     "output_type": "stream",
     "text": [
      " 55%|█████▌    | 1108/2000 [02:16<03:00,  4.95it/s]"
     ]
    },
    {
     "name": "stdout",
     "output_type": "stream",
     "text": [
      "Training_loss 0.07671,   Relative Error 0.09516\n",
      "Training_loss 0.07637,   Relative Error 0.09495\n"
     ]
    },
    {
     "name": "stderr",
     "output_type": "stream",
     "text": [
      " 56%|█████▌    | 1110/2000 [02:16<02:39,  5.57it/s]"
     ]
    },
    {
     "name": "stdout",
     "output_type": "stream",
     "text": [
      "Training_loss 0.07601,   Relative Error 0.09473\n",
      "Training_loss 0.07577,   Relative Error 0.09458\n"
     ]
    },
    {
     "name": "stderr",
     "output_type": "stream",
     "text": [
      " 56%|█████▌    | 1112/2000 [02:16<02:26,  6.05it/s]"
     ]
    },
    {
     "name": "stdout",
     "output_type": "stream",
     "text": [
      "Training_loss 0.07554,   Relative Error 0.09443\n",
      "Training_loss 0.07513,   Relative Error 0.09418\n"
     ]
    },
    {
     "name": "stderr",
     "output_type": "stream",
     "text": [
      " 56%|█████▌    | 1114/2000 [02:17<02:10,  6.81it/s]"
     ]
    },
    {
     "name": "stdout",
     "output_type": "stream",
     "text": [
      "Training_loss 0.07479,   Relative Error 0.09397\n",
      "Training_loss 0.07449,   Relative Error 0.09378\n"
     ]
    },
    {
     "name": "stderr",
     "output_type": "stream",
     "text": [
      " 56%|█████▌    | 1116/2000 [02:17<02:07,  6.94it/s]"
     ]
    },
    {
     "name": "stdout",
     "output_type": "stream",
     "text": [
      "Training_loss 0.07417,   Relative Error 0.09357\n",
      "Training_loss 0.07393,   Relative Error 0.09342\n"
     ]
    },
    {
     "name": "stderr",
     "output_type": "stream",
     "text": [
      " 56%|█████▌    | 1118/2000 [02:17<02:05,  7.00it/s]"
     ]
    },
    {
     "name": "stdout",
     "output_type": "stream",
     "text": [
      "Training_loss 0.07378,   Relative Error 0.09333\n",
      "Training_loss 0.07350,   Relative Error 0.09315\n"
     ]
    },
    {
     "name": "stderr",
     "output_type": "stream",
     "text": [
      " 56%|█████▌    | 1120/2000 [02:17<01:58,  7.41it/s]"
     ]
    },
    {
     "name": "stdout",
     "output_type": "stream",
     "text": [
      "Training_loss 0.07308,   Relative Error 0.09288\n",
      "Training_loss 0.07279,   Relative Error 0.09270\n"
     ]
    },
    {
     "name": "stderr",
     "output_type": "stream",
     "text": [
      " 56%|█████▌    | 1122/2000 [02:18<01:51,  7.90it/s]"
     ]
    },
    {
     "name": "stdout",
     "output_type": "stream",
     "text": [
      "Training_loss 0.07246,   Relative Error 0.09249\n",
      "Training_loss 0.07211,   Relative Error 0.09227\n"
     ]
    },
    {
     "name": "stderr",
     "output_type": "stream",
     "text": [
      " 56%|█████▌    | 1124/2000 [02:18<01:50,  7.91it/s]"
     ]
    },
    {
     "name": "stdout",
     "output_type": "stream",
     "text": [
      "Training_loss 0.07172,   Relative Error 0.09202\n",
      "Training_loss 0.07134,   Relative Error 0.09177\n"
     ]
    },
    {
     "name": "stderr",
     "output_type": "stream",
     "text": [
      " 56%|█████▋    | 1126/2000 [02:18<01:53,  7.72it/s]"
     ]
    },
    {
     "name": "stdout",
     "output_type": "stream",
     "text": [
      "Training_loss 0.07097,   Relative Error 0.09154\n",
      "Training_loss 0.07077,   Relative Error 0.09141\n"
     ]
    },
    {
     "name": "stderr",
     "output_type": "stream",
     "text": [
      " 56%|█████▋    | 1128/2000 [02:18<01:57,  7.45it/s]"
     ]
    },
    {
     "name": "stdout",
     "output_type": "stream",
     "text": [
      "Training_loss 0.07039,   Relative Error 0.09116\n",
      "Training_loss 0.07020,   Relative Error 0.09103\n"
     ]
    },
    {
     "name": "stderr",
     "output_type": "stream",
     "text": [
      " 56%|█████▋    | 1130/2000 [02:19<02:10,  6.66it/s]"
     ]
    },
    {
     "name": "stdout",
     "output_type": "stream",
     "text": [
      "Training_loss 0.07000,   Relative Error 0.09090\n",
      "Training_loss 0.06965,   Relative Error 0.09068\n"
     ]
    },
    {
     "name": "stderr",
     "output_type": "stream",
     "text": [
      " 57%|█████▋    | 1132/2000 [02:19<02:22,  6.09it/s]"
     ]
    },
    {
     "name": "stdout",
     "output_type": "stream",
     "text": [
      "Training_loss 0.06941,   Relative Error 0.09052\n",
      "Training_loss 0.06902,   Relative Error 0.09026\n"
     ]
    },
    {
     "name": "stderr",
     "output_type": "stream",
     "text": [
      " 57%|█████▋    | 1134/2000 [02:19<02:13,  6.47it/s]"
     ]
    },
    {
     "name": "stdout",
     "output_type": "stream",
     "text": [
      "Training_loss 0.06878,   Relative Error 0.09010\n",
      "Training_loss 0.06839,   Relative Error 0.08985\n"
     ]
    },
    {
     "name": "stderr",
     "output_type": "stream",
     "text": [
      " 57%|█████▋    | 1136/2000 [02:20<01:56,  7.42it/s]"
     ]
    },
    {
     "name": "stdout",
     "output_type": "stream",
     "text": [
      "Training_loss 0.06805,   Relative Error 0.08963\n",
      "Training_loss 0.06779,   Relative Error 0.08946\n"
     ]
    },
    {
     "name": "stderr",
     "output_type": "stream",
     "text": [
      " 57%|█████▋    | 1138/2000 [02:20<01:53,  7.56it/s]"
     ]
    },
    {
     "name": "stdout",
     "output_type": "stream",
     "text": [
      "Training_loss 0.06757,   Relative Error 0.08931\n",
      "Training_loss 0.06729,   Relative Error 0.08913\n"
     ]
    },
    {
     "name": "stderr",
     "output_type": "stream",
     "text": [
      "\r",
      " 57%|█████▋    | 1139/2000 [02:20<02:06,  6.82it/s]"
     ]
    },
    {
     "name": "stdout",
     "output_type": "stream",
     "text": [
      "Training_loss 0.06700,   Relative Error 0.08893\n"
     ]
    },
    {
     "name": "stderr",
     "output_type": "stream",
     "text": [
      " 57%|█████▋    | 1141/2000 [02:20<02:28,  5.80it/s]"
     ]
    },
    {
     "name": "stdout",
     "output_type": "stream",
     "text": [
      "Training_loss 0.06669,   Relative Error 0.08873\n",
      "Training_loss 0.06638,   Relative Error 0.08852\n"
     ]
    },
    {
     "name": "stderr",
     "output_type": "stream",
     "text": [
      "\r",
      " 57%|█████▋    | 1142/2000 [02:21<02:36,  5.47it/s]"
     ]
    },
    {
     "name": "stdout",
     "output_type": "stream",
     "text": [
      "Training_loss 0.06616,   Relative Error 0.08836\n"
     ]
    },
    {
     "name": "stderr",
     "output_type": "stream",
     "text": [
      "\r",
      " 57%|█████▋    | 1143/2000 [02:21<02:40,  5.33it/s]"
     ]
    },
    {
     "name": "stdout",
     "output_type": "stream",
     "text": [
      "Training_loss 0.06598,   Relative Error 0.08824\n"
     ]
    },
    {
     "name": "stderr",
     "output_type": "stream",
     "text": [
      " 57%|█████▋    | 1145/2000 [02:21<02:48,  5.09it/s]"
     ]
    },
    {
     "name": "stdout",
     "output_type": "stream",
     "text": [
      "Training_loss 0.06568,   Relative Error 0.08804\n",
      "Training_loss 0.06532,   Relative Error 0.08780\n"
     ]
    },
    {
     "name": "stderr",
     "output_type": "stream",
     "text": [
      " 57%|█████▋    | 1147/2000 [02:22<02:28,  5.75it/s]"
     ]
    },
    {
     "name": "stdout",
     "output_type": "stream",
     "text": [
      "Training_loss 0.06504,   Relative Error 0.08761\n",
      "Training_loss 0.06476,   Relative Error 0.08742\n"
     ]
    },
    {
     "name": "stderr",
     "output_type": "stream",
     "text": [
      " 57%|█████▋    | 1149/2000 [02:22<02:19,  6.10it/s]"
     ]
    },
    {
     "name": "stdout",
     "output_type": "stream",
     "text": [
      "Training_loss 0.06455,   Relative Error 0.08728\n",
      "Training_loss 0.06437,   Relative Error 0.08715\n"
     ]
    },
    {
     "name": "stderr",
     "output_type": "stream",
     "text": [
      " 58%|█████▊    | 1151/2000 [02:22<02:08,  6.59it/s]"
     ]
    },
    {
     "name": "stdout",
     "output_type": "stream",
     "text": [
      "Training_loss 0.06405,   Relative Error 0.08694\n",
      "Training_loss 0.06378,   Relative Error 0.08676\n"
     ]
    },
    {
     "name": "stderr",
     "output_type": "stream",
     "text": [
      " 58%|█████▊    | 1153/2000 [02:22<01:52,  7.52it/s]"
     ]
    },
    {
     "name": "stdout",
     "output_type": "stream",
     "text": [
      "Training_loss 0.06369,   Relative Error 0.08669\n",
      "Training_loss 0.06355,   Relative Error 0.08660\n"
     ]
    },
    {
     "name": "stderr",
     "output_type": "stream",
     "text": [
      " 58%|█████▊    | 1155/2000 [02:23<01:46,  7.91it/s]"
     ]
    },
    {
     "name": "stdout",
     "output_type": "stream",
     "text": [
      "Training_loss 0.06322,   Relative Error 0.08638\n",
      "Training_loss 0.06301,   Relative Error 0.08623\n"
     ]
    },
    {
     "name": "stderr",
     "output_type": "stream",
     "text": [
      " 58%|█████▊    | 1157/2000 [02:23<01:47,  7.88it/s]"
     ]
    },
    {
     "name": "stdout",
     "output_type": "stream",
     "text": [
      "Training_loss 0.06265,   Relative Error 0.08598\n",
      "Training_loss 0.06239,   Relative Error 0.08580\n"
     ]
    },
    {
     "name": "stderr",
     "output_type": "stream",
     "text": [
      " 58%|█████▊    | 1159/2000 [02:23<01:51,  7.57it/s]"
     ]
    },
    {
     "name": "stdout",
     "output_type": "stream",
     "text": [
      "Training_loss 0.06195,   Relative Error 0.08550\n",
      "Training_loss 0.06169,   Relative Error 0.08532\n"
     ]
    },
    {
     "name": "stderr",
     "output_type": "stream",
     "text": [
      " 58%|█████▊    | 1161/2000 [02:24<02:02,  6.85it/s]"
     ]
    },
    {
     "name": "stdout",
     "output_type": "stream",
     "text": [
      "Training_loss 0.06144,   Relative Error 0.08514\n",
      "Training_loss 0.06114,   Relative Error 0.08493\n"
     ]
    },
    {
     "name": "stderr",
     "output_type": "stream",
     "text": [
      " 58%|█████▊    | 1163/2000 [02:24<02:15,  6.16it/s]"
     ]
    },
    {
     "name": "stdout",
     "output_type": "stream",
     "text": [
      "Training_loss 0.06085,   Relative Error 0.08473\n",
      "Training_loss 0.06060,   Relative Error 0.08456\n"
     ]
    },
    {
     "name": "stderr",
     "output_type": "stream",
     "text": [
      " 58%|█████▊    | 1165/2000 [02:24<02:12,  6.30it/s]"
     ]
    },
    {
     "name": "stdout",
     "output_type": "stream",
     "text": [
      "Training_loss 0.06038,   Relative Error 0.08441\n",
      "Training_loss 0.06025,   Relative Error 0.08431\n"
     ]
    },
    {
     "name": "stderr",
     "output_type": "stream",
     "text": [
      " 58%|█████▊    | 1167/2000 [02:24<02:12,  6.30it/s]"
     ]
    },
    {
     "name": "stdout",
     "output_type": "stream",
     "text": [
      "Training_loss 0.06006,   Relative Error 0.08418\n",
      "Training_loss 0.05987,   Relative Error 0.08405\n"
     ]
    },
    {
     "name": "stderr",
     "output_type": "stream",
     "text": [
      " 58%|█████▊    | 1169/2000 [02:25<02:14,  6.17it/s]"
     ]
    },
    {
     "name": "stdout",
     "output_type": "stream",
     "text": [
      "Training_loss 0.05963,   Relative Error 0.08388\n",
      "Training_loss 0.05950,   Relative Error 0.08379\n"
     ]
    },
    {
     "name": "stderr",
     "output_type": "stream",
     "text": [
      " 59%|█████▊    | 1171/2000 [02:25<01:58,  7.00it/s]"
     ]
    },
    {
     "name": "stdout",
     "output_type": "stream",
     "text": [
      "Training_loss 0.05925,   Relative Error 0.08361\n",
      "Training_loss 0.05893,   Relative Error 0.08339\n"
     ]
    },
    {
     "name": "stderr",
     "output_type": "stream",
     "text": [
      " 59%|█████▊    | 1173/2000 [02:25<02:12,  6.24it/s]"
     ]
    },
    {
     "name": "stdout",
     "output_type": "stream",
     "text": [
      "Training_loss 0.05876,   Relative Error 0.08327\n",
      "Training_loss 0.05857,   Relative Error 0.08313\n"
     ]
    },
    {
     "name": "stderr",
     "output_type": "stream",
     "text": [
      " 59%|█████▉    | 1175/2000 [02:26<02:11,  6.27it/s]"
     ]
    },
    {
     "name": "stdout",
     "output_type": "stream",
     "text": [
      "Training_loss 0.05829,   Relative Error 0.08293\n",
      "Training_loss 0.05812,   Relative Error 0.08281\n"
     ]
    },
    {
     "name": "stderr",
     "output_type": "stream",
     "text": [
      " 59%|█████▉    | 1177/2000 [02:26<02:07,  6.45it/s]"
     ]
    },
    {
     "name": "stdout",
     "output_type": "stream",
     "text": [
      "Training_loss 0.05779,   Relative Error 0.08258\n",
      "Training_loss 0.05764,   Relative Error 0.08247\n"
     ]
    },
    {
     "name": "stderr",
     "output_type": "stream",
     "text": [
      " 59%|█████▉    | 1179/2000 [02:26<02:14,  6.10it/s]"
     ]
    },
    {
     "name": "stdout",
     "output_type": "stream",
     "text": [
      "Training_loss 0.05746,   Relative Error 0.08234\n",
      "Training_loss 0.05731,   Relative Error 0.08223\n"
     ]
    },
    {
     "name": "stderr",
     "output_type": "stream",
     "text": [
      " 59%|█████▉    | 1181/2000 [02:27<02:10,  6.27it/s]"
     ]
    },
    {
     "name": "stdout",
     "output_type": "stream",
     "text": [
      "Training_loss 0.05708,   Relative Error 0.08207\n",
      "Training_loss 0.05691,   Relative Error 0.08194\n"
     ]
    },
    {
     "name": "stderr",
     "output_type": "stream",
     "text": [
      " 59%|█████▉    | 1183/2000 [02:27<02:00,  6.80it/s]"
     ]
    },
    {
     "name": "stdout",
     "output_type": "stream",
     "text": [
      "Training_loss 0.05673,   Relative Error 0.08181\n",
      "Training_loss 0.05640,   Relative Error 0.08158\n"
     ]
    },
    {
     "name": "stderr",
     "output_type": "stream",
     "text": [
      " 59%|█████▉    | 1185/2000 [02:27<01:49,  7.43it/s]"
     ]
    },
    {
     "name": "stdout",
     "output_type": "stream",
     "text": [
      "Training_loss 0.05617,   Relative Error 0.08141\n",
      "Training_loss 0.05601,   Relative Error 0.08130\n"
     ]
    },
    {
     "name": "stderr",
     "output_type": "stream",
     "text": [
      " 59%|█████▉    | 1187/2000 [02:27<01:44,  7.74it/s]"
     ]
    },
    {
     "name": "stdout",
     "output_type": "stream",
     "text": [
      "Training_loss 0.05572,   Relative Error 0.08109\n",
      "Training_loss 0.05540,   Relative Error 0.08086\n"
     ]
    },
    {
     "name": "stderr",
     "output_type": "stream",
     "text": [
      " 59%|█████▉    | 1189/2000 [02:28<01:43,  7.82it/s]"
     ]
    },
    {
     "name": "stdout",
     "output_type": "stream",
     "text": [
      "Training_loss 0.05510,   Relative Error 0.08063\n",
      "Training_loss 0.05484,   Relative Error 0.08044\n"
     ]
    },
    {
     "name": "stderr",
     "output_type": "stream",
     "text": [
      " 60%|█████▉    | 1191/2000 [02:28<01:48,  7.43it/s]"
     ]
    },
    {
     "name": "stdout",
     "output_type": "stream",
     "text": [
      "Training_loss 0.05462,   Relative Error 0.08029\n",
      "Training_loss 0.05433,   Relative Error 0.08007\n"
     ]
    },
    {
     "name": "stderr",
     "output_type": "stream",
     "text": [
      " 60%|█████▉    | 1193/2000 [02:28<01:51,  7.25it/s]"
     ]
    },
    {
     "name": "stdout",
     "output_type": "stream",
     "text": [
      "Training_loss 0.05420,   Relative Error 0.07998\n",
      "Training_loss 0.05408,   Relative Error 0.07988\n"
     ]
    },
    {
     "name": "stderr",
     "output_type": "stream",
     "text": [
      " 60%|█████▉    | 1195/2000 [02:29<02:05,  6.39it/s]"
     ]
    },
    {
     "name": "stdout",
     "output_type": "stream",
     "text": [
      "Training_loss 0.05388,   Relative Error 0.07974\n",
      "Training_loss 0.05358,   Relative Error 0.07951\n"
     ]
    },
    {
     "name": "stderr",
     "output_type": "stream",
     "text": [
      " 60%|█████▉    | 1197/2000 [02:29<01:49,  7.34it/s]"
     ]
    },
    {
     "name": "stdout",
     "output_type": "stream",
     "text": [
      "Training_loss 0.05340,   Relative Error 0.07938\n",
      "Training_loss 0.05317,   Relative Error 0.07921\n"
     ]
    },
    {
     "name": "stderr",
     "output_type": "stream",
     "text": [
      " 60%|█████▉    | 1199/2000 [02:29<01:43,  7.78it/s]"
     ]
    },
    {
     "name": "stdout",
     "output_type": "stream",
     "text": [
      "Training_loss 0.05293,   Relative Error 0.07902\n",
      "Training_loss 0.05275,   Relative Error 0.07890\n"
     ]
    },
    {
     "name": "stderr",
     "output_type": "stream",
     "text": [
      " 60%|██████    | 1202/2000 [02:29<01:30,  8.81it/s]"
     ]
    },
    {
     "name": "stdout",
     "output_type": "stream",
     "text": [
      "Training_loss 0.05259,   Relative Error 0.07877\n",
      "Training_loss 0.05233,   Relative Error 0.07858\n",
      "Training_loss 0.05215,   Relative Error 0.07845\n"
     ]
    },
    {
     "name": "stderr",
     "output_type": "stream",
     "text": [
      " 60%|██████    | 1204/2000 [02:30<01:28,  8.98it/s]"
     ]
    },
    {
     "name": "stdout",
     "output_type": "stream",
     "text": [
      "Training_loss 0.05196,   Relative Error 0.07830\n",
      "Training_loss 0.05176,   Relative Error 0.07815\n"
     ]
    },
    {
     "name": "stderr",
     "output_type": "stream",
     "text": [
      " 60%|██████    | 1206/2000 [02:30<01:27,  9.06it/s]"
     ]
    },
    {
     "name": "stdout",
     "output_type": "stream",
     "text": [
      "Training_loss 0.05149,   Relative Error 0.07795\n",
      "Training_loss 0.05129,   Relative Error 0.07780\n"
     ]
    },
    {
     "name": "stderr",
     "output_type": "stream",
     "text": [
      " 60%|██████    | 1208/2000 [02:30<01:35,  8.26it/s]"
     ]
    },
    {
     "name": "stdout",
     "output_type": "stream",
     "text": [
      "Training_loss 0.05106,   Relative Error 0.07763\n",
      "Training_loss 0.05088,   Relative Error 0.07749\n"
     ]
    },
    {
     "name": "stderr",
     "output_type": "stream",
     "text": [
      " 60%|██████    | 1210/2000 [02:30<01:39,  7.96it/s]"
     ]
    },
    {
     "name": "stdout",
     "output_type": "stream",
     "text": [
      "Training_loss 0.05071,   Relative Error 0.07736\n",
      "Training_loss 0.05052,   Relative Error 0.07721\n"
     ]
    },
    {
     "name": "stderr",
     "output_type": "stream",
     "text": [
      " 61%|██████    | 1212/2000 [02:31<01:46,  7.40it/s]"
     ]
    },
    {
     "name": "stdout",
     "output_type": "stream",
     "text": [
      "Training_loss 0.05031,   Relative Error 0.07706\n",
      "Training_loss 0.05018,   Relative Error 0.07695\n"
     ]
    },
    {
     "name": "stderr",
     "output_type": "stream",
     "text": [
      " 61%|██████    | 1214/2000 [02:31<01:45,  7.43it/s]"
     ]
    },
    {
     "name": "stdout",
     "output_type": "stream",
     "text": [
      "Training_loss 0.05000,   Relative Error 0.07681\n",
      "Training_loss 0.04978,   Relative Error 0.07664\n"
     ]
    },
    {
     "name": "stderr",
     "output_type": "stream",
     "text": [
      " 61%|██████    | 1216/2000 [02:31<01:49,  7.17it/s]"
     ]
    },
    {
     "name": "stdout",
     "output_type": "stream",
     "text": [
      "Training_loss 0.04961,   Relative Error 0.07651\n",
      "Training_loss 0.04935,   Relative Error 0.07631\n"
     ]
    },
    {
     "name": "stderr",
     "output_type": "stream",
     "text": [
      " 61%|██████    | 1218/2000 [02:32<02:08,  6.10it/s]"
     ]
    },
    {
     "name": "stdout",
     "output_type": "stream",
     "text": [
      "Training_loss 0.04925,   Relative Error 0.07623\n",
      "Training_loss 0.04904,   Relative Error 0.07607\n"
     ]
    },
    {
     "name": "stderr",
     "output_type": "stream",
     "text": [
      " 61%|██████    | 1220/2000 [02:32<01:56,  6.72it/s]"
     ]
    },
    {
     "name": "stdout",
     "output_type": "stream",
     "text": [
      "Training_loss 0.04878,   Relative Error 0.07587\n",
      "Training_loss 0.04859,   Relative Error 0.07572\n"
     ]
    },
    {
     "name": "stderr",
     "output_type": "stream",
     "text": [
      " 61%|██████    | 1222/2000 [02:32<02:00,  6.46it/s]"
     ]
    },
    {
     "name": "stdout",
     "output_type": "stream",
     "text": [
      "Training_loss 0.04841,   Relative Error 0.07558\n",
      "Training_loss 0.04812,   Relative Error 0.07535\n"
     ]
    },
    {
     "name": "stderr",
     "output_type": "stream",
     "text": [
      " 61%|██████    | 1224/2000 [02:32<01:50,  7.05it/s]"
     ]
    },
    {
     "name": "stdout",
     "output_type": "stream",
     "text": [
      "Training_loss 0.04798,   Relative Error 0.07524\n",
      "Training_loss 0.04777,   Relative Error 0.07507\n"
     ]
    },
    {
     "name": "stderr",
     "output_type": "stream",
     "text": [
      " 61%|██████▏   | 1226/2000 [02:33<01:44,  7.42it/s]"
     ]
    },
    {
     "name": "stdout",
     "output_type": "stream",
     "text": [
      "Training_loss 0.04764,   Relative Error 0.07497\n",
      "Training_loss 0.04739,   Relative Error 0.07477\n"
     ]
    },
    {
     "name": "stderr",
     "output_type": "stream",
     "text": [
      " 61%|██████▏   | 1228/2000 [02:33<01:45,  7.35it/s]"
     ]
    },
    {
     "name": "stdout",
     "output_type": "stream",
     "text": [
      "Training_loss 0.04719,   Relative Error 0.07462\n",
      "Training_loss 0.04699,   Relative Error 0.07446\n"
     ]
    },
    {
     "name": "stderr",
     "output_type": "stream",
     "text": [
      " 62%|██████▏   | 1230/2000 [02:33<01:40,  7.67it/s]"
     ]
    },
    {
     "name": "stdout",
     "output_type": "stream",
     "text": [
      "Training_loss 0.04687,   Relative Error 0.07436\n",
      "Training_loss 0.04660,   Relative Error 0.07415\n"
     ]
    },
    {
     "name": "stderr",
     "output_type": "stream",
     "text": [
      " 62%|██████▏   | 1232/2000 [02:33<01:35,  8.08it/s]"
     ]
    },
    {
     "name": "stdout",
     "output_type": "stream",
     "text": [
      "Training_loss 0.04643,   Relative Error 0.07401\n",
      "Training_loss 0.04625,   Relative Error 0.07387\n"
     ]
    },
    {
     "name": "stderr",
     "output_type": "stream",
     "text": [
      " 62%|██████▏   | 1234/2000 [02:34<01:34,  8.14it/s]"
     ]
    },
    {
     "name": "stdout",
     "output_type": "stream",
     "text": [
      "Training_loss 0.04609,   Relative Error 0.07374\n",
      "Training_loss 0.04597,   Relative Error 0.07364\n"
     ]
    },
    {
     "name": "stderr",
     "output_type": "stream",
     "text": [
      " 62%|██████▏   | 1236/2000 [02:34<01:37,  7.80it/s]"
     ]
    },
    {
     "name": "stdout",
     "output_type": "stream",
     "text": [
      "Training_loss 0.04583,   Relative Error 0.07353\n",
      "Training_loss 0.04561,   Relative Error 0.07335\n"
     ]
    },
    {
     "name": "stderr",
     "output_type": "stream",
     "text": [
      " 62%|██████▏   | 1238/2000 [02:34<01:46,  7.12it/s]"
     ]
    },
    {
     "name": "stdout",
     "output_type": "stream",
     "text": [
      "Training_loss 0.04554,   Relative Error 0.07330\n",
      "Training_loss 0.04524,   Relative Error 0.07305\n"
     ]
    },
    {
     "name": "stderr",
     "output_type": "stream",
     "text": [
      " 62%|██████▏   | 1240/2000 [02:35<01:47,  7.09it/s]"
     ]
    },
    {
     "name": "stdout",
     "output_type": "stream",
     "text": [
      "Training_loss 0.04509,   Relative Error 0.07293\n",
      "Training_loss 0.04486,   Relative Error 0.07274\n"
     ]
    },
    {
     "name": "stderr",
     "output_type": "stream",
     "text": [
      " 62%|██████▏   | 1242/2000 [02:35<01:46,  7.09it/s]"
     ]
    },
    {
     "name": "stdout",
     "output_type": "stream",
     "text": [
      "Training_loss 0.04468,   Relative Error 0.07260\n",
      "Training_loss 0.04450,   Relative Error 0.07246\n"
     ]
    },
    {
     "name": "stderr",
     "output_type": "stream",
     "text": [
      " 62%|██████▏   | 1244/2000 [02:35<02:06,  5.98it/s]"
     ]
    },
    {
     "name": "stdout",
     "output_type": "stream",
     "text": [
      "Training_loss 0.04425,   Relative Error 0.07225\n",
      "Training_loss 0.04413,   Relative Error 0.07215\n"
     ]
    },
    {
     "name": "stderr",
     "output_type": "stream",
     "text": [
      " 62%|██████▏   | 1246/2000 [02:36<02:06,  5.96it/s]"
     ]
    },
    {
     "name": "stdout",
     "output_type": "stream",
     "text": [
      "Training_loss 0.04398,   Relative Error 0.07203\n",
      "Training_loss 0.04380,   Relative Error 0.07188\n"
     ]
    },
    {
     "name": "stderr",
     "output_type": "stream",
     "text": [
      " 62%|██████▏   | 1248/2000 [02:36<02:03,  6.10it/s]"
     ]
    },
    {
     "name": "stdout",
     "output_type": "stream",
     "text": [
      "Training_loss 0.04366,   Relative Error 0.07177\n",
      "Training_loss 0.04353,   Relative Error 0.07166\n"
     ]
    },
    {
     "name": "stderr",
     "output_type": "stream",
     "text": [
      "\r",
      " 62%|██████▏   | 1249/2000 [02:36<02:25,  5.16it/s]"
     ]
    },
    {
     "name": "stdout",
     "output_type": "stream",
     "text": [
      "Training_loss 0.04344,   Relative Error 0.07159\n"
     ]
    },
    {
     "name": "stderr",
     "output_type": "stream",
     "text": [
      "\r",
      " 62%|██████▎   | 1250/2000 [02:37<03:02,  4.11it/s]"
     ]
    },
    {
     "name": "stdout",
     "output_type": "stream",
     "text": [
      "Training_loss 0.04317,   Relative Error 0.07136\n"
     ]
    },
    {
     "name": "stderr",
     "output_type": "stream",
     "text": [
      "\r",
      " 63%|██████▎   | 1251/2000 [02:37<03:23,  3.69it/s]"
     ]
    },
    {
     "name": "stdout",
     "output_type": "stream",
     "text": [
      "Training_loss 0.04299,   Relative Error 0.07122\n"
     ]
    },
    {
     "name": "stderr",
     "output_type": "stream",
     "text": [
      "\r",
      " 63%|██████▎   | 1252/2000 [02:37<03:43,  3.34it/s]"
     ]
    },
    {
     "name": "stdout",
     "output_type": "stream",
     "text": [
      "Training_loss 0.04285,   Relative Error 0.07110\n"
     ]
    },
    {
     "name": "stderr",
     "output_type": "stream",
     "text": [
      "\r",
      " 63%|██████▎   | 1253/2000 [02:37<03:35,  3.47it/s]"
     ]
    },
    {
     "name": "stdout",
     "output_type": "stream",
     "text": [
      "Training_loss 0.04266,   Relative Error 0.07094\n"
     ]
    },
    {
     "name": "stderr",
     "output_type": "stream",
     "text": [
      " 63%|██████▎   | 1255/2000 [02:38<02:57,  4.19it/s]"
     ]
    },
    {
     "name": "stdout",
     "output_type": "stream",
     "text": [
      "Training_loss 0.04250,   Relative Error 0.07081\n",
      "Training_loss 0.04236,   Relative Error 0.07069\n"
     ]
    },
    {
     "name": "stderr",
     "output_type": "stream",
     "text": [
      " 63%|██████▎   | 1257/2000 [02:38<02:24,  5.14it/s]"
     ]
    },
    {
     "name": "stdout",
     "output_type": "stream",
     "text": [
      "Training_loss 0.04216,   Relative Error 0.07052\n",
      "Training_loss 0.04197,   Relative Error 0.07036\n"
     ]
    },
    {
     "name": "stderr",
     "output_type": "stream",
     "text": [
      "\r",
      " 63%|██████▎   | 1258/2000 [02:38<02:38,  4.69it/s]"
     ]
    },
    {
     "name": "stdout",
     "output_type": "stream",
     "text": [
      "Training_loss 0.04186,   Relative Error 0.07027\n"
     ]
    },
    {
     "name": "stderr",
     "output_type": "stream",
     "text": [
      " 63%|██████▎   | 1260/2000 [02:39<02:28,  4.99it/s]"
     ]
    },
    {
     "name": "stdout",
     "output_type": "stream",
     "text": [
      "Training_loss 0.04172,   Relative Error 0.07015\n",
      "Training_loss 0.04152,   Relative Error 0.06998\n"
     ]
    },
    {
     "name": "stderr",
     "output_type": "stream",
     "text": [
      " 63%|██████▎   | 1262/2000 [02:39<02:00,  6.11it/s]"
     ]
    },
    {
     "name": "stdout",
     "output_type": "stream",
     "text": [
      "Training_loss 0.04127,   Relative Error 0.06977\n",
      "Training_loss 0.04112,   Relative Error 0.06964\n"
     ]
    },
    {
     "name": "stderr",
     "output_type": "stream",
     "text": [
      "\r",
      " 63%|██████▎   | 1263/2000 [02:39<02:03,  5.96it/s]"
     ]
    },
    {
     "name": "stdout",
     "output_type": "stream",
     "text": [
      "Training_loss 0.04090,   Relative Error 0.06946\n"
     ]
    },
    {
     "name": "stderr",
     "output_type": "stream",
     "text": [
      "\r",
      " 63%|██████▎   | 1264/2000 [02:40<02:19,  5.26it/s]"
     ]
    },
    {
     "name": "stdout",
     "output_type": "stream",
     "text": [
      "Training_loss 0.04076,   Relative Error 0.06934\n"
     ]
    },
    {
     "name": "stderr",
     "output_type": "stream",
     "text": [
      "\r",
      " 63%|██████▎   | 1265/2000 [02:40<02:50,  4.32it/s]"
     ]
    },
    {
     "name": "stdout",
     "output_type": "stream",
     "text": [
      "Training_loss 0.04058,   Relative Error 0.06918\n"
     ]
    },
    {
     "name": "stderr",
     "output_type": "stream",
     "text": [
      "\r",
      " 63%|██████▎   | 1266/2000 [02:40<03:24,  3.59it/s]"
     ]
    },
    {
     "name": "stdout",
     "output_type": "stream",
     "text": [
      "Training_loss 0.04038,   Relative Error 0.06902\n"
     ]
    },
    {
     "name": "stderr",
     "output_type": "stream",
     "text": [
      "\r",
      " 63%|██████▎   | 1267/2000 [02:41<04:40,  2.61it/s]"
     ]
    },
    {
     "name": "stdout",
     "output_type": "stream",
     "text": [
      "Training_loss 0.04029,   Relative Error 0.06894\n"
     ]
    },
    {
     "name": "stderr",
     "output_type": "stream",
     "text": [
      "\r",
      " 63%|██████▎   | 1268/2000 [02:41<04:43,  2.58it/s]"
     ]
    },
    {
     "name": "stdout",
     "output_type": "stream",
     "text": [
      "Training_loss 0.04011,   Relative Error 0.06878\n"
     ]
    },
    {
     "name": "stderr",
     "output_type": "stream",
     "text": [
      "\r",
      " 63%|██████▎   | 1269/2000 [02:42<04:45,  2.56it/s]"
     ]
    },
    {
     "name": "stdout",
     "output_type": "stream",
     "text": [
      "Training_loss 0.03990,   Relative Error 0.06860\n"
     ]
    },
    {
     "name": "stderr",
     "output_type": "stream",
     "text": [
      "\r",
      " 64%|██████▎   | 1270/2000 [02:42<04:21,  2.79it/s]"
     ]
    },
    {
     "name": "stdout",
     "output_type": "stream",
     "text": [
      "Training_loss 0.03978,   Relative Error 0.06850\n"
     ]
    },
    {
     "name": "stderr",
     "output_type": "stream",
     "text": [
      "\r",
      " 64%|██████▎   | 1271/2000 [02:42<04:16,  2.85it/s]"
     ]
    },
    {
     "name": "stdout",
     "output_type": "stream",
     "text": [
      "Training_loss 0.03960,   Relative Error 0.06835\n"
     ]
    },
    {
     "name": "stderr",
     "output_type": "stream",
     "text": [
      " 64%|██████▎   | 1273/2000 [02:43<03:47,  3.20it/s]"
     ]
    },
    {
     "name": "stdout",
     "output_type": "stream",
     "text": [
      "Training_loss 0.03951,   Relative Error 0.06827\n",
      "Training_loss 0.03937,   Relative Error 0.06815\n"
     ]
    },
    {
     "name": "stderr",
     "output_type": "stream",
     "text": [
      "\r",
      " 64%|██████▎   | 1274/2000 [02:43<03:34,  3.38it/s]"
     ]
    },
    {
     "name": "stdout",
     "output_type": "stream",
     "text": [
      "Training_loss 0.03920,   Relative Error 0.06800\n"
     ]
    },
    {
     "name": "stderr",
     "output_type": "stream",
     "text": [
      " 64%|██████▍   | 1276/2000 [02:44<03:07,  3.86it/s]"
     ]
    },
    {
     "name": "stdout",
     "output_type": "stream",
     "text": [
      "Training_loss 0.03906,   Relative Error 0.06788\n",
      "Training_loss 0.03888,   Relative Error 0.06773\n"
     ]
    },
    {
     "name": "stderr",
     "output_type": "stream",
     "text": [
      "\r",
      " 64%|██████▍   | 1277/2000 [02:44<03:25,  3.51it/s]"
     ]
    },
    {
     "name": "stdout",
     "output_type": "stream",
     "text": [
      "Training_loss 0.03872,   Relative Error 0.06759\n"
     ]
    },
    {
     "name": "stderr",
     "output_type": "stream",
     "text": [
      "\r",
      " 64%|██████▍   | 1278/2000 [02:44<04:08,  2.90it/s]"
     ]
    },
    {
     "name": "stdout",
     "output_type": "stream",
     "text": [
      "Training_loss 0.03854,   Relative Error 0.06743\n"
     ]
    },
    {
     "name": "stderr",
     "output_type": "stream",
     "text": [
      "\r",
      " 64%|██████▍   | 1279/2000 [02:45<05:03,  2.38it/s]"
     ]
    },
    {
     "name": "stdout",
     "output_type": "stream",
     "text": [
      "Training_loss 0.03844,   Relative Error 0.06734\n"
     ]
    },
    {
     "name": "stderr",
     "output_type": "stream",
     "text": [
      "\r",
      " 64%|██████▍   | 1280/2000 [02:45<04:27,  2.69it/s]"
     ]
    },
    {
     "name": "stdout",
     "output_type": "stream",
     "text": [
      "Training_loss 0.03822,   Relative Error 0.06715\n"
     ]
    },
    {
     "name": "stderr",
     "output_type": "stream",
     "text": [
      "\r",
      " 64%|██████▍   | 1281/2000 [02:45<03:56,  3.05it/s]"
     ]
    },
    {
     "name": "stdout",
     "output_type": "stream",
     "text": [
      "Training_loss 0.03802,   Relative Error 0.06697\n"
     ]
    },
    {
     "name": "stderr",
     "output_type": "stream",
     "text": [
      " 64%|██████▍   | 1283/2000 [02:46<03:10,  3.77it/s]"
     ]
    },
    {
     "name": "stdout",
     "output_type": "stream",
     "text": [
      "Training_loss 0.03788,   Relative Error 0.06685\n",
      "Training_loss 0.03778,   Relative Error 0.06676\n"
     ]
    },
    {
     "name": "stderr",
     "output_type": "stream",
     "text": [
      "\r",
      " 64%|██████▍   | 1284/2000 [02:46<02:52,  4.16it/s]"
     ]
    },
    {
     "name": "stdout",
     "output_type": "stream",
     "text": [
      "Training_loss 0.03755,   Relative Error 0.06655\n"
     ]
    },
    {
     "name": "stderr",
     "output_type": "stream",
     "text": [
      "\r",
      " 64%|██████▍   | 1285/2000 [02:46<02:49,  4.21it/s]"
     ]
    },
    {
     "name": "stdout",
     "output_type": "stream",
     "text": [
      "Training_loss 0.03745,   Relative Error 0.06647\n"
     ]
    },
    {
     "name": "stderr",
     "output_type": "stream",
     "text": [
      " 64%|██████▍   | 1287/2000 [02:47<02:37,  4.53it/s]"
     ]
    },
    {
     "name": "stdout",
     "output_type": "stream",
     "text": [
      "Training_loss 0.03724,   Relative Error 0.06628\n",
      "Training_loss 0.03710,   Relative Error 0.06616\n"
     ]
    },
    {
     "name": "stderr",
     "output_type": "stream",
     "text": [
      " 64%|██████▍   | 1289/2000 [02:47<02:28,  4.77it/s]"
     ]
    },
    {
     "name": "stdout",
     "output_type": "stream",
     "text": [
      "Training_loss 0.03697,   Relative Error 0.06604\n",
      "Training_loss 0.03675,   Relative Error 0.06584\n"
     ]
    },
    {
     "name": "stderr",
     "output_type": "stream",
     "text": [
      " 65%|██████▍   | 1291/2000 [02:48<02:22,  4.99it/s]"
     ]
    },
    {
     "name": "stdout",
     "output_type": "stream",
     "text": [
      "Training_loss 0.03656,   Relative Error 0.06567\n",
      "Training_loss 0.03637,   Relative Error 0.06550\n"
     ]
    },
    {
     "name": "stderr",
     "output_type": "stream",
     "text": [
      " 65%|██████▍   | 1293/2000 [02:48<02:05,  5.63it/s]"
     ]
    },
    {
     "name": "stdout",
     "output_type": "stream",
     "text": [
      "Training_loss 0.03611,   Relative Error 0.06527\n",
      "Training_loss 0.03594,   Relative Error 0.06511\n"
     ]
    },
    {
     "name": "stderr",
     "output_type": "stream",
     "text": [
      " 65%|██████▍   | 1295/2000 [02:48<01:52,  6.27it/s]"
     ]
    },
    {
     "name": "stdout",
     "output_type": "stream",
     "text": [
      "Training_loss 0.03582,   Relative Error 0.06501\n",
      "Training_loss 0.03563,   Relative Error 0.06483\n"
     ]
    },
    {
     "name": "stderr",
     "output_type": "stream",
     "text": [
      " 65%|██████▍   | 1297/2000 [02:48<01:40,  7.02it/s]"
     ]
    },
    {
     "name": "stdout",
     "output_type": "stream",
     "text": [
      "Training_loss 0.03552,   Relative Error 0.06473\n",
      "Training_loss 0.03529,   Relative Error 0.06452\n"
     ]
    },
    {
     "name": "stderr",
     "output_type": "stream",
     "text": [
      " 65%|██████▍   | 1299/2000 [02:49<01:27,  7.99it/s]"
     ]
    },
    {
     "name": "stdout",
     "output_type": "stream",
     "text": [
      "Training_loss 0.03518,   Relative Error 0.06441\n",
      "Training_loss 0.03502,   Relative Error 0.06427\n"
     ]
    },
    {
     "name": "stderr",
     "output_type": "stream",
     "text": [
      " 65%|██████▌   | 1301/2000 [02:49<01:24,  8.23it/s]"
     ]
    },
    {
     "name": "stdout",
     "output_type": "stream",
     "text": [
      "Training_loss 0.03485,   Relative Error 0.06411\n",
      "Training_loss 0.03474,   Relative Error 0.06401\n"
     ]
    },
    {
     "name": "stderr",
     "output_type": "stream",
     "text": [
      " 65%|██████▌   | 1303/2000 [02:49<01:23,  8.33it/s]"
     ]
    },
    {
     "name": "stdout",
     "output_type": "stream",
     "text": [
      "Training_loss 0.03460,   Relative Error 0.06388\n",
      "Training_loss 0.03449,   Relative Error 0.06377\n"
     ]
    },
    {
     "name": "stderr",
     "output_type": "stream",
     "text": [
      " 65%|██████▌   | 1306/2000 [02:49<01:17,  8.92it/s]"
     ]
    },
    {
     "name": "stdout",
     "output_type": "stream",
     "text": [
      "Training_loss 0.03429,   Relative Error 0.06360\n",
      "Training_loss 0.03416,   Relative Error 0.06348\n",
      "Training_loss 0.03399,   Relative Error 0.06331\n"
     ]
    },
    {
     "name": "stderr",
     "output_type": "stream",
     "text": [
      " 65%|██████▌   | 1308/2000 [02:50<01:16,  9.04it/s]"
     ]
    },
    {
     "name": "stdout",
     "output_type": "stream",
     "text": [
      "Training_loss 0.03380,   Relative Error 0.06314\n",
      "Training_loss 0.03370,   Relative Error 0.06304\n"
     ]
    },
    {
     "name": "stderr",
     "output_type": "stream",
     "text": [
      " 66%|██████▌   | 1310/2000 [02:50<01:17,  8.87it/s]"
     ]
    },
    {
     "name": "stdout",
     "output_type": "stream",
     "text": [
      "Training_loss 0.03353,   Relative Error 0.06289\n",
      "Training_loss 0.03343,   Relative Error 0.06279\n"
     ]
    },
    {
     "name": "stderr",
     "output_type": "stream",
     "text": [
      " 66%|██████▌   | 1312/2000 [02:50<01:20,  8.58it/s]"
     ]
    },
    {
     "name": "stdout",
     "output_type": "stream",
     "text": [
      "Training_loss 0.03325,   Relative Error 0.06262\n",
      "Training_loss 0.03318,   Relative Error 0.06255\n"
     ]
    },
    {
     "name": "stderr",
     "output_type": "stream",
     "text": [
      " 66%|██████▌   | 1314/2000 [02:50<01:25,  8.02it/s]"
     ]
    },
    {
     "name": "stdout",
     "output_type": "stream",
     "text": [
      "Training_loss 0.03303,   Relative Error 0.06241\n",
      "Training_loss 0.03292,   Relative Error 0.06230\n"
     ]
    },
    {
     "name": "stderr",
     "output_type": "stream",
     "text": [
      " 66%|██████▌   | 1316/2000 [02:51<01:24,  8.11it/s]"
     ]
    },
    {
     "name": "stdout",
     "output_type": "stream",
     "text": [
      "Training_loss 0.03281,   Relative Error 0.06220\n",
      "Training_loss 0.03262,   Relative Error 0.06202\n"
     ]
    },
    {
     "name": "stderr",
     "output_type": "stream",
     "text": [
      " 66%|██████▌   | 1318/2000 [02:51<01:21,  8.36it/s]"
     ]
    },
    {
     "name": "stdout",
     "output_type": "stream",
     "text": [
      "Training_loss 0.03245,   Relative Error 0.06186\n",
      "Training_loss 0.03237,   Relative Error 0.06178\n"
     ]
    },
    {
     "name": "stderr",
     "output_type": "stream",
     "text": [
      " 66%|██████▌   | 1320/2000 [02:51<01:16,  8.91it/s]"
     ]
    },
    {
     "name": "stdout",
     "output_type": "stream",
     "text": [
      "Training_loss 0.03229,   Relative Error 0.06170\n",
      "Training_loss 0.03218,   Relative Error 0.06160\n"
     ]
    },
    {
     "name": "stderr",
     "output_type": "stream",
     "text": [
      "\r",
      " 66%|██████▌   | 1322/2000 [02:51<01:09,  9.77it/s]"
     ]
    },
    {
     "name": "stdout",
     "output_type": "stream",
     "text": [
      "Training_loss 0.03206,   Relative Error 0.06149\n",
      "Training_loss 0.03191,   Relative Error 0.06134\n",
      "Training_loss 0.03180,   Relative Error 0.06124\n"
     ]
    },
    {
     "name": "stderr",
     "output_type": "stream",
     "text": [
      " 66%|██████▋   | 1325/2000 [02:51<01:07,  9.99it/s]"
     ]
    },
    {
     "name": "stdout",
     "output_type": "stream",
     "text": [
      "Training_loss 0.03164,   Relative Error 0.06108\n",
      "Training_loss 0.03150,   Relative Error 0.06095\n",
      "Training_loss 0.03137,   Relative Error 0.06081\n"
     ]
    },
    {
     "name": "stderr",
     "output_type": "stream",
     "text": [
      " 66%|██████▋   | 1329/2000 [02:52<01:03, 10.51it/s]"
     ]
    },
    {
     "name": "stdout",
     "output_type": "stream",
     "text": [
      "Training_loss 0.03123,   Relative Error 0.06068\n",
      "Training_loss 0.03108,   Relative Error 0.06054\n",
      "Training_loss 0.03090,   Relative Error 0.06036\n"
     ]
    },
    {
     "name": "stderr",
     "output_type": "stream",
     "text": [
      "\r",
      " 67%|██████▋   | 1331/2000 [02:52<01:04, 10.32it/s]"
     ]
    },
    {
     "name": "stdout",
     "output_type": "stream",
     "text": [
      "Training_loss 0.03069,   Relative Error 0.06016\n",
      "Training_loss 0.03060,   Relative Error 0.06007\n",
      "Training_loss 0.03044,   Relative Error 0.05991\n"
     ]
    },
    {
     "name": "stderr",
     "output_type": "stream",
     "text": [
      "\r",
      " 67%|██████▋   | 1333/2000 [02:52<01:03, 10.57it/s]"
     ]
    },
    {
     "name": "stdout",
     "output_type": "stream",
     "text": [
      "Training_loss 0.03026,   Relative Error 0.05973\n",
      "Training_loss 0.03018,   Relative Error 0.05965\n"
     ]
    },
    {
     "name": "stderr",
     "output_type": "stream",
     "text": [
      " 67%|██████▋   | 1337/2000 [02:53<01:04, 10.29it/s]"
     ]
    },
    {
     "name": "stdout",
     "output_type": "stream",
     "text": [
      "Training_loss 0.03009,   Relative Error 0.05956\n",
      "Training_loss 0.03002,   Relative Error 0.05949\n",
      "Training_loss 0.02987,   Relative Error 0.05935\n"
     ]
    },
    {
     "name": "stderr",
     "output_type": "stream",
     "text": [
      "\r",
      " 67%|██████▋   | 1339/2000 [02:53<01:00, 10.99it/s]"
     ]
    },
    {
     "name": "stdout",
     "output_type": "stream",
     "text": [
      "Training_loss 0.02973,   Relative Error 0.05920\n",
      "Training_loss 0.02957,   Relative Error 0.05904\n",
      "Training_loss 0.02944,   Relative Error 0.05891\n"
     ]
    },
    {
     "name": "stderr",
     "output_type": "stream",
     "text": [
      " 67%|██████▋   | 1343/2000 [02:53<00:55, 11.81it/s]"
     ]
    },
    {
     "name": "stdout",
     "output_type": "stream",
     "text": [
      "Training_loss 0.02931,   Relative Error 0.05879\n",
      "Training_loss 0.02912,   Relative Error 0.05859\n",
      "Training_loss 0.02902,   Relative Error 0.05849\n"
     ]
    },
    {
     "name": "stderr",
     "output_type": "stream",
     "text": [
      "\r",
      " 67%|██████▋   | 1345/2000 [02:53<01:01, 10.71it/s]"
     ]
    },
    {
     "name": "stdout",
     "output_type": "stream",
     "text": [
      "Training_loss 0.02889,   Relative Error 0.05835\n",
      "Training_loss 0.02877,   Relative Error 0.05824\n"
     ]
    },
    {
     "name": "stderr",
     "output_type": "stream",
     "text": [
      "\r",
      " 67%|██████▋   | 1347/2000 [02:54<01:03, 10.29it/s]"
     ]
    },
    {
     "name": "stdout",
     "output_type": "stream",
     "text": [
      "Training_loss 0.02868,   Relative Error 0.05815\n",
      "Training_loss 0.02858,   Relative Error 0.05805\n",
      "Training_loss 0.02839,   Relative Error 0.05786\n"
     ]
    },
    {
     "name": "stderr",
     "output_type": "stream",
     "text": [
      "\r",
      " 67%|██████▋   | 1349/2000 [02:54<01:05,  9.95it/s]"
     ]
    },
    {
     "name": "stdout",
     "output_type": "stream",
     "text": [
      "Training_loss 0.02825,   Relative Error 0.05771\n",
      "Training_loss 0.02814,   Relative Error 0.05759\n"
     ]
    },
    {
     "name": "stderr",
     "output_type": "stream",
     "text": [
      " 68%|██████▊   | 1352/2000 [02:54<01:14,  8.64it/s]"
     ]
    },
    {
     "name": "stdout",
     "output_type": "stream",
     "text": [
      "Training_loss 0.02803,   Relative Error 0.05749\n",
      "Training_loss 0.02789,   Relative Error 0.05734\n"
     ]
    },
    {
     "name": "stderr",
     "output_type": "stream",
     "text": [
      "\r",
      " 68%|██████▊   | 1354/2000 [02:54<01:09,  9.24it/s]"
     ]
    },
    {
     "name": "stdout",
     "output_type": "stream",
     "text": [
      "Training_loss 0.02778,   Relative Error 0.05723\n",
      "Training_loss 0.02769,   Relative Error 0.05714\n",
      "Training_loss 0.02762,   Relative Error 0.05707\n"
     ]
    },
    {
     "name": "stderr",
     "output_type": "stream",
     "text": [
      "\r",
      " 68%|██████▊   | 1356/2000 [02:55<01:02, 10.32it/s]"
     ]
    },
    {
     "name": "stdout",
     "output_type": "stream",
     "text": [
      "Training_loss 0.02752,   Relative Error 0.05696\n",
      "Training_loss 0.02741,   Relative Error 0.05685\n"
     ]
    },
    {
     "name": "stderr",
     "output_type": "stream",
     "text": [
      "\r",
      " 68%|██████▊   | 1358/2000 [02:55<01:05,  9.80it/s]"
     ]
    },
    {
     "name": "stdout",
     "output_type": "stream",
     "text": [
      "Training_loss 0.02730,   Relative Error 0.05673\n",
      "Training_loss 0.02722,   Relative Error 0.05665\n"
     ]
    },
    {
     "name": "stderr",
     "output_type": "stream",
     "text": [
      " 68%|██████▊   | 1362/2000 [02:55<01:03, 10.01it/s]"
     ]
    },
    {
     "name": "stdout",
     "output_type": "stream",
     "text": [
      "Training_loss 0.02710,   Relative Error 0.05653\n",
      "Training_loss 0.02701,   Relative Error 0.05643\n",
      "Training_loss 0.02695,   Relative Error 0.05636\n"
     ]
    },
    {
     "name": "stderr",
     "output_type": "stream",
     "text": [
      "\r",
      " 68%|██████▊   | 1364/2000 [02:55<01:09,  9.19it/s]"
     ]
    },
    {
     "name": "stdout",
     "output_type": "stream",
     "text": [
      "Training_loss 0.02686,   Relative Error 0.05627\n",
      "Training_loss 0.02673,   Relative Error 0.05613\n"
     ]
    },
    {
     "name": "stderr",
     "output_type": "stream",
     "text": [
      " 68%|██████▊   | 1366/2000 [02:56<01:12,  8.77it/s]"
     ]
    },
    {
     "name": "stdout",
     "output_type": "stream",
     "text": [
      "Training_loss 0.02663,   Relative Error 0.05603\n",
      "Training_loss 0.02655,   Relative Error 0.05595\n"
     ]
    },
    {
     "name": "stderr",
     "output_type": "stream",
     "text": [
      " 68%|██████▊   | 1369/2000 [02:56<01:07,  9.31it/s]"
     ]
    },
    {
     "name": "stdout",
     "output_type": "stream",
     "text": [
      "Training_loss 0.02646,   Relative Error 0.05585\n",
      "Training_loss 0.02634,   Relative Error 0.05573\n",
      "Training_loss 0.02629,   Relative Error 0.05567\n"
     ]
    },
    {
     "name": "stderr",
     "output_type": "stream",
     "text": [
      " 69%|██████▊   | 1371/2000 [02:56<01:09,  9.05it/s]"
     ]
    },
    {
     "name": "stdout",
     "output_type": "stream",
     "text": [
      "Training_loss 0.02623,   Relative Error 0.05561\n",
      "Training_loss 0.02608,   Relative Error 0.05545\n"
     ]
    },
    {
     "name": "stderr",
     "output_type": "stream",
     "text": [
      " 69%|██████▊   | 1373/2000 [02:56<01:18,  8.01it/s]"
     ]
    },
    {
     "name": "stdout",
     "output_type": "stream",
     "text": [
      "Training_loss 0.02597,   Relative Error 0.05533\n",
      "Training_loss 0.02579,   Relative Error 0.05514\n"
     ]
    },
    {
     "name": "stderr",
     "output_type": "stream",
     "text": [
      " 69%|██████▉   | 1375/2000 [02:57<01:28,  7.04it/s]"
     ]
    },
    {
     "name": "stdout",
     "output_type": "stream",
     "text": [
      "Training_loss 0.02567,   Relative Error 0.05501\n",
      "Training_loss 0.02556,   Relative Error 0.05489\n"
     ]
    },
    {
     "name": "stderr",
     "output_type": "stream",
     "text": [
      " 69%|██████▉   | 1377/2000 [02:57<01:23,  7.50it/s]"
     ]
    },
    {
     "name": "stdout",
     "output_type": "stream",
     "text": [
      "Training_loss 0.02547,   Relative Error 0.05479\n",
      "Training_loss 0.02536,   Relative Error 0.05467\n"
     ]
    },
    {
     "name": "stderr",
     "output_type": "stream",
     "text": [
      " 69%|██████▉   | 1379/2000 [02:57<01:17,  8.03it/s]"
     ]
    },
    {
     "name": "stdout",
     "output_type": "stream",
     "text": [
      "Training_loss 0.02526,   Relative Error 0.05456\n",
      "Training_loss 0.02518,   Relative Error 0.05448\n"
     ]
    },
    {
     "name": "stderr",
     "output_type": "stream",
     "text": [
      " 69%|██████▉   | 1381/2000 [02:57<01:13,  8.42it/s]"
     ]
    },
    {
     "name": "stdout",
     "output_type": "stream",
     "text": [
      "Training_loss 0.02504,   Relative Error 0.05432\n",
      "Training_loss 0.02489,   Relative Error 0.05416\n"
     ]
    },
    {
     "name": "stderr",
     "output_type": "stream",
     "text": [
      " 69%|██████▉   | 1383/2000 [02:58<01:25,  7.22it/s]"
     ]
    },
    {
     "name": "stdout",
     "output_type": "stream",
     "text": [
      "Training_loss 0.02475,   Relative Error 0.05401\n",
      "Training_loss 0.02468,   Relative Error 0.05393\n"
     ]
    },
    {
     "name": "stderr",
     "output_type": "stream",
     "text": [
      " 69%|██████▉   | 1385/2000 [02:58<01:30,  6.79it/s]"
     ]
    },
    {
     "name": "stdout",
     "output_type": "stream",
     "text": [
      "Training_loss 0.02459,   Relative Error 0.05383\n",
      "Training_loss 0.02450,   Relative Error 0.05373\n"
     ]
    },
    {
     "name": "stderr",
     "output_type": "stream",
     "text": [
      " 69%|██████▉   | 1387/2000 [02:58<01:30,  6.75it/s]"
     ]
    },
    {
     "name": "stdout",
     "output_type": "stream",
     "text": [
      "Training_loss 0.02439,   Relative Error 0.05361\n",
      "Training_loss 0.02426,   Relative Error 0.05348\n"
     ]
    },
    {
     "name": "stderr",
     "output_type": "stream",
     "text": [
      " 69%|██████▉   | 1389/2000 [02:59<01:23,  7.33it/s]"
     ]
    },
    {
     "name": "stdout",
     "output_type": "stream",
     "text": [
      "Training_loss 0.02417,   Relative Error 0.05337\n",
      "Training_loss 0.02402,   Relative Error 0.05321\n"
     ]
    },
    {
     "name": "stderr",
     "output_type": "stream",
     "text": [
      " 70%|██████▉   | 1391/2000 [02:59<01:17,  7.86it/s]"
     ]
    },
    {
     "name": "stdout",
     "output_type": "stream",
     "text": [
      "Training_loss 0.02393,   Relative Error 0.05311\n",
      "Training_loss 0.02377,   Relative Error 0.05293\n"
     ]
    },
    {
     "name": "stderr",
     "output_type": "stream",
     "text": [
      " 70%|██████▉   | 1393/2000 [02:59<01:14,  8.12it/s]"
     ]
    },
    {
     "name": "stdout",
     "output_type": "stream",
     "text": [
      "Training_loss 0.02368,   Relative Error 0.05283\n",
      "Training_loss 0.02353,   Relative Error 0.05266\n"
     ]
    },
    {
     "name": "stderr",
     "output_type": "stream",
     "text": [
      " 70%|██████▉   | 1395/2000 [02:59<01:14,  8.15it/s]"
     ]
    },
    {
     "name": "stdout",
     "output_type": "stream",
     "text": [
      "Training_loss 0.02341,   Relative Error 0.05253\n",
      "Training_loss 0.02329,   Relative Error 0.05239\n"
     ]
    },
    {
     "name": "stderr",
     "output_type": "stream",
     "text": [
      " 70%|██████▉   | 1397/2000 [03:00<01:19,  7.63it/s]"
     ]
    },
    {
     "name": "stdout",
     "output_type": "stream",
     "text": [
      "Training_loss 0.02321,   Relative Error 0.05230\n",
      "Training_loss 0.02304,   Relative Error 0.05212\n"
     ]
    },
    {
     "name": "stderr",
     "output_type": "stream",
     "text": [
      " 70%|██████▉   | 1399/2000 [03:00<01:16,  7.86it/s]"
     ]
    },
    {
     "name": "stdout",
     "output_type": "stream",
     "text": [
      "Training_loss 0.02294,   Relative Error 0.05201\n",
      "Training_loss 0.02284,   Relative Error 0.05189\n"
     ]
    },
    {
     "name": "stderr",
     "output_type": "stream",
     "text": [
      " 70%|███████   | 1401/2000 [03:00<01:19,  7.50it/s]"
     ]
    },
    {
     "name": "stdout",
     "output_type": "stream",
     "text": [
      "Training_loss 0.02276,   Relative Error 0.05180\n",
      "Training_loss 0.02267,   Relative Error 0.05170\n"
     ]
    },
    {
     "name": "stderr",
     "output_type": "stream",
     "text": [
      " 70%|███████   | 1403/2000 [03:00<01:10,  8.42it/s]"
     ]
    },
    {
     "name": "stdout",
     "output_type": "stream",
     "text": [
      "Training_loss 0.02257,   Relative Error 0.05159\n",
      "Training_loss 0.02247,   Relative Error 0.05147\n"
     ]
    },
    {
     "name": "stderr",
     "output_type": "stream",
     "text": [
      "\r",
      " 70%|███████   | 1404/2000 [03:00<01:08,  8.75it/s]"
     ]
    },
    {
     "name": "stdout",
     "output_type": "stream",
     "text": [
      "Training_loss 0.02234,   Relative Error 0.05132\n",
      "Training_loss 0.02220,   Relative Error 0.05115\n"
     ]
    },
    {
     "name": "stderr",
     "output_type": "stream",
     "text": [
      " 70%|███████   | 1407/2000 [03:01<01:11,  8.35it/s]"
     ]
    },
    {
     "name": "stdout",
     "output_type": "stream",
     "text": [
      "Training_loss 0.02213,   Relative Error 0.05108\n",
      "Training_loss 0.02208,   Relative Error 0.05102\n"
     ]
    },
    {
     "name": "stderr",
     "output_type": "stream",
     "text": [
      " 70%|███████   | 1409/2000 [03:01<01:25,  6.95it/s]"
     ]
    },
    {
     "name": "stdout",
     "output_type": "stream",
     "text": [
      "Training_loss 0.02202,   Relative Error 0.05095\n",
      "Training_loss 0.02193,   Relative Error 0.05084\n"
     ]
    },
    {
     "name": "stderr",
     "output_type": "stream",
     "text": [
      " 71%|███████   | 1411/2000 [03:01<01:27,  6.69it/s]"
     ]
    },
    {
     "name": "stdout",
     "output_type": "stream",
     "text": [
      "Training_loss 0.02185,   Relative Error 0.05075\n",
      "Training_loss 0.02178,   Relative Error 0.05066\n"
     ]
    },
    {
     "name": "stderr",
     "output_type": "stream",
     "text": [
      " 71%|███████   | 1413/2000 [03:02<01:26,  6.75it/s]"
     ]
    },
    {
     "name": "stdout",
     "output_type": "stream",
     "text": [
      "Training_loss 0.02172,   Relative Error 0.05060\n",
      "Training_loss 0.02167,   Relative Error 0.05054\n"
     ]
    },
    {
     "name": "stderr",
     "output_type": "stream",
     "text": [
      "\r",
      " 71%|███████   | 1414/2000 [03:02<01:33,  6.25it/s]"
     ]
    },
    {
     "name": "stdout",
     "output_type": "stream",
     "text": [
      "Training_loss 0.02157,   Relative Error 0.05042\n"
     ]
    },
    {
     "name": "stderr",
     "output_type": "stream",
     "text": [
      " 71%|███████   | 1416/2000 [03:02<01:36,  6.02it/s]"
     ]
    },
    {
     "name": "stdout",
     "output_type": "stream",
     "text": [
      "Training_loss 0.02153,   Relative Error 0.05038\n",
      "Training_loss 0.02145,   Relative Error 0.05028\n"
     ]
    },
    {
     "name": "stderr",
     "output_type": "stream",
     "text": [
      " 71%|███████   | 1418/2000 [03:03<01:41,  5.72it/s]"
     ]
    },
    {
     "name": "stdout",
     "output_type": "stream",
     "text": [
      "Training_loss 0.02136,   Relative Error 0.05017\n",
      "Training_loss 0.02128,   Relative Error 0.05009\n"
     ]
    },
    {
     "name": "stderr",
     "output_type": "stream",
     "text": [
      " 71%|███████   | 1420/2000 [03:03<01:44,  5.53it/s]"
     ]
    },
    {
     "name": "stdout",
     "output_type": "stream",
     "text": [
      "Training_loss 0.02118,   Relative Error 0.04997\n",
      "Training_loss 0.02112,   Relative Error 0.04989\n"
     ]
    },
    {
     "name": "stderr",
     "output_type": "stream",
     "text": [
      " 71%|███████   | 1422/2000 [03:03<01:34,  6.12it/s]"
     ]
    },
    {
     "name": "stdout",
     "output_type": "stream",
     "text": [
      "Training_loss 0.02104,   Relative Error 0.04979\n",
      "Training_loss 0.02090,   Relative Error 0.04964\n"
     ]
    },
    {
     "name": "stderr",
     "output_type": "stream",
     "text": [
      " 71%|███████   | 1424/2000 [03:04<01:27,  6.59it/s]"
     ]
    },
    {
     "name": "stdout",
     "output_type": "stream",
     "text": [
      "Training_loss 0.02081,   Relative Error 0.04952\n",
      "Training_loss 0.02069,   Relative Error 0.04938\n"
     ]
    },
    {
     "name": "stderr",
     "output_type": "stream",
     "text": [
      " 71%|███████▏  | 1426/2000 [03:04<01:23,  6.90it/s]"
     ]
    },
    {
     "name": "stdout",
     "output_type": "stream",
     "text": [
      "Training_loss 0.02058,   Relative Error 0.04925\n",
      "Training_loss 0.02052,   Relative Error 0.04918\n"
     ]
    },
    {
     "name": "stderr",
     "output_type": "stream",
     "text": [
      " 71%|███████▏  | 1428/2000 [03:04<01:29,  6.38it/s]"
     ]
    },
    {
     "name": "stdout",
     "output_type": "stream",
     "text": [
      "Training_loss 0.02045,   Relative Error 0.04909\n",
      "Training_loss 0.02037,   Relative Error 0.04899\n"
     ]
    },
    {
     "name": "stderr",
     "output_type": "stream",
     "text": [
      " 72%|███████▏  | 1430/2000 [03:05<01:39,  5.75it/s]"
     ]
    },
    {
     "name": "stdout",
     "output_type": "stream",
     "text": [
      "Training_loss 0.02031,   Relative Error 0.04892\n",
      "Training_loss 0.02025,   Relative Error 0.04885\n"
     ]
    },
    {
     "name": "stderr",
     "output_type": "stream",
     "text": [
      " 72%|███████▏  | 1432/2000 [03:05<01:32,  6.15it/s]"
     ]
    },
    {
     "name": "stdout",
     "output_type": "stream",
     "text": [
      "Training_loss 0.02016,   Relative Error 0.04874\n",
      "Training_loss 0.02006,   Relative Error 0.04862\n"
     ]
    },
    {
     "name": "stderr",
     "output_type": "stream",
     "text": [
      " 72%|███████▏  | 1434/2000 [03:05<01:33,  6.05it/s]"
     ]
    },
    {
     "name": "stdout",
     "output_type": "stream",
     "text": [
      "Training_loss 0.02002,   Relative Error 0.04857\n",
      "Training_loss 0.01993,   Relative Error 0.04846\n"
     ]
    },
    {
     "name": "stderr",
     "output_type": "stream",
     "text": [
      "\r",
      " 72%|███████▏  | 1435/2000 [03:06<01:42,  5.50it/s]"
     ]
    },
    {
     "name": "stdout",
     "output_type": "stream",
     "text": [
      "Training_loss 0.01978,   Relative Error 0.04828\n"
     ]
    },
    {
     "name": "stderr",
     "output_type": "stream",
     "text": [
      " 72%|███████▏  | 1437/2000 [03:06<01:45,  5.34it/s]"
     ]
    },
    {
     "name": "stdout",
     "output_type": "stream",
     "text": [
      "Training_loss 0.01968,   Relative Error 0.04815\n",
      "Training_loss 0.01955,   Relative Error 0.04800\n"
     ]
    },
    {
     "name": "stderr",
     "output_type": "stream",
     "text": [
      "\r",
      " 72%|███████▏  | 1438/2000 [03:06<02:00,  4.65it/s]"
     ]
    },
    {
     "name": "stdout",
     "output_type": "stream",
     "text": [
      "Training_loss 0.01946,   Relative Error 0.04789\n"
     ]
    },
    {
     "name": "stderr",
     "output_type": "stream",
     "text": [
      "\r",
      " 72%|███████▏  | 1439/2000 [03:07<02:31,  3.71it/s]"
     ]
    },
    {
     "name": "stdout",
     "output_type": "stream",
     "text": [
      "Training_loss 0.01934,   Relative Error 0.04774\n"
     ]
    },
    {
     "name": "stderr",
     "output_type": "stream",
     "text": [
      " 72%|███████▏  | 1441/2000 [03:07<02:11,  4.24it/s]"
     ]
    },
    {
     "name": "stdout",
     "output_type": "stream",
     "text": [
      "Training_loss 0.01927,   Relative Error 0.04766\n",
      "Training_loss 0.01921,   Relative Error 0.04757\n"
     ]
    },
    {
     "name": "stderr",
     "output_type": "stream",
     "text": [
      " 72%|███████▏  | 1443/2000 [03:07<01:39,  5.58it/s]"
     ]
    },
    {
     "name": "stdout",
     "output_type": "stream",
     "text": [
      "Training_loss 0.01913,   Relative Error 0.04748\n",
      "Training_loss 0.01903,   Relative Error 0.04736\n"
     ]
    },
    {
     "name": "stderr",
     "output_type": "stream",
     "text": [
      " 72%|███████▏  | 1445/2000 [03:08<01:24,  6.53it/s]"
     ]
    },
    {
     "name": "stdout",
     "output_type": "stream",
     "text": [
      "Training_loss 0.01897,   Relative Error 0.04728\n",
      "Training_loss 0.01881,   Relative Error 0.04708\n"
     ]
    },
    {
     "name": "stderr",
     "output_type": "stream",
     "text": [
      " 72%|███████▏  | 1447/2000 [03:08<01:14,  7.44it/s]"
     ]
    },
    {
     "name": "stdout",
     "output_type": "stream",
     "text": [
      "Training_loss 0.01874,   Relative Error 0.04699\n",
      "Training_loss 0.01866,   Relative Error 0.04689\n"
     ]
    },
    {
     "name": "stderr",
     "output_type": "stream",
     "text": [
      "\r",
      " 72%|███████▏  | 1449/2000 [03:08<01:04,  8.57it/s]"
     ]
    },
    {
     "name": "stdout",
     "output_type": "stream",
     "text": [
      "Training_loss 0.01859,   Relative Error 0.04680\n",
      "Training_loss 0.01853,   Relative Error 0.04673\n"
     ]
    },
    {
     "name": "stderr",
     "output_type": "stream",
     "text": [
      " 73%|███████▎  | 1451/2000 [03:08<01:04,  8.55it/s]"
     ]
    },
    {
     "name": "stdout",
     "output_type": "stream",
     "text": [
      "Training_loss 0.01848,   Relative Error 0.04666\n",
      "Training_loss 0.01838,   Relative Error 0.04654\n"
     ]
    },
    {
     "name": "stderr",
     "output_type": "stream",
     "text": [
      " 73%|███████▎  | 1453/2000 [03:08<01:03,  8.64it/s]"
     ]
    },
    {
     "name": "stdout",
     "output_type": "stream",
     "text": [
      "Training_loss 0.01830,   Relative Error 0.04643\n",
      "Training_loss 0.01816,   Relative Error 0.04626\n"
     ]
    },
    {
     "name": "stderr",
     "output_type": "stream",
     "text": [
      " 73%|███████▎  | 1455/2000 [03:09<01:03,  8.52it/s]"
     ]
    },
    {
     "name": "stdout",
     "output_type": "stream",
     "text": [
      "Training_loss 0.01807,   Relative Error 0.04614\n",
      "Training_loss 0.01799,   Relative Error 0.04605\n"
     ]
    },
    {
     "name": "stderr",
     "output_type": "stream",
     "text": [
      "\r",
      " 73%|███████▎  | 1456/2000 [03:09<01:22,  6.62it/s]"
     ]
    },
    {
     "name": "stdout",
     "output_type": "stream",
     "text": [
      "Training_loss 0.01787,   Relative Error 0.04589\n"
     ]
    },
    {
     "name": "stderr",
     "output_type": "stream",
     "text": [
      "\r",
      " 73%|███████▎  | 1457/2000 [03:09<01:53,  4.78it/s]"
     ]
    },
    {
     "name": "stdout",
     "output_type": "stream",
     "text": [
      "Training_loss 0.01782,   Relative Error 0.04583\n"
     ]
    },
    {
     "name": "stderr",
     "output_type": "stream",
     "text": [
      " 73%|███████▎  | 1459/2000 [03:10<01:53,  4.79it/s]"
     ]
    },
    {
     "name": "stdout",
     "output_type": "stream",
     "text": [
      "Training_loss 0.01778,   Relative Error 0.04577\n",
      "Training_loss 0.01769,   Relative Error 0.04566\n"
     ]
    },
    {
     "name": "stderr",
     "output_type": "stream",
     "text": [
      " 73%|███████▎  | 1461/2000 [03:10<01:36,  5.60it/s]"
     ]
    },
    {
     "name": "stdout",
     "output_type": "stream",
     "text": [
      "Training_loss 0.01761,   Relative Error 0.04556\n",
      "Training_loss 0.01751,   Relative Error 0.04542\n"
     ]
    },
    {
     "name": "stderr",
     "output_type": "stream",
     "text": [
      " 73%|███████▎  | 1463/2000 [03:10<01:20,  6.71it/s]"
     ]
    },
    {
     "name": "stdout",
     "output_type": "stream",
     "text": [
      "Training_loss 0.01743,   Relative Error 0.04532\n",
      "Training_loss 0.01737,   Relative Error 0.04524\n"
     ]
    },
    {
     "name": "stderr",
     "output_type": "stream",
     "text": [
      " 73%|███████▎  | 1465/2000 [03:11<01:22,  6.45it/s]"
     ]
    },
    {
     "name": "stdout",
     "output_type": "stream",
     "text": [
      "Training_loss 0.01730,   Relative Error 0.04515\n",
      "Training_loss 0.01723,   Relative Error 0.04506\n"
     ]
    },
    {
     "name": "stderr",
     "output_type": "stream",
     "text": [
      " 73%|███████▎  | 1467/2000 [03:11<01:08,  7.81it/s]"
     ]
    },
    {
     "name": "stdout",
     "output_type": "stream",
     "text": [
      "Training_loss 0.01717,   Relative Error 0.04498\n",
      "Training_loss 0.01711,   Relative Error 0.04490\n"
     ]
    },
    {
     "name": "stderr",
     "output_type": "stream",
     "text": [
      " 73%|███████▎  | 1469/2000 [03:11<01:13,  7.21it/s]"
     ]
    },
    {
     "name": "stdout",
     "output_type": "stream",
     "text": [
      "Training_loss 0.01703,   Relative Error 0.04479\n",
      "Training_loss 0.01696,   Relative Error 0.04471\n"
     ]
    },
    {
     "name": "stderr",
     "output_type": "stream",
     "text": [
      " 74%|███████▎  | 1471/2000 [03:11<01:13,  7.22it/s]"
     ]
    },
    {
     "name": "stdout",
     "output_type": "stream",
     "text": [
      "Training_loss 0.01688,   Relative Error 0.04460\n",
      "Training_loss 0.01681,   Relative Error 0.04450\n"
     ]
    },
    {
     "name": "stderr",
     "output_type": "stream",
     "text": [
      " 74%|███████▎  | 1473/2000 [03:12<01:13,  7.16it/s]"
     ]
    },
    {
     "name": "stdout",
     "output_type": "stream",
     "text": [
      "Training_loss 0.01672,   Relative Error 0.04439\n",
      "Training_loss 0.01661,   Relative Error 0.04423\n"
     ]
    },
    {
     "name": "stderr",
     "output_type": "stream",
     "text": [
      " 74%|███████▍  | 1475/2000 [03:12<01:06,  7.88it/s]"
     ]
    },
    {
     "name": "stdout",
     "output_type": "stream",
     "text": [
      "Training_loss 0.01653,   Relative Error 0.04413\n",
      "Training_loss 0.01645,   Relative Error 0.04403\n"
     ]
    },
    {
     "name": "stderr",
     "output_type": "stream",
     "text": [
      " 74%|███████▍  | 1477/2000 [03:12<01:17,  6.75it/s]"
     ]
    },
    {
     "name": "stdout",
     "output_type": "stream",
     "text": [
      "Training_loss 0.01636,   Relative Error 0.04390\n",
      "Training_loss 0.01630,   Relative Error 0.04382\n"
     ]
    },
    {
     "name": "stderr",
     "output_type": "stream",
     "text": [
      "\r",
      " 74%|███████▍  | 1478/2000 [03:12<01:41,  5.16it/s]"
     ]
    },
    {
     "name": "stdout",
     "output_type": "stream",
     "text": [
      "Training_loss 0.01624,   Relative Error 0.04375\n"
     ]
    },
    {
     "name": "stderr",
     "output_type": "stream",
     "text": [
      "\r",
      " 74%|███████▍  | 1479/2000 [03:13<01:57,  4.45it/s]"
     ]
    },
    {
     "name": "stdout",
     "output_type": "stream",
     "text": [
      "Training_loss 0.01616,   Relative Error 0.04363\n"
     ]
    },
    {
     "name": "stderr",
     "output_type": "stream",
     "text": [
      "\r",
      " 74%|███████▍  | 1480/2000 [03:13<01:57,  4.41it/s]"
     ]
    },
    {
     "name": "stdout",
     "output_type": "stream",
     "text": [
      "Training_loss 0.01607,   Relative Error 0.04351\n"
     ]
    },
    {
     "name": "stderr",
     "output_type": "stream",
     "text": [
      " 74%|███████▍  | 1482/2000 [03:13<01:41,  5.10it/s]"
     ]
    },
    {
     "name": "stdout",
     "output_type": "stream",
     "text": [
      "Training_loss 0.01603,   Relative Error 0.04346\n",
      "Training_loss 0.01597,   Relative Error 0.04337\n"
     ]
    },
    {
     "name": "stderr",
     "output_type": "stream",
     "text": [
      " 74%|███████▍  | 1484/2000 [03:14<01:27,  5.87it/s]"
     ]
    },
    {
     "name": "stdout",
     "output_type": "stream",
     "text": [
      "Training_loss 0.01589,   Relative Error 0.04327\n",
      "Training_loss 0.01583,   Relative Error 0.04318\n"
     ]
    },
    {
     "name": "stderr",
     "output_type": "stream",
     "text": [
      "\r",
      " 74%|███████▍  | 1485/2000 [03:14<01:19,  6.45it/s]"
     ]
    },
    {
     "name": "stdout",
     "output_type": "stream",
     "text": [
      "Training_loss 0.01577,   Relative Error 0.04310\n"
     ]
    },
    {
     "name": "stderr",
     "output_type": "stream",
     "text": [
      " 74%|███████▍  | 1487/2000 [03:14<01:25,  5.99it/s]"
     ]
    },
    {
     "name": "stdout",
     "output_type": "stream",
     "text": [
      "Training_loss 0.01572,   Relative Error 0.04303\n",
      "Training_loss 0.01564,   Relative Error 0.04293\n"
     ]
    },
    {
     "name": "stderr",
     "output_type": "stream",
     "text": [
      " 74%|███████▍  | 1489/2000 [03:14<01:15,  6.78it/s]"
     ]
    },
    {
     "name": "stdout",
     "output_type": "stream",
     "text": [
      "Training_loss 0.01557,   Relative Error 0.04283\n",
      "Training_loss 0.01553,   Relative Error 0.04277\n"
     ]
    },
    {
     "name": "stderr",
     "output_type": "stream",
     "text": [
      " 75%|███████▍  | 1491/2000 [03:15<01:18,  6.52it/s]"
     ]
    },
    {
     "name": "stdout",
     "output_type": "stream",
     "text": [
      "Training_loss 0.01548,   Relative Error 0.04270\n",
      "Training_loss 0.01541,   Relative Error 0.04260\n"
     ]
    },
    {
     "name": "stderr",
     "output_type": "stream",
     "text": [
      "\r",
      " 75%|███████▍  | 1492/2000 [03:15<01:20,  6.30it/s]"
     ]
    },
    {
     "name": "stdout",
     "output_type": "stream",
     "text": [
      "Training_loss 0.01531,   Relative Error 0.04246\n"
     ]
    },
    {
     "name": "stderr",
     "output_type": "stream",
     "text": [
      " 75%|███████▍  | 1494/2000 [03:15<01:29,  5.64it/s]"
     ]
    },
    {
     "name": "stdout",
     "output_type": "stream",
     "text": [
      "Training_loss 0.01525,   Relative Error 0.04238\n",
      "Training_loss 0.01519,   Relative Error 0.04230\n"
     ]
    },
    {
     "name": "stderr",
     "output_type": "stream",
     "text": [
      " 75%|███████▍  | 1496/2000 [03:16<01:27,  5.78it/s]"
     ]
    },
    {
     "name": "stdout",
     "output_type": "stream",
     "text": [
      "Training_loss 0.01513,   Relative Error 0.04221\n",
      "Training_loss 0.01505,   Relative Error 0.04210\n"
     ]
    },
    {
     "name": "stderr",
     "output_type": "stream",
     "text": [
      " 75%|███████▍  | 1498/2000 [03:16<01:25,  5.85it/s]"
     ]
    },
    {
     "name": "stdout",
     "output_type": "stream",
     "text": [
      "Training_loss 0.01498,   Relative Error 0.04200\n",
      "Training_loss 0.01492,   Relative Error 0.04193\n"
     ]
    },
    {
     "name": "stderr",
     "output_type": "stream",
     "text": [
      "\r",
      " 75%|███████▍  | 1499/2000 [03:16<01:48,  4.60it/s]"
     ]
    },
    {
     "name": "stdout",
     "output_type": "stream",
     "text": [
      "Training_loss 0.01483,   Relative Error 0.04180\n"
     ]
    },
    {
     "name": "stderr",
     "output_type": "stream",
     "text": [
      "\r",
      " 75%|███████▌  | 1500/2000 [03:17<02:06,  3.96it/s]"
     ]
    },
    {
     "name": "stdout",
     "output_type": "stream",
     "text": [
      "Training_loss 0.01475,   Relative Error 0.04169\n"
     ]
    },
    {
     "name": "stderr",
     "output_type": "stream",
     "text": [
      "\r",
      " 75%|███████▌  | 1501/2000 [03:17<02:20,  3.55it/s]"
     ]
    },
    {
     "name": "stdout",
     "output_type": "stream",
     "text": [
      "Training_loss 0.01469,   Relative Error 0.04160\n"
     ]
    },
    {
     "name": "stderr",
     "output_type": "stream",
     "text": [
      "\r",
      " 75%|███████▌  | 1502/2000 [03:17<02:28,  3.34it/s]"
     ]
    },
    {
     "name": "stdout",
     "output_type": "stream",
     "text": [
      "Training_loss 0.01461,   Relative Error 0.04149\n"
     ]
    },
    {
     "name": "stderr",
     "output_type": "stream",
     "text": [
      "\r",
      " 75%|███████▌  | 1503/2000 [03:18<02:44,  3.03it/s]"
     ]
    },
    {
     "name": "stdout",
     "output_type": "stream",
     "text": [
      "Training_loss 0.01458,   Relative Error 0.04144\n"
     ]
    },
    {
     "name": "stderr",
     "output_type": "stream",
     "text": [
      "\r",
      " 75%|███████▌  | 1504/2000 [03:18<02:40,  3.10it/s]"
     ]
    },
    {
     "name": "stdout",
     "output_type": "stream",
     "text": [
      "Training_loss 0.01452,   Relative Error 0.04136\n"
     ]
    },
    {
     "name": "stderr",
     "output_type": "stream",
     "text": [
      "\r",
      " 75%|███████▌  | 1505/2000 [03:18<02:49,  2.93it/s]"
     ]
    },
    {
     "name": "stdout",
     "output_type": "stream",
     "text": [
      "Training_loss 0.01443,   Relative Error 0.04123\n"
     ]
    },
    {
     "name": "stderr",
     "output_type": "stream",
     "text": [
      "\r",
      " 75%|███████▌  | 1506/2000 [03:19<02:59,  2.75it/s]"
     ]
    },
    {
     "name": "stdout",
     "output_type": "stream",
     "text": [
      "Training_loss 0.01439,   Relative Error 0.04117\n"
     ]
    },
    {
     "name": "stderr",
     "output_type": "stream",
     "text": [
      "\r",
      " 75%|███████▌  | 1507/2000 [03:19<02:54,  2.83it/s]"
     ]
    },
    {
     "name": "stdout",
     "output_type": "stream",
     "text": [
      "Training_loss 0.01432,   Relative Error 0.04107\n"
     ]
    },
    {
     "name": "stderr",
     "output_type": "stream",
     "text": [
      " 75%|███████▌  | 1509/2000 [03:20<02:20,  3.50it/s]"
     ]
    },
    {
     "name": "stdout",
     "output_type": "stream",
     "text": [
      "Training_loss 0.01427,   Relative Error 0.04100\n",
      "Training_loss 0.01424,   Relative Error 0.04095\n"
     ]
    },
    {
     "name": "stderr",
     "output_type": "stream",
     "text": [
      " 76%|███████▌  | 1511/2000 [03:20<01:44,  4.67it/s]"
     ]
    },
    {
     "name": "stdout",
     "output_type": "stream",
     "text": [
      "Training_loss 0.01419,   Relative Error 0.04089\n",
      "Training_loss 0.01416,   Relative Error 0.04084\n"
     ]
    },
    {
     "name": "stderr",
     "output_type": "stream",
     "text": [
      " 76%|███████▌  | 1513/2000 [03:20<01:25,  5.71it/s]"
     ]
    },
    {
     "name": "stdout",
     "output_type": "stream",
     "text": [
      "Training_loss 0.01411,   Relative Error 0.04077\n",
      "Training_loss 0.01407,   Relative Error 0.04071\n"
     ]
    },
    {
     "name": "stderr",
     "output_type": "stream",
     "text": [
      " 76%|███████▌  | 1515/2000 [03:20<01:16,  6.30it/s]"
     ]
    },
    {
     "name": "stdout",
     "output_type": "stream",
     "text": [
      "Training_loss 0.01399,   Relative Error 0.04060\n",
      "Training_loss 0.01394,   Relative Error 0.04052\n"
     ]
    },
    {
     "name": "stderr",
     "output_type": "stream",
     "text": [
      "\r",
      " 76%|███████▌  | 1516/2000 [03:21<01:27,  5.52it/s]"
     ]
    },
    {
     "name": "stdout",
     "output_type": "stream",
     "text": [
      "Training_loss 0.01385,   Relative Error 0.04040\n"
     ]
    },
    {
     "name": "stderr",
     "output_type": "stream",
     "text": [
      " 76%|███████▌  | 1518/2000 [03:21<01:35,  5.07it/s]"
     ]
    },
    {
     "name": "stdout",
     "output_type": "stream",
     "text": [
      "Training_loss 0.01380,   Relative Error 0.04032\n",
      "Training_loss 0.01375,   Relative Error 0.04025\n"
     ]
    },
    {
     "name": "stderr",
     "output_type": "stream",
     "text": [
      " 76%|███████▌  | 1520/2000 [03:21<01:21,  5.90it/s]"
     ]
    },
    {
     "name": "stdout",
     "output_type": "stream",
     "text": [
      "Training_loss 0.01370,   Relative Error 0.04017\n",
      "Training_loss 0.01364,   Relative Error 0.04009\n"
     ]
    },
    {
     "name": "stderr",
     "output_type": "stream",
     "text": [
      " 76%|███████▌  | 1522/2000 [03:22<01:09,  6.91it/s]"
     ]
    },
    {
     "name": "stdout",
     "output_type": "stream",
     "text": [
      "Training_loss 0.01359,   Relative Error 0.04000\n",
      "Training_loss 0.01353,   Relative Error 0.03992\n"
     ]
    },
    {
     "name": "stderr",
     "output_type": "stream",
     "text": [
      " 76%|███████▌  | 1524/2000 [03:22<01:03,  7.55it/s]"
     ]
    },
    {
     "name": "stdout",
     "output_type": "stream",
     "text": [
      "Training_loss 0.01347,   Relative Error 0.03983\n",
      "Training_loss 0.01342,   Relative Error 0.03975\n"
     ]
    },
    {
     "name": "stderr",
     "output_type": "stream",
     "text": [
      " 76%|███████▋  | 1526/2000 [03:22<01:02,  7.55it/s]"
     ]
    },
    {
     "name": "stdout",
     "output_type": "stream",
     "text": [
      "Training_loss 0.01338,   Relative Error 0.03970\n",
      "Training_loss 0.01333,   Relative Error 0.03962\n"
     ]
    },
    {
     "name": "stderr",
     "output_type": "stream",
     "text": [
      " 76%|███████▋  | 1529/2000 [03:22<00:53,  8.81it/s]"
     ]
    },
    {
     "name": "stdout",
     "output_type": "stream",
     "text": [
      "Training_loss 0.01329,   Relative Error 0.03956\n",
      "Training_loss 0.01322,   Relative Error 0.03945\n",
      "Training_loss 0.01314,   Relative Error 0.03933\n"
     ]
    },
    {
     "name": "stderr",
     "output_type": "stream",
     "text": [
      "\r",
      " 76%|███████▋  | 1530/2000 [03:23<00:53,  8.75it/s]"
     ]
    },
    {
     "name": "stdout",
     "output_type": "stream",
     "text": [
      "Training_loss 0.01310,   Relative Error 0.03928\n",
      "Training_loss 0.01308,   Relative Error 0.03924\n"
     ]
    },
    {
     "name": "stderr",
     "output_type": "stream",
     "text": [
      " 77%|███████▋  | 1534/2000 [03:23<00:49,  9.35it/s]"
     ]
    },
    {
     "name": "stdout",
     "output_type": "stream",
     "text": [
      "Training_loss 0.01302,   Relative Error 0.03916\n",
      "Training_loss 0.01297,   Relative Error 0.03909\n",
      "Training_loss 0.01291,   Relative Error 0.03900\n"
     ]
    },
    {
     "name": "stderr",
     "output_type": "stream",
     "text": [
      " 77%|███████▋  | 1536/2000 [03:23<00:55,  8.40it/s]"
     ]
    },
    {
     "name": "stdout",
     "output_type": "stream",
     "text": [
      "Training_loss 0.01285,   Relative Error 0.03890\n",
      "Training_loss 0.01280,   Relative Error 0.03882\n"
     ]
    },
    {
     "name": "stderr",
     "output_type": "stream",
     "text": [
      " 77%|███████▋  | 1538/2000 [03:23<00:54,  8.46it/s]"
     ]
    },
    {
     "name": "stdout",
     "output_type": "stream",
     "text": [
      "Training_loss 0.01272,   Relative Error 0.03871\n",
      "Training_loss 0.01265,   Relative Error 0.03860\n"
     ]
    },
    {
     "name": "stderr",
     "output_type": "stream",
     "text": [
      "\r",
      " 77%|███████▋  | 1539/2000 [03:24<00:52,  8.82it/s]"
     ]
    },
    {
     "name": "stdout",
     "output_type": "stream",
     "text": [
      "Training_loss 0.01259,   Relative Error 0.03851\n",
      "Training_loss 0.01255,   Relative Error 0.03844\n"
     ]
    },
    {
     "name": "stderr",
     "output_type": "stream",
     "text": [
      " 77%|███████▋  | 1542/2000 [03:24<00:53,  8.50it/s]"
     ]
    },
    {
     "name": "stdout",
     "output_type": "stream",
     "text": [
      "Training_loss 0.01249,   Relative Error 0.03835\n",
      "Training_loss 0.01245,   Relative Error 0.03829\n"
     ]
    },
    {
     "name": "stderr",
     "output_type": "stream",
     "text": [
      " 77%|███████▋  | 1544/2000 [03:24<00:52,  8.73it/s]"
     ]
    },
    {
     "name": "stdout",
     "output_type": "stream",
     "text": [
      "Training_loss 0.01242,   Relative Error 0.03825\n",
      "Training_loss 0.01238,   Relative Error 0.03818\n"
     ]
    },
    {
     "name": "stderr",
     "output_type": "stream",
     "text": [
      "\r",
      " 77%|███████▋  | 1546/2000 [03:24<00:50,  8.92it/s]"
     ]
    },
    {
     "name": "stdout",
     "output_type": "stream",
     "text": [
      "Training_loss 0.01236,   Relative Error 0.03815\n",
      "Training_loss 0.01230,   Relative Error 0.03807\n",
      "Training_loss 0.01227,   Relative Error 0.03801\n"
     ]
    },
    {
     "name": "stderr",
     "output_type": "stream",
     "text": [
      " 77%|███████▋  | 1549/2000 [03:25<00:48,  9.26it/s]"
     ]
    },
    {
     "name": "stdout",
     "output_type": "stream",
     "text": [
      "Training_loss 0.01222,   Relative Error 0.03794\n",
      "Training_loss 0.01217,   Relative Error 0.03786\n"
     ]
    },
    {
     "name": "stderr",
     "output_type": "stream",
     "text": [
      " 78%|███████▊  | 1551/2000 [03:25<00:51,  8.70it/s]"
     ]
    },
    {
     "name": "stdout",
     "output_type": "stream",
     "text": [
      "Training_loss 0.01215,   Relative Error 0.03783\n",
      "Training_loss 0.01211,   Relative Error 0.03776\n",
      "Training_loss 0.01205,   Relative Error 0.03768\n"
     ]
    },
    {
     "name": "stderr",
     "output_type": "stream",
     "text": [
      " 78%|███████▊  | 1554/2000 [03:25<00:47,  9.29it/s]"
     ]
    },
    {
     "name": "stdout",
     "output_type": "stream",
     "text": [
      "Training_loss 0.01201,   Relative Error 0.03761\n",
      "Training_loss 0.01196,   Relative Error 0.03753\n",
      "Training_loss 0.01191,   Relative Error 0.03745\n"
     ]
    },
    {
     "name": "stderr",
     "output_type": "stream",
     "text": [
      " 78%|███████▊  | 1557/2000 [03:26<00:49,  8.87it/s]"
     ]
    },
    {
     "name": "stdout",
     "output_type": "stream",
     "text": [
      "Training_loss 0.01189,   Relative Error 0.03741\n",
      "Training_loss 0.01184,   Relative Error 0.03734\n"
     ]
    },
    {
     "name": "stderr",
     "output_type": "stream",
     "text": [
      " 78%|███████▊  | 1559/2000 [03:26<00:48,  9.04it/s]"
     ]
    },
    {
     "name": "stdout",
     "output_type": "stream",
     "text": [
      "Training_loss 0.01178,   Relative Error 0.03725\n",
      "Training_loss 0.01174,   Relative Error 0.03718\n",
      "Training_loss 0.01169,   Relative Error 0.03710\n"
     ]
    },
    {
     "name": "stderr",
     "output_type": "stream",
     "text": [
      " 78%|███████▊  | 1562/2000 [03:26<00:47,  9.31it/s]"
     ]
    },
    {
     "name": "stdout",
     "output_type": "stream",
     "text": [
      "Training_loss 0.01162,   Relative Error 0.03698\n",
      "Training_loss 0.01156,   Relative Error 0.03690\n",
      "Training_loss 0.01150,   Relative Error 0.03680\n"
     ]
    },
    {
     "name": "stderr",
     "output_type": "stream",
     "text": [
      " 78%|███████▊  | 1565/2000 [03:26<00:50,  8.55it/s]"
     ]
    },
    {
     "name": "stdout",
     "output_type": "stream",
     "text": [
      "Training_loss 0.01143,   Relative Error 0.03668\n",
      "Training_loss 0.01137,   Relative Error 0.03659\n"
     ]
    },
    {
     "name": "stderr",
     "output_type": "stream",
     "text": [
      " 78%|███████▊  | 1567/2000 [03:27<01:06,  6.51it/s]"
     ]
    },
    {
     "name": "stdout",
     "output_type": "stream",
     "text": [
      "Training_loss 0.01134,   Relative Error 0.03654\n",
      "Training_loss 0.01130,   Relative Error 0.03647\n"
     ]
    },
    {
     "name": "stderr",
     "output_type": "stream",
     "text": [
      " 78%|███████▊  | 1569/2000 [03:27<01:04,  6.70it/s]"
     ]
    },
    {
     "name": "stdout",
     "output_type": "stream",
     "text": [
      "Training_loss 0.01124,   Relative Error 0.03638\n",
      "Training_loss 0.01120,   Relative Error 0.03631\n"
     ]
    },
    {
     "name": "stderr",
     "output_type": "stream",
     "text": [
      " 79%|███████▊  | 1571/2000 [03:28<01:12,  5.91it/s]"
     ]
    },
    {
     "name": "stdout",
     "output_type": "stream",
     "text": [
      "Training_loss 0.01115,   Relative Error 0.03623\n",
      "Training_loss 0.01109,   Relative Error 0.03613\n"
     ]
    },
    {
     "name": "stderr",
     "output_type": "stream",
     "text": [
      " 79%|███████▊  | 1573/2000 [03:28<01:19,  5.39it/s]"
     ]
    },
    {
     "name": "stdout",
     "output_type": "stream",
     "text": [
      "Training_loss 0.01101,   Relative Error 0.03601\n",
      "Training_loss 0.01098,   Relative Error 0.03596\n"
     ]
    },
    {
     "name": "stderr",
     "output_type": "stream",
     "text": [
      " 79%|███████▉  | 1575/2000 [03:28<01:20,  5.26it/s]"
     ]
    },
    {
     "name": "stdout",
     "output_type": "stream",
     "text": [
      "Training_loss 0.01091,   Relative Error 0.03585\n",
      "Training_loss 0.01088,   Relative Error 0.03578\n"
     ]
    },
    {
     "name": "stderr",
     "output_type": "stream",
     "text": [
      " 79%|███████▉  | 1577/2000 [03:29<01:09,  6.07it/s]"
     ]
    },
    {
     "name": "stdout",
     "output_type": "stream",
     "text": [
      "Training_loss 0.01085,   Relative Error 0.03575\n",
      "Training_loss 0.01080,   Relative Error 0.03565\n"
     ]
    },
    {
     "name": "stderr",
     "output_type": "stream",
     "text": [
      " 79%|███████▉  | 1579/2000 [03:29<01:02,  6.72it/s]"
     ]
    },
    {
     "name": "stdout",
     "output_type": "stream",
     "text": [
      "Training_loss 0.01075,   Relative Error 0.03557\n",
      "Training_loss 0.01072,   Relative Error 0.03552\n"
     ]
    },
    {
     "name": "stderr",
     "output_type": "stream",
     "text": [
      " 79%|███████▉  | 1581/2000 [03:29<01:07,  6.24it/s]"
     ]
    },
    {
     "name": "stdout",
     "output_type": "stream",
     "text": [
      "Training_loss 0.01068,   Relative Error 0.03546\n",
      "Training_loss 0.01061,   Relative Error 0.03535\n"
     ]
    },
    {
     "name": "stderr",
     "output_type": "stream",
     "text": [
      " 79%|███████▉  | 1583/2000 [03:30<01:06,  6.31it/s]"
     ]
    },
    {
     "name": "stdout",
     "output_type": "stream",
     "text": [
      "Training_loss 0.01055,   Relative Error 0.03525\n",
      "Training_loss 0.01053,   Relative Error 0.03521\n"
     ]
    },
    {
     "name": "stderr",
     "output_type": "stream",
     "text": [
      " 79%|███████▉  | 1585/2000 [03:30<01:01,  6.70it/s]"
     ]
    },
    {
     "name": "stdout",
     "output_type": "stream",
     "text": [
      "Training_loss 0.01050,   Relative Error 0.03515\n",
      "Training_loss 0.01047,   Relative Error 0.03510\n"
     ]
    },
    {
     "name": "stderr",
     "output_type": "stream",
     "text": [
      " 79%|███████▉  | 1587/2000 [03:30<00:57,  7.24it/s]"
     ]
    },
    {
     "name": "stdout",
     "output_type": "stream",
     "text": [
      "Training_loss 0.01043,   Relative Error 0.03504\n",
      "Training_loss 0.01040,   Relative Error 0.03500\n"
     ]
    },
    {
     "name": "stderr",
     "output_type": "stream",
     "text": [
      "\r",
      " 79%|███████▉  | 1588/2000 [03:30<00:54,  7.51it/s]"
     ]
    },
    {
     "name": "stdout",
     "output_type": "stream",
     "text": [
      "Training_loss 0.01037,   Relative Error 0.03493\n",
      "Training_loss 0.01032,   Relative Error 0.03486\n"
     ]
    },
    {
     "name": "stderr",
     "output_type": "stream",
     "text": [
      " 80%|███████▉  | 1591/2000 [03:31<00:49,  8.20it/s]"
     ]
    },
    {
     "name": "stdout",
     "output_type": "stream",
     "text": [
      "Training_loss 0.01029,   Relative Error 0.03480\n",
      "Training_loss 0.01026,   Relative Error 0.03475\n"
     ]
    },
    {
     "name": "stderr",
     "output_type": "stream",
     "text": [
      " 80%|███████▉  | 1593/2000 [03:31<00:54,  7.49it/s]"
     ]
    },
    {
     "name": "stdout",
     "output_type": "stream",
     "text": [
      "Training_loss 0.01022,   Relative Error 0.03468\n",
      "Training_loss 0.01017,   Relative Error 0.03459\n"
     ]
    },
    {
     "name": "stderr",
     "output_type": "stream",
     "text": [
      " 80%|███████▉  | 1595/2000 [03:31<01:03,  6.37it/s]"
     ]
    },
    {
     "name": "stdout",
     "output_type": "stream",
     "text": [
      "Training_loss 0.01012,   Relative Error 0.03452\n",
      "Training_loss 0.01009,   Relative Error 0.03446\n"
     ]
    },
    {
     "name": "stderr",
     "output_type": "stream",
     "text": [
      " 80%|███████▉  | 1597/2000 [03:32<01:01,  6.51it/s]"
     ]
    },
    {
     "name": "stdout",
     "output_type": "stream",
     "text": [
      "Training_loss 0.01004,   Relative Error 0.03437\n",
      "Training_loss 0.00999,   Relative Error 0.03429\n"
     ]
    },
    {
     "name": "stderr",
     "output_type": "stream",
     "text": [
      " 80%|███████▉  | 1599/2000 [03:32<01:00,  6.62it/s]"
     ]
    },
    {
     "name": "stdout",
     "output_type": "stream",
     "text": [
      "Training_loss 0.00996,   Relative Error 0.03423\n",
      "Training_loss 0.00990,   Relative Error 0.03413\n"
     ]
    },
    {
     "name": "stderr",
     "output_type": "stream",
     "text": [
      " 80%|████████  | 1601/2000 [03:32<01:01,  6.50it/s]"
     ]
    },
    {
     "name": "stdout",
     "output_type": "stream",
     "text": [
      "Training_loss 0.00986,   Relative Error 0.03406\n",
      "Training_loss 0.00980,   Relative Error 0.03395\n"
     ]
    },
    {
     "name": "stderr",
     "output_type": "stream",
     "text": [
      "\r",
      " 80%|████████  | 1602/2000 [03:32<00:57,  6.97it/s]"
     ]
    },
    {
     "name": "stdout",
     "output_type": "stream",
     "text": [
      "Training_loss 0.00976,   Relative Error 0.03388\n",
      "Training_loss 0.00972,   Relative Error 0.03382\n"
     ]
    },
    {
     "name": "stderr",
     "output_type": "stream",
     "text": [
      " 80%|████████  | 1605/2000 [03:33<00:51,  7.63it/s]"
     ]
    },
    {
     "name": "stdout",
     "output_type": "stream",
     "text": [
      "Training_loss 0.00968,   Relative Error 0.03374\n",
      "Training_loss 0.00964,   Relative Error 0.03367\n"
     ]
    },
    {
     "name": "stderr",
     "output_type": "stream",
     "text": [
      " 80%|████████  | 1607/2000 [03:33<00:55,  7.12it/s]"
     ]
    },
    {
     "name": "stdout",
     "output_type": "stream",
     "text": [
      "Training_loss 0.00959,   Relative Error 0.03359\n",
      "Training_loss 0.00956,   Relative Error 0.03353\n"
     ]
    },
    {
     "name": "stderr",
     "output_type": "stream",
     "text": [
      " 80%|████████  | 1609/2000 [03:33<00:54,  7.20it/s]"
     ]
    },
    {
     "name": "stdout",
     "output_type": "stream",
     "text": [
      "Training_loss 0.00953,   Relative Error 0.03349\n",
      "Training_loss 0.00950,   Relative Error 0.03343\n"
     ]
    },
    {
     "name": "stderr",
     "output_type": "stream",
     "text": [
      " 81%|████████  | 1611/2000 [03:33<00:50,  7.67it/s]"
     ]
    },
    {
     "name": "stdout",
     "output_type": "stream",
     "text": [
      "Training_loss 0.00946,   Relative Error 0.03337\n",
      "Training_loss 0.00943,   Relative Error 0.03331\n"
     ]
    },
    {
     "name": "stderr",
     "output_type": "stream",
     "text": [
      " 81%|████████  | 1613/2000 [03:34<00:49,  7.80it/s]"
     ]
    },
    {
     "name": "stdout",
     "output_type": "stream",
     "text": [
      "Training_loss 0.00938,   Relative Error 0.03322\n",
      "Training_loss 0.00935,   Relative Error 0.03316\n"
     ]
    },
    {
     "name": "stderr",
     "output_type": "stream",
     "text": [
      " 81%|████████  | 1615/2000 [03:34<00:44,  8.57it/s]"
     ]
    },
    {
     "name": "stdout",
     "output_type": "stream",
     "text": [
      "Training_loss 0.00931,   Relative Error 0.03310\n",
      "Training_loss 0.00927,   Relative Error 0.03302\n"
     ]
    },
    {
     "name": "stderr",
     "output_type": "stream",
     "text": [
      " 81%|████████  | 1617/2000 [03:34<00:55,  6.88it/s]"
     ]
    },
    {
     "name": "stdout",
     "output_type": "stream",
     "text": [
      "Training_loss 0.00924,   Relative Error 0.03298\n",
      "Training_loss 0.00921,   Relative Error 0.03292\n"
     ]
    },
    {
     "name": "stderr",
     "output_type": "stream",
     "text": [
      " 81%|████████  | 1619/2000 [03:35<00:57,  6.65it/s]"
     ]
    },
    {
     "name": "stdout",
     "output_type": "stream",
     "text": [
      "Training_loss 0.00918,   Relative Error 0.03286\n",
      "Training_loss 0.00914,   Relative Error 0.03278\n"
     ]
    },
    {
     "name": "stderr",
     "output_type": "stream",
     "text": [
      " 81%|████████  | 1621/2000 [03:35<00:57,  6.63it/s]"
     ]
    },
    {
     "name": "stdout",
     "output_type": "stream",
     "text": [
      "Training_loss 0.00911,   Relative Error 0.03274\n",
      "Training_loss 0.00908,   Relative Error 0.03267\n"
     ]
    },
    {
     "name": "stderr",
     "output_type": "stream",
     "text": [
      " 81%|████████  | 1623/2000 [03:35<01:04,  5.85it/s]"
     ]
    },
    {
     "name": "stdout",
     "output_type": "stream",
     "text": [
      "Training_loss 0.00904,   Relative Error 0.03261\n",
      "Training_loss 0.00900,   Relative Error 0.03253\n"
     ]
    },
    {
     "name": "stderr",
     "output_type": "stream",
     "text": [
      " 81%|████████▏ | 1625/2000 [03:36<01:04,  5.80it/s]"
     ]
    },
    {
     "name": "stdout",
     "output_type": "stream",
     "text": [
      "Training_loss 0.00895,   Relative Error 0.03244\n",
      "Training_loss 0.00889,   Relative Error 0.03233\n"
     ]
    },
    {
     "name": "stderr",
     "output_type": "stream",
     "text": [
      " 81%|████████▏ | 1627/2000 [03:36<01:10,  5.28it/s]"
     ]
    },
    {
     "name": "stdout",
     "output_type": "stream",
     "text": [
      "Training_loss 0.00885,   Relative Error 0.03225\n",
      "Training_loss 0.00880,   Relative Error 0.03217\n"
     ]
    },
    {
     "name": "stderr",
     "output_type": "stream",
     "text": [
      " 81%|████████▏ | 1629/2000 [03:36<01:10,  5.24it/s]"
     ]
    },
    {
     "name": "stdout",
     "output_type": "stream",
     "text": [
      "Training_loss 0.00877,   Relative Error 0.03211\n",
      "Training_loss 0.00873,   Relative Error 0.03204\n"
     ]
    },
    {
     "name": "stderr",
     "output_type": "stream",
     "text": [
      " 82%|████████▏ | 1631/2000 [03:37<01:06,  5.53it/s]"
     ]
    },
    {
     "name": "stdout",
     "output_type": "stream",
     "text": [
      "Training_loss 0.00870,   Relative Error 0.03198\n",
      "Training_loss 0.00866,   Relative Error 0.03191\n"
     ]
    },
    {
     "name": "stderr",
     "output_type": "stream",
     "text": [
      " 82%|████████▏ | 1633/2000 [03:37<01:04,  5.65it/s]"
     ]
    },
    {
     "name": "stdout",
     "output_type": "stream",
     "text": [
      "Training_loss 0.00863,   Relative Error 0.03186\n",
      "Training_loss 0.00859,   Relative Error 0.03178\n"
     ]
    },
    {
     "name": "stderr",
     "output_type": "stream",
     "text": [
      " 82%|████████▏ | 1635/2000 [03:37<00:56,  6.52it/s]"
     ]
    },
    {
     "name": "stdout",
     "output_type": "stream",
     "text": [
      "Training_loss 0.00855,   Relative Error 0.03171\n",
      "Training_loss 0.00853,   Relative Error 0.03167\n"
     ]
    },
    {
     "name": "stderr",
     "output_type": "stream",
     "text": [
      " 82%|████████▏ | 1637/2000 [03:38<00:58,  6.18it/s]"
     ]
    },
    {
     "name": "stdout",
     "output_type": "stream",
     "text": [
      "Training_loss 0.00851,   Relative Error 0.03164\n",
      "Training_loss 0.00847,   Relative Error 0.03156\n"
     ]
    },
    {
     "name": "stderr",
     "output_type": "stream",
     "text": [
      " 82%|████████▏ | 1639/2000 [03:38<00:50,  7.12it/s]"
     ]
    },
    {
     "name": "stdout",
     "output_type": "stream",
     "text": [
      "Training_loss 0.00844,   Relative Error 0.03150\n",
      "Training_loss 0.00841,   Relative Error 0.03146\n"
     ]
    },
    {
     "name": "stderr",
     "output_type": "stream",
     "text": [
      " 82%|████████▏ | 1641/2000 [03:38<00:53,  6.70it/s]"
     ]
    },
    {
     "name": "stdout",
     "output_type": "stream",
     "text": [
      "Training_loss 0.00838,   Relative Error 0.03139\n",
      "Training_loss 0.00835,   Relative Error 0.03133\n"
     ]
    },
    {
     "name": "stderr",
     "output_type": "stream",
     "text": [
      "\r",
      " 82%|████████▏ | 1643/2000 [03:38<00:47,  7.54it/s]"
     ]
    },
    {
     "name": "stdout",
     "output_type": "stream",
     "text": [
      "Training_loss 0.00831,   Relative Error 0.03127\n",
      "Training_loss 0.00828,   Relative Error 0.03120\n"
     ]
    },
    {
     "name": "stderr",
     "output_type": "stream",
     "text": [
      " 82%|████████▏ | 1645/2000 [03:39<00:50,  7.02it/s]"
     ]
    },
    {
     "name": "stdout",
     "output_type": "stream",
     "text": [
      "Training_loss 0.00825,   Relative Error 0.03114\n",
      "Training_loss 0.00823,   Relative Error 0.03110\n"
     ]
    },
    {
     "name": "stderr",
     "output_type": "stream",
     "text": [
      " 82%|████████▏ | 1647/2000 [03:39<00:48,  7.21it/s]"
     ]
    },
    {
     "name": "stdout",
     "output_type": "stream",
     "text": [
      "Training_loss 0.00820,   Relative Error 0.03105\n",
      "Training_loss 0.00817,   Relative Error 0.03099\n"
     ]
    },
    {
     "name": "stderr",
     "output_type": "stream",
     "text": [
      " 82%|████████▏ | 1649/2000 [03:39<00:50,  6.95it/s]"
     ]
    },
    {
     "name": "stdout",
     "output_type": "stream",
     "text": [
      "Training_loss 0.00814,   Relative Error 0.03093\n",
      "Training_loss 0.00811,   Relative Error 0.03088\n"
     ]
    },
    {
     "name": "stderr",
     "output_type": "stream",
     "text": [
      " 83%|████████▎ | 1651/2000 [03:40<00:56,  6.14it/s]"
     ]
    },
    {
     "name": "stdout",
     "output_type": "stream",
     "text": [
      "Training_loss 0.00807,   Relative Error 0.03079\n",
      "Training_loss 0.00805,   Relative Error 0.03076\n"
     ]
    },
    {
     "name": "stderr",
     "output_type": "stream",
     "text": [
      " 83%|████████▎ | 1653/2000 [03:40<00:56,  6.13it/s]"
     ]
    },
    {
     "name": "stdout",
     "output_type": "stream",
     "text": [
      "Training_loss 0.00802,   Relative Error 0.03070\n",
      "Training_loss 0.00799,   Relative Error 0.03064\n"
     ]
    },
    {
     "name": "stderr",
     "output_type": "stream",
     "text": [
      " 83%|████████▎ | 1655/2000 [03:40<00:50,  6.80it/s]"
     ]
    },
    {
     "name": "stdout",
     "output_type": "stream",
     "text": [
      "Training_loss 0.00797,   Relative Error 0.03060\n",
      "Training_loss 0.00794,   Relative Error 0.03056\n"
     ]
    },
    {
     "name": "stderr",
     "output_type": "stream",
     "text": [
      " 83%|████████▎ | 1657/2000 [03:41<00:46,  7.31it/s]"
     ]
    },
    {
     "name": "stdout",
     "output_type": "stream",
     "text": [
      "Training_loss 0.00792,   Relative Error 0.03051\n",
      "Training_loss 0.00787,   Relative Error 0.03042\n"
     ]
    },
    {
     "name": "stderr",
     "output_type": "stream",
     "text": [
      "\r",
      " 83%|████████▎ | 1658/2000 [03:41<00:45,  7.57it/s]"
     ]
    },
    {
     "name": "stdout",
     "output_type": "stream",
     "text": [
      "Training_loss 0.00785,   Relative Error 0.03037\n",
      "Training_loss 0.00780,   Relative Error 0.03028\n"
     ]
    },
    {
     "name": "stderr",
     "output_type": "stream",
     "text": [
      " 83%|████████▎ | 1661/2000 [03:41<00:42,  7.98it/s]"
     ]
    },
    {
     "name": "stdout",
     "output_type": "stream",
     "text": [
      "Training_loss 0.00777,   Relative Error 0.03023\n",
      "Training_loss 0.00775,   Relative Error 0.03018\n"
     ]
    },
    {
     "name": "stderr",
     "output_type": "stream",
     "text": [
      " 83%|████████▎ | 1663/2000 [03:41<00:44,  7.62it/s]"
     ]
    },
    {
     "name": "stdout",
     "output_type": "stream",
     "text": [
      "Training_loss 0.00772,   Relative Error 0.03012\n",
      "Training_loss 0.00770,   Relative Error 0.03008\n"
     ]
    },
    {
     "name": "stderr",
     "output_type": "stream",
     "text": [
      " 83%|████████▎ | 1665/2000 [03:42<00:43,  7.63it/s]"
     ]
    },
    {
     "name": "stdout",
     "output_type": "stream",
     "text": [
      "Training_loss 0.00768,   Relative Error 0.03003\n",
      "Training_loss 0.00766,   Relative Error 0.03000\n"
     ]
    },
    {
     "name": "stderr",
     "output_type": "stream",
     "text": [
      " 83%|████████▎ | 1667/2000 [03:42<00:42,  7.82it/s]"
     ]
    },
    {
     "name": "stdout",
     "output_type": "stream",
     "text": [
      "Training_loss 0.00762,   Relative Error 0.02992\n",
      "Training_loss 0.00758,   Relative Error 0.02984\n"
     ]
    },
    {
     "name": "stderr",
     "output_type": "stream",
     "text": [
      " 83%|████████▎ | 1669/2000 [03:42<00:41,  8.02it/s]"
     ]
    },
    {
     "name": "stdout",
     "output_type": "stream",
     "text": [
      "Training_loss 0.00754,   Relative Error 0.02976\n",
      "Training_loss 0.00751,   Relative Error 0.02970\n"
     ]
    },
    {
     "name": "stderr",
     "output_type": "stream",
     "text": [
      " 84%|████████▎ | 1671/2000 [03:42<00:47,  6.87it/s]"
     ]
    },
    {
     "name": "stdout",
     "output_type": "stream",
     "text": [
      "Training_loss 0.00747,   Relative Error 0.02963\n",
      "Training_loss 0.00744,   Relative Error 0.02956\n"
     ]
    },
    {
     "name": "stderr",
     "output_type": "stream",
     "text": [
      " 84%|████████▎ | 1673/2000 [03:43<00:47,  6.96it/s]"
     ]
    },
    {
     "name": "stdout",
     "output_type": "stream",
     "text": [
      "Training_loss 0.00741,   Relative Error 0.02950\n",
      "Training_loss 0.00737,   Relative Error 0.02943\n"
     ]
    },
    {
     "name": "stderr",
     "output_type": "stream",
     "text": [
      " 84%|████████▍ | 1675/2000 [03:43<00:45,  7.22it/s]"
     ]
    },
    {
     "name": "stdout",
     "output_type": "stream",
     "text": [
      "Training_loss 0.00733,   Relative Error 0.02934\n",
      "Training_loss 0.00730,   Relative Error 0.02928\n"
     ]
    },
    {
     "name": "stderr",
     "output_type": "stream",
     "text": [
      " 84%|████████▍ | 1677/2000 [03:43<00:42,  7.56it/s]"
     ]
    },
    {
     "name": "stdout",
     "output_type": "stream",
     "text": [
      "Training_loss 0.00727,   Relative Error 0.02922\n",
      "Training_loss 0.00725,   Relative Error 0.02918\n"
     ]
    },
    {
     "name": "stderr",
     "output_type": "stream",
     "text": [
      " 84%|████████▍ | 1679/2000 [03:43<00:41,  7.80it/s]"
     ]
    },
    {
     "name": "stdout",
     "output_type": "stream",
     "text": [
      "Training_loss 0.00722,   Relative Error 0.02913\n",
      "Training_loss 0.00719,   Relative Error 0.02906\n"
     ]
    },
    {
     "name": "stderr",
     "output_type": "stream",
     "text": [
      " 84%|████████▍ | 1681/2000 [03:44<00:40,  7.95it/s]"
     ]
    },
    {
     "name": "stdout",
     "output_type": "stream",
     "text": [
      "Training_loss 0.00716,   Relative Error 0.02900\n",
      "Training_loss 0.00714,   Relative Error 0.02895\n"
     ]
    },
    {
     "name": "stderr",
     "output_type": "stream",
     "text": [
      " 84%|████████▍ | 1683/2000 [03:44<00:37,  8.35it/s]"
     ]
    },
    {
     "name": "stdout",
     "output_type": "stream",
     "text": [
      "Training_loss 0.00712,   Relative Error 0.02891\n",
      "Training_loss 0.00709,   Relative Error 0.02886\n"
     ]
    },
    {
     "name": "stderr",
     "output_type": "stream",
     "text": [
      " 84%|████████▍ | 1685/2000 [03:44<00:38,  8.26it/s]"
     ]
    },
    {
     "name": "stdout",
     "output_type": "stream",
     "text": [
      "Training_loss 0.00707,   Relative Error 0.02881\n",
      "Training_loss 0.00704,   Relative Error 0.02876\n"
     ]
    },
    {
     "name": "stderr",
     "output_type": "stream",
     "text": [
      " 84%|████████▍ | 1687/2000 [03:44<00:37,  8.35it/s]"
     ]
    },
    {
     "name": "stdout",
     "output_type": "stream",
     "text": [
      "Training_loss 0.00702,   Relative Error 0.02872\n",
      "Training_loss 0.00700,   Relative Error 0.02866\n"
     ]
    },
    {
     "name": "stderr",
     "output_type": "stream",
     "text": [
      " 84%|████████▍ | 1689/2000 [03:45<00:38,  8.07it/s]"
     ]
    },
    {
     "name": "stdout",
     "output_type": "stream",
     "text": [
      "Training_loss 0.00698,   Relative Error 0.02862\n",
      "Training_loss 0.00695,   Relative Error 0.02856\n"
     ]
    },
    {
     "name": "stderr",
     "output_type": "stream",
     "text": [
      " 85%|████████▍ | 1691/2000 [03:45<00:39,  7.75it/s]"
     ]
    },
    {
     "name": "stdout",
     "output_type": "stream",
     "text": [
      "Training_loss 0.00692,   Relative Error 0.02850\n",
      "Training_loss 0.00687,   Relative Error 0.02841\n"
     ]
    },
    {
     "name": "stderr",
     "output_type": "stream",
     "text": [
      " 85%|████████▍ | 1693/2000 [03:45<00:38,  7.91it/s]"
     ]
    },
    {
     "name": "stdout",
     "output_type": "stream",
     "text": [
      "Training_loss 0.00684,   Relative Error 0.02833\n",
      "Training_loss 0.00682,   Relative Error 0.02829\n"
     ]
    },
    {
     "name": "stderr",
     "output_type": "stream",
     "text": [
      "\r",
      " 85%|████████▍ | 1694/2000 [03:45<00:39,  7.66it/s]"
     ]
    },
    {
     "name": "stdout",
     "output_type": "stream",
     "text": [
      "Training_loss 0.00679,   Relative Error 0.02823\n"
     ]
    },
    {
     "name": "stderr",
     "output_type": "stream",
     "text": [
      " 85%|████████▍ | 1696/2000 [03:46<00:42,  7.18it/s]"
     ]
    },
    {
     "name": "stdout",
     "output_type": "stream",
     "text": [
      "Training_loss 0.00676,   Relative Error 0.02818\n",
      "Training_loss 0.00674,   Relative Error 0.02814\n"
     ]
    },
    {
     "name": "stderr",
     "output_type": "stream",
     "text": [
      " 85%|████████▍ | 1698/2000 [03:46<00:39,  7.60it/s]"
     ]
    },
    {
     "name": "stdout",
     "output_type": "stream",
     "text": [
      "Training_loss 0.00673,   Relative Error 0.02811\n",
      "Training_loss 0.00671,   Relative Error 0.02807\n"
     ]
    },
    {
     "name": "stderr",
     "output_type": "stream",
     "text": [
      " 85%|████████▌ | 1700/2000 [03:46<00:41,  7.28it/s]"
     ]
    },
    {
     "name": "stdout",
     "output_type": "stream",
     "text": [
      "Training_loss 0.00668,   Relative Error 0.02801\n",
      "Training_loss 0.00664,   Relative Error 0.02793\n"
     ]
    },
    {
     "name": "stderr",
     "output_type": "stream",
     "text": [
      " 85%|████████▌ | 1702/2000 [03:46<00:40,  7.31it/s]"
     ]
    },
    {
     "name": "stdout",
     "output_type": "stream",
     "text": [
      "Training_loss 0.00663,   Relative Error 0.02790\n",
      "Training_loss 0.00660,   Relative Error 0.02783\n"
     ]
    },
    {
     "name": "stderr",
     "output_type": "stream",
     "text": [
      " 85%|████████▌ | 1704/2000 [03:47<00:39,  7.44it/s]"
     ]
    },
    {
     "name": "stdout",
     "output_type": "stream",
     "text": [
      "Training_loss 0.00658,   Relative Error 0.02780\n",
      "Training_loss 0.00656,   Relative Error 0.02775\n"
     ]
    },
    {
     "name": "stderr",
     "output_type": "stream",
     "text": [
      " 85%|████████▌ | 1706/2000 [03:47<00:38,  7.65it/s]"
     ]
    },
    {
     "name": "stdout",
     "output_type": "stream",
     "text": [
      "Training_loss 0.00653,   Relative Error 0.02768\n",
      "Training_loss 0.00651,   Relative Error 0.02764\n"
     ]
    },
    {
     "name": "stderr",
     "output_type": "stream",
     "text": [
      " 85%|████████▌ | 1708/2000 [03:47<00:35,  8.23it/s]"
     ]
    },
    {
     "name": "stdout",
     "output_type": "stream",
     "text": [
      "Training_loss 0.00648,   Relative Error 0.02759\n",
      "Training_loss 0.00647,   Relative Error 0.02756\n"
     ]
    },
    {
     "name": "stderr",
     "output_type": "stream",
     "text": [
      " 86%|████████▌ | 1710/2000 [03:47<00:34,  8.36it/s]"
     ]
    },
    {
     "name": "stdout",
     "output_type": "stream",
     "text": [
      "Training_loss 0.00646,   Relative Error 0.02753\n",
      "Training_loss 0.00643,   Relative Error 0.02748\n"
     ]
    },
    {
     "name": "stderr",
     "output_type": "stream",
     "text": [
      " 86%|████████▌ | 1712/2000 [03:48<00:40,  7.16it/s]"
     ]
    },
    {
     "name": "stdout",
     "output_type": "stream",
     "text": [
      "Training_loss 0.00641,   Relative Error 0.02743\n",
      "Training_loss 0.00639,   Relative Error 0.02738\n"
     ]
    },
    {
     "name": "stderr",
     "output_type": "stream",
     "text": [
      " 86%|████████▌ | 1714/2000 [03:48<00:38,  7.43it/s]"
     ]
    },
    {
     "name": "stdout",
     "output_type": "stream",
     "text": [
      "Training_loss 0.00637,   Relative Error 0.02734\n",
      "Training_loss 0.00634,   Relative Error 0.02728\n"
     ]
    },
    {
     "name": "stderr",
     "output_type": "stream",
     "text": [
      " 86%|████████▌ | 1716/2000 [03:48<00:39,  7.19it/s]"
     ]
    },
    {
     "name": "stdout",
     "output_type": "stream",
     "text": [
      "Training_loss 0.00633,   Relative Error 0.02726\n",
      "Training_loss 0.00631,   Relative Error 0.02721\n"
     ]
    },
    {
     "name": "stderr",
     "output_type": "stream",
     "text": [
      " 86%|████████▌ | 1718/2000 [03:49<00:37,  7.58it/s]"
     ]
    },
    {
     "name": "stdout",
     "output_type": "stream",
     "text": [
      "Training_loss 0.00628,   Relative Error 0.02715\n",
      "Training_loss 0.00625,   Relative Error 0.02708\n"
     ]
    },
    {
     "name": "stderr",
     "output_type": "stream",
     "text": [
      " 86%|████████▌ | 1720/2000 [03:49<00:34,  8.01it/s]"
     ]
    },
    {
     "name": "stdout",
     "output_type": "stream",
     "text": [
      "Training_loss 0.00623,   Relative Error 0.02704\n",
      "Training_loss 0.00621,   Relative Error 0.02700\n"
     ]
    },
    {
     "name": "stderr",
     "output_type": "stream",
     "text": [
      " 86%|████████▌ | 1722/2000 [03:49<00:38,  7.25it/s]"
     ]
    },
    {
     "name": "stdout",
     "output_type": "stream",
     "text": [
      "Training_loss 0.00620,   Relative Error 0.02698\n",
      "Training_loss 0.00617,   Relative Error 0.02691\n"
     ]
    },
    {
     "name": "stderr",
     "output_type": "stream",
     "text": [
      "\r",
      " 86%|████████▌ | 1723/2000 [03:49<00:38,  7.13it/s]"
     ]
    },
    {
     "name": "stdout",
     "output_type": "stream",
     "text": [
      "Training_loss 0.00615,   Relative Error 0.02686\n",
      "Training_loss 0.00613,   Relative Error 0.02682\n"
     ]
    },
    {
     "name": "stderr",
     "output_type": "stream",
     "text": [
      " 86%|████████▋ | 1726/2000 [03:50<00:44,  6.11it/s]"
     ]
    },
    {
     "name": "stdout",
     "output_type": "stream",
     "text": [
      "Training_loss 0.00611,   Relative Error 0.02678\n",
      "Training_loss 0.00609,   Relative Error 0.02674\n"
     ]
    },
    {
     "name": "stderr",
     "output_type": "stream",
     "text": [
      " 86%|████████▋ | 1728/2000 [03:50<00:42,  6.36it/s]"
     ]
    },
    {
     "name": "stdout",
     "output_type": "stream",
     "text": [
      "Training_loss 0.00608,   Relative Error 0.02670\n",
      "Training_loss 0.00606,   Relative Error 0.02667\n"
     ]
    },
    {
     "name": "stderr",
     "output_type": "stream",
     "text": [
      "\r",
      " 86%|████████▋ | 1729/2000 [03:50<00:46,  5.81it/s]"
     ]
    },
    {
     "name": "stdout",
     "output_type": "stream",
     "text": [
      "Training_loss 0.00603,   Relative Error 0.02659\n"
     ]
    },
    {
     "name": "stderr",
     "output_type": "stream",
     "text": [
      "\r",
      " 86%|████████▋ | 1730/2000 [03:50<00:51,  5.21it/s]"
     ]
    },
    {
     "name": "stdout",
     "output_type": "stream",
     "text": [
      "Training_loss 0.00600,   Relative Error 0.02654\n"
     ]
    },
    {
     "name": "stderr",
     "output_type": "stream",
     "text": [
      "\r",
      " 87%|████████▋ | 1731/2000 [03:51<00:54,  4.96it/s]"
     ]
    },
    {
     "name": "stdout",
     "output_type": "stream",
     "text": [
      "Training_loss 0.00599,   Relative Error 0.02650\n"
     ]
    },
    {
     "name": "stderr",
     "output_type": "stream",
     "text": [
      "\r",
      " 87%|████████▋ | 1732/2000 [03:51<00:55,  4.86it/s]"
     ]
    },
    {
     "name": "stdout",
     "output_type": "stream",
     "text": [
      "Training_loss 0.00596,   Relative Error 0.02645\n"
     ]
    },
    {
     "name": "stderr",
     "output_type": "stream",
     "text": [
      "\r",
      " 87%|████████▋ | 1733/2000 [03:51<00:57,  4.63it/s]"
     ]
    },
    {
     "name": "stdout",
     "output_type": "stream",
     "text": [
      "Training_loss 0.00595,   Relative Error 0.02641\n"
     ]
    },
    {
     "name": "stderr",
     "output_type": "stream",
     "text": [
      "\r",
      " 87%|████████▋ | 1734/2000 [03:51<00:59,  4.46it/s]"
     ]
    },
    {
     "name": "stdout",
     "output_type": "stream",
     "text": [
      "Training_loss 0.00592,   Relative Error 0.02634\n"
     ]
    },
    {
     "name": "stderr",
     "output_type": "stream",
     "text": [
      "\r",
      " 87%|████████▋ | 1735/2000 [03:52<00:58,  4.50it/s]"
     ]
    },
    {
     "name": "stdout",
     "output_type": "stream",
     "text": [
      "Training_loss 0.00589,   Relative Error 0.02630\n"
     ]
    },
    {
     "name": "stderr",
     "output_type": "stream",
     "text": [
      "\r",
      " 87%|████████▋ | 1736/2000 [03:52<00:57,  4.56it/s]"
     ]
    },
    {
     "name": "stdout",
     "output_type": "stream",
     "text": [
      "Training_loss 0.00586,   Relative Error 0.02622\n",
      "Training_loss 0.00583,   Relative Error 0.02616\n"
     ]
    },
    {
     "name": "stderr",
     "output_type": "stream",
     "text": [
      " 87%|████████▋ | 1738/2000 [03:52<00:53,  4.88it/s]"
     ]
    },
    {
     "name": "stdout",
     "output_type": "stream",
     "text": [
      "Training_loss 0.00582,   Relative Error 0.02612\n"
     ]
    },
    {
     "name": "stderr",
     "output_type": "stream",
     "text": [
      "\r",
      " 87%|████████▋ | 1739/2000 [03:52<00:54,  4.77it/s]"
     ]
    },
    {
     "name": "stdout",
     "output_type": "stream",
     "text": [
      "Training_loss 0.00580,   Relative Error 0.02608\n"
     ]
    },
    {
     "name": "stderr",
     "output_type": "stream",
     "text": [
      " 87%|████████▋ | 1741/2000 [03:53<00:55,  4.68it/s]"
     ]
    },
    {
     "name": "stdout",
     "output_type": "stream",
     "text": [
      "Training_loss 0.00577,   Relative Error 0.02601\n",
      "Training_loss 0.00575,   Relative Error 0.02596\n"
     ]
    },
    {
     "name": "stderr",
     "output_type": "stream",
     "text": [
      " 87%|████████▋ | 1743/2000 [03:53<00:49,  5.19it/s]"
     ]
    },
    {
     "name": "stdout",
     "output_type": "stream",
     "text": [
      "Training_loss 0.00573,   Relative Error 0.02592\n",
      "Training_loss 0.00571,   Relative Error 0.02588\n"
     ]
    },
    {
     "name": "stderr",
     "output_type": "stream",
     "text": [
      " 87%|████████▋ | 1745/2000 [03:54<00:41,  6.12it/s]"
     ]
    },
    {
     "name": "stdout",
     "output_type": "stream",
     "text": [
      "Training_loss 0.00569,   Relative Error 0.02583\n",
      "Training_loss 0.00566,   Relative Error 0.02577\n"
     ]
    },
    {
     "name": "stderr",
     "output_type": "stream",
     "text": [
      " 87%|████████▋ | 1747/2000 [03:54<00:34,  7.23it/s]"
     ]
    },
    {
     "name": "stdout",
     "output_type": "stream",
     "text": [
      "Training_loss 0.00565,   Relative Error 0.02573\n",
      "Training_loss 0.00564,   Relative Error 0.02571\n"
     ]
    },
    {
     "name": "stderr",
     "output_type": "stream",
     "text": [
      " 87%|████████▋ | 1749/2000 [03:54<00:33,  7.46it/s]"
     ]
    },
    {
     "name": "stdout",
     "output_type": "stream",
     "text": [
      "Training_loss 0.00562,   Relative Error 0.02566\n",
      "Training_loss 0.00560,   Relative Error 0.02562\n"
     ]
    },
    {
     "name": "stderr",
     "output_type": "stream",
     "text": [
      "\r",
      " 88%|████████▊ | 1750/2000 [03:54<00:33,  7.40it/s]"
     ]
    },
    {
     "name": "stdout",
     "output_type": "stream",
     "text": [
      "Training_loss 0.00558,   Relative Error 0.02559\n",
      "Training_loss 0.00556,   Relative Error 0.02553\n"
     ]
    },
    {
     "name": "stderr",
     "output_type": "stream",
     "text": [
      " 88%|████████▊ | 1753/2000 [03:54<00:29,  8.31it/s]"
     ]
    },
    {
     "name": "stdout",
     "output_type": "stream",
     "text": [
      "Training_loss 0.00554,   Relative Error 0.02550\n",
      "Training_loss 0.00553,   Relative Error 0.02546\n"
     ]
    },
    {
     "name": "stderr",
     "output_type": "stream",
     "text": [
      "\r",
      " 88%|████████▊ | 1754/2000 [03:55<00:29,  8.30it/s]"
     ]
    },
    {
     "name": "stdout",
     "output_type": "stream",
     "text": [
      "Training_loss 0.00551,   Relative Error 0.02543\n",
      "Training_loss 0.00550,   Relative Error 0.02538\n"
     ]
    },
    {
     "name": "stderr",
     "output_type": "stream",
     "text": [
      " 88%|████████▊ | 1757/2000 [03:55<00:39,  6.08it/s]"
     ]
    },
    {
     "name": "stdout",
     "output_type": "stream",
     "text": [
      "Training_loss 0.00546,   Relative Error 0.02531\n",
      "Training_loss 0.00544,   Relative Error 0.02527\n"
     ]
    },
    {
     "name": "stderr",
     "output_type": "stream",
     "text": [
      " 88%|████████▊ | 1759/2000 [03:55<00:37,  6.34it/s]"
     ]
    },
    {
     "name": "stdout",
     "output_type": "stream",
     "text": [
      "Training_loss 0.00543,   Relative Error 0.02524\n",
      "Training_loss 0.00541,   Relative Error 0.02519\n"
     ]
    },
    {
     "name": "stderr",
     "output_type": "stream",
     "text": [
      " 88%|████████▊ | 1761/2000 [03:56<00:33,  7.10it/s]"
     ]
    },
    {
     "name": "stdout",
     "output_type": "stream",
     "text": [
      "Training_loss 0.00539,   Relative Error 0.02513\n",
      "Training_loss 0.00537,   Relative Error 0.02509\n"
     ]
    },
    {
     "name": "stderr",
     "output_type": "stream",
     "text": [
      " 88%|████████▊ | 1763/2000 [03:56<00:36,  6.50it/s]"
     ]
    },
    {
     "name": "stdout",
     "output_type": "stream",
     "text": [
      "Training_loss 0.00535,   Relative Error 0.02505\n",
      "Training_loss 0.00532,   Relative Error 0.02497\n"
     ]
    },
    {
     "name": "stderr",
     "output_type": "stream",
     "text": [
      " 88%|████████▊ | 1765/2000 [03:56<00:34,  6.83it/s]"
     ]
    },
    {
     "name": "stdout",
     "output_type": "stream",
     "text": [
      "Training_loss 0.00530,   Relative Error 0.02492\n",
      "Training_loss 0.00528,   Relative Error 0.02488\n"
     ]
    },
    {
     "name": "stderr",
     "output_type": "stream",
     "text": [
      "\r",
      " 88%|████████▊ | 1766/2000 [03:56<00:32,  7.19it/s]"
     ]
    },
    {
     "name": "stdout",
     "output_type": "stream",
     "text": [
      "Training_loss 0.00525,   Relative Error 0.02482\n",
      "Training_loss 0.00524,   Relative Error 0.02478\n"
     ]
    },
    {
     "name": "stderr",
     "output_type": "stream",
     "text": [
      " 88%|████████▊ | 1769/2000 [03:57<00:29,  7.77it/s]"
     ]
    },
    {
     "name": "stdout",
     "output_type": "stream",
     "text": [
      "Training_loss 0.00522,   Relative Error 0.02473\n",
      "Training_loss 0.00520,   Relative Error 0.02469\n"
     ]
    },
    {
     "name": "stderr",
     "output_type": "stream",
     "text": [
      " 89%|████████▊ | 1772/2000 [03:57<00:25,  8.96it/s]"
     ]
    },
    {
     "name": "stdout",
     "output_type": "stream",
     "text": [
      "Training_loss 0.00518,   Relative Error 0.02463\n",
      "Training_loss 0.00516,   Relative Error 0.02459\n",
      "Training_loss 0.00514,   Relative Error 0.02455\n"
     ]
    },
    {
     "name": "stderr",
     "output_type": "stream",
     "text": [
      "\r",
      " 89%|████████▊ | 1774/2000 [03:57<00:23,  9.80it/s]"
     ]
    },
    {
     "name": "stdout",
     "output_type": "stream",
     "text": [
      "Training_loss 0.00512,   Relative Error 0.02450\n",
      "Training_loss 0.00510,   Relative Error 0.02446\n",
      "Training_loss 0.00508,   Relative Error 0.02440\n"
     ]
    },
    {
     "name": "stderr",
     "output_type": "stream",
     "text": [
      " 89%|████████▉ | 1778/2000 [03:58<00:22,  9.88it/s]"
     ]
    },
    {
     "name": "stdout",
     "output_type": "stream",
     "text": [
      "Training_loss 0.00506,   Relative Error 0.02436\n",
      "Training_loss 0.00504,   Relative Error 0.02431\n",
      "Training_loss 0.00502,   Relative Error 0.02427\n"
     ]
    },
    {
     "name": "stderr",
     "output_type": "stream",
     "text": [
      " 89%|████████▉ | 1781/2000 [03:58<00:21, 10.26it/s]"
     ]
    },
    {
     "name": "stdout",
     "output_type": "stream",
     "text": [
      "Training_loss 0.00500,   Relative Error 0.02421\n",
      "Training_loss 0.00497,   Relative Error 0.02415\n",
      "Training_loss 0.00495,   Relative Error 0.02408\n"
     ]
    },
    {
     "name": "stderr",
     "output_type": "stream",
     "text": [
      "\r",
      " 89%|████████▉ | 1783/2000 [03:58<00:20, 10.69it/s]"
     ]
    },
    {
     "name": "stdout",
     "output_type": "stream",
     "text": [
      "Training_loss 0.00494,   Relative Error 0.02406\n",
      "Training_loss 0.00491,   Relative Error 0.02399\n"
     ]
    },
    {
     "name": "stderr",
     "output_type": "stream",
     "text": [
      "\r",
      " 89%|████████▉ | 1785/2000 [03:58<00:23,  9.30it/s]"
     ]
    },
    {
     "name": "stdout",
     "output_type": "stream",
     "text": [
      "Training_loss 0.00490,   Relative Error 0.02396\n",
      "Training_loss 0.00488,   Relative Error 0.02392\n"
     ]
    },
    {
     "name": "stderr",
     "output_type": "stream",
     "text": [
      " 89%|████████▉ | 1788/2000 [03:59<00:20, 10.16it/s]"
     ]
    },
    {
     "name": "stdout",
     "output_type": "stream",
     "text": [
      "Training_loss 0.00486,   Relative Error 0.02386\n",
      "Training_loss 0.00483,   Relative Error 0.02379\n",
      "Training_loss 0.00481,   Relative Error 0.02373\n"
     ]
    },
    {
     "name": "stderr",
     "output_type": "stream",
     "text": [
      "\r",
      " 90%|████████▉ | 1790/2000 [03:59<00:23,  9.12it/s]"
     ]
    },
    {
     "name": "stdout",
     "output_type": "stream",
     "text": [
      "Training_loss 0.00479,   Relative Error 0.02369\n",
      "Training_loss 0.00477,   Relative Error 0.02364\n"
     ]
    },
    {
     "name": "stderr",
     "output_type": "stream",
     "text": [
      "\r",
      " 90%|████████▉ | 1792/2000 [03:59<00:21,  9.71it/s]"
     ]
    },
    {
     "name": "stdout",
     "output_type": "stream",
     "text": [
      "Training_loss 0.00475,   Relative Error 0.02358\n",
      "Training_loss 0.00474,   Relative Error 0.02356\n",
      "Training_loss 0.00473,   Relative Error 0.02353\n"
     ]
    },
    {
     "name": "stderr",
     "output_type": "stream",
     "text": [
      " 90%|████████▉ | 1796/2000 [03:59<00:18, 10.80it/s]"
     ]
    },
    {
     "name": "stdout",
     "output_type": "stream",
     "text": [
      "Training_loss 0.00471,   Relative Error 0.02350\n",
      "Training_loss 0.00470,   Relative Error 0.02347\n",
      "Training_loss 0.00469,   Relative Error 0.02344\n"
     ]
    },
    {
     "name": "stderr",
     "output_type": "stream",
     "text": [
      "\r",
      " 90%|████████▉ | 1798/2000 [04:00<00:19, 10.55it/s]"
     ]
    },
    {
     "name": "stdout",
     "output_type": "stream",
     "text": [
      "Training_loss 0.00468,   Relative Error 0.02341\n",
      "Training_loss 0.00465,   Relative Error 0.02334\n",
      "Training_loss 0.00463,   Relative Error 0.02329\n"
     ]
    },
    {
     "name": "stderr",
     "output_type": "stream",
     "text": [
      " 90%|█████████ | 1802/2000 [04:00<00:18, 10.95it/s]"
     ]
    },
    {
     "name": "stdout",
     "output_type": "stream",
     "text": [
      "Training_loss 0.00461,   Relative Error 0.02324\n",
      "Training_loss 0.00459,   Relative Error 0.02319\n",
      "Training_loss 0.00457,   Relative Error 0.02315\n"
     ]
    },
    {
     "name": "stderr",
     "output_type": "stream",
     "text": [
      "\r",
      " 90%|█████████ | 1804/2000 [04:00<00:18, 10.65it/s]"
     ]
    },
    {
     "name": "stdout",
     "output_type": "stream",
     "text": [
      "Training_loss 0.00456,   Relative Error 0.02311\n",
      "Training_loss 0.00454,   Relative Error 0.02307\n"
     ]
    },
    {
     "name": "stderr",
     "output_type": "stream",
     "text": [
      "\r",
      " 90%|█████████ | 1806/2000 [04:00<00:20,  9.49it/s]"
     ]
    },
    {
     "name": "stdout",
     "output_type": "stream",
     "text": [
      "Training_loss 0.00452,   Relative Error 0.02301\n",
      "Training_loss 0.00450,   Relative Error 0.02297\n"
     ]
    },
    {
     "name": "stderr",
     "output_type": "stream",
     "text": [
      " 90%|█████████ | 1808/2000 [04:01<00:23,  8.25it/s]"
     ]
    },
    {
     "name": "stdout",
     "output_type": "stream",
     "text": [
      "Training_loss 0.00448,   Relative Error 0.02291\n",
      "Training_loss 0.00446,   Relative Error 0.02286\n"
     ]
    },
    {
     "name": "stderr",
     "output_type": "stream",
     "text": [
      " 90%|█████████ | 1810/2000 [04:01<00:27,  6.82it/s]"
     ]
    },
    {
     "name": "stdout",
     "output_type": "stream",
     "text": [
      "Training_loss 0.00443,   Relative Error 0.02279\n",
      "Training_loss 0.00441,   Relative Error 0.02274\n"
     ]
    },
    {
     "name": "stderr",
     "output_type": "stream",
     "text": [
      " 91%|█████████ | 1813/2000 [04:01<00:21,  8.83it/s]"
     ]
    },
    {
     "name": "stdout",
     "output_type": "stream",
     "text": [
      "Training_loss 0.00439,   Relative Error 0.02268\n",
      "Training_loss 0.00438,   Relative Error 0.02266\n",
      "Training_loss 0.00437,   Relative Error 0.02263\n"
     ]
    },
    {
     "name": "stderr",
     "output_type": "stream",
     "text": [
      " 91%|█████████ | 1815/2000 [04:02<00:21,  8.69it/s]"
     ]
    },
    {
     "name": "stdout",
     "output_type": "stream",
     "text": [
      "Training_loss 0.00435,   Relative Error 0.02258\n",
      "Training_loss 0.00434,   Relative Error 0.02255\n"
     ]
    },
    {
     "name": "stderr",
     "output_type": "stream",
     "text": [
      " 91%|█████████ | 1817/2000 [04:02<00:26,  6.96it/s]"
     ]
    },
    {
     "name": "stdout",
     "output_type": "stream",
     "text": [
      "Training_loss 0.00432,   Relative Error 0.02249\n",
      "Training_loss 0.00430,   Relative Error 0.02245\n"
     ]
    },
    {
     "name": "stderr",
     "output_type": "stream",
     "text": [
      " 91%|█████████ | 1820/2000 [04:02<00:19,  9.22it/s]"
     ]
    },
    {
     "name": "stdout",
     "output_type": "stream",
     "text": [
      "Training_loss 0.00429,   Relative Error 0.02241\n",
      "Training_loss 0.00427,   Relative Error 0.02236\n",
      "Training_loss 0.00425,   Relative Error 0.02230\n"
     ]
    },
    {
     "name": "stderr",
     "output_type": "stream",
     "text": [
      "\r",
      " 91%|█████████ | 1822/2000 [04:02<00:17,  9.99it/s]"
     ]
    },
    {
     "name": "stdout",
     "output_type": "stream",
     "text": [
      "Training_loss 0.00423,   Relative Error 0.02225\n",
      "Training_loss 0.00421,   Relative Error 0.02220\n",
      "Training_loss 0.00419,   Relative Error 0.02215\n"
     ]
    },
    {
     "name": "stderr",
     "output_type": "stream",
     "text": [
      " 91%|█████████▏| 1826/2000 [04:03<00:15, 11.59it/s]"
     ]
    },
    {
     "name": "stdout",
     "output_type": "stream",
     "text": [
      "Training_loss 0.00417,   Relative Error 0.02210\n",
      "Training_loss 0.00416,   Relative Error 0.02207\n",
      "Training_loss 0.00414,   Relative Error 0.02201\n"
     ]
    },
    {
     "name": "stderr",
     "output_type": "stream",
     "text": [
      "\r",
      " 91%|█████████▏| 1828/2000 [04:03<00:14, 11.94it/s]"
     ]
    },
    {
     "name": "stdout",
     "output_type": "stream",
     "text": [
      "Training_loss 0.00413,   Relative Error 0.02199\n",
      "Training_loss 0.00412,   Relative Error 0.02196\n",
      "Training_loss 0.00410,   Relative Error 0.02191\n"
     ]
    },
    {
     "name": "stderr",
     "output_type": "stream",
     "text": [
      " 92%|█████████▏| 1832/2000 [04:03<00:14, 11.86it/s]"
     ]
    },
    {
     "name": "stdout",
     "output_type": "stream",
     "text": [
      "Training_loss 0.00409,   Relative Error 0.02188\n",
      "Training_loss 0.00407,   Relative Error 0.02183\n",
      "Training_loss 0.00406,   Relative Error 0.02180\n"
     ]
    },
    {
     "name": "stderr",
     "output_type": "stream",
     "text": [
      "\r",
      " 92%|█████████▏| 1834/2000 [04:03<00:13, 12.47it/s]"
     ]
    },
    {
     "name": "stdout",
     "output_type": "stream",
     "text": [
      "Training_loss 0.00404,   Relative Error 0.02175\n",
      "Training_loss 0.00403,   Relative Error 0.02172\n",
      "Training_loss 0.00401,   Relative Error 0.02168\n"
     ]
    },
    {
     "name": "stderr",
     "output_type": "stream",
     "text": [
      " 92%|█████████▏| 1838/2000 [04:04<00:12, 13.15it/s]"
     ]
    },
    {
     "name": "stdout",
     "output_type": "stream",
     "text": [
      "Training_loss 0.00400,   Relative Error 0.02163\n",
      "Training_loss 0.00398,   Relative Error 0.02158\n",
      "Training_loss 0.00397,   Relative Error 0.02155\n"
     ]
    },
    {
     "name": "stderr",
     "output_type": "stream",
     "text": [
      "\r",
      " 92%|█████████▏| 1840/2000 [04:04<00:12, 12.83it/s]"
     ]
    },
    {
     "name": "stdout",
     "output_type": "stream",
     "text": [
      "Training_loss 0.00395,   Relative Error 0.02151\n",
      "Training_loss 0.00393,   Relative Error 0.02145\n",
      "Training_loss 0.00391,   Relative Error 0.02141\n"
     ]
    },
    {
     "name": "stderr",
     "output_type": "stream",
     "text": [
      " 92%|█████████▏| 1844/2000 [04:04<00:13, 11.40it/s]"
     ]
    },
    {
     "name": "stdout",
     "output_type": "stream",
     "text": [
      "Training_loss 0.00389,   Relative Error 0.02135\n",
      "Training_loss 0.00388,   Relative Error 0.02132\n",
      "Training_loss 0.00387,   Relative Error 0.02128\n"
     ]
    },
    {
     "name": "stderr",
     "output_type": "stream",
     "text": [
      "\r",
      " 92%|█████████▏| 1846/2000 [04:04<00:12, 12.03it/s]"
     ]
    },
    {
     "name": "stdout",
     "output_type": "stream",
     "text": [
      "Training_loss 0.00386,   Relative Error 0.02126\n",
      "Training_loss 0.00384,   Relative Error 0.02121\n",
      "Training_loss 0.00382,   Relative Error 0.02115\n"
     ]
    },
    {
     "name": "stderr",
     "output_type": "stream",
     "text": [
      " 92%|█████████▎| 1850/2000 [04:05<00:12, 12.17it/s]"
     ]
    },
    {
     "name": "stdout",
     "output_type": "stream",
     "text": [
      "Training_loss 0.00381,   Relative Error 0.02111\n",
      "Training_loss 0.00380,   Relative Error 0.02109\n",
      "Training_loss 0.00378,   Relative Error 0.02105\n"
     ]
    },
    {
     "name": "stderr",
     "output_type": "stream",
     "text": [
      "\r",
      " 93%|█████████▎| 1852/2000 [04:05<00:12, 12.01it/s]"
     ]
    },
    {
     "name": "stdout",
     "output_type": "stream",
     "text": [
      "Training_loss 0.00377,   Relative Error 0.02102\n",
      "Training_loss 0.00375,   Relative Error 0.02096\n",
      "Training_loss 0.00375,   Relative Error 0.02094\n"
     ]
    },
    {
     "name": "stderr",
     "output_type": "stream",
     "text": [
      "\r",
      " 93%|█████████▎| 1854/2000 [04:05<00:11, 12.41it/s]"
     ]
    },
    {
     "name": "stdout",
     "output_type": "stream",
     "text": [
      "Training_loss 0.00373,   Relative Error 0.02091\n",
      "Training_loss 0.00372,   Relative Error 0.02087\n"
     ]
    },
    {
     "name": "stderr",
     "output_type": "stream",
     "text": [
      "\r",
      " 93%|█████████▎| 1856/2000 [04:05<00:13, 10.88it/s]"
     ]
    },
    {
     "name": "stdout",
     "output_type": "stream",
     "text": [
      "Training_loss 0.00370,   Relative Error 0.02080\n",
      "Training_loss 0.00368,   Relative Error 0.02075\n"
     ]
    },
    {
     "name": "stderr",
     "output_type": "stream",
     "text": [
      "\r",
      " 93%|█████████▎| 1858/2000 [04:05<00:13, 10.18it/s]"
     ]
    },
    {
     "name": "stdout",
     "output_type": "stream",
     "text": [
      "Training_loss 0.00367,   Relative Error 0.02072\n",
      "Training_loss 0.00365,   Relative Error 0.02067\n"
     ]
    },
    {
     "name": "stderr",
     "output_type": "stream",
     "text": [
      " 93%|█████████▎| 1861/2000 [04:06<00:15,  8.92it/s]"
     ]
    },
    {
     "name": "stdout",
     "output_type": "stream",
     "text": [
      "Training_loss 0.00364,   Relative Error 0.02065\n",
      "Training_loss 0.00363,   Relative Error 0.02061\n"
     ]
    },
    {
     "name": "stderr",
     "output_type": "stream",
     "text": [
      " 93%|█████████▎| 1863/2000 [04:06<00:17,  7.69it/s]"
     ]
    },
    {
     "name": "stdout",
     "output_type": "stream",
     "text": [
      "Training_loss 0.00362,   Relative Error 0.02059\n",
      "Training_loss 0.00361,   Relative Error 0.02056\n"
     ]
    },
    {
     "name": "stderr",
     "output_type": "stream",
     "text": [
      "\r",
      " 93%|█████████▎| 1864/2000 [04:06<00:18,  7.52it/s]"
     ]
    },
    {
     "name": "stdout",
     "output_type": "stream",
     "text": [
      "Training_loss 0.00359,   Relative Error 0.02049\n"
     ]
    },
    {
     "name": "stderr",
     "output_type": "stream",
     "text": [
      "\r",
      " 93%|█████████▎| 1865/2000 [04:07<00:20,  6.55it/s]"
     ]
    },
    {
     "name": "stdout",
     "output_type": "stream",
     "text": [
      "Training_loss 0.00358,   Relative Error 0.02046\n"
     ]
    },
    {
     "name": "stderr",
     "output_type": "stream",
     "text": [
      " 93%|█████████▎| 1867/2000 [04:07<00:23,  5.77it/s]"
     ]
    },
    {
     "name": "stdout",
     "output_type": "stream",
     "text": [
      "Training_loss 0.00357,   Relative Error 0.02042\n",
      "Training_loss 0.00355,   Relative Error 0.02038\n"
     ]
    },
    {
     "name": "stderr",
     "output_type": "stream",
     "text": [
      " 93%|█████████▎| 1869/2000 [04:07<00:22,  5.85it/s]"
     ]
    },
    {
     "name": "stdout",
     "output_type": "stream",
     "text": [
      "Training_loss 0.00354,   Relative Error 0.02035\n",
      "Training_loss 0.00353,   Relative Error 0.02031\n"
     ]
    },
    {
     "name": "stderr",
     "output_type": "stream",
     "text": [
      " 94%|█████████▎| 1871/2000 [04:08<00:21,  6.00it/s]"
     ]
    },
    {
     "name": "stdout",
     "output_type": "stream",
     "text": [
      "Training_loss 0.00351,   Relative Error 0.02027\n",
      "Training_loss 0.00350,   Relative Error 0.02023\n"
     ]
    },
    {
     "name": "stderr",
     "output_type": "stream",
     "text": [
      " 94%|█████████▎| 1873/2000 [04:08<00:21,  5.86it/s]"
     ]
    },
    {
     "name": "stdout",
     "output_type": "stream",
     "text": [
      "Training_loss 0.00349,   Relative Error 0.02019\n",
      "Training_loss 0.00347,   Relative Error 0.02016\n"
     ]
    },
    {
     "name": "stderr",
     "output_type": "stream",
     "text": [
      " 94%|█████████▍| 1875/2000 [04:08<00:21,  5.89it/s]"
     ]
    },
    {
     "name": "stdout",
     "output_type": "stream",
     "text": [
      "Training_loss 0.00346,   Relative Error 0.02012\n",
      "Training_loss 0.00345,   Relative Error 0.02008\n"
     ]
    },
    {
     "name": "stderr",
     "output_type": "stream",
     "text": [
      " 94%|█████████▍| 1877/2000 [04:09<00:19,  6.19it/s]"
     ]
    },
    {
     "name": "stdout",
     "output_type": "stream",
     "text": [
      "Training_loss 0.00344,   Relative Error 0.02007\n",
      "Training_loss 0.00343,   Relative Error 0.02002\n"
     ]
    },
    {
     "name": "stderr",
     "output_type": "stream",
     "text": [
      " 94%|█████████▍| 1879/2000 [04:09<00:17,  6.84it/s]"
     ]
    },
    {
     "name": "stdout",
     "output_type": "stream",
     "text": [
      "Training_loss 0.00341,   Relative Error 0.01998\n",
      "Training_loss 0.00340,   Relative Error 0.01995\n"
     ]
    },
    {
     "name": "stderr",
     "output_type": "stream",
     "text": [
      " 94%|█████████▍| 1881/2000 [04:09<00:15,  7.44it/s]"
     ]
    },
    {
     "name": "stdout",
     "output_type": "stream",
     "text": [
      "Training_loss 0.00339,   Relative Error 0.01991\n",
      "Training_loss 0.00338,   Relative Error 0.01988\n"
     ]
    },
    {
     "name": "stderr",
     "output_type": "stream",
     "text": [
      " 94%|█████████▍| 1883/2000 [04:09<00:14,  7.84it/s]"
     ]
    },
    {
     "name": "stdout",
     "output_type": "stream",
     "text": [
      "Training_loss 0.00336,   Relative Error 0.01984\n",
      "Training_loss 0.00335,   Relative Error 0.01979\n"
     ]
    },
    {
     "name": "stderr",
     "output_type": "stream",
     "text": [
      " 94%|█████████▍| 1885/2000 [04:10<00:14,  7.87it/s]"
     ]
    },
    {
     "name": "stdout",
     "output_type": "stream",
     "text": [
      "Training_loss 0.00334,   Relative Error 0.01976\n",
      "Training_loss 0.00333,   Relative Error 0.01972\n"
     ]
    },
    {
     "name": "stderr",
     "output_type": "stream",
     "text": [
      " 94%|█████████▍| 1887/2000 [04:10<00:13,  8.14it/s]"
     ]
    },
    {
     "name": "stdout",
     "output_type": "stream",
     "text": [
      "Training_loss 0.00332,   Relative Error 0.01969\n",
      "Training_loss 0.00331,   Relative Error 0.01967\n"
     ]
    },
    {
     "name": "stderr",
     "output_type": "stream",
     "text": [
      " 94%|█████████▍| 1889/2000 [04:10<00:13,  8.04it/s]"
     ]
    },
    {
     "name": "stdout",
     "output_type": "stream",
     "text": [
      "Training_loss 0.00330,   Relative Error 0.01964\n",
      "Training_loss 0.00329,   Relative Error 0.01961\n"
     ]
    },
    {
     "name": "stderr",
     "output_type": "stream",
     "text": [
      "\r",
      " 94%|█████████▍| 1890/2000 [04:10<00:13,  7.95it/s]"
     ]
    },
    {
     "name": "stdout",
     "output_type": "stream",
     "text": [
      "Training_loss 0.00328,   Relative Error 0.01957\n",
      "Training_loss 0.00327,   Relative Error 0.01954\n"
     ]
    },
    {
     "name": "stderr",
     "output_type": "stream",
     "text": [
      " 95%|█████████▍| 1893/2000 [04:11<00:12,  8.52it/s]"
     ]
    },
    {
     "name": "stdout",
     "output_type": "stream",
     "text": [
      "Training_loss 0.00325,   Relative Error 0.01949\n",
      "Training_loss 0.00324,   Relative Error 0.01945\n"
     ]
    },
    {
     "name": "stderr",
     "output_type": "stream",
     "text": [
      " 95%|█████████▍| 1895/2000 [04:11<00:11,  8.77it/s]"
     ]
    },
    {
     "name": "stdout",
     "output_type": "stream",
     "text": [
      "Training_loss 0.00323,   Relative Error 0.01942\n",
      "Training_loss 0.00322,   Relative Error 0.01939\n"
     ]
    },
    {
     "name": "stderr",
     "output_type": "stream",
     "text": [
      " 95%|█████████▍| 1897/2000 [04:11<00:13,  7.86it/s]"
     ]
    },
    {
     "name": "stdout",
     "output_type": "stream",
     "text": [
      "Training_loss 0.00320,   Relative Error 0.01936\n",
      "Training_loss 0.00319,   Relative Error 0.01930\n"
     ]
    },
    {
     "name": "stderr",
     "output_type": "stream",
     "text": [
      " 95%|█████████▍| 1899/2000 [04:11<00:12,  7.90it/s]"
     ]
    },
    {
     "name": "stdout",
     "output_type": "stream",
     "text": [
      "Training_loss 0.00317,   Relative Error 0.01925\n",
      "Training_loss 0.00315,   Relative Error 0.01919\n"
     ]
    },
    {
     "name": "stderr",
     "output_type": "stream",
     "text": [
      " 95%|█████████▌| 1901/2000 [04:12<00:12,  8.05it/s]"
     ]
    },
    {
     "name": "stdout",
     "output_type": "stream",
     "text": [
      "Training_loss 0.00314,   Relative Error 0.01916\n",
      "Training_loss 0.00313,   Relative Error 0.01912\n"
     ]
    },
    {
     "name": "stderr",
     "output_type": "stream",
     "text": [
      " 95%|█████████▌| 1903/2000 [04:12<00:12,  7.69it/s]"
     ]
    },
    {
     "name": "stdout",
     "output_type": "stream",
     "text": [
      "Training_loss 0.00312,   Relative Error 0.01910\n",
      "Training_loss 0.00311,   Relative Error 0.01905\n"
     ]
    },
    {
     "name": "stderr",
     "output_type": "stream",
     "text": [
      " 95%|█████████▌| 1905/2000 [04:12<00:13,  7.19it/s]"
     ]
    },
    {
     "name": "stdout",
     "output_type": "stream",
     "text": [
      "Training_loss 0.00309,   Relative Error 0.01902\n",
      "Training_loss 0.00308,   Relative Error 0.01898\n"
     ]
    },
    {
     "name": "stderr",
     "output_type": "stream",
     "text": [
      " 95%|█████████▌| 1907/2000 [04:12<00:12,  7.24it/s]"
     ]
    },
    {
     "name": "stdout",
     "output_type": "stream",
     "text": [
      "Training_loss 0.00307,   Relative Error 0.01894\n",
      "Training_loss 0.00306,   Relative Error 0.01892\n"
     ]
    },
    {
     "name": "stderr",
     "output_type": "stream",
     "text": [
      " 95%|█████████▌| 1909/2000 [04:13<00:13,  6.61it/s]"
     ]
    },
    {
     "name": "stdout",
     "output_type": "stream",
     "text": [
      "Training_loss 0.00305,   Relative Error 0.01889\n",
      "Training_loss 0.00305,   Relative Error 0.01887\n"
     ]
    },
    {
     "name": "stderr",
     "output_type": "stream",
     "text": [
      "\r",
      " 96%|█████████▌| 1910/2000 [04:13<00:15,  5.73it/s]"
     ]
    },
    {
     "name": "stdout",
     "output_type": "stream",
     "text": [
      "Training_loss 0.00303,   Relative Error 0.01881\n"
     ]
    },
    {
     "name": "stderr",
     "output_type": "stream",
     "text": [
      "\r",
      " 96%|█████████▌| 1911/2000 [04:13<00:17,  5.13it/s]"
     ]
    },
    {
     "name": "stdout",
     "output_type": "stream",
     "text": [
      "Training_loss 0.00302,   Relative Error 0.01877\n"
     ]
    },
    {
     "name": "stderr",
     "output_type": "stream",
     "text": [
      "\r",
      " 96%|█████████▌| 1912/2000 [04:13<00:18,  4.77it/s]"
     ]
    },
    {
     "name": "stdout",
     "output_type": "stream",
     "text": [
      "Training_loss 0.00300,   Relative Error 0.01872\n"
     ]
    },
    {
     "name": "stderr",
     "output_type": "stream",
     "text": [
      "\r",
      " 96%|█████████▌| 1913/2000 [04:14<00:20,  4.33it/s]"
     ]
    },
    {
     "name": "stdout",
     "output_type": "stream",
     "text": [
      "Training_loss 0.00299,   Relative Error 0.01868\n"
     ]
    },
    {
     "name": "stderr",
     "output_type": "stream",
     "text": [
      " 96%|█████████▌| 1915/2000 [04:14<00:18,  4.62it/s]"
     ]
    },
    {
     "name": "stdout",
     "output_type": "stream",
     "text": [
      "Training_loss 0.00298,   Relative Error 0.01865\n",
      "Training_loss 0.00297,   Relative Error 0.01864\n"
     ]
    },
    {
     "name": "stderr",
     "output_type": "stream",
     "text": [
      "\r",
      " 96%|█████████▌| 1916/2000 [04:14<00:18,  4.43it/s]"
     ]
    },
    {
     "name": "stdout",
     "output_type": "stream",
     "text": [
      "Training_loss 0.00296,   Relative Error 0.01860\n"
     ]
    },
    {
     "name": "stderr",
     "output_type": "stream",
     "text": [
      " 96%|█████████▌| 1918/2000 [04:15<00:17,  4.56it/s]"
     ]
    },
    {
     "name": "stdout",
     "output_type": "stream",
     "text": [
      "Training_loss 0.00295,   Relative Error 0.01856\n",
      "Training_loss 0.00294,   Relative Error 0.01855\n"
     ]
    },
    {
     "name": "stderr",
     "output_type": "stream",
     "text": [
      " 96%|█████████▌| 1920/2000 [04:15<00:15,  5.08it/s]"
     ]
    },
    {
     "name": "stdout",
     "output_type": "stream",
     "text": [
      "Training_loss 0.00293,   Relative Error 0.01849\n",
      "Training_loss 0.00291,   Relative Error 0.01844\n"
     ]
    },
    {
     "name": "stderr",
     "output_type": "stream",
     "text": [
      " 96%|█████████▌| 1922/2000 [04:15<00:13,  5.90it/s]"
     ]
    },
    {
     "name": "stdout",
     "output_type": "stream",
     "text": [
      "Training_loss 0.00290,   Relative Error 0.01841\n",
      "Training_loss 0.00289,   Relative Error 0.01838\n"
     ]
    },
    {
     "name": "stderr",
     "output_type": "stream",
     "text": [
      " 96%|█████████▌| 1924/2000 [04:16<00:11,  6.38it/s]"
     ]
    },
    {
     "name": "stdout",
     "output_type": "stream",
     "text": [
      "Training_loss 0.00288,   Relative Error 0.01834\n",
      "Training_loss 0.00287,   Relative Error 0.01832\n"
     ]
    },
    {
     "name": "stderr",
     "output_type": "stream",
     "text": [
      " 96%|█████████▋| 1926/2000 [04:16<00:10,  7.01it/s]"
     ]
    },
    {
     "name": "stdout",
     "output_type": "stream",
     "text": [
      "Training_loss 0.00285,   Relative Error 0.01826\n",
      "Training_loss 0.00284,   Relative Error 0.01822\n"
     ]
    },
    {
     "name": "stderr",
     "output_type": "stream",
     "text": [
      " 96%|█████████▋| 1928/2000 [04:16<00:09,  7.39it/s]"
     ]
    },
    {
     "name": "stdout",
     "output_type": "stream",
     "text": [
      "Training_loss 0.00283,   Relative Error 0.01817\n",
      "Training_loss 0.00281,   Relative Error 0.01811\n"
     ]
    },
    {
     "name": "stderr",
     "output_type": "stream",
     "text": [
      " 96%|█████████▋| 1930/2000 [04:17<00:09,  7.76it/s]"
     ]
    },
    {
     "name": "stdout",
     "output_type": "stream",
     "text": [
      "Training_loss 0.00279,   Relative Error 0.01807\n",
      "Training_loss 0.00278,   Relative Error 0.01802\n"
     ]
    },
    {
     "name": "stderr",
     "output_type": "stream",
     "text": [
      " 97%|█████████▋| 1932/2000 [04:17<00:08,  8.04it/s]"
     ]
    },
    {
     "name": "stdout",
     "output_type": "stream",
     "text": [
      "Training_loss 0.00277,   Relative Error 0.01800\n",
      "Training_loss 0.00276,   Relative Error 0.01797\n"
     ]
    },
    {
     "name": "stderr",
     "output_type": "stream",
     "text": [
      " 97%|█████████▋| 1934/2000 [04:17<00:08,  8.07it/s]"
     ]
    },
    {
     "name": "stdout",
     "output_type": "stream",
     "text": [
      "Training_loss 0.00276,   Relative Error 0.01795\n",
      "Training_loss 0.00274,   Relative Error 0.01790\n"
     ]
    },
    {
     "name": "stderr",
     "output_type": "stream",
     "text": [
      " 97%|█████████▋| 1936/2000 [04:17<00:08,  7.90it/s]"
     ]
    },
    {
     "name": "stdout",
     "output_type": "stream",
     "text": [
      "Training_loss 0.00273,   Relative Error 0.01786\n",
      "Training_loss 0.00272,   Relative Error 0.01783\n"
     ]
    },
    {
     "name": "stderr",
     "output_type": "stream",
     "text": [
      " 97%|█████████▋| 1938/2000 [04:18<00:07,  7.93it/s]"
     ]
    },
    {
     "name": "stdout",
     "output_type": "stream",
     "text": [
      "Training_loss 0.00271,   Relative Error 0.01778\n",
      "Training_loss 0.00270,   Relative Error 0.01774\n"
     ]
    },
    {
     "name": "stderr",
     "output_type": "stream",
     "text": [
      " 97%|█████████▋| 1940/2000 [04:18<00:07,  7.88it/s]"
     ]
    },
    {
     "name": "stdout",
     "output_type": "stream",
     "text": [
      "Training_loss 0.00269,   Relative Error 0.01771\n",
      "Training_loss 0.00267,   Relative Error 0.01767\n"
     ]
    },
    {
     "name": "stderr",
     "output_type": "stream",
     "text": [
      " 97%|█████████▋| 1942/2000 [04:18<00:07,  8.24it/s]"
     ]
    },
    {
     "name": "stdout",
     "output_type": "stream",
     "text": [
      "Training_loss 0.00266,   Relative Error 0.01764\n",
      "Training_loss 0.00265,   Relative Error 0.01760\n"
     ]
    },
    {
     "name": "stderr",
     "output_type": "stream",
     "text": [
      " 97%|█████████▋| 1944/2000 [04:18<00:06,  8.20it/s]"
     ]
    },
    {
     "name": "stdout",
     "output_type": "stream",
     "text": [
      "Training_loss 0.00264,   Relative Error 0.01757\n",
      "Training_loss 0.00263,   Relative Error 0.01753\n"
     ]
    },
    {
     "name": "stderr",
     "output_type": "stream",
     "text": [
      " 97%|█████████▋| 1946/2000 [04:18<00:06,  8.65it/s]"
     ]
    },
    {
     "name": "stdout",
     "output_type": "stream",
     "text": [
      "Training_loss 0.00262,   Relative Error 0.01750\n",
      "Training_loss 0.00261,   Relative Error 0.01747\n"
     ]
    },
    {
     "name": "stderr",
     "output_type": "stream",
     "text": [
      " 97%|█████████▋| 1949/2000 [04:19<00:05,  8.62it/s]"
     ]
    },
    {
     "name": "stdout",
     "output_type": "stream",
     "text": [
      "Training_loss 0.00261,   Relative Error 0.01744\n",
      "Training_loss 0.00260,   Relative Error 0.01742\n",
      "Training_loss 0.00259,   Relative Error 0.01738\n"
     ]
    },
    {
     "name": "stderr",
     "output_type": "stream",
     "text": [
      " 98%|█████████▊| 1951/2000 [04:19<00:06,  7.74it/s]"
     ]
    },
    {
     "name": "stdout",
     "output_type": "stream",
     "text": [
      "Training_loss 0.00258,   Relative Error 0.01735\n",
      "Training_loss 0.00257,   Relative Error 0.01731\n"
     ]
    },
    {
     "name": "stderr",
     "output_type": "stream",
     "text": [
      " 98%|█████████▊| 1953/2000 [04:19<00:06,  7.20it/s]"
     ]
    },
    {
     "name": "stdout",
     "output_type": "stream",
     "text": [
      "Training_loss 0.00256,   Relative Error 0.01728\n",
      "Training_loss 0.00255,   Relative Error 0.01726\n"
     ]
    },
    {
     "name": "stderr",
     "output_type": "stream",
     "text": [
      " 98%|█████████▊| 1955/2000 [04:20<00:06,  7.06it/s]"
     ]
    },
    {
     "name": "stdout",
     "output_type": "stream",
     "text": [
      "Training_loss 0.00255,   Relative Error 0.01724\n",
      "Training_loss 0.00253,   Relative Error 0.01720\n"
     ]
    },
    {
     "name": "stderr",
     "output_type": "stream",
     "text": [
      " 98%|█████████▊| 1957/2000 [04:20<00:06,  6.55it/s]"
     ]
    },
    {
     "name": "stdout",
     "output_type": "stream",
     "text": [
      "Training_loss 0.00253,   Relative Error 0.01717\n",
      "Training_loss 0.00252,   Relative Error 0.01715\n"
     ]
    },
    {
     "name": "stderr",
     "output_type": "stream",
     "text": [
      " 98%|█████████▊| 1959/2000 [04:20<00:06,  6.63it/s]"
     ]
    },
    {
     "name": "stdout",
     "output_type": "stream",
     "text": [
      "Training_loss 0.00251,   Relative Error 0.01710\n",
      "Training_loss 0.00249,   Relative Error 0.01706\n"
     ]
    },
    {
     "name": "stderr",
     "output_type": "stream",
     "text": [
      " 98%|█████████▊| 1961/2000 [04:21<00:05,  7.32it/s]"
     ]
    },
    {
     "name": "stdout",
     "output_type": "stream",
     "text": [
      "Training_loss 0.00249,   Relative Error 0.01704\n",
      "Training_loss 0.00248,   Relative Error 0.01702\n"
     ]
    },
    {
     "name": "stderr",
     "output_type": "stream",
     "text": [
      " 98%|█████████▊| 1963/2000 [04:21<00:04,  7.65it/s]"
     ]
    },
    {
     "name": "stdout",
     "output_type": "stream",
     "text": [
      "Training_loss 0.00248,   Relative Error 0.01700\n",
      "Training_loss 0.00247,   Relative Error 0.01698\n"
     ]
    },
    {
     "name": "stderr",
     "output_type": "stream",
     "text": [
      " 98%|█████████▊| 1965/2000 [04:21<00:04,  7.91it/s]"
     ]
    },
    {
     "name": "stdout",
     "output_type": "stream",
     "text": [
      "Training_loss 0.00246,   Relative Error 0.01695\n",
      "Training_loss 0.00245,   Relative Error 0.01690\n"
     ]
    },
    {
     "name": "stderr",
     "output_type": "stream",
     "text": [
      " 98%|█████████▊| 1967/2000 [04:21<00:03,  8.31it/s]"
     ]
    },
    {
     "name": "stdout",
     "output_type": "stream",
     "text": [
      "Training_loss 0.00244,   Relative Error 0.01686\n",
      "Training_loss 0.00243,   Relative Error 0.01683\n"
     ]
    },
    {
     "name": "stderr",
     "output_type": "stream",
     "text": [
      " 98%|█████████▊| 1969/2000 [04:22<00:04,  7.62it/s]"
     ]
    },
    {
     "name": "stdout",
     "output_type": "stream",
     "text": [
      "Training_loss 0.00242,   Relative Error 0.01681\n",
      "Training_loss 0.00241,   Relative Error 0.01678\n"
     ]
    },
    {
     "name": "stderr",
     "output_type": "stream",
     "text": [
      " 99%|█████████▊| 1971/2000 [04:22<00:03,  7.86it/s]"
     ]
    },
    {
     "name": "stdout",
     "output_type": "stream",
     "text": [
      "Training_loss 0.00240,   Relative Error 0.01674\n",
      "Training_loss 0.00239,   Relative Error 0.01669\n"
     ]
    },
    {
     "name": "stderr",
     "output_type": "stream",
     "text": [
      " 99%|█████████▊| 1973/2000 [04:22<00:03,  7.83it/s]"
     ]
    },
    {
     "name": "stdout",
     "output_type": "stream",
     "text": [
      "Training_loss 0.00238,   Relative Error 0.01665\n",
      "Training_loss 0.00236,   Relative Error 0.01660\n"
     ]
    },
    {
     "name": "stderr",
     "output_type": "stream",
     "text": [
      " 99%|█████████▉| 1975/2000 [04:22<00:03,  7.60it/s]"
     ]
    },
    {
     "name": "stdout",
     "output_type": "stream",
     "text": [
      "Training_loss 0.00236,   Relative Error 0.01657\n",
      "Training_loss 0.00234,   Relative Error 0.01653\n"
     ]
    },
    {
     "name": "stderr",
     "output_type": "stream",
     "text": [
      " 99%|█████████▉| 1977/2000 [04:23<00:03,  7.08it/s]"
     ]
    },
    {
     "name": "stdout",
     "output_type": "stream",
     "text": [
      "Training_loss 0.00234,   Relative Error 0.01651\n",
      "Training_loss 0.00233,   Relative Error 0.01648\n"
     ]
    },
    {
     "name": "stderr",
     "output_type": "stream",
     "text": [
      " 99%|█████████▉| 1979/2000 [04:23<00:02,  7.03it/s]"
     ]
    },
    {
     "name": "stdout",
     "output_type": "stream",
     "text": [
      "Training_loss 0.00232,   Relative Error 0.01643\n",
      "Training_loss 0.00230,   Relative Error 0.01639\n"
     ]
    },
    {
     "name": "stderr",
     "output_type": "stream",
     "text": [
      " 99%|█████████▉| 1981/2000 [04:23<00:02,  6.87it/s]"
     ]
    },
    {
     "name": "stdout",
     "output_type": "stream",
     "text": [
      "Training_loss 0.00230,   Relative Error 0.01637\n",
      "Training_loss 0.00229,   Relative Error 0.01635\n"
     ]
    },
    {
     "name": "stderr",
     "output_type": "stream",
     "text": [
      " 99%|█████████▉| 1983/2000 [04:24<00:02,  6.67it/s]"
     ]
    },
    {
     "name": "stdout",
     "output_type": "stream",
     "text": [
      "Training_loss 0.00228,   Relative Error 0.01631\n",
      "Training_loss 0.00227,   Relative Error 0.01628\n"
     ]
    },
    {
     "name": "stderr",
     "output_type": "stream",
     "text": [
      " 99%|█████████▉| 1985/2000 [04:24<00:02,  6.80it/s]"
     ]
    },
    {
     "name": "stdout",
     "output_type": "stream",
     "text": [
      "Training_loss 0.00227,   Relative Error 0.01626\n",
      "Training_loss 0.00226,   Relative Error 0.01625\n"
     ]
    },
    {
     "name": "stderr",
     "output_type": "stream",
     "text": [
      " 99%|█████████▉| 1987/2000 [04:24<00:01,  7.13it/s]"
     ]
    },
    {
     "name": "stdout",
     "output_type": "stream",
     "text": [
      "Training_loss 0.00226,   Relative Error 0.01622\n",
      "Training_loss 0.00225,   Relative Error 0.01619\n"
     ]
    },
    {
     "name": "stderr",
     "output_type": "stream",
     "text": [
      "\r",
      " 99%|█████████▉| 1988/2000 [04:24<00:01,  7.30it/s]"
     ]
    },
    {
     "name": "stdout",
     "output_type": "stream",
     "text": [
      "Training_loss 0.00224,   Relative Error 0.01617\n",
      "Training_loss 0.00224,   Relative Error 0.01614\n"
     ]
    },
    {
     "name": "stderr",
     "output_type": "stream",
     "text": [
      "100%|█████████▉| 1991/2000 [04:25<00:01,  7.81it/s]"
     ]
    },
    {
     "name": "stdout",
     "output_type": "stream",
     "text": [
      "Training_loss 0.00223,   Relative Error 0.01611\n",
      "Training_loss 0.00222,   Relative Error 0.01607\n"
     ]
    },
    {
     "name": "stderr",
     "output_type": "stream",
     "text": [
      "100%|█████████▉| 1993/2000 [04:25<00:00,  7.56it/s]"
     ]
    },
    {
     "name": "stdout",
     "output_type": "stream",
     "text": [
      "Training_loss 0.00220,   Relative Error 0.01603\n",
      "Training_loss 0.00220,   Relative Error 0.01600\n"
     ]
    },
    {
     "name": "stderr",
     "output_type": "stream",
     "text": [
      "100%|█████████▉| 1995/2000 [04:25<00:00,  7.57it/s]"
     ]
    },
    {
     "name": "stdout",
     "output_type": "stream",
     "text": [
      "Training_loss 0.00219,   Relative Error 0.01597\n",
      "Training_loss 0.00218,   Relative Error 0.01594\n"
     ]
    },
    {
     "name": "stderr",
     "output_type": "stream",
     "text": [
      "100%|█████████▉| 1997/2000 [04:25<00:00,  8.02it/s]"
     ]
    },
    {
     "name": "stdout",
     "output_type": "stream",
     "text": [
      "Training_loss 0.00217,   Relative Error 0.01590\n",
      "Training_loss 0.00216,   Relative Error 0.01587\n"
     ]
    },
    {
     "name": "stderr",
     "output_type": "stream",
     "text": [
      "100%|█████████▉| 1999/2000 [04:26<00:00,  8.18it/s]"
     ]
    },
    {
     "name": "stdout",
     "output_type": "stream",
     "text": [
      "Training_loss 0.00216,   Relative Error 0.01585\n",
      "Training_loss 0.00215,   Relative Error 0.01581\n"
     ]
    },
    {
     "name": "stderr",
     "output_type": "stream",
     "text": [
      "100%|██████████| 2000/2000 [04:26<00:00,  7.51it/s]"
     ]
    },
    {
     "name": "stdout",
     "output_type": "stream",
     "text": [
      "Training_loss 0.00214,   Relative Error 0.01579\n"
     ]
    },
    {
     "name": "stderr",
     "output_type": "stream",
     "text": [
      "\n"
     ]
    }
   ],
   "source": [
    "#global_model = CNN_Net().cuda()\n",
    "models = [MLP_Net(user_id=i) for i in range(no_users)]\n",
    "dummy_models = [MLP_Net(user_id=i) for i in range(no_users)]\n",
    "\n",
    "#model.load_state_dict(global_model.state_dict())\n",
    "\n",
    "criterion = nn.MSELoss()\n",
    "\n",
    "\n",
    "train_loss = []\n",
    "test_loss = []\n",
    "test_accuracy = []\n",
    "total_rel_error = []\n",
    "\n",
    "for curr_round in tqdm(range(1, it+1)):\n",
    "    w, local_loss = [], []\n",
    "\n",
    "    \n",
    "    for i in range(no_users):\n",
    "        dummy_models[i].load_state_dict(models[i].state_dict())\n",
    "        local_update = ClientUpdate(dataset=datapoints[i], batchSize=batch_size, alpha=alpha, lamda=lamda, epochs=1, projection_list=projection_list, projected_weights=projected_weights)\n",
    "        weights, loss = local_update.train(dummy_models[i])\n",
    "        w.append(weights)\n",
    "        local_loss.append(loss)\n",
    "        models[i].load_state_dict(w[i])\n",
    "        \n",
    "    \n",
    "    \n",
    "    \n",
    "    #Share and mix the local weights\n",
    "    \n",
    "    \n",
    "    for i in range(no_users):\n",
    "        weights = parameters_to_vector(dummy_models[i].parameters())\n",
    "        mat_vec_sum = torch.zeros_like(weights)\n",
    "        for j in G.neighbors(i):\n",
    "            mat_vec_sum = torch.add(mat_vec_sum, parameters_to_vector(dummy_models[j].parameters()))\n",
    "        \n",
    "        new_weights = weights - mu * eta * (degree_list[i] * weights - mat_vec_sum)\n",
    "        # Update real models\n",
    "        vector_to_parameters(parameters=models[i].parameters(), vec=new_weights)\n",
    "        \n",
    "        \n",
    "        \n",
    "    \n",
    "    \n",
    "\n",
    "\n",
    "\n",
    "\n",
    "          \n",
    "            \n",
    "\n",
    "    local_test_acc = []\n",
    "    local_test_loss = []\n",
    "    \n",
    "    user_rel_error = 0\n",
    "    for k in range(no_users):\n",
    "      \n",
    "        g_loss = testing(models[i], datapoints[i], 50, criterion)\n",
    "        local_test_loss.append(g_loss)\n",
    "        user_rel_error += rel_error(models[i])\n",
    "    \n",
    "    \n",
    "        \n",
    "\n",
    "    g_loss = sum(local_test_loss) / len(local_test_loss)\n",
    "    total_rel_error.append(user_rel_error / no_users)\n",
    "    #g_accuracy = sum(local_test_acc) / len(local_test_acc)\n",
    "    \n",
    "    \n",
    "\n",
    "    test_loss.append(g_loss)\n",
    "    #test_accuracy.append(g_accuracy)\n",
    "    print(\"Training_loss %2.5f,   Relative Error %2.5f\"% (test_loss[-1], total_rel_error[-1]))"
   ]
  },
  {
   "cell_type": "code",
   "execution_count": 20,
   "id": "2ff0ff71",
   "metadata": {},
   "outputs": [
    {
     "data": {
      "text/plain": [
       "tensor([-1.9691,  1.9677], grad_fn=<CatBackward0>)"
      ]
     },
     "execution_count": 20,
     "metadata": {},
     "output_type": "execute_result"
    }
   ],
   "source": [
    "#plot.plot(test_loss)\n",
    "parameters_to_vector(models[19].parameters())"
   ]
  },
  {
   "cell_type": "code",
   "execution_count": 21,
   "id": "679d15ac",
   "metadata": {},
   "outputs": [
    {
     "name": "stdout",
     "output_type": "stream",
     "text": [
      "2\n",
      "3\n",
      "5\n",
      "9\n"
     ]
    }
   ],
   "source": [
    "for j in G.neighbors(0):\n",
    "    print(j)"
   ]
  },
  {
   "cell_type": "code",
   "execution_count": 22,
   "id": "c76fd36c",
   "metadata": {},
   "outputs": [
    {
     "data": {
      "text/plain": [
       "tensor([1.9427, 1.9763], grad_fn=<CatBackward0>)"
      ]
     },
     "execution_count": 22,
     "metadata": {},
     "output_type": "execute_result"
    }
   ],
   "source": [
    "parameters_to_vector(models[0].parameters())"
   ]
  },
  {
   "cell_type": "code",
   "execution_count": 23,
   "id": "42f4dc91",
   "metadata": {},
   "outputs": [
    {
     "data": {
      "text/plain": [
       "[0,\n",
       " 0,\n",
       " tensor([[0.6216, 0.0000],\n",
       "         [0.0000, 0.6216]]),\n",
       " tensor([[0.1495, 0.0000],\n",
       "         [0.0000, 0.1495]]),\n",
       " 0,\n",
       " tensor([[2.0807, 0.0000],\n",
       "         [0.0000, 2.0807]]),\n",
       " 0,\n",
       " 0,\n",
       " 0,\n",
       " tensor([[1.0993, 0.0000],\n",
       "         [0.0000, 1.0993]]),\n",
       " 0,\n",
       " 0,\n",
       " 0,\n",
       " 0,\n",
       " 0,\n",
       " 0,\n",
       " 0,\n",
       " 0,\n",
       " 0,\n",
       " 0]"
      ]
     },
     "execution_count": 23,
     "metadata": {},
     "output_type": "execute_result"
    }
   ],
   "source": [
    "projection_list[0]"
   ]
  },
  {
   "cell_type": "code",
   "execution_count": 24,
   "id": "e98c0b57",
   "metadata": {},
   "outputs": [
    {
     "data": {
      "text/plain": [
       "[0,\n",
       " 0,\n",
       " tensor([0.3967, 0.2705]),\n",
       " tensor([-0.0940, -0.0868]),\n",
       " 0,\n",
       " tensor([-1.2855, -0.8955]),\n",
       " 0,\n",
       " 0,\n",
       " 0,\n",
       " tensor([-0.1048,  0.4911]),\n",
       " 0,\n",
       " 0,\n",
       " 0,\n",
       " 0,\n",
       " 0,\n",
       " 0,\n",
       " 0,\n",
       " 0,\n",
       " 0,\n",
       " 0]"
      ]
     },
     "execution_count": 24,
     "metadata": {},
     "output_type": "execute_result"
    }
   ],
   "source": [
    "projected_weights[0]"
   ]
  },
  {
   "cell_type": "code",
   "execution_count": 25,
   "id": "1cf9ba5d",
   "metadata": {},
   "outputs": [],
   "source": [
    "test_loss = np.array(test_loss)\n",
    "total_rel_error = np.array(total_rel_error)"
   ]
  },
  {
   "cell_type": "code",
   "execution_count": 26,
   "id": "7dade085",
   "metadata": {},
   "outputs": [],
   "source": [
    "np.save( 'training_loss_dfedu', test_loss)\n",
    "np.save('relative_error_dfedu', total_rel_error)"
   ]
  },
  {
   "cell_type": "code",
   "execution_count": null,
   "id": "1bb16136",
   "metadata": {},
   "outputs": [],
   "source": [
    "plt.plot(total_rel_error)"
   ]
  },
  {
   "cell_type": "code",
   "execution_count": null,
   "id": "e5bf8f56",
   "metadata": {},
   "outputs": [],
   "source": []
  }
 ],
 "metadata": {
  "kernelspec": {
   "display_name": "Python 3",
   "language": "python",
   "name": "python3"
  },
  "language_info": {
   "codemirror_mode": {
    "name": "ipython",
    "version": 3
   },
   "file_extension": ".py",
   "mimetype": "text/x-python",
   "name": "python",
   "nbconvert_exporter": "python",
   "pygments_lexer": "ipython3",
   "version": "3.8.8"
  }
 },
 "nbformat": 4,
 "nbformat_minor": 5
}
