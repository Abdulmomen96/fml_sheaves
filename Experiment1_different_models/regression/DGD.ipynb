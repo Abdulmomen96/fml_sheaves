{
 "cells": [
  {
   "cell_type": "code",
   "execution_count": 1,
   "metadata": {
    "_cell_guid": "b1076dfc-b9ad-4769-8c92-a6c4dae69d19",
    "_uuid": "8f2839f25d086af736a60e9eeb907d3b93b6e0e5",
    "executionInfo": {
     "elapsed": 312,
     "status": "ok",
     "timestamp": 1654762797257,
     "user": {
      "displayName": "Abdulmomen Gholka",
      "userId": "04436549372656956778"
     },
     "user_tz": -180
    },
    "id": "VYzJgl_mTuOo"
   },
   "outputs": [],
   "source": [
    "import numpy as np # linear algebra\n",
    "import pandas as pd # data processing, CSV file I/O (e.g. pd.read_csv)\n",
    "import tensorflow as tf\n",
    "import os\n",
    "\n",
    "import scipy\n",
    "import networkx as nx\n",
    "\n",
    "from sklearn.linear_model import LogisticRegression\n",
    "from sklearn.metrics import log_loss"
   ]
  },
  {
   "cell_type": "code",
   "execution_count": 2,
   "metadata": {},
   "outputs": [],
   "source": [
    "seed = 42\n",
    "no_users = 80\n",
    "lambda_logistic = 1e-3"
   ]
  },
  {
   "cell_type": "code",
   "execution_count": 3,
   "metadata": {
    "colab": {
     "base_uri": "https://localhost:8080/",
     "height": 355
    },
    "executionInfo": {
     "elapsed": 551,
     "status": "ok",
     "timestamp": 1654762798119,
     "user": {
      "displayName": "Abdulmomen Gholka",
      "userId": "04436549372656956778"
     },
     "user_tz": -180
    },
    "id": "WKBlmnurkFhZ",
    "outputId": "4b22a1f3-a239-471a-c08c-2accc6fc634a"
   },
   "outputs": [],
   "source": [
    "def random_split(X, y, n, seed):\n",
    "    \"\"\"Equally split data between n agents\"\"\"\n",
    "    rng = np.random.default_rng(seed)\n",
    "    perm = rng.permutation(y.size)\n",
    "    X_split = np.array_split(X[perm], n)  #np.stack to keep as a np array\n",
    "    y_split = np.array_split(y[perm], n)\n",
    "    return X_split, y_split"
   ]
  },
  {
   "cell_type": "code",
   "execution_count": 4,
   "metadata": {},
   "outputs": [],
   "source": [
    "def loss(w, A, b, l2):\n",
    "    z = b * np.dot(A, w)\n",
    "    tmp = np.minimum(z, 0)\n",
    "    loss = np.log((np.exp(tmp) + np.exp(tmp - z)) / np.exp(tmp))\n",
    "    loss_sum = np.sum(loss) / len(b)\n",
    "    reg = (np.linalg.norm(w) ** 2) * l2 / 2\n",
    "    return loss_sum + reg"
   ]
  },
  {
   "cell_type": "code",
   "execution_count": 5,
   "metadata": {},
   "outputs": [],
   "source": [
    "def gradient(w, A, b, l2):\n",
    "    m = A.shape[0]\n",
    "    bAw = b * (A @ w)\n",
    "    temp = 1. / (1. + np.exp(bAw))\n",
    "    res = -(A.T @ (b * temp))/m + l2 * w\n",
    "    return res"
   ]
  },
  {
   "cell_type": "code",
   "execution_count": 6,
   "metadata": {},
   "outputs": [],
   "source": [
    "def hessian(w, A, b, l2):\n",
    "    bAw = b * (A @ w)\n",
    "    activation = scipy.special.expit(bAw)\n",
    "    weights = activation * (1-activation)\n",
    "    A_weighted = np.multiply(A.T, weights)\n",
    "    return A_weighted@A/A.shape[0] + l2*np.eye(A.shape[1])"
   ]
  },
  {
   "cell_type": "code",
   "execution_count": 7,
   "metadata": {},
   "outputs": [],
   "source": [
    "def generate_graph(n, seed):\n",
    "    \"\"\"Generate a random connected graph\"\"\"\n",
    "    while True:\n",
    "        g = nx.generators.random_graphs.binomial_graph(n, 0.4, seed = seed) \n",
    "        if nx.algorithms.components.is_connected(g):\n",
    "            return g"
   ]
  },
  {
   "cell_type": "code",
   "execution_count": 8,
   "metadata": {},
   "outputs": [],
   "source": [
    "def degrees(A):\n",
    "    \"\"\"Return the degrees of each node of a graph from its adjacency matrix\"\"\"\n",
    "    return np.sum(A, axis=0).reshape(A.shape[0], 1)"
   ]
  },
  {
   "cell_type": "code",
   "execution_count": 9,
   "metadata": {},
   "outputs": [],
   "source": [
    "def metropolis_weights(Adj):\n",
    "    N = np.shape(Adj)[0]\n",
    "    degree = degrees(Adj)\n",
    "    W = np.zeros([N, N])\n",
    "    for i in range(N):\n",
    "        N_i = np.nonzero(Adj[i, :])[1]  # Fixed Neighbors\n",
    "        for j in N_i:\n",
    "            W[i, j] = 1/(1+np.max([degree[i], degree[j]]))\n",
    "        W[i, i] = 1 - np.sum(W[i, :])\n",
    "    return W"
   ]
  },
  {
   "cell_type": "code",
   "execution_count": 10,
   "metadata": {},
   "outputs": [
    {
     "name": "stdout",
     "output_type": "stream",
     "text": [
      "1242\n",
      "80\n"
     ]
    }
   ],
   "source": [
    "G = generate_graph(no_users, seed)\n",
    "\n",
    "adjacency_matrix = nx.linalg.graphmatrix.adjacency_matrix(G)\n",
    "comm_matrix = metropolis_weights(adjacency_matrix)\n",
    "\n",
    "print(G.number_of_edges())\n",
    "print(G.number_of_nodes())\n",
    "#nx.draw(G, with_labels=True, font_weight='bold')"
   ]
  },
  {
   "cell_type": "code",
   "execution_count": 11,
   "metadata": {},
   "outputs": [],
   "source": [
    "theta_opt = np.load('x_opt.npy')"
   ]
  },
  {
   "cell_type": "code",
   "execution_count": 12,
   "metadata": {},
   "outputs": [],
   "source": [
    "X = np.load('X.npy')\n",
    "y = np.load('y.npy').ravel()\n",
    "\n",
    "num_feature = X.shape[1] #+ 1 #+1 for bias"
   ]
  },
  {
   "cell_type": "code",
   "execution_count": 13,
   "metadata": {},
   "outputs": [],
   "source": [
    "X, y = random_split(X, y, no_users, seed)\n",
    "\n",
    "theta = [np.zeros(num_feature) for _ in range(no_users)]\n",
    "\n",
    "\n",
    "d = [np.zeros(num_feature) for _ in range(no_users)] # direction\n",
    "lamd = [np.zeros(num_feature) for _ in range(no_users)] # dual variables"
   ]
  },
  {
   "cell_type": "code",
   "execution_count": 14,
   "metadata": {},
   "outputs": [],
   "source": [
    "# Optimal objective function, i.e., f(x*)\n",
    "obj0 = 0.333347206075705 # a9a dataset"
   ]
  },
  {
   "cell_type": "code",
   "execution_count": 15,
   "metadata": {},
   "outputs": [
    {
     "name": "stdout",
     "output_type": "stream",
     "text": [
      "0.2947486723485331\n",
      "0.250639691336459\n",
      "0.22395802247729624\n",
      "0.20667907526069806\n",
      "0.19436653966341588\n",
      "0.1848259461933146\n",
      "0.17693601666776893\n",
      "0.1700980322470751\n",
      "0.16397923309488643\n",
      "0.1583873318738856\n",
      "0.15320661792593282\n",
      "0.14836426621846788\n",
      "0.14381205560783833\n",
      "0.13951621529268593\n",
      "0.13545167853441542\n",
      "0.13159877958106309\n",
      "0.127941328831074\n",
      "0.12446547606189695\n",
      "0.12115902897219588\n",
      "0.11801103691730053\n",
      "0.11501153013083676\n",
      "0.11215135067992421\n",
      "0.10942203793228622\n",
      "0.10681574674259087\n",
      "0.10432518558070225\n",
      "0.10194356710569868\n",
      "0.09966456678498664\n",
      "0.09748228696999328\n",
      "0.09539122489774277\n",
      "0.09338624370239806\n",
      "0.09146254587610281\n",
      "0.0896156488223866\n",
      "0.08784136226170658\n",
      "0.08613576731475525\n",
      "0.08449519712676917\n",
      "0.08291621891784895\n",
      "0.08139561735746559\n",
      "0.079930379169948\n",
      "0.07851767888407363\n",
      "0.0771548656450951\n",
      "0.07583945101225847\n",
      "0.07456909766936726\n",
      "0.0733416089803437\n",
      "0.07215491932604967\n",
      "0.07100708516285092\n",
      "0.0698962767475017\n",
      "0.0688207704768668\n",
      "0.06777894179477018\n",
      "0.06676925862182459\n",
      "0.06579027526747305\n",
      "0.06484062678662156\n",
      "0.06391902374620367\n",
      "0.06302424736975054\n",
      "0.06215514503059366\n",
      "0.061310626066677254\n",
      "0.060489657892132676\n",
      "0.05969126238277278\n",
      "0.05891451251450586\n",
      "0.05815852923536824\n",
      "0.05742247855342908\n",
      "0.05670556882425559\n",
      "0.05600704822293556\n",
      "0.055326202386861034\n",
      "0.054662352216579724\n",
      "0.05401485182303334\n",
      "0.053383086610429786\n",
      "0.05276647148484914\n",
      "0.05216444917945884\n",
      "0.051576488687935074\n",
      "0.05100208379833837\n",
      "0.050440751720295884\n",
      "0.04989203179889545\n",
      "0.04935548430920067\n",
      "0.0488306893257654\n",
      "0.04831724566194995\n",
      "0.047814769874238494\n",
      "0.04732289532711109\n",
      "0.0468412713143635\n",
      "0.04636956223306826\n",
      "0.04590744680665143\n",
      "0.04545461735382128\n",
      "0.04501077910031981\n",
      "0.0445756495306886\n",
      "0.04414895777744482\n",
      "0.04373044404524501\n",
      "0.04331985906779223\n",
      "0.04291696359539554\n",
      "0.04252152791124153\n",
      "0.04213333137457054\n",
      "0.041752161989076664\n",
      "0.04137781599496704\n",
      "0.04101009748322054\n",
      "0.04064881803068948\n",
      "0.040293796354773925\n",
      "0.039944857986491\n",
      "0.03960183496083086\n",
      "0.03926456552337493\n",
      "0.038932893852209605\n",
      "0.0386066697942396\n",
      "0.03828574861505846\n",
      "0.03796999076159152\n",
      "0.037659261636773855\n",
      "0.03735343138557601\n",
      "0.037052374691732004\n",
      "0.0367559705845647\n",
      "0.03646410225534247\n",
      "0.03617665688263577\n",
      "0.03589352546617569\n",
      "0.03561460266874544\n",
      "0.035339786665667394\n",
      "0.03506897900147132\n",
      "0.03480208445335775\n",
      "0.03453901090109135\n",
      "0.034279669202981033\n",
      "0.03402397307762606\n",
      "0.03377183899112379\n",
      "0.03352318604945237\n",
      "0.033277935895762334\n",
      "0.03303601261232042\n",
      "0.03279734262686873\n",
      "0.03256185462317379\n",
      "0.03232947945555198\n",
      "0.032100150067172206\n",
      "0.03187380141194629\n",
      "0.03165037037982754\n",
      "0.03142979572534982\n",
      "0.031212017999248165\n",
      "0.030996979483007725\n",
      "0.030784624126202198\n",
      "0.030574897486483732\n",
      "0.030367746672099183\n",
      "0.030163120286810396\n",
      "0.029960968377105934\n",
      "0.029761242381593778\n",
      "0.02956389508247559\n",
      "0.029368880559002497\n",
      "0.029176154142822153\n",
      "0.0289856723751295\n",
      "0.028797392965537516\n",
      "0.028611274752590954\n",
      "0.028427277665847184\n",
      "0.02824536268945399\n",
      "0.02806549182715734\n",
      "0.027887628068674286\n",
      "0.02771173535737248\n",
      "0.027537778559195314\n",
      "0.02736572343278154\n",
      "0.027195536600724657\n",
      "0.027027185521923514\n",
      "0.02686063846497755\n",
      "0.0266958644825801\n",
      "0.02653283338686835\n",
      "0.026371515725689798\n",
      "0.02621188275974451\n",
      "0.026053906440567598\n",
      "0.025897559389317704\n",
      "0.02574281487633473\n",
      "0.025589646801438826\n",
      "0.02543802967493719\n",
      "0.025287938599310555\n",
      "0.02513934925155248\n",
      "0.024992237866133138\n",
      "0.024846581218564312\n",
      "0.024702356609539844\n",
      "0.024559541849629274\n",
      "0.024418115244502825\n",
      "0.024278055580665925\n",
      "0.02413934211168406\n",
      "0.024001954544877913\n",
      "0.023865873028471152\n",
      "0.02373107813917269\n",
      "0.02359755087017662\n",
      "0.023465272619564936\n",
      "0.023334225179095613\n",
      "0.023204390723362556\n",
      "0.023075751799314204\n",
      "0.022948291316114477\n",
      "0.0228219925353369\n",
      "0.02269683906147557\n",
      "0.02257281483276441\n",
      "0.02244990411229142\n",
      "0.02232809147939757\n",
      "0.022207361821349803\n",
      "0.022087700325278514\n",
      "0.021969092470369322\n",
      "0.021851524020299995\n",
      "0.021734981015914312\n",
      "0.021619449768123578\n",
      "0.021504916851028066\n",
      "0.02139136909525019\n",
      "0.021278793581473\n",
      "0.021167177634174694\n",
      "0.021056508815555097\n",
      "0.020946774919643918\n",
      "0.020837963966588324\n",
      "0.0207300641971101\n",
      "0.020623064067128716\n",
      "0.020516952242544573\n",
      "0.020411717594174872\n",
      "0.020307349192839774\n"
     ]
    }
   ],
   "source": [
    "n_iters = 200\n",
    "alpha = 0.1\n",
    "\n",
    "losses_dsgd = []\n",
    "re_dsgd = np.zeros(shape=[n_iters])\n",
    "theta0 = np.zeros(num_feature)\n",
    "op_gap_dsgd = np.zeros(shape=[n_iters])\n",
    "\n",
    "\n",
    "for k in range(n_iters):\n",
    "    \n",
    "    for i in range(no_users):        \n",
    "        grad = gradient(theta[i], X[i], y[i], lambda_logistic)\n",
    "  \n",
    "        w_neighbors_sum = np.zeros(num_feature)\n",
    "        w_neighbors_sum = np.add(w_neighbors_sum, comm_matrix[i,i]*theta[i])\n",
    "        for j in G.neighbors(i):\n",
    "            w_neighbors_sum = np.add(w_neighbors_sum, comm_matrix[i,j]*theta[j])\n",
    "        \n",
    "        theta[i] = w_neighbors_sum - alpha*grad\n",
    "  \n",
    "\n",
    "    theta_avg = 1/no_users*sum(theta)\n",
    "    loss_dsgd = np.mean([loss(theta_avg, X[i], y[i], lambda_logistic) for i in range(no_users)])\n",
    "    losses_dsgd.append(loss_dsgd)\n",
    "    print(np.abs(losses_dsgd[-1] - obj0))\n",
    "    op_gap_dsgd[k] = np.abs(losses_dsgd[-1] - obj0)\n",
    "    re_dsgd[k] = np.linalg.norm(theta_avg-theta_opt)/np.linalg.norm(theta0-theta_opt)"
   ]
  },
  {
   "cell_type": "markdown",
   "metadata": {},
   "source": [
    "# Optimality Gap"
   ]
  },
  {
   "cell_type": "code",
   "execution_count": 16,
   "metadata": {},
   "outputs": [
    {
     "data": {
      "image/png": "[encoded data removed]",
      "text/plain": [
       "<Figure size 432x288 with 1 Axes>"
      ]
     },
     "metadata": {
      "needs_background": "light"
     },
     "output_type": "display_data"
    }
   ],
   "source": [
    "import matplotlib.pyplot as plt\n",
    "plt.semilogy(op_gap_dsgd)\n",
    "np.save('op_gap_dsgd', op_gap_dsgd)"
   ]
  },
  {
   "cell_type": "code",
   "execution_count": 17,
   "metadata": {},
   "outputs": [
    {
     "data": {
      "text/plain": [
       "-0.12634904125482843"
      ]
     },
     "execution_count": 17,
     "metadata": {},
     "output_type": "execute_result"
    }
   ],
   "source": [
    "theta_opt[10]"
   ]
  },
  {
   "cell_type": "code",
   "execution_count": 18,
   "metadata": {},
   "outputs": [
    {
     "data": {
      "text/plain": [
       "-0.031046100238901482"
      ]
     },
     "execution_count": 18,
     "metadata": {},
     "output_type": "execute_result"
    }
   ],
   "source": [
    "theta_avg[10]"
   ]
  }
 ],
 "metadata": {
  "colab": {
   "collapsed_sections": [],
   "name": "DSGD.ipynb",
   "provenance": []
  },
  "kernelspec": {
   "display_name": "Python 3",
   "language": "python",
   "name": "python3"
  },
  "language_info": {
   "codemirror_mode": {
    "name": "ipython",
    "version": 3
   },
   "file_extension": ".py",
   "mimetype": "text/x-python",
   "name": "python",
   "nbconvert_exporter": "python",
   "pygments_lexer": "ipython3",
   "version": "3.8.8"
  }
 },
 "nbformat": 4,
 "nbformat_minor": 4
}
