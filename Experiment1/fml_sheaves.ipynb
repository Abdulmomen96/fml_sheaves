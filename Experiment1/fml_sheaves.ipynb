{
 "cells": [
  {
   "cell_type": "code",
   "execution_count": 1,
   "id": "74d5d395",
   "metadata": {},
   "outputs": [],
   "source": [
    "import torch\n",
    "import torch.nn as nn\n",
    "import torch.nn.functional as F\n",
    "import torch.optim as optim\n",
    "from torchvision import datasets, transforms\n",
    "from torch.utils.data import DataLoader, Dataset\n",
    "import copy\n",
    "import numpy as np\n",
    "import matplotlib.pyplot as plt\n",
    "from tqdm import tqdm\n",
    "import networkx as nx\n",
    "from torch.nn.utils import parameters_to_vector, vector_to_parameters"
   ]
  },
  {
   "cell_type": "code",
   "execution_count": 2,
   "id": "7617ffd7",
   "metadata": {},
   "outputs": [],
   "source": [
    "# Graph implementation\n",
    "def generate_graph(cluster_sizes=[100,100], pin=0.5, pout=0.01, seed=0):\n",
    "    \"\"\"Generate a random connected graph\"\"\"\n",
    "    probs = np.array([[pin, pout],[pout, pin]])\n",
    "    while True:\n",
    "        g = nx.stochastic_block_model(cluster_sizes, probs)\n",
    "        if nx.algorithms.components.is_connected(g):\n",
    "            return g\n",
    "\n",
    "\n",
    "cluster_sizes = [10, 10]\n",
    "pin = 0.5\n",
    "pout = 0.01\n",
    "seed = 0\n",
    "alpha = 1e-2\n",
    "lamda = 1e-3\n",
    "eta = 1e-2\n",
    "d0 = 2\n",
    "no_users = sum(cluster_sizes)\n",
    "batch_size = 20\n",
    "epochs = 1\n",
    "it = 2000\n",
    "G = generate_graph(cluster_sizes, pin, pout, seed)\n",
    "\n",
    "#nx.draw(G, with_labels=True, node_size=100, alpha=1, linewidths=10)\n",
    "#plt.show()"
   ]
  },
  {
   "cell_type": "code",
   "execution_count": 3,
   "id": "809e7c6f",
   "metadata": {},
   "outputs": [
    {
     "name": "stdout",
     "output_type": "stream",
     "text": [
      "[[0.         0.2        0.         0.2        0.         0.\n",
      "  0.25       0.         0.         0.         0.         0.\n",
      "  0.         0.         0.         0.         0.         0.\n",
      "  0.         0.        ]\n",
      " [0.2        0.         0.         0.         0.125      0.\n",
      "  0.         0.         0.2        0.         0.         0.\n",
      "  0.         0.         0.         0.         0.         0.\n",
      "  0.         0.14285714]\n",
      " [0.         0.         0.         0.         0.125      0.\n",
      "  0.2        0.16666667 0.         0.         0.         0.\n",
      "  0.         0.         0.         0.         0.         0.\n",
      "  0.         0.14285714]\n",
      " [0.2        0.         0.         0.         0.125      0.2\n",
      "  0.         0.16666667 0.         0.         0.         0.\n",
      "  0.         0.         0.         0.         0.         0.\n",
      "  0.         0.        ]\n",
      " [0.         0.125      0.125      0.125      0.         0.125\n",
      "  0.         0.125      0.125      0.         0.         0.\n",
      "  0.         0.         0.         0.         0.         0.\n",
      "  0.         0.125     ]\n",
      " [0.         0.         0.         0.2        0.125      0.\n",
      "  0.         0.16666667 0.         0.         0.         0.\n",
      "  0.         0.         0.         0.         0.         0.\n",
      "  0.         0.14285714]\n",
      " [0.25       0.         0.2        0.         0.         0.\n",
      "  0.         0.         0.         0.         0.         0.\n",
      "  0.         0.         0.         0.         0.         0.\n",
      "  0.         0.        ]\n",
      " [0.         0.         0.16666667 0.16666667 0.125      0.16666667\n",
      "  0.         0.         0.         0.         0.         0.\n",
      "  0.         0.         0.         0.         0.         0.\n",
      "  0.         0.14285714]\n",
      " [0.         0.2        0.         0.         0.125      0.\n",
      "  0.         0.         0.         0.         0.         0.\n",
      "  0.         0.         0.         0.         0.14285714 0.\n",
      "  0.         0.14285714]\n",
      " [0.         0.         0.         0.         0.         0.\n",
      "  0.         0.         0.         0.         0.14285714 0.14285714\n",
      "  0.14285714 0.         0.14285714 0.14285714 0.         0.\n",
      "  0.14285714 0.        ]\n",
      " [0.         0.         0.         0.         0.         0.\n",
      "  0.         0.         0.         0.14285714 0.         0.\n",
      "  0.16666667 0.         0.         0.         0.14285714 0.\n",
      "  0.         0.        ]\n",
      " [0.         0.         0.         0.         0.         0.\n",
      "  0.         0.         0.         0.14285714 0.         0.\n",
      "  0.16666667 0.         0.         0.         0.14285714 0.16666667\n",
      "  0.16666667 0.        ]\n",
      " [0.         0.         0.         0.         0.         0.\n",
      "  0.         0.         0.         0.14285714 0.16666667 0.16666667\n",
      "  0.         0.         0.         0.         0.14285714 0.16666667\n",
      "  0.         0.        ]\n",
      " [0.         0.         0.         0.         0.         0.\n",
      "  0.         0.         0.         0.         0.         0.\n",
      "  0.         0.         0.25       0.         0.         0.16666667\n",
      "  0.16666667 0.        ]\n",
      " [0.         0.         0.         0.         0.         0.\n",
      "  0.         0.         0.         0.14285714 0.         0.\n",
      "  0.         0.25       0.         0.2        0.         0.\n",
      "  0.         0.        ]\n",
      " [0.         0.         0.         0.         0.         0.\n",
      "  0.         0.         0.         0.14285714 0.         0.\n",
      "  0.         0.         0.2        0.         0.         0.16666667\n",
      "  0.16666667 0.        ]\n",
      " [0.         0.         0.         0.         0.         0.\n",
      "  0.         0.         0.14285714 0.         0.14285714 0.14285714\n",
      "  0.14285714 0.         0.         0.         0.         0.14285714\n",
      "  0.14285714 0.        ]\n",
      " [0.         0.         0.         0.         0.         0.\n",
      "  0.         0.         0.         0.         0.         0.16666667\n",
      "  0.16666667 0.16666667 0.         0.16666667 0.14285714 0.\n",
      "  0.         0.        ]\n",
      " [0.         0.         0.         0.         0.         0.\n",
      "  0.         0.         0.         0.14285714 0.         0.16666667\n",
      "  0.         0.16666667 0.         0.16666667 0.14285714 0.\n",
      "  0.         0.        ]\n",
      " [0.         0.14285714 0.14285714 0.         0.125      0.14285714\n",
      "  0.         0.14285714 0.14285714 0.         0.         0.\n",
      "  0.         0.         0.         0.         0.         0.\n",
      "  0.         0.        ]]\n",
      "[[0.35       0.2        0.         0.2        0.         0.\n",
      "  0.25       0.         0.         0.         0.         0.\n",
      "  0.         0.         0.         0.         0.         0.\n",
      "  0.         0.        ]\n",
      " [0.2        0.33214286 0.         0.         0.125      0.\n",
      "  0.         0.         0.2        0.         0.         0.\n",
      "  0.         0.         0.         0.         0.         0.\n",
      "  0.         0.14285714]\n",
      " [0.         0.         0.36547619 0.         0.125      0.\n",
      "  0.2        0.16666667 0.         0.         0.         0.\n",
      "  0.         0.         0.         0.         0.         0.\n",
      "  0.         0.14285714]\n",
      " [0.2        0.         0.         0.30833333 0.125      0.2\n",
      "  0.         0.16666667 0.         0.         0.         0.\n",
      "  0.         0.         0.         0.         0.         0.\n",
      "  0.         0.        ]\n",
      " [0.         0.125      0.125      0.125      0.125      0.125\n",
      "  0.         0.125      0.125      0.         0.         0.\n",
      "  0.         0.         0.         0.         0.         0.\n",
      "  0.         0.125     ]\n",
      " [0.         0.         0.         0.2        0.125      0.36547619\n",
      "  0.         0.16666667 0.         0.         0.         0.\n",
      "  0.         0.         0.         0.         0.         0.\n",
      "  0.         0.14285714]\n",
      " [0.25       0.         0.2        0.         0.         0.\n",
      "  0.55       0.         0.         0.         0.         0.\n",
      "  0.         0.         0.         0.         0.         0.\n",
      "  0.         0.        ]\n",
      " [0.         0.         0.16666667 0.16666667 0.125      0.16666667\n",
      "  0.         0.23214286 0.         0.         0.         0.\n",
      "  0.         0.         0.         0.         0.         0.\n",
      "  0.         0.14285714]\n",
      " [0.         0.2        0.         0.         0.125      0.\n",
      "  0.         0.         0.38928571 0.         0.         0.\n",
      "  0.         0.         0.         0.         0.14285714 0.\n",
      "  0.         0.14285714]\n",
      " [0.         0.         0.         0.         0.         0.\n",
      "  0.         0.         0.         0.14285714 0.14285714 0.14285714\n",
      "  0.14285714 0.         0.14285714 0.14285714 0.         0.\n",
      "  0.14285714 0.        ]\n",
      " [0.         0.         0.         0.         0.         0.\n",
      "  0.         0.         0.         0.14285714 0.54761905 0.\n",
      "  0.16666667 0.         0.         0.         0.14285714 0.\n",
      "  0.         0.        ]\n",
      " [0.         0.         0.         0.         0.         0.\n",
      "  0.         0.         0.         0.14285714 0.         0.21428571\n",
      "  0.16666667 0.         0.         0.         0.14285714 0.16666667\n",
      "  0.16666667 0.        ]\n",
      " [0.         0.         0.         0.         0.         0.\n",
      "  0.         0.         0.         0.14285714 0.16666667 0.16666667\n",
      "  0.21428571 0.         0.         0.         0.14285714 0.16666667\n",
      "  0.         0.        ]\n",
      " [0.         0.         0.         0.         0.         0.\n",
      "  0.         0.         0.         0.         0.         0.\n",
      "  0.         0.41666667 0.25       0.         0.         0.16666667\n",
      "  0.16666667 0.        ]\n",
      " [0.         0.         0.         0.         0.         0.\n",
      "  0.         0.         0.         0.14285714 0.         0.\n",
      "  0.         0.25       0.40714286 0.2        0.         0.\n",
      "  0.         0.        ]\n",
      " [0.         0.         0.         0.         0.         0.\n",
      "  0.         0.         0.         0.14285714 0.         0.\n",
      "  0.         0.         0.2        0.32380952 0.         0.16666667\n",
      "  0.16666667 0.        ]\n",
      " [0.         0.         0.         0.         0.         0.\n",
      "  0.         0.         0.14285714 0.         0.14285714 0.14285714\n",
      "  0.14285714 0.         0.         0.         0.14285714 0.14285714\n",
      "  0.14285714 0.        ]\n",
      " [0.         0.         0.         0.         0.         0.\n",
      "  0.         0.         0.         0.         0.         0.16666667\n",
      "  0.16666667 0.16666667 0.         0.16666667 0.14285714 0.19047619\n",
      "  0.         0.        ]\n",
      " [0.         0.         0.         0.         0.         0.\n",
      "  0.         0.         0.         0.14285714 0.         0.16666667\n",
      "  0.         0.16666667 0.         0.16666667 0.14285714 0.\n",
      "  0.21428571 0.        ]\n",
      " [0.         0.14285714 0.14285714 0.         0.125      0.14285714\n",
      "  0.         0.14285714 0.14285714 0.         0.         0.\n",
      "  0.         0.         0.         0.         0.         0.\n",
      "  0.         0.16071429]]\n"
     ]
    }
   ],
   "source": [
    "# Metropolis weights \n",
    "number_nodes = G.number_of_nodes()\n",
    "weights = np.zeros([number_nodes, number_nodes])\n",
    "for edge in G.edges():\n",
    "  i, j = edge[0], edge[1]\n",
    "  weights[i - 1][j - 1] = 1 / (1 + np.max([G.degree(i), G.degree(j)]))\n",
    "  weights[j - 1][i - 1] = weights[i - 1][j - 1]\n",
    "\n",
    "print(weights)\n",
    "\n",
    "weights = weights + np.diag(1 - np.sum(weights, axis=0))\n",
    "\n",
    "metropolis_weights = weights\n",
    "print(metropolis_weights)\n"
   ]
  },
  {
   "cell_type": "code",
   "execution_count": 4,
   "id": "654ab72f",
   "metadata": {},
   "outputs": [],
   "source": [
    "def load_dataset():\n",
    "    transforms_mnist = transforms.Compose([transforms.ToTensor(), transforms.Normalize((0.1307,),(0.3081,))])\n",
    "    mnist_data_train = datasets.MNIST('./data/mnist', train=True, download=True, transform=transforms_mnist)\n",
    "    mnist_data_test = datasets.MNIST('./data/mnist', train=False, download=True, transform=transforms_mnist)\n",
    "\n",
    "    return mnist_data_train, mnist_data_test"
   ]
  },
  {
   "cell_type": "code",
   "execution_count": 5,
   "id": "26f67564",
   "metadata": {},
   "outputs": [],
   "source": [
    "def degrees(A):\n",
    "    \"\"\"Return the degrees of each node of a graph from its adjacency matrix\"\"\"\n",
    "    return np.sum(A, axis=0).reshape(A.shape[0], 1)\n",
    "\n",
    "def node_degree(n, G):\n",
    "    cnt = 0\n",
    "    for i in G.neighbors(n):\n",
    "        cnt += 1\n",
    "    return cnt\n",
    "\n",
    "def get_neighbors(n, G):\n",
    "    neighbors_list = []\n",
    "    for i in G.neighbors(n):\n",
    "        neighbors_list.append(int(i))\n",
    "    return neighbors_list"
   ]
  },
  {
   "cell_type": "code",
   "execution_count": 6,
   "id": "dbc31eff",
   "metadata": {},
   "outputs": [],
   "source": [
    "datapoints = {}\n",
    "count = 0\n",
    "W1 = np.array([2.0, 2.0])\n",
    "W2 = np.array([-2.0, 2.0])\n",
    "W = [W1, W2]\n",
    "m = 200\n",
    "n = 2\n",
    "noise_sd = 0.001\n",
    "for i, cluster_size in enumerate(cluster_sizes):\n",
    "    for j in range(cluster_size):\n",
    "        features = np.random.normal(loc=0.0, scale=1.0, size=(m, n))\n",
    "        label = np.dot(features, W[i]) + np.random.normal(0,noise_sd)\n",
    "        datapoints[count] = {\n",
    "                'features': features,\n",
    "                'degree': node_degree(count, G),\n",
    "                'label': label,\n",
    "                'neighbors': get_neighbors(count, G),\n",
    "                'exact_weights': torch.from_numpy(W[i])\n",
    "            }\n",
    "        count += 1"
   ]
  },
  {
   "cell_type": "code",
   "execution_count": 7,
   "id": "3c2530b1",
   "metadata": {},
   "outputs": [],
   "source": [
    "class MyDataset(Dataset):\n",
    "    def __init__(self, data, targets, transform=None):\n",
    "        self.data = torch.FloatTensor(data)\n",
    "        self.targets = torch.FloatTensor(targets).unsqueeze(-1)\n",
    "        \n",
    "    def __getitem__(self, index):\n",
    "        x = self.data[index]\n",
    "        y = self.targets[index]\n",
    "\n",
    "        return x, y\n",
    "    \n",
    "    def __len__(self):\n",
    "        return len(self.data)\n"
   ]
  },
  {
   "cell_type": "code",
   "execution_count": 8,
   "id": "1d84bf7c",
   "metadata": {},
   "outputs": [],
   "source": [
    "class MLP_Net(nn.Module):\n",
    "    def __init__(self, user_id):\n",
    "        super(MLP_Net, self).__init__()\n",
    "        self.fc1 = nn.Linear(2, 1, bias=False)\n",
    "        #self.fc2 = nn.Linear(4, 1, bias=False)\n",
    "        #self.fc3 = nn.Linear(200, 10)\n",
    "        self.user_id = user_id\n",
    "\n",
    "    def forward(self, x):\n",
    "        x = torch.flatten(x, 1)\n",
    "        #x = F.relu(self.fc1(x))\n",
    "        output = self.fc1(x)\n",
    "        #output = self.fc3(x)\n",
    "        return output"
   ]
  },
  {
   "cell_type": "code",
   "execution_count": 9,
   "id": "f93f4bbc",
   "metadata": {},
   "outputs": [],
   "source": [
    "from typing import Iterable, Optional\n",
    "\n",
    "def grads_to_vector(parameters: Iterable[torch.Tensor]) -> torch.Tensor:\n",
    "    r\"\"\"Convert parameters to one vector\n",
    "\n",
    "    Args:\n",
    "        parameters (Iterable[Tensor]): an iterator of Tensors that are the\n",
    "            parameters of a model.\n",
    "\n",
    "    Returns:\n",
    "        The parameters represented by a single vector\n",
    "    \"\"\"\n",
    "    # Flag for the device where the parameter is located\n",
    "    param_device = None\n",
    "\n",
    "    vec = []\n",
    "    for param in parameters:\n",
    "        # Ensure the parameters are located in the same device\n",
    "        param_device = param.grad\n",
    "\n",
    "        vec.append(param_device.view(-1))\n",
    "    return torch.cat(vec)"
   ]
  },
  {
   "cell_type": "code",
   "execution_count": 10,
   "id": "9cd3a679",
   "metadata": {},
   "outputs": [
    {
     "name": "stdout",
     "output_type": "stream",
     "text": [
      "torch.Size([50, 1])\n",
      "torch.Size([50, 1])\n",
      "0 tensor(8.8291, grad_fn=<MseLossBackward0>) tensor([ 4.9329, -3.2493]) tensor([0.4254, 0.2476], grad_fn=<CatBackward0>)\n",
      "torch.Size([50, 1])\n",
      "torch.Size([50, 1])\n",
      "0 tensor(7.2305, grad_fn=<MseLossBackward0>) tensor([ 3.1584, -4.0442]) tensor([0.3761, 0.2801], grad_fn=<CatBackward0>)\n",
      "torch.Size([50, 1])\n",
      "torch.Size([50, 1])\n",
      "0 tensor(6.0486, grad_fn=<MseLossBackward0>) tensor([ 3.2629, -2.6477]) tensor([0.3445, 0.3205], grad_fn=<CatBackward0>)\n",
      "torch.Size([50, 1])\n",
      "torch.Size([50, 1])\n",
      "0 tensor(6.4321, grad_fn=<MseLossBackward0>) tensor([ 4.1023, -2.0447]) tensor([0.3119, 0.3470], grad_fn=<CatBackward0>)\n",
      "torch.Size([50, 1])\n",
      "torch.Size([50, 1])\n",
      "1 tensor(7.7148, grad_fn=<MseLossBackward0>) tensor([ 4.6188, -3.0266]) tensor([0.2709, 0.3674], grad_fn=<CatBackward0>)\n",
      "torch.Size([50, 1])\n",
      "torch.Size([50, 1])\n",
      "1 tensor(6.3080, grad_fn=<MseLossBackward0>) tensor([ 2.9581, -3.7663]) tensor([0.2247, 0.3977], grad_fn=<CatBackward0>)\n",
      "torch.Size([50, 1])\n",
      "torch.Size([50, 1])\n",
      "1 tensor(5.2829, grad_fn=<MseLossBackward0>) tensor([ 3.0568, -2.4641]) tensor([0.1951, 0.4354], grad_fn=<CatBackward0>)\n",
      "torch.Size([50, 1])\n",
      "torch.Size([50, 1])\n",
      "1 tensor(5.6237, grad_fn=<MseLossBackward0>) tensor([ 3.8441, -1.9003]) tensor([0.1645, 0.4600], grad_fn=<CatBackward0>)\n",
      "torch.Size([50, 1])\n",
      "torch.Size([50, 1])\n",
      "2 tensor(6.7412, grad_fn=<MseLossBackward0>) tensor([ 4.3246, -2.8194]) tensor([0.1261, 0.4790], grad_fn=<CatBackward0>)\n",
      "torch.Size([50, 1])\n",
      "torch.Size([50, 1])\n",
      "2 tensor(5.5035, grad_fn=<MseLossBackward0>) tensor([ 2.7705, -3.5076]) tensor([0.0829, 0.5072], grad_fn=<CatBackward0>)\n",
      "torch.Size([50, 1])\n",
      "torch.Size([50, 1])\n",
      "2 tensor(4.6143, grad_fn=<MseLossBackward0>) tensor([ 2.8637, -2.2933]) tensor([0.0551, 0.5423], grad_fn=<CatBackward0>)\n",
      "torch.Size([50, 1])\n",
      "torch.Size([50, 1])\n",
      "2 tensor(4.9169, grad_fn=<MseLossBackward0>) tensor([ 3.6020, -1.7662]) tensor([0.0265, 0.5652], grad_fn=<CatBackward0>)\n",
      "torch.Size([50, 1])\n",
      "torch.Size([50, 1])\n",
      "3 tensor(5.8906, grad_fn=<MseLossBackward0>) tensor([ 4.0490, -2.6266]) tensor([-0.0095,  0.5829], grad_fn=<CatBackward0>)\n",
      "torch.Size([50, 1])\n",
      "torch.Size([50, 1])\n",
      "3 tensor(4.8019, grad_fn=<MseLossBackward0>) tensor([ 2.5946, -3.2669]) tensor([-0.0500,  0.6092], grad_fn=<CatBackward0>)\n",
      "torch.Size([50, 1])\n",
      "torch.Size([50, 1])\n",
      "3 tensor(4.0304, grad_fn=<MseLossBackward0>) tensor([ 2.6826, -2.1345]) tensor([-0.0759,  0.6418], grad_fn=<CatBackward0>)\n",
      "torch.Size([50, 1])\n",
      "torch.Size([50, 1])\n",
      "3 tensor(4.2991, grad_fn=<MseLossBackward0>) tensor([ 3.3750, -1.6418]) tensor([-0.1028,  0.6632], grad_fn=<CatBackward0>)\n",
      "torch.Size([50, 1])\n",
      "torch.Size([50, 1])\n",
      "4 tensor(5.1475, grad_fn=<MseLossBackward0>) tensor([ 3.7908, -2.4470]) tensor([-0.1365,  0.6796], grad_fn=<CatBackward0>)\n",
      "torch.Size([50, 1])\n",
      "torch.Size([50, 1])\n",
      "4 tensor(4.1899, grad_fn=<MseLossBackward0>) tensor([ 2.4298, -3.0430]) tensor([-0.1744,  0.7041], grad_fn=<CatBackward0>)\n",
      "torch.Size([50, 1])\n",
      "torch.Size([50, 1])\n",
      "4 tensor(3.5205, grad_fn=<MseLossBackward0>) tensor([ 2.5128, -1.9869]) tensor([-0.1987,  0.7345], grad_fn=<CatBackward0>)\n",
      "torch.Size([50, 1])\n",
      "torch.Size([50, 1])\n",
      "4 tensor(3.7588, grad_fn=<MseLossBackward0>) tensor([ 3.1621, -1.5262]) tensor([-0.2239,  0.7544], grad_fn=<CatBackward0>)\n",
      "torch.Size([50, 1])\n",
      "torch.Size([50, 1])\n",
      "5 tensor(4.4981, grad_fn=<MseLossBackward0>) tensor([ 3.5490, -2.2799]) tensor([-0.2555,  0.7696], grad_fn=<CatBackward0>)\n",
      "torch.Size([50, 1])\n",
      "torch.Size([50, 1])\n",
      "5 tensor(3.6560, grad_fn=<MseLossBackward0>) tensor([ 2.2754, -2.8345]) tensor([-0.2910,  0.7924], grad_fn=<CatBackward0>)\n",
      "torch.Size([50, 1])\n",
      "torch.Size([50, 1])\n",
      "5 tensor(3.0752, grad_fn=<MseLossBackward0>) tensor([ 2.3537, -1.8495]) tensor([-0.3137,  0.8208], grad_fn=<CatBackward0>)\n",
      "torch.Size([50, 1])\n",
      "torch.Size([50, 1])\n",
      "5 tensor(3.2866, grad_fn=<MseLossBackward0>) tensor([ 2.9625, -1.4189]) tensor([-0.3373,  0.8393], grad_fn=<CatBackward0>)\n",
      "torch.Size([50, 1])\n",
      "torch.Size([50, 1])\n",
      "6 tensor(3.9308, grad_fn=<MseLossBackward0>) tensor([ 3.3226, -2.1243]) tensor([-0.3669,  0.8534], grad_fn=<CatBackward0>)\n",
      "torch.Size([50, 1])\n",
      "torch.Size([50, 1])\n",
      "6 tensor(3.1904, grad_fn=<MseLossBackward0>) tensor([ 2.1308, -2.6405]) tensor([-0.4001,  0.8747], grad_fn=<CatBackward0>)\n",
      "torch.Size([50, 1])\n",
      "torch.Size([50, 1])\n",
      "6 tensor(2.6863, grad_fn=<MseLossBackward0>) tensor([ 2.2046, -1.7218]) tensor([-0.4214,  0.9011], grad_fn=<CatBackward0>)\n",
      "torch.Size([50, 1])\n",
      "torch.Size([50, 1])\n",
      "6 tensor(2.8736, grad_fn=<MseLossBackward0>) tensor([ 2.7754, -1.3192]) tensor([-0.4435,  0.9183], grad_fn=<CatBackward0>)\n",
      "torch.Size([50, 1])\n",
      "torch.Size([50, 1])\n",
      "7 tensor(3.4350, grad_fn=<MseLossBackward0>) tensor([ 3.1105, -1.9794]) tensor([-0.4712,  0.9315], grad_fn=<CatBackward0>)\n",
      "torch.Size([50, 1])\n",
      "torch.Size([50, 1])\n",
      "7 tensor(2.7841, grad_fn=<MseLossBackward0>) tensor([ 1.9952, -2.4599]) tensor([-0.5023,  0.9513], grad_fn=<CatBackward0>)\n",
      "torch.Size([50, 1])\n",
      "torch.Size([50, 1])\n",
      "7 tensor(2.3467, grad_fn=<MseLossBackward0>) tensor([ 2.0649, -1.6031]) tensor([-0.5223,  0.9759], grad_fn=<CatBackward0>)\n",
      "torch.Size([50, 1])\n",
      "torch.Size([50, 1])\n",
      "7 tensor(2.5126, grad_fn=<MseLossBackward0>) tensor([ 2.6000, -1.2266]) tensor([-0.5429,  0.9919], grad_fn=<CatBackward0>)\n",
      "torch.Size([50, 1])\n",
      "torch.Size([50, 1])\n",
      "8 tensor(3.0018, grad_fn=<MseLossBackward0>) tensor([ 2.9118, -1.8445]) tensor([-0.5689,  1.0042], grad_fn=<CatBackward0>)\n",
      "torch.Size([50, 1])\n",
      "torch.Size([50, 1])\n",
      "8 tensor(2.4297, grad_fn=<MseLossBackward0>) tensor([ 1.8683, -2.2918]) tensor([-0.5980,  1.0226], grad_fn=<CatBackward0>)\n",
      "torch.Size([50, 1])\n",
      "torch.Size([50, 1])\n",
      "8 tensor(2.0500, grad_fn=<MseLossBackward0>) tensor([ 1.9339, -1.4926]) tensor([-0.6167,  1.0456], grad_fn=<CatBackward0>)\n",
      "torch.Size([50, 1])\n",
      "torch.Size([50, 1])\n",
      "8 tensor(2.1969, grad_fn=<MseLossBackward0>) tensor([ 2.4356, -1.1406]) tensor([-0.6361,  1.0605], grad_fn=<CatBackward0>)\n",
      "torch.Size([50, 1])\n",
      "torch.Size([50, 1])\n",
      "9 tensor(2.6233, grad_fn=<MseLossBackward0>) tensor([ 2.7258, -1.7189]) tensor([-0.6604,  1.0719], grad_fn=<CatBackward0>)\n",
      "torch.Size([50, 1])\n",
      "torch.Size([50, 1])\n",
      "9 tensor(2.1205, grad_fn=<MseLossBackward0>) tensor([ 1.7493, -2.1353]) tensor([-0.6877,  1.0891], grad_fn=<CatBackward0>)\n",
      "torch.Size([50, 1])\n",
      "torch.Size([50, 1])\n",
      "9 tensor(1.7909, grad_fn=<MseLossBackward0>) tensor([ 1.8112, -1.3898]) tensor([-0.7052,  1.1104], grad_fn=<CatBackward0>)\n",
      "torch.Size([50, 1])\n",
      "torch.Size([50, 1])\n",
      "9 tensor(1.9210, grad_fn=<MseLossBackward0>) tensor([ 2.2815, -1.0608]) tensor([-0.7233,  1.1243], grad_fn=<CatBackward0>)\n",
      "torch.Size([50, 1])\n",
      "torch.Size([50, 1])\n",
      "10 tensor(2.2925, grad_fn=<MseLossBackward0>) tensor([ 2.5516, -1.6019]) tensor([-0.7461,  1.1349], grad_fn=<CatBackward0>)\n",
      "torch.Size([50, 1])\n",
      "torch.Size([50, 1])\n",
      "10 tensor(1.8508, grad_fn=<MseLossBackward0>) tensor([ 1.6379, -1.9896]) tensor([-0.7716,  1.1510], grad_fn=<CatBackward0>)\n",
      "torch.Size([50, 1])\n",
      "torch.Size([50, 1])\n",
      "10 tensor(1.5645, grad_fn=<MseLossBackward0>) tensor([ 1.6962, -1.2942]) tensor([-0.7880,  1.1708], grad_fn=<CatBackward0>)\n",
      "torch.Size([50, 1])\n",
      "torch.Size([50, 1])\n",
      "10 tensor(1.6796, grad_fn=<MseLossBackward0>) tensor([ 2.1371, -0.9866]) tensor([-0.8050,  1.1838], grad_fn=<CatBackward0>)\n",
      "torch.Size([50, 1])\n",
      "torch.Size([50, 1])\n",
      "11 tensor(2.0035, grad_fn=<MseLossBackward0>) tensor([ 2.3885, -1.4930]) tensor([-0.8263,  1.1937], grad_fn=<CatBackward0>)\n",
      "torch.Size([50, 1])\n",
      "torch.Size([50, 1])\n",
      "11 tensor(1.6154, grad_fn=<MseLossBackward0>) tensor([ 1.5335, -1.8539]) tensor([-0.8502,  1.2086], grad_fn=<CatBackward0>)\n",
      "torch.Size([50, 1])\n",
      "torch.Size([50, 1])\n",
      "11 tensor(1.3669, grad_fn=<MseLossBackward0>) tensor([ 1.5884, -1.2052]) tensor([-0.8655,  1.2271], grad_fn=<CatBackward0>)\n",
      "torch.Size([50, 1])\n",
      "torch.Size([50, 1])\n",
      "11 tensor(1.4687, grad_fn=<MseLossBackward0>) tensor([ 2.0017, -0.9176]) tensor([-0.8814,  1.2392], grad_fn=<CatBackward0>)\n",
      "torch.Size([50, 1])\n",
      "torch.Size([50, 1])\n",
      "12 tensor(1.7509, grad_fn=<MseLossBackward0>) tensor([ 2.2357, -1.3915]) tensor([-0.9014,  1.2484], grad_fn=<CatBackward0>)\n",
      "torch.Size([50, 1])\n",
      "torch.Size([50, 1])\n",
      "12 tensor(1.4100, grad_fn=<MseLossBackward0>) tensor([ 1.4358, -1.7276]) tensor([-0.9238,  1.2623], grad_fn=<CatBackward0>)\n",
      "torch.Size([50, 1])\n",
      "torch.Size([50, 1])\n",
      "12 tensor(1.1942, grad_fn=<MseLossBackward0>) tensor([ 1.4875, -1.1225]) tensor([-0.9382,  1.2795], grad_fn=<CatBackward0>)\n",
      "torch.Size([50, 1])\n",
      "torch.Size([50, 1])\n",
      "12 tensor(1.2842, grad_fn=<MseLossBackward0>) tensor([ 1.8748, -0.8536]) tensor([-0.9530,  1.2908], grad_fn=<CatBackward0>)\n",
      "torch.Size([50, 1])\n",
      "torch.Size([50, 1])\n",
      "13 tensor(1.5302, grad_fn=<MseLossBackward0>) tensor([ 2.0927, -1.2970]) tensor([-0.9718,  1.2993], grad_fn=<CatBackward0>)\n",
      "torch.Size([50, 1])\n",
      "torch.Size([50, 1])\n",
      "13 tensor(1.2307, grad_fn=<MseLossBackward0>) tensor([ 1.3442, -1.6100]) tensor([-0.9927,  1.3123], grad_fn=<CatBackward0>)\n",
      "torch.Size([50, 1])\n",
      "torch.Size([50, 1])\n",
      "13 tensor(1.0433, grad_fn=<MseLossBackward0>) tensor([ 1.3929, -1.0454]) tensor([-1.0061,  1.3284], grad_fn=<CatBackward0>)\n",
      "torch.Size([50, 1])\n",
      "torch.Size([50, 1])\n",
      "13 tensor(1.1229, grad_fn=<MseLossBackward0>) tensor([ 1.7559, -0.7940]) tensor([-1.0201,  1.3388], grad_fn=<CatBackward0>)\n",
      "torch.Size([50, 1])\n",
      "torch.Size([50, 1])\n",
      "14 tensor(1.3373, grad_fn=<MseLossBackward0>) tensor([ 1.9587, -1.2090]) tensor([-1.0376,  1.3468], grad_fn=<CatBackward0>)\n",
      "torch.Size([50, 1])\n",
      "torch.Size([50, 1])\n",
      "14 tensor(1.0743, grad_fn=<MseLossBackward0>) tensor([ 1.2584, -1.5005]) tensor([-1.0572,  1.3589], grad_fn=<CatBackward0>)\n",
      "torch.Size([50, 1])\n",
      "torch.Size([50, 1])\n",
      "14 tensor(0.9115, grad_fn=<MseLossBackward0>) tensor([ 1.3042, -0.9738]) tensor([-1.0698,  1.3739], grad_fn=<CatBackward0>)\n",
      "torch.Size([50, 1])\n",
      "torch.Size([50, 1])\n",
      "14 tensor(0.9818, grad_fn=<MseLossBackward0>) tensor([ 1.6445, -0.7387]) tensor([-1.0828,  1.3836], grad_fn=<CatBackward0>)\n",
      "torch.Size([50, 1])\n",
      "torch.Size([50, 1])\n",
      "15 tensor(1.1688, grad_fn=<MseLossBackward0>) tensor([ 1.8333, -1.1270]) tensor([-1.0993,  1.3910], grad_fn=<CatBackward0>)\n",
      "torch.Size([50, 1])\n",
      "torch.Size([50, 1])\n",
      "15 tensor(0.9378, grad_fn=<MseLossBackward0>) tensor([ 1.1781, -1.3985]) tensor([-1.1176,  1.4023], grad_fn=<CatBackward0>)\n",
      "torch.Size([50, 1])\n",
      "torch.Size([50, 1])\n",
      "15 tensor(0.7964, grad_fn=<MseLossBackward0>) tensor([ 1.2212, -0.9071]) tensor([-1.1294,  1.4162], grad_fn=<CatBackward0>)\n",
      "torch.Size([50, 1])\n",
      "torch.Size([50, 1])\n",
      "15 tensor(0.8585, grad_fn=<MseLossBackward0>) tensor([ 1.5400, -0.6873]) tensor([-1.1416,  1.4253], grad_fn=<CatBackward0>)\n",
      "torch.Size([50, 1])\n",
      "torch.Size([50, 1])\n",
      "16 tensor(1.0215, grad_fn=<MseLossBackward0>) tensor([ 1.7159, -1.0506]) tensor([-1.1570,  1.4322], grad_fn=<CatBackward0>)\n",
      "torch.Size([50, 1])\n",
      "torch.Size([50, 1])\n",
      "16 tensor(0.8187, grad_fn=<MseLossBackward0>) tensor([ 1.1029, -1.3035]) tensor([-1.1742,  1.4427], grad_fn=<CatBackward0>)\n",
      "torch.Size([50, 1])\n",
      "torch.Size([50, 1])\n",
      "16 tensor(0.6959, grad_fn=<MseLossBackward0>) tensor([ 1.1435, -0.8450]) tensor([-1.1852,  1.4557], grad_fn=<CatBackward0>)\n",
      "torch.Size([50, 1])\n",
      "torch.Size([50, 1])\n"
     ]
    },
    {
     "name": "stdout",
     "output_type": "stream",
     "text": [
      "16 tensor(0.7507, grad_fn=<MseLossBackward0>) tensor([ 1.4422, -0.6395]) tensor([-1.1966,  1.4642], grad_fn=<CatBackward0>)\n",
      "torch.Size([50, 1])\n",
      "torch.Size([50, 1])\n",
      "17 tensor(0.8927, grad_fn=<MseLossBackward0>) tensor([ 1.6060, -0.9795]) tensor([-1.2111,  1.4706], grad_fn=<CatBackward0>)\n",
      "torch.Size([50, 1])\n",
      "torch.Size([50, 1])\n",
      "17 tensor(0.7147, grad_fn=<MseLossBackward0>) tensor([ 1.0324, -1.2150]) tensor([-1.2271,  1.4804], grad_fn=<CatBackward0>)\n",
      "torch.Size([50, 1])\n",
      "torch.Size([50, 1])\n",
      "17 tensor(0.6080, grad_fn=<MseLossBackward0>) tensor([ 1.0706, -0.7872]) tensor([-1.2374,  1.4925], grad_fn=<CatBackward0>)\n",
      "torch.Size([50, 1])\n",
      "torch.Size([50, 1])\n",
      "17 tensor(0.6564, grad_fn=<MseLossBackward0>) tensor([ 1.3505, -0.5951]) tensor([-1.2482,  1.5004], grad_fn=<CatBackward0>)\n",
      "torch.Size([50, 1])\n",
      "torch.Size([50, 1])\n",
      "18 tensor(0.7802, grad_fn=<MseLossBackward0>) tensor([ 1.5031, -0.9132]) tensor([-1.2617,  1.5063], grad_fn=<CatBackward0>)\n",
      "torch.Size([50, 1])\n",
      "torch.Size([50, 1])\n",
      "18 tensor(0.6240, grad_fn=<MseLossBackward0>) tensor([ 0.9665, -1.1326]) tensor([-1.2767,  1.5155], grad_fn=<CatBackward0>)\n",
      "torch.Size([50, 1])\n",
      "torch.Size([50, 1])\n",
      "18 tensor(0.5313, grad_fn=<MseLossBackward0>) tensor([ 1.0024, -0.7334]) tensor([-1.2864,  1.5268], grad_fn=<CatBackward0>)\n",
      "torch.Size([50, 1])\n",
      "torch.Size([50, 1])\n",
      "18 tensor(0.5740, grad_fn=<MseLossBackward0>) tensor([ 1.2647, -0.5538]) tensor([-1.2964,  1.5341], grad_fn=<CatBackward0>)\n",
      "torch.Size([50, 1])\n",
      "torch.Size([50, 1])\n",
      "19 tensor(0.6819, grad_fn=<MseLossBackward0>) tensor([ 1.4067, -0.8514]) tensor([-1.3090,  1.5397], grad_fn=<CatBackward0>)\n",
      "torch.Size([50, 1])\n",
      "torch.Size([50, 1])\n",
      "19 tensor(0.5448, grad_fn=<MseLossBackward0>) tensor([ 0.9047, -1.0558]) tensor([-1.3231,  1.5482], grad_fn=<CatBackward0>)\n",
      "torch.Size([50, 1])\n",
      "torch.Size([50, 1])\n",
      "19 tensor(0.4642, grad_fn=<MseLossBackward0>) tensor([ 0.9384, -0.6833]) tensor([-1.3321,  1.5587], grad_fn=<CatBackward0>)\n",
      "torch.Size([50, 1])\n",
      "torch.Size([50, 1])\n",
      "19 tensor(0.5019, grad_fn=<MseLossBackward0>) tensor([ 1.1842, -0.5154]) tensor([-1.3415,  1.5656], grad_fn=<CatBackward0>)\n",
      "torch.Size([50, 1])\n",
      "torch.Size([50, 1])\n",
      "20 tensor(0.5960, grad_fn=<MseLossBackward0>) tensor([ 1.3165, -0.7938]) tensor([-1.3534,  1.5707], grad_fn=<CatBackward0>)\n",
      "torch.Size([50, 1])\n",
      "torch.Size([50, 1])\n",
      "20 tensor(0.4757, grad_fn=<MseLossBackward0>) tensor([ 0.8468, -0.9843]) tensor([-1.3665,  1.5787], grad_fn=<CatBackward0>)\n",
      "torch.Size([50, 1])\n",
      "torch.Size([50, 1])\n",
      "20 tensor(0.4056, grad_fn=<MseLossBackward0>) tensor([ 0.8786, -0.6367]) tensor([-1.3750,  1.5885], grad_fn=<CatBackward0>)\n",
      "torch.Size([50, 1])\n",
      "torch.Size([50, 1])\n",
      "20 tensor(0.4388, grad_fn=<MseLossBackward0>) tensor([ 1.1088, -0.4797]) tensor([-1.3838,  1.5949], grad_fn=<CatBackward0>)\n",
      "torch.Size([50, 1])\n",
      "torch.Size([50, 1])\n",
      "21 tensor(0.5209, grad_fn=<MseLossBackward0>) tensor([ 1.2321, -0.7402]) tensor([-1.3949,  1.5997], grad_fn=<CatBackward0>)\n",
      "torch.Size([50, 1])\n",
      "torch.Size([50, 1])\n",
      "21 tensor(0.4153, grad_fn=<MseLossBackward0>) tensor([ 0.7927, -0.9177]) tensor([-1.4072,  1.6071], grad_fn=<CatBackward0>)\n",
      "torch.Size([50, 1])\n",
      "torch.Size([50, 1])\n",
      "21 tensor(0.3544, grad_fn=<MseLossBackward0>) tensor([ 0.8225, -0.5933]) tensor([-1.4151,  1.6163], grad_fn=<CatBackward0>)\n",
      "torch.Size([50, 1])\n",
      "torch.Size([50, 1])\n",
      "21 tensor(0.3837, grad_fn=<MseLossBackward0>) tensor([ 1.0382, -0.4465]) tensor([-1.4233,  1.6222], grad_fn=<CatBackward0>)\n",
      "torch.Size([50, 1])\n",
      "torch.Size([50, 1])\n",
      "22 tensor(0.4553, grad_fn=<MseLossBackward0>) tensor([ 1.1530, -0.6902]) tensor([-1.4337,  1.6267], grad_fn=<CatBackward0>)\n",
      "torch.Size([50, 1])\n",
      "torch.Size([50, 1])\n",
      "22 tensor(0.3626, grad_fn=<MseLossBackward0>) tensor([ 0.7419, -0.8556]) tensor([-1.4453,  1.6336], grad_fn=<CatBackward0>)\n",
      "torch.Size([50, 1])\n",
      "torch.Size([50, 1])\n",
      "22 tensor(0.3097, grad_fn=<MseLossBackward0>) tensor([ 0.7700, -0.5529]) tensor([-1.4527,  1.6421], grad_fn=<CatBackward0>)\n",
      "torch.Size([50, 1])\n",
      "torch.Size([50, 1])\n",
      "22 tensor(0.3355, grad_fn=<MseLossBackward0>) tensor([ 0.9721, -0.4156]) tensor([-1.4604,  1.6476], grad_fn=<CatBackward0>)\n",
      "torch.Size([50, 1])\n",
      "torch.Size([50, 1])\n",
      "23 tensor(0.3979, grad_fn=<MseLossBackward0>) tensor([ 1.0790, -0.6436]) tensor([-1.4701,  1.6518], grad_fn=<CatBackward0>)\n",
      "torch.Size([50, 1])\n",
      "torch.Size([50, 1])\n",
      "23 tensor(0.3166, grad_fn=<MseLossBackward0>) tensor([ 0.6944, -0.7978]) tensor([-1.4809,  1.6582], grad_fn=<CatBackward0>)\n",
      "torch.Size([50, 1])\n",
      "torch.Size([50, 1])\n",
      "23 tensor(0.2706, grad_fn=<MseLossBackward0>) tensor([ 0.7208, -0.5153]) tensor([-1.4878,  1.6662], grad_fn=<CatBackward0>)\n",
      "torch.Size([50, 1])\n",
      "torch.Size([50, 1])\n",
      "23 tensor(0.2934, grad_fn=<MseLossBackward0>) tensor([ 0.9101, -0.3869]) tensor([-1.4950,  1.6714], grad_fn=<CatBackward0>)\n",
      "torch.Size([50, 1])\n",
      "torch.Size([50, 1])\n",
      "24 tensor(0.3478, grad_fn=<MseLossBackward0>) tensor([ 1.0098, -0.6002]) tensor([-1.5041,  1.6752], grad_fn=<CatBackward0>)\n",
      "torch.Size([50, 1])\n",
      "torch.Size([50, 1])\n",
      "24 tensor(0.2765, grad_fn=<MseLossBackward0>) tensor([ 0.6500, -0.7439]) tensor([-1.5142,  1.6812], grad_fn=<CatBackward0>)\n",
      "torch.Size([50, 1])\n",
      "torch.Size([50, 1])\n",
      "24 tensor(0.2365, grad_fn=<MseLossBackward0>) tensor([ 0.6747, -0.4802]) tensor([-1.5207,  1.6887], grad_fn=<CatBackward0>)\n",
      "torch.Size([50, 1])\n",
      "torch.Size([50, 1])\n",
      "24 tensor(0.2565, grad_fn=<MseLossBackward0>) tensor([ 0.8521, -0.3602]) tensor([-1.5275,  1.6935], grad_fn=<CatBackward0>)\n",
      "torch.Size([50, 1])\n",
      "torch.Size([50, 1])\n",
      "25 tensor(0.3040, grad_fn=<MseLossBackward0>) tensor([ 0.9449, -0.5597]) tensor([-1.5360,  1.6971], grad_fn=<CatBackward0>)\n",
      "torch.Size([50, 1])\n",
      "torch.Size([50, 1])\n",
      "25 tensor(0.2414, grad_fn=<MseLossBackward0>) tensor([ 0.6083, -0.6937]) tensor([-1.5455,  1.7027], grad_fn=<CatBackward0>)\n",
      "torch.Size([50, 1])\n",
      "torch.Size([50, 1])\n",
      "25 tensor(0.2067, grad_fn=<MseLossBackward0>) tensor([ 0.6316, -0.4476]) tensor([-1.5515,  1.7096], grad_fn=<CatBackward0>)\n",
      "torch.Size([50, 1])\n",
      "torch.Size([50, 1])\n",
      "25 tensor(0.2243, grad_fn=<MseLossBackward0>) tensor([ 0.7977, -0.3354]) tensor([-1.5579,  1.7141], grad_fn=<CatBackward0>)\n",
      "torch.Size([50, 1])\n",
      "torch.Size([50, 1])\n",
      "26 tensor(0.2657, grad_fn=<MseLossBackward0>) tensor([ 0.8842, -0.5220]) tensor([-1.5658,  1.7174], grad_fn=<CatBackward0>)\n",
      "torch.Size([50, 1])\n",
      "torch.Size([50, 1])\n",
      "26 tensor(0.2108, grad_fn=<MseLossBackward0>) tensor([ 0.5694, -0.6469]) tensor([-1.5747,  1.7227], grad_fn=<CatBackward0>)\n",
      "torch.Size([50, 1])\n",
      "torch.Size([50, 1])\n",
      "26 tensor(0.1806, grad_fn=<MseLossBackward0>) tensor([ 0.5912, -0.4172]) tensor([-1.5804,  1.7291], grad_fn=<CatBackward0>)\n",
      "torch.Size([50, 1])\n",
      "torch.Size([50, 1])\n",
      "26 tensor(0.1962, grad_fn=<MseLossBackward0>) tensor([ 0.7468, -0.3123]) tensor([-1.5863,  1.7333], grad_fn=<CatBackward0>)\n",
      "torch.Size([50, 1])\n",
      "torch.Size([50, 1])\n",
      "27 tensor(0.2322, grad_fn=<MseLossBackward0>) tensor([ 0.8274, -0.4869]) tensor([-1.5937,  1.7364], grad_fn=<CatBackward0>)\n",
      "torch.Size([50, 1])\n",
      "torch.Size([50, 1])\n",
      "27 tensor(0.1841, grad_fn=<MseLossBackward0>) tensor([ 0.5329, -0.6032]) tensor([-1.6020,  1.7413], grad_fn=<CatBackward0>)\n",
      "torch.Size([50, 1])\n",
      "torch.Size([50, 1])\n",
      "27 tensor(0.1578, grad_fn=<MseLossBackward0>) tensor([ 0.5534, -0.3889]) tensor([-1.6073,  1.7473], grad_fn=<CatBackward0>)\n",
      "torch.Size([50, 1])\n",
      "torch.Size([50, 1])\n",
      "27 tensor(0.1715, grad_fn=<MseLossBackward0>) tensor([ 0.6991, -0.2908]) tensor([-1.6129,  1.7512], grad_fn=<CatBackward0>)\n",
      "torch.Size([50, 1])\n",
      "torch.Size([50, 1])\n",
      "28 tensor(0.2030, grad_fn=<MseLossBackward0>) tensor([ 0.7742, -0.4541]) tensor([-1.6199,  1.7541], grad_fn=<CatBackward0>)\n",
      "torch.Size([50, 1])\n",
      "torch.Size([50, 1])\n",
      "28 tensor(0.1608, grad_fn=<MseLossBackward0>) tensor([ 0.4987, -0.5626]) tensor([-1.6276,  1.7587], grad_fn=<CatBackward0>)\n",
      "torch.Size([50, 1])\n",
      "torch.Size([50, 1])\n",
      "28 tensor(0.1379, grad_fn=<MseLossBackward0>) tensor([ 0.5180, -0.3625]) tensor([-1.6326,  1.7643], grad_fn=<CatBackward0>)\n",
      "torch.Size([50, 1])\n",
      "torch.Size([50, 1])\n",
      "28 tensor(0.1500, grad_fn=<MseLossBackward0>) tensor([ 0.6545, -0.2708]) tensor([-1.6378,  1.7679], grad_fn=<CatBackward0>)\n",
      "torch.Size([50, 1])\n",
      "torch.Size([50, 1])\n",
      "29 tensor(0.1774, grad_fn=<MseLossBackward0>) tensor([ 0.7245, -0.4235]) tensor([-1.6443,  1.7706], grad_fn=<CatBackward0>)\n",
      "torch.Size([50, 1])\n",
      "torch.Size([50, 1])\n",
      "29 tensor(0.1404, grad_fn=<MseLossBackward0>) tensor([ 0.4667, -0.5247]) tensor([-1.6516,  1.7749], grad_fn=<CatBackward0>)\n",
      "torch.Size([50, 1])\n",
      "torch.Size([50, 1])\n",
      "29 tensor(0.1205, grad_fn=<MseLossBackward0>) tensor([ 0.4848, -0.3380]) tensor([-1.6562,  1.7801], grad_fn=<CatBackward0>)\n",
      "torch.Size([50, 1])\n",
      "torch.Size([50, 1])\n",
      "29 tensor(0.1311, grad_fn=<MseLossBackward0>) tensor([ 0.6126, -0.2522]) tensor([-1.6611,  1.7835], grad_fn=<CatBackward0>)\n",
      "torch.Size([50, 1])\n",
      "torch.Size([50, 1])\n",
      "30 tensor(0.1551, grad_fn=<MseLossBackward0>) tensor([ 0.6779, -0.3951]) tensor([-1.6672,  1.7860], grad_fn=<CatBackward0>)\n",
      "torch.Size([50, 1])\n",
      "torch.Size([50, 1])\n",
      "30 tensor(0.1226, grad_fn=<MseLossBackward0>) tensor([ 0.4368, -0.4894]) tensor([-1.6740,  1.7900], grad_fn=<CatBackward0>)\n",
      "torch.Size([50, 1])\n",
      "torch.Size([50, 1])\n",
      "30 tensor(0.1053, grad_fn=<MseLossBackward0>) tensor([ 0.4537, -0.3151]) tensor([-1.6784,  1.7949], grad_fn=<CatBackward0>)\n",
      "torch.Size([50, 1])\n",
      "torch.Size([50, 1])\n",
      "30 tensor(0.1147, grad_fn=<MseLossBackward0>) tensor([ 0.5735, -0.2349]) tensor([-1.6829,  1.7980], grad_fn=<CatBackward0>)\n",
      "torch.Size([50, 1])\n",
      "torch.Size([50, 1])\n",
      "31 tensor(0.1355, grad_fn=<MseLossBackward0>) tensor([ 0.6343, -0.3685]) tensor([-1.6886,  1.8004], grad_fn=<CatBackward0>)\n",
      "torch.Size([50, 1])\n",
      "torch.Size([50, 1])\n",
      "31 tensor(0.1071, grad_fn=<MseLossBackward0>) tensor([ 0.4088, -0.4565]) tensor([-1.6950,  1.8040], grad_fn=<CatBackward0>)\n",
      "torch.Size([50, 1])\n",
      "torch.Size([50, 1])\n",
      "31 tensor(0.0920, grad_fn=<MseLossBackward0>) tensor([ 0.4247, -0.2938]) tensor([-1.6991,  1.8086], grad_fn=<CatBackward0>)\n",
      "torch.Size([50, 1])\n",
      "torch.Size([50, 1])\n",
      "31 tensor(0.1003, grad_fn=<MseLossBackward0>) tensor([ 0.5368, -0.2188]) tensor([-1.7033,  1.8115], grad_fn=<CatBackward0>)\n",
      "torch.Size([50, 1])\n",
      "torch.Size([50, 1])\n",
      "32 tensor(0.1185, grad_fn=<MseLossBackward0>) tensor([ 0.5935, -0.3437]) tensor([-1.7087,  1.8137], grad_fn=<CatBackward0>)\n",
      "torch.Size([50, 1])\n",
      "torch.Size([50, 1])\n",
      "32 tensor(0.0935, grad_fn=<MseLossBackward0>) tensor([ 0.3825, -0.4258]) tensor([-1.7146,  1.8172], grad_fn=<CatBackward0>)\n",
      "torch.Size([50, 1])\n",
      "torch.Size([50, 1])\n",
      "32 tensor(0.0804, grad_fn=<MseLossBackward0>) tensor([ 0.3975, -0.2739]) tensor([-1.7184,  1.8214], grad_fn=<CatBackward0>)\n",
      "torch.Size([50, 1])\n",
      "torch.Size([50, 1])\n",
      "32 tensor(0.0877, grad_fn=<MseLossBackward0>) tensor([ 0.5025, -0.2038]) tensor([-1.7224,  1.8242], grad_fn=<CatBackward0>)\n",
      "torch.Size([50, 1])\n",
      "torch.Size([50, 1])\n",
      "33 tensor(0.1035, grad_fn=<MseLossBackward0>) tensor([ 0.5553, -0.3207]) tensor([-1.7274,  1.8262], grad_fn=<CatBackward0>)\n",
      "torch.Size([50, 1])\n",
      "torch.Size([50, 1])\n",
      "33 tensor(0.0817, grad_fn=<MseLossBackward0>) tensor([ 0.3580, -0.3972]) tensor([-1.7330,  1.8294], grad_fn=<CatBackward0>)\n",
      "torch.Size([50, 1])\n",
      "torch.Size([50, 1])\n",
      "33 tensor(0.0703, grad_fn=<MseLossBackward0>) tensor([ 0.3720, -0.2554]) tensor([-1.7366,  1.8334], grad_fn=<CatBackward0>)\n",
      "torch.Size([50, 1])\n",
      "torch.Size([50, 1])\n"
     ]
    },
    {
     "name": "stdout",
     "output_type": "stream",
     "text": [
      "33 tensor(0.0767, grad_fn=<MseLossBackward0>) tensor([ 0.4703, -0.1898]) tensor([-1.7403,  1.8359], grad_fn=<CatBackward0>)\n",
      "torch.Size([50, 1])\n",
      "torch.Size([50, 1])\n",
      "34 tensor(0.0905, grad_fn=<MseLossBackward0>) tensor([ 0.5196, -0.2991]) tensor([-1.7450,  1.8378], grad_fn=<CatBackward0>)\n",
      "torch.Size([50, 1])\n",
      "torch.Size([50, 1])\n",
      "34 tensor(0.0714, grad_fn=<MseLossBackward0>) tensor([ 0.3350, -0.3705]) tensor([-1.7502,  1.8408], grad_fn=<CatBackward0>)\n",
      "torch.Size([50, 1])\n",
      "torch.Size([50, 1])\n",
      "34 tensor(0.0614, grad_fn=<MseLossBackward0>) tensor([ 0.3481, -0.2382]) tensor([-1.7535,  1.8445], grad_fn=<CatBackward0>)\n",
      "torch.Size([50, 1])\n",
      "torch.Size([50, 1])\n",
      "34 tensor(0.0670, grad_fn=<MseLossBackward0>) tensor([ 0.4402, -0.1768]) tensor([-1.7570,  1.8469], grad_fn=<CatBackward0>)\n",
      "torch.Size([50, 1])\n",
      "torch.Size([50, 1])\n",
      "35 tensor(0.0791, grad_fn=<MseLossBackward0>) tensor([ 0.4862, -0.2791]) tensor([-1.7614,  1.8487], grad_fn=<CatBackward0>)\n",
      "torch.Size([50, 1])\n",
      "torch.Size([50, 1])\n",
      "35 tensor(0.0623, grad_fn=<MseLossBackward0>) tensor([ 0.3135, -0.3456]) tensor([-1.7663,  1.8515], grad_fn=<CatBackward0>)\n",
      "torch.Size([50, 1])\n",
      "torch.Size([50, 1])\n",
      "35 tensor(0.0537, grad_fn=<MseLossBackward0>) tensor([ 0.3258, -0.2221]) tensor([-1.7694,  1.8549], grad_fn=<CatBackward0>)\n",
      "torch.Size([50, 1])\n",
      "torch.Size([50, 1])\n",
      "35 tensor(0.0586, grad_fn=<MseLossBackward0>) tensor([ 0.4120, -0.1648]) tensor([-1.7727,  1.8572], grad_fn=<CatBackward0>)\n",
      "torch.Size([50, 1])\n",
      "torch.Size([50, 1])\n",
      "36 tensor(0.0691, grad_fn=<MseLossBackward0>) tensor([ 0.4549, -0.2603]) tensor([-1.7768,  1.8588], grad_fn=<CatBackward0>)\n",
      "torch.Size([50, 1])\n",
      "torch.Size([50, 1])\n",
      "36 tensor(0.0544, grad_fn=<MseLossBackward0>) tensor([ 0.2933, -0.3225]) tensor([-1.7813,  1.8614], grad_fn=<CatBackward0>)\n",
      "torch.Size([50, 1])\n",
      "torch.Size([50, 1])\n",
      "36 tensor(0.0469, grad_fn=<MseLossBackward0>) tensor([ 0.3049, -0.2072]) tensor([-1.7843,  1.8646], grad_fn=<CatBackward0>)\n",
      "torch.Size([50, 1])\n",
      "torch.Size([50, 1])\n",
      "36 tensor(0.0513, grad_fn=<MseLossBackward0>) tensor([ 0.3856, -0.1535]) tensor([-1.7873,  1.8667], grad_fn=<CatBackward0>)\n",
      "torch.Size([50, 1])\n",
      "torch.Size([50, 1])\n",
      "37 tensor(0.0604, grad_fn=<MseLossBackward0>) tensor([ 0.4256, -0.2429]) tensor([-1.7912,  1.8682], grad_fn=<CatBackward0>)\n",
      "torch.Size([50, 1])\n",
      "torch.Size([50, 1])\n",
      "37 tensor(0.0476, grad_fn=<MseLossBackward0>) tensor([ 0.2745, -0.3009]) tensor([-1.7954,  1.8707], grad_fn=<CatBackward0>)\n",
      "torch.Size([50, 1])\n",
      "torch.Size([50, 1])\n",
      "37 tensor(0.0410, grad_fn=<MseLossBackward0>) tensor([ 0.2853, -0.1932]) tensor([-1.7982,  1.8737], grad_fn=<CatBackward0>)\n",
      "torch.Size([50, 1])\n",
      "torch.Size([50, 1])\n",
      "37 tensor(0.0448, grad_fn=<MseLossBackward0>) tensor([ 0.3609, -0.1430]) tensor([-1.8010,  1.8756], grad_fn=<CatBackward0>)\n",
      "torch.Size([50, 1])\n",
      "torch.Size([50, 1])\n",
      "38 tensor(0.0528, grad_fn=<MseLossBackward0>) tensor([ 0.3982, -0.2266]) tensor([-1.8046,  1.8770], grad_fn=<CatBackward0>)\n",
      "torch.Size([50, 1])\n",
      "torch.Size([50, 1])\n",
      "38 tensor(0.0415, grad_fn=<MseLossBackward0>) tensor([ 0.2568, -0.2807]) tensor([-1.8086,  1.8793], grad_fn=<CatBackward0>)\n",
      "torch.Size([50, 1])\n",
      "torch.Size([50, 1])\n",
      "38 tensor(0.0358, grad_fn=<MseLossBackward0>) tensor([ 0.2670, -0.1802]) tensor([-1.8112,  1.8821], grad_fn=<CatBackward0>)\n",
      "torch.Size([50, 1])\n",
      "torch.Size([50, 1])\n",
      "38 tensor(0.0392, grad_fn=<MseLossBackward0>) tensor([ 0.3378, -0.1333]) tensor([-1.8139,  1.8839], grad_fn=<CatBackward0>)\n",
      "torch.Size([50, 1])\n",
      "torch.Size([50, 1])\n",
      "39 tensor(0.0462, grad_fn=<MseLossBackward0>) tensor([ 0.3725, -0.2114]) tensor([-1.8172,  1.8852], grad_fn=<CatBackward0>)\n",
      "torch.Size([50, 1])\n",
      "torch.Size([50, 1])\n",
      "39 tensor(0.0363, grad_fn=<MseLossBackward0>) tensor([ 0.2403, -0.2619]) tensor([-1.8210,  1.8874], grad_fn=<CatBackward0>)\n",
      "torch.Size([50, 1])\n",
      "torch.Size([50, 1])\n",
      "39 tensor(0.0313, grad_fn=<MseLossBackward0>) tensor([ 0.2498, -0.1681]) tensor([-1.8234,  1.8900], grad_fn=<CatBackward0>)\n",
      "torch.Size([50, 1])\n",
      "torch.Size([50, 1])\n",
      "39 tensor(0.0343, grad_fn=<MseLossBackward0>) tensor([ 0.3161, -0.1242]) tensor([-1.8259,  1.8917], grad_fn=<CatBackward0>)\n",
      "torch.Size([50, 1])\n",
      "torch.Size([50, 1])\n",
      "40 tensor(0.0403, grad_fn=<MseLossBackward0>) tensor([ 0.3485, -0.1972]) tensor([-1.8290,  1.8929], grad_fn=<CatBackward0>)\n",
      "torch.Size([50, 1])\n",
      "torch.Size([50, 1])\n",
      "40 tensor(0.0317, grad_fn=<MseLossBackward0>) tensor([ 0.2249, -0.2444]) tensor([-1.8325,  1.8949], grad_fn=<CatBackward0>)\n",
      "torch.Size([50, 1])\n",
      "torch.Size([50, 1])\n",
      "40 tensor(0.0274, grad_fn=<MseLossBackward0>) tensor([ 0.2338, -0.1568]) tensor([-1.8348,  1.8973], grad_fn=<CatBackward0>)\n",
      "torch.Size([50, 1])\n",
      "torch.Size([50, 1])\n",
      "40 tensor(0.0300, grad_fn=<MseLossBackward0>) tensor([ 0.2958, -0.1157]) tensor([-1.8371,  1.8989], grad_fn=<CatBackward0>)\n",
      "torch.Size([50, 1])\n",
      "torch.Size([50, 1])\n",
      "41 tensor(0.0353, grad_fn=<MseLossBackward0>) tensor([ 0.3261, -0.1840]) tensor([-1.8401,  1.9000], grad_fn=<CatBackward0>)\n",
      "torch.Size([50, 1])\n",
      "torch.Size([50, 1])\n",
      "41 tensor(0.0277, grad_fn=<MseLossBackward0>) tensor([ 0.2104, -0.2280]) tensor([-1.8433,  1.9019], grad_fn=<CatBackward0>)\n",
      "torch.Size([50, 1])\n",
      "torch.Size([50, 1])\n",
      "41 tensor(0.0239, grad_fn=<MseLossBackward0>) tensor([ 0.2187, -0.1463]) tensor([-1.8454,  1.9042], grad_fn=<CatBackward0>)\n",
      "torch.Size([50, 1])\n",
      "torch.Size([50, 1])\n",
      "41 tensor(0.0262, grad_fn=<MseLossBackward0>) tensor([ 0.2769, -0.1079]) tensor([-1.8476,  1.9056], grad_fn=<CatBackward0>)\n",
      "torch.Size([50, 1])\n",
      "torch.Size([50, 1])\n",
      "42 tensor(0.0308, grad_fn=<MseLossBackward0>) tensor([ 0.3051, -0.1717]) tensor([-1.8504,  1.9067], grad_fn=<CatBackward0>)\n",
      "torch.Size([50, 1])\n",
      "torch.Size([50, 1])\n",
      "42 tensor(0.0242, grad_fn=<MseLossBackward0>) tensor([ 0.1969, -0.2128]) tensor([-1.8534,  1.9084], grad_fn=<CatBackward0>)\n",
      "torch.Size([50, 1])\n",
      "torch.Size([50, 1])\n",
      "42 tensor(0.0209, grad_fn=<MseLossBackward0>) tensor([ 0.2047, -0.1365]) tensor([-1.8554,  1.9105], grad_fn=<CatBackward0>)\n",
      "torch.Size([50, 1])\n",
      "torch.Size([50, 1])\n",
      "42 tensor(0.0229, grad_fn=<MseLossBackward0>) tensor([ 0.2591, -0.1005]) tensor([-1.8575,  1.9119], grad_fn=<CatBackward0>)\n",
      "torch.Size([50, 1])\n",
      "torch.Size([50, 1])\n",
      "43 tensor(0.0269, grad_fn=<MseLossBackward0>) tensor([ 0.2854, -0.1602]) tensor([-1.8600,  1.9129], grad_fn=<CatBackward0>)\n",
      "torch.Size([50, 1])\n",
      "torch.Size([50, 1])\n",
      "43 tensor(0.0211, grad_fn=<MseLossBackward0>) tensor([ 0.1842, -0.1986]) tensor([-1.8629,  1.9145], grad_fn=<CatBackward0>)\n",
      "torch.Size([50, 1])\n",
      "torch.Size([50, 1])\n",
      "43 tensor(0.0183, grad_fn=<MseLossBackward0>) tensor([ 0.1915, -0.1273]) tensor([-1.8647,  1.9165], grad_fn=<CatBackward0>)\n",
      "torch.Size([50, 1])\n",
      "torch.Size([50, 1])\n",
      "43 tensor(0.0200, grad_fn=<MseLossBackward0>) tensor([ 0.2424, -0.0937]) tensor([-1.8667,  1.9178], grad_fn=<CatBackward0>)\n",
      "torch.Size([50, 1])\n",
      "torch.Size([50, 1])\n",
      "44 tensor(0.0236, grad_fn=<MseLossBackward0>) tensor([ 0.2670, -0.1495]) tensor([-1.8691,  1.9187], grad_fn=<CatBackward0>)\n",
      "torch.Size([50, 1])\n",
      "torch.Size([50, 1])\n",
      "44 tensor(0.0185, grad_fn=<MseLossBackward0>) tensor([ 0.1724, -0.1853]) tensor([-1.8717,  1.9202], grad_fn=<CatBackward0>)\n",
      "torch.Size([50, 1])\n",
      "torch.Size([50, 1])\n",
      "44 tensor(0.0160, grad_fn=<MseLossBackward0>) tensor([ 0.1792, -0.1188]) tensor([-1.8735,  1.9221], grad_fn=<CatBackward0>)\n",
      "torch.Size([50, 1])\n",
      "torch.Size([50, 1])\n",
      "44 tensor(0.0175, grad_fn=<MseLossBackward0>) tensor([ 0.2269, -0.0874]) tensor([-1.8753,  1.9233], grad_fn=<CatBackward0>)\n",
      "torch.Size([50, 1])\n",
      "torch.Size([50, 1])\n",
      "45 tensor(0.0206, grad_fn=<MseLossBackward0>) tensor([ 0.2498, -0.1395]) tensor([-1.8775,  1.9241], grad_fn=<CatBackward0>)\n",
      "torch.Size([50, 1])\n",
      "torch.Size([50, 1])\n",
      "45 tensor(0.0161, grad_fn=<MseLossBackward0>) tensor([ 0.1613, -0.1729]) tensor([-1.8800,  1.9255], grad_fn=<CatBackward0>)\n",
      "torch.Size([50, 1])\n",
      "torch.Size([50, 1])\n",
      "45 tensor(0.0140, grad_fn=<MseLossBackward0>) tensor([ 0.1677, -0.1108]) tensor([-1.8816,  1.9273], grad_fn=<CatBackward0>)\n",
      "torch.Size([50, 1])\n",
      "torch.Size([50, 1])\n",
      "45 tensor(0.0153, grad_fn=<MseLossBackward0>) tensor([ 0.2123, -0.0814]) tensor([-1.8833,  1.9284], grad_fn=<CatBackward0>)\n",
      "torch.Size([50, 1])\n",
      "torch.Size([50, 1])\n",
      "46 tensor(0.0180, grad_fn=<MseLossBackward0>) tensor([ 0.2337, -0.1302]) tensor([-1.8854,  1.9292], grad_fn=<CatBackward0>)\n",
      "torch.Size([50, 1])\n",
      "torch.Size([50, 1])\n",
      "46 tensor(0.0141, grad_fn=<MseLossBackward0>) tensor([ 0.1509, -0.1614]) tensor([-1.8878,  1.9305], grad_fn=<CatBackward0>)\n",
      "torch.Size([50, 1])\n",
      "torch.Size([50, 1])\n",
      "46 tensor(0.0122, grad_fn=<MseLossBackward0>) tensor([ 0.1569, -0.1034]) tensor([-1.8893,  1.9321], grad_fn=<CatBackward0>)\n",
      "torch.Size([50, 1])\n",
      "torch.Size([50, 1])\n",
      "46 tensor(0.0134, grad_fn=<MseLossBackward0>) tensor([ 0.1987, -0.0759]) tensor([-1.8909,  1.9331], grad_fn=<CatBackward0>)\n",
      "torch.Size([50, 1])\n",
      "torch.Size([50, 1])\n",
      "47 tensor(0.0157, grad_fn=<MseLossBackward0>) tensor([ 0.2186, -0.1215]) tensor([-1.8928,  1.9339], grad_fn=<CatBackward0>)\n",
      "torch.Size([50, 1])\n",
      "torch.Size([50, 1])\n",
      "47 tensor(0.0123, grad_fn=<MseLossBackward0>) tensor([ 0.1412, -0.1506]) tensor([-1.8950,  1.9351], grad_fn=<CatBackward0>)\n",
      "torch.Size([50, 1])\n",
      "torch.Size([50, 1])\n",
      "47 tensor(0.0107, grad_fn=<MseLossBackward0>) tensor([ 0.1468, -0.0965]) tensor([-1.8964,  1.9366], grad_fn=<CatBackward0>)\n",
      "torch.Size([50, 1])\n",
      "torch.Size([50, 1])\n",
      "47 tensor(0.0117, grad_fn=<MseLossBackward0>) tensor([ 0.1859, -0.0708]) tensor([-1.8979,  1.9376], grad_fn=<CatBackward0>)\n",
      "torch.Size([50, 1])\n",
      "torch.Size([50, 1])\n",
      "48 tensor(0.0137, grad_fn=<MseLossBackward0>) tensor([ 0.2045, -0.1133]) tensor([-1.8998,  1.9383], grad_fn=<CatBackward0>)\n",
      "torch.Size([50, 1])\n",
      "torch.Size([50, 1])\n",
      "48 tensor(0.0108, grad_fn=<MseLossBackward0>) tensor([ 0.1321, -0.1406]) tensor([-1.9018,  1.9394], grad_fn=<CatBackward0>)\n",
      "torch.Size([50, 1])\n",
      "torch.Size([50, 1])\n",
      "48 tensor(0.0093, grad_fn=<MseLossBackward0>) tensor([ 0.1373, -0.0901]) tensor([-1.9031,  1.9408], grad_fn=<CatBackward0>)\n",
      "torch.Size([50, 1])\n",
      "torch.Size([50, 1])\n",
      "48 tensor(0.0102, grad_fn=<MseLossBackward0>) tensor([ 0.1739, -0.0660]) tensor([-1.9045,  1.9417], grad_fn=<CatBackward0>)\n",
      "torch.Size([50, 1])\n",
      "torch.Size([50, 1])\n",
      "49 tensor(0.0120, grad_fn=<MseLossBackward0>) tensor([ 0.1913, -0.1058]) tensor([-1.9062,  1.9424], grad_fn=<CatBackward0>)\n",
      "torch.Size([50, 1])\n",
      "torch.Size([50, 1])\n",
      "49 tensor(0.0094, grad_fn=<MseLossBackward0>) tensor([ 0.1236, -0.1312]) tensor([-1.9082,  1.9434], grad_fn=<CatBackward0>)\n",
      "torch.Size([50, 1])\n",
      "torch.Size([50, 1])\n",
      "49 tensor(0.0082, grad_fn=<MseLossBackward0>) tensor([ 0.1285, -0.0841]) tensor([-1.9094,  1.9447], grad_fn=<CatBackward0>)\n",
      "torch.Size([50, 1])\n",
      "torch.Size([50, 1])\n",
      "49 tensor(0.0090, grad_fn=<MseLossBackward0>) tensor([ 0.1627, -0.0615]) tensor([-1.9107,  1.9456], grad_fn=<CatBackward0>)\n",
      "torch.Size([50, 1])\n",
      "torch.Size([50, 1])\n",
      "50 tensor(0.0105, grad_fn=<MseLossBackward0>) tensor([ 0.1790, -0.0987]) tensor([-1.9123,  1.9462], grad_fn=<CatBackward0>)\n",
      "torch.Size([50, 1])\n",
      "torch.Size([50, 1])\n",
      "50 tensor(0.0082, grad_fn=<MseLossBackward0>) tensor([ 0.1156, -0.1225]) tensor([-1.9141,  1.9472], grad_fn=<CatBackward0>)\n",
      "torch.Size([50, 1])\n",
      "torch.Size([50, 1])\n",
      "50 tensor(0.0071, grad_fn=<MseLossBackward0>) tensor([ 0.1202, -0.0785]) tensor([-1.9153,  1.9484], grad_fn=<CatBackward0>)\n",
      "torch.Size([50, 1])\n",
      "torch.Size([50, 1])\n",
      "50 tensor(0.0078, grad_fn=<MseLossBackward0>) tensor([ 0.1523, -0.0574]) tensor([-1.9165,  1.9492], grad_fn=<CatBackward0>)\n",
      "torch.Size([50, 1])\n",
      "torch.Size([50, 1])\n",
      "51 tensor(0.0092, grad_fn=<MseLossBackward0>) tensor([ 0.1674, -0.0921]) tensor([-1.9180,  1.9498], grad_fn=<CatBackward0>)\n",
      "torch.Size([50, 1])\n",
      "torch.Size([50, 1])\n",
      "51 tensor(0.0072, grad_fn=<MseLossBackward0>) tensor([ 0.1082, -0.1143]) tensor([-1.9197,  1.9507], grad_fn=<CatBackward0>)\n",
      "torch.Size([50, 1])\n",
      "torch.Size([50, 1])\n"
     ]
    },
    {
     "name": "stdout",
     "output_type": "stream",
     "text": [
      "51 tensor(0.0062, grad_fn=<MseLossBackward0>) tensor([ 0.1124, -0.0732]) tensor([-1.9207,  1.9518], grad_fn=<CatBackward0>)\n",
      "torch.Size([50, 1])\n",
      "torch.Size([50, 1])\n",
      "51 tensor(0.0068, grad_fn=<MseLossBackward0>) tensor([ 0.1425, -0.0535]) tensor([-1.9219,  1.9526], grad_fn=<CatBackward0>)\n",
      "torch.Size([50, 1])\n",
      "torch.Size([50, 1])\n",
      "52 tensor(0.0080, grad_fn=<MseLossBackward0>) tensor([ 0.1566, -0.0859]) tensor([-1.9233,  1.9531], grad_fn=<CatBackward0>)\n",
      "torch.Size([50, 1])\n",
      "torch.Size([50, 1])\n",
      "52 tensor(0.0063, grad_fn=<MseLossBackward0>) tensor([ 0.1012, -0.1067]) tensor([-1.9248,  1.9540], grad_fn=<CatBackward0>)\n",
      "torch.Size([50, 1])\n",
      "torch.Size([50, 1])\n",
      "52 tensor(0.0054, grad_fn=<MseLossBackward0>) tensor([ 0.1052, -0.0684]) tensor([-1.9259,  1.9550], grad_fn=<CatBackward0>)\n",
      "torch.Size([50, 1])\n",
      "torch.Size([50, 1])\n",
      "52 tensor(0.0060, grad_fn=<MseLossBackward0>) tensor([ 0.1333, -0.0499]) tensor([-1.9269,  1.9557], grad_fn=<CatBackward0>)\n",
      "torch.Size([50, 1])\n",
      "torch.Size([50, 1])\n",
      "53 tensor(0.0070, grad_fn=<MseLossBackward0>) tensor([ 0.1465, -0.0802]) tensor([-1.9282,  1.9562], grad_fn=<CatBackward0>)\n",
      "torch.Size([50, 1])\n",
      "torch.Size([50, 1])\n",
      "53 tensor(0.0055, grad_fn=<MseLossBackward0>) tensor([ 0.0947, -0.0996]) tensor([-1.9297,  1.9570], grad_fn=<CatBackward0>)\n",
      "torch.Size([50, 1])\n",
      "torch.Size([50, 1])\n",
      "53 tensor(0.0048, grad_fn=<MseLossBackward0>) tensor([ 0.0984, -0.0638]) tensor([-1.9307,  1.9580], grad_fn=<CatBackward0>)\n",
      "torch.Size([50, 1])\n",
      "torch.Size([50, 1])\n",
      "53 tensor(0.0052, grad_fn=<MseLossBackward0>) tensor([ 0.1247, -0.0465]) tensor([-1.9316,  1.9586], grad_fn=<CatBackward0>)\n",
      "torch.Size([50, 1])\n",
      "torch.Size([50, 1])\n",
      "54 tensor(0.0061, grad_fn=<MseLossBackward0>) tensor([ 0.1370, -0.0748]) tensor([-1.9329,  1.9591], grad_fn=<CatBackward0>)\n",
      "torch.Size([50, 1])\n",
      "torch.Size([50, 1])\n",
      "54 tensor(0.0048, grad_fn=<MseLossBackward0>) tensor([ 0.0886, -0.0930]) tensor([-1.9343,  1.9599], grad_fn=<CatBackward0>)\n",
      "torch.Size([50, 1])\n",
      "torch.Size([50, 1])\n",
      "54 tensor(0.0042, grad_fn=<MseLossBackward0>) tensor([ 0.0921, -0.0596]) tensor([-1.9351,  1.9608], grad_fn=<CatBackward0>)\n",
      "torch.Size([50, 1])\n",
      "torch.Size([50, 1])\n",
      "54 tensor(0.0046, grad_fn=<MseLossBackward0>) tensor([ 0.1167, -0.0434]) tensor([-1.9361,  1.9614], grad_fn=<CatBackward0>)\n",
      "torch.Size([50, 1])\n",
      "torch.Size([50, 1])\n",
      "55 tensor(0.0054, grad_fn=<MseLossBackward0>) tensor([ 0.1282, -0.0698]) tensor([-1.9372,  1.9618], grad_fn=<CatBackward0>)\n",
      "torch.Size([50, 1])\n",
      "torch.Size([50, 1])\n",
      "55 tensor(0.0042, grad_fn=<MseLossBackward0>) tensor([ 0.0829, -0.0868]) tensor([-1.9385,  1.9625], grad_fn=<CatBackward0>)\n",
      "torch.Size([50, 1])\n",
      "torch.Size([50, 1])\n",
      "55 tensor(0.0036, grad_fn=<MseLossBackward0>) tensor([ 0.0861, -0.0556]) tensor([-1.9393,  1.9634], grad_fn=<CatBackward0>)\n",
      "torch.Size([50, 1])\n",
      "torch.Size([50, 1])\n",
      "55 tensor(0.0040, grad_fn=<MseLossBackward0>) tensor([ 0.1092, -0.0405]) tensor([-1.9402,  1.9639], grad_fn=<CatBackward0>)\n",
      "torch.Size([50, 1])\n",
      "torch.Size([50, 1])\n",
      "56 tensor(0.0047, grad_fn=<MseLossBackward0>) tensor([ 0.1199, -0.0651]) tensor([-1.9413,  1.9643], grad_fn=<CatBackward0>)\n",
      "torch.Size([50, 1])\n",
      "torch.Size([50, 1])\n",
      "56 tensor(0.0037, grad_fn=<MseLossBackward0>) tensor([ 0.0775, -0.0811]) tensor([-1.9425,  1.9650], grad_fn=<CatBackward0>)\n",
      "torch.Size([50, 1])\n",
      "torch.Size([50, 1])\n",
      "56 tensor(0.0032, grad_fn=<MseLossBackward0>) tensor([ 0.0806, -0.0519]) tensor([-1.9433,  1.9658], grad_fn=<CatBackward0>)\n",
      "torch.Size([50, 1])\n",
      "torch.Size([50, 1])\n",
      "56 tensor(0.0035, grad_fn=<MseLossBackward0>) tensor([ 0.1021, -0.0377]) tensor([-1.9441,  1.9663], grad_fn=<CatBackward0>)\n",
      "torch.Size([50, 1])\n",
      "torch.Size([50, 1])\n",
      "57 tensor(0.0041, grad_fn=<MseLossBackward0>) tensor([ 0.1122, -0.0608]) tensor([-1.9451,  1.9667], grad_fn=<CatBackward0>)\n",
      "torch.Size([50, 1])\n",
      "torch.Size([50, 1])\n",
      "57 tensor(0.0032, grad_fn=<MseLossBackward0>) tensor([ 0.0725, -0.0757]) tensor([-1.9462,  1.9673], grad_fn=<CatBackward0>)\n",
      "torch.Size([50, 1])\n",
      "torch.Size([50, 1])\n",
      "57 tensor(0.0028, grad_fn=<MseLossBackward0>) tensor([ 0.0754, -0.0485]) tensor([-1.9469,  1.9681], grad_fn=<CatBackward0>)\n",
      "torch.Size([50, 1])\n",
      "torch.Size([50, 1])\n",
      "57 tensor(0.0031, grad_fn=<MseLossBackward0>) tensor([ 0.0956, -0.0352]) tensor([-1.9477,  1.9686], grad_fn=<CatBackward0>)\n",
      "torch.Size([50, 1])\n",
      "torch.Size([50, 1])\n",
      "58 tensor(0.0036, grad_fn=<MseLossBackward0>) tensor([ 0.1049, -0.0567]) tensor([-1.9487,  1.9689], grad_fn=<CatBackward0>)\n",
      "torch.Size([50, 1])\n",
      "torch.Size([50, 1])\n",
      "58 tensor(0.0028, grad_fn=<MseLossBackward0>) tensor([ 0.0679, -0.0707]) tensor([-1.9497,  1.9695], grad_fn=<CatBackward0>)\n",
      "torch.Size([50, 1])\n",
      "torch.Size([50, 1])\n",
      "58 tensor(0.0024, grad_fn=<MseLossBackward0>) tensor([ 0.0705, -0.0453]) tensor([-1.9504,  1.9702], grad_fn=<CatBackward0>)\n",
      "torch.Size([50, 1])\n",
      "torch.Size([50, 1])\n",
      "58 tensor(0.0027, grad_fn=<MseLossBackward0>) tensor([ 0.0894, -0.0328]) tensor([-1.9511,  1.9706], grad_fn=<CatBackward0>)\n",
      "torch.Size([50, 1])\n",
      "torch.Size([50, 1])\n",
      "59 tensor(0.0031, grad_fn=<MseLossBackward0>) tensor([ 0.0982, -0.0529]) tensor([-1.9520,  1.9710], grad_fn=<CatBackward0>)\n",
      "torch.Size([50, 1])\n",
      "torch.Size([50, 1])\n",
      "59 tensor(0.0024, grad_fn=<MseLossBackward0>) tensor([ 0.0635, -0.0660]) tensor([-1.9530,  1.9715], grad_fn=<CatBackward0>)\n",
      "torch.Size([50, 1])\n",
      "torch.Size([50, 1])\n",
      "59 tensor(0.0021, grad_fn=<MseLossBackward0>) tensor([ 0.0659, -0.0423]) tensor([-1.9536,  1.9722], grad_fn=<CatBackward0>)\n",
      "torch.Size([50, 1])\n",
      "torch.Size([50, 1])\n",
      "59 tensor(0.0023, grad_fn=<MseLossBackward0>) tensor([ 0.0836, -0.0306]) tensor([-1.9543,  1.9726], grad_fn=<CatBackward0>)\n",
      "torch.Size([50, 1])\n",
      "torch.Size([50, 1])\n",
      "60 tensor(0.0027, grad_fn=<MseLossBackward0>) tensor([ 0.0918, -0.0494]) tensor([-1.9551,  1.9729], grad_fn=<CatBackward0>)\n",
      "torch.Size([50, 1])\n",
      "torch.Size([50, 1])\n",
      "60 tensor(0.0021, grad_fn=<MseLossBackward0>) tensor([ 0.0594, -0.0616]) tensor([-1.9560,  1.9734], grad_fn=<CatBackward0>)\n",
      "torch.Size([50, 1])\n",
      "torch.Size([50, 1])\n",
      "60 tensor(0.0019, grad_fn=<MseLossBackward0>) tensor([ 0.0617, -0.0395]) tensor([-1.9566,  1.9740], grad_fn=<CatBackward0>)\n",
      "torch.Size([50, 1])\n",
      "torch.Size([50, 1])\n",
      "60 tensor(0.0020, grad_fn=<MseLossBackward0>) tensor([ 0.0782, -0.0286]) tensor([-1.9572,  1.9744], grad_fn=<CatBackward0>)\n",
      "torch.Size([50, 1])\n",
      "torch.Size([50, 1])\n",
      "61 tensor(0.0024, grad_fn=<MseLossBackward0>) tensor([ 0.0859, -0.0461]) tensor([-1.9580,  1.9747], grad_fn=<CatBackward0>)\n",
      "torch.Size([50, 1])\n",
      "torch.Size([50, 1])\n",
      "61 tensor(0.0019, grad_fn=<MseLossBackward0>) tensor([ 0.0556, -0.0575]) tensor([-1.9589,  1.9751], grad_fn=<CatBackward0>)\n",
      "torch.Size([50, 1])\n",
      "torch.Size([50, 1])\n",
      "61 tensor(0.0016, grad_fn=<MseLossBackward0>) tensor([ 0.0577, -0.0369]) tensor([-1.9594,  1.9757], grad_fn=<CatBackward0>)\n",
      "torch.Size([50, 1])\n",
      "torch.Size([50, 1])\n",
      "61 tensor(0.0018, grad_fn=<MseLossBackward0>) tensor([ 0.0732, -0.0267]) tensor([-1.9600,  1.9761], grad_fn=<CatBackward0>)\n",
      "torch.Size([50, 1])\n",
      "torch.Size([50, 1])\n",
      "62 tensor(0.0021, grad_fn=<MseLossBackward0>) tensor([ 0.0803, -0.0430]) tensor([-1.9607,  1.9763], grad_fn=<CatBackward0>)\n",
      "torch.Size([50, 1])\n",
      "torch.Size([50, 1])\n",
      "62 tensor(0.0016, grad_fn=<MseLossBackward0>) tensor([ 0.0520, -0.0537]) tensor([-1.9615,  1.9768], grad_fn=<CatBackward0>)\n",
      "torch.Size([50, 1])\n",
      "torch.Size([50, 1])\n",
      "62 tensor(0.0014, grad_fn=<MseLossBackward0>) tensor([ 0.0540, -0.0344]) tensor([-1.9621,  1.9773], grad_fn=<CatBackward0>)\n",
      "torch.Size([50, 1])\n",
      "torch.Size([50, 1])\n",
      "62 tensor(0.0016, grad_fn=<MseLossBackward0>) tensor([ 0.0685, -0.0249]) tensor([-1.9626,  1.9777], grad_fn=<CatBackward0>)\n",
      "torch.Size([50, 1])\n",
      "torch.Size([50, 1])\n",
      "63 tensor(0.0018, grad_fn=<MseLossBackward0>) tensor([ 0.0752, -0.0401]) tensor([-1.9633,  1.9779], grad_fn=<CatBackward0>)\n",
      "torch.Size([50, 1])\n",
      "torch.Size([50, 1])\n",
      "63 tensor(0.0014, grad_fn=<MseLossBackward0>) tensor([ 0.0486, -0.0502]) tensor([-1.9640,  1.9783], grad_fn=<CatBackward0>)\n",
      "torch.Size([50, 1])\n",
      "torch.Size([50, 1])\n",
      "63 tensor(0.0012, grad_fn=<MseLossBackward0>) tensor([ 0.0505, -0.0322]) tensor([-1.9645,  1.9788], grad_fn=<CatBackward0>)\n",
      "torch.Size([50, 1])\n",
      "torch.Size([50, 1])\n",
      "63 tensor(0.0014, grad_fn=<MseLossBackward0>) tensor([ 0.0640, -0.0232]) tensor([-1.9650,  1.9791], grad_fn=<CatBackward0>)\n",
      "torch.Size([50, 1])\n",
      "torch.Size([50, 1])\n",
      "64 tensor(0.0016, grad_fn=<MseLossBackward0>) tensor([ 0.0703, -0.0374]) tensor([-1.9657,  1.9794], grad_fn=<CatBackward0>)\n",
      "torch.Size([50, 1])\n",
      "torch.Size([50, 1])\n",
      "64 tensor(0.0012, grad_fn=<MseLossBackward0>) tensor([ 0.0455, -0.0469]) tensor([-1.9664,  1.9797], grad_fn=<CatBackward0>)\n",
      "torch.Size([50, 1])\n",
      "torch.Size([50, 1])\n",
      "64 tensor(0.0011, grad_fn=<MseLossBackward0>) tensor([ 0.0472, -0.0301]) tensor([-1.9668,  1.9802], grad_fn=<CatBackward0>)\n",
      "torch.Size([50, 1])\n",
      "torch.Size([50, 1])\n",
      "64 tensor(0.0012, grad_fn=<MseLossBackward0>) tensor([ 0.0599, -0.0217]) tensor([-1.9673,  1.9805], grad_fn=<CatBackward0>)\n",
      "torch.Size([50, 1])\n",
      "torch.Size([50, 1])\n",
      "65 tensor(0.0014, grad_fn=<MseLossBackward0>) tensor([ 0.0658, -0.0349]) tensor([-1.9679,  1.9807], grad_fn=<CatBackward0>)\n",
      "torch.Size([50, 1])\n",
      "torch.Size([50, 1])\n",
      "65 tensor(0.0011, grad_fn=<MseLossBackward0>) tensor([ 0.0426, -0.0438]) tensor([-1.9685,  1.9811], grad_fn=<CatBackward0>)\n",
      "torch.Size([50, 1])\n",
      "torch.Size([50, 1])\n",
      "65 tensor(0.0009, grad_fn=<MseLossBackward0>) tensor([ 0.0441, -0.0281]) tensor([-1.9690,  1.9815], grad_fn=<CatBackward0>)\n",
      "torch.Size([50, 1])\n",
      "torch.Size([50, 1])\n",
      "65 tensor(0.0010, grad_fn=<MseLossBackward0>) tensor([ 0.0560, -0.0202]) tensor([-1.9694,  1.9818], grad_fn=<CatBackward0>)\n",
      "torch.Size([50, 1])\n",
      "torch.Size([50, 1])\n",
      "66 tensor(0.0012, grad_fn=<MseLossBackward0>) tensor([ 0.0615, -0.0325]) tensor([-1.9700,  1.9820], grad_fn=<CatBackward0>)\n",
      "torch.Size([50, 1])\n",
      "torch.Size([50, 1])\n",
      "66 tensor(0.0010, grad_fn=<MseLossBackward0>) tensor([ 0.0398, -0.0409]) tensor([-1.9706,  1.9823], grad_fn=<CatBackward0>)\n",
      "torch.Size([50, 1])\n",
      "torch.Size([50, 1])\n",
      "66 tensor(0.0008, grad_fn=<MseLossBackward0>) tensor([ 0.0413, -0.0262]) tensor([-1.9710,  1.9827], grad_fn=<CatBackward0>)\n",
      "torch.Size([50, 1])\n",
      "torch.Size([50, 1])\n",
      "66 tensor(0.0009, grad_fn=<MseLossBackward0>) tensor([ 0.0524, -0.0189]) tensor([-1.9714,  1.9830], grad_fn=<CatBackward0>)\n",
      "torch.Size([50, 1])\n",
      "torch.Size([50, 1])\n",
      "67 tensor(0.0011, grad_fn=<MseLossBackward0>) tensor([ 0.0575, -0.0304]) tensor([-1.9719,  1.9832], grad_fn=<CatBackward0>)\n",
      "torch.Size([50, 1])\n",
      "torch.Size([50, 1])\n",
      "67 tensor(0.0008, grad_fn=<MseLossBackward0>) tensor([ 0.0373, -0.0382]) tensor([-1.9725,  1.9835], grad_fn=<CatBackward0>)\n",
      "torch.Size([50, 1])\n",
      "torch.Size([50, 1])\n",
      "67 tensor(0.0007, grad_fn=<MseLossBackward0>) tensor([ 0.0386, -0.0245]) tensor([-1.9729,  1.9839], grad_fn=<CatBackward0>)\n",
      "torch.Size([50, 1])\n",
      "torch.Size([50, 1])\n",
      "67 tensor(0.0008, grad_fn=<MseLossBackward0>) tensor([ 0.0490, -0.0176]) tensor([-1.9733,  1.9841], grad_fn=<CatBackward0>)\n",
      "torch.Size([50, 1])\n",
      "torch.Size([50, 1])\n",
      "68 tensor(0.0009, grad_fn=<MseLossBackward0>) tensor([ 0.0538, -0.0283]) tensor([-1.9737,  1.9843], grad_fn=<CatBackward0>)\n",
      "torch.Size([50, 1])\n",
      "torch.Size([50, 1])\n",
      "68 tensor(0.0007, grad_fn=<MseLossBackward0>) tensor([ 0.0349, -0.0357]) tensor([-1.9743,  1.9846], grad_fn=<CatBackward0>)\n",
      "torch.Size([50, 1])\n",
      "torch.Size([50, 1])\n",
      "68 tensor(0.0006, grad_fn=<MseLossBackward0>) tensor([ 0.0361, -0.0229]) tensor([-1.9746,  1.9849], grad_fn=<CatBackward0>)\n",
      "torch.Size([50, 1])\n",
      "torch.Size([50, 1])\n",
      "68 tensor(0.0007, grad_fn=<MseLossBackward0>) tensor([ 0.0459, -0.0164]) tensor([-1.9750,  1.9852], grad_fn=<CatBackward0>)\n",
      "torch.Size([50, 1])\n",
      "torch.Size([50, 1])\n",
      "69 tensor(0.0008, grad_fn=<MseLossBackward0>) tensor([ 0.0503, -0.0264]) tensor([-1.9755,  1.9853], grad_fn=<CatBackward0>)\n",
      "torch.Size([50, 1])\n",
      "torch.Size([50, 1])\n",
      "69 tensor(0.0006, grad_fn=<MseLossBackward0>) tensor([ 0.0326, -0.0333]) tensor([-1.9760,  1.9856], grad_fn=<CatBackward0>)\n",
      "torch.Size([50, 1])\n",
      "torch.Size([50, 1])\n",
      "69 tensor(0.0006, grad_fn=<MseLossBackward0>) tensor([ 0.0338, -0.0214]) tensor([-1.9763,  1.9859], grad_fn=<CatBackward0>)\n",
      "torch.Size([50, 1])\n",
      "torch.Size([50, 1])\n",
      "69 tensor(0.0006, grad_fn=<MseLossBackward0>) tensor([ 0.0429, -0.0153]) tensor([-1.9766,  1.9861], grad_fn=<CatBackward0>)\n"
     ]
    },
    {
     "name": "stdout",
     "output_type": "stream",
     "text": [
      "torch.Size([50, 1])\n",
      "torch.Size([50, 1])\n",
      "70 tensor(0.0007, grad_fn=<MseLossBackward0>) tensor([ 0.0471, -0.0246]) tensor([-1.9771,  1.9863], grad_fn=<CatBackward0>)\n",
      "torch.Size([50, 1])\n",
      "torch.Size([50, 1])\n",
      "70 tensor(0.0006, grad_fn=<MseLossBackward0>) tensor([ 0.0305, -0.0311]) tensor([-1.9775,  1.9865], grad_fn=<CatBackward0>)\n",
      "torch.Size([50, 1])\n",
      "torch.Size([50, 1])\n",
      "70 tensor(0.0005, grad_fn=<MseLossBackward0>) tensor([ 0.0316, -0.0200]) tensor([-1.9778,  1.9868], grad_fn=<CatBackward0>)\n",
      "torch.Size([50, 1])\n",
      "torch.Size([50, 1])\n",
      "70 tensor(0.0005, grad_fn=<MseLossBackward0>) tensor([ 0.0401, -0.0143]) tensor([-1.9781,  1.9870], grad_fn=<CatBackward0>)\n",
      "torch.Size([50, 1])\n",
      "torch.Size([50, 1])\n",
      "71 tensor(0.0006, grad_fn=<MseLossBackward0>) tensor([ 0.0441, -0.0230]) tensor([-1.9785,  1.9872], grad_fn=<CatBackward0>)\n",
      "torch.Size([50, 1])\n",
      "torch.Size([50, 1])\n",
      "71 tensor(0.0005, grad_fn=<MseLossBackward0>) tensor([ 0.0286, -0.0291]) tensor([-1.9790,  1.9874], grad_fn=<CatBackward0>)\n",
      "torch.Size([50, 1])\n",
      "torch.Size([50, 1])\n",
      "71 tensor(0.0004, grad_fn=<MseLossBackward0>) tensor([ 0.0295, -0.0187]) tensor([-1.9793,  1.9877], grad_fn=<CatBackward0>)\n",
      "torch.Size([50, 1])\n",
      "torch.Size([50, 1])\n",
      "71 tensor(0.0005, grad_fn=<MseLossBackward0>) tensor([ 0.0375, -0.0134]) tensor([-1.9796,  1.9879], grad_fn=<CatBackward0>)\n",
      "torch.Size([50, 1])\n",
      "torch.Size([50, 1])\n",
      "72 tensor(0.0005, grad_fn=<MseLossBackward0>) tensor([ 0.0412, -0.0214]) tensor([-1.9799,  1.9880], grad_fn=<CatBackward0>)\n",
      "torch.Size([50, 1])\n",
      "torch.Size([50, 1])\n",
      "72 tensor(0.0004, grad_fn=<MseLossBackward0>) tensor([ 0.0267, -0.0271]) tensor([-1.9804,  1.9882], grad_fn=<CatBackward0>)\n",
      "torch.Size([50, 1])\n",
      "torch.Size([50, 1])\n",
      "72 tensor(0.0004, grad_fn=<MseLossBackward0>) tensor([ 0.0276, -0.0175]) tensor([-1.9806,  1.9885], grad_fn=<CatBackward0>)\n",
      "torch.Size([50, 1])\n",
      "torch.Size([50, 1])\n",
      "72 tensor(0.0004, grad_fn=<MseLossBackward0>) tensor([ 0.0351, -0.0125]) tensor([-1.9809,  1.9887], grad_fn=<CatBackward0>)\n",
      "torch.Size([50, 1])\n",
      "torch.Size([50, 1])\n",
      "73 tensor(0.0005, grad_fn=<MseLossBackward0>) tensor([ 0.0385, -0.0200]) tensor([-1.9812,  1.9888], grad_fn=<CatBackward0>)\n",
      "torch.Size([50, 1])\n",
      "torch.Size([50, 1])\n",
      "73 tensor(0.0004, grad_fn=<MseLossBackward0>) tensor([ 0.0250, -0.0254]) tensor([-1.9816,  1.9890], grad_fn=<CatBackward0>)\n",
      "torch.Size([50, 1])\n",
      "torch.Size([50, 1])\n",
      "73 tensor(0.0003, grad_fn=<MseLossBackward0>) tensor([ 0.0258, -0.0164]) tensor([-1.9819,  1.9893], grad_fn=<CatBackward0>)\n",
      "torch.Size([50, 1])\n",
      "torch.Size([50, 1])\n",
      "73 tensor(0.0004, grad_fn=<MseLossBackward0>) tensor([ 0.0328, -0.0117]) tensor([-1.9821,  1.9894], grad_fn=<CatBackward0>)\n",
      "torch.Size([50, 1])\n",
      "torch.Size([50, 1])\n",
      "74 tensor(0.0004, grad_fn=<MseLossBackward0>) tensor([ 0.0361, -0.0186]) tensor([-1.9825,  1.9895], grad_fn=<CatBackward0>)\n",
      "torch.Size([50, 1])\n",
      "torch.Size([50, 1])\n",
      "74 tensor(0.0003, grad_fn=<MseLossBackward0>) tensor([ 0.0234, -0.0237]) tensor([-1.9828,  1.9897], grad_fn=<CatBackward0>)\n",
      "torch.Size([50, 1])\n",
      "torch.Size([50, 1])\n",
      "74 tensor(0.0003, grad_fn=<MseLossBackward0>) tensor([ 0.0241, -0.0153]) tensor([-1.9831,  1.9900], grad_fn=<CatBackward0>)\n",
      "torch.Size([50, 1])\n",
      "torch.Size([50, 1])\n",
      "74 tensor(0.0003, grad_fn=<MseLossBackward0>) tensor([ 0.0307, -0.0109]) tensor([-1.9833,  1.9901], grad_fn=<CatBackward0>)\n",
      "torch.Size([50, 1])\n",
      "torch.Size([50, 1])\n",
      "75 tensor(0.0004, grad_fn=<MseLossBackward0>) tensor([ 0.0337, -0.0173]) tensor([-1.9836,  1.9902], grad_fn=<CatBackward0>)\n",
      "torch.Size([50, 1])\n",
      "torch.Size([50, 1])\n",
      "75 tensor(0.0003, grad_fn=<MseLossBackward0>) tensor([ 0.0219, -0.0221]) tensor([-1.9840,  1.9904], grad_fn=<CatBackward0>)\n",
      "torch.Size([50, 1])\n",
      "torch.Size([50, 1])\n",
      "75 tensor(0.0002, grad_fn=<MseLossBackward0>) tensor([ 0.0226, -0.0143]) tensor([-1.9842,  1.9906], grad_fn=<CatBackward0>)\n",
      "torch.Size([50, 1])\n",
      "torch.Size([50, 1])\n",
      "75 tensor(0.0003, grad_fn=<MseLossBackward0>) tensor([ 0.0287, -0.0102]) tensor([-1.9844,  1.9908], grad_fn=<CatBackward0>)\n",
      "torch.Size([50, 1])\n",
      "torch.Size([50, 1])\n",
      "76 tensor(0.0003, grad_fn=<MseLossBackward0>) tensor([ 0.0316, -0.0162]) tensor([-1.9847,  1.9909], grad_fn=<CatBackward0>)\n",
      "torch.Size([50, 1])\n",
      "torch.Size([50, 1])\n",
      "76 tensor(0.0003, grad_fn=<MseLossBackward0>) tensor([ 0.0205, -0.0207]) tensor([-1.9850,  1.9910], grad_fn=<CatBackward0>)\n",
      "torch.Size([50, 1])\n",
      "torch.Size([50, 1])\n",
      "76 tensor(0.0002, grad_fn=<MseLossBackward0>) tensor([ 0.0211, -0.0134]) tensor([-1.9852,  1.9912], grad_fn=<CatBackward0>)\n",
      "torch.Size([50, 1])\n",
      "torch.Size([50, 1])\n",
      "76 tensor(0.0002, grad_fn=<MseLossBackward0>) tensor([ 0.0269, -0.0095]) tensor([-1.9854,  1.9914], grad_fn=<CatBackward0>)\n",
      "torch.Size([50, 1])\n",
      "torch.Size([50, 1])\n",
      "77 tensor(0.0003, grad_fn=<MseLossBackward0>) tensor([ 0.0295, -0.0151]) tensor([-1.9857,  1.9915], grad_fn=<CatBackward0>)\n",
      "torch.Size([50, 1])\n",
      "torch.Size([50, 1])\n",
      "77 tensor(0.0002, grad_fn=<MseLossBackward0>) tensor([ 0.0192, -0.0193]) tensor([-1.9860,  1.9916], grad_fn=<CatBackward0>)\n",
      "torch.Size([50, 1])\n",
      "torch.Size([50, 1])\n",
      "77 tensor(0.0002, grad_fn=<MseLossBackward0>) tensor([ 0.0197, -0.0125]) tensor([-1.9862,  1.9918], grad_fn=<CatBackward0>)\n",
      "torch.Size([50, 1])\n",
      "torch.Size([50, 1])\n",
      "77 tensor(0.0002, grad_fn=<MseLossBackward0>) tensor([ 0.0251, -0.0089]) tensor([-1.9864,  1.9919], grad_fn=<CatBackward0>)\n",
      "torch.Size([50, 1])\n",
      "torch.Size([50, 1])\n",
      "78 tensor(0.0002, grad_fn=<MseLossBackward0>) tensor([ 0.0276, -0.0140]) tensor([-1.9866,  1.9920], grad_fn=<CatBackward0>)\n",
      "torch.Size([50, 1])\n",
      "torch.Size([50, 1])\n",
      "78 tensor(0.0002, grad_fn=<MseLossBackward0>) tensor([ 0.0179, -0.0181]) tensor([-1.9869,  1.9922], grad_fn=<CatBackward0>)\n",
      "torch.Size([50, 1])\n",
      "torch.Size([50, 1])\n",
      "78 tensor(0.0002, grad_fn=<MseLossBackward0>) tensor([ 0.0184, -0.0117]) tensor([-1.9871,  1.9923], grad_fn=<CatBackward0>)\n",
      "torch.Size([50, 1])\n",
      "torch.Size([50, 1])\n",
      "78 tensor(0.0002, grad_fn=<MseLossBackward0>) tensor([ 0.0235, -0.0083]) tensor([-1.9873,  1.9925], grad_fn=<CatBackward0>)\n",
      "torch.Size([50, 1])\n",
      "torch.Size([50, 1])\n",
      "79 tensor(0.0002, grad_fn=<MseLossBackward0>) tensor([ 0.0258, -0.0131]) tensor([-1.9875,  1.9925], grad_fn=<CatBackward0>)\n",
      "torch.Size([50, 1])\n",
      "torch.Size([50, 1])\n",
      "79 tensor(0.0002, grad_fn=<MseLossBackward0>) tensor([ 0.0168, -0.0169]) tensor([-1.9877,  1.9927], grad_fn=<CatBackward0>)\n",
      "torch.Size([50, 1])\n",
      "torch.Size([50, 1])\n",
      "79 tensor(0.0001, grad_fn=<MseLossBackward0>) tensor([ 0.0172, -0.0110]) tensor([-1.9879,  1.9928], grad_fn=<CatBackward0>)\n",
      "torch.Size([50, 1])\n",
      "torch.Size([50, 1])\n",
      "79 tensor(0.0002, grad_fn=<MseLossBackward0>) tensor([ 0.0220, -0.0077]) tensor([-1.9881,  1.9930], grad_fn=<CatBackward0>)\n",
      "torch.Size([50, 1])\n",
      "torch.Size([50, 1])\n",
      "80 tensor(0.0002, grad_fn=<MseLossBackward0>) tensor([ 0.0242, -0.0122]) tensor([-1.9883,  1.9930], grad_fn=<CatBackward0>)\n",
      "torch.Size([50, 1])\n",
      "torch.Size([50, 1])\n",
      "80 tensor(0.0001, grad_fn=<MseLossBackward0>) tensor([ 0.0157, -0.0158]) tensor([-1.9886,  1.9932], grad_fn=<CatBackward0>)\n",
      "torch.Size([50, 1])\n",
      "torch.Size([50, 1])\n",
      "80 tensor(0.0001, grad_fn=<MseLossBackward0>) tensor([ 0.0161, -0.0103]) tensor([-1.9887,  1.9933], grad_fn=<CatBackward0>)\n",
      "torch.Size([50, 1])\n",
      "torch.Size([50, 1])\n",
      "80 tensor(0.0001, grad_fn=<MseLossBackward0>) tensor([ 0.0205, -0.0072]) tensor([-1.9889,  1.9934], grad_fn=<CatBackward0>)\n",
      "torch.Size([50, 1])\n",
      "torch.Size([50, 1])\n",
      "81 tensor(0.0002, grad_fn=<MseLossBackward0>) tensor([ 0.0226, -0.0113]) tensor([-1.9891,  1.9935], grad_fn=<CatBackward0>)\n",
      "torch.Size([50, 1])\n",
      "torch.Size([50, 1])\n",
      "81 tensor(0.0001, grad_fn=<MseLossBackward0>) tensor([ 0.0147, -0.0147]) tensor([-1.9893,  1.9936], grad_fn=<CatBackward0>)\n",
      "torch.Size([50, 1])\n",
      "torch.Size([50, 1])\n",
      "81 tensor(0.0001, grad_fn=<MseLossBackward0>) tensor([ 0.0151, -0.0096]) tensor([-1.9894,  1.9937], grad_fn=<CatBackward0>)\n",
      "torch.Size([50, 1])\n",
      "torch.Size([50, 1])\n",
      "81 tensor(0.0001, grad_fn=<MseLossBackward0>) tensor([ 0.0192, -0.0067]) tensor([-1.9896,  1.9938], grad_fn=<CatBackward0>)\n",
      "torch.Size([50, 1])\n",
      "torch.Size([50, 1])\n",
      "82 tensor(0.0001, grad_fn=<MseLossBackward0>) tensor([ 0.0211, -0.0105]) tensor([-1.9898,  1.9939], grad_fn=<CatBackward0>)\n",
      "torch.Size([50, 1])\n",
      "torch.Size([50, 1])\n",
      "82 tensor(0.0001, grad_fn=<MseLossBackward0>) tensor([ 0.0137, -0.0138]) tensor([-1.9900,  1.9940], grad_fn=<CatBackward0>)\n",
      "torch.Size([50, 1])\n",
      "torch.Size([50, 1])\n",
      "82 tensor(9.9150e-05, grad_fn=<MseLossBackward0>) tensor([ 0.0141, -0.0090]) tensor([-1.9901,  1.9942], grad_fn=<CatBackward0>)\n",
      "torch.Size([50, 1])\n",
      "torch.Size([50, 1])\n",
      "82 tensor(0.0001, grad_fn=<MseLossBackward0>) tensor([ 0.0180, -0.0063]) tensor([-1.9903,  1.9942], grad_fn=<CatBackward0>)\n",
      "torch.Size([50, 1])\n",
      "torch.Size([50, 1])\n",
      "83 tensor(0.0001, grad_fn=<MseLossBackward0>) tensor([ 0.0198, -0.0098]) tensor([-1.9905,  1.9943], grad_fn=<CatBackward0>)\n",
      "torch.Size([50, 1])\n",
      "torch.Size([50, 1])\n",
      "83 tensor(9.9829e-05, grad_fn=<MseLossBackward0>) tensor([ 0.0129, -0.0129]) tensor([-1.9907,  1.9944], grad_fn=<CatBackward0>)\n",
      "torch.Size([50, 1])\n",
      "torch.Size([50, 1])\n",
      "83 tensor(8.7032e-05, grad_fn=<MseLossBackward0>) tensor([ 0.0132, -0.0084]) tensor([-1.9908,  1.9945], grad_fn=<CatBackward0>)\n",
      "torch.Size([50, 1])\n",
      "torch.Size([50, 1])\n",
      "83 tensor(9.5335e-05, grad_fn=<MseLossBackward0>) tensor([ 0.0168, -0.0059]) tensor([-1.9909,  1.9946], grad_fn=<CatBackward0>)\n",
      "torch.Size([50, 1])\n",
      "torch.Size([50, 1])\n",
      "84 tensor(0.0001, grad_fn=<MseLossBackward0>) tensor([ 0.0185, -0.0091]) tensor([-1.9911,  1.9947], grad_fn=<CatBackward0>)\n",
      "torch.Size([50, 1])\n",
      "torch.Size([50, 1])\n",
      "84 tensor(8.7673e-05, grad_fn=<MseLossBackward0>) tensor([ 0.0120, -0.0120]) tensor([-1.9913,  1.9948], grad_fn=<CatBackward0>)\n",
      "torch.Size([50, 1])\n",
      "torch.Size([50, 1])\n",
      "84 tensor(7.6438e-05, grad_fn=<MseLossBackward0>) tensor([ 0.0123, -0.0079]) tensor([-1.9914,  1.9949], grad_fn=<CatBackward0>)\n",
      "torch.Size([50, 1])\n",
      "torch.Size([50, 1])\n",
      "84 tensor(8.3655e-05, grad_fn=<MseLossBackward0>) tensor([ 0.0157, -0.0055]) tensor([-1.9915,  1.9950], grad_fn=<CatBackward0>)\n",
      "torch.Size([50, 1])\n",
      "torch.Size([50, 1])\n",
      "85 tensor(9.5507e-05, grad_fn=<MseLossBackward0>) tensor([ 0.0173, -0.0085]) tensor([-1.9917,  1.9950], grad_fn=<CatBackward0>)\n",
      "torch.Size([50, 1])\n",
      "torch.Size([50, 1])\n",
      "85 tensor(7.7043e-05, grad_fn=<MseLossBackward0>) tensor([ 0.0113, -0.0112]) tensor([-1.9918,  1.9951], grad_fn=<CatBackward0>)\n",
      "torch.Size([50, 1])\n",
      "torch.Size([50, 1])\n",
      "85 tensor(6.7176e-05, grad_fn=<MseLossBackward0>) tensor([ 0.0115, -0.0074]) tensor([-1.9920,  1.9952], grad_fn=<CatBackward0>)\n",
      "torch.Size([50, 1])\n",
      "torch.Size([50, 1])\n",
      "85 tensor(7.3446e-05, grad_fn=<MseLossBackward0>) tensor([ 0.0147, -0.0051]) tensor([-1.9921,  1.9953], grad_fn=<CatBackward0>)\n",
      "torch.Size([50, 1])\n",
      "torch.Size([50, 1])\n",
      "86 tensor(8.3689e-05, grad_fn=<MseLossBackward0>) tensor([ 0.0162, -0.0079]) tensor([-1.9922,  1.9953], grad_fn=<CatBackward0>)\n",
      "torch.Size([50, 1])\n",
      "torch.Size([50, 1])\n",
      "86 tensor(6.7747e-05, grad_fn=<MseLossBackward0>) tensor([ 0.0105, -0.0105]) tensor([-1.9924,  1.9954], grad_fn=<CatBackward0>)\n",
      "torch.Size([50, 1])\n",
      "torch.Size([50, 1])\n",
      "86 tensor(5.9076e-05, grad_fn=<MseLossBackward0>) tensor([ 0.0107, -0.0069]) tensor([-1.9925,  1.9955], grad_fn=<CatBackward0>)\n",
      "torch.Size([50, 1])\n",
      "torch.Size([50, 1])\n",
      "86 tensor(6.4518e-05, grad_fn=<MseLossBackward0>) tensor([ 0.0137, -0.0048]) tensor([-1.9926,  1.9956], grad_fn=<CatBackward0>)\n",
      "torch.Size([50, 1])\n",
      "torch.Size([50, 1])\n",
      "87 tensor(7.3364e-05, grad_fn=<MseLossBackward0>) tensor([ 0.0152, -0.0073]) tensor([-1.9927,  1.9956], grad_fn=<CatBackward0>)\n",
      "torch.Size([50, 1])\n",
      "torch.Size([50, 1])\n",
      "87 tensor(5.9616e-05, grad_fn=<MseLossBackward0>) tensor([ 0.0099, -0.0098]) tensor([-1.9929,  1.9957], grad_fn=<CatBackward0>)\n",
      "torch.Size([50, 1])\n",
      "torch.Size([50, 1])\n",
      "87 tensor(5.1994e-05, grad_fn=<MseLossBackward0>) tensor([ 0.0100, -0.0065]) tensor([-1.9930,  1.9958], grad_fn=<CatBackward0>)\n",
      "torch.Size([50, 1])\n",
      "torch.Size([50, 1])\n",
      "87 tensor(5.6714e-05, grad_fn=<MseLossBackward0>) tensor([ 0.0128, -0.0045]) tensor([-1.9931,  1.9959], grad_fn=<CatBackward0>)\n",
      "torch.Size([50, 1])\n",
      "torch.Size([50, 1])\n",
      "88 tensor(6.4345e-05, grad_fn=<MseLossBackward0>) tensor([ 0.0142, -0.0068]) tensor([-1.9932,  1.9959], grad_fn=<CatBackward0>)\n",
      "torch.Size([50, 1])\n",
      "torch.Size([50, 1])\n",
      "88 tensor(5.2505e-05, grad_fn=<MseLossBackward0>) tensor([ 0.0092, -0.0092]) tensor([-1.9934,  1.9960], grad_fn=<CatBackward0>)\n",
      "torch.Size([50, 1])\n",
      "torch.Size([50, 1])\n",
      "88 tensor(4.5802e-05, grad_fn=<MseLossBackward0>) tensor([ 0.0094, -0.0061]) tensor([-1.9934,  1.9961], grad_fn=<CatBackward0>)\n",
      "torch.Size([50, 1])\n",
      "torch.Size([50, 1])\n",
      "88 tensor(4.9892e-05, grad_fn=<MseLossBackward0>) tensor([ 0.0120, -0.0042]) tensor([-1.9935,  1.9961], grad_fn=<CatBackward0>)\n",
      "torch.Size([50, 1])\n",
      "torch.Size([50, 1])\n",
      "89 tensor(5.6470e-05, grad_fn=<MseLossBackward0>) tensor([ 0.0133, -0.0063]) tensor([-1.9937,  1.9962], grad_fn=<CatBackward0>)\n",
      "torch.Size([50, 1])\n",
      "torch.Size([50, 1])\n"
     ]
    },
    {
     "name": "stdout",
     "output_type": "stream",
     "text": [
      "89 tensor(4.6286e-05, grad_fn=<MseLossBackward0>) tensor([ 0.0086, -0.0086]) tensor([-1.9938,  1.9963], grad_fn=<CatBackward0>)\n",
      "torch.Size([50, 1])\n",
      "torch.Size([50, 1])\n",
      "89 tensor(4.0388e-05, grad_fn=<MseLossBackward0>) tensor([ 0.0088, -0.0057]) tensor([-1.9939,  1.9963], grad_fn=<CatBackward0>)\n",
      "torch.Size([50, 1])\n",
      "torch.Size([50, 1])\n",
      "89 tensor(4.3930e-05, grad_fn=<MseLossBackward0>) tensor([ 0.0112, -0.0039]) tensor([-1.9940,  1.9964], grad_fn=<CatBackward0>)\n",
      "torch.Size([50, 1])\n",
      "torch.Size([50, 1])\n",
      "90 tensor(4.9590e-05, grad_fn=<MseLossBackward0>) tensor([ 0.0124, -0.0059]) tensor([-1.9941,  1.9964], grad_fn=<CatBackward0>)\n",
      "torch.Size([50, 1])\n",
      "torch.Size([50, 1])\n",
      "90 tensor(4.0846e-05, grad_fn=<MseLossBackward0>) tensor([ 0.0081, -0.0080]) tensor([-1.9942,  1.9965], grad_fn=<CatBackward0>)\n",
      "torch.Size([50, 1])\n",
      "torch.Size([50, 1])\n",
      "90 tensor(3.5654e-05, grad_fn=<MseLossBackward0>) tensor([ 0.0082, -0.0054]) tensor([-1.9943,  1.9966], grad_fn=<CatBackward0>)\n",
      "torch.Size([50, 1])\n",
      "torch.Size([50, 1])\n",
      "90 tensor(3.8718e-05, grad_fn=<MseLossBackward0>) tensor([ 0.0105, -0.0037]) tensor([-1.9944,  1.9966], grad_fn=<CatBackward0>)\n",
      "torch.Size([50, 1])\n",
      "torch.Size([50, 1])\n",
      "91 tensor(4.3583e-05, grad_fn=<MseLossBackward0>) tensor([ 0.0116, -0.0055]) tensor([-1.9945,  1.9967], grad_fn=<CatBackward0>)\n",
      "torch.Size([50, 1])\n",
      "torch.Size([50, 1])\n",
      "91 tensor(3.6087e-05, grad_fn=<MseLossBackward0>) tensor([ 0.0076, -0.0075]) tensor([-1.9946,  1.9967], grad_fn=<CatBackward0>)\n",
      "torch.Size([50, 1])\n",
      "torch.Size([50, 1])\n",
      "91 tensor(3.1514e-05, grad_fn=<MseLossBackward0>) tensor([ 0.0076, -0.0050]) tensor([-1.9947,  1.9968], grad_fn=<CatBackward0>)\n",
      "torch.Size([50, 1])\n",
      "torch.Size([50, 1])\n",
      "91 tensor(3.4161e-05, grad_fn=<MseLossBackward0>) tensor([ 0.0098, -0.0034]) tensor([-1.9947,  1.9968], grad_fn=<CatBackward0>)\n",
      "torch.Size([50, 1])\n",
      "torch.Size([50, 1])\n",
      "92 tensor(3.8338e-05, grad_fn=<MseLossBackward0>) tensor([ 0.0109, -0.0051]) tensor([-1.9948,  1.9969], grad_fn=<CatBackward0>)\n",
      "torch.Size([50, 1])\n",
      "torch.Size([50, 1])\n",
      "92 tensor(3.1924e-05, grad_fn=<MseLossBackward0>) tensor([ 0.0071, -0.0070]) tensor([-1.9949,  1.9969], grad_fn=<CatBackward0>)\n",
      "torch.Size([50, 1])\n",
      "torch.Size([50, 1])\n",
      "92 tensor(2.7895e-05, grad_fn=<MseLossBackward0>) tensor([ 0.0071, -0.0047]) tensor([-1.9950,  1.9970], grad_fn=<CatBackward0>)\n",
      "torch.Size([50, 1])\n",
      "torch.Size([50, 1])\n",
      "92 tensor(3.0179e-05, grad_fn=<MseLossBackward0>) tensor([ 0.0092, -0.0032]) tensor([-1.9951,  1.9970], grad_fn=<CatBackward0>)\n",
      "torch.Size([50, 1])\n",
      "torch.Size([50, 1])\n",
      "93 tensor(3.3758e-05, grad_fn=<MseLossBackward0>) tensor([ 0.0102, -0.0047]) tensor([-1.9952,  1.9971], grad_fn=<CatBackward0>)\n",
      "torch.Size([50, 1])\n",
      "torch.Size([50, 1])\n",
      "93 tensor(2.8282e-05, grad_fn=<MseLossBackward0>) tensor([ 0.0066, -0.0066]) tensor([-1.9953,  1.9971], grad_fn=<CatBackward0>)\n",
      "torch.Size([50, 1])\n",
      "torch.Size([50, 1])\n",
      "93 tensor(2.4730e-05, grad_fn=<MseLossBackward0>) tensor([ 0.0067, -0.0044]) tensor([-1.9953,  1.9972], grad_fn=<CatBackward0>)\n",
      "torch.Size([50, 1])\n",
      "torch.Size([50, 1])\n",
      "93 tensor(2.6699e-05, grad_fn=<MseLossBackward0>) tensor([ 0.0086, -0.0030]) tensor([-1.9954,  1.9972], grad_fn=<CatBackward0>)\n",
      "torch.Size([50, 1])\n",
      "torch.Size([50, 1])\n",
      "94 tensor(2.9758e-05, grad_fn=<MseLossBackward0>) tensor([ 0.0095, -0.0044]) tensor([-1.9955,  1.9973], grad_fn=<CatBackward0>)\n",
      "torch.Size([50, 1])\n",
      "torch.Size([50, 1])\n",
      "94 tensor(2.5096e-05, grad_fn=<MseLossBackward0>) tensor([ 0.0062, -0.0061]) tensor([-1.9956,  1.9973], grad_fn=<CatBackward0>)\n",
      "torch.Size([50, 1])\n",
      "torch.Size([50, 1])\n",
      "94 tensor(2.1962e-05, grad_fn=<MseLossBackward0>) tensor([ 0.0062, -0.0042]) tensor([-1.9957,  1.9974], grad_fn=<CatBackward0>)\n",
      "torch.Size([50, 1])\n",
      "torch.Size([50, 1])\n",
      "94 tensor(2.3655e-05, grad_fn=<MseLossBackward0>) tensor([ 0.0080, -0.0028]) tensor([-1.9957,  1.9974], grad_fn=<CatBackward0>)\n",
      "torch.Size([50, 1])\n",
      "torch.Size([50, 1])\n",
      "95 tensor(2.6266e-05, grad_fn=<MseLossBackward0>) tensor([ 0.0089, -0.0040]) tensor([-1.9958,  1.9974], grad_fn=<CatBackward0>)\n",
      "torch.Size([50, 1])\n",
      "torch.Size([50, 1])\n",
      "95 tensor(2.2306e-05, grad_fn=<MseLossBackward0>) tensor([ 0.0058, -0.0058]) tensor([-1.9959,  1.9975], grad_fn=<CatBackward0>)\n",
      "torch.Size([50, 1])\n",
      "torch.Size([50, 1])\n",
      "95 tensor(1.9540e-05, grad_fn=<MseLossBackward0>) tensor([ 0.0058, -0.0039]) tensor([-1.9959,  1.9975], grad_fn=<CatBackward0>)\n",
      "torch.Size([50, 1])\n",
      "torch.Size([50, 1])\n",
      "95 tensor(2.0994e-05, grad_fn=<MseLossBackward0>) tensor([ 0.0075, -0.0026]) tensor([-1.9960,  1.9976], grad_fn=<CatBackward0>)\n",
      "torch.Size([50, 1])\n",
      "torch.Size([50, 1])\n",
      "96 tensor(2.3216e-05, grad_fn=<MseLossBackward0>) tensor([ 0.0083, -0.0037]) tensor([-1.9961,  1.9976], grad_fn=<CatBackward0>)\n",
      "torch.Size([50, 1])\n",
      "torch.Size([50, 1])\n",
      "96 tensor(1.9863e-05, grad_fn=<MseLossBackward0>) tensor([ 0.0055, -0.0054]) tensor([-1.9962,  1.9976], grad_fn=<CatBackward0>)\n",
      "torch.Size([50, 1])\n",
      "torch.Size([50, 1])\n",
      "96 tensor(1.7422e-05, grad_fn=<MseLossBackward0>) tensor([ 0.0054, -0.0037]) tensor([-1.9962,  1.9977], grad_fn=<CatBackward0>)\n",
      "torch.Size([50, 1])\n",
      "torch.Size([50, 1])\n",
      "96 tensor(1.8668e-05, grad_fn=<MseLossBackward0>) tensor([ 0.0070, -0.0025]) tensor([-1.9963,  1.9977], grad_fn=<CatBackward0>)\n",
      "torch.Size([50, 1])\n",
      "torch.Size([50, 1])\n",
      "97 tensor(2.0556e-05, grad_fn=<MseLossBackward0>) tensor([ 0.0078, -0.0034]) tensor([-1.9963,  1.9978], grad_fn=<CatBackward0>)\n",
      "torch.Size([50, 1])\n",
      "torch.Size([50, 1])\n",
      "97 tensor(1.7728e-05, grad_fn=<MseLossBackward0>) tensor([ 0.0051, -0.0050]) tensor([-1.9964,  1.9978], grad_fn=<CatBackward0>)\n",
      "torch.Size([50, 1])\n",
      "torch.Size([50, 1])\n",
      "97 tensor(1.5571e-05, grad_fn=<MseLossBackward0>) tensor([ 0.0051, -0.0035]) tensor([-1.9965,  1.9978], grad_fn=<CatBackward0>)\n",
      "torch.Size([50, 1])\n",
      "torch.Size([50, 1])\n",
      "97 tensor(1.6636e-05, grad_fn=<MseLossBackward0>) tensor([ 0.0065, -0.0023]) tensor([-1.9965,  1.9979], grad_fn=<CatBackward0>)\n",
      "torch.Size([50, 1])\n",
      "torch.Size([50, 1])\n",
      "98 tensor(1.8233e-05, grad_fn=<MseLossBackward0>) tensor([ 0.0073, -0.0032]) tensor([-1.9966,  1.9979], grad_fn=<CatBackward0>)\n",
      "torch.Size([50, 1])\n",
      "torch.Size([50, 1])\n",
      "98 tensor(1.5858e-05, grad_fn=<MseLossBackward0>) tensor([ 0.0048, -0.0047]) tensor([-1.9967,  1.9979], grad_fn=<CatBackward0>)\n",
      "torch.Size([50, 1])\n",
      "torch.Size([50, 1])\n",
      "98 tensor(1.3953e-05, grad_fn=<MseLossBackward0>) tensor([ 0.0047, -0.0033]) tensor([-1.9967,  1.9980], grad_fn=<CatBackward0>)\n",
      "torch.Size([50, 1])\n",
      "torch.Size([50, 1])\n",
      "98 tensor(1.4861e-05, grad_fn=<MseLossBackward0>) tensor([ 0.0061, -0.0022]) tensor([-1.9968,  1.9980], grad_fn=<CatBackward0>)\n",
      "torch.Size([50, 1])\n",
      "torch.Size([50, 1])\n",
      "99 tensor(1.6208e-05, grad_fn=<MseLossBackward0>) tensor([ 0.0068, -0.0029]) tensor([-1.9968,  1.9980], grad_fn=<CatBackward0>)\n",
      "torch.Size([50, 1])\n",
      "torch.Size([50, 1])\n",
      "99 tensor(1.4222e-05, grad_fn=<MseLossBackward0>) tensor([ 0.0045, -0.0044]) tensor([-1.9969,  1.9981], grad_fn=<CatBackward0>)\n",
      "torch.Size([50, 1])\n",
      "torch.Size([50, 1])\n",
      "99 tensor(1.2536e-05, grad_fn=<MseLossBackward0>) tensor([ 0.0044, -0.0031]) tensor([-1.9969,  1.9981], grad_fn=<CatBackward0>)\n",
      "torch.Size([50, 1])\n",
      "torch.Size([50, 1])\n",
      "99 tensor(1.3309e-05, grad_fn=<MseLossBackward0>) tensor([ 0.0057, -0.0020]) tensor([-1.9970,  1.9981], grad_fn=<CatBackward0>)\n"
     ]
    }
   ],
   "source": [
    "model = MLP_Net(user_id=0)\n",
    "\n",
    "lr = 0.01\n",
    "\n",
    "dataloader = DataLoader(MyDataset(datapoints[19][\"features\"], datapoints[19][\"label\"]), batch_size=50, shuffle=False)\n",
    "optimizer = torch.optim.SGD(model.parameters(), lr=0.01)\n",
    "for i in range(100):\n",
    "    for (x, y) in dataloader:\n",
    "        criterion = nn.MSELoss()\n",
    "        optimizer.zero_grad()\n",
    "        yhat = model(x)\n",
    "        print(y.size())\n",
    "        print(yhat.size())\n",
    "        loss = criterion(yhat, y)\n",
    "        \n",
    "        loss.backward()\n",
    "        print(i, loss, grads_to_vector(model.parameters()), parameters_to_vector(model.parameters()))\n",
    "        #optimizer.step()\n",
    "        new_model = parameters_to_vector(model.parameters()) - lr * grads_to_vector(model.parameters())\n",
    "        vector_to_parameters(parameters=model.parameters(), vec=new_model)\n",
    "        #if i % 50 ==0:\n",
    "            #lr *= 0.9\n",
    "            \n",
    "\n",
    "#parameters_to_vector(model.parameters())"
   ]
  },
  {
   "cell_type": "code",
   "execution_count": 11,
   "id": "5eb22da2",
   "metadata": {},
   "outputs": [
    {
     "data": {
      "text/plain": [
       "tensor([-1.9970,  1.9982], grad_fn=<CatBackward0>)"
      ]
     },
     "execution_count": 11,
     "metadata": {},
     "output_type": "execute_result"
    }
   ],
   "source": [
    "parameters_to_vector(model.parameters())"
   ]
  },
  {
   "cell_type": "code",
   "execution_count": 12,
   "id": "52396ca6",
   "metadata": {},
   "outputs": [],
   "source": [
    "class CNN_Net(nn.Module):\n",
    "    def __init__(self):\n",
    "        super(CNN_Net, self).__init__()\n",
    "        self.conv1 = nn.Conv2d(1, 32, kernel_size=5)\n",
    "        self.conv2 = nn.Conv2d(32, 64, kernel_size=5)\n",
    "        self.pool = nn.MaxPool2d(2,2)\n",
    "        self.dropout = nn.Dropout(p=0.2)\n",
    "        self.fc1 = nn.Linear(1024, 512)\n",
    "        self.fc2 = nn.Linear(512, 10)\n",
    "\n",
    "    def forward(self, x):\n",
    "        x = self.pool(F.relu(self.conv1(x)))\n",
    "        x = self.pool(F.relu(self.conv2(x)))\n",
    "        x = self.dropout(x)\n",
    "        x = torch.flatten(x, 1)\n",
    "        x = F.relu(self.fc1(x))\n",
    "        output = self.fc2(x)\n",
    "        return output"
   ]
  },
  {
   "cell_type": "code",
   "execution_count": 13,
   "id": "cb5fe42b",
   "metadata": {},
   "outputs": [],
   "source": [
    "class ClientUpdate(object):\n",
    "    def __init__(self, dataset, batchSize, alpha, lamda, epochs, projection_list, projected_weights):\n",
    "        self.train_loader = DataLoader(MyDataset(dataset[\"features\"], dataset[\"label\"]), batch_size=batchSize, shuffle=True)\n",
    "        #self.learning_rate = learning_rate\n",
    "        self.epochs = epochs\n",
    "        self.batchSize = batchSize\n",
    "\n",
    "    def train(self, model):\n",
    "        criterion = nn.MSELoss()\n",
    "        optimizer = torch.optim.SGD(model.parameters(), lr=1e-3, momentum=0.5)\n",
    "\n",
    "        e_loss = []\n",
    "        for epoch in range(1, self.epochs+1):\n",
    "            train_loss = 0\n",
    "            model.train()\n",
    "            for i, (data, labels) in zip(range(1), self.train_loader):\n",
    "                data, labels = data, labels\n",
    "                optimizer.zero_grad() \n",
    "                output = model(data)  \n",
    "                loss = criterion(output, labels)\n",
    "                #loss += mu/2 * torch.norm(client_param.data - server_param.data)**2\n",
    "                loss.backward()\n",
    "                grads = grads_to_vector(model.parameters())\n",
    "                #optimizer.step()\n",
    "                train_loss += loss.item()*data.size(0)\n",
    "                weights = parameters_to_vector(model.parameters())\n",
    "                mat_vec_sum = torch.zeros_like(weights)\n",
    "                for j in G.neighbors(model.user_id):\n",
    "                    mat_vec_sum = torch.add(mat_vec_sum, torch.matmul(torch.transpose(projection_list[model.user_id][j], 0, 1), \n",
    "                                                         projected_weights[j][model.user_id] - projected_weights[model.user_id][j]))\n",
    "                \n",
    "                model_update = parameters_to_vector(model.parameters()) - alpha * (grads + lamda * mat_vec_sum)\n",
    "                \n",
    "            vector_to_parameters(parameters=model.parameters(), vec=model_update)\n",
    "                \n",
    "\n",
    "            train_loss = train_loss/self.batchSize#len(self.train_loader.dataset) \n",
    "            e_loss.append(train_loss)\n",
    "\n",
    "        total_loss = e_loss#sum(e_loss)/len(e_loss)\n",
    "\n",
    "        return model.state_dict(), total_loss"
   ]
  },
  {
   "cell_type": "code",
   "execution_count": 14,
   "id": "2eeef5b5",
   "metadata": {},
   "outputs": [],
   "source": [
    "# Preparing projection matrices\n",
    "models = [MLP_Net(user_id=i) for i in range(no_users)]\n",
    "#temp = MLP_Net()\n",
    "projection_list = []\n",
    "projected_weights = []\n",
    "\n",
    "def update_ProjWeight(projection_list, projected_weights, first_run=True):\n",
    "    #projected_weights = []\n",
    "    for i in range(no_users):\n",
    "        neighbors_mat = []\n",
    "        neighbors_weights = []\n",
    "        for j in range(no_users):\n",
    "            if j in G.neighbors(i):\n",
    "                with torch.no_grad():\n",
    "                    if first_run == True:\n",
    "                        row, column = d0, parameters_to_vector(models[i].parameters()).size()[0]\n",
    "                        mat = torch.zeros((row, column))\n",
    "                        mat.fill_diagonal_(1.0 + 1.0 * float(np.random.randn(1)))\n",
    "                        neighbors_mat.append(mat)\n",
    "                        neighbors_weights.append(torch.matmul(mat, parameters_to_vector(models[i].parameters())))\n",
    "                    else:\n",
    "                        neighbors_weights.append(torch.matmul(projection_list[i][j], parameters_to_vector(models[i].parameters())))\n",
    "            else:\n",
    "                neighbors_mat.append(0)\n",
    "                neighbors_weights.append(0)\n",
    "        if first_run == True:\n",
    "            projection_list.append(neighbors_mat)\n",
    "        projected_weights.append(neighbors_weights)\n",
    "\n",
    "update_ProjWeight(projection_list, projected_weights)\n",
    "\n"
   ]
  },
  {
   "cell_type": "code",
   "execution_count": 15,
   "id": "f733ee68",
   "metadata": {},
   "outputs": [
    {
     "name": "stdout",
     "output_type": "stream",
     "text": [
      "[0, 0, tensor([[0.4676, 0.0000],\n",
      "        [0.0000, 0.4676]]), tensor([[0.0884, 0.0000],\n",
      "        [0.0000, 0.0884]]), 0, tensor([[2.1782, 0.0000],\n",
      "        [0.0000, 2.1782]]), tensor([[0.1747, 0.0000],\n",
      "        [0.0000, 0.1747]]), 0, tensor([[1.2504, 0.0000],\n",
      "        [0.0000, 1.2504]]), tensor([[-0.2033,  0.0000],\n",
      "        [ 0.0000, -0.2033]]), 0, 0, 0, 0, 0, 0, 0, 0, 0, 0]\n"
     ]
    }
   ],
   "source": [
    "print(projection_list[0])"
   ]
  },
  {
   "cell_type": "code",
   "execution_count": 16,
   "id": "5f6059eb",
   "metadata": {},
   "outputs": [],
   "source": [
    "def testing(model, dataset, bs, criterion): \n",
    "    test_loss = 0\n",
    "    correct = 0\n",
    "    test_loader = DataLoader(MyDataset(dataset[\"features\"], dataset[\"label\"]), batch_size=bs)\n",
    "    l = len(test_loader)\n",
    "    model.eval()\n",
    "    for data, labels in test_loader:\n",
    "        data, labels = data, labels\n",
    "        output = model(data)\n",
    "        loss = criterion(output, labels)\n",
    "        test_loss += loss.item()*data.size(0)\n",
    "        #_, pred = torch.max(output, 1)\n",
    "        #correct += pred.eq(labels.data.view_as(pred)).sum().item()\n",
    "    \n",
    "    test_loss /= len(test_loader.dataset)\n",
    "    \n",
    "    return test_loss"
   ]
  },
  {
   "cell_type": "code",
   "execution_count": 17,
   "id": "f172f558",
   "metadata": {},
   "outputs": [],
   "source": [
    "def rel_error(model):\n",
    "    return (torch.norm(parameters_to_vector(model.parameters()) - datapoints[model.user_id]['exact_weights']) / torch.norm(datapoints[model.user_id]['exact_weights'])).detach()"
   ]
  },
  {
   "cell_type": "code",
   "execution_count": 18,
   "id": "6e38148f",
   "metadata": {},
   "outputs": [
    {
     "data": {
      "text/plain": [
       "tensor(2.8284, dtype=torch.float64)"
      ]
     },
     "execution_count": 18,
     "metadata": {},
     "output_type": "execute_result"
    }
   ],
   "source": [
    "torch.norm(datapoints[model.user_id]['exact_weights'])"
   ]
  },
  {
   "cell_type": "code",
   "execution_count": 19,
   "id": "1d1a33e3",
   "metadata": {},
   "outputs": [
    {
     "name": "stdout",
     "output_type": "stream",
     "text": [
      "tensor([0.5557, 0.1696])\n"
     ]
    },
    {
     "data": {
      "text/plain": [
       "tensor([1.1113, 0.3392], grad_fn=<CatBackward0>)"
      ]
     },
     "execution_count": 19,
     "metadata": {},
     "output_type": "execute_result"
    }
   ],
   "source": [
    "model = MLP_Net(user_id=0)\n",
    "\n",
    "from torch.nn.utils import parameters_to_vector, vector_to_parameters\n",
    "\n",
    "with torch.no_grad():    \n",
    "    params = parameters_to_vector(model.parameters())\n",
    "\n",
    "    print(params)\n",
    "\n",
    "params *= 2.\n",
    "\n",
    "vector_to_parameters(parameters=model.parameters(), vec=params)\n",
    "\n",
    "parameters_to_vector(model.parameters())\n",
    "\n",
    "\n",
    "\n"
   ]
  },
  {
   "cell_type": "code",
   "execution_count": 20,
   "id": "71472693",
   "metadata": {},
   "outputs": [
    {
     "name": "stderr",
     "output_type": "stream",
     "text": [
      "  0%|          | 1/2000 [00:00<04:22,  7.61it/s]"
     ]
    },
    {
     "name": "stdout",
     "output_type": "stream",
     "text": [
      "Training_loss 9.17849,   Relative Error 1.14337\n"
     ]
    },
    {
     "name": "stderr",
     "output_type": "stream",
     "text": [
      "\r",
      "  0%|          | 2/2000 [00:00<03:53,  8.54it/s]"
     ]
    },
    {
     "name": "stdout",
     "output_type": "stream",
     "text": [
      "Training_loss 8.85918,   Relative Error 1.12412\n"
     ]
    },
    {
     "name": "stderr",
     "output_type": "stream",
     "text": [
      "\r",
      "  0%|          | 3/2000 [00:00<03:49,  8.69it/s]"
     ]
    },
    {
     "name": "stdout",
     "output_type": "stream",
     "text": [
      "Training_loss 8.47640,   Relative Error 1.09888\n"
     ]
    },
    {
     "name": "stderr",
     "output_type": "stream",
     "text": [
      "\r",
      "  0%|          | 4/2000 [00:00<03:49,  8.71it/s]"
     ]
    },
    {
     "name": "stdout",
     "output_type": "stream",
     "text": [
      "Training_loss 8.14872,   Relative Error 1.07799\n"
     ]
    },
    {
     "name": "stderr",
     "output_type": "stream",
     "text": [
      "\r",
      "  0%|          | 5/2000 [00:00<03:49,  8.71it/s]"
     ]
    },
    {
     "name": "stdout",
     "output_type": "stream",
     "text": [
      "Training_loss 7.84196,   Relative Error 1.05768\n"
     ]
    },
    {
     "name": "stderr",
     "output_type": "stream",
     "text": [
      "\r",
      "  0%|          | 6/2000 [00:00<03:51,  8.60it/s]"
     ]
    },
    {
     "name": "stdout",
     "output_type": "stream",
     "text": [
      "Training_loss 7.65822,   Relative Error 1.04497\n"
     ]
    },
    {
     "name": "stderr",
     "output_type": "stream",
     "text": [
      "\r",
      "  0%|          | 7/2000 [00:00<03:56,  8.43it/s]"
     ]
    },
    {
     "name": "stdout",
     "output_type": "stream",
     "text": [
      "Training_loss 7.53843,   Relative Error 1.03695\n"
     ]
    },
    {
     "name": "stderr",
     "output_type": "stream",
     "text": [
      "\r",
      "  0%|          | 8/2000 [00:00<04:12,  7.87it/s]"
     ]
    },
    {
     "name": "stdout",
     "output_type": "stream",
     "text": [
      "Training_loss 7.27334,   Relative Error 1.01893\n"
     ]
    },
    {
     "name": "stderr",
     "output_type": "stream",
     "text": [
      "\r",
      "  0%|          | 9/2000 [00:01<04:09,  7.97it/s]"
     ]
    },
    {
     "name": "stdout",
     "output_type": "stream",
     "text": [
      "Training_loss 7.01960,   Relative Error 1.00150\n"
     ]
    },
    {
     "name": "stderr",
     "output_type": "stream",
     "text": [
      "\r",
      "  0%|          | 10/2000 [00:01<04:02,  8.22it/s]"
     ]
    },
    {
     "name": "stdout",
     "output_type": "stream",
     "text": [
      "Training_loss 6.85942,   Relative Error 0.98950\n"
     ]
    },
    {
     "name": "stderr",
     "output_type": "stream",
     "text": [
      "\r",
      "  1%|          | 11/2000 [00:01<03:56,  8.41it/s]"
     ]
    },
    {
     "name": "stdout",
     "output_type": "stream",
     "text": [
      "Training_loss 6.69192,   Relative Error 0.97727\n"
     ]
    },
    {
     "name": "stderr",
     "output_type": "stream",
     "text": [
      "\r",
      "  1%|          | 12/2000 [00:01<03:54,  8.48it/s]"
     ]
    },
    {
     "name": "stdout",
     "output_type": "stream",
     "text": [
      "Training_loss 6.50219,   Relative Error 0.96335\n"
     ]
    },
    {
     "name": "stderr",
     "output_type": "stream",
     "text": [
      "\r",
      "  1%|          | 13/2000 [00:01<03:46,  8.77it/s]"
     ]
    },
    {
     "name": "stdout",
     "output_type": "stream",
     "text": [
      "Training_loss 6.28003,   Relative Error 0.94711\n"
     ]
    },
    {
     "name": "stderr",
     "output_type": "stream",
     "text": [
      "\r",
      "  1%|          | 14/2000 [00:01<04:01,  8.22it/s]"
     ]
    },
    {
     "name": "stdout",
     "output_type": "stream",
     "text": [
      "Training_loss 6.04134,   Relative Error 0.92976\n"
     ]
    },
    {
     "name": "stderr",
     "output_type": "stream",
     "text": [
      "\r",
      "  1%|          | 15/2000 [00:01<04:27,  7.43it/s]"
     ]
    },
    {
     "name": "stdout",
     "output_type": "stream",
     "text": [
      "Training_loss 5.76757,   Relative Error 0.90877\n"
     ]
    },
    {
     "name": "stderr",
     "output_type": "stream",
     "text": [
      "\r",
      "  1%|          | 16/2000 [00:01<04:15,  7.77it/s]"
     ]
    },
    {
     "name": "stdout",
     "output_type": "stream",
     "text": [
      "Training_loss 5.63026,   Relative Error 0.89784\n"
     ]
    },
    {
     "name": "stderr",
     "output_type": "stream",
     "text": [
      "\r",
      "  1%|          | 17/2000 [00:02<04:05,  8.09it/s]"
     ]
    },
    {
     "name": "stdout",
     "output_type": "stream",
     "text": [
      "Training_loss 5.42466,   Relative Error 0.88037\n"
     ]
    },
    {
     "name": "stderr",
     "output_type": "stream",
     "text": [
      "\r",
      "  1%|          | 18/2000 [00:02<03:55,  8.40it/s]"
     ]
    },
    {
     "name": "stdout",
     "output_type": "stream",
     "text": [
      "Training_loss 5.29252,   Relative Error 0.86985\n"
     ]
    },
    {
     "name": "stderr",
     "output_type": "stream",
     "text": [
      "\r",
      "  1%|          | 19/2000 [00:02<03:51,  8.57it/s]"
     ]
    },
    {
     "name": "stdout",
     "output_type": "stream",
     "text": [
      "Training_loss 4.99869,   Relative Error 0.84571\n"
     ]
    },
    {
     "name": "stderr",
     "output_type": "stream",
     "text": [
      "\r",
      "  1%|          | 20/2000 [00:02<03:52,  8.52it/s]"
     ]
    },
    {
     "name": "stdout",
     "output_type": "stream",
     "text": [
      "Training_loss 4.73293,   Relative Error 0.82349\n"
     ]
    },
    {
     "name": "stderr",
     "output_type": "stream",
     "text": [
      "\r",
      "  1%|          | 21/2000 [00:02<03:51,  8.53it/s]"
     ]
    },
    {
     "name": "stdout",
     "output_type": "stream",
     "text": [
      "Training_loss 4.52395,   Relative Error 0.80566\n"
     ]
    },
    {
     "name": "stderr",
     "output_type": "stream",
     "text": [
      "\r",
      "  1%|          | 22/2000 [00:02<03:55,  8.39it/s]"
     ]
    },
    {
     "name": "stdout",
     "output_type": "stream",
     "text": [
      "Training_loss 4.33231,   Relative Error 0.78850\n"
     ]
    },
    {
     "name": "stderr",
     "output_type": "stream",
     "text": [
      "\r",
      "  1%|          | 23/2000 [00:02<03:48,  8.67it/s]"
     ]
    },
    {
     "name": "stdout",
     "output_type": "stream",
     "text": [
      "Training_loss 4.19830,   Relative Error 0.77625\n"
     ]
    },
    {
     "name": "stderr",
     "output_type": "stream",
     "text": [
      "\r",
      "  1%|          | 24/2000 [00:02<03:47,  8.68it/s]"
     ]
    },
    {
     "name": "stdout",
     "output_type": "stream",
     "text": [
      "Training_loss 3.98813,   Relative Error 0.75726\n"
     ]
    },
    {
     "name": "stderr",
     "output_type": "stream",
     "text": [
      "\r",
      "  1%|▏         | 25/2000 [00:02<03:52,  8.49it/s]"
     ]
    },
    {
     "name": "stdout",
     "output_type": "stream",
     "text": [
      "Training_loss 3.90731,   Relative Error 0.74958\n"
     ]
    },
    {
     "name": "stderr",
     "output_type": "stream",
     "text": [
      "\r",
      "  1%|▏         | 26/2000 [00:03<03:53,  8.47it/s]"
     ]
    },
    {
     "name": "stdout",
     "output_type": "stream",
     "text": [
      "Training_loss 3.77335,   Relative Error 0.73617\n"
     ]
    },
    {
     "name": "stderr",
     "output_type": "stream",
     "text": [
      "\r",
      "  1%|▏         | 27/2000 [00:03<03:54,  8.43it/s]"
     ]
    },
    {
     "name": "stdout",
     "output_type": "stream",
     "text": [
      "Training_loss 3.63884,   Relative Error 0.72295\n"
     ]
    },
    {
     "name": "stderr",
     "output_type": "stream",
     "text": [
      "\r",
      "  1%|▏         | 28/2000 [00:03<03:49,  8.59it/s]"
     ]
    },
    {
     "name": "stdout",
     "output_type": "stream",
     "text": [
      "Training_loss 3.57085,   Relative Error 0.71606\n"
     ]
    },
    {
     "name": "stderr",
     "output_type": "stream",
     "text": [
      "\r",
      "  1%|▏         | 29/2000 [00:03<03:46,  8.69it/s]"
     ]
    },
    {
     "name": "stdout",
     "output_type": "stream",
     "text": [
      "Training_loss 3.48090,   Relative Error 0.70685\n"
     ]
    },
    {
     "name": "stderr",
     "output_type": "stream",
     "text": [
      "\r",
      "  2%|▏         | 30/2000 [00:03<03:45,  8.72it/s]"
     ]
    },
    {
     "name": "stdout",
     "output_type": "stream",
     "text": [
      "Training_loss 3.37505,   Relative Error 0.69581\n"
     ]
    },
    {
     "name": "stderr",
     "output_type": "stream",
     "text": [
      "\r",
      "  2%|▏         | 31/2000 [00:03<03:41,  8.88it/s]"
     ]
    },
    {
     "name": "stdout",
     "output_type": "stream",
     "text": [
      "Training_loss 3.25402,   Relative Error 0.68307\n"
     ]
    },
    {
     "name": "stderr",
     "output_type": "stream",
     "text": [
      "\r",
      "  2%|▏         | 32/2000 [00:03<03:37,  9.06it/s]"
     ]
    },
    {
     "name": "stdout",
     "output_type": "stream",
     "text": [
      "Training_loss 3.15708,   Relative Error 0.67288\n"
     ]
    },
    {
     "name": "stderr",
     "output_type": "stream",
     "text": [
      "\r",
      "  2%|▏         | 33/2000 [00:03<03:37,  9.05it/s]"
     ]
    },
    {
     "name": "stdout",
     "output_type": "stream",
     "text": [
      "Training_loss 2.96024,   Relative Error 0.65225\n"
     ]
    },
    {
     "name": "stderr",
     "output_type": "stream",
     "text": [
      "\r",
      "  2%|▏         | 34/2000 [00:04<03:37,  9.06it/s]"
     ]
    },
    {
     "name": "stdout",
     "output_type": "stream",
     "text": [
      "Training_loss 2.86570,   Relative Error 0.64198\n"
     ]
    },
    {
     "name": "stderr",
     "output_type": "stream",
     "text": [
      "\r",
      "  2%|▏         | 35/2000 [00:04<03:34,  9.16it/s]"
     ]
    },
    {
     "name": "stdout",
     "output_type": "stream",
     "text": [
      "Training_loss 2.77650,   Relative Error 0.63165\n"
     ]
    },
    {
     "name": "stderr",
     "output_type": "stream",
     "text": [
      "\r",
      "  2%|▏         | 36/2000 [00:04<03:30,  9.34it/s]"
     ]
    },
    {
     "name": "stdout",
     "output_type": "stream",
     "text": [
      "Training_loss 2.69065,   Relative Error 0.62198\n"
     ]
    },
    {
     "name": "stderr",
     "output_type": "stream",
     "text": [
      "  2%|▏         | 38/2000 [00:04<03:25,  9.55it/s]"
     ]
    },
    {
     "name": "stdout",
     "output_type": "stream",
     "text": [
      "Training_loss 2.53941,   Relative Error 0.60421\n",
      "Training_loss 2.42884,   Relative Error 0.59095\n"
     ]
    },
    {
     "name": "stderr",
     "output_type": "stream",
     "text": [
      "  2%|▏         | 40/2000 [00:04<03:33,  9.18it/s]"
     ]
    },
    {
     "name": "stdout",
     "output_type": "stream",
     "text": [
      "Training_loss 2.37099,   Relative Error 0.58353\n",
      "Training_loss 2.24910,   Relative Error 0.56849\n"
     ]
    },
    {
     "name": "stderr",
     "output_type": "stream",
     "text": [
      "  2%|▏         | 42/2000 [00:04<03:37,  9.02it/s]"
     ]
    },
    {
     "name": "stdout",
     "output_type": "stream",
     "text": [
      "Training_loss 2.18047,   Relative Error 0.55983\n",
      "Training_loss 2.11354,   Relative Error 0.55121\n"
     ]
    },
    {
     "name": "stderr",
     "output_type": "stream",
     "text": [
      "  2%|▏         | 44/2000 [00:05<03:30,  9.30it/s]"
     ]
    },
    {
     "name": "stdout",
     "output_type": "stream",
     "text": [
      "Training_loss 2.02003,   Relative Error 0.53924\n",
      "Training_loss 1.97719,   Relative Error 0.53333\n"
     ]
    },
    {
     "name": "stderr",
     "output_type": "stream",
     "text": [
      "  2%|▏         | 46/2000 [00:05<03:43,  8.74it/s]"
     ]
    },
    {
     "name": "stdout",
     "output_type": "stream",
     "text": [
      "Training_loss 1.90245,   Relative Error 0.52296\n",
      "Training_loss 1.84698,   Relative Error 0.51544\n"
     ]
    },
    {
     "name": "stderr",
     "output_type": "stream",
     "text": [
      "  2%|▏         | 48/2000 [00:05<04:09,  7.84it/s]"
     ]
    },
    {
     "name": "stdout",
     "output_type": "stream",
     "text": [
      "Training_loss 1.76202,   Relative Error 0.50354\n",
      "Training_loss 1.71508,   Relative Error 0.49685\n"
     ]
    },
    {
     "name": "stderr",
     "output_type": "stream",
     "text": [
      "  2%|▎         | 50/2000 [00:05<03:54,  8.31it/s]"
     ]
    },
    {
     "name": "stdout",
     "output_type": "stream",
     "text": [
      "Training_loss 1.66661,   Relative Error 0.48981\n",
      "Training_loss 1.60502,   Relative Error 0.48091\n"
     ]
    },
    {
     "name": "stderr",
     "output_type": "stream",
     "text": [
      "  3%|▎         | 52/2000 [00:06<03:48,  8.51it/s]"
     ]
    },
    {
     "name": "stdout",
     "output_type": "stream",
     "text": [
      "Training_loss 1.55381,   Relative Error 0.47307\n",
      "Training_loss 1.50777,   Relative Error 0.46593\n"
     ]
    },
    {
     "name": "stderr",
     "output_type": "stream",
     "text": [
      "  3%|▎         | 54/2000 [00:06<05:14,  6.20it/s]"
     ]
    },
    {
     "name": "stdout",
     "output_type": "stream",
     "text": [
      "Training_loss 1.44207,   Relative Error 0.45549\n",
      "Training_loss 1.37930,   Relative Error 0.44515\n"
     ]
    },
    {
     "name": "stderr",
     "output_type": "stream",
     "text": [
      "  3%|▎         | 56/2000 [00:06<05:21,  6.04it/s]"
     ]
    },
    {
     "name": "stdout",
     "output_type": "stream",
     "text": [
      "Training_loss 1.34555,   Relative Error 0.43988\n",
      "Training_loss 1.30363,   Relative Error 0.43280\n"
     ]
    },
    {
     "name": "stderr",
     "output_type": "stream",
     "text": [
      "  3%|▎         | 58/2000 [00:07<04:51,  6.66it/s]"
     ]
    },
    {
     "name": "stdout",
     "output_type": "stream",
     "text": [
      "Training_loss 1.24883,   Relative Error 0.42358\n",
      "Training_loss 1.18580,   Relative Error 0.41286\n"
     ]
    },
    {
     "name": "stderr",
     "output_type": "stream",
     "text": [
      "  3%|▎         | 60/2000 [00:07<04:47,  6.74it/s]"
     ]
    },
    {
     "name": "stdout",
     "output_type": "stream",
     "text": [
      "Training_loss 1.13894,   Relative Error 0.40495\n",
      "Training_loss 1.10698,   Relative Error 0.39918\n"
     ]
    },
    {
     "name": "stderr",
     "output_type": "stream",
     "text": [
      "  3%|▎         | 62/2000 [00:07<04:56,  6.53it/s]"
     ]
    },
    {
     "name": "stdout",
     "output_type": "stream",
     "text": [
      "Training_loss 1.07737,   Relative Error 0.39385\n",
      "Training_loss 1.03252,   Relative Error 0.38555\n"
     ]
    },
    {
     "name": "stderr",
     "output_type": "stream",
     "text": [
      "  3%|▎         | 64/2000 [00:07<04:45,  6.77it/s]"
     ]
    },
    {
     "name": "stdout",
     "output_type": "stream",
     "text": [
      "Training_loss 0.99700,   Relative Error 0.37887\n",
      "Training_loss 0.95586,   Relative Error 0.37125\n"
     ]
    },
    {
     "name": "stderr",
     "output_type": "stream",
     "text": [
      "  3%|▎         | 66/2000 [00:08<04:31,  7.13it/s]"
     ]
    },
    {
     "name": "stdout",
     "output_type": "stream",
     "text": [
      "Training_loss 0.92537,   Relative Error 0.36547\n",
      "Training_loss 0.88236,   Relative Error 0.35694\n"
     ]
    },
    {
     "name": "stderr",
     "output_type": "stream",
     "text": [
      "  3%|▎         | 68/2000 [00:08<04:16,  7.53it/s]"
     ]
    },
    {
     "name": "stdout",
     "output_type": "stream",
     "text": [
      "Training_loss 0.83874,   Relative Error 0.34830\n",
      "Training_loss 0.81624,   Relative Error 0.34367\n"
     ]
    },
    {
     "name": "stderr",
     "output_type": "stream",
     "text": [
      "  4%|▎         | 70/2000 [00:08<04:12,  7.63it/s]"
     ]
    },
    {
     "name": "stdout",
     "output_type": "stream",
     "text": [
      "Training_loss 0.80050,   Relative Error 0.34017\n",
      "Training_loss 0.76601,   Relative Error 0.33299\n"
     ]
    },
    {
     "name": "stderr",
     "output_type": "stream",
     "text": [
      "  4%|▎         | 72/2000 [00:09<04:01,  7.97it/s]"
     ]
    },
    {
     "name": "stdout",
     "output_type": "stream",
     "text": [
      "Training_loss 0.74942,   Relative Error 0.32938\n",
      "Training_loss 0.71538,   Relative Error 0.32200\n"
     ]
    },
    {
     "name": "stderr",
     "output_type": "stream",
     "text": [
      "  4%|▎         | 74/2000 [00:09<04:42,  6.82it/s]"
     ]
    },
    {
     "name": "stdout",
     "output_type": "stream",
     "text": [
      "Training_loss 0.68249,   Relative Error 0.31463\n",
      "Training_loss 0.66227,   Relative Error 0.31007\n"
     ]
    },
    {
     "name": "stderr",
     "output_type": "stream",
     "text": [
      "  4%|▍         | 76/2000 [00:09<04:27,  7.20it/s]"
     ]
    },
    {
     "name": "stdout",
     "output_type": "stream",
     "text": [
      "Training_loss 0.63843,   Relative Error 0.30435\n",
      "Training_loss 0.60956,   Relative Error 0.29725\n"
     ]
    },
    {
     "name": "stderr",
     "output_type": "stream",
     "text": [
      "  4%|▍         | 78/2000 [00:09<04:23,  7.29it/s]"
     ]
    },
    {
     "name": "stdout",
     "output_type": "stream",
     "text": [
      "Training_loss 0.57779,   Relative Error 0.28961\n",
      "Training_loss 0.55121,   Relative Error 0.28300\n"
     ]
    },
    {
     "name": "stderr",
     "output_type": "stream",
     "text": [
      "  4%|▍         | 80/2000 [00:10<03:54,  8.17it/s]"
     ]
    },
    {
     "name": "stdout",
     "output_type": "stream",
     "text": [
      "Training_loss 0.53265,   Relative Error 0.27824\n",
      "Training_loss 0.51484,   Relative Error 0.27367\n"
     ]
    },
    {
     "name": "stderr",
     "output_type": "stream",
     "text": [
      "  4%|▍         | 82/2000 [00:10<03:49,  8.36it/s]"
     ]
    },
    {
     "name": "stdout",
     "output_type": "stream",
     "text": [
      "Training_loss 0.49416,   Relative Error 0.26819\n",
      "Training_loss 0.47918,   Relative Error 0.26422\n"
     ]
    },
    {
     "name": "stderr",
     "output_type": "stream",
     "text": [
      "  4%|▍         | 84/2000 [00:10<03:35,  8.87it/s]"
     ]
    },
    {
     "name": "stdout",
     "output_type": "stream",
     "text": [
      "Training_loss 0.46431,   Relative Error 0.26006\n",
      "Training_loss 0.44415,   Relative Error 0.25443\n"
     ]
    },
    {
     "name": "stderr",
     "output_type": "stream",
     "text": [
      "  4%|▍         | 86/2000 [00:10<03:39,  8.71it/s]"
     ]
    },
    {
     "name": "stdout",
     "output_type": "stream",
     "text": [
      "Training_loss 0.43184,   Relative Error 0.25092\n",
      "Training_loss 0.41403,   Relative Error 0.24579\n"
     ]
    },
    {
     "name": "stderr",
     "output_type": "stream",
     "text": [
      "  4%|▍         | 88/2000 [00:10<03:34,  8.91it/s]"
     ]
    },
    {
     "name": "stdout",
     "output_type": "stream",
     "text": [
      "Training_loss 0.40052,   Relative Error 0.24182\n",
      "Training_loss 0.38758,   Relative Error 0.23789\n"
     ]
    },
    {
     "name": "stderr",
     "output_type": "stream",
     "text": [
      "  5%|▍         | 91/2000 [00:11<03:20,  9.51it/s]"
     ]
    },
    {
     "name": "stdout",
     "output_type": "stream",
     "text": [
      "Training_loss 0.37166,   Relative Error 0.23310\n",
      "Training_loss 0.35766,   Relative Error 0.22867\n",
      "Training_loss 0.34091,   Relative Error 0.22337\n"
     ]
    },
    {
     "name": "stderr",
     "output_type": "stream",
     "text": [
      "\r",
      "  5%|▍         | 93/2000 [00:11<03:23,  9.36it/s]"
     ]
    },
    {
     "name": "stdout",
     "output_type": "stream",
     "text": [
      "Training_loss 0.32988,   Relative Error 0.21972\n",
      "Training_loss 0.31996,   Relative Error 0.21649\n"
     ]
    },
    {
     "name": "stderr",
     "output_type": "stream",
     "text": [
      "  5%|▍         | 95/2000 [00:11<03:25,  9.28it/s]"
     ]
    },
    {
     "name": "stdout",
     "output_type": "stream",
     "text": [
      "Training_loss 0.31222,   Relative Error 0.21388\n",
      "Training_loss 0.29854,   Relative Error 0.20915\n"
     ]
    },
    {
     "name": "stderr",
     "output_type": "stream",
     "text": [
      "\r",
      "  5%|▍         | 97/2000 [00:11<03:25,  9.27it/s]"
     ]
    },
    {
     "name": "stdout",
     "output_type": "stream",
     "text": [
      "Training_loss 0.28933,   Relative Error 0.20595\n",
      "Training_loss 0.27836,   Relative Error 0.20205\n"
     ]
    },
    {
     "name": "stderr",
     "output_type": "stream",
     "text": [
      "  5%|▍         | 99/2000 [00:12<03:21,  9.42it/s]"
     ]
    },
    {
     "name": "stdout",
     "output_type": "stream",
     "text": [
      "Training_loss 0.26840,   Relative Error 0.19843\n",
      "Training_loss 0.25680,   Relative Error 0.19424\n"
     ]
    },
    {
     "name": "stderr",
     "output_type": "stream",
     "text": [
      "  5%|▌         | 101/2000 [00:12<03:28,  9.09it/s]"
     ]
    },
    {
     "name": "stdout",
     "output_type": "stream",
     "text": [
      "Training_loss 0.24686,   Relative Error 0.19044\n",
      "Training_loss 0.24064,   Relative Error 0.18806\n"
     ]
    },
    {
     "name": "stderr",
     "output_type": "stream",
     "text": [
      "  5%|▌         | 103/2000 [00:12<03:22,  9.35it/s]"
     ]
    },
    {
     "name": "stdout",
     "output_type": "stream",
     "text": [
      "Training_loss 0.23523,   Relative Error 0.18596\n",
      "Training_loss 0.22843,   Relative Error 0.18321\n"
     ]
    },
    {
     "name": "stderr",
     "output_type": "stream",
     "text": [
      "  5%|▌         | 105/2000 [00:12<03:18,  9.55it/s]"
     ]
    },
    {
     "name": "stdout",
     "output_type": "stream",
     "text": [
      "Training_loss 0.22085,   Relative Error 0.18013\n",
      "Training_loss 0.21186,   Relative Error 0.17644\n",
      "Training_loss 0.20674,   Relative Error 0.17431\n"
     ]
    },
    {
     "name": "stderr",
     "output_type": "stream",
     "text": [
      "  5%|▌         | 108/2000 [00:13<03:16,  9.64it/s]"
     ]
    },
    {
     "name": "stdout",
     "output_type": "stream",
     "text": [
      "Training_loss 0.19870,   Relative Error 0.17099\n",
      "Training_loss 0.19334,   Relative Error 0.16865\n"
     ]
    },
    {
     "name": "stderr",
     "output_type": "stream",
     "text": [
      "\r",
      "  5%|▌         | 109/2000 [00:13<03:16,  9.64it/s]"
     ]
    },
    {
     "name": "stdout",
     "output_type": "stream",
     "text": [
      "Training_loss 0.18168,   Relative Error 0.16363\n",
      "Training_loss 0.17638,   Relative Error 0.16122\n"
     ]
    },
    {
     "name": "stderr",
     "output_type": "stream",
     "text": [
      "\r",
      "  6%|▌         | 111/2000 [00:13<03:25,  9.21it/s]"
     ]
    },
    {
     "name": "stdout",
     "output_type": "stream",
     "text": [
      "Training_loss 0.17034,   Relative Error 0.15844\n",
      "Training_loss 0.16374,   Relative Error 0.15535\n"
     ]
    },
    {
     "name": "stderr",
     "output_type": "stream",
     "text": [
      "  6%|▌         | 115/2000 [00:13<03:24,  9.23it/s]"
     ]
    },
    {
     "name": "stdout",
     "output_type": "stream",
     "text": [
      "Training_loss 0.15843,   Relative Error 0.15283\n",
      "Training_loss 0.15001,   Relative Error 0.14868\n",
      "Training_loss 0.14501,   Relative Error 0.14616\n"
     ]
    },
    {
     "name": "stderr",
     "output_type": "stream",
     "text": [
      "  6%|▌         | 117/2000 [00:14<03:20,  9.39it/s]"
     ]
    },
    {
     "name": "stdout",
     "output_type": "stream",
     "text": [
      "Training_loss 0.13841,   Relative Error 0.14277\n",
      "Training_loss 0.13236,   Relative Error 0.13970\n"
     ]
    },
    {
     "name": "stderr",
     "output_type": "stream",
     "text": [
      "  6%|▌         | 119/2000 [00:14<03:27,  9.05it/s]"
     ]
    },
    {
     "name": "stdout",
     "output_type": "stream",
     "text": [
      "Training_loss 0.12638,   Relative Error 0.13649\n",
      "Training_loss 0.12288,   Relative Error 0.13461\n"
     ]
    },
    {
     "name": "stderr",
     "output_type": "stream",
     "text": [
      "  6%|▌         | 121/2000 [00:14<03:25,  9.13it/s]"
     ]
    },
    {
     "name": "stdout",
     "output_type": "stream",
     "text": [
      "Training_loss 0.11917,   Relative Error 0.13259\n",
      "Training_loss 0.11638,   Relative Error 0.13107\n",
      "Training_loss 0.11084,   Relative Error 0.12795\n"
     ]
    },
    {
     "name": "stderr",
     "output_type": "stream",
     "text": [
      "  6%|▌         | 124/2000 [00:14<03:22,  9.27it/s]"
     ]
    },
    {
     "name": "stdout",
     "output_type": "stream",
     "text": [
      "Training_loss 0.10818,   Relative Error 0.12640\n",
      "Training_loss 0.10294,   Relative Error 0.12331\n"
     ]
    },
    {
     "name": "stderr",
     "output_type": "stream",
     "text": [
      "  6%|▋         | 126/2000 [00:15<04:00,  7.78it/s]"
     ]
    },
    {
     "name": "stdout",
     "output_type": "stream",
     "text": [
      "Training_loss 0.09997,   Relative Error 0.12155\n",
      "Training_loss 0.09663,   Relative Error 0.11951\n"
     ]
    },
    {
     "name": "stderr",
     "output_type": "stream",
     "text": [
      "  6%|▋         | 128/2000 [00:15<04:05,  7.63it/s]"
     ]
    },
    {
     "name": "stdout",
     "output_type": "stream",
     "text": [
      "Training_loss 0.09343,   Relative Error 0.11759\n",
      "Training_loss 0.09041,   Relative Error 0.11569\n"
     ]
    },
    {
     "name": "stderr",
     "output_type": "stream",
     "text": [
      "  6%|▋         | 130/2000 [00:15<03:58,  7.83it/s]"
     ]
    },
    {
     "name": "stdout",
     "output_type": "stream",
     "text": [
      "Training_loss 0.08748,   Relative Error 0.11380\n",
      "Training_loss 0.08423,   Relative Error 0.11169\n"
     ]
    },
    {
     "name": "stderr",
     "output_type": "stream",
     "text": [
      "  7%|▋         | 132/2000 [00:15<03:46,  8.23it/s]"
     ]
    },
    {
     "name": "stdout",
     "output_type": "stream",
     "text": [
      "Training_loss 0.08266,   Relative Error 0.11063\n",
      "Training_loss 0.08047,   Relative Error 0.10911\n",
      "Training_loss 0.07852,   Relative Error 0.10780\n"
     ]
    },
    {
     "name": "stderr",
     "output_type": "stream",
     "text": [
      "  7%|▋         | 135/2000 [00:16<04:12,  7.39it/s]"
     ]
    },
    {
     "name": "stdout",
     "output_type": "stream",
     "text": [
      "Training_loss 0.07475,   Relative Error 0.10524\n",
      "Training_loss 0.07148,   Relative Error 0.10292\n"
     ]
    },
    {
     "name": "stderr",
     "output_type": "stream",
     "text": [
      "  7%|▋         | 137/2000 [00:16<03:48,  8.15it/s]"
     ]
    },
    {
     "name": "stdout",
     "output_type": "stream",
     "text": [
      "Training_loss 0.06939,   Relative Error 0.10141\n",
      "Training_loss 0.06665,   Relative Error 0.09943\n"
     ]
    },
    {
     "name": "stderr",
     "output_type": "stream",
     "text": [
      "  7%|▋         | 139/2000 [00:16<03:37,  8.56it/s]"
     ]
    },
    {
     "name": "stdout",
     "output_type": "stream",
     "text": [
      "Training_loss 0.06436,   Relative Error 0.09774\n",
      "Training_loss 0.06150,   Relative Error 0.09557\n"
     ]
    },
    {
     "name": "stderr",
     "output_type": "stream",
     "text": [
      "  7%|▋         | 141/2000 [00:16<03:31,  8.80it/s]"
     ]
    },
    {
     "name": "stdout",
     "output_type": "stream",
     "text": [
      "Training_loss 0.05966,   Relative Error 0.09414\n",
      "Training_loss 0.05770,   Relative Error 0.09256\n"
     ]
    },
    {
     "name": "stderr",
     "output_type": "stream",
     "text": [
      "  7%|▋         | 143/2000 [00:17<03:26,  9.00it/s]"
     ]
    },
    {
     "name": "stdout",
     "output_type": "stream",
     "text": [
      "Training_loss 0.05614,   Relative Error 0.09134\n",
      "Training_loss 0.05441,   Relative Error 0.08992\n"
     ]
    },
    {
     "name": "stderr",
     "output_type": "stream",
     "text": [
      "  7%|▋         | 145/2000 [00:17<03:25,  9.03it/s]"
     ]
    },
    {
     "name": "stdout",
     "output_type": "stream",
     "text": [
      "Training_loss 0.05175,   Relative Error 0.08771\n",
      "Training_loss 0.05060,   Relative Error 0.08672\n"
     ]
    },
    {
     "name": "stderr",
     "output_type": "stream",
     "text": [
      "  7%|▋         | 147/2000 [00:17<03:39,  8.42it/s]"
     ]
    },
    {
     "name": "stdout",
     "output_type": "stream",
     "text": [
      "Training_loss 0.04886,   Relative Error 0.08523\n",
      "Training_loss 0.04705,   Relative Error 0.08364\n"
     ]
    },
    {
     "name": "stderr",
     "output_type": "stream",
     "text": [
      "  7%|▋         | 149/2000 [00:17<03:45,  8.20it/s]"
     ]
    },
    {
     "name": "stdout",
     "output_type": "stream",
     "text": [
      "Training_loss 0.04539,   Relative Error 0.08213\n",
      "Training_loss 0.04450,   Relative Error 0.08133\n"
     ]
    },
    {
     "name": "stderr",
     "output_type": "stream",
     "text": [
      "  8%|▊         | 151/2000 [00:18<03:39,  8.42it/s]"
     ]
    },
    {
     "name": "stdout",
     "output_type": "stream",
     "text": [
      "Training_loss 0.04329,   Relative Error 0.08026\n",
      "Training_loss 0.04187,   Relative Error 0.07893\n"
     ]
    },
    {
     "name": "stderr",
     "output_type": "stream",
     "text": [
      "  8%|▊         | 153/2000 [00:18<03:39,  8.43it/s]"
     ]
    },
    {
     "name": "stdout",
     "output_type": "stream",
     "text": [
      "Training_loss 0.04132,   Relative Error 0.07841\n",
      "Training_loss 0.03968,   Relative Error 0.07685\n"
     ]
    },
    {
     "name": "stderr",
     "output_type": "stream",
     "text": [
      "  8%|▊         | 155/2000 [00:18<03:45,  8.20it/s]"
     ]
    },
    {
     "name": "stdout",
     "output_type": "stream",
     "text": [
      "Training_loss 0.03819,   Relative Error 0.07538\n",
      "Training_loss 0.03688,   Relative Error 0.07407\n"
     ]
    },
    {
     "name": "stderr",
     "output_type": "stream",
     "text": [
      "  8%|▊         | 157/2000 [00:18<03:44,  8.21it/s]"
     ]
    },
    {
     "name": "stdout",
     "output_type": "stream",
     "text": [
      "Training_loss 0.03522,   Relative Error 0.07238\n",
      "Training_loss 0.03410,   Relative Error 0.07122\n"
     ]
    },
    {
     "name": "stderr",
     "output_type": "stream",
     "text": [
      "  8%|▊         | 159/2000 [00:19<03:43,  8.24it/s]"
     ]
    },
    {
     "name": "stdout",
     "output_type": "stream",
     "text": [
      "Training_loss 0.03305,   Relative Error 0.07011\n",
      "Training_loss 0.03167,   Relative Error 0.06864\n"
     ]
    },
    {
     "name": "stderr",
     "output_type": "stream",
     "text": [
      "  8%|▊         | 161/2000 [00:19<03:44,  8.19it/s]"
     ]
    },
    {
     "name": "stdout",
     "output_type": "stream",
     "text": [
      "Training_loss 0.03000,   Relative Error 0.06680\n",
      "Training_loss 0.02941,   Relative Error 0.06614\n"
     ]
    },
    {
     "name": "stderr",
     "output_type": "stream",
     "text": [
      "  8%|▊         | 163/2000 [00:19<03:41,  8.31it/s]"
     ]
    },
    {
     "name": "stdout",
     "output_type": "stream",
     "text": [
      "Training_loss 0.02855,   Relative Error 0.06517\n",
      "Training_loss 0.02743,   Relative Error 0.06388\n"
     ]
    },
    {
     "name": "stderr",
     "output_type": "stream",
     "text": [
      "  8%|▊         | 165/2000 [00:19<03:39,  8.37it/s]"
     ]
    },
    {
     "name": "stdout",
     "output_type": "stream",
     "text": [
      "Training_loss 0.02678,   Relative Error 0.06311\n",
      "Training_loss 0.02594,   Relative Error 0.06212\n"
     ]
    },
    {
     "name": "stderr",
     "output_type": "stream",
     "text": [
      "  8%|▊         | 167/2000 [00:20<03:40,  8.33it/s]"
     ]
    },
    {
     "name": "stdout",
     "output_type": "stream",
     "text": [
      "Training_loss 0.02487,   Relative Error 0.06084\n",
      "Training_loss 0.02363,   Relative Error 0.05931\n"
     ]
    },
    {
     "name": "stderr",
     "output_type": "stream",
     "text": [
      "  8%|▊         | 170/2000 [00:20<03:25,  8.90it/s]"
     ]
    },
    {
     "name": "stdout",
     "output_type": "stream",
     "text": [
      "Training_loss 0.02262,   Relative Error 0.05805\n",
      "Training_loss 0.02214,   Relative Error 0.05742\n",
      "Training_loss 0.02130,   Relative Error 0.05633\n"
     ]
    },
    {
     "name": "stderr",
     "output_type": "stream",
     "text": [
      "  9%|▊         | 172/2000 [00:20<03:29,  8.71it/s]"
     ]
    },
    {
     "name": "stdout",
     "output_type": "stream",
     "text": [
      "Training_loss 0.02042,   Relative Error 0.05516\n",
      "Training_loss 0.01959,   Relative Error 0.05403\n"
     ]
    },
    {
     "name": "stderr",
     "output_type": "stream",
     "text": [
      "  9%|▊         | 174/2000 [00:20<03:26,  8.86it/s]"
     ]
    },
    {
     "name": "stdout",
     "output_type": "stream",
     "text": [
      "Training_loss 0.01883,   Relative Error 0.05297\n",
      "Training_loss 0.01805,   Relative Error 0.05188\n"
     ]
    },
    {
     "name": "stderr",
     "output_type": "stream",
     "text": [
      "  9%|▉         | 176/2000 [00:21<03:29,  8.73it/s]"
     ]
    },
    {
     "name": "stdout",
     "output_type": "stream",
     "text": [
      "Training_loss 0.01740,   Relative Error 0.05091\n",
      "Training_loss 0.01654,   Relative Error 0.04964\n"
     ]
    },
    {
     "name": "stderr",
     "output_type": "stream",
     "text": [
      "  9%|▉         | 178/2000 [00:21<03:40,  8.28it/s]"
     ]
    },
    {
     "name": "stdout",
     "output_type": "stream",
     "text": [
      "Training_loss 0.01596,   Relative Error 0.04877\n",
      "Training_loss 0.01547,   Relative Error 0.04803\n"
     ]
    },
    {
     "name": "stderr",
     "output_type": "stream",
     "text": [
      "  9%|▉         | 180/2000 [00:21<03:32,  8.57it/s]"
     ]
    },
    {
     "name": "stdout",
     "output_type": "stream",
     "text": [
      "Training_loss 0.01492,   Relative Error 0.04717\n",
      "Training_loss 0.01434,   Relative Error 0.04623\n"
     ]
    },
    {
     "name": "stderr",
     "output_type": "stream",
     "text": [
      "  9%|▉         | 182/2000 [00:21<03:42,  8.17it/s]"
     ]
    },
    {
     "name": "stdout",
     "output_type": "stream",
     "text": [
      "Training_loss 0.01378,   Relative Error 0.04533\n",
      "Training_loss 0.01347,   Relative Error 0.04481\n"
     ]
    },
    {
     "name": "stderr",
     "output_type": "stream",
     "text": [
      "  9%|▉         | 184/2000 [00:22<03:38,  8.33it/s]"
     ]
    },
    {
     "name": "stdout",
     "output_type": "stream",
     "text": [
      "Training_loss 0.01303,   Relative Error 0.04405\n",
      "Training_loss 0.01266,   Relative Error 0.04342\n"
     ]
    },
    {
     "name": "stderr",
     "output_type": "stream",
     "text": [
      "  9%|▉         | 186/2000 [00:22<04:20,  6.95it/s]"
     ]
    },
    {
     "name": "stdout",
     "output_type": "stream",
     "text": [
      "Training_loss 0.01206,   Relative Error 0.04237\n",
      "Training_loss 0.01173,   Relative Error 0.04180\n"
     ]
    },
    {
     "name": "stderr",
     "output_type": "stream",
     "text": [
      "  9%|▉         | 188/2000 [00:22<04:22,  6.91it/s]"
     ]
    },
    {
     "name": "stdout",
     "output_type": "stream",
     "text": [
      "Training_loss 0.01138,   Relative Error 0.04117\n",
      "Training_loss 0.01105,   Relative Error 0.04056\n"
     ]
    },
    {
     "name": "stderr",
     "output_type": "stream",
     "text": [
      " 10%|▉         | 190/2000 [00:22<04:16,  7.05it/s]"
     ]
    },
    {
     "name": "stdout",
     "output_type": "stream",
     "text": [
      "Training_loss 0.01078,   Relative Error 0.04007\n",
      "Training_loss 0.01021,   Relative Error 0.03900\n"
     ]
    },
    {
     "name": "stderr",
     "output_type": "stream",
     "text": [
      " 10%|▉         | 192/2000 [00:23<04:19,  6.96it/s]"
     ]
    },
    {
     "name": "stdout",
     "output_type": "stream",
     "text": [
      "Training_loss 0.00988,   Relative Error 0.03837\n",
      "Training_loss 0.00953,   Relative Error 0.03769\n"
     ]
    },
    {
     "name": "stderr",
     "output_type": "stream",
     "text": [
      " 10%|▉         | 194/2000 [00:23<04:42,  6.39it/s]"
     ]
    },
    {
     "name": "stdout",
     "output_type": "stream",
     "text": [
      "Training_loss 0.00917,   Relative Error 0.03698\n",
      "Training_loss 0.00886,   Relative Error 0.03635\n"
     ]
    },
    {
     "name": "stderr",
     "output_type": "stream",
     "text": [
      " 10%|▉         | 196/2000 [00:23<05:09,  5.84it/s]"
     ]
    },
    {
     "name": "stdout",
     "output_type": "stream",
     "text": [
      "Training_loss 0.00860,   Relative Error 0.03581\n",
      "Training_loss 0.00833,   Relative Error 0.03523\n"
     ]
    },
    {
     "name": "stderr",
     "output_type": "stream",
     "text": [
      " 10%|▉         | 198/2000 [00:24<04:22,  6.87it/s]"
     ]
    },
    {
     "name": "stdout",
     "output_type": "stream",
     "text": [
      "Training_loss 0.00798,   Relative Error 0.03450\n",
      "Training_loss 0.00778,   Relative Error 0.03407\n"
     ]
    },
    {
     "name": "stderr",
     "output_type": "stream",
     "text": [
      " 10%|█         | 200/2000 [00:24<04:02,  7.41it/s]"
     ]
    },
    {
     "name": "stdout",
     "output_type": "stream",
     "text": [
      "Training_loss 0.00757,   Relative Error 0.03360\n",
      "Training_loss 0.00728,   Relative Error 0.03294\n"
     ]
    },
    {
     "name": "stderr",
     "output_type": "stream",
     "text": [
      " 10%|█         | 202/2000 [00:24<03:53,  7.70it/s]"
     ]
    },
    {
     "name": "stdout",
     "output_type": "stream",
     "text": [
      "Training_loss 0.00694,   Relative Error 0.03219\n",
      "Training_loss 0.00671,   Relative Error 0.03165\n"
     ]
    },
    {
     "name": "stderr",
     "output_type": "stream",
     "text": [
      " 10%|█         | 204/2000 [00:24<03:50,  7.78it/s]"
     ]
    },
    {
     "name": "stdout",
     "output_type": "stream",
     "text": [
      "Training_loss 0.00641,   Relative Error 0.03092\n",
      "Training_loss 0.00617,   Relative Error 0.03034\n"
     ]
    },
    {
     "name": "stderr",
     "output_type": "stream",
     "text": [
      " 10%|█         | 206/2000 [00:25<03:47,  7.89it/s]"
     ]
    },
    {
     "name": "stdout",
     "output_type": "stream",
     "text": [
      "Training_loss 0.00595,   Relative Error 0.02979\n",
      "Training_loss 0.00570,   Relative Error 0.02915\n"
     ]
    },
    {
     "name": "stderr",
     "output_type": "stream",
     "text": [
      " 10%|█         | 208/2000 [00:25<03:40,  8.14it/s]"
     ]
    },
    {
     "name": "stdout",
     "output_type": "stream",
     "text": [
      "Training_loss 0.00545,   Relative Error 0.02850\n",
      "Training_loss 0.00531,   Relative Error 0.02814\n"
     ]
    },
    {
     "name": "stderr",
     "output_type": "stream",
     "text": [
      " 10%|█         | 210/2000 [00:25<03:32,  8.41it/s]"
     ]
    },
    {
     "name": "stdout",
     "output_type": "stream",
     "text": [
      "Training_loss 0.00516,   Relative Error 0.02772\n",
      "Training_loss 0.00505,   Relative Error 0.02744\n"
     ]
    },
    {
     "name": "stderr",
     "output_type": "stream",
     "text": [
      "\r",
      " 11%|█         | 211/2000 [00:25<03:32,  8.43it/s]"
     ]
    },
    {
     "name": "stdout",
     "output_type": "stream",
     "text": [
      "Training_loss 0.00488,   Relative Error 0.02696\n",
      "Training_loss 0.00468,   Relative Error 0.02642\n"
     ]
    },
    {
     "name": "stderr",
     "output_type": "stream",
     "text": [
      " 11%|█         | 214/2000 [00:26<03:26,  8.63it/s]"
     ]
    },
    {
     "name": "stdout",
     "output_type": "stream",
     "text": [
      "Training_loss 0.00446,   Relative Error 0.02579\n",
      "Training_loss 0.00435,   Relative Error 0.02545\n"
     ]
    },
    {
     "name": "stderr",
     "output_type": "stream",
     "text": [
      " 11%|█         | 216/2000 [00:26<03:23,  8.77it/s]"
     ]
    },
    {
     "name": "stdout",
     "output_type": "stream",
     "text": [
      "Training_loss 0.00416,   Relative Error 0.02489\n",
      "Training_loss 0.00405,   Relative Error 0.02455\n",
      "Training_loss 0.00392,   Relative Error 0.02415\n"
     ]
    },
    {
     "name": "stderr",
     "output_type": "stream",
     "text": [
      " 11%|█         | 220/2000 [00:26<03:07,  9.50it/s]"
     ]
    },
    {
     "name": "stdout",
     "output_type": "stream",
     "text": [
      "Training_loss 0.00380,   Relative Error 0.02379\n",
      "Training_loss 0.00368,   Relative Error 0.02342\n",
      "Training_loss 0.00353,   Relative Error 0.02294\n"
     ]
    },
    {
     "name": "stderr",
     "output_type": "stream",
     "text": [
      " 11%|█         | 222/2000 [00:26<03:09,  9.39it/s]"
     ]
    },
    {
     "name": "stdout",
     "output_type": "stream",
     "text": [
      "Training_loss 0.00335,   Relative Error 0.02234\n",
      "Training_loss 0.00323,   Relative Error 0.02193\n"
     ]
    },
    {
     "name": "stderr",
     "output_type": "stream",
     "text": [
      " 11%|█▏        | 225/2000 [00:27<03:39,  8.08it/s]"
     ]
    },
    {
     "name": "stdout",
     "output_type": "stream",
     "text": [
      "Training_loss 0.00311,   Relative Error 0.02151\n",
      "Training_loss 0.00297,   Relative Error 0.02102\n",
      "Training_loss 0.00289,   Relative Error 0.02075\n"
     ]
    },
    {
     "name": "stderr",
     "output_type": "stream",
     "text": [
      " 11%|█▏        | 228/2000 [00:27<03:11,  9.25it/s]"
     ]
    },
    {
     "name": "stdout",
     "output_type": "stream",
     "text": [
      "Training_loss 0.00277,   Relative Error 0.02032\n",
      "Training_loss 0.00268,   Relative Error 0.01998\n",
      "Training_loss 0.00260,   Relative Error 0.01967\n"
     ]
    },
    {
     "name": "stderr",
     "output_type": "stream",
     "text": [
      "\r",
      " 12%|█▏        | 230/2000 [00:27<03:05,  9.55it/s]"
     ]
    },
    {
     "name": "stdout",
     "output_type": "stream",
     "text": [
      "Training_loss 0.00249,   Relative Error 0.01925\n",
      "Training_loss 0.00241,   Relative Error 0.01893\n"
     ]
    },
    {
     "name": "stderr",
     "output_type": "stream",
     "text": [
      "\r",
      " 12%|█▏        | 231/2000 [00:28<03:03,  9.63it/s]"
     ]
    },
    {
     "name": "stdout",
     "output_type": "stream",
     "text": [
      "Training_loss 0.00234,   Relative Error 0.01865\n",
      "Training_loss 0.00226,   Relative Error 0.01835\n"
     ]
    },
    {
     "name": "stderr",
     "output_type": "stream",
     "text": [
      " 12%|█▏        | 234/2000 [00:28<03:08,  9.36it/s]"
     ]
    },
    {
     "name": "stdout",
     "output_type": "stream",
     "text": [
      "Training_loss 0.00220,   Relative Error 0.01810\n",
      "Training_loss 0.00209,   Relative Error 0.01765\n"
     ]
    },
    {
     "name": "stderr",
     "output_type": "stream",
     "text": [
      "\r",
      " 12%|█▏        | 235/2000 [00:28<03:36,  8.14it/s]"
     ]
    },
    {
     "name": "stdout",
     "output_type": "stream",
     "text": [
      "Training_loss 0.00201,   Relative Error 0.01732\n"
     ]
    },
    {
     "name": "stderr",
     "output_type": "stream",
     "text": [
      " 12%|█▏        | 237/2000 [00:28<04:04,  7.20it/s]"
     ]
    },
    {
     "name": "stdout",
     "output_type": "stream",
     "text": [
      "Training_loss 0.00193,   Relative Error 0.01696\n",
      "Training_loss 0.00185,   Relative Error 0.01658\n"
     ]
    },
    {
     "name": "stderr",
     "output_type": "stream",
     "text": [
      " 12%|█▏        | 239/2000 [00:29<03:35,  8.16it/s]"
     ]
    },
    {
     "name": "stdout",
     "output_type": "stream",
     "text": [
      "Training_loss 0.00179,   Relative Error 0.01633\n",
      "Training_loss 0.00170,   Relative Error 0.01590\n"
     ]
    },
    {
     "name": "stderr",
     "output_type": "stream",
     "text": [
      " 12%|█▏        | 241/2000 [00:29<03:20,  8.78it/s]"
     ]
    },
    {
     "name": "stdout",
     "output_type": "stream",
     "text": [
      "Training_loss 0.00162,   Relative Error 0.01555\n",
      "Training_loss 0.00156,   Relative Error 0.01525\n"
     ]
    },
    {
     "name": "stderr",
     "output_type": "stream",
     "text": [
      " 12%|█▏        | 243/2000 [00:29<03:33,  8.21it/s]"
     ]
    },
    {
     "name": "stdout",
     "output_type": "stream",
     "text": [
      "Training_loss 0.00151,   Relative Error 0.01500\n",
      "Training_loss 0.00146,   Relative Error 0.01472\n"
     ]
    },
    {
     "name": "stderr",
     "output_type": "stream",
     "text": [
      " 12%|█▏        | 245/2000 [00:29<03:41,  7.94it/s]"
     ]
    },
    {
     "name": "stdout",
     "output_type": "stream",
     "text": [
      "Training_loss 0.00140,   Relative Error 0.01443\n",
      "Training_loss 0.00132,   Relative Error 0.01401\n"
     ]
    },
    {
     "name": "stderr",
     "output_type": "stream",
     "text": [
      " 12%|█▏        | 247/2000 [00:30<03:33,  8.21it/s]"
     ]
    },
    {
     "name": "stdout",
     "output_type": "stream",
     "text": [
      "Training_loss 0.00127,   Relative Error 0.01374\n",
      "Training_loss 0.00120,   Relative Error 0.01335\n"
     ]
    },
    {
     "name": "stderr",
     "output_type": "stream",
     "text": [
      " 12%|█▏        | 249/2000 [00:30<03:30,  8.32it/s]"
     ]
    },
    {
     "name": "stdout",
     "output_type": "stream",
     "text": [
      "Training_loss 0.00115,   Relative Error 0.01306\n",
      "Training_loss 0.00110,   Relative Error 0.01281\n"
     ]
    },
    {
     "name": "stderr",
     "output_type": "stream",
     "text": [
      " 13%|█▎        | 251/2000 [00:30<03:46,  7.73it/s]"
     ]
    },
    {
     "name": "stdout",
     "output_type": "stream",
     "text": [
      "Training_loss 0.00108,   Relative Error 0.01266\n",
      "Training_loss 0.00104,   Relative Error 0.01246\n"
     ]
    },
    {
     "name": "stderr",
     "output_type": "stream",
     "text": [
      " 13%|█▎        | 253/2000 [00:30<03:35,  8.11it/s]"
     ]
    },
    {
     "name": "stdout",
     "output_type": "stream",
     "text": [
      "Training_loss 0.00101,   Relative Error 0.01226\n",
      "Training_loss 0.00096,   Relative Error 0.01194\n"
     ]
    },
    {
     "name": "stderr",
     "output_type": "stream",
     "text": [
      " 13%|█▎        | 255/2000 [00:31<03:50,  7.56it/s]"
     ]
    },
    {
     "name": "stdout",
     "output_type": "stream",
     "text": [
      "Training_loss 0.00092,   Relative Error 0.01170\n",
      "Training_loss 0.00087,   Relative Error 0.01137\n"
     ]
    },
    {
     "name": "stderr",
     "output_type": "stream",
     "text": [
      " 13%|█▎        | 257/2000 [00:31<03:35,  8.10it/s]"
     ]
    },
    {
     "name": "stdout",
     "output_type": "stream",
     "text": [
      "Training_loss 0.00083,   Relative Error 0.01114\n",
      "Training_loss 0.00080,   Relative Error 0.01090\n"
     ]
    },
    {
     "name": "stderr",
     "output_type": "stream",
     "text": [
      " 13%|█▎        | 260/2000 [00:31<03:18,  8.78it/s]"
     ]
    },
    {
     "name": "stdout",
     "output_type": "stream",
     "text": [
      "Training_loss 0.00077,   Relative Error 0.01073\n",
      "Training_loss 0.00073,   Relative Error 0.01042\n",
      "Training_loss 0.00069,   Relative Error 0.01014\n"
     ]
    },
    {
     "name": "stderr",
     "output_type": "stream",
     "text": [
      " 13%|█▎        | 262/2000 [00:31<03:21,  8.61it/s]"
     ]
    },
    {
     "name": "stdout",
     "output_type": "stream",
     "text": [
      "Training_loss 0.00067,   Relative Error 0.00996\n",
      "Training_loss 0.00064,   Relative Error 0.00973\n"
     ]
    },
    {
     "name": "stderr",
     "output_type": "stream",
     "text": [
      " 13%|█▎        | 265/2000 [00:32<03:12,  8.99it/s]"
     ]
    },
    {
     "name": "stdout",
     "output_type": "stream",
     "text": [
      "Training_loss 0.00062,   Relative Error 0.00957\n",
      "Training_loss 0.00059,   Relative Error 0.00938\n",
      "Training_loss 0.00057,   Relative Error 0.00919\n"
     ]
    },
    {
     "name": "stderr",
     "output_type": "stream",
     "text": [
      "\r",
      " 13%|█▎        | 266/2000 [00:32<03:14,  8.92it/s]"
     ]
    },
    {
     "name": "stdout",
     "output_type": "stream",
     "text": [
      "Training_loss 0.00055,   Relative Error 0.00900\n",
      "Training_loss 0.00052,   Relative Error 0.00876\n"
     ]
    },
    {
     "name": "stderr",
     "output_type": "stream",
     "text": [
      " 13%|█▎        | 269/2000 [00:32<03:34,  8.06it/s]"
     ]
    },
    {
     "name": "stdout",
     "output_type": "stream",
     "text": [
      "Training_loss 0.00049,   Relative Error 0.00850\n",
      "Training_loss 0.00046,   Relative Error 0.00828\n"
     ]
    },
    {
     "name": "stderr",
     "output_type": "stream",
     "text": [
      " 14%|█▎        | 271/2000 [00:32<03:40,  7.85it/s]"
     ]
    },
    {
     "name": "stdout",
     "output_type": "stream",
     "text": [
      "Training_loss 0.00045,   Relative Error 0.00816\n",
      "Training_loss 0.00043,   Relative Error 0.00799\n"
     ]
    },
    {
     "name": "stderr",
     "output_type": "stream",
     "text": [
      " 14%|█▎        | 273/2000 [00:33<03:38,  7.92it/s]"
     ]
    },
    {
     "name": "stdout",
     "output_type": "stream",
     "text": [
      "Training_loss 0.00041,   Relative Error 0.00775\n",
      "Training_loss 0.00039,   Relative Error 0.00760\n"
     ]
    },
    {
     "name": "stderr",
     "output_type": "stream",
     "text": [
      " 14%|█▍        | 275/2000 [00:33<03:37,  7.92it/s]"
     ]
    },
    {
     "name": "stdout",
     "output_type": "stream",
     "text": [
      "Training_loss 0.00038,   Relative Error 0.00747\n",
      "Training_loss 0.00036,   Relative Error 0.00734\n"
     ]
    },
    {
     "name": "stderr",
     "output_type": "stream",
     "text": [
      " 14%|█▍        | 277/2000 [00:33<03:27,  8.30it/s]"
     ]
    },
    {
     "name": "stdout",
     "output_type": "stream",
     "text": [
      "Training_loss 0.00035,   Relative Error 0.00720\n",
      "Training_loss 0.00033,   Relative Error 0.00703\n"
     ]
    },
    {
     "name": "stderr",
     "output_type": "stream",
     "text": [
      " 14%|█▍        | 279/2000 [00:33<03:26,  8.33it/s]"
     ]
    },
    {
     "name": "stdout",
     "output_type": "stream",
     "text": [
      "Training_loss 0.00032,   Relative Error 0.00685\n",
      "Training_loss 0.00031,   Relative Error 0.00673\n"
     ]
    },
    {
     "name": "stderr",
     "output_type": "stream",
     "text": [
      " 14%|█▍        | 281/2000 [00:34<03:26,  8.31it/s]"
     ]
    },
    {
     "name": "stdout",
     "output_type": "stream",
     "text": [
      "Training_loss 0.00030,   Relative Error 0.00660\n",
      "Training_loss 0.00028,   Relative Error 0.00641\n"
     ]
    },
    {
     "name": "stderr",
     "output_type": "stream",
     "text": [
      " 14%|█▍        | 283/2000 [00:34<03:10,  9.00it/s]"
     ]
    },
    {
     "name": "stdout",
     "output_type": "stream",
     "text": [
      "Training_loss 0.00027,   Relative Error 0.00628\n",
      "Training_loss 0.00025,   Relative Error 0.00609\n"
     ]
    },
    {
     "name": "stderr",
     "output_type": "stream",
     "text": [
      " 14%|█▍        | 285/2000 [00:34<03:02,  9.41it/s]"
     ]
    },
    {
     "name": "stdout",
     "output_type": "stream",
     "text": [
      "Training_loss 0.00024,   Relative Error 0.00592\n",
      "Training_loss 0.00023,   Relative Error 0.00576\n"
     ]
    },
    {
     "name": "stderr",
     "output_type": "stream",
     "text": [
      " 14%|█▍        | 287/2000 [00:34<03:01,  9.44it/s]"
     ]
    },
    {
     "name": "stdout",
     "output_type": "stream",
     "text": [
      "Training_loss 0.00021,   Relative Error 0.00559\n",
      "Training_loss 0.00021,   Relative Error 0.00550\n"
     ]
    },
    {
     "name": "stderr",
     "output_type": "stream",
     "text": [
      "\r",
      " 14%|█▍        | 288/2000 [00:35<03:55,  7.28it/s]"
     ]
    },
    {
     "name": "stdout",
     "output_type": "stream",
     "text": [
      "Training_loss 0.00020,   Relative Error 0.00541\n"
     ]
    },
    {
     "name": "stderr",
     "output_type": "stream",
     "text": [
      "\r",
      " 14%|█▍        | 289/2000 [00:35<04:46,  5.96it/s]"
     ]
    },
    {
     "name": "stdout",
     "output_type": "stream",
     "text": [
      "Training_loss 0.00019,   Relative Error 0.00531\n"
     ]
    },
    {
     "name": "stderr",
     "output_type": "stream",
     "text": [
      " 15%|█▍        | 291/2000 [00:35<05:24,  5.27it/s]"
     ]
    },
    {
     "name": "stdout",
     "output_type": "stream",
     "text": [
      "Training_loss 0.00018,   Relative Error 0.00519\n",
      "Training_loss 0.00018,   Relative Error 0.00507\n"
     ]
    },
    {
     "name": "stderr",
     "output_type": "stream",
     "text": [
      " 15%|█▍        | 293/2000 [00:36<05:59,  4.75it/s]"
     ]
    },
    {
     "name": "stdout",
     "output_type": "stream",
     "text": [
      "Training_loss 0.00017,   Relative Error 0.00491\n",
      "Training_loss 0.00016,   Relative Error 0.00481\n"
     ]
    },
    {
     "name": "stderr",
     "output_type": "stream",
     "text": [
      " 15%|█▍        | 295/2000 [00:36<05:03,  5.61it/s]"
     ]
    },
    {
     "name": "stdout",
     "output_type": "stream",
     "text": [
      "Training_loss 0.00015,   Relative Error 0.00471\n",
      "Training_loss 0.00015,   Relative Error 0.00461\n"
     ]
    },
    {
     "name": "stderr",
     "output_type": "stream",
     "text": [
      " 15%|█▍        | 297/2000 [00:36<04:26,  6.40it/s]"
     ]
    },
    {
     "name": "stdout",
     "output_type": "stream",
     "text": [
      "Training_loss 0.00014,   Relative Error 0.00450\n",
      "Training_loss 0.00013,   Relative Error 0.00439\n"
     ]
    },
    {
     "name": "stderr",
     "output_type": "stream",
     "text": [
      " 15%|█▍        | 299/2000 [00:37<04:18,  6.59it/s]"
     ]
    },
    {
     "name": "stdout",
     "output_type": "stream",
     "text": [
      "Training_loss 0.00013,   Relative Error 0.00431\n",
      "Training_loss 0.00012,   Relative Error 0.00421\n"
     ]
    },
    {
     "name": "stderr",
     "output_type": "stream",
     "text": [
      " 15%|█▌        | 301/2000 [00:37<04:06,  6.88it/s]"
     ]
    },
    {
     "name": "stdout",
     "output_type": "stream",
     "text": [
      "Training_loss 0.00011,   Relative Error 0.00408\n",
      "Training_loss 0.00011,   Relative Error 0.00399\n"
     ]
    },
    {
     "name": "stderr",
     "output_type": "stream",
     "text": [
      " 15%|█▌        | 303/2000 [00:37<04:36,  6.13it/s]"
     ]
    },
    {
     "name": "stdout",
     "output_type": "stream",
     "text": [
      "Training_loss 0.00011,   Relative Error 0.00391\n",
      "Training_loss 0.00010,   Relative Error 0.00380\n"
     ]
    },
    {
     "name": "stderr",
     "output_type": "stream",
     "text": [
      " 15%|█▌        | 305/2000 [00:37<03:49,  7.39it/s]"
     ]
    },
    {
     "name": "stdout",
     "output_type": "stream",
     "text": [
      "Training_loss 0.00009,   Relative Error 0.00369\n",
      "Training_loss 0.00009,   Relative Error 0.00361\n"
     ]
    },
    {
     "name": "stderr",
     "output_type": "stream",
     "text": [
      " 15%|█▌        | 307/2000 [00:38<03:24,  8.27it/s]"
     ]
    },
    {
     "name": "stdout",
     "output_type": "stream",
     "text": [
      "Training_loss 0.00009,   Relative Error 0.00353\n",
      "Training_loss 0.00008,   Relative Error 0.00340\n"
     ]
    },
    {
     "name": "stderr",
     "output_type": "stream",
     "text": [
      " 15%|█▌        | 309/2000 [00:38<03:38,  7.74it/s]"
     ]
    },
    {
     "name": "stdout",
     "output_type": "stream",
     "text": [
      "Training_loss 0.00008,   Relative Error 0.00332\n",
      "Training_loss 0.00007,   Relative Error 0.00322\n"
     ]
    },
    {
     "name": "stderr",
     "output_type": "stream",
     "text": [
      " 16%|█▌        | 311/2000 [00:38<04:00,  7.01it/s]"
     ]
    },
    {
     "name": "stdout",
     "output_type": "stream",
     "text": [
      "Training_loss 0.00007,   Relative Error 0.00314\n",
      "Training_loss 0.00007,   Relative Error 0.00307\n"
     ]
    },
    {
     "name": "stderr",
     "output_type": "stream",
     "text": [
      " 16%|█▌        | 313/2000 [00:38<04:04,  6.90it/s]"
     ]
    },
    {
     "name": "stdout",
     "output_type": "stream",
     "text": [
      "Training_loss 0.00006,   Relative Error 0.00300\n",
      "Training_loss 0.00006,   Relative Error 0.00289\n"
     ]
    },
    {
     "name": "stderr",
     "output_type": "stream",
     "text": [
      " 16%|█▌        | 315/2000 [00:39<04:10,  6.74it/s]"
     ]
    },
    {
     "name": "stdout",
     "output_type": "stream",
     "text": [
      "Training_loss 0.00006,   Relative Error 0.00281\n",
      "Training_loss 0.00005,   Relative Error 0.00272\n"
     ]
    },
    {
     "name": "stderr",
     "output_type": "stream",
     "text": [
      " 16%|█▌        | 317/2000 [00:39<04:07,  6.79it/s]"
     ]
    },
    {
     "name": "stdout",
     "output_type": "stream",
     "text": [
      "Training_loss 0.00005,   Relative Error 0.00263\n",
      "Training_loss 0.00005,   Relative Error 0.00254\n"
     ]
    },
    {
     "name": "stderr",
     "output_type": "stream",
     "text": [
      "\r",
      " 16%|█▌        | 318/2000 [00:39<04:33,  6.16it/s]"
     ]
    },
    {
     "name": "stdout",
     "output_type": "stream",
     "text": [
      "Training_loss 0.00004,   Relative Error 0.00246\n"
     ]
    },
    {
     "name": "stderr",
     "output_type": "stream",
     "text": [
      "\r",
      " 16%|█▌        | 319/2000 [00:39<05:04,  5.53it/s]"
     ]
    },
    {
     "name": "stdout",
     "output_type": "stream",
     "text": [
      "Training_loss 0.00004,   Relative Error 0.00240\n",
      "Training_loss 0.00004,   Relative Error 0.00233\n"
     ]
    },
    {
     "name": "stderr",
     "output_type": "stream",
     "text": [
      " 16%|█▌        | 322/2000 [00:40<03:53,  7.20it/s]"
     ]
    },
    {
     "name": "stdout",
     "output_type": "stream",
     "text": [
      "Training_loss 0.00004,   Relative Error 0.00225\n",
      "Training_loss 0.00003,   Relative Error 0.00218\n"
     ]
    },
    {
     "name": "stderr",
     "output_type": "stream",
     "text": [
      " 16%|█▌        | 324/2000 [00:40<03:38,  7.67it/s]"
     ]
    },
    {
     "name": "stdout",
     "output_type": "stream",
     "text": [
      "Training_loss 0.00003,   Relative Error 0.00210\n",
      "Training_loss 0.00003,   Relative Error 0.00203\n"
     ]
    },
    {
     "name": "stderr",
     "output_type": "stream",
     "text": [
      " 16%|█▋        | 326/2000 [00:40<03:32,  7.89it/s]"
     ]
    },
    {
     "name": "stdout",
     "output_type": "stream",
     "text": [
      "Training_loss 0.00003,   Relative Error 0.00196\n",
      "Training_loss 0.00003,   Relative Error 0.00190\n"
     ]
    },
    {
     "name": "stderr",
     "output_type": "stream",
     "text": [
      " 16%|█▋        | 328/2000 [00:41<03:29,  8.00it/s]"
     ]
    },
    {
     "name": "stdout",
     "output_type": "stream",
     "text": [
      "Training_loss 0.00003,   Relative Error 0.00182\n",
      "Training_loss 0.00002,   Relative Error 0.00176\n"
     ]
    },
    {
     "name": "stderr",
     "output_type": "stream",
     "text": [
      " 16%|█▋        | 330/2000 [00:41<03:24,  8.16it/s]"
     ]
    },
    {
     "name": "stdout",
     "output_type": "stream",
     "text": [
      "Training_loss 0.00002,   Relative Error 0.00168\n",
      "Training_loss 0.00002,   Relative Error 0.00163\n"
     ]
    },
    {
     "name": "stderr",
     "output_type": "stream",
     "text": [
      " 17%|█▋        | 332/2000 [00:41<03:28,  7.98it/s]"
     ]
    },
    {
     "name": "stdout",
     "output_type": "stream",
     "text": [
      "Training_loss 0.00002,   Relative Error 0.00157\n",
      "Training_loss 0.00002,   Relative Error 0.00151\n"
     ]
    },
    {
     "name": "stderr",
     "output_type": "stream",
     "text": [
      " 17%|█▋        | 335/2000 [00:41<03:04,  9.04it/s]"
     ]
    },
    {
     "name": "stdout",
     "output_type": "stream",
     "text": [
      "Training_loss 0.00002,   Relative Error 0.00145\n",
      "Training_loss 0.00002,   Relative Error 0.00138\n",
      "Training_loss 0.00001,   Relative Error 0.00132\n"
     ]
    },
    {
     "name": "stderr",
     "output_type": "stream",
     "text": [
      " 17%|█▋        | 337/2000 [00:42<03:11,  8.71it/s]"
     ]
    },
    {
     "name": "stdout",
     "output_type": "stream",
     "text": [
      "Training_loss 0.00001,   Relative Error 0.00125\n",
      "Training_loss 0.00001,   Relative Error 0.00119\n"
     ]
    },
    {
     "name": "stderr",
     "output_type": "stream",
     "text": [
      "\r",
      " 17%|█▋        | 338/2000 [00:42<03:11,  8.67it/s]"
     ]
    },
    {
     "name": "stdout",
     "output_type": "stream",
     "text": [
      "Training_loss 0.00001,   Relative Error 0.00114\n",
      "Training_loss 0.00001,   Relative Error 0.00108\n"
     ]
    },
    {
     "name": "stderr",
     "output_type": "stream",
     "text": [
      " 17%|█▋        | 341/2000 [00:42<03:07,  8.85it/s]"
     ]
    },
    {
     "name": "stdout",
     "output_type": "stream",
     "text": [
      "Training_loss 0.00001,   Relative Error 0.00103\n",
      "Training_loss 0.00001,   Relative Error 0.00099\n",
      "Training_loss 0.00001,   Relative Error 0.00094\n"
     ]
    },
    {
     "name": "stderr",
     "output_type": "stream",
     "text": [
      "\r",
      " 17%|█▋        | 343/2000 [00:42<02:56,  9.41it/s]"
     ]
    },
    {
     "name": "stdout",
     "output_type": "stream",
     "text": [
      "Training_loss 0.00001,   Relative Error 0.00089\n",
      "Training_loss 0.00001,   Relative Error 0.00085\n"
     ]
    },
    {
     "name": "stderr",
     "output_type": "stream",
     "text": [
      " 17%|█▋        | 347/2000 [00:43<02:53,  9.53it/s]"
     ]
    },
    {
     "name": "stdout",
     "output_type": "stream",
     "text": [
      "Training_loss 0.00001,   Relative Error 0.00081\n",
      "Training_loss 0.00001,   Relative Error 0.00075\n",
      "Training_loss 0.00001,   Relative Error 0.00071\n"
     ]
    },
    {
     "name": "stderr",
     "output_type": "stream",
     "text": [
      " 18%|█▊        | 350/2000 [00:43<02:48,  9.81it/s]"
     ]
    },
    {
     "name": "stdout",
     "output_type": "stream",
     "text": [
      "Training_loss 0.00001,   Relative Error 0.00067\n",
      "Training_loss 0.00001,   Relative Error 0.00062\n",
      "Training_loss 0.00001,   Relative Error 0.00058\n"
     ]
    },
    {
     "name": "stderr",
     "output_type": "stream",
     "text": [
      " 18%|█▊        | 352/2000 [00:43<02:58,  9.21it/s]"
     ]
    },
    {
     "name": "stdout",
     "output_type": "stream",
     "text": [
      "Training_loss 0.00001,   Relative Error 0.00055\n",
      "Training_loss 0.00000,   Relative Error 0.00051\n"
     ]
    },
    {
     "name": "stderr",
     "output_type": "stream",
     "text": [
      " 18%|█▊        | 354/2000 [00:43<02:56,  9.30it/s]"
     ]
    },
    {
     "name": "stdout",
     "output_type": "stream",
     "text": [
      "Training_loss 0.00000,   Relative Error 0.00048\n",
      "Training_loss 0.00000,   Relative Error 0.00045\n"
     ]
    },
    {
     "name": "stderr",
     "output_type": "stream",
     "text": [
      "\r",
      " 18%|█▊        | 355/2000 [00:44<02:59,  9.14it/s]"
     ]
    },
    {
     "name": "stdout",
     "output_type": "stream",
     "text": [
      "Training_loss 0.00000,   Relative Error 0.00043\n",
      "Training_loss 0.00000,   Relative Error 0.00040\n"
     ]
    },
    {
     "name": "stderr",
     "output_type": "stream",
     "text": [
      " 18%|█▊        | 358/2000 [00:44<02:58,  9.22it/s]"
     ]
    },
    {
     "name": "stdout",
     "output_type": "stream",
     "text": [
      "Training_loss 0.00000,   Relative Error 0.00038\n",
      "Training_loss 0.00000,   Relative Error 0.00036\n"
     ]
    },
    {
     "name": "stderr",
     "output_type": "stream",
     "text": [
      " 18%|█▊        | 361/2000 [00:44<02:52,  9.49it/s]"
     ]
    },
    {
     "name": "stdout",
     "output_type": "stream",
     "text": [
      "Training_loss 0.00000,   Relative Error 0.00035\n",
      "Training_loss 0.00000,   Relative Error 0.00034\n",
      "Training_loss 0.00000,   Relative Error 0.00032\n"
     ]
    },
    {
     "name": "stderr",
     "output_type": "stream",
     "text": [
      "\r",
      " 18%|█▊        | 363/2000 [00:44<02:54,  9.35it/s]"
     ]
    },
    {
     "name": "stdout",
     "output_type": "stream",
     "text": [
      "Training_loss 0.00000,   Relative Error 0.00031\n",
      "Training_loss 0.00000,   Relative Error 0.00032\n"
     ]
    },
    {
     "name": "stderr",
     "output_type": "stream",
     "text": [
      " 18%|█▊        | 365/2000 [00:45<03:03,  8.93it/s]"
     ]
    },
    {
     "name": "stdout",
     "output_type": "stream",
     "text": [
      "Training_loss 0.00000,   Relative Error 0.00033\n",
      "Training_loss 0.00000,   Relative Error 0.00034\n"
     ]
    },
    {
     "name": "stderr",
     "output_type": "stream",
     "text": [
      " 18%|█▊        | 367/2000 [00:45<02:59,  9.09it/s]"
     ]
    },
    {
     "name": "stdout",
     "output_type": "stream",
     "text": [
      "Training_loss 0.00000,   Relative Error 0.00035\n",
      "Training_loss 0.00000,   Relative Error 0.00037\n",
      "Training_loss 0.00000,   Relative Error 0.00038\n"
     ]
    },
    {
     "name": "stderr",
     "output_type": "stream",
     "text": [
      " 18%|█▊        | 370/2000 [00:45<03:02,  8.96it/s]"
     ]
    },
    {
     "name": "stdout",
     "output_type": "stream",
     "text": [
      "Training_loss 0.00000,   Relative Error 0.00041\n",
      "Training_loss 0.00000,   Relative Error 0.00042\n"
     ]
    },
    {
     "name": "stderr",
     "output_type": "stream",
     "text": [
      " 19%|█▊        | 373/2000 [00:45<02:56,  9.20it/s]"
     ]
    },
    {
     "name": "stdout",
     "output_type": "stream",
     "text": [
      "Training_loss 0.00000,   Relative Error 0.00045\n",
      "Training_loss 0.00000,   Relative Error 0.00047\n",
      "Training_loss 0.00000,   Relative Error 0.00050\n"
     ]
    },
    {
     "name": "stderr",
     "output_type": "stream",
     "text": [
      " 19%|█▉        | 375/2000 [00:46<02:53,  9.38it/s]"
     ]
    },
    {
     "name": "stdout",
     "output_type": "stream",
     "text": [
      "Training_loss 0.00000,   Relative Error 0.00053\n",
      "Training_loss 0.00000,   Relative Error 0.00055\n"
     ]
    },
    {
     "name": "stderr",
     "output_type": "stream",
     "text": [
      " 19%|█▉        | 377/2000 [00:46<03:01,  8.94it/s]"
     ]
    },
    {
     "name": "stdout",
     "output_type": "stream",
     "text": [
      "Training_loss 0.00001,   Relative Error 0.00058\n",
      "Training_loss 0.00001,   Relative Error 0.00060\n"
     ]
    },
    {
     "name": "stderr",
     "output_type": "stream",
     "text": [
      " 19%|█▉        | 379/2000 [00:46<02:57,  9.11it/s]"
     ]
    },
    {
     "name": "stdout",
     "output_type": "stream",
     "text": [
      "Training_loss 0.00001,   Relative Error 0.00063\n",
      "Training_loss 0.00001,   Relative Error 0.00066\n"
     ]
    },
    {
     "name": "stderr",
     "output_type": "stream",
     "text": [
      " 19%|█▉        | 382/2000 [00:46<02:54,  9.28it/s]"
     ]
    },
    {
     "name": "stdout",
     "output_type": "stream",
     "text": [
      "Training_loss 0.00001,   Relative Error 0.00068\n",
      "Training_loss 0.00001,   Relative Error 0.00070\n",
      "Training_loss 0.00001,   Relative Error 0.00073\n"
     ]
    },
    {
     "name": "stderr",
     "output_type": "stream",
     "text": [
      " 19%|█▉        | 385/2000 [00:47<02:47,  9.63it/s]"
     ]
    },
    {
     "name": "stdout",
     "output_type": "stream",
     "text": [
      "Training_loss 0.00001,   Relative Error 0.00074\n",
      "Training_loss 0.00001,   Relative Error 0.00077\n",
      "Training_loss 0.00001,   Relative Error 0.00079\n"
     ]
    },
    {
     "name": "stderr",
     "output_type": "stream",
     "text": [
      " 19%|█▉        | 387/2000 [00:47<02:57,  9.11it/s]"
     ]
    },
    {
     "name": "stdout",
     "output_type": "stream",
     "text": [
      "Training_loss 0.00001,   Relative Error 0.00081\n",
      "Training_loss 0.00001,   Relative Error 0.00083\n"
     ]
    },
    {
     "name": "stderr",
     "output_type": "stream",
     "text": [
      " 20%|█▉        | 390/2000 [00:47<02:44,  9.76it/s]"
     ]
    },
    {
     "name": "stdout",
     "output_type": "stream",
     "text": [
      "Training_loss 0.00001,   Relative Error 0.00086\n",
      "Training_loss 0.00001,   Relative Error 0.00090\n",
      "Training_loss 0.00001,   Relative Error 0.00092\n"
     ]
    },
    {
     "name": "stderr",
     "output_type": "stream",
     "text": [
      " 20%|█▉        | 392/2000 [00:48<02:52,  9.30it/s]"
     ]
    },
    {
     "name": "stdout",
     "output_type": "stream",
     "text": [
      "Training_loss 0.00001,   Relative Error 0.00094\n",
      "Training_loss 0.00001,   Relative Error 0.00097\n"
     ]
    },
    {
     "name": "stderr",
     "output_type": "stream",
     "text": [
      " 20%|█▉        | 394/2000 [00:48<02:53,  9.28it/s]"
     ]
    },
    {
     "name": "stdout",
     "output_type": "stream",
     "text": [
      "Training_loss 0.00001,   Relative Error 0.00099\n",
      "Training_loss 0.00001,   Relative Error 0.00101\n"
     ]
    },
    {
     "name": "stderr",
     "output_type": "stream",
     "text": [
      " 20%|█▉        | 396/2000 [00:48<02:58,  8.97it/s]"
     ]
    },
    {
     "name": "stdout",
     "output_type": "stream",
     "text": [
      "Training_loss 0.00001,   Relative Error 0.00101\n",
      "Training_loss 0.00001,   Relative Error 0.00103\n"
     ]
    },
    {
     "name": "stderr",
     "output_type": "stream",
     "text": [
      " 20%|█▉        | 398/2000 [00:48<03:00,  8.85it/s]"
     ]
    },
    {
     "name": "stdout",
     "output_type": "stream",
     "text": [
      "Training_loss 0.00001,   Relative Error 0.00105\n",
      "Training_loss 0.00001,   Relative Error 0.00107\n"
     ]
    },
    {
     "name": "stderr",
     "output_type": "stream",
     "text": [
      " 20%|██        | 401/2000 [00:48<02:49,  9.41it/s]"
     ]
    },
    {
     "name": "stdout",
     "output_type": "stream",
     "text": [
      "Training_loss 0.00001,   Relative Error 0.00109\n",
      "Training_loss 0.00001,   Relative Error 0.00110\n",
      "Training_loss 0.00001,   Relative Error 0.00111\n"
     ]
    },
    {
     "name": "stderr",
     "output_type": "stream",
     "text": [
      " 20%|██        | 403/2000 [00:49<02:52,  9.26it/s]"
     ]
    },
    {
     "name": "stdout",
     "output_type": "stream",
     "text": [
      "Training_loss 0.00001,   Relative Error 0.00114\n",
      "Training_loss 0.00001,   Relative Error 0.00116\n"
     ]
    },
    {
     "name": "stderr",
     "output_type": "stream",
     "text": [
      " 20%|██        | 405/2000 [00:49<03:01,  8.79it/s]"
     ]
    },
    {
     "name": "stdout",
     "output_type": "stream",
     "text": [
      "Training_loss 0.00001,   Relative Error 0.00118\n",
      "Training_loss 0.00001,   Relative Error 0.00119\n"
     ]
    },
    {
     "name": "stderr",
     "output_type": "stream",
     "text": [
      " 20%|██        | 407/2000 [00:49<03:01,  8.79it/s]"
     ]
    },
    {
     "name": "stdout",
     "output_type": "stream",
     "text": [
      "Training_loss 0.00001,   Relative Error 0.00120\n",
      "Training_loss 0.00001,   Relative Error 0.00123\n"
     ]
    },
    {
     "name": "stderr",
     "output_type": "stream",
     "text": [
      " 20%|██        | 410/2000 [00:50<02:50,  9.32it/s]"
     ]
    },
    {
     "name": "stdout",
     "output_type": "stream",
     "text": [
      "Training_loss 0.00001,   Relative Error 0.00125\n",
      "Training_loss 0.00001,   Relative Error 0.00127\n",
      "Training_loss 0.00001,   Relative Error 0.00128\n"
     ]
    },
    {
     "name": "stderr",
     "output_type": "stream",
     "text": [
      " 21%|██        | 413/2000 [00:50<02:46,  9.52it/s]"
     ]
    },
    {
     "name": "stdout",
     "output_type": "stream",
     "text": [
      "Training_loss 0.00001,   Relative Error 0.00129\n",
      "Training_loss 0.00001,   Relative Error 0.00130\n",
      "Training_loss 0.00001,   Relative Error 0.00132\n"
     ]
    },
    {
     "name": "stderr",
     "output_type": "stream",
     "text": [
      " 21%|██        | 415/2000 [00:50<02:46,  9.52it/s]"
     ]
    },
    {
     "name": "stdout",
     "output_type": "stream",
     "text": [
      "Training_loss 0.00001,   Relative Error 0.00134\n",
      "Training_loss 0.00002,   Relative Error 0.00136\n",
      "Training_loss 0.00002,   Relative Error 0.00138\n"
     ]
    },
    {
     "name": "stderr",
     "output_type": "stream",
     "text": [
      " 21%|██        | 419/2000 [00:50<02:37, 10.07it/s]"
     ]
    },
    {
     "name": "stdout",
     "output_type": "stream",
     "text": [
      "Training_loss 0.00002,   Relative Error 0.00140\n",
      "Training_loss 0.00002,   Relative Error 0.00142\n",
      "Training_loss 0.00002,   Relative Error 0.00144\n"
     ]
    },
    {
     "name": "stderr",
     "output_type": "stream",
     "text": [
      " 21%|██        | 421/2000 [00:51<02:40,  9.86it/s]"
     ]
    },
    {
     "name": "stdout",
     "output_type": "stream",
     "text": [
      "Training_loss 0.00002,   Relative Error 0.00146\n",
      "Training_loss 0.00002,   Relative Error 0.00147\n"
     ]
    },
    {
     "name": "stderr",
     "output_type": "stream",
     "text": [
      " 21%|██        | 423/2000 [00:51<02:47,  9.43it/s]"
     ]
    },
    {
     "name": "stdout",
     "output_type": "stream",
     "text": [
      "Training_loss 0.00002,   Relative Error 0.00149\n",
      "Training_loss 0.00002,   Relative Error 0.00150\n"
     ]
    },
    {
     "name": "stderr",
     "output_type": "stream",
     "text": [
      " 21%|██▏       | 425/2000 [00:51<02:56,  8.94it/s]"
     ]
    },
    {
     "name": "stdout",
     "output_type": "stream",
     "text": [
      "Training_loss 0.00002,   Relative Error 0.00151\n",
      "Training_loss 0.00002,   Relative Error 0.00151\n"
     ]
    },
    {
     "name": "stderr",
     "output_type": "stream",
     "text": [
      " 21%|██▏       | 428/2000 [00:51<02:43,  9.60it/s]"
     ]
    },
    {
     "name": "stdout",
     "output_type": "stream",
     "text": [
      "Training_loss 0.00002,   Relative Error 0.00153\n",
      "Training_loss 0.00002,   Relative Error 0.00155\n",
      "Training_loss 0.00002,   Relative Error 0.00156\n"
     ]
    },
    {
     "name": "stderr",
     "output_type": "stream",
     "text": [
      " 22%|██▏       | 430/2000 [00:52<02:50,  9.20it/s]"
     ]
    },
    {
     "name": "stdout",
     "output_type": "stream",
     "text": [
      "Training_loss 0.00002,   Relative Error 0.00157\n",
      "Training_loss 0.00002,   Relative Error 0.00159\n"
     ]
    },
    {
     "name": "stderr",
     "output_type": "stream",
     "text": [
      "\r",
      " 22%|██▏       | 432/2000 [00:52<02:43,  9.56it/s]"
     ]
    },
    {
     "name": "stdout",
     "output_type": "stream",
     "text": [
      "Training_loss 0.00002,   Relative Error 0.00157\n",
      "Training_loss 0.00002,   Relative Error 0.00159\n"
     ]
    },
    {
     "name": "stderr",
     "output_type": "stream",
     "text": [
      " 22%|██▏       | 435/2000 [00:52<02:44,  9.54it/s]"
     ]
    },
    {
     "name": "stdout",
     "output_type": "stream",
     "text": [
      "Training_loss 0.00002,   Relative Error 0.00159\n",
      "Training_loss 0.00002,   Relative Error 0.00161\n",
      "Training_loss 0.00002,   Relative Error 0.00162\n"
     ]
    },
    {
     "name": "stderr",
     "output_type": "stream",
     "text": [
      " 22%|██▏       | 437/2000 [00:52<02:41,  9.69it/s]"
     ]
    },
    {
     "name": "stdout",
     "output_type": "stream",
     "text": [
      "Training_loss 0.00002,   Relative Error 0.00163\n",
      "Training_loss 0.00002,   Relative Error 0.00163\n"
     ]
    },
    {
     "name": "stderr",
     "output_type": "stream",
     "text": [
      "\r",
      " 22%|██▏       | 438/2000 [00:52<02:40,  9.73it/s]"
     ]
    },
    {
     "name": "stdout",
     "output_type": "stream",
     "text": [
      "Training_loss 0.00002,   Relative Error 0.00164\n"
     ]
    },
    {
     "name": "stderr",
     "output_type": "stream",
     "text": [
      " 22%|██▏       | 441/2000 [00:53<03:06,  8.37it/s]"
     ]
    },
    {
     "name": "stdout",
     "output_type": "stream",
     "text": [
      "Training_loss 0.00002,   Relative Error 0.00165\n",
      "Training_loss 0.00002,   Relative Error 0.00166\n",
      "Training_loss 0.00002,   Relative Error 0.00167\n"
     ]
    },
    {
     "name": "stderr",
     "output_type": "stream",
     "text": [
      "\r",
      " 22%|██▏       | 443/2000 [00:53<02:55,  8.86it/s]"
     ]
    },
    {
     "name": "stdout",
     "output_type": "stream",
     "text": [
      "Training_loss 0.00002,   Relative Error 0.00167\n",
      "Training_loss 0.00002,   Relative Error 0.00168\n",
      "Training_loss 0.00002,   Relative Error 0.00168\n"
     ]
    },
    {
     "name": "stderr",
     "output_type": "stream",
     "text": [
      " 22%|██▏       | 447/2000 [00:53<02:39,  9.75it/s]"
     ]
    },
    {
     "name": "stdout",
     "output_type": "stream",
     "text": [
      "Training_loss 0.00002,   Relative Error 0.00169\n",
      "Training_loss 0.00002,   Relative Error 0.00170\n",
      "Training_loss 0.00002,   Relative Error 0.00171\n"
     ]
    },
    {
     "name": "stderr",
     "output_type": "stream",
     "text": [
      " 22%|██▏       | 449/2000 [00:54<02:40,  9.67it/s]"
     ]
    },
    {
     "name": "stdout",
     "output_type": "stream",
     "text": [
      "Training_loss 0.00002,   Relative Error 0.00173\n",
      "Training_loss 0.00002,   Relative Error 0.00175\n"
     ]
    },
    {
     "name": "stderr",
     "output_type": "stream",
     "text": [
      " 23%|██▎       | 451/2000 [00:54<03:01,  8.54it/s]"
     ]
    },
    {
     "name": "stdout",
     "output_type": "stream",
     "text": [
      "Training_loss 0.00002,   Relative Error 0.00174\n",
      "Training_loss 0.00002,   Relative Error 0.00176\n"
     ]
    },
    {
     "name": "stderr",
     "output_type": "stream",
     "text": [
      " 23%|██▎       | 453/2000 [00:54<02:59,  8.61it/s]"
     ]
    },
    {
     "name": "stdout",
     "output_type": "stream",
     "text": [
      "Training_loss 0.00002,   Relative Error 0.00178\n",
      "Training_loss 0.00002,   Relative Error 0.00177\n"
     ]
    },
    {
     "name": "stderr",
     "output_type": "stream",
     "text": [
      " 23%|██▎       | 455/2000 [00:54<02:53,  8.93it/s]"
     ]
    },
    {
     "name": "stdout",
     "output_type": "stream",
     "text": [
      "Training_loss 0.00002,   Relative Error 0.00178\n",
      "Training_loss 0.00002,   Relative Error 0.00181\n"
     ]
    },
    {
     "name": "stderr",
     "output_type": "stream",
     "text": [
      " 23%|██▎       | 457/2000 [00:55<02:48,  9.15it/s]"
     ]
    },
    {
     "name": "stdout",
     "output_type": "stream",
     "text": [
      "Training_loss 0.00002,   Relative Error 0.00180\n",
      "Training_loss 0.00002,   Relative Error 0.00181\n"
     ]
    },
    {
     "name": "stderr",
     "output_type": "stream",
     "text": [
      " 23%|██▎       | 459/2000 [00:55<03:06,  8.24it/s]"
     ]
    },
    {
     "name": "stdout",
     "output_type": "stream",
     "text": [
      "Training_loss 0.00002,   Relative Error 0.00183\n",
      "Training_loss 0.00003,   Relative Error 0.00184\n"
     ]
    },
    {
     "name": "stderr",
     "output_type": "stream",
     "text": [
      " 23%|██▎       | 461/2000 [00:55<02:58,  8.62it/s]"
     ]
    },
    {
     "name": "stdout",
     "output_type": "stream",
     "text": [
      "Training_loss 0.00003,   Relative Error 0.00184\n",
      "Training_loss 0.00003,   Relative Error 0.00185\n"
     ]
    },
    {
     "name": "stderr",
     "output_type": "stream",
     "text": [
      " 23%|██▎       | 463/2000 [00:55<02:55,  8.77it/s]"
     ]
    },
    {
     "name": "stdout",
     "output_type": "stream",
     "text": [
      "Training_loss 0.00003,   Relative Error 0.00185\n",
      "Training_loss 0.00003,   Relative Error 0.00186\n"
     ]
    },
    {
     "name": "stderr",
     "output_type": "stream",
     "text": [
      " 23%|██▎       | 465/2000 [00:56<02:48,  9.09it/s]"
     ]
    },
    {
     "name": "stdout",
     "output_type": "stream",
     "text": [
      "Training_loss 0.00003,   Relative Error 0.00188\n",
      "Training_loss 0.00003,   Relative Error 0.00188\n"
     ]
    },
    {
     "name": "stderr",
     "output_type": "stream",
     "text": [
      " 23%|██▎       | 467/2000 [00:56<03:04,  8.29it/s]"
     ]
    },
    {
     "name": "stdout",
     "output_type": "stream",
     "text": [
      "Training_loss 0.00003,   Relative Error 0.00189\n",
      "Training_loss 0.00003,   Relative Error 0.00188\n"
     ]
    },
    {
     "name": "stderr",
     "output_type": "stream",
     "text": [
      " 23%|██▎       | 469/2000 [00:56<03:02,  8.41it/s]"
     ]
    },
    {
     "name": "stdout",
     "output_type": "stream",
     "text": [
      "Training_loss 0.00003,   Relative Error 0.00188\n",
      "Training_loss 0.00003,   Relative Error 0.00187\n"
     ]
    },
    {
     "name": "stderr",
     "output_type": "stream",
     "text": [
      " 24%|██▎       | 471/2000 [00:56<03:05,  8.26it/s]"
     ]
    },
    {
     "name": "stdout",
     "output_type": "stream",
     "text": [
      "Training_loss 0.00003,   Relative Error 0.00189\n",
      "Training_loss 0.00003,   Relative Error 0.00190\n"
     ]
    },
    {
     "name": "stderr",
     "output_type": "stream",
     "text": [
      " 24%|██▎       | 473/2000 [00:56<03:02,  8.36it/s]"
     ]
    },
    {
     "name": "stdout",
     "output_type": "stream",
     "text": [
      "Training_loss 0.00003,   Relative Error 0.00191\n",
      "Training_loss 0.00003,   Relative Error 0.00192\n"
     ]
    },
    {
     "name": "stderr",
     "output_type": "stream",
     "text": [
      " 24%|██▍       | 475/2000 [00:57<02:55,  8.67it/s]"
     ]
    },
    {
     "name": "stdout",
     "output_type": "stream",
     "text": [
      "Training_loss 0.00003,   Relative Error 0.00194\n",
      "Training_loss 0.00003,   Relative Error 0.00196\n"
     ]
    },
    {
     "name": "stderr",
     "output_type": "stream",
     "text": [
      " 24%|██▍       | 477/2000 [00:57<02:55,  8.70it/s]"
     ]
    },
    {
     "name": "stdout",
     "output_type": "stream",
     "text": [
      "Training_loss 0.00003,   Relative Error 0.00197\n",
      "Training_loss 0.00003,   Relative Error 0.00197\n"
     ]
    },
    {
     "name": "stderr",
     "output_type": "stream",
     "text": [
      " 24%|██▍       | 479/2000 [00:57<02:45,  9.21it/s]"
     ]
    },
    {
     "name": "stdout",
     "output_type": "stream",
     "text": [
      "Training_loss 0.00003,   Relative Error 0.00196\n",
      "Training_loss 0.00003,   Relative Error 0.00195\n",
      "Training_loss 0.00003,   Relative Error 0.00197\n"
     ]
    },
    {
     "name": "stderr",
     "output_type": "stream",
     "text": [
      " 24%|██▍       | 482/2000 [00:57<02:41,  9.41it/s]"
     ]
    },
    {
     "name": "stdout",
     "output_type": "stream",
     "text": [
      "Training_loss 0.00003,   Relative Error 0.00199\n",
      "Training_loss 0.00003,   Relative Error 0.00201\n"
     ]
    },
    {
     "name": "stderr",
     "output_type": "stream",
     "text": [
      " 24%|██▍       | 485/2000 [00:58<02:41,  9.37it/s]"
     ]
    },
    {
     "name": "stdout",
     "output_type": "stream",
     "text": [
      "Training_loss 0.00003,   Relative Error 0.00202\n",
      "Training_loss 0.00003,   Relative Error 0.00203\n",
      "Training_loss 0.00003,   Relative Error 0.00203\n"
     ]
    },
    {
     "name": "stderr",
     "output_type": "stream",
     "text": [
      "\r",
      " 24%|██▍       | 487/2000 [00:58<02:33,  9.83it/s]"
     ]
    },
    {
     "name": "stdout",
     "output_type": "stream",
     "text": [
      "Training_loss 0.00003,   Relative Error 0.00204\n",
      "Training_loss 0.00003,   Relative Error 0.00205\n",
      "Training_loss 0.00003,   Relative Error 0.00206\n"
     ]
    },
    {
     "name": "stderr",
     "output_type": "stream",
     "text": [
      " 24%|██▍       | 490/2000 [00:58<02:33,  9.84it/s]"
     ]
    },
    {
     "name": "stdout",
     "output_type": "stream",
     "text": [
      "Training_loss 0.00003,   Relative Error 0.00206\n",
      "Training_loss 0.00003,   Relative Error 0.00207\n"
     ]
    },
    {
     "name": "stderr",
     "output_type": "stream",
     "text": [
      " 25%|██▍       | 493/2000 [00:59<02:32,  9.86it/s]"
     ]
    },
    {
     "name": "stdout",
     "output_type": "stream",
     "text": [
      "Training_loss 0.00003,   Relative Error 0.00205\n",
      "Training_loss 0.00003,   Relative Error 0.00203\n",
      "Training_loss 0.00003,   Relative Error 0.00204\n"
     ]
    },
    {
     "name": "stderr",
     "output_type": "stream",
     "text": [
      " 25%|██▍       | 496/2000 [00:59<02:29, 10.07it/s]"
     ]
    },
    {
     "name": "stdout",
     "output_type": "stream",
     "text": [
      "Training_loss 0.00003,   Relative Error 0.00204\n",
      "Training_loss 0.00003,   Relative Error 0.00206\n",
      "Training_loss 0.00003,   Relative Error 0.00206\n"
     ]
    },
    {
     "name": "stderr",
     "output_type": "stream",
     "text": [
      " 25%|██▍       | 498/2000 [00:59<02:37,  9.56it/s]"
     ]
    },
    {
     "name": "stdout",
     "output_type": "stream",
     "text": [
      "Training_loss 0.00003,   Relative Error 0.00207\n",
      "Training_loss 0.00003,   Relative Error 0.00206\n"
     ]
    },
    {
     "name": "stderr",
     "output_type": "stream",
     "text": [
      " 25%|██▌       | 500/2000 [00:59<02:40,  9.32it/s]"
     ]
    },
    {
     "name": "stdout",
     "output_type": "stream",
     "text": [
      "Training_loss 0.00003,   Relative Error 0.00207\n",
      "Training_loss 0.00003,   Relative Error 0.00207\n",
      "Training_loss 0.00003,   Relative Error 0.00205\n"
     ]
    },
    {
     "name": "stderr",
     "output_type": "stream",
     "text": [
      " 25%|██▌       | 503/2000 [01:00<02:34,  9.67it/s]"
     ]
    },
    {
     "name": "stdout",
     "output_type": "stream",
     "text": [
      "Training_loss 0.00003,   Relative Error 0.00207\n",
      "Training_loss 0.00003,   Relative Error 0.00207\n"
     ]
    },
    {
     "name": "stderr",
     "output_type": "stream",
     "text": [
      " 25%|██▌       | 505/2000 [01:00<02:35,  9.59it/s]"
     ]
    },
    {
     "name": "stdout",
     "output_type": "stream",
     "text": [
      "Training_loss 0.00003,   Relative Error 0.00205\n",
      "Training_loss 0.00003,   Relative Error 0.00205\n",
      "Training_loss 0.00003,   Relative Error 0.00206\n"
     ]
    },
    {
     "name": "stderr",
     "output_type": "stream",
     "text": [
      " 25%|██▌       | 508/2000 [01:00<02:34,  9.66it/s]"
     ]
    },
    {
     "name": "stdout",
     "output_type": "stream",
     "text": [
      "Training_loss 0.00003,   Relative Error 0.00209\n",
      "Training_loss 0.00003,   Relative Error 0.00209\n",
      "Training_loss 0.00003,   Relative Error 0.00210\n"
     ]
    },
    {
     "name": "stderr",
     "output_type": "stream",
     "text": [
      " 26%|██▌       | 512/2000 [01:01<02:37,  9.47it/s]"
     ]
    },
    {
     "name": "stdout",
     "output_type": "stream",
     "text": [
      "Training_loss 0.00003,   Relative Error 0.00209\n",
      "Training_loss 0.00003,   Relative Error 0.00211\n",
      "Training_loss 0.00003,   Relative Error 0.00210\n"
     ]
    },
    {
     "name": "stderr",
     "output_type": "stream",
     "text": [
      "\r",
      " 26%|██▌       | 513/2000 [01:01<02:37,  9.42it/s]"
     ]
    },
    {
     "name": "stdout",
     "output_type": "stream",
     "text": [
      "Training_loss 0.00003,   Relative Error 0.00212\n",
      "Training_loss 0.00003,   Relative Error 0.00213\n"
     ]
    },
    {
     "name": "stderr",
     "output_type": "stream",
     "text": [
      " 26%|██▌       | 516/2000 [01:01<02:43,  9.10it/s]"
     ]
    },
    {
     "name": "stdout",
     "output_type": "stream",
     "text": [
      "Training_loss 0.00003,   Relative Error 0.00212\n",
      "Training_loss 0.00003,   Relative Error 0.00213\n"
     ]
    },
    {
     "name": "stderr",
     "output_type": "stream",
     "text": [
      " 26%|██▌       | 518/2000 [01:01<02:46,  8.90it/s]"
     ]
    },
    {
     "name": "stdout",
     "output_type": "stream",
     "text": [
      "Training_loss 0.00003,   Relative Error 0.00215\n",
      "Training_loss 0.00003,   Relative Error 0.00216\n"
     ]
    },
    {
     "name": "stderr",
     "output_type": "stream",
     "text": [
      " 26%|██▌       | 521/2000 [01:02<02:37,  9.39it/s]"
     ]
    },
    {
     "name": "stdout",
     "output_type": "stream",
     "text": [
      "Training_loss 0.00003,   Relative Error 0.00217\n",
      "Training_loss 0.00003,   Relative Error 0.00217\n",
      "Training_loss 0.00003,   Relative Error 0.00217\n"
     ]
    },
    {
     "name": "stderr",
     "output_type": "stream",
     "text": [
      " 26%|██▌       | 524/2000 [01:02<02:36,  9.44it/s]"
     ]
    },
    {
     "name": "stdout",
     "output_type": "stream",
     "text": [
      "Training_loss 0.00003,   Relative Error 0.00218\n",
      "Training_loss 0.00003,   Relative Error 0.00219\n",
      "Training_loss 0.00004,   Relative Error 0.00220\n"
     ]
    },
    {
     "name": "stderr",
     "output_type": "stream",
     "text": [
      " 26%|██▋       | 526/2000 [01:02<02:51,  8.57it/s]"
     ]
    },
    {
     "name": "stdout",
     "output_type": "stream",
     "text": [
      "Training_loss 0.00004,   Relative Error 0.00222\n",
      "Training_loss 0.00004,   Relative Error 0.00221\n"
     ]
    },
    {
     "name": "stderr",
     "output_type": "stream",
     "text": [
      " 26%|██▋       | 528/2000 [01:02<03:17,  7.47it/s]"
     ]
    },
    {
     "name": "stdout",
     "output_type": "stream",
     "text": [
      "Training_loss 0.00003,   Relative Error 0.00219\n",
      "Training_loss 0.00003,   Relative Error 0.00220\n"
     ]
    },
    {
     "name": "stderr",
     "output_type": "stream",
     "text": [
      " 26%|██▋       | 530/2000 [01:03<03:16,  7.49it/s]"
     ]
    },
    {
     "name": "stdout",
     "output_type": "stream",
     "text": [
      "Training_loss 0.00003,   Relative Error 0.00220\n",
      "Training_loss 0.00004,   Relative Error 0.00222\n"
     ]
    },
    {
     "name": "stderr",
     "output_type": "stream",
     "text": [
      " 27%|██▋       | 532/2000 [01:03<03:07,  7.85it/s]"
     ]
    },
    {
     "name": "stdout",
     "output_type": "stream",
     "text": [
      "Training_loss 0.00004,   Relative Error 0.00223\n",
      "Training_loss 0.00004,   Relative Error 0.00224\n"
     ]
    },
    {
     "name": "stderr",
     "output_type": "stream",
     "text": [
      " 27%|██▋       | 534/2000 [01:03<03:00,  8.10it/s]"
     ]
    },
    {
     "name": "stdout",
     "output_type": "stream",
     "text": [
      "Training_loss 0.00004,   Relative Error 0.00224\n",
      "Training_loss 0.00004,   Relative Error 0.00225\n"
     ]
    },
    {
     "name": "stderr",
     "output_type": "stream",
     "text": [
      " 27%|██▋       | 536/2000 [01:03<02:58,  8.20it/s]"
     ]
    },
    {
     "name": "stdout",
     "output_type": "stream",
     "text": [
      "Training_loss 0.00004,   Relative Error 0.00225\n",
      "Training_loss 0.00004,   Relative Error 0.00224\n"
     ]
    },
    {
     "name": "stderr",
     "output_type": "stream",
     "text": [
      " 27%|██▋       | 538/2000 [01:04<03:00,  8.11it/s]"
     ]
    },
    {
     "name": "stdout",
     "output_type": "stream",
     "text": [
      "Training_loss 0.00004,   Relative Error 0.00223\n",
      "Training_loss 0.00004,   Relative Error 0.00225\n"
     ]
    },
    {
     "name": "stderr",
     "output_type": "stream",
     "text": [
      " 27%|██▋       | 540/2000 [01:04<02:58,  8.18it/s]"
     ]
    },
    {
     "name": "stdout",
     "output_type": "stream",
     "text": [
      "Training_loss 0.00004,   Relative Error 0.00225\n",
      "Training_loss 0.00004,   Relative Error 0.00225\n"
     ]
    },
    {
     "name": "stderr",
     "output_type": "stream",
     "text": [
      " 27%|██▋       | 542/2000 [01:04<02:59,  8.13it/s]"
     ]
    },
    {
     "name": "stdout",
     "output_type": "stream",
     "text": [
      "Training_loss 0.00004,   Relative Error 0.00223\n",
      "Training_loss 0.00004,   Relative Error 0.00222\n"
     ]
    },
    {
     "name": "stderr",
     "output_type": "stream",
     "text": [
      " 27%|██▋       | 544/2000 [01:04<02:56,  8.24it/s]"
     ]
    },
    {
     "name": "stdout",
     "output_type": "stream",
     "text": [
      "Training_loss 0.00004,   Relative Error 0.00223\n",
      "Training_loss 0.00004,   Relative Error 0.00222\n"
     ]
    },
    {
     "name": "stderr",
     "output_type": "stream",
     "text": [
      " 27%|██▋       | 546/2000 [01:05<02:55,  8.26it/s]"
     ]
    },
    {
     "name": "stdout",
     "output_type": "stream",
     "text": [
      "Training_loss 0.00004,   Relative Error 0.00224\n",
      "Training_loss 0.00004,   Relative Error 0.00223\n"
     ]
    },
    {
     "name": "stderr",
     "output_type": "stream",
     "text": [
      " 27%|██▋       | 548/2000 [01:05<02:49,  8.56it/s]"
     ]
    },
    {
     "name": "stdout",
     "output_type": "stream",
     "text": [
      "Training_loss 0.00004,   Relative Error 0.00224\n",
      "Training_loss 0.00004,   Relative Error 0.00223\n"
     ]
    },
    {
     "name": "stderr",
     "output_type": "stream",
     "text": [
      " 28%|██▊       | 550/2000 [01:05<02:49,  8.54it/s]"
     ]
    },
    {
     "name": "stdout",
     "output_type": "stream",
     "text": [
      "Training_loss 0.00004,   Relative Error 0.00224\n",
      "Training_loss 0.00004,   Relative Error 0.00223\n"
     ]
    },
    {
     "name": "stderr",
     "output_type": "stream",
     "text": [
      " 28%|██▊       | 552/2000 [01:05<02:48,  8.60it/s]"
     ]
    },
    {
     "name": "stdout",
     "output_type": "stream",
     "text": [
      "Training_loss 0.00004,   Relative Error 0.00223\n",
      "Training_loss 0.00004,   Relative Error 0.00223\n"
     ]
    },
    {
     "name": "stderr",
     "output_type": "stream",
     "text": [
      " 28%|██▊       | 554/2000 [01:06<02:51,  8.44it/s]"
     ]
    },
    {
     "name": "stdout",
     "output_type": "stream",
     "text": [
      "Training_loss 0.00003,   Relative Error 0.00220\n",
      "Training_loss 0.00004,   Relative Error 0.00221\n"
     ]
    },
    {
     "name": "stderr",
     "output_type": "stream",
     "text": [
      " 28%|██▊       | 556/2000 [01:06<02:42,  8.90it/s]"
     ]
    },
    {
     "name": "stdout",
     "output_type": "stream",
     "text": [
      "Training_loss 0.00003,   Relative Error 0.00219\n",
      "Training_loss 0.00003,   Relative Error 0.00220\n"
     ]
    },
    {
     "name": "stderr",
     "output_type": "stream",
     "text": [
      " 28%|██▊       | 558/2000 [01:06<02:49,  8.52it/s]"
     ]
    },
    {
     "name": "stdout",
     "output_type": "stream",
     "text": [
      "Training_loss 0.00003,   Relative Error 0.00219\n",
      "Training_loss 0.00003,   Relative Error 0.00219\n"
     ]
    },
    {
     "name": "stderr",
     "output_type": "stream",
     "text": [
      " 28%|██▊       | 560/2000 [01:06<02:46,  8.64it/s]"
     ]
    },
    {
     "name": "stdout",
     "output_type": "stream",
     "text": [
      "Training_loss 0.00003,   Relative Error 0.00219\n",
      "Training_loss 0.00003,   Relative Error 0.00219\n"
     ]
    },
    {
     "name": "stderr",
     "output_type": "stream",
     "text": [
      " 28%|██▊       | 562/2000 [01:07<03:10,  7.56it/s]"
     ]
    },
    {
     "name": "stdout",
     "output_type": "stream",
     "text": [
      "Training_loss 0.00003,   Relative Error 0.00220\n",
      "Training_loss 0.00004,   Relative Error 0.00221\n"
     ]
    },
    {
     "name": "stderr",
     "output_type": "stream",
     "text": [
      " 28%|██▊       | 564/2000 [01:07<02:51,  8.36it/s]"
     ]
    },
    {
     "name": "stdout",
     "output_type": "stream",
     "text": [
      "Training_loss 0.00004,   Relative Error 0.00222\n",
      "Training_loss 0.00004,   Relative Error 0.00223\n"
     ]
    },
    {
     "name": "stderr",
     "output_type": "stream",
     "text": [
      " 28%|██▊       | 566/2000 [01:07<02:50,  8.43it/s]"
     ]
    },
    {
     "name": "stdout",
     "output_type": "stream",
     "text": [
      "Training_loss 0.00004,   Relative Error 0.00224\n",
      "Training_loss 0.00004,   Relative Error 0.00224\n"
     ]
    },
    {
     "name": "stderr",
     "output_type": "stream",
     "text": [
      " 28%|██▊       | 568/2000 [01:07<02:52,  8.29it/s]"
     ]
    },
    {
     "name": "stdout",
     "output_type": "stream",
     "text": [
      "Training_loss 0.00004,   Relative Error 0.00224\n",
      "Training_loss 0.00004,   Relative Error 0.00225\n",
      "Training_loss 0.00004,   Relative Error 0.00225\n"
     ]
    },
    {
     "name": "stderr",
     "output_type": "stream",
     "text": [
      " 29%|██▊       | 571/2000 [01:08<02:38,  9.02it/s]"
     ]
    },
    {
     "name": "stdout",
     "output_type": "stream",
     "text": [
      "Training_loss 0.00004,   Relative Error 0.00226\n",
      "Training_loss 0.00004,   Relative Error 0.00227\n"
     ]
    },
    {
     "name": "stderr",
     "output_type": "stream",
     "text": [
      " 29%|██▊       | 573/2000 [01:08<02:32,  9.34it/s]"
     ]
    },
    {
     "name": "stdout",
     "output_type": "stream",
     "text": [
      "Training_loss 0.00004,   Relative Error 0.00224\n",
      "Training_loss 0.00004,   Relative Error 0.00222\n"
     ]
    },
    {
     "name": "stderr",
     "output_type": "stream",
     "text": [
      " 29%|██▉       | 575/2000 [01:08<02:37,  9.07it/s]"
     ]
    },
    {
     "name": "stdout",
     "output_type": "stream",
     "text": [
      "Training_loss 0.00004,   Relative Error 0.00224\n",
      "Training_loss 0.00004,   Relative Error 0.00223\n"
     ]
    },
    {
     "name": "stderr",
     "output_type": "stream",
     "text": [
      " 29%|██▉       | 577/2000 [01:08<02:40,  8.84it/s]"
     ]
    },
    {
     "name": "stdout",
     "output_type": "stream",
     "text": [
      "Training_loss 0.00004,   Relative Error 0.00223\n",
      "Training_loss 0.00004,   Relative Error 0.00221\n"
     ]
    },
    {
     "name": "stderr",
     "output_type": "stream",
     "text": [
      " 29%|██▉       | 579/2000 [01:09<03:09,  7.49it/s]"
     ]
    },
    {
     "name": "stdout",
     "output_type": "stream",
     "text": [
      "Training_loss 0.00004,   Relative Error 0.00222\n",
      "Training_loss 0.00004,   Relative Error 0.00224\n"
     ]
    },
    {
     "name": "stderr",
     "output_type": "stream",
     "text": [
      "\r",
      " 29%|██▉       | 580/2000 [01:09<05:50,  4.05it/s]"
     ]
    },
    {
     "name": "stdout",
     "output_type": "stream",
     "text": [
      "Training_loss 0.00004,   Relative Error 0.00224\n"
     ]
    },
    {
     "name": "stderr",
     "output_type": "stream",
     "text": [
      "\r",
      " 29%|██▉       | 581/2000 [01:10<08:16,  2.86it/s]"
     ]
    },
    {
     "name": "stdout",
     "output_type": "stream",
     "text": [
      "Training_loss 0.00004,   Relative Error 0.00223\n"
     ]
    },
    {
     "name": "stderr",
     "output_type": "stream",
     "text": [
      "\r",
      " 29%|██▉       | 582/2000 [01:10<09:11,  2.57it/s]"
     ]
    },
    {
     "name": "stdout",
     "output_type": "stream",
     "text": [
      "Training_loss 0.00004,   Relative Error 0.00223\n"
     ]
    },
    {
     "name": "stderr",
     "output_type": "stream",
     "text": [
      "\r",
      " 29%|██▉       | 583/2000 [01:10<08:31,  2.77it/s]"
     ]
    },
    {
     "name": "stdout",
     "output_type": "stream",
     "text": [
      "Training_loss 0.00004,   Relative Error 0.00222\n"
     ]
    },
    {
     "name": "stderr",
     "output_type": "stream",
     "text": [
      "\r",
      " 29%|██▉       | 584/2000 [01:11<08:43,  2.71it/s]"
     ]
    },
    {
     "name": "stdout",
     "output_type": "stream",
     "text": [
      "Training_loss 0.00004,   Relative Error 0.00221\n"
     ]
    },
    {
     "name": "stderr",
     "output_type": "stream",
     "text": [
      "\r",
      " 29%|██▉       | 585/2000 [01:11<09:59,  2.36it/s]"
     ]
    },
    {
     "name": "stdout",
     "output_type": "stream",
     "text": [
      "Training_loss 0.00003,   Relative Error 0.00220\n"
     ]
    },
    {
     "name": "stderr",
     "output_type": "stream",
     "text": [
      "\r",
      " 29%|██▉       | 586/2000 [01:12<09:18,  2.53it/s]"
     ]
    },
    {
     "name": "stdout",
     "output_type": "stream",
     "text": [
      "Training_loss 0.00003,   Relative Error 0.00219\n"
     ]
    },
    {
     "name": "stderr",
     "output_type": "stream",
     "text": [
      "\r",
      " 29%|██▉       | 587/2000 [01:12<08:15,  2.85it/s]"
     ]
    },
    {
     "name": "stdout",
     "output_type": "stream",
     "text": [
      "Training_loss 0.00003,   Relative Error 0.00219\n"
     ]
    },
    {
     "name": "stderr",
     "output_type": "stream",
     "text": [
      "\r",
      " 29%|██▉       | 588/2000 [01:12<07:34,  3.11it/s]"
     ]
    },
    {
     "name": "stdout",
     "output_type": "stream",
     "text": [
      "Training_loss 0.00003,   Relative Error 0.00219\n"
     ]
    },
    {
     "name": "stderr",
     "output_type": "stream",
     "text": [
      " 30%|██▉       | 590/2000 [01:13<05:55,  3.96it/s]"
     ]
    },
    {
     "name": "stdout",
     "output_type": "stream",
     "text": [
      "Training_loss 0.00004,   Relative Error 0.00221\n",
      "Training_loss 0.00004,   Relative Error 0.00223\n"
     ]
    },
    {
     "name": "stderr",
     "output_type": "stream",
     "text": [
      "\r",
      " 30%|██▉       | 591/2000 [01:13<06:09,  3.81it/s]"
     ]
    },
    {
     "name": "stdout",
     "output_type": "stream",
     "text": [
      "Training_loss 0.00004,   Relative Error 0.00223\n"
     ]
    },
    {
     "name": "stderr",
     "output_type": "stream",
     "text": [
      "\r",
      " 30%|██▉       | 592/2000 [01:13<06:16,  3.74it/s]"
     ]
    },
    {
     "name": "stdout",
     "output_type": "stream",
     "text": [
      "Training_loss 0.00004,   Relative Error 0.00223\n"
     ]
    },
    {
     "name": "stderr",
     "output_type": "stream",
     "text": [
      "\r",
      " 30%|██▉       | 593/2000 [01:13<06:19,  3.71it/s]"
     ]
    },
    {
     "name": "stdout",
     "output_type": "stream",
     "text": [
      "Training_loss 0.00004,   Relative Error 0.00222\n"
     ]
    },
    {
     "name": "stderr",
     "output_type": "stream",
     "text": [
      "\r",
      " 30%|██▉       | 594/2000 [01:14<06:58,  3.36it/s]"
     ]
    },
    {
     "name": "stdout",
     "output_type": "stream",
     "text": [
      "Training_loss 0.00003,   Relative Error 0.00221\n"
     ]
    },
    {
     "name": "stderr",
     "output_type": "stream",
     "text": [
      "\r",
      " 30%|██▉       | 595/2000 [01:14<06:39,  3.52it/s]"
     ]
    },
    {
     "name": "stdout",
     "output_type": "stream",
     "text": [
      "Training_loss 0.00003,   Relative Error 0.00220\n"
     ]
    },
    {
     "name": "stderr",
     "output_type": "stream",
     "text": [
      "\r",
      " 30%|██▉       | 596/2000 [01:14<06:32,  3.58it/s]"
     ]
    },
    {
     "name": "stdout",
     "output_type": "stream",
     "text": [
      "Training_loss 0.00003,   Relative Error 0.00220\n"
     ]
    },
    {
     "name": "stderr",
     "output_type": "stream",
     "text": [
      " 30%|██▉       | 598/2000 [01:15<05:57,  3.93it/s]"
     ]
    },
    {
     "name": "stdout",
     "output_type": "stream",
     "text": [
      "Training_loss 0.00003,   Relative Error 0.00219\n",
      "Training_loss 0.00003,   Relative Error 0.00221\n"
     ]
    },
    {
     "name": "stderr",
     "output_type": "stream",
     "text": [
      " 30%|███       | 600/2000 [01:15<04:52,  4.78it/s]"
     ]
    },
    {
     "name": "stdout",
     "output_type": "stream",
     "text": [
      "Training_loss 0.00004,   Relative Error 0.00221\n",
      "Training_loss 0.00004,   Relative Error 0.00222\n"
     ]
    },
    {
     "name": "stderr",
     "output_type": "stream",
     "text": [
      " 30%|███       | 602/2000 [01:16<04:31,  5.15it/s]"
     ]
    },
    {
     "name": "stdout",
     "output_type": "stream",
     "text": [
      "Training_loss 0.00004,   Relative Error 0.00223\n",
      "Training_loss 0.00004,   Relative Error 0.00222\n"
     ]
    },
    {
     "name": "stderr",
     "output_type": "stream",
     "text": [
      "\r",
      " 30%|███       | 603/2000 [01:16<04:45,  4.89it/s]"
     ]
    },
    {
     "name": "stdout",
     "output_type": "stream",
     "text": [
      "Training_loss 0.00003,   Relative Error 0.00219\n"
     ]
    },
    {
     "name": "stderr",
     "output_type": "stream",
     "text": [
      "\r",
      " 30%|███       | 604/2000 [01:16<05:39,  4.11it/s]"
     ]
    },
    {
     "name": "stdout",
     "output_type": "stream",
     "text": [
      "Training_loss 0.00003,   Relative Error 0.00220\n"
     ]
    },
    {
     "name": "stderr",
     "output_type": "stream",
     "text": [
      " 30%|███       | 606/2000 [01:16<04:53,  4.75it/s]"
     ]
    },
    {
     "name": "stdout",
     "output_type": "stream",
     "text": [
      "Training_loss 0.00003,   Relative Error 0.00221\n",
      "Training_loss 0.00004,   Relative Error 0.00222\n"
     ]
    },
    {
     "name": "stderr",
     "output_type": "stream",
     "text": [
      " 30%|███       | 608/2000 [01:17<04:06,  5.64it/s]"
     ]
    },
    {
     "name": "stdout",
     "output_type": "stream",
     "text": [
      "Training_loss 0.00004,   Relative Error 0.00224\n",
      "Training_loss 0.00004,   Relative Error 0.00225\n"
     ]
    },
    {
     "name": "stderr",
     "output_type": "stream",
     "text": [
      " 30%|███       | 610/2000 [01:17<03:21,  6.90it/s]"
     ]
    },
    {
     "name": "stdout",
     "output_type": "stream",
     "text": [
      "Training_loss 0.00004,   Relative Error 0.00226\n",
      "Training_loss 0.00004,   Relative Error 0.00225\n"
     ]
    },
    {
     "name": "stderr",
     "output_type": "stream",
     "text": [
      " 31%|███       | 612/2000 [01:17<03:04,  7.54it/s]"
     ]
    },
    {
     "name": "stdout",
     "output_type": "stream",
     "text": [
      "Training_loss 0.00004,   Relative Error 0.00225\n",
      "Training_loss 0.00004,   Relative Error 0.00226\n"
     ]
    },
    {
     "name": "stderr",
     "output_type": "stream",
     "text": [
      "\r",
      " 31%|███       | 613/2000 [01:17<03:05,  7.48it/s]"
     ]
    },
    {
     "name": "stdout",
     "output_type": "stream",
     "text": [
      "Training_loss 0.00004,   Relative Error 0.00226\n",
      "Training_loss 0.00004,   Relative Error 0.00225\n"
     ]
    },
    {
     "name": "stderr",
     "output_type": "stream",
     "text": [
      " 31%|███       | 616/2000 [01:18<03:30,  6.56it/s]"
     ]
    },
    {
     "name": "stdout",
     "output_type": "stream",
     "text": [
      "Training_loss 0.00004,   Relative Error 0.00223\n",
      "Training_loss 0.00004,   Relative Error 0.00223\n"
     ]
    },
    {
     "name": "stderr",
     "output_type": "stream",
     "text": [
      " 31%|███       | 618/2000 [01:18<03:47,  6.06it/s]"
     ]
    },
    {
     "name": "stdout",
     "output_type": "stream",
     "text": [
      "Training_loss 0.00004,   Relative Error 0.00224\n",
      "Training_loss 0.00004,   Relative Error 0.00224\n"
     ]
    },
    {
     "name": "stderr",
     "output_type": "stream",
     "text": [
      " 31%|███       | 620/2000 [01:19<03:45,  6.12it/s]"
     ]
    },
    {
     "name": "stdout",
     "output_type": "stream",
     "text": [
      "Training_loss 0.00004,   Relative Error 0.00223\n",
      "Training_loss 0.00004,   Relative Error 0.00223\n"
     ]
    },
    {
     "name": "stderr",
     "output_type": "stream",
     "text": [
      " 31%|███       | 622/2000 [01:19<03:25,  6.71it/s]"
     ]
    },
    {
     "name": "stdout",
     "output_type": "stream",
     "text": [
      "Training_loss 0.00004,   Relative Error 0.00223\n",
      "Training_loss 0.00004,   Relative Error 0.00225\n"
     ]
    },
    {
     "name": "stderr",
     "output_type": "stream",
     "text": [
      " 31%|███       | 624/2000 [01:19<03:06,  7.38it/s]"
     ]
    },
    {
     "name": "stdout",
     "output_type": "stream",
     "text": [
      "Training_loss 0.00004,   Relative Error 0.00225\n",
      "Training_loss 0.00004,   Relative Error 0.00224\n"
     ]
    },
    {
     "name": "stderr",
     "output_type": "stream",
     "text": [
      " 31%|███▏      | 627/2000 [01:19<02:47,  8.22it/s]"
     ]
    },
    {
     "name": "stdout",
     "output_type": "stream",
     "text": [
      "Training_loss 0.00004,   Relative Error 0.00224\n",
      "Training_loss 0.00004,   Relative Error 0.00223\n",
      "Training_loss 0.00004,   Relative Error 0.00221\n"
     ]
    },
    {
     "name": "stderr",
     "output_type": "stream",
     "text": [
      " 31%|███▏      | 629/2000 [01:20<02:51,  7.99it/s]"
     ]
    },
    {
     "name": "stdout",
     "output_type": "stream",
     "text": [
      "Training_loss 0.00004,   Relative Error 0.00222\n",
      "Training_loss 0.00004,   Relative Error 0.00222\n"
     ]
    },
    {
     "name": "stderr",
     "output_type": "stream",
     "text": [
      " 32%|███▏      | 631/2000 [01:20<02:52,  7.94it/s]"
     ]
    },
    {
     "name": "stdout",
     "output_type": "stream",
     "text": [
      "Training_loss 0.00004,   Relative Error 0.00222\n",
      "Training_loss 0.00004,   Relative Error 0.00223\n"
     ]
    },
    {
     "name": "stderr",
     "output_type": "stream",
     "text": [
      " 32%|███▏      | 633/2000 [01:20<03:13,  7.06it/s]"
     ]
    },
    {
     "name": "stdout",
     "output_type": "stream",
     "text": [
      "Training_loss 0.00004,   Relative Error 0.00222\n",
      "Training_loss 0.00004,   Relative Error 0.00222\n"
     ]
    },
    {
     "name": "stderr",
     "output_type": "stream",
     "text": [
      " 32%|███▏      | 635/2000 [01:20<02:46,  8.20it/s]"
     ]
    },
    {
     "name": "stdout",
     "output_type": "stream",
     "text": [
      "Training_loss 0.00004,   Relative Error 0.00221\n",
      "Training_loss 0.00004,   Relative Error 0.00222\n"
     ]
    },
    {
     "name": "stderr",
     "output_type": "stream",
     "text": [
      " 32%|███▏      | 637/2000 [01:21<02:36,  8.70it/s]"
     ]
    },
    {
     "name": "stdout",
     "output_type": "stream",
     "text": [
      "Training_loss 0.00004,   Relative Error 0.00222\n",
      "Training_loss 0.00004,   Relative Error 0.00223\n"
     ]
    },
    {
     "name": "stderr",
     "output_type": "stream",
     "text": [
      " 32%|███▏      | 639/2000 [01:21<02:29,  9.09it/s]"
     ]
    },
    {
     "name": "stdout",
     "output_type": "stream",
     "text": [
      "Training_loss 0.00004,   Relative Error 0.00225\n",
      "Training_loss 0.00004,   Relative Error 0.00224\n"
     ]
    },
    {
     "name": "stderr",
     "output_type": "stream",
     "text": [
      " 32%|███▏      | 641/2000 [01:21<02:34,  8.77it/s]"
     ]
    },
    {
     "name": "stdout",
     "output_type": "stream",
     "text": [
      "Training_loss 0.00004,   Relative Error 0.00223\n",
      "Training_loss 0.00004,   Relative Error 0.00225\n"
     ]
    },
    {
     "name": "stderr",
     "output_type": "stream",
     "text": [
      " 32%|███▏      | 643/2000 [01:21<02:34,  8.78it/s]"
     ]
    },
    {
     "name": "stdout",
     "output_type": "stream",
     "text": [
      "Training_loss 0.00004,   Relative Error 0.00226\n",
      "Training_loss 0.00004,   Relative Error 0.00226\n"
     ]
    },
    {
     "name": "stderr",
     "output_type": "stream",
     "text": [
      " 32%|███▏      | 645/2000 [01:22<02:34,  8.77it/s]"
     ]
    },
    {
     "name": "stdout",
     "output_type": "stream",
     "text": [
      "Training_loss 0.00004,   Relative Error 0.00225\n",
      "Training_loss 0.00004,   Relative Error 0.00225\n"
     ]
    },
    {
     "name": "stderr",
     "output_type": "stream",
     "text": [
      " 32%|███▏      | 647/2000 [01:22<02:36,  8.63it/s]"
     ]
    },
    {
     "name": "stdout",
     "output_type": "stream",
     "text": [
      "Training_loss 0.00004,   Relative Error 0.00225\n",
      "Training_loss 0.00004,   Relative Error 0.00225\n"
     ]
    },
    {
     "name": "stderr",
     "output_type": "stream",
     "text": [
      " 32%|███▏      | 649/2000 [01:22<02:37,  8.58it/s]"
     ]
    },
    {
     "name": "stdout",
     "output_type": "stream",
     "text": [
      "Training_loss 0.00004,   Relative Error 0.00226\n",
      "Training_loss 0.00004,   Relative Error 0.00226\n"
     ]
    },
    {
     "name": "stderr",
     "output_type": "stream",
     "text": [
      "\r",
      " 32%|███▎      | 650/2000 [01:22<02:58,  7.57it/s]"
     ]
    },
    {
     "name": "stdout",
     "output_type": "stream",
     "text": [
      "Training_loss 0.00004,   Relative Error 0.00227\n"
     ]
    },
    {
     "name": "stderr",
     "output_type": "stream",
     "text": [
      " 33%|███▎      | 652/2000 [01:23<04:24,  5.10it/s]"
     ]
    },
    {
     "name": "stdout",
     "output_type": "stream",
     "text": [
      "Training_loss 0.00004,   Relative Error 0.00228\n",
      "Training_loss 0.00004,   Relative Error 0.00226\n"
     ]
    },
    {
     "name": "stderr",
     "output_type": "stream",
     "text": [
      "\r",
      " 33%|███▎      | 653/2000 [01:23<04:38,  4.84it/s]"
     ]
    },
    {
     "name": "stdout",
     "output_type": "stream",
     "text": [
      "Training_loss 0.00004,   Relative Error 0.00227\n"
     ]
    },
    {
     "name": "stderr",
     "output_type": "stream",
     "text": [
      " 33%|███▎      | 655/2000 [01:23<04:51,  4.61it/s]"
     ]
    },
    {
     "name": "stdout",
     "output_type": "stream",
     "text": [
      "Training_loss 0.00004,   Relative Error 0.00226\n",
      "Training_loss 0.00004,   Relative Error 0.00224\n"
     ]
    },
    {
     "name": "stderr",
     "output_type": "stream",
     "text": [
      " 33%|███▎      | 657/2000 [01:24<03:52,  5.78it/s]"
     ]
    },
    {
     "name": "stdout",
     "output_type": "stream",
     "text": [
      "Training_loss 0.00004,   Relative Error 0.00225\n",
      "Training_loss 0.00004,   Relative Error 0.00225\n"
     ]
    },
    {
     "name": "stderr",
     "output_type": "stream",
     "text": [
      " 33%|███▎      | 659/2000 [01:24<03:20,  6.68it/s]"
     ]
    },
    {
     "name": "stdout",
     "output_type": "stream",
     "text": [
      "Training_loss 0.00004,   Relative Error 0.00223\n",
      "Training_loss 0.00004,   Relative Error 0.00224\n"
     ]
    },
    {
     "name": "stderr",
     "output_type": "stream",
     "text": [
      " 33%|███▎      | 661/2000 [01:24<02:58,  7.49it/s]"
     ]
    },
    {
     "name": "stdout",
     "output_type": "stream",
     "text": [
      "Training_loss 0.00004,   Relative Error 0.00223\n",
      "Training_loss 0.00004,   Relative Error 0.00224\n"
     ]
    },
    {
     "name": "stderr",
     "output_type": "stream",
     "text": [
      " 33%|███▎      | 663/2000 [01:24<02:49,  7.90it/s]"
     ]
    },
    {
     "name": "stdout",
     "output_type": "stream",
     "text": [
      "Training_loss 0.00004,   Relative Error 0.00224\n",
      "Training_loss 0.00004,   Relative Error 0.00225\n"
     ]
    },
    {
     "name": "stderr",
     "output_type": "stream",
     "text": [
      " 33%|███▎      | 665/2000 [01:25<02:51,  7.78it/s]"
     ]
    },
    {
     "name": "stdout",
     "output_type": "stream",
     "text": [
      "Training_loss 0.00004,   Relative Error 0.00226\n",
      "Training_loss 0.00004,   Relative Error 0.00224\n"
     ]
    },
    {
     "name": "stderr",
     "output_type": "stream",
     "text": [
      " 33%|███▎      | 667/2000 [01:25<02:47,  7.94it/s]"
     ]
    },
    {
     "name": "stdout",
     "output_type": "stream",
     "text": [
      "Training_loss 0.00004,   Relative Error 0.00225\n",
      "Training_loss 0.00004,   Relative Error 0.00225\n",
      "Training_loss 0.00004,   Relative Error 0.00226\n"
     ]
    },
    {
     "name": "stderr",
     "output_type": "stream",
     "text": [
      " 34%|███▎      | 670/2000 [01:25<02:31,  8.79it/s]"
     ]
    },
    {
     "name": "stdout",
     "output_type": "stream",
     "text": [
      "Training_loss 0.00004,   Relative Error 0.00226\n",
      "Training_loss 0.00004,   Relative Error 0.00228\n"
     ]
    },
    {
     "name": "stderr",
     "output_type": "stream",
     "text": [
      " 34%|███▎      | 672/2000 [01:26<02:54,  7.62it/s]"
     ]
    },
    {
     "name": "stdout",
     "output_type": "stream",
     "text": [
      "Training_loss 0.00004,   Relative Error 0.00229\n",
      "Training_loss 0.00004,   Relative Error 0.00229\n"
     ]
    },
    {
     "name": "stderr",
     "output_type": "stream",
     "text": [
      "\r",
      " 34%|███▎      | 673/2000 [01:26<03:49,  5.78it/s]"
     ]
    },
    {
     "name": "stdout",
     "output_type": "stream",
     "text": [
      "Training_loss 0.00004,   Relative Error 0.00229\n"
     ]
    },
    {
     "name": "stderr",
     "output_type": "stream",
     "text": [
      "\r",
      " 34%|███▎      | 674/2000 [01:26<04:04,  5.42it/s]"
     ]
    },
    {
     "name": "stdout",
     "output_type": "stream",
     "text": [
      "Training_loss 0.00004,   Relative Error 0.00228\n"
     ]
    },
    {
     "name": "stderr",
     "output_type": "stream",
     "text": [
      " 34%|███▍      | 676/2000 [01:26<04:07,  5.35it/s]"
     ]
    },
    {
     "name": "stdout",
     "output_type": "stream",
     "text": [
      "Training_loss 0.00004,   Relative Error 0.00228\n",
      "Training_loss 0.00004,   Relative Error 0.00228\n"
     ]
    },
    {
     "name": "stderr",
     "output_type": "stream",
     "text": [
      " 34%|███▍      | 678/2000 [01:27<03:22,  6.54it/s]"
     ]
    },
    {
     "name": "stdout",
     "output_type": "stream",
     "text": [
      "Training_loss 0.00004,   Relative Error 0.00229\n",
      "Training_loss 0.00004,   Relative Error 0.00229\n"
     ]
    },
    {
     "name": "stderr",
     "output_type": "stream",
     "text": [
      " 34%|███▍      | 680/2000 [01:27<03:35,  6.14it/s]"
     ]
    },
    {
     "name": "stdout",
     "output_type": "stream",
     "text": [
      "Training_loss 0.00004,   Relative Error 0.00230\n",
      "Training_loss 0.00004,   Relative Error 0.00230\n"
     ]
    },
    {
     "name": "stderr",
     "output_type": "stream",
     "text": [
      " 34%|███▍      | 682/2000 [01:27<03:26,  6.38it/s]"
     ]
    },
    {
     "name": "stdout",
     "output_type": "stream",
     "text": [
      "Training_loss 0.00004,   Relative Error 0.00232\n",
      "Training_loss 0.00004,   Relative Error 0.00231\n"
     ]
    },
    {
     "name": "stderr",
     "output_type": "stream",
     "text": [
      " 34%|███▍      | 684/2000 [01:28<03:09,  6.93it/s]"
     ]
    },
    {
     "name": "stdout",
     "output_type": "stream",
     "text": [
      "Training_loss 0.00004,   Relative Error 0.00231\n",
      "Training_loss 0.00004,   Relative Error 0.00232\n"
     ]
    },
    {
     "name": "stderr",
     "output_type": "stream",
     "text": [
      " 34%|███▍      | 686/2000 [01:28<02:57,  7.40it/s]"
     ]
    },
    {
     "name": "stdout",
     "output_type": "stream",
     "text": [
      "Training_loss 0.00004,   Relative Error 0.00234\n",
      "Training_loss 0.00004,   Relative Error 0.00233\n"
     ]
    },
    {
     "name": "stderr",
     "output_type": "stream",
     "text": [
      " 34%|███▍      | 688/2000 [01:28<03:05,  7.07it/s]"
     ]
    },
    {
     "name": "stdout",
     "output_type": "stream",
     "text": [
      "Training_loss 0.00004,   Relative Error 0.00234\n",
      "Training_loss 0.00004,   Relative Error 0.00233\n"
     ]
    },
    {
     "name": "stderr",
     "output_type": "stream",
     "text": [
      " 34%|███▍      | 690/2000 [01:28<02:51,  7.63it/s]"
     ]
    },
    {
     "name": "stdout",
     "output_type": "stream",
     "text": [
      "Training_loss 0.00004,   Relative Error 0.00235\n",
      "Training_loss 0.00004,   Relative Error 0.00236\n"
     ]
    },
    {
     "name": "stderr",
     "output_type": "stream",
     "text": [
      " 35%|███▍      | 692/2000 [01:29<02:37,  8.30it/s]"
     ]
    },
    {
     "name": "stdout",
     "output_type": "stream",
     "text": [
      "Training_loss 0.00004,   Relative Error 0.00235\n",
      "Training_loss 0.00004,   Relative Error 0.00236\n"
     ]
    },
    {
     "name": "stderr",
     "output_type": "stream",
     "text": [
      " 35%|███▍      | 694/2000 [01:29<02:42,  8.03it/s]"
     ]
    },
    {
     "name": "stdout",
     "output_type": "stream",
     "text": [
      "Training_loss 0.00004,   Relative Error 0.00238\n",
      "Training_loss 0.00004,   Relative Error 0.00238\n"
     ]
    },
    {
     "name": "stderr",
     "output_type": "stream",
     "text": [
      "\r",
      " 35%|███▍      | 695/2000 [01:29<03:49,  5.70it/s]"
     ]
    },
    {
     "name": "stdout",
     "output_type": "stream",
     "text": [
      "Training_loss 0.00004,   Relative Error 0.00236\n"
     ]
    },
    {
     "name": "stderr",
     "output_type": "stream",
     "text": [
      " 35%|███▍      | 697/2000 [01:30<03:56,  5.52it/s]"
     ]
    },
    {
     "name": "stdout",
     "output_type": "stream",
     "text": [
      "Training_loss 0.00004,   Relative Error 0.00236\n",
      "Training_loss 0.00004,   Relative Error 0.00236\n"
     ]
    },
    {
     "name": "stderr",
     "output_type": "stream",
     "text": [
      " 35%|███▍      | 699/2000 [01:30<03:08,  6.90it/s]"
     ]
    },
    {
     "name": "stdout",
     "output_type": "stream",
     "text": [
      "Training_loss 0.00004,   Relative Error 0.00235\n",
      "Training_loss 0.00004,   Relative Error 0.00235\n"
     ]
    },
    {
     "name": "stderr",
     "output_type": "stream",
     "text": [
      " 35%|███▌      | 701/2000 [01:30<02:43,  7.95it/s]"
     ]
    },
    {
     "name": "stdout",
     "output_type": "stream",
     "text": [
      "Training_loss 0.00004,   Relative Error 0.00236\n",
      "Training_loss 0.00004,   Relative Error 0.00235\n"
     ]
    },
    {
     "name": "stderr",
     "output_type": "stream",
     "text": [
      "\r",
      " 35%|███▌      | 702/2000 [01:30<02:36,  8.32it/s]"
     ]
    },
    {
     "name": "stdout",
     "output_type": "stream",
     "text": [
      "Training_loss 0.00004,   Relative Error 0.00236\n",
      "Training_loss 0.00004,   Relative Error 0.00234\n"
     ]
    },
    {
     "name": "stderr",
     "output_type": "stream",
     "text": [
      " 35%|███▌      | 706/2000 [01:31<02:21,  9.13it/s]"
     ]
    },
    {
     "name": "stdout",
     "output_type": "stream",
     "text": [
      "Training_loss 0.00004,   Relative Error 0.00234\n",
      "Training_loss 0.00004,   Relative Error 0.00235\n",
      "Training_loss 0.00004,   Relative Error 0.00235\n"
     ]
    },
    {
     "name": "stderr",
     "output_type": "stream",
     "text": [
      " 35%|███▌      | 708/2000 [01:31<02:30,  8.59it/s]"
     ]
    },
    {
     "name": "stdout",
     "output_type": "stream",
     "text": [
      "Training_loss 0.00004,   Relative Error 0.00235\n",
      "Training_loss 0.00004,   Relative Error 0.00235\n"
     ]
    },
    {
     "name": "stderr",
     "output_type": "stream",
     "text": [
      "\r",
      " 35%|███▌      | 709/2000 [01:31<02:33,  8.42it/s]"
     ]
    },
    {
     "name": "stdout",
     "output_type": "stream",
     "text": [
      "Training_loss 0.00004,   Relative Error 0.00236\n"
     ]
    },
    {
     "name": "stderr",
     "output_type": "stream",
     "text": [
      "\r",
      " 36%|███▌      | 710/2000 [01:31<04:28,  4.80it/s]"
     ]
    },
    {
     "name": "stdout",
     "output_type": "stream",
     "text": [
      "Training_loss 0.00004,   Relative Error 0.00236\n"
     ]
    },
    {
     "name": "stderr",
     "output_type": "stream",
     "text": [
      "\r",
      " 36%|███▌      | 711/2000 [01:32<06:47,  3.16it/s]"
     ]
    },
    {
     "name": "stdout",
     "output_type": "stream",
     "text": [
      "Training_loss 0.00004,   Relative Error 0.00236\n"
     ]
    },
    {
     "name": "stderr",
     "output_type": "stream",
     "text": [
      " 36%|███▌      | 713/2000 [01:32<06:19,  3.39it/s]"
     ]
    },
    {
     "name": "stdout",
     "output_type": "stream",
     "text": [
      "Training_loss 0.00004,   Relative Error 0.00234\n",
      "Training_loss 0.00004,   Relative Error 0.00234\n"
     ]
    },
    {
     "name": "stderr",
     "output_type": "stream",
     "text": [
      " 36%|███▌      | 715/2000 [01:33<04:53,  4.38it/s]"
     ]
    },
    {
     "name": "stdout",
     "output_type": "stream",
     "text": [
      "Training_loss 0.00004,   Relative Error 0.00232\n",
      "Training_loss 0.00004,   Relative Error 0.00233\n"
     ]
    },
    {
     "name": "stderr",
     "output_type": "stream",
     "text": [
      " 36%|███▌      | 717/2000 [01:33<04:11,  5.11it/s]"
     ]
    },
    {
     "name": "stdout",
     "output_type": "stream",
     "text": [
      "Training_loss 0.00004,   Relative Error 0.00233\n",
      "Training_loss 0.00004,   Relative Error 0.00233\n"
     ]
    },
    {
     "name": "stderr",
     "output_type": "stream",
     "text": [
      " 36%|███▌      | 719/2000 [01:34<04:32,  4.70it/s]"
     ]
    },
    {
     "name": "stdout",
     "output_type": "stream",
     "text": [
      "Training_loss 0.00004,   Relative Error 0.00231\n",
      "Training_loss 0.00004,   Relative Error 0.00232\n"
     ]
    },
    {
     "name": "stderr",
     "output_type": "stream",
     "text": [
      "\r",
      " 36%|███▌      | 720/2000 [01:34<05:28,  3.89it/s]"
     ]
    },
    {
     "name": "stdout",
     "output_type": "stream",
     "text": [
      "Training_loss 0.00004,   Relative Error 0.00231\n"
     ]
    },
    {
     "name": "stderr",
     "output_type": "stream",
     "text": [
      "\r",
      " 36%|███▌      | 721/2000 [01:34<05:48,  3.67it/s]"
     ]
    },
    {
     "name": "stdout",
     "output_type": "stream",
     "text": [
      "Training_loss 0.00004,   Relative Error 0.00232\n"
     ]
    },
    {
     "name": "stderr",
     "output_type": "stream",
     "text": [
      "\r",
      " 36%|███▌      | 722/2000 [01:35<06:24,  3.32it/s]"
     ]
    },
    {
     "name": "stdout",
     "output_type": "stream",
     "text": [
      "Training_loss 0.00004,   Relative Error 0.00232\n"
     ]
    },
    {
     "name": "stderr",
     "output_type": "stream",
     "text": [
      " 36%|███▌      | 724/2000 [01:35<05:19,  3.99it/s]"
     ]
    },
    {
     "name": "stdout",
     "output_type": "stream",
     "text": [
      "Training_loss 0.00004,   Relative Error 0.00233\n",
      "Training_loss 0.00004,   Relative Error 0.00232\n"
     ]
    },
    {
     "name": "stderr",
     "output_type": "stream",
     "text": [
      "\r",
      " 36%|███▋      | 725/2000 [01:35<04:43,  4.49it/s]"
     ]
    },
    {
     "name": "stdout",
     "output_type": "stream",
     "text": [
      "Training_loss 0.00004,   Relative Error 0.00232\n"
     ]
    },
    {
     "name": "stderr",
     "output_type": "stream",
     "text": [
      "\r",
      " 36%|███▋      | 726/2000 [01:35<04:42,  4.51it/s]"
     ]
    },
    {
     "name": "stdout",
     "output_type": "stream",
     "text": [
      "Training_loss 0.00004,   Relative Error 0.00232\n"
     ]
    },
    {
     "name": "stderr",
     "output_type": "stream",
     "text": [
      " 36%|███▋      | 728/2000 [01:36<04:50,  4.38it/s]"
     ]
    },
    {
     "name": "stdout",
     "output_type": "stream",
     "text": [
      "Training_loss 0.00004,   Relative Error 0.00234\n",
      "Training_loss 0.00004,   Relative Error 0.00234\n"
     ]
    },
    {
     "name": "stderr",
     "output_type": "stream",
     "text": [
      " 36%|███▋      | 730/2000 [01:36<03:43,  5.69it/s]"
     ]
    },
    {
     "name": "stdout",
     "output_type": "stream",
     "text": [
      "Training_loss 0.00004,   Relative Error 0.00232\n",
      "Training_loss 0.00004,   Relative Error 0.00232\n"
     ]
    },
    {
     "name": "stderr",
     "output_type": "stream",
     "text": [
      "\r",
      " 37%|███▋      | 731/2000 [01:36<03:24,  6.19it/s]"
     ]
    },
    {
     "name": "stdout",
     "output_type": "stream",
     "text": [
      "Training_loss 0.00004,   Relative Error 0.00232\n"
     ]
    },
    {
     "name": "stderr",
     "output_type": "stream",
     "text": [
      "\r",
      " 37%|███▋      | 732/2000 [01:37<03:59,  5.28it/s]"
     ]
    },
    {
     "name": "stdout",
     "output_type": "stream",
     "text": [
      "Training_loss 0.00004,   Relative Error 0.00231\n"
     ]
    },
    {
     "name": "stderr",
     "output_type": "stream",
     "text": [
      "\r",
      " 37%|███▋      | 733/2000 [01:37<04:41,  4.50it/s]"
     ]
    },
    {
     "name": "stdout",
     "output_type": "stream",
     "text": [
      "Training_loss 0.00004,   Relative Error 0.00232\n"
     ]
    },
    {
     "name": "stderr",
     "output_type": "stream",
     "text": [
      "\r",
      " 37%|███▋      | 734/2000 [01:37<05:19,  3.96it/s]"
     ]
    },
    {
     "name": "stdout",
     "output_type": "stream",
     "text": [
      "Training_loss 0.00004,   Relative Error 0.00230\n"
     ]
    },
    {
     "name": "stderr",
     "output_type": "stream",
     "text": [
      " 37%|███▋      | 736/2000 [01:38<04:28,  4.70it/s]"
     ]
    },
    {
     "name": "stdout",
     "output_type": "stream",
     "text": [
      "Training_loss 0.00004,   Relative Error 0.00231\n",
      "Training_loss 0.00004,   Relative Error 0.00231\n"
     ]
    },
    {
     "name": "stderr",
     "output_type": "stream",
     "text": [
      "\r",
      " 37%|███▋      | 737/2000 [01:38<04:05,  5.14it/s]"
     ]
    },
    {
     "name": "stdout",
     "output_type": "stream",
     "text": [
      "Training_loss 0.00004,   Relative Error 0.00232\n"
     ]
    },
    {
     "name": "stderr",
     "output_type": "stream",
     "text": [
      " 37%|███▋      | 739/2000 [01:38<04:05,  5.14it/s]"
     ]
    },
    {
     "name": "stdout",
     "output_type": "stream",
     "text": [
      "Training_loss 0.00004,   Relative Error 0.00231\n",
      "Training_loss 0.00004,   Relative Error 0.00230\n"
     ]
    },
    {
     "name": "stderr",
     "output_type": "stream",
     "text": [
      " 37%|███▋      | 741/2000 [01:38<03:40,  5.72it/s]"
     ]
    },
    {
     "name": "stdout",
     "output_type": "stream",
     "text": [
      "Training_loss 0.00004,   Relative Error 0.00230\n",
      "Training_loss 0.00004,   Relative Error 0.00230\n"
     ]
    },
    {
     "name": "stderr",
     "output_type": "stream",
     "text": [
      " 37%|███▋      | 743/2000 [01:39<03:41,  5.68it/s]"
     ]
    },
    {
     "name": "stdout",
     "output_type": "stream",
     "text": [
      "Training_loss 0.00004,   Relative Error 0.00231\n",
      "Training_loss 0.00004,   Relative Error 0.00231\n"
     ]
    },
    {
     "name": "stderr",
     "output_type": "stream",
     "text": [
      " 37%|███▋      | 745/2000 [01:39<04:11,  5.00it/s]"
     ]
    },
    {
     "name": "stdout",
     "output_type": "stream",
     "text": [
      "Training_loss 0.00004,   Relative Error 0.00232\n",
      "Training_loss 0.00004,   Relative Error 0.00231\n"
     ]
    },
    {
     "name": "stderr",
     "output_type": "stream",
     "text": [
      " 37%|███▋      | 747/2000 [01:40<03:45,  5.54it/s]"
     ]
    },
    {
     "name": "stdout",
     "output_type": "stream",
     "text": [
      "Training_loss 0.00004,   Relative Error 0.00231\n",
      "Training_loss 0.00004,   Relative Error 0.00232\n"
     ]
    },
    {
     "name": "stderr",
     "output_type": "stream",
     "text": [
      " 37%|███▋      | 749/2000 [01:40<03:14,  6.43it/s]"
     ]
    },
    {
     "name": "stdout",
     "output_type": "stream",
     "text": [
      "Training_loss 0.00004,   Relative Error 0.00231\n",
      "Training_loss 0.00004,   Relative Error 0.00234\n"
     ]
    },
    {
     "name": "stderr",
     "output_type": "stream",
     "text": [
      " 38%|███▊      | 751/2000 [01:40<03:18,  6.28it/s]"
     ]
    },
    {
     "name": "stdout",
     "output_type": "stream",
     "text": [
      "Training_loss 0.00004,   Relative Error 0.00233\n",
      "Training_loss 0.00004,   Relative Error 0.00231\n"
     ]
    },
    {
     "name": "stderr",
     "output_type": "stream",
     "text": [
      " 38%|███▊      | 753/2000 [01:40<03:11,  6.52it/s]"
     ]
    },
    {
     "name": "stdout",
     "output_type": "stream",
     "text": [
      "Training_loss 0.00004,   Relative Error 0.00231\n",
      "Training_loss 0.00004,   Relative Error 0.00232\n"
     ]
    },
    {
     "name": "stderr",
     "output_type": "stream",
     "text": [
      " 38%|███▊      | 755/2000 [01:41<03:22,  6.15it/s]"
     ]
    },
    {
     "name": "stdout",
     "output_type": "stream",
     "text": [
      "Training_loss 0.00004,   Relative Error 0.00232\n",
      "Training_loss 0.00004,   Relative Error 0.00232\n"
     ]
    },
    {
     "name": "stderr",
     "output_type": "stream",
     "text": [
      " 38%|███▊      | 757/2000 [01:41<03:18,  6.26it/s]"
     ]
    },
    {
     "name": "stdout",
     "output_type": "stream",
     "text": [
      "Training_loss 0.00004,   Relative Error 0.00232\n",
      "Training_loss 0.00004,   Relative Error 0.00233\n"
     ]
    },
    {
     "name": "stderr",
     "output_type": "stream",
     "text": [
      " 38%|███▊      | 759/2000 [01:41<03:09,  6.53it/s]"
     ]
    },
    {
     "name": "stdout",
     "output_type": "stream",
     "text": [
      "Training_loss 0.00004,   Relative Error 0.00231\n",
      "Training_loss 0.00004,   Relative Error 0.00228\n"
     ]
    },
    {
     "name": "stderr",
     "output_type": "stream",
     "text": [
      " 38%|███▊      | 761/2000 [01:42<03:06,  6.66it/s]"
     ]
    },
    {
     "name": "stdout",
     "output_type": "stream",
     "text": [
      "Training_loss 0.00004,   Relative Error 0.00229\n",
      "Training_loss 0.00004,   Relative Error 0.00229\n"
     ]
    },
    {
     "name": "stderr",
     "output_type": "stream",
     "text": [
      " 38%|███▊      | 763/2000 [01:42<02:56,  7.01it/s]"
     ]
    },
    {
     "name": "stdout",
     "output_type": "stream",
     "text": [
      "Training_loss 0.00004,   Relative Error 0.00231\n",
      "Training_loss 0.00004,   Relative Error 0.00232\n"
     ]
    },
    {
     "name": "stderr",
     "output_type": "stream",
     "text": [
      " 38%|███▊      | 765/2000 [01:42<02:39,  7.77it/s]"
     ]
    },
    {
     "name": "stdout",
     "output_type": "stream",
     "text": [
      "Training_loss 0.00004,   Relative Error 0.00233\n",
      "Training_loss 0.00004,   Relative Error 0.00233\n"
     ]
    },
    {
     "name": "stderr",
     "output_type": "stream",
     "text": [
      " 38%|███▊      | 767/2000 [01:42<02:28,  8.29it/s]"
     ]
    },
    {
     "name": "stdout",
     "output_type": "stream",
     "text": [
      "Training_loss 0.00004,   Relative Error 0.00233\n",
      "Training_loss 0.00004,   Relative Error 0.00234\n"
     ]
    },
    {
     "name": "stderr",
     "output_type": "stream",
     "text": [
      " 38%|███▊      | 769/2000 [01:43<02:51,  7.20it/s]"
     ]
    },
    {
     "name": "stdout",
     "output_type": "stream",
     "text": [
      "Training_loss 0.00004,   Relative Error 0.00235\n",
      "Training_loss 0.00004,   Relative Error 0.00235\n"
     ]
    },
    {
     "name": "stderr",
     "output_type": "stream",
     "text": [
      " 39%|███▊      | 771/2000 [01:43<02:59,  6.85it/s]"
     ]
    },
    {
     "name": "stdout",
     "output_type": "stream",
     "text": [
      "Training_loss 0.00004,   Relative Error 0.00234\n",
      "Training_loss 0.00004,   Relative Error 0.00234\n"
     ]
    },
    {
     "name": "stderr",
     "output_type": "stream",
     "text": [
      " 39%|███▊      | 773/2000 [01:43<02:35,  7.89it/s]"
     ]
    },
    {
     "name": "stdout",
     "output_type": "stream",
     "text": [
      "Training_loss 0.00004,   Relative Error 0.00233\n",
      "Training_loss 0.00004,   Relative Error 0.00233\n"
     ]
    },
    {
     "name": "stderr",
     "output_type": "stream",
     "text": [
      "\r",
      " 39%|███▊      | 774/2000 [01:43<02:31,  8.07it/s]"
     ]
    },
    {
     "name": "stdout",
     "output_type": "stream",
     "text": [
      "Training_loss 0.00004,   Relative Error 0.00230\n"
     ]
    },
    {
     "name": "stderr",
     "output_type": "stream",
     "text": [
      " 39%|███▉      | 777/2000 [01:44<02:38,  7.72it/s]"
     ]
    },
    {
     "name": "stdout",
     "output_type": "stream",
     "text": [
      "Training_loss 0.00004,   Relative Error 0.00231\n",
      "Training_loss 0.00004,   Relative Error 0.00230\n",
      "Training_loss 0.00004,   Relative Error 0.00231\n"
     ]
    },
    {
     "name": "stderr",
     "output_type": "stream",
     "text": [
      " 39%|███▉      | 779/2000 [01:44<02:24,  8.47it/s]"
     ]
    },
    {
     "name": "stdout",
     "output_type": "stream",
     "text": [
      "Training_loss 0.00004,   Relative Error 0.00231\n",
      "Training_loss 0.00004,   Relative Error 0.00231\n"
     ]
    },
    {
     "name": "stderr",
     "output_type": "stream",
     "text": [
      " 39%|███▉      | 781/2000 [01:44<02:18,  8.78it/s]"
     ]
    },
    {
     "name": "stdout",
     "output_type": "stream",
     "text": [
      "Training_loss 0.00004,   Relative Error 0.00233\n",
      "Training_loss 0.00004,   Relative Error 0.00234\n"
     ]
    },
    {
     "name": "stderr",
     "output_type": "stream",
     "text": [
      "\r",
      " 39%|███▉      | 782/2000 [01:44<02:23,  8.47it/s]"
     ]
    },
    {
     "name": "stdout",
     "output_type": "stream",
     "text": [
      "Training_loss 0.00004,   Relative Error 0.00233\n"
     ]
    },
    {
     "name": "stderr",
     "output_type": "stream",
     "text": [
      "\r",
      " 39%|███▉      | 783/2000 [01:45<02:59,  6.78it/s]"
     ]
    },
    {
     "name": "stdout",
     "output_type": "stream",
     "text": [
      "Training_loss 0.00004,   Relative Error 0.00233\n"
     ]
    },
    {
     "name": "stderr",
     "output_type": "stream",
     "text": [
      "\r",
      " 39%|███▉      | 784/2000 [01:45<03:57,  5.13it/s]"
     ]
    },
    {
     "name": "stdout",
     "output_type": "stream",
     "text": [
      "Training_loss 0.00004,   Relative Error 0.00234\n"
     ]
    },
    {
     "name": "stderr",
     "output_type": "stream",
     "text": [
      "\r",
      " 39%|███▉      | 785/2000 [01:45<04:30,  4.49it/s]"
     ]
    },
    {
     "name": "stdout",
     "output_type": "stream",
     "text": [
      "Training_loss 0.00004,   Relative Error 0.00233\n"
     ]
    },
    {
     "name": "stderr",
     "output_type": "stream",
     "text": [
      "\r",
      " 39%|███▉      | 786/2000 [01:46<05:14,  3.86it/s]"
     ]
    },
    {
     "name": "stdout",
     "output_type": "stream",
     "text": [
      "Training_loss 0.00004,   Relative Error 0.00235\n"
     ]
    },
    {
     "name": "stderr",
     "output_type": "stream",
     "text": [
      " 39%|███▉      | 788/2000 [01:46<04:55,  4.10it/s]"
     ]
    },
    {
     "name": "stdout",
     "output_type": "stream",
     "text": [
      "Training_loss 0.00004,   Relative Error 0.00236\n",
      "Training_loss 0.00004,   Relative Error 0.00236\n"
     ]
    },
    {
     "name": "stderr",
     "output_type": "stream",
     "text": [
      " 40%|███▉      | 790/2000 [01:46<03:54,  5.17it/s]"
     ]
    },
    {
     "name": "stdout",
     "output_type": "stream",
     "text": [
      "Training_loss 0.00004,   Relative Error 0.00237\n",
      "Training_loss 0.00004,   Relative Error 0.00237\n"
     ]
    },
    {
     "name": "stderr",
     "output_type": "stream",
     "text": [
      " 40%|███▉      | 792/2000 [01:47<03:17,  6.10it/s]"
     ]
    },
    {
     "name": "stdout",
     "output_type": "stream",
     "text": [
      "Training_loss 0.00004,   Relative Error 0.00235\n",
      "Training_loss 0.00004,   Relative Error 0.00236\n"
     ]
    },
    {
     "name": "stderr",
     "output_type": "stream",
     "text": [
      " 40%|███▉      | 795/2000 [01:47<02:34,  7.81it/s]"
     ]
    },
    {
     "name": "stdout",
     "output_type": "stream",
     "text": [
      "Training_loss 0.00004,   Relative Error 0.00237\n",
      "Training_loss 0.00004,   Relative Error 0.00237\n",
      "Training_loss 0.00004,   Relative Error 0.00235\n"
     ]
    },
    {
     "name": "stderr",
     "output_type": "stream",
     "text": [
      " 40%|███▉      | 797/2000 [01:47<02:18,  8.68it/s]"
     ]
    },
    {
     "name": "stdout",
     "output_type": "stream",
     "text": [
      "Training_loss 0.00004,   Relative Error 0.00236\n",
      "Training_loss 0.00004,   Relative Error 0.00235\n"
     ]
    },
    {
     "name": "stderr",
     "output_type": "stream",
     "text": [
      " 40%|███▉      | 799/2000 [01:47<02:26,  8.20it/s]"
     ]
    },
    {
     "name": "stdout",
     "output_type": "stream",
     "text": [
      "Training_loss 0.00004,   Relative Error 0.00235\n",
      "Training_loss 0.00004,   Relative Error 0.00234\n"
     ]
    },
    {
     "name": "stderr",
     "output_type": "stream",
     "text": [
      " 40%|████      | 801/2000 [01:48<02:19,  8.61it/s]"
     ]
    },
    {
     "name": "stdout",
     "output_type": "stream",
     "text": [
      "Training_loss 0.00004,   Relative Error 0.00234\n",
      "Training_loss 0.00004,   Relative Error 0.00234\n"
     ]
    },
    {
     "name": "stderr",
     "output_type": "stream",
     "text": [
      " 40%|████      | 803/2000 [01:48<02:15,  8.83it/s]"
     ]
    },
    {
     "name": "stdout",
     "output_type": "stream",
     "text": [
      "Training_loss 0.00004,   Relative Error 0.00234\n",
      "Training_loss 0.00004,   Relative Error 0.00235\n"
     ]
    },
    {
     "name": "stderr",
     "output_type": "stream",
     "text": [
      " 40%|████      | 805/2000 [01:48<02:10,  9.19it/s]"
     ]
    },
    {
     "name": "stdout",
     "output_type": "stream",
     "text": [
      "Training_loss 0.00004,   Relative Error 0.00236\n",
      "Training_loss 0.00004,   Relative Error 0.00236\n"
     ]
    },
    {
     "name": "stderr",
     "output_type": "stream",
     "text": [
      " 40%|████      | 807/2000 [01:48<02:11,  9.09it/s]"
     ]
    },
    {
     "name": "stdout",
     "output_type": "stream",
     "text": [
      "Training_loss 0.00004,   Relative Error 0.00237\n",
      "Training_loss 0.00004,   Relative Error 0.00236\n"
     ]
    },
    {
     "name": "stderr",
     "output_type": "stream",
     "text": [
      " 40%|████      | 809/2000 [01:48<02:17,  8.64it/s]"
     ]
    },
    {
     "name": "stdout",
     "output_type": "stream",
     "text": [
      "Training_loss 0.00004,   Relative Error 0.00236\n",
      "Training_loss 0.00004,   Relative Error 0.00237\n"
     ]
    },
    {
     "name": "stderr",
     "output_type": "stream",
     "text": [
      " 41%|████      | 811/2000 [01:49<02:14,  8.85it/s]"
     ]
    },
    {
     "name": "stdout",
     "output_type": "stream",
     "text": [
      "Training_loss 0.00004,   Relative Error 0.00236\n",
      "Training_loss 0.00004,   Relative Error 0.00237\n"
     ]
    },
    {
     "name": "stderr",
     "output_type": "stream",
     "text": [
      " 41%|████      | 813/2000 [01:49<02:18,  8.60it/s]"
     ]
    },
    {
     "name": "stdout",
     "output_type": "stream",
     "text": [
      "Training_loss 0.00004,   Relative Error 0.00238\n",
      "Training_loss 0.00004,   Relative Error 0.00239\n"
     ]
    },
    {
     "name": "stderr",
     "output_type": "stream",
     "text": [
      " 41%|████      | 815/2000 [01:49<02:12,  8.95it/s]"
     ]
    },
    {
     "name": "stdout",
     "output_type": "stream",
     "text": [
      "Training_loss 0.00004,   Relative Error 0.00238\n",
      "Training_loss 0.00004,   Relative Error 0.00238\n"
     ]
    },
    {
     "name": "stderr",
     "output_type": "stream",
     "text": [
      " 41%|████      | 817/2000 [01:49<02:13,  8.89it/s]"
     ]
    },
    {
     "name": "stdout",
     "output_type": "stream",
     "text": [
      "Training_loss 0.00004,   Relative Error 0.00237\n",
      "Training_loss 0.00004,   Relative Error 0.00236\n",
      "Training_loss 0.00004,   Relative Error 0.00237\n"
     ]
    },
    {
     "name": "stderr",
     "output_type": "stream",
     "text": [
      " 41%|████      | 820/2000 [01:50<02:06,  9.33it/s]"
     ]
    },
    {
     "name": "stdout",
     "output_type": "stream",
     "text": [
      "Training_loss 0.00004,   Relative Error 0.00237\n",
      "Training_loss 0.00004,   Relative Error 0.00237\n"
     ]
    },
    {
     "name": "stderr",
     "output_type": "stream",
     "text": [
      " 41%|████      | 822/2000 [01:50<02:06,  9.34it/s]"
     ]
    },
    {
     "name": "stdout",
     "output_type": "stream",
     "text": [
      "Training_loss 0.00004,   Relative Error 0.00238\n",
      "Training_loss 0.00004,   Relative Error 0.00239\n"
     ]
    },
    {
     "name": "stderr",
     "output_type": "stream",
     "text": [
      " 41%|████      | 824/2000 [01:50<02:08,  9.12it/s]"
     ]
    },
    {
     "name": "stdout",
     "output_type": "stream",
     "text": [
      "Training_loss 0.00004,   Relative Error 0.00237\n",
      "Training_loss 0.00004,   Relative Error 0.00239\n"
     ]
    },
    {
     "name": "stderr",
     "output_type": "stream",
     "text": [
      " 41%|████▏     | 826/2000 [01:50<02:15,  8.65it/s]"
     ]
    },
    {
     "name": "stdout",
     "output_type": "stream",
     "text": [
      "Training_loss 0.00004,   Relative Error 0.00239\n",
      "Training_loss 0.00004,   Relative Error 0.00238\n"
     ]
    },
    {
     "name": "stderr",
     "output_type": "stream",
     "text": [
      " 41%|████▏     | 829/2000 [01:51<02:07,  9.18it/s]"
     ]
    },
    {
     "name": "stdout",
     "output_type": "stream",
     "text": [
      "Training_loss 0.00004,   Relative Error 0.00238\n",
      "Training_loss 0.00004,   Relative Error 0.00235\n",
      "Training_loss 0.00004,   Relative Error 0.00237\n"
     ]
    },
    {
     "name": "stderr",
     "output_type": "stream",
     "text": [
      " 42%|████▏     | 832/2000 [01:51<02:05,  9.29it/s]"
     ]
    },
    {
     "name": "stdout",
     "output_type": "stream",
     "text": [
      "Training_loss 0.00004,   Relative Error 0.00237\n",
      "Training_loss 0.00004,   Relative Error 0.00238\n",
      "Training_loss 0.00004,   Relative Error 0.00239\n"
     ]
    },
    {
     "name": "stderr",
     "output_type": "stream",
     "text": [
      " 42%|████▏     | 834/2000 [01:51<02:07,  9.12it/s]"
     ]
    },
    {
     "name": "stdout",
     "output_type": "stream",
     "text": [
      "Training_loss 0.00004,   Relative Error 0.00238\n",
      "Training_loss 0.00004,   Relative Error 0.00238\n"
     ]
    },
    {
     "name": "stderr",
     "output_type": "stream",
     "text": [
      " 42%|████▏     | 836/2000 [01:51<02:11,  8.83it/s]"
     ]
    },
    {
     "name": "stdout",
     "output_type": "stream",
     "text": [
      "Training_loss 0.00004,   Relative Error 0.00238\n",
      "Training_loss 0.00004,   Relative Error 0.00237\n"
     ]
    },
    {
     "name": "stderr",
     "output_type": "stream",
     "text": [
      " 42%|████▏     | 838/2000 [01:52<02:08,  9.06it/s]"
     ]
    },
    {
     "name": "stdout",
     "output_type": "stream",
     "text": [
      "Training_loss 0.00004,   Relative Error 0.00237\n",
      "Training_loss 0.00004,   Relative Error 0.00239\n"
     ]
    },
    {
     "name": "stderr",
     "output_type": "stream",
     "text": [
      " 42%|████▏     | 840/2000 [01:52<02:05,  9.23it/s]"
     ]
    },
    {
     "name": "stdout",
     "output_type": "stream",
     "text": [
      "Training_loss 0.00004,   Relative Error 0.00240\n",
      "Training_loss 0.00004,   Relative Error 0.00240\n",
      "Training_loss 0.00004,   Relative Error 0.00240\n"
     ]
    },
    {
     "name": "stderr",
     "output_type": "stream",
     "text": [
      " 42%|████▏     | 843/2000 [01:52<02:27,  7.84it/s]"
     ]
    },
    {
     "name": "stdout",
     "output_type": "stream",
     "text": [
      "Training_loss 0.00004,   Relative Error 0.00242\n",
      "Training_loss 0.00004,   Relative Error 0.00242\n"
     ]
    },
    {
     "name": "stderr",
     "output_type": "stream",
     "text": [
      " 42%|████▏     | 845/2000 [01:53<02:13,  8.62it/s]"
     ]
    },
    {
     "name": "stdout",
     "output_type": "stream",
     "text": [
      "Training_loss 0.00004,   Relative Error 0.00241\n",
      "Training_loss 0.00004,   Relative Error 0.00241\n"
     ]
    },
    {
     "name": "stderr",
     "output_type": "stream",
     "text": [
      " 42%|████▏     | 847/2000 [01:53<02:11,  8.75it/s]"
     ]
    },
    {
     "name": "stdout",
     "output_type": "stream",
     "text": [
      "Training_loss 0.00004,   Relative Error 0.00239\n",
      "Training_loss 0.00004,   Relative Error 0.00241\n"
     ]
    },
    {
     "name": "stderr",
     "output_type": "stream",
     "text": [
      " 42%|████▏     | 849/2000 [01:53<02:23,  8.03it/s]"
     ]
    },
    {
     "name": "stdout",
     "output_type": "stream",
     "text": [
      "Training_loss 0.00004,   Relative Error 0.00242\n",
      "Training_loss 0.00004,   Relative Error 0.00241\n"
     ]
    },
    {
     "name": "stderr",
     "output_type": "stream",
     "text": [
      " 43%|████▎     | 851/2000 [01:53<02:23,  8.02it/s]"
     ]
    },
    {
     "name": "stdout",
     "output_type": "stream",
     "text": [
      "Training_loss 0.00004,   Relative Error 0.00240\n",
      "Training_loss 0.00004,   Relative Error 0.00241\n"
     ]
    },
    {
     "name": "stderr",
     "output_type": "stream",
     "text": [
      " 43%|████▎     | 853/2000 [01:53<02:11,  8.73it/s]"
     ]
    },
    {
     "name": "stdout",
     "output_type": "stream",
     "text": [
      "Training_loss 0.00004,   Relative Error 0.00241\n",
      "Training_loss 0.00004,   Relative Error 0.00242\n"
     ]
    },
    {
     "name": "stderr",
     "output_type": "stream",
     "text": [
      " 43%|████▎     | 855/2000 [01:54<02:07,  8.95it/s]"
     ]
    },
    {
     "name": "stdout",
     "output_type": "stream",
     "text": [
      "Training_loss 0.00004,   Relative Error 0.00242\n",
      "Training_loss 0.00004,   Relative Error 0.00243\n"
     ]
    },
    {
     "name": "stderr",
     "output_type": "stream",
     "text": [
      " 43%|████▎     | 858/2000 [01:54<02:03,  9.28it/s]"
     ]
    },
    {
     "name": "stdout",
     "output_type": "stream",
     "text": [
      "Training_loss 0.00004,   Relative Error 0.00243\n",
      "Training_loss 0.00004,   Relative Error 0.00244\n",
      "Training_loss 0.00004,   Relative Error 0.00244\n"
     ]
    },
    {
     "name": "stderr",
     "output_type": "stream",
     "text": [
      " 43%|████▎     | 860/2000 [01:54<02:10,  8.74it/s]"
     ]
    },
    {
     "name": "stdout",
     "output_type": "stream",
     "text": [
      "Training_loss 0.00004,   Relative Error 0.00244\n",
      "Training_loss 0.00004,   Relative Error 0.00244\n"
     ]
    },
    {
     "name": "stderr",
     "output_type": "stream",
     "text": [
      " 43%|████▎     | 863/2000 [01:55<02:03,  9.17it/s]"
     ]
    },
    {
     "name": "stdout",
     "output_type": "stream",
     "text": [
      "Training_loss 0.00004,   Relative Error 0.00244\n",
      "Training_loss 0.00004,   Relative Error 0.00243\n",
      "Training_loss 0.00004,   Relative Error 0.00244\n"
     ]
    },
    {
     "name": "stderr",
     "output_type": "stream",
     "text": [
      " 43%|████▎     | 866/2000 [01:55<02:03,  9.22it/s]"
     ]
    },
    {
     "name": "stdout",
     "output_type": "stream",
     "text": [
      "Training_loss 0.00004,   Relative Error 0.00243\n",
      "Training_loss 0.00004,   Relative Error 0.00243\n",
      "Training_loss 0.00004,   Relative Error 0.00243\n"
     ]
    },
    {
     "name": "stderr",
     "output_type": "stream",
     "text": [
      " 43%|████▎     | 869/2000 [01:55<02:01,  9.27it/s]"
     ]
    },
    {
     "name": "stdout",
     "output_type": "stream",
     "text": [
      "Training_loss 0.00004,   Relative Error 0.00242\n",
      "Training_loss 0.00004,   Relative Error 0.00243\n",
      "Training_loss 0.00004,   Relative Error 0.00242\n"
     ]
    },
    {
     "name": "stderr",
     "output_type": "stream",
     "text": [
      " 44%|████▎     | 871/2000 [01:55<01:58,  9.54it/s]"
     ]
    },
    {
     "name": "stdout",
     "output_type": "stream",
     "text": [
      "Training_loss 0.00004,   Relative Error 0.00240\n",
      "Training_loss 0.00004,   Relative Error 0.00238\n",
      "Training_loss 0.00004,   Relative Error 0.00237\n"
     ]
    },
    {
     "name": "stderr",
     "output_type": "stream",
     "text": [
      "\r",
      " 44%|████▎     | 873/2000 [01:56<01:55,  9.73it/s]"
     ]
    },
    {
     "name": "stdout",
     "output_type": "stream",
     "text": [
      "Training_loss 0.00004,   Relative Error 0.00237\n",
      "Training_loss 0.00004,   Relative Error 0.00236\n"
     ]
    },
    {
     "name": "stderr",
     "output_type": "stream",
     "text": [
      " 44%|████▍     | 877/2000 [01:56<01:57,  9.58it/s]"
     ]
    },
    {
     "name": "stdout",
     "output_type": "stream",
     "text": [
      "Training_loss 0.00004,   Relative Error 0.00237\n",
      "Training_loss 0.00004,   Relative Error 0.00238\n",
      "Training_loss 0.00004,   Relative Error 0.00236\n"
     ]
    },
    {
     "name": "stderr",
     "output_type": "stream",
     "text": [
      "\r",
      " 44%|████▍     | 879/2000 [01:56<01:59,  9.41it/s]"
     ]
    },
    {
     "name": "stdout",
     "output_type": "stream",
     "text": [
      "Training_loss 0.00004,   Relative Error 0.00238\n",
      "Training_loss 0.00004,   Relative Error 0.00238\n"
     ]
    },
    {
     "name": "stderr",
     "output_type": "stream",
     "text": [
      " 44%|████▍     | 882/2000 [01:57<01:58,  9.42it/s]"
     ]
    },
    {
     "name": "stdout",
     "output_type": "stream",
     "text": [
      "Training_loss 0.00004,   Relative Error 0.00238\n",
      "Training_loss 0.00004,   Relative Error 0.00237\n",
      "Training_loss 0.00004,   Relative Error 0.00237\n"
     ]
    },
    {
     "name": "stderr",
     "output_type": "stream",
     "text": [
      "\r",
      " 44%|████▍     | 884/2000 [01:57<01:55,  9.65it/s]"
     ]
    },
    {
     "name": "stdout",
     "output_type": "stream",
     "text": [
      "Training_loss 0.00004,   Relative Error 0.00237\n",
      "Training_loss 0.00004,   Relative Error 0.00236\n"
     ]
    },
    {
     "name": "stderr",
     "output_type": "stream",
     "text": [
      " 44%|████▍     | 887/2000 [01:57<01:56,  9.55it/s]"
     ]
    },
    {
     "name": "stdout",
     "output_type": "stream",
     "text": [
      "Training_loss 0.00004,   Relative Error 0.00237\n",
      "Training_loss 0.00004,   Relative Error 0.00238\n",
      "Training_loss 0.00004,   Relative Error 0.00236\n"
     ]
    },
    {
     "name": "stderr",
     "output_type": "stream",
     "text": [
      " 44%|████▍     | 889/2000 [01:57<01:57,  9.46it/s]"
     ]
    },
    {
     "name": "stdout",
     "output_type": "stream",
     "text": [
      "Training_loss 0.00004,   Relative Error 0.00235\n",
      "Training_loss 0.00004,   Relative Error 0.00237\n"
     ]
    },
    {
     "name": "stderr",
     "output_type": "stream",
     "text": [
      " 45%|████▍     | 891/2000 [01:58<01:58,  9.36it/s]"
     ]
    },
    {
     "name": "stdout",
     "output_type": "stream",
     "text": [
      "Training_loss 0.00004,   Relative Error 0.00236\n",
      "Training_loss 0.00004,   Relative Error 0.00235\n"
     ]
    },
    {
     "name": "stderr",
     "output_type": "stream",
     "text": [
      " 45%|████▍     | 893/2000 [01:58<02:27,  7.51it/s]"
     ]
    },
    {
     "name": "stdout",
     "output_type": "stream",
     "text": [
      "Training_loss 0.00004,   Relative Error 0.00235\n",
      "Training_loss 0.00004,   Relative Error 0.00234\n"
     ]
    },
    {
     "name": "stderr",
     "output_type": "stream",
     "text": [
      " 45%|████▍     | 895/2000 [01:58<02:26,  7.53it/s]"
     ]
    },
    {
     "name": "stdout",
     "output_type": "stream",
     "text": [
      "Training_loss 0.00004,   Relative Error 0.00235\n",
      "Training_loss 0.00004,   Relative Error 0.00234\n"
     ]
    },
    {
     "name": "stderr",
     "output_type": "stream",
     "text": [
      " 45%|████▍     | 897/2000 [01:58<02:15,  8.12it/s]"
     ]
    },
    {
     "name": "stdout",
     "output_type": "stream",
     "text": [
      "Training_loss 0.00004,   Relative Error 0.00232\n",
      "Training_loss 0.00004,   Relative Error 0.00228\n"
     ]
    },
    {
     "name": "stderr",
     "output_type": "stream",
     "text": [
      " 45%|████▍     | 899/2000 [01:59<02:11,  8.39it/s]"
     ]
    },
    {
     "name": "stdout",
     "output_type": "stream",
     "text": [
      "Training_loss 0.00004,   Relative Error 0.00226\n",
      "Training_loss 0.00004,   Relative Error 0.00226\n"
     ]
    },
    {
     "name": "stderr",
     "output_type": "stream",
     "text": [
      " 45%|████▌     | 901/2000 [01:59<02:16,  8.06it/s]"
     ]
    },
    {
     "name": "stdout",
     "output_type": "stream",
     "text": [
      "Training_loss 0.00004,   Relative Error 0.00226\n",
      "Training_loss 0.00004,   Relative Error 0.00225\n"
     ]
    },
    {
     "name": "stderr",
     "output_type": "stream",
     "text": [
      " 45%|████▌     | 903/2000 [01:59<02:14,  8.13it/s]"
     ]
    },
    {
     "name": "stdout",
     "output_type": "stream",
     "text": [
      "Training_loss 0.00004,   Relative Error 0.00224\n",
      "Training_loss 0.00004,   Relative Error 0.00225\n"
     ]
    },
    {
     "name": "stderr",
     "output_type": "stream",
     "text": [
      " 45%|████▌     | 905/2000 [01:59<02:15,  8.06it/s]"
     ]
    },
    {
     "name": "stdout",
     "output_type": "stream",
     "text": [
      "Training_loss 0.00004,   Relative Error 0.00224\n",
      "Training_loss 0.00004,   Relative Error 0.00224\n"
     ]
    },
    {
     "name": "stderr",
     "output_type": "stream",
     "text": [
      " 45%|████▌     | 907/2000 [02:00<02:06,  8.62it/s]"
     ]
    },
    {
     "name": "stdout",
     "output_type": "stream",
     "text": [
      "Training_loss 0.00004,   Relative Error 0.00224\n",
      "Training_loss 0.00004,   Relative Error 0.00222\n"
     ]
    },
    {
     "name": "stderr",
     "output_type": "stream",
     "text": [
      " 46%|████▌     | 910/2000 [02:00<02:00,  9.07it/s]"
     ]
    },
    {
     "name": "stdout",
     "output_type": "stream",
     "text": [
      "Training_loss 0.00004,   Relative Error 0.00223\n",
      "Training_loss 0.00004,   Relative Error 0.00223\n",
      "Training_loss 0.00004,   Relative Error 0.00225\n"
     ]
    },
    {
     "name": "stderr",
     "output_type": "stream",
     "text": [
      "\r",
      " 46%|████▌     | 912/2000 [02:00<01:55,  9.43it/s]"
     ]
    },
    {
     "name": "stdout",
     "output_type": "stream",
     "text": [
      "Training_loss 0.00004,   Relative Error 0.00227\n",
      "Training_loss 0.00004,   Relative Error 0.00226\n"
     ]
    },
    {
     "name": "stderr",
     "output_type": "stream",
     "text": [
      " 46%|████▌     | 914/2000 [02:00<01:56,  9.36it/s]"
     ]
    },
    {
     "name": "stdout",
     "output_type": "stream",
     "text": [
      "Training_loss 0.00004,   Relative Error 0.00225\n",
      "Training_loss 0.00004,   Relative Error 0.00224\n"
     ]
    },
    {
     "name": "stderr",
     "output_type": "stream",
     "text": [
      " 46%|████▌     | 916/2000 [02:01<01:57,  9.21it/s]"
     ]
    },
    {
     "name": "stdout",
     "output_type": "stream",
     "text": [
      "Training_loss 0.00004,   Relative Error 0.00225\n",
      "Training_loss 0.00004,   Relative Error 0.00225\n"
     ]
    },
    {
     "name": "stderr",
     "output_type": "stream",
     "text": [
      " 46%|████▌     | 919/2000 [02:01<01:52,  9.58it/s]"
     ]
    },
    {
     "name": "stdout",
     "output_type": "stream",
     "text": [
      "Training_loss 0.00004,   Relative Error 0.00226\n",
      "Training_loss 0.00004,   Relative Error 0.00226\n",
      "Training_loss 0.00004,   Relative Error 0.00227\n"
     ]
    },
    {
     "name": "stderr",
     "output_type": "stream",
     "text": [
      " 46%|████▌     | 921/2000 [02:01<01:54,  9.42it/s]"
     ]
    },
    {
     "name": "stdout",
     "output_type": "stream",
     "text": [
      "Training_loss 0.00004,   Relative Error 0.00227\n",
      "Training_loss 0.00004,   Relative Error 0.00228\n"
     ]
    },
    {
     "name": "stderr",
     "output_type": "stream",
     "text": [
      "\r",
      " 46%|████▌     | 923/2000 [02:01<01:53,  9.46it/s]"
     ]
    },
    {
     "name": "stdout",
     "output_type": "stream",
     "text": [
      "Training_loss 0.00004,   Relative Error 0.00229\n",
      "Training_loss 0.00004,   Relative Error 0.00229\n"
     ]
    },
    {
     "name": "stderr",
     "output_type": "stream",
     "text": [
      " 46%|████▋     | 925/2000 [02:01<01:53,  9.48it/s]"
     ]
    },
    {
     "name": "stdout",
     "output_type": "stream",
     "text": [
      "Training_loss 0.00004,   Relative Error 0.00228\n",
      "Training_loss 0.00004,   Relative Error 0.00226\n"
     ]
    },
    {
     "name": "stderr",
     "output_type": "stream",
     "text": [
      " 46%|████▋     | 927/2000 [02:02<01:56,  9.22it/s]"
     ]
    },
    {
     "name": "stdout",
     "output_type": "stream",
     "text": [
      "Training_loss 0.00004,   Relative Error 0.00225\n",
      "Training_loss 0.00004,   Relative Error 0.00227\n"
     ]
    },
    {
     "name": "stderr",
     "output_type": "stream",
     "text": [
      " 46%|████▋     | 929/2000 [02:02<02:03,  8.71it/s]"
     ]
    },
    {
     "name": "stdout",
     "output_type": "stream",
     "text": [
      "Training_loss 0.00004,   Relative Error 0.00227\n",
      "Training_loss 0.00004,   Relative Error 0.00227\n"
     ]
    },
    {
     "name": "stderr",
     "output_type": "stream",
     "text": [
      " 47%|████▋     | 931/2000 [02:02<01:57,  9.08it/s]"
     ]
    },
    {
     "name": "stdout",
     "output_type": "stream",
     "text": [
      "Training_loss 0.00004,   Relative Error 0.00228\n",
      "Training_loss 0.00004,   Relative Error 0.00229\n"
     ]
    },
    {
     "name": "stderr",
     "output_type": "stream",
     "text": [
      " 47%|████▋     | 933/2000 [02:02<01:58,  8.99it/s]"
     ]
    },
    {
     "name": "stdout",
     "output_type": "stream",
     "text": [
      "Training_loss 0.00004,   Relative Error 0.00228\n",
      "Training_loss 0.00004,   Relative Error 0.00227\n"
     ]
    },
    {
     "name": "stderr",
     "output_type": "stream",
     "text": [
      " 47%|████▋     | 935/2000 [02:03<01:59,  8.94it/s]"
     ]
    },
    {
     "name": "stdout",
     "output_type": "stream",
     "text": [
      "Training_loss 0.00004,   Relative Error 0.00228\n",
      "Training_loss 0.00004,   Relative Error 0.00229\n"
     ]
    },
    {
     "name": "stderr",
     "output_type": "stream",
     "text": [
      " 47%|████▋     | 937/2000 [02:03<02:35,  6.86it/s]"
     ]
    },
    {
     "name": "stdout",
     "output_type": "stream",
     "text": [
      "Training_loss 0.00004,   Relative Error 0.00231\n",
      "Training_loss 0.00004,   Relative Error 0.00231\n"
     ]
    },
    {
     "name": "stderr",
     "output_type": "stream",
     "text": [
      " 47%|████▋     | 939/2000 [02:03<02:15,  7.82it/s]"
     ]
    },
    {
     "name": "stdout",
     "output_type": "stream",
     "text": [
      "Training_loss 0.00004,   Relative Error 0.00231\n",
      "Training_loss 0.00004,   Relative Error 0.00228\n"
     ]
    },
    {
     "name": "stderr",
     "output_type": "stream",
     "text": [
      " 47%|████▋     | 942/2000 [02:03<02:00,  8.78it/s]"
     ]
    },
    {
     "name": "stdout",
     "output_type": "stream",
     "text": [
      "Training_loss 0.00004,   Relative Error 0.00227\n",
      "Training_loss 0.00004,   Relative Error 0.00225\n",
      "Training_loss 0.00004,   Relative Error 0.00225\n"
     ]
    },
    {
     "name": "stderr",
     "output_type": "stream",
     "text": [
      " 47%|████▋     | 944/2000 [02:04<02:03,  8.56it/s]"
     ]
    },
    {
     "name": "stdout",
     "output_type": "stream",
     "text": [
      "Training_loss 0.00004,   Relative Error 0.00223\n",
      "Training_loss 0.00004,   Relative Error 0.00224\n"
     ]
    },
    {
     "name": "stderr",
     "output_type": "stream",
     "text": [
      " 47%|████▋     | 947/2000 [02:04<01:57,  8.98it/s]"
     ]
    },
    {
     "name": "stdout",
     "output_type": "stream",
     "text": [
      "Training_loss 0.00004,   Relative Error 0.00223\n",
      "Training_loss 0.00004,   Relative Error 0.00224\n",
      "Training_loss 0.00004,   Relative Error 0.00226\n"
     ]
    },
    {
     "name": "stderr",
     "output_type": "stream",
     "text": [
      " 48%|████▊     | 950/2000 [02:04<01:53,  9.29it/s]"
     ]
    },
    {
     "name": "stdout",
     "output_type": "stream",
     "text": [
      "Training_loss 0.00004,   Relative Error 0.00226\n",
      "Training_loss 0.00004,   Relative Error 0.00226\n",
      "Training_loss 0.00004,   Relative Error 0.00227\n"
     ]
    },
    {
     "name": "stderr",
     "output_type": "stream",
     "text": [
      " 48%|████▊     | 952/2000 [02:05<01:58,  8.87it/s]"
     ]
    },
    {
     "name": "stdout",
     "output_type": "stream",
     "text": [
      "Training_loss 0.00004,   Relative Error 0.00224\n",
      "Training_loss 0.00004,   Relative Error 0.00224\n"
     ]
    },
    {
     "name": "stderr",
     "output_type": "stream",
     "text": [
      " 48%|████▊     | 954/2000 [02:05<01:54,  9.11it/s]"
     ]
    },
    {
     "name": "stdout",
     "output_type": "stream",
     "text": [
      "Training_loss 0.00004,   Relative Error 0.00226\n",
      "Training_loss 0.00004,   Relative Error 0.00226\n"
     ]
    },
    {
     "name": "stderr",
     "output_type": "stream",
     "text": [
      " 48%|████▊     | 956/2000 [02:05<01:54,  9.09it/s]"
     ]
    },
    {
     "name": "stdout",
     "output_type": "stream",
     "text": [
      "Training_loss 0.00004,   Relative Error 0.00229\n",
      "Training_loss 0.00004,   Relative Error 0.00225\n"
     ]
    },
    {
     "name": "stderr",
     "output_type": "stream",
     "text": [
      " 48%|████▊     | 958/2000 [02:05<01:55,  9.05it/s]"
     ]
    },
    {
     "name": "stdout",
     "output_type": "stream",
     "text": [
      "Training_loss 0.00004,   Relative Error 0.00225\n",
      "Training_loss 0.00004,   Relative Error 0.00225\n"
     ]
    },
    {
     "name": "stderr",
     "output_type": "stream",
     "text": [
      " 48%|████▊     | 960/2000 [02:06<01:55,  9.03it/s]"
     ]
    },
    {
     "name": "stdout",
     "output_type": "stream",
     "text": [
      "Training_loss 0.00004,   Relative Error 0.00224\n",
      "Training_loss 0.00004,   Relative Error 0.00224\n"
     ]
    },
    {
     "name": "stderr",
     "output_type": "stream",
     "text": [
      " 48%|████▊     | 962/2000 [02:06<01:53,  9.14it/s]"
     ]
    },
    {
     "name": "stdout",
     "output_type": "stream",
     "text": [
      "Training_loss 0.00004,   Relative Error 0.00224\n",
      "Training_loss 0.00004,   Relative Error 0.00224\n"
     ]
    },
    {
     "name": "stderr",
     "output_type": "stream",
     "text": [
      " 48%|████▊     | 964/2000 [02:06<01:53,  9.16it/s]"
     ]
    },
    {
     "name": "stdout",
     "output_type": "stream",
     "text": [
      "Training_loss 0.00004,   Relative Error 0.00224\n",
      "Training_loss 0.00004,   Relative Error 0.00222\n"
     ]
    },
    {
     "name": "stderr",
     "output_type": "stream",
     "text": [
      " 48%|████▊     | 966/2000 [02:06<01:55,  8.94it/s]"
     ]
    },
    {
     "name": "stdout",
     "output_type": "stream",
     "text": [
      "Training_loss 0.00003,   Relative Error 0.00220\n",
      "Training_loss 0.00003,   Relative Error 0.00218\n"
     ]
    },
    {
     "name": "stderr",
     "output_type": "stream",
     "text": [
      " 48%|████▊     | 968/2000 [02:06<02:03,  8.36it/s]"
     ]
    },
    {
     "name": "stdout",
     "output_type": "stream",
     "text": [
      "Training_loss 0.00003,   Relative Error 0.00219\n",
      "Training_loss 0.00003,   Relative Error 0.00218\n"
     ]
    },
    {
     "name": "stderr",
     "output_type": "stream",
     "text": [
      " 48%|████▊     | 970/2000 [02:07<02:00,  8.55it/s]"
     ]
    },
    {
     "name": "stdout",
     "output_type": "stream",
     "text": [
      "Training_loss 0.00003,   Relative Error 0.00217\n",
      "Training_loss 0.00003,   Relative Error 0.00215\n"
     ]
    },
    {
     "name": "stderr",
     "output_type": "stream",
     "text": [
      " 49%|████▊     | 973/2000 [02:07<01:50,  9.26it/s]"
     ]
    },
    {
     "name": "stdout",
     "output_type": "stream",
     "text": [
      "Training_loss 0.00003,   Relative Error 0.00216\n",
      "Training_loss 0.00003,   Relative Error 0.00216\n",
      "Training_loss 0.00003,   Relative Error 0.00217\n"
     ]
    },
    {
     "name": "stderr",
     "output_type": "stream",
     "text": [
      " 49%|████▉     | 976/2000 [02:07<01:48,  9.47it/s]"
     ]
    },
    {
     "name": "stdout",
     "output_type": "stream",
     "text": [
      "Training_loss 0.00003,   Relative Error 0.00216\n",
      "Training_loss 0.00003,   Relative Error 0.00214\n",
      "Training_loss 0.00003,   Relative Error 0.00214\n"
     ]
    },
    {
     "name": "stderr",
     "output_type": "stream",
     "text": [
      " 49%|████▉     | 979/2000 [02:08<01:46,  9.60it/s]"
     ]
    },
    {
     "name": "stdout",
     "output_type": "stream",
     "text": [
      "Training_loss 0.00003,   Relative Error 0.00215\n",
      "Training_loss 0.00003,   Relative Error 0.00214\n",
      "Training_loss 0.00003,   Relative Error 0.00216\n"
     ]
    },
    {
     "name": "stderr",
     "output_type": "stream",
     "text": [
      " 49%|████▉     | 982/2000 [02:08<01:46,  9.57it/s]"
     ]
    },
    {
     "name": "stdout",
     "output_type": "stream",
     "text": [
      "Training_loss 0.00003,   Relative Error 0.00218\n",
      "Training_loss 0.00003,   Relative Error 0.00218\n",
      "Training_loss 0.00003,   Relative Error 0.00219\n"
     ]
    },
    {
     "name": "stderr",
     "output_type": "stream",
     "text": [
      " 49%|████▉     | 985/2000 [02:08<01:45,  9.61it/s]"
     ]
    },
    {
     "name": "stdout",
     "output_type": "stream",
     "text": [
      "Training_loss 0.00003,   Relative Error 0.00219\n",
      "Training_loss 0.00003,   Relative Error 0.00220\n",
      "Training_loss 0.00003,   Relative Error 0.00220\n"
     ]
    },
    {
     "name": "stderr",
     "output_type": "stream",
     "text": [
      " 49%|████▉     | 987/2000 [02:08<02:00,  8.41it/s]"
     ]
    },
    {
     "name": "stdout",
     "output_type": "stream",
     "text": [
      "Training_loss 0.00003,   Relative Error 0.00219\n",
      "Training_loss 0.00003,   Relative Error 0.00219\n"
     ]
    },
    {
     "name": "stderr",
     "output_type": "stream",
     "text": [
      " 49%|████▉     | 989/2000 [02:09<02:03,  8.18it/s]"
     ]
    },
    {
     "name": "stdout",
     "output_type": "stream",
     "text": [
      "Training_loss 0.00003,   Relative Error 0.00219\n",
      "Training_loss 0.00003,   Relative Error 0.00217\n"
     ]
    },
    {
     "name": "stderr",
     "output_type": "stream",
     "text": [
      " 50%|████▉     | 991/2000 [02:09<02:04,  8.11it/s]"
     ]
    },
    {
     "name": "stdout",
     "output_type": "stream",
     "text": [
      "Training_loss 0.00003,   Relative Error 0.00217\n",
      "Training_loss 0.00003,   Relative Error 0.00216\n"
     ]
    },
    {
     "name": "stderr",
     "output_type": "stream",
     "text": [
      " 50%|████▉     | 993/2000 [02:09<01:55,  8.72it/s]"
     ]
    },
    {
     "name": "stdout",
     "output_type": "stream",
     "text": [
      "Training_loss 0.00003,   Relative Error 0.00216\n",
      "Training_loss 0.00003,   Relative Error 0.00217\n"
     ]
    },
    {
     "name": "stderr",
     "output_type": "stream",
     "text": [
      " 50%|████▉     | 995/2000 [02:09<01:48,  9.24it/s]"
     ]
    },
    {
     "name": "stdout",
     "output_type": "stream",
     "text": [
      "Training_loss 0.00003,   Relative Error 0.00217\n",
      "Training_loss 0.00003,   Relative Error 0.00218\n"
     ]
    },
    {
     "name": "stderr",
     "output_type": "stream",
     "text": [
      " 50%|████▉     | 997/2000 [02:10<01:52,  8.90it/s]"
     ]
    },
    {
     "name": "stdout",
     "output_type": "stream",
     "text": [
      "Training_loss 0.00003,   Relative Error 0.00218\n",
      "Training_loss 0.00003,   Relative Error 0.00220\n"
     ]
    },
    {
     "name": "stderr",
     "output_type": "stream",
     "text": [
      " 50%|████▉     | 999/2000 [02:10<01:47,  9.34it/s]"
     ]
    },
    {
     "name": "stdout",
     "output_type": "stream",
     "text": [
      "Training_loss 0.00003,   Relative Error 0.00220\n",
      "Training_loss 0.00003,   Relative Error 0.00220\n"
     ]
    },
    {
     "name": "stderr",
     "output_type": "stream",
     "text": [
      " 50%|█████     | 1001/2000 [02:10<01:48,  9.22it/s]"
     ]
    },
    {
     "name": "stdout",
     "output_type": "stream",
     "text": [
      "Training_loss 0.00003,   Relative Error 0.00219\n",
      "Training_loss 0.00003,   Relative Error 0.00217\n"
     ]
    },
    {
     "name": "stderr",
     "output_type": "stream",
     "text": [
      " 50%|█████     | 1003/2000 [02:10<01:48,  9.16it/s]"
     ]
    },
    {
     "name": "stdout",
     "output_type": "stream",
     "text": [
      "Training_loss 0.00003,   Relative Error 0.00219\n",
      "Training_loss 0.00003,   Relative Error 0.00218\n"
     ]
    },
    {
     "name": "stderr",
     "output_type": "stream",
     "text": [
      "\r",
      " 50%|█████     | 1005/2000 [02:10<01:47,  9.23it/s]"
     ]
    },
    {
     "name": "stdout",
     "output_type": "stream",
     "text": [
      "Training_loss 0.00003,   Relative Error 0.00220\n",
      "Training_loss 0.00003,   Relative Error 0.00220\n"
     ]
    },
    {
     "name": "stderr",
     "output_type": "stream",
     "text": [
      "\r",
      " 50%|█████     | 1006/2000 [02:11<01:50,  8.98it/s]"
     ]
    },
    {
     "name": "stdout",
     "output_type": "stream",
     "text": [
      "Training_loss 0.00003,   Relative Error 0.00218\n"
     ]
    },
    {
     "name": "stderr",
     "output_type": "stream",
     "text": [
      " 50%|█████     | 1008/2000 [02:11<02:10,  7.58it/s]"
     ]
    },
    {
     "name": "stdout",
     "output_type": "stream",
     "text": [
      "Training_loss 0.00003,   Relative Error 0.00219\n",
      "Training_loss 0.00003,   Relative Error 0.00219\n"
     ]
    },
    {
     "name": "stderr",
     "output_type": "stream",
     "text": [
      " 50%|█████     | 1010/2000 [02:11<01:56,  8.49it/s]"
     ]
    },
    {
     "name": "stdout",
     "output_type": "stream",
     "text": [
      "Training_loss 0.00003,   Relative Error 0.00220\n",
      "Training_loss 0.00003,   Relative Error 0.00221\n"
     ]
    },
    {
     "name": "stderr",
     "output_type": "stream",
     "text": [
      " 51%|█████     | 1012/2000 [02:11<01:57,  8.42it/s]"
     ]
    },
    {
     "name": "stdout",
     "output_type": "stream",
     "text": [
      "Training_loss 0.00004,   Relative Error 0.00222\n",
      "Training_loss 0.00004,   Relative Error 0.00223\n"
     ]
    },
    {
     "name": "stderr",
     "output_type": "stream",
     "text": [
      " 51%|█████     | 1014/2000 [02:12<01:58,  8.29it/s]"
     ]
    },
    {
     "name": "stdout",
     "output_type": "stream",
     "text": [
      "Training_loss 0.00004,   Relative Error 0.00222\n",
      "Training_loss 0.00004,   Relative Error 0.00224\n"
     ]
    },
    {
     "name": "stderr",
     "output_type": "stream",
     "text": [
      " 51%|█████     | 1016/2000 [02:12<01:52,  8.72it/s]"
     ]
    },
    {
     "name": "stdout",
     "output_type": "stream",
     "text": [
      "Training_loss 0.00004,   Relative Error 0.00225\n",
      "Training_loss 0.00004,   Relative Error 0.00225\n"
     ]
    },
    {
     "name": "stderr",
     "output_type": "stream",
     "text": [
      " 51%|█████     | 1018/2000 [02:12<01:48,  9.03it/s]"
     ]
    },
    {
     "name": "stdout",
     "output_type": "stream",
     "text": [
      "Training_loss 0.00004,   Relative Error 0.00225\n",
      "Training_loss 0.00004,   Relative Error 0.00224\n",
      "Training_loss 0.00004,   Relative Error 0.00224\n"
     ]
    },
    {
     "name": "stderr",
     "output_type": "stream",
     "text": [
      " 51%|█████     | 1021/2000 [02:12<01:44,  9.35it/s]"
     ]
    },
    {
     "name": "stdout",
     "output_type": "stream",
     "text": [
      "Training_loss 0.00004,   Relative Error 0.00226\n",
      "Training_loss 0.00004,   Relative Error 0.00226\n"
     ]
    },
    {
     "name": "stderr",
     "output_type": "stream",
     "text": [
      " 51%|█████     | 1023/2000 [02:13<02:08,  7.59it/s]"
     ]
    },
    {
     "name": "stdout",
     "output_type": "stream",
     "text": [
      "Training_loss 0.00004,   Relative Error 0.00227\n",
      "Training_loss 0.00004,   Relative Error 0.00226\n"
     ]
    },
    {
     "name": "stderr",
     "output_type": "stream",
     "text": [
      " 51%|█████▏    | 1025/2000 [02:13<01:58,  8.22it/s]"
     ]
    },
    {
     "name": "stdout",
     "output_type": "stream",
     "text": [
      "Training_loss 0.00004,   Relative Error 0.00226\n",
      "Training_loss 0.00004,   Relative Error 0.00227\n"
     ]
    },
    {
     "name": "stderr",
     "output_type": "stream",
     "text": [
      " 51%|█████▏    | 1027/2000 [02:13<01:57,  8.26it/s]"
     ]
    },
    {
     "name": "stdout",
     "output_type": "stream",
     "text": [
      "Training_loss 0.00004,   Relative Error 0.00227\n",
      "Training_loss 0.00004,   Relative Error 0.00226\n"
     ]
    },
    {
     "name": "stderr",
     "output_type": "stream",
     "text": [
      "\r",
      " 51%|█████▏    | 1029/2000 [02:13<01:47,  9.04it/s]"
     ]
    },
    {
     "name": "stdout",
     "output_type": "stream",
     "text": [
      "Training_loss 0.00004,   Relative Error 0.00227\n",
      "Training_loss 0.00004,   Relative Error 0.00227\n"
     ]
    },
    {
     "name": "stderr",
     "output_type": "stream",
     "text": [
      " 52%|█████▏    | 1031/2000 [02:14<01:57,  8.27it/s]"
     ]
    },
    {
     "name": "stdout",
     "output_type": "stream",
     "text": [
      "Training_loss 0.00004,   Relative Error 0.00228\n",
      "Training_loss 0.00004,   Relative Error 0.00227\n"
     ]
    },
    {
     "name": "stderr",
     "output_type": "stream",
     "text": [
      " 52%|█████▏    | 1033/2000 [02:14<02:08,  7.53it/s]"
     ]
    },
    {
     "name": "stdout",
     "output_type": "stream",
     "text": [
      "Training_loss 0.00004,   Relative Error 0.00229\n",
      "Training_loss 0.00004,   Relative Error 0.00228\n"
     ]
    },
    {
     "name": "stderr",
     "output_type": "stream",
     "text": [
      " 52%|█████▏    | 1035/2000 [02:14<02:14,  7.20it/s]"
     ]
    },
    {
     "name": "stdout",
     "output_type": "stream",
     "text": [
      "Training_loss 0.00004,   Relative Error 0.00228\n",
      "Training_loss 0.00004,   Relative Error 0.00227\n"
     ]
    },
    {
     "name": "stderr",
     "output_type": "stream",
     "text": [
      " 52%|█████▏    | 1037/2000 [02:14<02:05,  7.67it/s]"
     ]
    },
    {
     "name": "stdout",
     "output_type": "stream",
     "text": [
      "Training_loss 0.00004,   Relative Error 0.00227\n",
      "Training_loss 0.00004,   Relative Error 0.00226\n"
     ]
    },
    {
     "name": "stderr",
     "output_type": "stream",
     "text": [
      " 52%|█████▏    | 1039/2000 [02:15<02:03,  7.76it/s]"
     ]
    },
    {
     "name": "stdout",
     "output_type": "stream",
     "text": [
      "Training_loss 0.00004,   Relative Error 0.00227\n",
      "Training_loss 0.00004,   Relative Error 0.00228\n"
     ]
    },
    {
     "name": "stderr",
     "output_type": "stream",
     "text": [
      " 52%|█████▏    | 1041/2000 [02:15<02:08,  7.46it/s]"
     ]
    },
    {
     "name": "stdout",
     "output_type": "stream",
     "text": [
      "Training_loss 0.00004,   Relative Error 0.00230\n",
      "Training_loss 0.00004,   Relative Error 0.00230\n"
     ]
    },
    {
     "name": "stderr",
     "output_type": "stream",
     "text": [
      " 52%|█████▏    | 1043/2000 [02:15<02:04,  7.72it/s]"
     ]
    },
    {
     "name": "stdout",
     "output_type": "stream",
     "text": [
      "Training_loss 0.00004,   Relative Error 0.00231\n",
      "Training_loss 0.00004,   Relative Error 0.00232\n"
     ]
    },
    {
     "name": "stderr",
     "output_type": "stream",
     "text": [
      " 52%|█████▏    | 1045/2000 [02:15<01:56,  8.22it/s]"
     ]
    },
    {
     "name": "stdout",
     "output_type": "stream",
     "text": [
      "Training_loss 0.00004,   Relative Error 0.00232\n",
      "Training_loss 0.00004,   Relative Error 0.00231\n"
     ]
    },
    {
     "name": "stderr",
     "output_type": "stream",
     "text": [
      " 52%|█████▏    | 1047/2000 [02:16<01:54,  8.32it/s]"
     ]
    },
    {
     "name": "stdout",
     "output_type": "stream",
     "text": [
      "Training_loss 0.00004,   Relative Error 0.00231\n",
      "Training_loss 0.00004,   Relative Error 0.00231\n"
     ]
    },
    {
     "name": "stderr",
     "output_type": "stream",
     "text": [
      " 52%|█████▏    | 1049/2000 [02:16<01:50,  8.57it/s]"
     ]
    },
    {
     "name": "stdout",
     "output_type": "stream",
     "text": [
      "Training_loss 0.00004,   Relative Error 0.00231\n",
      "Training_loss 0.00004,   Relative Error 0.00232\n"
     ]
    },
    {
     "name": "stderr",
     "output_type": "stream",
     "text": [
      " 53%|█████▎    | 1051/2000 [02:16<01:49,  8.65it/s]"
     ]
    },
    {
     "name": "stdout",
     "output_type": "stream",
     "text": [
      "Training_loss 0.00004,   Relative Error 0.00230\n",
      "Training_loss 0.00004,   Relative Error 0.00230\n"
     ]
    },
    {
     "name": "stderr",
     "output_type": "stream",
     "text": [
      " 53%|█████▎    | 1053/2000 [02:16<01:59,  7.92it/s]"
     ]
    },
    {
     "name": "stdout",
     "output_type": "stream",
     "text": [
      "Training_loss 0.00004,   Relative Error 0.00229\n",
      "Training_loss 0.00004,   Relative Error 0.00229\n"
     ]
    },
    {
     "name": "stderr",
     "output_type": "stream",
     "text": [
      " 53%|█████▎    | 1055/2000 [02:17<01:52,  8.37it/s]"
     ]
    },
    {
     "name": "stdout",
     "output_type": "stream",
     "text": [
      "Training_loss 0.00004,   Relative Error 0.00227\n",
      "Training_loss 0.00004,   Relative Error 0.00228\n"
     ]
    },
    {
     "name": "stderr",
     "output_type": "stream",
     "text": [
      " 53%|█████▎    | 1058/2000 [02:17<01:54,  8.25it/s]"
     ]
    },
    {
     "name": "stdout",
     "output_type": "stream",
     "text": [
      "Training_loss 0.00004,   Relative Error 0.00229\n",
      "Training_loss 0.00004,   Relative Error 0.00229\n",
      "Training_loss 0.00004,   Relative Error 0.00231\n"
     ]
    },
    {
     "name": "stderr",
     "output_type": "stream",
     "text": [
      " 53%|█████▎    | 1061/2000 [02:17<01:41,  9.22it/s]"
     ]
    },
    {
     "name": "stdout",
     "output_type": "stream",
     "text": [
      "Training_loss 0.00004,   Relative Error 0.00230\n",
      "Training_loss 0.00004,   Relative Error 0.00231\n",
      "Training_loss 0.00004,   Relative Error 0.00232\n"
     ]
    },
    {
     "name": "stderr",
     "output_type": "stream",
     "text": [
      " 53%|█████▎    | 1063/2000 [02:18<01:42,  9.13it/s]"
     ]
    },
    {
     "name": "stdout",
     "output_type": "stream",
     "text": [
      "Training_loss 0.00004,   Relative Error 0.00232\n",
      "Training_loss 0.00004,   Relative Error 0.00230\n"
     ]
    },
    {
     "name": "stderr",
     "output_type": "stream",
     "text": [
      "\r",
      " 53%|█████▎    | 1065/2000 [02:18<01:38,  9.49it/s]"
     ]
    },
    {
     "name": "stdout",
     "output_type": "stream",
     "text": [
      "Training_loss 0.00004,   Relative Error 0.00230\n",
      "Training_loss 0.00004,   Relative Error 0.00229\n",
      "Training_loss 0.00004,   Relative Error 0.00231\n"
     ]
    },
    {
     "name": "stderr",
     "output_type": "stream",
     "text": [
      "\r",
      " 53%|█████▎    | 1067/2000 [02:18<01:36,  9.63it/s]"
     ]
    },
    {
     "name": "stdout",
     "output_type": "stream",
     "text": [
      "Training_loss 0.00004,   Relative Error 0.00229\n",
      "Training_loss 0.00004,   Relative Error 0.00230\n"
     ]
    },
    {
     "name": "stderr",
     "output_type": "stream",
     "text": [
      " 54%|█████▎    | 1070/2000 [02:18<01:37,  9.57it/s]"
     ]
    },
    {
     "name": "stdout",
     "output_type": "stream",
     "text": [
      "Training_loss 0.00004,   Relative Error 0.00230\n",
      "Training_loss 0.00004,   Relative Error 0.00231\n"
     ]
    },
    {
     "name": "stderr",
     "output_type": "stream",
     "text": [
      " 54%|█████▎    | 1072/2000 [02:18<01:36,  9.66it/s]"
     ]
    },
    {
     "name": "stdout",
     "output_type": "stream",
     "text": [
      "Training_loss 0.00004,   Relative Error 0.00232\n",
      "Training_loss 0.00004,   Relative Error 0.00232\n",
      "Training_loss 0.00004,   Relative Error 0.00233\n"
     ]
    },
    {
     "name": "stderr",
     "output_type": "stream",
     "text": [
      " 54%|█████▍    | 1075/2000 [02:19<01:35,  9.73it/s]"
     ]
    },
    {
     "name": "stdout",
     "output_type": "stream",
     "text": [
      "Training_loss 0.00004,   Relative Error 0.00232\n",
      "Training_loss 0.00004,   Relative Error 0.00231\n",
      "Training_loss 0.00004,   Relative Error 0.00231\n"
     ]
    },
    {
     "name": "stderr",
     "output_type": "stream",
     "text": [
      " 54%|█████▍    | 1078/2000 [02:19<01:43,  8.88it/s]"
     ]
    },
    {
     "name": "stdout",
     "output_type": "stream",
     "text": [
      "Training_loss 0.00004,   Relative Error 0.00232\n",
      "Training_loss 0.00004,   Relative Error 0.00231\n"
     ]
    },
    {
     "name": "stderr",
     "output_type": "stream",
     "text": [
      " 54%|█████▍    | 1080/2000 [02:19<01:41,  9.05it/s]"
     ]
    },
    {
     "name": "stdout",
     "output_type": "stream",
     "text": [
      "Training_loss 0.00004,   Relative Error 0.00231\n",
      "Training_loss 0.00004,   Relative Error 0.00230\n"
     ]
    },
    {
     "name": "stderr",
     "output_type": "stream",
     "text": [
      " 54%|█████▍    | 1082/2000 [02:20<01:39,  9.20it/s]"
     ]
    },
    {
     "name": "stdout",
     "output_type": "stream",
     "text": [
      "Training_loss 0.00004,   Relative Error 0.00230\n",
      "Training_loss 0.00004,   Relative Error 0.00231\n"
     ]
    },
    {
     "name": "stderr",
     "output_type": "stream",
     "text": [
      " 54%|█████▍    | 1084/2000 [02:20<01:39,  9.23it/s]"
     ]
    },
    {
     "name": "stdout",
     "output_type": "stream",
     "text": [
      "Training_loss 0.00004,   Relative Error 0.00230\n",
      "Training_loss 0.00004,   Relative Error 0.00231\n"
     ]
    },
    {
     "name": "stderr",
     "output_type": "stream",
     "text": [
      " 54%|█████▍    | 1086/2000 [02:20<01:40,  9.10it/s]"
     ]
    },
    {
     "name": "stdout",
     "output_type": "stream",
     "text": [
      "Training_loss 0.00004,   Relative Error 0.00232\n",
      "Training_loss 0.00004,   Relative Error 0.00230\n"
     ]
    },
    {
     "name": "stderr",
     "output_type": "stream",
     "text": [
      " 54%|█████▍    | 1088/2000 [02:20<01:40,  9.10it/s]"
     ]
    },
    {
     "name": "stdout",
     "output_type": "stream",
     "text": [
      "Training_loss 0.00004,   Relative Error 0.00229\n",
      "Training_loss 0.00004,   Relative Error 0.00230\n"
     ]
    },
    {
     "name": "stderr",
     "output_type": "stream",
     "text": [
      " 55%|█████▍    | 1090/2000 [02:20<01:39,  9.19it/s]"
     ]
    },
    {
     "name": "stdout",
     "output_type": "stream",
     "text": [
      "Training_loss 0.00004,   Relative Error 0.00230\n",
      "Training_loss 0.00004,   Relative Error 0.00230\n"
     ]
    },
    {
     "name": "stderr",
     "output_type": "stream",
     "text": [
      " 55%|█████▍    | 1092/2000 [02:21<01:58,  7.68it/s]"
     ]
    },
    {
     "name": "stdout",
     "output_type": "stream",
     "text": [
      "Training_loss 0.00004,   Relative Error 0.00230\n",
      "Training_loss 0.00004,   Relative Error 0.00230\n"
     ]
    },
    {
     "name": "stderr",
     "output_type": "stream",
     "text": [
      " 55%|█████▍    | 1094/2000 [02:21<02:11,  6.91it/s]"
     ]
    },
    {
     "name": "stdout",
     "output_type": "stream",
     "text": [
      "Training_loss 0.00004,   Relative Error 0.00231\n",
      "Training_loss 0.00004,   Relative Error 0.00230\n"
     ]
    },
    {
     "name": "stderr",
     "output_type": "stream",
     "text": [
      " 55%|█████▍    | 1096/2000 [02:21<02:01,  7.43it/s]"
     ]
    },
    {
     "name": "stdout",
     "output_type": "stream",
     "text": [
      "Training_loss 0.00004,   Relative Error 0.00231\n",
      "Training_loss 0.00004,   Relative Error 0.00231\n"
     ]
    },
    {
     "name": "stderr",
     "output_type": "stream",
     "text": [
      " 55%|█████▍    | 1098/2000 [02:22<01:52,  8.04it/s]"
     ]
    },
    {
     "name": "stdout",
     "output_type": "stream",
     "text": [
      "Training_loss 0.00004,   Relative Error 0.00232\n",
      "Training_loss 0.00004,   Relative Error 0.00231\n"
     ]
    },
    {
     "name": "stderr",
     "output_type": "stream",
     "text": [
      " 55%|█████▌    | 1101/2000 [02:22<01:37,  9.17it/s]"
     ]
    },
    {
     "name": "stdout",
     "output_type": "stream",
     "text": [
      "Training_loss 0.00004,   Relative Error 0.00232\n",
      "Training_loss 0.00004,   Relative Error 0.00230\n",
      "Training_loss 0.00004,   Relative Error 0.00230\n"
     ]
    },
    {
     "name": "stderr",
     "output_type": "stream",
     "text": [
      " 55%|█████▌    | 1103/2000 [02:22<01:37,  9.18it/s]"
     ]
    },
    {
     "name": "stdout",
     "output_type": "stream",
     "text": [
      "Training_loss 0.00004,   Relative Error 0.00230\n",
      "Training_loss 0.00004,   Relative Error 0.00232\n"
     ]
    },
    {
     "name": "stderr",
     "output_type": "stream",
     "text": [
      " 55%|█████▌    | 1105/2000 [02:22<01:38,  9.08it/s]"
     ]
    },
    {
     "name": "stdout",
     "output_type": "stream",
     "text": [
      "Training_loss 0.00004,   Relative Error 0.00233\n",
      "Training_loss 0.00004,   Relative Error 0.00232\n"
     ]
    },
    {
     "name": "stderr",
     "output_type": "stream",
     "text": [
      " 55%|█████▌    | 1107/2000 [02:23<01:40,  8.90it/s]"
     ]
    },
    {
     "name": "stdout",
     "output_type": "stream",
     "text": [
      "Training_loss 0.00004,   Relative Error 0.00232\n",
      "Training_loss 0.00004,   Relative Error 0.00232\n"
     ]
    },
    {
     "name": "stderr",
     "output_type": "stream",
     "text": [
      " 55%|█████▌    | 1109/2000 [02:23<01:43,  8.61it/s]"
     ]
    },
    {
     "name": "stdout",
     "output_type": "stream",
     "text": [
      "Training_loss 0.00004,   Relative Error 0.00231\n",
      "Training_loss 0.00004,   Relative Error 0.00231\n"
     ]
    },
    {
     "name": "stderr",
     "output_type": "stream",
     "text": [
      " 56%|█████▌    | 1111/2000 [02:23<01:58,  7.49it/s]"
     ]
    },
    {
     "name": "stdout",
     "output_type": "stream",
     "text": [
      "Training_loss 0.00004,   Relative Error 0.00230\n",
      "Training_loss 0.00004,   Relative Error 0.00229\n"
     ]
    },
    {
     "name": "stderr",
     "output_type": "stream",
     "text": [
      " 56%|█████▌    | 1113/2000 [02:23<01:49,  8.13it/s]"
     ]
    },
    {
     "name": "stdout",
     "output_type": "stream",
     "text": [
      "Training_loss 0.00004,   Relative Error 0.00231\n",
      "Training_loss 0.00004,   Relative Error 0.00231\n"
     ]
    },
    {
     "name": "stderr",
     "output_type": "stream",
     "text": [
      " 56%|█████▌    | 1115/2000 [02:24<01:59,  7.40it/s]"
     ]
    },
    {
     "name": "stdout",
     "output_type": "stream",
     "text": [
      "Training_loss 0.00004,   Relative Error 0.00232\n",
      "Training_loss 0.00004,   Relative Error 0.00232\n"
     ]
    },
    {
     "name": "stderr",
     "output_type": "stream",
     "text": [
      " 56%|█████▌    | 1117/2000 [02:24<01:50,  8.00it/s]"
     ]
    },
    {
     "name": "stdout",
     "output_type": "stream",
     "text": [
      "Training_loss 0.00004,   Relative Error 0.00233\n",
      "Training_loss 0.00004,   Relative Error 0.00234\n"
     ]
    },
    {
     "name": "stderr",
     "output_type": "stream",
     "text": [
      " 56%|█████▌    | 1119/2000 [02:24<01:45,  8.37it/s]"
     ]
    },
    {
     "name": "stdout",
     "output_type": "stream",
     "text": [
      "Training_loss 0.00004,   Relative Error 0.00236\n",
      "Training_loss 0.00004,   Relative Error 0.00236\n"
     ]
    },
    {
     "name": "stderr",
     "output_type": "stream",
     "text": [
      " 56%|█████▌    | 1121/2000 [02:24<01:42,  8.55it/s]"
     ]
    },
    {
     "name": "stdout",
     "output_type": "stream",
     "text": [
      "Training_loss 0.00004,   Relative Error 0.00235\n",
      "Training_loss 0.00004,   Relative Error 0.00234\n"
     ]
    },
    {
     "name": "stderr",
     "output_type": "stream",
     "text": [
      " 56%|█████▌    | 1123/2000 [02:25<01:39,  8.83it/s]"
     ]
    },
    {
     "name": "stdout",
     "output_type": "stream",
     "text": [
      "Training_loss 0.00004,   Relative Error 0.00235\n",
      "Training_loss 0.00004,   Relative Error 0.00236\n"
     ]
    },
    {
     "name": "stderr",
     "output_type": "stream",
     "text": [
      " 56%|█████▋    | 1125/2000 [02:25<01:42,  8.57it/s]"
     ]
    },
    {
     "name": "stdout",
     "output_type": "stream",
     "text": [
      "Training_loss 0.00004,   Relative Error 0.00234\n",
      "Training_loss 0.00004,   Relative Error 0.00233\n"
     ]
    },
    {
     "name": "stderr",
     "output_type": "stream",
     "text": [
      " 56%|█████▋    | 1127/2000 [02:25<01:49,  7.99it/s]"
     ]
    },
    {
     "name": "stdout",
     "output_type": "stream",
     "text": [
      "Training_loss 0.00004,   Relative Error 0.00233\n",
      "Training_loss 0.00004,   Relative Error 0.00233\n"
     ]
    },
    {
     "name": "stderr",
     "output_type": "stream",
     "text": [
      " 56%|█████▋    | 1129/2000 [02:25<01:42,  8.46it/s]"
     ]
    },
    {
     "name": "stdout",
     "output_type": "stream",
     "text": [
      "Training_loss 0.00004,   Relative Error 0.00233\n",
      "Training_loss 0.00004,   Relative Error 0.00233\n"
     ]
    },
    {
     "name": "stderr",
     "output_type": "stream",
     "text": [
      " 57%|█████▋    | 1131/2000 [02:26<01:42,  8.47it/s]"
     ]
    },
    {
     "name": "stdout",
     "output_type": "stream",
     "text": [
      "Training_loss 0.00004,   Relative Error 0.00232\n",
      "Training_loss 0.00004,   Relative Error 0.00233\n"
     ]
    },
    {
     "name": "stderr",
     "output_type": "stream",
     "text": [
      " 57%|█████▋    | 1133/2000 [02:26<01:40,  8.62it/s]"
     ]
    },
    {
     "name": "stdout",
     "output_type": "stream",
     "text": [
      "Training_loss 0.00004,   Relative Error 0.00232\n",
      "Training_loss 0.00004,   Relative Error 0.00231\n"
     ]
    },
    {
     "name": "stderr",
     "output_type": "stream",
     "text": [
      " 57%|█████▋    | 1135/2000 [02:26<01:39,  8.72it/s]"
     ]
    },
    {
     "name": "stdout",
     "output_type": "stream",
     "text": [
      "Training_loss 0.00004,   Relative Error 0.00232\n",
      "Training_loss 0.00004,   Relative Error 0.00233\n"
     ]
    },
    {
     "name": "stderr",
     "output_type": "stream",
     "text": [
      " 57%|█████▋    | 1137/2000 [02:26<01:35,  8.99it/s]"
     ]
    },
    {
     "name": "stdout",
     "output_type": "stream",
     "text": [
      "Training_loss 0.00004,   Relative Error 0.00232\n",
      "Training_loss 0.00004,   Relative Error 0.00232\n"
     ]
    },
    {
     "name": "stderr",
     "output_type": "stream",
     "text": [
      " 57%|█████▋    | 1139/2000 [02:26<01:38,  8.72it/s]"
     ]
    },
    {
     "name": "stdout",
     "output_type": "stream",
     "text": [
      "Training_loss 0.00004,   Relative Error 0.00232\n",
      "Training_loss 0.00004,   Relative Error 0.00233\n"
     ]
    },
    {
     "name": "stderr",
     "output_type": "stream",
     "text": [
      " 57%|█████▋    | 1141/2000 [02:27<01:41,  8.44it/s]"
     ]
    },
    {
     "name": "stdout",
     "output_type": "stream",
     "text": [
      "Training_loss 0.00004,   Relative Error 0.00232\n",
      "Training_loss 0.00004,   Relative Error 0.00234\n"
     ]
    },
    {
     "name": "stderr",
     "output_type": "stream",
     "text": [
      " 57%|█████▋    | 1143/2000 [02:27<01:38,  8.66it/s]"
     ]
    },
    {
     "name": "stdout",
     "output_type": "stream",
     "text": [
      "Training_loss 0.00004,   Relative Error 0.00234\n",
      "Training_loss 0.00004,   Relative Error 0.00233\n"
     ]
    },
    {
     "name": "stderr",
     "output_type": "stream",
     "text": [
      " 57%|█████▋    | 1145/2000 [02:27<01:48,  7.85it/s]"
     ]
    },
    {
     "name": "stdout",
     "output_type": "stream",
     "text": [
      "Training_loss 0.00004,   Relative Error 0.00233\n",
      "Training_loss 0.00004,   Relative Error 0.00234\n"
     ]
    },
    {
     "name": "stderr",
     "output_type": "stream",
     "text": [
      " 57%|█████▋    | 1147/2000 [02:27<01:45,  8.07it/s]"
     ]
    },
    {
     "name": "stdout",
     "output_type": "stream",
     "text": [
      "Training_loss 0.00004,   Relative Error 0.00234\n",
      "Training_loss 0.00004,   Relative Error 0.00232\n"
     ]
    },
    {
     "name": "stderr",
     "output_type": "stream",
     "text": [
      " 57%|█████▋    | 1149/2000 [02:28<01:52,  7.55it/s]"
     ]
    },
    {
     "name": "stdout",
     "output_type": "stream",
     "text": [
      "Training_loss 0.00004,   Relative Error 0.00231\n",
      "Training_loss 0.00004,   Relative Error 0.00228\n"
     ]
    },
    {
     "name": "stderr",
     "output_type": "stream",
     "text": [
      " 58%|█████▊    | 1151/2000 [02:28<02:05,  6.75it/s]"
     ]
    },
    {
     "name": "stdout",
     "output_type": "stream",
     "text": [
      "Training_loss 0.00004,   Relative Error 0.00228\n",
      "Training_loss 0.00004,   Relative Error 0.00227\n"
     ]
    },
    {
     "name": "stderr",
     "output_type": "stream",
     "text": [
      " 58%|█████▊    | 1153/2000 [02:28<01:57,  7.22it/s]"
     ]
    },
    {
     "name": "stdout",
     "output_type": "stream",
     "text": [
      "Training_loss 0.00004,   Relative Error 0.00225\n",
      "Training_loss 0.00004,   Relative Error 0.00224\n"
     ]
    },
    {
     "name": "stderr",
     "output_type": "stream",
     "text": [
      " 58%|█████▊    | 1155/2000 [02:29<02:00,  6.99it/s]"
     ]
    },
    {
     "name": "stdout",
     "output_type": "stream",
     "text": [
      "Training_loss 0.00004,   Relative Error 0.00223\n",
      "Training_loss 0.00004,   Relative Error 0.00222\n"
     ]
    },
    {
     "name": "stderr",
     "output_type": "stream",
     "text": [
      " 58%|█████▊    | 1157/2000 [02:29<02:08,  6.58it/s]"
     ]
    },
    {
     "name": "stdout",
     "output_type": "stream",
     "text": [
      "Training_loss 0.00003,   Relative Error 0.00220\n",
      "Training_loss 0.00004,   Relative Error 0.00220\n"
     ]
    },
    {
     "name": "stderr",
     "output_type": "stream",
     "text": [
      " 58%|█████▊    | 1159/2000 [02:29<01:55,  7.30it/s]"
     ]
    },
    {
     "name": "stdout",
     "output_type": "stream",
     "text": [
      "Training_loss 0.00003,   Relative Error 0.00220\n",
      "Training_loss 0.00003,   Relative Error 0.00220\n"
     ]
    },
    {
     "name": "stderr",
     "output_type": "stream",
     "text": [
      " 58%|█████▊    | 1161/2000 [02:29<01:48,  7.71it/s]"
     ]
    },
    {
     "name": "stdout",
     "output_type": "stream",
     "text": [
      "Training_loss 0.00004,   Relative Error 0.00220\n",
      "Training_loss 0.00003,   Relative Error 0.00219\n"
     ]
    },
    {
     "name": "stderr",
     "output_type": "stream",
     "text": [
      " 58%|█████▊    | 1163/2000 [02:30<01:41,  8.23it/s]"
     ]
    },
    {
     "name": "stdout",
     "output_type": "stream",
     "text": [
      "Training_loss 0.00003,   Relative Error 0.00217\n",
      "Training_loss 0.00003,   Relative Error 0.00219\n"
     ]
    },
    {
     "name": "stderr",
     "output_type": "stream",
     "text": [
      " 58%|█████▊    | 1165/2000 [02:30<02:02,  6.82it/s]"
     ]
    },
    {
     "name": "stdout",
     "output_type": "stream",
     "text": [
      "Training_loss 0.00004,   Relative Error 0.00221\n",
      "Training_loss 0.00004,   Relative Error 0.00221\n"
     ]
    },
    {
     "name": "stderr",
     "output_type": "stream",
     "text": [
      " 58%|█████▊    | 1167/2000 [02:30<01:59,  6.98it/s]"
     ]
    },
    {
     "name": "stdout",
     "output_type": "stream",
     "text": [
      "Training_loss 0.00004,   Relative Error 0.00221\n",
      "Training_loss 0.00004,   Relative Error 0.00220\n"
     ]
    },
    {
     "name": "stderr",
     "output_type": "stream",
     "text": [
      " 58%|█████▊    | 1169/2000 [02:31<02:08,  6.45it/s]"
     ]
    },
    {
     "name": "stdout",
     "output_type": "stream",
     "text": [
      "Training_loss 0.00003,   Relative Error 0.00220\n",
      "Training_loss 0.00003,   Relative Error 0.00219\n"
     ]
    },
    {
     "name": "stderr",
     "output_type": "stream",
     "text": [
      " 59%|█████▊    | 1171/2000 [02:31<02:07,  6.51it/s]"
     ]
    },
    {
     "name": "stdout",
     "output_type": "stream",
     "text": [
      "Training_loss 0.00003,   Relative Error 0.00219\n",
      "Training_loss 0.00004,   Relative Error 0.00221\n"
     ]
    },
    {
     "name": "stderr",
     "output_type": "stream",
     "text": [
      " 59%|█████▊    | 1173/2000 [02:31<02:10,  6.36it/s]"
     ]
    },
    {
     "name": "stdout",
     "output_type": "stream",
     "text": [
      "Training_loss 0.00004,   Relative Error 0.00223\n",
      "Training_loss 0.00004,   Relative Error 0.00224\n"
     ]
    },
    {
     "name": "stderr",
     "output_type": "stream",
     "text": [
      " 59%|█████▉    | 1175/2000 [02:31<01:53,  7.29it/s]"
     ]
    },
    {
     "name": "stdout",
     "output_type": "stream",
     "text": [
      "Training_loss 0.00004,   Relative Error 0.00225\n",
      "Training_loss 0.00004,   Relative Error 0.00224\n"
     ]
    },
    {
     "name": "stderr",
     "output_type": "stream",
     "text": [
      " 59%|█████▉    | 1177/2000 [02:32<01:42,  8.01it/s]"
     ]
    },
    {
     "name": "stdout",
     "output_type": "stream",
     "text": [
      "Training_loss 0.00004,   Relative Error 0.00226\n",
      "Training_loss 0.00004,   Relative Error 0.00225\n"
     ]
    },
    {
     "name": "stderr",
     "output_type": "stream",
     "text": [
      " 59%|█████▉    | 1179/2000 [02:32<01:37,  8.41it/s]"
     ]
    },
    {
     "name": "stdout",
     "output_type": "stream",
     "text": [
      "Training_loss 0.00004,   Relative Error 0.00224\n",
      "Training_loss 0.00004,   Relative Error 0.00222\n"
     ]
    },
    {
     "name": "stderr",
     "output_type": "stream",
     "text": [
      " 59%|█████▉    | 1181/2000 [02:32<01:33,  8.73it/s]"
     ]
    },
    {
     "name": "stdout",
     "output_type": "stream",
     "text": [
      "Training_loss 0.00004,   Relative Error 0.00223\n",
      "Training_loss 0.00004,   Relative Error 0.00223\n"
     ]
    },
    {
     "name": "stderr",
     "output_type": "stream",
     "text": [
      " 59%|█████▉    | 1183/2000 [02:32<01:32,  8.81it/s]"
     ]
    },
    {
     "name": "stdout",
     "output_type": "stream",
     "text": [
      "Training_loss 0.00004,   Relative Error 0.00222\n",
      "Training_loss 0.00004,   Relative Error 0.00222\n"
     ]
    },
    {
     "name": "stderr",
     "output_type": "stream",
     "text": [
      " 59%|█████▉    | 1185/2000 [02:33<01:31,  8.88it/s]"
     ]
    },
    {
     "name": "stdout",
     "output_type": "stream",
     "text": [
      "Training_loss 0.00004,   Relative Error 0.00225\n",
      "Training_loss 0.00004,   Relative Error 0.00226\n"
     ]
    },
    {
     "name": "stderr",
     "output_type": "stream",
     "text": [
      " 59%|█████▉    | 1187/2000 [02:33<01:28,  9.20it/s]"
     ]
    },
    {
     "name": "stdout",
     "output_type": "stream",
     "text": [
      "Training_loss 0.00004,   Relative Error 0.00226\n",
      "Training_loss 0.00004,   Relative Error 0.00226\n"
     ]
    },
    {
     "name": "stderr",
     "output_type": "stream",
     "text": [
      " 59%|█████▉    | 1189/2000 [02:33<01:30,  8.92it/s]"
     ]
    },
    {
     "name": "stdout",
     "output_type": "stream",
     "text": [
      "Training_loss 0.00004,   Relative Error 0.00226\n",
      "Training_loss 0.00004,   Relative Error 0.00224\n"
     ]
    },
    {
     "name": "stderr",
     "output_type": "stream",
     "text": [
      " 60%|█████▉    | 1191/2000 [02:33<01:28,  9.12it/s]"
     ]
    },
    {
     "name": "stdout",
     "output_type": "stream",
     "text": [
      "Training_loss 0.00004,   Relative Error 0.00225\n",
      "Training_loss 0.00004,   Relative Error 0.00226\n"
     ]
    },
    {
     "name": "stderr",
     "output_type": "stream",
     "text": [
      " 60%|█████▉    | 1193/2000 [02:33<01:27,  9.25it/s]"
     ]
    },
    {
     "name": "stdout",
     "output_type": "stream",
     "text": [
      "Training_loss 0.00004,   Relative Error 0.00228\n",
      "Training_loss 0.00004,   Relative Error 0.00223\n"
     ]
    },
    {
     "name": "stderr",
     "output_type": "stream",
     "text": [
      " 60%|█████▉    | 1195/2000 [02:34<01:29,  9.02it/s]"
     ]
    },
    {
     "name": "stdout",
     "output_type": "stream",
     "text": [
      "Training_loss 0.00004,   Relative Error 0.00224\n",
      "Training_loss 0.00004,   Relative Error 0.00226\n"
     ]
    },
    {
     "name": "stderr",
     "output_type": "stream",
     "text": [
      " 60%|█████▉    | 1197/2000 [02:34<01:30,  8.87it/s]"
     ]
    },
    {
     "name": "stdout",
     "output_type": "stream",
     "text": [
      "Training_loss 0.00004,   Relative Error 0.00227\n",
      "Training_loss 0.00004,   Relative Error 0.00226\n"
     ]
    },
    {
     "name": "stderr",
     "output_type": "stream",
     "text": [
      " 60%|█████▉    | 1199/2000 [02:34<01:29,  8.92it/s]"
     ]
    },
    {
     "name": "stdout",
     "output_type": "stream",
     "text": [
      "Training_loss 0.00004,   Relative Error 0.00226\n",
      "Training_loss 0.00004,   Relative Error 0.00227\n"
     ]
    },
    {
     "name": "stderr",
     "output_type": "stream",
     "text": [
      " 60%|██████    | 1201/2000 [02:34<01:30,  8.86it/s]"
     ]
    },
    {
     "name": "stdout",
     "output_type": "stream",
     "text": [
      "Training_loss 0.00004,   Relative Error 0.00226\n",
      "Training_loss 0.00004,   Relative Error 0.00226\n"
     ]
    },
    {
     "name": "stderr",
     "output_type": "stream",
     "text": [
      " 60%|██████    | 1203/2000 [02:35<01:29,  8.87it/s]"
     ]
    },
    {
     "name": "stdout",
     "output_type": "stream",
     "text": [
      "Training_loss 0.00004,   Relative Error 0.00227\n",
      "Training_loss 0.00004,   Relative Error 0.00229\n"
     ]
    },
    {
     "name": "stderr",
     "output_type": "stream",
     "text": [
      " 60%|██████    | 1205/2000 [02:35<01:28,  8.95it/s]"
     ]
    },
    {
     "name": "stdout",
     "output_type": "stream",
     "text": [
      "Training_loss 0.00004,   Relative Error 0.00225\n",
      "Training_loss 0.00004,   Relative Error 0.00226\n"
     ]
    },
    {
     "name": "stderr",
     "output_type": "stream",
     "text": [
      " 60%|██████    | 1208/2000 [02:35<01:26,  9.11it/s]"
     ]
    },
    {
     "name": "stdout",
     "output_type": "stream",
     "text": [
      "Training_loss 0.00004,   Relative Error 0.00225\n",
      "Training_loss 0.00004,   Relative Error 0.00224\n",
      "Training_loss 0.00004,   Relative Error 0.00224\n"
     ]
    },
    {
     "name": "stderr",
     "output_type": "stream",
     "text": [
      " 60%|██████    | 1210/2000 [02:35<01:28,  8.89it/s]"
     ]
    },
    {
     "name": "stdout",
     "output_type": "stream",
     "text": [
      "Training_loss 0.00004,   Relative Error 0.00224\n",
      "Training_loss 0.00004,   Relative Error 0.00225\n"
     ]
    },
    {
     "name": "stderr",
     "output_type": "stream",
     "text": [
      " 61%|██████    | 1212/2000 [02:36<01:36,  8.20it/s]"
     ]
    },
    {
     "name": "stdout",
     "output_type": "stream",
     "text": [
      "Training_loss 0.00004,   Relative Error 0.00225\n",
      "Training_loss 0.00004,   Relative Error 0.00226\n"
     ]
    },
    {
     "name": "stderr",
     "output_type": "stream",
     "text": [
      " 61%|██████    | 1214/2000 [02:36<01:36,  8.11it/s]"
     ]
    },
    {
     "name": "stdout",
     "output_type": "stream",
     "text": [
      "Training_loss 0.00004,   Relative Error 0.00226\n",
      "Training_loss 0.00004,   Relative Error 0.00225\n"
     ]
    },
    {
     "name": "stderr",
     "output_type": "stream",
     "text": [
      " 61%|██████    | 1216/2000 [02:36<01:33,  8.38it/s]"
     ]
    },
    {
     "name": "stdout",
     "output_type": "stream",
     "text": [
      "Training_loss 0.00004,   Relative Error 0.00225\n",
      "Training_loss 0.00004,   Relative Error 0.00225\n"
     ]
    },
    {
     "name": "stderr",
     "output_type": "stream",
     "text": [
      " 61%|██████    | 1218/2000 [02:36<01:39,  7.85it/s]"
     ]
    },
    {
     "name": "stdout",
     "output_type": "stream",
     "text": [
      "Training_loss 0.00004,   Relative Error 0.00225\n",
      "Training_loss 0.00004,   Relative Error 0.00226\n"
     ]
    },
    {
     "name": "stderr",
     "output_type": "stream",
     "text": [
      " 61%|██████    | 1220/2000 [02:37<01:45,  7.42it/s]"
     ]
    },
    {
     "name": "stdout",
     "output_type": "stream",
     "text": [
      "Training_loss 0.00004,   Relative Error 0.00227\n",
      "Training_loss 0.00004,   Relative Error 0.00227\n"
     ]
    },
    {
     "name": "stderr",
     "output_type": "stream",
     "text": [
      " 61%|██████    | 1222/2000 [02:37<01:40,  7.71it/s]"
     ]
    },
    {
     "name": "stdout",
     "output_type": "stream",
     "text": [
      "Training_loss 0.00004,   Relative Error 0.00227\n",
      "Training_loss 0.00004,   Relative Error 0.00228\n"
     ]
    },
    {
     "name": "stderr",
     "output_type": "stream",
     "text": [
      " 61%|██████    | 1224/2000 [02:37<01:39,  7.80it/s]"
     ]
    },
    {
     "name": "stdout",
     "output_type": "stream",
     "text": [
      "Training_loss 0.00004,   Relative Error 0.00229\n",
      "Training_loss 0.00004,   Relative Error 0.00230\n"
     ]
    },
    {
     "name": "stderr",
     "output_type": "stream",
     "text": [
      " 61%|██████▏   | 1226/2000 [02:37<01:35,  8.14it/s]"
     ]
    },
    {
     "name": "stdout",
     "output_type": "stream",
     "text": [
      "Training_loss 0.00004,   Relative Error 0.00227\n",
      "Training_loss 0.00004,   Relative Error 0.00227\n"
     ]
    },
    {
     "name": "stderr",
     "output_type": "stream",
     "text": [
      " 61%|██████▏   | 1228/2000 [02:38<01:35,  8.07it/s]"
     ]
    },
    {
     "name": "stdout",
     "output_type": "stream",
     "text": [
      "Training_loss 0.00004,   Relative Error 0.00228\n",
      "Training_loss 0.00004,   Relative Error 0.00228\n"
     ]
    },
    {
     "name": "stderr",
     "output_type": "stream",
     "text": [
      " 62%|██████▏   | 1230/2000 [02:38<01:33,  8.21it/s]"
     ]
    },
    {
     "name": "stdout",
     "output_type": "stream",
     "text": [
      "Training_loss 0.00004,   Relative Error 0.00228\n",
      "Training_loss 0.00004,   Relative Error 0.00227\n"
     ]
    },
    {
     "name": "stderr",
     "output_type": "stream",
     "text": [
      " 62%|██████▏   | 1232/2000 [02:38<01:35,  8.02it/s]"
     ]
    },
    {
     "name": "stdout",
     "output_type": "stream",
     "text": [
      "Training_loss 0.00004,   Relative Error 0.00227\n",
      "Training_loss 0.00004,   Relative Error 0.00227\n"
     ]
    },
    {
     "name": "stderr",
     "output_type": "stream",
     "text": [
      " 62%|██████▏   | 1234/2000 [02:38<01:37,  7.83it/s]"
     ]
    },
    {
     "name": "stdout",
     "output_type": "stream",
     "text": [
      "Training_loss 0.00004,   Relative Error 0.00228\n",
      "Training_loss 0.00004,   Relative Error 0.00228\n"
     ]
    },
    {
     "name": "stderr",
     "output_type": "stream",
     "text": [
      " 62%|██████▏   | 1236/2000 [02:39<01:40,  7.62it/s]"
     ]
    },
    {
     "name": "stdout",
     "output_type": "stream",
     "text": [
      "Training_loss 0.00004,   Relative Error 0.00229\n",
      "Training_loss 0.00004,   Relative Error 0.00230\n"
     ]
    },
    {
     "name": "stderr",
     "output_type": "stream",
     "text": [
      " 62%|██████▏   | 1238/2000 [02:39<01:37,  7.84it/s]"
     ]
    },
    {
     "name": "stdout",
     "output_type": "stream",
     "text": [
      "Training_loss 0.00004,   Relative Error 0.00228\n",
      "Training_loss 0.00004,   Relative Error 0.00229\n"
     ]
    },
    {
     "name": "stderr",
     "output_type": "stream",
     "text": [
      " 62%|██████▏   | 1240/2000 [02:39<01:31,  8.31it/s]"
     ]
    },
    {
     "name": "stdout",
     "output_type": "stream",
     "text": [
      "Training_loss 0.00004,   Relative Error 0.00230\n",
      "Training_loss 0.00004,   Relative Error 0.00229\n"
     ]
    },
    {
     "name": "stderr",
     "output_type": "stream",
     "text": [
      " 62%|██████▏   | 1242/2000 [02:39<01:29,  8.51it/s]"
     ]
    },
    {
     "name": "stdout",
     "output_type": "stream",
     "text": [
      "Training_loss 0.00004,   Relative Error 0.00230\n",
      "Training_loss 0.00004,   Relative Error 0.00230\n"
     ]
    },
    {
     "name": "stderr",
     "output_type": "stream",
     "text": [
      " 62%|██████▏   | 1244/2000 [02:40<01:23,  9.02it/s]"
     ]
    },
    {
     "name": "stdout",
     "output_type": "stream",
     "text": [
      "Training_loss 0.00004,   Relative Error 0.00229\n",
      "Training_loss 0.00004,   Relative Error 0.00228\n"
     ]
    },
    {
     "name": "stderr",
     "output_type": "stream",
     "text": [
      " 62%|██████▏   | 1246/2000 [02:40<01:29,  8.46it/s]"
     ]
    },
    {
     "name": "stdout",
     "output_type": "stream",
     "text": [
      "Training_loss 0.00004,   Relative Error 0.00226\n",
      "Training_loss 0.00004,   Relative Error 0.00225\n"
     ]
    },
    {
     "name": "stderr",
     "output_type": "stream",
     "text": [
      " 62%|██████▏   | 1248/2000 [02:40<01:30,  8.34it/s]"
     ]
    },
    {
     "name": "stdout",
     "output_type": "stream",
     "text": [
      "Training_loss 0.00004,   Relative Error 0.00224\n",
      "Training_loss 0.00004,   Relative Error 0.00224\n"
     ]
    },
    {
     "name": "stderr",
     "output_type": "stream",
     "text": [
      " 62%|██████▎   | 1250/2000 [02:40<01:32,  8.11it/s]"
     ]
    },
    {
     "name": "stdout",
     "output_type": "stream",
     "text": [
      "Training_loss 0.00004,   Relative Error 0.00224\n",
      "Training_loss 0.00004,   Relative Error 0.00224\n"
     ]
    },
    {
     "name": "stderr",
     "output_type": "stream",
     "text": [
      " 63%|██████▎   | 1252/2000 [02:41<01:36,  7.74it/s]"
     ]
    },
    {
     "name": "stdout",
     "output_type": "stream",
     "text": [
      "Training_loss 0.00004,   Relative Error 0.00223\n",
      "Training_loss 0.00004,   Relative Error 0.00223\n"
     ]
    },
    {
     "name": "stderr",
     "output_type": "stream",
     "text": [
      " 63%|██████▎   | 1254/2000 [02:41<01:32,  8.06it/s]"
     ]
    },
    {
     "name": "stdout",
     "output_type": "stream",
     "text": [
      "Training_loss 0.00004,   Relative Error 0.00224\n",
      "Training_loss 0.00004,   Relative Error 0.00222\n"
     ]
    },
    {
     "name": "stderr",
     "output_type": "stream",
     "text": [
      " 63%|██████▎   | 1256/2000 [02:41<01:31,  8.12it/s]"
     ]
    },
    {
     "name": "stdout",
     "output_type": "stream",
     "text": [
      "Training_loss 0.00004,   Relative Error 0.00223\n",
      "Training_loss 0.00004,   Relative Error 0.00222\n"
     ]
    },
    {
     "name": "stderr",
     "output_type": "stream",
     "text": [
      " 63%|██████▎   | 1258/2000 [02:41<01:25,  8.65it/s]"
     ]
    },
    {
     "name": "stdout",
     "output_type": "stream",
     "text": [
      "Training_loss 0.00003,   Relative Error 0.00220\n",
      "Training_loss 0.00003,   Relative Error 0.00219\n"
     ]
    },
    {
     "name": "stderr",
     "output_type": "stream",
     "text": [
      " 63%|██████▎   | 1260/2000 [02:42<01:25,  8.69it/s]"
     ]
    },
    {
     "name": "stdout",
     "output_type": "stream",
     "text": [
      "Training_loss 0.00003,   Relative Error 0.00218\n",
      "Training_loss 0.00003,   Relative Error 0.00217\n"
     ]
    },
    {
     "name": "stderr",
     "output_type": "stream",
     "text": [
      " 63%|██████▎   | 1262/2000 [02:42<01:25,  8.67it/s]"
     ]
    },
    {
     "name": "stdout",
     "output_type": "stream",
     "text": [
      "Training_loss 0.00003,   Relative Error 0.00218\n",
      "Training_loss 0.00003,   Relative Error 0.00217\n"
     ]
    },
    {
     "name": "stderr",
     "output_type": "stream",
     "text": [
      " 63%|██████▎   | 1264/2000 [02:42<01:23,  8.81it/s]"
     ]
    },
    {
     "name": "stdout",
     "output_type": "stream",
     "text": [
      "Training_loss 0.00003,   Relative Error 0.00217\n",
      "Training_loss 0.00003,   Relative Error 0.00218\n",
      "Training_loss 0.00003,   Relative Error 0.00219\n"
     ]
    },
    {
     "name": "stderr",
     "output_type": "stream",
     "text": [
      " 63%|██████▎   | 1267/2000 [02:42<01:22,  8.94it/s]"
     ]
    },
    {
     "name": "stdout",
     "output_type": "stream",
     "text": [
      "Training_loss 0.00003,   Relative Error 0.00219\n",
      "Training_loss 0.00003,   Relative Error 0.00219\n"
     ]
    },
    {
     "name": "stderr",
     "output_type": "stream",
     "text": [
      " 63%|██████▎   | 1269/2000 [02:43<01:24,  8.65it/s]"
     ]
    },
    {
     "name": "stdout",
     "output_type": "stream",
     "text": [
      "Training_loss 0.00003,   Relative Error 0.00219\n",
      "Training_loss 0.00003,   Relative Error 0.00220\n"
     ]
    },
    {
     "name": "stderr",
     "output_type": "stream",
     "text": [
      " 64%|██████▎   | 1271/2000 [02:43<01:30,  8.03it/s]"
     ]
    },
    {
     "name": "stdout",
     "output_type": "stream",
     "text": [
      "Training_loss 0.00003,   Relative Error 0.00220\n",
      "Training_loss 0.00003,   Relative Error 0.00220\n"
     ]
    },
    {
     "name": "stderr",
     "output_type": "stream",
     "text": [
      " 64%|██████▎   | 1273/2000 [02:43<01:34,  7.69it/s]"
     ]
    },
    {
     "name": "stdout",
     "output_type": "stream",
     "text": [
      "Training_loss 0.00003,   Relative Error 0.00219\n",
      "Training_loss 0.00003,   Relative Error 0.00219\n"
     ]
    },
    {
     "name": "stderr",
     "output_type": "stream",
     "text": [
      " 64%|██████▍   | 1275/2000 [02:43<01:33,  7.77it/s]"
     ]
    },
    {
     "name": "stdout",
     "output_type": "stream",
     "text": [
      "Training_loss 0.00003,   Relative Error 0.00220\n",
      "Training_loss 0.00003,   Relative Error 0.00219\n"
     ]
    },
    {
     "name": "stderr",
     "output_type": "stream",
     "text": [
      " 64%|██████▍   | 1277/2000 [02:44<01:30,  7.97it/s]"
     ]
    },
    {
     "name": "stdout",
     "output_type": "stream",
     "text": [
      "Training_loss 0.00003,   Relative Error 0.00220\n",
      "Training_loss 0.00003,   Relative Error 0.00220\n"
     ]
    },
    {
     "name": "stderr",
     "output_type": "stream",
     "text": [
      " 64%|██████▍   | 1279/2000 [02:44<01:25,  8.43it/s]"
     ]
    },
    {
     "name": "stdout",
     "output_type": "stream",
     "text": [
      "Training_loss 0.00003,   Relative Error 0.00220\n",
      "Training_loss 0.00003,   Relative Error 0.00220\n"
     ]
    },
    {
     "name": "stderr",
     "output_type": "stream",
     "text": [
      " 64%|██████▍   | 1281/2000 [02:44<01:32,  7.76it/s]"
     ]
    },
    {
     "name": "stdout",
     "output_type": "stream",
     "text": [
      "Training_loss 0.00003,   Relative Error 0.00220\n",
      "Training_loss 0.00003,   Relative Error 0.00220\n"
     ]
    },
    {
     "name": "stderr",
     "output_type": "stream",
     "text": [
      "\r",
      " 64%|██████▍   | 1282/2000 [02:44<01:30,  7.95it/s]"
     ]
    },
    {
     "name": "stdout",
     "output_type": "stream",
     "text": [
      "Training_loss 0.00003,   Relative Error 0.00221\n",
      "Training_loss 0.00003,   Relative Error 0.00220\n"
     ]
    },
    {
     "name": "stderr",
     "output_type": "stream",
     "text": [
      " 64%|██████▍   | 1285/2000 [02:45<01:21,  8.79it/s]"
     ]
    },
    {
     "name": "stdout",
     "output_type": "stream",
     "text": [
      "Training_loss 0.00003,   Relative Error 0.00220\n",
      "Training_loss 0.00004,   Relative Error 0.00221\n"
     ]
    },
    {
     "name": "stderr",
     "output_type": "stream",
     "text": [
      " 64%|██████▍   | 1287/2000 [02:45<01:31,  7.78it/s]"
     ]
    },
    {
     "name": "stdout",
     "output_type": "stream",
     "text": [
      "Training_loss 0.00004,   Relative Error 0.00222\n",
      "Training_loss 0.00004,   Relative Error 0.00224\n"
     ]
    },
    {
     "name": "stderr",
     "output_type": "stream",
     "text": [
      " 64%|██████▍   | 1289/2000 [02:45<01:30,  7.86it/s]"
     ]
    },
    {
     "name": "stdout",
     "output_type": "stream",
     "text": [
      "Training_loss 0.00004,   Relative Error 0.00224\n",
      "Training_loss 0.00004,   Relative Error 0.00223\n"
     ]
    },
    {
     "name": "stderr",
     "output_type": "stream",
     "text": [
      " 65%|██████▍   | 1291/2000 [02:45<01:25,  8.26it/s]"
     ]
    },
    {
     "name": "stdout",
     "output_type": "stream",
     "text": [
      "Training_loss 0.00004,   Relative Error 0.00223\n",
      "Training_loss 0.00004,   Relative Error 0.00224\n"
     ]
    },
    {
     "name": "stderr",
     "output_type": "stream",
     "text": [
      " 65%|██████▍   | 1293/2000 [02:46<01:30,  7.85it/s]"
     ]
    },
    {
     "name": "stdout",
     "output_type": "stream",
     "text": [
      "Training_loss 0.00004,   Relative Error 0.00224\n",
      "Training_loss 0.00004,   Relative Error 0.00224\n"
     ]
    },
    {
     "name": "stderr",
     "output_type": "stream",
     "text": [
      "\r",
      " 65%|██████▍   | 1294/2000 [02:46<01:47,  6.58it/s]"
     ]
    },
    {
     "name": "stdout",
     "output_type": "stream",
     "text": [
      "Training_loss 0.00004,   Relative Error 0.00225\n"
     ]
    },
    {
     "name": "stderr",
     "output_type": "stream",
     "text": [
      " 65%|██████▍   | 1296/2000 [02:46<02:09,  5.45it/s]"
     ]
    },
    {
     "name": "stdout",
     "output_type": "stream",
     "text": [
      "Training_loss 0.00004,   Relative Error 0.00223\n",
      "Training_loss 0.00004,   Relative Error 0.00224\n"
     ]
    },
    {
     "name": "stderr",
     "output_type": "stream",
     "text": [
      " 65%|██████▍   | 1298/2000 [02:47<01:55,  6.10it/s]"
     ]
    },
    {
     "name": "stdout",
     "output_type": "stream",
     "text": [
      "Training_loss 0.00004,   Relative Error 0.00224\n",
      "Training_loss 0.00004,   Relative Error 0.00224\n"
     ]
    },
    {
     "name": "stderr",
     "output_type": "stream",
     "text": [
      "\r",
      " 65%|██████▍   | 1299/2000 [02:47<01:52,  6.20it/s]"
     ]
    },
    {
     "name": "stdout",
     "output_type": "stream",
     "text": [
      "Training_loss 0.00004,   Relative Error 0.00224\n"
     ]
    },
    {
     "name": "stderr",
     "output_type": "stream",
     "text": [
      "\r",
      " 65%|██████▌   | 1300/2000 [02:47<02:08,  5.46it/s]"
     ]
    },
    {
     "name": "stdout",
     "output_type": "stream",
     "text": [
      "Training_loss 0.00004,   Relative Error 0.00224\n"
     ]
    },
    {
     "name": "stderr",
     "output_type": "stream",
     "text": [
      " 65%|██████▌   | 1302/2000 [02:47<02:17,  5.08it/s]"
     ]
    },
    {
     "name": "stdout",
     "output_type": "stream",
     "text": [
      "Training_loss 0.00004,   Relative Error 0.00224\n",
      "Training_loss 0.00004,   Relative Error 0.00225\n"
     ]
    },
    {
     "name": "stderr",
     "output_type": "stream",
     "text": [
      " 65%|██████▌   | 1304/2000 [02:48<02:03,  5.64it/s]"
     ]
    },
    {
     "name": "stdout",
     "output_type": "stream",
     "text": [
      "Training_loss 0.00004,   Relative Error 0.00225\n",
      "Training_loss 0.00004,   Relative Error 0.00223\n"
     ]
    },
    {
     "name": "stderr",
     "output_type": "stream",
     "text": [
      " 65%|██████▌   | 1306/2000 [02:48<01:45,  6.56it/s]"
     ]
    },
    {
     "name": "stdout",
     "output_type": "stream",
     "text": [
      "Training_loss 0.00004,   Relative Error 0.00225\n",
      "Training_loss 0.00004,   Relative Error 0.00227\n"
     ]
    },
    {
     "name": "stderr",
     "output_type": "stream",
     "text": [
      " 65%|██████▌   | 1308/2000 [02:48<01:37,  7.07it/s]"
     ]
    },
    {
     "name": "stdout",
     "output_type": "stream",
     "text": [
      "Training_loss 0.00004,   Relative Error 0.00227\n",
      "Training_loss 0.00004,   Relative Error 0.00226\n"
     ]
    },
    {
     "name": "stderr",
     "output_type": "stream",
     "text": [
      " 66%|██████▌   | 1310/2000 [02:48<01:29,  7.69it/s]"
     ]
    },
    {
     "name": "stdout",
     "output_type": "stream",
     "text": [
      "Training_loss 0.00004,   Relative Error 0.00224\n",
      "Training_loss 0.00004,   Relative Error 0.00223\n"
     ]
    },
    {
     "name": "stderr",
     "output_type": "stream",
     "text": [
      " 66%|██████▌   | 1312/2000 [02:49<01:30,  7.63it/s]"
     ]
    },
    {
     "name": "stdout",
     "output_type": "stream",
     "text": [
      "Training_loss 0.00004,   Relative Error 0.00224\n",
      "Training_loss 0.00004,   Relative Error 0.00224\n"
     ]
    },
    {
     "name": "stderr",
     "output_type": "stream",
     "text": [
      " 66%|██████▌   | 1314/2000 [02:49<01:25,  8.05it/s]"
     ]
    },
    {
     "name": "stdout",
     "output_type": "stream",
     "text": [
      "Training_loss 0.00004,   Relative Error 0.00224\n",
      "Training_loss 0.00004,   Relative Error 0.00223\n"
     ]
    },
    {
     "name": "stderr",
     "output_type": "stream",
     "text": [
      " 66%|██████▌   | 1316/2000 [02:49<01:21,  8.38it/s]"
     ]
    },
    {
     "name": "stdout",
     "output_type": "stream",
     "text": [
      "Training_loss 0.00004,   Relative Error 0.00222\n",
      "Training_loss 0.00004,   Relative Error 0.00223\n"
     ]
    },
    {
     "name": "stderr",
     "output_type": "stream",
     "text": [
      " 66%|██████▌   | 1318/2000 [02:49<01:21,  8.39it/s]"
     ]
    },
    {
     "name": "stdout",
     "output_type": "stream",
     "text": [
      "Training_loss 0.00004,   Relative Error 0.00222\n",
      "Training_loss 0.00004,   Relative Error 0.00223\n"
     ]
    },
    {
     "name": "stderr",
     "output_type": "stream",
     "text": [
      " 66%|██████▌   | 1320/2000 [02:50<01:30,  7.53it/s]"
     ]
    },
    {
     "name": "stdout",
     "output_type": "stream",
     "text": [
      "Training_loss 0.00004,   Relative Error 0.00223\n",
      "Training_loss 0.00004,   Relative Error 0.00224\n"
     ]
    },
    {
     "name": "stderr",
     "output_type": "stream",
     "text": [
      " 66%|██████▌   | 1322/2000 [02:50<01:28,  7.66it/s]"
     ]
    },
    {
     "name": "stdout",
     "output_type": "stream",
     "text": [
      "Training_loss 0.00004,   Relative Error 0.00224\n",
      "Training_loss 0.00004,   Relative Error 0.00224\n"
     ]
    },
    {
     "name": "stderr",
     "output_type": "stream",
     "text": [
      " 66%|██████▌   | 1324/2000 [02:50<01:30,  7.46it/s]"
     ]
    },
    {
     "name": "stdout",
     "output_type": "stream",
     "text": [
      "Training_loss 0.00004,   Relative Error 0.00223\n",
      "Training_loss 0.00004,   Relative Error 0.00224\n"
     ]
    },
    {
     "name": "stderr",
     "output_type": "stream",
     "text": [
      " 66%|██████▋   | 1326/2000 [02:51<01:30,  7.41it/s]"
     ]
    },
    {
     "name": "stdout",
     "output_type": "stream",
     "text": [
      "Training_loss 0.00004,   Relative Error 0.00224\n",
      "Training_loss 0.00004,   Relative Error 0.00225\n"
     ]
    },
    {
     "name": "stderr",
     "output_type": "stream",
     "text": [
      " 66%|██████▋   | 1328/2000 [02:51<01:26,  7.75it/s]"
     ]
    },
    {
     "name": "stdout",
     "output_type": "stream",
     "text": [
      "Training_loss 0.00004,   Relative Error 0.00226\n",
      "Training_loss 0.00004,   Relative Error 0.00227\n"
     ]
    },
    {
     "name": "stderr",
     "output_type": "stream",
     "text": [
      " 66%|██████▋   | 1330/2000 [02:51<01:34,  7.05it/s]"
     ]
    },
    {
     "name": "stdout",
     "output_type": "stream",
     "text": [
      "Training_loss 0.00004,   Relative Error 0.00227\n",
      "Training_loss 0.00004,   Relative Error 0.00226\n"
     ]
    },
    {
     "name": "stderr",
     "output_type": "stream",
     "text": [
      " 67%|██████▋   | 1332/2000 [02:51<01:30,  7.36it/s]"
     ]
    },
    {
     "name": "stdout",
     "output_type": "stream",
     "text": [
      "Training_loss 0.00004,   Relative Error 0.00227\n",
      "Training_loss 0.00004,   Relative Error 0.00228\n"
     ]
    },
    {
     "name": "stderr",
     "output_type": "stream",
     "text": [
      " 67%|██████▋   | 1334/2000 [02:52<01:24,  7.92it/s]"
     ]
    },
    {
     "name": "stdout",
     "output_type": "stream",
     "text": [
      "Training_loss 0.00004,   Relative Error 0.00230\n",
      "Training_loss 0.00004,   Relative Error 0.00231\n"
     ]
    },
    {
     "name": "stderr",
     "output_type": "stream",
     "text": [
      "\r",
      " 67%|██████▋   | 1335/2000 [02:52<01:24,  7.91it/s]"
     ]
    },
    {
     "name": "stdout",
     "output_type": "stream",
     "text": [
      "Training_loss 0.00004,   Relative Error 0.00232\n"
     ]
    },
    {
     "name": "stderr",
     "output_type": "stream",
     "text": [
      "\r",
      " 67%|██████▋   | 1336/2000 [02:52<01:55,  5.75it/s]"
     ]
    },
    {
     "name": "stdout",
     "output_type": "stream",
     "text": [
      "Training_loss 0.00004,   Relative Error 0.00232\n"
     ]
    },
    {
     "name": "stderr",
     "output_type": "stream",
     "text": [
      "\r",
      " 67%|██████▋   | 1337/2000 [02:52<02:07,  5.21it/s]"
     ]
    },
    {
     "name": "stdout",
     "output_type": "stream",
     "text": [
      "Training_loss 0.00004,   Relative Error 0.00233\n"
     ]
    },
    {
     "name": "stderr",
     "output_type": "stream",
     "text": [
      " 67%|██████▋   | 1339/2000 [02:53<02:08,  5.14it/s]"
     ]
    },
    {
     "name": "stdout",
     "output_type": "stream",
     "text": [
      "Training_loss 0.00004,   Relative Error 0.00235\n",
      "Training_loss 0.00004,   Relative Error 0.00234\n"
     ]
    },
    {
     "name": "stderr",
     "output_type": "stream",
     "text": [
      "\r",
      " 67%|██████▋   | 1340/2000 [02:53<02:12,  5.00it/s]"
     ]
    },
    {
     "name": "stdout",
     "output_type": "stream",
     "text": [
      "Training_loss 0.00004,   Relative Error 0.00233\n"
     ]
    },
    {
     "name": "stderr",
     "output_type": "stream",
     "text": [
      " 67%|██████▋   | 1342/2000 [02:53<01:54,  5.74it/s]"
     ]
    },
    {
     "name": "stdout",
     "output_type": "stream",
     "text": [
      "Training_loss 0.00004,   Relative Error 0.00232\n",
      "Training_loss 0.00004,   Relative Error 0.00232\n"
     ]
    },
    {
     "name": "stderr",
     "output_type": "stream",
     "text": [
      "\r",
      " 67%|██████▋   | 1343/2000 [02:53<01:52,  5.85it/s]"
     ]
    },
    {
     "name": "stdout",
     "output_type": "stream",
     "text": [
      "Training_loss 0.00004,   Relative Error 0.00231\n",
      "Training_loss 0.00004,   Relative Error 0.00232\n"
     ]
    },
    {
     "name": "stderr",
     "output_type": "stream",
     "text": [
      " 67%|██████▋   | 1346/2000 [02:54<01:40,  6.50it/s]"
     ]
    },
    {
     "name": "stdout",
     "output_type": "stream",
     "text": [
      "Training_loss 0.00004,   Relative Error 0.00230\n",
      "Training_loss 0.00004,   Relative Error 0.00231\n"
     ]
    },
    {
     "name": "stderr",
     "output_type": "stream",
     "text": [
      " 67%|██████▋   | 1348/2000 [02:54<01:26,  7.57it/s]"
     ]
    },
    {
     "name": "stdout",
     "output_type": "stream",
     "text": [
      "Training_loss 0.00004,   Relative Error 0.00230\n",
      "Training_loss 0.00004,   Relative Error 0.00230\n"
     ]
    },
    {
     "name": "stderr",
     "output_type": "stream",
     "text": [
      " 68%|██████▊   | 1350/2000 [02:54<01:31,  7.09it/s]"
     ]
    },
    {
     "name": "stdout",
     "output_type": "stream",
     "text": [
      "Training_loss 0.00004,   Relative Error 0.00231\n",
      "Training_loss 0.00004,   Relative Error 0.00231\n"
     ]
    },
    {
     "name": "stderr",
     "output_type": "stream",
     "text": [
      " 68%|██████▊   | 1352/2000 [02:55<01:38,  6.58it/s]"
     ]
    },
    {
     "name": "stdout",
     "output_type": "stream",
     "text": [
      "Training_loss 0.00004,   Relative Error 0.00231\n",
      "Training_loss 0.00004,   Relative Error 0.00229\n"
     ]
    },
    {
     "name": "stderr",
     "output_type": "stream",
     "text": [
      " 68%|██████▊   | 1354/2000 [02:55<01:57,  5.51it/s]"
     ]
    },
    {
     "name": "stdout",
     "output_type": "stream",
     "text": [
      "Training_loss 0.00004,   Relative Error 0.00229\n",
      "Training_loss 0.00004,   Relative Error 0.00227\n"
     ]
    },
    {
     "name": "stderr",
     "output_type": "stream",
     "text": [
      " 68%|██████▊   | 1356/2000 [02:55<01:48,  5.94it/s]"
     ]
    },
    {
     "name": "stdout",
     "output_type": "stream",
     "text": [
      "Training_loss 0.00004,   Relative Error 0.00228\n",
      "Training_loss 0.00004,   Relative Error 0.00229\n"
     ]
    },
    {
     "name": "stderr",
     "output_type": "stream",
     "text": [
      " 68%|██████▊   | 1358/2000 [02:56<01:33,  6.84it/s]"
     ]
    },
    {
     "name": "stdout",
     "output_type": "stream",
     "text": [
      "Training_loss 0.00004,   Relative Error 0.00229\n",
      "Training_loss 0.00004,   Relative Error 0.00229\n"
     ]
    },
    {
     "name": "stderr",
     "output_type": "stream",
     "text": [
      " 68%|██████▊   | 1360/2000 [02:56<01:20,  7.95it/s]"
     ]
    },
    {
     "name": "stdout",
     "output_type": "stream",
     "text": [
      "Training_loss 0.00004,   Relative Error 0.00231\n",
      "Training_loss 0.00004,   Relative Error 0.00231\n"
     ]
    },
    {
     "name": "stderr",
     "output_type": "stream",
     "text": [
      "\r",
      " 68%|██████▊   | 1361/2000 [02:56<01:25,  7.47it/s]"
     ]
    },
    {
     "name": "stdout",
     "output_type": "stream",
     "text": [
      "Training_loss 0.00004,   Relative Error 0.00230\n",
      "Training_loss 0.00004,   Relative Error 0.00231\n"
     ]
    },
    {
     "name": "stderr",
     "output_type": "stream",
     "text": [
      "\r",
      " 68%|██████▊   | 1363/2000 [02:56<01:23,  7.67it/s]"
     ]
    },
    {
     "name": "stdout",
     "output_type": "stream",
     "text": [
      "Training_loss 0.00004,   Relative Error 0.00229\n",
      "Training_loss 0.00004,   Relative Error 0.00228\n"
     ]
    },
    {
     "name": "stderr",
     "output_type": "stream",
     "text": [
      " 68%|██████▊   | 1366/2000 [02:57<01:15,  8.35it/s]"
     ]
    },
    {
     "name": "stdout",
     "output_type": "stream",
     "text": [
      "Training_loss 0.00004,   Relative Error 0.00228\n",
      "Training_loss 0.00004,   Relative Error 0.00228\n"
     ]
    },
    {
     "name": "stderr",
     "output_type": "stream",
     "text": [
      " 68%|██████▊   | 1368/2000 [02:57<01:24,  7.51it/s]"
     ]
    },
    {
     "name": "stdout",
     "output_type": "stream",
     "text": [
      "Training_loss 0.00004,   Relative Error 0.00228\n",
      "Training_loss 0.00004,   Relative Error 0.00230\n"
     ]
    },
    {
     "name": "stderr",
     "output_type": "stream",
     "text": [
      " 68%|██████▊   | 1370/2000 [02:57<01:21,  7.69it/s]"
     ]
    },
    {
     "name": "stdout",
     "output_type": "stream",
     "text": [
      "Training_loss 0.00004,   Relative Error 0.00228\n",
      "Training_loss 0.00004,   Relative Error 0.00229\n"
     ]
    },
    {
     "name": "stderr",
     "output_type": "stream",
     "text": [
      " 69%|██████▊   | 1372/2000 [02:57<01:23,  7.53it/s]"
     ]
    },
    {
     "name": "stdout",
     "output_type": "stream",
     "text": [
      "Training_loss 0.00004,   Relative Error 0.00230\n",
      "Training_loss 0.00004,   Relative Error 0.00230\n"
     ]
    },
    {
     "name": "stderr",
     "output_type": "stream",
     "text": [
      " 69%|██████▊   | 1374/2000 [02:58<01:15,  8.29it/s]"
     ]
    },
    {
     "name": "stdout",
     "output_type": "stream",
     "text": [
      "Training_loss 0.00004,   Relative Error 0.00231\n",
      "Training_loss 0.00004,   Relative Error 0.00232\n"
     ]
    },
    {
     "name": "stderr",
     "output_type": "stream",
     "text": [
      " 69%|██████▉   | 1376/2000 [02:58<01:14,  8.41it/s]"
     ]
    },
    {
     "name": "stdout",
     "output_type": "stream",
     "text": [
      "Training_loss 0.00004,   Relative Error 0.00231\n",
      "Training_loss 0.00004,   Relative Error 0.00230\n"
     ]
    },
    {
     "name": "stderr",
     "output_type": "stream",
     "text": [
      " 69%|██████▉   | 1378/2000 [02:58<01:17,  7.99it/s]"
     ]
    },
    {
     "name": "stdout",
     "output_type": "stream",
     "text": [
      "Training_loss 0.00004,   Relative Error 0.00230\n",
      "Training_loss 0.00004,   Relative Error 0.00231\n"
     ]
    },
    {
     "name": "stderr",
     "output_type": "stream",
     "text": [
      " 69%|██████▉   | 1380/2000 [02:58<01:29,  6.89it/s]"
     ]
    },
    {
     "name": "stdout",
     "output_type": "stream",
     "text": [
      "Training_loss 0.00004,   Relative Error 0.00232\n",
      "Training_loss 0.00004,   Relative Error 0.00230\n"
     ]
    },
    {
     "name": "stderr",
     "output_type": "stream",
     "text": [
      " 69%|██████▉   | 1382/2000 [02:59<01:24,  7.30it/s]"
     ]
    },
    {
     "name": "stdout",
     "output_type": "stream",
     "text": [
      "Training_loss 0.00004,   Relative Error 0.00232\n",
      "Training_loss 0.00004,   Relative Error 0.00231\n"
     ]
    },
    {
     "name": "stderr",
     "output_type": "stream",
     "text": [
      " 69%|██████▉   | 1384/2000 [02:59<01:20,  7.70it/s]"
     ]
    },
    {
     "name": "stdout",
     "output_type": "stream",
     "text": [
      "Training_loss 0.00004,   Relative Error 0.00227\n",
      "Training_loss 0.00004,   Relative Error 0.00228\n"
     ]
    },
    {
     "name": "stderr",
     "output_type": "stream",
     "text": [
      " 69%|██████▉   | 1386/2000 [02:59<01:16,  8.05it/s]"
     ]
    },
    {
     "name": "stdout",
     "output_type": "stream",
     "text": [
      "Training_loss 0.00004,   Relative Error 0.00230\n",
      "Training_loss 0.00004,   Relative Error 0.00231\n"
     ]
    },
    {
     "name": "stderr",
     "output_type": "stream",
     "text": [
      " 69%|██████▉   | 1388/2000 [02:59<01:16,  8.05it/s]"
     ]
    },
    {
     "name": "stdout",
     "output_type": "stream",
     "text": [
      "Training_loss 0.00004,   Relative Error 0.00231\n",
      "Training_loss 0.00004,   Relative Error 0.00231\n"
     ]
    },
    {
     "name": "stderr",
     "output_type": "stream",
     "text": [
      " 70%|██████▉   | 1390/2000 [03:00<01:13,  8.25it/s]"
     ]
    },
    {
     "name": "stdout",
     "output_type": "stream",
     "text": [
      "Training_loss 0.00004,   Relative Error 0.00233\n",
      "Training_loss 0.00004,   Relative Error 0.00235\n"
     ]
    },
    {
     "name": "stderr",
     "output_type": "stream",
     "text": [
      " 70%|██████▉   | 1392/2000 [03:00<01:09,  8.71it/s]"
     ]
    },
    {
     "name": "stdout",
     "output_type": "stream",
     "text": [
      "Training_loss 0.00004,   Relative Error 0.00232\n",
      "Training_loss 0.00004,   Relative Error 0.00231\n"
     ]
    },
    {
     "name": "stderr",
     "output_type": "stream",
     "text": [
      " 70%|██████▉   | 1394/2000 [03:00<01:07,  9.00it/s]"
     ]
    },
    {
     "name": "stdout",
     "output_type": "stream",
     "text": [
      "Training_loss 0.00004,   Relative Error 0.00231\n",
      "Training_loss 0.00004,   Relative Error 0.00231\n"
     ]
    },
    {
     "name": "stderr",
     "output_type": "stream",
     "text": [
      " 70%|██████▉   | 1396/2000 [03:00<01:07,  8.89it/s]"
     ]
    },
    {
     "name": "stdout",
     "output_type": "stream",
     "text": [
      "Training_loss 0.00004,   Relative Error 0.00231\n",
      "Training_loss 0.00004,   Relative Error 0.00230\n"
     ]
    },
    {
     "name": "stderr",
     "output_type": "stream",
     "text": [
      " 70%|██████▉   | 1398/2000 [03:01<01:07,  8.91it/s]"
     ]
    },
    {
     "name": "stdout",
     "output_type": "stream",
     "text": [
      "Training_loss 0.00004,   Relative Error 0.00232\n",
      "Training_loss 0.00004,   Relative Error 0.00234\n"
     ]
    },
    {
     "name": "stderr",
     "output_type": "stream",
     "text": [
      " 70%|███████   | 1400/2000 [03:01<01:06,  9.02it/s]"
     ]
    },
    {
     "name": "stdout",
     "output_type": "stream",
     "text": [
      "Training_loss 0.00004,   Relative Error 0.00232\n",
      "Training_loss 0.00004,   Relative Error 0.00233\n"
     ]
    },
    {
     "name": "stderr",
     "output_type": "stream",
     "text": [
      " 70%|███████   | 1402/2000 [03:01<01:05,  9.16it/s]"
     ]
    },
    {
     "name": "stdout",
     "output_type": "stream",
     "text": [
      "Training_loss 0.00004,   Relative Error 0.00236\n",
      "Training_loss 0.00004,   Relative Error 0.00237\n"
     ]
    },
    {
     "name": "stderr",
     "output_type": "stream",
     "text": [
      " 70%|███████   | 1404/2000 [03:01<01:09,  8.52it/s]"
     ]
    },
    {
     "name": "stdout",
     "output_type": "stream",
     "text": [
      "Training_loss 0.00004,   Relative Error 0.00238\n",
      "Training_loss 0.00004,   Relative Error 0.00238\n"
     ]
    },
    {
     "name": "stderr",
     "output_type": "stream",
     "text": [
      " 70%|███████   | 1406/2000 [03:02<01:13,  8.04it/s]"
     ]
    },
    {
     "name": "stdout",
     "output_type": "stream",
     "text": [
      "Training_loss 0.00004,   Relative Error 0.00239\n",
      "Training_loss 0.00004,   Relative Error 0.00237\n"
     ]
    },
    {
     "name": "stderr",
     "output_type": "stream",
     "text": [
      "\r",
      " 70%|███████   | 1407/2000 [03:02<01:14,  7.95it/s]"
     ]
    },
    {
     "name": "stdout",
     "output_type": "stream",
     "text": [
      "Training_loss 0.00004,   Relative Error 0.00236\n"
     ]
    },
    {
     "name": "stderr",
     "output_type": "stream",
     "text": [
      " 70%|███████   | 1409/2000 [03:02<01:38,  6.03it/s]"
     ]
    },
    {
     "name": "stdout",
     "output_type": "stream",
     "text": [
      "Training_loss 0.00004,   Relative Error 0.00236\n",
      "Training_loss 0.00004,   Relative Error 0.00237\n"
     ]
    },
    {
     "name": "stderr",
     "output_type": "stream",
     "text": [
      " 71%|███████   | 1411/2000 [03:02<01:34,  6.21it/s]"
     ]
    },
    {
     "name": "stdout",
     "output_type": "stream",
     "text": [
      "Training_loss 0.00004,   Relative Error 0.00237\n",
      "Training_loss 0.00004,   Relative Error 0.00236\n"
     ]
    },
    {
     "name": "stderr",
     "output_type": "stream",
     "text": [
      " 71%|███████   | 1413/2000 [03:03<01:25,  6.87it/s]"
     ]
    },
    {
     "name": "stdout",
     "output_type": "stream",
     "text": [
      "Training_loss 0.00004,   Relative Error 0.00237\n",
      "Training_loss 0.00004,   Relative Error 0.00239\n"
     ]
    },
    {
     "name": "stderr",
     "output_type": "stream",
     "text": [
      " 71%|███████   | 1415/2000 [03:03<01:18,  7.45it/s]"
     ]
    },
    {
     "name": "stdout",
     "output_type": "stream",
     "text": [
      "Training_loss 0.00004,   Relative Error 0.00238\n",
      "Training_loss 0.00004,   Relative Error 0.00239\n"
     ]
    },
    {
     "name": "stderr",
     "output_type": "stream",
     "text": [
      " 71%|███████   | 1417/2000 [03:03<01:26,  6.72it/s]"
     ]
    },
    {
     "name": "stdout",
     "output_type": "stream",
     "text": [
      "Training_loss 0.00004,   Relative Error 0.00238\n",
      "Training_loss 0.00004,   Relative Error 0.00237\n"
     ]
    },
    {
     "name": "stderr",
     "output_type": "stream",
     "text": [
      " 71%|███████   | 1419/2000 [03:03<01:25,  6.77it/s]"
     ]
    },
    {
     "name": "stdout",
     "output_type": "stream",
     "text": [
      "Training_loss 0.00004,   Relative Error 0.00237\n",
      "Training_loss 0.00004,   Relative Error 0.00236\n"
     ]
    },
    {
     "name": "stderr",
     "output_type": "stream",
     "text": [
      " 71%|███████   | 1421/2000 [03:04<01:16,  7.54it/s]"
     ]
    },
    {
     "name": "stdout",
     "output_type": "stream",
     "text": [
      "Training_loss 0.00004,   Relative Error 0.00233\n",
      "Training_loss 0.00004,   Relative Error 0.00232\n"
     ]
    },
    {
     "name": "stderr",
     "output_type": "stream",
     "text": [
      " 71%|███████   | 1423/2000 [03:04<01:13,  7.82it/s]"
     ]
    },
    {
     "name": "stdout",
     "output_type": "stream",
     "text": [
      "Training_loss 0.00004,   Relative Error 0.00233\n",
      "Training_loss 0.00004,   Relative Error 0.00234\n"
     ]
    },
    {
     "name": "stderr",
     "output_type": "stream",
     "text": [
      " 71%|███████▏  | 1425/2000 [03:04<01:09,  8.22it/s]"
     ]
    },
    {
     "name": "stdout",
     "output_type": "stream",
     "text": [
      "Training_loss 0.00004,   Relative Error 0.00232\n",
      "Training_loss 0.00004,   Relative Error 0.00232\n"
     ]
    },
    {
     "name": "stderr",
     "output_type": "stream",
     "text": [
      " 71%|███████▏  | 1427/2000 [03:04<01:05,  8.78it/s]"
     ]
    },
    {
     "name": "stdout",
     "output_type": "stream",
     "text": [
      "Training_loss 0.00004,   Relative Error 0.00233\n",
      "Training_loss 0.00004,   Relative Error 0.00234\n"
     ]
    },
    {
     "name": "stderr",
     "output_type": "stream",
     "text": [
      " 71%|███████▏  | 1429/2000 [03:05<01:05,  8.71it/s]"
     ]
    },
    {
     "name": "stdout",
     "output_type": "stream",
     "text": [
      "Training_loss 0.00004,   Relative Error 0.00234\n",
      "Training_loss 0.00004,   Relative Error 0.00231\n"
     ]
    },
    {
     "name": "stderr",
     "output_type": "stream",
     "text": [
      " 72%|███████▏  | 1431/2000 [03:05<01:07,  8.38it/s]"
     ]
    },
    {
     "name": "stdout",
     "output_type": "stream",
     "text": [
      "Training_loss 0.00004,   Relative Error 0.00232\n",
      "Training_loss 0.00004,   Relative Error 0.00231\n"
     ]
    },
    {
     "name": "stderr",
     "output_type": "stream",
     "text": [
      " 72%|███████▏  | 1434/2000 [03:05<01:02,  9.07it/s]"
     ]
    },
    {
     "name": "stdout",
     "output_type": "stream",
     "text": [
      "Training_loss 0.00004,   Relative Error 0.00230\n",
      "Training_loss 0.00004,   Relative Error 0.00229\n",
      "Training_loss 0.00004,   Relative Error 0.00229\n"
     ]
    },
    {
     "name": "stderr",
     "output_type": "stream",
     "text": [
      " 72%|███████▏  | 1436/2000 [03:05<01:06,  8.49it/s]"
     ]
    },
    {
     "name": "stdout",
     "output_type": "stream",
     "text": [
      "Training_loss 0.00004,   Relative Error 0.00228\n",
      "Training_loss 0.00004,   Relative Error 0.00227\n"
     ]
    },
    {
     "name": "stderr",
     "output_type": "stream",
     "text": [
      " 72%|███████▏  | 1439/2000 [03:06<01:02,  8.97it/s]"
     ]
    },
    {
     "name": "stdout",
     "output_type": "stream",
     "text": [
      "Training_loss 0.00004,   Relative Error 0.00228\n",
      "Training_loss 0.00004,   Relative Error 0.00228\n",
      "Training_loss 0.00004,   Relative Error 0.00229\n"
     ]
    },
    {
     "name": "stderr",
     "output_type": "stream",
     "text": [
      " 72%|███████▏  | 1441/2000 [03:06<01:02,  8.95it/s]"
     ]
    },
    {
     "name": "stdout",
     "output_type": "stream",
     "text": [
      "Training_loss 0.00004,   Relative Error 0.00229\n",
      "Training_loss 0.00004,   Relative Error 0.00229\n"
     ]
    },
    {
     "name": "stderr",
     "output_type": "stream",
     "text": [
      " 72%|███████▏  | 1443/2000 [03:06<01:02,  8.97it/s]"
     ]
    },
    {
     "name": "stdout",
     "output_type": "stream",
     "text": [
      "Training_loss 0.00004,   Relative Error 0.00227\n",
      "Training_loss 0.00004,   Relative Error 0.00229\n"
     ]
    },
    {
     "name": "stderr",
     "output_type": "stream",
     "text": [
      " 72%|███████▏  | 1445/2000 [03:06<01:01,  9.01it/s]"
     ]
    },
    {
     "name": "stdout",
     "output_type": "stream",
     "text": [
      "Training_loss 0.00004,   Relative Error 0.00229\n",
      "Training_loss 0.00004,   Relative Error 0.00228\n"
     ]
    },
    {
     "name": "stderr",
     "output_type": "stream",
     "text": [
      " 72%|███████▏  | 1447/2000 [03:07<01:08,  8.12it/s]"
     ]
    },
    {
     "name": "stdout",
     "output_type": "stream",
     "text": [
      "Training_loss 0.00004,   Relative Error 0.00226\n",
      "Training_loss 0.00004,   Relative Error 0.00226\n"
     ]
    },
    {
     "name": "stderr",
     "output_type": "stream",
     "text": [
      " 72%|███████▏  | 1449/2000 [03:07<01:05,  8.36it/s]"
     ]
    },
    {
     "name": "stdout",
     "output_type": "stream",
     "text": [
      "Training_loss 0.00004,   Relative Error 0.00226\n",
      "Training_loss 0.00004,   Relative Error 0.00226\n"
     ]
    },
    {
     "name": "stderr",
     "output_type": "stream",
     "text": [
      " 73%|███████▎  | 1451/2000 [03:07<01:08,  8.04it/s]"
     ]
    },
    {
     "name": "stdout",
     "output_type": "stream",
     "text": [
      "Training_loss 0.00004,   Relative Error 0.00226\n",
      "Training_loss 0.00004,   Relative Error 0.00224\n"
     ]
    },
    {
     "name": "stderr",
     "output_type": "stream",
     "text": [
      " 73%|███████▎  | 1453/2000 [03:07<01:04,  8.50it/s]"
     ]
    },
    {
     "name": "stdout",
     "output_type": "stream",
     "text": [
      "Training_loss 0.00004,   Relative Error 0.00225\n",
      "Training_loss 0.00004,   Relative Error 0.00224\n"
     ]
    },
    {
     "name": "stderr",
     "output_type": "stream",
     "text": [
      " 73%|███████▎  | 1455/2000 [03:08<01:03,  8.60it/s]"
     ]
    },
    {
     "name": "stdout",
     "output_type": "stream",
     "text": [
      "Training_loss 0.00004,   Relative Error 0.00224\n",
      "Training_loss 0.00004,   Relative Error 0.00224\n"
     ]
    },
    {
     "name": "stderr",
     "output_type": "stream",
     "text": [
      " 73%|███████▎  | 1457/2000 [03:08<01:00,  8.91it/s]"
     ]
    },
    {
     "name": "stdout",
     "output_type": "stream",
     "text": [
      "Training_loss 0.00004,   Relative Error 0.00225\n",
      "Training_loss 0.00004,   Relative Error 0.00226\n"
     ]
    },
    {
     "name": "stderr",
     "output_type": "stream",
     "text": [
      " 73%|███████▎  | 1459/2000 [03:08<01:01,  8.78it/s]"
     ]
    },
    {
     "name": "stdout",
     "output_type": "stream",
     "text": [
      "Training_loss 0.00004,   Relative Error 0.00225\n",
      "Training_loss 0.00004,   Relative Error 0.00224\n"
     ]
    },
    {
     "name": "stderr",
     "output_type": "stream",
     "text": [
      " 73%|███████▎  | 1461/2000 [03:08<01:01,  8.82it/s]"
     ]
    },
    {
     "name": "stdout",
     "output_type": "stream",
     "text": [
      "Training_loss 0.00004,   Relative Error 0.00224\n",
      "Training_loss 0.00004,   Relative Error 0.00223\n"
     ]
    },
    {
     "name": "stderr",
     "output_type": "stream",
     "text": [
      " 73%|███████▎  | 1463/2000 [03:09<01:02,  8.63it/s]"
     ]
    },
    {
     "name": "stdout",
     "output_type": "stream",
     "text": [
      "Training_loss 0.00004,   Relative Error 0.00223\n",
      "Training_loss 0.00004,   Relative Error 0.00223\n"
     ]
    },
    {
     "name": "stderr",
     "output_type": "stream",
     "text": [
      " 73%|███████▎  | 1465/2000 [03:09<01:02,  8.52it/s]"
     ]
    },
    {
     "name": "stdout",
     "output_type": "stream",
     "text": [
      "Training_loss 0.00004,   Relative Error 0.00222\n",
      "Training_loss 0.00004,   Relative Error 0.00224\n"
     ]
    },
    {
     "name": "stderr",
     "output_type": "stream",
     "text": [
      " 73%|███████▎  | 1467/2000 [03:09<01:01,  8.65it/s]"
     ]
    },
    {
     "name": "stdout",
     "output_type": "stream",
     "text": [
      "Training_loss 0.00004,   Relative Error 0.00226\n",
      "Training_loss 0.00004,   Relative Error 0.00225\n"
     ]
    },
    {
     "name": "stderr",
     "output_type": "stream",
     "text": [
      " 73%|███████▎  | 1469/2000 [03:09<01:01,  8.67it/s]"
     ]
    },
    {
     "name": "stdout",
     "output_type": "stream",
     "text": [
      "Training_loss 0.00004,   Relative Error 0.00223\n",
      "Training_loss 0.00004,   Relative Error 0.00224\n"
     ]
    },
    {
     "name": "stderr",
     "output_type": "stream",
     "text": [
      " 74%|███████▎  | 1471/2000 [03:10<01:00,  8.74it/s]"
     ]
    },
    {
     "name": "stdout",
     "output_type": "stream",
     "text": [
      "Training_loss 0.00004,   Relative Error 0.00222\n",
      "Training_loss 0.00004,   Relative Error 0.00224\n"
     ]
    },
    {
     "name": "stderr",
     "output_type": "stream",
     "text": [
      " 74%|███████▎  | 1473/2000 [03:10<01:00,  8.74it/s]"
     ]
    },
    {
     "name": "stdout",
     "output_type": "stream",
     "text": [
      "Training_loss 0.00004,   Relative Error 0.00224\n",
      "Training_loss 0.00004,   Relative Error 0.00226\n"
     ]
    },
    {
     "name": "stderr",
     "output_type": "stream",
     "text": [
      " 74%|███████▍  | 1475/2000 [03:10<00:58,  9.04it/s]"
     ]
    },
    {
     "name": "stdout",
     "output_type": "stream",
     "text": [
      "Training_loss 0.00004,   Relative Error 0.00227\n",
      "Training_loss 0.00004,   Relative Error 0.00227\n"
     ]
    },
    {
     "name": "stderr",
     "output_type": "stream",
     "text": [
      " 74%|███████▍  | 1477/2000 [03:10<00:59,  8.76it/s]"
     ]
    },
    {
     "name": "stdout",
     "output_type": "stream",
     "text": [
      "Training_loss 0.00004,   Relative Error 0.00229\n",
      "Training_loss 0.00004,   Relative Error 0.00230\n"
     ]
    },
    {
     "name": "stderr",
     "output_type": "stream",
     "text": [
      " 74%|███████▍  | 1479/2000 [03:10<01:02,  8.39it/s]"
     ]
    },
    {
     "name": "stdout",
     "output_type": "stream",
     "text": [
      "Training_loss 0.00004,   Relative Error 0.00229\n",
      "Training_loss 0.00004,   Relative Error 0.00228\n"
     ]
    },
    {
     "name": "stderr",
     "output_type": "stream",
     "text": [
      " 74%|███████▍  | 1481/2000 [03:11<01:05,  7.88it/s]"
     ]
    },
    {
     "name": "stdout",
     "output_type": "stream",
     "text": [
      "Training_loss 0.00004,   Relative Error 0.00229\n",
      "Training_loss 0.00004,   Relative Error 0.00228\n"
     ]
    },
    {
     "name": "stderr",
     "output_type": "stream",
     "text": [
      " 74%|███████▍  | 1483/2000 [03:11<01:01,  8.45it/s]"
     ]
    },
    {
     "name": "stdout",
     "output_type": "stream",
     "text": [
      "Training_loss 0.00004,   Relative Error 0.00228\n",
      "Training_loss 0.00004,   Relative Error 0.00228\n"
     ]
    },
    {
     "name": "stderr",
     "output_type": "stream",
     "text": [
      " 74%|███████▍  | 1485/2000 [03:11<00:59,  8.70it/s]"
     ]
    },
    {
     "name": "stdout",
     "output_type": "stream",
     "text": [
      "Training_loss 0.00004,   Relative Error 0.00229\n",
      "Training_loss 0.00004,   Relative Error 0.00231\n"
     ]
    },
    {
     "name": "stderr",
     "output_type": "stream",
     "text": [
      " 74%|███████▍  | 1487/2000 [03:11<00:58,  8.84it/s]"
     ]
    },
    {
     "name": "stdout",
     "output_type": "stream",
     "text": [
      "Training_loss 0.00004,   Relative Error 0.00230\n",
      "Training_loss 0.00004,   Relative Error 0.00231\n"
     ]
    },
    {
     "name": "stderr",
     "output_type": "stream",
     "text": [
      " 74%|███████▍  | 1489/2000 [03:12<01:02,  8.13it/s]"
     ]
    },
    {
     "name": "stdout",
     "output_type": "stream",
     "text": [
      "Training_loss 0.00004,   Relative Error 0.00230\n",
      "Training_loss 0.00004,   Relative Error 0.00232\n"
     ]
    },
    {
     "name": "stderr",
     "output_type": "stream",
     "text": [
      " 75%|███████▍  | 1491/2000 [03:12<01:08,  7.48it/s]"
     ]
    },
    {
     "name": "stdout",
     "output_type": "stream",
     "text": [
      "Training_loss 0.00004,   Relative Error 0.00233\n",
      "Training_loss 0.00004,   Relative Error 0.00232\n"
     ]
    },
    {
     "name": "stderr",
     "output_type": "stream",
     "text": [
      " 75%|███████▍  | 1493/2000 [03:12<01:11,  7.10it/s]"
     ]
    },
    {
     "name": "stdout",
     "output_type": "stream",
     "text": [
      "Training_loss 0.00004,   Relative Error 0.00232\n",
      "Training_loss 0.00004,   Relative Error 0.00232\n"
     ]
    },
    {
     "name": "stderr",
     "output_type": "stream",
     "text": [
      " 75%|███████▍  | 1495/2000 [03:13<01:17,  6.50it/s]"
     ]
    },
    {
     "name": "stdout",
     "output_type": "stream",
     "text": [
      "Training_loss 0.00004,   Relative Error 0.00232\n",
      "Training_loss 0.00004,   Relative Error 0.00233\n"
     ]
    },
    {
     "name": "stderr",
     "output_type": "stream",
     "text": [
      " 75%|███████▍  | 1497/2000 [03:13<01:09,  7.25it/s]"
     ]
    },
    {
     "name": "stdout",
     "output_type": "stream",
     "text": [
      "Training_loss 0.00004,   Relative Error 0.00230\n",
      "Training_loss 0.00004,   Relative Error 0.00230\n"
     ]
    },
    {
     "name": "stderr",
     "output_type": "stream",
     "text": [
      " 75%|███████▍  | 1499/2000 [03:13<01:02,  8.03it/s]"
     ]
    },
    {
     "name": "stdout",
     "output_type": "stream",
     "text": [
      "Training_loss 0.00004,   Relative Error 0.00229\n",
      "Training_loss 0.00004,   Relative Error 0.00227\n"
     ]
    },
    {
     "name": "stderr",
     "output_type": "stream",
     "text": [
      " 75%|███████▌  | 1501/2000 [03:13<01:10,  7.10it/s]"
     ]
    },
    {
     "name": "stdout",
     "output_type": "stream",
     "text": [
      "Training_loss 0.00004,   Relative Error 0.00227\n",
      "Training_loss 0.00004,   Relative Error 0.00228\n"
     ]
    },
    {
     "name": "stderr",
     "output_type": "stream",
     "text": [
      " 75%|███████▌  | 1503/2000 [03:14<01:09,  7.18it/s]"
     ]
    },
    {
     "name": "stdout",
     "output_type": "stream",
     "text": [
      "Training_loss 0.00004,   Relative Error 0.00229\n",
      "Training_loss 0.00004,   Relative Error 0.00228\n"
     ]
    },
    {
     "name": "stderr",
     "output_type": "stream",
     "text": [
      " 75%|███████▌  | 1505/2000 [03:14<01:06,  7.42it/s]"
     ]
    },
    {
     "name": "stdout",
     "output_type": "stream",
     "text": [
      "Training_loss 0.00004,   Relative Error 0.00229\n",
      "Training_loss 0.00004,   Relative Error 0.00228\n"
     ]
    },
    {
     "name": "stderr",
     "output_type": "stream",
     "text": [
      " 75%|███████▌  | 1507/2000 [03:14<01:06,  7.40it/s]"
     ]
    },
    {
     "name": "stdout",
     "output_type": "stream",
     "text": [
      "Training_loss 0.00004,   Relative Error 0.00229\n",
      "Training_loss 0.00004,   Relative Error 0.00230\n"
     ]
    },
    {
     "name": "stderr",
     "output_type": "stream",
     "text": [
      " 75%|███████▌  | 1509/2000 [03:14<01:00,  8.13it/s]"
     ]
    },
    {
     "name": "stdout",
     "output_type": "stream",
     "text": [
      "Training_loss 0.00004,   Relative Error 0.00229\n",
      "Training_loss 0.00004,   Relative Error 0.00228\n"
     ]
    },
    {
     "name": "stderr",
     "output_type": "stream",
     "text": [
      " 76%|███████▌  | 1511/2000 [03:15<01:06,  7.31it/s]"
     ]
    },
    {
     "name": "stdout",
     "output_type": "stream",
     "text": [
      "Training_loss 0.00004,   Relative Error 0.00228\n",
      "Training_loss 0.00004,   Relative Error 0.00228\n"
     ]
    },
    {
     "name": "stderr",
     "output_type": "stream",
     "text": [
      " 76%|███████▌  | 1513/2000 [03:15<01:00,  8.10it/s]"
     ]
    },
    {
     "name": "stdout",
     "output_type": "stream",
     "text": [
      "Training_loss 0.00004,   Relative Error 0.00228\n",
      "Training_loss 0.00004,   Relative Error 0.00227\n"
     ]
    },
    {
     "name": "stderr",
     "output_type": "stream",
     "text": [
      " 76%|███████▌  | 1516/2000 [03:15<00:55,  8.76it/s]"
     ]
    },
    {
     "name": "stdout",
     "output_type": "stream",
     "text": [
      "Training_loss 0.00004,   Relative Error 0.00228\n",
      "Training_loss 0.00004,   Relative Error 0.00226\n",
      "Training_loss 0.00004,   Relative Error 0.00228\n"
     ]
    },
    {
     "name": "stderr",
     "output_type": "stream",
     "text": [
      "\r",
      " 76%|███████▌  | 1518/2000 [03:15<00:53,  9.05it/s]"
     ]
    },
    {
     "name": "stdout",
     "output_type": "stream",
     "text": [
      "Training_loss 0.00004,   Relative Error 0.00228\n",
      "Training_loss 0.00004,   Relative Error 0.00231\n"
     ]
    },
    {
     "name": "stderr",
     "output_type": "stream",
     "text": [
      " 76%|███████▌  | 1520/2000 [03:16<00:54,  8.82it/s]"
     ]
    },
    {
     "name": "stdout",
     "output_type": "stream",
     "text": [
      "Training_loss 0.00004,   Relative Error 0.00231\n",
      "Training_loss 0.00004,   Relative Error 0.00231\n"
     ]
    },
    {
     "name": "stderr",
     "output_type": "stream",
     "text": [
      " 76%|███████▌  | 1522/2000 [03:16<00:57,  8.28it/s]"
     ]
    },
    {
     "name": "stdout",
     "output_type": "stream",
     "text": [
      "Training_loss 0.00004,   Relative Error 0.00230\n",
      "Training_loss 0.00004,   Relative Error 0.00230\n"
     ]
    },
    {
     "name": "stderr",
     "output_type": "stream",
     "text": [
      " 76%|███████▌  | 1524/2000 [03:16<00:57,  8.24it/s]"
     ]
    },
    {
     "name": "stdout",
     "output_type": "stream",
     "text": [
      "Training_loss 0.00004,   Relative Error 0.00230\n",
      "Training_loss 0.00004,   Relative Error 0.00231\n"
     ]
    },
    {
     "name": "stderr",
     "output_type": "stream",
     "text": [
      " 76%|███████▋  | 1526/2000 [03:16<01:00,  7.83it/s]"
     ]
    },
    {
     "name": "stdout",
     "output_type": "stream",
     "text": [
      "Training_loss 0.00004,   Relative Error 0.00231\n",
      "Training_loss 0.00004,   Relative Error 0.00231\n"
     ]
    },
    {
     "name": "stderr",
     "output_type": "stream",
     "text": [
      " 76%|███████▋  | 1528/2000 [03:17<01:04,  7.37it/s]"
     ]
    },
    {
     "name": "stdout",
     "output_type": "stream",
     "text": [
      "Training_loss 0.00004,   Relative Error 0.00231\n",
      "Training_loss 0.00004,   Relative Error 0.00232\n"
     ]
    },
    {
     "name": "stderr",
     "output_type": "stream",
     "text": [
      " 76%|███████▋  | 1530/2000 [03:17<00:58,  8.08it/s]"
     ]
    },
    {
     "name": "stdout",
     "output_type": "stream",
     "text": [
      "Training_loss 0.00004,   Relative Error 0.00230\n",
      "Training_loss 0.00004,   Relative Error 0.00229\n"
     ]
    },
    {
     "name": "stderr",
     "output_type": "stream",
     "text": [
      " 77%|███████▋  | 1532/2000 [03:17<01:00,  7.76it/s]"
     ]
    },
    {
     "name": "stdout",
     "output_type": "stream",
     "text": [
      "Training_loss 0.00004,   Relative Error 0.00231\n",
      "Training_loss 0.00004,   Relative Error 0.00233\n"
     ]
    },
    {
     "name": "stderr",
     "output_type": "stream",
     "text": [
      " 77%|███████▋  | 1534/2000 [03:18<00:59,  7.80it/s]"
     ]
    },
    {
     "name": "stdout",
     "output_type": "stream",
     "text": [
      "Training_loss 0.00004,   Relative Error 0.00233\n",
      "Training_loss 0.00004,   Relative Error 0.00235\n"
     ]
    },
    {
     "name": "stderr",
     "output_type": "stream",
     "text": [
      "\r",
      " 77%|███████▋  | 1535/2000 [03:18<01:06,  7.01it/s]"
     ]
    },
    {
     "name": "stdout",
     "output_type": "stream",
     "text": [
      "Training_loss 0.00004,   Relative Error 0.00234\n"
     ]
    },
    {
     "name": "stderr",
     "output_type": "stream",
     "text": [
      "\r",
      " 77%|███████▋  | 1536/2000 [03:18<01:18,  5.90it/s]"
     ]
    },
    {
     "name": "stdout",
     "output_type": "stream",
     "text": [
      "Training_loss 0.00004,   Relative Error 0.00233\n"
     ]
    },
    {
     "name": "stderr",
     "output_type": "stream",
     "text": [
      " 77%|███████▋  | 1538/2000 [03:18<01:22,  5.59it/s]"
     ]
    },
    {
     "name": "stdout",
     "output_type": "stream",
     "text": [
      "Training_loss 0.00004,   Relative Error 0.00234\n",
      "Training_loss 0.00004,   Relative Error 0.00233\n"
     ]
    },
    {
     "name": "stderr",
     "output_type": "stream",
     "text": [
      " 77%|███████▋  | 1540/2000 [03:19<01:20,  5.72it/s]"
     ]
    },
    {
     "name": "stdout",
     "output_type": "stream",
     "text": [
      "Training_loss 0.00004,   Relative Error 0.00231\n",
      "Training_loss 0.00004,   Relative Error 0.00231\n"
     ]
    },
    {
     "name": "stderr",
     "output_type": "stream",
     "text": [
      " 77%|███████▋  | 1542/2000 [03:19<01:18,  5.87it/s]"
     ]
    },
    {
     "name": "stdout",
     "output_type": "stream",
     "text": [
      "Training_loss 0.00004,   Relative Error 0.00231\n",
      "Training_loss 0.00004,   Relative Error 0.00233\n"
     ]
    },
    {
     "name": "stderr",
     "output_type": "stream",
     "text": [
      " 77%|███████▋  | 1544/2000 [03:19<01:19,  5.71it/s]"
     ]
    },
    {
     "name": "stdout",
     "output_type": "stream",
     "text": [
      "Training_loss 0.00004,   Relative Error 0.00233\n",
      "Training_loss 0.00004,   Relative Error 0.00234\n"
     ]
    },
    {
     "name": "stderr",
     "output_type": "stream",
     "text": [
      " 77%|███████▋  | 1546/2000 [03:20<01:13,  6.14it/s]"
     ]
    },
    {
     "name": "stdout",
     "output_type": "stream",
     "text": [
      "Training_loss 0.00004,   Relative Error 0.00235\n",
      "Training_loss 0.00004,   Relative Error 0.00235\n"
     ]
    },
    {
     "name": "stderr",
     "output_type": "stream",
     "text": [
      " 77%|███████▋  | 1548/2000 [03:20<01:01,  7.35it/s]"
     ]
    },
    {
     "name": "stdout",
     "output_type": "stream",
     "text": [
      "Training_loss 0.00004,   Relative Error 0.00234\n",
      "Training_loss 0.00004,   Relative Error 0.00233\n"
     ]
    },
    {
     "name": "stderr",
     "output_type": "stream",
     "text": [
      " 78%|███████▊  | 1550/2000 [03:20<00:56,  8.02it/s]"
     ]
    },
    {
     "name": "stdout",
     "output_type": "stream",
     "text": [
      "Training_loss 0.00004,   Relative Error 0.00232\n",
      "Training_loss 0.00004,   Relative Error 0.00233\n"
     ]
    },
    {
     "name": "stderr",
     "output_type": "stream",
     "text": [
      " 78%|███████▊  | 1552/2000 [03:20<00:53,  8.44it/s]"
     ]
    },
    {
     "name": "stdout",
     "output_type": "stream",
     "text": [
      "Training_loss 0.00004,   Relative Error 0.00234\n",
      "Training_loss 0.00004,   Relative Error 0.00231\n"
     ]
    },
    {
     "name": "stderr",
     "output_type": "stream",
     "text": [
      " 78%|███████▊  | 1554/2000 [03:21<00:50,  8.90it/s]"
     ]
    },
    {
     "name": "stdout",
     "output_type": "stream",
     "text": [
      "Training_loss 0.00004,   Relative Error 0.00233\n",
      "Training_loss 0.00004,   Relative Error 0.00233\n",
      "Training_loss 0.00004,   Relative Error 0.00231\n"
     ]
    },
    {
     "name": "stderr",
     "output_type": "stream",
     "text": [
      " 78%|███████▊  | 1557/2000 [03:21<00:51,  8.56it/s]"
     ]
    },
    {
     "name": "stdout",
     "output_type": "stream",
     "text": [
      "Training_loss 0.00004,   Relative Error 0.00231\n",
      "Training_loss 0.00004,   Relative Error 0.00231\n"
     ]
    },
    {
     "name": "stderr",
     "output_type": "stream",
     "text": [
      "\r",
      " 78%|███████▊  | 1559/2000 [03:21<00:49,  8.88it/s]"
     ]
    },
    {
     "name": "stdout",
     "output_type": "stream",
     "text": [
      "Training_loss 0.00004,   Relative Error 0.00230\n",
      "Training_loss 0.00004,   Relative Error 0.00230\n"
     ]
    },
    {
     "name": "stderr",
     "output_type": "stream",
     "text": [
      "\r",
      " 78%|███████▊  | 1560/2000 [03:21<00:52,  8.41it/s]"
     ]
    },
    {
     "name": "stdout",
     "output_type": "stream",
     "text": [
      "Training_loss 0.00004,   Relative Error 0.00229\n",
      "Training_loss 0.00004,   Relative Error 0.00229\n"
     ]
    },
    {
     "name": "stderr",
     "output_type": "stream",
     "text": [
      " 78%|███████▊  | 1563/2000 [03:22<00:49,  8.86it/s]"
     ]
    },
    {
     "name": "stdout",
     "output_type": "stream",
     "text": [
      "Training_loss 0.00004,   Relative Error 0.00230\n",
      "Training_loss 0.00004,   Relative Error 0.00231\n"
     ]
    },
    {
     "name": "stderr",
     "output_type": "stream",
     "text": [
      " 78%|███████▊  | 1565/2000 [03:22<00:48,  8.94it/s]"
     ]
    },
    {
     "name": "stdout",
     "output_type": "stream",
     "text": [
      "Training_loss 0.00004,   Relative Error 0.00230\n",
      "Training_loss 0.00004,   Relative Error 0.00227\n"
     ]
    },
    {
     "name": "stderr",
     "output_type": "stream",
     "text": [
      " 78%|███████▊  | 1567/2000 [03:22<00:51,  8.45it/s]"
     ]
    },
    {
     "name": "stdout",
     "output_type": "stream",
     "text": [
      "Training_loss 0.00004,   Relative Error 0.00228\n",
      "Training_loss 0.00004,   Relative Error 0.00229\n"
     ]
    },
    {
     "name": "stderr",
     "output_type": "stream",
     "text": [
      " 78%|███████▊  | 1569/2000 [03:22<00:49,  8.70it/s]"
     ]
    },
    {
     "name": "stdout",
     "output_type": "stream",
     "text": [
      "Training_loss 0.00004,   Relative Error 0.00230\n",
      "Training_loss 0.00004,   Relative Error 0.00229\n"
     ]
    },
    {
     "name": "stderr",
     "output_type": "stream",
     "text": [
      " 79%|███████▊  | 1571/2000 [03:22<00:47,  8.96it/s]"
     ]
    },
    {
     "name": "stdout",
     "output_type": "stream",
     "text": [
      "Training_loss 0.00004,   Relative Error 0.00229\n",
      "Training_loss 0.00004,   Relative Error 0.00228\n"
     ]
    },
    {
     "name": "stderr",
     "output_type": "stream",
     "text": [
      " 79%|███████▊  | 1573/2000 [03:23<00:47,  9.06it/s]"
     ]
    },
    {
     "name": "stdout",
     "output_type": "stream",
     "text": [
      "Training_loss 0.00004,   Relative Error 0.00228\n",
      "Training_loss 0.00004,   Relative Error 0.00228\n"
     ]
    },
    {
     "name": "stderr",
     "output_type": "stream",
     "text": [
      " 79%|███████▉  | 1575/2000 [03:23<00:52,  8.17it/s]"
     ]
    },
    {
     "name": "stdout",
     "output_type": "stream",
     "text": [
      "Training_loss 0.00004,   Relative Error 0.00229\n",
      "Training_loss 0.00004,   Relative Error 0.00227\n"
     ]
    },
    {
     "name": "stderr",
     "output_type": "stream",
     "text": [
      " 79%|███████▉  | 1577/2000 [03:23<00:48,  8.73it/s]"
     ]
    },
    {
     "name": "stdout",
     "output_type": "stream",
     "text": [
      "Training_loss 0.00004,   Relative Error 0.00227\n",
      "Training_loss 0.00004,   Relative Error 0.00226\n"
     ]
    },
    {
     "name": "stderr",
     "output_type": "stream",
     "text": [
      "\r",
      " 79%|███████▉  | 1579/2000 [03:23<00:49,  8.54it/s]"
     ]
    },
    {
     "name": "stdout",
     "output_type": "stream",
     "text": [
      "Training_loss 0.00004,   Relative Error 0.00225\n",
      "Training_loss 0.00004,   Relative Error 0.00223\n"
     ]
    },
    {
     "name": "stderr",
     "output_type": "stream",
     "text": [
      " 79%|███████▉  | 1581/2000 [03:24<00:46,  9.01it/s]"
     ]
    },
    {
     "name": "stdout",
     "output_type": "stream",
     "text": [
      "Training_loss 0.00004,   Relative Error 0.00222\n",
      "Training_loss 0.00004,   Relative Error 0.00221\n"
     ]
    },
    {
     "name": "stderr",
     "output_type": "stream",
     "text": [
      " 79%|███████▉  | 1583/2000 [03:24<00:45,  9.07it/s]"
     ]
    },
    {
     "name": "stdout",
     "output_type": "stream",
     "text": [
      "Training_loss 0.00004,   Relative Error 0.00222\n",
      "Training_loss 0.00004,   Relative Error 0.00223\n"
     ]
    },
    {
     "name": "stderr",
     "output_type": "stream",
     "text": [
      " 79%|███████▉  | 1586/2000 [03:24<00:42,  9.66it/s]"
     ]
    },
    {
     "name": "stdout",
     "output_type": "stream",
     "text": [
      "Training_loss 0.00004,   Relative Error 0.00223\n",
      "Training_loss 0.00004,   Relative Error 0.00225\n",
      "Training_loss 0.00004,   Relative Error 0.00225\n"
     ]
    },
    {
     "name": "stderr",
     "output_type": "stream",
     "text": [
      "\r",
      " 79%|███████▉  | 1588/2000 [03:24<00:40, 10.08it/s]"
     ]
    },
    {
     "name": "stdout",
     "output_type": "stream",
     "text": [
      "Training_loss 0.00004,   Relative Error 0.00224\n",
      "Training_loss 0.00004,   Relative Error 0.00224\n"
     ]
    },
    {
     "name": "stderr",
     "output_type": "stream",
     "text": [
      "\r",
      " 79%|███████▉  | 1589/2000 [03:24<00:44,  9.30it/s]"
     ]
    },
    {
     "name": "stdout",
     "output_type": "stream",
     "text": [
      "Training_loss 0.00004,   Relative Error 0.00225\n",
      "Training_loss 0.00004,   Relative Error 0.00223\n"
     ]
    },
    {
     "name": "stderr",
     "output_type": "stream",
     "text": [
      " 80%|███████▉  | 1592/2000 [03:25<00:44,  9.09it/s]"
     ]
    },
    {
     "name": "stdout",
     "output_type": "stream",
     "text": [
      "Training_loss 0.00004,   Relative Error 0.00225\n",
      "Training_loss 0.00004,   Relative Error 0.00221\n"
     ]
    },
    {
     "name": "stderr",
     "output_type": "stream",
     "text": [
      "\r",
      " 80%|███████▉  | 1594/2000 [03:25<00:41,  9.71it/s]"
     ]
    },
    {
     "name": "stdout",
     "output_type": "stream",
     "text": [
      "Training_loss 0.00004,   Relative Error 0.00222\n",
      "Training_loss 0.00004,   Relative Error 0.00223\n",
      "Training_loss 0.00004,   Relative Error 0.00222\n"
     ]
    },
    {
     "name": "stderr",
     "output_type": "stream",
     "text": [
      " 80%|███████▉  | 1597/2000 [03:25<00:40, 10.06it/s]"
     ]
    },
    {
     "name": "stdout",
     "output_type": "stream",
     "text": [
      "Training_loss 0.00004,   Relative Error 0.00224\n",
      "Training_loss 0.00004,   Relative Error 0.00224\n",
      "Training_loss 0.00004,   Relative Error 0.00224\n"
     ]
    },
    {
     "name": "stderr",
     "output_type": "stream",
     "text": [
      " 80%|████████  | 1600/2000 [03:26<00:42,  9.41it/s]"
     ]
    },
    {
     "name": "stdout",
     "output_type": "stream",
     "text": [
      "Training_loss 0.00004,   Relative Error 0.00224\n",
      "Training_loss 0.00004,   Relative Error 0.00225\n"
     ]
    },
    {
     "name": "stderr",
     "output_type": "stream",
     "text": [
      " 80%|████████  | 1602/2000 [03:26<00:47,  8.38it/s]"
     ]
    },
    {
     "name": "stdout",
     "output_type": "stream",
     "text": [
      "Training_loss 0.00004,   Relative Error 0.00225\n",
      "Training_loss 0.00004,   Relative Error 0.00225\n"
     ]
    },
    {
     "name": "stderr",
     "output_type": "stream",
     "text": [
      " 80%|████████  | 1604/2000 [03:26<00:46,  8.50it/s]"
     ]
    },
    {
     "name": "stdout",
     "output_type": "stream",
     "text": [
      "Training_loss 0.00004,   Relative Error 0.00224\n",
      "Training_loss 0.00004,   Relative Error 0.00225\n",
      "Training_loss 0.00004,   Relative Error 0.00224\n"
     ]
    },
    {
     "name": "stderr",
     "output_type": "stream",
     "text": [
      " 80%|████████  | 1607/2000 [03:26<00:43,  9.01it/s]"
     ]
    },
    {
     "name": "stdout",
     "output_type": "stream",
     "text": [
      "Training_loss 0.00004,   Relative Error 0.00224\n",
      "Training_loss 0.00004,   Relative Error 0.00225\n"
     ]
    },
    {
     "name": "stderr",
     "output_type": "stream",
     "text": [
      " 80%|████████  | 1609/2000 [03:27<00:48,  8.04it/s]"
     ]
    },
    {
     "name": "stdout",
     "output_type": "stream",
     "text": [
      "Training_loss 0.00004,   Relative Error 0.00225\n",
      "Training_loss 0.00004,   Relative Error 0.00226\n"
     ]
    },
    {
     "name": "stderr",
     "output_type": "stream",
     "text": [
      " 81%|████████  | 1612/2000 [03:27<00:41,  9.41it/s]"
     ]
    },
    {
     "name": "stdout",
     "output_type": "stream",
     "text": [
      "Training_loss 0.00004,   Relative Error 0.00225\n",
      "Training_loss 0.00004,   Relative Error 0.00227\n",
      "Training_loss 0.00004,   Relative Error 0.00226\n"
     ]
    },
    {
     "name": "stderr",
     "output_type": "stream",
     "text": [
      "\r",
      " 81%|████████  | 1614/2000 [03:27<00:39,  9.69it/s]"
     ]
    },
    {
     "name": "stdout",
     "output_type": "stream",
     "text": [
      "Training_loss 0.00004,   Relative Error 0.00227\n",
      "Training_loss 0.00004,   Relative Error 0.00229\n",
      "Training_loss 0.00004,   Relative Error 0.00231\n"
     ]
    },
    {
     "name": "stderr",
     "output_type": "stream",
     "text": [
      " 81%|████████  | 1618/2000 [03:28<00:37, 10.29it/s]"
     ]
    },
    {
     "name": "stdout",
     "output_type": "stream",
     "text": [
      "Training_loss 0.00004,   Relative Error 0.00230\n",
      "Training_loss 0.00004,   Relative Error 0.00230\n",
      "Training_loss 0.00004,   Relative Error 0.00231\n"
     ]
    },
    {
     "name": "stderr",
     "output_type": "stream",
     "text": [
      "\r",
      " 81%|████████  | 1620/2000 [03:28<00:36, 10.49it/s]"
     ]
    },
    {
     "name": "stdout",
     "output_type": "stream",
     "text": [
      "Training_loss 0.00004,   Relative Error 0.00231\n",
      "Training_loss 0.00004,   Relative Error 0.00231\n",
      "Training_loss 0.00004,   Relative Error 0.00233\n"
     ]
    },
    {
     "name": "stderr",
     "output_type": "stream",
     "text": [
      " 81%|████████  | 1624/2000 [03:28<00:36, 10.43it/s]"
     ]
    },
    {
     "name": "stdout",
     "output_type": "stream",
     "text": [
      "Training_loss 0.00004,   Relative Error 0.00234\n",
      "Training_loss 0.00004,   Relative Error 0.00235\n",
      "Training_loss 0.00004,   Relative Error 0.00235\n"
     ]
    },
    {
     "name": "stderr",
     "output_type": "stream",
     "text": [
      "\r",
      " 81%|████████▏ | 1626/2000 [03:28<00:36, 10.16it/s]"
     ]
    },
    {
     "name": "stdout",
     "output_type": "stream",
     "text": [
      "Training_loss 0.00004,   Relative Error 0.00234\n",
      "Training_loss 0.00004,   Relative Error 0.00235\n"
     ]
    },
    {
     "name": "stderr",
     "output_type": "stream",
     "text": [
      "\r",
      " 81%|████████▏ | 1628/2000 [03:29<00:38,  9.73it/s]"
     ]
    },
    {
     "name": "stdout",
     "output_type": "stream",
     "text": [
      "Training_loss 0.00004,   Relative Error 0.00235\n",
      "Training_loss 0.00004,   Relative Error 0.00236\n"
     ]
    },
    {
     "name": "stderr",
     "output_type": "stream",
     "text": [
      " 82%|████████▏ | 1631/2000 [03:29<00:37,  9.86it/s]"
     ]
    },
    {
     "name": "stdout",
     "output_type": "stream",
     "text": [
      "Training_loss 0.00004,   Relative Error 0.00237\n",
      "Training_loss 0.00004,   Relative Error 0.00235\n",
      "Training_loss 0.00004,   Relative Error 0.00235\n"
     ]
    },
    {
     "name": "stderr",
     "output_type": "stream",
     "text": [
      " 82%|████████▏ | 1633/2000 [03:29<00:43,  8.48it/s]"
     ]
    },
    {
     "name": "stdout",
     "output_type": "stream",
     "text": [
      "Training_loss 0.00004,   Relative Error 0.00234\n",
      "Training_loss 0.00004,   Relative Error 0.00231\n"
     ]
    },
    {
     "name": "stderr",
     "output_type": "stream",
     "text": [
      " 82%|████████▏ | 1636/2000 [03:29<00:40,  9.09it/s]"
     ]
    },
    {
     "name": "stdout",
     "output_type": "stream",
     "text": [
      "Training_loss 0.00004,   Relative Error 0.00231\n",
      "Training_loss 0.00004,   Relative Error 0.00232\n",
      "Training_loss 0.00004,   Relative Error 0.00233\n"
     ]
    },
    {
     "name": "stderr",
     "output_type": "stream",
     "text": [
      " 82%|████████▏ | 1638/2000 [03:30<00:42,  8.43it/s]"
     ]
    },
    {
     "name": "stdout",
     "output_type": "stream",
     "text": [
      "Training_loss 0.00004,   Relative Error 0.00233\n",
      "Training_loss 0.00004,   Relative Error 0.00233\n"
     ]
    },
    {
     "name": "stderr",
     "output_type": "stream",
     "text": [
      "\r",
      " 82%|████████▏ | 1640/2000 [03:30<00:38,  9.45it/s]"
     ]
    },
    {
     "name": "stdout",
     "output_type": "stream",
     "text": [
      "Training_loss 0.00004,   Relative Error 0.00234\n",
      "Training_loss 0.00004,   Relative Error 0.00234\n"
     ]
    },
    {
     "name": "stderr",
     "output_type": "stream",
     "text": [
      " 82%|████████▏ | 1642/2000 [03:30<00:43,  8.32it/s]"
     ]
    },
    {
     "name": "stdout",
     "output_type": "stream",
     "text": [
      "Training_loss 0.00004,   Relative Error 0.00233\n",
      "Training_loss 0.00004,   Relative Error 0.00231\n"
     ]
    },
    {
     "name": "stderr",
     "output_type": "stream",
     "text": [
      " 82%|████████▏ | 1644/2000 [03:30<00:39,  8.91it/s]"
     ]
    },
    {
     "name": "stdout",
     "output_type": "stream",
     "text": [
      "Training_loss 0.00004,   Relative Error 0.00229\n",
      "Training_loss 0.00004,   Relative Error 0.00230\n"
     ]
    },
    {
     "name": "stderr",
     "output_type": "stream",
     "text": [
      " 82%|████████▏ | 1646/2000 [03:31<00:41,  8.50it/s]"
     ]
    },
    {
     "name": "stdout",
     "output_type": "stream",
     "text": [
      "Training_loss 0.00004,   Relative Error 0.00229\n",
      "Training_loss 0.00004,   Relative Error 0.00229\n"
     ]
    },
    {
     "name": "stderr",
     "output_type": "stream",
     "text": [
      " 82%|████████▏ | 1648/2000 [03:31<00:43,  8.15it/s]"
     ]
    },
    {
     "name": "stdout",
     "output_type": "stream",
     "text": [
      "Training_loss 0.00004,   Relative Error 0.00228\n",
      "Training_loss 0.00004,   Relative Error 0.00228\n"
     ]
    },
    {
     "name": "stderr",
     "output_type": "stream",
     "text": [
      " 82%|████████▎ | 1650/2000 [03:31<00:43,  8.04it/s]"
     ]
    },
    {
     "name": "stdout",
     "output_type": "stream",
     "text": [
      "Training_loss 0.00004,   Relative Error 0.00227\n",
      "Training_loss 0.00004,   Relative Error 0.00228\n"
     ]
    },
    {
     "name": "stderr",
     "output_type": "stream",
     "text": [
      " 83%|████████▎ | 1652/2000 [03:31<00:41,  8.34it/s]"
     ]
    },
    {
     "name": "stdout",
     "output_type": "stream",
     "text": [
      "Training_loss 0.00004,   Relative Error 0.00228\n",
      "Training_loss 0.00004,   Relative Error 0.00225\n"
     ]
    },
    {
     "name": "stderr",
     "output_type": "stream",
     "text": [
      " 83%|████████▎ | 1654/2000 [03:32<00:42,  8.17it/s]"
     ]
    },
    {
     "name": "stdout",
     "output_type": "stream",
     "text": [
      "Training_loss 0.00004,   Relative Error 0.00226\n",
      "Training_loss 0.00004,   Relative Error 0.00227\n"
     ]
    },
    {
     "name": "stderr",
     "output_type": "stream",
     "text": [
      " 83%|████████▎ | 1656/2000 [03:32<00:55,  6.24it/s]"
     ]
    },
    {
     "name": "stdout",
     "output_type": "stream",
     "text": [
      "Training_loss 0.00004,   Relative Error 0.00228\n",
      "Training_loss 0.00004,   Relative Error 0.00229\n"
     ]
    },
    {
     "name": "stderr",
     "output_type": "stream",
     "text": [
      " 83%|████████▎ | 1658/2000 [03:32<00:47,  7.23it/s]"
     ]
    },
    {
     "name": "stdout",
     "output_type": "stream",
     "text": [
      "Training_loss 0.00004,   Relative Error 0.00230\n",
      "Training_loss 0.00004,   Relative Error 0.00230\n"
     ]
    },
    {
     "name": "stderr",
     "output_type": "stream",
     "text": [
      " 83%|████████▎ | 1660/2000 [03:33<00:42,  7.95it/s]"
     ]
    },
    {
     "name": "stdout",
     "output_type": "stream",
     "text": [
      "Training_loss 0.00004,   Relative Error 0.00229\n",
      "Training_loss 0.00004,   Relative Error 0.00228\n"
     ]
    },
    {
     "name": "stderr",
     "output_type": "stream",
     "text": [
      " 83%|████████▎ | 1662/2000 [03:33<00:41,  8.23it/s]"
     ]
    },
    {
     "name": "stdout",
     "output_type": "stream",
     "text": [
      "Training_loss 0.00004,   Relative Error 0.00228\n",
      "Training_loss 0.00004,   Relative Error 0.00227\n"
     ]
    },
    {
     "name": "stderr",
     "output_type": "stream",
     "text": [
      " 83%|████████▎ | 1664/2000 [03:33<00:39,  8.44it/s]"
     ]
    },
    {
     "name": "stdout",
     "output_type": "stream",
     "text": [
      "Training_loss 0.00004,   Relative Error 0.00227\n",
      "Training_loss 0.00004,   Relative Error 0.00228\n"
     ]
    },
    {
     "name": "stderr",
     "output_type": "stream",
     "text": [
      " 83%|████████▎ | 1666/2000 [03:33<00:38,  8.72it/s]"
     ]
    },
    {
     "name": "stdout",
     "output_type": "stream",
     "text": [
      "Training_loss 0.00004,   Relative Error 0.00229\n",
      "Training_loss 0.00004,   Relative Error 0.00227\n"
     ]
    },
    {
     "name": "stderr",
     "output_type": "stream",
     "text": [
      " 83%|████████▎ | 1668/2000 [03:33<00:37,  8.81it/s]"
     ]
    },
    {
     "name": "stdout",
     "output_type": "stream",
     "text": [
      "Training_loss 0.00004,   Relative Error 0.00227\n",
      "Training_loss 0.00004,   Relative Error 0.00228\n"
     ]
    },
    {
     "name": "stderr",
     "output_type": "stream",
     "text": [
      " 84%|████████▎ | 1670/2000 [03:34<00:40,  8.24it/s]"
     ]
    },
    {
     "name": "stdout",
     "output_type": "stream",
     "text": [
      "Training_loss 0.00004,   Relative Error 0.00229\n",
      "Training_loss 0.00004,   Relative Error 0.00230\n"
     ]
    },
    {
     "name": "stderr",
     "output_type": "stream",
     "text": [
      " 84%|████████▎ | 1672/2000 [03:34<00:42,  7.77it/s]"
     ]
    },
    {
     "name": "stdout",
     "output_type": "stream",
     "text": [
      "Training_loss 0.00004,   Relative Error 0.00230\n",
      "Training_loss 0.00004,   Relative Error 0.00231\n"
     ]
    },
    {
     "name": "stderr",
     "output_type": "stream",
     "text": [
      " 84%|████████▎ | 1674/2000 [03:34<00:41,  7.89it/s]"
     ]
    },
    {
     "name": "stdout",
     "output_type": "stream",
     "text": [
      "Training_loss 0.00004,   Relative Error 0.00232\n",
      "Training_loss 0.00004,   Relative Error 0.00232\n"
     ]
    },
    {
     "name": "stderr",
     "output_type": "stream",
     "text": [
      " 84%|████████▍ | 1676/2000 [03:34<00:39,  8.23it/s]"
     ]
    },
    {
     "name": "stdout",
     "output_type": "stream",
     "text": [
      "Training_loss 0.00004,   Relative Error 0.00232\n",
      "Training_loss 0.00004,   Relative Error 0.00232\n"
     ]
    },
    {
     "name": "stderr",
     "output_type": "stream",
     "text": [
      " 84%|████████▍ | 1678/2000 [03:35<00:37,  8.57it/s]"
     ]
    },
    {
     "name": "stdout",
     "output_type": "stream",
     "text": [
      "Training_loss 0.00004,   Relative Error 0.00233\n",
      "Training_loss 0.00004,   Relative Error 0.00232\n"
     ]
    },
    {
     "name": "stderr",
     "output_type": "stream",
     "text": [
      " 84%|████████▍ | 1680/2000 [03:35<00:35,  8.98it/s]"
     ]
    },
    {
     "name": "stdout",
     "output_type": "stream",
     "text": [
      "Training_loss 0.00004,   Relative Error 0.00232\n",
      "Training_loss 0.00004,   Relative Error 0.00234\n"
     ]
    },
    {
     "name": "stderr",
     "output_type": "stream",
     "text": [
      " 84%|████████▍ | 1682/2000 [03:35<00:37,  8.42it/s]"
     ]
    },
    {
     "name": "stdout",
     "output_type": "stream",
     "text": [
      "Training_loss 0.00004,   Relative Error 0.00236\n",
      "Training_loss 0.00004,   Relative Error 0.00237\n"
     ]
    },
    {
     "name": "stderr",
     "output_type": "stream",
     "text": [
      " 84%|████████▍ | 1685/2000 [03:35<00:32,  9.70it/s]"
     ]
    },
    {
     "name": "stdout",
     "output_type": "stream",
     "text": [
      "Training_loss 0.00004,   Relative Error 0.00238\n",
      "Training_loss 0.00004,   Relative Error 0.00236\n",
      "Training_loss 0.00004,   Relative Error 0.00238\n"
     ]
    },
    {
     "name": "stderr",
     "output_type": "stream",
     "text": [
      " 84%|████████▍ | 1687/2000 [03:36<00:40,  7.64it/s]"
     ]
    },
    {
     "name": "stdout",
     "output_type": "stream",
     "text": [
      "Training_loss 0.00004,   Relative Error 0.00238\n",
      "Training_loss 0.00004,   Relative Error 0.00240\n"
     ]
    },
    {
     "name": "stderr",
     "output_type": "stream",
     "text": [
      "\r",
      " 84%|████████▍ | 1689/2000 [03:36<00:35,  8.77it/s]"
     ]
    },
    {
     "name": "stdout",
     "output_type": "stream",
     "text": [
      "Training_loss 0.00004,   Relative Error 0.00238\n",
      "Training_loss 0.00004,   Relative Error 0.00235\n",
      "Training_loss 0.00004,   Relative Error 0.00236\n"
     ]
    },
    {
     "name": "stderr",
     "output_type": "stream",
     "text": [
      " 85%|████████▍ | 1692/2000 [03:36<00:33,  9.06it/s]"
     ]
    },
    {
     "name": "stdout",
     "output_type": "stream",
     "text": [
      "Training_loss 0.00004,   Relative Error 0.00236\n",
      "Training_loss 0.00004,   Relative Error 0.00236\n"
     ]
    },
    {
     "name": "stderr",
     "output_type": "stream",
     "text": [
      " 85%|████████▍ | 1695/2000 [03:37<00:32,  9.53it/s]"
     ]
    },
    {
     "name": "stdout",
     "output_type": "stream",
     "text": [
      "Training_loss 0.00004,   Relative Error 0.00234\n",
      "Training_loss 0.00004,   Relative Error 0.00234\n",
      "Training_loss 0.00004,   Relative Error 0.00232\n"
     ]
    },
    {
     "name": "stderr",
     "output_type": "stream",
     "text": [
      "\r",
      " 85%|████████▍ | 1697/2000 [03:37<00:30,  9.85it/s]"
     ]
    },
    {
     "name": "stdout",
     "output_type": "stream",
     "text": [
      "Training_loss 0.00004,   Relative Error 0.00233\n",
      "Training_loss 0.00004,   Relative Error 0.00234\n",
      "Training_loss 0.00004,   Relative Error 0.00232\n"
     ]
    },
    {
     "name": "stderr",
     "output_type": "stream",
     "text": [
      " 85%|████████▌ | 1701/2000 [03:37<00:28, 10.35it/s]"
     ]
    },
    {
     "name": "stdout",
     "output_type": "stream",
     "text": [
      "Training_loss 0.00004,   Relative Error 0.00231\n",
      "Training_loss 0.00004,   Relative Error 0.00231\n",
      "Training_loss 0.00004,   Relative Error 0.00232\n"
     ]
    },
    {
     "name": "stderr",
     "output_type": "stream",
     "text": [
      "\r",
      " 85%|████████▌ | 1703/2000 [03:37<00:29, 10.12it/s]"
     ]
    },
    {
     "name": "stdout",
     "output_type": "stream",
     "text": [
      "Training_loss 0.00004,   Relative Error 0.00232\n",
      "Training_loss 0.00004,   Relative Error 0.00233\n"
     ]
    },
    {
     "name": "stderr",
     "output_type": "stream",
     "text": [
      "\r",
      " 85%|████████▌ | 1705/2000 [03:37<00:29, 10.09it/s]"
     ]
    },
    {
     "name": "stdout",
     "output_type": "stream",
     "text": [
      "Training_loss 0.00004,   Relative Error 0.00234\n",
      "Training_loss 0.00004,   Relative Error 0.00233\n",
      "Training_loss 0.00004,   Relative Error 0.00233\n"
     ]
    },
    {
     "name": "stderr",
     "output_type": "stream",
     "text": [
      " 85%|████████▌ | 1709/2000 [03:38<00:30,  9.69it/s]"
     ]
    },
    {
     "name": "stdout",
     "output_type": "stream",
     "text": [
      "Training_loss 0.00004,   Relative Error 0.00233\n",
      "Training_loss 0.00004,   Relative Error 0.00231\n",
      "Training_loss 0.00004,   Relative Error 0.00230\n"
     ]
    },
    {
     "name": "stderr",
     "output_type": "stream",
     "text": [
      " 86%|████████▌ | 1711/2000 [03:38<00:30,  9.54it/s]"
     ]
    },
    {
     "name": "stdout",
     "output_type": "stream",
     "text": [
      "Training_loss 0.00004,   Relative Error 0.00230\n",
      "Training_loss 0.00004,   Relative Error 0.00230\n",
      "Training_loss 0.00004,   Relative Error 0.00229\n"
     ]
    },
    {
     "name": "stderr",
     "output_type": "stream",
     "text": [
      " 86%|████████▌ | 1714/2000 [03:38<00:30,  9.43it/s]"
     ]
    },
    {
     "name": "stdout",
     "output_type": "stream",
     "text": [
      "Training_loss 0.00004,   Relative Error 0.00229\n",
      "Training_loss 0.00004,   Relative Error 0.00228\n"
     ]
    },
    {
     "name": "stderr",
     "output_type": "stream",
     "text": [
      "\r",
      " 86%|████████▌ | 1716/2000 [03:39<00:30,  9.27it/s]"
     ]
    },
    {
     "name": "stdout",
     "output_type": "stream",
     "text": [
      "Training_loss 0.00004,   Relative Error 0.00228\n",
      "Training_loss 0.00004,   Relative Error 0.00228\n"
     ]
    },
    {
     "name": "stderr",
     "output_type": "stream",
     "text": [
      " 86%|████████▌ | 1718/2000 [03:39<00:33,  8.51it/s]"
     ]
    },
    {
     "name": "stdout",
     "output_type": "stream",
     "text": [
      "Training_loss 0.00004,   Relative Error 0.00229\n",
      "Training_loss 0.00004,   Relative Error 0.00227\n"
     ]
    },
    {
     "name": "stderr",
     "output_type": "stream",
     "text": [
      " 86%|████████▌ | 1721/2000 [03:39<00:30,  9.03it/s]"
     ]
    },
    {
     "name": "stdout",
     "output_type": "stream",
     "text": [
      "Training_loss 0.00004,   Relative Error 0.00227\n",
      "Training_loss 0.00004,   Relative Error 0.00226\n",
      "Training_loss 0.00004,   Relative Error 0.00227\n"
     ]
    },
    {
     "name": "stderr",
     "output_type": "stream",
     "text": [
      "\r",
      " 86%|████████▌ | 1723/2000 [03:39<00:31,  8.91it/s]"
     ]
    },
    {
     "name": "stdout",
     "output_type": "stream",
     "text": [
      "Training_loss 0.00004,   Relative Error 0.00228\n",
      "Training_loss 0.00004,   Relative Error 0.00228\n"
     ]
    },
    {
     "name": "stderr",
     "output_type": "stream",
     "text": [
      "\r",
      " 86%|████████▋ | 1725/2000 [03:40<00:29,  9.27it/s]"
     ]
    },
    {
     "name": "stdout",
     "output_type": "stream",
     "text": [
      "Training_loss 0.00004,   Relative Error 0.00226\n",
      "Training_loss 0.00004,   Relative Error 0.00227\n"
     ]
    },
    {
     "name": "stderr",
     "output_type": "stream",
     "text": [
      " 86%|████████▋ | 1727/2000 [03:40<00:33,  8.17it/s]"
     ]
    },
    {
     "name": "stdout",
     "output_type": "stream",
     "text": [
      "Training_loss 0.00004,   Relative Error 0.00228\n",
      "Training_loss 0.00004,   Relative Error 0.00228\n"
     ]
    },
    {
     "name": "stderr",
     "output_type": "stream",
     "text": [
      " 86%|████████▋ | 1730/2000 [03:40<00:29,  9.22it/s]"
     ]
    },
    {
     "name": "stdout",
     "output_type": "stream",
     "text": [
      "Training_loss 0.00004,   Relative Error 0.00227\n",
      "Training_loss 0.00004,   Relative Error 0.00226\n",
      "Training_loss 0.00004,   Relative Error 0.00227\n"
     ]
    },
    {
     "name": "stderr",
     "output_type": "stream",
     "text": [
      " 87%|████████▋ | 1733/2000 [03:41<00:27,  9.55it/s]"
     ]
    },
    {
     "name": "stdout",
     "output_type": "stream",
     "text": [
      "Training_loss 0.00004,   Relative Error 0.00229\n",
      "Training_loss 0.00004,   Relative Error 0.00228\n",
      "Training_loss 0.00004,   Relative Error 0.00228\n"
     ]
    },
    {
     "name": "stderr",
     "output_type": "stream",
     "text": [
      " 87%|████████▋ | 1735/2000 [03:41<00:28,  9.34it/s]"
     ]
    },
    {
     "name": "stdout",
     "output_type": "stream",
     "text": [
      "Training_loss 0.00004,   Relative Error 0.00229\n",
      "Training_loss 0.00004,   Relative Error 0.00229\n"
     ]
    },
    {
     "name": "stderr",
     "output_type": "stream",
     "text": [
      " 87%|████████▋ | 1737/2000 [03:41<00:28,  9.08it/s]"
     ]
    },
    {
     "name": "stdout",
     "output_type": "stream",
     "text": [
      "Training_loss 0.00004,   Relative Error 0.00230\n",
      "Training_loss 0.00004,   Relative Error 0.00229\n"
     ]
    },
    {
     "name": "stderr",
     "output_type": "stream",
     "text": [
      " 87%|████████▋ | 1740/2000 [03:41<00:27,  9.39it/s]"
     ]
    },
    {
     "name": "stdout",
     "output_type": "stream",
     "text": [
      "Training_loss 0.00004,   Relative Error 0.00227\n",
      "Training_loss 0.00004,   Relative Error 0.00227\n",
      "Training_loss 0.00004,   Relative Error 0.00228\n"
     ]
    },
    {
     "name": "stderr",
     "output_type": "stream",
     "text": [
      "\r",
      " 87%|████████▋ | 1742/2000 [03:42<00:26,  9.62it/s]"
     ]
    },
    {
     "name": "stdout",
     "output_type": "stream",
     "text": [
      "Training_loss 0.00004,   Relative Error 0.00226\n",
      "Training_loss 0.00004,   Relative Error 0.00226\n"
     ]
    },
    {
     "name": "stderr",
     "output_type": "stream",
     "text": [
      " 87%|████████▋ | 1744/2000 [03:42<00:27,  9.18it/s]"
     ]
    },
    {
     "name": "stdout",
     "output_type": "stream",
     "text": [
      "Training_loss 0.00004,   Relative Error 0.00224\n",
      "Training_loss 0.00004,   Relative Error 0.00224\n",
      "Training_loss 0.00004,   Relative Error 0.00224\n"
     ]
    },
    {
     "name": "stderr",
     "output_type": "stream",
     "text": [
      " 87%|████████▋ | 1747/2000 [03:42<00:30,  8.26it/s]"
     ]
    },
    {
     "name": "stdout",
     "output_type": "stream",
     "text": [
      "Training_loss 0.00004,   Relative Error 0.00222\n",
      "Training_loss 0.00003,   Relative Error 0.00218\n",
      "Training_loss 0.00003,   Relative Error 0.00218\n"
     ]
    },
    {
     "name": "stderr",
     "output_type": "stream",
     "text": [
      " 88%|████████▊ | 1750/2000 [03:42<00:27,  9.00it/s]"
     ]
    },
    {
     "name": "stdout",
     "output_type": "stream",
     "text": [
      "Training_loss 0.00003,   Relative Error 0.00219\n",
      "Training_loss 0.00003,   Relative Error 0.00219\n"
     ]
    },
    {
     "name": "stderr",
     "output_type": "stream",
     "text": [
      "\r",
      " 88%|████████▊ | 1752/2000 [03:43<00:26,  9.33it/s]"
     ]
    },
    {
     "name": "stdout",
     "output_type": "stream",
     "text": [
      "Training_loss 0.00003,   Relative Error 0.00219\n",
      "Training_loss 0.00003,   Relative Error 0.00220\n",
      "Training_loss 0.00003,   Relative Error 0.00221\n"
     ]
    },
    {
     "name": "stderr",
     "output_type": "stream",
     "text": [
      "\r",
      " 88%|████████▊ | 1754/2000 [03:43<00:25,  9.59it/s]"
     ]
    },
    {
     "name": "stdout",
     "output_type": "stream",
     "text": [
      "Training_loss 0.00003,   Relative Error 0.00220\n",
      "Training_loss 0.00003,   Relative Error 0.00219\n"
     ]
    },
    {
     "name": "stderr",
     "output_type": "stream",
     "text": [
      " 88%|████████▊ | 1758/2000 [03:43<00:24,  9.73it/s]"
     ]
    },
    {
     "name": "stdout",
     "output_type": "stream",
     "text": [
      "Training_loss 0.00003,   Relative Error 0.00218\n",
      "Training_loss 0.00003,   Relative Error 0.00219\n",
      "Training_loss 0.00003,   Relative Error 0.00218\n"
     ]
    },
    {
     "name": "stderr",
     "output_type": "stream",
     "text": [
      "\r",
      " 88%|████████▊ | 1760/2000 [03:43<00:23, 10.08it/s]"
     ]
    },
    {
     "name": "stdout",
     "output_type": "stream",
     "text": [
      "Training_loss 0.00003,   Relative Error 0.00219\n",
      "Training_loss 0.00003,   Relative Error 0.00219\n",
      "Training_loss 0.00003,   Relative Error 0.00220\n"
     ]
    },
    {
     "name": "stderr",
     "output_type": "stream",
     "text": [
      " 88%|████████▊ | 1764/2000 [03:44<00:23, 10.08it/s]"
     ]
    },
    {
     "name": "stdout",
     "output_type": "stream",
     "text": [
      "Training_loss 0.00003,   Relative Error 0.00220\n",
      "Training_loss 0.00003,   Relative Error 0.00220\n",
      "Training_loss 0.00004,   Relative Error 0.00222\n"
     ]
    },
    {
     "name": "stderr",
     "output_type": "stream",
     "text": [
      "\r",
      " 88%|████████▊ | 1766/2000 [03:44<00:23,  9.81it/s]"
     ]
    },
    {
     "name": "stdout",
     "output_type": "stream",
     "text": [
      "Training_loss 0.00004,   Relative Error 0.00222\n",
      "Training_loss 0.00004,   Relative Error 0.00223\n",
      "Training_loss 0.00004,   Relative Error 0.00224\n"
     ]
    },
    {
     "name": "stderr",
     "output_type": "stream",
     "text": [
      " 88%|████████▊ | 1769/2000 [03:44<00:23,  9.88it/s]"
     ]
    },
    {
     "name": "stdout",
     "output_type": "stream",
     "text": [
      "Training_loss 0.00004,   Relative Error 0.00224\n",
      "Training_loss 0.00004,   Relative Error 0.00225\n",
      "Training_loss 0.00004,   Relative Error 0.00224\n"
     ]
    },
    {
     "name": "stderr",
     "output_type": "stream",
     "text": [
      " 89%|████████▊ | 1772/2000 [03:45<00:25,  9.10it/s]"
     ]
    },
    {
     "name": "stdout",
     "output_type": "stream",
     "text": [
      "Training_loss 0.00004,   Relative Error 0.00223\n",
      "Training_loss 0.00004,   Relative Error 0.00222\n"
     ]
    },
    {
     "name": "stderr",
     "output_type": "stream",
     "text": [
      " 89%|████████▉ | 1775/2000 [03:45<00:23,  9.52it/s]"
     ]
    },
    {
     "name": "stdout",
     "output_type": "stream",
     "text": [
      "Training_loss 0.00004,   Relative Error 0.00223\n",
      "Training_loss 0.00004,   Relative Error 0.00224\n",
      "Training_loss 0.00004,   Relative Error 0.00225\n"
     ]
    },
    {
     "name": "stderr",
     "output_type": "stream",
     "text": [
      "\r",
      " 89%|████████▉ | 1777/2000 [03:45<00:23,  9.69it/s]"
     ]
    },
    {
     "name": "stdout",
     "output_type": "stream",
     "text": [
      "Training_loss 0.00004,   Relative Error 0.00226\n",
      "Training_loss 0.00004,   Relative Error 0.00225\n"
     ]
    },
    {
     "name": "stderr",
     "output_type": "stream",
     "text": [
      "\r",
      " 89%|████████▉ | 1779/2000 [03:45<00:21, 10.05it/s]"
     ]
    },
    {
     "name": "stdout",
     "output_type": "stream",
     "text": [
      "Training_loss 0.00004,   Relative Error 0.00225\n",
      "Training_loss 0.00004,   Relative Error 0.00226\n",
      "Training_loss 0.00004,   Relative Error 0.00226\n"
     ]
    },
    {
     "name": "stderr",
     "output_type": "stream",
     "text": [
      " 89%|████████▉ | 1783/2000 [03:46<00:21, 10.30it/s]"
     ]
    },
    {
     "name": "stdout",
     "output_type": "stream",
     "text": [
      "Training_loss 0.00004,   Relative Error 0.00226\n",
      "Training_loss 0.00004,   Relative Error 0.00224\n",
      "Training_loss 0.00004,   Relative Error 0.00225\n"
     ]
    },
    {
     "name": "stderr",
     "output_type": "stream",
     "text": [
      "\r",
      " 89%|████████▉ | 1785/2000 [03:46<00:20, 10.28it/s]"
     ]
    },
    {
     "name": "stdout",
     "output_type": "stream",
     "text": [
      "Training_loss 0.00004,   Relative Error 0.00226\n",
      "Training_loss 0.00004,   Relative Error 0.00226\n"
     ]
    },
    {
     "name": "stderr",
     "output_type": "stream",
     "text": [
      "\r",
      " 89%|████████▉ | 1787/2000 [03:46<00:21,  9.86it/s]"
     ]
    },
    {
     "name": "stdout",
     "output_type": "stream",
     "text": [
      "Training_loss 0.00004,   Relative Error 0.00226\n",
      "Training_loss 0.00004,   Relative Error 0.00224\n",
      "Training_loss 0.00004,   Relative Error 0.00224\n"
     ]
    },
    {
     "name": "stderr",
     "output_type": "stream",
     "text": [
      " 90%|████████▉ | 1791/2000 [03:47<00:20, 10.13it/s]"
     ]
    },
    {
     "name": "stdout",
     "output_type": "stream",
     "text": [
      "Training_loss 0.00004,   Relative Error 0.00224\n",
      "Training_loss 0.00004,   Relative Error 0.00222\n",
      "Training_loss 0.00004,   Relative Error 0.00223\n"
     ]
    },
    {
     "name": "stderr",
     "output_type": "stream",
     "text": [
      "\r",
      " 90%|████████▉ | 1793/2000 [03:47<00:19, 10.35it/s]"
     ]
    },
    {
     "name": "stdout",
     "output_type": "stream",
     "text": [
      "Training_loss 0.00004,   Relative Error 0.00223\n",
      "Training_loss 0.00004,   Relative Error 0.00222\n"
     ]
    },
    {
     "name": "stderr",
     "output_type": "stream",
     "text": [
      "\r",
      " 90%|████████▉ | 1795/2000 [03:47<00:20, 10.00it/s]"
     ]
    },
    {
     "name": "stdout",
     "output_type": "stream",
     "text": [
      "Training_loss 0.00004,   Relative Error 0.00221\n",
      "Training_loss 0.00004,   Relative Error 0.00223\n"
     ]
    },
    {
     "name": "stderr",
     "output_type": "stream",
     "text": [
      "\r",
      " 90%|████████▉ | 1797/2000 [03:47<00:22,  9.07it/s]"
     ]
    },
    {
     "name": "stdout",
     "output_type": "stream",
     "text": [
      "Training_loss 0.00004,   Relative Error 0.00224\n",
      "Training_loss 0.00004,   Relative Error 0.00225\n"
     ]
    },
    {
     "name": "stderr",
     "output_type": "stream",
     "text": [
      " 90%|████████▉ | 1799/2000 [03:48<00:22,  8.90it/s]"
     ]
    },
    {
     "name": "stdout",
     "output_type": "stream",
     "text": [
      "Training_loss 0.00004,   Relative Error 0.00224\n",
      "Training_loss 0.00004,   Relative Error 0.00223\n"
     ]
    },
    {
     "name": "stderr",
     "output_type": "stream",
     "text": [
      "\r",
      " 90%|█████████ | 1800/2000 [03:48<00:21,  9.09it/s]"
     ]
    },
    {
     "name": "stdout",
     "output_type": "stream",
     "text": [
      "Training_loss 0.00004,   Relative Error 0.00224\n",
      "Training_loss 0.00004,   Relative Error 0.00224\n"
     ]
    },
    {
     "name": "stderr",
     "output_type": "stream",
     "text": [
      " 90%|█████████ | 1803/2000 [03:48<00:20,  9.57it/s]"
     ]
    },
    {
     "name": "stdout",
     "output_type": "stream",
     "text": [
      "Training_loss 0.00004,   Relative Error 0.00226\n",
      "Training_loss 0.00004,   Relative Error 0.00225\n",
      "Training_loss 0.00004,   Relative Error 0.00225\n"
     ]
    },
    {
     "name": "stderr",
     "output_type": "stream",
     "text": [
      " 90%|█████████ | 1806/2000 [03:48<00:22,  8.56it/s]"
     ]
    },
    {
     "name": "stdout",
     "output_type": "stream",
     "text": [
      "Training_loss 0.00004,   Relative Error 0.00225\n",
      "Training_loss 0.00004,   Relative Error 0.00225\n"
     ]
    },
    {
     "name": "stderr",
     "output_type": "stream",
     "text": [
      "\r",
      " 90%|█████████ | 1808/2000 [03:48<00:20,  9.36it/s]"
     ]
    },
    {
     "name": "stdout",
     "output_type": "stream",
     "text": [
      "Training_loss 0.00004,   Relative Error 0.00225\n",
      "Training_loss 0.00004,   Relative Error 0.00225\n",
      "Training_loss 0.00004,   Relative Error 0.00224\n"
     ]
    },
    {
     "name": "stderr",
     "output_type": "stream",
     "text": [
      " 91%|█████████ | 1811/2000 [03:49<00:19,  9.56it/s]"
     ]
    },
    {
     "name": "stdout",
     "output_type": "stream",
     "text": [
      "Training_loss 0.00004,   Relative Error 0.00223\n",
      "Training_loss 0.00004,   Relative Error 0.00224\n",
      "Training_loss 0.00004,   Relative Error 0.00225\n"
     ]
    },
    {
     "name": "stderr",
     "output_type": "stream",
     "text": [
      " 91%|█████████ | 1814/2000 [03:49<00:20,  8.95it/s]"
     ]
    },
    {
     "name": "stdout",
     "output_type": "stream",
     "text": [
      "Training_loss 0.00004,   Relative Error 0.00224\n",
      "Training_loss 0.00004,   Relative Error 0.00224\n"
     ]
    },
    {
     "name": "stderr",
     "output_type": "stream",
     "text": [
      "\r",
      " 91%|█████████ | 1816/2000 [03:49<00:19,  9.59it/s]"
     ]
    },
    {
     "name": "stdout",
     "output_type": "stream",
     "text": [
      "Training_loss 0.00004,   Relative Error 0.00224\n",
      "Training_loss 0.00004,   Relative Error 0.00225\n"
     ]
    },
    {
     "name": "stderr",
     "output_type": "stream",
     "text": [
      " 91%|█████████ | 1818/2000 [03:50<00:19,  9.18it/s]"
     ]
    },
    {
     "name": "stdout",
     "output_type": "stream",
     "text": [
      "Training_loss 0.00004,   Relative Error 0.00228\n",
      "Training_loss 0.00004,   Relative Error 0.00228\n"
     ]
    },
    {
     "name": "stderr",
     "output_type": "stream",
     "text": [
      "\r",
      " 91%|█████████ | 1820/2000 [03:50<00:19,  9.12it/s]"
     ]
    },
    {
     "name": "stdout",
     "output_type": "stream",
     "text": [
      "Training_loss 0.00004,   Relative Error 0.00229\n",
      "Training_loss 0.00004,   Relative Error 0.00230\n"
     ]
    },
    {
     "name": "stderr",
     "output_type": "stream",
     "text": [
      " 91%|█████████ | 1822/2000 [03:50<00:21,  8.28it/s]"
     ]
    },
    {
     "name": "stdout",
     "output_type": "stream",
     "text": [
      "Training_loss 0.00004,   Relative Error 0.00230\n",
      "Training_loss 0.00004,   Relative Error 0.00231\n"
     ]
    },
    {
     "name": "stderr",
     "output_type": "stream",
     "text": [
      " 91%|█████████ | 1824/2000 [03:50<00:22,  7.95it/s]"
     ]
    },
    {
     "name": "stdout",
     "output_type": "stream",
     "text": [
      "Training_loss 0.00004,   Relative Error 0.00231\n",
      "Training_loss 0.00004,   Relative Error 0.00230\n"
     ]
    },
    {
     "name": "stderr",
     "output_type": "stream",
     "text": [
      " 91%|█████████▏| 1826/2000 [03:50<00:20,  8.61it/s]"
     ]
    },
    {
     "name": "stdout",
     "output_type": "stream",
     "text": [
      "Training_loss 0.00004,   Relative Error 0.00230\n",
      "Training_loss 0.00004,   Relative Error 0.00231\n"
     ]
    },
    {
     "name": "stderr",
     "output_type": "stream",
     "text": [
      " 91%|█████████▏| 1828/2000 [03:51<00:19,  8.79it/s]"
     ]
    },
    {
     "name": "stdout",
     "output_type": "stream",
     "text": [
      "Training_loss 0.00004,   Relative Error 0.00231\n",
      "Training_loss 0.00004,   Relative Error 0.00231\n"
     ]
    },
    {
     "name": "stderr",
     "output_type": "stream",
     "text": [
      " 92%|█████████▏| 1830/2000 [03:51<00:22,  7.44it/s]"
     ]
    },
    {
     "name": "stdout",
     "output_type": "stream",
     "text": [
      "Training_loss 0.00004,   Relative Error 0.00230\n",
      "Training_loss 0.00004,   Relative Error 0.00228\n"
     ]
    },
    {
     "name": "stderr",
     "output_type": "stream",
     "text": [
      " 92%|█████████▏| 1833/2000 [03:51<00:19,  8.77it/s]"
     ]
    },
    {
     "name": "stdout",
     "output_type": "stream",
     "text": [
      "Training_loss 0.00004,   Relative Error 0.00228\n",
      "Training_loss 0.00004,   Relative Error 0.00227\n",
      "Training_loss 0.00004,   Relative Error 0.00225\n"
     ]
    },
    {
     "name": "stderr",
     "output_type": "stream",
     "text": [
      "\r",
      " 92%|█████████▏| 1835/2000 [03:52<00:17,  9.34it/s]"
     ]
    },
    {
     "name": "stdout",
     "output_type": "stream",
     "text": [
      "Training_loss 0.00004,   Relative Error 0.00226\n",
      "Training_loss 0.00004,   Relative Error 0.00224\n",
      "Training_loss 0.00004,   Relative Error 0.00225\n"
     ]
    },
    {
     "name": "stderr",
     "output_type": "stream",
     "text": [
      " 92%|█████████▏| 1838/2000 [03:52<00:16,  9.91it/s]"
     ]
    },
    {
     "name": "stdout",
     "output_type": "stream",
     "text": [
      "Training_loss 0.00004,   Relative Error 0.00225\n",
      "Training_loss 0.00004,   Relative Error 0.00227\n",
      "Training_loss 0.00004,   Relative Error 0.00228\n"
     ]
    },
    {
     "name": "stderr",
     "output_type": "stream",
     "text": [
      " 92%|█████████▏| 1842/2000 [03:52<00:15, 10.26it/s]"
     ]
    },
    {
     "name": "stdout",
     "output_type": "stream",
     "text": [
      "Training_loss 0.00004,   Relative Error 0.00228\n",
      "Training_loss 0.00004,   Relative Error 0.00227\n",
      "Training_loss 0.00004,   Relative Error 0.00227\n"
     ]
    },
    {
     "name": "stderr",
     "output_type": "stream",
     "text": [
      "\r",
      " 92%|█████████▏| 1844/2000 [03:52<00:16,  9.18it/s]"
     ]
    },
    {
     "name": "stdout",
     "output_type": "stream",
     "text": [
      "Training_loss 0.00004,   Relative Error 0.00228\n",
      "Training_loss 0.00004,   Relative Error 0.00226\n"
     ]
    },
    {
     "name": "stderr",
     "output_type": "stream",
     "text": [
      " 92%|█████████▏| 1846/2000 [03:53<00:20,  7.69it/s]"
     ]
    },
    {
     "name": "stdout",
     "output_type": "stream",
     "text": [
      "Training_loss 0.00004,   Relative Error 0.00225\n",
      "Training_loss 0.00004,   Relative Error 0.00223\n"
     ]
    },
    {
     "name": "stderr",
     "output_type": "stream",
     "text": [
      " 92%|█████████▏| 1849/2000 [03:53<00:16,  8.89it/s]"
     ]
    },
    {
     "name": "stdout",
     "output_type": "stream",
     "text": [
      "Training_loss 0.00004,   Relative Error 0.00223\n",
      "Training_loss 0.00004,   Relative Error 0.00223\n",
      "Training_loss 0.00004,   Relative Error 0.00222\n"
     ]
    },
    {
     "name": "stderr",
     "output_type": "stream",
     "text": [
      "\r",
      " 93%|█████████▎| 1851/2000 [03:53<00:15,  9.59it/s]"
     ]
    },
    {
     "name": "stdout",
     "output_type": "stream",
     "text": [
      "Training_loss 0.00004,   Relative Error 0.00222\n",
      "Training_loss 0.00004,   Relative Error 0.00222\n",
      "Training_loss 0.00004,   Relative Error 0.00223\n"
     ]
    },
    {
     "name": "stderr",
     "output_type": "stream",
     "text": [
      " 93%|█████████▎| 1854/2000 [03:54<00:15,  9.51it/s]"
     ]
    },
    {
     "name": "stdout",
     "output_type": "stream",
     "text": [
      "Training_loss 0.00004,   Relative Error 0.00224\n",
      "Training_loss 0.00004,   Relative Error 0.00225\n"
     ]
    },
    {
     "name": "stderr",
     "output_type": "stream",
     "text": [
      "\r",
      " 93%|█████████▎| 1856/2000 [03:54<00:14,  9.94it/s]"
     ]
    },
    {
     "name": "stdout",
     "output_type": "stream",
     "text": [
      "Training_loss 0.00004,   Relative Error 0.00223\n",
      "Training_loss 0.00004,   Relative Error 0.00223\n",
      "Training_loss 0.00004,   Relative Error 0.00225\n"
     ]
    },
    {
     "name": "stderr",
     "output_type": "stream",
     "text": [
      " 93%|█████████▎| 1860/2000 [03:54<00:13, 10.26it/s]"
     ]
    },
    {
     "name": "stdout",
     "output_type": "stream",
     "text": [
      "Training_loss 0.00004,   Relative Error 0.00224\n",
      "Training_loss 0.00004,   Relative Error 0.00226\n",
      "Training_loss 0.00004,   Relative Error 0.00226\n"
     ]
    },
    {
     "name": "stderr",
     "output_type": "stream",
     "text": [
      "\r",
      " 93%|█████████▎| 1862/2000 [03:54<00:13,  9.99it/s]"
     ]
    },
    {
     "name": "stdout",
     "output_type": "stream",
     "text": [
      "Training_loss 0.00004,   Relative Error 0.00225\n",
      "Training_loss 0.00004,   Relative Error 0.00224\n"
     ]
    },
    {
     "name": "stderr",
     "output_type": "stream",
     "text": [
      " 93%|█████████▎| 1865/2000 [03:55<00:13,  9.94it/s]"
     ]
    },
    {
     "name": "stdout",
     "output_type": "stream",
     "text": [
      "Training_loss 0.00004,   Relative Error 0.00224\n",
      "Training_loss 0.00004,   Relative Error 0.00225\n",
      "Training_loss 0.00004,   Relative Error 0.00224\n"
     ]
    },
    {
     "name": "stderr",
     "output_type": "stream",
     "text": [
      " 93%|█████████▎| 1867/2000 [03:55<00:13,  9.66it/s]"
     ]
    },
    {
     "name": "stdout",
     "output_type": "stream",
     "text": [
      "Training_loss 0.00004,   Relative Error 0.00222\n",
      "Training_loss 0.00004,   Relative Error 0.00223\n",
      "Training_loss 0.00003,   Relative Error 0.00221\n"
     ]
    },
    {
     "name": "stderr",
     "output_type": "stream",
     "text": [
      " 94%|█████████▎| 1871/2000 [03:55<00:12, 10.12it/s]"
     ]
    },
    {
     "name": "stdout",
     "output_type": "stream",
     "text": [
      "Training_loss 0.00003,   Relative Error 0.00221\n",
      "Training_loss 0.00004,   Relative Error 0.00221\n",
      "Training_loss 0.00003,   Relative Error 0.00220\n"
     ]
    },
    {
     "name": "stderr",
     "output_type": "stream",
     "text": [
      "\r",
      " 94%|█████████▎| 1873/2000 [03:55<00:12, 10.10it/s]"
     ]
    },
    {
     "name": "stdout",
     "output_type": "stream",
     "text": [
      "Training_loss 0.00004,   Relative Error 0.00221\n",
      "Training_loss 0.00003,   Relative Error 0.00221\n",
      "Training_loss 0.00004,   Relative Error 0.00222\n"
     ]
    },
    {
     "name": "stderr",
     "output_type": "stream",
     "text": [
      " 94%|█████████▍| 1877/2000 [03:56<00:11, 10.31it/s]"
     ]
    },
    {
     "name": "stdout",
     "output_type": "stream",
     "text": [
      "Training_loss 0.00004,   Relative Error 0.00221\n",
      "Training_loss 0.00004,   Relative Error 0.00222\n",
      "Training_loss 0.00004,   Relative Error 0.00222\n"
     ]
    },
    {
     "name": "stderr",
     "output_type": "stream",
     "text": [
      "\r",
      " 94%|█████████▍| 1879/2000 [03:56<00:12,  9.47it/s]"
     ]
    },
    {
     "name": "stdout",
     "output_type": "stream",
     "text": [
      "Training_loss 0.00004,   Relative Error 0.00222\n",
      "Training_loss 0.00004,   Relative Error 0.00223\n",
      "Training_loss 0.00004,   Relative Error 0.00224\n"
     ]
    },
    {
     "name": "stderr",
     "output_type": "stream",
     "text": [
      " 94%|█████████▍| 1883/2000 [03:56<00:11, 10.23it/s]"
     ]
    },
    {
     "name": "stdout",
     "output_type": "stream",
     "text": [
      "Training_loss 0.00004,   Relative Error 0.00225\n",
      "Training_loss 0.00004,   Relative Error 0.00226\n",
      "Training_loss 0.00004,   Relative Error 0.00227\n"
     ]
    },
    {
     "name": "stderr",
     "output_type": "stream",
     "text": [
      "\r",
      " 94%|█████████▍| 1885/2000 [03:57<00:13,  8.39it/s]"
     ]
    },
    {
     "name": "stdout",
     "output_type": "stream",
     "text": [
      "Training_loss 0.00004,   Relative Error 0.00226\n",
      "Training_loss 0.00004,   Relative Error 0.00224\n"
     ]
    },
    {
     "name": "stderr",
     "output_type": "stream",
     "text": [
      " 94%|█████████▍| 1887/2000 [03:57<00:14,  7.72it/s]"
     ]
    },
    {
     "name": "stdout",
     "output_type": "stream",
     "text": [
      "Training_loss 0.00004,   Relative Error 0.00223\n",
      "Training_loss 0.00004,   Relative Error 0.00222\n"
     ]
    },
    {
     "name": "stderr",
     "output_type": "stream",
     "text": [
      " 94%|█████████▍| 1889/2000 [03:57<00:13,  8.03it/s]"
     ]
    },
    {
     "name": "stdout",
     "output_type": "stream",
     "text": [
      "Training_loss 0.00003,   Relative Error 0.00221\n",
      "Training_loss 0.00003,   Relative Error 0.00220\n"
     ]
    },
    {
     "name": "stderr",
     "output_type": "stream",
     "text": [
      "\r",
      " 95%|█████████▍| 1891/2000 [03:58<00:12,  8.71it/s]"
     ]
    },
    {
     "name": "stdout",
     "output_type": "stream",
     "text": [
      "Training_loss 0.00003,   Relative Error 0.00220\n",
      "Training_loss 0.00003,   Relative Error 0.00221\n"
     ]
    },
    {
     "name": "stderr",
     "output_type": "stream",
     "text": [
      " 95%|█████████▍| 1894/2000 [03:58<00:11,  9.31it/s]"
     ]
    },
    {
     "name": "stdout",
     "output_type": "stream",
     "text": [
      "Training_loss 0.00003,   Relative Error 0.00219\n",
      "Training_loss 0.00003,   Relative Error 0.00219\n",
      "Training_loss 0.00003,   Relative Error 0.00219\n"
     ]
    },
    {
     "name": "stderr",
     "output_type": "stream",
     "text": [
      "\r",
      " 95%|█████████▍| 1895/2000 [03:58<00:11,  9.41it/s]"
     ]
    },
    {
     "name": "stdout",
     "output_type": "stream",
     "text": [
      "Training_loss 0.00003,   Relative Error 0.00217\n",
      "Training_loss 0.00003,   Relative Error 0.00218\n"
     ]
    },
    {
     "name": "stderr",
     "output_type": "stream",
     "text": [
      " 95%|█████████▍| 1898/2000 [03:58<00:11,  9.11it/s]"
     ]
    },
    {
     "name": "stdout",
     "output_type": "stream",
     "text": [
      "Training_loss 0.00003,   Relative Error 0.00220\n",
      "Training_loss 0.00003,   Relative Error 0.00220\n"
     ]
    },
    {
     "name": "stderr",
     "output_type": "stream",
     "text": [
      "\r",
      " 95%|█████████▌| 1900/2000 [03:58<00:10,  9.45it/s]"
     ]
    },
    {
     "name": "stdout",
     "output_type": "stream",
     "text": [
      "Training_loss 0.00003,   Relative Error 0.00219\n",
      "Training_loss 0.00003,   Relative Error 0.00220\n"
     ]
    },
    {
     "name": "stderr",
     "output_type": "stream",
     "text": [
      " 95%|█████████▌| 1902/2000 [03:59<00:11,  8.46it/s]"
     ]
    },
    {
     "name": "stdout",
     "output_type": "stream",
     "text": [
      "Training_loss 0.00004,   Relative Error 0.00221\n",
      "Training_loss 0.00004,   Relative Error 0.00223\n"
     ]
    },
    {
     "name": "stderr",
     "output_type": "stream",
     "text": [
      " 95%|█████████▌| 1905/2000 [03:59<00:10,  9.36it/s]"
     ]
    },
    {
     "name": "stdout",
     "output_type": "stream",
     "text": [
      "Training_loss 0.00004,   Relative Error 0.00224\n",
      "Training_loss 0.00004,   Relative Error 0.00224\n",
      "Training_loss 0.00004,   Relative Error 0.00223\n"
     ]
    },
    {
     "name": "stderr",
     "output_type": "stream",
     "text": [
      "\r",
      " 95%|█████████▌| 1907/2000 [03:59<00:09,  9.89it/s]"
     ]
    },
    {
     "name": "stdout",
     "output_type": "stream",
     "text": [
      "Training_loss 0.00004,   Relative Error 0.00222\n",
      "Training_loss 0.00004,   Relative Error 0.00222\n",
      "Training_loss 0.00004,   Relative Error 0.00222\n"
     ]
    },
    {
     "name": "stderr",
     "output_type": "stream",
     "text": [
      " 96%|█████████▌| 1910/2000 [04:00<00:09,  9.63it/s]"
     ]
    },
    {
     "name": "stdout",
     "output_type": "stream",
     "text": [
      "Training_loss 0.00004,   Relative Error 0.00222\n",
      "Training_loss 0.00004,   Relative Error 0.00221\n",
      "Training_loss 0.00004,   Relative Error 0.00222\n"
     ]
    },
    {
     "name": "stderr",
     "output_type": "stream",
     "text": [
      " 96%|█████████▌| 1914/2000 [04:00<00:08, 10.44it/s]"
     ]
    },
    {
     "name": "stdout",
     "output_type": "stream",
     "text": [
      "Training_loss 0.00003,   Relative Error 0.00221\n",
      "Training_loss 0.00004,   Relative Error 0.00222\n",
      "Training_loss 0.00004,   Relative Error 0.00221\n"
     ]
    },
    {
     "name": "stderr",
     "output_type": "stream",
     "text": [
      "\r",
      " 96%|█████████▌| 1916/2000 [04:00<00:08, 10.21it/s]"
     ]
    },
    {
     "name": "stdout",
     "output_type": "stream",
     "text": [
      "Training_loss 0.00004,   Relative Error 0.00223\n",
      "Training_loss 0.00004,   Relative Error 0.00224\n"
     ]
    },
    {
     "name": "stderr",
     "output_type": "stream",
     "text": [
      "\r",
      " 96%|█████████▌| 1918/2000 [04:00<00:07, 10.41it/s]"
     ]
    },
    {
     "name": "stdout",
     "output_type": "stream",
     "text": [
      "Training_loss 0.00004,   Relative Error 0.00225\n",
      "Training_loss 0.00004,   Relative Error 0.00226\n",
      "Training_loss 0.00004,   Relative Error 0.00227\n"
     ]
    },
    {
     "name": "stderr",
     "output_type": "stream",
     "text": [
      "\r",
      " 96%|█████████▌| 1920/2000 [04:00<00:07, 10.07it/s]"
     ]
    },
    {
     "name": "stdout",
     "output_type": "stream",
     "text": [
      "Training_loss 0.00004,   Relative Error 0.00228\n",
      "Training_loss 0.00004,   Relative Error 0.00228\n"
     ]
    },
    {
     "name": "stderr",
     "output_type": "stream",
     "text": [
      " 96%|█████████▌| 1923/2000 [04:01<00:08,  9.18it/s]"
     ]
    },
    {
     "name": "stdout",
     "output_type": "stream",
     "text": [
      "Training_loss 0.00004,   Relative Error 0.00227\n",
      "Training_loss 0.00004,   Relative Error 0.00227\n"
     ]
    },
    {
     "name": "stderr",
     "output_type": "stream",
     "text": [
      " 96%|█████████▋| 1926/2000 [04:01<00:07,  9.89it/s]"
     ]
    },
    {
     "name": "stdout",
     "output_type": "stream",
     "text": [
      "Training_loss 0.00004,   Relative Error 0.00228\n",
      "Training_loss 0.00004,   Relative Error 0.00228\n",
      "Training_loss 0.00004,   Relative Error 0.00230\n"
     ]
    },
    {
     "name": "stderr",
     "output_type": "stream",
     "text": [
      "\r",
      " 96%|█████████▋| 1928/2000 [04:01<00:07, 10.22it/s]"
     ]
    },
    {
     "name": "stdout",
     "output_type": "stream",
     "text": [
      "Training_loss 0.00004,   Relative Error 0.00230\n",
      "Training_loss 0.00004,   Relative Error 0.00229\n"
     ]
    },
    {
     "name": "stderr",
     "output_type": "stream",
     "text": [
      " 97%|█████████▋| 1931/2000 [04:02<00:07,  9.48it/s]"
     ]
    },
    {
     "name": "stdout",
     "output_type": "stream",
     "text": [
      "Training_loss 0.00004,   Relative Error 0.00228\n",
      "Training_loss 0.00004,   Relative Error 0.00228\n",
      "Training_loss 0.00004,   Relative Error 0.00228\n"
     ]
    },
    {
     "name": "stderr",
     "output_type": "stream",
     "text": [
      "\r",
      " 97%|█████████▋| 1933/2000 [04:02<00:06,  9.93it/s]"
     ]
    },
    {
     "name": "stdout",
     "output_type": "stream",
     "text": [
      "Training_loss 0.00004,   Relative Error 0.00226\n",
      "Training_loss 0.00004,   Relative Error 0.00227\n",
      "Training_loss 0.00004,   Relative Error 0.00227\n"
     ]
    },
    {
     "name": "stderr",
     "output_type": "stream",
     "text": [
      "\r",
      " 97%|█████████▋| 1935/2000 [04:02<00:06, 10.22it/s]"
     ]
    },
    {
     "name": "stdout",
     "output_type": "stream",
     "text": [
      "Training_loss 0.00004,   Relative Error 0.00228\n",
      "Training_loss 0.00004,   Relative Error 0.00228\n"
     ]
    },
    {
     "name": "stderr",
     "output_type": "stream",
     "text": [
      "\r",
      " 97%|█████████▋| 1937/2000 [04:02<00:06, 10.15it/s]"
     ]
    },
    {
     "name": "stdout",
     "output_type": "stream",
     "text": [
      "Training_loss 0.00004,   Relative Error 0.00228\n",
      "Training_loss 0.00004,   Relative Error 0.00230\n"
     ]
    },
    {
     "name": "stderr",
     "output_type": "stream",
     "text": [
      "\r",
      " 97%|█████████▋| 1939/2000 [04:02<00:06, 10.10it/s]"
     ]
    },
    {
     "name": "stdout",
     "output_type": "stream",
     "text": [
      "Training_loss 0.00004,   Relative Error 0.00229\n",
      "Training_loss 0.00004,   Relative Error 0.00228\n"
     ]
    },
    {
     "name": "stderr",
     "output_type": "stream",
     "text": [
      " 97%|█████████▋| 1942/2000 [04:03<00:06,  8.56it/s]"
     ]
    },
    {
     "name": "stdout",
     "output_type": "stream",
     "text": [
      "Training_loss 0.00004,   Relative Error 0.00228\n",
      "Training_loss 0.00004,   Relative Error 0.00227\n"
     ]
    },
    {
     "name": "stderr",
     "output_type": "stream",
     "text": [
      " 97%|█████████▋| 1945/2000 [04:03<00:05,  9.50it/s]"
     ]
    },
    {
     "name": "stdout",
     "output_type": "stream",
     "text": [
      "Training_loss 0.00004,   Relative Error 0.00226\n",
      "Training_loss 0.00004,   Relative Error 0.00229\n",
      "Training_loss 0.00004,   Relative Error 0.00230\n"
     ]
    },
    {
     "name": "stderr",
     "output_type": "stream",
     "text": [
      " 97%|█████████▋| 1947/2000 [04:03<00:06,  8.80it/s]"
     ]
    },
    {
     "name": "stdout",
     "output_type": "stream",
     "text": [
      "Training_loss 0.00004,   Relative Error 0.00230\n",
      "Training_loss 0.00004,   Relative Error 0.00229\n",
      "Training_loss 0.00004,   Relative Error 0.00228\n"
     ]
    },
    {
     "name": "stderr",
     "output_type": "stream",
     "text": [
      " 98%|█████████▊| 1950/2000 [04:04<00:05,  9.11it/s]"
     ]
    },
    {
     "name": "stdout",
     "output_type": "stream",
     "text": [
      "Training_loss 0.00004,   Relative Error 0.00226\n",
      "Training_loss 0.00004,   Relative Error 0.00226\n"
     ]
    },
    {
     "name": "stderr",
     "output_type": "stream",
     "text": [
      "\r",
      " 98%|█████████▊| 1952/2000 [04:04<00:04,  9.72it/s]"
     ]
    },
    {
     "name": "stdout",
     "output_type": "stream",
     "text": [
      "Training_loss 0.00004,   Relative Error 0.00227\n",
      "Training_loss 0.00004,   Relative Error 0.00229\n",
      "Training_loss 0.00004,   Relative Error 0.00227\n"
     ]
    },
    {
     "name": "stderr",
     "output_type": "stream",
     "text": [
      " 98%|█████████▊| 1955/2000 [04:04<00:04,  9.04it/s]"
     ]
    },
    {
     "name": "stdout",
     "output_type": "stream",
     "text": [
      "Training_loss 0.00004,   Relative Error 0.00227\n",
      "Training_loss 0.00004,   Relative Error 0.00227\n"
     ]
    },
    {
     "name": "stderr",
     "output_type": "stream",
     "text": [
      " 98%|█████████▊| 1958/2000 [04:05<00:04,  9.43it/s]"
     ]
    },
    {
     "name": "stdout",
     "output_type": "stream",
     "text": [
      "Training_loss 0.00004,   Relative Error 0.00225\n",
      "Training_loss 0.00004,   Relative Error 0.00223\n",
      "Training_loss 0.00004,   Relative Error 0.00224\n"
     ]
    },
    {
     "name": "stderr",
     "output_type": "stream",
     "text": [
      " 98%|█████████▊| 1961/2000 [04:05<00:03,  9.95it/s]"
     ]
    },
    {
     "name": "stdout",
     "output_type": "stream",
     "text": [
      "Training_loss 0.00004,   Relative Error 0.00223\n",
      "Training_loss 0.00004,   Relative Error 0.00224\n",
      "Training_loss 0.00004,   Relative Error 0.00226\n"
     ]
    },
    {
     "name": "stderr",
     "output_type": "stream",
     "text": [
      " 98%|█████████▊| 1964/2000 [04:05<00:03,  9.55it/s]"
     ]
    },
    {
     "name": "stdout",
     "output_type": "stream",
     "text": [
      "Training_loss 0.00004,   Relative Error 0.00227\n",
      "Training_loss 0.00004,   Relative Error 0.00227\n",
      "Training_loss 0.00004,   Relative Error 0.00229\n"
     ]
    },
    {
     "name": "stderr",
     "output_type": "stream",
     "text": [
      " 98%|█████████▊| 1967/2000 [04:05<00:03,  9.89it/s]"
     ]
    },
    {
     "name": "stdout",
     "output_type": "stream",
     "text": [
      "Training_loss 0.00004,   Relative Error 0.00230\n",
      "Training_loss 0.00004,   Relative Error 0.00230\n",
      "Training_loss 0.00004,   Relative Error 0.00230\n"
     ]
    },
    {
     "name": "stderr",
     "output_type": "stream",
     "text": [
      " 98%|█████████▊| 1969/2000 [04:06<00:03,  8.87it/s]"
     ]
    },
    {
     "name": "stdout",
     "output_type": "stream",
     "text": [
      "Training_loss 0.00004,   Relative Error 0.00229\n",
      "Training_loss 0.00004,   Relative Error 0.00229\n"
     ]
    },
    {
     "name": "stderr",
     "output_type": "stream",
     "text": [
      " 99%|█████████▊| 1971/2000 [04:06<00:03,  8.40it/s]"
     ]
    },
    {
     "name": "stdout",
     "output_type": "stream",
     "text": [
      "Training_loss 0.00004,   Relative Error 0.00229\n",
      "Training_loss 0.00004,   Relative Error 0.00226\n"
     ]
    },
    {
     "name": "stderr",
     "output_type": "stream",
     "text": [
      " 99%|█████████▊| 1974/2000 [04:06<00:02,  8.83it/s]"
     ]
    },
    {
     "name": "stdout",
     "output_type": "stream",
     "text": [
      "Training_loss 0.00004,   Relative Error 0.00228\n",
      "Training_loss 0.00004,   Relative Error 0.00228\n",
      "Training_loss 0.00004,   Relative Error 0.00230\n"
     ]
    },
    {
     "name": "stderr",
     "output_type": "stream",
     "text": [
      " 99%|█████████▉| 1976/2000 [04:07<00:02,  9.11it/s]"
     ]
    },
    {
     "name": "stdout",
     "output_type": "stream",
     "text": [
      "Training_loss 0.00004,   Relative Error 0.00228\n",
      "Training_loss 0.00004,   Relative Error 0.00229\n"
     ]
    },
    {
     "name": "stderr",
     "output_type": "stream",
     "text": [
      " 99%|█████████▉| 1978/2000 [04:07<00:02,  8.68it/s]"
     ]
    },
    {
     "name": "stdout",
     "output_type": "stream",
     "text": [
      "Training_loss 0.00004,   Relative Error 0.00230\n",
      "Training_loss 0.00004,   Relative Error 0.00230\n"
     ]
    },
    {
     "name": "stderr",
     "output_type": "stream",
     "text": [
      " 99%|█████████▉| 1980/2000 [04:07<00:02,  7.89it/s]"
     ]
    },
    {
     "name": "stdout",
     "output_type": "stream",
     "text": [
      "Training_loss 0.00004,   Relative Error 0.00231\n",
      "Training_loss 0.00004,   Relative Error 0.00231\n"
     ]
    },
    {
     "name": "stderr",
     "output_type": "stream",
     "text": [
      " 99%|█████████▉| 1982/2000 [04:07<00:02,  8.24it/s]"
     ]
    },
    {
     "name": "stdout",
     "output_type": "stream",
     "text": [
      "Training_loss 0.00004,   Relative Error 0.00232\n",
      "Training_loss 0.00004,   Relative Error 0.00230\n"
     ]
    },
    {
     "name": "stderr",
     "output_type": "stream",
     "text": [
      " 99%|█████████▉| 1984/2000 [04:07<00:01,  8.07it/s]"
     ]
    },
    {
     "name": "stdout",
     "output_type": "stream",
     "text": [
      "Training_loss 0.00004,   Relative Error 0.00232\n",
      "Training_loss 0.00004,   Relative Error 0.00233\n"
     ]
    },
    {
     "name": "stderr",
     "output_type": "stream",
     "text": [
      " 99%|█████████▉| 1986/2000 [04:08<00:01,  7.92it/s]"
     ]
    },
    {
     "name": "stdout",
     "output_type": "stream",
     "text": [
      "Training_loss 0.00004,   Relative Error 0.00233\n",
      "Training_loss 0.00004,   Relative Error 0.00233\n"
     ]
    },
    {
     "name": "stderr",
     "output_type": "stream",
     "text": [
      " 99%|█████████▉| 1988/2000 [04:08<00:01,  8.72it/s]"
     ]
    },
    {
     "name": "stdout",
     "output_type": "stream",
     "text": [
      "Training_loss 0.00004,   Relative Error 0.00233\n",
      "Training_loss 0.00004,   Relative Error 0.00232\n"
     ]
    },
    {
     "name": "stderr",
     "output_type": "stream",
     "text": [
      "100%|█████████▉| 1991/2000 [04:08<00:00,  9.31it/s]"
     ]
    },
    {
     "name": "stdout",
     "output_type": "stream",
     "text": [
      "Training_loss 0.00004,   Relative Error 0.00231\n",
      "Training_loss 0.00004,   Relative Error 0.00231\n",
      "Training_loss 0.00004,   Relative Error 0.00232\n"
     ]
    },
    {
     "name": "stderr",
     "output_type": "stream",
     "text": [
      "100%|█████████▉| 1993/2000 [04:09<00:00,  9.01it/s]"
     ]
    },
    {
     "name": "stdout",
     "output_type": "stream",
     "text": [
      "Training_loss 0.00004,   Relative Error 0.00231\n",
      "Training_loss 0.00004,   Relative Error 0.00231\n",
      "Training_loss 0.00004,   Relative Error 0.00232\n"
     ]
    },
    {
     "name": "stderr",
     "output_type": "stream",
     "text": [
      "100%|█████████▉| 1997/2000 [04:09<00:00, 10.16it/s]"
     ]
    },
    {
     "name": "stdout",
     "output_type": "stream",
     "text": [
      "Training_loss 0.00004,   Relative Error 0.00231\n",
      "Training_loss 0.00004,   Relative Error 0.00229\n",
      "Training_loss 0.00004,   Relative Error 0.00230\n"
     ]
    },
    {
     "name": "stderr",
     "output_type": "stream",
     "text": [
      "100%|██████████| 2000/2000 [04:09<00:00, 10.10it/s]"
     ]
    },
    {
     "name": "stdout",
     "output_type": "stream",
     "text": [
      "Training_loss 0.00004,   Relative Error 0.00232\n",
      "Training_loss 0.00004,   Relative Error 0.00231\n",
      "Training_loss 0.00004,   Relative Error 0.00230\n"
     ]
    },
    {
     "name": "stderr",
     "output_type": "stream",
     "text": [
      "100%|██████████| 2000/2000 [04:09<00:00,  8.01it/s]\n"
     ]
    }
   ],
   "source": [
    "#global_model = CNN_Net().cuda()\n",
    "models = [MLP_Net(user_id=i) for i in range(no_users)]\n",
    "dummy_models = [MLP_Net(user_id=i) for i in range(no_users)]\n",
    "\n",
    "#model.load_state_dict(global_model.state_dict())\n",
    "\n",
    "criterion = nn.MSELoss()\n",
    "\n",
    "\n",
    "train_loss = []\n",
    "test_loss = []\n",
    "test_accuracy = []\n",
    "total_rel_error = []\n",
    "\n",
    "for curr_round in tqdm(range(1, it+1)):\n",
    "    w, local_loss = [], []\n",
    "\n",
    "    \n",
    "    for i in range(no_users):\n",
    "        dummy_models[i].load_state_dict(models[i].state_dict())\n",
    "        local_update = ClientUpdate(dataset=datapoints[i], batchSize=batch_size, alpha=alpha, lamda=lamda, epochs=1, projection_list=projection_list, projected_weights=projected_weights)\n",
    "        weights, loss = local_update.train(dummy_models[i])\n",
    "        w.append(weights)\n",
    "        local_loss.append(loss)\n",
    "        models[i].load_state_dict(w[i])\n",
    "        \n",
    "    \n",
    "    \n",
    "    # Update prjection matrix\n",
    "    \n",
    "    #print(projection_list[0], projected_weights[0])\n",
    "    \n",
    "    for i in range(no_users):\n",
    "        weights = parameters_to_vector(models[i].parameters())\n",
    "        for j in G.neighbors(i):\n",
    "            mat_vec_sum = torch.zeros(d0)\n",
    "            for k in G.neighbors(i):\n",
    "                mat_vec_sum = torch.add(mat_vec_sum, torch.matmul(projection_list[i][k], parameters_to_vector(models[i].parameters())) - torch.matmul(projection_list[k][i], parameters_to_vector(models[k].parameters())))\n",
    "            temp_mat = torch.outer(mat_vec_sum, weights).clone()\n",
    "\n",
    "\n",
    "            projection_list[i][j] = torch.add(projection_list[i][j], -1 * eta * lamda * temp_mat)\n",
    "                                         \n",
    "    projected_weights = []                                          \n",
    "    update_ProjWeight(projection_list, projected_weights, first_run=False)\n",
    "        \n",
    "        \n",
    "        \n",
    "    \n",
    "    \n",
    "\n",
    "\n",
    "\n",
    "\n",
    "          \n",
    "            \n",
    "\n",
    "    local_test_acc = []\n",
    "    local_test_loss = []\n",
    "    user_rel_error = 0\n",
    "    for k in range(no_users):\n",
    "      \n",
    "        g_loss = testing(models[i], datapoints[i], 50, criterion)\n",
    "        local_test_loss.append(g_loss)\n",
    "        user_rel_error += rel_error(models[i])\n",
    "    \n",
    "    \n",
    "        \n",
    "\n",
    "    g_loss = sum(local_test_loss) / len(local_test_loss)\n",
    "    total_rel_error.append(user_rel_error / no_users)\n",
    "    \n",
    "    \n",
    "\n",
    "    test_loss.append(g_loss)\n",
    "    #test_accuracy.append(g_accuracy)\n",
    "    print(\"Training_loss %2.5f,   Relative Error %2.5f\"% (test_loss[-1], total_rel_error[-1]))"
   ]
  },
  {
   "cell_type": "code",
   "execution_count": 21,
   "id": "2ff0ff71",
   "metadata": {},
   "outputs": [
    {
     "data": {
      "text/plain": [
       "tensor([-2.0049,  2.0042], grad_fn=<CatBackward0>)"
      ]
     },
     "execution_count": 21,
     "metadata": {},
     "output_type": "execute_result"
    }
   ],
   "source": [
    "#plot.plot(test_loss)\n",
    "parameters_to_vector(models[19].parameters())"
   ]
  },
  {
   "cell_type": "code",
   "execution_count": 22,
   "id": "194e9ea4",
   "metadata": {},
   "outputs": [
    {
     "name": "stdout",
     "output_type": "stream",
     "text": [
      "2\n",
      "3\n",
      "5\n",
      "6\n",
      "8\n",
      "9\n"
     ]
    }
   ],
   "source": [
    "for j in G.neighbors(0):\n",
    "    print(j)"
   ]
  },
  {
   "cell_type": "code",
   "execution_count": 23,
   "id": "bbcca8ca",
   "metadata": {},
   "outputs": [
    {
     "data": {
      "text/plain": [
       "tensor([2.0010, 2.0011], grad_fn=<CatBackward0>)"
      ]
     },
     "execution_count": 23,
     "metadata": {},
     "output_type": "execute_result"
    }
   ],
   "source": [
    "parameters_to_vector(models[0].parameters())"
   ]
  },
  {
   "cell_type": "code",
   "execution_count": 24,
   "id": "bf702d86",
   "metadata": {},
   "outputs": [
    {
     "data": {
      "text/plain": [
       "[0,\n",
       " 0,\n",
       " tensor([[0.5709, 0.1028],\n",
       "         [0.0927, 0.5597]], grad_fn=<AddBackward0>),\n",
       " tensor([[0.1916, 0.1028],\n",
       "         [0.0927, 0.1805]], grad_fn=<AddBackward0>),\n",
       " 0,\n",
       " tensor([[2.2814, 0.1028],\n",
       "         [0.0927, 2.2703]], grad_fn=<AddBackward0>),\n",
       " tensor([[0.2779, 0.1027],\n",
       "         [0.0927, 0.2668]], grad_fn=<AddBackward0>),\n",
       " 0,\n",
       " tensor([[1.3536, 0.1027],\n",
       "         [0.0927, 1.3425]], grad_fn=<AddBackward0>),\n",
       " tensor([[-0.1000,  0.1027],\n",
       "         [ 0.0927, -0.1111]], grad_fn=<AddBackward0>),\n",
       " 0,\n",
       " 0,\n",
       " 0,\n",
       " 0,\n",
       " 0,\n",
       " 0,\n",
       " 0,\n",
       " 0,\n",
       " 0,\n",
       " 0]"
      ]
     },
     "execution_count": 24,
     "metadata": {},
     "output_type": "execute_result"
    }
   ],
   "source": [
    "projection_list[0]"
   ]
  },
  {
   "cell_type": "code",
   "execution_count": 25,
   "id": "a73e6699",
   "metadata": {},
   "outputs": [
    {
     "data": {
      "text/plain": [
       "[0,\n",
       " 0,\n",
       " tensor([1.3479, 1.3056]),\n",
       " tensor([0.5891, 0.5467]),\n",
       " 0,\n",
       " tensor([4.7708, 4.7287]),\n",
       " tensor([0.7618, 0.7194]),\n",
       " 0,\n",
       " tensor([2.9142, 2.8720]),\n",
       " tensor([ 0.0054, -0.0370]),\n",
       " 0,\n",
       " 0,\n",
       " 0,\n",
       " 0,\n",
       " 0,\n",
       " 0,\n",
       " 0,\n",
       " 0,\n",
       " 0,\n",
       " 0]"
      ]
     },
     "execution_count": 25,
     "metadata": {},
     "output_type": "execute_result"
    }
   ],
   "source": [
    "projected_weights[0]"
   ]
  },
  {
   "cell_type": "code",
   "execution_count": 26,
   "id": "2561d143",
   "metadata": {},
   "outputs": [],
   "source": [
    "test_loss = np.array(test_loss)\n",
    "total_rel_error = np.array(total_rel_error)"
   ]
  },
  {
   "cell_type": "code",
   "execution_count": 27,
   "id": "c36b1bc2",
   "metadata": {},
   "outputs": [
    {
     "name": "stdout",
     "output_type": "stream",
     "text": [
      "[9.17848790e+00 8.85918307e+00 8.47640347e+00 ... 3.83748611e-05\n",
      " 3.82949083e-05 3.79398261e-05]\n"
     ]
    }
   ],
   "source": [
    "print(test_loss)"
   ]
  },
  {
   "cell_type": "code",
   "execution_count": 28,
   "id": "d61db64c",
   "metadata": {},
   "outputs": [],
   "source": [
    "np.save( 'training_loss_sheave_fml' + str(eta).replace('.', '_')+ '_pout' + str(pout).replace('.', '_'), test_loss)\n",
    "np.save('relative_error_sheave_fml' + str(eta).replace('.', '_')+ '_pout' + str(pout).replace('.', '_'), total_rel_error)"
   ]
  },
  {
   "cell_type": "code",
   "execution_count": 31,
   "id": "725be3f4",
   "metadata": {},
   "outputs": [
    {
     "data": {
      "text/plain": [
       "'training_loss_sheave_fml0_01_pout0_01'"
      ]
     },
     "execution_count": 31,
     "metadata": {},
     "output_type": "execute_result"
    }
   ],
   "source": [
    "'training_loss_sheave_fml' + str(eta).replace('.', '_')+ '_pout' + str(pout).replace('.', '_')"
   ]
  },
  {
   "cell_type": "code",
   "execution_count": 32,
   "id": "b1bb8533",
   "metadata": {},
   "outputs": [
    {
     "data": {
      "text/plain": [
       "'relative_error_sheave_fml0_01_pout0_01'"
      ]
     },
     "execution_count": 32,
     "metadata": {},
     "output_type": "execute_result"
    }
   ],
   "source": [
    "'relative_error_sheave_fml' + str(eta).replace('.', '_')+ '_pout' + str(pout).replace('.', '_')"
   ]
  },
  {
   "cell_type": "code",
   "execution_count": null,
   "id": "8de6635c",
   "metadata": {},
   "outputs": [],
   "source": []
  }
 ],
 "metadata": {
  "kernelspec": {
   "display_name": "Python 3",
   "language": "python",
   "name": "python3"
  },
  "language_info": {
   "codemirror_mode": {
    "name": "ipython",
    "version": 3
   },
   "file_extension": ".py",
   "mimetype": "text/x-python",
   "name": "python",
   "nbconvert_exporter": "python",
   "pygments_lexer": "ipython3",
   "version": "3.8.8"
  }
 },
 "nbformat": 4,
 "nbformat_minor": 5
}
