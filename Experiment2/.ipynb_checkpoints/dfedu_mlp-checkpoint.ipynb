{
 "cells": [
  {
   "cell_type": "code",
   "execution_count": 1,
   "id": "74d5d395",
   "metadata": {},
   "outputs": [],
   "source": [
    "import torch\n",
    "import torch.nn as nn\n",
    "import torch.nn.functional as F\n",
    "import torch.optim as optim\n",
    "from torchvision import datasets, transforms\n",
    "from torch.utils.data import DataLoader, Dataset\n",
    "import copy\n",
    "import numpy as np\n",
    "import matplotlib.pyplot as plt\n",
    "from tqdm import tqdm\n",
    "import networkx as nx\n",
    "from torch.nn.utils import parameters_to_vector, vector_to_parameters"
   ]
  },
  {
   "cell_type": "code",
   "execution_count": 2,
   "id": "7617ffd7",
   "metadata": {},
   "outputs": [],
   "source": [
    "# Graph implementation\n",
    "def generate_graph(cluster_sizes=[100,100], pin=0.5, pout=0.01, seed=0):\n",
    "    \"\"\"Generate a random connected graph\"\"\"\n",
    "    probs = np.array([[pin, pout],[pout, pin]])\n",
    "    while True:\n",
    "        g = nx.stochastic_block_model(cluster_sizes, probs)\n",
    "        if nx.algorithms.components.is_connected(g):\n",
    "            return g\n",
    "\n",
    "\n",
    "cluster_sizes = [10, 10]\n",
    "pin = 0.5\n",
    "pout = 0.01\n",
    "seed = 0\n",
    "alpha = 1e-3\n",
    "lamda = 1e-3\n",
    "eta = 1e-1\n",
    "mu = 1e-2\n",
    "no_users = sum(cluster_sizes)\n",
    "batch_size = 20\n",
    "epochs = 1\n",
    "it = 2000\n",
    "G = generate_graph(cluster_sizes, pin, pout, seed)\n",
    "\n",
    "#nx.draw(G, with_labels=True, node_size=100, alpha=1, linewidths=10)\n",
    "#plt.show()"
   ]
  },
  {
   "cell_type": "code",
   "execution_count": 3,
   "id": "809e7c6f",
   "metadata": {},
   "outputs": [
    {
     "name": "stdout",
     "output_type": "stream",
     "text": [
      "[[0.         0.14285714 0.         0.         0.         0.14285714\n",
      "  0.16666667 0.11111111 0.         0.         0.         0.\n",
      "  0.         0.         0.         0.         0.         0.\n",
      "  0.         0.14285714]\n",
      " [0.14285714 0.         0.14285714 0.14285714 0.14285714 0.14285714\n",
      "  0.         0.         0.         0.         0.         0.\n",
      "  0.         0.         0.         0.         0.         0.\n",
      "  0.         0.14285714]\n",
      " [0.         0.14285714 0.         0.         0.         0.\n",
      "  0.         0.11111111 0.2        0.         0.         0.\n",
      "  0.         0.         0.         0.         0.         0.\n",
      "  0.         0.14285714]\n",
      " [0.         0.14285714 0.         0.         0.16666667 0.14285714\n",
      "  0.16666667 0.11111111 0.         0.         0.         0.\n",
      "  0.         0.         0.         0.         0.         0.\n",
      "  0.         0.        ]\n",
      " [0.         0.14285714 0.         0.16666667 0.         0.14285714\n",
      "  0.         0.11111111 0.         0.         0.         0.\n",
      "  0.         0.         0.         0.         0.         0.\n",
      "  0.         0.14285714]\n",
      " [0.14285714 0.14285714 0.         0.14285714 0.14285714 0.\n",
      "  0.         0.11111111 0.14285714 0.         0.         0.\n",
      "  0.         0.         0.         0.         0.         0.\n",
      "  0.         0.        ]\n",
      " [0.16666667 0.         0.         0.16666667 0.         0.\n",
      "  0.         0.11111111 0.         0.         0.         0.\n",
      "  0.         0.         0.         0.         0.         0.\n",
      "  0.         0.14285714]\n",
      " [0.11111111 0.         0.11111111 0.11111111 0.11111111 0.11111111\n",
      "  0.11111111 0.         0.         0.         0.         0.\n",
      "  0.         0.         0.11111111 0.         0.         0.\n",
      "  0.         0.11111111]\n",
      " [0.         0.         0.2        0.         0.         0.14285714\n",
      "  0.         0.         0.         0.         0.         0.\n",
      "  0.         0.11111111 0.         0.         0.         0.\n",
      "  0.         0.        ]\n",
      " [0.         0.         0.         0.         0.         0.\n",
      "  0.         0.         0.         0.         0.14285714 0.\n",
      "  0.11111111 0.         0.14285714 0.         0.16666667 0.14285714\n",
      "  0.         0.        ]\n",
      " [0.         0.         0.         0.         0.         0.\n",
      "  0.         0.         0.         0.14285714 0.         0.14285714\n",
      "  0.11111111 0.         0.         0.125      0.         0.14285714\n",
      "  0.14285714 0.        ]\n",
      " [0.         0.         0.         0.         0.         0.\n",
      "  0.         0.         0.         0.         0.14285714 0.\n",
      "  0.11111111 0.11111111 0.         0.125      0.16666667 0.\n",
      "  0.         0.        ]\n",
      " [0.         0.         0.         0.         0.         0.\n",
      "  0.         0.         0.         0.11111111 0.11111111 0.11111111\n",
      "  0.         0.11111111 0.11111111 0.         0.11111111 0.11111111\n",
      "  0.11111111 0.        ]\n",
      " [0.         0.         0.         0.         0.         0.\n",
      "  0.         0.         0.11111111 0.         0.         0.11111111\n",
      "  0.11111111 0.         0.11111111 0.11111111 0.11111111 0.11111111\n",
      "  0.11111111 0.        ]\n",
      " [0.         0.         0.         0.         0.         0.\n",
      "  0.         0.11111111 0.         0.14285714 0.         0.\n",
      "  0.11111111 0.11111111 0.         0.125      0.         0.\n",
      "  0.14285714 0.        ]\n",
      " [0.         0.         0.         0.         0.         0.\n",
      "  0.         0.         0.         0.         0.125      0.125\n",
      "  0.         0.11111111 0.125      0.         0.125      0.125\n",
      "  0.125      0.        ]\n",
      " [0.         0.         0.         0.         0.         0.\n",
      "  0.         0.         0.         0.16666667 0.         0.16666667\n",
      "  0.11111111 0.11111111 0.         0.125      0.         0.\n",
      "  0.         0.        ]\n",
      " [0.         0.         0.         0.         0.         0.\n",
      "  0.         0.         0.         0.14285714 0.14285714 0.\n",
      "  0.11111111 0.11111111 0.         0.125      0.         0.\n",
      "  0.14285714 0.        ]\n",
      " [0.         0.         0.         0.         0.         0.\n",
      "  0.         0.         0.         0.         0.14285714 0.\n",
      "  0.11111111 0.11111111 0.14285714 0.125      0.         0.14285714\n",
      "  0.         0.        ]\n",
      " [0.14285714 0.14285714 0.14285714 0.         0.14285714 0.\n",
      "  0.14285714 0.11111111 0.         0.         0.         0.\n",
      "  0.         0.         0.         0.         0.         0.\n",
      "  0.         0.        ]]\n",
      "[[0.29365079 0.14285714 0.         0.         0.         0.14285714\n",
      "  0.16666667 0.11111111 0.         0.         0.         0.\n",
      "  0.         0.         0.         0.         0.         0.\n",
      "  0.         0.14285714]\n",
      " [0.14285714 0.14285714 0.14285714 0.14285714 0.14285714 0.14285714\n",
      "  0.         0.         0.         0.         0.         0.\n",
      "  0.         0.         0.         0.         0.         0.\n",
      "  0.         0.14285714]\n",
      " [0.         0.14285714 0.4031746  0.         0.         0.\n",
      "  0.         0.11111111 0.2        0.         0.         0.\n",
      "  0.         0.         0.         0.         0.         0.\n",
      "  0.         0.14285714]\n",
      " [0.         0.14285714 0.         0.26984127 0.16666667 0.14285714\n",
      "  0.16666667 0.11111111 0.         0.         0.         0.\n",
      "  0.         0.         0.         0.         0.         0.\n",
      "  0.         0.        ]\n",
      " [0.         0.14285714 0.         0.16666667 0.29365079 0.14285714\n",
      "  0.         0.11111111 0.         0.         0.         0.\n",
      "  0.         0.         0.         0.         0.         0.\n",
      "  0.         0.14285714]\n",
      " [0.14285714 0.14285714 0.         0.14285714 0.14285714 0.17460317\n",
      "  0.         0.11111111 0.14285714 0.         0.         0.\n",
      "  0.         0.         0.         0.         0.         0.\n",
      "  0.         0.        ]\n",
      " [0.16666667 0.         0.         0.16666667 0.         0.\n",
      "  0.41269841 0.11111111 0.         0.         0.         0.\n",
      "  0.         0.         0.         0.         0.         0.\n",
      "  0.         0.14285714]\n",
      " [0.11111111 0.         0.11111111 0.11111111 0.11111111 0.11111111\n",
      "  0.11111111 0.11111111 0.         0.         0.         0.\n",
      "  0.         0.         0.11111111 0.         0.         0.\n",
      "  0.         0.11111111]\n",
      " [0.         0.         0.2        0.         0.         0.14285714\n",
      "  0.         0.         0.54603175 0.         0.         0.\n",
      "  0.         0.11111111 0.         0.         0.         0.\n",
      "  0.         0.        ]\n",
      " [0.         0.         0.         0.         0.         0.\n",
      "  0.         0.         0.         0.29365079 0.14285714 0.\n",
      "  0.11111111 0.         0.14285714 0.         0.16666667 0.14285714\n",
      "  0.         0.        ]\n",
      " [0.         0.         0.         0.         0.         0.\n",
      "  0.         0.         0.         0.14285714 0.19246032 0.14285714\n",
      "  0.11111111 0.         0.         0.125      0.         0.14285714\n",
      "  0.14285714 0.        ]\n",
      " [0.         0.         0.         0.         0.         0.\n",
      "  0.         0.         0.         0.         0.14285714 0.34325397\n",
      "  0.11111111 0.11111111 0.         0.125      0.16666667 0.\n",
      "  0.         0.        ]\n",
      " [0.         0.         0.         0.         0.         0.\n",
      "  0.         0.         0.         0.11111111 0.11111111 0.11111111\n",
      "  0.11111111 0.11111111 0.11111111 0.         0.11111111 0.11111111\n",
      "  0.11111111 0.        ]\n",
      " [0.         0.         0.         0.         0.         0.\n",
      "  0.         0.         0.11111111 0.         0.         0.11111111\n",
      "  0.11111111 0.11111111 0.11111111 0.11111111 0.11111111 0.11111111\n",
      "  0.11111111 0.        ]\n",
      " [0.         0.         0.         0.         0.         0.\n",
      "  0.         0.11111111 0.         0.14285714 0.         0.\n",
      "  0.11111111 0.11111111 0.25595238 0.125      0.         0.\n",
      "  0.14285714 0.        ]\n",
      " [0.         0.         0.         0.         0.         0.\n",
      "  0.         0.         0.         0.         0.125      0.125\n",
      "  0.         0.11111111 0.125      0.13888889 0.125      0.125\n",
      "  0.125      0.        ]\n",
      " [0.         0.         0.         0.         0.         0.\n",
      "  0.         0.         0.         0.16666667 0.         0.16666667\n",
      "  0.11111111 0.11111111 0.         0.125      0.31944444 0.\n",
      "  0.         0.        ]\n",
      " [0.         0.         0.         0.         0.         0.\n",
      "  0.         0.         0.         0.14285714 0.14285714 0.\n",
      "  0.11111111 0.11111111 0.         0.125      0.         0.22420635\n",
      "  0.14285714 0.        ]\n",
      " [0.         0.         0.         0.         0.         0.\n",
      "  0.         0.         0.         0.         0.14285714 0.\n",
      "  0.11111111 0.11111111 0.14285714 0.125      0.         0.14285714\n",
      "  0.22420635 0.        ]\n",
      " [0.14285714 0.14285714 0.14285714 0.         0.14285714 0.\n",
      "  0.14285714 0.11111111 0.         0.         0.         0.\n",
      "  0.         0.         0.         0.         0.         0.\n",
      "  0.         0.17460317]]\n"
     ]
    }
   ],
   "source": [
    "# Metropolis weights \n",
    "number_nodes = G.number_of_nodes()\n",
    "weights = np.zeros([number_nodes, number_nodes])\n",
    "for edge in G.edges():\n",
    "  i, j = edge[0], edge[1]\n",
    "  weights[i - 1][j - 1] = 1 / (1 + np.max([G.degree(i), G.degree(j)]))\n",
    "  weights[j - 1][i - 1] = weights[i - 1][j - 1]\n",
    "\n",
    "print(weights)\n",
    "\n",
    "weights = weights + np.diag(1 - np.sum(weights, axis=0))\n",
    "\n",
    "metropolis_weights = weights\n",
    "print(metropolis_weights)\n"
   ]
  },
  {
   "cell_type": "code",
   "execution_count": 4,
   "id": "26f67564",
   "metadata": {},
   "outputs": [],
   "source": [
    "def degrees(A):\n",
    "    \"\"\"Return the degrees of each node of a graph from its adjacency matrix\"\"\"\n",
    "    return np.sum(A, axis=0).reshape(A.shape[0], 1)\n",
    "\n",
    "def node_degree(n, G):\n",
    "    cnt = 0\n",
    "    for i in G.neighbors(n):\n",
    "        cnt += 1\n",
    "    return cnt\n",
    "\n",
    "def get_neighbors(n, G):\n",
    "    neighbors_list = []\n",
    "    for i in G.neighbors(n):\n",
    "        neighbors_list.append(int(i))\n",
    "    return neighbors_list"
   ]
  },
  {
   "cell_type": "code",
   "execution_count": 5,
   "id": "4861cc66",
   "metadata": {},
   "outputs": [
    {
     "name": "stdout",
     "output_type": "stream",
     "text": [
      "[6, 5, 6, 4, 5, 5, 6, 4, 8, 3, 5, 6, 5, 8, 8, 6, 7, 5, 6, 6]\n",
      "1\n",
      "2\n",
      "3\n",
      "5\n",
      "7\n",
      "8\n"
     ]
    }
   ],
   "source": [
    "degree_list = [G.degree(i) for i in range(no_users)]\n",
    "print(degree_list)\n",
    "\n",
    "for i in G.neighbors(0):\n",
    "    print(i)"
   ]
  },
  {
   "cell_type": "code",
   "execution_count": 6,
   "id": "dbc31eff",
   "metadata": {},
   "outputs": [],
   "source": [
    "datapoints = {}\n",
    "count = 0\n",
    "W1 = np.array([2.0, 2.0])\n",
    "W2 = np.array([-2.0, 2.0])\n",
    "W = [W1, W2]\n",
    "m = 200\n",
    "n = 2\n",
    "noise_sd = 0.001\n",
    "for i, cluster_size in enumerate(cluster_sizes):\n",
    "    for j in range(cluster_size):\n",
    "        features = np.random.normal(loc=0.0, scale=1.0, size=(m, n))\n",
    "        label = np.dot(features, W[i]) + np.random.normal(0,noise_sd)\n",
    "        datapoints[count] = {\n",
    "                'features': features,\n",
    "                'degree': node_degree(count, G),\n",
    "                'label': label,\n",
    "                'neighbors': get_neighbors(count, G),\n",
    "                'exact_weights': torch.from_numpy(W[i])\n",
    "            }\n",
    "        count += 1"
   ]
  },
  {
   "cell_type": "code",
   "execution_count": 7,
   "id": "3c2530b1",
   "metadata": {},
   "outputs": [],
   "source": [
    "class MyDataset(Dataset):\n",
    "    def __init__(self, data, targets, transform=None):\n",
    "        self.data = torch.FloatTensor(data)\n",
    "        self.targets = torch.FloatTensor(targets).unsqueeze(-1)\n",
    "        \n",
    "    def __getitem__(self, index):\n",
    "        x = self.data[index]\n",
    "        y = self.targets[index]\n",
    "\n",
    "        return x, y\n",
    "    \n",
    "    def __len__(self):\n",
    "        return len(self.data)\n"
   ]
  },
  {
   "cell_type": "code",
   "execution_count": 8,
   "id": "1d84bf7c",
   "metadata": {},
   "outputs": [],
   "source": [
    "class MLP_Net(nn.Module):\n",
    "    def __init__(self, user_id):\n",
    "        super(MLP_Net, self).__init__()\n",
    "        self.fc1 = nn.Linear(2, 1, bias=False)\n",
    "        #self.fc2 = nn.Linear(4, 1, bias=False)\n",
    "        #self.fc3 = nn.Linear(200, 10)\n",
    "        self.user_id = user_id\n",
    "\n",
    "    def forward(self, x):\n",
    "        x = torch.flatten(x, 1)\n",
    "        #x = F.relu(self.fc1(x))\n",
    "        output = self.fc1(x)\n",
    "        #output = self.fc3(x)\n",
    "        return output"
   ]
  },
  {
   "cell_type": "code",
   "execution_count": 9,
   "id": "f93f4bbc",
   "metadata": {},
   "outputs": [],
   "source": [
    "from typing import Iterable, Optional\n",
    "\n",
    "def grads_to_vector(parameters: Iterable[torch.Tensor]) -> torch.Tensor:\n",
    "    r\"\"\"Convert parameters to one vector\n",
    "\n",
    "    Args:\n",
    "        parameters (Iterable[Tensor]): an iterator of Tensors that are the\n",
    "            parameters of a model.\n",
    "\n",
    "    Returns:\n",
    "        The parameters represented by a single vector\n",
    "    \"\"\"\n",
    "    # Flag for the device where the parameter is located\n",
    "    param_device = None\n",
    "\n",
    "    vec = []\n",
    "    for param in parameters:\n",
    "        # Ensure the parameters are located in the same device\n",
    "        param_device = param.grad\n",
    "\n",
    "        vec.append(param_device.view(-1))\n",
    "    return torch.cat(vec)"
   ]
  },
  {
   "cell_type": "code",
   "execution_count": 10,
   "id": "9cd3a679",
   "metadata": {},
   "outputs": [
    {
     "name": "stdout",
     "output_type": "stream",
     "text": [
      "torch.Size([50, 1])\n",
      "torch.Size([50, 1])\n",
      "0 tensor(10.0685, grad_fn=<MseLossBackward0>) tensor([ 3.1405, -5.3175]) tensor([ 0.1461, -0.5195], grad_fn=<CatBackward0>)\n",
      "torch.Size([50, 1])\n",
      "torch.Size([50, 1])\n",
      "0 tensor(13.4709, grad_fn=<MseLossBackward0>) tensor([ 6.0385, -5.5496]) tensor([ 0.1461, -0.5195], grad_fn=<CatBackward0>)\n",
      "torch.Size([50, 1])\n",
      "torch.Size([50, 1])\n",
      "0 tensor(10.1405, grad_fn=<MseLossBackward0>) tensor([ 3.5729, -5.0062]) tensor([ 0.1461, -0.5195], grad_fn=<CatBackward0>)\n",
      "torch.Size([50, 1])\n",
      "torch.Size([50, 1])\n",
      "0 tensor(8.9303, grad_fn=<MseLossBackward0>) tensor([ 3.3576, -4.2290]) tensor([ 0.1461, -0.5195], grad_fn=<CatBackward0>)\n",
      "torch.Size([50, 1])\n",
      "torch.Size([50, 1])\n",
      "1 tensor(10.0685, grad_fn=<MseLossBackward0>) tensor([ 3.1405, -5.3175]) tensor([ 0.1461, -0.5195], grad_fn=<CatBackward0>)\n",
      "torch.Size([50, 1])\n",
      "torch.Size([50, 1])\n",
      "1 tensor(13.4709, grad_fn=<MseLossBackward0>) tensor([ 6.0385, -5.5496]) tensor([ 0.1461, -0.5195], grad_fn=<CatBackward0>)\n",
      "torch.Size([50, 1])\n",
      "torch.Size([50, 1])\n",
      "1 tensor(10.1405, grad_fn=<MseLossBackward0>) tensor([ 3.5729, -5.0062]) tensor([ 0.1461, -0.5195], grad_fn=<CatBackward0>)\n",
      "torch.Size([50, 1])\n",
      "torch.Size([50, 1])\n",
      "1 tensor(8.9303, grad_fn=<MseLossBackward0>) tensor([ 3.3576, -4.2290]) tensor([ 0.1461, -0.5195], grad_fn=<CatBackward0>)\n",
      "torch.Size([50, 1])\n",
      "torch.Size([50, 1])\n",
      "2 tensor(10.0685, grad_fn=<MseLossBackward0>) tensor([ 3.1405, -5.3175]) tensor([ 0.1461, -0.5195], grad_fn=<CatBackward0>)\n",
      "torch.Size([50, 1])\n",
      "torch.Size([50, 1])\n",
      "2 tensor(13.4709, grad_fn=<MseLossBackward0>) tensor([ 6.0385, -5.5496]) tensor([ 0.1461, -0.5195], grad_fn=<CatBackward0>)\n",
      "torch.Size([50, 1])\n",
      "torch.Size([50, 1])\n",
      "2 tensor(10.1405, grad_fn=<MseLossBackward0>) tensor([ 3.5729, -5.0062]) tensor([ 0.1461, -0.5195], grad_fn=<CatBackward0>)\n",
      "torch.Size([50, 1])\n",
      "torch.Size([50, 1])\n",
      "2 tensor(8.9303, grad_fn=<MseLossBackward0>) tensor([ 3.3576, -4.2290]) tensor([ 0.1461, -0.5195], grad_fn=<CatBackward0>)\n",
      "torch.Size([50, 1])\n",
      "torch.Size([50, 1])\n",
      "3 tensor(10.0685, grad_fn=<MseLossBackward0>) tensor([ 3.1405, -5.3175]) tensor([ 0.1461, -0.5195], grad_fn=<CatBackward0>)\n",
      "torch.Size([50, 1])\n",
      "torch.Size([50, 1])\n",
      "3 tensor(13.4709, grad_fn=<MseLossBackward0>) tensor([ 6.0385, -5.5496]) tensor([ 0.1461, -0.5195], grad_fn=<CatBackward0>)\n",
      "torch.Size([50, 1])\n",
      "torch.Size([50, 1])\n",
      "3 tensor(10.1405, grad_fn=<MseLossBackward0>) tensor([ 3.5729, -5.0062]) tensor([ 0.1461, -0.5195], grad_fn=<CatBackward0>)\n",
      "torch.Size([50, 1])\n",
      "torch.Size([50, 1])\n",
      "3 tensor(8.9303, grad_fn=<MseLossBackward0>) tensor([ 3.3576, -4.2290]) tensor([ 0.1461, -0.5195], grad_fn=<CatBackward0>)\n",
      "torch.Size([50, 1])\n",
      "torch.Size([50, 1])\n",
      "4 tensor(10.0685, grad_fn=<MseLossBackward0>) tensor([ 3.1405, -5.3175]) tensor([ 0.1461, -0.5195], grad_fn=<CatBackward0>)\n",
      "torch.Size([50, 1])\n",
      "torch.Size([50, 1])\n",
      "4 tensor(13.4709, grad_fn=<MseLossBackward0>) tensor([ 6.0385, -5.5496]) tensor([ 0.1461, -0.5195], grad_fn=<CatBackward0>)\n",
      "torch.Size([50, 1])\n",
      "torch.Size([50, 1])\n",
      "4 tensor(10.1405, grad_fn=<MseLossBackward0>) tensor([ 3.5729, -5.0062]) tensor([ 0.1461, -0.5195], grad_fn=<CatBackward0>)\n",
      "torch.Size([50, 1])\n",
      "torch.Size([50, 1])\n",
      "4 tensor(8.9303, grad_fn=<MseLossBackward0>) tensor([ 3.3576, -4.2290]) tensor([ 0.1461, -0.5195], grad_fn=<CatBackward0>)\n",
      "torch.Size([50, 1])\n",
      "torch.Size([50, 1])\n",
      "5 tensor(10.0685, grad_fn=<MseLossBackward0>) tensor([ 3.1405, -5.3175]) tensor([ 0.1461, -0.5195], grad_fn=<CatBackward0>)\n",
      "torch.Size([50, 1])\n",
      "torch.Size([50, 1])\n",
      "5 tensor(13.4709, grad_fn=<MseLossBackward0>) tensor([ 6.0385, -5.5496]) tensor([ 0.1461, -0.5195], grad_fn=<CatBackward0>)\n",
      "torch.Size([50, 1])\n",
      "torch.Size([50, 1])\n",
      "5 tensor(10.1405, grad_fn=<MseLossBackward0>) tensor([ 3.5729, -5.0062]) tensor([ 0.1461, -0.5195], grad_fn=<CatBackward0>)\n",
      "torch.Size([50, 1])\n",
      "torch.Size([50, 1])\n",
      "5 tensor(8.9303, grad_fn=<MseLossBackward0>) tensor([ 3.3576, -4.2290]) tensor([ 0.1461, -0.5195], grad_fn=<CatBackward0>)\n",
      "torch.Size([50, 1])\n",
      "torch.Size([50, 1])\n",
      "6 tensor(10.0685, grad_fn=<MseLossBackward0>) tensor([ 3.1405, -5.3175]) tensor([ 0.1461, -0.5195], grad_fn=<CatBackward0>)\n",
      "torch.Size([50, 1])\n",
      "torch.Size([50, 1])\n",
      "6 tensor(13.4709, grad_fn=<MseLossBackward0>) tensor([ 6.0385, -5.5496]) tensor([ 0.1461, -0.5195], grad_fn=<CatBackward0>)\n",
      "torch.Size([50, 1])\n",
      "torch.Size([50, 1])\n",
      "6 tensor(10.1405, grad_fn=<MseLossBackward0>) tensor([ 3.5729, -5.0062]) tensor([ 0.1461, -0.5195], grad_fn=<CatBackward0>)\n",
      "torch.Size([50, 1])\n",
      "torch.Size([50, 1])\n",
      "6 tensor(8.9303, grad_fn=<MseLossBackward0>) tensor([ 3.3576, -4.2290]) tensor([ 0.1461, -0.5195], grad_fn=<CatBackward0>)\n",
      "torch.Size([50, 1])\n",
      "torch.Size([50, 1])\n",
      "7 tensor(10.0685, grad_fn=<MseLossBackward0>) tensor([ 3.1405, -5.3175]) tensor([ 0.1461, -0.5195], grad_fn=<CatBackward0>)\n",
      "torch.Size([50, 1])\n",
      "torch.Size([50, 1])\n",
      "7 tensor(13.4709, grad_fn=<MseLossBackward0>) tensor([ 6.0385, -5.5496]) tensor([ 0.1461, -0.5195], grad_fn=<CatBackward0>)\n",
      "torch.Size([50, 1])\n",
      "torch.Size([50, 1])\n",
      "7 tensor(10.1405, grad_fn=<MseLossBackward0>) tensor([ 3.5729, -5.0062]) tensor([ 0.1461, -0.5195], grad_fn=<CatBackward0>)\n",
      "torch.Size([50, 1])\n",
      "torch.Size([50, 1])\n",
      "7 tensor(8.9303, grad_fn=<MseLossBackward0>) tensor([ 3.3576, -4.2290]) tensor([ 0.1461, -0.5195], grad_fn=<CatBackward0>)\n",
      "torch.Size([50, 1])\n",
      "torch.Size([50, 1])\n",
      "8 tensor(10.0685, grad_fn=<MseLossBackward0>) tensor([ 3.1405, -5.3175]) tensor([ 0.1461, -0.5195], grad_fn=<CatBackward0>)\n",
      "torch.Size([50, 1])\n",
      "torch.Size([50, 1])\n",
      "8 tensor(13.4709, grad_fn=<MseLossBackward0>) tensor([ 6.0385, -5.5496]) tensor([ 0.1461, -0.5195], grad_fn=<CatBackward0>)\n",
      "torch.Size([50, 1])\n",
      "torch.Size([50, 1])\n",
      "8 tensor(10.1405, grad_fn=<MseLossBackward0>) tensor([ 3.5729, -5.0062]) tensor([ 0.1461, -0.5195], grad_fn=<CatBackward0>)\n",
      "torch.Size([50, 1])\n",
      "torch.Size([50, 1])\n",
      "8 tensor(8.9303, grad_fn=<MseLossBackward0>) tensor([ 3.3576, -4.2290]) tensor([ 0.1461, -0.5195], grad_fn=<CatBackward0>)\n",
      "torch.Size([50, 1])\n",
      "torch.Size([50, 1])\n",
      "9 tensor(10.0685, grad_fn=<MseLossBackward0>) tensor([ 3.1405, -5.3175]) tensor([ 0.1461, -0.5195], grad_fn=<CatBackward0>)\n",
      "torch.Size([50, 1])\n",
      "torch.Size([50, 1])\n",
      "9 tensor(13.4709, grad_fn=<MseLossBackward0>) tensor([ 6.0385, -5.5496]) tensor([ 0.1461, -0.5195], grad_fn=<CatBackward0>)\n",
      "torch.Size([50, 1])\n",
      "torch.Size([50, 1])\n",
      "9 tensor(10.1405, grad_fn=<MseLossBackward0>) tensor([ 3.5729, -5.0062]) tensor([ 0.1461, -0.5195], grad_fn=<CatBackward0>)\n",
      "torch.Size([50, 1])\n",
      "torch.Size([50, 1])\n",
      "9 tensor(8.9303, grad_fn=<MseLossBackward0>) tensor([ 3.3576, -4.2290]) tensor([ 0.1461, -0.5195], grad_fn=<CatBackward0>)\n",
      "torch.Size([50, 1])\n",
      "torch.Size([50, 1])\n",
      "10 tensor(10.0685, grad_fn=<MseLossBackward0>) tensor([ 3.1405, -5.3175]) tensor([ 0.1461, -0.5195], grad_fn=<CatBackward0>)\n",
      "torch.Size([50, 1])\n",
      "torch.Size([50, 1])\n",
      "10 tensor(13.4709, grad_fn=<MseLossBackward0>) tensor([ 6.0385, -5.5496]) tensor([ 0.1461, -0.5195], grad_fn=<CatBackward0>)\n",
      "torch.Size([50, 1])\n",
      "torch.Size([50, 1])\n",
      "10 tensor(10.1405, grad_fn=<MseLossBackward0>) tensor([ 3.5729, -5.0062]) tensor([ 0.1461, -0.5195], grad_fn=<CatBackward0>)\n",
      "torch.Size([50, 1])\n",
      "torch.Size([50, 1])\n",
      "10 tensor(8.9303, grad_fn=<MseLossBackward0>) tensor([ 3.3576, -4.2290]) tensor([ 0.1461, -0.5195], grad_fn=<CatBackward0>)\n",
      "torch.Size([50, 1])\n",
      "torch.Size([50, 1])\n",
      "11 tensor(10.0685, grad_fn=<MseLossBackward0>) tensor([ 3.1405, -5.3175]) tensor([ 0.1461, -0.5195], grad_fn=<CatBackward0>)\n",
      "torch.Size([50, 1])\n",
      "torch.Size([50, 1])\n",
      "11 tensor(13.4709, grad_fn=<MseLossBackward0>) tensor([ 6.0385, -5.5496]) tensor([ 0.1461, -0.5195], grad_fn=<CatBackward0>)\n",
      "torch.Size([50, 1])\n",
      "torch.Size([50, 1])\n",
      "11 tensor(10.1405, grad_fn=<MseLossBackward0>) tensor([ 3.5729, -5.0062]) tensor([ 0.1461, -0.5195], grad_fn=<CatBackward0>)\n",
      "torch.Size([50, 1])\n",
      "torch.Size([50, 1])\n",
      "11 tensor(8.9303, grad_fn=<MseLossBackward0>) tensor([ 3.3576, -4.2290]) tensor([ 0.1461, -0.5195], grad_fn=<CatBackward0>)\n",
      "torch.Size([50, 1])\n",
      "torch.Size([50, 1])\n",
      "12 tensor(10.0685, grad_fn=<MseLossBackward0>) tensor([ 3.1405, -5.3175]) tensor([ 0.1461, -0.5195], grad_fn=<CatBackward0>)\n",
      "torch.Size([50, 1])\n",
      "torch.Size([50, 1])\n",
      "12 tensor(13.4709, grad_fn=<MseLossBackward0>) tensor([ 6.0385, -5.5496]) tensor([ 0.1461, -0.5195], grad_fn=<CatBackward0>)\n",
      "torch.Size([50, 1])\n",
      "torch.Size([50, 1])\n",
      "12 tensor(10.1405, grad_fn=<MseLossBackward0>) tensor([ 3.5729, -5.0062]) tensor([ 0.1461, -0.5195], grad_fn=<CatBackward0>)\n",
      "torch.Size([50, 1])\n",
      "torch.Size([50, 1])\n",
      "12 tensor(8.9303, grad_fn=<MseLossBackward0>) tensor([ 3.3576, -4.2290]) tensor([ 0.1461, -0.5195], grad_fn=<CatBackward0>)\n",
      "torch.Size([50, 1])\n",
      "torch.Size([50, 1])\n",
      "13 tensor(10.0685, grad_fn=<MseLossBackward0>) tensor([ 3.1405, -5.3175]) tensor([ 0.1461, -0.5195], grad_fn=<CatBackward0>)\n",
      "torch.Size([50, 1])\n",
      "torch.Size([50, 1])\n",
      "13 tensor(13.4709, grad_fn=<MseLossBackward0>) tensor([ 6.0385, -5.5496]) tensor([ 0.1461, -0.5195], grad_fn=<CatBackward0>)\n",
      "torch.Size([50, 1])\n",
      "torch.Size([50, 1])\n",
      "13 tensor(10.1405, grad_fn=<MseLossBackward0>) tensor([ 3.5729, -5.0062]) tensor([ 0.1461, -0.5195], grad_fn=<CatBackward0>)\n",
      "torch.Size([50, 1])\n",
      "torch.Size([50, 1])\n",
      "13 tensor(8.9303, grad_fn=<MseLossBackward0>) tensor([ 3.3576, -4.2290]) tensor([ 0.1461, -0.5195], grad_fn=<CatBackward0>)\n",
      "torch.Size([50, 1])\n",
      "torch.Size([50, 1])\n",
      "14 tensor(10.0685, grad_fn=<MseLossBackward0>) tensor([ 3.1405, -5.3175]) tensor([ 0.1461, -0.5195], grad_fn=<CatBackward0>)\n",
      "torch.Size([50, 1])\n",
      "torch.Size([50, 1])\n",
      "14 tensor(13.4709, grad_fn=<MseLossBackward0>) tensor([ 6.0385, -5.5496]) tensor([ 0.1461, -0.5195], grad_fn=<CatBackward0>)\n",
      "torch.Size([50, 1])\n",
      "torch.Size([50, 1])\n",
      "14 tensor(10.1405, grad_fn=<MseLossBackward0>) tensor([ 3.5729, -5.0062]) tensor([ 0.1461, -0.5195], grad_fn=<CatBackward0>)\n",
      "torch.Size([50, 1])\n",
      "torch.Size([50, 1])\n",
      "14 tensor(8.9303, grad_fn=<MseLossBackward0>) tensor([ 3.3576, -4.2290]) tensor([ 0.1461, -0.5195], grad_fn=<CatBackward0>)\n",
      "torch.Size([50, 1])\n",
      "torch.Size([50, 1])\n",
      "15 tensor(10.0685, grad_fn=<MseLossBackward0>) tensor([ 3.1405, -5.3175]) tensor([ 0.1461, -0.5195], grad_fn=<CatBackward0>)\n",
      "torch.Size([50, 1])\n",
      "torch.Size([50, 1])\n",
      "15 tensor(13.4709, grad_fn=<MseLossBackward0>) tensor([ 6.0385, -5.5496]) tensor([ 0.1461, -0.5195], grad_fn=<CatBackward0>)\n",
      "torch.Size([50, 1])\n",
      "torch.Size([50, 1])\n",
      "15 tensor(10.1405, grad_fn=<MseLossBackward0>) tensor([ 3.5729, -5.0062]) tensor([ 0.1461, -0.5195], grad_fn=<CatBackward0>)\n",
      "torch.Size([50, 1])\n",
      "torch.Size([50, 1])\n",
      "15 tensor(8.9303, grad_fn=<MseLossBackward0>) tensor([ 3.3576, -4.2290]) tensor([ 0.1461, -0.5195], grad_fn=<CatBackward0>)\n",
      "torch.Size([50, 1])\n",
      "torch.Size([50, 1])\n"
     ]
    },
    {
     "name": "stdout",
     "output_type": "stream",
     "text": [
      "16 tensor(10.0685, grad_fn=<MseLossBackward0>) tensor([ 3.1405, -5.3175]) tensor([ 0.1461, -0.5195], grad_fn=<CatBackward0>)\n",
      "torch.Size([50, 1])\n",
      "torch.Size([50, 1])\n",
      "16 tensor(13.4709, grad_fn=<MseLossBackward0>) tensor([ 6.0385, -5.5496]) tensor([ 0.1461, -0.5195], grad_fn=<CatBackward0>)\n",
      "torch.Size([50, 1])\n",
      "torch.Size([50, 1])\n",
      "16 tensor(10.1405, grad_fn=<MseLossBackward0>) tensor([ 3.5729, -5.0062]) tensor([ 0.1461, -0.5195], grad_fn=<CatBackward0>)\n",
      "torch.Size([50, 1])\n",
      "torch.Size([50, 1])\n",
      "16 tensor(8.9303, grad_fn=<MseLossBackward0>) tensor([ 3.3576, -4.2290]) tensor([ 0.1461, -0.5195], grad_fn=<CatBackward0>)\n",
      "torch.Size([50, 1])\n",
      "torch.Size([50, 1])\n",
      "17 tensor(10.0685, grad_fn=<MseLossBackward0>) tensor([ 3.1405, -5.3175]) tensor([ 0.1461, -0.5195], grad_fn=<CatBackward0>)\n",
      "torch.Size([50, 1])\n",
      "torch.Size([50, 1])\n",
      "17 tensor(13.4709, grad_fn=<MseLossBackward0>) tensor([ 6.0385, -5.5496]) tensor([ 0.1461, -0.5195], grad_fn=<CatBackward0>)\n",
      "torch.Size([50, 1])\n",
      "torch.Size([50, 1])\n",
      "17 tensor(10.1405, grad_fn=<MseLossBackward0>) tensor([ 3.5729, -5.0062]) tensor([ 0.1461, -0.5195], grad_fn=<CatBackward0>)\n",
      "torch.Size([50, 1])\n",
      "torch.Size([50, 1])\n",
      "17 tensor(8.9303, grad_fn=<MseLossBackward0>) tensor([ 3.3576, -4.2290]) tensor([ 0.1461, -0.5195], grad_fn=<CatBackward0>)\n",
      "torch.Size([50, 1])\n",
      "torch.Size([50, 1])\n",
      "18 tensor(10.0685, grad_fn=<MseLossBackward0>) tensor([ 3.1405, -5.3175]) tensor([ 0.1461, -0.5195], grad_fn=<CatBackward0>)\n",
      "torch.Size([50, 1])\n",
      "torch.Size([50, 1])\n",
      "18 tensor(13.4709, grad_fn=<MseLossBackward0>) tensor([ 6.0385, -5.5496]) tensor([ 0.1461, -0.5195], grad_fn=<CatBackward0>)\n",
      "torch.Size([50, 1])\n",
      "torch.Size([50, 1])\n",
      "18 tensor(10.1405, grad_fn=<MseLossBackward0>) tensor([ 3.5729, -5.0062]) tensor([ 0.1461, -0.5195], grad_fn=<CatBackward0>)\n",
      "torch.Size([50, 1])\n",
      "torch.Size([50, 1])\n",
      "18 tensor(8.9303, grad_fn=<MseLossBackward0>) tensor([ 3.3576, -4.2290]) tensor([ 0.1461, -0.5195], grad_fn=<CatBackward0>)\n",
      "torch.Size([50, 1])\n",
      "torch.Size([50, 1])\n",
      "19 tensor(10.0685, grad_fn=<MseLossBackward0>) tensor([ 3.1405, -5.3175]) tensor([ 0.1461, -0.5195], grad_fn=<CatBackward0>)\n",
      "torch.Size([50, 1])\n",
      "torch.Size([50, 1])\n",
      "19 tensor(13.4709, grad_fn=<MseLossBackward0>) tensor([ 6.0385, -5.5496]) tensor([ 0.1461, -0.5195], grad_fn=<CatBackward0>)\n",
      "torch.Size([50, 1])\n",
      "torch.Size([50, 1])\n",
      "19 tensor(10.1405, grad_fn=<MseLossBackward0>) tensor([ 3.5729, -5.0062]) tensor([ 0.1461, -0.5195], grad_fn=<CatBackward0>)\n",
      "torch.Size([50, 1])\n",
      "torch.Size([50, 1])\n",
      "19 tensor(8.9303, grad_fn=<MseLossBackward0>) tensor([ 3.3576, -4.2290]) tensor([ 0.1461, -0.5195], grad_fn=<CatBackward0>)\n",
      "torch.Size([50, 1])\n",
      "torch.Size([50, 1])\n",
      "20 tensor(10.0685, grad_fn=<MseLossBackward0>) tensor([ 3.1405, -5.3175]) tensor([ 0.1461, -0.5195], grad_fn=<CatBackward0>)\n",
      "torch.Size([50, 1])\n",
      "torch.Size([50, 1])\n",
      "20 tensor(13.4709, grad_fn=<MseLossBackward0>) tensor([ 6.0385, -5.5496]) tensor([ 0.1461, -0.5195], grad_fn=<CatBackward0>)\n",
      "torch.Size([50, 1])\n",
      "torch.Size([50, 1])\n",
      "20 tensor(10.1405, grad_fn=<MseLossBackward0>) tensor([ 3.5729, -5.0062]) tensor([ 0.1461, -0.5195], grad_fn=<CatBackward0>)\n",
      "torch.Size([50, 1])\n",
      "torch.Size([50, 1])\n",
      "20 tensor(8.9303, grad_fn=<MseLossBackward0>) tensor([ 3.3576, -4.2290]) tensor([ 0.1461, -0.5195], grad_fn=<CatBackward0>)\n",
      "torch.Size([50, 1])\n",
      "torch.Size([50, 1])\n",
      "21 tensor(10.0685, grad_fn=<MseLossBackward0>) tensor([ 3.1405, -5.3175]) tensor([ 0.1461, -0.5195], grad_fn=<CatBackward0>)\n",
      "torch.Size([50, 1])\n",
      "torch.Size([50, 1])\n",
      "21 tensor(13.4709, grad_fn=<MseLossBackward0>) tensor([ 6.0385, -5.5496]) tensor([ 0.1461, -0.5195], grad_fn=<CatBackward0>)\n",
      "torch.Size([50, 1])\n",
      "torch.Size([50, 1])\n",
      "21 tensor(10.1405, grad_fn=<MseLossBackward0>) tensor([ 3.5729, -5.0062]) tensor([ 0.1461, -0.5195], grad_fn=<CatBackward0>)\n",
      "torch.Size([50, 1])\n",
      "torch.Size([50, 1])\n",
      "21 tensor(8.9303, grad_fn=<MseLossBackward0>) tensor([ 3.3576, -4.2290]) tensor([ 0.1461, -0.5195], grad_fn=<CatBackward0>)\n",
      "torch.Size([50, 1])\n",
      "torch.Size([50, 1])\n",
      "22 tensor(10.0685, grad_fn=<MseLossBackward0>) tensor([ 3.1405, -5.3175]) tensor([ 0.1461, -0.5195], grad_fn=<CatBackward0>)\n",
      "torch.Size([50, 1])\n",
      "torch.Size([50, 1])\n",
      "22 tensor(13.4709, grad_fn=<MseLossBackward0>) tensor([ 6.0385, -5.5496]) tensor([ 0.1461, -0.5195], grad_fn=<CatBackward0>)\n",
      "torch.Size([50, 1])\n",
      "torch.Size([50, 1])\n",
      "22 tensor(10.1405, grad_fn=<MseLossBackward0>) tensor([ 3.5729, -5.0062]) tensor([ 0.1461, -0.5195], grad_fn=<CatBackward0>)\n",
      "torch.Size([50, 1])\n",
      "torch.Size([50, 1])\n",
      "22 tensor(8.9303, grad_fn=<MseLossBackward0>) tensor([ 3.3576, -4.2290]) tensor([ 0.1461, -0.5195], grad_fn=<CatBackward0>)\n",
      "torch.Size([50, 1])\n",
      "torch.Size([50, 1])\n",
      "23 tensor(10.0685, grad_fn=<MseLossBackward0>) tensor([ 3.1405, -5.3175]) tensor([ 0.1461, -0.5195], grad_fn=<CatBackward0>)\n",
      "torch.Size([50, 1])\n",
      "torch.Size([50, 1])\n",
      "23 tensor(13.4709, grad_fn=<MseLossBackward0>) tensor([ 6.0385, -5.5496]) tensor([ 0.1461, -0.5195], grad_fn=<CatBackward0>)\n",
      "torch.Size([50, 1])\n",
      "torch.Size([50, 1])\n",
      "23 tensor(10.1405, grad_fn=<MseLossBackward0>) tensor([ 3.5729, -5.0062]) tensor([ 0.1461, -0.5195], grad_fn=<CatBackward0>)\n",
      "torch.Size([50, 1])\n",
      "torch.Size([50, 1])\n",
      "23 tensor(8.9303, grad_fn=<MseLossBackward0>) tensor([ 3.3576, -4.2290]) tensor([ 0.1461, -0.5195], grad_fn=<CatBackward0>)\n",
      "torch.Size([50, 1])\n",
      "torch.Size([50, 1])\n",
      "24 tensor(10.0685, grad_fn=<MseLossBackward0>) tensor([ 3.1405, -5.3175]) tensor([ 0.1461, -0.5195], grad_fn=<CatBackward0>)\n",
      "torch.Size([50, 1])\n",
      "torch.Size([50, 1])\n",
      "24 tensor(13.4709, grad_fn=<MseLossBackward0>) tensor([ 6.0385, -5.5496]) tensor([ 0.1461, -0.5195], grad_fn=<CatBackward0>)\n",
      "torch.Size([50, 1])\n",
      "torch.Size([50, 1])\n",
      "24 tensor(10.1405, grad_fn=<MseLossBackward0>) tensor([ 3.5729, -5.0062]) tensor([ 0.1461, -0.5195], grad_fn=<CatBackward0>)\n",
      "torch.Size([50, 1])\n",
      "torch.Size([50, 1])\n",
      "24 tensor(8.9303, grad_fn=<MseLossBackward0>) tensor([ 3.3576, -4.2290]) tensor([ 0.1461, -0.5195], grad_fn=<CatBackward0>)\n",
      "torch.Size([50, 1])\n",
      "torch.Size([50, 1])\n",
      "25 tensor(10.0685, grad_fn=<MseLossBackward0>) tensor([ 3.1405, -5.3175]) tensor([ 0.1461, -0.5195], grad_fn=<CatBackward0>)\n",
      "torch.Size([50, 1])\n",
      "torch.Size([50, 1])\n",
      "25 tensor(13.4709, grad_fn=<MseLossBackward0>) tensor([ 6.0385, -5.5496]) tensor([ 0.1461, -0.5195], grad_fn=<CatBackward0>)\n",
      "torch.Size([50, 1])\n",
      "torch.Size([50, 1])\n",
      "25 tensor(10.1405, grad_fn=<MseLossBackward0>) tensor([ 3.5729, -5.0062]) tensor([ 0.1461, -0.5195], grad_fn=<CatBackward0>)\n",
      "torch.Size([50, 1])\n",
      "torch.Size([50, 1])\n",
      "25 tensor(8.9303, grad_fn=<MseLossBackward0>) tensor([ 3.3576, -4.2290]) tensor([ 0.1461, -0.5195], grad_fn=<CatBackward0>)\n",
      "torch.Size([50, 1])\n",
      "torch.Size([50, 1])\n",
      "26 tensor(10.0685, grad_fn=<MseLossBackward0>) tensor([ 3.1405, -5.3175]) tensor([ 0.1461, -0.5195], grad_fn=<CatBackward0>)\n",
      "torch.Size([50, 1])\n",
      "torch.Size([50, 1])\n",
      "26 tensor(13.4709, grad_fn=<MseLossBackward0>) tensor([ 6.0385, -5.5496]) tensor([ 0.1461, -0.5195], grad_fn=<CatBackward0>)\n",
      "torch.Size([50, 1])\n",
      "torch.Size([50, 1])\n",
      "26 tensor(10.1405, grad_fn=<MseLossBackward0>) tensor([ 3.5729, -5.0062]) tensor([ 0.1461, -0.5195], grad_fn=<CatBackward0>)\n",
      "torch.Size([50, 1])\n",
      "torch.Size([50, 1])\n",
      "26 tensor(8.9303, grad_fn=<MseLossBackward0>) tensor([ 3.3576, -4.2290]) tensor([ 0.1461, -0.5195], grad_fn=<CatBackward0>)\n",
      "torch.Size([50, 1])\n",
      "torch.Size([50, 1])\n",
      "27 tensor(10.0685, grad_fn=<MseLossBackward0>) tensor([ 3.1405, -5.3175]) tensor([ 0.1461, -0.5195], grad_fn=<CatBackward0>)\n",
      "torch.Size([50, 1])\n",
      "torch.Size([50, 1])\n",
      "27 tensor(13.4709, grad_fn=<MseLossBackward0>) tensor([ 6.0385, -5.5496]) tensor([ 0.1461, -0.5195], grad_fn=<CatBackward0>)\n",
      "torch.Size([50, 1])\n",
      "torch.Size([50, 1])\n",
      "27 tensor(10.1405, grad_fn=<MseLossBackward0>) tensor([ 3.5729, -5.0062]) tensor([ 0.1461, -0.5195], grad_fn=<CatBackward0>)\n",
      "torch.Size([50, 1])\n",
      "torch.Size([50, 1])\n",
      "27 tensor(8.9303, grad_fn=<MseLossBackward0>) tensor([ 3.3576, -4.2290]) tensor([ 0.1461, -0.5195], grad_fn=<CatBackward0>)\n",
      "torch.Size([50, 1])\n",
      "torch.Size([50, 1])\n",
      "28 tensor(10.0685, grad_fn=<MseLossBackward0>) tensor([ 3.1405, -5.3175]) tensor([ 0.1461, -0.5195], grad_fn=<CatBackward0>)\n",
      "torch.Size([50, 1])\n",
      "torch.Size([50, 1])\n",
      "28 tensor(13.4709, grad_fn=<MseLossBackward0>) tensor([ 6.0385, -5.5496]) tensor([ 0.1461, -0.5195], grad_fn=<CatBackward0>)\n",
      "torch.Size([50, 1])\n",
      "torch.Size([50, 1])\n",
      "28 tensor(10.1405, grad_fn=<MseLossBackward0>) tensor([ 3.5729, -5.0062]) tensor([ 0.1461, -0.5195], grad_fn=<CatBackward0>)\n",
      "torch.Size([50, 1])\n",
      "torch.Size([50, 1])\n",
      "28 tensor(8.9303, grad_fn=<MseLossBackward0>) tensor([ 3.3576, -4.2290]) tensor([ 0.1461, -0.5195], grad_fn=<CatBackward0>)\n",
      "torch.Size([50, 1])\n",
      "torch.Size([50, 1])\n",
      "29 tensor(10.0685, grad_fn=<MseLossBackward0>) tensor([ 3.1405, -5.3175]) tensor([ 0.1461, -0.5195], grad_fn=<CatBackward0>)\n",
      "torch.Size([50, 1])\n",
      "torch.Size([50, 1])\n",
      "29 tensor(13.4709, grad_fn=<MseLossBackward0>) tensor([ 6.0385, -5.5496]) tensor([ 0.1461, -0.5195], grad_fn=<CatBackward0>)\n",
      "torch.Size([50, 1])\n",
      "torch.Size([50, 1])\n",
      "29 tensor(10.1405, grad_fn=<MseLossBackward0>) tensor([ 3.5729, -5.0062]) tensor([ 0.1461, -0.5195], grad_fn=<CatBackward0>)\n",
      "torch.Size([50, 1])\n",
      "torch.Size([50, 1])\n",
      "29 tensor(8.9303, grad_fn=<MseLossBackward0>) tensor([ 3.3576, -4.2290]) tensor([ 0.1461, -0.5195], grad_fn=<CatBackward0>)\n",
      "torch.Size([50, 1])\n",
      "torch.Size([50, 1])\n",
      "30 tensor(10.0685, grad_fn=<MseLossBackward0>) tensor([ 3.1405, -5.3175]) tensor([ 0.1461, -0.5195], grad_fn=<CatBackward0>)\n",
      "torch.Size([50, 1])\n",
      "torch.Size([50, 1])\n",
      "30 tensor(13.4709, grad_fn=<MseLossBackward0>) tensor([ 6.0385, -5.5496]) tensor([ 0.1461, -0.5195], grad_fn=<CatBackward0>)\n",
      "torch.Size([50, 1])\n",
      "torch.Size([50, 1])\n",
      "30 tensor(10.1405, grad_fn=<MseLossBackward0>) tensor([ 3.5729, -5.0062]) tensor([ 0.1461, -0.5195], grad_fn=<CatBackward0>)\n",
      "torch.Size([50, 1])\n",
      "torch.Size([50, 1])\n",
      "30 tensor(8.9303, grad_fn=<MseLossBackward0>) tensor([ 3.3576, -4.2290]) tensor([ 0.1461, -0.5195], grad_fn=<CatBackward0>)\n",
      "torch.Size([50, 1])\n",
      "torch.Size([50, 1])\n",
      "31 tensor(10.0685, grad_fn=<MseLossBackward0>) tensor([ 3.1405, -5.3175]) tensor([ 0.1461, -0.5195], grad_fn=<CatBackward0>)\n",
      "torch.Size([50, 1])\n",
      "torch.Size([50, 1])\n",
      "31 tensor(13.4709, grad_fn=<MseLossBackward0>) tensor([ 6.0385, -5.5496]) tensor([ 0.1461, -0.5195], grad_fn=<CatBackward0>)\n",
      "torch.Size([50, 1])\n",
      "torch.Size([50, 1])\n",
      "31 tensor(10.1405, grad_fn=<MseLossBackward0>) tensor([ 3.5729, -5.0062]) tensor([ 0.1461, -0.5195], grad_fn=<CatBackward0>)\n",
      "torch.Size([50, 1])\n",
      "torch.Size([50, 1])\n",
      "31 tensor(8.9303, grad_fn=<MseLossBackward0>) tensor([ 3.3576, -4.2290]) tensor([ 0.1461, -0.5195], grad_fn=<CatBackward0>)\n",
      "torch.Size([50, 1])\n",
      "torch.Size([50, 1])\n",
      "32 tensor(10.0685, grad_fn=<MseLossBackward0>) tensor([ 3.1405, -5.3175]) tensor([ 0.1461, -0.5195], grad_fn=<CatBackward0>)\n",
      "torch.Size([50, 1])\n",
      "torch.Size([50, 1])\n",
      "32 tensor(13.4709, grad_fn=<MseLossBackward0>) tensor([ 6.0385, -5.5496]) tensor([ 0.1461, -0.5195], grad_fn=<CatBackward0>)\n",
      "torch.Size([50, 1])\n",
      "torch.Size([50, 1])\n",
      "32 tensor(10.1405, grad_fn=<MseLossBackward0>) tensor([ 3.5729, -5.0062]) tensor([ 0.1461, -0.5195], grad_fn=<CatBackward0>)\n",
      "torch.Size([50, 1])\n",
      "torch.Size([50, 1])\n",
      "32 tensor(8.9303, grad_fn=<MseLossBackward0>) tensor([ 3.3576, -4.2290]) tensor([ 0.1461, -0.5195], grad_fn=<CatBackward0>)\n",
      "torch.Size([50, 1])\n",
      "torch.Size([50, 1])\n",
      "33 tensor(10.0685, grad_fn=<MseLossBackward0>) tensor([ 3.1405, -5.3175]) tensor([ 0.1461, -0.5195], grad_fn=<CatBackward0>)\n",
      "torch.Size([50, 1])\n",
      "torch.Size([50, 1])\n",
      "33 tensor(13.4709, grad_fn=<MseLossBackward0>) tensor([ 6.0385, -5.5496]) tensor([ 0.1461, -0.5195], grad_fn=<CatBackward0>)\n",
      "torch.Size([50, 1])\n",
      "torch.Size([50, 1])\n",
      "33 tensor(10.1405, grad_fn=<MseLossBackward0>) tensor([ 3.5729, -5.0062]) tensor([ 0.1461, -0.5195], grad_fn=<CatBackward0>)\n",
      "torch.Size([50, 1])\n",
      "torch.Size([50, 1])\n",
      "33 tensor(8.9303, grad_fn=<MseLossBackward0>) tensor([ 3.3576, -4.2290]) tensor([ 0.1461, -0.5195], grad_fn=<CatBackward0>)\n",
      "torch.Size([50, 1])\n",
      "torch.Size([50, 1])\n",
      "34 tensor(10.0685, grad_fn=<MseLossBackward0>) tensor([ 3.1405, -5.3175]) tensor([ 0.1461, -0.5195], grad_fn=<CatBackward0>)\n",
      "torch.Size([50, 1])\n",
      "torch.Size([50, 1])\n",
      "34 tensor(13.4709, grad_fn=<MseLossBackward0>) tensor([ 6.0385, -5.5496]) tensor([ 0.1461, -0.5195], grad_fn=<CatBackward0>)\n",
      "torch.Size([50, 1])\n",
      "torch.Size([50, 1])\n",
      "34 tensor(10.1405, grad_fn=<MseLossBackward0>) tensor([ 3.5729, -5.0062]) tensor([ 0.1461, -0.5195], grad_fn=<CatBackward0>)\n",
      "torch.Size([50, 1])\n",
      "torch.Size([50, 1])\n",
      "34 tensor(8.9303, grad_fn=<MseLossBackward0>) tensor([ 3.3576, -4.2290]) tensor([ 0.1461, -0.5195], grad_fn=<CatBackward0>)\n",
      "torch.Size([50, 1])\n",
      "torch.Size([50, 1])\n",
      "35 tensor(10.0685, grad_fn=<MseLossBackward0>) tensor([ 3.1405, -5.3175]) tensor([ 0.1461, -0.5195], grad_fn=<CatBackward0>)\n",
      "torch.Size([50, 1])\n",
      "torch.Size([50, 1])\n",
      "35 tensor(13.4709, grad_fn=<MseLossBackward0>) tensor([ 6.0385, -5.5496]) tensor([ 0.1461, -0.5195], grad_fn=<CatBackward0>)\n",
      "torch.Size([50, 1])\n",
      "torch.Size([50, 1])\n",
      "35 tensor(10.1405, grad_fn=<MseLossBackward0>) tensor([ 3.5729, -5.0062]) tensor([ 0.1461, -0.5195], grad_fn=<CatBackward0>)\n",
      "torch.Size([50, 1])\n",
      "torch.Size([50, 1])\n",
      "35 tensor(8.9303, grad_fn=<MseLossBackward0>) tensor([ 3.3576, -4.2290]) tensor([ 0.1461, -0.5195], grad_fn=<CatBackward0>)\n",
      "torch.Size([50, 1])\n",
      "torch.Size([50, 1])\n",
      "36 tensor(10.0685, grad_fn=<MseLossBackward0>) tensor([ 3.1405, -5.3175]) tensor([ 0.1461, -0.5195], grad_fn=<CatBackward0>)\n",
      "torch.Size([50, 1])\n",
      "torch.Size([50, 1])\n",
      "36 tensor(13.4709, grad_fn=<MseLossBackward0>) tensor([ 6.0385, -5.5496]) tensor([ 0.1461, -0.5195], grad_fn=<CatBackward0>)\n",
      "torch.Size([50, 1])\n",
      "torch.Size([50, 1])\n",
      "36 tensor(10.1405, grad_fn=<MseLossBackward0>) tensor([ 3.5729, -5.0062]) tensor([ 0.1461, -0.5195], grad_fn=<CatBackward0>)\n",
      "torch.Size([50, 1])\n",
      "torch.Size([50, 1])\n",
      "36 tensor(8.9303, grad_fn=<MseLossBackward0>) tensor([ 3.3576, -4.2290]) tensor([ 0.1461, -0.5195], grad_fn=<CatBackward0>)\n",
      "torch.Size([50, 1])\n",
      "torch.Size([50, 1])\n",
      "37 tensor(10.0685, grad_fn=<MseLossBackward0>) tensor([ 3.1405, -5.3175]) tensor([ 0.1461, -0.5195], grad_fn=<CatBackward0>)\n",
      "torch.Size([50, 1])\n",
      "torch.Size([50, 1])\n",
      "37 tensor(13.4709, grad_fn=<MseLossBackward0>) tensor([ 6.0385, -5.5496]) tensor([ 0.1461, -0.5195], grad_fn=<CatBackward0>)\n",
      "torch.Size([50, 1])\n",
      "torch.Size([50, 1])\n",
      "37 tensor(10.1405, grad_fn=<MseLossBackward0>) tensor([ 3.5729, -5.0062]) tensor([ 0.1461, -0.5195], grad_fn=<CatBackward0>)\n",
      "torch.Size([50, 1])\n",
      "torch.Size([50, 1])\n",
      "37 tensor(8.9303, grad_fn=<MseLossBackward0>) tensor([ 3.3576, -4.2290]) tensor([ 0.1461, -0.5195], grad_fn=<CatBackward0>)\n",
      "torch.Size([50, 1])\n",
      "torch.Size([50, 1])\n",
      "38 tensor(10.0685, grad_fn=<MseLossBackward0>) tensor([ 3.1405, -5.3175]) tensor([ 0.1461, -0.5195], grad_fn=<CatBackward0>)\n",
      "torch.Size([50, 1])\n",
      "torch.Size([50, 1])\n",
      "38 tensor(13.4709, grad_fn=<MseLossBackward0>) tensor([ 6.0385, -5.5496]) tensor([ 0.1461, -0.5195], grad_fn=<CatBackward0>)\n",
      "torch.Size([50, 1])\n",
      "torch.Size([50, 1])\n",
      "38 tensor(10.1405, grad_fn=<MseLossBackward0>) tensor([ 3.5729, -5.0062]) tensor([ 0.1461, -0.5195], grad_fn=<CatBackward0>)\n",
      "torch.Size([50, 1])\n",
      "torch.Size([50, 1])\n",
      "38 tensor(8.9303, grad_fn=<MseLossBackward0>) tensor([ 3.3576, -4.2290]) tensor([ 0.1461, -0.5195], grad_fn=<CatBackward0>)\n",
      "torch.Size([50, 1])\n",
      "torch.Size([50, 1])\n",
      "39 tensor(10.0685, grad_fn=<MseLossBackward0>) tensor([ 3.1405, -5.3175]) tensor([ 0.1461, -0.5195], grad_fn=<CatBackward0>)\n",
      "torch.Size([50, 1])\n",
      "torch.Size([50, 1])\n",
      "39 tensor(13.4709, grad_fn=<MseLossBackward0>) tensor([ 6.0385, -5.5496]) tensor([ 0.1461, -0.5195], grad_fn=<CatBackward0>)\n",
      "torch.Size([50, 1])\n",
      "torch.Size([50, 1])\n",
      "39 tensor(10.1405, grad_fn=<MseLossBackward0>) tensor([ 3.5729, -5.0062]) tensor([ 0.1461, -0.5195], grad_fn=<CatBackward0>)\n",
      "torch.Size([50, 1])\n",
      "torch.Size([50, 1])\n",
      "39 tensor(8.9303, grad_fn=<MseLossBackward0>) tensor([ 3.3576, -4.2290]) tensor([ 0.1461, -0.5195], grad_fn=<CatBackward0>)\n",
      "torch.Size([50, 1])\n",
      "torch.Size([50, 1])\n"
     ]
    },
    {
     "name": "stdout",
     "output_type": "stream",
     "text": [
      "40 tensor(10.0685, grad_fn=<MseLossBackward0>) tensor([ 3.1405, -5.3175]) tensor([ 0.1461, -0.5195], grad_fn=<CatBackward0>)\n",
      "torch.Size([50, 1])\n",
      "torch.Size([50, 1])\n",
      "40 tensor(13.4709, grad_fn=<MseLossBackward0>) tensor([ 6.0385, -5.5496]) tensor([ 0.1461, -0.5195], grad_fn=<CatBackward0>)\n",
      "torch.Size([50, 1])\n",
      "torch.Size([50, 1])\n",
      "40 tensor(10.1405, grad_fn=<MseLossBackward0>) tensor([ 3.5729, -5.0062]) tensor([ 0.1461, -0.5195], grad_fn=<CatBackward0>)\n",
      "torch.Size([50, 1])\n",
      "torch.Size([50, 1])\n",
      "40 tensor(8.9303, grad_fn=<MseLossBackward0>) tensor([ 3.3576, -4.2290]) tensor([ 0.1461, -0.5195], grad_fn=<CatBackward0>)\n",
      "torch.Size([50, 1])\n",
      "torch.Size([50, 1])\n",
      "41 tensor(10.0685, grad_fn=<MseLossBackward0>) tensor([ 3.1405, -5.3175]) tensor([ 0.1461, -0.5195], grad_fn=<CatBackward0>)\n",
      "torch.Size([50, 1])\n",
      "torch.Size([50, 1])\n",
      "41 tensor(13.4709, grad_fn=<MseLossBackward0>) tensor([ 6.0385, -5.5496]) tensor([ 0.1461, -0.5195], grad_fn=<CatBackward0>)\n",
      "torch.Size([50, 1])\n",
      "torch.Size([50, 1])\n",
      "41 tensor(10.1405, grad_fn=<MseLossBackward0>) tensor([ 3.5729, -5.0062]) tensor([ 0.1461, -0.5195], grad_fn=<CatBackward0>)\n",
      "torch.Size([50, 1])\n",
      "torch.Size([50, 1])\n",
      "41 tensor(8.9303, grad_fn=<MseLossBackward0>) tensor([ 3.3576, -4.2290]) tensor([ 0.1461, -0.5195], grad_fn=<CatBackward0>)\n",
      "torch.Size([50, 1])\n",
      "torch.Size([50, 1])\n",
      "42 tensor(10.0685, grad_fn=<MseLossBackward0>) tensor([ 3.1405, -5.3175]) tensor([ 0.1461, -0.5195], grad_fn=<CatBackward0>)\n",
      "torch.Size([50, 1])\n",
      "torch.Size([50, 1])\n",
      "42 tensor(13.4709, grad_fn=<MseLossBackward0>) tensor([ 6.0385, -5.5496]) tensor([ 0.1461, -0.5195], grad_fn=<CatBackward0>)\n",
      "torch.Size([50, 1])\n",
      "torch.Size([50, 1])\n",
      "42 tensor(10.1405, grad_fn=<MseLossBackward0>) tensor([ 3.5729, -5.0062]) tensor([ 0.1461, -0.5195], grad_fn=<CatBackward0>)\n",
      "torch.Size([50, 1])\n",
      "torch.Size([50, 1])\n",
      "42 tensor(8.9303, grad_fn=<MseLossBackward0>) tensor([ 3.3576, -4.2290]) tensor([ 0.1461, -0.5195], grad_fn=<CatBackward0>)\n",
      "torch.Size([50, 1])\n",
      "torch.Size([50, 1])\n",
      "43 tensor(10.0685, grad_fn=<MseLossBackward0>) tensor([ 3.1405, -5.3175]) tensor([ 0.1461, -0.5195], grad_fn=<CatBackward0>)\n",
      "torch.Size([50, 1])\n",
      "torch.Size([50, 1])\n",
      "43 tensor(13.4709, grad_fn=<MseLossBackward0>) tensor([ 6.0385, -5.5496]) tensor([ 0.1461, -0.5195], grad_fn=<CatBackward0>)\n",
      "torch.Size([50, 1])\n",
      "torch.Size([50, 1])\n",
      "43 tensor(10.1405, grad_fn=<MseLossBackward0>) tensor([ 3.5729, -5.0062]) tensor([ 0.1461, -0.5195], grad_fn=<CatBackward0>)\n",
      "torch.Size([50, 1])\n",
      "torch.Size([50, 1])\n",
      "43 tensor(8.9303, grad_fn=<MseLossBackward0>) tensor([ 3.3576, -4.2290]) tensor([ 0.1461, -0.5195], grad_fn=<CatBackward0>)\n",
      "torch.Size([50, 1])\n",
      "torch.Size([50, 1])\n",
      "44 tensor(10.0685, grad_fn=<MseLossBackward0>) tensor([ 3.1405, -5.3175]) tensor([ 0.1461, -0.5195], grad_fn=<CatBackward0>)\n",
      "torch.Size([50, 1])\n",
      "torch.Size([50, 1])\n",
      "44 tensor(13.4709, grad_fn=<MseLossBackward0>) tensor([ 6.0385, -5.5496]) tensor([ 0.1461, -0.5195], grad_fn=<CatBackward0>)\n",
      "torch.Size([50, 1])\n",
      "torch.Size([50, 1])\n",
      "44 tensor(10.1405, grad_fn=<MseLossBackward0>) tensor([ 3.5729, -5.0062]) tensor([ 0.1461, -0.5195], grad_fn=<CatBackward0>)\n",
      "torch.Size([50, 1])\n",
      "torch.Size([50, 1])\n",
      "44 tensor(8.9303, grad_fn=<MseLossBackward0>) tensor([ 3.3576, -4.2290]) tensor([ 0.1461, -0.5195], grad_fn=<CatBackward0>)\n",
      "torch.Size([50, 1])\n",
      "torch.Size([50, 1])\n",
      "45 tensor(10.0685, grad_fn=<MseLossBackward0>) tensor([ 3.1405, -5.3175]) tensor([ 0.1461, -0.5195], grad_fn=<CatBackward0>)\n",
      "torch.Size([50, 1])\n",
      "torch.Size([50, 1])\n",
      "45 tensor(13.4709, grad_fn=<MseLossBackward0>) tensor([ 6.0385, -5.5496]) tensor([ 0.1461, -0.5195], grad_fn=<CatBackward0>)\n",
      "torch.Size([50, 1])\n",
      "torch.Size([50, 1])\n",
      "45 tensor(10.1405, grad_fn=<MseLossBackward0>) tensor([ 3.5729, -5.0062]) tensor([ 0.1461, -0.5195], grad_fn=<CatBackward0>)\n",
      "torch.Size([50, 1])\n",
      "torch.Size([50, 1])\n",
      "45 tensor(8.9303, grad_fn=<MseLossBackward0>) tensor([ 3.3576, -4.2290]) tensor([ 0.1461, -0.5195], grad_fn=<CatBackward0>)\n",
      "torch.Size([50, 1])\n",
      "torch.Size([50, 1])\n",
      "46 tensor(10.0685, grad_fn=<MseLossBackward0>) tensor([ 3.1405, -5.3175]) tensor([ 0.1461, -0.5195], grad_fn=<CatBackward0>)\n",
      "torch.Size([50, 1])\n",
      "torch.Size([50, 1])\n",
      "46 tensor(13.4709, grad_fn=<MseLossBackward0>) tensor([ 6.0385, -5.5496]) tensor([ 0.1461, -0.5195], grad_fn=<CatBackward0>)\n",
      "torch.Size([50, 1])\n",
      "torch.Size([50, 1])\n",
      "46 tensor(10.1405, grad_fn=<MseLossBackward0>) tensor([ 3.5729, -5.0062]) tensor([ 0.1461, -0.5195], grad_fn=<CatBackward0>)\n",
      "torch.Size([50, 1])\n",
      "torch.Size([50, 1])\n",
      "46 tensor(8.9303, grad_fn=<MseLossBackward0>) tensor([ 3.3576, -4.2290]) tensor([ 0.1461, -0.5195], grad_fn=<CatBackward0>)\n",
      "torch.Size([50, 1])\n",
      "torch.Size([50, 1])\n",
      "47 tensor(10.0685, grad_fn=<MseLossBackward0>) tensor([ 3.1405, -5.3175]) tensor([ 0.1461, -0.5195], grad_fn=<CatBackward0>)\n",
      "torch.Size([50, 1])\n",
      "torch.Size([50, 1])\n",
      "47 tensor(13.4709, grad_fn=<MseLossBackward0>) tensor([ 6.0385, -5.5496]) tensor([ 0.1461, -0.5195], grad_fn=<CatBackward0>)\n",
      "torch.Size([50, 1])\n",
      "torch.Size([50, 1])\n",
      "47 tensor(10.1405, grad_fn=<MseLossBackward0>) tensor([ 3.5729, -5.0062]) tensor([ 0.1461, -0.5195], grad_fn=<CatBackward0>)\n",
      "torch.Size([50, 1])\n",
      "torch.Size([50, 1])\n",
      "47 tensor(8.9303, grad_fn=<MseLossBackward0>) tensor([ 3.3576, -4.2290]) tensor([ 0.1461, -0.5195], grad_fn=<CatBackward0>)\n",
      "torch.Size([50, 1])\n",
      "torch.Size([50, 1])\n",
      "48 tensor(10.0685, grad_fn=<MseLossBackward0>) tensor([ 3.1405, -5.3175]) tensor([ 0.1461, -0.5195], grad_fn=<CatBackward0>)\n",
      "torch.Size([50, 1])\n",
      "torch.Size([50, 1])\n",
      "48 tensor(13.4709, grad_fn=<MseLossBackward0>) tensor([ 6.0385, -5.5496]) tensor([ 0.1461, -0.5195], grad_fn=<CatBackward0>)\n",
      "torch.Size([50, 1])\n",
      "torch.Size([50, 1])\n",
      "48 tensor(10.1405, grad_fn=<MseLossBackward0>) tensor([ 3.5729, -5.0062]) tensor([ 0.1461, -0.5195], grad_fn=<CatBackward0>)\n",
      "torch.Size([50, 1])\n",
      "torch.Size([50, 1])\n",
      "48 tensor(8.9303, grad_fn=<MseLossBackward0>) tensor([ 3.3576, -4.2290]) tensor([ 0.1461, -0.5195], grad_fn=<CatBackward0>)\n",
      "torch.Size([50, 1])\n",
      "torch.Size([50, 1])\n",
      "49 tensor(10.0685, grad_fn=<MseLossBackward0>) tensor([ 3.1405, -5.3175]) tensor([ 0.1461, -0.5195], grad_fn=<CatBackward0>)\n",
      "torch.Size([50, 1])\n",
      "torch.Size([50, 1])\n",
      "49 tensor(13.4709, grad_fn=<MseLossBackward0>) tensor([ 6.0385, -5.5496]) tensor([ 0.1461, -0.5195], grad_fn=<CatBackward0>)\n",
      "torch.Size([50, 1])\n",
      "torch.Size([50, 1])\n",
      "49 tensor(10.1405, grad_fn=<MseLossBackward0>) tensor([ 3.5729, -5.0062]) tensor([ 0.1461, -0.5195], grad_fn=<CatBackward0>)\n",
      "torch.Size([50, 1])\n",
      "torch.Size([50, 1])\n",
      "49 tensor(8.9303, grad_fn=<MseLossBackward0>) tensor([ 3.3576, -4.2290]) tensor([ 0.1461, -0.5195], grad_fn=<CatBackward0>)\n",
      "torch.Size([50, 1])\n",
      "torch.Size([50, 1])\n",
      "50 tensor(10.0685, grad_fn=<MseLossBackward0>) tensor([ 3.1405, -5.3175]) tensor([ 0.1461, -0.5195], grad_fn=<CatBackward0>)\n",
      "torch.Size([50, 1])\n",
      "torch.Size([50, 1])\n",
      "50 tensor(13.4709, grad_fn=<MseLossBackward0>) tensor([ 6.0385, -5.5496]) tensor([ 0.1461, -0.5195], grad_fn=<CatBackward0>)\n",
      "torch.Size([50, 1])\n",
      "torch.Size([50, 1])\n",
      "50 tensor(10.1405, grad_fn=<MseLossBackward0>) tensor([ 3.5729, -5.0062]) tensor([ 0.1461, -0.5195], grad_fn=<CatBackward0>)\n",
      "torch.Size([50, 1])\n",
      "torch.Size([50, 1])\n",
      "50 tensor(8.9303, grad_fn=<MseLossBackward0>) tensor([ 3.3576, -4.2290]) tensor([ 0.1461, -0.5195], grad_fn=<CatBackward0>)\n",
      "torch.Size([50, 1])\n",
      "torch.Size([50, 1])\n",
      "51 tensor(10.0685, grad_fn=<MseLossBackward0>) tensor([ 3.1405, -5.3175]) tensor([ 0.1461, -0.5195], grad_fn=<CatBackward0>)\n",
      "torch.Size([50, 1])\n",
      "torch.Size([50, 1])\n",
      "51 tensor(13.4709, grad_fn=<MseLossBackward0>) tensor([ 6.0385, -5.5496]) tensor([ 0.1461, -0.5195], grad_fn=<CatBackward0>)\n",
      "torch.Size([50, 1])\n",
      "torch.Size([50, 1])\n",
      "51 tensor(10.1405, grad_fn=<MseLossBackward0>) tensor([ 3.5729, -5.0062]) tensor([ 0.1461, -0.5195], grad_fn=<CatBackward0>)\n",
      "torch.Size([50, 1])\n",
      "torch.Size([50, 1])\n",
      "51 tensor(8.9303, grad_fn=<MseLossBackward0>) tensor([ 3.3576, -4.2290]) tensor([ 0.1461, -0.5195], grad_fn=<CatBackward0>)\n",
      "torch.Size([50, 1])\n",
      "torch.Size([50, 1])\n",
      "52 tensor(10.0685, grad_fn=<MseLossBackward0>) tensor([ 3.1405, -5.3175]) tensor([ 0.1461, -0.5195], grad_fn=<CatBackward0>)\n",
      "torch.Size([50, 1])\n",
      "torch.Size([50, 1])\n",
      "52 tensor(13.4709, grad_fn=<MseLossBackward0>) tensor([ 6.0385, -5.5496]) tensor([ 0.1461, -0.5195], grad_fn=<CatBackward0>)\n",
      "torch.Size([50, 1])\n",
      "torch.Size([50, 1])\n",
      "52 tensor(10.1405, grad_fn=<MseLossBackward0>) tensor([ 3.5729, -5.0062]) tensor([ 0.1461, -0.5195], grad_fn=<CatBackward0>)\n",
      "torch.Size([50, 1])\n",
      "torch.Size([50, 1])\n",
      "52 tensor(8.9303, grad_fn=<MseLossBackward0>) tensor([ 3.3576, -4.2290]) tensor([ 0.1461, -0.5195], grad_fn=<CatBackward0>)\n",
      "torch.Size([50, 1])\n",
      "torch.Size([50, 1])\n",
      "53 tensor(10.0685, grad_fn=<MseLossBackward0>) tensor([ 3.1405, -5.3175]) tensor([ 0.1461, -0.5195], grad_fn=<CatBackward0>)\n",
      "torch.Size([50, 1])\n",
      "torch.Size([50, 1])\n",
      "53 tensor(13.4709, grad_fn=<MseLossBackward0>) tensor([ 6.0385, -5.5496]) tensor([ 0.1461, -0.5195], grad_fn=<CatBackward0>)\n",
      "torch.Size([50, 1])\n",
      "torch.Size([50, 1])\n",
      "53 tensor(10.1405, grad_fn=<MseLossBackward0>) tensor([ 3.5729, -5.0062]) tensor([ 0.1461, -0.5195], grad_fn=<CatBackward0>)\n",
      "torch.Size([50, 1])\n",
      "torch.Size([50, 1])\n",
      "53 tensor(8.9303, grad_fn=<MseLossBackward0>) tensor([ 3.3576, -4.2290]) tensor([ 0.1461, -0.5195], grad_fn=<CatBackward0>)\n",
      "torch.Size([50, 1])\n",
      "torch.Size([50, 1])\n",
      "54 tensor(10.0685, grad_fn=<MseLossBackward0>) tensor([ 3.1405, -5.3175]) tensor([ 0.1461, -0.5195], grad_fn=<CatBackward0>)\n",
      "torch.Size([50, 1])\n",
      "torch.Size([50, 1])\n",
      "54 tensor(13.4709, grad_fn=<MseLossBackward0>) tensor([ 6.0385, -5.5496]) tensor([ 0.1461, -0.5195], grad_fn=<CatBackward0>)\n",
      "torch.Size([50, 1])\n",
      "torch.Size([50, 1])\n",
      "54 tensor(10.1405, grad_fn=<MseLossBackward0>) tensor([ 3.5729, -5.0062]) tensor([ 0.1461, -0.5195], grad_fn=<CatBackward0>)\n",
      "torch.Size([50, 1])\n",
      "torch.Size([50, 1])\n",
      "54 tensor(8.9303, grad_fn=<MseLossBackward0>) tensor([ 3.3576, -4.2290]) tensor([ 0.1461, -0.5195], grad_fn=<CatBackward0>)\n",
      "torch.Size([50, 1])\n",
      "torch.Size([50, 1])\n",
      "55 tensor(10.0685, grad_fn=<MseLossBackward0>) tensor([ 3.1405, -5.3175]) tensor([ 0.1461, -0.5195], grad_fn=<CatBackward0>)\n",
      "torch.Size([50, 1])\n",
      "torch.Size([50, 1])\n",
      "55 tensor(13.4709, grad_fn=<MseLossBackward0>) tensor([ 6.0385, -5.5496]) tensor([ 0.1461, -0.5195], grad_fn=<CatBackward0>)\n",
      "torch.Size([50, 1])\n",
      "torch.Size([50, 1])\n",
      "55 tensor(10.1405, grad_fn=<MseLossBackward0>) tensor([ 3.5729, -5.0062]) tensor([ 0.1461, -0.5195], grad_fn=<CatBackward0>)\n",
      "torch.Size([50, 1])\n",
      "torch.Size([50, 1])\n",
      "55 tensor(8.9303, grad_fn=<MseLossBackward0>) tensor([ 3.3576, -4.2290]) tensor([ 0.1461, -0.5195], grad_fn=<CatBackward0>)\n",
      "torch.Size([50, 1])\n",
      "torch.Size([50, 1])\n",
      "56 tensor(10.0685, grad_fn=<MseLossBackward0>) tensor([ 3.1405, -5.3175]) tensor([ 0.1461, -0.5195], grad_fn=<CatBackward0>)\n",
      "torch.Size([50, 1])\n",
      "torch.Size([50, 1])\n",
      "56 tensor(13.4709, grad_fn=<MseLossBackward0>) tensor([ 6.0385, -5.5496]) tensor([ 0.1461, -0.5195], grad_fn=<CatBackward0>)\n",
      "torch.Size([50, 1])\n",
      "torch.Size([50, 1])\n",
      "56 tensor(10.1405, grad_fn=<MseLossBackward0>) tensor([ 3.5729, -5.0062]) tensor([ 0.1461, -0.5195], grad_fn=<CatBackward0>)\n",
      "torch.Size([50, 1])\n",
      "torch.Size([50, 1])\n",
      "56 tensor(8.9303, grad_fn=<MseLossBackward0>) tensor([ 3.3576, -4.2290]) tensor([ 0.1461, -0.5195], grad_fn=<CatBackward0>)\n",
      "torch.Size([50, 1])\n",
      "torch.Size([50, 1])\n",
      "57 tensor(10.0685, grad_fn=<MseLossBackward0>) tensor([ 3.1405, -5.3175]) tensor([ 0.1461, -0.5195], grad_fn=<CatBackward0>)\n",
      "torch.Size([50, 1])\n",
      "torch.Size([50, 1])\n",
      "57 tensor(13.4709, grad_fn=<MseLossBackward0>) tensor([ 6.0385, -5.5496]) tensor([ 0.1461, -0.5195], grad_fn=<CatBackward0>)\n",
      "torch.Size([50, 1])\n",
      "torch.Size([50, 1])\n",
      "57 tensor(10.1405, grad_fn=<MseLossBackward0>) tensor([ 3.5729, -5.0062]) tensor([ 0.1461, -0.5195], grad_fn=<CatBackward0>)\n",
      "torch.Size([50, 1])\n",
      "torch.Size([50, 1])\n",
      "57 tensor(8.9303, grad_fn=<MseLossBackward0>) tensor([ 3.3576, -4.2290]) tensor([ 0.1461, -0.5195], grad_fn=<CatBackward0>)\n",
      "torch.Size([50, 1])\n",
      "torch.Size([50, 1])\n",
      "58 tensor(10.0685, grad_fn=<MseLossBackward0>) tensor([ 3.1405, -5.3175]) tensor([ 0.1461, -0.5195], grad_fn=<CatBackward0>)\n",
      "torch.Size([50, 1])\n",
      "torch.Size([50, 1])\n",
      "58 tensor(13.4709, grad_fn=<MseLossBackward0>) tensor([ 6.0385, -5.5496]) tensor([ 0.1461, -0.5195], grad_fn=<CatBackward0>)\n",
      "torch.Size([50, 1])\n",
      "torch.Size([50, 1])\n",
      "58 tensor(10.1405, grad_fn=<MseLossBackward0>) tensor([ 3.5729, -5.0062]) tensor([ 0.1461, -0.5195], grad_fn=<CatBackward0>)\n",
      "torch.Size([50, 1])\n",
      "torch.Size([50, 1])\n",
      "58 tensor(8.9303, grad_fn=<MseLossBackward0>) tensor([ 3.3576, -4.2290]) tensor([ 0.1461, -0.5195], grad_fn=<CatBackward0>)\n",
      "torch.Size([50, 1])\n",
      "torch.Size([50, 1])\n",
      "59 tensor(10.0685, grad_fn=<MseLossBackward0>) tensor([ 3.1405, -5.3175]) tensor([ 0.1461, -0.5195], grad_fn=<CatBackward0>)\n",
      "torch.Size([50, 1])\n",
      "torch.Size([50, 1])\n",
      "59 tensor(13.4709, grad_fn=<MseLossBackward0>) tensor([ 6.0385, -5.5496]) tensor([ 0.1461, -0.5195], grad_fn=<CatBackward0>)\n",
      "torch.Size([50, 1])\n",
      "torch.Size([50, 1])\n",
      "59 tensor(10.1405, grad_fn=<MseLossBackward0>) tensor([ 3.5729, -5.0062]) tensor([ 0.1461, -0.5195], grad_fn=<CatBackward0>)\n",
      "torch.Size([50, 1])\n",
      "torch.Size([50, 1])\n",
      "59 tensor(8.9303, grad_fn=<MseLossBackward0>) tensor([ 3.3576, -4.2290]) tensor([ 0.1461, -0.5195], grad_fn=<CatBackward0>)\n",
      "torch.Size([50, 1])\n",
      "torch.Size([50, 1])\n",
      "60 tensor(10.0685, grad_fn=<MseLossBackward0>) tensor([ 3.1405, -5.3175]) tensor([ 0.1461, -0.5195], grad_fn=<CatBackward0>)\n",
      "torch.Size([50, 1])\n",
      "torch.Size([50, 1])\n",
      "60 tensor(13.4709, grad_fn=<MseLossBackward0>) tensor([ 6.0385, -5.5496]) tensor([ 0.1461, -0.5195], grad_fn=<CatBackward0>)\n",
      "torch.Size([50, 1])\n",
      "torch.Size([50, 1])\n",
      "60 tensor(10.1405, grad_fn=<MseLossBackward0>) tensor([ 3.5729, -5.0062]) tensor([ 0.1461, -0.5195], grad_fn=<CatBackward0>)\n",
      "torch.Size([50, 1])\n",
      "torch.Size([50, 1])\n",
      "60 tensor(8.9303, grad_fn=<MseLossBackward0>) tensor([ 3.3576, -4.2290]) tensor([ 0.1461, -0.5195], grad_fn=<CatBackward0>)\n",
      "torch.Size([50, 1])\n",
      "torch.Size([50, 1])\n",
      "61 tensor(10.0685, grad_fn=<MseLossBackward0>) tensor([ 3.1405, -5.3175]) tensor([ 0.1461, -0.5195], grad_fn=<CatBackward0>)\n",
      "torch.Size([50, 1])\n",
      "torch.Size([50, 1])\n",
      "61 tensor(13.4709, grad_fn=<MseLossBackward0>) tensor([ 6.0385, -5.5496]) tensor([ 0.1461, -0.5195], grad_fn=<CatBackward0>)\n",
      "torch.Size([50, 1])\n",
      "torch.Size([50, 1])\n",
      "61 tensor(10.1405, grad_fn=<MseLossBackward0>) tensor([ 3.5729, -5.0062]) tensor([ 0.1461, -0.5195], grad_fn=<CatBackward0>)\n",
      "torch.Size([50, 1])\n",
      "torch.Size([50, 1])\n",
      "61 tensor(8.9303, grad_fn=<MseLossBackward0>) tensor([ 3.3576, -4.2290]) tensor([ 0.1461, -0.5195], grad_fn=<CatBackward0>)\n",
      "torch.Size([50, 1])\n",
      "torch.Size([50, 1])\n",
      "62 tensor(10.0685, grad_fn=<MseLossBackward0>) tensor([ 3.1405, -5.3175]) tensor([ 0.1461, -0.5195], grad_fn=<CatBackward0>)\n",
      "torch.Size([50, 1])\n",
      "torch.Size([50, 1])\n",
      "62 tensor(13.4709, grad_fn=<MseLossBackward0>) tensor([ 6.0385, -5.5496]) tensor([ 0.1461, -0.5195], grad_fn=<CatBackward0>)\n",
      "torch.Size([50, 1])\n",
      "torch.Size([50, 1])\n",
      "62 tensor(10.1405, grad_fn=<MseLossBackward0>) tensor([ 3.5729, -5.0062]) tensor([ 0.1461, -0.5195], grad_fn=<CatBackward0>)\n",
      "torch.Size([50, 1])\n",
      "torch.Size([50, 1])\n",
      "62 tensor(8.9303, grad_fn=<MseLossBackward0>) tensor([ 3.3576, -4.2290]) tensor([ 0.1461, -0.5195], grad_fn=<CatBackward0>)\n",
      "torch.Size([50, 1])\n",
      "torch.Size([50, 1])\n",
      "63 tensor(10.0685, grad_fn=<MseLossBackward0>) tensor([ 3.1405, -5.3175]) tensor([ 0.1461, -0.5195], grad_fn=<CatBackward0>)\n",
      "torch.Size([50, 1])\n",
      "torch.Size([50, 1])\n",
      "63 tensor(13.4709, grad_fn=<MseLossBackward0>) tensor([ 6.0385, -5.5496]) tensor([ 0.1461, -0.5195], grad_fn=<CatBackward0>)\n",
      "torch.Size([50, 1])\n",
      "torch.Size([50, 1])\n",
      "63 tensor(10.1405, grad_fn=<MseLossBackward0>) tensor([ 3.5729, -5.0062]) tensor([ 0.1461, -0.5195], grad_fn=<CatBackward0>)\n",
      "torch.Size([50, 1])\n",
      "torch.Size([50, 1])\n",
      "63 tensor(8.9303, grad_fn=<MseLossBackward0>) tensor([ 3.3576, -4.2290]) tensor([ 0.1461, -0.5195], grad_fn=<CatBackward0>)\n",
      "torch.Size([50, 1])\n",
      "torch.Size([50, 1])\n",
      "64 tensor(10.0685, grad_fn=<MseLossBackward0>) tensor([ 3.1405, -5.3175]) tensor([ 0.1461, -0.5195], grad_fn=<CatBackward0>)\n",
      "torch.Size([50, 1])\n",
      "torch.Size([50, 1])\n",
      "64 tensor(13.4709, grad_fn=<MseLossBackward0>) tensor([ 6.0385, -5.5496]) tensor([ 0.1461, -0.5195], grad_fn=<CatBackward0>)\n",
      "torch.Size([50, 1])\n",
      "torch.Size([50, 1])\n",
      "64 tensor(10.1405, grad_fn=<MseLossBackward0>) tensor([ 3.5729, -5.0062]) tensor([ 0.1461, -0.5195], grad_fn=<CatBackward0>)\n",
      "torch.Size([50, 1])\n",
      "torch.Size([50, 1])\n"
     ]
    },
    {
     "name": "stdout",
     "output_type": "stream",
     "text": [
      "64 tensor(8.9303, grad_fn=<MseLossBackward0>) tensor([ 3.3576, -4.2290]) tensor([ 0.1461, -0.5195], grad_fn=<CatBackward0>)\n",
      "torch.Size([50, 1])\n",
      "torch.Size([50, 1])\n",
      "65 tensor(10.0685, grad_fn=<MseLossBackward0>) tensor([ 3.1405, -5.3175]) tensor([ 0.1461, -0.5195], grad_fn=<CatBackward0>)\n",
      "torch.Size([50, 1])\n",
      "torch.Size([50, 1])\n",
      "65 tensor(13.4709, grad_fn=<MseLossBackward0>) tensor([ 6.0385, -5.5496]) tensor([ 0.1461, -0.5195], grad_fn=<CatBackward0>)\n",
      "torch.Size([50, 1])\n",
      "torch.Size([50, 1])\n",
      "65 tensor(10.1405, grad_fn=<MseLossBackward0>) tensor([ 3.5729, -5.0062]) tensor([ 0.1461, -0.5195], grad_fn=<CatBackward0>)\n",
      "torch.Size([50, 1])\n",
      "torch.Size([50, 1])\n",
      "65 tensor(8.9303, grad_fn=<MseLossBackward0>) tensor([ 3.3576, -4.2290]) tensor([ 0.1461, -0.5195], grad_fn=<CatBackward0>)\n",
      "torch.Size([50, 1])\n",
      "torch.Size([50, 1])\n",
      "66 tensor(10.0685, grad_fn=<MseLossBackward0>) tensor([ 3.1405, -5.3175]) tensor([ 0.1461, -0.5195], grad_fn=<CatBackward0>)\n",
      "torch.Size([50, 1])\n",
      "torch.Size([50, 1])\n",
      "66 tensor(13.4709, grad_fn=<MseLossBackward0>) tensor([ 6.0385, -5.5496]) tensor([ 0.1461, -0.5195], grad_fn=<CatBackward0>)\n",
      "torch.Size([50, 1])\n",
      "torch.Size([50, 1])\n",
      "66 tensor(10.1405, grad_fn=<MseLossBackward0>) tensor([ 3.5729, -5.0062]) tensor([ 0.1461, -0.5195], grad_fn=<CatBackward0>)\n",
      "torch.Size([50, 1])\n",
      "torch.Size([50, 1])\n",
      "66 tensor(8.9303, grad_fn=<MseLossBackward0>) tensor([ 3.3576, -4.2290]) tensor([ 0.1461, -0.5195], grad_fn=<CatBackward0>)\n",
      "torch.Size([50, 1])\n",
      "torch.Size([50, 1])\n",
      "67 tensor(10.0685, grad_fn=<MseLossBackward0>) tensor([ 3.1405, -5.3175]) tensor([ 0.1461, -0.5195], grad_fn=<CatBackward0>)\n",
      "torch.Size([50, 1])\n",
      "torch.Size([50, 1])\n",
      "67 tensor(13.4709, grad_fn=<MseLossBackward0>) tensor([ 6.0385, -5.5496]) tensor([ 0.1461, -0.5195], grad_fn=<CatBackward0>)\n",
      "torch.Size([50, 1])\n",
      "torch.Size([50, 1])\n",
      "67 tensor(10.1405, grad_fn=<MseLossBackward0>) tensor([ 3.5729, -5.0062]) tensor([ 0.1461, -0.5195], grad_fn=<CatBackward0>)\n",
      "torch.Size([50, 1])\n",
      "torch.Size([50, 1])\n",
      "67 tensor(8.9303, grad_fn=<MseLossBackward0>) tensor([ 3.3576, -4.2290]) tensor([ 0.1461, -0.5195], grad_fn=<CatBackward0>)\n",
      "torch.Size([50, 1])\n",
      "torch.Size([50, 1])\n",
      "68 tensor(10.0685, grad_fn=<MseLossBackward0>) tensor([ 3.1405, -5.3175]) tensor([ 0.1461, -0.5195], grad_fn=<CatBackward0>)\n",
      "torch.Size([50, 1])\n",
      "torch.Size([50, 1])\n",
      "68 tensor(13.4709, grad_fn=<MseLossBackward0>) tensor([ 6.0385, -5.5496]) tensor([ 0.1461, -0.5195], grad_fn=<CatBackward0>)\n",
      "torch.Size([50, 1])\n",
      "torch.Size([50, 1])\n",
      "68 tensor(10.1405, grad_fn=<MseLossBackward0>) tensor([ 3.5729, -5.0062]) tensor([ 0.1461, -0.5195], grad_fn=<CatBackward0>)\n",
      "torch.Size([50, 1])\n",
      "torch.Size([50, 1])\n",
      "68 tensor(8.9303, grad_fn=<MseLossBackward0>) tensor([ 3.3576, -4.2290]) tensor([ 0.1461, -0.5195], grad_fn=<CatBackward0>)\n",
      "torch.Size([50, 1])\n",
      "torch.Size([50, 1])\n",
      "69 tensor(10.0685, grad_fn=<MseLossBackward0>) tensor([ 3.1405, -5.3175]) tensor([ 0.1461, -0.5195], grad_fn=<CatBackward0>)\n",
      "torch.Size([50, 1])\n",
      "torch.Size([50, 1])\n",
      "69 tensor(13.4709, grad_fn=<MseLossBackward0>) tensor([ 6.0385, -5.5496]) tensor([ 0.1461, -0.5195], grad_fn=<CatBackward0>)\n",
      "torch.Size([50, 1])\n",
      "torch.Size([50, 1])\n",
      "69 tensor(10.1405, grad_fn=<MseLossBackward0>) tensor([ 3.5729, -5.0062]) tensor([ 0.1461, -0.5195], grad_fn=<CatBackward0>)\n",
      "torch.Size([50, 1])\n",
      "torch.Size([50, 1])\n",
      "69 tensor(8.9303, grad_fn=<MseLossBackward0>) tensor([ 3.3576, -4.2290]) tensor([ 0.1461, -0.5195], grad_fn=<CatBackward0>)\n",
      "torch.Size([50, 1])\n",
      "torch.Size([50, 1])\n",
      "70 tensor(10.0685, grad_fn=<MseLossBackward0>) tensor([ 3.1405, -5.3175]) tensor([ 0.1461, -0.5195], grad_fn=<CatBackward0>)\n",
      "torch.Size([50, 1])\n",
      "torch.Size([50, 1])\n",
      "70 tensor(13.4709, grad_fn=<MseLossBackward0>) tensor([ 6.0385, -5.5496]) tensor([ 0.1461, -0.5195], grad_fn=<CatBackward0>)\n",
      "torch.Size([50, 1])\n",
      "torch.Size([50, 1])\n",
      "70 tensor(10.1405, grad_fn=<MseLossBackward0>) tensor([ 3.5729, -5.0062]) tensor([ 0.1461, -0.5195], grad_fn=<CatBackward0>)\n",
      "torch.Size([50, 1])\n",
      "torch.Size([50, 1])\n",
      "70 tensor(8.9303, grad_fn=<MseLossBackward0>) tensor([ 3.3576, -4.2290]) tensor([ 0.1461, -0.5195], grad_fn=<CatBackward0>)\n",
      "torch.Size([50, 1])\n",
      "torch.Size([50, 1])\n",
      "71 tensor(10.0685, grad_fn=<MseLossBackward0>) tensor([ 3.1405, -5.3175]) tensor([ 0.1461, -0.5195], grad_fn=<CatBackward0>)\n",
      "torch.Size([50, 1])\n",
      "torch.Size([50, 1])\n",
      "71 tensor(13.4709, grad_fn=<MseLossBackward0>) tensor([ 6.0385, -5.5496]) tensor([ 0.1461, -0.5195], grad_fn=<CatBackward0>)\n",
      "torch.Size([50, 1])\n",
      "torch.Size([50, 1])\n",
      "71 tensor(10.1405, grad_fn=<MseLossBackward0>) tensor([ 3.5729, -5.0062]) tensor([ 0.1461, -0.5195], grad_fn=<CatBackward0>)\n",
      "torch.Size([50, 1])\n",
      "torch.Size([50, 1])\n",
      "71 tensor(8.9303, grad_fn=<MseLossBackward0>) tensor([ 3.3576, -4.2290]) tensor([ 0.1461, -0.5195], grad_fn=<CatBackward0>)\n",
      "torch.Size([50, 1])\n",
      "torch.Size([50, 1])\n",
      "72 tensor(10.0685, grad_fn=<MseLossBackward0>) tensor([ 3.1405, -5.3175]) tensor([ 0.1461, -0.5195], grad_fn=<CatBackward0>)\n",
      "torch.Size([50, 1])\n",
      "torch.Size([50, 1])\n",
      "72 tensor(13.4709, grad_fn=<MseLossBackward0>) tensor([ 6.0385, -5.5496]) tensor([ 0.1461, -0.5195], grad_fn=<CatBackward0>)\n",
      "torch.Size([50, 1])\n",
      "torch.Size([50, 1])\n",
      "72 tensor(10.1405, grad_fn=<MseLossBackward0>) tensor([ 3.5729, -5.0062]) tensor([ 0.1461, -0.5195], grad_fn=<CatBackward0>)\n",
      "torch.Size([50, 1])\n",
      "torch.Size([50, 1])\n",
      "72 tensor(8.9303, grad_fn=<MseLossBackward0>) tensor([ 3.3576, -4.2290]) tensor([ 0.1461, -0.5195], grad_fn=<CatBackward0>)\n",
      "torch.Size([50, 1])\n",
      "torch.Size([50, 1])\n",
      "73 tensor(10.0685, grad_fn=<MseLossBackward0>) tensor([ 3.1405, -5.3175]) tensor([ 0.1461, -0.5195], grad_fn=<CatBackward0>)\n",
      "torch.Size([50, 1])\n",
      "torch.Size([50, 1])\n",
      "73 tensor(13.4709, grad_fn=<MseLossBackward0>) tensor([ 6.0385, -5.5496]) tensor([ 0.1461, -0.5195], grad_fn=<CatBackward0>)\n",
      "torch.Size([50, 1])\n",
      "torch.Size([50, 1])\n",
      "73 tensor(10.1405, grad_fn=<MseLossBackward0>) tensor([ 3.5729, -5.0062]) tensor([ 0.1461, -0.5195], grad_fn=<CatBackward0>)\n",
      "torch.Size([50, 1])\n",
      "torch.Size([50, 1])\n",
      "73 tensor(8.9303, grad_fn=<MseLossBackward0>) tensor([ 3.3576, -4.2290]) tensor([ 0.1461, -0.5195], grad_fn=<CatBackward0>)\n",
      "torch.Size([50, 1])\n",
      "torch.Size([50, 1])\n",
      "74 tensor(10.0685, grad_fn=<MseLossBackward0>) tensor([ 3.1405, -5.3175]) tensor([ 0.1461, -0.5195], grad_fn=<CatBackward0>)\n",
      "torch.Size([50, 1])\n",
      "torch.Size([50, 1])\n",
      "74 tensor(13.4709, grad_fn=<MseLossBackward0>) tensor([ 6.0385, -5.5496]) tensor([ 0.1461, -0.5195], grad_fn=<CatBackward0>)\n",
      "torch.Size([50, 1])\n",
      "torch.Size([50, 1])\n",
      "74 tensor(10.1405, grad_fn=<MseLossBackward0>) tensor([ 3.5729, -5.0062]) tensor([ 0.1461, -0.5195], grad_fn=<CatBackward0>)\n",
      "torch.Size([50, 1])\n",
      "torch.Size([50, 1])\n",
      "74 tensor(8.9303, grad_fn=<MseLossBackward0>) tensor([ 3.3576, -4.2290]) tensor([ 0.1461, -0.5195], grad_fn=<CatBackward0>)\n",
      "torch.Size([50, 1])\n",
      "torch.Size([50, 1])\n",
      "75 tensor(10.0685, grad_fn=<MseLossBackward0>) tensor([ 3.1405, -5.3175]) tensor([ 0.1461, -0.5195], grad_fn=<CatBackward0>)\n",
      "torch.Size([50, 1])\n",
      "torch.Size([50, 1])\n",
      "75 tensor(13.4709, grad_fn=<MseLossBackward0>) tensor([ 6.0385, -5.5496]) tensor([ 0.1461, -0.5195], grad_fn=<CatBackward0>)\n",
      "torch.Size([50, 1])\n",
      "torch.Size([50, 1])\n",
      "75 tensor(10.1405, grad_fn=<MseLossBackward0>) tensor([ 3.5729, -5.0062]) tensor([ 0.1461, -0.5195], grad_fn=<CatBackward0>)\n",
      "torch.Size([50, 1])\n",
      "torch.Size([50, 1])\n",
      "75 tensor(8.9303, grad_fn=<MseLossBackward0>) tensor([ 3.3576, -4.2290]) tensor([ 0.1461, -0.5195], grad_fn=<CatBackward0>)\n",
      "torch.Size([50, 1])\n",
      "torch.Size([50, 1])\n",
      "76 tensor(10.0685, grad_fn=<MseLossBackward0>) tensor([ 3.1405, -5.3175]) tensor([ 0.1461, -0.5195], grad_fn=<CatBackward0>)\n",
      "torch.Size([50, 1])\n",
      "torch.Size([50, 1])\n",
      "76 tensor(13.4709, grad_fn=<MseLossBackward0>) tensor([ 6.0385, -5.5496]) tensor([ 0.1461, -0.5195], grad_fn=<CatBackward0>)\n",
      "torch.Size([50, 1])\n",
      "torch.Size([50, 1])\n",
      "76 tensor(10.1405, grad_fn=<MseLossBackward0>) tensor([ 3.5729, -5.0062]) tensor([ 0.1461, -0.5195], grad_fn=<CatBackward0>)\n",
      "torch.Size([50, 1])\n",
      "torch.Size([50, 1])\n",
      "76 tensor(8.9303, grad_fn=<MseLossBackward0>) tensor([ 3.3576, -4.2290]) tensor([ 0.1461, -0.5195], grad_fn=<CatBackward0>)\n",
      "torch.Size([50, 1])\n",
      "torch.Size([50, 1])\n",
      "77 tensor(10.0685, grad_fn=<MseLossBackward0>) tensor([ 3.1405, -5.3175]) tensor([ 0.1461, -0.5195], grad_fn=<CatBackward0>)\n",
      "torch.Size([50, 1])\n",
      "torch.Size([50, 1])\n",
      "77 tensor(13.4709, grad_fn=<MseLossBackward0>) tensor([ 6.0385, -5.5496]) tensor([ 0.1461, -0.5195], grad_fn=<CatBackward0>)\n",
      "torch.Size([50, 1])\n",
      "torch.Size([50, 1])\n",
      "77 tensor(10.1405, grad_fn=<MseLossBackward0>) tensor([ 3.5729, -5.0062]) tensor([ 0.1461, -0.5195], grad_fn=<CatBackward0>)\n",
      "torch.Size([50, 1])\n",
      "torch.Size([50, 1])\n",
      "77 tensor(8.9303, grad_fn=<MseLossBackward0>) tensor([ 3.3576, -4.2290]) tensor([ 0.1461, -0.5195], grad_fn=<CatBackward0>)\n",
      "torch.Size([50, 1])\n",
      "torch.Size([50, 1])\n",
      "78 tensor(10.0685, grad_fn=<MseLossBackward0>) tensor([ 3.1405, -5.3175]) tensor([ 0.1461, -0.5195], grad_fn=<CatBackward0>)\n",
      "torch.Size([50, 1])\n",
      "torch.Size([50, 1])\n",
      "78 tensor(13.4709, grad_fn=<MseLossBackward0>) tensor([ 6.0385, -5.5496]) tensor([ 0.1461, -0.5195], grad_fn=<CatBackward0>)\n",
      "torch.Size([50, 1])\n",
      "torch.Size([50, 1])\n",
      "78 tensor(10.1405, grad_fn=<MseLossBackward0>) tensor([ 3.5729, -5.0062]) tensor([ 0.1461, -0.5195], grad_fn=<CatBackward0>)\n",
      "torch.Size([50, 1])\n",
      "torch.Size([50, 1])\n",
      "78 tensor(8.9303, grad_fn=<MseLossBackward0>) tensor([ 3.3576, -4.2290]) tensor([ 0.1461, -0.5195], grad_fn=<CatBackward0>)\n",
      "torch.Size([50, 1])\n",
      "torch.Size([50, 1])\n",
      "79 tensor(10.0685, grad_fn=<MseLossBackward0>) tensor([ 3.1405, -5.3175]) tensor([ 0.1461, -0.5195], grad_fn=<CatBackward0>)\n",
      "torch.Size([50, 1])\n",
      "torch.Size([50, 1])\n",
      "79 tensor(13.4709, grad_fn=<MseLossBackward0>) tensor([ 6.0385, -5.5496]) tensor([ 0.1461, -0.5195], grad_fn=<CatBackward0>)\n",
      "torch.Size([50, 1])\n",
      "torch.Size([50, 1])\n",
      "79 tensor(10.1405, grad_fn=<MseLossBackward0>) tensor([ 3.5729, -5.0062]) tensor([ 0.1461, -0.5195], grad_fn=<CatBackward0>)\n",
      "torch.Size([50, 1])\n",
      "torch.Size([50, 1])\n",
      "79 tensor(8.9303, grad_fn=<MseLossBackward0>) tensor([ 3.3576, -4.2290]) tensor([ 0.1461, -0.5195], grad_fn=<CatBackward0>)\n",
      "torch.Size([50, 1])\n",
      "torch.Size([50, 1])\n",
      "80 tensor(10.0685, grad_fn=<MseLossBackward0>) tensor([ 3.1405, -5.3175]) tensor([ 0.1461, -0.5195], grad_fn=<CatBackward0>)\n",
      "torch.Size([50, 1])\n",
      "torch.Size([50, 1])\n",
      "80 tensor(13.4709, grad_fn=<MseLossBackward0>) tensor([ 6.0385, -5.5496]) tensor([ 0.1461, -0.5195], grad_fn=<CatBackward0>)\n",
      "torch.Size([50, 1])\n",
      "torch.Size([50, 1])\n",
      "80 tensor(10.1405, grad_fn=<MseLossBackward0>) tensor([ 3.5729, -5.0062]) tensor([ 0.1461, -0.5195], grad_fn=<CatBackward0>)\n",
      "torch.Size([50, 1])\n",
      "torch.Size([50, 1])\n",
      "80 tensor(8.9303, grad_fn=<MseLossBackward0>) tensor([ 3.3576, -4.2290]) tensor([ 0.1461, -0.5195], grad_fn=<CatBackward0>)\n",
      "torch.Size([50, 1])\n",
      "torch.Size([50, 1])\n",
      "81 tensor(10.0685, grad_fn=<MseLossBackward0>) tensor([ 3.1405, -5.3175]) tensor([ 0.1461, -0.5195], grad_fn=<CatBackward0>)\n",
      "torch.Size([50, 1])\n",
      "torch.Size([50, 1])\n",
      "81 tensor(13.4709, grad_fn=<MseLossBackward0>) tensor([ 6.0385, -5.5496]) tensor([ 0.1461, -0.5195], grad_fn=<CatBackward0>)\n",
      "torch.Size([50, 1])\n",
      "torch.Size([50, 1])\n",
      "81 tensor(10.1405, grad_fn=<MseLossBackward0>) tensor([ 3.5729, -5.0062]) tensor([ 0.1461, -0.5195], grad_fn=<CatBackward0>)\n",
      "torch.Size([50, 1])\n",
      "torch.Size([50, 1])\n",
      "81 tensor(8.9303, grad_fn=<MseLossBackward0>) tensor([ 3.3576, -4.2290]) tensor([ 0.1461, -0.5195], grad_fn=<CatBackward0>)\n",
      "torch.Size([50, 1])\n",
      "torch.Size([50, 1])\n",
      "82 tensor(10.0685, grad_fn=<MseLossBackward0>) tensor([ 3.1405, -5.3175]) tensor([ 0.1461, -0.5195], grad_fn=<CatBackward0>)\n",
      "torch.Size([50, 1])\n",
      "torch.Size([50, 1])\n",
      "82 tensor(13.4709, grad_fn=<MseLossBackward0>) tensor([ 6.0385, -5.5496]) tensor([ 0.1461, -0.5195], grad_fn=<CatBackward0>)\n",
      "torch.Size([50, 1])\n",
      "torch.Size([50, 1])\n",
      "82 tensor(10.1405, grad_fn=<MseLossBackward0>) tensor([ 3.5729, -5.0062]) tensor([ 0.1461, -0.5195], grad_fn=<CatBackward0>)\n",
      "torch.Size([50, 1])\n",
      "torch.Size([50, 1])\n",
      "82 tensor(8.9303, grad_fn=<MseLossBackward0>) tensor([ 3.3576, -4.2290]) tensor([ 0.1461, -0.5195], grad_fn=<CatBackward0>)\n",
      "torch.Size([50, 1])\n",
      "torch.Size([50, 1])\n",
      "83 tensor(10.0685, grad_fn=<MseLossBackward0>) tensor([ 3.1405, -5.3175]) tensor([ 0.1461, -0.5195], grad_fn=<CatBackward0>)\n",
      "torch.Size([50, 1])\n",
      "torch.Size([50, 1])\n",
      "83 tensor(13.4709, grad_fn=<MseLossBackward0>) tensor([ 6.0385, -5.5496]) tensor([ 0.1461, -0.5195], grad_fn=<CatBackward0>)\n",
      "torch.Size([50, 1])\n",
      "torch.Size([50, 1])\n",
      "83 tensor(10.1405, grad_fn=<MseLossBackward0>) tensor([ 3.5729, -5.0062]) tensor([ 0.1461, -0.5195], grad_fn=<CatBackward0>)\n",
      "torch.Size([50, 1])\n",
      "torch.Size([50, 1])\n",
      "83 tensor(8.9303, grad_fn=<MseLossBackward0>) tensor([ 3.3576, -4.2290]) tensor([ 0.1461, -0.5195], grad_fn=<CatBackward0>)\n",
      "torch.Size([50, 1])\n",
      "torch.Size([50, 1])\n",
      "84 tensor(10.0685, grad_fn=<MseLossBackward0>) tensor([ 3.1405, -5.3175]) tensor([ 0.1461, -0.5195], grad_fn=<CatBackward0>)\n",
      "torch.Size([50, 1])\n",
      "torch.Size([50, 1])\n",
      "84 tensor(13.4709, grad_fn=<MseLossBackward0>) tensor([ 6.0385, -5.5496]) tensor([ 0.1461, -0.5195], grad_fn=<CatBackward0>)\n",
      "torch.Size([50, 1])\n",
      "torch.Size([50, 1])\n",
      "84 tensor(10.1405, grad_fn=<MseLossBackward0>) tensor([ 3.5729, -5.0062]) tensor([ 0.1461, -0.5195], grad_fn=<CatBackward0>)\n",
      "torch.Size([50, 1])\n",
      "torch.Size([50, 1])\n",
      "84 tensor(8.9303, grad_fn=<MseLossBackward0>) tensor([ 3.3576, -4.2290]) tensor([ 0.1461, -0.5195], grad_fn=<CatBackward0>)\n",
      "torch.Size([50, 1])\n",
      "torch.Size([50, 1])\n",
      "85 tensor(10.0685, grad_fn=<MseLossBackward0>) tensor([ 3.1405, -5.3175]) tensor([ 0.1461, -0.5195], grad_fn=<CatBackward0>)\n",
      "torch.Size([50, 1])\n",
      "torch.Size([50, 1])\n",
      "85 tensor(13.4709, grad_fn=<MseLossBackward0>) tensor([ 6.0385, -5.5496]) tensor([ 0.1461, -0.5195], grad_fn=<CatBackward0>)\n",
      "torch.Size([50, 1])\n",
      "torch.Size([50, 1])\n",
      "85 tensor(10.1405, grad_fn=<MseLossBackward0>) tensor([ 3.5729, -5.0062]) tensor([ 0.1461, -0.5195], grad_fn=<CatBackward0>)\n",
      "torch.Size([50, 1])\n",
      "torch.Size([50, 1])\n",
      "85 tensor(8.9303, grad_fn=<MseLossBackward0>) tensor([ 3.3576, -4.2290]) tensor([ 0.1461, -0.5195], grad_fn=<CatBackward0>)\n",
      "torch.Size([50, 1])\n",
      "torch.Size([50, 1])\n",
      "86 tensor(10.0685, grad_fn=<MseLossBackward0>) tensor([ 3.1405, -5.3175]) tensor([ 0.1461, -0.5195], grad_fn=<CatBackward0>)\n",
      "torch.Size([50, 1])\n",
      "torch.Size([50, 1])\n",
      "86 tensor(13.4709, grad_fn=<MseLossBackward0>) tensor([ 6.0385, -5.5496]) tensor([ 0.1461, -0.5195], grad_fn=<CatBackward0>)\n",
      "torch.Size([50, 1])\n",
      "torch.Size([50, 1])\n",
      "86 tensor(10.1405, grad_fn=<MseLossBackward0>) tensor([ 3.5729, -5.0062]) tensor([ 0.1461, -0.5195], grad_fn=<CatBackward0>)\n",
      "torch.Size([50, 1])\n",
      "torch.Size([50, 1])\n",
      "86 tensor(8.9303, grad_fn=<MseLossBackward0>) tensor([ 3.3576, -4.2290]) tensor([ 0.1461, -0.5195], grad_fn=<CatBackward0>)\n",
      "torch.Size([50, 1])\n",
      "torch.Size([50, 1])\n",
      "87 tensor(10.0685, grad_fn=<MseLossBackward0>) tensor([ 3.1405, -5.3175]) tensor([ 0.1461, -0.5195], grad_fn=<CatBackward0>)\n",
      "torch.Size([50, 1])\n",
      "torch.Size([50, 1])\n",
      "87 tensor(13.4709, grad_fn=<MseLossBackward0>) tensor([ 6.0385, -5.5496]) tensor([ 0.1461, -0.5195], grad_fn=<CatBackward0>)\n",
      "torch.Size([50, 1])\n",
      "torch.Size([50, 1])\n",
      "87 tensor(10.1405, grad_fn=<MseLossBackward0>) tensor([ 3.5729, -5.0062]) tensor([ 0.1461, -0.5195], grad_fn=<CatBackward0>)\n",
      "torch.Size([50, 1])\n",
      "torch.Size([50, 1])\n",
      "87 tensor(8.9303, grad_fn=<MseLossBackward0>) tensor([ 3.3576, -4.2290]) tensor([ 0.1461, -0.5195], grad_fn=<CatBackward0>)\n",
      "torch.Size([50, 1])\n",
      "torch.Size([50, 1])\n",
      "88 tensor(10.0685, grad_fn=<MseLossBackward0>) tensor([ 3.1405, -5.3175]) tensor([ 0.1461, -0.5195], grad_fn=<CatBackward0>)\n",
      "torch.Size([50, 1])\n",
      "torch.Size([50, 1])\n",
      "88 tensor(13.4709, grad_fn=<MseLossBackward0>) tensor([ 6.0385, -5.5496]) tensor([ 0.1461, -0.5195], grad_fn=<CatBackward0>)\n",
      "torch.Size([50, 1])\n",
      "torch.Size([50, 1])\n",
      "88 tensor(10.1405, grad_fn=<MseLossBackward0>) tensor([ 3.5729, -5.0062]) tensor([ 0.1461, -0.5195], grad_fn=<CatBackward0>)\n",
      "torch.Size([50, 1])\n",
      "torch.Size([50, 1])\n",
      "88 tensor(8.9303, grad_fn=<MseLossBackward0>) tensor([ 3.3576, -4.2290]) tensor([ 0.1461, -0.5195], grad_fn=<CatBackward0>)\n",
      "torch.Size([50, 1])\n",
      "torch.Size([50, 1])\n",
      "89 tensor(10.0685, grad_fn=<MseLossBackward0>) tensor([ 3.1405, -5.3175]) tensor([ 0.1461, -0.5195], grad_fn=<CatBackward0>)\n",
      "torch.Size([50, 1])\n",
      "torch.Size([50, 1])\n",
      "89 tensor(13.4709, grad_fn=<MseLossBackward0>) tensor([ 6.0385, -5.5496]) tensor([ 0.1461, -0.5195], grad_fn=<CatBackward0>)\n",
      "torch.Size([50, 1])\n",
      "torch.Size([50, 1])\n"
     ]
    },
    {
     "name": "stdout",
     "output_type": "stream",
     "text": [
      "89 tensor(10.1405, grad_fn=<MseLossBackward0>) tensor([ 3.5729, -5.0062]) tensor([ 0.1461, -0.5195], grad_fn=<CatBackward0>)\n",
      "torch.Size([50, 1])\n",
      "torch.Size([50, 1])\n",
      "89 tensor(8.9303, grad_fn=<MseLossBackward0>) tensor([ 3.3576, -4.2290]) tensor([ 0.1461, -0.5195], grad_fn=<CatBackward0>)\n",
      "torch.Size([50, 1])\n",
      "torch.Size([50, 1])\n",
      "90 tensor(10.0685, grad_fn=<MseLossBackward0>) tensor([ 3.1405, -5.3175]) tensor([ 0.1461, -0.5195], grad_fn=<CatBackward0>)\n",
      "torch.Size([50, 1])\n",
      "torch.Size([50, 1])\n",
      "90 tensor(13.4709, grad_fn=<MseLossBackward0>) tensor([ 6.0385, -5.5496]) tensor([ 0.1461, -0.5195], grad_fn=<CatBackward0>)\n",
      "torch.Size([50, 1])\n",
      "torch.Size([50, 1])\n",
      "90 tensor(10.1405, grad_fn=<MseLossBackward0>) tensor([ 3.5729, -5.0062]) tensor([ 0.1461, -0.5195], grad_fn=<CatBackward0>)\n",
      "torch.Size([50, 1])\n",
      "torch.Size([50, 1])\n",
      "90 tensor(8.9303, grad_fn=<MseLossBackward0>) tensor([ 3.3576, -4.2290]) tensor([ 0.1461, -0.5195], grad_fn=<CatBackward0>)\n",
      "torch.Size([50, 1])\n",
      "torch.Size([50, 1])\n",
      "91 tensor(10.0685, grad_fn=<MseLossBackward0>) tensor([ 3.1405, -5.3175]) tensor([ 0.1461, -0.5195], grad_fn=<CatBackward0>)\n",
      "torch.Size([50, 1])\n",
      "torch.Size([50, 1])\n",
      "91 tensor(13.4709, grad_fn=<MseLossBackward0>) tensor([ 6.0385, -5.5496]) tensor([ 0.1461, -0.5195], grad_fn=<CatBackward0>)\n",
      "torch.Size([50, 1])\n",
      "torch.Size([50, 1])\n",
      "91 tensor(10.1405, grad_fn=<MseLossBackward0>) tensor([ 3.5729, -5.0062]) tensor([ 0.1461, -0.5195], grad_fn=<CatBackward0>)\n",
      "torch.Size([50, 1])\n",
      "torch.Size([50, 1])\n",
      "91 tensor(8.9303, grad_fn=<MseLossBackward0>) tensor([ 3.3576, -4.2290]) tensor([ 0.1461, -0.5195], grad_fn=<CatBackward0>)\n",
      "torch.Size([50, 1])\n",
      "torch.Size([50, 1])\n",
      "92 tensor(10.0685, grad_fn=<MseLossBackward0>) tensor([ 3.1405, -5.3175]) tensor([ 0.1461, -0.5195], grad_fn=<CatBackward0>)\n",
      "torch.Size([50, 1])\n",
      "torch.Size([50, 1])\n",
      "92 tensor(13.4709, grad_fn=<MseLossBackward0>) tensor([ 6.0385, -5.5496]) tensor([ 0.1461, -0.5195], grad_fn=<CatBackward0>)\n",
      "torch.Size([50, 1])\n",
      "torch.Size([50, 1])\n",
      "92 tensor(10.1405, grad_fn=<MseLossBackward0>) tensor([ 3.5729, -5.0062]) tensor([ 0.1461, -0.5195], grad_fn=<CatBackward0>)\n",
      "torch.Size([50, 1])\n",
      "torch.Size([50, 1])\n",
      "92 tensor(8.9303, grad_fn=<MseLossBackward0>) tensor([ 3.3576, -4.2290]) tensor([ 0.1461, -0.5195], grad_fn=<CatBackward0>)\n",
      "torch.Size([50, 1])\n",
      "torch.Size([50, 1])\n",
      "93 tensor(10.0685, grad_fn=<MseLossBackward0>) tensor([ 3.1405, -5.3175]) tensor([ 0.1461, -0.5195], grad_fn=<CatBackward0>)\n",
      "torch.Size([50, 1])\n",
      "torch.Size([50, 1])\n",
      "93 tensor(13.4709, grad_fn=<MseLossBackward0>) tensor([ 6.0385, -5.5496]) tensor([ 0.1461, -0.5195], grad_fn=<CatBackward0>)\n",
      "torch.Size([50, 1])\n",
      "torch.Size([50, 1])\n",
      "93 tensor(10.1405, grad_fn=<MseLossBackward0>) tensor([ 3.5729, -5.0062]) tensor([ 0.1461, -0.5195], grad_fn=<CatBackward0>)\n",
      "torch.Size([50, 1])\n",
      "torch.Size([50, 1])\n",
      "93 tensor(8.9303, grad_fn=<MseLossBackward0>) tensor([ 3.3576, -4.2290]) tensor([ 0.1461, -0.5195], grad_fn=<CatBackward0>)\n",
      "torch.Size([50, 1])\n",
      "torch.Size([50, 1])\n",
      "94 tensor(10.0685, grad_fn=<MseLossBackward0>) tensor([ 3.1405, -5.3175]) tensor([ 0.1461, -0.5195], grad_fn=<CatBackward0>)\n",
      "torch.Size([50, 1])\n",
      "torch.Size([50, 1])\n",
      "94 tensor(13.4709, grad_fn=<MseLossBackward0>) tensor([ 6.0385, -5.5496]) tensor([ 0.1461, -0.5195], grad_fn=<CatBackward0>)\n",
      "torch.Size([50, 1])\n",
      "torch.Size([50, 1])\n",
      "94 tensor(10.1405, grad_fn=<MseLossBackward0>) tensor([ 3.5729, -5.0062]) tensor([ 0.1461, -0.5195], grad_fn=<CatBackward0>)\n",
      "torch.Size([50, 1])\n",
      "torch.Size([50, 1])\n",
      "94 tensor(8.9303, grad_fn=<MseLossBackward0>) tensor([ 3.3576, -4.2290]) tensor([ 0.1461, -0.5195], grad_fn=<CatBackward0>)\n",
      "torch.Size([50, 1])\n",
      "torch.Size([50, 1])\n",
      "95 tensor(10.0685, grad_fn=<MseLossBackward0>) tensor([ 3.1405, -5.3175]) tensor([ 0.1461, -0.5195], grad_fn=<CatBackward0>)\n",
      "torch.Size([50, 1])\n",
      "torch.Size([50, 1])\n",
      "95 tensor(13.4709, grad_fn=<MseLossBackward0>) tensor([ 6.0385, -5.5496]) tensor([ 0.1461, -0.5195], grad_fn=<CatBackward0>)\n",
      "torch.Size([50, 1])\n",
      "torch.Size([50, 1])\n",
      "95 tensor(10.1405, grad_fn=<MseLossBackward0>) tensor([ 3.5729, -5.0062]) tensor([ 0.1461, -0.5195], grad_fn=<CatBackward0>)\n",
      "torch.Size([50, 1])\n",
      "torch.Size([50, 1])\n",
      "95 tensor(8.9303, grad_fn=<MseLossBackward0>) tensor([ 3.3576, -4.2290]) tensor([ 0.1461, -0.5195], grad_fn=<CatBackward0>)\n",
      "torch.Size([50, 1])\n",
      "torch.Size([50, 1])\n",
      "96 tensor(10.0685, grad_fn=<MseLossBackward0>) tensor([ 3.1405, -5.3175]) tensor([ 0.1461, -0.5195], grad_fn=<CatBackward0>)\n",
      "torch.Size([50, 1])\n",
      "torch.Size([50, 1])\n",
      "96 tensor(13.4709, grad_fn=<MseLossBackward0>) tensor([ 6.0385, -5.5496]) tensor([ 0.1461, -0.5195], grad_fn=<CatBackward0>)\n",
      "torch.Size([50, 1])\n",
      "torch.Size([50, 1])\n",
      "96 tensor(10.1405, grad_fn=<MseLossBackward0>) tensor([ 3.5729, -5.0062]) tensor([ 0.1461, -0.5195], grad_fn=<CatBackward0>)\n",
      "torch.Size([50, 1])\n",
      "torch.Size([50, 1])\n",
      "96 tensor(8.9303, grad_fn=<MseLossBackward0>) tensor([ 3.3576, -4.2290]) tensor([ 0.1461, -0.5195], grad_fn=<CatBackward0>)\n",
      "torch.Size([50, 1])\n",
      "torch.Size([50, 1])\n",
      "97 tensor(10.0685, grad_fn=<MseLossBackward0>) tensor([ 3.1405, -5.3175]) tensor([ 0.1461, -0.5195], grad_fn=<CatBackward0>)\n",
      "torch.Size([50, 1])\n",
      "torch.Size([50, 1])\n",
      "97 tensor(13.4709, grad_fn=<MseLossBackward0>) tensor([ 6.0385, -5.5496]) tensor([ 0.1461, -0.5195], grad_fn=<CatBackward0>)\n",
      "torch.Size([50, 1])\n",
      "torch.Size([50, 1])\n",
      "97 tensor(10.1405, grad_fn=<MseLossBackward0>) tensor([ 3.5729, -5.0062]) tensor([ 0.1461, -0.5195], grad_fn=<CatBackward0>)\n",
      "torch.Size([50, 1])\n",
      "torch.Size([50, 1])\n",
      "97 tensor(8.9303, grad_fn=<MseLossBackward0>) tensor([ 3.3576, -4.2290]) tensor([ 0.1461, -0.5195], grad_fn=<CatBackward0>)\n",
      "torch.Size([50, 1])\n",
      "torch.Size([50, 1])\n",
      "98 tensor(10.0685, grad_fn=<MseLossBackward0>) tensor([ 3.1405, -5.3175]) tensor([ 0.1461, -0.5195], grad_fn=<CatBackward0>)\n",
      "torch.Size([50, 1])\n",
      "torch.Size([50, 1])\n",
      "98 tensor(13.4709, grad_fn=<MseLossBackward0>) tensor([ 6.0385, -5.5496]) tensor([ 0.1461, -0.5195], grad_fn=<CatBackward0>)\n",
      "torch.Size([50, 1])\n",
      "torch.Size([50, 1])\n",
      "98 tensor(10.1405, grad_fn=<MseLossBackward0>) tensor([ 3.5729, -5.0062]) tensor([ 0.1461, -0.5195], grad_fn=<CatBackward0>)\n",
      "torch.Size([50, 1])\n",
      "torch.Size([50, 1])\n",
      "98 tensor(8.9303, grad_fn=<MseLossBackward0>) tensor([ 3.3576, -4.2290]) tensor([ 0.1461, -0.5195], grad_fn=<CatBackward0>)\n",
      "torch.Size([50, 1])\n",
      "torch.Size([50, 1])\n",
      "99 tensor(10.0685, grad_fn=<MseLossBackward0>) tensor([ 3.1405, -5.3175]) tensor([ 0.1461, -0.5195], grad_fn=<CatBackward0>)\n",
      "torch.Size([50, 1])\n",
      "torch.Size([50, 1])\n",
      "99 tensor(13.4709, grad_fn=<MseLossBackward0>) tensor([ 6.0385, -5.5496]) tensor([ 0.1461, -0.5195], grad_fn=<CatBackward0>)\n",
      "torch.Size([50, 1])\n",
      "torch.Size([50, 1])\n",
      "99 tensor(10.1405, grad_fn=<MseLossBackward0>) tensor([ 3.5729, -5.0062]) tensor([ 0.1461, -0.5195], grad_fn=<CatBackward0>)\n",
      "torch.Size([50, 1])\n",
      "torch.Size([50, 1])\n",
      "99 tensor(8.9303, grad_fn=<MseLossBackward0>) tensor([ 3.3576, -4.2290]) tensor([ 0.1461, -0.5195], grad_fn=<CatBackward0>)\n"
     ]
    }
   ],
   "source": [
    "model = MLP_Net(user_id=0)\n",
    "\n",
    "lr = 0.01\n",
    "\n",
    "dataloader = DataLoader(MyDataset(datapoints[19][\"features\"], datapoints[19][\"label\"]), batch_size=50, shuffle=False)\n",
    "optimizer = torch.optim.SGD(model.parameters(), lr=0.01)\n",
    "for i in range(100):\n",
    "    for (x, y) in dataloader:\n",
    "        criterion = nn.MSELoss()\n",
    "        optimizer.zero_grad()\n",
    "        yhat = model(x)\n",
    "        print(y.size())\n",
    "        print(yhat.size())\n",
    "        loss = criterion(yhat, y)\n",
    "        \n",
    "        loss.backward()\n",
    "        print(i, loss, grads_to_vector(model.parameters()), parameters_to_vector(model.parameters()))\n",
    "        #optimizer.step()\n",
    "        #new_model = parameters_to_vector(model.parameters()) - lr * grads_to_vector(model.parameters())\n",
    "        #vector_to_parameters(parameters=model.parameters(), vec=new_model)\n",
    "        #if i % 50 ==0:\n",
    "            #lr *= 0.9\n",
    "            \n",
    "\n",
    "#parameters_to_vector(model.parameters())"
   ]
  },
  {
   "cell_type": "code",
   "execution_count": 11,
   "id": "5eb22da2",
   "metadata": {},
   "outputs": [
    {
     "data": {
      "text/plain": [
       "tensor([ 0.1461, -0.5195], grad_fn=<CatBackward0>)"
      ]
     },
     "execution_count": 11,
     "metadata": {},
     "output_type": "execute_result"
    }
   ],
   "source": [
    "parameters_to_vector(model.parameters())"
   ]
  },
  {
   "cell_type": "code",
   "execution_count": 12,
   "id": "52396ca6",
   "metadata": {},
   "outputs": [],
   "source": [
    "class CNN_Net(nn.Module):\n",
    "    def __init__(self):\n",
    "        super(CNN_Net, self).__init__()\n",
    "        self.conv1 = nn.Conv2d(1, 32, kernel_size=5)\n",
    "        self.conv2 = nn.Conv2d(32, 64, kernel_size=5)\n",
    "        self.pool = nn.MaxPool2d(2,2)\n",
    "        self.dropout = nn.Dropout(p=0.2)\n",
    "        self.fc1 = nn.Linear(1024, 512)\n",
    "        self.fc2 = nn.Linear(512, 10)\n",
    "\n",
    "    def forward(self, x):\n",
    "        x = self.pool(F.relu(self.conv1(x)))\n",
    "        x = self.pool(F.relu(self.conv2(x)))\n",
    "        x = self.dropout(x)\n",
    "        x = torch.flatten(x, 1)\n",
    "        x = F.relu(self.fc1(x))\n",
    "        output = self.fc2(x)\n",
    "        return output"
   ]
  },
  {
   "cell_type": "code",
   "execution_count": 13,
   "id": "cb5fe42b",
   "metadata": {},
   "outputs": [],
   "source": [
    "class ClientUpdate(object):\n",
    "    def __init__(self, dataset, batchSize, alpha, lamda, epochs, projection_list, projected_weights):\n",
    "        self.train_loader = DataLoader(MyDataset(dataset[\"features\"], dataset[\"label\"]), batch_size=batchSize, shuffle=True)\n",
    "        #self.learning_rate = learning_rate\n",
    "        self.epochs = epochs\n",
    "        self.batchSize = batchSize\n",
    "\n",
    "    def train(self, model):\n",
    "        criterion = nn.MSELoss()\n",
    "        optimizer = torch.optim.SGD(model.parameters(), lr=1e-3\n",
    "                                   )\n",
    "\n",
    "        e_loss = []\n",
    "        for epoch in range(1, self.epochs+1):\n",
    "            train_loss = 0\n",
    "            model.train()\n",
    "            for i, (data, labels) in zip(range(1), self.train_loader):\n",
    "                data, labels = data, labels\n",
    "                optimizer.zero_grad() \n",
    "                output = model(data)  \n",
    "                loss = criterion(output, labels)\n",
    "                #loss += mu/2 * torch.norm(client_param.data - server_param.data)**2\n",
    "                loss.backward()\n",
    "                #grads = grads_to_vector(model.parameters())\n",
    "                optimizer.step()\n",
    "                train_loss += loss.item()*data.size(0)\n",
    "                \n",
    "                \n",
    "\n",
    "            train_loss = train_loss/self.batchSize#len(self.train_loader.dataset) \n",
    "            e_loss.append(train_loss)\n",
    "\n",
    "        total_loss = e_loss#sum(e_loss)/len(e_loss)\n",
    "\n",
    "        return model.state_dict(), total_loss"
   ]
  },
  {
   "cell_type": "code",
   "execution_count": 14,
   "id": "2eeef5b5",
   "metadata": {},
   "outputs": [],
   "source": [
    "# Preparing projection matrices\n",
    "models = [MLP_Net(user_id=i) for i in range(no_users)]\n",
    "#temp = MLP_Net()\n",
    "projection_list = []\n",
    "projected_weights = []\n",
    "\n",
    "def update_ProjWeight(projection_list, projected_weights, first_run=True):\n",
    "    #projected_weights = []\n",
    "    for i in range(no_users):\n",
    "        neighbors_mat = []\n",
    "        neighbors_weights = []\n",
    "        for j in range(no_users):\n",
    "            if j in G.neighbors(i):\n",
    "                with torch.no_grad():\n",
    "                    if first_run == True:\n",
    "                        row, column = parameters_to_vector(models[j].parameters()).size()[0], parameters_to_vector(models[i].parameters()).size()[0]\n",
    "                        mat = torch.zeros((row, column))\n",
    "                        mat.fill_diagonal_(1.0 + 1.0 * float(np.random.randn(1)))\n",
    "                        neighbors_mat.append(mat)\n",
    "                        neighbors_weights.append(torch.matmul(mat, parameters_to_vector(models[j].parameters())))\n",
    "                    else:\n",
    "                        neighbors_weights.append(torch.matmul(projection_list[j][i], parameters_to_vector(models[j].parameters())))\n",
    "            else:\n",
    "                neighbors_mat.append(0)\n",
    "                neighbors_weights.append(0)\n",
    "        if first_run == True:\n",
    "            projection_list.append(neighbors_mat)\n",
    "        projected_weights.append(neighbors_weights)\n",
    "\n",
    "update_ProjWeight(projection_list, projected_weights)\n",
    "\n"
   ]
  },
  {
   "cell_type": "code",
   "execution_count": 15,
   "id": "8a69ce43",
   "metadata": {},
   "outputs": [
    {
     "name": "stdout",
     "output_type": "stream",
     "text": [
      "[0, tensor([[1.9496, 0.0000],\n",
      "        [0.0000, 1.9496]]), tensor([[2.2088, 0.0000],\n",
      "        [0.0000, 2.2088]]), tensor([[2.8698, 0.0000],\n",
      "        [0.0000, 2.8698]]), 0, tensor([[-0.2043,  0.0000],\n",
      "        [ 0.0000, -0.2043]]), 0, tensor([[1.3879, 0.0000],\n",
      "        [0.0000, 1.3879]]), tensor([[1.6394, 0.0000],\n",
      "        [0.0000, 1.6394]]), 0, 0, 0, 0, 0, 0, 0, 0, 0, 0, 0]\n"
     ]
    }
   ],
   "source": [
    "print(projection_list[0])"
   ]
  },
  {
   "cell_type": "code",
   "execution_count": 16,
   "id": "5f6059eb",
   "metadata": {},
   "outputs": [],
   "source": [
    "def testing(model, dataset, bs, criterion): \n",
    "    test_loss = 0\n",
    "    correct = 0\n",
    "    test_loader = DataLoader(MyDataset(dataset[\"features\"], dataset[\"label\"]), batch_size=bs)\n",
    "    l = len(test_loader)\n",
    "    model.eval()\n",
    "    for data, labels in test_loader:\n",
    "        data, labels = data, labels\n",
    "        output = model(data)\n",
    "        loss = criterion(output, labels)\n",
    "        test_loss += loss.item()*data.size(0)\n",
    "        #_, pred = torch.max(output, 1)\n",
    "        #correct += pred.eq(labels.data.view_as(pred)).sum().item()\n",
    "    \n",
    "    test_loss /= len(test_loader.dataset)\n",
    "    \n",
    "    return test_loss"
   ]
  },
  {
   "cell_type": "code",
   "execution_count": null,
   "id": "1c5a8c93",
   "metadata": {},
   "outputs": [],
   "source": []
  },
  {
   "cell_type": "code",
   "execution_count": 17,
   "id": "a5a25e6d",
   "metadata": {},
   "outputs": [],
   "source": [
    "def rel_error(model):\n",
    "    return (torch.norm(parameters_to_vector(model.parameters()) - datapoints[model.user_id]['exact_weights']) / torch.norm(datapoints[model.user_id]['exact_weights'])).detach()"
   ]
  },
  {
   "cell_type": "code",
   "execution_count": 18,
   "id": "1d1a33e3",
   "metadata": {},
   "outputs": [
    {
     "name": "stdout",
     "output_type": "stream",
     "text": [
      "tensor([-0.3734, -0.0847])\n"
     ]
    },
    {
     "data": {
      "text/plain": [
       "tensor([-0.7467, -0.1693], grad_fn=<CatBackward0>)"
      ]
     },
     "execution_count": 18,
     "metadata": {},
     "output_type": "execute_result"
    }
   ],
   "source": [
    "model = MLP_Net(user_id=0)\n",
    "\n",
    "from torch.nn.utils import parameters_to_vector, vector_to_parameters\n",
    "\n",
    "with torch.no_grad():    \n",
    "    params = parameters_to_vector(model.parameters())\n",
    "\n",
    "    print(params)\n",
    "\n",
    "params *= 2.\n",
    "\n",
    "vector_to_parameters(parameters=model.parameters(), vec=params)\n",
    "\n",
    "parameters_to_vector(model.parameters())\n",
    "\n",
    "\n",
    "\n"
   ]
  },
  {
   "cell_type": "code",
   "execution_count": 19,
   "id": "71472693",
   "metadata": {},
   "outputs": [
    {
     "name": "stderr",
     "output_type": "stream",
     "text": [
      "\r",
      "  0%|          | 0/2000 [00:00<?, ?it/s]"
     ]
    },
    {
     "name": "stdout",
     "output_type": "stream",
     "text": [
      "Training_loss 5.02884,   Relative Error 0.81000\n"
     ]
    },
    {
     "name": "stderr",
     "output_type": "stream",
     "text": [
      "\r",
      "  0%|          | 2/2000 [00:00<01:57, 17.00it/s]"
     ]
    },
    {
     "name": "stdout",
     "output_type": "stream",
     "text": [
      "Training_loss 5.01384,   Relative Error 0.80876\n"
     ]
    },
    {
     "name": "stderr",
     "output_type": "stream",
     "text": [
      "\r",
      "  0%|          | 4/2000 [00:00<02:19, 14.29it/s]"
     ]
    },
    {
     "name": "stdout",
     "output_type": "stream",
     "text": [
      "Training_loss 5.01210,   Relative Error 0.80861\n",
      "Training_loss 5.00302,   Relative Error 0.80784\n",
      "Training_loss 4.99392,   Relative Error 0.80709\n"
     ]
    },
    {
     "name": "stderr",
     "output_type": "stream",
     "text": [
      "\r",
      "  0%|          | 6/2000 [00:00<02:28, 13.43it/s]"
     ]
    },
    {
     "name": "stdout",
     "output_type": "stream",
     "text": [
      "Training_loss 4.99247,   Relative Error 0.80696\n",
      "Training_loss 4.98720,   Relative Error 0.80651\n"
     ]
    },
    {
     "name": "stderr",
     "output_type": "stream",
     "text": [
      "\r",
      "  0%|          | 8/2000 [00:00<02:18, 14.36it/s]"
     ]
    },
    {
     "name": "stdout",
     "output_type": "stream",
     "text": [
      "Training_loss 4.98755,   Relative Error 0.80653\n",
      "Training_loss 4.97776,   Relative Error 0.80573\n"
     ]
    },
    {
     "name": "stderr",
     "output_type": "stream",
     "text": [
      "\r",
      "  0%|          | 10/2000 [00:00<02:10, 15.23it/s]"
     ]
    },
    {
     "name": "stdout",
     "output_type": "stream",
     "text": [
      "Training_loss 4.96582,   Relative Error 0.80475\n",
      "Training_loss 4.95581,   Relative Error 0.80391\n"
     ]
    },
    {
     "name": "stderr",
     "output_type": "stream",
     "text": [
      "\r",
      "  1%|          | 12/2000 [00:00<02:07, 15.56it/s]"
     ]
    },
    {
     "name": "stdout",
     "output_type": "stream",
     "text": [
      "Training_loss 4.95214,   Relative Error 0.80360\n",
      "Training_loss 4.94855,   Relative Error 0.80329\n"
     ]
    },
    {
     "name": "stderr",
     "output_type": "stream",
     "text": [
      "\r",
      "  1%|          | 14/2000 [00:00<02:07, 15.64it/s]"
     ]
    },
    {
     "name": "stdout",
     "output_type": "stream",
     "text": [
      "Training_loss 4.94212,   Relative Error 0.80274\n",
      "Training_loss 4.92938,   Relative Error 0.80169\n"
     ]
    },
    {
     "name": "stderr",
     "output_type": "stream",
     "text": [
      "\r",
      "  1%|          | 16/2000 [00:01<02:18, 14.31it/s]"
     ]
    },
    {
     "name": "stdout",
     "output_type": "stream",
     "text": [
      "Training_loss 4.91974,   Relative Error 0.80089\n"
     ]
    },
    {
     "name": "stderr",
     "output_type": "stream",
     "text": [
      "\r",
      "  1%|          | 18/2000 [00:01<02:18, 14.26it/s]"
     ]
    },
    {
     "name": "stdout",
     "output_type": "stream",
     "text": [
      "Training_loss 4.91603,   Relative Error 0.80058\n",
      "Training_loss 4.90204,   Relative Error 0.79943\n",
      "Training_loss 4.89553,   Relative Error 0.79887\n"
     ]
    },
    {
     "name": "stderr",
     "output_type": "stream",
     "text": [
      "\r",
      "  1%|          | 20/2000 [00:01<02:15, 14.57it/s]"
     ]
    },
    {
     "name": "stdout",
     "output_type": "stream",
     "text": [
      "Training_loss 4.88579,   Relative Error 0.79806\n"
     ]
    },
    {
     "name": "stderr",
     "output_type": "stream",
     "text": [
      "\r",
      "  1%|          | 22/2000 [00:01<02:31, 13.05it/s]"
     ]
    },
    {
     "name": "stdout",
     "output_type": "stream",
     "text": [
      "Training_loss 4.87621,   Relative Error 0.79728\n",
      "Training_loss 4.87260,   Relative Error 0.79697\n"
     ]
    },
    {
     "name": "stderr",
     "output_type": "stream",
     "text": [
      "\r",
      "  1%|          | 24/2000 [00:01<03:29,  9.43it/s]"
     ]
    },
    {
     "name": "stdout",
     "output_type": "stream",
     "text": [
      "Training_loss 4.86110,   Relative Error 0.79600\n",
      "Training_loss 4.85654,   Relative Error 0.79562\n"
     ]
    },
    {
     "name": "stderr",
     "output_type": "stream",
     "text": [
      "\r",
      "  1%|▏         | 26/2000 [00:02<03:40,  8.94it/s]"
     ]
    },
    {
     "name": "stdout",
     "output_type": "stream",
     "text": [
      "Training_loss 4.84636,   Relative Error 0.79477\n",
      "Training_loss 4.84065,   Relative Error 0.79428\n"
     ]
    },
    {
     "name": "stderr",
     "output_type": "stream",
     "text": [
      "\r",
      "  1%|▏         | 28/2000 [00:02<03:43,  8.82it/s]"
     ]
    },
    {
     "name": "stdout",
     "output_type": "stream",
     "text": [
      "Training_loss 4.83554,   Relative Error 0.79384\n",
      "Training_loss 4.83085,   Relative Error 0.79344\n"
     ]
    },
    {
     "name": "stderr",
     "output_type": "stream",
     "text": [
      "  2%|▏         | 30/2000 [00:02<04:18,  7.62it/s]"
     ]
    },
    {
     "name": "stdout",
     "output_type": "stream",
     "text": [
      "Training_loss 4.82063,   Relative Error 0.79259\n",
      "Training_loss 4.81512,   Relative Error 0.79213\n"
     ]
    },
    {
     "name": "stderr",
     "output_type": "stream",
     "text": [
      "  2%|▏         | 32/2000 [00:02<03:56,  8.32it/s]"
     ]
    },
    {
     "name": "stdout",
     "output_type": "stream",
     "text": [
      "Training_loss 4.80575,   Relative Error 0.79135\n",
      "Training_loss 4.79070,   Relative Error 0.79008\n"
     ]
    },
    {
     "name": "stderr",
     "output_type": "stream",
     "text": [
      "  2%|▏         | 34/2000 [00:03<04:03,  8.06it/s]"
     ]
    },
    {
     "name": "stdout",
     "output_type": "stream",
     "text": [
      "Training_loss 4.78261,   Relative Error 0.78941\n",
      "Training_loss 4.77104,   Relative Error 0.78845\n",
      "Training_loss 4.76038,   Relative Error 0.78757\n"
     ]
    },
    {
     "name": "stderr",
     "output_type": "stream",
     "text": [
      "  2%|▏         | 37/2000 [00:03<04:01,  8.12it/s]"
     ]
    },
    {
     "name": "stdout",
     "output_type": "stream",
     "text": [
      "Training_loss 4.75527,   Relative Error 0.78714\n",
      "Training_loss 4.74327,   Relative Error 0.78614\n"
     ]
    },
    {
     "name": "stderr",
     "output_type": "stream",
     "text": [
      "  2%|▏         | 39/2000 [00:03<03:55,  8.32it/s]"
     ]
    },
    {
     "name": "stdout",
     "output_type": "stream",
     "text": [
      "Training_loss 4.73831,   Relative Error 0.78572\n",
      "Training_loss 4.72766,   Relative Error 0.78482\n"
     ]
    },
    {
     "name": "stderr",
     "output_type": "stream",
     "text": [
      "  2%|▏         | 41/2000 [00:04<04:03,  8.04it/s]"
     ]
    },
    {
     "name": "stdout",
     "output_type": "stream",
     "text": [
      "Training_loss 4.71685,   Relative Error 0.78390\n",
      "Training_loss 4.70768,   Relative Error 0.78313\n"
     ]
    },
    {
     "name": "stderr",
     "output_type": "stream",
     "text": [
      "\r",
      "  2%|▏         | 43/2000 [00:04<03:44,  8.73it/s]"
     ]
    },
    {
     "name": "stdout",
     "output_type": "stream",
     "text": [
      "Training_loss 4.69742,   Relative Error 0.78226\n",
      "Training_loss 4.69086,   Relative Error 0.78169\n",
      "Training_loss 4.67777,   Relative Error 0.78060\n"
     ]
    },
    {
     "name": "stderr",
     "output_type": "stream",
     "text": [
      "  2%|▏         | 47/2000 [00:04<02:53, 11.24it/s]"
     ]
    },
    {
     "name": "stdout",
     "output_type": "stream",
     "text": [
      "Training_loss 4.66358,   Relative Error 0.77939\n",
      "Training_loss 4.65365,   Relative Error 0.77855\n",
      "Training_loss 4.63733,   Relative Error 0.77719\n"
     ]
    },
    {
     "name": "stderr",
     "output_type": "stream",
     "text": [
      "\r",
      "  2%|▏         | 49/2000 [00:04<02:57, 10.96it/s]"
     ]
    },
    {
     "name": "stdout",
     "output_type": "stream",
     "text": [
      "Training_loss 4.63239,   Relative Error 0.77675\n",
      "Training_loss 4.62416,   Relative Error 0.77605\n"
     ]
    },
    {
     "name": "stderr",
     "output_type": "stream",
     "text": [
      "\r",
      "  3%|▎         | 51/2000 [00:05<03:44,  8.66it/s]"
     ]
    },
    {
     "name": "stdout",
     "output_type": "stream",
     "text": [
      "Training_loss 4.61124,   Relative Error 0.77494\n",
      "Training_loss 4.59268,   Relative Error 0.77337\n"
     ]
    },
    {
     "name": "stderr",
     "output_type": "stream",
     "text": [
      "  3%|▎         | 53/2000 [00:05<03:57,  8.20it/s]"
     ]
    },
    {
     "name": "stdout",
     "output_type": "stream",
     "text": [
      "Training_loss 4.58032,   Relative Error 0.77232\n",
      "Training_loss 4.56968,   Relative Error 0.77142\n"
     ]
    },
    {
     "name": "stderr",
     "output_type": "stream",
     "text": [
      "  3%|▎         | 55/2000 [00:05<03:59,  8.11it/s]"
     ]
    },
    {
     "name": "stdout",
     "output_type": "stream",
     "text": [
      "Training_loss 4.56264,   Relative Error 0.77082\n",
      "Training_loss 4.55092,   Relative Error 0.76983\n"
     ]
    },
    {
     "name": "stderr",
     "output_type": "stream",
     "text": [
      "  3%|▎         | 57/2000 [00:05<04:07,  7.85it/s]"
     ]
    },
    {
     "name": "stdout",
     "output_type": "stream",
     "text": [
      "Training_loss 4.54651,   Relative Error 0.76945\n",
      "Training_loss 4.53210,   Relative Error 0.76822\n",
      "Training_loss 4.52261,   Relative Error 0.76742\n"
     ]
    },
    {
     "name": "stderr",
     "output_type": "stream",
     "text": [
      "  3%|▎         | 60/2000 [00:06<03:27,  9.34it/s]"
     ]
    },
    {
     "name": "stdout",
     "output_type": "stream",
     "text": [
      "Training_loss 4.51850,   Relative Error 0.76707\n",
      "Training_loss 4.50761,   Relative Error 0.76614\n",
      "Training_loss 4.49586,   Relative Error 0.76512\n"
     ]
    },
    {
     "name": "stderr",
     "output_type": "stream",
     "text": [
      "  3%|▎         | 64/2000 [00:06<03:03, 10.58it/s]"
     ]
    },
    {
     "name": "stdout",
     "output_type": "stream",
     "text": [
      "Training_loss 4.48755,   Relative Error 0.76440\n",
      "Training_loss 4.47637,   Relative Error 0.76343\n",
      "Training_loss 4.46680,   Relative Error 0.76261\n"
     ]
    },
    {
     "name": "stderr",
     "output_type": "stream",
     "text": [
      "\r",
      "  3%|▎         | 66/2000 [00:06<02:50, 11.36it/s]"
     ]
    },
    {
     "name": "stdout",
     "output_type": "stream",
     "text": [
      "Training_loss 4.45344,   Relative Error 0.76146\n",
      "Training_loss 4.44243,   Relative Error 0.76051\n",
      "Training_loss 4.42621,   Relative Error 0.75912\n"
     ]
    },
    {
     "name": "stderr",
     "output_type": "stream",
     "text": [
      "  4%|▎         | 70/2000 [00:06<02:45, 11.69it/s]"
     ]
    },
    {
     "name": "stdout",
     "output_type": "stream",
     "text": [
      "Training_loss 4.40939,   Relative Error 0.75769\n",
      "Training_loss 4.40271,   Relative Error 0.75712\n",
      "Training_loss 4.39310,   Relative Error 0.75629\n"
     ]
    },
    {
     "name": "stderr",
     "output_type": "stream",
     "text": [
      "  4%|▎         | 74/2000 [00:07<02:32, 12.63it/s]"
     ]
    },
    {
     "name": "stdout",
     "output_type": "stream",
     "text": [
      "Training_loss 4.37842,   Relative Error 0.75499\n",
      "Training_loss 4.36780,   Relative Error 0.75406\n",
      "Training_loss 4.35508,   Relative Error 0.75295\n",
      "Training_loss 4.34295,   Relative Error 0.75189\n"
     ]
    },
    {
     "name": "stderr",
     "output_type": "stream",
     "text": [
      "  4%|▍         | 78/2000 [00:07<02:19, 13.74it/s]"
     ]
    },
    {
     "name": "stdout",
     "output_type": "stream",
     "text": [
      "Training_loss 4.33594,   Relative Error 0.75127\n",
      "Training_loss 4.33293,   Relative Error 0.75101\n",
      "Training_loss 4.32004,   Relative Error 0.74989\n",
      "Training_loss 4.30647,   Relative Error 0.74870\n"
     ]
    },
    {
     "name": "stderr",
     "output_type": "stream",
     "text": [
      "\r",
      "  4%|▍         | 80/2000 [00:07<02:22, 13.49it/s]"
     ]
    },
    {
     "name": "stdout",
     "output_type": "stream",
     "text": [
      "Training_loss 4.29070,   Relative Error 0.74732\n",
      "Training_loss 4.28022,   Relative Error 0.74639\n",
      "Training_loss 4.27128,   Relative Error 0.74560\n"
     ]
    },
    {
     "name": "stderr",
     "output_type": "stream",
     "text": [
      "\r",
      "  4%|▍         | 82/2000 [00:07<02:49, 11.31it/s]"
     ]
    },
    {
     "name": "stdout",
     "output_type": "stream",
     "text": [
      "Training_loss 4.25287,   Relative Error 0.74399\n",
      "Training_loss 4.24904,   Relative Error 0.74365\n"
     ]
    },
    {
     "name": "stderr",
     "output_type": "stream",
     "text": [
      "  4%|▍         | 86/2000 [00:08<03:13,  9.90it/s]"
     ]
    },
    {
     "name": "stdout",
     "output_type": "stream",
     "text": [
      "Training_loss 4.24063,   Relative Error 0.74293\n",
      "Training_loss 4.22195,   Relative Error 0.74127\n",
      "Training_loss 4.20914,   Relative Error 0.74013\n"
     ]
    },
    {
     "name": "stderr",
     "output_type": "stream",
     "text": [
      "\r",
      "  4%|▍         | 88/2000 [00:08<02:55, 10.91it/s]"
     ]
    },
    {
     "name": "stdout",
     "output_type": "stream",
     "text": [
      "Training_loss 4.20055,   Relative Error 0.73936\n",
      "Training_loss 4.19269,   Relative Error 0.73866\n",
      "Training_loss 4.18207,   Relative Error 0.73772\n"
     ]
    },
    {
     "name": "stderr",
     "output_type": "stream",
     "text": [
      "  5%|▍         | 92/2000 [00:08<02:28, 12.87it/s]"
     ]
    },
    {
     "name": "stdout",
     "output_type": "stream",
     "text": [
      "Training_loss 4.16524,   Relative Error 0.73621\n",
      "Training_loss 4.14908,   Relative Error 0.73476\n",
      "Training_loss 4.13255,   Relative Error 0.73329\n",
      "Training_loss 4.12290,   Relative Error 0.73243\n"
     ]
    },
    {
     "name": "stderr",
     "output_type": "stream",
     "text": [
      "  5%|▍         | 96/2000 [00:09<02:20, 13.56it/s]"
     ]
    },
    {
     "name": "stdout",
     "output_type": "stream",
     "text": [
      "Training_loss 4.10728,   Relative Error 0.73104\n",
      "Training_loss 4.09396,   Relative Error 0.72985\n",
      "Training_loss 4.08650,   Relative Error 0.72918\n",
      "Training_loss 4.07365,   Relative Error 0.72804\n"
     ]
    },
    {
     "name": "stderr",
     "output_type": "stream",
     "text": [
      "  5%|▌         | 100/2000 [00:09<02:18, 13.67it/s]"
     ]
    },
    {
     "name": "stdout",
     "output_type": "stream",
     "text": [
      "Training_loss 4.06097,   Relative Error 0.72691\n",
      "Training_loss 4.04705,   Relative Error 0.72565\n",
      "Training_loss 4.03570,   Relative Error 0.72463\n"
     ]
    },
    {
     "name": "stderr",
     "output_type": "stream",
     "text": [
      "  5%|▌         | 104/2000 [00:09<02:14, 14.13it/s]"
     ]
    },
    {
     "name": "stdout",
     "output_type": "stream",
     "text": [
      "Training_loss 4.01646,   Relative Error 0.72289\n",
      "Training_loss 3.99567,   Relative Error 0.72102\n",
      "Training_loss 3.98659,   Relative Error 0.72021\n",
      "Training_loss 3.97807,   Relative Error 0.71945\n"
     ]
    },
    {
     "name": "stderr",
     "output_type": "stream",
     "text": [
      "\r",
      "  5%|▌         | 106/2000 [00:09<02:09, 14.59it/s]"
     ]
    },
    {
     "name": "stdout",
     "output_type": "stream",
     "text": [
      "Training_loss 3.96854,   Relative Error 0.71859\n",
      "Training_loss 3.95286,   Relative Error 0.71715\n",
      "Training_loss 3.94001,   Relative Error 0.71596\n"
     ]
    },
    {
     "name": "stderr",
     "output_type": "stream",
     "text": [
      "  6%|▌         | 110/2000 [00:10<02:14, 14.07it/s]"
     ]
    },
    {
     "name": "stdout",
     "output_type": "stream",
     "text": [
      "Training_loss 3.93675,   Relative Error 0.71567\n",
      "Training_loss 3.92117,   Relative Error 0.71424\n",
      "Training_loss 3.91285,   Relative Error 0.71349\n",
      "Training_loss 3.90725,   Relative Error 0.71296\n"
     ]
    },
    {
     "name": "stderr",
     "output_type": "stream",
     "text": [
      "  6%|▌         | 114/2000 [00:10<02:08, 14.66it/s]"
     ]
    },
    {
     "name": "stdout",
     "output_type": "stream",
     "text": [
      "Training_loss 3.89213,   Relative Error 0.71158\n",
      "Training_loss 3.88419,   Relative Error 0.71084\n",
      "Training_loss 3.88019,   Relative Error 0.71047\n"
     ]
    },
    {
     "name": "stderr",
     "output_type": "stream",
     "text": [
      "\r",
      "  6%|▌         | 116/2000 [00:10<02:16, 13.81it/s]"
     ]
    },
    {
     "name": "stdout",
     "output_type": "stream",
     "text": [
      "Training_loss 3.86726,   Relative Error 0.70929\n",
      "Training_loss 3.84678,   Relative Error 0.70740\n",
      "Training_loss 3.83515,   Relative Error 0.70633\n"
     ]
    },
    {
     "name": "stderr",
     "output_type": "stream",
     "text": [
      "  6%|▌         | 120/2000 [00:10<02:13, 14.12it/s]"
     ]
    },
    {
     "name": "stdout",
     "output_type": "stream",
     "text": [
      "Training_loss 3.81945,   Relative Error 0.70487\n",
      "Training_loss 3.81070,   Relative Error 0.70405\n",
      "Training_loss 3.80022,   Relative Error 0.70308\n"
     ]
    },
    {
     "name": "stderr",
     "output_type": "stream",
     "text": [
      "\r",
      "  6%|▌         | 122/2000 [00:10<02:20, 13.33it/s]"
     ]
    },
    {
     "name": "stdout",
     "output_type": "stream",
     "text": [
      "Training_loss 3.79215,   Relative Error 0.70233\n",
      "Training_loss 3.77512,   Relative Error 0.70075\n",
      "Training_loss 3.76414,   Relative Error 0.69972\n"
     ]
    },
    {
     "name": "stderr",
     "output_type": "stream",
     "text": [
      "  6%|▋         | 126/2000 [00:11<02:22, 13.15it/s]"
     ]
    },
    {
     "name": "stdout",
     "output_type": "stream",
     "text": [
      "Training_loss 3.75587,   Relative Error 0.69896\n",
      "Training_loss 3.74876,   Relative Error 0.69830\n",
      "Training_loss 3.74297,   Relative Error 0.69776\n"
     ]
    },
    {
     "name": "stderr",
     "output_type": "stream",
     "text": [
      "\r",
      "  6%|▋         | 128/2000 [00:11<02:23, 13.01it/s]"
     ]
    },
    {
     "name": "stdout",
     "output_type": "stream",
     "text": [
      "Training_loss 3.73282,   Relative Error 0.69681\n",
      "Training_loss 3.72365,   Relative Error 0.69594\n",
      "Training_loss 3.71449,   Relative Error 0.69507\n"
     ]
    },
    {
     "name": "stderr",
     "output_type": "stream",
     "text": [
      "  7%|▋         | 132/2000 [00:11<02:39, 11.72it/s]"
     ]
    },
    {
     "name": "stdout",
     "output_type": "stream",
     "text": [
      "Training_loss 3.70331,   Relative Error 0.69402\n",
      "Training_loss 3.69042,   Relative Error 0.69281\n",
      "Training_loss 3.67668,   Relative Error 0.69152\n"
     ]
    },
    {
     "name": "stderr",
     "output_type": "stream",
     "text": [
      "\r",
      "  7%|▋         | 134/2000 [00:11<02:46, 11.21it/s]"
     ]
    },
    {
     "name": "stdout",
     "output_type": "stream",
     "text": [
      "Training_loss 3.66685,   Relative Error 0.69060\n",
      "Training_loss 3.65262,   Relative Error 0.68927\n"
     ]
    },
    {
     "name": "stderr",
     "output_type": "stream",
     "text": [
      "\r",
      "  7%|▋         | 136/2000 [00:12<02:53, 10.74it/s]"
     ]
    },
    {
     "name": "stdout",
     "output_type": "stream",
     "text": [
      "Training_loss 3.64386,   Relative Error 0.68842\n",
      "Training_loss 3.63309,   Relative Error 0.68740\n",
      "Training_loss 3.62925,   Relative Error 0.68702\n"
     ]
    },
    {
     "name": "stderr",
     "output_type": "stream",
     "text": [
      "\r",
      "  7%|▋         | 138/2000 [00:12<03:11,  9.72it/s]"
     ]
    },
    {
     "name": "stdout",
     "output_type": "stream",
     "text": [
      "Training_loss 3.61337,   Relative Error 0.68550\n",
      "Training_loss 3.60317,   Relative Error 0.68454\n"
     ]
    },
    {
     "name": "stderr",
     "output_type": "stream",
     "text": [
      "\r",
      "  7%|▋         | 140/2000 [00:12<04:13,  7.35it/s]"
     ]
    },
    {
     "name": "stdout",
     "output_type": "stream",
     "text": [
      "Training_loss 3.60035,   Relative Error 0.68426\n"
     ]
    },
    {
     "name": "stderr",
     "output_type": "stream",
     "text": [
      "  7%|▋         | 142/2000 [00:13<04:53,  6.33it/s]"
     ]
    },
    {
     "name": "stdout",
     "output_type": "stream",
     "text": [
      "Training_loss 3.58400,   Relative Error 0.68270\n",
      "Training_loss 3.57916,   Relative Error 0.68225\n"
     ]
    },
    {
     "name": "stderr",
     "output_type": "stream",
     "text": [
      "  7%|▋         | 144/2000 [00:13<05:31,  5.60it/s]"
     ]
    },
    {
     "name": "stdout",
     "output_type": "stream",
     "text": [
      "Training_loss 3.56231,   Relative Error 0.68064\n",
      "Training_loss 3.55051,   Relative Error 0.67953\n"
     ]
    },
    {
     "name": "stderr",
     "output_type": "stream",
     "text": [
      "\r",
      "  7%|▋         | 145/2000 [00:13<06:02,  5.11it/s]"
     ]
    },
    {
     "name": "stdout",
     "output_type": "stream",
     "text": [
      "Training_loss 3.53410,   Relative Error 0.67795\n"
     ]
    },
    {
     "name": "stderr",
     "output_type": "stream",
     "text": [
      "\r",
      "  7%|▋         | 146/2000 [00:14<07:29,  4.13it/s]"
     ]
    },
    {
     "name": "stdout",
     "output_type": "stream",
     "text": [
      "Training_loss 3.52087,   Relative Error 0.67668\n"
     ]
    },
    {
     "name": "stderr",
     "output_type": "stream",
     "text": [
      "\r",
      "  7%|▋         | 147/2000 [00:14<07:54,  3.90it/s]"
     ]
    },
    {
     "name": "stdout",
     "output_type": "stream",
     "text": [
      "Training_loss 3.50933,   Relative Error 0.67556\n"
     ]
    },
    {
     "name": "stderr",
     "output_type": "stream",
     "text": [
      "\r",
      "  7%|▋         | 148/2000 [00:14<08:07,  3.80it/s]"
     ]
    },
    {
     "name": "stdout",
     "output_type": "stream",
     "text": [
      "Training_loss 3.49692,   Relative Error 0.67435\n"
     ]
    },
    {
     "name": "stderr",
     "output_type": "stream",
     "text": [
      "  8%|▊         | 150/2000 [00:15<07:45,  3.98it/s]"
     ]
    },
    {
     "name": "stdout",
     "output_type": "stream",
     "text": [
      "Training_loss 3.48538,   Relative Error 0.67324\n",
      "Training_loss 3.46718,   Relative Error 0.67145\n"
     ]
    },
    {
     "name": "stderr",
     "output_type": "stream",
     "text": [
      "\r",
      "  8%|▊         | 151/2000 [00:15<07:22,  4.18it/s]"
     ]
    },
    {
     "name": "stdout",
     "output_type": "stream",
     "text": [
      "Training_loss 3.45707,   Relative Error 0.67047\n"
     ]
    },
    {
     "name": "stderr",
     "output_type": "stream",
     "text": [
      "\r",
      "  8%|▊         | 152/2000 [00:15<07:11,  4.28it/s]"
     ]
    },
    {
     "name": "stdout",
     "output_type": "stream",
     "text": [
      "Training_loss 3.44105,   Relative Error 0.66890\n"
     ]
    },
    {
     "name": "stderr",
     "output_type": "stream",
     "text": [
      "\r",
      "  8%|▊         | 153/2000 [00:16<07:00,  4.39it/s]"
     ]
    },
    {
     "name": "stdout",
     "output_type": "stream",
     "text": [
      "Training_loss 3.43155,   Relative Error 0.66799\n"
     ]
    },
    {
     "name": "stderr",
     "output_type": "stream",
     "text": [
      "\r",
      "  8%|▊         | 154/2000 [00:16<06:59,  4.40it/s]"
     ]
    },
    {
     "name": "stdout",
     "output_type": "stream",
     "text": [
      "Training_loss 3.42388,   Relative Error 0.66723\n"
     ]
    },
    {
     "name": "stderr",
     "output_type": "stream",
     "text": [
      "\r",
      "  8%|▊         | 155/2000 [00:16<07:09,  4.30it/s]"
     ]
    },
    {
     "name": "stdout",
     "output_type": "stream",
     "text": [
      "Training_loss 3.41301,   Relative Error 0.66617\n"
     ]
    },
    {
     "name": "stderr",
     "output_type": "stream",
     "text": [
      "\r",
      "  8%|▊         | 156/2000 [00:16<07:22,  4.16it/s]"
     ]
    },
    {
     "name": "stdout",
     "output_type": "stream",
     "text": [
      "Training_loss 3.40315,   Relative Error 0.66520\n"
     ]
    },
    {
     "name": "stderr",
     "output_type": "stream",
     "text": [
      "\r",
      "  8%|▊         | 157/2000 [00:16<07:29,  4.10it/s]"
     ]
    },
    {
     "name": "stdout",
     "output_type": "stream",
     "text": [
      "Training_loss 3.39369,   Relative Error 0.66427\n"
     ]
    },
    {
     "name": "stderr",
     "output_type": "stream",
     "text": [
      "  8%|▊         | 159/2000 [00:17<07:10,  4.27it/s]"
     ]
    },
    {
     "name": "stdout",
     "output_type": "stream",
     "text": [
      "Training_loss 3.38541,   Relative Error 0.66346\n",
      "Training_loss 3.37352,   Relative Error 0.66229\n"
     ]
    },
    {
     "name": "stderr",
     "output_type": "stream",
     "text": [
      "\r",
      "  8%|▊         | 160/2000 [00:17<07:02,  4.35it/s]"
     ]
    },
    {
     "name": "stdout",
     "output_type": "stream",
     "text": [
      "Training_loss 3.36668,   Relative Error 0.66163\n"
     ]
    },
    {
     "name": "stderr",
     "output_type": "stream",
     "text": [
      "  8%|▊         | 162/2000 [00:18<06:49,  4.49it/s]"
     ]
    },
    {
     "name": "stdout",
     "output_type": "stream",
     "text": [
      "Training_loss 3.35329,   Relative Error 0.66030\n",
      "Training_loss 3.34730,   Relative Error 0.65971\n"
     ]
    },
    {
     "name": "stderr",
     "output_type": "stream",
     "text": [
      "\r",
      "  8%|▊         | 163/2000 [00:18<06:49,  4.48it/s]"
     ]
    },
    {
     "name": "stdout",
     "output_type": "stream",
     "text": [
      "Training_loss 3.34089,   Relative Error 0.65907\n"
     ]
    },
    {
     "name": "stderr",
     "output_type": "stream",
     "text": [
      "\r",
      "  8%|▊         | 164/2000 [00:18<06:50,  4.47it/s]"
     ]
    },
    {
     "name": "stdout",
     "output_type": "stream",
     "text": [
      "Training_loss 3.33411,   Relative Error 0.65840\n"
     ]
    },
    {
     "name": "stderr",
     "output_type": "stream",
     "text": [
      "\r",
      "  8%|▊         | 165/2000 [00:18<07:00,  4.37it/s]"
     ]
    },
    {
     "name": "stdout",
     "output_type": "stream",
     "text": [
      "Training_loss 3.32407,   Relative Error 0.65742\n"
     ]
    },
    {
     "name": "stderr",
     "output_type": "stream",
     "text": [
      "\r",
      "  8%|▊         | 166/2000 [00:19<07:35,  4.02it/s]"
     ]
    },
    {
     "name": "stdout",
     "output_type": "stream",
     "text": [
      "Training_loss 3.31245,   Relative Error 0.65626\n"
     ]
    },
    {
     "name": "stderr",
     "output_type": "stream",
     "text": [
      "\r",
      "  8%|▊         | 167/2000 [00:19<07:55,  3.85it/s]"
     ]
    },
    {
     "name": "stdout",
     "output_type": "stream",
     "text": [
      "Training_loss 3.30451,   Relative Error 0.65547\n"
     ]
    },
    {
     "name": "stderr",
     "output_type": "stream",
     "text": [
      "\r",
      "  8%|▊         | 168/2000 [00:19<07:54,  3.86it/s]"
     ]
    },
    {
     "name": "stdout",
     "output_type": "stream",
     "text": [
      "Training_loss 3.29019,   Relative Error 0.65404\n"
     ]
    },
    {
     "name": "stderr",
     "output_type": "stream",
     "text": [
      "\r",
      "  8%|▊         | 169/2000 [00:19<08:29,  3.59it/s]"
     ]
    },
    {
     "name": "stdout",
     "output_type": "stream",
     "text": [
      "Training_loss 3.28096,   Relative Error 0.65312\n"
     ]
    },
    {
     "name": "stderr",
     "output_type": "stream",
     "text": [
      "  9%|▊         | 171/2000 [00:20<06:58,  4.37it/s]"
     ]
    },
    {
     "name": "stdout",
     "output_type": "stream",
     "text": [
      "Training_loss 3.27319,   Relative Error 0.65235\n",
      "Training_loss 3.26375,   Relative Error 0.65141\n"
     ]
    },
    {
     "name": "stderr",
     "output_type": "stream",
     "text": [
      "  9%|▊         | 173/2000 [00:20<06:02,  5.04it/s]"
     ]
    },
    {
     "name": "stdout",
     "output_type": "stream",
     "text": [
      "Training_loss 3.25685,   Relative Error 0.65073\n",
      "Training_loss 3.24838,   Relative Error 0.64989\n"
     ]
    },
    {
     "name": "stderr",
     "output_type": "stream",
     "text": [
      "\r",
      "  9%|▊         | 174/2000 [00:21<07:21,  4.14it/s]"
     ]
    },
    {
     "name": "stdout",
     "output_type": "stream",
     "text": [
      "Training_loss 3.23595,   Relative Error 0.64863\n"
     ]
    },
    {
     "name": "stderr",
     "output_type": "stream",
     "text": [
      "\r",
      "  9%|▉         | 175/2000 [00:21<09:32,  3.19it/s]"
     ]
    },
    {
     "name": "stdout",
     "output_type": "stream",
     "text": [
      "Training_loss 3.22504,   Relative Error 0.64753\n"
     ]
    },
    {
     "name": "stderr",
     "output_type": "stream",
     "text": [
      "\r",
      "  9%|▉         | 176/2000 [00:21<09:30,  3.20it/s]"
     ]
    },
    {
     "name": "stdout",
     "output_type": "stream",
     "text": [
      "Training_loss 3.21766,   Relative Error 0.64678\n"
     ]
    },
    {
     "name": "stderr",
     "output_type": "stream",
     "text": [
      "\r",
      "  9%|▉         | 177/2000 [00:22<09:02,  3.36it/s]"
     ]
    },
    {
     "name": "stdout",
     "output_type": "stream",
     "text": [
      "Training_loss 3.20566,   Relative Error 0.64558\n"
     ]
    },
    {
     "name": "stderr",
     "output_type": "stream",
     "text": [
      "\r",
      "  9%|▉         | 178/2000 [00:22<10:33,  2.87it/s]"
     ]
    },
    {
     "name": "stdout",
     "output_type": "stream",
     "text": [
      "Training_loss 3.19022,   Relative Error 0.64401\n"
     ]
    },
    {
     "name": "stderr",
     "output_type": "stream",
     "text": [
      "\r",
      "  9%|▉         | 179/2000 [00:22<10:26,  2.91it/s]"
     ]
    },
    {
     "name": "stdout",
     "output_type": "stream",
     "text": [
      "Training_loss 3.17808,   Relative Error 0.64280\n"
     ]
    },
    {
     "name": "stderr",
     "output_type": "stream",
     "text": [
      "\r",
      "  9%|▉         | 180/2000 [00:23<10:07,  3.00it/s]"
     ]
    },
    {
     "name": "stdout",
     "output_type": "stream",
     "text": [
      "Training_loss 3.16713,   Relative Error 0.64169\n"
     ]
    },
    {
     "name": "stderr",
     "output_type": "stream",
     "text": [
      "\r",
      "  9%|▉         | 181/2000 [00:23<10:20,  2.93it/s]"
     ]
    },
    {
     "name": "stdout",
     "output_type": "stream",
     "text": [
      "Training_loss 3.16106,   Relative Error 0.64107\n"
     ]
    },
    {
     "name": "stderr",
     "output_type": "stream",
     "text": [
      "\r",
      "  9%|▉         | 182/2000 [00:23<10:01,  3.02it/s]"
     ]
    },
    {
     "name": "stdout",
     "output_type": "stream",
     "text": [
      "Training_loss 3.15307,   Relative Error 0.64026\n"
     ]
    },
    {
     "name": "stderr",
     "output_type": "stream",
     "text": [
      "\r",
      "  9%|▉         | 183/2000 [00:24<09:50,  3.08it/s]"
     ]
    },
    {
     "name": "stdout",
     "output_type": "stream",
     "text": [
      "Training_loss 3.14199,   Relative Error 0.63914\n"
     ]
    },
    {
     "name": "stderr",
     "output_type": "stream",
     "text": [
      "\r",
      "  9%|▉         | 184/2000 [00:24<09:23,  3.22it/s]"
     ]
    },
    {
     "name": "stdout",
     "output_type": "stream",
     "text": [
      "Training_loss 3.13239,   Relative Error 0.63818\n"
     ]
    },
    {
     "name": "stderr",
     "output_type": "stream",
     "text": [
      "\r",
      "  9%|▉         | 185/2000 [00:24<09:03,  3.34it/s]"
     ]
    },
    {
     "name": "stdout",
     "output_type": "stream",
     "text": [
      "Training_loss 3.12332,   Relative Error 0.63725\n"
     ]
    },
    {
     "name": "stderr",
     "output_type": "stream",
     "text": [
      "\r",
      "  9%|▉         | 186/2000 [00:24<08:16,  3.66it/s]"
     ]
    },
    {
     "name": "stdout",
     "output_type": "stream",
     "text": [
      "Training_loss 3.11176,   Relative Error 0.63608\n"
     ]
    },
    {
     "name": "stderr",
     "output_type": "stream",
     "text": [
      "\r",
      "  9%|▉         | 187/2000 [00:25<08:11,  3.69it/s]"
     ]
    },
    {
     "name": "stdout",
     "output_type": "stream",
     "text": [
      "Training_loss 3.10150,   Relative Error 0.63504\n"
     ]
    },
    {
     "name": "stderr",
     "output_type": "stream",
     "text": [
      "\r",
      "  9%|▉         | 188/2000 [00:25<07:57,  3.80it/s]"
     ]
    },
    {
     "name": "stdout",
     "output_type": "stream",
     "text": [
      "Training_loss 3.09053,   Relative Error 0.63390\n"
     ]
    },
    {
     "name": "stderr",
     "output_type": "stream",
     "text": [
      "\r",
      "  9%|▉         | 189/2000 [00:25<07:45,  3.89it/s]"
     ]
    },
    {
     "name": "stdout",
     "output_type": "stream",
     "text": [
      "Training_loss 3.07532,   Relative Error 0.63232\n"
     ]
    },
    {
     "name": "stderr",
     "output_type": "stream",
     "text": [
      "\r",
      " 10%|▉         | 190/2000 [00:25<08:20,  3.62it/s]"
     ]
    },
    {
     "name": "stdout",
     "output_type": "stream",
     "text": [
      "Training_loss 3.06842,   Relative Error 0.63160\n"
     ]
    },
    {
     "name": "stderr",
     "output_type": "stream",
     "text": [
      "\r",
      " 10%|▉         | 191/2000 [00:26<08:26,  3.57it/s]"
     ]
    },
    {
     "name": "stdout",
     "output_type": "stream",
     "text": [
      "Training_loss 3.05956,   Relative Error 0.63068\n"
     ]
    },
    {
     "name": "stderr",
     "output_type": "stream",
     "text": [
      "\r",
      " 10%|▉         | 192/2000 [00:26<08:00,  3.76it/s]"
     ]
    },
    {
     "name": "stdout",
     "output_type": "stream",
     "text": [
      "Training_loss 3.05574,   Relative Error 0.63028\n"
     ]
    },
    {
     "name": "stderr",
     "output_type": "stream",
     "text": [
      "\r",
      " 10%|▉         | 193/2000 [00:26<08:01,  3.75it/s]"
     ]
    },
    {
     "name": "stdout",
     "output_type": "stream",
     "text": [
      "Training_loss 3.04613,   Relative Error 0.62929\n"
     ]
    },
    {
     "name": "stderr",
     "output_type": "stream",
     "text": [
      "\r",
      " 10%|▉         | 194/2000 [00:27<07:49,  3.85it/s]"
     ]
    },
    {
     "name": "stdout",
     "output_type": "stream",
     "text": [
      "Training_loss 3.03604,   Relative Error 0.62825\n"
     ]
    },
    {
     "name": "stderr",
     "output_type": "stream",
     "text": [
      "\r",
      " 10%|▉         | 195/2000 [00:27<07:42,  3.90it/s]"
     ]
    },
    {
     "name": "stdout",
     "output_type": "stream",
     "text": [
      "Training_loss 3.02967,   Relative Error 0.62758\n"
     ]
    },
    {
     "name": "stderr",
     "output_type": "stream",
     "text": [
      "\r",
      " 10%|▉         | 196/2000 [00:27<08:44,  3.44it/s]"
     ]
    },
    {
     "name": "stdout",
     "output_type": "stream",
     "text": [
      "Training_loss 3.02114,   Relative Error 0.62669\n"
     ]
    },
    {
     "name": "stderr",
     "output_type": "stream",
     "text": [
      "\r",
      " 10%|▉         | 197/2000 [00:27<09:09,  3.28it/s]"
     ]
    },
    {
     "name": "stdout",
     "output_type": "stream",
     "text": [
      "Training_loss 3.00976,   Relative Error 0.62549\n"
     ]
    },
    {
     "name": "stderr",
     "output_type": "stream",
     "text": [
      "\r",
      " 10%|▉         | 198/2000 [00:28<09:25,  3.19it/s]"
     ]
    },
    {
     "name": "stdout",
     "output_type": "stream",
     "text": [
      "Training_loss 3.00073,   Relative Error 0.62456\n"
     ]
    },
    {
     "name": "stderr",
     "output_type": "stream",
     "text": [
      "\r",
      " 10%|▉         | 199/2000 [00:28<10:02,  2.99it/s]"
     ]
    },
    {
     "name": "stdout",
     "output_type": "stream",
     "text": [
      "Training_loss 2.98923,   Relative Error 0.62338\n"
     ]
    },
    {
     "name": "stderr",
     "output_type": "stream",
     "text": [
      "\r",
      " 10%|█         | 200/2000 [00:29<10:25,  2.88it/s]"
     ]
    },
    {
     "name": "stdout",
     "output_type": "stream",
     "text": [
      "Training_loss 2.98120,   Relative Error 0.62254\n"
     ]
    },
    {
     "name": "stderr",
     "output_type": "stream",
     "text": [
      "\r",
      " 10%|█         | 201/2000 [00:29<10:38,  2.82it/s]"
     ]
    },
    {
     "name": "stdout",
     "output_type": "stream",
     "text": [
      "Training_loss 2.97077,   Relative Error 0.62146\n"
     ]
    },
    {
     "name": "stderr",
     "output_type": "stream",
     "text": [
      "\r",
      " 10%|█         | 202/2000 [00:29<10:42,  2.80it/s]"
     ]
    },
    {
     "name": "stdout",
     "output_type": "stream",
     "text": [
      "Training_loss 2.96192,   Relative Error 0.62053\n"
     ]
    },
    {
     "name": "stderr",
     "output_type": "stream",
     "text": [
      "\r",
      " 10%|█         | 203/2000 [00:30<10:36,  2.82it/s]"
     ]
    },
    {
     "name": "stdout",
     "output_type": "stream",
     "text": [
      "Training_loss 2.95312,   Relative Error 0.61961\n"
     ]
    },
    {
     "name": "stderr",
     "output_type": "stream",
     "text": [
      "\r",
      " 10%|█         | 204/2000 [00:30<10:11,  2.94it/s]"
     ]
    },
    {
     "name": "stdout",
     "output_type": "stream",
     "text": [
      "Training_loss 2.94226,   Relative Error 0.61847\n"
     ]
    },
    {
     "name": "stderr",
     "output_type": "stream",
     "text": [
      "\r",
      " 10%|█         | 205/2000 [00:30<10:02,  2.98it/s]"
     ]
    },
    {
     "name": "stdout",
     "output_type": "stream",
     "text": [
      "Training_loss 2.93062,   Relative Error 0.61725\n"
     ]
    },
    {
     "name": "stderr",
     "output_type": "stream",
     "text": [
      "\r",
      " 10%|█         | 206/2000 [00:31<10:09,  2.94it/s]"
     ]
    },
    {
     "name": "stdout",
     "output_type": "stream",
     "text": [
      "Training_loss 2.92210,   Relative Error 0.61636\n"
     ]
    },
    {
     "name": "stderr",
     "output_type": "stream",
     "text": [
      "\r",
      " 10%|█         | 207/2000 [00:31<09:42,  3.08it/s]"
     ]
    },
    {
     "name": "stdout",
     "output_type": "stream",
     "text": [
      "Training_loss 2.91506,   Relative Error 0.61562\n"
     ]
    },
    {
     "name": "stderr",
     "output_type": "stream",
     "text": [
      "\r",
      " 10%|█         | 208/2000 [00:31<09:18,  3.21it/s]"
     ]
    },
    {
     "name": "stdout",
     "output_type": "stream",
     "text": [
      "Training_loss 2.90161,   Relative Error 0.61421\n"
     ]
    },
    {
     "name": "stderr",
     "output_type": "stream",
     "text": [
      "\r",
      " 10%|█         | 209/2000 [00:31<08:40,  3.44it/s]"
     ]
    },
    {
     "name": "stdout",
     "output_type": "stream",
     "text": [
      "Training_loss 2.89868,   Relative Error 0.61390\n"
     ]
    },
    {
     "name": "stderr",
     "output_type": "stream",
     "text": [
      " 11%|█         | 211/2000 [00:32<07:44,  3.85it/s]"
     ]
    },
    {
     "name": "stdout",
     "output_type": "stream",
     "text": [
      "Training_loss 2.88818,   Relative Error 0.61280\n",
      "Training_loss 2.88052,   Relative Error 0.61198\n"
     ]
    },
    {
     "name": "stderr",
     "output_type": "stream",
     "text": [
      "\r",
      " 11%|█         | 212/2000 [00:32<07:20,  4.06it/s]"
     ]
    },
    {
     "name": "stdout",
     "output_type": "stream",
     "text": [
      "Training_loss 2.86854,   Relative Error 0.61069\n"
     ]
    },
    {
     "name": "stderr",
     "output_type": "stream",
     "text": [
      "\r",
      " 11%|█         | 213/2000 [00:32<07:49,  3.81it/s]"
     ]
    },
    {
     "name": "stdout",
     "output_type": "stream",
     "text": [
      "Training_loss 2.86417,   Relative Error 0.61022\n"
     ]
    },
    {
     "name": "stderr",
     "output_type": "stream",
     "text": [
      "\r",
      " 11%|█         | 214/2000 [00:33<07:50,  3.80it/s]"
     ]
    },
    {
     "name": "stdout",
     "output_type": "stream",
     "text": [
      "Training_loss 2.85593,   Relative Error 0.60935\n"
     ]
    },
    {
     "name": "stderr",
     "output_type": "stream",
     "text": [
      "\r",
      " 11%|█         | 215/2000 [00:33<07:56,  3.75it/s]"
     ]
    },
    {
     "name": "stdout",
     "output_type": "stream",
     "text": [
      "Training_loss 2.84397,   Relative Error 0.60806\n"
     ]
    },
    {
     "name": "stderr",
     "output_type": "stream",
     "text": [
      "\r",
      " 11%|█         | 216/2000 [00:33<07:43,  3.85it/s]"
     ]
    },
    {
     "name": "stdout",
     "output_type": "stream",
     "text": [
      "Training_loss 2.83376,   Relative Error 0.60698\n"
     ]
    },
    {
     "name": "stderr",
     "output_type": "stream",
     "text": [
      "\r",
      " 11%|█         | 217/2000 [00:33<07:34,  3.92it/s]"
     ]
    },
    {
     "name": "stdout",
     "output_type": "stream",
     "text": [
      "Training_loss 2.82466,   Relative Error 0.60600\n"
     ]
    },
    {
     "name": "stderr",
     "output_type": "stream",
     "text": [
      "\r",
      " 11%|█         | 218/2000 [00:34<07:47,  3.81it/s]"
     ]
    },
    {
     "name": "stdout",
     "output_type": "stream",
     "text": [
      "Training_loss 2.81506,   Relative Error 0.60498\n"
     ]
    },
    {
     "name": "stderr",
     "output_type": "stream",
     "text": [
      "\r",
      " 11%|█         | 219/2000 [00:34<07:56,  3.74it/s]"
     ]
    },
    {
     "name": "stdout",
     "output_type": "stream",
     "text": [
      "Training_loss 2.80598,   Relative Error 0.60400\n"
     ]
    },
    {
     "name": "stderr",
     "output_type": "stream",
     "text": [
      "\r",
      " 11%|█         | 220/2000 [00:34<08:05,  3.66it/s]"
     ]
    },
    {
     "name": "stdout",
     "output_type": "stream",
     "text": [
      "Training_loss 2.79681,   Relative Error 0.60302\n"
     ]
    },
    {
     "name": "stderr",
     "output_type": "stream",
     "text": [
      "\r",
      " 11%|█         | 221/2000 [00:35<08:23,  3.53it/s]"
     ]
    },
    {
     "name": "stdout",
     "output_type": "stream",
     "text": [
      "Training_loss 2.78862,   Relative Error 0.60213\n"
     ]
    },
    {
     "name": "stderr",
     "output_type": "stream",
     "text": [
      "\r",
      " 11%|█         | 222/2000 [00:35<09:24,  3.15it/s]"
     ]
    },
    {
     "name": "stdout",
     "output_type": "stream",
     "text": [
      "Training_loss 2.78079,   Relative Error 0.60128\n"
     ]
    },
    {
     "name": "stderr",
     "output_type": "stream",
     "text": [
      "\r",
      " 11%|█         | 223/2000 [00:35<08:49,  3.35it/s]"
     ]
    },
    {
     "name": "stdout",
     "output_type": "stream",
     "text": [
      "Training_loss 2.77749,   Relative Error 0.60092\n"
     ]
    },
    {
     "name": "stderr",
     "output_type": "stream",
     "text": [
      "\r",
      " 11%|█         | 224/2000 [00:36<08:17,  3.57it/s]"
     ]
    },
    {
     "name": "stdout",
     "output_type": "stream",
     "text": [
      "Training_loss 2.76578,   Relative Error 0.59966\n"
     ]
    },
    {
     "name": "stderr",
     "output_type": "stream",
     "text": [
      " 11%|█▏        | 226/2000 [00:36<07:35,  3.90it/s]"
     ]
    },
    {
     "name": "stdout",
     "output_type": "stream",
     "text": [
      "Training_loss 2.75707,   Relative Error 0.59872\n",
      "Training_loss 2.74574,   Relative Error 0.59750\n"
     ]
    },
    {
     "name": "stderr",
     "output_type": "stream",
     "text": [
      " 11%|█▏        | 228/2000 [00:36<06:48,  4.34it/s]"
     ]
    },
    {
     "name": "stdout",
     "output_type": "stream",
     "text": [
      "Training_loss 2.73368,   Relative Error 0.59620\n",
      "Training_loss 2.72323,   Relative Error 0.59506\n"
     ]
    },
    {
     "name": "stderr",
     "output_type": "stream",
     "text": [
      "\r",
      " 11%|█▏        | 229/2000 [00:37<07:00,  4.21it/s]"
     ]
    },
    {
     "name": "stdout",
     "output_type": "stream",
     "text": [
      "Training_loss 2.70808,   Relative Error 0.59340\n"
     ]
    },
    {
     "name": "stderr",
     "output_type": "stream",
     "text": [
      "\r",
      " 12%|█▏        | 230/2000 [00:37<07:33,  3.90it/s]"
     ]
    },
    {
     "name": "stdout",
     "output_type": "stream",
     "text": [
      "Training_loss 2.70225,   Relative Error 0.59276\n"
     ]
    },
    {
     "name": "stderr",
     "output_type": "stream",
     "text": [
      "\r",
      " 12%|█▏        | 231/2000 [00:37<07:44,  3.81it/s]"
     ]
    },
    {
     "name": "stdout",
     "output_type": "stream",
     "text": [
      "Training_loss 2.69317,   Relative Error 0.59177\n"
     ]
    },
    {
     "name": "stderr",
     "output_type": "stream",
     "text": [
      "\r",
      " 12%|█▏        | 232/2000 [00:37<07:40,  3.84it/s]"
     ]
    },
    {
     "name": "stdout",
     "output_type": "stream",
     "text": [
      "Training_loss 2.68434,   Relative Error 0.59081\n"
     ]
    },
    {
     "name": "stderr",
     "output_type": "stream",
     "text": [
      "\r",
      " 12%|█▏        | 233/2000 [00:38<07:34,  3.89it/s]"
     ]
    },
    {
     "name": "stdout",
     "output_type": "stream",
     "text": [
      "Training_loss 2.67707,   Relative Error 0.59001\n"
     ]
    },
    {
     "name": "stderr",
     "output_type": "stream",
     "text": [
      "\r",
      " 12%|█▏        | 234/2000 [00:38<07:36,  3.87it/s]"
     ]
    },
    {
     "name": "stdout",
     "output_type": "stream",
     "text": [
      "Training_loss 2.66797,   Relative Error 0.58898\n"
     ]
    },
    {
     "name": "stderr",
     "output_type": "stream",
     "text": [
      "\r",
      " 12%|█▏        | 235/2000 [00:38<07:40,  3.84it/s]"
     ]
    },
    {
     "name": "stdout",
     "output_type": "stream",
     "text": [
      "Training_loss 2.66165,   Relative Error 0.58828\n"
     ]
    },
    {
     "name": "stderr",
     "output_type": "stream",
     "text": [
      "\r",
      " 12%|█▏        | 236/2000 [00:39<07:44,  3.80it/s]"
     ]
    },
    {
     "name": "stdout",
     "output_type": "stream",
     "text": [
      "Training_loss 2.65354,   Relative Error 0.58738\n"
     ]
    },
    {
     "name": "stderr",
     "output_type": "stream",
     "text": [
      "\r",
      " 12%|█▏        | 237/2000 [00:39<08:01,  3.66it/s]"
     ]
    },
    {
     "name": "stdout",
     "output_type": "stream",
     "text": [
      "Training_loss 2.64007,   Relative Error 0.58589\n"
     ]
    },
    {
     "name": "stderr",
     "output_type": "stream",
     "text": [
      "\r",
      " 12%|█▏        | 238/2000 [00:39<07:52,  3.73it/s]"
     ]
    },
    {
     "name": "stdout",
     "output_type": "stream",
     "text": [
      "Training_loss 2.63241,   Relative Error 0.58503\n"
     ]
    },
    {
     "name": "stderr",
     "output_type": "stream",
     "text": [
      "\r",
      " 12%|█▏        | 239/2000 [00:39<08:15,  3.55it/s]"
     ]
    },
    {
     "name": "stdout",
     "output_type": "stream",
     "text": [
      "Training_loss 2.62378,   Relative Error 0.58407\n"
     ]
    },
    {
     "name": "stderr",
     "output_type": "stream",
     "text": [
      "\r",
      " 12%|█▏        | 240/2000 [00:40<07:57,  3.68it/s]"
     ]
    },
    {
     "name": "stdout",
     "output_type": "stream",
     "text": [
      "Training_loss 2.61533,   Relative Error 0.58313\n"
     ]
    },
    {
     "name": "stderr",
     "output_type": "stream",
     "text": [
      "\r",
      " 12%|█▏        | 241/2000 [00:40<07:56,  3.69it/s]"
     ]
    },
    {
     "name": "stdout",
     "output_type": "stream",
     "text": [
      "Training_loss 2.60057,   Relative Error 0.58150\n"
     ]
    },
    {
     "name": "stderr",
     "output_type": "stream",
     "text": [
      "\r",
      " 12%|█▏        | 242/2000 [00:40<07:52,  3.72it/s]"
     ]
    },
    {
     "name": "stdout",
     "output_type": "stream",
     "text": [
      "Training_loss 2.59015,   Relative Error 0.58033\n"
     ]
    },
    {
     "name": "stderr",
     "output_type": "stream",
     "text": [
      "\r",
      " 12%|█▏        | 243/2000 [00:40<07:35,  3.86it/s]"
     ]
    },
    {
     "name": "stdout",
     "output_type": "stream",
     "text": [
      "Training_loss 2.57825,   Relative Error 0.57899\n"
     ]
    },
    {
     "name": "stderr",
     "output_type": "stream",
     "text": [
      "\r",
      " 12%|█▏        | 244/2000 [00:41<07:45,  3.77it/s]"
     ]
    },
    {
     "name": "stdout",
     "output_type": "stream",
     "text": [
      "Training_loss 2.56385,   Relative Error 0.57739\n"
     ]
    },
    {
     "name": "stderr",
     "output_type": "stream",
     "text": [
      "\r",
      " 12%|█▏        | 245/2000 [00:41<07:48,  3.75it/s]"
     ]
    },
    {
     "name": "stdout",
     "output_type": "stream",
     "text": [
      "Training_loss 2.55464,   Relative Error 0.57635\n"
     ]
    },
    {
     "name": "stderr",
     "output_type": "stream",
     "text": [
      "\r",
      " 12%|█▏        | 246/2000 [00:41<07:28,  3.91it/s]"
     ]
    },
    {
     "name": "stdout",
     "output_type": "stream",
     "text": [
      "Training_loss 2.54978,   Relative Error 0.57581\n"
     ]
    },
    {
     "name": "stderr",
     "output_type": "stream",
     "text": [
      " 12%|█▏        | 248/2000 [00:42<06:29,  4.50it/s]"
     ]
    },
    {
     "name": "stdout",
     "output_type": "stream",
     "text": [
      "Training_loss 2.54320,   Relative Error 0.57507\n",
      "Training_loss 2.53115,   Relative Error 0.57371\n"
     ]
    },
    {
     "name": "stderr",
     "output_type": "stream",
     "text": [
      " 12%|█▎        | 250/2000 [00:42<05:30,  5.30it/s]"
     ]
    },
    {
     "name": "stdout",
     "output_type": "stream",
     "text": [
      "Training_loss 2.52264,   Relative Error 0.57275\n",
      "Training_loss 2.51486,   Relative Error 0.57186\n"
     ]
    },
    {
     "name": "stderr",
     "output_type": "stream",
     "text": [
      " 13%|█▎        | 252/2000 [00:42<04:59,  5.84it/s]"
     ]
    },
    {
     "name": "stdout",
     "output_type": "stream",
     "text": [
      "Training_loss 2.50742,   Relative Error 0.57102\n",
      "Training_loss 2.49965,   Relative Error 0.57014\n"
     ]
    },
    {
     "name": "stderr",
     "output_type": "stream",
     "text": [
      " 13%|█▎        | 254/2000 [00:42<04:09,  7.00it/s]"
     ]
    },
    {
     "name": "stdout",
     "output_type": "stream",
     "text": [
      "Training_loss 2.49181,   Relative Error 0.56925\n",
      "Training_loss 2.48517,   Relative Error 0.56849\n"
     ]
    },
    {
     "name": "stderr",
     "output_type": "stream",
     "text": [
      "\r",
      " 13%|█▎        | 255/2000 [00:43<04:40,  6.22it/s]"
     ]
    },
    {
     "name": "stdout",
     "output_type": "stream",
     "text": [
      "Training_loss 2.47667,   Relative Error 0.56752\n"
     ]
    },
    {
     "name": "stderr",
     "output_type": "stream",
     "text": [
      "\r",
      " 13%|█▎        | 256/2000 [00:43<05:18,  5.48it/s]"
     ]
    },
    {
     "name": "stdout",
     "output_type": "stream",
     "text": [
      "Training_loss 2.46837,   Relative Error 0.56658\n"
     ]
    },
    {
     "name": "stderr",
     "output_type": "stream",
     "text": [
      "\r",
      " 13%|█▎        | 257/2000 [00:43<05:39,  5.13it/s]"
     ]
    },
    {
     "name": "stdout",
     "output_type": "stream",
     "text": [
      "Training_loss 2.45838,   Relative Error 0.56541\n"
     ]
    },
    {
     "name": "stderr",
     "output_type": "stream",
     "text": [
      "\r",
      " 13%|█▎        | 258/2000 [00:43<06:41,  4.33it/s]"
     ]
    },
    {
     "name": "stdout",
     "output_type": "stream",
     "text": [
      "Training_loss 2.45080,   Relative Error 0.56455\n"
     ]
    },
    {
     "name": "stderr",
     "output_type": "stream",
     "text": [
      "\r",
      " 13%|█▎        | 259/2000 [00:44<07:20,  3.96it/s]"
     ]
    },
    {
     "name": "stdout",
     "output_type": "stream",
     "text": [
      "Training_loss 2.44578,   Relative Error 0.56397\n"
     ]
    },
    {
     "name": "stderr",
     "output_type": "stream",
     "text": [
      "\r",
      " 13%|█▎        | 260/2000 [00:44<08:00,  3.62it/s]"
     ]
    },
    {
     "name": "stdout",
     "output_type": "stream",
     "text": [
      "Training_loss 2.43873,   Relative Error 0.56315\n"
     ]
    },
    {
     "name": "stderr",
     "output_type": "stream",
     "text": [
      "\r",
      " 13%|█▎        | 261/2000 [00:44<08:22,  3.46it/s]"
     ]
    },
    {
     "name": "stdout",
     "output_type": "stream",
     "text": [
      "Training_loss 2.43255,   Relative Error 0.56244\n"
     ]
    },
    {
     "name": "stderr",
     "output_type": "stream",
     "text": [
      "\r",
      " 13%|█▎        | 262/2000 [00:45<08:35,  3.37it/s]"
     ]
    },
    {
     "name": "stdout",
     "output_type": "stream",
     "text": [
      "Training_loss 2.42415,   Relative Error 0.56146\n"
     ]
    },
    {
     "name": "stderr",
     "output_type": "stream",
     "text": [
      "\r",
      " 13%|█▎        | 263/2000 [00:45<08:54,  3.25it/s]"
     ]
    },
    {
     "name": "stdout",
     "output_type": "stream",
     "text": [
      "Training_loss 2.41611,   Relative Error 0.56053\n"
     ]
    },
    {
     "name": "stderr",
     "output_type": "stream",
     "text": [
      "\r",
      " 13%|█▎        | 264/2000 [00:45<08:42,  3.32it/s]"
     ]
    },
    {
     "name": "stdout",
     "output_type": "stream",
     "text": [
      "Training_loss 2.41057,   Relative Error 0.55989\n"
     ]
    },
    {
     "name": "stderr",
     "output_type": "stream",
     "text": [
      "\r",
      " 13%|█▎        | 265/2000 [00:46<08:30,  3.40it/s]"
     ]
    },
    {
     "name": "stdout",
     "output_type": "stream",
     "text": [
      "Training_loss 2.40504,   Relative Error 0.55926\n"
     ]
    },
    {
     "name": "stderr",
     "output_type": "stream",
     "text": [
      "\r",
      " 13%|█▎        | 266/2000 [00:46<08:24,  3.43it/s]"
     ]
    },
    {
     "name": "stdout",
     "output_type": "stream",
     "text": [
      "Training_loss 2.39590,   Relative Error 0.55820\n"
     ]
    },
    {
     "name": "stderr",
     "output_type": "stream",
     "text": [
      "\r",
      " 13%|█▎        | 267/2000 [00:46<08:38,  3.34it/s]"
     ]
    },
    {
     "name": "stdout",
     "output_type": "stream",
     "text": [
      "Training_loss 2.39201,   Relative Error 0.55775\n"
     ]
    },
    {
     "name": "stderr",
     "output_type": "stream",
     "text": [
      "\r",
      " 13%|█▎        | 268/2000 [00:46<08:45,  3.29it/s]"
     ]
    },
    {
     "name": "stdout",
     "output_type": "stream",
     "text": [
      "Training_loss 2.38047,   Relative Error 0.55641\n"
     ]
    },
    {
     "name": "stderr",
     "output_type": "stream",
     "text": [
      "\r",
      " 13%|█▎        | 269/2000 [00:47<08:45,  3.29it/s]"
     ]
    },
    {
     "name": "stdout",
     "output_type": "stream",
     "text": [
      "Training_loss 2.37129,   Relative Error 0.55535\n"
     ]
    },
    {
     "name": "stderr",
     "output_type": "stream",
     "text": [
      "\r",
      " 14%|█▎        | 270/2000 [00:47<08:11,  3.52it/s]"
     ]
    },
    {
     "name": "stdout",
     "output_type": "stream",
     "text": [
      "Training_loss 2.36423,   Relative Error 0.55452\n"
     ]
    },
    {
     "name": "stderr",
     "output_type": "stream",
     "text": [
      " 14%|█▎        | 272/2000 [00:47<06:47,  4.24it/s]"
     ]
    },
    {
     "name": "stdout",
     "output_type": "stream",
     "text": [
      "Training_loss 2.35273,   Relative Error 0.55317\n",
      "Training_loss 2.34285,   Relative Error 0.55200\n"
     ]
    },
    {
     "name": "stderr",
     "output_type": "stream",
     "text": [
      " 14%|█▍        | 275/2000 [00:48<04:25,  6.49it/s]"
     ]
    },
    {
     "name": "stdout",
     "output_type": "stream",
     "text": [
      "Training_loss 2.33415,   Relative Error 0.55098\n",
      "Training_loss 2.33037,   Relative Error 0.55054\n",
      "Training_loss 2.32323,   Relative Error 0.54970\n"
     ]
    },
    {
     "name": "stderr",
     "output_type": "stream",
     "text": [
      "\r",
      " 14%|█▍        | 276/2000 [00:48<04:00,  7.18it/s]"
     ]
    },
    {
     "name": "stdout",
     "output_type": "stream",
     "text": [
      "Training_loss 2.31744,   Relative Error 0.54902\n",
      "Training_loss 2.30960,   Relative Error 0.54809\n"
     ]
    },
    {
     "name": "stderr",
     "output_type": "stream",
     "text": [
      "\r",
      " 14%|█▍        | 278/2000 [00:48<03:27,  8.28it/s]"
     ]
    },
    {
     "name": "stdout",
     "output_type": "stream",
     "text": [
      "Training_loss 2.30379,   Relative Error 0.54740\n",
      "Training_loss 2.29943,   Relative Error 0.54689\n"
     ]
    },
    {
     "name": "stderr",
     "output_type": "stream",
     "text": [
      " 14%|█▍        | 281/2000 [00:48<03:20,  8.59it/s]"
     ]
    },
    {
     "name": "stdout",
     "output_type": "stream",
     "text": [
      "Training_loss 2.29530,   Relative Error 0.54639\n",
      "Training_loss 2.28690,   Relative Error 0.54539\n"
     ]
    },
    {
     "name": "stderr",
     "output_type": "stream",
     "text": [
      " 14%|█▍        | 284/2000 [00:49<03:03,  9.33it/s]"
     ]
    },
    {
     "name": "stdout",
     "output_type": "stream",
     "text": [
      "Training_loss 2.28059,   Relative Error 0.54465\n",
      "Training_loss 2.26831,   Relative Error 0.54318\n",
      "Training_loss 2.26503,   Relative Error 0.54279\n"
     ]
    },
    {
     "name": "stderr",
     "output_type": "stream",
     "text": [
      "\r",
      " 14%|█▍        | 286/2000 [00:49<02:53,  9.86it/s]"
     ]
    },
    {
     "name": "stdout",
     "output_type": "stream",
     "text": [
      "Training_loss 2.25492,   Relative Error 0.54157\n",
      "Training_loss 2.24941,   Relative Error 0.54092\n",
      "Training_loss 2.23915,   Relative Error 0.53969\n"
     ]
    },
    {
     "name": "stderr",
     "output_type": "stream",
     "text": [
      " 14%|█▍        | 290/2000 [00:49<02:43, 10.49it/s]"
     ]
    },
    {
     "name": "stdout",
     "output_type": "stream",
     "text": [
      "Training_loss 2.23206,   Relative Error 0.53884\n",
      "Training_loss 2.22351,   Relative Error 0.53780\n",
      "Training_loss 2.22074,   Relative Error 0.53747\n"
     ]
    },
    {
     "name": "stderr",
     "output_type": "stream",
     "text": [
      "\r",
      " 15%|█▍        | 292/2000 [00:49<02:42, 10.51it/s]"
     ]
    },
    {
     "name": "stdout",
     "output_type": "stream",
     "text": [
      "Training_loss 2.21440,   Relative Error 0.53670\n",
      "Training_loss 2.20483,   Relative Error 0.53554\n",
      "Training_loss 2.20085,   Relative Error 0.53506\n"
     ]
    },
    {
     "name": "stderr",
     "output_type": "stream",
     "text": [
      " 15%|█▍        | 296/2000 [00:50<02:34, 11.05it/s]"
     ]
    },
    {
     "name": "stdout",
     "output_type": "stream",
     "text": [
      "Training_loss 2.19618,   Relative Error 0.53449\n",
      "Training_loss 2.18950,   Relative Error 0.53368\n",
      "Training_loss 2.18060,   Relative Error 0.53260\n"
     ]
    },
    {
     "name": "stderr",
     "output_type": "stream",
     "text": [
      "\r",
      " 15%|█▍        | 298/2000 [00:50<02:33, 11.10it/s]"
     ]
    },
    {
     "name": "stdout",
     "output_type": "stream",
     "text": [
      "Training_loss 2.17365,   Relative Error 0.53175\n",
      "Training_loss 2.16466,   Relative Error 0.53064\n",
      "Training_loss 2.15667,   Relative Error 0.52965\n"
     ]
    },
    {
     "name": "stderr",
     "output_type": "stream",
     "text": [
      " 15%|█▌        | 302/2000 [00:50<02:30, 11.25it/s]"
     ]
    },
    {
     "name": "stdout",
     "output_type": "stream",
     "text": [
      "Training_loss 2.15128,   Relative Error 0.52898\n",
      "Training_loss 2.14171,   Relative Error 0.52780\n",
      "Training_loss 2.13169,   Relative Error 0.52657\n"
     ]
    },
    {
     "name": "stderr",
     "output_type": "stream",
     "text": [
      "\r",
      " 15%|█▌        | 304/2000 [00:51<02:36, 10.84it/s]"
     ]
    },
    {
     "name": "stdout",
     "output_type": "stream",
     "text": [
      "Training_loss 2.12629,   Relative Error 0.52590\n",
      "Training_loss 2.11660,   Relative Error 0.52471\n",
      "Training_loss 2.10973,   Relative Error 0.52386\n"
     ]
    },
    {
     "name": "stderr",
     "output_type": "stream",
     "text": [
      " 15%|█▌        | 308/2000 [00:51<02:32, 11.13it/s]"
     ]
    },
    {
     "name": "stdout",
     "output_type": "stream",
     "text": [
      "Training_loss 2.10459,   Relative Error 0.52322\n",
      "Training_loss 2.09894,   Relative Error 0.52251\n",
      "Training_loss 2.09337,   Relative Error 0.52182\n"
     ]
    },
    {
     "name": "stderr",
     "output_type": "stream",
     "text": [
      "\r",
      " 16%|█▌        | 310/2000 [00:51<02:30, 11.24it/s]"
     ]
    },
    {
     "name": "stdout",
     "output_type": "stream",
     "text": [
      "Training_loss 2.08837,   Relative Error 0.52120\n",
      "Training_loss 2.08209,   Relative Error 0.52043\n",
      "Training_loss 2.07607,   Relative Error 0.51968\n"
     ]
    },
    {
     "name": "stderr",
     "output_type": "stream",
     "text": [
      " 16%|█▌        | 314/2000 [00:51<02:31, 11.14it/s]"
     ]
    },
    {
     "name": "stdout",
     "output_type": "stream",
     "text": [
      "Training_loss 2.06975,   Relative Error 0.51889\n",
      "Training_loss 2.06545,   Relative Error 0.51835\n",
      "Training_loss 2.05988,   Relative Error 0.51765\n"
     ]
    },
    {
     "name": "stderr",
     "output_type": "stream",
     "text": [
      "\r",
      " 16%|█▌        | 316/2000 [00:52<02:30, 11.20it/s]"
     ]
    },
    {
     "name": "stdout",
     "output_type": "stream",
     "text": [
      "Training_loss 2.05654,   Relative Error 0.51723\n",
      "Training_loss 2.05038,   Relative Error 0.51646\n",
      "Training_loss 2.04278,   Relative Error 0.51551\n"
     ]
    },
    {
     "name": "stderr",
     "output_type": "stream",
     "text": [
      " 16%|█▌        | 320/2000 [00:52<02:29, 11.25it/s]"
     ]
    },
    {
     "name": "stdout",
     "output_type": "stream",
     "text": [
      "Training_loss 2.03343,   Relative Error 0.51433\n",
      "Training_loss 2.02518,   Relative Error 0.51329\n",
      "Training_loss 2.01642,   Relative Error 0.51218\n"
     ]
    },
    {
     "name": "stderr",
     "output_type": "stream",
     "text": [
      "\r",
      " 16%|█▌        | 322/2000 [00:52<02:29, 11.21it/s]"
     ]
    },
    {
     "name": "stdout",
     "output_type": "stream",
     "text": [
      "Training_loss 2.01128,   Relative Error 0.51153\n",
      "Training_loss 2.00198,   Relative Error 0.51034\n",
      "Training_loss 1.99720,   Relative Error 0.50974\n"
     ]
    },
    {
     "name": "stderr",
     "output_type": "stream",
     "text": [
      "\r",
      " 16%|█▌        | 324/2000 [00:52<02:29, 11.22it/s]"
     ]
    },
    {
     "name": "stdout",
     "output_type": "stream",
     "text": [
      "Training_loss 1.99142,   Relative Error 0.50901\n",
      "Training_loss 1.98473,   Relative Error 0.50816\n"
     ]
    },
    {
     "name": "stderr",
     "output_type": "stream",
     "text": [
      "\r",
      " 16%|█▋        | 326/2000 [00:53<02:35, 10.75it/s]"
     ]
    },
    {
     "name": "stdout",
     "output_type": "stream",
     "text": [
      "Training_loss 1.97655,   Relative Error 0.50711\n",
      "Training_loss 1.96931,   Relative Error 0.50619\n"
     ]
    },
    {
     "name": "stderr",
     "output_type": "stream",
     "text": [
      " 16%|█▋        | 330/2000 [00:53<02:43, 10.24it/s]"
     ]
    },
    {
     "name": "stdout",
     "output_type": "stream",
     "text": [
      "Training_loss 1.96352,   Relative Error 0.50544\n",
      "Training_loss 1.95888,   Relative Error 0.50484\n",
      "Training_loss 1.94965,   Relative Error 0.50367\n"
     ]
    },
    {
     "name": "stderr",
     "output_type": "stream",
     "text": [
      "\r",
      " 17%|█▋        | 332/2000 [00:53<02:38, 10.53it/s]"
     ]
    },
    {
     "name": "stdout",
     "output_type": "stream",
     "text": [
      "Training_loss 1.94622,   Relative Error 0.50323\n",
      "Training_loss 1.93619,   Relative Error 0.50192\n",
      "Training_loss 1.92879,   Relative Error 0.50096\n"
     ]
    },
    {
     "name": "stderr",
     "output_type": "stream",
     "text": [
      " 17%|█▋        | 336/2000 [00:53<02:31, 10.96it/s]"
     ]
    },
    {
     "name": "stdout",
     "output_type": "stream",
     "text": [
      "Training_loss 1.92103,   Relative Error 0.49996\n",
      "Training_loss 1.91442,   Relative Error 0.49910\n",
      "Training_loss 1.90769,   Relative Error 0.49822\n"
     ]
    },
    {
     "name": "stderr",
     "output_type": "stream",
     "text": [
      "\r",
      " 17%|█▋        | 338/2000 [00:54<02:34, 10.74it/s]"
     ]
    },
    {
     "name": "stdout",
     "output_type": "stream",
     "text": [
      "Training_loss 1.90132,   Relative Error 0.49739\n",
      "Training_loss 1.89521,   Relative Error 0.49660\n",
      "Training_loss 1.88728,   Relative Error 0.49556\n"
     ]
    },
    {
     "name": "stderr",
     "output_type": "stream",
     "text": [
      " 17%|█▋        | 342/2000 [00:54<02:32, 10.88it/s]"
     ]
    },
    {
     "name": "stdout",
     "output_type": "stream",
     "text": [
      "Training_loss 1.88023,   Relative Error 0.49464\n",
      "Training_loss 1.87651,   Relative Error 0.49416\n",
      "Training_loss 1.86826,   Relative Error 0.49306\n"
     ]
    },
    {
     "name": "stderr",
     "output_type": "stream",
     "text": [
      "\r",
      " 17%|█▋        | 344/2000 [00:54<02:29, 11.08it/s]"
     ]
    },
    {
     "name": "stdout",
     "output_type": "stream",
     "text": [
      "Training_loss 1.86240,   Relative Error 0.49229\n",
      "Training_loss 1.85553,   Relative Error 0.49139\n",
      "Training_loss 1.84771,   Relative Error 0.49036\n"
     ]
    },
    {
     "name": "stderr",
     "output_type": "stream",
     "text": [
      " 17%|█▋        | 348/2000 [00:55<02:28, 11.11it/s]"
     ]
    },
    {
     "name": "stdout",
     "output_type": "stream",
     "text": [
      "Training_loss 1.84254,   Relative Error 0.48968\n",
      "Training_loss 1.83569,   Relative Error 0.48876\n",
      "Training_loss 1.82648,   Relative Error 0.48753\n"
     ]
    },
    {
     "name": "stderr",
     "output_type": "stream",
     "text": [
      "\r",
      " 18%|█▊        | 350/2000 [00:55<02:40, 10.25it/s]"
     ]
    },
    {
     "name": "stdout",
     "output_type": "stream",
     "text": [
      "Training_loss 1.81797,   Relative Error 0.48640\n",
      "Training_loss 1.81043,   Relative Error 0.48539\n",
      "Training_loss 1.80184,   Relative Error 0.48423\n"
     ]
    },
    {
     "name": "stderr",
     "output_type": "stream",
     "text": [
      " 18%|█▊        | 354/2000 [00:55<02:33, 10.74it/s]"
     ]
    },
    {
     "name": "stdout",
     "output_type": "stream",
     "text": [
      "Training_loss 1.79143,   Relative Error 0.48284\n",
      "Training_loss 1.78497,   Relative Error 0.48197\n",
      "Training_loss 1.78275,   Relative Error 0.48167\n"
     ]
    },
    {
     "name": "stderr",
     "output_type": "stream",
     "text": [
      "\r",
      " 18%|█▊        | 356/2000 [00:55<02:32, 10.78it/s]"
     ]
    },
    {
     "name": "stdout",
     "output_type": "stream",
     "text": [
      "Training_loss 1.77827,   Relative Error 0.48107\n",
      "Training_loss 1.77395,   Relative Error 0.48048\n",
      "Training_loss 1.76621,   Relative Error 0.47942\n"
     ]
    },
    {
     "name": "stderr",
     "output_type": "stream",
     "text": [
      "\r",
      " 18%|█▊        | 358/2000 [00:55<02:31, 10.86it/s]"
     ]
    },
    {
     "name": "stdout",
     "output_type": "stream",
     "text": [
      "Training_loss 1.76051,   Relative Error 0.47864\n",
      "Training_loss 1.75537,   Relative Error 0.47794\n"
     ]
    },
    {
     "name": "stderr",
     "output_type": "stream",
     "text": [
      " 18%|█▊        | 362/2000 [00:56<02:32, 10.77it/s]"
     ]
    },
    {
     "name": "stdout",
     "output_type": "stream",
     "text": [
      "Training_loss 1.74779,   Relative Error 0.47692\n",
      "Training_loss 1.74512,   Relative Error 0.47655\n",
      "Training_loss 1.73915,   Relative Error 0.47574\n"
     ]
    },
    {
     "name": "stderr",
     "output_type": "stream",
     "text": [
      "\r",
      " 18%|█▊        | 364/2000 [00:56<02:28, 10.99it/s]"
     ]
    },
    {
     "name": "stdout",
     "output_type": "stream",
     "text": [
      "Training_loss 1.73218,   Relative Error 0.47479\n",
      "Training_loss 1.72885,   Relative Error 0.47434\n",
      "Training_loss 1.72461,   Relative Error 0.47376\n"
     ]
    },
    {
     "name": "stderr",
     "output_type": "stream",
     "text": [
      " 18%|█▊        | 368/2000 [00:56<02:27, 11.09it/s]"
     ]
    },
    {
     "name": "stdout",
     "output_type": "stream",
     "text": [
      "Training_loss 1.71524,   Relative Error 0.47247\n",
      "Training_loss 1.70766,   Relative Error 0.47142\n",
      "Training_loss 1.69861,   Relative Error 0.47017\n"
     ]
    },
    {
     "name": "stderr",
     "output_type": "stream",
     "text": [
      "\r",
      " 18%|█▊        | 370/2000 [00:57<02:31, 10.74it/s]"
     ]
    },
    {
     "name": "stdout",
     "output_type": "stream",
     "text": [
      "Training_loss 1.69064,   Relative Error 0.46907\n",
      "Training_loss 1.68638,   Relative Error 0.46847\n"
     ]
    },
    {
     "name": "stderr",
     "output_type": "stream",
     "text": [
      "\r",
      " 19%|█▊        | 372/2000 [00:57<02:45,  9.85it/s]"
     ]
    },
    {
     "name": "stdout",
     "output_type": "stream",
     "text": [
      "Training_loss 1.68069,   Relative Error 0.46768\n",
      "Training_loss 1.67564,   Relative Error 0.46699\n"
     ]
    },
    {
     "name": "stderr",
     "output_type": "stream",
     "text": [
      "\r",
      " 19%|█▊        | 374/2000 [00:57<02:42, 10.02it/s]"
     ]
    },
    {
     "name": "stdout",
     "output_type": "stream",
     "text": [
      "Training_loss 1.66919,   Relative Error 0.46610\n",
      "Training_loss 1.66563,   Relative Error 0.46560\n",
      "Training_loss 1.66089,   Relative Error 0.46494\n"
     ]
    },
    {
     "name": "stderr",
     "output_type": "stream",
     "text": [
      " 19%|█▉        | 378/2000 [00:57<02:34, 10.52it/s]"
     ]
    },
    {
     "name": "stdout",
     "output_type": "stream",
     "text": [
      "Training_loss 1.65538,   Relative Error 0.46417\n",
      "Training_loss 1.64763,   Relative Error 0.46309\n",
      "Training_loss 1.64237,   Relative Error 0.46235\n"
     ]
    },
    {
     "name": "stderr",
     "output_type": "stream",
     "text": [
      "\r",
      " 19%|█▉        | 380/2000 [00:58<02:33, 10.53it/s]"
     ]
    },
    {
     "name": "stdout",
     "output_type": "stream",
     "text": [
      "Training_loss 1.63245,   Relative Error 0.46095\n",
      "Training_loss 1.62392,   Relative Error 0.45975\n",
      "Training_loss 1.61903,   Relative Error 0.45905\n"
     ]
    },
    {
     "name": "stderr",
     "output_type": "stream",
     "text": [
      " 19%|█▉        | 384/2000 [00:58<02:27, 10.93it/s]"
     ]
    },
    {
     "name": "stdout",
     "output_type": "stream",
     "text": [
      "Training_loss 1.61536,   Relative Error 0.45852\n",
      "Training_loss 1.60801,   Relative Error 0.45748\n",
      "Training_loss 1.60458,   Relative Error 0.45698\n"
     ]
    },
    {
     "name": "stderr",
     "output_type": "stream",
     "text": [
      "\r",
      " 19%|█▉        | 386/2000 [00:58<02:27, 10.96it/s]"
     ]
    },
    {
     "name": "stdout",
     "output_type": "stream",
     "text": [
      "Training_loss 1.60085,   Relative Error 0.45645\n",
      "Training_loss 1.59635,   Relative Error 0.45581\n",
      "Training_loss 1.58971,   Relative Error 0.45487\n"
     ]
    },
    {
     "name": "stderr",
     "output_type": "stream",
     "text": [
      " 20%|█▉        | 390/2000 [00:58<02:24, 11.11it/s]"
     ]
    },
    {
     "name": "stdout",
     "output_type": "stream",
     "text": [
      "Training_loss 1.58425,   Relative Error 0.45410\n",
      "Training_loss 1.57850,   Relative Error 0.45328\n",
      "Training_loss 1.57249,   Relative Error 0.45243\n"
     ]
    },
    {
     "name": "stderr",
     "output_type": "stream",
     "text": [
      "\r",
      " 20%|█▉        | 392/2000 [00:59<02:22, 11.29it/s]"
     ]
    },
    {
     "name": "stdout",
     "output_type": "stream",
     "text": [
      "Training_loss 1.56768,   Relative Error 0.45174\n",
      "Training_loss 1.56458,   Relative Error 0.45130\n",
      "Training_loss 1.56038,   Relative Error 0.45070\n"
     ]
    },
    {
     "name": "stderr",
     "output_type": "stream",
     "text": [
      " 20%|█▉        | 396/2000 [00:59<02:30, 10.64it/s]"
     ]
    },
    {
     "name": "stdout",
     "output_type": "stream",
     "text": [
      "Training_loss 1.55558,   Relative Error 0.45000\n",
      "Training_loss 1.54773,   Relative Error 0.44888\n",
      "Training_loss 1.54208,   Relative Error 0.44806\n"
     ]
    },
    {
     "name": "stderr",
     "output_type": "stream",
     "text": [
      "\r",
      " 20%|█▉        | 398/2000 [00:59<02:26, 10.94it/s]"
     ]
    },
    {
     "name": "stdout",
     "output_type": "stream",
     "text": [
      "Training_loss 1.53726,   Relative Error 0.44736\n",
      "Training_loss 1.53032,   Relative Error 0.44635\n",
      "Training_loss 1.52779,   Relative Error 0.44598\n"
     ]
    },
    {
     "name": "stderr",
     "output_type": "stream",
     "text": [
      "\r",
      " 20%|██        | 400/2000 [00:59<02:25, 10.99it/s]"
     ]
    },
    {
     "name": "stdout",
     "output_type": "stream",
     "text": [
      "Training_loss 1.52292,   Relative Error 0.44527\n",
      "Training_loss 1.51695,   Relative Error 0.44440\n"
     ]
    },
    {
     "name": "stderr",
     "output_type": "stream",
     "text": [
      "\r",
      " 20%|██        | 402/2000 [01:00<02:37, 10.17it/s]"
     ]
    },
    {
     "name": "stdout",
     "output_type": "stream",
     "text": [
      "Training_loss 1.51289,   Relative Error 0.44381\n",
      "Training_loss 1.50973,   Relative Error 0.44335\n"
     ]
    },
    {
     "name": "stderr",
     "output_type": "stream",
     "text": [
      " 20%|██        | 405/2000 [01:00<02:46,  9.59it/s]"
     ]
    },
    {
     "name": "stdout",
     "output_type": "stream",
     "text": [
      "Training_loss 1.50425,   Relative Error 0.44255\n",
      "Training_loss 1.49879,   Relative Error 0.44174\n"
     ]
    },
    {
     "name": "stderr",
     "output_type": "stream",
     "text": [
      " 20%|██        | 407/2000 [01:00<02:58,  8.94it/s]"
     ]
    },
    {
     "name": "stdout",
     "output_type": "stream",
     "text": [
      "Training_loss 1.49622,   Relative Error 0.44135\n",
      "Training_loss 1.49258,   Relative Error 0.44082\n"
     ]
    },
    {
     "name": "stderr",
     "output_type": "stream",
     "text": [
      " 20%|██        | 409/2000 [01:00<03:00,  8.82it/s]"
     ]
    },
    {
     "name": "stdout",
     "output_type": "stream",
     "text": [
      "Training_loss 1.48667,   Relative Error 0.43996\n",
      "Training_loss 1.48452,   Relative Error 0.43964\n"
     ]
    },
    {
     "name": "stderr",
     "output_type": "stream",
     "text": [
      " 21%|██        | 411/2000 [01:01<03:17,  8.03it/s]"
     ]
    },
    {
     "name": "stdout",
     "output_type": "stream",
     "text": [
      "Training_loss 1.48084,   Relative Error 0.43910\n",
      "Training_loss 1.47429,   Relative Error 0.43813\n"
     ]
    },
    {
     "name": "stderr",
     "output_type": "stream",
     "text": [
      " 21%|██        | 413/2000 [01:01<03:21,  7.89it/s]"
     ]
    },
    {
     "name": "stdout",
     "output_type": "stream",
     "text": [
      "Training_loss 1.46998,   Relative Error 0.43749\n",
      "Training_loss 1.46498,   Relative Error 0.43675\n"
     ]
    },
    {
     "name": "stderr",
     "output_type": "stream",
     "text": [
      " 21%|██        | 415/2000 [01:01<04:04,  6.48it/s]"
     ]
    },
    {
     "name": "stdout",
     "output_type": "stream",
     "text": [
      "Training_loss 1.45911,   Relative Error 0.43587\n",
      "Training_loss 1.45435,   Relative Error 0.43516\n"
     ]
    },
    {
     "name": "stderr",
     "output_type": "stream",
     "text": [
      "\r",
      " 21%|██        | 416/2000 [01:02<04:25,  5.97it/s]"
     ]
    },
    {
     "name": "stdout",
     "output_type": "stream",
     "text": [
      "Training_loss 1.45125,   Relative Error 0.43470\n"
     ]
    },
    {
     "name": "stderr",
     "output_type": "stream",
     "text": [
      "\r",
      " 21%|██        | 417/2000 [01:02<04:49,  5.46it/s]"
     ]
    },
    {
     "name": "stdout",
     "output_type": "stream",
     "text": [
      "Training_loss 1.44480,   Relative Error 0.43374\n"
     ]
    },
    {
     "name": "stderr",
     "output_type": "stream",
     "text": [
      "\r",
      " 21%|██        | 418/2000 [01:02<05:12,  5.07it/s]"
     ]
    },
    {
     "name": "stdout",
     "output_type": "stream",
     "text": [
      "Training_loss 1.43748,   Relative Error 0.43264\n"
     ]
    },
    {
     "name": "stderr",
     "output_type": "stream",
     "text": [
      "\r",
      " 21%|██        | 419/2000 [01:02<06:15,  4.22it/s]"
     ]
    },
    {
     "name": "stdout",
     "output_type": "stream",
     "text": [
      "Training_loss 1.43119,   Relative Error 0.43170\n"
     ]
    },
    {
     "name": "stderr",
     "output_type": "stream",
     "text": [
      "\r",
      " 21%|██        | 420/2000 [01:03<06:27,  4.08it/s]"
     ]
    },
    {
     "name": "stdout",
     "output_type": "stream",
     "text": [
      "Training_loss 1.42695,   Relative Error 0.43107\n"
     ]
    },
    {
     "name": "stderr",
     "output_type": "stream",
     "text": [
      "\r",
      " 21%|██        | 421/2000 [01:03<06:38,  3.96it/s]"
     ]
    },
    {
     "name": "stdout",
     "output_type": "stream",
     "text": [
      "Training_loss 1.42023,   Relative Error 0.43005\n"
     ]
    },
    {
     "name": "stderr",
     "output_type": "stream",
     "text": [
      "\r",
      " 21%|██        | 422/2000 [01:03<06:37,  3.97it/s]"
     ]
    },
    {
     "name": "stdout",
     "output_type": "stream",
     "text": [
      "Training_loss 1.41711,   Relative Error 0.42959\n"
     ]
    },
    {
     "name": "stderr",
     "output_type": "stream",
     "text": [
      "\r",
      " 21%|██        | 423/2000 [01:03<07:01,  3.74it/s]"
     ]
    },
    {
     "name": "stdout",
     "output_type": "stream",
     "text": [
      "Training_loss 1.41409,   Relative Error 0.42913\n"
     ]
    },
    {
     "name": "stderr",
     "output_type": "stream",
     "text": [
      "\r",
      " 21%|██        | 424/2000 [01:04<07:24,  3.54it/s]"
     ]
    },
    {
     "name": "stdout",
     "output_type": "stream",
     "text": [
      "Training_loss 1.40999,   Relative Error 0.42851\n"
     ]
    },
    {
     "name": "stderr",
     "output_type": "stream",
     "text": [
      "\r",
      " 21%|██▏       | 425/2000 [01:04<07:33,  3.47it/s]"
     ]
    },
    {
     "name": "stdout",
     "output_type": "stream",
     "text": [
      "Training_loss 1.40501,   Relative Error 0.42776\n"
     ]
    },
    {
     "name": "stderr",
     "output_type": "stream",
     "text": [
      "\r",
      " 21%|██▏       | 426/2000 [01:04<07:37,  3.44it/s]"
     ]
    },
    {
     "name": "stdout",
     "output_type": "stream",
     "text": [
      "Training_loss 1.39940,   Relative Error 0.42691\n"
     ]
    },
    {
     "name": "stderr",
     "output_type": "stream",
     "text": [
      "\r",
      " 21%|██▏       | 427/2000 [01:05<07:37,  3.44it/s]"
     ]
    },
    {
     "name": "stdout",
     "output_type": "stream",
     "text": [
      "Training_loss 1.39522,   Relative Error 0.42628\n"
     ]
    },
    {
     "name": "stderr",
     "output_type": "stream",
     "text": [
      "\r",
      " 21%|██▏       | 428/2000 [01:05<07:44,  3.38it/s]"
     ]
    },
    {
     "name": "stdout",
     "output_type": "stream",
     "text": [
      "Training_loss 1.39082,   Relative Error 0.42561\n"
     ]
    },
    {
     "name": "stderr",
     "output_type": "stream",
     "text": [
      "\r",
      " 21%|██▏       | 429/2000 [01:05<07:55,  3.30it/s]"
     ]
    },
    {
     "name": "stdout",
     "output_type": "stream",
     "text": [
      "Training_loss 1.38573,   Relative Error 0.42483\n"
     ]
    },
    {
     "name": "stderr",
     "output_type": "stream",
     "text": [
      "\r",
      " 22%|██▏       | 430/2000 [01:06<07:58,  3.28it/s]"
     ]
    },
    {
     "name": "stdout",
     "output_type": "stream",
     "text": [
      "Training_loss 1.38283,   Relative Error 0.42439\n"
     ]
    },
    {
     "name": "stderr",
     "output_type": "stream",
     "text": [
      "\r",
      " 22%|██▏       | 431/2000 [01:06<07:59,  3.27it/s]"
     ]
    },
    {
     "name": "stdout",
     "output_type": "stream",
     "text": [
      "Training_loss 1.38084,   Relative Error 0.42409\n"
     ]
    },
    {
     "name": "stderr",
     "output_type": "stream",
     "text": [
      "\r",
      " 22%|██▏       | 432/2000 [01:06<07:37,  3.43it/s]"
     ]
    },
    {
     "name": "stdout",
     "output_type": "stream",
     "text": [
      "Training_loss 1.37656,   Relative Error 0.42344\n"
     ]
    },
    {
     "name": "stderr",
     "output_type": "stream",
     "text": [
      "\r",
      " 22%|██▏       | 433/2000 [01:06<07:25,  3.52it/s]"
     ]
    },
    {
     "name": "stdout",
     "output_type": "stream",
     "text": [
      "Training_loss 1.37264,   Relative Error 0.42283\n"
     ]
    },
    {
     "name": "stderr",
     "output_type": "stream",
     "text": [
      "\r",
      " 22%|██▏       | 434/2000 [01:07<07:17,  3.58it/s]"
     ]
    },
    {
     "name": "stdout",
     "output_type": "stream",
     "text": [
      "Training_loss 1.36901,   Relative Error 0.42227\n"
     ]
    },
    {
     "name": "stderr",
     "output_type": "stream",
     "text": [
      "\r",
      " 22%|██▏       | 435/2000 [01:07<07:29,  3.48it/s]"
     ]
    },
    {
     "name": "stdout",
     "output_type": "stream",
     "text": [
      "Training_loss 1.36516,   Relative Error 0.42168\n"
     ]
    },
    {
     "name": "stderr",
     "output_type": "stream",
     "text": [
      "\r",
      " 22%|██▏       | 436/2000 [01:07<07:25,  3.51it/s]"
     ]
    },
    {
     "name": "stdout",
     "output_type": "stream",
     "text": [
      "Training_loss 1.36167,   Relative Error 0.42116\n"
     ]
    },
    {
     "name": "stderr",
     "output_type": "stream",
     "text": [
      "\r",
      " 22%|██▏       | 437/2000 [01:07<06:58,  3.74it/s]"
     ]
    },
    {
     "name": "stdout",
     "output_type": "stream",
     "text": [
      "Training_loss 1.35747,   Relative Error 0.42051\n"
     ]
    },
    {
     "name": "stderr",
     "output_type": "stream",
     "text": [
      " 22%|██▏       | 439/2000 [01:08<05:39,  4.60it/s]"
     ]
    },
    {
     "name": "stdout",
     "output_type": "stream",
     "text": [
      "Training_loss 1.35214,   Relative Error 0.41969\n",
      "Training_loss 1.34859,   Relative Error 0.41914\n"
     ]
    },
    {
     "name": "stderr",
     "output_type": "stream",
     "text": [
      " 22%|██▏       | 441/2000 [01:08<04:21,  5.96it/s]"
     ]
    },
    {
     "name": "stdout",
     "output_type": "stream",
     "text": [
      "Training_loss 1.34636,   Relative Error 0.41880\n",
      "Training_loss 1.34335,   Relative Error 0.41834\n"
     ]
    },
    {
     "name": "stderr",
     "output_type": "stream",
     "text": [
      " 22%|██▏       | 444/2000 [01:08<03:21,  7.74it/s]"
     ]
    },
    {
     "name": "stdout",
     "output_type": "stream",
     "text": [
      "Training_loss 1.33756,   Relative Error 0.41743\n",
      "Training_loss 1.33332,   Relative Error 0.41677\n",
      "Training_loss 1.32699,   Relative Error 0.41578\n"
     ]
    },
    {
     "name": "stderr",
     "output_type": "stream",
     "text": [
      " 22%|██▏       | 447/2000 [01:09<02:50,  9.09it/s]"
     ]
    },
    {
     "name": "stdout",
     "output_type": "stream",
     "text": [
      "Training_loss 1.32197,   Relative Error 0.41500\n",
      "Training_loss 1.31682,   Relative Error 0.41420\n",
      "Training_loss 1.31497,   Relative Error 0.41391\n"
     ]
    },
    {
     "name": "stderr",
     "output_type": "stream",
     "text": [
      " 22%|██▏       | 449/2000 [01:09<02:49,  9.14it/s]"
     ]
    },
    {
     "name": "stdout",
     "output_type": "stream",
     "text": [
      "Training_loss 1.30980,   Relative Error 0.41309\n",
      "Training_loss 1.30323,   Relative Error 0.41207\n"
     ]
    },
    {
     "name": "stderr",
     "output_type": "stream",
     "text": [
      " 23%|██▎       | 451/2000 [01:09<02:55,  8.85it/s]"
     ]
    },
    {
     "name": "stdout",
     "output_type": "stream",
     "text": [
      "Training_loss 1.29574,   Relative Error 0.41088\n",
      "Training_loss 1.29210,   Relative Error 0.41030\n",
      "Training_loss 1.28837,   Relative Error 0.40970\n"
     ]
    },
    {
     "name": "stderr",
     "output_type": "stream",
     "text": [
      " 23%|██▎       | 454/2000 [01:09<02:43,  9.46it/s]"
     ]
    },
    {
     "name": "stdout",
     "output_type": "stream",
     "text": [
      "Training_loss 1.28271,   Relative Error 0.40881\n",
      "Training_loss 1.28071,   Relative Error 0.40849\n",
      "Training_loss 1.27587,   Relative Error 0.40772\n"
     ]
    },
    {
     "name": "stderr",
     "output_type": "stream",
     "text": [
      " 23%|██▎       | 458/2000 [01:10<02:32, 10.12it/s]"
     ]
    },
    {
     "name": "stdout",
     "output_type": "stream",
     "text": [
      "Training_loss 1.27047,   Relative Error 0.40685\n",
      "Training_loss 1.26733,   Relative Error 0.40635\n",
      "Training_loss 1.26478,   Relative Error 0.40594\n"
     ]
    },
    {
     "name": "stderr",
     "output_type": "stream",
     "text": [
      "\r",
      " 23%|██▎       | 460/2000 [01:10<02:26, 10.48it/s]"
     ]
    },
    {
     "name": "stdout",
     "output_type": "stream",
     "text": [
      "Training_loss 1.26087,   Relative Error 0.40532\n",
      "Training_loss 1.25514,   Relative Error 0.40439\n",
      "Training_loss 1.25098,   Relative Error 0.40372\n"
     ]
    },
    {
     "name": "stderr",
     "output_type": "stream",
     "text": [
      " 23%|██▎       | 464/2000 [01:10<02:25, 10.58it/s]"
     ]
    },
    {
     "name": "stdout",
     "output_type": "stream",
     "text": [
      "Training_loss 1.24474,   Relative Error 0.40272\n",
      "Training_loss 1.23950,   Relative Error 0.40188\n",
      "Training_loss 1.23411,   Relative Error 0.40100\n"
     ]
    },
    {
     "name": "stderr",
     "output_type": "stream",
     "text": [
      "\r",
      " 23%|██▎       | 466/2000 [01:11<02:21, 10.84it/s]"
     ]
    },
    {
     "name": "stdout",
     "output_type": "stream",
     "text": [
      "Training_loss 1.23070,   Relative Error 0.40045\n",
      "Training_loss 1.22736,   Relative Error 0.39991\n",
      "Training_loss 1.22376,   Relative Error 0.39932\n"
     ]
    },
    {
     "name": "stderr",
     "output_type": "stream",
     "text": [
      " 24%|██▎       | 470/2000 [01:11<02:16, 11.18it/s]"
     ]
    },
    {
     "name": "stdout",
     "output_type": "stream",
     "text": [
      "Training_loss 1.22000,   Relative Error 0.39871\n",
      "Training_loss 1.21425,   Relative Error 0.39776\n",
      "Training_loss 1.21106,   Relative Error 0.39725\n"
     ]
    },
    {
     "name": "stderr",
     "output_type": "stream",
     "text": [
      "\r",
      " 24%|██▎       | 472/2000 [01:11<02:59,  8.53it/s]"
     ]
    },
    {
     "name": "stdout",
     "output_type": "stream",
     "text": [
      "Training_loss 1.20714,   Relative Error 0.39660\n",
      "Training_loss 1.20212,   Relative Error 0.39578\n"
     ]
    },
    {
     "name": "stderr",
     "output_type": "stream",
     "text": [
      "\r",
      " 24%|██▎       | 473/2000 [01:11<03:16,  7.75it/s]"
     ]
    },
    {
     "name": "stdout",
     "output_type": "stream",
     "text": [
      "Training_loss 1.19899,   Relative Error 0.39527\n",
      "Training_loss 1.19491,   Relative Error 0.39460\n"
     ]
    },
    {
     "name": "stderr",
     "output_type": "stream",
     "text": [
      " 24%|██▍       | 475/2000 [01:12<04:08,  6.14it/s]"
     ]
    },
    {
     "name": "stdout",
     "output_type": "stream",
     "text": [
      "Training_loss 1.19107,   Relative Error 0.39397\n"
     ]
    },
    {
     "name": "stderr",
     "output_type": "stream",
     "text": [
      "\r",
      " 24%|██▍       | 476/2000 [01:12<04:39,  5.45it/s]"
     ]
    },
    {
     "name": "stdout",
     "output_type": "stream",
     "text": [
      "Training_loss 1.18699,   Relative Error 0.39330\n"
     ]
    },
    {
     "name": "stderr",
     "output_type": "stream",
     "text": [
      "\r",
      " 24%|██▍       | 477/2000 [01:12<05:06,  4.97it/s]"
     ]
    },
    {
     "name": "stdout",
     "output_type": "stream",
     "text": [
      "Training_loss 1.18341,   Relative Error 0.39271\n"
     ]
    },
    {
     "name": "stderr",
     "output_type": "stream",
     "text": [
      "\r",
      " 24%|██▍       | 478/2000 [01:13<05:27,  4.65it/s]"
     ]
    },
    {
     "name": "stdout",
     "output_type": "stream",
     "text": [
      "Training_loss 1.17980,   Relative Error 0.39212\n"
     ]
    },
    {
     "name": "stderr",
     "output_type": "stream",
     "text": [
      "\r",
      " 24%|██▍       | 479/2000 [01:13<05:47,  4.38it/s]"
     ]
    },
    {
     "name": "stdout",
     "output_type": "stream",
     "text": [
      "Training_loss 1.17659,   Relative Error 0.39159\n"
     ]
    },
    {
     "name": "stderr",
     "output_type": "stream",
     "text": [
      "\r",
      " 24%|██▍       | 480/2000 [01:13<05:56,  4.26it/s]"
     ]
    },
    {
     "name": "stdout",
     "output_type": "stream",
     "text": [
      "Training_loss 1.17330,   Relative Error 0.39104\n"
     ]
    },
    {
     "name": "stderr",
     "output_type": "stream",
     "text": [
      "\r",
      " 24%|██▍       | 481/2000 [01:13<06:44,  3.76it/s]"
     ]
    },
    {
     "name": "stdout",
     "output_type": "stream",
     "text": [
      "Training_loss 1.17004,   Relative Error 0.39051\n"
     ]
    },
    {
     "name": "stderr",
     "output_type": "stream",
     "text": [
      "\r",
      " 24%|██▍       | 482/2000 [01:14<06:52,  3.68it/s]"
     ]
    },
    {
     "name": "stdout",
     "output_type": "stream",
     "text": [
      "Training_loss 1.16561,   Relative Error 0.38977\n"
     ]
    },
    {
     "name": "stderr",
     "output_type": "stream",
     "text": [
      "\r",
      " 24%|██▍       | 483/2000 [01:14<06:51,  3.68it/s]"
     ]
    },
    {
     "name": "stdout",
     "output_type": "stream",
     "text": [
      "Training_loss 1.16144,   Relative Error 0.38907\n"
     ]
    },
    {
     "name": "stderr",
     "output_type": "stream",
     "text": [
      "\r",
      " 24%|██▍       | 484/2000 [01:14<06:41,  3.77it/s]"
     ]
    },
    {
     "name": "stdout",
     "output_type": "stream",
     "text": [
      "Training_loss 1.15712,   Relative Error 0.38836\n"
     ]
    },
    {
     "name": "stderr",
     "output_type": "stream",
     "text": [
      "\r",
      " 24%|██▍       | 485/2000 [01:15<07:12,  3.50it/s]"
     ]
    },
    {
     "name": "stdout",
     "output_type": "stream",
     "text": [
      "Training_loss 1.15248,   Relative Error 0.38758\n"
     ]
    },
    {
     "name": "stderr",
     "output_type": "stream",
     "text": [
      "\r",
      " 24%|██▍       | 486/2000 [01:15<07:04,  3.57it/s]"
     ]
    },
    {
     "name": "stdout",
     "output_type": "stream",
     "text": [
      "Training_loss 1.14827,   Relative Error 0.38687\n"
     ]
    },
    {
     "name": "stderr",
     "output_type": "stream",
     "text": [
      "\r",
      " 24%|██▍       | 487/2000 [01:15<06:50,  3.68it/s]"
     ]
    },
    {
     "name": "stdout",
     "output_type": "stream",
     "text": [
      "Training_loss 1.14617,   Relative Error 0.38652\n"
     ]
    },
    {
     "name": "stderr",
     "output_type": "stream",
     "text": [
      "\r",
      " 24%|██▍       | 488/2000 [01:15<06:41,  3.77it/s]"
     ]
    },
    {
     "name": "stdout",
     "output_type": "stream",
     "text": [
      "Training_loss 1.14092,   Relative Error 0.38563\n"
     ]
    },
    {
     "name": "stderr",
     "output_type": "stream",
     "text": [
      "\r",
      " 24%|██▍       | 489/2000 [01:16<07:07,  3.54it/s]"
     ]
    },
    {
     "name": "stdout",
     "output_type": "stream",
     "text": [
      "Training_loss 1.13641,   Relative Error 0.38487\n"
     ]
    },
    {
     "name": "stderr",
     "output_type": "stream",
     "text": [
      "\r",
      " 24%|██▍       | 490/2000 [01:16<07:24,  3.40it/s]"
     ]
    },
    {
     "name": "stdout",
     "output_type": "stream",
     "text": [
      "Training_loss 1.13419,   Relative Error 0.38449\n"
     ]
    },
    {
     "name": "stderr",
     "output_type": "stream",
     "text": [
      "\r",
      " 25%|██▍       | 491/2000 [01:16<07:05,  3.54it/s]"
     ]
    },
    {
     "name": "stdout",
     "output_type": "stream",
     "text": [
      "Training_loss 1.13024,   Relative Error 0.38383\n"
     ]
    },
    {
     "name": "stderr",
     "output_type": "stream",
     "text": [
      " 25%|██▍       | 493/2000 [01:17<05:48,  4.32it/s]"
     ]
    },
    {
     "name": "stdout",
     "output_type": "stream",
     "text": [
      "Training_loss 1.12591,   Relative Error 0.38309\n",
      "Training_loss 1.12151,   Relative Error 0.38235\n"
     ]
    },
    {
     "name": "stderr",
     "output_type": "stream",
     "text": [
      " 25%|██▍       | 495/2000 [01:17<04:50,  5.19it/s]"
     ]
    },
    {
     "name": "stdout",
     "output_type": "stream",
     "text": [
      "Training_loss 1.11803,   Relative Error 0.38176\n",
      "Training_loss 1.11372,   Relative Error 0.38102\n"
     ]
    },
    {
     "name": "stderr",
     "output_type": "stream",
     "text": [
      " 25%|██▍       | 497/2000 [01:17<04:06,  6.09it/s]"
     ]
    },
    {
     "name": "stdout",
     "output_type": "stream",
     "text": [
      "Training_loss 1.11094,   Relative Error 0.38055\n",
      "Training_loss 1.10518,   Relative Error 0.37956\n"
     ]
    },
    {
     "name": "stderr",
     "output_type": "stream",
     "text": [
      " 25%|██▍       | 499/2000 [01:18<03:52,  6.46it/s]"
     ]
    },
    {
     "name": "stdout",
     "output_type": "stream",
     "text": [
      "Training_loss 1.10184,   Relative Error 0.37899\n",
      "Training_loss 1.09658,   Relative Error 0.37809\n"
     ]
    },
    {
     "name": "stderr",
     "output_type": "stream",
     "text": [
      " 25%|██▌       | 501/2000 [01:18<03:29,  7.16it/s]"
     ]
    },
    {
     "name": "stdout",
     "output_type": "stream",
     "text": [
      "Training_loss 1.09365,   Relative Error 0.37759\n",
      "Training_loss 1.08941,   Relative Error 0.37687\n"
     ]
    },
    {
     "name": "stderr",
     "output_type": "stream",
     "text": [
      " 25%|██▌       | 503/2000 [01:18<03:29,  7.15it/s]"
     ]
    },
    {
     "name": "stdout",
     "output_type": "stream",
     "text": [
      "Training_loss 1.08341,   Relative Error 0.37582\n",
      "Training_loss 1.07754,   Relative Error 0.37480\n"
     ]
    },
    {
     "name": "stderr",
     "output_type": "stream",
     "text": [
      "\r",
      " 25%|██▌       | 504/2000 [01:18<03:16,  7.62it/s]"
     ]
    },
    {
     "name": "stdout",
     "output_type": "stream",
     "text": [
      "Training_loss 1.07222,   Relative Error 0.37388\n",
      "Training_loss 1.06737,   Relative Error 0.37303\n"
     ]
    },
    {
     "name": "stderr",
     "output_type": "stream",
     "text": [
      " 25%|██▌       | 508/2000 [01:19<02:41,  9.26it/s]"
     ]
    },
    {
     "name": "stdout",
     "output_type": "stream",
     "text": [
      "Training_loss 1.06269,   Relative Error 0.37222\n",
      "Training_loss 1.05758,   Relative Error 0.37133\n",
      "Training_loss 1.05395,   Relative Error 0.37070\n"
     ]
    },
    {
     "name": "stderr",
     "output_type": "stream",
     "text": [
      "\r",
      " 26%|██▌       | 510/2000 [01:19<02:33,  9.73it/s]"
     ]
    },
    {
     "name": "stdout",
     "output_type": "stream",
     "text": [
      "Training_loss 1.05134,   Relative Error 0.37024\n",
      "Training_loss 1.04733,   Relative Error 0.36954\n",
      "Training_loss 1.04285,   Relative Error 0.36875\n"
     ]
    },
    {
     "name": "stderr",
     "output_type": "stream",
     "text": [
      " 26%|██▌       | 513/2000 [01:19<02:31,  9.85it/s]"
     ]
    },
    {
     "name": "stdout",
     "output_type": "stream",
     "text": [
      "Training_loss 1.04051,   Relative Error 0.36834\n",
      "Training_loss 1.03660,   Relative Error 0.36765\n",
      "Training_loss 1.03109,   Relative Error 0.36667\n"
     ]
    },
    {
     "name": "stderr",
     "output_type": "stream",
     "text": [
      "\r",
      " 26%|██▌       | 515/2000 [01:19<02:25, 10.20it/s]"
     ]
    },
    {
     "name": "stdout",
     "output_type": "stream",
     "text": [
      "Training_loss 1.02424,   Relative Error 0.36545\n",
      "Training_loss 1.01949,   Relative Error 0.36461\n"
     ]
    },
    {
     "name": "stderr",
     "output_type": "stream",
     "text": [
      " 26%|██▌       | 519/2000 [01:20<02:30,  9.83it/s]"
     ]
    },
    {
     "name": "stdout",
     "output_type": "stream",
     "text": [
      "Training_loss 1.01588,   Relative Error 0.36396\n",
      "Training_loss 1.01122,   Relative Error 0.36313\n",
      "Training_loss 1.00782,   Relative Error 0.36253\n"
     ]
    },
    {
     "name": "stderr",
     "output_type": "stream",
     "text": [
      " 26%|██▌       | 522/2000 [01:20<02:24, 10.23it/s]"
     ]
    },
    {
     "name": "stdout",
     "output_type": "stream",
     "text": [
      "Training_loss 1.00446,   Relative Error 0.36192\n",
      "Training_loss 1.00258,   Relative Error 0.36159\n",
      "Training_loss 0.99789,   Relative Error 0.36075\n"
     ]
    },
    {
     "name": "stderr",
     "output_type": "stream",
     "text": [
      "\r",
      " 26%|██▌       | 524/2000 [01:20<02:36,  9.45it/s]"
     ]
    },
    {
     "name": "stdout",
     "output_type": "stream",
     "text": [
      "Training_loss 0.99432,   Relative Error 0.36011\n",
      "Training_loss 0.99187,   Relative Error 0.35967\n"
     ]
    },
    {
     "name": "stderr",
     "output_type": "stream",
     "text": [
      "\r",
      " 26%|██▋       | 526/2000 [01:20<02:30,  9.80it/s]"
     ]
    },
    {
     "name": "stdout",
     "output_type": "stream",
     "text": [
      "Training_loss 0.98929,   Relative Error 0.35921\n",
      "Training_loss 0.98664,   Relative Error 0.35873\n",
      "Training_loss 0.98499,   Relative Error 0.35843\n"
     ]
    },
    {
     "name": "stderr",
     "output_type": "stream",
     "text": [
      " 26%|██▋       | 530/2000 [01:21<02:18, 10.62it/s]"
     ]
    },
    {
     "name": "stdout",
     "output_type": "stream",
     "text": [
      "Training_loss 0.98230,   Relative Error 0.35794\n",
      "Training_loss 0.97859,   Relative Error 0.35727\n",
      "Training_loss 0.97530,   Relative Error 0.35667\n"
     ]
    },
    {
     "name": "stderr",
     "output_type": "stream",
     "text": [
      "\r",
      " 27%|██▋       | 532/2000 [01:21<02:21, 10.37it/s]"
     ]
    },
    {
     "name": "stdout",
     "output_type": "stream",
     "text": [
      "Training_loss 0.97165,   Relative Error 0.35599\n",
      "Training_loss 0.96918,   Relative Error 0.35554\n",
      "Training_loss 0.96857,   Relative Error 0.35543\n"
     ]
    },
    {
     "name": "stderr",
     "output_type": "stream",
     "text": [
      " 27%|██▋       | 536/2000 [01:21<02:16, 10.72it/s]"
     ]
    },
    {
     "name": "stdout",
     "output_type": "stream",
     "text": [
      "Training_loss 0.96596,   Relative Error 0.35496\n",
      "Training_loss 0.96251,   Relative Error 0.35433\n",
      "Training_loss 0.96050,   Relative Error 0.35396\n"
     ]
    },
    {
     "name": "stderr",
     "output_type": "stream",
     "text": [
      "\r",
      " 27%|██▋       | 538/2000 [01:21<02:15, 10.80it/s]"
     ]
    },
    {
     "name": "stdout",
     "output_type": "stream",
     "text": [
      "Training_loss 0.95887,   Relative Error 0.35366\n",
      "Training_loss 0.95552,   Relative Error 0.35305\n",
      "Training_loss 0.95088,   Relative Error 0.35219\n"
     ]
    },
    {
     "name": "stderr",
     "output_type": "stream",
     "text": [
      " 27%|██▋       | 542/2000 [01:22<02:15, 10.77it/s]"
     ]
    },
    {
     "name": "stdout",
     "output_type": "stream",
     "text": [
      "Training_loss 0.94693,   Relative Error 0.35146\n",
      "Training_loss 0.94332,   Relative Error 0.35079\n",
      "Training_loss 0.94025,   Relative Error 0.35023\n"
     ]
    },
    {
     "name": "stderr",
     "output_type": "stream",
     "text": [
      "\r",
      " 27%|██▋       | 544/2000 [01:22<02:17, 10.61it/s]"
     ]
    },
    {
     "name": "stdout",
     "output_type": "stream",
     "text": [
      "Training_loss 0.93392,   Relative Error 0.34904\n",
      "Training_loss 0.93051,   Relative Error 0.34841\n",
      "Training_loss 0.92662,   Relative Error 0.34768\n"
     ]
    },
    {
     "name": "stderr",
     "output_type": "stream",
     "text": [
      " 27%|██▋       | 548/2000 [01:22<02:18, 10.47it/s]"
     ]
    },
    {
     "name": "stdout",
     "output_type": "stream",
     "text": [
      "Training_loss 0.92179,   Relative Error 0.34678\n",
      "Training_loss 0.91898,   Relative Error 0.34625\n",
      "Training_loss 0.91548,   Relative Error 0.34558\n"
     ]
    },
    {
     "name": "stderr",
     "output_type": "stream",
     "text": [
      "\r",
      " 28%|██▊       | 550/2000 [01:23<02:15, 10.67it/s]"
     ]
    },
    {
     "name": "stdout",
     "output_type": "stream",
     "text": [
      "Training_loss 0.91104,   Relative Error 0.34474\n",
      "Training_loss 0.90952,   Relative Error 0.34446\n",
      "Training_loss 0.90621,   Relative Error 0.34383\n"
     ]
    },
    {
     "name": "stderr",
     "output_type": "stream",
     "text": [
      " 28%|██▊       | 554/2000 [01:23<02:10, 11.06it/s]"
     ]
    },
    {
     "name": "stdout",
     "output_type": "stream",
     "text": [
      "Training_loss 0.90351,   Relative Error 0.34332\n",
      "Training_loss 0.90086,   Relative Error 0.34282\n",
      "Training_loss 0.89797,   Relative Error 0.34227\n"
     ]
    },
    {
     "name": "stderr",
     "output_type": "stream",
     "text": [
      "\r",
      " 28%|██▊       | 556/2000 [01:23<02:09, 11.17it/s]"
     ]
    },
    {
     "name": "stdout",
     "output_type": "stream",
     "text": [
      "Training_loss 0.89530,   Relative Error 0.34177\n",
      "Training_loss 0.89006,   Relative Error 0.34077\n",
      "Training_loss 0.88594,   Relative Error 0.33998\n"
     ]
    },
    {
     "name": "stderr",
     "output_type": "stream",
     "text": [
      " 28%|██▊       | 560/2000 [01:23<02:06, 11.40it/s]"
     ]
    },
    {
     "name": "stdout",
     "output_type": "stream",
     "text": [
      "Training_loss 0.88397,   Relative Error 0.33960\n",
      "Training_loss 0.88207,   Relative Error 0.33924\n",
      "Training_loss 0.87928,   Relative Error 0.33871\n"
     ]
    },
    {
     "name": "stderr",
     "output_type": "stream",
     "text": [
      "\r",
      " 28%|██▊       | 562/2000 [01:24<02:05, 11.48it/s]"
     ]
    },
    {
     "name": "stdout",
     "output_type": "stream",
     "text": [
      "Training_loss 0.87539,   Relative Error 0.33797\n",
      "Training_loss 0.87433,   Relative Error 0.33777\n",
      "Training_loss 0.87153,   Relative Error 0.33722\n"
     ]
    },
    {
     "name": "stderr",
     "output_type": "stream",
     "text": [
      " 28%|██▊       | 566/2000 [01:24<02:02, 11.68it/s]"
     ]
    },
    {
     "name": "stdout",
     "output_type": "stream",
     "text": [
      "Training_loss 0.86893,   Relative Error 0.33673\n",
      "Training_loss 0.86695,   Relative Error 0.33634\n",
      "Training_loss 0.86385,   Relative Error 0.33575\n"
     ]
    },
    {
     "name": "stderr",
     "output_type": "stream",
     "text": [
      "\r",
      " 28%|██▊       | 568/2000 [01:24<02:02, 11.66it/s]"
     ]
    },
    {
     "name": "stdout",
     "output_type": "stream",
     "text": [
      "Training_loss 0.86072,   Relative Error 0.33514\n",
      "Training_loss 0.85840,   Relative Error 0.33470\n",
      "Training_loss 0.85562,   Relative Error 0.33416\n"
     ]
    },
    {
     "name": "stderr",
     "output_type": "stream",
     "text": [
      " 29%|██▊       | 572/2000 [01:25<02:09, 11.01it/s]"
     ]
    },
    {
     "name": "stdout",
     "output_type": "stream",
     "text": [
      "Training_loss 0.85338,   Relative Error 0.33373\n",
      "Training_loss 0.85069,   Relative Error 0.33320\n",
      "Training_loss 0.84674,   Relative Error 0.33243\n"
     ]
    },
    {
     "name": "stderr",
     "output_type": "stream",
     "text": [
      "\r",
      " 29%|██▊       | 574/2000 [01:25<02:07, 11.18it/s]"
     ]
    },
    {
     "name": "stdout",
     "output_type": "stream",
     "text": [
      "Training_loss 0.84431,   Relative Error 0.33196\n",
      "Training_loss 0.84139,   Relative Error 0.33138\n",
      "Training_loss 0.83880,   Relative Error 0.33088\n"
     ]
    },
    {
     "name": "stderr",
     "output_type": "stream",
     "text": [
      " 29%|██▉       | 578/2000 [01:25<02:06, 11.26it/s]"
     ]
    },
    {
     "name": "stdout",
     "output_type": "stream",
     "text": [
      "Training_loss 0.83493,   Relative Error 0.33012\n",
      "Training_loss 0.83332,   Relative Error 0.32980\n",
      "Training_loss 0.83057,   Relative Error 0.32926\n"
     ]
    },
    {
     "name": "stderr",
     "output_type": "stream",
     "text": [
      "\r",
      " 29%|██▉       | 580/2000 [01:25<02:05, 11.33it/s]"
     ]
    },
    {
     "name": "stdout",
     "output_type": "stream",
     "text": [
      "Training_loss 0.82683,   Relative Error 0.32852\n",
      "Training_loss 0.82421,   Relative Error 0.32801\n",
      "Training_loss 0.82144,   Relative Error 0.32746\n"
     ]
    },
    {
     "name": "stderr",
     "output_type": "stream",
     "text": [
      " 29%|██▉       | 584/2000 [01:26<02:03, 11.45it/s]"
     ]
    },
    {
     "name": "stdout",
     "output_type": "stream",
     "text": [
      "Training_loss 0.81662,   Relative Error 0.32650\n",
      "Training_loss 0.81370,   Relative Error 0.32593\n",
      "Training_loss 0.80961,   Relative Error 0.32511\n"
     ]
    },
    {
     "name": "stderr",
     "output_type": "stream",
     "text": [
      "\r",
      " 29%|██▉       | 586/2000 [01:26<02:12, 10.70it/s]"
     ]
    },
    {
     "name": "stdout",
     "output_type": "stream",
     "text": [
      "Training_loss 0.80831,   Relative Error 0.32484\n",
      "Training_loss 0.80569,   Relative Error 0.32432\n",
      "Training_loss 0.80279,   Relative Error 0.32375\n"
     ]
    },
    {
     "name": "stderr",
     "output_type": "stream",
     "text": [
      " 30%|██▉       | 590/2000 [01:26<02:05, 11.28it/s]"
     ]
    },
    {
     "name": "stdout",
     "output_type": "stream",
     "text": [
      "Training_loss 0.80050,   Relative Error 0.32329\n",
      "Training_loss 0.79725,   Relative Error 0.32263\n",
      "Training_loss 0.79305,   Relative Error 0.32178\n"
     ]
    },
    {
     "name": "stderr",
     "output_type": "stream",
     "text": [
      "\r",
      " 30%|██▉       | 592/2000 [01:26<02:06, 11.12it/s]"
     ]
    },
    {
     "name": "stdout",
     "output_type": "stream",
     "text": [
      "Training_loss 0.79072,   Relative Error 0.32132\n",
      "Training_loss 0.78850,   Relative Error 0.32087\n",
      "Training_loss 0.78581,   Relative Error 0.32032\n"
     ]
    },
    {
     "name": "stderr",
     "output_type": "stream",
     "text": [
      " 30%|██▉       | 596/2000 [01:27<02:10, 10.78it/s]"
     ]
    },
    {
     "name": "stdout",
     "output_type": "stream",
     "text": [
      "Training_loss 0.78410,   Relative Error 0.31998\n",
      "Training_loss 0.78325,   Relative Error 0.31981\n",
      "Training_loss 0.78157,   Relative Error 0.31947\n"
     ]
    },
    {
     "name": "stderr",
     "output_type": "stream",
     "text": [
      "\r",
      " 30%|██▉       | 598/2000 [01:27<02:07, 11.01it/s]"
     ]
    },
    {
     "name": "stdout",
     "output_type": "stream",
     "text": [
      "Training_loss 0.77800,   Relative Error 0.31875\n",
      "Training_loss 0.77525,   Relative Error 0.31819\n",
      "Training_loss 0.77297,   Relative Error 0.31772\n"
     ]
    },
    {
     "name": "stderr",
     "output_type": "stream",
     "text": [
      " 30%|███       | 602/2000 [01:27<02:04, 11.27it/s]"
     ]
    },
    {
     "name": "stdout",
     "output_type": "stream",
     "text": [
      "Training_loss 0.77042,   Relative Error 0.31721\n",
      "Training_loss 0.76815,   Relative Error 0.31674\n",
      "Training_loss 0.76594,   Relative Error 0.31629\n"
     ]
    },
    {
     "name": "stderr",
     "output_type": "stream",
     "text": [
      "\r",
      " 30%|███       | 604/2000 [01:27<02:02, 11.42it/s]"
     ]
    },
    {
     "name": "stdout",
     "output_type": "stream",
     "text": [
      "Training_loss 0.76229,   Relative Error 0.31554\n",
      "Training_loss 0.76028,   Relative Error 0.31513\n",
      "Training_loss 0.75837,   Relative Error 0.31473\n"
     ]
    },
    {
     "name": "stderr",
     "output_type": "stream",
     "text": [
      " 30%|███       | 608/2000 [01:28<01:59, 11.62it/s]"
     ]
    },
    {
     "name": "stdout",
     "output_type": "stream",
     "text": [
      "Training_loss 0.75611,   Relative Error 0.31427\n",
      "Training_loss 0.75503,   Relative Error 0.31405\n",
      "Training_loss 0.75277,   Relative Error 0.31358\n"
     ]
    },
    {
     "name": "stderr",
     "output_type": "stream",
     "text": [
      "\r",
      " 30%|███       | 610/2000 [01:28<02:00, 11.52it/s]"
     ]
    },
    {
     "name": "stdout",
     "output_type": "stream",
     "text": [
      "Training_loss 0.75025,   Relative Error 0.31307\n",
      "Training_loss 0.74783,   Relative Error 0.31256\n",
      "Training_loss 0.74533,   Relative Error 0.31204\n"
     ]
    },
    {
     "name": "stderr",
     "output_type": "stream",
     "text": [
      " 31%|███       | 614/2000 [01:28<02:00, 11.53it/s]"
     ]
    },
    {
     "name": "stdout",
     "output_type": "stream",
     "text": [
      "Training_loss 0.74279,   Relative Error 0.31151\n",
      "Training_loss 0.73920,   Relative Error 0.31076\n",
      "Training_loss 0.73650,   Relative Error 0.31019\n"
     ]
    },
    {
     "name": "stderr",
     "output_type": "stream",
     "text": [
      "\r",
      " 31%|███       | 616/2000 [01:28<02:02, 11.34it/s]"
     ]
    },
    {
     "name": "stdout",
     "output_type": "stream",
     "text": [
      "Training_loss 0.73547,   Relative Error 0.30998\n",
      "Training_loss 0.73366,   Relative Error 0.30960\n",
      "Training_loss 0.73126,   Relative Error 0.30910\n"
     ]
    },
    {
     "name": "stderr",
     "output_type": "stream",
     "text": [
      "\r",
      " 31%|███       | 618/2000 [01:29<02:02, 11.29it/s]"
     ]
    },
    {
     "name": "stdout",
     "output_type": "stream",
     "text": [
      "Training_loss 0.72926,   Relative Error 0.30867\n",
      "Training_loss 0.72757,   Relative Error 0.30832\n"
     ]
    },
    {
     "name": "stderr",
     "output_type": "stream",
     "text": [
      " 31%|███       | 622/2000 [01:29<02:07, 10.82it/s]"
     ]
    },
    {
     "name": "stdout",
     "output_type": "stream",
     "text": [
      "Training_loss 0.72401,   Relative Error 0.30756\n",
      "Training_loss 0.72154,   Relative Error 0.30703\n",
      "Training_loss 0.72004,   Relative Error 0.30672\n"
     ]
    },
    {
     "name": "stderr",
     "output_type": "stream",
     "text": [
      "\r",
      " 31%|███       | 624/2000 [01:29<02:33,  8.97it/s]"
     ]
    },
    {
     "name": "stdout",
     "output_type": "stream",
     "text": [
      "Training_loss 0.71838,   Relative Error 0.30637\n",
      "Training_loss 0.71702,   Relative Error 0.30609\n"
     ]
    },
    {
     "name": "stderr",
     "output_type": "stream",
     "text": [
      "\r",
      " 31%|███▏      | 625/2000 [01:30<03:05,  7.43it/s]"
     ]
    },
    {
     "name": "stdout",
     "output_type": "stream",
     "text": [
      "Training_loss 0.71622,   Relative Error 0.30592\n"
     ]
    },
    {
     "name": "stderr",
     "output_type": "stream",
     "text": [
      "\r",
      " 31%|███▏      | 626/2000 [01:30<03:33,  6.43it/s]"
     ]
    },
    {
     "name": "stdout",
     "output_type": "stream",
     "text": [
      "Training_loss 0.71411,   Relative Error 0.30547\n"
     ]
    },
    {
     "name": "stderr",
     "output_type": "stream",
     "text": [
      "\r",
      " 31%|███▏      | 627/2000 [01:30<03:51,  5.94it/s]"
     ]
    },
    {
     "name": "stdout",
     "output_type": "stream",
     "text": [
      "Training_loss 0.71168,   Relative Error 0.30495\n"
     ]
    },
    {
     "name": "stderr",
     "output_type": "stream",
     "text": [
      " 31%|███▏      | 629/2000 [01:30<04:16,  5.35it/s]"
     ]
    },
    {
     "name": "stdout",
     "output_type": "stream",
     "text": [
      "Training_loss 0.70992,   Relative Error 0.30458\n",
      "Training_loss 0.70820,   Relative Error 0.30421\n"
     ]
    },
    {
     "name": "stderr",
     "output_type": "stream",
     "text": [
      " 32%|███▏      | 631/2000 [01:31<04:14,  5.39it/s]"
     ]
    },
    {
     "name": "stdout",
     "output_type": "stream",
     "text": [
      "Training_loss 0.70618,   Relative Error 0.30378\n",
      "Training_loss 0.70384,   Relative Error 0.30327\n"
     ]
    },
    {
     "name": "stderr",
     "output_type": "stream",
     "text": [
      " 32%|███▏      | 633/2000 [01:31<03:55,  5.80it/s]"
     ]
    },
    {
     "name": "stdout",
     "output_type": "stream",
     "text": [
      "Training_loss 0.70256,   Relative Error 0.30300\n",
      "Training_loss 0.70016,   Relative Error 0.30248\n"
     ]
    },
    {
     "name": "stderr",
     "output_type": "stream",
     "text": [
      " 32%|███▏      | 635/2000 [01:31<03:37,  6.27it/s]"
     ]
    },
    {
     "name": "stdout",
     "output_type": "stream",
     "text": [
      "Training_loss 0.69799,   Relative Error 0.30202\n",
      "Training_loss 0.69525,   Relative Error 0.30143\n"
     ]
    },
    {
     "name": "stderr",
     "output_type": "stream",
     "text": [
      " 32%|███▏      | 637/2000 [01:32<03:48,  5.98it/s]"
     ]
    },
    {
     "name": "stdout",
     "output_type": "stream",
     "text": [
      "Training_loss 0.69171,   Relative Error 0.30066\n",
      "Training_loss 0.68784,   Relative Error 0.29982\n"
     ]
    },
    {
     "name": "stderr",
     "output_type": "stream",
     "text": [
      " 32%|███▏      | 639/2000 [01:32<03:27,  6.57it/s]"
     ]
    },
    {
     "name": "stdout",
     "output_type": "stream",
     "text": [
      "Training_loss 0.68523,   Relative Error 0.29926\n",
      "Training_loss 0.68361,   Relative Error 0.29890\n"
     ]
    },
    {
     "name": "stderr",
     "output_type": "stream",
     "text": [
      " 32%|███▏      | 641/2000 [01:32<03:19,  6.80it/s]"
     ]
    },
    {
     "name": "stdout",
     "output_type": "stream",
     "text": [
      "Training_loss 0.68130,   Relative Error 0.29840\n",
      "Training_loss 0.67988,   Relative Error 0.29809\n"
     ]
    },
    {
     "name": "stderr",
     "output_type": "stream",
     "text": [
      " 32%|███▏      | 643/2000 [01:33<03:23,  6.68it/s]"
     ]
    },
    {
     "name": "stdout",
     "output_type": "stream",
     "text": [
      "Training_loss 0.67660,   Relative Error 0.29738\n",
      "Training_loss 0.67476,   Relative Error 0.29697\n"
     ]
    },
    {
     "name": "stderr",
     "output_type": "stream",
     "text": [
      " 32%|███▏      | 645/2000 [01:33<03:31,  6.42it/s]"
     ]
    },
    {
     "name": "stdout",
     "output_type": "stream",
     "text": [
      "Training_loss 0.67316,   Relative Error 0.29662\n",
      "Training_loss 0.66921,   Relative Error 0.29574\n"
     ]
    },
    {
     "name": "stderr",
     "output_type": "stream",
     "text": [
      " 32%|███▏      | 647/2000 [01:33<03:40,  6.14it/s]"
     ]
    },
    {
     "name": "stdout",
     "output_type": "stream",
     "text": [
      "Training_loss 0.66687,   Relative Error 0.29522\n",
      "Training_loss 0.66577,   Relative Error 0.29498\n"
     ]
    },
    {
     "name": "stderr",
     "output_type": "stream",
     "text": [
      "\r",
      " 32%|███▏      | 648/2000 [01:33<03:45,  6.00it/s]"
     ]
    },
    {
     "name": "stdout",
     "output_type": "stream",
     "text": [
      "Training_loss 0.66462,   Relative Error 0.29474\n"
     ]
    },
    {
     "name": "stderr",
     "output_type": "stream",
     "text": [
      " 32%|███▎      | 650/2000 [01:34<03:45,  5.99it/s]"
     ]
    },
    {
     "name": "stdout",
     "output_type": "stream",
     "text": [
      "Training_loss 0.66211,   Relative Error 0.29418\n",
      "Training_loss 0.66083,   Relative Error 0.29390\n"
     ]
    },
    {
     "name": "stderr",
     "output_type": "stream",
     "text": [
      " 33%|███▎      | 652/2000 [01:34<03:11,  7.06it/s]"
     ]
    },
    {
     "name": "stdout",
     "output_type": "stream",
     "text": [
      "Training_loss 0.65808,   Relative Error 0.29329\n",
      "Training_loss 0.65647,   Relative Error 0.29293\n"
     ]
    },
    {
     "name": "stderr",
     "output_type": "stream",
     "text": [
      " 33%|███▎      | 654/2000 [01:34<02:47,  8.04it/s]"
     ]
    },
    {
     "name": "stdout",
     "output_type": "stream",
     "text": [
      "Training_loss 0.65463,   Relative Error 0.29253\n",
      "Training_loss 0.65204,   Relative Error 0.29195\n"
     ]
    },
    {
     "name": "stderr",
     "output_type": "stream",
     "text": [
      "\r",
      " 33%|███▎      | 655/2000 [01:34<02:39,  8.43it/s]"
     ]
    },
    {
     "name": "stdout",
     "output_type": "stream",
     "text": [
      "Training_loss 0.64932,   Relative Error 0.29134\n",
      "Training_loss 0.64644,   Relative Error 0.29070\n"
     ]
    },
    {
     "name": "stderr",
     "output_type": "stream",
     "text": [
      " 33%|███▎      | 659/2000 [01:35<02:19,  9.59it/s]"
     ]
    },
    {
     "name": "stdout",
     "output_type": "stream",
     "text": [
      "Training_loss 0.64357,   Relative Error 0.29005\n",
      "Training_loss 0.64097,   Relative Error 0.28947\n",
      "Training_loss 0.63804,   Relative Error 0.28881\n"
     ]
    },
    {
     "name": "stderr",
     "output_type": "stream",
     "text": [
      " 33%|███▎      | 662/2000 [01:35<02:21,  9.45it/s]"
     ]
    },
    {
     "name": "stdout",
     "output_type": "stream",
     "text": [
      "Training_loss 0.63537,   Relative Error 0.28821\n",
      "Training_loss 0.63349,   Relative Error 0.28778\n",
      "Training_loss 0.63127,   Relative Error 0.28728\n"
     ]
    },
    {
     "name": "stderr",
     "output_type": "stream",
     "text": [
      " 33%|███▎      | 665/2000 [01:35<02:25,  9.17it/s]"
     ]
    },
    {
     "name": "stdout",
     "output_type": "stream",
     "text": [
      "Training_loss 0.62757,   Relative Error 0.28644\n",
      "Training_loss 0.62619,   Relative Error 0.28613\n",
      "Training_loss 0.62531,   Relative Error 0.28594\n"
     ]
    },
    {
     "name": "stderr",
     "output_type": "stream",
     "text": [
      " 33%|███▎      | 667/2000 [01:36<02:32,  8.73it/s]"
     ]
    },
    {
     "name": "stdout",
     "output_type": "stream",
     "text": [
      "Training_loss 0.62332,   Relative Error 0.28549\n",
      "Training_loss 0.62199,   Relative Error 0.28519\n"
     ]
    },
    {
     "name": "stderr",
     "output_type": "stream",
     "text": [
      " 33%|███▎      | 669/2000 [01:36<03:06,  7.14it/s]"
     ]
    },
    {
     "name": "stdout",
     "output_type": "stream",
     "text": [
      "Training_loss 0.62050,   Relative Error 0.28485\n",
      "Training_loss 0.61784,   Relative Error 0.28424\n"
     ]
    },
    {
     "name": "stderr",
     "output_type": "stream",
     "text": [
      " 34%|███▎      | 671/2000 [01:36<03:26,  6.44it/s]"
     ]
    },
    {
     "name": "stdout",
     "output_type": "stream",
     "text": [
      "Training_loss 0.61630,   Relative Error 0.28389\n",
      "Training_loss 0.61452,   Relative Error 0.28348\n"
     ]
    },
    {
     "name": "stderr",
     "output_type": "stream",
     "text": [
      " 34%|███▎      | 673/2000 [01:37<03:39,  6.05it/s]"
     ]
    },
    {
     "name": "stdout",
     "output_type": "stream",
     "text": [
      "Training_loss 0.61181,   Relative Error 0.28286\n",
      "Training_loss 0.60944,   Relative Error 0.28232\n"
     ]
    },
    {
     "name": "stderr",
     "output_type": "stream",
     "text": [
      " 34%|███▍      | 675/2000 [01:37<03:31,  6.27it/s]"
     ]
    },
    {
     "name": "stdout",
     "output_type": "stream",
     "text": [
      "Training_loss 0.60716,   Relative Error 0.28180\n",
      "Training_loss 0.60457,   Relative Error 0.28120\n"
     ]
    },
    {
     "name": "stderr",
     "output_type": "stream",
     "text": [
      " 34%|███▍      | 677/2000 [01:37<03:03,  7.20it/s]"
     ]
    },
    {
     "name": "stdout",
     "output_type": "stream",
     "text": [
      "Training_loss 0.60184,   Relative Error 0.28056\n",
      "Training_loss 0.60080,   Relative Error 0.28032\n"
     ]
    },
    {
     "name": "stderr",
     "output_type": "stream",
     "text": [
      " 34%|███▍      | 679/2000 [01:37<02:51,  7.68it/s]"
     ]
    },
    {
     "name": "stdout",
     "output_type": "stream",
     "text": [
      "Training_loss 0.59944,   Relative Error 0.28000\n",
      "Training_loss 0.59763,   Relative Error 0.27959\n"
     ]
    },
    {
     "name": "stderr",
     "output_type": "stream",
     "text": [
      " 34%|███▍      | 682/2000 [01:38<02:27,  8.96it/s]"
     ]
    },
    {
     "name": "stdout",
     "output_type": "stream",
     "text": [
      "Training_loss 0.59623,   Relative Error 0.27926\n",
      "Training_loss 0.59374,   Relative Error 0.27867\n",
      "Training_loss 0.59121,   Relative Error 0.27808\n"
     ]
    },
    {
     "name": "stderr",
     "output_type": "stream",
     "text": [
      " 34%|███▍      | 684/2000 [01:38<02:27,  8.95it/s]"
     ]
    },
    {
     "name": "stdout",
     "output_type": "stream",
     "text": [
      "Training_loss 0.58924,   Relative Error 0.27762\n",
      "Training_loss 0.58768,   Relative Error 0.27725\n"
     ]
    },
    {
     "name": "stderr",
     "output_type": "stream",
     "text": [
      " 34%|███▍      | 686/2000 [01:38<02:32,  8.61it/s]"
     ]
    },
    {
     "name": "stdout",
     "output_type": "stream",
     "text": [
      "Training_loss 0.58628,   Relative Error 0.27693\n",
      "Training_loss 0.58440,   Relative Error 0.27649\n"
     ]
    },
    {
     "name": "stderr",
     "output_type": "stream",
     "text": [
      " 34%|███▍      | 688/2000 [01:38<02:26,  8.96it/s]"
     ]
    },
    {
     "name": "stdout",
     "output_type": "stream",
     "text": [
      "Training_loss 0.58112,   Relative Error 0.27572\n",
      "Training_loss 0.57929,   Relative Error 0.27529\n"
     ]
    },
    {
     "name": "stderr",
     "output_type": "stream",
     "text": [
      " 34%|███▍      | 690/2000 [01:39<02:22,  9.22it/s]"
     ]
    },
    {
     "name": "stdout",
     "output_type": "stream",
     "text": [
      "Training_loss 0.57783,   Relative Error 0.27494\n",
      "Training_loss 0.57522,   Relative Error 0.27432\n",
      "Training_loss 0.57383,   Relative Error 0.27399\n"
     ]
    },
    {
     "name": "stderr",
     "output_type": "stream",
     "text": [
      " 35%|███▍      | 694/2000 [01:39<02:10,  9.99it/s]"
     ]
    },
    {
     "name": "stdout",
     "output_type": "stream",
     "text": [
      "Training_loss 0.57169,   Relative Error 0.27349\n",
      "Training_loss 0.57048,   Relative Error 0.27320\n",
      "Training_loss 0.56951,   Relative Error 0.27297\n"
     ]
    },
    {
     "name": "stderr",
     "output_type": "stream",
     "text": [
      "\r",
      " 35%|███▍      | 695/2000 [01:39<02:10,  9.99it/s]"
     ]
    },
    {
     "name": "stdout",
     "output_type": "stream",
     "text": [
      "Training_loss 0.56715,   Relative Error 0.27241\n",
      "Training_loss 0.56550,   Relative Error 0.27202\n"
     ]
    },
    {
     "name": "stderr",
     "output_type": "stream",
     "text": [
      " 35%|███▍      | 698/2000 [01:40<02:41,  8.07it/s]"
     ]
    },
    {
     "name": "stdout",
     "output_type": "stream",
     "text": [
      "Training_loss 0.56455,   Relative Error 0.27179\n",
      "Training_loss 0.56284,   Relative Error 0.27138\n"
     ]
    },
    {
     "name": "stderr",
     "output_type": "stream",
     "text": [
      " 35%|███▌      | 700/2000 [01:40<03:15,  6.66it/s]"
     ]
    },
    {
     "name": "stdout",
     "output_type": "stream",
     "text": [
      "Training_loss 0.56139,   Relative Error 0.27104\n",
      "Training_loss 0.55979,   Relative Error 0.27066\n"
     ]
    },
    {
     "name": "stderr",
     "output_type": "stream",
     "text": [
      " 35%|███▌      | 702/2000 [01:40<03:11,  6.77it/s]"
     ]
    },
    {
     "name": "stdout",
     "output_type": "stream",
     "text": [
      "Training_loss 0.55788,   Relative Error 0.27020\n",
      "Training_loss 0.55646,   Relative Error 0.26985\n"
     ]
    },
    {
     "name": "stderr",
     "output_type": "stream",
     "text": [
      "\r",
      " 35%|███▌      | 703/2000 [01:40<03:17,  6.57it/s]"
     ]
    },
    {
     "name": "stdout",
     "output_type": "stream",
     "text": [
      "Training_loss 0.55463,   Relative Error 0.26942\n"
     ]
    },
    {
     "name": "stderr",
     "output_type": "stream",
     "text": [
      " 35%|███▌      | 705/2000 [01:41<03:35,  6.00it/s]"
     ]
    },
    {
     "name": "stdout",
     "output_type": "stream",
     "text": [
      "Training_loss 0.55276,   Relative Error 0.26897\n",
      "Training_loss 0.55036,   Relative Error 0.26839\n"
     ]
    },
    {
     "name": "stderr",
     "output_type": "stream",
     "text": [
      "\r",
      " 35%|███▌      | 706/2000 [01:41<05:52,  3.67it/s]"
     ]
    },
    {
     "name": "stdout",
     "output_type": "stream",
     "text": [
      "Training_loss 0.54853,   Relative Error 0.26794\n"
     ]
    },
    {
     "name": "stderr",
     "output_type": "stream",
     "text": [
      "\r",
      " 35%|███▌      | 707/2000 [01:42<07:33,  2.85it/s]"
     ]
    },
    {
     "name": "stdout",
     "output_type": "stream",
     "text": [
      "Training_loss 0.54611,   Relative Error 0.26735\n"
     ]
    },
    {
     "name": "stderr",
     "output_type": "stream",
     "text": [
      "\r",
      " 35%|███▌      | 708/2000 [01:42<08:59,  2.39it/s]"
     ]
    },
    {
     "name": "stdout",
     "output_type": "stream",
     "text": [
      "Training_loss 0.54380,   Relative Error 0.26678\n"
     ]
    },
    {
     "name": "stderr",
     "output_type": "stream",
     "text": [
      "\r",
      " 35%|███▌      | 709/2000 [01:43<10:39,  2.02it/s]"
     ]
    },
    {
     "name": "stdout",
     "output_type": "stream",
     "text": [
      "Training_loss 0.54282,   Relative Error 0.26655\n"
     ]
    },
    {
     "name": "stderr",
     "output_type": "stream",
     "text": [
      "\r",
      " 36%|███▌      | 710/2000 [01:44<11:33,  1.86it/s]"
     ]
    },
    {
     "name": "stdout",
     "output_type": "stream",
     "text": [
      "Training_loss 0.54122,   Relative Error 0.26615\n"
     ]
    },
    {
     "name": "stderr",
     "output_type": "stream",
     "text": [
      "\r",
      " 36%|███▌      | 711/2000 [01:44<10:23,  2.07it/s]"
     ]
    },
    {
     "name": "stdout",
     "output_type": "stream",
     "text": [
      "Training_loss 0.54049,   Relative Error 0.26598\n"
     ]
    },
    {
     "name": "stderr",
     "output_type": "stream",
     "text": [
      "\r",
      " 36%|███▌      | 712/2000 [01:45<11:27,  1.87it/s]"
     ]
    },
    {
     "name": "stdout",
     "output_type": "stream",
     "text": [
      "Training_loss 0.53892,   Relative Error 0.26560\n"
     ]
    },
    {
     "name": "stderr",
     "output_type": "stream",
     "text": [
      "\r",
      " 36%|███▌      | 713/2000 [01:45<09:26,  2.27it/s]"
     ]
    },
    {
     "name": "stdout",
     "output_type": "stream",
     "text": [
      "Training_loss 0.53814,   Relative Error 0.26541\n"
     ]
    },
    {
     "name": "stderr",
     "output_type": "stream",
     "text": [
      " 36%|███▌      | 715/2000 [01:45<06:48,  3.14it/s]"
     ]
    },
    {
     "name": "stdout",
     "output_type": "stream",
     "text": [
      "Training_loss 0.53669,   Relative Error 0.26505\n",
      "Training_loss 0.53602,   Relative Error 0.26489\n"
     ]
    },
    {
     "name": "stderr",
     "output_type": "stream",
     "text": [
      " 36%|███▌      | 717/2000 [01:46<05:03,  4.22it/s]"
     ]
    },
    {
     "name": "stdout",
     "output_type": "stream",
     "text": [
      "Training_loss 0.53378,   Relative Error 0.26434\n",
      "Training_loss 0.53176,   Relative Error 0.26384\n"
     ]
    },
    {
     "name": "stderr",
     "output_type": "stream",
     "text": [
      "\r",
      " 36%|███▌      | 719/2000 [01:46<03:50,  5.55it/s]"
     ]
    },
    {
     "name": "stdout",
     "output_type": "stream",
     "text": [
      "Training_loss 0.53003,   Relative Error 0.26341\n",
      "Training_loss 0.52893,   Relative Error 0.26314\n"
     ]
    },
    {
     "name": "stderr",
     "output_type": "stream",
     "text": [
      " 36%|███▌      | 721/2000 [01:46<03:24,  6.24it/s]"
     ]
    },
    {
     "name": "stdout",
     "output_type": "stream",
     "text": [
      "Training_loss 0.52725,   Relative Error 0.26273\n",
      "Training_loss 0.52589,   Relative Error 0.26239\n"
     ]
    },
    {
     "name": "stderr",
     "output_type": "stream",
     "text": [
      " 36%|███▌      | 723/2000 [01:46<02:57,  7.21it/s]"
     ]
    },
    {
     "name": "stdout",
     "output_type": "stream",
     "text": [
      "Training_loss 0.52427,   Relative Error 0.26199\n",
      "Training_loss 0.52302,   Relative Error 0.26168\n"
     ]
    },
    {
     "name": "stderr",
     "output_type": "stream",
     "text": [
      " 36%|███▋      | 726/2000 [01:47<02:13,  9.54it/s]"
     ]
    },
    {
     "name": "stdout",
     "output_type": "stream",
     "text": [
      "Training_loss 0.52185,   Relative Error 0.26140\n",
      "Training_loss 0.52049,   Relative Error 0.26106\n",
      "Training_loss 0.51934,   Relative Error 0.26077\n"
     ]
    },
    {
     "name": "stderr",
     "output_type": "stream",
     "text": [
      "\r",
      " 36%|███▋      | 728/2000 [01:47<02:05, 10.16it/s]"
     ]
    },
    {
     "name": "stdout",
     "output_type": "stream",
     "text": [
      "Training_loss 0.51837,   Relative Error 0.26052\n",
      "Training_loss 0.51700,   Relative Error 0.26018\n",
      "Training_loss 0.51481,   Relative Error 0.25963\n"
     ]
    },
    {
     "name": "stderr",
     "output_type": "stream",
     "text": [
      "\r",
      " 36%|███▋      | 730/2000 [01:47<02:39,  7.95it/s]"
     ]
    },
    {
     "name": "stdout",
     "output_type": "stream",
     "text": [
      "Training_loss 0.51326,   Relative Error 0.25924\n"
     ]
    },
    {
     "name": "stderr",
     "output_type": "stream",
     "text": [
      "\r",
      " 37%|███▋      | 731/2000 [01:47<03:13,  6.55it/s]"
     ]
    },
    {
     "name": "stdout",
     "output_type": "stream",
     "text": [
      "Training_loss 0.51126,   Relative Error 0.25873\n"
     ]
    },
    {
     "name": "stderr",
     "output_type": "stream",
     "text": [
      "\r",
      " 37%|███▋      | 732/2000 [01:48<04:02,  5.23it/s]"
     ]
    },
    {
     "name": "stdout",
     "output_type": "stream",
     "text": [
      "Training_loss 0.51011,   Relative Error 0.25845\n"
     ]
    },
    {
     "name": "stderr",
     "output_type": "stream",
     "text": [
      "\r",
      " 37%|███▋      | 733/2000 [01:48<04:38,  4.55it/s]"
     ]
    },
    {
     "name": "stdout",
     "output_type": "stream",
     "text": [
      "Training_loss 0.50783,   Relative Error 0.25788\n"
     ]
    },
    {
     "name": "stderr",
     "output_type": "stream",
     "text": [
      " 37%|███▋      | 735/2000 [01:49<04:44,  4.44it/s]"
     ]
    },
    {
     "name": "stdout",
     "output_type": "stream",
     "text": [
      "Training_loss 0.50527,   Relative Error 0.25723\n",
      "Training_loss 0.50273,   Relative Error 0.25659\n"
     ]
    },
    {
     "name": "stderr",
     "output_type": "stream",
     "text": [
      " 37%|███▋      | 737/2000 [01:49<04:21,  4.82it/s]"
     ]
    },
    {
     "name": "stdout",
     "output_type": "stream",
     "text": [
      "Training_loss 0.50030,   Relative Error 0.25597\n",
      "Training_loss 0.49933,   Relative Error 0.25572\n"
     ]
    },
    {
     "name": "stderr",
     "output_type": "stream",
     "text": [
      " 37%|███▋      | 739/2000 [01:49<04:08,  5.08it/s]"
     ]
    },
    {
     "name": "stdout",
     "output_type": "stream",
     "text": [
      "Training_loss 0.49820,   Relative Error 0.25543\n",
      "Training_loss 0.49600,   Relative Error 0.25487\n"
     ]
    },
    {
     "name": "stderr",
     "output_type": "stream",
     "text": [
      " 37%|███▋      | 741/2000 [01:50<03:51,  5.44it/s]"
     ]
    },
    {
     "name": "stdout",
     "output_type": "stream",
     "text": [
      "Training_loss 0.49490,   Relative Error 0.25459\n",
      "Training_loss 0.49388,   Relative Error 0.25433\n"
     ]
    },
    {
     "name": "stderr",
     "output_type": "stream",
     "text": [
      " 37%|███▋      | 743/2000 [01:50<03:39,  5.74it/s]"
     ]
    },
    {
     "name": "stdout",
     "output_type": "stream",
     "text": [
      "Training_loss 0.49308,   Relative Error 0.25412\n",
      "Training_loss 0.49172,   Relative Error 0.25378\n"
     ]
    },
    {
     "name": "stderr",
     "output_type": "stream",
     "text": [
      " 37%|███▋      | 745/2000 [01:50<03:12,  6.51it/s]"
     ]
    },
    {
     "name": "stdout",
     "output_type": "stream",
     "text": [
      "Training_loss 0.49021,   Relative Error 0.25339\n",
      "Training_loss 0.48927,   Relative Error 0.25315\n"
     ]
    },
    {
     "name": "stderr",
     "output_type": "stream",
     "text": [
      " 37%|███▋      | 747/2000 [01:51<02:48,  7.45it/s]"
     ]
    },
    {
     "name": "stdout",
     "output_type": "stream",
     "text": [
      "Training_loss 0.48763,   Relative Error 0.25273\n",
      "Training_loss 0.48732,   Relative Error 0.25265\n"
     ]
    },
    {
     "name": "stderr",
     "output_type": "stream",
     "text": [
      " 37%|███▋      | 749/2000 [01:51<02:44,  7.60it/s]"
     ]
    },
    {
     "name": "stdout",
     "output_type": "stream",
     "text": [
      "Training_loss 0.48523,   Relative Error 0.25211\n",
      "Training_loss 0.48385,   Relative Error 0.25176\n"
     ]
    },
    {
     "name": "stderr",
     "output_type": "stream",
     "text": [
      " 38%|███▊      | 751/2000 [01:51<02:30,  8.27it/s]"
     ]
    },
    {
     "name": "stdout",
     "output_type": "stream",
     "text": [
      "Training_loss 0.48292,   Relative Error 0.25152\n",
      "Training_loss 0.48156,   Relative Error 0.25117\n"
     ]
    },
    {
     "name": "stderr",
     "output_type": "stream",
     "text": [
      " 38%|███▊      | 753/2000 [01:51<02:31,  8.24it/s]"
     ]
    },
    {
     "name": "stdout",
     "output_type": "stream",
     "text": [
      "Training_loss 0.48013,   Relative Error 0.25079\n",
      "Training_loss 0.47919,   Relative Error 0.25055\n"
     ]
    },
    {
     "name": "stderr",
     "output_type": "stream",
     "text": [
      " 38%|███▊      | 756/2000 [01:52<02:13,  9.34it/s]"
     ]
    },
    {
     "name": "stdout",
     "output_type": "stream",
     "text": [
      "Training_loss 0.47819,   Relative Error 0.25029\n",
      "Training_loss 0.47676,   Relative Error 0.24992\n",
      "Training_loss 0.47572,   Relative Error 0.24965\n"
     ]
    },
    {
     "name": "stderr",
     "output_type": "stream",
     "text": [
      " 38%|███▊      | 759/2000 [01:52<02:14,  9.23it/s]"
     ]
    },
    {
     "name": "stdout",
     "output_type": "stream",
     "text": [
      "Training_loss 0.47448,   Relative Error 0.24933\n",
      "Training_loss 0.47318,   Relative Error 0.24899\n",
      "Training_loss 0.47265,   Relative Error 0.24885\n"
     ]
    },
    {
     "name": "stderr",
     "output_type": "stream",
     "text": [
      " 38%|███▊      | 762/2000 [01:52<02:06,  9.82it/s]"
     ]
    },
    {
     "name": "stdout",
     "output_type": "stream",
     "text": [
      "Training_loss 0.47104,   Relative Error 0.24843\n",
      "Training_loss 0.46999,   Relative Error 0.24815\n",
      "Training_loss 0.46840,   Relative Error 0.24774\n"
     ]
    },
    {
     "name": "stderr",
     "output_type": "stream",
     "text": [
      " 38%|███▊      | 765/2000 [01:52<02:01, 10.16it/s]"
     ]
    },
    {
     "name": "stdout",
     "output_type": "stream",
     "text": [
      "Training_loss 0.46620,   Relative Error 0.24716\n",
      "Training_loss 0.46437,   Relative Error 0.24668\n",
      "Training_loss 0.46259,   Relative Error 0.24621\n"
     ]
    },
    {
     "name": "stderr",
     "output_type": "stream",
     "text": [
      "\r",
      " 38%|███▊      | 767/2000 [01:53<01:59, 10.28it/s]"
     ]
    },
    {
     "name": "stdout",
     "output_type": "stream",
     "text": [
      "Training_loss 0.46050,   Relative Error 0.24565\n",
      "Training_loss 0.45908,   Relative Error 0.24527\n",
      "Training_loss 0.45796,   Relative Error 0.24498\n"
     ]
    },
    {
     "name": "stderr",
     "output_type": "stream",
     "text": [
      " 39%|███▊      | 771/2000 [01:53<01:58, 10.34it/s]"
     ]
    },
    {
     "name": "stdout",
     "output_type": "stream",
     "text": [
      "Training_loss 0.45644,   Relative Error 0.24457\n",
      "Training_loss 0.45598,   Relative Error 0.24445\n",
      "Training_loss 0.45461,   Relative Error 0.24409\n"
     ]
    },
    {
     "name": "stderr",
     "output_type": "stream",
     "text": [
      "\r",
      " 39%|███▊      | 773/2000 [01:53<01:57, 10.48it/s]"
     ]
    },
    {
     "name": "stdout",
     "output_type": "stream",
     "text": [
      "Training_loss 0.45343,   Relative Error 0.24377\n",
      "Training_loss 0.45212,   Relative Error 0.24342\n"
     ]
    },
    {
     "name": "stderr",
     "output_type": "stream",
     "text": [
      "\r",
      " 39%|███▉      | 775/2000 [01:53<02:01, 10.06it/s]"
     ]
    },
    {
     "name": "stdout",
     "output_type": "stream",
     "text": [
      "Training_loss 0.45146,   Relative Error 0.24325\n",
      "Training_loss 0.45082,   Relative Error 0.24308\n",
      "Training_loss 0.45028,   Relative Error 0.24293\n"
     ]
    },
    {
     "name": "stderr",
     "output_type": "stream",
     "text": [
      " 39%|███▉      | 778/2000 [01:54<02:07,  9.60it/s]"
     ]
    },
    {
     "name": "stdout",
     "output_type": "stream",
     "text": [
      "Training_loss 0.44919,   Relative Error 0.24264\n",
      "Training_loss 0.44720,   Relative Error 0.24210\n"
     ]
    },
    {
     "name": "stderr",
     "output_type": "stream",
     "text": [
      " 39%|███▉      | 780/2000 [01:54<02:21,  8.64it/s]"
     ]
    },
    {
     "name": "stdout",
     "output_type": "stream",
     "text": [
      "Training_loss 0.44593,   Relative Error 0.24176\n",
      "Training_loss 0.44487,   Relative Error 0.24148\n",
      "Training_loss 0.44304,   Relative Error 0.24098\n"
     ]
    },
    {
     "name": "stderr",
     "output_type": "stream",
     "text": [
      " 39%|███▉      | 783/2000 [01:54<02:12,  9.16it/s]"
     ]
    },
    {
     "name": "stdout",
     "output_type": "stream",
     "text": [
      "Training_loss 0.44141,   Relative Error 0.24054\n",
      "Training_loss 0.44013,   Relative Error 0.24020\n"
     ]
    },
    {
     "name": "stderr",
     "output_type": "stream",
     "text": [
      " 39%|███▉      | 786/2000 [01:55<02:05,  9.67it/s]"
     ]
    },
    {
     "name": "stdout",
     "output_type": "stream",
     "text": [
      "Training_loss 0.43913,   Relative Error 0.23992\n",
      "Training_loss 0.43790,   Relative Error 0.23960\n",
      "Training_loss 0.43662,   Relative Error 0.23925\n"
     ]
    },
    {
     "name": "stderr",
     "output_type": "stream",
     "text": [
      " 39%|███▉      | 788/2000 [01:55<02:12,  9.17it/s]"
     ]
    },
    {
     "name": "stdout",
     "output_type": "stream",
     "text": [
      "Training_loss 0.43430,   Relative Error 0.23861\n",
      "Training_loss 0.43303,   Relative Error 0.23827\n",
      "Training_loss 0.43237,   Relative Error 0.23809\n"
     ]
    },
    {
     "name": "stderr",
     "output_type": "stream",
     "text": [
      " 40%|███▉      | 792/2000 [01:55<02:02,  9.88it/s]"
     ]
    },
    {
     "name": "stdout",
     "output_type": "stream",
     "text": [
      "Training_loss 0.43122,   Relative Error 0.23778\n",
      "Training_loss 0.42988,   Relative Error 0.23741\n",
      "Training_loss 0.42708,   Relative Error 0.23664\n"
     ]
    },
    {
     "name": "stderr",
     "output_type": "stream",
     "text": [
      " 40%|███▉      | 794/2000 [01:56<02:15,  8.91it/s]"
     ]
    },
    {
     "name": "stdout",
     "output_type": "stream",
     "text": [
      "Training_loss 0.42608,   Relative Error 0.23637\n",
      "Training_loss 0.42476,   Relative Error 0.23600\n"
     ]
    },
    {
     "name": "stderr",
     "output_type": "stream",
     "text": [
      " 40%|███▉      | 797/2000 [01:56<02:04,  9.65it/s]"
     ]
    },
    {
     "name": "stdout",
     "output_type": "stream",
     "text": [
      "Training_loss 0.42283,   Relative Error 0.23547\n",
      "Training_loss 0.42157,   Relative Error 0.23512\n",
      "Training_loss 0.41996,   Relative Error 0.23468\n"
     ]
    },
    {
     "name": "stderr",
     "output_type": "stream",
     "text": [
      "\r",
      " 40%|███▉      | 799/2000 [01:56<02:00,  9.99it/s]"
     ]
    },
    {
     "name": "stdout",
     "output_type": "stream",
     "text": [
      "Training_loss 0.41953,   Relative Error 0.23457\n",
      "Training_loss 0.41843,   Relative Error 0.23426\n",
      "Training_loss 0.41739,   Relative Error 0.23397\n"
     ]
    },
    {
     "name": "stderr",
     "output_type": "stream",
     "text": [
      " 40%|████      | 803/2000 [01:56<01:53, 10.56it/s]"
     ]
    },
    {
     "name": "stdout",
     "output_type": "stream",
     "text": [
      "Training_loss 0.41641,   Relative Error 0.23370\n",
      "Training_loss 0.41493,   Relative Error 0.23328\n",
      "Training_loss 0.41331,   Relative Error 0.23284\n"
     ]
    },
    {
     "name": "stderr",
     "output_type": "stream",
     "text": [
      "\r",
      " 40%|████      | 805/2000 [01:57<01:52, 10.60it/s]"
     ]
    },
    {
     "name": "stdout",
     "output_type": "stream",
     "text": [
      "Training_loss 0.41213,   Relative Error 0.23251\n",
      "Training_loss 0.41102,   Relative Error 0.23220\n",
      "Training_loss 0.40998,   Relative Error 0.23191\n"
     ]
    },
    {
     "name": "stderr",
     "output_type": "stream",
     "text": [
      " 40%|████      | 809/2000 [01:57<01:49, 10.88it/s]"
     ]
    },
    {
     "name": "stdout",
     "output_type": "stream",
     "text": [
      "Training_loss 0.40858,   Relative Error 0.23152\n",
      "Training_loss 0.40776,   Relative Error 0.23129\n",
      "Training_loss 0.40598,   Relative Error 0.23078\n"
     ]
    },
    {
     "name": "stderr",
     "output_type": "stream",
     "text": [
      "\r",
      " 41%|████      | 811/2000 [01:57<01:49, 10.85it/s]"
     ]
    },
    {
     "name": "stdout",
     "output_type": "stream",
     "text": [
      "Training_loss 0.40518,   Relative Error 0.23056\n",
      "Training_loss 0.40428,   Relative Error 0.23030\n",
      "Training_loss 0.40393,   Relative Error 0.23021\n"
     ]
    },
    {
     "name": "stderr",
     "output_type": "stream",
     "text": [
      " 41%|████      | 815/2000 [01:57<01:49, 10.84it/s]"
     ]
    },
    {
     "name": "stdout",
     "output_type": "stream",
     "text": [
      "Training_loss 0.40280,   Relative Error 0.22989\n",
      "Training_loss 0.40152,   Relative Error 0.22953\n",
      "Training_loss 0.40001,   Relative Error 0.22909\n"
     ]
    },
    {
     "name": "stderr",
     "output_type": "stream",
     "text": [
      "\r",
      " 41%|████      | 817/2000 [01:58<01:57, 10.03it/s]"
     ]
    },
    {
     "name": "stdout",
     "output_type": "stream",
     "text": [
      "Training_loss 0.39854,   Relative Error 0.22868\n",
      "Training_loss 0.39726,   Relative Error 0.22831\n"
     ]
    },
    {
     "name": "stderr",
     "output_type": "stream",
     "text": [
      "\r",
      " 41%|████      | 819/2000 [01:58<01:55, 10.27it/s]"
     ]
    },
    {
     "name": "stdout",
     "output_type": "stream",
     "text": [
      "Training_loss 0.39680,   Relative Error 0.22818\n",
      "Training_loss 0.39557,   Relative Error 0.22783\n",
      "Training_loss 0.39348,   Relative Error 0.22723\n"
     ]
    },
    {
     "name": "stderr",
     "output_type": "stream",
     "text": [
      " 41%|████      | 823/2000 [01:58<01:50, 10.69it/s]"
     ]
    },
    {
     "name": "stdout",
     "output_type": "stream",
     "text": [
      "Training_loss 0.39271,   Relative Error 0.22701\n",
      "Training_loss 0.39110,   Relative Error 0.22655\n",
      "Training_loss 0.38952,   Relative Error 0.22610\n"
     ]
    },
    {
     "name": "stderr",
     "output_type": "stream",
     "text": [
      "\r",
      " 41%|████▏     | 825/2000 [01:58<01:49, 10.77it/s]"
     ]
    },
    {
     "name": "stdout",
     "output_type": "stream",
     "text": [
      "Training_loss 0.38909,   Relative Error 0.22598\n",
      "Training_loss 0.38762,   Relative Error 0.22555\n",
      "Training_loss 0.38626,   Relative Error 0.22516\n"
     ]
    },
    {
     "name": "stderr",
     "output_type": "stream",
     "text": [
      " 41%|████▏     | 829/2000 [01:59<01:49, 10.74it/s]"
     ]
    },
    {
     "name": "stdout",
     "output_type": "stream",
     "text": [
      "Training_loss 0.38419,   Relative Error 0.22456\n",
      "Training_loss 0.38365,   Relative Error 0.22440\n",
      "Training_loss 0.38251,   Relative Error 0.22408\n"
     ]
    },
    {
     "name": "stderr",
     "output_type": "stream",
     "text": [
      "\r",
      " 42%|████▏     | 831/2000 [01:59<01:51, 10.49it/s]"
     ]
    },
    {
     "name": "stdout",
     "output_type": "stream",
     "text": [
      "Training_loss 0.38115,   Relative Error 0.22368\n",
      "Training_loss 0.38057,   Relative Error 0.22351\n",
      "Training_loss 0.37872,   Relative Error 0.22297\n"
     ]
    },
    {
     "name": "stderr",
     "output_type": "stream",
     "text": [
      " 42%|████▏     | 835/2000 [01:59<01:48, 10.71it/s]"
     ]
    },
    {
     "name": "stdout",
     "output_type": "stream",
     "text": [
      "Training_loss 0.37800,   Relative Error 0.22276\n",
      "Training_loss 0.37656,   Relative Error 0.22234\n",
      "Training_loss 0.37566,   Relative Error 0.22207\n"
     ]
    },
    {
     "name": "stderr",
     "output_type": "stream",
     "text": [
      "\r",
      " 42%|████▏     | 837/2000 [02:00<01:47, 10.79it/s]"
     ]
    },
    {
     "name": "stdout",
     "output_type": "stream",
     "text": [
      "Training_loss 0.37429,   Relative Error 0.22167\n",
      "Training_loss 0.37342,   Relative Error 0.22141\n",
      "Training_loss 0.37276,   Relative Error 0.22122\n"
     ]
    },
    {
     "name": "stderr",
     "output_type": "stream",
     "text": [
      " 42%|████▏     | 841/2000 [02:00<01:52, 10.32it/s]"
     ]
    },
    {
     "name": "stdout",
     "output_type": "stream",
     "text": [
      "Training_loss 0.37136,   Relative Error 0.22081\n",
      "Training_loss 0.36967,   Relative Error 0.22031\n",
      "Training_loss 0.36926,   Relative Error 0.22019\n"
     ]
    },
    {
     "name": "stderr",
     "output_type": "stream",
     "text": [
      "\r",
      " 42%|████▏     | 843/2000 [02:00<01:50, 10.47it/s]"
     ]
    },
    {
     "name": "stdout",
     "output_type": "stream",
     "text": [
      "Training_loss 0.36853,   Relative Error 0.21998\n",
      "Training_loss 0.36682,   Relative Error 0.21947\n",
      "Training_loss 0.36520,   Relative Error 0.21898\n"
     ]
    },
    {
     "name": "stderr",
     "output_type": "stream",
     "text": [
      " 42%|████▏     | 847/2000 [02:01<01:48, 10.66it/s]"
     ]
    },
    {
     "name": "stdout",
     "output_type": "stream",
     "text": [
      "Training_loss 0.36388,   Relative Error 0.21859\n",
      "Training_loss 0.36316,   Relative Error 0.21837\n",
      "Training_loss 0.36201,   Relative Error 0.21803\n"
     ]
    },
    {
     "name": "stderr",
     "output_type": "stream",
     "text": [
      "\r",
      " 42%|████▏     | 849/2000 [02:01<01:47, 10.76it/s]"
     ]
    },
    {
     "name": "stdout",
     "output_type": "stream",
     "text": [
      "Training_loss 0.36155,   Relative Error 0.21790\n",
      "Training_loss 0.36094,   Relative Error 0.21771\n"
     ]
    },
    {
     "name": "stderr",
     "output_type": "stream",
     "text": [
      "\r",
      " 43%|████▎     | 851/2000 [02:01<01:50, 10.41it/s]"
     ]
    },
    {
     "name": "stdout",
     "output_type": "stream",
     "text": [
      "Training_loss 0.36010,   Relative Error 0.21746\n",
      "Training_loss 0.35926,   Relative Error 0.21720\n",
      "Training_loss 0.35794,   Relative Error 0.21680\n"
     ]
    },
    {
     "name": "stderr",
     "output_type": "stream",
     "text": [
      " 43%|████▎     | 855/2000 [02:01<01:45, 10.86it/s]"
     ]
    },
    {
     "name": "stdout",
     "output_type": "stream",
     "text": [
      "Training_loss 0.35663,   Relative Error 0.21641\n",
      "Training_loss 0.35520,   Relative Error 0.21598\n",
      "Training_loss 0.35400,   Relative Error 0.21562\n"
     ]
    },
    {
     "name": "stderr",
     "output_type": "stream",
     "text": [
      "\r",
      " 43%|████▎     | 857/2000 [02:01<01:45, 10.87it/s]"
     ]
    },
    {
     "name": "stdout",
     "output_type": "stream",
     "text": [
      "Training_loss 0.35340,   Relative Error 0.21544\n",
      "Training_loss 0.35230,   Relative Error 0.21510\n",
      "Training_loss 0.35175,   Relative Error 0.21494\n"
     ]
    },
    {
     "name": "stderr",
     "output_type": "stream",
     "text": [
      "\r",
      " 43%|████▎     | 859/2000 [02:02<01:44, 10.90it/s]"
     ]
    },
    {
     "name": "stdout",
     "output_type": "stream",
     "text": [
      "Training_loss 0.35081,   Relative Error 0.21466\n",
      "Training_loss 0.34980,   Relative Error 0.21434\n"
     ]
    },
    {
     "name": "stderr",
     "output_type": "stream",
     "text": [
      "\r",
      " 43%|████▎     | 861/2000 [02:02<02:12,  8.63it/s]"
     ]
    },
    {
     "name": "stdout",
     "output_type": "stream",
     "text": [
      "Training_loss 0.34941,   Relative Error 0.21423\n"
     ]
    },
    {
     "name": "stderr",
     "output_type": "stream",
     "text": [
      "\r",
      " 43%|████▎     | 862/2000 [02:02<02:39,  7.15it/s]"
     ]
    },
    {
     "name": "stdout",
     "output_type": "stream",
     "text": [
      "Training_loss 0.34816,   Relative Error 0.21385\n"
     ]
    },
    {
     "name": "stderr",
     "output_type": "stream",
     "text": [
      " 43%|████▎     | 864/2000 [02:03<03:00,  6.28it/s]"
     ]
    },
    {
     "name": "stdout",
     "output_type": "stream",
     "text": [
      "Training_loss 0.34721,   Relative Error 0.21356\n",
      "Training_loss 0.34610,   Relative Error 0.21322\n"
     ]
    },
    {
     "name": "stderr",
     "output_type": "stream",
     "text": [
      "\r",
      " 43%|████▎     | 865/2000 [02:03<04:27,  4.25it/s]"
     ]
    },
    {
     "name": "stdout",
     "output_type": "stream",
     "text": [
      "Training_loss 0.34507,   Relative Error 0.21291\n"
     ]
    },
    {
     "name": "stderr",
     "output_type": "stream",
     "text": [
      "\r",
      " 43%|████▎     | 866/2000 [02:03<04:35,  4.12it/s]"
     ]
    },
    {
     "name": "stdout",
     "output_type": "stream",
     "text": [
      "Training_loss 0.34459,   Relative Error 0.21276\n"
     ]
    },
    {
     "name": "stderr",
     "output_type": "stream",
     "text": [
      "\r",
      " 43%|████▎     | 867/2000 [02:04<04:25,  4.28it/s]"
     ]
    },
    {
     "name": "stdout",
     "output_type": "stream",
     "text": [
      "Training_loss 0.34371,   Relative Error 0.21249\n"
     ]
    },
    {
     "name": "stderr",
     "output_type": "stream",
     "text": [
      "\r",
      " 43%|████▎     | 868/2000 [02:04<04:24,  4.28it/s]"
     ]
    },
    {
     "name": "stdout",
     "output_type": "stream",
     "text": [
      "Training_loss 0.34299,   Relative Error 0.21228\n"
     ]
    },
    {
     "name": "stderr",
     "output_type": "stream",
     "text": [
      "\r",
      " 43%|████▎     | 869/2000 [02:04<05:04,  3.71it/s]"
     ]
    },
    {
     "name": "stdout",
     "output_type": "stream",
     "text": [
      "Training_loss 0.34217,   Relative Error 0.21203\n"
     ]
    },
    {
     "name": "stderr",
     "output_type": "stream",
     "text": [
      " 44%|████▎     | 871/2000 [02:05<04:30,  4.17it/s]"
     ]
    },
    {
     "name": "stdout",
     "output_type": "stream",
     "text": [
      "Training_loss 0.34097,   Relative Error 0.21166\n",
      "Training_loss 0.34063,   Relative Error 0.21156\n"
     ]
    },
    {
     "name": "stderr",
     "output_type": "stream",
     "text": [
      " 44%|████▎     | 873/2000 [02:05<03:48,  4.93it/s]"
     ]
    },
    {
     "name": "stdout",
     "output_type": "stream",
     "text": [
      "Training_loss 0.33925,   Relative Error 0.21113\n",
      "Training_loss 0.33841,   Relative Error 0.21087\n"
     ]
    },
    {
     "name": "stderr",
     "output_type": "stream",
     "text": [
      " 44%|████▍     | 875/2000 [02:05<03:51,  4.85it/s]"
     ]
    },
    {
     "name": "stdout",
     "output_type": "stream",
     "text": [
      "Training_loss 0.33771,   Relative Error 0.21066\n",
      "Training_loss 0.33670,   Relative Error 0.21035\n"
     ]
    },
    {
     "name": "stderr",
     "output_type": "stream",
     "text": [
      " 44%|████▍     | 877/2000 [02:06<03:28,  5.38it/s]"
     ]
    },
    {
     "name": "stdout",
     "output_type": "stream",
     "text": [
      "Training_loss 0.33535,   Relative Error 0.20992\n",
      "Training_loss 0.33440,   Relative Error 0.20963\n"
     ]
    },
    {
     "name": "stderr",
     "output_type": "stream",
     "text": [
      " 44%|████▍     | 879/2000 [02:06<03:19,  5.63it/s]"
     ]
    },
    {
     "name": "stdout",
     "output_type": "stream",
     "text": [
      "Training_loss 0.33260,   Relative Error 0.20907\n",
      "Training_loss 0.33191,   Relative Error 0.20885\n"
     ]
    },
    {
     "name": "stderr",
     "output_type": "stream",
     "text": [
      " 44%|████▍     | 881/2000 [02:06<02:47,  6.70it/s]"
     ]
    },
    {
     "name": "stdout",
     "output_type": "stream",
     "text": [
      "Training_loss 0.33069,   Relative Error 0.20847\n",
      "Training_loss 0.32967,   Relative Error 0.20815\n"
     ]
    },
    {
     "name": "stderr",
     "output_type": "stream",
     "text": [
      " 44%|████▍     | 883/2000 [02:07<02:34,  7.22it/s]"
     ]
    },
    {
     "name": "stdout",
     "output_type": "stream",
     "text": [
      "Training_loss 0.32876,   Relative Error 0.20787\n",
      "Training_loss 0.32723,   Relative Error 0.20739\n"
     ]
    },
    {
     "name": "stderr",
     "output_type": "stream",
     "text": [
      " 44%|████▍     | 885/2000 [02:07<02:17,  8.11it/s]"
     ]
    },
    {
     "name": "stdout",
     "output_type": "stream",
     "text": [
      "Training_loss 0.32592,   Relative Error 0.20697\n",
      "Training_loss 0.32543,   Relative Error 0.20682\n",
      "Training_loss 0.32434,   Relative Error 0.20648\n"
     ]
    },
    {
     "name": "stderr",
     "output_type": "stream",
     "text": [
      " 44%|████▍     | 889/2000 [02:07<02:00,  9.20it/s]"
     ]
    },
    {
     "name": "stdout",
     "output_type": "stream",
     "text": [
      "Training_loss 0.32358,   Relative Error 0.20623\n",
      "Training_loss 0.32322,   Relative Error 0.20612\n",
      "Training_loss 0.32258,   Relative Error 0.20592\n"
     ]
    },
    {
     "name": "stderr",
     "output_type": "stream",
     "text": [
      " 45%|████▍     | 892/2000 [02:07<01:55,  9.60it/s]"
     ]
    },
    {
     "name": "stdout",
     "output_type": "stream",
     "text": [
      "Training_loss 0.32174,   Relative Error 0.20566\n",
      "Training_loss 0.32114,   Relative Error 0.20547\n",
      "Training_loss 0.32082,   Relative Error 0.20537\n"
     ]
    },
    {
     "name": "stderr",
     "output_type": "stream",
     "text": [
      " 45%|████▍     | 895/2000 [02:08<01:52,  9.84it/s]"
     ]
    },
    {
     "name": "stdout",
     "output_type": "stream",
     "text": [
      "Training_loss 0.32015,   Relative Error 0.20516\n",
      "Training_loss 0.31936,   Relative Error 0.20491\n",
      "Training_loss 0.31850,   Relative Error 0.20463\n"
     ]
    },
    {
     "name": "stderr",
     "output_type": "stream",
     "text": [
      "\r",
      " 45%|████▍     | 897/2000 [02:08<01:47, 10.30it/s]"
     ]
    },
    {
     "name": "stdout",
     "output_type": "stream",
     "text": [
      "Training_loss 0.31737,   Relative Error 0.20427\n",
      "Training_loss 0.31628,   Relative Error 0.20392\n",
      "Training_loss 0.31531,   Relative Error 0.20361\n"
     ]
    },
    {
     "name": "stderr",
     "output_type": "stream",
     "text": [
      " 45%|████▌     | 901/2000 [02:08<01:44, 10.52it/s]"
     ]
    },
    {
     "name": "stdout",
     "output_type": "stream",
     "text": [
      "Training_loss 0.31504,   Relative Error 0.20353\n",
      "Training_loss 0.31459,   Relative Error 0.20338\n",
      "Training_loss 0.31410,   Relative Error 0.20323\n"
     ]
    },
    {
     "name": "stderr",
     "output_type": "stream",
     "text": [
      "\r",
      " 45%|████▌     | 903/2000 [02:09<01:45, 10.39it/s]"
     ]
    },
    {
     "name": "stdout",
     "output_type": "stream",
     "text": [
      "Training_loss 0.31384,   Relative Error 0.20314\n",
      "Training_loss 0.31293,   Relative Error 0.20285\n"
     ]
    },
    {
     "name": "stderr",
     "output_type": "stream",
     "text": [
      "\r",
      " 45%|████▌     | 905/2000 [02:09<01:54,  9.58it/s]"
     ]
    },
    {
     "name": "stdout",
     "output_type": "stream",
     "text": [
      "Training_loss 0.31258,   Relative Error 0.20274\n",
      "Training_loss 0.31102,   Relative Error 0.20224\n"
     ]
    },
    {
     "name": "stderr",
     "output_type": "stream",
     "text": [
      " 45%|████▌     | 907/2000 [02:09<02:01,  9.00it/s]"
     ]
    },
    {
     "name": "stdout",
     "output_type": "stream",
     "text": [
      "Training_loss 0.31034,   Relative Error 0.20202\n",
      "Training_loss 0.30957,   Relative Error 0.20177\n"
     ]
    },
    {
     "name": "stderr",
     "output_type": "stream",
     "text": [
      " 45%|████▌     | 909/2000 [02:09<01:59,  9.15it/s]"
     ]
    },
    {
     "name": "stdout",
     "output_type": "stream",
     "text": [
      "Training_loss 0.30869,   Relative Error 0.20148\n",
      "Training_loss 0.30787,   Relative Error 0.20121\n"
     ]
    },
    {
     "name": "stderr",
     "output_type": "stream",
     "text": [
      " 46%|████▌     | 911/2000 [02:09<01:58,  9.21it/s]"
     ]
    },
    {
     "name": "stdout",
     "output_type": "stream",
     "text": [
      "Training_loss 0.30714,   Relative Error 0.20098\n",
      "Training_loss 0.30663,   Relative Error 0.20081\n",
      "Training_loss 0.30608,   Relative Error 0.20064\n"
     ]
    },
    {
     "name": "stderr",
     "output_type": "stream",
     "text": [
      " 46%|████▌     | 915/2000 [02:10<01:50,  9.78it/s]"
     ]
    },
    {
     "name": "stdout",
     "output_type": "stream",
     "text": [
      "Training_loss 0.30551,   Relative Error 0.20045\n",
      "Training_loss 0.30523,   Relative Error 0.20036\n",
      "Training_loss 0.30435,   Relative Error 0.20007\n"
     ]
    },
    {
     "name": "stderr",
     "output_type": "stream",
     "text": [
      "\r",
      " 46%|████▌     | 917/2000 [02:10<01:49,  9.87it/s]"
     ]
    },
    {
     "name": "stdout",
     "output_type": "stream",
     "text": [
      "Training_loss 0.30371,   Relative Error 0.19986\n",
      "Training_loss 0.30264,   Relative Error 0.19950\n"
     ]
    },
    {
     "name": "stderr",
     "output_type": "stream",
     "text": [
      " 46%|████▌     | 920/2000 [02:10<01:46, 10.12it/s]"
     ]
    },
    {
     "name": "stdout",
     "output_type": "stream",
     "text": [
      "Training_loss 0.30204,   Relative Error 0.19931\n",
      "Training_loss 0.30141,   Relative Error 0.19911\n",
      "Training_loss 0.30078,   Relative Error 0.19890\n"
     ]
    },
    {
     "name": "stderr",
     "output_type": "stream",
     "text": [
      "\r",
      " 46%|████▌     | 922/2000 [02:11<01:46, 10.17it/s]"
     ]
    },
    {
     "name": "stdout",
     "output_type": "stream",
     "text": [
      "Training_loss 0.29921,   Relative Error 0.19838\n",
      "Training_loss 0.29783,   Relative Error 0.19793\n",
      "Training_loss 0.29712,   Relative Error 0.19769\n"
     ]
    },
    {
     "name": "stderr",
     "output_type": "stream",
     "text": [
      " 46%|████▋     | 926/2000 [02:11<01:46, 10.05it/s]"
     ]
    },
    {
     "name": "stdout",
     "output_type": "stream",
     "text": [
      "Training_loss 0.29656,   Relative Error 0.19751\n",
      "Training_loss 0.29589,   Relative Error 0.19729\n",
      "Training_loss 0.29498,   Relative Error 0.19699\n"
     ]
    },
    {
     "name": "stderr",
     "output_type": "stream",
     "text": [
      "\r",
      " 46%|████▋     | 928/2000 [02:11<01:44, 10.25it/s]"
     ]
    },
    {
     "name": "stdout",
     "output_type": "stream",
     "text": [
      "Training_loss 0.29428,   Relative Error 0.19675\n",
      "Training_loss 0.29366,   Relative Error 0.19655\n",
      "Training_loss 0.29310,   Relative Error 0.19636\n"
     ]
    },
    {
     "name": "stderr",
     "output_type": "stream",
     "text": [
      " 47%|████▋     | 932/2000 [02:12<01:46, 10.03it/s]"
     ]
    },
    {
     "name": "stdout",
     "output_type": "stream",
     "text": [
      "Training_loss 0.29247,   Relative Error 0.19615\n",
      "Training_loss 0.29105,   Relative Error 0.19568\n",
      "Training_loss 0.29037,   Relative Error 0.19546\n"
     ]
    },
    {
     "name": "stderr",
     "output_type": "stream",
     "text": [
      "\r",
      " 47%|████▋     | 934/2000 [02:12<01:44, 10.24it/s]"
     ]
    },
    {
     "name": "stdout",
     "output_type": "stream",
     "text": [
      "Training_loss 0.28922,   Relative Error 0.19507\n",
      "Training_loss 0.28808,   Relative Error 0.19469\n",
      "Training_loss 0.28755,   Relative Error 0.19451\n"
     ]
    },
    {
     "name": "stderr",
     "output_type": "stream",
     "text": [
      " 47%|████▋     | 938/2000 [02:12<01:40, 10.61it/s]"
     ]
    },
    {
     "name": "stdout",
     "output_type": "stream",
     "text": [
      "Training_loss 0.28721,   Relative Error 0.19440\n",
      "Training_loss 0.28705,   Relative Error 0.19434\n",
      "Training_loss 0.28630,   Relative Error 0.19410\n"
     ]
    },
    {
     "name": "stderr",
     "output_type": "stream",
     "text": [
      "\r",
      " 47%|████▋     | 940/2000 [02:12<01:38, 10.79it/s]"
     ]
    },
    {
     "name": "stdout",
     "output_type": "stream",
     "text": [
      "Training_loss 0.28504,   Relative Error 0.19367\n",
      "Training_loss 0.28434,   Relative Error 0.19343\n",
      "Training_loss 0.28398,   Relative Error 0.19331\n"
     ]
    },
    {
     "name": "stderr",
     "output_type": "stream",
     "text": [
      " 47%|████▋     | 944/2000 [02:13<01:37, 10.87it/s]"
     ]
    },
    {
     "name": "stdout",
     "output_type": "stream",
     "text": [
      "Training_loss 0.28346,   Relative Error 0.19313\n",
      "Training_loss 0.28264,   Relative Error 0.19286\n",
      "Training_loss 0.28214,   Relative Error 0.19269\n"
     ]
    },
    {
     "name": "stderr",
     "output_type": "stream",
     "text": [
      "\r",
      " 47%|████▋     | 946/2000 [02:13<01:35, 11.06it/s]"
     ]
    },
    {
     "name": "stdout",
     "output_type": "stream",
     "text": [
      "Training_loss 0.28129,   Relative Error 0.19240\n",
      "Training_loss 0.28087,   Relative Error 0.19226\n"
     ]
    },
    {
     "name": "stderr",
     "output_type": "stream",
     "text": [
      "\r",
      " 47%|████▋     | 948/2000 [02:13<01:40, 10.48it/s]"
     ]
    },
    {
     "name": "stdout",
     "output_type": "stream",
     "text": [
      "Training_loss 0.28027,   Relative Error 0.19205\n",
      "Training_loss 0.27961,   Relative Error 0.19183\n",
      "Training_loss 0.27857,   Relative Error 0.19148\n"
     ]
    },
    {
     "name": "stderr",
     "output_type": "stream",
     "text": [
      " 48%|████▊     | 952/2000 [02:13<01:38, 10.59it/s]"
     ]
    },
    {
     "name": "stdout",
     "output_type": "stream",
     "text": [
      "Training_loss 0.27784,   Relative Error 0.19123\n",
      "Training_loss 0.27730,   Relative Error 0.19105\n",
      "Training_loss 0.27682,   Relative Error 0.19089\n"
     ]
    },
    {
     "name": "stderr",
     "output_type": "stream",
     "text": [
      "\r",
      " 48%|████▊     | 954/2000 [02:14<01:43, 10.15it/s]"
     ]
    },
    {
     "name": "stdout",
     "output_type": "stream",
     "text": [
      "Training_loss 0.27539,   Relative Error 0.19040\n",
      "Training_loss 0.27458,   Relative Error 0.19012\n",
      "Training_loss 0.27379,   Relative Error 0.18985\n"
     ]
    },
    {
     "name": "stderr",
     "output_type": "stream",
     "text": [
      " 48%|████▊     | 958/2000 [02:14<01:39, 10.47it/s]"
     ]
    },
    {
     "name": "stdout",
     "output_type": "stream",
     "text": [
      "Training_loss 0.27292,   Relative Error 0.18954\n",
      "Training_loss 0.27210,   Relative Error 0.18926\n",
      "Training_loss 0.27153,   Relative Error 0.18907\n"
     ]
    },
    {
     "name": "stderr",
     "output_type": "stream",
     "text": [
      "\r",
      " 48%|████▊     | 960/2000 [02:14<01:38, 10.51it/s]"
     ]
    },
    {
     "name": "stdout",
     "output_type": "stream",
     "text": [
      "Training_loss 0.27125,   Relative Error 0.18897\n",
      "Training_loss 0.27083,   Relative Error 0.18882\n",
      "Training_loss 0.27023,   Relative Error 0.18861\n"
     ]
    },
    {
     "name": "stderr",
     "output_type": "stream",
     "text": [
      " 48%|████▊     | 964/2000 [02:14<01:35, 10.87it/s]"
     ]
    },
    {
     "name": "stdout",
     "output_type": "stream",
     "text": [
      "Training_loss 0.26999,   Relative Error 0.18853\n",
      "Training_loss 0.26958,   Relative Error 0.18839\n",
      "Training_loss 0.26917,   Relative Error 0.18825\n"
     ]
    },
    {
     "name": "stderr",
     "output_type": "stream",
     "text": [
      "\r",
      " 48%|████▊     | 966/2000 [02:15<01:35, 10.86it/s]"
     ]
    },
    {
     "name": "stdout",
     "output_type": "stream",
     "text": [
      "Training_loss 0.26765,   Relative Error 0.18772\n",
      "Training_loss 0.26693,   Relative Error 0.18747\n",
      "Training_loss 0.26647,   Relative Error 0.18731\n"
     ]
    },
    {
     "name": "stderr",
     "output_type": "stream",
     "text": [
      " 48%|████▊     | 970/2000 [02:15<01:32, 11.13it/s]"
     ]
    },
    {
     "name": "stdout",
     "output_type": "stream",
     "text": [
      "Training_loss 0.26567,   Relative Error 0.18703\n",
      "Training_loss 0.26512,   Relative Error 0.18684\n",
      "Training_loss 0.26460,   Relative Error 0.18666\n"
     ]
    },
    {
     "name": "stderr",
     "output_type": "stream",
     "text": [
      "\r",
      " 49%|████▊     | 972/2000 [02:15<01:32, 11.07it/s]"
     ]
    },
    {
     "name": "stdout",
     "output_type": "stream",
     "text": [
      "Training_loss 0.26416,   Relative Error 0.18651\n",
      "Training_loss 0.26345,   Relative Error 0.18626\n",
      "Training_loss 0.26279,   Relative Error 0.18603\n"
     ]
    },
    {
     "name": "stderr",
     "output_type": "stream",
     "text": [
      "\r",
      " 49%|████▊     | 974/2000 [02:15<01:31, 11.19it/s]"
     ]
    },
    {
     "name": "stdout",
     "output_type": "stream",
     "text": [
      "Training_loss 0.26191,   Relative Error 0.18572\n",
      "Training_loss 0.26097,   Relative Error 0.18539\n"
     ]
    },
    {
     "name": "stderr",
     "output_type": "stream",
     "text": [
      " 49%|████▉     | 978/2000 [02:16<01:36, 10.55it/s]"
     ]
    },
    {
     "name": "stdout",
     "output_type": "stream",
     "text": [
      "Training_loss 0.26012,   Relative Error 0.18509\n",
      "Training_loss 0.25949,   Relative Error 0.18487\n",
      "Training_loss 0.25871,   Relative Error 0.18459\n"
     ]
    },
    {
     "name": "stderr",
     "output_type": "stream",
     "text": [
      "\r",
      " 49%|████▉     | 980/2000 [02:16<01:37, 10.42it/s]"
     ]
    },
    {
     "name": "stdout",
     "output_type": "stream",
     "text": [
      "Training_loss 0.25798,   Relative Error 0.18433\n",
      "Training_loss 0.25776,   Relative Error 0.18425\n"
     ]
    },
    {
     "name": "stderr",
     "output_type": "stream",
     "text": [
      "\r",
      " 49%|████▉     | 982/2000 [02:16<01:40, 10.11it/s]"
     ]
    },
    {
     "name": "stdout",
     "output_type": "stream",
     "text": [
      "Training_loss 0.25753,   Relative Error 0.18417\n",
      "Training_loss 0.25690,   Relative Error 0.18395\n",
      "Training_loss 0.25598,   Relative Error 0.18362\n"
     ]
    },
    {
     "name": "stderr",
     "output_type": "stream",
     "text": [
      " 49%|████▉     | 986/2000 [02:17<01:38, 10.25it/s]"
     ]
    },
    {
     "name": "stdout",
     "output_type": "stream",
     "text": [
      "Training_loss 0.25517,   Relative Error 0.18334\n",
      "Training_loss 0.25426,   Relative Error 0.18301\n",
      "Training_loss 0.25392,   Relative Error 0.18289\n"
     ]
    },
    {
     "name": "stderr",
     "output_type": "stream",
     "text": [
      "\r",
      " 49%|████▉     | 988/2000 [02:17<01:48,  9.31it/s]"
     ]
    },
    {
     "name": "stdout",
     "output_type": "stream",
     "text": [
      "Training_loss 0.25329,   Relative Error 0.18267\n",
      "Training_loss 0.25280,   Relative Error 0.18250\n",
      "Training_loss 0.25188,   Relative Error 0.18217\n"
     ]
    },
    {
     "name": "stderr",
     "output_type": "stream",
     "text": [
      " 50%|████▉     | 992/2000 [02:17<01:41,  9.94it/s]"
     ]
    },
    {
     "name": "stdout",
     "output_type": "stream",
     "text": [
      "Training_loss 0.25174,   Relative Error 0.18212\n",
      "Training_loss 0.25131,   Relative Error 0.18197\n",
      "Training_loss 0.25090,   Relative Error 0.18182\n"
     ]
    },
    {
     "name": "stderr",
     "output_type": "stream",
     "text": [
      "\r",
      " 50%|████▉     | 994/2000 [02:17<01:38, 10.21it/s]"
     ]
    },
    {
     "name": "stdout",
     "output_type": "stream",
     "text": [
      "Training_loss 0.25043,   Relative Error 0.18165\n",
      "Training_loss 0.24990,   Relative Error 0.18146\n",
      "Training_loss 0.24930,   Relative Error 0.18125\n"
     ]
    },
    {
     "name": "stderr",
     "output_type": "stream",
     "text": [
      " 50%|████▉     | 998/2000 [02:18<01:35, 10.44it/s]"
     ]
    },
    {
     "name": "stdout",
     "output_type": "stream",
     "text": [
      "Training_loss 0.24875,   Relative Error 0.18105\n",
      "Training_loss 0.24844,   Relative Error 0.18094\n",
      "Training_loss 0.24780,   Relative Error 0.18071\n"
     ]
    },
    {
     "name": "stderr",
     "output_type": "stream",
     "text": [
      "\r",
      " 50%|█████     | 1000/2000 [02:18<01:36, 10.38it/s]"
     ]
    },
    {
     "name": "stdout",
     "output_type": "stream",
     "text": [
      "Training_loss 0.24691,   Relative Error 0.18038\n",
      "Training_loss 0.24639,   Relative Error 0.18020\n",
      "Training_loss 0.24567,   Relative Error 0.17993\n"
     ]
    },
    {
     "name": "stderr",
     "output_type": "stream",
     "text": [
      " 50%|█████     | 1004/2000 [02:18<01:36, 10.30it/s]"
     ]
    },
    {
     "name": "stdout",
     "output_type": "stream",
     "text": [
      "Training_loss 0.24515,   Relative Error 0.17975\n",
      "Training_loss 0.24433,   Relative Error 0.17945\n",
      "Training_loss 0.24399,   Relative Error 0.17933\n"
     ]
    },
    {
     "name": "stderr",
     "output_type": "stream",
     "text": [
      "\r",
      " 50%|█████     | 1006/2000 [02:19<01:34, 10.49it/s]"
     ]
    },
    {
     "name": "stdout",
     "output_type": "stream",
     "text": [
      "Training_loss 0.24367,   Relative Error 0.17921\n",
      "Training_loss 0.24331,   Relative Error 0.17909\n",
      "Training_loss 0.24307,   Relative Error 0.17900\n"
     ]
    },
    {
     "name": "stderr",
     "output_type": "stream",
     "text": [
      " 50%|█████     | 1010/2000 [02:19<01:32, 10.71it/s]"
     ]
    },
    {
     "name": "stdout",
     "output_type": "stream",
     "text": [
      "Training_loss 0.24266,   Relative Error 0.17885\n",
      "Training_loss 0.24222,   Relative Error 0.17869\n",
      "Training_loss 0.24162,   Relative Error 0.17847\n"
     ]
    },
    {
     "name": "stderr",
     "output_type": "stream",
     "text": [
      "\r",
      " 51%|█████     | 1012/2000 [02:19<01:31, 10.83it/s]"
     ]
    },
    {
     "name": "stdout",
     "output_type": "stream",
     "text": [
      "Training_loss 0.24095,   Relative Error 0.17823\n",
      "Training_loss 0.24023,   Relative Error 0.17796\n",
      "Training_loss 0.23962,   Relative Error 0.17774\n"
     ]
    },
    {
     "name": "stderr",
     "output_type": "stream",
     "text": [
      " 51%|█████     | 1016/2000 [02:19<01:29, 11.04it/s]"
     ]
    },
    {
     "name": "stdout",
     "output_type": "stream",
     "text": [
      "Training_loss 0.23878,   Relative Error 0.17743\n",
      "Training_loss 0.23809,   Relative Error 0.17718\n",
      "Training_loss 0.23774,   Relative Error 0.17704\n"
     ]
    },
    {
     "name": "stderr",
     "output_type": "stream",
     "text": [
      "\r",
      " 51%|█████     | 1018/2000 [02:20<01:36, 10.13it/s]"
     ]
    },
    {
     "name": "stdout",
     "output_type": "stream",
     "text": [
      "Training_loss 0.23744,   Relative Error 0.17693\n",
      "Training_loss 0.23711,   Relative Error 0.17682\n"
     ]
    },
    {
     "name": "stderr",
     "output_type": "stream",
     "text": [
      "\r",
      " 51%|█████     | 1020/2000 [02:20<01:49,  8.97it/s]"
     ]
    },
    {
     "name": "stdout",
     "output_type": "stream",
     "text": [
      "Training_loss 0.23644,   Relative Error 0.17657\n",
      "Training_loss 0.23561,   Relative Error 0.17626\n"
     ]
    },
    {
     "name": "stderr",
     "output_type": "stream",
     "text": [
      " 51%|█████     | 1022/2000 [02:20<02:00,  8.10it/s]"
     ]
    },
    {
     "name": "stdout",
     "output_type": "stream",
     "text": [
      "Training_loss 0.23481,   Relative Error 0.17597\n",
      "Training_loss 0.23459,   Relative Error 0.17589\n"
     ]
    },
    {
     "name": "stderr",
     "output_type": "stream",
     "text": [
      " 51%|█████     | 1024/2000 [02:21<02:32,  6.41it/s]"
     ]
    },
    {
     "name": "stdout",
     "output_type": "stream",
     "text": [
      "Training_loss 0.23366,   Relative Error 0.17554\n",
      "Training_loss 0.23322,   Relative Error 0.17538\n"
     ]
    },
    {
     "name": "stderr",
     "output_type": "stream",
     "text": [
      " 51%|█████▏    | 1026/2000 [02:21<02:33,  6.35it/s]"
     ]
    },
    {
     "name": "stdout",
     "output_type": "stream",
     "text": [
      "Training_loss 0.23312,   Relative Error 0.17534\n",
      "Training_loss 0.23238,   Relative Error 0.17506\n"
     ]
    },
    {
     "name": "stderr",
     "output_type": "stream",
     "text": [
      " 51%|█████▏    | 1028/2000 [02:21<02:46,  5.85it/s]"
     ]
    },
    {
     "name": "stdout",
     "output_type": "stream",
     "text": [
      "Training_loss 0.23179,   Relative Error 0.17484\n",
      "Training_loss 0.23114,   Relative Error 0.17460\n"
     ]
    },
    {
     "name": "stderr",
     "output_type": "stream",
     "text": [
      " 52%|█████▏    | 1030/2000 [02:22<02:59,  5.41it/s]"
     ]
    },
    {
     "name": "stdout",
     "output_type": "stream",
     "text": [
      "Training_loss 0.23051,   Relative Error 0.17436\n",
      "Training_loss 0.23031,   Relative Error 0.17429\n"
     ]
    },
    {
     "name": "stderr",
     "output_type": "stream",
     "text": [
      " 52%|█████▏    | 1032/2000 [02:22<02:59,  5.40it/s]"
     ]
    },
    {
     "name": "stdout",
     "output_type": "stream",
     "text": [
      "Training_loss 0.22969,   Relative Error 0.17406\n",
      "Training_loss 0.22928,   Relative Error 0.17390\n"
     ]
    },
    {
     "name": "stderr",
     "output_type": "stream",
     "text": [
      " 52%|█████▏    | 1034/2000 [02:22<02:29,  6.47it/s]"
     ]
    },
    {
     "name": "stdout",
     "output_type": "stream",
     "text": [
      "Training_loss 0.22797,   Relative Error 0.17341\n",
      "Training_loss 0.22779,   Relative Error 0.17334\n"
     ]
    },
    {
     "name": "stderr",
     "output_type": "stream",
     "text": [
      " 52%|█████▏    | 1036/2000 [02:23<02:41,  5.95it/s]"
     ]
    },
    {
     "name": "stdout",
     "output_type": "stream",
     "text": [
      "Training_loss 0.22727,   Relative Error 0.17314\n",
      "Training_loss 0.22706,   Relative Error 0.17306\n"
     ]
    },
    {
     "name": "stderr",
     "output_type": "stream",
     "text": [
      " 52%|█████▏    | 1038/2000 [02:23<02:27,  6.54it/s]"
     ]
    },
    {
     "name": "stdout",
     "output_type": "stream",
     "text": [
      "Training_loss 0.22686,   Relative Error 0.17299\n",
      "Training_loss 0.22649,   Relative Error 0.17285\n"
     ]
    },
    {
     "name": "stderr",
     "output_type": "stream",
     "text": [
      " 52%|█████▏    | 1040/2000 [02:23<02:11,  7.28it/s]"
     ]
    },
    {
     "name": "stdout",
     "output_type": "stream",
     "text": [
      "Training_loss 0.22622,   Relative Error 0.17274\n",
      "Training_loss 0.22575,   Relative Error 0.17257\n"
     ]
    },
    {
     "name": "stderr",
     "output_type": "stream",
     "text": [
      " 52%|█████▏    | 1042/2000 [02:23<01:57,  8.16it/s]"
     ]
    },
    {
     "name": "stdout",
     "output_type": "stream",
     "text": [
      "Training_loss 0.22513,   Relative Error 0.17233\n",
      "Training_loss 0.22438,   Relative Error 0.17205\n"
     ]
    },
    {
     "name": "stderr",
     "output_type": "stream",
     "text": [
      " 52%|█████▏    | 1044/2000 [02:24<01:52,  8.54it/s]"
     ]
    },
    {
     "name": "stdout",
     "output_type": "stream",
     "text": [
      "Training_loss 0.22396,   Relative Error 0.17188\n",
      "Training_loss 0.22367,   Relative Error 0.17177\n"
     ]
    },
    {
     "name": "stderr",
     "output_type": "stream",
     "text": [
      " 52%|█████▏    | 1046/2000 [02:24<01:51,  8.58it/s]"
     ]
    },
    {
     "name": "stdout",
     "output_type": "stream",
     "text": [
      "Training_loss 0.22309,   Relative Error 0.17155\n",
      "Training_loss 0.22288,   Relative Error 0.17147\n",
      "Training_loss 0.22237,   Relative Error 0.17128\n"
     ]
    },
    {
     "name": "stderr",
     "output_type": "stream",
     "text": [
      "\r",
      " 52%|█████▏    | 1048/2000 [02:24<01:43,  9.15it/s]"
     ]
    },
    {
     "name": "stdout",
     "output_type": "stream",
     "text": [
      "Training_loss 0.22177,   Relative Error 0.17105\n",
      "Training_loss 0.22093,   Relative Error 0.17073\n",
      "Training_loss 0.22035,   Relative Error 0.17051\n"
     ]
    },
    {
     "name": "stderr",
     "output_type": "stream",
     "text": [
      " 53%|█████▎    | 1052/2000 [02:25<01:35,  9.92it/s]"
     ]
    },
    {
     "name": "stdout",
     "output_type": "stream",
     "text": [
      "Training_loss 0.21945,   Relative Error 0.17017\n",
      "Training_loss 0.21908,   Relative Error 0.17003\n"
     ]
    },
    {
     "name": "stderr",
     "output_type": "stream",
     "text": [
      " 53%|█████▎    | 1054/2000 [02:25<01:56,  8.16it/s]"
     ]
    },
    {
     "name": "stdout",
     "output_type": "stream",
     "text": [
      "Training_loss 0.21878,   Relative Error 0.16991\n",
      "Training_loss 0.21820,   Relative Error 0.16969\n"
     ]
    },
    {
     "name": "stderr",
     "output_type": "stream",
     "text": [
      " 53%|█████▎    | 1056/2000 [02:25<01:49,  8.59it/s]"
     ]
    },
    {
     "name": "stdout",
     "output_type": "stream",
     "text": [
      "Training_loss 0.21793,   Relative Error 0.16958\n",
      "Training_loss 0.21776,   Relative Error 0.16952\n"
     ]
    },
    {
     "name": "stderr",
     "output_type": "stream",
     "text": [
      " 53%|█████▎    | 1058/2000 [02:25<01:45,  8.93it/s]"
     ]
    },
    {
     "name": "stdout",
     "output_type": "stream",
     "text": [
      "Training_loss 0.21747,   Relative Error 0.16941\n",
      "Training_loss 0.21731,   Relative Error 0.16935\n",
      "Training_loss 0.21709,   Relative Error 0.16927\n"
     ]
    },
    {
     "name": "stderr",
     "output_type": "stream",
     "text": [
      " 53%|█████▎    | 1061/2000 [02:26<01:48,  8.65it/s]"
     ]
    },
    {
     "name": "stdout",
     "output_type": "stream",
     "text": [
      "Training_loss 0.21672,   Relative Error 0.16913\n",
      "Training_loss 0.21597,   Relative Error 0.16884\n"
     ]
    },
    {
     "name": "stderr",
     "output_type": "stream",
     "text": [
      " 53%|█████▎    | 1063/2000 [02:26<01:50,  8.51it/s]"
     ]
    },
    {
     "name": "stdout",
     "output_type": "stream",
     "text": [
      "Training_loss 0.21554,   Relative Error 0.16867\n",
      "Training_loss 0.21506,   Relative Error 0.16848\n"
     ]
    },
    {
     "name": "stderr",
     "output_type": "stream",
     "text": [
      " 53%|█████▎    | 1065/2000 [02:26<01:46,  8.76it/s]"
     ]
    },
    {
     "name": "stdout",
     "output_type": "stream",
     "text": [
      "Training_loss 0.21469,   Relative Error 0.16834\n",
      "Training_loss 0.21451,   Relative Error 0.16827\n"
     ]
    },
    {
     "name": "stderr",
     "output_type": "stream",
     "text": [
      " 53%|█████▎    | 1067/2000 [02:26<01:58,  7.88it/s]"
     ]
    },
    {
     "name": "stdout",
     "output_type": "stream",
     "text": [
      "Training_loss 0.21393,   Relative Error 0.16805\n",
      "Training_loss 0.21343,   Relative Error 0.16785\n"
     ]
    },
    {
     "name": "stderr",
     "output_type": "stream",
     "text": [
      "\r",
      " 53%|█████▎    | 1068/2000 [02:27<02:01,  7.68it/s]"
     ]
    },
    {
     "name": "stdout",
     "output_type": "stream",
     "text": [
      "Training_loss 0.21308,   Relative Error 0.16771\n"
     ]
    },
    {
     "name": "stderr",
     "output_type": "stream",
     "text": [
      "\r",
      " 53%|█████▎    | 1069/2000 [02:27<04:21,  3.56it/s]"
     ]
    },
    {
     "name": "stdout",
     "output_type": "stream",
     "text": [
      "Training_loss 0.21244,   Relative Error 0.16746\n"
     ]
    },
    {
     "name": "stderr",
     "output_type": "stream",
     "text": [
      "\r",
      " 54%|█████▎    | 1070/2000 [02:28<04:47,  3.24it/s]"
     ]
    },
    {
     "name": "stdout",
     "output_type": "stream",
     "text": [
      "Training_loss 0.21195,   Relative Error 0.16727\n"
     ]
    },
    {
     "name": "stderr",
     "output_type": "stream",
     "text": [
      "\r",
      " 54%|█████▎    | 1071/2000 [02:28<05:00,  3.09it/s]"
     ]
    },
    {
     "name": "stdout",
     "output_type": "stream",
     "text": [
      "Training_loss 0.21180,   Relative Error 0.16721\n"
     ]
    },
    {
     "name": "stderr",
     "output_type": "stream",
     "text": [
      "\r",
      " 54%|█████▎    | 1072/2000 [02:28<05:12,  2.97it/s]"
     ]
    },
    {
     "name": "stdout",
     "output_type": "stream",
     "text": [
      "Training_loss 0.21127,   Relative Error 0.16700\n"
     ]
    },
    {
     "name": "stderr",
     "output_type": "stream",
     "text": [
      "\r",
      " 54%|█████▎    | 1073/2000 [02:29<04:59,  3.09it/s]"
     ]
    },
    {
     "name": "stdout",
     "output_type": "stream",
     "text": [
      "Training_loss 0.21114,   Relative Error 0.16695\n"
     ]
    },
    {
     "name": "stderr",
     "output_type": "stream",
     "text": [
      "\r",
      " 54%|█████▎    | 1074/2000 [02:29<04:48,  3.21it/s]"
     ]
    },
    {
     "name": "stdout",
     "output_type": "stream",
     "text": [
      "Training_loss 0.21039,   Relative Error 0.16666\n"
     ]
    },
    {
     "name": "stderr",
     "output_type": "stream",
     "text": [
      " 54%|█████▍    | 1076/2000 [02:29<04:17,  3.59it/s]"
     ]
    },
    {
     "name": "stdout",
     "output_type": "stream",
     "text": [
      "Training_loss 0.21022,   Relative Error 0.16659\n",
      "Training_loss 0.20974,   Relative Error 0.16640\n"
     ]
    },
    {
     "name": "stderr",
     "output_type": "stream",
     "text": [
      "\r",
      " 54%|█████▍    | 1077/2000 [02:30<04:01,  3.82it/s]"
     ]
    },
    {
     "name": "stdout",
     "output_type": "stream",
     "text": [
      "Training_loss 0.20906,   Relative Error 0.16614\n"
     ]
    },
    {
     "name": "stderr",
     "output_type": "stream",
     "text": [
      " 54%|█████▍    | 1079/2000 [02:30<03:44,  4.10it/s]"
     ]
    },
    {
     "name": "stdout",
     "output_type": "stream",
     "text": [
      "Training_loss 0.20849,   Relative Error 0.16591\n",
      "Training_loss 0.20827,   Relative Error 0.16583\n"
     ]
    },
    {
     "name": "stderr",
     "output_type": "stream",
     "text": [
      "\r",
      " 54%|█████▍    | 1080/2000 [02:30<03:33,  4.30it/s]"
     ]
    },
    {
     "name": "stdout",
     "output_type": "stream",
     "text": [
      "Training_loss 0.20813,   Relative Error 0.16577\n"
     ]
    },
    {
     "name": "stderr",
     "output_type": "stream",
     "text": [
      " 54%|█████▍    | 1082/2000 [02:31<03:16,  4.68it/s]"
     ]
    },
    {
     "name": "stdout",
     "output_type": "stream",
     "text": [
      "Training_loss 0.20775,   Relative Error 0.16563\n",
      "Training_loss 0.20710,   Relative Error 0.16536\n"
     ]
    },
    {
     "name": "stderr",
     "output_type": "stream",
     "text": [
      " 54%|█████▍    | 1084/2000 [02:31<02:33,  5.96it/s]"
     ]
    },
    {
     "name": "stdout",
     "output_type": "stream",
     "text": [
      "Training_loss 0.20669,   Relative Error 0.16520\n",
      "Training_loss 0.20622,   Relative Error 0.16501\n"
     ]
    },
    {
     "name": "stderr",
     "output_type": "stream",
     "text": [
      " 54%|█████▍    | 1086/2000 [02:31<02:19,  6.56it/s]"
     ]
    },
    {
     "name": "stdout",
     "output_type": "stream",
     "text": [
      "Training_loss 0.20550,   Relative Error 0.16473\n",
      "Training_loss 0.20488,   Relative Error 0.16448\n"
     ]
    },
    {
     "name": "stderr",
     "output_type": "stream",
     "text": [
      " 54%|█████▍    | 1088/2000 [02:31<02:00,  7.56it/s]"
     ]
    },
    {
     "name": "stdout",
     "output_type": "stream",
     "text": [
      "Training_loss 0.20415,   Relative Error 0.16419\n",
      "Training_loss 0.20382,   Relative Error 0.16406\n",
      "Training_loss 0.20329,   Relative Error 0.16384\n"
     ]
    },
    {
     "name": "stderr",
     "output_type": "stream",
     "text": [
      " 55%|█████▍    | 1092/2000 [02:32<01:30, 10.00it/s]"
     ]
    },
    {
     "name": "stdout",
     "output_type": "stream",
     "text": [
      "Training_loss 0.20278,   Relative Error 0.16364\n",
      "Training_loss 0.20226,   Relative Error 0.16343\n",
      "Training_loss 0.20163,   Relative Error 0.16318\n"
     ]
    },
    {
     "name": "stderr",
     "output_type": "stream",
     "text": [
      "\r",
      " 55%|█████▍    | 1094/2000 [02:32<01:31,  9.93it/s]"
     ]
    },
    {
     "name": "stdout",
     "output_type": "stream",
     "text": [
      "Training_loss 0.20149,   Relative Error 0.16312\n",
      "Training_loss 0.20069,   Relative Error 0.16280\n"
     ]
    },
    {
     "name": "stderr",
     "output_type": "stream",
     "text": [
      "\r",
      " 55%|█████▍    | 1096/2000 [02:32<01:30,  9.98it/s]"
     ]
    },
    {
     "name": "stdout",
     "output_type": "stream",
     "text": [
      "Training_loss 0.20060,   Relative Error 0.16277\n",
      "Training_loss 0.20032,   Relative Error 0.16266\n",
      "Training_loss 0.19987,   Relative Error 0.16248\n"
     ]
    },
    {
     "name": "stderr",
     "output_type": "stream",
     "text": [
      " 55%|█████▌    | 1100/2000 [02:33<01:25, 10.51it/s]"
     ]
    },
    {
     "name": "stdout",
     "output_type": "stream",
     "text": [
      "Training_loss 0.19960,   Relative Error 0.16237\n",
      "Training_loss 0.19952,   Relative Error 0.16233\n",
      "Training_loss 0.19930,   Relative Error 0.16224\n"
     ]
    },
    {
     "name": "stderr",
     "output_type": "stream",
     "text": [
      "\r",
      " 55%|█████▌    | 1102/2000 [02:33<01:21, 10.99it/s]"
     ]
    },
    {
     "name": "stdout",
     "output_type": "stream",
     "text": [
      "Training_loss 0.19904,   Relative Error 0.16214\n",
      "Training_loss 0.19893,   Relative Error 0.16210\n",
      "Training_loss 0.19835,   Relative Error 0.16186\n"
     ]
    },
    {
     "name": "stderr",
     "output_type": "stream",
     "text": [
      " 55%|█████▌    | 1106/2000 [02:33<01:15, 11.91it/s]"
     ]
    },
    {
     "name": "stdout",
     "output_type": "stream",
     "text": [
      "Training_loss 0.19790,   Relative Error 0.16168\n",
      "Training_loss 0.19722,   Relative Error 0.16141\n",
      "Training_loss 0.19666,   Relative Error 0.16118\n"
     ]
    },
    {
     "name": "stderr",
     "output_type": "stream",
     "text": [
      "\r",
      " 55%|█████▌    | 1108/2000 [02:33<01:14, 12.02it/s]"
     ]
    },
    {
     "name": "stdout",
     "output_type": "stream",
     "text": [
      "Training_loss 0.19620,   Relative Error 0.16099\n",
      "Training_loss 0.19603,   Relative Error 0.16092\n",
      "Training_loss 0.19560,   Relative Error 0.16075\n"
     ]
    },
    {
     "name": "stderr",
     "output_type": "stream",
     "text": [
      " 56%|█████▌    | 1112/2000 [02:33<01:15, 11.74it/s]"
     ]
    },
    {
     "name": "stdout",
     "output_type": "stream",
     "text": [
      "Training_loss 0.19538,   Relative Error 0.16066\n",
      "Training_loss 0.19465,   Relative Error 0.16036\n",
      "Training_loss 0.19385,   Relative Error 0.16003\n"
     ]
    },
    {
     "name": "stderr",
     "output_type": "stream",
     "text": [
      "\r",
      " 56%|█████▌    | 1114/2000 [02:34<01:16, 11.52it/s]"
     ]
    },
    {
     "name": "stdout",
     "output_type": "stream",
     "text": [
      "Training_loss 0.19333,   Relative Error 0.15982\n",
      "Training_loss 0.19299,   Relative Error 0.15968\n",
      "Training_loss 0.19257,   Relative Error 0.15951\n"
     ]
    },
    {
     "name": "stderr",
     "output_type": "stream",
     "text": [
      " 56%|█████▌    | 1118/2000 [02:34<01:14, 11.82it/s]"
     ]
    },
    {
     "name": "stdout",
     "output_type": "stream",
     "text": [
      "Training_loss 0.19235,   Relative Error 0.15942\n",
      "Training_loss 0.19176,   Relative Error 0.15917\n",
      "Training_loss 0.19150,   Relative Error 0.15907\n"
     ]
    },
    {
     "name": "stderr",
     "output_type": "stream",
     "text": [
      "\r",
      " 56%|█████▌    | 1120/2000 [02:34<01:17, 11.31it/s]"
     ]
    },
    {
     "name": "stdout",
     "output_type": "stream",
     "text": [
      "Training_loss 0.19103,   Relative Error 0.15887\n",
      "Training_loss 0.19061,   Relative Error 0.15870\n",
      "Training_loss 0.19021,   Relative Error 0.15854\n"
     ]
    },
    {
     "name": "stderr",
     "output_type": "stream",
     "text": [
      " 56%|█████▌    | 1124/2000 [02:35<01:13, 11.84it/s]"
     ]
    },
    {
     "name": "stdout",
     "output_type": "stream",
     "text": [
      "Training_loss 0.18995,   Relative Error 0.15843\n",
      "Training_loss 0.18953,   Relative Error 0.15826\n",
      "Training_loss 0.18866,   Relative Error 0.15790\n"
     ]
    },
    {
     "name": "stderr",
     "output_type": "stream",
     "text": [
      "\r",
      " 56%|█████▋    | 1126/2000 [02:35<01:12, 12.08it/s]"
     ]
    },
    {
     "name": "stdout",
     "output_type": "stream",
     "text": [
      "Training_loss 0.18833,   Relative Error 0.15776\n",
      "Training_loss 0.18820,   Relative Error 0.15771\n",
      "Training_loss 0.18777,   Relative Error 0.15753\n"
     ]
    },
    {
     "name": "stderr",
     "output_type": "stream",
     "text": [
      " 56%|█████▋    | 1130/2000 [02:35<01:12, 12.05it/s]"
     ]
    },
    {
     "name": "stdout",
     "output_type": "stream",
     "text": [
      "Training_loss 0.18747,   Relative Error 0.15740\n",
      "Training_loss 0.18719,   Relative Error 0.15729\n",
      "Training_loss 0.18681,   Relative Error 0.15713\n"
     ]
    },
    {
     "name": "stderr",
     "output_type": "stream",
     "text": [
      "\r",
      " 57%|█████▋    | 1132/2000 [02:35<01:10, 12.31it/s]"
     ]
    },
    {
     "name": "stdout",
     "output_type": "stream",
     "text": [
      "Training_loss 0.18656,   Relative Error 0.15703\n",
      "Training_loss 0.18606,   Relative Error 0.15681\n",
      "Training_loss 0.18566,   Relative Error 0.15665\n"
     ]
    },
    {
     "name": "stderr",
     "output_type": "stream",
     "text": [
      " 57%|█████▋    | 1136/2000 [02:35<01:09, 12.42it/s]"
     ]
    },
    {
     "name": "stdout",
     "output_type": "stream",
     "text": [
      "Training_loss 0.18536,   Relative Error 0.15653\n",
      "Training_loss 0.18485,   Relative Error 0.15631\n",
      "Training_loss 0.18399,   Relative Error 0.15595\n"
     ]
    },
    {
     "name": "stderr",
     "output_type": "stream",
     "text": [
      "\r",
      " 57%|█████▋    | 1138/2000 [02:36<01:08, 12.51it/s]"
     ]
    },
    {
     "name": "stdout",
     "output_type": "stream",
     "text": [
      "Training_loss 0.18358,   Relative Error 0.15578\n",
      "Training_loss 0.18325,   Relative Error 0.15564\n",
      "Training_loss 0.18291,   Relative Error 0.15549\n"
     ]
    },
    {
     "name": "stderr",
     "output_type": "stream",
     "text": [
      " 57%|█████▋    | 1142/2000 [02:36<01:09, 12.27it/s]"
     ]
    },
    {
     "name": "stdout",
     "output_type": "stream",
     "text": [
      "Training_loss 0.18232,   Relative Error 0.15524\n",
      "Training_loss 0.18198,   Relative Error 0.15509\n",
      "Training_loss 0.18167,   Relative Error 0.15497\n"
     ]
    },
    {
     "name": "stderr",
     "output_type": "stream",
     "text": [
      "\r",
      " 57%|█████▋    | 1144/2000 [02:36<01:07, 12.69it/s]"
     ]
    },
    {
     "name": "stdout",
     "output_type": "stream",
     "text": [
      "Training_loss 0.18129,   Relative Error 0.15481\n",
      "Training_loss 0.18080,   Relative Error 0.15460\n",
      "Training_loss 0.18033,   Relative Error 0.15440\n"
     ]
    },
    {
     "name": "stderr",
     "output_type": "stream",
     "text": [
      " 57%|█████▋    | 1148/2000 [02:37<01:15, 11.33it/s]"
     ]
    },
    {
     "name": "stdout",
     "output_type": "stream",
     "text": [
      "Training_loss 0.17971,   Relative Error 0.15413\n",
      "Training_loss 0.17898,   Relative Error 0.15382\n",
      "Training_loss 0.17851,   Relative Error 0.15363\n"
     ]
    },
    {
     "name": "stderr",
     "output_type": "stream",
     "text": [
      "\r",
      " 57%|█████▊    | 1150/2000 [02:37<01:16, 11.09it/s]"
     ]
    },
    {
     "name": "stdout",
     "output_type": "stream",
     "text": [
      "Training_loss 0.17844,   Relative Error 0.15360\n",
      "Training_loss 0.17828,   Relative Error 0.15352\n",
      "Training_loss 0.17777,   Relative Error 0.15331\n"
     ]
    },
    {
     "name": "stderr",
     "output_type": "stream",
     "text": [
      " 58%|█████▊    | 1154/2000 [02:37<01:12, 11.59it/s]"
     ]
    },
    {
     "name": "stdout",
     "output_type": "stream",
     "text": [
      "Training_loss 0.17741,   Relative Error 0.15315\n",
      "Training_loss 0.17728,   Relative Error 0.15310\n",
      "Training_loss 0.17690,   Relative Error 0.15293\n"
     ]
    },
    {
     "name": "stderr",
     "output_type": "stream",
     "text": [
      "\r",
      " 58%|█████▊    | 1156/2000 [02:37<01:10, 11.94it/s]"
     ]
    },
    {
     "name": "stdout",
     "output_type": "stream",
     "text": [
      "Training_loss 0.17639,   Relative Error 0.15271\n",
      "Training_loss 0.17598,   Relative Error 0.15254\n",
      "Training_loss 0.17536,   Relative Error 0.15227\n"
     ]
    },
    {
     "name": "stderr",
     "output_type": "stream",
     "text": [
      " 58%|█████▊    | 1160/2000 [02:38<01:14, 11.29it/s]"
     ]
    },
    {
     "name": "stdout",
     "output_type": "stream",
     "text": [
      "Training_loss 0.17500,   Relative Error 0.15211\n",
      "Training_loss 0.17468,   Relative Error 0.15198\n",
      "Training_loss 0.17459,   Relative Error 0.15194\n"
     ]
    },
    {
     "name": "stderr",
     "output_type": "stream",
     "text": [
      " 58%|█████▊    | 1164/2000 [02:38<01:09, 11.96it/s]"
     ]
    },
    {
     "name": "stdout",
     "output_type": "stream",
     "text": [
      "Training_loss 0.17407,   Relative Error 0.15171\n",
      "Training_loss 0.17384,   Relative Error 0.15161\n",
      "Training_loss 0.17326,   Relative Error 0.15136\n",
      "Training_loss 0.17299,   Relative Error 0.15124\n"
     ]
    },
    {
     "name": "stderr",
     "output_type": "stream",
     "text": [
      "\r",
      " 58%|█████▊    | 1166/2000 [02:38<01:10, 11.80it/s]"
     ]
    },
    {
     "name": "stdout",
     "output_type": "stream",
     "text": [
      "Training_loss 0.17285,   Relative Error 0.15119\n",
      "Training_loss 0.17286,   Relative Error 0.15119\n",
      "Training_loss 0.17268,   Relative Error 0.15111\n"
     ]
    },
    {
     "name": "stderr",
     "output_type": "stream",
     "text": [
      " 58%|█████▊    | 1170/2000 [02:38<01:10, 11.78it/s]"
     ]
    },
    {
     "name": "stdout",
     "output_type": "stream",
     "text": [
      "Training_loss 0.17252,   Relative Error 0.15105\n",
      "Training_loss 0.17227,   Relative Error 0.15094\n",
      "Training_loss 0.17189,   Relative Error 0.15077\n"
     ]
    },
    {
     "name": "stderr",
     "output_type": "stream",
     "text": [
      "\r",
      " 59%|█████▊    | 1172/2000 [02:39<01:11, 11.54it/s]"
     ]
    },
    {
     "name": "stdout",
     "output_type": "stream",
     "text": [
      "Training_loss 0.17157,   Relative Error 0.15063\n",
      "Training_loss 0.17144,   Relative Error 0.15058\n",
      "Training_loss 0.17107,   Relative Error 0.15041\n"
     ]
    },
    {
     "name": "stderr",
     "output_type": "stream",
     "text": [
      "\r",
      " 59%|█████▊    | 1174/2000 [02:39<01:10, 11.72it/s]"
     ]
    },
    {
     "name": "stdout",
     "output_type": "stream",
     "text": [
      "Training_loss 0.17082,   Relative Error 0.15031\n",
      "Training_loss 0.17049,   Relative Error 0.15017\n"
     ]
    },
    {
     "name": "stderr",
     "output_type": "stream",
     "text": [
      "\r",
      " 59%|█████▉    | 1176/2000 [02:39<01:33,  8.82it/s]"
     ]
    },
    {
     "name": "stdout",
     "output_type": "stream",
     "text": [
      "Training_loss 0.17009,   Relative Error 0.14999\n"
     ]
    },
    {
     "name": "stderr",
     "output_type": "stream",
     "text": [
      " 59%|█████▉    | 1178/2000 [02:40<01:55,  7.14it/s]"
     ]
    },
    {
     "name": "stdout",
     "output_type": "stream",
     "text": [
      "Training_loss 0.16952,   Relative Error 0.14975\n",
      "Training_loss 0.16905,   Relative Error 0.14954\n"
     ]
    },
    {
     "name": "stderr",
     "output_type": "stream",
     "text": [
      "\r",
      " 59%|█████▉    | 1179/2000 [02:40<01:52,  7.30it/s]"
     ]
    },
    {
     "name": "stdout",
     "output_type": "stream",
     "text": [
      "Training_loss 0.16869,   Relative Error 0.14939\n"
     ]
    },
    {
     "name": "stderr",
     "output_type": "stream",
     "text": [
      "\r",
      " 59%|█████▉    | 1180/2000 [02:40<02:10,  6.30it/s]"
     ]
    },
    {
     "name": "stdout",
     "output_type": "stream",
     "text": [
      "Training_loss 0.16845,   Relative Error 0.14928\n"
     ]
    },
    {
     "name": "stderr",
     "output_type": "stream",
     "text": [
      "\r",
      " 59%|█████▉    | 1181/2000 [02:40<02:22,  5.75it/s]"
     ]
    },
    {
     "name": "stdout",
     "output_type": "stream",
     "text": [
      "Training_loss 0.16813,   Relative Error 0.14914\n"
     ]
    },
    {
     "name": "stderr",
     "output_type": "stream",
     "text": [
      "\r",
      " 59%|█████▉    | 1182/2000 [02:40<03:04,  4.43it/s]"
     ]
    },
    {
     "name": "stdout",
     "output_type": "stream",
     "text": [
      "Training_loss 0.16776,   Relative Error 0.14897\n"
     ]
    },
    {
     "name": "stderr",
     "output_type": "stream",
     "text": [
      " 59%|█████▉    | 1184/2000 [02:41<02:55,  4.64it/s]"
     ]
    },
    {
     "name": "stdout",
     "output_type": "stream",
     "text": [
      "Training_loss 0.16736,   Relative Error 0.14880\n",
      "Training_loss 0.16710,   Relative Error 0.14869\n"
     ]
    },
    {
     "name": "stderr",
     "output_type": "stream",
     "text": [
      " 59%|█████▉    | 1186/2000 [02:41<02:35,  5.22it/s]"
     ]
    },
    {
     "name": "stdout",
     "output_type": "stream",
     "text": [
      "Training_loss 0.16684,   Relative Error 0.14857\n",
      "Training_loss 0.16627,   Relative Error 0.14832\n"
     ]
    },
    {
     "name": "stderr",
     "output_type": "stream",
     "text": [
      "\r",
      " 59%|█████▉    | 1187/2000 [02:41<02:19,  5.83it/s]"
     ]
    },
    {
     "name": "stdout",
     "output_type": "stream",
     "text": [
      "Training_loss 0.16613,   Relative Error 0.14825\n"
     ]
    },
    {
     "name": "stderr",
     "output_type": "stream",
     "text": [
      "\r",
      " 59%|█████▉    | 1188/2000 [02:42<02:33,  5.28it/s]"
     ]
    },
    {
     "name": "stdout",
     "output_type": "stream",
     "text": [
      "Training_loss 0.16579,   Relative Error 0.14810\n"
     ]
    },
    {
     "name": "stderr",
     "output_type": "stream",
     "text": [
      "\r",
      " 59%|█████▉    | 1189/2000 [02:42<03:24,  3.96it/s]"
     ]
    },
    {
     "name": "stdout",
     "output_type": "stream",
     "text": [
      "Training_loss 0.16537,   Relative Error 0.14792\n"
     ]
    },
    {
     "name": "stderr",
     "output_type": "stream",
     "text": [
      "\r",
      " 60%|█████▉    | 1190/2000 [02:42<04:26,  3.03it/s]"
     ]
    },
    {
     "name": "stdout",
     "output_type": "stream",
     "text": [
      "Training_loss 0.16492,   Relative Error 0.14772\n"
     ]
    },
    {
     "name": "stderr",
     "output_type": "stream",
     "text": [
      "\r",
      " 60%|█████▉    | 1191/2000 [02:43<04:31,  2.98it/s]"
     ]
    },
    {
     "name": "stdout",
     "output_type": "stream",
     "text": [
      "Training_loss 0.16442,   Relative Error 0.14750\n",
      "Training_loss 0.16426,   Relative Error 0.14743\n"
     ]
    },
    {
     "name": "stderr",
     "output_type": "stream",
     "text": [
      " 60%|█████▉    | 1194/2000 [02:43<03:22,  3.98it/s]"
     ]
    },
    {
     "name": "stdout",
     "output_type": "stream",
     "text": [
      "Training_loss 0.16392,   Relative Error 0.14727\n",
      "Training_loss 0.16349,   Relative Error 0.14709\n"
     ]
    },
    {
     "name": "stderr",
     "output_type": "stream",
     "text": [
      " 60%|█████▉    | 1196/2000 [02:44<02:55,  4.58it/s]"
     ]
    },
    {
     "name": "stdout",
     "output_type": "stream",
     "text": [
      "Training_loss 0.16315,   Relative Error 0.14693\n",
      "Training_loss 0.16301,   Relative Error 0.14687\n"
     ]
    },
    {
     "name": "stderr",
     "output_type": "stream",
     "text": [
      "\r",
      " 60%|█████▉    | 1197/2000 [02:44<02:51,  4.68it/s]"
     ]
    },
    {
     "name": "stdout",
     "output_type": "stream",
     "text": [
      "Training_loss 0.16280,   Relative Error 0.14678\n"
     ]
    },
    {
     "name": "stderr",
     "output_type": "stream",
     "text": [
      " 60%|█████▉    | 1199/2000 [02:44<02:42,  4.92it/s]"
     ]
    },
    {
     "name": "stdout",
     "output_type": "stream",
     "text": [
      "Training_loss 0.16270,   Relative Error 0.14673\n",
      "Training_loss 0.16254,   Relative Error 0.14666\n"
     ]
    },
    {
     "name": "stderr",
     "output_type": "stream",
     "text": [
      "\r",
      " 60%|██████    | 1200/2000 [02:45<02:39,  5.01it/s]"
     ]
    },
    {
     "name": "stdout",
     "output_type": "stream",
     "text": [
      "Training_loss 0.16216,   Relative Error 0.14649\n"
     ]
    },
    {
     "name": "stderr",
     "output_type": "stream",
     "text": [
      "\r",
      " 60%|██████    | 1201/2000 [02:45<02:49,  4.73it/s]"
     ]
    },
    {
     "name": "stdout",
     "output_type": "stream",
     "text": [
      "Training_loss 0.16156,   Relative Error 0.14623\n"
     ]
    },
    {
     "name": "stderr",
     "output_type": "stream",
     "text": [
      "\r",
      " 60%|██████    | 1202/2000 [02:45<03:26,  3.87it/s]"
     ]
    },
    {
     "name": "stdout",
     "output_type": "stream",
     "text": [
      "Training_loss 0.16147,   Relative Error 0.14618\n"
     ]
    },
    {
     "name": "stderr",
     "output_type": "stream",
     "text": [
      "\r",
      " 60%|██████    | 1203/2000 [02:46<04:02,  3.28it/s]"
     ]
    },
    {
     "name": "stdout",
     "output_type": "stream",
     "text": [
      "Training_loss 0.16143,   Relative Error 0.14617\n"
     ]
    },
    {
     "name": "stderr",
     "output_type": "stream",
     "text": [
      "\r",
      " 60%|██████    | 1204/2000 [02:46<04:14,  3.13it/s]"
     ]
    },
    {
     "name": "stdout",
     "output_type": "stream",
     "text": [
      "Training_loss 0.16123,   Relative Error 0.14608\n"
     ]
    },
    {
     "name": "stderr",
     "output_type": "stream",
     "text": [
      "\r",
      " 60%|██████    | 1205/2000 [02:46<04:03,  3.27it/s]"
     ]
    },
    {
     "name": "stdout",
     "output_type": "stream",
     "text": [
      "Training_loss 0.16124,   Relative Error 0.14609\n"
     ]
    },
    {
     "name": "stderr",
     "output_type": "stream",
     "text": [
      "\r",
      " 60%|██████    | 1206/2000 [02:47<03:46,  3.51it/s]"
     ]
    },
    {
     "name": "stdout",
     "output_type": "stream",
     "text": [
      "Training_loss 0.16094,   Relative Error 0.14596\n"
     ]
    },
    {
     "name": "stderr",
     "output_type": "stream",
     "text": [
      " 60%|██████    | 1208/2000 [02:47<03:15,  4.05it/s]"
     ]
    },
    {
     "name": "stdout",
     "output_type": "stream",
     "text": [
      "Training_loss 0.16065,   Relative Error 0.14583\n",
      "Training_loss 0.16044,   Relative Error 0.14573\n"
     ]
    },
    {
     "name": "stderr",
     "output_type": "stream",
     "text": [
      "\r",
      " 60%|██████    | 1209/2000 [02:47<03:32,  3.73it/s]"
     ]
    },
    {
     "name": "stdout",
     "output_type": "stream",
     "text": [
      "Training_loss 0.15991,   Relative Error 0.14549\n"
     ]
    },
    {
     "name": "stderr",
     "output_type": "stream",
     "text": [
      "\r",
      " 60%|██████    | 1210/2000 [02:47<03:22,  3.89it/s]"
     ]
    },
    {
     "name": "stdout",
     "output_type": "stream",
     "text": [
      "Training_loss 0.15951,   Relative Error 0.14531\n"
     ]
    },
    {
     "name": "stderr",
     "output_type": "stream",
     "text": [
      " 61%|██████    | 1212/2000 [02:48<03:01,  4.35it/s]"
     ]
    },
    {
     "name": "stdout",
     "output_type": "stream",
     "text": [
      "Training_loss 0.15914,   Relative Error 0.14515\n",
      "Training_loss 0.15875,   Relative Error 0.14497\n"
     ]
    },
    {
     "name": "stderr",
     "output_type": "stream",
     "text": [
      " 61%|██████    | 1214/2000 [02:48<02:45,  4.76it/s]"
     ]
    },
    {
     "name": "stdout",
     "output_type": "stream",
     "text": [
      "Training_loss 0.15863,   Relative Error 0.14492\n",
      "Training_loss 0.15824,   Relative Error 0.14474\n"
     ]
    },
    {
     "name": "stderr",
     "output_type": "stream",
     "text": [
      "\r",
      " 61%|██████    | 1215/2000 [02:49<02:44,  4.76it/s]"
     ]
    },
    {
     "name": "stdout",
     "output_type": "stream",
     "text": [
      "Training_loss 0.15797,   Relative Error 0.14462\n"
     ]
    },
    {
     "name": "stderr",
     "output_type": "stream",
     "text": [
      "\r",
      " 61%|██████    | 1216/2000 [02:49<02:56,  4.45it/s]"
     ]
    },
    {
     "name": "stdout",
     "output_type": "stream",
     "text": [
      "Training_loss 0.15775,   Relative Error 0.14452\n"
     ]
    },
    {
     "name": "stderr",
     "output_type": "stream",
     "text": [
      "\r",
      " 61%|██████    | 1217/2000 [02:49<03:01,  4.32it/s]"
     ]
    },
    {
     "name": "stdout",
     "output_type": "stream",
     "text": [
      "Training_loss 0.15731,   Relative Error 0.14432\n"
     ]
    },
    {
     "name": "stderr",
     "output_type": "stream",
     "text": [
      " 61%|██████    | 1219/2000 [02:49<02:38,  4.92it/s]"
     ]
    },
    {
     "name": "stdout",
     "output_type": "stream",
     "text": [
      "Training_loss 0.15684,   Relative Error 0.14411\n",
      "Training_loss 0.15646,   Relative Error 0.14394\n"
     ]
    },
    {
     "name": "stderr",
     "output_type": "stream",
     "text": [
      " 61%|██████    | 1221/2000 [02:50<02:26,  5.32it/s]"
     ]
    },
    {
     "name": "stdout",
     "output_type": "stream",
     "text": [
      "Training_loss 0.15609,   Relative Error 0.14377\n",
      "Training_loss 0.15587,   Relative Error 0.14367\n"
     ]
    },
    {
     "name": "stderr",
     "output_type": "stream",
     "text": [
      "\r",
      " 61%|██████    | 1222/2000 [02:50<02:40,  4.84it/s]"
     ]
    },
    {
     "name": "stdout",
     "output_type": "stream",
     "text": [
      "Training_loss 0.15578,   Relative Error 0.14363\n"
     ]
    },
    {
     "name": "stderr",
     "output_type": "stream",
     "text": [
      "\r",
      " 61%|██████    | 1223/2000 [02:50<03:11,  4.05it/s]"
     ]
    },
    {
     "name": "stdout",
     "output_type": "stream",
     "text": [
      "Training_loss 0.15556,   Relative Error 0.14353\n"
     ]
    },
    {
     "name": "stderr",
     "output_type": "stream",
     "text": [
      "\r",
      " 61%|██████    | 1224/2000 [02:51<03:20,  3.86it/s]"
     ]
    },
    {
     "name": "stdout",
     "output_type": "stream",
     "text": [
      "Training_loss 0.15532,   Relative Error 0.14342\n"
     ]
    },
    {
     "name": "stderr",
     "output_type": "stream",
     "text": [
      " 61%|██████▏   | 1226/2000 [02:51<02:57,  4.37it/s]"
     ]
    },
    {
     "name": "stdout",
     "output_type": "stream",
     "text": [
      "Training_loss 0.15468,   Relative Error 0.14312\n",
      "Training_loss 0.15443,   Relative Error 0.14301\n"
     ]
    },
    {
     "name": "stderr",
     "output_type": "stream",
     "text": [
      " 61%|██████▏   | 1228/2000 [02:51<02:18,  5.56it/s]"
     ]
    },
    {
     "name": "stdout",
     "output_type": "stream",
     "text": [
      "Training_loss 0.15412,   Relative Error 0.14287\n",
      "Training_loss 0.15389,   Relative Error 0.14276\n"
     ]
    },
    {
     "name": "stderr",
     "output_type": "stream",
     "text": [
      " 62%|██████▏   | 1230/2000 [02:51<01:55,  6.70it/s]"
     ]
    },
    {
     "name": "stdout",
     "output_type": "stream",
     "text": [
      "Training_loss 0.15348,   Relative Error 0.14257\n",
      "Training_loss 0.15308,   Relative Error 0.14239\n"
     ]
    },
    {
     "name": "stderr",
     "output_type": "stream",
     "text": [
      " 62%|██████▏   | 1232/2000 [02:52<01:46,  7.24it/s]"
     ]
    },
    {
     "name": "stdout",
     "output_type": "stream",
     "text": [
      "Training_loss 0.15250,   Relative Error 0.14213\n",
      "Training_loss 0.15213,   Relative Error 0.14195\n"
     ]
    },
    {
     "name": "stderr",
     "output_type": "stream",
     "text": [
      " 62%|██████▏   | 1234/2000 [02:52<01:36,  7.96it/s]"
     ]
    },
    {
     "name": "stdout",
     "output_type": "stream",
     "text": [
      "Training_loss 0.15173,   Relative Error 0.14176\n",
      "Training_loss 0.15148,   Relative Error 0.14165\n"
     ]
    },
    {
     "name": "stderr",
     "output_type": "stream",
     "text": [
      " 62%|██████▏   | 1236/2000 [02:52<01:31,  8.31it/s]"
     ]
    },
    {
     "name": "stdout",
     "output_type": "stream",
     "text": [
      "Training_loss 0.15138,   Relative Error 0.14161\n",
      "Training_loss 0.15075,   Relative Error 0.14132\n"
     ]
    },
    {
     "name": "stderr",
     "output_type": "stream",
     "text": [
      " 62%|██████▏   | 1238/2000 [02:52<01:27,  8.70it/s]"
     ]
    },
    {
     "name": "stdout",
     "output_type": "stream",
     "text": [
      "Training_loss 0.15016,   Relative Error 0.14104\n",
      "Training_loss 0.14975,   Relative Error 0.14085\n"
     ]
    },
    {
     "name": "stderr",
     "output_type": "stream",
     "text": [
      " 62%|██████▏   | 1240/2000 [02:53<01:25,  8.90it/s]"
     ]
    },
    {
     "name": "stdout",
     "output_type": "stream",
     "text": [
      "Training_loss 0.14937,   Relative Error 0.14067\n",
      "Training_loss 0.14923,   Relative Error 0.14061\n"
     ]
    },
    {
     "name": "stderr",
     "output_type": "stream",
     "text": [
      " 62%|██████▏   | 1242/2000 [02:53<01:21,  9.27it/s]"
     ]
    },
    {
     "name": "stdout",
     "output_type": "stream",
     "text": [
      "Training_loss 0.14899,   Relative Error 0.14050\n",
      "Training_loss 0.14856,   Relative Error 0.14029\n"
     ]
    },
    {
     "name": "stderr",
     "output_type": "stream",
     "text": [
      " 62%|██████▏   | 1244/2000 [02:53<01:26,  8.73it/s]"
     ]
    },
    {
     "name": "stdout",
     "output_type": "stream",
     "text": [
      "Training_loss 0.14824,   Relative Error 0.14015\n",
      "Training_loss 0.14811,   Relative Error 0.14009\n"
     ]
    },
    {
     "name": "stderr",
     "output_type": "stream",
     "text": [
      "\r",
      " 62%|██████▏   | 1246/2000 [02:53<01:18,  9.63it/s]"
     ]
    },
    {
     "name": "stdout",
     "output_type": "stream",
     "text": [
      "Training_loss 0.14794,   Relative Error 0.14001\n",
      "Training_loss 0.14775,   Relative Error 0.13992\n",
      "Training_loss 0.14748,   Relative Error 0.13979\n"
     ]
    },
    {
     "name": "stderr",
     "output_type": "stream",
     "text": [
      " 62%|██████▎   | 1250/2000 [02:54<01:11, 10.53it/s]"
     ]
    },
    {
     "name": "stdout",
     "output_type": "stream",
     "text": [
      "Training_loss 0.14734,   Relative Error 0.13973\n",
      "Training_loss 0.14702,   Relative Error 0.13958\n",
      "Training_loss 0.14664,   Relative Error 0.13940\n"
     ]
    },
    {
     "name": "stderr",
     "output_type": "stream",
     "text": [
      "\r",
      " 63%|██████▎   | 1252/2000 [02:54<01:15,  9.85it/s]"
     ]
    },
    {
     "name": "stdout",
     "output_type": "stream",
     "text": [
      "Training_loss 0.14635,   Relative Error 0.13926\n",
      "Training_loss 0.14620,   Relative Error 0.13919\n"
     ]
    },
    {
     "name": "stderr",
     "output_type": "stream",
     "text": [
      " 63%|██████▎   | 1254/2000 [02:54<01:16,  9.75it/s]"
     ]
    },
    {
     "name": "stdout",
     "output_type": "stream",
     "text": [
      "Training_loss 0.14600,   Relative Error 0.13910\n",
      "Training_loss 0.14582,   Relative Error 0.13901\n"
     ]
    },
    {
     "name": "stderr",
     "output_type": "stream",
     "text": [
      " 63%|██████▎   | 1256/2000 [02:54<01:37,  7.62it/s]"
     ]
    },
    {
     "name": "stdout",
     "output_type": "stream",
     "text": [
      "Training_loss 0.14561,   Relative Error 0.13891\n",
      "Training_loss 0.14561,   Relative Error 0.13891\n"
     ]
    },
    {
     "name": "stderr",
     "output_type": "stream",
     "text": [
      "\r",
      " 63%|██████▎   | 1257/2000 [02:55<02:01,  6.09it/s]"
     ]
    },
    {
     "name": "stdout",
     "output_type": "stream",
     "text": [
      "Training_loss 0.14529,   Relative Error 0.13876\n"
     ]
    },
    {
     "name": "stderr",
     "output_type": "stream",
     "text": [
      "\r",
      " 63%|██████▎   | 1258/2000 [02:55<02:46,  4.45it/s]"
     ]
    },
    {
     "name": "stdout",
     "output_type": "stream",
     "text": [
      "Training_loss 0.14507,   Relative Error 0.13866\n"
     ]
    },
    {
     "name": "stderr",
     "output_type": "stream",
     "text": [
      "\r",
      " 63%|██████▎   | 1259/2000 [02:55<03:22,  3.66it/s]"
     ]
    },
    {
     "name": "stdout",
     "output_type": "stream",
     "text": [
      "Training_loss 0.14514,   Relative Error 0.13869\n"
     ]
    },
    {
     "name": "stderr",
     "output_type": "stream",
     "text": [
      "\r",
      " 63%|██████▎   | 1260/2000 [02:56<03:42,  3.33it/s]"
     ]
    },
    {
     "name": "stdout",
     "output_type": "stream",
     "text": [
      "Training_loss 0.14473,   Relative Error 0.13850\n"
     ]
    },
    {
     "name": "stderr",
     "output_type": "stream",
     "text": [
      " 63%|██████▎   | 1262/2000 [02:56<03:10,  3.87it/s]"
     ]
    },
    {
     "name": "stdout",
     "output_type": "stream",
     "text": [
      "Training_loss 0.14467,   Relative Error 0.13847\n",
      "Training_loss 0.14455,   Relative Error 0.13841\n"
     ]
    },
    {
     "name": "stderr",
     "output_type": "stream",
     "text": [
      " 63%|██████▎   | 1264/2000 [02:57<02:30,  4.90it/s]"
     ]
    },
    {
     "name": "stdout",
     "output_type": "stream",
     "text": [
      "Training_loss 0.14432,   Relative Error 0.13831\n",
      "Training_loss 0.14412,   Relative Error 0.13821\n"
     ]
    },
    {
     "name": "stderr",
     "output_type": "stream",
     "text": [
      " 63%|██████▎   | 1266/2000 [02:57<01:52,  6.53it/s]"
     ]
    },
    {
     "name": "stdout",
     "output_type": "stream",
     "text": [
      "Training_loss 0.14378,   Relative Error 0.13805\n",
      "Training_loss 0.14368,   Relative Error 0.13801\n"
     ]
    },
    {
     "name": "stderr",
     "output_type": "stream",
     "text": [
      " 63%|██████▎   | 1268/2000 [02:57<01:38,  7.40it/s]"
     ]
    },
    {
     "name": "stdout",
     "output_type": "stream",
     "text": [
      "Training_loss 0.14350,   Relative Error 0.13792\n",
      "Training_loss 0.14340,   Relative Error 0.13787\n",
      "Training_loss 0.14313,   Relative Error 0.13775\n"
     ]
    },
    {
     "name": "stderr",
     "output_type": "stream",
     "text": [
      " 64%|██████▎   | 1272/2000 [02:57<01:11, 10.18it/s]"
     ]
    },
    {
     "name": "stdout",
     "output_type": "stream",
     "text": [
      "Training_loss 0.14275,   Relative Error 0.13756\n",
      "Training_loss 0.14254,   Relative Error 0.13746\n",
      "Training_loss 0.14212,   Relative Error 0.13726\n"
     ]
    },
    {
     "name": "stderr",
     "output_type": "stream",
     "text": [
      "\r",
      " 64%|██████▎   | 1274/2000 [02:58<01:14,  9.69it/s]"
     ]
    },
    {
     "name": "stdout",
     "output_type": "stream",
     "text": [
      "Training_loss 0.14195,   Relative Error 0.13718\n",
      "Training_loss 0.14206,   Relative Error 0.13723\n"
     ]
    },
    {
     "name": "stderr",
     "output_type": "stream",
     "text": [
      "\r",
      " 64%|██████▍   | 1276/2000 [02:58<01:11, 10.14it/s]"
     ]
    },
    {
     "name": "stdout",
     "output_type": "stream",
     "text": [
      "Training_loss 0.14189,   Relative Error 0.13715\n",
      "Training_loss 0.14159,   Relative Error 0.13701\n",
      "Training_loss 0.14113,   Relative Error 0.13679\n"
     ]
    },
    {
     "name": "stderr",
     "output_type": "stream",
     "text": [
      " 64%|██████▍   | 1280/2000 [02:58<01:07, 10.66it/s]"
     ]
    },
    {
     "name": "stdout",
     "output_type": "stream",
     "text": [
      "Training_loss 0.14100,   Relative Error 0.13673\n",
      "Training_loss 0.14077,   Relative Error 0.13662\n",
      "Training_loss 0.14049,   Relative Error 0.13648\n"
     ]
    },
    {
     "name": "stderr",
     "output_type": "stream",
     "text": [
      "\r",
      " 64%|██████▍   | 1282/2000 [02:58<01:08, 10.44it/s]"
     ]
    },
    {
     "name": "stdout",
     "output_type": "stream",
     "text": [
      "Training_loss 0.14014,   Relative Error 0.13631\n",
      "Training_loss 0.13978,   Relative Error 0.13614\n",
      "Training_loss 0.13992,   Relative Error 0.13621\n"
     ]
    },
    {
     "name": "stderr",
     "output_type": "stream",
     "text": [
      " 64%|██████▍   | 1286/2000 [02:59<01:04, 11.02it/s]"
     ]
    },
    {
     "name": "stdout",
     "output_type": "stream",
     "text": [
      "Training_loss 0.13974,   Relative Error 0.13612\n",
      "Training_loss 0.13946,   Relative Error 0.13599\n",
      "Training_loss 0.13921,   Relative Error 0.13586\n"
     ]
    },
    {
     "name": "stderr",
     "output_type": "stream",
     "text": [
      "\r",
      " 64%|██████▍   | 1288/2000 [02:59<01:03, 11.19it/s]"
     ]
    },
    {
     "name": "stdout",
     "output_type": "stream",
     "text": [
      "Training_loss 0.13922,   Relative Error 0.13587\n",
      "Training_loss 0.13910,   Relative Error 0.13582\n",
      "Training_loss 0.13881,   Relative Error 0.13567\n"
     ]
    },
    {
     "name": "stderr",
     "output_type": "stream",
     "text": [
      " 65%|██████▍   | 1292/2000 [02:59<01:04, 11.04it/s]"
     ]
    },
    {
     "name": "stdout",
     "output_type": "stream",
     "text": [
      "Training_loss 0.13880,   Relative Error 0.13567\n",
      "Training_loss 0.13854,   Relative Error 0.13554\n",
      "Training_loss 0.13849,   Relative Error 0.13552\n"
     ]
    },
    {
     "name": "stderr",
     "output_type": "stream",
     "text": [
      "\r",
      " 65%|██████▍   | 1294/2000 [02:59<01:02, 11.27it/s]"
     ]
    },
    {
     "name": "stdout",
     "output_type": "stream",
     "text": [
      "Training_loss 0.13824,   Relative Error 0.13540\n",
      "Training_loss 0.13810,   Relative Error 0.13533\n",
      "Training_loss 0.13798,   Relative Error 0.13527\n"
     ]
    },
    {
     "name": "stderr",
     "output_type": "stream",
     "text": [
      " 65%|██████▍   | 1298/2000 [03:00<01:02, 11.27it/s]"
     ]
    },
    {
     "name": "stdout",
     "output_type": "stream",
     "text": [
      "Training_loss 0.13807,   Relative Error 0.13532\n",
      "Training_loss 0.13777,   Relative Error 0.13517\n",
      "Training_loss 0.13714,   Relative Error 0.13486\n"
     ]
    },
    {
     "name": "stderr",
     "output_type": "stream",
     "text": [
      "\r",
      " 65%|██████▌   | 1300/2000 [03:00<01:00, 11.67it/s]"
     ]
    },
    {
     "name": "stdout",
     "output_type": "stream",
     "text": [
      "Training_loss 0.13705,   Relative Error 0.13482\n",
      "Training_loss 0.13692,   Relative Error 0.13476\n",
      "Training_loss 0.13668,   Relative Error 0.13464\n"
     ]
    },
    {
     "name": "stderr",
     "output_type": "stream",
     "text": [
      " 65%|██████▌   | 1304/2000 [03:00<00:59, 11.67it/s]"
     ]
    },
    {
     "name": "stdout",
     "output_type": "stream",
     "text": [
      "Training_loss 0.13645,   Relative Error 0.13453\n",
      "Training_loss 0.13595,   Relative Error 0.13428\n",
      "Training_loss 0.13591,   Relative Error 0.13426\n"
     ]
    },
    {
     "name": "stderr",
     "output_type": "stream",
     "text": [
      "\r",
      " 65%|██████▌   | 1306/2000 [03:00<01:01, 11.27it/s]"
     ]
    },
    {
     "name": "stdout",
     "output_type": "stream",
     "text": [
      "Training_loss 0.13566,   Relative Error 0.13414\n",
      "Training_loss 0.13547,   Relative Error 0.13405\n",
      "Training_loss 0.13551,   Relative Error 0.13407\n"
     ]
    },
    {
     "name": "stderr",
     "output_type": "stream",
     "text": [
      "\r",
      " 65%|██████▌   | 1308/2000 [03:01<00:59, 11.54it/s]"
     ]
    },
    {
     "name": "stdout",
     "output_type": "stream",
     "text": [
      "Training_loss 0.13529,   Relative Error 0.13396\n",
      "Training_loss 0.13507,   Relative Error 0.13385\n"
     ]
    },
    {
     "name": "stderr",
     "output_type": "stream",
     "text": [
      "\r",
      " 66%|██████▌   | 1310/2000 [03:01<01:06, 10.38it/s]"
     ]
    },
    {
     "name": "stdout",
     "output_type": "stream",
     "text": [
      "Training_loss 0.13499,   Relative Error 0.13381\n",
      "Training_loss 0.13480,   Relative Error 0.13372\n"
     ]
    },
    {
     "name": "stderr",
     "output_type": "stream",
     "text": [
      "\r",
      " 66%|██████▌   | 1312/2000 [03:01<01:16,  8.96it/s]"
     ]
    },
    {
     "name": "stdout",
     "output_type": "stream",
     "text": [
      "Training_loss 0.13478,   Relative Error 0.13371\n",
      "Training_loss 0.13470,   Relative Error 0.13367\n"
     ]
    },
    {
     "name": "stderr",
     "output_type": "stream",
     "text": [
      " 66%|██████▌   | 1315/2000 [03:01<01:22,  8.27it/s]"
     ]
    },
    {
     "name": "stdout",
     "output_type": "stream",
     "text": [
      "Training_loss 0.13437,   Relative Error 0.13352\n",
      "Training_loss 0.13404,   Relative Error 0.13335\n"
     ]
    },
    {
     "name": "stderr",
     "output_type": "stream",
     "text": [
      "\r",
      " 66%|██████▌   | 1316/2000 [03:02<01:37,  7.03it/s]"
     ]
    },
    {
     "name": "stdout",
     "output_type": "stream",
     "text": [
      "Training_loss 0.13389,   Relative Error 0.13328\n"
     ]
    },
    {
     "name": "stderr",
     "output_type": "stream",
     "text": [
      " 66%|██████▌   | 1318/2000 [03:02<01:49,  6.23it/s]"
     ]
    },
    {
     "name": "stdout",
     "output_type": "stream",
     "text": [
      "Training_loss 0.13381,   Relative Error 0.13324\n",
      "Training_loss 0.13337,   Relative Error 0.13302\n"
     ]
    },
    {
     "name": "stderr",
     "output_type": "stream",
     "text": [
      " 66%|██████▌   | 1320/2000 [03:02<01:45,  6.42it/s]"
     ]
    },
    {
     "name": "stdout",
     "output_type": "stream",
     "text": [
      "Training_loss 0.13327,   Relative Error 0.13297\n",
      "Training_loss 0.13306,   Relative Error 0.13286\n"
     ]
    },
    {
     "name": "stderr",
     "output_type": "stream",
     "text": [
      " 66%|██████▌   | 1322/2000 [03:03<01:37,  6.99it/s]"
     ]
    },
    {
     "name": "stdout",
     "output_type": "stream",
     "text": [
      "Training_loss 0.13290,   Relative Error 0.13278\n",
      "Training_loss 0.13254,   Relative Error 0.13261\n"
     ]
    },
    {
     "name": "stderr",
     "output_type": "stream",
     "text": [
      " 66%|██████▌   | 1324/2000 [03:03<01:38,  6.89it/s]"
     ]
    },
    {
     "name": "stdout",
     "output_type": "stream",
     "text": [
      "Training_loss 0.13236,   Relative Error 0.13252\n",
      "Training_loss 0.13231,   Relative Error 0.13249\n"
     ]
    },
    {
     "name": "stderr",
     "output_type": "stream",
     "text": [
      " 66%|██████▋   | 1326/2000 [03:03<01:48,  6.20it/s]"
     ]
    },
    {
     "name": "stdout",
     "output_type": "stream",
     "text": [
      "Training_loss 0.13199,   Relative Error 0.13234\n",
      "Training_loss 0.13176,   Relative Error 0.13222\n"
     ]
    },
    {
     "name": "stderr",
     "output_type": "stream",
     "text": [
      " 66%|██████▋   | 1328/2000 [03:04<01:53,  5.90it/s]"
     ]
    },
    {
     "name": "stdout",
     "output_type": "stream",
     "text": [
      "Training_loss 0.13162,   Relative Error 0.13215\n",
      "Training_loss 0.13144,   Relative Error 0.13206\n"
     ]
    },
    {
     "name": "stderr",
     "output_type": "stream",
     "text": [
      " 66%|██████▋   | 1330/2000 [03:04<01:45,  6.35it/s]"
     ]
    },
    {
     "name": "stdout",
     "output_type": "stream",
     "text": [
      "Training_loss 0.13120,   Relative Error 0.13194\n",
      "Training_loss 0.13079,   Relative Error 0.13173\n"
     ]
    },
    {
     "name": "stderr",
     "output_type": "stream",
     "text": [
      " 67%|██████▋   | 1332/2000 [03:04<01:29,  7.43it/s]"
     ]
    },
    {
     "name": "stdout",
     "output_type": "stream",
     "text": [
      "Training_loss 0.13072,   Relative Error 0.13170\n",
      "Training_loss 0.13049,   Relative Error 0.13158\n"
     ]
    },
    {
     "name": "stderr",
     "output_type": "stream",
     "text": [
      "\r",
      " 67%|██████▋   | 1333/2000 [03:04<01:30,  7.34it/s]"
     ]
    },
    {
     "name": "stdout",
     "output_type": "stream",
     "text": [
      "Training_loss 0.13035,   Relative Error 0.13151\n"
     ]
    },
    {
     "name": "stderr",
     "output_type": "stream",
     "text": [
      " 67%|██████▋   | 1335/2000 [03:05<01:57,  5.67it/s]"
     ]
    },
    {
     "name": "stdout",
     "output_type": "stream",
     "text": [
      "Training_loss 0.13037,   Relative Error 0.13152\n",
      "Training_loss 0.13021,   Relative Error 0.13145\n"
     ]
    },
    {
     "name": "stderr",
     "output_type": "stream",
     "text": [
      " 67%|██████▋   | 1337/2000 [03:05<01:36,  6.90it/s]"
     ]
    },
    {
     "name": "stdout",
     "output_type": "stream",
     "text": [
      "Training_loss 0.13010,   Relative Error 0.13139\n",
      "Training_loss 0.12985,   Relative Error 0.13127\n"
     ]
    },
    {
     "name": "stderr",
     "output_type": "stream",
     "text": [
      " 67%|██████▋   | 1339/2000 [03:05<01:28,  7.45it/s]"
     ]
    },
    {
     "name": "stdout",
     "output_type": "stream",
     "text": [
      "Training_loss 0.12964,   Relative Error 0.13116\n",
      "Training_loss 0.12953,   Relative Error 0.13111\n"
     ]
    },
    {
     "name": "stderr",
     "output_type": "stream",
     "text": [
      " 67%|██████▋   | 1341/2000 [03:05<01:22,  8.00it/s]"
     ]
    },
    {
     "name": "stdout",
     "output_type": "stream",
     "text": [
      "Training_loss 0.12936,   Relative Error 0.13102\n",
      "Training_loss 0.12896,   Relative Error 0.13082\n"
     ]
    },
    {
     "name": "stderr",
     "output_type": "stream",
     "text": [
      " 67%|██████▋   | 1343/2000 [03:06<01:19,  8.22it/s]"
     ]
    },
    {
     "name": "stdout",
     "output_type": "stream",
     "text": [
      "Training_loss 0.12881,   Relative Error 0.13074\n",
      "Training_loss 0.12868,   Relative Error 0.13067\n"
     ]
    },
    {
     "name": "stderr",
     "output_type": "stream",
     "text": [
      "\r",
      " 67%|██████▋   | 1344/2000 [03:06<01:32,  7.06it/s]"
     ]
    },
    {
     "name": "stdout",
     "output_type": "stream",
     "text": [
      "Training_loss 0.12864,   Relative Error 0.13065\n"
     ]
    },
    {
     "name": "stderr",
     "output_type": "stream",
     "text": [
      " 67%|██████▋   | 1346/2000 [03:06<01:55,  5.68it/s]"
     ]
    },
    {
     "name": "stdout",
     "output_type": "stream",
     "text": [
      "Training_loss 0.12817,   Relative Error 0.13042\n",
      "Training_loss 0.12773,   Relative Error 0.13019\n"
     ]
    },
    {
     "name": "stderr",
     "output_type": "stream",
     "text": [
      " 67%|██████▋   | 1348/2000 [03:07<01:50,  5.91it/s]"
     ]
    },
    {
     "name": "stdout",
     "output_type": "stream",
     "text": [
      "Training_loss 0.12755,   Relative Error 0.13010\n",
      "Training_loss 0.12746,   Relative Error 0.13006\n"
     ]
    },
    {
     "name": "stderr",
     "output_type": "stream",
     "text": [
      " 68%|██████▊   | 1350/2000 [03:07<01:38,  6.60it/s]"
     ]
    },
    {
     "name": "stdout",
     "output_type": "stream",
     "text": [
      "Training_loss 0.12711,   Relative Error 0.12988\n",
      "Training_loss 0.12685,   Relative Error 0.12975\n"
     ]
    },
    {
     "name": "stderr",
     "output_type": "stream",
     "text": [
      " 68%|██████▊   | 1353/2000 [03:07<01:18,  8.29it/s]"
     ]
    },
    {
     "name": "stdout",
     "output_type": "stream",
     "text": [
      "Training_loss 0.12670,   Relative Error 0.12967\n",
      "Training_loss 0.12646,   Relative Error 0.12955\n",
      "Training_loss 0.12634,   Relative Error 0.12949\n"
     ]
    },
    {
     "name": "stderr",
     "output_type": "stream",
     "text": [
      " 68%|██████▊   | 1355/2000 [03:08<01:25,  7.54it/s]"
     ]
    },
    {
     "name": "stdout",
     "output_type": "stream",
     "text": [
      "Training_loss 0.12618,   Relative Error 0.12941\n",
      "Training_loss 0.12604,   Relative Error 0.12934\n"
     ]
    },
    {
     "name": "stderr",
     "output_type": "stream",
     "text": [
      "\r",
      " 68%|██████▊   | 1356/2000 [03:08<01:34,  6.82it/s]"
     ]
    },
    {
     "name": "stdout",
     "output_type": "stream",
     "text": [
      "Training_loss 0.12590,   Relative Error 0.12927\n"
     ]
    },
    {
     "name": "stderr",
     "output_type": "stream",
     "text": [
      "\r",
      " 68%|██████▊   | 1357/2000 [03:08<01:47,  5.99it/s]"
     ]
    },
    {
     "name": "stdout",
     "output_type": "stream",
     "text": [
      "Training_loss 0.12584,   Relative Error 0.12924\n"
     ]
    },
    {
     "name": "stderr",
     "output_type": "stream",
     "text": [
      "\r",
      " 68%|██████▊   | 1358/2000 [03:08<02:03,  5.18it/s]"
     ]
    },
    {
     "name": "stdout",
     "output_type": "stream",
     "text": [
      "Training_loss 0.12580,   Relative Error 0.12922\n"
     ]
    },
    {
     "name": "stderr",
     "output_type": "stream",
     "text": [
      "\r",
      " 68%|██████▊   | 1359/2000 [03:08<02:15,  4.72it/s]"
     ]
    },
    {
     "name": "stdout",
     "output_type": "stream",
     "text": [
      "Training_loss 0.12557,   Relative Error 0.12910\n"
     ]
    },
    {
     "name": "stderr",
     "output_type": "stream",
     "text": [
      " 68%|██████▊   | 1361/2000 [03:09<02:22,  4.47it/s]"
     ]
    },
    {
     "name": "stdout",
     "output_type": "stream",
     "text": [
      "Training_loss 0.12537,   Relative Error 0.12900\n",
      "Training_loss 0.12528,   Relative Error 0.12896\n"
     ]
    },
    {
     "name": "stderr",
     "output_type": "stream",
     "text": [
      "\r",
      " 68%|██████▊   | 1362/2000 [03:09<02:31,  4.21it/s]"
     ]
    },
    {
     "name": "stdout",
     "output_type": "stream",
     "text": [
      "Training_loss 0.12522,   Relative Error 0.12893\n"
     ]
    },
    {
     "name": "stderr",
     "output_type": "stream",
     "text": [
      " 68%|██████▊   | 1364/2000 [03:10<02:16,  4.65it/s]"
     ]
    },
    {
     "name": "stdout",
     "output_type": "stream",
     "text": [
      "Training_loss 0.12517,   Relative Error 0.12890\n",
      "Training_loss 0.12518,   Relative Error 0.12891\n"
     ]
    },
    {
     "name": "stderr",
     "output_type": "stream",
     "text": [
      "\r",
      " 68%|██████▊   | 1365/2000 [03:10<02:41,  3.92it/s]"
     ]
    },
    {
     "name": "stdout",
     "output_type": "stream",
     "text": [
      "Training_loss 0.12507,   Relative Error 0.12885\n"
     ]
    },
    {
     "name": "stderr",
     "output_type": "stream",
     "text": [
      "\r",
      " 68%|██████▊   | 1366/2000 [03:10<02:51,  3.69it/s]"
     ]
    },
    {
     "name": "stdout",
     "output_type": "stream",
     "text": [
      "Training_loss 0.12489,   Relative Error 0.12876\n"
     ]
    },
    {
     "name": "stderr",
     "output_type": "stream",
     "text": [
      " 68%|██████▊   | 1368/2000 [03:11<02:32,  4.15it/s]"
     ]
    },
    {
     "name": "stdout",
     "output_type": "stream",
     "text": [
      "Training_loss 0.12455,   Relative Error 0.12859\n",
      "Training_loss 0.12456,   Relative Error 0.12859\n"
     ]
    },
    {
     "name": "stderr",
     "output_type": "stream",
     "text": [
      "\r",
      " 68%|██████▊   | 1369/2000 [03:11<02:09,  4.87it/s]"
     ]
    },
    {
     "name": "stdout",
     "output_type": "stream",
     "text": [
      "Training_loss 0.12418,   Relative Error 0.12839\n",
      "Training_loss 0.12406,   Relative Error 0.12833\n"
     ]
    },
    {
     "name": "stderr",
     "output_type": "stream",
     "text": [
      " 69%|██████▊   | 1372/2000 [03:11<01:35,  6.56it/s]"
     ]
    },
    {
     "name": "stdout",
     "output_type": "stream",
     "text": [
      "Training_loss 0.12374,   Relative Error 0.12817\n",
      "Training_loss 0.12351,   Relative Error 0.12805\n"
     ]
    },
    {
     "name": "stderr",
     "output_type": "stream",
     "text": [
      " 69%|██████▊   | 1374/2000 [03:11<01:27,  7.13it/s]"
     ]
    },
    {
     "name": "stdout",
     "output_type": "stream",
     "text": [
      "Training_loss 0.12343,   Relative Error 0.12801\n",
      "Training_loss 0.12317,   Relative Error 0.12788\n",
      "Training_loss 0.12285,   Relative Error 0.12772\n"
     ]
    },
    {
     "name": "stderr",
     "output_type": "stream",
     "text": [
      " 69%|██████▉   | 1378/2000 [03:12<01:09,  8.97it/s]"
     ]
    },
    {
     "name": "stdout",
     "output_type": "stream",
     "text": [
      "Training_loss 0.12288,   Relative Error 0.12773\n",
      "Training_loss 0.12270,   Relative Error 0.12763\n",
      "Training_loss 0.12220,   Relative Error 0.12738\n"
     ]
    },
    {
     "name": "stderr",
     "output_type": "stream",
     "text": [
      "\r",
      " 69%|██████▉   | 1380/2000 [03:12<01:05,  9.43it/s]"
     ]
    },
    {
     "name": "stdout",
     "output_type": "stream",
     "text": [
      "Training_loss 0.12179,   Relative Error 0.12717\n",
      "Training_loss 0.12163,   Relative Error 0.12708\n",
      "Training_loss 0.12138,   Relative Error 0.12695\n"
     ]
    },
    {
     "name": "stderr",
     "output_type": "stream",
     "text": [
      " 69%|██████▉   | 1384/2000 [03:12<00:55, 11.20it/s]"
     ]
    },
    {
     "name": "stdout",
     "output_type": "stream",
     "text": [
      "Training_loss 0.12131,   Relative Error 0.12691\n",
      "Training_loss 0.12094,   Relative Error 0.12673\n",
      "Training_loss 0.12062,   Relative Error 0.12656\n"
     ]
    },
    {
     "name": "stderr",
     "output_type": "stream",
     "text": [
      " 69%|██████▉   | 1388/2000 [03:13<00:48, 12.61it/s]"
     ]
    },
    {
     "name": "stdout",
     "output_type": "stream",
     "text": [
      "Training_loss 0.12040,   Relative Error 0.12644\n",
      "Training_loss 0.12034,   Relative Error 0.12641\n",
      "Training_loss 0.12006,   Relative Error 0.12627\n",
      "Training_loss 0.11995,   Relative Error 0.12621\n"
     ]
    },
    {
     "name": "stderr",
     "output_type": "stream",
     "text": [
      "\r",
      " 70%|██████▉   | 1390/2000 [03:13<00:48, 12.63it/s]"
     ]
    },
    {
     "name": "stdout",
     "output_type": "stream",
     "text": [
      "Training_loss 0.11971,   Relative Error 0.12608\n",
      "Training_loss 0.11938,   Relative Error 0.12591\n",
      "Training_loss 0.11946,   Relative Error 0.12595\n"
     ]
    },
    {
     "name": "stderr",
     "output_type": "stream",
     "text": [
      " 70%|██████▉   | 1394/2000 [03:13<00:46, 12.97it/s]"
     ]
    },
    {
     "name": "stdout",
     "output_type": "stream",
     "text": [
      "Training_loss 0.11941,   Relative Error 0.12593\n",
      "Training_loss 0.11917,   Relative Error 0.12580\n",
      "Training_loss 0.11883,   Relative Error 0.12562\n"
     ]
    },
    {
     "name": "stderr",
     "output_type": "stream",
     "text": [
      "\r",
      " 70%|██████▉   | 1396/2000 [03:13<00:47, 12.59it/s]"
     ]
    },
    {
     "name": "stdout",
     "output_type": "stream",
     "text": [
      "Training_loss 0.11833,   Relative Error 0.12536\n",
      "Training_loss 0.11817,   Relative Error 0.12528\n",
      "Training_loss 0.11796,   Relative Error 0.12516\n"
     ]
    },
    {
     "name": "stderr",
     "output_type": "stream",
     "text": [
      " 70%|███████   | 1400/2000 [03:14<00:49, 12.21it/s]"
     ]
    },
    {
     "name": "stdout",
     "output_type": "stream",
     "text": [
      "Training_loss 0.11777,   Relative Error 0.12507\n",
      "Training_loss 0.11771,   Relative Error 0.12503\n",
      "Training_loss 0.11765,   Relative Error 0.12500\n"
     ]
    },
    {
     "name": "stderr",
     "output_type": "stream",
     "text": [
      " 70%|███████   | 1404/2000 [03:14<00:46, 12.87it/s]"
     ]
    },
    {
     "name": "stdout",
     "output_type": "stream",
     "text": [
      "Training_loss 0.11726,   Relative Error 0.12479\n",
      "Training_loss 0.11713,   Relative Error 0.12473\n",
      "Training_loss 0.11702,   Relative Error 0.12467\n",
      "Training_loss 0.11702,   Relative Error 0.12467\n"
     ]
    },
    {
     "name": "stderr",
     "output_type": "stream",
     "text": [
      "\r",
      " 70%|███████   | 1406/2000 [03:14<00:44, 13.34it/s]"
     ]
    },
    {
     "name": "stdout",
     "output_type": "stream",
     "text": [
      "Training_loss 0.11697,   Relative Error 0.12465\n",
      "Training_loss 0.11669,   Relative Error 0.12450\n",
      "Training_loss 0.11669,   Relative Error 0.12450\n"
     ]
    },
    {
     "name": "stderr",
     "output_type": "stream",
     "text": [
      "\r",
      " 70%|███████   | 1408/2000 [03:14<00:43, 13.51it/s]"
     ]
    },
    {
     "name": "stdout",
     "output_type": "stream",
     "text": [
      "Training_loss 0.11674,   Relative Error 0.12453\n",
      "Training_loss 0.11641,   Relative Error 0.12435\n"
     ]
    },
    {
     "name": "stderr",
     "output_type": "stream",
     "text": [
      " 71%|███████   | 1412/2000 [03:15<00:51, 11.40it/s]"
     ]
    },
    {
     "name": "stdout",
     "output_type": "stream",
     "text": [
      "Training_loss 0.11637,   Relative Error 0.12433\n",
      "Training_loss 0.11619,   Relative Error 0.12424\n",
      "Training_loss 0.11617,   Relative Error 0.12423\n"
     ]
    },
    {
     "name": "stderr",
     "output_type": "stream",
     "text": [
      " 71%|███████   | 1416/2000 [03:15<00:45, 12.95it/s]"
     ]
    },
    {
     "name": "stdout",
     "output_type": "stream",
     "text": [
      "Training_loss 0.11598,   Relative Error 0.12413\n",
      "Training_loss 0.11595,   Relative Error 0.12411\n",
      "Training_loss 0.11598,   Relative Error 0.12413\n",
      "Training_loss 0.11594,   Relative Error 0.12410\n"
     ]
    },
    {
     "name": "stderr",
     "output_type": "stream",
     "text": [
      "\r",
      " 71%|███████   | 1418/2000 [03:15<00:44, 13.04it/s]"
     ]
    },
    {
     "name": "stdout",
     "output_type": "stream",
     "text": [
      "Training_loss 0.11583,   Relative Error 0.12405\n",
      "Training_loss 0.11572,   Relative Error 0.12399\n",
      "Training_loss 0.11558,   Relative Error 0.12392\n"
     ]
    },
    {
     "name": "stderr",
     "output_type": "stream",
     "text": [
      " 71%|███████   | 1422/2000 [03:15<00:50, 11.47it/s]"
     ]
    },
    {
     "name": "stdout",
     "output_type": "stream",
     "text": [
      "Training_loss 0.11539,   Relative Error 0.12382\n",
      "Training_loss 0.11548,   Relative Error 0.12386\n",
      "Training_loss 0.11522,   Relative Error 0.12372\n"
     ]
    },
    {
     "name": "stderr",
     "output_type": "stream",
     "text": [
      " 71%|███████▏  | 1426/2000 [03:16<00:45, 12.51it/s]"
     ]
    },
    {
     "name": "stdout",
     "output_type": "stream",
     "text": [
      "Training_loss 0.11524,   Relative Error 0.12374\n",
      "Training_loss 0.11491,   Relative Error 0.12356\n",
      "Training_loss 0.11449,   Relative Error 0.12333\n",
      "Training_loss 0.11432,   Relative Error 0.12324\n"
     ]
    },
    {
     "name": "stderr",
     "output_type": "stream",
     "text": [
      "\r",
      " 71%|███████▏  | 1428/2000 [03:16<00:43, 13.24it/s]"
     ]
    },
    {
     "name": "stdout",
     "output_type": "stream",
     "text": [
      "Training_loss 0.11404,   Relative Error 0.12309\n",
      "Training_loss 0.11399,   Relative Error 0.12307\n",
      "Training_loss 0.11365,   Relative Error 0.12289\n"
     ]
    },
    {
     "name": "stderr",
     "output_type": "stream",
     "text": [
      " 72%|███████▏  | 1432/2000 [03:16<00:39, 14.27it/s]"
     ]
    },
    {
     "name": "stdout",
     "output_type": "stream",
     "text": [
      "Training_loss 0.11358,   Relative Error 0.12285\n",
      "Training_loss 0.11331,   Relative Error 0.12270\n",
      "Training_loss 0.11335,   Relative Error 0.12272\n",
      "Training_loss 0.11332,   Relative Error 0.12271\n"
     ]
    },
    {
     "name": "stderr",
     "output_type": "stream",
     "text": [
      " 72%|███████▏  | 1436/2000 [03:16<00:42, 13.30it/s]"
     ]
    },
    {
     "name": "stdout",
     "output_type": "stream",
     "text": [
      "Training_loss 0.11313,   Relative Error 0.12261\n",
      "Training_loss 0.11314,   Relative Error 0.12262\n",
      "Training_loss 0.11309,   Relative Error 0.12259\n"
     ]
    },
    {
     "name": "stderr",
     "output_type": "stream",
     "text": [
      "\r",
      " 72%|███████▏  | 1438/2000 [03:17<00:41, 13.65it/s]"
     ]
    },
    {
     "name": "stdout",
     "output_type": "stream",
     "text": [
      "Training_loss 0.11309,   Relative Error 0.12259\n",
      "Training_loss 0.11286,   Relative Error 0.12247\n",
      "Training_loss 0.11250,   Relative Error 0.12227\n"
     ]
    },
    {
     "name": "stderr",
     "output_type": "stream",
     "text": [
      "\r",
      " 72%|███████▏  | 1440/2000 [03:17<00:51, 10.85it/s]"
     ]
    },
    {
     "name": "stdout",
     "output_type": "stream",
     "text": [
      "Training_loss 0.11215,   Relative Error 0.12208\n",
      "Training_loss 0.11214,   Relative Error 0.12208\n"
     ]
    },
    {
     "name": "stderr",
     "output_type": "stream",
     "text": [
      " 72%|███████▏  | 1444/2000 [03:17<00:52, 10.49it/s]"
     ]
    },
    {
     "name": "stdout",
     "output_type": "stream",
     "text": [
      "Training_loss 0.11211,   Relative Error 0.12206\n",
      "Training_loss 0.11198,   Relative Error 0.12199\n",
      "Training_loss 0.11184,   Relative Error 0.12192\n"
     ]
    },
    {
     "name": "stderr",
     "output_type": "stream",
     "text": [
      " 72%|███████▏  | 1448/2000 [03:17<00:44, 12.30it/s]"
     ]
    },
    {
     "name": "stdout",
     "output_type": "stream",
     "text": [
      "Training_loss 0.11168,   Relative Error 0.12183\n",
      "Training_loss 0.11168,   Relative Error 0.12183\n",
      "Training_loss 0.11135,   Relative Error 0.12166\n",
      "Training_loss 0.11145,   Relative Error 0.12171\n"
     ]
    },
    {
     "name": "stderr",
     "output_type": "stream",
     "text": [
      "\r",
      " 72%|███████▎  | 1450/2000 [03:18<00:43, 12.60it/s]"
     ]
    },
    {
     "name": "stdout",
     "output_type": "stream",
     "text": [
      "Training_loss 0.11141,   Relative Error 0.12169\n",
      "Training_loss 0.11137,   Relative Error 0.12167\n",
      "Training_loss 0.11132,   Relative Error 0.12164\n"
     ]
    },
    {
     "name": "stderr",
     "output_type": "stream",
     "text": [
      " 73%|███████▎  | 1454/2000 [03:18<00:42, 12.93it/s]"
     ]
    },
    {
     "name": "stdout",
     "output_type": "stream",
     "text": [
      "Training_loss 0.11115,   Relative Error 0.12155\n",
      "Training_loss 0.11113,   Relative Error 0.12154\n",
      "Training_loss 0.11083,   Relative Error 0.12137\n",
      "Training_loss 0.11075,   Relative Error 0.12133\n"
     ]
    },
    {
     "name": "stderr",
     "output_type": "stream",
     "text": [
      " 73%|███████▎  | 1458/2000 [03:18<00:38, 14.02it/s]"
     ]
    },
    {
     "name": "stdout",
     "output_type": "stream",
     "text": [
      "Training_loss 0.11057,   Relative Error 0.12123\n",
      "Training_loss 0.11051,   Relative Error 0.12120\n",
      "Training_loss 0.11047,   Relative Error 0.12118\n",
      "Training_loss 0.11026,   Relative Error 0.12106\n"
     ]
    },
    {
     "name": "stderr",
     "output_type": "stream",
     "text": [
      " 73%|███████▎  | 1462/2000 [03:18<00:37, 14.51it/s]"
     ]
    },
    {
     "name": "stdout",
     "output_type": "stream",
     "text": [
      "Training_loss 0.11016,   Relative Error 0.12101\n",
      "Training_loss 0.10996,   Relative Error 0.12090\n",
      "Training_loss 0.10981,   Relative Error 0.12082\n"
     ]
    },
    {
     "name": "stderr",
     "output_type": "stream",
     "text": [
      " 73%|███████▎  | 1466/2000 [03:19<00:36, 14.54it/s]"
     ]
    },
    {
     "name": "stdout",
     "output_type": "stream",
     "text": [
      "Training_loss 0.10971,   Relative Error 0.12077\n",
      "Training_loss 0.10955,   Relative Error 0.12067\n",
      "Training_loss 0.10926,   Relative Error 0.12052\n",
      "Training_loss 0.10934,   Relative Error 0.12056\n"
     ]
    },
    {
     "name": "stderr",
     "output_type": "stream",
     "text": [
      " 74%|███████▎  | 1470/2000 [03:19<00:35, 15.04it/s]"
     ]
    },
    {
     "name": "stdout",
     "output_type": "stream",
     "text": [
      "Training_loss 0.10873,   Relative Error 0.12023\n",
      "Training_loss 0.10843,   Relative Error 0.12006\n",
      "Training_loss 0.10822,   Relative Error 0.11995\n",
      "Training_loss 0.10824,   Relative Error 0.11996\n"
     ]
    },
    {
     "name": "stderr",
     "output_type": "stream",
     "text": [
      " 74%|███████▎  | 1474/2000 [03:19<00:34, 15.28it/s]"
     ]
    },
    {
     "name": "stdout",
     "output_type": "stream",
     "text": [
      "Training_loss 0.10802,   Relative Error 0.11984\n",
      "Training_loss 0.10797,   Relative Error 0.11981\n",
      "Training_loss 0.10776,   Relative Error 0.11970\n",
      "Training_loss 0.10763,   Relative Error 0.11963\n"
     ]
    },
    {
     "name": "stderr",
     "output_type": "stream",
     "text": [
      " 74%|███████▍  | 1478/2000 [03:20<00:35, 14.66it/s]"
     ]
    },
    {
     "name": "stdout",
     "output_type": "stream",
     "text": [
      "Training_loss 0.10752,   Relative Error 0.11956\n",
      "Training_loss 0.10713,   Relative Error 0.11935\n",
      "Training_loss 0.10704,   Relative Error 0.11930\n",
      "Training_loss 0.10693,   Relative Error 0.11924\n"
     ]
    },
    {
     "name": "stderr",
     "output_type": "stream",
     "text": [
      "\r",
      " 74%|███████▍  | 1480/2000 [03:20<00:34, 14.89it/s]"
     ]
    },
    {
     "name": "stdout",
     "output_type": "stream",
     "text": [
      "Training_loss 0.10691,   Relative Error 0.11923\n",
      "Training_loss 0.10679,   Relative Error 0.11916\n",
      "Training_loss 0.10663,   Relative Error 0.11907\n"
     ]
    },
    {
     "name": "stderr",
     "output_type": "stream",
     "text": [
      " 74%|███████▍  | 1484/2000 [03:20<00:37, 13.74it/s]"
     ]
    },
    {
     "name": "stdout",
     "output_type": "stream",
     "text": [
      "Training_loss 0.10646,   Relative Error 0.11898\n",
      "Training_loss 0.10617,   Relative Error 0.11882\n",
      "Training_loss 0.10618,   Relative Error 0.11882\n"
     ]
    },
    {
     "name": "stderr",
     "output_type": "stream",
     "text": [
      "\r",
      " 74%|███████▍  | 1486/2000 [03:20<00:37, 13.88it/s]"
     ]
    },
    {
     "name": "stdout",
     "output_type": "stream",
     "text": [
      "Training_loss 0.10625,   Relative Error 0.11886\n",
      "Training_loss 0.10625,   Relative Error 0.11887\n",
      "Training_loss 0.10617,   Relative Error 0.11882\n"
     ]
    },
    {
     "name": "stderr",
     "output_type": "stream",
     "text": [
      " 74%|███████▍  | 1490/2000 [03:21<00:43, 11.83it/s]"
     ]
    },
    {
     "name": "stdout",
     "output_type": "stream",
     "text": [
      "Training_loss 0.10572,   Relative Error 0.11857\n",
      "Training_loss 0.10566,   Relative Error 0.11854\n",
      "Training_loss 0.10550,   Relative Error 0.11845\n"
     ]
    },
    {
     "name": "stderr",
     "output_type": "stream",
     "text": [
      "\r",
      " 75%|███████▍  | 1492/2000 [03:21<00:49, 10.16it/s]"
     ]
    },
    {
     "name": "stdout",
     "output_type": "stream",
     "text": [
      "Training_loss 0.10535,   Relative Error 0.11837\n",
      "Training_loss 0.10526,   Relative Error 0.11832\n",
      "Training_loss 0.10521,   Relative Error 0.11828\n"
     ]
    },
    {
     "name": "stderr",
     "output_type": "stream",
     "text": [
      " 75%|███████▍  | 1496/2000 [03:21<00:44, 11.43it/s]"
     ]
    },
    {
     "name": "stdout",
     "output_type": "stream",
     "text": [
      "Training_loss 0.10505,   Relative Error 0.11820\n",
      "Training_loss 0.10493,   Relative Error 0.11813\n",
      "Training_loss 0.10493,   Relative Error 0.11813\n"
     ]
    },
    {
     "name": "stderr",
     "output_type": "stream",
     "text": [
      "\r",
      " 75%|███████▍  | 1498/2000 [03:21<00:45, 11.06it/s]"
     ]
    },
    {
     "name": "stdout",
     "output_type": "stream",
     "text": [
      "Training_loss 0.10475,   Relative Error 0.11803\n",
      "Training_loss 0.10464,   Relative Error 0.11797\n"
     ]
    },
    {
     "name": "stderr",
     "output_type": "stream",
     "text": [
      "\r",
      " 75%|███████▌  | 1500/2000 [03:21<00:45, 11.02it/s]"
     ]
    },
    {
     "name": "stdout",
     "output_type": "stream",
     "text": [
      "Training_loss 0.10461,   Relative Error 0.11795\n",
      "Training_loss 0.10456,   Relative Error 0.11792\n",
      "Training_loss 0.10409,   Relative Error 0.11766\n"
     ]
    },
    {
     "name": "stderr",
     "output_type": "stream",
     "text": [
      "\r",
      " 75%|███████▌  | 1502/2000 [03:22<00:44, 11.16it/s]"
     ]
    },
    {
     "name": "stdout",
     "output_type": "stream",
     "text": [
      "Training_loss 0.10392,   Relative Error 0.11757\n",
      "Training_loss 0.10387,   Relative Error 0.11754\n"
     ]
    },
    {
     "name": "stderr",
     "output_type": "stream",
     "text": [
      " 75%|███████▌  | 1506/2000 [03:22<00:45, 10.78it/s]"
     ]
    },
    {
     "name": "stdout",
     "output_type": "stream",
     "text": [
      "Training_loss 0.10376,   Relative Error 0.11748\n",
      "Training_loss 0.10375,   Relative Error 0.11747\n",
      "Training_loss 0.10365,   Relative Error 0.11742\n"
     ]
    },
    {
     "name": "stderr",
     "output_type": "stream",
     "text": [
      "\r",
      " 75%|███████▌  | 1508/2000 [03:22<00:44, 10.98it/s]"
     ]
    },
    {
     "name": "stdout",
     "output_type": "stream",
     "text": [
      "Training_loss 0.10346,   Relative Error 0.11731\n",
      "Training_loss 0.10332,   Relative Error 0.11723\n",
      "Training_loss 0.10319,   Relative Error 0.11716\n"
     ]
    },
    {
     "name": "stderr",
     "output_type": "stream",
     "text": [
      " 76%|███████▌  | 1512/2000 [03:23<00:40, 11.96it/s]"
     ]
    },
    {
     "name": "stdout",
     "output_type": "stream",
     "text": [
      "Training_loss 0.10316,   Relative Error 0.11714\n",
      "Training_loss 0.10314,   Relative Error 0.11713\n",
      "Training_loss 0.10301,   Relative Error 0.11706\n",
      "Training_loss 0.10289,   Relative Error 0.11699\n"
     ]
    },
    {
     "name": "stderr",
     "output_type": "stream",
     "text": [
      " 76%|███████▌  | 1516/2000 [03:23<00:36, 13.17it/s]"
     ]
    },
    {
     "name": "stdout",
     "output_type": "stream",
     "text": [
      "Training_loss 0.10289,   Relative Error 0.11699\n",
      "Training_loss 0.10290,   Relative Error 0.11699\n",
      "Training_loss 0.10301,   Relative Error 0.11706\n"
     ]
    },
    {
     "name": "stderr",
     "output_type": "stream",
     "text": [
      "\r",
      " 76%|███████▌  | 1518/2000 [03:23<00:37, 12.85it/s]"
     ]
    },
    {
     "name": "stdout",
     "output_type": "stream",
     "text": [
      "Training_loss 0.10285,   Relative Error 0.11697\n",
      "Training_loss 0.10278,   Relative Error 0.11693\n",
      "Training_loss 0.10277,   Relative Error 0.11692\n"
     ]
    },
    {
     "name": "stderr",
     "output_type": "stream",
     "text": [
      " 76%|███████▌  | 1522/2000 [03:23<00:42, 11.28it/s]"
     ]
    },
    {
     "name": "stdout",
     "output_type": "stream",
     "text": [
      "Training_loss 0.10268,   Relative Error 0.11687\n",
      "Training_loss 0.10265,   Relative Error 0.11685\n",
      "Training_loss 0.10254,   Relative Error 0.11680\n"
     ]
    },
    {
     "name": "stderr",
     "output_type": "stream",
     "text": [
      "\r",
      " 76%|███████▌  | 1524/2000 [03:24<00:42, 11.24it/s]"
     ]
    },
    {
     "name": "stdout",
     "output_type": "stream",
     "text": [
      "Training_loss 0.10241,   Relative Error 0.11672\n",
      "Training_loss 0.10225,   Relative Error 0.11663\n",
      "Training_loss 0.10206,   Relative Error 0.11652\n"
     ]
    },
    {
     "name": "stderr",
     "output_type": "stream",
     "text": [
      " 76%|███████▋  | 1528/2000 [03:24<00:38, 12.33it/s]"
     ]
    },
    {
     "name": "stdout",
     "output_type": "stream",
     "text": [
      "Training_loss 0.10191,   Relative Error 0.11644\n",
      "Training_loss 0.10156,   Relative Error 0.11624\n",
      "Training_loss 0.10144,   Relative Error 0.11617\n"
     ]
    },
    {
     "name": "stderr",
     "output_type": "stream",
     "text": [
      "\r",
      " 76%|███████▋  | 1530/2000 [03:24<00:45, 10.24it/s]"
     ]
    },
    {
     "name": "stdout",
     "output_type": "stream",
     "text": [
      "Training_loss 0.10118,   Relative Error 0.11602\n",
      "Training_loss 0.10086,   Relative Error 0.11583\n"
     ]
    },
    {
     "name": "stderr",
     "output_type": "stream",
     "text": [
      "\r",
      " 77%|███████▋  | 1532/2000 [03:24<00:50,  9.22it/s]"
     ]
    },
    {
     "name": "stdout",
     "output_type": "stream",
     "text": [
      "Training_loss 0.10085,   Relative Error 0.11583\n",
      "Training_loss 0.10083,   Relative Error 0.11582\n"
     ]
    },
    {
     "name": "stderr",
     "output_type": "stream",
     "text": [
      " 77%|███████▋  | 1535/2000 [03:25<00:43, 10.58it/s]"
     ]
    },
    {
     "name": "stdout",
     "output_type": "stream",
     "text": [
      "Training_loss 0.10082,   Relative Error 0.11582\n",
      "Training_loss 0.10066,   Relative Error 0.11573\n",
      "Training_loss 0.10051,   Relative Error 0.11564\n",
      "Training_loss 0.10034,   Relative Error 0.11554\n"
     ]
    },
    {
     "name": "stderr",
     "output_type": "stream",
     "text": [
      " 77%|███████▋  | 1539/2000 [03:25<00:38, 11.93it/s]"
     ]
    },
    {
     "name": "stdout",
     "output_type": "stream",
     "text": [
      "Training_loss 0.10019,   Relative Error 0.11546\n",
      "Training_loss 0.09994,   Relative Error 0.11531\n",
      "Training_loss 0.09996,   Relative Error 0.11532\n"
     ]
    },
    {
     "name": "stderr",
     "output_type": "stream",
     "text": [
      "\r",
      " 77%|███████▋  | 1541/2000 [03:25<00:39, 11.53it/s]"
     ]
    },
    {
     "name": "stdout",
     "output_type": "stream",
     "text": [
      "Training_loss 0.09991,   Relative Error 0.11530\n",
      "Training_loss 0.09982,   Relative Error 0.11524\n",
      "Training_loss 0.09972,   Relative Error 0.11519\n"
     ]
    },
    {
     "name": "stderr",
     "output_type": "stream",
     "text": [
      " 77%|███████▋  | 1545/2000 [03:25<00:36, 12.45it/s]"
     ]
    },
    {
     "name": "stdout",
     "output_type": "stream",
     "text": [
      "Training_loss 0.09971,   Relative Error 0.11518\n",
      "Training_loss 0.09955,   Relative Error 0.11509\n",
      "Training_loss 0.09944,   Relative Error 0.11502\n"
     ]
    },
    {
     "name": "stderr",
     "output_type": "stream",
     "text": [
      " 77%|███████▋  | 1549/2000 [03:26<00:33, 13.37it/s]"
     ]
    },
    {
     "name": "stdout",
     "output_type": "stream",
     "text": [
      "Training_loss 0.09935,   Relative Error 0.11497\n",
      "Training_loss 0.09939,   Relative Error 0.11500\n",
      "Training_loss 0.09931,   Relative Error 0.11495\n",
      "Training_loss 0.09909,   Relative Error 0.11482\n"
     ]
    },
    {
     "name": "stderr",
     "output_type": "stream",
     "text": [
      "\r",
      " 78%|███████▊  | 1551/2000 [03:26<00:33, 13.53it/s]"
     ]
    },
    {
     "name": "stdout",
     "output_type": "stream",
     "text": [
      "Training_loss 0.09884,   Relative Error 0.11468\n",
      "Training_loss 0.09877,   Relative Error 0.11464\n",
      "Training_loss 0.09853,   Relative Error 0.11450\n"
     ]
    },
    {
     "name": "stderr",
     "output_type": "stream",
     "text": [
      " 78%|███████▊  | 1555/2000 [03:26<00:38, 11.59it/s]"
     ]
    },
    {
     "name": "stdout",
     "output_type": "stream",
     "text": [
      "Training_loss 0.09846,   Relative Error 0.11446\n",
      "Training_loss 0.09849,   Relative Error 0.11448\n",
      "Training_loss 0.09840,   Relative Error 0.11443\n"
     ]
    },
    {
     "name": "stderr",
     "output_type": "stream",
     "text": [
      "\r",
      " 78%|███████▊  | 1557/2000 [03:26<00:39, 11.27it/s]"
     ]
    },
    {
     "name": "stdout",
     "output_type": "stream",
     "text": [
      "Training_loss 0.09824,   Relative Error 0.11434\n",
      "Training_loss 0.09807,   Relative Error 0.11423\n",
      "Training_loss 0.09799,   Relative Error 0.11419\n"
     ]
    },
    {
     "name": "stderr",
     "output_type": "stream",
     "text": [
      " 78%|███████▊  | 1561/2000 [03:27<00:39, 11.17it/s]"
     ]
    },
    {
     "name": "stdout",
     "output_type": "stream",
     "text": [
      "Training_loss 0.09795,   Relative Error 0.11417\n",
      "Training_loss 0.09794,   Relative Error 0.11416\n",
      "Training_loss 0.09759,   Relative Error 0.11396\n"
     ]
    },
    {
     "name": "stderr",
     "output_type": "stream",
     "text": [
      "\r",
      " 78%|███████▊  | 1563/2000 [03:27<00:39, 11.16it/s]"
     ]
    },
    {
     "name": "stdout",
     "output_type": "stream",
     "text": [
      "Training_loss 0.09742,   Relative Error 0.11386\n",
      "Training_loss 0.09721,   Relative Error 0.11374\n",
      "Training_loss 0.09719,   Relative Error 0.11372\n"
     ]
    },
    {
     "name": "stderr",
     "output_type": "stream",
     "text": [
      "\r",
      " 78%|███████▊  | 1565/2000 [03:27<00:41, 10.55it/s]"
     ]
    },
    {
     "name": "stdout",
     "output_type": "stream",
     "text": [
      "Training_loss 0.09703,   Relative Error 0.11364\n",
      "Training_loss 0.09703,   Relative Error 0.11363\n"
     ]
    },
    {
     "name": "stderr",
     "output_type": "stream",
     "text": [
      " 78%|███████▊  | 1568/2000 [03:28<00:48,  8.92it/s]"
     ]
    },
    {
     "name": "stdout",
     "output_type": "stream",
     "text": [
      "Training_loss 0.09706,   Relative Error 0.11365\n",
      "Training_loss 0.09673,   Relative Error 0.11346\n"
     ]
    },
    {
     "name": "stderr",
     "output_type": "stream",
     "text": [
      " 79%|███████▊  | 1571/2000 [03:28<00:45,  9.49it/s]"
     ]
    },
    {
     "name": "stdout",
     "output_type": "stream",
     "text": [
      "Training_loss 0.09680,   Relative Error 0.11350\n",
      "Training_loss 0.09648,   Relative Error 0.11332\n",
      "Training_loss 0.09642,   Relative Error 0.11327\n"
     ]
    },
    {
     "name": "stderr",
     "output_type": "stream",
     "text": [
      "\r",
      " 79%|███████▊  | 1573/2000 [03:28<00:40, 10.67it/s]"
     ]
    },
    {
     "name": "stdout",
     "output_type": "stream",
     "text": [
      "Training_loss 0.09623,   Relative Error 0.11316\n",
      "Training_loss 0.09610,   Relative Error 0.11309\n",
      "Training_loss 0.09603,   Relative Error 0.11305\n"
     ]
    },
    {
     "name": "stderr",
     "output_type": "stream",
     "text": [
      " 79%|███████▉  | 1577/2000 [03:28<00:38, 10.97it/s]"
     ]
    },
    {
     "name": "stdout",
     "output_type": "stream",
     "text": [
      "Training_loss 0.09603,   Relative Error 0.11305\n",
      "Training_loss 0.09597,   Relative Error 0.11301\n",
      "Training_loss 0.09590,   Relative Error 0.11297\n"
     ]
    },
    {
     "name": "stderr",
     "output_type": "stream",
     "text": [
      "\r",
      " 79%|███████▉  | 1579/2000 [03:29<00:37, 11.14it/s]"
     ]
    },
    {
     "name": "stdout",
     "output_type": "stream",
     "text": [
      "Training_loss 0.09578,   Relative Error 0.11290\n",
      "Training_loss 0.09578,   Relative Error 0.11290\n",
      "Training_loss 0.09584,   Relative Error 0.11294\n"
     ]
    },
    {
     "name": "stderr",
     "output_type": "stream",
     "text": [
      " 79%|███████▉  | 1583/2000 [03:29<00:37, 11.22it/s]"
     ]
    },
    {
     "name": "stdout",
     "output_type": "stream",
     "text": [
      "Training_loss 0.09575,   Relative Error 0.11288\n",
      "Training_loss 0.09560,   Relative Error 0.11280\n",
      "Training_loss 0.09541,   Relative Error 0.11269\n"
     ]
    },
    {
     "name": "stderr",
     "output_type": "stream",
     "text": [
      "\r",
      " 79%|███████▉  | 1585/2000 [03:29<00:40, 10.30it/s]"
     ]
    },
    {
     "name": "stdout",
     "output_type": "stream",
     "text": [
      "Training_loss 0.09533,   Relative Error 0.11264\n",
      "Training_loss 0.09521,   Relative Error 0.11257\n"
     ]
    },
    {
     "name": "stderr",
     "output_type": "stream",
     "text": [
      "\r",
      " 79%|███████▉  | 1587/2000 [03:29<00:47,  8.66it/s]"
     ]
    },
    {
     "name": "stdout",
     "output_type": "stream",
     "text": [
      "Training_loss 0.09506,   Relative Error 0.11248\n",
      "Training_loss 0.09496,   Relative Error 0.11242\n"
     ]
    },
    {
     "name": "stderr",
     "output_type": "stream",
     "text": [
      " 80%|███████▉  | 1590/2000 [03:30<00:41,  9.98it/s]"
     ]
    },
    {
     "name": "stdout",
     "output_type": "stream",
     "text": [
      "Training_loss 0.09486,   Relative Error 0.11236\n",
      "Training_loss 0.09476,   Relative Error 0.11231\n",
      "Training_loss 0.09475,   Relative Error 0.11230\n"
     ]
    },
    {
     "name": "stderr",
     "output_type": "stream",
     "text": [
      " 80%|███████▉  | 1594/2000 [03:30<00:34, 11.89it/s]"
     ]
    },
    {
     "name": "stdout",
     "output_type": "stream",
     "text": [
      "Training_loss 0.09472,   Relative Error 0.11228\n",
      "Training_loss 0.09434,   Relative Error 0.11205\n",
      "Training_loss 0.09430,   Relative Error 0.11203\n",
      "Training_loss 0.09431,   Relative Error 0.11204\n"
     ]
    },
    {
     "name": "stderr",
     "output_type": "stream",
     "text": [
      "\r",
      " 80%|███████▉  | 1596/2000 [03:30<00:34, 11.82it/s]"
     ]
    },
    {
     "name": "stdout",
     "output_type": "stream",
     "text": [
      "Training_loss 0.09387,   Relative Error 0.11177\n",
      "Training_loss 0.09385,   Relative Error 0.11177\n",
      "Training_loss 0.09372,   Relative Error 0.11169\n"
     ]
    },
    {
     "name": "stderr",
     "output_type": "stream",
     "text": [
      " 80%|████████  | 1600/2000 [03:31<00:35, 11.40it/s]"
     ]
    },
    {
     "name": "stdout",
     "output_type": "stream",
     "text": [
      "Training_loss 0.09345,   Relative Error 0.11153\n",
      "Training_loss 0.09340,   Relative Error 0.11150\n",
      "Training_loss 0.09329,   Relative Error 0.11143\n"
     ]
    },
    {
     "name": "stderr",
     "output_type": "stream",
     "text": [
      "\r",
      " 80%|████████  | 1602/2000 [03:31<00:35, 11.21it/s]"
     ]
    },
    {
     "name": "stdout",
     "output_type": "stream",
     "text": [
      "Training_loss 0.09314,   Relative Error 0.11134\n",
      "Training_loss 0.09314,   Relative Error 0.11134\n",
      "Training_loss 0.09305,   Relative Error 0.11129\n"
     ]
    },
    {
     "name": "stderr",
     "output_type": "stream",
     "text": [
      "\r",
      " 80%|████████  | 1604/2000 [03:31<00:35, 11.10it/s]"
     ]
    },
    {
     "name": "stdout",
     "output_type": "stream",
     "text": [
      "Training_loss 0.09287,   Relative Error 0.11119\n",
      "Training_loss 0.09291,   Relative Error 0.11121\n"
     ]
    },
    {
     "name": "stderr",
     "output_type": "stream",
     "text": [
      " 80%|████████  | 1608/2000 [03:31<00:36, 10.71it/s]"
     ]
    },
    {
     "name": "stdout",
     "output_type": "stream",
     "text": [
      "Training_loss 0.09280,   Relative Error 0.11115\n",
      "Training_loss 0.09284,   Relative Error 0.11117\n",
      "Training_loss 0.09262,   Relative Error 0.11104\n"
     ]
    },
    {
     "name": "stderr",
     "output_type": "stream",
     "text": [
      "\r",
      " 80%|████████  | 1610/2000 [03:31<00:35, 11.02it/s]"
     ]
    },
    {
     "name": "stdout",
     "output_type": "stream",
     "text": [
      "Training_loss 0.09247,   Relative Error 0.11095\n",
      "Training_loss 0.09244,   Relative Error 0.11093\n",
      "Training_loss 0.09225,   Relative Error 0.11082\n"
     ]
    },
    {
     "name": "stderr",
     "output_type": "stream",
     "text": [
      " 81%|████████  | 1613/2000 [03:32<00:48,  8.04it/s]"
     ]
    },
    {
     "name": "stdout",
     "output_type": "stream",
     "text": [
      "Training_loss 0.09224,   Relative Error 0.11081\n",
      "Training_loss 0.09226,   Relative Error 0.11083\n"
     ]
    },
    {
     "name": "stderr",
     "output_type": "stream",
     "text": [
      " 81%|████████  | 1615/2000 [03:32<00:54,  7.09it/s]"
     ]
    },
    {
     "name": "stdout",
     "output_type": "stream",
     "text": [
      "Training_loss 0.09232,   Relative Error 0.11086\n",
      "Training_loss 0.09216,   Relative Error 0.11076\n"
     ]
    },
    {
     "name": "stderr",
     "output_type": "stream",
     "text": [
      " 81%|████████  | 1619/2000 [03:33<00:36, 10.51it/s]"
     ]
    },
    {
     "name": "stdout",
     "output_type": "stream",
     "text": [
      "Training_loss 0.09223,   Relative Error 0.11081\n",
      "Training_loss 0.09204,   Relative Error 0.11069\n",
      "Training_loss 0.09188,   Relative Error 0.11060\n",
      "Training_loss 0.09172,   Relative Error 0.11050\n"
     ]
    },
    {
     "name": "stderr",
     "output_type": "stream",
     "text": [
      "\r",
      " 81%|████████  | 1621/2000 [03:33<00:32, 11.54it/s]"
     ]
    },
    {
     "name": "stdout",
     "output_type": "stream",
     "text": [
      "Training_loss 0.09159,   Relative Error 0.11043\n",
      "Training_loss 0.09148,   Relative Error 0.11036\n",
      "Training_loss 0.09148,   Relative Error 0.11036\n"
     ]
    },
    {
     "name": "stderr",
     "output_type": "stream",
     "text": [
      " 81%|████████▏ | 1625/2000 [03:33<00:28, 13.23it/s]"
     ]
    },
    {
     "name": "stdout",
     "output_type": "stream",
     "text": [
      "Training_loss 0.09132,   Relative Error 0.11026\n",
      "Training_loss 0.09117,   Relative Error 0.11017\n",
      "Training_loss 0.09101,   Relative Error 0.11007\n",
      "Training_loss 0.09086,   Relative Error 0.10999\n"
     ]
    },
    {
     "name": "stderr",
     "output_type": "stream",
     "text": [
      " 81%|████████▏ | 1629/2000 [03:33<00:30, 12.14it/s]"
     ]
    },
    {
     "name": "stdout",
     "output_type": "stream",
     "text": [
      "Training_loss 0.09076,   Relative Error 0.10992\n",
      "Training_loss 0.09073,   Relative Error 0.10991\n",
      "Training_loss 0.09070,   Relative Error 0.10989\n"
     ]
    },
    {
     "name": "stderr",
     "output_type": "stream",
     "text": [
      "\r",
      " 82%|████████▏ | 1631/2000 [03:33<00:30, 12.12it/s]"
     ]
    },
    {
     "name": "stdout",
     "output_type": "stream",
     "text": [
      "Training_loss 0.09051,   Relative Error 0.10977\n",
      "Training_loss 0.09050,   Relative Error 0.10977\n",
      "Training_loss 0.09048,   Relative Error 0.10975\n"
     ]
    },
    {
     "name": "stderr",
     "output_type": "stream",
     "text": [
      " 82%|████████▏ | 1635/2000 [03:34<00:28, 12.82it/s]"
     ]
    },
    {
     "name": "stdout",
     "output_type": "stream",
     "text": [
      "Training_loss 0.09037,   Relative Error 0.10969\n",
      "Training_loss 0.09026,   Relative Error 0.10962\n",
      "Training_loss 0.09010,   Relative Error 0.10953\n",
      "Training_loss 0.09021,   Relative Error 0.10959\n"
     ]
    },
    {
     "name": "stderr",
     "output_type": "stream",
     "text": [
      " 82%|████████▏ | 1639/2000 [03:34<00:25, 14.17it/s]"
     ]
    },
    {
     "name": "stdout",
     "output_type": "stream",
     "text": [
      "Training_loss 0.09008,   Relative Error 0.10951\n",
      "Training_loss 0.09007,   Relative Error 0.10951\n",
      "Training_loss 0.08991,   Relative Error 0.10941\n",
      "Training_loss 0.08980,   Relative Error 0.10935\n"
     ]
    },
    {
     "name": "stderr",
     "output_type": "stream",
     "text": [
      " 82%|████████▏ | 1643/2000 [03:34<00:27, 12.75it/s]"
     ]
    },
    {
     "name": "stdout",
     "output_type": "stream",
     "text": [
      "Training_loss 0.08964,   Relative Error 0.10925\n",
      "Training_loss 0.08948,   Relative Error 0.10915\n",
      "Training_loss 0.08946,   Relative Error 0.10914\n"
     ]
    },
    {
     "name": "stderr",
     "output_type": "stream",
     "text": [
      "\r",
      " 82%|████████▏ | 1645/2000 [03:35<00:27, 12.93it/s]"
     ]
    },
    {
     "name": "stdout",
     "output_type": "stream",
     "text": [
      "Training_loss 0.08945,   Relative Error 0.10913\n",
      "Training_loss 0.08933,   Relative Error 0.10906\n",
      "Training_loss 0.08932,   Relative Error 0.10906\n"
     ]
    },
    {
     "name": "stderr",
     "output_type": "stream",
     "text": [
      " 82%|████████▏ | 1649/2000 [03:35<00:25, 13.95it/s]"
     ]
    },
    {
     "name": "stdout",
     "output_type": "stream",
     "text": [
      "Training_loss 0.08929,   Relative Error 0.10904\n",
      "Training_loss 0.08937,   Relative Error 0.10909\n",
      "Training_loss 0.08931,   Relative Error 0.10905\n",
      "Training_loss 0.08927,   Relative Error 0.10902\n"
     ]
    },
    {
     "name": "stderr",
     "output_type": "stream",
     "text": [
      " 83%|████████▎ | 1653/2000 [03:35<00:23, 15.00it/s]"
     ]
    },
    {
     "name": "stdout",
     "output_type": "stream",
     "text": [
      "Training_loss 0.08916,   Relative Error 0.10896\n",
      "Training_loss 0.08908,   Relative Error 0.10891\n",
      "Training_loss 0.08903,   Relative Error 0.10888\n",
      "Training_loss 0.08882,   Relative Error 0.10875\n"
     ]
    },
    {
     "name": "stderr",
     "output_type": "stream",
     "text": [
      " 83%|████████▎ | 1657/2000 [03:35<00:26, 13.07it/s]"
     ]
    },
    {
     "name": "stdout",
     "output_type": "stream",
     "text": [
      "Training_loss 0.08865,   Relative Error 0.10865\n",
      "Training_loss 0.08855,   Relative Error 0.10859\n",
      "Training_loss 0.08861,   Relative Error 0.10862\n"
     ]
    },
    {
     "name": "stderr",
     "output_type": "stream",
     "text": [
      "\r",
      " 83%|████████▎ | 1659/2000 [03:36<00:32, 10.56it/s]"
     ]
    },
    {
     "name": "stdout",
     "output_type": "stream",
     "text": [
      "Training_loss 0.08857,   Relative Error 0.10860\n",
      "Training_loss 0.08848,   Relative Error 0.10855\n"
     ]
    },
    {
     "name": "stderr",
     "output_type": "stream",
     "text": [
      " 83%|████████▎ | 1663/2000 [03:36<00:27, 12.45it/s]"
     ]
    },
    {
     "name": "stdout",
     "output_type": "stream",
     "text": [
      "Training_loss 0.08823,   Relative Error 0.10840\n",
      "Training_loss 0.08823,   Relative Error 0.10840\n",
      "Training_loss 0.08806,   Relative Error 0.10829\n",
      "Training_loss 0.08811,   Relative Error 0.10833\n"
     ]
    },
    {
     "name": "stderr",
     "output_type": "stream",
     "text": [
      "\r",
      " 83%|████████▎ | 1665/2000 [03:36<00:25, 13.11it/s]"
     ]
    },
    {
     "name": "stdout",
     "output_type": "stream",
     "text": [
      "Training_loss 0.08809,   Relative Error 0.10831\n",
      "Training_loss 0.08801,   Relative Error 0.10826\n",
      "Training_loss 0.08816,   Relative Error 0.10836\n"
     ]
    },
    {
     "name": "stderr",
     "output_type": "stream",
     "text": [
      " 83%|████████▎ | 1669/2000 [03:36<00:24, 13.73it/s]"
     ]
    },
    {
     "name": "stdout",
     "output_type": "stream",
     "text": [
      "Training_loss 0.08813,   Relative Error 0.10834\n",
      "Training_loss 0.08819,   Relative Error 0.10837\n",
      "Training_loss 0.08821,   Relative Error 0.10839\n",
      "Training_loss 0.08815,   Relative Error 0.10835\n"
     ]
    },
    {
     "name": "stderr",
     "output_type": "stream",
     "text": [
      " 84%|████████▎ | 1673/2000 [03:37<00:22, 14.27it/s]"
     ]
    },
    {
     "name": "stdout",
     "output_type": "stream",
     "text": [
      "Training_loss 0.08799,   Relative Error 0.10825\n",
      "Training_loss 0.08801,   Relative Error 0.10827\n",
      "Training_loss 0.08805,   Relative Error 0.10829\n",
      "Training_loss 0.08792,   Relative Error 0.10821\n"
     ]
    },
    {
     "name": "stderr",
     "output_type": "stream",
     "text": [
      " 84%|████████▍ | 1677/2000 [03:37<00:21, 15.10it/s]"
     ]
    },
    {
     "name": "stdout",
     "output_type": "stream",
     "text": [
      "Training_loss 0.08788,   Relative Error 0.10819\n",
      "Training_loss 0.08780,   Relative Error 0.10814\n",
      "Training_loss 0.08776,   Relative Error 0.10812\n"
     ]
    },
    {
     "name": "stderr",
     "output_type": "stream",
     "text": [
      "\r",
      " 84%|████████▍ | 1679/2000 [03:37<00:26, 12.10it/s]"
     ]
    },
    {
     "name": "stdout",
     "output_type": "stream",
     "text": [
      "Training_loss 0.08781,   Relative Error 0.10815\n",
      "Training_loss 0.08778,   Relative Error 0.10813\n"
     ]
    },
    {
     "name": "stderr",
     "output_type": "stream",
     "text": [
      "\r",
      " 84%|████████▍ | 1681/2000 [03:37<00:31, 10.05it/s]"
     ]
    },
    {
     "name": "stdout",
     "output_type": "stream",
     "text": [
      "Training_loss 0.08778,   Relative Error 0.10813\n",
      "Training_loss 0.08770,   Relative Error 0.10808\n"
     ]
    },
    {
     "name": "stderr",
     "output_type": "stream",
     "text": [
      "\r",
      " 84%|████████▍ | 1683/2000 [03:38<00:31, 10.21it/s]"
     ]
    },
    {
     "name": "stdout",
     "output_type": "stream",
     "text": [
      "Training_loss 0.08771,   Relative Error 0.10809\n",
      "Training_loss 0.08776,   Relative Error 0.10812\n",
      "Training_loss 0.08764,   Relative Error 0.10805\n"
     ]
    },
    {
     "name": "stderr",
     "output_type": "stream",
     "text": [
      "\r",
      " 84%|████████▍ | 1685/2000 [03:38<00:30, 10.48it/s]"
     ]
    },
    {
     "name": "stdout",
     "output_type": "stream",
     "text": [
      "Training_loss 0.08762,   Relative Error 0.10803\n",
      "Training_loss 0.08758,   Relative Error 0.10801\n"
     ]
    },
    {
     "name": "stderr",
     "output_type": "stream",
     "text": [
      " 84%|████████▍ | 1688/2000 [03:38<00:36,  8.60it/s]"
     ]
    },
    {
     "name": "stdout",
     "output_type": "stream",
     "text": [
      "Training_loss 0.08759,   Relative Error 0.10802\n",
      "Training_loss 0.08744,   Relative Error 0.10792\n"
     ]
    },
    {
     "name": "stderr",
     "output_type": "stream",
     "text": [
      " 85%|████████▍ | 1691/2000 [03:39<00:36,  8.53it/s]"
     ]
    },
    {
     "name": "stdout",
     "output_type": "stream",
     "text": [
      "Training_loss 0.08745,   Relative Error 0.10793\n",
      "Training_loss 0.08745,   Relative Error 0.10793\n",
      "Training_loss 0.08743,   Relative Error 0.10792\n"
     ]
    },
    {
     "name": "stderr",
     "output_type": "stream",
     "text": [
      " 85%|████████▍ | 1693/2000 [03:39<00:38,  7.91it/s]"
     ]
    },
    {
     "name": "stdout",
     "output_type": "stream",
     "text": [
      "Training_loss 0.08733,   Relative Error 0.10786\n",
      "Training_loss 0.08725,   Relative Error 0.10781\n"
     ]
    },
    {
     "name": "stderr",
     "output_type": "stream",
     "text": [
      " 85%|████████▍ | 1695/2000 [03:39<00:37,  8.22it/s]"
     ]
    },
    {
     "name": "stdout",
     "output_type": "stream",
     "text": [
      "Training_loss 0.08728,   Relative Error 0.10783\n",
      "Training_loss 0.08726,   Relative Error 0.10782\n",
      "Training_loss 0.08737,   Relative Error 0.10788\n"
     ]
    },
    {
     "name": "stderr",
     "output_type": "stream",
     "text": [
      " 85%|████████▍ | 1698/2000 [03:39<00:36,  8.17it/s]"
     ]
    },
    {
     "name": "stdout",
     "output_type": "stream",
     "text": [
      "Training_loss 0.08718,   Relative Error 0.10777\n",
      "Training_loss 0.08710,   Relative Error 0.10772\n"
     ]
    },
    {
     "name": "stderr",
     "output_type": "stream",
     "text": [
      " 85%|████████▌ | 1700/2000 [03:40<00:39,  7.60it/s]"
     ]
    },
    {
     "name": "stdout",
     "output_type": "stream",
     "text": [
      "Training_loss 0.08694,   Relative Error 0.10762\n",
      "Training_loss 0.08688,   Relative Error 0.10758\n"
     ]
    },
    {
     "name": "stderr",
     "output_type": "stream",
     "text": [
      "\r",
      " 85%|████████▌ | 1702/2000 [03:40<00:32,  9.25it/s]"
     ]
    },
    {
     "name": "stdout",
     "output_type": "stream",
     "text": [
      "Training_loss 0.08688,   Relative Error 0.10758\n",
      "Training_loss 0.08680,   Relative Error 0.10753\n",
      "Training_loss 0.08682,   Relative Error 0.10754\n"
     ]
    },
    {
     "name": "stderr",
     "output_type": "stream",
     "text": [
      " 85%|████████▌ | 1706/2000 [03:40<00:25, 11.64it/s]"
     ]
    },
    {
     "name": "stdout",
     "output_type": "stream",
     "text": [
      "Training_loss 0.08676,   Relative Error 0.10751\n",
      "Training_loss 0.08661,   Relative Error 0.10742\n",
      "Training_loss 0.08671,   Relative Error 0.10748\n",
      "Training_loss 0.08656,   Relative Error 0.10738\n"
     ]
    },
    {
     "name": "stderr",
     "output_type": "stream",
     "text": [
      " 86%|████████▌ | 1710/2000 [03:40<00:21, 13.28it/s]"
     ]
    },
    {
     "name": "stdout",
     "output_type": "stream",
     "text": [
      "Training_loss 0.08651,   Relative Error 0.10736\n",
      "Training_loss 0.08648,   Relative Error 0.10734\n",
      "Training_loss 0.08623,   Relative Error 0.10718\n",
      "Training_loss 0.08627,   Relative Error 0.10721\n"
     ]
    },
    {
     "name": "stderr",
     "output_type": "stream",
     "text": [
      " 86%|████████▌ | 1714/2000 [03:41<00:20, 14.09it/s]"
     ]
    },
    {
     "name": "stdout",
     "output_type": "stream",
     "text": [
      "Training_loss 0.08627,   Relative Error 0.10721\n",
      "Training_loss 0.08618,   Relative Error 0.10715\n",
      "Training_loss 0.08606,   Relative Error 0.10707\n"
     ]
    },
    {
     "name": "stderr",
     "output_type": "stream",
     "text": [
      "\r",
      " 86%|████████▌ | 1716/2000 [03:41<00:20, 13.88it/s]"
     ]
    },
    {
     "name": "stdout",
     "output_type": "stream",
     "text": [
      "Training_loss 0.08618,   Relative Error 0.10715\n",
      "Training_loss 0.08606,   Relative Error 0.10708\n",
      "Training_loss 0.08601,   Relative Error 0.10705\n"
     ]
    },
    {
     "name": "stderr",
     "output_type": "stream",
     "text": [
      "\r",
      " 86%|████████▌ | 1718/2000 [03:41<00:25, 10.99it/s]"
     ]
    },
    {
     "name": "stdout",
     "output_type": "stream",
     "text": [
      "Training_loss 0.08593,   Relative Error 0.10700\n",
      "Training_loss 0.08593,   Relative Error 0.10700\n"
     ]
    },
    {
     "name": "stderr",
     "output_type": "stream",
     "text": [
      " 86%|████████▌ | 1722/2000 [03:42<00:28,  9.83it/s]"
     ]
    },
    {
     "name": "stdout",
     "output_type": "stream",
     "text": [
      "Training_loss 0.08595,   Relative Error 0.10701\n",
      "Training_loss 0.08585,   Relative Error 0.10695\n",
      "Training_loss 0.08583,   Relative Error 0.10693\n"
     ]
    },
    {
     "name": "stderr",
     "output_type": "stream",
     "text": [
      "\r",
      " 86%|████████▌ | 1724/2000 [03:42<00:26, 10.54it/s]"
     ]
    },
    {
     "name": "stdout",
     "output_type": "stream",
     "text": [
      "Training_loss 0.08584,   Relative Error 0.10694\n",
      "Training_loss 0.08568,   Relative Error 0.10684\n",
      "Training_loss 0.08580,   Relative Error 0.10692\n"
     ]
    },
    {
     "name": "stderr",
     "output_type": "stream",
     "text": [
      " 86%|████████▋ | 1728/2000 [03:42<00:22, 11.96it/s]"
     ]
    },
    {
     "name": "stdout",
     "output_type": "stream",
     "text": [
      "Training_loss 0.08564,   Relative Error 0.10682\n",
      "Training_loss 0.08548,   Relative Error 0.10672\n",
      "Training_loss 0.08547,   Relative Error 0.10671\n"
     ]
    },
    {
     "name": "stderr",
     "output_type": "stream",
     "text": [
      "\r",
      " 86%|████████▋ | 1730/2000 [03:42<00:21, 12.38it/s]"
     ]
    },
    {
     "name": "stdout",
     "output_type": "stream",
     "text": [
      "Training_loss 0.08554,   Relative Error 0.10675\n",
      "Training_loss 0.08557,   Relative Error 0.10678\n",
      "Training_loss 0.08559,   Relative Error 0.10679\n"
     ]
    },
    {
     "name": "stderr",
     "output_type": "stream",
     "text": [
      " 87%|████████▋ | 1734/2000 [03:43<00:22, 11.85it/s]"
     ]
    },
    {
     "name": "stdout",
     "output_type": "stream",
     "text": [
      "Training_loss 0.08541,   Relative Error 0.10668\n",
      "Training_loss 0.08532,   Relative Error 0.10662\n",
      "Training_loss 0.08522,   Relative Error 0.10656\n"
     ]
    },
    {
     "name": "stderr",
     "output_type": "stream",
     "text": [
      "\r",
      " 87%|████████▋ | 1736/2000 [03:43<00:21, 12.22it/s]"
     ]
    },
    {
     "name": "stdout",
     "output_type": "stream",
     "text": [
      "Training_loss 0.08516,   Relative Error 0.10652\n",
      "Training_loss 0.08505,   Relative Error 0.10645\n",
      "Training_loss 0.08494,   Relative Error 0.10638\n"
     ]
    },
    {
     "name": "stderr",
     "output_type": "stream",
     "text": [
      " 87%|████████▋ | 1740/2000 [03:43<00:21, 12.34it/s]"
     ]
    },
    {
     "name": "stdout",
     "output_type": "stream",
     "text": [
      "Training_loss 0.08488,   Relative Error 0.10635\n",
      "Training_loss 0.08473,   Relative Error 0.10625\n",
      "Training_loss 0.08475,   Relative Error 0.10627\n"
     ]
    },
    {
     "name": "stderr",
     "output_type": "stream",
     "text": [
      "\r",
      " 87%|████████▋ | 1742/2000 [03:43<00:22, 11.57it/s]"
     ]
    },
    {
     "name": "stdout",
     "output_type": "stream",
     "text": [
      "Training_loss 0.08460,   Relative Error 0.10617\n",
      "Training_loss 0.08455,   Relative Error 0.10614\n",
      "Training_loss 0.08438,   Relative Error 0.10604\n"
     ]
    },
    {
     "name": "stderr",
     "output_type": "stream",
     "text": [
      " 87%|████████▋ | 1746/2000 [03:43<00:19, 13.07it/s]"
     ]
    },
    {
     "name": "stdout",
     "output_type": "stream",
     "text": [
      "Training_loss 0.08435,   Relative Error 0.10601\n",
      "Training_loss 0.08422,   Relative Error 0.10593\n",
      "Training_loss 0.08407,   Relative Error 0.10584\n",
      "Training_loss 0.08399,   Relative Error 0.10579\n"
     ]
    },
    {
     "name": "stderr",
     "output_type": "stream",
     "text": [
      " 88%|████████▊ | 1750/2000 [03:44<00:17, 14.20it/s]"
     ]
    },
    {
     "name": "stdout",
     "output_type": "stream",
     "text": [
      "Training_loss 0.08382,   Relative Error 0.10568\n",
      "Training_loss 0.08382,   Relative Error 0.10568\n",
      "Training_loss 0.08379,   Relative Error 0.10566\n",
      "Training_loss 0.08376,   Relative Error 0.10565\n"
     ]
    },
    {
     "name": "stderr",
     "output_type": "stream",
     "text": [
      " 88%|████████▊ | 1754/2000 [03:44<00:17, 13.83it/s]"
     ]
    },
    {
     "name": "stdout",
     "output_type": "stream",
     "text": [
      "Training_loss 0.08368,   Relative Error 0.10560\n",
      "Training_loss 0.08358,   Relative Error 0.10553\n",
      "Training_loss 0.08363,   Relative Error 0.10557\n"
     ]
    },
    {
     "name": "stderr",
     "output_type": "stream",
     "text": [
      "\r",
      " 88%|████████▊ | 1756/2000 [03:44<00:17, 13.57it/s]"
     ]
    },
    {
     "name": "stdout",
     "output_type": "stream",
     "text": [
      "Training_loss 0.08350,   Relative Error 0.10548\n",
      "Training_loss 0.08339,   Relative Error 0.10541\n",
      "Training_loss 0.08329,   Relative Error 0.10535\n"
     ]
    },
    {
     "name": "stderr",
     "output_type": "stream",
     "text": [
      " 88%|████████▊ | 1760/2000 [03:44<00:17, 13.68it/s]"
     ]
    },
    {
     "name": "stdout",
     "output_type": "stream",
     "text": [
      "Training_loss 0.08334,   Relative Error 0.10538\n",
      "Training_loss 0.08325,   Relative Error 0.10532\n",
      "Training_loss 0.08309,   Relative Error 0.10523\n",
      "Training_loss 0.08303,   Relative Error 0.10519\n"
     ]
    },
    {
     "name": "stderr",
     "output_type": "stream",
     "text": [
      " 88%|████████▊ | 1764/2000 [03:45<00:17, 13.81it/s]"
     ]
    },
    {
     "name": "stdout",
     "output_type": "stream",
     "text": [
      "Training_loss 0.08301,   Relative Error 0.10518\n",
      "Training_loss 0.08293,   Relative Error 0.10512\n",
      "Training_loss 0.08281,   Relative Error 0.10505\n"
     ]
    },
    {
     "name": "stderr",
     "output_type": "stream",
     "text": [
      " 88%|████████▊ | 1768/2000 [03:45<00:15, 15.04it/s]"
     ]
    },
    {
     "name": "stdout",
     "output_type": "stream",
     "text": [
      "Training_loss 0.08279,   Relative Error 0.10504\n",
      "Training_loss 0.08289,   Relative Error 0.10510\n",
      "Training_loss 0.08282,   Relative Error 0.10506\n",
      "Training_loss 0.08273,   Relative Error 0.10500\n"
     ]
    },
    {
     "name": "stderr",
     "output_type": "stream",
     "text": [
      " 89%|████████▊ | 1772/2000 [03:45<00:15, 15.02it/s]"
     ]
    },
    {
     "name": "stdout",
     "output_type": "stream",
     "text": [
      "Training_loss 0.08258,   Relative Error 0.10491\n",
      "Training_loss 0.08242,   Relative Error 0.10481\n",
      "Training_loss 0.08235,   Relative Error 0.10476\n",
      "Training_loss 0.08234,   Relative Error 0.10475\n"
     ]
    },
    {
     "name": "stderr",
     "output_type": "stream",
     "text": [
      " 89%|████████▉ | 1776/2000 [03:45<00:14, 15.32it/s]"
     ]
    },
    {
     "name": "stdout",
     "output_type": "stream",
     "text": [
      "Training_loss 0.08211,   Relative Error 0.10461\n",
      "Training_loss 0.08208,   Relative Error 0.10459\n",
      "Training_loss 0.08206,   Relative Error 0.10458\n",
      "Training_loss 0.08185,   Relative Error 0.10444\n"
     ]
    },
    {
     "name": "stderr",
     "output_type": "stream",
     "text": [
      "\r",
      " 89%|████████▉ | 1778/2000 [03:46<00:19, 11.18it/s]"
     ]
    },
    {
     "name": "stdout",
     "output_type": "stream",
     "text": [
      "Training_loss 0.08189,   Relative Error 0.10447\n",
      "Training_loss 0.08185,   Relative Error 0.10444\n"
     ]
    },
    {
     "name": "stderr",
     "output_type": "stream",
     "text": [
      "\r",
      " 89%|████████▉ | 1780/2000 [03:46<00:22,  9.64it/s]"
     ]
    },
    {
     "name": "stdout",
     "output_type": "stream",
     "text": [
      "Training_loss 0.08191,   Relative Error 0.10448\n",
      "Training_loss 0.08189,   Relative Error 0.10447\n"
     ]
    },
    {
     "name": "stderr",
     "output_type": "stream",
     "text": [
      "\r",
      " 89%|████████▉ | 1782/2000 [03:46<00:24,  9.07it/s]"
     ]
    },
    {
     "name": "stdout",
     "output_type": "stream",
     "text": [
      "Training_loss 0.08188,   Relative Error 0.10447\n",
      "Training_loss 0.08168,   Relative Error 0.10433\n"
     ]
    },
    {
     "name": "stderr",
     "output_type": "stream",
     "text": [
      "\r",
      " 89%|████████▉ | 1784/2000 [03:47<00:29,  7.37it/s]"
     ]
    },
    {
     "name": "stdout",
     "output_type": "stream",
     "text": [
      "Training_loss 0.08165,   Relative Error 0.10431\n",
      "Training_loss 0.08165,   Relative Error 0.10432\n"
     ]
    },
    {
     "name": "stderr",
     "output_type": "stream",
     "text": [
      " 89%|████████▉ | 1787/2000 [03:47<00:25,  8.40it/s]"
     ]
    },
    {
     "name": "stdout",
     "output_type": "stream",
     "text": [
      "Training_loss 0.08170,   Relative Error 0.10435\n",
      "Training_loss 0.08165,   Relative Error 0.10432\n",
      "Training_loss 0.08164,   Relative Error 0.10431\n"
     ]
    },
    {
     "name": "stderr",
     "output_type": "stream",
     "text": [
      "\r",
      " 89%|████████▉ | 1789/2000 [03:47<00:22,  9.58it/s]"
     ]
    },
    {
     "name": "stdout",
     "output_type": "stream",
     "text": [
      "Training_loss 0.08166,   Relative Error 0.10432\n",
      "Training_loss 0.08163,   Relative Error 0.10430\n",
      "Training_loss 0.08157,   Relative Error 0.10427\n"
     ]
    },
    {
     "name": "stderr",
     "output_type": "stream",
     "text": [
      " 90%|████████▉ | 1793/2000 [03:47<00:18, 11.46it/s]"
     ]
    },
    {
     "name": "stdout",
     "output_type": "stream",
     "text": [
      "Training_loss 0.08155,   Relative Error 0.10425\n",
      "Training_loss 0.08143,   Relative Error 0.10418\n",
      "Training_loss 0.08114,   Relative Error 0.10399\n"
     ]
    },
    {
     "name": "stderr",
     "output_type": "stream",
     "text": [
      "\r",
      " 90%|████████▉ | 1795/2000 [03:48<00:17, 12.01it/s]"
     ]
    },
    {
     "name": "stdout",
     "output_type": "stream",
     "text": [
      "Training_loss 0.08105,   Relative Error 0.10394\n",
      "Training_loss 0.08102,   Relative Error 0.10392\n",
      "Training_loss 0.08096,   Relative Error 0.10388\n"
     ]
    },
    {
     "name": "stderr",
     "output_type": "stream",
     "text": [
      " 90%|████████▉ | 1799/2000 [03:48<00:17, 11.74it/s]"
     ]
    },
    {
     "name": "stdout",
     "output_type": "stream",
     "text": [
      "Training_loss 0.08079,   Relative Error 0.10377\n",
      "Training_loss 0.08071,   Relative Error 0.10372\n",
      "Training_loss 0.08074,   Relative Error 0.10373\n"
     ]
    },
    {
     "name": "stderr",
     "output_type": "stream",
     "text": [
      "\r",
      " 90%|█████████ | 1801/2000 [03:48<00:16, 12.27it/s]"
     ]
    },
    {
     "name": "stdout",
     "output_type": "stream",
     "text": [
      "Training_loss 0.08065,   Relative Error 0.10368\n",
      "Training_loss 0.08055,   Relative Error 0.10362\n",
      "Training_loss 0.08038,   Relative Error 0.10351\n"
     ]
    },
    {
     "name": "stderr",
     "output_type": "stream",
     "text": [
      "\r",
      " 90%|█████████ | 1803/2000 [03:48<00:17, 11.02it/s]"
     ]
    },
    {
     "name": "stdout",
     "output_type": "stream",
     "text": [
      "Training_loss 0.08037,   Relative Error 0.10350\n",
      "Training_loss 0.08050,   Relative Error 0.10358\n"
     ]
    },
    {
     "name": "stderr",
     "output_type": "stream",
     "text": [
      " 90%|█████████ | 1806/2000 [03:49<00:22,  8.64it/s]"
     ]
    },
    {
     "name": "stdout",
     "output_type": "stream",
     "text": [
      "Training_loss 0.08054,   Relative Error 0.10361\n",
      "Training_loss 0.08033,   Relative Error 0.10347\n"
     ]
    },
    {
     "name": "stderr",
     "output_type": "stream",
     "text": [
      " 90%|█████████ | 1808/2000 [03:49<00:22,  8.71it/s]"
     ]
    },
    {
     "name": "stdout",
     "output_type": "stream",
     "text": [
      "Training_loss 0.08019,   Relative Error 0.10338\n",
      "Training_loss 0.07998,   Relative Error 0.10325\n",
      "Training_loss 0.08011,   Relative Error 0.10334\n"
     ]
    },
    {
     "name": "stderr",
     "output_type": "stream",
     "text": [
      " 91%|█████████ | 1812/2000 [03:49<00:16, 11.18it/s]"
     ]
    },
    {
     "name": "stdout",
     "output_type": "stream",
     "text": [
      "Training_loss 0.08008,   Relative Error 0.10331\n",
      "Training_loss 0.08014,   Relative Error 0.10335\n",
      "Training_loss 0.08012,   Relative Error 0.10334\n"
     ]
    },
    {
     "name": "stderr",
     "output_type": "stream",
     "text": [
      "\r",
      " 91%|█████████ | 1814/2000 [03:49<00:15, 12.02it/s]"
     ]
    },
    {
     "name": "stdout",
     "output_type": "stream",
     "text": [
      "Training_loss 0.08011,   Relative Error 0.10333\n",
      "Training_loss 0.08013,   Relative Error 0.10335\n",
      "Training_loss 0.08009,   Relative Error 0.10332\n"
     ]
    },
    {
     "name": "stderr",
     "output_type": "stream",
     "text": [
      " 91%|█████████ | 1818/2000 [03:50<00:13, 13.25it/s]"
     ]
    },
    {
     "name": "stdout",
     "output_type": "stream",
     "text": [
      "Training_loss 0.08009,   Relative Error 0.10332\n",
      "Training_loss 0.08003,   Relative Error 0.10328\n",
      "Training_loss 0.07993,   Relative Error 0.10322\n"
     ]
    },
    {
     "name": "stderr",
     "output_type": "stream",
     "text": [
      "\r",
      " 91%|█████████ | 1820/2000 [03:50<00:13, 13.44it/s]"
     ]
    },
    {
     "name": "stdout",
     "output_type": "stream",
     "text": [
      "Training_loss 0.07992,   Relative Error 0.10321\n",
      "Training_loss 0.07985,   Relative Error 0.10317\n",
      "Training_loss 0.07977,   Relative Error 0.10312\n"
     ]
    },
    {
     "name": "stderr",
     "output_type": "stream",
     "text": [
      " 91%|█████████ | 1824/2000 [03:50<00:12, 14.37it/s]"
     ]
    },
    {
     "name": "stdout",
     "output_type": "stream",
     "text": [
      "Training_loss 0.07976,   Relative Error 0.10311\n",
      "Training_loss 0.07979,   Relative Error 0.10313\n",
      "Training_loss 0.07976,   Relative Error 0.10311\n"
     ]
    },
    {
     "name": "stderr",
     "output_type": "stream",
     "text": [
      "\r",
      " 91%|█████████▏| 1826/2000 [03:50<00:13, 12.94it/s]"
     ]
    },
    {
     "name": "stdout",
     "output_type": "stream",
     "text": [
      "Training_loss 0.07974,   Relative Error 0.10309\n",
      "Training_loss 0.07973,   Relative Error 0.10309\n",
      "Training_loss 0.07962,   Relative Error 0.10302\n"
     ]
    },
    {
     "name": "stderr",
     "output_type": "stream",
     "text": [
      " 92%|█████████▏| 1830/2000 [03:51<00:12, 13.27it/s]"
     ]
    },
    {
     "name": "stdout",
     "output_type": "stream",
     "text": [
      "Training_loss 0.07960,   Relative Error 0.10301\n",
      "Training_loss 0.07959,   Relative Error 0.10300\n",
      "Training_loss 0.07947,   Relative Error 0.10292\n",
      "Training_loss 0.07945,   Relative Error 0.10291\n"
     ]
    },
    {
     "name": "stderr",
     "output_type": "stream",
     "text": [
      " 92%|█████████▏| 1834/2000 [03:51<00:13, 12.55it/s]"
     ]
    },
    {
     "name": "stdout",
     "output_type": "stream",
     "text": [
      "Training_loss 0.07940,   Relative Error 0.10288\n",
      "Training_loss 0.07940,   Relative Error 0.10288\n",
      "Training_loss 0.07933,   Relative Error 0.10283\n",
      "Training_loss 0.07937,   Relative Error 0.10286\n"
     ]
    },
    {
     "name": "stderr",
     "output_type": "stream",
     "text": [
      " 92%|█████████▏| 1838/2000 [03:51<00:12, 12.92it/s]"
     ]
    },
    {
     "name": "stdout",
     "output_type": "stream",
     "text": [
      "Training_loss 0.07940,   Relative Error 0.10288\n",
      "Training_loss 0.07936,   Relative Error 0.10286\n",
      "Training_loss 0.07925,   Relative Error 0.10278\n"
     ]
    },
    {
     "name": "stderr",
     "output_type": "stream",
     "text": [
      "\r",
      " 92%|█████████▏| 1840/2000 [03:51<00:14, 11.01it/s]"
     ]
    },
    {
     "name": "stdout",
     "output_type": "stream",
     "text": [
      "Training_loss 0.07904,   Relative Error 0.10265\n",
      "Training_loss 0.07889,   Relative Error 0.10255\n",
      "Training_loss 0.07892,   Relative Error 0.10257\n"
     ]
    },
    {
     "name": "stderr",
     "output_type": "stream",
     "text": [
      " 92%|█████████▏| 1843/2000 [03:52<00:20,  7.75it/s]"
     ]
    },
    {
     "name": "stdout",
     "output_type": "stream",
     "text": [
      "Training_loss 0.07892,   Relative Error 0.10257\n",
      "Training_loss 0.07896,   Relative Error 0.10259\n"
     ]
    },
    {
     "name": "stderr",
     "output_type": "stream",
     "text": [
      " 92%|█████████▏| 1846/2000 [03:52<00:17,  8.92it/s]"
     ]
    },
    {
     "name": "stdout",
     "output_type": "stream",
     "text": [
      "Training_loss 0.07891,   Relative Error 0.10257\n",
      "Training_loss 0.07874,   Relative Error 0.10246\n",
      "Training_loss 0.07859,   Relative Error 0.10236\n"
     ]
    },
    {
     "name": "stderr",
     "output_type": "stream",
     "text": [
      "\r",
      " 92%|█████████▏| 1848/2000 [03:52<00:15,  9.99it/s]"
     ]
    },
    {
     "name": "stdout",
     "output_type": "stream",
     "text": [
      "Training_loss 0.07875,   Relative Error 0.10246\n",
      "Training_loss 0.07878,   Relative Error 0.10248\n",
      "Training_loss 0.07884,   Relative Error 0.10252\n"
     ]
    },
    {
     "name": "stderr",
     "output_type": "stream",
     "text": [
      " 93%|█████████▎| 1852/2000 [03:53<00:13, 11.30it/s]"
     ]
    },
    {
     "name": "stdout",
     "output_type": "stream",
     "text": [
      "Training_loss 0.07888,   Relative Error 0.10255\n",
      "Training_loss 0.07887,   Relative Error 0.10254\n",
      "Training_loss 0.07876,   Relative Error 0.10247\n"
     ]
    },
    {
     "name": "stderr",
     "output_type": "stream",
     "text": [
      "\r",
      " 93%|█████████▎| 1854/2000 [03:53<00:13, 10.58it/s]"
     ]
    },
    {
     "name": "stdout",
     "output_type": "stream",
     "text": [
      "Training_loss 0.07862,   Relative Error 0.10238\n",
      "Training_loss 0.07866,   Relative Error 0.10240\n",
      "Training_loss 0.07866,   Relative Error 0.10240\n"
     ]
    },
    {
     "name": "stderr",
     "output_type": "stream",
     "text": [
      " 93%|█████████▎| 1857/2000 [03:54<00:18,  7.55it/s]"
     ]
    },
    {
     "name": "stdout",
     "output_type": "stream",
     "text": [
      "Training_loss 0.07858,   Relative Error 0.10236\n",
      "Training_loss 0.07854,   Relative Error 0.10233\n"
     ]
    },
    {
     "name": "stderr",
     "output_type": "stream",
     "text": [
      " 93%|█████████▎| 1860/2000 [03:54<00:15,  8.99it/s]"
     ]
    },
    {
     "name": "stdout",
     "output_type": "stream",
     "text": [
      "Training_loss 0.07845,   Relative Error 0.10227\n",
      "Training_loss 0.07819,   Relative Error 0.10210\n",
      "Training_loss 0.07806,   Relative Error 0.10202\n"
     ]
    },
    {
     "name": "stderr",
     "output_type": "stream",
     "text": [
      "\r",
      " 93%|█████████▎| 1862/2000 [03:54<00:14,  9.39it/s]"
     ]
    },
    {
     "name": "stdout",
     "output_type": "stream",
     "text": [
      "Training_loss 0.07809,   Relative Error 0.10204\n",
      "Training_loss 0.07812,   Relative Error 0.10206\n",
      "Training_loss 0.07815,   Relative Error 0.10208\n"
     ]
    },
    {
     "name": "stderr",
     "output_type": "stream",
     "text": [
      " 93%|█████████▎| 1866/2000 [03:54<00:12, 10.38it/s]"
     ]
    },
    {
     "name": "stdout",
     "output_type": "stream",
     "text": [
      "Training_loss 0.07824,   Relative Error 0.10214\n",
      "Training_loss 0.07825,   Relative Error 0.10215\n",
      "Training_loss 0.07833,   Relative Error 0.10220\n"
     ]
    },
    {
     "name": "stderr",
     "output_type": "stream",
     "text": [
      "\r",
      " 93%|█████████▎| 1868/2000 [03:55<00:11, 11.12it/s]"
     ]
    },
    {
     "name": "stdout",
     "output_type": "stream",
     "text": [
      "Training_loss 0.07817,   Relative Error 0.10209\n",
      "Training_loss 0.07816,   Relative Error 0.10209\n",
      "Training_loss 0.07817,   Relative Error 0.10209\n"
     ]
    },
    {
     "name": "stderr",
     "output_type": "stream",
     "text": [
      " 94%|█████████▎| 1872/2000 [03:55<00:10, 11.80it/s]"
     ]
    },
    {
     "name": "stdout",
     "output_type": "stream",
     "text": [
      "Training_loss 0.07810,   Relative Error 0.10205\n",
      "Training_loss 0.07815,   Relative Error 0.10208\n",
      "Training_loss 0.07814,   Relative Error 0.10207\n"
     ]
    },
    {
     "name": "stderr",
     "output_type": "stream",
     "text": [
      "\r",
      " 94%|█████████▎| 1874/2000 [03:55<00:11, 11.18it/s]"
     ]
    },
    {
     "name": "stdout",
     "output_type": "stream",
     "text": [
      "Training_loss 0.07814,   Relative Error 0.10208\n",
      "Training_loss 0.07804,   Relative Error 0.10201\n",
      "Training_loss 0.07793,   Relative Error 0.10193\n"
     ]
    },
    {
     "name": "stderr",
     "output_type": "stream",
     "text": [
      " 94%|█████████▍| 1878/2000 [03:55<00:10, 12.08it/s]"
     ]
    },
    {
     "name": "stdout",
     "output_type": "stream",
     "text": [
      "Training_loss 0.07789,   Relative Error 0.10191\n",
      "Training_loss 0.07790,   Relative Error 0.10191\n",
      "Training_loss 0.07782,   Relative Error 0.10186\n"
     ]
    },
    {
     "name": "stderr",
     "output_type": "stream",
     "text": [
      "\r",
      " 94%|█████████▍| 1880/2000 [03:56<00:09, 12.29it/s]"
     ]
    },
    {
     "name": "stdout",
     "output_type": "stream",
     "text": [
      "Training_loss 0.07778,   Relative Error 0.10184\n",
      "Training_loss 0.07774,   Relative Error 0.10181\n",
      "Training_loss 0.07769,   Relative Error 0.10178\n"
     ]
    },
    {
     "name": "stderr",
     "output_type": "stream",
     "text": [
      " 94%|█████████▍| 1884/2000 [03:56<00:09, 12.56it/s]"
     ]
    },
    {
     "name": "stdout",
     "output_type": "stream",
     "text": [
      "Training_loss 0.07761,   Relative Error 0.10172\n",
      "Training_loss 0.07765,   Relative Error 0.10175\n",
      "Training_loss 0.07758,   Relative Error 0.10171\n"
     ]
    },
    {
     "name": "stderr",
     "output_type": "stream",
     "text": [
      "\r",
      " 94%|█████████▍| 1886/2000 [03:56<00:09, 12.48it/s]"
     ]
    },
    {
     "name": "stdout",
     "output_type": "stream",
     "text": [
      "Training_loss 0.07736,   Relative Error 0.10156\n",
      "Training_loss 0.07713,   Relative Error 0.10141\n",
      "Training_loss 0.07709,   Relative Error 0.10139\n"
     ]
    },
    {
     "name": "stderr",
     "output_type": "stream",
     "text": [
      "\r",
      " 94%|█████████▍| 1888/2000 [03:56<00:08, 12.87it/s]"
     ]
    },
    {
     "name": "stdout",
     "output_type": "stream",
     "text": [
      "Training_loss 0.07725,   Relative Error 0.10149\n",
      "Training_loss 0.07717,   Relative Error 0.10144\n"
     ]
    },
    {
     "name": "stderr",
     "output_type": "stream",
     "text": [
      " 95%|█████████▍| 1892/2000 [03:57<00:08, 12.13it/s]"
     ]
    },
    {
     "name": "stdout",
     "output_type": "stream",
     "text": [
      "Training_loss 0.07720,   Relative Error 0.10146\n",
      "Training_loss 0.07712,   Relative Error 0.10141\n",
      "Training_loss 0.07709,   Relative Error 0.10139\n"
     ]
    },
    {
     "name": "stderr",
     "output_type": "stream",
     "text": [
      "\r",
      " 95%|█████████▍| 1894/2000 [03:57<00:08, 12.33it/s]"
     ]
    },
    {
     "name": "stdout",
     "output_type": "stream",
     "text": [
      "Training_loss 0.07713,   Relative Error 0.10141\n",
      "Training_loss 0.07717,   Relative Error 0.10144\n",
      "Training_loss 0.07712,   Relative Error 0.10141\n"
     ]
    },
    {
     "name": "stderr",
     "output_type": "stream",
     "text": [
      " 95%|█████████▍| 1898/2000 [03:57<00:07, 12.86it/s]"
     ]
    },
    {
     "name": "stdout",
     "output_type": "stream",
     "text": [
      "Training_loss 0.07706,   Relative Error 0.10137\n",
      "Training_loss 0.07716,   Relative Error 0.10144\n",
      "Training_loss 0.07709,   Relative Error 0.10139\n"
     ]
    },
    {
     "name": "stderr",
     "output_type": "stream",
     "text": [
      "\r",
      " 95%|█████████▌| 1900/2000 [03:57<00:08, 12.27it/s]"
     ]
    },
    {
     "name": "stdout",
     "output_type": "stream",
     "text": [
      "Training_loss 0.07711,   Relative Error 0.10140\n",
      "Training_loss 0.07710,   Relative Error 0.10140\n",
      "Training_loss 0.07706,   Relative Error 0.10137\n"
     ]
    },
    {
     "name": "stderr",
     "output_type": "stream",
     "text": [
      "\r",
      " 95%|█████████▌| 1902/2000 [03:57<00:07, 12.55it/s]"
     ]
    },
    {
     "name": "stdout",
     "output_type": "stream",
     "text": [
      "Training_loss 0.07712,   Relative Error 0.10141\n",
      "Training_loss 0.07699,   Relative Error 0.10132\n"
     ]
    },
    {
     "name": "stderr",
     "output_type": "stream",
     "text": [
      " 95%|█████████▌| 1906/2000 [03:58<00:08, 10.76it/s]"
     ]
    },
    {
     "name": "stdout",
     "output_type": "stream",
     "text": [
      "Training_loss 0.07698,   Relative Error 0.10131\n",
      "Training_loss 0.07702,   Relative Error 0.10134\n",
      "Training_loss 0.07698,   Relative Error 0.10132\n"
     ]
    },
    {
     "name": "stderr",
     "output_type": "stream",
     "text": [
      "\r",
      " 95%|█████████▌| 1908/2000 [03:58<00:09, 10.10it/s]"
     ]
    },
    {
     "name": "stdout",
     "output_type": "stream",
     "text": [
      "Training_loss 0.07669,   Relative Error 0.10112\n",
      "Training_loss 0.07666,   Relative Error 0.10111\n",
      "Training_loss 0.07673,   Relative Error 0.10115\n"
     ]
    },
    {
     "name": "stderr",
     "output_type": "stream",
     "text": [
      " 96%|█████████▌| 1911/2000 [03:58<00:09,  9.40it/s]"
     ]
    },
    {
     "name": "stdout",
     "output_type": "stream",
     "text": [
      "Training_loss 0.07673,   Relative Error 0.10115\n",
      "Training_loss 0.07676,   Relative Error 0.10117\n",
      "Training_loss 0.07685,   Relative Error 0.10123\n"
     ]
    },
    {
     "name": "stderr",
     "output_type": "stream",
     "text": [
      " 96%|█████████▌| 1914/2000 [03:59<00:09,  9.18it/s]"
     ]
    },
    {
     "name": "stdout",
     "output_type": "stream",
     "text": [
      "Training_loss 0.07687,   Relative Error 0.10124\n",
      "Training_loss 0.07691,   Relative Error 0.10127\n"
     ]
    },
    {
     "name": "stderr",
     "output_type": "stream",
     "text": [
      " 96%|█████████▌| 1916/2000 [03:59<00:11,  7.16it/s]"
     ]
    },
    {
     "name": "stdout",
     "output_type": "stream",
     "text": [
      "Training_loss 0.07685,   Relative Error 0.10124\n",
      "Training_loss 0.07680,   Relative Error 0.10120\n"
     ]
    },
    {
     "name": "stderr",
     "output_type": "stream",
     "text": [
      " 96%|█████████▌| 1918/2000 [03:59<00:12,  6.78it/s]"
     ]
    },
    {
     "name": "stdout",
     "output_type": "stream",
     "text": [
      "Training_loss 0.07671,   Relative Error 0.10114\n",
      "Training_loss 0.07667,   Relative Error 0.10112\n"
     ]
    },
    {
     "name": "stderr",
     "output_type": "stream",
     "text": [
      " 96%|█████████▌| 1920/2000 [04:00<00:11,  7.09it/s]"
     ]
    },
    {
     "name": "stdout",
     "output_type": "stream",
     "text": [
      "Training_loss 0.07664,   Relative Error 0.10110\n",
      "Training_loss 0.07664,   Relative Error 0.10110\n"
     ]
    },
    {
     "name": "stderr",
     "output_type": "stream",
     "text": [
      "\r",
      " 96%|█████████▌| 1922/2000 [04:00<00:10,  7.43it/s]"
     ]
    },
    {
     "name": "stdout",
     "output_type": "stream",
     "text": [
      "Training_loss 0.07668,   Relative Error 0.10112\n",
      "Training_loss 0.07669,   Relative Error 0.10113\n"
     ]
    },
    {
     "name": "stderr",
     "output_type": "stream",
     "text": [
      " 96%|█████████▌| 1924/2000 [04:00<00:09,  7.89it/s]"
     ]
    },
    {
     "name": "stdout",
     "output_type": "stream",
     "text": [
      "Training_loss 0.07644,   Relative Error 0.10096\n",
      "Training_loss 0.07653,   Relative Error 0.10103\n"
     ]
    },
    {
     "name": "stderr",
     "output_type": "stream",
     "text": [
      "\r",
      " 96%|█████████▋| 1926/2000 [04:00<00:08,  8.99it/s]"
     ]
    },
    {
     "name": "stdout",
     "output_type": "stream",
     "text": [
      "Training_loss 0.07634,   Relative Error 0.10090\n",
      "Training_loss 0.07629,   Relative Error 0.10087\n",
      "Training_loss 0.07612,   Relative Error 0.10076\n"
     ]
    },
    {
     "name": "stderr",
     "output_type": "stream",
     "text": [
      " 96%|█████████▋| 1930/2000 [04:01<00:06, 10.63it/s]"
     ]
    },
    {
     "name": "stdout",
     "output_type": "stream",
     "text": [
      "Training_loss 0.07606,   Relative Error 0.10071\n",
      "Training_loss 0.07594,   Relative Error 0.10064\n",
      "Training_loss 0.07585,   Relative Error 0.10058\n"
     ]
    },
    {
     "name": "stderr",
     "output_type": "stream",
     "text": [
      "\r",
      " 97%|█████████▋| 1932/2000 [04:01<00:06, 11.23it/s]"
     ]
    },
    {
     "name": "stdout",
     "output_type": "stream",
     "text": [
      "Training_loss 0.07590,   Relative Error 0.10061\n",
      "Training_loss 0.07590,   Relative Error 0.10061\n",
      "Training_loss 0.07594,   Relative Error 0.10064\n"
     ]
    },
    {
     "name": "stderr",
     "output_type": "stream",
     "text": [
      " 97%|█████████▋| 1936/2000 [04:01<00:05, 11.75it/s]"
     ]
    },
    {
     "name": "stdout",
     "output_type": "stream",
     "text": [
      "Training_loss 0.07593,   Relative Error 0.10063\n",
      "Training_loss 0.07598,   Relative Error 0.10066\n",
      "Training_loss 0.07595,   Relative Error 0.10065\n"
     ]
    },
    {
     "name": "stderr",
     "output_type": "stream",
     "text": [
      "\r",
      " 97%|█████████▋| 1938/2000 [04:01<00:05, 11.94it/s]"
     ]
    },
    {
     "name": "stdout",
     "output_type": "stream",
     "text": [
      "Training_loss 0.07583,   Relative Error 0.10057\n",
      "Training_loss 0.07571,   Relative Error 0.10048\n",
      "Training_loss 0.07584,   Relative Error 0.10057\n"
     ]
    },
    {
     "name": "stderr",
     "output_type": "stream",
     "text": [
      " 97%|█████████▋| 1942/2000 [04:02<00:04, 12.09it/s]"
     ]
    },
    {
     "name": "stdout",
     "output_type": "stream",
     "text": [
      "Training_loss 0.07593,   Relative Error 0.10063\n",
      "Training_loss 0.07596,   Relative Error 0.10065\n",
      "Training_loss 0.07591,   Relative Error 0.10062\n"
     ]
    },
    {
     "name": "stderr",
     "output_type": "stream",
     "text": [
      "\r",
      " 97%|█████████▋| 1944/2000 [04:02<00:04, 12.24it/s]"
     ]
    },
    {
     "name": "stdout",
     "output_type": "stream",
     "text": [
      "Training_loss 0.07593,   Relative Error 0.10063\n",
      "Training_loss 0.07589,   Relative Error 0.10061\n",
      "Training_loss 0.07589,   Relative Error 0.10060\n"
     ]
    },
    {
     "name": "stderr",
     "output_type": "stream",
     "text": [
      " 97%|█████████▋| 1948/2000 [04:02<00:04, 11.58it/s]"
     ]
    },
    {
     "name": "stdout",
     "output_type": "stream",
     "text": [
      "Training_loss 0.07597,   Relative Error 0.10066\n",
      "Training_loss 0.07579,   Relative Error 0.10054\n",
      "Training_loss 0.07568,   Relative Error 0.10047\n"
     ]
    },
    {
     "name": "stderr",
     "output_type": "stream",
     "text": [
      "\r",
      " 98%|█████████▊| 1950/2000 [04:02<00:04, 11.36it/s]"
     ]
    },
    {
     "name": "stdout",
     "output_type": "stream",
     "text": [
      "Training_loss 0.07570,   Relative Error 0.10048\n",
      "Training_loss 0.07563,   Relative Error 0.10043\n",
      "Training_loss 0.07555,   Relative Error 0.10038\n"
     ]
    },
    {
     "name": "stderr",
     "output_type": "stream",
     "text": [
      " 98%|█████████▊| 1954/2000 [04:03<00:04, 11.22it/s]"
     ]
    },
    {
     "name": "stdout",
     "output_type": "stream",
     "text": [
      "Training_loss 0.07560,   Relative Error 0.10041\n",
      "Training_loss 0.07567,   Relative Error 0.10046\n",
      "Training_loss 0.07558,   Relative Error 0.10040\n"
     ]
    },
    {
     "name": "stderr",
     "output_type": "stream",
     "text": [
      "\r",
      " 98%|█████████▊| 1956/2000 [04:03<00:03, 11.25it/s]"
     ]
    },
    {
     "name": "stdout",
     "output_type": "stream",
     "text": [
      "Training_loss 0.07555,   Relative Error 0.10038\n",
      "Training_loss 0.07560,   Relative Error 0.10042\n",
      "Training_loss 0.07548,   Relative Error 0.10034\n"
     ]
    },
    {
     "name": "stderr",
     "output_type": "stream",
     "text": [
      " 98%|█████████▊| 1960/2000 [04:03<00:03, 10.81it/s]"
     ]
    },
    {
     "name": "stdout",
     "output_type": "stream",
     "text": [
      "Training_loss 0.07540,   Relative Error 0.10028\n",
      "Training_loss 0.07546,   Relative Error 0.10032\n",
      "Training_loss 0.07546,   Relative Error 0.10032\n"
     ]
    },
    {
     "name": "stderr",
     "output_type": "stream",
     "text": [
      "\r",
      " 98%|█████████▊| 1962/2000 [04:03<00:03, 10.65it/s]"
     ]
    },
    {
     "name": "stdout",
     "output_type": "stream",
     "text": [
      "Training_loss 0.07539,   Relative Error 0.10028\n",
      "Training_loss 0.07535,   Relative Error 0.10025\n"
     ]
    },
    {
     "name": "stderr",
     "output_type": "stream",
     "text": [
      "\r",
      " 98%|█████████▊| 1964/2000 [04:04<00:03,  9.37it/s]"
     ]
    },
    {
     "name": "stdout",
     "output_type": "stream",
     "text": [
      "Training_loss 0.07536,   Relative Error 0.10025\n",
      "Training_loss 0.07529,   Relative Error 0.10021\n"
     ]
    },
    {
     "name": "stderr",
     "output_type": "stream",
     "text": [
      " 98%|█████████▊| 1967/2000 [04:04<00:03,  9.96it/s]"
     ]
    },
    {
     "name": "stdout",
     "output_type": "stream",
     "text": [
      "Training_loss 0.07522,   Relative Error 0.10016\n",
      "Training_loss 0.07531,   Relative Error 0.10022\n",
      "Training_loss 0.07531,   Relative Error 0.10022\n"
     ]
    },
    {
     "name": "stderr",
     "output_type": "stream",
     "text": [
      "\r",
      " 98%|█████████▊| 1969/2000 [04:04<00:02, 10.68it/s]"
     ]
    },
    {
     "name": "stdout",
     "output_type": "stream",
     "text": [
      "Training_loss 0.07517,   Relative Error 0.10013\n",
      "Training_loss 0.07515,   Relative Error 0.10012\n",
      "Training_loss 0.07502,   Relative Error 0.10003\n"
     ]
    },
    {
     "name": "stderr",
     "output_type": "stream",
     "text": [
      " 99%|█████████▊| 1973/2000 [04:04<00:02, 11.24it/s]"
     ]
    },
    {
     "name": "stdout",
     "output_type": "stream",
     "text": [
      "Training_loss 0.07503,   Relative Error 0.10004\n",
      "Training_loss 0.07494,   Relative Error 0.09998\n",
      "Training_loss 0.07501,   Relative Error 0.10002\n"
     ]
    },
    {
     "name": "stderr",
     "output_type": "stream",
     "text": [
      "\r",
      " 99%|█████████▉| 1975/2000 [04:05<00:02, 11.58it/s]"
     ]
    },
    {
     "name": "stdout",
     "output_type": "stream",
     "text": [
      "Training_loss 0.07507,   Relative Error 0.10006\n",
      "Training_loss 0.07504,   Relative Error 0.10004\n",
      "Training_loss 0.07513,   Relative Error 0.10010\n"
     ]
    },
    {
     "name": "stderr",
     "output_type": "stream",
     "text": [
      " 99%|█████████▉| 1979/2000 [04:05<00:01, 11.93it/s]"
     ]
    },
    {
     "name": "stdout",
     "output_type": "stream",
     "text": [
      "Training_loss 0.07508,   Relative Error 0.10007\n",
      "Training_loss 0.07502,   Relative Error 0.10003\n",
      "Training_loss 0.07494,   Relative Error 0.09998\n"
     ]
    },
    {
     "name": "stderr",
     "output_type": "stream",
     "text": [
      "\r",
      " 99%|█████████▉| 1981/2000 [04:05<00:01, 11.09it/s]"
     ]
    },
    {
     "name": "stdout",
     "output_type": "stream",
     "text": [
      "Training_loss 0.07464,   Relative Error 0.09978\n",
      "Training_loss 0.07460,   Relative Error 0.09975\n",
      "Training_loss 0.07463,   Relative Error 0.09977\n"
     ]
    },
    {
     "name": "stderr",
     "output_type": "stream",
     "text": [
      " 99%|█████████▉| 1985/2000 [04:05<00:01, 11.75it/s]"
     ]
    },
    {
     "name": "stdout",
     "output_type": "stream",
     "text": [
      "Training_loss 0.07445,   Relative Error 0.09965\n",
      "Training_loss 0.07439,   Relative Error 0.09961\n",
      "Training_loss 0.07436,   Relative Error 0.09959\n"
     ]
    },
    {
     "name": "stderr",
     "output_type": "stream",
     "text": [
      "\r",
      " 99%|█████████▉| 1987/2000 [04:06<00:01, 11.29it/s]"
     ]
    },
    {
     "name": "stdout",
     "output_type": "stream",
     "text": [
      "Training_loss 0.07440,   Relative Error 0.09962\n",
      "Training_loss 0.07437,   Relative Error 0.09960\n",
      "Training_loss 0.07436,   Relative Error 0.09959\n"
     ]
    },
    {
     "name": "stderr",
     "output_type": "stream",
     "text": [
      "100%|█████████▉| 1991/2000 [04:06<00:00, 12.36it/s]"
     ]
    },
    {
     "name": "stdout",
     "output_type": "stream",
     "text": [
      "Training_loss 0.07432,   Relative Error 0.09956\n",
      "Training_loss 0.07426,   Relative Error 0.09952\n",
      "Training_loss 0.07425,   Relative Error 0.09952\n"
     ]
    },
    {
     "name": "stderr",
     "output_type": "stream",
     "text": [
      "\r",
      "100%|█████████▉| 1993/2000 [04:06<00:00, 12.44it/s]"
     ]
    },
    {
     "name": "stdout",
     "output_type": "stream",
     "text": [
      "Training_loss 0.07417,   Relative Error 0.09946\n",
      "Training_loss 0.07412,   Relative Error 0.09943\n",
      "Training_loss 0.07400,   Relative Error 0.09935\n"
     ]
    },
    {
     "name": "stderr",
     "output_type": "stream",
     "text": [
      "100%|█████████▉| 1997/2000 [04:06<00:00, 12.25it/s]"
     ]
    },
    {
     "name": "stdout",
     "output_type": "stream",
     "text": [
      "Training_loss 0.07377,   Relative Error 0.09920\n",
      "Training_loss 0.07364,   Relative Error 0.09911\n",
      "Training_loss 0.07368,   Relative Error 0.09914\n"
     ]
    },
    {
     "name": "stderr",
     "output_type": "stream",
     "text": [
      "\r",
      "100%|█████████▉| 1999/2000 [04:07<00:00, 11.72it/s]"
     ]
    },
    {
     "name": "stdout",
     "output_type": "stream",
     "text": [
      "Training_loss 0.07368,   Relative Error 0.09914\n",
      "Training_loss 0.07359,   Relative Error 0.09908\n"
     ]
    },
    {
     "name": "stderr",
     "output_type": "stream",
     "text": [
      "\r",
      "100%|██████████| 2000/2000 [04:07<00:00,  8.09it/s]"
     ]
    },
    {
     "name": "stdout",
     "output_type": "stream",
     "text": [
      "Training_loss 0.07368,   Relative Error 0.09914\n"
     ]
    },
    {
     "name": "stderr",
     "output_type": "stream",
     "text": [
      "\n"
     ]
    }
   ],
   "source": [
    "#global_model = CNN_Net().cuda()\n",
    "models = [MLP_Net(user_id=i) for i in range(no_users)]\n",
    "dummy_models = [MLP_Net(user_id=i) for i in range(no_users)]\n",
    "\n",
    "#model.load_state_dict(global_model.state_dict())\n",
    "\n",
    "criterion = nn.MSELoss()\n",
    "\n",
    "\n",
    "train_loss = []\n",
    "test_loss = []\n",
    "test_accuracy = []\n",
    "total_rel_error = []\n",
    "\n",
    "for curr_round in tqdm(range(1, it+1)):\n",
    "    w, local_loss = [], []\n",
    "\n",
    "    \n",
    "    for i in range(no_users):\n",
    "        dummy_models[i].load_state_dict(models[i].state_dict())\n",
    "        local_update = ClientUpdate(dataset=datapoints[i], batchSize=batch_size, alpha=alpha, lamda=lamda, epochs=1, projection_list=projection_list, projected_weights=projected_weights)\n",
    "        weights, loss = local_update.train(dummy_models[i])\n",
    "        w.append(weights)\n",
    "        local_loss.append(loss)\n",
    "        models[i].load_state_dict(w[i])\n",
    "        \n",
    "    \n",
    "    \n",
    "    \n",
    "    #Share and mix the local weights\n",
    "    \n",
    "    \n",
    "    for i in range(no_users):\n",
    "        weights = parameters_to_vector(dummy_models[i].parameters())\n",
    "        mat_vec_sum = torch.zeros_like(weights)\n",
    "        for j in G.neighbors(i):\n",
    "            mat_vec_sum = torch.add(mat_vec_sum, parameters_to_vector(dummy_models[j].parameters()))\n",
    "        \n",
    "        new_weights = weights - mu * eta * (degree_list[i] * weights - mat_vec_sum)\n",
    "        # Update real models\n",
    "        vector_to_parameters(parameters=models[i].parameters(), vec=new_weights)\n",
    "        \n",
    "        \n",
    "        \n",
    "    \n",
    "    \n",
    "\n",
    "\n",
    "\n",
    "\n",
    "          \n",
    "            \n",
    "\n",
    "    local_test_acc = []\n",
    "    local_test_loss = []\n",
    "    \n",
    "    user_rel_error = 0\n",
    "    for k in range(no_users):\n",
    "      \n",
    "        g_loss = testing(models[i], datapoints[i], 50, criterion)\n",
    "        local_test_loss.append(g_loss)\n",
    "        user_rel_error += rel_error(models[i])\n",
    "    \n",
    "    \n",
    "        \n",
    "\n",
    "    g_loss = sum(local_test_loss) / len(local_test_loss)\n",
    "    total_rel_error.append(user_rel_error / no_users)\n",
    "    #g_accuracy = sum(local_test_acc) / len(local_test_acc)\n",
    "    \n",
    "    \n",
    "\n",
    "    test_loss.append(g_loss)\n",
    "    #test_accuracy.append(g_accuracy)\n",
    "    print(\"Training_loss %2.5f,   Relative Error %2.5f\"% (test_loss[-1], total_rel_error[-1]))"
   ]
  },
  {
   "cell_type": "code",
   "execution_count": 20,
   "id": "2ff0ff71",
   "metadata": {},
   "outputs": [
    {
     "data": {
      "text/plain": [
       "tensor([-1.7210,  1.9723], grad_fn=<CatBackward0>)"
      ]
     },
     "execution_count": 20,
     "metadata": {},
     "output_type": "execute_result"
    }
   ],
   "source": [
    "#plot.plot(test_loss)\n",
    "parameters_to_vector(models[19].parameters())"
   ]
  },
  {
   "cell_type": "code",
   "execution_count": 21,
   "id": "679d15ac",
   "metadata": {},
   "outputs": [
    {
     "name": "stdout",
     "output_type": "stream",
     "text": [
      "1\n",
      "2\n",
      "3\n",
      "5\n",
      "7\n",
      "8\n"
     ]
    }
   ],
   "source": [
    "for j in G.neighbors(0):\n",
    "    print(j)"
   ]
  },
  {
   "cell_type": "code",
   "execution_count": 22,
   "id": "c76fd36c",
   "metadata": {},
   "outputs": [
    {
     "data": {
      "text/plain": [
       "tensor([1.8046, 1.9609], grad_fn=<CatBackward0>)"
      ]
     },
     "execution_count": 22,
     "metadata": {},
     "output_type": "execute_result"
    }
   ],
   "source": [
    "parameters_to_vector(models[0].parameters())"
   ]
  },
  {
   "cell_type": "code",
   "execution_count": 23,
   "id": "42f4dc91",
   "metadata": {},
   "outputs": [
    {
     "data": {
      "text/plain": [
       "[0,\n",
       " tensor([[1.9496, 0.0000],\n",
       "         [0.0000, 1.9496]]),\n",
       " tensor([[2.2088, 0.0000],\n",
       "         [0.0000, 2.2088]]),\n",
       " tensor([[2.8698, 0.0000],\n",
       "         [0.0000, 2.8698]]),\n",
       " 0,\n",
       " tensor([[-0.2043,  0.0000],\n",
       "         [ 0.0000, -0.2043]]),\n",
       " 0,\n",
       " tensor([[1.3879, 0.0000],\n",
       "         [0.0000, 1.3879]]),\n",
       " tensor([[1.6394, 0.0000],\n",
       "         [0.0000, 1.6394]]),\n",
       " 0,\n",
       " 0,\n",
       " 0,\n",
       " 0,\n",
       " 0,\n",
       " 0,\n",
       " 0,\n",
       " 0,\n",
       " 0,\n",
       " 0,\n",
       " 0]"
      ]
     },
     "execution_count": 23,
     "metadata": {},
     "output_type": "execute_result"
    }
   ],
   "source": [
    "projection_list[0]"
   ]
  },
  {
   "cell_type": "code",
   "execution_count": 24,
   "id": "e98c0b57",
   "metadata": {},
   "outputs": [
    {
     "data": {
      "text/plain": [
       "[0,\n",
       " tensor([-1.3695, -0.1775]),\n",
       " tensor([ 0.9009, -0.2346]),\n",
       " tensor([-1.8792, -0.8054]),\n",
       " 0,\n",
       " tensor([ 0.1049, -0.0107]),\n",
       " 0,\n",
       " tensor([0.2866, 0.0403]),\n",
       " tensor([-0.3960,  0.0616]),\n",
       " 0,\n",
       " 0,\n",
       " 0,\n",
       " 0,\n",
       " 0,\n",
       " 0,\n",
       " 0,\n",
       " 0,\n",
       " 0,\n",
       " 0,\n",
       " 0]"
      ]
     },
     "execution_count": 24,
     "metadata": {},
     "output_type": "execute_result"
    }
   ],
   "source": [
    "projected_weights[0]"
   ]
  },
  {
   "cell_type": "code",
   "execution_count": 25,
   "id": "1cf9ba5d",
   "metadata": {},
   "outputs": [],
   "source": [
    "test_loss = np.array(test_loss)\n",
    "total_rel_error = np.array(total_rel_error)"
   ]
  },
  {
   "cell_type": "code",
   "execution_count": 26,
   "id": "7dade085",
   "metadata": {},
   "outputs": [],
   "source": [
    "np.save( 'training_loss_dfedu' + str(eta).replace('.', '_'), test_loss)\n",
    "np.save('relative_error_dfedu' + str(eta).replace('.', '_'), total_rel_error)"
   ]
  },
  {
   "cell_type": "code",
   "execution_count": null,
   "id": "1bb16136",
   "metadata": {},
   "outputs": [],
   "source": []
  },
  {
   "cell_type": "code",
   "execution_count": null,
   "id": "e5bf8f56",
   "metadata": {},
   "outputs": [],
   "source": []
  }
 ],
 "metadata": {
  "kernelspec": {
   "display_name": "Python 3",
   "language": "python",
   "name": "python3"
  },
  "language_info": {
   "codemirror_mode": {
    "name": "ipython",
    "version": 3
   },
   "file_extension": ".py",
   "mimetype": "text/x-python",
   "name": "python",
   "nbconvert_exporter": "python",
   "pygments_lexer": "ipython3",
   "version": "3.8.8"
  }
 },
 "nbformat": 4,
 "nbformat_minor": 5
}
