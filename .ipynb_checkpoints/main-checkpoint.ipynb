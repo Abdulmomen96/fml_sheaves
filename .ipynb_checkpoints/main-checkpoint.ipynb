{
 "cells": [
  {
   "cell_type": "code",
   "execution_count": 27,
   "id": "d451688f",
   "metadata": {},
   "outputs": [],
   "source": [
    "import torch\n",
    "import torch.nn as nn\n",
    "import torch.nn.functional as F\n",
    "import numpy as np\n",
    "import matplotlib.pyplot as plt\n",
    "import pandas as pd\n",
    "from sklearn.model_selection import train_test_split\n",
    "from torch.utils.data import DataLoader, Dataset\n",
    "from torchvision import transforms\n",
    "import networkx as nx"
   ]
  },
  {
   "cell_type": "code",
   "execution_count": 77,
   "id": "aef12209",
   "metadata": {},
   "outputs": [
    {
     "data": {
      "image/png": "[encoded data removed]",
      "text/plain": [
       "<Figure size 432x288 with 1 Axes>"
      ]
     },
     "metadata": {},
     "output_type": "display_data"
    }
   ],
   "source": [
    "# Generate the graphs\n",
    "cluster_sizes = [10, 10]\n",
    "pin = 0.5\n",
    "pout = 0.01\n",
    "seed = 0\n",
    "def generate_graph(cluster_sizes=[100,100], pin=0.5, pout=0.01, seed=0):\n",
    "    \"\"\"Generate a random connected graph\"\"\"\n",
    "    probs = np.array([[pin, pout],[pout, pin]])\n",
    "    while True:\n",
    "        g = nx.stochastic_block_model(cluster_sizes, probs)\n",
    "        if nx.algorithms.components.is_connected(g):\n",
    "            return g\n",
    "\n",
    "def metropolis_weights(Adj):\n",
    "    N = np.shape(Adj)[0]\n",
    "    degree = degrees(Adj)\n",
    "    W = np.zeros([N, N])\n",
    "    for i in range(N):\n",
    "        N_i = np.nonzero(Adj[i, :])[1]  # Fixed Neighbors\n",
    "        for j in N_i:\n",
    "            W[i, j] = 1/(1+np.max([degree[i], degree[j]]))\n",
    "        W[i, i] = 1 - np.sum(W[i, :])\n",
    "    return W\n",
    "\n",
    "\n",
    "\n",
    "G = generate_graph(cluster_sizes, pin, pout, seed)\n",
    "\n",
    "nx.draw(G, with_labels=True, node_size=100, alpha=1, linewidths=10)\n",
    "#plt.show()"
   ]
  },
  {
   "cell_type": "code",
   "execution_count": 89,
   "id": "d6355614",
   "metadata": {},
   "outputs": [],
   "source": [
    "def degrees(A):\n",
    "    \"\"\"Return the degrees of each node of a graph from its adjacency matrix\"\"\"\n",
    "    return np.sum(A, axis=0).reshape(A.shape[0], 1)\n",
    "\n",
    "def node_degree(n, G):\n",
    "    cnt = 0\n",
    "    for i in G.neighbors(n):\n",
    "        cnt += 1\n",
    "    return cnt"
   ]
  },
  {
   "cell_type": "code",
   "execution_count": 96,
   "id": "603194aa",
   "metadata": {},
   "outputs": [],
   "source": [
    "def get_neighbors(n, G):\n",
    "    neighbors_list = []\n",
    "    for i in G.neighbors(n):\n",
    "        neighbors_list.append(int(i))\n",
    "    return neighbors_list"
   ]
  },
  {
   "cell_type": "code",
   "execution_count": 97,
   "id": "5539506e",
   "metadata": {},
   "outputs": [
    {
     "data": {
      "text/plain": [
       "[5, 6, 7, 9, 12]"
      ]
     },
     "execution_count": 97,
     "metadata": {},
     "output_type": "execute_result"
    }
   ],
   "source": [
    "node_degree(2, G)\n",
    "get_neighbors(2, G)"
   ]
  },
  {
   "cell_type": "code",
   "execution_count": 81,
   "id": "c41b63dc",
   "metadata": {},
   "outputs": [
    {
     "ename": "NameError",
     "evalue": "name 'node_degrees' is not defined",
     "output_type": "error",
     "traceback": [
      "\u001b[1;31m---------------------------------------------------------------------------\u001b[0m",
      "\u001b[1;31mNameError\u001b[0m                                 Traceback (most recent call last)",
      "\u001b[1;32m<ipython-input-81-7286155c0055>\u001b[0m in \u001b[0;36m<module>\u001b[1;34m\u001b[0m\n\u001b[0;32m     13\u001b[0m         datapoints[cnt] = {\n\u001b[0;32m     14\u001b[0m                 \u001b[1;34m'features'\u001b[0m\u001b[1;33m:\u001b[0m \u001b[0mfeatures\u001b[0m\u001b[1;33m,\u001b[0m\u001b[1;33m\u001b[0m\u001b[1;33m\u001b[0m\u001b[0m\n\u001b[1;32m---> 15\u001b[1;33m                 \u001b[1;34m'degree'\u001b[0m\u001b[1;33m:\u001b[0m \u001b[0mnode_degrees\u001b[0m\u001b[1;33m[\u001b[0m\u001b[0mi\u001b[0m\u001b[1;33m]\u001b[0m\u001b[1;33m,\u001b[0m\u001b[1;33m\u001b[0m\u001b[1;33m\u001b[0m\u001b[0m\n\u001b[0m\u001b[0;32m     16\u001b[0m                 \u001b[1;34m'label'\u001b[0m\u001b[1;33m:\u001b[0m \u001b[0mlabel\u001b[0m\u001b[1;33m,\u001b[0m\u001b[1;33m\u001b[0m\u001b[1;33m\u001b[0m\u001b[0m\n\u001b[0;32m     17\u001b[0m                 \u001b[1;34m'optimizer'\u001b[0m\u001b[1;33m:\u001b[0m \u001b[0moptimizer\u001b[0m\u001b[1;33m\u001b[0m\u001b[1;33m\u001b[0m\u001b[0m\n",
      "\u001b[1;31mNameError\u001b[0m: name 'node_degrees' is not defined"
     ]
    }
   ],
   "source": [
    "datapoints = {}\n",
    "count = 0\n",
    "W1 = np.array([2, 2])\n",
    "W2 = np.array([-2, 2])\n",
    "W = [W1, W2]\n",
    "m = 10\n",
    "n = 2\n",
    "noise_sd = 0.01\n",
    "for i, cluster_size in enumerate(cluster_sizes):\n",
    "    for j in range(cluster_size):\n",
    "        features = np.random.normal(loc=0.0, scale=1.0, size=(m, n))\n",
    "        label = np.dot(features, W[i]) + np.random.normal(0,noise_sd)\n",
    "        datapoints[cnt] = {\n",
    "                'features': features,\n",
    "                'degree': node_degree(count, G),\n",
    "                'label': label,\n",
    "                'neighbors': get_neighbors(count, G)\n",
    "            }\n",
    "        count += 1"
   ]
  },
  {
   "cell_type": "code",
   "execution_count": 34,
   "id": "bc73c696",
   "metadata": {},
   "outputs": [],
   "source": [
    "# Cerate a model class taht inherits nn.Module\n",
    "class Model(nn.Module):\n",
    "    # Input layer -> Hidden Layer1 --> HL 2 --> Output\n",
    "    def __init__(self, in_features=4, h1=8, h2=9, out_features=3):\n",
    "        super().__init__\n",
    "        self.fc1 = nn.Linear(in_features, h1)\n",
    "        self.fc2 = nn.Linear(h1, h2)\n",
    "        self.out = nn.Linear(h2, out_features)\n",
    "    \n",
    "    # Forward propagatoin\n",
    "    def forward(self, x):\n",
    "        x = F.relu(self.fc1(x))\n",
    "        x = F.relu(self.fc2(x))\n",
    "        x = self.out(x)\n",
    "        \n",
    "        return x\n",
    "        "
   ]
  },
  {
   "cell_type": "code",
   "execution_count": 3,
   "id": "bbc0247d",
   "metadata": {},
   "outputs": [],
   "source": [
    "class MyDataset(Dataset):\n",
    "    def __init__(self, data, targets, transform=None):\n",
    "        self.data = torch.FloatTensor(data)\n",
    "        self.targets = torch.LongTensor(targets)\n",
    "        \n",
    "    def __getitem__(self, index):\n",
    "        x = self.data[index]\n",
    "        y = self.targets[index]\n",
    "\n",
    "        return x, y\n",
    "    \n",
    "    def __len__(self):\n",
    "        return len(self.data)\n"
   ]
  },
  {
   "cell_type": "code",
   "execution_count": 4,
   "id": "88d6f713",
   "metadata": {},
   "outputs": [],
   "source": [
    "# Initializing the seed\n",
    "torch.manual_seed(41)\n",
    "\n",
    "# Create a model\n",
    "model = Model()\n"
   ]
  },
  {
   "cell_type": "code",
   "execution_count": 5,
   "id": "ea7dade5",
   "metadata": {},
   "outputs": [],
   "source": [
    "url = 'https://gist.githubusercontent.com/curran/a08a1080b88344b0c8a7/raw/0e7a9b0a5d22642a06d3d5b9bcbad9890c8ee534/iris.csv'\n",
    "my_df = pd.read_csv(url)"
   ]
  },
  {
   "cell_type": "code",
   "execution_count": 6,
   "id": "92047514",
   "metadata": {},
   "outputs": [],
   "source": [
    "# Change the last column from strings to numbers\n",
    "my_df['species'] = my_df['species'].replace('setosa', 0.0)\n",
    "my_df['species'] = my_df['species'].replace('versicolor', 1.0)\n",
    "my_df['species'] = my_df['species'].replace('virginica', 2.0)\n"
   ]
  },
  {
   "cell_type": "code",
   "execution_count": 7,
   "id": "56f484f2",
   "metadata": {},
   "outputs": [
    {
     "data": {
      "text/plain": [
       "array([0., 1., 2.])"
      ]
     },
     "execution_count": 7,
     "metadata": {},
     "output_type": "execute_result"
    }
   ],
   "source": [
    "my_df['species'].unique()"
   ]
  },
  {
   "cell_type": "code",
   "execution_count": 8,
   "id": "2097660d",
   "metadata": {},
   "outputs": [],
   "source": [
    "# Splitting the datasets\n",
    "X = my_df.drop('species', axis=1)\n",
    "y = my_df['species']"
   ]
  },
  {
   "cell_type": "code",
   "execution_count": 9,
   "id": "474326b2",
   "metadata": {},
   "outputs": [],
   "source": [
    "# Convert to np arrays\n",
    "X = X.values\n",
    "y = y.values"
   ]
  },
  {
   "cell_type": "code",
   "execution_count": 10,
   "id": "1aed91b2",
   "metadata": {},
   "outputs": [
    {
     "name": "stdout",
     "output_type": "stream",
     "text": [
      "[0. 0. 0. 0. 0. 0. 0. 0. 0. 0. 0. 0. 0. 0. 0. 0. 0. 0. 0. 0. 0. 0. 0. 0.\n",
      " 0. 0. 0. 0. 0. 0. 0. 0. 0. 0. 0. 0. 0. 0. 0. 0. 0. 0. 0. 0. 0. 0. 0. 0.\n",
      " 0. 0. 1. 1. 1. 1. 1. 1. 1. 1. 1. 1. 1. 1. 1. 1. 1. 1. 1. 1. 1. 1. 1. 1.\n",
      " 1. 1. 1. 1. 1. 1. 1. 1. 1. 1. 1. 1. 1. 1. 1. 1. 1. 1. 1. 1. 1. 1. 1. 1.\n",
      " 1. 1. 1. 1. 2. 2. 2. 2. 2. 2. 2. 2. 2. 2. 2. 2. 2. 2. 2. 2. 2. 2. 2. 2.\n",
      " 2. 2. 2. 2. 2. 2. 2. 2. 2. 2. 2. 2. 2. 2. 2. 2. 2. 2. 2. 2. 2. 2. 2. 2.\n",
      " 2. 2. 2. 2. 2. 2.]\n"
     ]
    }
   ],
   "source": [
    "print(y)"
   ]
  },
  {
   "cell_type": "code",
   "execution_count": 11,
   "id": "6643d45b",
   "metadata": {},
   "outputs": [],
   "source": [
    "# Train Test split\n",
    "X_train, X_test, y_train, y_test = train_test_split(X, y, test_size=0.2, random_state=41)"
   ]
  },
  {
   "cell_type": "code",
   "execution_count": 12,
   "id": "28c498cb",
   "metadata": {},
   "outputs": [
    {
     "name": "stdout",
     "output_type": "stream",
     "text": [
      "[1. 1. 2. 1. 2. 0. 2. 1. 2. 1. 1. 1. 0. 2. 2. 0. 2. 1. 0. 1. 2. 1. 2. 0.\n",
      " 0. 2. 2. 0. 1. 0. 0. 1. 0. 1. 2. 0. 1. 1. 2. 0. 1. 1. 0. 2. 1. 0. 2. 2.\n",
      " 0. 1. 0. 0. 2. 2. 2. 0. 0. 0. 0. 0. 2. 2. 0. 2. 1. 0. 0. 2. 2. 2. 1. 1.\n",
      " 2. 0. 1. 2. 1. 1. 0. 1. 0. 1. 0. 1. 2. 2. 2. 0. 0. 0. 0. 2. 0. 0. 1. 2.\n",
      " 0. 2. 0. 1. 2. 1. 0. 2. 0. 1. 0. 2. 1. 1. 2. 1. 1. 2. 2. 0. 1. 1. 1. 2.]\n"
     ]
    }
   ],
   "source": [
    "print(y_train)"
   ]
  },
  {
   "cell_type": "code",
   "execution_count": 13,
   "id": "81bae526",
   "metadata": {},
   "outputs": [],
   "source": [
    "# Convert the input featres to tensors\n",
    "train_data = MyDataset(X_train, y_train)\n",
    "# Convert the labels into integers\n",
    "test_data = MyDataset(X_test, y_test)"
   ]
  },
  {
   "cell_type": "code",
   "execution_count": 14,
   "id": "50bbd74f",
   "metadata": {},
   "outputs": [],
   "source": [
    "train_dataloader = DataLoader(train_data, batch_size=64, shuffle=True)\n",
    "test_dataloader = DataLoader(test_data, batch_size=64, shuffle=True)"
   ]
  },
  {
   "cell_type": "code",
   "execution_count": 15,
   "id": "57fb3a03",
   "metadata": {},
   "outputs": [],
   "source": [
    "# Loss function definition\n",
    "criterion = nn.CrossEntropyLoss()\n",
    "\n",
    "\n",
    "# Optimizer initialization\n",
    "optimizer = torch.optim.Adam(model.parameters(), lr=0.01)"
   ]
  },
  {
   "cell_type": "code",
   "execution_count": 26,
   "id": "cd5bfdd1",
   "metadata": {},
   "outputs": [
    {
     "name": "stdout",
     "output_type": "stream",
     "text": [
      "Epoch: 0,........loss: 0.8622508645057678, ......Train_acc: 0.699999988079071        .......Testacc: 0.699999988079071\n",
      "Epoch: 10,........loss: 0.42778292298316956, ......Train_acc: 0.8416666388511658        .......Testacc: 0.8666666746139526\n",
      "Epoch: 20,........loss: 0.22265936434268951, ......Train_acc: 0.9833333492279053        .......Testacc: 0.9666666388511658\n",
      "Epoch: 30,........loss: 0.12388209253549576, ......Train_acc: 0.9833333492279053        .......Testacc: 0.9333333373069763\n",
      "Epoch: 40,........loss: 0.07129930704832077, ......Train_acc: 0.9833333492279053        .......Testacc: 0.9666666388511658\n",
      "Epoch: 50,........loss: 0.05876488238573074, ......Train_acc: 0.9833333492279053        .......Testacc: 0.9333333373069763\n",
      "Epoch: 60,........loss: 0.03339947387576103, ......Train_acc: 0.9833333492279053        .......Testacc: 0.9333333373069763\n",
      "Epoch: 70,........loss: 0.05302071198821068, ......Train_acc: 1.0        .......Testacc: 0.9333333373069763\n",
      "Epoch: 80,........loss: 0.025952249765396118, ......Train_acc: 0.9916666746139526        .......Testacc: 0.9333333373069763\n",
      "Epoch: 90,........loss: 0.04489552974700928, ......Train_acc: 0.9916666746139526        .......Testacc: 0.9333333373069763\n"
     ]
    }
   ],
   "source": [
    "# Train model\n",
    "epochs = 100\n",
    "losses = []\n",
    "\n",
    "for it in range(epochs):\n",
    "    train_acc = 0\n",
    "    test_acc = 0\n",
    "    epoch_loss = 0\n",
    "    data_points = 0\n",
    "    test_points = 0\n",
    "    for b, (X_train, y_train) in enumerate(train_dataloader):\n",
    "        \n",
    "        y_pred = model.forward(X_train) # Get predicted results\n",
    "        \n",
    "        #  Loss\n",
    "        loss = criterion(y_pred, y_train)\n",
    "        \n",
    "        # Accuracy\n",
    "        predicted = torch.max(y_pred.data, 1)[1]\n",
    "        \n",
    "        train_acc += (predicted == y_train).sum()\n",
    "        \n",
    "\n",
    "        # Detach is used to exclude the computational graph and pass only the numerical value\n",
    "        \n",
    "        epoch_loss += loss.item()\n",
    "        data_points += y_pred.size()[0]\n",
    "\n",
    "        # Back propagation\n",
    "        optimizer.zero_grad()\n",
    "        loss.backward()\n",
    "        optimizer.step()\n",
    "    \n",
    "    if it % 10 == 0:\n",
    "        with torch.no_grad():\n",
    "            for z, (X_test, y_test) in enumerate(test_dataloader):\n",
    "                \n",
    "                y_pred = model.forward(X_test)\n",
    "                \n",
    "                predicted = torch.max(y_pred.data, 1)[1]\n",
    "                \n",
    "                test_acc += (predicted == y_test).sum()\n",
    "                test_points += y_pred.size()[0]\n",
    "                \n",
    "            \n",
    "            \n",
    "        print(f'Epoch: {it},........loss: {loss.item()}, ......Train_acc: {train_acc/data_points}\\\n",
    "        .......Testacc: {test_acc/test_points}')\n",
    "    losses.append(epoch_loss/2)\n",
    "    "
   ]
  },
  {
   "cell_type": "code",
   "execution_count": null,
   "id": "24eb669e",
   "metadata": {},
   "outputs": [],
   "source": [
    "plt.plot(range(epochs), losses)\n",
    "plt.ylabel(\"loss\")\n",
    "plt.xlabel(\"Epoch\")"
   ]
  },
  {
   "cell_type": "code",
   "execution_count": null,
   "id": "d39645d9",
   "metadata": {},
   "outputs": [],
   "source": [
    "with torch.no_grad():\n",
    "    y_eval = model.forward(X_test)\n",
    "    loss = criterion(y_eval, y_test)\n",
    "    "
   ]
  },
  {
   "cell_type": "code",
   "execution_count": null,
   "id": "fccc1bca",
   "metadata": {},
   "outputs": [],
   "source": [
    "loss.detach().numpy()"
   ]
  },
  {
   "cell_type": "code",
   "execution_count": null,
   "id": "e52dafed",
   "metadata": {},
   "outputs": [],
   "source": [
    "correct = 0\n",
    "with torch.no_grad():\n",
    "    for i, data in enumerate(X_test):\n",
    "        y_val = model.forward(data)\n",
    "\n",
    "        print(f'{i + 1}.) {str(y_val)} \\t {y_test[i]}')"
   ]
  },
  {
   "cell_type": "code",
   "execution_count": null,
   "id": "4c93981d",
   "metadata": {},
   "outputs": [],
   "source": []
  }
 ],
 "metadata": {
  "kernelspec": {
   "display_name": "Python 3",
   "language": "python",
   "name": "python3"
  },
  "language_info": {
   "codemirror_mode": {
    "name": "ipython",
    "version": 3
   },
   "file_extension": ".py",
   "mimetype": "text/x-python",
   "name": "python",
   "nbconvert_exporter": "python",
   "pygments_lexer": "ipython3",
   "version": "3.8.8"
  }
 },
 "nbformat": 4,
 "nbformat_minor": 5
}
