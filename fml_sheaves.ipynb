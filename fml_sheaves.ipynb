{
 "cells": [
  {
   "cell_type": "code",
   "execution_count": 1,
   "id": "74d5d395",
   "metadata": {},
   "outputs": [],
   "source": [
    "import torch\n",
    "import torch.nn as nn\n",
    "import torch.nn.functional as F\n",
    "import torch.optim as optim\n",
    "from torchvision import datasets, transforms\n",
    "from torch.utils.data import DataLoader, Dataset\n",
    "import copy\n",
    "import numpy as np\n",
    "import matplotlib.pyplot as plt\n",
    "from tqdm import tqdm\n",
    "import networkx as nx\n",
    "from torch.nn.utils import parameters_to_vector, vector_to_parameters"
   ]
  },
  {
   "cell_type": "code",
   "execution_count": 2,
   "id": "7617ffd7",
   "metadata": {},
   "outputs": [],
   "source": [
    "# Graph implementation\n",
    "def generate_graph(cluster_sizes=[100,100], pin=0.5, pout=0.01, seed=0):\n",
    "    \"\"\"Generate a random connected graph\"\"\"\n",
    "    probs = np.array([[pin, pout],[pout, pin]])\n",
    "    while True:\n",
    "        g = nx.stochastic_block_model(cluster_sizes, probs)\n",
    "        if nx.algorithms.components.is_connected(g):\n",
    "            return g\n",
    "\n",
    "\n",
    "cluster_sizes = [10, 10]\n",
    "pin = 0.5\n",
    "pout = 0.2\n",
    "seed = 0\n",
    "alpha = 1e-2\n",
    "lamda = 1e-3\n",
    "eta = 1e-2\n",
    "no_users = sum(cluster_sizes)\n",
    "batch_size = 20\n",
    "epochs = 1\n",
    "it = 2000\n",
    "G = generate_graph(cluster_sizes, pin, pout, seed)\n",
    "\n",
    "#nx.draw(G, with_labels=True, node_size=100, alpha=1, linewidths=10)\n",
    "#plt.show()"
   ]
  },
  {
   "cell_type": "code",
   "execution_count": 3,
   "id": "809e7c6f",
   "metadata": {},
   "outputs": [
    {
     "name": "stdout",
     "output_type": "stream",
     "text": [
      "[[0.         0.         0.11111111 0.11111111 0.11111111 0.11111111\n",
      "  0.         0.11111111 0.         0.         0.         0.\n",
      "  0.         0.11111111 0.11111111 0.11111111 0.         0.\n",
      "  0.         0.        ]\n",
      " [0.         0.         0.14285714 0.         0.125      0.14285714\n",
      "  0.14285714 0.         0.         0.         0.14285714 0.\n",
      "  0.         0.         0.         0.         0.11111111 0.\n",
      "  0.         0.        ]\n",
      " [0.11111111 0.14285714 0.         0.         0.125      0.\n",
      "  0.14285714 0.         0.         0.         0.         0.1\n",
      "  0.         0.         0.         0.         0.11111111 0.\n",
      "  0.         0.        ]\n",
      " [0.11111111 0.         0.         0.         0.         0.\n",
      "  0.         0.16666667 0.         0.         0.         0.\n",
      "  0.         0.         0.         0.         0.         0.1\n",
      "  0.         0.125     ]\n",
      " [0.11111111 0.125      0.125      0.         0.         0.\n",
      "  0.125      0.         0.         0.         0.         0.1\n",
      "  0.         0.         0.125      0.         0.         0.\n",
      "  0.         0.125     ]\n",
      " [0.11111111 0.14285714 0.         0.         0.         0.\n",
      "  0.         0.         0.         0.         0.         0.\n",
      "  0.         0.         0.16666667 0.         0.         0.1\n",
      "  0.         0.125     ]\n",
      " [0.         0.14285714 0.14285714 0.         0.125      0.\n",
      "  0.         0.14285714 0.14285714 0.         0.         0.\n",
      "  0.         0.         0.         0.         0.         0.\n",
      "  0.         0.125     ]\n",
      " [0.11111111 0.         0.         0.16666667 0.         0.\n",
      "  0.14285714 0.         0.         0.         0.         0.\n",
      "  0.         0.         0.         0.         0.         0.\n",
      "  0.14285714 0.125     ]\n",
      " [0.         0.         0.         0.         0.         0.\n",
      "  0.14285714 0.         0.         0.14285714 0.         0.\n",
      "  0.         0.11111111 0.         0.         0.         0.1\n",
      "  0.14285714 0.125     ]\n",
      " [0.         0.         0.         0.         0.         0.\n",
      "  0.         0.         0.14285714 0.         0.         0.1\n",
      "  0.         0.11111111 0.         0.         0.11111111 0.1\n",
      "  0.         0.        ]\n",
      " [0.         0.14285714 0.         0.         0.         0.\n",
      "  0.         0.         0.         0.         0.         0.1\n",
      "  0.         0.11111111 0.         0.125      0.         0.1\n",
      "  0.         0.        ]\n",
      " [0.         0.         0.1        0.         0.1        0.\n",
      "  0.         0.         0.         0.1        0.1        0.\n",
      "  0.         0.1        0.         0.1        0.1        0.1\n",
      "  0.         0.1       ]\n",
      " [0.         0.         0.         0.         0.         0.\n",
      "  0.         0.         0.         0.         0.         0.\n",
      "  0.         0.         0.         0.         0.11111111 0.1\n",
      "  0.         0.        ]\n",
      " [0.11111111 0.         0.         0.         0.         0.\n",
      "  0.         0.         0.11111111 0.11111111 0.11111111 0.1\n",
      "  0.         0.         0.         0.11111111 0.         0.1\n",
      "  0.11111111 0.        ]\n",
      " [0.11111111 0.         0.         0.         0.125      0.16666667\n",
      "  0.         0.         0.         0.         0.         0.\n",
      "  0.         0.         0.         0.125      0.         0.\n",
      "  0.14285714 0.        ]\n",
      " [0.11111111 0.         0.         0.         0.         0.\n",
      "  0.         0.         0.         0.         0.125      0.1\n",
      "  0.         0.11111111 0.125      0.         0.11111111 0.\n",
      "  0.125      0.        ]\n",
      " [0.         0.11111111 0.11111111 0.         0.         0.\n",
      "  0.         0.         0.         0.11111111 0.         0.1\n",
      "  0.11111111 0.         0.         0.11111111 0.         0.1\n",
      "  0.11111111 0.        ]\n",
      " [0.         0.         0.         0.1        0.         0.1\n",
      "  0.         0.         0.1        0.1        0.1        0.1\n",
      "  0.1        0.1        0.         0.         0.1        0.\n",
      "  0.         0.        ]\n",
      " [0.         0.         0.         0.         0.         0.\n",
      "  0.         0.14285714 0.14285714 0.         0.         0.\n",
      "  0.         0.11111111 0.14285714 0.125      0.11111111 0.\n",
      "  0.         0.        ]\n",
      " [0.         0.         0.         0.125      0.125      0.125\n",
      "  0.125      0.125      0.125      0.         0.         0.1\n",
      "  0.         0.         0.         0.         0.         0.\n",
      "  0.         0.        ]]\n",
      "[[0.11111111 0.         0.11111111 0.11111111 0.11111111 0.11111111\n",
      "  0.         0.11111111 0.         0.         0.         0.\n",
      "  0.         0.11111111 0.11111111 0.11111111 0.         0.\n",
      "  0.         0.        ]\n",
      " [0.         0.19246032 0.14285714 0.         0.125      0.14285714\n",
      "  0.14285714 0.         0.         0.         0.14285714 0.\n",
      "  0.         0.         0.         0.         0.11111111 0.\n",
      "  0.         0.        ]\n",
      " [0.11111111 0.14285714 0.26706349 0.         0.125      0.\n",
      "  0.14285714 0.         0.         0.         0.         0.1\n",
      "  0.         0.         0.         0.         0.11111111 0.\n",
      "  0.         0.        ]\n",
      " [0.11111111 0.         0.         0.49722222 0.         0.\n",
      "  0.         0.16666667 0.         0.         0.         0.\n",
      "  0.         0.         0.         0.         0.         0.1\n",
      "  0.         0.125     ]\n",
      " [0.11111111 0.125      0.125      0.         0.16388889 0.\n",
      "  0.125      0.         0.         0.         0.         0.1\n",
      "  0.         0.         0.125      0.         0.         0.\n",
      "  0.         0.125     ]\n",
      " [0.11111111 0.14285714 0.         0.         0.         0.35436508\n",
      "  0.         0.         0.         0.         0.         0.\n",
      "  0.         0.         0.16666667 0.         0.         0.1\n",
      "  0.         0.125     ]\n",
      " [0.         0.14285714 0.14285714 0.         0.125      0.\n",
      "  0.17857143 0.14285714 0.14285714 0.         0.         0.\n",
      "  0.         0.         0.         0.         0.         0.\n",
      "  0.         0.125     ]\n",
      " [0.11111111 0.         0.         0.16666667 0.         0.\n",
      "  0.14285714 0.31150794 0.         0.         0.         0.\n",
      "  0.         0.         0.         0.         0.         0.\n",
      "  0.14285714 0.125     ]\n",
      " [0.         0.         0.         0.         0.         0.\n",
      "  0.14285714 0.         0.23531746 0.14285714 0.         0.\n",
      "  0.         0.11111111 0.         0.         0.         0.1\n",
      "  0.14285714 0.125     ]\n",
      " [0.         0.         0.         0.         0.         0.\n",
      "  0.         0.         0.14285714 0.43492063 0.         0.1\n",
      "  0.         0.11111111 0.         0.         0.11111111 0.1\n",
      "  0.         0.        ]\n",
      " [0.         0.14285714 0.         0.         0.         0.\n",
      "  0.         0.         0.         0.         0.42103175 0.1\n",
      "  0.         0.11111111 0.         0.125      0.         0.1\n",
      "  0.         0.        ]\n",
      " [0.         0.         0.1        0.         0.1        0.\n",
      "  0.         0.         0.         0.1        0.1        0.1\n",
      "  0.         0.1        0.         0.1        0.1        0.1\n",
      "  0.         0.1       ]\n",
      " [0.         0.         0.         0.         0.         0.\n",
      "  0.         0.         0.         0.         0.         0.\n",
      "  0.78888889 0.         0.         0.         0.11111111 0.1\n",
      "  0.         0.        ]\n",
      " [0.11111111 0.         0.         0.         0.         0.\n",
      "  0.         0.         0.11111111 0.11111111 0.11111111 0.1\n",
      "  0.         0.13333333 0.         0.11111111 0.         0.1\n",
      "  0.11111111 0.        ]\n",
      " [0.11111111 0.         0.         0.         0.125      0.16666667\n",
      "  0.         0.         0.         0.         0.         0.\n",
      "  0.         0.         0.32936508 0.125      0.         0.\n",
      "  0.14285714 0.        ]\n",
      " [0.11111111 0.         0.         0.         0.         0.\n",
      "  0.         0.         0.         0.         0.125      0.1\n",
      "  0.         0.11111111 0.125      0.19166667 0.11111111 0.\n",
      "  0.125      0.        ]\n",
      " [0.         0.11111111 0.11111111 0.         0.         0.\n",
      "  0.         0.         0.         0.11111111 0.         0.1\n",
      "  0.11111111 0.         0.         0.11111111 0.13333333 0.1\n",
      "  0.11111111 0.        ]\n",
      " [0.         0.         0.         0.1        0.         0.1\n",
      "  0.         0.         0.1        0.1        0.1        0.1\n",
      "  0.1        0.1        0.         0.         0.1        0.1\n",
      "  0.         0.        ]\n",
      " [0.         0.         0.         0.         0.         0.\n",
      "  0.         0.14285714 0.14285714 0.         0.         0.\n",
      "  0.         0.11111111 0.14285714 0.125      0.11111111 0.\n",
      "  0.22420635 0.        ]\n",
      " [0.         0.         0.         0.125      0.125      0.125\n",
      "  0.125      0.125      0.125      0.         0.         0.1\n",
      "  0.         0.         0.         0.         0.         0.\n",
      "  0.         0.15      ]]\n"
     ]
    }
   ],
   "source": [
    "# Metropolis weights \n",
    "number_nodes = G.number_of_nodes()\n",
    "weights = np.zeros([number_nodes, number_nodes])\n",
    "for edge in G.edges():\n",
    "  i, j = edge[0], edge[1]\n",
    "  weights[i - 1][j - 1] = 1 / (1 + np.max([G.degree(i), G.degree(j)]))\n",
    "  weights[j - 1][i - 1] = weights[i - 1][j - 1]\n",
    "\n",
    "print(weights)\n",
    "\n",
    "weights = weights + np.diag(1 - np.sum(weights, axis=0))\n",
    "\n",
    "metropolis_weights = weights\n",
    "print(metropolis_weights)\n"
   ]
  },
  {
   "cell_type": "code",
   "execution_count": 4,
   "id": "654ab72f",
   "metadata": {},
   "outputs": [],
   "source": [
    "def load_dataset():\n",
    "    transforms_mnist = transforms.Compose([transforms.ToTensor(), transforms.Normalize((0.1307,),(0.3081,))])\n",
    "    mnist_data_train = datasets.MNIST('./data/mnist', train=True, download=True, transform=transforms_mnist)\n",
    "    mnist_data_test = datasets.MNIST('./data/mnist', train=False, download=True, transform=transforms_mnist)\n",
    "\n",
    "    return mnist_data_train, mnist_data_test"
   ]
  },
  {
   "cell_type": "code",
   "execution_count": 5,
   "id": "26f67564",
   "metadata": {},
   "outputs": [],
   "source": [
    "def degrees(A):\n",
    "    \"\"\"Return the degrees of each node of a graph from its adjacency matrix\"\"\"\n",
    "    return np.sum(A, axis=0).reshape(A.shape[0], 1)\n",
    "\n",
    "def node_degree(n, G):\n",
    "    cnt = 0\n",
    "    for i in G.neighbors(n):\n",
    "        cnt += 1\n",
    "    return cnt\n",
    "\n",
    "def get_neighbors(n, G):\n",
    "    neighbors_list = []\n",
    "    for i in G.neighbors(n):\n",
    "        neighbors_list.append(int(i))\n",
    "    return neighbors_list"
   ]
  },
  {
   "cell_type": "code",
   "execution_count": 6,
   "id": "dbc31eff",
   "metadata": {},
   "outputs": [],
   "source": [
    "datapoints = {}\n",
    "count = 0\n",
    "W1 = np.array([2.0, 2.0])\n",
    "W2 = np.array([-2.0, 2.0])\n",
    "W = [W1, W2]\n",
    "m = 200\n",
    "n = 2\n",
    "noise_sd = 0.001\n",
    "for i, cluster_size in enumerate(cluster_sizes):\n",
    "    for j in range(cluster_size):\n",
    "        features = np.random.normal(loc=0.0, scale=1.0, size=(m, n))\n",
    "        label = np.dot(features, W[i]) + np.random.normal(0,noise_sd)\n",
    "        datapoints[count] = {\n",
    "                'features': features,\n",
    "                'degree': node_degree(count, G),\n",
    "                'label': label,\n",
    "                'neighbors': get_neighbors(count, G),\n",
    "                'exact_weights': torch.from_numpy(W[i])\n",
    "            }\n",
    "        count += 1"
   ]
  },
  {
   "cell_type": "code",
   "execution_count": 7,
   "id": "3c2530b1",
   "metadata": {},
   "outputs": [],
   "source": [
    "class MyDataset(Dataset):\n",
    "    def __init__(self, data, targets, transform=None):\n",
    "        self.data = torch.FloatTensor(data)\n",
    "        self.targets = torch.FloatTensor(targets).unsqueeze(-1)\n",
    "        \n",
    "    def __getitem__(self, index):\n",
    "        x = self.data[index]\n",
    "        y = self.targets[index]\n",
    "\n",
    "        return x, y\n",
    "    \n",
    "    def __len__(self):\n",
    "        return len(self.data)\n"
   ]
  },
  {
   "cell_type": "code",
   "execution_count": 8,
   "id": "1d84bf7c",
   "metadata": {},
   "outputs": [],
   "source": [
    "class MLP_Net(nn.Module):\n",
    "    def __init__(self, user_id):\n",
    "        super(MLP_Net, self).__init__()\n",
    "        self.fc1 = nn.Linear(2, 1, bias=False)\n",
    "        #self.fc2 = nn.Linear(4, 1, bias=False)\n",
    "        #self.fc3 = nn.Linear(200, 10)\n",
    "        self.user_id = user_id\n",
    "\n",
    "    def forward(self, x):\n",
    "        x = torch.flatten(x, 1)\n",
    "        #x = F.relu(self.fc1(x))\n",
    "        output = self.fc1(x)\n",
    "        #output = self.fc3(x)\n",
    "        return output"
   ]
  },
  {
   "cell_type": "code",
   "execution_count": 9,
   "id": "f93f4bbc",
   "metadata": {},
   "outputs": [],
   "source": [
    "from typing import Iterable, Optional\n",
    "\n",
    "def grads_to_vector(parameters: Iterable[torch.Tensor]) -> torch.Tensor:\n",
    "    r\"\"\"Convert parameters to one vector\n",
    "\n",
    "    Args:\n",
    "        parameters (Iterable[Tensor]): an iterator of Tensors that are the\n",
    "            parameters of a model.\n",
    "\n",
    "    Returns:\n",
    "        The parameters represented by a single vector\n",
    "    \"\"\"\n",
    "    # Flag for the device where the parameter is located\n",
    "    param_device = None\n",
    "\n",
    "    vec = []\n",
    "    for param in parameters:\n",
    "        # Ensure the parameters are located in the same device\n",
    "        param_device = param.grad\n",
    "\n",
    "        vec.append(param_device.view(-1))\n",
    "    return torch.cat(vec)"
   ]
  },
  {
   "cell_type": "code",
   "execution_count": 10,
   "id": "9cd3a679",
   "metadata": {},
   "outputs": [
    {
     "name": "stdout",
     "output_type": "stream",
     "text": [
      "torch.Size([50, 1])\n",
      "torch.Size([50, 1])\n",
      "0 tensor(5.5483, grad_fn=<MseLossBackward0>) tensor([ 1.5745, -3.6494]) tensor([-0.3737, -0.3390], grad_fn=<CatBackward0>)\n",
      "torch.Size([50, 1])\n",
      "torch.Size([50, 1])\n",
      "0 tensor(5.0687, grad_fn=<MseLossBackward0>) tensor([ 2.1480, -2.9002]) tensor([-0.3894, -0.3025], grad_fn=<CatBackward0>)\n",
      "torch.Size([50, 1])\n",
      "torch.Size([50, 1])\n",
      "0 tensor(11.0110, grad_fn=<MseLossBackward0>) tensor([ 5.4639, -5.8672]) tensor([-0.4109, -0.2735], grad_fn=<CatBackward0>)\n",
      "torch.Size([50, 1])\n",
      "torch.Size([50, 1])\n",
      "0 tensor(4.6273, grad_fn=<MseLossBackward0>) tensor([ 1.9390, -2.8354]) tensor([-0.4656, -0.2148], grad_fn=<CatBackward0>)\n",
      "torch.Size([50, 1])\n",
      "torch.Size([50, 1])\n",
      "1 tensor(4.8406, grad_fn=<MseLossBackward0>) tensor([ 1.4647, -3.4129]) tensor([-0.4850, -0.1865], grad_fn=<CatBackward0>)\n",
      "torch.Size([50, 1])\n",
      "torch.Size([50, 1])\n",
      "1 tensor(4.4189, grad_fn=<MseLossBackward0>) tensor([ 1.9993, -2.7123]) tensor([-0.4996, -0.1523], grad_fn=<CatBackward0>)\n",
      "torch.Size([50, 1])\n",
      "torch.Size([50, 1])\n",
      "1 tensor(9.5959, grad_fn=<MseLossBackward0>) tensor([ 5.0941, -5.4819]) tensor([-0.5196, -0.1252], grad_fn=<CatBackward0>)\n",
      "torch.Size([50, 1])\n",
      "torch.Size([50, 1])\n",
      "1 tensor(4.0346, grad_fn=<MseLossBackward0>) tensor([ 1.8037, -2.6523]) tensor([-0.5705, -0.0704], grad_fn=<CatBackward0>)\n",
      "torch.Size([50, 1])\n",
      "torch.Size([50, 1])\n",
      "2 tensor(4.2233, grad_fn=<MseLossBackward0>) tensor([ 1.3626, -3.1917]) tensor([-0.5886, -0.0439], grad_fn=<CatBackward0>)\n",
      "torch.Size([50, 1])\n",
      "torch.Size([50, 1])\n",
      "2 tensor(3.8525, grad_fn=<MseLossBackward0>) tensor([ 1.8609, -2.5366]) tensor([-0.6022, -0.0120], grad_fn=<CatBackward0>)\n",
      "torch.Size([50, 1])\n",
      "torch.Size([50, 1])\n",
      "2 tensor(8.3628, grad_fn=<MseLossBackward0>) tensor([ 4.7495, -5.1218]) tensor([-0.6208,  0.0134], grad_fn=<CatBackward0>)\n",
      "torch.Size([50, 1])\n",
      "torch.Size([50, 1])\n",
      "2 tensor(3.5178, grad_fn=<MseLossBackward0>) tensor([ 1.6779, -2.4811]) tensor([-0.6683,  0.0646], grad_fn=<CatBackward0>)\n",
      "torch.Size([50, 1])\n",
      "torch.Size([50, 1])\n",
      "3 tensor(3.6847, grad_fn=<MseLossBackward0>) tensor([ 1.2676, -2.9848]) tensor([-0.6851,  0.0894], grad_fn=<CatBackward0>)\n",
      "torch.Size([50, 1])\n",
      "torch.Size([50, 1])\n",
      "3 tensor(3.3587, grad_fn=<MseLossBackward0>) tensor([ 1.7321, -2.3722]) tensor([-0.6978,  0.1193], grad_fn=<CatBackward0>)\n",
      "torch.Size([50, 1])\n",
      "torch.Size([50, 1])\n",
      "3 tensor(7.2882, grad_fn=<MseLossBackward0>) tensor([ 4.4281, -4.7854]) tensor([-0.7151,  0.1430], grad_fn=<CatBackward0>)\n",
      "torch.Size([50, 1])\n",
      "torch.Size([50, 1])\n",
      "3 tensor(3.0673, grad_fn=<MseLossBackward0>) tensor([ 1.5609, -2.3208]) tensor([-0.7594,  0.1909], grad_fn=<CatBackward0>)\n",
      "torch.Size([50, 1])\n",
      "torch.Size([50, 1])\n",
      "4 tensor(3.2148, grad_fn=<MseLossBackward0>) tensor([ 1.1793, -2.7912]) tensor([-0.7750,  0.2141], grad_fn=<CatBackward0>)\n",
      "torch.Size([50, 1])\n",
      "torch.Size([50, 1])\n",
      "4 tensor(2.9282, grad_fn=<MseLossBackward0>) tensor([ 1.6123, -2.2184]) tensor([-0.7868,  0.2420], grad_fn=<CatBackward0>)\n",
      "torch.Size([50, 1])\n",
      "torch.Size([50, 1])\n",
      "4 tensor(6.3518, grad_fn=<MseLossBackward0>) tensor([ 4.1286, -4.4710]) tensor([-0.8029,  0.2642], grad_fn=<CatBackward0>)\n",
      "torch.Size([50, 1])\n",
      "torch.Size([50, 1])\n",
      "4 tensor(2.6745, grad_fn=<MseLossBackward0>) tensor([ 1.4521, -2.1708]) tensor([-0.8442,  0.3089], grad_fn=<CatBackward0>)\n",
      "torch.Size([50, 1])\n",
      "torch.Size([50, 1])\n",
      "5 tensor(2.8048, grad_fn=<MseLossBackward0>) tensor([ 1.0971, -2.6102]) tensor([-0.8587,  0.3306], grad_fn=<CatBackward0>)\n",
      "torch.Size([50, 1])\n",
      "torch.Size([50, 1])\n",
      "5 tensor(2.5529, grad_fn=<MseLossBackward0>) tensor([ 1.5008, -2.0746]) tensor([-0.8697,  0.3567], grad_fn=<CatBackward0>)\n",
      "torch.Size([50, 1])\n",
      "torch.Size([50, 1])\n",
      "5 tensor(5.5357, grad_fn=<MseLossBackward0>) tensor([ 3.8494, -4.1773]) tensor([-0.8847,  0.3774], grad_fn=<CatBackward0>)\n",
      "torch.Size([50, 1])\n",
      "torch.Size([50, 1])\n",
      "5 tensor(2.3320, grad_fn=<MseLossBackward0>) tensor([ 1.3509, -2.0305]) tensor([-0.9232,  0.4192], grad_fn=<CatBackward0>)\n",
      "torch.Size([50, 1])\n",
      "torch.Size([50, 1])\n",
      "6 tensor(2.4471, grad_fn=<MseLossBackward0>) tensor([ 1.0207, -2.4408]) tensor([-0.9367,  0.4395], grad_fn=<CatBackward0>)\n",
      "torch.Size([50, 1])\n",
      "torch.Size([50, 1])\n",
      "6 tensor(2.2258, grad_fn=<MseLossBackward0>) tensor([ 1.3971, -1.9401]) tensor([-0.9469,  0.4639], grad_fn=<CatBackward0>)\n",
      "torch.Size([50, 1])\n",
      "torch.Size([50, 1])\n",
      "6 tensor(4.8246, grad_fn=<MseLossBackward0>) tensor([ 3.5892, -3.9029]) tensor([-0.9608,  0.4833], grad_fn=<CatBackward0>)\n",
      "torch.Size([50, 1])\n",
      "torch.Size([50, 1])\n",
      "6 tensor(2.0334, grad_fn=<MseLossBackward0>) tensor([ 1.2568, -1.8992]) tensor([-0.9967,  0.5224], grad_fn=<CatBackward0>)\n",
      "torch.Size([50, 1])\n",
      "torch.Size([50, 1])\n",
      "7 tensor(2.1351, grad_fn=<MseLossBackward0>) tensor([ 0.9497, -2.2825]) tensor([-1.0093,  0.5413], grad_fn=<CatBackward0>)\n",
      "torch.Size([50, 1])\n",
      "torch.Size([50, 1])\n",
      "7 tensor(1.9406, grad_fn=<MseLossBackward0>) tensor([ 1.3006, -1.8142]) tensor([-1.0188,  0.5642], grad_fn=<CatBackward0>)\n",
      "torch.Size([50, 1])\n",
      "torch.Size([50, 1])\n",
      "7 tensor(4.2049, grad_fn=<MseLossBackward0>) tensor([ 3.3465, -3.6465]) tensor([-1.0318,  0.5823], grad_fn=<CatBackward0>)\n",
      "torch.Size([50, 1])\n",
      "torch.Size([50, 1])\n",
      "7 tensor(1.7731, grad_fn=<MseLossBackward0>) tensor([ 1.1692, -1.7764]) tensor([-1.0653,  0.6188], grad_fn=<CatBackward0>)\n",
      "torch.Size([50, 1])\n",
      "torch.Size([50, 1])\n",
      "8 tensor(1.8628, grad_fn=<MseLossBackward0>) tensor([ 0.8836, -2.1343]) tensor([-1.0770,  0.6365], grad_fn=<CatBackward0>)\n",
      "torch.Size([50, 1])\n",
      "torch.Size([50, 1])\n",
      "8 tensor(1.6920, grad_fn=<MseLossBackward0>) tensor([ 1.2107, -1.6966]) tensor([-1.0858,  0.6579], grad_fn=<CatBackward0>)\n",
      "torch.Size([50, 1])\n",
      "torch.Size([50, 1])\n",
      "8 tensor(3.6648, grad_fn=<MseLossBackward0>) tensor([ 3.1203, -3.4069]) tensor([-1.0979,  0.6748], grad_fn=<CatBackward0>)\n",
      "torch.Size([50, 1])\n",
      "torch.Size([50, 1])\n",
      "8 tensor(1.5461, grad_fn=<MseLossBackward0>) tensor([ 1.0878, -1.6615]) tensor([-1.1291,  0.7089], grad_fn=<CatBackward0>)\n",
      "torch.Size([50, 1])\n",
      "torch.Size([50, 1])\n",
      "9 tensor(1.6253, grad_fn=<MseLossBackward0>) tensor([ 0.8221, -1.9958]) tensor([-1.1400,  0.7255], grad_fn=<CatBackward0>)\n",
      "torch.Size([50, 1])\n",
      "torch.Size([50, 1])\n",
      "9 tensor(1.4752, grad_fn=<MseLossBackward0>) tensor([ 1.1271, -1.5865]) tensor([-1.1482,  0.7455], grad_fn=<CatBackward0>)\n",
      "torch.Size([50, 1])\n",
      "torch.Size([50, 1])\n",
      "9 tensor(3.1941, grad_fn=<MseLossBackward0>) tensor([ 2.9095, -3.1830]) tensor([-1.1595,  0.7614], grad_fn=<CatBackward0>)\n",
      "torch.Size([50, 1])\n",
      "torch.Size([50, 1])\n",
      "9 tensor(1.3482, grad_fn=<MseLossBackward0>) tensor([ 1.0121, -1.5540]) tensor([-1.1886,  0.7932], grad_fn=<CatBackward0>)\n",
      "torch.Size([50, 1])\n",
      "torch.Size([50, 1])\n",
      "10 tensor(1.4181, grad_fn=<MseLossBackward0>) tensor([ 0.7649, -1.8662]) tensor([-1.1987,  0.8087], grad_fn=<CatBackward0>)\n",
      "torch.Size([50, 1])\n",
      "torch.Size([50, 1])\n",
      "10 tensor(1.2862, grad_fn=<MseLossBackward0>) tensor([ 1.0493, -1.4835]) tensor([-1.2064,  0.8274], grad_fn=<CatBackward0>)\n",
      "torch.Size([50, 1])\n",
      "torch.Size([50, 1])\n",
      "10 tensor(2.7839, grad_fn=<MseLossBackward0>) tensor([ 2.7129, -2.9739]) tensor([-1.2168,  0.8422], grad_fn=<CatBackward0>)\n",
      "torch.Size([50, 1])\n",
      "torch.Size([50, 1])\n",
      "10 tensor(1.1756, grad_fn=<MseLossBackward0>) tensor([ 0.9417, -1.4535]) tensor([-1.2440,  0.8720], grad_fn=<CatBackward0>)\n",
      "torch.Size([50, 1])\n",
      "torch.Size([50, 1])\n",
      "11 tensor(1.2372, grad_fn=<MseLossBackward0>) tensor([ 0.7117, -1.7451]) tensor([-1.2534,  0.8865], grad_fn=<CatBackward0>)\n",
      "torch.Size([50, 1])\n",
      "torch.Size([50, 1])\n",
      "11 tensor(1.1215, grad_fn=<MseLossBackward0>) tensor([ 0.9769, -1.3872]) tensor([-1.2605,  0.9039], grad_fn=<CatBackward0>)\n",
      "torch.Size([50, 1])\n",
      "torch.Size([50, 1])\n",
      "11 tensor(2.4264, grad_fn=<MseLossBackward0>) tensor([ 2.5297, -2.7785]) tensor([-1.2703,  0.9178], grad_fn=<CatBackward0>)\n",
      "torch.Size([50, 1])\n",
      "torch.Size([50, 1])\n",
      "11 tensor(1.0251, grad_fn=<MseLossBackward0>) tensor([ 0.8762, -1.3594]) tensor([-1.2956,  0.9456], grad_fn=<CatBackward0>)\n",
      "torch.Size([50, 1])\n",
      "torch.Size([50, 1])\n",
      "12 tensor(1.0795, grad_fn=<MseLossBackward0>) tensor([ 0.6623, -1.6317]) tensor([-1.3043,  0.9592], grad_fn=<CatBackward0>)\n",
      "torch.Size([50, 1])\n",
      "torch.Size([50, 1])\n",
      "12 tensor(0.9778, grad_fn=<MseLossBackward0>) tensor([ 0.9094, -1.2972]) tensor([-1.3110,  0.9755], grad_fn=<CatBackward0>)\n",
      "torch.Size([50, 1])\n",
      "torch.Size([50, 1])\n",
      "12 tensor(2.1149, grad_fn=<MseLossBackward0>) tensor([ 2.3588, -2.5959]) tensor([-1.3201,  0.9885], grad_fn=<CatBackward0>)\n",
      "torch.Size([50, 1])\n",
      "torch.Size([50, 1])\n",
      "12 tensor(0.8939, grad_fn=<MseLossBackward0>) tensor([ 0.8153, -1.2714]) tensor([-1.3436,  1.0144], grad_fn=<CatBackward0>)\n",
      "torch.Size([50, 1])\n",
      "torch.Size([50, 1])\n",
      "13 tensor(0.9419, grad_fn=<MseLossBackward0>) tensor([ 0.6163, -1.5257]) tensor([-1.3518,  1.0272], grad_fn=<CatBackward0>)\n",
      "torch.Size([50, 1])\n",
      "torch.Size([50, 1])\n",
      "13 tensor(0.8526, grad_fn=<MseLossBackward0>) tensor([ 0.8467, -1.2129]) tensor([-1.3580,  1.0424], grad_fn=<CatBackward0>)\n",
      "torch.Size([50, 1])\n",
      "torch.Size([50, 1])\n",
      "13 tensor(1.8433, grad_fn=<MseLossBackward0>) tensor([ 2.1995, -2.4253]) tensor([-1.3664,  1.0545], grad_fn=<CatBackward0>)\n",
      "torch.Size([50, 1])\n",
      "torch.Size([50, 1])\n",
      "13 tensor(0.7795, grad_fn=<MseLossBackward0>) tensor([ 0.7586, -1.1890]) tensor([-1.3884,  1.0788], grad_fn=<CatBackward0>)\n",
      "torch.Size([50, 1])\n",
      "torch.Size([50, 1])\n",
      "14 tensor(0.8218, grad_fn=<MseLossBackward0>) tensor([ 0.5735, -1.4266]) tensor([-1.3960,  1.0907], grad_fn=<CatBackward0>)\n",
      "torch.Size([50, 1])\n",
      "torch.Size([50, 1])\n",
      "14 tensor(0.7434, grad_fn=<MseLossBackward0>) tensor([ 0.7883, -1.1342]) tensor([-1.4017,  1.1050], grad_fn=<CatBackward0>)\n",
      "torch.Size([50, 1])\n",
      "torch.Size([50, 1])\n",
      "14 tensor(1.6067, grad_fn=<MseLossBackward0>) tensor([ 2.0510, -2.2659]) tensor([-1.4096,  1.1163], grad_fn=<CatBackward0>)\n"
     ]
    },
    {
     "name": "stdout",
     "output_type": "stream",
     "text": [
      "torch.Size([50, 1])\n",
      "torch.Size([50, 1])\n",
      "14 tensor(0.6797, grad_fn=<MseLossBackward0>) tensor([ 0.7059, -1.1120]) tensor([-1.4301,  1.1390], grad_fn=<CatBackward0>)\n",
      "torch.Size([50, 1])\n",
      "torch.Size([50, 1])\n",
      "15 tensor(0.7170, grad_fn=<MseLossBackward0>) tensor([ 0.5336, -1.3339]) tensor([-1.4372,  1.1501], grad_fn=<CatBackward0>)\n",
      "torch.Size([50, 1])\n",
      "torch.Size([50, 1])\n",
      "15 tensor(0.6482, grad_fn=<MseLossBackward0>) tensor([ 0.7340, -1.0605]) tensor([-1.4425,  1.1634], grad_fn=<CatBackward0>)\n",
      "torch.Size([50, 1])\n",
      "torch.Size([50, 1])\n",
      "15 tensor(1.4004, grad_fn=<MseLossBackward0>) tensor([ 1.9126, -2.1170]) tensor([-1.4499,  1.1740], grad_fn=<CatBackward0>)\n",
      "torch.Size([50, 1])\n",
      "torch.Size([50, 1])\n",
      "15 tensor(0.5928, grad_fn=<MseLossBackward0>) tensor([ 0.6568, -1.0400]) tensor([-1.4690,  1.1952], grad_fn=<CatBackward0>)\n",
      "torch.Size([50, 1])\n",
      "torch.Size([50, 1])\n",
      "16 tensor(0.6256, grad_fn=<MseLossBackward0>) tensor([ 0.4966, -1.2472]) tensor([-1.4756,  1.2056], grad_fn=<CatBackward0>)\n",
      "torch.Size([50, 1])\n",
      "torch.Size([50, 1])\n",
      "16 tensor(0.5652, grad_fn=<MseLossBackward0>) tensor([ 0.6834, -0.9916]) tensor([-1.4805,  1.2181], grad_fn=<CatBackward0>)\n",
      "torch.Size([50, 1])\n",
      "torch.Size([50, 1])\n",
      "16 tensor(1.2207, grad_fn=<MseLossBackward0>) tensor([ 1.7835, -1.9779]) tensor([-1.4874,  1.2280], grad_fn=<CatBackward0>)\n",
      "torch.Size([50, 1])\n",
      "torch.Size([50, 1])\n",
      "16 tensor(0.5169, grad_fn=<MseLossBackward0>) tensor([ 0.6112, -0.9726]) tensor([-1.5052,  1.2478], grad_fn=<CatBackward0>)\n",
      "torch.Size([50, 1])\n",
      "torch.Size([50, 1])\n",
      "17 tensor(0.5459, grad_fn=<MseLossBackward0>) tensor([ 0.4621, -1.1662]) tensor([-1.5113,  1.2575], grad_fn=<CatBackward0>)\n",
      "torch.Size([50, 1])\n",
      "torch.Size([50, 1])\n",
      "17 tensor(0.4929, grad_fn=<MseLossBackward0>) tensor([ 0.6363, -0.9272]) tensor([-1.5159,  1.2691], grad_fn=<CatBackward0>)\n",
      "torch.Size([50, 1])\n",
      "torch.Size([50, 1])\n",
      "17 tensor(1.0640, grad_fn=<MseLossBackward0>) tensor([ 1.6632, -1.8479]) tensor([-1.5223,  1.2784], grad_fn=<CatBackward0>)\n",
      "torch.Size([50, 1])\n",
      "torch.Size([50, 1])\n",
      "17 tensor(0.4508, grad_fn=<MseLossBackward0>) tensor([ 0.5688, -0.9095]) tensor([-1.5389,  1.2969], grad_fn=<CatBackward0>)\n",
      "torch.Size([50, 1])\n",
      "torch.Size([50, 1])\n",
      "18 tensor(0.4763, grad_fn=<MseLossBackward0>) tensor([ 0.4301, -1.0904]) tensor([-1.5446,  1.3060], grad_fn=<CatBackward0>)\n",
      "torch.Size([50, 1])\n",
      "torch.Size([50, 1])\n",
      "18 tensor(0.4298, grad_fn=<MseLossBackward0>) tensor([ 0.5925, -0.8669]) tensor([-1.5489,  1.3169], grad_fn=<CatBackward0>)\n",
      "torch.Size([50, 1])\n",
      "torch.Size([50, 1])\n",
      "18 tensor(0.9274, grad_fn=<MseLossBackward0>) tensor([ 1.5510, -1.7264]) tensor([-1.5548,  1.3256], grad_fn=<CatBackward0>)\n",
      "torch.Size([50, 1])\n",
      "torch.Size([50, 1])\n",
      "18 tensor(0.3931, grad_fn=<MseLossBackward0>) tensor([ 0.5293, -0.8506]) tensor([-1.5703,  1.3428], grad_fn=<CatBackward0>)\n",
      "torch.Size([50, 1])\n",
      "torch.Size([50, 1])\n",
      "19 tensor(0.4156, grad_fn=<MseLossBackward0>) tensor([ 0.4002, -1.0195]) tensor([-1.5756,  1.3513], grad_fn=<CatBackward0>)\n",
      "torch.Size([50, 1])\n",
      "torch.Size([50, 1])\n",
      "19 tensor(0.3747, grad_fn=<MseLossBackward0>) tensor([ 0.5517, -0.8106]) tensor([-1.5796,  1.3615], grad_fn=<CatBackward0>)\n",
      "torch.Size([50, 1])\n",
      "torch.Size([50, 1])\n",
      "19 tensor(0.8084, grad_fn=<MseLossBackward0>) tensor([ 1.4463, -1.6129]) tensor([-1.5852,  1.3696], grad_fn=<CatBackward0>)\n",
      "torch.Size([50, 1])\n",
      "torch.Size([50, 1])\n",
      "19 tensor(0.3428, grad_fn=<MseLossBackward0>) tensor([ 0.4926, -0.7954]) tensor([-1.5996,  1.3858], grad_fn=<CatBackward0>)\n",
      "torch.Size([50, 1])\n",
      "torch.Size([50, 1])\n",
      "20 tensor(0.3626, grad_fn=<MseLossBackward0>) tensor([ 0.3725, -0.9532]) tensor([-1.6045,  1.3937], grad_fn=<CatBackward0>)\n",
      "torch.Size([50, 1])\n",
      "torch.Size([50, 1])\n",
      "20 tensor(0.3268, grad_fn=<MseLossBackward0>) tensor([ 0.5137, -0.7579]) tensor([-1.6083,  1.4032], grad_fn=<CatBackward0>)\n",
      "torch.Size([50, 1])\n",
      "torch.Size([50, 1])\n",
      "20 tensor(0.7047, grad_fn=<MseLossBackward0>) tensor([ 1.3488, -1.5069]) tensor([-1.6134,  1.4108], grad_fn=<CatBackward0>)\n",
      "torch.Size([50, 1])\n",
      "torch.Size([50, 1])\n",
      "20 tensor(0.2989, grad_fn=<MseLossBackward0>) tensor([ 0.4584, -0.7438]) tensor([-1.6269,  1.4259], grad_fn=<CatBackward0>)\n",
      "torch.Size([50, 1])\n",
      "torch.Size([50, 1])\n",
      "21 tensor(0.3164, grad_fn=<MseLossBackward0>) tensor([ 0.3467, -0.8912]) tensor([-1.6315,  1.4333], grad_fn=<CatBackward0>)\n",
      "torch.Size([50, 1])\n",
      "torch.Size([50, 1])\n",
      "21 tensor(0.2849, grad_fn=<MseLossBackward0>) tensor([ 0.4784, -0.7086]) tensor([-1.6349,  1.4422], grad_fn=<CatBackward0>)\n",
      "torch.Size([50, 1])\n",
      "torch.Size([50, 1])\n",
      "21 tensor(0.6142, grad_fn=<MseLossBackward0>) tensor([ 1.2578, -1.4079]) tensor([-1.6397,  1.4493], grad_fn=<CatBackward0>)\n",
      "torch.Size([50, 1])\n",
      "torch.Size([50, 1])\n",
      "21 tensor(0.2607, grad_fn=<MseLossBackward0>) tensor([ 0.4266, -0.6955]) tensor([-1.6523,  1.4634], grad_fn=<CatBackward0>)\n",
      "torch.Size([50, 1])\n",
      "torch.Size([50, 1])\n",
      "22 tensor(0.2760, grad_fn=<MseLossBackward0>) tensor([ 0.3226, -0.8332]) tensor([-1.6566,  1.4704], grad_fn=<CatBackward0>)\n",
      "torch.Size([50, 1])\n",
      "torch.Size([50, 1])\n",
      "22 tensor(0.2485, grad_fn=<MseLossBackward0>) tensor([ 0.4455, -0.6625]) tensor([-1.6598,  1.4787], grad_fn=<CatBackward0>)\n",
      "torch.Size([50, 1])\n",
      "torch.Size([50, 1])\n",
      "22 tensor(0.5354, grad_fn=<MseLossBackward0>) tensor([ 1.1730, -1.3153]) tensor([-1.6643,  1.4853], grad_fn=<CatBackward0>)\n",
      "torch.Size([50, 1])\n",
      "torch.Size([50, 1])\n",
      "22 tensor(0.2273, grad_fn=<MseLossBackward0>) tensor([ 0.3971, -0.6504]) tensor([-1.6760,  1.4985], grad_fn=<CatBackward0>)\n",
      "torch.Size([50, 1])\n",
      "torch.Size([50, 1])\n",
      "23 tensor(0.2409, grad_fn=<MseLossBackward0>) tensor([ 0.3003, -0.7790]) tensor([-1.6800,  1.5050], grad_fn=<CatBackward0>)\n",
      "torch.Size([50, 1])\n",
      "torch.Size([50, 1])\n",
      "23 tensor(0.2167, grad_fn=<MseLossBackward0>) tensor([ 0.4148, -0.6194]) tensor([-1.6830,  1.5128], grad_fn=<CatBackward0>)\n",
      "torch.Size([50, 1])\n",
      "torch.Size([50, 1])\n",
      "23 tensor(0.4667, grad_fn=<MseLossBackward0>) tensor([ 1.0940, -1.2288]) tensor([-1.6871,  1.5190], grad_fn=<CatBackward0>)\n",
      "torch.Size([50, 1])\n",
      "torch.Size([50, 1])\n",
      "23 tensor(0.1983, grad_fn=<MseLossBackward0>) tensor([ 0.3696, -0.6082]) tensor([-1.6980,  1.5313], grad_fn=<CatBackward0>)\n",
      "torch.Size([50, 1])\n",
      "torch.Size([50, 1])\n",
      "24 tensor(0.2102, grad_fn=<MseLossBackward0>) tensor([ 0.2795, -0.7283]) tensor([-1.7017,  1.5373], grad_fn=<CatBackward0>)\n",
      "torch.Size([50, 1])\n",
      "torch.Size([50, 1])\n",
      "24 tensor(0.1889, grad_fn=<MseLossBackward0>) tensor([ 0.3863, -0.5791]) tensor([-1.7045,  1.5446], grad_fn=<CatBackward0>)\n",
      "torch.Size([50, 1])\n",
      "torch.Size([50, 1])\n",
      "24 tensor(0.4068, grad_fn=<MseLossBackward0>) tensor([ 1.0202, -1.1481]) tensor([-1.7084,  1.5504], grad_fn=<CatBackward0>)\n",
      "torch.Size([50, 1])\n",
      "torch.Size([50, 1])\n",
      "24 tensor(0.1729, grad_fn=<MseLossBackward0>) tensor([ 0.3440, -0.5687]) tensor([-1.7186,  1.5619], grad_fn=<CatBackward0>)\n",
      "torch.Size([50, 1])\n",
      "torch.Size([50, 1])\n",
      "25 tensor(0.1834, grad_fn=<MseLossBackward0>) tensor([ 0.2601, -0.6809]) tensor([-1.7220,  1.5676], grad_fn=<CatBackward0>)\n",
      "torch.Size([50, 1])\n",
      "torch.Size([50, 1])\n",
      "25 tensor(0.1648, grad_fn=<MseLossBackward0>) tensor([ 0.3597, -0.5414]) tensor([-1.7246,  1.5744], grad_fn=<CatBackward0>)\n",
      "torch.Size([50, 1])\n",
      "torch.Size([50, 1])\n",
      "25 tensor(0.3547, grad_fn=<MseLossBackward0>) tensor([ 0.9515, -1.0726]) tensor([-1.7282,  1.5798], grad_fn=<CatBackward0>)\n",
      "torch.Size([50, 1])\n",
      "torch.Size([50, 1])\n",
      "25 tensor(0.1508, grad_fn=<MseLossBackward0>) tensor([ 0.3201, -0.5318]) tensor([-1.7378,  1.5905], grad_fn=<CatBackward0>)\n",
      "torch.Size([50, 1])\n",
      "torch.Size([50, 1])\n",
      "26 tensor(0.1600, grad_fn=<MseLossBackward0>) tensor([ 0.2421, -0.6366]) tensor([-1.7410,  1.5958], grad_fn=<CatBackward0>)\n",
      "torch.Size([50, 1])\n",
      "torch.Size([50, 1])\n",
      "26 tensor(0.1437, grad_fn=<MseLossBackward0>) tensor([ 0.3350, -0.5062]) tensor([-1.7434,  1.6022], grad_fn=<CatBackward0>)\n",
      "torch.Size([50, 1])\n",
      "torch.Size([50, 1])\n",
      "26 tensor(0.3092, grad_fn=<MseLossBackward0>) tensor([ 0.8874, -1.0021]) tensor([-1.7467,  1.6073], grad_fn=<CatBackward0>)\n",
      "torch.Size([50, 1])\n",
      "torch.Size([50, 1])\n",
      "26 tensor(0.1315, grad_fn=<MseLossBackward0>) tensor([ 0.2980, -0.4972]) tensor([-1.7556,  1.6173], grad_fn=<CatBackward0>)\n",
      "torch.Size([50, 1])\n",
      "torch.Size([50, 1])\n",
      "27 tensor(0.1396, grad_fn=<MseLossBackward0>) tensor([ 0.2254, -0.5952]) tensor([-1.7586,  1.6223], grad_fn=<CatBackward0>)\n",
      "torch.Size([50, 1])\n",
      "torch.Size([50, 1])\n"
     ]
    },
    {
     "name": "stdout",
     "output_type": "stream",
     "text": [
      "27 tensor(0.1253, grad_fn=<MseLossBackward0>) tensor([ 0.3120, -0.4733]) tensor([-1.7608,  1.6282], grad_fn=<CatBackward0>)\n",
      "torch.Size([50, 1])\n",
      "torch.Size([50, 1])\n",
      "27 tensor(0.2695, grad_fn=<MseLossBackward0>) tensor([ 0.8276, -0.9362]) tensor([-1.7640,  1.6329], grad_fn=<CatBackward0>)\n",
      "torch.Size([50, 1])\n",
      "torch.Size([50, 1])\n",
      "27 tensor(0.1147, grad_fn=<MseLossBackward0>) tensor([ 0.2774, -0.4649]) tensor([-1.7722,  1.6423], grad_fn=<CatBackward0>)\n",
      "torch.Size([50, 1])\n",
      "torch.Size([50, 1])\n",
      "28 tensor(0.1218, grad_fn=<MseLossBackward0>) tensor([ 0.2098, -0.5564]) tensor([-1.7750,  1.6470], grad_fn=<CatBackward0>)\n",
      "torch.Size([50, 1])\n",
      "torch.Size([50, 1])\n",
      "28 tensor(0.1093, grad_fn=<MseLossBackward0>) tensor([ 0.2906, -0.4425]) tensor([-1.7771,  1.6525], grad_fn=<CatBackward0>)\n",
      "torch.Size([50, 1])\n",
      "torch.Size([50, 1])\n",
      "28 tensor(0.2349, grad_fn=<MseLossBackward0>) tensor([ 0.7718, -0.8746]) tensor([-1.7800,  1.6569], grad_fn=<CatBackward0>)\n",
      "torch.Size([50, 1])\n",
      "torch.Size([50, 1])\n",
      "28 tensor(0.1000, grad_fn=<MseLossBackward0>) tensor([ 0.2582, -0.4347]) tensor([-1.7877,  1.6657], grad_fn=<CatBackward0>)\n",
      "torch.Size([50, 1])\n",
      "torch.Size([50, 1])\n",
      "29 tensor(0.1063, grad_fn=<MseLossBackward0>) tensor([ 0.1953, -0.5202]) tensor([-1.7903,  1.6700], grad_fn=<CatBackward0>)\n",
      "torch.Size([50, 1])\n",
      "torch.Size([50, 1])\n",
      "29 tensor(0.0953, grad_fn=<MseLossBackward0>) tensor([ 0.2706, -0.4136]) tensor([-1.7923,  1.6752], grad_fn=<CatBackward0>)\n",
      "torch.Size([50, 1])\n",
      "torch.Size([50, 1])\n",
      "29 tensor(0.2048, grad_fn=<MseLossBackward0>) tensor([ 0.7199, -0.8171]) tensor([-1.7950,  1.6794], grad_fn=<CatBackward0>)\n",
      "torch.Size([50, 1])\n",
      "torch.Size([50, 1])\n",
      "29 tensor(0.0872, grad_fn=<MseLossBackward0>) tensor([ 0.2403, -0.4065]) tensor([-1.8022,  1.6876], grad_fn=<CatBackward0>)\n",
      "torch.Size([50, 1])\n",
      "torch.Size([50, 1])\n",
      "30 tensor(0.0927, grad_fn=<MseLossBackward0>) tensor([ 0.1818, -0.4863]) tensor([-1.8046,  1.6916], grad_fn=<CatBackward0>)\n",
      "torch.Size([50, 1])\n",
      "torch.Size([50, 1])\n",
      "30 tensor(0.0831, grad_fn=<MseLossBackward0>) tensor([ 0.2521, -0.3867]) tensor([-1.8064,  1.6965], grad_fn=<CatBackward0>)\n",
      "torch.Size([50, 1])\n",
      "torch.Size([50, 1])\n",
      "30 tensor(0.1785, grad_fn=<MseLossBackward0>) tensor([ 0.6714, -0.7634]) tensor([-1.8089,  1.7003], grad_fn=<CatBackward0>)\n",
      "torch.Size([50, 1])\n",
      "torch.Size([50, 1])\n",
      "30 tensor(0.0761, grad_fn=<MseLossBackward0>) tensor([ 0.2237, -0.3800]) tensor([-1.8156,  1.7080], grad_fn=<CatBackward0>)\n",
      "torch.Size([50, 1])\n",
      "torch.Size([50, 1])\n",
      "31 tensor(0.0809, grad_fn=<MseLossBackward0>) tensor([ 0.1692, -0.4546]) tensor([-1.8179,  1.7118], grad_fn=<CatBackward0>)\n",
      "torch.Size([50, 1])\n",
      "torch.Size([50, 1])\n",
      "31 tensor(0.0725, grad_fn=<MseLossBackward0>) tensor([ 0.2348, -0.3615]) tensor([-1.8196,  1.7163], grad_fn=<CatBackward0>)\n",
      "torch.Size([50, 1])\n",
      "torch.Size([50, 1])\n",
      "31 tensor(0.1556, grad_fn=<MseLossBackward0>) tensor([ 0.6262, -0.7132]) tensor([-1.8219,  1.7199], grad_fn=<CatBackward0>)\n",
      "torch.Size([50, 1])\n",
      "torch.Size([50, 1])\n",
      "31 tensor(0.0663, grad_fn=<MseLossBackward0>) tensor([ 0.2082, -0.3553]) tensor([-1.8282,  1.7271], grad_fn=<CatBackward0>)\n",
      "torch.Size([50, 1])\n",
      "torch.Size([50, 1])\n",
      "32 tensor(0.0706, grad_fn=<MseLossBackward0>) tensor([ 0.1575, -0.4250]) tensor([-1.8302,  1.7306], grad_fn=<CatBackward0>)\n",
      "torch.Size([50, 1])\n",
      "torch.Size([50, 1])\n",
      "32 tensor(0.0632, grad_fn=<MseLossBackward0>) tensor([ 0.2187, -0.3380]) tensor([-1.8318,  1.7349], grad_fn=<CatBackward0>)\n",
      "torch.Size([50, 1])\n",
      "torch.Size([50, 1])\n",
      "32 tensor(0.1357, grad_fn=<MseLossBackward0>) tensor([ 0.5840, -0.6663]) tensor([-1.8340,  1.7383], grad_fn=<CatBackward0>)\n",
      "torch.Size([50, 1])\n",
      "torch.Size([50, 1])\n",
      "32 tensor(0.0579, grad_fn=<MseLossBackward0>) tensor([ 0.1939, -0.3322]) tensor([-1.8398,  1.7449], grad_fn=<CatBackward0>)\n",
      "torch.Size([50, 1])\n",
      "torch.Size([50, 1])\n",
      "33 tensor(0.0616, grad_fn=<MseLossBackward0>) tensor([ 0.1466, -0.3973]) tensor([-1.8418,  1.7482], grad_fn=<CatBackward0>)\n",
      "torch.Size([50, 1])\n",
      "torch.Size([50, 1])\n",
      "33 tensor(0.0551, grad_fn=<MseLossBackward0>) tensor([ 0.2037, -0.3160]) tensor([-1.8433,  1.7522], grad_fn=<CatBackward0>)\n",
      "torch.Size([50, 1])\n",
      "torch.Size([50, 1])\n",
      "33 tensor(0.1183, grad_fn=<MseLossBackward0>) tensor([ 0.5447, -0.6225]) tensor([-1.8453,  1.7554], grad_fn=<CatBackward0>)\n",
      "torch.Size([50, 1])\n",
      "torch.Size([50, 1])\n",
      "33 tensor(0.0505, grad_fn=<MseLossBackward0>) tensor([ 0.1805, -0.3106]) tensor([-1.8507,  1.7616], grad_fn=<CatBackward0>)\n",
      "torch.Size([50, 1])\n",
      "torch.Size([50, 1])\n",
      "34 tensor(0.0538, grad_fn=<MseLossBackward0>) tensor([ 0.1365, -0.3714]) tensor([-1.8525,  1.7647], grad_fn=<CatBackward0>)\n",
      "torch.Size([50, 1])\n",
      "torch.Size([50, 1])\n",
      "34 tensor(0.0481, grad_fn=<MseLossBackward0>) tensor([ 0.1897, -0.2954]) tensor([-1.8539,  1.7684], grad_fn=<CatBackward0>)\n",
      "torch.Size([50, 1])\n",
      "torch.Size([50, 1])\n",
      "34 tensor(0.1031, grad_fn=<MseLossBackward0>) tensor([ 0.5081, -0.5815]) tensor([-1.8558,  1.7714], grad_fn=<CatBackward0>)\n",
      "torch.Size([50, 1])\n",
      "torch.Size([50, 1])\n",
      "34 tensor(0.0440, grad_fn=<MseLossBackward0>) tensor([ 0.1680, -0.2904]) tensor([-1.8609,  1.7772], grad_fn=<CatBackward0>)\n",
      "torch.Size([50, 1])\n",
      "torch.Size([50, 1])\n",
      "35 tensor(0.0469, grad_fn=<MseLossBackward0>) tensor([ 0.1271, -0.3472]) tensor([-1.8626,  1.7801], grad_fn=<CatBackward0>)\n",
      "torch.Size([50, 1])\n",
      "torch.Size([50, 1])\n",
      "35 tensor(0.0419, grad_fn=<MseLossBackward0>) tensor([ 0.1767, -0.2761]) tensor([-1.8638,  1.7836], grad_fn=<CatBackward0>)\n",
      "torch.Size([50, 1])\n",
      "torch.Size([50, 1])\n",
      "35 tensor(0.0899, grad_fn=<MseLossBackward0>) tensor([ 0.4739, -0.5433]) tensor([-1.8656,  1.7863], grad_fn=<CatBackward0>)\n",
      "torch.Size([50, 1])\n",
      "torch.Size([50, 1])\n",
      "35 tensor(0.0384, grad_fn=<MseLossBackward0>) tensor([ 0.1564, -0.2715]) tensor([-1.8703,  1.7918], grad_fn=<CatBackward0>)\n",
      "torch.Size([50, 1])\n",
      "torch.Size([50, 1])\n",
      "36 tensor(0.0409, grad_fn=<MseLossBackward0>) tensor([ 0.1183, -0.3246]) tensor([-1.8719,  1.7945], grad_fn=<CatBackward0>)\n",
      "torch.Size([50, 1])\n",
      "torch.Size([50, 1])\n",
      "36 tensor(0.0366, grad_fn=<MseLossBackward0>) tensor([ 0.1646, -0.2581]) tensor([-1.8731,  1.7977], grad_fn=<CatBackward0>)\n",
      "torch.Size([50, 1])\n",
      "torch.Size([50, 1])\n",
      "36 tensor(0.0784, grad_fn=<MseLossBackward0>) tensor([ 0.4420, -0.5076]) tensor([-1.8747,  1.8003], grad_fn=<CatBackward0>)\n",
      "torch.Size([50, 1])\n",
      "torch.Size([50, 1])\n",
      "36 tensor(0.0335, grad_fn=<MseLossBackward0>) tensor([ 0.1456, -0.2538]) tensor([-1.8792,  1.8054], grad_fn=<CatBackward0>)\n",
      "torch.Size([50, 1])\n",
      "torch.Size([50, 1])\n",
      "37 tensor(0.0357, grad_fn=<MseLossBackward0>) tensor([ 0.1102, -0.3035]) tensor([-1.8806,  1.8079], grad_fn=<CatBackward0>)\n",
      "torch.Size([50, 1])\n",
      "torch.Size([50, 1])\n",
      "37 tensor(0.0319, grad_fn=<MseLossBackward0>) tensor([ 0.1533, -0.2413]) tensor([-1.8817,  1.8110], grad_fn=<CatBackward0>)\n",
      "torch.Size([50, 1])\n",
      "torch.Size([50, 1])\n",
      "37 tensor(0.0683, grad_fn=<MseLossBackward0>) tensor([ 0.4123, -0.4742]) tensor([-1.8832,  1.8134], grad_fn=<CatBackward0>)\n",
      "torch.Size([50, 1])\n",
      "torch.Size([50, 1])\n",
      "37 tensor(0.0292, grad_fn=<MseLossBackward0>) tensor([ 0.1356, -0.2373]) tensor([-1.8874,  1.8181], grad_fn=<CatBackward0>)\n",
      "torch.Size([50, 1])\n",
      "torch.Size([50, 1])\n",
      "38 tensor(0.0312, grad_fn=<MseLossBackward0>) tensor([ 0.1026, -0.2837]) tensor([-1.8887,  1.8205], grad_fn=<CatBackward0>)\n",
      "torch.Size([50, 1])\n",
      "torch.Size([50, 1])\n",
      "38 tensor(0.0278, grad_fn=<MseLossBackward0>) tensor([ 0.1428, -0.2256]) tensor([-1.8898,  1.8233], grad_fn=<CatBackward0>)\n",
      "torch.Size([50, 1])\n",
      "torch.Size([50, 1])\n",
      "38 tensor(0.0596, grad_fn=<MseLossBackward0>) tensor([ 0.3845, -0.4430]) tensor([-1.8912,  1.8256], grad_fn=<CatBackward0>)\n",
      "torch.Size([50, 1])\n",
      "torch.Size([50, 1])\n",
      "38 tensor(0.0255, grad_fn=<MseLossBackward0>) tensor([ 0.1262, -0.2218]) tensor([-1.8950,  1.8300], grad_fn=<CatBackward0>)\n",
      "torch.Size([50, 1])\n",
      "torch.Size([50, 1])\n",
      "39 tensor(0.0272, grad_fn=<MseLossBackward0>) tensor([ 0.0955, -0.2652]) tensor([-1.8963,  1.8322], grad_fn=<CatBackward0>)\n",
      "torch.Size([50, 1])\n",
      "torch.Size([50, 1])\n",
      "39 tensor(0.0243, grad_fn=<MseLossBackward0>) tensor([ 0.1331, -0.2109]) tensor([-1.8972,  1.8349], grad_fn=<CatBackward0>)\n",
      "torch.Size([50, 1])\n",
      "torch.Size([50, 1])\n",
      "39 tensor(0.0519, grad_fn=<MseLossBackward0>) tensor([ 0.3587, -0.4139]) tensor([-1.8986,  1.8370], grad_fn=<CatBackward0>)\n",
      "torch.Size([50, 1])\n",
      "torch.Size([50, 1])\n",
      "39 tensor(0.0222, grad_fn=<MseLossBackward0>) tensor([ 0.1175, -0.2074]) tensor([-1.9022,  1.8411], grad_fn=<CatBackward0>)\n",
      "torch.Size([50, 1])\n",
      "torch.Size([50, 1])\n",
      "40 tensor(0.0237, grad_fn=<MseLossBackward0>) tensor([ 0.0889, -0.2479]) tensor([-1.9033,  1.8432], grad_fn=<CatBackward0>)\n",
      "torch.Size([50, 1])\n",
      "torch.Size([50, 1])\n",
      "40 tensor(0.0212, grad_fn=<MseLossBackward0>) tensor([ 0.1240, -0.1971]) tensor([-1.9042,  1.8457], grad_fn=<CatBackward0>)\n",
      "torch.Size([50, 1])\n",
      "torch.Size([50, 1])\n",
      "40 tensor(0.0453, grad_fn=<MseLossBackward0>) tensor([ 0.3345, -0.3867]) tensor([-1.9055,  1.8476], grad_fn=<CatBackward0>)\n",
      "torch.Size([50, 1])\n",
      "torch.Size([50, 1])\n",
      "40 tensor(0.0194, grad_fn=<MseLossBackward0>) tensor([ 0.1094, -0.1939]) tensor([-1.9088,  1.8515], grad_fn=<CatBackward0>)\n",
      "torch.Size([50, 1])\n",
      "torch.Size([50, 1])\n",
      "41 tensor(0.0207, grad_fn=<MseLossBackward0>) tensor([ 0.0828, -0.2317]) tensor([-1.9099,  1.8534], grad_fn=<CatBackward0>)\n",
      "torch.Size([50, 1])\n",
      "torch.Size([50, 1])\n",
      "41 tensor(0.0185, grad_fn=<MseLossBackward0>) tensor([ 0.1155, -0.1843]) tensor([-1.9107,  1.8558], grad_fn=<CatBackward0>)\n",
      "torch.Size([50, 1])\n",
      "torch.Size([50, 1])\n",
      "41 tensor(0.0395, grad_fn=<MseLossBackward0>) tensor([ 0.3120, -0.3612]) tensor([-1.9119,  1.8576], grad_fn=<CatBackward0>)\n",
      "torch.Size([50, 1])\n",
      "torch.Size([50, 1])\n",
      "41 tensor(0.0169, grad_fn=<MseLossBackward0>) tensor([ 0.1019, -0.1812]) tensor([-1.9150,  1.8612], grad_fn=<CatBackward0>)\n",
      "torch.Size([50, 1])\n",
      "torch.Size([50, 1])\n",
      "42 tensor(0.0181, grad_fn=<MseLossBackward0>) tensor([ 0.0771, -0.2166]) tensor([-1.9160,  1.8630], grad_fn=<CatBackward0>)\n",
      "torch.Size([50, 1])\n",
      "torch.Size([50, 1])\n",
      "42 tensor(0.0161, grad_fn=<MseLossBackward0>) tensor([ 0.1076, -0.1723]) tensor([-1.9168,  1.8652], grad_fn=<CatBackward0>)\n"
     ]
    },
    {
     "name": "stdout",
     "output_type": "stream",
     "text": [
      "torch.Size([50, 1])\n",
      "torch.Size([50, 1])\n",
      "42 tensor(0.0344, grad_fn=<MseLossBackward0>) tensor([ 0.2911, -0.3375]) tensor([-1.9179,  1.8669], grad_fn=<CatBackward0>)\n",
      "torch.Size([50, 1])\n",
      "torch.Size([50, 1])\n",
      "42 tensor(0.0147, grad_fn=<MseLossBackward0>) tensor([ 0.0949, -0.1694]) tensor([-1.9208,  1.8703], grad_fn=<CatBackward0>)\n",
      "torch.Size([50, 1])\n",
      "torch.Size([50, 1])\n",
      "43 tensor(0.0158, grad_fn=<MseLossBackward0>) tensor([ 0.0718, -0.2025]) tensor([-1.9217,  1.8720], grad_fn=<CatBackward0>)\n",
      "torch.Size([50, 1])\n",
      "torch.Size([50, 1])\n",
      "43 tensor(0.0140, grad_fn=<MseLossBackward0>) tensor([ 0.1002, -0.1610]) tensor([-1.9224,  1.8740], grad_fn=<CatBackward0>)\n",
      "torch.Size([50, 1])\n",
      "torch.Size([50, 1])\n",
      "43 tensor(0.0300, grad_fn=<MseLossBackward0>) tensor([ 0.2715, -0.3153]) tensor([-1.9234,  1.8756], grad_fn=<CatBackward0>)\n",
      "torch.Size([50, 1])\n",
      "torch.Size([50, 1])\n",
      "43 tensor(0.0128, grad_fn=<MseLossBackward0>) tensor([ 0.0883, -0.1584]) tensor([-1.9262,  1.8788], grad_fn=<CatBackward0>)\n",
      "torch.Size([50, 1])\n",
      "torch.Size([50, 1])\n",
      "44 tensor(0.0138, grad_fn=<MseLossBackward0>) tensor([ 0.0668, -0.1893]) tensor([-1.9270,  1.8804], grad_fn=<CatBackward0>)\n",
      "torch.Size([50, 1])\n",
      "torch.Size([50, 1])\n",
      "44 tensor(0.0122, grad_fn=<MseLossBackward0>) tensor([ 0.0934, -0.1505]) tensor([-1.9277,  1.8823], grad_fn=<CatBackward0>)\n",
      "torch.Size([50, 1])\n",
      "torch.Size([50, 1])\n",
      "44 tensor(0.0262, grad_fn=<MseLossBackward0>) tensor([ 0.2532, -0.2945]) tensor([-1.9287,  1.8838], grad_fn=<CatBackward0>)\n",
      "torch.Size([50, 1])\n",
      "torch.Size([50, 1])\n",
      "44 tensor(0.0112, grad_fn=<MseLossBackward0>) tensor([ 0.0823, -0.1480]) tensor([-1.9312,  1.8867], grad_fn=<CatBackward0>)\n",
      "torch.Size([50, 1])\n",
      "torch.Size([50, 1])\n",
      "45 tensor(0.0120, grad_fn=<MseLossBackward0>) tensor([ 0.0622, -0.1769]) tensor([-1.9320,  1.8882], grad_fn=<CatBackward0>)\n",
      "torch.Size([50, 1])\n",
      "torch.Size([50, 1])\n",
      "45 tensor(0.0107, grad_fn=<MseLossBackward0>) tensor([ 0.0870, -0.1407]) tensor([-1.9326,  1.8900], grad_fn=<CatBackward0>)\n",
      "torch.Size([50, 1])\n",
      "torch.Size([50, 1])\n",
      "45 tensor(0.0228, grad_fn=<MseLossBackward0>) tensor([ 0.2362, -0.2752]) tensor([-1.9335,  1.8914], grad_fn=<CatBackward0>)\n",
      "torch.Size([50, 1])\n",
      "torch.Size([50, 1])\n",
      "45 tensor(0.0098, grad_fn=<MseLossBackward0>) tensor([ 0.0766, -0.1384]) tensor([-1.9359,  1.8941], grad_fn=<CatBackward0>)\n",
      "torch.Size([50, 1])\n",
      "torch.Size([50, 1])\n",
      "46 tensor(0.0105, grad_fn=<MseLossBackward0>) tensor([ 0.0579, -0.1654]) tensor([-1.9366,  1.8955], grad_fn=<CatBackward0>)\n",
      "torch.Size([50, 1])\n",
      "torch.Size([50, 1])\n",
      "46 tensor(0.0093, grad_fn=<MseLossBackward0>) tensor([ 0.0811, -0.1315]) tensor([-1.9372,  1.8972], grad_fn=<CatBackward0>)\n",
      "torch.Size([50, 1])\n",
      "torch.Size([50, 1])\n",
      "46 tensor(0.0199, grad_fn=<MseLossBackward0>) tensor([ 0.2203, -0.2571]) tensor([-1.9380,  1.8985], grad_fn=<CatBackward0>)\n",
      "torch.Size([50, 1])\n",
      "torch.Size([50, 1])\n",
      "46 tensor(0.0085, grad_fn=<MseLossBackward0>) tensor([ 0.0713, -0.1293]) tensor([-1.9402,  1.9010], grad_fn=<CatBackward0>)\n",
      "torch.Size([50, 1])\n",
      "torch.Size([50, 1])\n",
      "47 tensor(0.0091, grad_fn=<MseLossBackward0>) tensor([ 0.0540, -0.1546]) tensor([-1.9409,  1.9023], grad_fn=<CatBackward0>)\n",
      "torch.Size([50, 1])\n",
      "torch.Size([50, 1])\n",
      "47 tensor(0.0081, grad_fn=<MseLossBackward0>) tensor([ 0.0755, -0.1229]) tensor([-1.9415,  1.9039], grad_fn=<CatBackward0>)\n",
      "torch.Size([50, 1])\n",
      "torch.Size([50, 1])\n",
      "47 tensor(0.0173, grad_fn=<MseLossBackward0>) tensor([ 0.2055, -0.2402]) tensor([-1.9422,  1.9051], grad_fn=<CatBackward0>)\n",
      "torch.Size([50, 1])\n",
      "torch.Size([50, 1])\n",
      "47 tensor(0.0074, grad_fn=<MseLossBackward0>) tensor([ 0.0664, -0.1209]) tensor([-1.9443,  1.9075], grad_fn=<CatBackward0>)\n",
      "torch.Size([50, 1])\n",
      "torch.Size([50, 1])\n",
      "48 tensor(0.0080, grad_fn=<MseLossBackward0>) tensor([ 0.0502, -0.1445]) tensor([-1.9449,  1.9087], grad_fn=<CatBackward0>)\n",
      "torch.Size([50, 1])\n",
      "torch.Size([50, 1])\n",
      "48 tensor(0.0071, grad_fn=<MseLossBackward0>) tensor([ 0.0704, -0.1149]) tensor([-1.9455,  1.9102], grad_fn=<CatBackward0>)\n",
      "torch.Size([50, 1])\n",
      "torch.Size([50, 1])\n",
      "48 tensor(0.0151, grad_fn=<MseLossBackward0>) tensor([ 0.1917, -0.2244]) tensor([-1.9462,  1.9113], grad_fn=<CatBackward0>)\n",
      "torch.Size([50, 1])\n",
      "torch.Size([50, 1])\n",
      "48 tensor(0.0065, grad_fn=<MseLossBackward0>) tensor([ 0.0619, -0.1130]) tensor([-1.9481,  1.9136], grad_fn=<CatBackward0>)\n",
      "torch.Size([50, 1])\n",
      "torch.Size([50, 1])\n",
      "49 tensor(0.0070, grad_fn=<MseLossBackward0>) tensor([ 0.0468, -0.1351]) tensor([-1.9487,  1.9147], grad_fn=<CatBackward0>)\n",
      "torch.Size([50, 1])\n",
      "torch.Size([50, 1])\n",
      "49 tensor(0.0062, grad_fn=<MseLossBackward0>) tensor([ 0.0656, -0.1074]) tensor([-1.9492,  1.9160], grad_fn=<CatBackward0>)\n",
      "torch.Size([50, 1])\n",
      "torch.Size([50, 1])\n",
      "49 tensor(0.0132, grad_fn=<MseLossBackward0>) tensor([ 0.1788, -0.2096]) tensor([-1.9498,  1.9171], grad_fn=<CatBackward0>)\n",
      "torch.Size([50, 1])\n",
      "torch.Size([50, 1])\n",
      "49 tensor(0.0056, grad_fn=<MseLossBackward0>) tensor([ 0.0576, -0.1056]) tensor([-1.9516,  1.9192], grad_fn=<CatBackward0>)\n",
      "torch.Size([50, 1])\n",
      "torch.Size([50, 1])\n",
      "50 tensor(0.0061, grad_fn=<MseLossBackward0>) tensor([ 0.0436, -0.1263]) tensor([-1.9522,  1.9203], grad_fn=<CatBackward0>)\n",
      "torch.Size([50, 1])\n",
      "torch.Size([50, 1])\n",
      "50 tensor(0.0054, grad_fn=<MseLossBackward0>) tensor([ 0.0611, -0.1004]) tensor([-1.9526,  1.9215], grad_fn=<CatBackward0>)\n",
      "torch.Size([50, 1])\n",
      "torch.Size([50, 1])\n",
      "50 tensor(0.0115, grad_fn=<MseLossBackward0>) tensor([ 0.1668, -0.1958]) tensor([-1.9532,  1.9225], grad_fn=<CatBackward0>)\n",
      "torch.Size([50, 1])\n",
      "torch.Size([50, 1])\n",
      "50 tensor(0.0049, grad_fn=<MseLossBackward0>) tensor([ 0.0537, -0.0987]) tensor([-1.9549,  1.9245], grad_fn=<CatBackward0>)\n",
      "torch.Size([50, 1])\n",
      "torch.Size([50, 1])\n",
      "51 tensor(0.0053, grad_fn=<MseLossBackward0>) tensor([ 0.0406, -0.1181]) tensor([-1.9554,  1.9255], grad_fn=<CatBackward0>)\n",
      "torch.Size([50, 1])\n",
      "torch.Size([50, 1])\n",
      "51 tensor(0.0047, grad_fn=<MseLossBackward0>) tensor([ 0.0569, -0.0939]) tensor([-1.9558,  1.9267], grad_fn=<CatBackward0>)\n",
      "torch.Size([50, 1])\n",
      "torch.Size([50, 1])\n",
      "51 tensor(0.0100, grad_fn=<MseLossBackward0>) tensor([ 0.1556, -0.1830]) tensor([-1.9564,  1.9276], grad_fn=<CatBackward0>)\n",
      "torch.Size([50, 1])\n",
      "torch.Size([50, 1])\n",
      "51 tensor(0.0043, grad_fn=<MseLossBackward0>) tensor([ 0.0500, -0.0922]) tensor([-1.9580,  1.9294], grad_fn=<CatBackward0>)\n",
      "torch.Size([50, 1])\n",
      "torch.Size([50, 1])\n",
      "52 tensor(0.0046, grad_fn=<MseLossBackward0>) tensor([ 0.0378, -0.1103]) tensor([-1.9585,  1.9303], grad_fn=<CatBackward0>)\n",
      "torch.Size([50, 1])\n",
      "torch.Size([50, 1])\n",
      "52 tensor(0.0041, grad_fn=<MseLossBackward0>) tensor([ 0.0531, -0.0877]) tensor([-1.9588,  1.9314], grad_fn=<CatBackward0>)\n",
      "torch.Size([50, 1])\n",
      "torch.Size([50, 1])\n",
      "52 tensor(0.0087, grad_fn=<MseLossBackward0>) tensor([ 0.1452, -0.1709]) tensor([-1.9594,  1.9323], grad_fn=<CatBackward0>)\n",
      "torch.Size([50, 1])\n",
      "torch.Size([50, 1])\n",
      "52 tensor(0.0037, grad_fn=<MseLossBackward0>) tensor([ 0.0466, -0.0862]) tensor([-1.9608,  1.9340], grad_fn=<CatBackward0>)\n",
      "torch.Size([50, 1])\n",
      "torch.Size([50, 1])\n",
      "53 tensor(0.0040, grad_fn=<MseLossBackward0>) tensor([ 0.0352, -0.1031]) tensor([-1.9613,  1.9349], grad_fn=<CatBackward0>)\n",
      "torch.Size([50, 1])\n",
      "torch.Size([50, 1])\n",
      "53 tensor(0.0036, grad_fn=<MseLossBackward0>) tensor([ 0.0495, -0.0820]) tensor([-1.9616,  1.9359], grad_fn=<CatBackward0>)\n",
      "torch.Size([50, 1])\n",
      "torch.Size([50, 1])\n",
      "53 tensor(0.0076, grad_fn=<MseLossBackward0>) tensor([ 0.1354, -0.1597]) tensor([-1.9621,  1.9367], grad_fn=<CatBackward0>)\n",
      "torch.Size([50, 1])\n",
      "torch.Size([50, 1])\n",
      "53 tensor(0.0033, grad_fn=<MseLossBackward0>) tensor([ 0.0434, -0.0806]) tensor([-1.9635,  1.9383], grad_fn=<CatBackward0>)\n",
      "torch.Size([50, 1])\n",
      "torch.Size([50, 1])\n",
      "54 tensor(0.0035, grad_fn=<MseLossBackward0>) tensor([ 0.0328, -0.0964]) tensor([-1.9639,  1.9392], grad_fn=<CatBackward0>)\n",
      "torch.Size([50, 1])\n",
      "torch.Size([50, 1])\n",
      "54 tensor(0.0031, grad_fn=<MseLossBackward0>) tensor([ 0.0461, -0.0766]) tensor([-1.9642,  1.9401], grad_fn=<CatBackward0>)\n",
      "torch.Size([50, 1])\n",
      "torch.Size([50, 1])\n",
      "54 tensor(0.0066, grad_fn=<MseLossBackward0>) tensor([ 0.1263, -0.1492]) tensor([-1.9647,  1.9409], grad_fn=<CatBackward0>)\n",
      "torch.Size([50, 1])\n",
      "torch.Size([50, 1])\n",
      "54 tensor(0.0028, grad_fn=<MseLossBackward0>) tensor([ 0.0404, -0.0753]) tensor([-1.9660,  1.9424], grad_fn=<CatBackward0>)\n",
      "torch.Size([50, 1])\n",
      "torch.Size([50, 1])\n",
      "55 tensor(0.0031, grad_fn=<MseLossBackward0>) tensor([ 0.0305, -0.0901]) tensor([-1.9664,  1.9431], grad_fn=<CatBackward0>)\n",
      "torch.Size([50, 1])\n",
      "torch.Size([50, 1])\n",
      "55 tensor(0.0027, grad_fn=<MseLossBackward0>) tensor([ 0.0430, -0.0716]) tensor([-1.9667,  1.9440], grad_fn=<CatBackward0>)\n"
     ]
    },
    {
     "name": "stdout",
     "output_type": "stream",
     "text": [
      "torch.Size([50, 1])\n",
      "torch.Size([50, 1])\n",
      "55 tensor(0.0058, grad_fn=<MseLossBackward0>) tensor([ 0.1178, -0.1394]) tensor([-1.9671,  1.9447], grad_fn=<CatBackward0>)\n",
      "torch.Size([50, 1])\n",
      "torch.Size([50, 1])\n",
      "55 tensor(0.0025, grad_fn=<MseLossBackward0>) tensor([ 0.0376, -0.0704]) tensor([-1.9683,  1.9461], grad_fn=<CatBackward0>)\n",
      "torch.Size([50, 1])\n",
      "torch.Size([50, 1])\n",
      "56 tensor(0.0027, grad_fn=<MseLossBackward0>) tensor([ 0.0284, -0.0842]) tensor([-1.9687,  1.9468], grad_fn=<CatBackward0>)\n",
      "torch.Size([50, 1])\n",
      "torch.Size([50, 1])\n",
      "56 tensor(0.0024, grad_fn=<MseLossBackward0>) tensor([ 0.0400, -0.0670]) tensor([-1.9690,  1.9477], grad_fn=<CatBackward0>)\n",
      "torch.Size([50, 1])\n",
      "torch.Size([50, 1])\n",
      "56 tensor(0.0051, grad_fn=<MseLossBackward0>) tensor([ 0.1099, -0.1302]) tensor([-1.9694,  1.9484], grad_fn=<CatBackward0>)\n",
      "torch.Size([50, 1])\n",
      "torch.Size([50, 1])\n",
      "56 tensor(0.0022, grad_fn=<MseLossBackward0>) tensor([ 0.0351, -0.0658]) tensor([-1.9705,  1.9497], grad_fn=<CatBackward0>)\n",
      "torch.Size([50, 1])\n",
      "torch.Size([50, 1])\n",
      "57 tensor(0.0023, grad_fn=<MseLossBackward0>) tensor([ 0.0265, -0.0788]) tensor([-1.9708,  1.9503], grad_fn=<CatBackward0>)\n",
      "torch.Size([50, 1])\n",
      "torch.Size([50, 1])\n",
      "57 tensor(0.0021, grad_fn=<MseLossBackward0>) tensor([ 0.0373, -0.0626]) tensor([-1.9711,  1.9511], grad_fn=<CatBackward0>)\n",
      "torch.Size([50, 1])\n",
      "torch.Size([50, 1])\n",
      "57 tensor(0.0044, grad_fn=<MseLossBackward0>) tensor([ 0.1025, -0.1216]) tensor([-1.9714,  1.9517], grad_fn=<CatBackward0>)\n",
      "torch.Size([50, 1])\n",
      "torch.Size([50, 1])\n",
      "57 tensor(0.0019, grad_fn=<MseLossBackward0>) tensor([ 0.0327, -0.0614]) tensor([-1.9725,  1.9529], grad_fn=<CatBackward0>)\n",
      "torch.Size([50, 1])\n",
      "torch.Size([50, 1])\n",
      "58 tensor(0.0020, grad_fn=<MseLossBackward0>) tensor([ 0.0247, -0.0736]) tensor([-1.9728,  1.9536], grad_fn=<CatBackward0>)\n",
      "torch.Size([50, 1])\n",
      "torch.Size([50, 1])\n",
      "58 tensor(0.0018, grad_fn=<MseLossBackward0>) tensor([ 0.0348, -0.0585]) tensor([-1.9730,  1.9543], grad_fn=<CatBackward0>)\n",
      "torch.Size([50, 1])\n",
      "torch.Size([50, 1])\n",
      "58 tensor(0.0038, grad_fn=<MseLossBackward0>) tensor([ 0.0956, -0.1136]) tensor([-1.9734,  1.9549], grad_fn=<CatBackward0>)\n",
      "torch.Size([50, 1])\n",
      "torch.Size([50, 1])\n",
      "58 tensor(0.0016, grad_fn=<MseLossBackward0>) tensor([ 0.0304, -0.0574]) tensor([-1.9743,  1.9560], grad_fn=<CatBackward0>)\n",
      "torch.Size([50, 1])\n",
      "torch.Size([50, 1])\n",
      "59 tensor(0.0018, grad_fn=<MseLossBackward0>) tensor([ 0.0230, -0.0688]) tensor([-1.9746,  1.9566], grad_fn=<CatBackward0>)\n",
      "torch.Size([50, 1])\n",
      "torch.Size([50, 1])\n",
      "59 tensor(0.0016, grad_fn=<MseLossBackward0>) tensor([ 0.0324, -0.0547]) tensor([-1.9749,  1.9573], grad_fn=<CatBackward0>)\n",
      "torch.Size([50, 1])\n",
      "torch.Size([50, 1])\n",
      "59 tensor(0.0033, grad_fn=<MseLossBackward0>) tensor([ 0.0892, -0.1062]) tensor([-1.9752,  1.9578], grad_fn=<CatBackward0>)\n",
      "torch.Size([50, 1])\n",
      "torch.Size([50, 1])\n",
      "59 tensor(0.0014, grad_fn=<MseLossBackward0>) tensor([ 0.0283, -0.0536]) tensor([-1.9761,  1.9589], grad_fn=<CatBackward0>)\n",
      "torch.Size([50, 1])\n",
      "torch.Size([50, 1])\n",
      "60 tensor(0.0016, grad_fn=<MseLossBackward0>) tensor([ 0.0214, -0.0643]) tensor([-1.9764,  1.9594], grad_fn=<CatBackward0>)\n",
      "torch.Size([50, 1])\n",
      "torch.Size([50, 1])\n",
      "60 tensor(0.0014, grad_fn=<MseLossBackward0>) tensor([ 0.0302, -0.0511]) tensor([-1.9766,  1.9601], grad_fn=<CatBackward0>)\n",
      "torch.Size([50, 1])\n",
      "torch.Size([50, 1])\n",
      "60 tensor(0.0029, grad_fn=<MseLossBackward0>) tensor([ 0.0832, -0.0992]) tensor([-1.9769,  1.9606], grad_fn=<CatBackward0>)\n",
      "torch.Size([50, 1])\n",
      "torch.Size([50, 1])\n",
      "60 tensor(0.0013, grad_fn=<MseLossBackward0>) tensor([ 0.0264, -0.0501]) tensor([-1.9777,  1.9616], grad_fn=<CatBackward0>)\n",
      "torch.Size([50, 1])\n",
      "torch.Size([50, 1])\n",
      "61 tensor(0.0014, grad_fn=<MseLossBackward0>) tensor([ 0.0199, -0.0601]) tensor([-1.9780,  1.9621], grad_fn=<CatBackward0>)\n",
      "torch.Size([50, 1])\n",
      "torch.Size([50, 1])\n",
      "61 tensor(0.0012, grad_fn=<MseLossBackward0>) tensor([ 0.0282, -0.0478]) tensor([-1.9782,  1.9627], grad_fn=<CatBackward0>)\n",
      "torch.Size([50, 1])\n",
      "torch.Size([50, 1])\n",
      "61 tensor(0.0025, grad_fn=<MseLossBackward0>) tensor([ 0.0776, -0.0927]) tensor([-1.9785,  1.9631], grad_fn=<CatBackward0>)\n",
      "torch.Size([50, 1])\n",
      "torch.Size([50, 1])\n",
      "61 tensor(0.0011, grad_fn=<MseLossBackward0>) tensor([ 0.0246, -0.0468]) tensor([-1.9792,  1.9641], grad_fn=<CatBackward0>)\n",
      "torch.Size([50, 1])\n",
      "torch.Size([50, 1])\n",
      "62 tensor(0.0012, grad_fn=<MseLossBackward0>) tensor([ 0.0186, -0.0562]) tensor([-1.9795,  1.9645], grad_fn=<CatBackward0>)\n",
      "torch.Size([50, 1])\n",
      "torch.Size([50, 1])\n",
      "62 tensor(0.0010, grad_fn=<MseLossBackward0>) tensor([ 0.0263, -0.0446]) tensor([-1.9797,  1.9651], grad_fn=<CatBackward0>)\n",
      "torch.Size([50, 1])\n",
      "torch.Size([50, 1])\n",
      "62 tensor(0.0022, grad_fn=<MseLossBackward0>) tensor([ 0.0724, -0.0866]) tensor([-1.9799,  1.9656], grad_fn=<CatBackward0>)\n",
      "torch.Size([50, 1])\n",
      "torch.Size([50, 1])\n",
      "62 tensor(0.0010, grad_fn=<MseLossBackward0>) tensor([ 0.0229, -0.0438]) tensor([-1.9807,  1.9664], grad_fn=<CatBackward0>)\n",
      "torch.Size([50, 1])\n",
      "torch.Size([50, 1])\n",
      "63 tensor(0.0010, grad_fn=<MseLossBackward0>) tensor([ 0.0173, -0.0525]) tensor([-1.9809,  1.9669], grad_fn=<CatBackward0>)\n",
      "torch.Size([50, 1])\n",
      "torch.Size([50, 1])\n",
      "63 tensor(0.0009, grad_fn=<MseLossBackward0>) tensor([ 0.0245, -0.0417]) tensor([-1.9811,  1.9674], grad_fn=<CatBackward0>)\n",
      "torch.Size([50, 1])\n",
      "torch.Size([50, 1])\n",
      "63 tensor(0.0019, grad_fn=<MseLossBackward0>) tensor([ 0.0676, -0.0809]) tensor([-1.9813,  1.9678], grad_fn=<CatBackward0>)\n",
      "torch.Size([50, 1])\n",
      "torch.Size([50, 1])\n",
      "63 tensor(0.0008, grad_fn=<MseLossBackward0>) tensor([ 0.0214, -0.0409]) tensor([-1.9820,  1.9686], grad_fn=<CatBackward0>)\n",
      "torch.Size([50, 1])\n",
      "torch.Size([50, 1])\n",
      "64 tensor(0.0009, grad_fn=<MseLossBackward0>) tensor([ 0.0161, -0.0491]) tensor([-1.9822,  1.9690], grad_fn=<CatBackward0>)\n",
      "torch.Size([50, 1])\n",
      "torch.Size([50, 1])\n",
      "64 tensor(0.0008, grad_fn=<MseLossBackward0>) tensor([ 0.0228, -0.0390]) tensor([-1.9824,  1.9695], grad_fn=<CatBackward0>)\n",
      "torch.Size([50, 1])\n",
      "torch.Size([50, 1])\n",
      "64 tensor(0.0017, grad_fn=<MseLossBackward0>) tensor([ 0.0630, -0.0756]) tensor([-1.9826,  1.9699], grad_fn=<CatBackward0>)\n",
      "torch.Size([50, 1])\n",
      "torch.Size([50, 1])\n",
      "64 tensor(0.0007, grad_fn=<MseLossBackward0>) tensor([ 0.0199, -0.0382]) tensor([-1.9832,  1.9707], grad_fn=<CatBackward0>)\n",
      "torch.Size([50, 1])\n",
      "torch.Size([50, 1])\n",
      "65 tensor(0.0008, grad_fn=<MseLossBackward0>) tensor([ 0.0150, -0.0459]) tensor([-1.9834,  1.9710], grad_fn=<CatBackward0>)\n",
      "torch.Size([50, 1])\n",
      "torch.Size([50, 1])\n",
      "65 tensor(0.0007, grad_fn=<MseLossBackward0>) tensor([ 0.0213, -0.0365]) tensor([-1.9836,  1.9715], grad_fn=<CatBackward0>)\n",
      "torch.Size([50, 1])\n",
      "torch.Size([50, 1])\n",
      "65 tensor(0.0015, grad_fn=<MseLossBackward0>) tensor([ 0.0588, -0.0706]) tensor([-1.9838,  1.9719], grad_fn=<CatBackward0>)\n",
      "torch.Size([50, 1])\n",
      "torch.Size([50, 1])\n",
      "65 tensor(0.0006, grad_fn=<MseLossBackward0>) tensor([ 0.0185, -0.0357]) tensor([-1.9844,  1.9726], grad_fn=<CatBackward0>)\n",
      "torch.Size([50, 1])\n",
      "torch.Size([50, 1])\n",
      "66 tensor(0.0007, grad_fn=<MseLossBackward0>) tensor([ 0.0140, -0.0429]) tensor([-1.9846,  1.9729], grad_fn=<CatBackward0>)\n",
      "torch.Size([50, 1])\n",
      "torch.Size([50, 1])\n",
      "66 tensor(0.0006, grad_fn=<MseLossBackward0>) tensor([ 0.0198, -0.0341]) tensor([-1.9847,  1.9734], grad_fn=<CatBackward0>)\n",
      "torch.Size([50, 1])\n",
      "torch.Size([50, 1])\n",
      "66 tensor(0.0013, grad_fn=<MseLossBackward0>) tensor([ 0.0548, -0.0660]) tensor([-1.9849,  1.9737], grad_fn=<CatBackward0>)\n",
      "torch.Size([50, 1])\n",
      "torch.Size([50, 1])\n",
      "66 tensor(0.0006, grad_fn=<MseLossBackward0>) tensor([ 0.0173, -0.0333]) tensor([-1.9854,  1.9744], grad_fn=<CatBackward0>)\n",
      "torch.Size([50, 1])\n",
      "torch.Size([50, 1])\n",
      "67 tensor(0.0006, grad_fn=<MseLossBackward0>) tensor([ 0.0130, -0.0401]) tensor([-1.9856,  1.9747], grad_fn=<CatBackward0>)\n",
      "torch.Size([50, 1])\n",
      "torch.Size([50, 1])\n",
      "67 tensor(0.0005, grad_fn=<MseLossBackward0>) tensor([ 0.0185, -0.0318]) tensor([-1.9857,  1.9751], grad_fn=<CatBackward0>)\n",
      "torch.Size([50, 1])\n",
      "torch.Size([50, 1])\n",
      "67 tensor(0.0011, grad_fn=<MseLossBackward0>) tensor([ 0.0511, -0.0616]) tensor([-1.9859,  1.9754], grad_fn=<CatBackward0>)\n",
      "torch.Size([50, 1])\n",
      "torch.Size([50, 1])\n",
      "67 tensor(0.0005, grad_fn=<MseLossBackward0>) tensor([ 0.0161, -0.0311]) tensor([-1.9864,  1.9760], grad_fn=<CatBackward0>)\n",
      "torch.Size([50, 1])\n",
      "torch.Size([50, 1])\n"
     ]
    },
    {
     "name": "stdout",
     "output_type": "stream",
     "text": [
      "68 tensor(0.0005, grad_fn=<MseLossBackward0>) tensor([ 0.0121, -0.0375]) tensor([-1.9866,  1.9763], grad_fn=<CatBackward0>)\n",
      "torch.Size([50, 1])\n",
      "torch.Size([50, 1])\n",
      "68 tensor(0.0005, grad_fn=<MseLossBackward0>) tensor([ 0.0172, -0.0298]) tensor([-1.9867,  1.9767], grad_fn=<CatBackward0>)\n",
      "torch.Size([50, 1])\n",
      "torch.Size([50, 1])\n",
      "68 tensor(0.0010, grad_fn=<MseLossBackward0>) tensor([ 0.0477, -0.0576]) tensor([-1.9869,  1.9770], grad_fn=<CatBackward0>)\n",
      "torch.Size([50, 1])\n",
      "torch.Size([50, 1])\n",
      "68 tensor(0.0004, grad_fn=<MseLossBackward0>) tensor([ 0.0150, -0.0291]) tensor([-1.9874,  1.9776], grad_fn=<CatBackward0>)\n",
      "torch.Size([50, 1])\n",
      "torch.Size([50, 1])\n",
      "69 tensor(0.0005, grad_fn=<MseLossBackward0>) tensor([ 0.0113, -0.0351]) tensor([-1.9875,  1.9779], grad_fn=<CatBackward0>)\n",
      "torch.Size([50, 1])\n",
      "torch.Size([50, 1])\n",
      "69 tensor(0.0004, grad_fn=<MseLossBackward0>) tensor([ 0.0161, -0.0278]) tensor([-1.9876,  1.9782], grad_fn=<CatBackward0>)\n",
      "torch.Size([50, 1])\n",
      "torch.Size([50, 1])\n",
      "69 tensor(0.0009, grad_fn=<MseLossBackward0>) tensor([ 0.0445, -0.0538]) tensor([-1.9878,  1.9785], grad_fn=<CatBackward0>)\n",
      "torch.Size([50, 1])\n",
      "torch.Size([50, 1])\n",
      "69 tensor(0.0004, grad_fn=<MseLossBackward0>) tensor([ 0.0140, -0.0272]) tensor([-1.9882,  1.9790], grad_fn=<CatBackward0>)\n",
      "torch.Size([50, 1])\n",
      "torch.Size([50, 1])\n",
      "70 tensor(0.0004, grad_fn=<MseLossBackward0>) tensor([ 0.0105, -0.0328]) tensor([-1.9884,  1.9793], grad_fn=<CatBackward0>)\n",
      "torch.Size([50, 1])\n",
      "torch.Size([50, 1])\n",
      "70 tensor(0.0004, grad_fn=<MseLossBackward0>) tensor([ 0.0150, -0.0260]) tensor([-1.9885,  1.9796], grad_fn=<CatBackward0>)\n",
      "torch.Size([50, 1])\n",
      "torch.Size([50, 1])\n",
      "70 tensor(0.0007, grad_fn=<MseLossBackward0>) tensor([ 0.0415, -0.0503]) tensor([-1.9886,  1.9799], grad_fn=<CatBackward0>)\n",
      "torch.Size([50, 1])\n",
      "torch.Size([50, 1])\n",
      "70 tensor(0.0003, grad_fn=<MseLossBackward0>) tensor([ 0.0130, -0.0254]) tensor([-1.9891,  1.9804], grad_fn=<CatBackward0>)\n",
      "torch.Size([50, 1])\n",
      "torch.Size([50, 1])\n",
      "71 tensor(0.0004, grad_fn=<MseLossBackward0>) tensor([ 0.0098, -0.0306]) tensor([-1.9892,  1.9807], grad_fn=<CatBackward0>)\n",
      "torch.Size([50, 1])\n",
      "torch.Size([50, 1])\n",
      "71 tensor(0.0003, grad_fn=<MseLossBackward0>) tensor([ 0.0140, -0.0243]) tensor([-1.9893,  1.9810], grad_fn=<CatBackward0>)\n",
      "torch.Size([50, 1])\n",
      "torch.Size([50, 1])\n",
      "71 tensor(0.0006, grad_fn=<MseLossBackward0>) tensor([ 0.0387, -0.0470]) tensor([-1.9894,  1.9812], grad_fn=<CatBackward0>)\n",
      "torch.Size([50, 1])\n",
      "torch.Size([50, 1])\n",
      "71 tensor(0.0003, grad_fn=<MseLossBackward0>) tensor([ 0.0122, -0.0237]) tensor([-1.9898,  1.9817], grad_fn=<CatBackward0>)\n",
      "torch.Size([50, 1])\n",
      "torch.Size([50, 1])\n",
      "72 tensor(0.0003, grad_fn=<MseLossBackward0>) tensor([ 0.0091, -0.0286]) tensor([-1.9899,  1.9819], grad_fn=<CatBackward0>)\n",
      "torch.Size([50, 1])\n",
      "torch.Size([50, 1])\n",
      "72 tensor(0.0003, grad_fn=<MseLossBackward0>) tensor([ 0.0130, -0.0227]) tensor([-1.9900,  1.9822], grad_fn=<CatBackward0>)\n",
      "torch.Size([50, 1])\n",
      "torch.Size([50, 1])\n",
      "72 tensor(0.0006, grad_fn=<MseLossBackward0>) tensor([ 0.0361, -0.0439]) tensor([-1.9901,  1.9824], grad_fn=<CatBackward0>)\n",
      "torch.Size([50, 1])\n",
      "torch.Size([50, 1])\n",
      "72 tensor(0.0002, grad_fn=<MseLossBackward0>) tensor([ 0.0113, -0.0221]) tensor([-1.9905,  1.9829], grad_fn=<CatBackward0>)\n",
      "torch.Size([50, 1])\n",
      "torch.Size([50, 1])\n",
      "73 tensor(0.0003, grad_fn=<MseLossBackward0>) tensor([ 0.0085, -0.0268]) tensor([-1.9906,  1.9831], grad_fn=<CatBackward0>)\n",
      "torch.Size([50, 1])\n",
      "torch.Size([50, 1])\n",
      "73 tensor(0.0002, grad_fn=<MseLossBackward0>) tensor([ 0.0122, -0.0212]) tensor([-1.9907,  1.9834], grad_fn=<CatBackward0>)\n",
      "torch.Size([50, 1])\n",
      "torch.Size([50, 1])\n",
      "73 tensor(0.0005, grad_fn=<MseLossBackward0>) tensor([ 0.0337, -0.0410]) tensor([-1.9908,  1.9836], grad_fn=<CatBackward0>)\n",
      "torch.Size([50, 1])\n",
      "torch.Size([50, 1])\n",
      "73 tensor(0.0002, grad_fn=<MseLossBackward0>) tensor([ 0.0106, -0.0206]) tensor([-1.9912,  1.9840], grad_fn=<CatBackward0>)\n",
      "torch.Size([50, 1])\n",
      "torch.Size([50, 1])\n",
      "74 tensor(0.0002, grad_fn=<MseLossBackward0>) tensor([ 0.0079, -0.0250]) tensor([-1.9913,  1.9842], grad_fn=<CatBackward0>)\n",
      "torch.Size([50, 1])\n",
      "torch.Size([50, 1])\n",
      "74 tensor(0.0002, grad_fn=<MseLossBackward0>) tensor([ 0.0113, -0.0198]) tensor([-1.9914,  1.9844], grad_fn=<CatBackward0>)\n",
      "torch.Size([50, 1])\n",
      "torch.Size([50, 1])\n",
      "74 tensor(0.0004, grad_fn=<MseLossBackward0>) tensor([ 0.0314, -0.0383]) tensor([-1.9915,  1.9846], grad_fn=<CatBackward0>)\n",
      "torch.Size([50, 1])\n",
      "torch.Size([50, 1])\n",
      "74 tensor(0.0002, grad_fn=<MseLossBackward0>) tensor([ 0.0098, -0.0193]) tensor([-1.9918,  1.9850], grad_fn=<CatBackward0>)\n",
      "torch.Size([50, 1])\n",
      "torch.Size([50, 1])\n",
      "75 tensor(0.0002, grad_fn=<MseLossBackward0>) tensor([ 0.0074, -0.0234]) tensor([-1.9919,  1.9852], grad_fn=<CatBackward0>)\n",
      "torch.Size([50, 1])\n",
      "torch.Size([50, 1])\n",
      "75 tensor(0.0002, grad_fn=<MseLossBackward0>) tensor([ 0.0106, -0.0185]) tensor([-1.9920,  1.9854], grad_fn=<CatBackward0>)\n",
      "torch.Size([50, 1])\n",
      "torch.Size([50, 1])\n",
      "75 tensor(0.0004, grad_fn=<MseLossBackward0>) tensor([ 0.0293, -0.0358]) tensor([-1.9921,  1.9856], grad_fn=<CatBackward0>)\n",
      "torch.Size([50, 1])\n",
      "torch.Size([50, 1])\n",
      "75 tensor(0.0002, grad_fn=<MseLossBackward0>) tensor([ 0.0092, -0.0180]) tensor([-1.9924,  1.9860], grad_fn=<CatBackward0>)\n",
      "torch.Size([50, 1])\n",
      "torch.Size([50, 1])\n",
      "76 tensor(0.0002, grad_fn=<MseLossBackward0>) tensor([ 0.0069, -0.0219]) tensor([-1.9924,  1.9862], grad_fn=<CatBackward0>)\n",
      "torch.Size([50, 1])\n",
      "torch.Size([50, 1])\n",
      "76 tensor(0.0002, grad_fn=<MseLossBackward0>) tensor([ 0.0099, -0.0173]) tensor([-1.9925,  1.9864], grad_fn=<CatBackward0>)\n",
      "torch.Size([50, 1])\n",
      "torch.Size([50, 1])\n",
      "76 tensor(0.0003, grad_fn=<MseLossBackward0>) tensor([ 0.0273, -0.0335]) tensor([-1.9926,  1.9866], grad_fn=<CatBackward0>)\n",
      "torch.Size([50, 1])\n",
      "torch.Size([50, 1])\n",
      "76 tensor(0.0001, grad_fn=<MseLossBackward0>) tensor([ 0.0086, -0.0168]) tensor([-1.9929,  1.9869], grad_fn=<CatBackward0>)\n",
      "torch.Size([50, 1])\n",
      "torch.Size([50, 1])\n",
      "77 tensor(0.0002, grad_fn=<MseLossBackward0>) tensor([ 0.0064, -0.0205]) tensor([-1.9930,  1.9871], grad_fn=<CatBackward0>)\n",
      "torch.Size([50, 1])\n",
      "torch.Size([50, 1])\n",
      "77 tensor(0.0001, grad_fn=<MseLossBackward0>) tensor([ 0.0092, -0.0162]) tensor([-1.9930,  1.9873], grad_fn=<CatBackward0>)\n",
      "torch.Size([50, 1])\n",
      "torch.Size([50, 1])\n",
      "77 tensor(0.0003, grad_fn=<MseLossBackward0>) tensor([ 0.0255, -0.0313]) tensor([-1.9931,  1.9874], grad_fn=<CatBackward0>)\n",
      "torch.Size([50, 1])\n",
      "torch.Size([50, 1])\n",
      "77 tensor(0.0001, grad_fn=<MseLossBackward0>) tensor([ 0.0080, -0.0157]) tensor([-1.9934,  1.9877], grad_fn=<CatBackward0>)\n",
      "torch.Size([50, 1])\n",
      "torch.Size([50, 1])\n",
      "78 tensor(0.0001, grad_fn=<MseLossBackward0>) tensor([ 0.0060, -0.0191]) tensor([-1.9935,  1.9879], grad_fn=<CatBackward0>)\n",
      "torch.Size([50, 1])\n",
      "torch.Size([50, 1])\n",
      "78 tensor(0.0001, grad_fn=<MseLossBackward0>) tensor([ 0.0086, -0.0151]) tensor([-1.9935,  1.9881], grad_fn=<CatBackward0>)\n",
      "torch.Size([50, 1])\n",
      "torch.Size([50, 1])\n",
      "78 tensor(0.0003, grad_fn=<MseLossBackward0>) tensor([ 0.0238, -0.0292]) tensor([-1.9936,  1.9882], grad_fn=<CatBackward0>)\n",
      "torch.Size([50, 1])\n",
      "torch.Size([50, 1])\n",
      "78 tensor(0.0001, grad_fn=<MseLossBackward0>) tensor([ 0.0074, -0.0146]) tensor([-1.9938,  1.9885], grad_fn=<CatBackward0>)\n",
      "torch.Size([50, 1])\n",
      "torch.Size([50, 1])\n",
      "79 tensor(0.0001, grad_fn=<MseLossBackward0>) tensor([ 0.0056, -0.0179]) tensor([-1.9939,  1.9887], grad_fn=<CatBackward0>)\n",
      "torch.Size([50, 1])\n",
      "torch.Size([50, 1])\n",
      "79 tensor(0.0001, grad_fn=<MseLossBackward0>) tensor([ 0.0080, -0.0142]) tensor([-1.9940,  1.9889], grad_fn=<CatBackward0>)\n",
      "torch.Size([50, 1])\n",
      "torch.Size([50, 1])\n",
      "79 tensor(0.0002, grad_fn=<MseLossBackward0>) tensor([ 0.0222, -0.0273]) tensor([-1.9941,  1.9890], grad_fn=<CatBackward0>)\n",
      "torch.Size([50, 1])\n",
      "torch.Size([50, 1])\n",
      "79 tensor(9.4342e-05, grad_fn=<MseLossBackward0>) tensor([ 0.0069, -0.0137]) tensor([-1.9943,  1.9893], grad_fn=<CatBackward0>)\n",
      "torch.Size([50, 1])\n",
      "torch.Size([50, 1])\n",
      "80 tensor(0.0001, grad_fn=<MseLossBackward0>) tensor([ 0.0052, -0.0167]) tensor([-1.9943,  1.9894], grad_fn=<CatBackward0>)\n",
      "torch.Size([50, 1])\n",
      "torch.Size([50, 1])\n",
      "80 tensor(9.3278e-05, grad_fn=<MseLossBackward0>) tensor([ 0.0075, -0.0132]) tensor([-1.9944,  1.9896], grad_fn=<CatBackward0>)\n",
      "torch.Size([50, 1])\n",
      "torch.Size([50, 1])\n",
      "80 tensor(0.0002, grad_fn=<MseLossBackward0>) tensor([ 0.0207, -0.0255]) tensor([-1.9945,  1.9897], grad_fn=<CatBackward0>)\n",
      "torch.Size([50, 1])\n",
      "torch.Size([50, 1])\n",
      "80 tensor(8.2517e-05, grad_fn=<MseLossBackward0>) tensor([ 0.0065, -0.0127]) tensor([-1.9947,  1.9900], grad_fn=<CatBackward0>)\n",
      "torch.Size([50, 1])\n",
      "torch.Size([50, 1])\n",
      "81 tensor(9.3061e-05, grad_fn=<MseLossBackward0>) tensor([ 0.0048, -0.0156]) tensor([-1.9947,  1.9901], grad_fn=<CatBackward0>)\n",
      "torch.Size([50, 1])\n",
      "torch.Size([50, 1])\n",
      "81 tensor(8.1832e-05, grad_fn=<MseLossBackward0>) tensor([ 0.0070, -0.0124]) tensor([-1.9948,  1.9902], grad_fn=<CatBackward0>)\n",
      "torch.Size([50, 1])\n",
      "torch.Size([50, 1])\n",
      "81 tensor(0.0002, grad_fn=<MseLossBackward0>) tensor([ 0.0193, -0.0238]) tensor([-1.9949,  1.9904], grad_fn=<CatBackward0>)\n",
      "torch.Size([50, 1])\n",
      "torch.Size([50, 1])\n",
      "81 tensor(7.2214e-05, grad_fn=<MseLossBackward0>) tensor([ 0.0060, -0.0119]) tensor([-1.9951,  1.9906], grad_fn=<CatBackward0>)\n",
      "torch.Size([50, 1])\n",
      "torch.Size([50, 1])\n",
      "82 tensor(8.1690e-05, grad_fn=<MseLossBackward0>) tensor([ 0.0045, -0.0146]) tensor([-1.9951,  1.9907], grad_fn=<CatBackward0>)\n",
      "torch.Size([50, 1])\n",
      "torch.Size([50, 1])\n"
     ]
    },
    {
     "name": "stdout",
     "output_type": "stream",
     "text": [
      "82 tensor(7.1845e-05, grad_fn=<MseLossBackward0>) tensor([ 0.0065, -0.0116]) tensor([-1.9952,  1.9909], grad_fn=<CatBackward0>)\n",
      "torch.Size([50, 1])\n",
      "torch.Size([50, 1])\n",
      "82 tensor(0.0001, grad_fn=<MseLossBackward0>) tensor([ 0.0180, -0.0223]) tensor([-1.9952,  1.9910], grad_fn=<CatBackward0>)\n",
      "torch.Size([50, 1])\n",
      "torch.Size([50, 1])\n",
      "82 tensor(6.3238e-05, grad_fn=<MseLossBackward0>) tensor([ 0.0056, -0.0111]) tensor([-1.9954,  1.9912], grad_fn=<CatBackward0>)\n",
      "torch.Size([50, 1])\n",
      "torch.Size([50, 1])\n",
      "83 tensor(7.1765e-05, grad_fn=<MseLossBackward0>) tensor([ 0.0042, -0.0137]) tensor([-1.9955,  1.9913], grad_fn=<CatBackward0>)\n",
      "torch.Size([50, 1])\n",
      "torch.Size([50, 1])\n",
      "83 tensor(6.3130e-05, grad_fn=<MseLossBackward0>) tensor([ 0.0061, -0.0108]) tensor([-1.9955,  1.9915], grad_fn=<CatBackward0>)\n",
      "torch.Size([50, 1])\n",
      "torch.Size([50, 1])\n",
      "83 tensor(0.0001, grad_fn=<MseLossBackward0>) tensor([ 0.0168, -0.0208]) tensor([-1.9956,  1.9916], grad_fn=<CatBackward0>)\n",
      "torch.Size([50, 1])\n",
      "torch.Size([50, 1])\n",
      "83 tensor(5.5417e-05, grad_fn=<MseLossBackward0>) tensor([ 0.0053, -0.0103]) tensor([-1.9957,  1.9918], grad_fn=<CatBackward0>)\n",
      "torch.Size([50, 1])\n",
      "torch.Size([50, 1])\n",
      "84 tensor(6.3099e-05, grad_fn=<MseLossBackward0>) tensor([ 0.0039, -0.0128]) tensor([-1.9958,  1.9919], grad_fn=<CatBackward0>)\n",
      "torch.Size([50, 1])\n",
      "torch.Size([50, 1])\n",
      "84 tensor(5.5524e-05, grad_fn=<MseLossBackward0>) tensor([ 0.0057, -0.0101]) tensor([-1.9958,  1.9920], grad_fn=<CatBackward0>)\n",
      "torch.Size([50, 1])\n",
      "torch.Size([50, 1])\n",
      "84 tensor(0.0001, grad_fn=<MseLossBackward0>) tensor([ 0.0156, -0.0195]) tensor([-1.9959,  1.9921], grad_fn=<CatBackward0>)\n",
      "torch.Size([50, 1])\n",
      "torch.Size([50, 1])\n",
      "84 tensor(4.8604e-05, grad_fn=<MseLossBackward0>) tensor([ 0.0049, -0.0096]) tensor([-1.9960,  1.9923], grad_fn=<CatBackward0>)\n",
      "torch.Size([50, 1])\n",
      "torch.Size([50, 1])\n",
      "85 tensor(5.5532e-05, grad_fn=<MseLossBackward0>) tensor([ 0.0036, -0.0120]) tensor([-1.9961,  1.9924], grad_fn=<CatBackward0>)\n",
      "torch.Size([50, 1])\n",
      "torch.Size([50, 1])\n",
      "85 tensor(4.8886e-05, grad_fn=<MseLossBackward0>) tensor([ 0.0053, -0.0094]) tensor([-1.9961,  1.9925], grad_fn=<CatBackward0>)\n",
      "torch.Size([50, 1])\n",
      "torch.Size([50, 1])\n",
      "85 tensor(9.8461e-05, grad_fn=<MseLossBackward0>) tensor([ 0.0146, -0.0182]) tensor([-1.9962,  1.9926], grad_fn=<CatBackward0>)\n",
      "torch.Size([50, 1])\n",
      "torch.Size([50, 1])\n",
      "85 tensor(4.2668e-05, grad_fn=<MseLossBackward0>) tensor([ 0.0046, -0.0090]) tensor([-1.9963,  1.9928], grad_fn=<CatBackward0>)\n",
      "torch.Size([50, 1])\n",
      "torch.Size([50, 1])\n",
      "86 tensor(4.8926e-05, grad_fn=<MseLossBackward0>) tensor([ 0.0034, -0.0112]) tensor([-1.9964,  1.9929], grad_fn=<CatBackward0>)\n",
      "torch.Size([50, 1])\n",
      "torch.Size([50, 1])\n",
      "86 tensor(4.3093e-05, grad_fn=<MseLossBackward0>) tensor([ 0.0050, -0.0088]) tensor([-1.9964,  1.9930], grad_fn=<CatBackward0>)\n",
      "torch.Size([50, 1])\n",
      "torch.Size([50, 1])\n",
      "86 tensor(8.6293e-05, grad_fn=<MseLossBackward0>) tensor([ 0.0136, -0.0170]) tensor([-1.9964,  1.9931], grad_fn=<CatBackward0>)\n",
      "torch.Size([50, 1])\n",
      "torch.Size([50, 1])\n",
      "86 tensor(3.7499e-05, grad_fn=<MseLossBackward0>) tensor([ 0.0043, -0.0084]) tensor([-1.9966,  1.9933], grad_fn=<CatBackward0>)\n",
      "torch.Size([50, 1])\n",
      "torch.Size([50, 1])\n",
      "87 tensor(4.3159e-05, grad_fn=<MseLossBackward0>) tensor([ 0.0032, -0.0105]) tensor([-1.9966,  1.9933], grad_fn=<CatBackward0>)\n",
      "torch.Size([50, 1])\n",
      "torch.Size([50, 1])\n",
      "87 tensor(3.8036e-05, grad_fn=<MseLossBackward0>) tensor([ 0.0046, -0.0082]) tensor([-1.9967,  1.9934], grad_fn=<CatBackward0>)\n",
      "torch.Size([50, 1])\n",
      "torch.Size([50, 1])\n",
      "87 tensor(7.5681e-05, grad_fn=<MseLossBackward0>) tensor([ 0.0127, -0.0159]) tensor([-1.9967,  1.9935], grad_fn=<CatBackward0>)\n",
      "torch.Size([50, 1])\n",
      "torch.Size([50, 1])\n",
      "87 tensor(3.2998e-05, grad_fn=<MseLossBackward0>) tensor([ 0.0040, -0.0078]) tensor([-1.9968,  1.9937], grad_fn=<CatBackward0>)\n",
      "torch.Size([50, 1])\n",
      "torch.Size([50, 1])\n",
      "88 tensor(3.8122e-05, grad_fn=<MseLossBackward0>) tensor([ 0.0029, -0.0098]) tensor([-1.9969,  1.9938], grad_fn=<CatBackward0>)\n",
      "torch.Size([50, 1])\n",
      "torch.Size([50, 1])\n",
      "88 tensor(3.3622e-05, grad_fn=<MseLossBackward0>) tensor([ 0.0043, -0.0077]) tensor([-1.9969,  1.9939], grad_fn=<CatBackward0>)\n",
      "torch.Size([50, 1])\n",
      "torch.Size([50, 1])\n",
      "88 tensor(6.6424e-05, grad_fn=<MseLossBackward0>) tensor([ 0.0118, -0.0149]) tensor([-1.9969,  1.9939], grad_fn=<CatBackward0>)\n",
      "torch.Size([50, 1])\n",
      "torch.Size([50, 1])\n",
      "88 tensor(2.9078e-05, grad_fn=<MseLossBackward0>) tensor([ 0.0037, -0.0073]) tensor([-1.9971,  1.9941], grad_fn=<CatBackward0>)\n",
      "torch.Size([50, 1])\n",
      "torch.Size([50, 1])\n",
      "89 tensor(3.3723e-05, grad_fn=<MseLossBackward0>) tensor([ 0.0027, -0.0092]) tensor([-1.9971,  1.9942], grad_fn=<CatBackward0>)\n",
      "torch.Size([50, 1])\n",
      "torch.Size([50, 1])\n",
      "89 tensor(2.9769e-05, grad_fn=<MseLossBackward0>) tensor([ 0.0040, -0.0072]) tensor([-1.9971,  1.9942], grad_fn=<CatBackward0>)\n",
      "torch.Size([50, 1])\n",
      "torch.Size([50, 1])\n",
      "89 tensor(5.8353e-05, grad_fn=<MseLossBackward0>) tensor([ 0.0110, -0.0139]) tensor([-1.9972,  1.9943], grad_fn=<CatBackward0>)\n",
      "torch.Size([50, 1])\n",
      "torch.Size([50, 1])\n",
      "89 tensor(2.5665e-05, grad_fn=<MseLossBackward0>) tensor([ 0.0035, -0.0068]) tensor([-1.9973,  1.9945], grad_fn=<CatBackward0>)\n",
      "torch.Size([50, 1])\n",
      "torch.Size([50, 1])\n",
      "90 tensor(2.9881e-05, grad_fn=<MseLossBackward0>) tensor([ 0.0026, -0.0086]) tensor([-1.9973,  1.9945], grad_fn=<CatBackward0>)\n",
      "torch.Size([50, 1])\n",
      "torch.Size([50, 1])\n",
      "90 tensor(2.6407e-05, grad_fn=<MseLossBackward0>) tensor([ 0.0038, -0.0067]) tensor([-1.9973,  1.9946], grad_fn=<CatBackward0>)\n",
      "torch.Size([50, 1])\n",
      "torch.Size([50, 1])\n",
      "90 tensor(5.1313e-05, grad_fn=<MseLossBackward0>) tensor([ 0.0102, -0.0130]) tensor([-1.9974,  1.9947], grad_fn=<CatBackward0>)\n",
      "torch.Size([50, 1])\n",
      "torch.Size([50, 1])\n",
      "90 tensor(2.2694e-05, grad_fn=<MseLossBackward0>) tensor([ 0.0032, -0.0063]) tensor([-1.9975,  1.9948], grad_fn=<CatBackward0>)\n",
      "torch.Size([50, 1])\n",
      "torch.Size([50, 1])\n",
      "91 tensor(2.6527e-05, grad_fn=<MseLossBackward0>) tensor([ 0.0024, -0.0080]) tensor([-1.9975,  1.9949], grad_fn=<CatBackward0>)\n",
      "torch.Size([50, 1])\n",
      "torch.Size([50, 1])\n",
      "91 tensor(2.3471e-05, grad_fn=<MseLossBackward0>) tensor([ 0.0035, -0.0063]) tensor([-1.9975,  1.9950], grad_fn=<CatBackward0>)\n",
      "torch.Size([50, 1])\n",
      "torch.Size([50, 1])\n",
      "91 tensor(4.5176e-05, grad_fn=<MseLossBackward0>) tensor([ 0.0095, -0.0121]) tensor([-1.9976,  1.9950], grad_fn=<CatBackward0>)\n",
      "torch.Size([50, 1])\n",
      "torch.Size([50, 1])\n",
      "91 tensor(2.0108e-05, grad_fn=<MseLossBackward0>) tensor([ 0.0030, -0.0059]) tensor([-1.9977,  1.9951], grad_fn=<CatBackward0>)\n",
      "torch.Size([50, 1])\n",
      "torch.Size([50, 1])\n",
      "92 tensor(2.3598e-05, grad_fn=<MseLossBackward0>) tensor([ 0.0022, -0.0075]) tensor([-1.9977,  1.9952], grad_fn=<CatBackward0>)\n",
      "torch.Size([50, 1])\n",
      "torch.Size([50, 1])\n",
      "92 tensor(2.0908e-05, grad_fn=<MseLossBackward0>) tensor([ 0.0033, -0.0059]) tensor([-1.9977,  1.9953], grad_fn=<CatBackward0>)\n",
      "torch.Size([50, 1])\n",
      "torch.Size([50, 1])\n",
      "92 tensor(3.9820e-05, grad_fn=<MseLossBackward0>) tensor([ 0.0089, -0.0113]) tensor([-1.9977,  1.9953], grad_fn=<CatBackward0>)\n",
      "torch.Size([50, 1])\n",
      "torch.Size([50, 1])\n",
      "92 tensor(1.7858e-05, grad_fn=<MseLossBackward0>) tensor([ 0.0028, -0.0055]) tensor([-1.9978,  1.9954], grad_fn=<CatBackward0>)\n",
      "torch.Size([50, 1])\n",
      "torch.Size([50, 1])\n",
      "93 tensor(2.1039e-05, grad_fn=<MseLossBackward0>) tensor([ 0.0021, -0.0070]) tensor([-1.9979,  1.9955], grad_fn=<CatBackward0>)\n",
      "torch.Size([50, 1])\n",
      "torch.Size([50, 1])\n",
      "93 tensor(1.8671e-05, grad_fn=<MseLossBackward0>) tensor([ 0.0031, -0.0055]) tensor([-1.9979,  1.9956], grad_fn=<CatBackward0>)\n",
      "torch.Size([50, 1])\n",
      "torch.Size([50, 1])\n",
      "93 tensor(3.5153e-05, grad_fn=<MseLossBackward0>) tensor([ 0.0083, -0.0106]) tensor([-1.9979,  1.9956], grad_fn=<CatBackward0>)\n",
      "torch.Size([50, 1])\n",
      "torch.Size([50, 1])\n",
      "93 tensor(1.5900e-05, grad_fn=<MseLossBackward0>) tensor([ 0.0026, -0.0051]) tensor([-1.9980,  1.9957], grad_fn=<CatBackward0>)\n",
      "torch.Size([50, 1])\n",
      "torch.Size([50, 1])\n",
      "94 tensor(1.8804e-05, grad_fn=<MseLossBackward0>) tensor([ 0.0019, -0.0066]) tensor([-1.9980,  1.9958], grad_fn=<CatBackward0>)\n",
      "torch.Size([50, 1])\n",
      "torch.Size([50, 1])\n",
      "94 tensor(1.6717e-05, grad_fn=<MseLossBackward0>) tensor([ 0.0029, -0.0051]) tensor([-1.9980,  1.9958], grad_fn=<CatBackward0>)\n",
      "torch.Size([50, 1])\n",
      "torch.Size([50, 1])\n",
      "94 tensor(3.1082e-05, grad_fn=<MseLossBackward0>) tensor([ 0.0077, -0.0099]) tensor([-1.9981,  1.9959], grad_fn=<CatBackward0>)\n",
      "torch.Size([50, 1])\n",
      "torch.Size([50, 1])\n",
      "94 tensor(1.4197e-05, grad_fn=<MseLossBackward0>) tensor([ 0.0025, -0.0047]) tensor([-1.9982,  1.9960], grad_fn=<CatBackward0>)\n",
      "torch.Size([50, 1])\n",
      "torch.Size([50, 1])\n",
      "95 tensor(1.6851e-05, grad_fn=<MseLossBackward0>) tensor([ 0.0018, -0.0061]) tensor([-1.9982,  1.9960], grad_fn=<CatBackward0>)\n",
      "torch.Size([50, 1])\n",
      "torch.Size([50, 1])\n",
      "95 tensor(1.5011e-05, grad_fn=<MseLossBackward0>) tensor([ 0.0027, -0.0048]) tensor([-1.9982,  1.9961], grad_fn=<CatBackward0>)\n",
      "torch.Size([50, 1])\n",
      "torch.Size([50, 1])\n",
      "95 tensor(2.7530e-05, grad_fn=<MseLossBackward0>) tensor([ 0.0072, -0.0093]) tensor([-1.9982,  1.9962], grad_fn=<CatBackward0>)\n",
      "torch.Size([50, 1])\n",
      "torch.Size([50, 1])\n",
      "95 tensor(1.2716e-05, grad_fn=<MseLossBackward0>) tensor([ 0.0023, -0.0044]) tensor([-1.9983,  1.9962], grad_fn=<CatBackward0>)\n",
      "torch.Size([50, 1])\n",
      "torch.Size([50, 1])\n",
      "96 tensor(1.5146e-05, grad_fn=<MseLossBackward0>) tensor([ 0.0017, -0.0057]) tensor([-1.9983,  1.9963], grad_fn=<CatBackward0>)\n",
      "torch.Size([50, 1])\n",
      "torch.Size([50, 1])\n",
      "96 tensor(1.3522e-05, grad_fn=<MseLossBackward0>) tensor([ 0.0025, -0.0045]) tensor([-1.9983,  1.9963], grad_fn=<CatBackward0>)\n",
      "torch.Size([50, 1])\n",
      "torch.Size([50, 1])\n",
      "96 tensor(2.4433e-05, grad_fn=<MseLossBackward0>) tensor([ 0.0067, -0.0087]) tensor([-1.9984,  1.9964], grad_fn=<CatBackward0>)\n",
      "torch.Size([50, 1])\n",
      "torch.Size([50, 1])\n",
      "96 tensor(1.1427e-05, grad_fn=<MseLossBackward0>) tensor([ 0.0022, -0.0041]) tensor([-1.9984,  1.9965], grad_fn=<CatBackward0>)\n",
      "torch.Size([50, 1])\n",
      "torch.Size([50, 1])\n",
      "97 tensor(1.3656e-05, grad_fn=<MseLossBackward0>) tensor([ 0.0016, -0.0054]) tensor([-1.9984,  1.9965], grad_fn=<CatBackward0>)\n",
      "torch.Size([50, 1])\n",
      "torch.Size([50, 1])\n",
      "97 tensor(1.2221e-05, grad_fn=<MseLossBackward0>) tensor([ 0.0024, -0.0042]) tensor([-1.9985,  1.9966], grad_fn=<CatBackward0>)\n",
      "torch.Size([50, 1])\n",
      "torch.Size([50, 1])\n",
      "97 tensor(2.1733e-05, grad_fn=<MseLossBackward0>) tensor([ 0.0062, -0.0081]) tensor([-1.9985,  1.9966], grad_fn=<CatBackward0>)\n",
      "torch.Size([50, 1])\n",
      "torch.Size([50, 1])\n",
      "97 tensor(1.0308e-05, grad_fn=<MseLossBackward0>) tensor([ 0.0020, -0.0038]) tensor([-1.9985,  1.9967], grad_fn=<CatBackward0>)\n",
      "torch.Size([50, 1])\n",
      "torch.Size([50, 1])\n",
      "98 tensor(1.2354e-05, grad_fn=<MseLossBackward0>) tensor([ 0.0014, -0.0050]) tensor([-1.9986,  1.9967], grad_fn=<CatBackward0>)\n",
      "torch.Size([50, 1])\n",
      "torch.Size([50, 1])\n",
      "98 tensor(1.1085e-05, grad_fn=<MseLossBackward0>) tensor([ 0.0022, -0.0039]) tensor([-1.9986,  1.9968], grad_fn=<CatBackward0>)\n",
      "torch.Size([50, 1])\n",
      "torch.Size([50, 1])\n"
     ]
    },
    {
     "name": "stdout",
     "output_type": "stream",
     "text": [
      "98 tensor(1.9377e-05, grad_fn=<MseLossBackward0>) tensor([ 0.0058, -0.0076]) tensor([-1.9986,  1.9968], grad_fn=<CatBackward0>)\n",
      "torch.Size([50, 1])\n",
      "torch.Size([50, 1])\n",
      "98 tensor(9.3351e-06, grad_fn=<MseLossBackward0>) tensor([ 0.0019, -0.0035]) tensor([-1.9987,  1.9969], grad_fn=<CatBackward0>)\n",
      "torch.Size([50, 1])\n",
      "torch.Size([50, 1])\n",
      "99 tensor(1.1216e-05, grad_fn=<MseLossBackward0>) tensor([ 0.0013, -0.0047]) tensor([-1.9987,  1.9969], grad_fn=<CatBackward0>)\n",
      "torch.Size([50, 1])\n",
      "torch.Size([50, 1])\n",
      "99 tensor(1.0093e-05, grad_fn=<MseLossBackward0>) tensor([ 0.0021, -0.0037]) tensor([-1.9987,  1.9970], grad_fn=<CatBackward0>)\n",
      "torch.Size([50, 1])\n",
      "torch.Size([50, 1])\n",
      "99 tensor(1.7321e-05, grad_fn=<MseLossBackward0>) tensor([ 0.0054, -0.0071]) tensor([-1.9987,  1.9970], grad_fn=<CatBackward0>)\n",
      "torch.Size([50, 1])\n",
      "torch.Size([50, 1])\n",
      "99 tensor(8.4893e-06, grad_fn=<MseLossBackward0>) tensor([ 0.0018, -0.0033]) tensor([-1.9988,  1.9971], grad_fn=<CatBackward0>)\n"
     ]
    }
   ],
   "source": [
    "model = MLP_Net(user_id=0)\n",
    "\n",
    "lr = 0.01\n",
    "\n",
    "dataloader = DataLoader(MyDataset(datapoints[19][\"features\"], datapoints[19][\"label\"]), batch_size=50, shuffle=False)\n",
    "optimizer = torch.optim.SGD(model.parameters(), lr=0.01)\n",
    "for i in range(100):\n",
    "    for (x, y) in dataloader:\n",
    "        criterion = nn.MSELoss()\n",
    "        optimizer.zero_grad()\n",
    "        yhat = model(x)\n",
    "        print(y.size())\n",
    "        print(yhat.size())\n",
    "        loss = criterion(yhat, y)\n",
    "        \n",
    "        loss.backward()\n",
    "        print(i, loss, grads_to_vector(model.parameters()), parameters_to_vector(model.parameters()))\n",
    "        #optimizer.step()\n",
    "        new_model = parameters_to_vector(model.parameters()) - lr * grads_to_vector(model.parameters())\n",
    "        vector_to_parameters(parameters=model.parameters(), vec=new_model)\n",
    "        #if i % 50 ==0:\n",
    "            #lr *= 0.9\n",
    "            \n",
    "\n",
    "#parameters_to_vector(model.parameters())"
   ]
  },
  {
   "cell_type": "code",
   "execution_count": 11,
   "id": "5eb22da2",
   "metadata": {},
   "outputs": [
    {
     "data": {
      "text/plain": [
       "tensor([-1.9988,  1.9971], grad_fn=<CatBackward0>)"
      ]
     },
     "execution_count": 11,
     "metadata": {},
     "output_type": "execute_result"
    }
   ],
   "source": [
    "parameters_to_vector(model.parameters())"
   ]
  },
  {
   "cell_type": "code",
   "execution_count": 12,
   "id": "52396ca6",
   "metadata": {},
   "outputs": [],
   "source": [
    "class CNN_Net(nn.Module):\n",
    "    def __init__(self):\n",
    "        super(CNN_Net, self).__init__()\n",
    "        self.conv1 = nn.Conv2d(1, 32, kernel_size=5)\n",
    "        self.conv2 = nn.Conv2d(32, 64, kernel_size=5)\n",
    "        self.pool = nn.MaxPool2d(2,2)\n",
    "        self.dropout = nn.Dropout(p=0.2)\n",
    "        self.fc1 = nn.Linear(1024, 512)\n",
    "        self.fc2 = nn.Linear(512, 10)\n",
    "\n",
    "    def forward(self, x):\n",
    "        x = self.pool(F.relu(self.conv1(x)))\n",
    "        x = self.pool(F.relu(self.conv2(x)))\n",
    "        x = self.dropout(x)\n",
    "        x = torch.flatten(x, 1)\n",
    "        x = F.relu(self.fc1(x))\n",
    "        output = self.fc2(x)\n",
    "        return output"
   ]
  },
  {
   "cell_type": "code",
   "execution_count": 13,
   "id": "cb5fe42b",
   "metadata": {},
   "outputs": [],
   "source": [
    "class ClientUpdate(object):\n",
    "    def __init__(self, dataset, batchSize, alpha, lamda, epochs, projection_list, projected_weights):\n",
    "        self.train_loader = DataLoader(MyDataset(dataset[\"features\"], dataset[\"label\"]), batch_size=batchSize, shuffle=True)\n",
    "        #self.learning_rate = learning_rate\n",
    "        self.epochs = epochs\n",
    "        self.batchSize = batchSize\n",
    "\n",
    "    def train(self, model):\n",
    "        criterion = nn.MSELoss()\n",
    "        optimizer = torch.optim.SGD(model.parameters(), lr=1e-3, momentum=0.5)\n",
    "\n",
    "        e_loss = []\n",
    "        for epoch in range(1, self.epochs+1):\n",
    "            train_loss = 0\n",
    "            model.train()\n",
    "            for i, (data, labels) in zip(range(1), self.train_loader):\n",
    "                data, labels = data, labels\n",
    "                optimizer.zero_grad() \n",
    "                output = model(data)  \n",
    "                loss = criterion(output, labels)\n",
    "                #loss += mu/2 * torch.norm(client_param.data - server_param.data)**2\n",
    "                loss.backward()\n",
    "                grads = grads_to_vector(model.parameters())\n",
    "                #optimizer.step()\n",
    "                train_loss += loss.item()*data.size(0)\n",
    "                weights = parameters_to_vector(model.parameters())\n",
    "                mat_vec_sum = torch.zeros_like(weights)\n",
    "                for j in G.neighbors(model.user_id):\n",
    "                    mat_vec_sum = torch.add(mat_vec_sum, torch.matmul(torch.transpose(projection_list[model.user_id][j], 0, 1), \n",
    "                                                         projected_weights[j][model.user_id] - projected_weights[model.user_id][j]))\n",
    "                \n",
    "                model_update = parameters_to_vector(model.parameters()) - alpha * (grads + lamda * mat_vec_sum)\n",
    "                \n",
    "            vector_to_parameters(parameters=model.parameters(), vec=model_update)\n",
    "                \n",
    "\n",
    "            train_loss = train_loss/self.batchSize#len(self.train_loader.dataset) \n",
    "            e_loss.append(train_loss)\n",
    "\n",
    "        total_loss = e_loss#sum(e_loss)/len(e_loss)\n",
    "\n",
    "        return model.state_dict(), total_loss"
   ]
  },
  {
   "cell_type": "code",
   "execution_count": 14,
   "id": "2eeef5b5",
   "metadata": {},
   "outputs": [],
   "source": [
    "# Preparing projection matrices\n",
    "models = [MLP_Net(user_id=i) for i in range(no_users)]\n",
    "#temp = MLP_Net()\n",
    "projection_list = []\n",
    "projected_weights = []\n",
    "\n",
    "def update_ProjWeight(projection_list, projected_weights, first_run=True):\n",
    "    #projected_weights = []\n",
    "    for i in range(no_users):\n",
    "        neighbors_mat = []\n",
    "        neighbors_weights = []\n",
    "        for j in range(no_users):\n",
    "            if j in G.neighbors(i):\n",
    "                with torch.no_grad():\n",
    "                    if first_run == True:\n",
    "                        row, column = parameters_to_vector(models[j].parameters()).size()[0], parameters_to_vector(models[i].parameters()).size()[0]\n",
    "                        mat = torch.zeros((row, column))\n",
    "                        mat.fill_diagonal_(1.0 + 1.0 * float(np.random.randn(1)))\n",
    "                        neighbors_mat.append(mat)\n",
    "                        neighbors_weights.append(torch.matmul(mat, parameters_to_vector(models[j].parameters())))\n",
    "                    else:\n",
    "                        neighbors_weights.append(torch.matmul(projection_list[j][i], parameters_to_vector(models[j].parameters())))\n",
    "            else:\n",
    "                neighbors_mat.append(0)\n",
    "                neighbors_weights.append(0)\n",
    "        if first_run == True:\n",
    "            projection_list.append(neighbors_mat)\n",
    "        projected_weights.append(neighbors_weights)\n",
    "\n",
    "update_ProjWeight(projection_list, projected_weights)\n",
    "\n"
   ]
  },
  {
   "cell_type": "code",
   "execution_count": 15,
   "id": "f733ee68",
   "metadata": {},
   "outputs": [
    {
     "name": "stdout",
     "output_type": "stream",
     "text": [
      "[0, 0, 0, 0, tensor([[1.0796, 0.0000],\n",
      "        [0.0000, 1.0796]]), tensor([[0.2804, 0.0000],\n",
      "        [0.0000, 0.2804]]), tensor([[1.8262, 0.0000],\n",
      "        [0.0000, 1.8262]]), tensor([[2.2648, 0.0000],\n",
      "        [0.0000, 2.2648]]), tensor([[1.2421, 0.0000],\n",
      "        [0.0000, 1.2421]]), tensor([[0.3798, 0.0000],\n",
      "        [0.0000, 0.3798]]), 0, 0, tensor([[-0.0181,  0.0000],\n",
      "        [ 0.0000, -0.0181]]), 0, 0, 0, 0, 0, 0, 0]\n"
     ]
    }
   ],
   "source": [
    "print(projection_list[0])"
   ]
  },
  {
   "cell_type": "code",
   "execution_count": 16,
   "id": "5f6059eb",
   "metadata": {},
   "outputs": [],
   "source": [
    "def testing(model, dataset, bs, criterion): \n",
    "    test_loss = 0\n",
    "    correct = 0\n",
    "    test_loader = DataLoader(MyDataset(dataset[\"features\"], dataset[\"label\"]), batch_size=bs)\n",
    "    l = len(test_loader)\n",
    "    model.eval()\n",
    "    for data, labels in test_loader:\n",
    "        data, labels = data, labels\n",
    "        output = model(data)\n",
    "        loss = criterion(output, labels)\n",
    "        test_loss += loss.item()*data.size(0)\n",
    "        #_, pred = torch.max(output, 1)\n",
    "        #correct += pred.eq(labels.data.view_as(pred)).sum().item()\n",
    "    \n",
    "    test_loss /= len(test_loader.dataset)\n",
    "    \n",
    "    return test_loss"
   ]
  },
  {
   "cell_type": "code",
   "execution_count": 17,
   "id": "f172f558",
   "metadata": {},
   "outputs": [],
   "source": [
    "def rel_error(model):\n",
    "    return (torch.norm(parameters_to_vector(model.parameters()) - datapoints[model.user_id]['exact_weights']) / torch.norm(datapoints[model.user_id]['exact_weights'])).detach()"
   ]
  },
  {
   "cell_type": "code",
   "execution_count": 18,
   "id": "6e38148f",
   "metadata": {},
   "outputs": [
    {
     "data": {
      "text/plain": [
       "tensor(2.8284, dtype=torch.float64)"
      ]
     },
     "execution_count": 18,
     "metadata": {},
     "output_type": "execute_result"
    }
   ],
   "source": [
    "torch.norm(datapoints[model.user_id]['exact_weights'])"
   ]
  },
  {
   "cell_type": "code",
   "execution_count": 19,
   "id": "1d1a33e3",
   "metadata": {},
   "outputs": [
    {
     "name": "stdout",
     "output_type": "stream",
     "text": [
      "tensor([ 0.0320, -0.0879])\n"
     ]
    },
    {
     "data": {
      "text/plain": [
       "tensor([ 0.0640, -0.1758], grad_fn=<CatBackward0>)"
      ]
     },
     "execution_count": 19,
     "metadata": {},
     "output_type": "execute_result"
    }
   ],
   "source": [
    "model = MLP_Net(user_id=0)\n",
    "\n",
    "from torch.nn.utils import parameters_to_vector, vector_to_parameters\n",
    "\n",
    "with torch.no_grad():    \n",
    "    params = parameters_to_vector(model.parameters())\n",
    "\n",
    "    print(params)\n",
    "\n",
    "params *= 2.\n",
    "\n",
    "vector_to_parameters(parameters=model.parameters(), vec=params)\n",
    "\n",
    "parameters_to_vector(model.parameters())\n",
    "\n",
    "\n",
    "\n"
   ]
  },
  {
   "cell_type": "code",
   "execution_count": 20,
   "id": "71472693",
   "metadata": {},
   "outputs": [
    {
     "name": "stderr",
     "output_type": "stream",
     "text": [
      "  0%|          | 2/2000 [00:00<06:08,  5.43it/s]"
     ]
    },
    {
     "name": "stdout",
     "output_type": "stream",
     "text": [
      "Training_loss 10.73425,   Relative Error 1.25024\n",
      "Training_loss 10.33293,   Relative Error 1.22652\n"
     ]
    },
    {
     "name": "stderr",
     "output_type": "stream",
     "text": [
      "  0%|          | 4/2000 [00:00<05:39,  5.88it/s]"
     ]
    },
    {
     "name": "stdout",
     "output_type": "stream",
     "text": [
      "Training_loss 9.99157,   Relative Error 1.20640\n",
      "Training_loss 9.56407,   Relative Error 1.18045\n"
     ]
    },
    {
     "name": "stderr",
     "output_type": "stream",
     "text": [
      "\r",
      "  0%|          | 5/2000 [00:00<05:51,  5.68it/s]"
     ]
    },
    {
     "name": "stdout",
     "output_type": "stream",
     "text": [
      "Training_loss 9.36619,   Relative Error 1.16818\n"
     ]
    },
    {
     "name": "stderr",
     "output_type": "stream",
     "text": [
      "\r",
      "  0%|          | 6/2000 [00:01<06:43,  4.94it/s]"
     ]
    },
    {
     "name": "stdout",
     "output_type": "stream",
     "text": [
      "Training_loss 8.80048,   Relative Error 1.13224\n",
      "Training_loss 8.62597,   Relative Error 1.12122\n"
     ]
    },
    {
     "name": "stderr",
     "output_type": "stream",
     "text": [
      "  0%|          | 8/2000 [00:01<06:57,  4.77it/s]"
     ]
    },
    {
     "name": "stdout",
     "output_type": "stream",
     "text": [
      "Training_loss 8.29931,   Relative Error 1.09958\n"
     ]
    },
    {
     "name": "stderr",
     "output_type": "stream",
     "text": [
      "  0%|          | 10/2000 [00:01<06:45,  4.91it/s]"
     ]
    },
    {
     "name": "stdout",
     "output_type": "stream",
     "text": [
      "Training_loss 7.92543,   Relative Error 1.07454\n",
      "Training_loss 7.37238,   Relative Error 1.03575\n"
     ]
    },
    {
     "name": "stderr",
     "output_type": "stream",
     "text": [
      "\r",
      "  1%|          | 11/2000 [00:02<06:54,  4.80it/s]"
     ]
    },
    {
     "name": "stdout",
     "output_type": "stream",
     "text": [
      "Training_loss 7.05013,   Relative Error 1.01290\n"
     ]
    },
    {
     "name": "stderr",
     "output_type": "stream",
     "text": [
      "\r",
      "  1%|          | 12/2000 [00:02<07:12,  4.60it/s]"
     ]
    },
    {
     "name": "stdout",
     "output_type": "stream",
     "text": [
      "Training_loss 6.68827,   Relative Error 0.98659\n",
      "Training_loss 6.45922,   Relative Error 0.96928"
     ]
    },
    {
     "name": "stderr",
     "output_type": "stream",
     "text": [
      "\r",
      "  1%|          | 13/2000 [00:02<07:02,  4.70it/s]"
     ]
    },
    {
     "name": "stdout",
     "output_type": "stream",
     "text": [
      "\n"
     ]
    },
    {
     "name": "stderr",
     "output_type": "stream",
     "text": [
      "  1%|          | 15/2000 [00:03<07:08,  4.63it/s]"
     ]
    },
    {
     "name": "stdout",
     "output_type": "stream",
     "text": [
      "Training_loss 6.29629,   Relative Error 0.95673\n",
      "Training_loss 6.06110,   Relative Error 0.93869\n"
     ]
    },
    {
     "name": "stderr",
     "output_type": "stream",
     "text": [
      "\r",
      "  1%|          | 16/2000 [00:03<06:45,  4.89it/s]"
     ]
    },
    {
     "name": "stdout",
     "output_type": "stream",
     "text": [
      "Training_loss 5.88621,   Relative Error 0.92512\n"
     ]
    },
    {
     "name": "stderr",
     "output_type": "stream",
     "text": [
      "\r",
      "  1%|          | 17/2000 [00:03<07:06,  4.64it/s]"
     ]
    },
    {
     "name": "stdout",
     "output_type": "stream",
     "text": [
      "Training_loss 5.77352,   Relative Error 0.91640\n"
     ]
    },
    {
     "name": "stderr",
     "output_type": "stream",
     "text": [
      "  1%|          | 19/2000 [00:03<06:40,  4.95it/s]"
     ]
    },
    {
     "name": "stdout",
     "output_type": "stream",
     "text": [
      "Training_loss 5.59940,   Relative Error 0.90246\n",
      "Training_loss 5.26499,   Relative Error 0.87492\n"
     ]
    },
    {
     "name": "stderr",
     "output_type": "stream",
     "text": [
      "\r",
      "  1%|          | 20/2000 [00:04<07:08,  4.62it/s]"
     ]
    },
    {
     "name": "stdout",
     "output_type": "stream",
     "text": [
      "Training_loss 5.10884,   Relative Error 0.86196\n"
     ]
    },
    {
     "name": "stderr",
     "output_type": "stream",
     "text": [
      "  1%|          | 22/2000 [00:04<07:06,  4.63it/s]"
     ]
    },
    {
     "name": "stdout",
     "output_type": "stream",
     "text": [
      "Training_loss 4.99830,   Relative Error 0.85279\n",
      "Training_loss 4.81551,   Relative Error 0.83713\n"
     ]
    },
    {
     "name": "stderr",
     "output_type": "stream",
     "text": [
      "  1%|          | 24/2000 [00:04<05:43,  5.75it/s]"
     ]
    },
    {
     "name": "stdout",
     "output_type": "stream",
     "text": [
      "Training_loss 4.60986,   Relative Error 0.81913\n",
      "Training_loss 4.44357,   Relative Error 0.80445\n"
     ]
    },
    {
     "name": "stderr",
     "output_type": "stream",
     "text": [
      "  1%|▏         | 26/2000 [00:05<05:33,  5.91it/s]"
     ]
    },
    {
     "name": "stdout",
     "output_type": "stream",
     "text": [
      "Training_loss 4.29372,   Relative Error 0.79056\n",
      "Training_loss 4.21464,   Relative Error 0.78331\n"
     ]
    },
    {
     "name": "stderr",
     "output_type": "stream",
     "text": [
      "  1%|▏         | 28/2000 [00:05<05:36,  5.86it/s]"
     ]
    },
    {
     "name": "stdout",
     "output_type": "stream",
     "text": [
      "Training_loss 4.07600,   Relative Error 0.77033\n",
      "Training_loss 3.93344,   Relative Error 0.75692\n"
     ]
    },
    {
     "name": "stderr",
     "output_type": "stream",
     "text": [
      "  2%|▏         | 30/2000 [00:05<05:22,  6.10it/s]"
     ]
    },
    {
     "name": "stdout",
     "output_type": "stream",
     "text": [
      "Training_loss 3.85555,   Relative Error 0.74939\n",
      "Training_loss 3.76728,   Relative Error 0.74086\n"
     ]
    },
    {
     "name": "stderr",
     "output_type": "stream",
     "text": [
      "  2%|▏         | 32/2000 [00:06<04:51,  6.76it/s]"
     ]
    },
    {
     "name": "stdout",
     "output_type": "stream",
     "text": [
      "Training_loss 3.65692,   Relative Error 0.72983\n",
      "Training_loss 3.49358,   Relative Error 0.71351\n"
     ]
    },
    {
     "name": "stderr",
     "output_type": "stream",
     "text": [
      "  2%|▏         | 34/2000 [00:06<04:48,  6.81it/s]"
     ]
    },
    {
     "name": "stdout",
     "output_type": "stream",
     "text": [
      "Training_loss 3.21994,   Relative Error 0.68475\n",
      "Training_loss 3.11110,   Relative Error 0.67315\n"
     ]
    },
    {
     "name": "stderr",
     "output_type": "stream",
     "text": [
      "  2%|▏         | 36/2000 [00:06<04:47,  6.84it/s]"
     ]
    },
    {
     "name": "stdout",
     "output_type": "stream",
     "text": [
      "Training_loss 2.99716,   Relative Error 0.66075\n",
      "Training_loss 2.88266,   Relative Error 0.64814\n"
     ]
    },
    {
     "name": "stderr",
     "output_type": "stream",
     "text": [
      "  2%|▏         | 38/2000 [00:06<04:34,  7.14it/s]"
     ]
    },
    {
     "name": "stdout",
     "output_type": "stream",
     "text": [
      "Training_loss 2.77357,   Relative Error 0.63577\n",
      "Training_loss 2.70728,   Relative Error 0.62812\n"
     ]
    },
    {
     "name": "stderr",
     "output_type": "stream",
     "text": [
      "  2%|▏         | 40/2000 [00:07<05:13,  6.25it/s]"
     ]
    },
    {
     "name": "stdout",
     "output_type": "stream",
     "text": [
      "Training_loss 2.57557,   Relative Error 0.61274\n",
      "Training_loss 2.51976,   Relative Error 0.60607\n"
     ]
    },
    {
     "name": "stderr",
     "output_type": "stream",
     "text": [
      "  2%|▏         | 42/2000 [00:07<04:56,  6.59it/s]"
     ]
    },
    {
     "name": "stdout",
     "output_type": "stream",
     "text": [
      "Training_loss 2.44148,   Relative Error 0.59642\n",
      "Training_loss 2.34409,   Relative Error 0.58459\n"
     ]
    },
    {
     "name": "stderr",
     "output_type": "stream",
     "text": [
      "  2%|▏         | 44/2000 [00:07<05:07,  6.35it/s]"
     ]
    },
    {
     "name": "stdout",
     "output_type": "stream",
     "text": [
      "Training_loss 2.26754,   Relative Error 0.57487\n",
      "Training_loss 2.21485,   Relative Error 0.56809\n"
     ]
    },
    {
     "name": "stderr",
     "output_type": "stream",
     "text": [
      "\r",
      "  2%|▏         | 45/2000 [00:08<05:00,  6.50it/s]"
     ]
    },
    {
     "name": "stdout",
     "output_type": "stream",
     "text": [
      "Training_loss 2.16195,   Relative Error 0.56121\n"
     ]
    },
    {
     "name": "stderr",
     "output_type": "stream",
     "text": [
      "\r",
      "  2%|▏         | 46/2000 [00:08<06:25,  5.07it/s]"
     ]
    },
    {
     "name": "stdout",
     "output_type": "stream",
     "text": [
      "Training_loss 2.09283,   Relative Error 0.55220\n"
     ]
    },
    {
     "name": "stderr",
     "output_type": "stream",
     "text": [
      "  2%|▏         | 48/2000 [00:08<06:22,  5.11it/s]"
     ]
    },
    {
     "name": "stdout",
     "output_type": "stream",
     "text": [
      "Training_loss 2.03752,   Relative Error 0.54480\n",
      "Training_loss 1.97659,   Relative Error 0.53659\n"
     ]
    },
    {
     "name": "stderr",
     "output_type": "stream",
     "text": [
      "  2%|▎         | 50/2000 [00:09<05:28,  5.94it/s]"
     ]
    },
    {
     "name": "stdout",
     "output_type": "stream",
     "text": [
      "Training_loss 1.92086,   Relative Error 0.52896\n",
      "Training_loss 1.83265,   Relative Error 0.51669\n"
     ]
    },
    {
     "name": "stderr",
     "output_type": "stream",
     "text": [
      "  3%|▎         | 52/2000 [00:09<05:08,  6.30it/s]"
     ]
    },
    {
     "name": "stdout",
     "output_type": "stream",
     "text": [
      "Training_loss 1.77497,   Relative Error 0.50847\n",
      "Training_loss 1.72489,   Relative Error 0.50124\n"
     ]
    },
    {
     "name": "stderr",
     "output_type": "stream",
     "text": [
      "  3%|▎         | 54/2000 [00:09<05:08,  6.30it/s]"
     ]
    },
    {
     "name": "stdout",
     "output_type": "stream",
     "text": [
      "Training_loss 1.68685,   Relative Error 0.49574\n",
      "Training_loss 1.62413,   Relative Error 0.48649\n"
     ]
    },
    {
     "name": "stderr",
     "output_type": "stream",
     "text": [
      "  3%|▎         | 56/2000 [00:10<05:21,  6.06it/s]"
     ]
    },
    {
     "name": "stdout",
     "output_type": "stream",
     "text": [
      "Training_loss 1.59162,   Relative Error 0.48161\n",
      "Training_loss 1.55429,   Relative Error 0.47577\n"
     ]
    },
    {
     "name": "stderr",
     "output_type": "stream",
     "text": [
      "  3%|▎         | 58/2000 [00:10<05:20,  6.06it/s]"
     ]
    },
    {
     "name": "stdout",
     "output_type": "stream",
     "text": [
      "Training_loss 1.52287,   Relative Error 0.47102\n",
      "Training_loss 1.45307,   Relative Error 0.46015\n"
     ]
    },
    {
     "name": "stderr",
     "output_type": "stream",
     "text": [
      "  3%|▎         | 60/2000 [00:10<05:05,  6.35it/s]"
     ]
    },
    {
     "name": "stdout",
     "output_type": "stream",
     "text": [
      "Training_loss 1.41895,   Relative Error 0.45480\n",
      "Training_loss 1.37480,   Relative Error 0.44769\n"
     ]
    },
    {
     "name": "stderr",
     "output_type": "stream",
     "text": [
      "  3%|▎         | 62/2000 [00:11<05:23,  5.99it/s]"
     ]
    },
    {
     "name": "stdout",
     "output_type": "stream",
     "text": [
      "Training_loss 1.34302,   Relative Error 0.44256\n",
      "Training_loss 1.31270,   Relative Error 0.43752\n"
     ]
    },
    {
     "name": "stderr",
     "output_type": "stream",
     "text": [
      "\r",
      "  3%|▎         | 63/2000 [00:11<05:26,  5.94it/s]"
     ]
    },
    {
     "name": "stdout",
     "output_type": "stream",
     "text": [
      "Training_loss 1.25189,   Relative Error 0.42726\n"
     ]
    },
    {
     "name": "stderr",
     "output_type": "stream",
     "text": [
      "\r",
      "  3%|▎         | 64/2000 [00:11<05:49,  5.54it/s]"
     ]
    },
    {
     "name": "stdout",
     "output_type": "stream",
     "text": [
      "Training_loss 1.20177,   Relative Error 0.41872\n"
     ]
    },
    {
     "name": "stderr",
     "output_type": "stream",
     "text": [
      "  3%|▎         | 66/2000 [00:11<06:07,  5.27it/s]"
     ]
    },
    {
     "name": "stdout",
     "output_type": "stream",
     "text": [
      "Training_loss 1.17584,   Relative Error 0.41421\n",
      "Training_loss 1.09614,   Relative Error 0.39990\n"
     ]
    },
    {
     "name": "stderr",
     "output_type": "stream",
     "text": [
      "  3%|▎         | 68/2000 [00:12<05:42,  5.64it/s]"
     ]
    },
    {
     "name": "stdout",
     "output_type": "stream",
     "text": [
      "Training_loss 1.06430,   Relative Error 0.39413\n",
      "Training_loss 1.04966,   Relative Error 0.39142\n"
     ]
    },
    {
     "name": "stderr",
     "output_type": "stream",
     "text": [
      "  4%|▎         | 70/2000 [00:12<05:35,  5.75it/s]"
     ]
    },
    {
     "name": "stdout",
     "output_type": "stream",
     "text": [
      "Training_loss 1.02511,   Relative Error 0.38682\n",
      "Training_loss 0.99794,   Relative Error 0.38169\n"
     ]
    },
    {
     "name": "stderr",
     "output_type": "stream",
     "text": [
      "  4%|▎         | 72/2000 [00:12<05:17,  6.08it/s]"
     ]
    },
    {
     "name": "stdout",
     "output_type": "stream",
     "text": [
      "Training_loss 0.95863,   Relative Error 0.37415\n",
      "Training_loss 0.93350,   Relative Error 0.36924\n"
     ]
    },
    {
     "name": "stderr",
     "output_type": "stream",
     "text": [
      "  4%|▎         | 74/2000 [00:13<05:01,  6.40it/s]"
     ]
    },
    {
     "name": "stdout",
     "output_type": "stream",
     "text": [
      "Training_loss 0.90883,   Relative Error 0.36429\n",
      "Training_loss 0.88203,   Relative Error 0.35884\n"
     ]
    },
    {
     "name": "stderr",
     "output_type": "stream",
     "text": [
      "  4%|▍         | 76/2000 [00:13<04:57,  6.47it/s]"
     ]
    },
    {
     "name": "stdout",
     "output_type": "stream",
     "text": [
      "Training_loss 0.86386,   Relative Error 0.35513\n",
      "Training_loss 0.79952,   Relative Error 0.34164\n"
     ]
    },
    {
     "name": "stderr",
     "output_type": "stream",
     "text": [
      "  4%|▍         | 78/2000 [00:13<05:16,  6.07it/s]"
     ]
    },
    {
     "name": "stdout",
     "output_type": "stream",
     "text": [
      "Training_loss 0.77586,   Relative Error 0.33661\n",
      "Training_loss 0.76380,   Relative Error 0.33397\n"
     ]
    },
    {
     "name": "stderr",
     "output_type": "stream",
     "text": [
      "  4%|▍         | 80/2000 [00:14<05:07,  6.24it/s]"
     ]
    },
    {
     "name": "stdout",
     "output_type": "stream",
     "text": [
      "Training_loss 0.74049,   Relative Error 0.32882\n",
      "Training_loss 0.68234,   Relative Error 0.31554\n"
     ]
    },
    {
     "name": "stderr",
     "output_type": "stream",
     "text": [
      "  4%|▍         | 82/2000 [00:14<04:48,  6.64it/s]"
     ]
    },
    {
     "name": "stdout",
     "output_type": "stream",
     "text": [
      "Training_loss 0.66176,   Relative Error 0.31075\n",
      "Training_loss 0.63365,   Relative Error 0.30411\n"
     ]
    },
    {
     "name": "stderr",
     "output_type": "stream",
     "text": [
      "  4%|▍         | 84/2000 [00:14<04:53,  6.52it/s]"
     ]
    },
    {
     "name": "stdout",
     "output_type": "stream",
     "text": [
      "Training_loss 0.61588,   Relative Error 0.29979\n",
      "Training_loss 0.59103,   Relative Error 0.29376\n"
     ]
    },
    {
     "name": "stderr",
     "output_type": "stream",
     "text": [
      "  4%|▍         | 86/2000 [00:14<05:01,  6.34it/s]"
     ]
    },
    {
     "name": "stdout",
     "output_type": "stream",
     "text": [
      "Training_loss 0.57485,   Relative Error 0.28971\n",
      "Training_loss 0.55814,   Relative Error 0.28552\n"
     ]
    },
    {
     "name": "stderr",
     "output_type": "stream",
     "text": [
      "  4%|▍         | 88/2000 [00:15<04:57,  6.43it/s]"
     ]
    },
    {
     "name": "stdout",
     "output_type": "stream",
     "text": [
      "Training_loss 0.53985,   Relative Error 0.28079\n",
      "Training_loss 0.52587,   Relative Error 0.27711\n"
     ]
    },
    {
     "name": "stderr",
     "output_type": "stream",
     "text": [
      "  4%|▍         | 90/2000 [00:15<05:04,  6.27it/s]"
     ]
    },
    {
     "name": "stdout",
     "output_type": "stream",
     "text": [
      "Training_loss 0.51371,   Relative Error 0.27400\n",
      "Training_loss 0.49659,   Relative Error 0.26945\n"
     ]
    },
    {
     "name": "stderr",
     "output_type": "stream",
     "text": [
      "  5%|▍         | 92/2000 [00:15<05:05,  6.25it/s]"
     ]
    },
    {
     "name": "stdout",
     "output_type": "stream",
     "text": [
      "Training_loss 0.48744,   Relative Error 0.26694\n",
      "Training_loss 0.47918,   Relative Error 0.26463\n"
     ]
    },
    {
     "name": "stderr",
     "output_type": "stream",
     "text": [
      "\r",
      "  5%|▍         | 93/2000 [00:16<05:45,  5.53it/s]"
     ]
    },
    {
     "name": "stdout",
     "output_type": "stream",
     "text": [
      "Training_loss 0.47032,   Relative Error 0.26212\n"
     ]
    },
    {
     "name": "stderr",
     "output_type": "stream",
     "text": [
      "\r",
      "  5%|▍         | 94/2000 [00:16<06:17,  5.05it/s]"
     ]
    },
    {
     "name": "stdout",
     "output_type": "stream",
     "text": [
      "Training_loss 0.45883,   Relative Error 0.25893\n"
     ]
    },
    {
     "name": "stderr",
     "output_type": "stream",
     "text": [
      "\r",
      "  5%|▍         | 95/2000 [00:16<06:36,  4.81it/s]"
     ]
    },
    {
     "name": "stdout",
     "output_type": "stream",
     "text": [
      "Training_loss 0.44266,   Relative Error 0.25432\n"
     ]
    },
    {
     "name": "stderr",
     "output_type": "stream",
     "text": [
      "\r",
      "  5%|▍         | 96/2000 [00:16<08:08,  3.89it/s]"
     ]
    },
    {
     "name": "stdout",
     "output_type": "stream",
     "text": [
      "Training_loss 0.42905,   Relative Error 0.25033\n"
     ]
    },
    {
     "name": "stderr",
     "output_type": "stream",
     "text": [
      "  5%|▍         | 98/2000 [00:17<06:55,  4.58it/s]"
     ]
    },
    {
     "name": "stdout",
     "output_type": "stream",
     "text": [
      "Training_loss 0.41750,   Relative Error 0.24697\n",
      "Training_loss 0.40392,   Relative Error 0.24293\n"
     ]
    },
    {
     "name": "stderr",
     "output_type": "stream",
     "text": [
      "  5%|▌         | 100/2000 [00:17<05:42,  5.55it/s]"
     ]
    },
    {
     "name": "stdout",
     "output_type": "stream",
     "text": [
      "Training_loss 0.38757,   Relative Error 0.23796\n",
      "Training_loss 0.38131,   Relative Error 0.23605\n"
     ]
    },
    {
     "name": "stderr",
     "output_type": "stream",
     "text": [
      "  5%|▌         | 102/2000 [00:17<05:19,  5.94it/s]"
     ]
    },
    {
     "name": "stdout",
     "output_type": "stream",
     "text": [
      "Training_loss 0.36935,   Relative Error 0.23236\n",
      "Training_loss 0.35393,   Relative Error 0.22749\n"
     ]
    },
    {
     "name": "stderr",
     "output_type": "stream",
     "text": [
      "  5%|▌         | 104/2000 [00:18<05:06,  6.19it/s]"
     ]
    },
    {
     "name": "stdout",
     "output_type": "stream",
     "text": [
      "Training_loss 0.34623,   Relative Error 0.22500\n",
      "Training_loss 0.33846,   Relative Error 0.22247\n"
     ]
    },
    {
     "name": "stderr",
     "output_type": "stream",
     "text": [
      "\r",
      "  5%|▌         | 105/2000 [00:18<05:02,  6.25it/s]"
     ]
    },
    {
     "name": "stdout",
     "output_type": "stream",
     "text": [
      "Training_loss 0.32986,   Relative Error 0.21963\n"
     ]
    },
    {
     "name": "stderr",
     "output_type": "stream",
     "text": [
      "  5%|▌         | 107/2000 [00:18<05:46,  5.46it/s]"
     ]
    },
    {
     "name": "stdout",
     "output_type": "stream",
     "text": [
      "Training_loss 0.31779,   Relative Error 0.21557\n",
      "Training_loss 0.31144,   Relative Error 0.21339\n"
     ]
    },
    {
     "name": "stderr",
     "output_type": "stream",
     "text": [
      "  5%|▌         | 109/2000 [00:19<05:22,  5.87it/s]"
     ]
    },
    {
     "name": "stdout",
     "output_type": "stream",
     "text": [
      "Training_loss 0.30125,   Relative Error 0.20985\n",
      "Training_loss 0.29579,   Relative Error 0.20788\n"
     ]
    },
    {
     "name": "stderr",
     "output_type": "stream",
     "text": [
      "  6%|▌         | 111/2000 [00:19<04:59,  6.31it/s]"
     ]
    },
    {
     "name": "stdout",
     "output_type": "stream",
     "text": [
      "Training_loss 0.28187,   Relative Error 0.20291\n",
      "Training_loss 0.27435,   Relative Error 0.20022\n"
     ]
    },
    {
     "name": "stderr",
     "output_type": "stream",
     "text": [
      "  6%|▌         | 113/2000 [00:19<04:54,  6.41it/s]"
     ]
    },
    {
     "name": "stdout",
     "output_type": "stream",
     "text": [
      "Training_loss 0.26670,   Relative Error 0.19740\n",
      "Training_loss 0.25755,   Relative Error 0.19396\n"
     ]
    },
    {
     "name": "stderr",
     "output_type": "stream",
     "text": [
      "\r",
      "  6%|▌         | 114/2000 [00:19<05:01,  6.25it/s]"
     ]
    },
    {
     "name": "stdout",
     "output_type": "stream",
     "text": [
      "Training_loss 0.24890,   Relative Error 0.19066\n"
     ]
    },
    {
     "name": "stderr",
     "output_type": "stream",
     "text": [
      "\r",
      "  6%|▌         | 115/2000 [00:20<05:33,  5.65it/s]"
     ]
    },
    {
     "name": "stdout",
     "output_type": "stream",
     "text": [
      "Training_loss 0.24373,   Relative Error 0.18869\n"
     ]
    },
    {
     "name": "stderr",
     "output_type": "stream",
     "text": [
      "\r",
      "  6%|▌         | 116/2000 [00:20<05:56,  5.29it/s]"
     ]
    },
    {
     "name": "stdout",
     "output_type": "stream",
     "text": [
      "Training_loss 0.23299,   Relative Error 0.18449\n"
     ]
    },
    {
     "name": "stderr",
     "output_type": "stream",
     "text": [
      "\r",
      "  6%|▌         | 117/2000 [00:20<07:01,  4.47it/s]"
     ]
    },
    {
     "name": "stdout",
     "output_type": "stream",
     "text": [
      "Training_loss 0.22789,   Relative Error 0.18244\n"
     ]
    },
    {
     "name": "stderr",
     "output_type": "stream",
     "text": [
      "\r",
      "  6%|▌         | 118/2000 [00:21<08:03,  3.89it/s]"
     ]
    },
    {
     "name": "stdout",
     "output_type": "stream",
     "text": [
      "Training_loss 0.22235,   Relative Error 0.18020\n"
     ]
    },
    {
     "name": "stderr",
     "output_type": "stream",
     "text": [
      "  6%|▌         | 120/2000 [00:21<06:56,  4.51it/s]"
     ]
    },
    {
     "name": "stdout",
     "output_type": "stream",
     "text": [
      "Training_loss 0.21611,   Relative Error 0.17766\n",
      "Training_loss 0.21125,   Relative Error 0.17566\n"
     ]
    },
    {
     "name": "stderr",
     "output_type": "stream",
     "text": [
      "\r",
      "  6%|▌         | 121/2000 [00:21<07:00,  4.47it/s]"
     ]
    },
    {
     "name": "stdout",
     "output_type": "stream",
     "text": [
      "Training_loss 0.20512,   Relative Error 0.17306\n"
     ]
    },
    {
     "name": "stderr",
     "output_type": "stream",
     "text": [
      "\r",
      "  6%|▌         | 122/2000 [00:21<08:07,  3.85it/s]"
     ]
    },
    {
     "name": "stdout",
     "output_type": "stream",
     "text": [
      "Training_loss 0.18976,   Relative Error 0.16640\n"
     ]
    },
    {
     "name": "stderr",
     "output_type": "stream",
     "text": [
      "\r",
      "  6%|▌         | 123/2000 [00:22<10:00,  3.13it/s]"
     ]
    },
    {
     "name": "stdout",
     "output_type": "stream",
     "text": [
      "Training_loss 0.18610,   Relative Error 0.16477\n"
     ]
    },
    {
     "name": "stderr",
     "output_type": "stream",
     "text": [
      "\r",
      "  6%|▌         | 124/2000 [00:22<10:56,  2.86it/s]"
     ]
    },
    {
     "name": "stdout",
     "output_type": "stream",
     "text": [
      "Training_loss 0.17765,   Relative Error 0.16102\n"
     ]
    },
    {
     "name": "stderr",
     "output_type": "stream",
     "text": [
      "\r",
      "  6%|▋         | 125/2000 [00:23<11:21,  2.75it/s]"
     ]
    },
    {
     "name": "stdout",
     "output_type": "stream",
     "text": [
      "Training_loss 0.17253,   Relative Error 0.15873\n"
     ]
    },
    {
     "name": "stderr",
     "output_type": "stream",
     "text": [
      "\r",
      "  6%|▋         | 126/2000 [00:23<10:53,  2.87it/s]"
     ]
    },
    {
     "name": "stdout",
     "output_type": "stream",
     "text": [
      "Training_loss 0.16843,   Relative Error 0.15683\n"
     ]
    },
    {
     "name": "stderr",
     "output_type": "stream",
     "text": [
      "\r",
      "  6%|▋         | 127/2000 [00:23<11:22,  2.74it/s]"
     ]
    },
    {
     "name": "stdout",
     "output_type": "stream",
     "text": [
      "Training_loss 0.16551,   Relative Error 0.15548\n"
     ]
    },
    {
     "name": "stderr",
     "output_type": "stream",
     "text": [
      "\r",
      "  6%|▋         | 128/2000 [00:24<11:51,  2.63it/s]"
     ]
    },
    {
     "name": "stdout",
     "output_type": "stream",
     "text": [
      "Training_loss 0.16212,   Relative Error 0.15388\n"
     ]
    },
    {
     "name": "stderr",
     "output_type": "stream",
     "text": [
      "\r",
      "  6%|▋         | 129/2000 [00:24<12:05,  2.58it/s]"
     ]
    },
    {
     "name": "stdout",
     "output_type": "stream",
     "text": [
      "Training_loss 0.15975,   Relative Error 0.15273\n"
     ]
    },
    {
     "name": "stderr",
     "output_type": "stream",
     "text": [
      "\r",
      "  6%|▋         | 130/2000 [00:25<11:19,  2.75it/s]"
     ]
    },
    {
     "name": "stdout",
     "output_type": "stream",
     "text": [
      "Training_loss 0.15522,   Relative Error 0.15057\n"
     ]
    },
    {
     "name": "stderr",
     "output_type": "stream",
     "text": [
      "\r",
      "  7%|▋         | 131/2000 [00:25<10:12,  3.05it/s]"
     ]
    },
    {
     "name": "stdout",
     "output_type": "stream",
     "text": [
      "Training_loss 0.14881,   Relative Error 0.14742\n"
     ]
    },
    {
     "name": "stderr",
     "output_type": "stream",
     "text": [
      "\r",
      "  7%|▋         | 132/2000 [00:25<09:05,  3.42it/s]"
     ]
    },
    {
     "name": "stdout",
     "output_type": "stream",
     "text": [
      "Training_loss 0.14444,   Relative Error 0.14526\n"
     ]
    },
    {
     "name": "stderr",
     "output_type": "stream",
     "text": [
      "  7%|▋         | 134/2000 [00:25<07:32,  4.13it/s]"
     ]
    },
    {
     "name": "stdout",
     "output_type": "stream",
     "text": [
      "Training_loss 0.13950,   Relative Error 0.14278\n",
      "Training_loss 0.13465,   Relative Error 0.14025\n"
     ]
    },
    {
     "name": "stderr",
     "output_type": "stream",
     "text": [
      "  7%|▋         | 136/2000 [00:26<06:41,  4.64it/s]"
     ]
    },
    {
     "name": "stdout",
     "output_type": "stream",
     "text": [
      "Training_loss 0.12404,   Relative Error 0.13462\n",
      "Training_loss 0.12025,   Relative Error 0.13254\n"
     ]
    },
    {
     "name": "stderr",
     "output_type": "stream",
     "text": [
      "\r",
      "  7%|▋         | 137/2000 [00:26<07:16,  4.27it/s]"
     ]
    },
    {
     "name": "stdout",
     "output_type": "stream",
     "text": [
      "Training_loss 0.11623,   Relative Error 0.13030\n"
     ]
    },
    {
     "name": "stderr",
     "output_type": "stream",
     "text": [
      "\r",
      "  7%|▋         | 138/2000 [00:26<07:49,  3.97it/s]"
     ]
    },
    {
     "name": "stdout",
     "output_type": "stream",
     "text": [
      "Training_loss 0.11281,   Relative Error 0.12837\n"
     ]
    },
    {
     "name": "stderr",
     "output_type": "stream",
     "text": [
      "\r",
      "  7%|▋         | 139/2000 [00:27<10:31,  2.94it/s]"
     ]
    },
    {
     "name": "stdout",
     "output_type": "stream",
     "text": [
      "Training_loss 0.11000,   Relative Error 0.12675\n"
     ]
    },
    {
     "name": "stderr",
     "output_type": "stream",
     "text": [
      "\r",
      "  7%|▋         | 140/2000 [00:27<10:46,  2.88it/s]"
     ]
    },
    {
     "name": "stdout",
     "output_type": "stream",
     "text": [
      "Training_loss 0.10679,   Relative Error 0.12489\n"
     ]
    },
    {
     "name": "stderr",
     "output_type": "stream",
     "text": [
      "\r",
      "  7%|▋         | 141/2000 [00:28<11:56,  2.59it/s]"
     ]
    },
    {
     "name": "stdout",
     "output_type": "stream",
     "text": [
      "Training_loss 0.10299,   Relative Error 0.12262\n"
     ]
    },
    {
     "name": "stderr",
     "output_type": "stream",
     "text": [
      "\r",
      "  7%|▋         | 142/2000 [00:28<13:05,  2.36it/s]"
     ]
    },
    {
     "name": "stdout",
     "output_type": "stream",
     "text": [
      "Training_loss 0.09920,   Relative Error 0.12034\n"
     ]
    },
    {
     "name": "stderr",
     "output_type": "stream",
     "text": [
      "\r",
      "  7%|▋         | 143/2000 [00:29<11:31,  2.69it/s]"
     ]
    },
    {
     "name": "stdout",
     "output_type": "stream",
     "text": [
      "Training_loss 0.09680,   Relative Error 0.11888\n"
     ]
    },
    {
     "name": "stderr",
     "output_type": "stream",
     "text": [
      "  7%|▋         | 145/2000 [00:29<09:17,  3.33it/s]"
     ]
    },
    {
     "name": "stdout",
     "output_type": "stream",
     "text": [
      "Training_loss 0.09491,   Relative Error 0.11774\n",
      "Training_loss 0.09256,   Relative Error 0.11627\n"
     ]
    },
    {
     "name": "stderr",
     "output_type": "stream",
     "text": [
      "  7%|▋         | 147/2000 [00:29<07:20,  4.20it/s]"
     ]
    },
    {
     "name": "stdout",
     "output_type": "stream",
     "text": [
      "Training_loss 0.08919,   Relative Error 0.11416\n",
      "Training_loss 0.08732,   Relative Error 0.11294\n"
     ]
    },
    {
     "name": "stderr",
     "output_type": "stream",
     "text": [
      "  7%|▋         | 149/2000 [00:30<06:06,  5.05it/s]"
     ]
    },
    {
     "name": "stdout",
     "output_type": "stream",
     "text": [
      "Training_loss 0.08461,   Relative Error 0.11117\n",
      "Training_loss 0.08324,   Relative Error 0.11027\n"
     ]
    },
    {
     "name": "stderr",
     "output_type": "stream",
     "text": [
      "\r",
      "  8%|▊         | 150/2000 [00:30<05:49,  5.30it/s]"
     ]
    },
    {
     "name": "stdout",
     "output_type": "stream",
     "text": [
      "Training_loss 0.08184,   Relative Error 0.10934\n"
     ]
    },
    {
     "name": "stderr",
     "output_type": "stream",
     "text": [
      "\r",
      "  8%|▊         | 151/2000 [00:30<06:39,  4.63it/s]"
     ]
    },
    {
     "name": "stdout",
     "output_type": "stream",
     "text": [
      "Training_loss 0.07883,   Relative Error 0.10734\n"
     ]
    },
    {
     "name": "stderr",
     "output_type": "stream",
     "text": [
      "\r",
      "  8%|▊         | 152/2000 [00:30<07:17,  4.22it/s]"
     ]
    },
    {
     "name": "stdout",
     "output_type": "stream",
     "text": [
      "Training_loss 0.07393,   Relative Error 0.10394\n"
     ]
    },
    {
     "name": "stderr",
     "output_type": "stream",
     "text": [
      "\r",
      "  8%|▊         | 153/2000 [00:31<07:33,  4.07it/s]"
     ]
    },
    {
     "name": "stdout",
     "output_type": "stream",
     "text": [
      "Training_loss 0.07194,   Relative Error 0.10255\n"
     ]
    },
    {
     "name": "stderr",
     "output_type": "stream",
     "text": [
      "\r",
      "  8%|▊         | 154/2000 [00:31<08:45,  3.51it/s]"
     ]
    },
    {
     "name": "stdout",
     "output_type": "stream",
     "text": [
      "Training_loss 0.07074,   Relative Error 0.10169\n"
     ]
    },
    {
     "name": "stderr",
     "output_type": "stream",
     "text": [
      "  8%|▊         | 156/2000 [00:32<07:39,  4.01it/s]"
     ]
    },
    {
     "name": "stdout",
     "output_type": "stream",
     "text": [
      "Training_loss 0.06884,   Relative Error 0.10035\n",
      "Training_loss 0.06315,   Relative Error 0.09610\n"
     ]
    },
    {
     "name": "stderr",
     "output_type": "stream",
     "text": [
      "  8%|▊         | 158/2000 [00:32<06:14,  4.91it/s]"
     ]
    },
    {
     "name": "stdout",
     "output_type": "stream",
     "text": [
      "Training_loss 0.06058,   Relative Error 0.09412\n",
      "Training_loss 0.05829,   Relative Error 0.09235\n"
     ]
    },
    {
     "name": "stderr",
     "output_type": "stream",
     "text": [
      "  8%|▊         | 160/2000 [00:32<05:31,  5.54it/s]"
     ]
    },
    {
     "name": "stdout",
     "output_type": "stream",
     "text": [
      "Training_loss 0.05754,   Relative Error 0.09175\n",
      "Training_loss 0.05555,   Relative Error 0.09016\n"
     ]
    },
    {
     "name": "stderr",
     "output_type": "stream",
     "text": [
      "\r",
      "  8%|▊         | 161/2000 [00:32<05:19,  5.75it/s]"
     ]
    },
    {
     "name": "stdout",
     "output_type": "stream",
     "text": [
      "Training_loss 0.05402,   Relative Error 0.08890\n"
     ]
    },
    {
     "name": "stderr",
     "output_type": "stream",
     "text": [
      "\r",
      "  8%|▊         | 162/2000 [00:33<05:53,  5.20it/s]"
     ]
    },
    {
     "name": "stdout",
     "output_type": "stream",
     "text": [
      "Training_loss 0.05104,   Relative Error 0.08639\n"
     ]
    },
    {
     "name": "stderr",
     "output_type": "stream",
     "text": [
      "\r",
      "  8%|▊         | 163/2000 [00:33<06:38,  4.60it/s]"
     ]
    },
    {
     "name": "stdout",
     "output_type": "stream",
     "text": [
      "Training_loss 0.04945,   Relative Error 0.08504\n"
     ]
    },
    {
     "name": "stderr",
     "output_type": "stream",
     "text": [
      "\r",
      "  8%|▊         | 164/2000 [00:33<07:58,  3.84it/s]"
     ]
    },
    {
     "name": "stdout",
     "output_type": "stream",
     "text": [
      "Training_loss 0.04675,   Relative Error 0.08268\n"
     ]
    },
    {
     "name": "stderr",
     "output_type": "stream",
     "text": [
      "\r",
      "  8%|▊         | 165/2000 [00:34<08:43,  3.50it/s]"
     ]
    },
    {
     "name": "stdout",
     "output_type": "stream",
     "text": [
      "Training_loss 0.04587,   Relative Error 0.08189\n"
     ]
    },
    {
     "name": "stderr",
     "output_type": "stream",
     "text": [
      "  8%|▊         | 167/2000 [00:34<07:28,  4.09it/s]"
     ]
    },
    {
     "name": "stdout",
     "output_type": "stream",
     "text": [
      "Training_loss 0.04343,   Relative Error 0.07969\n",
      "Training_loss 0.04218,   Relative Error 0.07853\n"
     ]
    },
    {
     "name": "stderr",
     "output_type": "stream",
     "text": [
      "  8%|▊         | 169/2000 [00:34<05:44,  5.32it/s]"
     ]
    },
    {
     "name": "stdout",
     "output_type": "stream",
     "text": [
      "Training_loss 0.03934,   Relative Error 0.07583\n",
      "Training_loss 0.03848,   Relative Error 0.07500\n"
     ]
    },
    {
     "name": "stderr",
     "output_type": "stream",
     "text": [
      "  9%|▊         | 171/2000 [00:35<05:07,  5.95it/s]"
     ]
    },
    {
     "name": "stdout",
     "output_type": "stream",
     "text": [
      "Training_loss 0.03727,   Relative Error 0.07382\n",
      "Training_loss 0.03617,   Relative Error 0.07272\n"
     ]
    },
    {
     "name": "stderr",
     "output_type": "stream",
     "text": [
      "  9%|▊         | 173/2000 [00:35<05:19,  5.72it/s]"
     ]
    },
    {
     "name": "stdout",
     "output_type": "stream",
     "text": [
      "Training_loss 0.03469,   Relative Error 0.07124\n",
      "Training_loss 0.03349,   Relative Error 0.07001\n"
     ]
    },
    {
     "name": "stderr",
     "output_type": "stream",
     "text": [
      "\r",
      "  9%|▊         | 174/2000 [00:35<06:20,  4.80it/s]"
     ]
    },
    {
     "name": "stdout",
     "output_type": "stream",
     "text": [
      "Training_loss 0.03265,   Relative Error 0.06913\n"
     ]
    },
    {
     "name": "stderr",
     "output_type": "stream",
     "text": [
      "\r",
      "  9%|▉         | 175/2000 [00:36<08:12,  3.71it/s]"
     ]
    },
    {
     "name": "stdout",
     "output_type": "stream",
     "text": [
      "Training_loss 0.03136,   Relative Error 0.06777\n"
     ]
    },
    {
     "name": "stderr",
     "output_type": "stream",
     "text": [
      "\r",
      "  9%|▉         | 176/2000 [00:36<09:19,  3.26it/s]"
     ]
    },
    {
     "name": "stdout",
     "output_type": "stream",
     "text": [
      "Training_loss 0.03019,   Relative Error 0.06650\n"
     ]
    },
    {
     "name": "stderr",
     "output_type": "stream",
     "text": [
      "\r",
      "  9%|▉         | 177/2000 [00:36<09:32,  3.18it/s]"
     ]
    },
    {
     "name": "stdout",
     "output_type": "stream",
     "text": [
      "Training_loss 0.02960,   Relative Error 0.06586\n"
     ]
    },
    {
     "name": "stderr",
     "output_type": "stream",
     "text": [
      "  9%|▉         | 179/2000 [00:37<07:52,  3.85it/s]"
     ]
    },
    {
     "name": "stdout",
     "output_type": "stream",
     "text": [
      "Training_loss 0.02855,   Relative Error 0.06469\n",
      "Training_loss 0.02795,   Relative Error 0.06401\n"
     ]
    },
    {
     "name": "stderr",
     "output_type": "stream",
     "text": [
      "  9%|▉         | 181/2000 [00:37<06:53,  4.40it/s]"
     ]
    },
    {
     "name": "stdout",
     "output_type": "stream",
     "text": [
      "Training_loss 0.02672,   Relative Error 0.06259\n",
      "Training_loss 0.02619,   Relative Error 0.06197\n"
     ]
    },
    {
     "name": "stderr",
     "output_type": "stream",
     "text": [
      "  9%|▉         | 183/2000 [00:37<05:23,  5.62it/s]"
     ]
    },
    {
     "name": "stdout",
     "output_type": "stream",
     "text": [
      "Training_loss 0.02541,   Relative Error 0.06102\n",
      "Training_loss 0.02487,   Relative Error 0.06036\n"
     ]
    },
    {
     "name": "stderr",
     "output_type": "stream",
     "text": [
      "  9%|▉         | 185/2000 [00:38<04:31,  6.69it/s]"
     ]
    },
    {
     "name": "stdout",
     "output_type": "stream",
     "text": [
      "Training_loss 0.02411,   Relative Error 0.05943\n",
      "Training_loss 0.02323,   Relative Error 0.05833\n"
     ]
    },
    {
     "name": "stderr",
     "output_type": "stream",
     "text": [
      "  9%|▉         | 188/2000 [00:38<03:39,  8.26it/s]"
     ]
    },
    {
     "name": "stdout",
     "output_type": "stream",
     "text": [
      "Training_loss 0.02268,   Relative Error 0.05762\n",
      "Training_loss 0.02197,   Relative Error 0.05671\n",
      "Training_loss 0.02111,   Relative Error 0.05559\n"
     ]
    },
    {
     "name": "stderr",
     "output_type": "stream",
     "text": [
      " 10%|▉         | 190/2000 [00:38<03:51,  7.83it/s]"
     ]
    },
    {
     "name": "stdout",
     "output_type": "stream",
     "text": [
      "Training_loss 0.02043,   Relative Error 0.05470\n",
      "Training_loss 0.02006,   Relative Error 0.05419\n"
     ]
    },
    {
     "name": "stderr",
     "output_type": "stream",
     "text": [
      " 10%|▉         | 192/2000 [00:38<04:05,  7.36it/s]"
     ]
    },
    {
     "name": "stdout",
     "output_type": "stream",
     "text": [
      "Training_loss 0.01932,   Relative Error 0.05318\n",
      "Training_loss 0.01857,   Relative Error 0.05213\n"
     ]
    },
    {
     "name": "stderr",
     "output_type": "stream",
     "text": [
      " 10%|▉         | 194/2000 [00:39<03:54,  7.69it/s]"
     ]
    },
    {
     "name": "stdout",
     "output_type": "stream",
     "text": [
      "Training_loss 0.01774,   Relative Error 0.05094\n",
      "Training_loss 0.01713,   Relative Error 0.05006\n"
     ]
    },
    {
     "name": "stderr",
     "output_type": "stream",
     "text": [
      " 10%|▉         | 196/2000 [00:39<04:13,  7.12it/s]"
     ]
    },
    {
     "name": "stdout",
     "output_type": "stream",
     "text": [
      "Training_loss 0.01665,   Relative Error 0.04936\n",
      "Training_loss 0.01630,   Relative Error 0.04883\n"
     ]
    },
    {
     "name": "stderr",
     "output_type": "stream",
     "text": [
      " 10%|▉         | 198/2000 [00:39<04:35,  6.55it/s]"
     ]
    },
    {
     "name": "stdout",
     "output_type": "stream",
     "text": [
      "Training_loss 0.01587,   Relative Error 0.04819\n",
      "Training_loss 0.01502,   Relative Error 0.04688\n"
     ]
    },
    {
     "name": "stderr",
     "output_type": "stream",
     "text": [
      " 10%|█         | 200/2000 [00:40<04:25,  6.77it/s]"
     ]
    },
    {
     "name": "stdout",
     "output_type": "stream",
     "text": [
      "Training_loss 0.01443,   Relative Error 0.04594\n",
      "Training_loss 0.01393,   Relative Error 0.04513\n"
     ]
    },
    {
     "name": "stderr",
     "output_type": "stream",
     "text": [
      " 10%|█         | 202/2000 [00:40<04:16,  7.02it/s]"
     ]
    },
    {
     "name": "stdout",
     "output_type": "stream",
     "text": [
      "Training_loss 0.01369,   Relative Error 0.04475\n",
      "Training_loss 0.01329,   Relative Error 0.04408\n"
     ]
    },
    {
     "name": "stderr",
     "output_type": "stream",
     "text": [
      " 10%|█         | 204/2000 [00:40<04:19,  6.91it/s]"
     ]
    },
    {
     "name": "stdout",
     "output_type": "stream",
     "text": [
      "Training_loss 0.01279,   Relative Error 0.04325\n",
      "Training_loss 0.01243,   Relative Error 0.04264\n"
     ]
    },
    {
     "name": "stderr",
     "output_type": "stream",
     "text": [
      " 10%|█         | 206/2000 [00:41<04:37,  6.47it/s]"
     ]
    },
    {
     "name": "stdout",
     "output_type": "stream",
     "text": [
      "Training_loss 0.01204,   Relative Error 0.04197\n",
      "Training_loss 0.01140,   Relative Error 0.04084\n"
     ]
    },
    {
     "name": "stderr",
     "output_type": "stream",
     "text": [
      " 10%|█         | 208/2000 [00:41<04:07,  7.23it/s]"
     ]
    },
    {
     "name": "stdout",
     "output_type": "stream",
     "text": [
      "Training_loss 0.01073,   Relative Error 0.03960\n",
      "Training_loss 0.01045,   Relative Error 0.03909\n"
     ]
    },
    {
     "name": "stderr",
     "output_type": "stream",
     "text": [
      " 10%|█         | 210/2000 [00:41<03:47,  7.86it/s]"
     ]
    },
    {
     "name": "stdout",
     "output_type": "stream",
     "text": [
      "Training_loss 0.01030,   Relative Error 0.03881\n",
      "Training_loss 0.00972,   Relative Error 0.03770\n"
     ]
    },
    {
     "name": "stderr",
     "output_type": "stream",
     "text": [
      " 11%|█         | 212/2000 [00:41<03:49,  7.79it/s]"
     ]
    },
    {
     "name": "stdout",
     "output_type": "stream",
     "text": [
      "Training_loss 0.00942,   Relative Error 0.03712\n",
      "Training_loss 0.00902,   Relative Error 0.03633\n"
     ]
    },
    {
     "name": "stderr",
     "output_type": "stream",
     "text": [
      " 11%|█         | 214/2000 [00:42<03:35,  8.30it/s]"
     ]
    },
    {
     "name": "stdout",
     "output_type": "stream",
     "text": [
      "Training_loss 0.00874,   Relative Error 0.03576\n",
      "Training_loss 0.00843,   Relative Error 0.03512\n"
     ]
    },
    {
     "name": "stderr",
     "output_type": "stream",
     "text": [
      " 11%|█         | 216/2000 [00:42<03:36,  8.26it/s]"
     ]
    },
    {
     "name": "stdout",
     "output_type": "stream",
     "text": [
      "Training_loss 0.00820,   Relative Error 0.03464\n",
      "Training_loss 0.00807,   Relative Error 0.03436\n"
     ]
    },
    {
     "name": "stderr",
     "output_type": "stream",
     "text": [
      " 11%|█         | 219/2000 [00:42<03:18,  8.97it/s]"
     ]
    },
    {
     "name": "stdout",
     "output_type": "stream",
     "text": [
      "Training_loss 0.00782,   Relative Error 0.03382\n",
      "Training_loss 0.00734,   Relative Error 0.03276\n",
      "Training_loss 0.00713,   Relative Error 0.03229\n"
     ]
    },
    {
     "name": "stderr",
     "output_type": "stream",
     "text": [
      "\r",
      " 11%|█         | 220/2000 [00:42<03:25,  8.68it/s]"
     ]
    },
    {
     "name": "stdout",
     "output_type": "stream",
     "text": [
      "Training_loss 0.00691,   Relative Error 0.03179\n",
      "Training_loss 0.00662,   Relative Error 0.03112\n"
     ]
    },
    {
     "name": "stderr",
     "output_type": "stream",
     "text": [
      " 11%|█         | 223/2000 [00:43<03:19,  8.91it/s]"
     ]
    },
    {
     "name": "stdout",
     "output_type": "stream",
     "text": [
      "Training_loss 0.00638,   Relative Error 0.03055\n",
      "Training_loss 0.00617,   Relative Error 0.03003\n"
     ]
    },
    {
     "name": "stderr",
     "output_type": "stream",
     "text": [
      " 11%|█▏        | 225/2000 [00:43<03:34,  8.29it/s]"
     ]
    },
    {
     "name": "stdout",
     "output_type": "stream",
     "text": [
      "Training_loss 0.00605,   Relative Error 0.02975\n",
      "Training_loss 0.00589,   Relative Error 0.02936\n"
     ]
    },
    {
     "name": "stderr",
     "output_type": "stream",
     "text": [
      " 11%|█▏        | 227/2000 [00:43<03:40,  8.03it/s]"
     ]
    },
    {
     "name": "stdout",
     "output_type": "stream",
     "text": [
      "Training_loss 0.00571,   Relative Error 0.02891\n",
      "Training_loss 0.00555,   Relative Error 0.02849\n"
     ]
    },
    {
     "name": "stderr",
     "output_type": "stream",
     "text": [
      " 11%|█▏        | 229/2000 [00:43<03:49,  7.71it/s]"
     ]
    },
    {
     "name": "stdout",
     "output_type": "stream",
     "text": [
      "Training_loss 0.00547,   Relative Error 0.02829\n",
      "Training_loss 0.00533,   Relative Error 0.02791\n"
     ]
    },
    {
     "name": "stderr",
     "output_type": "stream",
     "text": [
      " 12%|█▏        | 231/2000 [00:44<03:57,  7.44it/s]"
     ]
    },
    {
     "name": "stdout",
     "output_type": "stream",
     "text": [
      "Training_loss 0.00517,   Relative Error 0.02750\n",
      "Training_loss 0.00498,   Relative Error 0.02700\n"
     ]
    },
    {
     "name": "stderr",
     "output_type": "stream",
     "text": [
      " 12%|█▏        | 233/2000 [00:44<04:02,  7.28it/s]"
     ]
    },
    {
     "name": "stdout",
     "output_type": "stream",
     "text": [
      "Training_loss 0.00488,   Relative Error 0.02672\n",
      "Training_loss 0.00474,   Relative Error 0.02634\n"
     ]
    },
    {
     "name": "stderr",
     "output_type": "stream",
     "text": [
      " 12%|█▏        | 235/2000 [00:44<03:59,  7.37it/s]"
     ]
    },
    {
     "name": "stdout",
     "output_type": "stream",
     "text": [
      "Training_loss 0.00464,   Relative Error 0.02606\n",
      "Training_loss 0.00452,   Relative Error 0.02572\n"
     ]
    },
    {
     "name": "stderr",
     "output_type": "stream",
     "text": [
      " 12%|█▏        | 237/2000 [00:44<03:51,  7.61it/s]"
     ]
    },
    {
     "name": "stdout",
     "output_type": "stream",
     "text": [
      "Training_loss 0.00437,   Relative Error 0.02528\n",
      "Training_loss 0.00428,   Relative Error 0.02502\n"
     ]
    },
    {
     "name": "stderr",
     "output_type": "stream",
     "text": [
      " 12%|█▏        | 239/2000 [00:45<03:34,  8.19it/s]"
     ]
    },
    {
     "name": "stdout",
     "output_type": "stream",
     "text": [
      "Training_loss 0.00413,   Relative Error 0.02459\n",
      "Training_loss 0.00397,   Relative Error 0.02410\n"
     ]
    },
    {
     "name": "stderr",
     "output_type": "stream",
     "text": [
      " 12%|█▏        | 242/2000 [00:45<03:14,  9.02it/s]"
     ]
    },
    {
     "name": "stdout",
     "output_type": "stream",
     "text": [
      "Training_loss 0.00390,   Relative Error 0.02388\n",
      "Training_loss 0.00373,   Relative Error 0.02335\n",
      "Training_loss 0.00360,   Relative Error 0.02292\n"
     ]
    },
    {
     "name": "stderr",
     "output_type": "stream",
     "text": [
      " 12%|█▏        | 244/2000 [00:45<03:28,  8.41it/s]"
     ]
    },
    {
     "name": "stdout",
     "output_type": "stream",
     "text": [
      "Training_loss 0.00353,   Relative Error 0.02270\n",
      "Training_loss 0.00342,   Relative Error 0.02235\n"
     ]
    },
    {
     "name": "stderr",
     "output_type": "stream",
     "text": [
      " 12%|█▏        | 246/2000 [00:45<03:22,  8.66it/s]"
     ]
    },
    {
     "name": "stdout",
     "output_type": "stream",
     "text": [
      "Training_loss 0.00335,   Relative Error 0.02212\n",
      "Training_loss 0.00329,   Relative Error 0.02191\n"
     ]
    },
    {
     "name": "stderr",
     "output_type": "stream",
     "text": [
      " 12%|█▏        | 248/2000 [00:46<03:27,  8.43it/s]"
     ]
    },
    {
     "name": "stdout",
     "output_type": "stream",
     "text": [
      "Training_loss 0.00318,   Relative Error 0.02153\n",
      "Training_loss 0.00296,   Relative Error 0.02078\n"
     ]
    },
    {
     "name": "stderr",
     "output_type": "stream",
     "text": [
      " 13%|█▎        | 251/2000 [00:46<03:02,  9.59it/s]"
     ]
    },
    {
     "name": "stdout",
     "output_type": "stream",
     "text": [
      "Training_loss 0.00289,   Relative Error 0.02053\n",
      "Training_loss 0.00274,   Relative Error 0.01999\n",
      "Training_loss 0.00263,   Relative Error 0.01960\n"
     ]
    },
    {
     "name": "stderr",
     "output_type": "stream",
     "text": [
      "\r",
      " 13%|█▎        | 253/2000 [00:46<02:58,  9.79it/s]"
     ]
    },
    {
     "name": "stdout",
     "output_type": "stream",
     "text": [
      "Training_loss 0.00255,   Relative Error 0.01930\n",
      "Training_loss 0.00250,   Relative Error 0.01911\n",
      "Training_loss 0.00230,   Relative Error 0.01832\n"
     ]
    },
    {
     "name": "stderr",
     "output_type": "stream",
     "text": [
      " 13%|█▎        | 256/2000 [00:46<03:06,  9.35it/s]"
     ]
    },
    {
     "name": "stdout",
     "output_type": "stream",
     "text": [
      "Training_loss 0.00223,   Relative Error 0.01805\n",
      "Training_loss 0.00214,   Relative Error 0.01767\n"
     ]
    },
    {
     "name": "stderr",
     "output_type": "stream",
     "text": [
      "\r",
      " 13%|█▎        | 258/2000 [00:47<03:07,  9.29it/s]"
     ]
    },
    {
     "name": "stdout",
     "output_type": "stream",
     "text": [
      "Training_loss 0.00208,   Relative Error 0.01739\n",
      "Training_loss 0.00204,   Relative Error 0.01723\n"
     ]
    },
    {
     "name": "stderr",
     "output_type": "stream",
     "text": [
      " 13%|█▎        | 260/2000 [00:47<03:18,  8.76it/s]"
     ]
    },
    {
     "name": "stdout",
     "output_type": "stream",
     "text": [
      "Training_loss 0.00200,   Relative Error 0.01708\n",
      "Training_loss 0.00195,   Relative Error 0.01685\n"
     ]
    },
    {
     "name": "stderr",
     "output_type": "stream",
     "text": [
      " 13%|█▎        | 262/2000 [00:47<03:17,  8.78it/s]"
     ]
    },
    {
     "name": "stdout",
     "output_type": "stream",
     "text": [
      "Training_loss 0.00188,   Relative Error 0.01657\n",
      "Training_loss 0.00181,   Relative Error 0.01625\n"
     ]
    },
    {
     "name": "stderr",
     "output_type": "stream",
     "text": [
      " 13%|█▎        | 265/2000 [00:47<03:04,  9.39it/s]"
     ]
    },
    {
     "name": "stdout",
     "output_type": "stream",
     "text": [
      "Training_loss 0.00176,   Relative Error 0.01603\n",
      "Training_loss 0.00172,   Relative Error 0.01583\n",
      "Training_loss 0.00166,   Relative Error 0.01554\n"
     ]
    },
    {
     "name": "stderr",
     "output_type": "stream",
     "text": [
      "\r",
      " 13%|█▎        | 266/2000 [00:48<03:07,  9.25it/s]"
     ]
    },
    {
     "name": "stdout",
     "output_type": "stream",
     "text": [
      "Training_loss 0.00159,   Relative Error 0.01524\n",
      "Training_loss 0.00153,   Relative Error 0.01492\n"
     ]
    },
    {
     "name": "stderr",
     "output_type": "stream",
     "text": [
      " 13%|█▎        | 269/2000 [00:48<03:06,  9.29it/s]"
     ]
    },
    {
     "name": "stdout",
     "output_type": "stream",
     "text": [
      "Training_loss 0.00146,   Relative Error 0.01458\n",
      "Training_loss 0.00139,   Relative Error 0.01421\n"
     ]
    },
    {
     "name": "stderr",
     "output_type": "stream",
     "text": [
      " 14%|█▎        | 271/2000 [00:48<03:16,  8.81it/s]"
     ]
    },
    {
     "name": "stdout",
     "output_type": "stream",
     "text": [
      "Training_loss 0.00136,   Relative Error 0.01404\n",
      "Training_loss 0.00130,   Relative Error 0.01375\n"
     ]
    },
    {
     "name": "stderr",
     "output_type": "stream",
     "text": [
      " 14%|█▎        | 273/2000 [00:48<03:16,  8.77it/s]"
     ]
    },
    {
     "name": "stdout",
     "output_type": "stream",
     "text": [
      "Training_loss 0.00123,   Relative Error 0.01340\n",
      "Training_loss 0.00121,   Relative Error 0.01328\n",
      "Training_loss 0.00115,   Relative Error 0.01295\n"
     ]
    },
    {
     "name": "stderr",
     "output_type": "stream",
     "text": [
      " 14%|█▍        | 277/2000 [00:49<03:00,  9.52it/s]"
     ]
    },
    {
     "name": "stdout",
     "output_type": "stream",
     "text": [
      "Training_loss 0.00114,   Relative Error 0.01287\n",
      "Training_loss 0.00110,   Relative Error 0.01266\n",
      "Training_loss 0.00107,   Relative Error 0.01249\n"
     ]
    },
    {
     "name": "stderr",
     "output_type": "stream",
     "text": [
      " 14%|█▍        | 279/2000 [00:49<03:09,  9.06it/s]"
     ]
    },
    {
     "name": "stdout",
     "output_type": "stream",
     "text": [
      "Training_loss 0.00105,   Relative Error 0.01238\n",
      "Training_loss 0.00102,   Relative Error 0.01216\n"
     ]
    },
    {
     "name": "stderr",
     "output_type": "stream",
     "text": [
      " 14%|█▍        | 281/2000 [00:49<03:19,  8.63it/s]"
     ]
    },
    {
     "name": "stdout",
     "output_type": "stream",
     "text": [
      "Training_loss 0.00098,   Relative Error 0.01195\n",
      "Training_loss 0.00094,   Relative Error 0.01168\n"
     ]
    },
    {
     "name": "stderr",
     "output_type": "stream",
     "text": [
      " 14%|█▍        | 283/2000 [00:50<03:28,  8.23it/s]"
     ]
    },
    {
     "name": "stdout",
     "output_type": "stream",
     "text": [
      "Training_loss 0.00091,   Relative Error 0.01152\n",
      "Training_loss 0.00089,   Relative Error 0.01138\n"
     ]
    },
    {
     "name": "stderr",
     "output_type": "stream",
     "text": [
      " 14%|█▍        | 285/2000 [00:50<03:22,  8.48it/s]"
     ]
    },
    {
     "name": "stdout",
     "output_type": "stream",
     "text": [
      "Training_loss 0.00085,   Relative Error 0.01111\n",
      "Training_loss 0.00082,   Relative Error 0.01088\n"
     ]
    },
    {
     "name": "stderr",
     "output_type": "stream",
     "text": [
      " 14%|█▍        | 288/2000 [00:50<03:04,  9.26it/s]"
     ]
    },
    {
     "name": "stdout",
     "output_type": "stream",
     "text": [
      "Training_loss 0.00078,   Relative Error 0.01066\n",
      "Training_loss 0.00077,   Relative Error 0.01056\n",
      "Training_loss 0.00075,   Relative Error 0.01039\n"
     ]
    },
    {
     "name": "stderr",
     "output_type": "stream",
     "text": [
      " 14%|█▍        | 290/2000 [00:50<03:13,  8.82it/s]"
     ]
    },
    {
     "name": "stdout",
     "output_type": "stream",
     "text": [
      "Training_loss 0.00072,   Relative Error 0.01019\n",
      "Training_loss 0.00069,   Relative Error 0.00995\n"
     ]
    },
    {
     "name": "stderr",
     "output_type": "stream",
     "text": [
      "\r",
      " 15%|█▍        | 291/2000 [00:50<03:09,  9.04it/s]"
     ]
    },
    {
     "name": "stdout",
     "output_type": "stream",
     "text": [
      "Training_loss 0.00067,   Relative Error 0.00981\n",
      "Training_loss 0.00064,   Relative Error 0.00964\n"
     ]
    },
    {
     "name": "stderr",
     "output_type": "stream",
     "text": [
      " 15%|█▍        | 294/2000 [00:51<03:08,  9.06it/s]"
     ]
    },
    {
     "name": "stdout",
     "output_type": "stream",
     "text": [
      "Training_loss 0.00062,   Relative Error 0.00947\n",
      "Training_loss 0.00060,   Relative Error 0.00932\n"
     ]
    },
    {
     "name": "stderr",
     "output_type": "stream",
     "text": [
      " 15%|█▍        | 296/2000 [00:51<03:09,  9.00it/s]"
     ]
    },
    {
     "name": "stdout",
     "output_type": "stream",
     "text": [
      "Training_loss 0.00058,   Relative Error 0.00914\n",
      "Training_loss 0.00056,   Relative Error 0.00899\n"
     ]
    },
    {
     "name": "stderr",
     "output_type": "stream",
     "text": [
      " 15%|█▍        | 299/2000 [00:51<02:49, 10.04it/s]"
     ]
    },
    {
     "name": "stdout",
     "output_type": "stream",
     "text": [
      "Training_loss 0.00054,   Relative Error 0.00880\n",
      "Training_loss 0.00052,   Relative Error 0.00864\n",
      "Training_loss 0.00050,   Relative Error 0.00853\n"
     ]
    },
    {
     "name": "stderr",
     "output_type": "stream",
     "text": [
      " 15%|█▌        | 301/2000 [00:51<02:55,  9.66it/s]"
     ]
    },
    {
     "name": "stdout",
     "output_type": "stream",
     "text": [
      "Training_loss 0.00050,   Relative Error 0.00847\n",
      "Training_loss 0.00048,   Relative Error 0.00833\n"
     ]
    },
    {
     "name": "stderr",
     "output_type": "stream",
     "text": [
      " 15%|█▌        | 304/2000 [00:52<02:56,  9.61it/s]"
     ]
    },
    {
     "name": "stdout",
     "output_type": "stream",
     "text": [
      "Training_loss 0.00046,   Relative Error 0.00817\n",
      "Training_loss 0.00045,   Relative Error 0.00808\n",
      "Training_loss 0.00042,   Relative Error 0.00774\n"
     ]
    },
    {
     "name": "stderr",
     "output_type": "stream",
     "text": [
      " 15%|█▌        | 306/2000 [00:52<03:09,  8.94it/s]"
     ]
    },
    {
     "name": "stdout",
     "output_type": "stream",
     "text": [
      "Training_loss 0.00041,   Relative Error 0.00765\n",
      "Training_loss 0.00040,   Relative Error 0.00759\n"
     ]
    },
    {
     "name": "stderr",
     "output_type": "stream",
     "text": [
      " 15%|█▌        | 308/2000 [00:52<03:28,  8.13it/s]"
     ]
    },
    {
     "name": "stdout",
     "output_type": "stream",
     "text": [
      "Training_loss 0.00039,   Relative Error 0.00749\n",
      "Training_loss 0.00038,   Relative Error 0.00740\n"
     ]
    },
    {
     "name": "stderr",
     "output_type": "stream",
     "text": [
      "\r",
      " 15%|█▌        | 309/2000 [00:52<03:21,  8.39it/s]"
     ]
    },
    {
     "name": "stdout",
     "output_type": "stream",
     "text": [
      "Training_loss 0.00037,   Relative Error 0.00729\n",
      "Training_loss 0.00036,   Relative Error 0.00717\n"
     ]
    },
    {
     "name": "stderr",
     "output_type": "stream",
     "text": [
      "\r",
      " 16%|█▌        | 311/2000 [00:53<03:13,  8.72it/s]"
     ]
    },
    {
     "name": "stdout",
     "output_type": "stream",
     "text": [
      "Training_loss 0.00035,   Relative Error 0.00704\n",
      "Training_loss 0.00034,   Relative Error 0.00694\n"
     ]
    },
    {
     "name": "stderr",
     "output_type": "stream",
     "text": [
      "\r",
      " 16%|█▌        | 313/2000 [00:53<03:12,  8.74it/s]"
     ]
    },
    {
     "name": "stdout",
     "output_type": "stream",
     "text": [
      "Training_loss 0.00033,   Relative Error 0.00687\n",
      "Training_loss 0.00032,   Relative Error 0.00680\n"
     ]
    },
    {
     "name": "stderr",
     "output_type": "stream",
     "text": [
      " 16%|█▌        | 316/2000 [00:53<03:12,  8.73it/s]"
     ]
    },
    {
     "name": "stdout",
     "output_type": "stream",
     "text": [
      "Training_loss 0.00032,   Relative Error 0.00674\n",
      "Training_loss 0.00031,   Relative Error 0.00663\n",
      "Training_loss 0.00029,   Relative Error 0.00644\n"
     ]
    },
    {
     "name": "stderr",
     "output_type": "stream",
     "text": [
      " 16%|█▌        | 319/2000 [00:53<03:06,  9.03it/s]"
     ]
    },
    {
     "name": "stdout",
     "output_type": "stream",
     "text": [
      "Training_loss 0.00028,   Relative Error 0.00634\n",
      "Training_loss 0.00027,   Relative Error 0.00626\n"
     ]
    },
    {
     "name": "stderr",
     "output_type": "stream",
     "text": [
      " 16%|█▌        | 322/2000 [00:54<02:58,  9.38it/s]"
     ]
    },
    {
     "name": "stdout",
     "output_type": "stream",
     "text": [
      "Training_loss 0.00027,   Relative Error 0.00616\n",
      "Training_loss 0.00026,   Relative Error 0.00611\n",
      "Training_loss 0.00025,   Relative Error 0.00595\n"
     ]
    },
    {
     "name": "stderr",
     "output_type": "stream",
     "text": [
      " 16%|█▌        | 324/2000 [00:54<03:11,  8.75it/s]"
     ]
    },
    {
     "name": "stdout",
     "output_type": "stream",
     "text": [
      "Training_loss 0.00025,   Relative Error 0.00591\n",
      "Training_loss 0.00023,   Relative Error 0.00571\n"
     ]
    },
    {
     "name": "stderr",
     "output_type": "stream",
     "text": [
      " 16%|█▋        | 326/2000 [00:54<03:09,  8.84it/s]"
     ]
    },
    {
     "name": "stdout",
     "output_type": "stream",
     "text": [
      "Training_loss 0.00022,   Relative Error 0.00566\n",
      "Training_loss 0.00022,   Relative Error 0.00559\n",
      "Training_loss 0.00021,   Relative Error 0.00545\n"
     ]
    },
    {
     "name": "stderr",
     "output_type": "stream",
     "text": [
      " 16%|█▋        | 329/2000 [00:55<02:59,  9.30it/s]"
     ]
    },
    {
     "name": "stdout",
     "output_type": "stream",
     "text": [
      "Training_loss 0.00020,   Relative Error 0.00532\n",
      "Training_loss 0.00020,   Relative Error 0.00528\n"
     ]
    },
    {
     "name": "stderr",
     "output_type": "stream",
     "text": [
      " 17%|█▋        | 331/2000 [00:55<03:00,  9.27it/s]"
     ]
    },
    {
     "name": "stdout",
     "output_type": "stream",
     "text": [
      "Training_loss 0.00019,   Relative Error 0.00517\n",
      "Training_loss 0.00019,   Relative Error 0.00513\n"
     ]
    },
    {
     "name": "stderr",
     "output_type": "stream",
     "text": [
      " 17%|█▋        | 333/2000 [00:55<03:03,  9.07it/s]"
     ]
    },
    {
     "name": "stdout",
     "output_type": "stream",
     "text": [
      "Training_loss 0.00018,   Relative Error 0.00508\n",
      "Training_loss 0.00018,   Relative Error 0.00499\n",
      "Training_loss 0.00017,   Relative Error 0.00491\n"
     ]
    },
    {
     "name": "stderr",
     "output_type": "stream",
     "text": [
      " 17%|█▋        | 336/2000 [00:55<02:46,  9.99it/s]"
     ]
    },
    {
     "name": "stdout",
     "output_type": "stream",
     "text": [
      "Training_loss 0.00017,   Relative Error 0.00483\n",
      "Training_loss 0.00016,   Relative Error 0.00475\n"
     ]
    },
    {
     "name": "stderr",
     "output_type": "stream",
     "text": [
      " 17%|█▋        | 339/2000 [00:56<02:47,  9.90it/s]"
     ]
    },
    {
     "name": "stdout",
     "output_type": "stream",
     "text": [
      "Training_loss 0.00016,   Relative Error 0.00468\n",
      "Training_loss 0.00015,   Relative Error 0.00461\n",
      "Training_loss 0.00015,   Relative Error 0.00451\n"
     ]
    },
    {
     "name": "stderr",
     "output_type": "stream",
     "text": [
      " 17%|█▋        | 341/2000 [00:56<03:01,  9.16it/s]"
     ]
    },
    {
     "name": "stdout",
     "output_type": "stream",
     "text": [
      "Training_loss 0.00014,   Relative Error 0.00447\n",
      "Training_loss 0.00014,   Relative Error 0.00437\n"
     ]
    },
    {
     "name": "stderr",
     "output_type": "stream",
     "text": [
      "\r",
      " 17%|█▋        | 343/2000 [00:56<02:48,  9.81it/s]"
     ]
    },
    {
     "name": "stdout",
     "output_type": "stream",
     "text": [
      "Training_loss 0.00013,   Relative Error 0.00432\n",
      "Training_loss 0.00013,   Relative Error 0.00428\n",
      "Training_loss 0.00013,   Relative Error 0.00423\n"
     ]
    },
    {
     "name": "stderr",
     "output_type": "stream",
     "text": [
      " 17%|█▋        | 346/2000 [00:56<02:51,  9.63it/s]"
     ]
    },
    {
     "name": "stdout",
     "output_type": "stream",
     "text": [
      "Training_loss 0.00013,   Relative Error 0.00419\n",
      "Training_loss 0.00012,   Relative Error 0.00417\n"
     ]
    },
    {
     "name": "stderr",
     "output_type": "stream",
     "text": [
      " 17%|█▋        | 348/2000 [00:57<03:03,  8.98it/s]"
     ]
    },
    {
     "name": "stdout",
     "output_type": "stream",
     "text": [
      "Training_loss 0.00012,   Relative Error 0.00402\n",
      "Training_loss 0.00011,   Relative Error 0.00396\n"
     ]
    },
    {
     "name": "stderr",
     "output_type": "stream",
     "text": [
      " 18%|█▊        | 350/2000 [00:57<03:07,  8.78it/s]"
     ]
    },
    {
     "name": "stdout",
     "output_type": "stream",
     "text": [
      "Training_loss 0.00011,   Relative Error 0.00392\n",
      "Training_loss 0.00011,   Relative Error 0.00387\n"
     ]
    },
    {
     "name": "stderr",
     "output_type": "stream",
     "text": [
      " 18%|█▊        | 352/2000 [00:57<03:14,  8.46it/s]"
     ]
    },
    {
     "name": "stdout",
     "output_type": "stream",
     "text": [
      "Training_loss 0.00010,   Relative Error 0.00376\n",
      "Training_loss 0.00010,   Relative Error 0.00371\n"
     ]
    },
    {
     "name": "stderr",
     "output_type": "stream",
     "text": [
      " 18%|█▊        | 354/2000 [00:57<03:07,  8.80it/s]"
     ]
    },
    {
     "name": "stdout",
     "output_type": "stream",
     "text": [
      "Training_loss 0.00010,   Relative Error 0.00364\n",
      "Training_loss 0.00009,   Relative Error 0.00357\n"
     ]
    },
    {
     "name": "stderr",
     "output_type": "stream",
     "text": [
      "\r",
      " 18%|█▊        | 355/2000 [00:57<03:00,  9.10it/s]"
     ]
    },
    {
     "name": "stdout",
     "output_type": "stream",
     "text": [
      "Training_loss 0.00009,   Relative Error 0.00354\n",
      "Training_loss 0.00009,   Relative Error 0.00348\n"
     ]
    },
    {
     "name": "stderr",
     "output_type": "stream",
     "text": [
      " 18%|█▊        | 358/2000 [00:58<02:58,  9.20it/s]"
     ]
    },
    {
     "name": "stdout",
     "output_type": "stream",
     "text": [
      "Training_loss 0.00009,   Relative Error 0.00342\n",
      "Training_loss 0.00008,   Relative Error 0.00335\n"
     ]
    },
    {
     "name": "stderr",
     "output_type": "stream",
     "text": [
      " 18%|█▊        | 360/2000 [00:58<03:28,  7.85it/s]"
     ]
    },
    {
     "name": "stdout",
     "output_type": "stream",
     "text": [
      "Training_loss 0.00008,   Relative Error 0.00330\n",
      "Training_loss 0.00008,   Relative Error 0.00324\n"
     ]
    },
    {
     "name": "stderr",
     "output_type": "stream",
     "text": [
      " 18%|█▊        | 362/2000 [00:58<03:16,  8.32it/s]"
     ]
    },
    {
     "name": "stdout",
     "output_type": "stream",
     "text": [
      "Training_loss 0.00007,   Relative Error 0.00317\n",
      "Training_loss 0.00007,   Relative Error 0.00314\n",
      "Training_loss 0.00007,   Relative Error 0.00308\n"
     ]
    },
    {
     "name": "stderr",
     "output_type": "stream",
     "text": [
      " 18%|█▊        | 365/2000 [00:59<03:08,  8.67it/s]"
     ]
    },
    {
     "name": "stdout",
     "output_type": "stream",
     "text": [
      "Training_loss 0.00007,   Relative Error 0.00304\n",
      "Training_loss 0.00007,   Relative Error 0.00299\n"
     ]
    },
    {
     "name": "stderr",
     "output_type": "stream",
     "text": [
      " 18%|█▊        | 367/2000 [00:59<03:13,  8.43it/s]"
     ]
    },
    {
     "name": "stdout",
     "output_type": "stream",
     "text": [
      "Training_loss 0.00007,   Relative Error 0.00296\n",
      "Training_loss 0.00006,   Relative Error 0.00290\n"
     ]
    },
    {
     "name": "stderr",
     "output_type": "stream",
     "text": [
      " 18%|█▊        | 369/2000 [00:59<03:18,  8.22it/s]"
     ]
    },
    {
     "name": "stdout",
     "output_type": "stream",
     "text": [
      "Training_loss 0.00006,   Relative Error 0.00287\n",
      "Training_loss 0.00006,   Relative Error 0.00279\n"
     ]
    },
    {
     "name": "stderr",
     "output_type": "stream",
     "text": [
      " 19%|█▊        | 371/2000 [00:59<03:17,  8.23it/s]"
     ]
    },
    {
     "name": "stdout",
     "output_type": "stream",
     "text": [
      "Training_loss 0.00006,   Relative Error 0.00278\n",
      "Training_loss 0.00006,   Relative Error 0.00270\n"
     ]
    },
    {
     "name": "stderr",
     "output_type": "stream",
     "text": [
      " 19%|█▊        | 373/2000 [01:00<03:30,  7.72it/s]"
     ]
    },
    {
     "name": "stdout",
     "output_type": "stream",
     "text": [
      "Training_loss 0.00005,   Relative Error 0.00266\n",
      "Training_loss 0.00005,   Relative Error 0.00264\n"
     ]
    },
    {
     "name": "stderr",
     "output_type": "stream",
     "text": [
      " 19%|█▉        | 375/2000 [01:00<03:32,  7.66it/s]"
     ]
    },
    {
     "name": "stdout",
     "output_type": "stream",
     "text": [
      "Training_loss 0.00005,   Relative Error 0.00260\n",
      "Training_loss 0.00005,   Relative Error 0.00253\n"
     ]
    },
    {
     "name": "stderr",
     "output_type": "stream",
     "text": [
      " 19%|█▉        | 377/2000 [01:00<03:36,  7.50it/s]"
     ]
    },
    {
     "name": "stdout",
     "output_type": "stream",
     "text": [
      "Training_loss 0.00005,   Relative Error 0.00250\n",
      "Training_loss 0.00005,   Relative Error 0.00247\n"
     ]
    },
    {
     "name": "stderr",
     "output_type": "stream",
     "text": [
      "\r",
      " 19%|█▉        | 378/2000 [01:00<03:23,  7.97it/s]"
     ]
    },
    {
     "name": "stdout",
     "output_type": "stream",
     "text": [
      "Training_loss 0.00005,   Relative Error 0.00241\n",
      "Training_loss 0.00004,   Relative Error 0.00238\n"
     ]
    },
    {
     "name": "stderr",
     "output_type": "stream",
     "text": [
      " 19%|█▉        | 381/2000 [01:01<03:18,  8.15it/s]"
     ]
    },
    {
     "name": "stdout",
     "output_type": "stream",
     "text": [
      "Training_loss 0.00004,   Relative Error 0.00236\n",
      "Training_loss 0.00004,   Relative Error 0.00233\n"
     ]
    },
    {
     "name": "stderr",
     "output_type": "stream",
     "text": [
      " 19%|█▉        | 383/2000 [01:01<03:19,  8.09it/s]"
     ]
    },
    {
     "name": "stdout",
     "output_type": "stream",
     "text": [
      "Training_loss 0.00004,   Relative Error 0.00228\n",
      "Training_loss 0.00004,   Relative Error 0.00224\n"
     ]
    },
    {
     "name": "stderr",
     "output_type": "stream",
     "text": [
      " 19%|█▉        | 385/2000 [01:01<03:19,  8.11it/s]"
     ]
    },
    {
     "name": "stdout",
     "output_type": "stream",
     "text": [
      "Training_loss 0.00004,   Relative Error 0.00222\n",
      "Training_loss 0.00004,   Relative Error 0.00212\n"
     ]
    },
    {
     "name": "stderr",
     "output_type": "stream",
     "text": [
      " 19%|█▉        | 387/2000 [01:01<03:17,  8.15it/s]"
     ]
    },
    {
     "name": "stdout",
     "output_type": "stream",
     "text": [
      "Training_loss 0.00004,   Relative Error 0.00209\n",
      "Training_loss 0.00003,   Relative Error 0.00206\n"
     ]
    },
    {
     "name": "stderr",
     "output_type": "stream",
     "text": [
      " 20%|█▉        | 390/2000 [01:02<02:55,  9.16it/s]"
     ]
    },
    {
     "name": "stdout",
     "output_type": "stream",
     "text": [
      "Training_loss 0.00003,   Relative Error 0.00204\n",
      "Training_loss 0.00003,   Relative Error 0.00198\n",
      "Training_loss 0.00003,   Relative Error 0.00193\n"
     ]
    },
    {
     "name": "stderr",
     "output_type": "stream",
     "text": [
      "\r",
      " 20%|█▉        | 392/2000 [01:02<02:56,  9.11it/s]"
     ]
    },
    {
     "name": "stdout",
     "output_type": "stream",
     "text": [
      "Training_loss 0.00003,   Relative Error 0.00191\n",
      "Training_loss 0.00003,   Relative Error 0.00189\n"
     ]
    },
    {
     "name": "stderr",
     "output_type": "stream",
     "text": [
      "\r",
      " 20%|█▉        | 394/2000 [01:02<02:49,  9.47it/s]"
     ]
    },
    {
     "name": "stdout",
     "output_type": "stream",
     "text": [
      "Training_loss 0.00003,   Relative Error 0.00187\n",
      "Training_loss 0.00003,   Relative Error 0.00185\n",
      "Training_loss 0.00003,   Relative Error 0.00184\n"
     ]
    },
    {
     "name": "stderr",
     "output_type": "stream",
     "text": [
      " 20%|█▉        | 397/2000 [01:02<02:56,  9.09it/s]"
     ]
    },
    {
     "name": "stdout",
     "output_type": "stream",
     "text": [
      "Training_loss 0.00003,   Relative Error 0.00182\n",
      "Training_loss 0.00003,   Relative Error 0.00178\n"
     ]
    },
    {
     "name": "stderr",
     "output_type": "stream",
     "text": [
      " 20%|█▉        | 399/2000 [01:03<03:10,  8.39it/s]"
     ]
    },
    {
     "name": "stdout",
     "output_type": "stream",
     "text": [
      "Training_loss 0.00003,   Relative Error 0.00177\n",
      "Training_loss 0.00003,   Relative Error 0.00174\n"
     ]
    },
    {
     "name": "stderr",
     "output_type": "stream",
     "text": [
      " 20%|██        | 401/2000 [01:03<03:29,  7.62it/s]"
     ]
    },
    {
     "name": "stdout",
     "output_type": "stream",
     "text": [
      "Training_loss 0.00003,   Relative Error 0.00172\n",
      "Training_loss 0.00002,   Relative Error 0.00168\n"
     ]
    },
    {
     "name": "stderr",
     "output_type": "stream",
     "text": [
      " 20%|██        | 403/2000 [01:03<03:25,  7.77it/s]"
     ]
    },
    {
     "name": "stdout",
     "output_type": "stream",
     "text": [
      "Training_loss 0.00002,   Relative Error 0.00166\n",
      "Training_loss 0.00002,   Relative Error 0.00164\n"
     ]
    },
    {
     "name": "stderr",
     "output_type": "stream",
     "text": [
      "\r",
      " 20%|██        | 405/2000 [01:03<03:08,  8.46it/s]"
     ]
    },
    {
     "name": "stdout",
     "output_type": "stream",
     "text": [
      "Training_loss 0.00002,   Relative Error 0.00162\n",
      "Training_loss 0.00002,   Relative Error 0.00159\n"
     ]
    },
    {
     "name": "stderr",
     "output_type": "stream",
     "text": [
      " 20%|██        | 407/2000 [01:04<03:11,  8.30it/s]"
     ]
    },
    {
     "name": "stdout",
     "output_type": "stream",
     "text": [
      "Training_loss 0.00002,   Relative Error 0.00158\n",
      "Training_loss 0.00002,   Relative Error 0.00156\n"
     ]
    },
    {
     "name": "stderr",
     "output_type": "stream",
     "text": [
      " 20%|██        | 410/2000 [01:04<02:52,  9.24it/s]"
     ]
    },
    {
     "name": "stdout",
     "output_type": "stream",
     "text": [
      "Training_loss 0.00002,   Relative Error 0.00154\n",
      "Training_loss 0.00002,   Relative Error 0.00152\n",
      "Training_loss 0.00002,   Relative Error 0.00152\n"
     ]
    },
    {
     "name": "stderr",
     "output_type": "stream",
     "text": [
      " 21%|██        | 412/2000 [01:04<03:02,  8.70it/s]"
     ]
    },
    {
     "name": "stdout",
     "output_type": "stream",
     "text": [
      "Training_loss 0.00002,   Relative Error 0.00150\n",
      "Training_loss 0.00002,   Relative Error 0.00150\n"
     ]
    },
    {
     "name": "stderr",
     "output_type": "stream",
     "text": [
      " 21%|██        | 414/2000 [01:04<03:02,  8.68it/s]"
     ]
    },
    {
     "name": "stdout",
     "output_type": "stream",
     "text": [
      "Training_loss 0.00002,   Relative Error 0.00148\n",
      "Training_loss 0.00002,   Relative Error 0.00146\n"
     ]
    },
    {
     "name": "stderr",
     "output_type": "stream",
     "text": [
      " 21%|██        | 416/2000 [01:05<02:58,  8.86it/s]"
     ]
    },
    {
     "name": "stdout",
     "output_type": "stream",
     "text": [
      "Training_loss 0.00002,   Relative Error 0.00145\n",
      "Training_loss 0.00002,   Relative Error 0.00143\n"
     ]
    },
    {
     "name": "stderr",
     "output_type": "stream",
     "text": [
      " 21%|██        | 418/2000 [01:05<02:53,  9.14it/s]"
     ]
    },
    {
     "name": "stdout",
     "output_type": "stream",
     "text": [
      "Training_loss 0.00002,   Relative Error 0.00142\n",
      "Training_loss 0.00002,   Relative Error 0.00139\n"
     ]
    },
    {
     "name": "stderr",
     "output_type": "stream",
     "text": [
      " 21%|██        | 420/2000 [01:05<02:54,  9.04it/s]"
     ]
    },
    {
     "name": "stdout",
     "output_type": "stream",
     "text": [
      "Training_loss 0.00002,   Relative Error 0.00138\n",
      "Training_loss 0.00002,   Relative Error 0.00137\n",
      "Training_loss 0.00002,   Relative Error 0.00137\n"
     ]
    },
    {
     "name": "stderr",
     "output_type": "stream",
     "text": [
      " 21%|██        | 424/2000 [01:05<02:36, 10.07it/s]"
     ]
    },
    {
     "name": "stdout",
     "output_type": "stream",
     "text": [
      "Training_loss 0.00002,   Relative Error 0.00134\n",
      "Training_loss 0.00002,   Relative Error 0.00133\n",
      "Training_loss 0.00002,   Relative Error 0.00132\n"
     ]
    },
    {
     "name": "stderr",
     "output_type": "stream",
     "text": [
      " 21%|██▏       | 426/2000 [01:06<02:48,  9.36it/s]"
     ]
    },
    {
     "name": "stdout",
     "output_type": "stream",
     "text": [
      "Training_loss 0.00002,   Relative Error 0.00129\n",
      "Training_loss 0.00002,   Relative Error 0.00128\n"
     ]
    },
    {
     "name": "stderr",
     "output_type": "stream",
     "text": [
      " 21%|██▏       | 428/2000 [01:06<03:02,  8.63it/s]"
     ]
    },
    {
     "name": "stdout",
     "output_type": "stream",
     "text": [
      "Training_loss 0.00002,   Relative Error 0.00127\n",
      "Training_loss 0.00002,   Relative Error 0.00125\n"
     ]
    },
    {
     "name": "stderr",
     "output_type": "stream",
     "text": [
      " 22%|██▏       | 430/2000 [01:06<03:12,  8.15it/s]"
     ]
    },
    {
     "name": "stdout",
     "output_type": "stream",
     "text": [
      "Training_loss 0.00002,   Relative Error 0.00124\n",
      "Training_loss 0.00002,   Relative Error 0.00123\n"
     ]
    },
    {
     "name": "stderr",
     "output_type": "stream",
     "text": [
      " 22%|██▏       | 432/2000 [01:06<03:07,  8.36it/s]"
     ]
    },
    {
     "name": "stdout",
     "output_type": "stream",
     "text": [
      "Training_loss 0.00002,   Relative Error 0.00122\n",
      "Training_loss 0.00002,   Relative Error 0.00121\n"
     ]
    },
    {
     "name": "stderr",
     "output_type": "stream",
     "text": [
      " 22%|██▏       | 435/2000 [01:07<02:47,  9.36it/s]"
     ]
    },
    {
     "name": "stdout",
     "output_type": "stream",
     "text": [
      "Training_loss 0.00002,   Relative Error 0.00121\n",
      "Training_loss 0.00002,   Relative Error 0.00121\n",
      "Training_loss 0.00001,   Relative Error 0.00119\n"
     ]
    },
    {
     "name": "stderr",
     "output_type": "stream",
     "text": [
      " 22%|██▏       | 437/2000 [01:07<02:56,  8.86it/s]"
     ]
    },
    {
     "name": "stdout",
     "output_type": "stream",
     "text": [
      "Training_loss 0.00001,   Relative Error 0.00118\n",
      "Training_loss 0.00001,   Relative Error 0.00116\n"
     ]
    },
    {
     "name": "stderr",
     "output_type": "stream",
     "text": [
      "\r",
      " 22%|██▏       | 438/2000 [01:07<03:12,  8.12it/s]"
     ]
    },
    {
     "name": "stdout",
     "output_type": "stream",
     "text": [
      "Training_loss 0.00001,   Relative Error 0.00115\n",
      "Training_loss 0.00001,   Relative Error 0.00114\n"
     ]
    },
    {
     "name": "stderr",
     "output_type": "stream",
     "text": [
      " 22%|██▏       | 441/2000 [01:07<02:56,  8.86it/s]"
     ]
    },
    {
     "name": "stdout",
     "output_type": "stream",
     "text": [
      "Training_loss 0.00001,   Relative Error 0.00114\n",
      "Training_loss 0.00001,   Relative Error 0.00114\n"
     ]
    },
    {
     "name": "stderr",
     "output_type": "stream",
     "text": [
      "\r",
      " 22%|██▏       | 442/2000 [01:08<02:57,  8.75it/s]"
     ]
    },
    {
     "name": "stdout",
     "output_type": "stream",
     "text": [
      "Training_loss 0.00001,   Relative Error 0.00113\n",
      "Training_loss 0.00001,   Relative Error 0.00112\n"
     ]
    },
    {
     "name": "stderr",
     "output_type": "stream",
     "text": [
      " 22%|██▏       | 445/2000 [01:08<02:58,  8.73it/s]"
     ]
    },
    {
     "name": "stdout",
     "output_type": "stream",
     "text": [
      "Training_loss 0.00001,   Relative Error 0.00111\n",
      "Training_loss 0.00001,   Relative Error 0.00110\n"
     ]
    },
    {
     "name": "stderr",
     "output_type": "stream",
     "text": [
      " 22%|██▏       | 447/2000 [01:08<02:53,  8.93it/s]"
     ]
    },
    {
     "name": "stdout",
     "output_type": "stream",
     "text": [
      "Training_loss 0.00001,   Relative Error 0.00110\n",
      "Training_loss 0.00001,   Relative Error 0.00109\n"
     ]
    },
    {
     "name": "stderr",
     "output_type": "stream",
     "text": [
      " 22%|██▏       | 449/2000 [01:08<02:58,  8.71it/s]"
     ]
    },
    {
     "name": "stdout",
     "output_type": "stream",
     "text": [
      "Training_loss 0.00001,   Relative Error 0.00107\n",
      "Training_loss 0.00001,   Relative Error 0.00106\n"
     ]
    },
    {
     "name": "stderr",
     "output_type": "stream",
     "text": [
      " 23%|██▎       | 451/2000 [01:09<02:59,  8.64it/s]"
     ]
    },
    {
     "name": "stdout",
     "output_type": "stream",
     "text": [
      "Training_loss 0.00001,   Relative Error 0.00105\n",
      "Training_loss 0.00001,   Relative Error 0.00106\n"
     ]
    },
    {
     "name": "stderr",
     "output_type": "stream",
     "text": [
      "\r",
      " 23%|██▎       | 453/2000 [01:09<02:51,  9.04it/s]"
     ]
    },
    {
     "name": "stdout",
     "output_type": "stream",
     "text": [
      "Training_loss 0.00001,   Relative Error 0.00105\n",
      "Training_loss 0.00001,   Relative Error 0.00105\n",
      "Training_loss 0.00001,   Relative Error 0.00105\n"
     ]
    },
    {
     "name": "stderr",
     "output_type": "stream",
     "text": [
      " 23%|██▎       | 455/2000 [01:09<02:49,  9.13it/s]"
     ]
    },
    {
     "name": "stdout",
     "output_type": "stream",
     "text": [
      "Training_loss 0.00001,   Relative Error 0.00103\n"
     ]
    },
    {
     "name": "stderr",
     "output_type": "stream",
     "text": [
      " 23%|██▎       | 457/2000 [01:09<02:54,  8.87it/s]"
     ]
    },
    {
     "name": "stdout",
     "output_type": "stream",
     "text": [
      "Training_loss 0.00001,   Relative Error 0.00102\n",
      "Training_loss 0.00001,   Relative Error 0.00101\n"
     ]
    },
    {
     "name": "stderr",
     "output_type": "stream",
     "text": [
      "\r",
      " 23%|██▎       | 459/2000 [01:09<02:45,  9.31it/s]"
     ]
    },
    {
     "name": "stdout",
     "output_type": "stream",
     "text": [
      "Training_loss 0.00001,   Relative Error 0.00101\n",
      "Training_loss 0.00001,   Relative Error 0.00100\n"
     ]
    },
    {
     "name": "stderr",
     "output_type": "stream",
     "text": [
      " 23%|██▎       | 461/2000 [01:10<02:48,  9.13it/s]"
     ]
    },
    {
     "name": "stdout",
     "output_type": "stream",
     "text": [
      "Training_loss 0.00001,   Relative Error 0.00100\n",
      "Training_loss 0.00001,   Relative Error 0.00101\n",
      "Training_loss 0.00001,   Relative Error 0.00101\n"
     ]
    },
    {
     "name": "stderr",
     "output_type": "stream",
     "text": [
      " 23%|██▎       | 464/2000 [01:10<02:45,  9.29it/s]"
     ]
    },
    {
     "name": "stdout",
     "output_type": "stream",
     "text": [
      "Training_loss 0.00001,   Relative Error 0.00101\n",
      "Training_loss 0.00001,   Relative Error 0.00100\n"
     ]
    },
    {
     "name": "stderr",
     "output_type": "stream",
     "text": [
      " 23%|██▎       | 466/2000 [01:10<02:46,  9.20it/s]"
     ]
    },
    {
     "name": "stdout",
     "output_type": "stream",
     "text": [
      "Training_loss 0.00001,   Relative Error 0.00099\n",
      "Training_loss 0.00001,   Relative Error 0.00099\n"
     ]
    },
    {
     "name": "stderr",
     "output_type": "stream",
     "text": [
      " 23%|██▎       | 468/2000 [01:10<03:03,  8.36it/s]"
     ]
    },
    {
     "name": "stdout",
     "output_type": "stream",
     "text": [
      "Training_loss 0.00001,   Relative Error 0.00098\n",
      "Training_loss 0.00001,   Relative Error 0.00097\n"
     ]
    },
    {
     "name": "stderr",
     "output_type": "stream",
     "text": [
      " 24%|██▎       | 470/2000 [01:11<02:59,  8.52it/s]"
     ]
    },
    {
     "name": "stdout",
     "output_type": "stream",
     "text": [
      "Training_loss 0.00001,   Relative Error 0.00096\n",
      "Training_loss 0.00001,   Relative Error 0.00095\n"
     ]
    },
    {
     "name": "stderr",
     "output_type": "stream",
     "text": [
      " 24%|██▎       | 472/2000 [01:11<02:59,  8.52it/s]"
     ]
    },
    {
     "name": "stdout",
     "output_type": "stream",
     "text": [
      "Training_loss 0.00001,   Relative Error 0.00095\n",
      "Training_loss 0.00001,   Relative Error 0.00095\n"
     ]
    },
    {
     "name": "stderr",
     "output_type": "stream",
     "text": [
      " 24%|██▎       | 474/2000 [01:11<02:58,  8.53it/s]"
     ]
    },
    {
     "name": "stdout",
     "output_type": "stream",
     "text": [
      "Training_loss 0.00001,   Relative Error 0.00095\n",
      "Training_loss 0.00001,   Relative Error 0.00094\n"
     ]
    },
    {
     "name": "stderr",
     "output_type": "stream",
     "text": [
      " 24%|██▍       | 476/2000 [01:11<03:06,  8.19it/s]"
     ]
    },
    {
     "name": "stdout",
     "output_type": "stream",
     "text": [
      "Training_loss 0.00001,   Relative Error 0.00092\n",
      "Training_loss 0.00001,   Relative Error 0.00091\n"
     ]
    },
    {
     "name": "stderr",
     "output_type": "stream",
     "text": [
      "\r",
      " 24%|██▍       | 478/2000 [01:12<02:52,  8.83it/s]"
     ]
    },
    {
     "name": "stdout",
     "output_type": "stream",
     "text": [
      "Training_loss 0.00001,   Relative Error 0.00091\n",
      "Training_loss 0.00001,   Relative Error 0.00091\n"
     ]
    },
    {
     "name": "stderr",
     "output_type": "stream",
     "text": [
      " 24%|██▍       | 480/2000 [01:12<02:48,  9.01it/s]"
     ]
    },
    {
     "name": "stdout",
     "output_type": "stream",
     "text": [
      "Training_loss 0.00001,   Relative Error 0.00090\n",
      "Training_loss 0.00001,   Relative Error 0.00088\n"
     ]
    },
    {
     "name": "stderr",
     "output_type": "stream",
     "text": [
      " 24%|██▍       | 482/2000 [01:12<02:56,  8.60it/s]"
     ]
    },
    {
     "name": "stdout",
     "output_type": "stream",
     "text": [
      "Training_loss 0.00001,   Relative Error 0.00089\n",
      "Training_loss 0.00001,   Relative Error 0.00088\n"
     ]
    },
    {
     "name": "stderr",
     "output_type": "stream",
     "text": [
      "\r",
      " 24%|██▍       | 483/2000 [01:12<02:50,  8.87it/s]"
     ]
    },
    {
     "name": "stdout",
     "output_type": "stream",
     "text": [
      "Training_loss 0.00001,   Relative Error 0.00087\n",
      "Training_loss 0.00001,   Relative Error 0.00087\n"
     ]
    },
    {
     "name": "stderr",
     "output_type": "stream",
     "text": [
      " 24%|██▍       | 487/2000 [01:13<02:38,  9.52it/s]"
     ]
    },
    {
     "name": "stdout",
     "output_type": "stream",
     "text": [
      "Training_loss 0.00001,   Relative Error 0.00087\n",
      "Training_loss 0.00001,   Relative Error 0.00086\n",
      "Training_loss 0.00001,   Relative Error 0.00086\n"
     ]
    },
    {
     "name": "stderr",
     "output_type": "stream",
     "text": [
      " 24%|██▍       | 489/2000 [01:13<02:45,  9.11it/s]"
     ]
    },
    {
     "name": "stdout",
     "output_type": "stream",
     "text": [
      "Training_loss 0.00001,   Relative Error 0.00086\n",
      "Training_loss 0.00001,   Relative Error 0.00085\n"
     ]
    },
    {
     "name": "stderr",
     "output_type": "stream",
     "text": [
      " 25%|██▍       | 491/2000 [01:13<02:46,  9.08it/s]"
     ]
    },
    {
     "name": "stdout",
     "output_type": "stream",
     "text": [
      "Training_loss 0.00001,   Relative Error 0.00086\n",
      "Training_loss 0.00001,   Relative Error 0.00086\n",
      "Training_loss 0.00001,   Relative Error 0.00086\n"
     ]
    },
    {
     "name": "stderr",
     "output_type": "stream",
     "text": [
      " 25%|██▍       | 494/2000 [01:13<02:52,  8.71it/s]"
     ]
    },
    {
     "name": "stdout",
     "output_type": "stream",
     "text": [
      "Training_loss 0.00001,   Relative Error 0.00086\n",
      "Training_loss 0.00001,   Relative Error 0.00085\n"
     ]
    },
    {
     "name": "stderr",
     "output_type": "stream",
     "text": [
      " 25%|██▍       | 497/2000 [01:14<02:34,  9.73it/s]"
     ]
    },
    {
     "name": "stdout",
     "output_type": "stream",
     "text": [
      "Training_loss 0.00001,   Relative Error 0.00085\n",
      "Training_loss 0.00001,   Relative Error 0.00085\n",
      "Training_loss 0.00001,   Relative Error 0.00085\n"
     ]
    },
    {
     "name": "stderr",
     "output_type": "stream",
     "text": [
      " 25%|██▌       | 500/2000 [01:14<02:28, 10.07it/s]"
     ]
    },
    {
     "name": "stdout",
     "output_type": "stream",
     "text": [
      "Training_loss 0.00001,   Relative Error 0.00083\n",
      "Training_loss 0.00001,   Relative Error 0.00083\n",
      "Training_loss 0.00001,   Relative Error 0.00083\n"
     ]
    },
    {
     "name": "stderr",
     "output_type": "stream",
     "text": [
      " 25%|██▌       | 502/2000 [01:14<03:10,  7.88it/s]"
     ]
    },
    {
     "name": "stdout",
     "output_type": "stream",
     "text": [
      "Training_loss 0.00001,   Relative Error 0.00082\n",
      "Training_loss 0.00001,   Relative Error 0.00081\n"
     ]
    },
    {
     "name": "stderr",
     "output_type": "stream",
     "text": [
      " 25%|██▌       | 504/2000 [01:15<03:07,  7.98it/s]"
     ]
    },
    {
     "name": "stdout",
     "output_type": "stream",
     "text": [
      "Training_loss 0.00001,   Relative Error 0.00081\n",
      "Training_loss 0.00001,   Relative Error 0.00081\n"
     ]
    },
    {
     "name": "stderr",
     "output_type": "stream",
     "text": [
      " 25%|██▌       | 506/2000 [01:15<02:54,  8.55it/s]"
     ]
    },
    {
     "name": "stdout",
     "output_type": "stream",
     "text": [
      "Training_loss 0.00001,   Relative Error 0.00081\n",
      "Training_loss 0.00001,   Relative Error 0.00080\n"
     ]
    },
    {
     "name": "stderr",
     "output_type": "stream",
     "text": [
      "\r",
      " 25%|██▌       | 508/2000 [01:15<02:43,  9.11it/s]"
     ]
    },
    {
     "name": "stdout",
     "output_type": "stream",
     "text": [
      "Training_loss 0.00001,   Relative Error 0.00080\n",
      "Training_loss 0.00001,   Relative Error 0.00079\n"
     ]
    },
    {
     "name": "stderr",
     "output_type": "stream",
     "text": [
      " 26%|██▌       | 510/2000 [01:15<02:59,  8.28it/s]"
     ]
    },
    {
     "name": "stdout",
     "output_type": "stream",
     "text": [
      "Training_loss 0.00001,   Relative Error 0.00080\n",
      "Training_loss 0.00001,   Relative Error 0.00079\n"
     ]
    },
    {
     "name": "stderr",
     "output_type": "stream",
     "text": [
      " 26%|██▌       | 512/2000 [01:15<03:04,  8.08it/s]"
     ]
    },
    {
     "name": "stdout",
     "output_type": "stream",
     "text": [
      "Training_loss 0.00001,   Relative Error 0.00079\n",
      "Training_loss 0.00001,   Relative Error 0.00079\n"
     ]
    },
    {
     "name": "stderr",
     "output_type": "stream",
     "text": [
      " 26%|██▌       | 514/2000 [01:16<03:05,  7.99it/s]"
     ]
    },
    {
     "name": "stdout",
     "output_type": "stream",
     "text": [
      "Training_loss 0.00001,   Relative Error 0.00080\n",
      "Training_loss 0.00001,   Relative Error 0.00080\n"
     ]
    },
    {
     "name": "stderr",
     "output_type": "stream",
     "text": [
      " 26%|██▌       | 516/2000 [01:16<03:11,  7.75it/s]"
     ]
    },
    {
     "name": "stdout",
     "output_type": "stream",
     "text": [
      "Training_loss 0.00001,   Relative Error 0.00079\n",
      "Training_loss 0.00001,   Relative Error 0.00079\n"
     ]
    },
    {
     "name": "stderr",
     "output_type": "stream",
     "text": [
      " 26%|██▌       | 518/2000 [01:16<03:11,  7.73it/s]"
     ]
    },
    {
     "name": "stdout",
     "output_type": "stream",
     "text": [
      "Training_loss 0.00001,   Relative Error 0.00080\n",
      "Training_loss 0.00001,   Relative Error 0.00079\n"
     ]
    },
    {
     "name": "stderr",
     "output_type": "stream",
     "text": [
      " 26%|██▌       | 520/2000 [01:16<02:57,  8.33it/s]"
     ]
    },
    {
     "name": "stdout",
     "output_type": "stream",
     "text": [
      "Training_loss 0.00001,   Relative Error 0.00080\n",
      "Training_loss 0.00001,   Relative Error 0.00080\n"
     ]
    },
    {
     "name": "stderr",
     "output_type": "stream",
     "text": [
      "\r",
      " 26%|██▌       | 522/2000 [01:17<02:51,  8.63it/s]"
     ]
    },
    {
     "name": "stdout",
     "output_type": "stream",
     "text": [
      "Training_loss 0.00001,   Relative Error 0.00080\n",
      "Training_loss 0.00001,   Relative Error 0.00079\n",
      "Training_loss 0.00001,   Relative Error 0.00080\n"
     ]
    },
    {
     "name": "stderr",
     "output_type": "stream",
     "text": [
      " 26%|██▋       | 525/2000 [01:17<02:40,  9.18it/s]"
     ]
    },
    {
     "name": "stdout",
     "output_type": "stream",
     "text": [
      "Training_loss 0.00001,   Relative Error 0.00079\n",
      "Training_loss 0.00001,   Relative Error 0.00079\n"
     ]
    },
    {
     "name": "stderr",
     "output_type": "stream",
     "text": [
      "\r",
      " 26%|██▋       | 527/2000 [01:17<02:31,  9.70it/s]"
     ]
    },
    {
     "name": "stdout",
     "output_type": "stream",
     "text": [
      "Training_loss 0.00001,   Relative Error 0.00079\n",
      "Training_loss 0.00001,   Relative Error 0.00079\n"
     ]
    },
    {
     "name": "stderr",
     "output_type": "stream",
     "text": [
      " 26%|██▋       | 529/2000 [01:17<02:37,  9.32it/s]"
     ]
    },
    {
     "name": "stdout",
     "output_type": "stream",
     "text": [
      "Training_loss 0.00001,   Relative Error 0.00080\n",
      "Training_loss 0.00001,   Relative Error 0.00080\n"
     ]
    },
    {
     "name": "stderr",
     "output_type": "stream",
     "text": [
      " 27%|██▋       | 531/2000 [01:18<02:46,  8.82it/s]"
     ]
    },
    {
     "name": "stdout",
     "output_type": "stream",
     "text": [
      "Training_loss 0.00001,   Relative Error 0.00080\n",
      "Training_loss 0.00001,   Relative Error 0.00080\n"
     ]
    },
    {
     "name": "stderr",
     "output_type": "stream",
     "text": [
      " 27%|██▋       | 533/2000 [01:18<02:42,  9.03it/s]"
     ]
    },
    {
     "name": "stdout",
     "output_type": "stream",
     "text": [
      "Training_loss 0.00001,   Relative Error 0.00080\n",
      "Training_loss 0.00001,   Relative Error 0.00080\n"
     ]
    },
    {
     "name": "stderr",
     "output_type": "stream",
     "text": [
      " 27%|██▋       | 535/2000 [01:18<02:43,  8.96it/s]"
     ]
    },
    {
     "name": "stdout",
     "output_type": "stream",
     "text": [
      "Training_loss 0.00001,   Relative Error 0.00080\n",
      "Training_loss 0.00001,   Relative Error 0.00081\n"
     ]
    },
    {
     "name": "stderr",
     "output_type": "stream",
     "text": [
      " 27%|██▋       | 538/2000 [01:18<02:33,  9.51it/s]"
     ]
    },
    {
     "name": "stdout",
     "output_type": "stream",
     "text": [
      "Training_loss 0.00001,   Relative Error 0.00081\n",
      "Training_loss 0.00001,   Relative Error 0.00082\n",
      "Training_loss 0.00001,   Relative Error 0.00082\n"
     ]
    },
    {
     "name": "stderr",
     "output_type": "stream",
     "text": [
      " 27%|██▋       | 540/2000 [01:19<02:49,  8.62it/s]"
     ]
    },
    {
     "name": "stdout",
     "output_type": "stream",
     "text": [
      "Training_loss 0.00001,   Relative Error 0.00081\n",
      "Training_loss 0.00001,   Relative Error 0.00081\n"
     ]
    },
    {
     "name": "stderr",
     "output_type": "stream",
     "text": [
      " 27%|██▋       | 542/2000 [01:19<02:51,  8.50it/s]"
     ]
    },
    {
     "name": "stdout",
     "output_type": "stream",
     "text": [
      "Training_loss 0.00001,   Relative Error 0.00081\n",
      "Training_loss 0.00001,   Relative Error 0.00082\n"
     ]
    },
    {
     "name": "stderr",
     "output_type": "stream",
     "text": [
      " 27%|██▋       | 544/2000 [01:19<02:43,  8.88it/s]"
     ]
    },
    {
     "name": "stdout",
     "output_type": "stream",
     "text": [
      "Training_loss 0.00001,   Relative Error 0.00082\n",
      "Training_loss 0.00001,   Relative Error 0.00082\n"
     ]
    },
    {
     "name": "stderr",
     "output_type": "stream",
     "text": [
      " 27%|██▋       | 546/2000 [01:19<02:43,  8.89it/s]"
     ]
    },
    {
     "name": "stdout",
     "output_type": "stream",
     "text": [
      "Training_loss 0.00001,   Relative Error 0.00083\n",
      "Training_loss 0.00001,   Relative Error 0.00083\n"
     ]
    },
    {
     "name": "stderr",
     "output_type": "stream",
     "text": [
      " 27%|██▋       | 548/2000 [01:20<02:57,  8.16it/s]"
     ]
    },
    {
     "name": "stdout",
     "output_type": "stream",
     "text": [
      "Training_loss 0.00001,   Relative Error 0.00083\n",
      "Training_loss 0.00001,   Relative Error 0.00083\n"
     ]
    },
    {
     "name": "stderr",
     "output_type": "stream",
     "text": [
      " 28%|██▊       | 550/2000 [01:20<02:52,  8.42it/s]"
     ]
    },
    {
     "name": "stdout",
     "output_type": "stream",
     "text": [
      "Training_loss 0.00001,   Relative Error 0.00083\n",
      "Training_loss 0.00001,   Relative Error 0.00083\n",
      "Training_loss 0.00001,   Relative Error 0.00084\n"
     ]
    },
    {
     "name": "stderr",
     "output_type": "stream",
     "text": [
      " 28%|██▊       | 553/2000 [01:20<02:49,  8.53it/s]"
     ]
    },
    {
     "name": "stdout",
     "output_type": "stream",
     "text": [
      "Training_loss 0.00001,   Relative Error 0.00083\n",
      "Training_loss 0.00001,   Relative Error 0.00083\n"
     ]
    },
    {
     "name": "stderr",
     "output_type": "stream",
     "text": [
      "\r",
      " 28%|██▊       | 555/2000 [01:20<02:44,  8.77it/s]"
     ]
    },
    {
     "name": "stdout",
     "output_type": "stream",
     "text": [
      "Training_loss 0.00001,   Relative Error 0.00082\n",
      "Training_loss 0.00001,   Relative Error 0.00082\n"
     ]
    },
    {
     "name": "stderr",
     "output_type": "stream",
     "text": [
      " 28%|██▊       | 557/2000 [01:21<02:42,  8.90it/s]"
     ]
    },
    {
     "name": "stdout",
     "output_type": "stream",
     "text": [
      "Training_loss 0.00001,   Relative Error 0.00083\n",
      "Training_loss 0.00001,   Relative Error 0.00083\n"
     ]
    },
    {
     "name": "stderr",
     "output_type": "stream",
     "text": [
      "\r",
      " 28%|██▊       | 559/2000 [01:21<02:37,  9.13it/s]"
     ]
    },
    {
     "name": "stdout",
     "output_type": "stream",
     "text": [
      "Training_loss 0.00001,   Relative Error 0.00083\n",
      "Training_loss 0.00001,   Relative Error 0.00083\n"
     ]
    },
    {
     "name": "stderr",
     "output_type": "stream",
     "text": [
      " 28%|██▊       | 562/2000 [01:21<02:32,  9.42it/s]"
     ]
    },
    {
     "name": "stdout",
     "output_type": "stream",
     "text": [
      "Training_loss 0.00001,   Relative Error 0.00083\n",
      "Training_loss 0.00001,   Relative Error 0.00083\n",
      "Training_loss 0.00001,   Relative Error 0.00083\n"
     ]
    },
    {
     "name": "stderr",
     "output_type": "stream",
     "text": [
      " 28%|██▊       | 564/2000 [01:21<02:48,  8.54it/s]"
     ]
    },
    {
     "name": "stdout",
     "output_type": "stream",
     "text": [
      "Training_loss 0.00001,   Relative Error 0.00084\n",
      "Training_loss 0.00001,   Relative Error 0.00084\n"
     ]
    },
    {
     "name": "stderr",
     "output_type": "stream",
     "text": [
      " 28%|██▊       | 566/2000 [01:22<02:51,  8.38it/s]"
     ]
    },
    {
     "name": "stdout",
     "output_type": "stream",
     "text": [
      "Training_loss 0.00001,   Relative Error 0.00084\n",
      "Training_loss 0.00001,   Relative Error 0.00083\n"
     ]
    },
    {
     "name": "stderr",
     "output_type": "stream",
     "text": [
      " 28%|██▊       | 568/2000 [01:22<02:59,  7.99it/s]"
     ]
    },
    {
     "name": "stdout",
     "output_type": "stream",
     "text": [
      "Training_loss 0.00001,   Relative Error 0.00084\n",
      "Training_loss 0.00001,   Relative Error 0.00083\n"
     ]
    },
    {
     "name": "stderr",
     "output_type": "stream",
     "text": [
      " 28%|██▊       | 570/2000 [01:22<02:49,  8.46it/s]"
     ]
    },
    {
     "name": "stdout",
     "output_type": "stream",
     "text": [
      "Training_loss 0.00001,   Relative Error 0.00082\n",
      "Training_loss 0.00001,   Relative Error 0.00081\n"
     ]
    },
    {
     "name": "stderr",
     "output_type": "stream",
     "text": [
      " 29%|██▊       | 572/2000 [01:22<02:48,  8.49it/s]"
     ]
    },
    {
     "name": "stdout",
     "output_type": "stream",
     "text": [
      "Training_loss 0.00001,   Relative Error 0.00081\n",
      "Training_loss 0.00001,   Relative Error 0.00082\n"
     ]
    },
    {
     "name": "stderr",
     "output_type": "stream",
     "text": [
      " 29%|██▊       | 574/2000 [01:23<02:42,  8.75it/s]"
     ]
    },
    {
     "name": "stdout",
     "output_type": "stream",
     "text": [
      "Training_loss 0.00001,   Relative Error 0.00083\n",
      "Training_loss 0.00001,   Relative Error 0.00082\n"
     ]
    },
    {
     "name": "stderr",
     "output_type": "stream",
     "text": [
      " 29%|██▉       | 576/2000 [01:23<02:48,  8.45it/s]"
     ]
    },
    {
     "name": "stdout",
     "output_type": "stream",
     "text": [
      "Training_loss 0.00001,   Relative Error 0.00083\n",
      "Training_loss 0.00001,   Relative Error 0.00082\n"
     ]
    },
    {
     "name": "stderr",
     "output_type": "stream",
     "text": [
      " 29%|██▉       | 578/2000 [01:23<02:44,  8.64it/s]"
     ]
    },
    {
     "name": "stdout",
     "output_type": "stream",
     "text": [
      "Training_loss 0.00001,   Relative Error 0.00083\n",
      "Training_loss 0.00001,   Relative Error 0.00084\n"
     ]
    },
    {
     "name": "stderr",
     "output_type": "stream",
     "text": [
      "\r",
      " 29%|██▉       | 580/2000 [01:23<02:32,  9.30it/s]"
     ]
    },
    {
     "name": "stdout",
     "output_type": "stream",
     "text": [
      "Training_loss 0.00001,   Relative Error 0.00084\n",
      "Training_loss 0.00001,   Relative Error 0.00084\n"
     ]
    },
    {
     "name": "stderr",
     "output_type": "stream",
     "text": [
      " 29%|██▉       | 582/2000 [01:23<02:48,  8.43it/s]"
     ]
    },
    {
     "name": "stdout",
     "output_type": "stream",
     "text": [
      "Training_loss 0.00001,   Relative Error 0.00084\n",
      "Training_loss 0.00001,   Relative Error 0.00084\n"
     ]
    },
    {
     "name": "stderr",
     "output_type": "stream",
     "text": [
      "\r",
      " 29%|██▉       | 583/2000 [01:24<02:41,  8.79it/s]"
     ]
    },
    {
     "name": "stdout",
     "output_type": "stream",
     "text": [
      "Training_loss 0.00001,   Relative Error 0.00084\n",
      "Training_loss 0.00001,   Relative Error 0.00085\n",
      "Training_loss 0.00001,   Relative Error 0.00085\n"
     ]
    },
    {
     "name": "stderr",
     "output_type": "stream",
     "text": [
      " 29%|██▉       | 587/2000 [01:24<02:34,  9.12it/s]"
     ]
    },
    {
     "name": "stdout",
     "output_type": "stream",
     "text": [
      "Training_loss 0.00001,   Relative Error 0.00085\n",
      "Training_loss 0.00001,   Relative Error 0.00085\n"
     ]
    },
    {
     "name": "stderr",
     "output_type": "stream",
     "text": [
      " 29%|██▉       | 589/2000 [01:24<02:36,  8.99it/s]"
     ]
    },
    {
     "name": "stdout",
     "output_type": "stream",
     "text": [
      "Training_loss 0.00001,   Relative Error 0.00084\n",
      "Training_loss 0.00001,   Relative Error 0.00085\n"
     ]
    },
    {
     "name": "stderr",
     "output_type": "stream",
     "text": [
      "\r",
      " 30%|██▉       | 591/2000 [01:24<02:35,  9.08it/s]"
     ]
    },
    {
     "name": "stdout",
     "output_type": "stream",
     "text": [
      "Training_loss 0.00001,   Relative Error 0.00085\n",
      "Training_loss 0.00001,   Relative Error 0.00086\n",
      "Training_loss 0.00001,   Relative Error 0.00086\n"
     ]
    },
    {
     "name": "stderr",
     "output_type": "stream",
     "text": [
      " 30%|██▉       | 595/2000 [01:25<02:17, 10.19it/s]"
     ]
    },
    {
     "name": "stdout",
     "output_type": "stream",
     "text": [
      "Training_loss 0.00001,   Relative Error 0.00086\n",
      "Training_loss 0.00001,   Relative Error 0.00084\n",
      "Training_loss 0.00001,   Relative Error 0.00084\n"
     ]
    },
    {
     "name": "stderr",
     "output_type": "stream",
     "text": [
      "\r",
      " 30%|██▉       | 597/2000 [01:25<02:17, 10.17it/s]"
     ]
    },
    {
     "name": "stdout",
     "output_type": "stream",
     "text": [
      "Training_loss 0.00001,   Relative Error 0.00085\n",
      "Training_loss 0.00001,   Relative Error 0.00084\n",
      "Training_loss 0.00001,   Relative Error 0.00084\n"
     ]
    },
    {
     "name": "stderr",
     "output_type": "stream",
     "text": [
      " 30%|███       | 600/2000 [01:25<02:24,  9.70it/s]"
     ]
    },
    {
     "name": "stdout",
     "output_type": "stream",
     "text": [
      "Training_loss 0.00001,   Relative Error 0.00083\n",
      "Training_loss 0.00001,   Relative Error 0.00083\n"
     ]
    },
    {
     "name": "stderr",
     "output_type": "stream",
     "text": [
      "\r",
      " 30%|███       | 602/2000 [01:26<02:28,  9.44it/s]"
     ]
    },
    {
     "name": "stdout",
     "output_type": "stream",
     "text": [
      "Training_loss 0.00001,   Relative Error 0.00082\n",
      "Training_loss 0.00001,   Relative Error 0.00081\n"
     ]
    },
    {
     "name": "stderr",
     "output_type": "stream",
     "text": [
      " 30%|███       | 604/2000 [01:26<02:31,  9.21it/s]"
     ]
    },
    {
     "name": "stdout",
     "output_type": "stream",
     "text": [
      "Training_loss 0.00001,   Relative Error 0.00080\n",
      "Training_loss 0.00001,   Relative Error 0.00079\n",
      "Training_loss 0.00001,   Relative Error 0.00078\n"
     ]
    },
    {
     "name": "stderr",
     "output_type": "stream",
     "text": [
      " 30%|███       | 607/2000 [01:26<02:34,  9.01it/s]"
     ]
    },
    {
     "name": "stdout",
     "output_type": "stream",
     "text": [
      "Training_loss 0.00001,   Relative Error 0.00078\n",
      "Training_loss 0.00001,   Relative Error 0.00078\n"
     ]
    },
    {
     "name": "stderr",
     "output_type": "stream",
     "text": [
      " 30%|███       | 610/2000 [01:26<02:21,  9.80it/s]"
     ]
    },
    {
     "name": "stdout",
     "output_type": "stream",
     "text": [
      "Training_loss 0.00001,   Relative Error 0.00079\n",
      "Training_loss 0.00001,   Relative Error 0.00078\n",
      "Training_loss 0.00001,   Relative Error 0.00078\n"
     ]
    },
    {
     "name": "stderr",
     "output_type": "stream",
     "text": [
      "\r",
      " 31%|███       | 612/2000 [01:27<02:26,  9.46it/s]"
     ]
    },
    {
     "name": "stdout",
     "output_type": "stream",
     "text": [
      "Training_loss 0.00001,   Relative Error 0.00078\n",
      "Training_loss 0.00001,   Relative Error 0.00078\n"
     ]
    },
    {
     "name": "stderr",
     "output_type": "stream",
     "text": [
      " 31%|███       | 614/2000 [01:27<02:30,  9.23it/s]"
     ]
    },
    {
     "name": "stdout",
     "output_type": "stream",
     "text": [
      "Training_loss 0.00001,   Relative Error 0.00078\n",
      "Training_loss 0.00001,   Relative Error 0.00079\n"
     ]
    },
    {
     "name": "stderr",
     "output_type": "stream",
     "text": [
      " 31%|███       | 616/2000 [01:27<02:30,  9.19it/s]"
     ]
    },
    {
     "name": "stdout",
     "output_type": "stream",
     "text": [
      "Training_loss 0.00001,   Relative Error 0.00079\n",
      "Training_loss 0.00001,   Relative Error 0.00079\n",
      "Training_loss 0.00001,   Relative Error 0.00079\n"
     ]
    },
    {
     "name": "stderr",
     "output_type": "stream",
     "text": [
      "\r",
      " 31%|███       | 618/2000 [01:27<02:25,  9.49it/s]"
     ]
    },
    {
     "name": "stdout",
     "output_type": "stream",
     "text": [
      "Training_loss 0.00001,   Relative Error 0.00079\n",
      "Training_loss 0.00001,   Relative Error 0.00079\n"
     ]
    },
    {
     "name": "stderr",
     "output_type": "stream",
     "text": [
      " 31%|███       | 621/2000 [01:28<02:36,  8.81it/s]"
     ]
    },
    {
     "name": "stdout",
     "output_type": "stream",
     "text": [
      "Training_loss 0.00001,   Relative Error 0.00079\n",
      "Training_loss 0.00001,   Relative Error 0.00079\n"
     ]
    },
    {
     "name": "stderr",
     "output_type": "stream",
     "text": [
      " 31%|███       | 623/2000 [01:28<02:30,  9.17it/s]"
     ]
    },
    {
     "name": "stdout",
     "output_type": "stream",
     "text": [
      "Training_loss 0.00001,   Relative Error 0.00079\n",
      "Training_loss 0.00001,   Relative Error 0.00079\n",
      "Training_loss 0.00001,   Relative Error 0.00080\n"
     ]
    },
    {
     "name": "stderr",
     "output_type": "stream",
     "text": [
      " 31%|███▏      | 626/2000 [01:28<02:17,  9.96it/s]"
     ]
    },
    {
     "name": "stdout",
     "output_type": "stream",
     "text": [
      "Training_loss 0.00001,   Relative Error 0.00079\n",
      "Training_loss 0.00001,   Relative Error 0.00079\n"
     ]
    },
    {
     "name": "stderr",
     "output_type": "stream",
     "text": [
      " 31%|███▏      | 628/2000 [01:28<02:26,  9.34it/s]"
     ]
    },
    {
     "name": "stdout",
     "output_type": "stream",
     "text": [
      "Training_loss 0.00001,   Relative Error 0.00079\n",
      "Training_loss 0.00001,   Relative Error 0.00079\n"
     ]
    },
    {
     "name": "stderr",
     "output_type": "stream",
     "text": [
      "\r",
      " 32%|███▏      | 630/2000 [01:29<02:13, 10.24it/s]"
     ]
    },
    {
     "name": "stdout",
     "output_type": "stream",
     "text": [
      "Training_loss 0.00001,   Relative Error 0.00080\n",
      "Training_loss 0.00001,   Relative Error 0.00081\n",
      "Training_loss 0.00001,   Relative Error 0.00081\n"
     ]
    },
    {
     "name": "stderr",
     "output_type": "stream",
     "text": [
      " 32%|███▏      | 633/2000 [01:29<02:24,  9.44it/s]"
     ]
    },
    {
     "name": "stdout",
     "output_type": "stream",
     "text": [
      "Training_loss 0.00001,   Relative Error 0.00080\n",
      "Training_loss 0.00001,   Relative Error 0.00080\n"
     ]
    },
    {
     "name": "stderr",
     "output_type": "stream",
     "text": [
      "\r",
      " 32%|███▏      | 635/2000 [01:29<02:29,  9.14it/s]"
     ]
    },
    {
     "name": "stdout",
     "output_type": "stream",
     "text": [
      "Training_loss 0.00001,   Relative Error 0.00079\n",
      "Training_loss 0.00001,   Relative Error 0.00079\n"
     ]
    },
    {
     "name": "stderr",
     "output_type": "stream",
     "text": [
      " 32%|███▏      | 637/2000 [01:29<02:37,  8.68it/s]"
     ]
    },
    {
     "name": "stdout",
     "output_type": "stream",
     "text": [
      "Training_loss 0.00001,   Relative Error 0.00080\n",
      "Training_loss 0.00001,   Relative Error 0.00080\n"
     ]
    },
    {
     "name": "stderr",
     "output_type": "stream",
     "text": [
      " 32%|███▏      | 639/2000 [01:30<02:46,  8.16it/s]"
     ]
    },
    {
     "name": "stdout",
     "output_type": "stream",
     "text": [
      "Training_loss 0.00001,   Relative Error 0.00081\n",
      "Training_loss 0.00001,   Relative Error 0.00081\n"
     ]
    },
    {
     "name": "stderr",
     "output_type": "stream",
     "text": [
      " 32%|███▏      | 642/2000 [01:30<02:32,  8.90it/s]"
     ]
    },
    {
     "name": "stdout",
     "output_type": "stream",
     "text": [
      "Training_loss 0.00001,   Relative Error 0.00081\n",
      "Training_loss 0.00001,   Relative Error 0.00081\n",
      "Training_loss 0.00001,   Relative Error 0.00081\n"
     ]
    },
    {
     "name": "stderr",
     "output_type": "stream",
     "text": [
      " 32%|███▏      | 645/2000 [01:30<02:27,  9.17it/s]"
     ]
    },
    {
     "name": "stdout",
     "output_type": "stream",
     "text": [
      "Training_loss 0.00001,   Relative Error 0.00082\n",
      "Training_loss 0.00001,   Relative Error 0.00082\n",
      "Training_loss 0.00001,   Relative Error 0.00081\n"
     ]
    },
    {
     "name": "stderr",
     "output_type": "stream",
     "text": [
      "\r",
      " 32%|███▏      | 647/2000 [01:30<02:22,  9.47it/s]"
     ]
    },
    {
     "name": "stdout",
     "output_type": "stream",
     "text": [
      "Training_loss 0.00001,   Relative Error 0.00081\n",
      "Training_loss 0.00001,   Relative Error 0.00081\n",
      "Training_loss 0.00001,   Relative Error 0.00080\n"
     ]
    },
    {
     "name": "stderr",
     "output_type": "stream",
     "text": [
      "\r",
      " 32%|███▏      | 649/2000 [01:31<02:20,  9.58it/s]"
     ]
    },
    {
     "name": "stdout",
     "output_type": "stream",
     "text": [
      "Training_loss 0.00001,   Relative Error 0.00081\n"
     ]
    },
    {
     "name": "stderr",
     "output_type": "stream",
     "text": [
      " 33%|███▎      | 651/2000 [01:31<02:28,  9.09it/s]"
     ]
    },
    {
     "name": "stdout",
     "output_type": "stream",
     "text": [
      "Training_loss 0.00001,   Relative Error 0.00081\n",
      "Training_loss 0.00001,   Relative Error 0.00081\n"
     ]
    },
    {
     "name": "stderr",
     "output_type": "stream",
     "text": [
      " 33%|███▎      | 653/2000 [01:31<02:35,  8.69it/s]"
     ]
    },
    {
     "name": "stdout",
     "output_type": "stream",
     "text": [
      "Training_loss 0.00001,   Relative Error 0.00080\n",
      "Training_loss 0.00001,   Relative Error 0.00079\n"
     ]
    },
    {
     "name": "stderr",
     "output_type": "stream",
     "text": [
      " 33%|███▎      | 655/2000 [01:31<02:46,  8.07it/s]"
     ]
    },
    {
     "name": "stdout",
     "output_type": "stream",
     "text": [
      "Training_loss 0.00001,   Relative Error 0.00078\n",
      "Training_loss 0.00001,   Relative Error 0.00078\n"
     ]
    },
    {
     "name": "stderr",
     "output_type": "stream",
     "text": [
      " 33%|███▎      | 657/2000 [01:32<03:07,  7.14it/s]"
     ]
    },
    {
     "name": "stdout",
     "output_type": "stream",
     "text": [
      "Training_loss 0.00001,   Relative Error 0.00078\n",
      "Training_loss 0.00001,   Relative Error 0.00078\n"
     ]
    },
    {
     "name": "stderr",
     "output_type": "stream",
     "text": [
      " 33%|███▎      | 659/2000 [01:32<03:07,  7.14it/s]"
     ]
    },
    {
     "name": "stdout",
     "output_type": "stream",
     "text": [
      "Training_loss 0.00001,   Relative Error 0.00079\n",
      "Training_loss 0.00001,   Relative Error 0.00080\n"
     ]
    },
    {
     "name": "stderr",
     "output_type": "stream",
     "text": [
      " 33%|███▎      | 661/2000 [01:32<03:10,  7.04it/s]"
     ]
    },
    {
     "name": "stdout",
     "output_type": "stream",
     "text": [
      "Training_loss 0.00001,   Relative Error 0.00080\n",
      "Training_loss 0.00001,   Relative Error 0.00080\n"
     ]
    },
    {
     "name": "stderr",
     "output_type": "stream",
     "text": [
      " 33%|███▎      | 663/2000 [01:33<02:58,  7.49it/s]"
     ]
    },
    {
     "name": "stdout",
     "output_type": "stream",
     "text": [
      "Training_loss 0.00001,   Relative Error 0.00081\n",
      "Training_loss 0.00001,   Relative Error 0.00081\n"
     ]
    },
    {
     "name": "stderr",
     "output_type": "stream",
     "text": [
      " 33%|███▎      | 665/2000 [01:33<02:46,  8.04it/s]"
     ]
    },
    {
     "name": "stdout",
     "output_type": "stream",
     "text": [
      "Training_loss 0.00001,   Relative Error 0.00080\n",
      "Training_loss 0.00001,   Relative Error 0.00080\n"
     ]
    },
    {
     "name": "stderr",
     "output_type": "stream",
     "text": [
      " 33%|███▎      | 667/2000 [01:33<02:42,  8.20it/s]"
     ]
    },
    {
     "name": "stdout",
     "output_type": "stream",
     "text": [
      "Training_loss 0.00001,   Relative Error 0.00080\n",
      "Training_loss 0.00001,   Relative Error 0.00080\n"
     ]
    },
    {
     "name": "stderr",
     "output_type": "stream",
     "text": [
      " 34%|███▎      | 670/2000 [01:33<02:24,  9.20it/s]"
     ]
    },
    {
     "name": "stdout",
     "output_type": "stream",
     "text": [
      "Training_loss 0.00001,   Relative Error 0.00080\n",
      "Training_loss 0.00001,   Relative Error 0.00080\n",
      "Training_loss 0.00001,   Relative Error 0.00080\n"
     ]
    },
    {
     "name": "stderr",
     "output_type": "stream",
     "text": [
      " 34%|███▎      | 672/2000 [01:34<02:32,  8.68it/s]"
     ]
    },
    {
     "name": "stdout",
     "output_type": "stream",
     "text": [
      "Training_loss 0.00001,   Relative Error 0.00079\n",
      "Training_loss 0.00001,   Relative Error 0.00079\n"
     ]
    },
    {
     "name": "stderr",
     "output_type": "stream",
     "text": [
      " 34%|███▎      | 674/2000 [01:34<02:28,  8.95it/s]"
     ]
    },
    {
     "name": "stdout",
     "output_type": "stream",
     "text": [
      "Training_loss 0.00001,   Relative Error 0.00079\n",
      "Training_loss 0.00001,   Relative Error 0.00079\n"
     ]
    },
    {
     "name": "stderr",
     "output_type": "stream",
     "text": [
      " 34%|███▍      | 677/2000 [01:34<02:23,  9.24it/s]"
     ]
    },
    {
     "name": "stdout",
     "output_type": "stream",
     "text": [
      "Training_loss 0.00001,   Relative Error 0.00079\n",
      "Training_loss 0.00001,   Relative Error 0.00079\n",
      "Training_loss 0.00001,   Relative Error 0.00079\n"
     ]
    },
    {
     "name": "stderr",
     "output_type": "stream",
     "text": [
      " 34%|███▍      | 679/2000 [01:34<02:31,  8.73it/s]"
     ]
    },
    {
     "name": "stdout",
     "output_type": "stream",
     "text": [
      "Training_loss 0.00001,   Relative Error 0.00078\n",
      "Training_loss 0.00001,   Relative Error 0.00078\n"
     ]
    },
    {
     "name": "stderr",
     "output_type": "stream",
     "text": [
      " 34%|███▍      | 681/2000 [01:35<02:37,  8.40it/s]"
     ]
    },
    {
     "name": "stdout",
     "output_type": "stream",
     "text": [
      "Training_loss 0.00001,   Relative Error 0.00078\n",
      "Training_loss 0.00001,   Relative Error 0.00079\n"
     ]
    },
    {
     "name": "stderr",
     "output_type": "stream",
     "text": [
      " 34%|███▍      | 683/2000 [01:35<02:34,  8.53it/s]"
     ]
    },
    {
     "name": "stdout",
     "output_type": "stream",
     "text": [
      "Training_loss 0.00001,   Relative Error 0.00079\n",
      "Training_loss 0.00001,   Relative Error 0.00078\n"
     ]
    },
    {
     "name": "stderr",
     "output_type": "stream",
     "text": [
      " 34%|███▍      | 685/2000 [01:35<02:29,  8.80it/s]"
     ]
    },
    {
     "name": "stdout",
     "output_type": "stream",
     "text": [
      "Training_loss 0.00001,   Relative Error 0.00079\n",
      "Training_loss 0.00001,   Relative Error 0.00079\n"
     ]
    },
    {
     "name": "stderr",
     "output_type": "stream",
     "text": [
      " 34%|███▍      | 687/2000 [01:35<02:24,  9.09it/s]"
     ]
    },
    {
     "name": "stdout",
     "output_type": "stream",
     "text": [
      "Training_loss 0.00001,   Relative Error 0.00079\n",
      "Training_loss 0.00001,   Relative Error 0.00079\n",
      "Training_loss 0.00001,   Relative Error 0.00079\n"
     ]
    },
    {
     "name": "stderr",
     "output_type": "stream",
     "text": [
      "\r",
      " 34%|███▍      | 689/2000 [01:35<02:18,  9.43it/s]"
     ]
    },
    {
     "name": "stdout",
     "output_type": "stream",
     "text": [
      "Training_loss 0.00001,   Relative Error 0.00079\n"
     ]
    },
    {
     "name": "stderr",
     "output_type": "stream",
     "text": [
      " 35%|███▍      | 692/2000 [01:36<02:18,  9.47it/s]"
     ]
    },
    {
     "name": "stdout",
     "output_type": "stream",
     "text": [
      "Training_loss 0.00001,   Relative Error 0.00080\n",
      "Training_loss 0.00001,   Relative Error 0.00080\n",
      "Training_loss 0.00001,   Relative Error 0.00079\n"
     ]
    },
    {
     "name": "stderr",
     "output_type": "stream",
     "text": [
      " 35%|███▍      | 694/2000 [01:36<02:22,  9.19it/s]"
     ]
    },
    {
     "name": "stdout",
     "output_type": "stream",
     "text": [
      "Training_loss 0.00001,   Relative Error 0.00078\n",
      "Training_loss 0.00001,   Relative Error 0.00077\n"
     ]
    },
    {
     "name": "stderr",
     "output_type": "stream",
     "text": [
      "\r",
      " 35%|███▍      | 695/2000 [01:36<02:22,  9.15it/s]"
     ]
    },
    {
     "name": "stdout",
     "output_type": "stream",
     "text": [
      "Training_loss 0.00001,   Relative Error 0.00078\n",
      "Training_loss 0.00001,   Relative Error 0.00078\n"
     ]
    },
    {
     "name": "stderr",
     "output_type": "stream",
     "text": [
      " 35%|███▍      | 698/2000 [01:36<02:25,  8.97it/s]"
     ]
    },
    {
     "name": "stdout",
     "output_type": "stream",
     "text": [
      "Training_loss 0.00001,   Relative Error 0.00078\n",
      "Training_loss 0.00001,   Relative Error 0.00078\n"
     ]
    },
    {
     "name": "stderr",
     "output_type": "stream",
     "text": [
      " 35%|███▌      | 700/2000 [01:37<02:20,  9.26it/s]"
     ]
    },
    {
     "name": "stdout",
     "output_type": "stream",
     "text": [
      "Training_loss 0.00001,   Relative Error 0.00079\n",
      "Training_loss 0.00001,   Relative Error 0.00080\n"
     ]
    },
    {
     "name": "stderr",
     "output_type": "stream",
     "text": [
      " 35%|███▌      | 702/2000 [01:37<02:21,  9.21it/s]"
     ]
    },
    {
     "name": "stdout",
     "output_type": "stream",
     "text": [
      "Training_loss 0.00001,   Relative Error 0.00079\n",
      "Training_loss 0.00001,   Relative Error 0.00079\n"
     ]
    },
    {
     "name": "stderr",
     "output_type": "stream",
     "text": [
      " 35%|███▌      | 704/2000 [01:37<02:26,  8.84it/s]"
     ]
    },
    {
     "name": "stdout",
     "output_type": "stream",
     "text": [
      "Training_loss 0.00001,   Relative Error 0.00079\n",
      "Training_loss 0.00001,   Relative Error 0.00079\n"
     ]
    },
    {
     "name": "stderr",
     "output_type": "stream",
     "text": [
      "\r",
      " 35%|███▌      | 706/2000 [01:37<02:20,  9.19it/s]"
     ]
    },
    {
     "name": "stdout",
     "output_type": "stream",
     "text": [
      "Training_loss 0.00001,   Relative Error 0.00078\n",
      "Training_loss 0.00001,   Relative Error 0.00079\n"
     ]
    },
    {
     "name": "stderr",
     "output_type": "stream",
     "text": [
      " 35%|███▌      | 708/2000 [01:37<02:16,  9.46it/s]"
     ]
    },
    {
     "name": "stdout",
     "output_type": "stream",
     "text": [
      "Training_loss 0.00001,   Relative Error 0.00080\n",
      "Training_loss 0.00001,   Relative Error 0.00080\n"
     ]
    },
    {
     "name": "stderr",
     "output_type": "stream",
     "text": [
      " 36%|███▌      | 711/2000 [01:38<02:10,  9.88it/s]"
     ]
    },
    {
     "name": "stdout",
     "output_type": "stream",
     "text": [
      "Training_loss 0.00001,   Relative Error 0.00081\n",
      "Training_loss 0.00001,   Relative Error 0.00081\n",
      "Training_loss 0.00001,   Relative Error 0.00081\n"
     ]
    },
    {
     "name": "stderr",
     "output_type": "stream",
     "text": [
      "\r",
      " 36%|███▌      | 713/2000 [01:38<02:08, 10.01it/s]"
     ]
    },
    {
     "name": "stdout",
     "output_type": "stream",
     "text": [
      "Training_loss 0.00001,   Relative Error 0.00082\n",
      "Training_loss 0.00001,   Relative Error 0.00082\n",
      "Training_loss 0.00001,   Relative Error 0.00082\n"
     ]
    },
    {
     "name": "stderr",
     "output_type": "stream",
     "text": [
      " 36%|███▌      | 717/2000 [01:38<02:06, 10.16it/s]"
     ]
    },
    {
     "name": "stdout",
     "output_type": "stream",
     "text": [
      "Training_loss 0.00001,   Relative Error 0.00081\n",
      "Training_loss 0.00001,   Relative Error 0.00081\n",
      "Training_loss 0.00001,   Relative Error 0.00081\n"
     ]
    },
    {
     "name": "stderr",
     "output_type": "stream",
     "text": [
      "\r",
      " 36%|███▌      | 719/2000 [01:39<02:08,  9.94it/s]"
     ]
    },
    {
     "name": "stdout",
     "output_type": "stream",
     "text": [
      "Training_loss 0.00001,   Relative Error 0.00081\n",
      "Training_loss 0.00001,   Relative Error 0.00082\n"
     ]
    },
    {
     "name": "stderr",
     "output_type": "stream",
     "text": [
      " 36%|███▌      | 721/2000 [01:39<02:17,  9.28it/s]"
     ]
    },
    {
     "name": "stdout",
     "output_type": "stream",
     "text": [
      "Training_loss 0.00001,   Relative Error 0.00082\n",
      "Training_loss 0.00001,   Relative Error 0.00082\n"
     ]
    },
    {
     "name": "stderr",
     "output_type": "stream",
     "text": [
      " 36%|███▌      | 723/2000 [01:39<02:23,  8.91it/s]"
     ]
    },
    {
     "name": "stdout",
     "output_type": "stream",
     "text": [
      "Training_loss 0.00001,   Relative Error 0.00083\n",
      "Training_loss 0.00001,   Relative Error 0.00083\n"
     ]
    },
    {
     "name": "stderr",
     "output_type": "stream",
     "text": [
      " 36%|███▋      | 726/2000 [01:39<02:16,  9.32it/s]"
     ]
    },
    {
     "name": "stdout",
     "output_type": "stream",
     "text": [
      "Training_loss 0.00001,   Relative Error 0.00083\n",
      "Training_loss 0.00001,   Relative Error 0.00083\n",
      "Training_loss 0.00001,   Relative Error 0.00083\n"
     ]
    },
    {
     "name": "stderr",
     "output_type": "stream",
     "text": [
      " 36%|███▋      | 728/2000 [01:40<02:23,  8.88it/s]"
     ]
    },
    {
     "name": "stdout",
     "output_type": "stream",
     "text": [
      "Training_loss 0.00001,   Relative Error 0.00082\n",
      "Training_loss 0.00001,   Relative Error 0.00082\n"
     ]
    },
    {
     "name": "stderr",
     "output_type": "stream",
     "text": [
      " 36%|███▋      | 730/2000 [01:40<02:24,  8.78it/s]"
     ]
    },
    {
     "name": "stdout",
     "output_type": "stream",
     "text": [
      "Training_loss 0.00001,   Relative Error 0.00081\n",
      "Training_loss 0.00001,   Relative Error 0.00081\n"
     ]
    },
    {
     "name": "stderr",
     "output_type": "stream",
     "text": [
      " 37%|███▋      | 732/2000 [01:40<02:18,  9.13it/s]"
     ]
    },
    {
     "name": "stdout",
     "output_type": "stream",
     "text": [
      "Training_loss 0.00001,   Relative Error 0.00081\n",
      "Training_loss 0.00001,   Relative Error 0.00082\n",
      "Training_loss 0.00001,   Relative Error 0.00082\n"
     ]
    },
    {
     "name": "stderr",
     "output_type": "stream",
     "text": [
      " 37%|███▋      | 735/2000 [01:40<02:07,  9.89it/s]"
     ]
    },
    {
     "name": "stdout",
     "output_type": "stream",
     "text": [
      "Training_loss 0.00001,   Relative Error 0.00082\n",
      "Training_loss 0.00001,   Relative Error 0.00083\n"
     ]
    },
    {
     "name": "stderr",
     "output_type": "stream",
     "text": [
      " 37%|███▋      | 738/2000 [01:41<02:06,  9.99it/s]"
     ]
    },
    {
     "name": "stdout",
     "output_type": "stream",
     "text": [
      "Training_loss 0.00001,   Relative Error 0.00081\n",
      "Training_loss 0.00001,   Relative Error 0.00081\n",
      "Training_loss 0.00001,   Relative Error 0.00080\n"
     ]
    },
    {
     "name": "stderr",
     "output_type": "stream",
     "text": [
      " 37%|███▋      | 741/2000 [01:41<02:14,  9.37it/s]"
     ]
    },
    {
     "name": "stdout",
     "output_type": "stream",
     "text": [
      "Training_loss 0.00001,   Relative Error 0.00080\n",
      "Training_loss 0.00001,   Relative Error 0.00080\n",
      "Training_loss 0.00001,   Relative Error 0.00080\n"
     ]
    },
    {
     "name": "stderr",
     "output_type": "stream",
     "text": [
      " 37%|███▋      | 743/2000 [01:41<02:19,  9.01it/s]"
     ]
    },
    {
     "name": "stdout",
     "output_type": "stream",
     "text": [
      "Training_loss 0.00001,   Relative Error 0.00081\n",
      "Training_loss 0.00001,   Relative Error 0.00081\n"
     ]
    },
    {
     "name": "stderr",
     "output_type": "stream",
     "text": [
      " 37%|███▋      | 745/2000 [01:41<02:15,  9.25it/s]"
     ]
    },
    {
     "name": "stdout",
     "output_type": "stream",
     "text": [
      "Training_loss 0.00001,   Relative Error 0.00080\n",
      "Training_loss 0.00001,   Relative Error 0.00080\n"
     ]
    },
    {
     "name": "stderr",
     "output_type": "stream",
     "text": [
      " 37%|███▋      | 747/2000 [01:42<02:21,  8.88it/s]"
     ]
    },
    {
     "name": "stdout",
     "output_type": "stream",
     "text": [
      "Training_loss 0.00001,   Relative Error 0.00080\n",
      "Training_loss 0.00001,   Relative Error 0.00079\n"
     ]
    },
    {
     "name": "stderr",
     "output_type": "stream",
     "text": [
      " 38%|███▊      | 750/2000 [01:42<02:08,  9.76it/s]"
     ]
    },
    {
     "name": "stdout",
     "output_type": "stream",
     "text": [
      "Training_loss 0.00001,   Relative Error 0.00079\n",
      "Training_loss 0.00001,   Relative Error 0.00079\n",
      "Training_loss 0.00001,   Relative Error 0.00078\n"
     ]
    },
    {
     "name": "stderr",
     "output_type": "stream",
     "text": [
      " 38%|███▊      | 752/2000 [01:42<02:17,  9.07it/s]"
     ]
    },
    {
     "name": "stdout",
     "output_type": "stream",
     "text": [
      "Training_loss 0.00001,   Relative Error 0.00077\n",
      "Training_loss 0.00001,   Relative Error 0.00078\n"
     ]
    },
    {
     "name": "stderr",
     "output_type": "stream",
     "text": [
      " 38%|███▊      | 755/2000 [01:42<02:07,  9.77it/s]"
     ]
    },
    {
     "name": "stdout",
     "output_type": "stream",
     "text": [
      "Training_loss 0.00001,   Relative Error 0.00079\n",
      "Training_loss 0.00001,   Relative Error 0.00078\n",
      "Training_loss 0.00001,   Relative Error 0.00078\n"
     ]
    },
    {
     "name": "stderr",
     "output_type": "stream",
     "text": [
      " 38%|███▊      | 758/2000 [01:43<01:57, 10.57it/s]"
     ]
    },
    {
     "name": "stdout",
     "output_type": "stream",
     "text": [
      "Training_loss 0.00001,   Relative Error 0.00079\n",
      "Training_loss 0.00001,   Relative Error 0.00079\n",
      "Training_loss 0.00001,   Relative Error 0.00079\n"
     ]
    },
    {
     "name": "stderr",
     "output_type": "stream",
     "text": [
      "\r",
      " 38%|███▊      | 760/2000 [01:43<02:00, 10.31it/s]"
     ]
    },
    {
     "name": "stdout",
     "output_type": "stream",
     "text": [
      "Training_loss 0.00001,   Relative Error 0.00079\n",
      "Training_loss 0.00001,   Relative Error 0.00080\n"
     ]
    },
    {
     "name": "stderr",
     "output_type": "stream",
     "text": [
      "\r",
      " 38%|███▊      | 762/2000 [01:43<02:08,  9.66it/s]"
     ]
    },
    {
     "name": "stdout",
     "output_type": "stream",
     "text": [
      "Training_loss 0.00001,   Relative Error 0.00080\n",
      "Training_loss 0.00001,   Relative Error 0.00080\n"
     ]
    },
    {
     "name": "stderr",
     "output_type": "stream",
     "text": [
      " 38%|███▊      | 765/2000 [01:43<02:04,  9.93it/s]"
     ]
    },
    {
     "name": "stdout",
     "output_type": "stream",
     "text": [
      "Training_loss 0.00001,   Relative Error 0.00080\n",
      "Training_loss 0.00001,   Relative Error 0.00079\n",
      "Training_loss 0.00001,   Relative Error 0.00080\n"
     ]
    },
    {
     "name": "stderr",
     "output_type": "stream",
     "text": [
      "\r",
      " 38%|███▊      | 767/2000 [01:44<02:02, 10.09it/s]"
     ]
    },
    {
     "name": "stdout",
     "output_type": "stream",
     "text": [
      "Training_loss 0.00001,   Relative Error 0.00079\n",
      "Training_loss 0.00001,   Relative Error 0.00080\n",
      "Training_loss 0.00001,   Relative Error 0.00080\n"
     ]
    },
    {
     "name": "stderr",
     "output_type": "stream",
     "text": [
      "\r",
      " 38%|███▊      | 769/2000 [01:44<01:58, 10.37it/s]"
     ]
    },
    {
     "name": "stdout",
     "output_type": "stream",
     "text": [
      "Training_loss 0.00001,   Relative Error 0.00080\n",
      "Training_loss 0.00001,   Relative Error 0.00080\n"
     ]
    },
    {
     "name": "stderr",
     "output_type": "stream",
     "text": [
      " 39%|███▊      | 773/2000 [01:44<02:00, 10.22it/s]"
     ]
    },
    {
     "name": "stdout",
     "output_type": "stream",
     "text": [
      "Training_loss 0.00001,   Relative Error 0.00080\n",
      "Training_loss 0.00001,   Relative Error 0.00080\n",
      "Training_loss 0.00001,   Relative Error 0.00081\n"
     ]
    },
    {
     "name": "stderr",
     "output_type": "stream",
     "text": [
      "\r",
      " 39%|███▉      | 775/2000 [01:44<02:03,  9.89it/s]"
     ]
    },
    {
     "name": "stdout",
     "output_type": "stream",
     "text": [
      "Training_loss 0.00001,   Relative Error 0.00080\n",
      "Training_loss 0.00001,   Relative Error 0.00080\n",
      "Training_loss 0.00001,   Relative Error 0.00079\n"
     ]
    },
    {
     "name": "stderr",
     "output_type": "stream",
     "text": [
      " 39%|███▉      | 779/2000 [01:45<01:56, 10.46it/s]"
     ]
    },
    {
     "name": "stdout",
     "output_type": "stream",
     "text": [
      "Training_loss 0.00001,   Relative Error 0.00079\n",
      "Training_loss 0.00001,   Relative Error 0.00079\n",
      "Training_loss 0.00001,   Relative Error 0.00079\n"
     ]
    },
    {
     "name": "stderr",
     "output_type": "stream",
     "text": [
      "\r",
      " 39%|███▉      | 781/2000 [01:45<01:59, 10.19it/s]"
     ]
    },
    {
     "name": "stdout",
     "output_type": "stream",
     "text": [
      "Training_loss 0.00001,   Relative Error 0.00080\n",
      "Training_loss 0.00001,   Relative Error 0.00081\n",
      "Training_loss 0.00001,   Relative Error 0.00081\n"
     ]
    },
    {
     "name": "stderr",
     "output_type": "stream",
     "text": [
      "\r",
      " 39%|███▉      | 783/2000 [01:45<02:01,  9.99it/s]"
     ]
    },
    {
     "name": "stdout",
     "output_type": "stream",
     "text": [
      "Training_loss 0.00001,   Relative Error 0.00081\n",
      "Training_loss 0.00001,   Relative Error 0.00082\n"
     ]
    },
    {
     "name": "stderr",
     "output_type": "stream",
     "text": [
      " 39%|███▉      | 786/2000 [01:46<02:04,  9.72it/s]"
     ]
    },
    {
     "name": "stdout",
     "output_type": "stream",
     "text": [
      "Training_loss 0.00001,   Relative Error 0.00083\n",
      "Training_loss 0.00001,   Relative Error 0.00081\n"
     ]
    },
    {
     "name": "stderr",
     "output_type": "stream",
     "text": [
      " 39%|███▉      | 788/2000 [01:46<02:07,  9.50it/s]"
     ]
    },
    {
     "name": "stdout",
     "output_type": "stream",
     "text": [
      "Training_loss 0.00001,   Relative Error 0.00081\n",
      "Training_loss 0.00001,   Relative Error 0.00082\n",
      "Training_loss 0.00001,   Relative Error 0.00082\n"
     ]
    },
    {
     "name": "stderr",
     "output_type": "stream",
     "text": [
      " 40%|███▉      | 791/2000 [01:46<02:09,  9.33it/s]"
     ]
    },
    {
     "name": "stdout",
     "output_type": "stream",
     "text": [
      "Training_loss 0.00001,   Relative Error 0.00082\n",
      "Training_loss 0.00001,   Relative Error 0.00082\n"
     ]
    },
    {
     "name": "stderr",
     "output_type": "stream",
     "text": [
      " 40%|███▉      | 793/2000 [01:46<02:13,  9.05it/s]"
     ]
    },
    {
     "name": "stdout",
     "output_type": "stream",
     "text": [
      "Training_loss 0.00001,   Relative Error 0.00082\n",
      "Training_loss 0.00001,   Relative Error 0.00081\n"
     ]
    },
    {
     "name": "stderr",
     "output_type": "stream",
     "text": [
      " 40%|███▉      | 795/2000 [01:47<02:18,  8.67it/s]"
     ]
    },
    {
     "name": "stdout",
     "output_type": "stream",
     "text": [
      "Training_loss 0.00001,   Relative Error 0.00081\n",
      "Training_loss 0.00001,   Relative Error 0.00081\n"
     ]
    },
    {
     "name": "stderr",
     "output_type": "stream",
     "text": [
      " 40%|███▉      | 797/2000 [01:47<02:34,  7.78it/s]"
     ]
    },
    {
     "name": "stdout",
     "output_type": "stream",
     "text": [
      "Training_loss 0.00001,   Relative Error 0.00082\n",
      "Training_loss 0.00001,   Relative Error 0.00082\n"
     ]
    },
    {
     "name": "stderr",
     "output_type": "stream",
     "text": [
      " 40%|███▉      | 799/2000 [01:47<02:36,  7.66it/s]"
     ]
    },
    {
     "name": "stdout",
     "output_type": "stream",
     "text": [
      "Training_loss 0.00001,   Relative Error 0.00082\n",
      "Training_loss 0.00001,   Relative Error 0.00082\n"
     ]
    },
    {
     "name": "stderr",
     "output_type": "stream",
     "text": [
      " 40%|████      | 801/2000 [01:47<02:41,  7.43it/s]"
     ]
    },
    {
     "name": "stdout",
     "output_type": "stream",
     "text": [
      "Training_loss 0.00001,   Relative Error 0.00083\n",
      "Training_loss 0.00001,   Relative Error 0.00083\n"
     ]
    },
    {
     "name": "stderr",
     "output_type": "stream",
     "text": [
      " 40%|████      | 803/2000 [01:48<02:47,  7.14it/s]"
     ]
    },
    {
     "name": "stdout",
     "output_type": "stream",
     "text": [
      "Training_loss 0.00001,   Relative Error 0.00083\n",
      "Training_loss 0.00001,   Relative Error 0.00084\n"
     ]
    },
    {
     "name": "stderr",
     "output_type": "stream",
     "text": [
      " 40%|████      | 805/2000 [01:48<02:54,  6.84it/s]"
     ]
    },
    {
     "name": "stdout",
     "output_type": "stream",
     "text": [
      "Training_loss 0.00001,   Relative Error 0.00083\n",
      "Training_loss 0.00001,   Relative Error 0.00084\n"
     ]
    },
    {
     "name": "stderr",
     "output_type": "stream",
     "text": [
      " 40%|████      | 807/2000 [01:48<02:52,  6.93it/s]"
     ]
    },
    {
     "name": "stdout",
     "output_type": "stream",
     "text": [
      "Training_loss 0.00001,   Relative Error 0.00083\n",
      "Training_loss 0.00001,   Relative Error 0.00082\n"
     ]
    },
    {
     "name": "stderr",
     "output_type": "stream",
     "text": [
      " 40%|████      | 809/2000 [01:49<02:34,  7.71it/s]"
     ]
    },
    {
     "name": "stdout",
     "output_type": "stream",
     "text": [
      "Training_loss 0.00001,   Relative Error 0.00083\n",
      "Training_loss 0.00001,   Relative Error 0.00083\n"
     ]
    },
    {
     "name": "stderr",
     "output_type": "stream",
     "text": [
      " 41%|████      | 811/2000 [01:49<02:32,  7.81it/s]"
     ]
    },
    {
     "name": "stdout",
     "output_type": "stream",
     "text": [
      "Training_loss 0.00001,   Relative Error 0.00080\n",
      "Training_loss 0.00001,   Relative Error 0.00080\n"
     ]
    },
    {
     "name": "stderr",
     "output_type": "stream",
     "text": [
      " 41%|████      | 813/2000 [01:49<02:22,  8.31it/s]"
     ]
    },
    {
     "name": "stdout",
     "output_type": "stream",
     "text": [
      "Training_loss 0.00001,   Relative Error 0.00080\n",
      "Training_loss 0.00001,   Relative Error 0.00080\n"
     ]
    },
    {
     "name": "stderr",
     "output_type": "stream",
     "text": [
      " 41%|████      | 815/2000 [01:49<02:21,  8.40it/s]"
     ]
    },
    {
     "name": "stdout",
     "output_type": "stream",
     "text": [
      "Training_loss 0.00001,   Relative Error 0.00080\n",
      "Training_loss 0.00001,   Relative Error 0.00080\n"
     ]
    },
    {
     "name": "stderr",
     "output_type": "stream",
     "text": [
      " 41%|████      | 817/2000 [01:49<02:10,  9.05it/s]"
     ]
    },
    {
     "name": "stdout",
     "output_type": "stream",
     "text": [
      "Training_loss 0.00001,   Relative Error 0.00080\n",
      "Training_loss 0.00001,   Relative Error 0.00081\n"
     ]
    },
    {
     "name": "stderr",
     "output_type": "stream",
     "text": [
      " 41%|████      | 819/2000 [01:50<02:22,  8.26it/s]"
     ]
    },
    {
     "name": "stdout",
     "output_type": "stream",
     "text": [
      "Training_loss 0.00001,   Relative Error 0.00082\n",
      "Training_loss 0.00001,   Relative Error 0.00082\n"
     ]
    },
    {
     "name": "stderr",
     "output_type": "stream",
     "text": [
      " 41%|████      | 822/2000 [01:50<02:05,  9.40it/s]"
     ]
    },
    {
     "name": "stdout",
     "output_type": "stream",
     "text": [
      "Training_loss 0.00001,   Relative Error 0.00081\n",
      "Training_loss 0.00001,   Relative Error 0.00081\n",
      "Training_loss 0.00001,   Relative Error 0.00081\n"
     ]
    },
    {
     "name": "stderr",
     "output_type": "stream",
     "text": [
      " 41%|████▏     | 825/2000 [01:50<01:55, 10.19it/s]"
     ]
    },
    {
     "name": "stdout",
     "output_type": "stream",
     "text": [
      "Training_loss 0.00001,   Relative Error 0.00082\n",
      "Training_loss 0.00001,   Relative Error 0.00081\n",
      "Training_loss 0.00001,   Relative Error 0.00080\n"
     ]
    },
    {
     "name": "stderr",
     "output_type": "stream",
     "text": [
      "\r",
      " 41%|████▏     | 827/2000 [01:50<01:55, 10.16it/s]"
     ]
    },
    {
     "name": "stdout",
     "output_type": "stream",
     "text": [
      "Training_loss 0.00001,   Relative Error 0.00080\n",
      "Training_loss 0.00001,   Relative Error 0.00080\n"
     ]
    },
    {
     "name": "stderr",
     "output_type": "stream",
     "text": [
      "\r",
      " 41%|████▏     | 829/2000 [01:51<02:03,  9.47it/s]"
     ]
    },
    {
     "name": "stdout",
     "output_type": "stream",
     "text": [
      "Training_loss 0.00001,   Relative Error 0.00080\n",
      "Training_loss 0.00001,   Relative Error 0.00081\n",
      "Training_loss 0.00001,   Relative Error 0.00081\n"
     ]
    },
    {
     "name": "stderr",
     "output_type": "stream",
     "text": [
      " 42%|████▏     | 833/2000 [01:51<01:54, 10.20it/s]"
     ]
    },
    {
     "name": "stdout",
     "output_type": "stream",
     "text": [
      "Training_loss 0.00001,   Relative Error 0.00081\n",
      "Training_loss 0.00001,   Relative Error 0.00081\n",
      "Training_loss 0.00001,   Relative Error 0.00081\n"
     ]
    },
    {
     "name": "stderr",
     "output_type": "stream",
     "text": [
      "\r",
      " 42%|████▏     | 835/2000 [01:51<01:58,  9.84it/s]"
     ]
    },
    {
     "name": "stdout",
     "output_type": "stream",
     "text": [
      "Training_loss 0.00001,   Relative Error 0.00081\n",
      "Training_loss 0.00001,   Relative Error 0.00080\n"
     ]
    },
    {
     "name": "stderr",
     "output_type": "stream",
     "text": [
      "\r",
      " 42%|████▏     | 837/2000 [01:52<01:59,  9.76it/s]"
     ]
    },
    {
     "name": "stdout",
     "output_type": "stream",
     "text": [
      "Training_loss 0.00001,   Relative Error 0.00080\n",
      "Training_loss 0.00001,   Relative Error 0.00079\n",
      "Training_loss 0.00001,   Relative Error 0.00080\n"
     ]
    },
    {
     "name": "stderr",
     "output_type": "stream",
     "text": [
      "\r",
      " 42%|████▏     | 839/2000 [01:52<01:55, 10.06it/s]"
     ]
    },
    {
     "name": "stdout",
     "output_type": "stream",
     "text": [
      "Training_loss 0.00001,   Relative Error 0.00079\n",
      "Training_loss 0.00001,   Relative Error 0.00079\n"
     ]
    },
    {
     "name": "stderr",
     "output_type": "stream",
     "text": [
      " 42%|████▏     | 843/2000 [01:52<01:55, 10.03it/s]"
     ]
    },
    {
     "name": "stdout",
     "output_type": "stream",
     "text": [
      "Training_loss 0.00001,   Relative Error 0.00079\n",
      "Training_loss 0.00001,   Relative Error 0.00078\n",
      "Training_loss 0.00001,   Relative Error 0.00079\n"
     ]
    },
    {
     "name": "stderr",
     "output_type": "stream",
     "text": [
      "\r",
      " 42%|████▏     | 845/2000 [01:52<01:57,  9.80it/s]"
     ]
    },
    {
     "name": "stdout",
     "output_type": "stream",
     "text": [
      "Training_loss 0.00001,   Relative Error 0.00078\n",
      "Training_loss 0.00001,   Relative Error 0.00079\n"
     ]
    },
    {
     "name": "stderr",
     "output_type": "stream",
     "text": [
      " 42%|████▏     | 847/2000 [01:53<02:02,  9.43it/s]"
     ]
    },
    {
     "name": "stdout",
     "output_type": "stream",
     "text": [
      "Training_loss 0.00001,   Relative Error 0.00079\n",
      "Training_loss 0.00001,   Relative Error 0.00078\n",
      "Training_loss 0.00001,   Relative Error 0.00078\n"
     ]
    },
    {
     "name": "stderr",
     "output_type": "stream",
     "text": [
      " 42%|████▎     | 850/2000 [01:53<02:02,  9.40it/s]"
     ]
    },
    {
     "name": "stdout",
     "output_type": "stream",
     "text": [
      "Training_loss 0.00001,   Relative Error 0.00078\n",
      "Training_loss 0.00001,   Relative Error 0.00078\n"
     ]
    },
    {
     "name": "stderr",
     "output_type": "stream",
     "text": [
      " 43%|████▎     | 852/2000 [01:53<02:02,  9.36it/s]"
     ]
    },
    {
     "name": "stdout",
     "output_type": "stream",
     "text": [
      "Training_loss 0.00001,   Relative Error 0.00078\n",
      "Training_loss 0.00001,   Relative Error 0.00076\n",
      "Training_loss 0.00001,   Relative Error 0.00077\n"
     ]
    },
    {
     "name": "stderr",
     "output_type": "stream",
     "text": [
      " 43%|████▎     | 855/2000 [01:53<02:00,  9.53it/s]"
     ]
    },
    {
     "name": "stdout",
     "output_type": "stream",
     "text": [
      "Training_loss 0.00001,   Relative Error 0.00077\n",
      "Training_loss 0.00001,   Relative Error 0.00077\n"
     ]
    },
    {
     "name": "stderr",
     "output_type": "stream",
     "text": [
      "\r",
      " 43%|████▎     | 856/2000 [01:53<02:02,  9.35it/s]"
     ]
    },
    {
     "name": "stdout",
     "output_type": "stream",
     "text": [
      "Training_loss 0.00001,   Relative Error 0.00076\n",
      "Training_loss 0.00001,   Relative Error 0.00077\n"
     ]
    },
    {
     "name": "stderr",
     "output_type": "stream",
     "text": [
      " 43%|████▎     | 859/2000 [01:54<02:01,  9.36it/s]"
     ]
    },
    {
     "name": "stdout",
     "output_type": "stream",
     "text": [
      "Training_loss 0.00001,   Relative Error 0.00077\n",
      "Training_loss 0.00001,   Relative Error 0.00077\n"
     ]
    },
    {
     "name": "stderr",
     "output_type": "stream",
     "text": [
      " 43%|████▎     | 861/2000 [01:54<02:06,  9.04it/s]"
     ]
    },
    {
     "name": "stdout",
     "output_type": "stream",
     "text": [
      "Training_loss 0.00001,   Relative Error 0.00077\n",
      "Training_loss 0.00001,   Relative Error 0.00077\n"
     ]
    },
    {
     "name": "stderr",
     "output_type": "stream",
     "text": [
      "\r",
      " 43%|████▎     | 862/2000 [01:54<02:08,  8.85it/s]"
     ]
    },
    {
     "name": "stdout",
     "output_type": "stream",
     "text": [
      "Training_loss 0.00001,   Relative Error 0.00077\n",
      "Training_loss 0.00001,   Relative Error 0.00077\n"
     ]
    },
    {
     "name": "stderr",
     "output_type": "stream",
     "text": [
      "\r",
      " 43%|████▎     | 864/2000 [01:54<02:03,  9.17it/s]"
     ]
    },
    {
     "name": "stdout",
     "output_type": "stream",
     "text": [
      "Training_loss 0.00001,   Relative Error 0.00077\n",
      "Training_loss 0.00001,   Relative Error 0.00077\n"
     ]
    },
    {
     "name": "stderr",
     "output_type": "stream",
     "text": [
      " 43%|████▎     | 868/2000 [01:55<01:57,  9.60it/s]"
     ]
    },
    {
     "name": "stdout",
     "output_type": "stream",
     "text": [
      "Training_loss 0.00001,   Relative Error 0.00078\n",
      "Training_loss 0.00001,   Relative Error 0.00078\n",
      "Training_loss 0.00001,   Relative Error 0.00079\n"
     ]
    },
    {
     "name": "stderr",
     "output_type": "stream",
     "text": [
      "\r",
      " 44%|████▎     | 870/2000 [01:55<01:54,  9.88it/s]"
     ]
    },
    {
     "name": "stdout",
     "output_type": "stream",
     "text": [
      "Training_loss 0.00001,   Relative Error 0.00079\n",
      "Training_loss 0.00001,   Relative Error 0.00079\n"
     ]
    },
    {
     "name": "stderr",
     "output_type": "stream",
     "text": [
      " 44%|████▎     | 872/2000 [01:55<01:55,  9.74it/s]"
     ]
    },
    {
     "name": "stdout",
     "output_type": "stream",
     "text": [
      "Training_loss 0.00001,   Relative Error 0.00080\n",
      "Training_loss 0.00001,   Relative Error 0.00080\n"
     ]
    },
    {
     "name": "stderr",
     "output_type": "stream",
     "text": [
      " 44%|████▎     | 874/2000 [01:55<02:06,  8.89it/s]"
     ]
    },
    {
     "name": "stdout",
     "output_type": "stream",
     "text": [
      "Training_loss 0.00001,   Relative Error 0.00080\n",
      "Training_loss 0.00001,   Relative Error 0.00079\n"
     ]
    },
    {
     "name": "stderr",
     "output_type": "stream",
     "text": [
      " 44%|████▍     | 876/2000 [01:56<02:14,  8.33it/s]"
     ]
    },
    {
     "name": "stdout",
     "output_type": "stream",
     "text": [
      "Training_loss 0.00001,   Relative Error 0.00079\n",
      "Training_loss 0.00001,   Relative Error 0.00078\n"
     ]
    },
    {
     "name": "stderr",
     "output_type": "stream",
     "text": [
      " 44%|████▍     | 878/2000 [01:56<02:09,  8.67it/s]"
     ]
    },
    {
     "name": "stdout",
     "output_type": "stream",
     "text": [
      "Training_loss 0.00001,   Relative Error 0.00079\n",
      "Training_loss 0.00001,   Relative Error 0.00079\n"
     ]
    },
    {
     "name": "stderr",
     "output_type": "stream",
     "text": [
      " 44%|████▍     | 880/2000 [01:56<02:17,  8.15it/s]"
     ]
    },
    {
     "name": "stdout",
     "output_type": "stream",
     "text": [
      "Training_loss 0.00001,   Relative Error 0.00079\n",
      "Training_loss 0.00001,   Relative Error 0.00079\n"
     ]
    },
    {
     "name": "stderr",
     "output_type": "stream",
     "text": [
      "\r",
      " 44%|████▍     | 881/2000 [01:56<02:13,  8.40it/s]"
     ]
    },
    {
     "name": "stdout",
     "output_type": "stream",
     "text": [
      "Training_loss 0.00001,   Relative Error 0.00079\n",
      "Training_loss 0.00001,   Relative Error 0.00078\n"
     ]
    },
    {
     "name": "stderr",
     "output_type": "stream",
     "text": [
      " 44%|████▍     | 884/2000 [01:57<02:05,  8.87it/s]"
     ]
    },
    {
     "name": "stdout",
     "output_type": "stream",
     "text": [
      "Training_loss 0.00001,   Relative Error 0.00078\n",
      "Training_loss 0.00001,   Relative Error 0.00079\n"
     ]
    },
    {
     "name": "stderr",
     "output_type": "stream",
     "text": [
      " 44%|████▍     | 886/2000 [01:57<02:06,  8.78it/s]"
     ]
    },
    {
     "name": "stdout",
     "output_type": "stream",
     "text": [
      "Training_loss 0.00001,   Relative Error 0.00079\n",
      "Training_loss 0.00001,   Relative Error 0.00078\n"
     ]
    },
    {
     "name": "stderr",
     "output_type": "stream",
     "text": [
      " 44%|████▍     | 888/2000 [01:57<02:05,  8.83it/s]"
     ]
    },
    {
     "name": "stdout",
     "output_type": "stream",
     "text": [
      "Training_loss 0.00001,   Relative Error 0.00079\n",
      "Training_loss 0.00001,   Relative Error 0.00080\n"
     ]
    },
    {
     "name": "stderr",
     "output_type": "stream",
     "text": [
      " 44%|████▍     | 890/2000 [01:57<02:05,  8.82it/s]"
     ]
    },
    {
     "name": "stdout",
     "output_type": "stream",
     "text": [
      "Training_loss 0.00001,   Relative Error 0.00079\n",
      "Training_loss 0.00001,   Relative Error 0.00080\n"
     ]
    },
    {
     "name": "stderr",
     "output_type": "stream",
     "text": [
      " 45%|████▍     | 893/2000 [01:58<01:57,  9.44it/s]"
     ]
    },
    {
     "name": "stdout",
     "output_type": "stream",
     "text": [
      "Training_loss 0.00001,   Relative Error 0.00080\n",
      "Training_loss 0.00001,   Relative Error 0.00080\n",
      "Training_loss 0.00001,   Relative Error 0.00079\n"
     ]
    },
    {
     "name": "stderr",
     "output_type": "stream",
     "text": [
      " 45%|████▍     | 895/2000 [01:58<02:02,  9.01it/s]"
     ]
    },
    {
     "name": "stdout",
     "output_type": "stream",
     "text": [
      "Training_loss 0.00001,   Relative Error 0.00081\n",
      "Training_loss 0.00001,   Relative Error 0.00080\n"
     ]
    },
    {
     "name": "stderr",
     "output_type": "stream",
     "text": [
      " 45%|████▍     | 898/2000 [01:58<01:57,  9.36it/s]"
     ]
    },
    {
     "name": "stdout",
     "output_type": "stream",
     "text": [
      "Training_loss 0.00001,   Relative Error 0.00080\n",
      "Training_loss 0.00001,   Relative Error 0.00079\n",
      "Training_loss 0.00001,   Relative Error 0.00080\n"
     ]
    },
    {
     "name": "stderr",
     "output_type": "stream",
     "text": [
      " 45%|████▌     | 900/2000 [01:58<02:02,  8.99it/s]"
     ]
    },
    {
     "name": "stdout",
     "output_type": "stream",
     "text": [
      "Training_loss 0.00001,   Relative Error 0.00080\n",
      "Training_loss 0.00001,   Relative Error 0.00079\n"
     ]
    },
    {
     "name": "stderr",
     "output_type": "stream",
     "text": [
      " 45%|████▌     | 902/2000 [01:59<02:01,  9.06it/s]"
     ]
    },
    {
     "name": "stdout",
     "output_type": "stream",
     "text": [
      "Training_loss 0.00001,   Relative Error 0.00080\n",
      "Training_loss 0.00001,   Relative Error 0.00080\n"
     ]
    },
    {
     "name": "stderr",
     "output_type": "stream",
     "text": [
      "\r",
      " 45%|████▌     | 904/2000 [01:59<01:57,  9.35it/s]"
     ]
    },
    {
     "name": "stdout",
     "output_type": "stream",
     "text": [
      "Training_loss 0.00001,   Relative Error 0.00080\n",
      "Training_loss 0.00001,   Relative Error 0.00079\n"
     ]
    },
    {
     "name": "stderr",
     "output_type": "stream",
     "text": [
      " 45%|████▌     | 907/2000 [01:59<01:53,  9.63it/s]"
     ]
    },
    {
     "name": "stdout",
     "output_type": "stream",
     "text": [
      "Training_loss 0.00001,   Relative Error 0.00080\n",
      "Training_loss 0.00001,   Relative Error 0.00080\n",
      "Training_loss 0.00001,   Relative Error 0.00080\n"
     ]
    },
    {
     "name": "stderr",
     "output_type": "stream",
     "text": [
      "\r",
      " 45%|████▌     | 909/2000 [01:59<01:51,  9.80it/s]"
     ]
    },
    {
     "name": "stdout",
     "output_type": "stream",
     "text": [
      "Training_loss 0.00001,   Relative Error 0.00079\n",
      "Training_loss 0.00001,   Relative Error 0.00080\n",
      "Training_loss 0.00001,   Relative Error 0.00079\n"
     ]
    },
    {
     "name": "stderr",
     "output_type": "stream",
     "text": [
      "\r",
      " 46%|████▌     | 911/2000 [01:59<01:45, 10.32it/s]"
     ]
    },
    {
     "name": "stdout",
     "output_type": "stream",
     "text": [
      "Training_loss 0.00001,   Relative Error 0.00079\n",
      "Training_loss 0.00001,   Relative Error 0.00079\n"
     ]
    },
    {
     "name": "stderr",
     "output_type": "stream",
     "text": [
      " 46%|████▌     | 915/2000 [02:00<01:47, 10.07it/s]"
     ]
    },
    {
     "name": "stdout",
     "output_type": "stream",
     "text": [
      "Training_loss 0.00001,   Relative Error 0.00081\n",
      "Training_loss 0.00001,   Relative Error 0.00081\n",
      "Training_loss 0.00001,   Relative Error 0.00081\n"
     ]
    },
    {
     "name": "stderr",
     "output_type": "stream",
     "text": [
      "\r",
      " 46%|████▌     | 917/2000 [02:00<01:48,  9.97it/s]"
     ]
    },
    {
     "name": "stdout",
     "output_type": "stream",
     "text": [
      "Training_loss 0.00001,   Relative Error 0.00081\n",
      "Training_loss 0.00001,   Relative Error 0.00081\n",
      "Training_loss 0.00001,   Relative Error 0.00082\n"
     ]
    },
    {
     "name": "stderr",
     "output_type": "stream",
     "text": [
      "\r",
      " 46%|████▌     | 919/2000 [02:00<01:44, 10.34it/s]"
     ]
    },
    {
     "name": "stdout",
     "output_type": "stream",
     "text": [
      "Training_loss 0.00001,   Relative Error 0.00082\n",
      "Training_loss 0.00001,   Relative Error 0.00083\n"
     ]
    },
    {
     "name": "stderr",
     "output_type": "stream",
     "text": [
      " 46%|████▌     | 922/2000 [02:01<01:50,  9.72it/s]"
     ]
    },
    {
     "name": "stdout",
     "output_type": "stream",
     "text": [
      "Training_loss 0.00001,   Relative Error 0.00084\n",
      "Training_loss 0.00001,   Relative Error 0.00083\n"
     ]
    },
    {
     "name": "stderr",
     "output_type": "stream",
     "text": [
      " 46%|████▌     | 924/2000 [02:01<01:56,  9.26it/s]"
     ]
    },
    {
     "name": "stdout",
     "output_type": "stream",
     "text": [
      "Training_loss 0.00001,   Relative Error 0.00084\n",
      "Training_loss 0.00001,   Relative Error 0.00083\n"
     ]
    },
    {
     "name": "stderr",
     "output_type": "stream",
     "text": [
      " 46%|████▋     | 926/2000 [02:01<02:00,  8.89it/s]"
     ]
    },
    {
     "name": "stdout",
     "output_type": "stream",
     "text": [
      "Training_loss 0.00001,   Relative Error 0.00083\n",
      "Training_loss 0.00001,   Relative Error 0.00083\n",
      "Training_loss 0.00001,   Relative Error 0.00083\n"
     ]
    },
    {
     "name": "stderr",
     "output_type": "stream",
     "text": [
      " 46%|████▋     | 929/2000 [02:01<02:13,  8.03it/s]"
     ]
    },
    {
     "name": "stdout",
     "output_type": "stream",
     "text": [
      "Training_loss 0.00001,   Relative Error 0.00083\n",
      "Training_loss 0.00001,   Relative Error 0.00082\n"
     ]
    },
    {
     "name": "stderr",
     "output_type": "stream",
     "text": [
      " 47%|████▋     | 931/2000 [02:02<02:07,  8.40it/s]"
     ]
    },
    {
     "name": "stdout",
     "output_type": "stream",
     "text": [
      "Training_loss 0.00001,   Relative Error 0.00083\n",
      "Training_loss 0.00001,   Relative Error 0.00084\n"
     ]
    },
    {
     "name": "stderr",
     "output_type": "stream",
     "text": [
      " 47%|████▋     | 933/2000 [02:02<01:59,  8.89it/s]"
     ]
    },
    {
     "name": "stdout",
     "output_type": "stream",
     "text": [
      "Training_loss 0.00001,   Relative Error 0.00084\n",
      "Training_loss 0.00001,   Relative Error 0.00085\n",
      "Training_loss 0.00001,   Relative Error 0.00084\n"
     ]
    },
    {
     "name": "stderr",
     "output_type": "stream",
     "text": [
      " 47%|████▋     | 936/2000 [02:02<01:54,  9.29it/s]"
     ]
    },
    {
     "name": "stdout",
     "output_type": "stream",
     "text": [
      "Training_loss 0.00001,   Relative Error 0.00084\n",
      "Training_loss 0.00001,   Relative Error 0.00084\n",
      "Training_loss 0.00001,   Relative Error 0.00084\n"
     ]
    },
    {
     "name": "stderr",
     "output_type": "stream",
     "text": [
      " 47%|████▋     | 939/2000 [02:03<01:50,  9.63it/s]"
     ]
    },
    {
     "name": "stdout",
     "output_type": "stream",
     "text": [
      "Training_loss 0.00001,   Relative Error 0.00083\n",
      "Training_loss 0.00001,   Relative Error 0.00083\n"
     ]
    },
    {
     "name": "stderr",
     "output_type": "stream",
     "text": [
      " 47%|████▋     | 941/2000 [02:03<01:58,  8.93it/s]"
     ]
    },
    {
     "name": "stdout",
     "output_type": "stream",
     "text": [
      "Training_loss 0.00001,   Relative Error 0.00082\n",
      "Training_loss 0.00001,   Relative Error 0.00082\n"
     ]
    },
    {
     "name": "stderr",
     "output_type": "stream",
     "text": [
      " 47%|████▋     | 943/2000 [02:03<02:00,  8.80it/s]"
     ]
    },
    {
     "name": "stdout",
     "output_type": "stream",
     "text": [
      "Training_loss 0.00001,   Relative Error 0.00081\n",
      "Training_loss 0.00001,   Relative Error 0.00081\n"
     ]
    },
    {
     "name": "stderr",
     "output_type": "stream",
     "text": [
      " 47%|████▋     | 945/2000 [02:03<02:17,  7.67it/s]"
     ]
    },
    {
     "name": "stdout",
     "output_type": "stream",
     "text": [
      "Training_loss 0.00001,   Relative Error 0.00081\n",
      "Training_loss 0.00001,   Relative Error 0.00081\n"
     ]
    },
    {
     "name": "stderr",
     "output_type": "stream",
     "text": [
      " 47%|████▋     | 947/2000 [02:04<02:37,  6.69it/s]"
     ]
    },
    {
     "name": "stdout",
     "output_type": "stream",
     "text": [
      "Training_loss 0.00001,   Relative Error 0.00080\n",
      "Training_loss 0.00001,   Relative Error 0.00080\n"
     ]
    },
    {
     "name": "stderr",
     "output_type": "stream",
     "text": [
      " 47%|████▋     | 949/2000 [02:04<02:41,  6.50it/s]"
     ]
    },
    {
     "name": "stdout",
     "output_type": "stream",
     "text": [
      "Training_loss 0.00001,   Relative Error 0.00080\n",
      "Training_loss 0.00001,   Relative Error 0.00080\n"
     ]
    },
    {
     "name": "stderr",
     "output_type": "stream",
     "text": [
      " 48%|████▊     | 951/2000 [02:04<02:36,  6.69it/s]"
     ]
    },
    {
     "name": "stdout",
     "output_type": "stream",
     "text": [
      "Training_loss 0.00001,   Relative Error 0.00080\n",
      "Training_loss 0.00001,   Relative Error 0.00081\n"
     ]
    },
    {
     "name": "stderr",
     "output_type": "stream",
     "text": [
      "\r",
      " 48%|████▊     | 953/2000 [02:04<02:12,  7.88it/s]"
     ]
    },
    {
     "name": "stdout",
     "output_type": "stream",
     "text": [
      "Training_loss 0.00001,   Relative Error 0.00081\n",
      "Training_loss 0.00001,   Relative Error 0.00082\n"
     ]
    },
    {
     "name": "stderr",
     "output_type": "stream",
     "text": [
      " 48%|████▊     | 955/2000 [02:05<02:08,  8.15it/s]"
     ]
    },
    {
     "name": "stdout",
     "output_type": "stream",
     "text": [
      "Training_loss 0.00001,   Relative Error 0.00083\n",
      "Training_loss 0.00001,   Relative Error 0.00083\n"
     ]
    },
    {
     "name": "stderr",
     "output_type": "stream",
     "text": [
      "\r",
      " 48%|████▊     | 956/2000 [02:05<02:07,  8.20it/s]"
     ]
    },
    {
     "name": "stdout",
     "output_type": "stream",
     "text": [
      "Training_loss 0.00001,   Relative Error 0.00083\n",
      "Training_loss 0.00001,   Relative Error 0.00084\n"
     ]
    },
    {
     "name": "stderr",
     "output_type": "stream",
     "text": [
      " 48%|████▊     | 960/2000 [02:05<01:53,  9.18it/s]"
     ]
    },
    {
     "name": "stdout",
     "output_type": "stream",
     "text": [
      "Training_loss 0.00001,   Relative Error 0.00084\n",
      "Training_loss 0.00001,   Relative Error 0.00084\n",
      "Training_loss 0.00001,   Relative Error 0.00085\n"
     ]
    },
    {
     "name": "stderr",
     "output_type": "stream",
     "text": [
      " 48%|████▊     | 962/2000 [02:05<01:54,  9.08it/s]"
     ]
    },
    {
     "name": "stdout",
     "output_type": "stream",
     "text": [
      "Training_loss 0.00001,   Relative Error 0.00085\n",
      "Training_loss 0.00001,   Relative Error 0.00084\n"
     ]
    },
    {
     "name": "stderr",
     "output_type": "stream",
     "text": [
      " 48%|████▊     | 965/2000 [02:06<01:48,  9.52it/s]"
     ]
    },
    {
     "name": "stdout",
     "output_type": "stream",
     "text": [
      "Training_loss 0.00001,   Relative Error 0.00084\n",
      "Training_loss 0.00001,   Relative Error 0.00084\n",
      "Training_loss 0.00001,   Relative Error 0.00083\n"
     ]
    },
    {
     "name": "stderr",
     "output_type": "stream",
     "text": [
      " 48%|████▊     | 968/2000 [02:06<01:44,  9.92it/s]"
     ]
    },
    {
     "name": "stdout",
     "output_type": "stream",
     "text": [
      "Training_loss 0.00001,   Relative Error 0.00083\n",
      "Training_loss 0.00001,   Relative Error 0.00084\n",
      "Training_loss 0.00001,   Relative Error 0.00085\n"
     ]
    },
    {
     "name": "stderr",
     "output_type": "stream",
     "text": [
      " 49%|████▊     | 971/2000 [02:06<01:41, 10.15it/s]"
     ]
    },
    {
     "name": "stdout",
     "output_type": "stream",
     "text": [
      "Training_loss 0.00001,   Relative Error 0.00084\n",
      "Training_loss 0.00001,   Relative Error 0.00084\n",
      "Training_loss 0.00001,   Relative Error 0.00084\n"
     ]
    },
    {
     "name": "stderr",
     "output_type": "stream",
     "text": [
      " 49%|████▊     | 974/2000 [02:07<01:42, 10.01it/s]"
     ]
    },
    {
     "name": "stdout",
     "output_type": "stream",
     "text": [
      "Training_loss 0.00001,   Relative Error 0.00084\n",
      "Training_loss 0.00001,   Relative Error 0.00084\n",
      "Training_loss 0.00001,   Relative Error 0.00084\n"
     ]
    },
    {
     "name": "stderr",
     "output_type": "stream",
     "text": [
      " 49%|████▉     | 976/2000 [02:07<01:45,  9.70it/s]"
     ]
    },
    {
     "name": "stdout",
     "output_type": "stream",
     "text": [
      "Training_loss 0.00001,   Relative Error 0.00085\n",
      "Training_loss 0.00001,   Relative Error 0.00084\n",
      "Training_loss 0.00001,   Relative Error 0.00084\n"
     ]
    },
    {
     "name": "stderr",
     "output_type": "stream",
     "text": [
      " 49%|████▉     | 980/2000 [02:07<01:38, 10.39it/s]"
     ]
    },
    {
     "name": "stdout",
     "output_type": "stream",
     "text": [
      "Training_loss 0.00001,   Relative Error 0.00084\n",
      "Training_loss 0.00001,   Relative Error 0.00085\n",
      "Training_loss 0.00001,   Relative Error 0.00084\n"
     ]
    },
    {
     "name": "stderr",
     "output_type": "stream",
     "text": [
      "\r",
      " 49%|████▉     | 982/2000 [02:07<01:36, 10.59it/s]"
     ]
    },
    {
     "name": "stdout",
     "output_type": "stream",
     "text": [
      "Training_loss 0.00001,   Relative Error 0.00084\n",
      "Training_loss 0.00001,   Relative Error 0.00084\n",
      "Training_loss 0.00001,   Relative Error 0.00085\n"
     ]
    },
    {
     "name": "stderr",
     "output_type": "stream",
     "text": [
      " 49%|████▉     | 986/2000 [02:08<01:36, 10.46it/s]"
     ]
    },
    {
     "name": "stdout",
     "output_type": "stream",
     "text": [
      "Training_loss 0.00001,   Relative Error 0.00086\n",
      "Training_loss 0.00001,   Relative Error 0.00086\n",
      "Training_loss 0.00001,   Relative Error 0.00086\n"
     ]
    },
    {
     "name": "stderr",
     "output_type": "stream",
     "text": [
      "\r",
      " 49%|████▉     | 988/2000 [02:08<01:46,  9.49it/s]"
     ]
    },
    {
     "name": "stdout",
     "output_type": "stream",
     "text": [
      "Training_loss 0.00001,   Relative Error 0.00087\n",
      "Training_loss 0.00001,   Relative Error 0.00087\n"
     ]
    },
    {
     "name": "stderr",
     "output_type": "stream",
     "text": [
      " 50%|████▉     | 990/2000 [02:08<01:48,  9.29it/s]"
     ]
    },
    {
     "name": "stdout",
     "output_type": "stream",
     "text": [
      "Training_loss 0.00001,   Relative Error 0.00086\n",
      "Training_loss 0.00001,   Relative Error 0.00086\n",
      "Training_loss 0.00001,   Relative Error 0.00085\n"
     ]
    },
    {
     "name": "stderr",
     "output_type": "stream",
     "text": [
      " 50%|████▉     | 994/2000 [02:09<01:41,  9.93it/s]"
     ]
    },
    {
     "name": "stdout",
     "output_type": "stream",
     "text": [
      "Training_loss 0.00001,   Relative Error 0.00085\n",
      "Training_loss 0.00001,   Relative Error 0.00086\n",
      "Training_loss 0.00001,   Relative Error 0.00084\n"
     ]
    },
    {
     "name": "stderr",
     "output_type": "stream",
     "text": [
      "\r",
      " 50%|████▉     | 996/2000 [02:09<01:44,  9.65it/s]"
     ]
    },
    {
     "name": "stdout",
     "output_type": "stream",
     "text": [
      "Training_loss 0.00001,   Relative Error 0.00084\n",
      "Training_loss 0.00001,   Relative Error 0.00084\n"
     ]
    },
    {
     "name": "stderr",
     "output_type": "stream",
     "text": [
      "\r",
      " 50%|████▉     | 998/2000 [02:09<01:40, 10.01it/s]"
     ]
    },
    {
     "name": "stdout",
     "output_type": "stream",
     "text": [
      "Training_loss 0.00001,   Relative Error 0.00085\n",
      "Training_loss 0.00001,   Relative Error 0.00084\n",
      "Training_loss 0.00001,   Relative Error 0.00084\n"
     ]
    },
    {
     "name": "stderr",
     "output_type": "stream",
     "text": [
      " 50%|█████     | 1001/2000 [02:09<01:46,  9.40it/s]"
     ]
    },
    {
     "name": "stdout",
     "output_type": "stream",
     "text": [
      "Training_loss 0.00001,   Relative Error 0.00083\n",
      "Training_loss 0.00001,   Relative Error 0.00084\n"
     ]
    },
    {
     "name": "stderr",
     "output_type": "stream",
     "text": [
      "\r",
      " 50%|█████     | 1002/2000 [02:09<01:48,  9.18it/s]"
     ]
    },
    {
     "name": "stdout",
     "output_type": "stream",
     "text": [
      "Training_loss 0.00001,   Relative Error 0.00084\n",
      "Training_loss 0.00001,   Relative Error 0.00084\n"
     ]
    },
    {
     "name": "stderr",
     "output_type": "stream",
     "text": [
      " 50%|█████     | 1005/2000 [02:10<01:45,  9.42it/s]"
     ]
    },
    {
     "name": "stdout",
     "output_type": "stream",
     "text": [
      "Training_loss 0.00001,   Relative Error 0.00084\n",
      "Training_loss 0.00001,   Relative Error 0.00083\n"
     ]
    },
    {
     "name": "stderr",
     "output_type": "stream",
     "text": [
      " 50%|█████     | 1007/2000 [02:10<01:45,  9.41it/s]"
     ]
    },
    {
     "name": "stdout",
     "output_type": "stream",
     "text": [
      "Training_loss 0.00001,   Relative Error 0.00081\n",
      "Training_loss 0.00001,   Relative Error 0.00081\n",
      "Training_loss 0.00001,   Relative Error 0.00080\n"
     ]
    },
    {
     "name": "stderr",
     "output_type": "stream",
     "text": [
      " 50%|█████     | 1010/2000 [02:10<01:42,  9.70it/s]"
     ]
    },
    {
     "name": "stdout",
     "output_type": "stream",
     "text": [
      "Training_loss 0.00001,   Relative Error 0.00081\n",
      "Training_loss 0.00001,   Relative Error 0.00080\n"
     ]
    },
    {
     "name": "stderr",
     "output_type": "stream",
     "text": [
      "\r",
      " 51%|█████     | 1012/2000 [02:10<01:36, 10.29it/s]"
     ]
    },
    {
     "name": "stdout",
     "output_type": "stream",
     "text": [
      "Training_loss 0.00001,   Relative Error 0.00080\n",
      "Training_loss 0.00001,   Relative Error 0.00080\n",
      "Training_loss 0.00001,   Relative Error 0.00081\n"
     ]
    },
    {
     "name": "stderr",
     "output_type": "stream",
     "text": [
      " 51%|█████     | 1016/2000 [02:11<01:34, 10.37it/s]"
     ]
    },
    {
     "name": "stdout",
     "output_type": "stream",
     "text": [
      "Training_loss 0.00001,   Relative Error 0.00080\n",
      "Training_loss 0.00001,   Relative Error 0.00080\n",
      "Training_loss 0.00001,   Relative Error 0.00080\n"
     ]
    },
    {
     "name": "stderr",
     "output_type": "stream",
     "text": [
      "\r",
      " 51%|█████     | 1018/2000 [02:11<01:44,  9.37it/s]"
     ]
    },
    {
     "name": "stdout",
     "output_type": "stream",
     "text": [
      "Training_loss 0.00001,   Relative Error 0.00080\n",
      "Training_loss 0.00001,   Relative Error 0.00080\n",
      "Training_loss 0.00001,   Relative Error 0.00081\n"
     ]
    },
    {
     "name": "stderr",
     "output_type": "stream",
     "text": [
      " 51%|█████     | 1021/2000 [02:11<01:49,  8.94it/s]"
     ]
    },
    {
     "name": "stdout",
     "output_type": "stream",
     "text": [
      "Training_loss 0.00001,   Relative Error 0.00082\n",
      "Training_loss 0.00001,   Relative Error 0.00081\n"
     ]
    },
    {
     "name": "stderr",
     "output_type": "stream",
     "text": [
      " 51%|█████     | 1023/2000 [02:12<01:45,  9.25it/s]"
     ]
    },
    {
     "name": "stdout",
     "output_type": "stream",
     "text": [
      "Training_loss 0.00001,   Relative Error 0.00081\n",
      "Training_loss 0.00001,   Relative Error 0.00080\n"
     ]
    },
    {
     "name": "stderr",
     "output_type": "stream",
     "text": [
      " 51%|█████▏    | 1025/2000 [02:12<01:48,  8.98it/s]"
     ]
    },
    {
     "name": "stdout",
     "output_type": "stream",
     "text": [
      "Training_loss 0.00001,   Relative Error 0.00081\n",
      "Training_loss 0.00001,   Relative Error 0.00081\n"
     ]
    },
    {
     "name": "stderr",
     "output_type": "stream",
     "text": [
      " 51%|█████▏    | 1027/2000 [02:12<01:45,  9.23it/s]"
     ]
    },
    {
     "name": "stdout",
     "output_type": "stream",
     "text": [
      "Training_loss 0.00001,   Relative Error 0.00081\n",
      "Training_loss 0.00001,   Relative Error 0.00081\n"
     ]
    },
    {
     "name": "stderr",
     "output_type": "stream",
     "text": [
      " 51%|█████▏    | 1029/2000 [02:12<01:52,  8.67it/s]"
     ]
    },
    {
     "name": "stdout",
     "output_type": "stream",
     "text": [
      "Training_loss 0.00001,   Relative Error 0.00082\n",
      "Training_loss 0.00001,   Relative Error 0.00082\n"
     ]
    },
    {
     "name": "stderr",
     "output_type": "stream",
     "text": [
      " 52%|█████▏    | 1031/2000 [02:13<01:57,  8.25it/s]"
     ]
    },
    {
     "name": "stdout",
     "output_type": "stream",
     "text": [
      "Training_loss 0.00001,   Relative Error 0.00082\n",
      "Training_loss 0.00001,   Relative Error 0.00082\n"
     ]
    },
    {
     "name": "stderr",
     "output_type": "stream",
     "text": [
      " 52%|█████▏    | 1033/2000 [02:13<01:58,  8.18it/s]"
     ]
    },
    {
     "name": "stdout",
     "output_type": "stream",
     "text": [
      "Training_loss 0.00001,   Relative Error 0.00082\n",
      "Training_loss 0.00001,   Relative Error 0.00082\n"
     ]
    },
    {
     "name": "stderr",
     "output_type": "stream",
     "text": [
      " 52%|█████▏    | 1035/2000 [02:13<02:03,  7.78it/s]"
     ]
    },
    {
     "name": "stdout",
     "output_type": "stream",
     "text": [
      "Training_loss 0.00001,   Relative Error 0.00081\n",
      "Training_loss 0.00001,   Relative Error 0.00082\n"
     ]
    },
    {
     "name": "stderr",
     "output_type": "stream",
     "text": [
      " 52%|█████▏    | 1037/2000 [02:13<02:06,  7.59it/s]"
     ]
    },
    {
     "name": "stdout",
     "output_type": "stream",
     "text": [
      "Training_loss 0.00001,   Relative Error 0.00082\n",
      "Training_loss 0.00001,   Relative Error 0.00082\n"
     ]
    },
    {
     "name": "stderr",
     "output_type": "stream",
     "text": [
      " 52%|█████▏    | 1039/2000 [02:14<02:09,  7.44it/s]"
     ]
    },
    {
     "name": "stdout",
     "output_type": "stream",
     "text": [
      "Training_loss 0.00001,   Relative Error 0.00082\n",
      "Training_loss 0.00001,   Relative Error 0.00082\n"
     ]
    },
    {
     "name": "stderr",
     "output_type": "stream",
     "text": [
      " 52%|█████▏    | 1041/2000 [02:14<02:08,  7.45it/s]"
     ]
    },
    {
     "name": "stdout",
     "output_type": "stream",
     "text": [
      "Training_loss 0.00001,   Relative Error 0.00082\n",
      "Training_loss 0.00001,   Relative Error 0.00083\n"
     ]
    },
    {
     "name": "stderr",
     "output_type": "stream",
     "text": [
      " 52%|█████▏    | 1043/2000 [02:14<02:00,  7.94it/s]"
     ]
    },
    {
     "name": "stdout",
     "output_type": "stream",
     "text": [
      "Training_loss 0.00001,   Relative Error 0.00083\n",
      "Training_loss 0.00001,   Relative Error 0.00082\n"
     ]
    },
    {
     "name": "stderr",
     "output_type": "stream",
     "text": [
      " 52%|█████▏    | 1045/2000 [02:14<02:03,  7.74it/s]"
     ]
    },
    {
     "name": "stdout",
     "output_type": "stream",
     "text": [
      "Training_loss 0.00001,   Relative Error 0.00082\n",
      "Training_loss 0.00001,   Relative Error 0.00083\n"
     ]
    },
    {
     "name": "stderr",
     "output_type": "stream",
     "text": [
      "\r",
      " 52%|█████▏    | 1046/2000 [02:15<02:06,  7.54it/s]"
     ]
    },
    {
     "name": "stdout",
     "output_type": "stream",
     "text": [
      "Training_loss 0.00001,   Relative Error 0.00082\n",
      "Training_loss 0.00001,   Relative Error 0.00081\n"
     ]
    },
    {
     "name": "stderr",
     "output_type": "stream",
     "text": [
      "\r",
      " 52%|█████▏    | 1048/2000 [02:15<02:02,  7.78it/s]"
     ]
    },
    {
     "name": "stdout",
     "output_type": "stream",
     "text": [
      "Training_loss 0.00001,   Relative Error 0.00081\n",
      "Training_loss 0.00001,   Relative Error 0.00082\n"
     ]
    },
    {
     "name": "stderr",
     "output_type": "stream",
     "text": [
      " 53%|█████▎    | 1051/2000 [02:15<01:59,  7.95it/s]"
     ]
    },
    {
     "name": "stdout",
     "output_type": "stream",
     "text": [
      "Training_loss 0.00001,   Relative Error 0.00082\n",
      "Training_loss 0.00001,   Relative Error 0.00082\n"
     ]
    },
    {
     "name": "stderr",
     "output_type": "stream",
     "text": [
      " 53%|█████▎    | 1053/2000 [02:15<02:01,  7.80it/s]"
     ]
    },
    {
     "name": "stdout",
     "output_type": "stream",
     "text": [
      "Training_loss 0.00001,   Relative Error 0.00083\n",
      "Training_loss 0.00001,   Relative Error 0.00082\n"
     ]
    },
    {
     "name": "stderr",
     "output_type": "stream",
     "text": [
      "\r",
      " 53%|█████▎    | 1055/2000 [02:16<01:50,  8.52it/s]"
     ]
    },
    {
     "name": "stdout",
     "output_type": "stream",
     "text": [
      "Training_loss 0.00001,   Relative Error 0.00081\n",
      "Training_loss 0.00001,   Relative Error 0.00081\n"
     ]
    },
    {
     "name": "stderr",
     "output_type": "stream",
     "text": [
      " 53%|█████▎    | 1057/2000 [02:16<01:50,  8.53it/s]"
     ]
    },
    {
     "name": "stdout",
     "output_type": "stream",
     "text": [
      "Training_loss 0.00001,   Relative Error 0.00080\n",
      "Training_loss 0.00001,   Relative Error 0.00079\n"
     ]
    },
    {
     "name": "stderr",
     "output_type": "stream",
     "text": [
      "\r",
      " 53%|█████▎    | 1059/2000 [02:16<01:44,  8.99it/s]"
     ]
    },
    {
     "name": "stdout",
     "output_type": "stream",
     "text": [
      "Training_loss 0.00001,   Relative Error 0.00080\n",
      "Training_loss 0.00001,   Relative Error 0.00080\n"
     ]
    },
    {
     "name": "stderr",
     "output_type": "stream",
     "text": [
      " 53%|█████▎    | 1062/2000 [02:16<01:44,  8.99it/s]"
     ]
    },
    {
     "name": "stdout",
     "output_type": "stream",
     "text": [
      "Training_loss 0.00001,   Relative Error 0.00080\n",
      "Training_loss 0.00001,   Relative Error 0.00080\n",
      "Training_loss 0.00001,   Relative Error 0.00080\n"
     ]
    },
    {
     "name": "stderr",
     "output_type": "stream",
     "text": [
      "\r",
      " 53%|█████▎    | 1064/2000 [02:17<01:44,  8.92it/s]"
     ]
    },
    {
     "name": "stdout",
     "output_type": "stream",
     "text": [
      "Training_loss 0.00001,   Relative Error 0.00081\n",
      "Training_loss 0.00001,   Relative Error 0.00081\n"
     ]
    },
    {
     "name": "stderr",
     "output_type": "stream",
     "text": [
      " 53%|█████▎    | 1066/2000 [02:17<01:45,  8.87it/s]"
     ]
    },
    {
     "name": "stdout",
     "output_type": "stream",
     "text": [
      "Training_loss 0.00001,   Relative Error 0.00081\n",
      "Training_loss 0.00001,   Relative Error 0.00080\n"
     ]
    },
    {
     "name": "stderr",
     "output_type": "stream",
     "text": [
      " 53%|█████▎    | 1068/2000 [02:17<01:47,  8.65it/s]"
     ]
    },
    {
     "name": "stdout",
     "output_type": "stream",
     "text": [
      "Training_loss 0.00001,   Relative Error 0.00080\n",
      "Training_loss 0.00001,   Relative Error 0.00081\n"
     ]
    },
    {
     "name": "stderr",
     "output_type": "stream",
     "text": [
      " 54%|█████▎    | 1070/2000 [02:17<01:45,  8.82it/s]"
     ]
    },
    {
     "name": "stdout",
     "output_type": "stream",
     "text": [
      "Training_loss 0.00001,   Relative Error 0.00081\n",
      "Training_loss 0.00001,   Relative Error 0.00081\n",
      "Training_loss 0.00001,   Relative Error 0.00081\n"
     ]
    },
    {
     "name": "stderr",
     "output_type": "stream",
     "text": [
      " 54%|█████▎    | 1073/2000 [02:18<01:44,  8.86it/s]"
     ]
    },
    {
     "name": "stdout",
     "output_type": "stream",
     "text": [
      "Training_loss 0.00001,   Relative Error 0.00080\n",
      "Training_loss 0.00001,   Relative Error 0.00080\n"
     ]
    },
    {
     "name": "stderr",
     "output_type": "stream",
     "text": [
      " 54%|█████▍    | 1075/2000 [02:18<01:45,  8.76it/s]"
     ]
    },
    {
     "name": "stdout",
     "output_type": "stream",
     "text": [
      "Training_loss 0.00001,   Relative Error 0.00080\n",
      "Training_loss 0.00001,   Relative Error 0.00079\n",
      "Training_loss 0.00001,   Relative Error 0.00080\n"
     ]
    },
    {
     "name": "stderr",
     "output_type": "stream",
     "text": [
      " 54%|█████▍    | 1078/2000 [02:18<01:39,  9.23it/s]"
     ]
    },
    {
     "name": "stdout",
     "output_type": "stream",
     "text": [
      "Training_loss 0.00001,   Relative Error 0.00081\n",
      "Training_loss 0.00001,   Relative Error 0.00080\n"
     ]
    },
    {
     "name": "stderr",
     "output_type": "stream",
     "text": [
      "\r",
      " 54%|█████▍    | 1080/2000 [02:18<01:39,  9.28it/s]"
     ]
    },
    {
     "name": "stdout",
     "output_type": "stream",
     "text": [
      "Training_loss 0.00001,   Relative Error 0.00081\n",
      "Training_loss 0.00001,   Relative Error 0.00081\n"
     ]
    },
    {
     "name": "stderr",
     "output_type": "stream",
     "text": [
      " 54%|█████▍    | 1082/2000 [02:19<01:47,  8.53it/s]"
     ]
    },
    {
     "name": "stdout",
     "output_type": "stream",
     "text": [
      "Training_loss 0.00001,   Relative Error 0.00080\n",
      "Training_loss 0.00001,   Relative Error 0.00080\n"
     ]
    },
    {
     "name": "stderr",
     "output_type": "stream",
     "text": [
      " 54%|█████▍    | 1084/2000 [02:19<01:45,  8.71it/s]"
     ]
    },
    {
     "name": "stdout",
     "output_type": "stream",
     "text": [
      "Training_loss 0.00001,   Relative Error 0.00080\n",
      "Training_loss 0.00001,   Relative Error 0.00079\n"
     ]
    },
    {
     "name": "stderr",
     "output_type": "stream",
     "text": [
      "\r",
      " 54%|█████▍    | 1085/2000 [02:19<01:43,  8.88it/s]"
     ]
    },
    {
     "name": "stdout",
     "output_type": "stream",
     "text": [
      "Training_loss 0.00001,   Relative Error 0.00079\n",
      "Training_loss 0.00001,   Relative Error 0.00079\n"
     ]
    },
    {
     "name": "stderr",
     "output_type": "stream",
     "text": [
      " 54%|█████▍    | 1088/2000 [02:19<01:44,  8.70it/s]"
     ]
    },
    {
     "name": "stdout",
     "output_type": "stream",
     "text": [
      "Training_loss 0.00001,   Relative Error 0.00079\n",
      "Training_loss 0.00001,   Relative Error 0.00079\n"
     ]
    },
    {
     "name": "stderr",
     "output_type": "stream",
     "text": [
      " 55%|█████▍    | 1090/2000 [02:20<01:44,  8.71it/s]"
     ]
    },
    {
     "name": "stdout",
     "output_type": "stream",
     "text": [
      "Training_loss 0.00001,   Relative Error 0.00079\n",
      "Training_loss 0.00001,   Relative Error 0.00079\n"
     ]
    },
    {
     "name": "stderr",
     "output_type": "stream",
     "text": [
      " 55%|█████▍    | 1092/2000 [02:20<01:50,  8.24it/s]"
     ]
    },
    {
     "name": "stdout",
     "output_type": "stream",
     "text": [
      "Training_loss 0.00001,   Relative Error 0.00080\n",
      "Training_loss 0.00001,   Relative Error 0.00081\n"
     ]
    },
    {
     "name": "stderr",
     "output_type": "stream",
     "text": [
      " 55%|█████▍    | 1094/2000 [02:20<01:46,  8.54it/s]"
     ]
    },
    {
     "name": "stdout",
     "output_type": "stream",
     "text": [
      "Training_loss 0.00001,   Relative Error 0.00080\n",
      "Training_loss 0.00001,   Relative Error 0.00081\n"
     ]
    },
    {
     "name": "stderr",
     "output_type": "stream",
     "text": [
      " 55%|█████▍    | 1096/2000 [02:20<01:40,  8.96it/s]"
     ]
    },
    {
     "name": "stdout",
     "output_type": "stream",
     "text": [
      "Training_loss 0.00001,   Relative Error 0.00082\n",
      "Training_loss 0.00001,   Relative Error 0.00083\n"
     ]
    },
    {
     "name": "stderr",
     "output_type": "stream",
     "text": [
      " 55%|█████▍    | 1098/2000 [02:21<01:50,  8.19it/s]"
     ]
    },
    {
     "name": "stdout",
     "output_type": "stream",
     "text": [
      "Training_loss 0.00001,   Relative Error 0.00082\n",
      "Training_loss 0.00001,   Relative Error 0.00083\n"
     ]
    },
    {
     "name": "stderr",
     "output_type": "stream",
     "text": [
      " 55%|█████▌    | 1101/2000 [02:21<01:39,  9.07it/s]"
     ]
    },
    {
     "name": "stdout",
     "output_type": "stream",
     "text": [
      "Training_loss 0.00001,   Relative Error 0.00083\n",
      "Training_loss 0.00001,   Relative Error 0.00084\n",
      "Training_loss 0.00001,   Relative Error 0.00084\n"
     ]
    },
    {
     "name": "stderr",
     "output_type": "stream",
     "text": [
      "\r",
      " 55%|█████▌    | 1102/2000 [02:21<01:43,  8.68it/s]"
     ]
    },
    {
     "name": "stdout",
     "output_type": "stream",
     "text": [
      "Training_loss 0.00001,   Relative Error 0.00084\n",
      "Training_loss 0.00001,   Relative Error 0.00085\n"
     ]
    },
    {
     "name": "stderr",
     "output_type": "stream",
     "text": [
      " 55%|█████▌    | 1105/2000 [02:21<01:46,  8.42it/s]"
     ]
    },
    {
     "name": "stdout",
     "output_type": "stream",
     "text": [
      "Training_loss 0.00001,   Relative Error 0.00085\n",
      "Training_loss 0.00001,   Relative Error 0.00086\n"
     ]
    },
    {
     "name": "stderr",
     "output_type": "stream",
     "text": [
      " 55%|█████▌    | 1107/2000 [02:22<01:53,  7.85it/s]"
     ]
    },
    {
     "name": "stdout",
     "output_type": "stream",
     "text": [
      "Training_loss 0.00001,   Relative Error 0.00087\n",
      "Training_loss 0.00001,   Relative Error 0.00087\n"
     ]
    },
    {
     "name": "stderr",
     "output_type": "stream",
     "text": [
      " 55%|█████▌    | 1109/2000 [02:22<01:52,  7.89it/s]"
     ]
    },
    {
     "name": "stdout",
     "output_type": "stream",
     "text": [
      "Training_loss 0.00001,   Relative Error 0.00087\n",
      "Training_loss 0.00001,   Relative Error 0.00088\n"
     ]
    },
    {
     "name": "stderr",
     "output_type": "stream",
     "text": [
      " 56%|█████▌    | 1111/2000 [02:22<01:44,  8.51it/s]"
     ]
    },
    {
     "name": "stdout",
     "output_type": "stream",
     "text": [
      "Training_loss 0.00001,   Relative Error 0.00088\n",
      "Training_loss 0.00001,   Relative Error 0.00088\n"
     ]
    },
    {
     "name": "stderr",
     "output_type": "stream",
     "text": [
      " 56%|█████▌    | 1114/2000 [02:22<01:32,  9.59it/s]"
     ]
    },
    {
     "name": "stdout",
     "output_type": "stream",
     "text": [
      "Training_loss 0.00001,   Relative Error 0.00088\n",
      "Training_loss 0.00001,   Relative Error 0.00087\n",
      "Training_loss 0.00001,   Relative Error 0.00088\n"
     ]
    },
    {
     "name": "stderr",
     "output_type": "stream",
     "text": [
      " 56%|█████▌    | 1116/2000 [02:23<01:36,  9.19it/s]"
     ]
    },
    {
     "name": "stdout",
     "output_type": "stream",
     "text": [
      "Training_loss 0.00001,   Relative Error 0.00089\n",
      "Training_loss 0.00001,   Relative Error 0.00089\n"
     ]
    },
    {
     "name": "stderr",
     "output_type": "stream",
     "text": [
      " 56%|█████▌    | 1118/2000 [02:23<01:40,  8.77it/s]"
     ]
    },
    {
     "name": "stdout",
     "output_type": "stream",
     "text": [
      "Training_loss 0.00001,   Relative Error 0.00088\n",
      "Training_loss 0.00001,   Relative Error 0.00088\n"
     ]
    },
    {
     "name": "stderr",
     "output_type": "stream",
     "text": [
      " 56%|█████▌    | 1120/2000 [02:23<01:42,  8.63it/s]"
     ]
    },
    {
     "name": "stdout",
     "output_type": "stream",
     "text": [
      "Training_loss 0.00001,   Relative Error 0.00087\n",
      "Training_loss 0.00001,   Relative Error 0.00088\n"
     ]
    },
    {
     "name": "stderr",
     "output_type": "stream",
     "text": [
      "\r",
      " 56%|█████▌    | 1122/2000 [02:23<01:35,  9.16it/s]"
     ]
    },
    {
     "name": "stdout",
     "output_type": "stream",
     "text": [
      "Training_loss 0.00001,   Relative Error 0.00088\n",
      "Training_loss 0.00001,   Relative Error 0.00088\n"
     ]
    },
    {
     "name": "stderr",
     "output_type": "stream",
     "text": [
      " 56%|█████▌    | 1124/2000 [02:24<01:46,  8.25it/s]"
     ]
    },
    {
     "name": "stdout",
     "output_type": "stream",
     "text": [
      "Training_loss 0.00001,   Relative Error 0.00087\n",
      "Training_loss 0.00001,   Relative Error 0.00087\n"
     ]
    },
    {
     "name": "stderr",
     "output_type": "stream",
     "text": [
      " 56%|█████▋    | 1126/2000 [02:24<01:41,  8.61it/s]"
     ]
    },
    {
     "name": "stdout",
     "output_type": "stream",
     "text": [
      "Training_loss 0.00001,   Relative Error 0.00087\n",
      "Training_loss 0.00001,   Relative Error 0.00087\n"
     ]
    },
    {
     "name": "stderr",
     "output_type": "stream",
     "text": [
      "\r",
      " 56%|█████▋    | 1127/2000 [02:24<01:41,  8.56it/s]"
     ]
    },
    {
     "name": "stdout",
     "output_type": "stream",
     "text": [
      "Training_loss 0.00001,   Relative Error 0.00087\n",
      "Training_loss 0.00001,   Relative Error 0.00086\n"
     ]
    },
    {
     "name": "stderr",
     "output_type": "stream",
     "text": [
      " 56%|█████▋    | 1130/2000 [02:24<01:34,  9.20it/s]"
     ]
    },
    {
     "name": "stdout",
     "output_type": "stream",
     "text": [
      "Training_loss 0.00001,   Relative Error 0.00087\n",
      "Training_loss 0.00001,   Relative Error 0.00087\n"
     ]
    },
    {
     "name": "stderr",
     "output_type": "stream",
     "text": [
      " 57%|█████▋    | 1132/2000 [02:25<01:42,  8.47it/s]"
     ]
    },
    {
     "name": "stdout",
     "output_type": "stream",
     "text": [
      "Training_loss 0.00001,   Relative Error 0.00088\n",
      "Training_loss 0.00001,   Relative Error 0.00089\n"
     ]
    },
    {
     "name": "stderr",
     "output_type": "stream",
     "text": [
      " 57%|█████▋    | 1134/2000 [02:25<01:48,  7.95it/s]"
     ]
    },
    {
     "name": "stdout",
     "output_type": "stream",
     "text": [
      "Training_loss 0.00001,   Relative Error 0.00089\n",
      "Training_loss 0.00001,   Relative Error 0.00089\n"
     ]
    },
    {
     "name": "stderr",
     "output_type": "stream",
     "text": [
      " 57%|█████▋    | 1136/2000 [02:25<01:52,  7.66it/s]"
     ]
    },
    {
     "name": "stdout",
     "output_type": "stream",
     "text": [
      "Training_loss 0.00001,   Relative Error 0.00088\n",
      "Training_loss 0.00001,   Relative Error 0.00088\n"
     ]
    },
    {
     "name": "stderr",
     "output_type": "stream",
     "text": [
      " 57%|█████▋    | 1138/2000 [02:25<01:59,  7.21it/s]"
     ]
    },
    {
     "name": "stdout",
     "output_type": "stream",
     "text": [
      "Training_loss 0.00001,   Relative Error 0.00089\n",
      "Training_loss 0.00001,   Relative Error 0.00088\n"
     ]
    },
    {
     "name": "stderr",
     "output_type": "stream",
     "text": [
      " 57%|█████▋    | 1140/2000 [02:26<02:14,  6.41it/s]"
     ]
    },
    {
     "name": "stdout",
     "output_type": "stream",
     "text": [
      "Training_loss 0.00001,   Relative Error 0.00087\n",
      "Training_loss 0.00001,   Relative Error 0.00087\n"
     ]
    },
    {
     "name": "stderr",
     "output_type": "stream",
     "text": [
      " 57%|█████▋    | 1142/2000 [02:26<02:38,  5.40it/s]"
     ]
    },
    {
     "name": "stdout",
     "output_type": "stream",
     "text": [
      "Training_loss 0.00001,   Relative Error 0.00087\n",
      "Training_loss 0.00001,   Relative Error 0.00088\n"
     ]
    },
    {
     "name": "stderr",
     "output_type": "stream",
     "text": [
      " 57%|█████▋    | 1144/2000 [02:26<02:13,  6.40it/s]"
     ]
    },
    {
     "name": "stdout",
     "output_type": "stream",
     "text": [
      "Training_loss 0.00001,   Relative Error 0.00088\n",
      "Training_loss 0.00001,   Relative Error 0.00088\n"
     ]
    },
    {
     "name": "stderr",
     "output_type": "stream",
     "text": [
      " 57%|█████▋    | 1146/2000 [02:27<01:55,  7.36it/s]"
     ]
    },
    {
     "name": "stdout",
     "output_type": "stream",
     "text": [
      "Training_loss 0.00001,   Relative Error 0.00088\n",
      "Training_loss 0.00001,   Relative Error 0.00087\n"
     ]
    },
    {
     "name": "stderr",
     "output_type": "stream",
     "text": [
      " 57%|█████▋    | 1148/2000 [02:27<01:50,  7.71it/s]"
     ]
    },
    {
     "name": "stdout",
     "output_type": "stream",
     "text": [
      "Training_loss 0.00001,   Relative Error 0.00088\n",
      "Training_loss 0.00001,   Relative Error 0.00088\n"
     ]
    },
    {
     "name": "stderr",
     "output_type": "stream",
     "text": [
      " 57%|█████▊    | 1150/2000 [02:27<02:09,  6.56it/s]"
     ]
    },
    {
     "name": "stdout",
     "output_type": "stream",
     "text": [
      "Training_loss 0.00001,   Relative Error 0.00088\n",
      "Training_loss 0.00001,   Relative Error 0.00088\n"
     ]
    },
    {
     "name": "stderr",
     "output_type": "stream",
     "text": [
      " 58%|█████▊    | 1152/2000 [02:27<02:09,  6.56it/s]"
     ]
    },
    {
     "name": "stdout",
     "output_type": "stream",
     "text": [
      "Training_loss 0.00001,   Relative Error 0.00088\n",
      "Training_loss 0.00001,   Relative Error 0.00087\n"
     ]
    },
    {
     "name": "stderr",
     "output_type": "stream",
     "text": [
      " 58%|█████▊    | 1154/2000 [02:28<02:04,  6.77it/s]"
     ]
    },
    {
     "name": "stdout",
     "output_type": "stream",
     "text": [
      "Training_loss 0.00001,   Relative Error 0.00087\n",
      "Training_loss 0.00001,   Relative Error 0.00087\n"
     ]
    },
    {
     "name": "stderr",
     "output_type": "stream",
     "text": [
      " 58%|█████▊    | 1156/2000 [02:28<02:05,  6.72it/s]"
     ]
    },
    {
     "name": "stdout",
     "output_type": "stream",
     "text": [
      "Training_loss 0.00001,   Relative Error 0.00087\n",
      "Training_loss 0.00001,   Relative Error 0.00087\n"
     ]
    },
    {
     "name": "stderr",
     "output_type": "stream",
     "text": [
      " 58%|█████▊    | 1158/2000 [02:28<02:04,  6.76it/s]"
     ]
    },
    {
     "name": "stdout",
     "output_type": "stream",
     "text": [
      "Training_loss 0.00001,   Relative Error 0.00087\n",
      "Training_loss 0.00001,   Relative Error 0.00088\n"
     ]
    },
    {
     "name": "stderr",
     "output_type": "stream",
     "text": [
      " 58%|█████▊    | 1160/2000 [02:29<01:57,  7.13it/s]"
     ]
    },
    {
     "name": "stdout",
     "output_type": "stream",
     "text": [
      "Training_loss 0.00001,   Relative Error 0.00087\n",
      "Training_loss 0.00001,   Relative Error 0.00088\n"
     ]
    },
    {
     "name": "stderr",
     "output_type": "stream",
     "text": [
      " 58%|█████▊    | 1162/2000 [02:29<02:04,  6.71it/s]"
     ]
    },
    {
     "name": "stdout",
     "output_type": "stream",
     "text": [
      "Training_loss 0.00001,   Relative Error 0.00088\n",
      "Training_loss 0.00001,   Relative Error 0.00089\n"
     ]
    },
    {
     "name": "stderr",
     "output_type": "stream",
     "text": [
      "\r",
      " 58%|█████▊    | 1163/2000 [02:29<02:26,  5.70it/s]"
     ]
    },
    {
     "name": "stdout",
     "output_type": "stream",
     "text": [
      "Training_loss 0.00001,   Relative Error 0.00089\n"
     ]
    },
    {
     "name": "stderr",
     "output_type": "stream",
     "text": [
      "\r",
      " 58%|█████▊    | 1164/2000 [02:29<02:41,  5.16it/s]"
     ]
    },
    {
     "name": "stdout",
     "output_type": "stream",
     "text": [
      "Training_loss 0.00001,   Relative Error 0.00089\n"
     ]
    },
    {
     "name": "stderr",
     "output_type": "stream",
     "text": [
      " 58%|█████▊    | 1166/2000 [02:30<02:42,  5.14it/s]"
     ]
    },
    {
     "name": "stdout",
     "output_type": "stream",
     "text": [
      "Training_loss 0.00001,   Relative Error 0.00090\n",
      "Training_loss 0.00001,   Relative Error 0.00089\n"
     ]
    },
    {
     "name": "stderr",
     "output_type": "stream",
     "text": [
      " 58%|█████▊    | 1168/2000 [02:30<02:23,  5.78it/s]"
     ]
    },
    {
     "name": "stdout",
     "output_type": "stream",
     "text": [
      "Training_loss 0.00001,   Relative Error 0.00088\n",
      "Training_loss 0.00001,   Relative Error 0.00088\n"
     ]
    },
    {
     "name": "stderr",
     "output_type": "stream",
     "text": [
      " 58%|█████▊    | 1170/2000 [02:30<02:14,  6.17it/s]"
     ]
    },
    {
     "name": "stdout",
     "output_type": "stream",
     "text": [
      "Training_loss 0.00001,   Relative Error 0.00088\n",
      "Training_loss 0.00001,   Relative Error 0.00087\n"
     ]
    },
    {
     "name": "stderr",
     "output_type": "stream",
     "text": [
      " 59%|█████▊    | 1172/2000 [02:31<02:15,  6.11it/s]"
     ]
    },
    {
     "name": "stdout",
     "output_type": "stream",
     "text": [
      "Training_loss 0.00001,   Relative Error 0.00087\n",
      "Training_loss 0.00001,   Relative Error 0.00087\n"
     ]
    },
    {
     "name": "stderr",
     "output_type": "stream",
     "text": [
      " 59%|█████▊    | 1174/2000 [02:31<02:05,  6.59it/s]"
     ]
    },
    {
     "name": "stdout",
     "output_type": "stream",
     "text": [
      "Training_loss 0.00001,   Relative Error 0.00087\n",
      "Training_loss 0.00001,   Relative Error 0.00087\n"
     ]
    },
    {
     "name": "stderr",
     "output_type": "stream",
     "text": [
      " 59%|█████▉    | 1176/2000 [02:31<02:05,  6.58it/s]"
     ]
    },
    {
     "name": "stdout",
     "output_type": "stream",
     "text": [
      "Training_loss 0.00001,   Relative Error 0.00087\n",
      "Training_loss 0.00001,   Relative Error 0.00088\n"
     ]
    },
    {
     "name": "stderr",
     "output_type": "stream",
     "text": [
      " 59%|█████▉    | 1178/2000 [02:32<02:01,  6.78it/s]"
     ]
    },
    {
     "name": "stdout",
     "output_type": "stream",
     "text": [
      "Training_loss 0.00001,   Relative Error 0.00087\n",
      "Training_loss 0.00001,   Relative Error 0.00087\n"
     ]
    },
    {
     "name": "stderr",
     "output_type": "stream",
     "text": [
      " 59%|█████▉    | 1180/2000 [02:32<02:03,  6.66it/s]"
     ]
    },
    {
     "name": "stdout",
     "output_type": "stream",
     "text": [
      "Training_loss 0.00001,   Relative Error 0.00087\n",
      "Training_loss 0.00001,   Relative Error 0.00087\n"
     ]
    },
    {
     "name": "stderr",
     "output_type": "stream",
     "text": [
      " 59%|█████▉    | 1182/2000 [02:32<01:59,  6.83it/s]"
     ]
    },
    {
     "name": "stdout",
     "output_type": "stream",
     "text": [
      "Training_loss 0.00001,   Relative Error 0.00087\n",
      "Training_loss 0.00001,   Relative Error 0.00087\n"
     ]
    },
    {
     "name": "stderr",
     "output_type": "stream",
     "text": [
      "\r",
      " 59%|█████▉    | 1183/2000 [02:32<02:07,  6.42it/s]"
     ]
    },
    {
     "name": "stdout",
     "output_type": "stream",
     "text": [
      "Training_loss 0.00001,   Relative Error 0.00086\n"
     ]
    },
    {
     "name": "stderr",
     "output_type": "stream",
     "text": [
      "\r",
      " 59%|█████▉    | 1184/2000 [02:33<02:29,  5.45it/s]"
     ]
    },
    {
     "name": "stdout",
     "output_type": "stream",
     "text": [
      "Training_loss 0.00001,   Relative Error 0.00086\n"
     ]
    },
    {
     "name": "stderr",
     "output_type": "stream",
     "text": [
      "\r",
      " 59%|█████▉    | 1185/2000 [02:33<02:38,  5.14it/s]"
     ]
    },
    {
     "name": "stdout",
     "output_type": "stream",
     "text": [
      "Training_loss 0.00001,   Relative Error 0.00086\n"
     ]
    },
    {
     "name": "stderr",
     "output_type": "stream",
     "text": [
      "\r",
      " 59%|█████▉    | 1186/2000 [02:33<02:54,  4.68it/s]"
     ]
    },
    {
     "name": "stdout",
     "output_type": "stream",
     "text": [
      "Training_loss 0.00001,   Relative Error 0.00086\n"
     ]
    },
    {
     "name": "stderr",
     "output_type": "stream",
     "text": [
      "\r",
      " 59%|█████▉    | 1187/2000 [02:33<03:05,  4.38it/s]"
     ]
    },
    {
     "name": "stdout",
     "output_type": "stream",
     "text": [
      "Training_loss 0.00001,   Relative Error 0.00086\n"
     ]
    },
    {
     "name": "stderr",
     "output_type": "stream",
     "text": [
      "\r",
      " 59%|█████▉    | 1188/2000 [02:34<03:07,  4.33it/s]"
     ]
    },
    {
     "name": "stdout",
     "output_type": "stream",
     "text": [
      "Training_loss 0.00001,   Relative Error 0.00086\n"
     ]
    },
    {
     "name": "stderr",
     "output_type": "stream",
     "text": [
      " 60%|█████▉    | 1190/2000 [02:34<02:50,  4.74it/s]"
     ]
    },
    {
     "name": "stdout",
     "output_type": "stream",
     "text": [
      "Training_loss 0.00001,   Relative Error 0.00086\n",
      "Training_loss 0.00001,   Relative Error 0.00084\n"
     ]
    },
    {
     "name": "stderr",
     "output_type": "stream",
     "text": [
      "\r",
      " 60%|█████▉    | 1191/2000 [02:34<02:49,  4.77it/s]"
     ]
    },
    {
     "name": "stdout",
     "output_type": "stream",
     "text": [
      "Training_loss 0.00001,   Relative Error 0.00084\n"
     ]
    },
    {
     "name": "stderr",
     "output_type": "stream",
     "text": [
      " 60%|█████▉    | 1193/2000 [02:35<02:47,  4.81it/s]"
     ]
    },
    {
     "name": "stdout",
     "output_type": "stream",
     "text": [
      "Training_loss 0.00001,   Relative Error 0.00085\n",
      "Training_loss 0.00001,   Relative Error 0.00085\n"
     ]
    },
    {
     "name": "stderr",
     "output_type": "stream",
     "text": [
      " 60%|█████▉    | 1195/2000 [02:35<02:32,  5.28it/s]"
     ]
    },
    {
     "name": "stdout",
     "output_type": "stream",
     "text": [
      "Training_loss 0.00001,   Relative Error 0.00086\n",
      "Training_loss 0.00001,   Relative Error 0.00086\n"
     ]
    },
    {
     "name": "stderr",
     "output_type": "stream",
     "text": [
      " 60%|█████▉    | 1197/2000 [02:35<02:19,  5.78it/s]"
     ]
    },
    {
     "name": "stdout",
     "output_type": "stream",
     "text": [
      "Training_loss 0.00001,   Relative Error 0.00086\n",
      "Training_loss 0.00001,   Relative Error 0.00086\n"
     ]
    },
    {
     "name": "stderr",
     "output_type": "stream",
     "text": [
      " 60%|█████▉    | 1199/2000 [02:36<02:02,  6.51it/s]"
     ]
    },
    {
     "name": "stdout",
     "output_type": "stream",
     "text": [
      "Training_loss 0.00001,   Relative Error 0.00084\n",
      "Training_loss 0.00001,   Relative Error 0.00085\n"
     ]
    },
    {
     "name": "stderr",
     "output_type": "stream",
     "text": [
      " 60%|██████    | 1201/2000 [02:36<02:03,  6.49it/s]"
     ]
    },
    {
     "name": "stdout",
     "output_type": "stream",
     "text": [
      "Training_loss 0.00001,   Relative Error 0.00084\n",
      "Training_loss 0.00001,   Relative Error 0.00085\n"
     ]
    },
    {
     "name": "stderr",
     "output_type": "stream",
     "text": [
      " 60%|██████    | 1203/2000 [02:36<02:02,  6.49it/s]"
     ]
    },
    {
     "name": "stdout",
     "output_type": "stream",
     "text": [
      "Training_loss 0.00001,   Relative Error 0.00085\n",
      "Training_loss 0.00001,   Relative Error 0.00086\n"
     ]
    },
    {
     "name": "stderr",
     "output_type": "stream",
     "text": [
      " 60%|██████    | 1205/2000 [02:36<01:45,  7.52it/s]"
     ]
    },
    {
     "name": "stdout",
     "output_type": "stream",
     "text": [
      "Training_loss 0.00001,   Relative Error 0.00085\n",
      "Training_loss 0.00001,   Relative Error 0.00085\n"
     ]
    },
    {
     "name": "stderr",
     "output_type": "stream",
     "text": [
      "\r",
      " 60%|██████    | 1206/2000 [02:37<01:43,  7.70it/s]"
     ]
    },
    {
     "name": "stdout",
     "output_type": "stream",
     "text": [
      "Training_loss 0.00001,   Relative Error 0.00085\n",
      "Training_loss 0.00001,   Relative Error 0.00084\n"
     ]
    },
    {
     "name": "stderr",
     "output_type": "stream",
     "text": [
      " 60%|██████    | 1209/2000 [02:37<01:33,  8.47it/s]"
     ]
    },
    {
     "name": "stdout",
     "output_type": "stream",
     "text": [
      "Training_loss 0.00001,   Relative Error 0.00084\n",
      "Training_loss 0.00001,   Relative Error 0.00085\n"
     ]
    },
    {
     "name": "stderr",
     "output_type": "stream",
     "text": [
      " 61%|██████    | 1211/2000 [02:37<01:29,  8.80it/s]"
     ]
    },
    {
     "name": "stdout",
     "output_type": "stream",
     "text": [
      "Training_loss 0.00001,   Relative Error 0.00085\n",
      "Training_loss 0.00001,   Relative Error 0.00085\n",
      "Training_loss 0.00001,   Relative Error 0.00086\n"
     ]
    },
    {
     "name": "stderr",
     "output_type": "stream",
     "text": [
      " 61%|██████    | 1214/2000 [02:37<01:21,  9.69it/s]"
     ]
    },
    {
     "name": "stdout",
     "output_type": "stream",
     "text": [
      "Training_loss 0.00001,   Relative Error 0.00085\n",
      "Training_loss 0.00001,   Relative Error 0.00086\n"
     ]
    },
    {
     "name": "stderr",
     "output_type": "stream",
     "text": [
      " 61%|██████    | 1216/2000 [02:38<01:24,  9.33it/s]"
     ]
    },
    {
     "name": "stdout",
     "output_type": "stream",
     "text": [
      "Training_loss 0.00001,   Relative Error 0.00086\n",
      "Training_loss 0.00001,   Relative Error 0.00086\n"
     ]
    },
    {
     "name": "stderr",
     "output_type": "stream",
     "text": [
      " 61%|██████    | 1219/2000 [02:38<01:19,  9.86it/s]"
     ]
    },
    {
     "name": "stdout",
     "output_type": "stream",
     "text": [
      "Training_loss 0.00001,   Relative Error 0.00086\n",
      "Training_loss 0.00001,   Relative Error 0.00087\n",
      "Training_loss 0.00001,   Relative Error 0.00088\n"
     ]
    },
    {
     "name": "stderr",
     "output_type": "stream",
     "text": [
      " 61%|██████    | 1221/2000 [02:38<01:28,  8.81it/s]"
     ]
    },
    {
     "name": "stdout",
     "output_type": "stream",
     "text": [
      "Training_loss 0.00001,   Relative Error 0.00089\n",
      "Training_loss 0.00001,   Relative Error 0.00089\n"
     ]
    },
    {
     "name": "stderr",
     "output_type": "stream",
     "text": [
      " 61%|██████    | 1223/2000 [02:38<01:27,  8.83it/s]"
     ]
    },
    {
     "name": "stdout",
     "output_type": "stream",
     "text": [
      "Training_loss 0.00001,   Relative Error 0.00089\n",
      "Training_loss 0.00001,   Relative Error 0.00089\n"
     ]
    },
    {
     "name": "stderr",
     "output_type": "stream",
     "text": [
      "\r",
      " 61%|██████▏   | 1225/2000 [02:39<01:23,  9.31it/s]"
     ]
    },
    {
     "name": "stdout",
     "output_type": "stream",
     "text": [
      "Training_loss 0.00001,   Relative Error 0.00089\n",
      "Training_loss 0.00001,   Relative Error 0.00087\n"
     ]
    },
    {
     "name": "stderr",
     "output_type": "stream",
     "text": [
      " 61%|██████▏   | 1228/2000 [02:39<01:18,  9.82it/s]"
     ]
    },
    {
     "name": "stdout",
     "output_type": "stream",
     "text": [
      "Training_loss 0.00001,   Relative Error 0.00086\n",
      "Training_loss 0.00001,   Relative Error 0.00086\n",
      "Training_loss 0.00001,   Relative Error 0.00086\n"
     ]
    },
    {
     "name": "stderr",
     "output_type": "stream",
     "text": [
      "\r",
      " 62%|██████▏   | 1230/2000 [02:39<01:17,  9.88it/s]"
     ]
    },
    {
     "name": "stdout",
     "output_type": "stream",
     "text": [
      "Training_loss 0.00001,   Relative Error 0.00086\n",
      "Training_loss 0.00001,   Relative Error 0.00088\n",
      "Training_loss 0.00001,   Relative Error 0.00088\n"
     ]
    },
    {
     "name": "stderr",
     "output_type": "stream",
     "text": [
      " 62%|██████▏   | 1233/2000 [02:39<01:21,  9.38it/s]"
     ]
    },
    {
     "name": "stdout",
     "output_type": "stream",
     "text": [
      "Training_loss 0.00001,   Relative Error 0.00088\n",
      "Training_loss 0.00001,   Relative Error 0.00089\n"
     ]
    },
    {
     "name": "stderr",
     "output_type": "stream",
     "text": [
      " 62%|██████▏   | 1236/2000 [02:40<01:16,  9.94it/s]"
     ]
    },
    {
     "name": "stdout",
     "output_type": "stream",
     "text": [
      "Training_loss 0.00001,   Relative Error 0.00089\n",
      "Training_loss 0.00001,   Relative Error 0.00089\n",
      "Training_loss 0.00001,   Relative Error 0.00089\n"
     ]
    },
    {
     "name": "stderr",
     "output_type": "stream",
     "text": [
      " 62%|██████▏   | 1239/2000 [02:40<01:16,  9.97it/s]"
     ]
    },
    {
     "name": "stdout",
     "output_type": "stream",
     "text": [
      "Training_loss 0.00001,   Relative Error 0.00090\n",
      "Training_loss 0.00001,   Relative Error 0.00089\n",
      "Training_loss 0.00001,   Relative Error 0.00090\n"
     ]
    },
    {
     "name": "stderr",
     "output_type": "stream",
     "text": [
      " 62%|██████▏   | 1241/2000 [02:40<01:18,  9.73it/s]"
     ]
    },
    {
     "name": "stdout",
     "output_type": "stream",
     "text": [
      "Training_loss 0.00001,   Relative Error 0.00090\n",
      "Training_loss 0.00001,   Relative Error 0.00090\n",
      "Training_loss 0.00001,   Relative Error 0.00091\n"
     ]
    },
    {
     "name": "stderr",
     "output_type": "stream",
     "text": [
      "\r",
      " 62%|██████▏   | 1243/2000 [02:40<01:13, 10.26it/s]"
     ]
    },
    {
     "name": "stdout",
     "output_type": "stream",
     "text": [
      "Training_loss 0.00001,   Relative Error 0.00090\n",
      "Training_loss 0.00001,   Relative Error 0.00089\n",
      "Training_loss 0.00001,   Relative Error 0.00089"
     ]
    },
    {
     "name": "stderr",
     "output_type": "stream",
     "text": [
      " 62%|██████▏   | 1247/2000 [02:41<01:11, 10.58it/s]"
     ]
    },
    {
     "name": "stdout",
     "output_type": "stream",
     "text": [
      "\n",
      "Training_loss 0.00001,   Relative Error 0.00089\n",
      "Training_loss 0.00001,   Relative Error 0.00090\n"
     ]
    },
    {
     "name": "stderr",
     "output_type": "stream",
     "text": [
      "\r",
      " 62%|██████▏   | 1249/2000 [02:41<01:14, 10.05it/s]"
     ]
    },
    {
     "name": "stdout",
     "output_type": "stream",
     "text": [
      "Training_loss 0.00001,   Relative Error 0.00090\n",
      "Training_loss 0.00001,   Relative Error 0.00090\n",
      "Training_loss 0.00001,   Relative Error 0.00090\n"
     ]
    },
    {
     "name": "stderr",
     "output_type": "stream",
     "text": [
      " 63%|██████▎   | 1253/2000 [02:41<01:13, 10.19it/s]"
     ]
    },
    {
     "name": "stdout",
     "output_type": "stream",
     "text": [
      "Training_loss 0.00001,   Relative Error 0.00090\n",
      "Training_loss 0.00001,   Relative Error 0.00090\n",
      "Training_loss 0.00001,   Relative Error 0.00090\n"
     ]
    },
    {
     "name": "stderr",
     "output_type": "stream",
     "text": [
      "\r",
      " 63%|██████▎   | 1255/2000 [02:42<01:15,  9.92it/s]"
     ]
    },
    {
     "name": "stdout",
     "output_type": "stream",
     "text": [
      "Training_loss 0.00001,   Relative Error 0.00089\n",
      "Training_loss 0.00001,   Relative Error 0.00089\n",
      "Training_loss 0.00001,   Relative Error 0.00087\n"
     ]
    },
    {
     "name": "stderr",
     "output_type": "stream",
     "text": [
      " 63%|██████▎   | 1259/2000 [02:42<01:12, 10.17it/s]"
     ]
    },
    {
     "name": "stdout",
     "output_type": "stream",
     "text": [
      "Training_loss 0.00001,   Relative Error 0.00087\n",
      "Training_loss 0.00001,   Relative Error 0.00087\n",
      "Training_loss 0.00001,   Relative Error 0.00086\n"
     ]
    },
    {
     "name": "stderr",
     "output_type": "stream",
     "text": [
      "\r",
      " 63%|██████▎   | 1261/2000 [02:42<01:10, 10.45it/s]"
     ]
    },
    {
     "name": "stdout",
     "output_type": "stream",
     "text": [
      "Training_loss 0.00001,   Relative Error 0.00086\n",
      "Training_loss 0.00001,   Relative Error 0.00087\n"
     ]
    },
    {
     "name": "stderr",
     "output_type": "stream",
     "text": [
      "\r",
      " 63%|██████▎   | 1263/2000 [02:42<01:11, 10.33it/s]"
     ]
    },
    {
     "name": "stdout",
     "output_type": "stream",
     "text": [
      "Training_loss 0.00001,   Relative Error 0.00086\n",
      "Training_loss 0.00001,   Relative Error 0.00087\n",
      "Training_loss 0.00001,   Relative Error 0.00086\n"
     ]
    },
    {
     "name": "stderr",
     "output_type": "stream",
     "text": [
      " 63%|██████▎   | 1266/2000 [02:43<01:16,  9.60it/s]"
     ]
    },
    {
     "name": "stdout",
     "output_type": "stream",
     "text": [
      "Training_loss 0.00001,   Relative Error 0.00086\n",
      "Training_loss 0.00001,   Relative Error 0.00086\n"
     ]
    },
    {
     "name": "stderr",
     "output_type": "stream",
     "text": [
      " 63%|██████▎   | 1268/2000 [02:43<01:17,  9.46it/s]"
     ]
    },
    {
     "name": "stdout",
     "output_type": "stream",
     "text": [
      "Training_loss 0.00001,   Relative Error 0.00084\n",
      "Training_loss 0.00001,   Relative Error 0.00085\n"
     ]
    },
    {
     "name": "stderr",
     "output_type": "stream",
     "text": [
      " 64%|██████▎   | 1270/2000 [02:43<01:17,  9.48it/s]"
     ]
    },
    {
     "name": "stdout",
     "output_type": "stream",
     "text": [
      "Training_loss 0.00001,   Relative Error 0.00085\n",
      "Training_loss 0.00001,   Relative Error 0.00085\n",
      "Training_loss 0.00001,   Relative Error 0.00085\n"
     ]
    },
    {
     "name": "stderr",
     "output_type": "stream",
     "text": [
      " 64%|██████▎   | 1274/2000 [02:43<01:06, 10.87it/s]"
     ]
    },
    {
     "name": "stdout",
     "output_type": "stream",
     "text": [
      "Training_loss 0.00001,   Relative Error 0.00084\n",
      "Training_loss 0.00001,   Relative Error 0.00084\n",
      "Training_loss 0.00001,   Relative Error 0.00085\n"
     ]
    },
    {
     "name": "stderr",
     "output_type": "stream",
     "text": [
      "\r",
      " 64%|██████▍   | 1276/2000 [02:44<01:07, 10.77it/s]"
     ]
    },
    {
     "name": "stdout",
     "output_type": "stream",
     "text": [
      "Training_loss 0.00001,   Relative Error 0.00086\n",
      "Training_loss 0.00001,   Relative Error 0.00085\n",
      "Training_loss 0.00001,   Relative Error 0.00086\n"
     ]
    },
    {
     "name": "stderr",
     "output_type": "stream",
     "text": [
      "\r",
      " 64%|██████▍   | 1278/2000 [02:44<01:09, 10.32it/s]"
     ]
    },
    {
     "name": "stdout",
     "output_type": "stream",
     "text": [
      "Training_loss 0.00001,   Relative Error 0.00085\n",
      "Training_loss 0.00001,   Relative Error 0.00086\n"
     ]
    },
    {
     "name": "stderr",
     "output_type": "stream",
     "text": [
      " 64%|██████▍   | 1281/2000 [02:44<01:15,  9.46it/s]"
     ]
    },
    {
     "name": "stdout",
     "output_type": "stream",
     "text": [
      "Training_loss 0.00001,   Relative Error 0.00086\n",
      "Training_loss 0.00001,   Relative Error 0.00087\n"
     ]
    },
    {
     "name": "stderr",
     "output_type": "stream",
     "text": [
      " 64%|██████▍   | 1283/2000 [02:44<01:20,  8.92it/s]"
     ]
    },
    {
     "name": "stdout",
     "output_type": "stream",
     "text": [
      "Training_loss 0.00001,   Relative Error 0.00087\n",
      "Training_loss 0.00001,   Relative Error 0.00087\n"
     ]
    },
    {
     "name": "stderr",
     "output_type": "stream",
     "text": [
      " 64%|██████▍   | 1285/2000 [02:45<01:23,  8.52it/s]"
     ]
    },
    {
     "name": "stdout",
     "output_type": "stream",
     "text": [
      "Training_loss 0.00001,   Relative Error 0.00088\n",
      "Training_loss 0.00001,   Relative Error 0.00089\n",
      "Training_loss 0.00001,   Relative Error 0.00089\n"
     ]
    },
    {
     "name": "stderr",
     "output_type": "stream",
     "text": [
      " 64%|██████▍   | 1289/2000 [02:45<01:15,  9.41it/s]"
     ]
    },
    {
     "name": "stdout",
     "output_type": "stream",
     "text": [
      "Training_loss 0.00001,   Relative Error 0.00089\n",
      "Training_loss 0.00001,   Relative Error 0.00089\n",
      "Training_loss 0.00001,   Relative Error 0.00089\n"
     ]
    },
    {
     "name": "stderr",
     "output_type": "stream",
     "text": [
      " 65%|██████▍   | 1291/2000 [02:45<01:14,  9.46it/s]"
     ]
    },
    {
     "name": "stdout",
     "output_type": "stream",
     "text": [
      "Training_loss 0.00001,   Relative Error 0.00088\n",
      "Training_loss 0.00001,   Relative Error 0.00088\n",
      "Training_loss 0.00001,   Relative Error 0.00088\n"
     ]
    },
    {
     "name": "stderr",
     "output_type": "stream",
     "text": [
      " 65%|██████▍   | 1294/2000 [02:46<01:12,  9.71it/s]"
     ]
    },
    {
     "name": "stdout",
     "output_type": "stream",
     "text": [
      "Training_loss 0.00001,   Relative Error 0.00088\n",
      "Training_loss 0.00001,   Relative Error 0.00088\n"
     ]
    },
    {
     "name": "stderr",
     "output_type": "stream",
     "text": [
      "\r",
      " 65%|██████▍   | 1296/2000 [02:46<01:10,  9.93it/s]"
     ]
    },
    {
     "name": "stdout",
     "output_type": "stream",
     "text": [
      "Training_loss 0.00001,   Relative Error 0.00089\n",
      "Training_loss 0.00001,   Relative Error 0.00087\n",
      "Training_loss 0.00001,   Relative Error 0.00088\n"
     ]
    },
    {
     "name": "stderr",
     "output_type": "stream",
     "text": [
      " 65%|██████▍   | 1299/2000 [02:46<01:17,  9.01it/s]"
     ]
    },
    {
     "name": "stdout",
     "output_type": "stream",
     "text": [
      "Training_loss 0.00001,   Relative Error 0.00088\n",
      "Training_loss 0.00001,   Relative Error 0.00087\n"
     ]
    },
    {
     "name": "stderr",
     "output_type": "stream",
     "text": [
      " 65%|██████▌   | 1301/2000 [02:46<01:19,  8.85it/s]"
     ]
    },
    {
     "name": "stdout",
     "output_type": "stream",
     "text": [
      "Training_loss 0.00001,   Relative Error 0.00087\n",
      "Training_loss 0.00001,   Relative Error 0.00088\n"
     ]
    },
    {
     "name": "stderr",
     "output_type": "stream",
     "text": [
      " 65%|██████▌   | 1303/2000 [02:47<01:29,  7.82it/s]"
     ]
    },
    {
     "name": "stdout",
     "output_type": "stream",
     "text": [
      "Training_loss 0.00001,   Relative Error 0.00088\n",
      "Training_loss 0.00001,   Relative Error 0.00087\n"
     ]
    },
    {
     "name": "stderr",
     "output_type": "stream",
     "text": [
      " 65%|██████▌   | 1305/2000 [02:47<01:30,  7.67it/s]"
     ]
    },
    {
     "name": "stdout",
     "output_type": "stream",
     "text": [
      "Training_loss 0.00001,   Relative Error 0.00087\n",
      "Training_loss 0.00001,   Relative Error 0.00088\n"
     ]
    },
    {
     "name": "stderr",
     "output_type": "stream",
     "text": [
      " 65%|██████▌   | 1307/2000 [02:47<01:27,  7.95it/s]"
     ]
    },
    {
     "name": "stdout",
     "output_type": "stream",
     "text": [
      "Training_loss 0.00001,   Relative Error 0.00088\n",
      "Training_loss 0.00001,   Relative Error 0.00087\n"
     ]
    },
    {
     "name": "stderr",
     "output_type": "stream",
     "text": [
      "\r",
      " 65%|██████▌   | 1308/2000 [02:47<01:24,  8.16it/s]"
     ]
    },
    {
     "name": "stdout",
     "output_type": "stream",
     "text": [
      "Training_loss 0.00001,   Relative Error 0.00086\n"
     ]
    },
    {
     "name": "stderr",
     "output_type": "stream",
     "text": [
      " 66%|██████▌   | 1310/2000 [02:48<02:01,  5.66it/s]"
     ]
    },
    {
     "name": "stdout",
     "output_type": "stream",
     "text": [
      "Training_loss 0.00001,   Relative Error 0.00087\n",
      "Training_loss 0.00001,   Relative Error 0.00087\n"
     ]
    },
    {
     "name": "stderr",
     "output_type": "stream",
     "text": [
      " 66%|██████▌   | 1312/2000 [02:48<01:49,  6.26it/s]"
     ]
    },
    {
     "name": "stdout",
     "output_type": "stream",
     "text": [
      "Training_loss 0.00001,   Relative Error 0.00086\n",
      "Training_loss 0.00001,   Relative Error 0.00086\n"
     ]
    },
    {
     "name": "stderr",
     "output_type": "stream",
     "text": [
      " 66%|██████▌   | 1314/2000 [02:48<01:33,  7.35it/s]"
     ]
    },
    {
     "name": "stdout",
     "output_type": "stream",
     "text": [
      "Training_loss 0.00001,   Relative Error 0.00085\n",
      "Training_loss 0.00001,   Relative Error 0.00085\n"
     ]
    },
    {
     "name": "stderr",
     "output_type": "stream",
     "text": [
      "\r",
      " 66%|██████▌   | 1316/2000 [02:49<01:24,  8.06it/s]"
     ]
    },
    {
     "name": "stdout",
     "output_type": "stream",
     "text": [
      "Training_loss 0.00001,   Relative Error 0.00085\n",
      "Training_loss 0.00001,   Relative Error 0.00084\n"
     ]
    },
    {
     "name": "stderr",
     "output_type": "stream",
     "text": [
      "\r",
      " 66%|██████▌   | 1317/2000 [02:49<01:23,  8.13it/s]"
     ]
    },
    {
     "name": "stdout",
     "output_type": "stream",
     "text": [
      "Training_loss 0.00001,   Relative Error 0.00084\n",
      "Training_loss 0.00001,   Relative Error 0.00084\n"
     ]
    },
    {
     "name": "stderr",
     "output_type": "stream",
     "text": [
      " 66%|██████▌   | 1320/2000 [02:49<01:24,  8.02it/s]"
     ]
    },
    {
     "name": "stdout",
     "output_type": "stream",
     "text": [
      "Training_loss 0.00001,   Relative Error 0.00085\n",
      "Training_loss 0.00001,   Relative Error 0.00085\n"
     ]
    },
    {
     "name": "stderr",
     "output_type": "stream",
     "text": [
      " 66%|██████▌   | 1322/2000 [02:49<01:18,  8.66it/s]"
     ]
    },
    {
     "name": "stdout",
     "output_type": "stream",
     "text": [
      "Training_loss 0.00001,   Relative Error 0.00084\n",
      "Training_loss 0.00001,   Relative Error 0.00085\n",
      "Training_loss 0.00001,   Relative Error 0.00084\n"
     ]
    },
    {
     "name": "stderr",
     "output_type": "stream",
     "text": [
      " 66%|██████▋   | 1325/2000 [02:50<01:21,  8.28it/s]"
     ]
    },
    {
     "name": "stdout",
     "output_type": "stream",
     "text": [
      "Training_loss 0.00001,   Relative Error 0.00084\n",
      "Training_loss 0.00001,   Relative Error 0.00084\n"
     ]
    },
    {
     "name": "stderr",
     "output_type": "stream",
     "text": [
      " 66%|██████▋   | 1327/2000 [02:50<01:22,  8.16it/s]"
     ]
    },
    {
     "name": "stdout",
     "output_type": "stream",
     "text": [
      "Training_loss 0.00001,   Relative Error 0.00084\n",
      "Training_loss 0.00001,   Relative Error 0.00084\n"
     ]
    },
    {
     "name": "stderr",
     "output_type": "stream",
     "text": [
      " 66%|██████▋   | 1329/2000 [02:50<01:31,  7.31it/s]"
     ]
    },
    {
     "name": "stdout",
     "output_type": "stream",
     "text": [
      "Training_loss 0.00001,   Relative Error 0.00085\n",
      "Training_loss 0.00001,   Relative Error 0.00085\n"
     ]
    },
    {
     "name": "stderr",
     "output_type": "stream",
     "text": [
      " 67%|██████▋   | 1332/2000 [02:50<01:13,  9.06it/s]"
     ]
    },
    {
     "name": "stdout",
     "output_type": "stream",
     "text": [
      "Training_loss 0.00001,   Relative Error 0.00085\n",
      "Training_loss 0.00001,   Relative Error 0.00086\n",
      "Training_loss 0.00001,   Relative Error 0.00086\n"
     ]
    },
    {
     "name": "stderr",
     "output_type": "stream",
     "text": [
      "\r",
      " 67%|██████▋   | 1334/2000 [02:51<01:10,  9.42it/s]"
     ]
    },
    {
     "name": "stdout",
     "output_type": "stream",
     "text": [
      "Training_loss 0.00001,   Relative Error 0.00086\n",
      "Training_loss 0.00001,   Relative Error 0.00088\n"
     ]
    },
    {
     "name": "stderr",
     "output_type": "stream",
     "text": [
      " 67%|██████▋   | 1336/2000 [02:51<01:12,  9.15it/s]"
     ]
    },
    {
     "name": "stdout",
     "output_type": "stream",
     "text": [
      "Training_loss 0.00001,   Relative Error 0.00088\n",
      "Training_loss 0.00001,   Relative Error 0.00087\n",
      "Training_loss 0.00001,   Relative Error 0.00087\n"
     ]
    },
    {
     "name": "stderr",
     "output_type": "stream",
     "text": [
      " 67%|██████▋   | 1339/2000 [02:51<01:10,  9.35it/s]"
     ]
    },
    {
     "name": "stdout",
     "output_type": "stream",
     "text": [
      "Training_loss 0.00001,   Relative Error 0.00087\n",
      "Training_loss 0.00001,   Relative Error 0.00087\n"
     ]
    },
    {
     "name": "stderr",
     "output_type": "stream",
     "text": [
      " 67%|██████▋   | 1341/2000 [02:51<01:14,  8.82it/s]"
     ]
    },
    {
     "name": "stdout",
     "output_type": "stream",
     "text": [
      "Training_loss 0.00001,   Relative Error 0.00088\n",
      "Training_loss 0.00001,   Relative Error 0.00087\n"
     ]
    },
    {
     "name": "stderr",
     "output_type": "stream",
     "text": [
      " 67%|██████▋   | 1343/2000 [02:52<01:14,  8.78it/s]"
     ]
    },
    {
     "name": "stdout",
     "output_type": "stream",
     "text": [
      "Training_loss 0.00001,   Relative Error 0.00087\n",
      "Training_loss 0.00001,   Relative Error 0.00086\n"
     ]
    },
    {
     "name": "stderr",
     "output_type": "stream",
     "text": [
      " 67%|██████▋   | 1345/2000 [02:52<01:19,  8.22it/s]"
     ]
    },
    {
     "name": "stdout",
     "output_type": "stream",
     "text": [
      "Training_loss 0.00001,   Relative Error 0.00087\n",
      "Training_loss 0.00001,   Relative Error 0.00088\n"
     ]
    },
    {
     "name": "stderr",
     "output_type": "stream",
     "text": [
      " 67%|██████▋   | 1347/2000 [02:52<01:21,  7.97it/s]"
     ]
    },
    {
     "name": "stdout",
     "output_type": "stream",
     "text": [
      "Training_loss 0.00001,   Relative Error 0.00089\n",
      "Training_loss 0.00001,   Relative Error 0.00088\n"
     ]
    },
    {
     "name": "stderr",
     "output_type": "stream",
     "text": [
      " 67%|██████▋   | 1349/2000 [02:52<01:15,  8.63it/s]"
     ]
    },
    {
     "name": "stdout",
     "output_type": "stream",
     "text": [
      "Training_loss 0.00001,   Relative Error 0.00088\n",
      "Training_loss 0.00001,   Relative Error 0.00089\n"
     ]
    },
    {
     "name": "stderr",
     "output_type": "stream",
     "text": [
      " 68%|██████▊   | 1351/2000 [02:53<01:15,  8.64it/s]"
     ]
    },
    {
     "name": "stdout",
     "output_type": "stream",
     "text": [
      "Training_loss 0.00001,   Relative Error 0.00089\n",
      "Training_loss 0.00001,   Relative Error 0.00088\n"
     ]
    },
    {
     "name": "stderr",
     "output_type": "stream",
     "text": [
      " 68%|██████▊   | 1354/2000 [02:53<01:07,  9.50it/s]"
     ]
    },
    {
     "name": "stdout",
     "output_type": "stream",
     "text": [
      "Training_loss 0.00001,   Relative Error 0.00089\n",
      "Training_loss 0.00001,   Relative Error 0.00087\n",
      "Training_loss 0.00001,   Relative Error 0.00088\n"
     ]
    },
    {
     "name": "stderr",
     "output_type": "stream",
     "text": [
      "\r",
      " 68%|██████▊   | 1356/2000 [02:53<01:08,  9.38it/s]"
     ]
    },
    {
     "name": "stdout",
     "output_type": "stream",
     "text": [
      "Training_loss 0.00001,   Relative Error 0.00088\n",
      "Training_loss 0.00001,   Relative Error 0.00088\n"
     ]
    },
    {
     "name": "stderr",
     "output_type": "stream",
     "text": [
      " 68%|██████▊   | 1359/2000 [02:53<01:07,  9.49it/s]"
     ]
    },
    {
     "name": "stdout",
     "output_type": "stream",
     "text": [
      "Training_loss 0.00001,   Relative Error 0.00088\n",
      "Training_loss 0.00001,   Relative Error 0.00088\n",
      "Training_loss 0.00001,   Relative Error 0.00088\n"
     ]
    },
    {
     "name": "stderr",
     "output_type": "stream",
     "text": [
      " 68%|██████▊   | 1362/2000 [02:54<01:04,  9.86it/s]"
     ]
    },
    {
     "name": "stdout",
     "output_type": "stream",
     "text": [
      "Training_loss 0.00001,   Relative Error 0.00088\n",
      "Training_loss 0.00001,   Relative Error 0.00088\n",
      "Training_loss 0.00001,   Relative Error 0.00088\n"
     ]
    },
    {
     "name": "stderr",
     "output_type": "stream",
     "text": [
      "\r",
      " 68%|██████▊   | 1364/2000 [02:54<01:01, 10.35it/s]"
     ]
    },
    {
     "name": "stdout",
     "output_type": "stream",
     "text": [
      "Training_loss 0.00001,   Relative Error 0.00088\n",
      "Training_loss 0.00001,   Relative Error 0.00087\n",
      "Training_loss 0.00001,   Relative Error 0.00088\n"
     ]
    },
    {
     "name": "stderr",
     "output_type": "stream",
     "text": [
      " 68%|██████▊   | 1368/2000 [02:54<01:02, 10.16it/s]"
     ]
    },
    {
     "name": "stdout",
     "output_type": "stream",
     "text": [
      "Training_loss 0.00001,   Relative Error 0.00087\n",
      "Training_loss 0.00001,   Relative Error 0.00087\n",
      "Training_loss 0.00001,   Relative Error 0.00087\n"
     ]
    },
    {
     "name": "stderr",
     "output_type": "stream",
     "text": [
      "\r",
      " 68%|██████▊   | 1370/2000 [02:55<01:08,  9.16it/s]"
     ]
    },
    {
     "name": "stdout",
     "output_type": "stream",
     "text": [
      "Training_loss 0.00001,   Relative Error 0.00088\n",
      "Training_loss 0.00001,   Relative Error 0.00088\n"
     ]
    },
    {
     "name": "stderr",
     "output_type": "stream",
     "text": [
      " 69%|██████▊   | 1373/2000 [02:55<01:03,  9.83it/s]"
     ]
    },
    {
     "name": "stdout",
     "output_type": "stream",
     "text": [
      "Training_loss 0.00001,   Relative Error 0.00087\n",
      "Training_loss 0.00001,   Relative Error 0.00087\n",
      "Training_loss 0.00001,   Relative Error 0.00087\n"
     ]
    },
    {
     "name": "stderr",
     "output_type": "stream",
     "text": [
      " 69%|██████▉   | 1376/2000 [02:55<01:03,  9.83it/s]"
     ]
    },
    {
     "name": "stdout",
     "output_type": "stream",
     "text": [
      "Training_loss 0.00001,   Relative Error 0.00087\n",
      "Training_loss 0.00001,   Relative Error 0.00087\n",
      "Training_loss 0.00001,   Relative Error 0.00086\n"
     ]
    },
    {
     "name": "stderr",
     "output_type": "stream",
     "text": [
      " 69%|██████▉   | 1379/2000 [02:55<01:00, 10.28it/s]"
     ]
    },
    {
     "name": "stdout",
     "output_type": "stream",
     "text": [
      "Training_loss 0.00001,   Relative Error 0.00086\n",
      "Training_loss 0.00001,   Relative Error 0.00086\n",
      "Training_loss 0.00001,   Relative Error 0.00086\n"
     ]
    },
    {
     "name": "stderr",
     "output_type": "stream",
     "text": [
      "\r",
      " 69%|██████▉   | 1381/2000 [02:56<01:02,  9.86it/s]"
     ]
    },
    {
     "name": "stdout",
     "output_type": "stream",
     "text": [
      "Training_loss 0.00001,   Relative Error 0.00086\n",
      "Training_loss 0.00001,   Relative Error 0.00087\n"
     ]
    },
    {
     "name": "stderr",
     "output_type": "stream",
     "text": [
      " 69%|██████▉   | 1384/2000 [02:56<01:00, 10.14it/s]"
     ]
    },
    {
     "name": "stdout",
     "output_type": "stream",
     "text": [
      "Training_loss 0.00001,   Relative Error 0.00087\n",
      "Training_loss 0.00001,   Relative Error 0.00087\n",
      "Training_loss 0.00001,   Relative Error 0.00087\n"
     ]
    },
    {
     "name": "stderr",
     "output_type": "stream",
     "text": [
      "\r",
      " 69%|██████▉   | 1386/2000 [02:56<00:58, 10.56it/s]"
     ]
    },
    {
     "name": "stdout",
     "output_type": "stream",
     "text": [
      "Training_loss 0.00001,   Relative Error 0.00087\n",
      "Training_loss 0.00001,   Relative Error 0.00086\n"
     ]
    },
    {
     "name": "stderr",
     "output_type": "stream",
     "text": [
      "\r",
      " 69%|██████▉   | 1388/2000 [02:56<01:00, 10.04it/s]"
     ]
    },
    {
     "name": "stdout",
     "output_type": "stream",
     "text": [
      "Training_loss 0.00001,   Relative Error 0.00086\n",
      "Training_loss 0.00001,   Relative Error 0.00086\n",
      "Training_loss 0.00001,   Relative Error 0.00086\n"
     ]
    },
    {
     "name": "stderr",
     "output_type": "stream",
     "text": [
      " 70%|██████▉   | 1392/2000 [02:57<00:59, 10.21it/s]"
     ]
    },
    {
     "name": "stdout",
     "output_type": "stream",
     "text": [
      "Training_loss 0.00001,   Relative Error 0.00087\n",
      "Training_loss 0.00001,   Relative Error 0.00088\n",
      "Training_loss 0.00001,   Relative Error 0.00088\n"
     ]
    },
    {
     "name": "stderr",
     "output_type": "stream",
     "text": [
      "\r",
      " 70%|██████▉   | 1394/2000 [02:57<00:58, 10.39it/s]"
     ]
    },
    {
     "name": "stdout",
     "output_type": "stream",
     "text": [
      "Training_loss 0.00001,   Relative Error 0.00088\n",
      "Training_loss 0.00001,   Relative Error 0.00088\n"
     ]
    },
    {
     "name": "stderr",
     "output_type": "stream",
     "text": [
      "\r",
      " 70%|██████▉   | 1396/2000 [02:57<01:01,  9.75it/s]"
     ]
    },
    {
     "name": "stdout",
     "output_type": "stream",
     "text": [
      "Training_loss 0.00001,   Relative Error 0.00089\n",
      "Training_loss 0.00001,   Relative Error 0.00088\n"
     ]
    },
    {
     "name": "stderr",
     "output_type": "stream",
     "text": [
      " 70%|██████▉   | 1398/2000 [02:57<01:02,  9.56it/s]"
     ]
    },
    {
     "name": "stdout",
     "output_type": "stream",
     "text": [
      "Training_loss 0.00001,   Relative Error 0.00088\n",
      "Training_loss 0.00001,   Relative Error 0.00088\n"
     ]
    },
    {
     "name": "stderr",
     "output_type": "stream",
     "text": [
      " 70%|███████   | 1401/2000 [02:58<00:59, 10.14it/s]"
     ]
    },
    {
     "name": "stdout",
     "output_type": "stream",
     "text": [
      "Training_loss 0.00001,   Relative Error 0.00088\n",
      "Training_loss 0.00001,   Relative Error 0.00087\n",
      "Training_loss 0.00001,   Relative Error 0.00088\n"
     ]
    },
    {
     "name": "stderr",
     "output_type": "stream",
     "text": [
      "\r",
      " 70%|███████   | 1403/2000 [02:58<00:57, 10.43it/s]"
     ]
    },
    {
     "name": "stdout",
     "output_type": "stream",
     "text": [
      "Training_loss 0.00001,   Relative Error 0.00089\n",
      "Training_loss 0.00001,   Relative Error 0.00089\n",
      "Training_loss 0.00001,   Relative Error 0.00090\n"
     ]
    },
    {
     "name": "stderr",
     "output_type": "stream",
     "text": [
      "\r",
      " 70%|███████   | 1405/2000 [02:58<00:56, 10.56it/s]"
     ]
    },
    {
     "name": "stdout",
     "output_type": "stream",
     "text": [
      "Training_loss 0.00001,   Relative Error 0.00090\n",
      "Training_loss 0.00001,   Relative Error 0.00090\n"
     ]
    },
    {
     "name": "stderr",
     "output_type": "stream",
     "text": [
      " 70%|███████   | 1409/2000 [02:58<00:56, 10.39it/s]"
     ]
    },
    {
     "name": "stdout",
     "output_type": "stream",
     "text": [
      "Training_loss 0.00001,   Relative Error 0.00090\n",
      "Training_loss 0.00001,   Relative Error 0.00090\n",
      "Training_loss 0.00001,   Relative Error 0.00091\n"
     ]
    },
    {
     "name": "stderr",
     "output_type": "stream",
     "text": [
      "\r",
      " 71%|███████   | 1411/2000 [02:59<00:54, 10.72it/s]"
     ]
    },
    {
     "name": "stdout",
     "output_type": "stream",
     "text": [
      "Training_loss 0.00001,   Relative Error 0.00091\n",
      "Training_loss 0.00001,   Relative Error 0.00091\n",
      "Training_loss 0.00001,   Relative Error 0.00091\n"
     ]
    },
    {
     "name": "stderr",
     "output_type": "stream",
     "text": [
      "\r",
      " 71%|███████   | 1413/2000 [02:59<00:54, 10.70it/s]"
     ]
    },
    {
     "name": "stdout",
     "output_type": "stream",
     "text": [
      "Training_loss 0.00001,   Relative Error 0.00090\n",
      "Training_loss 0.00001,   Relative Error 0.00091\n"
     ]
    },
    {
     "name": "stderr",
     "output_type": "stream",
     "text": [
      " 71%|███████   | 1417/2000 [02:59<00:54, 10.75it/s]"
     ]
    },
    {
     "name": "stdout",
     "output_type": "stream",
     "text": [
      "Training_loss 0.00001,   Relative Error 0.00091\n",
      "Training_loss 0.00001,   Relative Error 0.00091\n",
      "Training_loss 0.00001,   Relative Error 0.00091\n"
     ]
    },
    {
     "name": "stderr",
     "output_type": "stream",
     "text": [
      "\r",
      " 71%|███████   | 1419/2000 [02:59<00:55, 10.46it/s]"
     ]
    },
    {
     "name": "stdout",
     "output_type": "stream",
     "text": [
      "Training_loss 0.00001,   Relative Error 0.00092\n",
      "Training_loss 0.00001,   Relative Error 0.00092\n",
      "Training_loss 0.00001,   Relative Error 0.00092\n"
     ]
    },
    {
     "name": "stderr",
     "output_type": "stream",
     "text": [
      " 71%|███████   | 1423/2000 [03:00<00:55, 10.34it/s]"
     ]
    },
    {
     "name": "stdout",
     "output_type": "stream",
     "text": [
      "Training_loss 0.00001,   Relative Error 0.00090\n",
      "Training_loss 0.00001,   Relative Error 0.00091\n",
      "Training_loss 0.00001,   Relative Error 0.00091\n"
     ]
    },
    {
     "name": "stderr",
     "output_type": "stream",
     "text": [
      "\r",
      " 71%|███████▏  | 1425/2000 [03:00<00:53, 10.84it/s]"
     ]
    },
    {
     "name": "stdout",
     "output_type": "stream",
     "text": [
      "Training_loss 0.00001,   Relative Error 0.00091\n",
      "Training_loss 0.00001,   Relative Error 0.00091\n",
      "Training_loss 0.00001,   Relative Error 0.00090\n"
     ]
    },
    {
     "name": "stderr",
     "output_type": "stream",
     "text": [
      "\r",
      " 71%|███████▏  | 1427/2000 [03:00<00:55, 10.28it/s]"
     ]
    },
    {
     "name": "stdout",
     "output_type": "stream",
     "text": [
      "Training_loss 0.00001,   Relative Error 0.00091\n",
      "Training_loss 0.00001,   Relative Error 0.00089\n"
     ]
    },
    {
     "name": "stderr",
     "output_type": "stream",
     "text": [
      " 72%|███████▏  | 1430/2000 [03:01<00:59,  9.61it/s]"
     ]
    },
    {
     "name": "stdout",
     "output_type": "stream",
     "text": [
      "Training_loss 0.00001,   Relative Error 0.00089\n",
      "Training_loss 0.00001,   Relative Error 0.00088\n"
     ]
    },
    {
     "name": "stderr",
     "output_type": "stream",
     "text": [
      " 72%|███████▏  | 1433/2000 [03:01<00:56,  9.98it/s]"
     ]
    },
    {
     "name": "stdout",
     "output_type": "stream",
     "text": [
      "Training_loss 0.00001,   Relative Error 0.00088\n",
      "Training_loss 0.00001,   Relative Error 0.00088\n",
      "Training_loss 0.00001,   Relative Error 0.00089\n"
     ]
    },
    {
     "name": "stderr",
     "output_type": "stream",
     "text": [
      " 72%|███████▏  | 1436/2000 [03:01<00:54, 10.27it/s]"
     ]
    },
    {
     "name": "stdout",
     "output_type": "stream",
     "text": [
      "Training_loss 0.00001,   Relative Error 0.00088\n",
      "Training_loss 0.00001,   Relative Error 0.00088\n",
      "Training_loss 0.00001,   Relative Error 0.00088\n"
     ]
    },
    {
     "name": "stderr",
     "output_type": "stream",
     "text": [
      "\r",
      " 72%|███████▏  | 1438/2000 [03:01<00:54, 10.32it/s]"
     ]
    },
    {
     "name": "stdout",
     "output_type": "stream",
     "text": [
      "Training_loss 0.00001,   Relative Error 0.00088\n",
      "Training_loss 0.00001,   Relative Error 0.00087\n"
     ]
    },
    {
     "name": "stderr",
     "output_type": "stream",
     "text": [
      "\r",
      " 72%|███████▏  | 1440/2000 [03:02<00:56,  9.86it/s]"
     ]
    },
    {
     "name": "stdout",
     "output_type": "stream",
     "text": [
      "Training_loss 0.00001,   Relative Error 0.00088\n",
      "Training_loss 0.00001,   Relative Error 0.00089\n",
      "Training_loss 0.00001,   Relative Error 0.00090\n"
     ]
    },
    {
     "name": "stderr",
     "output_type": "stream",
     "text": [
      " 72%|███████▏  | 1444/2000 [03:02<00:55, 10.10it/s]"
     ]
    },
    {
     "name": "stdout",
     "output_type": "stream",
     "text": [
      "Training_loss 0.00001,   Relative Error 0.00089\n",
      "Training_loss 0.00001,   Relative Error 0.00089\n",
      "Training_loss 0.00001,   Relative Error 0.00089\n"
     ]
    },
    {
     "name": "stderr",
     "output_type": "stream",
     "text": [
      "\r",
      " 72%|███████▏  | 1446/2000 [03:02<00:51, 10.66it/s]"
     ]
    },
    {
     "name": "stdout",
     "output_type": "stream",
     "text": [
      "Training_loss 0.00001,   Relative Error 0.00089\n",
      "Training_loss 0.00001,   Relative Error 0.00090\n",
      "Training_loss 0.00001,   Relative Error 0.00089\n"
     ]
    },
    {
     "name": "stderr",
     "output_type": "stream",
     "text": [
      "\r",
      " 72%|███████▏  | 1448/2000 [03:02<00:53, 10.35it/s]"
     ]
    },
    {
     "name": "stdout",
     "output_type": "stream",
     "text": [
      "Training_loss 0.00001,   Relative Error 0.00089\n",
      "Training_loss 0.00001,   Relative Error 0.00090\n"
     ]
    },
    {
     "name": "stderr",
     "output_type": "stream",
     "text": [
      "\r",
      " 72%|███████▎  | 1450/2000 [03:03<00:54, 10.01it/s]"
     ]
    },
    {
     "name": "stdout",
     "output_type": "stream",
     "text": [
      "Training_loss 0.00001,   Relative Error 0.00090\n",
      "Training_loss 0.00001,   Relative Error 0.00090\n",
      "Training_loss 0.00001,   Relative Error 0.00090\n"
     ]
    },
    {
     "name": "stderr",
     "output_type": "stream",
     "text": [
      "\r",
      " 73%|███████▎  | 1452/2000 [03:03<00:53, 10.30it/s]"
     ]
    },
    {
     "name": "stdout",
     "output_type": "stream",
     "text": [
      "Training_loss 0.00001,   Relative Error 0.00090\n"
     ]
    },
    {
     "name": "stderr",
     "output_type": "stream",
     "text": [
      "\r",
      " 73%|███████▎  | 1454/2000 [03:03<00:55,  9.83it/s]"
     ]
    },
    {
     "name": "stdout",
     "output_type": "stream",
     "text": [
      "Training_loss 0.00001,   Relative Error 0.00089\n",
      "Training_loss 0.00001,   Relative Error 0.00090\n",
      "Training_loss 0.00001,   Relative Error 0.00090"
     ]
    },
    {
     "name": "stderr",
     "output_type": "stream",
     "text": [
      " 73%|███████▎  | 1458/2000 [03:03<00:54,  9.90it/s]"
     ]
    },
    {
     "name": "stdout",
     "output_type": "stream",
     "text": [
      "\n",
      "Training_loss 0.00001,   Relative Error 0.00091\n",
      "Training_loss 0.00001,   Relative Error 0.00091\n"
     ]
    },
    {
     "name": "stderr",
     "output_type": "stream",
     "text": [
      " 73%|███████▎  | 1460/2000 [03:04<00:57,  9.45it/s]"
     ]
    },
    {
     "name": "stdout",
     "output_type": "stream",
     "text": [
      "Training_loss 0.00001,   Relative Error 0.00092\n",
      "Training_loss 0.00001,   Relative Error 0.00092\n"
     ]
    },
    {
     "name": "stderr",
     "output_type": "stream",
     "text": [
      " 73%|███████▎  | 1462/2000 [03:04<00:58,  9.25it/s]"
     ]
    },
    {
     "name": "stdout",
     "output_type": "stream",
     "text": [
      "Training_loss 0.00001,   Relative Error 0.00091\n",
      "Training_loss 0.00001,   Relative Error 0.00092\n"
     ]
    },
    {
     "name": "stderr",
     "output_type": "stream",
     "text": [
      " 73%|███████▎  | 1465/2000 [03:04<00:58,  9.13it/s]"
     ]
    },
    {
     "name": "stdout",
     "output_type": "stream",
     "text": [
      "Training_loss 0.00001,   Relative Error 0.00091\n",
      "Training_loss 0.00001,   Relative Error 0.00091\n",
      "Training_loss 0.00001,   Relative Error 0.00090\n"
     ]
    },
    {
     "name": "stderr",
     "output_type": "stream",
     "text": [
      " 73%|███████▎  | 1467/2000 [03:04<00:59,  9.01it/s]"
     ]
    },
    {
     "name": "stdout",
     "output_type": "stream",
     "text": [
      "Training_loss 0.00001,   Relative Error 0.00090\n",
      "Training_loss 0.00001,   Relative Error 0.00090\n"
     ]
    },
    {
     "name": "stderr",
     "output_type": "stream",
     "text": [
      " 73%|███████▎  | 1469/2000 [03:05<00:59,  8.91it/s]"
     ]
    },
    {
     "name": "stdout",
     "output_type": "stream",
     "text": [
      "Training_loss 0.00001,   Relative Error 0.00090\n",
      "Training_loss 0.00001,   Relative Error 0.00090\n"
     ]
    },
    {
     "name": "stderr",
     "output_type": "stream",
     "text": [
      " 74%|███████▎  | 1471/2000 [03:05<00:57,  9.14it/s]"
     ]
    },
    {
     "name": "stdout",
     "output_type": "stream",
     "text": [
      "Training_loss 0.00001,   Relative Error 0.00091\n",
      "Training_loss 0.00001,   Relative Error 0.00092\n"
     ]
    },
    {
     "name": "stderr",
     "output_type": "stream",
     "text": [
      " 74%|███████▎  | 1473/2000 [03:05<01:01,  8.64it/s]"
     ]
    },
    {
     "name": "stdout",
     "output_type": "stream",
     "text": [
      "Training_loss 0.00001,   Relative Error 0.00091\n",
      "Training_loss 0.00001,   Relative Error 0.00091\n"
     ]
    },
    {
     "name": "stderr",
     "output_type": "stream",
     "text": [
      " 74%|███████▍  | 1476/2000 [03:05<00:56,  9.27it/s]"
     ]
    },
    {
     "name": "stdout",
     "output_type": "stream",
     "text": [
      "Training_loss 0.00001,   Relative Error 0.00091\n",
      "Training_loss 0.00001,   Relative Error 0.00090\n",
      "Training_loss 0.00001,   Relative Error 0.00090\n"
     ]
    },
    {
     "name": "stderr",
     "output_type": "stream",
     "text": [
      " 74%|███████▍  | 1478/2000 [03:06<00:58,  8.86it/s]"
     ]
    },
    {
     "name": "stdout",
     "output_type": "stream",
     "text": [
      "Training_loss 0.00001,   Relative Error 0.00089\n",
      "Training_loss 0.00001,   Relative Error 0.00089\n"
     ]
    },
    {
     "name": "stderr",
     "output_type": "stream",
     "text": [
      " 74%|███████▍  | 1480/2000 [03:06<01:02,  8.39it/s]"
     ]
    },
    {
     "name": "stdout",
     "output_type": "stream",
     "text": [
      "Training_loss 0.00001,   Relative Error 0.00089\n",
      "Training_loss 0.00001,   Relative Error 0.00089\n"
     ]
    },
    {
     "name": "stderr",
     "output_type": "stream",
     "text": [
      " 74%|███████▍  | 1482/2000 [03:06<01:05,  7.88it/s]"
     ]
    },
    {
     "name": "stdout",
     "output_type": "stream",
     "text": [
      "Training_loss 0.00001,   Relative Error 0.00089\n",
      "Training_loss 0.00001,   Relative Error 0.00089\n"
     ]
    },
    {
     "name": "stderr",
     "output_type": "stream",
     "text": [
      " 74%|███████▍  | 1484/2000 [03:06<01:06,  7.77it/s]"
     ]
    },
    {
     "name": "stdout",
     "output_type": "stream",
     "text": [
      "Training_loss 0.00001,   Relative Error 0.00090\n",
      "Training_loss 0.00001,   Relative Error 0.00089\n"
     ]
    },
    {
     "name": "stderr",
     "output_type": "stream",
     "text": [
      "\r",
      " 74%|███████▍  | 1486/2000 [03:07<00:59,  8.60it/s]"
     ]
    },
    {
     "name": "stdout",
     "output_type": "stream",
     "text": [
      "Training_loss 0.00001,   Relative Error 0.00089\n",
      "Training_loss 0.00001,   Relative Error 0.00089\n"
     ]
    },
    {
     "name": "stderr",
     "output_type": "stream",
     "text": [
      " 74%|███████▍  | 1488/2000 [03:07<00:59,  8.61it/s]"
     ]
    },
    {
     "name": "stdout",
     "output_type": "stream",
     "text": [
      "Training_loss 0.00001,   Relative Error 0.00089\n",
      "Training_loss 0.00001,   Relative Error 0.00090\n"
     ]
    },
    {
     "name": "stderr",
     "output_type": "stream",
     "text": [
      "\r",
      " 74%|███████▍  | 1489/2000 [03:07<00:58,  8.70it/s]"
     ]
    },
    {
     "name": "stdout",
     "output_type": "stream",
     "text": [
      "Training_loss 0.00001,   Relative Error 0.00091\n",
      "Training_loss 0.00001,   Relative Error 0.00092\n"
     ]
    },
    {
     "name": "stderr",
     "output_type": "stream",
     "text": [
      " 75%|███████▍  | 1492/2000 [03:07<00:58,  8.65it/s]"
     ]
    },
    {
     "name": "stdout",
     "output_type": "stream",
     "text": [
      "Training_loss 0.00001,   Relative Error 0.00091\n",
      "Training_loss 0.00001,   Relative Error 0.00091\n"
     ]
    },
    {
     "name": "stderr",
     "output_type": "stream",
     "text": [
      " 75%|███████▍  | 1494/2000 [03:07<00:59,  8.46it/s]"
     ]
    },
    {
     "name": "stdout",
     "output_type": "stream",
     "text": [
      "Training_loss 0.00001,   Relative Error 0.00091\n",
      "Training_loss 0.00001,   Relative Error 0.00091\n"
     ]
    },
    {
     "name": "stderr",
     "output_type": "stream",
     "text": [
      " 75%|███████▍  | 1496/2000 [03:08<01:03,  7.99it/s]"
     ]
    },
    {
     "name": "stdout",
     "output_type": "stream",
     "text": [
      "Training_loss 0.00001,   Relative Error 0.00091\n",
      "Training_loss 0.00001,   Relative Error 0.00091\n"
     ]
    },
    {
     "name": "stderr",
     "output_type": "stream",
     "text": [
      " 75%|███████▍  | 1498/2000 [03:08<01:07,  7.43it/s]"
     ]
    },
    {
     "name": "stdout",
     "output_type": "stream",
     "text": [
      "Training_loss 0.00001,   Relative Error 0.00091\n",
      "Training_loss 0.00001,   Relative Error 0.00092\n"
     ]
    },
    {
     "name": "stderr",
     "output_type": "stream",
     "text": [
      " 75%|███████▌  | 1501/2000 [03:08<00:58,  8.52it/s]"
     ]
    },
    {
     "name": "stdout",
     "output_type": "stream",
     "text": [
      "Training_loss 0.00001,   Relative Error 0.00092\n",
      "Training_loss 0.00001,   Relative Error 0.00091\n",
      "Training_loss 0.00001,   Relative Error 0.00091\n"
     ]
    },
    {
     "name": "stderr",
     "output_type": "stream",
     "text": [
      " 75%|███████▌  | 1503/2000 [03:09<00:59,  8.29it/s]"
     ]
    },
    {
     "name": "stdout",
     "output_type": "stream",
     "text": [
      "Training_loss 0.00001,   Relative Error 0.00091\n",
      "Training_loss 0.00001,   Relative Error 0.00091\n"
     ]
    },
    {
     "name": "stderr",
     "output_type": "stream",
     "text": [
      " 75%|███████▌  | 1505/2000 [03:09<00:56,  8.78it/s]"
     ]
    },
    {
     "name": "stdout",
     "output_type": "stream",
     "text": [
      "Training_loss 0.00001,   Relative Error 0.00092\n",
      "Training_loss 0.00001,   Relative Error 0.00091\n"
     ]
    },
    {
     "name": "stderr",
     "output_type": "stream",
     "text": [
      " 75%|███████▌  | 1508/2000 [03:09<00:54,  9.04it/s]"
     ]
    },
    {
     "name": "stdout",
     "output_type": "stream",
     "text": [
      "Training_loss 0.00001,   Relative Error 0.00091\n",
      "Training_loss 0.00001,   Relative Error 0.00091\n",
      "Training_loss 0.00001,   Relative Error 0.00091\n"
     ]
    },
    {
     "name": "stderr",
     "output_type": "stream",
     "text": [
      " 76%|███████▌  | 1511/2000 [03:09<00:51,  9.48it/s]"
     ]
    },
    {
     "name": "stdout",
     "output_type": "stream",
     "text": [
      "Training_loss 0.00001,   Relative Error 0.00091\n",
      "Training_loss 0.00001,   Relative Error 0.00092\n",
      "Training_loss 0.00001,   Relative Error 0.00092\n"
     ]
    },
    {
     "name": "stderr",
     "output_type": "stream",
     "text": [
      " 76%|███████▌  | 1514/2000 [03:10<00:50,  9.54it/s]"
     ]
    },
    {
     "name": "stdout",
     "output_type": "stream",
     "text": [
      "Training_loss 0.00001,   Relative Error 0.00092\n",
      "Training_loss 0.00001,   Relative Error 0.00091\n",
      "Training_loss 0.00001,   Relative Error 0.00092\n"
     ]
    },
    {
     "name": "stderr",
     "output_type": "stream",
     "text": [
      "\r",
      " 76%|███████▌  | 1516/2000 [03:10<00:50,  9.56it/s]"
     ]
    },
    {
     "name": "stdout",
     "output_type": "stream",
     "text": [
      "Training_loss 0.00001,   Relative Error 0.00093\n",
      "Training_loss 0.00001,   Relative Error 0.00093\n"
     ]
    },
    {
     "name": "stderr",
     "output_type": "stream",
     "text": [
      " 76%|███████▌  | 1519/2000 [03:10<00:48,  9.96it/s]"
     ]
    },
    {
     "name": "stdout",
     "output_type": "stream",
     "text": [
      "Training_loss 0.00001,   Relative Error 0.00093\n",
      "Training_loss 0.00001,   Relative Error 0.00093\n",
      "Training_loss 0.00001,   Relative Error 0.00093\n"
     ]
    },
    {
     "name": "stderr",
     "output_type": "stream",
     "text": [
      "\r",
      " 76%|███████▌  | 1521/2000 [03:10<00:47, 10.04it/s]"
     ]
    },
    {
     "name": "stdout",
     "output_type": "stream",
     "text": [
      "Training_loss 0.00001,   Relative Error 0.00093\n",
      "Training_loss 0.00001,   Relative Error 0.00092\n",
      "Training_loss 0.00001,   Relative Error 0.00092\n"
     ]
    },
    {
     "name": "stderr",
     "output_type": "stream",
     "text": [
      "\r",
      " 76%|███████▌  | 1523/2000 [03:11<00:47, 10.02it/s]"
     ]
    },
    {
     "name": "stdout",
     "output_type": "stream",
     "text": [
      "Training_loss 0.00001,   Relative Error 0.00092\n",
      "Training_loss 0.00001,   Relative Error 0.00091\n"
     ]
    },
    {
     "name": "stderr",
     "output_type": "stream",
     "text": [
      " 76%|███████▋  | 1526/2000 [03:11<00:51,  9.18it/s]"
     ]
    },
    {
     "name": "stdout",
     "output_type": "stream",
     "text": [
      "Training_loss 0.00001,   Relative Error 0.00091\n",
      "Training_loss 0.00001,   Relative Error 0.00092\n"
     ]
    },
    {
     "name": "stderr",
     "output_type": "stream",
     "text": [
      "\r",
      " 76%|███████▋  | 1528/2000 [03:11<00:50,  9.40it/s]"
     ]
    },
    {
     "name": "stdout",
     "output_type": "stream",
     "text": [
      "Training_loss 0.00001,   Relative Error 0.00092\n",
      "Training_loss 0.00001,   Relative Error 0.00093\n"
     ]
    },
    {
     "name": "stderr",
     "output_type": "stream",
     "text": [
      "\r",
      " 76%|███████▋  | 1530/2000 [03:11<00:49,  9.42it/s]"
     ]
    },
    {
     "name": "stdout",
     "output_type": "stream",
     "text": [
      "Training_loss 0.00001,   Relative Error 0.00093\n",
      "Training_loss 0.00001,   Relative Error 0.00093\n"
     ]
    },
    {
     "name": "stderr",
     "output_type": "stream",
     "text": [
      "\r",
      " 77%|███████▋  | 1531/2000 [03:12<00:52,  8.95it/s]"
     ]
    },
    {
     "name": "stdout",
     "output_type": "stream",
     "text": [
      "Training_loss 0.00001,   Relative Error 0.00093\n",
      "Training_loss 0.00001,   Relative Error 0.00094\n"
     ]
    },
    {
     "name": "stderr",
     "output_type": "stream",
     "text": [
      " 77%|███████▋  | 1534/2000 [03:12<00:51,  9.13it/s]"
     ]
    },
    {
     "name": "stdout",
     "output_type": "stream",
     "text": [
      "Training_loss 0.00001,   Relative Error 0.00093\n",
      "Training_loss 0.00001,   Relative Error 0.00093\n"
     ]
    },
    {
     "name": "stderr",
     "output_type": "stream",
     "text": [
      " 77%|███████▋  | 1536/2000 [03:12<00:51,  9.02it/s]"
     ]
    },
    {
     "name": "stdout",
     "output_type": "stream",
     "text": [
      "Training_loss 0.00001,   Relative Error 0.00093\n",
      "Training_loss 0.00001,   Relative Error 0.00093\n",
      "Training_loss 0.00001,   Relative Error 0.00093\n"
     ]
    },
    {
     "name": "stderr",
     "output_type": "stream",
     "text": [
      " 77%|███████▋  | 1539/2000 [03:12<00:47,  9.81it/s]"
     ]
    },
    {
     "name": "stdout",
     "output_type": "stream",
     "text": [
      "Training_loss 0.00001,   Relative Error 0.00092\n",
      "Training_loss 0.00001,   Relative Error 0.00092\n"
     ]
    },
    {
     "name": "stderr",
     "output_type": "stream",
     "text": [
      " 77%|███████▋  | 1541/2000 [03:13<00:47,  9.63it/s]"
     ]
    },
    {
     "name": "stdout",
     "output_type": "stream",
     "text": [
      "Training_loss 0.00001,   Relative Error 0.00093\n",
      "Training_loss 0.00001,   Relative Error 0.00092\n"
     ]
    },
    {
     "name": "stderr",
     "output_type": "stream",
     "text": [
      " 77%|███████▋  | 1543/2000 [03:13<00:49,  9.29it/s]"
     ]
    },
    {
     "name": "stdout",
     "output_type": "stream",
     "text": [
      "Training_loss 0.00001,   Relative Error 0.00092\n",
      "Training_loss 0.00001,   Relative Error 0.00093\n",
      "Training_loss 0.00001,   Relative Error 0.00093\n"
     ]
    },
    {
     "name": "stderr",
     "output_type": "stream",
     "text": [
      " 77%|███████▋  | 1546/2000 [03:13<00:50,  8.97it/s]"
     ]
    },
    {
     "name": "stdout",
     "output_type": "stream",
     "text": [
      "Training_loss 0.00001,   Relative Error 0.00093\n",
      "Training_loss 0.00001,   Relative Error 0.00094\n"
     ]
    },
    {
     "name": "stderr",
     "output_type": "stream",
     "text": [
      "\r",
      " 77%|███████▋  | 1548/2000 [03:13<00:51,  8.82it/s]"
     ]
    },
    {
     "name": "stdout",
     "output_type": "stream",
     "text": [
      "Training_loss 0.00001,   Relative Error 0.00093\n",
      "Training_loss 0.00001,   Relative Error 0.00093\n"
     ]
    },
    {
     "name": "stderr",
     "output_type": "stream",
     "text": [
      "\r",
      " 77%|███████▋  | 1549/2000 [03:14<00:50,  9.00it/s]"
     ]
    },
    {
     "name": "stdout",
     "output_type": "stream",
     "text": [
      "Training_loss 0.00001,   Relative Error 0.00092\n",
      "Training_loss 0.00001,   Relative Error 0.00092\n"
     ]
    },
    {
     "name": "stderr",
     "output_type": "stream",
     "text": [
      " 78%|███████▊  | 1552/2000 [03:14<00:49,  9.07it/s]"
     ]
    },
    {
     "name": "stdout",
     "output_type": "stream",
     "text": [
      "Training_loss 0.00001,   Relative Error 0.00093\n",
      "Training_loss 0.00001,   Relative Error 0.00093\n"
     ]
    },
    {
     "name": "stderr",
     "output_type": "stream",
     "text": [
      " 78%|███████▊  | 1554/2000 [03:14<00:52,  8.56it/s]"
     ]
    },
    {
     "name": "stdout",
     "output_type": "stream",
     "text": [
      "Training_loss 0.00001,   Relative Error 0.00091\n",
      "Training_loss 0.00001,   Relative Error 0.00091\n"
     ]
    },
    {
     "name": "stderr",
     "output_type": "stream",
     "text": [
      " 78%|███████▊  | 1556/2000 [03:14<00:53,  8.29it/s]"
     ]
    },
    {
     "name": "stdout",
     "output_type": "stream",
     "text": [
      "Training_loss 0.00001,   Relative Error 0.00092\n",
      "Training_loss 0.00001,   Relative Error 0.00091\n"
     ]
    },
    {
     "name": "stderr",
     "output_type": "stream",
     "text": [
      " 78%|███████▊  | 1558/2000 [03:15<00:57,  7.68it/s]"
     ]
    },
    {
     "name": "stdout",
     "output_type": "stream",
     "text": [
      "Training_loss 0.00001,   Relative Error 0.00091\n",
      "Training_loss 0.00001,   Relative Error 0.00092\n"
     ]
    },
    {
     "name": "stderr",
     "output_type": "stream",
     "text": [
      "\r",
      " 78%|███████▊  | 1559/2000 [03:15<00:58,  7.60it/s]"
     ]
    },
    {
     "name": "stdout",
     "output_type": "stream",
     "text": [
      "Training_loss 0.00001,   Relative Error 0.00091\n",
      "Training_loss 0.00001,   Relative Error 0.00092\n"
     ]
    },
    {
     "name": "stderr",
     "output_type": "stream",
     "text": [
      " 78%|███████▊  | 1562/2000 [03:15<01:04,  6.75it/s]"
     ]
    },
    {
     "name": "stdout",
     "output_type": "stream",
     "text": [
      "Training_loss 0.00001,   Relative Error 0.00092\n",
      "Training_loss 0.00001,   Relative Error 0.00092\n"
     ]
    },
    {
     "name": "stderr",
     "output_type": "stream",
     "text": [
      " 78%|███████▊  | 1564/2000 [03:16<01:03,  6.82it/s]"
     ]
    },
    {
     "name": "stdout",
     "output_type": "stream",
     "text": [
      "Training_loss 0.00001,   Relative Error 0.00092\n",
      "Training_loss 0.00001,   Relative Error 0.00092\n"
     ]
    },
    {
     "name": "stderr",
     "output_type": "stream",
     "text": [
      " 78%|███████▊  | 1566/2000 [03:16<00:57,  7.55it/s]"
     ]
    },
    {
     "name": "stdout",
     "output_type": "stream",
     "text": [
      "Training_loss 0.00001,   Relative Error 0.00091\n",
      "Training_loss 0.00001,   Relative Error 0.00091\n"
     ]
    },
    {
     "name": "stderr",
     "output_type": "stream",
     "text": [
      "\r",
      " 78%|███████▊  | 1567/2000 [03:16<00:59,  7.29it/s]"
     ]
    },
    {
     "name": "stdout",
     "output_type": "stream",
     "text": [
      "Training_loss 0.00001,   Relative Error 0.00090\n"
     ]
    },
    {
     "name": "stderr",
     "output_type": "stream",
     "text": [
      " 78%|███████▊  | 1569/2000 [03:16<01:11,  6.02it/s]"
     ]
    },
    {
     "name": "stdout",
     "output_type": "stream",
     "text": [
      "Training_loss 0.00001,   Relative Error 0.00090\n",
      "Training_loss 0.00001,   Relative Error 0.00091\n"
     ]
    },
    {
     "name": "stderr",
     "output_type": "stream",
     "text": [
      " 79%|███████▊  | 1571/2000 [03:17<01:08,  6.24it/s]"
     ]
    },
    {
     "name": "stdout",
     "output_type": "stream",
     "text": [
      "Training_loss 0.00001,   Relative Error 0.00090\n",
      "Training_loss 0.00001,   Relative Error 0.00089\n"
     ]
    },
    {
     "name": "stderr",
     "output_type": "stream",
     "text": [
      " 79%|███████▊  | 1573/2000 [03:17<01:02,  6.80it/s]"
     ]
    },
    {
     "name": "stdout",
     "output_type": "stream",
     "text": [
      "Training_loss 0.00001,   Relative Error 0.00090\n",
      "Training_loss 0.00001,   Relative Error 0.00091\n"
     ]
    },
    {
     "name": "stderr",
     "output_type": "stream",
     "text": [
      " 79%|███████▉  | 1575/2000 [03:17<00:58,  7.24it/s]"
     ]
    },
    {
     "name": "stdout",
     "output_type": "stream",
     "text": [
      "Training_loss 0.00001,   Relative Error 0.00091\n",
      "Training_loss 0.00001,   Relative Error 0.00089\n"
     ]
    },
    {
     "name": "stderr",
     "output_type": "stream",
     "text": [
      "\r",
      " 79%|███████▉  | 1576/2000 [03:17<01:08,  6.21it/s]"
     ]
    },
    {
     "name": "stdout",
     "output_type": "stream",
     "text": [
      "Training_loss 0.00001,   Relative Error 0.00089\n"
     ]
    },
    {
     "name": "stderr",
     "output_type": "stream",
     "text": [
      " 79%|███████▉  | 1578/2000 [03:18<01:21,  5.21it/s]"
     ]
    },
    {
     "name": "stdout",
     "output_type": "stream",
     "text": [
      "Training_loss 0.00001,   Relative Error 0.00088\n",
      "Training_loss 0.00001,   Relative Error 0.00087\n"
     ]
    },
    {
     "name": "stderr",
     "output_type": "stream",
     "text": [
      " 79%|███████▉  | 1580/2000 [03:18<01:13,  5.72it/s]"
     ]
    },
    {
     "name": "stdout",
     "output_type": "stream",
     "text": [
      "Training_loss 0.00001,   Relative Error 0.00087\n",
      "Training_loss 0.00001,   Relative Error 0.00086\n"
     ]
    },
    {
     "name": "stderr",
     "output_type": "stream",
     "text": [
      " 79%|███████▉  | 1582/2000 [03:18<01:10,  5.94it/s]"
     ]
    },
    {
     "name": "stdout",
     "output_type": "stream",
     "text": [
      "Training_loss 0.00001,   Relative Error 0.00087\n",
      "Training_loss 0.00001,   Relative Error 0.00088\n"
     ]
    },
    {
     "name": "stderr",
     "output_type": "stream",
     "text": [
      " 79%|███████▉  | 1584/2000 [03:19<01:06,  6.27it/s]"
     ]
    },
    {
     "name": "stdout",
     "output_type": "stream",
     "text": [
      "Training_loss 0.00001,   Relative Error 0.00088\n",
      "Training_loss 0.00001,   Relative Error 0.00088\n"
     ]
    },
    {
     "name": "stderr",
     "output_type": "stream",
     "text": [
      " 79%|███████▉  | 1586/2000 [03:19<01:02,  6.68it/s]"
     ]
    },
    {
     "name": "stdout",
     "output_type": "stream",
     "text": [
      "Training_loss 0.00001,   Relative Error 0.00089\n",
      "Training_loss 0.00001,   Relative Error 0.00089\n"
     ]
    },
    {
     "name": "stderr",
     "output_type": "stream",
     "text": [
      " 79%|███████▉  | 1588/2000 [03:19<00:56,  7.33it/s]"
     ]
    },
    {
     "name": "stdout",
     "output_type": "stream",
     "text": [
      "Training_loss 0.00001,   Relative Error 0.00090\n",
      "Training_loss 0.00001,   Relative Error 0.00091\n"
     ]
    },
    {
     "name": "stderr",
     "output_type": "stream",
     "text": [
      " 80%|███████▉  | 1590/2000 [03:20<00:54,  7.57it/s]"
     ]
    },
    {
     "name": "stdout",
     "output_type": "stream",
     "text": [
      "Training_loss 0.00001,   Relative Error 0.00090\n",
      "Training_loss 0.00001,   Relative Error 0.00091\n"
     ]
    },
    {
     "name": "stderr",
     "output_type": "stream",
     "text": [
      " 80%|███████▉  | 1592/2000 [03:20<00:53,  7.61it/s]"
     ]
    },
    {
     "name": "stdout",
     "output_type": "stream",
     "text": [
      "Training_loss 0.00001,   Relative Error 0.00091\n",
      "Training_loss 0.00001,   Relative Error 0.00090\n"
     ]
    },
    {
     "name": "stderr",
     "output_type": "stream",
     "text": [
      " 80%|███████▉  | 1594/2000 [03:20<00:51,  7.82it/s]"
     ]
    },
    {
     "name": "stdout",
     "output_type": "stream",
     "text": [
      "Training_loss 0.00001,   Relative Error 0.00091\n",
      "Training_loss 0.00001,   Relative Error 0.00091\n"
     ]
    },
    {
     "name": "stderr",
     "output_type": "stream",
     "text": [
      " 80%|███████▉  | 1596/2000 [03:20<00:51,  7.78it/s]"
     ]
    },
    {
     "name": "stdout",
     "output_type": "stream",
     "text": [
      "Training_loss 0.00001,   Relative Error 0.00090\n",
      "Training_loss 0.00001,   Relative Error 0.00089\n"
     ]
    },
    {
     "name": "stderr",
     "output_type": "stream",
     "text": [
      " 80%|███████▉  | 1598/2000 [03:21<00:54,  7.32it/s]"
     ]
    },
    {
     "name": "stdout",
     "output_type": "stream",
     "text": [
      "Training_loss 0.00001,   Relative Error 0.00089\n",
      "Training_loss 0.00001,   Relative Error 0.00089\n"
     ]
    },
    {
     "name": "stderr",
     "output_type": "stream",
     "text": [
      " 80%|████████  | 1600/2000 [03:21<00:52,  7.67it/s]"
     ]
    },
    {
     "name": "stdout",
     "output_type": "stream",
     "text": [
      "Training_loss 0.00001,   Relative Error 0.00088\n",
      "Training_loss 0.00001,   Relative Error 0.00087\n"
     ]
    },
    {
     "name": "stderr",
     "output_type": "stream",
     "text": [
      " 80%|████████  | 1602/2000 [03:21<00:52,  7.58it/s]"
     ]
    },
    {
     "name": "stdout",
     "output_type": "stream",
     "text": [
      "Training_loss 0.00001,   Relative Error 0.00087\n",
      "Training_loss 0.00001,   Relative Error 0.00088\n"
     ]
    },
    {
     "name": "stderr",
     "output_type": "stream",
     "text": [
      "\r",
      " 80%|████████  | 1603/2000 [03:21<00:51,  7.73it/s]"
     ]
    },
    {
     "name": "stdout",
     "output_type": "stream",
     "text": [
      "Training_loss 0.00001,   Relative Error 0.00088\n",
      "Training_loss 0.00001,   Relative Error 0.00089\n"
     ]
    },
    {
     "name": "stderr",
     "output_type": "stream",
     "text": [
      " 80%|████████  | 1606/2000 [03:22<00:47,  8.35it/s]"
     ]
    },
    {
     "name": "stdout",
     "output_type": "stream",
     "text": [
      "Training_loss 0.00001,   Relative Error 0.00088\n",
      "Training_loss 0.00001,   Relative Error 0.00089\n"
     ]
    },
    {
     "name": "stderr",
     "output_type": "stream",
     "text": [
      " 80%|████████  | 1608/2000 [03:22<00:53,  7.29it/s]"
     ]
    },
    {
     "name": "stdout",
     "output_type": "stream",
     "text": [
      "Training_loss 0.00001,   Relative Error 0.00090\n",
      "Training_loss 0.00001,   Relative Error 0.00091\n"
     ]
    },
    {
     "name": "stderr",
     "output_type": "stream",
     "text": [
      " 80%|████████  | 1610/2000 [03:22<00:57,  6.75it/s]"
     ]
    },
    {
     "name": "stdout",
     "output_type": "stream",
     "text": [
      "Training_loss 0.00001,   Relative Error 0.00089\n",
      "Training_loss 0.00001,   Relative Error 0.00088\n"
     ]
    },
    {
     "name": "stderr",
     "output_type": "stream",
     "text": [
      "\r",
      " 81%|████████  | 1611/2000 [03:22<00:56,  6.94it/s]"
     ]
    },
    {
     "name": "stdout",
     "output_type": "stream",
     "text": [
      "Training_loss 0.00001,   Relative Error 0.00089\n"
     ]
    },
    {
     "name": "stderr",
     "output_type": "stream",
     "text": [
      " 81%|████████  | 1613/2000 [03:23<01:06,  5.82it/s]"
     ]
    },
    {
     "name": "stdout",
     "output_type": "stream",
     "text": [
      "Training_loss 0.00001,   Relative Error 0.00089\n",
      "Training_loss 0.00001,   Relative Error 0.00088\n"
     ]
    },
    {
     "name": "stderr",
     "output_type": "stream",
     "text": [
      " 81%|████████  | 1615/2000 [03:23<01:07,  5.72it/s]"
     ]
    },
    {
     "name": "stdout",
     "output_type": "stream",
     "text": [
      "Training_loss 0.00001,   Relative Error 0.00089\n",
      "Training_loss 0.00001,   Relative Error 0.00090\n"
     ]
    },
    {
     "name": "stderr",
     "output_type": "stream",
     "text": [
      " 81%|████████  | 1617/2000 [03:24<01:06,  5.79it/s]"
     ]
    },
    {
     "name": "stdout",
     "output_type": "stream",
     "text": [
      "Training_loss 0.00001,   Relative Error 0.00091\n",
      "Training_loss 0.00001,   Relative Error 0.00091\n"
     ]
    },
    {
     "name": "stderr",
     "output_type": "stream",
     "text": [
      "\r",
      " 81%|████████  | 1618/2000 [03:24<01:28,  4.31it/s]"
     ]
    },
    {
     "name": "stdout",
     "output_type": "stream",
     "text": [
      "Training_loss 0.00001,   Relative Error 0.00091\n"
     ]
    },
    {
     "name": "stderr",
     "output_type": "stream",
     "text": [
      "\r",
      " 81%|████████  | 1619/2000 [03:24<01:59,  3.19it/s]"
     ]
    },
    {
     "name": "stdout",
     "output_type": "stream",
     "text": [
      "Training_loss 0.00001,   Relative Error 0.00091\n"
     ]
    },
    {
     "name": "stderr",
     "output_type": "stream",
     "text": [
      "\r",
      " 81%|████████  | 1620/2000 [03:25<02:18,  2.74it/s]"
     ]
    },
    {
     "name": "stdout",
     "output_type": "stream",
     "text": [
      "Training_loss 0.00001,   Relative Error 0.00091\n"
     ]
    },
    {
     "name": "stderr",
     "output_type": "stream",
     "text": [
      "\r",
      " 81%|████████  | 1621/2000 [03:25<02:18,  2.74it/s]"
     ]
    },
    {
     "name": "stdout",
     "output_type": "stream",
     "text": [
      "Training_loss 0.00001,   Relative Error 0.00091\n"
     ]
    },
    {
     "name": "stderr",
     "output_type": "stream",
     "text": [
      " 81%|████████  | 1623/2000 [03:26<01:52,  3.36it/s]"
     ]
    },
    {
     "name": "stdout",
     "output_type": "stream",
     "text": [
      "Training_loss 0.00001,   Relative Error 0.00092\n",
      "Training_loss 0.00001,   Relative Error 0.00092\n"
     ]
    },
    {
     "name": "stderr",
     "output_type": "stream",
     "text": [
      " 81%|████████▏ | 1625/2000 [03:26<01:28,  4.22it/s]"
     ]
    },
    {
     "name": "stdout",
     "output_type": "stream",
     "text": [
      "Training_loss 0.00001,   Relative Error 0.00093\n",
      "Training_loss 0.00001,   Relative Error 0.00091\n"
     ]
    },
    {
     "name": "stderr",
     "output_type": "stream",
     "text": [
      " 81%|████████▏ | 1627/2000 [03:26<01:19,  4.69it/s]"
     ]
    },
    {
     "name": "stdout",
     "output_type": "stream",
     "text": [
      "Training_loss 0.00001,   Relative Error 0.00091\n",
      "Training_loss 0.00001,   Relative Error 0.00091\n"
     ]
    },
    {
     "name": "stderr",
     "output_type": "stream",
     "text": [
      " 81%|████████▏ | 1629/2000 [03:27<01:06,  5.55it/s]"
     ]
    },
    {
     "name": "stdout",
     "output_type": "stream",
     "text": [
      "Training_loss 0.00001,   Relative Error 0.00091\n",
      "Training_loss 0.00001,   Relative Error 0.00090\n"
     ]
    },
    {
     "name": "stderr",
     "output_type": "stream",
     "text": [
      " 82%|████████▏ | 1631/2000 [03:27<01:07,  5.49it/s]"
     ]
    },
    {
     "name": "stdout",
     "output_type": "stream",
     "text": [
      "Training_loss 0.00001,   Relative Error 0.00090\n",
      "Training_loss 0.00001,   Relative Error 0.00089\n"
     ]
    },
    {
     "name": "stderr",
     "output_type": "stream",
     "text": [
      " 82%|████████▏ | 1633/2000 [03:27<01:02,  5.84it/s]"
     ]
    },
    {
     "name": "stdout",
     "output_type": "stream",
     "text": [
      "Training_loss 0.00001,   Relative Error 0.00090\n",
      "Training_loss 0.00001,   Relative Error 0.00090\n"
     ]
    },
    {
     "name": "stderr",
     "output_type": "stream",
     "text": [
      " 82%|████████▏ | 1635/2000 [03:28<01:03,  5.71it/s]"
     ]
    },
    {
     "name": "stdout",
     "output_type": "stream",
     "text": [
      "Training_loss 0.00001,   Relative Error 0.00090\n",
      "Training_loss 0.00001,   Relative Error 0.00090\n"
     ]
    },
    {
     "name": "stderr",
     "output_type": "stream",
     "text": [
      " 82%|████████▏ | 1637/2000 [03:28<01:01,  5.92it/s]"
     ]
    },
    {
     "name": "stdout",
     "output_type": "stream",
     "text": [
      "Training_loss 0.00001,   Relative Error 0.00090\n",
      "Training_loss 0.00001,   Relative Error 0.00090\n"
     ]
    },
    {
     "name": "stderr",
     "output_type": "stream",
     "text": [
      " 82%|████████▏ | 1639/2000 [03:28<00:57,  6.23it/s]"
     ]
    },
    {
     "name": "stdout",
     "output_type": "stream",
     "text": [
      "Training_loss 0.00001,   Relative Error 0.00091\n",
      "Training_loss 0.00001,   Relative Error 0.00091\n"
     ]
    },
    {
     "name": "stderr",
     "output_type": "stream",
     "text": [
      " 82%|████████▏ | 1641/2000 [03:29<00:55,  6.48it/s]"
     ]
    },
    {
     "name": "stdout",
     "output_type": "stream",
     "text": [
      "Training_loss 0.00001,   Relative Error 0.00091\n",
      "Training_loss 0.00001,   Relative Error 0.00091\n"
     ]
    },
    {
     "name": "stderr",
     "output_type": "stream",
     "text": [
      " 82%|████████▏ | 1643/2000 [03:29<00:55,  6.47it/s]"
     ]
    },
    {
     "name": "stdout",
     "output_type": "stream",
     "text": [
      "Training_loss 0.00001,   Relative Error 0.00090\n",
      "Training_loss 0.00001,   Relative Error 0.00090\n"
     ]
    },
    {
     "name": "stderr",
     "output_type": "stream",
     "text": [
      " 82%|████████▏ | 1645/2000 [03:29<00:54,  6.49it/s]"
     ]
    },
    {
     "name": "stdout",
     "output_type": "stream",
     "text": [
      "Training_loss 0.00001,   Relative Error 0.00090\n",
      "Training_loss 0.00001,   Relative Error 0.00090\n"
     ]
    },
    {
     "name": "stderr",
     "output_type": "stream",
     "text": [
      " 82%|████████▏ | 1647/2000 [03:30<00:56,  6.23it/s]"
     ]
    },
    {
     "name": "stdout",
     "output_type": "stream",
     "text": [
      "Training_loss 0.00001,   Relative Error 0.00090\n",
      "Training_loss 0.00001,   Relative Error 0.00090\n"
     ]
    },
    {
     "name": "stderr",
     "output_type": "stream",
     "text": [
      "\r",
      " 82%|████████▏ | 1648/2000 [03:30<00:55,  6.33it/s]"
     ]
    },
    {
     "name": "stdout",
     "output_type": "stream",
     "text": [
      "Training_loss 0.00001,   Relative Error 0.00090\n"
     ]
    },
    {
     "name": "stderr",
     "output_type": "stream",
     "text": [
      " 82%|████████▎ | 1650/2000 [03:30<01:07,  5.18it/s]"
     ]
    },
    {
     "name": "stdout",
     "output_type": "stream",
     "text": [
      "Training_loss 0.00001,   Relative Error 0.00090\n",
      "Training_loss 0.00001,   Relative Error 0.00090\n"
     ]
    },
    {
     "name": "stderr",
     "output_type": "stream",
     "text": [
      " 83%|████████▎ | 1652/2000 [03:31<00:59,  5.87it/s]"
     ]
    },
    {
     "name": "stdout",
     "output_type": "stream",
     "text": [
      "Training_loss 0.00001,   Relative Error 0.00090\n",
      "Training_loss 0.00001,   Relative Error 0.00090\n"
     ]
    },
    {
     "name": "stderr",
     "output_type": "stream",
     "text": [
      " 83%|████████▎ | 1654/2000 [03:31<00:50,  6.80it/s]"
     ]
    },
    {
     "name": "stdout",
     "output_type": "stream",
     "text": [
      "Training_loss 0.00001,   Relative Error 0.00090\n",
      "Training_loss 0.00001,   Relative Error 0.00090\n"
     ]
    },
    {
     "name": "stderr",
     "output_type": "stream",
     "text": [
      " 83%|████████▎ | 1656/2000 [03:31<00:45,  7.64it/s]"
     ]
    },
    {
     "name": "stdout",
     "output_type": "stream",
     "text": [
      "Training_loss 0.00001,   Relative Error 0.00090\n",
      "Training_loss 0.00001,   Relative Error 0.00090\n"
     ]
    },
    {
     "name": "stderr",
     "output_type": "stream",
     "text": [
      " 83%|████████▎ | 1659/2000 [03:31<00:36,  9.32it/s]"
     ]
    },
    {
     "name": "stdout",
     "output_type": "stream",
     "text": [
      "Training_loss 0.00001,   Relative Error 0.00091\n",
      "Training_loss 0.00001,   Relative Error 0.00091\n",
      "Training_loss 0.00001,   Relative Error 0.00091\n"
     ]
    },
    {
     "name": "stderr",
     "output_type": "stream",
     "text": [
      "\r",
      " 83%|████████▎ | 1661/2000 [03:32<00:34,  9.84it/s]"
     ]
    },
    {
     "name": "stdout",
     "output_type": "stream",
     "text": [
      "Training_loss 0.00001,   Relative Error 0.00092\n",
      "Training_loss 0.00001,   Relative Error 0.00092\n",
      "Training_loss 0.00001,   Relative Error 0.00093\n"
     ]
    },
    {
     "name": "stderr",
     "output_type": "stream",
     "text": [
      " 83%|████████▎ | 1665/2000 [03:32<00:31, 10.80it/s]"
     ]
    },
    {
     "name": "stdout",
     "output_type": "stream",
     "text": [
      "Training_loss 0.00001,   Relative Error 0.00092\n",
      "Training_loss 0.00001,   Relative Error 0.00092\n",
      "Training_loss 0.00001,   Relative Error 0.00090\n"
     ]
    },
    {
     "name": "stderr",
     "output_type": "stream",
     "text": [
      "\r",
      " 83%|████████▎ | 1667/2000 [03:32<00:30, 11.02it/s]"
     ]
    },
    {
     "name": "stdout",
     "output_type": "stream",
     "text": [
      "Training_loss 0.00001,   Relative Error 0.00090\n",
      "Training_loss 0.00001,   Relative Error 0.00090\n",
      "Training_loss 0.00001,   Relative Error 0.00091\n"
     ]
    },
    {
     "name": "stderr",
     "output_type": "stream",
     "text": [
      " 84%|████████▎ | 1671/2000 [03:32<00:28, 11.40it/s]"
     ]
    },
    {
     "name": "stdout",
     "output_type": "stream",
     "text": [
      "Training_loss 0.00001,   Relative Error 0.00091\n",
      "Training_loss 0.00001,   Relative Error 0.00091\n",
      "Training_loss 0.00001,   Relative Error 0.00091\n"
     ]
    },
    {
     "name": "stderr",
     "output_type": "stream",
     "text": [
      "\r",
      " 84%|████████▎ | 1673/2000 [03:33<00:28, 11.47it/s]"
     ]
    },
    {
     "name": "stdout",
     "output_type": "stream",
     "text": [
      "Training_loss 0.00001,   Relative Error 0.00092\n",
      "Training_loss 0.00001,   Relative Error 0.00092\n",
      "Training_loss 0.00001,   Relative Error 0.00092\n"
     ]
    },
    {
     "name": "stderr",
     "output_type": "stream",
     "text": [
      " 84%|████████▍ | 1677/2000 [03:33<00:28, 11.33it/s]"
     ]
    },
    {
     "name": "stdout",
     "output_type": "stream",
     "text": [
      "Training_loss 0.00001,   Relative Error 0.00090\n",
      "Training_loss 0.00001,   Relative Error 0.00090\n",
      "Training_loss 0.00001,   Relative Error 0.00090\n"
     ]
    },
    {
     "name": "stderr",
     "output_type": "stream",
     "text": [
      "\r",
      " 84%|████████▍ | 1679/2000 [03:33<00:32,  9.78it/s]"
     ]
    },
    {
     "name": "stdout",
     "output_type": "stream",
     "text": [
      "Training_loss 0.00001,   Relative Error 0.00090\n",
      "Training_loss 0.00001,   Relative Error 0.00089\n"
     ]
    },
    {
     "name": "stderr",
     "output_type": "stream",
     "text": [
      "\r",
      " 84%|████████▍ | 1681/2000 [03:34<00:38,  8.37it/s]"
     ]
    },
    {
     "name": "stdout",
     "output_type": "stream",
     "text": [
      "Training_loss 0.00001,   Relative Error 0.00090\n",
      "Training_loss 0.00001,   Relative Error 0.00090\n"
     ]
    },
    {
     "name": "stderr",
     "output_type": "stream",
     "text": [
      " 84%|████████▍ | 1683/2000 [03:34<00:44,  7.16it/s]"
     ]
    },
    {
     "name": "stdout",
     "output_type": "stream",
     "text": [
      "Training_loss 0.00001,   Relative Error 0.00090\n",
      "Training_loss 0.00001,   Relative Error 0.00090\n"
     ]
    },
    {
     "name": "stderr",
     "output_type": "stream",
     "text": [
      " 84%|████████▍ | 1685/2000 [03:34<00:41,  7.59it/s]"
     ]
    },
    {
     "name": "stdout",
     "output_type": "stream",
     "text": [
      "Training_loss 0.00001,   Relative Error 0.00090\n",
      "Training_loss 0.00001,   Relative Error 0.00090\n"
     ]
    },
    {
     "name": "stderr",
     "output_type": "stream",
     "text": [
      " 84%|████████▍ | 1687/2000 [03:34<00:39,  7.94it/s]"
     ]
    },
    {
     "name": "stdout",
     "output_type": "stream",
     "text": [
      "Training_loss 0.00001,   Relative Error 0.00089\n",
      "Training_loss 0.00001,   Relative Error 0.00090\n"
     ]
    },
    {
     "name": "stderr",
     "output_type": "stream",
     "text": [
      " 84%|████████▍ | 1689/2000 [03:35<00:49,  6.31it/s]"
     ]
    },
    {
     "name": "stdout",
     "output_type": "stream",
     "text": [
      "Training_loss 0.00001,   Relative Error 0.00089\n",
      "Training_loss 0.00001,   Relative Error 0.00090\n"
     ]
    },
    {
     "name": "stderr",
     "output_type": "stream",
     "text": [
      " 85%|████████▍ | 1691/2000 [03:35<00:52,  5.91it/s]"
     ]
    },
    {
     "name": "stdout",
     "output_type": "stream",
     "text": [
      "Training_loss 0.00001,   Relative Error 0.00090\n",
      "Training_loss 0.00001,   Relative Error 0.00091\n"
     ]
    },
    {
     "name": "stderr",
     "output_type": "stream",
     "text": [
      " 85%|████████▍ | 1693/2000 [03:36<00:53,  5.72it/s]"
     ]
    },
    {
     "name": "stdout",
     "output_type": "stream",
     "text": [
      "Training_loss 0.00001,   Relative Error 0.00090\n",
      "Training_loss 0.00001,   Relative Error 0.00090\n"
     ]
    },
    {
     "name": "stderr",
     "output_type": "stream",
     "text": [
      " 85%|████████▍ | 1695/2000 [03:36<00:49,  6.22it/s]"
     ]
    },
    {
     "name": "stdout",
     "output_type": "stream",
     "text": [
      "Training_loss 0.00001,   Relative Error 0.00091\n",
      "Training_loss 0.00001,   Relative Error 0.00091\n"
     ]
    },
    {
     "name": "stderr",
     "output_type": "stream",
     "text": [
      "\r",
      " 85%|████████▍ | 1696/2000 [03:36<00:50,  6.04it/s]"
     ]
    },
    {
     "name": "stdout",
     "output_type": "stream",
     "text": [
      "Training_loss 0.00001,   Relative Error 0.00093\n",
      "Training_loss 0.00001,   Relative Error 0.00093\n"
     ]
    },
    {
     "name": "stderr",
     "output_type": "stream",
     "text": [
      "\r",
      " 85%|████████▍ | 1698/2000 [03:36<00:42,  7.09it/s]"
     ]
    },
    {
     "name": "stdout",
     "output_type": "stream",
     "text": [
      "Training_loss 0.00001,   Relative Error 0.00093\n"
     ]
    },
    {
     "name": "stderr",
     "output_type": "stream",
     "text": [
      " 85%|████████▌ | 1700/2000 [03:37<00:49,  6.01it/s]"
     ]
    },
    {
     "name": "stdout",
     "output_type": "stream",
     "text": [
      "Training_loss 0.00001,   Relative Error 0.00093\n",
      "Training_loss 0.00001,   Relative Error 0.00093\n"
     ]
    },
    {
     "name": "stderr",
     "output_type": "stream",
     "text": [
      "\r",
      " 85%|████████▌ | 1701/2000 [03:37<00:48,  6.20it/s]"
     ]
    },
    {
     "name": "stdout",
     "output_type": "stream",
     "text": [
      "Training_loss 0.00001,   Relative Error 0.00092\n"
     ]
    },
    {
     "name": "stderr",
     "output_type": "stream",
     "text": [
      " 85%|████████▌ | 1703/2000 [03:37<00:52,  5.69it/s]"
     ]
    },
    {
     "name": "stdout",
     "output_type": "stream",
     "text": [
      "Training_loss 0.00001,   Relative Error 0.00091\n",
      "Training_loss 0.00001,   Relative Error 0.00092\n"
     ]
    },
    {
     "name": "stderr",
     "output_type": "stream",
     "text": [
      "\r",
      " 85%|████████▌ | 1704/2000 [03:37<00:52,  5.59it/s]"
     ]
    },
    {
     "name": "stdout",
     "output_type": "stream",
     "text": [
      "Training_loss 0.00001,   Relative Error 0.00092\n"
     ]
    },
    {
     "name": "stderr",
     "output_type": "stream",
     "text": [
      " 85%|████████▌ | 1706/2000 [03:38<00:54,  5.44it/s]"
     ]
    },
    {
     "name": "stdout",
     "output_type": "stream",
     "text": [
      "Training_loss 0.00001,   Relative Error 0.00092\n",
      "Training_loss 0.00001,   Relative Error 0.00092\n"
     ]
    },
    {
     "name": "stderr",
     "output_type": "stream",
     "text": [
      "\r",
      " 85%|████████▌ | 1707/2000 [03:38<00:53,  5.50it/s]"
     ]
    },
    {
     "name": "stdout",
     "output_type": "stream",
     "text": [
      "Training_loss 0.00001,   Relative Error 0.00092\n"
     ]
    },
    {
     "name": "stderr",
     "output_type": "stream",
     "text": [
      " 85%|████████▌ | 1709/2000 [03:38<00:56,  5.13it/s]"
     ]
    },
    {
     "name": "stdout",
     "output_type": "stream",
     "text": [
      "Training_loss 0.00001,   Relative Error 0.00091\n",
      "Training_loss 0.00001,   Relative Error 0.00092\n"
     ]
    },
    {
     "name": "stderr",
     "output_type": "stream",
     "text": [
      " 86%|████████▌ | 1711/2000 [03:39<00:48,  5.91it/s]"
     ]
    },
    {
     "name": "stdout",
     "output_type": "stream",
     "text": [
      "Training_loss 0.00001,   Relative Error 0.00092\n",
      "Training_loss 0.00001,   Relative Error 0.00091\n"
     ]
    },
    {
     "name": "stderr",
     "output_type": "stream",
     "text": [
      " 86%|████████▌ | 1713/2000 [03:39<00:42,  6.77it/s]"
     ]
    },
    {
     "name": "stdout",
     "output_type": "stream",
     "text": [
      "Training_loss 0.00001,   Relative Error 0.00092\n",
      "Training_loss 0.00001,   Relative Error 0.00093\n"
     ]
    },
    {
     "name": "stderr",
     "output_type": "stream",
     "text": [
      " 86%|████████▌ | 1715/2000 [03:39<00:37,  7.56it/s]"
     ]
    },
    {
     "name": "stdout",
     "output_type": "stream",
     "text": [
      "Training_loss 0.00001,   Relative Error 0.00092\n",
      "Training_loss 0.00001,   Relative Error 0.00093\n"
     ]
    },
    {
     "name": "stderr",
     "output_type": "stream",
     "text": [
      " 86%|████████▌ | 1717/2000 [03:39<00:35,  8.05it/s]"
     ]
    },
    {
     "name": "stdout",
     "output_type": "stream",
     "text": [
      "Training_loss 0.00001,   Relative Error 0.00094\n",
      "Training_loss 0.00001,   Relative Error 0.00094\n"
     ]
    },
    {
     "name": "stderr",
     "output_type": "stream",
     "text": [
      " 86%|████████▌ | 1719/2000 [03:40<00:33,  8.51it/s]"
     ]
    },
    {
     "name": "stdout",
     "output_type": "stream",
     "text": [
      "Training_loss 0.00001,   Relative Error 0.00095\n",
      "Training_loss 0.00001,   Relative Error 0.00094\n"
     ]
    },
    {
     "name": "stderr",
     "output_type": "stream",
     "text": [
      " 86%|████████▌ | 1721/2000 [03:40<00:38,  7.25it/s]"
     ]
    },
    {
     "name": "stdout",
     "output_type": "stream",
     "text": [
      "Training_loss 0.00001,   Relative Error 0.00094\n",
      "Training_loss 0.00001,   Relative Error 0.00094\n"
     ]
    },
    {
     "name": "stderr",
     "output_type": "stream",
     "text": [
      " 86%|████████▌ | 1723/2000 [03:40<00:41,  6.61it/s]"
     ]
    },
    {
     "name": "stdout",
     "output_type": "stream",
     "text": [
      "Training_loss 0.00001,   Relative Error 0.00094\n",
      "Training_loss 0.00001,   Relative Error 0.00094\n"
     ]
    },
    {
     "name": "stderr",
     "output_type": "stream",
     "text": [
      " 86%|████████▋ | 1725/2000 [03:40<00:39,  6.90it/s]"
     ]
    },
    {
     "name": "stdout",
     "output_type": "stream",
     "text": [
      "Training_loss 0.00001,   Relative Error 0.00094\n",
      "Training_loss 0.00001,   Relative Error 0.00094\n"
     ]
    },
    {
     "name": "stderr",
     "output_type": "stream",
     "text": [
      " 86%|████████▋ | 1727/2000 [03:41<00:39,  6.88it/s]"
     ]
    },
    {
     "name": "stdout",
     "output_type": "stream",
     "text": [
      "Training_loss 0.00001,   Relative Error 0.00093\n",
      "Training_loss 0.00001,   Relative Error 0.00092\n"
     ]
    },
    {
     "name": "stderr",
     "output_type": "stream",
     "text": [
      " 86%|████████▋ | 1729/2000 [03:41<00:35,  7.68it/s]"
     ]
    },
    {
     "name": "stdout",
     "output_type": "stream",
     "text": [
      "Training_loss 0.00001,   Relative Error 0.00092\n",
      "Training_loss 0.00001,   Relative Error 0.00091\n"
     ]
    },
    {
     "name": "stderr",
     "output_type": "stream",
     "text": [
      " 87%|████████▋ | 1731/2000 [03:41<00:36,  7.46it/s]"
     ]
    },
    {
     "name": "stdout",
     "output_type": "stream",
     "text": [
      "Training_loss 0.00001,   Relative Error 0.00092\n",
      "Training_loss 0.00001,   Relative Error 0.00092\n"
     ]
    },
    {
     "name": "stderr",
     "output_type": "stream",
     "text": [
      "\r",
      " 87%|████████▋ | 1732/2000 [03:41<00:36,  7.29it/s]"
     ]
    },
    {
     "name": "stdout",
     "output_type": "stream",
     "text": [
      "Training_loss 0.00001,   Relative Error 0.00092\n",
      "Training_loss 0.00001,   Relative Error 0.00092\n"
     ]
    },
    {
     "name": "stderr",
     "output_type": "stream",
     "text": [
      "\r",
      " 87%|████████▋ | 1734/2000 [03:42<00:32,  8.26it/s]"
     ]
    },
    {
     "name": "stdout",
     "output_type": "stream",
     "text": [
      "Training_loss 0.00001,   Relative Error 0.00092\n",
      "Training_loss 0.00001,   Relative Error 0.00093\n"
     ]
    },
    {
     "name": "stderr",
     "output_type": "stream",
     "text": [
      " 87%|████████▋ | 1737/2000 [03:42<00:30,  8.56it/s]"
     ]
    },
    {
     "name": "stdout",
     "output_type": "stream",
     "text": [
      "Training_loss 0.00001,   Relative Error 0.00094\n",
      "Training_loss 0.00001,   Relative Error 0.00093\n"
     ]
    },
    {
     "name": "stderr",
     "output_type": "stream",
     "text": [
      " 87%|████████▋ | 1739/2000 [03:42<00:33,  7.88it/s]"
     ]
    },
    {
     "name": "stdout",
     "output_type": "stream",
     "text": [
      "Training_loss 0.00001,   Relative Error 0.00092\n",
      "Training_loss 0.00001,   Relative Error 0.00093\n"
     ]
    },
    {
     "name": "stderr",
     "output_type": "stream",
     "text": [
      " 87%|████████▋ | 1741/2000 [03:43<00:38,  6.74it/s]"
     ]
    },
    {
     "name": "stdout",
     "output_type": "stream",
     "text": [
      "Training_loss 0.00001,   Relative Error 0.00093\n",
      "Training_loss 0.00001,   Relative Error 0.00092\n"
     ]
    },
    {
     "name": "stderr",
     "output_type": "stream",
     "text": [
      " 87%|████████▋ | 1743/2000 [03:43<00:43,  5.91it/s]"
     ]
    },
    {
     "name": "stdout",
     "output_type": "stream",
     "text": [
      "Training_loss 0.00001,   Relative Error 0.00092\n",
      "Training_loss 0.00001,   Relative Error 0.00093\n"
     ]
    },
    {
     "name": "stderr",
     "output_type": "stream",
     "text": [
      " 87%|████████▋ | 1745/2000 [03:43<00:41,  6.18it/s]"
     ]
    },
    {
     "name": "stdout",
     "output_type": "stream",
     "text": [
      "Training_loss 0.00001,   Relative Error 0.00093\n",
      "Training_loss 0.00001,   Relative Error 0.00093\n"
     ]
    },
    {
     "name": "stderr",
     "output_type": "stream",
     "text": [
      "\r",
      " 87%|████████▋ | 1746/2000 [03:43<00:39,  6.48it/s]"
     ]
    },
    {
     "name": "stdout",
     "output_type": "stream",
     "text": [
      "Training_loss 0.00001,   Relative Error 0.00093\n",
      "Training_loss 0.00001,   Relative Error 0.00093\n"
     ]
    },
    {
     "name": "stderr",
     "output_type": "stream",
     "text": [
      " 87%|████████▋ | 1749/2000 [03:44<00:36,  6.90it/s]"
     ]
    },
    {
     "name": "stdout",
     "output_type": "stream",
     "text": [
      "Training_loss 0.00001,   Relative Error 0.00093\n",
      "Training_loss 0.00001,   Relative Error 0.00094\n"
     ]
    },
    {
     "name": "stderr",
     "output_type": "stream",
     "text": [
      " 88%|████████▊ | 1751/2000 [03:44<00:38,  6.41it/s]"
     ]
    },
    {
     "name": "stdout",
     "output_type": "stream",
     "text": [
      "Training_loss 0.00001,   Relative Error 0.00093\n",
      "Training_loss 0.00001,   Relative Error 0.00094\n"
     ]
    },
    {
     "name": "stderr",
     "output_type": "stream",
     "text": [
      " 88%|████████▊ | 1753/2000 [03:44<00:35,  6.98it/s]"
     ]
    },
    {
     "name": "stdout",
     "output_type": "stream",
     "text": [
      "Training_loss 0.00001,   Relative Error 0.00092\n",
      "Training_loss 0.00001,   Relative Error 0.00092\n"
     ]
    },
    {
     "name": "stderr",
     "output_type": "stream",
     "text": [
      " 88%|████████▊ | 1755/2000 [03:45<00:33,  7.28it/s]"
     ]
    },
    {
     "name": "stdout",
     "output_type": "stream",
     "text": [
      "Training_loss 0.00001,   Relative Error 0.00093\n",
      "Training_loss 0.00001,   Relative Error 0.00093\n"
     ]
    },
    {
     "name": "stderr",
     "output_type": "stream",
     "text": [
      " 88%|████████▊ | 1757/2000 [03:45<00:33,  7.27it/s]"
     ]
    },
    {
     "name": "stdout",
     "output_type": "stream",
     "text": [
      "Training_loss 0.00001,   Relative Error 0.00093\n",
      "Training_loss 0.00001,   Relative Error 0.00093\n"
     ]
    },
    {
     "name": "stderr",
     "output_type": "stream",
     "text": [
      " 88%|████████▊ | 1759/2000 [03:45<00:34,  6.99it/s]"
     ]
    },
    {
     "name": "stdout",
     "output_type": "stream",
     "text": [
      "Training_loss 0.00001,   Relative Error 0.00094\n",
      "Training_loss 0.00001,   Relative Error 0.00093\n"
     ]
    },
    {
     "name": "stderr",
     "output_type": "stream",
     "text": [
      " 88%|████████▊ | 1761/2000 [03:46<00:35,  6.68it/s]"
     ]
    },
    {
     "name": "stdout",
     "output_type": "stream",
     "text": [
      "Training_loss 0.00001,   Relative Error 0.00093\n",
      "Training_loss 0.00001,   Relative Error 0.00092\n"
     ]
    },
    {
     "name": "stderr",
     "output_type": "stream",
     "text": [
      " 88%|████████▊ | 1763/2000 [03:46<00:33,  7.11it/s]"
     ]
    },
    {
     "name": "stdout",
     "output_type": "stream",
     "text": [
      "Training_loss 0.00001,   Relative Error 0.00092\n",
      "Training_loss 0.00001,   Relative Error 0.00092\n"
     ]
    },
    {
     "name": "stderr",
     "output_type": "stream",
     "text": [
      "\r",
      " 88%|████████▊ | 1765/2000 [03:46<00:28,  8.32it/s]"
     ]
    },
    {
     "name": "stdout",
     "output_type": "stream",
     "text": [
      "Training_loss 0.00001,   Relative Error 0.00091\n",
      "Training_loss 0.00001,   Relative Error 0.00092\n",
      "Training_loss 0.00001,   Relative Error 0.00092\n"
     ]
    },
    {
     "name": "stderr",
     "output_type": "stream",
     "text": [
      " 88%|████████▊ | 1769/2000 [03:46<00:25,  9.23it/s]"
     ]
    },
    {
     "name": "stdout",
     "output_type": "stream",
     "text": [
      "Training_loss 0.00001,   Relative Error 0.00093\n",
      "Training_loss 0.00001,   Relative Error 0.00092\n",
      "Training_loss 0.00001,   Relative Error 0.00092\n"
     ]
    },
    {
     "name": "stderr",
     "output_type": "stream",
     "text": [
      "\r",
      " 89%|████████▊ | 1771/2000 [03:47<00:23,  9.81it/s]"
     ]
    },
    {
     "name": "stdout",
     "output_type": "stream",
     "text": [
      "Training_loss 0.00001,   Relative Error 0.00092\n",
      "Training_loss 0.00001,   Relative Error 0.00092\n",
      "Training_loss 0.00001,   Relative Error 0.00090\n"
     ]
    },
    {
     "name": "stderr",
     "output_type": "stream",
     "text": [
      " 89%|████████▊ | 1774/2000 [03:47<00:23,  9.51it/s]"
     ]
    },
    {
     "name": "stdout",
     "output_type": "stream",
     "text": [
      "Training_loss 0.00001,   Relative Error 0.00089\n",
      "Training_loss 0.00001,   Relative Error 0.00089\n",
      "Training_loss 0.00001,   Relative Error 0.00091\n"
     ]
    },
    {
     "name": "stderr",
     "output_type": "stream",
     "text": [
      " 89%|████████▉ | 1777/2000 [03:47<00:24,  9.20it/s]"
     ]
    },
    {
     "name": "stdout",
     "output_type": "stream",
     "text": [
      "Training_loss 0.00001,   Relative Error 0.00092\n",
      "Training_loss 0.00001,   Relative Error 0.00091\n"
     ]
    },
    {
     "name": "stderr",
     "output_type": "stream",
     "text": [
      " 89%|████████▉ | 1780/2000 [03:48<00:22,  9.62it/s]"
     ]
    },
    {
     "name": "stdout",
     "output_type": "stream",
     "text": [
      "Training_loss 0.00001,   Relative Error 0.00090\n",
      "Training_loss 0.00001,   Relative Error 0.00091\n",
      "Training_loss 0.00001,   Relative Error 0.00091\n"
     ]
    },
    {
     "name": "stderr",
     "output_type": "stream",
     "text": [
      "\r",
      " 89%|████████▉ | 1782/2000 [03:48<00:21, 10.14it/s]"
     ]
    },
    {
     "name": "stdout",
     "output_type": "stream",
     "text": [
      "Training_loss 0.00001,   Relative Error 0.00092\n",
      "Training_loss 0.00001,   Relative Error 0.00092\n",
      "Training_loss 0.00001,   Relative Error 0.00091\n"
     ]
    },
    {
     "name": "stderr",
     "output_type": "stream",
     "text": [
      " 89%|████████▉ | 1786/2000 [03:48<00:20, 10.45it/s]"
     ]
    },
    {
     "name": "stdout",
     "output_type": "stream",
     "text": [
      "Training_loss 0.00001,   Relative Error 0.00092\n",
      "Training_loss 0.00001,   Relative Error 0.00092\n",
      "Training_loss 0.00001,   Relative Error 0.00092\n"
     ]
    },
    {
     "name": "stderr",
     "output_type": "stream",
     "text": [
      "\r",
      " 89%|████████▉ | 1788/2000 [03:48<00:20, 10.29it/s]"
     ]
    },
    {
     "name": "stdout",
     "output_type": "stream",
     "text": [
      "Training_loss 0.00001,   Relative Error 0.00092\n",
      "Training_loss 0.00001,   Relative Error 0.00092\n"
     ]
    },
    {
     "name": "stderr",
     "output_type": "stream",
     "text": [
      "\r",
      " 90%|████████▉ | 1790/2000 [03:49<00:20, 10.23it/s]"
     ]
    },
    {
     "name": "stdout",
     "output_type": "stream",
     "text": [
      "Training_loss 0.00001,   Relative Error 0.00093\n",
      "Training_loss 0.00001,   Relative Error 0.00093\n",
      "Training_loss 0.00001,   Relative Error 0.00093\n"
     ]
    },
    {
     "name": "stderr",
     "output_type": "stream",
     "text": [
      " 90%|████████▉ | 1794/2000 [03:49<00:19, 10.35it/s]"
     ]
    },
    {
     "name": "stdout",
     "output_type": "stream",
     "text": [
      "Training_loss 0.00001,   Relative Error 0.00093\n",
      "Training_loss 0.00001,   Relative Error 0.00093\n",
      "Training_loss 0.00001,   Relative Error 0.00093\n"
     ]
    },
    {
     "name": "stderr",
     "output_type": "stream",
     "text": [
      "\r",
      " 90%|████████▉ | 1796/2000 [03:49<00:19, 10.68it/s]"
     ]
    },
    {
     "name": "stdout",
     "output_type": "stream",
     "text": [
      "Training_loss 0.00001,   Relative Error 0.00094\n",
      "Training_loss 0.00001,   Relative Error 0.00095\n",
      "Training_loss 0.00001,   Relative Error 0.00094\n"
     ]
    },
    {
     "name": "stderr",
     "output_type": "stream",
     "text": [
      " 90%|█████████ | 1800/2000 [03:49<00:18, 10.96it/s]"
     ]
    },
    {
     "name": "stdout",
     "output_type": "stream",
     "text": [
      "Training_loss 0.00001,   Relative Error 0.00095\n",
      "Training_loss 0.00001,   Relative Error 0.00095\n",
      "Training_loss 0.00001,   Relative Error 0.00095\n"
     ]
    },
    {
     "name": "stderr",
     "output_type": "stream",
     "text": [
      "\r",
      " 90%|█████████ | 1802/2000 [03:50<00:21,  9.38it/s]"
     ]
    },
    {
     "name": "stdout",
     "output_type": "stream",
     "text": [
      "Training_loss 0.00001,   Relative Error 0.00096\n",
      "Training_loss 0.00001,   Relative Error 0.00096\n"
     ]
    },
    {
     "name": "stderr",
     "output_type": "stream",
     "text": [
      " 90%|█████████ | 1804/2000 [03:50<00:21,  9.07it/s]"
     ]
    },
    {
     "name": "stdout",
     "output_type": "stream",
     "text": [
      "Training_loss 0.00001,   Relative Error 0.00096\n",
      "Training_loss 0.00001,   Relative Error 0.00097\n"
     ]
    },
    {
     "name": "stderr",
     "output_type": "stream",
     "text": [
      " 90%|█████████ | 1807/2000 [03:50<00:19, 10.14it/s]"
     ]
    },
    {
     "name": "stdout",
     "output_type": "stream",
     "text": [
      "Training_loss 0.00001,   Relative Error 0.00097\n",
      "Training_loss 0.00001,   Relative Error 0.00097\n",
      "Training_loss 0.00001,   Relative Error 0.00098\n"
     ]
    },
    {
     "name": "stderr",
     "output_type": "stream",
     "text": [
      "\r",
      " 90%|█████████ | 1809/2000 [03:50<00:18, 10.48it/s]"
     ]
    },
    {
     "name": "stdout",
     "output_type": "stream",
     "text": [
      "Training_loss 0.00001,   Relative Error 0.00098\n",
      "Training_loss 0.00001,   Relative Error 0.00097\n",
      "Training_loss 0.00001,   Relative Error 0.00096\n"
     ]
    },
    {
     "name": "stderr",
     "output_type": "stream",
     "text": [
      " 91%|█████████ | 1813/2000 [03:51<00:17, 10.90it/s]"
     ]
    },
    {
     "name": "stdout",
     "output_type": "stream",
     "text": [
      "Training_loss 0.00001,   Relative Error 0.00097\n",
      "Training_loss 0.00001,   Relative Error 0.00096\n",
      "Training_loss 0.00001,   Relative Error 0.00094\n"
     ]
    },
    {
     "name": "stderr",
     "output_type": "stream",
     "text": [
      "\r",
      " 91%|█████████ | 1815/2000 [03:51<00:17, 10.80it/s]"
     ]
    },
    {
     "name": "stdout",
     "output_type": "stream",
     "text": [
      "Training_loss 0.00001,   Relative Error 0.00094\n",
      "Training_loss 0.00001,   Relative Error 0.00095\n",
      "Training_loss 0.00001,   Relative Error 0.00095\n"
     ]
    },
    {
     "name": "stderr",
     "output_type": "stream",
     "text": [
      " 91%|█████████ | 1819/2000 [03:51<00:16, 11.04it/s]"
     ]
    },
    {
     "name": "stdout",
     "output_type": "stream",
     "text": [
      "Training_loss 0.00001,   Relative Error 0.00095\n",
      "Training_loss 0.00001,   Relative Error 0.00095\n",
      "Training_loss 0.00001,   Relative Error 0.00095\n"
     ]
    },
    {
     "name": "stderr",
     "output_type": "stream",
     "text": [
      "\r",
      " 91%|█████████ | 1821/2000 [03:51<00:15, 11.36it/s]"
     ]
    },
    {
     "name": "stdout",
     "output_type": "stream",
     "text": [
      "Training_loss 0.00001,   Relative Error 0.00095\n",
      "Training_loss 0.00001,   Relative Error 0.00094\n",
      "Training_loss 0.00001,   Relative Error 0.00095\n"
     ]
    },
    {
     "name": "stderr",
     "output_type": "stream",
     "text": [
      " 91%|█████████▏| 1825/2000 [03:52<00:14, 11.77it/s]"
     ]
    },
    {
     "name": "stdout",
     "output_type": "stream",
     "text": [
      "Training_loss 0.00001,   Relative Error 0.00093\n",
      "Training_loss 0.00001,   Relative Error 0.00093\n",
      "Training_loss 0.00001,   Relative Error 0.00092\n"
     ]
    },
    {
     "name": "stderr",
     "output_type": "stream",
     "text": [
      "\r",
      " 91%|█████████▏| 1827/2000 [03:52<00:15, 11.26it/s]"
     ]
    },
    {
     "name": "stdout",
     "output_type": "stream",
     "text": [
      "Training_loss 0.00001,   Relative Error 0.00094\n",
      "Training_loss 0.00001,   Relative Error 0.00094\n",
      "Training_loss 0.00001,   Relative Error 0.00094\n"
     ]
    },
    {
     "name": "stderr",
     "output_type": "stream",
     "text": [
      "\r",
      " 91%|█████████▏| 1829/2000 [03:52<00:17, 10.03it/s]"
     ]
    },
    {
     "name": "stdout",
     "output_type": "stream",
     "text": [
      "Training_loss 0.00001,   Relative Error 0.00094\n",
      "Training_loss 0.00001,   Relative Error 0.00095\n"
     ]
    },
    {
     "name": "stderr",
     "output_type": "stream",
     "text": [
      " 92%|█████████▏| 1832/2000 [03:53<00:19,  8.62it/s]"
     ]
    },
    {
     "name": "stdout",
     "output_type": "stream",
     "text": [
      "Training_loss 0.00001,   Relative Error 0.00095\n",
      "Training_loss 0.00001,   Relative Error 0.00095\n"
     ]
    },
    {
     "name": "stderr",
     "output_type": "stream",
     "text": [
      " 92%|█████████▏| 1835/2000 [03:53<00:17,  9.66it/s]"
     ]
    },
    {
     "name": "stdout",
     "output_type": "stream",
     "text": [
      "Training_loss 0.00001,   Relative Error 0.00095\n",
      "Training_loss 0.00001,   Relative Error 0.00096\n",
      "Training_loss 0.00001,   Relative Error 0.00097\n"
     ]
    },
    {
     "name": "stderr",
     "output_type": "stream",
     "text": [
      " 92%|█████████▏| 1838/2000 [03:53<00:15, 10.37it/s]"
     ]
    },
    {
     "name": "stdout",
     "output_type": "stream",
     "text": [
      "Training_loss 0.00001,   Relative Error 0.00097\n",
      "Training_loss 0.00001,   Relative Error 0.00097\n",
      "Training_loss 0.00001,   Relative Error 0.00098\n"
     ]
    },
    {
     "name": "stderr",
     "output_type": "stream",
     "text": [
      "\r",
      " 92%|█████████▏| 1840/2000 [03:53<00:14, 11.40it/s]"
     ]
    },
    {
     "name": "stdout",
     "output_type": "stream",
     "text": [
      "Training_loss 0.00001,   Relative Error 0.00098\n",
      "Training_loss 0.00001,   Relative Error 0.00098\n",
      "Training_loss 0.00001,   Relative Error 0.00098\n"
     ]
    },
    {
     "name": "stderr",
     "output_type": "stream",
     "text": [
      " 92%|█████████▏| 1844/2000 [03:54<00:13, 11.67it/s]"
     ]
    },
    {
     "name": "stdout",
     "output_type": "stream",
     "text": [
      "Training_loss 0.00001,   Relative Error 0.00099\n",
      "Training_loss 0.00001,   Relative Error 0.00100\n",
      "Training_loss 0.00001,   Relative Error 0.00097\n"
     ]
    },
    {
     "name": "stderr",
     "output_type": "stream",
     "text": [
      "\r",
      " 92%|█████████▏| 1846/2000 [03:54<00:13, 11.21it/s]"
     ]
    },
    {
     "name": "stdout",
     "output_type": "stream",
     "text": [
      "Training_loss 0.00001,   Relative Error 0.00097\n",
      "Training_loss 0.00001,   Relative Error 0.00096\n",
      "Training_loss 0.00001,   Relative Error 0.00097\n"
     ]
    },
    {
     "name": "stderr",
     "output_type": "stream",
     "text": [
      "\r",
      " 92%|█████████▏| 1848/2000 [03:54<00:13, 11.12it/s]"
     ]
    },
    {
     "name": "stdout",
     "output_type": "stream",
     "text": [
      "Training_loss 0.00001,   Relative Error 0.00097\n",
      "Training_loss 0.00001,   Relative Error 0.00096\n"
     ]
    },
    {
     "name": "stderr",
     "output_type": "stream",
     "text": [
      "\r",
      " 92%|█████████▎| 1850/2000 [03:54<00:13, 10.73it/s]"
     ]
    },
    {
     "name": "stdout",
     "output_type": "stream",
     "text": [
      "Training_loss 0.00001,   Relative Error 0.00097\n",
      "Training_loss 0.00001,   Relative Error 0.00097\n"
     ]
    },
    {
     "name": "stderr",
     "output_type": "stream",
     "text": [
      "\r",
      " 93%|█████████▎| 1852/2000 [03:54<00:14, 10.44it/s]"
     ]
    },
    {
     "name": "stdout",
     "output_type": "stream",
     "text": [
      "Training_loss 0.00001,   Relative Error 0.00098\n",
      "Training_loss 0.00001,   Relative Error 0.00098\n"
     ]
    },
    {
     "name": "stderr",
     "output_type": "stream",
     "text": [
      " 93%|█████████▎| 1856/2000 [03:55<00:14, 10.15it/s]"
     ]
    },
    {
     "name": "stdout",
     "output_type": "stream",
     "text": [
      "Training_loss 0.00001,   Relative Error 0.00099\n",
      "Training_loss 0.00001,   Relative Error 0.00098\n",
      "Training_loss 0.00001,   Relative Error 0.00098\n"
     ]
    },
    {
     "name": "stderr",
     "output_type": "stream",
     "text": [
      "\r",
      " 93%|█████████▎| 1858/2000 [03:55<00:15,  9.22it/s]"
     ]
    },
    {
     "name": "stdout",
     "output_type": "stream",
     "text": [
      "Training_loss 0.00001,   Relative Error 0.00099\n",
      "Training_loss 0.00001,   Relative Error 0.00098\n"
     ]
    },
    {
     "name": "stderr",
     "output_type": "stream",
     "text": [
      "\r",
      " 93%|█████████▎| 1859/2000 [03:55<00:18,  7.55it/s]"
     ]
    },
    {
     "name": "stdout",
     "output_type": "stream",
     "text": [
      "Training_loss 0.00001,   Relative Error 0.00099\n"
     ]
    },
    {
     "name": "stderr",
     "output_type": "stream",
     "text": [
      "\r",
      " 93%|█████████▎| 1860/2000 [03:56<00:21,  6.42it/s]"
     ]
    },
    {
     "name": "stdout",
     "output_type": "stream",
     "text": [
      "Training_loss 0.00001,   Relative Error 0.00098\n"
     ]
    },
    {
     "name": "stderr",
     "output_type": "stream",
     "text": [
      "\r",
      " 93%|█████████▎| 1861/2000 [03:56<00:25,  5.45it/s]"
     ]
    },
    {
     "name": "stdout",
     "output_type": "stream",
     "text": [
      "Training_loss 0.00001,   Relative Error 0.00098\n"
     ]
    },
    {
     "name": "stderr",
     "output_type": "stream",
     "text": [
      "\r",
      " 93%|█████████▎| 1862/2000 [03:56<00:28,  4.91it/s]"
     ]
    },
    {
     "name": "stdout",
     "output_type": "stream",
     "text": [
      "Training_loss 0.00001,   Relative Error 0.00098\n"
     ]
    },
    {
     "name": "stderr",
     "output_type": "stream",
     "text": [
      "\r",
      " 93%|█████████▎| 1863/2000 [03:56<00:30,  4.54it/s]"
     ]
    },
    {
     "name": "stdout",
     "output_type": "stream",
     "text": [
      "Training_loss 0.00001,   Relative Error 0.00098\n"
     ]
    },
    {
     "name": "stderr",
     "output_type": "stream",
     "text": [
      "\r",
      " 93%|█████████▎| 1864/2000 [03:57<00:30,  4.53it/s]"
     ]
    },
    {
     "name": "stdout",
     "output_type": "stream",
     "text": [
      "Training_loss 0.00001,   Relative Error 0.00099\n"
     ]
    },
    {
     "name": "stderr",
     "output_type": "stream",
     "text": [
      "\r",
      " 93%|█████████▎| 1865/2000 [03:57<00:36,  3.65it/s]"
     ]
    },
    {
     "name": "stdout",
     "output_type": "stream",
     "text": [
      "Training_loss 0.00001,   Relative Error 0.00098\n"
     ]
    },
    {
     "name": "stderr",
     "output_type": "stream",
     "text": [
      "\r",
      " 93%|█████████▎| 1866/2000 [03:57<00:38,  3.49it/s]"
     ]
    },
    {
     "name": "stdout",
     "output_type": "stream",
     "text": [
      "Training_loss 0.00001,   Relative Error 0.00097\n"
     ]
    },
    {
     "name": "stderr",
     "output_type": "stream",
     "text": [
      " 93%|█████████▎| 1868/2000 [03:58<00:32,  4.02it/s]"
     ]
    },
    {
     "name": "stdout",
     "output_type": "stream",
     "text": [
      "Training_loss 0.00001,   Relative Error 0.00098\n",
      "Training_loss 0.00001,   Relative Error 0.00099\n"
     ]
    },
    {
     "name": "stderr",
     "output_type": "stream",
     "text": [
      "\r",
      " 93%|█████████▎| 1869/2000 [03:58<00:30,  4.30it/s]"
     ]
    },
    {
     "name": "stdout",
     "output_type": "stream",
     "text": [
      "Training_loss 0.00001,   Relative Error 0.00098\n"
     ]
    },
    {
     "name": "stderr",
     "output_type": "stream",
     "text": [
      "\r",
      " 94%|█████████▎| 1870/2000 [03:58<00:33,  3.90it/s]"
     ]
    },
    {
     "name": "stdout",
     "output_type": "stream",
     "text": [
      "Training_loss 0.00001,   Relative Error 0.00098\n"
     ]
    },
    {
     "name": "stderr",
     "output_type": "stream",
     "text": [
      " 94%|█████████▎| 1872/2000 [03:59<00:30,  4.15it/s]"
     ]
    },
    {
     "name": "stdout",
     "output_type": "stream",
     "text": [
      "Training_loss 0.00001,   Relative Error 0.00098\n",
      "Training_loss 0.00001,   Relative Error 0.00100\n"
     ]
    },
    {
     "name": "stderr",
     "output_type": "stream",
     "text": [
      " 94%|█████████▎| 1874/2000 [03:59<00:26,  4.82it/s]"
     ]
    },
    {
     "name": "stdout",
     "output_type": "stream",
     "text": [
      "Training_loss 0.00001,   Relative Error 0.00099\n",
      "Training_loss 0.00001,   Relative Error 0.00098\n"
     ]
    },
    {
     "name": "stderr",
     "output_type": "stream",
     "text": [
      " 94%|█████████▍| 1876/2000 [03:59<00:22,  5.54it/s]"
     ]
    },
    {
     "name": "stdout",
     "output_type": "stream",
     "text": [
      "Training_loss 0.00001,   Relative Error 0.00098\n",
      "Training_loss 0.00001,   Relative Error 0.00097\n"
     ]
    },
    {
     "name": "stderr",
     "output_type": "stream",
     "text": [
      " 94%|█████████▍| 1878/2000 [04:00<00:18,  6.54it/s]"
     ]
    },
    {
     "name": "stdout",
     "output_type": "stream",
     "text": [
      "Training_loss 0.00001,   Relative Error 0.00096\n",
      "Training_loss 0.00001,   Relative Error 0.00095\n"
     ]
    },
    {
     "name": "stderr",
     "output_type": "stream",
     "text": [
      " 94%|█████████▍| 1880/2000 [04:00<00:16,  7.37it/s]"
     ]
    },
    {
     "name": "stdout",
     "output_type": "stream",
     "text": [
      "Training_loss 0.00001,   Relative Error 0.00094\n",
      "Training_loss 0.00001,   Relative Error 0.00094\n"
     ]
    },
    {
     "name": "stderr",
     "output_type": "stream",
     "text": [
      " 94%|█████████▍| 1882/2000 [04:00<00:14,  8.02it/s]"
     ]
    },
    {
     "name": "stdout",
     "output_type": "stream",
     "text": [
      "Training_loss 0.00001,   Relative Error 0.00093\n",
      "Training_loss 0.00001,   Relative Error 0.00094\n"
     ]
    },
    {
     "name": "stderr",
     "output_type": "stream",
     "text": [
      " 94%|█████████▍| 1884/2000 [04:00<00:14,  7.95it/s]"
     ]
    },
    {
     "name": "stdout",
     "output_type": "stream",
     "text": [
      "Training_loss 0.00001,   Relative Error 0.00094\n",
      "Training_loss 0.00001,   Relative Error 0.00094\n"
     ]
    },
    {
     "name": "stderr",
     "output_type": "stream",
     "text": [
      "\r",
      " 94%|█████████▍| 1886/2000 [04:01<00:12,  8.88it/s]"
     ]
    },
    {
     "name": "stdout",
     "output_type": "stream",
     "text": [
      "Training_loss 0.00001,   Relative Error 0.00094\n",
      "Training_loss 0.00001,   Relative Error 0.00094\n",
      "Training_loss 0.00001,   Relative Error 0.00094\n"
     ]
    },
    {
     "name": "stderr",
     "output_type": "stream",
     "text": [
      "\r",
      " 94%|█████████▍| 1888/2000 [04:01<00:11, 10.11it/s]"
     ]
    },
    {
     "name": "stdout",
     "output_type": "stream",
     "text": [
      "Training_loss 0.00001,   Relative Error 0.00093\n",
      "Training_loss 0.00001,   Relative Error 0.00093\n"
     ]
    },
    {
     "name": "stderr",
     "output_type": "stream",
     "text": [
      " 95%|█████████▍| 1891/2000 [04:01<00:13,  7.86it/s]"
     ]
    },
    {
     "name": "stdout",
     "output_type": "stream",
     "text": [
      "Training_loss 0.00001,   Relative Error 0.00094\n",
      "Training_loss 0.00001,   Relative Error 0.00094\n"
     ]
    },
    {
     "name": "stderr",
     "output_type": "stream",
     "text": [
      "\r",
      " 95%|█████████▍| 1892/2000 [04:01<00:15,  7.10it/s]"
     ]
    },
    {
     "name": "stdout",
     "output_type": "stream",
     "text": [
      "Training_loss 0.00001,   Relative Error 0.00096\n"
     ]
    },
    {
     "name": "stderr",
     "output_type": "stream",
     "text": [
      " 95%|█████████▍| 1894/2000 [04:02<00:18,  5.84it/s]"
     ]
    },
    {
     "name": "stdout",
     "output_type": "stream",
     "text": [
      "Training_loss 0.00001,   Relative Error 0.00096\n",
      "Training_loss 0.00001,   Relative Error 0.00095\n"
     ]
    },
    {
     "name": "stderr",
     "output_type": "stream",
     "text": [
      " 95%|█████████▍| 1896/2000 [04:02<00:17,  5.80it/s]"
     ]
    },
    {
     "name": "stdout",
     "output_type": "stream",
     "text": [
      "Training_loss 0.00001,   Relative Error 0.00096\n",
      "Training_loss 0.00001,   Relative Error 0.00096\n"
     ]
    },
    {
     "name": "stderr",
     "output_type": "stream",
     "text": [
      " 95%|█████████▍| 1898/2000 [04:03<00:16,  6.07it/s]"
     ]
    },
    {
     "name": "stdout",
     "output_type": "stream",
     "text": [
      "Training_loss 0.00001,   Relative Error 0.00097\n",
      "Training_loss 0.00001,   Relative Error 0.00096\n"
     ]
    },
    {
     "name": "stderr",
     "output_type": "stream",
     "text": [
      "\r",
      " 95%|█████████▍| 1899/2000 [04:03<00:14,  6.75it/s]"
     ]
    },
    {
     "name": "stdout",
     "output_type": "stream",
     "text": [
      "Training_loss 0.00001,   Relative Error 0.00095\n",
      "Training_loss 0.00001,   Relative Error 0.00094\n"
     ]
    },
    {
     "name": "stderr",
     "output_type": "stream",
     "text": [
      "\r",
      " 95%|█████████▌| 1901/2000 [04:03<00:12,  7.77it/s]"
     ]
    },
    {
     "name": "stdout",
     "output_type": "stream",
     "text": [
      "Training_loss 0.00001,   Relative Error 0.00095\n"
     ]
    },
    {
     "name": "stderr",
     "output_type": "stream",
     "text": [
      " 95%|█████████▌| 1903/2000 [04:03<00:14,  6.59it/s]"
     ]
    },
    {
     "name": "stdout",
     "output_type": "stream",
     "text": [
      "Training_loss 0.00001,   Relative Error 0.00096\n",
      "Training_loss 0.00001,   Relative Error 0.00096\n"
     ]
    },
    {
     "name": "stderr",
     "output_type": "stream",
     "text": [
      " 95%|█████████▌| 1905/2000 [04:03<00:13,  6.88it/s]"
     ]
    },
    {
     "name": "stdout",
     "output_type": "stream",
     "text": [
      "Training_loss 0.00001,   Relative Error 0.00097\n",
      "Training_loss 0.00001,   Relative Error 0.00098\n"
     ]
    },
    {
     "name": "stderr",
     "output_type": "stream",
     "text": [
      " 95%|█████████▌| 1907/2000 [04:04<00:14,  6.53it/s]"
     ]
    },
    {
     "name": "stdout",
     "output_type": "stream",
     "text": [
      "Training_loss 0.00001,   Relative Error 0.00098\n",
      "Training_loss 0.00001,   Relative Error 0.00099\n"
     ]
    },
    {
     "name": "stderr",
     "output_type": "stream",
     "text": [
      " 96%|█████████▌| 1910/2000 [04:04<00:10,  8.53it/s]"
     ]
    },
    {
     "name": "stdout",
     "output_type": "stream",
     "text": [
      "Training_loss 0.00001,   Relative Error 0.00099\n",
      "Training_loss 0.00001,   Relative Error 0.00099\n",
      "Training_loss 0.00001,   Relative Error 0.00098\n"
     ]
    },
    {
     "name": "stderr",
     "output_type": "stream",
     "text": [
      " 96%|█████████▌| 1912/2000 [04:04<00:12,  6.83it/s]"
     ]
    },
    {
     "name": "stdout",
     "output_type": "stream",
     "text": [
      "Training_loss 0.00001,   Relative Error 0.00099\n",
      "Training_loss 0.00001,   Relative Error 0.00099\n"
     ]
    },
    {
     "name": "stderr",
     "output_type": "stream",
     "text": [
      " 96%|█████████▌| 1914/2000 [04:05<00:11,  7.46it/s]"
     ]
    },
    {
     "name": "stdout",
     "output_type": "stream",
     "text": [
      "Training_loss 0.00001,   Relative Error 0.00098\n",
      "Training_loss 0.00001,   Relative Error 0.00098\n"
     ]
    },
    {
     "name": "stderr",
     "output_type": "stream",
     "text": [
      " 96%|█████████▌| 1916/2000 [04:05<00:10,  8.14it/s]"
     ]
    },
    {
     "name": "stdout",
     "output_type": "stream",
     "text": [
      "Training_loss 0.00001,   Relative Error 0.00097\n",
      "Training_loss 0.00001,   Relative Error 0.00097\n"
     ]
    },
    {
     "name": "stderr",
     "output_type": "stream",
     "text": [
      " 96%|█████████▌| 1919/2000 [04:05<00:08,  9.53it/s]"
     ]
    },
    {
     "name": "stdout",
     "output_type": "stream",
     "text": [
      "Training_loss 0.00001,   Relative Error 0.00098\n",
      "Training_loss 0.00001,   Relative Error 0.00098\n",
      "Training_loss 0.00001,   Relative Error 0.00097\n"
     ]
    },
    {
     "name": "stderr",
     "output_type": "stream",
     "text": [
      "\r",
      " 96%|█████████▌| 1921/2000 [04:05<00:07, 10.33it/s]"
     ]
    },
    {
     "name": "stdout",
     "output_type": "stream",
     "text": [
      "Training_loss 0.00001,   Relative Error 0.00096\n",
      "Training_loss 0.00001,   Relative Error 0.00097\n",
      "Training_loss 0.00001,   Relative Error 0.00098\n"
     ]
    },
    {
     "name": "stderr",
     "output_type": "stream",
     "text": [
      " 96%|█████████▋| 1925/2000 [04:06<00:06, 11.58it/s]"
     ]
    },
    {
     "name": "stdout",
     "output_type": "stream",
     "text": [
      "Training_loss 0.00001,   Relative Error 0.00098\n",
      "Training_loss 0.00001,   Relative Error 0.00099\n",
      "Training_loss 0.00001,   Relative Error 0.00098\n"
     ]
    },
    {
     "name": "stderr",
     "output_type": "stream",
     "text": [
      "\r",
      " 96%|█████████▋| 1927/2000 [04:06<00:07,  9.92it/s]"
     ]
    },
    {
     "name": "stdout",
     "output_type": "stream",
     "text": [
      "Training_loss 0.00001,   Relative Error 0.00097\n",
      "Training_loss 0.00001,   Relative Error 0.00096\n"
     ]
    },
    {
     "name": "stderr",
     "output_type": "stream",
     "text": [
      "\r",
      " 96%|█████████▋| 1929/2000 [04:06<00:07,  9.92it/s]"
     ]
    },
    {
     "name": "stdout",
     "output_type": "stream",
     "text": [
      "Training_loss 0.00001,   Relative Error 0.00096\n",
      "Training_loss 0.00001,   Relative Error 0.00096\n"
     ]
    },
    {
     "name": "stderr",
     "output_type": "stream",
     "text": [
      "\r",
      " 97%|█████████▋| 1931/2000 [04:07<00:08,  8.30it/s]"
     ]
    },
    {
     "name": "stdout",
     "output_type": "stream",
     "text": [
      "Training_loss 0.00001,   Relative Error 0.00096\n",
      "Training_loss 0.00001,   Relative Error 0.00096\n"
     ]
    },
    {
     "name": "stderr",
     "output_type": "stream",
     "text": [
      " 97%|█████████▋| 1933/2000 [04:07<00:08,  7.76it/s]"
     ]
    },
    {
     "name": "stdout",
     "output_type": "stream",
     "text": [
      "Training_loss 0.00001,   Relative Error 0.00096\n",
      "Training_loss 0.00001,   Relative Error 0.00098\n"
     ]
    },
    {
     "name": "stderr",
     "output_type": "stream",
     "text": [
      " 97%|█████████▋| 1935/2000 [04:07<00:07,  8.43it/s]"
     ]
    },
    {
     "name": "stdout",
     "output_type": "stream",
     "text": [
      "Training_loss 0.00001,   Relative Error 0.00097\n",
      "Training_loss 0.00001,   Relative Error 0.00097\n",
      "Training_loss 0.00001,   Relative Error 0.00097\n"
     ]
    },
    {
     "name": "stderr",
     "output_type": "stream",
     "text": [
      " 97%|█████████▋| 1938/2000 [04:07<00:07,  8.75it/s]"
     ]
    },
    {
     "name": "stdout",
     "output_type": "stream",
     "text": [
      "Training_loss 0.00001,   Relative Error 0.00098\n",
      "Training_loss 0.00001,   Relative Error 0.00097\n"
     ]
    },
    {
     "name": "stderr",
     "output_type": "stream",
     "text": [
      " 97%|█████████▋| 1940/2000 [04:08<00:06,  8.92it/s]"
     ]
    },
    {
     "name": "stdout",
     "output_type": "stream",
     "text": [
      "Training_loss 0.00001,   Relative Error 0.00098\n",
      "Training_loss 0.00001,   Relative Error 0.00098\n"
     ]
    },
    {
     "name": "stderr",
     "output_type": "stream",
     "text": [
      " 97%|█████████▋| 1942/2000 [04:08<00:06,  9.04it/s]"
     ]
    },
    {
     "name": "stdout",
     "output_type": "stream",
     "text": [
      "Training_loss 0.00001,   Relative Error 0.00099\n",
      "Training_loss 0.00001,   Relative Error 0.00098\n"
     ]
    },
    {
     "name": "stderr",
     "output_type": "stream",
     "text": [
      "\r",
      " 97%|█████████▋| 1944/2000 [04:08<00:05, 10.22it/s]"
     ]
    },
    {
     "name": "stdout",
     "output_type": "stream",
     "text": [
      "Training_loss 0.00001,   Relative Error 0.00097\n",
      "Training_loss 0.00001,   Relative Error 0.00095\n",
      "Training_loss 0.00001,   Relative Error 0.00095\n"
     ]
    },
    {
     "name": "stderr",
     "output_type": "stream",
     "text": [
      " 97%|█████████▋| 1947/2000 [04:08<00:06,  7.76it/s]"
     ]
    },
    {
     "name": "stdout",
     "output_type": "stream",
     "text": [
      "Training_loss 0.00001,   Relative Error 0.00095\n",
      "Training_loss 0.00001,   Relative Error 0.00096\n"
     ]
    },
    {
     "name": "stderr",
     "output_type": "stream",
     "text": [
      "\r",
      " 97%|█████████▋| 1949/2000 [04:09<00:05,  9.29it/s]"
     ]
    },
    {
     "name": "stdout",
     "output_type": "stream",
     "text": [
      "Training_loss 0.00001,   Relative Error 0.00097\n",
      "Training_loss 0.00001,   Relative Error 0.00098\n",
      "Training_loss 0.00001,   Relative Error 0.00098\n"
     ]
    },
    {
     "name": "stderr",
     "output_type": "stream",
     "text": [
      "\r",
      " 98%|█████████▊| 1951/2000 [04:09<00:05,  9.54it/s]"
     ]
    },
    {
     "name": "stdout",
     "output_type": "stream",
     "text": [
      "Training_loss 0.00001,   Relative Error 0.00098\n",
      "Training_loss 0.00001,   Relative Error 0.00099\n"
     ]
    },
    {
     "name": "stderr",
     "output_type": "stream",
     "text": [
      " 98%|█████████▊| 1954/2000 [04:09<00:05,  7.96it/s]"
     ]
    },
    {
     "name": "stdout",
     "output_type": "stream",
     "text": [
      "Training_loss 0.00001,   Relative Error 0.00098\n",
      "Training_loss 0.00001,   Relative Error 0.00097\n"
     ]
    },
    {
     "name": "stderr",
     "output_type": "stream",
     "text": [
      " 98%|█████████▊| 1956/2000 [04:10<00:06,  6.94it/s]"
     ]
    },
    {
     "name": "stdout",
     "output_type": "stream",
     "text": [
      "Training_loss 0.00001,   Relative Error 0.00097\n",
      "Training_loss 0.00001,   Relative Error 0.00098\n"
     ]
    },
    {
     "name": "stderr",
     "output_type": "stream",
     "text": [
      "\r",
      " 98%|█████████▊| 1958/2000 [04:10<00:05,  7.97it/s]"
     ]
    },
    {
     "name": "stdout",
     "output_type": "stream",
     "text": [
      "Training_loss 0.00001,   Relative Error 0.00099\n",
      "Training_loss 0.00001,   Relative Error 0.00098\n",
      "Training_loss 0.00001,   Relative Error 0.00098\n"
     ]
    },
    {
     "name": "stderr",
     "output_type": "stream",
     "text": [
      " 98%|█████████▊| 1961/2000 [04:10<00:05,  7.49it/s]"
     ]
    },
    {
     "name": "stdout",
     "output_type": "stream",
     "text": [
      "Training_loss 0.00001,   Relative Error 0.00098\n",
      "Training_loss 0.00001,   Relative Error 0.00096\n"
     ]
    },
    {
     "name": "stderr",
     "output_type": "stream",
     "text": [
      "\r",
      " 98%|█████████▊| 1963/2000 [04:10<00:04,  8.80it/s]"
     ]
    },
    {
     "name": "stdout",
     "output_type": "stream",
     "text": [
      "Training_loss 0.00001,   Relative Error 0.00095\n",
      "Training_loss 0.00001,   Relative Error 0.00096\n",
      "Training_loss 0.00001,   Relative Error 0.00096\n"
     ]
    },
    {
     "name": "stderr",
     "output_type": "stream",
     "text": [
      " 98%|█████████▊| 1967/2000 [04:11<00:03, 10.04it/s]"
     ]
    },
    {
     "name": "stdout",
     "output_type": "stream",
     "text": [
      "Training_loss 0.00001,   Relative Error 0.00097\n",
      "Training_loss 0.00001,   Relative Error 0.00097\n",
      "Training_loss 0.00001,   Relative Error 0.00096\n"
     ]
    },
    {
     "name": "stderr",
     "output_type": "stream",
     "text": [
      "\r",
      " 98%|█████████▊| 1969/2000 [04:11<00:02, 10.35it/s]"
     ]
    },
    {
     "name": "stdout",
     "output_type": "stream",
     "text": [
      "Training_loss 0.00001,   Relative Error 0.00095\n",
      "Training_loss 0.00001,   Relative Error 0.00094\n",
      "Training_loss 0.00001,   Relative Error 0.00094\n"
     ]
    },
    {
     "name": "stderr",
     "output_type": "stream",
     "text": [
      " 99%|█████████▊| 1973/2000 [04:11<00:02, 11.20it/s]"
     ]
    },
    {
     "name": "stdout",
     "output_type": "stream",
     "text": [
      "Training_loss 0.00001,   Relative Error 0.00094\n",
      "Training_loss 0.00001,   Relative Error 0.00094\n",
      "Training_loss 0.00001,   Relative Error 0.00094\n"
     ]
    },
    {
     "name": "stderr",
     "output_type": "stream",
     "text": [
      "\r",
      " 99%|█████████▉| 1975/2000 [04:11<00:02, 11.68it/s]"
     ]
    },
    {
     "name": "stdout",
     "output_type": "stream",
     "text": [
      "Training_loss 0.00001,   Relative Error 0.00094\n",
      "Training_loss 0.00001,   Relative Error 0.00095\n",
      "Training_loss 0.00001,   Relative Error 0.00095\n"
     ]
    },
    {
     "name": "stderr",
     "output_type": "stream",
     "text": [
      " 99%|█████████▉| 1979/2000 [04:12<00:01, 11.20it/s]"
     ]
    },
    {
     "name": "stdout",
     "output_type": "stream",
     "text": [
      "Training_loss 0.00001,   Relative Error 0.00096\n",
      "Training_loss 0.00001,   Relative Error 0.00097\n",
      "Training_loss 0.00001,   Relative Error 0.00096\n"
     ]
    },
    {
     "name": "stderr",
     "output_type": "stream",
     "text": [
      "\r",
      " 99%|█████████▉| 1981/2000 [04:12<00:01, 10.10it/s]"
     ]
    },
    {
     "name": "stdout",
     "output_type": "stream",
     "text": [
      "Training_loss 0.00001,   Relative Error 0.00095\n",
      "Training_loss 0.00001,   Relative Error 0.00095\n"
     ]
    },
    {
     "name": "stderr",
     "output_type": "stream",
     "text": [
      "\r",
      " 99%|█████████▉| 1983/2000 [04:12<00:01, 10.03it/s]"
     ]
    },
    {
     "name": "stdout",
     "output_type": "stream",
     "text": [
      "Training_loss 0.00001,   Relative Error 0.00094\n",
      "Training_loss 0.00001,   Relative Error 0.00093\n",
      "Training_loss 0.00001,   Relative Error 0.00093\n"
     ]
    },
    {
     "name": "stderr",
     "output_type": "stream",
     "text": [
      "\r",
      " 99%|█████████▉| 1985/2000 [04:12<00:01, 10.61it/s]"
     ]
    },
    {
     "name": "stdout",
     "output_type": "stream",
     "text": [
      "Training_loss 0.00001,   Relative Error 0.00093\n",
      "Training_loss 0.00001,   Relative Error 0.00093\n"
     ]
    },
    {
     "name": "stderr",
     "output_type": "stream",
     "text": [
      " 99%|█████████▉| 1989/2000 [04:13<00:01,  9.44it/s]"
     ]
    },
    {
     "name": "stdout",
     "output_type": "stream",
     "text": [
      "Training_loss 0.00001,   Relative Error 0.00092\n",
      "Training_loss 0.00001,   Relative Error 0.00092\n",
      "Training_loss 0.00001,   Relative Error 0.00092\n"
     ]
    },
    {
     "name": "stderr",
     "output_type": "stream",
     "text": [
      "\r",
      "100%|█████████▉| 1991/2000 [04:13<00:00,  9.39it/s]"
     ]
    },
    {
     "name": "stdout",
     "output_type": "stream",
     "text": [
      "Training_loss 0.00001,   Relative Error 0.00092\n",
      "Training_loss 0.00001,   Relative Error 0.00092\n"
     ]
    },
    {
     "name": "stderr",
     "output_type": "stream",
     "text": [
      "100%|█████████▉| 1993/2000 [04:13<00:00,  7.42it/s]"
     ]
    },
    {
     "name": "stdout",
     "output_type": "stream",
     "text": [
      "Training_loss 0.00001,   Relative Error 0.00093\n",
      "Training_loss 0.00001,   Relative Error 0.00094\n"
     ]
    },
    {
     "name": "stderr",
     "output_type": "stream",
     "text": [
      "\r",
      "100%|█████████▉| 1994/2000 [04:14<00:00,  6.20it/s]"
     ]
    },
    {
     "name": "stdout",
     "output_type": "stream",
     "text": [
      "Training_loss 0.00001,   Relative Error 0.00094\n",
      "Training_loss 0.00001,   Relative Error 0.00094\n"
     ]
    },
    {
     "name": "stderr",
     "output_type": "stream",
     "text": [
      "100%|█████████▉| 1997/2000 [04:14<00:00,  6.30it/s]"
     ]
    },
    {
     "name": "stdout",
     "output_type": "stream",
     "text": [
      "Training_loss 0.00001,   Relative Error 0.00094\n",
      "Training_loss 0.00001,   Relative Error 0.00093\n"
     ]
    },
    {
     "name": "stderr",
     "output_type": "stream",
     "text": [
      "100%|█████████▉| 1999/2000 [04:14<00:00,  6.51it/s]"
     ]
    },
    {
     "name": "stdout",
     "output_type": "stream",
     "text": [
      "Training_loss 0.00001,   Relative Error 0.00093\n",
      "Training_loss 0.00001,   Relative Error 0.00093\n"
     ]
    },
    {
     "name": "stderr",
     "output_type": "stream",
     "text": [
      "100%|██████████| 2000/2000 [04:15<00:00,  7.84it/s]"
     ]
    },
    {
     "name": "stdout",
     "output_type": "stream",
     "text": [
      "Training_loss 0.00001,   Relative Error 0.00094\n"
     ]
    },
    {
     "name": "stderr",
     "output_type": "stream",
     "text": [
      "\n"
     ]
    }
   ],
   "source": [
    "#global_model = CNN_Net().cuda()\n",
    "models = [MLP_Net(user_id=i) for i in range(no_users)]\n",
    "dummy_models = [MLP_Net(user_id=i) for i in range(no_users)]\n",
    "\n",
    "#model.load_state_dict(global_model.state_dict())\n",
    "\n",
    "criterion = nn.MSELoss()\n",
    "\n",
    "\n",
    "train_loss = []\n",
    "test_loss = []\n",
    "test_accuracy = []\n",
    "total_rel_error = []\n",
    "\n",
    "for curr_round in tqdm(range(1, it+1)):\n",
    "    w, local_loss = [], []\n",
    "\n",
    "    \n",
    "    for i in range(no_users):\n",
    "        dummy_models[i].load_state_dict(models[i].state_dict())\n",
    "        local_update = ClientUpdate(dataset=datapoints[i], batchSize=batch_size, alpha=alpha, lamda=lamda, epochs=1, projection_list=projection_list, projected_weights=projected_weights)\n",
    "        weights, loss = local_update.train(dummy_models[i])\n",
    "        w.append(weights)\n",
    "        local_loss.append(loss)\n",
    "        models[i].load_state_dict(w[i])\n",
    "        \n",
    "    \n",
    "    \n",
    "    # Update prjection matrix\n",
    "    \n",
    "    #print(projection_list[0], projected_weights[0])\n",
    "    \n",
    "    for i in range(no_users):\n",
    "        weights = parameters_to_vector(models[i].parameters())\n",
    "        for j in G.neighbors(i):\n",
    "            mat_vec_sum = torch.zeros_like(weights)\n",
    "            for k in G.neighbors(i):\n",
    "                mat_vec_sum = torch.add(mat_vec_sum, projected_weights[k][i] - projected_weights[i][k])\n",
    "            #print(torch.outer(mat_vec_sum, weights))\n",
    "\n",
    "            projection_list[i][j] = torch.add(projection_list[i][j], -1 * eta * lamda * mat_vec_sum)\n",
    "                                         \n",
    "    projected_weights = []                                          \n",
    "    update_ProjWeight(projection_list, projected_weights, first_run=False)\n",
    "        \n",
    "        \n",
    "        \n",
    "    \n",
    "    \n",
    "\n",
    "\n",
    "\n",
    "\n",
    "          \n",
    "            \n",
    "\n",
    "    local_test_acc = []\n",
    "    local_test_loss = []\n",
    "    user_rel_error = 0\n",
    "    for k in range(no_users):\n",
    "      \n",
    "        g_loss = testing(models[i], datapoints[i], 50, criterion)\n",
    "        local_test_loss.append(g_loss)\n",
    "        user_rel_error += rel_error(models[i])\n",
    "    \n",
    "    \n",
    "        \n",
    "\n",
    "    g_loss = sum(local_test_loss) / len(local_test_loss)\n",
    "    total_rel_error.append(user_rel_error / no_users)\n",
    "    \n",
    "    \n",
    "\n",
    "    test_loss.append(g_loss)\n",
    "    #test_accuracy.append(g_accuracy)\n",
    "    print(\"Training_loss %2.5f,   Relative Error %2.5f\"% (test_loss[-1], total_rel_error[-1]))"
   ]
  },
  {
   "cell_type": "code",
   "execution_count": 21,
   "id": "2ff0ff71",
   "metadata": {},
   "outputs": [
    {
     "data": {
      "text/plain": [
       "tensor([-1.9978,  2.0015], grad_fn=<CatBackward0>)"
      ]
     },
     "execution_count": 21,
     "metadata": {},
     "output_type": "execute_result"
    }
   ],
   "source": [
    "#plot.plot(test_loss)\n",
    "parameters_to_vector(models[19].parameters())"
   ]
  },
  {
   "cell_type": "code",
   "execution_count": 22,
   "id": "194e9ea4",
   "metadata": {},
   "outputs": [
    {
     "name": "stdout",
     "output_type": "stream",
     "text": [
      "4\n",
      "5\n",
      "6\n",
      "7\n",
      "8\n",
      "9\n",
      "12\n"
     ]
    }
   ],
   "source": [
    "for j in G.neighbors(0):\n",
    "    print(j)"
   ]
  },
  {
   "cell_type": "code",
   "execution_count": 23,
   "id": "bbcca8ca",
   "metadata": {},
   "outputs": [
    {
     "data": {
      "text/plain": [
       "tensor([1.9953, 1.9952], grad_fn=<CatBackward0>)"
      ]
     },
     "execution_count": 23,
     "metadata": {},
     "output_type": "execute_result"
    }
   ],
   "source": [
    "parameters_to_vector(models[0].parameters())"
   ]
  },
  {
   "cell_type": "code",
   "execution_count": 24,
   "id": "bf702d86",
   "metadata": {},
   "outputs": [
    {
     "data": {
      "text/plain": [
       "[0,\n",
       " 0,\n",
       " 0,\n",
       " 0,\n",
       " tensor([[ 1.0122, -0.1058],\n",
       "         [-0.0674,  0.9738]]),\n",
       " tensor([[ 0.2129, -0.1058],\n",
       "         [-0.0674,  0.1746]]),\n",
       " tensor([[ 1.7588, -0.1058],\n",
       "         [-0.0674,  1.7205]]),\n",
       " tensor([[ 2.1973, -0.1058],\n",
       "         [-0.0674,  2.1590]]),\n",
       " tensor([[ 1.1746, -0.1058],\n",
       "         [-0.0674,  1.1363]]),\n",
       " tensor([[ 0.3124, -0.1058],\n",
       "         [-0.0674,  0.2741]]),\n",
       " 0,\n",
       " 0,\n",
       " tensor([[-0.0856, -0.1058],\n",
       "         [-0.0674, -0.1239]]),\n",
       " 0,\n",
       " 0,\n",
       " 0,\n",
       " 0,\n",
       " 0,\n",
       " 0,\n",
       " 0]"
      ]
     },
     "execution_count": 24,
     "metadata": {},
     "output_type": "execute_result"
    }
   ],
   "source": [
    "projection_list[0]"
   ]
  },
  {
   "cell_type": "code",
   "execution_count": 25,
   "id": "a73e6699",
   "metadata": {},
   "outputs": [
    {
     "data": {
      "text/plain": [
       "[0,\n",
       " 0,\n",
       " 0,\n",
       " 0,\n",
       " tensor([1.0228, 1.0229]),\n",
       " tensor([3.7029, 3.6958]),\n",
       " tensor([0.9197, 0.9219]),\n",
       " tensor([2.0308, 2.0312]),\n",
       " tensor([0.3476, 0.3476]),\n",
       " tensor([0.4399, 0.4417]),\n",
       " 0,\n",
       " 0,\n",
       " tensor([ 0.4205, -1.5137]),\n",
       " 0,\n",
       " 0,\n",
       " 0,\n",
       " 0,\n",
       " 0,\n",
       " 0,\n",
       " 0]"
      ]
     },
     "execution_count": 25,
     "metadata": {},
     "output_type": "execute_result"
    }
   ],
   "source": [
    "projected_weights[0]"
   ]
  },
  {
   "cell_type": "code",
   "execution_count": 26,
   "id": "2561d143",
   "metadata": {},
   "outputs": [],
   "source": [
    "test_loss = np.array(test_loss)\n",
    "total_rel_error = np.array(total_rel_error)"
   ]
  },
  {
   "cell_type": "code",
   "execution_count": 27,
   "id": "c36b1bc2",
   "metadata": {},
   "outputs": [
    {
     "name": "stdout",
     "output_type": "stream",
     "text": [
      "[1.07342498e+01 1.03329268e+01 9.99157465e+00 ... 1.16781121e-05\n",
      " 1.17123579e-05 1.17857328e-05]\n"
     ]
    }
   ],
   "source": [
    "print(test_loss)"
   ]
  },
  {
   "cell_type": "code",
   "execution_count": 28,
   "id": "d61db64c",
   "metadata": {},
   "outputs": [],
   "source": [
    "np.save( 'training_loss_sheave_fml' + str(eta).replace('.', '_')+ '_pout' + str(pout).replace('.', '_'), test_loss)\n",
    "np.save('relative_error_sheave_fml' + str(eta).replace('.', '_')+ '_pout' + str(pout).replace('.', '_'), total_rel_error)"
   ]
  },
  {
   "cell_type": "code",
   "execution_count": 29,
   "id": "725be3f4",
   "metadata": {},
   "outputs": [
    {
     "data": {
      "text/plain": [
       "'training_loss_sheave_fml0_01'"
      ]
     },
     "execution_count": 29,
     "metadata": {},
     "output_type": "execute_result"
    }
   ],
   "source": [
    "'training_loss_sheave_fml' + str(eta).replace('.', '_')"
   ]
  },
  {
   "cell_type": "code",
   "execution_count": 30,
   "id": "b1bb8533",
   "metadata": {},
   "outputs": [
    {
     "data": {
      "text/plain": [
       "'relative_error_sheave_fml0_01'"
      ]
     },
     "execution_count": 30,
     "metadata": {},
     "output_type": "execute_result"
    }
   ],
   "source": [
    "'relative_error_sheave_fml' + str(eta).replace('.', '_')"
   ]
  },
  {
   "cell_type": "code",
   "execution_count": null,
   "id": "8de6635c",
   "metadata": {},
   "outputs": [],
   "source": []
  }
 ],
 "metadata": {
  "kernelspec": {
   "display_name": "Python 3",
   "language": "python",
   "name": "python3"
  },
  "language_info": {
   "codemirror_mode": {
    "name": "ipython",
    "version": 3
   },
   "file_extension": ".py",
   "mimetype": "text/x-python",
   "name": "python",
   "nbconvert_exporter": "python",
   "pygments_lexer": "ipython3",
   "version": "3.8.8"
  }
 },
 "nbformat": 4,
 "nbformat_minor": 5
}
