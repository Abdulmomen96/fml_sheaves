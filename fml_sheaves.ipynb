{
 "cells": [
  {
   "cell_type": "code",
   "execution_count": 1,
   "id": "74d5d395",
   "metadata": {},
   "outputs": [],
   "source": [
    "import torch\n",
    "import torch.nn as nn\n",
    "import torch.nn.functional as F\n",
    "import torch.optim as optim\n",
    "from torchvision import datasets, transforms\n",
    "from torch.utils.data import DataLoader, Dataset\n",
    "import copy\n",
    "import numpy as np\n",
    "import matplotlib.pyplot as plt\n",
    "from tqdm import tqdm\n",
    "import networkx as nx\n",
    "from torch.nn.utils import parameters_to_vector, vector_to_parameters"
   ]
  },
  {
   "cell_type": "code",
   "execution_count": 2,
   "id": "7617ffd7",
   "metadata": {},
   "outputs": [],
   "source": [
    "# Graph implementation\n",
    "def generate_graph(cluster_sizes=[100,100], pin=0.5, pout=0.01, seed=0):\n",
    "    \"\"\"Generate a random connected graph\"\"\"\n",
    "    probs = np.array([[pin, pout],[pout, pin]])\n",
    "    while True:\n",
    "        g = nx.stochastic_block_model(cluster_sizes, probs)\n",
    "        if nx.algorithms.components.is_connected(g):\n",
    "            return g\n",
    "\n",
    "\n",
    "cluster_sizes = [10, 10]\n",
    "pin = 0.5\n",
    "pout = 0.01\n",
    "seed = 0\n",
    "alpha = 1e-3\n",
    "lamda = 1e-3\n",
    "eta = 1e-3\n",
    "no_users = sum(cluster_sizes)\n",
    "batch_size = 20\n",
    "epochs = 1\n",
    "it = 2000\n",
    "G = generate_graph(cluster_sizes, pin, pout, seed)\n",
    "\n",
    "#nx.draw(G, with_labels=True, node_size=100, alpha=1, linewidths=10)\n",
    "#plt.show()"
   ]
  },
  {
   "cell_type": "code",
   "execution_count": 3,
   "id": "809e7c6f",
   "metadata": {},
   "outputs": [
    {
     "name": "stdout",
     "output_type": "stream",
     "text": [
      "[[0.         0.         0.         0.         0.125      0.\n",
      "  0.         0.16666667 0.2        0.         0.         0.\n",
      "  0.         0.         0.         0.         0.         0.\n",
      "  0.         0.16666667]\n",
      " [0.         0.         0.         0.14285714 0.125      0.14285714\n",
      "  0.         0.14285714 0.14285714 0.         0.         0.\n",
      "  0.         0.         0.         0.         0.         0.\n",
      "  0.         0.14285714]\n",
      " [0.         0.         0.         0.14285714 0.         0.14285714\n",
      "  0.         0.16666667 0.         0.         0.         0.\n",
      "  0.         0.         0.         0.         0.         0.\n",
      "  0.         0.        ]\n",
      " [0.         0.14285714 0.14285714 0.         0.125      0.14285714\n",
      "  0.14285714 0.14285714 0.         0.         0.         0.\n",
      "  0.         0.         0.         0.         0.         0.\n",
      "  0.         0.        ]\n",
      " [0.125      0.125      0.         0.125      0.         0.125\n",
      "  0.125      0.125      0.         0.         0.         0.\n",
      "  0.         0.         0.         0.         0.         0.\n",
      "  0.         0.125     ]\n",
      " [0.         0.14285714 0.14285714 0.14285714 0.125      0.\n",
      "  0.14285714 0.         0.         0.         0.         0.\n",
      "  0.         0.         0.         0.         0.         0.\n",
      "  0.         0.14285714]\n",
      " [0.         0.         0.         0.14285714 0.125      0.14285714\n",
      "  0.         0.         0.2        0.         0.         0.\n",
      "  0.         0.         0.         0.         0.         0.\n",
      "  0.         0.        ]\n",
      " [0.16666667 0.14285714 0.16666667 0.14285714 0.125      0.\n",
      "  0.         0.         0.         0.         0.         0.\n",
      "  0.         0.         0.         0.         0.         0.\n",
      "  0.         0.        ]\n",
      " [0.2        0.14285714 0.         0.         0.         0.\n",
      "  0.2        0.         0.         0.         0.         0.\n",
      "  0.         0.         0.         0.         0.         0.\n",
      "  0.         0.        ]\n",
      " [0.         0.         0.         0.         0.         0.\n",
      "  0.         0.         0.         0.         0.11111111 0.11111111\n",
      "  0.         0.11111111 0.11111111 0.11111111 0.11111111 0.11111111\n",
      "  0.11111111 0.        ]\n",
      " [0.         0.         0.         0.         0.         0.\n",
      "  0.         0.         0.         0.11111111 0.         0.14285714\n",
      "  0.14285714 0.14285714 0.         0.14285714 0.         0.14285714\n",
      "  0.         0.        ]\n",
      " [0.         0.         0.         0.         0.         0.\n",
      "  0.         0.         0.         0.11111111 0.14285714 0.\n",
      "  0.         0.         0.         0.         0.2        0.\n",
      "  0.16666667 0.        ]\n",
      " [0.         0.         0.         0.         0.         0.\n",
      "  0.         0.         0.         0.         0.14285714 0.\n",
      "  0.         0.         0.2        0.16666667 0.         0.16666667\n",
      "  0.         0.        ]\n",
      " [0.         0.         0.         0.         0.         0.\n",
      "  0.         0.         0.         0.11111111 0.14285714 0.\n",
      "  0.         0.         0.         0.         0.         0.\n",
      "  0.16666667 0.16666667]\n",
      " [0.         0.         0.         0.         0.         0.\n",
      "  0.         0.         0.         0.11111111 0.         0.\n",
      "  0.2        0.         0.         0.         0.         0.16666667\n",
      "  0.         0.        ]\n",
      " [0.         0.         0.         0.         0.         0.\n",
      "  0.         0.         0.         0.11111111 0.14285714 0.\n",
      "  0.16666667 0.         0.         0.         0.16666667 0.\n",
      "  0.16666667 0.        ]\n",
      " [0.         0.         0.         0.         0.         0.\n",
      "  0.         0.         0.         0.11111111 0.         0.2\n",
      "  0.         0.         0.         0.16666667 0.         0.\n",
      "  0.         0.        ]\n",
      " [0.         0.         0.         0.         0.         0.\n",
      "  0.         0.         0.         0.11111111 0.14285714 0.\n",
      "  0.16666667 0.         0.16666667 0.         0.         0.\n",
      "  0.16666667 0.        ]\n",
      " [0.         0.         0.         0.         0.         0.\n",
      "  0.         0.         0.         0.11111111 0.         0.16666667\n",
      "  0.         0.16666667 0.         0.16666667 0.         0.16666667\n",
      "  0.         0.        ]\n",
      " [0.16666667 0.14285714 0.         0.         0.125      0.14285714\n",
      "  0.         0.         0.         0.         0.         0.\n",
      "  0.         0.16666667 0.         0.         0.         0.\n",
      "  0.         0.        ]]\n",
      "[[0.34166667 0.         0.         0.         0.125      0.\n",
      "  0.         0.16666667 0.2        0.         0.         0.\n",
      "  0.         0.         0.         0.         0.         0.\n",
      "  0.         0.16666667]\n",
      " [0.         0.16071429 0.         0.14285714 0.125      0.14285714\n",
      "  0.         0.14285714 0.14285714 0.         0.         0.\n",
      "  0.         0.         0.         0.         0.         0.\n",
      "  0.         0.14285714]\n",
      " [0.         0.         0.54761905 0.14285714 0.         0.14285714\n",
      "  0.         0.16666667 0.         0.         0.         0.\n",
      "  0.         0.         0.         0.         0.         0.\n",
      "  0.         0.        ]\n",
      " [0.         0.14285714 0.14285714 0.16071429 0.125      0.14285714\n",
      "  0.14285714 0.14285714 0.         0.         0.         0.\n",
      "  0.         0.         0.         0.         0.         0.\n",
      "  0.         0.        ]\n",
      " [0.125      0.125      0.         0.125      0.125      0.125\n",
      "  0.125      0.125      0.         0.         0.         0.\n",
      "  0.         0.         0.         0.         0.         0.\n",
      "  0.         0.125     ]\n",
      " [0.         0.14285714 0.14285714 0.14285714 0.125      0.16071429\n",
      "  0.14285714 0.         0.         0.         0.         0.\n",
      "  0.         0.         0.         0.         0.         0.\n",
      "  0.         0.14285714]\n",
      " [0.         0.         0.         0.14285714 0.125      0.14285714\n",
      "  0.38928571 0.         0.2        0.         0.         0.\n",
      "  0.         0.         0.         0.         0.         0.\n",
      "  0.         0.        ]\n",
      " [0.16666667 0.14285714 0.16666667 0.14285714 0.125      0.\n",
      "  0.         0.25595238 0.         0.         0.         0.\n",
      "  0.         0.         0.         0.         0.         0.\n",
      "  0.         0.        ]\n",
      " [0.2        0.14285714 0.         0.         0.         0.\n",
      "  0.2        0.         0.45714286 0.         0.         0.\n",
      "  0.         0.         0.         0.         0.         0.\n",
      "  0.         0.        ]\n",
      " [0.         0.         0.         0.         0.         0.\n",
      "  0.         0.         0.         0.11111111 0.11111111 0.11111111\n",
      "  0.         0.11111111 0.11111111 0.11111111 0.11111111 0.11111111\n",
      "  0.11111111 0.        ]\n",
      " [0.         0.         0.         0.         0.         0.\n",
      "  0.         0.         0.         0.11111111 0.17460317 0.14285714\n",
      "  0.14285714 0.14285714 0.         0.14285714 0.         0.14285714\n",
      "  0.         0.        ]\n",
      " [0.         0.         0.         0.         0.         0.\n",
      "  0.         0.         0.         0.11111111 0.14285714 0.37936508\n",
      "  0.         0.         0.         0.         0.2        0.\n",
      "  0.16666667 0.        ]\n",
      " [0.         0.         0.         0.         0.         0.\n",
      "  0.         0.         0.         0.         0.14285714 0.\n",
      "  0.32380952 0.         0.2        0.16666667 0.         0.16666667\n",
      "  0.         0.        ]\n",
      " [0.         0.         0.         0.         0.         0.\n",
      "  0.         0.         0.         0.11111111 0.14285714 0.\n",
      "  0.         0.41269841 0.         0.         0.         0.\n",
      "  0.16666667 0.16666667]\n",
      " [0.         0.         0.         0.         0.         0.\n",
      "  0.         0.         0.         0.11111111 0.         0.\n",
      "  0.2        0.         0.52222222 0.         0.         0.16666667\n",
      "  0.         0.        ]\n",
      " [0.         0.         0.         0.         0.         0.\n",
      "  0.         0.         0.         0.11111111 0.14285714 0.\n",
      "  0.16666667 0.         0.         0.24603175 0.16666667 0.\n",
      "  0.16666667 0.        ]\n",
      " [0.         0.         0.         0.         0.         0.\n",
      "  0.         0.         0.         0.11111111 0.         0.2\n",
      "  0.         0.         0.         0.16666667 0.52222222 0.\n",
      "  0.         0.        ]\n",
      " [0.         0.         0.         0.         0.         0.\n",
      "  0.         0.         0.         0.11111111 0.14285714 0.\n",
      "  0.16666667 0.         0.16666667 0.         0.         0.24603175\n",
      "  0.16666667 0.        ]\n",
      " [0.         0.         0.         0.         0.         0.\n",
      "  0.         0.         0.         0.11111111 0.         0.16666667\n",
      "  0.         0.16666667 0.         0.16666667 0.         0.16666667\n",
      "  0.22222222 0.        ]\n",
      " [0.16666667 0.14285714 0.         0.         0.125      0.14285714\n",
      "  0.         0.         0.         0.         0.         0.\n",
      "  0.         0.16666667 0.         0.         0.         0.\n",
      "  0.         0.25595238]]\n"
     ]
    }
   ],
   "source": [
    "# Metropolis weights \n",
    "number_nodes = G.number_of_nodes()\n",
    "weights = np.zeros([number_nodes, number_nodes])\n",
    "for edge in G.edges():\n",
    "  i, j = edge[0], edge[1]\n",
    "  weights[i - 1][j - 1] = 1 / (1 + np.max([G.degree(i), G.degree(j)]))\n",
    "  weights[j - 1][i - 1] = weights[i - 1][j - 1]\n",
    "\n",
    "print(weights)\n",
    "\n",
    "weights = weights + np.diag(1 - np.sum(weights, axis=0))\n",
    "\n",
    "metropolis_weights = weights\n",
    "print(metropolis_weights)\n"
   ]
  },
  {
   "cell_type": "code",
   "execution_count": 4,
   "id": "654ab72f",
   "metadata": {},
   "outputs": [],
   "source": [
    "def load_dataset():\n",
    "    transforms_mnist = transforms.Compose([transforms.ToTensor(), transforms.Normalize((0.1307,),(0.3081,))])\n",
    "    mnist_data_train = datasets.MNIST('./data/mnist', train=True, download=True, transform=transforms_mnist)\n",
    "    mnist_data_test = datasets.MNIST('./data/mnist', train=False, download=True, transform=transforms_mnist)\n",
    "\n",
    "    return mnist_data_train, mnist_data_test"
   ]
  },
  {
   "cell_type": "code",
   "execution_count": 5,
   "id": "26f67564",
   "metadata": {},
   "outputs": [],
   "source": [
    "def degrees(A):\n",
    "    \"\"\"Return the degrees of each node of a graph from its adjacency matrix\"\"\"\n",
    "    return np.sum(A, axis=0).reshape(A.shape[0], 1)\n",
    "\n",
    "def node_degree(n, G):\n",
    "    cnt = 0\n",
    "    for i in G.neighbors(n):\n",
    "        cnt += 1\n",
    "    return cnt\n",
    "\n",
    "def get_neighbors(n, G):\n",
    "    neighbors_list = []\n",
    "    for i in G.neighbors(n):\n",
    "        neighbors_list.append(int(i))\n",
    "    return neighbors_list"
   ]
  },
  {
   "cell_type": "code",
   "execution_count": 6,
   "id": "dbc31eff",
   "metadata": {},
   "outputs": [],
   "source": [
    "datapoints = {}\n",
    "count = 0\n",
    "W1 = np.array([2.0, 2.0])\n",
    "W2 = np.array([-2.0, 2.0])\n",
    "W = [W1, W2]\n",
    "m = 200\n",
    "n = 2\n",
    "noise_sd = 0.001\n",
    "for i, cluster_size in enumerate(cluster_sizes):\n",
    "    for j in range(cluster_size):\n",
    "        features = np.random.normal(loc=0.0, scale=1.0, size=(m, n))\n",
    "        label = np.dot(features, W[i]) + np.random.normal(0,noise_sd)\n",
    "        datapoints[count] = {\n",
    "                'features': features,\n",
    "                'degree': node_degree(count, G),\n",
    "                'label': label,\n",
    "                'neighbors': get_neighbors(count, G),\n",
    "                'exact_weights': torch.from_numpy(W[i])\n",
    "            }\n",
    "        count += 1"
   ]
  },
  {
   "cell_type": "code",
   "execution_count": 7,
   "id": "3c2530b1",
   "metadata": {},
   "outputs": [],
   "source": [
    "class MyDataset(Dataset):\n",
    "    def __init__(self, data, targets, transform=None):\n",
    "        self.data = torch.FloatTensor(data)\n",
    "        self.targets = torch.FloatTensor(targets).unsqueeze(-1)\n",
    "        \n",
    "    def __getitem__(self, index):\n",
    "        x = self.data[index]\n",
    "        y = self.targets[index]\n",
    "\n",
    "        return x, y\n",
    "    \n",
    "    def __len__(self):\n",
    "        return len(self.data)\n"
   ]
  },
  {
   "cell_type": "code",
   "execution_count": 8,
   "id": "1d84bf7c",
   "metadata": {},
   "outputs": [],
   "source": [
    "class MLP_Net(nn.Module):\n",
    "    def __init__(self, user_id):\n",
    "        super(MLP_Net, self).__init__()\n",
    "        self.fc1 = nn.Linear(2, 1, bias=False)\n",
    "        #self.fc2 = nn.Linear(4, 1, bias=False)\n",
    "        #self.fc3 = nn.Linear(200, 10)\n",
    "        self.user_id = user_id\n",
    "\n",
    "    def forward(self, x):\n",
    "        x = torch.flatten(x, 1)\n",
    "        #x = F.relu(self.fc1(x))\n",
    "        output = self.fc1(x)\n",
    "        #output = self.fc3(x)\n",
    "        return output"
   ]
  },
  {
   "cell_type": "code",
   "execution_count": 9,
   "id": "f93f4bbc",
   "metadata": {},
   "outputs": [],
   "source": [
    "from typing import Iterable, Optional\n",
    "\n",
    "def grads_to_vector(parameters: Iterable[torch.Tensor]) -> torch.Tensor:\n",
    "    r\"\"\"Convert parameters to one vector\n",
    "\n",
    "    Args:\n",
    "        parameters (Iterable[Tensor]): an iterator of Tensors that are the\n",
    "            parameters of a model.\n",
    "\n",
    "    Returns:\n",
    "        The parameters represented by a single vector\n",
    "    \"\"\"\n",
    "    # Flag for the device where the parameter is located\n",
    "    param_device = None\n",
    "\n",
    "    vec = []\n",
    "    for param in parameters:\n",
    "        # Ensure the parameters are located in the same device\n",
    "        param_device = param.grad\n",
    "\n",
    "        vec.append(param_device.view(-1))\n",
    "    return torch.cat(vec)"
   ]
  },
  {
   "cell_type": "code",
   "execution_count": 10,
   "id": "9cd3a679",
   "metadata": {},
   "outputs": [
    {
     "name": "stdout",
     "output_type": "stream",
     "text": [
      "torch.Size([50, 1])\n",
      "torch.Size([50, 1])\n",
      "0 tensor(5.4179, grad_fn=<MseLossBackward0>) tensor([ 4.2566, -1.9168]) tensor([-0.0802,  0.6100], grad_fn=<CatBackward0>)\n",
      "torch.Size([50, 1])\n",
      "torch.Size([50, 1])\n",
      "0 tensor(4.3026, grad_fn=<MseLossBackward0>) tensor([ 3.0161, -2.1468]) tensor([-0.1227,  0.6292], grad_fn=<CatBackward0>)\n",
      "torch.Size([50, 1])\n",
      "torch.Size([50, 1])\n",
      "0 tensor(3.7889, grad_fn=<MseLossBackward0>) tensor([ 2.9180, -1.6215]) tensor([-0.1529,  0.6507], grad_fn=<CatBackward0>)\n",
      "torch.Size([50, 1])\n",
      "torch.Size([50, 1])\n",
      "0 tensor(5.0133, grad_fn=<MseLossBackward0>) tensor([ 3.2266, -3.1217]) tensor([-0.1821,  0.6669], grad_fn=<CatBackward0>)\n",
      "torch.Size([50, 1])\n",
      "torch.Size([50, 1])\n",
      "1 tensor(4.7033, grad_fn=<MseLossBackward0>) tensor([ 3.9569, -1.7984]) tensor([-0.2143,  0.6981], grad_fn=<CatBackward0>)\n",
      "torch.Size([50, 1])\n",
      "torch.Size([50, 1])\n",
      "1 tensor(3.7402, grad_fn=<MseLossBackward0>) tensor([ 2.8045, -2.0120]) tensor([-0.2539,  0.7161], grad_fn=<CatBackward0>)\n",
      "torch.Size([50, 1])\n",
      "torch.Size([50, 1])\n",
      "1 tensor(3.2912, grad_fn=<MseLossBackward0>) tensor([ 2.7107, -1.5233]) tensor([-0.2820,  0.7362], grad_fn=<CatBackward0>)\n",
      "torch.Size([50, 1])\n",
      "torch.Size([50, 1])\n",
      "1 tensor(4.3623, grad_fn=<MseLossBackward0>) tensor([ 3.0025, -2.9219]) tensor([-0.3091,  0.7514], grad_fn=<CatBackward0>)\n",
      "torch.Size([50, 1])\n",
      "torch.Size([50, 1])\n",
      "2 tensor(4.0831, grad_fn=<MseLossBackward0>) tensor([ 3.6784, -1.6872]) tensor([-0.3391,  0.7806], grad_fn=<CatBackward0>)\n",
      "torch.Size([50, 1])\n",
      "torch.Size([50, 1])\n",
      "2 tensor(3.2514, grad_fn=<MseLossBackward0>) tensor([ 2.6078, -1.8855]) tensor([-0.3759,  0.7975], grad_fn=<CatBackward0>)\n",
      "torch.Size([50, 1])\n",
      "torch.Size([50, 1])\n",
      "2 tensor(2.8591, grad_fn=<MseLossBackward0>) tensor([ 2.5183, -1.4310]) tensor([-0.4020,  0.8164], grad_fn=<CatBackward0>)\n",
      "torch.Size([50, 1])\n",
      "torch.Size([50, 1])\n",
      "2 tensor(3.7960, grad_fn=<MseLossBackward0>) tensor([ 2.7941, -2.7347]) tensor([-0.4271,  0.8307], grad_fn=<CatBackward0>)\n",
      "torch.Size([50, 1])\n",
      "torch.Size([50, 1])\n",
      "3 tensor(3.5450, grad_fn=<MseLossBackward0>) tensor([ 3.4196, -1.5827]) tensor([-0.4551,  0.8580], grad_fn=<CatBackward0>)\n",
      "torch.Size([50, 1])\n",
      "torch.Size([50, 1])\n",
      "3 tensor(2.8267, grad_fn=<MseLossBackward0>) tensor([ 2.4249, -1.7668]) tensor([-0.4893,  0.8739], grad_fn=<CatBackward0>)\n",
      "torch.Size([50, 1])\n",
      "torch.Size([50, 1])\n",
      "3 tensor(2.4838, grad_fn=<MseLossBackward0>) tensor([ 2.3395, -1.3440]) tensor([-0.5135,  0.8915], grad_fn=<CatBackward0>)\n",
      "torch.Size([50, 1])\n",
      "torch.Size([50, 1])\n",
      "3 tensor(3.3032, grad_fn=<MseLossBackward0>) tensor([ 2.6002, -2.5594]) tensor([-0.5369,  0.9050], grad_fn=<CatBackward0>)\n",
      "torch.Size([50, 1])\n",
      "torch.Size([50, 1])\n",
      "4 tensor(3.0779, grad_fn=<MseLossBackward0>) tensor([ 3.1791, -1.4846]) tensor([-0.5629,  0.9306], grad_fn=<CatBackward0>)\n",
      "torch.Size([50, 1])\n",
      "torch.Size([50, 1])\n",
      "4 tensor(2.4575, grad_fn=<MseLossBackward0>) tensor([ 2.2550, -1.6555]) tensor([-0.5947,  0.9454], grad_fn=<CatBackward0>)\n",
      "torch.Size([50, 1])\n",
      "torch.Size([50, 1])\n",
      "4 tensor(2.1579, grad_fn=<MseLossBackward0>) tensor([ 2.1736, -1.2622]) tensor([-0.6173,  0.9620], grad_fn=<CatBackward0>)\n",
      "torch.Size([50, 1])\n",
      "torch.Size([50, 1])\n",
      "4 tensor(2.8745, grad_fn=<MseLossBackward0>) tensor([ 2.4198, -2.3953]) tensor([-0.6390,  0.9746], grad_fn=<CatBackward0>)\n",
      "torch.Size([50, 1])\n",
      "torch.Size([50, 1])\n",
      "5 tensor(2.6726, grad_fn=<MseLossBackward0>) tensor([ 2.9557, -1.3924]) tensor([-0.6632,  0.9985], grad_fn=<CatBackward0>)\n",
      "torch.Size([50, 1])\n",
      "torch.Size([50, 1])\n",
      "5 tensor(2.1367, grad_fn=<MseLossBackward0>) tensor([ 2.0970, -1.5511]) tensor([-0.6928,  1.0125], grad_fn=<CatBackward0>)\n",
      "torch.Size([50, 1])\n",
      "torch.Size([50, 1])\n",
      "5 tensor(1.8749, grad_fn=<MseLossBackward0>) tensor([ 2.0195, -1.1853]) tensor([-0.7137,  1.0280], grad_fn=<CatBackward0>)\n",
      "torch.Size([50, 1])\n",
      "torch.Size([50, 1])\n",
      "5 tensor(2.5016, grad_fn=<MseLossBackward0>) tensor([ 2.2520, -2.2416]) tensor([-0.7339,  1.0398], grad_fn=<CatBackward0>)\n",
      "torch.Size([50, 1])\n",
      "torch.Size([50, 1])\n",
      "6 tensor(2.3207, grad_fn=<MseLossBackward0>) tensor([ 2.7480, -1.3058]) tensor([-0.7564,  1.0622], grad_fn=<CatBackward0>)\n",
      "torch.Size([50, 1])\n",
      "torch.Size([50, 1])\n",
      "6 tensor(1.8578, grad_fn=<MseLossBackward0>) tensor([ 1.9502, -1.4532]) tensor([-0.7839,  1.0753], grad_fn=<CatBackward0>)\n",
      "torch.Size([50, 1])\n",
      "torch.Size([50, 1])\n",
      "6 tensor(1.6291, grad_fn=<MseLossBackward0>) tensor([ 1.8763, -1.1129]) tensor([-0.8034,  1.0898], grad_fn=<CatBackward0>)\n",
      "torch.Size([50, 1])\n",
      "torch.Size([50, 1])\n",
      "6 tensor(2.1770, grad_fn=<MseLossBackward0>) tensor([ 2.0959, -2.0976]) tensor([-0.8222,  1.1010], grad_fn=<CatBackward0>)\n",
      "torch.Size([50, 1])\n",
      "torch.Size([50, 1])\n",
      "7 tensor(2.0153, grad_fn=<MseLossBackward0>) tensor([ 2.5550, -1.2245]) tensor([-0.8431,  1.1219], grad_fn=<CatBackward0>)\n",
      "torch.Size([50, 1])\n",
      "torch.Size([50, 1])\n",
      "7 tensor(1.6154, grad_fn=<MseLossBackward0>) tensor([ 1.8137, -1.3614]) tensor([-0.8687,  1.1342], grad_fn=<CatBackward0>)\n",
      "torch.Size([50, 1])\n",
      "torch.Size([50, 1])\n",
      "7 tensor(1.4156, grad_fn=<MseLossBackward0>) tensor([ 1.7434, -1.0448]) tensor([-0.8868,  1.1478], grad_fn=<CatBackward0>)\n",
      "torch.Size([50, 1])\n",
      "torch.Size([50, 1])\n",
      "7 tensor(1.8946, grad_fn=<MseLossBackward0>) tensor([ 1.9507, -1.9629]) tensor([-0.9043,  1.1582], grad_fn=<CatBackward0>)\n",
      "torch.Size([50, 1])\n",
      "torch.Size([50, 1])\n",
      "8 tensor(1.7502, grad_fn=<MseLossBackward0>) tensor([ 2.3756, -1.1482]) tensor([-0.9238,  1.1779], grad_fn=<CatBackward0>)\n",
      "torch.Size([50, 1])\n",
      "torch.Size([50, 1])\n",
      "8 tensor(1.4047, grad_fn=<MseLossBackward0>) tensor([ 1.6868, -1.2753]) tensor([-0.9475,  1.1894], grad_fn=<CatBackward0>)\n",
      "torch.Size([50, 1])\n",
      "torch.Size([50, 1])\n",
      "8 tensor(1.2302, grad_fn=<MseLossBackward0>) tensor([ 1.6200, -0.9808]) tensor([-0.9644,  1.2021], grad_fn=<CatBackward0>)\n",
      "torch.Size([50, 1])\n",
      "torch.Size([50, 1])\n",
      "8 tensor(1.6489, grad_fn=<MseLossBackward0>) tensor([ 1.8156, -1.8367]) tensor([-0.9806,  1.2119], grad_fn=<CatBackward0>)\n",
      "torch.Size([50, 1])\n",
      "torch.Size([50, 1])\n",
      "9 tensor(1.5200, grad_fn=<MseLossBackward0>) tensor([ 2.2089, -1.0765]) tensor([-0.9988,  1.2303], grad_fn=<CatBackward0>)\n",
      "torch.Size([50, 1])\n",
      "torch.Size([50, 1])\n",
      "9 tensor(1.2215, grad_fn=<MseLossBackward0>) tensor([ 1.5688, -1.1946]) tensor([-1.0208,  1.2410], grad_fn=<CatBackward0>)\n",
      "torch.Size([50, 1])\n",
      "torch.Size([50, 1])\n",
      "9 tensor(1.0691, grad_fn=<MseLossBackward0>) tensor([ 1.5053, -0.9206]) tensor([-1.0365,  1.2530], grad_fn=<CatBackward0>)\n",
      "torch.Size([50, 1])\n",
      "torch.Size([50, 1])\n",
      "9 tensor(1.4351, grad_fn=<MseLossBackward0>) tensor([ 1.6899, -1.7185]) tensor([-1.0516,  1.2622], grad_fn=<CatBackward0>)\n",
      "torch.Size([50, 1])\n",
      "torch.Size([50, 1])\n",
      "10 tensor(1.3202, grad_fn=<MseLossBackward0>) tensor([ 2.0540, -1.0093]) tensor([-1.0685,  1.2794], grad_fn=<CatBackward0>)\n",
      "torch.Size([50, 1])\n",
      "torch.Size([50, 1])\n",
      "10 tensor(1.0623, grad_fn=<MseLossBackward0>) tensor([ 1.4592, -1.1190]) tensor([-1.0890,  1.2895], grad_fn=<CatBackward0>)\n",
      "torch.Size([50, 1])\n",
      "torch.Size([50, 1])\n",
      "10 tensor(0.9291, grad_fn=<MseLossBackward0>) tensor([ 1.3988, -0.8641]) tensor([-1.1036,  1.3007], grad_fn=<CatBackward0>)\n",
      "torch.Size([50, 1])\n",
      "torch.Size([50, 1])\n",
      "10 tensor(1.2491, grad_fn=<MseLossBackward0>) tensor([ 1.5729, -1.6079]) tensor([-1.1176,  1.3093], grad_fn=<CatBackward0>)\n",
      "torch.Size([50, 1])\n",
      "torch.Size([50, 1])\n",
      "11 tensor(1.1467, grad_fn=<MseLossBackward0>) tensor([ 1.9100, -0.9462]) tensor([-1.1333,  1.3254], grad_fn=<CatBackward0>)\n",
      "torch.Size([50, 1])\n",
      "torch.Size([50, 1])\n",
      "11 tensor(0.9238, grad_fn=<MseLossBackward0>) tensor([ 1.3572, -1.0481]) tensor([-1.1524,  1.3349], grad_fn=<CatBackward0>)\n",
      "torch.Size([50, 1])\n",
      "torch.Size([50, 1])\n",
      "11 tensor(0.8075, grad_fn=<MseLossBackward0>) tensor([ 1.2999, -0.8109]) tensor([-1.1660,  1.3453], grad_fn=<CatBackward0>)\n",
      "torch.Size([50, 1])\n",
      "torch.Size([50, 1])\n",
      "11 tensor(1.0872, grad_fn=<MseLossBackward0>) tensor([ 1.4640, -1.5044]) tensor([-1.1790,  1.3534], grad_fn=<CatBackward0>)\n",
      "torch.Size([50, 1])\n",
      "torch.Size([50, 1])\n",
      "12 tensor(0.9960, grad_fn=<MseLossBackward0>) tensor([ 1.7761, -0.8869]) tensor([-1.1936,  1.3685], grad_fn=<CatBackward0>)\n",
      "torch.Size([50, 1])\n",
      "torch.Size([50, 1])\n",
      "12 tensor(0.8034, grad_fn=<MseLossBackward0>) tensor([ 1.2624, -0.9816]) tensor([-1.2114,  1.3774], grad_fn=<CatBackward0>)\n",
      "torch.Size([50, 1])\n",
      "torch.Size([50, 1])\n",
      "12 tensor(0.7019, grad_fn=<MseLossBackward0>) tensor([ 1.2080, -0.7609]) tensor([-1.2240,  1.3872], grad_fn=<CatBackward0>)\n",
      "torch.Size([50, 1])\n",
      "torch.Size([50, 1])\n",
      "12 tensor(0.9463, grad_fn=<MseLossBackward0>) tensor([ 1.3628, -1.4075]) tensor([-1.2361,  1.3948], grad_fn=<CatBackward0>)\n",
      "torch.Size([50, 1])\n",
      "torch.Size([50, 1])\n",
      "13 tensor(0.8652, grad_fn=<MseLossBackward0>) tensor([ 1.6517, -0.8313]) tensor([-1.2497,  1.4089], grad_fn=<CatBackward0>)\n",
      "torch.Size([50, 1])\n",
      "torch.Size([50, 1])\n",
      "13 tensor(0.6988, grad_fn=<MseLossBackward0>) tensor([ 1.1743, -0.9193]) tensor([-1.2663,  1.4172], grad_fn=<CatBackward0>)\n",
      "torch.Size([50, 1])\n",
      "torch.Size([50, 1])\n",
      "13 tensor(0.6101, grad_fn=<MseLossBackward0>) tensor([ 1.1226, -0.7140]) tensor([-1.2780,  1.4264], grad_fn=<CatBackward0>)\n",
      "torch.Size([50, 1])\n",
      "torch.Size([50, 1])\n",
      "13 tensor(0.8237, grad_fn=<MseLossBackward0>) tensor([ 1.2685, -1.3168]) tensor([-1.2892,  1.4335], grad_fn=<CatBackward0>)\n",
      "torch.Size([50, 1])\n",
      "torch.Size([50, 1])\n",
      "14 tensor(0.7516, grad_fn=<MseLossBackward0>) tensor([ 1.5360, -0.7791]) tensor([-1.3019,  1.4467], grad_fn=<CatBackward0>)\n",
      "torch.Size([50, 1])\n",
      "torch.Size([50, 1])\n",
      "14 tensor(0.6078, grad_fn=<MseLossBackward0>) tensor([ 1.0923, -0.8609]) tensor([-1.3173,  1.4545], grad_fn=<CatBackward0>)\n",
      "torch.Size([50, 1])\n",
      "torch.Size([50, 1])\n",
      "14 tensor(0.5303, grad_fn=<MseLossBackward0>) tensor([ 1.0434, -0.6698]) tensor([-1.3282,  1.4631], grad_fn=<CatBackward0>)\n",
      "torch.Size([50, 1])\n",
      "torch.Size([50, 1])\n",
      "14 tensor(0.7169, grad_fn=<MseLossBackward0>) tensor([ 1.1808, -1.2318]) tensor([-1.3386,  1.4698], grad_fn=<CatBackward0>)\n",
      "torch.Size([50, 1])\n",
      "torch.Size([50, 1])\n",
      "15 tensor(0.6529, grad_fn=<MseLossBackward0>) tensor([ 1.4285, -0.7302]) tensor([-1.3504,  1.4821], grad_fn=<CatBackward0>)\n",
      "torch.Size([50, 1])\n",
      "torch.Size([50, 1])\n",
      "15 tensor(0.5286, grad_fn=<MseLossBackward0>) tensor([ 1.0161, -0.8061]) tensor([-1.3647,  1.4894], grad_fn=<CatBackward0>)\n",
      "torch.Size([50, 1])\n",
      "torch.Size([50, 1])\n",
      "15 tensor(0.4610, grad_fn=<MseLossBackward0>) tensor([ 0.9697, -0.6284]) tensor([-1.3749,  1.4974], grad_fn=<CatBackward0>)\n",
      "torch.Size([50, 1])\n",
      "torch.Size([50, 1])\n",
      "15 tensor(0.6241, grad_fn=<MseLossBackward0>) tensor([ 1.0992, -1.1523]) tensor([-1.3846,  1.5037], grad_fn=<CatBackward0>)\n",
      "torch.Size([50, 1])\n",
      "torch.Size([50, 1])\n",
      "16 tensor(0.5673, grad_fn=<MseLossBackward0>) tensor([ 1.3285, -0.6843]) tensor([-1.3956,  1.5153], grad_fn=<CatBackward0>)\n",
      "torch.Size([50, 1])\n",
      "torch.Size([50, 1])\n",
      "16 tensor(0.4598, grad_fn=<MseLossBackward0>) tensor([ 0.9452, -0.7548]) tensor([-1.4089,  1.5221], grad_fn=<CatBackward0>)\n",
      "torch.Size([50, 1])\n",
      "torch.Size([50, 1])\n",
      "16 tensor(0.4008, grad_fn=<MseLossBackward0>) tensor([ 0.9013, -0.5895]) tensor([-1.4183,  1.5296], grad_fn=<CatBackward0>)\n",
      "torch.Size([50, 1])\n",
      "torch.Size([50, 1])\n",
      "16 tensor(0.5432, grad_fn=<MseLossBackward0>) tensor([ 1.0233, -1.0779]) tensor([-1.4273,  1.5355], grad_fn=<CatBackward0>)\n",
      "torch.Size([50, 1])\n",
      "torch.Size([50, 1])\n",
      "17 tensor(0.4929, grad_fn=<MseLossBackward0>) tensor([ 1.2356, -0.6412]) tensor([-1.4375,  1.5463], grad_fn=<CatBackward0>)\n",
      "torch.Size([50, 1])\n",
      "torch.Size([50, 1])\n",
      "17 tensor(0.4000, grad_fn=<MseLossBackward0>) tensor([ 0.8794, -0.7068]) tensor([-1.4499,  1.5527], grad_fn=<CatBackward0>)\n",
      "torch.Size([50, 1])\n",
      "torch.Size([50, 1])\n",
      "17 tensor(0.3484, grad_fn=<MseLossBackward0>) tensor([ 0.8377, -0.5529]) tensor([-1.4587,  1.5598], grad_fn=<CatBackward0>)\n",
      "torch.Size([50, 1])\n",
      "torch.Size([50, 1])\n",
      "17 tensor(0.4729, grad_fn=<MseLossBackward0>) tensor([ 0.9526, -1.0083]) tensor([-1.4671,  1.5653], grad_fn=<CatBackward0>)\n",
      "torch.Size([50, 1])\n",
      "torch.Size([50, 1])\n",
      "18 tensor(0.4282, grad_fn=<MseLossBackward0>) tensor([ 1.1492, -0.6008]) tensor([-1.4766,  1.5754], grad_fn=<CatBackward0>)\n",
      "torch.Size([50, 1])\n",
      "torch.Size([50, 1])\n",
      "18 tensor(0.3479, grad_fn=<MseLossBackward0>) tensor([ 0.8181, -0.6617]) tensor([-1.4881,  1.5814], grad_fn=<CatBackward0>)\n",
      "torch.Size([50, 1])\n",
      "torch.Size([50, 1])\n",
      "18 tensor(0.3030, grad_fn=<MseLossBackward0>) tensor([ 0.7786, -0.5186]) tensor([-1.4963,  1.5880], grad_fn=<CatBackward0>)\n",
      "torch.Size([50, 1])\n",
      "torch.Size([50, 1])\n",
      "18 tensor(0.4116, grad_fn=<MseLossBackward0>) tensor([ 0.8869, -0.9432]) tensor([-1.5041,  1.5932], grad_fn=<CatBackward0>)\n",
      "torch.Size([50, 1])\n",
      "torch.Size([50, 1])\n",
      "19 tensor(0.3721, grad_fn=<MseLossBackward0>) tensor([ 1.0689, -0.5629]) tensor([-1.5129,  1.6027], grad_fn=<CatBackward0>)\n",
      "torch.Size([50, 1])\n",
      "torch.Size([50, 1])\n",
      "19 tensor(0.3027, grad_fn=<MseLossBackward0>) tensor([ 0.7611, -0.6195]) tensor([-1.5236,  1.6083], grad_fn=<CatBackward0>)\n",
      "torch.Size([50, 1])\n",
      "torch.Size([50, 1])\n"
     ]
    },
    {
     "name": "stdout",
     "output_type": "stream",
     "text": [
      "19 tensor(0.2634, grad_fn=<MseLossBackward0>) tensor([ 0.7238, -0.4863]) tensor([-1.5312,  1.6145], grad_fn=<CatBackward0>)\n",
      "torch.Size([50, 1])\n",
      "torch.Size([50, 1])\n",
      "19 tensor(0.3583, grad_fn=<MseLossBackward0>) tensor([ 0.8256, -0.8822]) tensor([-1.5385,  1.6193], grad_fn=<CatBackward0>)\n",
      "torch.Size([50, 1])\n",
      "torch.Size([50, 1])\n",
      "20 tensor(0.3233, grad_fn=<MseLossBackward0>) tensor([ 0.9943, -0.5273]) tensor([-1.5467,  1.6282], grad_fn=<CatBackward0>)\n",
      "torch.Size([50, 1])\n",
      "torch.Size([50, 1])\n",
      "20 tensor(0.2633, grad_fn=<MseLossBackward0>) tensor([ 0.7081, -0.5800]) tensor([-1.5567,  1.6334], grad_fn=<CatBackward0>)\n",
      "torch.Size([50, 1])\n",
      "torch.Size([50, 1])\n",
      "20 tensor(0.2290, grad_fn=<MseLossBackward0>) tensor([ 0.6728, -0.4560]) tensor([-1.5637,  1.6392], grad_fn=<CatBackward0>)\n",
      "torch.Size([50, 1])\n",
      "torch.Size([50, 1])\n",
      "20 tensor(0.3120, grad_fn=<MseLossBackward0>) tensor([ 0.7687, -0.8251]) tensor([-1.5705,  1.6438], grad_fn=<CatBackward0>)\n",
      "torch.Size([50, 1])\n",
      "torch.Size([50, 1])\n",
      "21 tensor(0.2809, grad_fn=<MseLossBackward0>) tensor([ 0.9248, -0.4940]) tensor([-1.5782,  1.6520], grad_fn=<CatBackward0>)\n",
      "torch.Size([50, 1])\n",
      "torch.Size([50, 1])\n",
      "21 tensor(0.2291, grad_fn=<MseLossBackward0>) tensor([ 0.6588, -0.5430]) tensor([-1.5874,  1.6570], grad_fn=<CatBackward0>)\n",
      "torch.Size([50, 1])\n",
      "torch.Size([50, 1])\n",
      "21 tensor(0.1992, grad_fn=<MseLossBackward0>) tensor([ 0.6254, -0.4276]) tensor([-1.5940,  1.6624], grad_fn=<CatBackward0>)\n",
      "torch.Size([50, 1])\n",
      "torch.Size([50, 1])\n",
      "21 tensor(0.2716, grad_fn=<MseLossBackward0>) tensor([ 0.7157, -0.7717]) tensor([-1.6003,  1.6667], grad_fn=<CatBackward0>)\n",
      "torch.Size([50, 1])\n",
      "torch.Size([50, 1])\n",
      "22 tensor(0.2441, grad_fn=<MseLossBackward0>) tensor([ 0.8603, -0.4627]) tensor([-1.6074,  1.6744], grad_fn=<CatBackward0>)\n",
      "torch.Size([50, 1])\n",
      "torch.Size([50, 1])\n",
      "22 tensor(0.1993, grad_fn=<MseLossBackward0>) tensor([ 0.6130, -0.5083]) tensor([-1.6160,  1.6790], grad_fn=<CatBackward0>)\n",
      "torch.Size([50, 1])\n",
      "torch.Size([50, 1])\n",
      "22 tensor(0.1732, grad_fn=<MseLossBackward0>) tensor([ 0.5814, -0.4009]) tensor([-1.6221,  1.6841], grad_fn=<CatBackward0>)\n",
      "torch.Size([50, 1])\n",
      "torch.Size([50, 1])\n",
      "22 tensor(0.2364, grad_fn=<MseLossBackward0>) tensor([ 0.6663, -0.7218]) tensor([-1.6280,  1.6881], grad_fn=<CatBackward0>)\n",
      "torch.Size([50, 1])\n",
      "torch.Size([50, 1])\n",
      "23 tensor(0.2122, grad_fn=<MseLossBackward0>) tensor([ 0.8003, -0.4334]) tensor([-1.6346,  1.6953], grad_fn=<CatBackward0>)\n",
      "torch.Size([50, 1])\n",
      "torch.Size([50, 1])\n",
      "23 tensor(0.1734, grad_fn=<MseLossBackward0>) tensor([ 0.5704, -0.4758]) tensor([-1.6426,  1.6997], grad_fn=<CatBackward0>)\n",
      "torch.Size([50, 1])\n",
      "torch.Size([50, 1])\n",
      "23 tensor(0.1506, grad_fn=<MseLossBackward0>) tensor([ 0.5405, -0.3759]) tensor([-1.6483,  1.7044], grad_fn=<CatBackward0>)\n",
      "torch.Size([50, 1])\n",
      "torch.Size([50, 1])\n",
      "23 tensor(0.2058, grad_fn=<MseLossBackward0>) tensor([ 0.6204, -0.6750]) tensor([-1.6537,  1.7082], grad_fn=<CatBackward0>)\n",
      "torch.Size([50, 1])\n",
      "torch.Size([50, 1])\n",
      "24 tensor(0.1844, grad_fn=<MseLossBackward0>) tensor([ 0.7445, -0.4060]) tensor([-1.6599,  1.7149], grad_fn=<CatBackward0>)\n",
      "torch.Size([50, 1])\n",
      "torch.Size([50, 1])\n",
      "24 tensor(0.1509, grad_fn=<MseLossBackward0>) tensor([ 0.5307, -0.4453]) tensor([-1.6674,  1.7190], grad_fn=<CatBackward0>)\n",
      "torch.Size([50, 1])\n",
      "torch.Size([50, 1])\n",
      "24 tensor(0.1310, grad_fn=<MseLossBackward0>) tensor([ 0.5025, -0.3524]) tensor([-1.6727,  1.7235], grad_fn=<CatBackward0>)\n",
      "torch.Size([50, 1])\n",
      "torch.Size([50, 1])\n",
      "24 tensor(0.1792, grad_fn=<MseLossBackward0>) tensor([ 0.5776, -0.6313]) tensor([-1.6777,  1.7270], grad_fn=<CatBackward0>)\n",
      "torch.Size([50, 1])\n",
      "torch.Size([50, 1])\n",
      "25 tensor(0.1603, grad_fn=<MseLossBackward0>) tensor([ 0.6926, -0.3802]) tensor([-1.6835,  1.7333], grad_fn=<CatBackward0>)\n",
      "torch.Size([50, 1])\n",
      "torch.Size([50, 1])\n",
      "25 tensor(0.1313, grad_fn=<MseLossBackward0>) tensor([ 0.4938, -0.4168]) tensor([-1.6904,  1.7371], grad_fn=<CatBackward0>)\n",
      "torch.Size([50, 1])\n",
      "torch.Size([50, 1])\n",
      "25 tensor(0.1139, grad_fn=<MseLossBackward0>) tensor([ 0.4671, -0.3303]) tensor([-1.6954,  1.7413], grad_fn=<CatBackward0>)\n",
      "torch.Size([50, 1])\n",
      "torch.Size([50, 1])\n",
      "25 tensor(0.1560, grad_fn=<MseLossBackward0>) tensor([ 0.5378, -0.5903]) tensor([-1.7000,  1.7446], grad_fn=<CatBackward0>)\n",
      "torch.Size([50, 1])\n",
      "torch.Size([50, 1])\n",
      "26 tensor(0.1393, grad_fn=<MseLossBackward0>) tensor([ 0.6443, -0.3561]) tensor([-1.7054,  1.7505], grad_fn=<CatBackward0>)\n",
      "torch.Size([50, 1])\n",
      "torch.Size([50, 1])\n",
      "26 tensor(0.1142, grad_fn=<MseLossBackward0>) tensor([ 0.4595, -0.3901]) tensor([-1.7118,  1.7540], grad_fn=<CatBackward0>)\n",
      "torch.Size([50, 1])\n",
      "torch.Size([50, 1])\n",
      "26 tensor(0.0991, grad_fn=<MseLossBackward0>) tensor([ 0.4343, -0.3096]) tensor([-1.7164,  1.7579], grad_fn=<CatBackward0>)\n",
      "torch.Size([50, 1])\n",
      "torch.Size([50, 1])\n",
      "26 tensor(0.1358, grad_fn=<MseLossBackward0>) tensor([ 0.5008, -0.5521]) tensor([-1.7208,  1.7610], grad_fn=<CatBackward0>)\n",
      "torch.Size([50, 1])\n",
      "torch.Size([50, 1])\n",
      "27 tensor(0.1211, grad_fn=<MseLossBackward0>) tensor([ 0.5994, -0.3334]) tensor([-1.7258,  1.7666], grad_fn=<CatBackward0>)\n",
      "torch.Size([50, 1])\n",
      "torch.Size([50, 1])\n",
      "27 tensor(0.0994, grad_fn=<MseLossBackward0>) tensor([ 0.4276, -0.3651]) tensor([-1.7318,  1.7699], grad_fn=<CatBackward0>)\n",
      "torch.Size([50, 1])\n",
      "torch.Size([50, 1])\n",
      "27 tensor(0.0862, grad_fn=<MseLossBackward0>) tensor([ 0.4038, -0.2902]) tensor([-1.7361,  1.7735], grad_fn=<CatBackward0>)\n",
      "torch.Size([50, 1])\n",
      "torch.Size([50, 1])\n",
      "27 tensor(0.1183, grad_fn=<MseLossBackward0>) tensor([ 0.4663, -0.5162]) tensor([-1.7401,  1.7764], grad_fn=<CatBackward0>)\n",
      "torch.Size([50, 1])\n",
      "torch.Size([50, 1])\n",
      "28 tensor(0.1052, grad_fn=<MseLossBackward0>) tensor([ 0.5577, -0.3122]) tensor([-1.7448,  1.7816], grad_fn=<CatBackward0>)\n",
      "torch.Size([50, 1])\n",
      "torch.Size([50, 1])\n",
      "28 tensor(0.0865, grad_fn=<MseLossBackward0>) tensor([ 0.3979, -0.3417]) tensor([-1.7503,  1.7847], grad_fn=<CatBackward0>)\n",
      "torch.Size([50, 1])\n",
      "torch.Size([50, 1])\n",
      "28 tensor(0.0750, grad_fn=<MseLossBackward0>) tensor([ 0.3754, -0.2720]) tensor([-1.7543,  1.7881], grad_fn=<CatBackward0>)\n",
      "torch.Size([50, 1])\n",
      "torch.Size([50, 1])\n",
      "28 tensor(0.1030, grad_fn=<MseLossBackward0>) tensor([ 0.4342, -0.4827]) tensor([-1.7581,  1.7909], grad_fn=<CatBackward0>)\n",
      "torch.Size([50, 1])\n",
      "torch.Size([50, 1])\n",
      "29 tensor(0.0915, grad_fn=<MseLossBackward0>) tensor([ 0.5189, -0.2923]) tensor([-1.7624,  1.7957], grad_fn=<CatBackward0>)\n",
      "torch.Size([50, 1])\n",
      "torch.Size([50, 1])\n",
      "29 tensor(0.0753, grad_fn=<MseLossBackward0>) tensor([ 0.3703, -0.3198]) tensor([-1.7676,  1.7986], grad_fn=<CatBackward0>)\n",
      "torch.Size([50, 1])\n",
      "torch.Size([50, 1])\n",
      "29 tensor(0.0652, grad_fn=<MseLossBackward0>) tensor([ 0.3491, -0.2549]) tensor([-1.7713,  1.8018], grad_fn=<CatBackward0>)\n",
      "torch.Size([50, 1])\n",
      "torch.Size([50, 1])\n",
      "29 tensor(0.0896, grad_fn=<MseLossBackward0>) tensor([ 0.4043, -0.4514]) tensor([-1.7748,  1.8044], grad_fn=<CatBackward0>)\n",
      "torch.Size([50, 1])\n",
      "torch.Size([50, 1])\n",
      "30 tensor(0.0795, grad_fn=<MseLossBackward0>) tensor([ 0.4828, -0.2737]) tensor([-1.7788,  1.8089], grad_fn=<CatBackward0>)\n",
      "torch.Size([50, 1])\n",
      "torch.Size([50, 1])\n",
      "30 tensor(0.0655, grad_fn=<MseLossBackward0>) tensor([ 0.3446, -0.2993]) tensor([-1.7837,  1.8116], grad_fn=<CatBackward0>)\n",
      "torch.Size([50, 1])\n",
      "torch.Size([50, 1])\n",
      "30 tensor(0.0567, grad_fn=<MseLossBackward0>) tensor([ 0.3246, -0.2389]) tensor([-1.7871,  1.8146], grad_fn=<CatBackward0>)\n",
      "torch.Size([50, 1])\n",
      "torch.Size([50, 1])\n",
      "30 tensor(0.0780, grad_fn=<MseLossBackward0>) tensor([ 0.3765, -0.4221]) tensor([-1.7904,  1.8170], grad_fn=<CatBackward0>)\n",
      "torch.Size([50, 1])\n",
      "torch.Size([50, 1])\n",
      "31 tensor(0.0691, grad_fn=<MseLossBackward0>) tensor([ 0.4492, -0.2563]) tensor([-1.7941,  1.8212], grad_fn=<CatBackward0>)\n",
      "torch.Size([50, 1])\n",
      "torch.Size([50, 1])\n",
      "31 tensor(0.0570, grad_fn=<MseLossBackward0>) tensor([ 0.3207, -0.2800]) tensor([-1.7986,  1.8238], grad_fn=<CatBackward0>)\n",
      "torch.Size([50, 1])\n",
      "torch.Size([50, 1])\n",
      "31 tensor(0.0493, grad_fn=<MseLossBackward0>) tensor([ 0.3018, -0.2239]) tensor([-1.8018,  1.8266], grad_fn=<CatBackward0>)\n",
      "torch.Size([50, 1])\n",
      "torch.Size([50, 1])\n",
      "31 tensor(0.0680, grad_fn=<MseLossBackward0>) tensor([ 0.3506, -0.3946]) tensor([-1.8048,  1.8288], grad_fn=<CatBackward0>)\n",
      "torch.Size([50, 1])\n",
      "torch.Size([50, 1])\n",
      "32 tensor(0.0601, grad_fn=<MseLossBackward0>) tensor([ 0.4180, -0.2399]) tensor([-1.8083,  1.8328], grad_fn=<CatBackward0>)\n",
      "torch.Size([50, 1])\n",
      "torch.Size([50, 1])\n",
      "32 tensor(0.0496, grad_fn=<MseLossBackward0>) tensor([ 0.2985, -0.2620]) tensor([-1.8125,  1.8352], grad_fn=<CatBackward0>)\n",
      "torch.Size([50, 1])\n",
      "torch.Size([50, 1])\n",
      "32 tensor(0.0429, grad_fn=<MseLossBackward0>) tensor([ 0.2807, -0.2098]) tensor([-1.8155,  1.8378], grad_fn=<CatBackward0>)\n",
      "torch.Size([50, 1])\n",
      "torch.Size([50, 1])\n",
      "32 tensor(0.0592, grad_fn=<MseLossBackward0>) tensor([ 0.3265, -0.3690]) tensor([-1.8183,  1.8399], grad_fn=<CatBackward0>)\n",
      "torch.Size([50, 1])\n",
      "torch.Size([50, 1])\n",
      "33 tensor(0.0522, grad_fn=<MseLossBackward0>) tensor([ 0.3889, -0.2246]) tensor([-1.8216,  1.8436], grad_fn=<CatBackward0>)\n",
      "torch.Size([50, 1])\n",
      "torch.Size([50, 1])\n",
      "33 tensor(0.0432, grad_fn=<MseLossBackward0>) tensor([ 0.2778, -0.2452]) tensor([-1.8255,  1.8458], grad_fn=<CatBackward0>)\n",
      "torch.Size([50, 1])\n",
      "torch.Size([50, 1])\n",
      "33 tensor(0.0373, grad_fn=<MseLossBackward0>) tensor([ 0.2610, -0.1966]) tensor([-1.8283,  1.8483], grad_fn=<CatBackward0>)\n",
      "torch.Size([50, 1])\n",
      "torch.Size([50, 1])\n",
      "33 tensor(0.0515, grad_fn=<MseLossBackward0>) tensor([ 0.3041, -0.3450]) tensor([-1.8309,  1.8502], grad_fn=<CatBackward0>)\n",
      "torch.Size([50, 1])\n",
      "torch.Size([50, 1])\n",
      "34 tensor(0.0454, grad_fn=<MseLossBackward0>) tensor([ 0.3619, -0.2102]) tensor([-1.8339,  1.8537], grad_fn=<CatBackward0>)\n",
      "torch.Size([50, 1])\n",
      "torch.Size([50, 1])\n",
      "34 tensor(0.0376, grad_fn=<MseLossBackward0>) tensor([ 0.2586, -0.2294]) tensor([-1.8375,  1.8558], grad_fn=<CatBackward0>)\n",
      "torch.Size([50, 1])\n",
      "torch.Size([50, 1])\n",
      "34 tensor(0.0325, grad_fn=<MseLossBackward0>) tensor([ 0.2427, -0.1842]) tensor([-1.8401,  1.8581], grad_fn=<CatBackward0>)\n",
      "torch.Size([50, 1])\n",
      "torch.Size([50, 1])\n",
      "34 tensor(0.0449, grad_fn=<MseLossBackward0>) tensor([ 0.2832, -0.3225]) tensor([-1.8425,  1.8599], grad_fn=<CatBackward0>)\n",
      "torch.Size([50, 1])\n",
      "torch.Size([50, 1])\n",
      "35 tensor(0.0395, grad_fn=<MseLossBackward0>) tensor([ 0.3368, -0.1968]) tensor([-1.8454,  1.8631], grad_fn=<CatBackward0>)\n",
      "torch.Size([50, 1])\n",
      "torch.Size([50, 1])\n",
      "35 tensor(0.0327, grad_fn=<MseLossBackward0>) tensor([ 0.2407, -0.2147]) tensor([-1.8487,  1.8651], grad_fn=<CatBackward0>)\n",
      "torch.Size([50, 1])\n",
      "torch.Size([50, 1])\n",
      "35 tensor(0.0283, grad_fn=<MseLossBackward0>) tensor([ 0.2257, -0.1725]) tensor([-1.8511,  1.8673], grad_fn=<CatBackward0>)\n",
      "torch.Size([50, 1])\n",
      "torch.Size([50, 1])\n",
      "35 tensor(0.0391, grad_fn=<MseLossBackward0>) tensor([ 0.2637, -0.3015]) tensor([-1.8534,  1.8690], grad_fn=<CatBackward0>)\n",
      "torch.Size([50, 1])\n",
      "torch.Size([50, 1])\n",
      "36 tensor(0.0343, grad_fn=<MseLossBackward0>) tensor([ 0.3134, -0.1842]) tensor([-1.8560,  1.8720], grad_fn=<CatBackward0>)\n",
      "torch.Size([50, 1])\n",
      "torch.Size([50, 1])\n",
      "36 tensor(0.0285, grad_fn=<MseLossBackward0>) tensor([ 0.2240, -0.2008]) tensor([-1.8592,  1.8738], grad_fn=<CatBackward0>)\n",
      "torch.Size([50, 1])\n",
      "torch.Size([50, 1])\n",
      "36 tensor(0.0246, grad_fn=<MseLossBackward0>) tensor([ 0.2099, -0.1616]) tensor([-1.8614,  1.8758], grad_fn=<CatBackward0>)\n",
      "torch.Size([50, 1])\n",
      "torch.Size([50, 1])\n",
      "36 tensor(0.0340, grad_fn=<MseLossBackward0>) tensor([ 0.2456, -0.2819]) tensor([-1.8635,  1.8775], grad_fn=<CatBackward0>)\n",
      "torch.Size([50, 1])\n",
      "torch.Size([50, 1])\n",
      "37 tensor(0.0298, grad_fn=<MseLossBackward0>) tensor([ 0.2917, -0.1724]) tensor([-1.8660,  1.8803], grad_fn=<CatBackward0>)\n",
      "torch.Size([50, 1])\n",
      "torch.Size([50, 1])\n",
      "37 tensor(0.0248, grad_fn=<MseLossBackward0>) tensor([ 0.2085, -0.1879]) tensor([-1.8689,  1.8820], grad_fn=<CatBackward0>)\n",
      "torch.Size([50, 1])\n",
      "torch.Size([50, 1])\n",
      "37 tensor(0.0214, grad_fn=<MseLossBackward0>) tensor([ 0.1952, -0.1514]) tensor([-1.8710,  1.8839], grad_fn=<CatBackward0>)\n",
      "torch.Size([50, 1])\n",
      "torch.Size([50, 1])\n",
      "37 tensor(0.0296, grad_fn=<MseLossBackward0>) tensor([ 0.2288, -0.2635]) tensor([-1.8729,  1.8854], grad_fn=<CatBackward0>)\n",
      "torch.Size([50, 1])\n",
      "torch.Size([50, 1])\n",
      "38 tensor(0.0259, grad_fn=<MseLossBackward0>) tensor([ 0.2714, -0.1613]) tensor([-1.8752,  1.8880], grad_fn=<CatBackward0>)\n",
      "torch.Size([50, 1])\n",
      "torch.Size([50, 1])\n",
      "38 tensor(0.0216, grad_fn=<MseLossBackward0>) tensor([ 0.1941, -0.1758]) tensor([-1.8779,  1.8897], grad_fn=<CatBackward0>)\n",
      "torch.Size([50, 1])\n",
      "torch.Size([50, 1])\n",
      "38 tensor(0.0186, grad_fn=<MseLossBackward0>) tensor([ 0.1815, -0.1419]) tensor([-1.8799,  1.8914], grad_fn=<CatBackward0>)\n",
      "torch.Size([50, 1])\n",
      "torch.Size([50, 1])\n",
      "38 tensor(0.0258, grad_fn=<MseLossBackward0>) tensor([ 0.2131, -0.2463]) tensor([-1.8817,  1.8928], grad_fn=<CatBackward0>)\n",
      "torch.Size([50, 1])\n",
      "torch.Size([50, 1])\n",
      "39 tensor(0.0226, grad_fn=<MseLossBackward0>) tensor([ 0.2526, -0.1509]) tensor([-1.8838,  1.8953], grad_fn=<CatBackward0>)\n",
      "torch.Size([50, 1])\n",
      "torch.Size([50, 1])\n"
     ]
    },
    {
     "name": "stdout",
     "output_type": "stream",
     "text": [
      "39 tensor(0.0188, grad_fn=<MseLossBackward0>) tensor([ 0.1807, -0.1645]) tensor([-1.8863,  1.8968], grad_fn=<CatBackward0>)\n",
      "torch.Size([50, 1])\n",
      "torch.Size([50, 1])\n",
      "39 tensor(0.0162, grad_fn=<MseLossBackward0>) tensor([ 0.1688, -0.1329]) tensor([-1.8881,  1.8984], grad_fn=<CatBackward0>)\n",
      "torch.Size([50, 1])\n",
      "torch.Size([50, 1])\n",
      "39 tensor(0.0224, grad_fn=<MseLossBackward0>) tensor([ 0.1984, -0.2303]) tensor([-1.8898,  1.8998], grad_fn=<CatBackward0>)\n",
      "torch.Size([50, 1])\n",
      "torch.Size([50, 1])\n",
      "40 tensor(0.0196, grad_fn=<MseLossBackward0>) tensor([ 0.2351, -0.1412]) tensor([-1.8918,  1.9021], grad_fn=<CatBackward0>)\n",
      "torch.Size([50, 1])\n",
      "torch.Size([50, 1])\n",
      "40 tensor(0.0163, grad_fn=<MseLossBackward0>) tensor([ 0.1682, -0.1539]) tensor([-1.8942,  1.9035], grad_fn=<CatBackward0>)\n",
      "torch.Size([50, 1])\n",
      "torch.Size([50, 1])\n",
      "40 tensor(0.0141, grad_fn=<MseLossBackward0>) tensor([ 0.1570, -0.1245]) tensor([-1.8959,  1.9050], grad_fn=<CatBackward0>)\n",
      "torch.Size([50, 1])\n",
      "torch.Size([50, 1])\n",
      "40 tensor(0.0195, grad_fn=<MseLossBackward0>) tensor([ 0.1848, -0.2153]) tensor([-1.8974,  1.9063], grad_fn=<CatBackward0>)\n",
      "torch.Size([50, 1])\n",
      "torch.Size([50, 1])\n",
      "41 tensor(0.0171, grad_fn=<MseLossBackward0>) tensor([ 0.2188, -0.1322]) tensor([-1.8993,  1.9084], grad_fn=<CatBackward0>)\n",
      "torch.Size([50, 1])\n",
      "torch.Size([50, 1])\n",
      "41 tensor(0.0142, grad_fn=<MseLossBackward0>) tensor([ 0.1566, -0.1439]) tensor([-1.9015,  1.9097], grad_fn=<CatBackward0>)\n",
      "torch.Size([50, 1])\n",
      "torch.Size([50, 1])\n",
      "41 tensor(0.0123, grad_fn=<MseLossBackward0>) tensor([ 0.1461, -0.1166]) tensor([-1.9030,  1.9112], grad_fn=<CatBackward0>)\n",
      "torch.Size([50, 1])\n",
      "torch.Size([50, 1])\n",
      "41 tensor(0.0170, grad_fn=<MseLossBackward0>) tensor([ 0.1721, -0.2012]) tensor([-1.9045,  1.9124], grad_fn=<CatBackward0>)\n",
      "torch.Size([50, 1])\n",
      "torch.Size([50, 1])\n",
      "42 tensor(0.0148, grad_fn=<MseLossBackward0>) tensor([ 0.2037, -0.1237]) tensor([-1.9062,  1.9144], grad_fn=<CatBackward0>)\n",
      "torch.Size([50, 1])\n",
      "torch.Size([50, 1])\n",
      "42 tensor(0.0124, grad_fn=<MseLossBackward0>) tensor([ 0.1458, -0.1346]) tensor([-1.9082,  1.9156], grad_fn=<CatBackward0>)\n",
      "torch.Size([50, 1])\n",
      "torch.Size([50, 1])\n",
      "42 tensor(0.0107, grad_fn=<MseLossBackward0>) tensor([ 0.1358, -0.1092]) tensor([-1.9097,  1.9169], grad_fn=<CatBackward0>)\n",
      "torch.Size([50, 1])\n",
      "torch.Size([50, 1])\n",
      "42 tensor(0.0148, grad_fn=<MseLossBackward0>) tensor([ 0.1603, -0.1881]) tensor([-1.9111,  1.9180], grad_fn=<CatBackward0>)\n",
      "torch.Size([50, 1])\n",
      "torch.Size([50, 1])\n",
      "43 tensor(0.0129, grad_fn=<MseLossBackward0>) tensor([ 0.1896, -0.1157]) tensor([-1.9127,  1.9199], grad_fn=<CatBackward0>)\n",
      "torch.Size([50, 1])\n",
      "torch.Size([50, 1])\n",
      "43 tensor(0.0108, grad_fn=<MseLossBackward0>) tensor([ 0.1357, -0.1259]) tensor([-1.9146,  1.9211], grad_fn=<CatBackward0>)\n",
      "torch.Size([50, 1])\n",
      "torch.Size([50, 1])\n",
      "43 tensor(0.0093, grad_fn=<MseLossBackward0>) tensor([ 0.1264, -0.1023]) tensor([-1.9159,  1.9223], grad_fn=<CatBackward0>)\n",
      "torch.Size([50, 1])\n",
      "torch.Size([50, 1])\n",
      "43 tensor(0.0129, grad_fn=<MseLossBackward0>) tensor([ 0.1493, -0.1758]) tensor([-1.9172,  1.9234], grad_fn=<CatBackward0>)\n",
      "torch.Size([50, 1])\n",
      "torch.Size([50, 1])\n",
      "44 tensor(0.0112, grad_fn=<MseLossBackward0>) tensor([ 0.1765, -0.1082]) tensor([-1.9187,  1.9251], grad_fn=<CatBackward0>)\n",
      "torch.Size([50, 1])\n",
      "torch.Size([50, 1])\n",
      "44 tensor(0.0094, grad_fn=<MseLossBackward0>) tensor([ 0.1264, -0.1178]) tensor([-1.9204,  1.9262], grad_fn=<CatBackward0>)\n",
      "torch.Size([50, 1])\n",
      "torch.Size([50, 1])\n",
      "44 tensor(0.0081, grad_fn=<MseLossBackward0>) tensor([ 0.1175, -0.0958]) tensor([-1.9217,  1.9274], grad_fn=<CatBackward0>)\n",
      "torch.Size([50, 1])\n",
      "torch.Size([50, 1])\n",
      "44 tensor(0.0112, grad_fn=<MseLossBackward0>) tensor([ 0.1391, -0.1643]) tensor([-1.9229,  1.9283], grad_fn=<CatBackward0>)\n",
      "torch.Size([50, 1])\n",
      "torch.Size([50, 1])\n",
      "45 tensor(0.0098, grad_fn=<MseLossBackward0>) tensor([ 0.1643, -0.1012]) tensor([-1.9243,  1.9300], grad_fn=<CatBackward0>)\n",
      "torch.Size([50, 1])\n",
      "torch.Size([50, 1])\n",
      "45 tensor(0.0082, grad_fn=<MseLossBackward0>) tensor([ 0.1177, -0.1102]) tensor([-1.9259,  1.9310], grad_fn=<CatBackward0>)\n",
      "torch.Size([50, 1])\n",
      "torch.Size([50, 1])\n",
      "45 tensor(0.0070, grad_fn=<MseLossBackward0>) tensor([ 0.1093, -0.0897]) tensor([-1.9271,  1.9321], grad_fn=<CatBackward0>)\n",
      "torch.Size([50, 1])\n",
      "torch.Size([50, 1])\n",
      "45 tensor(0.0098, grad_fn=<MseLossBackward0>) tensor([ 0.1296, -0.1536]) tensor([-1.9282,  1.9330], grad_fn=<CatBackward0>)\n",
      "torch.Size([50, 1])\n",
      "torch.Size([50, 1])\n",
      "46 tensor(0.0085, grad_fn=<MseLossBackward0>) tensor([ 0.1529, -0.0947]) tensor([-1.9295,  1.9345], grad_fn=<CatBackward0>)\n",
      "torch.Size([50, 1])\n",
      "torch.Size([50, 1])\n",
      "46 tensor(0.0071, grad_fn=<MseLossBackward0>) tensor([ 0.1096, -0.1031]) tensor([-1.9310,  1.9355], grad_fn=<CatBackward0>)\n",
      "torch.Size([50, 1])\n",
      "torch.Size([50, 1])\n",
      "46 tensor(0.0061, grad_fn=<MseLossBackward0>) tensor([ 0.1017, -0.0840]) tensor([-1.9321,  1.9365], grad_fn=<CatBackward0>)\n",
      "torch.Size([50, 1])\n",
      "torch.Size([50, 1])\n",
      "46 tensor(0.0085, grad_fn=<MseLossBackward0>) tensor([ 0.1207, -0.1435]) tensor([-1.9331,  1.9373], grad_fn=<CatBackward0>)\n",
      "torch.Size([50, 1])\n",
      "torch.Size([50, 1])\n",
      "47 tensor(0.0074, grad_fn=<MseLossBackward0>) tensor([ 0.1424, -0.0886]) tensor([-1.9343,  1.9388], grad_fn=<CatBackward0>)\n",
      "torch.Size([50, 1])\n",
      "torch.Size([50, 1])\n",
      "47 tensor(0.0062, grad_fn=<MseLossBackward0>) tensor([ 0.1020, -0.0964]) tensor([-1.9357,  1.9397], grad_fn=<CatBackward0>)\n",
      "torch.Size([50, 1])\n",
      "torch.Size([50, 1])\n",
      "47 tensor(0.0053, grad_fn=<MseLossBackward0>) tensor([ 0.0946, -0.0787]) tensor([-1.9368,  1.9406], grad_fn=<CatBackward0>)\n",
      "torch.Size([50, 1])\n",
      "torch.Size([50, 1])\n",
      "47 tensor(0.0074, grad_fn=<MseLossBackward0>) tensor([ 0.1124, -0.1342]) tensor([-1.9377,  1.9414], grad_fn=<CatBackward0>)\n",
      "torch.Size([50, 1])\n",
      "torch.Size([50, 1])\n",
      "48 tensor(0.0064, grad_fn=<MseLossBackward0>) tensor([ 0.1325, -0.0829]) tensor([-1.9388,  1.9428], grad_fn=<CatBackward0>)\n",
      "torch.Size([50, 1])\n",
      "torch.Size([50, 1])\n",
      "48 tensor(0.0054, grad_fn=<MseLossBackward0>) tensor([ 0.0950, -0.0902]) tensor([-1.9402,  1.9436], grad_fn=<CatBackward0>)\n",
      "torch.Size([50, 1])\n",
      "torch.Size([50, 1])\n",
      "48 tensor(0.0046, grad_fn=<MseLossBackward0>) tensor([ 0.0880, -0.0737]) tensor([-1.9411,  1.9445], grad_fn=<CatBackward0>)\n",
      "torch.Size([50, 1])\n",
      "torch.Size([50, 1])\n",
      "48 tensor(0.0065, grad_fn=<MseLossBackward0>) tensor([ 0.1047, -0.1254]) tensor([-1.9420,  1.9452], grad_fn=<CatBackward0>)\n",
      "torch.Size([50, 1])\n",
      "torch.Size([50, 1])\n",
      "49 tensor(0.0056, grad_fn=<MseLossBackward0>) tensor([ 0.1234, -0.0775]) tensor([-1.9430,  1.9465], grad_fn=<CatBackward0>)\n",
      "torch.Size([50, 1])\n",
      "torch.Size([50, 1])\n",
      "49 tensor(0.0047, grad_fn=<MseLossBackward0>) tensor([ 0.0884, -0.0843]) tensor([-1.9443,  1.9473], grad_fn=<CatBackward0>)\n",
      "torch.Size([50, 1])\n",
      "torch.Size([50, 1])\n",
      "49 tensor(0.0040, grad_fn=<MseLossBackward0>) tensor([ 0.0819, -0.0690]) tensor([-1.9452,  1.9481], grad_fn=<CatBackward0>)\n",
      "torch.Size([50, 1])\n",
      "torch.Size([50, 1])\n",
      "49 tensor(0.0056, grad_fn=<MseLossBackward0>) tensor([ 0.0976, -0.1172]) tensor([-1.9460,  1.9488], grad_fn=<CatBackward0>)\n",
      "torch.Size([50, 1])\n",
      "torch.Size([50, 1])\n",
      "50 tensor(0.0049, grad_fn=<MseLossBackward0>) tensor([ 0.1149, -0.0725]) tensor([-1.9470,  1.9500], grad_fn=<CatBackward0>)\n",
      "torch.Size([50, 1])\n",
      "torch.Size([50, 1])\n",
      "50 tensor(0.0041, grad_fn=<MseLossBackward0>) tensor([ 0.0824, -0.0789]) tensor([-1.9481,  1.9507], grad_fn=<CatBackward0>)\n",
      "torch.Size([50, 1])\n",
      "torch.Size([50, 1])\n",
      "50 tensor(0.0035, grad_fn=<MseLossBackward0>) tensor([ 0.0761, -0.0646]) tensor([-1.9489,  1.9515], grad_fn=<CatBackward0>)\n",
      "torch.Size([50, 1])\n",
      "torch.Size([50, 1])\n",
      "50 tensor(0.0049, grad_fn=<MseLossBackward0>) tensor([ 0.0909, -0.1095]) tensor([-1.9497,  1.9521], grad_fn=<CatBackward0>)\n",
      "torch.Size([50, 1])\n",
      "torch.Size([50, 1])\n",
      "51 tensor(0.0042, grad_fn=<MseLossBackward0>) tensor([ 0.1069, -0.0678]) tensor([-1.9506,  1.9532], grad_fn=<CatBackward0>)\n",
      "torch.Size([50, 1])\n",
      "torch.Size([50, 1])\n",
      "51 tensor(0.0036, grad_fn=<MseLossBackward0>) tensor([ 0.0767, -0.0738]) tensor([-1.9517,  1.9539], grad_fn=<CatBackward0>)\n",
      "torch.Size([50, 1])\n",
      "torch.Size([50, 1])\n",
      "51 tensor(0.0031, grad_fn=<MseLossBackward0>) tensor([ 0.0708, -0.0605]) tensor([-1.9524,  1.9546], grad_fn=<CatBackward0>)\n",
      "torch.Size([50, 1])\n",
      "torch.Size([50, 1])\n",
      "51 tensor(0.0043, grad_fn=<MseLossBackward0>) tensor([ 0.0847, -0.1023]) tensor([-1.9531,  1.9552], grad_fn=<CatBackward0>)\n",
      "torch.Size([50, 1])\n",
      "torch.Size([50, 1])\n",
      "52 tensor(0.0037, grad_fn=<MseLossBackward0>) tensor([ 0.0996, -0.0634]) tensor([-1.9540,  1.9563], grad_fn=<CatBackward0>)\n",
      "torch.Size([50, 1])\n",
      "torch.Size([50, 1])\n",
      "52 tensor(0.0031, grad_fn=<MseLossBackward0>) tensor([ 0.0714, -0.0690]) tensor([-1.9550,  1.9569], grad_fn=<CatBackward0>)\n",
      "torch.Size([50, 1])\n",
      "torch.Size([50, 1])\n",
      "52 tensor(0.0027, grad_fn=<MseLossBackward0>) tensor([ 0.0659, -0.0567]) tensor([-1.9557,  1.9576], grad_fn=<CatBackward0>)\n",
      "torch.Size([50, 1])\n",
      "torch.Size([50, 1])\n",
      "52 tensor(0.0037, grad_fn=<MseLossBackward0>) tensor([ 0.0789, -0.0956]) tensor([-1.9564,  1.9581], grad_fn=<CatBackward0>)\n",
      "torch.Size([50, 1])\n",
      "torch.Size([50, 1])\n",
      "53 tensor(0.0032, grad_fn=<MseLossBackward0>) tensor([ 0.0927, -0.0592]) tensor([-1.9571,  1.9591], grad_fn=<CatBackward0>)\n",
      "torch.Size([50, 1])\n",
      "torch.Size([50, 1])\n",
      "53 tensor(0.0027, grad_fn=<MseLossBackward0>) tensor([ 0.0665, -0.0645]) tensor([-1.9581,  1.9597], grad_fn=<CatBackward0>)\n",
      "torch.Size([50, 1])\n",
      "torch.Size([50, 1])\n",
      "53 tensor(0.0023, grad_fn=<MseLossBackward0>) tensor([ 0.0613, -0.0531]) tensor([-1.9587,  1.9603], grad_fn=<CatBackward0>)\n",
      "torch.Size([50, 1])\n",
      "torch.Size([50, 1])\n",
      "53 tensor(0.0032, grad_fn=<MseLossBackward0>) tensor([ 0.0735, -0.0894]) tensor([-1.9593,  1.9609], grad_fn=<CatBackward0>)\n",
      "torch.Size([50, 1])\n",
      "torch.Size([50, 1])\n",
      "54 tensor(0.0028, grad_fn=<MseLossBackward0>) tensor([ 0.0863, -0.0554]) tensor([-1.9601,  1.9618], grad_fn=<CatBackward0>)\n",
      "torch.Size([50, 1])\n",
      "torch.Size([50, 1])\n",
      "54 tensor(0.0024, grad_fn=<MseLossBackward0>) tensor([ 0.0619, -0.0603]) tensor([-1.9609,  1.9623], grad_fn=<CatBackward0>)\n",
      "torch.Size([50, 1])\n",
      "torch.Size([50, 1])\n",
      "54 tensor(0.0020, grad_fn=<MseLossBackward0>) tensor([ 0.0570, -0.0497]) tensor([-1.9616,  1.9629], grad_fn=<CatBackward0>)\n",
      "torch.Size([50, 1])\n",
      "torch.Size([50, 1])\n",
      "54 tensor(0.0028, grad_fn=<MseLossBackward0>) tensor([ 0.0684, -0.0835]) tensor([-1.9621,  1.9634], grad_fn=<CatBackward0>)\n",
      "torch.Size([50, 1])\n",
      "torch.Size([50, 1])\n",
      "55 tensor(0.0024, grad_fn=<MseLossBackward0>) tensor([ 0.0804, -0.0518]) tensor([-1.9628,  1.9643], grad_fn=<CatBackward0>)\n",
      "torch.Size([50, 1])\n",
      "torch.Size([50, 1])\n",
      "55 tensor(0.0020, grad_fn=<MseLossBackward0>) tensor([ 0.0577, -0.0564]) tensor([-1.9636,  1.9648], grad_fn=<CatBackward0>)\n",
      "torch.Size([50, 1])\n",
      "torch.Size([50, 1])\n",
      "55 tensor(0.0018, grad_fn=<MseLossBackward0>) tensor([ 0.0531, -0.0465]) tensor([-1.9642,  1.9653], grad_fn=<CatBackward0>)\n",
      "torch.Size([50, 1])\n",
      "torch.Size([50, 1])\n",
      "55 tensor(0.0025, grad_fn=<MseLossBackward0>) tensor([ 0.0638, -0.0780]) tensor([-1.9647,  1.9658], grad_fn=<CatBackward0>)\n",
      "torch.Size([50, 1])\n",
      "torch.Size([50, 1])\n",
      "56 tensor(0.0021, grad_fn=<MseLossBackward0>) tensor([ 0.0748, -0.0484]) tensor([-1.9654,  1.9666], grad_fn=<CatBackward0>)\n",
      "torch.Size([50, 1])\n",
      "torch.Size([50, 1])\n",
      "56 tensor(0.0018, grad_fn=<MseLossBackward0>) tensor([ 0.0537, -0.0528]) tensor([-1.9661,  1.9671], grad_fn=<CatBackward0>)\n",
      "torch.Size([50, 1])\n",
      "torch.Size([50, 1])\n",
      "56 tensor(0.0015, grad_fn=<MseLossBackward0>) tensor([ 0.0494, -0.0436]) tensor([-1.9667,  1.9676], grad_fn=<CatBackward0>)\n",
      "torch.Size([50, 1])\n",
      "torch.Size([50, 1])\n",
      "56 tensor(0.0021, grad_fn=<MseLossBackward0>) tensor([ 0.0594, -0.0729]) tensor([-1.9671,  1.9680], grad_fn=<CatBackward0>)\n",
      "torch.Size([50, 1])\n",
      "torch.Size([50, 1])\n",
      "57 tensor(0.0018, grad_fn=<MseLossBackward0>) tensor([ 0.0697, -0.0452]) tensor([-1.9677,  1.9688], grad_fn=<CatBackward0>)\n",
      "torch.Size([50, 1])\n",
      "torch.Size([50, 1])\n",
      "57 tensor(0.0016, grad_fn=<MseLossBackward0>) tensor([ 0.0500, -0.0494]) tensor([-1.9684,  1.9692], grad_fn=<CatBackward0>)\n",
      "torch.Size([50, 1])\n",
      "torch.Size([50, 1])\n",
      "57 tensor(0.0013, grad_fn=<MseLossBackward0>) tensor([ 0.0459, -0.0408]) tensor([-1.9689,  1.9697], grad_fn=<CatBackward0>)\n",
      "torch.Size([50, 1])\n",
      "torch.Size([50, 1])\n",
      "57 tensor(0.0019, grad_fn=<MseLossBackward0>) tensor([ 0.0553, -0.0681]) tensor([-1.9694,  1.9701], grad_fn=<CatBackward0>)\n",
      "torch.Size([50, 1])\n",
      "torch.Size([50, 1])\n",
      "58 tensor(0.0016, grad_fn=<MseLossBackward0>) tensor([ 0.0649, -0.0423]) tensor([-1.9700,  1.9708], grad_fn=<CatBackward0>)\n",
      "torch.Size([50, 1])\n",
      "torch.Size([50, 1])\n",
      "58 tensor(0.0014, grad_fn=<MseLossBackward0>) tensor([ 0.0466, -0.0462]) tensor([-1.9706,  1.9712], grad_fn=<CatBackward0>)\n",
      "torch.Size([50, 1])\n",
      "torch.Size([50, 1])\n",
      "58 tensor(0.0012, grad_fn=<MseLossBackward0>) tensor([ 0.0427, -0.0382]) tensor([-1.9711,  1.9717], grad_fn=<CatBackward0>)\n",
      "torch.Size([50, 1])\n",
      "torch.Size([50, 1])\n",
      "58 tensor(0.0016, grad_fn=<MseLossBackward0>) tensor([ 0.0515, -0.0636]) tensor([-1.9715,  1.9721], grad_fn=<CatBackward0>)\n",
      "torch.Size([50, 1])\n",
      "torch.Size([50, 1])\n",
      "59 tensor(0.0014, grad_fn=<MseLossBackward0>) tensor([ 0.0604, -0.0395]) tensor([-1.9720,  1.9727], grad_fn=<CatBackward0>)\n",
      "torch.Size([50, 1])\n",
      "torch.Size([50, 1])\n"
     ]
    },
    {
     "name": "stdout",
     "output_type": "stream",
     "text": [
      "59 tensor(0.0012, grad_fn=<MseLossBackward0>) tensor([ 0.0434, -0.0432]) tensor([-1.9726,  1.9731], grad_fn=<CatBackward0>)\n",
      "torch.Size([50, 1])\n",
      "torch.Size([50, 1])\n",
      "59 tensor(0.0010, grad_fn=<MseLossBackward0>) tensor([ 0.0397, -0.0358]) tensor([-1.9730,  1.9735], grad_fn=<CatBackward0>)\n",
      "torch.Size([50, 1])\n",
      "torch.Size([50, 1])\n",
      "59 tensor(0.0014, grad_fn=<MseLossBackward0>) tensor([ 0.0480, -0.0595]) tensor([-1.9734,  1.9739], grad_fn=<CatBackward0>)\n",
      "torch.Size([50, 1])\n",
      "torch.Size([50, 1])\n",
      "60 tensor(0.0012, grad_fn=<MseLossBackward0>) tensor([ 0.0563, -0.0369]) tensor([-1.9739,  1.9745], grad_fn=<CatBackward0>)\n",
      "torch.Size([50, 1])\n",
      "torch.Size([50, 1])\n",
      "60 tensor(0.0010, grad_fn=<MseLossBackward0>) tensor([ 0.0405, -0.0404]) tensor([-1.9745,  1.9748], grad_fn=<CatBackward0>)\n",
      "torch.Size([50, 1])\n",
      "torch.Size([50, 1])\n",
      "60 tensor(0.0009, grad_fn=<MseLossBackward0>) tensor([ 0.0370, -0.0335]) tensor([-1.9749,  1.9752], grad_fn=<CatBackward0>)\n",
      "torch.Size([50, 1])\n",
      "torch.Size([50, 1])\n",
      "60 tensor(0.0012, grad_fn=<MseLossBackward0>) tensor([ 0.0447, -0.0555]) tensor([-1.9753,  1.9756], grad_fn=<CatBackward0>)\n",
      "torch.Size([50, 1])\n",
      "torch.Size([50, 1])\n",
      "61 tensor(0.0010, grad_fn=<MseLossBackward0>) tensor([ 0.0524, -0.0345]) tensor([-1.9757,  1.9761], grad_fn=<CatBackward0>)\n",
      "torch.Size([50, 1])\n",
      "torch.Size([50, 1])\n",
      "61 tensor(0.0009, grad_fn=<MseLossBackward0>) tensor([ 0.0377, -0.0378]) tensor([-1.9762,  1.9765], grad_fn=<CatBackward0>)\n",
      "torch.Size([50, 1])\n",
      "torch.Size([50, 1])\n",
      "61 tensor(0.0008, grad_fn=<MseLossBackward0>) tensor([ 0.0344, -0.0314]) tensor([-1.9766,  1.9769], grad_fn=<CatBackward0>)\n",
      "torch.Size([50, 1])\n",
      "torch.Size([50, 1])\n",
      "61 tensor(0.0011, grad_fn=<MseLossBackward0>) tensor([ 0.0417, -0.0519]) tensor([-1.9770,  1.9772], grad_fn=<CatBackward0>)\n",
      "torch.Size([50, 1])\n",
      "torch.Size([50, 1])\n",
      "62 tensor(0.0009, grad_fn=<MseLossBackward0>) tensor([ 0.0488, -0.0322]) tensor([-1.9774,  1.9777], grad_fn=<CatBackward0>)\n",
      "torch.Size([50, 1])\n",
      "torch.Size([50, 1])\n",
      "62 tensor(0.0008, grad_fn=<MseLossBackward0>) tensor([ 0.0351, -0.0353]) tensor([-1.9779,  1.9780], grad_fn=<CatBackward0>)\n",
      "torch.Size([50, 1])\n",
      "torch.Size([50, 1])\n",
      "62 tensor(0.0007, grad_fn=<MseLossBackward0>) tensor([ 0.0320, -0.0294]) tensor([-1.9782,  1.9784], grad_fn=<CatBackward0>)\n",
      "torch.Size([50, 1])\n",
      "torch.Size([50, 1])\n",
      "62 tensor(0.0009, grad_fn=<MseLossBackward0>) tensor([ 0.0388, -0.0485]) tensor([-1.9785,  1.9787], grad_fn=<CatBackward0>)\n",
      "torch.Size([50, 1])\n",
      "torch.Size([50, 1])\n",
      "63 tensor(0.0008, grad_fn=<MseLossBackward0>) tensor([ 0.0455, -0.0301]) tensor([-1.9789,  1.9791], grad_fn=<CatBackward0>)\n",
      "torch.Size([50, 1])\n",
      "torch.Size([50, 1])\n",
      "63 tensor(0.0007, grad_fn=<MseLossBackward0>) tensor([ 0.0327, -0.0330]) tensor([-1.9794,  1.9795], grad_fn=<CatBackward0>)\n",
      "torch.Size([50, 1])\n",
      "torch.Size([50, 1])\n",
      "63 tensor(0.0006, grad_fn=<MseLossBackward0>) tensor([ 0.0298, -0.0275]) tensor([-1.9797,  1.9798], grad_fn=<CatBackward0>)\n",
      "torch.Size([50, 1])\n",
      "torch.Size([50, 1])\n",
      "63 tensor(0.0008, grad_fn=<MseLossBackward0>) tensor([ 0.0362, -0.0453]) tensor([-1.9800,  1.9801], grad_fn=<CatBackward0>)\n",
      "torch.Size([50, 1])\n",
      "torch.Size([50, 1])\n",
      "64 tensor(0.0007, grad_fn=<MseLossBackward0>) tensor([ 0.0424, -0.0281]) tensor([-1.9804,  1.9805], grad_fn=<CatBackward0>)\n",
      "torch.Size([50, 1])\n",
      "torch.Size([50, 1])\n",
      "64 tensor(0.0006, grad_fn=<MseLossBackward0>) tensor([ 0.0305, -0.0309]) tensor([-1.9808,  1.9808], grad_fn=<CatBackward0>)\n",
      "torch.Size([50, 1])\n",
      "torch.Size([50, 1])\n",
      "64 tensor(0.0005, grad_fn=<MseLossBackward0>) tensor([ 0.0277, -0.0258]) tensor([-1.9811,  1.9811], grad_fn=<CatBackward0>)\n",
      "torch.Size([50, 1])\n",
      "torch.Size([50, 1])\n",
      "64 tensor(0.0007, grad_fn=<MseLossBackward0>) tensor([ 0.0337, -0.0423]) tensor([-1.9814,  1.9814], grad_fn=<CatBackward0>)\n",
      "torch.Size([50, 1])\n",
      "torch.Size([50, 1])\n",
      "65 tensor(0.0006, grad_fn=<MseLossBackward0>) tensor([ 0.0395, -0.0263]) tensor([-1.9817,  1.9818], grad_fn=<CatBackward0>)\n",
      "torch.Size([50, 1])\n",
      "torch.Size([50, 1])\n",
      "65 tensor(0.0005, grad_fn=<MseLossBackward0>) tensor([ 0.0284, -0.0289]) tensor([-1.9821,  1.9820], grad_fn=<CatBackward0>)\n",
      "torch.Size([50, 1])\n",
      "torch.Size([50, 1])\n",
      "65 tensor(0.0004, grad_fn=<MseLossBackward0>) tensor([ 0.0258, -0.0242]) tensor([-1.9824,  1.9823], grad_fn=<CatBackward0>)\n",
      "torch.Size([50, 1])\n",
      "torch.Size([50, 1])\n",
      "65 tensor(0.0006, grad_fn=<MseLossBackward0>) tensor([ 0.0314, -0.0395]) tensor([-1.9826,  1.9826], grad_fn=<CatBackward0>)\n",
      "torch.Size([50, 1])\n",
      "torch.Size([50, 1])\n",
      "66 tensor(0.0005, grad_fn=<MseLossBackward0>) tensor([ 0.0368, -0.0245]) tensor([-1.9830,  1.9830], grad_fn=<CatBackward0>)\n",
      "torch.Size([50, 1])\n",
      "torch.Size([50, 1])\n",
      "66 tensor(0.0005, grad_fn=<MseLossBackward0>) tensor([ 0.0265, -0.0270]) tensor([-1.9833,  1.9832], grad_fn=<CatBackward0>)\n",
      "torch.Size([50, 1])\n",
      "torch.Size([50, 1])\n",
      "66 tensor(0.0004, grad_fn=<MseLossBackward0>) tensor([ 0.0240, -0.0226]) tensor([-1.9836,  1.9835], grad_fn=<CatBackward0>)\n",
      "torch.Size([50, 1])\n",
      "torch.Size([50, 1])\n",
      "66 tensor(0.0005, grad_fn=<MseLossBackward0>) tensor([ 0.0293, -0.0369]) tensor([-1.9838,  1.9837], grad_fn=<CatBackward0>)\n",
      "torch.Size([50, 1])\n",
      "torch.Size([50, 1])\n",
      "67 tensor(0.0005, grad_fn=<MseLossBackward0>) tensor([ 0.0342, -0.0229]) tensor([-1.9841,  1.9841], grad_fn=<CatBackward0>)\n",
      "torch.Size([50, 1])\n",
      "torch.Size([50, 1])\n",
      "67 tensor(0.0004, grad_fn=<MseLossBackward0>) tensor([ 0.0246, -0.0253]) tensor([-1.9845,  1.9843], grad_fn=<CatBackward0>)\n",
      "torch.Size([50, 1])\n",
      "torch.Size([50, 1])\n",
      "67 tensor(0.0003, grad_fn=<MseLossBackward0>) tensor([ 0.0223, -0.0212]) tensor([-1.9847,  1.9846], grad_fn=<CatBackward0>)\n",
      "torch.Size([50, 1])\n",
      "torch.Size([50, 1])\n",
      "67 tensor(0.0005, grad_fn=<MseLossBackward0>) tensor([ 0.0273, -0.0345]) tensor([-1.9849,  1.9848], grad_fn=<CatBackward0>)\n",
      "torch.Size([50, 1])\n",
      "torch.Size([50, 1])\n",
      "68 tensor(0.0004, grad_fn=<MseLossBackward0>) tensor([ 0.0319, -0.0214]) tensor([-1.9852,  1.9851], grad_fn=<CatBackward0>)\n",
      "torch.Size([50, 1])\n",
      "torch.Size([50, 1])\n",
      "68 tensor(0.0003, grad_fn=<MseLossBackward0>) tensor([ 0.0230, -0.0236]) tensor([-1.9855,  1.9853], grad_fn=<CatBackward0>)\n",
      "torch.Size([50, 1])\n",
      "torch.Size([50, 1])\n",
      "68 tensor(0.0003, grad_fn=<MseLossBackward0>) tensor([ 0.0207, -0.0199]) tensor([-1.9858,  1.9856], grad_fn=<CatBackward0>)\n",
      "torch.Size([50, 1])\n",
      "torch.Size([50, 1])\n",
      "68 tensor(0.0004, grad_fn=<MseLossBackward0>) tensor([ 0.0254, -0.0322]) tensor([-1.9860,  1.9858], grad_fn=<CatBackward0>)\n",
      "torch.Size([50, 1])\n",
      "torch.Size([50, 1])\n",
      "69 tensor(0.0003, grad_fn=<MseLossBackward0>) tensor([ 0.0297, -0.0200]) tensor([-1.9862,  1.9861], grad_fn=<CatBackward0>)\n",
      "torch.Size([50, 1])\n",
      "torch.Size([50, 1])\n",
      "69 tensor(0.0003, grad_fn=<MseLossBackward0>) tensor([ 0.0214, -0.0221]) tensor([-1.9865,  1.9863], grad_fn=<CatBackward0>)\n",
      "torch.Size([50, 1])\n",
      "torch.Size([50, 1])\n",
      "69 tensor(0.0003, grad_fn=<MseLossBackward0>) tensor([ 0.0193, -0.0186]) tensor([-1.9867,  1.9865], grad_fn=<CatBackward0>)\n",
      "torch.Size([50, 1])\n",
      "torch.Size([50, 1])\n",
      "69 tensor(0.0004, grad_fn=<MseLossBackward0>) tensor([ 0.0237, -0.0301]) tensor([-1.9869,  1.9867], grad_fn=<CatBackward0>)\n",
      "torch.Size([50, 1])\n",
      "torch.Size([50, 1])\n",
      "70 tensor(0.0003, grad_fn=<MseLossBackward0>) tensor([ 0.0277, -0.0187]) tensor([-1.9872,  1.9870], grad_fn=<CatBackward0>)\n",
      "torch.Size([50, 1])\n",
      "torch.Size([50, 1])\n",
      "70 tensor(0.0003, grad_fn=<MseLossBackward0>) tensor([ 0.0199, -0.0207]) tensor([-1.9874,  1.9872], grad_fn=<CatBackward0>)\n",
      "torch.Size([50, 1])\n",
      "torch.Size([50, 1])\n",
      "70 tensor(0.0002, grad_fn=<MseLossBackward0>) tensor([ 0.0179, -0.0174]) tensor([-1.9876,  1.9874], grad_fn=<CatBackward0>)\n",
      "torch.Size([50, 1])\n",
      "torch.Size([50, 1])\n",
      "70 tensor(0.0003, grad_fn=<MseLossBackward0>) tensor([ 0.0220, -0.0281]) tensor([-1.9878,  1.9876], grad_fn=<CatBackward0>)\n",
      "torch.Size([50, 1])\n",
      "torch.Size([50, 1])\n",
      "71 tensor(0.0003, grad_fn=<MseLossBackward0>) tensor([ 0.0258, -0.0174]) tensor([-1.9880,  1.9878], grad_fn=<CatBackward0>)\n",
      "torch.Size([50, 1])\n",
      "torch.Size([50, 1])\n",
      "71 tensor(0.0002, grad_fn=<MseLossBackward0>) tensor([ 0.0186, -0.0193]) tensor([-1.9883,  1.9880], grad_fn=<CatBackward0>)\n",
      "torch.Size([50, 1])\n",
      "torch.Size([50, 1])\n",
      "71 tensor(0.0002, grad_fn=<MseLossBackward0>) tensor([ 0.0167, -0.0163]) tensor([-1.9885,  1.9882], grad_fn=<CatBackward0>)\n",
      "torch.Size([50, 1])\n",
      "torch.Size([50, 1])\n",
      "71 tensor(0.0003, grad_fn=<MseLossBackward0>) tensor([ 0.0205, -0.0262]) tensor([-1.9886,  1.9884], grad_fn=<CatBackward0>)\n",
      "torch.Size([50, 1])\n",
      "torch.Size([50, 1])\n",
      "72 tensor(0.0002, grad_fn=<MseLossBackward0>) tensor([ 0.0240, -0.0162]) tensor([-1.9888,  1.9886], grad_fn=<CatBackward0>)\n",
      "torch.Size([50, 1])\n",
      "torch.Size([50, 1])\n",
      "72 tensor(0.0002, grad_fn=<MseLossBackward0>) tensor([ 0.0173, -0.0181]) tensor([-1.9891,  1.9888], grad_fn=<CatBackward0>)\n",
      "torch.Size([50, 1])\n",
      "torch.Size([50, 1])\n",
      "72 tensor(0.0002, grad_fn=<MseLossBackward0>) tensor([ 0.0155, -0.0153]) tensor([-1.9893,  1.9890], grad_fn=<CatBackward0>)\n",
      "torch.Size([50, 1])\n",
      "torch.Size([50, 1])\n",
      "72 tensor(0.0002, grad_fn=<MseLossBackward0>) tensor([ 0.0191, -0.0245]) tensor([-1.9894,  1.9891], grad_fn=<CatBackward0>)\n",
      "torch.Size([50, 1])\n",
      "torch.Size([50, 1])\n",
      "73 tensor(0.0002, grad_fn=<MseLossBackward0>) tensor([ 0.0224, -0.0152]) tensor([-1.9896,  1.9894], grad_fn=<CatBackward0>)\n",
      "torch.Size([50, 1])\n",
      "torch.Size([50, 1])\n",
      "73 tensor(0.0002, grad_fn=<MseLossBackward0>) tensor([ 0.0162, -0.0169]) tensor([-1.9898,  1.9895], grad_fn=<CatBackward0>)\n",
      "torch.Size([50, 1])\n",
      "torch.Size([50, 1])\n",
      "73 tensor(0.0001, grad_fn=<MseLossBackward0>) tensor([ 0.0144, -0.0143]) tensor([-1.9900,  1.9897], grad_fn=<CatBackward0>)\n",
      "torch.Size([50, 1])\n",
      "torch.Size([50, 1])\n",
      "73 tensor(0.0002, grad_fn=<MseLossBackward0>) tensor([ 0.0178, -0.0229]) tensor([-1.9901,  1.9898], grad_fn=<CatBackward0>)\n",
      "torch.Size([50, 1])\n",
      "torch.Size([50, 1])\n",
      "74 tensor(0.0002, grad_fn=<MseLossBackward0>) tensor([ 0.0209, -0.0141]) tensor([-1.9903,  1.9901], grad_fn=<CatBackward0>)\n",
      "torch.Size([50, 1])\n",
      "torch.Size([50, 1])\n",
      "74 tensor(0.0002, grad_fn=<MseLossBackward0>) tensor([ 0.0151, -0.0158]) tensor([-1.9905,  1.9902], grad_fn=<CatBackward0>)\n",
      "torch.Size([50, 1])\n",
      "torch.Size([50, 1])\n",
      "74 tensor(0.0001, grad_fn=<MseLossBackward0>) tensor([ 0.0134, -0.0134]) tensor([-1.9907,  1.9904], grad_fn=<CatBackward0>)\n",
      "torch.Size([50, 1])\n",
      "torch.Size([50, 1])\n",
      "74 tensor(0.0002, grad_fn=<MseLossBackward0>) tensor([ 0.0166, -0.0214]) tensor([-1.9908,  1.9905], grad_fn=<CatBackward0>)\n",
      "torch.Size([50, 1])\n",
      "torch.Size([50, 1])\n",
      "75 tensor(0.0001, grad_fn=<MseLossBackward0>) tensor([ 0.0195, -0.0132]) tensor([-1.9910,  1.9907], grad_fn=<CatBackward0>)\n",
      "torch.Size([50, 1])\n",
      "torch.Size([50, 1])\n",
      "75 tensor(0.0001, grad_fn=<MseLossBackward0>) tensor([ 0.0140, -0.0148]) tensor([-1.9912,  1.9909], grad_fn=<CatBackward0>)\n",
      "torch.Size([50, 1])\n",
      "torch.Size([50, 1])\n",
      "75 tensor(0.0001, grad_fn=<MseLossBackward0>) tensor([ 0.0125, -0.0126]) tensor([-1.9913,  1.9910], grad_fn=<CatBackward0>)\n",
      "torch.Size([50, 1])\n",
      "torch.Size([50, 1])\n",
      "75 tensor(0.0002, grad_fn=<MseLossBackward0>) tensor([ 0.0155, -0.0199]) tensor([-1.9914,  1.9911], grad_fn=<CatBackward0>)\n",
      "torch.Size([50, 1])\n",
      "torch.Size([50, 1])\n"
     ]
    },
    {
     "name": "stdout",
     "output_type": "stream",
     "text": [
      "76 tensor(0.0001, grad_fn=<MseLossBackward0>) tensor([ 0.0181, -0.0123]) tensor([-1.9916,  1.9913], grad_fn=<CatBackward0>)\n",
      "torch.Size([50, 1])\n",
      "torch.Size([50, 1])\n",
      "76 tensor(0.0001, grad_fn=<MseLossBackward0>) tensor([ 0.0131, -0.0138]) tensor([-1.9918,  1.9914], grad_fn=<CatBackward0>)\n",
      "torch.Size([50, 1])\n",
      "torch.Size([50, 1])\n",
      "76 tensor(9.9410e-05, grad_fn=<MseLossBackward0>) tensor([ 0.0116, -0.0118]) tensor([-1.9919,  1.9916], grad_fn=<CatBackward0>)\n",
      "torch.Size([50, 1])\n",
      "torch.Size([50, 1])\n",
      "76 tensor(0.0001, grad_fn=<MseLossBackward0>) tensor([ 0.0144, -0.0186]) tensor([-1.9920,  1.9917], grad_fn=<CatBackward0>)\n",
      "torch.Size([50, 1])\n",
      "torch.Size([50, 1])\n",
      "77 tensor(0.0001, grad_fn=<MseLossBackward0>) tensor([ 0.0169, -0.0115]) tensor([-1.9922,  1.9919], grad_fn=<CatBackward0>)\n",
      "torch.Size([50, 1])\n",
      "torch.Size([50, 1])\n",
      "77 tensor(0.0001, grad_fn=<MseLossBackward0>) tensor([ 0.0122, -0.0129]) tensor([-1.9923,  1.9920], grad_fn=<CatBackward0>)\n",
      "torch.Size([50, 1])\n",
      "torch.Size([50, 1])\n",
      "77 tensor(8.6956e-05, grad_fn=<MseLossBackward0>) tensor([ 0.0108, -0.0111]) tensor([-1.9925,  1.9921], grad_fn=<CatBackward0>)\n",
      "torch.Size([50, 1])\n",
      "torch.Size([50, 1])\n",
      "77 tensor(0.0001, grad_fn=<MseLossBackward0>) tensor([ 0.0134, -0.0174]) tensor([-1.9926,  1.9922], grad_fn=<CatBackward0>)\n",
      "torch.Size([50, 1])\n",
      "torch.Size([50, 1])\n",
      "78 tensor(9.8405e-05, grad_fn=<MseLossBackward0>) tensor([ 0.0158, -0.0107]) tensor([-1.9927,  1.9924], grad_fn=<CatBackward0>)\n",
      "torch.Size([50, 1])\n",
      "torch.Size([50, 1])\n",
      "78 tensor(8.8517e-05, grad_fn=<MseLossBackward0>) tensor([ 0.0114, -0.0121]) tensor([-1.9929,  1.9925], grad_fn=<CatBackward0>)\n",
      "torch.Size([50, 1])\n",
      "torch.Size([50, 1])\n",
      "78 tensor(7.6100e-05, grad_fn=<MseLossBackward0>) tensor([ 0.0100, -0.0104]) tensor([-1.9930,  1.9926], grad_fn=<CatBackward0>)\n",
      "torch.Size([50, 1])\n",
      "torch.Size([50, 1])\n",
      "78 tensor(0.0001, grad_fn=<MseLossBackward0>) tensor([ 0.0125, -0.0162]) tensor([-1.9931,  1.9927], grad_fn=<CatBackward0>)\n",
      "torch.Size([50, 1])\n",
      "torch.Size([50, 1])\n",
      "79 tensor(8.5737e-05, grad_fn=<MseLossBackward0>) tensor([ 0.0147, -0.0100]) tensor([-1.9932,  1.9929], grad_fn=<CatBackward0>)\n",
      "torch.Size([50, 1])\n",
      "torch.Size([50, 1])\n",
      "79 tensor(7.7472e-05, grad_fn=<MseLossBackward0>) tensor([ 0.0106, -0.0113]) tensor([-1.9933,  1.9930], grad_fn=<CatBackward0>)\n",
      "torch.Size([50, 1])\n",
      "torch.Size([50, 1])\n",
      "79 tensor(6.6639e-05, grad_fn=<MseLossBackward0>) tensor([ 0.0093, -0.0098]) tensor([-1.9934,  1.9931], grad_fn=<CatBackward0>)\n",
      "torch.Size([50, 1])\n",
      "torch.Size([50, 1])\n",
      "79 tensor(8.9352e-05, grad_fn=<MseLossBackward0>) tensor([ 0.0116, -0.0151]) tensor([-1.9935,  1.9932], grad_fn=<CatBackward0>)\n",
      "torch.Size([50, 1])\n",
      "torch.Size([50, 1])\n",
      "80 tensor(7.4720e-05, grad_fn=<MseLossBackward0>) tensor([ 0.0137, -0.0093]) tensor([-1.9937,  1.9934], grad_fn=<CatBackward0>)\n",
      "torch.Size([50, 1])\n",
      "torch.Size([50, 1])\n",
      "80 tensor(6.7845e-05, grad_fn=<MseLossBackward0>) tensor([ 0.0099, -0.0106]) tensor([-1.9938,  1.9935], grad_fn=<CatBackward0>)\n",
      "torch.Size([50, 1])\n",
      "torch.Size([50, 1])\n",
      "80 tensor(5.8395e-05, grad_fn=<MseLossBackward0>) tensor([ 0.0087, -0.0092]) tensor([-1.9939,  1.9936], grad_fn=<CatBackward0>)\n",
      "torch.Size([50, 1])\n",
      "torch.Size([50, 1])\n",
      "80 tensor(7.7950e-05, grad_fn=<MseLossBackward0>) tensor([ 0.0108, -0.0141]) tensor([-1.9940,  1.9937], grad_fn=<CatBackward0>)\n",
      "torch.Size([50, 1])\n",
      "torch.Size([50, 1])\n",
      "81 tensor(6.5142e-05, grad_fn=<MseLossBackward0>) tensor([ 0.0128, -0.0086]) tensor([-1.9941,  1.9938], grad_fn=<CatBackward0>)\n",
      "torch.Size([50, 1])\n",
      "torch.Size([50, 1])\n",
      "81 tensor(5.9453e-05, grad_fn=<MseLossBackward0>) tensor([ 0.0092, -0.0099]) tensor([-1.9942,  1.9939], grad_fn=<CatBackward0>)\n",
      "torch.Size([50, 1])\n",
      "torch.Size([50, 1])\n",
      "81 tensor(5.1208e-05, grad_fn=<MseLossBackward0>) tensor([ 0.0081, -0.0086]) tensor([-1.9943,  1.9940], grad_fn=<CatBackward0>)\n",
      "torch.Size([50, 1])\n",
      "torch.Size([50, 1])\n",
      "81 tensor(6.8027e-05, grad_fn=<MseLossBackward0>) tensor([ 0.0101, -0.0132]) tensor([-1.9944,  1.9941], grad_fn=<CatBackward0>)\n",
      "torch.Size([50, 1])\n",
      "torch.Size([50, 1])\n",
      "82 tensor(5.6820e-05, grad_fn=<MseLossBackward0>) tensor([ 0.0119, -0.0081]) tensor([-1.9945,  1.9942], grad_fn=<CatBackward0>)\n",
      "torch.Size([50, 1])\n",
      "torch.Size([50, 1])\n",
      "82 tensor(5.2139e-05, grad_fn=<MseLossBackward0>) tensor([ 0.0086, -0.0093]) tensor([-1.9946,  1.9943], grad_fn=<CatBackward0>)\n",
      "torch.Size([50, 1])\n",
      "torch.Size([50, 1])\n",
      "82 tensor(4.4945e-05, grad_fn=<MseLossBackward0>) tensor([ 0.0075, -0.0081]) tensor([-1.9947,  1.9944], grad_fn=<CatBackward0>)\n",
      "torch.Size([50, 1])\n",
      "torch.Size([50, 1])\n",
      "82 tensor(5.9391e-05, grad_fn=<MseLossBackward0>) tensor([ 0.0094, -0.0123]) tensor([-1.9948,  1.9945], grad_fn=<CatBackward0>)\n",
      "torch.Size([50, 1])\n",
      "torch.Size([50, 1])\n",
      "83 tensor(4.9582e-05, grad_fn=<MseLossBackward0>) tensor([ 0.0111, -0.0075]) tensor([-1.9949,  1.9946], grad_fn=<CatBackward0>)\n",
      "torch.Size([50, 1])\n",
      "torch.Size([50, 1])\n",
      "83 tensor(4.5761e-05, grad_fn=<MseLossBackward0>) tensor([ 0.0080, -0.0087]) tensor([-1.9950,  1.9947], grad_fn=<CatBackward0>)\n",
      "torch.Size([50, 1])\n",
      "torch.Size([50, 1])\n",
      "83 tensor(3.9484e-05, grad_fn=<MseLossBackward0>) tensor([ 0.0070, -0.0076]) tensor([-1.9951,  1.9947], grad_fn=<CatBackward0>)\n",
      "torch.Size([50, 1])\n",
      "torch.Size([50, 1])\n",
      "83 tensor(5.1876e-05, grad_fn=<MseLossBackward0>) tensor([ 0.0088, -0.0115]) tensor([-1.9951,  1.9948], grad_fn=<CatBackward0>)\n",
      "torch.Size([50, 1])\n",
      "torch.Size([50, 1])\n",
      "84 tensor(4.3289e-05, grad_fn=<MseLossBackward0>) tensor([ 0.0104, -0.0070]) tensor([-1.9952,  1.9949], grad_fn=<CatBackward0>)\n",
      "torch.Size([50, 1])\n",
      "torch.Size([50, 1])\n",
      "84 tensor(4.0200e-05, grad_fn=<MseLossBackward0>) tensor([ 0.0075, -0.0081]) tensor([-1.9953,  1.9950], grad_fn=<CatBackward0>)\n",
      "torch.Size([50, 1])\n",
      "torch.Size([50, 1])\n",
      "84 tensor(3.4722e-05, grad_fn=<MseLossBackward0>) tensor([ 0.0065, -0.0071]) tensor([-1.9954,  1.9951], grad_fn=<CatBackward0>)\n",
      "torch.Size([50, 1])\n",
      "torch.Size([50, 1])\n",
      "84 tensor(4.5336e-05, grad_fn=<MseLossBackward0>) tensor([ 0.0082, -0.0107]) tensor([-1.9955,  1.9952], grad_fn=<CatBackward0>)\n",
      "torch.Size([50, 1])\n",
      "torch.Size([50, 1])\n",
      "85 tensor(3.7823e-05, grad_fn=<MseLossBackward0>) tensor([ 0.0097, -0.0065]) tensor([-1.9955,  1.9953], grad_fn=<CatBackward0>)\n",
      "torch.Size([50, 1])\n",
      "torch.Size([50, 1])\n",
      "85 tensor(3.5351e-05, grad_fn=<MseLossBackward0>) tensor([ 0.0070, -0.0076]) tensor([-1.9956,  1.9953], grad_fn=<CatBackward0>)\n",
      "torch.Size([50, 1])\n",
      "torch.Size([50, 1])\n",
      "85 tensor(3.0573e-05, grad_fn=<MseLossBackward0>) tensor([ 0.0060, -0.0067]) tensor([-1.9957,  1.9954], grad_fn=<CatBackward0>)\n",
      "torch.Size([50, 1])\n",
      "torch.Size([50, 1])\n",
      "85 tensor(3.9648e-05, grad_fn=<MseLossBackward0>) tensor([ 0.0076, -0.0100]) tensor([-1.9958,  1.9955], grad_fn=<CatBackward0>)\n",
      "torch.Size([50, 1])\n",
      "torch.Size([50, 1])\n",
      "86 tensor(3.3071e-05, grad_fn=<MseLossBackward0>) tensor([ 0.0090, -0.0060]) tensor([-1.9958,  1.9956], grad_fn=<CatBackward0>)\n",
      "torch.Size([50, 1])\n",
      "torch.Size([50, 1])\n",
      "86 tensor(3.1123e-05, grad_fn=<MseLossBackward0>) tensor([ 0.0065, -0.0071]) tensor([-1.9959,  1.9956], grad_fn=<CatBackward0>)\n",
      "torch.Size([50, 1])\n",
      "torch.Size([50, 1])\n",
      "86 tensor(2.6953e-05, grad_fn=<MseLossBackward0>) tensor([ 0.0056, -0.0063]) tensor([-1.9960,  1.9957], grad_fn=<CatBackward0>)\n",
      "torch.Size([50, 1])\n",
      "torch.Size([50, 1])\n",
      "86 tensor(3.4700e-05, grad_fn=<MseLossBackward0>) tensor([ 0.0071, -0.0093]) tensor([-1.9960,  1.9958], grad_fn=<CatBackward0>)\n",
      "torch.Size([50, 1])\n",
      "torch.Size([50, 1])\n",
      "87 tensor(2.8942e-05, grad_fn=<MseLossBackward0>) tensor([ 0.0084, -0.0056]) tensor([-1.9961,  1.9959], grad_fn=<CatBackward0>)\n",
      "torch.Size([50, 1])\n",
      "torch.Size([50, 1])\n",
      "87 tensor(2.7434e-05, grad_fn=<MseLossBackward0>) tensor([ 0.0061, -0.0067]) tensor([-1.9962,  1.9959], grad_fn=<CatBackward0>)\n",
      "torch.Size([50, 1])\n",
      "torch.Size([50, 1])\n",
      "87 tensor(2.3796e-05, grad_fn=<MseLossBackward0>) tensor([ 0.0052, -0.0059]) tensor([-1.9963,  1.9960], grad_fn=<CatBackward0>)\n",
      "torch.Size([50, 1])\n",
      "torch.Size([50, 1])\n",
      "87 tensor(3.0392e-05, grad_fn=<MseLossBackward0>) tensor([ 0.0066, -0.0087]) tensor([-1.9963,  1.9960], grad_fn=<CatBackward0>)\n",
      "torch.Size([50, 1])\n",
      "torch.Size([50, 1])\n",
      "88 tensor(2.5352e-05, grad_fn=<MseLossBackward0>) tensor([ 0.0078, -0.0052]) tensor([-1.9964,  1.9961], grad_fn=<CatBackward0>)\n",
      "torch.Size([50, 1])\n",
      "torch.Size([50, 1])\n",
      "88 tensor(2.4216e-05, grad_fn=<MseLossBackward0>) tensor([ 0.0057, -0.0062]) tensor([-1.9965,  1.9962], grad_fn=<CatBackward0>)\n",
      "torch.Size([50, 1])\n",
      "torch.Size([50, 1])\n",
      "88 tensor(2.1040e-05, grad_fn=<MseLossBackward0>) tensor([ 0.0048, -0.0055]) tensor([-1.9965,  1.9962], grad_fn=<CatBackward0>)\n",
      "torch.Size([50, 1])\n",
      "torch.Size([50, 1])\n",
      "88 tensor(2.6646e-05, grad_fn=<MseLossBackward0>) tensor([ 0.0061, -0.0081]) tensor([-1.9966,  1.9963], grad_fn=<CatBackward0>)\n",
      "torch.Size([50, 1])\n",
      "torch.Size([50, 1])\n",
      "89 tensor(2.2233e-05, grad_fn=<MseLossBackward0>) tensor([ 0.0073, -0.0048]) tensor([-1.9966,  1.9964], grad_fn=<CatBackward0>)\n",
      "torch.Size([50, 1])\n",
      "torch.Size([50, 1])\n",
      "89 tensor(2.1408e-05, grad_fn=<MseLossBackward0>) tensor([ 0.0053, -0.0058]) tensor([-1.9967,  1.9964], grad_fn=<CatBackward0>)\n",
      "torch.Size([50, 1])\n",
      "torch.Size([50, 1])\n",
      "89 tensor(1.8637e-05, grad_fn=<MseLossBackward0>) tensor([ 0.0045, -0.0052]) tensor([-1.9968,  1.9965], grad_fn=<CatBackward0>)\n",
      "torch.Size([50, 1])\n",
      "torch.Size([50, 1])\n",
      "89 tensor(2.3387e-05, grad_fn=<MseLossBackward0>) tensor([ 0.0057, -0.0076]) tensor([-1.9968,  1.9965], grad_fn=<CatBackward0>)\n",
      "torch.Size([50, 1])\n",
      "torch.Size([50, 1])\n",
      "90 tensor(1.9525e-05, grad_fn=<MseLossBackward0>) tensor([ 0.0068, -0.0045]) tensor([-1.9969,  1.9966], grad_fn=<CatBackward0>)\n",
      "torch.Size([50, 1])\n",
      "torch.Size([50, 1])\n",
      "90 tensor(1.8958e-05, grad_fn=<MseLossBackward0>) tensor([ 0.0050, -0.0055]) tensor([-1.9969,  1.9967], grad_fn=<CatBackward0>)\n",
      "torch.Size([50, 1])\n",
      "torch.Size([50, 1])\n",
      "90 tensor(1.6541e-05, grad_fn=<MseLossBackward0>) tensor([ 0.0041, -0.0049]) tensor([-1.9970,  1.9967], grad_fn=<CatBackward0>)\n",
      "torch.Size([50, 1])\n",
      "torch.Size([50, 1])\n",
      "90 tensor(2.0554e-05, grad_fn=<MseLossBackward0>) tensor([ 0.0053, -0.0071]) tensor([-1.9970,  1.9968], grad_fn=<CatBackward0>)\n",
      "torch.Size([50, 1])\n",
      "torch.Size([50, 1])\n",
      "91 tensor(1.7172e-05, grad_fn=<MseLossBackward0>) tensor([ 0.0064, -0.0042]) tensor([-1.9971,  1.9968], grad_fn=<CatBackward0>)\n",
      "torch.Size([50, 1])\n",
      "torch.Size([50, 1])\n",
      "91 tensor(1.6821e-05, grad_fn=<MseLossBackward0>) tensor([ 0.0046, -0.0051]) tensor([-1.9971,  1.9969], grad_fn=<CatBackward0>)\n",
      "torch.Size([50, 1])\n",
      "torch.Size([50, 1])\n",
      "91 tensor(1.4711e-05, grad_fn=<MseLossBackward0>) tensor([ 0.0038, -0.0046]) tensor([-1.9972,  1.9969], grad_fn=<CatBackward0>)\n",
      "torch.Size([50, 1])\n",
      "torch.Size([50, 1])\n",
      "91 tensor(1.8090e-05, grad_fn=<MseLossBackward0>) tensor([ 0.0049, -0.0066]) tensor([-1.9972,  1.9970], grad_fn=<CatBackward0>)\n",
      "torch.Size([50, 1])\n",
      "torch.Size([50, 1])\n",
      "92 tensor(1.5128e-05, grad_fn=<MseLossBackward0>) tensor([ 0.0060, -0.0039]) tensor([-1.9973,  1.9970], grad_fn=<CatBackward0>)\n",
      "torch.Size([50, 1])\n",
      "torch.Size([50, 1])\n",
      "92 tensor(1.4955e-05, grad_fn=<MseLossBackward0>) tensor([ 0.0043, -0.0048]) tensor([-1.9973,  1.9971], grad_fn=<CatBackward0>)\n",
      "torch.Size([50, 1])\n",
      "torch.Size([50, 1])\n",
      "92 tensor(1.3114e-05, grad_fn=<MseLossBackward0>) tensor([ 0.0036, -0.0043]) tensor([-1.9974,  1.9971], grad_fn=<CatBackward0>)\n",
      "torch.Size([50, 1])\n",
      "torch.Size([50, 1])\n",
      "92 tensor(1.5947e-05, grad_fn=<MseLossBackward0>) tensor([ 0.0046, -0.0061]) tensor([-1.9974,  1.9972], grad_fn=<CatBackward0>)\n",
      "torch.Size([50, 1])\n",
      "torch.Size([50, 1])\n",
      "93 tensor(1.3353e-05, grad_fn=<MseLossBackward0>) tensor([ 0.0056, -0.0036]) tensor([-1.9974,  1.9972], grad_fn=<CatBackward0>)\n",
      "torch.Size([50, 1])\n",
      "torch.Size([50, 1])\n",
      "93 tensor(1.3327e-05, grad_fn=<MseLossBackward0>) tensor([ 0.0040, -0.0045]) tensor([-1.9975,  1.9973], grad_fn=<CatBackward0>)\n",
      "torch.Size([50, 1])\n",
      "torch.Size([50, 1])\n",
      "93 tensor(1.1720e-05, grad_fn=<MseLossBackward0>) tensor([ 0.0033, -0.0041]) tensor([-1.9975,  1.9973], grad_fn=<CatBackward0>)\n",
      "torch.Size([50, 1])\n",
      "torch.Size([50, 1])\n",
      "93 tensor(1.4085e-05, grad_fn=<MseLossBackward0>) tensor([ 0.0043, -0.0057]) tensor([-1.9976,  1.9974], grad_fn=<CatBackward0>)\n",
      "torch.Size([50, 1])\n",
      "torch.Size([50, 1])\n",
      "94 tensor(1.1812e-05, grad_fn=<MseLossBackward0>) tensor([ 0.0052, -0.0033]) tensor([-1.9976,  1.9974], grad_fn=<CatBackward0>)\n",
      "torch.Size([50, 1])\n",
      "torch.Size([50, 1])\n",
      "94 tensor(1.1904e-05, grad_fn=<MseLossBackward0>) tensor([ 0.0038, -0.0042]) tensor([-1.9977,  1.9974], grad_fn=<CatBackward0>)\n",
      "torch.Size([50, 1])\n",
      "torch.Size([50, 1])\n",
      "94 tensor(1.0503e-05, grad_fn=<MseLossBackward0>) tensor([ 0.0031, -0.0039]) tensor([-1.9977,  1.9975], grad_fn=<CatBackward0>)\n",
      "torch.Size([50, 1])\n",
      "torch.Size([50, 1])\n"
     ]
    },
    {
     "name": "stdout",
     "output_type": "stream",
     "text": [
      "94 tensor(1.2465e-05, grad_fn=<MseLossBackward0>) tensor([ 0.0040, -0.0053]) tensor([-1.9977,  1.9975], grad_fn=<CatBackward0>)\n",
      "torch.Size([50, 1])\n",
      "torch.Size([50, 1])\n",
      "95 tensor(1.0474e-05, grad_fn=<MseLossBackward0>) tensor([ 0.0049, -0.0031]) tensor([-1.9978,  1.9976], grad_fn=<CatBackward0>)\n",
      "torch.Size([50, 1])\n",
      "torch.Size([50, 1])\n",
      "95 tensor(1.0662e-05, grad_fn=<MseLossBackward0>) tensor([ 0.0035, -0.0039]) tensor([-1.9978,  1.9976], grad_fn=<CatBackward0>)\n",
      "torch.Size([50, 1])\n",
      "torch.Size([50, 1])\n",
      "95 tensor(9.4385e-06, grad_fn=<MseLossBackward0>) tensor([ 0.0028, -0.0036]) tensor([-1.9979,  1.9976], grad_fn=<CatBackward0>)\n",
      "torch.Size([50, 1])\n",
      "torch.Size([50, 1])\n",
      "95 tensor(1.1057e-05, grad_fn=<MseLossBackward0>) tensor([ 0.0037, -0.0050]) tensor([-1.9979,  1.9977], grad_fn=<CatBackward0>)\n",
      "torch.Size([50, 1])\n",
      "torch.Size([50, 1])\n",
      "96 tensor(9.3126e-06, grad_fn=<MseLossBackward0>) tensor([ 0.0045, -0.0028]) tensor([-1.9979,  1.9977], grad_fn=<CatBackward0>)\n",
      "torch.Size([50, 1])\n",
      "torch.Size([50, 1])\n",
      "96 tensor(9.5769e-06, grad_fn=<MseLossBackward0>) tensor([ 0.0033, -0.0037]) tensor([-1.9980,  1.9978], grad_fn=<CatBackward0>)\n",
      "torch.Size([50, 1])\n",
      "torch.Size([50, 1])\n",
      "96 tensor(8.5101e-06, grad_fn=<MseLossBackward0>) tensor([ 0.0026, -0.0034]) tensor([-1.9980,  1.9978], grad_fn=<CatBackward0>)\n",
      "torch.Size([50, 1])\n",
      "torch.Size([50, 1])\n",
      "96 tensor(9.8343e-06, grad_fn=<MseLossBackward0>) tensor([ 0.0035, -0.0046]) tensor([-1.9980,  1.9978], grad_fn=<CatBackward0>)\n",
      "torch.Size([50, 1])\n",
      "torch.Size([50, 1])\n",
      "97 tensor(8.3049e-06, grad_fn=<MseLossBackward0>) tensor([ 0.0042, -0.0026]) tensor([-1.9981,  1.9979], grad_fn=<CatBackward0>)\n",
      "torch.Size([50, 1])\n",
      "torch.Size([50, 1])\n",
      "97 tensor(8.6286e-06, grad_fn=<MseLossBackward0>) tensor([ 0.0031, -0.0035]) tensor([-1.9981,  1.9979], grad_fn=<CatBackward0>)\n",
      "torch.Size([50, 1])\n",
      "torch.Size([50, 1])\n",
      "97 tensor(7.6983e-06, grad_fn=<MseLossBackward0>) tensor([ 0.0024, -0.0032]) tensor([-1.9981,  1.9979], grad_fn=<CatBackward0>)\n",
      "torch.Size([50, 1])\n",
      "torch.Size([50, 1])\n",
      "97 tensor(8.7714e-06, grad_fn=<MseLossBackward0>) tensor([ 0.0032, -0.0043]) tensor([-1.9982,  1.9980], grad_fn=<CatBackward0>)\n",
      "torch.Size([50, 1])\n",
      "torch.Size([50, 1])\n",
      "98 tensor(7.4305e-06, grad_fn=<MseLossBackward0>) tensor([ 0.0040, -0.0024]) tensor([-1.9982,  1.9980], grad_fn=<CatBackward0>)\n",
      "torch.Size([50, 1])\n",
      "torch.Size([50, 1])\n",
      "98 tensor(7.8005e-06, grad_fn=<MseLossBackward0>) tensor([ 0.0029, -0.0032]) tensor([-1.9982,  1.9980], grad_fn=<CatBackward0>)\n",
      "torch.Size([50, 1])\n",
      "torch.Size([50, 1])\n",
      "98 tensor(6.9891e-06, grad_fn=<MseLossBackward0>) tensor([ 0.0023, -0.0031]) tensor([-1.9983,  1.9981], grad_fn=<CatBackward0>)\n",
      "torch.Size([50, 1])\n",
      "torch.Size([50, 1])\n",
      "98 tensor(7.8480e-06, grad_fn=<MseLossBackward0>) tensor([ 0.0030, -0.0040]) tensor([-1.9983,  1.9981], grad_fn=<CatBackward0>)\n",
      "torch.Size([50, 1])\n",
      "torch.Size([50, 1])\n",
      "99 tensor(6.6724e-06, grad_fn=<MseLossBackward0>) tensor([ 0.0037, -0.0022]) tensor([-1.9983,  1.9981], grad_fn=<CatBackward0>)\n",
      "torch.Size([50, 1])\n",
      "torch.Size([50, 1])\n",
      "99 tensor(7.0764e-06, grad_fn=<MseLossBackward0>) tensor([ 0.0027, -0.0030]) tensor([-1.9984,  1.9982], grad_fn=<CatBackward0>)\n",
      "torch.Size([50, 1])\n",
      "torch.Size([50, 1])\n",
      "99 tensor(6.3688e-06, grad_fn=<MseLossBackward0>) tensor([ 0.0021, -0.0029]) tensor([-1.9984,  1.9982], grad_fn=<CatBackward0>)\n",
      "torch.Size([50, 1])\n",
      "torch.Size([50, 1])\n",
      "99 tensor(7.0465e-06, grad_fn=<MseLossBackward0>) tensor([ 0.0028, -0.0037]) tensor([-1.9984,  1.9982], grad_fn=<CatBackward0>)\n"
     ]
    }
   ],
   "source": [
    "model = MLP_Net(user_id=0)\n",
    "\n",
    "lr = 0.01\n",
    "\n",
    "dataloader = DataLoader(MyDataset(datapoints[19][\"features\"], datapoints[19][\"label\"]), batch_size=50, shuffle=False)\n",
    "optimizer = torch.optim.SGD(model.parameters(), lr=0.01)\n",
    "for i in range(100):\n",
    "    for (x, y) in dataloader:\n",
    "        criterion = nn.MSELoss()\n",
    "        optimizer.zero_grad()\n",
    "        yhat = model(x)\n",
    "        print(y.size())\n",
    "        print(yhat.size())\n",
    "        loss = criterion(yhat, y)\n",
    "        \n",
    "        loss.backward()\n",
    "        print(i, loss, grads_to_vector(model.parameters()), parameters_to_vector(model.parameters()))\n",
    "        #optimizer.step()\n",
    "        new_model = parameters_to_vector(model.parameters()) - lr * grads_to_vector(model.parameters())\n",
    "        vector_to_parameters(parameters=model.parameters(), vec=new_model)\n",
    "        #if i % 50 ==0:\n",
    "            #lr *= 0.9\n",
    "            \n",
    "\n",
    "#parameters_to_vector(model.parameters())"
   ]
  },
  {
   "cell_type": "code",
   "execution_count": 11,
   "id": "5eb22da2",
   "metadata": {},
   "outputs": [
    {
     "data": {
      "text/plain": [
       "tensor([-1.9984,  1.9983], grad_fn=<CatBackward0>)"
      ]
     },
     "execution_count": 11,
     "metadata": {},
     "output_type": "execute_result"
    }
   ],
   "source": [
    "parameters_to_vector(model.parameters())"
   ]
  },
  {
   "cell_type": "code",
   "execution_count": 12,
   "id": "52396ca6",
   "metadata": {},
   "outputs": [],
   "source": [
    "class CNN_Net(nn.Module):\n",
    "    def __init__(self):\n",
    "        super(CNN_Net, self).__init__()\n",
    "        self.conv1 = nn.Conv2d(1, 32, kernel_size=5)\n",
    "        self.conv2 = nn.Conv2d(32, 64, kernel_size=5)\n",
    "        self.pool = nn.MaxPool2d(2,2)\n",
    "        self.dropout = nn.Dropout(p=0.2)\n",
    "        self.fc1 = nn.Linear(1024, 512)\n",
    "        self.fc2 = nn.Linear(512, 10)\n",
    "\n",
    "    def forward(self, x):\n",
    "        x = self.pool(F.relu(self.conv1(x)))\n",
    "        x = self.pool(F.relu(self.conv2(x)))\n",
    "        x = self.dropout(x)\n",
    "        x = torch.flatten(x, 1)\n",
    "        x = F.relu(self.fc1(x))\n",
    "        output = self.fc2(x)\n",
    "        return output"
   ]
  },
  {
   "cell_type": "code",
   "execution_count": 13,
   "id": "cb5fe42b",
   "metadata": {},
   "outputs": [],
   "source": [
    "class ClientUpdate(object):\n",
    "    def __init__(self, dataset, batchSize, alpha, lamda, epochs, projection_list, projected_weights):\n",
    "        self.train_loader = DataLoader(MyDataset(dataset[\"features\"], dataset[\"label\"]), batch_size=batchSize, shuffle=True)\n",
    "        #self.learning_rate = learning_rate\n",
    "        self.epochs = epochs\n",
    "        self.batchSize = batchSize\n",
    "\n",
    "    def train(self, model):\n",
    "        criterion = nn.MSELoss()\n",
    "        optimizer = torch.optim.SGD(model.parameters(), lr=1e-3, momentum=0.5)\n",
    "\n",
    "        e_loss = []\n",
    "        for epoch in range(1, self.epochs+1):\n",
    "            train_loss = 0\n",
    "            model.train()\n",
    "            for i, (data, labels) in zip(range(1), self.train_loader):\n",
    "                data, labels = data, labels\n",
    "                optimizer.zero_grad() \n",
    "                output = model(data)  \n",
    "                loss = criterion(output, labels)\n",
    "                #loss += mu/2 * torch.norm(client_param.data - server_param.data)**2\n",
    "                loss.backward()\n",
    "                grads = grads_to_vector(model.parameters())\n",
    "                #optimizer.step()\n",
    "                train_loss += loss.item()*data.size(0)\n",
    "                weights = parameters_to_vector(model.parameters())\n",
    "                mat_vec_sum = torch.zeros_like(weights)\n",
    "                for j in G.neighbors(model.user_id):\n",
    "                    mat_vec_sum = torch.add(mat_vec_sum, torch.matmul(torch.transpose(projection_list[model.user_id][j], 0, 1), \n",
    "                                                         projected_weights[j][model.user_id] - projected_weights[model.user_id][j]))\n",
    "                \n",
    "                model_update = parameters_to_vector(model.parameters()) - alpha * (grads + lamda * mat_vec_sum)\n",
    "                \n",
    "            vector_to_parameters(parameters=model.parameters(), vec=model_update)\n",
    "                \n",
    "\n",
    "            train_loss = train_loss/self.batchSize#len(self.train_loader.dataset) \n",
    "            e_loss.append(train_loss)\n",
    "\n",
    "        total_loss = e_loss#sum(e_loss)/len(e_loss)\n",
    "\n",
    "        return model.state_dict(), total_loss"
   ]
  },
  {
   "cell_type": "code",
   "execution_count": 14,
   "id": "2eeef5b5",
   "metadata": {},
   "outputs": [],
   "source": [
    "# Preparing projection matrices\n",
    "models = [MLP_Net(user_id=i) for i in range(no_users)]\n",
    "#temp = MLP_Net()\n",
    "projection_list = []\n",
    "projected_weights = []\n",
    "\n",
    "def update_ProjWeight(projection_list, projected_weights, first_run=True):\n",
    "    #projected_weights = []\n",
    "    for i in range(no_users):\n",
    "        neighbors_mat = []\n",
    "        neighbors_weights = []\n",
    "        for j in range(no_users):\n",
    "            if j in G.neighbors(i):\n",
    "                with torch.no_grad():\n",
    "                    if first_run == True:\n",
    "                        row, column = parameters_to_vector(models[j].parameters()).size()[0], parameters_to_vector(models[i].parameters()).size()[0]\n",
    "                        mat = torch.zeros((row, column))\n",
    "                        mat.fill_diagonal_(1.0 + 1.0 * float(np.random.randn(1)))\n",
    "                        neighbors_mat.append(mat)\n",
    "                        neighbors_weights.append(torch.matmul(mat, parameters_to_vector(models[j].parameters())))\n",
    "                    else:\n",
    "                        neighbors_weights.append(torch.matmul(projection_list[j][i], parameters_to_vector(models[j].parameters())))\n",
    "            else:\n",
    "                neighbors_mat.append(0)\n",
    "                neighbors_weights.append(0)\n",
    "        if first_run == True:\n",
    "            projection_list.append(neighbors_mat)\n",
    "        projected_weights.append(neighbors_weights)\n",
    "\n",
    "update_ProjWeight(projection_list, projected_weights)\n",
    "\n"
   ]
  },
  {
   "cell_type": "code",
   "execution_count": 15,
   "id": "f733ee68",
   "metadata": {},
   "outputs": [
    {
     "name": "stdout",
     "output_type": "stream",
     "text": [
      "[0, tensor([[1.2305, 0.0000],\n",
      "        [0.0000, 1.2305]]), tensor([[-1.0408,  0.0000],\n",
      "        [ 0.0000, -1.0408]]), 0, 0, tensor([[0.7629, 0.0000],\n",
      "        [0.0000, 0.7629]]), tensor([[-0.3075,  0.0000],\n",
      "        [ 0.0000, -0.3075]]), 0, 0, 0, 0, 0, 0, 0, tensor([[1.6406, 0.0000],\n",
      "        [0.0000, 1.6406]]), 0, 0, 0, 0, 0]\n"
     ]
    }
   ],
   "source": [
    "print(projection_list[0])"
   ]
  },
  {
   "cell_type": "code",
   "execution_count": 16,
   "id": "5f6059eb",
   "metadata": {},
   "outputs": [],
   "source": [
    "def testing(model, dataset, bs, criterion): \n",
    "    test_loss = 0\n",
    "    correct = 0\n",
    "    test_loader = DataLoader(MyDataset(dataset[\"features\"], dataset[\"label\"]), batch_size=bs)\n",
    "    l = len(test_loader)\n",
    "    model.eval()\n",
    "    for data, labels in test_loader:\n",
    "        data, labels = data, labels\n",
    "        output = model(data)\n",
    "        loss = criterion(output, labels)\n",
    "        test_loss += loss.item()*data.size(0)\n",
    "        #_, pred = torch.max(output, 1)\n",
    "        #correct += pred.eq(labels.data.view_as(pred)).sum().item()\n",
    "    \n",
    "    test_loss /= len(test_loader.dataset)\n",
    "    \n",
    "    return test_loss"
   ]
  },
  {
   "cell_type": "code",
   "execution_count": 17,
   "id": "f172f558",
   "metadata": {},
   "outputs": [],
   "source": [
    "def rel_error(model):\n",
    "    return (torch.norm(parameters_to_vector(model.parameters()) - datapoints[model.user_id]['exact_weights']) / torch.norm(datapoints[model.user_id]['exact_weights'])).detach()"
   ]
  },
  {
   "cell_type": "code",
   "execution_count": 18,
   "id": "6f3fc17a",
   "metadata": {},
   "outputs": [
    {
     "data": {
      "text/plain": [
       "tensor(2.8284, dtype=torch.float64)"
      ]
     },
     "execution_count": 18,
     "metadata": {},
     "output_type": "execute_result"
    }
   ],
   "source": [
    "torch.norm(datapoints[model.user_id]['exact_weights'])"
   ]
  },
  {
   "cell_type": "code",
   "execution_count": 19,
   "id": "1d1a33e3",
   "metadata": {},
   "outputs": [
    {
     "name": "stdout",
     "output_type": "stream",
     "text": [
      "tensor([-0.1144,  0.0210])\n"
     ]
    },
    {
     "data": {
      "text/plain": [
       "tensor([-0.2289,  0.0420], grad_fn=<CatBackward0>)"
      ]
     },
     "execution_count": 19,
     "metadata": {},
     "output_type": "execute_result"
    }
   ],
   "source": [
    "model = MLP_Net(user_id=0)\n",
    "\n",
    "from torch.nn.utils import parameters_to_vector, vector_to_parameters\n",
    "\n",
    "with torch.no_grad():    \n",
    "    params = parameters_to_vector(model.parameters())\n",
    "\n",
    "    print(params)\n",
    "\n",
    "params *= 2.\n",
    "\n",
    "vector_to_parameters(parameters=model.parameters(), vec=params)\n",
    "\n",
    "parameters_to_vector(model.parameters())\n",
    "\n",
    "\n",
    "\n"
   ]
  },
  {
   "cell_type": "code",
   "execution_count": 20,
   "id": "71472693",
   "metadata": {},
   "outputs": [
    {
     "name": "stderr",
     "output_type": "stream",
     "text": [
      "\r",
      "  0%|          | 0/2000 [00:00<?, ?it/s]"
     ]
    },
    {
     "name": "stdout",
     "output_type": "stream",
     "text": [
      "Training_loss 5.54895,   Relative Error 0.89737\n"
     ]
    },
    {
     "name": "stderr",
     "output_type": "stream",
     "text": [
      "\r",
      "  0%|          | 2/2000 [00:00<03:04, 10.82it/s]"
     ]
    },
    {
     "name": "stdout",
     "output_type": "stream",
     "text": [
      "Training_loss 5.52914,   Relative Error 0.89577\n",
      "Training_loss 5.51639,   Relative Error 0.89474\n"
     ]
    },
    {
     "name": "stderr",
     "output_type": "stream",
     "text": [
      "\r",
      "  0%|          | 4/2000 [00:00<02:49, 11.77it/s]"
     ]
    },
    {
     "name": "stdout",
     "output_type": "stream",
     "text": [
      "Training_loss 5.50252,   Relative Error 0.89358\n"
     ]
    },
    {
     "name": "stderr",
     "output_type": "stream",
     "text": [
      "\r",
      "  0%|          | 6/2000 [00:00<02:42, 12.24it/s]"
     ]
    },
    {
     "name": "stdout",
     "output_type": "stream",
     "text": [
      "Training_loss 5.49066,   Relative Error 0.89261\n",
      "Training_loss 5.47826,   Relative Error 0.89163\n",
      "Training_loss 5.45721,   Relative Error 0.88991\n"
     ]
    },
    {
     "name": "stderr",
     "output_type": "stream",
     "text": [
      "\r",
      "  0%|          | 8/2000 [00:00<02:41, 12.36it/s]"
     ]
    },
    {
     "name": "stdout",
     "output_type": "stream",
     "text": [
      "Training_loss 5.43520,   Relative Error 0.88810\n",
      "Training_loss 5.41691,   Relative Error 0.88661\n"
     ]
    },
    {
     "name": "stderr",
     "output_type": "stream",
     "text": [
      "\r",
      "  0%|          | 10/2000 [00:00<02:34, 12.89it/s]"
     ]
    },
    {
     "name": "stdout",
     "output_type": "stream",
     "text": [
      "Training_loss 5.40314,   Relative Error 0.88549\n"
     ]
    },
    {
     "name": "stderr",
     "output_type": "stream",
     "text": [
      "\r",
      "  1%|          | 12/2000 [00:00<02:33, 12.98it/s]"
     ]
    },
    {
     "name": "stdout",
     "output_type": "stream",
     "text": [
      "Training_loss 5.38449,   Relative Error 0.88394\n",
      "Training_loss 5.36534,   Relative Error 0.88236\n",
      "Training_loss 5.34348,   Relative Error 0.88056\n"
     ]
    },
    {
     "name": "stderr",
     "output_type": "stream",
     "text": [
      "\r",
      "  1%|          | 14/2000 [00:01<02:34, 12.87it/s]"
     ]
    },
    {
     "name": "stdout",
     "output_type": "stream",
     "text": [
      "Training_loss 5.32059,   Relative Error 0.87868\n",
      "Training_loss 5.30198,   Relative Error 0.87716\n"
     ]
    },
    {
     "name": "stderr",
     "output_type": "stream",
     "text": [
      "\r",
      "  1%|          | 16/2000 [00:01<02:35, 12.75it/s]"
     ]
    },
    {
     "name": "stdout",
     "output_type": "stream",
     "text": [
      "Training_loss 5.28962,   Relative Error 0.87615\n"
     ]
    },
    {
     "name": "stderr",
     "output_type": "stream",
     "text": [
      "\r",
      "  1%|          | 18/2000 [00:01<02:31, 13.11it/s]"
     ]
    },
    {
     "name": "stdout",
     "output_type": "stream",
     "text": [
      "Training_loss 5.27671,   Relative Error 0.87506\n",
      "Training_loss 5.26041,   Relative Error 0.87368\n"
     ]
    },
    {
     "name": "stderr",
     "output_type": "stream",
     "text": [
      "\r",
      "  1%|          | 20/2000 [00:01<02:30, 13.12it/s]"
     ]
    },
    {
     "name": "stdout",
     "output_type": "stream",
     "text": [
      "Training_loss 5.24607,   Relative Error 0.87250\n",
      "Training_loss 5.22678,   Relative Error 0.87090\n"
     ]
    },
    {
     "name": "stderr",
     "output_type": "stream",
     "text": [
      "\r",
      "  1%|          | 22/2000 [00:01<02:25, 13.62it/s]"
     ]
    },
    {
     "name": "stdout",
     "output_type": "stream",
     "text": [
      "Training_loss 5.21200,   Relative Error 0.86969\n",
      "Training_loss 5.19714,   Relative Error 0.86843\n",
      "Training_loss 5.17937,   Relative Error 0.86698\n"
     ]
    },
    {
     "name": "stderr",
     "output_type": "stream",
     "text": [
      "  1%|▏         | 26/2000 [00:02<02:24, 13.62it/s]"
     ]
    },
    {
     "name": "stdout",
     "output_type": "stream",
     "text": [
      "Training_loss 5.15203,   Relative Error 0.86469\n",
      "Training_loss 5.13503,   Relative Error 0.86327\n",
      "Training_loss 5.11547,   Relative Error 0.86164\n"
     ]
    },
    {
     "name": "stderr",
     "output_type": "stream",
     "text": [
      "\r",
      "  1%|▏         | 28/2000 [00:02<02:33, 12.84it/s]"
     ]
    },
    {
     "name": "stdout",
     "output_type": "stream",
     "text": [
      "Training_loss 5.10475,   Relative Error 0.86073\n",
      "Training_loss 5.08465,   Relative Error 0.85903\n",
      "Training_loss 5.05258,   Relative Error 0.85633\n"
     ]
    },
    {
     "name": "stderr",
     "output_type": "stream",
     "text": [
      "  2%|▏         | 32/2000 [00:02<02:34, 12.76it/s]"
     ]
    },
    {
     "name": "stdout",
     "output_type": "stream",
     "text": [
      "Training_loss 5.02779,   Relative Error 0.85421\n",
      "Training_loss 5.00965,   Relative Error 0.85266\n",
      "Training_loss 4.98399,   Relative Error 0.85047\n"
     ]
    },
    {
     "name": "stderr",
     "output_type": "stream",
     "text": [
      "  2%|▏         | 36/2000 [00:02<02:33, 12.80it/s]"
     ]
    },
    {
     "name": "stdout",
     "output_type": "stream",
     "text": [
      "Training_loss 4.97077,   Relative Error 0.84936\n",
      "Training_loss 4.95053,   Relative Error 0.84762\n",
      "Training_loss 4.92961,   Relative Error 0.84585\n",
      "Training_loss 4.91491,   Relative Error 0.84461\n"
     ]
    },
    {
     "name": "stderr",
     "output_type": "stream",
     "text": [
      "\r",
      "  2%|▏         | 38/2000 [00:03<03:02, 10.74it/s]"
     ]
    },
    {
     "name": "stdout",
     "output_type": "stream",
     "text": [
      "Training_loss 4.90490,   Relative Error 0.84375\n",
      "Training_loss 4.88772,   Relative Error 0.84226\n",
      "Training_loss 4.86732,   Relative Error 0.84048\n"
     ]
    },
    {
     "name": "stderr",
     "output_type": "stream",
     "text": [
      "  2%|▏         | 42/2000 [00:03<03:03, 10.67it/s]"
     ]
    },
    {
     "name": "stdout",
     "output_type": "stream",
     "text": [
      "Training_loss 4.85208,   Relative Error 0.83916\n",
      "Training_loss 4.82925,   Relative Error 0.83719\n",
      "Training_loss 4.81077,   Relative Error 0.83559\n"
     ]
    },
    {
     "name": "stderr",
     "output_type": "stream",
     "text": [
      "\r",
      "  2%|▏         | 44/2000 [00:03<03:18,  9.88it/s]"
     ]
    },
    {
     "name": "stdout",
     "output_type": "stream",
     "text": [
      "Training_loss 4.79952,   Relative Error 0.83461\n",
      "Training_loss 4.78474,   Relative Error 0.83331\n",
      "Training_loss 4.77138,   Relative Error 0.83215\n"
     ]
    },
    {
     "name": "stderr",
     "output_type": "stream",
     "text": [
      "  2%|▏         | 48/2000 [00:04<03:17,  9.89it/s]"
     ]
    },
    {
     "name": "stdout",
     "output_type": "stream",
     "text": [
      "Training_loss 4.75173,   Relative Error 0.83044\n",
      "Training_loss 4.74470,   Relative Error 0.82982\n",
      "Training_loss 4.73701,   Relative Error 0.82915\n"
     ]
    },
    {
     "name": "stderr",
     "output_type": "stream",
     "text": [
      "\r",
      "  2%|▎         | 50/2000 [00:04<03:19,  9.77it/s]"
     ]
    },
    {
     "name": "stdout",
     "output_type": "stream",
     "text": [
      "Training_loss 4.72270,   Relative Error 0.82790\n",
      "Training_loss 4.70769,   Relative Error 0.82661\n",
      "Training_loss 4.68523,   Relative Error 0.82466\n"
     ]
    },
    {
     "name": "stderr",
     "output_type": "stream",
     "text": [
      "  3%|▎         | 54/2000 [00:04<02:53, 11.19it/s]"
     ]
    },
    {
     "name": "stdout",
     "output_type": "stream",
     "text": [
      "Training_loss 4.67441,   Relative Error 0.82370\n",
      "Training_loss 4.65483,   Relative Error 0.82199\n",
      "Training_loss 4.63924,   Relative Error 0.82060\n"
     ]
    },
    {
     "name": "stderr",
     "output_type": "stream",
     "text": [
      "\r",
      "  3%|▎         | 56/2000 [00:04<02:57, 10.94it/s]"
     ]
    },
    {
     "name": "stdout",
     "output_type": "stream",
     "text": [
      "Training_loss 4.62444,   Relative Error 0.81929\n",
      "Training_loss 4.61165,   Relative Error 0.81815\n",
      "Training_loss 4.58554,   Relative Error 0.81582\n"
     ]
    },
    {
     "name": "stderr",
     "output_type": "stream",
     "text": [
      "\r",
      "  3%|▎         | 58/2000 [00:04<02:54, 11.11it/s]"
     ]
    },
    {
     "name": "stdout",
     "output_type": "stream",
     "text": [
      "Training_loss 4.56721,   Relative Error 0.81417\n",
      "Training_loss 4.54946,   Relative Error 0.81257\n"
     ]
    },
    {
     "name": "stderr",
     "output_type": "stream",
     "text": [
      "\r",
      "  3%|▎         | 60/2000 [00:05<03:09, 10.25it/s]"
     ]
    },
    {
     "name": "stdout",
     "output_type": "stream",
     "text": [
      "Training_loss 4.53362,   Relative Error 0.81115\n",
      "Training_loss 4.51367,   Relative Error 0.80937\n"
     ]
    },
    {
     "name": "stderr",
     "output_type": "stream",
     "text": [
      "\r",
      "  3%|▎         | 62/2000 [00:05<03:18,  9.79it/s]"
     ]
    },
    {
     "name": "stdout",
     "output_type": "stream",
     "text": [
      "Training_loss 4.49072,   Relative Error 0.80734\n",
      "Training_loss 4.47271,   Relative Error 0.80573\n"
     ]
    },
    {
     "name": "stderr",
     "output_type": "stream",
     "text": [
      "\r",
      "  3%|▎         | 64/2000 [00:05<03:57,  8.16it/s]"
     ]
    },
    {
     "name": "stdout",
     "output_type": "stream",
     "text": [
      "Training_loss 4.45660,   Relative Error 0.80426\n"
     ]
    },
    {
     "name": "stderr",
     "output_type": "stream",
     "text": [
      "\r",
      "  3%|▎         | 65/2000 [00:06<05:13,  6.18it/s]"
     ]
    },
    {
     "name": "stdout",
     "output_type": "stream",
     "text": [
      "Training_loss 4.44310,   Relative Error 0.80305\n"
     ]
    },
    {
     "name": "stderr",
     "output_type": "stream",
     "text": [
      "  3%|▎         | 67/2000 [00:06<05:12,  6.19it/s]"
     ]
    },
    {
     "name": "stdout",
     "output_type": "stream",
     "text": [
      "Training_loss 4.43139,   Relative Error 0.80199\n",
      "Training_loss 4.41823,   Relative Error 0.80079\n",
      "Training_loss 4.40382,   Relative Error 0.79949\n"
     ]
    },
    {
     "name": "stderr",
     "output_type": "stream",
     "text": [
      "  4%|▎         | 71/2000 [00:06<03:40,  8.76it/s]"
     ]
    },
    {
     "name": "stdout",
     "output_type": "stream",
     "text": [
      "Training_loss 4.38553,   Relative Error 0.79782\n",
      "Training_loss 4.37279,   Relative Error 0.79666\n",
      "Training_loss 4.36217,   Relative Error 0.79569\n"
     ]
    },
    {
     "name": "stderr",
     "output_type": "stream",
     "text": [
      "\r",
      "  4%|▎         | 73/2000 [00:06<03:21,  9.55it/s]"
     ]
    },
    {
     "name": "stdout",
     "output_type": "stream",
     "text": [
      "Training_loss 4.35596,   Relative Error 0.79512\n",
      "Training_loss 4.34452,   Relative Error 0.79407\n",
      "Training_loss 4.32593,   Relative Error 0.79238\n"
     ]
    },
    {
     "name": "stderr",
     "output_type": "stream",
     "text": [
      "  4%|▍         | 76/2000 [00:07<03:47,  8.45it/s]"
     ]
    },
    {
     "name": "stdout",
     "output_type": "stream",
     "text": [
      "Training_loss 4.30867,   Relative Error 0.79081\n",
      "Training_loss 4.28820,   Relative Error 0.78892\n"
     ]
    },
    {
     "name": "stderr",
     "output_type": "stream",
     "text": [
      "  4%|▍         | 79/2000 [00:07<03:33,  8.98it/s]"
     ]
    },
    {
     "name": "stdout",
     "output_type": "stream",
     "text": [
      "Training_loss 4.27193,   Relative Error 0.78741\n",
      "Training_loss 4.25508,   Relative Error 0.78585\n",
      "Training_loss 4.23633,   Relative Error 0.78413\n"
     ]
    },
    {
     "name": "stderr",
     "output_type": "stream",
     "text": [
      "  4%|▍         | 82/2000 [00:07<03:15,  9.81it/s]"
     ]
    },
    {
     "name": "stdout",
     "output_type": "stream",
     "text": [
      "Training_loss 4.21954,   Relative Error 0.78259\n",
      "Training_loss 4.20267,   Relative Error 0.78100\n",
      "Training_loss 4.18182,   Relative Error 0.77905\n"
     ]
    },
    {
     "name": "stderr",
     "output_type": "stream",
     "text": [
      "\r",
      "  4%|▍         | 84/2000 [00:08<02:57, 10.81it/s]"
     ]
    },
    {
     "name": "stdout",
     "output_type": "stream",
     "text": [
      "Training_loss 4.16534,   Relative Error 0.77753\n",
      "Training_loss 4.15368,   Relative Error 0.77642\n",
      "Training_loss 4.13397,   Relative Error 0.77456\n"
     ]
    },
    {
     "name": "stderr",
     "output_type": "stream",
     "text": [
      "\r",
      "  4%|▍         | 86/2000 [00:08<02:58, 10.74it/s]"
     ]
    },
    {
     "name": "stdout",
     "output_type": "stream",
     "text": [
      "Training_loss 4.11264,   Relative Error 0.77256\n",
      "Training_loss 4.10186,   Relative Error 0.77156\n"
     ]
    },
    {
     "name": "stderr",
     "output_type": "stream",
     "text": [
      "\r",
      "  4%|▍         | 88/2000 [00:08<03:06, 10.25it/s]"
     ]
    },
    {
     "name": "stdout",
     "output_type": "stream",
     "text": [
      "Training_loss 4.08533,   Relative Error 0.76999\n",
      "Training_loss 4.07241,   Relative Error 0.76878\n"
     ]
    },
    {
     "name": "stderr",
     "output_type": "stream",
     "text": [
      "\r",
      "  4%|▍         | 90/2000 [00:08<03:17,  9.68it/s]"
     ]
    },
    {
     "name": "stdout",
     "output_type": "stream",
     "text": [
      "Training_loss 4.05632,   Relative Error 0.76727\n",
      "Training_loss 4.04708,   Relative Error 0.76640\n"
     ]
    },
    {
     "name": "stderr",
     "output_type": "stream",
     "text": [
      "  5%|▍         | 93/2000 [00:09<03:17,  9.65it/s]"
     ]
    },
    {
     "name": "stdout",
     "output_type": "stream",
     "text": [
      "Training_loss 4.03266,   Relative Error 0.76502\n",
      "Training_loss 4.01611,   Relative Error 0.76345\n",
      "Training_loss 4.00257,   Relative Error 0.76217\n"
     ]
    },
    {
     "name": "stderr",
     "output_type": "stream",
     "text": [
      "  5%|▍         | 97/2000 [00:09<03:01, 10.50it/s]"
     ]
    },
    {
     "name": "stdout",
     "output_type": "stream",
     "text": [
      "Training_loss 3.98871,   Relative Error 0.76086\n",
      "Training_loss 3.98189,   Relative Error 0.76021\n",
      "Training_loss 3.96779,   Relative Error 0.75886\n"
     ]
    },
    {
     "name": "stderr",
     "output_type": "stream",
     "text": [
      "\r",
      "  5%|▍         | 99/2000 [00:09<03:00, 10.56it/s]"
     ]
    },
    {
     "name": "stdout",
     "output_type": "stream",
     "text": [
      "Training_loss 3.95303,   Relative Error 0.75744\n",
      "Training_loss 3.93779,   Relative Error 0.75598\n",
      "Training_loss 3.92457,   Relative Error 0.75473\n"
     ]
    },
    {
     "name": "stderr",
     "output_type": "stream",
     "text": [
      "  5%|▌         | 103/2000 [00:09<02:51, 11.06it/s]"
     ]
    },
    {
     "name": "stdout",
     "output_type": "stream",
     "text": [
      "Training_loss 3.91358,   Relative Error 0.75369\n",
      "Training_loss 3.89471,   Relative Error 0.75186\n",
      "Training_loss 3.87896,   Relative Error 0.75035\n"
     ]
    },
    {
     "name": "stderr",
     "output_type": "stream",
     "text": [
      "\r",
      "  5%|▌         | 105/2000 [00:10<02:51, 11.04it/s]"
     ]
    },
    {
     "name": "stdout",
     "output_type": "stream",
     "text": [
      "Training_loss 3.86909,   Relative Error 0.74940\n",
      "Training_loss 3.85225,   Relative Error 0.74776\n",
      "Training_loss 3.83584,   Relative Error 0.74617\n"
     ]
    },
    {
     "name": "stderr",
     "output_type": "stream",
     "text": [
      "  5%|▌         | 109/2000 [00:10<02:42, 11.62it/s]"
     ]
    },
    {
     "name": "stdout",
     "output_type": "stream",
     "text": [
      "Training_loss 3.81892,   Relative Error 0.74452\n",
      "Training_loss 3.80605,   Relative Error 0.74327\n",
      "Training_loss 3.79431,   Relative Error 0.74213\n"
     ]
    },
    {
     "name": "stderr",
     "output_type": "stream",
     "text": [
      "\r",
      "  6%|▌         | 111/2000 [00:10<02:53, 10.91it/s]"
     ]
    },
    {
     "name": "stdout",
     "output_type": "stream",
     "text": [
      "Training_loss 3.78200,   Relative Error 0.74094\n",
      "Training_loss 3.77263,   Relative Error 0.74003\n"
     ]
    },
    {
     "name": "stderr",
     "output_type": "stream",
     "text": [
      "\r",
      "  6%|▌         | 113/2000 [00:10<02:58, 10.55it/s]"
     ]
    },
    {
     "name": "stdout",
     "output_type": "stream",
     "text": [
      "Training_loss 3.75480,   Relative Error 0.73830\n",
      "Training_loss 3.74177,   Relative Error 0.73704\n",
      "Training_loss 3.72626,   Relative Error 0.73551\n"
     ]
    },
    {
     "name": "stderr",
     "output_type": "stream",
     "text": [
      "  6%|▌         | 117/2000 [00:11<02:43, 11.54it/s]"
     ]
    },
    {
     "name": "stdout",
     "output_type": "stream",
     "text": [
      "Training_loss 3.71163,   Relative Error 0.73406\n",
      "Training_loss 3.69897,   Relative Error 0.73279\n",
      "Training_loss 3.69116,   Relative Error 0.73202\n"
     ]
    },
    {
     "name": "stderr",
     "output_type": "stream",
     "text": [
      "\r",
      "  6%|▌         | 119/2000 [00:11<02:38, 11.85it/s]"
     ]
    },
    {
     "name": "stdout",
     "output_type": "stream",
     "text": [
      "Training_loss 3.67384,   Relative Error 0.73029\n",
      "Training_loss 3.66177,   Relative Error 0.72909\n",
      "Training_loss 3.64833,   Relative Error 0.72777\n"
     ]
    },
    {
     "name": "stderr",
     "output_type": "stream",
     "text": [
      "  6%|▌         | 123/2000 [00:11<02:37, 11.89it/s]"
     ]
    },
    {
     "name": "stdout",
     "output_type": "stream",
     "text": [
      "Training_loss 3.62842,   Relative Error 0.72579\n",
      "Training_loss 3.61146,   Relative Error 0.72409\n",
      "Training_loss 3.59820,   Relative Error 0.72277\n"
     ]
    },
    {
     "name": "stderr",
     "output_type": "stream",
     "text": [
      "\r",
      "  6%|▋         | 125/2000 [00:11<02:35, 12.04it/s]"
     ]
    },
    {
     "name": "stdout",
     "output_type": "stream",
     "text": [
      "Training_loss 3.58869,   Relative Error 0.72181\n",
      "Training_loss 3.58048,   Relative Error 0.72099\n",
      "Training_loss 3.57281,   Relative Error 0.72020\n"
     ]
    },
    {
     "name": "stderr",
     "output_type": "stream",
     "text": [
      "  6%|▋         | 129/2000 [00:12<02:32, 12.26it/s]"
     ]
    },
    {
     "name": "stdout",
     "output_type": "stream",
     "text": [
      "Training_loss 3.56880,   Relative Error 0.71981\n",
      "Training_loss 3.55484,   Relative Error 0.71841\n",
      "Training_loss 3.54048,   Relative Error 0.71694\n"
     ]
    },
    {
     "name": "stderr",
     "output_type": "stream",
     "text": [
      "\r",
      "  7%|▋         | 131/2000 [00:12<02:34, 12.11it/s]"
     ]
    },
    {
     "name": "stdout",
     "output_type": "stream",
     "text": [
      "Training_loss 3.53281,   Relative Error 0.71617\n",
      "Training_loss 3.51602,   Relative Error 0.71446\n",
      "Training_loss 3.50159,   Relative Error 0.71299\n"
     ]
    },
    {
     "name": "stderr",
     "output_type": "stream",
     "text": [
      "  7%|▋         | 135/2000 [00:12<02:37, 11.81it/s]"
     ]
    },
    {
     "name": "stdout",
     "output_type": "stream",
     "text": [
      "Training_loss 3.49028,   Relative Error 0.71183\n",
      "Training_loss 3.47407,   Relative Error 0.71017\n",
      "Training_loss 3.45744,   Relative Error 0.70846\n"
     ]
    },
    {
     "name": "stderr",
     "output_type": "stream",
     "text": [
      "\r",
      "  7%|▋         | 137/2000 [00:12<02:55, 10.59it/s]"
     ]
    },
    {
     "name": "stdout",
     "output_type": "stream",
     "text": [
      "Training_loss 3.44423,   Relative Error 0.70711\n",
      "Training_loss 3.43721,   Relative Error 0.70640\n",
      "Training_loss 3.42455,   Relative Error 0.70508\n"
     ]
    },
    {
     "name": "stderr",
     "output_type": "stream",
     "text": [
      "  7%|▋         | 141/2000 [00:13<02:48, 11.02it/s]"
     ]
    },
    {
     "name": "stdout",
     "output_type": "stream",
     "text": [
      "Training_loss 3.41322,   Relative Error 0.70391\n",
      "Training_loss 3.39981,   Relative Error 0.70253\n",
      "Training_loss 3.38788,   Relative Error 0.70129\n"
     ]
    },
    {
     "name": "stderr",
     "output_type": "stream",
     "text": [
      "\r",
      "  7%|▋         | 143/2000 [00:13<02:47, 11.09it/s]"
     ]
    },
    {
     "name": "stdout",
     "output_type": "stream",
     "text": [
      "Training_loss 3.37529,   Relative Error 0.70000\n",
      "Training_loss 3.36452,   Relative Error 0.69889\n",
      "Training_loss 3.35446,   Relative Error 0.69784\n"
     ]
    },
    {
     "name": "stderr",
     "output_type": "stream",
     "text": [
      "  7%|▋         | 147/2000 [00:13<02:41, 11.50it/s]"
     ]
    },
    {
     "name": "stdout",
     "output_type": "stream",
     "text": [
      "Training_loss 3.34196,   Relative Error 0.69653\n",
      "Training_loss 3.32606,   Relative Error 0.69487\n",
      "Training_loss 3.31222,   Relative Error 0.69343\n"
     ]
    },
    {
     "name": "stderr",
     "output_type": "stream",
     "text": [
      "\r",
      "  7%|▋         | 149/2000 [00:13<02:45, 11.19it/s]"
     ]
    },
    {
     "name": "stdout",
     "output_type": "stream",
     "text": [
      "Training_loss 3.30356,   Relative Error 0.69253\n",
      "Training_loss 3.29178,   Relative Error 0.69130\n",
      "Training_loss 3.27737,   Relative Error 0.68978\n"
     ]
    },
    {
     "name": "stderr",
     "output_type": "stream",
     "text": [
      "  8%|▊         | 153/2000 [00:14<02:29, 12.37it/s]"
     ]
    },
    {
     "name": "stdout",
     "output_type": "stream",
     "text": [
      "Training_loss 3.26838,   Relative Error 0.68883\n",
      "Training_loss 3.25580,   Relative Error 0.68750\n",
      "Training_loss 3.24629,   Relative Error 0.68651\n"
     ]
    },
    {
     "name": "stderr",
     "output_type": "stream",
     "text": [
      "\r",
      "  8%|▊         | 155/2000 [00:14<02:32, 12.08it/s]"
     ]
    },
    {
     "name": "stdout",
     "output_type": "stream",
     "text": [
      "Training_loss 3.23843,   Relative Error 0.68568\n",
      "Training_loss 3.22581,   Relative Error 0.68436\n",
      "Training_loss 3.21616,   Relative Error 0.68334\n"
     ]
    },
    {
     "name": "stderr",
     "output_type": "stream",
     "text": [
      "  8%|▊         | 159/2000 [00:14<02:23, 12.81it/s]"
     ]
    },
    {
     "name": "stdout",
     "output_type": "stream",
     "text": [
      "Training_loss 3.21140,   Relative Error 0.68283\n",
      "Training_loss 3.19967,   Relative Error 0.68159\n",
      "Training_loss 3.18641,   Relative Error 0.68019\n",
      "Training_loss 3.17948,   Relative Error 0.67946\n"
     ]
    },
    {
     "name": "stderr",
     "output_type": "stream",
     "text": [
      "  8%|▊         | 163/2000 [00:15<02:32, 12.06it/s]"
     ]
    },
    {
     "name": "stdout",
     "output_type": "stream",
     "text": [
      "Training_loss 3.16734,   Relative Error 0.67817\n",
      "Training_loss 3.15779,   Relative Error 0.67716\n",
      "Training_loss 3.14154,   Relative Error 0.67545\n"
     ]
    },
    {
     "name": "stderr",
     "output_type": "stream",
     "text": [
      "\r",
      "  8%|▊         | 165/2000 [00:15<02:28, 12.37it/s]"
     ]
    },
    {
     "name": "stdout",
     "output_type": "stream",
     "text": [
      "Training_loss 3.13091,   Relative Error 0.67431\n",
      "Training_loss 3.12186,   Relative Error 0.67333\n",
      "Training_loss 3.10925,   Relative Error 0.67198\n"
     ]
    },
    {
     "name": "stderr",
     "output_type": "stream",
     "text": [
      "  8%|▊         | 169/2000 [00:15<02:31, 12.06it/s]"
     ]
    },
    {
     "name": "stdout",
     "output_type": "stream",
     "text": [
      "Training_loss 3.09956,   Relative Error 0.67092\n",
      "Training_loss 3.08543,   Relative Error 0.66941\n",
      "Training_loss 3.07998,   Relative Error 0.66882\n"
     ]
    },
    {
     "name": "stderr",
     "output_type": "stream",
     "text": [
      "\r",
      "  9%|▊         | 171/2000 [00:15<02:33, 11.90it/s]"
     ]
    },
    {
     "name": "stdout",
     "output_type": "stream",
     "text": [
      "Training_loss 3.06967,   Relative Error 0.66770\n",
      "Training_loss 3.05649,   Relative Error 0.66626\n",
      "Training_loss 3.04812,   Relative Error 0.66535\n"
     ]
    },
    {
     "name": "stderr",
     "output_type": "stream",
     "text": [
      "  9%|▉         | 175/2000 [00:16<02:37, 11.57it/s]"
     ]
    },
    {
     "name": "stdout",
     "output_type": "stream",
     "text": [
      "Training_loss 3.03557,   Relative Error 0.66399\n",
      "Training_loss 3.02467,   Relative Error 0.66280\n",
      "Training_loss 3.01841,   Relative Error 0.66210\n"
     ]
    },
    {
     "name": "stderr",
     "output_type": "stream",
     "text": [
      "\r",
      "  9%|▉         | 177/2000 [00:16<02:40, 11.33it/s]"
     ]
    },
    {
     "name": "stdout",
     "output_type": "stream",
     "text": [
      "Training_loss 3.01167,   Relative Error 0.66138\n",
      "Training_loss 3.00677,   Relative Error 0.66084\n",
      "Training_loss 2.99965,   Relative Error 0.66006\n"
     ]
    },
    {
     "name": "stderr",
     "output_type": "stream",
     "text": [
      "  9%|▉         | 181/2000 [00:16<02:28, 12.27it/s]"
     ]
    },
    {
     "name": "stdout",
     "output_type": "stream",
     "text": [
      "Training_loss 2.98252,   Relative Error 0.65818\n",
      "Training_loss 2.97323,   Relative Error 0.65715\n",
      "Training_loss 2.96527,   Relative Error 0.65625\n"
     ]
    },
    {
     "name": "stderr",
     "output_type": "stream",
     "text": [
      "\r",
      "  9%|▉         | 183/2000 [00:16<02:29, 12.16it/s]"
     ]
    },
    {
     "name": "stdout",
     "output_type": "stream",
     "text": [
      "Training_loss 2.95747,   Relative Error 0.65539\n",
      "Training_loss 2.94719,   Relative Error 0.65425\n",
      "Training_loss 2.93969,   Relative Error 0.65343\n"
     ]
    },
    {
     "name": "stderr",
     "output_type": "stream",
     "text": [
      "\r",
      "  9%|▉         | 185/2000 [00:16<02:38, 11.49it/s]"
     ]
    },
    {
     "name": "stdout",
     "output_type": "stream",
     "text": [
      "Training_loss 2.92974,   Relative Error 0.65232\n",
      "Training_loss 2.91886,   Relative Error 0.65111\n"
     ]
    },
    {
     "name": "stderr",
     "output_type": "stream",
     "text": [
      "  9%|▉         | 189/2000 [00:17<02:36, 11.55it/s]"
     ]
    },
    {
     "name": "stdout",
     "output_type": "stream",
     "text": [
      "Training_loss 2.90766,   Relative Error 0.64986\n",
      "Training_loss 2.89818,   Relative Error 0.64880\n",
      "Training_loss 2.89274,   Relative Error 0.64818\n"
     ]
    },
    {
     "name": "stderr",
     "output_type": "stream",
     "text": [
      "\r",
      " 10%|▉         | 191/2000 [00:17<02:30, 12.04it/s]"
     ]
    },
    {
     "name": "stdout",
     "output_type": "stream",
     "text": [
      "Training_loss 2.88155,   Relative Error 0.64692\n",
      "Training_loss 2.87055,   Relative Error 0.64567\n",
      "Training_loss 2.86151,   Relative Error 0.64466\n"
     ]
    },
    {
     "name": "stderr",
     "output_type": "stream",
     "text": [
      " 10%|▉         | 195/2000 [00:17<02:35, 11.63it/s]"
     ]
    },
    {
     "name": "stdout",
     "output_type": "stream",
     "text": [
      "Training_loss 2.85275,   Relative Error 0.64367\n",
      "Training_loss 2.84289,   Relative Error 0.64257\n",
      "Training_loss 2.83050,   Relative Error 0.64118\n"
     ]
    },
    {
     "name": "stderr",
     "output_type": "stream",
     "text": [
      "\r",
      " 10%|▉         | 197/2000 [00:17<02:46, 10.82it/s]"
     ]
    },
    {
     "name": "stdout",
     "output_type": "stream",
     "text": [
      "Training_loss 2.81878,   Relative Error 0.63984\n",
      "Training_loss 2.81116,   Relative Error 0.63899\n"
     ]
    },
    {
     "name": "stderr",
     "output_type": "stream",
     "text": [
      "\r",
      " 10%|▉         | 199/2000 [00:18<02:50, 10.53it/s]"
     ]
    },
    {
     "name": "stdout",
     "output_type": "stream",
     "text": [
      "Training_loss 2.80306,   Relative Error 0.63805\n",
      "Training_loss 2.78976,   Relative Error 0.63654\n",
      "Training_loss 2.78249,   Relative Error 0.63569\n"
     ]
    },
    {
     "name": "stderr",
     "output_type": "stream",
     "text": [
      "\r",
      " 10%|█         | 201/2000 [00:18<03:02,  9.88it/s]"
     ]
    },
    {
     "name": "stdout",
     "output_type": "stream",
     "text": [
      "Training_loss 2.77411,   Relative Error 0.63474\n",
      "Training_loss 2.76598,   Relative Error 0.63381\n"
     ]
    },
    {
     "name": "stderr",
     "output_type": "stream",
     "text": [
      "\r",
      " 10%|█         | 203/2000 [00:18<03:01,  9.88it/s]"
     ]
    },
    {
     "name": "stdout",
     "output_type": "stream",
     "text": [
      "Training_loss 2.75073,   Relative Error 0.63207\n",
      "Training_loss 2.73992,   Relative Error 0.63082\n"
     ]
    },
    {
     "name": "stderr",
     "output_type": "stream",
     "text": [
      " 10%|█         | 206/2000 [00:18<03:04,  9.71it/s]"
     ]
    },
    {
     "name": "stdout",
     "output_type": "stream",
     "text": [
      "Training_loss 2.73128,   Relative Error 0.62984\n",
      "Training_loss 2.72245,   Relative Error 0.62884\n"
     ]
    },
    {
     "name": "stderr",
     "output_type": "stream",
     "text": [
      " 10%|█         | 208/2000 [00:19<03:07,  9.57it/s]"
     ]
    },
    {
     "name": "stdout",
     "output_type": "stream",
     "text": [
      "Training_loss 2.71208,   Relative Error 0.62763\n",
      "Training_loss 2.70327,   Relative Error 0.62661\n"
     ]
    },
    {
     "name": "stderr",
     "output_type": "stream",
     "text": [
      " 11%|█         | 211/2000 [00:19<03:05,  9.64it/s]"
     ]
    },
    {
     "name": "stdout",
     "output_type": "stream",
     "text": [
      "Training_loss 2.69925,   Relative Error 0.62614\n",
      "Training_loss 2.68846,   Relative Error 0.62489\n",
      "Training_loss 2.68124,   Relative Error 0.62404\n"
     ]
    },
    {
     "name": "stderr",
     "output_type": "stream",
     "text": [
      " 11%|█         | 213/2000 [00:19<03:09,  9.45it/s]"
     ]
    },
    {
     "name": "stdout",
     "output_type": "stream",
     "text": [
      "Training_loss 2.67212,   Relative Error 0.62297\n",
      "Training_loss 2.66373,   Relative Error 0.62199\n"
     ]
    },
    {
     "name": "stderr",
     "output_type": "stream",
     "text": [
      "\r",
      " 11%|█         | 215/2000 [00:19<02:57, 10.08it/s]"
     ]
    },
    {
     "name": "stdout",
     "output_type": "stream",
     "text": [
      "Training_loss 2.65015,   Relative Error 0.62040\n",
      "Training_loss 2.64126,   Relative Error 0.61935\n"
     ]
    },
    {
     "name": "stderr",
     "output_type": "stream",
     "text": [
      " 11%|█         | 217/2000 [00:20<03:02,  9.78it/s]"
     ]
    },
    {
     "name": "stdout",
     "output_type": "stream",
     "text": [
      "Training_loss 2.62841,   Relative Error 0.61786\n",
      "Training_loss 2.62190,   Relative Error 0.61709\n",
      "Training_loss 2.61548,   Relative Error 0.61633\n"
     ]
    },
    {
     "name": "stderr",
     "output_type": "stream",
     "text": [
      " 11%|█         | 221/2000 [00:20<02:43, 10.86it/s]"
     ]
    },
    {
     "name": "stdout",
     "output_type": "stream",
     "text": [
      "Training_loss 2.60710,   Relative Error 0.61534\n",
      "Training_loss 2.59642,   Relative Error 0.61409\n",
      "Training_loss 2.58509,   Relative Error 0.61275\n"
     ]
    },
    {
     "name": "stderr",
     "output_type": "stream",
     "text": [
      "\r",
      " 11%|█         | 223/2000 [00:20<02:33, 11.54it/s]"
     ]
    },
    {
     "name": "stdout",
     "output_type": "stream",
     "text": [
      "Training_loss 2.57683,   Relative Error 0.61178\n",
      "Training_loss 2.57094,   Relative Error 0.61107\n",
      "Training_loss 2.56231,   Relative Error 0.61005\n"
     ]
    },
    {
     "name": "stderr",
     "output_type": "stream",
     "text": [
      " 11%|█▏        | 227/2000 [00:20<02:37, 11.27it/s]"
     ]
    },
    {
     "name": "stdout",
     "output_type": "stream",
     "text": [
      "Training_loss 2.55143,   Relative Error 0.60876\n",
      "Training_loss 2.54538,   Relative Error 0.60804\n",
      "Training_loss 2.53818,   Relative Error 0.60719\n"
     ]
    },
    {
     "name": "stderr",
     "output_type": "stream",
     "text": [
      "\r",
      " 11%|█▏        | 229/2000 [00:21<02:32, 11.64it/s]"
     ]
    },
    {
     "name": "stdout",
     "output_type": "stream",
     "text": [
      "Training_loss 2.53055,   Relative Error 0.60626\n",
      "Training_loss 2.52114,   Relative Error 0.60514\n",
      "Training_loss 2.51264,   Relative Error 0.60412\n"
     ]
    },
    {
     "name": "stderr",
     "output_type": "stream",
     "text": [
      " 12%|█▏        | 233/2000 [00:21<02:36, 11.28it/s]"
     ]
    },
    {
     "name": "stdout",
     "output_type": "stream",
     "text": [
      "Training_loss 2.50545,   Relative Error 0.60326\n",
      "Training_loss 2.49151,   Relative Error 0.60157\n",
      "Training_loss 2.48032,   Relative Error 0.60020\n"
     ]
    },
    {
     "name": "stderr",
     "output_type": "stream",
     "text": [
      "\r",
      " 12%|█▏        | 235/2000 [00:21<02:36, 11.31it/s]"
     ]
    },
    {
     "name": "stdout",
     "output_type": "stream",
     "text": [
      "Training_loss 2.47111,   Relative Error 0.59907\n",
      "Training_loss 2.45966,   Relative Error 0.59769\n"
     ]
    },
    {
     "name": "stderr",
     "output_type": "stream",
     "text": [
      "\r",
      " 12%|█▏        | 237/2000 [00:21<02:39, 11.08it/s]"
     ]
    },
    {
     "name": "stdout",
     "output_type": "stream",
     "text": [
      "Training_loss 2.45151,   Relative Error 0.59670\n",
      "Training_loss 2.44464,   Relative Error 0.59586\n",
      "Training_loss 2.43835,   Relative Error 0.59509\n"
     ]
    },
    {
     "name": "stderr",
     "output_type": "stream",
     "text": [
      " 12%|█▏        | 241/2000 [00:22<02:32, 11.55it/s]"
     ]
    },
    {
     "name": "stdout",
     "output_type": "stream",
     "text": [
      "Training_loss 2.42978,   Relative Error 0.59405\n",
      "Training_loss 2.42384,   Relative Error 0.59332\n",
      "Training_loss 2.41524,   Relative Error 0.59228\n"
     ]
    },
    {
     "name": "stderr",
     "output_type": "stream",
     "text": [
      "\r",
      " 12%|█▏        | 243/2000 [00:22<02:29, 11.74it/s]"
     ]
    },
    {
     "name": "stdout",
     "output_type": "stream",
     "text": [
      "Training_loss 2.40706,   Relative Error 0.59128\n",
      "Training_loss 2.39525,   Relative Error 0.58982\n",
      "Training_loss 2.38568,   Relative Error 0.58863\n"
     ]
    },
    {
     "name": "stderr",
     "output_type": "stream",
     "text": [
      " 12%|█▏        | 247/2000 [00:22<02:39, 11.00it/s]"
     ]
    },
    {
     "name": "stdout",
     "output_type": "stream",
     "text": [
      "Training_loss 2.37480,   Relative Error 0.58728\n",
      "Training_loss 2.36657,   Relative Error 0.58626\n",
      "Training_loss 2.35620,   Relative Error 0.58498\n"
     ]
    },
    {
     "name": "stderr",
     "output_type": "stream",
     "text": [
      "\r",
      " 12%|█▏        | 249/2000 [00:22<02:35, 11.26it/s]"
     ]
    },
    {
     "name": "stdout",
     "output_type": "stream",
     "text": [
      "Training_loss 2.34843,   Relative Error 0.58401\n",
      "Training_loss 2.34393,   Relative Error 0.58346\n",
      "Training_loss 2.33765,   Relative Error 0.58268\n"
     ]
    },
    {
     "name": "stderr",
     "output_type": "stream",
     "text": [
      "\r",
      " 13%|█▎        | 251/2000 [00:23<02:51, 10.21it/s]"
     ]
    },
    {
     "name": "stdout",
     "output_type": "stream",
     "text": [
      "Training_loss 2.32993,   Relative Error 0.58170\n",
      "Training_loss 2.32360,   Relative Error 0.58092\n"
     ]
    },
    {
     "name": "stderr",
     "output_type": "stream",
     "text": [
      "\r",
      " 13%|█▎        | 253/2000 [00:23<02:53, 10.05it/s]"
     ]
    },
    {
     "name": "stdout",
     "output_type": "stream",
     "text": [
      "Training_loss 2.31224,   Relative Error 0.57949\n",
      "Training_loss 2.30388,   Relative Error 0.57844\n"
     ]
    },
    {
     "name": "stderr",
     "output_type": "stream",
     "text": [
      " 13%|█▎        | 256/2000 [00:23<03:05,  9.38it/s]"
     ]
    },
    {
     "name": "stdout",
     "output_type": "stream",
     "text": [
      "Training_loss 2.29177,   Relative Error 0.57692\n",
      "Training_loss 2.28448,   Relative Error 0.57599\n"
     ]
    },
    {
     "name": "stderr",
     "output_type": "stream",
     "text": [
      " 13%|█▎        | 258/2000 [00:23<03:19,  8.72it/s]"
     ]
    },
    {
     "name": "stdout",
     "output_type": "stream",
     "text": [
      "Training_loss 2.28133,   Relative Error 0.57559\n",
      "Training_loss 2.27135,   Relative Error 0.57433\n"
     ]
    },
    {
     "name": "stderr",
     "output_type": "stream",
     "text": [
      "\r",
      " 13%|█▎        | 260/2000 [00:24<03:15,  8.92it/s]"
     ]
    },
    {
     "name": "stdout",
     "output_type": "stream",
     "text": [
      "Training_loss 2.26590,   Relative Error 0.57366\n",
      "Training_loss 2.25894,   Relative Error 0.57278\n",
      "Training_loss 2.25103,   Relative Error 0.57178\n"
     ]
    },
    {
     "name": "stderr",
     "output_type": "stream",
     "text": [
      " 13%|█▎        | 264/2000 [00:24<02:43, 10.62it/s]"
     ]
    },
    {
     "name": "stdout",
     "output_type": "stream",
     "text": [
      "Training_loss 2.24252,   Relative Error 0.57069\n",
      "Training_loss 2.23257,   Relative Error 0.56943\n",
      "Training_loss 2.22195,   Relative Error 0.56808\n"
     ]
    },
    {
     "name": "stderr",
     "output_type": "stream",
     "text": [
      "\r",
      " 13%|█▎        | 266/2000 [00:24<03:08,  9.19it/s]"
     ]
    },
    {
     "name": "stdout",
     "output_type": "stream",
     "text": [
      "Training_loss 2.21374,   Relative Error 0.56701\n",
      "Training_loss 2.20635,   Relative Error 0.56607\n"
     ]
    },
    {
     "name": "stderr",
     "output_type": "stream",
     "text": [
      " 13%|█▎        | 268/2000 [00:25<03:50,  7.50it/s]"
     ]
    },
    {
     "name": "stdout",
     "output_type": "stream",
     "text": [
      "Training_loss 2.19993,   Relative Error 0.56525\n",
      "Training_loss 2.19146,   Relative Error 0.56418\n"
     ]
    },
    {
     "name": "stderr",
     "output_type": "stream",
     "text": [
      "\r",
      " 14%|█▎        | 270/2000 [00:25<03:22,  8.52it/s]"
     ]
    },
    {
     "name": "stdout",
     "output_type": "stream",
     "text": [
      "Training_loss 2.18143,   Relative Error 0.56288\n",
      "Training_loss 2.17500,   Relative Error 0.56205\n"
     ]
    },
    {
     "name": "stderr",
     "output_type": "stream",
     "text": [
      " 14%|█▎        | 272/2000 [00:25<03:50,  7.49it/s]"
     ]
    },
    {
     "name": "stdout",
     "output_type": "stream",
     "text": [
      "Training_loss 2.16439,   Relative Error 0.56066\n",
      "Training_loss 2.15538,   Relative Error 0.55949\n"
     ]
    },
    {
     "name": "stderr",
     "output_type": "stream",
     "text": [
      " 14%|█▎        | 274/2000 [00:26<04:44,  6.07it/s]"
     ]
    },
    {
     "name": "stdout",
     "output_type": "stream",
     "text": [
      "Training_loss 2.15123,   Relative Error 0.55895\n",
      "Training_loss 2.14506,   Relative Error 0.55815\n"
     ]
    },
    {
     "name": "stderr",
     "output_type": "stream",
     "text": [
      "\r",
      " 14%|█▍        | 276/2000 [00:26<03:58,  7.23it/s]"
     ]
    },
    {
     "name": "stdout",
     "output_type": "stream",
     "text": [
      "Training_loss 2.13909,   Relative Error 0.55737\n",
      "Training_loss 2.13293,   Relative Error 0.55657\n"
     ]
    },
    {
     "name": "stderr",
     "output_type": "stream",
     "text": [
      " 14%|█▍        | 278/2000 [00:26<04:27,  6.44it/s]"
     ]
    },
    {
     "name": "stdout",
     "output_type": "stream",
     "text": [
      "Training_loss 2.12526,   Relative Error 0.55558\n",
      "Training_loss 2.11487,   Relative Error 0.55421\n"
     ]
    },
    {
     "name": "stderr",
     "output_type": "stream",
     "text": [
      "\r",
      " 14%|█▍        | 279/2000 [00:26<04:15,  6.73it/s]"
     ]
    },
    {
     "name": "stdout",
     "output_type": "stream",
     "text": [
      "Training_loss 2.10448,   Relative Error 0.55286\n"
     ]
    },
    {
     "name": "stderr",
     "output_type": "stream",
     "text": [
      "\r",
      " 14%|█▍        | 280/2000 [00:26<04:40,  6.13it/s]"
     ]
    },
    {
     "name": "stdout",
     "output_type": "stream",
     "text": [
      "Training_loss 2.09950,   Relative Error 0.55221\n"
     ]
    },
    {
     "name": "stderr",
     "output_type": "stream",
     "text": [
      " 14%|█▍        | 282/2000 [00:27<04:34,  6.26it/s]"
     ]
    },
    {
     "name": "stdout",
     "output_type": "stream",
     "text": [
      "Training_loss 2.09644,   Relative Error 0.55180\n",
      "Training_loss 2.08978,   Relative Error 0.55093\n",
      "Training_loss 2.08436,   Relative Error 0.55021\n"
     ]
    },
    {
     "name": "stderr",
     "output_type": "stream",
     "text": [
      " 14%|█▍        | 285/2000 [00:27<03:57,  7.23it/s]"
     ]
    },
    {
     "name": "stdout",
     "output_type": "stream",
     "text": [
      "Training_loss 2.08012,   Relative Error 0.54965\n",
      "Training_loss 2.06784,   Relative Error 0.54803\n"
     ]
    },
    {
     "name": "stderr",
     "output_type": "stream",
     "text": [
      " 14%|█▍        | 287/2000 [00:27<03:35,  7.97it/s]"
     ]
    },
    {
     "name": "stdout",
     "output_type": "stream",
     "text": [
      "Training_loss 2.06193,   Relative Error 0.54724\n",
      "Training_loss 2.05361,   Relative Error 0.54614\n"
     ]
    },
    {
     "name": "stderr",
     "output_type": "stream",
     "text": [
      " 14%|█▍        | 289/2000 [00:28<04:01,  7.09it/s]"
     ]
    },
    {
     "name": "stdout",
     "output_type": "stream",
     "text": [
      "Training_loss 2.04602,   Relative Error 0.54513\n",
      "Training_loss 2.03924,   Relative Error 0.54423\n"
     ]
    },
    {
     "name": "stderr",
     "output_type": "stream",
     "text": [
      " 15%|█▍        | 291/2000 [00:28<03:55,  7.26it/s]"
     ]
    },
    {
     "name": "stdout",
     "output_type": "stream",
     "text": [
      "Training_loss 2.03423,   Relative Error 0.54356\n",
      "Training_loss 2.02571,   Relative Error 0.54242\n"
     ]
    },
    {
     "name": "stderr",
     "output_type": "stream",
     "text": [
      " 15%|█▍        | 293/2000 [00:28<03:47,  7.52it/s]"
     ]
    },
    {
     "name": "stdout",
     "output_type": "stream",
     "text": [
      "Training_loss 2.01632,   Relative Error 0.54117\n",
      "Training_loss 2.01009,   Relative Error 0.54033\n"
     ]
    },
    {
     "name": "stderr",
     "output_type": "stream",
     "text": [
      " 15%|█▍        | 296/2000 [00:28<02:59,  9.48it/s]"
     ]
    },
    {
     "name": "stdout",
     "output_type": "stream",
     "text": [
      "Training_loss 2.00256,   Relative Error 0.53933\n",
      "Training_loss 1.99842,   Relative Error 0.53877\n",
      "Training_loss 1.98863,   Relative Error 0.53745\n"
     ]
    },
    {
     "name": "stderr",
     "output_type": "stream",
     "text": [
      "\r",
      " 15%|█▍        | 298/2000 [00:29<02:41, 10.57it/s]"
     ]
    },
    {
     "name": "stdout",
     "output_type": "stream",
     "text": [
      "Training_loss 1.97991,   Relative Error 0.53629\n",
      "Training_loss 1.97456,   Relative Error 0.53556\n",
      "Training_loss 1.96988,   Relative Error 0.53493\n"
     ]
    },
    {
     "name": "stderr",
     "output_type": "stream",
     "text": [
      " 15%|█▌        | 301/2000 [00:29<02:56,  9.65it/s]"
     ]
    },
    {
     "name": "stdout",
     "output_type": "stream",
     "text": [
      "Training_loss 1.95952,   Relative Error 0.53352\n",
      "Training_loss 1.95246,   Relative Error 0.53256\n"
     ]
    },
    {
     "name": "stderr",
     "output_type": "stream",
     "text": [
      " 15%|█▌        | 304/2000 [00:29<02:58,  9.49it/s]"
     ]
    },
    {
     "name": "stdout",
     "output_type": "stream",
     "text": [
      "Training_loss 1.94522,   Relative Error 0.53156\n",
      "Training_loss 1.93920,   Relative Error 0.53075\n",
      "Training_loss 1.93351,   Relative Error 0.52997\n"
     ]
    },
    {
     "name": "stderr",
     "output_type": "stream",
     "text": [
      " 15%|█▌        | 307/2000 [00:30<02:53,  9.73it/s]"
     ]
    },
    {
     "name": "stdout",
     "output_type": "stream",
     "text": [
      "Training_loss 1.92622,   Relative Error 0.52897\n",
      "Training_loss 1.91829,   Relative Error 0.52788\n",
      "Training_loss 1.91233,   Relative Error 0.52707\n"
     ]
    },
    {
     "name": "stderr",
     "output_type": "stream",
     "text": [
      " 15%|█▌        | 309/2000 [00:30<03:08,  8.95it/s]"
     ]
    },
    {
     "name": "stdout",
     "output_type": "stream",
     "text": [
      "Training_loss 1.90527,   Relative Error 0.52611\n",
      "Training_loss 1.89862,   Relative Error 0.52519\n"
     ]
    },
    {
     "name": "stderr",
     "output_type": "stream",
     "text": [
      "\r",
      " 16%|█▌        | 311/2000 [00:30<02:59,  9.43it/s]"
     ]
    },
    {
     "name": "stdout",
     "output_type": "stream",
     "text": [
      "Training_loss 1.89176,   Relative Error 0.52424\n",
      "Training_loss 1.88554,   Relative Error 0.52337\n",
      "Training_loss 1.87674,   Relative Error 0.52214\n"
     ]
    },
    {
     "name": "stderr",
     "output_type": "stream",
     "text": [
      " 16%|█▌        | 315/2000 [00:30<02:46, 10.13it/s]"
     ]
    },
    {
     "name": "stdout",
     "output_type": "stream",
     "text": [
      "Training_loss 1.87257,   Relative Error 0.52156\n",
      "Training_loss 1.86571,   Relative Error 0.52061\n",
      "Training_loss 1.85956,   Relative Error 0.51974\n"
     ]
    },
    {
     "name": "stderr",
     "output_type": "stream",
     "text": [
      " 16%|█▌        | 317/2000 [00:31<02:53,  9.70it/s]"
     ]
    },
    {
     "name": "stdout",
     "output_type": "stream",
     "text": [
      "Training_loss 1.85423,   Relative Error 0.51900\n",
      "Training_loss 1.84765,   Relative Error 0.51807\n",
      "Training_loss 1.84025,   Relative Error 0.51704\n"
     ]
    },
    {
     "name": "stderr",
     "output_type": "stream",
     "text": [
      " 16%|█▌        | 320/2000 [00:31<03:04,  9.12it/s]"
     ]
    },
    {
     "name": "stdout",
     "output_type": "stream",
     "text": [
      "Training_loss 1.83437,   Relative Error 0.51622\n",
      "Training_loss 1.82892,   Relative Error 0.51546\n",
      "Training_loss 1.82252,   Relative Error 0.51456\n"
     ]
    },
    {
     "name": "stderr",
     "output_type": "stream",
     "text": [
      " 16%|█▌        | 324/2000 [00:31<02:43, 10.23it/s]"
     ]
    },
    {
     "name": "stdout",
     "output_type": "stream",
     "text": [
      "Training_loss 1.81635,   Relative Error 0.51369\n",
      "Training_loss 1.81142,   Relative Error 0.51300\n",
      "Training_loss 1.80662,   Relative Error 0.51232\n"
     ]
    },
    {
     "name": "stderr",
     "output_type": "stream",
     "text": [
      "\r",
      " 16%|█▋        | 326/2000 [00:32<02:42, 10.32it/s]"
     ]
    },
    {
     "name": "stdout",
     "output_type": "stream",
     "text": [
      "Training_loss 1.80110,   Relative Error 0.51155\n",
      "Training_loss 1.79525,   Relative Error 0.51073\n",
      "Training_loss 1.78867,   Relative Error 0.50982\n"
     ]
    },
    {
     "name": "stderr",
     "output_type": "stream",
     "text": [
      "\r",
      " 16%|█▋        | 328/2000 [00:32<02:35, 10.76it/s]"
     ]
    },
    {
     "name": "stdout",
     "output_type": "stream",
     "text": [
      "Training_loss 1.78072,   Relative Error 0.50870\n",
      "Training_loss 1.77308,   Relative Error 0.50761\n"
     ]
    },
    {
     "name": "stderr",
     "output_type": "stream",
     "text": [
      " 17%|█▋        | 332/2000 [00:32<02:43, 10.21it/s]"
     ]
    },
    {
     "name": "stdout",
     "output_type": "stream",
     "text": [
      "Training_loss 1.76717,   Relative Error 0.50676\n",
      "Training_loss 1.76270,   Relative Error 0.50611\n",
      "Training_loss 1.75830,   Relative Error 0.50549\n"
     ]
    },
    {
     "name": "stderr",
     "output_type": "stream",
     "text": [
      "\r",
      " 17%|█▋        | 334/2000 [00:32<02:35, 10.73it/s]"
     ]
    },
    {
     "name": "stdout",
     "output_type": "stream",
     "text": [
      "Training_loss 1.75386,   Relative Error 0.50486\n",
      "Training_loss 1.74798,   Relative Error 0.50401\n",
      "Training_loss 1.74198,   Relative Error 0.50314\n"
     ]
    },
    {
     "name": "stderr",
     "output_type": "stream",
     "text": [
      " 17%|█▋        | 338/2000 [00:33<02:30, 11.02it/s]"
     ]
    },
    {
     "name": "stdout",
     "output_type": "stream",
     "text": [
      "Training_loss 1.73603,   Relative Error 0.50227\n",
      "Training_loss 1.73182,   Relative Error 0.50166\n",
      "Training_loss 1.72665,   Relative Error 0.50091\n"
     ]
    },
    {
     "name": "stderr",
     "output_type": "stream",
     "text": [
      "\r",
      " 17%|█▋        | 340/2000 [00:33<02:42, 10.23it/s]"
     ]
    },
    {
     "name": "stdout",
     "output_type": "stream",
     "text": [
      "Training_loss 1.72169,   Relative Error 0.50019\n",
      "Training_loss 1.71700,   Relative Error 0.49950\n"
     ]
    },
    {
     "name": "stderr",
     "output_type": "stream",
     "text": [
      "\r",
      " 17%|█▋        | 342/2000 [00:33<03:07,  8.85it/s]"
     ]
    },
    {
     "name": "stdout",
     "output_type": "stream",
     "text": [
      "Training_loss 1.71211,   Relative Error 0.49879\n",
      "Training_loss 1.70653,   Relative Error 0.49796\n"
     ]
    },
    {
     "name": "stderr",
     "output_type": "stream",
     "text": [
      " 17%|█▋        | 345/2000 [00:33<02:55,  9.43it/s]"
     ]
    },
    {
     "name": "stdout",
     "output_type": "stream",
     "text": [
      "Training_loss 1.69889,   Relative Error 0.49685\n",
      "Training_loss 1.69159,   Relative Error 0.49579\n",
      "Training_loss 1.68543,   Relative Error 0.49489\n"
     ]
    },
    {
     "name": "stderr",
     "output_type": "stream",
     "text": [
      "\r",
      " 17%|█▋        | 347/2000 [00:34<02:43, 10.08it/s]"
     ]
    },
    {
     "name": "stdout",
     "output_type": "stream",
     "text": [
      "Training_loss 1.68061,   Relative Error 0.49418\n",
      "Training_loss 1.67692,   Relative Error 0.49364\n",
      "Training_loss 1.67035,   Relative Error 0.49267\n"
     ]
    },
    {
     "name": "stderr",
     "output_type": "stream",
     "text": [
      "\r",
      " 17%|█▋        | 349/2000 [00:34<02:56,  9.33it/s]"
     ]
    },
    {
     "name": "stdout",
     "output_type": "stream",
     "text": [
      "Training_loss 1.66424,   Relative Error 0.49177\n"
     ]
    },
    {
     "name": "stderr",
     "output_type": "stream",
     "text": [
      " 18%|█▊        | 351/2000 [00:34<03:33,  7.73it/s]"
     ]
    },
    {
     "name": "stdout",
     "output_type": "stream",
     "text": [
      "Training_loss 1.65877,   Relative Error 0.49097\n",
      "Training_loss 1.65350,   Relative Error 0.49018\n"
     ]
    },
    {
     "name": "stderr",
     "output_type": "stream",
     "text": [
      "\r",
      " 18%|█▊        | 353/2000 [00:34<03:04,  8.92it/s]"
     ]
    },
    {
     "name": "stdout",
     "output_type": "stream",
     "text": [
      "Training_loss 1.64807,   Relative Error 0.48938\n",
      "Training_loss 1.64176,   Relative Error 0.48844\n",
      "Training_loss 1.63502,   Relative Error 0.48744\n"
     ]
    },
    {
     "name": "stderr",
     "output_type": "stream",
     "text": [
      " 18%|█▊        | 357/2000 [00:35<02:48,  9.77it/s]"
     ]
    },
    {
     "name": "stdout",
     "output_type": "stream",
     "text": [
      "Training_loss 1.63136,   Relative Error 0.48690\n",
      "Training_loss 1.62293,   Relative Error 0.48564\n",
      "Training_loss 1.61922,   Relative Error 0.48509\n"
     ]
    },
    {
     "name": "stderr",
     "output_type": "stream",
     "text": [
      "\r",
      " 18%|█▊        | 359/2000 [00:35<02:34, 10.62it/s]"
     ]
    },
    {
     "name": "stdout",
     "output_type": "stream",
     "text": [
      "Training_loss 1.61621,   Relative Error 0.48465\n",
      "Training_loss 1.60956,   Relative Error 0.48366\n",
      "Training_loss 1.60518,   Relative Error 0.48300\n"
     ]
    },
    {
     "name": "stderr",
     "output_type": "stream",
     "text": [
      "\r",
      " 18%|█▊        | 361/2000 [00:35<02:48,  9.75it/s]"
     ]
    },
    {
     "name": "stdout",
     "output_type": "stream",
     "text": [
      "Training_loss 1.59862,   Relative Error 0.48201\n",
      "Training_loss 1.59371,   Relative Error 0.48127\n"
     ]
    },
    {
     "name": "stderr",
     "output_type": "stream",
     "text": [
      " 18%|█▊        | 364/2000 [00:36<03:39,  7.44it/s]"
     ]
    },
    {
     "name": "stdout",
     "output_type": "stream",
     "text": [
      "Training_loss 1.58804,   Relative Error 0.48041\n",
      "Training_loss 1.58427,   Relative Error 0.47984\n"
     ]
    },
    {
     "name": "stderr",
     "output_type": "stream",
     "text": [
      " 18%|█▊        | 366/2000 [00:36<04:12,  6.46it/s]"
     ]
    },
    {
     "name": "stdout",
     "output_type": "stream",
     "text": [
      "Training_loss 1.57535,   Relative Error 0.47848\n",
      "Training_loss 1.56990,   Relative Error 0.47765\n"
     ]
    },
    {
     "name": "stderr",
     "output_type": "stream",
     "text": [
      " 18%|█▊        | 368/2000 [00:36<04:37,  5.89it/s]"
     ]
    },
    {
     "name": "stdout",
     "output_type": "stream",
     "text": [
      "Training_loss 1.56396,   Relative Error 0.47674\n",
      "Training_loss 1.55777,   Relative Error 0.47579\n"
     ]
    },
    {
     "name": "stderr",
     "output_type": "stream",
     "text": [
      " 18%|█▊        | 370/2000 [00:37<04:02,  6.71it/s]"
     ]
    },
    {
     "name": "stdout",
     "output_type": "stream",
     "text": [
      "Training_loss 1.55191,   Relative Error 0.47489\n",
      "Training_loss 1.54429,   Relative Error 0.47372\n"
     ]
    },
    {
     "name": "stderr",
     "output_type": "stream",
     "text": [
      " 19%|█▊        | 372/2000 [00:37<04:33,  5.96it/s]"
     ]
    },
    {
     "name": "stdout",
     "output_type": "stream",
     "text": [
      "Training_loss 1.54033,   Relative Error 0.47311\n",
      "Training_loss 1.53548,   Relative Error 0.47235\n"
     ]
    },
    {
     "name": "stderr",
     "output_type": "stream",
     "text": [
      " 19%|█▊        | 374/2000 [00:37<03:59,  6.79it/s]"
     ]
    },
    {
     "name": "stdout",
     "output_type": "stream",
     "text": [
      "Training_loss 1.52752,   Relative Error 0.47113\n",
      "Training_loss 1.52522,   Relative Error 0.47077\n"
     ]
    },
    {
     "name": "stderr",
     "output_type": "stream",
     "text": [
      " 19%|█▉        | 376/2000 [00:38<03:35,  7.53it/s]"
     ]
    },
    {
     "name": "stdout",
     "output_type": "stream",
     "text": [
      "Training_loss 1.51942,   Relative Error 0.46986\n",
      "Training_loss 1.51386,   Relative Error 0.46901\n"
     ]
    },
    {
     "name": "stderr",
     "output_type": "stream",
     "text": [
      " 19%|█▉        | 378/2000 [00:38<03:39,  7.39it/s]"
     ]
    },
    {
     "name": "stdout",
     "output_type": "stream",
     "text": [
      "Training_loss 1.51134,   Relative Error 0.46862\n",
      "Training_loss 1.50827,   Relative Error 0.46814\n"
     ]
    },
    {
     "name": "stderr",
     "output_type": "stream",
     "text": [
      " 19%|█▉        | 380/2000 [00:38<03:27,  7.82it/s]"
     ]
    },
    {
     "name": "stdout",
     "output_type": "stream",
     "text": [
      "Training_loss 1.50422,   Relative Error 0.46751\n",
      "Training_loss 1.49960,   Relative Error 0.46679\n"
     ]
    },
    {
     "name": "stderr",
     "output_type": "stream",
     "text": [
      " 19%|█▉        | 382/2000 [00:38<03:32,  7.60it/s]"
     ]
    },
    {
     "name": "stdout",
     "output_type": "stream",
     "text": [
      "Training_loss 1.49579,   Relative Error 0.46620\n",
      "Training_loss 1.49143,   Relative Error 0.46553\n"
     ]
    },
    {
     "name": "stderr",
     "output_type": "stream",
     "text": [
      "\r",
      " 19%|█▉        | 383/2000 [00:39<03:41,  7.30it/s]"
     ]
    },
    {
     "name": "stdout",
     "output_type": "stream",
     "text": [
      "Training_loss 1.48537,   Relative Error 0.46458\n",
      "Training_loss 1.47848,   Relative Error 0.46350\n"
     ]
    },
    {
     "name": "stderr",
     "output_type": "stream",
     "text": [
      " 19%|█▉        | 386/2000 [00:39<04:36,  5.84it/s]"
     ]
    },
    {
     "name": "stdout",
     "output_type": "stream",
     "text": [
      "Training_loss 1.47494,   Relative Error 0.46294\n",
      "Training_loss 1.46873,   Relative Error 0.46197\n"
     ]
    },
    {
     "name": "stderr",
     "output_type": "stream",
     "text": [
      " 19%|█▉        | 388/2000 [00:39<04:09,  6.46it/s]"
     ]
    },
    {
     "name": "stdout",
     "output_type": "stream",
     "text": [
      "Training_loss 1.46318,   Relative Error 0.46111\n",
      "Training_loss 1.45766,   Relative Error 0.46025\n"
     ]
    },
    {
     "name": "stderr",
     "output_type": "stream",
     "text": [
      " 20%|█▉        | 391/2000 [00:40<03:10,  8.43it/s]"
     ]
    },
    {
     "name": "stdout",
     "output_type": "stream",
     "text": [
      "Training_loss 1.45375,   Relative Error 0.45963\n",
      "Training_loss 1.44989,   Relative Error 0.45901\n",
      "Training_loss 1.44587,   Relative Error 0.45838\n"
     ]
    },
    {
     "name": "stderr",
     "output_type": "stream",
     "text": [
      "\r",
      " 20%|█▉        | 393/2000 [00:40<02:53,  9.28it/s]"
     ]
    },
    {
     "name": "stdout",
     "output_type": "stream",
     "text": [
      "Training_loss 1.43928,   Relative Error 0.45734\n",
      "Training_loss 1.43505,   Relative Error 0.45666\n",
      "Training_loss 1.43213,   Relative Error 0.45619\n"
     ]
    },
    {
     "name": "stderr",
     "output_type": "stream",
     "text": [
      " 20%|█▉        | 397/2000 [00:40<02:38, 10.09it/s]"
     ]
    },
    {
     "name": "stdout",
     "output_type": "stream",
     "text": [
      "Training_loss 1.42653,   Relative Error 0.45529\n",
      "Training_loss 1.42125,   Relative Error 0.45445\n",
      "Training_loss 1.41499,   Relative Error 0.45346\n"
     ]
    },
    {
     "name": "stderr",
     "output_type": "stream",
     "text": [
      "\r",
      " 20%|█▉        | 399/2000 [00:40<02:39, 10.03it/s]"
     ]
    },
    {
     "name": "stdout",
     "output_type": "stream",
     "text": [
      "Training_loss 1.40992,   Relative Error 0.45264\n",
      "Training_loss 1.40542,   Relative Error 0.45192\n"
     ]
    },
    {
     "name": "stderr",
     "output_type": "stream",
     "text": [
      "\r",
      " 20%|██        | 401/2000 [00:41<03:27,  7.70it/s]"
     ]
    },
    {
     "name": "stdout",
     "output_type": "stream",
     "text": [
      "Training_loss 1.40281,   Relative Error 0.45150\n",
      "Training_loss 1.39798,   Relative Error 0.45072\n"
     ]
    },
    {
     "name": "stderr",
     "output_type": "stream",
     "text": [
      " 20%|██        | 403/2000 [00:41<03:28,  7.67it/s]"
     ]
    },
    {
     "name": "stdout",
     "output_type": "stream",
     "text": [
      "Training_loss 1.39191,   Relative Error 0.44972\n",
      "Training_loss 1.38713,   Relative Error 0.44896\n"
     ]
    },
    {
     "name": "stderr",
     "output_type": "stream",
     "text": [
      " 20%|██        | 405/2000 [00:41<03:22,  7.87it/s]"
     ]
    },
    {
     "name": "stdout",
     "output_type": "stream",
     "text": [
      "Training_loss 1.38399,   Relative Error 0.44845\n",
      "Training_loss 1.37939,   Relative Error 0.44771\n"
     ]
    },
    {
     "name": "stderr",
     "output_type": "stream",
     "text": [
      " 20%|██        | 407/2000 [00:42<03:09,  8.41it/s]"
     ]
    },
    {
     "name": "stdout",
     "output_type": "stream",
     "text": [
      "Training_loss 1.37473,   Relative Error 0.44696\n",
      "Training_loss 1.36856,   Relative Error 0.44595\n"
     ]
    },
    {
     "name": "stderr",
     "output_type": "stream",
     "text": [
      " 20%|██        | 409/2000 [00:42<03:01,  8.75it/s]"
     ]
    },
    {
     "name": "stdout",
     "output_type": "stream",
     "text": [
      "Training_loss 1.36422,   Relative Error 0.44524\n",
      "Training_loss 1.35765,   Relative Error 0.44417\n"
     ]
    },
    {
     "name": "stderr",
     "output_type": "stream",
     "text": [
      " 21%|██        | 411/2000 [00:42<02:52,  9.19it/s]"
     ]
    },
    {
     "name": "stdout",
     "output_type": "stream",
     "text": [
      "Training_loss 1.35432,   Relative Error 0.44362\n",
      "Training_loss 1.35095,   Relative Error 0.44308\n"
     ]
    },
    {
     "name": "stderr",
     "output_type": "stream",
     "text": [
      "\r",
      " 21%|██        | 413/2000 [00:42<02:50,  9.31it/s]"
     ]
    },
    {
     "name": "stdout",
     "output_type": "stream",
     "text": [
      "Training_loss 1.34626,   Relative Error 0.44232\n",
      "Training_loss 1.34471,   Relative Error 0.44206\n"
     ]
    },
    {
     "name": "stderr",
     "output_type": "stream",
     "text": [
      " 21%|██        | 416/2000 [00:42<02:37, 10.03it/s]"
     ]
    },
    {
     "name": "stdout",
     "output_type": "stream",
     "text": [
      "Training_loss 1.33869,   Relative Error 0.44107\n",
      "Training_loss 1.33261,   Relative Error 0.44006\n",
      "Training_loss 1.33052,   Relative Error 0.43971\n"
     ]
    },
    {
     "name": "stderr",
     "output_type": "stream",
     "text": [
      " 21%|██        | 418/2000 [00:43<02:38,  9.99it/s]"
     ]
    },
    {
     "name": "stdout",
     "output_type": "stream",
     "text": [
      "Training_loss 1.32478,   Relative Error 0.43876\n",
      "Training_loss 1.32151,   Relative Error 0.43822\n",
      "Training_loss 1.31887,   Relative Error 0.43778\n"
     ]
    },
    {
     "name": "stderr",
     "output_type": "stream",
     "text": [
      " 21%|██        | 421/2000 [00:43<02:59,  8.78it/s]"
     ]
    },
    {
     "name": "stdout",
     "output_type": "stream",
     "text": [
      "Training_loss 1.31343,   Relative Error 0.43689\n",
      "Training_loss 1.30844,   Relative Error 0.43606\n"
     ]
    },
    {
     "name": "stderr",
     "output_type": "stream",
     "text": [
      "\r",
      " 21%|██        | 423/2000 [00:43<03:03,  8.61it/s]"
     ]
    },
    {
     "name": "stdout",
     "output_type": "stream",
     "text": [
      "Training_loss 1.30402,   Relative Error 0.43532\n",
      "Training_loss 1.29834,   Relative Error 0.43436\n"
     ]
    },
    {
     "name": "stderr",
     "output_type": "stream",
     "text": [
      " 21%|██▏       | 425/2000 [00:44<03:33,  7.38it/s]"
     ]
    },
    {
     "name": "stdout",
     "output_type": "stream",
     "text": [
      "Training_loss 1.29373,   Relative Error 0.43358\n",
      "Training_loss 1.28906,   Relative Error 0.43280\n"
     ]
    },
    {
     "name": "stderr",
     "output_type": "stream",
     "text": [
      " 21%|██▏       | 427/2000 [00:44<04:26,  5.91it/s]"
     ]
    },
    {
     "name": "stdout",
     "output_type": "stream",
     "text": [
      "Training_loss 1.28587,   Relative Error 0.43227\n",
      "Training_loss 1.27953,   Relative Error 0.43120\n"
     ]
    },
    {
     "name": "stderr",
     "output_type": "stream",
     "text": [
      " 21%|██▏       | 429/2000 [00:44<04:15,  6.15it/s]"
     ]
    },
    {
     "name": "stdout",
     "output_type": "stream",
     "text": [
      "Training_loss 1.27540,   Relative Error 0.43050\n",
      "Training_loss 1.27233,   Relative Error 0.42997\n"
     ]
    },
    {
     "name": "stderr",
     "output_type": "stream",
     "text": [
      "\r",
      " 22%|██▏       | 430/2000 [00:45<04:13,  6.18it/s]"
     ]
    },
    {
     "name": "stdout",
     "output_type": "stream",
     "text": [
      "Training_loss 1.26721,   Relative Error 0.42912\n"
     ]
    },
    {
     "name": "stderr",
     "output_type": "stream",
     "text": [
      "\r",
      " 22%|██▏       | 431/2000 [00:45<05:11,  5.04it/s]"
     ]
    },
    {
     "name": "stdout",
     "output_type": "stream",
     "text": [
      "Training_loss 1.26072,   Relative Error 0.42802\n"
     ]
    },
    {
     "name": "stderr",
     "output_type": "stream",
     "text": [
      "\r",
      " 22%|██▏       | 432/2000 [00:45<05:40,  4.61it/s]"
     ]
    },
    {
     "name": "stdout",
     "output_type": "stream",
     "text": [
      "Training_loss 1.25713,   Relative Error 0.42741\n"
     ]
    },
    {
     "name": "stderr",
     "output_type": "stream",
     "text": [
      "\r",
      " 22%|██▏       | 433/2000 [00:46<07:33,  3.46it/s]"
     ]
    },
    {
     "name": "stdout",
     "output_type": "stream",
     "text": [
      "Training_loss 1.25332,   Relative Error 0.42677\n"
     ]
    },
    {
     "name": "stderr",
     "output_type": "stream",
     "text": [
      "\r",
      " 22%|██▏       | 434/2000 [00:46<07:16,  3.59it/s]"
     ]
    },
    {
     "name": "stdout",
     "output_type": "stream",
     "text": [
      "Training_loss 1.25030,   Relative Error 0.42625\n"
     ]
    },
    {
     "name": "stderr",
     "output_type": "stream",
     "text": [
      " 22%|██▏       | 436/2000 [00:46<05:58,  4.36it/s]"
     ]
    },
    {
     "name": "stdout",
     "output_type": "stream",
     "text": [
      "Training_loss 1.24597,   Relative Error 0.42552\n",
      "Training_loss 1.24028,   Relative Error 0.42455\n"
     ]
    },
    {
     "name": "stderr",
     "output_type": "stream",
     "text": [
      " 22%|██▏       | 438/2000 [00:47<05:22,  4.84it/s]"
     ]
    },
    {
     "name": "stdout",
     "output_type": "stream",
     "text": [
      "Training_loss 1.23475,   Relative Error 0.42360\n",
      "Training_loss 1.23045,   Relative Error 0.42288\n"
     ]
    },
    {
     "name": "stderr",
     "output_type": "stream",
     "text": [
      " 22%|██▏       | 440/2000 [00:47<04:22,  5.95it/s]"
     ]
    },
    {
     "name": "stdout",
     "output_type": "stream",
     "text": [
      "Training_loss 1.22637,   Relative Error 0.42217\n",
      "Training_loss 1.21942,   Relative Error 0.42097\n",
      "Training_loss 1.21406,   Relative Error 0.42003\n"
     ]
    },
    {
     "name": "stderr",
     "output_type": "stream",
     "text": [
      " 22%|██▏       | 443/2000 [00:47<03:27,  7.50it/s]"
     ]
    },
    {
     "name": "stdout",
     "output_type": "stream",
     "text": [
      "Training_loss 1.21021,   Relative Error 0.41937\n",
      "Training_loss 1.20621,   Relative Error 0.41868\n"
     ]
    },
    {
     "name": "stderr",
     "output_type": "stream",
     "text": [
      " 22%|██▏       | 445/2000 [00:47<03:12,  8.09it/s]"
     ]
    },
    {
     "name": "stdout",
     "output_type": "stream",
     "text": [
      "Training_loss 1.20216,   Relative Error 0.41797\n",
      "Training_loss 1.19855,   Relative Error 0.41734\n"
     ]
    },
    {
     "name": "stderr",
     "output_type": "stream",
     "text": [
      " 22%|██▏       | 447/2000 [00:48<03:23,  7.64it/s]"
     ]
    },
    {
     "name": "stdout",
     "output_type": "stream",
     "text": [
      "Training_loss 1.19517,   Relative Error 0.41676\n",
      "Training_loss 1.19124,   Relative Error 0.41607\n"
     ]
    },
    {
     "name": "stderr",
     "output_type": "stream",
     "text": [
      " 22%|██▏       | 449/2000 [00:48<04:07,  6.28it/s]"
     ]
    },
    {
     "name": "stdout",
     "output_type": "stream",
     "text": [
      "Training_loss 1.18805,   Relative Error 0.41552\n",
      "Training_loss 1.18177,   Relative Error 0.41442\n"
     ]
    },
    {
     "name": "stderr",
     "output_type": "stream",
     "text": [
      " 23%|██▎       | 451/2000 [00:48<03:47,  6.80it/s]"
     ]
    },
    {
     "name": "stdout",
     "output_type": "stream",
     "text": [
      "Training_loss 1.17783,   Relative Error 0.41374\n",
      "Training_loss 1.17406,   Relative Error 0.41307\n"
     ]
    },
    {
     "name": "stderr",
     "output_type": "stream",
     "text": [
      "\r",
      " 23%|██▎       | 452/2000 [00:48<03:33,  7.25it/s]"
     ]
    },
    {
     "name": "stdout",
     "output_type": "stream",
     "text": [
      "Training_loss 1.17125,   Relative Error 0.41258\n",
      "Training_loss 1.16827,   Relative Error 0.41205\n"
     ]
    },
    {
     "name": "stderr",
     "output_type": "stream",
     "text": [
      " 23%|██▎       | 455/2000 [00:49<03:22,  7.63it/s]"
     ]
    },
    {
     "name": "stdout",
     "output_type": "stream",
     "text": [
      "Training_loss 1.16355,   Relative Error 0.41122\n",
      "Training_loss 1.16004,   Relative Error 0.41060\n"
     ]
    },
    {
     "name": "stderr",
     "output_type": "stream",
     "text": [
      " 23%|██▎       | 457/2000 [00:49<03:11,  8.06it/s]"
     ]
    },
    {
     "name": "stdout",
     "output_type": "stream",
     "text": [
      "Training_loss 1.15561,   Relative Error 0.40982\n",
      "Training_loss 1.15063,   Relative Error 0.40893\n"
     ]
    },
    {
     "name": "stderr",
     "output_type": "stream",
     "text": [
      " 23%|██▎       | 459/2000 [00:49<03:26,  7.45it/s]"
     ]
    },
    {
     "name": "stdout",
     "output_type": "stream",
     "text": [
      "Training_loss 1.14681,   Relative Error 0.40825\n",
      "Training_loss 1.14171,   Relative Error 0.40733\n"
     ]
    },
    {
     "name": "stderr",
     "output_type": "stream",
     "text": [
      " 23%|██▎       | 461/2000 [00:50<03:30,  7.32it/s]"
     ]
    },
    {
     "name": "stdout",
     "output_type": "stream",
     "text": [
      "Training_loss 1.13579,   Relative Error 0.40628\n",
      "Training_loss 1.13168,   Relative Error 0.40554\n"
     ]
    },
    {
     "name": "stderr",
     "output_type": "stream",
     "text": [
      "\r",
      " 23%|██▎       | 462/2000 [00:50<05:41,  4.50it/s]"
     ]
    },
    {
     "name": "stdout",
     "output_type": "stream",
     "text": [
      "Training_loss 1.12860,   Relative Error 0.40501\n"
     ]
    },
    {
     "name": "stderr",
     "output_type": "stream",
     "text": [
      " 23%|██▎       | 464/2000 [00:50<05:03,  5.06it/s]"
     ]
    },
    {
     "name": "stdout",
     "output_type": "stream",
     "text": [
      "Training_loss 1.12369,   Relative Error 0.40413\n",
      "Training_loss 1.11939,   Relative Error 0.40335\n"
     ]
    },
    {
     "name": "stderr",
     "output_type": "stream",
     "text": [
      "\r",
      " 23%|██▎       | 466/2000 [00:51<04:06,  6.22it/s]"
     ]
    },
    {
     "name": "stdout",
     "output_type": "stream",
     "text": [
      "Training_loss 1.11695,   Relative Error 0.40291\n",
      "Training_loss 1.11375,   Relative Error 0.40233\n"
     ]
    },
    {
     "name": "stderr",
     "output_type": "stream",
     "text": [
      "\r",
      " 23%|██▎       | 467/2000 [00:51<04:33,  5.60it/s]"
     ]
    },
    {
     "name": "stdout",
     "output_type": "stream",
     "text": [
      "Training_loss 1.10972,   Relative Error 0.40161\n"
     ]
    },
    {
     "name": "stderr",
     "output_type": "stream",
     "text": [
      " 23%|██▎       | 469/2000 [00:51<04:40,  5.46it/s]"
     ]
    },
    {
     "name": "stdout",
     "output_type": "stream",
     "text": [
      "Training_loss 1.10679,   Relative Error 0.40108\n",
      "Training_loss 1.10259,   Relative Error 0.40032\n"
     ]
    },
    {
     "name": "stderr",
     "output_type": "stream",
     "text": [
      " 24%|██▎       | 471/2000 [00:51<03:45,  6.77it/s]"
     ]
    },
    {
     "name": "stdout",
     "output_type": "stream",
     "text": [
      "Training_loss 1.09915,   Relative Error 0.39969\n",
      "Training_loss 1.09556,   Relative Error 0.39904\n"
     ]
    },
    {
     "name": "stderr",
     "output_type": "stream",
     "text": [
      " 24%|██▎       | 473/2000 [00:52<03:29,  7.29it/s]"
     ]
    },
    {
     "name": "stdout",
     "output_type": "stream",
     "text": [
      "Training_loss 1.08981,   Relative Error 0.39800\n",
      "Training_loss 1.08630,   Relative Error 0.39735\n"
     ]
    },
    {
     "name": "stderr",
     "output_type": "stream",
     "text": [
      " 24%|██▍       | 475/2000 [00:52<03:16,  7.78it/s]"
     ]
    },
    {
     "name": "stdout",
     "output_type": "stream",
     "text": [
      "Training_loss 1.08176,   Relative Error 0.39652\n",
      "Training_loss 1.07773,   Relative Error 0.39578\n"
     ]
    },
    {
     "name": "stderr",
     "output_type": "stream",
     "text": [
      " 24%|██▍       | 477/2000 [00:52<03:26,  7.38it/s]"
     ]
    },
    {
     "name": "stdout",
     "output_type": "stream",
     "text": [
      "Training_loss 1.07281,   Relative Error 0.39489\n",
      "Training_loss 1.06912,   Relative Error 0.39421\n"
     ]
    },
    {
     "name": "stderr",
     "output_type": "stream",
     "text": [
      " 24%|██▍       | 479/2000 [00:52<03:12,  7.91it/s]"
     ]
    },
    {
     "name": "stdout",
     "output_type": "stream",
     "text": [
      "Training_loss 1.06678,   Relative Error 0.39378\n",
      "Training_loss 1.06352,   Relative Error 0.39318\n"
     ]
    },
    {
     "name": "stderr",
     "output_type": "stream",
     "text": [
      " 24%|██▍       | 481/2000 [00:53<03:03,  8.30it/s]"
     ]
    },
    {
     "name": "stdout",
     "output_type": "stream",
     "text": [
      "Training_loss 1.06241,   Relative Error 0.39298\n",
      "Training_loss 1.05829,   Relative Error 0.39221\n"
     ]
    },
    {
     "name": "stderr",
     "output_type": "stream",
     "text": [
      " 24%|██▍       | 483/2000 [00:53<03:01,  8.34it/s]"
     ]
    },
    {
     "name": "stdout",
     "output_type": "stream",
     "text": [
      "Training_loss 1.05403,   Relative Error 0.39141\n",
      "Training_loss 1.05222,   Relative Error 0.39108\n"
     ]
    },
    {
     "name": "stderr",
     "output_type": "stream",
     "text": [
      " 24%|██▍       | 485/2000 [00:53<03:25,  7.38it/s]"
     ]
    },
    {
     "name": "stdout",
     "output_type": "stream",
     "text": [
      "Training_loss 1.04789,   Relative Error 0.39028\n",
      "Training_loss 1.04566,   Relative Error 0.38986\n"
     ]
    },
    {
     "name": "stderr",
     "output_type": "stream",
     "text": [
      " 24%|██▍       | 487/2000 [00:54<03:35,  7.02it/s]"
     ]
    },
    {
     "name": "stdout",
     "output_type": "stream",
     "text": [
      "Training_loss 1.04322,   Relative Error 0.38941\n",
      "Training_loss 1.03986,   Relative Error 0.38880\n"
     ]
    },
    {
     "name": "stderr",
     "output_type": "stream",
     "text": [
      "\r",
      " 24%|██▍       | 488/2000 [00:54<03:43,  6.76it/s]"
     ]
    },
    {
     "name": "stdout",
     "output_type": "stream",
     "text": [
      "Training_loss 1.03545,   Relative Error 0.38797\n"
     ]
    },
    {
     "name": "stderr",
     "output_type": "stream",
     "text": [
      " 25%|██▍       | 491/2000 [00:54<03:30,  7.16it/s]"
     ]
    },
    {
     "name": "stdout",
     "output_type": "stream",
     "text": [
      "Training_loss 1.03321,   Relative Error 0.38755\n",
      "Training_loss 1.02881,   Relative Error 0.38673\n",
      "Training_loss 1.02393,   Relative Error 0.38580\n"
     ]
    },
    {
     "name": "stderr",
     "output_type": "stream",
     "text": [
      " 25%|██▍       | 494/2000 [00:54<02:50,  8.84it/s]"
     ]
    },
    {
     "name": "stdout",
     "output_type": "stream",
     "text": [
      "Training_loss 1.01938,   Relative Error 0.38494\n",
      "Training_loss 1.01522,   Relative Error 0.38415\n",
      "Training_loss 1.01151,   Relative Error 0.38345\n"
     ]
    },
    {
     "name": "stderr",
     "output_type": "stream",
     "text": [
      " 25%|██▍       | 497/2000 [00:55<02:36,  9.63it/s]"
     ]
    },
    {
     "name": "stdout",
     "output_type": "stream",
     "text": [
      "Training_loss 1.00907,   Relative Error 0.38299\n",
      "Training_loss 1.00686,   Relative Error 0.38256\n",
      "Training_loss 1.00417,   Relative Error 0.38204\n"
     ]
    },
    {
     "name": "stderr",
     "output_type": "stream",
     "text": [
      " 25%|██▍       | 499/2000 [00:55<03:04,  8.15it/s]"
     ]
    },
    {
     "name": "stdout",
     "output_type": "stream",
     "text": [
      "Training_loss 0.99864,   Relative Error 0.38097\n",
      "Training_loss 0.99591,   Relative Error 0.38045\n"
     ]
    },
    {
     "name": "stderr",
     "output_type": "stream",
     "text": [
      " 25%|██▌       | 501/2000 [00:55<02:54,  8.58it/s]"
     ]
    },
    {
     "name": "stdout",
     "output_type": "stream",
     "text": [
      "Training_loss 0.99255,   Relative Error 0.37981\n",
      "Training_loss 0.98946,   Relative Error 0.37922\n"
     ]
    },
    {
     "name": "stderr",
     "output_type": "stream",
     "text": [
      " 25%|██▌       | 503/2000 [00:55<03:00,  8.30it/s]"
     ]
    },
    {
     "name": "stdout",
     "output_type": "stream",
     "text": [
      "Training_loss 0.98672,   Relative Error 0.37870\n",
      "Training_loss 0.98216,   Relative Error 0.37783\n"
     ]
    },
    {
     "name": "stderr",
     "output_type": "stream",
     "text": [
      " 25%|██▌       | 506/2000 [00:56<02:50,  8.78it/s]"
     ]
    },
    {
     "name": "stdout",
     "output_type": "stream",
     "text": [
      "Training_loss 0.97972,   Relative Error 0.37736\n",
      "Training_loss 0.97419,   Relative Error 0.37628\n",
      "Training_loss 0.97122,   Relative Error 0.37571\n"
     ]
    },
    {
     "name": "stderr",
     "output_type": "stream",
     "text": [
      " 25%|██▌       | 509/2000 [00:56<02:36,  9.51it/s]"
     ]
    },
    {
     "name": "stdout",
     "output_type": "stream",
     "text": [
      "Training_loss 0.96729,   Relative Error 0.37495\n",
      "Training_loss 0.96335,   Relative Error 0.37419\n",
      "Training_loss 0.95864,   Relative Error 0.37328\n"
     ]
    },
    {
     "name": "stderr",
     "output_type": "stream",
     "text": [
      " 26%|██▌       | 512/2000 [00:56<02:32,  9.75it/s]"
     ]
    },
    {
     "name": "stdout",
     "output_type": "stream",
     "text": [
      "Training_loss 0.95583,   Relative Error 0.37272\n",
      "Training_loss 0.95236,   Relative Error 0.37204\n",
      "Training_loss 0.94865,   Relative Error 0.37133\n"
     ]
    },
    {
     "name": "stderr",
     "output_type": "stream",
     "text": [
      "\r",
      " 26%|██▌       | 514/2000 [00:57<02:26, 10.16it/s]"
     ]
    },
    {
     "name": "stdout",
     "output_type": "stream",
     "text": [
      "Training_loss 0.94440,   Relative Error 0.37049\n",
      "Training_loss 0.94096,   Relative Error 0.36981\n",
      "Training_loss 0.93701,   Relative Error 0.36904\n"
     ]
    },
    {
     "name": "stderr",
     "output_type": "stream",
     "text": [
      " 26%|██▌       | 518/2000 [00:57<02:26, 10.12it/s]"
     ]
    },
    {
     "name": "stdout",
     "output_type": "stream",
     "text": [
      "Training_loss 0.93295,   Relative Error 0.36823\n",
      "Training_loss 0.92996,   Relative Error 0.36764\n",
      "Training_loss 0.92638,   Relative Error 0.36693\n"
     ]
    },
    {
     "name": "stderr",
     "output_type": "stream",
     "text": [
      "\r",
      " 26%|██▌       | 520/2000 [00:57<02:27, 10.01it/s]"
     ]
    },
    {
     "name": "stdout",
     "output_type": "stream",
     "text": [
      "Training_loss 0.92461,   Relative Error 0.36658\n",
      "Training_loss 0.92154,   Relative Error 0.36598\n",
      "Training_loss 0.91867,   Relative Error 0.36541\n"
     ]
    },
    {
     "name": "stderr",
     "output_type": "stream",
     "text": [
      " 26%|██▌       | 523/2000 [00:58<02:44,  8.99it/s]"
     ]
    },
    {
     "name": "stdout",
     "output_type": "stream",
     "text": [
      "Training_loss 0.91517,   Relative Error 0.36470\n",
      "Training_loss 0.91160,   Relative Error 0.36399\n"
     ]
    },
    {
     "name": "stderr",
     "output_type": "stream",
     "text": [
      " 26%|██▋       | 526/2000 [00:58<02:35,  9.49it/s]"
     ]
    },
    {
     "name": "stdout",
     "output_type": "stream",
     "text": [
      "Training_loss 0.90876,   Relative Error 0.36342\n",
      "Training_loss 0.90731,   Relative Error 0.36314\n",
      "Training_loss 0.90503,   Relative Error 0.36268\n"
     ]
    },
    {
     "name": "stderr",
     "output_type": "stream",
     "text": [
      " 26%|██▋       | 528/2000 [00:58<02:56,  8.33it/s]"
     ]
    },
    {
     "name": "stdout",
     "output_type": "stream",
     "text": [
      "Training_loss 0.90222,   Relative Error 0.36212\n",
      "Training_loss 0.89831,   Relative Error 0.36133\n"
     ]
    },
    {
     "name": "stderr",
     "output_type": "stream",
     "text": [
      " 26%|██▋       | 530/2000 [00:58<03:05,  7.91it/s]"
     ]
    },
    {
     "name": "stdout",
     "output_type": "stream",
     "text": [
      "Training_loss 0.89661,   Relative Error 0.36098\n",
      "Training_loss 0.89337,   Relative Error 0.36033\n"
     ]
    },
    {
     "name": "stderr",
     "output_type": "stream",
     "text": [
      " 27%|██▋       | 533/2000 [00:59<02:43,  8.95it/s]"
     ]
    },
    {
     "name": "stdout",
     "output_type": "stream",
     "text": [
      "Training_loss 0.89011,   Relative Error 0.35967\n",
      "Training_loss 0.88706,   Relative Error 0.35906\n",
      "Training_loss 0.88405,   Relative Error 0.35846\n"
     ]
    },
    {
     "name": "stderr",
     "output_type": "stream",
     "text": [
      " 27%|██▋       | 535/2000 [00:59<02:47,  8.73it/s]"
     ]
    },
    {
     "name": "stdout",
     "output_type": "stream",
     "text": [
      "Training_loss 0.88203,   Relative Error 0.35805\n",
      "Training_loss 0.87828,   Relative Error 0.35729\n"
     ]
    },
    {
     "name": "stderr",
     "output_type": "stream",
     "text": [
      " 27%|██▋       | 538/2000 [00:59<02:35,  9.42it/s]"
     ]
    },
    {
     "name": "stdout",
     "output_type": "stream",
     "text": [
      "Training_loss 0.87535,   Relative Error 0.35669\n",
      "Training_loss 0.87022,   Relative Error 0.35565\n",
      "Training_loss 0.86736,   Relative Error 0.35506\n"
     ]
    },
    {
     "name": "stderr",
     "output_type": "stream",
     "text": [
      " 27%|██▋       | 540/2000 [00:59<02:34,  9.48it/s]"
     ]
    },
    {
     "name": "stdout",
     "output_type": "stream",
     "text": [
      "Training_loss 0.86300,   Relative Error 0.35417\n",
      "Training_loss 0.85990,   Relative Error 0.35354\n"
     ]
    },
    {
     "name": "stderr",
     "output_type": "stream",
     "text": [
      " 27%|██▋       | 542/2000 [01:00<02:38,  9.18it/s]"
     ]
    },
    {
     "name": "stdout",
     "output_type": "stream",
     "text": [
      "Training_loss 0.85549,   Relative Error 0.35265\n",
      "Training_loss 0.85330,   Relative Error 0.35220\n"
     ]
    },
    {
     "name": "stderr",
     "output_type": "stream",
     "text": [
      " 27%|██▋       | 544/2000 [01:00<02:36,  9.28it/s]"
     ]
    },
    {
     "name": "stdout",
     "output_type": "stream",
     "text": [
      "Training_loss 0.85033,   Relative Error 0.35159\n",
      "Training_loss 0.84746,   Relative Error 0.35100\n"
     ]
    },
    {
     "name": "stderr",
     "output_type": "stream",
     "text": [
      " 27%|██▋       | 546/2000 [01:00<02:37,  9.23it/s]"
     ]
    },
    {
     "name": "stdout",
     "output_type": "stream",
     "text": [
      "Training_loss 0.84279,   Relative Error 0.35004\n",
      "Training_loss 0.84026,   Relative Error 0.34952\n",
      "Training_loss 0.83760,   Relative Error 0.34896\n"
     ]
    },
    {
     "name": "stderr",
     "output_type": "stream",
     "text": [
      " 28%|██▊       | 550/2000 [01:01<02:27,  9.86it/s]"
     ]
    },
    {
     "name": "stdout",
     "output_type": "stream",
     "text": [
      "Training_loss 0.83521,   Relative Error 0.34846\n",
      "Training_loss 0.83145,   Relative Error 0.34767\n",
      "Training_loss 0.82780,   Relative Error 0.34690\n"
     ]
    },
    {
     "name": "stderr",
     "output_type": "stream",
     "text": [
      "\r",
      " 28%|██▊       | 552/2000 [01:01<02:23, 10.07it/s]"
     ]
    },
    {
     "name": "stdout",
     "output_type": "stream",
     "text": [
      "Training_loss 0.82578,   Relative Error 0.34647\n",
      "Training_loss 0.82180,   Relative Error 0.34563\n"
     ]
    },
    {
     "name": "stderr",
     "output_type": "stream",
     "text": [
      " 28%|██▊       | 556/2000 [01:01<02:18, 10.46it/s]"
     ]
    },
    {
     "name": "stdout",
     "output_type": "stream",
     "text": [
      "Training_loss 0.81712,   Relative Error 0.34466\n",
      "Training_loss 0.81362,   Relative Error 0.34391\n",
      "Training_loss 0.81054,   Relative Error 0.34326\n",
      "Training_loss 0.80787,   Relative Error 0.34269\n"
     ]
    },
    {
     "name": "stderr",
     "output_type": "stream",
     "text": [
      "\r",
      " 28%|██▊       | 558/2000 [01:01<02:21, 10.17it/s]"
     ]
    },
    {
     "name": "stdout",
     "output_type": "stream",
     "text": [
      "Training_loss 0.80473,   Relative Error 0.34203\n",
      "Training_loss 0.80192,   Relative Error 0.34143\n",
      "Training_loss 0.79856,   Relative Error 0.34071\n"
     ]
    },
    {
     "name": "stderr",
     "output_type": "stream",
     "text": [
      " 28%|██▊       | 562/2000 [01:02<02:33,  9.39it/s]"
     ]
    },
    {
     "name": "stdout",
     "output_type": "stream",
     "text": [
      "Training_loss 0.79606,   Relative Error 0.34017\n",
      "Training_loss 0.79514,   Relative Error 0.33998\n",
      "Training_loss 0.79212,   Relative Error 0.33933\n"
     ]
    },
    {
     "name": "stderr",
     "output_type": "stream",
     "text": [
      " 28%|██▊       | 564/2000 [01:02<02:35,  9.23it/s]"
     ]
    },
    {
     "name": "stdout",
     "output_type": "stream",
     "text": [
      "Training_loss 0.78976,   Relative Error 0.33883\n",
      "Training_loss 0.78796,   Relative Error 0.33845\n"
     ]
    },
    {
     "name": "stderr",
     "output_type": "stream",
     "text": [
      " 28%|██▊       | 566/2000 [01:02<02:39,  8.97it/s]"
     ]
    },
    {
     "name": "stdout",
     "output_type": "stream",
     "text": [
      "Training_loss 0.78424,   Relative Error 0.33765\n",
      "Training_loss 0.78044,   Relative Error 0.33683\n",
      "Training_loss 0.77810,   Relative Error 0.33632\n"
     ]
    },
    {
     "name": "stderr",
     "output_type": "stream",
     "text": [
      " 28%|██▊       | 570/2000 [01:03<02:22, 10.01it/s]"
     ]
    },
    {
     "name": "stdout",
     "output_type": "stream",
     "text": [
      "Training_loss 0.77655,   Relative Error 0.33599\n",
      "Training_loss 0.77373,   Relative Error 0.33538\n",
      "Training_loss 0.77085,   Relative Error 0.33476\n"
     ]
    },
    {
     "name": "stderr",
     "output_type": "stream",
     "text": [
      " 29%|██▊       | 572/2000 [01:03<02:28,  9.59it/s]"
     ]
    },
    {
     "name": "stdout",
     "output_type": "stream",
     "text": [
      "Training_loss 0.76713,   Relative Error 0.33395\n",
      "Training_loss 0.76476,   Relative Error 0.33344\n"
     ]
    },
    {
     "name": "stderr",
     "output_type": "stream",
     "text": [
      " 29%|██▊       | 574/2000 [01:03<02:27,  9.65it/s]"
     ]
    },
    {
     "name": "stdout",
     "output_type": "stream",
     "text": [
      "Training_loss 0.76262,   Relative Error 0.33297\n",
      "Training_loss 0.76002,   Relative Error 0.33240\n"
     ]
    },
    {
     "name": "stderr",
     "output_type": "stream",
     "text": [
      " 29%|██▉       | 576/2000 [01:03<02:32,  9.37it/s]"
     ]
    },
    {
     "name": "stdout",
     "output_type": "stream",
     "text": [
      "Training_loss 0.75635,   Relative Error 0.33160\n",
      "Training_loss 0.75321,   Relative Error 0.33090\n"
     ]
    },
    {
     "name": "stderr",
     "output_type": "stream",
     "text": [
      " 29%|██▉       | 578/2000 [01:03<02:48,  8.45it/s]"
     ]
    },
    {
     "name": "stdout",
     "output_type": "stream",
     "text": [
      "Training_loss 0.75019,   Relative Error 0.33024\n",
      "Training_loss 0.74763,   Relative Error 0.32967\n"
     ]
    },
    {
     "name": "stderr",
     "output_type": "stream",
     "text": [
      " 29%|██▉       | 581/2000 [01:04<02:35,  9.11it/s]"
     ]
    },
    {
     "name": "stdout",
     "output_type": "stream",
     "text": [
      "Training_loss 0.74470,   Relative Error 0.32903\n",
      "Training_loss 0.74090,   Relative Error 0.32818\n",
      "Training_loss 0.73731,   Relative Error 0.32738\n"
     ]
    },
    {
     "name": "stderr",
     "output_type": "stream",
     "text": [
      " 29%|██▉       | 583/2000 [01:04<02:44,  8.61it/s]"
     ]
    },
    {
     "name": "stdout",
     "output_type": "stream",
     "text": [
      "Training_loss 0.73358,   Relative Error 0.32656\n",
      "Training_loss 0.73150,   Relative Error 0.32610\n"
     ]
    },
    {
     "name": "stderr",
     "output_type": "stream",
     "text": [
      " 29%|██▉       | 586/2000 [01:04<02:34,  9.17it/s]"
     ]
    },
    {
     "name": "stdout",
     "output_type": "stream",
     "text": [
      "Training_loss 0.72830,   Relative Error 0.32538\n",
      "Training_loss 0.72669,   Relative Error 0.32503\n",
      "Training_loss 0.72402,   Relative Error 0.32443\n"
     ]
    },
    {
     "name": "stderr",
     "output_type": "stream",
     "text": [
      " 29%|██▉       | 588/2000 [01:05<02:29,  9.46it/s]"
     ]
    },
    {
     "name": "stdout",
     "output_type": "stream",
     "text": [
      "Training_loss 0.72108,   Relative Error 0.32377\n",
      "Training_loss 0.71765,   Relative Error 0.32300\n",
      "Training_loss 0.71482,   Relative Error 0.32237\n"
     ]
    },
    {
     "name": "stderr",
     "output_type": "stream",
     "text": [
      " 30%|██▉       | 592/2000 [01:05<02:21,  9.95it/s]"
     ]
    },
    {
     "name": "stdout",
     "output_type": "stream",
     "text": [
      "Training_loss 0.71188,   Relative Error 0.32170\n",
      "Training_loss 0.71027,   Relative Error 0.32134\n",
      "Training_loss 0.70763,   Relative Error 0.32075\n"
     ]
    },
    {
     "name": "stderr",
     "output_type": "stream",
     "text": [
      " 30%|██▉       | 594/2000 [01:05<02:27,  9.56it/s]"
     ]
    },
    {
     "name": "stdout",
     "output_type": "stream",
     "text": [
      "Training_loss 0.70523,   Relative Error 0.32021\n",
      "Training_loss 0.70130,   Relative Error 0.31932\n"
     ]
    },
    {
     "name": "stderr",
     "output_type": "stream",
     "text": [
      "\r",
      " 30%|██▉       | 595/2000 [01:05<02:25,  9.65it/s]"
     ]
    },
    {
     "name": "stdout",
     "output_type": "stream",
     "text": [
      "Training_loss 0.69957,   Relative Error 0.31892\n",
      "Training_loss 0.69700,   Relative Error 0.31834\n"
     ]
    },
    {
     "name": "stderr",
     "output_type": "stream",
     "text": [
      " 30%|██▉       | 599/2000 [01:06<02:21,  9.93it/s]"
     ]
    },
    {
     "name": "stdout",
     "output_type": "stream",
     "text": [
      "Training_loss 0.69484,   Relative Error 0.31785\n",
      "Training_loss 0.69163,   Relative Error 0.31711\n",
      "Training_loss 0.68957,   Relative Error 0.31663\n"
     ]
    },
    {
     "name": "stderr",
     "output_type": "stream",
     "text": [
      "\r",
      " 30%|███       | 601/2000 [01:06<02:29,  9.39it/s]"
     ]
    },
    {
     "name": "stdout",
     "output_type": "stream",
     "text": [
      "Training_loss 0.68685,   Relative Error 0.31601\n",
      "Training_loss 0.68398,   Relative Error 0.31535\n"
     ]
    },
    {
     "name": "stderr",
     "output_type": "stream",
     "text": [
      " 30%|███       | 603/2000 [01:06<02:54,  8.00it/s]"
     ]
    },
    {
     "name": "stdout",
     "output_type": "stream",
     "text": [
      "Training_loss 0.68221,   Relative Error 0.31494\n",
      "Training_loss 0.67846,   Relative Error 0.31408\n"
     ]
    },
    {
     "name": "stderr",
     "output_type": "stream",
     "text": [
      " 30%|███       | 605/2000 [01:07<03:10,  7.32it/s]"
     ]
    },
    {
     "name": "stdout",
     "output_type": "stream",
     "text": [
      "Training_loss 0.67523,   Relative Error 0.31332\n",
      "Training_loss 0.67300,   Relative Error 0.31280\n"
     ]
    },
    {
     "name": "stderr",
     "output_type": "stream",
     "text": [
      " 30%|███       | 608/2000 [01:07<02:41,  8.64it/s]"
     ]
    },
    {
     "name": "stdout",
     "output_type": "stream",
     "text": [
      "Training_loss 0.66977,   Relative Error 0.31205\n",
      "Training_loss 0.66717,   Relative Error 0.31144\n",
      "Training_loss 0.66535,   Relative Error 0.31102\n"
     ]
    },
    {
     "name": "stderr",
     "output_type": "stream",
     "text": [
      "\r",
      " 30%|███       | 610/2000 [01:07<02:31,  9.16it/s]"
     ]
    },
    {
     "name": "stdout",
     "output_type": "stream",
     "text": [
      "Training_loss 0.66376,   Relative Error 0.31065\n",
      "Training_loss 0.66209,   Relative Error 0.31025\n"
     ]
    },
    {
     "name": "stderr",
     "output_type": "stream",
     "text": [
      " 31%|███       | 612/2000 [01:07<02:27,  9.41it/s]"
     ]
    },
    {
     "name": "stdout",
     "output_type": "stream",
     "text": [
      "Training_loss 0.66013,   Relative Error 0.30979\n",
      "Training_loss 0.65823,   Relative Error 0.30934\n",
      "Training_loss 0.65586,   Relative Error 0.30879\n"
     ]
    },
    {
     "name": "stderr",
     "output_type": "stream",
     "text": [
      " 31%|███       | 616/2000 [01:08<02:25,  9.54it/s]"
     ]
    },
    {
     "name": "stdout",
     "output_type": "stream",
     "text": [
      "Training_loss 0.65399,   Relative Error 0.30835\n",
      "Training_loss 0.65139,   Relative Error 0.30774\n",
      "Training_loss 0.64801,   Relative Error 0.30693\n"
     ]
    },
    {
     "name": "stderr",
     "output_type": "stream",
     "text": [
      " 31%|███       | 619/2000 [01:08<02:24,  9.53it/s]"
     ]
    },
    {
     "name": "stdout",
     "output_type": "stream",
     "text": [
      "Training_loss 0.64581,   Relative Error 0.30642\n",
      "Training_loss 0.64323,   Relative Error 0.30580\n",
      "Training_loss 0.64065,   Relative Error 0.30520\n"
     ]
    },
    {
     "name": "stderr",
     "output_type": "stream",
     "text": [
      "\r",
      " 31%|███       | 621/2000 [01:08<02:27,  9.34it/s]"
     ]
    },
    {
     "name": "stdout",
     "output_type": "stream",
     "text": [
      "Training_loss 0.63807,   Relative Error 0.30458\n",
      "Training_loss 0.63561,   Relative Error 0.30400\n"
     ]
    },
    {
     "name": "stderr",
     "output_type": "stream",
     "text": [
      " 31%|███       | 624/2000 [01:09<02:27,  9.34it/s]"
     ]
    },
    {
     "name": "stdout",
     "output_type": "stream",
     "text": [
      "Training_loss 0.63393,   Relative Error 0.30359\n",
      "Training_loss 0.63145,   Relative Error 0.30300\n",
      "Training_loss 0.62861,   Relative Error 0.30232\n"
     ]
    },
    {
     "name": "stderr",
     "output_type": "stream",
     "text": [
      " 31%|███▏      | 627/2000 [01:09<02:17,  9.96it/s]"
     ]
    },
    {
     "name": "stdout",
     "output_type": "stream",
     "text": [
      "Training_loss 0.62724,   Relative Error 0.30198\n",
      "Training_loss 0.62530,   Relative Error 0.30151\n",
      "Training_loss 0.62366,   Relative Error 0.30112\n"
     ]
    },
    {
     "name": "stderr",
     "output_type": "stream",
     "text": [
      " 32%|███▏      | 630/2000 [01:09<02:17,  9.96it/s]"
     ]
    },
    {
     "name": "stdout",
     "output_type": "stream",
     "text": [
      "Training_loss 0.62189,   Relative Error 0.30069\n",
      "Training_loss 0.61952,   Relative Error 0.30013\n",
      "Training_loss 0.61758,   Relative Error 0.29965\n"
     ]
    },
    {
     "name": "stderr",
     "output_type": "stream",
     "text": [
      "\r",
      " 32%|███▏      | 631/2000 [01:09<02:19,  9.84it/s]"
     ]
    },
    {
     "name": "stdout",
     "output_type": "stream",
     "text": [
      "Training_loss 0.61626,   Relative Error 0.29933\n",
      "Training_loss 0.61416,   Relative Error 0.29882\n"
     ]
    },
    {
     "name": "stderr",
     "output_type": "stream",
     "text": [
      " 32%|███▏      | 634/2000 [01:10<02:28,  9.22it/s]"
     ]
    },
    {
     "name": "stdout",
     "output_type": "stream",
     "text": [
      "Training_loss 0.61250,   Relative Error 0.29841\n",
      "Training_loss 0.61088,   Relative Error 0.29802\n"
     ]
    },
    {
     "name": "stderr",
     "output_type": "stream",
     "text": [
      " 32%|███▏      | 636/2000 [01:10<02:34,  8.84it/s]"
     ]
    },
    {
     "name": "stdout",
     "output_type": "stream",
     "text": [
      "Training_loss 0.60961,   Relative Error 0.29771\n",
      "Training_loss 0.60772,   Relative Error 0.29724\n"
     ]
    },
    {
     "name": "stderr",
     "output_type": "stream",
     "text": [
      " 32%|███▏      | 638/2000 [01:10<02:38,  8.59it/s]"
     ]
    },
    {
     "name": "stdout",
     "output_type": "stream",
     "text": [
      "Training_loss 0.60495,   Relative Error 0.29657\n",
      "Training_loss 0.60254,   Relative Error 0.29598\n",
      "Training_loss 0.59909,   Relative Error 0.29513\n"
     ]
    },
    {
     "name": "stderr",
     "output_type": "stream",
     "text": [
      " 32%|███▏      | 641/2000 [01:10<02:37,  8.65it/s]"
     ]
    },
    {
     "name": "stdout",
     "output_type": "stream",
     "text": [
      "Training_loss 0.59626,   Relative Error 0.29443\n",
      "Training_loss 0.59438,   Relative Error 0.29397\n"
     ]
    },
    {
     "name": "stderr",
     "output_type": "stream",
     "text": [
      "\r",
      " 32%|███▏      | 642/2000 [01:10<02:44,  8.27it/s]"
     ]
    },
    {
     "name": "stdout",
     "output_type": "stream",
     "text": [
      "Training_loss 0.59269,   Relative Error 0.29355\n",
      "Training_loss 0.59077,   Relative Error 0.29307\n"
     ]
    },
    {
     "name": "stderr",
     "output_type": "stream",
     "text": [
      " 32%|███▏      | 645/2000 [01:11<02:46,  8.14it/s]"
     ]
    },
    {
     "name": "stdout",
     "output_type": "stream",
     "text": [
      "Training_loss 0.58908,   Relative Error 0.29264\n",
      "Training_loss 0.58749,   Relative Error 0.29226\n"
     ]
    },
    {
     "name": "stderr",
     "output_type": "stream",
     "text": [
      " 32%|███▏      | 648/2000 [01:11<02:42,  8.30it/s]"
     ]
    },
    {
     "name": "stdout",
     "output_type": "stream",
     "text": [
      "Training_loss 0.58526,   Relative Error 0.29171\n",
      "Training_loss 0.58262,   Relative Error 0.29105\n",
      "Training_loss 0.57975,   Relative Error 0.29033\n"
     ]
    },
    {
     "name": "stderr",
     "output_type": "stream",
     "text": [
      " 33%|███▎      | 651/2000 [01:12<02:25,  9.29it/s]"
     ]
    },
    {
     "name": "stdout",
     "output_type": "stream",
     "text": [
      "Training_loss 0.57821,   Relative Error 0.28994\n",
      "Training_loss 0.57584,   Relative Error 0.28935\n",
      "Training_loss 0.57381,   Relative Error 0.28884\n"
     ]
    },
    {
     "name": "stderr",
     "output_type": "stream",
     "text": [
      "\r",
      " 33%|███▎      | 653/2000 [01:12<02:19,  9.64it/s]"
     ]
    },
    {
     "name": "stdout",
     "output_type": "stream",
     "text": [
      "Training_loss 0.57197,   Relative Error 0.28837\n",
      "Training_loss 0.57054,   Relative Error 0.28802\n"
     ]
    },
    {
     "name": "stderr",
     "output_type": "stream",
     "text": [
      " 33%|███▎      | 655/2000 [01:12<02:26,  9.15it/s]"
     ]
    },
    {
     "name": "stdout",
     "output_type": "stream",
     "text": [
      "Training_loss 0.56850,   Relative Error 0.28750\n",
      "Training_loss 0.56678,   Relative Error 0.28707\n"
     ]
    },
    {
     "name": "stderr",
     "output_type": "stream",
     "text": [
      " 33%|███▎      | 658/2000 [01:12<02:19,  9.61it/s]"
     ]
    },
    {
     "name": "stdout",
     "output_type": "stream",
     "text": [
      "Training_loss 0.56516,   Relative Error 0.28666\n",
      "Training_loss 0.56333,   Relative Error 0.28620\n",
      "Training_loss 0.56147,   Relative Error 0.28573\n"
     ]
    },
    {
     "name": "stderr",
     "output_type": "stream",
     "text": [
      " 33%|███▎      | 660/2000 [01:13<02:43,  8.20it/s]"
     ]
    },
    {
     "name": "stdout",
     "output_type": "stream",
     "text": [
      "Training_loss 0.55868,   Relative Error 0.28502\n",
      "Training_loss 0.55714,   Relative Error 0.28462\n"
     ]
    },
    {
     "name": "stderr",
     "output_type": "stream",
     "text": [
      " 33%|███▎      | 663/2000 [01:13<02:31,  8.84it/s]"
     ]
    },
    {
     "name": "stdout",
     "output_type": "stream",
     "text": [
      "Training_loss 0.55543,   Relative Error 0.28418\n",
      "Training_loss 0.55402,   Relative Error 0.28382\n",
      "Training_loss 0.55086,   Relative Error 0.28301\n"
     ]
    },
    {
     "name": "stderr",
     "output_type": "stream",
     "text": [
      " 33%|███▎      | 666/2000 [01:13<02:22,  9.34it/s]"
     ]
    },
    {
     "name": "stdout",
     "output_type": "stream",
     "text": [
      "Training_loss 0.54768,   Relative Error 0.28219\n",
      "Training_loss 0.54498,   Relative Error 0.28149\n",
      "Training_loss 0.54244,   Relative Error 0.28084\n"
     ]
    },
    {
     "name": "stderr",
     "output_type": "stream",
     "text": [
      "\r",
      " 33%|███▎      | 668/2000 [01:13<02:16,  9.78it/s]"
     ]
    },
    {
     "name": "stdout",
     "output_type": "stream",
     "text": [
      "Training_loss 0.54050,   Relative Error 0.28033\n",
      "Training_loss 0.53749,   Relative Error 0.27955\n",
      "Training_loss 0.53584,   Relative Error 0.27912\n"
     ]
    },
    {
     "name": "stderr",
     "output_type": "stream",
     "text": [
      " 34%|███▎      | 672/2000 [01:14<02:09, 10.24it/s]"
     ]
    },
    {
     "name": "stdout",
     "output_type": "stream",
     "text": [
      "Training_loss 0.53406,   Relative Error 0.27866\n",
      "Training_loss 0.53199,   Relative Error 0.27811\n",
      "Training_loss 0.53068,   Relative Error 0.27777\n"
     ]
    },
    {
     "name": "stderr",
     "output_type": "stream",
     "text": [
      "\r",
      " 34%|███▎      | 674/2000 [01:14<02:11, 10.08it/s]"
     ]
    },
    {
     "name": "stdout",
     "output_type": "stream",
     "text": [
      "Training_loss 0.52916,   Relative Error 0.27738\n",
      "Training_loss 0.52683,   Relative Error 0.27676\n",
      "Training_loss 0.52486,   Relative Error 0.27624\n"
     ]
    },
    {
     "name": "stderr",
     "output_type": "stream",
     "text": [
      " 34%|███▍      | 678/2000 [01:14<02:11, 10.08it/s]"
     ]
    },
    {
     "name": "stdout",
     "output_type": "stream",
     "text": [
      "Training_loss 0.52341,   Relative Error 0.27585\n",
      "Training_loss 0.52208,   Relative Error 0.27550\n",
      "Training_loss 0.51951,   Relative Error 0.27483\n"
     ]
    },
    {
     "name": "stderr",
     "output_type": "stream",
     "text": [
      "\r",
      " 34%|███▍      | 680/2000 [01:15<02:18,  9.50it/s]"
     ]
    },
    {
     "name": "stdout",
     "output_type": "stream",
     "text": [
      "Training_loss 0.51817,   Relative Error 0.27448\n",
      "Training_loss 0.51600,   Relative Error 0.27390\n"
     ]
    },
    {
     "name": "stderr",
     "output_type": "stream",
     "text": [
      " 34%|███▍      | 682/2000 [01:15<02:31,  8.71it/s]"
     ]
    },
    {
     "name": "stdout",
     "output_type": "stream",
     "text": [
      "Training_loss 0.51328,   Relative Error 0.27317\n",
      "Training_loss 0.51031,   Relative Error 0.27238\n"
     ]
    },
    {
     "name": "stderr",
     "output_type": "stream",
     "text": [
      " 34%|███▍      | 684/2000 [01:15<02:33,  8.60it/s]"
     ]
    },
    {
     "name": "stdout",
     "output_type": "stream",
     "text": [
      "Training_loss 0.50785,   Relative Error 0.27172\n",
      "Training_loss 0.50626,   Relative Error 0.27129\n"
     ]
    },
    {
     "name": "stderr",
     "output_type": "stream",
     "text": [
      " 34%|███▍      | 687/2000 [01:15<02:18,  9.46it/s]"
     ]
    },
    {
     "name": "stdout",
     "output_type": "stream",
     "text": [
      "Training_loss 0.50472,   Relative Error 0.27088\n",
      "Training_loss 0.50266,   Relative Error 0.27033\n",
      "Training_loss 0.50095,   Relative Error 0.26987\n"
     ]
    },
    {
     "name": "stderr",
     "output_type": "stream",
     "text": [
      " 34%|███▍      | 690/2000 [01:16<02:15,  9.68it/s]"
     ]
    },
    {
     "name": "stdout",
     "output_type": "stream",
     "text": [
      "Training_loss 0.49948,   Relative Error 0.26947\n",
      "Training_loss 0.49762,   Relative Error 0.26897\n",
      "Training_loss 0.49581,   Relative Error 0.26849\n"
     ]
    },
    {
     "name": "stderr",
     "output_type": "stream",
     "text": [
      " 35%|███▍      | 693/2000 [01:16<02:08, 10.14it/s]"
     ]
    },
    {
     "name": "stdout",
     "output_type": "stream",
     "text": [
      "Training_loss 0.49431,   Relative Error 0.26809\n",
      "Training_loss 0.49231,   Relative Error 0.26754\n",
      "Training_loss 0.49140,   Relative Error 0.26730\n"
     ]
    },
    {
     "name": "stderr",
     "output_type": "stream",
     "text": [
      "\r",
      " 35%|███▍      | 695/2000 [01:16<02:06, 10.29it/s]"
     ]
    },
    {
     "name": "stdout",
     "output_type": "stream",
     "text": [
      "Training_loss 0.49023,   Relative Error 0.26698\n",
      "Training_loss 0.48862,   Relative Error 0.26654\n",
      "Training_loss 0.48718,   Relative Error 0.26615\n"
     ]
    },
    {
     "name": "stderr",
     "output_type": "stream",
     "text": [
      " 35%|███▍      | 699/2000 [01:17<02:04, 10.48it/s]"
     ]
    },
    {
     "name": "stdout",
     "output_type": "stream",
     "text": [
      "Training_loss 0.48575,   Relative Error 0.26575\n",
      "Training_loss 0.48447,   Relative Error 0.26540\n",
      "Training_loss 0.48354,   Relative Error 0.26515\n"
     ]
    },
    {
     "name": "stderr",
     "output_type": "stream",
     "text": [
      "\r",
      " 35%|███▌      | 701/2000 [01:17<02:06, 10.23it/s]"
     ]
    },
    {
     "name": "stdout",
     "output_type": "stream",
     "text": [
      "Training_loss 0.48190,   Relative Error 0.26470\n",
      "Training_loss 0.47995,   Relative Error 0.26416\n",
      "Training_loss 0.47844,   Relative Error 0.26374\n"
     ]
    },
    {
     "name": "stderr",
     "output_type": "stream",
     "text": [
      " 35%|███▌      | 704/2000 [01:17<02:18,  9.38it/s]"
     ]
    },
    {
     "name": "stdout",
     "output_type": "stream",
     "text": [
      "Training_loss 0.47644,   Relative Error 0.26319\n",
      "Training_loss 0.47531,   Relative Error 0.26288\n",
      "Training_loss 0.47362,   Relative Error 0.26240\n"
     ]
    },
    {
     "name": "stderr",
     "output_type": "stream",
     "text": [
      " 35%|███▌      | 707/2000 [01:17<02:16,  9.49it/s]"
     ]
    },
    {
     "name": "stdout",
     "output_type": "stream",
     "text": [
      "Training_loss 0.47236,   Relative Error 0.26206\n",
      "Training_loss 0.46997,   Relative Error 0.26139\n"
     ]
    },
    {
     "name": "stderr",
     "output_type": "stream",
     "text": [
      " 36%|███▌      | 710/2000 [01:18<02:12,  9.76it/s]"
     ]
    },
    {
     "name": "stdout",
     "output_type": "stream",
     "text": [
      "Training_loss 0.46865,   Relative Error 0.26102\n",
      "Training_loss 0.46650,   Relative Error 0.26042\n",
      "Training_loss 0.46518,   Relative Error 0.26005\n"
     ]
    },
    {
     "name": "stderr",
     "output_type": "stream",
     "text": [
      " 36%|███▌      | 712/2000 [01:18<02:14,  9.55it/s]"
     ]
    },
    {
     "name": "stdout",
     "output_type": "stream",
     "text": [
      "Training_loss 0.46328,   Relative Error 0.25952\n",
      "Training_loss 0.46222,   Relative Error 0.25922\n",
      "Training_loss 0.46013,   Relative Error 0.25863\n"
     ]
    },
    {
     "name": "stderr",
     "output_type": "stream",
     "text": [
      " 36%|███▌      | 715/2000 [01:18<02:12,  9.68it/s]"
     ]
    },
    {
     "name": "stdout",
     "output_type": "stream",
     "text": [
      "Training_loss 0.45856,   Relative Error 0.25819\n",
      "Training_loss 0.45623,   Relative Error 0.25754\n",
      "Training_loss 0.45376,   Relative Error 0.25684\n"
     ]
    },
    {
     "name": "stderr",
     "output_type": "stream",
     "text": [
      " 36%|███▌      | 718/2000 [01:18<02:07, 10.09it/s]"
     ]
    },
    {
     "name": "stdout",
     "output_type": "stream",
     "text": [
      "Training_loss 0.45141,   Relative Error 0.25617\n",
      "Training_loss 0.44932,   Relative Error 0.25558\n"
     ]
    },
    {
     "name": "stderr",
     "output_type": "stream",
     "text": [
      " 36%|███▌      | 720/2000 [01:19<02:19,  9.21it/s]"
     ]
    },
    {
     "name": "stdout",
     "output_type": "stream",
     "text": [
      "Training_loss 0.44768,   Relative Error 0.25511\n",
      "Training_loss 0.44643,   Relative Error 0.25475\n"
     ]
    },
    {
     "name": "stderr",
     "output_type": "stream",
     "text": [
      " 36%|███▌      | 722/2000 [01:19<02:30,  8.47it/s]"
     ]
    },
    {
     "name": "stdout",
     "output_type": "stream",
     "text": [
      "Training_loss 0.44465,   Relative Error 0.25425\n",
      "Training_loss 0.44322,   Relative Error 0.25384\n"
     ]
    },
    {
     "name": "stderr",
     "output_type": "stream",
     "text": [
      " 36%|███▌      | 724/2000 [01:19<02:53,  7.35it/s]"
     ]
    },
    {
     "name": "stdout",
     "output_type": "stream",
     "text": [
      "Training_loss 0.44155,   Relative Error 0.25336\n",
      "Training_loss 0.43909,   Relative Error 0.25265\n"
     ]
    },
    {
     "name": "stderr",
     "output_type": "stream",
     "text": [
      " 36%|███▋      | 726/2000 [01:20<02:36,  8.15it/s]"
     ]
    },
    {
     "name": "stdout",
     "output_type": "stream",
     "text": [
      "Training_loss 0.43780,   Relative Error 0.25228\n",
      "Training_loss 0.43584,   Relative Error 0.25172\n"
     ]
    },
    {
     "name": "stderr",
     "output_type": "stream",
     "text": [
      " 36%|███▋      | 729/2000 [01:20<02:16,  9.34it/s]"
     ]
    },
    {
     "name": "stdout",
     "output_type": "stream",
     "text": [
      "Training_loss 0.43409,   Relative Error 0.25122\n",
      "Training_loss 0.43315,   Relative Error 0.25094\n",
      "Training_loss 0.43129,   Relative Error 0.25041\n"
     ]
    },
    {
     "name": "stderr",
     "output_type": "stream",
     "text": [
      " 37%|███▋      | 731/2000 [01:20<02:28,  8.55it/s]"
     ]
    },
    {
     "name": "stdout",
     "output_type": "stream",
     "text": [
      "Training_loss 0.43052,   Relative Error 0.25019\n",
      "Training_loss 0.42908,   Relative Error 0.24977\n"
     ]
    },
    {
     "name": "stderr",
     "output_type": "stream",
     "text": [
      " 37%|███▋      | 733/2000 [01:20<02:22,  8.92it/s]"
     ]
    },
    {
     "name": "stdout",
     "output_type": "stream",
     "text": [
      "Training_loss 0.42726,   Relative Error 0.24924\n",
      "Training_loss 0.42612,   Relative Error 0.24891\n"
     ]
    },
    {
     "name": "stderr",
     "output_type": "stream",
     "text": [
      " 37%|███▋      | 735/2000 [01:21<02:20,  9.01it/s]"
     ]
    },
    {
     "name": "stdout",
     "output_type": "stream",
     "text": [
      "Training_loss 0.42433,   Relative Error 0.24839\n",
      "Training_loss 0.42212,   Relative Error 0.24773\n",
      "Training_loss 0.42089,   Relative Error 0.24737\n"
     ]
    },
    {
     "name": "stderr",
     "output_type": "stream",
     "text": [
      " 37%|███▋      | 738/2000 [01:21<02:21,  8.90it/s]"
     ]
    },
    {
     "name": "stdout",
     "output_type": "stream",
     "text": [
      "Training_loss 0.41876,   Relative Error 0.24674\n",
      "Training_loss 0.41735,   Relative Error 0.24633\n"
     ]
    },
    {
     "name": "stderr",
     "output_type": "stream",
     "text": [
      "\r",
      " 37%|███▋      | 739/2000 [01:21<03:44,  5.63it/s]"
     ]
    },
    {
     "name": "stdout",
     "output_type": "stream",
     "text": [
      "Training_loss 0.41586,   Relative Error 0.24589\n"
     ]
    },
    {
     "name": "stderr",
     "output_type": "stream",
     "text": [
      "\r",
      " 37%|███▋      | 740/2000 [01:22<04:39,  4.50it/s]"
     ]
    },
    {
     "name": "stdout",
     "output_type": "stream",
     "text": [
      "Training_loss 0.41390,   Relative Error 0.24531\n"
     ]
    },
    {
     "name": "stderr",
     "output_type": "stream",
     "text": [
      " 37%|███▋      | 742/2000 [01:22<04:16,  4.91it/s]"
     ]
    },
    {
     "name": "stdout",
     "output_type": "stream",
     "text": [
      "Training_loss 0.41229,   Relative Error 0.24484\n",
      "Training_loss 0.41123,   Relative Error 0.24453\n"
     ]
    },
    {
     "name": "stderr",
     "output_type": "stream",
     "text": [
      " 37%|███▋      | 744/2000 [01:22<03:21,  6.23it/s]"
     ]
    },
    {
     "name": "stdout",
     "output_type": "stream",
     "text": [
      "Training_loss 0.40954,   Relative Error 0.24402\n",
      "Training_loss 0.40847,   Relative Error 0.24370\n"
     ]
    },
    {
     "name": "stderr",
     "output_type": "stream",
     "text": [
      " 37%|███▋      | 746/2000 [01:22<02:52,  7.25it/s]"
     ]
    },
    {
     "name": "stdout",
     "output_type": "stream",
     "text": [
      "Training_loss 0.40763,   Relative Error 0.24345\n",
      "Training_loss 0.40620,   Relative Error 0.24303\n"
     ]
    },
    {
     "name": "stderr",
     "output_type": "stream",
     "text": [
      " 37%|███▋      | 748/2000 [01:23<02:37,  7.93it/s]"
     ]
    },
    {
     "name": "stdout",
     "output_type": "stream",
     "text": [
      "Training_loss 0.40442,   Relative Error 0.24249\n",
      "Training_loss 0.40316,   Relative Error 0.24212\n"
     ]
    },
    {
     "name": "stderr",
     "output_type": "stream",
     "text": [
      " 38%|███▊      | 750/2000 [01:23<02:31,  8.22it/s]"
     ]
    },
    {
     "name": "stdout",
     "output_type": "stream",
     "text": [
      "Training_loss 0.40165,   Relative Error 0.24166\n",
      "Training_loss 0.40057,   Relative Error 0.24133\n"
     ]
    },
    {
     "name": "stderr",
     "output_type": "stream",
     "text": [
      " 38%|███▊      | 752/2000 [01:23<02:28,  8.38it/s]"
     ]
    },
    {
     "name": "stdout",
     "output_type": "stream",
     "text": [
      "Training_loss 0.39909,   Relative Error 0.24088\n",
      "Training_loss 0.39758,   Relative Error 0.24043\n"
     ]
    },
    {
     "name": "stderr",
     "output_type": "stream",
     "text": [
      "\r",
      " 38%|███▊      | 753/2000 [01:23<02:28,  8.38it/s]"
     ]
    },
    {
     "name": "stdout",
     "output_type": "stream",
     "text": [
      "Training_loss 0.39687,   Relative Error 0.24022\n",
      "Training_loss 0.39531,   Relative Error 0.23975\n"
     ]
    },
    {
     "name": "stderr",
     "output_type": "stream",
     "text": [
      " 38%|███▊      | 756/2000 [01:24<02:19,  8.90it/s]"
     ]
    },
    {
     "name": "stdout",
     "output_type": "stream",
     "text": [
      "Training_loss 0.39441,   Relative Error 0.23947\n",
      "Training_loss 0.39231,   Relative Error 0.23883\n"
     ]
    },
    {
     "name": "stderr",
     "output_type": "stream",
     "text": [
      " 38%|███▊      | 758/2000 [01:24<02:30,  8.27it/s]"
     ]
    },
    {
     "name": "stdout",
     "output_type": "stream",
     "text": [
      "Training_loss 0.39096,   Relative Error 0.23842\n",
      "Training_loss 0.38936,   Relative Error 0.23793\n"
     ]
    },
    {
     "name": "stderr",
     "output_type": "stream",
     "text": [
      " 38%|███▊      | 760/2000 [01:24<02:27,  8.43it/s]"
     ]
    },
    {
     "name": "stdout",
     "output_type": "stream",
     "text": [
      "Training_loss 0.38799,   Relative Error 0.23751\n",
      "Training_loss 0.38684,   Relative Error 0.23715\n"
     ]
    },
    {
     "name": "stderr",
     "output_type": "stream",
     "text": [
      " 38%|███▊      | 762/2000 [01:24<02:53,  7.13it/s]"
     ]
    },
    {
     "name": "stdout",
     "output_type": "stream",
     "text": [
      "Training_loss 0.38486,   Relative Error 0.23655\n",
      "Training_loss 0.38387,   Relative Error 0.23625\n"
     ]
    },
    {
     "name": "stderr",
     "output_type": "stream",
     "text": [
      " 38%|███▊      | 764/2000 [01:25<02:30,  8.20it/s]"
     ]
    },
    {
     "name": "stdout",
     "output_type": "stream",
     "text": [
      "Training_loss 0.38268,   Relative Error 0.23588\n",
      "Training_loss 0.38099,   Relative Error 0.23536\n",
      "Training_loss 0.37978,   Relative Error 0.23499\n"
     ]
    },
    {
     "name": "stderr",
     "output_type": "stream",
     "text": [
      " 38%|███▊      | 768/2000 [01:25<02:10,  9.42it/s]"
     ]
    },
    {
     "name": "stdout",
     "output_type": "stream",
     "text": [
      "Training_loss 0.37841,   Relative Error 0.23456\n",
      "Training_loss 0.37688,   Relative Error 0.23408\n",
      "Training_loss 0.37518,   Relative Error 0.23355\n"
     ]
    },
    {
     "name": "stderr",
     "output_type": "stream",
     "text": [
      " 38%|███▊      | 770/2000 [01:25<02:16,  8.99it/s]"
     ]
    },
    {
     "name": "stdout",
     "output_type": "stream",
     "text": [
      "Training_loss 0.37382,   Relative Error 0.23313\n",
      "Training_loss 0.37229,   Relative Error 0.23266\n"
     ]
    },
    {
     "name": "stderr",
     "output_type": "stream",
     "text": [
      " 39%|███▊      | 772/2000 [01:25<02:26,  8.36it/s]"
     ]
    },
    {
     "name": "stdout",
     "output_type": "stream",
     "text": [
      "Training_loss 0.37134,   Relative Error 0.23236\n",
      "Training_loss 0.36931,   Relative Error 0.23172\n"
     ]
    },
    {
     "name": "stderr",
     "output_type": "stream",
     "text": [
      " 39%|███▊      | 774/2000 [01:26<02:21,  8.66it/s]"
     ]
    },
    {
     "name": "stdout",
     "output_type": "stream",
     "text": [
      "Training_loss 0.36818,   Relative Error 0.23137\n",
      "Training_loss 0.36715,   Relative Error 0.23105\n",
      "Training_loss 0.36592,   Relative Error 0.23066\n"
     ]
    },
    {
     "name": "stderr",
     "output_type": "stream",
     "text": [
      " 39%|███▉      | 777/2000 [01:26<02:26,  8.37it/s]"
     ]
    },
    {
     "name": "stdout",
     "output_type": "stream",
     "text": [
      "Training_loss 0.36448,   Relative Error 0.23020\n",
      "Training_loss 0.36272,   Relative Error 0.22964\n"
     ]
    },
    {
     "name": "stderr",
     "output_type": "stream",
     "text": [
      " 39%|███▉      | 779/2000 [01:26<02:17,  8.90it/s]"
     ]
    },
    {
     "name": "stdout",
     "output_type": "stream",
     "text": [
      "Training_loss 0.36135,   Relative Error 0.22920\n",
      "Training_loss 0.35992,   Relative Error 0.22876\n",
      "Training_loss 0.35833,   Relative Error 0.22826\n"
     ]
    },
    {
     "name": "stderr",
     "output_type": "stream",
     "text": [
      " 39%|███▉      | 782/2000 [01:27<02:07,  9.54it/s]"
     ]
    },
    {
     "name": "stdout",
     "output_type": "stream",
     "text": [
      "Training_loss 0.35726,   Relative Error 0.22792\n",
      "Training_loss 0.35664,   Relative Error 0.22772\n"
     ]
    },
    {
     "name": "stderr",
     "output_type": "stream",
     "text": [
      " 39%|███▉      | 784/2000 [01:27<02:22,  8.54it/s]"
     ]
    },
    {
     "name": "stdout",
     "output_type": "stream",
     "text": [
      "Training_loss 0.35582,   Relative Error 0.22746\n",
      "Training_loss 0.35473,   Relative Error 0.22711\n"
     ]
    },
    {
     "name": "stderr",
     "output_type": "stream",
     "text": [
      " 39%|███▉      | 786/2000 [01:27<02:38,  7.65it/s]"
     ]
    },
    {
     "name": "stdout",
     "output_type": "stream",
     "text": [
      "Training_loss 0.35333,   Relative Error 0.22667\n",
      "Training_loss 0.35146,   Relative Error 0.22606\n"
     ]
    },
    {
     "name": "stderr",
     "output_type": "stream",
     "text": [
      " 39%|███▉      | 788/2000 [01:27<02:57,  6.85it/s]"
     ]
    },
    {
     "name": "stdout",
     "output_type": "stream",
     "text": [
      "Training_loss 0.35069,   Relative Error 0.22581\n",
      "Training_loss 0.34937,   Relative Error 0.22539\n"
     ]
    },
    {
     "name": "stderr",
     "output_type": "stream",
     "text": [
      " 40%|███▉      | 790/2000 [01:28<02:59,  6.73it/s]"
     ]
    },
    {
     "name": "stdout",
     "output_type": "stream",
     "text": [
      "Training_loss 0.34831,   Relative Error 0.22504\n",
      "Training_loss 0.34746,   Relative Error 0.22477\n"
     ]
    },
    {
     "name": "stderr",
     "output_type": "stream",
     "text": [
      " 40%|███▉      | 792/2000 [01:28<02:51,  7.03it/s]"
     ]
    },
    {
     "name": "stdout",
     "output_type": "stream",
     "text": [
      "Training_loss 0.34587,   Relative Error 0.22425\n",
      "Training_loss 0.34437,   Relative Error 0.22377\n"
     ]
    },
    {
     "name": "stderr",
     "output_type": "stream",
     "text": [
      " 40%|███▉      | 794/2000 [01:28<02:47,  7.18it/s]"
     ]
    },
    {
     "name": "stdout",
     "output_type": "stream",
     "text": [
      "Training_loss 0.34232,   Relative Error 0.22311\n",
      "Training_loss 0.34108,   Relative Error 0.22271\n"
     ]
    },
    {
     "name": "stderr",
     "output_type": "stream",
     "text": [
      " 40%|███▉      | 796/2000 [01:29<02:40,  7.51it/s]"
     ]
    },
    {
     "name": "stdout",
     "output_type": "stream",
     "text": [
      "Training_loss 0.33976,   Relative Error 0.22227\n",
      "Training_loss 0.33906,   Relative Error 0.22205\n"
     ]
    },
    {
     "name": "stderr",
     "output_type": "stream",
     "text": [
      " 40%|███▉      | 799/2000 [01:29<02:16,  8.78it/s]"
     ]
    },
    {
     "name": "stdout",
     "output_type": "stream",
     "text": [
      "Training_loss 0.33817,   Relative Error 0.22175\n",
      "Training_loss 0.33717,   Relative Error 0.22142\n",
      "Training_loss 0.33555,   Relative Error 0.22089\n"
     ]
    },
    {
     "name": "stderr",
     "output_type": "stream",
     "text": [
      "\r",
      " 40%|████      | 801/2000 [01:29<02:10,  9.21it/s]"
     ]
    },
    {
     "name": "stdout",
     "output_type": "stream",
     "text": [
      "Training_loss 0.33455,   Relative Error 0.22056\n",
      "Training_loss 0.33326,   Relative Error 0.22014\n"
     ]
    },
    {
     "name": "stderr",
     "output_type": "stream",
     "text": [
      " 40%|████      | 804/2000 [01:29<02:01,  9.84it/s]"
     ]
    },
    {
     "name": "stdout",
     "output_type": "stream",
     "text": [
      "Training_loss 0.33163,   Relative Error 0.21960\n",
      "Training_loss 0.33058,   Relative Error 0.21925\n",
      "Training_loss 0.32960,   Relative Error 0.21893\n"
     ]
    },
    {
     "name": "stderr",
     "output_type": "stream",
     "text": [
      "\r",
      " 40%|████      | 806/2000 [01:30<02:00,  9.88it/s]"
     ]
    },
    {
     "name": "stdout",
     "output_type": "stream",
     "text": [
      "Training_loss 0.32812,   Relative Error 0.21844\n",
      "Training_loss 0.32699,   Relative Error 0.21807\n"
     ]
    },
    {
     "name": "stderr",
     "output_type": "stream",
     "text": [
      "\r",
      " 40%|████      | 808/2000 [01:30<01:58, 10.10it/s]"
     ]
    },
    {
     "name": "stdout",
     "output_type": "stream",
     "text": [
      "Training_loss 0.32595,   Relative Error 0.21772\n",
      "Training_loss 0.32459,   Relative Error 0.21726\n",
      "Training_loss 0.32302,   Relative Error 0.21673\n"
     ]
    },
    {
     "name": "stderr",
     "output_type": "stream",
     "text": [
      " 41%|████      | 812/2000 [01:30<01:57, 10.11it/s]"
     ]
    },
    {
     "name": "stdout",
     "output_type": "stream",
     "text": [
      "Training_loss 0.32205,   Relative Error 0.21641\n",
      "Training_loss 0.32114,   Relative Error 0.21610\n",
      "Training_loss 0.31990,   Relative Error 0.21569\n"
     ]
    },
    {
     "name": "stderr",
     "output_type": "stream",
     "text": [
      "\r",
      " 41%|████      | 814/2000 [01:30<01:57, 10.09it/s]"
     ]
    },
    {
     "name": "stdout",
     "output_type": "stream",
     "text": [
      "Training_loss 0.31908,   Relative Error 0.21541\n",
      "Training_loss 0.31845,   Relative Error 0.21520\n",
      "Training_loss 0.31736,   Relative Error 0.21482\n"
     ]
    },
    {
     "name": "stderr",
     "output_type": "stream",
     "text": [
      "\r",
      " 41%|████      | 816/2000 [01:31<01:57, 10.10it/s]"
     ]
    },
    {
     "name": "stdout",
     "output_type": "stream",
     "text": [
      "Training_loss 0.31619,   Relative Error 0.21444\n",
      "Training_loss 0.31539,   Relative Error 0.21417\n"
     ]
    },
    {
     "name": "stderr",
     "output_type": "stream",
     "text": [
      " 41%|████      | 820/2000 [01:31<01:58,  9.92it/s]"
     ]
    },
    {
     "name": "stdout",
     "output_type": "stream",
     "text": [
      "Training_loss 0.31406,   Relative Error 0.21372\n",
      "Training_loss 0.31317,   Relative Error 0.21341\n",
      "Training_loss 0.31167,   Relative Error 0.21290\n"
     ]
    },
    {
     "name": "stderr",
     "output_type": "stream",
     "text": [
      " 41%|████      | 823/2000 [01:31<01:56, 10.06it/s]"
     ]
    },
    {
     "name": "stdout",
     "output_type": "stream",
     "text": [
      "Training_loss 0.30978,   Relative Error 0.21225\n",
      "Training_loss 0.30871,   Relative Error 0.21189\n",
      "Training_loss 0.30779,   Relative Error 0.21157\n"
     ]
    },
    {
     "name": "stderr",
     "output_type": "stream",
     "text": [
      "\r",
      " 41%|████▏     | 825/2000 [01:31<01:55, 10.14it/s]"
     ]
    },
    {
     "name": "stdout",
     "output_type": "stream",
     "text": [
      "Training_loss 0.30687,   Relative Error 0.21125\n",
      "Training_loss 0.30589,   Relative Error 0.21092\n",
      "Training_loss 0.30489,   Relative Error 0.21057\n"
     ]
    },
    {
     "name": "stderr",
     "output_type": "stream",
     "text": [
      " 41%|████▏     | 829/2000 [01:32<01:55, 10.14it/s]"
     ]
    },
    {
     "name": "stdout",
     "output_type": "stream",
     "text": [
      "Training_loss 0.30364,   Relative Error 0.21014\n",
      "Training_loss 0.30275,   Relative Error 0.20983\n",
      "Training_loss 0.30192,   Relative Error 0.20954\n"
     ]
    },
    {
     "name": "stderr",
     "output_type": "stream",
     "text": [
      "\r",
      " 42%|████▏     | 831/2000 [01:32<01:52, 10.36it/s]"
     ]
    },
    {
     "name": "stdout",
     "output_type": "stream",
     "text": [
      "Training_loss 0.30066,   Relative Error 0.20910\n",
      "Training_loss 0.29942,   Relative Error 0.20867\n"
     ]
    },
    {
     "name": "stderr",
     "output_type": "stream",
     "text": [
      "\r",
      " 42%|████▏     | 833/2000 [01:32<01:53, 10.25it/s]"
     ]
    },
    {
     "name": "stdout",
     "output_type": "stream",
     "text": [
      "Training_loss 0.29871,   Relative Error 0.20842\n",
      "Training_loss 0.29791,   Relative Error 0.20815\n",
      "Training_loss 0.29671,   Relative Error 0.20773\n"
     ]
    },
    {
     "name": "stderr",
     "output_type": "stream",
     "text": [
      "\r",
      " 42%|████▏     | 835/2000 [01:32<01:52, 10.33it/s]"
     ]
    },
    {
     "name": "stdout",
     "output_type": "stream",
     "text": [
      "Training_loss 0.29535,   Relative Error 0.20725\n",
      "Training_loss 0.29415,   Relative Error 0.20683\n"
     ]
    },
    {
     "name": "stderr",
     "output_type": "stream",
     "text": [
      " 42%|████▏     | 838/2000 [01:33<02:02,  9.50it/s]"
     ]
    },
    {
     "name": "stdout",
     "output_type": "stream",
     "text": [
      "Training_loss 0.29289,   Relative Error 0.20639\n",
      "Training_loss 0.29199,   Relative Error 0.20607\n"
     ]
    },
    {
     "name": "stderr",
     "output_type": "stream",
     "text": [
      "\r",
      " 42%|████▏     | 839/2000 [01:33<02:05,  9.27it/s]"
     ]
    },
    {
     "name": "stdout",
     "output_type": "stream",
     "text": [
      "Training_loss 0.29060,   Relative Error 0.20558\n",
      "Training_loss 0.28961,   Relative Error 0.20524\n",
      "Training_loss 0.28885,   Relative Error 0.20497\n"
     ]
    },
    {
     "name": "stderr",
     "output_type": "stream",
     "text": [
      " 42%|████▏     | 843/2000 [01:33<01:55, 10.00it/s]"
     ]
    },
    {
     "name": "stdout",
     "output_type": "stream",
     "text": [
      "Training_loss 0.28791,   Relative Error 0.20464\n",
      "Training_loss 0.28707,   Relative Error 0.20434\n"
     ]
    },
    {
     "name": "stderr",
     "output_type": "stream",
     "text": [
      " 42%|████▏     | 846/2000 [01:34<01:56,  9.94it/s]"
     ]
    },
    {
     "name": "stdout",
     "output_type": "stream",
     "text": [
      "Training_loss 0.28634,   Relative Error 0.20408\n",
      "Training_loss 0.28561,   Relative Error 0.20382\n",
      "Training_loss 0.28450,   Relative Error 0.20343\n"
     ]
    },
    {
     "name": "stderr",
     "output_type": "stream",
     "text": [
      "\r",
      " 42%|████▏     | 848/2000 [01:34<01:53, 10.17it/s]"
     ]
    },
    {
     "name": "stdout",
     "output_type": "stream",
     "text": [
      "Training_loss 0.28357,   Relative Error 0.20310\n",
      "Training_loss 0.28231,   Relative Error 0.20264\n",
      "Training_loss 0.28179,   Relative Error 0.20246\n"
     ]
    },
    {
     "name": "stderr",
     "output_type": "stream",
     "text": [
      " 43%|████▎     | 852/2000 [01:34<01:56,  9.84it/s]"
     ]
    },
    {
     "name": "stdout",
     "output_type": "stream",
     "text": [
      "Training_loss 0.28072,   Relative Error 0.20207\n",
      "Training_loss 0.28007,   Relative Error 0.20184\n",
      "Training_loss 0.27854,   Relative Error 0.20128\n"
     ]
    },
    {
     "name": "stderr",
     "output_type": "stream",
     "text": [
      "\r",
      " 43%|████▎     | 854/2000 [01:34<01:53, 10.14it/s]"
     ]
    },
    {
     "name": "stdout",
     "output_type": "stream",
     "text": [
      "Training_loss 0.27745,   Relative Error 0.20089\n",
      "Training_loss 0.27641,   Relative Error 0.20051\n",
      "Training_loss 0.27595,   Relative Error 0.20034\n"
     ]
    },
    {
     "name": "stderr",
     "output_type": "stream",
     "text": [
      "\r",
      " 43%|████▎     | 856/2000 [01:35<01:51, 10.25it/s]"
     ]
    },
    {
     "name": "stdout",
     "output_type": "stream",
     "text": [
      "Training_loss 0.27450,   Relative Error 0.19982\n",
      "Training_loss 0.27341,   Relative Error 0.19942\n"
     ]
    },
    {
     "name": "stderr",
     "output_type": "stream",
     "text": [
      " 43%|████▎     | 859/2000 [01:35<02:06,  9.03it/s]"
     ]
    },
    {
     "name": "stdout",
     "output_type": "stream",
     "text": [
      "Training_loss 0.27256,   Relative Error 0.19911\n",
      "Training_loss 0.27088,   Relative Error 0.19849\n"
     ]
    },
    {
     "name": "stderr",
     "output_type": "stream",
     "text": [
      " 43%|████▎     | 862/2000 [01:35<02:07,  8.93it/s]"
     ]
    },
    {
     "name": "stdout",
     "output_type": "stream",
     "text": [
      "Training_loss 0.27011,   Relative Error 0.19821\n",
      "Training_loss 0.26943,   Relative Error 0.19796\n",
      "Training_loss 0.26842,   Relative Error 0.19759\n"
     ]
    },
    {
     "name": "stderr",
     "output_type": "stream",
     "text": [
      " 43%|████▎     | 864/2000 [01:36<02:14,  8.42it/s]"
     ]
    },
    {
     "name": "stdout",
     "output_type": "stream",
     "text": [
      "Training_loss 0.26732,   Relative Error 0.19719\n",
      "Training_loss 0.26675,   Relative Error 0.19698\n"
     ]
    },
    {
     "name": "stderr",
     "output_type": "stream",
     "text": [
      " 43%|████▎     | 866/2000 [01:36<02:22,  7.95it/s]"
     ]
    },
    {
     "name": "stdout",
     "output_type": "stream",
     "text": [
      "Training_loss 0.26535,   Relative Error 0.19646\n",
      "Training_loss 0.26429,   Relative Error 0.19607\n"
     ]
    },
    {
     "name": "stderr",
     "output_type": "stream",
     "text": [
      " 43%|████▎     | 869/2000 [01:36<02:07,  8.89it/s]"
     ]
    },
    {
     "name": "stdout",
     "output_type": "stream",
     "text": [
      "Training_loss 0.26345,   Relative Error 0.19576\n",
      "Training_loss 0.26255,   Relative Error 0.19542\n",
      "Training_loss 0.26184,   Relative Error 0.19516\n"
     ]
    },
    {
     "name": "stderr",
     "output_type": "stream",
     "text": [
      " 44%|████▎     | 872/2000 [01:36<01:57,  9.58it/s]"
     ]
    },
    {
     "name": "stdout",
     "output_type": "stream",
     "text": [
      "Training_loss 0.26096,   Relative Error 0.19483\n",
      "Training_loss 0.26011,   Relative Error 0.19451\n",
      "Training_loss 0.25950,   Relative Error 0.19428\n"
     ]
    },
    {
     "name": "stderr",
     "output_type": "stream",
     "text": [
      " 44%|████▎     | 874/2000 [01:37<01:59,  9.42it/s]"
     ]
    },
    {
     "name": "stdout",
     "output_type": "stream",
     "text": [
      "Training_loss 0.25824,   Relative Error 0.19381\n",
      "Training_loss 0.25702,   Relative Error 0.19335\n"
     ]
    },
    {
     "name": "stderr",
     "output_type": "stream",
     "text": [
      " 44%|████▍     | 877/2000 [01:37<01:57,  9.53it/s]"
     ]
    },
    {
     "name": "stdout",
     "output_type": "stream",
     "text": [
      "Training_loss 0.25623,   Relative Error 0.19305\n",
      "Training_loss 0.25518,   Relative Error 0.19265\n",
      "Training_loss 0.25415,   Relative Error 0.19227\n"
     ]
    },
    {
     "name": "stderr",
     "output_type": "stream",
     "text": [
      " 44%|████▍     | 879/2000 [01:37<02:01,  9.20it/s]"
     ]
    },
    {
     "name": "stdout",
     "output_type": "stream",
     "text": [
      "Training_loss 0.25361,   Relative Error 0.19207\n",
      "Training_loss 0.25251,   Relative Error 0.19165\n"
     ]
    },
    {
     "name": "stderr",
     "output_type": "stream",
     "text": [
      " 44%|████▍     | 882/2000 [01:37<01:53,  9.82it/s]"
     ]
    },
    {
     "name": "stdout",
     "output_type": "stream",
     "text": [
      "Training_loss 0.25206,   Relative Error 0.19148\n",
      "Training_loss 0.25134,   Relative Error 0.19121\n",
      "Training_loss 0.24999,   Relative Error 0.19070\n"
     ]
    },
    {
     "name": "stderr",
     "output_type": "stream",
     "text": [
      "\r",
      " 44%|████▍     | 884/2000 [01:38<01:50, 10.11it/s]"
     ]
    },
    {
     "name": "stdout",
     "output_type": "stream",
     "text": [
      "Training_loss 0.24917,   Relative Error 0.19038\n",
      "Training_loss 0.24844,   Relative Error 0.19011\n"
     ]
    },
    {
     "name": "stderr",
     "output_type": "stream",
     "text": [
      " 44%|████▍     | 887/2000 [01:38<01:52,  9.91it/s]"
     ]
    },
    {
     "name": "stdout",
     "output_type": "stream",
     "text": [
      "Training_loss 0.24738,   Relative Error 0.18970\n",
      "Training_loss 0.24657,   Relative Error 0.18939\n",
      "Training_loss 0.24556,   Relative Error 0.18900\n"
     ]
    },
    {
     "name": "stderr",
     "output_type": "stream",
     "text": [
      " 44%|████▍     | 890/2000 [01:38<01:53,  9.82it/s]"
     ]
    },
    {
     "name": "stdout",
     "output_type": "stream",
     "text": [
      "Training_loss 0.24461,   Relative Error 0.18863\n",
      "Training_loss 0.24350,   Relative Error 0.18821\n",
      "Training_loss 0.24229,   Relative Error 0.18774\n"
     ]
    },
    {
     "name": "stderr",
     "output_type": "stream",
     "text": [
      " 45%|████▍     | 893/2000 [01:39<01:52,  9.83it/s]"
     ]
    },
    {
     "name": "stdout",
     "output_type": "stream",
     "text": [
      "Training_loss 0.24125,   Relative Error 0.18734\n",
      "Training_loss 0.23995,   Relative Error 0.18683\n",
      "Training_loss 0.23929,   Relative Error 0.18657\n"
     ]
    },
    {
     "name": "stderr",
     "output_type": "stream",
     "text": [
      " 45%|████▍     | 896/2000 [01:39<01:50,  9.99it/s]"
     ]
    },
    {
     "name": "stdout",
     "output_type": "stream",
     "text": [
      "Training_loss 0.23859,   Relative Error 0.18630\n",
      "Training_loss 0.23787,   Relative Error 0.18602\n",
      "Training_loss 0.23722,   Relative Error 0.18576\n"
     ]
    },
    {
     "name": "stderr",
     "output_type": "stream",
     "text": [
      "\r",
      " 45%|████▍     | 897/2000 [01:39<01:51,  9.92it/s]"
     ]
    },
    {
     "name": "stdout",
     "output_type": "stream",
     "text": [
      "Training_loss 0.23625,   Relative Error 0.18538\n",
      "Training_loss 0.23562,   Relative Error 0.18513\n"
     ]
    },
    {
     "name": "stderr",
     "output_type": "stream",
     "text": [
      " 45%|████▌     | 900/2000 [01:39<01:58,  9.31it/s]"
     ]
    },
    {
     "name": "stdout",
     "output_type": "stream",
     "text": [
      "Training_loss 0.23480,   Relative Error 0.18481\n",
      "Training_loss 0.23339,   Relative Error 0.18426\n"
     ]
    },
    {
     "name": "stderr",
     "output_type": "stream",
     "text": [
      " 45%|████▌     | 903/2000 [01:40<01:52,  9.74it/s]"
     ]
    },
    {
     "name": "stdout",
     "output_type": "stream",
     "text": [
      "Training_loss 0.23241,   Relative Error 0.18387\n",
      "Training_loss 0.23184,   Relative Error 0.18365\n",
      "Training_loss 0.23099,   Relative Error 0.18331\n"
     ]
    },
    {
     "name": "stderr",
     "output_type": "stream",
     "text": [
      " 45%|████▌     | 905/2000 [01:40<01:51,  9.82it/s]"
     ]
    },
    {
     "name": "stdout",
     "output_type": "stream",
     "text": [
      "Training_loss 0.23011,   Relative Error 0.18296\n",
      "Training_loss 0.22908,   Relative Error 0.18256\n",
      "Training_loss 0.22852,   Relative Error 0.18233\n"
     ]
    },
    {
     "name": "stderr",
     "output_type": "stream",
     "text": [
      " 45%|████▌     | 909/2000 [01:40<01:45, 10.29it/s]"
     ]
    },
    {
     "name": "stdout",
     "output_type": "stream",
     "text": [
      "Training_loss 0.22777,   Relative Error 0.18203\n",
      "Training_loss 0.22705,   Relative Error 0.18175\n",
      "Training_loss 0.22589,   Relative Error 0.18128\n"
     ]
    },
    {
     "name": "stderr",
     "output_type": "stream",
     "text": [
      "\r",
      " 46%|████▌     | 911/2000 [01:40<01:44, 10.45it/s]"
     ]
    },
    {
     "name": "stdout",
     "output_type": "stream",
     "text": [
      "Training_loss 0.22540,   Relative Error 0.18109\n",
      "Training_loss 0.22466,   Relative Error 0.18079\n",
      "Training_loss 0.22384,   Relative Error 0.18046\n"
     ]
    },
    {
     "name": "stderr",
     "output_type": "stream",
     "text": [
      " 46%|████▌     | 915/2000 [01:41<01:46, 10.15it/s]"
     ]
    },
    {
     "name": "stdout",
     "output_type": "stream",
     "text": [
      "Training_loss 0.22267,   Relative Error 0.17999\n",
      "Training_loss 0.22175,   Relative Error 0.17962\n",
      "Training_loss 0.22121,   Relative Error 0.17940\n"
     ]
    },
    {
     "name": "stderr",
     "output_type": "stream",
     "text": [
      "\r",
      " 46%|████▌     | 917/2000 [01:41<01:51,  9.70it/s]"
     ]
    },
    {
     "name": "stdout",
     "output_type": "stream",
     "text": [
      "Training_loss 0.22017,   Relative Error 0.17898\n",
      "Training_loss 0.21929,   Relative Error 0.17862\n",
      "Training_loss 0.21840,   Relative Error 0.17826\n"
     ]
    },
    {
     "name": "stderr",
     "output_type": "stream",
     "text": [
      "\r",
      " 46%|████▌     | 919/2000 [01:41<01:46, 10.13it/s]"
     ]
    },
    {
     "name": "stdout",
     "output_type": "stream",
     "text": [
      "Training_loss 0.21764,   Relative Error 0.17795\n",
      "Training_loss 0.21701,   Relative Error 0.17769\n"
     ]
    },
    {
     "name": "stderr",
     "output_type": "stream",
     "text": [
      " 46%|████▌     | 922/2000 [01:42<02:04,  8.66it/s]"
     ]
    },
    {
     "name": "stdout",
     "output_type": "stream",
     "text": [
      "Training_loss 0.21641,   Relative Error 0.17745\n",
      "Training_loss 0.21571,   Relative Error 0.17715\n"
     ]
    },
    {
     "name": "stderr",
     "output_type": "stream",
     "text": [
      " 46%|████▋     | 925/2000 [01:42<01:57,  9.18it/s]"
     ]
    },
    {
     "name": "stdout",
     "output_type": "stream",
     "text": [
      "Training_loss 0.21514,   Relative Error 0.17693\n",
      "Training_loss 0.21469,   Relative Error 0.17674\n",
      "Training_loss 0.21402,   Relative Error 0.17646\n"
     ]
    },
    {
     "name": "stderr",
     "output_type": "stream",
     "text": [
      " 46%|████▋     | 928/2000 [01:42<01:49,  9.78it/s]"
     ]
    },
    {
     "name": "stdout",
     "output_type": "stream",
     "text": [
      "Training_loss 0.21368,   Relative Error 0.17632\n",
      "Training_loss 0.21279,   Relative Error 0.17595\n",
      "Training_loss 0.21210,   Relative Error 0.17567\n"
     ]
    },
    {
     "name": "stderr",
     "output_type": "stream",
     "text": [
      "\r",
      " 46%|████▋     | 929/2000 [01:42<02:04,  8.58it/s]"
     ]
    },
    {
     "name": "stdout",
     "output_type": "stream",
     "text": [
      "Training_loss 0.21143,   Relative Error 0.17539\n"
     ]
    },
    {
     "name": "stderr",
     "output_type": "stream",
     "text": [
      " 47%|████▋     | 931/2000 [01:43<02:31,  7.06it/s]"
     ]
    },
    {
     "name": "stdout",
     "output_type": "stream",
     "text": [
      "Training_loss 0.21103,   Relative Error 0.17523\n",
      "Training_loss 0.20995,   Relative Error 0.17478\n"
     ]
    },
    {
     "name": "stderr",
     "output_type": "stream",
     "text": [
      "\r",
      " 47%|████▋     | 932/2000 [01:43<02:52,  6.18it/s]"
     ]
    },
    {
     "name": "stdout",
     "output_type": "stream",
     "text": [
      "Training_loss 0.20889,   Relative Error 0.17434\n"
     ]
    },
    {
     "name": "stderr",
     "output_type": "stream",
     "text": [
      "\r",
      " 47%|████▋     | 933/2000 [01:43<04:16,  4.16it/s]"
     ]
    },
    {
     "name": "stdout",
     "output_type": "stream",
     "text": [
      "Training_loss 0.20843,   Relative Error 0.17414\n"
     ]
    },
    {
     "name": "stderr",
     "output_type": "stream",
     "text": [
      "\r",
      " 47%|████▋     | 934/2000 [01:44<04:37,  3.84it/s]"
     ]
    },
    {
     "name": "stdout",
     "output_type": "stream",
     "text": [
      "Training_loss 0.20755,   Relative Error 0.17378\n"
     ]
    },
    {
     "name": "stderr",
     "output_type": "stream",
     "text": [
      " 47%|████▋     | 937/2000 [01:44<03:02,  5.82it/s]"
     ]
    },
    {
     "name": "stdout",
     "output_type": "stream",
     "text": [
      "Training_loss 0.20662,   Relative Error 0.17339\n",
      "Training_loss 0.20573,   Relative Error 0.17301\n",
      "Training_loss 0.20510,   Relative Error 0.17275\n"
     ]
    },
    {
     "name": "stderr",
     "output_type": "stream",
     "text": [
      "\r",
      " 47%|████▋     | 939/2000 [01:44<02:29,  7.09it/s]"
     ]
    },
    {
     "name": "stdout",
     "output_type": "stream",
     "text": [
      "Training_loss 0.20402,   Relative Error 0.17229\n",
      "Training_loss 0.20331,   Relative Error 0.17199\n"
     ]
    },
    {
     "name": "stderr",
     "output_type": "stream",
     "text": [
      " 47%|████▋     | 941/2000 [01:45<03:37,  4.88it/s]"
     ]
    },
    {
     "name": "stdout",
     "output_type": "stream",
     "text": [
      "Training_loss 0.20286,   Relative Error 0.17180\n",
      "Training_loss 0.20208,   Relative Error 0.17147\n"
     ]
    },
    {
     "name": "stderr",
     "output_type": "stream",
     "text": [
      " 47%|████▋     | 943/2000 [01:45<03:29,  5.04it/s]"
     ]
    },
    {
     "name": "stdout",
     "output_type": "stream",
     "text": [
      "Training_loss 0.20152,   Relative Error 0.17123\n",
      "Training_loss 0.20101,   Relative Error 0.17102\n"
     ]
    },
    {
     "name": "stderr",
     "output_type": "stream",
     "text": [
      " 47%|████▋     | 945/2000 [01:46<03:15,  5.40it/s]"
     ]
    },
    {
     "name": "stdout",
     "output_type": "stream",
     "text": [
      "Training_loss 0.20047,   Relative Error 0.17079\n",
      "Training_loss 0.19978,   Relative Error 0.17049\n"
     ]
    },
    {
     "name": "stderr",
     "output_type": "stream",
     "text": [
      " 47%|████▋     | 947/2000 [01:46<03:51,  4.54it/s]"
     ]
    },
    {
     "name": "stdout",
     "output_type": "stream",
     "text": [
      "Training_loss 0.19910,   Relative Error 0.17020\n",
      "Training_loss 0.19831,   Relative Error 0.16987\n"
     ]
    },
    {
     "name": "stderr",
     "output_type": "stream",
     "text": [
      " 47%|████▋     | 949/2000 [01:46<03:10,  5.51it/s]"
     ]
    },
    {
     "name": "stdout",
     "output_type": "stream",
     "text": [
      "Training_loss 0.19761,   Relative Error 0.16956\n",
      "Training_loss 0.19685,   Relative Error 0.16924\n"
     ]
    },
    {
     "name": "stderr",
     "output_type": "stream",
     "text": [
      " 48%|████▊     | 951/2000 [01:47<02:54,  6.00it/s]"
     ]
    },
    {
     "name": "stdout",
     "output_type": "stream",
     "text": [
      "Training_loss 0.19634,   Relative Error 0.16902\n",
      "Training_loss 0.19586,   Relative Error 0.16881\n"
     ]
    },
    {
     "name": "stderr",
     "output_type": "stream",
     "text": [
      "\r",
      " 48%|████▊     | 952/2000 [01:47<02:52,  6.06it/s]"
     ]
    },
    {
     "name": "stdout",
     "output_type": "stream",
     "text": [
      "Training_loss 0.19528,   Relative Error 0.16856\n",
      "Training_loss 0.19442,   Relative Error 0.16820\n"
     ]
    },
    {
     "name": "stderr",
     "output_type": "stream",
     "text": [
      "\r",
      " 48%|████▊     | 954/2000 [01:47<02:28,  7.06it/s]"
     ]
    },
    {
     "name": "stdout",
     "output_type": "stream",
     "text": [
      "Training_loss 0.19378,   Relative Error 0.16792\n"
     ]
    },
    {
     "name": "stderr",
     "output_type": "stream",
     "text": [
      " 48%|████▊     | 956/2000 [01:48<02:47,  6.21it/s]"
     ]
    },
    {
     "name": "stdout",
     "output_type": "stream",
     "text": [
      "Training_loss 0.19313,   Relative Error 0.16763\n",
      "Training_loss 0.19267,   Relative Error 0.16743\n"
     ]
    },
    {
     "name": "stderr",
     "output_type": "stream",
     "text": [
      "\r",
      " 48%|████▊     | 958/2000 [01:48<02:32,  6.84it/s]"
     ]
    },
    {
     "name": "stdout",
     "output_type": "stream",
     "text": [
      "Training_loss 0.19178,   Relative Error 0.16704\n",
      "Training_loss 0.19062,   Relative Error 0.16654\n"
     ]
    },
    {
     "name": "stderr",
     "output_type": "stream",
     "text": [
      " 48%|████▊     | 960/2000 [01:48<02:23,  7.24it/s]"
     ]
    },
    {
     "name": "stdout",
     "output_type": "stream",
     "text": [
      "Training_loss 0.18983,   Relative Error 0.16619\n",
      "Training_loss 0.18927,   Relative Error 0.16594\n"
     ]
    },
    {
     "name": "stderr",
     "output_type": "stream",
     "text": [
      "\r",
      " 48%|████▊     | 962/2000 [01:48<02:10,  7.97it/s]"
     ]
    },
    {
     "name": "stdout",
     "output_type": "stream",
     "text": [
      "Training_loss 0.18861,   Relative Error 0.16566\n",
      "Training_loss 0.18827,   Relative Error 0.16551\n"
     ]
    },
    {
     "name": "stderr",
     "output_type": "stream",
     "text": [
      " 48%|████▊     | 964/2000 [01:48<02:08,  8.09it/s]"
     ]
    },
    {
     "name": "stdout",
     "output_type": "stream",
     "text": [
      "Training_loss 0.18740,   Relative Error 0.16512\n",
      "Training_loss 0.18688,   Relative Error 0.16489\n",
      "Training_loss 0.18652,   Relative Error 0.16474\n"
     ]
    },
    {
     "name": "stderr",
     "output_type": "stream",
     "text": [
      " 48%|████▊     | 967/2000 [01:49<02:04,  8.29it/s]"
     ]
    },
    {
     "name": "stdout",
     "output_type": "stream",
     "text": [
      "Training_loss 0.18598,   Relative Error 0.16450\n",
      "Training_loss 0.18546,   Relative Error 0.16427\n"
     ]
    },
    {
     "name": "stderr",
     "output_type": "stream",
     "text": [
      "\r",
      " 48%|████▊     | 969/2000 [01:49<01:58,  8.73it/s]"
     ]
    },
    {
     "name": "stdout",
     "output_type": "stream",
     "text": [
      "Training_loss 0.18496,   Relative Error 0.16404\n",
      "Training_loss 0.18428,   Relative Error 0.16374\n"
     ]
    },
    {
     "name": "stderr",
     "output_type": "stream",
     "text": [
      " 49%|████▊     | 972/2000 [01:49<01:46,  9.70it/s]"
     ]
    },
    {
     "name": "stdout",
     "output_type": "stream",
     "text": [
      "Training_loss 0.18380,   Relative Error 0.16353\n",
      "Training_loss 0.18279,   Relative Error 0.16308\n",
      "Training_loss 0.18180,   Relative Error 0.16264\n"
     ]
    },
    {
     "name": "stderr",
     "output_type": "stream",
     "text": [
      "\r",
      " 49%|████▊     | 974/2000 [01:49<01:37, 10.48it/s]"
     ]
    },
    {
     "name": "stdout",
     "output_type": "stream",
     "text": [
      "Training_loss 0.18111,   Relative Error 0.16233\n",
      "Training_loss 0.18061,   Relative Error 0.16210\n",
      "Training_loss 0.18016,   Relative Error 0.16190\n"
     ]
    },
    {
     "name": "stderr",
     "output_type": "stream",
     "text": [
      " 49%|████▉     | 978/2000 [01:50<01:39, 10.31it/s]"
     ]
    },
    {
     "name": "stdout",
     "output_type": "stream",
     "text": [
      "Training_loss 0.17969,   Relative Error 0.16169\n",
      "Training_loss 0.17906,   Relative Error 0.16141\n",
      "Training_loss 0.17846,   Relative Error 0.16114\n"
     ]
    },
    {
     "name": "stderr",
     "output_type": "stream",
     "text": [
      "\r",
      " 49%|████▉     | 980/2000 [01:50<01:36, 10.55it/s]"
     ]
    },
    {
     "name": "stdout",
     "output_type": "stream",
     "text": [
      "Training_loss 0.17779,   Relative Error 0.16083\n",
      "Training_loss 0.17685,   Relative Error 0.16041\n",
      "Training_loss 0.17648,   Relative Error 0.16024\n"
     ]
    },
    {
     "name": "stderr",
     "output_type": "stream",
     "text": [
      " 49%|████▉     | 984/2000 [01:50<01:35, 10.65it/s]"
     ]
    },
    {
     "name": "stdout",
     "output_type": "stream",
     "text": [
      "Training_loss 0.17614,   Relative Error 0.16008\n",
      "Training_loss 0.17546,   Relative Error 0.15978\n",
      "Training_loss 0.17476,   Relative Error 0.15946\n"
     ]
    },
    {
     "name": "stderr",
     "output_type": "stream",
     "text": [
      "\r",
      " 49%|████▉     | 986/2000 [01:51<01:37, 10.39it/s]"
     ]
    },
    {
     "name": "stdout",
     "output_type": "stream",
     "text": [
      "Training_loss 0.17422,   Relative Error 0.15922\n",
      "Training_loss 0.17338,   Relative Error 0.15883\n"
     ]
    },
    {
     "name": "stderr",
     "output_type": "stream",
     "text": [
      "\r",
      " 49%|████▉     | 988/2000 [01:51<01:37, 10.43it/s]"
     ]
    },
    {
     "name": "stdout",
     "output_type": "stream",
     "text": [
      "Training_loss 0.17265,   Relative Error 0.15850\n",
      "Training_loss 0.17220,   Relative Error 0.15829\n",
      "Training_loss 0.17168,   Relative Error 0.15806\n"
     ]
    },
    {
     "name": "stderr",
     "output_type": "stream",
     "text": [
      " 50%|████▉     | 992/2000 [01:51<01:29, 11.27it/s]"
     ]
    },
    {
     "name": "stdout",
     "output_type": "stream",
     "text": [
      "Training_loss 0.17070,   Relative Error 0.15760\n",
      "Training_loss 0.17030,   Relative Error 0.15742\n",
      "Training_loss 0.16991,   Relative Error 0.15723\n"
     ]
    },
    {
     "name": "stderr",
     "output_type": "stream",
     "text": [
      "\r",
      " 50%|████▉     | 994/2000 [01:51<01:25, 11.76it/s]"
     ]
    },
    {
     "name": "stdout",
     "output_type": "stream",
     "text": [
      "Training_loss 0.16927,   Relative Error 0.15694\n",
      "Training_loss 0.16868,   Relative Error 0.15667\n",
      "Training_loss 0.16799,   Relative Error 0.15635\n"
     ]
    },
    {
     "name": "stderr",
     "output_type": "stream",
     "text": [
      " 50%|████▉     | 998/2000 [01:52<01:31, 10.90it/s]"
     ]
    },
    {
     "name": "stdout",
     "output_type": "stream",
     "text": [
      "Training_loss 0.16730,   Relative Error 0.15603\n",
      "Training_loss 0.16649,   Relative Error 0.15565\n",
      "Training_loss 0.16593,   Relative Error 0.15539\n"
     ]
    },
    {
     "name": "stderr",
     "output_type": "stream",
     "text": [
      "\r",
      " 50%|█████     | 1000/2000 [01:52<01:26, 11.62it/s]"
     ]
    },
    {
     "name": "stdout",
     "output_type": "stream",
     "text": [
      "Training_loss 0.16535,   Relative Error 0.15512\n",
      "Training_loss 0.16480,   Relative Error 0.15486\n",
      "Training_loss 0.16412,   Relative Error 0.15454\n"
     ]
    },
    {
     "name": "stderr",
     "output_type": "stream",
     "text": [
      " 50%|█████     | 1004/2000 [01:52<01:24, 11.81it/s]"
     ]
    },
    {
     "name": "stdout",
     "output_type": "stream",
     "text": [
      "Training_loss 0.16378,   Relative Error 0.15438\n",
      "Training_loss 0.16319,   Relative Error 0.15411\n",
      "Training_loss 0.16253,   Relative Error 0.15379\n"
     ]
    },
    {
     "name": "stderr",
     "output_type": "stream",
     "text": [
      "\r",
      " 50%|█████     | 1006/2000 [01:52<01:24, 11.82it/s]"
     ]
    },
    {
     "name": "stdout",
     "output_type": "stream",
     "text": [
      "Training_loss 0.16213,   Relative Error 0.15360\n",
      "Training_loss 0.16144,   Relative Error 0.15328\n",
      "Training_loss 0.16074,   Relative Error 0.15295\n"
     ]
    },
    {
     "name": "stderr",
     "output_type": "stream",
     "text": [
      " 50%|█████     | 1010/2000 [01:53<01:31, 10.87it/s]"
     ]
    },
    {
     "name": "stdout",
     "output_type": "stream",
     "text": [
      "Training_loss 0.16033,   Relative Error 0.15276\n",
      "Training_loss 0.15996,   Relative Error 0.15258\n",
      "Training_loss 0.15942,   Relative Error 0.15232\n"
     ]
    },
    {
     "name": "stderr",
     "output_type": "stream",
     "text": [
      "\r",
      " 51%|█████     | 1012/2000 [01:53<01:29, 11.09it/s]"
     ]
    },
    {
     "name": "stdout",
     "output_type": "stream",
     "text": [
      "Training_loss 0.15893,   Relative Error 0.15209\n",
      "Training_loss 0.15834,   Relative Error 0.15181\n"
     ]
    },
    {
     "name": "stderr",
     "output_type": "stream",
     "text": [
      "\r",
      " 51%|█████     | 1014/2000 [01:53<01:36, 10.17it/s]"
     ]
    },
    {
     "name": "stdout",
     "output_type": "stream",
     "text": [
      "Training_loss 0.15811,   Relative Error 0.15170\n",
      "Training_loss 0.15751,   Relative Error 0.15141\n",
      "Training_loss 0.15689,   Relative Error 0.15111\n"
     ]
    },
    {
     "name": "stderr",
     "output_type": "stream",
     "text": [
      " 51%|█████     | 1018/2000 [01:53<01:27, 11.19it/s]"
     ]
    },
    {
     "name": "stdout",
     "output_type": "stream",
     "text": [
      "Training_loss 0.15652,   Relative Error 0.15093\n",
      "Training_loss 0.15594,   Relative Error 0.15066\n",
      "Training_loss 0.15533,   Relative Error 0.15036\n"
     ]
    },
    {
     "name": "stderr",
     "output_type": "stream",
     "text": [
      "\r",
      " 51%|█████     | 1020/2000 [01:54<01:28, 11.08it/s]"
     ]
    },
    {
     "name": "stdout",
     "output_type": "stream",
     "text": [
      "Training_loss 0.15492,   Relative Error 0.15016\n",
      "Training_loss 0.15443,   Relative Error 0.14992\n",
      "Training_loss 0.15367,   Relative Error 0.14955\n"
     ]
    },
    {
     "name": "stderr",
     "output_type": "stream",
     "text": [
      " 51%|█████     | 1024/2000 [01:54<01:29, 10.92it/s]"
     ]
    },
    {
     "name": "stdout",
     "output_type": "stream",
     "text": [
      "Training_loss 0.15316,   Relative Error 0.14930\n",
      "Training_loss 0.15267,   Relative Error 0.14907\n",
      "Training_loss 0.15221,   Relative Error 0.14884\n"
     ]
    },
    {
     "name": "stderr",
     "output_type": "stream",
     "text": [
      "\r",
      " 51%|█████▏    | 1026/2000 [01:54<01:31, 10.61it/s]"
     ]
    },
    {
     "name": "stdout",
     "output_type": "stream",
     "text": [
      "Training_loss 0.15191,   Relative Error 0.14869\n",
      "Training_loss 0.15136,   Relative Error 0.14842\n",
      "Training_loss 0.15087,   Relative Error 0.14819\n"
     ]
    },
    {
     "name": "stderr",
     "output_type": "stream",
     "text": [
      "\r",
      " 51%|█████▏    | 1028/2000 [01:54<01:32, 10.48it/s]"
     ]
    },
    {
     "name": "stdout",
     "output_type": "stream",
     "text": [
      "Training_loss 0.15043,   Relative Error 0.14797\n",
      "Training_loss 0.14995,   Relative Error 0.14773\n"
     ]
    },
    {
     "name": "stderr",
     "output_type": "stream",
     "text": [
      " 52%|█████▏    | 1032/2000 [01:55<01:33, 10.38it/s]"
     ]
    },
    {
     "name": "stdout",
     "output_type": "stream",
     "text": [
      "Training_loss 0.14958,   Relative Error 0.14755\n",
      "Training_loss 0.14905,   Relative Error 0.14729\n",
      "Training_loss 0.14853,   Relative Error 0.14704\n"
     ]
    },
    {
     "name": "stderr",
     "output_type": "stream",
     "text": [
      "\r",
      " 52%|█████▏    | 1034/2000 [01:55<01:37,  9.86it/s]"
     ]
    },
    {
     "name": "stdout",
     "output_type": "stream",
     "text": [
      "Training_loss 0.14787,   Relative Error 0.14671\n",
      "Training_loss 0.14739,   Relative Error 0.14647\n"
     ]
    },
    {
     "name": "stderr",
     "output_type": "stream",
     "text": [
      "\r",
      " 52%|█████▏    | 1036/2000 [01:55<01:31, 10.49it/s]"
     ]
    },
    {
     "name": "stdout",
     "output_type": "stream",
     "text": [
      "Training_loss 0.14696,   Relative Error 0.14626\n",
      "Training_loss 0.14646,   Relative Error 0.14601\n",
      "Training_loss 0.14596,   Relative Error 0.14575\n"
     ]
    },
    {
     "name": "stderr",
     "output_type": "stream",
     "text": [
      " 52%|█████▏    | 1040/2000 [01:56<01:30, 10.63it/s]"
     ]
    },
    {
     "name": "stdout",
     "output_type": "stream",
     "text": [
      "Training_loss 0.14550,   Relative Error 0.14553\n",
      "Training_loss 0.14496,   Relative Error 0.14525\n",
      "Training_loss 0.14441,   Relative Error 0.14497\n"
     ]
    },
    {
     "name": "stderr",
     "output_type": "stream",
     "text": [
      "\r",
      " 52%|█████▏    | 1042/2000 [01:56<01:29, 10.68it/s]"
     ]
    },
    {
     "name": "stdout",
     "output_type": "stream",
     "text": [
      "Training_loss 0.14390,   Relative Error 0.14472\n",
      "Training_loss 0.14343,   Relative Error 0.14448\n",
      "Training_loss 0.14274,   Relative Error 0.14413\n"
     ]
    },
    {
     "name": "stderr",
     "output_type": "stream",
     "text": [
      " 52%|█████▏    | 1046/2000 [01:56<01:28, 10.79it/s]"
     ]
    },
    {
     "name": "stdout",
     "output_type": "stream",
     "text": [
      "Training_loss 0.14206,   Relative Error 0.14379\n",
      "Training_loss 0.14158,   Relative Error 0.14355\n",
      "Training_loss 0.14095,   Relative Error 0.14323\n"
     ]
    },
    {
     "name": "stderr",
     "output_type": "stream",
     "text": [
      "\r",
      " 52%|█████▏    | 1048/2000 [01:56<01:29, 10.64it/s]"
     ]
    },
    {
     "name": "stdout",
     "output_type": "stream",
     "text": [
      "Training_loss 0.14044,   Relative Error 0.14297\n",
      "Training_loss 0.14004,   Relative Error 0.14277\n"
     ]
    },
    {
     "name": "stderr",
     "output_type": "stream",
     "text": [
      "\r",
      " 52%|█████▎    | 1050/2000 [01:57<01:33, 10.19it/s]"
     ]
    },
    {
     "name": "stdout",
     "output_type": "stream",
     "text": [
      "Training_loss 0.13969,   Relative Error 0.14259\n",
      "Training_loss 0.13909,   Relative Error 0.14228\n",
      "Training_loss 0.13854,   Relative Error 0.14200\n"
     ]
    },
    {
     "name": "stderr",
     "output_type": "stream",
     "text": [
      " 53%|█████▎    | 1054/2000 [01:57<01:26, 10.94it/s]"
     ]
    },
    {
     "name": "stdout",
     "output_type": "stream",
     "text": [
      "Training_loss 0.13815,   Relative Error 0.14180\n",
      "Training_loss 0.13759,   Relative Error 0.14152\n",
      "Training_loss 0.13710,   Relative Error 0.14127\n"
     ]
    },
    {
     "name": "stderr",
     "output_type": "stream",
     "text": [
      "\r",
      " 53%|█████▎    | 1056/2000 [01:57<01:23, 11.29it/s]"
     ]
    },
    {
     "name": "stdout",
     "output_type": "stream",
     "text": [
      "Training_loss 0.13672,   Relative Error 0.14107\n",
      "Training_loss 0.13613,   Relative Error 0.14076\n",
      "Training_loss 0.13553,   Relative Error 0.14045\n"
     ]
    },
    {
     "name": "stderr",
     "output_type": "stream",
     "text": [
      " 53%|█████▎    | 1060/2000 [01:57<01:24, 11.07it/s]"
     ]
    },
    {
     "name": "stdout",
     "output_type": "stream",
     "text": [
      "Training_loss 0.13503,   Relative Error 0.14019\n",
      "Training_loss 0.13460,   Relative Error 0.13997\n",
      "Training_loss 0.13421,   Relative Error 0.13977\n"
     ]
    },
    {
     "name": "stderr",
     "output_type": "stream",
     "text": [
      "\r",
      " 53%|█████▎    | 1062/2000 [01:58<01:27, 10.72it/s]"
     ]
    },
    {
     "name": "stdout",
     "output_type": "stream",
     "text": [
      "Training_loss 0.13382,   Relative Error 0.13956\n",
      "Training_loss 0.13331,   Relative Error 0.13930\n"
     ]
    },
    {
     "name": "stderr",
     "output_type": "stream",
     "text": [
      "\r",
      " 53%|█████▎    | 1064/2000 [01:58<01:32, 10.16it/s]"
     ]
    },
    {
     "name": "stdout",
     "output_type": "stream",
     "text": [
      "Training_loss 0.13298,   Relative Error 0.13913\n",
      "Training_loss 0.13252,   Relative Error 0.13889\n",
      "Training_loss 0.13217,   Relative Error 0.13871\n"
     ]
    },
    {
     "name": "stderr",
     "output_type": "stream",
     "text": [
      "\r",
      " 53%|█████▎    | 1066/2000 [01:58<01:27, 10.65it/s]"
     ]
    },
    {
     "name": "stdout",
     "output_type": "stream",
     "text": [
      "Training_loss 0.13174,   Relative Error 0.13848\n",
      "Training_loss 0.13125,   Relative Error 0.13822\n"
     ]
    },
    {
     "name": "stderr",
     "output_type": "stream",
     "text": [
      "\r",
      " 53%|█████▎    | 1068/2000 [01:58<01:31, 10.17it/s]"
     ]
    },
    {
     "name": "stdout",
     "output_type": "stream",
     "text": [
      "Training_loss 0.13059,   Relative Error 0.13787\n",
      "Training_loss 0.13016,   Relative Error 0.13764\n"
     ]
    },
    {
     "name": "stderr",
     "output_type": "stream",
     "text": [
      " 54%|█████▎    | 1071/2000 [01:59<01:43,  8.98it/s]"
     ]
    },
    {
     "name": "stdout",
     "output_type": "stream",
     "text": [
      "Training_loss 0.12960,   Relative Error 0.13734\n",
      "Training_loss 0.12905,   Relative Error 0.13705\n"
     ]
    },
    {
     "name": "stderr",
     "output_type": "stream",
     "text": [
      " 54%|█████▎    | 1073/2000 [01:59<01:53,  8.16it/s]"
     ]
    },
    {
     "name": "stdout",
     "output_type": "stream",
     "text": [
      "Training_loss 0.12863,   Relative Error 0.13683\n",
      "Training_loss 0.12831,   Relative Error 0.13666\n"
     ]
    },
    {
     "name": "stderr",
     "output_type": "stream",
     "text": [
      "\r",
      " 54%|█████▍    | 1075/2000 [01:59<01:50,  8.35it/s]"
     ]
    },
    {
     "name": "stdout",
     "output_type": "stream",
     "text": [
      "Training_loss 0.12774,   Relative Error 0.13636\n",
      "Training_loss 0.12730,   Relative Error 0.13612\n"
     ]
    },
    {
     "name": "stderr",
     "output_type": "stream",
     "text": [
      "\r",
      " 54%|█████▍    | 1077/2000 [01:59<01:39,  9.29it/s]"
     ]
    },
    {
     "name": "stdout",
     "output_type": "stream",
     "text": [
      "Training_loss 0.12684,   Relative Error 0.13587\n",
      "Training_loss 0.12660,   Relative Error 0.13575\n",
      "Training_loss 0.12634,   Relative Error 0.13561\n"
     ]
    },
    {
     "name": "stderr",
     "output_type": "stream",
     "text": [
      " 54%|█████▍    | 1081/2000 [02:00<01:22, 11.17it/s]"
     ]
    },
    {
     "name": "stdout",
     "output_type": "stream",
     "text": [
      "Training_loss 0.12586,   Relative Error 0.13535\n",
      "Training_loss 0.12540,   Relative Error 0.13510\n",
      "Training_loss 0.12516,   Relative Error 0.13497\n"
     ]
    },
    {
     "name": "stderr",
     "output_type": "stream",
     "text": [
      "\r",
      " 54%|█████▍    | 1083/2000 [02:00<01:21, 11.25it/s]"
     ]
    },
    {
     "name": "stdout",
     "output_type": "stream",
     "text": [
      "Training_loss 0.12489,   Relative Error 0.13483\n",
      "Training_loss 0.12451,   Relative Error 0.13462\n",
      "Training_loss 0.12419,   Relative Error 0.13445\n"
     ]
    },
    {
     "name": "stderr",
     "output_type": "stream",
     "text": [
      " 54%|█████▍    | 1087/2000 [02:00<01:23, 10.89it/s]"
     ]
    },
    {
     "name": "stdout",
     "output_type": "stream",
     "text": [
      "Training_loss 0.12389,   Relative Error 0.13428\n",
      "Training_loss 0.12356,   Relative Error 0.13411\n",
      "Training_loss 0.12322,   Relative Error 0.13392\n"
     ]
    },
    {
     "name": "stderr",
     "output_type": "stream",
     "text": [
      "\r",
      " 54%|█████▍    | 1089/2000 [02:00<01:19, 11.45it/s]"
     ]
    },
    {
     "name": "stdout",
     "output_type": "stream",
     "text": [
      "Training_loss 0.12254,   Relative Error 0.13355\n",
      "Training_loss 0.12200,   Relative Error 0.13326\n",
      "Training_loss 0.12141,   Relative Error 0.13294\n"
     ]
    },
    {
     "name": "stderr",
     "output_type": "stream",
     "text": [
      "\r",
      " 55%|█████▍    | 1091/2000 [02:00<01:19, 11.45it/s]"
     ]
    },
    {
     "name": "stdout",
     "output_type": "stream",
     "text": [
      "Training_loss 0.12101,   Relative Error 0.13271\n",
      "Training_loss 0.12061,   Relative Error 0.13249\n"
     ]
    },
    {
     "name": "stderr",
     "output_type": "stream",
     "text": [
      " 55%|█████▍    | 1095/2000 [02:01<01:19, 11.34it/s]"
     ]
    },
    {
     "name": "stdout",
     "output_type": "stream",
     "text": [
      "Training_loss 0.12029,   Relative Error 0.13232\n",
      "Training_loss 0.11967,   Relative Error 0.13197\n",
      "Training_loss 0.11928,   Relative Error 0.13176\n"
     ]
    },
    {
     "name": "stderr",
     "output_type": "stream",
     "text": [
      "\r",
      " 55%|█████▍    | 1097/2000 [02:01<01:19, 11.32it/s]"
     ]
    },
    {
     "name": "stdout",
     "output_type": "stream",
     "text": [
      "Training_loss 0.11891,   Relative Error 0.13156\n",
      "Training_loss 0.11855,   Relative Error 0.13136\n",
      "Training_loss 0.11804,   Relative Error 0.13108\n"
     ]
    },
    {
     "name": "stderr",
     "output_type": "stream",
     "text": [
      " 55%|█████▌    | 1101/2000 [02:01<01:15, 11.96it/s]"
     ]
    },
    {
     "name": "stdout",
     "output_type": "stream",
     "text": [
      "Training_loss 0.11776,   Relative Error 0.13092\n",
      "Training_loss 0.11734,   Relative Error 0.13068\n",
      "Training_loss 0.11716,   Relative Error 0.13059\n"
     ]
    },
    {
     "name": "stderr",
     "output_type": "stream",
     "text": [
      "\r",
      " 55%|█████▌    | 1103/2000 [02:01<01:15, 11.90it/s]"
     ]
    },
    {
     "name": "stdout",
     "output_type": "stream",
     "text": [
      "Training_loss 0.11686,   Relative Error 0.13042\n",
      "Training_loss 0.11662,   Relative Error 0.13028\n"
     ]
    },
    {
     "name": "stderr",
     "output_type": "stream",
     "text": [
      "\r",
      " 55%|█████▌    | 1105/2000 [02:02<01:24, 10.55it/s]"
     ]
    },
    {
     "name": "stdout",
     "output_type": "stream",
     "text": [
      "Training_loss 0.11629,   Relative Error 0.13010\n",
      "Training_loss 0.11613,   Relative Error 0.13000\n"
     ]
    },
    {
     "name": "stderr",
     "output_type": "stream",
     "text": [
      "\r",
      " 55%|█████▌    | 1107/2000 [02:02<01:28, 10.11it/s]"
     ]
    },
    {
     "name": "stdout",
     "output_type": "stream",
     "text": [
      "Training_loss 0.11576,   Relative Error 0.12980\n",
      "Training_loss 0.11536,   Relative Error 0.12957\n",
      "Training_loss 0.11510,   Relative Error 0.12943\n"
     ]
    },
    {
     "name": "stderr",
     "output_type": "stream",
     "text": [
      " 56%|█████▌    | 1111/2000 [02:02<01:20, 11.01it/s]"
     ]
    },
    {
     "name": "stdout",
     "output_type": "stream",
     "text": [
      "Training_loss 0.11466,   Relative Error 0.12918\n",
      "Training_loss 0.11429,   Relative Error 0.12897\n",
      "Training_loss 0.11396,   Relative Error 0.12879\n"
     ]
    },
    {
     "name": "stderr",
     "output_type": "stream",
     "text": [
      "\r",
      " 56%|█████▌    | 1113/2000 [02:02<01:20, 10.99it/s]"
     ]
    },
    {
     "name": "stdout",
     "output_type": "stream",
     "text": [
      "Training_loss 0.11362,   Relative Error 0.12859\n",
      "Training_loss 0.11318,   Relative Error 0.12835\n",
      "Training_loss 0.11286,   Relative Error 0.12816\n"
     ]
    },
    {
     "name": "stderr",
     "output_type": "stream",
     "text": [
      " 56%|█████▌    | 1117/2000 [02:03<01:15, 11.71it/s]"
     ]
    },
    {
     "name": "stdout",
     "output_type": "stream",
     "text": [
      "Training_loss 0.11225,   Relative Error 0.12782\n",
      "Training_loss 0.11190,   Relative Error 0.12762\n",
      "Training_loss 0.11133,   Relative Error 0.12730\n"
     ]
    },
    {
     "name": "stderr",
     "output_type": "stream",
     "text": [
      "\r",
      " 56%|█████▌    | 1119/2000 [02:03<01:12, 12.16it/s]"
     ]
    },
    {
     "name": "stdout",
     "output_type": "stream",
     "text": [
      "Training_loss 0.11122,   Relative Error 0.12723\n",
      "Training_loss 0.11083,   Relative Error 0.12701\n",
      "Training_loss 0.11044,   Relative Error 0.12679\n"
     ]
    },
    {
     "name": "stderr",
     "output_type": "stream",
     "text": [
      " 56%|█████▌    | 1123/2000 [02:03<01:10, 12.52it/s]"
     ]
    },
    {
     "name": "stdout",
     "output_type": "stream",
     "text": [
      "Training_loss 0.10999,   Relative Error 0.12653\n",
      "Training_loss 0.10972,   Relative Error 0.12637\n",
      "Training_loss 0.10947,   Relative Error 0.12623\n"
     ]
    },
    {
     "name": "stderr",
     "output_type": "stream",
     "text": [
      "\r",
      " 56%|█████▋    | 1125/2000 [02:03<01:09, 12.53it/s]"
     ]
    },
    {
     "name": "stdout",
     "output_type": "stream",
     "text": [
      "Training_loss 0.10909,   Relative Error 0.12601\n",
      "Training_loss 0.10868,   Relative Error 0.12577\n",
      "Training_loss 0.10812,   Relative Error 0.12545\n"
     ]
    },
    {
     "name": "stderr",
     "output_type": "stream",
     "text": [
      " 56%|█████▋    | 1129/2000 [02:04<01:11, 12.19it/s]"
     ]
    },
    {
     "name": "stdout",
     "output_type": "stream",
     "text": [
      "Training_loss 0.10781,   Relative Error 0.12527\n",
      "Training_loss 0.10744,   Relative Error 0.12506\n",
      "Training_loss 0.10702,   Relative Error 0.12481\n"
     ]
    },
    {
     "name": "stderr",
     "output_type": "stream",
     "text": [
      "\r",
      " 57%|█████▋    | 1131/2000 [02:04<01:11, 12.21it/s]"
     ]
    },
    {
     "name": "stdout",
     "output_type": "stream",
     "text": [
      "Training_loss 0.10672,   Relative Error 0.12464\n",
      "Training_loss 0.10635,   Relative Error 0.12442\n",
      "Training_loss 0.10592,   Relative Error 0.12417\n"
     ]
    },
    {
     "name": "stderr",
     "output_type": "stream",
     "text": [
      " 57%|█████▋    | 1135/2000 [02:04<01:17, 11.18it/s]"
     ]
    },
    {
     "name": "stdout",
     "output_type": "stream",
     "text": [
      "Training_loss 0.10564,   Relative Error 0.12400\n",
      "Training_loss 0.10518,   Relative Error 0.12373\n",
      "Training_loss 0.10480,   Relative Error 0.12351\n"
     ]
    },
    {
     "name": "stderr",
     "output_type": "stream",
     "text": [
      "\r",
      " 57%|█████▋    | 1137/2000 [02:05<01:21, 10.54it/s]"
     ]
    },
    {
     "name": "stdout",
     "output_type": "stream",
     "text": [
      "Training_loss 0.10454,   Relative Error 0.12336\n",
      "Training_loss 0.10438,   Relative Error 0.12326\n",
      "Training_loss 0.10383,   Relative Error 0.12293\n"
     ]
    },
    {
     "name": "stderr",
     "output_type": "stream",
     "text": [
      " 57%|█████▋    | 1141/2000 [02:05<01:19, 10.83it/s]"
     ]
    },
    {
     "name": "stdout",
     "output_type": "stream",
     "text": [
      "Training_loss 0.10354,   Relative Error 0.12276\n",
      "Training_loss 0.10320,   Relative Error 0.12256\n",
      "Training_loss 0.10266,   Relative Error 0.12224\n"
     ]
    },
    {
     "name": "stderr",
     "output_type": "stream",
     "text": [
      "\r",
      " 57%|█████▋    | 1143/2000 [02:05<01:19, 10.81it/s]"
     ]
    },
    {
     "name": "stdout",
     "output_type": "stream",
     "text": [
      "Training_loss 0.10238,   Relative Error 0.12208\n",
      "Training_loss 0.10196,   Relative Error 0.12183\n",
      "Training_loss 0.10162,   Relative Error 0.12163\n"
     ]
    },
    {
     "name": "stderr",
     "output_type": "stream",
     "text": [
      " 57%|█████▋    | 1147/2000 [02:05<01:16, 11.20it/s]"
     ]
    },
    {
     "name": "stdout",
     "output_type": "stream",
     "text": [
      "Training_loss 0.10113,   Relative Error 0.12133\n",
      "Training_loss 0.10065,   Relative Error 0.12104\n",
      "Training_loss 0.10038,   Relative Error 0.12088\n"
     ]
    },
    {
     "name": "stderr",
     "output_type": "stream",
     "text": [
      "\r",
      " 57%|█████▋    | 1149/2000 [02:06<01:18, 10.85it/s]"
     ]
    },
    {
     "name": "stdout",
     "output_type": "stream",
     "text": [
      "Training_loss 0.09994,   Relative Error 0.12062\n",
      "Training_loss 0.09954,   Relative Error 0.12037\n",
      "Training_loss 0.09931,   Relative Error 0.12023\n"
     ]
    },
    {
     "name": "stderr",
     "output_type": "stream",
     "text": [
      " 58%|█████▊    | 1153/2000 [02:06<01:19, 10.60it/s]"
     ]
    },
    {
     "name": "stdout",
     "output_type": "stream",
     "text": [
      "Training_loss 0.09904,   Relative Error 0.12007\n",
      "Training_loss 0.09878,   Relative Error 0.11991\n",
      "Training_loss 0.09841,   Relative Error 0.11969\n"
     ]
    },
    {
     "name": "stderr",
     "output_type": "stream",
     "text": [
      "\r",
      " 58%|█████▊    | 1155/2000 [02:06<01:23, 10.12it/s]"
     ]
    },
    {
     "name": "stdout",
     "output_type": "stream",
     "text": [
      "Training_loss 0.09808,   Relative Error 0.11949\n",
      "Training_loss 0.09782,   Relative Error 0.11933\n"
     ]
    },
    {
     "name": "stderr",
     "output_type": "stream",
     "text": [
      "\r",
      " 58%|█████▊    | 1157/2000 [02:06<01:24,  9.97it/s]"
     ]
    },
    {
     "name": "stdout",
     "output_type": "stream",
     "text": [
      "Training_loss 0.09737,   Relative Error 0.11906\n",
      "Training_loss 0.09716,   Relative Error 0.11893\n",
      "Training_loss 0.09684,   Relative Error 0.11873\n"
     ]
    },
    {
     "name": "stderr",
     "output_type": "stream",
     "text": [
      " 58%|█████▊    | 1160/2000 [02:07<01:33,  9.00it/s]"
     ]
    },
    {
     "name": "stdout",
     "output_type": "stream",
     "text": [
      "Training_loss 0.09655,   Relative Error 0.11855\n",
      "Training_loss 0.09619,   Relative Error 0.11833\n"
     ]
    },
    {
     "name": "stderr",
     "output_type": "stream",
     "text": [
      " 58%|█████▊    | 1162/2000 [02:07<01:40,  8.38it/s]"
     ]
    },
    {
     "name": "stdout",
     "output_type": "stream",
     "text": [
      "Training_loss 0.09582,   Relative Error 0.11810\n",
      "Training_loss 0.09543,   Relative Error 0.11786\n"
     ]
    },
    {
     "name": "stderr",
     "output_type": "stream",
     "text": [
      " 58%|█████▊    | 1164/2000 [02:07<01:42,  8.18it/s]"
     ]
    },
    {
     "name": "stdout",
     "output_type": "stream",
     "text": [
      "Training_loss 0.09507,   Relative Error 0.11764\n",
      "Training_loss 0.09455,   Relative Error 0.11732\n"
     ]
    },
    {
     "name": "stderr",
     "output_type": "stream",
     "text": [
      "\r",
      " 58%|█████▊    | 1165/2000 [02:08<02:04,  6.73it/s]"
     ]
    },
    {
     "name": "stdout",
     "output_type": "stream",
     "text": [
      "Training_loss 0.09420,   Relative Error 0.11710\n"
     ]
    },
    {
     "name": "stderr",
     "output_type": "stream",
     "text": [
      " 58%|█████▊    | 1168/2000 [02:08<01:52,  7.41it/s]"
     ]
    },
    {
     "name": "stdout",
     "output_type": "stream",
     "text": [
      "Training_loss 0.09392,   Relative Error 0.11693\n",
      "Training_loss 0.09360,   Relative Error 0.11673\n",
      "Training_loss 0.09332,   Relative Error 0.11655\n"
     ]
    },
    {
     "name": "stderr",
     "output_type": "stream",
     "text": [
      " 58%|█████▊    | 1170/2000 [02:08<01:58,  6.99it/s]"
     ]
    },
    {
     "name": "stdout",
     "output_type": "stream",
     "text": [
      "Training_loss 0.09308,   Relative Error 0.11640\n",
      "Training_loss 0.09282,   Relative Error 0.11623\n"
     ]
    },
    {
     "name": "stderr",
     "output_type": "stream",
     "text": [
      " 59%|█████▊    | 1172/2000 [02:09<01:54,  7.22it/s]"
     ]
    },
    {
     "name": "stdout",
     "output_type": "stream",
     "text": [
      "Training_loss 0.09229,   Relative Error 0.11590\n",
      "Training_loss 0.09190,   Relative Error 0.11566\n"
     ]
    },
    {
     "name": "stderr",
     "output_type": "stream",
     "text": [
      " 59%|█████▊    | 1174/2000 [02:09<01:45,  7.83it/s]"
     ]
    },
    {
     "name": "stdout",
     "output_type": "stream",
     "text": [
      "Training_loss 0.09169,   Relative Error 0.11553\n",
      "Training_loss 0.09151,   Relative Error 0.11541\n"
     ]
    },
    {
     "name": "stderr",
     "output_type": "stream",
     "text": [
      "\r",
      " 59%|█████▉    | 1176/2000 [02:09<01:29,  9.17it/s]"
     ]
    },
    {
     "name": "stdout",
     "output_type": "stream",
     "text": [
      "Training_loss 0.09125,   Relative Error 0.11525\n",
      "Training_loss 0.09086,   Relative Error 0.11500\n"
     ]
    },
    {
     "name": "stderr",
     "output_type": "stream",
     "text": [
      " 59%|█████▉    | 1178/2000 [02:09<01:37,  8.42it/s]"
     ]
    },
    {
     "name": "stdout",
     "output_type": "stream",
     "text": [
      "Training_loss 0.09055,   Relative Error 0.11481\n",
      "Training_loss 0.09026,   Relative Error 0.11462\n"
     ]
    },
    {
     "name": "stderr",
     "output_type": "stream",
     "text": [
      "\r",
      " 59%|█████▉    | 1180/2000 [02:09<01:29,  9.20it/s]"
     ]
    },
    {
     "name": "stdout",
     "output_type": "stream",
     "text": [
      "Training_loss 0.08991,   Relative Error 0.11440\n",
      "Training_loss 0.08954,   Relative Error 0.11417\n"
     ]
    },
    {
     "name": "stderr",
     "output_type": "stream",
     "text": [
      " 59%|█████▉    | 1182/2000 [02:10<01:38,  8.33it/s]"
     ]
    },
    {
     "name": "stdout",
     "output_type": "stream",
     "text": [
      "Training_loss 0.08927,   Relative Error 0.11399\n",
      "Training_loss 0.08887,   Relative Error 0.11374\n"
     ]
    },
    {
     "name": "stderr",
     "output_type": "stream",
     "text": [
      " 59%|█████▉    | 1185/2000 [02:10<01:30,  9.04it/s]"
     ]
    },
    {
     "name": "stdout",
     "output_type": "stream",
     "text": [
      "Training_loss 0.08858,   Relative Error 0.11355\n",
      "Training_loss 0.08836,   Relative Error 0.11341\n",
      "Training_loss 0.08816,   Relative Error 0.11328\n"
     ]
    },
    {
     "name": "stderr",
     "output_type": "stream",
     "text": [
      "\r",
      " 59%|█████▉    | 1187/2000 [02:10<01:20, 10.14it/s]"
     ]
    },
    {
     "name": "stdout",
     "output_type": "stream",
     "text": [
      "Training_loss 0.08788,   Relative Error 0.11310\n",
      "Training_loss 0.08766,   Relative Error 0.11295\n",
      "Training_loss 0.08722,   Relative Error 0.11267\n"
     ]
    },
    {
     "name": "stderr",
     "output_type": "stream",
     "text": [
      " 60%|█████▉    | 1191/2000 [02:10<01:15, 10.74it/s]"
     ]
    },
    {
     "name": "stdout",
     "output_type": "stream",
     "text": [
      "Training_loss 0.08695,   Relative Error 0.11250\n",
      "Training_loss 0.08673,   Relative Error 0.11236\n",
      "Training_loss 0.08636,   Relative Error 0.11212\n"
     ]
    },
    {
     "name": "stderr",
     "output_type": "stream",
     "text": [
      "\r",
      " 60%|█████▉    | 1193/2000 [02:11<01:14, 10.81it/s]"
     ]
    },
    {
     "name": "stdout",
     "output_type": "stream",
     "text": [
      "Training_loss 0.08603,   Relative Error 0.11190\n",
      "Training_loss 0.08578,   Relative Error 0.11174\n",
      "Training_loss 0.08544,   Relative Error 0.11152\n"
     ]
    },
    {
     "name": "stderr",
     "output_type": "stream",
     "text": [
      " 60%|█████▉    | 1197/2000 [02:11<01:10, 11.40it/s]"
     ]
    },
    {
     "name": "stdout",
     "output_type": "stream",
     "text": [
      "Training_loss 0.08514,   Relative Error 0.11133\n",
      "Training_loss 0.08491,   Relative Error 0.11118\n",
      "Training_loss 0.08474,   Relative Error 0.11107\n"
     ]
    },
    {
     "name": "stderr",
     "output_type": "stream",
     "text": [
      "\r",
      " 60%|█████▉    | 1199/2000 [02:11<01:11, 11.24it/s]"
     ]
    },
    {
     "name": "stdout",
     "output_type": "stream",
     "text": [
      "Training_loss 0.08445,   Relative Error 0.11088\n",
      "Training_loss 0.08404,   Relative Error 0.11060\n",
      "Training_loss 0.08373,   Relative Error 0.11040\n"
     ]
    },
    {
     "name": "stderr",
     "output_type": "stream",
     "text": [
      " 60%|██████    | 1203/2000 [02:12<01:10, 11.38it/s]"
     ]
    },
    {
     "name": "stdout",
     "output_type": "stream",
     "text": [
      "Training_loss 0.08333,   Relative Error 0.11014\n",
      "Training_loss 0.08306,   Relative Error 0.10996\n",
      "Training_loss 0.08271,   Relative Error 0.10973\n"
     ]
    },
    {
     "name": "stderr",
     "output_type": "stream",
     "text": [
      "\r",
      " 60%|██████    | 1205/2000 [02:12<01:10, 11.29it/s]"
     ]
    },
    {
     "name": "stdout",
     "output_type": "stream",
     "text": [
      "Training_loss 0.08242,   Relative Error 0.10954\n",
      "Training_loss 0.08213,   Relative Error 0.10934\n",
      "Training_loss 0.08190,   Relative Error 0.10919\n"
     ]
    },
    {
     "name": "stderr",
     "output_type": "stream",
     "text": [
      " 60%|██████    | 1209/2000 [02:12<01:09, 11.41it/s]"
     ]
    },
    {
     "name": "stdout",
     "output_type": "stream",
     "text": [
      "Training_loss 0.08159,   Relative Error 0.10898\n",
      "Training_loss 0.08134,   Relative Error 0.10881\n",
      "Training_loss 0.08115,   Relative Error 0.10868\n"
     ]
    },
    {
     "name": "stderr",
     "output_type": "stream",
     "text": [
      "\r",
      " 61%|██████    | 1211/2000 [02:12<01:09, 11.35it/s]"
     ]
    },
    {
     "name": "stdout",
     "output_type": "stream",
     "text": [
      "Training_loss 0.08085,   Relative Error 0.10848\n",
      "Training_loss 0.08052,   Relative Error 0.10826\n",
      "Training_loss 0.08014,   Relative Error 0.10801\n"
     ]
    },
    {
     "name": "stderr",
     "output_type": "stream",
     "text": [
      " 61%|██████    | 1215/2000 [02:13<01:10, 11.14it/s]"
     ]
    },
    {
     "name": "stdout",
     "output_type": "stream",
     "text": [
      "Training_loss 0.07970,   Relative Error 0.10771\n",
      "Training_loss 0.07947,   Relative Error 0.10755\n",
      "Training_loss 0.07933,   Relative Error 0.10746\n"
     ]
    },
    {
     "name": "stderr",
     "output_type": "stream",
     "text": [
      "\r",
      " 61%|██████    | 1217/2000 [02:13<01:10, 11.10it/s]"
     ]
    },
    {
     "name": "stdout",
     "output_type": "stream",
     "text": [
      "Training_loss 0.07905,   Relative Error 0.10727\n",
      "Training_loss 0.07869,   Relative Error 0.10702\n",
      "Training_loss 0.07836,   Relative Error 0.10680\n"
     ]
    },
    {
     "name": "stderr",
     "output_type": "stream",
     "text": [
      "\r",
      " 61%|██████    | 1219/2000 [02:13<01:10, 11.11it/s]"
     ]
    },
    {
     "name": "stdout",
     "output_type": "stream",
     "text": [
      "Training_loss 0.07825,   Relative Error 0.10672\n",
      "Training_loss 0.07796,   Relative Error 0.10653\n"
     ]
    },
    {
     "name": "stderr",
     "output_type": "stream",
     "text": [
      " 61%|██████    | 1222/2000 [02:13<01:35,  8.16it/s]"
     ]
    },
    {
     "name": "stdout",
     "output_type": "stream",
     "text": [
      "Training_loss 0.07771,   Relative Error 0.10635\n",
      "Training_loss 0.07745,   Relative Error 0.10618\n"
     ]
    },
    {
     "name": "stderr",
     "output_type": "stream",
     "text": [
      " 61%|██████▏   | 1225/2000 [02:14<01:28,  8.81it/s]"
     ]
    },
    {
     "name": "stdout",
     "output_type": "stream",
     "text": [
      "Training_loss 0.07718,   Relative Error 0.10599\n",
      "Training_loss 0.07699,   Relative Error 0.10586\n",
      "Training_loss 0.07669,   Relative Error 0.10565\n"
     ]
    },
    {
     "name": "stderr",
     "output_type": "stream",
     "text": [
      "\r",
      " 61%|██████▏   | 1227/2000 [02:14<01:19,  9.76it/s]"
     ]
    },
    {
     "name": "stdout",
     "output_type": "stream",
     "text": [
      "Training_loss 0.07639,   Relative Error 0.10545\n",
      "Training_loss 0.07607,   Relative Error 0.10523\n",
      "Training_loss 0.07574,   Relative Error 0.10500\n"
     ]
    },
    {
     "name": "stderr",
     "output_type": "stream",
     "text": [
      " 62%|██████▏   | 1231/2000 [02:14<01:07, 11.42it/s]"
     ]
    },
    {
     "name": "stdout",
     "output_type": "stream",
     "text": [
      "Training_loss 0.07549,   Relative Error 0.10482\n",
      "Training_loss 0.07514,   Relative Error 0.10458\n",
      "Training_loss 0.07483,   Relative Error 0.10437\n"
     ]
    },
    {
     "name": "stderr",
     "output_type": "stream",
     "text": [
      "\r",
      " 62%|██████▏   | 1233/2000 [02:14<01:05, 11.64it/s]"
     ]
    },
    {
     "name": "stdout",
     "output_type": "stream",
     "text": [
      "Training_loss 0.07455,   Relative Error 0.10418\n",
      "Training_loss 0.07429,   Relative Error 0.10399\n",
      "Training_loss 0.07406,   Relative Error 0.10383\n"
     ]
    },
    {
     "name": "stderr",
     "output_type": "stream",
     "text": [
      " 62%|██████▏   | 1237/2000 [02:15<01:10, 10.76it/s]"
     ]
    },
    {
     "name": "stdout",
     "output_type": "stream",
     "text": [
      "Training_loss 0.07375,   Relative Error 0.10362\n",
      "Training_loss 0.07358,   Relative Error 0.10350\n",
      "Training_loss 0.07333,   Relative Error 0.10332\n"
     ]
    },
    {
     "name": "stderr",
     "output_type": "stream",
     "text": [
      "\r",
      " 62%|██████▏   | 1239/2000 [02:15<01:09, 10.93it/s]"
     ]
    },
    {
     "name": "stdout",
     "output_type": "stream",
     "text": [
      "Training_loss 0.07313,   Relative Error 0.10318\n",
      "Training_loss 0.07291,   Relative Error 0.10303\n",
      "Training_loss 0.07266,   Relative Error 0.10285\n"
     ]
    },
    {
     "name": "stderr",
     "output_type": "stream",
     "text": [
      " 62%|██████▏   | 1243/2000 [02:15<01:04, 11.82it/s]"
     ]
    },
    {
     "name": "stdout",
     "output_type": "stream",
     "text": [
      "Training_loss 0.07237,   Relative Error 0.10264\n",
      "Training_loss 0.07200,   Relative Error 0.10238\n",
      "Training_loss 0.07178,   Relative Error 0.10222\n"
     ]
    },
    {
     "name": "stderr",
     "output_type": "stream",
     "text": [
      "\r",
      " 62%|██████▏   | 1245/2000 [02:15<01:05, 11.47it/s]"
     ]
    },
    {
     "name": "stdout",
     "output_type": "stream",
     "text": [
      "Training_loss 0.07162,   Relative Error 0.10211\n",
      "Training_loss 0.07143,   Relative Error 0.10197\n"
     ]
    },
    {
     "name": "stderr",
     "output_type": "stream",
     "text": [
      "\r",
      " 62%|██████▏   | 1247/2000 [02:16<01:11, 10.59it/s]"
     ]
    },
    {
     "name": "stdout",
     "output_type": "stream",
     "text": [
      "Training_loss 0.07122,   Relative Error 0.10182\n",
      "Training_loss 0.07091,   Relative Error 0.10160\n",
      "Training_loss 0.07061,   Relative Error 0.10139\n"
     ]
    },
    {
     "name": "stderr",
     "output_type": "stream",
     "text": [
      " 63%|██████▎   | 1251/2000 [02:16<01:08, 10.97it/s]"
     ]
    },
    {
     "name": "stdout",
     "output_type": "stream",
     "text": [
      "Training_loss 0.07044,   Relative Error 0.10126\n",
      "Training_loss 0.07028,   Relative Error 0.10115\n",
      "Training_loss 0.07006,   Relative Error 0.10099\n"
     ]
    },
    {
     "name": "stderr",
     "output_type": "stream",
     "text": [
      "\r",
      " 63%|██████▎   | 1253/2000 [02:16<01:04, 11.62it/s]"
     ]
    },
    {
     "name": "stdout",
     "output_type": "stream",
     "text": [
      "Training_loss 0.06989,   Relative Error 0.10087\n",
      "Training_loss 0.06971,   Relative Error 0.10074\n",
      "Training_loss 0.06943,   Relative Error 0.10054\n"
     ]
    },
    {
     "name": "stderr",
     "output_type": "stream",
     "text": [
      " 63%|██████▎   | 1257/2000 [02:16<00:56, 13.11it/s]"
     ]
    },
    {
     "name": "stdout",
     "output_type": "stream",
     "text": [
      "Training_loss 0.06926,   Relative Error 0.10041\n",
      "Training_loss 0.06903,   Relative Error 0.10025\n",
      "Training_loss 0.06891,   Relative Error 0.10016\n",
      "Training_loss 0.06863,   Relative Error 0.09996\n"
     ]
    },
    {
     "name": "stderr",
     "output_type": "stream",
     "text": [
      " 63%|██████▎   | 1261/2000 [02:17<00:55, 13.29it/s]"
     ]
    },
    {
     "name": "stdout",
     "output_type": "stream",
     "text": [
      "Training_loss 0.06833,   Relative Error 0.09974\n",
      "Training_loss 0.06810,   Relative Error 0.09957\n",
      "Training_loss 0.06785,   Relative Error 0.09939\n"
     ]
    },
    {
     "name": "stderr",
     "output_type": "stream",
     "text": [
      "\r",
      " 63%|██████▎   | 1263/2000 [02:17<01:04, 11.39it/s]"
     ]
    },
    {
     "name": "stdout",
     "output_type": "stream",
     "text": [
      "Training_loss 0.06764,   Relative Error 0.09924\n",
      "Training_loss 0.06722,   Relative Error 0.09893\n",
      "Training_loss 0.06696,   Relative Error 0.09874\n"
     ]
    },
    {
     "name": "stderr",
     "output_type": "stream",
     "text": [
      " 63%|██████▎   | 1267/2000 [02:17<00:59, 12.33it/s]"
     ]
    },
    {
     "name": "stdout",
     "output_type": "stream",
     "text": [
      "Training_loss 0.06678,   Relative Error 0.09861\n",
      "Training_loss 0.06664,   Relative Error 0.09850\n",
      "Training_loss 0.06643,   Relative Error 0.09835\n"
     ]
    },
    {
     "name": "stderr",
     "output_type": "stream",
     "text": [
      "\r",
      " 63%|██████▎   | 1269/2000 [02:17<00:57, 12.82it/s]"
     ]
    },
    {
     "name": "stdout",
     "output_type": "stream",
     "text": [
      "Training_loss 0.06620,   Relative Error 0.09818\n",
      "Training_loss 0.06607,   Relative Error 0.09808\n",
      "Training_loss 0.06577,   Relative Error 0.09786\n"
     ]
    },
    {
     "name": "stderr",
     "output_type": "stream",
     "text": [
      " 64%|██████▎   | 1273/2000 [02:18<01:01, 11.89it/s]"
     ]
    },
    {
     "name": "stdout",
     "output_type": "stream",
     "text": [
      "Training_loss 0.06555,   Relative Error 0.09770\n",
      "Training_loss 0.06531,   Relative Error 0.09751\n",
      "Training_loss 0.06505,   Relative Error 0.09732\n"
     ]
    },
    {
     "name": "stderr",
     "output_type": "stream",
     "text": [
      "\r",
      " 64%|██████▍   | 1275/2000 [02:18<01:00, 11.94it/s]"
     ]
    },
    {
     "name": "stdout",
     "output_type": "stream",
     "text": [
      "Training_loss 0.06484,   Relative Error 0.09716\n",
      "Training_loss 0.06457,   Relative Error 0.09696\n",
      "Training_loss 0.06442,   Relative Error 0.09684\n"
     ]
    },
    {
     "name": "stderr",
     "output_type": "stream",
     "text": [
      " 64%|██████▍   | 1279/2000 [02:18<00:58, 12.40it/s]"
     ]
    },
    {
     "name": "stdout",
     "output_type": "stream",
     "text": [
      "Training_loss 0.06417,   Relative Error 0.09666\n",
      "Training_loss 0.06401,   Relative Error 0.09654\n",
      "Training_loss 0.06379,   Relative Error 0.09638\n"
     ]
    },
    {
     "name": "stderr",
     "output_type": "stream",
     "text": [
      "\r",
      " 64%|██████▍   | 1281/2000 [02:18<01:01, 11.75it/s]"
     ]
    },
    {
     "name": "stdout",
     "output_type": "stream",
     "text": [
      "Training_loss 0.06367,   Relative Error 0.09629\n",
      "Training_loss 0.06345,   Relative Error 0.09612\n",
      "Training_loss 0.06313,   Relative Error 0.09588\n"
     ]
    },
    {
     "name": "stderr",
     "output_type": "stream",
     "text": [
      " 64%|██████▍   | 1285/2000 [02:19<00:58, 12.25it/s]"
     ]
    },
    {
     "name": "stdout",
     "output_type": "stream",
     "text": [
      "Training_loss 0.06298,   Relative Error 0.09576\n",
      "Training_loss 0.06280,   Relative Error 0.09563\n",
      "Training_loss 0.06259,   Relative Error 0.09547\n"
     ]
    },
    {
     "name": "stderr",
     "output_type": "stream",
     "text": [
      "\r",
      " 64%|██████▍   | 1287/2000 [02:19<00:58, 12.22it/s]"
     ]
    },
    {
     "name": "stdout",
     "output_type": "stream",
     "text": [
      "Training_loss 0.06240,   Relative Error 0.09532\n",
      "Training_loss 0.06221,   Relative Error 0.09517\n",
      "Training_loss 0.06207,   Relative Error 0.09507\n"
     ]
    },
    {
     "name": "stderr",
     "output_type": "stream",
     "text": [
      " 65%|██████▍   | 1291/2000 [02:19<00:56, 12.58it/s]"
     ]
    },
    {
     "name": "stdout",
     "output_type": "stream",
     "text": [
      "Training_loss 0.06192,   Relative Error 0.09496\n",
      "Training_loss 0.06177,   Relative Error 0.09484\n",
      "Training_loss 0.06153,   Relative Error 0.09466\n",
      "Training_loss 0.06133,   Relative Error 0.09450\n"
     ]
    },
    {
     "name": "stderr",
     "output_type": "stream",
     "text": [
      " 65%|██████▍   | 1295/2000 [02:20<00:59, 11.81it/s]"
     ]
    },
    {
     "name": "stdout",
     "output_type": "stream",
     "text": [
      "Training_loss 0.06120,   Relative Error 0.09440\n",
      "Training_loss 0.06097,   Relative Error 0.09423\n",
      "Training_loss 0.06076,   Relative Error 0.09406\n"
     ]
    },
    {
     "name": "stderr",
     "output_type": "stream",
     "text": [
      "\r",
      " 65%|██████▍   | 1297/2000 [02:20<01:05, 10.75it/s]"
     ]
    },
    {
     "name": "stdout",
     "output_type": "stream",
     "text": [
      "Training_loss 0.06050,   Relative Error 0.09386\n",
      "Training_loss 0.06032,   Relative Error 0.09372\n",
      "Training_loss 0.06016,   Relative Error 0.09359\n"
     ]
    },
    {
     "name": "stderr",
     "output_type": "stream",
     "text": [
      " 65%|██████▌   | 1301/2000 [02:20<01:00, 11.49it/s]"
     ]
    },
    {
     "name": "stdout",
     "output_type": "stream",
     "text": [
      "Training_loss 0.05994,   Relative Error 0.09343\n",
      "Training_loss 0.05974,   Relative Error 0.09327\n",
      "Training_loss 0.05960,   Relative Error 0.09316\n"
     ]
    },
    {
     "name": "stderr",
     "output_type": "stream",
     "text": [
      "\r",
      " 65%|██████▌   | 1303/2000 [02:20<01:10,  9.87it/s]"
     ]
    },
    {
     "name": "stdout",
     "output_type": "stream",
     "text": [
      "Training_loss 0.05938,   Relative Error 0.09298\n",
      "Training_loss 0.05915,   Relative Error 0.09281\n"
     ]
    },
    {
     "name": "stderr",
     "output_type": "stream",
     "text": [
      "\r",
      " 65%|██████▌   | 1305/2000 [02:21<01:10,  9.90it/s]"
     ]
    },
    {
     "name": "stdout",
     "output_type": "stream",
     "text": [
      "Training_loss 0.05897,   Relative Error 0.09267\n",
      "Training_loss 0.05875,   Relative Error 0.09249\n",
      "Training_loss 0.05856,   Relative Error 0.09234\n"
     ]
    },
    {
     "name": "stderr",
     "output_type": "stream",
     "text": [
      " 65%|██████▌   | 1309/2000 [02:21<01:00, 11.35it/s]"
     ]
    },
    {
     "name": "stdout",
     "output_type": "stream",
     "text": [
      "Training_loss 0.05838,   Relative Error 0.09220\n",
      "Training_loss 0.05817,   Relative Error 0.09203\n",
      "Training_loss 0.05802,   Relative Error 0.09191\n"
     ]
    },
    {
     "name": "stderr",
     "output_type": "stream",
     "text": [
      "\r",
      " 66%|██████▌   | 1311/2000 [02:21<00:59, 11.48it/s]"
     ]
    },
    {
     "name": "stdout",
     "output_type": "stream",
     "text": [
      "Training_loss 0.05777,   Relative Error 0.09171\n",
      "Training_loss 0.05762,   Relative Error 0.09159\n",
      "Training_loss 0.05744,   Relative Error 0.09146\n"
     ]
    },
    {
     "name": "stderr",
     "output_type": "stream",
     "text": [
      " 66%|██████▌   | 1315/2000 [02:21<00:56, 12.14it/s]"
     ]
    },
    {
     "name": "stdout",
     "output_type": "stream",
     "text": [
      "Training_loss 0.05732,   Relative Error 0.09136\n",
      "Training_loss 0.05711,   Relative Error 0.09119\n",
      "Training_loss 0.05692,   Relative Error 0.09104\n"
     ]
    },
    {
     "name": "stderr",
     "output_type": "stream",
     "text": [
      "\r",
      " 66%|██████▌   | 1317/2000 [02:22<00:55, 12.32it/s]"
     ]
    },
    {
     "name": "stdout",
     "output_type": "stream",
     "text": [
      "Training_loss 0.05682,   Relative Error 0.09097\n",
      "Training_loss 0.05664,   Relative Error 0.09082\n",
      "Training_loss 0.05644,   Relative Error 0.09066\n"
     ]
    },
    {
     "name": "stderr",
     "output_type": "stream",
     "text": [
      " 66%|██████▌   | 1321/2000 [02:22<00:57, 11.84it/s]"
     ]
    },
    {
     "name": "stdout",
     "output_type": "stream",
     "text": [
      "Training_loss 0.05627,   Relative Error 0.09052\n",
      "Training_loss 0.05606,   Relative Error 0.09035\n",
      "Training_loss 0.05590,   Relative Error 0.09023\n"
     ]
    },
    {
     "name": "stderr",
     "output_type": "stream",
     "text": [
      "\r",
      " 66%|██████▌   | 1323/2000 [02:22<00:58, 11.49it/s]"
     ]
    },
    {
     "name": "stdout",
     "output_type": "stream",
     "text": [
      "Training_loss 0.05576,   Relative Error 0.09011\n",
      "Training_loss 0.05559,   Relative Error 0.08998\n",
      "Training_loss 0.05535,   Relative Error 0.08978\n"
     ]
    },
    {
     "name": "stderr",
     "output_type": "stream",
     "text": [
      "\r",
      " 66%|██████▋   | 1325/2000 [02:22<00:55, 12.16it/s]"
     ]
    },
    {
     "name": "stdout",
     "output_type": "stream",
     "text": [
      "Training_loss 0.05516,   Relative Error 0.08962\n",
      "Training_loss 0.05494,   Relative Error 0.08945\n"
     ]
    },
    {
     "name": "stderr",
     "output_type": "stream",
     "text": [
      " 66%|██████▋   | 1329/2000 [02:23<00:56, 11.91it/s]"
     ]
    },
    {
     "name": "stdout",
     "output_type": "stream",
     "text": [
      "Training_loss 0.05475,   Relative Error 0.08929\n",
      "Training_loss 0.05458,   Relative Error 0.08915\n",
      "Training_loss 0.05440,   Relative Error 0.08901\n"
     ]
    },
    {
     "name": "stderr",
     "output_type": "stream",
     "text": [
      "\r",
      " 67%|██████▋   | 1331/2000 [02:23<00:59, 11.22it/s]"
     ]
    },
    {
     "name": "stdout",
     "output_type": "stream",
     "text": [
      "Training_loss 0.05425,   Relative Error 0.08889\n",
      "Training_loss 0.05401,   Relative Error 0.08869\n"
     ]
    },
    {
     "name": "stderr",
     "output_type": "stream",
     "text": [
      "\r",
      " 67%|██████▋   | 1333/2000 [02:23<01:09,  9.58it/s]"
     ]
    },
    {
     "name": "stdout",
     "output_type": "stream",
     "text": [
      "Training_loss 0.05378,   Relative Error 0.08850\n",
      "Training_loss 0.05350,   Relative Error 0.08828\n",
      "Training_loss 0.05332,   Relative Error 0.08812\n"
     ]
    },
    {
     "name": "stderr",
     "output_type": "stream",
     "text": [
      "\r",
      " 67%|██████▋   | 1335/2000 [02:23<01:10,  9.45it/s]"
     ]
    },
    {
     "name": "stdout",
     "output_type": "stream",
     "text": [
      "Training_loss 0.05315,   Relative Error 0.08798\n",
      "Training_loss 0.05302,   Relative Error 0.08787\n"
     ]
    },
    {
     "name": "stderr",
     "output_type": "stream",
     "text": [
      "\r",
      " 67%|██████▋   | 1337/2000 [02:24<01:11,  9.30it/s]"
     ]
    },
    {
     "name": "stdout",
     "output_type": "stream",
     "text": [
      "Training_loss 0.05289,   Relative Error 0.08777\n"
     ]
    },
    {
     "name": "stderr",
     "output_type": "stream",
     "text": [
      " 67%|██████▋   | 1339/2000 [02:24<01:26,  7.66it/s]"
     ]
    },
    {
     "name": "stdout",
     "output_type": "stream",
     "text": [
      "Training_loss 0.05274,   Relative Error 0.08764\n",
      "Training_loss 0.05255,   Relative Error 0.08748\n"
     ]
    },
    {
     "name": "stderr",
     "output_type": "stream",
     "text": [
      " 67%|██████▋   | 1341/2000 [02:24<01:41,  6.48it/s]"
     ]
    },
    {
     "name": "stdout",
     "output_type": "stream",
     "text": [
      "Training_loss 0.05228,   Relative Error 0.08725\n",
      "Training_loss 0.05212,   Relative Error 0.08712\n"
     ]
    },
    {
     "name": "stderr",
     "output_type": "stream",
     "text": [
      " 67%|██████▋   | 1343/2000 [02:25<01:52,  5.84it/s]"
     ]
    },
    {
     "name": "stdout",
     "output_type": "stream",
     "text": [
      "Training_loss 0.05189,   Relative Error 0.08693\n",
      "Training_loss 0.05161,   Relative Error 0.08670\n"
     ]
    },
    {
     "name": "stderr",
     "output_type": "stream",
     "text": [
      " 67%|██████▋   | 1346/2000 [02:25<01:29,  7.34it/s]"
     ]
    },
    {
     "name": "stdout",
     "output_type": "stream",
     "text": [
      "Training_loss 0.05151,   Relative Error 0.08661\n",
      "Training_loss 0.05140,   Relative Error 0.08652\n",
      "Training_loss 0.05127,   Relative Error 0.08642\n"
     ]
    },
    {
     "name": "stderr",
     "output_type": "stream",
     "text": [
      "\r",
      " 67%|██████▋   | 1348/2000 [02:25<01:15,  8.66it/s]"
     ]
    },
    {
     "name": "stdout",
     "output_type": "stream",
     "text": [
      "Training_loss 0.05105,   Relative Error 0.08623\n",
      "Training_loss 0.05093,   Relative Error 0.08612\n",
      "Training_loss 0.05076,   Relative Error 0.08598\n"
     ]
    },
    {
     "name": "stderr",
     "output_type": "stream",
     "text": [
      " 68%|██████▊   | 1352/2000 [02:26<01:04, 10.08it/s]"
     ]
    },
    {
     "name": "stdout",
     "output_type": "stream",
     "text": [
      "Training_loss 0.05053,   Relative Error 0.08578\n",
      "Training_loss 0.05039,   Relative Error 0.08566\n",
      "Training_loss 0.05029,   Relative Error 0.08558\n"
     ]
    },
    {
     "name": "stderr",
     "output_type": "stream",
     "text": [
      "\r",
      " 68%|██████▊   | 1354/2000 [02:26<01:02, 10.37it/s]"
     ]
    },
    {
     "name": "stdout",
     "output_type": "stream",
     "text": [
      "Training_loss 0.05009,   Relative Error 0.08541\n",
      "Training_loss 0.04990,   Relative Error 0.08525\n"
     ]
    },
    {
     "name": "stderr",
     "output_type": "stream",
     "text": [
      "\r",
      " 68%|██████▊   | 1356/2000 [02:26<01:01, 10.42it/s]"
     ]
    },
    {
     "name": "stdout",
     "output_type": "stream",
     "text": [
      "Training_loss 0.04981,   Relative Error 0.08517\n",
      "Training_loss 0.04972,   Relative Error 0.08509\n",
      "Training_loss 0.04965,   Relative Error 0.08503\n"
     ]
    },
    {
     "name": "stderr",
     "output_type": "stream",
     "text": [
      " 68%|██████▊   | 1360/2000 [02:26<01:00, 10.55it/s]"
     ]
    },
    {
     "name": "stdout",
     "output_type": "stream",
     "text": [
      "Training_loss 0.04951,   Relative Error 0.08491\n",
      "Training_loss 0.04930,   Relative Error 0.08473\n",
      "Training_loss 0.04919,   Relative Error 0.08464\n"
     ]
    },
    {
     "name": "stderr",
     "output_type": "stream",
     "text": [
      "\r",
      " 68%|██████▊   | 1362/2000 [02:26<00:56, 11.36it/s]"
     ]
    },
    {
     "name": "stdout",
     "output_type": "stream",
     "text": [
      "Training_loss 0.04900,   Relative Error 0.08448\n",
      "Training_loss 0.04878,   Relative Error 0.08429\n",
      "Training_loss 0.04857,   Relative Error 0.08410\n"
     ]
    },
    {
     "name": "stderr",
     "output_type": "stream",
     "text": [
      "\r",
      " 68%|██████▊   | 1364/2000 [02:27<00:56, 11.29it/s]"
     ]
    },
    {
     "name": "stdout",
     "output_type": "stream",
     "text": [
      "Training_loss 0.04847,   Relative Error 0.08402\n"
     ]
    },
    {
     "name": "stderr",
     "output_type": "stream",
     "text": [
      "\r",
      " 68%|██████▊   | 1366/2000 [02:27<01:11,  8.83it/s]"
     ]
    },
    {
     "name": "stdout",
     "output_type": "stream",
     "text": [
      "Training_loss 0.04826,   Relative Error 0.08384\n",
      "Training_loss 0.04813,   Relative Error 0.08373\n"
     ]
    },
    {
     "name": "stderr",
     "output_type": "stream",
     "text": [
      " 68%|██████▊   | 1368/2000 [02:27<01:19,  7.98it/s]"
     ]
    },
    {
     "name": "stdout",
     "output_type": "stream",
     "text": [
      "Training_loss 0.04799,   Relative Error 0.08361\n",
      "Training_loss 0.04783,   Relative Error 0.08347\n"
     ]
    },
    {
     "name": "stderr",
     "output_type": "stream",
     "text": [
      "\r",
      " 68%|██████▊   | 1370/2000 [02:27<01:14,  8.45it/s]"
     ]
    },
    {
     "name": "stdout",
     "output_type": "stream",
     "text": [
      "Training_loss 0.04764,   Relative Error 0.08330\n",
      "Training_loss 0.04753,   Relative Error 0.08320\n"
     ]
    },
    {
     "name": "stderr",
     "output_type": "stream",
     "text": [
      " 69%|██████▊   | 1373/2000 [02:28<01:14,  8.42it/s]"
     ]
    },
    {
     "name": "stdout",
     "output_type": "stream",
     "text": [
      "Training_loss 0.04740,   Relative Error 0.08309\n",
      "Training_loss 0.04723,   Relative Error 0.08294\n",
      "Training_loss 0.04708,   Relative Error 0.08281\n"
     ]
    },
    {
     "name": "stderr",
     "output_type": "stream",
     "text": [
      " 69%|██████▉   | 1375/2000 [02:28<01:24,  7.40it/s]"
     ]
    },
    {
     "name": "stdout",
     "output_type": "stream",
     "text": [
      "Training_loss 0.04691,   Relative Error 0.08266\n",
      "Training_loss 0.04678,   Relative Error 0.08254\n"
     ]
    },
    {
     "name": "stderr",
     "output_type": "stream",
     "text": [
      " 69%|██████▉   | 1378/2000 [02:28<01:11,  8.72it/s]"
     ]
    },
    {
     "name": "stdout",
     "output_type": "stream",
     "text": [
      "Training_loss 0.04662,   Relative Error 0.08240\n",
      "Training_loss 0.04643,   Relative Error 0.08224\n",
      "Training_loss 0.04628,   Relative Error 0.08210\n"
     ]
    },
    {
     "name": "stderr",
     "output_type": "stream",
     "text": [
      "\r",
      " 69%|██████▉   | 1380/2000 [02:29<01:06,  9.33it/s]"
     ]
    },
    {
     "name": "stdout",
     "output_type": "stream",
     "text": [
      "Training_loss 0.04617,   Relative Error 0.08200\n",
      "Training_loss 0.04601,   Relative Error 0.08186\n",
      "Training_loss 0.04585,   Relative Error 0.08172\n"
     ]
    },
    {
     "name": "stderr",
     "output_type": "stream",
     "text": [
      " 69%|██████▉   | 1383/2000 [02:29<01:08,  9.00it/s]"
     ]
    },
    {
     "name": "stdout",
     "output_type": "stream",
     "text": [
      "Training_loss 0.04568,   Relative Error 0.08157\n",
      "Training_loss 0.04548,   Relative Error 0.08139\n"
     ]
    },
    {
     "name": "stderr",
     "output_type": "stream",
     "text": [
      " 69%|██████▉   | 1385/2000 [02:29<01:17,  7.96it/s]"
     ]
    },
    {
     "name": "stdout",
     "output_type": "stream",
     "text": [
      "Training_loss 0.04525,   Relative Error 0.08119\n",
      "Training_loss 0.04507,   Relative Error 0.08103\n"
     ]
    },
    {
     "name": "stderr",
     "output_type": "stream",
     "text": [
      "\r",
      " 69%|██████▉   | 1386/2000 [02:29<01:13,  8.38it/s]"
     ]
    },
    {
     "name": "stdout",
     "output_type": "stream",
     "text": [
      "Training_loss 0.04496,   Relative Error 0.08092\n",
      "Training_loss 0.04486,   Relative Error 0.08084\n"
     ]
    },
    {
     "name": "stderr",
     "output_type": "stream",
     "text": [
      " 69%|██████▉   | 1389/2000 [02:30<01:07,  9.04it/s]"
     ]
    },
    {
     "name": "stdout",
     "output_type": "stream",
     "text": [
      "Training_loss 0.04475,   Relative Error 0.08074\n",
      "Training_loss 0.04457,   Relative Error 0.08057\n"
     ]
    },
    {
     "name": "stderr",
     "output_type": "stream",
     "text": [
      " 70%|██████▉   | 1391/2000 [02:30<01:07,  9.08it/s]"
     ]
    },
    {
     "name": "stdout",
     "output_type": "stream",
     "text": [
      "Training_loss 0.04445,   Relative Error 0.08047\n",
      "Training_loss 0.04433,   Relative Error 0.08036\n",
      "Training_loss 0.04412,   Relative Error 0.08016\n"
     ]
    },
    {
     "name": "stderr",
     "output_type": "stream",
     "text": [
      " 70%|██████▉   | 1395/2000 [02:30<01:00, 10.07it/s]"
     ]
    },
    {
     "name": "stdout",
     "output_type": "stream",
     "text": [
      "Training_loss 0.04399,   Relative Error 0.08005\n",
      "Training_loss 0.04384,   Relative Error 0.07991\n",
      "Training_loss 0.04372,   Relative Error 0.07980\n"
     ]
    },
    {
     "name": "stderr",
     "output_type": "stream",
     "text": [
      " 70%|██████▉   | 1397/2000 [02:30<01:02,  9.62it/s]"
     ]
    },
    {
     "name": "stdout",
     "output_type": "stream",
     "text": [
      "Training_loss 0.04360,   Relative Error 0.07969\n",
      "Training_loss 0.04347,   Relative Error 0.07957\n"
     ]
    },
    {
     "name": "stderr",
     "output_type": "stream",
     "text": [
      " 70%|██████▉   | 1399/2000 [02:31<01:07,  8.96it/s]"
     ]
    },
    {
     "name": "stdout",
     "output_type": "stream",
     "text": [
      "Training_loss 0.04333,   Relative Error 0.07944\n",
      "Training_loss 0.04310,   Relative Error 0.07924\n"
     ]
    },
    {
     "name": "stderr",
     "output_type": "stream",
     "text": [
      " 70%|███████   | 1402/2000 [02:31<01:02,  9.53it/s]"
     ]
    },
    {
     "name": "stdout",
     "output_type": "stream",
     "text": [
      "Training_loss 0.04296,   Relative Error 0.07911\n",
      "Training_loss 0.04281,   Relative Error 0.07897\n",
      "Training_loss 0.04263,   Relative Error 0.07880\n"
     ]
    },
    {
     "name": "stderr",
     "output_type": "stream",
     "text": [
      "\r",
      " 70%|███████   | 1404/2000 [02:31<00:58, 10.21it/s]"
     ]
    },
    {
     "name": "stdout",
     "output_type": "stream",
     "text": [
      "Training_loss 0.04247,   Relative Error 0.07865\n",
      "Training_loss 0.04236,   Relative Error 0.07855\n",
      "Training_loss 0.04219,   Relative Error 0.07839\n"
     ]
    },
    {
     "name": "stderr",
     "output_type": "stream",
     "text": [
      " 70%|███████   | 1408/2000 [02:32<00:55, 10.59it/s]"
     ]
    },
    {
     "name": "stdout",
     "output_type": "stream",
     "text": [
      "Training_loss 0.04204,   Relative Error 0.07825\n",
      "Training_loss 0.04191,   Relative Error 0.07813\n",
      "Training_loss 0.04168,   Relative Error 0.07792\n"
     ]
    },
    {
     "name": "stderr",
     "output_type": "stream",
     "text": [
      "\r",
      " 70%|███████   | 1410/2000 [02:32<00:55, 10.72it/s]"
     ]
    },
    {
     "name": "stdout",
     "output_type": "stream",
     "text": [
      "Training_loss 0.04151,   Relative Error 0.07776\n",
      "Training_loss 0.04140,   Relative Error 0.07766\n"
     ]
    },
    {
     "name": "stderr",
     "output_type": "stream",
     "text": [
      " 71%|███████   | 1413/2000 [02:32<00:59,  9.89it/s]"
     ]
    },
    {
     "name": "stdout",
     "output_type": "stream",
     "text": [
      "Training_loss 0.04131,   Relative Error 0.07758\n",
      "Training_loss 0.04109,   Relative Error 0.07737\n",
      "Training_loss 0.04090,   Relative Error 0.07719\n"
     ]
    },
    {
     "name": "stderr",
     "output_type": "stream",
     "text": [
      "\r",
      " 71%|███████   | 1415/2000 [02:32<00:58,  9.95it/s]"
     ]
    },
    {
     "name": "stdout",
     "output_type": "stream",
     "text": [
      "Training_loss 0.04078,   Relative Error 0.07708\n",
      "Training_loss 0.04061,   Relative Error 0.07692\n",
      "Training_loss 0.04053,   Relative Error 0.07684\n"
     ]
    },
    {
     "name": "stderr",
     "output_type": "stream",
     "text": [
      " 71%|███████   | 1419/2000 [02:33<00:53, 10.92it/s]"
     ]
    },
    {
     "name": "stdout",
     "output_type": "stream",
     "text": [
      "Training_loss 0.04044,   Relative Error 0.07675\n",
      "Training_loss 0.04032,   Relative Error 0.07664\n",
      "Training_loss 0.04024,   Relative Error 0.07657\n"
     ]
    },
    {
     "name": "stderr",
     "output_type": "stream",
     "text": [
      "\r",
      " 71%|███████   | 1421/2000 [02:33<00:54, 10.71it/s]"
     ]
    },
    {
     "name": "stdout",
     "output_type": "stream",
     "text": [
      "Training_loss 0.04013,   Relative Error 0.07646\n",
      "Training_loss 0.03998,   Relative Error 0.07632\n",
      "Training_loss 0.03980,   Relative Error 0.07615\n"
     ]
    },
    {
     "name": "stderr",
     "output_type": "stream",
     "text": [
      " 71%|███████▏  | 1425/2000 [02:33<00:49, 11.59it/s]"
     ]
    },
    {
     "name": "stdout",
     "output_type": "stream",
     "text": [
      "Training_loss 0.03964,   Relative Error 0.07599\n",
      "Training_loss 0.03951,   Relative Error 0.07586\n",
      "Training_loss 0.03938,   Relative Error 0.07574\n"
     ]
    },
    {
     "name": "stderr",
     "output_type": "stream",
     "text": [
      "\r",
      " 71%|███████▏  | 1427/2000 [02:33<00:48, 11.73it/s]"
     ]
    },
    {
     "name": "stdout",
     "output_type": "stream",
     "text": [
      "Training_loss 0.03927,   Relative Error 0.07563\n",
      "Training_loss 0.03913,   Relative Error 0.07550\n",
      "Training_loss 0.03898,   Relative Error 0.07536\n"
     ]
    },
    {
     "name": "stderr",
     "output_type": "stream",
     "text": [
      " 72%|███████▏  | 1431/2000 [02:34<00:48, 11.65it/s]"
     ]
    },
    {
     "name": "stdout",
     "output_type": "stream",
     "text": [
      "Training_loss 0.03878,   Relative Error 0.07516\n",
      "Training_loss 0.03864,   Relative Error 0.07503\n",
      "Training_loss 0.03853,   Relative Error 0.07492\n"
     ]
    },
    {
     "name": "stderr",
     "output_type": "stream",
     "text": [
      "\r",
      " 72%|███████▏  | 1433/2000 [02:34<00:52, 10.84it/s]"
     ]
    },
    {
     "name": "stdout",
     "output_type": "stream",
     "text": [
      "Training_loss 0.03842,   Relative Error 0.07482\n",
      "Training_loss 0.03825,   Relative Error 0.07465\n"
     ]
    },
    {
     "name": "stderr",
     "output_type": "stream",
     "text": [
      "\r",
      " 72%|███████▏  | 1435/2000 [02:34<00:58,  9.73it/s]"
     ]
    },
    {
     "name": "stdout",
     "output_type": "stream",
     "text": [
      "Training_loss 0.03811,   Relative Error 0.07451\n",
      "Training_loss 0.03793,   Relative Error 0.07434\n"
     ]
    },
    {
     "name": "stderr",
     "output_type": "stream",
     "text": [
      "\r",
      " 72%|███████▏  | 1437/2000 [02:34<01:02,  9.00it/s]"
     ]
    },
    {
     "name": "stdout",
     "output_type": "stream",
     "text": [
      "Training_loss 0.03777,   Relative Error 0.07418\n",
      "Training_loss 0.03763,   Relative Error 0.07404\n",
      "Training_loss 0.03750,   Relative Error 0.07392\n"
     ]
    },
    {
     "name": "stderr",
     "output_type": "stream",
     "text": [
      " 72%|███████▏  | 1441/2000 [02:35<00:55, 10.06it/s]"
     ]
    },
    {
     "name": "stdout",
     "output_type": "stream",
     "text": [
      "Training_loss 0.03740,   Relative Error 0.07381\n",
      "Training_loss 0.03724,   Relative Error 0.07366\n",
      "Training_loss 0.03711,   Relative Error 0.07353\n"
     ]
    },
    {
     "name": "stderr",
     "output_type": "stream",
     "text": [
      "\r",
      " 72%|███████▏  | 1443/2000 [02:35<00:53, 10.42it/s]"
     ]
    },
    {
     "name": "stdout",
     "output_type": "stream",
     "text": [
      "Training_loss 0.03695,   Relative Error 0.07337\n",
      "Training_loss 0.03676,   Relative Error 0.07319\n",
      "Training_loss 0.03666,   Relative Error 0.07309\n"
     ]
    },
    {
     "name": "stderr",
     "output_type": "stream",
     "text": [
      " 72%|███████▏  | 1447/2000 [02:35<00:48, 11.44it/s]"
     ]
    },
    {
     "name": "stdout",
     "output_type": "stream",
     "text": [
      "Training_loss 0.03654,   Relative Error 0.07297\n",
      "Training_loss 0.03644,   Relative Error 0.07287\n",
      "Training_loss 0.03628,   Relative Error 0.07270\n"
     ]
    },
    {
     "name": "stderr",
     "output_type": "stream",
     "text": [
      "\r",
      " 72%|███████▏  | 1449/2000 [02:35<00:46, 11.93it/s]"
     ]
    },
    {
     "name": "stdout",
     "output_type": "stream",
     "text": [
      "Training_loss 0.03610,   Relative Error 0.07253\n",
      "Training_loss 0.03588,   Relative Error 0.07231\n"
     ]
    },
    {
     "name": "stderr",
     "output_type": "stream",
     "text": [
      "\r",
      " 73%|███████▎  | 1451/2000 [02:36<00:57,  9.54it/s]"
     ]
    },
    {
     "name": "stdout",
     "output_type": "stream",
     "text": [
      "Training_loss 0.03574,   Relative Error 0.07217\n",
      "Training_loss 0.03564,   Relative Error 0.07206\n"
     ]
    },
    {
     "name": "stderr",
     "output_type": "stream",
     "text": [
      "\r",
      " 73%|███████▎  | 1453/2000 [02:36<00:57,  9.59it/s]"
     ]
    },
    {
     "name": "stdout",
     "output_type": "stream",
     "text": [
      "Training_loss 0.03548,   Relative Error 0.07190\n",
      "Training_loss 0.03529,   Relative Error 0.07171\n",
      "Training_loss 0.03516,   Relative Error 0.07157\n"
     ]
    },
    {
     "name": "stderr",
     "output_type": "stream",
     "text": [
      " 73%|███████▎  | 1456/2000 [02:36<01:10,  7.77it/s]"
     ]
    },
    {
     "name": "stdout",
     "output_type": "stream",
     "text": [
      "Training_loss 0.03502,   Relative Error 0.07143\n",
      "Training_loss 0.03484,   Relative Error 0.07125\n"
     ]
    },
    {
     "name": "stderr",
     "output_type": "stream",
     "text": [
      " 73%|███████▎  | 1458/2000 [02:37<01:13,  7.35it/s]"
     ]
    },
    {
     "name": "stdout",
     "output_type": "stream",
     "text": [
      "Training_loss 0.03469,   Relative Error 0.07110\n",
      "Training_loss 0.03453,   Relative Error 0.07093\n"
     ]
    },
    {
     "name": "stderr",
     "output_type": "stream",
     "text": [
      " 73%|███████▎  | 1460/2000 [02:37<01:15,  7.19it/s]"
     ]
    },
    {
     "name": "stdout",
     "output_type": "stream",
     "text": [
      "Training_loss 0.03443,   Relative Error 0.07083\n",
      "Training_loss 0.03435,   Relative Error 0.07075\n"
     ]
    },
    {
     "name": "stderr",
     "output_type": "stream",
     "text": [
      "\r",
      " 73%|███████▎  | 1462/2000 [02:37<01:03,  8.48it/s]"
     ]
    },
    {
     "name": "stdout",
     "output_type": "stream",
     "text": [
      "Training_loss 0.03424,   Relative Error 0.07064\n",
      "Training_loss 0.03412,   Relative Error 0.07051\n",
      "Training_loss 0.03400,   Relative Error 0.07038\n"
     ]
    },
    {
     "name": "stderr",
     "output_type": "stream",
     "text": [
      " 73%|███████▎  | 1465/2000 [02:37<01:07,  7.98it/s]"
     ]
    },
    {
     "name": "stdout",
     "output_type": "stream",
     "text": [
      "Training_loss 0.03384,   Relative Error 0.07022\n",
      "Training_loss 0.03375,   Relative Error 0.07013\n"
     ]
    },
    {
     "name": "stderr",
     "output_type": "stream",
     "text": [
      " 73%|███████▎  | 1467/2000 [02:38<01:24,  6.32it/s]"
     ]
    },
    {
     "name": "stdout",
     "output_type": "stream",
     "text": [
      "Training_loss 0.03363,   Relative Error 0.07001\n",
      "Training_loss 0.03352,   Relative Error 0.06989\n"
     ]
    },
    {
     "name": "stderr",
     "output_type": "stream",
     "text": [
      "\r",
      " 73%|███████▎  | 1468/2000 [02:38<01:24,  6.31it/s]"
     ]
    },
    {
     "name": "stdout",
     "output_type": "stream",
     "text": [
      "Training_loss 0.03337,   Relative Error 0.06974\n"
     ]
    },
    {
     "name": "stderr",
     "output_type": "stream",
     "text": [
      "\r",
      " 73%|███████▎  | 1469/2000 [02:38<01:31,  5.79it/s]"
     ]
    },
    {
     "name": "stdout",
     "output_type": "stream",
     "text": [
      "Training_loss 0.03330,   Relative Error 0.06967\n"
     ]
    },
    {
     "name": "stderr",
     "output_type": "stream",
     "text": [
      "\r",
      " 74%|███████▎  | 1470/2000 [02:39<01:46,  4.99it/s]"
     ]
    },
    {
     "name": "stdout",
     "output_type": "stream",
     "text": [
      "Training_loss 0.03318,   Relative Error 0.06953\n",
      "Training_loss 0.03306,   Relative Error 0.06941\n"
     ]
    },
    {
     "name": "stderr",
     "output_type": "stream",
     "text": [
      " 74%|███████▎  | 1474/2000 [02:39<01:11,  7.40it/s]"
     ]
    },
    {
     "name": "stdout",
     "output_type": "stream",
     "text": [
      "Training_loss 0.03296,   Relative Error 0.06931\n",
      "Training_loss 0.03285,   Relative Error 0.06919\n",
      "Training_loss 0.03274,   Relative Error 0.06908\n"
     ]
    },
    {
     "name": "stderr",
     "output_type": "stream",
     "text": [
      "\r",
      " 74%|███████▍  | 1476/2000 [02:39<00:59,  8.77it/s]"
     ]
    },
    {
     "name": "stdout",
     "output_type": "stream",
     "text": [
      "Training_loss 0.03264,   Relative Error 0.06897\n",
      "Training_loss 0.03251,   Relative Error 0.06884\n",
      "Training_loss 0.03240,   Relative Error 0.06871\n"
     ]
    },
    {
     "name": "stderr",
     "output_type": "stream",
     "text": [
      " 74%|███████▍  | 1479/2000 [02:39<00:55,  9.42it/s]"
     ]
    },
    {
     "name": "stdout",
     "output_type": "stream",
     "text": [
      "Training_loss 0.03225,   Relative Error 0.06855\n",
      "Training_loss 0.03215,   Relative Error 0.06845\n"
     ]
    },
    {
     "name": "stderr",
     "output_type": "stream",
     "text": [
      " 74%|███████▍  | 1481/2000 [02:40<00:57,  9.04it/s]"
     ]
    },
    {
     "name": "stdout",
     "output_type": "stream",
     "text": [
      "Training_loss 0.03204,   Relative Error 0.06834\n",
      "Training_loss 0.03192,   Relative Error 0.06820\n"
     ]
    },
    {
     "name": "stderr",
     "output_type": "stream",
     "text": [
      "\r",
      " 74%|███████▍  | 1483/2000 [02:40<00:51, 10.04it/s]"
     ]
    },
    {
     "name": "stdout",
     "output_type": "stream",
     "text": [
      "Training_loss 0.03183,   Relative Error 0.06811\n",
      "Training_loss 0.03174,   Relative Error 0.06801\n",
      "Training_loss 0.03161,   Relative Error 0.06787\n"
     ]
    },
    {
     "name": "stderr",
     "output_type": "stream",
     "text": [
      " 74%|███████▍  | 1486/2000 [02:40<01:00,  8.43it/s]"
     ]
    },
    {
     "name": "stdout",
     "output_type": "stream",
     "text": [
      "Training_loss 0.03152,   Relative Error 0.06777\n",
      "Training_loss 0.03145,   Relative Error 0.06770\n"
     ]
    },
    {
     "name": "stderr",
     "output_type": "stream",
     "text": [
      " 74%|███████▍  | 1488/2000 [02:41<01:12,  7.08it/s]"
     ]
    },
    {
     "name": "stdout",
     "output_type": "stream",
     "text": [
      "Training_loss 0.03136,   Relative Error 0.06760\n",
      "Training_loss 0.03127,   Relative Error 0.06750\n"
     ]
    },
    {
     "name": "stderr",
     "output_type": "stream",
     "text": [
      " 74%|███████▍  | 1490/2000 [02:41<01:08,  7.44it/s]"
     ]
    },
    {
     "name": "stdout",
     "output_type": "stream",
     "text": [
      "Training_loss 0.03112,   Relative Error 0.06734\n",
      "Training_loss 0.03103,   Relative Error 0.06725\n"
     ]
    },
    {
     "name": "stderr",
     "output_type": "stream",
     "text": [
      "\r",
      " 75%|███████▍  | 1492/2000 [02:41<00:57,  8.90it/s]"
     ]
    },
    {
     "name": "stdout",
     "output_type": "stream",
     "text": [
      "Training_loss 0.03092,   Relative Error 0.06712\n",
      "Training_loss 0.03081,   Relative Error 0.06701\n",
      "Training_loss 0.03071,   Relative Error 0.06691\n"
     ]
    },
    {
     "name": "stderr",
     "output_type": "stream",
     "text": [
      " 75%|███████▍  | 1496/2000 [02:41<00:46, 10.74it/s]"
     ]
    },
    {
     "name": "stdout",
     "output_type": "stream",
     "text": [
      "Training_loss 0.03058,   Relative Error 0.06676\n",
      "Training_loss 0.03048,   Relative Error 0.06665\n",
      "Training_loss 0.03040,   Relative Error 0.06657\n"
     ]
    },
    {
     "name": "stderr",
     "output_type": "stream",
     "text": [
      "\r",
      " 75%|███████▍  | 1498/2000 [02:41<00:44, 11.38it/s]"
     ]
    },
    {
     "name": "stdout",
     "output_type": "stream",
     "text": [
      "Training_loss 0.03030,   Relative Error 0.06646\n",
      "Training_loss 0.03023,   Relative Error 0.06638\n",
      "Training_loss 0.03014,   Relative Error 0.06627\n"
     ]
    },
    {
     "name": "stderr",
     "output_type": "stream",
     "text": [
      " 75%|███████▌  | 1502/2000 [02:42<00:41, 12.03it/s]"
     ]
    },
    {
     "name": "stdout",
     "output_type": "stream",
     "text": [
      "Training_loss 0.03002,   Relative Error 0.06615\n",
      "Training_loss 0.02997,   Relative Error 0.06609\n",
      "Training_loss 0.02987,   Relative Error 0.06599\n"
     ]
    },
    {
     "name": "stderr",
     "output_type": "stream",
     "text": [
      "\r",
      " 75%|███████▌  | 1504/2000 [02:42<00:43, 11.52it/s]"
     ]
    },
    {
     "name": "stdout",
     "output_type": "stream",
     "text": [
      "Training_loss 0.02977,   Relative Error 0.06587\n",
      "Training_loss 0.02959,   Relative Error 0.06568\n",
      "Training_loss 0.02948,   Relative Error 0.06555\n"
     ]
    },
    {
     "name": "stderr",
     "output_type": "stream",
     "text": [
      " 75%|███████▌  | 1508/2000 [02:42<00:43, 11.23it/s]"
     ]
    },
    {
     "name": "stdout",
     "output_type": "stream",
     "text": [
      "Training_loss 0.02936,   Relative Error 0.06542\n",
      "Training_loss 0.02924,   Relative Error 0.06529\n",
      "Training_loss 0.02915,   Relative Error 0.06518\n"
     ]
    },
    {
     "name": "stderr",
     "output_type": "stream",
     "text": [
      "\r",
      " 76%|███████▌  | 1510/2000 [02:43<00:43, 11.22it/s]"
     ]
    },
    {
     "name": "stdout",
     "output_type": "stream",
     "text": [
      "Training_loss 0.02907,   Relative Error 0.06509\n",
      "Training_loss 0.02896,   Relative Error 0.06497\n"
     ]
    },
    {
     "name": "stderr",
     "output_type": "stream",
     "text": [
      "\r",
      " 76%|███████▌  | 1512/2000 [02:43<00:52,  9.35it/s]"
     ]
    },
    {
     "name": "stdout",
     "output_type": "stream",
     "text": [
      "Training_loss 0.02889,   Relative Error 0.06489\n",
      "Training_loss 0.02876,   Relative Error 0.06474\n"
     ]
    },
    {
     "name": "stderr",
     "output_type": "stream",
     "text": [
      "\r",
      " 76%|███████▌  | 1514/2000 [02:43<00:48,  9.94it/s]"
     ]
    },
    {
     "name": "stdout",
     "output_type": "stream",
     "text": [
      "Training_loss 0.02860,   Relative Error 0.06457\n",
      "Training_loss 0.02853,   Relative Error 0.06449\n",
      "Training_loss 0.02845,   Relative Error 0.06439\n"
     ]
    },
    {
     "name": "stderr",
     "output_type": "stream",
     "text": [
      " 76%|███████▌  | 1518/2000 [02:43<00:45, 10.68it/s]"
     ]
    },
    {
     "name": "stdout",
     "output_type": "stream",
     "text": [
      "Training_loss 0.02834,   Relative Error 0.06427\n",
      "Training_loss 0.02825,   Relative Error 0.06417\n",
      "Training_loss 0.02817,   Relative Error 0.06408\n"
     ]
    },
    {
     "name": "stderr",
     "output_type": "stream",
     "text": [
      "\r",
      " 76%|███████▌  | 1520/2000 [02:43<00:43, 11.15it/s]"
     ]
    },
    {
     "name": "stdout",
     "output_type": "stream",
     "text": [
      "Training_loss 0.02807,   Relative Error 0.06396\n",
      "Training_loss 0.02798,   Relative Error 0.06386\n",
      "Training_loss 0.02788,   Relative Error 0.06375\n"
     ]
    },
    {
     "name": "stderr",
     "output_type": "stream",
     "text": [
      "\r",
      " 76%|███████▌  | 1522/2000 [02:44<00:42, 11.31it/s]"
     ]
    },
    {
     "name": "stdout",
     "output_type": "stream",
     "text": [
      "Training_loss 0.02774,   Relative Error 0.06358\n",
      "Training_loss 0.02767,   Relative Error 0.06350\n"
     ]
    },
    {
     "name": "stderr",
     "output_type": "stream",
     "text": [
      " 76%|███████▋  | 1526/2000 [02:44<00:44, 10.76it/s]"
     ]
    },
    {
     "name": "stdout",
     "output_type": "stream",
     "text": [
      "Training_loss 0.02757,   Relative Error 0.06339\n",
      "Training_loss 0.02751,   Relative Error 0.06333\n",
      "Training_loss 0.02745,   Relative Error 0.06325\n"
     ]
    },
    {
     "name": "stderr",
     "output_type": "stream",
     "text": [
      "\r",
      " 76%|███████▋  | 1528/2000 [02:44<00:43, 10.94it/s]"
     ]
    },
    {
     "name": "stdout",
     "output_type": "stream",
     "text": [
      "Training_loss 0.02733,   Relative Error 0.06312\n",
      "Training_loss 0.02721,   Relative Error 0.06297\n",
      "Training_loss 0.02716,   Relative Error 0.06292\n"
     ]
    },
    {
     "name": "stderr",
     "output_type": "stream",
     "text": [
      " 77%|███████▋  | 1532/2000 [02:45<00:41, 11.38it/s]"
     ]
    },
    {
     "name": "stdout",
     "output_type": "stream",
     "text": [
      "Training_loss 0.02707,   Relative Error 0.06282\n",
      "Training_loss 0.02700,   Relative Error 0.06274\n",
      "Training_loss 0.02689,   Relative Error 0.06261\n"
     ]
    },
    {
     "name": "stderr",
     "output_type": "stream",
     "text": [
      "\r",
      " 77%|███████▋  | 1534/2000 [02:45<00:42, 10.95it/s]"
     ]
    },
    {
     "name": "stdout",
     "output_type": "stream",
     "text": [
      "Training_loss 0.02680,   Relative Error 0.06250\n",
      "Training_loss 0.02671,   Relative Error 0.06240\n"
     ]
    },
    {
     "name": "stderr",
     "output_type": "stream",
     "text": [
      "\r",
      " 77%|███████▋  | 1536/2000 [02:45<00:47,  9.76it/s]"
     ]
    },
    {
     "name": "stdout",
     "output_type": "stream",
     "text": [
      "Training_loss 0.02663,   Relative Error 0.06231\n",
      "Training_loss 0.02654,   Relative Error 0.06220\n",
      "Training_loss 0.02644,   Relative Error 0.06209\n"
     ]
    },
    {
     "name": "stderr",
     "output_type": "stream",
     "text": [
      " 77%|███████▋  | 1540/2000 [02:45<00:45, 10.06it/s]"
     ]
    },
    {
     "name": "stdout",
     "output_type": "stream",
     "text": [
      "Training_loss 0.02632,   Relative Error 0.06194\n",
      "Training_loss 0.02623,   Relative Error 0.06184\n",
      "Training_loss 0.02612,   Relative Error 0.06170\n"
     ]
    },
    {
     "name": "stderr",
     "output_type": "stream",
     "text": [
      "\r",
      " 77%|███████▋  | 1542/2000 [02:46<00:44, 10.29it/s]"
     ]
    },
    {
     "name": "stdout",
     "output_type": "stream",
     "text": [
      "Training_loss 0.02604,   Relative Error 0.06161\n",
      "Training_loss 0.02599,   Relative Error 0.06155\n",
      "Training_loss 0.02593,   Relative Error 0.06147\n"
     ]
    },
    {
     "name": "stderr",
     "output_type": "stream",
     "text": [
      " 77%|███████▋  | 1546/2000 [02:46<00:44, 10.14it/s]"
     ]
    },
    {
     "name": "stdout",
     "output_type": "stream",
     "text": [
      "Training_loss 0.02579,   Relative Error 0.06131\n",
      "Training_loss 0.02569,   Relative Error 0.06120\n",
      "Training_loss 0.02556,   Relative Error 0.06104\n"
     ]
    },
    {
     "name": "stderr",
     "output_type": "stream",
     "text": [
      "\r",
      " 77%|███████▋  | 1548/2000 [02:46<00:43, 10.36it/s]"
     ]
    },
    {
     "name": "stdout",
     "output_type": "stream",
     "text": [
      "Training_loss 0.02548,   Relative Error 0.06094\n",
      "Training_loss 0.02540,   Relative Error 0.06085\n",
      "Training_loss 0.02535,   Relative Error 0.06079\n"
     ]
    },
    {
     "name": "stderr",
     "output_type": "stream",
     "text": [
      "\r",
      " 78%|███████▊  | 1550/2000 [02:46<00:43, 10.31it/s]"
     ]
    },
    {
     "name": "stdout",
     "output_type": "stream",
     "text": [
      "Training_loss 0.02528,   Relative Error 0.06070\n",
      "Training_loss 0.02518,   Relative Error 0.06058\n"
     ]
    },
    {
     "name": "stderr",
     "output_type": "stream",
     "text": [
      " 78%|███████▊  | 1553/2000 [02:47<00:56,  7.91it/s]"
     ]
    },
    {
     "name": "stdout",
     "output_type": "stream",
     "text": [
      "Training_loss 0.02510,   Relative Error 0.06049\n",
      "Training_loss 0.02500,   Relative Error 0.06036\n"
     ]
    },
    {
     "name": "stderr",
     "output_type": "stream",
     "text": [
      " 78%|███████▊  | 1555/2000 [02:47<00:57,  7.77it/s]"
     ]
    },
    {
     "name": "stdout",
     "output_type": "stream",
     "text": [
      "Training_loss 0.02493,   Relative Error 0.06029\n",
      "Training_loss 0.02484,   Relative Error 0.06017\n"
     ]
    },
    {
     "name": "stderr",
     "output_type": "stream",
     "text": [
      " 78%|███████▊  | 1558/2000 [02:47<00:50,  8.71it/s]"
     ]
    },
    {
     "name": "stdout",
     "output_type": "stream",
     "text": [
      "Training_loss 0.02473,   Relative Error 0.06004\n",
      "Training_loss 0.02464,   Relative Error 0.05993\n",
      "Training_loss 0.02456,   Relative Error 0.05983\n"
     ]
    },
    {
     "name": "stderr",
     "output_type": "stream",
     "text": [
      "\r",
      " 78%|███████▊  | 1560/2000 [02:48<00:46,  9.43it/s]"
     ]
    },
    {
     "name": "stdout",
     "output_type": "stream",
     "text": [
      "Training_loss 0.02445,   Relative Error 0.05970\n",
      "Training_loss 0.02435,   Relative Error 0.05957\n",
      "Training_loss 0.02426,   Relative Error 0.05947\n"
     ]
    },
    {
     "name": "stderr",
     "output_type": "stream",
     "text": [
      " 78%|███████▊  | 1564/2000 [02:48<00:41, 10.60it/s]"
     ]
    },
    {
     "name": "stdout",
     "output_type": "stream",
     "text": [
      "Training_loss 0.02423,   Relative Error 0.05943\n",
      "Training_loss 0.02414,   Relative Error 0.05932\n",
      "Training_loss 0.02410,   Relative Error 0.05927\n"
     ]
    },
    {
     "name": "stderr",
     "output_type": "stream",
     "text": [
      "\r",
      " 78%|███████▊  | 1566/2000 [02:48<00:40, 10.71it/s]"
     ]
    },
    {
     "name": "stdout",
     "output_type": "stream",
     "text": [
      "Training_loss 0.02406,   Relative Error 0.05922\n",
      "Training_loss 0.02392,   Relative Error 0.05906\n",
      "Training_loss 0.02386,   Relative Error 0.05897\n"
     ]
    },
    {
     "name": "stderr",
     "output_type": "stream",
     "text": [
      " 78%|███████▊  | 1570/2000 [02:48<00:37, 11.56it/s]"
     ]
    },
    {
     "name": "stdout",
     "output_type": "stream",
     "text": [
      "Training_loss 0.02373,   Relative Error 0.05882\n",
      "Training_loss 0.02364,   Relative Error 0.05871\n",
      "Training_loss 0.02356,   Relative Error 0.05861\n"
     ]
    },
    {
     "name": "stderr",
     "output_type": "stream",
     "text": [
      "\r",
      " 79%|███████▊  | 1572/2000 [02:49<00:37, 11.41it/s]"
     ]
    },
    {
     "name": "stdout",
     "output_type": "stream",
     "text": [
      "Training_loss 0.02348,   Relative Error 0.05850\n",
      "Training_loss 0.02339,   Relative Error 0.05840\n",
      "Training_loss 0.02334,   Relative Error 0.05832\n"
     ]
    },
    {
     "name": "stderr",
     "output_type": "stream",
     "text": [
      " 79%|███████▉  | 1576/2000 [02:49<00:36, 11.50it/s]"
     ]
    },
    {
     "name": "stdout",
     "output_type": "stream",
     "text": [
      "Training_loss 0.02325,   Relative Error 0.05822\n",
      "Training_loss 0.02318,   Relative Error 0.05813\n",
      "Training_loss 0.02314,   Relative Error 0.05808\n"
     ]
    },
    {
     "name": "stderr",
     "output_type": "stream",
     "text": [
      "\r",
      " 79%|███████▉  | 1578/2000 [02:49<00:39, 10.81it/s]"
     ]
    },
    {
     "name": "stdout",
     "output_type": "stream",
     "text": [
      "Training_loss 0.02304,   Relative Error 0.05796\n",
      "Training_loss 0.02292,   Relative Error 0.05780\n"
     ]
    },
    {
     "name": "stderr",
     "output_type": "stream",
     "text": [
      "\r",
      " 79%|███████▉  | 1580/2000 [02:49<00:39, 10.64it/s]"
     ]
    },
    {
     "name": "stdout",
     "output_type": "stream",
     "text": [
      "Training_loss 0.02284,   Relative Error 0.05771\n",
      "Training_loss 0.02279,   Relative Error 0.05763\n",
      "Training_loss 0.02268,   Relative Error 0.05750\n"
     ]
    },
    {
     "name": "stderr",
     "output_type": "stream",
     "text": [
      " 79%|███████▉  | 1584/2000 [02:50<00:39, 10.44it/s]"
     ]
    },
    {
     "name": "stdout",
     "output_type": "stream",
     "text": [
      "Training_loss 0.02260,   Relative Error 0.05740\n",
      "Training_loss 0.02252,   Relative Error 0.05730\n",
      "Training_loss 0.02246,   Relative Error 0.05722\n"
     ]
    },
    {
     "name": "stderr",
     "output_type": "stream",
     "text": [
      "\r",
      " 79%|███████▉  | 1586/2000 [02:50<00:41, 10.06it/s]"
     ]
    },
    {
     "name": "stdout",
     "output_type": "stream",
     "text": [
      "Training_loss 0.02235,   Relative Error 0.05708\n",
      "Training_loss 0.02228,   Relative Error 0.05699\n",
      "Training_loss 0.02220,   Relative Error 0.05689\n"
     ]
    },
    {
     "name": "stderr",
     "output_type": "stream",
     "text": [
      " 80%|███████▉  | 1590/2000 [02:50<00:37, 10.82it/s]"
     ]
    },
    {
     "name": "stdout",
     "output_type": "stream",
     "text": [
      "Training_loss 0.02210,   Relative Error 0.05675\n",
      "Training_loss 0.02200,   Relative Error 0.05663\n",
      "Training_loss 0.02193,   Relative Error 0.05654\n"
     ]
    },
    {
     "name": "stderr",
     "output_type": "stream",
     "text": [
      "\r",
      " 80%|███████▉  | 1592/2000 [02:51<00:36, 11.19it/s]"
     ]
    },
    {
     "name": "stdout",
     "output_type": "stream",
     "text": [
      "Training_loss 0.02184,   Relative Error 0.05642\n",
      "Training_loss 0.02173,   Relative Error 0.05628\n",
      "Training_loss 0.02166,   Relative Error 0.05619\n"
     ]
    },
    {
     "name": "stderr",
     "output_type": "stream",
     "text": [
      " 80%|███████▉  | 1596/2000 [02:51<00:37, 10.76it/s]"
     ]
    },
    {
     "name": "stdout",
     "output_type": "stream",
     "text": [
      "Training_loss 0.02158,   Relative Error 0.05609\n",
      "Training_loss 0.02150,   Relative Error 0.05598\n",
      "Training_loss 0.02144,   Relative Error 0.05590\n"
     ]
    },
    {
     "name": "stderr",
     "output_type": "stream",
     "text": [
      "\r",
      " 80%|███████▉  | 1598/2000 [02:51<00:35, 11.25it/s]"
     ]
    },
    {
     "name": "stdout",
     "output_type": "stream",
     "text": [
      "Training_loss 0.02138,   Relative Error 0.05582\n",
      "Training_loss 0.02130,   Relative Error 0.05572\n",
      "Training_loss 0.02123,   Relative Error 0.05562\n"
     ]
    },
    {
     "name": "stderr",
     "output_type": "stream",
     "text": [
      "\r",
      " 80%|████████  | 1600/2000 [02:51<00:35, 11.28it/s]"
     ]
    },
    {
     "name": "stdout",
     "output_type": "stream",
     "text": [
      "Training_loss 0.02115,   Relative Error 0.05552\n",
      "Training_loss 0.02109,   Relative Error 0.05544\n"
     ]
    },
    {
     "name": "stderr",
     "output_type": "stream",
     "text": [
      " 80%|████████  | 1604/2000 [02:52<00:37, 10.45it/s]"
     ]
    },
    {
     "name": "stdout",
     "output_type": "stream",
     "text": [
      "Training_loss 0.02097,   Relative Error 0.05529\n",
      "Training_loss 0.02092,   Relative Error 0.05522\n",
      "Training_loss 0.02084,   Relative Error 0.05511\n"
     ]
    },
    {
     "name": "stderr",
     "output_type": "stream",
     "text": [
      "\r",
      " 80%|████████  | 1606/2000 [02:52<00:37, 10.57it/s]"
     ]
    },
    {
     "name": "stdout",
     "output_type": "stream",
     "text": [
      "Training_loss 0.02078,   Relative Error 0.05504\n",
      "Training_loss 0.02073,   Relative Error 0.05496\n",
      "Training_loss 0.02068,   Relative Error 0.05490\n"
     ]
    },
    {
     "name": "stderr",
     "output_type": "stream",
     "text": [
      " 80%|████████  | 1609/2000 [02:52<00:41,  9.51it/s]"
     ]
    },
    {
     "name": "stdout",
     "output_type": "stream",
     "text": [
      "Training_loss 0.02062,   Relative Error 0.05482\n",
      "Training_loss 0.02056,   Relative Error 0.05474\n"
     ]
    },
    {
     "name": "stderr",
     "output_type": "stream",
     "text": [
      " 81%|████████  | 1611/2000 [02:52<00:44,  8.83it/s]"
     ]
    },
    {
     "name": "stdout",
     "output_type": "stream",
     "text": [
      "Training_loss 0.02050,   Relative Error 0.05467\n",
      "Training_loss 0.02042,   Relative Error 0.05455\n",
      "Training_loss 0.02038,   Relative Error 0.05450\n"
     ]
    },
    {
     "name": "stderr",
     "output_type": "stream",
     "text": [
      " 81%|████████  | 1615/2000 [02:53<00:37, 10.31it/s]"
     ]
    },
    {
     "name": "stdout",
     "output_type": "stream",
     "text": [
      "Training_loss 0.02029,   Relative Error 0.05438\n",
      "Training_loss 0.02023,   Relative Error 0.05430\n",
      "Training_loss 0.02017,   Relative Error 0.05422\n"
     ]
    },
    {
     "name": "stderr",
     "output_type": "stream",
     "text": [
      "\r",
      " 81%|████████  | 1617/2000 [02:53<00:34, 10.98it/s]"
     ]
    },
    {
     "name": "stdout",
     "output_type": "stream",
     "text": [
      "Training_loss 0.02011,   Relative Error 0.05414\n",
      "Training_loss 0.02002,   Relative Error 0.05402\n",
      "Training_loss 0.01993,   Relative Error 0.05390\n"
     ]
    },
    {
     "name": "stderr",
     "output_type": "stream",
     "text": [
      "\r",
      " 81%|████████  | 1619/2000 [02:53<00:35, 10.86it/s]"
     ]
    },
    {
     "name": "stdout",
     "output_type": "stream",
     "text": [
      "Training_loss 0.01987,   Relative Error 0.05382\n",
      "Training_loss 0.01981,   Relative Error 0.05373\n"
     ]
    },
    {
     "name": "stderr",
     "output_type": "stream",
     "text": [
      "\r",
      " 81%|████████  | 1621/2000 [02:53<00:36, 10.25it/s]"
     ]
    },
    {
     "name": "stdout",
     "output_type": "stream",
     "text": [
      "Training_loss 0.01974,   Relative Error 0.05365\n",
      "Training_loss 0.01967,   Relative Error 0.05354\n"
     ]
    },
    {
     "name": "stderr",
     "output_type": "stream",
     "text": [
      " 81%|████████  | 1624/2000 [02:54<00:40,  9.22it/s]"
     ]
    },
    {
     "name": "stdout",
     "output_type": "stream",
     "text": [
      "Training_loss 0.01960,   Relative Error 0.05344\n",
      "Training_loss 0.01952,   Relative Error 0.05334\n"
     ]
    },
    {
     "name": "stderr",
     "output_type": "stream",
     "text": [
      " 81%|████████▏ | 1626/2000 [02:54<00:44,  8.38it/s]"
     ]
    },
    {
     "name": "stdout",
     "output_type": "stream",
     "text": [
      "Training_loss 0.01944,   Relative Error 0.05323\n",
      "Training_loss 0.01938,   Relative Error 0.05315\n"
     ]
    },
    {
     "name": "stderr",
     "output_type": "stream",
     "text": [
      "\r",
      " 81%|████████▏ | 1627/2000 [02:54<00:56,  6.62it/s]"
     ]
    },
    {
     "name": "stdout",
     "output_type": "stream",
     "text": [
      "Training_loss 0.01932,   Relative Error 0.05306\n"
     ]
    },
    {
     "name": "stderr",
     "output_type": "stream",
     "text": [
      " 81%|████████▏ | 1629/2000 [02:55<01:03,  5.82it/s]"
     ]
    },
    {
     "name": "stdout",
     "output_type": "stream",
     "text": [
      "Training_loss 0.01925,   Relative Error 0.05297\n",
      "Training_loss 0.01917,   Relative Error 0.05286\n"
     ]
    },
    {
     "name": "stderr",
     "output_type": "stream",
     "text": [
      "\r",
      " 82%|████████▏ | 1630/2000 [02:55<01:03,  5.79it/s]"
     ]
    },
    {
     "name": "stdout",
     "output_type": "stream",
     "text": [
      "Training_loss 0.01911,   Relative Error 0.05278\n"
     ]
    },
    {
     "name": "stderr",
     "output_type": "stream",
     "text": [
      " 82%|████████▏ | 1632/2000 [02:55<01:12,  5.10it/s]"
     ]
    },
    {
     "name": "stdout",
     "output_type": "stream",
     "text": [
      "Training_loss 0.01906,   Relative Error 0.05271\n",
      "Training_loss 0.01900,   Relative Error 0.05262\n"
     ]
    },
    {
     "name": "stderr",
     "output_type": "stream",
     "text": [
      " 82%|████████▏ | 1634/2000 [02:56<01:04,  5.66it/s]"
     ]
    },
    {
     "name": "stdout",
     "output_type": "stream",
     "text": [
      "Training_loss 0.01895,   Relative Error 0.05256\n",
      "Training_loss 0.01889,   Relative Error 0.05247\n"
     ]
    },
    {
     "name": "stderr",
     "output_type": "stream",
     "text": [
      "\r",
      " 82%|████████▏ | 1635/2000 [02:56<01:10,  5.16it/s]"
     ]
    },
    {
     "name": "stdout",
     "output_type": "stream",
     "text": [
      "Training_loss 0.01882,   Relative Error 0.05238\n"
     ]
    },
    {
     "name": "stderr",
     "output_type": "stream",
     "text": [
      "\r",
      " 82%|████████▏ | 1636/2000 [02:56<01:41,  3.57it/s]"
     ]
    },
    {
     "name": "stdout",
     "output_type": "stream",
     "text": [
      "Training_loss 0.01876,   Relative Error 0.05229\n"
     ]
    },
    {
     "name": "stderr",
     "output_type": "stream",
     "text": [
      " 82%|████████▏ | 1638/2000 [02:57<01:28,  4.10it/s]"
     ]
    },
    {
     "name": "stdout",
     "output_type": "stream",
     "text": [
      "Training_loss 0.01871,   Relative Error 0.05222\n",
      "Training_loss 0.01867,   Relative Error 0.05217\n"
     ]
    },
    {
     "name": "stderr",
     "output_type": "stream",
     "text": [
      " 82%|████████▏ | 1640/2000 [02:57<01:14,  4.83it/s]"
     ]
    },
    {
     "name": "stdout",
     "output_type": "stream",
     "text": [
      "Training_loss 0.01862,   Relative Error 0.05210\n",
      "Training_loss 0.01854,   Relative Error 0.05199\n"
     ]
    },
    {
     "name": "stderr",
     "output_type": "stream",
     "text": [
      " 82%|████████▏ | 1642/2000 [02:57<00:58,  6.14it/s]"
     ]
    },
    {
     "name": "stdout",
     "output_type": "stream",
     "text": [
      "Training_loss 0.01849,   Relative Error 0.05191\n",
      "Training_loss 0.01846,   Relative Error 0.05187\n"
     ]
    },
    {
     "name": "stderr",
     "output_type": "stream",
     "text": [
      " 82%|████████▏ | 1644/2000 [02:58<00:49,  7.23it/s]"
     ]
    },
    {
     "name": "stdout",
     "output_type": "stream",
     "text": [
      "Training_loss 0.01841,   Relative Error 0.05181\n",
      "Training_loss 0.01834,   Relative Error 0.05171\n"
     ]
    },
    {
     "name": "stderr",
     "output_type": "stream",
     "text": [
      " 82%|████████▏ | 1646/2000 [02:58<00:45,  7.79it/s]"
     ]
    },
    {
     "name": "stdout",
     "output_type": "stream",
     "text": [
      "Training_loss 0.01829,   Relative Error 0.05163\n",
      "Training_loss 0.01824,   Relative Error 0.05156\n"
     ]
    },
    {
     "name": "stderr",
     "output_type": "stream",
     "text": [
      " 82%|████████▏ | 1648/2000 [02:58<00:43,  8.05it/s]"
     ]
    },
    {
     "name": "stdout",
     "output_type": "stream",
     "text": [
      "Training_loss 0.01815,   Relative Error 0.05143\n",
      "Training_loss 0.01806,   Relative Error 0.05130\n"
     ]
    },
    {
     "name": "stderr",
     "output_type": "stream",
     "text": [
      " 82%|████████▎ | 1650/2000 [02:58<00:51,  6.84it/s]"
     ]
    },
    {
     "name": "stdout",
     "output_type": "stream",
     "text": [
      "Training_loss 0.01797,   Relative Error 0.05118\n",
      "Training_loss 0.01791,   Relative Error 0.05109\n"
     ]
    },
    {
     "name": "stderr",
     "output_type": "stream",
     "text": [
      " 83%|████████▎ | 1652/2000 [02:59<00:53,  6.55it/s]"
     ]
    },
    {
     "name": "stdout",
     "output_type": "stream",
     "text": [
      "Training_loss 0.01783,   Relative Error 0.05098\n",
      "Training_loss 0.01778,   Relative Error 0.05091\n"
     ]
    },
    {
     "name": "stderr",
     "output_type": "stream",
     "text": [
      "\r",
      " 83%|████████▎ | 1653/2000 [02:59<00:53,  6.52it/s]"
     ]
    },
    {
     "name": "stdout",
     "output_type": "stream",
     "text": [
      "Training_loss 0.01772,   Relative Error 0.05083\n"
     ]
    },
    {
     "name": "stderr",
     "output_type": "stream",
     "text": [
      "\r",
      " 83%|████████▎ | 1654/2000 [02:59<01:10,  4.89it/s]"
     ]
    },
    {
     "name": "stdout",
     "output_type": "stream",
     "text": [
      "Training_loss 0.01769,   Relative Error 0.05078\n"
     ]
    },
    {
     "name": "stderr",
     "output_type": "stream",
     "text": [
      " 83%|████████▎ | 1656/2000 [03:00<01:07,  5.12it/s]"
     ]
    },
    {
     "name": "stdout",
     "output_type": "stream",
     "text": [
      "Training_loss 0.01766,   Relative Error 0.05073\n",
      "Training_loss 0.01760,   Relative Error 0.05065\n"
     ]
    },
    {
     "name": "stderr",
     "output_type": "stream",
     "text": [
      " 83%|████████▎ | 1658/2000 [03:00<00:53,  6.38it/s]"
     ]
    },
    {
     "name": "stdout",
     "output_type": "stream",
     "text": [
      "Training_loss 0.01753,   Relative Error 0.05055\n",
      "Training_loss 0.01750,   Relative Error 0.05050\n"
     ]
    },
    {
     "name": "stderr",
     "output_type": "stream",
     "text": [
      " 83%|████████▎ | 1660/2000 [03:00<00:54,  6.21it/s]"
     ]
    },
    {
     "name": "stdout",
     "output_type": "stream",
     "text": [
      "Training_loss 0.01743,   Relative Error 0.05041\n",
      "Training_loss 0.01737,   Relative Error 0.05032\n"
     ]
    },
    {
     "name": "stderr",
     "output_type": "stream",
     "text": [
      " 83%|████████▎ | 1662/2000 [03:00<00:44,  7.65it/s]"
     ]
    },
    {
     "name": "stdout",
     "output_type": "stream",
     "text": [
      "Training_loss 0.01734,   Relative Error 0.05027\n",
      "Training_loss 0.01726,   Relative Error 0.05016\n",
      "Training_loss 0.01722,   Relative Error 0.05010\n"
     ]
    },
    {
     "name": "stderr",
     "output_type": "stream",
     "text": [
      " 83%|████████▎ | 1665/2000 [03:01<00:42,  7.92it/s]"
     ]
    },
    {
     "name": "stdout",
     "output_type": "stream",
     "text": [
      "Training_loss 0.01715,   Relative Error 0.05000\n",
      "Training_loss 0.01710,   Relative Error 0.04993\n",
      "Training_loss 0.01706,   Relative Error 0.04987\n"
     ]
    },
    {
     "name": "stderr",
     "output_type": "stream",
     "text": [
      " 83%|████████▎ | 1668/2000 [03:01<00:37,  8.87it/s]"
     ]
    },
    {
     "name": "stdout",
     "output_type": "stream",
     "text": [
      "Training_loss 0.01700,   Relative Error 0.04978\n",
      "Training_loss 0.01694,   Relative Error 0.04970\n"
     ]
    },
    {
     "name": "stderr",
     "output_type": "stream",
     "text": [
      " 84%|████████▎ | 1671/2000 [03:01<00:34,  9.52it/s]"
     ]
    },
    {
     "name": "stdout",
     "output_type": "stream",
     "text": [
      "Training_loss 0.01686,   Relative Error 0.04957\n",
      "Training_loss 0.01674,   Relative Error 0.04940\n",
      "Training_loss 0.01668,   Relative Error 0.04930\n"
     ]
    },
    {
     "name": "stderr",
     "output_type": "stream",
     "text": [
      " 84%|████████▎ | 1673/2000 [03:02<00:36,  8.90it/s]"
     ]
    },
    {
     "name": "stdout",
     "output_type": "stream",
     "text": [
      "Training_loss 0.01662,   Relative Error 0.04921\n",
      "Training_loss 0.01656,   Relative Error 0.04914\n"
     ]
    },
    {
     "name": "stderr",
     "output_type": "stream",
     "text": [
      " 84%|████████▍ | 1675/2000 [03:02<00:35,  9.23it/s]"
     ]
    },
    {
     "name": "stdout",
     "output_type": "stream",
     "text": [
      "Training_loss 0.01649,   Relative Error 0.04904\n",
      "Training_loss 0.01643,   Relative Error 0.04894\n"
     ]
    },
    {
     "name": "stderr",
     "output_type": "stream",
     "text": [
      " 84%|████████▍ | 1677/2000 [03:02<00:35,  9.21it/s]"
     ]
    },
    {
     "name": "stdout",
     "output_type": "stream",
     "text": [
      "Training_loss 0.01639,   Relative Error 0.04887\n",
      "Training_loss 0.01633,   Relative Error 0.04880\n"
     ]
    },
    {
     "name": "stderr",
     "output_type": "stream",
     "text": [
      " 84%|████████▍ | 1680/2000 [03:02<00:33,  9.62it/s]"
     ]
    },
    {
     "name": "stdout",
     "output_type": "stream",
     "text": [
      "Training_loss 0.01629,   Relative Error 0.04873\n",
      "Training_loss 0.01622,   Relative Error 0.04863\n",
      "Training_loss 0.01620,   Relative Error 0.04859\n"
     ]
    },
    {
     "name": "stderr",
     "output_type": "stream",
     "text": [
      " 84%|████████▍ | 1683/2000 [03:03<00:32,  9.87it/s]"
     ]
    },
    {
     "name": "stdout",
     "output_type": "stream",
     "text": [
      "Training_loss 0.01616,   Relative Error 0.04854\n",
      "Training_loss 0.01610,   Relative Error 0.04845\n",
      "Training_loss 0.01604,   Relative Error 0.04836\n"
     ]
    },
    {
     "name": "stderr",
     "output_type": "stream",
     "text": [
      "\r",
      " 84%|████████▍ | 1684/2000 [03:03<00:37,  8.32it/s]"
     ]
    },
    {
     "name": "stdout",
     "output_type": "stream",
     "text": [
      "Training_loss 0.01597,   Relative Error 0.04825\n",
      "Training_loss 0.01592,   Relative Error 0.04817\n"
     ]
    },
    {
     "name": "stderr",
     "output_type": "stream",
     "text": [
      " 84%|████████▍ | 1687/2000 [03:03<00:34,  8.96it/s]"
     ]
    },
    {
     "name": "stdout",
     "output_type": "stream",
     "text": [
      "Training_loss 0.01589,   Relative Error 0.04813\n",
      "Training_loss 0.01583,   Relative Error 0.04804\n",
      "Training_loss 0.01578,   Relative Error 0.04796\n"
     ]
    },
    {
     "name": "stderr",
     "output_type": "stream",
     "text": [
      " 84%|████████▍ | 1690/2000 [03:03<00:35,  8.76it/s]"
     ]
    },
    {
     "name": "stdout",
     "output_type": "stream",
     "text": [
      "Training_loss 0.01572,   Relative Error 0.04787\n",
      "Training_loss 0.01566,   Relative Error 0.04778\n"
     ]
    },
    {
     "name": "stderr",
     "output_type": "stream",
     "text": [
      " 85%|████████▍ | 1692/2000 [03:04<00:35,  8.64it/s]"
     ]
    },
    {
     "name": "stdout",
     "output_type": "stream",
     "text": [
      "Training_loss 0.01562,   Relative Error 0.04773\n",
      "Training_loss 0.01554,   Relative Error 0.04760\n"
     ]
    },
    {
     "name": "stderr",
     "output_type": "stream",
     "text": [
      " 85%|████████▍ | 1695/2000 [03:04<00:33,  9.18it/s]"
     ]
    },
    {
     "name": "stdout",
     "output_type": "stream",
     "text": [
      "Training_loss 0.01549,   Relative Error 0.04752\n",
      "Training_loss 0.01544,   Relative Error 0.04745\n",
      "Training_loss 0.01540,   Relative Error 0.04739\n"
     ]
    },
    {
     "name": "stderr",
     "output_type": "stream",
     "text": [
      " 85%|████████▍ | 1697/2000 [03:04<00:33,  8.96it/s]"
     ]
    },
    {
     "name": "stdout",
     "output_type": "stream",
     "text": [
      "Training_loss 0.01538,   Relative Error 0.04735\n",
      "Training_loss 0.01533,   Relative Error 0.04727\n"
     ]
    },
    {
     "name": "stderr",
     "output_type": "stream",
     "text": [
      " 85%|████████▍ | 1699/2000 [03:04<00:32,  9.14it/s]"
     ]
    },
    {
     "name": "stdout",
     "output_type": "stream",
     "text": [
      "Training_loss 0.01528,   Relative Error 0.04720\n",
      "Training_loss 0.01522,   Relative Error 0.04710\n"
     ]
    },
    {
     "name": "stderr",
     "output_type": "stream",
     "text": [
      " 85%|████████▌ | 1701/2000 [03:05<00:32,  9.27it/s]"
     ]
    },
    {
     "name": "stdout",
     "output_type": "stream",
     "text": [
      "Training_loss 0.01516,   Relative Error 0.04702\n",
      "Training_loss 0.01509,   Relative Error 0.04690\n"
     ]
    },
    {
     "name": "stderr",
     "output_type": "stream",
     "text": [
      " 85%|████████▌ | 1703/2000 [03:05<00:36,  8.14it/s]"
     ]
    },
    {
     "name": "stdout",
     "output_type": "stream",
     "text": [
      "Training_loss 0.01504,   Relative Error 0.04683\n",
      "Training_loss 0.01502,   Relative Error 0.04679\n"
     ]
    },
    {
     "name": "stderr",
     "output_type": "stream",
     "text": [
      " 85%|████████▌ | 1706/2000 [03:05<00:32,  9.14it/s]"
     ]
    },
    {
     "name": "stdout",
     "output_type": "stream",
     "text": [
      "Training_loss 0.01496,   Relative Error 0.04671\n",
      "Training_loss 0.01491,   Relative Error 0.04663\n",
      "Training_loss 0.01484,   Relative Error 0.04652\n"
     ]
    },
    {
     "name": "stderr",
     "output_type": "stream",
     "text": [
      " 85%|████████▌ | 1708/2000 [03:05<00:33,  8.82it/s]"
     ]
    },
    {
     "name": "stdout",
     "output_type": "stream",
     "text": [
      "Training_loss 0.01479,   Relative Error 0.04644\n",
      "Training_loss 0.01475,   Relative Error 0.04638\n"
     ]
    },
    {
     "name": "stderr",
     "output_type": "stream",
     "text": [
      " 86%|████████▌ | 1710/2000 [03:06<00:31,  9.16it/s]"
     ]
    },
    {
     "name": "stdout",
     "output_type": "stream",
     "text": [
      "Training_loss 0.01472,   Relative Error 0.04633\n",
      "Training_loss 0.01465,   Relative Error 0.04622\n",
      "Training_loss 0.01458,   Relative Error 0.04611\n"
     ]
    },
    {
     "name": "stderr",
     "output_type": "stream",
     "text": [
      " 86%|████████▌ | 1713/2000 [03:06<00:33,  8.69it/s]"
     ]
    },
    {
     "name": "stdout",
     "output_type": "stream",
     "text": [
      "Training_loss 0.01453,   Relative Error 0.04603\n",
      "Training_loss 0.01446,   Relative Error 0.04592\n"
     ]
    },
    {
     "name": "stderr",
     "output_type": "stream",
     "text": [
      " 86%|████████▌ | 1716/2000 [03:06<00:30,  9.42it/s]"
     ]
    },
    {
     "name": "stdout",
     "output_type": "stream",
     "text": [
      "Training_loss 0.01440,   Relative Error 0.04582\n",
      "Training_loss 0.01434,   Relative Error 0.04573\n",
      "Training_loss 0.01429,   Relative Error 0.04565\n"
     ]
    },
    {
     "name": "stderr",
     "output_type": "stream",
     "text": [
      " 86%|████████▌ | 1719/2000 [03:07<00:29,  9.55it/s]"
     ]
    },
    {
     "name": "stdout",
     "output_type": "stream",
     "text": [
      "Training_loss 0.01424,   Relative Error 0.04556\n",
      "Training_loss 0.01419,   Relative Error 0.04548\n",
      "Training_loss 0.01413,   Relative Error 0.04539\n"
     ]
    },
    {
     "name": "stderr",
     "output_type": "stream",
     "text": [
      " 86%|████████▌ | 1721/2000 [03:07<00:29,  9.40it/s]"
     ]
    },
    {
     "name": "stdout",
     "output_type": "stream",
     "text": [
      "Training_loss 0.01407,   Relative Error 0.04529\n",
      "Training_loss 0.01403,   Relative Error 0.04523\n"
     ]
    },
    {
     "name": "stderr",
     "output_type": "stream",
     "text": [
      " 86%|████████▌ | 1723/2000 [03:07<00:29,  9.48it/s]"
     ]
    },
    {
     "name": "stdout",
     "output_type": "stream",
     "text": [
      "Training_loss 0.01398,   Relative Error 0.04514\n",
      "Training_loss 0.01393,   Relative Error 0.04506\n"
     ]
    },
    {
     "name": "stderr",
     "output_type": "stream",
     "text": [
      " 86%|████████▋ | 1725/2000 [03:07<00:32,  8.55it/s]"
     ]
    },
    {
     "name": "stdout",
     "output_type": "stream",
     "text": [
      "Training_loss 0.01384,   Relative Error 0.04493\n",
      "Training_loss 0.01378,   Relative Error 0.04481\n"
     ]
    },
    {
     "name": "stderr",
     "output_type": "stream",
     "text": [
      " 86%|████████▋ | 1727/2000 [03:08<00:38,  7.01it/s]"
     ]
    },
    {
     "name": "stdout",
     "output_type": "stream",
     "text": [
      "Training_loss 0.01374,   Relative Error 0.04476\n",
      "Training_loss 0.01371,   Relative Error 0.04471\n"
     ]
    },
    {
     "name": "stderr",
     "output_type": "stream",
     "text": [
      " 86%|████████▋ | 1729/2000 [03:08<00:38,  7.07it/s]"
     ]
    },
    {
     "name": "stdout",
     "output_type": "stream",
     "text": [
      "Training_loss 0.01367,   Relative Error 0.04464\n",
      "Training_loss 0.01363,   Relative Error 0.04457\n"
     ]
    },
    {
     "name": "stderr",
     "output_type": "stream",
     "text": [
      " 87%|████████▋ | 1731/2000 [03:08<00:36,  7.42it/s]"
     ]
    },
    {
     "name": "stdout",
     "output_type": "stream",
     "text": [
      "Training_loss 0.01360,   Relative Error 0.04453\n",
      "Training_loss 0.01353,   Relative Error 0.04441\n"
     ]
    },
    {
     "name": "stderr",
     "output_type": "stream",
     "text": [
      " 87%|████████▋ | 1734/2000 [03:08<00:29,  8.93it/s]"
     ]
    },
    {
     "name": "stdout",
     "output_type": "stream",
     "text": [
      "Training_loss 0.01349,   Relative Error 0.04435\n",
      "Training_loss 0.01346,   Relative Error 0.04429\n",
      "Training_loss 0.01342,   Relative Error 0.04423\n"
     ]
    },
    {
     "name": "stderr",
     "output_type": "stream",
     "text": [
      " 87%|████████▋ | 1737/2000 [03:09<00:27,  9.43it/s]"
     ]
    },
    {
     "name": "stdout",
     "output_type": "stream",
     "text": [
      "Training_loss 0.01337,   Relative Error 0.04416\n",
      "Training_loss 0.01332,   Relative Error 0.04408\n",
      "Training_loss 0.01327,   Relative Error 0.04399\n"
     ]
    },
    {
     "name": "stderr",
     "output_type": "stream",
     "text": [
      " 87%|████████▋ | 1739/2000 [03:09<00:30,  8.66it/s]"
     ]
    },
    {
     "name": "stdout",
     "output_type": "stream",
     "text": [
      "Training_loss 0.01321,   Relative Error 0.04389\n",
      "Training_loss 0.01316,   Relative Error 0.04381\n"
     ]
    },
    {
     "name": "stderr",
     "output_type": "stream",
     "text": [
      "\r",
      " 87%|████████▋ | 1741/2000 [03:09<00:27,  9.47it/s]"
     ]
    },
    {
     "name": "stdout",
     "output_type": "stream",
     "text": [
      "Training_loss 0.01314,   Relative Error 0.04377\n",
      "Training_loss 0.01309,   Relative Error 0.04368\n",
      "Training_loss 0.01304,   Relative Error 0.04360\n"
     ]
    },
    {
     "name": "stderr",
     "output_type": "stream",
     "text": [
      " 87%|████████▋ | 1744/2000 [03:10<00:29,  8.81it/s]"
     ]
    },
    {
     "name": "stdout",
     "output_type": "stream",
     "text": [
      "Training_loss 0.01298,   Relative Error 0.04350\n",
      "Training_loss 0.01295,   Relative Error 0.04345\n"
     ]
    },
    {
     "name": "stderr",
     "output_type": "stream",
     "text": [
      " 87%|████████▋ | 1746/2000 [03:10<00:28,  8.77it/s]"
     ]
    },
    {
     "name": "stdout",
     "output_type": "stream",
     "text": [
      "Training_loss 0.01293,   Relative Error 0.04341\n",
      "Training_loss 0.01290,   Relative Error 0.04337\n"
     ]
    },
    {
     "name": "stderr",
     "output_type": "stream",
     "text": [
      " 87%|████████▋ | 1748/2000 [03:10<00:29,  8.45it/s]"
     ]
    },
    {
     "name": "stdout",
     "output_type": "stream",
     "text": [
      "Training_loss 0.01287,   Relative Error 0.04331\n",
      "Training_loss 0.01283,   Relative Error 0.04324\n"
     ]
    },
    {
     "name": "stderr",
     "output_type": "stream",
     "text": [
      " 88%|████████▊ | 1750/2000 [03:10<00:30,  8.09it/s]"
     ]
    },
    {
     "name": "stdout",
     "output_type": "stream",
     "text": [
      "Training_loss 0.01277,   Relative Error 0.04316\n",
      "Training_loss 0.01273,   Relative Error 0.04309\n"
     ]
    },
    {
     "name": "stderr",
     "output_type": "stream",
     "text": [
      " 88%|████████▊ | 1752/2000 [03:11<00:33,  7.45it/s]"
     ]
    },
    {
     "name": "stdout",
     "output_type": "stream",
     "text": [
      "Training_loss 0.01270,   Relative Error 0.04303\n",
      "Training_loss 0.01266,   Relative Error 0.04297\n"
     ]
    },
    {
     "name": "stderr",
     "output_type": "stream",
     "text": [
      "\r",
      " 88%|████████▊ | 1754/2000 [03:11<00:28,  8.51it/s]"
     ]
    },
    {
     "name": "stdout",
     "output_type": "stream",
     "text": [
      "Training_loss 0.01261,   Relative Error 0.04288\n",
      "Training_loss 0.01256,   Relative Error 0.04279\n",
      "Training_loss 0.01251,   Relative Error 0.04271\n"
     ]
    },
    {
     "name": "stderr",
     "output_type": "stream",
     "text": [
      " 88%|████████▊ | 1757/2000 [03:11<00:26,  9.17it/s]"
     ]
    },
    {
     "name": "stdout",
     "output_type": "stream",
     "text": [
      "Training_loss 0.01245,   Relative Error 0.04261\n",
      "Training_loss 0.01241,   Relative Error 0.04253\n"
     ]
    },
    {
     "name": "stderr",
     "output_type": "stream",
     "text": [
      " 88%|████████▊ | 1760/2000 [03:11<00:25,  9.43it/s]"
     ]
    },
    {
     "name": "stdout",
     "output_type": "stream",
     "text": [
      "Training_loss 0.01237,   Relative Error 0.04246\n",
      "Training_loss 0.01233,   Relative Error 0.04240\n",
      "Training_loss 0.01228,   Relative Error 0.04232\n"
     ]
    },
    {
     "name": "stderr",
     "output_type": "stream",
     "text": [
      " 88%|████████▊ | 1762/2000 [03:12<00:26,  8.90it/s]"
     ]
    },
    {
     "name": "stdout",
     "output_type": "stream",
     "text": [
      "Training_loss 0.01224,   Relative Error 0.04224\n",
      "Training_loss 0.01220,   Relative Error 0.04218\n"
     ]
    },
    {
     "name": "stderr",
     "output_type": "stream",
     "text": [
      " 88%|████████▊ | 1764/2000 [03:12<00:27,  8.52it/s]"
     ]
    },
    {
     "name": "stdout",
     "output_type": "stream",
     "text": [
      "Training_loss 0.01216,   Relative Error 0.04211\n",
      "Training_loss 0.01211,   Relative Error 0.04202\n"
     ]
    },
    {
     "name": "stderr",
     "output_type": "stream",
     "text": [
      " 88%|████████▊ | 1766/2000 [03:12<00:25,  9.01it/s]"
     ]
    },
    {
     "name": "stdout",
     "output_type": "stream",
     "text": [
      "Training_loss 0.01208,   Relative Error 0.04196\n",
      "Training_loss 0.01204,   Relative Error 0.04189\n"
     ]
    },
    {
     "name": "stderr",
     "output_type": "stream",
     "text": [
      " 88%|████████▊ | 1768/2000 [03:12<00:25,  9.21it/s]"
     ]
    },
    {
     "name": "stdout",
     "output_type": "stream",
     "text": [
      "Training_loss 0.01197,   Relative Error 0.04178\n",
      "Training_loss 0.01194,   Relative Error 0.04171\n"
     ]
    },
    {
     "name": "stderr",
     "output_type": "stream",
     "text": [
      " 88%|████████▊ | 1770/2000 [03:13<00:26,  8.81it/s]"
     ]
    },
    {
     "name": "stdout",
     "output_type": "stream",
     "text": [
      "Training_loss 0.01191,   Relative Error 0.04166\n",
      "Training_loss 0.01187,   Relative Error 0.04160\n"
     ]
    },
    {
     "name": "stderr",
     "output_type": "stream",
     "text": [
      "\r",
      " 89%|████████▊ | 1771/2000 [03:13<00:26,  8.65it/s]"
     ]
    },
    {
     "name": "stdout",
     "output_type": "stream",
     "text": [
      "Training_loss 0.01184,   Relative Error 0.04154\n",
      "Training_loss 0.01180,   Relative Error 0.04147\n"
     ]
    },
    {
     "name": "stderr",
     "output_type": "stream",
     "text": [
      " 89%|████████▊ | 1774/2000 [03:13<00:24,  9.37it/s]"
     ]
    },
    {
     "name": "stdout",
     "output_type": "stream",
     "text": [
      "Training_loss 0.01175,   Relative Error 0.04138\n",
      "Training_loss 0.01171,   Relative Error 0.04133\n",
      "Training_loss 0.01169,   Relative Error 0.04129\n"
     ]
    },
    {
     "name": "stderr",
     "output_type": "stream",
     "text": [
      " 89%|████████▉ | 1778/2000 [03:13<00:22,  9.98it/s]"
     ]
    },
    {
     "name": "stdout",
     "output_type": "stream",
     "text": [
      "Training_loss 0.01165,   Relative Error 0.04122\n",
      "Training_loss 0.01163,   Relative Error 0.04117\n",
      "Training_loss 0.01159,   Relative Error 0.04111\n"
     ]
    },
    {
     "name": "stderr",
     "output_type": "stream",
     "text": [
      "\r",
      " 89%|████████▉ | 1779/2000 [03:13<00:22,  9.96it/s]"
     ]
    },
    {
     "name": "stdout",
     "output_type": "stream",
     "text": [
      "Training_loss 0.01155,   Relative Error 0.04103\n",
      "Training_loss 0.01151,   Relative Error 0.04097\n"
     ]
    },
    {
     "name": "stderr",
     "output_type": "stream",
     "text": [
      " 89%|████████▉ | 1782/2000 [03:14<00:24,  8.92it/s]"
     ]
    },
    {
     "name": "stdout",
     "output_type": "stream",
     "text": [
      "Training_loss 0.01148,   Relative Error 0.04091\n",
      "Training_loss 0.01146,   Relative Error 0.04088\n"
     ]
    },
    {
     "name": "stderr",
     "output_type": "stream",
     "text": [
      " 89%|████████▉ | 1784/2000 [03:14<00:23,  9.20it/s]"
     ]
    },
    {
     "name": "stdout",
     "output_type": "stream",
     "text": [
      "Training_loss 0.01141,   Relative Error 0.04080\n",
      "Training_loss 0.01137,   Relative Error 0.04072\n"
     ]
    },
    {
     "name": "stderr",
     "output_type": "stream",
     "text": [
      " 89%|████████▉ | 1786/2000 [03:14<00:23,  9.00it/s]"
     ]
    },
    {
     "name": "stdout",
     "output_type": "stream",
     "text": [
      "Training_loss 0.01132,   Relative Error 0.04063\n",
      "Training_loss 0.01127,   Relative Error 0.04054\n",
      "Training_loss 0.01126,   Relative Error 0.04052\n"
     ]
    },
    {
     "name": "stderr",
     "output_type": "stream",
     "text": [
      " 89%|████████▉ | 1789/2000 [03:15<00:23,  8.82it/s]"
     ]
    },
    {
     "name": "stdout",
     "output_type": "stream",
     "text": [
      "Training_loss 0.01124,   Relative Error 0.04048\n",
      "Training_loss 0.01119,   Relative Error 0.04039\n"
     ]
    },
    {
     "name": "stderr",
     "output_type": "stream",
     "text": [
      " 90%|████████▉ | 1792/2000 [03:15<00:21,  9.58it/s]"
     ]
    },
    {
     "name": "stdout",
     "output_type": "stream",
     "text": [
      "Training_loss 0.01115,   Relative Error 0.04032\n",
      "Training_loss 0.01111,   Relative Error 0.04026\n",
      "Training_loss 0.01108,   Relative Error 0.04019\n"
     ]
    },
    {
     "name": "stderr",
     "output_type": "stream",
     "text": [
      " 90%|████████▉ | 1794/2000 [03:15<00:22,  9.06it/s]"
     ]
    },
    {
     "name": "stdout",
     "output_type": "stream",
     "text": [
      "Training_loss 0.01105,   Relative Error 0.04014\n",
      "Training_loss 0.01102,   Relative Error 0.04008\n"
     ]
    },
    {
     "name": "stderr",
     "output_type": "stream",
     "text": [
      "\r",
      " 90%|████████▉ | 1796/2000 [03:15<00:21,  9.66it/s]"
     ]
    },
    {
     "name": "stdout",
     "output_type": "stream",
     "text": [
      "Training_loss 0.01097,   Relative Error 0.04000\n",
      "Training_loss 0.01094,   Relative Error 0.03993\n",
      "Training_loss 0.01090,   Relative Error 0.03986\n"
     ]
    },
    {
     "name": "stderr",
     "output_type": "stream",
     "text": [
      " 90%|████████▉ | 1799/2000 [03:16<00:20,  9.65it/s]"
     ]
    },
    {
     "name": "stdout",
     "output_type": "stream",
     "text": [
      "Training_loss 0.01085,   Relative Error 0.03978\n",
      "Training_loss 0.01080,   Relative Error 0.03969\n"
     ]
    },
    {
     "name": "stderr",
     "output_type": "stream",
     "text": [
      " 90%|█████████ | 1801/2000 [03:16<00:22,  8.86it/s]"
     ]
    },
    {
     "name": "stdout",
     "output_type": "stream",
     "text": [
      "Training_loss 0.01076,   Relative Error 0.03961\n",
      "Training_loss 0.01071,   Relative Error 0.03951\n"
     ]
    },
    {
     "name": "stderr",
     "output_type": "stream",
     "text": [
      " 90%|█████████ | 1803/2000 [03:16<00:22,  8.87it/s]"
     ]
    },
    {
     "name": "stdout",
     "output_type": "stream",
     "text": [
      "Training_loss 0.01067,   Relative Error 0.03944\n",
      "Training_loss 0.01063,   Relative Error 0.03937\n"
     ]
    },
    {
     "name": "stderr",
     "output_type": "stream",
     "text": [
      " 90%|█████████ | 1806/2000 [03:16<00:19,  9.80it/s]"
     ]
    },
    {
     "name": "stdout",
     "output_type": "stream",
     "text": [
      "Training_loss 0.01060,   Relative Error 0.03931\n",
      "Training_loss 0.01056,   Relative Error 0.03924\n",
      "Training_loss 0.01053,   Relative Error 0.03918\n"
     ]
    },
    {
     "name": "stderr",
     "output_type": "stream",
     "text": [
      " 90%|█████████ | 1808/2000 [03:17<00:19,  9.73it/s]"
     ]
    },
    {
     "name": "stdout",
     "output_type": "stream",
     "text": [
      "Training_loss 0.01049,   Relative Error 0.03911\n",
      "Training_loss 0.01044,   Relative Error 0.03901\n"
     ]
    },
    {
     "name": "stderr",
     "output_type": "stream",
     "text": [
      " 90%|█████████ | 1810/2000 [03:17<00:21,  8.97it/s]"
     ]
    },
    {
     "name": "stdout",
     "output_type": "stream",
     "text": [
      "Training_loss 0.01042,   Relative Error 0.03898\n",
      "Training_loss 0.01038,   Relative Error 0.03891\n"
     ]
    },
    {
     "name": "stderr",
     "output_type": "stream",
     "text": [
      " 91%|█████████ | 1813/2000 [03:17<00:19,  9.60it/s]"
     ]
    },
    {
     "name": "stdout",
     "output_type": "stream",
     "text": [
      "Training_loss 0.01036,   Relative Error 0.03886\n",
      "Training_loss 0.01034,   Relative Error 0.03882\n",
      "Training_loss 0.01031,   Relative Error 0.03876\n"
     ]
    },
    {
     "name": "stderr",
     "output_type": "stream",
     "text": [
      " 91%|█████████ | 1816/2000 [03:17<00:19,  9.48it/s]"
     ]
    },
    {
     "name": "stdout",
     "output_type": "stream",
     "text": [
      "Training_loss 0.01025,   Relative Error 0.03865\n",
      "Training_loss 0.01021,   Relative Error 0.03859\n",
      "Training_loss 0.01016,   Relative Error 0.03848\n"
     ]
    },
    {
     "name": "stderr",
     "output_type": "stream",
     "text": [
      " 91%|█████████ | 1818/2000 [03:18<00:20,  9.02it/s]"
     ]
    },
    {
     "name": "stdout",
     "output_type": "stream",
     "text": [
      "Training_loss 0.01013,   Relative Error 0.03844\n",
      "Training_loss 0.01010,   Relative Error 0.03839\n",
      "Training_loss 0.01006,   Relative Error 0.03830\n"
     ]
    },
    {
     "name": "stderr",
     "output_type": "stream",
     "text": [
      " 91%|█████████ | 1821/2000 [03:18<00:18,  9.53it/s]"
     ]
    },
    {
     "name": "stdout",
     "output_type": "stream",
     "text": [
      "Training_loss 0.01003,   Relative Error 0.03825\n",
      "Training_loss 0.00998,   Relative Error 0.03814\n",
      "Training_loss 0.00993,   Relative Error 0.03806\n"
     ]
    },
    {
     "name": "stderr",
     "output_type": "stream",
     "text": [
      " 91%|█████████▏| 1825/2000 [03:18<00:17, 10.13it/s]"
     ]
    },
    {
     "name": "stdout",
     "output_type": "stream",
     "text": [
      "Training_loss 0.00989,   Relative Error 0.03798\n",
      "Training_loss 0.00986,   Relative Error 0.03792\n",
      "Training_loss 0.00982,   Relative Error 0.03785\n"
     ]
    },
    {
     "name": "stderr",
     "output_type": "stream",
     "text": [
      "\r",
      " 91%|█████████▏| 1827/2000 [03:19<00:17, 10.11it/s]"
     ]
    },
    {
     "name": "stdout",
     "output_type": "stream",
     "text": [
      "Training_loss 0.00980,   Relative Error 0.03780\n",
      "Training_loss 0.00977,   Relative Error 0.03775\n"
     ]
    },
    {
     "name": "stderr",
     "output_type": "stream",
     "text": [
      "\r",
      " 91%|█████████▏| 1829/2000 [03:19<00:20,  8.42it/s]"
     ]
    },
    {
     "name": "stdout",
     "output_type": "stream",
     "text": [
      "Training_loss 0.00975,   Relative Error 0.03770\n",
      "Training_loss 0.00972,   Relative Error 0.03764\n"
     ]
    },
    {
     "name": "stderr",
     "output_type": "stream",
     "text": [
      " 92%|█████████▏| 1831/2000 [03:19<00:19,  8.75it/s]"
     ]
    },
    {
     "name": "stdout",
     "output_type": "stream",
     "text": [
      "Training_loss 0.00967,   Relative Error 0.03755\n",
      "Training_loss 0.00964,   Relative Error 0.03750\n",
      "Training_loss 0.00962,   Relative Error 0.03746\n"
     ]
    },
    {
     "name": "stderr",
     "output_type": "stream",
     "text": [
      " 92%|█████████▏| 1835/2000 [03:19<00:16,  9.74it/s]"
     ]
    },
    {
     "name": "stdout",
     "output_type": "stream",
     "text": [
      "Training_loss 0.00958,   Relative Error 0.03738\n",
      "Training_loss 0.00954,   Relative Error 0.03729\n",
      "Training_loss 0.00950,   Relative Error 0.03722\n"
     ]
    },
    {
     "name": "stderr",
     "output_type": "stream",
     "text": [
      "\r",
      " 92%|█████████▏| 1837/2000 [03:20<00:16, 10.02it/s]"
     ]
    },
    {
     "name": "stdout",
     "output_type": "stream",
     "text": [
      "Training_loss 0.00947,   Relative Error 0.03716\n",
      "Training_loss 0.00944,   Relative Error 0.03710\n",
      "Training_loss 0.00940,   Relative Error 0.03703\n"
     ]
    },
    {
     "name": "stderr",
     "output_type": "stream",
     "text": [
      " 92%|█████████▏| 1840/2000 [03:20<00:16,  9.54it/s]"
     ]
    },
    {
     "name": "stdout",
     "output_type": "stream",
     "text": [
      "Training_loss 0.00936,   Relative Error 0.03694\n",
      "Training_loss 0.00934,   Relative Error 0.03691\n",
      "Training_loss 0.00930,   Relative Error 0.03683\n"
     ]
    },
    {
     "name": "stderr",
     "output_type": "stream",
     "text": [
      " 92%|█████████▏| 1844/2000 [03:20<00:15, 10.12it/s]"
     ]
    },
    {
     "name": "stdout",
     "output_type": "stream",
     "text": [
      "Training_loss 0.00927,   Relative Error 0.03677\n",
      "Training_loss 0.00924,   Relative Error 0.03671\n",
      "Training_loss 0.00921,   Relative Error 0.03664\n"
     ]
    },
    {
     "name": "stderr",
     "output_type": "stream",
     "text": [
      "\r",
      " 92%|█████████▏| 1846/2000 [03:21<00:15, 10.26it/s]"
     ]
    },
    {
     "name": "stdout",
     "output_type": "stream",
     "text": [
      "Training_loss 0.00917,   Relative Error 0.03656\n",
      "Training_loss 0.00914,   Relative Error 0.03650\n",
      "Training_loss 0.00911,   Relative Error 0.03644\n"
     ]
    },
    {
     "name": "stderr",
     "output_type": "stream",
     "text": [
      "\r",
      " 92%|█████████▏| 1848/2000 [03:21<00:14, 10.18it/s]"
     ]
    },
    {
     "name": "stdout",
     "output_type": "stream",
     "text": [
      "Training_loss 0.00908,   Relative Error 0.03639\n",
      "Training_loss 0.00905,   Relative Error 0.03633\n"
     ]
    },
    {
     "name": "stderr",
     "output_type": "stream",
     "text": [
      " 93%|█████████▎| 1851/2000 [03:21<00:15,  9.42it/s]"
     ]
    },
    {
     "name": "stdout",
     "output_type": "stream",
     "text": [
      "Training_loss 0.00902,   Relative Error 0.03627\n",
      "Training_loss 0.00897,   Relative Error 0.03617\n"
     ]
    },
    {
     "name": "stderr",
     "output_type": "stream",
     "text": [
      "\r",
      " 93%|█████████▎| 1853/2000 [03:21<00:15,  9.79it/s]"
     ]
    },
    {
     "name": "stdout",
     "output_type": "stream",
     "text": [
      "Training_loss 0.00893,   Relative Error 0.03609\n",
      "Training_loss 0.00891,   Relative Error 0.03604\n",
      "Training_loss 0.00887,   Relative Error 0.03597\n"
     ]
    },
    {
     "name": "stderr",
     "output_type": "stream",
     "text": [
      " 93%|█████████▎| 1857/2000 [03:22<00:14, 10.21it/s]"
     ]
    },
    {
     "name": "stdout",
     "output_type": "stream",
     "text": [
      "Training_loss 0.00883,   Relative Error 0.03588\n",
      "Training_loss 0.00880,   Relative Error 0.03584\n",
      "Training_loss 0.00876,   Relative Error 0.03575\n"
     ]
    },
    {
     "name": "stderr",
     "output_type": "stream",
     "text": [
      "\r",
      " 93%|█████████▎| 1859/2000 [03:22<00:13, 10.26it/s]"
     ]
    },
    {
     "name": "stdout",
     "output_type": "stream",
     "text": [
      "Training_loss 0.00873,   Relative Error 0.03568\n",
      "Training_loss 0.00869,   Relative Error 0.03560\n",
      "Training_loss 0.00866,   Relative Error 0.03553\n"
     ]
    },
    {
     "name": "stderr",
     "output_type": "stream",
     "text": [
      " 93%|█████████▎| 1863/2000 [03:22<00:13, 10.51it/s]"
     ]
    },
    {
     "name": "stdout",
     "output_type": "stream",
     "text": [
      "Training_loss 0.00863,   Relative Error 0.03548\n",
      "Training_loss 0.00861,   Relative Error 0.03543\n",
      "Training_loss 0.00858,   Relative Error 0.03538\n"
     ]
    },
    {
     "name": "stderr",
     "output_type": "stream",
     "text": [
      "\r",
      " 93%|█████████▎| 1865/2000 [03:22<00:12, 10.52it/s]"
     ]
    },
    {
     "name": "stdout",
     "output_type": "stream",
     "text": [
      "Training_loss 0.00855,   Relative Error 0.03531\n",
      "Training_loss 0.00851,   Relative Error 0.03523\n"
     ]
    },
    {
     "name": "stderr",
     "output_type": "stream",
     "text": [
      "\r",
      " 93%|█████████▎| 1867/2000 [03:23<00:13, 10.16it/s]"
     ]
    },
    {
     "name": "stdout",
     "output_type": "stream",
     "text": [
      "Training_loss 0.00848,   Relative Error 0.03517\n",
      "Training_loss 0.00845,   Relative Error 0.03510\n",
      "Training_loss 0.00841,   Relative Error 0.03502\n"
     ]
    },
    {
     "name": "stderr",
     "output_type": "stream",
     "text": [
      " 94%|█████████▎| 1871/2000 [03:23<00:12, 10.07it/s]"
     ]
    },
    {
     "name": "stdout",
     "output_type": "stream",
     "text": [
      "Training_loss 0.00839,   Relative Error 0.03497\n",
      "Training_loss 0.00834,   Relative Error 0.03489\n",
      "Training_loss 0.00832,   Relative Error 0.03483\n"
     ]
    },
    {
     "name": "stderr",
     "output_type": "stream",
     "text": [
      "\r",
      " 94%|█████████▎| 1873/2000 [03:23<00:14,  8.93it/s]"
     ]
    },
    {
     "name": "stdout",
     "output_type": "stream",
     "text": [
      "Training_loss 0.00828,   Relative Error 0.03474\n",
      "Training_loss 0.00825,   Relative Error 0.03469\n",
      "Training_loss 0.00822,   Relative Error 0.03462\n"
     ]
    },
    {
     "name": "stderr",
     "output_type": "stream",
     "text": [
      " 94%|█████████▍| 1877/2000 [03:24<00:12,  9.73it/s]"
     ]
    },
    {
     "name": "stdout",
     "output_type": "stream",
     "text": [
      "Training_loss 0.00818,   Relative Error 0.03454\n",
      "Training_loss 0.00814,   Relative Error 0.03446\n",
      "Training_loss 0.00812,   Relative Error 0.03441\n"
     ]
    },
    {
     "name": "stderr",
     "output_type": "stream",
     "text": [
      " 94%|█████████▍| 1879/2000 [03:24<00:13,  8.96it/s]"
     ]
    },
    {
     "name": "stdout",
     "output_type": "stream",
     "text": [
      "Training_loss 0.00808,   Relative Error 0.03432\n",
      "Training_loss 0.00804,   Relative Error 0.03425\n"
     ]
    },
    {
     "name": "stderr",
     "output_type": "stream",
     "text": [
      " 94%|█████████▍| 1882/2000 [03:24<00:12,  9.28it/s]"
     ]
    },
    {
     "name": "stdout",
     "output_type": "stream",
     "text": [
      "Training_loss 0.00801,   Relative Error 0.03419\n",
      "Training_loss 0.00799,   Relative Error 0.03414\n",
      "Training_loss 0.00796,   Relative Error 0.03407\n"
     ]
    },
    {
     "name": "stderr",
     "output_type": "stream",
     "text": [
      " 94%|█████████▍| 1884/2000 [03:24<00:12,  9.31it/s]"
     ]
    },
    {
     "name": "stdout",
     "output_type": "stream",
     "text": [
      "Training_loss 0.00794,   Relative Error 0.03402\n",
      "Training_loss 0.00791,   Relative Error 0.03396\n",
      "Training_loss 0.00788,   Relative Error 0.03390\n"
     ]
    },
    {
     "name": "stderr",
     "output_type": "stream",
     "text": [
      " 94%|█████████▍| 1888/2000 [03:25<00:12,  9.26it/s]"
     ]
    },
    {
     "name": "stdout",
     "output_type": "stream",
     "text": [
      "Training_loss 0.00786,   Relative Error 0.03386\n",
      "Training_loss 0.00783,   Relative Error 0.03380\n",
      "Training_loss 0.00780,   Relative Error 0.03373\n"
     ]
    },
    {
     "name": "stderr",
     "output_type": "stream",
     "text": [
      " 94%|█████████▍| 1890/2000 [03:25<00:11,  9.41it/s]"
     ]
    },
    {
     "name": "stdout",
     "output_type": "stream",
     "text": [
      "Training_loss 0.00778,   Relative Error 0.03369\n",
      "Training_loss 0.00775,   Relative Error 0.03363\n",
      "Training_loss 0.00774,   Relative Error 0.03359\n"
     ]
    },
    {
     "name": "stderr",
     "output_type": "stream",
     "text": [
      " 95%|█████████▍| 1893/2000 [03:25<00:11,  9.02it/s]"
     ]
    },
    {
     "name": "stdout",
     "output_type": "stream",
     "text": [
      "Training_loss 0.00771,   Relative Error 0.03353\n",
      "Training_loss 0.00768,   Relative Error 0.03347\n"
     ]
    },
    {
     "name": "stderr",
     "output_type": "stream",
     "text": [
      "\r",
      " 95%|█████████▍| 1895/2000 [03:26<00:10,  9.55it/s]"
     ]
    },
    {
     "name": "stdout",
     "output_type": "stream",
     "text": [
      "Training_loss 0.00766,   Relative Error 0.03342\n",
      "Training_loss 0.00763,   Relative Error 0.03337\n",
      "Training_loss 0.00760,   Relative Error 0.03329\n"
     ]
    },
    {
     "name": "stderr",
     "output_type": "stream",
     "text": [
      "\r",
      " 95%|█████████▍| 1897/2000 [03:26<00:10,  9.81it/s]"
     ]
    },
    {
     "name": "stdout",
     "output_type": "stream",
     "text": [
      "Training_loss 0.00758,   Relative Error 0.03325\n",
      "Training_loss 0.00755,   Relative Error 0.03318\n"
     ]
    },
    {
     "name": "stderr",
     "output_type": "stream",
     "text": [
      " 95%|█████████▌| 1900/2000 [03:26<00:10,  9.62it/s]"
     ]
    },
    {
     "name": "stdout",
     "output_type": "stream",
     "text": [
      "Training_loss 0.00751,   Relative Error 0.03309\n",
      "Training_loss 0.00749,   Relative Error 0.03305\n"
     ]
    },
    {
     "name": "stderr",
     "output_type": "stream",
     "text": [
      " 95%|█████████▌| 1903/2000 [03:26<00:09,  9.72it/s]"
     ]
    },
    {
     "name": "stdout",
     "output_type": "stream",
     "text": [
      "Training_loss 0.00746,   Relative Error 0.03299\n",
      "Training_loss 0.00742,   Relative Error 0.03291\n",
      "Training_loss 0.00740,   Relative Error 0.03284\n"
     ]
    },
    {
     "name": "stderr",
     "output_type": "stream",
     "text": [
      " 95%|█████████▌| 1906/2000 [03:27<00:09, 10.06it/s]"
     ]
    },
    {
     "name": "stdout",
     "output_type": "stream",
     "text": [
      "Training_loss 0.00737,   Relative Error 0.03279\n",
      "Training_loss 0.00734,   Relative Error 0.03272\n",
      "Training_loss 0.00732,   Relative Error 0.03268\n"
     ]
    },
    {
     "name": "stderr",
     "output_type": "stream",
     "text": [
      " 95%|█████████▌| 1908/2000 [03:27<00:09,  9.67it/s]"
     ]
    },
    {
     "name": "stdout",
     "output_type": "stream",
     "text": [
      "Training_loss 0.00728,   Relative Error 0.03259\n",
      "Training_loss 0.00724,   Relative Error 0.03250\n"
     ]
    },
    {
     "name": "stderr",
     "output_type": "stream",
     "text": [
      "\r",
      " 96%|█████████▌| 1910/2000 [03:27<00:09,  9.69it/s]"
     ]
    },
    {
     "name": "stdout",
     "output_type": "stream",
     "text": [
      "Training_loss 0.00722,   Relative Error 0.03244\n",
      "Training_loss 0.00720,   Relative Error 0.03241\n",
      "Training_loss 0.00718,   Relative Error 0.03235\n"
     ]
    },
    {
     "name": "stderr",
     "output_type": "stream",
     "text": [
      " 96%|█████████▌| 1913/2000 [03:28<00:09,  9.07it/s]"
     ]
    },
    {
     "name": "stdout",
     "output_type": "stream",
     "text": [
      "Training_loss 0.00716,   Relative Error 0.03231\n",
      "Training_loss 0.00713,   Relative Error 0.03225\n"
     ]
    },
    {
     "name": "stderr",
     "output_type": "stream",
     "text": [
      "\r",
      " 96%|█████████▌| 1915/2000 [03:28<00:08,  9.45it/s]"
     ]
    },
    {
     "name": "stdout",
     "output_type": "stream",
     "text": [
      "Training_loss 0.00710,   Relative Error 0.03218\n",
      "Training_loss 0.00708,   Relative Error 0.03214\n"
     ]
    },
    {
     "name": "stderr",
     "output_type": "stream",
     "text": [
      "\r",
      " 96%|█████████▌| 1917/2000 [03:28<00:08,  9.33it/s]"
     ]
    },
    {
     "name": "stdout",
     "output_type": "stream",
     "text": [
      "Training_loss 0.00705,   Relative Error 0.03207\n",
      "Training_loss 0.00703,   Relative Error 0.03203\n"
     ]
    },
    {
     "name": "stderr",
     "output_type": "stream",
     "text": [
      " 96%|█████████▌| 1919/2000 [03:28<00:10,  7.85it/s]"
     ]
    },
    {
     "name": "stdout",
     "output_type": "stream",
     "text": [
      "Training_loss 0.00701,   Relative Error 0.03197\n",
      "Training_loss 0.00698,   Relative Error 0.03191\n"
     ]
    },
    {
     "name": "stderr",
     "output_type": "stream",
     "text": [
      " 96%|█████████▌| 1921/2000 [03:29<00:09,  8.11it/s]"
     ]
    },
    {
     "name": "stdout",
     "output_type": "stream",
     "text": [
      "Training_loss 0.00695,   Relative Error 0.03185\n",
      "Training_loss 0.00692,   Relative Error 0.03178\n",
      "Training_loss 0.00690,   Relative Error 0.03172\n"
     ]
    },
    {
     "name": "stderr",
     "output_type": "stream",
     "text": [
      "\r",
      " 96%|█████████▌| 1923/2000 [03:29<00:08,  8.88it/s]"
     ]
    },
    {
     "name": "stdout",
     "output_type": "stream",
     "text": [
      "Training_loss 0.00686,   Relative Error 0.03164\n",
      "Training_loss 0.00685,   Relative Error 0.03161\n"
     ]
    },
    {
     "name": "stderr",
     "output_type": "stream",
     "text": [
      " 96%|█████████▋| 1927/2000 [03:29<00:07,  9.17it/s]"
     ]
    },
    {
     "name": "stdout",
     "output_type": "stream",
     "text": [
      "Training_loss 0.00682,   Relative Error 0.03155\n",
      "Training_loss 0.00681,   Relative Error 0.03151\n",
      "Training_loss 0.00678,   Relative Error 0.03144\n"
     ]
    },
    {
     "name": "stderr",
     "output_type": "stream",
     "text": [
      " 96%|█████████▋| 1930/2000 [03:29<00:07,  9.75it/s]"
     ]
    },
    {
     "name": "stdout",
     "output_type": "stream",
     "text": [
      "Training_loss 0.00675,   Relative Error 0.03139\n",
      "Training_loss 0.00672,   Relative Error 0.03131\n",
      "Training_loss 0.00670,   Relative Error 0.03126\n"
     ]
    },
    {
     "name": "stderr",
     "output_type": "stream",
     "text": [
      " 97%|█████████▋| 1932/2000 [03:30<00:07,  8.56it/s]"
     ]
    },
    {
     "name": "stdout",
     "output_type": "stream",
     "text": [
      "Training_loss 0.00667,   Relative Error 0.03119\n",
      "Training_loss 0.00666,   Relative Error 0.03116\n"
     ]
    },
    {
     "name": "stderr",
     "output_type": "stream",
     "text": [
      " 97%|█████████▋| 1934/2000 [03:30<00:07,  8.95it/s]"
     ]
    },
    {
     "name": "stdout",
     "output_type": "stream",
     "text": [
      "Training_loss 0.00663,   Relative Error 0.03110\n",
      "Training_loss 0.00660,   Relative Error 0.03104\n",
      "Training_loss 0.00658,   Relative Error 0.03099\n"
     ]
    },
    {
     "name": "stderr",
     "output_type": "stream",
     "text": [
      " 97%|█████████▋| 1937/2000 [03:30<00:06,  9.40it/s]"
     ]
    },
    {
     "name": "stdout",
     "output_type": "stream",
     "text": [
      "Training_loss 0.00656,   Relative Error 0.03093\n",
      "Training_loss 0.00655,   Relative Error 0.03090\n"
     ]
    },
    {
     "name": "stderr",
     "output_type": "stream",
     "text": [
      " 97%|█████████▋| 1940/2000 [03:31<00:06,  9.97it/s]"
     ]
    },
    {
     "name": "stdout",
     "output_type": "stream",
     "text": [
      "Training_loss 0.00651,   Relative Error 0.03081\n",
      "Training_loss 0.00647,   Relative Error 0.03072\n",
      "Training_loss 0.00645,   Relative Error 0.03067\n"
     ]
    },
    {
     "name": "stderr",
     "output_type": "stream",
     "text": [
      " 97%|█████████▋| 1942/2000 [03:31<00:06,  9.63it/s]"
     ]
    },
    {
     "name": "stdout",
     "output_type": "stream",
     "text": [
      "Training_loss 0.00641,   Relative Error 0.03059\n",
      "Training_loss 0.00639,   Relative Error 0.03053\n"
     ]
    },
    {
     "name": "stderr",
     "output_type": "stream",
     "text": [
      " 97%|█████████▋| 1944/2000 [03:31<00:05,  9.57it/s]"
     ]
    },
    {
     "name": "stdout",
     "output_type": "stream",
     "text": [
      "Training_loss 0.00636,   Relative Error 0.03047\n",
      "Training_loss 0.00634,   Relative Error 0.03042\n",
      "Training_loss 0.00633,   Relative Error 0.03038\n"
     ]
    },
    {
     "name": "stderr",
     "output_type": "stream",
     "text": [
      "\r",
      " 97%|█████████▋| 1946/2000 [03:31<00:06,  8.47it/s]"
     ]
    },
    {
     "name": "stdout",
     "output_type": "stream",
     "text": [
      "Training_loss 0.00631,   Relative Error 0.03034\n"
     ]
    },
    {
     "name": "stderr",
     "output_type": "stream",
     "text": [
      " 97%|█████████▋| 1948/2000 [03:32<00:07,  6.56it/s]"
     ]
    },
    {
     "name": "stdout",
     "output_type": "stream",
     "text": [
      "Training_loss 0.00629,   Relative Error 0.03029\n",
      "Training_loss 0.00627,   Relative Error 0.03024\n"
     ]
    },
    {
     "name": "stderr",
     "output_type": "stream",
     "text": [
      " 98%|█████████▊| 1950/2000 [03:32<00:07,  6.77it/s]"
     ]
    },
    {
     "name": "stdout",
     "output_type": "stream",
     "text": [
      "Training_loss 0.00623,   Relative Error 0.03016\n",
      "Training_loss 0.00622,   Relative Error 0.03011\n",
      "Training_loss 0.00620,   Relative Error 0.03007\n"
     ]
    },
    {
     "name": "stderr",
     "output_type": "stream",
     "text": [
      " 98%|█████████▊| 1954/2000 [03:32<00:04, 10.10it/s]"
     ]
    },
    {
     "name": "stdout",
     "output_type": "stream",
     "text": [
      "Training_loss 0.00617,   Relative Error 0.03000\n",
      "Training_loss 0.00616,   Relative Error 0.02997\n",
      "Training_loss 0.00613,   Relative Error 0.02991\n"
     ]
    },
    {
     "name": "stderr",
     "output_type": "stream",
     "text": [
      "\r",
      " 98%|█████████▊| 1956/2000 [03:32<00:04, 10.26it/s]"
     ]
    },
    {
     "name": "stdout",
     "output_type": "stream",
     "text": [
      "Training_loss 0.00610,   Relative Error 0.02983\n",
      "Training_loss 0.00607,   Relative Error 0.02976\n",
      "Training_loss 0.00605,   Relative Error 0.02971\n"
     ]
    },
    {
     "name": "stderr",
     "output_type": "stream",
     "text": [
      "\r",
      " 98%|█████████▊| 1958/2000 [03:33<00:03, 11.28it/s]"
     ]
    },
    {
     "name": "stdout",
     "output_type": "stream",
     "text": [
      "Training_loss 0.00602,   Relative Error 0.02963\n",
      "Training_loss 0.00601,   Relative Error 0.02960\n"
     ]
    },
    {
     "name": "stderr",
     "output_type": "stream",
     "text": [
      " 98%|█████████▊| 1962/2000 [03:33<00:03,  9.84it/s]"
     ]
    },
    {
     "name": "stdout",
     "output_type": "stream",
     "text": [
      "Training_loss 0.00599,   Relative Error 0.02956\n",
      "Training_loss 0.00597,   Relative Error 0.02950\n",
      "Training_loss 0.00593,   Relative Error 0.02942\n",
      "Training_loss 0.00591,   Relative Error 0.02935\n"
     ]
    },
    {
     "name": "stderr",
     "output_type": "stream",
     "text": [
      "\r",
      " 98%|█████████▊| 1964/2000 [03:33<00:04,  7.81it/s]"
     ]
    },
    {
     "name": "stdout",
     "output_type": "stream",
     "text": [
      "Training_loss 0.00589,   Relative Error 0.02931\n"
     ]
    },
    {
     "name": "stderr",
     "output_type": "stream",
     "text": [
      " 98%|█████████▊| 1966/2000 [03:34<00:05,  6.10it/s]"
     ]
    },
    {
     "name": "stdout",
     "output_type": "stream",
     "text": [
      "Training_loss 0.00588,   Relative Error 0.02928\n",
      "Training_loss 0.00586,   Relative Error 0.02923\n"
     ]
    },
    {
     "name": "stderr",
     "output_type": "stream",
     "text": [
      " 98%|█████████▊| 1968/2000 [03:34<00:04,  6.54it/s]"
     ]
    },
    {
     "name": "stdout",
     "output_type": "stream",
     "text": [
      "Training_loss 0.00584,   Relative Error 0.02918\n",
      "Training_loss 0.00582,   Relative Error 0.02913\n"
     ]
    },
    {
     "name": "stderr",
     "output_type": "stream",
     "text": [
      " 98%|█████████▊| 1970/2000 [03:34<00:04,  7.14it/s]"
     ]
    },
    {
     "name": "stdout",
     "output_type": "stream",
     "text": [
      "Training_loss 0.00580,   Relative Error 0.02909\n",
      "Training_loss 0.00578,   Relative Error 0.02904\n"
     ]
    },
    {
     "name": "stderr",
     "output_type": "stream",
     "text": [
      " 99%|█████████▊| 1972/2000 [03:35<00:03,  7.36it/s]"
     ]
    },
    {
     "name": "stdout",
     "output_type": "stream",
     "text": [
      "Training_loss 0.00577,   Relative Error 0.02902\n",
      "Training_loss 0.00576,   Relative Error 0.02897\n"
     ]
    },
    {
     "name": "stderr",
     "output_type": "stream",
     "text": [
      " 99%|█████████▊| 1974/2000 [03:35<00:03,  7.31it/s]"
     ]
    },
    {
     "name": "stdout",
     "output_type": "stream",
     "text": [
      "Training_loss 0.00574,   Relative Error 0.02894\n",
      "Training_loss 0.00572,   Relative Error 0.02889\n"
     ]
    },
    {
     "name": "stderr",
     "output_type": "stream",
     "text": [
      " 99%|█████████▉| 1976/2000 [03:35<00:03,  6.92it/s]"
     ]
    },
    {
     "name": "stdout",
     "output_type": "stream",
     "text": [
      "Training_loss 0.00571,   Relative Error 0.02885\n",
      "Training_loss 0.00569,   Relative Error 0.02880\n"
     ]
    },
    {
     "name": "stderr",
     "output_type": "stream",
     "text": [
      " 99%|█████████▉| 1978/2000 [03:36<00:02,  7.53it/s]"
     ]
    },
    {
     "name": "stdout",
     "output_type": "stream",
     "text": [
      "Training_loss 0.00566,   Relative Error 0.02874\n",
      "Training_loss 0.00564,   Relative Error 0.02868\n"
     ]
    },
    {
     "name": "stderr",
     "output_type": "stream",
     "text": [
      " 99%|█████████▉| 1980/2000 [03:36<00:02,  8.19it/s]"
     ]
    },
    {
     "name": "stdout",
     "output_type": "stream",
     "text": [
      "Training_loss 0.00562,   Relative Error 0.02863\n",
      "Training_loss 0.00559,   Relative Error 0.02856\n"
     ]
    },
    {
     "name": "stderr",
     "output_type": "stream",
     "text": [
      " 99%|█████████▉| 1982/2000 [03:36<00:02,  8.07it/s]"
     ]
    },
    {
     "name": "stdout",
     "output_type": "stream",
     "text": [
      "Training_loss 0.00557,   Relative Error 0.02851\n",
      "Training_loss 0.00555,   Relative Error 0.02846\n"
     ]
    },
    {
     "name": "stderr",
     "output_type": "stream",
     "text": [
      " 99%|█████████▉| 1984/2000 [03:36<00:02,  6.14it/s]"
     ]
    },
    {
     "name": "stdout",
     "output_type": "stream",
     "text": [
      "Training_loss 0.00553,   Relative Error 0.02841\n",
      "Training_loss 0.00550,   Relative Error 0.02833\n"
     ]
    },
    {
     "name": "stderr",
     "output_type": "stream",
     "text": [
      " 99%|█████████▉| 1986/2000 [03:37<00:01,  7.45it/s]"
     ]
    },
    {
     "name": "stdout",
     "output_type": "stream",
     "text": [
      "Training_loss 0.00548,   Relative Error 0.02828\n",
      "Training_loss 0.00546,   Relative Error 0.02821\n"
     ]
    },
    {
     "name": "stderr",
     "output_type": "stream",
     "text": [
      " 99%|█████████▉| 1988/2000 [03:37<00:01,  8.22it/s]"
     ]
    },
    {
     "name": "stdout",
     "output_type": "stream",
     "text": [
      "Training_loss 0.00544,   Relative Error 0.02816\n",
      "Training_loss 0.00541,   Relative Error 0.02809\n"
     ]
    },
    {
     "name": "stderr",
     "output_type": "stream",
     "text": [
      "100%|█████████▉| 1990/2000 [03:37<00:01,  8.41it/s]"
     ]
    },
    {
     "name": "stdout",
     "output_type": "stream",
     "text": [
      "Training_loss 0.00539,   Relative Error 0.02805\n",
      "Training_loss 0.00537,   Relative Error 0.02800\n",
      "Training_loss 0.00535,   Relative Error 0.02795\n"
     ]
    },
    {
     "name": "stderr",
     "output_type": "stream",
     "text": [
      "100%|█████████▉| 1993/2000 [03:37<00:00,  9.42it/s]"
     ]
    },
    {
     "name": "stdout",
     "output_type": "stream",
     "text": [
      "Training_loss 0.00534,   Relative Error 0.02790\n",
      "Training_loss 0.00532,   Relative Error 0.02786\n"
     ]
    },
    {
     "name": "stderr",
     "output_type": "stream",
     "text": [
      "100%|█████████▉| 1995/2000 [03:38<00:00,  9.36it/s]"
     ]
    },
    {
     "name": "stdout",
     "output_type": "stream",
     "text": [
      "Training_loss 0.00531,   Relative Error 0.02784\n",
      "Training_loss 0.00530,   Relative Error 0.02779\n"
     ]
    },
    {
     "name": "stderr",
     "output_type": "stream",
     "text": [
      "100%|█████████▉| 1997/2000 [03:38<00:00,  9.43it/s]"
     ]
    },
    {
     "name": "stdout",
     "output_type": "stream",
     "text": [
      "Training_loss 0.00528,   Relative Error 0.02775\n",
      "Training_loss 0.00525,   Relative Error 0.02767\n"
     ]
    },
    {
     "name": "stderr",
     "output_type": "stream",
     "text": [
      "100%|██████████| 2000/2000 [03:38<00:00,  9.44it/s]"
     ]
    },
    {
     "name": "stdout",
     "output_type": "stream",
     "text": [
      "Training_loss 0.00522,   Relative Error 0.02760\n",
      "Training_loss 0.00520,   Relative Error 0.02755\n",
      "Training_loss 0.00518,   Relative Error 0.02749\n"
     ]
    },
    {
     "name": "stderr",
     "output_type": "stream",
     "text": [
      "100%|██████████| 2000/2000 [03:38<00:00,  9.15it/s]\n"
     ]
    }
   ],
   "source": [
    "#global_model = CNN_Net().cuda()\n",
    "models = [MLP_Net(user_id=i) for i in range(no_users)]\n",
    "dummy_models = [MLP_Net(user_id=i) for i in range(no_users)]\n",
    "\n",
    "#model.load_state_dict(global_model.state_dict())\n",
    "\n",
    "criterion = nn.MSELoss()\n",
    "\n",
    "\n",
    "train_loss = []\n",
    "test_loss = []\n",
    "test_accuracy = []\n",
    "total_rel_error = []\n",
    "\n",
    "for curr_round in tqdm(range(1, it+1)):\n",
    "    w, local_loss = [], []\n",
    "\n",
    "    \n",
    "    for i in range(no_users):\n",
    "        dummy_models[i].load_state_dict(models[i].state_dict())\n",
    "        local_update = ClientUpdate(dataset=datapoints[i], batchSize=batch_size, alpha=alpha, lamda=lamda, epochs=1, projection_list=projection_list, projected_weights=projected_weights)\n",
    "        weights, loss = local_update.train(dummy_models[i])\n",
    "        w.append(weights)\n",
    "        local_loss.append(loss)\n",
    "        models[i].load_state_dict(w[i])\n",
    "        \n",
    "    \n",
    "    \n",
    "    # Update prjection matrix\n",
    "    \n",
    "    #print(projection_list[0], projected_weights[0])\n",
    "    \n",
    "    for i in range(no_users):\n",
    "        weights = parameters_to_vector(models[i].parameters())\n",
    "        for j in G.neighbors(i):\n",
    "            mat_vec_sum = torch.zeros_like(weights)\n",
    "            for k in G.neighbors(i):\n",
    "                mat_vec_sum = torch.add(mat_vec_sum, projected_weights[k][i] - projected_weights[i][k])\n",
    "            #print(torch.outer(mat_vec_sum, weights))\n",
    "\n",
    "            projection_list[i][j] = torch.add(projection_list[i][j], -1 * eta * lamda * mat_vec_sum)\n",
    "                                         \n",
    "    projected_weights = []                                          \n",
    "    update_ProjWeight(projection_list, projected_weights, first_run=False)\n",
    "        \n",
    "        \n",
    "        \n",
    "    \n",
    "    \n",
    "\n",
    "\n",
    "\n",
    "\n",
    "          \n",
    "            \n",
    "\n",
    "    local_test_acc = []\n",
    "    local_test_loss = []\n",
    "    user_rel_error = 0\n",
    "    for k in range(no_users):\n",
    "      \n",
    "        g_loss = testing(models[i], datapoints[i], 50, criterion)\n",
    "        local_test_loss.append(g_loss)\n",
    "        user_rel_error += rel_error(models[i])\n",
    "    \n",
    "    \n",
    "        \n",
    "\n",
    "    g_loss = sum(local_test_loss) / len(local_test_loss)\n",
    "    total_rel_error.append(user_rel_error / no_users)\n",
    "    \n",
    "    \n",
    "\n",
    "    test_loss.append(g_loss)\n",
    "    #test_accuracy.append(g_accuracy)\n",
    "    print(\"Training_loss %2.5f,   Relative Error %2.5f\"% (test_loss[-1], total_rel_error[-1]))"
   ]
  },
  {
   "cell_type": "code",
   "execution_count": 21,
   "id": "2ff0ff71",
   "metadata": {},
   "outputs": [
    {
     "data": {
      "text/plain": [
       "tensor([-1.9453,  1.9448], grad_fn=<CatBackward0>)"
      ]
     },
     "execution_count": 21,
     "metadata": {},
     "output_type": "execute_result"
    }
   ],
   "source": [
    "#plot.plot(test_loss)\n",
    "parameters_to_vector(models[19].parameters())"
   ]
  },
  {
   "cell_type": "code",
   "execution_count": 22,
   "id": "194e9ea4",
   "metadata": {},
   "outputs": [
    {
     "name": "stdout",
     "output_type": "stream",
     "text": [
      "1\n",
      "2\n",
      "5\n",
      "6\n",
      "14\n"
     ]
    }
   ],
   "source": [
    "for j in G.neighbors(0):\n",
    "    print(j)"
   ]
  },
  {
   "cell_type": "code",
   "execution_count": 23,
   "id": "bbcca8ca",
   "metadata": {},
   "outputs": [
    {
     "data": {
      "text/plain": [
       "tensor([1.9523, 1.9518], grad_fn=<CatBackward0>)"
      ]
     },
     "execution_count": 23,
     "metadata": {},
     "output_type": "execute_result"
    }
   ],
   "source": [
    "parameters_to_vector(models[0].parameters())"
   ]
  },
  {
   "cell_type": "code",
   "execution_count": 24,
   "id": "bf702d86",
   "metadata": {},
   "outputs": [
    {
     "data": {
      "text/plain": [
       "[0,\n",
       " tensor([[1.2365, 0.0207],\n",
       "         [0.0060, 1.2512]]),\n",
       " tensor([[-1.0348,  0.0207],\n",
       "         [ 0.0060, -1.0201]]),\n",
       " 0,\n",
       " 0,\n",
       " tensor([[0.7689, 0.0207],\n",
       "         [0.0060, 0.7836]]),\n",
       " tensor([[-0.3015,  0.0207],\n",
       "         [ 0.0060, -0.2868]]),\n",
       " 0,\n",
       " 0,\n",
       " 0,\n",
       " 0,\n",
       " 0,\n",
       " 0,\n",
       " 0,\n",
       " tensor([[1.6466, 0.0207],\n",
       "         [0.0060, 1.6613]]),\n",
       " 0,\n",
       " 0,\n",
       " 0,\n",
       " 0,\n",
       " 0]"
      ]
     },
     "execution_count": 24,
     "metadata": {},
     "output_type": "execute_result"
    }
   ],
   "source": [
    "projection_list[0]"
   ]
  },
  {
   "cell_type": "code",
   "execution_count": 25,
   "id": "a73e6699",
   "metadata": {},
   "outputs": [
    {
     "data": {
      "text/plain": [
       "[0,\n",
       " tensor([1.6097, 1.6015]),\n",
       " tensor([5.4405, 5.3694]),\n",
       " 0,\n",
       " 0,\n",
       " tensor([0.1915, 0.1914]),\n",
       " tensor([5.7820, 5.7552]),\n",
       " 0,\n",
       " 0,\n",
       " 0,\n",
       " 0,\n",
       " 0,\n",
       " 0,\n",
       " 0,\n",
       " tensor([-5.0619,  5.0777]),\n",
       " 0,\n",
       " 0,\n",
       " 0,\n",
       " 0,\n",
       " 0]"
      ]
     },
     "execution_count": 25,
     "metadata": {},
     "output_type": "execute_result"
    }
   ],
   "source": [
    "projected_weights[0]"
   ]
  },
  {
   "cell_type": "code",
   "execution_count": 26,
   "id": "2561d143",
   "metadata": {},
   "outputs": [],
   "source": [
    "test_loss = np.array(test_loss)\n",
    "total_rel_error = np.array(total_rel_error)"
   ]
  },
  {
   "cell_type": "code",
   "execution_count": 27,
   "id": "c36b1bc2",
   "metadata": {},
   "outputs": [
    {
     "name": "stdout",
     "output_type": "stream",
     "text": [
      "[5.54894900e+00 5.52913618e+00 5.51638758e+00 ... 5.22315688e-03\n",
      " 5.20444824e-03 5.18068019e-03]\n"
     ]
    }
   ],
   "source": [
    "print(test_loss)"
   ]
  },
  {
   "cell_type": "code",
   "execution_count": 28,
   "id": "d61db64c",
   "metadata": {},
   "outputs": [],
   "source": [
    "np.save( 'training_loss_sheave_fml', test_loss)\n",
    "np.save('relative_error_sheave_fml', total_rel_error)"
   ]
  },
  {
   "cell_type": "code",
   "execution_count": null,
   "id": "725be3f4",
   "metadata": {},
   "outputs": [],
   "source": []
  }
 ],
 "metadata": {
  "kernelspec": {
   "display_name": "Python 3",
   "language": "python",
   "name": "python3"
  },
  "language_info": {
   "codemirror_mode": {
    "name": "ipython",
    "version": 3
   },
   "file_extension": ".py",
   "mimetype": "text/x-python",
   "name": "python",
   "nbconvert_exporter": "python",
   "pygments_lexer": "ipython3",
   "version": "3.8.8"
  }
 },
 "nbformat": 4,
 "nbformat_minor": 5
}
