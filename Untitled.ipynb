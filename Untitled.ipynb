{
 "cells": [
  {
   "cell_type": "code",
   "execution_count": 1,
   "id": "9e014533",
   "metadata": {},
   "outputs": [],
   "source": [
    "import torch\n",
    "import torch.nn as nn\n",
    "import torch.nn.functional as F\n",
    "import numpy as np\n",
    "import matplotlib.pyplot as plt\n",
    "import pandas as pd\n",
    "from sklearn.model_selection import train_test_split\n",
    "from torch.utils.data import DataLoader, Dataset\n",
    "from torchvision import transforms"
   ]
  },
  {
   "cell_type": "code",
   "execution_count": 2,
   "id": "5c603300",
   "metadata": {},
   "outputs": [],
   "source": [
    "# Cerate a model class taht inherits nn.Module\n",
    "class Model(nn.Module):\n",
    "    # Input layer -> Hidden Layer1 --> HL 2 --> Output\n",
    "    def __init__(self, in_features=4, h1=8, h2=9, out_features=3):\n",
    "        super().__init__()\n",
    "        self.fc1 = nn.Linear(in_features, h1)\n",
    "        self.fc2 = nn.Linear(h1, h2)\n",
    "        self.out = nn.Linear(h2, out_features)\n",
    "    \n",
    "    # Forward propagatoin\n",
    "    def forward(self, x):\n",
    "        x = F.relu(self.fc1(x))\n",
    "        x = F.relu(self.fc2(x))\n",
    "        x = self.out(x)\n",
    "        \n",
    "        return x\n",
    "        "
   ]
  },
  {
   "cell_type": "code",
   "execution_count": 3,
   "id": "29543718",
   "metadata": {},
   "outputs": [],
   "source": [
    "class MyDataset(Dataset):\n",
    "    def __init__(self, data, targets, transform=None):\n",
    "        self.data = torch.FloatTensor(data)\n",
    "        self.targets = torch.LongTensor(targets)\n",
    "        \n",
    "    def __getitem__(self, index):\n",
    "        x = self.data[index]\n",
    "        y = self.targets[index]\n",
    "\n",
    "        return x, y\n",
    "    \n",
    "    def __len__(self):\n",
    "        return len(self.data)\n"
   ]
  },
  {
   "cell_type": "code",
   "execution_count": 4,
   "id": "aa5dc825",
   "metadata": {},
   "outputs": [],
   "source": [
    "# Initializing the seed\n",
    "torch.manual_seed(41)\n",
    "\n",
    "# Create a model\n",
    "model = Model()\n"
   ]
  },
  {
   "cell_type": "code",
   "execution_count": 5,
   "id": "69983043",
   "metadata": {},
   "outputs": [],
   "source": [
    "url = 'https://gist.githubusercontent.com/curran/a08a1080b88344b0c8a7/raw/0e7a9b0a5d22642a06d3d5b9bcbad9890c8ee534/iris.csv'\n",
    "my_df = pd.read_csv(url)"
   ]
  },
  {
   "cell_type": "code",
   "execution_count": 6,
   "id": "c009df4f",
   "metadata": {},
   "outputs": [],
   "source": [
    "# Change the last column from strings to numbers\n",
    "my_df['species'] = my_df['species'].replace('setosa', 0.0)\n",
    "my_df['species'] = my_df['species'].replace('versicolor', 1.0)\n",
    "my_df['species'] = my_df['species'].replace('virginica', 2.0)\n"
   ]
  },
  {
   "cell_type": "code",
   "execution_count": 7,
   "id": "e73d4aab",
   "metadata": {},
   "outputs": [
    {
     "data": {
      "text/plain": [
       "array([0., 1., 2.])"
      ]
     },
     "execution_count": 7,
     "metadata": {},
     "output_type": "execute_result"
    }
   ],
   "source": [
    "my_df['species'].unique()"
   ]
  },
  {
   "cell_type": "code",
   "execution_count": 8,
   "id": "96a32ce6",
   "metadata": {},
   "outputs": [],
   "source": [
    "# Splitting the datasets\n",
    "X = my_df.drop('species', axis=1)\n",
    "y = my_df['species']"
   ]
  },
  {
   "cell_type": "code",
   "execution_count": 9,
   "id": "1f1a4e24",
   "metadata": {},
   "outputs": [],
   "source": [
    "# Convert to np arrays\n",
    "X = X.values\n",
    "y = y.values"
   ]
  },
  {
   "cell_type": "code",
   "execution_count": 10,
   "id": "9e4256eb",
   "metadata": {},
   "outputs": [
    {
     "name": "stdout",
     "output_type": "stream",
     "text": [
      "[0. 0. 0. 0. 0. 0. 0. 0. 0. 0. 0. 0. 0. 0. 0. 0. 0. 0. 0. 0. 0. 0. 0. 0.\n",
      " 0. 0. 0. 0. 0. 0. 0. 0. 0. 0. 0. 0. 0. 0. 0. 0. 0. 0. 0. 0. 0. 0. 0. 0.\n",
      " 0. 0. 1. 1. 1. 1. 1. 1. 1. 1. 1. 1. 1. 1. 1. 1. 1. 1. 1. 1. 1. 1. 1. 1.\n",
      " 1. 1. 1. 1. 1. 1. 1. 1. 1. 1. 1. 1. 1. 1. 1. 1. 1. 1. 1. 1. 1. 1. 1. 1.\n",
      " 1. 1. 1. 1. 2. 2. 2. 2. 2. 2. 2. 2. 2. 2. 2. 2. 2. 2. 2. 2. 2. 2. 2. 2.\n",
      " 2. 2. 2. 2. 2. 2. 2. 2. 2. 2. 2. 2. 2. 2. 2. 2. 2. 2. 2. 2. 2. 2. 2. 2.\n",
      " 2. 2. 2. 2. 2. 2.]\n"
     ]
    }
   ],
   "source": [
    "print(y)"
   ]
  },
  {
   "cell_type": "code",
   "execution_count": 11,
   "id": "499ae3e3",
   "metadata": {},
   "outputs": [],
   "source": [
    "# Train Test split\n",
    "X_train, X_test, y_train, y_test = train_test_split(X, y, test_size=0.2, random_state=41)"
   ]
  },
  {
   "cell_type": "code",
   "execution_count": 12,
   "id": "305ebdb7",
   "metadata": {},
   "outputs": [
    {
     "name": "stdout",
     "output_type": "stream",
     "text": [
      "[1. 1. 2. 1. 2. 0. 2. 1. 2. 1. 1. 1. 0. 2. 2. 0. 2. 1. 0. 1. 2. 1. 2. 0.\n",
      " 0. 2. 2. 0. 1. 0. 0. 1. 0. 1. 2. 0. 1. 1. 2. 0. 1. 1. 0. 2. 1. 0. 2. 2.\n",
      " 0. 1. 0. 0. 2. 2. 2. 0. 0. 0. 0. 0. 2. 2. 0. 2. 1. 0. 0. 2. 2. 2. 1. 1.\n",
      " 2. 0. 1. 2. 1. 1. 0. 1. 0. 1. 0. 1. 2. 2. 2. 0. 0. 0. 0. 2. 0. 0. 1. 2.\n",
      " 0. 2. 0. 1. 2. 1. 0. 2. 0. 1. 0. 2. 1. 1. 2. 1. 1. 2. 2. 0. 1. 1. 1. 2.]\n"
     ]
    }
   ],
   "source": [
    "print(y_train)"
   ]
  },
  {
   "cell_type": "code",
   "execution_count": 13,
   "id": "6fd3faf0",
   "metadata": {},
   "outputs": [],
   "source": [
    "# Convert the input featres to tensors\n",
    "train_data = MyDataset(X_train, y_train)\n",
    "# Convert the labels into integers\n",
    "test_data = MyDataset(X_test, y_test)"
   ]
  },
  {
   "cell_type": "code",
   "execution_count": 14,
   "id": "47c33a1b",
   "metadata": {},
   "outputs": [],
   "source": [
    "train_dataloader = DataLoader(train_data, batch_size=64, shuffle=True)\n",
    "test_dataloader = DataLoader(test_data, batch_size=64, shuffle=True)"
   ]
  },
  {
   "cell_type": "code",
   "execution_count": 15,
   "id": "13b138a5",
   "metadata": {},
   "outputs": [],
   "source": [
    "# Loss function definition\n",
    "criterion = nn.CrossEntropyLoss()\n",
    "\n",
    "\n",
    "# Optimizer initialization\n",
    "optimizer = torch.optim.Adam(model.parameters(), lr=0.01)"
   ]
  },
  {
   "cell_type": "code",
   "execution_count": 26,
   "id": "d039087c",
   "metadata": {},
   "outputs": [
    {
     "name": "stdout",
     "output_type": "stream",
     "text": [
      "Epoch: 0,........loss: 0.8622508645057678, ......Train_acc: 0.699999988079071        .......Testacc: 0.699999988079071\n",
      "Epoch: 10,........loss: 0.42778292298316956, ......Train_acc: 0.8416666388511658        .......Testacc: 0.8666666746139526\n",
      "Epoch: 20,........loss: 0.22265936434268951, ......Train_acc: 0.9833333492279053        .......Testacc: 0.9666666388511658\n",
      "Epoch: 30,........loss: 0.12388209253549576, ......Train_acc: 0.9833333492279053        .......Testacc: 0.9333333373069763\n",
      "Epoch: 40,........loss: 0.07129930704832077, ......Train_acc: 0.9833333492279053        .......Testacc: 0.9666666388511658\n",
      "Epoch: 50,........loss: 0.05876488238573074, ......Train_acc: 0.9833333492279053        .......Testacc: 0.9333333373069763\n",
      "Epoch: 60,........loss: 0.03339947387576103, ......Train_acc: 0.9833333492279053        .......Testacc: 0.9333333373069763\n",
      "Epoch: 70,........loss: 0.05302071198821068, ......Train_acc: 1.0        .......Testacc: 0.9333333373069763\n",
      "Epoch: 80,........loss: 0.025952249765396118, ......Train_acc: 0.9916666746139526        .......Testacc: 0.9333333373069763\n",
      "Epoch: 90,........loss: 0.04489552974700928, ......Train_acc: 0.9916666746139526        .......Testacc: 0.9333333373069763\n"
     ]
    }
   ],
   "source": [
    "# Train model\n",
    "epochs = 100\n",
    "losses = []\n",
    "\n",
    "for it in range(epochs):\n",
    "    train_acc = 0\n",
    "    test_acc = 0\n",
    "    epoch_loss = 0\n",
    "    data_points = 0\n",
    "    test_points = 0\n",
    "    for b, (X_train, y_train) in enumerate(train_dataloader):\n",
    "        \n",
    "        y_pred = model.forward(X_train) # Get predicted results\n",
    "        \n",
    "        #  Loss\n",
    "        loss = criterion(y_pred, y_train)\n",
    "        \n",
    "        # Accuracy\n",
    "        predicted = torch.max(y_pred.data, 1)[1]\n",
    "        \n",
    "        train_acc += (predicted == y_train).sum()\n",
    "        \n",
    "\n",
    "        # Detach is used to exclude the computational graph and pass only the numerical value\n",
    "        \n",
    "        epoch_loss += loss.item()\n",
    "        data_points += y_pred.size()[0]\n",
    "\n",
    "        # Back propagation\n",
    "        optimizer.zero_grad()\n",
    "        loss.backward()\n",
    "        optimizer.step()\n",
    "    \n",
    "    if it % 10 == 0:\n",
    "        with torch.no_grad():\n",
    "            for z, (X_test, y_test) in enumerate(test_dataloader):\n",
    "                \n",
    "                y_pred = model.forward(X_test)\n",
    "                \n",
    "                predicted = torch.max(y_pred.data, 1)[1]\n",
    "                \n",
    "                test_acc += (predicted == y_test).sum()\n",
    "                test_points += y_pred.size()[0]\n",
    "                \n",
    "            \n",
    "            \n",
    "        print(f'Epoch: {it},........loss: {loss.item()}, ......Train_acc: {train_acc/data_points}\\\n",
    "        .......Testacc: {test_acc/test_points}')\n",
    "    losses.append(epoch_loss/2)\n",
    "    "
   ]
  },
  {
   "cell_type": "code",
   "execution_count": null,
   "id": "ba6e0a99",
   "metadata": {},
   "outputs": [],
   "source": [
    "plt.plot(range(epochs), losses)\n",
    "plt.ylabel(\"loss\")\n",
    "plt.xlabel(\"Epoch\")"
   ]
  },
  {
   "cell_type": "code",
   "execution_count": null,
   "id": "74d9e0c7",
   "metadata": {},
   "outputs": [],
   "source": [
    "with torch.no_grad():\n",
    "    y_eval = model.forward(X_test)\n",
    "    loss = criterion(y_eval, y_test)\n",
    "    "
   ]
  },
  {
   "cell_type": "code",
   "execution_count": null,
   "id": "8c0900ee",
   "metadata": {},
   "outputs": [],
   "source": [
    "loss.detach().numpy()"
   ]
  },
  {
   "cell_type": "code",
   "execution_count": null,
   "id": "905804bd",
   "metadata": {},
   "outputs": [],
   "source": [
    "correct = 0\n",
    "with torch.no_grad():\n",
    "    for i, data in enumerate(X_test):\n",
    "        y_val = model.forward(data)\n",
    "\n",
    "        print(f'{i + 1}.) {str(y_val)} \\t {y_test[i]}')"
   ]
  },
  {
   "cell_type": "code",
   "execution_count": null,
   "id": "15fe9148",
   "metadata": {},
   "outputs": [],
   "source": []
  }
 ],
 "metadata": {
  "kernelspec": {
   "display_name": "Python 3",
   "language": "python",
   "name": "python3"
  },
  "language_info": {
   "codemirror_mode": {
    "name": "ipython",
    "version": 3
   },
   "file_extension": ".py",
   "mimetype": "text/x-python",
   "name": "python",
   "nbconvert_exporter": "python",
   "pygments_lexer": "ipython3",
   "version": "3.8.8"
  }
 },
 "nbformat": 4,
 "nbformat_minor": 5
}
