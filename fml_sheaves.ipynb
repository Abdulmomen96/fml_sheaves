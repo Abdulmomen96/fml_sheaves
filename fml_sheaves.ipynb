{
 "cells": [
  {
   "cell_type": "code",
   "execution_count": 1,
   "id": "74d5d395",
   "metadata": {},
   "outputs": [],
   "source": [
    "import torch\n",
    "import torch.nn as nn\n",
    "import torch.nn.functional as F\n",
    "import torch.optim as optim\n",
    "from torchvision import datasets, transforms\n",
    "from torch.utils.data import DataLoader, Dataset\n",
    "import copy\n",
    "import numpy as np\n",
    "import matplotlib.pyplot as plt\n",
    "from tqdm import tqdm\n",
    "import networkx as nx\n",
    "from torch.nn.utils import parameters_to_vector, vector_to_parameters"
   ]
  },
  {
   "cell_type": "code",
   "execution_count": 2,
   "id": "7617ffd7",
   "metadata": {},
   "outputs": [],
   "source": [
    "# Graph implementation\n",
    "def generate_graph(cluster_sizes=[100,100], pin=0.5, pout=0.01, seed=0):\n",
    "    \"\"\"Generate a random connected graph\"\"\"\n",
    "    probs = np.array([[pin, pout],[pout, pin]])\n",
    "    while True:\n",
    "        g = nx.stochastic_block_model(cluster_sizes, probs)\n",
    "        if nx.algorithms.components.is_connected(g):\n",
    "            return g\n",
    "\n",
    "\n",
    "cluster_sizes = [10, 10]\n",
    "pin = 0.5\n",
    "pout = 0.01\n",
    "seed = 0\n",
    "alpha = 1e-3\n",
    "lamda = 1e-3\n",
    "eta = 1e-3\n",
    "no_users = sum(cluster_sizes)\n",
    "batch_size = 20\n",
    "epochs = 1\n",
    "it = 1000\n",
    "G = generate_graph(cluster_sizes, pin, pout, seed)\n",
    "\n",
    "#nx.draw(G, with_labels=True, node_size=100, alpha=1, linewidths=10)\n",
    "#plt.show()"
   ]
  },
  {
   "cell_type": "code",
   "execution_count": 3,
   "id": "809e7c6f",
   "metadata": {},
   "outputs": [
    {
     "name": "stdout",
     "output_type": "stream",
     "text": [
      "[[0.         0.         0.16666667 0.14285714 0.16666667 0.16666667\n",
      "  0.         0.16666667 0.         0.         0.         0.\n",
      "  0.         0.         0.         0.         0.         0.\n",
      "  0.         0.        ]\n",
      " [0.         0.         0.16666667 0.14285714 0.16666667 0.\n",
      "  0.         0.16666667 0.16666667 0.         0.         0.\n",
      "  0.         0.         0.         0.         0.         0.\n",
      "  0.         0.        ]\n",
      " [0.16666667 0.16666667 0.         0.         0.         0.\n",
      "  0.16666667 0.16666667 0.         0.         0.         0.\n",
      "  0.         0.         0.         0.         0.         0.\n",
      "  0.         0.16666667]\n",
      " [0.14285714 0.14285714 0.         0.         0.         0.14285714\n",
      "  0.14285714 0.         0.14285714 0.         0.         0.\n",
      "  0.         0.         0.         0.         0.         0.\n",
      "  0.         0.14285714]\n",
      " [0.16666667 0.16666667 0.         0.         0.         0.16666667\n",
      "  0.         0.         0.         0.         0.125      0.\n",
      "  0.         0.         0.         0.         0.         0.\n",
      "  0.         0.        ]\n",
      " [0.16666667 0.         0.         0.14285714 0.16666667 0.\n",
      "  0.         0.         0.16666667 0.         0.         0.\n",
      "  0.         0.         0.         0.         0.         0.\n",
      "  0.         0.16666667]\n",
      " [0.         0.         0.16666667 0.14285714 0.         0.\n",
      "  0.         0.         0.2        0.         0.         0.\n",
      "  0.         0.         0.         0.         0.         0.\n",
      "  0.         0.2       ]\n",
      " [0.16666667 0.16666667 0.16666667 0.         0.         0.\n",
      "  0.         0.         0.         0.16666667 0.         0.\n",
      "  0.         0.         0.         0.         0.         0.\n",
      "  0.         0.        ]\n",
      " [0.         0.16666667 0.         0.14285714 0.         0.16666667\n",
      "  0.2        0.         0.         0.         0.         0.\n",
      "  0.         0.         0.         0.         0.         0.\n",
      "  0.         0.        ]\n",
      " [0.         0.         0.         0.         0.         0.\n",
      "  0.         0.16666667 0.         0.         0.         0.14285714\n",
      "  0.         0.125      0.         0.         0.16666667 0.16666667\n",
      "  0.         0.        ]\n",
      " [0.         0.         0.         0.         0.125      0.\n",
      "  0.         0.         0.         0.         0.         0.\n",
      "  0.125      0.125      0.125      0.125      0.125      0.\n",
      "  0.125      0.        ]\n",
      " [0.         0.         0.         0.         0.         0.\n",
      "  0.         0.         0.         0.14285714 0.         0.\n",
      "  0.         0.         0.14285714 0.14285714 0.14285714 0.14285714\n",
      "  0.14285714 0.        ]\n",
      " [0.         0.         0.         0.         0.         0.\n",
      "  0.         0.         0.         0.         0.125      0.\n",
      "  0.         0.125      0.14285714 0.         0.         0.16666667\n",
      "  0.14285714 0.        ]\n",
      " [0.         0.         0.         0.         0.         0.\n",
      "  0.         0.         0.         0.125      0.125      0.\n",
      "  0.125      0.         0.125      0.125      0.125      0.\n",
      "  0.125      0.        ]\n",
      " [0.         0.         0.         0.         0.         0.\n",
      "  0.         0.         0.         0.         0.125      0.14285714\n",
      "  0.14285714 0.125      0.         0.         0.14285714 0.\n",
      "  0.14285714 0.        ]\n",
      " [0.         0.         0.         0.         0.         0.\n",
      "  0.         0.         0.         0.         0.125      0.14285714\n",
      "  0.         0.125      0.         0.         0.         0.16666667\n",
      "  0.14285714 0.        ]\n",
      " [0.         0.         0.         0.         0.         0.\n",
      "  0.         0.         0.         0.16666667 0.125      0.14285714\n",
      "  0.         0.125      0.14285714 0.         0.         0.\n",
      "  0.         0.        ]\n",
      " [0.         0.         0.         0.         0.         0.\n",
      "  0.         0.         0.         0.16666667 0.         0.14285714\n",
      "  0.16666667 0.         0.         0.16666667 0.         0.\n",
      "  0.         0.        ]\n",
      " [0.         0.         0.         0.         0.         0.\n",
      "  0.         0.         0.         0.         0.125      0.14285714\n",
      "  0.14285714 0.125      0.14285714 0.14285714 0.         0.\n",
      "  0.         0.        ]\n",
      " [0.         0.         0.16666667 0.14285714 0.         0.16666667\n",
      "  0.2        0.         0.         0.         0.         0.\n",
      "  0.         0.         0.         0.         0.         0.\n",
      "  0.         0.        ]]\n",
      "[[0.19047619 0.         0.16666667 0.14285714 0.16666667 0.16666667\n",
      "  0.         0.16666667 0.         0.         0.         0.\n",
      "  0.         0.         0.         0.         0.         0.\n",
      "  0.         0.        ]\n",
      " [0.         0.19047619 0.16666667 0.14285714 0.16666667 0.\n",
      "  0.         0.16666667 0.16666667 0.         0.         0.\n",
      "  0.         0.         0.         0.         0.         0.\n",
      "  0.         0.        ]\n",
      " [0.16666667 0.16666667 0.16666667 0.         0.         0.\n",
      "  0.16666667 0.16666667 0.         0.         0.         0.\n",
      "  0.         0.         0.         0.         0.         0.\n",
      "  0.         0.16666667]\n",
      " [0.14285714 0.14285714 0.         0.14285714 0.         0.14285714\n",
      "  0.14285714 0.         0.14285714 0.         0.         0.\n",
      "  0.         0.         0.         0.         0.         0.\n",
      "  0.         0.14285714]\n",
      " [0.16666667 0.16666667 0.         0.         0.375      0.16666667\n",
      "  0.         0.         0.         0.         0.125      0.\n",
      "  0.         0.         0.         0.         0.         0.\n",
      "  0.         0.        ]\n",
      " [0.16666667 0.         0.         0.14285714 0.16666667 0.19047619\n",
      "  0.         0.         0.16666667 0.         0.         0.\n",
      "  0.         0.         0.         0.         0.         0.\n",
      "  0.         0.16666667]\n",
      " [0.         0.         0.16666667 0.14285714 0.         0.\n",
      "  0.29047619 0.         0.2        0.         0.         0.\n",
      "  0.         0.         0.         0.         0.         0.\n",
      "  0.         0.2       ]\n",
      " [0.16666667 0.16666667 0.16666667 0.         0.         0.\n",
      "  0.         0.33333333 0.         0.16666667 0.         0.\n",
      "  0.         0.         0.         0.         0.         0.\n",
      "  0.         0.        ]\n",
      " [0.         0.16666667 0.         0.14285714 0.         0.16666667\n",
      "  0.2        0.         0.32380952 0.         0.         0.\n",
      "  0.         0.         0.         0.         0.         0.\n",
      "  0.         0.        ]\n",
      " [0.         0.         0.         0.         0.         0.\n",
      "  0.         0.16666667 0.         0.23214286 0.         0.14285714\n",
      "  0.         0.125      0.         0.         0.16666667 0.16666667\n",
      "  0.         0.        ]\n",
      " [0.         0.         0.         0.         0.125      0.\n",
      "  0.         0.         0.         0.         0.125      0.\n",
      "  0.125      0.125      0.125      0.125      0.125      0.\n",
      "  0.125      0.        ]\n",
      " [0.         0.         0.         0.         0.         0.\n",
      "  0.         0.         0.         0.14285714 0.         0.14285714\n",
      "  0.         0.         0.14285714 0.14285714 0.14285714 0.14285714\n",
      "  0.14285714 0.        ]\n",
      " [0.         0.         0.         0.         0.         0.\n",
      "  0.         0.         0.         0.         0.125      0.\n",
      "  0.29761905 0.125      0.14285714 0.         0.         0.16666667\n",
      "  0.14285714 0.        ]\n",
      " [0.         0.         0.         0.         0.         0.\n",
      "  0.         0.         0.         0.125      0.125      0.\n",
      "  0.125      0.125      0.125      0.125      0.125      0.\n",
      "  0.125      0.        ]\n",
      " [0.         0.         0.         0.         0.         0.\n",
      "  0.         0.         0.         0.         0.125      0.14285714\n",
      "  0.14285714 0.125      0.17857143 0.         0.14285714 0.\n",
      "  0.14285714 0.        ]\n",
      " [0.         0.         0.         0.         0.         0.\n",
      "  0.         0.         0.         0.         0.125      0.14285714\n",
      "  0.         0.125      0.         0.29761905 0.         0.16666667\n",
      "  0.14285714 0.        ]\n",
      " [0.         0.         0.         0.         0.         0.\n",
      "  0.         0.         0.         0.16666667 0.125      0.14285714\n",
      "  0.         0.125      0.14285714 0.         0.29761905 0.\n",
      "  0.         0.        ]\n",
      " [0.         0.         0.         0.         0.         0.\n",
      "  0.         0.         0.         0.16666667 0.         0.14285714\n",
      "  0.16666667 0.         0.         0.16666667 0.         0.35714286\n",
      "  0.         0.        ]\n",
      " [0.         0.         0.         0.         0.         0.\n",
      "  0.         0.         0.         0.         0.125      0.14285714\n",
      "  0.14285714 0.125      0.14285714 0.14285714 0.         0.\n",
      "  0.17857143 0.        ]\n",
      " [0.         0.         0.16666667 0.14285714 0.         0.16666667\n",
      "  0.2        0.         0.         0.         0.         0.\n",
      "  0.         0.         0.         0.         0.         0.\n",
      "  0.         0.32380952]]\n"
     ]
    }
   ],
   "source": [
    "# Metropolis weights \n",
    "number_nodes = G.number_of_nodes()\n",
    "weights = np.zeros([number_nodes, number_nodes])\n",
    "for edge in G.edges():\n",
    "  i, j = edge[0], edge[1]\n",
    "  weights[i - 1][j - 1] = 1 / (1 + np.max([G.degree(i), G.degree(j)]))\n",
    "  weights[j - 1][i - 1] = weights[i - 1][j - 1]\n",
    "\n",
    "print(weights)\n",
    "\n",
    "weights = weights + np.diag(1 - np.sum(weights, axis=0))\n",
    "\n",
    "metropolis_weights = weights\n",
    "print(metropolis_weights)\n"
   ]
  },
  {
   "cell_type": "code",
   "execution_count": 4,
   "id": "654ab72f",
   "metadata": {},
   "outputs": [],
   "source": [
    "def load_dataset():\n",
    "    transforms_mnist = transforms.Compose([transforms.ToTensor(), transforms.Normalize((0.1307,),(0.3081,))])\n",
    "    mnist_data_train = datasets.MNIST('./data/mnist', train=True, download=True, transform=transforms_mnist)\n",
    "    mnist_data_test = datasets.MNIST('./data/mnist', train=False, download=True, transform=transforms_mnist)\n",
    "\n",
    "    return mnist_data_train, mnist_data_test"
   ]
  },
  {
   "cell_type": "code",
   "execution_count": 5,
   "id": "26f67564",
   "metadata": {},
   "outputs": [],
   "source": [
    "def degrees(A):\n",
    "    \"\"\"Return the degrees of each node of a graph from its adjacency matrix\"\"\"\n",
    "    return np.sum(A, axis=0).reshape(A.shape[0], 1)\n",
    "\n",
    "def node_degree(n, G):\n",
    "    cnt = 0\n",
    "    for i in G.neighbors(n):\n",
    "        cnt += 1\n",
    "    return cnt\n",
    "\n",
    "def get_neighbors(n, G):\n",
    "    neighbors_list = []\n",
    "    for i in G.neighbors(n):\n",
    "        neighbors_list.append(int(i))\n",
    "    return neighbors_list"
   ]
  },
  {
   "cell_type": "code",
   "execution_count": 6,
   "id": "dbc31eff",
   "metadata": {},
   "outputs": [],
   "source": [
    "datapoints = {}\n",
    "count = 0\n",
    "W1 = np.array([2, 2])\n",
    "W2 = np.array([-2, 2])\n",
    "W = [W1, W2]\n",
    "m = 200\n",
    "n = 2\n",
    "noise_sd = 0.001\n",
    "for i, cluster_size in enumerate(cluster_sizes):\n",
    "    for j in range(cluster_size):\n",
    "        features = np.random.normal(loc=0.0, scale=1.0, size=(m, n))\n",
    "        label = np.dot(features, W[i]) + np.random.normal(0,noise_sd)\n",
    "        datapoints[count] = {\n",
    "                'features': features,\n",
    "                'degree': node_degree(count, G),\n",
    "                'label': label,\n",
    "                'neighbors': get_neighbors(count, G),\n",
    "                'exact_weights': torch.from_numpy(W[i])\n",
    "            }\n",
    "        count += 1"
   ]
  },
  {
   "cell_type": "code",
   "execution_count": 7,
   "id": "3c2530b1",
   "metadata": {},
   "outputs": [],
   "source": [
    "class MyDataset(Dataset):\n",
    "    def __init__(self, data, targets, transform=None):\n",
    "        self.data = torch.FloatTensor(data)\n",
    "        self.targets = torch.FloatTensor(targets).unsqueeze(-1)\n",
    "        \n",
    "    def __getitem__(self, index):\n",
    "        x = self.data[index]\n",
    "        y = self.targets[index]\n",
    "\n",
    "        return x, y\n",
    "    \n",
    "    def __len__(self):\n",
    "        return len(self.data)\n"
   ]
  },
  {
   "cell_type": "code",
   "execution_count": 8,
   "id": "1d84bf7c",
   "metadata": {},
   "outputs": [],
   "source": [
    "class MLP_Net(nn.Module):\n",
    "    def __init__(self, user_id):\n",
    "        super(MLP_Net, self).__init__()\n",
    "        self.fc1 = nn.Linear(2, 1, bias=False)\n",
    "        #self.fc2 = nn.Linear(4, 1, bias=False)\n",
    "        #self.fc3 = nn.Linear(200, 10)\n",
    "        self.user_id = user_id\n",
    "\n",
    "    def forward(self, x):\n",
    "        x = torch.flatten(x, 1)\n",
    "        #x = F.relu(self.fc1(x))\n",
    "        output = self.fc1(x)\n",
    "        #output = self.fc3(x)\n",
    "        return output"
   ]
  },
  {
   "cell_type": "code",
   "execution_count": 9,
   "id": "f93f4bbc",
   "metadata": {},
   "outputs": [],
   "source": [
    "from typing import Iterable, Optional\n",
    "\n",
    "def grads_to_vector(parameters: Iterable[torch.Tensor]) -> torch.Tensor:\n",
    "    r\"\"\"Convert parameters to one vector\n",
    "\n",
    "    Args:\n",
    "        parameters (Iterable[Tensor]): an iterator of Tensors that are the\n",
    "            parameters of a model.\n",
    "\n",
    "    Returns:\n",
    "        The parameters represented by a single vector\n",
    "    \"\"\"\n",
    "    # Flag for the device where the parameter is located\n",
    "    param_device = None\n",
    "\n",
    "    vec = []\n",
    "    for param in parameters:\n",
    "        # Ensure the parameters are located in the same device\n",
    "        param_device = param.grad\n",
    "\n",
    "        vec.append(param_device.view(-1))\n",
    "    return torch.cat(vec)"
   ]
  },
  {
   "cell_type": "code",
   "execution_count": 10,
   "id": "9cd3a679",
   "metadata": {},
   "outputs": [
    {
     "name": "stdout",
     "output_type": "stream",
     "text": [
      "torch.Size([50, 1])\n",
      "torch.Size([50, 1])\n",
      "0 tensor(7.2601, grad_fn=<MseLossBackward0>) tensor([ 2.0511, -4.2286]) tensor([-0.1712, -0.5467], grad_fn=<CatBackward0>)\n",
      "torch.Size([50, 1])\n",
      "torch.Size([50, 1])\n",
      "0 tensor(7.3593, grad_fn=<MseLossBackward0>) tensor([ 2.9384, -3.7554]) tensor([-0.1918, -0.5044], grad_fn=<CatBackward0>)\n",
      "torch.Size([50, 1])\n",
      "torch.Size([50, 1])\n",
      "0 tensor(8.2871, grad_fn=<MseLossBackward0>) tensor([ 3.9328, -3.8829]) tensor([-0.2211, -0.4668], grad_fn=<CatBackward0>)\n",
      "torch.Size([50, 1])\n",
      "torch.Size([50, 1])\n",
      "0 tensor(7.2735, grad_fn=<MseLossBackward0>) tensor([ 2.6970, -4.0591]) tensor([-0.2605, -0.4280], grad_fn=<CatBackward0>)\n",
      "torch.Size([50, 1])\n",
      "torch.Size([50, 1])\n",
      "1 tensor(6.3769, grad_fn=<MseLossBackward0>) tensor([ 1.9200, -3.9647]) tensor([-0.2874, -0.3874], grad_fn=<CatBackward0>)\n",
      "torch.Size([50, 1])\n",
      "torch.Size([50, 1])\n",
      "1 tensor(6.4627, grad_fn=<MseLossBackward0>) tensor([ 2.7510, -3.5211]) tensor([-0.3066, -0.3478], grad_fn=<CatBackward0>)\n",
      "torch.Size([50, 1])\n",
      "torch.Size([50, 1])\n",
      "1 tensor(7.2765, grad_fn=<MseLossBackward0>) tensor([ 3.6825, -3.6404]) tensor([-0.3342, -0.3126], grad_fn=<CatBackward0>)\n",
      "torch.Size([50, 1])\n",
      "torch.Size([50, 1])\n",
      "1 tensor(6.3879, grad_fn=<MseLossBackward0>) tensor([ 2.5249, -3.8058]) tensor([-0.3710, -0.2762], grad_fn=<CatBackward0>)\n",
      "torch.Size([50, 1])\n",
      "torch.Size([50, 1])\n",
      "2 tensor(5.6012, grad_fn=<MseLossBackward0>) tensor([ 1.7973, -3.7173]) tensor([-0.3962, -0.2381], grad_fn=<CatBackward0>)\n",
      "torch.Size([50, 1])\n",
      "torch.Size([50, 1])\n",
      "2 tensor(5.6753, grad_fn=<MseLossBackward0>) tensor([ 2.5756, -3.3014]) tensor([-0.4142, -0.2009], grad_fn=<CatBackward0>)\n",
      "torch.Size([50, 1])\n",
      "torch.Size([50, 1])\n",
      "2 tensor(6.3891, grad_fn=<MseLossBackward0>) tensor([ 3.4482, -3.4130]) tensor([-0.4400, -0.1679], grad_fn=<CatBackward0>)\n",
      "torch.Size([50, 1])\n",
      "torch.Size([50, 1])\n",
      "2 tensor(5.6100, grad_fn=<MseLossBackward0>) tensor([ 2.3639, -3.5682]) tensor([-0.4744, -0.1338], grad_fn=<CatBackward0>)\n",
      "torch.Size([50, 1])\n",
      "torch.Size([50, 1])\n",
      "3 tensor(4.9198, grad_fn=<MseLossBackward0>) tensor([ 1.6825, -3.4853]) tensor([-0.4981, -0.0981], grad_fn=<CatBackward0>)\n",
      "torch.Size([50, 1])\n",
      "torch.Size([50, 1])\n",
      "3 tensor(4.9839, grad_fn=<MseLossBackward0>) tensor([ 2.4114, -3.0953]) tensor([-0.5149, -0.0633], grad_fn=<CatBackward0>)\n",
      "torch.Size([50, 1])\n",
      "torch.Size([50, 1])\n",
      "3 tensor(5.6100, grad_fn=<MseLossBackward0>) tensor([ 3.2288, -3.1998]) tensor([-0.5390, -0.0323], grad_fn=<CatBackward0>)\n",
      "torch.Size([50, 1])\n",
      "torch.Size([50, 1])\n",
      "3 tensor(4.9269, grad_fn=<MseLossBackward0>) tensor([ 2.2131, -3.3454]) tensor([-5.7130e-01, -3.0554e-04], grad_fn=<CatBackward0>)\n",
      "torch.Size([50, 1])\n",
      "torch.Size([50, 1])\n",
      "4 tensor(4.3213, grad_fn=<MseLossBackward0>) tensor([ 1.5750, -3.2677]) tensor([-0.5934,  0.0331], grad_fn=<CatBackward0>)\n",
      "torch.Size([50, 1])\n",
      "torch.Size([50, 1])\n",
      "4 tensor(4.3767, grad_fn=<MseLossBackward0>) tensor([ 2.2577, -2.9021]) tensor([-0.6092,  0.0658], grad_fn=<CatBackward0>)\n",
      "torch.Size([50, 1])\n",
      "torch.Size([50, 1])\n",
      "4 tensor(4.9259, grad_fn=<MseLossBackward0>) tensor([ 3.0235, -2.9998]) tensor([-0.6318,  0.0948], grad_fn=<CatBackward0>)\n",
      "torch.Size([50, 1])\n",
      "torch.Size([50, 1])\n",
      "4 tensor(4.3270, grad_fn=<MseLossBackward0>) tensor([ 2.0721, -3.1365]) tensor([-0.6620,  0.1248], grad_fn=<CatBackward0>)\n",
      "torch.Size([50, 1])\n",
      "torch.Size([50, 1])\n",
      "5 tensor(3.7956, grad_fn=<MseLossBackward0>) tensor([ 1.4745, -3.0637]) tensor([-0.6827,  0.1562], grad_fn=<CatBackward0>)\n",
      "torch.Size([50, 1])\n",
      "torch.Size([50, 1])\n",
      "5 tensor(3.8435, grad_fn=<MseLossBackward0>) tensor([ 2.1139, -2.7209]) tensor([-0.6975,  0.1868], grad_fn=<CatBackward0>)\n",
      "torch.Size([50, 1])\n",
      "torch.Size([50, 1])\n",
      "5 tensor(4.3253, grad_fn=<MseLossBackward0>) tensor([ 2.8313, -2.8124]) tensor([-0.7186,  0.2141], grad_fn=<CatBackward0>)\n",
      "torch.Size([50, 1])\n",
      "torch.Size([50, 1])\n",
      "5 tensor(3.8001, grad_fn=<MseLossBackward0>) tensor([ 1.9401, -2.9406]) tensor([-0.7469,  0.2422], grad_fn=<CatBackward0>)\n",
      "torch.Size([50, 1])\n",
      "torch.Size([50, 1])\n",
      "6 tensor(3.3338, grad_fn=<MseLossBackward0>) tensor([ 1.3804, -2.8723]) tensor([-0.7663,  0.2716], grad_fn=<CatBackward0>)\n",
      "torch.Size([50, 1])\n",
      "torch.Size([50, 1])\n",
      "6 tensor(3.3752, grad_fn=<MseLossBackward0>) tensor([ 1.9792, -2.5510]) tensor([-0.7801,  0.3003], grad_fn=<CatBackward0>)\n",
      "torch.Size([50, 1])\n",
      "torch.Size([50, 1])\n",
      "6 tensor(3.7979, grad_fn=<MseLossBackward0>) tensor([ 2.6513, -2.6366]) tensor([-0.7999,  0.3258], grad_fn=<CatBackward0>)\n",
      "torch.Size([50, 1])\n",
      "torch.Size([50, 1])\n",
      "6 tensor(3.3374, grad_fn=<MseLossBackward0>) tensor([ 1.8165, -2.7569]) tensor([-0.8264,  0.3522], grad_fn=<CatBackward0>)\n",
      "torch.Size([50, 1])\n",
      "torch.Size([50, 1])\n",
      "7 tensor(2.9282, grad_fn=<MseLossBackward0>) tensor([ 1.2923, -2.6929]) tensor([-0.8446,  0.3798], grad_fn=<CatBackward0>)\n",
      "torch.Size([50, 1])\n",
      "torch.Size([50, 1])\n",
      "7 tensor(2.9640, grad_fn=<MseLossBackward0>) tensor([ 1.8532, -2.3917]) tensor([-0.8575,  0.4067], grad_fn=<CatBackward0>)\n",
      "torch.Size([50, 1])\n",
      "torch.Size([50, 1])\n",
      "7 tensor(3.3348, grad_fn=<MseLossBackward0>) tensor([ 2.4828, -2.4718]) tensor([-0.8760,  0.4306], grad_fn=<CatBackward0>)\n",
      "torch.Size([50, 1])\n",
      "torch.Size([50, 1])\n",
      "7 tensor(2.9310, grad_fn=<MseLossBackward0>) tensor([ 1.7008, -2.5847]) tensor([-0.9009,  0.4553], grad_fn=<CatBackward0>)\n",
      "torch.Size([50, 1])\n",
      "torch.Size([50, 1])\n",
      "8 tensor(2.5720, grad_fn=<MseLossBackward0>) tensor([ 1.2099, -2.5247]) tensor([-0.9179,  0.4812], grad_fn=<CatBackward0>)\n",
      "torch.Size([50, 1])\n",
      "torch.Size([50, 1])\n",
      "8 tensor(2.6029, grad_fn=<MseLossBackward0>) tensor([ 1.7353, -2.2423]) tensor([-0.9300,  0.5064], grad_fn=<CatBackward0>)\n",
      "torch.Size([50, 1])\n",
      "torch.Size([50, 1])\n",
      "8 tensor(2.9282, grad_fn=<MseLossBackward0>) tensor([ 2.3251, -2.3172]) tensor([-0.9473,  0.5288], grad_fn=<CatBackward0>)\n",
      "torch.Size([50, 1])\n",
      "torch.Size([50, 1])\n",
      "8 tensor(2.5741, grad_fn=<MseLossBackward0>) tensor([ 1.5926, -2.4232]) tensor([-0.9706,  0.5520], grad_fn=<CatBackward0>)\n",
      "torch.Size([50, 1])\n",
      "torch.Size([50, 1])\n",
      "9 tensor(2.2591, grad_fn=<MseLossBackward0>) tensor([ 1.1327, -2.3669]) tensor([-0.9865,  0.5762], grad_fn=<CatBackward0>)\n",
      "torch.Size([50, 1])\n",
      "torch.Size([50, 1])\n",
      "9 tensor(2.2858, grad_fn=<MseLossBackward0>) tensor([ 1.6249, -2.1022]) tensor([-0.9978,  0.5999], grad_fn=<CatBackward0>)\n",
      "torch.Size([50, 1])\n",
      "torch.Size([50, 1])\n",
      "9 tensor(2.5712, grad_fn=<MseLossBackward0>) tensor([ 2.1774, -2.1723]) tensor([-1.0141,  0.6209], grad_fn=<CatBackward0>)\n",
      "torch.Size([50, 1])\n",
      "torch.Size([50, 1])\n",
      "9 tensor(2.2607, grad_fn=<MseLossBackward0>) tensor([ 1.4912, -2.2718]) tensor([-1.0359,  0.6427], grad_fn=<CatBackward0>)\n",
      "torch.Size([50, 1])\n",
      "torch.Size([50, 1])\n",
      "10 tensor(1.9842, grad_fn=<MseLossBackward0>) tensor([ 1.0606, -2.2190]) tensor([-1.0508,  0.6654], grad_fn=<CatBackward0>)\n",
      "torch.Size([50, 1])\n",
      "torch.Size([50, 1])\n",
      "10 tensor(2.0074, grad_fn=<MseLossBackward0>) tensor([ 1.5215, -1.9708]) tensor([-1.0614,  0.6876], grad_fn=<CatBackward0>)\n",
      "torch.Size([50, 1])\n",
      "torch.Size([50, 1])\n",
      "10 tensor(2.2577, grad_fn=<MseLossBackward0>) tensor([ 2.0392, -2.0365]) tensor([-1.0766,  0.7073], grad_fn=<CatBackward0>)\n",
      "torch.Size([50, 1])\n",
      "torch.Size([50, 1])\n",
      "10 tensor(1.9854, grad_fn=<MseLossBackward0>) tensor([ 1.3963, -2.1298]) tensor([-1.0970,  0.7276], grad_fn=<CatBackward0>)\n",
      "torch.Size([50, 1])\n",
      "torch.Size([50, 1])\n",
      "11 tensor(1.7428, grad_fn=<MseLossBackward0>) tensor([ 0.9930, -2.0804]) tensor([-1.1109,  0.7489], grad_fn=<CatBackward0>)\n",
      "torch.Size([50, 1])\n",
      "torch.Size([50, 1])\n",
      "11 tensor(1.7628, grad_fn=<MseLossBackward0>) tensor([ 1.4247, -1.8476]) tensor([-1.1209,  0.7697], grad_fn=<CatBackward0>)\n",
      "torch.Size([50, 1])\n",
      "torch.Size([50, 1])\n",
      "11 tensor(1.9825, grad_fn=<MseLossBackward0>) tensor([ 1.9097, -1.9091]) tensor([-1.1351,  0.7882], grad_fn=<CatBackward0>)\n",
      "torch.Size([50, 1])\n",
      "torch.Size([50, 1])\n",
      "11 tensor(1.7437, grad_fn=<MseLossBackward0>) tensor([ 1.3075, -1.9966]) tensor([-1.1542,  0.8073], grad_fn=<CatBackward0>)\n",
      "torch.Size([50, 1])\n",
      "torch.Size([50, 1])\n",
      "12 tensor(1.5307, grad_fn=<MseLossBackward0>) tensor([ 0.9297, -1.9503]) tensor([-1.1673,  0.8273], grad_fn=<CatBackward0>)\n",
      "torch.Size([50, 1])\n",
      "torch.Size([50, 1])\n",
      "12 tensor(1.5481, grad_fn=<MseLossBackward0>) tensor([ 1.3342, -1.7321]) tensor([-1.1766,  0.8468], grad_fn=<CatBackward0>)\n",
      "torch.Size([50, 1])\n",
      "torch.Size([50, 1])\n",
      "12 tensor(1.7408, grad_fn=<MseLossBackward0>) tensor([ 1.7885, -1.7897]) tensor([-1.1899,  0.8641], grad_fn=<CatBackward0>)\n",
      "torch.Size([50, 1])\n",
      "torch.Size([50, 1])\n",
      "12 tensor(1.5313, grad_fn=<MseLossBackward0>) tensor([ 1.2244, -1.8718]) tensor([-1.2078,  0.8820], grad_fn=<CatBackward0>)\n",
      "torch.Size([50, 1])\n",
      "torch.Size([50, 1])\n",
      "13 tensor(1.3445, grad_fn=<MseLossBackward0>) tensor([ 0.8705, -1.8284]) tensor([-1.2201,  0.9007], grad_fn=<CatBackward0>)\n",
      "torch.Size([50, 1])\n",
      "torch.Size([50, 1])\n",
      "13 tensor(1.3595, grad_fn=<MseLossBackward0>) tensor([ 1.2494, -1.6239]) tensor([-1.2288,  0.9190], grad_fn=<CatBackward0>)\n",
      "torch.Size([50, 1])\n",
      "torch.Size([50, 1])\n",
      "13 tensor(1.5286, grad_fn=<MseLossBackward0>) tensor([ 1.6750, -1.6777]) tensor([-1.2413,  0.9352], grad_fn=<CatBackward0>)\n",
      "torch.Size([50, 1])\n",
      "torch.Size([50, 1])\n",
      "13 tensor(1.3449, grad_fn=<MseLossBackward0>) tensor([ 1.1466, -1.7548]) tensor([-1.2580,  0.9520], grad_fn=<CatBackward0>)\n",
      "torch.Size([50, 1])\n",
      "torch.Size([50, 1])\n",
      "14 tensor(1.1809, grad_fn=<MseLossBackward0>) tensor([ 0.8151, -1.7141]) tensor([-1.2695,  0.9696], grad_fn=<CatBackward0>)\n",
      "torch.Size([50, 1])\n",
      "torch.Size([50, 1])\n",
      "14 tensor(1.1939, grad_fn=<MseLossBackward0>) tensor([ 1.1700, -1.5223]) tensor([-1.2776,  0.9867], grad_fn=<CatBackward0>)\n",
      "torch.Size([50, 1])\n",
      "torch.Size([50, 1])\n",
      "14 tensor(1.3422, grad_fn=<MseLossBackward0>) tensor([ 1.5688, -1.5727]) tensor([-1.2893,  1.0019], grad_fn=<CatBackward0>)\n",
      "torch.Size([50, 1])\n",
      "torch.Size([50, 1])\n",
      "14 tensor(1.1811, grad_fn=<MseLossBackward0>) tensor([ 1.0737, -1.6450]) tensor([-1.3050,  1.0176], grad_fn=<CatBackward0>)\n",
      "torch.Size([50, 1])\n",
      "torch.Size([50, 1])\n",
      "15 tensor(1.0372, grad_fn=<MseLossBackward0>) tensor([ 0.7633, -1.6069]) tensor([-1.3158,  1.0341], grad_fn=<CatBackward0>)\n",
      "torch.Size([50, 1])\n",
      "torch.Size([50, 1])\n",
      "15 tensor(1.0485, grad_fn=<MseLossBackward0>) tensor([ 1.0956, -1.4271]) tensor([-1.3234,  1.0502], grad_fn=<CatBackward0>)\n",
      "torch.Size([50, 1])\n",
      "torch.Size([50, 1])\n",
      "15 tensor(1.1786, grad_fn=<MseLossBackward0>) tensor([ 1.4693, -1.4743]) tensor([-1.3343,  1.0644], grad_fn=<CatBackward0>)\n",
      "torch.Size([50, 1])\n",
      "torch.Size([50, 1])\n",
      "15 tensor(1.0373, grad_fn=<MseLossBackward0>) tensor([ 1.0055, -1.5421]) tensor([-1.3490,  1.0792], grad_fn=<CatBackward0>)\n",
      "torch.Size([50, 1])\n",
      "torch.Size([50, 1])\n"
     ]
    },
    {
     "name": "stdout",
     "output_type": "stream",
     "text": [
      "16 tensor(0.9110, grad_fn=<MseLossBackward0>) tensor([ 0.7147, -1.5064]) tensor([-1.3591,  1.0946], grad_fn=<CatBackward0>)\n",
      "torch.Size([50, 1])\n",
      "torch.Size([50, 1])\n",
      "16 tensor(0.9207, grad_fn=<MseLossBackward0>) tensor([ 1.0261, -1.3379]) tensor([-1.3662,  1.1097], grad_fn=<CatBackward0>)\n",
      "torch.Size([50, 1])\n",
      "torch.Size([50, 1])\n",
      "16 tensor(1.0349, grad_fn=<MseLossBackward0>) tensor([ 1.3761, -1.3820]) tensor([-1.3765,  1.1230], grad_fn=<CatBackward0>)\n",
      "torch.Size([50, 1])\n",
      "torch.Size([50, 1])\n",
      "16 tensor(0.9110, grad_fn=<MseLossBackward0>) tensor([ 0.9416, -1.4457]) tensor([-1.3903,  1.1369], grad_fn=<CatBackward0>)\n",
      "torch.Size([50, 1])\n",
      "torch.Size([50, 1])\n",
      "17 tensor(0.8002, grad_fn=<MseLossBackward0>) tensor([ 0.6692, -1.4122]) tensor([-1.3997,  1.1513], grad_fn=<CatBackward0>)\n",
      "torch.Size([50, 1])\n",
      "torch.Size([50, 1])\n",
      "17 tensor(0.8086, grad_fn=<MseLossBackward0>) tensor([ 0.9609, -1.2542]) tensor([-1.4064,  1.1654], grad_fn=<CatBackward0>)\n",
      "torch.Size([50, 1])\n",
      "torch.Size([50, 1])\n",
      "17 tensor(0.9088, grad_fn=<MseLossBackward0>) tensor([ 1.2888, -1.2955]) tensor([-1.4160,  1.1780], grad_fn=<CatBackward0>)\n",
      "torch.Size([50, 1])\n",
      "torch.Size([50, 1])\n",
      "17 tensor(0.8001, grad_fn=<MseLossBackward0>) tensor([ 0.8818, -1.3552]) tensor([-1.4289,  1.1909], grad_fn=<CatBackward0>)\n",
      "torch.Size([50, 1])\n",
      "torch.Size([50, 1])\n",
      "18 tensor(0.7028, grad_fn=<MseLossBackward0>) tensor([ 0.6267, -1.3238]) tensor([-1.4377,  1.2045], grad_fn=<CatBackward0>)\n",
      "torch.Size([50, 1])\n",
      "torch.Size([50, 1])\n",
      "18 tensor(0.7101, grad_fn=<MseLossBackward0>) tensor([ 0.8999, -1.1757]) tensor([-1.4439,  1.2177], grad_fn=<CatBackward0>)\n",
      "torch.Size([50, 1])\n",
      "torch.Size([50, 1])\n",
      "18 tensor(0.7980, grad_fn=<MseLossBackward0>) tensor([ 1.2071, -1.2144]) tensor([-1.4529,  1.2295], grad_fn=<CatBackward0>)\n",
      "torch.Size([50, 1])\n",
      "torch.Size([50, 1])\n",
      "18 tensor(0.7026, grad_fn=<MseLossBackward0>) tensor([ 0.8258, -1.2704]) tensor([-1.4650,  1.2416], grad_fn=<CatBackward0>)\n",
      "torch.Size([50, 1])\n",
      "torch.Size([50, 1])\n",
      "19 tensor(0.6173, grad_fn=<MseLossBackward0>) tensor([ 0.5869, -1.2410]) tensor([-1.4733,  1.2543], grad_fn=<CatBackward0>)\n",
      "torch.Size([50, 1])\n",
      "torch.Size([50, 1])\n",
      "19 tensor(0.6236, grad_fn=<MseLossBackward0>) tensor([ 0.8428, -1.1022]) tensor([-1.4791,  1.2667], grad_fn=<CatBackward0>)\n",
      "torch.Size([50, 1])\n",
      "torch.Size([50, 1])\n",
      "19 tensor(0.7007, grad_fn=<MseLossBackward0>) tensor([ 1.1306, -1.1384]) tensor([-1.4876,  1.2778], grad_fn=<CatBackward0>)\n",
      "torch.Size([50, 1])\n",
      "torch.Size([50, 1])\n",
      "19 tensor(0.6171, grad_fn=<MseLossBackward0>) tensor([ 0.7734, -1.1909]) tensor([-1.4989,  1.2892], grad_fn=<CatBackward0>)\n",
      "torch.Size([50, 1])\n",
      "torch.Size([50, 1])\n",
      "20 tensor(0.5422, grad_fn=<MseLossBackward0>) tensor([ 0.5496, -1.1633]) tensor([-1.5066,  1.3011], grad_fn=<CatBackward0>)\n",
      "torch.Size([50, 1])\n",
      "torch.Size([50, 1])\n",
      "20 tensor(0.5476, grad_fn=<MseLossBackward0>) tensor([ 0.7893, -1.0332]) tensor([-1.5121,  1.3127], grad_fn=<CatBackward0>)\n",
      "torch.Size([50, 1])\n",
      "torch.Size([50, 1])\n",
      "20 tensor(0.6153, grad_fn=<MseLossBackward0>) tensor([ 1.0590, -1.0671]) tensor([-1.5200,  1.3230], grad_fn=<CatBackward0>)\n",
      "torch.Size([50, 1])\n",
      "torch.Size([50, 1])\n",
      "20 tensor(0.5419, grad_fn=<MseLossBackward0>) tensor([ 0.7243, -1.1164]) tensor([-1.5306,  1.3337], grad_fn=<CatBackward0>)\n",
      "torch.Size([50, 1])\n",
      "torch.Size([50, 1])\n",
      "21 tensor(0.4762, grad_fn=<MseLossBackward0>) tensor([ 0.5146, -1.0905]) tensor([-1.5378,  1.3449], grad_fn=<CatBackward0>)\n",
      "torch.Size([50, 1])\n",
      "torch.Size([50, 1])\n",
      "21 tensor(0.4809, grad_fn=<MseLossBackward0>) tensor([ 0.7392, -0.9686]) tensor([-1.5430,  1.3558], grad_fn=<CatBackward0>)\n",
      "torch.Size([50, 1])\n",
      "torch.Size([50, 1])\n",
      "21 tensor(0.5403, grad_fn=<MseLossBackward0>) tensor([ 0.9919, -1.0003]) tensor([-1.5504,  1.3655], grad_fn=<CatBackward0>)\n",
      "torch.Size([50, 1])\n",
      "torch.Size([50, 1])\n",
      "21 tensor(0.4760, grad_fn=<MseLossBackward0>) tensor([ 0.6784, -1.0465]) tensor([-1.5603,  1.3755], grad_fn=<CatBackward0>)\n",
      "torch.Size([50, 1])\n",
      "torch.Size([50, 1])\n",
      "22 tensor(0.4182, grad_fn=<MseLossBackward0>) tensor([ 0.4820, -1.0223]) tensor([-1.5671,  1.3859], grad_fn=<CatBackward0>)\n",
      "torch.Size([50, 1])\n",
      "torch.Size([50, 1])\n",
      "22 tensor(0.4224, grad_fn=<MseLossBackward0>) tensor([ 0.6924, -0.9079]) tensor([-1.5719,  1.3961], grad_fn=<CatBackward0>)\n",
      "torch.Size([50, 1])\n",
      "torch.Size([50, 1])\n",
      "22 tensor(0.4745, grad_fn=<MseLossBackward0>) tensor([ 0.9291, -0.9376]) tensor([-1.5788,  1.4052], grad_fn=<CatBackward0>)\n",
      "torch.Size([50, 1])\n",
      "torch.Size([50, 1])\n",
      "22 tensor(0.4180, grad_fn=<MseLossBackward0>) tensor([ 0.6353, -0.9810]) tensor([-1.5881,  1.4146], grad_fn=<CatBackward0>)\n",
      "torch.Size([50, 1])\n",
      "torch.Size([50, 1])\n",
      "23 tensor(0.3673, grad_fn=<MseLossBackward0>) tensor([ 0.4513, -0.9583]) tensor([-1.5945,  1.4244], grad_fn=<CatBackward0>)\n",
      "torch.Size([50, 1])\n",
      "torch.Size([50, 1])\n",
      "23 tensor(0.3709, grad_fn=<MseLossBackward0>) tensor([ 0.6485, -0.8511]) tensor([-1.5990,  1.4340], grad_fn=<CatBackward0>)\n",
      "torch.Size([50, 1])\n",
      "torch.Size([50, 1])\n",
      "23 tensor(0.4166, grad_fn=<MseLossBackward0>) tensor([ 0.8702, -0.8789]) tensor([-1.6055,  1.4425], grad_fn=<CatBackward0>)\n",
      "torch.Size([50, 1])\n",
      "torch.Size([50, 1])\n",
      "23 tensor(0.3671, grad_fn=<MseLossBackward0>) tensor([ 0.5951, -0.9196]) tensor([-1.6142,  1.4513], grad_fn=<CatBackward0>)\n",
      "torch.Size([50, 1])\n",
      "torch.Size([50, 1])\n",
      "24 tensor(0.3226, grad_fn=<MseLossBackward0>) tensor([ 0.4227, -0.8983]) tensor([-1.6201,  1.4605], grad_fn=<CatBackward0>)\n",
      "torch.Size([50, 1])\n",
      "torch.Size([50, 1])\n",
      "24 tensor(0.3257, grad_fn=<MseLossBackward0>) tensor([ 0.6073, -0.7978]) tensor([-1.6243,  1.4695], grad_fn=<CatBackward0>)\n",
      "torch.Size([50, 1])\n",
      "torch.Size([50, 1])\n",
      "24 tensor(0.3659, grad_fn=<MseLossBackward0>) tensor([ 0.8151, -0.8238]) tensor([-1.6304,  1.4774], grad_fn=<CatBackward0>)\n",
      "torch.Size([50, 1])\n",
      "torch.Size([50, 1])\n",
      "24 tensor(0.3224, grad_fn=<MseLossBackward0>) tensor([ 0.5573, -0.8620]) tensor([-1.6386,  1.4857], grad_fn=<CatBackward0>)\n",
      "torch.Size([50, 1])\n",
      "torch.Size([50, 1])\n",
      "25 tensor(0.2834, grad_fn=<MseLossBackward0>) tensor([ 0.3959, -0.8421]) tensor([-1.6441,  1.4943], grad_fn=<CatBackward0>)\n",
      "torch.Size([50, 1])\n",
      "torch.Size([50, 1])\n",
      "25 tensor(0.2861, grad_fn=<MseLossBackward0>) tensor([ 0.5689, -0.7479]) tensor([-1.6481,  1.5027], grad_fn=<CatBackward0>)\n",
      "torch.Size([50, 1])\n",
      "torch.Size([50, 1])\n",
      "25 tensor(0.3213, grad_fn=<MseLossBackward0>) tensor([ 0.7635, -0.7722]) tensor([-1.6538,  1.5102], grad_fn=<CatBackward0>)\n",
      "torch.Size([50, 1])\n",
      "torch.Size([50, 1])\n",
      "25 tensor(0.2831, grad_fn=<MseLossBackward0>) tensor([ 0.5220, -0.8080]) tensor([-1.6614,  1.5179], grad_fn=<CatBackward0>)\n",
      "torch.Size([50, 1])\n",
      "torch.Size([50, 1])\n",
      "26 tensor(0.2489, grad_fn=<MseLossBackward0>) tensor([ 0.3707, -0.7894]) tensor([-1.6666,  1.5260], grad_fn=<CatBackward0>)\n",
      "torch.Size([50, 1])\n",
      "torch.Size([50, 1])\n",
      "26 tensor(0.2512, grad_fn=<MseLossBackward0>) tensor([ 0.5328, -0.7011]) tensor([-1.6704,  1.5339], grad_fn=<CatBackward0>)\n",
      "torch.Size([50, 1])\n",
      "torch.Size([50, 1])\n",
      "26 tensor(0.2821, grad_fn=<MseLossBackward0>) tensor([ 0.7152, -0.7238]) tensor([-1.6757,  1.5409], grad_fn=<CatBackward0>)\n",
      "torch.Size([50, 1])\n",
      "torch.Size([50, 1])\n",
      "26 tensor(0.2487, grad_fn=<MseLossBackward0>) tensor([ 0.4889, -0.7574]) tensor([-1.6828,  1.5482], grad_fn=<CatBackward0>)\n",
      "torch.Size([50, 1])\n",
      "torch.Size([50, 1])\n",
      "27 tensor(0.2186, grad_fn=<MseLossBackward0>) tensor([ 0.3472, -0.7399]) tensor([-1.6877,  1.5557], grad_fn=<CatBackward0>)\n",
      "torch.Size([50, 1])\n",
      "torch.Size([50, 1])\n",
      "27 tensor(0.2206, grad_fn=<MseLossBackward0>) tensor([ 0.4990, -0.6572]) tensor([-1.6912,  1.5631], grad_fn=<CatBackward0>)\n",
      "torch.Size([50, 1])\n",
      "torch.Size([50, 1])\n",
      "27 tensor(0.2477, grad_fn=<MseLossBackward0>) tensor([ 0.6699, -0.6785]) tensor([-1.6962,  1.5697], grad_fn=<CatBackward0>)\n",
      "torch.Size([50, 1])\n",
      "torch.Size([50, 1])\n",
      "27 tensor(0.2184, grad_fn=<MseLossBackward0>) tensor([ 0.4579, -0.7100]) tensor([-1.7029,  1.5765], grad_fn=<CatBackward0>)\n",
      "torch.Size([50, 1])\n",
      "torch.Size([50, 1])\n",
      "28 tensor(0.1920, grad_fn=<MseLossBackward0>) tensor([ 0.3252, -0.6936]) tensor([-1.7075,  1.5836], grad_fn=<CatBackward0>)\n",
      "torch.Size([50, 1])\n",
      "torch.Size([50, 1])\n",
      "28 tensor(0.1937, grad_fn=<MseLossBackward0>) tensor([ 0.4674, -0.6160]) tensor([-1.7107,  1.5905], grad_fn=<CatBackward0>)\n",
      "torch.Size([50, 1])\n",
      "torch.Size([50, 1])\n",
      "28 tensor(0.2175, grad_fn=<MseLossBackward0>) tensor([ 0.6276, -0.6360]) tensor([-1.7154,  1.5967], grad_fn=<CatBackward0>)\n",
      "torch.Size([50, 1])\n",
      "torch.Size([50, 1])\n",
      "28 tensor(0.1918, grad_fn=<MseLossBackward0>) tensor([ 0.4289, -0.6655]) tensor([-1.7217,  1.6030], grad_fn=<CatBackward0>)\n",
      "torch.Size([50, 1])\n",
      "torch.Size([50, 1])\n",
      "29 tensor(0.1686, grad_fn=<MseLossBackward0>) tensor([ 0.3046, -0.6502]) tensor([-1.7260,  1.6097], grad_fn=<CatBackward0>)\n",
      "torch.Size([50, 1])\n",
      "torch.Size([50, 1])\n",
      "29 tensor(0.1701, grad_fn=<MseLossBackward0>) tensor([ 0.4378, -0.5774]) tensor([-1.7290,  1.6162], grad_fn=<CatBackward0>)\n",
      "torch.Size([50, 1])\n",
      "torch.Size([50, 1])\n",
      "29 tensor(0.1910, grad_fn=<MseLossBackward0>) tensor([ 0.5879, -0.5961]) tensor([-1.7334,  1.6220], grad_fn=<CatBackward0>)\n",
      "torch.Size([50, 1])\n",
      "torch.Size([50, 1])\n",
      "29 tensor(0.1684, grad_fn=<MseLossBackward0>) tensor([ 0.4017, -0.6238]) tensor([-1.7393,  1.6279], grad_fn=<CatBackward0>)\n",
      "torch.Size([50, 1])\n",
      "torch.Size([50, 1])\n",
      "30 tensor(0.1481, grad_fn=<MseLossBackward0>) tensor([ 0.2853, -0.6094]) tensor([-1.7433,  1.6342], grad_fn=<CatBackward0>)\n",
      "torch.Size([50, 1])\n",
      "torch.Size([50, 1])\n",
      "30 tensor(0.1494, grad_fn=<MseLossBackward0>) tensor([ 0.4101, -0.5413]) tensor([-1.7461,  1.6403], grad_fn=<CatBackward0>)\n",
      "torch.Size([50, 1])\n",
      "torch.Size([50, 1])\n",
      "30 tensor(0.1677, grad_fn=<MseLossBackward0>) tensor([ 0.5507, -0.5587]) tensor([-1.7502,  1.6457], grad_fn=<CatBackward0>)\n",
      "torch.Size([50, 1])\n",
      "torch.Size([50, 1])\n",
      "30 tensor(0.1479, grad_fn=<MseLossBackward0>) tensor([ 0.3763, -0.5848]) tensor([-1.7557,  1.6513], grad_fn=<CatBackward0>)\n",
      "torch.Size([50, 1])\n",
      "torch.Size([50, 1])\n",
      "31 tensor(0.1301, grad_fn=<MseLossBackward0>) tensor([ 0.2672, -0.5713]) tensor([-1.7595,  1.6571], grad_fn=<CatBackward0>)\n",
      "torch.Size([50, 1])\n",
      "torch.Size([50, 1])\n",
      "31 tensor(0.1312, grad_fn=<MseLossBackward0>) tensor([ 0.3841, -0.5073]) tensor([-1.7622,  1.6628], grad_fn=<CatBackward0>)\n",
      "torch.Size([50, 1])\n",
      "torch.Size([50, 1])\n",
      "31 tensor(0.1473, grad_fn=<MseLossBackward0>) tensor([ 0.5158, -0.5237]) tensor([-1.7660,  1.6679], grad_fn=<CatBackward0>)\n",
      "torch.Size([50, 1])\n",
      "torch.Size([50, 1])\n",
      "31 tensor(0.1299, grad_fn=<MseLossBackward0>) tensor([ 0.3525, -0.5481]) tensor([-1.7712,  1.6731], grad_fn=<CatBackward0>)\n",
      "torch.Size([50, 1])\n",
      "torch.Size([50, 1])\n",
      "32 tensor(0.1143, grad_fn=<MseLossBackward0>) tensor([ 0.2502, -0.5355]) tensor([-1.7747,  1.6786], grad_fn=<CatBackward0>)\n",
      "torch.Size([50, 1])\n",
      "torch.Size([50, 1])\n",
      "32 tensor(0.1152, grad_fn=<MseLossBackward0>) tensor([ 0.3598, -0.4756]) tensor([-1.7772,  1.6840], grad_fn=<CatBackward0>)\n",
      "torch.Size([50, 1])\n",
      "torch.Size([50, 1])\n",
      "32 tensor(0.1293, grad_fn=<MseLossBackward0>) tensor([ 0.4832, -0.4909]) tensor([-1.7808,  1.6887], grad_fn=<CatBackward0>)\n",
      "torch.Size([50, 1])\n",
      "torch.Size([50, 1])\n",
      "32 tensor(0.1141, grad_fn=<MseLossBackward0>) tensor([ 0.3302, -0.5138]) tensor([-1.7856,  1.6936], grad_fn=<CatBackward0>)\n",
      "torch.Size([50, 1])\n",
      "torch.Size([50, 1])\n",
      "33 tensor(0.1003, grad_fn=<MseLossBackward0>) tensor([ 0.2344, -0.5019]) tensor([-1.7889,  1.6988], grad_fn=<CatBackward0>)\n",
      "torch.Size([50, 1])\n",
      "torch.Size([50, 1])\n",
      "33 tensor(0.1012, grad_fn=<MseLossBackward0>) tensor([ 0.3371, -0.4458]) tensor([-1.7913,  1.7038], grad_fn=<CatBackward0>)\n",
      "torch.Size([50, 1])\n",
      "torch.Size([50, 1])\n",
      "33 tensor(0.1136, grad_fn=<MseLossBackward0>) tensor([ 0.4527, -0.4601]) tensor([-1.7946,  1.7082], grad_fn=<CatBackward0>)\n"
     ]
    },
    {
     "name": "stdout",
     "output_type": "stream",
     "text": [
      "torch.Size([50, 1])\n",
      "torch.Size([50, 1])\n",
      "33 tensor(0.1002, grad_fn=<MseLossBackward0>) tensor([ 0.3093, -0.4816]) tensor([-1.7992,  1.7129], grad_fn=<CatBackward0>)\n",
      "torch.Size([50, 1])\n",
      "torch.Size([50, 1])\n",
      "34 tensor(0.0881, grad_fn=<MseLossBackward0>) tensor([ 0.2195, -0.4705]) tensor([-1.8023,  1.7177], grad_fn=<CatBackward0>)\n",
      "torch.Size([50, 1])\n",
      "torch.Size([50, 1])\n",
      "34 tensor(0.0889, grad_fn=<MseLossBackward0>) tensor([ 0.3157, -0.4178]) tensor([-1.8045,  1.7224], grad_fn=<CatBackward0>)\n",
      "torch.Size([50, 1])\n",
      "torch.Size([50, 1])\n",
      "34 tensor(0.0997, grad_fn=<MseLossBackward0>) tensor([ 0.4240, -0.4313]) tensor([-1.8076,  1.7266], grad_fn=<CatBackward0>)\n",
      "torch.Size([50, 1])\n",
      "torch.Size([50, 1])\n",
      "34 tensor(0.0880, grad_fn=<MseLossBackward0>) tensor([ 0.2897, -0.4514]) tensor([-1.8119,  1.7309], grad_fn=<CatBackward0>)\n",
      "torch.Size([50, 1])\n",
      "torch.Size([50, 1])\n",
      "35 tensor(0.0774, grad_fn=<MseLossBackward0>) tensor([ 0.2056, -0.4410]) tensor([-1.8148,  1.7354], grad_fn=<CatBackward0>)\n",
      "torch.Size([50, 1])\n",
      "torch.Size([50, 1])\n",
      "35 tensor(0.0781, grad_fn=<MseLossBackward0>) tensor([ 0.2958, -0.3917]) tensor([-1.8168,  1.7398], grad_fn=<CatBackward0>)\n",
      "torch.Size([50, 1])\n",
      "torch.Size([50, 1])\n",
      "35 tensor(0.0876, grad_fn=<MseLossBackward0>) tensor([ 0.3972, -0.4042]) tensor([-1.8198,  1.7437], grad_fn=<CatBackward0>)\n",
      "torch.Size([50, 1])\n",
      "torch.Size([50, 1])\n",
      "35 tensor(0.0773, grad_fn=<MseLossBackward0>) tensor([ 0.2714, -0.4231]) tensor([-1.8237,  1.7477], grad_fn=<CatBackward0>)\n",
      "torch.Size([50, 1])\n",
      "torch.Size([50, 1])\n",
      "36 tensor(0.0680, grad_fn=<MseLossBackward0>) tensor([ 0.1926, -0.4134]) tensor([-1.8265,  1.7520], grad_fn=<CatBackward0>)\n",
      "torch.Size([50, 1])\n",
      "torch.Size([50, 1])\n",
      "36 tensor(0.0685, grad_fn=<MseLossBackward0>) tensor([ 0.2770, -0.3671]) tensor([-1.8284,  1.7561], grad_fn=<CatBackward0>)\n",
      "torch.Size([50, 1])\n",
      "torch.Size([50, 1])\n",
      "36 tensor(0.0769, grad_fn=<MseLossBackward0>) tensor([ 0.3721, -0.3789]) tensor([-1.8311,  1.7598], grad_fn=<CatBackward0>)\n",
      "torch.Size([50, 1])\n",
      "torch.Size([50, 1])\n",
      "36 tensor(0.0679, grad_fn=<MseLossBackward0>) tensor([ 0.2542, -0.3966]) tensor([-1.8349,  1.7636], grad_fn=<CatBackward0>)\n",
      "torch.Size([50, 1])\n",
      "torch.Size([50, 1])\n",
      "37 tensor(0.0597, grad_fn=<MseLossBackward0>) tensor([ 0.1804, -0.3875]) tensor([-1.8374,  1.7675], grad_fn=<CatBackward0>)\n",
      "torch.Size([50, 1])\n",
      "torch.Size([50, 1])\n",
      "37 tensor(0.0602, grad_fn=<MseLossBackward0>) tensor([ 0.2595, -0.3441]) tensor([-1.8392,  1.7714], grad_fn=<CatBackward0>)\n",
      "torch.Size([50, 1])\n",
      "torch.Size([50, 1])\n",
      "37 tensor(0.0675, grad_fn=<MseLossBackward0>) tensor([ 0.3486, -0.3551]) tensor([-1.8418,  1.7749], grad_fn=<CatBackward0>)\n",
      "torch.Size([50, 1])\n",
      "torch.Size([50, 1])\n",
      "37 tensor(0.0596, grad_fn=<MseLossBackward0>) tensor([ 0.2381, -0.3717]) tensor([-1.8453,  1.7784], grad_fn=<CatBackward0>)\n",
      "torch.Size([50, 1])\n",
      "torch.Size([50, 1])\n",
      "38 tensor(0.0524, grad_fn=<MseLossBackward0>) tensor([ 0.1690, -0.3632]) tensor([-1.8477,  1.7821], grad_fn=<CatBackward0>)\n",
      "torch.Size([50, 1])\n",
      "torch.Size([50, 1])\n",
      "38 tensor(0.0529, grad_fn=<MseLossBackward0>) tensor([ 0.2431, -0.3225]) tensor([-1.8494,  1.7858], grad_fn=<CatBackward0>)\n",
      "torch.Size([50, 1])\n",
      "torch.Size([50, 1])\n",
      "38 tensor(0.0593, grad_fn=<MseLossBackward0>) tensor([ 0.3266, -0.3328]) tensor([-1.8518,  1.7890], grad_fn=<CatBackward0>)\n",
      "torch.Size([50, 1])\n",
      "torch.Size([50, 1])\n",
      "38 tensor(0.0524, grad_fn=<MseLossBackward0>) tensor([ 0.2230, -0.3484]) tensor([-1.8551,  1.7923], grad_fn=<CatBackward0>)\n",
      "torch.Size([50, 1])\n",
      "torch.Size([50, 1])\n",
      "39 tensor(0.0461, grad_fn=<MseLossBackward0>) tensor([ 0.1583, -0.3404]) tensor([-1.8573,  1.7958], grad_fn=<CatBackward0>)\n",
      "torch.Size([50, 1])\n",
      "torch.Size([50, 1])\n",
      "39 tensor(0.0464, grad_fn=<MseLossBackward0>) tensor([ 0.2277, -0.3023]) tensor([-1.8589,  1.7992], grad_fn=<CatBackward0>)\n",
      "torch.Size([50, 1])\n",
      "torch.Size([50, 1])\n",
      "39 tensor(0.0521, grad_fn=<MseLossBackward0>) tensor([ 0.3060, -0.3119]) tensor([-1.8612,  1.8022], grad_fn=<CatBackward0>)\n",
      "torch.Size([50, 1])\n",
      "torch.Size([50, 1])\n",
      "39 tensor(0.0460, grad_fn=<MseLossBackward0>) tensor([ 0.2089, -0.3266]) tensor([-1.8642,  1.8053], grad_fn=<CatBackward0>)\n",
      "torch.Size([50, 1])\n",
      "torch.Size([50, 1])\n",
      "40 tensor(0.0405, grad_fn=<MseLossBackward0>) tensor([ 0.1483, -0.3191]) tensor([-1.8663,  1.8086], grad_fn=<CatBackward0>)\n",
      "torch.Size([50, 1])\n",
      "torch.Size([50, 1])\n",
      "40 tensor(0.0408, grad_fn=<MseLossBackward0>) tensor([ 0.2133, -0.2834]) tensor([-1.8678,  1.8118], grad_fn=<CatBackward0>)\n",
      "torch.Size([50, 1])\n",
      "torch.Size([50, 1])\n",
      "40 tensor(0.0457, grad_fn=<MseLossBackward0>) tensor([ 0.2866, -0.2924]) tensor([-1.8699,  1.8146], grad_fn=<CatBackward0>)\n",
      "torch.Size([50, 1])\n",
      "torch.Size([50, 1])\n",
      "40 tensor(0.0404, grad_fn=<MseLossBackward0>) tensor([ 0.1957, -0.3061]) tensor([-1.8728,  1.8176], grad_fn=<CatBackward0>)\n",
      "torch.Size([50, 1])\n",
      "torch.Size([50, 1])\n",
      "41 tensor(0.0355, grad_fn=<MseLossBackward0>) tensor([ 0.1389, -0.2991]) tensor([-1.8747,  1.8206], grad_fn=<CatBackward0>)\n",
      "torch.Size([50, 1])\n",
      "torch.Size([50, 1])\n",
      "41 tensor(0.0358, grad_fn=<MseLossBackward0>) tensor([ 0.1999, -0.2656]) tensor([-1.8761,  1.8236], grad_fn=<CatBackward0>)\n",
      "torch.Size([50, 1])\n",
      "torch.Size([50, 1])\n",
      "41 tensor(0.0402, grad_fn=<MseLossBackward0>) tensor([ 0.2685, -0.2740]) tensor([-1.8781,  1.8263], grad_fn=<CatBackward0>)\n",
      "torch.Size([50, 1])\n",
      "torch.Size([50, 1])\n",
      "41 tensor(0.0355, grad_fn=<MseLossBackward0>) tensor([ 0.1834, -0.2869]) tensor([-1.8808,  1.8290], grad_fn=<CatBackward0>)\n",
      "torch.Size([50, 1])\n",
      "torch.Size([50, 1])\n",
      "42 tensor(0.0312, grad_fn=<MseLossBackward0>) tensor([ 0.1301, -0.2804]) tensor([-1.8826,  1.8319], grad_fn=<CatBackward0>)\n",
      "torch.Size([50, 1])\n",
      "torch.Size([50, 1])\n",
      "42 tensor(0.0314, grad_fn=<MseLossBackward0>) tensor([ 0.1872, -0.2490]) tensor([-1.8840,  1.8347], grad_fn=<CatBackward0>)\n",
      "torch.Size([50, 1])\n",
      "torch.Size([50, 1])\n",
      "42 tensor(0.0353, grad_fn=<MseLossBackward0>) tensor([ 0.2516, -0.2568]) tensor([-1.8858,  1.8372], grad_fn=<CatBackward0>)\n",
      "torch.Size([50, 1])\n",
      "torch.Size([50, 1])\n",
      "42 tensor(0.0311, grad_fn=<MseLossBackward0>) tensor([ 0.1718, -0.2689]) tensor([-1.8883,  1.8397], grad_fn=<CatBackward0>)\n",
      "torch.Size([50, 1])\n",
      "torch.Size([50, 1])\n",
      "43 tensor(0.0274, grad_fn=<MseLossBackward0>) tensor([ 0.1219, -0.2628]) tensor([-1.8901,  1.8424], grad_fn=<CatBackward0>)\n",
      "torch.Size([50, 1])\n",
      "torch.Size([50, 1])\n",
      "43 tensor(0.0276, grad_fn=<MseLossBackward0>) tensor([ 0.1754, -0.2333]) tensor([-1.8913,  1.8450], grad_fn=<CatBackward0>)\n",
      "torch.Size([50, 1])\n",
      "torch.Size([50, 1])\n",
      "43 tensor(0.0310, grad_fn=<MseLossBackward0>) tensor([ 0.2357, -0.2407]) tensor([-1.8930,  1.8474], grad_fn=<CatBackward0>)\n",
      "torch.Size([50, 1])\n",
      "torch.Size([50, 1])\n",
      "43 tensor(0.0274, grad_fn=<MseLossBackward0>) tensor([ 0.1609, -0.2521]) tensor([-1.8954,  1.8498], grad_fn=<CatBackward0>)\n",
      "torch.Size([50, 1])\n",
      "torch.Size([50, 1])\n",
      "44 tensor(0.0241, grad_fn=<MseLossBackward0>) tensor([ 0.1142, -0.2463]) tensor([-1.8970,  1.8523], grad_fn=<CatBackward0>)\n",
      "torch.Size([50, 1])\n",
      "torch.Size([50, 1])\n",
      "44 tensor(0.0243, grad_fn=<MseLossBackward0>) tensor([ 0.1643, -0.2187]) tensor([-1.8981,  1.8548], grad_fn=<CatBackward0>)\n",
      "torch.Size([50, 1])\n",
      "torch.Size([50, 1])\n",
      "44 tensor(0.0272, grad_fn=<MseLossBackward0>) tensor([ 0.2208, -0.2256]) tensor([-1.8998,  1.8570], grad_fn=<CatBackward0>)\n",
      "torch.Size([50, 1])\n",
      "torch.Size([50, 1])\n",
      "44 tensor(0.0240, grad_fn=<MseLossBackward0>) tensor([ 0.1507, -0.2363]) tensor([-1.9020,  1.8592], grad_fn=<CatBackward0>)\n",
      "torch.Size([50, 1])\n",
      "torch.Size([50, 1])\n",
      "45 tensor(0.0211, grad_fn=<MseLossBackward0>) tensor([ 0.1069, -0.2309]) tensor([-1.9035,  1.8616], grad_fn=<CatBackward0>)\n",
      "torch.Size([50, 1])\n",
      "torch.Size([50, 1])\n",
      "45 tensor(0.0213, grad_fn=<MseLossBackward0>) tensor([ 0.1539, -0.2050]) tensor([-1.9046,  1.8639], grad_fn=<CatBackward0>)\n",
      "torch.Size([50, 1])\n",
      "torch.Size([50, 1])\n",
      "45 tensor(0.0239, grad_fn=<MseLossBackward0>) tensor([ 0.2068, -0.2115]) tensor([-1.9061,  1.8659], grad_fn=<CatBackward0>)\n",
      "torch.Size([50, 1])\n",
      "torch.Size([50, 1])\n",
      "45 tensor(0.0211, grad_fn=<MseLossBackward0>) tensor([ 0.1412, -0.2215]) tensor([-1.9082,  1.8681], grad_fn=<CatBackward0>)\n",
      "torch.Size([50, 1])\n",
      "torch.Size([50, 1])\n",
      "46 tensor(0.0186, grad_fn=<MseLossBackward0>) tensor([ 0.1002, -0.2164]) tensor([-1.9096,  1.8703], grad_fn=<CatBackward0>)\n",
      "torch.Size([50, 1])\n",
      "torch.Size([50, 1])\n",
      "46 tensor(0.0187, grad_fn=<MseLossBackward0>) tensor([ 0.1442, -0.1921]) tensor([-1.9106,  1.8724], grad_fn=<CatBackward0>)\n",
      "torch.Size([50, 1])\n",
      "torch.Size([50, 1])\n",
      "46 tensor(0.0210, grad_fn=<MseLossBackward0>) tensor([ 0.1938, -0.1982]) tensor([-1.9120,  1.8744], grad_fn=<CatBackward0>)\n",
      "torch.Size([50, 1])\n",
      "torch.Size([50, 1])\n",
      "46 tensor(0.0185, grad_fn=<MseLossBackward0>) tensor([ 0.1323, -0.2076]) tensor([-1.9140,  1.8763], grad_fn=<CatBackward0>)\n",
      "torch.Size([50, 1])\n",
      "torch.Size([50, 1])\n",
      "47 tensor(0.0163, grad_fn=<MseLossBackward0>) tensor([ 0.0938, -0.2028]) tensor([-1.9153,  1.8784], grad_fn=<CatBackward0>)\n",
      "torch.Size([50, 1])\n",
      "torch.Size([50, 1])\n",
      "47 tensor(0.0164, grad_fn=<MseLossBackward0>) tensor([ 0.1351, -0.1801]) tensor([-1.9162,  1.8804], grad_fn=<CatBackward0>)\n",
      "torch.Size([50, 1])\n",
      "torch.Size([50, 1])\n",
      "47 tensor(0.0184, grad_fn=<MseLossBackward0>) tensor([ 0.1816, -0.1857]) tensor([-1.9176,  1.8822], grad_fn=<CatBackward0>)\n",
      "torch.Size([50, 1])\n",
      "torch.Size([50, 1])\n",
      "47 tensor(0.0163, grad_fn=<MseLossBackward0>) tensor([ 0.1239, -0.1945]) tensor([-1.9194,  1.8841], grad_fn=<CatBackward0>)\n",
      "torch.Size([50, 1])\n",
      "torch.Size([50, 1])\n",
      "48 tensor(0.0143, grad_fn=<MseLossBackward0>) tensor([ 0.0879, -0.1901]) tensor([-1.9206,  1.8860], grad_fn=<CatBackward0>)\n",
      "torch.Size([50, 1])\n",
      "torch.Size([50, 1])\n",
      "48 tensor(0.0144, grad_fn=<MseLossBackward0>) tensor([ 0.1266, -0.1688]) tensor([-1.9215,  1.8879], grad_fn=<CatBackward0>)\n",
      "torch.Size([50, 1])\n",
      "torch.Size([50, 1])\n",
      "48 tensor(0.0162, grad_fn=<MseLossBackward0>) tensor([ 0.1701, -0.1741]) tensor([-1.9228,  1.8896], grad_fn=<CatBackward0>)\n",
      "torch.Size([50, 1])\n",
      "torch.Size([50, 1])\n",
      "48 tensor(0.0143, grad_fn=<MseLossBackward0>) tensor([ 0.1161, -0.1823]) tensor([-1.9245,  1.8914], grad_fn=<CatBackward0>)\n",
      "torch.Size([50, 1])\n",
      "torch.Size([50, 1])\n",
      "49 tensor(0.0126, grad_fn=<MseLossBackward0>) tensor([ 0.0823, -0.1782]) tensor([-1.9256,  1.8932], grad_fn=<CatBackward0>)\n",
      "torch.Size([50, 1])\n",
      "torch.Size([50, 1])\n",
      "49 tensor(0.0127, grad_fn=<MseLossBackward0>) tensor([ 0.1186, -0.1582]) tensor([-1.9265,  1.8950], grad_fn=<CatBackward0>)\n",
      "torch.Size([50, 1])\n",
      "torch.Size([50, 1])\n",
      "49 tensor(0.0142, grad_fn=<MseLossBackward0>) tensor([ 0.1594, -0.1631]) tensor([-1.9276,  1.8966], grad_fn=<CatBackward0>)\n"
     ]
    },
    {
     "name": "stdout",
     "output_type": "stream",
     "text": [
      "torch.Size([50, 1])\n",
      "torch.Size([50, 1])\n",
      "49 tensor(0.0126, grad_fn=<MseLossBackward0>) tensor([ 0.1088, -0.1709]) tensor([-1.9292,  1.8982], grad_fn=<CatBackward0>)\n",
      "torch.Size([50, 1])\n",
      "torch.Size([50, 1])\n",
      "50 tensor(0.0111, grad_fn=<MseLossBackward0>) tensor([ 0.0771, -0.1670]) tensor([-1.9303,  1.8999], grad_fn=<CatBackward0>)\n",
      "torch.Size([50, 1])\n",
      "torch.Size([50, 1])\n",
      "50 tensor(0.0111, grad_fn=<MseLossBackward0>) tensor([ 0.1111, -0.1483]) tensor([-1.9311,  1.9016], grad_fn=<CatBackward0>)\n",
      "torch.Size([50, 1])\n",
      "torch.Size([50, 1])\n",
      "50 tensor(0.0125, grad_fn=<MseLossBackward0>) tensor([ 0.1493, -0.1529]) tensor([-1.9322,  1.9031], grad_fn=<CatBackward0>)\n",
      "torch.Size([50, 1])\n",
      "torch.Size([50, 1])\n",
      "50 tensor(0.0110, grad_fn=<MseLossBackward0>) tensor([ 0.1019, -0.1602]) tensor([-1.9337,  1.9046], grad_fn=<CatBackward0>)\n",
      "torch.Size([50, 1])\n",
      "torch.Size([50, 1])\n",
      "51 tensor(0.0097, grad_fn=<MseLossBackward0>) tensor([ 0.0723, -0.1565]) tensor([-1.9347,  1.9062], grad_fn=<CatBackward0>)\n",
      "torch.Size([50, 1])\n",
      "torch.Size([50, 1])\n",
      "51 tensor(0.0098, grad_fn=<MseLossBackward0>) tensor([ 0.1041, -0.1390]) tensor([-1.9354,  1.9077], grad_fn=<CatBackward0>)\n",
      "torch.Size([50, 1])\n",
      "torch.Size([50, 1])\n",
      "51 tensor(0.0109, grad_fn=<MseLossBackward0>) tensor([ 0.1399, -0.1433]) tensor([-1.9365,  1.9091], grad_fn=<CatBackward0>)\n",
      "torch.Size([50, 1])\n",
      "torch.Size([50, 1])\n",
      "51 tensor(0.0097, grad_fn=<MseLossBackward0>) tensor([ 0.0955, -0.1501]) tensor([-1.9379,  1.9106], grad_fn=<CatBackward0>)\n",
      "torch.Size([50, 1])\n",
      "torch.Size([50, 1])\n",
      "52 tensor(0.0085, grad_fn=<MseLossBackward0>) tensor([ 0.0677, -0.1467]) tensor([-1.9388,  1.9121], grad_fn=<CatBackward0>)\n",
      "torch.Size([50, 1])\n",
      "torch.Size([50, 1])\n",
      "52 tensor(0.0086, grad_fn=<MseLossBackward0>) tensor([ 0.0975, -0.1303]) tensor([-1.9395,  1.9135], grad_fn=<CatBackward0>)\n",
      "torch.Size([50, 1])\n",
      "torch.Size([50, 1])\n",
      "52 tensor(0.0096, grad_fn=<MseLossBackward0>) tensor([ 0.1311, -0.1343]) tensor([-1.9405,  1.9148], grad_fn=<CatBackward0>)\n",
      "torch.Size([50, 1])\n",
      "torch.Size([50, 1])\n",
      "52 tensor(0.0085, grad_fn=<MseLossBackward0>) tensor([ 0.0894, -0.1407]) tensor([-1.9418,  1.9162], grad_fn=<CatBackward0>)\n",
      "torch.Size([50, 1])\n",
      "torch.Size([50, 1])\n",
      "53 tensor(0.0075, grad_fn=<MseLossBackward0>) tensor([ 0.0634, -0.1375]) tensor([-1.9427,  1.9176], grad_fn=<CatBackward0>)\n",
      "torch.Size([50, 1])\n",
      "torch.Size([50, 1])\n",
      "53 tensor(0.0075, grad_fn=<MseLossBackward0>) tensor([ 0.0914, -0.1221]) tensor([-1.9433,  1.9190], grad_fn=<CatBackward0>)\n",
      "torch.Size([50, 1])\n",
      "torch.Size([50, 1])\n",
      "53 tensor(0.0084, grad_fn=<MseLossBackward0>) tensor([ 0.1228, -0.1259]) tensor([-1.9442,  1.9202], grad_fn=<CatBackward0>)\n",
      "torch.Size([50, 1])\n",
      "torch.Size([50, 1])\n",
      "53 tensor(0.0075, grad_fn=<MseLossBackward0>) tensor([ 0.0838, -0.1319]) tensor([-1.9455,  1.9214], grad_fn=<CatBackward0>)\n",
      "torch.Size([50, 1])\n",
      "torch.Size([50, 1])\n",
      "54 tensor(0.0066, grad_fn=<MseLossBackward0>) tensor([ 0.0594, -0.1289]) tensor([-1.9463,  1.9228], grad_fn=<CatBackward0>)\n",
      "torch.Size([50, 1])\n",
      "torch.Size([50, 1])\n",
      "54 tensor(0.0066, grad_fn=<MseLossBackward0>) tensor([ 0.0856, -0.1144]) tensor([-1.9469,  1.9241], grad_fn=<CatBackward0>)\n",
      "torch.Size([50, 1])\n",
      "torch.Size([50, 1])\n",
      "54 tensor(0.0074, grad_fn=<MseLossBackward0>) tensor([ 0.1150, -0.1180]) tensor([-1.9478,  1.9252], grad_fn=<CatBackward0>)\n",
      "torch.Size([50, 1])\n",
      "torch.Size([50, 1])\n",
      "54 tensor(0.0066, grad_fn=<MseLossBackward0>) tensor([ 0.0785, -0.1236]) tensor([-1.9489,  1.9264], grad_fn=<CatBackward0>)\n",
      "torch.Size([50, 1])\n",
      "torch.Size([50, 1])\n",
      "55 tensor(0.0058, grad_fn=<MseLossBackward0>) tensor([ 0.0557, -0.1208]) tensor([-1.9497,  1.9276], grad_fn=<CatBackward0>)\n",
      "torch.Size([50, 1])\n",
      "torch.Size([50, 1])\n",
      "55 tensor(0.0058, grad_fn=<MseLossBackward0>) tensor([ 0.0802, -0.1073]) tensor([-1.9503,  1.9288], grad_fn=<CatBackward0>)\n",
      "torch.Size([50, 1])\n",
      "torch.Size([50, 1])\n",
      "55 tensor(0.0065, grad_fn=<MseLossBackward0>) tensor([ 0.1078, -0.1105]) tensor([-1.9511,  1.9299], grad_fn=<CatBackward0>)\n",
      "torch.Size([50, 1])\n",
      "torch.Size([50, 1])\n",
      "55 tensor(0.0058, grad_fn=<MseLossBackward0>) tensor([ 0.0735, -0.1159]) tensor([-1.9521,  1.9310], grad_fn=<CatBackward0>)\n",
      "torch.Size([50, 1])\n",
      "torch.Size([50, 1])\n",
      "56 tensor(0.0051, grad_fn=<MseLossBackward0>) tensor([ 0.0521, -0.1133]) tensor([-1.9529,  1.9322], grad_fn=<CatBackward0>)\n",
      "torch.Size([50, 1])\n",
      "torch.Size([50, 1])\n",
      "56 tensor(0.0051, grad_fn=<MseLossBackward0>) tensor([ 0.0751, -0.1005]) tensor([-1.9534,  1.9333], grad_fn=<CatBackward0>)\n",
      "torch.Size([50, 1])\n",
      "torch.Size([50, 1])\n",
      "56 tensor(0.0057, grad_fn=<MseLossBackward0>) tensor([ 0.1010, -0.1036]) tensor([-1.9541,  1.9343], grad_fn=<CatBackward0>)\n",
      "torch.Size([50, 1])\n",
      "torch.Size([50, 1])\n",
      "56 tensor(0.0051, grad_fn=<MseLossBackward0>) tensor([ 0.0689, -0.1086]) tensor([-1.9552,  1.9353], grad_fn=<CatBackward0>)\n",
      "torch.Size([50, 1])\n",
      "torch.Size([50, 1])\n",
      "57 tensor(0.0045, grad_fn=<MseLossBackward0>) tensor([ 0.0488, -0.1062]) tensor([-1.9558,  1.9364], grad_fn=<CatBackward0>)\n",
      "torch.Size([50, 1])\n",
      "torch.Size([50, 1])\n",
      "57 tensor(0.0045, grad_fn=<MseLossBackward0>) tensor([ 0.0704, -0.0942]) tensor([-1.9563,  1.9375], grad_fn=<CatBackward0>)\n",
      "torch.Size([50, 1])\n",
      "torch.Size([50, 1])\n",
      "57 tensor(0.0050, grad_fn=<MseLossBackward0>) tensor([ 0.0946, -0.0971]) tensor([-1.9570,  1.9384], grad_fn=<CatBackward0>)\n",
      "torch.Size([50, 1])\n",
      "torch.Size([50, 1])\n",
      "57 tensor(0.0044, grad_fn=<MseLossBackward0>) tensor([ 0.0646, -0.1018]) tensor([-1.9580,  1.9394], grad_fn=<CatBackward0>)\n",
      "torch.Size([50, 1])\n",
      "torch.Size([50, 1])\n",
      "58 tensor(0.0039, grad_fn=<MseLossBackward0>) tensor([ 0.0458, -0.0995]) tensor([-1.9586,  1.9404], grad_fn=<CatBackward0>)\n",
      "torch.Size([50, 1])\n",
      "torch.Size([50, 1])\n",
      "58 tensor(0.0039, grad_fn=<MseLossBackward0>) tensor([ 0.0660, -0.0883]) tensor([-1.9591,  1.9414], grad_fn=<CatBackward0>)\n",
      "torch.Size([50, 1])\n",
      "torch.Size([50, 1])\n",
      "58 tensor(0.0044, grad_fn=<MseLossBackward0>) tensor([ 0.0886, -0.0910]) tensor([-1.9597,  1.9423], grad_fn=<CatBackward0>)\n",
      "torch.Size([50, 1])\n",
      "torch.Size([50, 1])\n",
      "58 tensor(0.0039, grad_fn=<MseLossBackward0>) tensor([ 0.0605, -0.0954]) tensor([-1.9606,  1.9432], grad_fn=<CatBackward0>)\n",
      "torch.Size([50, 1])\n",
      "torch.Size([50, 1])\n",
      "59 tensor(0.0034, grad_fn=<MseLossBackward0>) tensor([ 0.0429, -0.0933]) tensor([-1.9612,  1.9442], grad_fn=<CatBackward0>)\n",
      "torch.Size([50, 1])\n",
      "torch.Size([50, 1])\n",
      "59 tensor(0.0035, grad_fn=<MseLossBackward0>) tensor([ 0.0618, -0.0828]) tensor([-1.9617,  1.9451], grad_fn=<CatBackward0>)\n",
      "torch.Size([50, 1])\n",
      "torch.Size([50, 1])\n",
      "59 tensor(0.0039, grad_fn=<MseLossBackward0>) tensor([ 0.0831, -0.0853]) tensor([-1.9623,  1.9459], grad_fn=<CatBackward0>)\n",
      "torch.Size([50, 1])\n",
      "torch.Size([50, 1])\n",
      "59 tensor(0.0034, grad_fn=<MseLossBackward0>) tensor([ 0.0567, -0.0894]) tensor([-1.9631,  1.9468], grad_fn=<CatBackward0>)\n",
      "torch.Size([50, 1])\n",
      "torch.Size([50, 1])\n",
      "60 tensor(0.0030, grad_fn=<MseLossBackward0>) tensor([ 0.0402, -0.0874]) tensor([-1.9637,  1.9477], grad_fn=<CatBackward0>)\n",
      "torch.Size([50, 1])\n",
      "torch.Size([50, 1])\n",
      "60 tensor(0.0030, grad_fn=<MseLossBackward0>) tensor([ 0.0579, -0.0776]) tensor([-1.9641,  1.9485], grad_fn=<CatBackward0>)\n",
      "torch.Size([50, 1])\n",
      "torch.Size([50, 1])\n",
      "60 tensor(0.0034, grad_fn=<MseLossBackward0>) tensor([ 0.0778, -0.0799]) tensor([-1.9647,  1.9493], grad_fn=<CatBackward0>)\n",
      "torch.Size([50, 1])\n",
      "torch.Size([50, 1])\n",
      "60 tensor(0.0030, grad_fn=<MseLossBackward0>) tensor([ 0.0531, -0.0838]) tensor([-1.9654,  1.9501], grad_fn=<CatBackward0>)\n",
      "torch.Size([50, 1])\n",
      "torch.Size([50, 1])\n",
      "61 tensor(0.0027, grad_fn=<MseLossBackward0>) tensor([ 0.0376, -0.0819]) tensor([-1.9660,  1.9509], grad_fn=<CatBackward0>)\n",
      "torch.Size([50, 1])\n",
      "torch.Size([50, 1])\n",
      "61 tensor(0.0027, grad_fn=<MseLossBackward0>) tensor([ 0.0543, -0.0727]) tensor([-1.9663,  1.9518], grad_fn=<CatBackward0>)\n",
      "torch.Size([50, 1])\n",
      "torch.Size([50, 1])\n",
      "61 tensor(0.0030, grad_fn=<MseLossBackward0>) tensor([ 0.0729, -0.0749]) tensor([-1.9669,  1.9525], grad_fn=<CatBackward0>)\n",
      "torch.Size([50, 1])\n",
      "torch.Size([50, 1])\n",
      "61 tensor(0.0026, grad_fn=<MseLossBackward0>) tensor([ 0.0497, -0.0785]) tensor([-1.9676,  1.9532], grad_fn=<CatBackward0>)\n",
      "torch.Size([50, 1])\n",
      "torch.Size([50, 1])\n",
      "62 tensor(0.0023, grad_fn=<MseLossBackward0>) tensor([ 0.0352, -0.0768]) tensor([-1.9681,  1.9540], grad_fn=<CatBackward0>)\n",
      "torch.Size([50, 1])\n",
      "torch.Size([50, 1])\n",
      "62 tensor(0.0023, grad_fn=<MseLossBackward0>) tensor([ 0.0508, -0.0681]) tensor([-1.9685,  1.9548], grad_fn=<CatBackward0>)\n",
      "torch.Size([50, 1])\n",
      "torch.Size([50, 1])\n",
      "62 tensor(0.0026, grad_fn=<MseLossBackward0>) tensor([ 0.0683, -0.0702]) tensor([-1.9690,  1.9555], grad_fn=<CatBackward0>)\n",
      "torch.Size([50, 1])\n",
      "torch.Size([50, 1])\n",
      "62 tensor(0.0023, grad_fn=<MseLossBackward0>) tensor([ 0.0466, -0.0736]) tensor([-1.9697,  1.9562], grad_fn=<CatBackward0>)\n",
      "torch.Size([50, 1])\n",
      "torch.Size([50, 1])\n",
      "63 tensor(0.0020, grad_fn=<MseLossBackward0>) tensor([ 0.0330, -0.0720]) tensor([-1.9701,  1.9569], grad_fn=<CatBackward0>)\n",
      "torch.Size([50, 1])\n",
      "torch.Size([50, 1])\n",
      "63 tensor(0.0021, grad_fn=<MseLossBackward0>) tensor([ 0.0476, -0.0639]) tensor([-1.9705,  1.9576], grad_fn=<CatBackward0>)\n",
      "torch.Size([50, 1])\n",
      "torch.Size([50, 1])\n",
      "63 tensor(0.0023, grad_fn=<MseLossBackward0>) tensor([ 0.0640, -0.0658]) tensor([-1.9709,  1.9583], grad_fn=<CatBackward0>)\n",
      "torch.Size([50, 1])\n",
      "torch.Size([50, 1])\n",
      "63 tensor(0.0020, grad_fn=<MseLossBackward0>) tensor([ 0.0437, -0.0690]) tensor([-1.9716,  1.9589], grad_fn=<CatBackward0>)\n",
      "torch.Size([50, 1])\n",
      "torch.Size([50, 1])\n",
      "64 tensor(0.0018, grad_fn=<MseLossBackward0>) tensor([ 0.0309, -0.0675]) tensor([-1.9720,  1.9596], grad_fn=<CatBackward0>)\n",
      "torch.Size([50, 1])\n",
      "torch.Size([50, 1])\n",
      "64 tensor(0.0018, grad_fn=<MseLossBackward0>) tensor([ 0.0446, -0.0599]) tensor([-1.9723,  1.9603], grad_fn=<CatBackward0>)\n",
      "torch.Size([50, 1])\n",
      "torch.Size([50, 1])\n",
      "64 tensor(0.0020, grad_fn=<MseLossBackward0>) tensor([ 0.0600, -0.0616]) tensor([-1.9728,  1.9609], grad_fn=<CatBackward0>)\n",
      "torch.Size([50, 1])\n",
      "torch.Size([50, 1])\n",
      "64 tensor(0.0018, grad_fn=<MseLossBackward0>) tensor([ 0.0409, -0.0647]) tensor([-1.9734,  1.9615], grad_fn=<CatBackward0>)\n",
      "torch.Size([50, 1])\n",
      "torch.Size([50, 1])\n",
      "65 tensor(0.0016, grad_fn=<MseLossBackward0>) tensor([ 0.0290, -0.0632]) tensor([-1.9738,  1.9622], grad_fn=<CatBackward0>)\n",
      "torch.Size([50, 1])\n",
      "torch.Size([50, 1])\n",
      "65 tensor(0.0016, grad_fn=<MseLossBackward0>) tensor([ 0.0418, -0.0561]) tensor([-1.9741,  1.9628], grad_fn=<CatBackward0>)\n",
      "torch.Size([50, 1])\n",
      "torch.Size([50, 1])\n",
      "65 tensor(0.0018, grad_fn=<MseLossBackward0>) tensor([ 0.0562, -0.0577]) tensor([-1.9745,  1.9634], grad_fn=<CatBackward0>)\n",
      "torch.Size([50, 1])\n",
      "torch.Size([50, 1])\n",
      "65 tensor(0.0016, grad_fn=<MseLossBackward0>) tensor([ 0.0383, -0.0606]) tensor([-1.9750,  1.9639], grad_fn=<CatBackward0>)\n",
      "torch.Size([50, 1])\n",
      "torch.Size([50, 1])\n"
     ]
    },
    {
     "name": "stdout",
     "output_type": "stream",
     "text": [
      "66 tensor(0.0014, grad_fn=<MseLossBackward0>) tensor([ 0.0272, -0.0593]) tensor([-1.9754,  1.9645], grad_fn=<CatBackward0>)\n",
      "torch.Size([50, 1])\n",
      "torch.Size([50, 1])\n",
      "66 tensor(0.0014, grad_fn=<MseLossBackward0>) tensor([ 0.0392, -0.0526]) tensor([-1.9757,  1.9651], grad_fn=<CatBackward0>)\n",
      "torch.Size([50, 1])\n",
      "torch.Size([50, 1])\n",
      "66 tensor(0.0016, grad_fn=<MseLossBackward0>) tensor([ 0.0526, -0.0541]) tensor([-1.9761,  1.9657], grad_fn=<CatBackward0>)\n",
      "torch.Size([50, 1])\n",
      "torch.Size([50, 1])\n",
      "66 tensor(0.0014, grad_fn=<MseLossBackward0>) tensor([ 0.0359, -0.0568]) tensor([-1.9766,  1.9662], grad_fn=<CatBackward0>)\n",
      "torch.Size([50, 1])\n",
      "torch.Size([50, 1])\n",
      "67 tensor(0.0012, grad_fn=<MseLossBackward0>) tensor([ 0.0254, -0.0556]) tensor([-1.9770,  1.9668], grad_fn=<CatBackward0>)\n",
      "torch.Size([50, 1])\n",
      "torch.Size([50, 1])\n",
      "67 tensor(0.0012, grad_fn=<MseLossBackward0>) tensor([ 0.0367, -0.0493]) tensor([-1.9772,  1.9673], grad_fn=<CatBackward0>)\n",
      "torch.Size([50, 1])\n",
      "torch.Size([50, 1])\n",
      "67 tensor(0.0014, grad_fn=<MseLossBackward0>) tensor([ 0.0493, -0.0507]) tensor([-1.9776,  1.9678], grad_fn=<CatBackward0>)\n",
      "torch.Size([50, 1])\n",
      "torch.Size([50, 1])\n",
      "67 tensor(0.0012, grad_fn=<MseLossBackward0>) tensor([ 0.0336, -0.0532]) tensor([-1.9781,  1.9683], grad_fn=<CatBackward0>)\n",
      "torch.Size([50, 1])\n",
      "torch.Size([50, 1])\n",
      "68 tensor(0.0011, grad_fn=<MseLossBackward0>) tensor([ 0.0238, -0.0521]) tensor([-1.9784,  1.9689], grad_fn=<CatBackward0>)\n",
      "torch.Size([50, 1])\n",
      "torch.Size([50, 1])\n",
      "68 tensor(0.0011, grad_fn=<MseLossBackward0>) tensor([ 0.0344, -0.0462]) tensor([-1.9787,  1.9694], grad_fn=<CatBackward0>)\n",
      "torch.Size([50, 1])\n",
      "torch.Size([50, 1])\n",
      "68 tensor(0.0012, grad_fn=<MseLossBackward0>) tensor([ 0.0462, -0.0475]) tensor([-1.9790,  1.9698], grad_fn=<CatBackward0>)\n",
      "torch.Size([50, 1])\n",
      "torch.Size([50, 1])\n",
      "68 tensor(0.0011, grad_fn=<MseLossBackward0>) tensor([ 0.0315, -0.0499]) tensor([-1.9795,  1.9703], grad_fn=<CatBackward0>)\n",
      "torch.Size([50, 1])\n",
      "torch.Size([50, 1])\n",
      "69 tensor(0.0009, grad_fn=<MseLossBackward0>) tensor([ 0.0223, -0.0488]) tensor([-1.9798,  1.9708], grad_fn=<CatBackward0>)\n",
      "torch.Size([50, 1])\n",
      "torch.Size([50, 1])\n",
      "69 tensor(0.0009, grad_fn=<MseLossBackward0>) tensor([ 0.0322, -0.0433]) tensor([-1.9800,  1.9713], grad_fn=<CatBackward0>)\n",
      "torch.Size([50, 1])\n",
      "torch.Size([50, 1])\n",
      "69 tensor(0.0011, grad_fn=<MseLossBackward0>) tensor([ 0.0433, -0.0445]) tensor([-1.9803,  1.9717], grad_fn=<CatBackward0>)\n",
      "torch.Size([50, 1])\n",
      "torch.Size([50, 1])\n",
      "69 tensor(0.0009, grad_fn=<MseLossBackward0>) tensor([ 0.0295, -0.0468]) tensor([-1.9808,  1.9722], grad_fn=<CatBackward0>)\n",
      "torch.Size([50, 1])\n",
      "torch.Size([50, 1])\n",
      "70 tensor(0.0008, grad_fn=<MseLossBackward0>) tensor([ 0.0209, -0.0458]) tensor([-1.9811,  1.9726], grad_fn=<CatBackward0>)\n",
      "torch.Size([50, 1])\n",
      "torch.Size([50, 1])\n",
      "70 tensor(0.0008, grad_fn=<MseLossBackward0>) tensor([ 0.0302, -0.0406]) tensor([-1.9813,  1.9731], grad_fn=<CatBackward0>)\n",
      "torch.Size([50, 1])\n",
      "torch.Size([50, 1])\n",
      "70 tensor(0.0009, grad_fn=<MseLossBackward0>) tensor([ 0.0406, -0.0417]) tensor([-1.9816,  1.9735], grad_fn=<CatBackward0>)\n",
      "torch.Size([50, 1])\n",
      "torch.Size([50, 1])\n",
      "70 tensor(0.0008, grad_fn=<MseLossBackward0>) tensor([ 0.0277, -0.0438]) tensor([-1.9820,  1.9739], grad_fn=<CatBackward0>)\n",
      "torch.Size([50, 1])\n",
      "torch.Size([50, 1])\n",
      "71 tensor(0.0007, grad_fn=<MseLossBackward0>) tensor([ 0.0196, -0.0429]) tensor([-1.9823,  1.9744], grad_fn=<CatBackward0>)\n",
      "torch.Size([50, 1])\n",
      "torch.Size([50, 1])\n",
      "71 tensor(0.0007, grad_fn=<MseLossBackward0>) tensor([ 0.0283, -0.0380]) tensor([-1.9824,  1.9748], grad_fn=<CatBackward0>)\n",
      "torch.Size([50, 1])\n",
      "torch.Size([50, 1])\n",
      "71 tensor(0.0008, grad_fn=<MseLossBackward0>) tensor([ 0.0380, -0.0391]) tensor([-1.9827,  1.9752], grad_fn=<CatBackward0>)\n",
      "torch.Size([50, 1])\n",
      "torch.Size([50, 1])\n",
      "71 tensor(0.0007, grad_fn=<MseLossBackward0>) tensor([ 0.0259, -0.0411]) tensor([-1.9831,  1.9756], grad_fn=<CatBackward0>)\n",
      "torch.Size([50, 1])\n",
      "torch.Size([50, 1])\n",
      "72 tensor(0.0006, grad_fn=<MseLossBackward0>) tensor([ 0.0184, -0.0402]) tensor([-1.9834,  1.9760], grad_fn=<CatBackward0>)\n",
      "torch.Size([50, 1])\n",
      "torch.Size([50, 1])\n",
      "72 tensor(0.0006, grad_fn=<MseLossBackward0>) tensor([ 0.0265, -0.0356]) tensor([-1.9836,  1.9764], grad_fn=<CatBackward0>)\n",
      "torch.Size([50, 1])\n",
      "torch.Size([50, 1])\n",
      "72 tensor(0.0007, grad_fn=<MseLossBackward0>) tensor([ 0.0356, -0.0366]) tensor([-1.9838,  1.9767], grad_fn=<CatBackward0>)\n",
      "torch.Size([50, 1])\n",
      "torch.Size([50, 1])\n",
      "72 tensor(0.0006, grad_fn=<MseLossBackward0>) tensor([ 0.0243, -0.0385]) tensor([-1.9842,  1.9771], grad_fn=<CatBackward0>)\n",
      "torch.Size([50, 1])\n",
      "torch.Size([50, 1])\n",
      "73 tensor(0.0006, grad_fn=<MseLossBackward0>) tensor([ 0.0172, -0.0377]) tensor([-1.9844,  1.9775], grad_fn=<CatBackward0>)\n",
      "torch.Size([50, 1])\n",
      "torch.Size([50, 1])\n",
      "73 tensor(0.0006, grad_fn=<MseLossBackward0>) tensor([ 0.0249, -0.0334]) tensor([-1.9846,  1.9779], grad_fn=<CatBackward0>)\n",
      "torch.Size([50, 1])\n",
      "torch.Size([50, 1])\n",
      "73 tensor(0.0006, grad_fn=<MseLossBackward0>) tensor([ 0.0334, -0.0343]) tensor([-1.9848,  1.9782], grad_fn=<CatBackward0>)\n",
      "torch.Size([50, 1])\n",
      "torch.Size([50, 1])\n",
      "73 tensor(0.0006, grad_fn=<MseLossBackward0>) tensor([ 0.0228, -0.0361]) tensor([-1.9852,  1.9785], grad_fn=<CatBackward0>)\n",
      "torch.Size([50, 1])\n",
      "torch.Size([50, 1])\n",
      "74 tensor(0.0005, grad_fn=<MseLossBackward0>) tensor([ 0.0161, -0.0353]) tensor([-1.9854,  1.9789], grad_fn=<CatBackward0>)\n",
      "torch.Size([50, 1])\n",
      "torch.Size([50, 1])\n",
      "74 tensor(0.0005, grad_fn=<MseLossBackward0>) tensor([ 0.0233, -0.0313]) tensor([-1.9856,  1.9792], grad_fn=<CatBackward0>)\n",
      "torch.Size([50, 1])\n",
      "torch.Size([50, 1])\n",
      "74 tensor(0.0005, grad_fn=<MseLossBackward0>) tensor([ 0.0313, -0.0322]) tensor([-1.9858,  1.9796], grad_fn=<CatBackward0>)\n",
      "torch.Size([50, 1])\n",
      "torch.Size([50, 1])\n",
      "74 tensor(0.0005, grad_fn=<MseLossBackward0>) tensor([ 0.0213, -0.0338]) tensor([-1.9861,  1.9799], grad_fn=<CatBackward0>)\n",
      "torch.Size([50, 1])\n",
      "torch.Size([50, 1])\n",
      "75 tensor(0.0004, grad_fn=<MseLossBackward0>) tensor([ 0.0151, -0.0331]) tensor([-1.9863,  1.9802], grad_fn=<CatBackward0>)\n",
      "torch.Size([50, 1])\n",
      "torch.Size([50, 1])\n",
      "75 tensor(0.0004, grad_fn=<MseLossBackward0>) tensor([ 0.0218, -0.0293]) tensor([-1.9865,  1.9806], grad_fn=<CatBackward0>)\n",
      "torch.Size([50, 1])\n",
      "torch.Size([50, 1])\n",
      "75 tensor(0.0005, grad_fn=<MseLossBackward0>) tensor([ 0.0293, -0.0301]) tensor([-1.9867,  1.9808], grad_fn=<CatBackward0>)\n",
      "torch.Size([50, 1])\n",
      "torch.Size([50, 1])\n",
      "75 tensor(0.0004, grad_fn=<MseLossBackward0>) tensor([ 0.0200, -0.0317]) tensor([-1.9870,  1.9811], grad_fn=<CatBackward0>)\n",
      "torch.Size([50, 1])\n",
      "torch.Size([50, 1])\n",
      "76 tensor(0.0004, grad_fn=<MseLossBackward0>) tensor([ 0.0141, -0.0310]) tensor([-1.9872,  1.9815], grad_fn=<CatBackward0>)\n",
      "torch.Size([50, 1])\n",
      "torch.Size([50, 1])\n",
      "76 tensor(0.0004, grad_fn=<MseLossBackward0>) tensor([ 0.0205, -0.0275]) tensor([-1.9873,  1.9818], grad_fn=<CatBackward0>)\n",
      "torch.Size([50, 1])\n",
      "torch.Size([50, 1])\n",
      "76 tensor(0.0004, grad_fn=<MseLossBackward0>) tensor([ 0.0275, -0.0282]) tensor([-1.9875,  1.9820], grad_fn=<CatBackward0>)\n",
      "torch.Size([50, 1])\n",
      "torch.Size([50, 1])\n",
      "76 tensor(0.0004, grad_fn=<MseLossBackward0>) tensor([ 0.0187, -0.0297]) tensor([-1.9878,  1.9823], grad_fn=<CatBackward0>)\n",
      "torch.Size([50, 1])\n",
      "torch.Size([50, 1])\n",
      "77 tensor(0.0003, grad_fn=<MseLossBackward0>) tensor([ 0.0132, -0.0291]) tensor([-1.9880,  1.9826], grad_fn=<CatBackward0>)\n",
      "torch.Size([50, 1])\n",
      "torch.Size([50, 1])\n",
      "77 tensor(0.0003, grad_fn=<MseLossBackward0>) tensor([ 0.0192, -0.0258]) tensor([-1.9881,  1.9829], grad_fn=<CatBackward0>)\n",
      "torch.Size([50, 1])\n",
      "torch.Size([50, 1])\n",
      "77 tensor(0.0004, grad_fn=<MseLossBackward0>) tensor([ 0.0257, -0.0264]) tensor([-1.9883,  1.9832], grad_fn=<CatBackward0>)\n",
      "torch.Size([50, 1])\n",
      "torch.Size([50, 1])\n",
      "77 tensor(0.0003, grad_fn=<MseLossBackward0>) tensor([ 0.0175, -0.0278]) tensor([-1.9886,  1.9834], grad_fn=<CatBackward0>)\n",
      "torch.Size([50, 1])\n",
      "torch.Size([50, 1])\n",
      "78 tensor(0.0003, grad_fn=<MseLossBackward0>) tensor([ 0.0124, -0.0273]) tensor([-1.9887,  1.9837], grad_fn=<CatBackward0>)\n",
      "torch.Size([50, 1])\n",
      "torch.Size([50, 1])\n",
      "78 tensor(0.0003, grad_fn=<MseLossBackward0>) tensor([ 0.0180, -0.0242]) tensor([-1.9889,  1.9840], grad_fn=<CatBackward0>)\n",
      "torch.Size([50, 1])\n",
      "torch.Size([50, 1])\n",
      "78 tensor(0.0003, grad_fn=<MseLossBackward0>) tensor([ 0.0241, -0.0248]) tensor([-1.9890,  1.9842], grad_fn=<CatBackward0>)\n",
      "torch.Size([50, 1])\n",
      "torch.Size([50, 1])\n",
      "78 tensor(0.0003, grad_fn=<MseLossBackward0>) tensor([ 0.0164, -0.0261]) tensor([-1.9893,  1.9845], grad_fn=<CatBackward0>)\n",
      "torch.Size([50, 1])\n",
      "torch.Size([50, 1])\n",
      "79 tensor(0.0003, grad_fn=<MseLossBackward0>) tensor([ 0.0116, -0.0256]) tensor([-1.9895,  1.9847], grad_fn=<CatBackward0>)\n",
      "torch.Size([50, 1])\n",
      "torch.Size([50, 1])\n",
      "79 tensor(0.0003, grad_fn=<MseLossBackward0>) tensor([ 0.0168, -0.0226]) tensor([-1.9896,  1.9850], grad_fn=<CatBackward0>)\n",
      "torch.Size([50, 1])\n",
      "torch.Size([50, 1])\n",
      "79 tensor(0.0003, grad_fn=<MseLossBackward0>) tensor([ 0.0226, -0.0232]) tensor([-1.9897,  1.9852], grad_fn=<CatBackward0>)\n",
      "torch.Size([50, 1])\n",
      "torch.Size([50, 1])\n",
      "79 tensor(0.0003, grad_fn=<MseLossBackward0>) tensor([ 0.0154, -0.0245]) tensor([-1.9900,  1.9855], grad_fn=<CatBackward0>)\n",
      "torch.Size([50, 1])\n",
      "torch.Size([50, 1])\n",
      "80 tensor(0.0002, grad_fn=<MseLossBackward0>) tensor([ 0.0109, -0.0240]) tensor([-1.9901,  1.9857], grad_fn=<CatBackward0>)\n",
      "torch.Size([50, 1])\n",
      "torch.Size([50, 1])\n"
     ]
    },
    {
     "name": "stdout",
     "output_type": "stream",
     "text": [
      "80 tensor(0.0002, grad_fn=<MseLossBackward0>) tensor([ 0.0158, -0.0212]) tensor([-1.9902,  1.9859], grad_fn=<CatBackward0>)\n",
      "torch.Size([50, 1])\n",
      "torch.Size([50, 1])\n",
      "80 tensor(0.0003, grad_fn=<MseLossBackward0>) tensor([ 0.0212, -0.0217]) tensor([-1.9904,  1.9862], grad_fn=<CatBackward0>)\n",
      "torch.Size([50, 1])\n",
      "torch.Size([50, 1])\n",
      "80 tensor(0.0002, grad_fn=<MseLossBackward0>) tensor([ 0.0144, -0.0229]) tensor([-1.9906,  1.9864], grad_fn=<CatBackward0>)\n",
      "torch.Size([50, 1])\n",
      "torch.Size([50, 1])\n",
      "81 tensor(0.0002, grad_fn=<MseLossBackward0>) tensor([ 0.0102, -0.0225]) tensor([-1.9907,  1.9866], grad_fn=<CatBackward0>)\n",
      "torch.Size([50, 1])\n",
      "torch.Size([50, 1])\n",
      "81 tensor(0.0002, grad_fn=<MseLossBackward0>) tensor([ 0.0148, -0.0199]) tensor([-1.9908,  1.9868], grad_fn=<CatBackward0>)\n",
      "torch.Size([50, 1])\n",
      "torch.Size([50, 1])\n",
      "81 tensor(0.0002, grad_fn=<MseLossBackward0>) tensor([ 0.0198, -0.0204]) tensor([-1.9910,  1.9870], grad_fn=<CatBackward0>)\n",
      "torch.Size([50, 1])\n",
      "torch.Size([50, 1])\n",
      "81 tensor(0.0002, grad_fn=<MseLossBackward0>) tensor([ 0.0135, -0.0215]) tensor([-1.9912,  1.9872], grad_fn=<CatBackward0>)\n",
      "torch.Size([50, 1])\n",
      "torch.Size([50, 1])\n",
      "82 tensor(0.0002, grad_fn=<MseLossBackward0>) tensor([ 0.0096, -0.0211]) tensor([-1.9913,  1.9874], grad_fn=<CatBackward0>)\n",
      "torch.Size([50, 1])\n",
      "torch.Size([50, 1])\n",
      "82 tensor(0.0002, grad_fn=<MseLossBackward0>) tensor([ 0.0139, -0.0186]) tensor([-1.9914,  1.9877], grad_fn=<CatBackward0>)\n",
      "torch.Size([50, 1])\n",
      "torch.Size([50, 1])\n",
      "82 tensor(0.0002, grad_fn=<MseLossBackward0>) tensor([ 0.0186, -0.0191]) tensor([-1.9916,  1.9878], grad_fn=<CatBackward0>)\n",
      "torch.Size([50, 1])\n",
      "torch.Size([50, 1])\n",
      "82 tensor(0.0002, grad_fn=<MseLossBackward0>) tensor([ 0.0127, -0.0201]) tensor([-1.9917,  1.9880], grad_fn=<CatBackward0>)\n",
      "torch.Size([50, 1])\n",
      "torch.Size([50, 1])\n",
      "83 tensor(0.0002, grad_fn=<MseLossBackward0>) tensor([ 0.0090, -0.0197]) tensor([-1.9919,  1.9882], grad_fn=<CatBackward0>)\n",
      "torch.Size([50, 1])\n",
      "torch.Size([50, 1])\n",
      "83 tensor(0.0002, grad_fn=<MseLossBackward0>) tensor([ 0.0130, -0.0175]) tensor([-1.9920,  1.9884], grad_fn=<CatBackward0>)\n",
      "torch.Size([50, 1])\n",
      "torch.Size([50, 1])\n",
      "83 tensor(0.0002, grad_fn=<MseLossBackward0>) tensor([ 0.0174, -0.0179]) tensor([-1.9921,  1.9886], grad_fn=<CatBackward0>)\n",
      "torch.Size([50, 1])\n",
      "torch.Size([50, 1])\n",
      "83 tensor(0.0002, grad_fn=<MseLossBackward0>) tensor([ 0.0119, -0.0189]) tensor([-1.9923,  1.9888], grad_fn=<CatBackward0>)\n",
      "torch.Size([50, 1])\n",
      "torch.Size([50, 1])\n",
      "84 tensor(0.0001, grad_fn=<MseLossBackward0>) tensor([ 0.0084, -0.0185]) tensor([-1.9924,  1.9890], grad_fn=<CatBackward0>)\n",
      "torch.Size([50, 1])\n",
      "torch.Size([50, 1])\n",
      "84 tensor(0.0001, grad_fn=<MseLossBackward0>) tensor([ 0.0122, -0.0164]) tensor([-1.9925,  1.9892], grad_fn=<CatBackward0>)\n",
      "torch.Size([50, 1])\n",
      "torch.Size([50, 1])\n",
      "84 tensor(0.0001, grad_fn=<MseLossBackward0>) tensor([ 0.0163, -0.0167]) tensor([-1.9926,  1.9893], grad_fn=<CatBackward0>)\n",
      "torch.Size([50, 1])\n",
      "torch.Size([50, 1])\n",
      "84 tensor(0.0001, grad_fn=<MseLossBackward0>) tensor([ 0.0111, -0.0177]) tensor([-1.9928,  1.9895], grad_fn=<CatBackward0>)\n",
      "torch.Size([50, 1])\n",
      "torch.Size([50, 1])\n",
      "85 tensor(0.0001, grad_fn=<MseLossBackward0>) tensor([ 0.0079, -0.0174]) tensor([-1.9929,  1.9897], grad_fn=<CatBackward0>)\n",
      "torch.Size([50, 1])\n",
      "torch.Size([50, 1])\n",
      "85 tensor(0.0001, grad_fn=<MseLossBackward0>) tensor([ 0.0114, -0.0153]) tensor([-1.9929,  1.9898], grad_fn=<CatBackward0>)\n",
      "torch.Size([50, 1])\n",
      "torch.Size([50, 1])\n",
      "85 tensor(0.0001, grad_fn=<MseLossBackward0>) tensor([ 0.0153, -0.0157]) tensor([-1.9931,  1.9900], grad_fn=<CatBackward0>)\n",
      "torch.Size([50, 1])\n",
      "torch.Size([50, 1])\n",
      "85 tensor(0.0001, grad_fn=<MseLossBackward0>) tensor([ 0.0104, -0.0166]) tensor([-1.9932,  1.9901], grad_fn=<CatBackward0>)\n",
      "torch.Size([50, 1])\n",
      "torch.Size([50, 1])\n",
      "86 tensor(0.0001, grad_fn=<MseLossBackward0>) tensor([ 0.0074, -0.0163]) tensor([-1.9933,  1.9903], grad_fn=<CatBackward0>)\n",
      "torch.Size([50, 1])\n",
      "torch.Size([50, 1])\n",
      "86 tensor(0.0001, grad_fn=<MseLossBackward0>) tensor([ 0.0107, -0.0144]) tensor([-1.9934,  1.9905], grad_fn=<CatBackward0>)\n",
      "torch.Size([50, 1])\n",
      "torch.Size([50, 1])\n",
      "86 tensor(0.0001, grad_fn=<MseLossBackward0>) tensor([ 0.0143, -0.0147]) tensor([-1.9935,  1.9906], grad_fn=<CatBackward0>)\n",
      "torch.Size([50, 1])\n",
      "torch.Size([50, 1])\n",
      "86 tensor(0.0001, grad_fn=<MseLossBackward0>) tensor([ 0.0098, -0.0155]) tensor([-1.9936,  1.9908], grad_fn=<CatBackward0>)\n",
      "torch.Size([50, 1])\n",
      "torch.Size([50, 1])\n",
      "87 tensor(9.1302e-05, grad_fn=<MseLossBackward0>) tensor([ 0.0069, -0.0153]) tensor([-1.9937,  1.9909], grad_fn=<CatBackward0>)\n",
      "torch.Size([50, 1])\n",
      "torch.Size([50, 1])\n",
      "87 tensor(9.1507e-05, grad_fn=<MseLossBackward0>) tensor([ 0.0100, -0.0135]) tensor([-1.9938,  1.9911], grad_fn=<CatBackward0>)\n",
      "torch.Size([50, 1])\n",
      "torch.Size([50, 1])\n",
      "87 tensor(0.0001, grad_fn=<MseLossBackward0>) tensor([ 0.0134, -0.0138]) tensor([-1.9939,  1.9912], grad_fn=<CatBackward0>)\n",
      "torch.Size([50, 1])\n",
      "torch.Size([50, 1])\n",
      "87 tensor(9.0472e-05, grad_fn=<MseLossBackward0>) tensor([ 0.0091, -0.0146]) tensor([-1.9940,  1.9913], grad_fn=<CatBackward0>)\n",
      "torch.Size([50, 1])\n",
      "torch.Size([50, 1])\n",
      "88 tensor(8.0230e-05, grad_fn=<MseLossBackward0>) tensor([ 0.0065, -0.0143]) tensor([-1.9941,  1.9915], grad_fn=<CatBackward0>)\n",
      "torch.Size([50, 1])\n",
      "torch.Size([50, 1])\n",
      "88 tensor(8.0391e-05, grad_fn=<MseLossBackward0>) tensor([ 0.0094, -0.0126]) tensor([-1.9942,  1.9916], grad_fn=<CatBackward0>)\n",
      "torch.Size([50, 1])\n",
      "torch.Size([50, 1])\n",
      "88 tensor(8.8571e-05, grad_fn=<MseLossBackward0>) tensor([ 0.0126, -0.0129]) tensor([-1.9943,  1.9918], grad_fn=<CatBackward0>)\n",
      "torch.Size([50, 1])\n",
      "torch.Size([50, 1])\n",
      "88 tensor(7.9469e-05, grad_fn=<MseLossBackward0>) tensor([ 0.0086, -0.0137]) tensor([-1.9944,  1.9919], grad_fn=<CatBackward0>)\n",
      "torch.Size([50, 1])\n",
      "torch.Size([50, 1])\n",
      "89 tensor(7.0505e-05, grad_fn=<MseLossBackward0>) tensor([ 0.0061, -0.0134]) tensor([-1.9945,  1.9920], grad_fn=<CatBackward0>)\n",
      "torch.Size([50, 1])\n",
      "torch.Size([50, 1])\n",
      "89 tensor(7.0626e-05, grad_fn=<MseLossBackward0>) tensor([ 0.0088, -0.0118]) tensor([-1.9946,  1.9922], grad_fn=<CatBackward0>)\n",
      "torch.Size([50, 1])\n",
      "torch.Size([50, 1])\n",
      "89 tensor(7.7721e-05, grad_fn=<MseLossBackward0>) tensor([ 0.0118, -0.0121]) tensor([-1.9946,  1.9923], grad_fn=<CatBackward0>)\n",
      "torch.Size([50, 1])\n",
      "torch.Size([50, 1])\n",
      "89 tensor(6.9805e-05, grad_fn=<MseLossBackward0>) tensor([ 0.0080, -0.0128]) tensor([-1.9948,  1.9924], grad_fn=<CatBackward0>)\n",
      "torch.Size([50, 1])\n",
      "torch.Size([50, 1])\n",
      "90 tensor(6.1960e-05, grad_fn=<MseLossBackward0>) tensor([ 0.0057, -0.0126]) tensor([-1.9948,  1.9925], grad_fn=<CatBackward0>)\n",
      "torch.Size([50, 1])\n",
      "torch.Size([50, 1])\n",
      "90 tensor(6.2049e-05, grad_fn=<MseLossBackward0>) tensor([ 0.0083, -0.0111]) tensor([-1.9949,  1.9927], grad_fn=<CatBackward0>)\n",
      "torch.Size([50, 1])\n",
      "torch.Size([50, 1])\n",
      "90 tensor(6.8199e-05, grad_fn=<MseLossBackward0>) tensor([ 0.0110, -0.0113]) tensor([-1.9950,  1.9928], grad_fn=<CatBackward0>)\n",
      "torch.Size([50, 1])\n",
      "torch.Size([50, 1])\n",
      "90 tensor(6.1318e-05, grad_fn=<MseLossBackward0>) tensor([ 0.0075, -0.0120]) tensor([-1.9951,  1.9929], grad_fn=<CatBackward0>)\n",
      "torch.Size([50, 1])\n",
      "torch.Size([50, 1])\n",
      "91 tensor(5.4456e-05, grad_fn=<MseLossBackward0>) tensor([ 0.0053, -0.0118]) tensor([-1.9952,  1.9930], grad_fn=<CatBackward0>)\n",
      "torch.Size([50, 1])\n",
      "torch.Size([50, 1])\n",
      "91 tensor(5.4518e-05, grad_fn=<MseLossBackward0>) tensor([ 0.0077, -0.0104]) tensor([-1.9952,  1.9931], grad_fn=<CatBackward0>)\n",
      "torch.Size([50, 1])\n",
      "torch.Size([50, 1])\n",
      "91 tensor(5.9842e-05, grad_fn=<MseLossBackward0>) tensor([ 0.0103, -0.0106]) tensor([-1.9953,  1.9932], grad_fn=<CatBackward0>)\n",
      "torch.Size([50, 1])\n",
      "torch.Size([50, 1])\n",
      "91 tensor(5.3864e-05, grad_fn=<MseLossBackward0>) tensor([ 0.0070, -0.0112]) tensor([-1.9954,  1.9933], grad_fn=<CatBackward0>)\n",
      "torch.Size([50, 1])\n",
      "torch.Size([50, 1])\n",
      "92 tensor(4.7863e-05, grad_fn=<MseLossBackward0>) tensor([ 0.0050, -0.0111]) tensor([-1.9955,  1.9934], grad_fn=<CatBackward0>)\n",
      "torch.Size([50, 1])\n",
      "torch.Size([50, 1])\n",
      "92 tensor(4.7904e-05, grad_fn=<MseLossBackward0>) tensor([ 0.0073, -0.0097]) tensor([-1.9955,  1.9936], grad_fn=<CatBackward0>)\n",
      "torch.Size([50, 1])\n",
      "torch.Size([50, 1])\n",
      "92 tensor(5.2505e-05, grad_fn=<MseLossBackward0>) tensor([ 0.0097, -0.0099]) tensor([-1.9956,  1.9936], grad_fn=<CatBackward0>)\n",
      "torch.Size([50, 1])\n",
      "torch.Size([50, 1])\n",
      "92 tensor(4.7317e-05, grad_fn=<MseLossBackward0>) tensor([ 0.0066, -0.0105]) tensor([-1.9957,  1.9937], grad_fn=<CatBackward0>)\n",
      "torch.Size([50, 1])\n",
      "torch.Size([50, 1])\n"
     ]
    },
    {
     "name": "stdout",
     "output_type": "stream",
     "text": [
      "93 tensor(4.2070e-05, grad_fn=<MseLossBackward0>) tensor([ 0.0047, -0.0104]) tensor([-1.9958,  1.9939], grad_fn=<CatBackward0>)\n",
      "torch.Size([50, 1])\n",
      "torch.Size([50, 1])\n",
      "93 tensor(4.2091e-05, grad_fn=<MseLossBackward0>) tensor([ 0.0068, -0.0091]) tensor([-1.9958,  1.9940], grad_fn=<CatBackward0>)\n",
      "torch.Size([50, 1])\n",
      "torch.Size([50, 1])\n",
      "93 tensor(4.6065e-05, grad_fn=<MseLossBackward0>) tensor([ 0.0091, -0.0093]) tensor([-1.9959,  1.9940], grad_fn=<CatBackward0>)\n",
      "torch.Size([50, 1])\n",
      "torch.Size([50, 1])\n",
      "93 tensor(4.1567e-05, grad_fn=<MseLossBackward0>) tensor([ 0.0062, -0.0099]) tensor([-1.9960,  1.9941], grad_fn=<CatBackward0>)\n",
      "torch.Size([50, 1])\n",
      "torch.Size([50, 1])\n",
      "94 tensor(3.6981e-05, grad_fn=<MseLossBackward0>) tensor([ 0.0044, -0.0097]) tensor([-1.9960,  1.9942], grad_fn=<CatBackward0>)\n",
      "torch.Size([50, 1])\n",
      "torch.Size([50, 1])\n",
      "94 tensor(3.6985e-05, grad_fn=<MseLossBackward0>) tensor([ 0.0064, -0.0086]) tensor([-1.9961,  1.9943], grad_fn=<CatBackward0>)\n",
      "torch.Size([50, 1])\n",
      "torch.Size([50, 1])\n",
      "94 tensor(4.0411e-05, grad_fn=<MseLossBackward0>) tensor([ 0.0085, -0.0087]) tensor([-1.9961,  1.9944], grad_fn=<CatBackward0>)\n",
      "torch.Size([50, 1])\n",
      "torch.Size([50, 1])\n",
      "94 tensor(3.6516e-05, grad_fn=<MseLossBackward0>) tensor([ 0.0058, -0.0093]) tensor([-1.9962,  1.9945], grad_fn=<CatBackward0>)\n",
      "torch.Size([50, 1])\n",
      "torch.Size([50, 1])\n",
      "95 tensor(3.2509e-05, grad_fn=<MseLossBackward0>) tensor([ 0.0041, -0.0091]) tensor([-1.9963,  1.9946], grad_fn=<CatBackward0>)\n",
      "torch.Size([50, 1])\n",
      "torch.Size([50, 1])\n",
      "95 tensor(3.2500e-05, grad_fn=<MseLossBackward0>) tensor([ 0.0060, -0.0080]) tensor([-1.9963,  1.9947], grad_fn=<CatBackward0>)\n",
      "torch.Size([50, 1])\n",
      "torch.Size([50, 1])\n",
      "95 tensor(3.5450e-05, grad_fn=<MseLossBackward0>) tensor([ 0.0080, -0.0081]) tensor([-1.9964,  1.9948], grad_fn=<CatBackward0>)\n",
      "torch.Size([50, 1])\n",
      "torch.Size([50, 1])\n",
      "95 tensor(3.2080e-05, grad_fn=<MseLossBackward0>) tensor([ 0.0054, -0.0087]) tensor([-1.9965,  1.9949], grad_fn=<CatBackward0>)\n",
      "torch.Size([50, 1])\n",
      "torch.Size([50, 1])\n",
      "96 tensor(2.8580e-05, grad_fn=<MseLossBackward0>) tensor([ 0.0038, -0.0086]) tensor([-1.9965,  1.9949], grad_fn=<CatBackward0>)\n",
      "torch.Size([50, 1])\n",
      "torch.Size([50, 1])\n",
      "96 tensor(2.8562e-05, grad_fn=<MseLossBackward0>) tensor([ 0.0056, -0.0075]) tensor([-1.9966,  1.9950], grad_fn=<CatBackward0>)\n",
      "torch.Size([50, 1])\n",
      "torch.Size([50, 1])\n",
      "96 tensor(3.1095e-05, grad_fn=<MseLossBackward0>) tensor([ 0.0075, -0.0076]) tensor([-1.9966,  1.9951], grad_fn=<CatBackward0>)\n",
      "torch.Size([50, 1])\n",
      "torch.Size([50, 1])\n",
      "96 tensor(2.8183e-05, grad_fn=<MseLossBackward0>) tensor([ 0.0051, -0.0081]) tensor([-1.9967,  1.9952], grad_fn=<CatBackward0>)\n",
      "torch.Size([50, 1])\n",
      "torch.Size([50, 1])\n",
      "97 tensor(2.5129e-05, grad_fn=<MseLossBackward0>) tensor([ 0.0036, -0.0080]) tensor([-1.9967,  1.9953], grad_fn=<CatBackward0>)\n",
      "torch.Size([50, 1])\n",
      "torch.Size([50, 1])\n",
      "97 tensor(2.5101e-05, grad_fn=<MseLossBackward0>) tensor([ 0.0053, -0.0070]) tensor([-1.9968,  1.9953], grad_fn=<CatBackward0>)\n",
      "torch.Size([50, 1])\n",
      "torch.Size([50, 1])\n",
      "97 tensor(2.7274e-05, grad_fn=<MseLossBackward0>) tensor([ 0.0070, -0.0071]) tensor([-1.9968,  1.9954], grad_fn=<CatBackward0>)\n",
      "torch.Size([50, 1])\n",
      "torch.Size([50, 1])\n",
      "97 tensor(2.4762e-05, grad_fn=<MseLossBackward0>) tensor([ 0.0048, -0.0076]) tensor([-1.9969,  1.9955], grad_fn=<CatBackward0>)\n",
      "torch.Size([50, 1])\n",
      "torch.Size([50, 1])\n",
      "98 tensor(2.2096e-05, grad_fn=<MseLossBackward0>) tensor([ 0.0034, -0.0075]) tensor([-1.9969,  1.9956], grad_fn=<CatBackward0>)\n",
      "torch.Size([50, 1])\n",
      "torch.Size([50, 1])\n",
      "98 tensor(2.2061e-05, grad_fn=<MseLossBackward0>) tensor([ 0.0049, -0.0066]) tensor([-1.9970,  1.9956], grad_fn=<CatBackward0>)\n",
      "torch.Size([50, 1])\n",
      "torch.Size([50, 1])\n",
      "98 tensor(2.3921e-05, grad_fn=<MseLossBackward0>) tensor([ 0.0066, -0.0067]) tensor([-1.9970,  1.9957], grad_fn=<CatBackward0>)\n",
      "torch.Size([50, 1])\n",
      "torch.Size([50, 1])\n",
      "98 tensor(2.1757e-05, grad_fn=<MseLossBackward0>) tensor([ 0.0045, -0.0071]) tensor([-1.9971,  1.9958], grad_fn=<CatBackward0>)\n",
      "torch.Size([50, 1])\n",
      "torch.Size([50, 1])\n",
      "99 tensor(1.9431e-05, grad_fn=<MseLossBackward0>) tensor([ 0.0031, -0.0071]) tensor([-1.9971,  1.9958], grad_fn=<CatBackward0>)\n",
      "torch.Size([50, 1])\n",
      "torch.Size([50, 1])\n",
      "99 tensor(1.9391e-05, grad_fn=<MseLossBackward0>) tensor([ 0.0046, -0.0062]) tensor([-1.9972,  1.9959], grad_fn=<CatBackward0>)\n",
      "torch.Size([50, 1])\n",
      "torch.Size([50, 1])\n",
      "99 tensor(2.0978e-05, grad_fn=<MseLossBackward0>) tensor([ 0.0061, -0.0062]) tensor([-1.9972,  1.9960], grad_fn=<CatBackward0>)\n",
      "torch.Size([50, 1])\n",
      "torch.Size([50, 1])\n",
      "99 tensor(1.9117e-05, grad_fn=<MseLossBackward0>) tensor([ 0.0042, -0.0067]) tensor([-1.9973,  1.9960], grad_fn=<CatBackward0>)\n"
     ]
    }
   ],
   "source": [
    "model = MLP_Net(user_id=0)\n",
    "\n",
    "lr = 0.01\n",
    "\n",
    "dataloader = DataLoader(MyDataset(datapoints[19][\"features\"], datapoints[19][\"label\"]), batch_size=50, shuffle=False)\n",
    "optimizer = torch.optim.SGD(model.parameters(), lr=0.01)\n",
    "for i in range(100):\n",
    "    for (x, y) in dataloader:\n",
    "        criterion = nn.MSELoss()\n",
    "        optimizer.zero_grad()\n",
    "        yhat = model(x)\n",
    "        print(y.size())\n",
    "        print(yhat.size())\n",
    "        loss = criterion(yhat, y)\n",
    "        \n",
    "        loss.backward()\n",
    "        print(i, loss, grads_to_vector(model.parameters()), parameters_to_vector(model.parameters()))\n",
    "        #optimizer.step()\n",
    "        new_model = parameters_to_vector(model.parameters()) - lr * grads_to_vector(model.parameters())\n",
    "        vector_to_parameters(parameters=model.parameters(), vec=new_model)\n",
    "        #if i % 50 ==0:\n",
    "            #lr *= 0.9\n",
    "            \n",
    "\n",
    "#parameters_to_vector(model.parameters())"
   ]
  },
  {
   "cell_type": "code",
   "execution_count": 11,
   "id": "5eb22da2",
   "metadata": {},
   "outputs": [
    {
     "data": {
      "text/plain": [
       "tensor([-1.9973,  1.9961], grad_fn=<CatBackward0>)"
      ]
     },
     "execution_count": 11,
     "metadata": {},
     "output_type": "execute_result"
    }
   ],
   "source": [
    "parameters_to_vector(model.parameters())"
   ]
  },
  {
   "cell_type": "code",
   "execution_count": 12,
   "id": "52396ca6",
   "metadata": {},
   "outputs": [],
   "source": [
    "class CNN_Net(nn.Module):\n",
    "    def __init__(self):\n",
    "        super(CNN_Net, self).__init__()\n",
    "        self.conv1 = nn.Conv2d(1, 32, kernel_size=5)\n",
    "        self.conv2 = nn.Conv2d(32, 64, kernel_size=5)\n",
    "        self.pool = nn.MaxPool2d(2,2)\n",
    "        self.dropout = nn.Dropout(p=0.2)\n",
    "        self.fc1 = nn.Linear(1024, 512)\n",
    "        self.fc2 = nn.Linear(512, 10)\n",
    "\n",
    "    def forward(self, x):\n",
    "        x = self.pool(F.relu(self.conv1(x)))\n",
    "        x = self.pool(F.relu(self.conv2(x)))\n",
    "        x = self.dropout(x)\n",
    "        x = torch.flatten(x, 1)\n",
    "        x = F.relu(self.fc1(x))\n",
    "        output = self.fc2(x)\n",
    "        return output"
   ]
  },
  {
   "cell_type": "code",
   "execution_count": 13,
   "id": "cb5fe42b",
   "metadata": {},
   "outputs": [],
   "source": [
    "class ClientUpdate(object):\n",
    "    def __init__(self, dataset, batchSize, alpha, lamda, epochs, projection_list, projected_weights):\n",
    "        self.train_loader = DataLoader(MyDataset(dataset[\"features\"], dataset[\"label\"]), batch_size=batchSize, shuffle=True)\n",
    "        #self.learning_rate = learning_rate\n",
    "        self.epochs = epochs\n",
    "        self.batchSize = batchSize\n",
    "\n",
    "    def train(self, model):\n",
    "        criterion = nn.MSELoss()\n",
    "        optimizer = torch.optim.SGD(model.parameters(), lr=1e-3, momentum=0.5)\n",
    "\n",
    "        e_loss = []\n",
    "        for epoch in range(1, self.epochs+1):\n",
    "            train_loss = 0\n",
    "            model.train()\n",
    "            for i, (data, labels) in zip(range(1), self.train_loader):\n",
    "                data, labels = data, labels\n",
    "                optimizer.zero_grad() \n",
    "                output = model(data)  \n",
    "                loss = criterion(output, labels)\n",
    "                #loss += mu/2 * torch.norm(client_param.data - server_param.data)**2\n",
    "                loss.backward()\n",
    "                grads = grads_to_vector(model.parameters())\n",
    "                #optimizer.step()\n",
    "                train_loss += loss.item()*data.size(0)\n",
    "                weights = parameters_to_vector(model.parameters())\n",
    "                mat_vec_sum = torch.zeros_like(weights)\n",
    "                for j in G.neighbors(model.user_id):\n",
    "                    mat_vec_sum = torch.add(mat_vec_sum, torch.matmul(torch.transpose(projection_list[model.user_id][j], 0, 1), \n",
    "                                                         projected_weights[j][model.user_id] - projected_weights[model.user_id][j]))\n",
    "                \n",
    "                model_update = parameters_to_vector(model.parameters()) - alpha * (grads + lamda * mat_vec_sum)\n",
    "                \n",
    "            vector_to_parameters(parameters=model.parameters(), vec=model_update)\n",
    "                \n",
    "\n",
    "            train_loss = train_loss/self.batchSize#len(self.train_loader.dataset) \n",
    "            e_loss.append(train_loss)\n",
    "\n",
    "        total_loss = e_loss#sum(e_loss)/len(e_loss)\n",
    "\n",
    "        return model.state_dict(), total_loss"
   ]
  },
  {
   "cell_type": "code",
   "execution_count": 14,
   "id": "2eeef5b5",
   "metadata": {},
   "outputs": [],
   "source": [
    "# Preparing projection matrices\n",
    "models = [MLP_Net(user_id=i) for i in range(no_users)]\n",
    "#temp = MLP_Net()\n",
    "projection_list = []\n",
    "projected_weights = []\n",
    "\n",
    "def update_ProjWeight(projection_list, projected_weights, first_run=True):\n",
    "    #projected_weights = []\n",
    "    for i in range(no_users):\n",
    "        neighbors_mat = []\n",
    "        neighbors_weights = []\n",
    "        for j in range(no_users):\n",
    "            if j in G.neighbors(i):\n",
    "                with torch.no_grad():\n",
    "                    if first_run == True:\n",
    "                        row, column = parameters_to_vector(models[j].parameters()).size()[0], parameters_to_vector(models[i].parameters()).size()[0]\n",
    "                        mat = torch.zeros((row, column))\n",
    "                        mat.fill_diagonal_(1.0 + 1.0 * float(np.random.randn(1)))\n",
    "                        neighbors_mat.append(mat)\n",
    "                        neighbors_weights.append(torch.matmul(mat, parameters_to_vector(models[j].parameters())))\n",
    "                    else:\n",
    "                        neighbors_weights.append(torch.matmul(projection_list[j][i], parameters_to_vector(models[j].parameters())))\n",
    "            else:\n",
    "                neighbors_mat.append(0)\n",
    "                neighbors_weights.append(0)\n",
    "        if first_run == True:\n",
    "            projection_list.append(neighbors_mat)\n",
    "        projected_weights.append(neighbors_weights)\n",
    "\n",
    "update_ProjWeight(projection_list, projected_weights)\n",
    "\n"
   ]
  },
  {
   "cell_type": "code",
   "execution_count": 15,
   "id": "f733ee68",
   "metadata": {},
   "outputs": [
    {
     "name": "stdout",
     "output_type": "stream",
     "text": [
      "[0, 0, 0, tensor([[-0.1204,  0.0000],\n",
      "        [ 0.0000, -0.1204]]), tensor([[2.4567, 0.0000],\n",
      "        [0.0000, 2.4567]]), 0, tensor([[1.6217, 0.0000],\n",
      "        [0.0000, 1.6217]]), tensor([[-0.5137,  0.0000],\n",
      "        [ 0.0000, -0.5137]]), 0, 0, 0, 0, 0, 0, 0, 0, 0, 0, 0, 0]\n"
     ]
    }
   ],
   "source": [
    "print(projection_list[0])"
   ]
  },
  {
   "cell_type": "code",
   "execution_count": 16,
   "id": "5f6059eb",
   "metadata": {},
   "outputs": [],
   "source": [
    "def testing(model, dataset, bs, criterion): \n",
    "    test_loss = 0\n",
    "    correct = 0\n",
    "    test_loader = DataLoader(MyDataset(dataset[\"features\"], dataset[\"label\"]), batch_size=bs)\n",
    "    l = len(test_loader)\n",
    "    model.eval()\n",
    "    for data, labels in test_loader:\n",
    "        data, labels = data, labels\n",
    "        output = model(data)\n",
    "        loss = criterion(output, labels)\n",
    "        test_loss += loss.item()*data.size(0)\n",
    "        #_, pred = torch.max(output, 1)\n",
    "        #correct += pred.eq(labels.data.view_as(pred)).sum().item()\n",
    "    \n",
    "    test_loss /= len(test_loader.dataset)\n",
    "    \n",
    "    return test_loss"
   ]
  },
  {
   "cell_type": "code",
   "execution_count": 17,
   "id": "f172f558",
   "metadata": {},
   "outputs": [],
   "source": [
    "def rel_error(model):\n",
    "    return (torch.norm(parameters_to_vector(model.parameters()) - datapoints[model.user_id]['exact_weights']) / torch.norm(parameters_to_vector(model.parameters()))).detach()"
   ]
  },
  {
   "cell_type": "code",
   "execution_count": 18,
   "id": "1d1a33e3",
   "metadata": {},
   "outputs": [
    {
     "name": "stdout",
     "output_type": "stream",
     "text": [
      "tensor([-0.2392,  0.4220])\n"
     ]
    },
    {
     "data": {
      "text/plain": [
       "tensor([-0.4784,  0.8441], grad_fn=<CatBackward0>)"
      ]
     },
     "execution_count": 18,
     "metadata": {},
     "output_type": "execute_result"
    }
   ],
   "source": [
    "model = MLP_Net(user_id=0)\n",
    "\n",
    "from torch.nn.utils import parameters_to_vector, vector_to_parameters\n",
    "\n",
    "with torch.no_grad():    \n",
    "    params = parameters_to_vector(model.parameters())\n",
    "\n",
    "    print(params)\n",
    "\n",
    "params *= 2.\n",
    "\n",
    "vector_to_parameters(parameters=model.parameters(), vec=params)\n",
    "\n",
    "parameters_to_vector(model.parameters())\n",
    "\n",
    "\n",
    "\n"
   ]
  },
  {
   "cell_type": "code",
   "execution_count": 19,
   "id": "71472693",
   "metadata": {},
   "outputs": [
    {
     "name": "stderr",
     "output_type": "stream",
     "text": [
      "  0%|          | 1/1000 [00:00<02:22,  7.02it/s]"
     ]
    },
    {
     "name": "stdout",
     "output_type": "stream",
     "text": [
      "Training_loss 8.64441,   Relative Error 5.49577\n"
     ]
    },
    {
     "name": "stderr",
     "output_type": "stream",
     "text": [
      "\r",
      "  0%|          | 2/1000 [00:00<02:10,  7.62it/s]"
     ]
    },
    {
     "name": "stdout",
     "output_type": "stream",
     "text": [
      "Training_loss 8.61836,   Relative Error 5.52751\n"
     ]
    },
    {
     "name": "stderr",
     "output_type": "stream",
     "text": [
      "\r",
      "  0%|          | 3/1000 [00:00<02:05,  7.92it/s]"
     ]
    },
    {
     "name": "stdout",
     "output_type": "stream",
     "text": [
      "Training_loss 8.57461,   Relative Error 5.57578\n"
     ]
    },
    {
     "name": "stderr",
     "output_type": "stream",
     "text": [
      "\r",
      "  0%|          | 4/1000 [00:00<01:58,  8.42it/s]"
     ]
    },
    {
     "name": "stdout",
     "output_type": "stream",
     "text": [
      "Training_loss 8.53689,   Relative Error 5.61506\n"
     ]
    },
    {
     "name": "stderr",
     "output_type": "stream",
     "text": [
      "\r",
      "  0%|          | 5/1000 [00:00<01:56,  8.52it/s]"
     ]
    },
    {
     "name": "stdout",
     "output_type": "stream",
     "text": [
      "Training_loss 8.51006,   Relative Error 5.64163\n"
     ]
    },
    {
     "name": "stderr",
     "output_type": "stream",
     "text": [
      "\r",
      "  1%|          | 6/1000 [00:00<01:54,  8.67it/s]"
     ]
    },
    {
     "name": "stdout",
     "output_type": "stream",
     "text": [
      "Training_loss 8.48882,   Relative Error 5.67349\n",
      "Training_loss 8.45676,   Relative Error 5.70014"
     ]
    },
    {
     "name": "stderr",
     "output_type": "stream",
     "text": [
      "\r",
      "  1%|          | 8/1000 [00:00<01:38, 10.09it/s]"
     ]
    },
    {
     "name": "stdout",
     "output_type": "stream",
     "text": [
      "\n",
      "Training_loss 8.43458,   Relative Error 5.74312\n"
     ]
    },
    {
     "name": "stderr",
     "output_type": "stream",
     "text": [
      "\r",
      "  1%|          | 9/1000 [00:00<01:39, 10.00it/s]"
     ]
    },
    {
     "name": "stdout",
     "output_type": "stream",
     "text": [
      "Training_loss 8.41320,   Relative Error 5.76559\n"
     ]
    },
    {
     "name": "stderr",
     "output_type": "stream",
     "text": [
      "\r",
      "  1%|          | 11/1000 [00:01<01:34, 10.47it/s]"
     ]
    },
    {
     "name": "stdout",
     "output_type": "stream",
     "text": [
      "Training_loss 8.38434,   Relative Error 5.78408\n",
      "Training_loss 8.35331,   Relative Error 5.80562\n",
      "Training_loss 8.32108,   Relative Error 5.84070\n"
     ]
    },
    {
     "name": "stderr",
     "output_type": "stream",
     "text": [
      "\r",
      "  1%|▏         | 13/1000 [00:01<01:27, 11.26it/s]"
     ]
    },
    {
     "name": "stdout",
     "output_type": "stream",
     "text": [
      "Training_loss 8.29469,   Relative Error 5.89550\n",
      "Training_loss 8.27715,   Relative Error 5.92480\n",
      "Training_loss 8.24785,   Relative Error 5.96809"
     ]
    },
    {
     "name": "stderr",
     "output_type": "stream",
     "text": [
      "  2%|▏         | 17/1000 [00:01<01:32, 10.62it/s]"
     ]
    },
    {
     "name": "stdout",
     "output_type": "stream",
     "text": [
      "\n",
      "Training_loss 8.22099,   Relative Error 5.99986\n",
      "Training_loss 8.19768,   Relative Error 6.03001\n"
     ]
    },
    {
     "name": "stderr",
     "output_type": "stream",
     "text": [
      "\r",
      "  2%|▏         | 19/1000 [00:01<01:30, 10.82it/s]"
     ]
    },
    {
     "name": "stdout",
     "output_type": "stream",
     "text": [
      "Training_loss 8.17621,   Relative Error 6.05400\n",
      "Training_loss 8.13244,   Relative Error 6.09479\n",
      "Training_loss 8.10326,   Relative Error 6.12704\n"
     ]
    },
    {
     "name": "stderr",
     "output_type": "stream",
     "text": [
      "  2%|▏         | 22/1000 [00:02<01:56,  8.39it/s]"
     ]
    },
    {
     "name": "stdout",
     "output_type": "stream",
     "text": [
      "Training_loss 8.08258,   Relative Error 6.15768\n",
      "Training_loss 8.04482,   Relative Error 6.20611\n"
     ]
    },
    {
     "name": "stderr",
     "output_type": "stream",
     "text": [
      "  2%|▏         | 24/1000 [00:02<02:04,  7.81it/s]"
     ]
    },
    {
     "name": "stdout",
     "output_type": "stream",
     "text": [
      "Training_loss 8.02232,   Relative Error 6.23997\n",
      "Training_loss 7.98648,   Relative Error 6.29449\n"
     ]
    },
    {
     "name": "stderr",
     "output_type": "stream",
     "text": [
      "\r",
      "  3%|▎         | 26/1000 [00:02<01:49,  8.87it/s]"
     ]
    },
    {
     "name": "stdout",
     "output_type": "stream",
     "text": [
      "Training_loss 7.95863,   Relative Error 6.31108\n",
      "Training_loss 7.94000,   Relative Error 6.32365\n",
      "Training_loss 7.92271,   Relative Error 6.34511\n"
     ]
    },
    {
     "name": "stderr",
     "output_type": "stream",
     "text": [
      "  3%|▎         | 30/1000 [00:03<01:29, 10.87it/s]"
     ]
    },
    {
     "name": "stdout",
     "output_type": "stream",
     "text": [
      "Training_loss 7.90641,   Relative Error 6.37485\n",
      "Training_loss 7.88579,   Relative Error 6.38884\n",
      "Training_loss 7.85962,   Relative Error 6.46263\n"
     ]
    },
    {
     "name": "stderr",
     "output_type": "stream",
     "text": [
      "\r",
      "  3%|▎         | 32/1000 [00:03<01:28, 10.90it/s]"
     ]
    },
    {
     "name": "stdout",
     "output_type": "stream",
     "text": [
      "Training_loss 7.82846,   Relative Error 6.48775\n",
      "Training_loss 7.80398,   Relative Error 6.49162\n",
      "Training_loss 7.78620,   Relative Error 6.50379\n"
     ]
    },
    {
     "name": "stderr",
     "output_type": "stream",
     "text": [
      "  4%|▎         | 36/1000 [00:03<01:23, 11.51it/s]"
     ]
    },
    {
     "name": "stdout",
     "output_type": "stream",
     "text": [
      "Training_loss 7.77453,   Relative Error 6.52552\n",
      "Training_loss 7.73968,   Relative Error 6.54188\n",
      "Training_loss 7.72041,   Relative Error 6.55798\n"
     ]
    },
    {
     "name": "stderr",
     "output_type": "stream",
     "text": [
      "\r",
      "  4%|▍         | 38/1000 [00:03<01:19, 12.17it/s]"
     ]
    },
    {
     "name": "stdout",
     "output_type": "stream",
     "text": [
      "Training_loss 7.70836,   Relative Error 6.56097\n",
      "Training_loss 7.67428,   Relative Error 6.60394\n",
      "Training_loss 7.64918,   Relative Error 6.61224\n"
     ]
    },
    {
     "name": "stderr",
     "output_type": "stream",
     "text": [
      "  4%|▍         | 42/1000 [00:04<01:17, 12.30it/s]"
     ]
    },
    {
     "name": "stdout",
     "output_type": "stream",
     "text": [
      "Training_loss 7.63044,   Relative Error 6.63852\n",
      "Training_loss 7.60160,   Relative Error 6.67035\n",
      "Training_loss 7.57034,   Relative Error 6.69782\n"
     ]
    },
    {
     "name": "stderr",
     "output_type": "stream",
     "text": [
      "\r",
      "  4%|▍         | 44/1000 [00:04<01:21, 11.78it/s]"
     ]
    },
    {
     "name": "stdout",
     "output_type": "stream",
     "text": [
      "Training_loss 7.54810,   Relative Error 6.71805\n",
      "Training_loss 7.52335,   Relative Error 6.74783\n",
      "Training_loss 7.50918,   Relative Error 6.77674\n"
     ]
    },
    {
     "name": "stderr",
     "output_type": "stream",
     "text": [
      "\r",
      "  5%|▍         | 46/1000 [00:04<01:24, 11.25it/s]"
     ]
    },
    {
     "name": "stdout",
     "output_type": "stream",
     "text": [
      "Training_loss 7.48795,   Relative Error 6.78530\n",
      "Training_loss 7.46352,   Relative Error 6.84589\n",
      "Training_loss 7.44078,   Relative Error 6.87250"
     ]
    },
    {
     "name": "stderr",
     "output_type": "stream",
     "text": [
      "\r",
      "  5%|▍         | 48/1000 [00:04<01:29, 10.66it/s]"
     ]
    },
    {
     "name": "stdout",
     "output_type": "stream",
     "text": [
      "\n"
     ]
    },
    {
     "name": "stderr",
     "output_type": "stream",
     "text": [
      "\r",
      "  5%|▌         | 50/1000 [00:05<02:00,  7.91it/s]"
     ]
    },
    {
     "name": "stdout",
     "output_type": "stream",
     "text": [
      "Training_loss 7.41381,   Relative Error 6.90942\n",
      "Training_loss 7.38389,   Relative Error 6.92181\n"
     ]
    },
    {
     "name": "stderr",
     "output_type": "stream",
     "text": [
      "  5%|▌         | 52/1000 [00:05<02:02,  7.71it/s]"
     ]
    },
    {
     "name": "stdout",
     "output_type": "stream",
     "text": [
      "Training_loss 7.36549,   Relative Error 6.93841\n",
      "Training_loss 7.35318,   Relative Error 6.96600\n",
      "Training_loss 7.32483,   Relative Error 6.98603\n"
     ]
    },
    {
     "name": "stderr",
     "output_type": "stream",
     "text": [
      "  6%|▌         | 56/1000 [00:05<01:38,  9.57it/s]"
     ]
    },
    {
     "name": "stdout",
     "output_type": "stream",
     "text": [
      "Training_loss 7.30100,   Relative Error 7.01452\n",
      "Training_loss 7.27443,   Relative Error 7.05737\n",
      "Training_loss 7.24972,   Relative Error 7.07734\n"
     ]
    },
    {
     "name": "stderr",
     "output_type": "stream",
     "text": [
      "  6%|▌         | 60/1000 [00:06<01:21, 11.58it/s]"
     ]
    },
    {
     "name": "stdout",
     "output_type": "stream",
     "text": [
      "Training_loss 7.22262,   Relative Error 7.10863\n",
      "Training_loss 7.19923,   Relative Error 7.09817\n",
      "Training_loss 7.17953,   Relative Error 7.11806\n",
      "Training_loss 7.16421,   Relative Error 7.11532\n"
     ]
    },
    {
     "name": "stderr",
     "output_type": "stream",
     "text": [
      "\r",
      "  6%|▌         | 62/1000 [00:06<01:19, 11.79it/s]"
     ]
    },
    {
     "name": "stdout",
     "output_type": "stream",
     "text": [
      "Training_loss 7.12890,   Relative Error 7.16717\n",
      "Training_loss 7.10685,   Relative Error 7.19919\n",
      "Training_loss 7.08737,   Relative Error 7.23604\n"
     ]
    },
    {
     "name": "stderr",
     "output_type": "stream",
     "text": [
      "  7%|▋         | 66/1000 [00:06<01:12, 12.81it/s]"
     ]
    },
    {
     "name": "stdout",
     "output_type": "stream",
     "text": [
      "Training_loss 7.07206,   Relative Error 7.25846\n",
      "Training_loss 7.06026,   Relative Error 7.26514\n",
      "Training_loss 7.04073,   Relative Error 7.28443\n"
     ]
    },
    {
     "name": "stderr",
     "output_type": "stream",
     "text": [
      "\r",
      "  7%|▋         | 68/1000 [00:06<01:14, 12.47it/s]"
     ]
    },
    {
     "name": "stdout",
     "output_type": "stream",
     "text": [
      "Training_loss 7.00560,   Relative Error 7.31296\n",
      "Training_loss 6.97854,   Relative Error 7.33673\n",
      "Training_loss 6.96189,   Relative Error 7.35138\n"
     ]
    },
    {
     "name": "stderr",
     "output_type": "stream",
     "text": [
      "  7%|▋         | 72/1000 [00:06<01:11, 12.96it/s]"
     ]
    },
    {
     "name": "stdout",
     "output_type": "stream",
     "text": [
      "Training_loss 6.93364,   Relative Error 7.35803\n",
      "Training_loss 6.92169,   Relative Error 7.36136\n",
      "Training_loss 6.89092,   Relative Error 7.36699\n"
     ]
    },
    {
     "name": "stderr",
     "output_type": "stream",
     "text": [
      "\r",
      "  7%|▋         | 74/1000 [00:07<01:12, 12.80it/s]"
     ]
    },
    {
     "name": "stdout",
     "output_type": "stream",
     "text": [
      "Training_loss 6.86043,   Relative Error 7.35174\n",
      "Training_loss 6.84520,   Relative Error 7.33002\n",
      "Training_loss 6.82172,   Relative Error 7.39158\n"
     ]
    },
    {
     "name": "stderr",
     "output_type": "stream",
     "text": [
      "  8%|▊         | 78/1000 [00:07<01:10, 13.10it/s]"
     ]
    },
    {
     "name": "stdout",
     "output_type": "stream",
     "text": [
      "Training_loss 6.79482,   Relative Error 7.42162\n",
      "Training_loss 6.77268,   Relative Error 7.44589\n",
      "Training_loss 6.75010,   Relative Error 7.45423\n"
     ]
    },
    {
     "name": "stderr",
     "output_type": "stream",
     "text": [
      "\r",
      "  8%|▊         | 80/1000 [00:07<01:08, 13.38it/s]"
     ]
    },
    {
     "name": "stdout",
     "output_type": "stream",
     "text": [
      "Training_loss 6.73129,   Relative Error 7.48669\n",
      "Training_loss 6.71172,   Relative Error 7.49236\n",
      "Training_loss 6.69008,   Relative Error 7.49303\n"
     ]
    },
    {
     "name": "stderr",
     "output_type": "stream",
     "text": [
      "  8%|▊         | 84/1000 [00:07<01:11, 12.86it/s]"
     ]
    },
    {
     "name": "stdout",
     "output_type": "stream",
     "text": [
      "Training_loss 6.66989,   Relative Error 7.52745\n",
      "Training_loss 6.64869,   Relative Error 7.54009\n",
      "Training_loss 6.61768,   Relative Error 7.52698\n"
     ]
    },
    {
     "name": "stderr",
     "output_type": "stream",
     "text": [
      "\r",
      "  9%|▊         | 86/1000 [00:08<01:22, 11.05it/s]"
     ]
    },
    {
     "name": "stdout",
     "output_type": "stream",
     "text": [
      "Training_loss 6.59641,   Relative Error 7.52789\n",
      "Training_loss 6.57748,   Relative Error 7.51966\n"
     ]
    },
    {
     "name": "stderr",
     "output_type": "stream",
     "text": [
      "\r",
      "  9%|▉         | 88/1000 [00:08<01:34,  9.64it/s]"
     ]
    },
    {
     "name": "stdout",
     "output_type": "stream",
     "text": [
      "Training_loss 6.56135,   Relative Error 7.53672\n",
      "Training_loss 6.54019,   Relative Error 7.52373\n"
     ]
    },
    {
     "name": "stderr",
     "output_type": "stream",
     "text": [
      "\r",
      "  9%|▉         | 90/1000 [00:08<01:29, 10.18it/s]"
     ]
    },
    {
     "name": "stdout",
     "output_type": "stream",
     "text": [
      "Training_loss 6.51727,   Relative Error 7.52615\n",
      "Training_loss 6.49822,   Relative Error 7.51475\n",
      "Training_loss 6.46529,   Relative Error 7.49612\n"
     ]
    },
    {
     "name": "stderr",
     "output_type": "stream",
     "text": [
      "  9%|▉         | 94/1000 [00:08<01:18, 11.61it/s]"
     ]
    },
    {
     "name": "stdout",
     "output_type": "stream",
     "text": [
      "Training_loss 6.44012,   Relative Error 7.50519\n",
      "Training_loss 6.41384,   Relative Error 7.51903\n",
      "Training_loss 6.38685,   Relative Error 7.56900\n"
     ]
    },
    {
     "name": "stderr",
     "output_type": "stream",
     "text": [
      "\r",
      " 10%|▉         | 96/1000 [00:09<01:19, 11.39it/s]"
     ]
    },
    {
     "name": "stdout",
     "output_type": "stream",
     "text": [
      "Training_loss 6.35538,   Relative Error 7.56602\n",
      "Training_loss 6.32389,   Relative Error 7.52362\n",
      "Training_loss 6.29196,   Relative Error 7.46375\n"
     ]
    },
    {
     "name": "stderr",
     "output_type": "stream",
     "text": [
      " 10%|█         | 100/1000 [00:09<01:20, 11.23it/s]"
     ]
    },
    {
     "name": "stdout",
     "output_type": "stream",
     "text": [
      "Training_loss 6.27462,   Relative Error 7.41600\n",
      "Training_loss 6.25246,   Relative Error 7.43083\n",
      "Training_loss 6.23415,   Relative Error 7.41664\n"
     ]
    },
    {
     "name": "stderr",
     "output_type": "stream",
     "text": [
      "\r",
      " 10%|█         | 102/1000 [00:09<01:42,  8.76it/s]"
     ]
    },
    {
     "name": "stdout",
     "output_type": "stream",
     "text": [
      "Training_loss 6.21368,   Relative Error 7.38923\n",
      "Training_loss 6.19338,   Relative Error 7.37643\n"
     ]
    },
    {
     "name": "stderr",
     "output_type": "stream",
     "text": [
      " 10%|█         | 104/1000 [00:09<01:46,  8.44it/s]"
     ]
    },
    {
     "name": "stdout",
     "output_type": "stream",
     "text": [
      "Training_loss 6.18045,   Relative Error 7.35219\n",
      "Training_loss 6.15187,   Relative Error 7.30518\n",
      "Training_loss 6.12922,   Relative Error 7.27937\n"
     ]
    },
    {
     "name": "stderr",
     "output_type": "stream",
     "text": [
      "\r",
      " 11%|█         | 106/1000 [00:10<01:43,  8.65it/s]"
     ]
    },
    {
     "name": "stdout",
     "output_type": "stream",
     "text": [
      "Training_loss 6.11268,   Relative Error 7.27901\n"
     ]
    },
    {
     "name": "stderr",
     "output_type": "stream",
     "text": [
      " 11%|█         | 108/1000 [00:10<01:59,  7.45it/s]"
     ]
    },
    {
     "name": "stdout",
     "output_type": "stream",
     "text": [
      "Training_loss 6.08903,   Relative Error 7.27711\n",
      "Training_loss 6.07093,   Relative Error 7.22905\n"
     ]
    },
    {
     "name": "stderr",
     "output_type": "stream",
     "text": [
      " 11%|█         | 110/1000 [00:10<01:53,  7.85it/s]"
     ]
    },
    {
     "name": "stdout",
     "output_type": "stream",
     "text": [
      "Training_loss 6.05264,   Relative Error 7.19811\n",
      "Training_loss 6.03368,   Relative Error 7.20231\n"
     ]
    },
    {
     "name": "stderr",
     "output_type": "stream",
     "text": [
      "\r",
      " 11%|█         | 112/1000 [00:10<01:41,  8.75it/s]"
     ]
    },
    {
     "name": "stdout",
     "output_type": "stream",
     "text": [
      "Training_loss 6.01921,   Relative Error 7.20009\n",
      "Training_loss 5.99025,   Relative Error 7.19890\n"
     ]
    },
    {
     "name": "stderr",
     "output_type": "stream",
     "text": [
      " 12%|█▏        | 115/1000 [00:11<01:32,  9.53it/s]"
     ]
    },
    {
     "name": "stdout",
     "output_type": "stream",
     "text": [
      "Training_loss 5.97162,   Relative Error 7.15546\n",
      "Training_loss 5.95622,   Relative Error 7.12808\n",
      "Training_loss 5.94055,   Relative Error 7.09198\n"
     ]
    },
    {
     "name": "stderr",
     "output_type": "stream",
     "text": [
      "\r",
      " 12%|█▏        | 117/1000 [00:11<01:29,  9.90it/s]"
     ]
    },
    {
     "name": "stdout",
     "output_type": "stream",
     "text": [
      "Training_loss 5.92915,   Relative Error 7.06491\n",
      "Training_loss 5.91941,   Relative Error 7.05977\n"
     ]
    },
    {
     "name": "stderr",
     "output_type": "stream",
     "text": [
      " 12%|█▏        | 120/1000 [00:11<01:29,  9.81it/s]"
     ]
    },
    {
     "name": "stdout",
     "output_type": "stream",
     "text": [
      "Training_loss 5.90572,   Relative Error 7.03728\n",
      "Training_loss 5.88512,   Relative Error 6.98062\n",
      "Training_loss 5.86952,   Relative Error 6.94594\n"
     ]
    },
    {
     "name": "stderr",
     "output_type": "stream",
     "text": [
      " 12%|█▏        | 122/1000 [00:12<01:41,  8.64it/s]"
     ]
    },
    {
     "name": "stdout",
     "output_type": "stream",
     "text": [
      "Training_loss 5.85688,   Relative Error 6.93662\n",
      "Training_loss 5.83796,   Relative Error 6.91322\n"
     ]
    },
    {
     "name": "stderr",
     "output_type": "stream",
     "text": [
      " 12%|█▏        | 124/1000 [00:12<01:48,  8.10it/s]"
     ]
    },
    {
     "name": "stdout",
     "output_type": "stream",
     "text": [
      "Training_loss 5.82088,   Relative Error 6.87045\n",
      "Training_loss 5.80144,   Relative Error 6.82985\n"
     ]
    },
    {
     "name": "stderr",
     "output_type": "stream",
     "text": [
      "\r",
      " 12%|█▎        | 125/1000 [00:12<01:59,  7.31it/s]"
     ]
    },
    {
     "name": "stdout",
     "output_type": "stream",
     "text": [
      "Training_loss 5.78569,   Relative Error 6.81453\n"
     ]
    },
    {
     "name": "stderr",
     "output_type": "stream",
     "text": [
      " 13%|█▎        | 127/1000 [00:12<02:10,  6.68it/s]"
     ]
    },
    {
     "name": "stdout",
     "output_type": "stream",
     "text": [
      "Training_loss 5.75641,   Relative Error 6.74116\n",
      "Training_loss 5.73983,   Relative Error 6.68457\n"
     ]
    },
    {
     "name": "stderr",
     "output_type": "stream",
     "text": [
      " 13%|█▎        | 129/1000 [00:13<01:53,  7.67it/s]"
     ]
    },
    {
     "name": "stdout",
     "output_type": "stream",
     "text": [
      "Training_loss 5.71725,   Relative Error 6.64578\n",
      "Training_loss 5.69174,   Relative Error 6.60160\n",
      "Training_loss 5.66724,   Relative Error 6.56843\n"
     ]
    },
    {
     "name": "stderr",
     "output_type": "stream",
     "text": [
      " 13%|█▎        | 132/1000 [00:13<01:40,  8.64it/s]"
     ]
    },
    {
     "name": "stdout",
     "output_type": "stream",
     "text": [
      "Training_loss 5.64856,   Relative Error 6.52591\n",
      "Training_loss 5.62933,   Relative Error 6.49694\n",
      "Training_loss 5.61838,   Relative Error 6.47898\n"
     ]
    },
    {
     "name": "stderr",
     "output_type": "stream",
     "text": [
      " 14%|█▎        | 136/1000 [00:13<01:21, 10.55it/s]"
     ]
    },
    {
     "name": "stdout",
     "output_type": "stream",
     "text": [
      "Training_loss 5.59323,   Relative Error 6.46002\n",
      "Training_loss 5.57655,   Relative Error 6.42203\n",
      "Training_loss 5.55997,   Relative Error 6.38360\n"
     ]
    },
    {
     "name": "stderr",
     "output_type": "stream",
     "text": [
      " 14%|█▍        | 140/1000 [00:14<01:10, 12.21it/s]"
     ]
    },
    {
     "name": "stdout",
     "output_type": "stream",
     "text": [
      "Training_loss 5.54689,   Relative Error 6.34762\n",
      "Training_loss 5.52585,   Relative Error 6.28694\n",
      "Training_loss 5.51342,   Relative Error 6.26582\n",
      "Training_loss 5.48891,   Relative Error 6.19659\n"
     ]
    },
    {
     "name": "stderr",
     "output_type": "stream",
     "text": [
      "\r",
      " 14%|█▍        | 142/1000 [00:14<01:10, 12.25it/s]"
     ]
    },
    {
     "name": "stdout",
     "output_type": "stream",
     "text": [
      "Training_loss 5.47420,   Relative Error 6.17070\n",
      "Training_loss 5.45893,   Relative Error 6.11781\n",
      "Training_loss 5.43673,   Relative Error 6.06563\n"
     ]
    },
    {
     "name": "stderr",
     "output_type": "stream",
     "text": [
      " 15%|█▍        | 146/1000 [00:14<01:11, 11.94it/s]"
     ]
    },
    {
     "name": "stdout",
     "output_type": "stream",
     "text": [
      "Training_loss 5.41650,   Relative Error 6.00871\n",
      "Training_loss 5.39559,   Relative Error 5.95160\n",
      "Training_loss 5.37587,   Relative Error 5.90797\n"
     ]
    },
    {
     "name": "stderr",
     "output_type": "stream",
     "text": [
      "\r",
      " 15%|█▍        | 148/1000 [00:14<01:09, 12.26it/s]"
     ]
    },
    {
     "name": "stdout",
     "output_type": "stream",
     "text": [
      "Training_loss 5.36333,   Relative Error 5.87462\n",
      "Training_loss 5.35129,   Relative Error 5.85386\n",
      "Training_loss 5.33393,   Relative Error 5.80442\n"
     ]
    },
    {
     "name": "stderr",
     "output_type": "stream",
     "text": [
      " 15%|█▌        | 152/1000 [00:14<01:08, 12.45it/s]"
     ]
    },
    {
     "name": "stdout",
     "output_type": "stream",
     "text": [
      "Training_loss 5.31716,   Relative Error 5.76359\n",
      "Training_loss 5.30618,   Relative Error 5.73758\n",
      "Training_loss 5.29621,   Relative Error 5.71262\n"
     ]
    },
    {
     "name": "stderr",
     "output_type": "stream",
     "text": [
      "\r",
      " 15%|█▌        | 154/1000 [00:15<01:04, 13.03it/s]"
     ]
    },
    {
     "name": "stdout",
     "output_type": "stream",
     "text": [
      "Training_loss 5.28529,   Relative Error 5.68715\n",
      "Training_loss 5.26284,   Relative Error 5.65572\n",
      "Training_loss 5.25029,   Relative Error 5.63265\n"
     ]
    },
    {
     "name": "stderr",
     "output_type": "stream",
     "text": [
      " 16%|█▌        | 158/1000 [00:15<01:02, 13.41it/s]"
     ]
    },
    {
     "name": "stdout",
     "output_type": "stream",
     "text": [
      "Training_loss 5.23523,   Relative Error 5.60720\n",
      "Training_loss 5.21937,   Relative Error 5.55087\n",
      "Training_loss 5.19387,   Relative Error 5.47658\n"
     ]
    },
    {
     "name": "stderr",
     "output_type": "stream",
     "text": [
      " 16%|█▌        | 162/1000 [00:15<01:01, 13.65it/s]"
     ]
    },
    {
     "name": "stdout",
     "output_type": "stream",
     "text": [
      "Training_loss 5.16917,   Relative Error 5.39880\n",
      "Training_loss 5.15797,   Relative Error 5.36391\n",
      "Training_loss 5.14188,   Relative Error 5.32070\n",
      "Training_loss 5.13031,   Relative Error 5.30749\n"
     ]
    },
    {
     "name": "stderr",
     "output_type": "stream",
     "text": [
      "\r",
      " 16%|█▋        | 164/1000 [00:15<01:03, 13.08it/s]"
     ]
    },
    {
     "name": "stdout",
     "output_type": "stream",
     "text": [
      "Training_loss 5.10592,   Relative Error 5.25888\n",
      "Training_loss 5.08535,   Relative Error 5.21277\n",
      "Training_loss 5.06675,   Relative Error 5.18002\n"
     ]
    },
    {
     "name": "stderr",
     "output_type": "stream",
     "text": [
      " 17%|█▋        | 168/1000 [00:16<01:03, 13.20it/s]"
     ]
    },
    {
     "name": "stdout",
     "output_type": "stream",
     "text": [
      "Training_loss 5.04490,   Relative Error 5.12074\n",
      "Training_loss 5.02391,   Relative Error 5.07471\n",
      "Training_loss 5.00481,   Relative Error 5.03484\n",
      "Training_loss 4.99149,   Relative Error 5.00975\n"
     ]
    },
    {
     "name": "stderr",
     "output_type": "stream",
     "text": [
      " 17%|█▋        | 172/1000 [00:16<01:02, 13.19it/s]"
     ]
    },
    {
     "name": "stdout",
     "output_type": "stream",
     "text": [
      "Training_loss 4.97623,   Relative Error 4.98251\n",
      "Training_loss 4.95039,   Relative Error 4.93877\n",
      "Training_loss 4.93534,   Relative Error 4.90408\n"
     ]
    },
    {
     "name": "stderr",
     "output_type": "stream",
     "text": [
      "\r",
      " 17%|█▋        | 174/1000 [00:16<01:03, 13.03it/s]"
     ]
    },
    {
     "name": "stdout",
     "output_type": "stream",
     "text": [
      "Training_loss 4.92217,   Relative Error 4.87680\n",
      "Training_loss 4.90290,   Relative Error 4.83235\n",
      "Training_loss 4.88945,   Relative Error 4.80478\n"
     ]
    },
    {
     "name": "stderr",
     "output_type": "stream",
     "text": [
      " 18%|█▊        | 178/1000 [00:17<01:11, 11.44it/s]"
     ]
    },
    {
     "name": "stdout",
     "output_type": "stream",
     "text": [
      "Training_loss 4.86469,   Relative Error 4.74188\n",
      "Training_loss 4.84755,   Relative Error 4.70947\n",
      "Training_loss 4.82889,   Relative Error 4.67255\n"
     ]
    },
    {
     "name": "stderr",
     "output_type": "stream",
     "text": [
      "\r",
      " 18%|█▊        | 180/1000 [00:17<01:13, 11.12it/s]"
     ]
    },
    {
     "name": "stdout",
     "output_type": "stream",
     "text": [
      "Training_loss 4.81601,   Relative Error 4.64851\n",
      "Training_loss 4.79666,   Relative Error 4.61080\n",
      "Training_loss 4.78496,   Relative Error 4.59043\n"
     ]
    },
    {
     "name": "stderr",
     "output_type": "stream",
     "text": [
      " 18%|█▊        | 184/1000 [00:17<01:14, 10.96it/s]"
     ]
    },
    {
     "name": "stdout",
     "output_type": "stream",
     "text": [
      "Training_loss 4.75536,   Relative Error 4.51996\n",
      "Training_loss 4.74279,   Relative Error 4.50752\n",
      "Training_loss 4.72698,   Relative Error 4.47492\n"
     ]
    },
    {
     "name": "stderr",
     "output_type": "stream",
     "text": [
      "\r",
      " 19%|█▊        | 186/1000 [00:17<01:11, 11.36it/s]"
     ]
    },
    {
     "name": "stdout",
     "output_type": "stream",
     "text": [
      "Training_loss 4.71093,   Relative Error 4.45247\n",
      "Training_loss 4.69663,   Relative Error 4.41539\n",
      "Training_loss 4.67792,   Relative Error 4.36859\n"
     ]
    },
    {
     "name": "stderr",
     "output_type": "stream",
     "text": [
      " 19%|█▉        | 190/1000 [00:18<01:09, 11.67it/s]"
     ]
    },
    {
     "name": "stdout",
     "output_type": "stream",
     "text": [
      "Training_loss 4.66139,   Relative Error 4.33862\n",
      "Training_loss 4.64678,   Relative Error 4.30727\n",
      "Training_loss 4.63253,   Relative Error 4.28649\n"
     ]
    },
    {
     "name": "stderr",
     "output_type": "stream",
     "text": [
      "\r",
      " 19%|█▉        | 192/1000 [00:18<01:08, 11.81it/s]"
     ]
    },
    {
     "name": "stdout",
     "output_type": "stream",
     "text": [
      "Training_loss 4.61831,   Relative Error 4.25345\n",
      "Training_loss 4.60218,   Relative Error 4.23004\n",
      "Training_loss 4.59057,   Relative Error 4.20863\n"
     ]
    },
    {
     "name": "stderr",
     "output_type": "stream",
     "text": [
      " 20%|█▉        | 196/1000 [00:18<01:04, 12.40it/s]"
     ]
    },
    {
     "name": "stdout",
     "output_type": "stream",
     "text": [
      "Training_loss 4.57922,   Relative Error 4.19017\n",
      "Training_loss 4.56720,   Relative Error 4.17150\n",
      "Training_loss 4.55530,   Relative Error 4.14833\n",
      "Training_loss 4.54614,   Relative Error 4.13393\n"
     ]
    },
    {
     "name": "stderr",
     "output_type": "stream",
     "text": [
      " 20%|██        | 200/1000 [00:18<01:03, 12.52it/s]"
     ]
    },
    {
     "name": "stdout",
     "output_type": "stream",
     "text": [
      "Training_loss 4.53141,   Relative Error 4.10933\n",
      "Training_loss 4.52499,   Relative Error 4.09542\n",
      "Training_loss 4.51437,   Relative Error 4.07982\n"
     ]
    },
    {
     "name": "stderr",
     "output_type": "stream",
     "text": [
      "\r",
      " 20%|██        | 202/1000 [00:19<01:04, 12.32it/s]"
     ]
    },
    {
     "name": "stdout",
     "output_type": "stream",
     "text": [
      "Training_loss 4.50201,   Relative Error 4.06296\n",
      "Training_loss 4.48609,   Relative Error 4.04286\n"
     ]
    },
    {
     "name": "stderr",
     "output_type": "stream",
     "text": [
      "\r",
      " 20%|██        | 204/1000 [00:19<01:14, 10.66it/s]"
     ]
    },
    {
     "name": "stdout",
     "output_type": "stream",
     "text": [
      "Training_loss 4.46960,   Relative Error 4.01184\n",
      "Training_loss 4.45649,   Relative Error 3.99622\n",
      "Training_loss 4.43970,   Relative Error 3.96473\n"
     ]
    },
    {
     "name": "stderr",
     "output_type": "stream",
     "text": [
      " 21%|██        | 208/1000 [00:19<01:10, 11.30it/s]"
     ]
    },
    {
     "name": "stdout",
     "output_type": "stream",
     "text": [
      "Training_loss 4.42083,   Relative Error 3.93182\n",
      "Training_loss 4.40864,   Relative Error 3.91711\n",
      "Training_loss 4.39476,   Relative Error 3.88512\n"
     ]
    },
    {
     "name": "stderr",
     "output_type": "stream",
     "text": [
      "\r",
      " 21%|██        | 210/1000 [00:19<01:12, 10.85it/s]"
     ]
    },
    {
     "name": "stdout",
     "output_type": "stream",
     "text": [
      "Training_loss 4.38272,   Relative Error 3.86076\n",
      "Training_loss 4.36762,   Relative Error 3.83258\n"
     ]
    },
    {
     "name": "stderr",
     "output_type": "stream",
     "text": [
      "\r",
      " 21%|██        | 212/1000 [00:20<01:23,  9.41it/s]"
     ]
    },
    {
     "name": "stdout",
     "output_type": "stream",
     "text": [
      "Training_loss 4.35374,   Relative Error 3.80836\n",
      "Training_loss 4.34404,   Relative Error 3.78901\n",
      "Training_loss 4.32830,   Relative Error 3.75861\n"
     ]
    },
    {
     "name": "stderr",
     "output_type": "stream",
     "text": [
      "\r",
      " 21%|██▏       | 214/1000 [00:20<01:20,  9.76it/s]"
     ]
    },
    {
     "name": "stdout",
     "output_type": "stream",
     "text": [
      "Training_loss 4.30918,   Relative Error 3.73199\n",
      "Training_loss 4.30005,   Relative Error 3.71896\n"
     ]
    },
    {
     "name": "stderr",
     "output_type": "stream",
     "text": [
      " 22%|██▏       | 218/1000 [00:20<01:17, 10.05it/s]"
     ]
    },
    {
     "name": "stdout",
     "output_type": "stream",
     "text": [
      "Training_loss 4.28659,   Relative Error 3.69733\n",
      "Training_loss 4.27278,   Relative Error 3.67563\n",
      "Training_loss 4.26280,   Relative Error 3.65816\n"
     ]
    },
    {
     "name": "stderr",
     "output_type": "stream",
     "text": [
      "\r",
      " 22%|██▏       | 220/1000 [00:20<01:13, 10.56it/s]"
     ]
    },
    {
     "name": "stdout",
     "output_type": "stream",
     "text": [
      "Training_loss 4.24757,   Relative Error 3.63229\n",
      "Training_loss 4.22670,   Relative Error 3.60374\n",
      "Training_loss 4.21100,   Relative Error 3.57544\n"
     ]
    },
    {
     "name": "stderr",
     "output_type": "stream",
     "text": [
      " 22%|██▏       | 224/1000 [00:21<01:13, 10.50it/s]"
     ]
    },
    {
     "name": "stdout",
     "output_type": "stream",
     "text": [
      "Training_loss 4.20122,   Relative Error 3.55850\n",
      "Training_loss 4.18701,   Relative Error 3.53228\n",
      "Training_loss 4.17112,   Relative Error 3.50544\n"
     ]
    },
    {
     "name": "stderr",
     "output_type": "stream",
     "text": [
      "\r",
      " 23%|██▎       | 226/1000 [00:21<01:12, 10.61it/s]"
     ]
    },
    {
     "name": "stdout",
     "output_type": "stream",
     "text": [
      "Training_loss 4.15941,   Relative Error 3.48751\n",
      "Training_loss 4.14500,   Relative Error 3.45968\n",
      "Training_loss 4.13399,   Relative Error 3.44275\n"
     ]
    },
    {
     "name": "stderr",
     "output_type": "stream",
     "text": [
      " 23%|██▎       | 230/1000 [00:21<01:06, 11.55it/s]"
     ]
    },
    {
     "name": "stdout",
     "output_type": "stream",
     "text": [
      "Training_loss 4.11386,   Relative Error 3.41207\n",
      "Training_loss 4.10385,   Relative Error 3.39822\n",
      "Training_loss 4.09431,   Relative Error 3.38309\n"
     ]
    },
    {
     "name": "stderr",
     "output_type": "stream",
     "text": [
      "\r",
      " 23%|██▎       | 232/1000 [00:21<01:04, 11.99it/s]"
     ]
    },
    {
     "name": "stdout",
     "output_type": "stream",
     "text": [
      "Training_loss 4.07686,   Relative Error 3.35582\n",
      "Training_loss 4.06531,   Relative Error 3.33762\n",
      "Training_loss 4.05177,   Relative Error 3.31337\n"
     ]
    },
    {
     "name": "stderr",
     "output_type": "stream",
     "text": [
      " 24%|██▎       | 236/1000 [00:22<00:59, 12.84it/s]"
     ]
    },
    {
     "name": "stdout",
     "output_type": "stream",
     "text": [
      "Training_loss 4.03797,   Relative Error 3.28996\n",
      "Training_loss 4.02228,   Relative Error 3.26586\n",
      "Training_loss 4.01119,   Relative Error 3.25343\n"
     ]
    },
    {
     "name": "stderr",
     "output_type": "stream",
     "text": [
      " 24%|██▍       | 240/1000 [00:22<00:55, 13.76it/s]"
     ]
    },
    {
     "name": "stdout",
     "output_type": "stream",
     "text": [
      "Training_loss 4.00439,   Relative Error 3.24455\n",
      "Training_loss 3.99334,   Relative Error 3.22838\n",
      "Training_loss 3.98286,   Relative Error 3.21258\n",
      "Training_loss 3.97564,   Relative Error 3.20199\n"
     ]
    },
    {
     "name": "stderr",
     "output_type": "stream",
     "text": [
      "\r",
      " 24%|██▍       | 242/1000 [00:22<00:57, 13.22it/s]"
     ]
    },
    {
     "name": "stdout",
     "output_type": "stream",
     "text": [
      "Training_loss 3.96174,   Relative Error 3.18189\n",
      "Training_loss 3.94782,   Relative Error 3.16106\n",
      "Training_loss 3.93771,   Relative Error 3.14581\n"
     ]
    },
    {
     "name": "stderr",
     "output_type": "stream",
     "text": [
      " 25%|██▍       | 246/1000 [00:23<01:08, 11.07it/s]"
     ]
    },
    {
     "name": "stdout",
     "output_type": "stream",
     "text": [
      "Training_loss 3.92535,   Relative Error 3.12722\n",
      "Training_loss 3.91314,   Relative Error 3.11187\n",
      "Training_loss 3.90438,   Relative Error 3.09878\n"
     ]
    },
    {
     "name": "stderr",
     "output_type": "stream",
     "text": [
      "\r",
      " 25%|██▍       | 248/1000 [00:23<01:05, 11.51it/s]"
     ]
    },
    {
     "name": "stdout",
     "output_type": "stream",
     "text": [
      "Training_loss 3.89110,   Relative Error 3.07835\n",
      "Training_loss 3.87941,   Relative Error 3.06052\n",
      "Training_loss 3.86823,   Relative Error 3.04390\n"
     ]
    },
    {
     "name": "stderr",
     "output_type": "stream",
     "text": [
      " 25%|██▌       | 252/1000 [00:23<01:00, 12.28it/s]"
     ]
    },
    {
     "name": "stdout",
     "output_type": "stream",
     "text": [
      "Training_loss 3.86008,   Relative Error 3.03349\n",
      "Training_loss 3.84574,   Relative Error 3.01366\n",
      "Training_loss 3.83666,   Relative Error 2.99980\n"
     ]
    },
    {
     "name": "stderr",
     "output_type": "stream",
     "text": [
      "\r",
      " 25%|██▌       | 254/1000 [00:23<01:01, 12.04it/s]"
     ]
    },
    {
     "name": "stdout",
     "output_type": "stream",
     "text": [
      "Training_loss 3.82114,   Relative Error 2.97985\n",
      "Training_loss 3.80860,   Relative Error 2.96269\n",
      "Training_loss 3.78910,   Relative Error 2.93774\n"
     ]
    },
    {
     "name": "stderr",
     "output_type": "stream",
     "text": [
      " 26%|██▌       | 258/1000 [00:24<01:03, 11.62it/s]"
     ]
    },
    {
     "name": "stdout",
     "output_type": "stream",
     "text": [
      "Training_loss 3.77233,   Relative Error 2.91204\n",
      "Training_loss 3.76288,   Relative Error 2.89786\n",
      "Training_loss 3.75293,   Relative Error 2.88476\n"
     ]
    },
    {
     "name": "stderr",
     "output_type": "stream",
     "text": [
      "\r",
      " 26%|██▌       | 260/1000 [00:24<01:09, 10.69it/s]"
     ]
    },
    {
     "name": "stdout",
     "output_type": "stream",
     "text": [
      "Training_loss 3.73793,   Relative Error 2.86538\n",
      "Training_loss 3.72755,   Relative Error 2.85089\n",
      "Training_loss 3.71456,   Relative Error 2.83391\n"
     ]
    },
    {
     "name": "stderr",
     "output_type": "stream",
     "text": [
      " 26%|██▋       | 264/1000 [00:24<01:04, 11.44it/s]"
     ]
    },
    {
     "name": "stdout",
     "output_type": "stream",
     "text": [
      "Training_loss 3.69967,   Relative Error 2.81524\n",
      "Training_loss 3.68855,   Relative Error 2.79997\n",
      "Training_loss 3.68009,   Relative Error 2.79221\n"
     ]
    },
    {
     "name": "stderr",
     "output_type": "stream",
     "text": [
      "\r",
      " 27%|██▋       | 266/1000 [00:24<01:00, 12.08it/s]"
     ]
    },
    {
     "name": "stdout",
     "output_type": "stream",
     "text": [
      "Training_loss 3.65764,   Relative Error 2.76239\n",
      "Training_loss 3.64821,   Relative Error 2.74789\n",
      "Training_loss 3.63268,   Relative Error 2.72555\n"
     ]
    },
    {
     "name": "stderr",
     "output_type": "stream",
     "text": [
      " 27%|██▋       | 270/1000 [00:25<00:57, 12.68it/s]"
     ]
    },
    {
     "name": "stdout",
     "output_type": "stream",
     "text": [
      "Training_loss 3.62217,   Relative Error 2.71423\n",
      "Training_loss 3.60554,   Relative Error 2.69251\n",
      "Training_loss 3.59199,   Relative Error 2.67371\n",
      "Training_loss 3.58524,   Relative Error 2.66659\n"
     ]
    },
    {
     "name": "stderr",
     "output_type": "stream",
     "text": [
      "\r",
      " 27%|██▋       | 272/1000 [00:25<00:56, 12.87it/s]"
     ]
    },
    {
     "name": "stdout",
     "output_type": "stream",
     "text": [
      "Training_loss 3.57136,   Relative Error 2.64899\n",
      "Training_loss 3.55998,   Relative Error 2.63563\n"
     ]
    },
    {
     "name": "stderr",
     "output_type": "stream",
     "text": [
      "\r",
      " 27%|██▋       | 274/1000 [00:25<01:04, 11.22it/s]"
     ]
    },
    {
     "name": "stdout",
     "output_type": "stream",
     "text": [
      "Training_loss 3.54740,   Relative Error 2.62143\n",
      "Training_loss 3.53831,   Relative Error 2.60876\n"
     ]
    },
    {
     "name": "stderr",
     "output_type": "stream",
     "text": [
      " 28%|██▊       | 278/1000 [00:25<01:10, 10.31it/s]"
     ]
    },
    {
     "name": "stdout",
     "output_type": "stream",
     "text": [
      "Training_loss 3.52831,   Relative Error 2.59669\n",
      "Training_loss 3.51926,   Relative Error 2.58544\n",
      "Training_loss 3.51123,   Relative Error 2.57608\n"
     ]
    },
    {
     "name": "stderr",
     "output_type": "stream",
     "text": [
      "\r",
      " 28%|██▊       | 280/1000 [00:26<01:08, 10.46it/s]"
     ]
    },
    {
     "name": "stdout",
     "output_type": "stream",
     "text": [
      "Training_loss 3.50267,   Relative Error 2.56566\n",
      "Training_loss 3.49131,   Relative Error 2.55084\n"
     ]
    },
    {
     "name": "stderr",
     "output_type": "stream",
     "text": [
      "\r",
      " 28%|██▊       | 282/1000 [00:26<01:15,  9.50it/s]"
     ]
    },
    {
     "name": "stdout",
     "output_type": "stream",
     "text": [
      "Training_loss 3.48291,   Relative Error 2.54071\n",
      "Training_loss 3.47375,   Relative Error 2.53081\n"
     ]
    },
    {
     "name": "stderr",
     "output_type": "stream",
     "text": [
      " 28%|██▊       | 284/1000 [00:26<01:18,  9.14it/s]"
     ]
    },
    {
     "name": "stdout",
     "output_type": "stream",
     "text": [
      "Training_loss 3.46355,   Relative Error 2.51913\n",
      "Training_loss 3.45659,   Relative Error 2.51190\n"
     ]
    },
    {
     "name": "stderr",
     "output_type": "stream",
     "text": [
      " 29%|██▊       | 287/1000 [00:26<01:15,  9.48it/s]"
     ]
    },
    {
     "name": "stdout",
     "output_type": "stream",
     "text": [
      "Training_loss 3.44671,   Relative Error 2.49826\n",
      "Training_loss 3.43137,   Relative Error 2.47942\n",
      "Training_loss 3.42148,   Relative Error 2.46821\n"
     ]
    },
    {
     "name": "stderr",
     "output_type": "stream",
     "text": [
      "\r",
      " 29%|██▉       | 289/1000 [00:27<01:10, 10.15it/s]"
     ]
    },
    {
     "name": "stdout",
     "output_type": "stream",
     "text": [
      "Training_loss 3.40767,   Relative Error 2.45078\n",
      "Training_loss 3.39866,   Relative Error 2.44068\n",
      "Training_loss 3.38911,   Relative Error 2.42860\n"
     ]
    },
    {
     "name": "stderr",
     "output_type": "stream",
     "text": [
      " 29%|██▉       | 293/1000 [00:27<01:00, 11.62it/s]"
     ]
    },
    {
     "name": "stdout",
     "output_type": "stream",
     "text": [
      "Training_loss 3.38339,   Relative Error 2.42199\n",
      "Training_loss 3.37387,   Relative Error 2.41049\n",
      "Training_loss 3.36139,   Relative Error 2.39612\n"
     ]
    },
    {
     "name": "stderr",
     "output_type": "stream",
     "text": [
      "\r",
      " 30%|██▉       | 295/1000 [00:27<01:07, 10.49it/s]"
     ]
    },
    {
     "name": "stdout",
     "output_type": "stream",
     "text": [
      "Training_loss 3.35027,   Relative Error 2.38460\n",
      "Training_loss 3.33829,   Relative Error 2.37177\n"
     ]
    },
    {
     "name": "stderr",
     "output_type": "stream",
     "text": [
      "\r",
      " 30%|██▉       | 297/1000 [00:27<01:10,  9.91it/s]"
     ]
    },
    {
     "name": "stdout",
     "output_type": "stream",
     "text": [
      "Training_loss 3.33164,   Relative Error 2.36406\n",
      "Training_loss 3.31980,   Relative Error 2.35185\n",
      "Training_loss 3.31114,   Relative Error 2.34240\n"
     ]
    },
    {
     "name": "stderr",
     "output_type": "stream",
     "text": [
      " 30%|███       | 301/1000 [00:28<01:06, 10.44it/s]"
     ]
    },
    {
     "name": "stdout",
     "output_type": "stream",
     "text": [
      "Training_loss 3.29930,   Relative Error 2.32903\n",
      "Training_loss 3.28753,   Relative Error 2.31578\n",
      "Training_loss 3.28059,   Relative Error 2.30854\n"
     ]
    },
    {
     "name": "stderr",
     "output_type": "stream",
     "text": [
      "\r",
      " 30%|███       | 303/1000 [00:28<01:03, 11.04it/s]"
     ]
    },
    {
     "name": "stdout",
     "output_type": "stream",
     "text": [
      "Training_loss 3.26891,   Relative Error 2.29595\n",
      "Training_loss 3.26386,   Relative Error 2.29043\n",
      "Training_loss 3.24452,   Relative Error 2.26944\n"
     ]
    },
    {
     "name": "stderr",
     "output_type": "stream",
     "text": [
      " 31%|███       | 307/1000 [00:28<01:01, 11.22it/s]"
     ]
    },
    {
     "name": "stdout",
     "output_type": "stream",
     "text": [
      "Training_loss 3.23220,   Relative Error 2.25539\n",
      "Training_loss 3.21847,   Relative Error 2.23956\n",
      "Training_loss 3.21074,   Relative Error 2.23180\n"
     ]
    },
    {
     "name": "stderr",
     "output_type": "stream",
     "text": [
      "\r",
      " 31%|███       | 309/1000 [00:28<00:59, 11.64it/s]"
     ]
    },
    {
     "name": "stdout",
     "output_type": "stream",
     "text": [
      "Training_loss 3.19904,   Relative Error 2.22152\n",
      "Training_loss 3.18887,   Relative Error 2.21168\n",
      "Training_loss 3.17811,   Relative Error 2.19958\n"
     ]
    },
    {
     "name": "stderr",
     "output_type": "stream",
     "text": [
      " 31%|███▏      | 313/1000 [00:29<00:54, 12.64it/s]"
     ]
    },
    {
     "name": "stdout",
     "output_type": "stream",
     "text": [
      "Training_loss 3.17024,   Relative Error 2.19192\n",
      "Training_loss 3.16142,   Relative Error 2.18166\n",
      "Training_loss 3.15210,   Relative Error 2.17242\n"
     ]
    },
    {
     "name": "stderr",
     "output_type": "stream",
     "text": [
      " 32%|███▏      | 317/1000 [00:29<00:50, 13.43it/s]"
     ]
    },
    {
     "name": "stdout",
     "output_type": "stream",
     "text": [
      "Training_loss 3.14311,   Relative Error 2.16428\n",
      "Training_loss 3.13115,   Relative Error 2.15199\n",
      "Training_loss 3.11788,   Relative Error 2.13904\n",
      "Training_loss 3.11013,   Relative Error 2.13208\n"
     ]
    },
    {
     "name": "stderr",
     "output_type": "stream",
     "text": [
      "\r",
      " 32%|███▏      | 319/1000 [00:29<00:49, 13.75it/s]"
     ]
    },
    {
     "name": "stdout",
     "output_type": "stream",
     "text": [
      "Training_loss 3.10030,   Relative Error 2.12253\n",
      "Training_loss 3.08500,   Relative Error 2.10757\n",
      "Training_loss 3.07258,   Relative Error 2.09553\n"
     ]
    },
    {
     "name": "stderr",
     "output_type": "stream",
     "text": [
      " 32%|███▏      | 323/1000 [00:29<00:48, 13.92it/s]"
     ]
    },
    {
     "name": "stdout",
     "output_type": "stream",
     "text": [
      "Training_loss 3.05948,   Relative Error 2.08302\n",
      "Training_loss 3.04650,   Relative Error 2.06943\n",
      "Training_loss 3.03370,   Relative Error 2.05696\n",
      "Training_loss 3.02095,   Relative Error 2.04507\n"
     ]
    },
    {
     "name": "stderr",
     "output_type": "stream",
     "text": [
      " 33%|███▎      | 327/1000 [00:30<00:49, 13.66it/s]"
     ]
    },
    {
     "name": "stdout",
     "output_type": "stream",
     "text": [
      "Training_loss 3.01014,   Relative Error 2.03497\n",
      "Training_loss 3.00274,   Relative Error 2.02845\n",
      "Training_loss 2.99017,   Relative Error 2.01590\n",
      "Training_loss 2.98378,   Relative Error 2.00995\n"
     ]
    },
    {
     "name": "stderr",
     "output_type": "stream",
     "text": [
      " 33%|███▎      | 331/1000 [00:30<00:46, 14.47it/s]"
     ]
    },
    {
     "name": "stdout",
     "output_type": "stream",
     "text": [
      "Training_loss 2.97720,   Relative Error 2.00367\n",
      "Training_loss 2.96396,   Relative Error 1.99130\n",
      "Training_loss 2.94934,   Relative Error 1.97718\n",
      "Training_loss 2.94028,   Relative Error 1.96941\n"
     ]
    },
    {
     "name": "stderr",
     "output_type": "stream",
     "text": [
      " 34%|███▎      | 335/1000 [00:30<00:49, 13.57it/s]"
     ]
    },
    {
     "name": "stdout",
     "output_type": "stream",
     "text": [
      "Training_loss 2.93166,   Relative Error 1.96053\n",
      "Training_loss 2.92438,   Relative Error 1.95427\n",
      "Training_loss 2.91542,   Relative Error 1.94492\n",
      "Training_loss 2.90238,   Relative Error 1.93239\n"
     ]
    },
    {
     "name": "stderr",
     "output_type": "stream",
     "text": [
      " 34%|███▍      | 339/1000 [00:30<00:50, 13.21it/s]"
     ]
    },
    {
     "name": "stdout",
     "output_type": "stream",
     "text": [
      "Training_loss 2.89388,   Relative Error 1.92465\n",
      "Training_loss 2.88683,   Relative Error 1.91892\n",
      "Training_loss 2.87971,   Relative Error 1.91245\n"
     ]
    },
    {
     "name": "stderr",
     "output_type": "stream",
     "text": [
      " 34%|███▍      | 343/1000 [00:31<00:47, 13.95it/s]"
     ]
    },
    {
     "name": "stdout",
     "output_type": "stream",
     "text": [
      "Training_loss 2.87073,   Relative Error 1.90388\n",
      "Training_loss 2.86273,   Relative Error 1.89640\n",
      "Training_loss 2.85526,   Relative Error 1.89036\n",
      "Training_loss 2.84512,   Relative Error 1.88131\n"
     ]
    },
    {
     "name": "stderr",
     "output_type": "stream",
     "text": [
      " 35%|███▍      | 347/1000 [00:31<00:46, 14.01it/s]"
     ]
    },
    {
     "name": "stdout",
     "output_type": "stream",
     "text": [
      "Training_loss 2.83794,   Relative Error 1.87477\n",
      "Training_loss 2.82793,   Relative Error 1.86549\n",
      "Training_loss 2.82123,   Relative Error 1.85934\n",
      "Training_loss 2.81314,   Relative Error 1.85249\n"
     ]
    },
    {
     "name": "stderr",
     "output_type": "stream",
     "text": [
      "\r",
      " 35%|███▍      | 349/1000 [00:31<00:49, 13.17it/s]"
     ]
    },
    {
     "name": "stdout",
     "output_type": "stream",
     "text": [
      "Training_loss 2.80358,   Relative Error 1.84261\n",
      "Training_loss 2.79434,   Relative Error 1.83462\n",
      "Training_loss 2.78434,   Relative Error 1.82510\n"
     ]
    },
    {
     "name": "stderr",
     "output_type": "stream",
     "text": [
      " 35%|███▌      | 353/1000 [00:31<00:45, 14.17it/s]"
     ]
    },
    {
     "name": "stdout",
     "output_type": "stream",
     "text": [
      "Training_loss 2.76973,   Relative Error 1.81348\n",
      "Training_loss 2.76091,   Relative Error 1.80603\n",
      "Training_loss 2.75257,   Relative Error 1.79836\n"
     ]
    },
    {
     "name": "stderr",
     "output_type": "stream",
     "text": [
      "\r",
      " 36%|███▌      | 355/1000 [00:32<00:46, 13.77it/s]"
     ]
    },
    {
     "name": "stdout",
     "output_type": "stream",
     "text": [
      "Training_loss 2.74240,   Relative Error 1.78985\n",
      "Training_loss 2.73229,   Relative Error 1.78159\n",
      "Training_loss 2.72295,   Relative Error 1.77319\n"
     ]
    },
    {
     "name": "stderr",
     "output_type": "stream",
     "text": [
      " 36%|███▌      | 359/1000 [00:32<00:46, 13.89it/s]"
     ]
    },
    {
     "name": "stdout",
     "output_type": "stream",
     "text": [
      "Training_loss 2.71504,   Relative Error 1.76684\n",
      "Training_loss 2.70597,   Relative Error 1.75933\n",
      "Training_loss 2.69997,   Relative Error 1.75370\n",
      "Training_loss 2.68487,   Relative Error 1.74127\n"
     ]
    },
    {
     "name": "stderr",
     "output_type": "stream",
     "text": [
      " 36%|███▋      | 363/1000 [00:32<00:43, 14.55it/s]"
     ]
    },
    {
     "name": "stdout",
     "output_type": "stream",
     "text": [
      "Training_loss 2.67997,   Relative Error 1.73739\n",
      "Training_loss 2.67460,   Relative Error 1.73345\n",
      "Training_loss 2.67044,   Relative Error 1.72999\n"
     ]
    },
    {
     "name": "stderr",
     "output_type": "stream",
     "text": [
      "\r",
      " 36%|███▋      | 365/1000 [00:32<00:44, 14.33it/s]"
     ]
    },
    {
     "name": "stdout",
     "output_type": "stream",
     "text": [
      "Training_loss 2.66143,   Relative Error 1.72205\n",
      "Training_loss 2.65295,   Relative Error 1.71542\n",
      "Training_loss 2.64489,   Relative Error 1.70846\n"
     ]
    },
    {
     "name": "stderr",
     "output_type": "stream",
     "text": [
      " 37%|███▋      | 369/1000 [00:33<00:41, 15.14it/s]"
     ]
    },
    {
     "name": "stdout",
     "output_type": "stream",
     "text": [
      "Training_loss 2.64004,   Relative Error 1.70380\n",
      "Training_loss 2.63510,   Relative Error 1.69993\n",
      "Training_loss 2.62275,   Relative Error 1.68990\n",
      "Training_loss 2.61292,   Relative Error 1.68203\n"
     ]
    },
    {
     "name": "stderr",
     "output_type": "stream",
     "text": [
      " 37%|███▋      | 373/1000 [00:33<00:43, 14.52it/s]"
     ]
    },
    {
     "name": "stdout",
     "output_type": "stream",
     "text": [
      "Training_loss 2.60460,   Relative Error 1.67551\n",
      "Training_loss 2.59652,   Relative Error 1.66834\n",
      "Training_loss 2.58546,   Relative Error 1.65892\n",
      "Training_loss 2.57484,   Relative Error 1.64993\n"
     ]
    },
    {
     "name": "stderr",
     "output_type": "stream",
     "text": [
      " 38%|███▊      | 377/1000 [00:33<00:42, 14.66it/s]"
     ]
    },
    {
     "name": "stdout",
     "output_type": "stream",
     "text": [
      "Training_loss 2.56375,   Relative Error 1.64101\n",
      "Training_loss 2.55527,   Relative Error 1.63396\n",
      "Training_loss 2.54911,   Relative Error 1.62856\n",
      "Training_loss 2.53974,   Relative Error 1.62057\n"
     ]
    },
    {
     "name": "stderr",
     "output_type": "stream",
     "text": [
      " 38%|███▊      | 381/1000 [00:33<00:40, 15.14it/s]"
     ]
    },
    {
     "name": "stdout",
     "output_type": "stream",
     "text": [
      "Training_loss 2.53411,   Relative Error 1.61648\n",
      "Training_loss 2.52627,   Relative Error 1.60993\n",
      "Training_loss 2.51770,   Relative Error 1.60234\n",
      "Training_loss 2.50914,   Relative Error 1.59555\n"
     ]
    },
    {
     "name": "stderr",
     "output_type": "stream",
     "text": [
      " 38%|███▊      | 385/1000 [00:34<00:40, 15.07it/s]"
     ]
    },
    {
     "name": "stdout",
     "output_type": "stream",
     "text": [
      "Training_loss 2.49919,   Relative Error 1.58776\n",
      "Training_loss 2.48923,   Relative Error 1.57999\n",
      "Training_loss 2.47839,   Relative Error 1.57151\n"
     ]
    },
    {
     "name": "stderr",
     "output_type": "stream",
     "text": [
      "\r",
      " 39%|███▊      | 387/1000 [00:34<00:42, 14.44it/s]"
     ]
    },
    {
     "name": "stdout",
     "output_type": "stream",
     "text": [
      "Training_loss 2.46972,   Relative Error 1.56504\n",
      "Training_loss 2.45918,   Relative Error 1.55697\n",
      "Training_loss 2.44902,   Relative Error 1.54968\n"
     ]
    },
    {
     "name": "stderr",
     "output_type": "stream",
     "text": [
      " 39%|███▉      | 391/1000 [00:34<00:41, 14.68it/s]"
     ]
    },
    {
     "name": "stdout",
     "output_type": "stream",
     "text": [
      "Training_loss 2.43984,   Relative Error 1.54226\n",
      "Training_loss 2.43302,   Relative Error 1.53734\n",
      "Training_loss 2.42469,   Relative Error 1.53108\n",
      "Training_loss 2.41869,   Relative Error 1.52645\n"
     ]
    },
    {
     "name": "stderr",
     "output_type": "stream",
     "text": [
      " 40%|███▉      | 395/1000 [00:34<00:42, 14.35it/s]"
     ]
    },
    {
     "name": "stdout",
     "output_type": "stream",
     "text": [
      "Training_loss 2.41324,   Relative Error 1.52263\n",
      "Training_loss 2.40286,   Relative Error 1.51422\n",
      "Training_loss 2.39424,   Relative Error 1.50790\n",
      "Training_loss 2.38993,   Relative Error 1.50482\n"
     ]
    },
    {
     "name": "stderr",
     "output_type": "stream",
     "text": [
      " 40%|███▉      | 399/1000 [00:35<00:43, 13.84it/s]"
     ]
    },
    {
     "name": "stdout",
     "output_type": "stream",
     "text": [
      "Training_loss 2.38002,   Relative Error 1.49684\n",
      "Training_loss 2.37372,   Relative Error 1.49190\n",
      "Training_loss 2.36765,   Relative Error 1.48729\n"
     ]
    },
    {
     "name": "stderr",
     "output_type": "stream",
     "text": [
      " 40%|████      | 403/1000 [00:35<00:42, 13.99it/s]"
     ]
    },
    {
     "name": "stdout",
     "output_type": "stream",
     "text": [
      "Training_loss 2.36361,   Relative Error 1.48436\n",
      "Training_loss 2.35350,   Relative Error 1.47657\n",
      "Training_loss 2.34059,   Relative Error 1.46677\n",
      "Training_loss 2.33310,   Relative Error 1.46116\n"
     ]
    },
    {
     "name": "stderr",
     "output_type": "stream",
     "text": [
      " 41%|████      | 407/1000 [00:35<00:41, 14.36it/s]"
     ]
    },
    {
     "name": "stdout",
     "output_type": "stream",
     "text": [
      "Training_loss 2.32367,   Relative Error 1.45399\n",
      "Training_loss 2.31620,   Relative Error 1.44839\n",
      "Training_loss 2.30733,   Relative Error 1.44212\n",
      "Training_loss 2.30203,   Relative Error 1.43826\n"
     ]
    },
    {
     "name": "stderr",
     "output_type": "stream",
     "text": [
      " 41%|████      | 411/1000 [00:35<00:39, 14.76it/s]"
     ]
    },
    {
     "name": "stdout",
     "output_type": "stream",
     "text": [
      "Training_loss 2.29730,   Relative Error 1.43485\n",
      "Training_loss 2.28597,   Relative Error 1.42623\n",
      "Training_loss 2.27871,   Relative Error 1.42077\n",
      "Training_loss 2.27084,   Relative Error 1.41522\n"
     ]
    },
    {
     "name": "stderr",
     "output_type": "stream",
     "text": [
      "\r",
      " 41%|████▏     | 413/1000 [00:36<00:41, 14.17it/s]"
     ]
    },
    {
     "name": "stdout",
     "output_type": "stream",
     "text": [
      "Training_loss 2.26257,   Relative Error 1.40911\n",
      "Training_loss 2.25911,   Relative Error 1.40673\n",
      "Training_loss 2.25486,   Relative Error 1.40383\n"
     ]
    },
    {
     "name": "stderr",
     "output_type": "stream",
     "text": [
      " 42%|████▏     | 417/1000 [00:36<00:47, 12.16it/s]"
     ]
    },
    {
     "name": "stdout",
     "output_type": "stream",
     "text": [
      "Training_loss 2.24835,   Relative Error 1.39890\n",
      "Training_loss 2.24152,   Relative Error 1.39412\n",
      "Training_loss 2.23293,   Relative Error 1.38794\n"
     ]
    },
    {
     "name": "stderr",
     "output_type": "stream",
     "text": [
      "\r",
      " 42%|████▏     | 419/1000 [00:36<00:47, 12.22it/s]"
     ]
    },
    {
     "name": "stdout",
     "output_type": "stream",
     "text": [
      "Training_loss 2.22419,   Relative Error 1.38134\n",
      "Training_loss 2.21820,   Relative Error 1.37708\n",
      "Training_loss 2.21018,   Relative Error 1.37108\n"
     ]
    },
    {
     "name": "stderr",
     "output_type": "stream",
     "text": [
      " 42%|████▏     | 423/1000 [00:37<00:47, 12.11it/s]"
     ]
    },
    {
     "name": "stdout",
     "output_type": "stream",
     "text": [
      "Training_loss 2.20211,   Relative Error 1.36500\n",
      "Training_loss 2.19514,   Relative Error 1.35998\n",
      "Training_loss 2.18575,   Relative Error 1.35340\n"
     ]
    },
    {
     "name": "stderr",
     "output_type": "stream",
     "text": [
      "\r",
      " 42%|████▎     | 425/1000 [00:37<00:48, 11.85it/s]"
     ]
    },
    {
     "name": "stdout",
     "output_type": "stream",
     "text": [
      "Training_loss 2.18009,   Relative Error 1.34903\n",
      "Training_loss 2.17532,   Relative Error 1.34583\n",
      "Training_loss 2.17015,   Relative Error 1.34210\n"
     ]
    },
    {
     "name": "stderr",
     "output_type": "stream",
     "text": [
      " 43%|████▎     | 429/1000 [00:37<00:47, 11.92it/s]"
     ]
    },
    {
     "name": "stdout",
     "output_type": "stream",
     "text": [
      "Training_loss 2.16283,   Relative Error 1.33728\n",
      "Training_loss 2.15539,   Relative Error 1.33202\n",
      "Training_loss 2.14741,   Relative Error 1.32666\n"
     ]
    },
    {
     "name": "stderr",
     "output_type": "stream",
     "text": [
      "\r",
      " 43%|████▎     | 431/1000 [00:37<00:46, 12.29it/s]"
     ]
    },
    {
     "name": "stdout",
     "output_type": "stream",
     "text": [
      "Training_loss 2.14082,   Relative Error 1.32191\n",
      "Training_loss 2.13522,   Relative Error 1.31796\n",
      "Training_loss 2.12882,   Relative Error 1.31355\n"
     ]
    },
    {
     "name": "stderr",
     "output_type": "stream",
     "text": [
      " 44%|████▎     | 435/1000 [00:37<00:44, 12.60it/s]"
     ]
    },
    {
     "name": "stdout",
     "output_type": "stream",
     "text": [
      "Training_loss 2.11713,   Relative Error 1.30504\n",
      "Training_loss 2.10796,   Relative Error 1.29893\n",
      "Training_loss 2.10250,   Relative Error 1.29507\n"
     ]
    },
    {
     "name": "stderr",
     "output_type": "stream",
     "text": [
      "\r",
      " 44%|████▎     | 437/1000 [00:38<00:42, 13.16it/s]"
     ]
    },
    {
     "name": "stdout",
     "output_type": "stream",
     "text": [
      "Training_loss 2.09670,   Relative Error 1.29112\n",
      "Training_loss 2.08943,   Relative Error 1.28647\n",
      "Training_loss 2.08205,   Relative Error 1.28136\n"
     ]
    },
    {
     "name": "stderr",
     "output_type": "stream",
     "text": [
      " 44%|████▍     | 441/1000 [00:38<00:43, 12.87it/s]"
     ]
    },
    {
     "name": "stdout",
     "output_type": "stream",
     "text": [
      "Training_loss 2.07641,   Relative Error 1.27761\n",
      "Training_loss 2.07014,   Relative Error 1.27364\n",
      "Training_loss 2.06756,   Relative Error 1.27204\n"
     ]
    },
    {
     "name": "stderr",
     "output_type": "stream",
     "text": [
      "\r",
      " 44%|████▍     | 443/1000 [00:38<00:42, 13.16it/s]"
     ]
    },
    {
     "name": "stdout",
     "output_type": "stream",
     "text": [
      "Training_loss 2.05962,   Relative Error 1.26676\n",
      "Training_loss 2.05483,   Relative Error 1.26353\n",
      "Training_loss 2.04726,   Relative Error 1.25873\n"
     ]
    },
    {
     "name": "stderr",
     "output_type": "stream",
     "text": [
      " 45%|████▍     | 447/1000 [00:38<00:39, 13.87it/s]"
     ]
    },
    {
     "name": "stdout",
     "output_type": "stream",
     "text": [
      "Training_loss 2.04121,   Relative Error 1.25470\n",
      "Training_loss 2.03255,   Relative Error 1.24884\n",
      "Training_loss 2.02556,   Relative Error 1.24444\n",
      "Training_loss 2.01954,   Relative Error 1.24024\n"
     ]
    },
    {
     "name": "stderr",
     "output_type": "stream",
     "text": [
      " 45%|████▌     | 451/1000 [00:39<00:37, 14.53it/s]"
     ]
    },
    {
     "name": "stdout",
     "output_type": "stream",
     "text": [
      "Training_loss 2.01454,   Relative Error 1.23711\n",
      "Training_loss 2.00680,   Relative Error 1.23195\n",
      "Training_loss 1.99970,   Relative Error 1.22717\n"
     ]
    },
    {
     "name": "stderr",
     "output_type": "stream",
     "text": [
      " 46%|████▌     | 455/1000 [00:39<00:36, 14.79it/s]"
     ]
    },
    {
     "name": "stdout",
     "output_type": "stream",
     "text": [
      "Training_loss 1.99132,   Relative Error 1.22166\n",
      "Training_loss 1.98498,   Relative Error 1.21732\n",
      "Training_loss 1.98053,   Relative Error 1.21445\n",
      "Training_loss 1.97403,   Relative Error 1.20991\n"
     ]
    },
    {
     "name": "stderr",
     "output_type": "stream",
     "text": [
      "\r",
      " 46%|████▌     | 457/1000 [00:39<00:37, 14.53it/s]"
     ]
    },
    {
     "name": "stdout",
     "output_type": "stream",
     "text": [
      "Training_loss 1.96789,   Relative Error 1.20584\n",
      "Training_loss 1.95931,   Relative Error 1.20027\n",
      "Training_loss 1.95014,   Relative Error 1.19408\n"
     ]
    },
    {
     "name": "stderr",
     "output_type": "stream",
     "text": [
      " 46%|████▌     | 461/1000 [00:39<00:40, 13.24it/s]"
     ]
    },
    {
     "name": "stdout",
     "output_type": "stream",
     "text": [
      "Training_loss 1.94690,   Relative Error 1.19199\n",
      "Training_loss 1.94159,   Relative Error 1.18848\n",
      "Training_loss 1.93526,   Relative Error 1.18424\n"
     ]
    },
    {
     "name": "stderr",
     "output_type": "stream",
     "text": [
      "\r",
      " 46%|████▋     | 463/1000 [00:39<00:38, 13.80it/s]"
     ]
    },
    {
     "name": "stdout",
     "output_type": "stream",
     "text": [
      "Training_loss 1.92742,   Relative Error 1.17879\n",
      "Training_loss 1.92285,   Relative Error 1.17574\n",
      "Training_loss 1.91458,   Relative Error 1.17028\n"
     ]
    },
    {
     "name": "stderr",
     "output_type": "stream",
     "text": [
      " 47%|████▋     | 467/1000 [00:40<00:37, 14.40it/s]"
     ]
    },
    {
     "name": "stdout",
     "output_type": "stream",
     "text": [
      "Training_loss 1.90887,   Relative Error 1.16671\n",
      "Training_loss 1.90213,   Relative Error 1.16235\n",
      "Training_loss 1.89690,   Relative Error 1.15895\n",
      "Training_loss 1.89242,   Relative Error 1.15618\n"
     ]
    },
    {
     "name": "stderr",
     "output_type": "stream",
     "text": [
      " 47%|████▋     | 471/1000 [00:40<00:34, 15.31it/s]"
     ]
    },
    {
     "name": "stdout",
     "output_type": "stream",
     "text": [
      "Training_loss 1.88734,   Relative Error 1.15293\n",
      "Training_loss 1.88027,   Relative Error 1.14830\n",
      "Training_loss 1.87408,   Relative Error 1.14428\n",
      "Training_loss 1.87031,   Relative Error 1.14199\n"
     ]
    },
    {
     "name": "stderr",
     "output_type": "stream",
     "text": [
      " 48%|████▊     | 475/1000 [00:40<00:33, 15.60it/s]"
     ]
    },
    {
     "name": "stdout",
     "output_type": "stream",
     "text": [
      "Training_loss 1.86349,   Relative Error 1.13754\n",
      "Training_loss 1.85337,   Relative Error 1.13107\n",
      "Training_loss 1.84913,   Relative Error 1.12827\n",
      "Training_loss 1.84539,   Relative Error 1.12590\n"
     ]
    },
    {
     "name": "stderr",
     "output_type": "stream",
     "text": [
      " 48%|████▊     | 479/1000 [00:40<00:32, 16.02it/s]"
     ]
    },
    {
     "name": "stdout",
     "output_type": "stream",
     "text": [
      "Training_loss 1.84085,   Relative Error 1.12302\n",
      "Training_loss 1.83622,   Relative Error 1.12022\n",
      "Training_loss 1.83186,   Relative Error 1.11756\n",
      "Training_loss 1.82639,   Relative Error 1.11408\n"
     ]
    },
    {
     "name": "stderr",
     "output_type": "stream",
     "text": [
      " 48%|████▊     | 483/1000 [00:41<00:33, 15.60it/s]"
     ]
    },
    {
     "name": "stdout",
     "output_type": "stream",
     "text": [
      "Training_loss 1.82127,   Relative Error 1.11083\n",
      "Training_loss 1.81657,   Relative Error 1.10807\n",
      "Training_loss 1.81013,   Relative Error 1.10401\n",
      "Training_loss 1.80450,   Relative Error 1.10065\n"
     ]
    },
    {
     "name": "stderr",
     "output_type": "stream",
     "text": [
      " 49%|████▊     | 487/1000 [00:41<00:31, 16.24it/s]"
     ]
    },
    {
     "name": "stdout",
     "output_type": "stream",
     "text": [
      "Training_loss 1.79611,   Relative Error 1.09551\n",
      "Training_loss 1.78796,   Relative Error 1.09041\n",
      "Training_loss 1.78321,   Relative Error 1.08736\n",
      "Training_loss 1.77828,   Relative Error 1.08429\n"
     ]
    },
    {
     "name": "stderr",
     "output_type": "stream",
     "text": [
      " 49%|████▉     | 491/1000 [00:41<00:29, 16.98it/s]"
     ]
    },
    {
     "name": "stdout",
     "output_type": "stream",
     "text": [
      "Training_loss 1.77420,   Relative Error 1.08175\n",
      "Training_loss 1.76563,   Relative Error 1.07647\n",
      "Training_loss 1.75781,   Relative Error 1.07176\n",
      "Training_loss 1.75474,   Relative Error 1.06977\n"
     ]
    },
    {
     "name": "stderr",
     "output_type": "stream",
     "text": [
      " 50%|████▉     | 495/1000 [00:41<00:31, 16.25it/s]"
     ]
    },
    {
     "name": "stdout",
     "output_type": "stream",
     "text": [
      "Training_loss 1.74796,   Relative Error 1.06539\n",
      "Training_loss 1.73914,   Relative Error 1.05962\n",
      "Training_loss 1.73484,   Relative Error 1.05702\n",
      "Training_loss 1.72899,   Relative Error 1.05346\n"
     ]
    },
    {
     "name": "stderr",
     "output_type": "stream",
     "text": [
      " 50%|████▉     | 499/1000 [00:42<00:30, 16.30it/s]"
     ]
    },
    {
     "name": "stdout",
     "output_type": "stream",
     "text": [
      "Training_loss 1.72323,   Relative Error 1.04999\n",
      "Training_loss 1.71604,   Relative Error 1.04567\n",
      "Training_loss 1.70975,   Relative Error 1.04158\n",
      "Training_loss 1.70272,   Relative Error 1.03740\n"
     ]
    },
    {
     "name": "stderr",
     "output_type": "stream",
     "text": [
      " 50%|█████     | 503/1000 [00:42<00:31, 15.79it/s]"
     ]
    },
    {
     "name": "stdout",
     "output_type": "stream",
     "text": [
      "Training_loss 1.69639,   Relative Error 1.03367\n",
      "Training_loss 1.69182,   Relative Error 1.03085\n",
      "Training_loss 1.68232,   Relative Error 1.02509\n"
     ]
    },
    {
     "name": "stderr",
     "output_type": "stream",
     "text": [
      " 51%|█████     | 507/1000 [00:42<00:31, 15.74it/s]"
     ]
    },
    {
     "name": "stdout",
     "output_type": "stream",
     "text": [
      "Training_loss 1.67704,   Relative Error 1.02191\n",
      "Training_loss 1.67196,   Relative Error 1.01886\n",
      "Training_loss 1.66535,   Relative Error 1.01468\n",
      "Training_loss 1.65880,   Relative Error 1.01073\n"
     ]
    },
    {
     "name": "stderr",
     "output_type": "stream",
     "text": [
      " 51%|█████     | 511/1000 [00:42<00:31, 15.47it/s]"
     ]
    },
    {
     "name": "stdout",
     "output_type": "stream",
     "text": [
      "Training_loss 1.65308,   Relative Error 1.00725\n",
      "Training_loss 1.64953,   Relative Error 1.00522\n",
      "Training_loss 1.64540,   Relative Error 1.00276\n",
      "Training_loss 1.64214,   Relative Error 1.00087\n"
     ]
    },
    {
     "name": "stderr",
     "output_type": "stream",
     "text": [
      " 52%|█████▏    | 515/1000 [00:43<00:31, 15.57it/s]"
     ]
    },
    {
     "name": "stdout",
     "output_type": "stream",
     "text": [
      "Training_loss 1.63577,   Relative Error 0.99712\n",
      "Training_loss 1.63239,   Relative Error 0.99502\n",
      "Training_loss 1.62580,   Relative Error 0.99098\n",
      "Training_loss 1.61898,   Relative Error 0.98679\n"
     ]
    },
    {
     "name": "stderr",
     "output_type": "stream",
     "text": [
      " 52%|█████▏    | 519/1000 [00:43<00:30, 15.62it/s]"
     ]
    },
    {
     "name": "stdout",
     "output_type": "stream",
     "text": [
      "Training_loss 1.61520,   Relative Error 0.98453\n",
      "Training_loss 1.61048,   Relative Error 0.98183\n",
      "Training_loss 1.60849,   Relative Error 0.98067\n",
      "Training_loss 1.60592,   Relative Error 0.97901\n"
     ]
    },
    {
     "name": "stderr",
     "output_type": "stream",
     "text": [
      " 52%|█████▏    | 523/1000 [00:43<00:30, 15.52it/s]"
     ]
    },
    {
     "name": "stdout",
     "output_type": "stream",
     "text": [
      "Training_loss 1.60353,   Relative Error 0.97753\n",
      "Training_loss 1.59961,   Relative Error 0.97513\n",
      "Training_loss 1.59361,   Relative Error 0.97143\n",
      "Training_loss 1.59056,   Relative Error 0.96968\n"
     ]
    },
    {
     "name": "stderr",
     "output_type": "stream",
     "text": [
      " 53%|█████▎    | 527/1000 [00:44<00:30, 15.64it/s]"
     ]
    },
    {
     "name": "stdout",
     "output_type": "stream",
     "text": [
      "Training_loss 1.58464,   Relative Error 0.96621\n",
      "Training_loss 1.58091,   Relative Error 0.96401\n",
      "Training_loss 1.57426,   Relative Error 0.96011\n",
      "Training_loss 1.57047,   Relative Error 0.95792\n"
     ]
    },
    {
     "name": "stderr",
     "output_type": "stream",
     "text": [
      " 53%|█████▎    | 531/1000 [00:44<00:29, 15.97it/s]"
     ]
    },
    {
     "name": "stdout",
     "output_type": "stream",
     "text": [
      "Training_loss 1.56528,   Relative Error 0.95491\n",
      "Training_loss 1.55866,   Relative Error 0.95092\n",
      "Training_loss 1.55106,   Relative Error 0.94665\n",
      "Training_loss 1.54620,   Relative Error 0.94382\n"
     ]
    },
    {
     "name": "stderr",
     "output_type": "stream",
     "text": [
      " 54%|█████▎    | 535/1000 [00:44<00:27, 16.80it/s]"
     ]
    },
    {
     "name": "stdout",
     "output_type": "stream",
     "text": [
      "Training_loss 1.54299,   Relative Error 0.94194\n",
      "Training_loss 1.53678,   Relative Error 0.93837\n",
      "Training_loss 1.52994,   Relative Error 0.93443\n",
      "Training_loss 1.52682,   Relative Error 0.93262\n"
     ]
    },
    {
     "name": "stderr",
     "output_type": "stream",
     "text": [
      " 54%|█████▍    | 539/1000 [00:44<00:28, 16.15it/s]"
     ]
    },
    {
     "name": "stdout",
     "output_type": "stream",
     "text": [
      "Training_loss 1.52327,   Relative Error 0.93047\n",
      "Training_loss 1.51880,   Relative Error 0.92796\n",
      "Training_loss 1.51178,   Relative Error 0.92389\n",
      "Training_loss 1.50616,   Relative Error 0.92063\n"
     ]
    },
    {
     "name": "stderr",
     "output_type": "stream",
     "text": [
      "\r",
      " 54%|█████▍    | 541/1000 [00:44<00:28, 16.32it/s]"
     ]
    },
    {
     "name": "stdout",
     "output_type": "stream",
     "text": [
      "Training_loss 1.49940,   Relative Error 0.91661\n",
      "Training_loss 1.49381,   Relative Error 0.91339\n",
      "Training_loss 1.48935,   Relative Error 0.91076\n"
     ]
    },
    {
     "name": "stderr",
     "output_type": "stream",
     "text": [
      " 55%|█████▍    | 545/1000 [00:45<00:27, 16.33it/s]"
     ]
    },
    {
     "name": "stdout",
     "output_type": "stream",
     "text": [
      "Training_loss 1.48589,   Relative Error 0.90879\n",
      "Training_loss 1.47996,   Relative Error 0.90532\n",
      "Training_loss 1.47458,   Relative Error 0.90226\n",
      "Training_loss 1.47200,   Relative Error 0.90080\n"
     ]
    },
    {
     "name": "stderr",
     "output_type": "stream",
     "text": [
      " 55%|█████▍    | 549/1000 [00:45<00:27, 16.53it/s]"
     ]
    },
    {
     "name": "stdout",
     "output_type": "stream",
     "text": [
      "Training_loss 1.46614,   Relative Error 0.89741\n",
      "Training_loss 1.46235,   Relative Error 0.89531\n",
      "Training_loss 1.45735,   Relative Error 0.89240\n",
      "Training_loss 1.45275,   Relative Error 0.88970\n"
     ]
    },
    {
     "name": "stderr",
     "output_type": "stream",
     "text": [
      " 55%|█████▌    | 553/1000 [00:45<00:27, 16.08it/s]"
     ]
    },
    {
     "name": "stdout",
     "output_type": "stream",
     "text": [
      "Training_loss 1.44762,   Relative Error 0.88680\n",
      "Training_loss 1.44394,   Relative Error 0.88466\n",
      "Training_loss 1.43904,   Relative Error 0.88184\n",
      "Training_loss 1.43447,   Relative Error 0.87917\n"
     ]
    },
    {
     "name": "stderr",
     "output_type": "stream",
     "text": [
      " 56%|█████▌    | 557/1000 [00:45<00:26, 16.66it/s]"
     ]
    },
    {
     "name": "stdout",
     "output_type": "stream",
     "text": [
      "Training_loss 1.42974,   Relative Error 0.87656\n",
      "Training_loss 1.42313,   Relative Error 0.87266\n",
      "Training_loss 1.41892,   Relative Error 0.87024\n",
      "Training_loss 1.41464,   Relative Error 0.86774\n"
     ]
    },
    {
     "name": "stderr",
     "output_type": "stream",
     "text": [
      " 56%|█████▌    | 561/1000 [00:46<00:27, 15.88it/s]"
     ]
    },
    {
     "name": "stdout",
     "output_type": "stream",
     "text": [
      "Training_loss 1.41122,   Relative Error 0.86584\n",
      "Training_loss 1.40762,   Relative Error 0.86369\n",
      "Training_loss 1.40311,   Relative Error 0.86120\n",
      "Training_loss 1.39743,   Relative Error 0.85805\n"
     ]
    },
    {
     "name": "stderr",
     "output_type": "stream",
     "text": [
      " 56%|█████▋    | 565/1000 [00:46<00:27, 15.86it/s]"
     ]
    },
    {
     "name": "stdout",
     "output_type": "stream",
     "text": [
      "Training_loss 1.39279,   Relative Error 0.85552\n",
      "Training_loss 1.38914,   Relative Error 0.85352\n",
      "Training_loss 1.38542,   Relative Error 0.85139\n",
      "Training_loss 1.38088,   Relative Error 0.84885\n"
     ]
    },
    {
     "name": "stderr",
     "output_type": "stream",
     "text": [
      " 57%|█████▋    | 569/1000 [00:46<00:26, 16.10it/s]"
     ]
    },
    {
     "name": "stdout",
     "output_type": "stream",
     "text": [
      "Training_loss 1.37513,   Relative Error 0.84566\n",
      "Training_loss 1.37051,   Relative Error 0.84313\n",
      "Training_loss 1.36594,   Relative Error 0.84070\n",
      "Training_loss 1.36256,   Relative Error 0.83890\n"
     ]
    },
    {
     "name": "stderr",
     "output_type": "stream",
     "text": [
      " 57%|█████▋    | 573/1000 [00:46<00:26, 16.42it/s]"
     ]
    },
    {
     "name": "stdout",
     "output_type": "stream",
     "text": [
      "Training_loss 1.36070,   Relative Error 0.83787\n",
      "Training_loss 1.35529,   Relative Error 0.83486\n",
      "Training_loss 1.35075,   Relative Error 0.83241\n",
      "Training_loss 1.34703,   Relative Error 0.83037\n"
     ]
    },
    {
     "name": "stderr",
     "output_type": "stream",
     "text": [
      " 58%|█████▊    | 577/1000 [00:47<00:25, 16.72it/s]"
     ]
    },
    {
     "name": "stdout",
     "output_type": "stream",
     "text": [
      "Training_loss 1.34443,   Relative Error 0.82884\n",
      "Training_loss 1.33982,   Relative Error 0.82620\n",
      "Training_loss 1.33607,   Relative Error 0.82409\n",
      "Training_loss 1.33329,   Relative Error 0.82257\n"
     ]
    },
    {
     "name": "stderr",
     "output_type": "stream",
     "text": [
      " 58%|█████▊    | 581/1000 [00:47<00:25, 16.56it/s]"
     ]
    },
    {
     "name": "stdout",
     "output_type": "stream",
     "text": [
      "Training_loss 1.32723,   Relative Error 0.81918\n",
      "Training_loss 1.32511,   Relative Error 0.81793\n",
      "Training_loss 1.31941,   Relative Error 0.81476\n",
      "Training_loss 1.31587,   Relative Error 0.81283\n"
     ]
    },
    {
     "name": "stderr",
     "output_type": "stream",
     "text": [
      " 58%|█████▊    | 585/1000 [00:47<00:25, 16.47it/s]"
     ]
    },
    {
     "name": "stdout",
     "output_type": "stream",
     "text": [
      "Training_loss 1.31333,   Relative Error 0.81140\n",
      "Training_loss 1.31045,   Relative Error 0.80979\n",
      "Training_loss 1.30534,   Relative Error 0.80698\n"
     ]
    },
    {
     "name": "stderr",
     "output_type": "stream",
     "text": [
      "\r",
      " 59%|█████▊    | 587/1000 [00:47<00:27, 15.29it/s]"
     ]
    },
    {
     "name": "stdout",
     "output_type": "stream",
     "text": [
      "Training_loss 1.30166,   Relative Error 0.80490\n",
      "Training_loss 1.29853,   Relative Error 0.80317\n",
      "Training_loss 1.29659,   Relative Error 0.80215\n"
     ]
    },
    {
     "name": "stderr",
     "output_type": "stream",
     "text": [
      " 59%|█████▉    | 591/1000 [00:47<00:27, 15.11it/s]"
     ]
    },
    {
     "name": "stdout",
     "output_type": "stream",
     "text": [
      "Training_loss 1.29267,   Relative Error 0.79989\n",
      "Training_loss 1.28938,   Relative Error 0.79813\n",
      "Training_loss 1.28571,   Relative Error 0.79615\n"
     ]
    },
    {
     "name": "stderr",
     "output_type": "stream",
     "text": [
      " 60%|█████▉    | 595/1000 [00:48<00:26, 15.26it/s]"
     ]
    },
    {
     "name": "stdout",
     "output_type": "stream",
     "text": [
      "Training_loss 1.28116,   Relative Error 0.79360\n",
      "Training_loss 1.27797,   Relative Error 0.79186\n",
      "Training_loss 1.27535,   Relative Error 0.79044\n",
      "Training_loss 1.27200,   Relative Error 0.78862\n"
     ]
    },
    {
     "name": "stderr",
     "output_type": "stream",
     "text": [
      " 60%|█████▉    | 599/1000 [00:48<00:25, 15.54it/s]"
     ]
    },
    {
     "name": "stdout",
     "output_type": "stream",
     "text": [
      "Training_loss 1.26594,   Relative Error 0.78524\n",
      "Training_loss 1.26211,   Relative Error 0.78322\n",
      "Training_loss 1.25911,   Relative Error 0.78159\n",
      "Training_loss 1.25652,   Relative Error 0.78013\n"
     ]
    },
    {
     "name": "stderr",
     "output_type": "stream",
     "text": [
      " 60%|██████    | 603/1000 [00:48<00:24, 16.05it/s]"
     ]
    },
    {
     "name": "stdout",
     "output_type": "stream",
     "text": [
      "Training_loss 1.25098,   Relative Error 0.77709\n",
      "Training_loss 1.24753,   Relative Error 0.77527\n",
      "Training_loss 1.24427,   Relative Error 0.77343\n",
      "Training_loss 1.23974,   Relative Error 0.77097\n"
     ]
    },
    {
     "name": "stderr",
     "output_type": "stream",
     "text": [
      " 61%|██████    | 607/1000 [00:48<00:23, 16.49it/s]"
     ]
    },
    {
     "name": "stdout",
     "output_type": "stream",
     "text": [
      "Training_loss 1.23584,   Relative Error 0.76886\n",
      "Training_loss 1.23026,   Relative Error 0.76571\n",
      "Training_loss 1.22711,   Relative Error 0.76399\n",
      "Training_loss 1.22414,   Relative Error 0.76235\n"
     ]
    },
    {
     "name": "stderr",
     "output_type": "stream",
     "text": [
      " 61%|██████    | 611/1000 [00:49<00:23, 16.86it/s]"
     ]
    },
    {
     "name": "stdout",
     "output_type": "stream",
     "text": [
      "Training_loss 1.22078,   Relative Error 0.76050\n",
      "Training_loss 1.21777,   Relative Error 0.75885\n",
      "Training_loss 1.21499,   Relative Error 0.75740\n",
      "Training_loss 1.21055,   Relative Error 0.75492\n"
     ]
    },
    {
     "name": "stderr",
     "output_type": "stream",
     "text": [
      "\r",
      " 61%|██████▏   | 613/1000 [00:49<00:24, 15.99it/s]"
     ]
    },
    {
     "name": "stdout",
     "output_type": "stream",
     "text": [
      "Training_loss 1.20630,   Relative Error 0.75252\n",
      "Training_loss 1.20361,   Relative Error 0.75106\n",
      "Training_loss 1.20086,   Relative Error 0.74957\n"
     ]
    },
    {
     "name": "stderr",
     "output_type": "stream",
     "text": [
      " 62%|██████▏   | 617/1000 [00:49<00:26, 14.69it/s]"
     ]
    },
    {
     "name": "stdout",
     "output_type": "stream",
     "text": [
      "Training_loss 1.19721,   Relative Error 0.74760\n",
      "Training_loss 1.19363,   Relative Error 0.74572\n",
      "Training_loss 1.18981,   Relative Error 0.74363\n",
      "Training_loss 1.18445,   Relative Error 0.74081\n"
     ]
    },
    {
     "name": "stderr",
     "output_type": "stream",
     "text": [
      " 62%|██████▏   | 621/1000 [00:49<00:24, 15.25it/s]"
     ]
    },
    {
     "name": "stdout",
     "output_type": "stream",
     "text": [
      "Training_loss 1.18135,   Relative Error 0.73913\n",
      "Training_loss 1.17868,   Relative Error 0.73765\n",
      "Training_loss 1.17577,   Relative Error 0.73609\n",
      "Training_loss 1.17255,   Relative Error 0.73436\n"
     ]
    },
    {
     "name": "stderr",
     "output_type": "stream",
     "text": [
      " 62%|██████▎   | 625/1000 [00:50<00:25, 14.82it/s]"
     ]
    },
    {
     "name": "stdout",
     "output_type": "stream",
     "text": [
      "Training_loss 1.17051,   Relative Error 0.73327\n",
      "Training_loss 1.16646,   Relative Error 0.73107\n",
      "Training_loss 1.16258,   Relative Error 0.72894\n"
     ]
    },
    {
     "name": "stderr",
     "output_type": "stream",
     "text": [
      " 63%|██████▎   | 629/1000 [00:50<00:23, 15.76it/s]"
     ]
    },
    {
     "name": "stdout",
     "output_type": "stream",
     "text": [
      "Training_loss 1.15830,   Relative Error 0.72670\n",
      "Training_loss 1.15430,   Relative Error 0.72461\n",
      "Training_loss 1.15068,   Relative Error 0.72261\n",
      "Training_loss 1.14706,   Relative Error 0.72067\n"
     ]
    },
    {
     "name": "stderr",
     "output_type": "stream",
     "text": [
      " 63%|██████▎   | 633/1000 [00:50<00:23, 15.76it/s]"
     ]
    },
    {
     "name": "stdout",
     "output_type": "stream",
     "text": [
      "Training_loss 1.14330,   Relative Error 0.71859\n",
      "Training_loss 1.13902,   Relative Error 0.71627\n",
      "Training_loss 1.13562,   Relative Error 0.71450\n",
      "Training_loss 1.13109,   Relative Error 0.71213\n"
     ]
    },
    {
     "name": "stderr",
     "output_type": "stream",
     "text": [
      "\r",
      " 64%|██████▎   | 635/1000 [00:50<00:24, 15.21it/s]"
     ]
    },
    {
     "name": "stdout",
     "output_type": "stream",
     "text": [
      "Training_loss 1.12707,   Relative Error 0.70996\n",
      "Training_loss 1.12249,   Relative Error 0.70757\n",
      "Training_loss 1.11767,   Relative Error 0.70497\n"
     ]
    },
    {
     "name": "stderr",
     "output_type": "stream",
     "text": [
      " 64%|██████▍   | 639/1000 [00:51<00:23, 15.52it/s]"
     ]
    },
    {
     "name": "stdout",
     "output_type": "stream",
     "text": [
      "Training_loss 1.11532,   Relative Error 0.70372\n",
      "Training_loss 1.10909,   Relative Error 0.70036\n",
      "Training_loss 1.10577,   Relative Error 0.69862\n",
      "Training_loss 1.10084,   Relative Error 0.69602\n"
     ]
    },
    {
     "name": "stderr",
     "output_type": "stream",
     "text": [
      " 64%|██████▍   | 643/1000 [00:51<00:22, 16.07it/s]"
     ]
    },
    {
     "name": "stdout",
     "output_type": "stream",
     "text": [
      "Training_loss 1.09728,   Relative Error 0.69406\n",
      "Training_loss 1.09513,   Relative Error 0.69288\n",
      "Training_loss 1.09043,   Relative Error 0.69033\n",
      "Training_loss 1.08808,   Relative Error 0.68906\n"
     ]
    },
    {
     "name": "stderr",
     "output_type": "stream",
     "text": [
      " 65%|██████▍   | 647/1000 [00:51<00:22, 15.90it/s]"
     ]
    },
    {
     "name": "stdout",
     "output_type": "stream",
     "text": [
      "Training_loss 1.08563,   Relative Error 0.68775\n",
      "Training_loss 1.08390,   Relative Error 0.68688\n",
      "Training_loss 1.07896,   Relative Error 0.68418\n",
      "Training_loss 1.07474,   Relative Error 0.68195\n"
     ]
    },
    {
     "name": "stderr",
     "output_type": "stream",
     "text": [
      " 65%|██████▌   | 651/1000 [00:51<00:21, 16.27it/s]"
     ]
    },
    {
     "name": "stdout",
     "output_type": "stream",
     "text": [
      "Training_loss 1.07046,   Relative Error 0.67970\n",
      "Training_loss 1.06703,   Relative Error 0.67778\n",
      "Training_loss 1.06474,   Relative Error 0.67661\n",
      "Training_loss 1.06145,   Relative Error 0.67498\n"
     ]
    },
    {
     "name": "stderr",
     "output_type": "stream",
     "text": [
      " 66%|██████▌   | 655/1000 [00:52<00:21, 15.95it/s]"
     ]
    },
    {
     "name": "stdout",
     "output_type": "stream",
     "text": [
      "Training_loss 1.05672,   Relative Error 0.67246\n",
      "Training_loss 1.05324,   Relative Error 0.67063\n",
      "Training_loss 1.05131,   Relative Error 0.66965\n"
     ]
    },
    {
     "name": "stderr",
     "output_type": "stream",
     "text": [
      " 66%|██████▌   | 659/1000 [00:52<00:22, 15.30it/s]"
     ]
    },
    {
     "name": "stdout",
     "output_type": "stream",
     "text": [
      "Training_loss 1.04687,   Relative Error 0.66733\n",
      "Training_loss 1.04211,   Relative Error 0.66482\n",
      "Training_loss 1.03954,   Relative Error 0.66344\n",
      "Training_loss 1.03545,   Relative Error 0.66131\n"
     ]
    },
    {
     "name": "stderr",
     "output_type": "stream",
     "text": [
      "\r",
      " 66%|██████▌   | 661/1000 [00:52<00:23, 14.57it/s]"
     ]
    },
    {
     "name": "stdout",
     "output_type": "stream",
     "text": [
      "Training_loss 1.03237,   Relative Error 0.65973\n",
      "Training_loss 1.02986,   Relative Error 0.65846\n",
      "Training_loss 1.02756,   Relative Error 0.65724\n"
     ]
    },
    {
     "name": "stderr",
     "output_type": "stream",
     "text": [
      " 66%|██████▋   | 665/1000 [00:52<00:23, 14.46it/s]"
     ]
    },
    {
     "name": "stdout",
     "output_type": "stream",
     "text": [
      "Training_loss 1.02483,   Relative Error 0.65582\n",
      "Training_loss 1.02204,   Relative Error 0.65434\n",
      "Training_loss 1.01818,   Relative Error 0.65234\n"
     ]
    },
    {
     "name": "stderr",
     "output_type": "stream",
     "text": [
      "\r",
      " 67%|██████▋   | 667/1000 [00:52<00:23, 13.99it/s]"
     ]
    },
    {
     "name": "stdout",
     "output_type": "stream",
     "text": [
      "Training_loss 1.01576,   Relative Error 0.65107\n",
      "Training_loss 1.01303,   Relative Error 0.64968\n",
      "Training_loss 1.00797,   Relative Error 0.64707\n"
     ]
    },
    {
     "name": "stderr",
     "output_type": "stream",
     "text": [
      " 67%|██████▋   | 671/1000 [00:53<00:24, 13.54it/s]"
     ]
    },
    {
     "name": "stdout",
     "output_type": "stream",
     "text": [
      "Training_loss 1.00641,   Relative Error 0.64625\n",
      "Training_loss 1.00263,   Relative Error 0.64430\n",
      "Training_loss 0.99892,   Relative Error 0.64236\n"
     ]
    },
    {
     "name": "stderr",
     "output_type": "stream",
     "text": [
      " 68%|██████▊   | 675/1000 [00:53<00:22, 14.46it/s]"
     ]
    },
    {
     "name": "stdout",
     "output_type": "stream",
     "text": [
      "Training_loss 0.99532,   Relative Error 0.64050\n",
      "Training_loss 0.99293,   Relative Error 0.63922\n",
      "Training_loss 0.99034,   Relative Error 0.63792\n",
      "Training_loss 0.98840,   Relative Error 0.63689\n"
     ]
    },
    {
     "name": "stderr",
     "output_type": "stream",
     "text": [
      " 68%|██████▊   | 679/1000 [00:53<00:20, 15.60it/s]"
     ]
    },
    {
     "name": "stdout",
     "output_type": "stream",
     "text": [
      "Training_loss 0.98614,   Relative Error 0.63570\n",
      "Training_loss 0.98324,   Relative Error 0.63414\n",
      "Training_loss 0.97980,   Relative Error 0.63227\n",
      "Training_loss 0.97714,   Relative Error 0.63090\n"
     ]
    },
    {
     "name": "stderr",
     "output_type": "stream",
     "text": [
      " 68%|██████▊   | 683/1000 [00:53<00:21, 14.95it/s]"
     ]
    },
    {
     "name": "stdout",
     "output_type": "stream",
     "text": [
      "Training_loss 0.97369,   Relative Error 0.62906\n",
      "Training_loss 0.96945,   Relative Error 0.62688\n",
      "Training_loss 0.96642,   Relative Error 0.62530\n",
      "Training_loss 0.96341,   Relative Error 0.62368\n"
     ]
    },
    {
     "name": "stderr",
     "output_type": "stream",
     "text": [
      " 69%|██████▊   | 687/1000 [00:54<00:20, 15.55it/s]"
     ]
    },
    {
     "name": "stdout",
     "output_type": "stream",
     "text": [
      "Training_loss 0.96098,   Relative Error 0.62242\n",
      "Training_loss 0.95749,   Relative Error 0.62061\n",
      "Training_loss 0.95378,   Relative Error 0.61871\n",
      "Training_loss 0.95090,   Relative Error 0.61726\n"
     ]
    },
    {
     "name": "stderr",
     "output_type": "stream",
     "text": [
      " 69%|██████▉   | 691/1000 [00:54<00:19, 15.86it/s]"
     ]
    },
    {
     "name": "stdout",
     "output_type": "stream",
     "text": [
      "Training_loss 0.94717,   Relative Error 0.61531\n",
      "Training_loss 0.94406,   Relative Error 0.61367\n",
      "Training_loss 0.94098,   Relative Error 0.61212\n",
      "Training_loss 0.93816,   Relative Error 0.61066\n"
     ]
    },
    {
     "name": "stderr",
     "output_type": "stream",
     "text": [
      " 70%|██████▉   | 695/1000 [00:54<00:19, 15.72it/s]"
     ]
    },
    {
     "name": "stdout",
     "output_type": "stream",
     "text": [
      "Training_loss 0.93514,   Relative Error 0.60912\n",
      "Training_loss 0.93296,   Relative Error 0.60800\n",
      "Training_loss 0.93034,   Relative Error 0.60665\n",
      "Training_loss 0.92837,   Relative Error 0.60568\n"
     ]
    },
    {
     "name": "stderr",
     "output_type": "stream",
     "text": [
      " 70%|██████▉   | 699/1000 [00:54<00:18, 15.93it/s]"
     ]
    },
    {
     "name": "stdout",
     "output_type": "stream",
     "text": [
      "Training_loss 0.92536,   Relative Error 0.60412\n",
      "Training_loss 0.92223,   Relative Error 0.60249\n",
      "Training_loss 0.92027,   Relative Error 0.60148\n",
      "Training_loss 0.91709,   Relative Error 0.59984\n"
     ]
    },
    {
     "name": "stderr",
     "output_type": "stream",
     "text": [
      " 70%|███████   | 703/1000 [00:55<00:18, 15.78it/s]"
     ]
    },
    {
     "name": "stdout",
     "output_type": "stream",
     "text": [
      "Training_loss 0.91380,   Relative Error 0.59816\n",
      "Training_loss 0.91228,   Relative Error 0.59738\n",
      "Training_loss 0.90944,   Relative Error 0.59588\n",
      "Training_loss 0.90730,   Relative Error 0.59480\n"
     ]
    },
    {
     "name": "stderr",
     "output_type": "stream",
     "text": [
      " 71%|███████   | 707/1000 [00:55<00:18, 15.70it/s]"
     ]
    },
    {
     "name": "stdout",
     "output_type": "stream",
     "text": [
      "Training_loss 0.90447,   Relative Error 0.59333\n",
      "Training_loss 0.90197,   Relative Error 0.59202\n",
      "Training_loss 0.89890,   Relative Error 0.59040\n",
      "Training_loss 0.89627,   Relative Error 0.58904\n"
     ]
    },
    {
     "name": "stderr",
     "output_type": "stream",
     "text": [
      " 71%|███████   | 711/1000 [00:55<00:18, 15.82it/s]"
     ]
    },
    {
     "name": "stdout",
     "output_type": "stream",
     "text": [
      "Training_loss 0.89380,   Relative Error 0.58777\n",
      "Training_loss 0.89155,   Relative Error 0.58658\n",
      "Training_loss 0.88913,   Relative Error 0.58534\n",
      "Training_loss 0.88509,   Relative Error 0.58322\n"
     ]
    },
    {
     "name": "stderr",
     "output_type": "stream",
     "text": [
      " 72%|███████▏  | 715/1000 [00:56<00:18, 15.30it/s]"
     ]
    },
    {
     "name": "stdout",
     "output_type": "stream",
     "text": [
      "Training_loss 0.88188,   Relative Error 0.58157\n",
      "Training_loss 0.87946,   Relative Error 0.58032\n",
      "Training_loss 0.87764,   Relative Error 0.57941\n",
      "Training_loss 0.87352,   Relative Error 0.57727\n"
     ]
    },
    {
     "name": "stderr",
     "output_type": "stream",
     "text": [
      " 72%|███████▏  | 719/1000 [00:56<00:17, 15.64it/s]"
     ]
    },
    {
     "name": "stdout",
     "output_type": "stream",
     "text": [
      "Training_loss 0.87027,   Relative Error 0.57557\n",
      "Training_loss 0.86733,   Relative Error 0.57407\n",
      "Training_loss 0.86562,   Relative Error 0.57316\n",
      "Training_loss 0.86211,   Relative Error 0.57133\n"
     ]
    },
    {
     "name": "stderr",
     "output_type": "stream",
     "text": [
      " 72%|███████▏  | 723/1000 [00:56<00:17, 15.81it/s]"
     ]
    },
    {
     "name": "stdout",
     "output_type": "stream",
     "text": [
      "Training_loss 0.85943,   Relative Error 0.56995\n",
      "Training_loss 0.85552,   Relative Error 0.56792\n",
      "Training_loss 0.85324,   Relative Error 0.56671\n",
      "Training_loss 0.85061,   Relative Error 0.56536\n"
     ]
    },
    {
     "name": "stderr",
     "output_type": "stream",
     "text": [
      "\r",
      " 72%|███████▎  | 725/1000 [00:56<00:17, 15.45it/s]"
     ]
    },
    {
     "name": "stdout",
     "output_type": "stream",
     "text": [
      "Training_loss 0.84827,   Relative Error 0.56417\n",
      "Training_loss 0.84650,   Relative Error 0.56323\n",
      "Training_loss 0.84323,   Relative Error 0.56154\n"
     ]
    },
    {
     "name": "stderr",
     "output_type": "stream",
     "text": [
      " 73%|███████▎  | 729/1000 [00:56<00:20, 13.22it/s]"
     ]
    },
    {
     "name": "stdout",
     "output_type": "stream",
     "text": [
      "Training_loss 0.84071,   Relative Error 0.56024\n",
      "Training_loss 0.83827,   Relative Error 0.55900\n",
      "Training_loss 0.83633,   Relative Error 0.55798\n"
     ]
    },
    {
     "name": "stderr",
     "output_type": "stream",
     "text": [
      "\r",
      " 73%|███████▎  | 731/1000 [00:57<00:20, 13.15it/s]"
     ]
    },
    {
     "name": "stdout",
     "output_type": "stream",
     "text": [
      "Training_loss 0.83277,   Relative Error 0.55615\n",
      "Training_loss 0.83143,   Relative Error 0.55547\n",
      "Training_loss 0.82935,   Relative Error 0.55441\n"
     ]
    },
    {
     "name": "stderr",
     "output_type": "stream",
     "text": [
      " 74%|███████▎  | 735/1000 [00:57<00:18, 14.01it/s]"
     ]
    },
    {
     "name": "stdout",
     "output_type": "stream",
     "text": [
      "Training_loss 0.82764,   Relative Error 0.55352\n",
      "Training_loss 0.82543,   Relative Error 0.55240\n",
      "Training_loss 0.82359,   Relative Error 0.55148\n",
      "Training_loss 0.81982,   Relative Error 0.54951\n"
     ]
    },
    {
     "name": "stderr",
     "output_type": "stream",
     "text": [
      " 74%|███████▍  | 739/1000 [00:57<00:17, 14.81it/s]"
     ]
    },
    {
     "name": "stdout",
     "output_type": "stream",
     "text": [
      "Training_loss 0.81731,   Relative Error 0.54825\n",
      "Training_loss 0.81478,   Relative Error 0.54692\n",
      "Training_loss 0.81084,   Relative Error 0.54493\n",
      "Training_loss 0.80744,   Relative Error 0.54317\n"
     ]
    },
    {
     "name": "stderr",
     "output_type": "stream",
     "text": [
      " 74%|███████▍  | 743/1000 [00:57<00:16, 15.22it/s]"
     ]
    },
    {
     "name": "stdout",
     "output_type": "stream",
     "text": [
      "Training_loss 0.80440,   Relative Error 0.54157\n",
      "Training_loss 0.80113,   Relative Error 0.53987\n",
      "Training_loss 0.79850,   Relative Error 0.53854\n",
      "Training_loss 0.79658,   Relative Error 0.53754\n"
     ]
    },
    {
     "name": "stderr",
     "output_type": "stream",
     "text": [
      " 75%|███████▍  | 747/1000 [00:58<00:17, 14.78it/s]"
     ]
    },
    {
     "name": "stdout",
     "output_type": "stream",
     "text": [
      "Training_loss 0.79543,   Relative Error 0.53698\n",
      "Training_loss 0.79342,   Relative Error 0.53594\n",
      "Training_loss 0.79187,   Relative Error 0.53516\n"
     ]
    },
    {
     "name": "stderr",
     "output_type": "stream",
     "text": [
      "\r",
      " 75%|███████▍  | 749/1000 [00:58<00:16, 14.79it/s]"
     ]
    },
    {
     "name": "stdout",
     "output_type": "stream",
     "text": [
      "Training_loss 0.78947,   Relative Error 0.53392\n",
      "Training_loss 0.78749,   Relative Error 0.53290\n",
      "Training_loss 0.78531,   Relative Error 0.53179\n"
     ]
    },
    {
     "name": "stderr",
     "output_type": "stream",
     "text": [
      " 75%|███████▌  | 753/1000 [00:58<00:16, 15.12it/s]"
     ]
    },
    {
     "name": "stdout",
     "output_type": "stream",
     "text": [
      "Training_loss 0.78262,   Relative Error 0.53044\n",
      "Training_loss 0.78053,   Relative Error 0.52936\n",
      "Training_loss 0.77812,   Relative Error 0.52812\n"
     ]
    },
    {
     "name": "stderr",
     "output_type": "stream",
     "text": [
      " 76%|███████▌  | 757/1000 [00:58<00:16, 14.51it/s]"
     ]
    },
    {
     "name": "stdout",
     "output_type": "stream",
     "text": [
      "Training_loss 0.77628,   Relative Error 0.52716\n",
      "Training_loss 0.77409,   Relative Error 0.52601\n",
      "Training_loss 0.77104,   Relative Error 0.52445\n",
      "Training_loss 0.76960,   Relative Error 0.52371\n"
     ]
    },
    {
     "name": "stderr",
     "output_type": "stream",
     "text": [
      " 76%|███████▌  | 761/1000 [00:59<00:16, 14.08it/s]"
     ]
    },
    {
     "name": "stdout",
     "output_type": "stream",
     "text": [
      "Training_loss 0.76819,   Relative Error 0.52300\n",
      "Training_loss 0.76468,   Relative Error 0.52119\n",
      "Training_loss 0.76239,   Relative Error 0.52002\n",
      "Training_loss 0.76034,   Relative Error 0.51894\n"
     ]
    },
    {
     "name": "stderr",
     "output_type": "stream",
     "text": [
      "\r",
      " 76%|███████▋  | 763/1000 [00:59<00:16, 14.23it/s]"
     ]
    },
    {
     "name": "stdout",
     "output_type": "stream",
     "text": [
      "Training_loss 0.75705,   Relative Error 0.51721\n",
      "Training_loss 0.75576,   Relative Error 0.51654\n",
      "Training_loss 0.75281,   Relative Error 0.51502\n"
     ]
    },
    {
     "name": "stderr",
     "output_type": "stream",
     "text": [
      " 77%|███████▋  | 767/1000 [00:59<00:16, 13.73it/s]"
     ]
    },
    {
     "name": "stdout",
     "output_type": "stream",
     "text": [
      "Training_loss 0.75063,   Relative Error 0.51390\n",
      "Training_loss 0.74834,   Relative Error 0.51272\n",
      "Training_loss 0.74605,   Relative Error 0.51154\n"
     ]
    },
    {
     "name": "stderr",
     "output_type": "stream",
     "text": [
      "\r",
      " 77%|███████▋  | 769/1000 [00:59<00:17, 13.26it/s]"
     ]
    },
    {
     "name": "stdout",
     "output_type": "stream",
     "text": [
      "Training_loss 0.74454,   Relative Error 0.51078\n",
      "Training_loss 0.74251,   Relative Error 0.50972\n",
      "Training_loss 0.73980,   Relative Error 0.50832\n"
     ]
    },
    {
     "name": "stderr",
     "output_type": "stream",
     "text": [
      "\r",
      " 77%|███████▋  | 771/1000 [00:59<00:17, 13.21it/s]"
     ]
    },
    {
     "name": "stdout",
     "output_type": "stream",
     "text": [
      "Training_loss 0.73822,   Relative Error 0.50750\n",
      "Training_loss 0.73480,   Relative Error 0.50572\n"
     ]
    },
    {
     "name": "stderr",
     "output_type": "stream",
     "text": [
      " 78%|███████▊  | 775/1000 [01:00<00:20, 11.07it/s]"
     ]
    },
    {
     "name": "stdout",
     "output_type": "stream",
     "text": [
      "Training_loss 0.73146,   Relative Error 0.50401\n",
      "Training_loss 0.72955,   Relative Error 0.50302\n",
      "Training_loss 0.72701,   Relative Error 0.50171\n"
     ]
    },
    {
     "name": "stderr",
     "output_type": "stream",
     "text": [
      "\r",
      " 78%|███████▊  | 777/1000 [01:00<00:19, 11.29it/s]"
     ]
    },
    {
     "name": "stdout",
     "output_type": "stream",
     "text": [
      "Training_loss 0.72465,   Relative Error 0.50049\n",
      "Training_loss 0.72210,   Relative Error 0.49914\n",
      "Training_loss 0.71860,   Relative Error 0.49738\n"
     ]
    },
    {
     "name": "stderr",
     "output_type": "stream",
     "text": [
      " 78%|███████▊  | 781/1000 [01:00<00:19, 11.42it/s]"
     ]
    },
    {
     "name": "stdout",
     "output_type": "stream",
     "text": [
      "Training_loss 0.71649,   Relative Error 0.49629\n",
      "Training_loss 0.71346,   Relative Error 0.49472\n",
      "Training_loss 0.71052,   Relative Error 0.49322\n"
     ]
    },
    {
     "name": "stderr",
     "output_type": "stream",
     "text": [
      "\r",
      " 78%|███████▊  | 783/1000 [01:01<00:18, 11.52it/s]"
     ]
    },
    {
     "name": "stdout",
     "output_type": "stream",
     "text": [
      "Training_loss 0.70833,   Relative Error 0.49209\n",
      "Training_loss 0.70717,   Relative Error 0.49150\n",
      "Training_loss 0.70549,   Relative Error 0.49065\n"
     ]
    },
    {
     "name": "stderr",
     "output_type": "stream",
     "text": [
      " 79%|███████▊  | 787/1000 [01:01<00:17, 11.85it/s]"
     ]
    },
    {
     "name": "stdout",
     "output_type": "stream",
     "text": [
      "Training_loss 0.70369,   Relative Error 0.48974\n",
      "Training_loss 0.70202,   Relative Error 0.48890\n",
      "Training_loss 0.70065,   Relative Error 0.48818\n"
     ]
    },
    {
     "name": "stderr",
     "output_type": "stream",
     "text": [
      "\r",
      " 79%|███████▉  | 789/1000 [01:01<00:17, 12.30it/s]"
     ]
    },
    {
     "name": "stdout",
     "output_type": "stream",
     "text": [
      "Training_loss 0.69798,   Relative Error 0.48680\n",
      "Training_loss 0.69596,   Relative Error 0.48577\n",
      "Training_loss 0.69428,   Relative Error 0.48491\n"
     ]
    },
    {
     "name": "stderr",
     "output_type": "stream",
     "text": [
      " 79%|███████▉  | 793/1000 [01:01<00:16, 12.35it/s]"
     ]
    },
    {
     "name": "stdout",
     "output_type": "stream",
     "text": [
      "Training_loss 0.69203,   Relative Error 0.48374\n",
      "Training_loss 0.68966,   Relative Error 0.48250\n",
      "Training_loss 0.68789,   Relative Error 0.48158\n"
     ]
    },
    {
     "name": "stderr",
     "output_type": "stream",
     "text": [
      " 80%|███████▉  | 797/1000 [01:02<00:14, 13.69it/s]"
     ]
    },
    {
     "name": "stdout",
     "output_type": "stream",
     "text": [
      "Training_loss 0.68586,   Relative Error 0.48056\n",
      "Training_loss 0.68390,   Relative Error 0.47954\n",
      "Training_loss 0.68106,   Relative Error 0.47809\n",
      "Training_loss 0.67891,   Relative Error 0.47700\n"
     ]
    },
    {
     "name": "stderr",
     "output_type": "stream",
     "text": [
      " 80%|████████  | 801/1000 [01:02<00:13, 14.43it/s]"
     ]
    },
    {
     "name": "stdout",
     "output_type": "stream",
     "text": [
      "Training_loss 0.67633,   Relative Error 0.47565\n",
      "Training_loss 0.67358,   Relative Error 0.47421\n",
      "Training_loss 0.67133,   Relative Error 0.47305\n",
      "Training_loss 0.66909,   Relative Error 0.47192\n"
     ]
    },
    {
     "name": "stderr",
     "output_type": "stream",
     "text": [
      " 80%|████████  | 805/1000 [01:02<00:13, 14.88it/s]"
     ]
    },
    {
     "name": "stdout",
     "output_type": "stream",
     "text": [
      "Training_loss 0.66581,   Relative Error 0.47021\n",
      "Training_loss 0.66350,   Relative Error 0.46905\n",
      "Training_loss 0.66115,   Relative Error 0.46782\n",
      "Training_loss 0.65910,   Relative Error 0.46677\n"
     ]
    },
    {
     "name": "stderr",
     "output_type": "stream",
     "text": [
      " 81%|████████  | 809/1000 [01:02<00:12, 15.38it/s]"
     ]
    },
    {
     "name": "stdout",
     "output_type": "stream",
     "text": [
      "Training_loss 0.65624,   Relative Error 0.46532\n",
      "Training_loss 0.65446,   Relative Error 0.46439\n",
      "Training_loss 0.65327,   Relative Error 0.46378\n",
      "Training_loss 0.65086,   Relative Error 0.46254\n"
     ]
    },
    {
     "name": "stderr",
     "output_type": "stream",
     "text": [
      " 81%|████████▏ | 813/1000 [01:03<00:11, 15.89it/s]"
     ]
    },
    {
     "name": "stdout",
     "output_type": "stream",
     "text": [
      "Training_loss 0.64835,   Relative Error 0.46122\n",
      "Training_loss 0.64683,   Relative Error 0.46042\n",
      "Training_loss 0.64472,   Relative Error 0.45935\n",
      "Training_loss 0.64347,   Relative Error 0.45869\n"
     ]
    },
    {
     "name": "stderr",
     "output_type": "stream",
     "text": [
      " 82%|████████▏ | 817/1000 [01:03<00:11, 16.45it/s]"
     ]
    },
    {
     "name": "stdout",
     "output_type": "stream",
     "text": [
      "Training_loss 0.64141,   Relative Error 0.45761\n",
      "Training_loss 0.63952,   Relative Error 0.45666\n",
      "Training_loss 0.63623,   Relative Error 0.45496\n",
      "Training_loss 0.63472,   Relative Error 0.45417\n"
     ]
    },
    {
     "name": "stderr",
     "output_type": "stream",
     "text": [
      " 82%|████████▏ | 821/1000 [01:03<00:10, 16.29it/s]"
     ]
    },
    {
     "name": "stdout",
     "output_type": "stream",
     "text": [
      "Training_loss 0.63312,   Relative Error 0.45335\n",
      "Training_loss 0.63204,   Relative Error 0.45276\n",
      "Training_loss 0.63106,   Relative Error 0.45225\n",
      "Training_loss 0.62892,   Relative Error 0.45114\n"
     ]
    },
    {
     "name": "stderr",
     "output_type": "stream",
     "text": [
      " 82%|████████▎ | 825/1000 [01:03<00:10, 17.09it/s]"
     ]
    },
    {
     "name": "stdout",
     "output_type": "stream",
     "text": [
      "Training_loss 0.62723,   Relative Error 0.45027\n",
      "Training_loss 0.62568,   Relative Error 0.44947\n",
      "Training_loss 0.62480,   Relative Error 0.44903\n",
      "Training_loss 0.62251,   Relative Error 0.44786\n"
     ]
    },
    {
     "name": "stderr",
     "output_type": "stream",
     "text": [
      " 83%|████████▎ | 829/1000 [01:04<00:10, 16.87it/s]"
     ]
    },
    {
     "name": "stdout",
     "output_type": "stream",
     "text": [
      "Training_loss 0.61982,   Relative Error 0.44645\n",
      "Training_loss 0.61839,   Relative Error 0.44571\n",
      "Training_loss 0.61653,   Relative Error 0.44476\n",
      "Training_loss 0.61379,   Relative Error 0.44334\n"
     ]
    },
    {
     "name": "stderr",
     "output_type": "stream",
     "text": [
      " 83%|████████▎ | 833/1000 [01:04<00:10, 16.47it/s]"
     ]
    },
    {
     "name": "stdout",
     "output_type": "stream",
     "text": [
      "Training_loss 0.61165,   Relative Error 0.44224\n",
      "Training_loss 0.60976,   Relative Error 0.44126\n",
      "Training_loss 0.60719,   Relative Error 0.43991\n",
      "Training_loss 0.60575,   Relative Error 0.43917\n"
     ]
    },
    {
     "name": "stderr",
     "output_type": "stream",
     "text": [
      " 84%|████████▎ | 837/1000 [01:04<00:09, 16.44it/s]"
     ]
    },
    {
     "name": "stdout",
     "output_type": "stream",
     "text": [
      "Training_loss 0.60415,   Relative Error 0.43835\n",
      "Training_loss 0.60189,   Relative Error 0.43719\n",
      "Training_loss 0.59948,   Relative Error 0.43594\n",
      "Training_loss 0.59722,   Relative Error 0.43479\n"
     ]
    },
    {
     "name": "stderr",
     "output_type": "stream",
     "text": [
      " 84%|████████▍ | 841/1000 [01:04<00:09, 16.52it/s]"
     ]
    },
    {
     "name": "stdout",
     "output_type": "stream",
     "text": [
      "Training_loss 0.59529,   Relative Error 0.43377\n",
      "Training_loss 0.59268,   Relative Error 0.43236\n",
      "Training_loss 0.59136,   Relative Error 0.43167\n",
      "Training_loss 0.58943,   Relative Error 0.43068\n"
     ]
    },
    {
     "name": "stderr",
     "output_type": "stream",
     "text": [
      " 84%|████████▍ | 845/1000 [01:05<00:09, 16.72it/s]"
     ]
    },
    {
     "name": "stdout",
     "output_type": "stream",
     "text": [
      "Training_loss 0.58811,   Relative Error 0.42997\n",
      "Training_loss 0.58567,   Relative Error 0.42870\n",
      "Training_loss 0.58421,   Relative Error 0.42792\n",
      "Training_loss 0.58217,   Relative Error 0.42686\n"
     ]
    },
    {
     "name": "stderr",
     "output_type": "stream",
     "text": [
      " 85%|████████▍ | 849/1000 [01:05<00:09, 16.72it/s]"
     ]
    },
    {
     "name": "stdout",
     "output_type": "stream",
     "text": [
      "Training_loss 0.58062,   Relative Error 0.42606\n",
      "Training_loss 0.57895,   Relative Error 0.42517\n",
      "Training_loss 0.57753,   Relative Error 0.42445\n",
      "Training_loss 0.57589,   Relative Error 0.42359\n"
     ]
    },
    {
     "name": "stderr",
     "output_type": "stream",
     "text": [
      " 85%|████████▌ | 853/1000 [01:05<00:08, 16.69it/s]"
     ]
    },
    {
     "name": "stdout",
     "output_type": "stream",
     "text": [
      "Training_loss 0.57419,   Relative Error 0.42269\n",
      "Training_loss 0.57267,   Relative Error 0.42188\n",
      "Training_loss 0.56980,   Relative Error 0.42039\n",
      "Training_loss 0.56817,   Relative Error 0.41954\n"
     ]
    },
    {
     "name": "stderr",
     "output_type": "stream",
     "text": [
      " 86%|████████▌ | 857/1000 [01:05<00:08, 16.39it/s]"
     ]
    },
    {
     "name": "stdout",
     "output_type": "stream",
     "text": [
      "Training_loss 0.56687,   Relative Error 0.41886\n",
      "Training_loss 0.56550,   Relative Error 0.41814\n",
      "Training_loss 0.56305,   Relative Error 0.41685\n",
      "Training_loss 0.56128,   Relative Error 0.41593\n"
     ]
    },
    {
     "name": "stderr",
     "output_type": "stream",
     "text": [
      " 86%|████████▌ | 861/1000 [01:05<00:08, 16.77it/s]"
     ]
    },
    {
     "name": "stdout",
     "output_type": "stream",
     "text": [
      "Training_loss 0.55978,   Relative Error 0.41514\n",
      "Training_loss 0.55753,   Relative Error 0.41398\n",
      "Training_loss 0.55534,   Relative Error 0.41282\n",
      "Training_loss 0.55391,   Relative Error 0.41207\n"
     ]
    },
    {
     "name": "stderr",
     "output_type": "stream",
     "text": [
      " 86%|████████▋ | 865/1000 [01:06<00:08, 16.82it/s]"
     ]
    },
    {
     "name": "stdout",
     "output_type": "stream",
     "text": [
      "Training_loss 0.55179,   Relative Error 0.41097\n",
      "Training_loss 0.54993,   Relative Error 0.40999\n",
      "Training_loss 0.54797,   Relative Error 0.40896\n",
      "Training_loss 0.54550,   Relative Error 0.40766\n"
     ]
    },
    {
     "name": "stderr",
     "output_type": "stream",
     "text": [
      " 87%|████████▋ | 869/1000 [01:06<00:07, 16.75it/s]"
     ]
    },
    {
     "name": "stdout",
     "output_type": "stream",
     "text": [
      "Training_loss 0.54416,   Relative Error 0.40696\n",
      "Training_loss 0.54257,   Relative Error 0.40613\n",
      "Training_loss 0.54160,   Relative Error 0.40563\n",
      "Training_loss 0.53987,   Relative Error 0.40471\n"
     ]
    },
    {
     "name": "stderr",
     "output_type": "stream",
     "text": [
      " 87%|████████▋ | 873/1000 [01:06<00:07, 16.54it/s]"
     ]
    },
    {
     "name": "stdout",
     "output_type": "stream",
     "text": [
      "Training_loss 0.53798,   Relative Error 0.40372\n",
      "Training_loss 0.53574,   Relative Error 0.40255\n",
      "Training_loss 0.53401,   Relative Error 0.40165\n",
      "Training_loss 0.53213,   Relative Error 0.40066\n"
     ]
    },
    {
     "name": "stderr",
     "output_type": "stream",
     "text": [
      " 88%|████████▊ | 877/1000 [01:06<00:07, 16.08it/s]"
     ]
    },
    {
     "name": "stdout",
     "output_type": "stream",
     "text": [
      "Training_loss 0.53124,   Relative Error 0.40019\n",
      "Training_loss 0.52894,   Relative Error 0.39900\n",
      "Training_loss 0.52727,   Relative Error 0.39812\n",
      "Training_loss 0.52562,   Relative Error 0.39726\n"
     ]
    },
    {
     "name": "stderr",
     "output_type": "stream",
     "text": [
      " 88%|████████▊ | 881/1000 [01:07<00:07, 15.93it/s]"
     ]
    },
    {
     "name": "stdout",
     "output_type": "stream",
     "text": [
      "Training_loss 0.52327,   Relative Error 0.39604\n",
      "Training_loss 0.52158,   Relative Error 0.39517\n",
      "Training_loss 0.51930,   Relative Error 0.39396\n",
      "Training_loss 0.51811,   Relative Error 0.39335\n"
     ]
    },
    {
     "name": "stderr",
     "output_type": "stream",
     "text": [
      " 88%|████████▊ | 885/1000 [01:07<00:06, 16.51it/s]"
     ]
    },
    {
     "name": "stdout",
     "output_type": "stream",
     "text": [
      "Training_loss 0.51666,   Relative Error 0.39260\n",
      "Training_loss 0.51460,   Relative Error 0.39151\n",
      "Training_loss 0.51259,   Relative Error 0.39046\n",
      "Training_loss 0.51104,   Relative Error 0.38965\n"
     ]
    },
    {
     "name": "stderr",
     "output_type": "stream",
     "text": [
      " 89%|████████▉ | 889/1000 [01:07<00:06, 16.22it/s]"
     ]
    },
    {
     "name": "stdout",
     "output_type": "stream",
     "text": [
      "Training_loss 0.50824,   Relative Error 0.38817\n",
      "Training_loss 0.50602,   Relative Error 0.38700\n",
      "Training_loss 0.50436,   Relative Error 0.38612\n",
      "Training_loss 0.50307,   Relative Error 0.38544\n"
     ]
    },
    {
     "name": "stderr",
     "output_type": "stream",
     "text": [
      " 89%|████████▉ | 893/1000 [01:07<00:06, 16.78it/s]"
     ]
    },
    {
     "name": "stdout",
     "output_type": "stream",
     "text": [
      "Training_loss 0.50145,   Relative Error 0.38457\n",
      "Training_loss 0.49978,   Relative Error 0.38369\n",
      "Training_loss 0.49870,   Relative Error 0.38312\n",
      "Training_loss 0.49747,   Relative Error 0.38246\n"
     ]
    },
    {
     "name": "stderr",
     "output_type": "stream",
     "text": [
      " 90%|████████▉ | 897/1000 [01:08<00:05, 17.48it/s]"
     ]
    },
    {
     "name": "stdout",
     "output_type": "stream",
     "text": [
      "Training_loss 0.49596,   Relative Error 0.38167\n",
      "Training_loss 0.49376,   Relative Error 0.38051\n",
      "Training_loss 0.49268,   Relative Error 0.37993\n",
      "Training_loss 0.49137,   Relative Error 0.37924\n"
     ]
    },
    {
     "name": "stderr",
     "output_type": "stream",
     "text": [
      "\r",
      " 90%|████████▉ | 899/1000 [01:08<00:06, 15.95it/s]"
     ]
    },
    {
     "name": "stdout",
     "output_type": "stream",
     "text": [
      "Training_loss 0.48943,   Relative Error 0.37820\n",
      "Training_loss 0.48843,   Relative Error 0.37768\n",
      "Training_loss 0.48681,   Relative Error 0.37682\n"
     ]
    },
    {
     "name": "stderr",
     "output_type": "stream",
     "text": [
      " 90%|█████████ | 903/1000 [01:08<00:06, 14.87it/s]"
     ]
    },
    {
     "name": "stdout",
     "output_type": "stream",
     "text": [
      "Training_loss 0.48532,   Relative Error 0.37603\n",
      "Training_loss 0.48427,   Relative Error 0.37547\n",
      "Training_loss 0.48309,   Relative Error 0.37483\n"
     ]
    },
    {
     "name": "stderr",
     "output_type": "stream",
     "text": [
      "\r",
      " 90%|█████████ | 905/1000 [01:08<00:06, 14.21it/s]"
     ]
    },
    {
     "name": "stdout",
     "output_type": "stream",
     "text": [
      "Training_loss 0.48214,   Relative Error 0.37433\n",
      "Training_loss 0.48093,   Relative Error 0.37369\n",
      "Training_loss 0.47922,   Relative Error 0.37280\n"
     ]
    },
    {
     "name": "stderr",
     "output_type": "stream",
     "text": [
      " 91%|█████████ | 909/1000 [01:09<00:06, 13.81it/s]"
     ]
    },
    {
     "name": "stdout",
     "output_type": "stream",
     "text": [
      "Training_loss 0.47828,   Relative Error 0.37229\n",
      "Training_loss 0.47728,   Relative Error 0.37177\n",
      "Training_loss 0.47574,   Relative Error 0.37096\n"
     ]
    },
    {
     "name": "stderr",
     "output_type": "stream",
     "text": [
      "\r",
      " 91%|█████████ | 911/1000 [01:09<00:06, 13.67it/s]"
     ]
    },
    {
     "name": "stdout",
     "output_type": "stream",
     "text": [
      "Training_loss 0.47440,   Relative Error 0.37025\n",
      "Training_loss 0.47256,   Relative Error 0.36927\n",
      "Training_loss 0.47112,   Relative Error 0.36849\n"
     ]
    },
    {
     "name": "stderr",
     "output_type": "stream",
     "text": [
      " 92%|█████████▏| 915/1000 [01:09<00:05, 14.25it/s]"
     ]
    },
    {
     "name": "stdout",
     "output_type": "stream",
     "text": [
      "Training_loss 0.47006,   Relative Error 0.36793\n",
      "Training_loss 0.46842,   Relative Error 0.36705\n",
      "Training_loss 0.46690,   Relative Error 0.36625\n",
      "Training_loss 0.46472,   Relative Error 0.36509\n"
     ]
    },
    {
     "name": "stderr",
     "output_type": "stream",
     "text": [
      " 92%|█████████▏| 919/1000 [01:09<00:05, 14.98it/s]"
     ]
    },
    {
     "name": "stdout",
     "output_type": "stream",
     "text": [
      "Training_loss 0.46305,   Relative Error 0.36419\n",
      "Training_loss 0.46205,   Relative Error 0.36365\n",
      "Training_loss 0.46068,   Relative Error 0.36291\n",
      "Training_loss 0.45919,   Relative Error 0.36214\n"
     ]
    },
    {
     "name": "stderr",
     "output_type": "stream",
     "text": [
      " 92%|█████████▏| 923/1000 [01:09<00:04, 15.90it/s]"
     ]
    },
    {
     "name": "stdout",
     "output_type": "stream",
     "text": [
      "Training_loss 0.45677,   Relative Error 0.36086\n",
      "Training_loss 0.45546,   Relative Error 0.36014\n",
      "Training_loss 0.45366,   Relative Error 0.35920\n",
      "Training_loss 0.45223,   Relative Error 0.35844\n"
     ]
    },
    {
     "name": "stderr",
     "output_type": "stream",
     "text": [
      " 93%|█████████▎| 927/1000 [01:10<00:04, 16.18it/s]"
     ]
    },
    {
     "name": "stdout",
     "output_type": "stream",
     "text": [
      "Training_loss 0.45102,   Relative Error 0.35779\n",
      "Training_loss 0.44907,   Relative Error 0.35673\n",
      "Training_loss 0.44780,   Relative Error 0.35605\n",
      "Training_loss 0.44640,   Relative Error 0.35531\n"
     ]
    },
    {
     "name": "stderr",
     "output_type": "stream",
     "text": [
      " 93%|█████████▎| 931/1000 [01:10<00:04, 16.93it/s]"
     ]
    },
    {
     "name": "stdout",
     "output_type": "stream",
     "text": [
      "Training_loss 0.44521,   Relative Error 0.35467\n",
      "Training_loss 0.44403,   Relative Error 0.35404\n",
      "Training_loss 0.44234,   Relative Error 0.35314\n",
      "Training_loss 0.44040,   Relative Error 0.35210\n"
     ]
    },
    {
     "name": "stderr",
     "output_type": "stream",
     "text": [
      " 94%|█████████▎| 935/1000 [01:10<00:04, 15.88it/s]"
     ]
    },
    {
     "name": "stdout",
     "output_type": "stream",
     "text": [
      "Training_loss 0.43957,   Relative Error 0.35166\n",
      "Training_loss 0.43742,   Relative Error 0.35050\n",
      "Training_loss 0.43571,   Relative Error 0.34959\n",
      "Training_loss 0.43439,   Relative Error 0.34889\n"
     ]
    },
    {
     "name": "stderr",
     "output_type": "stream",
     "text": [
      " 94%|█████████▍| 939/1000 [01:10<00:03, 16.57it/s]"
     ]
    },
    {
     "name": "stdout",
     "output_type": "stream",
     "text": [
      "Training_loss 0.43357,   Relative Error 0.34844\n",
      "Training_loss 0.43173,   Relative Error 0.34744\n",
      "Training_loss 0.43050,   Relative Error 0.34676\n",
      "Training_loss 0.42942,   Relative Error 0.34618\n"
     ]
    },
    {
     "name": "stderr",
     "output_type": "stream",
     "text": [
      " 94%|█████████▍| 943/1000 [01:11<00:03, 16.54it/s]"
     ]
    },
    {
     "name": "stdout",
     "output_type": "stream",
     "text": [
      "Training_loss 0.42865,   Relative Error 0.34576\n",
      "Training_loss 0.42709,   Relative Error 0.34493\n",
      "Training_loss 0.42591,   Relative Error 0.34429\n"
     ]
    },
    {
     "name": "stderr",
     "output_type": "stream",
     "text": [
      " 95%|█████████▍| 947/1000 [01:11<00:03, 16.07it/s]"
     ]
    },
    {
     "name": "stdout",
     "output_type": "stream",
     "text": [
      "Training_loss 0.42456,   Relative Error 0.34356\n",
      "Training_loss 0.42279,   Relative Error 0.34260\n",
      "Training_loss 0.42124,   Relative Error 0.34176\n",
      "Training_loss 0.42026,   Relative Error 0.34122\n"
     ]
    },
    {
     "name": "stderr",
     "output_type": "stream",
     "text": [
      " 95%|█████████▌| 951/1000 [01:11<00:02, 16.79it/s]"
     ]
    },
    {
     "name": "stdout",
     "output_type": "stream",
     "text": [
      "Training_loss 0.41869,   Relative Error 0.34036\n",
      "Training_loss 0.41658,   Relative Error 0.33922\n",
      "Training_loss 0.41540,   Relative Error 0.33859\n",
      "Training_loss 0.41416,   Relative Error 0.33791\n"
     ]
    },
    {
     "name": "stderr",
     "output_type": "stream",
     "text": [
      " 96%|█████████▌| 955/1000 [01:11<00:02, 16.61it/s]"
     ]
    },
    {
     "name": "stdout",
     "output_type": "stream",
     "text": [
      "Training_loss 0.41343,   Relative Error 0.33752\n",
      "Training_loss 0.41205,   Relative Error 0.33676\n",
      "Training_loss 0.41114,   Relative Error 0.33627\n",
      "Training_loss 0.41039,   Relative Error 0.33586\n"
     ]
    },
    {
     "name": "stderr",
     "output_type": "stream",
     "text": [
      " 96%|█████████▌| 959/1000 [01:12<00:02, 16.37it/s]"
     ]
    },
    {
     "name": "stdout",
     "output_type": "stream",
     "text": [
      "Training_loss 0.40896,   Relative Error 0.33508\n",
      "Training_loss 0.40713,   Relative Error 0.33406\n",
      "Training_loss 0.40583,   Relative Error 0.33335\n",
      "Training_loss 0.40404,   Relative Error 0.33238\n"
     ]
    },
    {
     "name": "stderr",
     "output_type": "stream",
     "text": [
      " 96%|█████████▋| 963/1000 [01:12<00:02, 16.84it/s]"
     ]
    },
    {
     "name": "stdout",
     "output_type": "stream",
     "text": [
      "Training_loss 0.40234,   Relative Error 0.33145\n",
      "Training_loss 0.40091,   Relative Error 0.33067\n",
      "Training_loss 0.39958,   Relative Error 0.32996\n",
      "Training_loss 0.39842,   Relative Error 0.32933\n"
     ]
    },
    {
     "name": "stderr",
     "output_type": "stream",
     "text": [
      " 97%|█████████▋| 967/1000 [01:12<00:02, 16.37it/s]"
     ]
    },
    {
     "name": "stdout",
     "output_type": "stream",
     "text": [
      "Training_loss 0.39683,   Relative Error 0.32847\n",
      "Training_loss 0.39531,   Relative Error 0.32764\n",
      "Training_loss 0.39421,   Relative Error 0.32703\n",
      "Training_loss 0.39282,   Relative Error 0.32626\n"
     ]
    },
    {
     "name": "stderr",
     "output_type": "stream",
     "text": [
      " 97%|█████████▋| 971/1000 [01:12<00:01, 16.33it/s]"
     ]
    },
    {
     "name": "stdout",
     "output_type": "stream",
     "text": [
      "Training_loss 0.39156,   Relative Error 0.32557\n",
      "Training_loss 0.39047,   Relative Error 0.32497\n",
      "Training_loss 0.38888,   Relative Error 0.32409\n",
      "Training_loss 0.38725,   Relative Error 0.32319\n"
     ]
    },
    {
     "name": "stderr",
     "output_type": "stream",
     "text": [
      " 98%|█████████▊| 975/1000 [01:13<00:01, 16.57it/s]"
     ]
    },
    {
     "name": "stdout",
     "output_type": "stream",
     "text": [
      "Training_loss 0.38529,   Relative Error 0.32211\n",
      "Training_loss 0.38366,   Relative Error 0.32122\n",
      "Training_loss 0.38253,   Relative Error 0.32061\n",
      "Training_loss 0.38136,   Relative Error 0.31999\n"
     ]
    },
    {
     "name": "stderr",
     "output_type": "stream",
     "text": [
      " 98%|█████████▊| 979/1000 [01:13<00:01, 17.00it/s]"
     ]
    },
    {
     "name": "stdout",
     "output_type": "stream",
     "text": [
      "Training_loss 0.38020,   Relative Error 0.31935\n",
      "Training_loss 0.37941,   Relative Error 0.31892\n",
      "Training_loss 0.37823,   Relative Error 0.31825\n",
      "Training_loss 0.37672,   Relative Error 0.31743\n"
     ]
    },
    {
     "name": "stderr",
     "output_type": "stream",
     "text": [
      " 98%|█████████▊| 983/1000 [01:13<00:00, 17.08it/s]"
     ]
    },
    {
     "name": "stdout",
     "output_type": "stream",
     "text": [
      "Training_loss 0.37541,   Relative Error 0.31670\n",
      "Training_loss 0.37407,   Relative Error 0.31596\n",
      "Training_loss 0.37218,   Relative Error 0.31491\n",
      "Training_loss 0.37108,   Relative Error 0.31430\n"
     ]
    },
    {
     "name": "stderr",
     "output_type": "stream",
     "text": [
      " 99%|█████████▊| 987/1000 [01:13<00:00, 17.04it/s]"
     ]
    },
    {
     "name": "stdout",
     "output_type": "stream",
     "text": [
      "Training_loss 0.36952,   Relative Error 0.31344\n",
      "Training_loss 0.36829,   Relative Error 0.31275\n",
      "Training_loss 0.36691,   Relative Error 0.31199\n",
      "Training_loss 0.36589,   Relative Error 0.31144\n"
     ]
    },
    {
     "name": "stderr",
     "output_type": "stream",
     "text": [
      " 99%|█████████▉| 991/1000 [01:14<00:00, 16.63it/s]"
     ]
    },
    {
     "name": "stdout",
     "output_type": "stream",
     "text": [
      "Training_loss 0.36506,   Relative Error 0.31098\n",
      "Training_loss 0.36411,   Relative Error 0.31046\n",
      "Training_loss 0.36304,   Relative Error 0.30986\n",
      "Training_loss 0.36185,   Relative Error 0.30920\n"
     ]
    },
    {
     "name": "stderr",
     "output_type": "stream",
     "text": [
      "100%|█████████▉| 995/1000 [01:14<00:00, 17.05it/s]"
     ]
    },
    {
     "name": "stdout",
     "output_type": "stream",
     "text": [
      "Training_loss 0.36029,   Relative Error 0.30832\n",
      "Training_loss 0.35916,   Relative Error 0.30768\n",
      "Training_loss 0.35870,   Relative Error 0.30743\n",
      "Training_loss 0.35815,   Relative Error 0.30712\n"
     ]
    },
    {
     "name": "stderr",
     "output_type": "stream",
     "text": [
      "100%|█████████▉| 999/1000 [01:14<00:00, 16.71it/s]"
     ]
    },
    {
     "name": "stdout",
     "output_type": "stream",
     "text": [
      "Training_loss 0.35670,   Relative Error 0.30632\n",
      "Training_loss 0.35610,   Relative Error 0.30598\n",
      "Training_loss 0.35417,   Relative Error 0.30491\n",
      "Training_loss 0.35301,   Relative Error 0.30426\n"
     ]
    },
    {
     "name": "stderr",
     "output_type": "stream",
     "text": [
      "\r",
      "100%|██████████| 1000/1000 [01:14<00:00, 13.41it/s]"
     ]
    },
    {
     "name": "stdout",
     "output_type": "stream",
     "text": [
      "Training_loss 0.35247,   Relative Error 0.30396\n"
     ]
    },
    {
     "name": "stderr",
     "output_type": "stream",
     "text": [
      "\n"
     ]
    }
   ],
   "source": [
    "#global_model = CNN_Net().cuda()\n",
    "models = [MLP_Net(user_id=i) for i in range(no_users)]\n",
    "dummy_models = [MLP_Net(user_id=i) for i in range(no_users)]\n",
    "\n",
    "#model.load_state_dict(global_model.state_dict())\n",
    "\n",
    "criterion = nn.MSELoss()\n",
    "\n",
    "\n",
    "train_loss = []\n",
    "test_loss = []\n",
    "test_accuracy = []\n",
    "\n",
    "\n",
    "for curr_round in tqdm(range(1, it+1)):\n",
    "    w, local_loss = [], []\n",
    "\n",
    "    \n",
    "    for i in range(no_users):\n",
    "        dummy_models[i].load_state_dict(models[i].state_dict())\n",
    "        local_update = ClientUpdate(dataset=datapoints[i], batchSize=batch_size, alpha=alpha, lamda=lamda, epochs=1, projection_list=projection_list, projected_weights=projected_weights)\n",
    "        weights, loss = local_update.train(dummy_models[i])\n",
    "        w.append(weights)\n",
    "        local_loss.append(loss)\n",
    "        models[i].load_state_dict(w[i])\n",
    "        \n",
    "    \n",
    "    \n",
    "    # Update prjection matrix\n",
    "    \n",
    "    #print(projection_list[0], projected_weights[0])\n",
    "    \n",
    "    for i in range(no_users):\n",
    "        weights = parameters_to_vector(models[i].parameters())\n",
    "        for j in G.neighbors(i):\n",
    "            mat_vec_sum = torch.zeros_like(weights)\n",
    "            for k in G.neighbors(i):\n",
    "                mat_vec_sum = torch.add(mat_vec_sum, projected_weights[k][i] - projected_weights[i][k])\n",
    "            #print(torch.outer(mat_vec_sum, weights))\n",
    "\n",
    "            projection_list[i][j] = torch.add(projection_list[i][j], -1 * eta * lamda * mat_vec_sum)\n",
    "                                         \n",
    "    projected_weights = []                                          \n",
    "    update_ProjWeight(projection_list, projected_weights, first_run=False)\n",
    "        \n",
    "        \n",
    "        \n",
    "    \n",
    "    \n",
    "\n",
    "\n",
    "\n",
    "\n",
    "          \n",
    "            \n",
    "\n",
    "    local_test_acc = []\n",
    "    local_test_loss = []\n",
    "    total_rel_error = []\n",
    "    user_rel_error = 0\n",
    "    for k in range(no_users):\n",
    "      \n",
    "        g_loss = testing(models[i], datapoints[i], 50, criterion)\n",
    "        local_test_loss.append(g_loss)\n",
    "        user_rel_error += rel_error(models[i])\n",
    "    \n",
    "    \n",
    "        \n",
    "\n",
    "    g_loss = sum(local_test_loss) / len(local_test_loss)\n",
    "    total_rel_error.append(user_rel_error / no_users)\n",
    "    \n",
    "    \n",
    "\n",
    "    test_loss.append(g_loss)\n",
    "    #test_accuracy.append(g_accuracy)\n",
    "    print(\"Training_loss %2.5f,   Relative Error %2.5f\"% (test_loss[-1], total_rel_error[-1]))"
   ]
  },
  {
   "cell_type": "code",
   "execution_count": 20,
   "id": "2ff0ff71",
   "metadata": {},
   "outputs": [
    {
     "data": {
      "text/plain": [
       "tensor([-1.6075,  1.4674], grad_fn=<CatBackward0>)"
      ]
     },
     "execution_count": 20,
     "metadata": {},
     "output_type": "execute_result"
    }
   ],
   "source": [
    "#plot.plot(test_loss)\n",
    "parameters_to_vector(models[19].parameters())"
   ]
  },
  {
   "cell_type": "code",
   "execution_count": 21,
   "id": "194e9ea4",
   "metadata": {},
   "outputs": [
    {
     "name": "stdout",
     "output_type": "stream",
     "text": [
      "3\n",
      "4\n",
      "6\n",
      "7\n"
     ]
    }
   ],
   "source": [
    "for j in G.neighbors(0):\n",
    "    print(j)"
   ]
  },
  {
   "cell_type": "code",
   "execution_count": 22,
   "id": "bbcca8ca",
   "metadata": {},
   "outputs": [
    {
     "data": {
      "text/plain": [
       "tensor([1.6508, 1.7437], grad_fn=<CatBackward0>)"
      ]
     },
     "execution_count": 22,
     "metadata": {},
     "output_type": "execute_result"
    }
   ],
   "source": [
    "parameters_to_vector(models[0].parameters())"
   ]
  },
  {
   "cell_type": "code",
   "execution_count": 23,
   "id": "bf702d86",
   "metadata": {},
   "outputs": [
    {
     "data": {
      "text/plain": [
       "[0,\n",
       " 0,\n",
       " 0,\n",
       " tensor([[-0.1177,  0.0020],\n",
       "         [ 0.0027, -0.1184]]),\n",
       " tensor([[2.4594e+00, 1.9614e-03],\n",
       "         [2.7227e-03, 2.4586e+00]]),\n",
       " 0,\n",
       " tensor([[1.6244, 0.0020],\n",
       "         [0.0027, 1.6236]]),\n",
       " tensor([[-0.5110,  0.0020],\n",
       "         [ 0.0027, -0.5118]]),\n",
       " 0,\n",
       " 0,\n",
       " 0,\n",
       " 0,\n",
       " 0,\n",
       " 0,\n",
       " 0,\n",
       " 0,\n",
       " 0,\n",
       " 0,\n",
       " 0,\n",
       " 0]"
      ]
     },
     "execution_count": 23,
     "metadata": {},
     "output_type": "execute_result"
    }
   ],
   "source": [
    "projection_list[0]"
   ]
  },
  {
   "cell_type": "code",
   "execution_count": 24,
   "id": "a73e6699",
   "metadata": {},
   "outputs": [
    {
     "data": {
      "text/plain": [
       "[0,\n",
       " 0,\n",
       " 0,\n",
       " tensor([3.7269, 3.7729]),\n",
       " tensor([1.6052, 1.6399]),\n",
       " 0,\n",
       " tensor([1.5965, 1.4719]),\n",
       " tensor([2.2503, 2.1960]),\n",
       " 0,\n",
       " 0,\n",
       " 0,\n",
       " 0,\n",
       " 0,\n",
       " 0,\n",
       " 0,\n",
       " 0,\n",
       " 0,\n",
       " 0,\n",
       " 0,\n",
       " 0]"
      ]
     },
     "execution_count": 24,
     "metadata": {},
     "output_type": "execute_result"
    }
   ],
   "source": [
    "projected_weights[0]"
   ]
  },
  {
   "cell_type": "code",
   "execution_count": 25,
   "id": "2561d143",
   "metadata": {},
   "outputs": [],
   "source": [
    "test_loss = np.asarray(test_loss)\n",
    "total_rel_error = np.asarray(total_rel_error)"
   ]
  },
  {
   "cell_type": "code",
   "execution_count": 26,
   "id": "d61db64c",
   "metadata": {},
   "outputs": [],
   "source": [
    "np.save( 'training_loss_sheave_fml', test_loss)\n",
    "np.save('relative_error_sheave_fml', total_rel_error)"
   ]
  },
  {
   "cell_type": "code",
   "execution_count": null,
   "id": "725be3f4",
   "metadata": {},
   "outputs": [],
   "source": []
  }
 ],
 "metadata": {
  "kernelspec": {
   "display_name": "Python 3",
   "language": "python",
   "name": "python3"
  },
  "language_info": {
   "codemirror_mode": {
    "name": "ipython",
    "version": 3
   },
   "file_extension": ".py",
   "mimetype": "text/x-python",
   "name": "python",
   "nbconvert_exporter": "python",
   "pygments_lexer": "ipython3",
   "version": "3.8.8"
  }
 },
 "nbformat": 4,
 "nbformat_minor": 5
}
