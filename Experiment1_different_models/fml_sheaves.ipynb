{
 "cells": [
  {
   "cell_type": "code",
   "execution_count": 1,
   "id": "74d5d395",
   "metadata": {},
   "outputs": [],
   "source": [
    "import torch\n",
    "import torch.nn as nn\n",
    "import torch.nn.functional as F\n",
    "import torch.optim as optim\n",
    "from torchvision import datasets, transforms\n",
    "from torch.utils.data import DataLoader, Dataset\n",
    "import copy\n",
    "import numpy as np\n",
    "import matplotlib.pyplot as plt\n",
    "from tqdm import tqdm\n",
    "import networkx as nx\n",
    "from torch.nn.utils import parameters_to_vector, vector_to_parameters"
   ]
  },
  {
   "cell_type": "code",
   "execution_count": 2,
   "id": "7617ffd7",
   "metadata": {},
   "outputs": [],
   "source": [
    "# Graph implementation\n",
    "def generate_graph(cluster_sizes=[100,100], pin=0.5, pout=0.01, seed=0):\n",
    "    \"\"\"Generate a random connected graph\"\"\"\n",
    "    probs = np.array([[pin, pout, pout, pout],[pout, pin, pout, pout],[pout, pout, pin, pout],[pout, pout, pout, pin]])\n",
    "    while True:\n",
    "        g = nx.stochastic_block_model(cluster_sizes, probs, seed=0)\n",
    "        if nx.algorithms.components.is_connected(g):\n",
    "            return g\n",
    "\n",
    "\n",
    "cluster_sizes = [10, 10, 10, 10]\n",
    "features_sizes = [8, 7, 6, 5]\n",
    "pin = 0.5\n",
    "pout = 0.1\n",
    "seed = 0\n",
    "alpha = 1e-2\n",
    "lamda = 0#1e-3#1e-3\n",
    "eta = 1e-2\n",
    "d0 = min(features_sizes)\n",
    "no_users = sum(cluster_sizes)\n",
    "batch_size = 4\n",
    "epochs = 1\n",
    "it = 2000\n",
    "G = generate_graph(cluster_sizes, pin, pout, seed)\n",
    "\n",
    "# Set a random seed for reproducibility\n",
    "seed = 17\n",
    "torch.manual_seed(seed)\n",
    "torch.backends.cudnn.deterministic = True\n",
    "torch.backends.cudnn.benchmark = False\n",
    "np.random.seed(seed)\n",
    "#nx.draw(G, with_labels=True, node_size=100, alpha=1, linewidths=10)\n",
    "#plt.show()"
   ]
  },
  {
   "cell_type": "code",
   "execution_count": 3,
   "id": "809e7c6f",
   "metadata": {},
   "outputs": [
    {
     "name": "stdout",
     "output_type": "stream",
     "text": [
      "[[0.         0.         0.         ... 0.09090909 0.         0.        ]\n",
      " [0.         0.         0.         ... 0.         0.         0.        ]\n",
      " [0.         0.         0.         ... 0.         0.         0.1       ]\n",
      " ...\n",
      " [0.09090909 0.         0.         ... 0.         0.         0.        ]\n",
      " [0.         0.         0.         ... 0.         0.         0.        ]\n",
      " [0.         0.         0.1        ... 0.         0.         0.        ]]\n",
      "[[0.40353535 0.         0.         ... 0.09090909 0.         0.        ]\n",
      " [0.         0.53216783 0.         ... 0.         0.         0.        ]\n",
      " [0.         0.         0.13216783 ... 0.         0.         0.1       ]\n",
      " ...\n",
      " [0.09090909 0.         0.         ... 0.11796537 0.         0.        ]\n",
      " [0.         0.         0.         ... 0.         0.18100233 0.        ]\n",
      " [0.         0.         0.1        ... 0.         0.         0.1488345 ]]\n"
     ]
    }
   ],
   "source": [
    "# Metropolis weights \n",
    "number_nodes = G.number_of_nodes()\n",
    "weights = np.zeros([number_nodes, number_nodes])\n",
    "for edge in G.edges():\n",
    "  i, j = edge[0], edge[1]\n",
    "  weights[i - 1][j - 1] = 1 / (1 + np.max([G.degree(i), G.degree(j)]))\n",
    "  weights[j - 1][i - 1] = weights[i - 1][j - 1]\n",
    "\n",
    "print(weights)\n",
    "\n",
    "weights = weights + np.diag(1 - np.sum(weights, axis=0))\n",
    "\n",
    "metropolis_weights = weights\n",
    "print(metropolis_weights)\n"
   ]
  },
  {
   "cell_type": "code",
   "execution_count": 4,
   "id": "26f67564",
   "metadata": {},
   "outputs": [],
   "source": [
    "def degrees(A):\n",
    "    \"\"\"Return the degrees of each node of a graph from its adjacency matrix\"\"\"\n",
    "    return np.sum(A, axis=0).reshape(A.shape[0], 1)\n",
    "\n",
    "def node_degree(n, G):\n",
    "    cnt = 0\n",
    "    for i in G.neighbors(n):\n",
    "        cnt += 1\n",
    "    return cnt\n",
    "\n",
    "def get_neighbors(n, G):\n",
    "    neighbors_list = []\n",
    "    for i in G.neighbors(n):\n",
    "        neighbors_list.append(int(i))\n",
    "    return neighbors_list"
   ]
  },
  {
   "cell_type": "code",
   "execution_count": 5,
   "id": "dbc31eff",
   "metadata": {},
   "outputs": [],
   "source": [
    "datapoints = {}\n",
    "count = 0\n",
    "W1 = np.array([2.0, 2.0, 0.0, 5.0, -2.0, -3.0, 5.0, 2.0])\n",
    "W2 = np.array([2.0, 2.0, 0.0, 5.0, 2.0, -3.0, -5.0])\n",
    "W3 = np.array([2.0, 2.0, 0.0, 5.0, -2.0, -3.0])\n",
    "W4 = np.array([2.0, 2.0, 0.0, -5.0, -2.0])\n",
    "W = [W1, W2, W3, W4]\n",
    "m = 8\n",
    "n = [8, 7, 6, 5]\n",
    "noise_sd = [0.001,0.01,0.1,1.0]\n",
    "\n",
    "for i, cluster_size in enumerate(cluster_sizes):\n",
    "    for j in range(cluster_size):\n",
    "        features = np.random.normal(loc=0.0, scale=1.0, size=(m, n[i]))\n",
    "        label = np.dot(features, W[i]) + np.random.normal(0,noise_sd[2])\n",
    "        test_features = np.random.normal(loc=0.0, scale=1.0, size=(100, n[i]))\n",
    "        test_label = np.dot(test_features, W[i]) + np.random.normal(0,0.05)\n",
    "        datapoints[count] = {\n",
    "                'features': features,\n",
    "                'degree': node_degree(count, G),\n",
    "                'label': label,\n",
    "                'neighbors': get_neighbors(count, G),\n",
    "                'exact_weights': torch.from_numpy(W[i]),\n",
    "                'input_size': n[i],\n",
    "                'test_features':test_features,\n",
    "                'test_labels': test_label\n",
    "            }\n",
    "        count += 1"
   ]
  },
  {
   "cell_type": "code",
   "execution_count": 6,
   "id": "3c2530b1",
   "metadata": {},
   "outputs": [],
   "source": [
    "class MyDataset(Dataset):\n",
    "    def __init__(self, data, targets, transform=None):\n",
    "        self.data = torch.FloatTensor(data)\n",
    "        self.targets = torch.FloatTensor(targets).unsqueeze(-1)\n",
    "        \n",
    "    def __getitem__(self, index):\n",
    "        x = self.data[index]\n",
    "        y = self.targets[index]\n",
    "\n",
    "        return x, y\n",
    "    \n",
    "    def __len__(self):\n",
    "        return len(self.data)\n"
   ]
  },
  {
   "cell_type": "code",
   "execution_count": 7,
   "id": "1d84bf7c",
   "metadata": {},
   "outputs": [],
   "source": [
    "class MLP_Net(nn.Module):\n",
    "    def __init__(self, input_size, user_id):\n",
    "        super(MLP_Net, self).__init__()\n",
    "        self.fc1 = nn.Linear(input_size, 1, bias=False)\n",
    "        #self.fc2 = nn.Linear(4, 1, bias=False)\n",
    "        #self.fc3 = nn.Linear(200, 10)\n",
    "        self.user_id = user_id\n",
    "\n",
    "    def forward(self, x):\n",
    "        x = torch.flatten(x, 1)\n",
    "        #x = F.relu(self.fc1(x))\n",
    "        output = self.fc1(x)\n",
    "        #output = self.fc3(x)\n",
    "        return output"
   ]
  },
  {
   "cell_type": "code",
   "execution_count": 8,
   "id": "f93f4bbc",
   "metadata": {},
   "outputs": [],
   "source": [
    "from typing import Iterable, Optional\n",
    "\n",
    "def grads_to_vector(parameters: Iterable[torch.Tensor]) -> torch.Tensor:\n",
    "    r\"\"\"Convert parameters to one vector\n",
    "\n",
    "    Args:\n",
    "        parameters (Iterable[Tensor]): an iterator of Tensors that are the\n",
    "            parameters of a model.\n",
    "\n",
    "    Returns:\n",
    "        The parameters represented by a single vector\n",
    "    \"\"\"\n",
    "    # Flag for the device where the parameter is located\n",
    "    param_device = None\n",
    "\n",
    "    vec = []\n",
    "    for param in parameters:\n",
    "        # Ensure the parameters are located in the same device\n",
    "        param_device = param.grad\n",
    "\n",
    "        vec.append(param_device.view(-1))\n",
    "    return torch.cat(vec)"
   ]
  },
  {
   "cell_type": "code",
   "execution_count": 9,
   "id": "9cd3a679",
   "metadata": {},
   "outputs": [
    {
     "name": "stdout",
     "output_type": "stream",
     "text": [
      "0 tensor(78.4140) tensor([-0.0497,  0.0265,  0.2496, -0.2843, -0.3558,  0.0373, -0.0888])\n",
      "1 tensor(71.6787) tensor([-0.0047,  0.0180,  0.1399, -0.1483, -0.3487, -0.1515, -0.1227])\n",
      "2 tensor(65.7366) tensor([ 0.0378,  0.0119,  0.0392, -0.0177, -0.3404, -0.3276, -0.1559])\n",
      "3 tensor(60.4856) tensor([ 0.0780,  0.0081, -0.0532,  0.1079, -0.3309, -0.4921, -0.1883])\n",
      "4 tensor(55.8371) tensor([ 0.1160,  0.0064, -0.1378,  0.2288, -0.3204, -0.6455, -0.2200])\n",
      "5 tensor(51.7142) tensor([ 0.1521,  0.0067, -0.2153,  0.3452, -0.3089, -0.7888, -0.2510])\n",
      "6 tensor(48.0500) tensor([ 0.1863,  0.0088, -0.2861,  0.4573, -0.2965, -0.9225, -0.2815])\n",
      "7 tensor(44.7863) tensor([ 0.2187,  0.0125, -0.3507,  0.5654, -0.2833, -1.0473, -0.3113])\n",
      "8 tensor(41.8727) tensor([ 0.2495,  0.0178, -0.4096,  0.6696, -0.2694, -1.1639, -0.3406])\n",
      "9 tensor(39.2653) tensor([ 0.2787,  0.0246, -0.4633,  0.7703, -0.2548, -1.2727, -0.3693])\n",
      "10 tensor(36.9259) tensor([ 0.3066,  0.0326, -0.5120,  0.8675, -0.2397, -1.3743, -0.3975])\n",
      "11 tensor(34.8213) tensor([ 0.3330,  0.0418, -0.5562,  0.9615, -0.2240, -1.4692, -0.4253])\n",
      "12 tensor(32.9228) tensor([ 0.3583,  0.0520, -0.5963,  1.0524, -0.2078, -1.5579, -0.4526])\n",
      "13 tensor(31.2051) tensor([ 0.3824,  0.0633, -0.6324,  1.1403, -0.1911, -1.6406, -0.4794])\n",
      "14 tensor(29.6464) tensor([ 0.4053,  0.0755, -0.6650,  1.2255, -0.1741, -1.7180, -0.5058])\n",
      "15 tensor(28.2278) tensor([ 0.4273,  0.0886, -0.6942,  1.3080, -0.1568, -1.7902, -0.5319])\n",
      "16 tensor(26.9325) tensor([ 0.4483,  0.1023, -0.7205,  1.3880, -0.1391, -1.8577, -0.5575])\n",
      "17 tensor(25.7462) tensor([ 0.4684,  0.1168, -0.7438,  1.4656, -0.1212, -1.9208, -0.5828])\n",
      "18 tensor(24.6563) tensor([ 0.4877,  0.1319, -0.7646,  1.5409, -0.1031, -1.9797, -0.6077])\n",
      "19 tensor(23.6518) tensor([ 0.5061,  0.1476, -0.7830,  1.6140, -0.0847, -2.0348, -0.6324])\n",
      "20 tensor(22.7231) tensor([ 0.5238,  0.1638, -0.7992,  1.6850, -0.0662, -2.0863, -0.6566])\n",
      "21 tensor(21.8618) tensor([ 0.5409,  0.1805, -0.8133,  1.7540, -0.0476, -2.1345, -0.6806])\n",
      "22 tensor(21.0607) tensor([ 0.5573,  0.1976, -0.8256,  1.8212, -0.0288, -2.1795, -0.7043])\n",
      "23 tensor(20.3132) tensor([ 0.5730,  0.2150, -0.8361,  1.8865, -0.0100, -2.2215, -0.7277])\n",
      "24 tensor(19.6139) tensor([ 0.5882,  0.2328, -0.8451,  1.9500,  0.0089, -2.2609, -0.7508])\n",
      "25 tensor(18.9579) tensor([ 0.6029,  0.2509, -0.8526,  2.0119,  0.0278, -2.2977, -0.7737])\n",
      "26 tensor(18.3407) tensor([ 0.6170,  0.2692, -0.8587,  2.0722,  0.0468, -2.3321, -0.7963])\n",
      "27 tensor(17.7586) tensor([ 0.6307,  0.2878, -0.8637,  2.1309,  0.0658, -2.3643, -0.8186])\n",
      "28 tensor(17.2084) tensor([ 0.6439,  0.3065, -0.8675,  2.1882,  0.0848, -2.3945, -0.8407])\n",
      "29 tensor(16.6871) tensor([ 0.6566,  0.3255, -0.8703,  2.2440,  0.1037, -2.4226, -0.8626])\n",
      "30 tensor(16.1921) tensor([ 0.6690,  0.3446, -0.8722,  2.2985,  0.1226, -2.4490, -0.8843])\n",
      "31 tensor(15.7211) tensor([ 0.6810,  0.3638, -0.8732,  2.3517,  0.1415, -2.4737, -0.9058])\n",
      "32 tensor(15.2721) tensor([ 0.6927,  0.3831, -0.8734,  2.4036,  0.1603, -2.4968, -0.9270])\n",
      "33 tensor(14.8434) tensor([ 0.7040,  0.4024, -0.8730,  2.4543,  0.1790, -2.5185, -0.9481])\n",
      "34 tensor(14.4333) tensor([ 0.7149,  0.4219, -0.8719,  2.5039,  0.1976, -2.5387, -0.9689])\n",
      "35 tensor(14.0405) tensor([ 0.7256,  0.4414, -0.8702,  2.5523,  0.2162, -2.5577, -0.9896])\n",
      "36 tensor(13.6638) tensor([ 0.7360,  0.4609, -0.8680,  2.5996,  0.2346, -2.5755, -1.0100])\n",
      "37 tensor(13.3019) tensor([ 0.7461,  0.4804, -0.8653,  2.6458,  0.2529, -2.5921, -1.0303])\n",
      "38 tensor(12.9539) tensor([ 0.7560,  0.4999, -0.8623,  2.6911,  0.2712, -2.6077, -1.0504])\n",
      "39 tensor(12.6188) tensor([ 0.7656,  0.5194, -0.8588,  2.7353,  0.2893, -2.6223, -1.0704])\n",
      "40 tensor(12.2960) tensor([ 0.7750,  0.5389, -0.8550,  2.7786,  0.3072, -2.6360, -1.0901])\n",
      "41 tensor(11.9846) tensor([ 0.7841,  0.5583, -0.8509,  2.8210,  0.3250, -2.6489, -1.1097])\n",
      "42 tensor(11.6840) tensor([ 0.7930,  0.5777, -0.8465,  2.8625,  0.3427, -2.6609, -1.1292])\n",
      "43 tensor(11.3936) tensor([ 0.8018,  0.5970, -0.8419,  2.9031,  0.3603, -2.6722, -1.1485])\n",
      "44 tensor(11.1128) tensor([ 0.8103,  0.6163, -0.8371,  2.9429,  0.3777, -2.6827, -1.1676])\n",
      "45 tensor(10.8412) tensor([ 0.8186,  0.6355, -0.8321,  2.9819,  0.3949, -2.6926, -1.1866])\n",
      "46 tensor(10.5783) tensor([ 0.8268,  0.6546, -0.8270,  3.0201,  0.4120, -2.7019, -1.2054])\n",
      "47 tensor(10.3237) tensor([ 0.8348,  0.6736, -0.8217,  3.0575,  0.4290, -2.7106, -1.2241])\n",
      "48 tensor(10.0770) tensor([ 0.8427,  0.6926, -0.8163,  3.0942,  0.4458, -2.7188, -1.2426])\n",
      "49 tensor(9.8378) tensor([ 0.8503,  0.7114, -0.8109,  3.1302,  0.4624, -2.7265, -1.2611])\n",
      "50 tensor(9.6058) tensor([ 0.8579,  0.7301, -0.8054,  3.1654,  0.4789, -2.7337, -1.2793])\n",
      "51 tensor(9.3808) tensor([ 0.8652,  0.7488, -0.7998,  3.2000,  0.4952, -2.7404, -1.2975])\n",
      "52 tensor(9.1623) tensor([ 0.8725,  0.7673, -0.7942,  3.2339,  0.5113, -2.7467, -1.3155])\n",
      "53 tensor(8.9503) tensor([ 0.8796,  0.7857, -0.7885,  3.2671,  0.5272, -2.7527, -1.3333])\n",
      "54 tensor(8.7443) tensor([ 0.8865,  0.8040, -0.7829,  3.2997,  0.5430, -2.7582, -1.3511])\n",
      "55 tensor(8.5442) tensor([ 0.8934,  0.8222, -0.7772,  3.3317,  0.5587, -2.7635, -1.3687])\n",
      "56 tensor(8.3498) tensor([ 0.9001,  0.8403, -0.7716,  3.3631,  0.5741, -2.7684, -1.3862])\n",
      "57 tensor(8.1608) tensor([ 0.9067,  0.8582, -0.7660,  3.3939,  0.5894, -2.7730, -1.4036])\n",
      "58 tensor(7.9771) tensor([ 0.9132,  0.8760, -0.7604,  3.4242,  0.6046, -2.7773, -1.4208])\n",
      "59 tensor(7.7985) tensor([ 0.9196,  0.8937, -0.7548,  3.4538,  0.6195, -2.7813, -1.4380])\n",
      "60 tensor(7.6248) tensor([ 0.9258,  0.9113, -0.7493,  3.4830,  0.6343, -2.7851, -1.4550])\n",
      "61 tensor(7.4558) tensor([ 0.9320,  0.9287, -0.7438,  3.5116,  0.6489, -2.7887, -1.4719])\n",
      "62 tensor(7.2913) tensor([ 0.9380,  0.9460, -0.7384,  3.5397,  0.6634, -2.7920, -1.4887])\n",
      "63 tensor(7.1313) tensor([ 0.9440,  0.9632, -0.7331,  3.5672,  0.6776, -2.7952, -1.5053])\n",
      "64 tensor(6.9756) tensor([ 0.9499,  0.9802, -0.7278,  3.5943,  0.6918, -2.7981, -1.5219])\n",
      "65 tensor(6.8240) tensor([ 0.9556,  0.9971, -0.7226,  3.6209,  0.7057, -2.8009, -1.5383])\n",
      "66 tensor(6.6765) tensor([ 0.9613,  1.0138, -0.7174,  3.6470,  0.7195, -2.8035, -1.5547])\n",
      "67 tensor(6.5328) tensor([ 0.9669,  1.0305, -0.7123,  3.6727,  0.7331, -2.8059, -1.5709])\n",
      "68 tensor(6.3929) tensor([ 0.9724,  1.0470, -0.7073,  3.6979,  0.7466, -2.8082, -1.5870])\n",
      "69 tensor(6.2566) tensor([ 0.9778,  1.0633, -0.7024,  3.7226,  0.7598, -2.8103, -1.6031])\n",
      "70 tensor(6.1239) tensor([ 0.9831,  1.0795, -0.6976,  3.7470,  0.7730, -2.8123, -1.6190])\n",
      "71 tensor(5.9945) tensor([ 0.9883,  1.0956, -0.6928,  3.7709,  0.7859, -2.8142, -1.6348])\n",
      "72 tensor(5.8686) tensor([ 0.9935,  1.1116, -0.6882,  3.7943,  0.7987, -2.8159, -1.6505])\n",
      "73 tensor(5.7458) tensor([ 0.9985,  1.1274, -0.6836,  3.8174,  0.8114, -2.8175, -1.6661])\n",
      "74 tensor(5.6262) tensor([ 1.0035,  1.1431, -0.6791,  3.8401,  0.8239, -2.8191, -1.6816])\n",
      "75 tensor(5.5096) tensor([ 1.0084,  1.1587, -0.6747,  3.8624,  0.8362, -2.8205, -1.6970])\n",
      "76 tensor(5.3959) tensor([ 1.0133,  1.1741, -0.6704,  3.8843,  0.8484, -2.8218, -1.7124])\n",
      "77 tensor(5.2851) tensor([ 1.0180,  1.1894, -0.6661,  3.9058,  0.8604, -2.8231, -1.7276])\n",
      "78 tensor(5.1771) tensor([ 1.0227,  1.2045, -0.6620,  3.9269,  0.8723, -2.8242, -1.7427])\n",
      "79 tensor(5.0718) tensor([ 1.0273,  1.2195, -0.6580,  3.9477,  0.8840, -2.8253, -1.7577])\n",
      "80 tensor(4.9691) tensor([ 1.0319,  1.2344, -0.6540,  3.9681,  0.8956, -2.8263, -1.7727])\n",
      "81 tensor(4.8689) tensor([ 1.0363,  1.2492, -0.6501,  3.9882,  0.9070, -2.8273, -1.7875])\n",
      "82 tensor(4.7712) tensor([ 1.0407,  1.2638, -0.6463,  4.0080,  0.9183, -2.8281, -1.8023])\n",
      "83 tensor(4.6759) tensor([ 1.0451,  1.2783, -0.6426,  4.0274,  0.9294, -2.8290, -1.8169])\n",
      "84 tensor(4.5830) tensor([ 1.0493,  1.2927, -0.6390,  4.0465,  0.9404, -2.8297, -1.8315])\n",
      "85 tensor(4.4923) tensor([ 1.0535,  1.3069, -0.6355,  4.0652,  0.9513, -2.8304, -1.8460])\n",
      "86 tensor(4.4038) tensor([ 1.0576,  1.3211, -0.6321,  4.0837,  0.9620, -2.8310, -1.8604])\n",
      "87 tensor(4.3174) tensor([ 1.0617,  1.3350, -0.6287,  4.1018,  0.9725, -2.8316, -1.8747])\n",
      "88 tensor(4.2331) tensor([ 1.0657,  1.3489, -0.6254,  4.1196,  0.9829, -2.8322, -1.8889])\n",
      "89 tensor(4.1509) tensor([ 1.0696,  1.3627, -0.6222,  4.1371,  0.9932, -2.8326, -1.9030])\n",
      "90 tensor(4.0706) tensor([ 1.0735,  1.3763, -0.6191,  4.1544,  1.0034, -2.8331, -1.9170])\n",
      "91 tensor(3.9922) tensor([ 1.0773,  1.3898, -0.6161,  4.1713,  1.0134, -2.8335, -1.9310])\n",
      "92 tensor(3.9157) tensor([ 1.0811,  1.4032, -0.6132,  4.1880,  1.0233, -2.8339, -1.9449])\n",
      "93 tensor(3.8410) tensor([ 1.0848,  1.4164, -0.6103,  4.2044,  1.0331, -2.8342, -1.9586])\n",
      "94 tensor(3.7681) tensor([ 1.0884,  1.4296, -0.6075,  4.2205,  1.0427, -2.8345, -1.9723])\n",
      "95 tensor(3.6968) tensor([ 1.0920,  1.4426, -0.6048,  4.2363,  1.0522, -2.8348, -1.9860])\n",
      "96 tensor(3.6272) tensor([ 1.0955,  1.4555, -0.6022,  4.2519,  1.0616, -2.8350, -1.9995])\n",
      "97 tensor(3.5593) tensor([ 1.0990,  1.4683, -0.5996,  4.2673,  1.0708, -2.8352, -2.0130])\n",
      "98 tensor(3.4929) tensor([ 1.1024,  1.4809, -0.5971,  4.2823,  1.0799, -2.8354, -2.0263])\n",
      "99 tensor(3.4280) tensor([ 1.1057,  1.4935, -0.5947,  4.2972,  1.0889, -2.8356, -2.0396])\n"
     ]
    }
   ],
   "source": [
    "model = MLP_Net(datapoints[19][\"input_size\"], user_id=0)\n",
    "\n",
    "lr = 0.01\n",
    "\n",
    "dataloader = DataLoader(MyDataset(datapoints[19][\"features\"], datapoints[19][\"label\"]), batch_size=20, shuffle=True)\n",
    "optimizer = torch.optim.SGD(model.parameters(), lr=0.01)\n",
    "for i in range(100):\n",
    "    for j, (x, y) in zip(range(1), dataloader):\n",
    "        criterion = nn.MSELoss()\n",
    "        optimizer.zero_grad()\n",
    "        yhat = model(x)\n",
    "\n",
    "        loss = criterion(yhat, y)\n",
    "        \n",
    "        loss.backward()\n",
    "        print(i, loss.detach(), parameters_to_vector(model.parameters()).detach())\n",
    "        #optimizer.step()\n",
    "        new_model = parameters_to_vector(model.parameters()) - lr * grads_to_vector(model.parameters())\n",
    "        vector_to_parameters(parameters=model.parameters(), vec=new_model)\n",
    "        #if i % 50 ==0:\n",
    "            #lr *= 0.9\n",
    "            \n",
    "\n",
    "#parameters_to_vector(model.parameters())"
   ]
  },
  {
   "cell_type": "code",
   "execution_count": 10,
   "id": "5eb22da2",
   "metadata": {},
   "outputs": [
    {
     "data": {
      "text/plain": [
       "tensor([ 1.1090,  1.5059, -0.5923,  4.3117,  1.0978, -2.8357, -2.0528],\n",
       "       grad_fn=<CatBackward0>)"
      ]
     },
     "execution_count": 10,
     "metadata": {},
     "output_type": "execute_result"
    }
   ],
   "source": [
    "parameters_to_vector(model.parameters())"
   ]
  },
  {
   "cell_type": "code",
   "execution_count": 11,
   "id": "52396ca6",
   "metadata": {},
   "outputs": [],
   "source": [
    "class CNN_Net(nn.Module):\n",
    "    def __init__(self):\n",
    "        super(CNN_Net, self).__init__()\n",
    "        self.conv1 = nn.Conv2d(1, 32, kernel_size=5)\n",
    "        self.conv2 = nn.Conv2d(32, 64, kernel_size=5)\n",
    "        self.pool = nn.MaxPool2d(2,2)\n",
    "        self.dropout = nn.Dropout(p=0.2)\n",
    "        self.fc1 = nn.Linear(1024, 512)\n",
    "        self.fc2 = nn.Linear(512, 10)\n",
    "\n",
    "    def forward(self, x):\n",
    "        x = self.pool(F.relu(self.conv1(x)))\n",
    "        x = self.pool(F.relu(self.conv2(x)))\n",
    "        x = self.dropout(x)\n",
    "        x = torch.flatten(x, 1)\n",
    "        x = F.relu(self.fc1(x))\n",
    "        output = self.fc2(x)\n",
    "        return output"
   ]
  },
  {
   "cell_type": "code",
   "execution_count": 12,
   "id": "cb5fe42b",
   "metadata": {},
   "outputs": [],
   "source": [
    "class ClientUpdate(object):\n",
    "    def __init__(self, dataset, batchSize, alpha, lamda, epochs, projection_list, projected_weights):\n",
    "        self.train_loader = DataLoader(MyDataset(dataset[\"features\"], dataset[\"label\"]), batch_size=batchSize, shuffle=True)\n",
    "        #self.learning_rate = learning_rate\n",
    "        self.epochs = epochs\n",
    "        self.batchSize = batchSize\n",
    "\n",
    "    def train(self, model):\n",
    "        criterion = nn.MSELoss()\n",
    "        optimizer = torch.optim.SGD(model.parameters(), lr=1e-3, momentum=0.5)\n",
    "\n",
    "        e_loss = []\n",
    "        for epoch in range(1, self.epochs+1):\n",
    "            train_loss = 0\n",
    "            model.train()\n",
    "            for i, (data, labels) in zip(range(1), self.train_loader):\n",
    "                data, labels = data, labels\n",
    "                optimizer.zero_grad() \n",
    "                output = model(data)  \n",
    "                loss = criterion(output, labels)\n",
    "                #loss += mu/2 * torch.norm(client_param.data - server_param.data)**2\n",
    "                loss.backward()\n",
    "                grads = grads_to_vector(model.parameters())\n",
    "                #optimizer.step()\n",
    "                train_loss += loss.item()*data.size(0)\n",
    "                weights = parameters_to_vector(model.parameters())\n",
    "                mat_vec_sum = torch.zeros_like(weights)\n",
    "                for j in G.neighbors(model.user_id):\n",
    "                    mat_vec_sum = torch.add(mat_vec_sum, torch.matmul(torch.transpose(projection_list[model.user_id][j], 0, 1), \n",
    "                                                         projected_weights[j][model.user_id] - projected_weights[model.user_id][j]))\n",
    "                \n",
    "                model_update = parameters_to_vector(model.parameters()) - alpha * (grads + lamda * mat_vec_sum)\n",
    "                \n",
    "            vector_to_parameters(parameters=model.parameters(), vec=model_update)\n",
    "                \n",
    "\n",
    "            train_loss = train_loss/self.batchSize#len(self.train_loader.dataset) \n",
    "            e_loss.append(train_loss)\n",
    "\n",
    "        total_loss = e_loss#sum(e_loss)/len(e_loss)\n",
    "\n",
    "        return model.state_dict(), total_loss"
   ]
  },
  {
   "cell_type": "code",
   "execution_count": 13,
   "id": "2eeef5b5",
   "metadata": {},
   "outputs": [],
   "source": [
    "# Preparing projection matrices\n",
    "models = [MLP_Net(input_size=datapoints[i]['input_size'], user_id=i) for i in range(no_users)]\n",
    "#temp = MLP_Net()\n",
    "projection_list = []\n",
    "projected_weights = []\n",
    "\n",
    "def update_ProjWeight(projection_list, projected_weights, models, first_run=True):\n",
    "    for i in range(no_users):\n",
    "        neighbors_mat = []\n",
    "        neighbors_weights = []\n",
    "        for j in range(no_users):\n",
    "            if j in G.neighbors(i):\n",
    "                with torch.no_grad():\n",
    "                    if first_run == True:\n",
    "                        # Specify the dimensions of the rectangular matrix\n",
    "                        row, column = d0, parameters_to_vector(models[i].parameters()).size()[0]\n",
    "\n",
    "                        # Generate random values for the diagonal from a normal distribution\n",
    "                        diag_values = 1.0 + 1.0 * torch.randn(min(row, column))\n",
    "\n",
    "                        # Create a rectangular matrix with diagonal elements\n",
    "                        mat = torch.diag(diag_values)\n",
    "\n",
    "                        # If the matrix is larger than the diagonal vector, fill the remaining elements with zeros\n",
    "                       \n",
    "                        mat = torch.cat((mat, torch.zeros(row, column - row)), dim=1)\n",
    "\n",
    "                        \n",
    "\n",
    "                        # Append the matrix to the list\n",
    "                        neighbors_mat.append(mat)\n",
    "                        neighbors_weights.append(torch.matmul(mat, parameters_to_vector(models[i].parameters())))\n",
    "                    else:\n",
    "                        neighbors_weights.append(torch.matmul(projection_list[i][j], parameters_to_vector(models[i].parameters())))\n",
    "            else:\n",
    "                neighbors_mat.append(0)\n",
    "                neighbors_weights.append(0)\n",
    "        if first_run == True:\n",
    "            projection_list.append(neighbors_mat)\n",
    "        projected_weights.append(neighbors_weights)\n",
    "\n",
    "update_ProjWeight(projection_list, projected_weights, models)\n",
    "\n"
   ]
  },
  {
   "cell_type": "code",
   "execution_count": 14,
   "id": "5f6059eb",
   "metadata": {},
   "outputs": [],
   "source": [
    "def testing(model, dataset, bs, criterion): \n",
    "    test_loss = 0\n",
    "    correct = 0\n",
    "    test_loader = DataLoader(MyDataset(dataset[\"test_features\"], dataset[\"test_labels\"]), batch_size=bs)\n",
    "    l = len(test_loader)\n",
    "    model.eval()\n",
    "    for data, labels in test_loader:\n",
    "        data, labels = data, labels\n",
    "        output = model(data)\n",
    "        loss = criterion(output, labels)\n",
    "        test_loss += loss.item()*data.size(0)\n",
    "        #_, pred = torch.max(output, 1)\n",
    "        #correct += pred.eq(labels.data.view_as(pred)).sum().item()\n",
    "    \n",
    "    test_loss /= len(test_loader.dataset)\n",
    "    \n",
    "    return test_loss"
   ]
  },
  {
   "cell_type": "code",
   "execution_count": 15,
   "id": "f172f558",
   "metadata": {},
   "outputs": [],
   "source": [
    "def rel_error(model):\n",
    "    return (torch.norm(parameters_to_vector(model.parameters()) - datapoints[model.user_id]['exact_weights']) / torch.norm(datapoints[model.user_id]['exact_weights'])).detach()"
   ]
  },
  {
   "cell_type": "code",
   "execution_count": 16,
   "id": "6e38148f",
   "metadata": {},
   "outputs": [
    {
     "data": {
      "text/plain": [
       "tensor(8.6603, dtype=torch.float64)"
      ]
     },
     "execution_count": 16,
     "metadata": {},
     "output_type": "execute_result"
    }
   ],
   "source": [
    "torch.norm(datapoints[model.user_id]['exact_weights'])"
   ]
  },
  {
   "cell_type": "code",
   "execution_count": 17,
   "id": "71472693",
   "metadata": {},
   "outputs": [
    {
     "name": "stderr",
     "output_type": "stream",
     "text": [
      "  0%|          | 1/2000 [00:00<13:12,  2.52it/s]"
     ]
    },
    {
     "name": "stdout",
     "output_type": "stream",
     "text": [
      "Training_loss 67.75662,   Relative Error 0.91985\n"
     ]
    },
    {
     "name": "stderr",
     "output_type": "stream",
     "text": [
      "\r",
      "  0%|          | 2/2000 [00:00<13:27,  2.47it/s]"
     ]
    },
    {
     "name": "stdout",
     "output_type": "stream",
     "text": [
      "Training_loss 67.36572,   Relative Error 0.91744\n"
     ]
    },
    {
     "name": "stderr",
     "output_type": "stream",
     "text": [
      "\r",
      "  0%|          | 3/2000 [00:01<13:02,  2.55it/s]"
     ]
    },
    {
     "name": "stdout",
     "output_type": "stream",
     "text": [
      "Training_loss 64.54202,   Relative Error 0.90017\n"
     ]
    },
    {
     "name": "stderr",
     "output_type": "stream",
     "text": [
      "\r",
      "  0%|          | 4/2000 [00:01<11:56,  2.79it/s]"
     ]
    },
    {
     "name": "stdout",
     "output_type": "stream",
     "text": [
      "Training_loss 64.41796,   Relative Error 0.89913\n"
     ]
    },
    {
     "name": "stderr",
     "output_type": "stream",
     "text": [
      "\r",
      "  0%|          | 5/2000 [00:01<11:45,  2.83it/s]"
     ]
    },
    {
     "name": "stdout",
     "output_type": "stream",
     "text": [
      "Training_loss 62.15680,   Relative Error 0.88492\n"
     ]
    },
    {
     "name": "stderr",
     "output_type": "stream",
     "text": [
      "\r",
      "  0%|          | 6/2000 [00:02<11:53,  2.80it/s]"
     ]
    },
    {
     "name": "stdout",
     "output_type": "stream",
     "text": [
      "Training_loss 60.24373,   Relative Error 0.87333\n"
     ]
    },
    {
     "name": "stderr",
     "output_type": "stream",
     "text": [
      "\r",
      "  0%|          | 7/2000 [00:02<11:50,  2.80it/s]"
     ]
    },
    {
     "name": "stdout",
     "output_type": "stream",
     "text": [
      "Training_loss 58.44734,   Relative Error 0.86161\n"
     ]
    },
    {
     "name": "stderr",
     "output_type": "stream",
     "text": [
      "\r",
      "  0%|          | 8/2000 [00:02<10:47,  3.08it/s]"
     ]
    },
    {
     "name": "stdout",
     "output_type": "stream",
     "text": [
      "Training_loss 57.01754,   Relative Error 0.85263\n"
     ]
    },
    {
     "name": "stderr",
     "output_type": "stream",
     "text": [
      "\r",
      "  0%|          | 9/2000 [00:03<10:49,  3.07it/s]"
     ]
    },
    {
     "name": "stdout",
     "output_type": "stream",
     "text": [
      "Training_loss 56.25819,   Relative Error 0.84731\n"
     ]
    },
    {
     "name": "stderr",
     "output_type": "stream",
     "text": [
      "\r",
      "  0%|          | 10/2000 [00:03<11:13,  2.95it/s]"
     ]
    },
    {
     "name": "stdout",
     "output_type": "stream",
     "text": [
      "Training_loss 54.86022,   Relative Error 0.83823\n"
     ]
    },
    {
     "name": "stderr",
     "output_type": "stream",
     "text": [
      "\r",
      "  1%|          | 11/2000 [00:03<11:45,  2.82it/s]"
     ]
    },
    {
     "name": "stdout",
     "output_type": "stream",
     "text": [
      "Training_loss 53.77526,   Relative Error 0.83152\n"
     ]
    },
    {
     "name": "stderr",
     "output_type": "stream",
     "text": [
      "\r",
      "  1%|          | 12/2000 [00:04<12:47,  2.59it/s]"
     ]
    },
    {
     "name": "stdout",
     "output_type": "stream",
     "text": [
      "Training_loss 52.42962,   Relative Error 0.82299\n"
     ]
    },
    {
     "name": "stderr",
     "output_type": "stream",
     "text": [
      "\r",
      "  1%|          | 13/2000 [00:04<14:43,  2.25it/s]"
     ]
    },
    {
     "name": "stdout",
     "output_type": "stream",
     "text": [
      "Training_loss 51.27400,   Relative Error 0.81567\n"
     ]
    },
    {
     "name": "stderr",
     "output_type": "stream",
     "text": [
      "\r",
      "  1%|          | 14/2000 [00:05<16:03,  2.06it/s]"
     ]
    },
    {
     "name": "stdout",
     "output_type": "stream",
     "text": [
      "Training_loss 50.35928,   Relative Error 0.81002\n"
     ]
    },
    {
     "name": "stderr",
     "output_type": "stream",
     "text": [
      "\r",
      "  1%|          | 15/2000 [00:05<15:39,  2.11it/s]"
     ]
    },
    {
     "name": "stdout",
     "output_type": "stream",
     "text": [
      "Training_loss 50.00798,   Relative Error 0.80774\n"
     ]
    },
    {
     "name": "stderr",
     "output_type": "stream",
     "text": [
      "\r",
      "  1%|          | 16/2000 [00:06<14:19,  2.31it/s]"
     ]
    },
    {
     "name": "stdout",
     "output_type": "stream",
     "text": [
      "Training_loss 49.22161,   Relative Error 0.80289\n"
     ]
    },
    {
     "name": "stderr",
     "output_type": "stream",
     "text": [
      "\r",
      "  1%|          | 17/2000 [00:06<14:25,  2.29it/s]"
     ]
    },
    {
     "name": "stdout",
     "output_type": "stream",
     "text": [
      "Training_loss 48.69443,   Relative Error 0.79975\n"
     ]
    },
    {
     "name": "stderr",
     "output_type": "stream",
     "text": [
      "\r",
      "  1%|          | 18/2000 [00:07<14:15,  2.32it/s]"
     ]
    },
    {
     "name": "stdout",
     "output_type": "stream",
     "text": [
      "Training_loss 48.35612,   Relative Error 0.79748\n"
     ]
    },
    {
     "name": "stderr",
     "output_type": "stream",
     "text": [
      "\r",
      "  1%|          | 19/2000 [00:07<14:22,  2.30it/s]"
     ]
    },
    {
     "name": "stdout",
     "output_type": "stream",
     "text": [
      "Training_loss 48.19349,   Relative Error 0.79631\n"
     ]
    },
    {
     "name": "stderr",
     "output_type": "stream",
     "text": [
      "\r",
      "  1%|          | 20/2000 [00:07<12:46,  2.58it/s]"
     ]
    },
    {
     "name": "stdout",
     "output_type": "stream",
     "text": [
      "Training_loss 47.92773,   Relative Error 0.79451\n"
     ]
    },
    {
     "name": "stderr",
     "output_type": "stream",
     "text": [
      "\r",
      "  1%|          | 21/2000 [00:08<11:43,  2.81it/s]"
     ]
    },
    {
     "name": "stdout",
     "output_type": "stream",
     "text": [
      "Training_loss 47.18009,   Relative Error 0.78936\n"
     ]
    },
    {
     "name": "stderr",
     "output_type": "stream",
     "text": [
      "\r",
      "  1%|          | 22/2000 [00:08<11:36,  2.84it/s]"
     ]
    },
    {
     "name": "stdout",
     "output_type": "stream",
     "text": [
      "Training_loss 46.88086,   Relative Error 0.78741\n"
     ]
    },
    {
     "name": "stderr",
     "output_type": "stream",
     "text": [
      "\r",
      "  1%|          | 23/2000 [00:08<11:37,  2.83it/s]"
     ]
    },
    {
     "name": "stdout",
     "output_type": "stream",
     "text": [
      "Training_loss 46.37161,   Relative Error 0.78377\n"
     ]
    },
    {
     "name": "stderr",
     "output_type": "stream",
     "text": [
      "\r",
      "  1%|          | 24/2000 [00:09<11:08,  2.95it/s]"
     ]
    },
    {
     "name": "stdout",
     "output_type": "stream",
     "text": [
      "Training_loss 45.93715,   Relative Error 0.78024\n"
     ]
    },
    {
     "name": "stderr",
     "output_type": "stream",
     "text": [
      "  1%|▏         | 26/2000 [00:09<09:01,  3.64it/s]"
     ]
    },
    {
     "name": "stdout",
     "output_type": "stream",
     "text": [
      "Training_loss 45.51398,   Relative Error 0.77703\n",
      "Training_loss 45.23928,   Relative Error 0.77460\n"
     ]
    },
    {
     "name": "stderr",
     "output_type": "stream",
     "text": [
      "\r",
      "  1%|▏         | 27/2000 [00:09<08:31,  3.86it/s]"
     ]
    },
    {
     "name": "stdout",
     "output_type": "stream",
     "text": [
      "Training_loss 44.92591,   Relative Error 0.77269\n"
     ]
    },
    {
     "name": "stderr",
     "output_type": "stream",
     "text": [
      "\r",
      "  1%|▏         | 28/2000 [00:10<08:31,  3.86it/s]"
     ]
    },
    {
     "name": "stdout",
     "output_type": "stream",
     "text": [
      "Training_loss 44.27176,   Relative Error 0.76806\n"
     ]
    },
    {
     "name": "stderr",
     "output_type": "stream",
     "text": [
      "\r",
      "  1%|▏         | 29/2000 [00:10<08:16,  3.97it/s]"
     ]
    },
    {
     "name": "stdout",
     "output_type": "stream",
     "text": [
      "Training_loss 43.72116,   Relative Error 0.76401\n"
     ]
    },
    {
     "name": "stderr",
     "output_type": "stream",
     "text": [
      "\r",
      "  2%|▏         | 30/2000 [00:10<08:28,  3.88it/s]"
     ]
    },
    {
     "name": "stdout",
     "output_type": "stream",
     "text": [
      "Training_loss 43.25410,   Relative Error 0.76061\n"
     ]
    },
    {
     "name": "stderr",
     "output_type": "stream",
     "text": [
      "  2%|▏         | 32/2000 [00:11<07:43,  4.24it/s]"
     ]
    },
    {
     "name": "stdout",
     "output_type": "stream",
     "text": [
      "Training_loss 42.88276,   Relative Error 0.75777\n",
      "Training_loss 42.57170,   Relative Error 0.75554\n"
     ]
    },
    {
     "name": "stderr",
     "output_type": "stream",
     "text": [
      "  2%|▏         | 34/2000 [00:11<06:40,  4.91it/s]"
     ]
    },
    {
     "name": "stdout",
     "output_type": "stream",
     "text": [
      "Training_loss 42.13873,   Relative Error 0.75211\n",
      "Training_loss 41.82765,   Relative Error 0.75006\n"
     ]
    },
    {
     "name": "stderr",
     "output_type": "stream",
     "text": [
      "  2%|▏         | 36/2000 [00:11<06:06,  5.35it/s]"
     ]
    },
    {
     "name": "stdout",
     "output_type": "stream",
     "text": [
      "Training_loss 41.52169,   Relative Error 0.74809\n",
      "Training_loss 41.30101,   Relative Error 0.74676\n"
     ]
    },
    {
     "name": "stderr",
     "output_type": "stream",
     "text": [
      "\r",
      "  2%|▏         | 37/2000 [00:11<06:29,  5.04it/s]"
     ]
    },
    {
     "name": "stdout",
     "output_type": "stream",
     "text": [
      "Training_loss 41.10160,   Relative Error 0.74539\n"
     ]
    },
    {
     "name": "stderr",
     "output_type": "stream",
     "text": [
      "\r",
      "  2%|▏         | 38/2000 [00:12<07:57,  4.11it/s]"
     ]
    },
    {
     "name": "stdout",
     "output_type": "stream",
     "text": [
      "Training_loss 40.89659,   Relative Error 0.74338\n"
     ]
    },
    {
     "name": "stderr",
     "output_type": "stream",
     "text": [
      "\r",
      "  2%|▏         | 39/2000 [00:12<09:25,  3.47it/s]"
     ]
    },
    {
     "name": "stdout",
     "output_type": "stream",
     "text": [
      "Training_loss 40.57370,   Relative Error 0.74074\n"
     ]
    },
    {
     "name": "stderr",
     "output_type": "stream",
     "text": [
      "\r",
      "  2%|▏         | 40/2000 [00:13<11:06,  2.94it/s]"
     ]
    },
    {
     "name": "stdout",
     "output_type": "stream",
     "text": [
      "Training_loss 40.32674,   Relative Error 0.73911\n"
     ]
    },
    {
     "name": "stderr",
     "output_type": "stream",
     "text": [
      "\r",
      "  2%|▏         | 41/2000 [00:13<12:15,  2.66it/s]"
     ]
    },
    {
     "name": "stdout",
     "output_type": "stream",
     "text": [
      "Training_loss 40.09868,   Relative Error 0.73707\n"
     ]
    },
    {
     "name": "stderr",
     "output_type": "stream",
     "text": [
      "\r",
      "  2%|▏         | 42/2000 [00:13<11:28,  2.84it/s]"
     ]
    },
    {
     "name": "stdout",
     "output_type": "stream",
     "text": [
      "Training_loss 39.75963,   Relative Error 0.73483\n"
     ]
    },
    {
     "name": "stderr",
     "output_type": "stream",
     "text": [
      "  2%|▏         | 44/2000 [00:14<09:01,  3.61it/s]"
     ]
    },
    {
     "name": "stdout",
     "output_type": "stream",
     "text": [
      "Training_loss 39.59452,   Relative Error 0.73378\n",
      "Training_loss 39.25826,   Relative Error 0.73111\n"
     ]
    },
    {
     "name": "stderr",
     "output_type": "stream",
     "text": [
      "\r",
      "  2%|▏         | 45/2000 [00:14<08:51,  3.68it/s]"
     ]
    },
    {
     "name": "stdout",
     "output_type": "stream",
     "text": [
      "Training_loss 39.12750,   Relative Error 0.73028\n"
     ]
    },
    {
     "name": "stderr",
     "output_type": "stream",
     "text": [
      "  2%|▏         | 47/2000 [00:14<07:36,  4.28it/s]"
     ]
    },
    {
     "name": "stdout",
     "output_type": "stream",
     "text": [
      "Training_loss 38.88469,   Relative Error 0.72854\n",
      "Training_loss 38.79302,   Relative Error 0.72803\n"
     ]
    },
    {
     "name": "stderr",
     "output_type": "stream",
     "text": [
      "  2%|▏         | 49/2000 [00:15<06:42,  4.85it/s]"
     ]
    },
    {
     "name": "stdout",
     "output_type": "stream",
     "text": [
      "Training_loss 38.51226,   Relative Error 0.72598\n",
      "Training_loss 38.25902,   Relative Error 0.72386\n"
     ]
    },
    {
     "name": "stderr",
     "output_type": "stream",
     "text": [
      "  3%|▎         | 51/2000 [00:15<06:18,  5.15it/s]"
     ]
    },
    {
     "name": "stdout",
     "output_type": "stream",
     "text": [
      "Training_loss 38.06292,   Relative Error 0.72201\n",
      "Training_loss 37.83557,   Relative Error 0.72035\n"
     ]
    },
    {
     "name": "stderr",
     "output_type": "stream",
     "text": [
      "  3%|▎         | 53/2000 [00:16<05:49,  5.57it/s]"
     ]
    },
    {
     "name": "stdout",
     "output_type": "stream",
     "text": [
      "Training_loss 37.63091,   Relative Error 0.71835\n",
      "Training_loss 37.40385,   Relative Error 0.71627\n"
     ]
    },
    {
     "name": "stderr",
     "output_type": "stream",
     "text": [
      "  3%|▎         | 55/2000 [00:16<05:56,  5.46it/s]"
     ]
    },
    {
     "name": "stdout",
     "output_type": "stream",
     "text": [
      "Training_loss 37.05828,   Relative Error 0.71329\n",
      "Training_loss 36.70334,   Relative Error 0.71032\n"
     ]
    },
    {
     "name": "stderr",
     "output_type": "stream",
     "text": [
      "  3%|▎         | 57/2000 [00:16<05:45,  5.62it/s]"
     ]
    },
    {
     "name": "stdout",
     "output_type": "stream",
     "text": [
      "Training_loss 36.48916,   Relative Error 0.70834\n",
      "Training_loss 36.16545,   Relative Error 0.70553\n"
     ]
    },
    {
     "name": "stderr",
     "output_type": "stream",
     "text": [
      "  3%|▎         | 59/2000 [00:17<05:55,  5.46it/s]"
     ]
    },
    {
     "name": "stdout",
     "output_type": "stream",
     "text": [
      "Training_loss 35.93874,   Relative Error 0.70392\n",
      "Training_loss 35.78643,   Relative Error 0.70227\n"
     ]
    },
    {
     "name": "stderr",
     "output_type": "stream",
     "text": [
      "  3%|▎         | 61/2000 [00:17<05:32,  5.83it/s]"
     ]
    },
    {
     "name": "stdout",
     "output_type": "stream",
     "text": [
      "Training_loss 35.71406,   Relative Error 0.70168\n",
      "Training_loss 35.67100,   Relative Error 0.70131\n"
     ]
    },
    {
     "name": "stderr",
     "output_type": "stream",
     "text": [
      "  3%|▎         | 63/2000 [00:17<05:24,  5.98it/s]"
     ]
    },
    {
     "name": "stdout",
     "output_type": "stream",
     "text": [
      "Training_loss 35.51113,   Relative Error 0.70009\n",
      "Training_loss 35.28826,   Relative Error 0.69810\n"
     ]
    },
    {
     "name": "stderr",
     "output_type": "stream",
     "text": [
      "\r",
      "  3%|▎         | 64/2000 [00:17<05:48,  5.56it/s]"
     ]
    },
    {
     "name": "stdout",
     "output_type": "stream",
     "text": [
      "Training_loss 35.07831,   Relative Error 0.69620\n"
     ]
    },
    {
     "name": "stderr",
     "output_type": "stream",
     "text": [
      "  3%|▎         | 66/2000 [00:18<06:08,  5.25it/s]"
     ]
    },
    {
     "name": "stdout",
     "output_type": "stream",
     "text": [
      "Training_loss 34.98955,   Relative Error 0.69559\n",
      "Training_loss 34.66334,   Relative Error 0.69273\n"
     ]
    },
    {
     "name": "stderr",
     "output_type": "stream",
     "text": [
      "\r",
      "  3%|▎         | 67/2000 [00:18<06:23,  5.04it/s]"
     ]
    },
    {
     "name": "stdout",
     "output_type": "stream",
     "text": [
      "Training_loss 34.44621,   Relative Error 0.69080\n"
     ]
    },
    {
     "name": "stderr",
     "output_type": "stream",
     "text": [
      "  3%|▎         | 69/2000 [00:19<06:22,  5.05it/s]"
     ]
    },
    {
     "name": "stdout",
     "output_type": "stream",
     "text": [
      "Training_loss 34.27226,   Relative Error 0.68920\n",
      "Training_loss 33.94454,   Relative Error 0.68635\n"
     ]
    },
    {
     "name": "stderr",
     "output_type": "stream",
     "text": [
      "\r",
      "  4%|▎         | 70/2000 [00:19<06:43,  4.79it/s]"
     ]
    },
    {
     "name": "stdout",
     "output_type": "stream",
     "text": [
      "Training_loss 33.67522,   Relative Error 0.68381\n"
     ]
    },
    {
     "name": "stderr",
     "output_type": "stream",
     "text": [
      "\r",
      "  4%|▎         | 71/2000 [00:19<06:44,  4.77it/s]"
     ]
    },
    {
     "name": "stdout",
     "output_type": "stream",
     "text": [
      "Training_loss 33.66159,   Relative Error 0.68360\n"
     ]
    },
    {
     "name": "stderr",
     "output_type": "stream",
     "text": [
      "\r",
      "  4%|▎         | 72/2000 [00:19<06:53,  4.66it/s]"
     ]
    },
    {
     "name": "stdout",
     "output_type": "stream",
     "text": [
      "Training_loss 33.38369,   Relative Error 0.68107\n"
     ]
    },
    {
     "name": "stderr",
     "output_type": "stream",
     "text": [
      "\r",
      "  4%|▎         | 73/2000 [00:19<07:28,  4.30it/s]"
     ]
    },
    {
     "name": "stdout",
     "output_type": "stream",
     "text": [
      "Training_loss 33.10853,   Relative Error 0.67855\n"
     ]
    },
    {
     "name": "stderr",
     "output_type": "stream",
     "text": [
      "\r",
      "  4%|▎         | 74/2000 [00:20<07:24,  4.33it/s]"
     ]
    },
    {
     "name": "stdout",
     "output_type": "stream",
     "text": [
      "Training_loss 32.92601,   Relative Error 0.67690\n"
     ]
    },
    {
     "name": "stderr",
     "output_type": "stream",
     "text": [
      "\r",
      "  4%|▍         | 75/2000 [00:20<07:59,  4.02it/s]"
     ]
    },
    {
     "name": "stdout",
     "output_type": "stream",
     "text": [
      "Training_loss 32.79743,   Relative Error 0.67576\n"
     ]
    },
    {
     "name": "stderr",
     "output_type": "stream",
     "text": [
      "\r",
      "  4%|▍         | 76/2000 [00:20<07:51,  4.08it/s]"
     ]
    },
    {
     "name": "stdout",
     "output_type": "stream",
     "text": [
      "Training_loss 32.71090,   Relative Error 0.67516\n"
     ]
    },
    {
     "name": "stderr",
     "output_type": "stream",
     "text": [
      "\r",
      "  4%|▍         | 77/2000 [00:21<08:31,  3.76it/s]"
     ]
    },
    {
     "name": "stdout",
     "output_type": "stream",
     "text": [
      "Training_loss 32.52457,   Relative Error 0.67377\n"
     ]
    },
    {
     "name": "stderr",
     "output_type": "stream",
     "text": [
      "\r",
      "  4%|▍         | 78/2000 [00:21<08:17,  3.86it/s]"
     ]
    },
    {
     "name": "stdout",
     "output_type": "stream",
     "text": [
      "Training_loss 32.43421,   Relative Error 0.67320\n"
     ]
    },
    {
     "name": "stderr",
     "output_type": "stream",
     "text": [
      "\r",
      "  4%|▍         | 79/2000 [00:21<08:48,  3.63it/s]"
     ]
    },
    {
     "name": "stdout",
     "output_type": "stream",
     "text": [
      "Training_loss 32.28614,   Relative Error 0.67200\n"
     ]
    },
    {
     "name": "stderr",
     "output_type": "stream",
     "text": [
      "\r",
      "  4%|▍         | 80/2000 [00:21<08:55,  3.59it/s]"
     ]
    },
    {
     "name": "stdout",
     "output_type": "stream",
     "text": [
      "Training_loss 32.10854,   Relative Error 0.67069\n"
     ]
    },
    {
     "name": "stderr",
     "output_type": "stream",
     "text": [
      "\r",
      "  4%|▍         | 81/2000 [00:22<09:01,  3.54it/s]"
     ]
    },
    {
     "name": "stdout",
     "output_type": "stream",
     "text": [
      "Training_loss 31.99068,   Relative Error 0.66973\n"
     ]
    },
    {
     "name": "stderr",
     "output_type": "stream",
     "text": [
      "\r",
      "  4%|▍         | 82/2000 [00:22<08:28,  3.78it/s]"
     ]
    },
    {
     "name": "stdout",
     "output_type": "stream",
     "text": [
      "Training_loss 31.82055,   Relative Error 0.66850\n"
     ]
    },
    {
     "name": "stderr",
     "output_type": "stream",
     "text": [
      "\r",
      "  4%|▍         | 83/2000 [00:22<08:12,  3.89it/s]"
     ]
    },
    {
     "name": "stdout",
     "output_type": "stream",
     "text": [
      "Training_loss 31.70175,   Relative Error 0.66708\n"
     ]
    },
    {
     "name": "stderr",
     "output_type": "stream",
     "text": [
      "\r",
      "  4%|▍         | 84/2000 [00:22<07:46,  4.11it/s]"
     ]
    },
    {
     "name": "stdout",
     "output_type": "stream",
     "text": [
      "Training_loss 31.59989,   Relative Error 0.66616\n"
     ]
    },
    {
     "name": "stderr",
     "output_type": "stream",
     "text": [
      "\r",
      "  4%|▍         | 85/2000 [00:23<07:37,  4.19it/s]"
     ]
    },
    {
     "name": "stdout",
     "output_type": "stream",
     "text": [
      "Training_loss 31.42710,   Relative Error 0.66488\n"
     ]
    },
    {
     "name": "stderr",
     "output_type": "stream",
     "text": [
      "  4%|▍         | 87/2000 [00:23<06:55,  4.60it/s]"
     ]
    },
    {
     "name": "stdout",
     "output_type": "stream",
     "text": [
      "Training_loss 31.28018,   Relative Error 0.66335\n",
      "Training_loss 31.12370,   Relative Error 0.66218\n"
     ]
    },
    {
     "name": "stderr",
     "output_type": "stream",
     "text": [
      "  4%|▍         | 89/2000 [00:23<06:35,  4.83it/s]"
     ]
    },
    {
     "name": "stdout",
     "output_type": "stream",
     "text": [
      "Training_loss 30.95458,   Relative Error 0.66100\n",
      "Training_loss 30.85862,   Relative Error 0.66020\n"
     ]
    },
    {
     "name": "stderr",
     "output_type": "stream",
     "text": [
      "  5%|▍         | 91/2000 [00:24<06:41,  4.76it/s]"
     ]
    },
    {
     "name": "stdout",
     "output_type": "stream",
     "text": [
      "Training_loss 30.65577,   Relative Error 0.65813\n",
      "Training_loss 30.63550,   Relative Error 0.65791\n"
     ]
    },
    {
     "name": "stderr",
     "output_type": "stream",
     "text": [
      "  5%|▍         | 93/2000 [00:24<06:18,  5.04it/s]"
     ]
    },
    {
     "name": "stdout",
     "output_type": "stream",
     "text": [
      "Training_loss 30.50919,   Relative Error 0.65644\n",
      "Training_loss 30.33261,   Relative Error 0.65460\n"
     ]
    },
    {
     "name": "stderr",
     "output_type": "stream",
     "text": [
      "  5%|▍         | 95/2000 [00:25<06:14,  5.08it/s]"
     ]
    },
    {
     "name": "stdout",
     "output_type": "stream",
     "text": [
      "Training_loss 30.13266,   Relative Error 0.65274\n",
      "Training_loss 29.88937,   Relative Error 0.65053\n"
     ]
    },
    {
     "name": "stderr",
     "output_type": "stream",
     "text": [
      "  5%|▍         | 97/2000 [00:25<06:15,  5.07it/s]"
     ]
    },
    {
     "name": "stdout",
     "output_type": "stream",
     "text": [
      "Training_loss 29.71758,   Relative Error 0.64886\n",
      "Training_loss 29.55929,   Relative Error 0.64773\n"
     ]
    },
    {
     "name": "stderr",
     "output_type": "stream",
     "text": [
      "  5%|▍         | 99/2000 [00:25<06:20,  5.00it/s]"
     ]
    },
    {
     "name": "stdout",
     "output_type": "stream",
     "text": [
      "Training_loss 29.38315,   Relative Error 0.64610\n",
      "Training_loss 29.28040,   Relative Error 0.64524\n"
     ]
    },
    {
     "name": "stderr",
     "output_type": "stream",
     "text": [
      "\r",
      "  5%|▌         | 100/2000 [00:26<06:28,  4.89it/s]"
     ]
    },
    {
     "name": "stdout",
     "output_type": "stream",
     "text": [
      "Training_loss 29.04391,   Relative Error 0.64308\n"
     ]
    },
    {
     "name": "stderr",
     "output_type": "stream",
     "text": [
      "  5%|▌         | 102/2000 [00:26<06:19,  5.01it/s]"
     ]
    },
    {
     "name": "stdout",
     "output_type": "stream",
     "text": [
      "Training_loss 28.87691,   Relative Error 0.64129\n",
      "Training_loss 28.74556,   Relative Error 0.64031\n"
     ]
    },
    {
     "name": "stderr",
     "output_type": "stream",
     "text": [
      "  5%|▌         | 104/2000 [00:26<06:13,  5.07it/s]"
     ]
    },
    {
     "name": "stdout",
     "output_type": "stream",
     "text": [
      "Training_loss 28.53088,   Relative Error 0.63829\n",
      "Training_loss 28.51365,   Relative Error 0.63810\n"
     ]
    },
    {
     "name": "stderr",
     "output_type": "stream",
     "text": [
      "\r",
      "  5%|▌         | 105/2000 [00:27<06:25,  4.92it/s]"
     ]
    },
    {
     "name": "stdout",
     "output_type": "stream",
     "text": [
      "Training_loss 28.34215,   Relative Error 0.63637\n"
     ]
    },
    {
     "name": "stderr",
     "output_type": "stream",
     "text": [
      "\r",
      "  5%|▌         | 106/2000 [00:27<06:18,  5.01it/s]"
     ]
    },
    {
     "name": "stdout",
     "output_type": "stream",
     "text": [
      "Training_loss 28.21785,   Relative Error 0.63545\n"
     ]
    },
    {
     "name": "stderr",
     "output_type": "stream",
     "text": [
      "\r",
      "  5%|▌         | 107/2000 [00:27<06:56,  4.54it/s]"
     ]
    },
    {
     "name": "stdout",
     "output_type": "stream",
     "text": [
      "Training_loss 28.08063,   Relative Error 0.63449\n"
     ]
    },
    {
     "name": "stderr",
     "output_type": "stream",
     "text": [
      "\r",
      "  5%|▌         | 108/2000 [00:27<07:02,  4.48it/s]"
     ]
    },
    {
     "name": "stdout",
     "output_type": "stream",
     "text": [
      "Training_loss 27.96853,   Relative Error 0.63319\n"
     ]
    },
    {
     "name": "stderr",
     "output_type": "stream",
     "text": [
      "\r",
      "  5%|▌         | 109/2000 [00:28<07:24,  4.26it/s]"
     ]
    },
    {
     "name": "stdout",
     "output_type": "stream",
     "text": [
      "Training_loss 27.84043,   Relative Error 0.63226\n"
     ]
    },
    {
     "name": "stderr",
     "output_type": "stream",
     "text": [
      "\r",
      "  6%|▌         | 110/2000 [00:28<07:44,  4.07it/s]"
     ]
    },
    {
     "name": "stdout",
     "output_type": "stream",
     "text": [
      "Training_loss 27.69111,   Relative Error 0.63061\n"
     ]
    },
    {
     "name": "stderr",
     "output_type": "stream",
     "text": [
      "\r",
      "  6%|▌         | 111/2000 [00:28<07:57,  3.96it/s]"
     ]
    },
    {
     "name": "stdout",
     "output_type": "stream",
     "text": [
      "Training_loss 27.58538,   Relative Error 0.62977\n"
     ]
    },
    {
     "name": "stderr",
     "output_type": "stream",
     "text": [
      "\r",
      "  6%|▌         | 112/2000 [00:28<07:55,  3.97it/s]"
     ]
    },
    {
     "name": "stdout",
     "output_type": "stream",
     "text": [
      "Training_loss 27.47260,   Relative Error 0.62897\n"
     ]
    },
    {
     "name": "stderr",
     "output_type": "stream",
     "text": [
      "\r",
      "  6%|▌         | 113/2000 [00:29<08:09,  3.86it/s]"
     ]
    },
    {
     "name": "stdout",
     "output_type": "stream",
     "text": [
      "Training_loss 27.45389,   Relative Error 0.62876\n"
     ]
    },
    {
     "name": "stderr",
     "output_type": "stream",
     "text": [
      "\r",
      "  6%|▌         | 114/2000 [00:29<08:27,  3.71it/s]"
     ]
    },
    {
     "name": "stdout",
     "output_type": "stream",
     "text": [
      "Training_loss 27.39932,   Relative Error 0.62822\n"
     ]
    },
    {
     "name": "stderr",
     "output_type": "stream",
     "text": [
      "\r",
      "  6%|▌         | 115/2000 [00:29<08:40,  3.62it/s]"
     ]
    },
    {
     "name": "stdout",
     "output_type": "stream",
     "text": [
      "Training_loss 27.33614,   Relative Error 0.62774\n"
     ]
    },
    {
     "name": "stderr",
     "output_type": "stream",
     "text": [
      "\r",
      "  6%|▌         | 116/2000 [00:29<08:41,  3.61it/s]"
     ]
    },
    {
     "name": "stdout",
     "output_type": "stream",
     "text": [
      "Training_loss 27.28710,   Relative Error 0.62722\n"
     ]
    },
    {
     "name": "stderr",
     "output_type": "stream",
     "text": [
      "\r",
      "  6%|▌         | 117/2000 [00:30<08:33,  3.67it/s]"
     ]
    },
    {
     "name": "stdout",
     "output_type": "stream",
     "text": [
      "Training_loss 27.17847,   Relative Error 0.62596\n"
     ]
    },
    {
     "name": "stderr",
     "output_type": "stream",
     "text": [
      "\r",
      "  6%|▌         | 118/2000 [00:30<08:01,  3.91it/s]"
     ]
    },
    {
     "name": "stdout",
     "output_type": "stream",
     "text": [
      "Training_loss 27.16856,   Relative Error 0.62583\n"
     ]
    },
    {
     "name": "stderr",
     "output_type": "stream",
     "text": [
      "\r",
      "  6%|▌         | 119/2000 [00:30<07:55,  3.95it/s]"
     ]
    },
    {
     "name": "stdout",
     "output_type": "stream",
     "text": [
      "Training_loss 27.11756,   Relative Error 0.62536\n"
     ]
    },
    {
     "name": "stderr",
     "output_type": "stream",
     "text": [
      "  6%|▌         | 121/2000 [00:31<07:06,  4.40it/s]"
     ]
    },
    {
     "name": "stdout",
     "output_type": "stream",
     "text": [
      "Training_loss 26.98962,   Relative Error 0.62387\n",
      "Training_loss 26.91575,   Relative Error 0.62336\n"
     ]
    },
    {
     "name": "stderr",
     "output_type": "stream",
     "text": [
      "  6%|▌         | 123/2000 [00:31<06:46,  4.62it/s]"
     ]
    },
    {
     "name": "stdout",
     "output_type": "stream",
     "text": [
      "Training_loss 26.76217,   Relative Error 0.62187\n",
      "Training_loss 26.71852,   Relative Error 0.62152\n"
     ]
    },
    {
     "name": "stderr",
     "output_type": "stream",
     "text": [
      "\r",
      "  6%|▌         | 124/2000 [00:31<06:38,  4.70it/s]"
     ]
    },
    {
     "name": "stdout",
     "output_type": "stream",
     "text": [
      "Training_loss 26.66944,   Relative Error 0.62104\n"
     ]
    },
    {
     "name": "stderr",
     "output_type": "stream",
     "text": [
      "\r",
      "  6%|▋         | 125/2000 [00:31<06:32,  4.77it/s]"
     ]
    },
    {
     "name": "stdout",
     "output_type": "stream",
     "text": [
      "Training_loss 26.57032,   Relative Error 0.62035\n"
     ]
    },
    {
     "name": "stderr",
     "output_type": "stream",
     "text": [
      "  6%|▋         | 127/2000 [00:32<06:25,  4.86it/s]"
     ]
    },
    {
     "name": "stdout",
     "output_type": "stream",
     "text": [
      "Training_loss 26.52513,   Relative Error 0.61993\n",
      "Training_loss 26.51375,   Relative Error 0.61977\n"
     ]
    },
    {
     "name": "stderr",
     "output_type": "stream",
     "text": [
      "  6%|▋         | 129/2000 [00:32<06:21,  4.90it/s]"
     ]
    },
    {
     "name": "stdout",
     "output_type": "stream",
     "text": [
      "Training_loss 26.33459,   Relative Error 0.61802\n",
      "Training_loss 26.19691,   Relative Error 0.61662\n"
     ]
    },
    {
     "name": "stderr",
     "output_type": "stream",
     "text": [
      "  7%|▋         | 131/2000 [00:33<06:13,  5.01it/s]"
     ]
    },
    {
     "name": "stdout",
     "output_type": "stream",
     "text": [
      "Training_loss 26.11320,   Relative Error 0.61597\n",
      "Training_loss 26.07160,   Relative Error 0.61563\n"
     ]
    },
    {
     "name": "stderr",
     "output_type": "stream",
     "text": [
      "  7%|▋         | 133/2000 [00:33<05:57,  5.22it/s]"
     ]
    },
    {
     "name": "stdout",
     "output_type": "stream",
     "text": [
      "Training_loss 25.94753,   Relative Error 0.61432\n",
      "Training_loss 25.94727,   Relative Error 0.61419\n"
     ]
    },
    {
     "name": "stderr",
     "output_type": "stream",
     "text": [
      "  7%|▋         | 135/2000 [00:33<05:58,  5.20it/s]"
     ]
    },
    {
     "name": "stdout",
     "output_type": "stream",
     "text": [
      "Training_loss 25.87013,   Relative Error 0.61356\n",
      "Training_loss 25.73460,   Relative Error 0.61205\n"
     ]
    },
    {
     "name": "stderr",
     "output_type": "stream",
     "text": [
      "  7%|▋         | 137/2000 [00:34<06:07,  5.08it/s]"
     ]
    },
    {
     "name": "stdout",
     "output_type": "stream",
     "text": [
      "Training_loss 25.61592,   Relative Error 0.61074\n",
      "Training_loss 25.49793,   Relative Error 0.60951\n"
     ]
    },
    {
     "name": "stderr",
     "output_type": "stream",
     "text": [
      "\r",
      "  7%|▋         | 138/2000 [00:34<06:03,  5.13it/s]"
     ]
    },
    {
     "name": "stdout",
     "output_type": "stream",
     "text": [
      "Training_loss 25.38765,   Relative Error 0.60828\n"
     ]
    },
    {
     "name": "stderr",
     "output_type": "stream",
     "text": [
      "\r",
      "  7%|▋         | 139/2000 [00:34<06:55,  4.48it/s]"
     ]
    },
    {
     "name": "stdout",
     "output_type": "stream",
     "text": [
      "Training_loss 25.27991,   Relative Error 0.60709\n"
     ]
    },
    {
     "name": "stderr",
     "output_type": "stream",
     "text": [
      "  7%|▋         | 141/2000 [00:35<06:47,  4.56it/s]"
     ]
    },
    {
     "name": "stdout",
     "output_type": "stream",
     "text": [
      "Training_loss 25.21043,   Relative Error 0.60608\n",
      "Training_loss 25.18257,   Relative Error 0.60590\n"
     ]
    },
    {
     "name": "stderr",
     "output_type": "stream",
     "text": [
      "  7%|▋         | 143/2000 [00:35<06:26,  4.80it/s]"
     ]
    },
    {
     "name": "stdout",
     "output_type": "stream",
     "text": [
      "Training_loss 25.02734,   Relative Error 0.60429\n",
      "Training_loss 25.02645,   Relative Error 0.60422\n"
     ]
    },
    {
     "name": "stderr",
     "output_type": "stream",
     "text": [
      "\r",
      "  7%|▋         | 144/2000 [00:35<06:29,  4.76it/s]"
     ]
    },
    {
     "name": "stdout",
     "output_type": "stream",
     "text": [
      "Training_loss 24.94417,   Relative Error 0.60356\n"
     ]
    },
    {
     "name": "stderr",
     "output_type": "stream",
     "text": [
      "  7%|▋         | 146/2000 [00:36<06:21,  4.85it/s]"
     ]
    },
    {
     "name": "stdout",
     "output_type": "stream",
     "text": [
      "Training_loss 24.87227,   Relative Error 0.60295\n",
      "Training_loss 24.80263,   Relative Error 0.60194\n"
     ]
    },
    {
     "name": "stderr",
     "output_type": "stream",
     "text": [
      "\r",
      "  7%|▋         | 147/2000 [00:36<06:35,  4.68it/s]"
     ]
    },
    {
     "name": "stdout",
     "output_type": "stream",
     "text": [
      "Training_loss 24.77954,   Relative Error 0.60177\n"
     ]
    },
    {
     "name": "stderr",
     "output_type": "stream",
     "text": [
      "\r",
      "  7%|▋         | 148/2000 [00:36<07:01,  4.40it/s]"
     ]
    },
    {
     "name": "stdout",
     "output_type": "stream",
     "text": [
      "Training_loss 24.75909,   Relative Error 0.60160\n"
     ]
    },
    {
     "name": "stderr",
     "output_type": "stream",
     "text": [
      "\r",
      "  7%|▋         | 149/2000 [00:37<07:25,  4.15it/s]"
     ]
    },
    {
     "name": "stdout",
     "output_type": "stream",
     "text": [
      "Training_loss 24.68816,   Relative Error 0.60062\n"
     ]
    },
    {
     "name": "stderr",
     "output_type": "stream",
     "text": [
      "\r",
      "  8%|▊         | 150/2000 [00:37<07:37,  4.04it/s]"
     ]
    },
    {
     "name": "stdout",
     "output_type": "stream",
     "text": [
      "Training_loss 24.63529,   Relative Error 0.60007\n"
     ]
    },
    {
     "name": "stderr",
     "output_type": "stream",
     "text": [
      "\r",
      "  8%|▊         | 151/2000 [00:37<08:01,  3.84it/s]"
     ]
    },
    {
     "name": "stdout",
     "output_type": "stream",
     "text": [
      "Training_loss 24.54415,   Relative Error 0.59902\n"
     ]
    },
    {
     "name": "stderr",
     "output_type": "stream",
     "text": [
      "\r",
      "  8%|▊         | 152/2000 [00:37<08:24,  3.66it/s]"
     ]
    },
    {
     "name": "stdout",
     "output_type": "stream",
     "text": [
      "Training_loss 24.46775,   Relative Error 0.59837\n"
     ]
    },
    {
     "name": "stderr",
     "output_type": "stream",
     "text": [
      "\r",
      "  8%|▊         | 153/2000 [00:38<08:16,  3.72it/s]"
     ]
    },
    {
     "name": "stdout",
     "output_type": "stream",
     "text": [
      "Training_loss 24.32606,   Relative Error 0.59688\n"
     ]
    },
    {
     "name": "stderr",
     "output_type": "stream",
     "text": [
      "\r",
      "  8%|▊         | 154/2000 [00:38<08:01,  3.84it/s]"
     ]
    },
    {
     "name": "stdout",
     "output_type": "stream",
     "text": [
      "Training_loss 24.21074,   Relative Error 0.59554\n"
     ]
    },
    {
     "name": "stderr",
     "output_type": "stream",
     "text": [
      "\r",
      "  8%|▊         | 155/2000 [00:38<07:38,  4.02it/s]"
     ]
    },
    {
     "name": "stdout",
     "output_type": "stream",
     "text": [
      "Training_loss 24.09958,   Relative Error 0.59423\n"
     ]
    },
    {
     "name": "stderr",
     "output_type": "stream",
     "text": [
      "\r",
      "  8%|▊         | 156/2000 [00:38<07:27,  4.12it/s]"
     ]
    },
    {
     "name": "stdout",
     "output_type": "stream",
     "text": [
      "Training_loss 24.02426,   Relative Error 0.59366\n"
     ]
    },
    {
     "name": "stderr",
     "output_type": "stream",
     "text": [
      "\r",
      "  8%|▊         | 157/2000 [00:39<07:48,  3.93it/s]"
     ]
    },
    {
     "name": "stdout",
     "output_type": "stream",
     "text": [
      "Training_loss 23.95912,   Relative Error 0.59275\n"
     ]
    },
    {
     "name": "stderr",
     "output_type": "stream",
     "text": [
      "  8%|▊         | 159/2000 [00:39<07:15,  4.23it/s]"
     ]
    },
    {
     "name": "stdout",
     "output_type": "stream",
     "text": [
      "Training_loss 23.93184,   Relative Error 0.59256\n",
      "Training_loss 23.83616,   Relative Error 0.59154\n"
     ]
    },
    {
     "name": "stderr",
     "output_type": "stream",
     "text": [
      "  8%|▊         | 161/2000 [00:39<06:16,  4.88it/s]"
     ]
    },
    {
     "name": "stdout",
     "output_type": "stream",
     "text": [
      "Training_loss 23.76740,   Relative Error 0.59100\n",
      "Training_loss 23.70000,   Relative Error 0.59047\n"
     ]
    },
    {
     "name": "stderr",
     "output_type": "stream",
     "text": [
      "  8%|▊         | 163/2000 [00:40<06:04,  5.03it/s]"
     ]
    },
    {
     "name": "stdout",
     "output_type": "stream",
     "text": [
      "Training_loss 23.64043,   Relative Error 0.58956\n",
      "Training_loss 23.51486,   Relative Error 0.58822\n"
     ]
    },
    {
     "name": "stderr",
     "output_type": "stream",
     "text": [
      "  8%|▊         | 165/2000 [00:40<05:41,  5.37it/s]"
     ]
    },
    {
     "name": "stdout",
     "output_type": "stream",
     "text": [
      "Training_loss 23.45149,   Relative Error 0.58773\n",
      "Training_loss 23.45280,   Relative Error 0.58768\n"
     ]
    },
    {
     "name": "stderr",
     "output_type": "stream",
     "text": [
      "  8%|▊         | 167/2000 [00:41<05:53,  5.18it/s]"
     ]
    },
    {
     "name": "stdout",
     "output_type": "stream",
     "text": [
      "Training_loss 23.38790,   Relative Error 0.58720\n",
      "Training_loss 23.30183,   Relative Error 0.58622\n"
     ]
    },
    {
     "name": "stderr",
     "output_type": "stream",
     "text": [
      "  8%|▊         | 169/2000 [00:41<06:03,  5.03it/s]"
     ]
    },
    {
     "name": "stdout",
     "output_type": "stream",
     "text": [
      "Training_loss 23.26337,   Relative Error 0.58584\n",
      "Training_loss 23.16845,   Relative Error 0.58468\n"
     ]
    },
    {
     "name": "stderr",
     "output_type": "stream",
     "text": [
      "\r",
      "  8%|▊         | 170/2000 [00:41<06:12,  4.91it/s]"
     ]
    },
    {
     "name": "stdout",
     "output_type": "stream",
     "text": [
      "Training_loss 23.11212,   Relative Error 0.58383\n"
     ]
    },
    {
     "name": "stderr",
     "output_type": "stream",
     "text": [
      "\r",
      "  9%|▊         | 171/2000 [00:41<06:15,  4.87it/s]"
     ]
    },
    {
     "name": "stdout",
     "output_type": "stream",
     "text": [
      "Training_loss 23.03035,   Relative Error 0.58287\n"
     ]
    },
    {
     "name": "stderr",
     "output_type": "stream",
     "text": [
      "  9%|▊         | 173/2000 [00:42<06:08,  4.96it/s]"
     ]
    },
    {
     "name": "stdout",
     "output_type": "stream",
     "text": [
      "Training_loss 22.99783,   Relative Error 0.58252\n",
      "Training_loss 22.99801,   Relative Error 0.58248\n"
     ]
    },
    {
     "name": "stderr",
     "output_type": "stream",
     "text": [
      "  9%|▉         | 175/2000 [00:42<06:09,  4.94it/s]"
     ]
    },
    {
     "name": "stdout",
     "output_type": "stream",
     "text": [
      "Training_loss 22.96422,   Relative Error 0.58216\n",
      "Training_loss 22.84700,   Relative Error 0.58091\n"
     ]
    },
    {
     "name": "stderr",
     "output_type": "stream",
     "text": [
      "  9%|▉         | 177/2000 [00:43<06:10,  4.91it/s]"
     ]
    },
    {
     "name": "stdout",
     "output_type": "stream",
     "text": [
      "Training_loss 22.73151,   Relative Error 0.57969\n",
      "Training_loss 22.70722,   Relative Error 0.57950\n"
     ]
    },
    {
     "name": "stderr",
     "output_type": "stream",
     "text": [
      "  9%|▉         | 179/2000 [00:43<05:33,  5.46it/s]"
     ]
    },
    {
     "name": "stdout",
     "output_type": "stream",
     "text": [
      "Training_loss 22.65159,   Relative Error 0.57908\n",
      "Training_loss 22.62684,   Relative Error 0.57893\n"
     ]
    },
    {
     "name": "stderr",
     "output_type": "stream",
     "text": [
      "  9%|▉         | 181/2000 [00:43<05:15,  5.77it/s]"
     ]
    },
    {
     "name": "stdout",
     "output_type": "stream",
     "text": [
      "Training_loss 22.62718,   Relative Error 0.57888\n",
      "Training_loss 22.51914,   Relative Error 0.57768\n"
     ]
    },
    {
     "name": "stderr",
     "output_type": "stream",
     "text": [
      "  9%|▉         | 183/2000 [00:44<04:57,  6.11it/s]"
     ]
    },
    {
     "name": "stdout",
     "output_type": "stream",
     "text": [
      "Training_loss 22.49725,   Relative Error 0.57755\n",
      "Training_loss 22.39343,   Relative Error 0.57639\n"
     ]
    },
    {
     "name": "stderr",
     "output_type": "stream",
     "text": [
      "  9%|▉         | 185/2000 [00:44<04:46,  6.34it/s]"
     ]
    },
    {
     "name": "stdout",
     "output_type": "stream",
     "text": [
      "Training_loss 22.37399,   Relative Error 0.57625\n",
      "Training_loss 22.37486,   Relative Error 0.57620\n"
     ]
    },
    {
     "name": "stderr",
     "output_type": "stream",
     "text": [
      "  9%|▉         | 187/2000 [00:44<04:46,  6.34it/s]"
     ]
    },
    {
     "name": "stdout",
     "output_type": "stream",
     "text": [
      "Training_loss 22.30330,   Relative Error 0.57533\n",
      "Training_loss 22.27311,   Relative Error 0.57500\n"
     ]
    },
    {
     "name": "stderr",
     "output_type": "stream",
     "text": [
      "  9%|▉         | 189/2000 [00:45<04:40,  6.46it/s]"
     ]
    },
    {
     "name": "stdout",
     "output_type": "stream",
     "text": [
      "Training_loss 22.25879,   Relative Error 0.57489\n",
      "Training_loss 22.23183,   Relative Error 0.57458\n"
     ]
    },
    {
     "name": "stderr",
     "output_type": "stream",
     "text": [
      " 10%|▉         | 191/2000 [00:45<04:32,  6.63it/s]"
     ]
    },
    {
     "name": "stdout",
     "output_type": "stream",
     "text": [
      "Training_loss 22.15845,   Relative Error 0.57370\n",
      "Training_loss 22.11318,   Relative Error 0.57333\n"
     ]
    },
    {
     "name": "stderr",
     "output_type": "stream",
     "text": [
      " 10%|▉         | 193/2000 [00:45<04:39,  6.47it/s]"
     ]
    },
    {
     "name": "stdout",
     "output_type": "stream",
     "text": [
      "Training_loss 22.06947,   Relative Error 0.57296\n",
      "Training_loss 22.07374,   Relative Error 0.57291\n"
     ]
    },
    {
     "name": "stderr",
     "output_type": "stream",
     "text": [
      " 10%|▉         | 195/2000 [00:45<04:43,  6.37it/s]"
     ]
    },
    {
     "name": "stdout",
     "output_type": "stream",
     "text": [
      "Training_loss 21.97456,   Relative Error 0.57179\n",
      "Training_loss 21.93188,   Relative Error 0.57147\n"
     ]
    },
    {
     "name": "stderr",
     "output_type": "stream",
     "text": [
      " 10%|▉         | 197/2000 [00:46<05:08,  5.84it/s]"
     ]
    },
    {
     "name": "stdout",
     "output_type": "stream",
     "text": [
      "Training_loss 21.93569,   Relative Error 0.57144\n",
      "Training_loss 21.89448,   Relative Error 0.57110\n"
     ]
    },
    {
     "name": "stderr",
     "output_type": "stream",
     "text": [
      " 10%|▉         | 199/2000 [00:46<04:52,  6.16it/s]"
     ]
    },
    {
     "name": "stdout",
     "output_type": "stream",
     "text": [
      "Training_loss 21.88002,   Relative Error 0.57099\n",
      "Training_loss 21.88388,   Relative Error 0.57094\n"
     ]
    },
    {
     "name": "stderr",
     "output_type": "stream",
     "text": [
      " 10%|█         | 201/2000 [00:46<04:39,  6.44it/s]"
     ]
    },
    {
     "name": "stdout",
     "output_type": "stream",
     "text": [
      "Training_loss 21.85929,   Relative Error 0.57068\n",
      "Training_loss 21.78711,   Relative Error 0.56980\n"
     ]
    },
    {
     "name": "stderr",
     "output_type": "stream",
     "text": [
      " 10%|█         | 203/2000 [00:47<04:39,  6.44it/s]"
     ]
    },
    {
     "name": "stdout",
     "output_type": "stream",
     "text": [
      "Training_loss 21.71958,   Relative Error 0.56898\n",
      "Training_loss 21.65487,   Relative Error 0.56818\n"
     ]
    },
    {
     "name": "stderr",
     "output_type": "stream",
     "text": [
      " 10%|█         | 205/2000 [00:47<04:35,  6.51it/s]"
     ]
    },
    {
     "name": "stdout",
     "output_type": "stream",
     "text": [
      "Training_loss 21.58245,   Relative Error 0.56720\n",
      "Training_loss 21.56756,   Relative Error 0.56709\n"
     ]
    },
    {
     "name": "stderr",
     "output_type": "stream",
     "text": [
      " 10%|█         | 207/2000 [00:47<04:44,  6.30it/s]"
     ]
    },
    {
     "name": "stdout",
     "output_type": "stream",
     "text": [
      "Training_loss 21.52136,   Relative Error 0.56636\n",
      "Training_loss 21.50690,   Relative Error 0.56626\n"
     ]
    },
    {
     "name": "stderr",
     "output_type": "stream",
     "text": [
      " 10%|█         | 209/2000 [00:48<04:44,  6.30it/s]"
     ]
    },
    {
     "name": "stdout",
     "output_type": "stream",
     "text": [
      "Training_loss 21.41932,   Relative Error 0.56524\n",
      "Training_loss 21.33139,   Relative Error 0.56424\n"
     ]
    },
    {
     "name": "stderr",
     "output_type": "stream",
     "text": [
      " 11%|█         | 211/2000 [00:48<04:31,  6.59it/s]"
     ]
    },
    {
     "name": "stdout",
     "output_type": "stream",
     "text": [
      "Training_loss 21.27082,   Relative Error 0.56349\n",
      "Training_loss 21.27471,   Relative Error 0.56348\n"
     ]
    },
    {
     "name": "stderr",
     "output_type": "stream",
     "text": [
      " 11%|█         | 213/2000 [00:48<04:37,  6.45it/s]"
     ]
    },
    {
     "name": "stdout",
     "output_type": "stream",
     "text": [
      "Training_loss 21.20597,   Relative Error 0.56256\n",
      "Training_loss 21.18474,   Relative Error 0.56228\n"
     ]
    },
    {
     "name": "stderr",
     "output_type": "stream",
     "text": [
      " 11%|█         | 215/2000 [00:49<04:30,  6.61it/s]"
     ]
    },
    {
     "name": "stdout",
     "output_type": "stream",
     "text": [
      "Training_loss 21.14082,   Relative Error 0.56161\n",
      "Training_loss 21.14178,   Relative Error 0.56158\n"
     ]
    },
    {
     "name": "stderr",
     "output_type": "stream",
     "text": [
      " 11%|█         | 217/2000 [00:49<04:22,  6.78it/s]"
     ]
    },
    {
     "name": "stdout",
     "output_type": "stream",
     "text": [
      "Training_loss 21.10179,   Relative Error 0.56094\n",
      "Training_loss 21.06132,   Relative Error 0.56030\n"
     ]
    },
    {
     "name": "stderr",
     "output_type": "stream",
     "text": [
      " 11%|█         | 219/2000 [00:49<04:15,  6.96it/s]"
     ]
    },
    {
     "name": "stdout",
     "output_type": "stream",
     "text": [
      "Training_loss 21.06252,   Relative Error 0.56027\n",
      "Training_loss 21.00083,   Relative Error 0.55943\n"
     ]
    },
    {
     "name": "stderr",
     "output_type": "stream",
     "text": [
      " 11%|█         | 221/2000 [00:49<04:28,  6.62it/s]"
     ]
    },
    {
     "name": "stdout",
     "output_type": "stream",
     "text": [
      "Training_loss 21.00164,   Relative Error 0.55942\n",
      "Training_loss 20.98124,   Relative Error 0.55931\n"
     ]
    },
    {
     "name": "stderr",
     "output_type": "stream",
     "text": [
      " 11%|█         | 223/2000 [00:50<04:21,  6.78it/s]"
     ]
    },
    {
     "name": "stdout",
     "output_type": "stream",
     "text": [
      "Training_loss 20.95881,   Relative Error 0.55906\n",
      "Training_loss 20.93879,   Relative Error 0.55882\n"
     ]
    },
    {
     "name": "stderr",
     "output_type": "stream",
     "text": [
      " 11%|█▏        | 225/2000 [00:50<05:08,  5.75it/s]"
     ]
    },
    {
     "name": "stdout",
     "output_type": "stream",
     "text": [
      "Training_loss 20.92152,   Relative Error 0.55862\n",
      "Training_loss 20.85875,   Relative Error 0.55787\n"
     ]
    },
    {
     "name": "stderr",
     "output_type": "stream",
     "text": [
      " 11%|█▏        | 227/2000 [00:51<05:50,  5.06it/s]"
     ]
    },
    {
     "name": "stdout",
     "output_type": "stream",
     "text": [
      "Training_loss 20.81733,   Relative Error 0.55756\n",
      "Training_loss 20.75930,   Relative Error 0.55678\n"
     ]
    },
    {
     "name": "stderr",
     "output_type": "stream",
     "text": [
      " 11%|█▏        | 229/2000 [00:51<05:29,  5.38it/s]"
     ]
    },
    {
     "name": "stdout",
     "output_type": "stream",
     "text": [
      "Training_loss 20.74241,   Relative Error 0.55661\n",
      "Training_loss 20.72866,   Relative Error 0.55644\n"
     ]
    },
    {
     "name": "stderr",
     "output_type": "stream",
     "text": [
      " 12%|█▏        | 231/2000 [00:51<05:07,  5.75it/s]"
     ]
    },
    {
     "name": "stdout",
     "output_type": "stream",
     "text": [
      "Training_loss 20.66247,   Relative Error 0.55569\n",
      "Training_loss 20.62330,   Relative Error 0.55508\n"
     ]
    },
    {
     "name": "stderr",
     "output_type": "stream",
     "text": [
      " 12%|█▏        | 233/2000 [00:52<05:01,  5.85it/s]"
     ]
    },
    {
     "name": "stdout",
     "output_type": "stream",
     "text": [
      "Training_loss 20.58516,   Relative Error 0.55480\n",
      "Training_loss 20.52325,   Relative Error 0.55407\n"
     ]
    },
    {
     "name": "stderr",
     "output_type": "stream",
     "text": [
      " 12%|█▏        | 235/2000 [00:52<05:02,  5.83it/s]"
     ]
    },
    {
     "name": "stdout",
     "output_type": "stream",
     "text": [
      "Training_loss 20.46681,   Relative Error 0.55339\n",
      "Training_loss 20.43153,   Relative Error 0.55312\n"
     ]
    },
    {
     "name": "stderr",
     "output_type": "stream",
     "text": [
      " 12%|█▏        | 237/2000 [00:52<05:19,  5.51it/s]"
     ]
    },
    {
     "name": "stdout",
     "output_type": "stream",
     "text": [
      "Training_loss 20.39614,   Relative Error 0.55252\n",
      "Training_loss 20.37900,   Relative Error 0.55242\n"
     ]
    },
    {
     "name": "stderr",
     "output_type": "stream",
     "text": [
      " 12%|█▏        | 239/2000 [00:53<05:26,  5.40it/s]"
     ]
    },
    {
     "name": "stdout",
     "output_type": "stream",
     "text": [
      "Training_loss 20.36211,   Relative Error 0.55233\n",
      "Training_loss 20.32746,   Relative Error 0.55174\n"
     ]
    },
    {
     "name": "stderr",
     "output_type": "stream",
     "text": [
      " 12%|█▏        | 241/2000 [00:53<05:21,  5.48it/s]"
     ]
    },
    {
     "name": "stdout",
     "output_type": "stream",
     "text": [
      "Training_loss 20.29217,   Relative Error 0.55148\n",
      "Training_loss 20.24086,   Relative Error 0.55083\n"
     ]
    },
    {
     "name": "stderr",
     "output_type": "stream",
     "text": [
      " 12%|█▏        | 243/2000 [00:53<05:11,  5.64it/s]"
     ]
    },
    {
     "name": "stdout",
     "output_type": "stream",
     "text": [
      "Training_loss 20.19178,   Relative Error 0.55021\n",
      "Training_loss 20.14509,   Relative Error 0.54962\n"
     ]
    },
    {
     "name": "stderr",
     "output_type": "stream",
     "text": [
      " 12%|█▏        | 245/2000 [00:54<05:09,  5.67it/s]"
     ]
    },
    {
     "name": "stdout",
     "output_type": "stream",
     "text": [
      "Training_loss 20.14501,   Relative Error 0.54960\n",
      "Training_loss 20.11282,   Relative Error 0.54904\n"
     ]
    },
    {
     "name": "stderr",
     "output_type": "stream",
     "text": [
      " 12%|█▏        | 247/2000 [00:54<04:52,  6.00it/s]"
     ]
    },
    {
     "name": "stdout",
     "output_type": "stream",
     "text": [
      "Training_loss 20.04728,   Relative Error 0.54825\n",
      "Training_loss 19.98289,   Relative Error 0.54747\n"
     ]
    },
    {
     "name": "stderr",
     "output_type": "stream",
     "text": [
      " 12%|█▏        | 249/2000 [00:54<04:31,  6.44it/s]"
     ]
    },
    {
     "name": "stdout",
     "output_type": "stream",
     "text": [
      "Training_loss 19.93942,   Relative Error 0.54692\n",
      "Training_loss 19.91916,   Relative Error 0.54669\n"
     ]
    },
    {
     "name": "stderr",
     "output_type": "stream",
     "text": [
      " 13%|█▎        | 251/2000 [00:55<04:22,  6.68it/s]"
     ]
    },
    {
     "name": "stdout",
     "output_type": "stream",
     "text": [
      "Training_loss 19.91825,   Relative Error 0.54666\n",
      "Training_loss 19.85428,   Relative Error 0.54592\n"
     ]
    },
    {
     "name": "stderr",
     "output_type": "stream",
     "text": [
      " 13%|█▎        | 253/2000 [00:55<04:21,  6.69it/s]"
     ]
    },
    {
     "name": "stdout",
     "output_type": "stream",
     "text": [
      "Training_loss 19.82170,   Relative Error 0.54565\n",
      "Training_loss 19.80905,   Relative Error 0.54556\n"
     ]
    },
    {
     "name": "stderr",
     "output_type": "stream",
     "text": [
      " 13%|█▎        | 255/2000 [00:55<04:18,  6.76it/s]"
     ]
    },
    {
     "name": "stdout",
     "output_type": "stream",
     "text": [
      "Training_loss 19.79298,   Relative Error 0.54535\n",
      "Training_loss 19.74666,   Relative Error 0.54465\n"
     ]
    },
    {
     "name": "stderr",
     "output_type": "stream",
     "text": [
      " 13%|█▎        | 257/2000 [00:56<04:15,  6.83it/s]"
     ]
    },
    {
     "name": "stdout",
     "output_type": "stream",
     "text": [
      "Training_loss 19.73232,   Relative Error 0.54450\n",
      "Training_loss 19.70044,   Relative Error 0.54399\n"
     ]
    },
    {
     "name": "stderr",
     "output_type": "stream",
     "text": [
      " 13%|█▎        | 259/2000 [00:56<04:12,  6.91it/s]"
     ]
    },
    {
     "name": "stdout",
     "output_type": "stream",
     "text": [
      "Training_loss 19.68447,   Relative Error 0.54389\n",
      "Training_loss 19.64052,   Relative Error 0.54331\n"
     ]
    },
    {
     "name": "stderr",
     "output_type": "stream",
     "text": [
      " 13%|█▎        | 261/2000 [00:56<04:12,  6.89it/s]"
     ]
    },
    {
     "name": "stdout",
     "output_type": "stream",
     "text": [
      "Training_loss 19.58151,   Relative Error 0.54261\n",
      "Training_loss 19.55412,   Relative Error 0.54213\n"
     ]
    },
    {
     "name": "stderr",
     "output_type": "stream",
     "text": [
      " 13%|█▎        | 263/2000 [00:56<04:17,  6.74it/s]"
     ]
    },
    {
     "name": "stdout",
     "output_type": "stream",
     "text": [
      "Training_loss 19.51126,   Relative Error 0.54158\n",
      "Training_loss 19.48352,   Relative Error 0.54135\n"
     ]
    },
    {
     "name": "stderr",
     "output_type": "stream",
     "text": [
      " 13%|█▎        | 265/2000 [00:57<04:10,  6.93it/s]"
     ]
    },
    {
     "name": "stdout",
     "output_type": "stream",
     "text": [
      "Training_loss 19.48404,   Relative Error 0.54132\n",
      "Training_loss 19.47029,   Relative Error 0.54124\n"
     ]
    },
    {
     "name": "stderr",
     "output_type": "stream",
     "text": [
      " 13%|█▎        | 267/2000 [00:57<04:13,  6.84it/s]"
     ]
    },
    {
     "name": "stdout",
     "output_type": "stream",
     "text": [
      "Training_loss 19.45464,   Relative Error 0.54107\n",
      "Training_loss 19.41465,   Relative Error 0.54052\n"
     ]
    },
    {
     "name": "stderr",
     "output_type": "stream",
     "text": [
      " 13%|█▎        | 269/2000 [00:57<04:09,  6.93it/s]"
     ]
    },
    {
     "name": "stdout",
     "output_type": "stream",
     "text": [
      "Training_loss 19.41570,   Relative Error 0.54049\n",
      "Training_loss 19.37671,   Relative Error 0.53998\n"
     ]
    },
    {
     "name": "stderr",
     "output_type": "stream",
     "text": [
      " 14%|█▎        | 271/2000 [00:58<04:07,  6.98it/s]"
     ]
    },
    {
     "name": "stdout",
     "output_type": "stream",
     "text": [
      "Training_loss 19.33150,   Relative Error 0.53936\n",
      "Training_loss 19.31799,   Relative Error 0.53918\n"
     ]
    },
    {
     "name": "stderr",
     "output_type": "stream",
     "text": [
      " 14%|█▎        | 273/2000 [00:58<04:15,  6.75it/s]"
     ]
    },
    {
     "name": "stdout",
     "output_type": "stream",
     "text": [
      "Training_loss 19.31874,   Relative Error 0.53914\n",
      "Training_loss 19.30431,   Relative Error 0.53906\n"
     ]
    },
    {
     "name": "stderr",
     "output_type": "stream",
     "text": [
      " 14%|█▍        | 275/2000 [00:58<04:12,  6.83it/s]"
     ]
    },
    {
     "name": "stdout",
     "output_type": "stream",
     "text": [
      "Training_loss 19.29091,   Relative Error 0.53889\n",
      "Training_loss 19.29124,   Relative Error 0.53886\n"
     ]
    },
    {
     "name": "stderr",
     "output_type": "stream",
     "text": [
      " 14%|█▍        | 277/2000 [00:58<04:06,  6.99it/s]"
     ]
    },
    {
     "name": "stdout",
     "output_type": "stream",
     "text": [
      "Training_loss 19.27785,   Relative Error 0.53870\n",
      "Training_loss 19.23763,   Relative Error 0.53811\n"
     ]
    },
    {
     "name": "stderr",
     "output_type": "stream",
     "text": [
      " 14%|█▍        | 279/2000 [00:59<04:05,  7.00it/s]"
     ]
    },
    {
     "name": "stdout",
     "output_type": "stream",
     "text": [
      "Training_loss 19.21074,   Relative Error 0.53793\n",
      "Training_loss 19.17247,   Relative Error 0.53735\n"
     ]
    },
    {
     "name": "stderr",
     "output_type": "stream",
     "text": [
      " 14%|█▍        | 281/2000 [00:59<04:04,  7.04it/s]"
     ]
    },
    {
     "name": "stdout",
     "output_type": "stream",
     "text": [
      "Training_loss 19.14856,   Relative Error 0.53717\n",
      "Training_loss 19.13385,   Relative Error 0.53707\n"
     ]
    },
    {
     "name": "stderr",
     "output_type": "stream",
     "text": [
      " 14%|█▍        | 283/2000 [00:59<04:07,  6.94it/s]"
     ]
    },
    {
     "name": "stdout",
     "output_type": "stream",
     "text": [
      "Training_loss 19.10673,   Relative Error 0.53659\n",
      "Training_loss 19.08275,   Relative Error 0.53612\n"
     ]
    },
    {
     "name": "stderr",
     "output_type": "stream",
     "text": [
      " 14%|█▍        | 285/2000 [01:00<04:03,  7.04it/s]"
     ]
    },
    {
     "name": "stdout",
     "output_type": "stream",
     "text": [
      "Training_loss 19.04302,   Relative Error 0.53561\n",
      "Training_loss 19.01596,   Relative Error 0.53515\n"
     ]
    },
    {
     "name": "stderr",
     "output_type": "stream",
     "text": [
      " 14%|█▍        | 287/2000 [01:00<04:11,  6.80it/s]"
     ]
    },
    {
     "name": "stdout",
     "output_type": "stream",
     "text": [
      "Training_loss 18.97716,   Relative Error 0.53467\n",
      "Training_loss 18.94294,   Relative Error 0.53421\n"
     ]
    },
    {
     "name": "stderr",
     "output_type": "stream",
     "text": [
      " 14%|█▍        | 289/2000 [01:00<04:09,  6.87it/s]"
     ]
    },
    {
     "name": "stdout",
     "output_type": "stream",
     "text": [
      "Training_loss 18.91754,   Relative Error 0.53400\n",
      "Training_loss 18.89313,   Relative Error 0.53380\n"
     ]
    },
    {
     "name": "stderr",
     "output_type": "stream",
     "text": [
      " 15%|█▍        | 291/2000 [01:01<04:11,  6.80it/s]"
     ]
    },
    {
     "name": "stdout",
     "output_type": "stream",
     "text": [
      "Training_loss 18.87985,   Relative Error 0.53373\n",
      "Training_loss 18.84394,   Relative Error 0.53319\n"
     ]
    },
    {
     "name": "stderr",
     "output_type": "stream",
     "text": [
      " 15%|█▍        | 293/2000 [01:01<04:15,  6.68it/s]"
     ]
    },
    {
     "name": "stdout",
     "output_type": "stream",
     "text": [
      "Training_loss 18.83141,   Relative Error 0.53304\n",
      "Training_loss 18.81814,   Relative Error 0.53296\n"
     ]
    },
    {
     "name": "stderr",
     "output_type": "stream",
     "text": [
      " 15%|█▍        | 295/2000 [01:01<04:09,  6.84it/s]"
     ]
    },
    {
     "name": "stdout",
     "output_type": "stream",
     "text": [
      "Training_loss 18.80718,   Relative Error 0.53289\n",
      "Training_loss 18.78393,   Relative Error 0.53245\n"
     ]
    },
    {
     "name": "stderr",
     "output_type": "stream",
     "text": [
      " 15%|█▍        | 297/2000 [01:01<04:05,  6.93it/s]"
     ]
    },
    {
     "name": "stdout",
     "output_type": "stream",
     "text": [
      "Training_loss 18.75148,   Relative Error 0.53198\n",
      "Training_loss 18.73759,   Relative Error 0.53184\n"
     ]
    },
    {
     "name": "stderr",
     "output_type": "stream",
     "text": [
      " 15%|█▍        | 299/2000 [01:02<04:14,  6.68it/s]"
     ]
    },
    {
     "name": "stdout",
     "output_type": "stream",
     "text": [
      "Training_loss 18.72718,   Relative Error 0.53171\n",
      "Training_loss 18.69208,   Relative Error 0.53126\n"
     ]
    },
    {
     "name": "stderr",
     "output_type": "stream",
     "text": [
      " 15%|█▌        | 301/2000 [01:02<04:11,  6.76it/s]"
     ]
    },
    {
     "name": "stdout",
     "output_type": "stream",
     "text": [
      "Training_loss 18.65884,   Relative Error 0.53074\n",
      "Training_loss 18.63280,   Relative Error 0.53032\n"
     ]
    },
    {
     "name": "stderr",
     "output_type": "stream",
     "text": [
      " 15%|█▌        | 303/2000 [01:02<04:15,  6.65it/s]"
     ]
    },
    {
     "name": "stdout",
     "output_type": "stream",
     "text": [
      "Training_loss 18.60924,   Relative Error 0.53017\n",
      "Training_loss 18.59042,   Relative Error 0.53002\n"
     ]
    },
    {
     "name": "stderr",
     "output_type": "stream",
     "text": [
      " 15%|█▌        | 305/2000 [01:03<04:10,  6.77it/s]"
     ]
    },
    {
     "name": "stdout",
     "output_type": "stream",
     "text": [
      "Training_loss 18.58769,   Relative Error 0.52999\n",
      "Training_loss 18.56469,   Relative Error 0.52958\n"
     ]
    },
    {
     "name": "stderr",
     "output_type": "stream",
     "text": [
      " 15%|█▌        | 307/2000 [01:03<04:11,  6.72it/s]"
     ]
    },
    {
     "name": "stdout",
     "output_type": "stream",
     "text": [
      "Training_loss 18.53206,   Relative Error 0.52915\n",
      "Training_loss 18.53289,   Relative Error 0.52912\n"
     ]
    },
    {
     "name": "stderr",
     "output_type": "stream",
     "text": [
      " 15%|█▌        | 309/2000 [01:03<04:06,  6.87it/s]"
     ]
    },
    {
     "name": "stdout",
     "output_type": "stream",
     "text": [
      "Training_loss 18.48886,   Relative Error 0.52859\n",
      "Training_loss 18.47997,   Relative Error 0.52847\n"
     ]
    },
    {
     "name": "stderr",
     "output_type": "stream",
     "text": [
      " 16%|█▌        | 311/2000 [01:03<03:58,  7.08it/s]"
     ]
    },
    {
     "name": "stdout",
     "output_type": "stream",
     "text": [
      "Training_loss 18.46072,   Relative Error 0.52831\n",
      "Training_loss 18.45219,   Relative Error 0.52819\n"
     ]
    },
    {
     "name": "stderr",
     "output_type": "stream",
     "text": [
      " 16%|█▌        | 313/2000 [01:04<04:01,  7.00it/s]"
     ]
    },
    {
     "name": "stdout",
     "output_type": "stream",
     "text": [
      "Training_loss 18.42395,   Relative Error 0.52771\n",
      "Training_loss 18.39907,   Relative Error 0.52726\n"
     ]
    },
    {
     "name": "stderr",
     "output_type": "stream",
     "text": [
      " 16%|█▌        | 315/2000 [01:04<04:09,  6.76it/s]"
     ]
    },
    {
     "name": "stdout",
     "output_type": "stream",
     "text": [
      "Training_loss 18.37810,   Relative Error 0.52712\n",
      "Training_loss 18.35607,   Relative Error 0.52673\n"
     ]
    },
    {
     "name": "stderr",
     "output_type": "stream",
     "text": [
      " 16%|█▌        | 317/2000 [01:04<04:14,  6.61it/s]"
     ]
    },
    {
     "name": "stdout",
     "output_type": "stream",
     "text": [
      "Training_loss 18.34624,   Relative Error 0.52665\n",
      "Training_loss 18.32169,   Relative Error 0.52619\n"
     ]
    },
    {
     "name": "stderr",
     "output_type": "stream",
     "text": [
      " 16%|█▌        | 319/2000 [01:05<04:01,  6.97it/s]"
     ]
    },
    {
     "name": "stdout",
     "output_type": "stream",
     "text": [
      "Training_loss 18.31733,   Relative Error 0.52616\n",
      "Training_loss 18.29343,   Relative Error 0.52601\n"
     ]
    },
    {
     "name": "stderr",
     "output_type": "stream",
     "text": [
      " 16%|█▌        | 321/2000 [01:05<04:03,  6.90it/s]"
     ]
    },
    {
     "name": "stdout",
     "output_type": "stream",
     "text": [
      "Training_loss 18.29251,   Relative Error 0.52599\n",
      "Training_loss 18.25696,   Relative Error 0.52555\n"
     ]
    },
    {
     "name": "stderr",
     "output_type": "stream",
     "text": [
      " 16%|█▌        | 323/2000 [01:05<04:03,  6.88it/s]"
     ]
    },
    {
     "name": "stdout",
     "output_type": "stream",
     "text": [
      "Training_loss 18.22558,   Relative Error 0.52510\n",
      "Training_loss 18.21317,   Relative Error 0.52502\n"
     ]
    },
    {
     "name": "stderr",
     "output_type": "stream",
     "text": [
      " 16%|█▋        | 325/2000 [01:06<04:04,  6.85it/s]"
     ]
    },
    {
     "name": "stdout",
     "output_type": "stream",
     "text": [
      "Training_loss 18.19465,   Relative Error 0.52465\n",
      "Training_loss 18.16740,   Relative Error 0.52421\n"
     ]
    },
    {
     "name": "stderr",
     "output_type": "stream",
     "text": [
      " 16%|█▋        | 327/2000 [01:06<04:08,  6.74it/s]"
     ]
    },
    {
     "name": "stdout",
     "output_type": "stream",
     "text": [
      "Training_loss 18.12762,   Relative Error 0.52374\n",
      "Training_loss 18.10933,   Relative Error 0.52361\n"
     ]
    },
    {
     "name": "stderr",
     "output_type": "stream",
     "text": [
      " 16%|█▋        | 329/2000 [01:06<04:21,  6.40it/s]"
     ]
    },
    {
     "name": "stdout",
     "output_type": "stream",
     "text": [
      "Training_loss 18.08790,   Relative Error 0.52319\n",
      "Training_loss 18.07689,   Relative Error 0.52310\n"
     ]
    },
    {
     "name": "stderr",
     "output_type": "stream",
     "text": [
      " 17%|█▋        | 331/2000 [01:06<04:26,  6.25it/s]"
     ]
    },
    {
     "name": "stdout",
     "output_type": "stream",
     "text": [
      "Training_loss 18.05358,   Relative Error 0.52269\n",
      "Training_loss 18.02598,   Relative Error 0.52229\n"
     ]
    },
    {
     "name": "stderr",
     "output_type": "stream",
     "text": [
      " 17%|█▋        | 333/2000 [01:07<04:30,  6.17it/s]"
     ]
    },
    {
     "name": "stdout",
     "output_type": "stream",
     "text": [
      "Training_loss 17.99372,   Relative Error 0.52188\n",
      "Training_loss 17.97561,   Relative Error 0.52176\n"
     ]
    },
    {
     "name": "stderr",
     "output_type": "stream",
     "text": [
      " 17%|█▋        | 335/2000 [01:07<04:19,  6.41it/s]"
     ]
    },
    {
     "name": "stdout",
     "output_type": "stream",
     "text": [
      "Training_loss 17.97292,   Relative Error 0.52168\n",
      "Training_loss 17.95347,   Relative Error 0.52132\n"
     ]
    },
    {
     "name": "stderr",
     "output_type": "stream",
     "text": [
      " 17%|█▋        | 337/2000 [01:07<04:07,  6.72it/s]"
     ]
    },
    {
     "name": "stdout",
     "output_type": "stream",
     "text": [
      "Training_loss 17.95297,   Relative Error 0.52128\n",
      "Training_loss 17.92604,   Relative Error 0.52089\n"
     ]
    },
    {
     "name": "stderr",
     "output_type": "stream",
     "text": [
      " 17%|█▋        | 339/2000 [01:08<04:04,  6.79it/s]"
     ]
    },
    {
     "name": "stdout",
     "output_type": "stream",
     "text": [
      "Training_loss 17.91054,   Relative Error 0.52078\n",
      "Training_loss 17.88593,   Relative Error 0.52038\n"
     ]
    },
    {
     "name": "stderr",
     "output_type": "stream",
     "text": [
      " 17%|█▋        | 341/2000 [01:08<04:14,  6.51it/s]"
     ]
    },
    {
     "name": "stdout",
     "output_type": "stream",
     "text": [
      "Training_loss 17.88376,   Relative Error 0.52035\n",
      "Training_loss 17.86241,   Relative Error 0.52023\n"
     ]
    },
    {
     "name": "stderr",
     "output_type": "stream",
     "text": [
      " 17%|█▋        | 343/2000 [01:08<05:08,  5.38it/s]"
     ]
    },
    {
     "name": "stdout",
     "output_type": "stream",
     "text": [
      "Training_loss 17.84502,   Relative Error 0.51986\n",
      "Training_loss 17.82204,   Relative Error 0.51975\n"
     ]
    },
    {
     "name": "stderr",
     "output_type": "stream",
     "text": [
      " 17%|█▋        | 345/2000 [01:09<05:14,  5.26it/s]"
     ]
    },
    {
     "name": "stdout",
     "output_type": "stream",
     "text": [
      "Training_loss 17.79583,   Relative Error 0.51936\n",
      "Training_loss 17.78121,   Relative Error 0.51928\n"
     ]
    },
    {
     "name": "stderr",
     "output_type": "stream",
     "text": [
      " 17%|█▋        | 347/2000 [01:09<05:05,  5.41it/s]"
     ]
    },
    {
     "name": "stdout",
     "output_type": "stream",
     "text": [
      "Training_loss 17.76870,   Relative Error 0.51922\n",
      "Training_loss 17.76235,   Relative Error 0.51915\n"
     ]
    },
    {
     "name": "stderr",
     "output_type": "stream",
     "text": [
      " 17%|█▋        | 349/2000 [01:10<04:42,  5.85it/s]"
     ]
    },
    {
     "name": "stdout",
     "output_type": "stream",
     "text": [
      "Training_loss 17.75027,   Relative Error 0.51908\n",
      "Training_loss 17.72925,   Relative Error 0.51869\n"
     ]
    },
    {
     "name": "stderr",
     "output_type": "stream",
     "text": [
      " 18%|█▊        | 351/2000 [01:10<04:33,  6.03it/s]"
     ]
    },
    {
     "name": "stdout",
     "output_type": "stream",
     "text": [
      "Training_loss 17.71893,   Relative Error 0.51862\n",
      "Training_loss 17.71154,   Relative Error 0.51858\n"
     ]
    },
    {
     "name": "stderr",
     "output_type": "stream",
     "text": [
      " 18%|█▊        | 353/2000 [01:10<04:24,  6.22it/s]"
     ]
    },
    {
     "name": "stdout",
     "output_type": "stream",
     "text": [
      "Training_loss 17.70075,   Relative Error 0.51854\n",
      "Training_loss 17.68663,   Relative Error 0.51820\n"
     ]
    },
    {
     "name": "stderr",
     "output_type": "stream",
     "text": [
      " 18%|█▊        | 355/2000 [01:10<04:19,  6.35it/s]"
     ]
    },
    {
     "name": "stdout",
     "output_type": "stream",
     "text": [
      "Training_loss 17.67810,   Relative Error 0.51813\n",
      "Training_loss 17.66319,   Relative Error 0.51803\n"
     ]
    },
    {
     "name": "stderr",
     "output_type": "stream",
     "text": [
      " 18%|█▊        | 357/2000 [01:11<04:19,  6.32it/s]"
     ]
    },
    {
     "name": "stdout",
     "output_type": "stream",
     "text": [
      "Training_loss 17.63270,   Relative Error 0.51764\n",
      "Training_loss 17.61362,   Relative Error 0.51728\n"
     ]
    },
    {
     "name": "stderr",
     "output_type": "stream",
     "text": [
      " 18%|█▊        | 359/2000 [01:11<04:16,  6.39it/s]"
     ]
    },
    {
     "name": "stdout",
     "output_type": "stream",
     "text": [
      "Training_loss 17.59282,   Relative Error 0.51695\n",
      "Training_loss 17.59439,   Relative Error 0.51691\n"
     ]
    },
    {
     "name": "stderr",
     "output_type": "stream",
     "text": [
      " 18%|█▊        | 361/2000 [01:11<04:15,  6.41it/s]"
     ]
    },
    {
     "name": "stdout",
     "output_type": "stream",
     "text": [
      "Training_loss 17.57489,   Relative Error 0.51652\n",
      "Training_loss 17.56998,   Relative Error 0.51648\n"
     ]
    },
    {
     "name": "stderr",
     "output_type": "stream",
     "text": [
      " 18%|█▊        | 363/2000 [01:12<04:34,  5.95it/s]"
     ]
    },
    {
     "name": "stdout",
     "output_type": "stream",
     "text": [
      "Training_loss 17.55541,   Relative Error 0.51615\n",
      "Training_loss 17.53539,   Relative Error 0.51578\n"
     ]
    },
    {
     "name": "stderr",
     "output_type": "stream",
     "text": [
      " 18%|█▊        | 365/2000 [01:12<04:29,  6.06it/s]"
     ]
    },
    {
     "name": "stdout",
     "output_type": "stream",
     "text": [
      "Training_loss 17.51156,   Relative Error 0.51540\n",
      "Training_loss 17.48983,   Relative Error 0.51505\n"
     ]
    },
    {
     "name": "stderr",
     "output_type": "stream",
     "text": [
      " 18%|█▊        | 367/2000 [01:12<04:24,  6.17it/s]"
     ]
    },
    {
     "name": "stdout",
     "output_type": "stream",
     "text": [
      "Training_loss 17.48018,   Relative Error 0.51499\n",
      "Training_loss 17.47795,   Relative Error 0.51490\n"
     ]
    },
    {
     "name": "stderr",
     "output_type": "stream",
     "text": [
      " 18%|█▊        | 369/2000 [01:13<04:15,  6.38it/s]"
     ]
    },
    {
     "name": "stdout",
     "output_type": "stream",
     "text": [
      "Training_loss 17.47722,   Relative Error 0.51485\n",
      "Training_loss 17.44853,   Relative Error 0.51452\n"
     ]
    },
    {
     "name": "stderr",
     "output_type": "stream",
     "text": [
      " 19%|█▊        | 371/2000 [01:13<04:10,  6.50it/s]"
     ]
    },
    {
     "name": "stdout",
     "output_type": "stream",
     "text": [
      "Training_loss 17.43615,   Relative Error 0.51443\n",
      "Training_loss 17.40885,   Relative Error 0.51411\n"
     ]
    },
    {
     "name": "stderr",
     "output_type": "stream",
     "text": [
      " 19%|█▊        | 373/2000 [01:13<04:11,  6.46it/s]"
     ]
    },
    {
     "name": "stdout",
     "output_type": "stream",
     "text": [
      "Training_loss 17.40308,   Relative Error 0.51407\n",
      "Training_loss 17.39390,   Relative Error 0.51403\n"
     ]
    },
    {
     "name": "stderr",
     "output_type": "stream",
     "text": [
      " 19%|█▉        | 375/2000 [01:14<04:20,  6.23it/s]"
     ]
    },
    {
     "name": "stdout",
     "output_type": "stream",
     "text": [
      "Training_loss 17.37419,   Relative Error 0.51371\n",
      "Training_loss 17.37065,   Relative Error 0.51367\n"
     ]
    },
    {
     "name": "stderr",
     "output_type": "stream",
     "text": [
      " 19%|█▉        | 377/2000 [01:14<04:15,  6.36it/s]"
     ]
    },
    {
     "name": "stdout",
     "output_type": "stream",
     "text": [
      "Training_loss 17.36665,   Relative Error 0.51359\n",
      "Training_loss 17.35894,   Relative Error 0.51349\n"
     ]
    },
    {
     "name": "stderr",
     "output_type": "stream",
     "text": [
      " 19%|█▉        | 379/2000 [01:14<04:12,  6.41it/s]"
     ]
    },
    {
     "name": "stdout",
     "output_type": "stream",
     "text": [
      "Training_loss 17.35582,   Relative Error 0.51343\n",
      "Training_loss 17.33569,   Relative Error 0.51310\n"
     ]
    },
    {
     "name": "stderr",
     "output_type": "stream",
     "text": [
      " 19%|█▉        | 381/2000 [01:15<04:10,  6.45it/s]"
     ]
    },
    {
     "name": "stdout",
     "output_type": "stream",
     "text": [
      "Training_loss 17.33412,   Relative Error 0.51307\n",
      "Training_loss 17.33128,   Relative Error 0.51300\n"
     ]
    },
    {
     "name": "stderr",
     "output_type": "stream",
     "text": [
      " 19%|█▉        | 383/2000 [01:15<04:12,  6.41it/s]"
     ]
    },
    {
     "name": "stdout",
     "output_type": "stream",
     "text": [
      "Training_loss 17.32592,   Relative Error 0.51297\n",
      "Training_loss 17.32207,   Relative Error 0.51291\n"
     ]
    },
    {
     "name": "stderr",
     "output_type": "stream",
     "text": [
      " 19%|█▉        | 385/2000 [01:15<04:09,  6.46it/s]"
     ]
    },
    {
     "name": "stdout",
     "output_type": "stream",
     "text": [
      "Training_loss 17.30431,   Relative Error 0.51259\n",
      "Training_loss 17.28042,   Relative Error 0.51229\n"
     ]
    },
    {
     "name": "stderr",
     "output_type": "stream",
     "text": [
      " 19%|█▉        | 387/2000 [01:16<04:10,  6.43it/s]"
     ]
    },
    {
     "name": "stdout",
     "output_type": "stream",
     "text": [
      "Training_loss 17.27263,   Relative Error 0.51221\n",
      "Training_loss 17.26184,   Relative Error 0.51213\n"
     ]
    },
    {
     "name": "stderr",
     "output_type": "stream",
     "text": [
      "\r",
      " 19%|█▉        | 388/2000 [01:16<04:27,  6.03it/s]"
     ]
    },
    {
     "name": "stdout",
     "output_type": "stream",
     "text": [
      "Training_loss 17.23945,   Relative Error 0.51181\n"
     ]
    },
    {
     "name": "stderr",
     "output_type": "stream",
     "text": [
      "\r",
      " 19%|█▉        | 389/2000 [01:16<04:52,  5.51it/s]"
     ]
    },
    {
     "name": "stdout",
     "output_type": "stream",
     "text": [
      "Training_loss 17.23078,   Relative Error 0.51177\n"
     ]
    },
    {
     "name": "stderr",
     "output_type": "stream",
     "text": [
      "\r",
      " 20%|█▉        | 390/2000 [01:16<05:34,  4.82it/s]"
     ]
    },
    {
     "name": "stdout",
     "output_type": "stream",
     "text": [
      "Training_loss 17.22472,   Relative Error 0.51173\n"
     ]
    },
    {
     "name": "stderr",
     "output_type": "stream",
     "text": [
      " 20%|█▉        | 392/2000 [01:17<05:24,  4.95it/s]"
     ]
    },
    {
     "name": "stdout",
     "output_type": "stream",
     "text": [
      "Training_loss 17.22576,   Relative Error 0.51169\n",
      "Training_loss 17.20723,   Relative Error 0.51136\n"
     ]
    },
    {
     "name": "stderr",
     "output_type": "stream",
     "text": [
      " 20%|█▉        | 394/2000 [01:17<04:58,  5.38it/s]"
     ]
    },
    {
     "name": "stdout",
     "output_type": "stream",
     "text": [
      "Training_loss 17.20559,   Relative Error 0.51128\n",
      "Training_loss 17.19388,   Relative Error 0.51123\n"
     ]
    },
    {
     "name": "stderr",
     "output_type": "stream",
     "text": [
      " 20%|█▉        | 396/2000 [01:17<04:45,  5.62it/s]"
     ]
    },
    {
     "name": "stdout",
     "output_type": "stream",
     "text": [
      "Training_loss 17.18670,   Relative Error 0.51119\n",
      "Training_loss 17.17346,   Relative Error 0.51089\n"
     ]
    },
    {
     "name": "stderr",
     "output_type": "stream",
     "text": [
      " 20%|█▉        | 398/2000 [01:18<04:25,  6.03it/s]"
     ]
    },
    {
     "name": "stdout",
     "output_type": "stream",
     "text": [
      "Training_loss 17.16062,   Relative Error 0.51059\n",
      "Training_loss 17.13934,   Relative Error 0.51025\n"
     ]
    },
    {
     "name": "stderr",
     "output_type": "stream",
     "text": [
      " 20%|██        | 400/2000 [01:18<04:14,  6.28it/s]"
     ]
    },
    {
     "name": "stdout",
     "output_type": "stream",
     "text": [
      "Training_loss 17.12880,   Relative Error 0.51019\n",
      "Training_loss 17.12354,   Relative Error 0.51011\n"
     ]
    },
    {
     "name": "stderr",
     "output_type": "stream",
     "text": [
      " 20%|██        | 402/2000 [01:18<04:21,  6.12it/s]"
     ]
    },
    {
     "name": "stdout",
     "output_type": "stream",
     "text": [
      "Training_loss 17.12434,   Relative Error 0.51007\n",
      "Training_loss 17.12278,   Relative Error 0.51003\n"
     ]
    },
    {
     "name": "stderr",
     "output_type": "stream",
     "text": [
      " 20%|██        | 404/2000 [01:19<04:22,  6.09it/s]"
     ]
    },
    {
     "name": "stdout",
     "output_type": "stream",
     "text": [
      "Training_loss 17.10799,   Relative Error 0.50975\n",
      "Training_loss 17.09783,   Relative Error 0.50967\n"
     ]
    },
    {
     "name": "stderr",
     "output_type": "stream",
     "text": [
      " 20%|██        | 406/2000 [01:19<04:29,  5.92it/s]"
     ]
    },
    {
     "name": "stdout",
     "output_type": "stream",
     "text": [
      "Training_loss 17.08142,   Relative Error 0.50939\n",
      "Training_loss 17.06562,   Relative Error 0.50912\n"
     ]
    },
    {
     "name": "stderr",
     "output_type": "stream",
     "text": [
      " 20%|██        | 408/2000 [01:19<04:33,  5.81it/s]"
     ]
    },
    {
     "name": "stdout",
     "output_type": "stream",
     "text": [
      "Training_loss 17.05978,   Relative Error 0.50904\n",
      "Training_loss 17.04936,   Relative Error 0.50896\n"
     ]
    },
    {
     "name": "stderr",
     "output_type": "stream",
     "text": [
      " 20%|██        | 410/2000 [01:20<04:30,  5.89it/s]"
     ]
    },
    {
     "name": "stdout",
     "output_type": "stream",
     "text": [
      "Training_loss 17.03459,   Relative Error 0.50865\n",
      "Training_loss 17.03436,   Relative Error 0.50858\n"
     ]
    },
    {
     "name": "stderr",
     "output_type": "stream",
     "text": [
      " 21%|██        | 412/2000 [01:20<04:31,  5.84it/s]"
     ]
    },
    {
     "name": "stdout",
     "output_type": "stream",
     "text": [
      "Training_loss 17.03370,   Relative Error 0.50852\n",
      "Training_loss 17.02377,   Relative Error 0.50847\n"
     ]
    },
    {
     "name": "stderr",
     "output_type": "stream",
     "text": [
      " 21%|██        | 414/2000 [01:20<04:25,  5.98it/s]"
     ]
    },
    {
     "name": "stdout",
     "output_type": "stream",
     "text": [
      "Training_loss 17.01776,   Relative Error 0.50842\n",
      "Training_loss 17.01342,   Relative Error 0.50836\n"
     ]
    },
    {
     "name": "stderr",
     "output_type": "stream",
     "text": [
      " 21%|██        | 416/2000 [01:21<04:14,  6.23it/s]"
     ]
    },
    {
     "name": "stdout",
     "output_type": "stream",
     "text": [
      "Training_loss 17.00762,   Relative Error 0.50832\n",
      "Training_loss 16.98281,   Relative Error 0.50802\n"
     ]
    },
    {
     "name": "stderr",
     "output_type": "stream",
     "text": [
      " 21%|██        | 418/2000 [01:21<04:19,  6.09it/s]"
     ]
    },
    {
     "name": "stdout",
     "output_type": "stream",
     "text": [
      "Training_loss 16.97711,   Relative Error 0.50796\n",
      "Training_loss 16.97220,   Relative Error 0.50791\n"
     ]
    },
    {
     "name": "stderr",
     "output_type": "stream",
     "text": [
      " 21%|██        | 420/2000 [01:21<04:14,  6.21it/s]"
     ]
    },
    {
     "name": "stdout",
     "output_type": "stream",
     "text": [
      "Training_loss 16.95239,   Relative Error 0.50761\n",
      "Training_loss 16.94085,   Relative Error 0.50757\n"
     ]
    },
    {
     "name": "stderr",
     "output_type": "stream",
     "text": [
      " 21%|██        | 422/2000 [01:22<04:02,  6.52it/s]"
     ]
    },
    {
     "name": "stdout",
     "output_type": "stream",
     "text": [
      "Training_loss 16.92862,   Relative Error 0.50750\n",
      "Training_loss 16.91313,   Relative Error 0.50722\n"
     ]
    },
    {
     "name": "stderr",
     "output_type": "stream",
     "text": [
      " 21%|██        | 424/2000 [01:22<03:58,  6.62it/s]"
     ]
    },
    {
     "name": "stdout",
     "output_type": "stream",
     "text": [
      "Training_loss 16.90811,   Relative Error 0.50716\n",
      "Training_loss 16.90207,   Relative Error 0.50709\n"
     ]
    },
    {
     "name": "stderr",
     "output_type": "stream",
     "text": [
      " 21%|██▏       | 426/2000 [01:22<04:07,  6.35it/s]"
     ]
    },
    {
     "name": "stdout",
     "output_type": "stream",
     "text": [
      "Training_loss 16.88900,   Relative Error 0.50705\n",
      "Training_loss 16.89012,   Relative Error 0.50700\n"
     ]
    },
    {
     "name": "stderr",
     "output_type": "stream",
     "text": [
      "\r",
      " 21%|██▏       | 427/2000 [01:22<04:16,  6.14it/s]"
     ]
    },
    {
     "name": "stdout",
     "output_type": "stream",
     "text": [
      "Training_loss 16.87285,   Relative Error 0.50670\n"
     ]
    },
    {
     "name": "stderr",
     "output_type": "stream",
     "text": [
      "\r",
      " 21%|██▏       | 428/2000 [01:23<04:43,  5.54it/s]"
     ]
    },
    {
     "name": "stdout",
     "output_type": "stream",
     "text": [
      "Training_loss 16.86542,   Relative Error 0.50664\n"
     ]
    },
    {
     "name": "stderr",
     "output_type": "stream",
     "text": [
      "\r",
      " 21%|██▏       | 429/2000 [01:23<04:56,  5.30it/s]"
     ]
    },
    {
     "name": "stdout",
     "output_type": "stream",
     "text": [
      "Training_loss 16.86337,   Relative Error 0.50658\n"
     ]
    },
    {
     "name": "stderr",
     "output_type": "stream",
     "text": [
      " 22%|██▏       | 431/2000 [01:23<05:01,  5.21it/s]"
     ]
    },
    {
     "name": "stdout",
     "output_type": "stream",
     "text": [
      "Training_loss 16.85949,   Relative Error 0.50654\n",
      "Training_loss 16.85418,   Relative Error 0.50647\n"
     ]
    },
    {
     "name": "stderr",
     "output_type": "stream",
     "text": [
      "\r",
      " 22%|██▏       | 432/2000 [01:23<05:02,  5.19it/s]"
     ]
    },
    {
     "name": "stdout",
     "output_type": "stream",
     "text": [
      "Training_loss 16.83276,   Relative Error 0.50618\n"
     ]
    },
    {
     "name": "stderr",
     "output_type": "stream",
     "text": [
      " 22%|██▏       | 434/2000 [01:24<05:18,  4.92it/s]"
     ]
    },
    {
     "name": "stdout",
     "output_type": "stream",
     "text": [
      "Training_loss 16.82489,   Relative Error 0.50613\n",
      "Training_loss 16.81245,   Relative Error 0.50584\n"
     ]
    },
    {
     "name": "stderr",
     "output_type": "stream",
     "text": [
      "\r",
      " 22%|██▏       | 435/2000 [01:24<05:49,  4.48it/s]"
     ]
    },
    {
     "name": "stdout",
     "output_type": "stream",
     "text": [
      "Training_loss 16.79556,   Relative Error 0.50555\n"
     ]
    },
    {
     "name": "stderr",
     "output_type": "stream",
     "text": [
      "\r",
      " 22%|██▏       | 436/2000 [01:24<06:00,  4.34it/s]"
     ]
    },
    {
     "name": "stdout",
     "output_type": "stream",
     "text": [
      "Training_loss 16.77304,   Relative Error 0.50528\n"
     ]
    },
    {
     "name": "stderr",
     "output_type": "stream",
     "text": [
      "\r",
      " 22%|██▏       | 437/2000 [01:25<06:32,  3.98it/s]"
     ]
    },
    {
     "name": "stdout",
     "output_type": "stream",
     "text": [
      "Training_loss 16.76473,   Relative Error 0.50524\n"
     ]
    },
    {
     "name": "stderr",
     "output_type": "stream",
     "text": [
      "\r",
      " 22%|██▏       | 438/2000 [01:25<06:49,  3.81it/s]"
     ]
    },
    {
     "name": "stdout",
     "output_type": "stream",
     "text": [
      "Training_loss 16.76034,   Relative Error 0.50520\n"
     ]
    },
    {
     "name": "stderr",
     "output_type": "stream",
     "text": [
      "\r",
      " 22%|██▏       | 439/2000 [01:25<06:59,  3.72it/s]"
     ]
    },
    {
     "name": "stdout",
     "output_type": "stream",
     "text": [
      "Training_loss 16.75500,   Relative Error 0.50515\n"
     ]
    },
    {
     "name": "stderr",
     "output_type": "stream",
     "text": [
      "\r",
      " 22%|██▏       | 440/2000 [01:25<07:10,  3.62it/s]"
     ]
    },
    {
     "name": "stdout",
     "output_type": "stream",
     "text": [
      "Training_loss 16.74439,   Relative Error 0.50485\n"
     ]
    },
    {
     "name": "stderr",
     "output_type": "stream",
     "text": [
      "\r",
      " 22%|██▏       | 441/2000 [01:26<07:17,  3.56it/s]"
     ]
    },
    {
     "name": "stdout",
     "output_type": "stream",
     "text": [
      "Training_loss 16.73877,   Relative Error 0.50480\n"
     ]
    },
    {
     "name": "stderr",
     "output_type": "stream",
     "text": [
      "\r",
      " 22%|██▏       | 442/2000 [01:26<07:07,  3.64it/s]"
     ]
    },
    {
     "name": "stdout",
     "output_type": "stream",
     "text": [
      "Training_loss 16.73208,   Relative Error 0.50475\n"
     ]
    },
    {
     "name": "stderr",
     "output_type": "stream",
     "text": [
      "\r",
      " 22%|██▏       | 443/2000 [01:26<07:05,  3.66it/s]"
     ]
    },
    {
     "name": "stdout",
     "output_type": "stream",
     "text": [
      "Training_loss 16.73400,   Relative Error 0.50468\n"
     ]
    },
    {
     "name": "stderr",
     "output_type": "stream",
     "text": [
      "\r",
      " 22%|██▏       | 444/2000 [01:27<07:03,  3.67it/s]"
     ]
    },
    {
     "name": "stdout",
     "output_type": "stream",
     "text": [
      "Training_loss 16.72581,   Relative Error 0.50465\n"
     ]
    },
    {
     "name": "stderr",
     "output_type": "stream",
     "text": [
      "\r",
      " 22%|██▏       | 445/2000 [01:27<06:46,  3.82it/s]"
     ]
    },
    {
     "name": "stdout",
     "output_type": "stream",
     "text": [
      "Training_loss 16.71823,   Relative Error 0.50460\n"
     ]
    },
    {
     "name": "stderr",
     "output_type": "stream",
     "text": [
      "\r",
      " 22%|██▏       | 446/2000 [01:27<06:44,  3.84it/s]"
     ]
    },
    {
     "name": "stdout",
     "output_type": "stream",
     "text": [
      "Training_loss 16.70901,   Relative Error 0.50432\n"
     ]
    },
    {
     "name": "stderr",
     "output_type": "stream",
     "text": [
      " 22%|██▏       | 448/2000 [01:27<06:10,  4.19it/s]"
     ]
    },
    {
     "name": "stdout",
     "output_type": "stream",
     "text": [
      "Training_loss 16.70277,   Relative Error 0.50427\n",
      "Training_loss 16.68944,   Relative Error 0.50400\n"
     ]
    },
    {
     "name": "stderr",
     "output_type": "stream",
     "text": [
      " 22%|██▎       | 450/2000 [01:28<05:55,  4.36it/s]"
     ]
    },
    {
     "name": "stdout",
     "output_type": "stream",
     "text": [
      "Training_loss 16.66982,   Relative Error 0.50372\n",
      "Training_loss 16.66573,   Relative Error 0.50368\n"
     ]
    },
    {
     "name": "stderr",
     "output_type": "stream",
     "text": [
      "\r",
      " 23%|██▎       | 451/2000 [01:28<05:49,  4.43it/s]"
     ]
    },
    {
     "name": "stdout",
     "output_type": "stream",
     "text": [
      "Training_loss 16.66252,   Relative Error 0.50362\n"
     ]
    },
    {
     "name": "stderr",
     "output_type": "stream",
     "text": [
      "\r",
      " 23%|██▎       | 452/2000 [01:28<05:42,  4.52it/s]"
     ]
    },
    {
     "name": "stdout",
     "output_type": "stream",
     "text": [
      "Training_loss 16.64293,   Relative Error 0.50335\n"
     ]
    },
    {
     "name": "stderr",
     "output_type": "stream",
     "text": [
      " 23%|██▎       | 454/2000 [01:29<05:37,  4.58it/s]"
     ]
    },
    {
     "name": "stdout",
     "output_type": "stream",
     "text": [
      "Training_loss 16.62218,   Relative Error 0.50310\n",
      "Training_loss 16.61282,   Relative Error 0.50282\n"
     ]
    },
    {
     "name": "stderr",
     "output_type": "stream",
     "text": [
      "\r",
      " 23%|██▎       | 455/2000 [01:29<05:44,  4.48it/s]"
     ]
    },
    {
     "name": "stdout",
     "output_type": "stream",
     "text": [
      "Training_loss 16.59356,   Relative Error 0.50256\n"
     ]
    },
    {
     "name": "stderr",
     "output_type": "stream",
     "text": [
      "\r",
      " 23%|██▎       | 456/2000 [01:29<05:54,  4.36it/s]"
     ]
    },
    {
     "name": "stdout",
     "output_type": "stream",
     "text": [
      "Training_loss 16.58156,   Relative Error 0.50229\n"
     ]
    },
    {
     "name": "stderr",
     "output_type": "stream",
     "text": [
      "\r",
      " 23%|██▎       | 457/2000 [01:29<06:00,  4.28it/s]"
     ]
    },
    {
     "name": "stdout",
     "output_type": "stream",
     "text": [
      "Training_loss 16.56491,   Relative Error 0.50204\n"
     ]
    },
    {
     "name": "stderr",
     "output_type": "stream",
     "text": [
      "\r",
      " 23%|██▎       | 458/2000 [01:30<06:00,  4.28it/s]"
     ]
    },
    {
     "name": "stdout",
     "output_type": "stream",
     "text": [
      "Training_loss 16.55939,   Relative Error 0.50198\n"
     ]
    },
    {
     "name": "stderr",
     "output_type": "stream",
     "text": [
      "\r",
      " 23%|██▎       | 459/2000 [01:30<05:57,  4.31it/s]"
     ]
    },
    {
     "name": "stdout",
     "output_type": "stream",
     "text": [
      "Training_loss 16.55473,   Relative Error 0.50193\n"
     ]
    },
    {
     "name": "stderr",
     "output_type": "stream",
     "text": [
      "\r",
      " 23%|██▎       | 460/2000 [01:30<05:55,  4.33it/s]"
     ]
    },
    {
     "name": "stdout",
     "output_type": "stream",
     "text": [
      "Training_loss 16.54449,   Relative Error 0.50167\n"
     ]
    },
    {
     "name": "stderr",
     "output_type": "stream",
     "text": [
      "\r",
      " 23%|██▎       | 461/2000 [01:30<06:03,  4.24it/s]"
     ]
    },
    {
     "name": "stdout",
     "output_type": "stream",
     "text": [
      "Training_loss 16.53737,   Relative Error 0.50163\n"
     ]
    },
    {
     "name": "stderr",
     "output_type": "stream",
     "text": [
      "\r",
      " 23%|██▎       | 462/2000 [01:31<05:56,  4.32it/s]"
     ]
    },
    {
     "name": "stdout",
     "output_type": "stream",
     "text": [
      "Training_loss 16.53148,   Relative Error 0.50158\n"
     ]
    },
    {
     "name": "stderr",
     "output_type": "stream",
     "text": [
      "\r",
      " 23%|██▎       | 463/2000 [01:31<05:43,  4.47it/s]"
     ]
    },
    {
     "name": "stdout",
     "output_type": "stream",
     "text": [
      "Training_loss 16.52202,   Relative Error 0.50133\n"
     ]
    },
    {
     "name": "stderr",
     "output_type": "stream",
     "text": [
      "\r",
      " 23%|██▎       | 464/2000 [01:31<05:45,  4.45it/s]"
     ]
    },
    {
     "name": "stdout",
     "output_type": "stream",
     "text": [
      "Training_loss 16.51416,   Relative Error 0.50108\n"
     ]
    },
    {
     "name": "stderr",
     "output_type": "stream",
     "text": [
      "\r",
      " 23%|██▎       | 465/2000 [01:31<05:59,  4.28it/s]"
     ]
    },
    {
     "name": "stdout",
     "output_type": "stream",
     "text": [
      "Training_loss 16.50507,   Relative Error 0.50103\n"
     ]
    },
    {
     "name": "stderr",
     "output_type": "stream",
     "text": [
      "\r",
      " 23%|██▎       | 466/2000 [01:32<06:01,  4.25it/s]"
     ]
    },
    {
     "name": "stdout",
     "output_type": "stream",
     "text": [
      "Training_loss 16.50332,   Relative Error 0.50098\n"
     ]
    },
    {
     "name": "stderr",
     "output_type": "stream",
     "text": [
      " 23%|██▎       | 468/2000 [01:32<05:47,  4.41it/s]"
     ]
    },
    {
     "name": "stdout",
     "output_type": "stream",
     "text": [
      "Training_loss 16.48902,   Relative Error 0.50074\n",
      "Training_loss 16.47417,   Relative Error 0.50049\n"
     ]
    },
    {
     "name": "stderr",
     "output_type": "stream",
     "text": [
      " 24%|██▎       | 470/2000 [01:32<05:16,  4.83it/s]"
     ]
    },
    {
     "name": "stdout",
     "output_type": "stream",
     "text": [
      "Training_loss 16.45755,   Relative Error 0.50025\n",
      "Training_loss 16.45345,   Relative Error 0.50019\n"
     ]
    },
    {
     "name": "stderr",
     "output_type": "stream",
     "text": [
      " 24%|██▎       | 472/2000 [01:33<04:46,  5.34it/s]"
     ]
    },
    {
     "name": "stdout",
     "output_type": "stream",
     "text": [
      "Training_loss 16.45229,   Relative Error 0.50013\n",
      "Training_loss 16.44489,   Relative Error 0.49988\n"
     ]
    },
    {
     "name": "stderr",
     "output_type": "stream",
     "text": [
      " 24%|██▎       | 474/2000 [01:33<04:24,  5.76it/s]"
     ]
    },
    {
     "name": "stdout",
     "output_type": "stream",
     "text": [
      "Training_loss 16.43565,   Relative Error 0.49985\n",
      "Training_loss 16.42013,   Relative Error 0.49962\n"
     ]
    },
    {
     "name": "stderr",
     "output_type": "stream",
     "text": [
      " 24%|██▍       | 476/2000 [01:33<04:16,  5.93it/s]"
     ]
    },
    {
     "name": "stdout",
     "output_type": "stream",
     "text": [
      "Training_loss 16.41861,   Relative Error 0.49957\n",
      "Training_loss 16.42056,   Relative Error 0.49951\n"
     ]
    },
    {
     "name": "stderr",
     "output_type": "stream",
     "text": [
      "\r",
      " 24%|██▍       | 477/2000 [01:34<05:12,  4.87it/s]"
     ]
    },
    {
     "name": "stdout",
     "output_type": "stream",
     "text": [
      "Training_loss 16.41660,   Relative Error 0.49945\n"
     ]
    },
    {
     "name": "stderr",
     "output_type": "stream",
     "text": [
      "\r",
      " 24%|██▍       | 478/2000 [01:34<06:01,  4.22it/s]"
     ]
    },
    {
     "name": "stdout",
     "output_type": "stream",
     "text": [
      "Training_loss 16.40788,   Relative Error 0.49942\n"
     ]
    },
    {
     "name": "stderr",
     "output_type": "stream",
     "text": [
      "\r",
      " 24%|██▍       | 479/2000 [01:34<05:49,  4.35it/s]"
     ]
    },
    {
     "name": "stdout",
     "output_type": "stream",
     "text": [
      "Training_loss 16.39980,   Relative Error 0.49939\n"
     ]
    },
    {
     "name": "stderr",
     "output_type": "stream",
     "text": [
      " 24%|██▍       | 481/2000 [01:35<05:33,  4.56it/s]"
     ]
    },
    {
     "name": "stdout",
     "output_type": "stream",
     "text": [
      "Training_loss 16.39092,   Relative Error 0.49915\n",
      "Training_loss 16.39084,   Relative Error 0.49910\n"
     ]
    },
    {
     "name": "stderr",
     "output_type": "stream",
     "text": [
      " 24%|██▍       | 483/2000 [01:35<05:27,  4.63it/s]"
     ]
    },
    {
     "name": "stdout",
     "output_type": "stream",
     "text": [
      "Training_loss 16.38584,   Relative Error 0.49905\n",
      "Training_loss 16.37682,   Relative Error 0.49881\n"
     ]
    },
    {
     "name": "stderr",
     "output_type": "stream",
     "text": [
      " 24%|██▍       | 485/2000 [01:35<04:48,  5.25it/s]"
     ]
    },
    {
     "name": "stdout",
     "output_type": "stream",
     "text": [
      "Training_loss 16.37109,   Relative Error 0.49875\n",
      "Training_loss 16.36123,   Relative Error 0.49851\n"
     ]
    },
    {
     "name": "stderr",
     "output_type": "stream",
     "text": [
      " 24%|██▍       | 487/2000 [01:36<05:02,  5.00it/s]"
     ]
    },
    {
     "name": "stdout",
     "output_type": "stream",
     "text": [
      "Training_loss 16.34668,   Relative Error 0.49829\n",
      "Training_loss 16.33775,   Relative Error 0.49826\n"
     ]
    },
    {
     "name": "stderr",
     "output_type": "stream",
     "text": [
      " 24%|██▍       | 489/2000 [01:36<04:48,  5.23it/s]"
     ]
    },
    {
     "name": "stdout",
     "output_type": "stream",
     "text": [
      "Training_loss 16.32892,   Relative Error 0.49804\n",
      "Training_loss 16.32263,   Relative Error 0.49800\n"
     ]
    },
    {
     "name": "stderr",
     "output_type": "stream",
     "text": [
      " 25%|██▍       | 491/2000 [01:37<04:34,  5.50it/s]"
     ]
    },
    {
     "name": "stdout",
     "output_type": "stream",
     "text": [
      "Training_loss 16.31279,   Relative Error 0.49780\n",
      "Training_loss 16.30919,   Relative Error 0.49777\n"
     ]
    },
    {
     "name": "stderr",
     "output_type": "stream",
     "text": [
      " 25%|██▍       | 493/2000 [01:37<04:57,  5.06it/s]"
     ]
    },
    {
     "name": "stdout",
     "output_type": "stream",
     "text": [
      "Training_loss 16.30224,   Relative Error 0.49770\n",
      "Training_loss 16.28256,   Relative Error 0.49748\n"
     ]
    },
    {
     "name": "stderr",
     "output_type": "stream",
     "text": [
      " 25%|██▍       | 495/2000 [01:37<04:59,  5.02it/s]"
     ]
    },
    {
     "name": "stdout",
     "output_type": "stream",
     "text": [
      "Training_loss 16.26771,   Relative Error 0.49729\n",
      "Training_loss 16.26526,   Relative Error 0.49721\n"
     ]
    },
    {
     "name": "stderr",
     "output_type": "stream",
     "text": [
      " 25%|██▍       | 497/2000 [01:38<04:56,  5.06it/s]"
     ]
    },
    {
     "name": "stdout",
     "output_type": "stream",
     "text": [
      "Training_loss 16.25478,   Relative Error 0.49701\n",
      "Training_loss 16.25138,   Relative Error 0.49695\n"
     ]
    },
    {
     "name": "stderr",
     "output_type": "stream",
     "text": [
      " 25%|██▍       | 499/2000 [01:38<04:47,  5.21it/s]"
     ]
    },
    {
     "name": "stdout",
     "output_type": "stream",
     "text": [
      "Training_loss 16.24817,   Relative Error 0.49689\n",
      "Training_loss 16.24331,   Relative Error 0.49684\n"
     ]
    },
    {
     "name": "stderr",
     "output_type": "stream",
     "text": [
      " 25%|██▌       | 501/2000 [01:38<04:25,  5.64it/s]"
     ]
    },
    {
     "name": "stdout",
     "output_type": "stream",
     "text": [
      "Training_loss 16.22678,   Relative Error 0.49662\n",
      "Training_loss 16.21741,   Relative Error 0.49638\n"
     ]
    },
    {
     "name": "stderr",
     "output_type": "stream",
     "text": [
      " 25%|██▌       | 503/2000 [01:39<04:16,  5.83it/s]"
     ]
    },
    {
     "name": "stdout",
     "output_type": "stream",
     "text": [
      "Training_loss 16.21020,   Relative Error 0.49635\n",
      "Training_loss 16.19408,   Relative Error 0.49614\n"
     ]
    },
    {
     "name": "stderr",
     "output_type": "stream",
     "text": [
      " 25%|██▌       | 505/2000 [01:39<04:04,  6.12it/s]"
     ]
    },
    {
     "name": "stdout",
     "output_type": "stream",
     "text": [
      "Training_loss 16.18455,   Relative Error 0.49596\n",
      "Training_loss 16.17558,   Relative Error 0.49590\n"
     ]
    },
    {
     "name": "stderr",
     "output_type": "stream",
     "text": [
      " 25%|██▌       | 507/2000 [01:39<04:09,  5.98it/s]"
     ]
    },
    {
     "name": "stdout",
     "output_type": "stream",
     "text": [
      "Training_loss 16.16443,   Relative Error 0.49568\n",
      "Training_loss 16.15790,   Relative Error 0.49562\n"
     ]
    },
    {
     "name": "stderr",
     "output_type": "stream",
     "text": [
      " 25%|██▌       | 509/2000 [01:40<04:07,  6.02it/s]"
     ]
    },
    {
     "name": "stdout",
     "output_type": "stream",
     "text": [
      "Training_loss 16.14634,   Relative Error 0.49542\n",
      "Training_loss 16.13050,   Relative Error 0.49520\n"
     ]
    },
    {
     "name": "stderr",
     "output_type": "stream",
     "text": [
      " 26%|██▌       | 511/2000 [01:40<04:23,  5.66it/s]"
     ]
    },
    {
     "name": "stdout",
     "output_type": "stream",
     "text": [
      "Training_loss 16.11958,   Relative Error 0.49500\n",
      "Training_loss 16.10582,   Relative Error 0.49481\n"
     ]
    },
    {
     "name": "stderr",
     "output_type": "stream",
     "text": [
      " 26%|██▌       | 513/2000 [01:41<04:36,  5.38it/s]"
     ]
    },
    {
     "name": "stdout",
     "output_type": "stream",
     "text": [
      "Training_loss 16.10157,   Relative Error 0.49477\n",
      "Training_loss 16.09349,   Relative Error 0.49471\n"
     ]
    },
    {
     "name": "stderr",
     "output_type": "stream",
     "text": [
      " 26%|██▌       | 515/2000 [01:41<04:42,  5.26it/s]"
     ]
    },
    {
     "name": "stdout",
     "output_type": "stream",
     "text": [
      "Training_loss 16.08057,   Relative Error 0.49451\n",
      "Training_loss 16.07897,   Relative Error 0.49444\n"
     ]
    },
    {
     "name": "stderr",
     "output_type": "stream",
     "text": [
      " 26%|██▌       | 517/2000 [01:41<04:36,  5.37it/s]"
     ]
    },
    {
     "name": "stdout",
     "output_type": "stream",
     "text": [
      "Training_loss 16.07664,   Relative Error 0.49423\n",
      "Training_loss 16.07263,   Relative Error 0.49404\n"
     ]
    },
    {
     "name": "stderr",
     "output_type": "stream",
     "text": [
      " 26%|██▌       | 519/2000 [01:42<04:26,  5.56it/s]"
     ]
    },
    {
     "name": "stdout",
     "output_type": "stream",
     "text": [
      "Training_loss 16.06434,   Relative Error 0.49387\n",
      "Training_loss 16.05558,   Relative Error 0.49370\n"
     ]
    },
    {
     "name": "stderr",
     "output_type": "stream",
     "text": [
      " 26%|██▌       | 521/2000 [01:42<04:10,  5.90it/s]"
     ]
    },
    {
     "name": "stdout",
     "output_type": "stream",
     "text": [
      "Training_loss 16.04470,   Relative Error 0.49352\n",
      "Training_loss 16.04115,   Relative Error 0.49345\n"
     ]
    },
    {
     "name": "stderr",
     "output_type": "stream",
     "text": [
      " 26%|██▌       | 523/2000 [01:42<04:24,  5.59it/s]"
     ]
    },
    {
     "name": "stdout",
     "output_type": "stream",
     "text": [
      "Training_loss 16.02882,   Relative Error 0.49340\n",
      "Training_loss 16.01975,   Relative Error 0.49334\n"
     ]
    },
    {
     "name": "stderr",
     "output_type": "stream",
     "text": [
      " 26%|██▋       | 525/2000 [01:43<04:02,  6.07it/s]"
     ]
    },
    {
     "name": "stdout",
     "output_type": "stream",
     "text": [
      "Training_loss 16.00685,   Relative Error 0.49317\n",
      "Training_loss 16.00434,   Relative Error 0.49309\n"
     ]
    },
    {
     "name": "stderr",
     "output_type": "stream",
     "text": [
      " 26%|██▋       | 527/2000 [01:43<03:50,  6.38it/s]"
     ]
    },
    {
     "name": "stdout",
     "output_type": "stream",
     "text": [
      "Training_loss 15.99846,   Relative Error 0.49302\n",
      "Training_loss 15.99006,   Relative Error 0.49296\n"
     ]
    },
    {
     "name": "stderr",
     "output_type": "stream",
     "text": [
      " 26%|██▋       | 529/2000 [01:43<03:43,  6.59it/s]"
     ]
    },
    {
     "name": "stdout",
     "output_type": "stream",
     "text": [
      "Training_loss 15.98814,   Relative Error 0.49277\n",
      "Training_loss 15.97836,   Relative Error 0.49257\n"
     ]
    },
    {
     "name": "stderr",
     "output_type": "stream",
     "text": [
      " 27%|██▋       | 531/2000 [01:44<04:05,  5.97it/s]"
     ]
    },
    {
     "name": "stdout",
     "output_type": "stream",
     "text": [
      "Training_loss 15.97300,   Relative Error 0.49250\n",
      "Training_loss 15.97117,   Relative Error 0.49246\n"
     ]
    },
    {
     "name": "stderr",
     "output_type": "stream",
     "text": [
      " 27%|██▋       | 533/2000 [01:44<04:02,  6.04it/s]"
     ]
    },
    {
     "name": "stdout",
     "output_type": "stream",
     "text": [
      "Training_loss 15.96322,   Relative Error 0.49241\n",
      "Training_loss 15.95011,   Relative Error 0.49222\n"
     ]
    },
    {
     "name": "stderr",
     "output_type": "stream",
     "text": [
      " 27%|██▋       | 535/2000 [01:44<04:10,  5.84it/s]"
     ]
    },
    {
     "name": "stdout",
     "output_type": "stream",
     "text": [
      "Training_loss 15.94144,   Relative Error 0.49201\n",
      "Training_loss 15.93409,   Relative Error 0.49184\n"
     ]
    },
    {
     "name": "stderr",
     "output_type": "stream",
     "text": [
      " 27%|██▋       | 537/2000 [01:45<04:07,  5.90it/s]"
     ]
    },
    {
     "name": "stdout",
     "output_type": "stream",
     "text": [
      "Training_loss 15.92283,   Relative Error 0.49168\n",
      "Training_loss 15.91682,   Relative Error 0.49150\n"
     ]
    },
    {
     "name": "stderr",
     "output_type": "stream",
     "text": [
      " 27%|██▋       | 539/2000 [01:45<04:04,  5.97it/s]"
     ]
    },
    {
     "name": "stdout",
     "output_type": "stream",
     "text": [
      "Training_loss 15.90292,   Relative Error 0.49130\n",
      "Training_loss 15.89202,   Relative Error 0.49111\n"
     ]
    },
    {
     "name": "stderr",
     "output_type": "stream",
     "text": [
      " 27%|██▋       | 541/2000 [01:45<04:28,  5.44it/s]"
     ]
    },
    {
     "name": "stdout",
     "output_type": "stream",
     "text": [
      "Training_loss 15.87652,   Relative Error 0.49092\n",
      "Training_loss 15.86906,   Relative Error 0.49085\n"
     ]
    },
    {
     "name": "stderr",
     "output_type": "stream",
     "text": [
      "\r",
      " 27%|██▋       | 542/2000 [01:46<04:57,  4.90it/s]"
     ]
    },
    {
     "name": "stdout",
     "output_type": "stream",
     "text": [
      "Training_loss 15.86279,   Relative Error 0.49066\n"
     ]
    },
    {
     "name": "stderr",
     "output_type": "stream",
     "text": [
      "\r",
      " 27%|██▋       | 543/2000 [01:46<05:06,  4.76it/s]"
     ]
    },
    {
     "name": "stdout",
     "output_type": "stream",
     "text": [
      "Training_loss 15.85291,   Relative Error 0.49046\n"
     ]
    },
    {
     "name": "stderr",
     "output_type": "stream",
     "text": [
      " 27%|██▋       | 545/2000 [01:46<04:55,  4.92it/s]"
     ]
    },
    {
     "name": "stdout",
     "output_type": "stream",
     "text": [
      "Training_loss 15.85007,   Relative Error 0.49039\n",
      "Training_loss 15.83681,   Relative Error 0.49021\n"
     ]
    },
    {
     "name": "stderr",
     "output_type": "stream",
     "text": [
      " 27%|██▋       | 547/2000 [01:47<04:57,  4.88it/s]"
     ]
    },
    {
     "name": "stdout",
     "output_type": "stream",
     "text": [
      "Training_loss 15.83821,   Relative Error 0.49018\n",
      "Training_loss 15.82536,   Relative Error 0.49013\n"
     ]
    },
    {
     "name": "stderr",
     "output_type": "stream",
     "text": [
      " 27%|██▋       | 549/2000 [01:47<04:54,  4.92it/s]"
     ]
    },
    {
     "name": "stdout",
     "output_type": "stream",
     "text": [
      "Training_loss 15.81334,   Relative Error 0.49009\n",
      "Training_loss 15.81037,   Relative Error 0.49004\n"
     ]
    },
    {
     "name": "stderr",
     "output_type": "stream",
     "text": [
      " 28%|██▊       | 551/2000 [01:47<04:31,  5.33it/s]"
     ]
    },
    {
     "name": "stdout",
     "output_type": "stream",
     "text": [
      "Training_loss 15.80438,   Relative Error 0.48985\n",
      "Training_loss 15.79389,   Relative Error 0.48966\n"
     ]
    },
    {
     "name": "stderr",
     "output_type": "stream",
     "text": [
      "\r",
      " 28%|██▊       | 552/2000 [01:48<04:20,  5.56it/s]"
     ]
    },
    {
     "name": "stdout",
     "output_type": "stream",
     "text": [
      "Training_loss 15.78055,   Relative Error 0.48947\n",
      "Training_loss 15.76550,   Relative Error 0.48928\n"
     ]
    },
    {
     "name": "stderr",
     "output_type": "stream",
     "text": [
      " 28%|██▊       | 555/2000 [01:48<04:08,  5.81it/s]"
     ]
    },
    {
     "name": "stdout",
     "output_type": "stream",
     "text": [
      "Training_loss 15.75639,   Relative Error 0.48922\n",
      "Training_loss 15.74827,   Relative Error 0.48905\n"
     ]
    },
    {
     "name": "stderr",
     "output_type": "stream",
     "text": [
      " 28%|██▊       | 557/2000 [01:48<04:02,  5.95it/s]"
     ]
    },
    {
     "name": "stdout",
     "output_type": "stream",
     "text": [
      "Training_loss 15.74292,   Relative Error 0.48890\n",
      "Training_loss 15.73627,   Relative Error 0.48884\n"
     ]
    },
    {
     "name": "stderr",
     "output_type": "stream",
     "text": [
      " 28%|██▊       | 559/2000 [01:49<03:55,  6.12it/s]"
     ]
    },
    {
     "name": "stdout",
     "output_type": "stream",
     "text": [
      "Training_loss 15.72812,   Relative Error 0.48868\n",
      "Training_loss 15.71542,   Relative Error 0.48851\n"
     ]
    },
    {
     "name": "stderr",
     "output_type": "stream",
     "text": [
      " 28%|██▊       | 561/2000 [01:49<03:44,  6.41it/s]"
     ]
    },
    {
     "name": "stdout",
     "output_type": "stream",
     "text": [
      "Training_loss 15.71026,   Relative Error 0.48834\n",
      "Training_loss 15.70307,   Relative Error 0.48828\n"
     ]
    },
    {
     "name": "stderr",
     "output_type": "stream",
     "text": [
      " 28%|██▊       | 563/2000 [01:49<03:46,  6.34it/s]"
     ]
    },
    {
     "name": "stdout",
     "output_type": "stream",
     "text": [
      "Training_loss 15.69530,   Relative Error 0.48812\n",
      "Training_loss 15.68506,   Relative Error 0.48806\n"
     ]
    },
    {
     "name": "stderr",
     "output_type": "stream",
     "text": [
      " 28%|██▊       | 565/2000 [01:50<03:44,  6.39it/s]"
     ]
    },
    {
     "name": "stdout",
     "output_type": "stream",
     "text": [
      "Training_loss 15.67992,   Relative Error 0.48799\n",
      "Training_loss 15.66726,   Relative Error 0.48782\n"
     ]
    },
    {
     "name": "stderr",
     "output_type": "stream",
     "text": [
      " 28%|██▊       | 567/2000 [01:50<03:45,  6.36it/s]"
     ]
    },
    {
     "name": "stdout",
     "output_type": "stream",
     "text": [
      "Training_loss 15.65946,   Relative Error 0.48779\n",
      "Training_loss 15.64961,   Relative Error 0.48775\n"
     ]
    },
    {
     "name": "stderr",
     "output_type": "stream",
     "text": [
      " 28%|██▊       | 569/2000 [01:50<03:45,  6.34it/s]"
     ]
    },
    {
     "name": "stdout",
     "output_type": "stream",
     "text": [
      "Training_loss 15.65204,   Relative Error 0.48769\n",
      "Training_loss 15.64326,   Relative Error 0.48764\n"
     ]
    },
    {
     "name": "stderr",
     "output_type": "stream",
     "text": [
      " 29%|██▊       | 571/2000 [01:51<03:54,  6.09it/s]"
     ]
    },
    {
     "name": "stdout",
     "output_type": "stream",
     "text": [
      "Training_loss 15.64272,   Relative Error 0.48757\n",
      "Training_loss 15.62863,   Relative Error 0.48741\n"
     ]
    },
    {
     "name": "stderr",
     "output_type": "stream",
     "text": [
      "\r",
      " 29%|██▊       | 572/2000 [01:51<04:12,  5.65it/s]"
     ]
    },
    {
     "name": "stdout",
     "output_type": "stream",
     "text": [
      "Training_loss 15.62096,   Relative Error 0.48737\n"
     ]
    },
    {
     "name": "stderr",
     "output_type": "stream",
     "text": [
      "\r",
      " 29%|██▊       | 573/2000 [01:51<04:31,  5.25it/s]"
     ]
    },
    {
     "name": "stdout",
     "output_type": "stream",
     "text": [
      "Training_loss 15.61494,   Relative Error 0.48729\n"
     ]
    },
    {
     "name": "stderr",
     "output_type": "stream",
     "text": [
      "\r",
      " 29%|██▊       | 574/2000 [01:51<05:01,  4.72it/s]"
     ]
    },
    {
     "name": "stdout",
     "output_type": "stream",
     "text": [
      "Training_loss 15.60502,   Relative Error 0.48712\n"
     ]
    },
    {
     "name": "stderr",
     "output_type": "stream",
     "text": [
      "\r",
      " 29%|██▉       | 575/2000 [01:52<05:02,  4.71it/s]"
     ]
    },
    {
     "name": "stdout",
     "output_type": "stream",
     "text": [
      "Training_loss 15.59094,   Relative Error 0.48696\n"
     ]
    },
    {
     "name": "stderr",
     "output_type": "stream",
     "text": [
      " 29%|██▉       | 577/2000 [01:52<04:56,  4.80it/s]"
     ]
    },
    {
     "name": "stdout",
     "output_type": "stream",
     "text": [
      "Training_loss 15.58719,   Relative Error 0.48689\n",
      "Training_loss 15.58174,   Relative Error 0.48682\n"
     ]
    },
    {
     "name": "stderr",
     "output_type": "stream",
     "text": [
      " 29%|██▉       | 579/2000 [01:52<04:31,  5.23it/s]"
     ]
    },
    {
     "name": "stdout",
     "output_type": "stream",
     "text": [
      "Training_loss 15.58188,   Relative Error 0.48664\n",
      "Training_loss 15.58104,   Relative Error 0.48659\n"
     ]
    },
    {
     "name": "stderr",
     "output_type": "stream",
     "text": [
      " 29%|██▉       | 581/2000 [01:53<04:08,  5.71it/s]"
     ]
    },
    {
     "name": "stdout",
     "output_type": "stream",
     "text": [
      "Training_loss 15.57380,   Relative Error 0.48641\n",
      "Training_loss 15.56429,   Relative Error 0.48622\n"
     ]
    },
    {
     "name": "stderr",
     "output_type": "stream",
     "text": [
      " 29%|██▉       | 583/2000 [01:53<03:53,  6.07it/s]"
     ]
    },
    {
     "name": "stdout",
     "output_type": "stream",
     "text": [
      "Training_loss 15.56411,   Relative Error 0.48604\n",
      "Training_loss 15.55942,   Relative Error 0.48590\n"
     ]
    },
    {
     "name": "stderr",
     "output_type": "stream",
     "text": [
      " 29%|██▉       | 585/2000 [01:53<03:40,  6.41it/s]"
     ]
    },
    {
     "name": "stdout",
     "output_type": "stream",
     "text": [
      "Training_loss 15.54941,   Relative Error 0.48572\n",
      "Training_loss 15.54187,   Relative Error 0.48559\n"
     ]
    },
    {
     "name": "stderr",
     "output_type": "stream",
     "text": [
      " 29%|██▉       | 587/2000 [01:54<03:27,  6.80it/s]"
     ]
    },
    {
     "name": "stdout",
     "output_type": "stream",
     "text": [
      "Training_loss 15.53266,   Relative Error 0.48554\n",
      "Training_loss 15.52808,   Relative Error 0.48541\n"
     ]
    },
    {
     "name": "stderr",
     "output_type": "stream",
     "text": [
      " 29%|██▉       | 589/2000 [01:54<03:35,  6.54it/s]"
     ]
    },
    {
     "name": "stdout",
     "output_type": "stream",
     "text": [
      "Training_loss 15.52438,   Relative Error 0.48538\n",
      "Training_loss 15.52569,   Relative Error 0.48533\n"
     ]
    },
    {
     "name": "stderr",
     "output_type": "stream",
     "text": [
      " 30%|██▉       | 591/2000 [01:54<03:42,  6.34it/s]"
     ]
    },
    {
     "name": "stdout",
     "output_type": "stream",
     "text": [
      "Training_loss 15.52166,   Relative Error 0.48518\n",
      "Training_loss 15.51669,   Relative Error 0.48510\n"
     ]
    },
    {
     "name": "stderr",
     "output_type": "stream",
     "text": [
      " 30%|██▉       | 593/2000 [01:54<03:38,  6.43it/s]"
     ]
    },
    {
     "name": "stdout",
     "output_type": "stream",
     "text": [
      "Training_loss 15.51684,   Relative Error 0.48506\n",
      "Training_loss 15.51856,   Relative Error 0.48502\n"
     ]
    },
    {
     "name": "stderr",
     "output_type": "stream",
     "text": [
      " 30%|██▉       | 595/2000 [01:55<03:32,  6.61it/s]"
     ]
    },
    {
     "name": "stdout",
     "output_type": "stream",
     "text": [
      "Training_loss 15.50801,   Relative Error 0.48496\n",
      "Training_loss 15.50482,   Relative Error 0.48479\n"
     ]
    },
    {
     "name": "stderr",
     "output_type": "stream",
     "text": [
      " 30%|██▉       | 597/2000 [01:55<03:25,  6.83it/s]"
     ]
    },
    {
     "name": "stdout",
     "output_type": "stream",
     "text": [
      "Training_loss 15.49444,   Relative Error 0.48473\n",
      "Training_loss 15.48656,   Relative Error 0.48455\n"
     ]
    },
    {
     "name": "stderr",
     "output_type": "stream",
     "text": [
      " 30%|██▉       | 599/2000 [01:55<03:23,  6.90it/s]"
     ]
    },
    {
     "name": "stdout",
     "output_type": "stream",
     "text": [
      "Training_loss 15.48627,   Relative Error 0.48451\n",
      "Training_loss 15.48258,   Relative Error 0.48437\n"
     ]
    },
    {
     "name": "stderr",
     "output_type": "stream",
     "text": [
      " 30%|███       | 601/2000 [01:56<03:23,  6.87it/s]"
     ]
    },
    {
     "name": "stdout",
     "output_type": "stream",
     "text": [
      "Training_loss 15.47185,   Relative Error 0.48421\n",
      "Training_loss 15.46177,   Relative Error 0.48416\n"
     ]
    },
    {
     "name": "stderr",
     "output_type": "stream",
     "text": [
      " 30%|███       | 603/2000 [01:56<03:35,  6.48it/s]"
     ]
    },
    {
     "name": "stdout",
     "output_type": "stream",
     "text": [
      "Training_loss 15.45420,   Relative Error 0.48414\n",
      "Training_loss 15.45601,   Relative Error 0.48408\n"
     ]
    },
    {
     "name": "stderr",
     "output_type": "stream",
     "text": [
      "\r",
      " 30%|███       | 604/2000 [01:56<03:40,  6.34it/s]"
     ]
    },
    {
     "name": "stdout",
     "output_type": "stream",
     "text": [
      "Training_loss 15.44847,   Relative Error 0.48403\n"
     ]
    },
    {
     "name": "stderr",
     "output_type": "stream",
     "text": [
      " 30%|███       | 606/2000 [01:57<04:10,  5.55it/s]"
     ]
    },
    {
     "name": "stdout",
     "output_type": "stream",
     "text": [
      "Training_loss 15.44907,   Relative Error 0.48398\n",
      "Training_loss 15.44316,   Relative Error 0.48380\n"
     ]
    },
    {
     "name": "stderr",
     "output_type": "stream",
     "text": [
      " 30%|███       | 608/2000 [01:57<04:20,  5.34it/s]"
     ]
    },
    {
     "name": "stdout",
     "output_type": "stream",
     "text": [
      "Training_loss 15.43901,   Relative Error 0.48368\n",
      "Training_loss 15.43957,   Relative Error 0.48352\n"
     ]
    },
    {
     "name": "stderr",
     "output_type": "stream",
     "text": [
      " 30%|███       | 610/2000 [01:57<04:05,  5.65it/s]"
     ]
    },
    {
     "name": "stdout",
     "output_type": "stream",
     "text": [
      "Training_loss 15.43258,   Relative Error 0.48348\n",
      "Training_loss 15.42614,   Relative Error 0.48334\n"
     ]
    },
    {
     "name": "stderr",
     "output_type": "stream",
     "text": [
      " 31%|███       | 612/2000 [01:58<03:48,  6.07it/s]"
     ]
    },
    {
     "name": "stdout",
     "output_type": "stream",
     "text": [
      "Training_loss 15.41941,   Relative Error 0.48322\n",
      "Training_loss 15.40627,   Relative Error 0.48306\n"
     ]
    },
    {
     "name": "stderr",
     "output_type": "stream",
     "text": [
      " 31%|███       | 614/2000 [01:58<03:36,  6.40it/s]"
     ]
    },
    {
     "name": "stdout",
     "output_type": "stream",
     "text": [
      "Training_loss 15.40074,   Relative Error 0.48304\n",
      "Training_loss 15.39445,   Relative Error 0.48295\n"
     ]
    },
    {
     "name": "stderr",
     "output_type": "stream",
     "text": [
      " 31%|███       | 616/2000 [01:58<03:28,  6.62it/s]"
     ]
    },
    {
     "name": "stdout",
     "output_type": "stream",
     "text": [
      "Training_loss 15.39145,   Relative Error 0.48291\n",
      "Training_loss 15.37635,   Relative Error 0.48277\n"
     ]
    },
    {
     "name": "stderr",
     "output_type": "stream",
     "text": [
      " 31%|███       | 618/2000 [01:58<03:28,  6.61it/s]"
     ]
    },
    {
     "name": "stdout",
     "output_type": "stream",
     "text": [
      "Training_loss 15.36941,   Relative Error 0.48272\n",
      "Training_loss 15.35943,   Relative Error 0.48266\n"
     ]
    },
    {
     "name": "stderr",
     "output_type": "stream",
     "text": [
      " 31%|███       | 620/2000 [01:59<03:22,  6.81it/s]"
     ]
    },
    {
     "name": "stdout",
     "output_type": "stream",
     "text": [
      "Training_loss 15.35699,   Relative Error 0.48251\n",
      "Training_loss 15.35451,   Relative Error 0.48246\n"
     ]
    },
    {
     "name": "stderr",
     "output_type": "stream",
     "text": [
      " 31%|███       | 622/2000 [01:59<03:23,  6.77it/s]"
     ]
    },
    {
     "name": "stdout",
     "output_type": "stream",
     "text": [
      "Training_loss 15.34747,   Relative Error 0.48227\n",
      "Training_loss 15.34308,   Relative Error 0.48225\n"
     ]
    },
    {
     "name": "stderr",
     "output_type": "stream",
     "text": [
      " 31%|███       | 624/2000 [01:59<03:23,  6.77it/s]"
     ]
    },
    {
     "name": "stdout",
     "output_type": "stream",
     "text": [
      "Training_loss 15.33837,   Relative Error 0.48208\n",
      "Training_loss 15.33082,   Relative Error 0.48200\n"
     ]
    },
    {
     "name": "stderr",
     "output_type": "stream",
     "text": [
      " 31%|███▏      | 626/2000 [02:00<03:22,  6.79it/s]"
     ]
    },
    {
     "name": "stdout",
     "output_type": "stream",
     "text": [
      "Training_loss 15.32534,   Relative Error 0.48193\n",
      "Training_loss 15.31862,   Relative Error 0.48176\n"
     ]
    },
    {
     "name": "stderr",
     "output_type": "stream",
     "text": [
      " 31%|███▏      | 628/2000 [02:00<03:16,  6.97it/s]"
     ]
    },
    {
     "name": "stdout",
     "output_type": "stream",
     "text": [
      "Training_loss 15.30755,   Relative Error 0.48160\n",
      "Training_loss 15.30111,   Relative Error 0.48148\n"
     ]
    },
    {
     "name": "stderr",
     "output_type": "stream",
     "text": [
      " 32%|███▏      | 630/2000 [02:00<03:11,  7.17it/s]"
     ]
    },
    {
     "name": "stdout",
     "output_type": "stream",
     "text": [
      "Training_loss 15.29196,   Relative Error 0.48132\n",
      "Training_loss 15.28986,   Relative Error 0.48125\n"
     ]
    },
    {
     "name": "stderr",
     "output_type": "stream",
     "text": [
      " 32%|███▏      | 632/2000 [02:00<03:18,  6.90it/s]"
     ]
    },
    {
     "name": "stdout",
     "output_type": "stream",
     "text": [
      "Training_loss 15.28120,   Relative Error 0.48110\n",
      "Training_loss 15.27884,   Relative Error 0.48102\n"
     ]
    },
    {
     "name": "stderr",
     "output_type": "stream",
     "text": [
      " 32%|███▏      | 634/2000 [02:01<03:12,  7.11it/s]"
     ]
    },
    {
     "name": "stdout",
     "output_type": "stream",
     "text": [
      "Training_loss 15.27700,   Relative Error 0.48095\n",
      "Training_loss 15.26774,   Relative Error 0.48083\n"
     ]
    },
    {
     "name": "stderr",
     "output_type": "stream",
     "text": [
      " 32%|███▏      | 636/2000 [02:01<03:16,  6.94it/s]"
     ]
    },
    {
     "name": "stdout",
     "output_type": "stream",
     "text": [
      "Training_loss 15.25958,   Relative Error 0.48075\n",
      "Training_loss 15.25284,   Relative Error 0.48072\n"
     ]
    },
    {
     "name": "stderr",
     "output_type": "stream",
     "text": [
      " 32%|███▏      | 638/2000 [02:01<03:14,  6.99it/s]"
     ]
    },
    {
     "name": "stdout",
     "output_type": "stream",
     "text": [
      "Training_loss 15.24321,   Relative Error 0.48059\n",
      "Training_loss 15.23196,   Relative Error 0.48055\n"
     ]
    },
    {
     "name": "stderr",
     "output_type": "stream",
     "text": [
      " 32%|███▏      | 640/2000 [02:02<03:15,  6.96it/s]"
     ]
    },
    {
     "name": "stdout",
     "output_type": "stream",
     "text": [
      "Training_loss 15.22748,   Relative Error 0.48040\n",
      "Training_loss 15.22382,   Relative Error 0.48038\n"
     ]
    },
    {
     "name": "stderr",
     "output_type": "stream",
     "text": [
      " 32%|███▏      | 642/2000 [02:02<03:09,  7.18it/s]"
     ]
    },
    {
     "name": "stdout",
     "output_type": "stream",
     "text": [
      "Training_loss 15.22222,   Relative Error 0.48032\n",
      "Training_loss 15.21637,   Relative Error 0.48026\n"
     ]
    },
    {
     "name": "stderr",
     "output_type": "stream",
     "text": [
      " 32%|███▏      | 644/2000 [02:02<03:15,  6.92it/s]"
     ]
    },
    {
     "name": "stdout",
     "output_type": "stream",
     "text": [
      "Training_loss 15.20947,   Relative Error 0.48013\n",
      "Training_loss 15.20115,   Relative Error 0.48000\n"
     ]
    },
    {
     "name": "stderr",
     "output_type": "stream",
     "text": [
      " 32%|███▏      | 646/2000 [02:02<03:11,  7.06it/s]"
     ]
    },
    {
     "name": "stdout",
     "output_type": "stream",
     "text": [
      "Training_loss 15.19684,   Relative Error 0.47997\n",
      "Training_loss 15.18814,   Relative Error 0.47993\n"
     ]
    },
    {
     "name": "stderr",
     "output_type": "stream",
     "text": [
      " 32%|███▏      | 648/2000 [02:03<03:14,  6.95it/s]"
     ]
    },
    {
     "name": "stdout",
     "output_type": "stream",
     "text": [
      "Training_loss 15.17990,   Relative Error 0.47989\n",
      "Training_loss 15.17188,   Relative Error 0.47976\n"
     ]
    },
    {
     "name": "stderr",
     "output_type": "stream",
     "text": [
      " 32%|███▎      | 650/2000 [02:03<03:12,  7.02it/s]"
     ]
    },
    {
     "name": "stdout",
     "output_type": "stream",
     "text": [
      "Training_loss 15.16897,   Relative Error 0.47962\n",
      "Training_loss 15.15845,   Relative Error 0.47947\n"
     ]
    },
    {
     "name": "stderr",
     "output_type": "stream",
     "text": [
      " 33%|███▎      | 652/2000 [02:03<03:10,  7.07it/s]"
     ]
    },
    {
     "name": "stdout",
     "output_type": "stream",
     "text": [
      "Training_loss 15.15399,   Relative Error 0.47939\n",
      "Training_loss 15.14873,   Relative Error 0.47922\n"
     ]
    },
    {
     "name": "stderr",
     "output_type": "stream",
     "text": [
      " 33%|███▎      | 654/2000 [02:04<03:15,  6.90it/s]"
     ]
    },
    {
     "name": "stdout",
     "output_type": "stream",
     "text": [
      "Training_loss 15.14331,   Relative Error 0.47918\n",
      "Training_loss 15.13947,   Relative Error 0.47903\n"
     ]
    },
    {
     "name": "stderr",
     "output_type": "stream",
     "text": [
      " 33%|███▎      | 656/2000 [02:04<03:13,  6.96it/s]"
     ]
    },
    {
     "name": "stdout",
     "output_type": "stream",
     "text": [
      "Training_loss 15.13344,   Relative Error 0.47890\n",
      "Training_loss 15.12476,   Relative Error 0.47873\n"
     ]
    },
    {
     "name": "stderr",
     "output_type": "stream",
     "text": [
      " 33%|███▎      | 658/2000 [02:04<03:11,  7.01it/s]"
     ]
    },
    {
     "name": "stdout",
     "output_type": "stream",
     "text": [
      "Training_loss 15.12576,   Relative Error 0.47869\n",
      "Training_loss 15.11889,   Relative Error 0.47862\n"
     ]
    },
    {
     "name": "stderr",
     "output_type": "stream",
     "text": [
      " 33%|███▎      | 660/2000 [02:04<03:09,  7.06it/s]"
     ]
    },
    {
     "name": "stdout",
     "output_type": "stream",
     "text": [
      "Training_loss 15.11691,   Relative Error 0.47854\n",
      "Training_loss 15.11490,   Relative Error 0.47847\n"
     ]
    },
    {
     "name": "stderr",
     "output_type": "stream",
     "text": [
      " 33%|███▎      | 662/2000 [02:05<03:26,  6.48it/s]"
     ]
    },
    {
     "name": "stdout",
     "output_type": "stream",
     "text": [
      "Training_loss 15.10964,   Relative Error 0.47845\n",
      "Training_loss 15.10136,   Relative Error 0.47840\n"
     ]
    },
    {
     "name": "stderr",
     "output_type": "stream",
     "text": [
      " 33%|███▎      | 664/2000 [02:05<03:21,  6.64it/s]"
     ]
    },
    {
     "name": "stdout",
     "output_type": "stream",
     "text": [
      "Training_loss 15.08923,   Relative Error 0.47827\n",
      "Training_loss 15.08309,   Relative Error 0.47819\n"
     ]
    },
    {
     "name": "stderr",
     "output_type": "stream",
     "text": [
      " 33%|███▎      | 666/2000 [02:05<03:11,  6.98it/s]"
     ]
    },
    {
     "name": "stdout",
     "output_type": "stream",
     "text": [
      "Training_loss 15.08026,   Relative Error 0.47804\n",
      "Training_loss 15.07655,   Relative Error 0.47787\n"
     ]
    },
    {
     "name": "stderr",
     "output_type": "stream",
     "text": [
      " 33%|███▎      | 668/2000 [02:06<03:14,  6.86it/s]"
     ]
    },
    {
     "name": "stdout",
     "output_type": "stream",
     "text": [
      "Training_loss 15.06939,   Relative Error 0.47775\n",
      "Training_loss 15.06542,   Relative Error 0.47758\n"
     ]
    },
    {
     "name": "stderr",
     "output_type": "stream",
     "text": [
      " 34%|███▎      | 670/2000 [02:06<03:11,  6.96it/s]"
     ]
    },
    {
     "name": "stdout",
     "output_type": "stream",
     "text": [
      "Training_loss 15.05306,   Relative Error 0.47745\n",
      "Training_loss 15.04510,   Relative Error 0.47740\n"
     ]
    },
    {
     "name": "stderr",
     "output_type": "stream",
     "text": [
      " 34%|███▎      | 672/2000 [02:06<03:11,  6.94it/s]"
     ]
    },
    {
     "name": "stdout",
     "output_type": "stream",
     "text": [
      "Training_loss 15.04148,   Relative Error 0.47725\n",
      "Training_loss 15.03475,   Relative Error 0.47715\n"
     ]
    },
    {
     "name": "stderr",
     "output_type": "stream",
     "text": [
      " 34%|███▎      | 674/2000 [02:07<03:12,  6.89it/s]"
     ]
    },
    {
     "name": "stdout",
     "output_type": "stream",
     "text": [
      "Training_loss 15.02891,   Relative Error 0.47710\n",
      "Training_loss 15.02935,   Relative Error 0.47697\n"
     ]
    },
    {
     "name": "stderr",
     "output_type": "stream",
     "text": [
      " 34%|███▍      | 676/2000 [02:07<03:12,  6.88it/s]"
     ]
    },
    {
     "name": "stdout",
     "output_type": "stream",
     "text": [
      "Training_loss 15.02737,   Relative Error 0.47690\n",
      "Training_loss 15.02376,   Relative Error 0.47687\n"
     ]
    },
    {
     "name": "stderr",
     "output_type": "stream",
     "text": [
      " 34%|███▍      | 678/2000 [02:07<03:13,  6.84it/s]"
     ]
    },
    {
     "name": "stdout",
     "output_type": "stream",
     "text": [
      "Training_loss 15.02319,   Relative Error 0.47673\n",
      "Training_loss 15.02112,   Relative Error 0.47665\n"
     ]
    },
    {
     "name": "stderr",
     "output_type": "stream",
     "text": [
      " 34%|███▍      | 680/2000 [02:07<03:09,  6.97it/s]"
     ]
    },
    {
     "name": "stdout",
     "output_type": "stream",
     "text": [
      "Training_loss 15.01667,   Relative Error 0.47662\n",
      "Training_loss 15.01127,   Relative Error 0.47655\n"
     ]
    },
    {
     "name": "stderr",
     "output_type": "stream",
     "text": [
      " 34%|███▍      | 682/2000 [02:08<03:12,  6.86it/s]"
     ]
    },
    {
     "name": "stdout",
     "output_type": "stream",
     "text": [
      "Training_loss 15.00610,   Relative Error 0.47647\n",
      "Training_loss 15.00089,   Relative Error 0.47636\n"
     ]
    },
    {
     "name": "stderr",
     "output_type": "stream",
     "text": [
      " 34%|███▍      | 684/2000 [02:08<03:07,  7.02it/s]"
     ]
    },
    {
     "name": "stdout",
     "output_type": "stream",
     "text": [
      "Training_loss 15.00468,   Relative Error 0.47633\n",
      "Training_loss 15.00315,   Relative Error 0.47627\n"
     ]
    },
    {
     "name": "stderr",
     "output_type": "stream",
     "text": [
      " 34%|███▍      | 686/2000 [02:08<03:15,  6.73it/s]"
     ]
    },
    {
     "name": "stdout",
     "output_type": "stream",
     "text": [
      "Training_loss 14.99494,   Relative Error 0.47614\n",
      "Training_loss 14.99254,   Relative Error 0.47606\n"
     ]
    },
    {
     "name": "stderr",
     "output_type": "stream",
     "text": [
      " 34%|███▍      | 688/2000 [02:09<03:06,  7.02it/s]"
     ]
    },
    {
     "name": "stdout",
     "output_type": "stream",
     "text": [
      "Training_loss 14.98259,   Relative Error 0.47600\n",
      "Training_loss 14.97690,   Relative Error 0.47596\n"
     ]
    },
    {
     "name": "stderr",
     "output_type": "stream",
     "text": [
      " 34%|███▍      | 690/2000 [02:09<03:09,  6.91it/s]"
     ]
    },
    {
     "name": "stdout",
     "output_type": "stream",
     "text": [
      "Training_loss 14.97138,   Relative Error 0.47585\n",
      "Training_loss 14.97126,   Relative Error 0.47571\n"
     ]
    },
    {
     "name": "stderr",
     "output_type": "stream",
     "text": [
      " 35%|███▍      | 692/2000 [02:09<03:11,  6.83it/s]"
     ]
    },
    {
     "name": "stdout",
     "output_type": "stream",
     "text": [
      "Training_loss 14.96821,   Relative Error 0.47559\n",
      "Training_loss 14.96457,   Relative Error 0.47549\n"
     ]
    },
    {
     "name": "stderr",
     "output_type": "stream",
     "text": [
      " 35%|███▍      | 694/2000 [02:09<03:06,  6.99it/s]"
     ]
    },
    {
     "name": "stdout",
     "output_type": "stream",
     "text": [
      "Training_loss 14.95336,   Relative Error 0.47545\n",
      "Training_loss 14.95648,   Relative Error 0.47539\n"
     ]
    },
    {
     "name": "stderr",
     "output_type": "stream",
     "text": [
      " 35%|███▍      | 696/2000 [02:10<03:09,  6.89it/s]"
     ]
    },
    {
     "name": "stdout",
     "output_type": "stream",
     "text": [
      "Training_loss 14.95836,   Relative Error 0.47527\n",
      "Training_loss 14.95167,   Relative Error 0.47509\n"
     ]
    },
    {
     "name": "stderr",
     "output_type": "stream",
     "text": [
      " 35%|███▍      | 698/2000 [02:10<03:03,  7.11it/s]"
     ]
    },
    {
     "name": "stdout",
     "output_type": "stream",
     "text": [
      "Training_loss 14.94932,   Relative Error 0.47502\n",
      "Training_loss 14.93979,   Relative Error 0.47489\n"
     ]
    },
    {
     "name": "stderr",
     "output_type": "stream",
     "text": [
      " 35%|███▌      | 700/2000 [02:10<03:06,  6.95it/s]"
     ]
    },
    {
     "name": "stdout",
     "output_type": "stream",
     "text": [
      "Training_loss 14.92602,   Relative Error 0.47476\n",
      "Training_loss 14.91960,   Relative Error 0.47465\n"
     ]
    },
    {
     "name": "stderr",
     "output_type": "stream",
     "text": [
      " 35%|███▌      | 702/2000 [02:11<03:08,  6.88it/s]"
     ]
    },
    {
     "name": "stdout",
     "output_type": "stream",
     "text": [
      "Training_loss 14.91164,   Relative Error 0.47452\n",
      "Training_loss 14.90767,   Relative Error 0.47436\n"
     ]
    },
    {
     "name": "stderr",
     "output_type": "stream",
     "text": [
      " 35%|███▌      | 704/2000 [02:11<03:19,  6.51it/s]"
     ]
    },
    {
     "name": "stdout",
     "output_type": "stream",
     "text": [
      "Training_loss 14.90579,   Relative Error 0.47423\n",
      "Training_loss 14.89314,   Relative Error 0.47416\n"
     ]
    },
    {
     "name": "stderr",
     "output_type": "stream",
     "text": [
      " 35%|███▌      | 706/2000 [02:11<03:38,  5.91it/s]"
     ]
    },
    {
     "name": "stdout",
     "output_type": "stream",
     "text": [
      "Training_loss 14.88323,   Relative Error 0.47402\n",
      "Training_loss 14.87967,   Relative Error 0.47392\n"
     ]
    },
    {
     "name": "stderr",
     "output_type": "stream",
     "text": [
      "\r",
      " 35%|███▌      | 707/2000 [02:11<03:54,  5.51it/s]"
     ]
    },
    {
     "name": "stdout",
     "output_type": "stream",
     "text": [
      "Training_loss 14.88294,   Relative Error 0.47387\n"
     ]
    },
    {
     "name": "stderr",
     "output_type": "stream",
     "text": [
      "\r",
      " 35%|███▌      | 708/2000 [02:12<04:05,  5.27it/s]"
     ]
    },
    {
     "name": "stdout",
     "output_type": "stream",
     "text": [
      "Training_loss 14.86872,   Relative Error 0.47374\n"
     ]
    },
    {
     "name": "stderr",
     "output_type": "stream",
     "text": [
      "\r",
      " 35%|███▌      | 709/2000 [02:12<04:34,  4.71it/s]"
     ]
    },
    {
     "name": "stdout",
     "output_type": "stream",
     "text": [
      "Training_loss 14.86126,   Relative Error 0.47362\n"
     ]
    },
    {
     "name": "stderr",
     "output_type": "stream",
     "text": [
      "\r",
      " 36%|███▌      | 710/2000 [02:12<04:53,  4.40it/s]"
     ]
    },
    {
     "name": "stdout",
     "output_type": "stream",
     "text": [
      "Training_loss 14.85343,   Relative Error 0.47357\n"
     ]
    },
    {
     "name": "stderr",
     "output_type": "stream",
     "text": [
      "\r",
      " 36%|███▌      | 711/2000 [02:12<05:06,  4.21it/s]"
     ]
    },
    {
     "name": "stdout",
     "output_type": "stream",
     "text": [
      "Training_loss 14.85593,   Relative Error 0.47344\n"
     ]
    },
    {
     "name": "stderr",
     "output_type": "stream",
     "text": [
      "\r",
      " 36%|███▌      | 712/2000 [02:13<04:57,  4.33it/s]"
     ]
    },
    {
     "name": "stdout",
     "output_type": "stream",
     "text": [
      "Training_loss 14.84739,   Relative Error 0.47336\n"
     ]
    },
    {
     "name": "stderr",
     "output_type": "stream",
     "text": [
      "\r",
      " 36%|███▌      | 713/2000 [02:13<04:48,  4.46it/s]"
     ]
    },
    {
     "name": "stdout",
     "output_type": "stream",
     "text": [
      "Training_loss 14.84499,   Relative Error 0.47323\n"
     ]
    },
    {
     "name": "stderr",
     "output_type": "stream",
     "text": [
      " 36%|███▌      | 715/2000 [02:13<04:40,  4.59it/s]"
     ]
    },
    {
     "name": "stdout",
     "output_type": "stream",
     "text": [
      "Training_loss 14.83142,   Relative Error 0.47310\n",
      "Training_loss 14.82376,   Relative Error 0.47300\n"
     ]
    },
    {
     "name": "stderr",
     "output_type": "stream",
     "text": [
      " 36%|███▌      | 717/2000 [02:14<04:14,  5.05it/s]"
     ]
    },
    {
     "name": "stdout",
     "output_type": "stream",
     "text": [
      "Training_loss 14.81129,   Relative Error 0.47294\n",
      "Training_loss 14.80692,   Relative Error 0.47291\n"
     ]
    },
    {
     "name": "stderr",
     "output_type": "stream",
     "text": [
      " 36%|███▌      | 719/2000 [02:14<03:54,  5.46it/s]"
     ]
    },
    {
     "name": "stdout",
     "output_type": "stream",
     "text": [
      "Training_loss 14.80962,   Relative Error 0.47279\n",
      "Training_loss 14.80375,   Relative Error 0.47277\n"
     ]
    },
    {
     "name": "stderr",
     "output_type": "stream",
     "text": [
      " 36%|███▌      | 721/2000 [02:14<03:36,  5.90it/s]"
     ]
    },
    {
     "name": "stdout",
     "output_type": "stream",
     "text": [
      "Training_loss 14.80649,   Relative Error 0.47265\n",
      "Training_loss 14.80410,   Relative Error 0.47254\n"
     ]
    },
    {
     "name": "stderr",
     "output_type": "stream",
     "text": [
      " 36%|███▌      | 723/2000 [02:15<03:24,  6.23it/s]"
     ]
    },
    {
     "name": "stdout",
     "output_type": "stream",
     "text": [
      "Training_loss 14.79608,   Relative Error 0.47247\n",
      "Training_loss 14.78735,   Relative Error 0.47233\n"
     ]
    },
    {
     "name": "stderr",
     "output_type": "stream",
     "text": [
      " 36%|███▋      | 725/2000 [02:15<03:15,  6.51it/s]"
     ]
    },
    {
     "name": "stdout",
     "output_type": "stream",
     "text": [
      "Training_loss 14.78510,   Relative Error 0.47227\n",
      "Training_loss 14.77973,   Relative Error 0.47212\n"
     ]
    },
    {
     "name": "stderr",
     "output_type": "stream",
     "text": [
      " 36%|███▋      | 727/2000 [02:15<03:08,  6.76it/s]"
     ]
    },
    {
     "name": "stdout",
     "output_type": "stream",
     "text": [
      "Training_loss 14.77387,   Relative Error 0.47197\n",
      "Training_loss 14.77570,   Relative Error 0.47193\n"
     ]
    },
    {
     "name": "stderr",
     "output_type": "stream",
     "text": [
      " 36%|███▋      | 729/2000 [02:16<03:11,  6.64it/s]"
     ]
    },
    {
     "name": "stdout",
     "output_type": "stream",
     "text": [
      "Training_loss 14.77960,   Relative Error 0.47189\n",
      "Training_loss 14.77168,   Relative Error 0.47179\n"
     ]
    },
    {
     "name": "stderr",
     "output_type": "stream",
     "text": [
      " 37%|███▋      | 731/2000 [02:16<03:25,  6.18it/s]"
     ]
    },
    {
     "name": "stdout",
     "output_type": "stream",
     "text": [
      "Training_loss 14.75844,   Relative Error 0.47174\n",
      "Training_loss 14.74707,   Relative Error 0.47167\n"
     ]
    },
    {
     "name": "stderr",
     "output_type": "stream",
     "text": [
      " 37%|███▋      | 733/2000 [02:16<03:28,  6.08it/s]"
     ]
    },
    {
     "name": "stdout",
     "output_type": "stream",
     "text": [
      "Training_loss 14.73822,   Relative Error 0.47156\n",
      "Training_loss 14.72601,   Relative Error 0.47150\n"
     ]
    },
    {
     "name": "stderr",
     "output_type": "stream",
     "text": [
      " 37%|███▋      | 735/2000 [02:17<03:15,  6.45it/s]"
     ]
    },
    {
     "name": "stdout",
     "output_type": "stream",
     "text": [
      "Training_loss 14.71678,   Relative Error 0.47134\n",
      "Training_loss 14.72138,   Relative Error 0.47130\n"
     ]
    },
    {
     "name": "stderr",
     "output_type": "stream",
     "text": [
      " 37%|███▋      | 737/2000 [02:17<03:10,  6.62it/s]"
     ]
    },
    {
     "name": "stdout",
     "output_type": "stream",
     "text": [
      "Training_loss 14.72369,   Relative Error 0.47125\n",
      "Training_loss 14.72041,   Relative Error 0.47110\n"
     ]
    },
    {
     "name": "stderr",
     "output_type": "stream",
     "text": [
      " 37%|███▋      | 739/2000 [02:17<03:05,  6.79it/s]"
     ]
    },
    {
     "name": "stdout",
     "output_type": "stream",
     "text": [
      "Training_loss 14.71179,   Relative Error 0.47098\n",
      "Training_loss 14.70867,   Relative Error 0.47092\n"
     ]
    },
    {
     "name": "stderr",
     "output_type": "stream",
     "text": [
      " 37%|███▋      | 741/2000 [02:17<03:28,  6.04it/s]"
     ]
    },
    {
     "name": "stdout",
     "output_type": "stream",
     "text": [
      "Training_loss 14.70734,   Relative Error 0.47082\n",
      "Training_loss 14.70258,   Relative Error 0.47067\n"
     ]
    },
    {
     "name": "stderr",
     "output_type": "stream",
     "text": [
      " 37%|███▋      | 743/2000 [02:18<03:28,  6.02it/s]"
     ]
    },
    {
     "name": "stdout",
     "output_type": "stream",
     "text": [
      "Training_loss 14.69515,   Relative Error 0.47059\n",
      "Training_loss 14.69296,   Relative Error 0.47050\n"
     ]
    },
    {
     "name": "stderr",
     "output_type": "stream",
     "text": [
      " 37%|███▋      | 745/2000 [02:18<03:17,  6.35it/s]"
     ]
    },
    {
     "name": "stdout",
     "output_type": "stream",
     "text": [
      "Training_loss 14.69020,   Relative Error 0.47046\n",
      "Training_loss 14.68579,   Relative Error 0.47044\n"
     ]
    },
    {
     "name": "stderr",
     "output_type": "stream",
     "text": [
      " 37%|███▋      | 747/2000 [02:18<03:12,  6.50it/s]"
     ]
    },
    {
     "name": "stdout",
     "output_type": "stream",
     "text": [
      "Training_loss 14.68399,   Relative Error 0.47036\n",
      "Training_loss 14.68208,   Relative Error 0.47032\n"
     ]
    },
    {
     "name": "stderr",
     "output_type": "stream",
     "text": [
      " 37%|███▋      | 749/2000 [02:19<03:10,  6.57it/s]"
     ]
    },
    {
     "name": "stdout",
     "output_type": "stream",
     "text": [
      "Training_loss 14.67896,   Relative Error 0.47021\n",
      "Training_loss 14.67632,   Relative Error 0.47010\n"
     ]
    },
    {
     "name": "stderr",
     "output_type": "stream",
     "text": [
      " 38%|███▊      | 751/2000 [02:19<03:02,  6.85it/s]"
     ]
    },
    {
     "name": "stdout",
     "output_type": "stream",
     "text": [
      "Training_loss 14.67324,   Relative Error 0.47002\n",
      "Training_loss 14.67219,   Relative Error 0.46998\n"
     ]
    },
    {
     "name": "stderr",
     "output_type": "stream",
     "text": [
      " 38%|███▊      | 753/2000 [02:19<03:03,  6.79it/s]"
     ]
    },
    {
     "name": "stdout",
     "output_type": "stream",
     "text": [
      "Training_loss 14.67140,   Relative Error 0.46987\n",
      "Training_loss 14.66183,   Relative Error 0.46980\n"
     ]
    },
    {
     "name": "stderr",
     "output_type": "stream",
     "text": [
      " 38%|███▊      | 755/2000 [02:20<03:15,  6.36it/s]"
     ]
    },
    {
     "name": "stdout",
     "output_type": "stream",
     "text": [
      "Training_loss 14.65288,   Relative Error 0.46971\n",
      "Training_loss 14.64525,   Relative Error 0.46964\n"
     ]
    },
    {
     "name": "stderr",
     "output_type": "stream",
     "text": [
      " 38%|███▊      | 757/2000 [02:20<03:15,  6.36it/s]"
     ]
    },
    {
     "name": "stdout",
     "output_type": "stream",
     "text": [
      "Training_loss 14.64570,   Relative Error 0.46952\n",
      "Training_loss 14.64204,   Relative Error 0.46945\n"
     ]
    },
    {
     "name": "stderr",
     "output_type": "stream",
     "text": [
      " 38%|███▊      | 759/2000 [02:20<03:18,  6.24it/s]"
     ]
    },
    {
     "name": "stdout",
     "output_type": "stream",
     "text": [
      "Training_loss 14.63831,   Relative Error 0.46930\n",
      "Training_loss 14.63338,   Relative Error 0.46921\n"
     ]
    },
    {
     "name": "stderr",
     "output_type": "stream",
     "text": [
      " 38%|███▊      | 761/2000 [02:21<03:14,  6.36it/s]"
     ]
    },
    {
     "name": "stdout",
     "output_type": "stream",
     "text": [
      "Training_loss 14.62565,   Relative Error 0.46908\n",
      "Training_loss 14.62918,   Relative Error 0.46903\n"
     ]
    },
    {
     "name": "stderr",
     "output_type": "stream",
     "text": [
      " 38%|███▊      | 763/2000 [02:21<03:09,  6.51it/s]"
     ]
    },
    {
     "name": "stdout",
     "output_type": "stream",
     "text": [
      "Training_loss 14.61479,   Relative Error 0.46889\n",
      "Training_loss 14.61027,   Relative Error 0.46886\n"
     ]
    },
    {
     "name": "stderr",
     "output_type": "stream",
     "text": [
      " 38%|███▊      | 765/2000 [02:21<02:56,  6.98it/s]"
     ]
    },
    {
     "name": "stdout",
     "output_type": "stream",
     "text": [
      "Training_loss 14.59628,   Relative Error 0.46872\n",
      "Training_loss 14.59868,   Relative Error 0.46868\n"
     ]
    },
    {
     "name": "stderr",
     "output_type": "stream",
     "text": [
      " 38%|███▊      | 767/2000 [02:21<03:00,  6.82it/s]"
     ]
    },
    {
     "name": "stdout",
     "output_type": "stream",
     "text": [
      "Training_loss 14.59582,   Relative Error 0.46859\n",
      "Training_loss 14.59537,   Relative Error 0.46850\n"
     ]
    },
    {
     "name": "stderr",
     "output_type": "stream",
     "text": [
      " 38%|███▊      | 769/2000 [02:22<03:05,  6.64it/s]"
     ]
    },
    {
     "name": "stdout",
     "output_type": "stream",
     "text": [
      "Training_loss 14.58097,   Relative Error 0.46837\n",
      "Training_loss 14.56837,   Relative Error 0.46831\n"
     ]
    },
    {
     "name": "stderr",
     "output_type": "stream",
     "text": [
      " 39%|███▊      | 771/2000 [02:22<03:05,  6.61it/s]"
     ]
    },
    {
     "name": "stdout",
     "output_type": "stream",
     "text": [
      "Training_loss 14.55463,   Relative Error 0.46818\n",
      "Training_loss 14.55209,   Relative Error 0.46813\n"
     ]
    },
    {
     "name": "stderr",
     "output_type": "stream",
     "text": [
      " 39%|███▊      | 773/2000 [02:22<03:02,  6.72it/s]"
     ]
    },
    {
     "name": "stdout",
     "output_type": "stream",
     "text": [
      "Training_loss 14.55450,   Relative Error 0.46800\n",
      "Training_loss 14.55772,   Relative Error 0.46788\n"
     ]
    },
    {
     "name": "stderr",
     "output_type": "stream",
     "text": [
      " 39%|███▉      | 775/2000 [02:23<02:59,  6.81it/s]"
     ]
    },
    {
     "name": "stdout",
     "output_type": "stream",
     "text": [
      "Training_loss 14.54898,   Relative Error 0.46781\n",
      "Training_loss 14.54937,   Relative Error 0.46778\n"
     ]
    },
    {
     "name": "stderr",
     "output_type": "stream",
     "text": [
      " 39%|███▉      | 777/2000 [02:23<02:55,  6.96it/s]"
     ]
    },
    {
     "name": "stdout",
     "output_type": "stream",
     "text": [
      "Training_loss 14.54582,   Relative Error 0.46763\n",
      "Training_loss 14.54092,   Relative Error 0.46760\n"
     ]
    },
    {
     "name": "stderr",
     "output_type": "stream",
     "text": [
      " 39%|███▉      | 779/2000 [02:23<02:57,  6.87it/s]"
     ]
    },
    {
     "name": "stdout",
     "output_type": "stream",
     "text": [
      "Training_loss 14.53577,   Relative Error 0.46746\n",
      "Training_loss 14.52940,   Relative Error 0.46740\n"
     ]
    },
    {
     "name": "stderr",
     "output_type": "stream",
     "text": [
      " 39%|███▉      | 781/2000 [02:23<02:51,  7.09it/s]"
     ]
    },
    {
     "name": "stdout",
     "output_type": "stream",
     "text": [
      "Training_loss 14.52703,   Relative Error 0.46728\n",
      "Training_loss 14.52926,   Relative Error 0.46724\n"
     ]
    },
    {
     "name": "stderr",
     "output_type": "stream",
     "text": [
      " 39%|███▉      | 783/2000 [02:24<02:57,  6.86it/s]"
     ]
    },
    {
     "name": "stdout",
     "output_type": "stream",
     "text": [
      "Training_loss 14.51987,   Relative Error 0.46711\n",
      "Training_loss 14.51077,   Relative Error 0.46704\n"
     ]
    },
    {
     "name": "stderr",
     "output_type": "stream",
     "text": [
      " 39%|███▉      | 785/2000 [02:24<02:59,  6.75it/s]"
     ]
    },
    {
     "name": "stdout",
     "output_type": "stream",
     "text": [
      "Training_loss 14.51337,   Relative Error 0.46699\n",
      "Training_loss 14.50237,   Relative Error 0.46694\n"
     ]
    },
    {
     "name": "stderr",
     "output_type": "stream",
     "text": [
      " 39%|███▉      | 787/2000 [02:24<02:56,  6.86it/s]"
     ]
    },
    {
     "name": "stdout",
     "output_type": "stream",
     "text": [
      "Training_loss 14.49070,   Relative Error 0.46689\n",
      "Training_loss 14.48259,   Relative Error 0.46677\n"
     ]
    },
    {
     "name": "stderr",
     "output_type": "stream",
     "text": [
      " 39%|███▉      | 789/2000 [02:25<02:54,  6.94it/s]"
     ]
    },
    {
     "name": "stdout",
     "output_type": "stream",
     "text": [
      "Training_loss 14.47857,   Relative Error 0.46675\n",
      "Training_loss 14.47374,   Relative Error 0.46660\n"
     ]
    },
    {
     "name": "stderr",
     "output_type": "stream",
     "text": [
      " 40%|███▉      | 791/2000 [02:25<02:55,  6.90it/s]"
     ]
    },
    {
     "name": "stdout",
     "output_type": "stream",
     "text": [
      "Training_loss 14.46979,   Relative Error 0.46658\n",
      "Training_loss 14.45648,   Relative Error 0.46645\n"
     ]
    },
    {
     "name": "stderr",
     "output_type": "stream",
     "text": [
      " 40%|███▉      | 793/2000 [02:25<02:48,  7.14it/s]"
     ]
    },
    {
     "name": "stdout",
     "output_type": "stream",
     "text": [
      "Training_loss 14.44855,   Relative Error 0.46633\n",
      "Training_loss 14.44148,   Relative Error 0.46623\n"
     ]
    },
    {
     "name": "stderr",
     "output_type": "stream",
     "text": [
      " 40%|███▉      | 795/2000 [02:26<02:52,  6.98it/s]"
     ]
    },
    {
     "name": "stdout",
     "output_type": "stream",
     "text": [
      "Training_loss 14.43707,   Relative Error 0.46619\n",
      "Training_loss 14.43006,   Relative Error 0.46612\n"
     ]
    },
    {
     "name": "stderr",
     "output_type": "stream",
     "text": [
      " 40%|███▉      | 797/2000 [02:26<02:48,  7.14it/s]"
     ]
    },
    {
     "name": "stdout",
     "output_type": "stream",
     "text": [
      "Training_loss 14.41730,   Relative Error 0.46600\n",
      "Training_loss 14.41631,   Relative Error 0.46595\n"
     ]
    },
    {
     "name": "stderr",
     "output_type": "stream",
     "text": [
      " 40%|███▉      | 799/2000 [02:26<02:45,  7.24it/s]"
     ]
    },
    {
     "name": "stdout",
     "output_type": "stream",
     "text": [
      "Training_loss 14.41246,   Relative Error 0.46592\n",
      "Training_loss 14.40883,   Relative Error 0.46589\n"
     ]
    },
    {
     "name": "stderr",
     "output_type": "stream",
     "text": [
      " 40%|████      | 801/2000 [02:26<02:43,  7.32it/s]"
     ]
    },
    {
     "name": "stdout",
     "output_type": "stream",
     "text": [
      "Training_loss 14.40794,   Relative Error 0.46582\n",
      "Training_loss 14.40095,   Relative Error 0.46573\n"
     ]
    },
    {
     "name": "stderr",
     "output_type": "stream",
     "text": [
      " 40%|████      | 803/2000 [02:27<02:46,  7.17it/s]"
     ]
    },
    {
     "name": "stdout",
     "output_type": "stream",
     "text": [
      "Training_loss 14.39416,   Relative Error 0.46564\n",
      "Training_loss 14.39669,   Relative Error 0.46551\n"
     ]
    },
    {
     "name": "stderr",
     "output_type": "stream",
     "text": [
      " 40%|████      | 805/2000 [02:27<02:44,  7.27it/s]"
     ]
    },
    {
     "name": "stdout",
     "output_type": "stream",
     "text": [
      "Training_loss 14.38922,   Relative Error 0.46540\n",
      "Training_loss 14.38392,   Relative Error 0.46530\n"
     ]
    },
    {
     "name": "stderr",
     "output_type": "stream",
     "text": [
      " 40%|████      | 807/2000 [02:27<02:49,  7.03it/s]"
     ]
    },
    {
     "name": "stdout",
     "output_type": "stream",
     "text": [
      "Training_loss 14.38028,   Relative Error 0.46527\n",
      "Training_loss 14.37074,   Relative Error 0.46521\n"
     ]
    },
    {
     "name": "stderr",
     "output_type": "stream",
     "text": [
      " 40%|████      | 809/2000 [02:27<02:53,  6.87it/s]"
     ]
    },
    {
     "name": "stdout",
     "output_type": "stream",
     "text": [
      "Training_loss 14.37479,   Relative Error 0.46515\n",
      "Training_loss 14.37598,   Relative Error 0.46504\n"
     ]
    },
    {
     "name": "stderr",
     "output_type": "stream",
     "text": [
      " 41%|████      | 811/2000 [02:28<02:50,  6.98it/s]"
     ]
    },
    {
     "name": "stdout",
     "output_type": "stream",
     "text": [
      "Training_loss 14.37287,   Relative Error 0.46492\n",
      "Training_loss 14.36878,   Relative Error 0.46483\n"
     ]
    },
    {
     "name": "stderr",
     "output_type": "stream",
     "text": [
      " 41%|████      | 813/2000 [02:28<03:13,  6.13it/s]"
     ]
    },
    {
     "name": "stdout",
     "output_type": "stream",
     "text": [
      "Training_loss 14.35853,   Relative Error 0.46477\n",
      "Training_loss 14.35449,   Relative Error 0.46463\n"
     ]
    },
    {
     "name": "stderr",
     "output_type": "stream",
     "text": [
      " 41%|████      | 815/2000 [02:29<03:27,  5.70it/s]"
     ]
    },
    {
     "name": "stdout",
     "output_type": "stream",
     "text": [
      "Training_loss 14.35589,   Relative Error 0.46452\n",
      "Training_loss 14.35995,   Relative Error 0.46446\n"
     ]
    },
    {
     "name": "stderr",
     "output_type": "stream",
     "text": [
      " 41%|████      | 817/2000 [02:29<03:36,  5.46it/s]"
     ]
    },
    {
     "name": "stdout",
     "output_type": "stream",
     "text": [
      "Training_loss 14.35451,   Relative Error 0.46438\n",
      "Training_loss 14.35233,   Relative Error 0.46433\n"
     ]
    },
    {
     "name": "stderr",
     "output_type": "stream",
     "text": [
      " 41%|████      | 819/2000 [02:29<03:32,  5.57it/s]"
     ]
    },
    {
     "name": "stdout",
     "output_type": "stream",
     "text": [
      "Training_loss 14.35011,   Relative Error 0.46428\n",
      "Training_loss 14.34303,   Relative Error 0.46416\n"
     ]
    },
    {
     "name": "stderr",
     "output_type": "stream",
     "text": [
      " 41%|████      | 821/2000 [02:30<03:21,  5.85it/s]"
     ]
    },
    {
     "name": "stdout",
     "output_type": "stream",
     "text": [
      "Training_loss 14.33945,   Relative Error 0.46414\n",
      "Training_loss 14.32726,   Relative Error 0.46408\n"
     ]
    },
    {
     "name": "stderr",
     "output_type": "stream",
     "text": [
      " 41%|████      | 823/2000 [02:30<03:07,  6.28it/s]"
     ]
    },
    {
     "name": "stdout",
     "output_type": "stream",
     "text": [
      "Training_loss 14.31575,   Relative Error 0.46403\n",
      "Training_loss 14.31158,   Relative Error 0.46389\n"
     ]
    },
    {
     "name": "stderr",
     "output_type": "stream",
     "text": [
      " 41%|████▏     | 825/2000 [02:30<03:00,  6.51it/s]"
     ]
    },
    {
     "name": "stdout",
     "output_type": "stream",
     "text": [
      "Training_loss 14.30570,   Relative Error 0.46381\n",
      "Training_loss 14.30510,   Relative Error 0.46370\n"
     ]
    },
    {
     "name": "stderr",
     "output_type": "stream",
     "text": [
      " 41%|████▏     | 827/2000 [02:30<02:56,  6.66it/s]"
     ]
    },
    {
     "name": "stdout",
     "output_type": "stream",
     "text": [
      "Training_loss 14.30637,   Relative Error 0.46359\n",
      "Training_loss 14.30254,   Relative Error 0.46352\n"
     ]
    },
    {
     "name": "stderr",
     "output_type": "stream",
     "text": [
      " 41%|████▏     | 829/2000 [02:31<02:51,  6.85it/s]"
     ]
    },
    {
     "name": "stdout",
     "output_type": "stream",
     "text": [
      "Training_loss 14.29685,   Relative Error 0.46344\n",
      "Training_loss 14.29130,   Relative Error 0.46335\n"
     ]
    },
    {
     "name": "stderr",
     "output_type": "stream",
     "text": [
      " 42%|████▏     | 831/2000 [02:31<02:47,  6.96it/s]"
     ]
    },
    {
     "name": "stdout",
     "output_type": "stream",
     "text": [
      "Training_loss 14.28751,   Relative Error 0.46327\n",
      "Training_loss 14.27869,   Relative Error 0.46321\n"
     ]
    },
    {
     "name": "stderr",
     "output_type": "stream",
     "text": [
      " 42%|████▏     | 833/2000 [02:31<02:51,  6.81it/s]"
     ]
    },
    {
     "name": "stdout",
     "output_type": "stream",
     "text": [
      "Training_loss 14.27415,   Relative Error 0.46312\n",
      "Training_loss 14.26935,   Relative Error 0.46303\n"
     ]
    },
    {
     "name": "stderr",
     "output_type": "stream",
     "text": [
      " 42%|████▏     | 835/2000 [02:32<02:53,  6.71it/s]"
     ]
    },
    {
     "name": "stdout",
     "output_type": "stream",
     "text": [
      "Training_loss 14.26457,   Relative Error 0.46294\n",
      "Training_loss 14.26244,   Relative Error 0.46287\n"
     ]
    },
    {
     "name": "stderr",
     "output_type": "stream",
     "text": [
      " 42%|████▏     | 837/2000 [02:32<02:47,  6.95it/s]"
     ]
    },
    {
     "name": "stdout",
     "output_type": "stream",
     "text": [
      "Training_loss 14.25327,   Relative Error 0.46273\n",
      "Training_loss 14.25376,   Relative Error 0.46268\n"
     ]
    },
    {
     "name": "stderr",
     "output_type": "stream",
     "text": [
      " 42%|████▏     | 839/2000 [02:32<02:50,  6.80it/s]"
     ]
    },
    {
     "name": "stdout",
     "output_type": "stream",
     "text": [
      "Training_loss 14.25233,   Relative Error 0.46264\n",
      "Training_loss 14.24911,   Relative Error 0.46255\n"
     ]
    },
    {
     "name": "stderr",
     "output_type": "stream",
     "text": [
      " 42%|████▏     | 841/2000 [02:32<02:46,  6.96it/s]"
     ]
    },
    {
     "name": "stdout",
     "output_type": "stream",
     "text": [
      "Training_loss 14.24111,   Relative Error 0.46242\n",
      "Training_loss 14.23706,   Relative Error 0.46235\n"
     ]
    },
    {
     "name": "stderr",
     "output_type": "stream",
     "text": [
      " 42%|████▏     | 843/2000 [02:33<02:45,  6.99it/s]"
     ]
    },
    {
     "name": "stdout",
     "output_type": "stream",
     "text": [
      "Training_loss 14.23243,   Relative Error 0.46227\n",
      "Training_loss 14.22235,   Relative Error 0.46221\n"
     ]
    },
    {
     "name": "stderr",
     "output_type": "stream",
     "text": [
      " 42%|████▏     | 845/2000 [02:33<02:44,  7.01it/s]"
     ]
    },
    {
     "name": "stdout",
     "output_type": "stream",
     "text": [
      "Training_loss 14.22032,   Relative Error 0.46214\n",
      "Training_loss 14.21872,   Relative Error 0.46209\n"
     ]
    },
    {
     "name": "stderr",
     "output_type": "stream",
     "text": [
      " 42%|████▏     | 847/2000 [02:33<02:47,  6.87it/s]"
     ]
    },
    {
     "name": "stdout",
     "output_type": "stream",
     "text": [
      "Training_loss 14.20647,   Relative Error 0.46198\n",
      "Training_loss 14.20318,   Relative Error 0.46195\n"
     ]
    },
    {
     "name": "stderr",
     "output_type": "stream",
     "text": [
      " 42%|████▏     | 849/2000 [02:34<02:46,  6.92it/s]"
     ]
    },
    {
     "name": "stdout",
     "output_type": "stream",
     "text": [
      "Training_loss 14.19519,   Relative Error 0.46186\n",
      "Training_loss 14.19788,   Relative Error 0.46182\n"
     ]
    },
    {
     "name": "stderr",
     "output_type": "stream",
     "text": [
      " 43%|████▎     | 851/2000 [02:34<02:47,  6.86it/s]"
     ]
    },
    {
     "name": "stdout",
     "output_type": "stream",
     "text": [
      "Training_loss 14.19945,   Relative Error 0.46171\n",
      "Training_loss 14.18846,   Relative Error 0.46159\n"
     ]
    },
    {
     "name": "stderr",
     "output_type": "stream",
     "text": [
      " 43%|████▎     | 853/2000 [02:34<03:00,  6.35it/s]"
     ]
    },
    {
     "name": "stdout",
     "output_type": "stream",
     "text": [
      "Training_loss 14.18263,   Relative Error 0.46152\n",
      "Training_loss 14.18719,   Relative Error 0.46148\n"
     ]
    },
    {
     "name": "stderr",
     "output_type": "stream",
     "text": [
      " 43%|████▎     | 855/2000 [02:35<02:58,  6.43it/s]"
     ]
    },
    {
     "name": "stdout",
     "output_type": "stream",
     "text": [
      "Training_loss 14.18141,   Relative Error 0.46133\n",
      "Training_loss 14.17879,   Relative Error 0.46124\n"
     ]
    },
    {
     "name": "stderr",
     "output_type": "stream",
     "text": [
      " 43%|████▎     | 857/2000 [02:35<02:53,  6.60it/s]"
     ]
    },
    {
     "name": "stdout",
     "output_type": "stream",
     "text": [
      "Training_loss 14.17693,   Relative Error 0.46118\n",
      "Training_loss 14.17445,   Relative Error 0.46108\n"
     ]
    },
    {
     "name": "stderr",
     "output_type": "stream",
     "text": [
      " 43%|████▎     | 859/2000 [02:35<02:42,  7.04it/s]"
     ]
    },
    {
     "name": "stdout",
     "output_type": "stream",
     "text": [
      "Training_loss 14.16241,   Relative Error 0.46103\n",
      "Training_loss 14.16298,   Relative Error 0.46100\n"
     ]
    },
    {
     "name": "stderr",
     "output_type": "stream",
     "text": [
      " 43%|████▎     | 861/2000 [02:35<02:51,  6.64it/s]"
     ]
    },
    {
     "name": "stdout",
     "output_type": "stream",
     "text": [
      "Training_loss 14.16045,   Relative Error 0.46092\n",
      "Training_loss 14.14972,   Relative Error 0.46085\n"
     ]
    },
    {
     "name": "stderr",
     "output_type": "stream",
     "text": [
      " 43%|████▎     | 863/2000 [02:36<02:48,  6.74it/s]"
     ]
    },
    {
     "name": "stdout",
     "output_type": "stream",
     "text": [
      "Training_loss 14.14853,   Relative Error 0.46081\n",
      "Training_loss 14.14567,   Relative Error 0.46079\n"
     ]
    },
    {
     "name": "stderr",
     "output_type": "stream",
     "text": [
      " 43%|████▎     | 865/2000 [02:36<02:50,  6.64it/s]"
     ]
    },
    {
     "name": "stdout",
     "output_type": "stream",
     "text": [
      "Training_loss 14.13523,   Relative Error 0.46068\n",
      "Training_loss 14.13630,   Relative Error 0.46063\n"
     ]
    },
    {
     "name": "stderr",
     "output_type": "stream",
     "text": [
      " 43%|████▎     | 867/2000 [02:36<02:42,  6.97it/s]"
     ]
    },
    {
     "name": "stdout",
     "output_type": "stream",
     "text": [
      "Training_loss 14.13046,   Relative Error 0.46054\n",
      "Training_loss 14.12147,   Relative Error 0.46043\n"
     ]
    },
    {
     "name": "stderr",
     "output_type": "stream",
     "text": [
      " 43%|████▎     | 869/2000 [02:37<02:43,  6.92it/s]"
     ]
    },
    {
     "name": "stdout",
     "output_type": "stream",
     "text": [
      "Training_loss 14.11364,   Relative Error 0.46033\n",
      "Training_loss 14.10940,   Relative Error 0.46024\n"
     ]
    },
    {
     "name": "stderr",
     "output_type": "stream",
     "text": [
      " 44%|████▎     | 871/2000 [02:37<02:44,  6.87it/s]"
     ]
    },
    {
     "name": "stdout",
     "output_type": "stream",
     "text": [
      "Training_loss 14.11104,   Relative Error 0.46014\n",
      "Training_loss 14.10420,   Relative Error 0.46003\n"
     ]
    },
    {
     "name": "stderr",
     "output_type": "stream",
     "text": [
      " 44%|████▎     | 873/2000 [02:37<02:40,  7.04it/s]"
     ]
    },
    {
     "name": "stdout",
     "output_type": "stream",
     "text": [
      "Training_loss 14.09236,   Relative Error 0.45992\n",
      "Training_loss 14.09419,   Relative Error 0.45982\n"
     ]
    },
    {
     "name": "stderr",
     "output_type": "stream",
     "text": [
      " 44%|████▍     | 875/2000 [02:38<02:44,  6.83it/s]"
     ]
    },
    {
     "name": "stdout",
     "output_type": "stream",
     "text": [
      "Training_loss 14.08736,   Relative Error 0.45971\n",
      "Training_loss 14.08290,   Relative Error 0.45958\n"
     ]
    },
    {
     "name": "stderr",
     "output_type": "stream",
     "text": [
      " 44%|████▍     | 877/2000 [02:38<02:46,  6.75it/s]"
     ]
    },
    {
     "name": "stdout",
     "output_type": "stream",
     "text": [
      "Training_loss 14.08273,   Relative Error 0.45951\n",
      "Training_loss 14.08580,   Relative Error 0.45940\n"
     ]
    },
    {
     "name": "stderr",
     "output_type": "stream",
     "text": [
      " 44%|████▍     | 879/2000 [02:38<02:47,  6.70it/s]"
     ]
    },
    {
     "name": "stdout",
     "output_type": "stream",
     "text": [
      "Training_loss 14.08298,   Relative Error 0.45930\n",
      "Training_loss 14.07545,   Relative Error 0.45919\n"
     ]
    },
    {
     "name": "stderr",
     "output_type": "stream",
     "text": [
      " 44%|████▍     | 881/2000 [02:38<02:37,  7.09it/s]"
     ]
    },
    {
     "name": "stdout",
     "output_type": "stream",
     "text": [
      "Training_loss 14.06703,   Relative Error 0.45913\n",
      "Training_loss 14.05740,   Relative Error 0.45899\n"
     ]
    },
    {
     "name": "stderr",
     "output_type": "stream",
     "text": [
      " 44%|████▍     | 883/2000 [02:39<02:43,  6.83it/s]"
     ]
    },
    {
     "name": "stdout",
     "output_type": "stream",
     "text": [
      "Training_loss 14.05309,   Relative Error 0.45891\n",
      "Training_loss 14.05000,   Relative Error 0.45883\n"
     ]
    },
    {
     "name": "stderr",
     "output_type": "stream",
     "text": [
      " 44%|████▍     | 885/2000 [02:39<02:44,  6.76it/s]"
     ]
    },
    {
     "name": "stdout",
     "output_type": "stream",
     "text": [
      "Training_loss 14.04524,   Relative Error 0.45879\n",
      "Training_loss 14.03914,   Relative Error 0.45877\n"
     ]
    },
    {
     "name": "stderr",
     "output_type": "stream",
     "text": [
      " 44%|████▍     | 887/2000 [02:39<02:40,  6.93it/s]"
     ]
    },
    {
     "name": "stdout",
     "output_type": "stream",
     "text": [
      "Training_loss 14.03239,   Relative Error 0.45869\n",
      "Training_loss 14.02754,   Relative Error 0.45861\n"
     ]
    },
    {
     "name": "stderr",
     "output_type": "stream",
     "text": [
      " 44%|████▍     | 889/2000 [02:40<02:40,  6.93it/s]"
     ]
    },
    {
     "name": "stdout",
     "output_type": "stream",
     "text": [
      "Training_loss 14.01697,   Relative Error 0.45855\n",
      "Training_loss 14.00627,   Relative Error 0.45850\n"
     ]
    },
    {
     "name": "stderr",
     "output_type": "stream",
     "text": [
      " 45%|████▍     | 891/2000 [02:40<02:46,  6.65it/s]"
     ]
    },
    {
     "name": "stdout",
     "output_type": "stream",
     "text": [
      "Training_loss 14.01041,   Relative Error 0.45840\n",
      "Training_loss 14.00851,   Relative Error 0.45831\n"
     ]
    },
    {
     "name": "stderr",
     "output_type": "stream",
     "text": [
      " 45%|████▍     | 893/2000 [02:40<02:47,  6.61it/s]"
     ]
    },
    {
     "name": "stdout",
     "output_type": "stream",
     "text": [
      "Training_loss 14.00752,   Relative Error 0.45827\n",
      "Training_loss 14.00236,   Relative Error 0.45822\n"
     ]
    },
    {
     "name": "stderr",
     "output_type": "stream",
     "text": [
      " 45%|████▍     | 895/2000 [02:40<02:47,  6.59it/s]"
     ]
    },
    {
     "name": "stdout",
     "output_type": "stream",
     "text": [
      "Training_loss 13.99242,   Relative Error 0.45816\n",
      "Training_loss 13.98553,   Relative Error 0.45808\n"
     ]
    },
    {
     "name": "stderr",
     "output_type": "stream",
     "text": [
      " 45%|████▍     | 897/2000 [02:41<02:48,  6.55it/s]"
     ]
    },
    {
     "name": "stdout",
     "output_type": "stream",
     "text": [
      "Training_loss 13.98099,   Relative Error 0.45799\n",
      "Training_loss 13.97593,   Relative Error 0.45794\n"
     ]
    },
    {
     "name": "stderr",
     "output_type": "stream",
     "text": [
      " 45%|████▍     | 899/2000 [02:41<02:46,  6.61it/s]"
     ]
    },
    {
     "name": "stdout",
     "output_type": "stream",
     "text": [
      "Training_loss 13.96971,   Relative Error 0.45786\n",
      "Training_loss 13.96486,   Relative Error 0.45779\n"
     ]
    },
    {
     "name": "stderr",
     "output_type": "stream",
     "text": [
      " 45%|████▌     | 901/2000 [02:41<02:44,  6.67it/s]"
     ]
    },
    {
     "name": "stdout",
     "output_type": "stream",
     "text": [
      "Training_loss 13.95904,   Relative Error 0.45772\n",
      "Training_loss 13.95720,   Relative Error 0.45764\n"
     ]
    },
    {
     "name": "stderr",
     "output_type": "stream",
     "text": [
      " 45%|████▌     | 903/2000 [02:42<02:52,  6.36it/s]"
     ]
    },
    {
     "name": "stdout",
     "output_type": "stream",
     "text": [
      "Training_loss 13.95803,   Relative Error 0.45759\n",
      "Training_loss 13.95677,   Relative Error 0.45751\n"
     ]
    },
    {
     "name": "stderr",
     "output_type": "stream",
     "text": [
      " 45%|████▌     | 905/2000 [02:42<02:53,  6.33it/s]"
     ]
    },
    {
     "name": "stdout",
     "output_type": "stream",
     "text": [
      "Training_loss 13.94739,   Relative Error 0.45740\n",
      "Training_loss 13.94738,   Relative Error 0.45732\n"
     ]
    },
    {
     "name": "stderr",
     "output_type": "stream",
     "text": [
      "\r",
      " 45%|████▌     | 906/2000 [02:42<02:51,  6.38it/s]"
     ]
    },
    {
     "name": "stdout",
     "output_type": "stream",
     "text": [
      "Training_loss 13.94541,   Relative Error 0.45721\n"
     ]
    },
    {
     "name": "stderr",
     "output_type": "stream",
     "text": [
      "\r",
      " 45%|████▌     | 907/2000 [02:42<03:29,  5.21it/s]"
     ]
    },
    {
     "name": "stdout",
     "output_type": "stream",
     "text": [
      "Training_loss 13.94576,   Relative Error 0.45715\n"
     ]
    },
    {
     "name": "stderr",
     "output_type": "stream",
     "text": [
      "\r",
      " 45%|████▌     | 908/2000 [02:43<03:50,  4.73it/s]"
     ]
    },
    {
     "name": "stdout",
     "output_type": "stream",
     "text": [
      "Training_loss 13.94860,   Relative Error 0.45704\n"
     ]
    },
    {
     "name": "stderr",
     "output_type": "stream",
     "text": [
      " 46%|████▌     | 910/2000 [02:43<03:38,  5.00it/s]"
     ]
    },
    {
     "name": "stdout",
     "output_type": "stream",
     "text": [
      "Training_loss 13.93736,   Relative Error 0.45698\n",
      "Training_loss 13.93484,   Relative Error 0.45688\n"
     ]
    },
    {
     "name": "stderr",
     "output_type": "stream",
     "text": [
      " 46%|████▌     | 912/2000 [02:43<03:19,  5.47it/s]"
     ]
    },
    {
     "name": "stdout",
     "output_type": "stream",
     "text": [
      "Training_loss 13.92732,   Relative Error 0.45680\n",
      "Training_loss 13.92895,   Relative Error 0.45669\n"
     ]
    },
    {
     "name": "stderr",
     "output_type": "stream",
     "text": [
      " 46%|████▌     | 914/2000 [02:44<03:10,  5.71it/s]"
     ]
    },
    {
     "name": "stdout",
     "output_type": "stream",
     "text": [
      "Training_loss 13.92211,   Relative Error 0.45661\n",
      "Training_loss 13.92017,   Relative Error 0.45652\n"
     ]
    },
    {
     "name": "stderr",
     "output_type": "stream",
     "text": [
      "\r",
      " 46%|████▌     | 915/2000 [02:44<03:26,  5.26it/s]"
     ]
    },
    {
     "name": "stdout",
     "output_type": "stream",
     "text": [
      "Training_loss 13.91625,   Relative Error 0.45645\n"
     ]
    },
    {
     "name": "stderr",
     "output_type": "stream",
     "text": [
      "\r",
      " 46%|████▌     | 916/2000 [02:44<03:31,  5.13it/s]"
     ]
    },
    {
     "name": "stdout",
     "output_type": "stream",
     "text": [
      "Training_loss 13.91437,   Relative Error 0.45635\n"
     ]
    },
    {
     "name": "stderr",
     "output_type": "stream",
     "text": [
      "\r",
      " 46%|████▌     | 917/2000 [02:44<03:44,  4.83it/s]"
     ]
    },
    {
     "name": "stdout",
     "output_type": "stream",
     "text": [
      "Training_loss 13.90516,   Relative Error 0.45629\n"
     ]
    },
    {
     "name": "stderr",
     "output_type": "stream",
     "text": [
      "\r",
      " 46%|████▌     | 918/2000 [02:45<03:46,  4.78it/s]"
     ]
    },
    {
     "name": "stdout",
     "output_type": "stream",
     "text": [
      "Training_loss 13.89973,   Relative Error 0.45621\n"
     ]
    },
    {
     "name": "stderr",
     "output_type": "stream",
     "text": [
      "\r",
      " 46%|████▌     | 919/2000 [02:45<03:51,  4.68it/s]"
     ]
    },
    {
     "name": "stdout",
     "output_type": "stream",
     "text": [
      "Training_loss 13.89375,   Relative Error 0.45613\n"
     ]
    },
    {
     "name": "stderr",
     "output_type": "stream",
     "text": [
      " 46%|████▌     | 921/2000 [02:45<03:55,  4.58it/s]"
     ]
    },
    {
     "name": "stdout",
     "output_type": "stream",
     "text": [
      "Training_loss 13.89817,   Relative Error 0.45608\n",
      "Training_loss 13.88842,   Relative Error 0.45596\n"
     ]
    },
    {
     "name": "stderr",
     "output_type": "stream",
     "text": [
      " 46%|████▌     | 923/2000 [02:46<03:31,  5.08it/s]"
     ]
    },
    {
     "name": "stdout",
     "output_type": "stream",
     "text": [
      "Training_loss 13.87761,   Relative Error 0.45586\n",
      "Training_loss 13.87148,   Relative Error 0.45579\n"
     ]
    },
    {
     "name": "stderr",
     "output_type": "stream",
     "text": [
      " 46%|████▋     | 925/2000 [02:46<03:22,  5.31it/s]"
     ]
    },
    {
     "name": "stdout",
     "output_type": "stream",
     "text": [
      "Training_loss 13.87431,   Relative Error 0.45570\n",
      "Training_loss 13.86977,   Relative Error 0.45562\n"
     ]
    },
    {
     "name": "stderr",
     "output_type": "stream",
     "text": [
      " 46%|████▋     | 927/2000 [02:46<03:11,  5.59it/s]"
     ]
    },
    {
     "name": "stdout",
     "output_type": "stream",
     "text": [
      "Training_loss 13.86333,   Relative Error 0.45555\n",
      "Training_loss 13.86238,   Relative Error 0.45545\n"
     ]
    },
    {
     "name": "stderr",
     "output_type": "stream",
     "text": [
      " 46%|████▋     | 929/2000 [02:47<03:09,  5.65it/s]"
     ]
    },
    {
     "name": "stdout",
     "output_type": "stream",
     "text": [
      "Training_loss 13.85663,   Relative Error 0.45538\n",
      "Training_loss 13.85895,   Relative Error 0.45533\n"
     ]
    },
    {
     "name": "stderr",
     "output_type": "stream",
     "text": [
      " 47%|████▋     | 931/2000 [02:47<03:25,  5.21it/s]"
     ]
    },
    {
     "name": "stdout",
     "output_type": "stream",
     "text": [
      "Training_loss 13.85178,   Relative Error 0.45527\n",
      "Training_loss 13.84559,   Relative Error 0.45517\n"
     ]
    },
    {
     "name": "stderr",
     "output_type": "stream",
     "text": [
      "\r",
      " 47%|████▋     | 932/2000 [02:47<03:24,  5.23it/s]"
     ]
    },
    {
     "name": "stdout",
     "output_type": "stream",
     "text": [
      "Training_loss 13.84450,   Relative Error 0.45509\n"
     ]
    },
    {
     "name": "stderr",
     "output_type": "stream",
     "text": [
      "\r",
      " 47%|████▋     | 933/2000 [02:48<03:29,  5.09it/s]"
     ]
    },
    {
     "name": "stdout",
     "output_type": "stream",
     "text": [
      "Training_loss 13.84328,   Relative Error 0.45499\n"
     ]
    },
    {
     "name": "stderr",
     "output_type": "stream",
     "text": [
      "\r",
      " 47%|████▋     | 934/2000 [02:48<03:35,  4.94it/s]"
     ]
    },
    {
     "name": "stdout",
     "output_type": "stream",
     "text": [
      "Training_loss 13.83920,   Relative Error 0.45491\n"
     ]
    },
    {
     "name": "stderr",
     "output_type": "stream",
     "text": [
      "\r",
      " 47%|████▋     | 935/2000 [02:48<03:42,  4.78it/s]"
     ]
    },
    {
     "name": "stdout",
     "output_type": "stream",
     "text": [
      "Training_loss 13.83582,   Relative Error 0.45478\n"
     ]
    },
    {
     "name": "stderr",
     "output_type": "stream",
     "text": [
      "\r",
      " 47%|████▋     | 936/2000 [02:48<03:49,  4.63it/s]"
     ]
    },
    {
     "name": "stdout",
     "output_type": "stream",
     "text": [
      "Training_loss 13.82655,   Relative Error 0.45474\n"
     ]
    },
    {
     "name": "stderr",
     "output_type": "stream",
     "text": [
      "\r",
      " 47%|████▋     | 937/2000 [02:48<03:58,  4.46it/s]"
     ]
    },
    {
     "name": "stdout",
     "output_type": "stream",
     "text": [
      "Training_loss 13.82546,   Relative Error 0.45469\n"
     ]
    },
    {
     "name": "stderr",
     "output_type": "stream",
     "text": [
      "\r",
      " 47%|████▋     | 938/2000 [02:49<04:00,  4.42it/s]"
     ]
    },
    {
     "name": "stdout",
     "output_type": "stream",
     "text": [
      "Training_loss 13.82199,   Relative Error 0.45462\n"
     ]
    },
    {
     "name": "stderr",
     "output_type": "stream",
     "text": [
      "\r",
      " 47%|████▋     | 939/2000 [02:49<04:09,  4.26it/s]"
     ]
    },
    {
     "name": "stdout",
     "output_type": "stream",
     "text": [
      "Training_loss 13.81504,   Relative Error 0.45453\n"
     ]
    },
    {
     "name": "stderr",
     "output_type": "stream",
     "text": [
      "\r",
      " 47%|████▋     | 940/2000 [02:49<04:17,  4.12it/s]"
     ]
    },
    {
     "name": "stdout",
     "output_type": "stream",
     "text": [
      "Training_loss 13.81292,   Relative Error 0.45444\n"
     ]
    },
    {
     "name": "stderr",
     "output_type": "stream",
     "text": [
      "\r",
      " 47%|████▋     | 941/2000 [02:49<04:10,  4.23it/s]"
     ]
    },
    {
     "name": "stdout",
     "output_type": "stream",
     "text": [
      "Training_loss 13.81571,   Relative Error 0.45435\n"
     ]
    },
    {
     "name": "stderr",
     "output_type": "stream",
     "text": [
      "\r",
      " 47%|████▋     | 942/2000 [02:50<04:17,  4.11it/s]"
     ]
    },
    {
     "name": "stdout",
     "output_type": "stream",
     "text": [
      "Training_loss 13.81512,   Relative Error 0.45427\n"
     ]
    },
    {
     "name": "stderr",
     "output_type": "stream",
     "text": [
      "\r",
      " 47%|████▋     | 943/2000 [02:50<04:12,  4.19it/s]"
     ]
    },
    {
     "name": "stdout",
     "output_type": "stream",
     "text": [
      "Training_loss 13.81271,   Relative Error 0.45417\n"
     ]
    },
    {
     "name": "stderr",
     "output_type": "stream",
     "text": [
      " 47%|████▋     | 945/2000 [02:50<03:57,  4.44it/s]"
     ]
    },
    {
     "name": "stdout",
     "output_type": "stream",
     "text": [
      "Training_loss 13.80557,   Relative Error 0.45405\n",
      "Training_loss 13.80068,   Relative Error 0.45391\n"
     ]
    },
    {
     "name": "stderr",
     "output_type": "stream",
     "text": [
      " 47%|████▋     | 947/2000 [02:51<03:58,  4.41it/s]"
     ]
    },
    {
     "name": "stdout",
     "output_type": "stream",
     "text": [
      "Training_loss 13.79713,   Relative Error 0.45379\n",
      "Training_loss 13.80060,   Relative Error 0.45370\n"
     ]
    },
    {
     "name": "stderr",
     "output_type": "stream",
     "text": [
      " 47%|████▋     | 949/2000 [02:51<03:46,  4.64it/s]"
     ]
    },
    {
     "name": "stdout",
     "output_type": "stream",
     "text": [
      "Training_loss 13.79444,   Relative Error 0.45363\n",
      "Training_loss 13.78996,   Relative Error 0.45360\n"
     ]
    },
    {
     "name": "stderr",
     "output_type": "stream",
     "text": [
      "\r",
      " 48%|████▊     | 950/2000 [02:51<03:57,  4.41it/s]"
     ]
    },
    {
     "name": "stdout",
     "output_type": "stream",
     "text": [
      "Training_loss 13.78873,   Relative Error 0.45356\n"
     ]
    },
    {
     "name": "stderr",
     "output_type": "stream",
     "text": [
      "\r",
      " 48%|████▊     | 951/2000 [02:52<04:55,  3.55it/s]"
     ]
    },
    {
     "name": "stdout",
     "output_type": "stream",
     "text": [
      "Training_loss 13.78217,   Relative Error 0.45348\n"
     ]
    },
    {
     "name": "stderr",
     "output_type": "stream",
     "text": [
      "\r",
      " 48%|████▊     | 952/2000 [02:52<05:09,  3.39it/s]"
     ]
    },
    {
     "name": "stdout",
     "output_type": "stream",
     "text": [
      "Training_loss 13.77089,   Relative Error 0.45338\n"
     ]
    },
    {
     "name": "stderr",
     "output_type": "stream",
     "text": [
      "\r",
      " 48%|████▊     | 953/2000 [02:53<05:04,  3.44it/s]"
     ]
    },
    {
     "name": "stdout",
     "output_type": "stream",
     "text": [
      "Training_loss 13.76759,   Relative Error 0.45330\n"
     ]
    },
    {
     "name": "stderr",
     "output_type": "stream",
     "text": [
      " 48%|████▊     | 955/2000 [02:53<04:20,  4.01it/s]"
     ]
    },
    {
     "name": "stdout",
     "output_type": "stream",
     "text": [
      "Training_loss 13.75595,   Relative Error 0.45320\n",
      "Training_loss 13.74898,   Relative Error 0.45312\n"
     ]
    },
    {
     "name": "stderr",
     "output_type": "stream",
     "text": [
      " 48%|████▊     | 957/2000 [02:53<03:49,  4.54it/s]"
     ]
    },
    {
     "name": "stdout",
     "output_type": "stream",
     "text": [
      "Training_loss 13.74877,   Relative Error 0.45306\n",
      "Training_loss 13.74440,   Relative Error 0.45300\n"
     ]
    },
    {
     "name": "stderr",
     "output_type": "stream",
     "text": [
      " 48%|████▊     | 959/2000 [02:54<03:27,  5.01it/s]"
     ]
    },
    {
     "name": "stdout",
     "output_type": "stream",
     "text": [
      "Training_loss 13.74880,   Relative Error 0.45295\n",
      "Training_loss 13.75300,   Relative Error 0.45290\n"
     ]
    },
    {
     "name": "stderr",
     "output_type": "stream",
     "text": [
      " 48%|████▊     | 961/2000 [02:54<03:16,  5.28it/s]"
     ]
    },
    {
     "name": "stdout",
     "output_type": "stream",
     "text": [
      "Training_loss 13.75253,   Relative Error 0.45286\n",
      "Training_loss 13.74707,   Relative Error 0.45279\n"
     ]
    },
    {
     "name": "stderr",
     "output_type": "stream",
     "text": [
      " 48%|████▊     | 963/2000 [02:54<03:10,  5.46it/s]"
     ]
    },
    {
     "name": "stdout",
     "output_type": "stream",
     "text": [
      "Training_loss 13.73970,   Relative Error 0.45273\n",
      "Training_loss 13.73290,   Relative Error 0.45266\n"
     ]
    },
    {
     "name": "stderr",
     "output_type": "stream",
     "text": [
      "\r",
      " 48%|████▊     | 964/2000 [02:55<03:13,  5.35it/s]"
     ]
    },
    {
     "name": "stdout",
     "output_type": "stream",
     "text": [
      "Training_loss 13.73201,   Relative Error 0.45261\n"
     ]
    },
    {
     "name": "stderr",
     "output_type": "stream",
     "text": [
      " 48%|████▊     | 966/2000 [02:55<03:13,  5.35it/s]"
     ]
    },
    {
     "name": "stdout",
     "output_type": "stream",
     "text": [
      "Training_loss 13.72129,   Relative Error 0.45251\n",
      "Training_loss 13.72004,   Relative Error 0.45245\n"
     ]
    },
    {
     "name": "stderr",
     "output_type": "stream",
     "text": [
      " 48%|████▊     | 968/2000 [02:55<03:13,  5.32it/s]"
     ]
    },
    {
     "name": "stdout",
     "output_type": "stream",
     "text": [
      "Training_loss 13.71678,   Relative Error 0.45242\n",
      "Training_loss 13.71956,   Relative Error 0.45231\n"
     ]
    },
    {
     "name": "stderr",
     "output_type": "stream",
     "text": [
      " 48%|████▊     | 970/2000 [02:56<03:09,  5.44it/s]"
     ]
    },
    {
     "name": "stdout",
     "output_type": "stream",
     "text": [
      "Training_loss 13.71909,   Relative Error 0.45228\n",
      "Training_loss 13.71801,   Relative Error 0.45220\n"
     ]
    },
    {
     "name": "stderr",
     "output_type": "stream",
     "text": [
      " 49%|████▊     | 972/2000 [02:56<03:02,  5.64it/s]"
     ]
    },
    {
     "name": "stdout",
     "output_type": "stream",
     "text": [
      "Training_loss 13.71513,   Relative Error 0.45211\n",
      "Training_loss 13.70489,   Relative Error 0.45200\n"
     ]
    },
    {
     "name": "stderr",
     "output_type": "stream",
     "text": [
      " 49%|████▊     | 974/2000 [02:56<02:59,  5.73it/s]"
     ]
    },
    {
     "name": "stdout",
     "output_type": "stream",
     "text": [
      "Training_loss 13.70240,   Relative Error 0.45192\n",
      "Training_loss 13.70485,   Relative Error 0.45184\n"
     ]
    },
    {
     "name": "stderr",
     "output_type": "stream",
     "text": [
      " 49%|████▉     | 976/2000 [02:57<02:59,  5.70it/s]"
     ]
    },
    {
     "name": "stdout",
     "output_type": "stream",
     "text": [
      "Training_loss 13.69616,   Relative Error 0.45173\n",
      "Training_loss 13.68569,   Relative Error 0.45168\n"
     ]
    },
    {
     "name": "stderr",
     "output_type": "stream",
     "text": [
      " 49%|████▉     | 978/2000 [02:57<02:59,  5.70it/s]"
     ]
    },
    {
     "name": "stdout",
     "output_type": "stream",
     "text": [
      "Training_loss 13.68214,   Relative Error 0.45160\n",
      "Training_loss 13.67246,   Relative Error 0.45153\n"
     ]
    },
    {
     "name": "stderr",
     "output_type": "stream",
     "text": [
      " 49%|████▉     | 980/2000 [02:57<02:55,  5.81it/s]"
     ]
    },
    {
     "name": "stdout",
     "output_type": "stream",
     "text": [
      "Training_loss 13.66739,   Relative Error 0.45148\n",
      "Training_loss 13.66454,   Relative Error 0.45135\n"
     ]
    },
    {
     "name": "stderr",
     "output_type": "stream",
     "text": [
      " 49%|████▉     | 982/2000 [02:58<02:52,  5.89it/s]"
     ]
    },
    {
     "name": "stdout",
     "output_type": "stream",
     "text": [
      "Training_loss 13.65939,   Relative Error 0.45127\n",
      "Training_loss 13.65325,   Relative Error 0.45115\n"
     ]
    },
    {
     "name": "stderr",
     "output_type": "stream",
     "text": [
      " 49%|████▉     | 984/2000 [02:58<02:48,  6.03it/s]"
     ]
    },
    {
     "name": "stdout",
     "output_type": "stream",
     "text": [
      "Training_loss 13.64305,   Relative Error 0.45104\n",
      "Training_loss 13.63884,   Relative Error 0.45097\n"
     ]
    },
    {
     "name": "stderr",
     "output_type": "stream",
     "text": [
      " 49%|████▉     | 986/2000 [02:58<02:44,  6.15it/s]"
     ]
    },
    {
     "name": "stdout",
     "output_type": "stream",
     "text": [
      "Training_loss 13.64262,   Relative Error 0.45092\n",
      "Training_loss 13.63904,   Relative Error 0.45089\n"
     ]
    },
    {
     "name": "stderr",
     "output_type": "stream",
     "text": [
      " 49%|████▉     | 988/2000 [02:59<02:43,  6.20it/s]"
     ]
    },
    {
     "name": "stdout",
     "output_type": "stream",
     "text": [
      "Training_loss 13.63234,   Relative Error 0.45081\n",
      "Training_loss 13.62784,   Relative Error 0.45077\n"
     ]
    },
    {
     "name": "stderr",
     "output_type": "stream",
     "text": [
      " 50%|████▉     | 990/2000 [02:59<02:43,  6.16it/s]"
     ]
    },
    {
     "name": "stdout",
     "output_type": "stream",
     "text": [
      "Training_loss 13.62220,   Relative Error 0.45070\n",
      "Training_loss 13.61812,   Relative Error 0.45068\n"
     ]
    },
    {
     "name": "stderr",
     "output_type": "stream",
     "text": [
      " 50%|████▉     | 992/2000 [02:59<02:40,  6.28it/s]"
     ]
    },
    {
     "name": "stdout",
     "output_type": "stream",
     "text": [
      "Training_loss 13.61476,   Relative Error 0.45056\n",
      "Training_loss 13.61249,   Relative Error 0.45054\n"
     ]
    },
    {
     "name": "stderr",
     "output_type": "stream",
     "text": [
      " 50%|████▉     | 994/2000 [03:00<02:52,  5.83it/s]"
     ]
    },
    {
     "name": "stdout",
     "output_type": "stream",
     "text": [
      "Training_loss 13.60923,   Relative Error 0.45047\n",
      "Training_loss 13.59900,   Relative Error 0.45042\n"
     ]
    },
    {
     "name": "stderr",
     "output_type": "stream",
     "text": [
      " 50%|████▉     | 996/2000 [03:00<02:54,  5.75it/s]"
     ]
    },
    {
     "name": "stdout",
     "output_type": "stream",
     "text": [
      "Training_loss 13.59358,   Relative Error 0.45032\n",
      "Training_loss 13.58267,   Relative Error 0.45022\n"
     ]
    },
    {
     "name": "stderr",
     "output_type": "stream",
     "text": [
      "\r",
      " 50%|████▉     | 997/2000 [03:00<03:05,  5.41it/s]"
     ]
    },
    {
     "name": "stdout",
     "output_type": "stream",
     "text": [
      "Training_loss 13.57343,   Relative Error 0.45017\n"
     ]
    },
    {
     "name": "stderr",
     "output_type": "stream",
     "text": [
      "\r",
      " 50%|████▉     | 998/2000 [03:01<03:13,  5.19it/s]"
     ]
    },
    {
     "name": "stdout",
     "output_type": "stream",
     "text": [
      "Training_loss 13.57264,   Relative Error 0.45007\n"
     ]
    },
    {
     "name": "stderr",
     "output_type": "stream",
     "text": [
      "\r",
      " 50%|████▉     | 999/2000 [03:01<03:22,  4.95it/s]"
     ]
    },
    {
     "name": "stdout",
     "output_type": "stream",
     "text": [
      "Training_loss 13.56995,   Relative Error 0.45004\n"
     ]
    },
    {
     "name": "stderr",
     "output_type": "stream",
     "text": [
      "\r",
      " 50%|█████     | 1000/2000 [03:01<03:48,  4.37it/s]"
     ]
    },
    {
     "name": "stdout",
     "output_type": "stream",
     "text": [
      "Training_loss 13.56435,   Relative Error 0.44997\n"
     ]
    },
    {
     "name": "stderr",
     "output_type": "stream",
     "text": [
      "\r",
      " 50%|█████     | 1001/2000 [03:01<04:06,  4.06it/s]"
     ]
    },
    {
     "name": "stdout",
     "output_type": "stream",
     "text": [
      "Training_loss 13.55825,   Relative Error 0.44988\n"
     ]
    },
    {
     "name": "stderr",
     "output_type": "stream",
     "text": [
      " 50%|█████     | 1003/2000 [03:02<03:45,  4.42it/s]"
     ]
    },
    {
     "name": "stdout",
     "output_type": "stream",
     "text": [
      "Training_loss 13.54972,   Relative Error 0.44978\n",
      "Training_loss 13.54589,   Relative Error 0.44965\n"
     ]
    },
    {
     "name": "stderr",
     "output_type": "stream",
     "text": [
      " 50%|█████     | 1005/2000 [03:02<03:32,  4.68it/s]"
     ]
    },
    {
     "name": "stdout",
     "output_type": "stream",
     "text": [
      "Training_loss 13.54069,   Relative Error 0.44961\n",
      "Training_loss 13.53833,   Relative Error 0.44958\n"
     ]
    },
    {
     "name": "stderr",
     "output_type": "stream",
     "text": [
      " 50%|█████     | 1007/2000 [03:03<03:24,  4.86it/s]"
     ]
    },
    {
     "name": "stdout",
     "output_type": "stream",
     "text": [
      "Training_loss 13.53547,   Relative Error 0.44951\n",
      "Training_loss 13.52744,   Relative Error 0.44945\n"
     ]
    },
    {
     "name": "stderr",
     "output_type": "stream",
     "text": [
      " 50%|█████     | 1009/2000 [03:03<03:22,  4.90it/s]"
     ]
    },
    {
     "name": "stdout",
     "output_type": "stream",
     "text": [
      "Training_loss 13.52400,   Relative Error 0.44932\n",
      "Training_loss 13.51971,   Relative Error 0.44927\n"
     ]
    },
    {
     "name": "stderr",
     "output_type": "stream",
     "text": [
      " 51%|█████     | 1011/2000 [03:03<03:21,  4.91it/s]"
     ]
    },
    {
     "name": "stdout",
     "output_type": "stream",
     "text": [
      "Training_loss 13.51421,   Relative Error 0.44920\n",
      "Training_loss 13.51105,   Relative Error 0.44907\n"
     ]
    },
    {
     "name": "stderr",
     "output_type": "stream",
     "text": [
      " 51%|█████     | 1013/2000 [03:04<03:23,  4.86it/s]"
     ]
    },
    {
     "name": "stdout",
     "output_type": "stream",
     "text": [
      "Training_loss 13.50536,   Relative Error 0.44900\n",
      "Training_loss 13.50673,   Relative Error 0.44894\n"
     ]
    },
    {
     "name": "stderr",
     "output_type": "stream",
     "text": [
      " 51%|█████     | 1015/2000 [03:04<03:11,  5.15it/s]"
     ]
    },
    {
     "name": "stdout",
     "output_type": "stream",
     "text": [
      "Training_loss 13.50273,   Relative Error 0.44888\n",
      "Training_loss 13.49792,   Relative Error 0.44881\n"
     ]
    },
    {
     "name": "stderr",
     "output_type": "stream",
     "text": [
      "\r",
      " 51%|█████     | 1016/2000 [03:04<03:05,  5.30it/s]"
     ]
    },
    {
     "name": "stdout",
     "output_type": "stream",
     "text": [
      "Training_loss 13.48871,   Relative Error 0.44877\n"
     ]
    },
    {
     "name": "stderr",
     "output_type": "stream",
     "text": [
      "\r",
      " 51%|█████     | 1017/2000 [03:05<03:15,  5.04it/s]"
     ]
    },
    {
     "name": "stdout",
     "output_type": "stream",
     "text": [
      "Training_loss 13.49000,   Relative Error 0.44871\n"
     ]
    },
    {
     "name": "stderr",
     "output_type": "stream",
     "text": [
      "\r",
      " 51%|█████     | 1018/2000 [03:05<03:33,  4.60it/s]"
     ]
    },
    {
     "name": "stdout",
     "output_type": "stream",
     "text": [
      "Training_loss 13.48006,   Relative Error 0.44861\n"
     ]
    },
    {
     "name": "stderr",
     "output_type": "stream",
     "text": [
      " 51%|█████     | 1020/2000 [03:05<03:24,  4.79it/s]"
     ]
    },
    {
     "name": "stdout",
     "output_type": "stream",
     "text": [
      "Training_loss 13.48349,   Relative Error 0.44856\n",
      "Training_loss 13.47901,   Relative Error 0.44847\n"
     ]
    },
    {
     "name": "stderr",
     "output_type": "stream",
     "text": [
      " 51%|█████     | 1022/2000 [03:06<03:10,  5.15it/s]"
     ]
    },
    {
     "name": "stdout",
     "output_type": "stream",
     "text": [
      "Training_loss 13.47895,   Relative Error 0.44842\n",
      "Training_loss 13.47836,   Relative Error 0.44836\n"
     ]
    },
    {
     "name": "stderr",
     "output_type": "stream",
     "text": [
      " 51%|█████     | 1024/2000 [03:06<02:59,  5.43it/s]"
     ]
    },
    {
     "name": "stdout",
     "output_type": "stream",
     "text": [
      "Training_loss 13.48282,   Relative Error 0.44831\n",
      "Training_loss 13.47869,   Relative Error 0.44826\n"
     ]
    },
    {
     "name": "stderr",
     "output_type": "stream",
     "text": [
      " 51%|█████▏    | 1026/2000 [03:06<02:51,  5.69it/s]"
     ]
    },
    {
     "name": "stdout",
     "output_type": "stream",
     "text": [
      "Training_loss 13.46817,   Relative Error 0.44816\n",
      "Training_loss 13.46909,   Relative Error 0.44811\n"
     ]
    },
    {
     "name": "stderr",
     "output_type": "stream",
     "text": [
      "\r",
      " 51%|█████▏    | 1027/2000 [03:07<03:12,  5.06it/s]"
     ]
    },
    {
     "name": "stdout",
     "output_type": "stream",
     "text": [
      "Training_loss 13.46952,   Relative Error 0.44807\n"
     ]
    },
    {
     "name": "stderr",
     "output_type": "stream",
     "text": [
      " 51%|█████▏    | 1029/2000 [03:07<03:15,  4.98it/s]"
     ]
    },
    {
     "name": "stdout",
     "output_type": "stream",
     "text": [
      "Training_loss 13.46815,   Relative Error 0.44806\n",
      "Training_loss 13.46267,   Relative Error 0.44798\n"
     ]
    },
    {
     "name": "stderr",
     "output_type": "stream",
     "text": [
      " 52%|█████▏    | 1031/2000 [03:07<03:10,  5.08it/s]"
     ]
    },
    {
     "name": "stdout",
     "output_type": "stream",
     "text": [
      "Training_loss 13.46685,   Relative Error 0.44793\n",
      "Training_loss 13.45838,   Relative Error 0.44789\n"
     ]
    },
    {
     "name": "stderr",
     "output_type": "stream",
     "text": [
      " 52%|█████▏    | 1033/2000 [03:08<03:12,  5.03it/s]"
     ]
    },
    {
     "name": "stdout",
     "output_type": "stream",
     "text": [
      "Training_loss 13.46104,   Relative Error 0.44780\n",
      "Training_loss 13.45885,   Relative Error 0.44773\n"
     ]
    },
    {
     "name": "stderr",
     "output_type": "stream",
     "text": [
      " 52%|█████▏    | 1035/2000 [03:08<03:01,  5.33it/s]"
     ]
    },
    {
     "name": "stdout",
     "output_type": "stream",
     "text": [
      "Training_loss 13.45688,   Relative Error 0.44767\n",
      "Training_loss 13.45401,   Relative Error 0.44763\n"
     ]
    },
    {
     "name": "stderr",
     "output_type": "stream",
     "text": [
      " 52%|█████▏    | 1037/2000 [03:08<02:48,  5.71it/s]"
     ]
    },
    {
     "name": "stdout",
     "output_type": "stream",
     "text": [
      "Training_loss 13.44428,   Relative Error 0.44753\n",
      "Training_loss 13.43576,   Relative Error 0.44749\n"
     ]
    },
    {
     "name": "stderr",
     "output_type": "stream",
     "text": [
      "\r",
      " 52%|█████▏    | 1038/2000 [03:09<02:41,  5.95it/s]"
     ]
    },
    {
     "name": "stdout",
     "output_type": "stream",
     "text": [
      "Training_loss 13.43016,   Relative Error 0.44743\n"
     ]
    },
    {
     "name": "stderr",
     "output_type": "stream",
     "text": [
      "\r",
      " 52%|█████▏    | 1039/2000 [03:09<03:31,  4.54it/s]"
     ]
    },
    {
     "name": "stdout",
     "output_type": "stream",
     "text": [
      "Training_loss 13.42446,   Relative Error 0.44733\n"
     ]
    },
    {
     "name": "stderr",
     "output_type": "stream",
     "text": [
      "\r",
      " 52%|█████▏    | 1040/2000 [03:09<04:28,  3.58it/s]"
     ]
    },
    {
     "name": "stdout",
     "output_type": "stream",
     "text": [
      "Training_loss 13.41711,   Relative Error 0.44724\n"
     ]
    },
    {
     "name": "stderr",
     "output_type": "stream",
     "text": [
      "\r",
      " 52%|█████▏    | 1041/2000 [03:10<04:57,  3.23it/s]"
     ]
    },
    {
     "name": "stdout",
     "output_type": "stream",
     "text": [
      "Training_loss 13.41112,   Relative Error 0.44715\n"
     ]
    },
    {
     "name": "stderr",
     "output_type": "stream",
     "text": [
      "\r",
      " 52%|█████▏    | 1042/2000 [03:10<04:44,  3.36it/s]"
     ]
    },
    {
     "name": "stdout",
     "output_type": "stream",
     "text": [
      "Training_loss 13.41497,   Relative Error 0.44710\n"
     ]
    },
    {
     "name": "stderr",
     "output_type": "stream",
     "text": [
      "\r",
      " 52%|█████▏    | 1043/2000 [03:10<04:33,  3.50it/s]"
     ]
    },
    {
     "name": "stdout",
     "output_type": "stream",
     "text": [
      "Training_loss 13.40798,   Relative Error 0.44700\n"
     ]
    },
    {
     "name": "stderr",
     "output_type": "stream",
     "text": [
      "\r",
      " 52%|█████▏    | 1044/2000 [03:11<04:57,  3.22it/s]"
     ]
    },
    {
     "name": "stdout",
     "output_type": "stream",
     "text": [
      "Training_loss 13.41031,   Relative Error 0.44690\n"
     ]
    },
    {
     "name": "stderr",
     "output_type": "stream",
     "text": [
      "\r",
      " 52%|█████▏    | 1045/2000 [03:11<05:05,  3.13it/s]"
     ]
    },
    {
     "name": "stdout",
     "output_type": "stream",
     "text": [
      "Training_loss 13.40935,   Relative Error 0.44685\n"
     ]
    },
    {
     "name": "stderr",
     "output_type": "stream",
     "text": [
      "\r",
      " 52%|█████▏    | 1046/2000 [03:11<04:36,  3.45it/s]"
     ]
    },
    {
     "name": "stdout",
     "output_type": "stream",
     "text": [
      "Training_loss 13.40241,   Relative Error 0.44676\n"
     ]
    },
    {
     "name": "stderr",
     "output_type": "stream",
     "text": [
      "\r",
      " 52%|█████▏    | 1047/2000 [03:11<04:15,  3.73it/s]"
     ]
    },
    {
     "name": "stdout",
     "output_type": "stream",
     "text": [
      "Training_loss 13.40722,   Relative Error 0.44671\n"
     ]
    },
    {
     "name": "stderr",
     "output_type": "stream",
     "text": [
      "\r",
      " 52%|█████▏    | 1048/2000 [03:12<04:18,  3.69it/s]"
     ]
    },
    {
     "name": "stdout",
     "output_type": "stream",
     "text": [
      "Training_loss 13.41140,   Relative Error 0.44666\n"
     ]
    },
    {
     "name": "stderr",
     "output_type": "stream",
     "text": [
      "\r",
      " 52%|█████▏    | 1049/2000 [03:12<04:14,  3.74it/s]"
     ]
    },
    {
     "name": "stdout",
     "output_type": "stream",
     "text": [
      "Training_loss 13.41588,   Relative Error 0.44661\n"
     ]
    },
    {
     "name": "stderr",
     "output_type": "stream",
     "text": [
      " 53%|█████▎    | 1051/2000 [03:12<03:38,  4.33it/s]"
     ]
    },
    {
     "name": "stdout",
     "output_type": "stream",
     "text": [
      "Training_loss 13.41575,   Relative Error 0.44655\n",
      "Training_loss 13.41175,   Relative Error 0.44652\n"
     ]
    },
    {
     "name": "stderr",
     "output_type": "stream",
     "text": [
      " 53%|█████▎    | 1053/2000 [03:13<03:21,  4.70it/s]"
     ]
    },
    {
     "name": "stdout",
     "output_type": "stream",
     "text": [
      "Training_loss 13.40960,   Relative Error 0.44644\n",
      "Training_loss 13.40262,   Relative Error 0.44636\n"
     ]
    },
    {
     "name": "stderr",
     "output_type": "stream",
     "text": [
      " 53%|█████▎    | 1055/2000 [03:13<03:03,  5.15it/s]"
     ]
    },
    {
     "name": "stdout",
     "output_type": "stream",
     "text": [
      "Training_loss 13.40462,   Relative Error 0.44627\n",
      "Training_loss 13.40519,   Relative Error 0.44625\n"
     ]
    },
    {
     "name": "stderr",
     "output_type": "stream",
     "text": [
      " 53%|█████▎    | 1057/2000 [03:13<03:12,  4.91it/s]"
     ]
    },
    {
     "name": "stdout",
     "output_type": "stream",
     "text": [
      "Training_loss 13.39354,   Relative Error 0.44620\n",
      "Training_loss 13.39217,   Relative Error 0.44610\n"
     ]
    },
    {
     "name": "stderr",
     "output_type": "stream",
     "text": [
      " 53%|█████▎    | 1059/2000 [03:14<02:50,  5.50it/s]"
     ]
    },
    {
     "name": "stdout",
     "output_type": "stream",
     "text": [
      "Training_loss 13.38021,   Relative Error 0.44600\n",
      "Training_loss 13.37409,   Relative Error 0.44590\n"
     ]
    },
    {
     "name": "stderr",
     "output_type": "stream",
     "text": [
      " 53%|█████▎    | 1061/2000 [03:14<02:39,  5.90it/s]"
     ]
    },
    {
     "name": "stdout",
     "output_type": "stream",
     "text": [
      "Training_loss 13.37805,   Relative Error 0.44585\n",
      "Training_loss 13.37737,   Relative Error 0.44580\n"
     ]
    },
    {
     "name": "stderr",
     "output_type": "stream",
     "text": [
      " 53%|█████▎    | 1063/2000 [03:14<02:27,  6.35it/s]"
     ]
    },
    {
     "name": "stdout",
     "output_type": "stream",
     "text": [
      "Training_loss 13.37030,   Relative Error 0.44571\n",
      "Training_loss 13.37029,   Relative Error 0.44565\n"
     ]
    },
    {
     "name": "stderr",
     "output_type": "stream",
     "text": [
      " 53%|█████▎    | 1065/2000 [03:15<02:26,  6.39it/s]"
     ]
    },
    {
     "name": "stdout",
     "output_type": "stream",
     "text": [
      "Training_loss 13.36970,   Relative Error 0.44560\n",
      "Training_loss 13.37002,   Relative Error 0.44559\n"
     ]
    },
    {
     "name": "stderr",
     "output_type": "stream",
     "text": [
      " 53%|█████▎    | 1067/2000 [03:15<02:19,  6.68it/s]"
     ]
    },
    {
     "name": "stdout",
     "output_type": "stream",
     "text": [
      "Training_loss 13.36592,   Relative Error 0.44547\n",
      "Training_loss 13.36049,   Relative Error 0.44542\n"
     ]
    },
    {
     "name": "stderr",
     "output_type": "stream",
     "text": [
      " 53%|█████▎    | 1069/2000 [03:15<02:15,  6.89it/s]"
     ]
    },
    {
     "name": "stdout",
     "output_type": "stream",
     "text": [
      "Training_loss 13.36393,   Relative Error 0.44537\n",
      "Training_loss 13.36626,   Relative Error 0.44533\n"
     ]
    },
    {
     "name": "stderr",
     "output_type": "stream",
     "text": [
      " 54%|█████▎    | 1071/2000 [03:16<02:13,  6.95it/s]"
     ]
    },
    {
     "name": "stdout",
     "output_type": "stream",
     "text": [
      "Training_loss 13.36978,   Relative Error 0.44525\n",
      "Training_loss 13.36233,   Relative Error 0.44515\n"
     ]
    },
    {
     "name": "stderr",
     "output_type": "stream",
     "text": [
      " 54%|█████▎    | 1073/2000 [03:16<02:15,  6.84it/s]"
     ]
    },
    {
     "name": "stdout",
     "output_type": "stream",
     "text": [
      "Training_loss 13.36536,   Relative Error 0.44506\n",
      "Training_loss 13.36071,   Relative Error 0.44505\n"
     ]
    },
    {
     "name": "stderr",
     "output_type": "stream",
     "text": [
      " 54%|█████▍    | 1075/2000 [03:16<02:31,  6.11it/s]"
     ]
    },
    {
     "name": "stdout",
     "output_type": "stream",
     "text": [
      "Training_loss 13.35104,   Relative Error 0.44495\n",
      "Training_loss 13.34642,   Relative Error 0.44483\n"
     ]
    },
    {
     "name": "stderr",
     "output_type": "stream",
     "text": [
      " 54%|█████▍    | 1077/2000 [03:17<02:42,  5.69it/s]"
     ]
    },
    {
     "name": "stdout",
     "output_type": "stream",
     "text": [
      "Training_loss 13.33994,   Relative Error 0.44477\n",
      "Training_loss 13.32760,   Relative Error 0.44471\n"
     ]
    },
    {
     "name": "stderr",
     "output_type": "stream",
     "text": [
      " 54%|█████▍    | 1079/2000 [03:17<02:46,  5.52it/s]"
     ]
    },
    {
     "name": "stdout",
     "output_type": "stream",
     "text": [
      "Training_loss 13.32439,   Relative Error 0.44463\n",
      "Training_loss 13.32195,   Relative Error 0.44458\n"
     ]
    },
    {
     "name": "stderr",
     "output_type": "stream",
     "text": [
      " 54%|█████▍    | 1081/2000 [03:17<02:46,  5.52it/s]"
     ]
    },
    {
     "name": "stdout",
     "output_type": "stream",
     "text": [
      "Training_loss 13.31343,   Relative Error 0.44449\n",
      "Training_loss 13.31159,   Relative Error 0.44441\n"
     ]
    },
    {
     "name": "stderr",
     "output_type": "stream",
     "text": [
      " 54%|█████▍    | 1083/2000 [03:18<02:39,  5.77it/s]"
     ]
    },
    {
     "name": "stdout",
     "output_type": "stream",
     "text": [
      "Training_loss 13.30599,   Relative Error 0.44439\n",
      "Training_loss 13.30467,   Relative Error 0.44433\n"
     ]
    },
    {
     "name": "stderr",
     "output_type": "stream",
     "text": [
      " 54%|█████▍    | 1085/2000 [03:18<02:28,  6.16it/s]"
     ]
    },
    {
     "name": "stdout",
     "output_type": "stream",
     "text": [
      "Training_loss 13.30330,   Relative Error 0.44423\n",
      "Training_loss 13.30228,   Relative Error 0.44418\n"
     ]
    },
    {
     "name": "stderr",
     "output_type": "stream",
     "text": [
      " 54%|█████▍    | 1087/2000 [03:18<02:25,  6.30it/s]"
     ]
    },
    {
     "name": "stdout",
     "output_type": "stream",
     "text": [
      "Training_loss 13.29909,   Relative Error 0.44411\n",
      "Training_loss 13.30191,   Relative Error 0.44407\n"
     ]
    },
    {
     "name": "stderr",
     "output_type": "stream",
     "text": [
      " 54%|█████▍    | 1089/2000 [03:19<02:17,  6.60it/s]"
     ]
    },
    {
     "name": "stdout",
     "output_type": "stream",
     "text": [
      "Training_loss 13.29553,   Relative Error 0.44402\n",
      "Training_loss 13.28322,   Relative Error 0.44392\n"
     ]
    },
    {
     "name": "stderr",
     "output_type": "stream",
     "text": [
      " 55%|█████▍    | 1091/2000 [03:19<02:16,  6.67it/s]"
     ]
    },
    {
     "name": "stdout",
     "output_type": "stream",
     "text": [
      "Training_loss 13.28557,   Relative Error 0.44384\n",
      "Training_loss 13.27661,   Relative Error 0.44371\n"
     ]
    },
    {
     "name": "stderr",
     "output_type": "stream",
     "text": [
      " 55%|█████▍    | 1093/2000 [03:19<02:10,  6.94it/s]"
     ]
    },
    {
     "name": "stdout",
     "output_type": "stream",
     "text": [
      "Training_loss 13.27526,   Relative Error 0.44366\n",
      "Training_loss 13.27373,   Relative Error 0.44362\n"
     ]
    },
    {
     "name": "stderr",
     "output_type": "stream",
     "text": [
      " 55%|█████▍    | 1095/2000 [03:19<02:07,  7.07it/s]"
     ]
    },
    {
     "name": "stdout",
     "output_type": "stream",
     "text": [
      "Training_loss 13.27593,   Relative Error 0.44354\n",
      "Training_loss 13.26361,   Relative Error 0.44343\n"
     ]
    },
    {
     "name": "stderr",
     "output_type": "stream",
     "text": [
      " 55%|█████▍    | 1097/2000 [03:20<02:05,  7.18it/s]"
     ]
    },
    {
     "name": "stdout",
     "output_type": "stream",
     "text": [
      "Training_loss 13.26087,   Relative Error 0.44331\n",
      "Training_loss 13.25485,   Relative Error 0.44325\n"
     ]
    },
    {
     "name": "stderr",
     "output_type": "stream",
     "text": [
      " 55%|█████▍    | 1099/2000 [03:20<02:08,  7.03it/s]"
     ]
    },
    {
     "name": "stdout",
     "output_type": "stream",
     "text": [
      "Training_loss 13.25934,   Relative Error 0.44321\n",
      "Training_loss 13.25961,   Relative Error 0.44315\n"
     ]
    },
    {
     "name": "stderr",
     "output_type": "stream",
     "text": [
      " 55%|█████▌    | 1101/2000 [03:20<02:08,  6.98it/s]"
     ]
    },
    {
     "name": "stdout",
     "output_type": "stream",
     "text": [
      "Training_loss 13.25623,   Relative Error 0.44303\n",
      "Training_loss 13.25212,   Relative Error 0.44297\n"
     ]
    },
    {
     "name": "stderr",
     "output_type": "stream",
     "text": [
      " 55%|█████▌    | 1103/2000 [03:21<02:07,  7.01it/s]"
     ]
    },
    {
     "name": "stdout",
     "output_type": "stream",
     "text": [
      "Training_loss 13.25137,   Relative Error 0.44289\n",
      "Training_loss 13.25352,   Relative Error 0.44286\n"
     ]
    },
    {
     "name": "stderr",
     "output_type": "stream",
     "text": [
      " 55%|█████▌    | 1105/2000 [03:21<02:09,  6.92it/s]"
     ]
    },
    {
     "name": "stdout",
     "output_type": "stream",
     "text": [
      "Training_loss 13.24856,   Relative Error 0.44278\n",
      "Training_loss 13.24119,   Relative Error 0.44267\n"
     ]
    },
    {
     "name": "stderr",
     "output_type": "stream",
     "text": [
      " 55%|█████▌    | 1107/2000 [03:21<02:05,  7.10it/s]"
     ]
    },
    {
     "name": "stdout",
     "output_type": "stream",
     "text": [
      "Training_loss 13.24466,   Relative Error 0.44260\n",
      "Training_loss 13.24332,   Relative Error 0.44255\n"
     ]
    },
    {
     "name": "stderr",
     "output_type": "stream",
     "text": [
      " 55%|█████▌    | 1109/2000 [03:21<02:18,  6.44it/s]"
     ]
    },
    {
     "name": "stdout",
     "output_type": "stream",
     "text": [
      "Training_loss 13.23604,   Relative Error 0.44248\n",
      "Training_loss 13.23305,   Relative Error 0.44239\n"
     ]
    },
    {
     "name": "stderr",
     "output_type": "stream",
     "text": [
      " 56%|█████▌    | 1111/2000 [03:22<02:17,  6.47it/s]"
     ]
    },
    {
     "name": "stdout",
     "output_type": "stream",
     "text": [
      "Training_loss 13.22502,   Relative Error 0.44230\n",
      "Training_loss 13.22028,   Relative Error 0.44219\n"
     ]
    },
    {
     "name": "stderr",
     "output_type": "stream",
     "text": [
      " 56%|█████▌    | 1113/2000 [03:22<02:12,  6.72it/s]"
     ]
    },
    {
     "name": "stdout",
     "output_type": "stream",
     "text": [
      "Training_loss 13.21223,   Relative Error 0.44210\n",
      "Training_loss 13.20800,   Relative Error 0.44199\n"
     ]
    },
    {
     "name": "stderr",
     "output_type": "stream",
     "text": [
      " 56%|█████▌    | 1115/2000 [03:22<02:09,  6.83it/s]"
     ]
    },
    {
     "name": "stdout",
     "output_type": "stream",
     "text": [
      "Training_loss 13.19569,   Relative Error 0.44192\n",
      "Training_loss 13.19033,   Relative Error 0.44187\n"
     ]
    },
    {
     "name": "stderr",
     "output_type": "stream",
     "text": [
      " 56%|█████▌    | 1117/2000 [03:23<02:10,  6.77it/s]"
     ]
    },
    {
     "name": "stdout",
     "output_type": "stream",
     "text": [
      "Training_loss 13.18957,   Relative Error 0.44182\n",
      "Training_loss 13.18537,   Relative Error 0.44180\n"
     ]
    },
    {
     "name": "stderr",
     "output_type": "stream",
     "text": [
      " 56%|█████▌    | 1119/2000 [03:23<02:05,  7.01it/s]"
     ]
    },
    {
     "name": "stdout",
     "output_type": "stream",
     "text": [
      "Training_loss 13.18275,   Relative Error 0.44171\n",
      "Training_loss 13.17298,   Relative Error 0.44165\n"
     ]
    },
    {
     "name": "stderr",
     "output_type": "stream",
     "text": [
      " 56%|█████▌    | 1121/2000 [03:23<02:04,  7.04it/s]"
     ]
    },
    {
     "name": "stdout",
     "output_type": "stream",
     "text": [
      "Training_loss 13.17186,   Relative Error 0.44162\n",
      "Training_loss 13.17129,   Relative Error 0.44153\n"
     ]
    },
    {
     "name": "stderr",
     "output_type": "stream",
     "text": [
      " 56%|█████▌    | 1123/2000 [03:24<02:03,  7.10it/s]"
     ]
    },
    {
     "name": "stdout",
     "output_type": "stream",
     "text": [
      "Training_loss 13.17502,   Relative Error 0.44146\n",
      "Training_loss 13.16712,   Relative Error 0.44140\n"
     ]
    },
    {
     "name": "stderr",
     "output_type": "stream",
     "text": [
      " 56%|█████▋    | 1125/2000 [03:24<01:57,  7.44it/s]"
     ]
    },
    {
     "name": "stdout",
     "output_type": "stream",
     "text": [
      "Training_loss 13.16297,   Relative Error 0.44133\n",
      "Training_loss 13.15989,   Relative Error 0.44125\n"
     ]
    },
    {
     "name": "stderr",
     "output_type": "stream",
     "text": [
      " 56%|█████▋    | 1127/2000 [03:24<01:59,  7.33it/s]"
     ]
    },
    {
     "name": "stdout",
     "output_type": "stream",
     "text": [
      "Training_loss 13.15302,   Relative Error 0.44115\n",
      "Training_loss 13.14612,   Relative Error 0.44106\n"
     ]
    },
    {
     "name": "stderr",
     "output_type": "stream",
     "text": [
      " 56%|█████▋    | 1129/2000 [03:24<01:59,  7.30it/s]"
     ]
    },
    {
     "name": "stdout",
     "output_type": "stream",
     "text": [
      "Training_loss 13.14240,   Relative Error 0.44098\n",
      "Training_loss 13.13692,   Relative Error 0.44090\n"
     ]
    },
    {
     "name": "stderr",
     "output_type": "stream",
     "text": [
      " 57%|█████▋    | 1131/2000 [03:25<01:59,  7.29it/s]"
     ]
    },
    {
     "name": "stdout",
     "output_type": "stream",
     "text": [
      "Training_loss 13.12524,   Relative Error 0.44081\n",
      "Training_loss 13.12223,   Relative Error 0.44073\n"
     ]
    },
    {
     "name": "stderr",
     "output_type": "stream",
     "text": [
      " 57%|█████▋    | 1133/2000 [03:25<01:57,  7.40it/s]"
     ]
    },
    {
     "name": "stdout",
     "output_type": "stream",
     "text": [
      "Training_loss 13.12636,   Relative Error 0.44064\n",
      "Training_loss 13.12946,   Relative Error 0.44056\n"
     ]
    },
    {
     "name": "stderr",
     "output_type": "stream",
     "text": [
      " 57%|█████▋    | 1135/2000 [03:25<01:59,  7.26it/s]"
     ]
    },
    {
     "name": "stdout",
     "output_type": "stream",
     "text": [
      "Training_loss 13.11934,   Relative Error 0.44050\n",
      "Training_loss 13.10792,   Relative Error 0.44044\n"
     ]
    },
    {
     "name": "stderr",
     "output_type": "stream",
     "text": [
      " 57%|█████▋    | 1137/2000 [03:25<01:56,  7.40it/s]"
     ]
    },
    {
     "name": "stdout",
     "output_type": "stream",
     "text": [
      "Training_loss 13.10794,   Relative Error 0.44038\n",
      "Training_loss 13.10219,   Relative Error 0.44032\n"
     ]
    },
    {
     "name": "stderr",
     "output_type": "stream",
     "text": [
      " 57%|█████▋    | 1139/2000 [03:26<02:00,  7.14it/s]"
     ]
    },
    {
     "name": "stdout",
     "output_type": "stream",
     "text": [
      "Training_loss 13.09085,   Relative Error 0.44024\n",
      "Training_loss 13.08493,   Relative Error 0.44016\n"
     ]
    },
    {
     "name": "stderr",
     "output_type": "stream",
     "text": [
      " 57%|█████▋    | 1141/2000 [03:26<01:58,  7.23it/s]"
     ]
    },
    {
     "name": "stdout",
     "output_type": "stream",
     "text": [
      "Training_loss 13.08441,   Relative Error 0.44011\n",
      "Training_loss 13.07624,   Relative Error 0.43999\n"
     ]
    },
    {
     "name": "stderr",
     "output_type": "stream",
     "text": [
      " 57%|█████▋    | 1143/2000 [03:26<01:56,  7.36it/s]"
     ]
    },
    {
     "name": "stdout",
     "output_type": "stream",
     "text": [
      "Training_loss 13.07457,   Relative Error 0.43991\n",
      "Training_loss 13.06965,   Relative Error 0.43985\n"
     ]
    },
    {
     "name": "stderr",
     "output_type": "stream",
     "text": [
      " 57%|█████▋    | 1145/2000 [03:26<01:52,  7.59it/s]"
     ]
    },
    {
     "name": "stdout",
     "output_type": "stream",
     "text": [
      "Training_loss 13.06380,   Relative Error 0.43977\n",
      "Training_loss 13.06853,   Relative Error 0.43973\n"
     ]
    },
    {
     "name": "stderr",
     "output_type": "stream",
     "text": [
      " 57%|█████▋    | 1147/2000 [03:27<01:59,  7.14it/s]"
     ]
    },
    {
     "name": "stdout",
     "output_type": "stream",
     "text": [
      "Training_loss 13.05690,   Relative Error 0.43964\n",
      "Training_loss 13.05988,   Relative Error 0.43956\n"
     ]
    },
    {
     "name": "stderr",
     "output_type": "stream",
     "text": [
      " 57%|█████▋    | 1149/2000 [03:27<01:58,  7.19it/s]"
     ]
    },
    {
     "name": "stdout",
     "output_type": "stream",
     "text": [
      "Training_loss 13.05771,   Relative Error 0.43951\n",
      "Training_loss 13.05067,   Relative Error 0.43943\n"
     ]
    },
    {
     "name": "stderr",
     "output_type": "stream",
     "text": [
      " 58%|█████▊    | 1151/2000 [03:27<01:55,  7.33it/s]"
     ]
    },
    {
     "name": "stdout",
     "output_type": "stream",
     "text": [
      "Training_loss 13.04631,   Relative Error 0.43937\n",
      "Training_loss 13.03629,   Relative Error 0.43932\n"
     ]
    },
    {
     "name": "stderr",
     "output_type": "stream",
     "text": [
      " 58%|█████▊    | 1153/2000 [03:28<01:56,  7.29it/s]"
     ]
    },
    {
     "name": "stdout",
     "output_type": "stream",
     "text": [
      "Training_loss 13.02953,   Relative Error 0.43924\n",
      "Training_loss 13.02776,   Relative Error 0.43917\n"
     ]
    },
    {
     "name": "stderr",
     "output_type": "stream",
     "text": [
      " 58%|█████▊    | 1155/2000 [03:28<01:56,  7.27it/s]"
     ]
    },
    {
     "name": "stdout",
     "output_type": "stream",
     "text": [
      "Training_loss 13.03086,   Relative Error 0.43909\n",
      "Training_loss 13.02937,   Relative Error 0.43901\n"
     ]
    },
    {
     "name": "stderr",
     "output_type": "stream",
     "text": [
      " 58%|█████▊    | 1157/2000 [03:28<01:57,  7.18it/s]"
     ]
    },
    {
     "name": "stdout",
     "output_type": "stream",
     "text": [
      "Training_loss 13.02685,   Relative Error 0.43890\n",
      "Training_loss 13.02526,   Relative Error 0.43886\n"
     ]
    },
    {
     "name": "stderr",
     "output_type": "stream",
     "text": [
      " 58%|█████▊    | 1159/2000 [03:28<01:52,  7.47it/s]"
     ]
    },
    {
     "name": "stdout",
     "output_type": "stream",
     "text": [
      "Training_loss 13.02312,   Relative Error 0.43879\n",
      "Training_loss 13.01251,   Relative Error 0.43870\n"
     ]
    },
    {
     "name": "stderr",
     "output_type": "stream",
     "text": [
      " 58%|█████▊    | 1161/2000 [03:29<01:54,  7.32it/s]"
     ]
    },
    {
     "name": "stdout",
     "output_type": "stream",
     "text": [
      "Training_loss 13.01127,   Relative Error 0.43861\n",
      "Training_loss 13.00790,   Relative Error 0.43854\n"
     ]
    },
    {
     "name": "stderr",
     "output_type": "stream",
     "text": [
      " 58%|█████▊    | 1163/2000 [03:29<01:57,  7.11it/s]"
     ]
    },
    {
     "name": "stdout",
     "output_type": "stream",
     "text": [
      "Training_loss 13.01122,   Relative Error 0.43850\n",
      "Training_loss 13.00641,   Relative Error 0.43843\n"
     ]
    },
    {
     "name": "stderr",
     "output_type": "stream",
     "text": [
      " 58%|█████▊    | 1165/2000 [03:29<01:59,  7.00it/s]"
     ]
    },
    {
     "name": "stdout",
     "output_type": "stream",
     "text": [
      "Training_loss 13.00400,   Relative Error 0.43836\n",
      "Training_loss 13.00475,   Relative Error 0.43830\n"
     ]
    },
    {
     "name": "stderr",
     "output_type": "stream",
     "text": [
      " 58%|█████▊    | 1167/2000 [03:30<01:57,  7.06it/s]"
     ]
    },
    {
     "name": "stdout",
     "output_type": "stream",
     "text": [
      "Training_loss 13.00221,   Relative Error 0.43822\n",
      "Training_loss 12.99097,   Relative Error 0.43817\n"
     ]
    },
    {
     "name": "stderr",
     "output_type": "stream",
     "text": [
      " 58%|█████▊    | 1169/2000 [03:30<01:57,  7.09it/s]"
     ]
    },
    {
     "name": "stdout",
     "output_type": "stream",
     "text": [
      "Training_loss 12.99449,   Relative Error 0.43809\n",
      "Training_loss 12.98369,   Relative Error 0.43800\n"
     ]
    },
    {
     "name": "stderr",
     "output_type": "stream",
     "text": [
      " 59%|█████▊    | 1171/2000 [03:30<01:54,  7.26it/s]"
     ]
    },
    {
     "name": "stdout",
     "output_type": "stream",
     "text": [
      "Training_loss 12.97397,   Relative Error 0.43793\n",
      "Training_loss 12.96714,   Relative Error 0.43785\n"
     ]
    },
    {
     "name": "stderr",
     "output_type": "stream",
     "text": [
      " 59%|█████▊    | 1173/2000 [03:30<01:53,  7.29it/s]"
     ]
    },
    {
     "name": "stdout",
     "output_type": "stream",
     "text": [
      "Training_loss 12.95743,   Relative Error 0.43780\n",
      "Training_loss 12.94965,   Relative Error 0.43775\n"
     ]
    },
    {
     "name": "stderr",
     "output_type": "stream",
     "text": [
      " 59%|█████▉    | 1175/2000 [03:31<01:51,  7.42it/s]"
     ]
    },
    {
     "name": "stdout",
     "output_type": "stream",
     "text": [
      "Training_loss 12.95243,   Relative Error 0.43766\n",
      "Training_loss 12.95625,   Relative Error 0.43761\n"
     ]
    },
    {
     "name": "stderr",
     "output_type": "stream",
     "text": [
      " 59%|█████▉    | 1177/2000 [03:31<01:52,  7.29it/s]"
     ]
    },
    {
     "name": "stdout",
     "output_type": "stream",
     "text": [
      "Training_loss 12.95582,   Relative Error 0.43756\n",
      "Training_loss 12.95519,   Relative Error 0.43752\n"
     ]
    },
    {
     "name": "stderr",
     "output_type": "stream",
     "text": [
      " 59%|█████▉    | 1179/2000 [03:31<01:50,  7.41it/s]"
     ]
    },
    {
     "name": "stdout",
     "output_type": "stream",
     "text": [
      "Training_loss 12.94589,   Relative Error 0.43747\n",
      "Training_loss 12.94937,   Relative Error 0.43739\n"
     ]
    },
    {
     "name": "stderr",
     "output_type": "stream",
     "text": [
      " 59%|█████▉    | 1181/2000 [03:31<01:51,  7.32it/s]"
     ]
    },
    {
     "name": "stdout",
     "output_type": "stream",
     "text": [
      "Training_loss 12.94725,   Relative Error 0.43731\n",
      "Training_loss 12.94392,   Relative Error 0.43726\n"
     ]
    },
    {
     "name": "stderr",
     "output_type": "stream",
     "text": [
      " 59%|█████▉    | 1183/2000 [03:32<01:47,  7.60it/s]"
     ]
    },
    {
     "name": "stdout",
     "output_type": "stream",
     "text": [
      "Training_loss 12.93912,   Relative Error 0.43721\n",
      "Training_loss 12.93202,   Relative Error 0.43712\n"
     ]
    },
    {
     "name": "stderr",
     "output_type": "stream",
     "text": [
      " 59%|█████▉    | 1185/2000 [03:32<02:01,  6.73it/s]"
     ]
    },
    {
     "name": "stdout",
     "output_type": "stream",
     "text": [
      "Training_loss 12.92199,   Relative Error 0.43704\n",
      "Training_loss 12.91707,   Relative Error 0.43699\n"
     ]
    },
    {
     "name": "stderr",
     "output_type": "stream",
     "text": [
      " 59%|█████▉    | 1187/2000 [03:32<02:15,  5.98it/s]"
     ]
    },
    {
     "name": "stdout",
     "output_type": "stream",
     "text": [
      "Training_loss 12.91522,   Relative Error 0.43687\n",
      "Training_loss 12.91242,   Relative Error 0.43681\n"
     ]
    },
    {
     "name": "stderr",
     "output_type": "stream",
     "text": [
      " 59%|█████▉    | 1189/2000 [03:33<02:21,  5.75it/s]"
     ]
    },
    {
     "name": "stdout",
     "output_type": "stream",
     "text": [
      "Training_loss 12.90574,   Relative Error 0.43673\n",
      "Training_loss 12.90409,   Relative Error 0.43666\n"
     ]
    },
    {
     "name": "stderr",
     "output_type": "stream",
     "text": [
      " 60%|█████▉    | 1191/2000 [03:33<02:22,  5.67it/s]"
     ]
    },
    {
     "name": "stdout",
     "output_type": "stream",
     "text": [
      "Training_loss 12.89569,   Relative Error 0.43660\n",
      "Training_loss 12.90021,   Relative Error 0.43655\n"
     ]
    },
    {
     "name": "stderr",
     "output_type": "stream",
     "text": [
      " 60%|█████▉    | 1193/2000 [03:33<02:17,  5.86it/s]"
     ]
    },
    {
     "name": "stdout",
     "output_type": "stream",
     "text": [
      "Training_loss 12.90317,   Relative Error 0.43647\n",
      "Training_loss 12.90310,   Relative Error 0.43642\n"
     ]
    },
    {
     "name": "stderr",
     "output_type": "stream",
     "text": [
      " 60%|█████▉    | 1195/2000 [03:34<02:08,  6.27it/s]"
     ]
    },
    {
     "name": "stdout",
     "output_type": "stream",
     "text": [
      "Training_loss 12.89901,   Relative Error 0.43637\n",
      "Training_loss 12.89447,   Relative Error 0.43629\n"
     ]
    },
    {
     "name": "stderr",
     "output_type": "stream",
     "text": [
      " 60%|█████▉    | 1197/2000 [03:34<02:05,  6.38it/s]"
     ]
    },
    {
     "name": "stdout",
     "output_type": "stream",
     "text": [
      "Training_loss 12.88442,   Relative Error 0.43624\n",
      "Training_loss 12.88440,   Relative Error 0.43618\n"
     ]
    },
    {
     "name": "stderr",
     "output_type": "stream",
     "text": [
      " 60%|█████▉    | 1199/2000 [03:34<02:00,  6.63it/s]"
     ]
    },
    {
     "name": "stdout",
     "output_type": "stream",
     "text": [
      "Training_loss 12.88351,   Relative Error 0.43614\n",
      "Training_loss 12.88052,   Relative Error 0.43611\n"
     ]
    },
    {
     "name": "stderr",
     "output_type": "stream",
     "text": [
      " 60%|██████    | 1201/2000 [03:35<01:59,  6.71it/s]"
     ]
    },
    {
     "name": "stdout",
     "output_type": "stream",
     "text": [
      "Training_loss 12.87949,   Relative Error 0.43604\n",
      "Training_loss 12.88286,   Relative Error 0.43595\n"
     ]
    },
    {
     "name": "stderr",
     "output_type": "stream",
     "text": [
      " 60%|██████    | 1203/2000 [03:35<01:53,  6.99it/s]"
     ]
    },
    {
     "name": "stdout",
     "output_type": "stream",
     "text": [
      "Training_loss 12.87706,   Relative Error 0.43587\n",
      "Training_loss 12.88078,   Relative Error 0.43579\n"
     ]
    },
    {
     "name": "stderr",
     "output_type": "stream",
     "text": [
      " 60%|██████    | 1205/2000 [03:35<01:53,  7.00it/s]"
     ]
    },
    {
     "name": "stdout",
     "output_type": "stream",
     "text": [
      "Training_loss 12.88115,   Relative Error 0.43575\n",
      "Training_loss 12.88463,   Relative Error 0.43568\n"
     ]
    },
    {
     "name": "stderr",
     "output_type": "stream",
     "text": [
      " 60%|██████    | 1207/2000 [03:35<01:47,  7.37it/s]"
     ]
    },
    {
     "name": "stdout",
     "output_type": "stream",
     "text": [
      "Training_loss 12.88711,   Relative Error 0.43562\n",
      "Training_loss 12.88018,   Relative Error 0.43555\n"
     ]
    },
    {
     "name": "stderr",
     "output_type": "stream",
     "text": [
      " 60%|██████    | 1209/2000 [03:36<01:47,  7.36it/s]"
     ]
    },
    {
     "name": "stdout",
     "output_type": "stream",
     "text": [
      "Training_loss 12.88206,   Relative Error 0.43548\n",
      "Training_loss 12.87073,   Relative Error 0.43541\n"
     ]
    },
    {
     "name": "stderr",
     "output_type": "stream",
     "text": [
      " 61%|██████    | 1211/2000 [03:36<01:50,  7.16it/s]"
     ]
    },
    {
     "name": "stdout",
     "output_type": "stream",
     "text": [
      "Training_loss 12.86630,   Relative Error 0.43539\n",
      "Training_loss 12.86957,   Relative Error 0.43535\n"
     ]
    },
    {
     "name": "stderr",
     "output_type": "stream",
     "text": [
      " 61%|██████    | 1213/2000 [03:36<01:51,  7.06it/s]"
     ]
    },
    {
     "name": "stdout",
     "output_type": "stream",
     "text": [
      "Training_loss 12.86148,   Relative Error 0.43526\n",
      "Training_loss 12.86425,   Relative Error 0.43518\n"
     ]
    },
    {
     "name": "stderr",
     "output_type": "stream",
     "text": [
      " 61%|██████    | 1215/2000 [03:37<01:49,  7.15it/s]"
     ]
    },
    {
     "name": "stdout",
     "output_type": "stream",
     "text": [
      "Training_loss 12.85647,   Relative Error 0.43510\n",
      "Training_loss 12.86010,   Relative Error 0.43506\n"
     ]
    },
    {
     "name": "stderr",
     "output_type": "stream",
     "text": [
      " 61%|██████    | 1217/2000 [03:37<01:48,  7.21it/s]"
     ]
    },
    {
     "name": "stdout",
     "output_type": "stream",
     "text": [
      "Training_loss 12.86411,   Relative Error 0.43502\n",
      "Training_loss 12.86203,   Relative Error 0.43498\n"
     ]
    },
    {
     "name": "stderr",
     "output_type": "stream",
     "text": [
      " 61%|██████    | 1219/2000 [03:37<01:48,  7.18it/s]"
     ]
    },
    {
     "name": "stdout",
     "output_type": "stream",
     "text": [
      "Training_loss 12.85687,   Relative Error 0.43493\n",
      "Training_loss 12.85240,   Relative Error 0.43491\n"
     ]
    },
    {
     "name": "stderr",
     "output_type": "stream",
     "text": [
      " 61%|██████    | 1221/2000 [03:37<01:50,  7.07it/s]"
     ]
    },
    {
     "name": "stdout",
     "output_type": "stream",
     "text": [
      "Training_loss 12.84140,   Relative Error 0.43485\n",
      "Training_loss 12.84206,   Relative Error 0.43480\n"
     ]
    },
    {
     "name": "stderr",
     "output_type": "stream",
     "text": [
      " 61%|██████    | 1223/2000 [03:38<01:57,  6.61it/s]"
     ]
    },
    {
     "name": "stdout",
     "output_type": "stream",
     "text": [
      "Training_loss 12.83523,   Relative Error 0.43472\n",
      "Training_loss 12.83851,   Relative Error 0.43465\n"
     ]
    },
    {
     "name": "stderr",
     "output_type": "stream",
     "text": [
      " 61%|██████▏   | 1225/2000 [03:38<01:58,  6.55it/s]"
     ]
    },
    {
     "name": "stdout",
     "output_type": "stream",
     "text": [
      "Training_loss 12.82836,   Relative Error 0.43458\n",
      "Training_loss 12.82901,   Relative Error 0.43457\n"
     ]
    },
    {
     "name": "stderr",
     "output_type": "stream",
     "text": [
      " 61%|██████▏   | 1227/2000 [03:38<02:04,  6.21it/s]"
     ]
    },
    {
     "name": "stdout",
     "output_type": "stream",
     "text": [
      "Training_loss 12.82731,   Relative Error 0.43449\n",
      "Training_loss 12.81657,   Relative Error 0.43441\n"
     ]
    },
    {
     "name": "stderr",
     "output_type": "stream",
     "text": [
      "\r",
      " 61%|██████▏   | 1228/2000 [03:39<02:35,  4.96it/s]"
     ]
    },
    {
     "name": "stdout",
     "output_type": "stream",
     "text": [
      "Training_loss 12.81090,   Relative Error 0.43435\n"
     ]
    },
    {
     "name": "stderr",
     "output_type": "stream",
     "text": [
      "\r",
      " 61%|██████▏   | 1229/2000 [03:39<03:20,  3.85it/s]"
     ]
    },
    {
     "name": "stdout",
     "output_type": "stream",
     "text": [
      "Training_loss 12.81504,   Relative Error 0.43431\n"
     ]
    },
    {
     "name": "stderr",
     "output_type": "stream",
     "text": [
      "\r",
      " 62%|██████▏   | 1230/2000 [03:39<03:18,  3.87it/s]"
     ]
    },
    {
     "name": "stdout",
     "output_type": "stream",
     "text": [
      "Training_loss 12.80430,   Relative Error 0.43422\n"
     ]
    },
    {
     "name": "stderr",
     "output_type": "stream",
     "text": [
      "\r",
      " 62%|██████▏   | 1231/2000 [03:40<03:24,  3.76it/s]"
     ]
    },
    {
     "name": "stdout",
     "output_type": "stream",
     "text": [
      "Training_loss 12.80214,   Relative Error 0.43415\n"
     ]
    },
    {
     "name": "stderr",
     "output_type": "stream",
     "text": [
      "\r",
      " 62%|██████▏   | 1232/2000 [03:40<03:11,  4.02it/s]"
     ]
    },
    {
     "name": "stdout",
     "output_type": "stream",
     "text": [
      "Training_loss 12.79798,   Relative Error 0.43409\n"
     ]
    },
    {
     "name": "stderr",
     "output_type": "stream",
     "text": [
      "\r",
      " 62%|██████▏   | 1233/2000 [03:40<03:11,  4.01it/s]"
     ]
    },
    {
     "name": "stdout",
     "output_type": "stream",
     "text": [
      "Training_loss 12.79781,   Relative Error 0.43403\n"
     ]
    },
    {
     "name": "stderr",
     "output_type": "stream",
     "text": [
      " 62%|██████▏   | 1235/2000 [03:41<02:55,  4.35it/s]"
     ]
    },
    {
     "name": "stdout",
     "output_type": "stream",
     "text": [
      "Training_loss 12.79006,   Relative Error 0.43392\n",
      "Training_loss 12.78630,   Relative Error 0.43384\n"
     ]
    },
    {
     "name": "stderr",
     "output_type": "stream",
     "text": [
      " 62%|██████▏   | 1237/2000 [03:41<02:42,  4.69it/s]"
     ]
    },
    {
     "name": "stdout",
     "output_type": "stream",
     "text": [
      "Training_loss 12.78053,   Relative Error 0.43380\n",
      "Training_loss 12.77933,   Relative Error 0.43376\n"
     ]
    },
    {
     "name": "stderr",
     "output_type": "stream",
     "text": [
      " 62%|██████▏   | 1239/2000 [03:41<02:30,  5.07it/s]"
     ]
    },
    {
     "name": "stdout",
     "output_type": "stream",
     "text": [
      "Training_loss 12.77005,   Relative Error 0.43371\n",
      "Training_loss 12.76105,   Relative Error 0.43362\n"
     ]
    },
    {
     "name": "stderr",
     "output_type": "stream",
     "text": [
      " 62%|██████▏   | 1241/2000 [03:42<02:14,  5.66it/s]"
     ]
    },
    {
     "name": "stdout",
     "output_type": "stream",
     "text": [
      "Training_loss 12.76052,   Relative Error 0.43357\n",
      "Training_loss 12.75466,   Relative Error 0.43349\n"
     ]
    },
    {
     "name": "stderr",
     "output_type": "stream",
     "text": [
      " 62%|██████▏   | 1243/2000 [03:42<02:16,  5.56it/s]"
     ]
    },
    {
     "name": "stdout",
     "output_type": "stream",
     "text": [
      "Training_loss 12.75084,   Relative Error 0.43344\n",
      "Training_loss 12.74684,   Relative Error 0.43340\n"
     ]
    },
    {
     "name": "stderr",
     "output_type": "stream",
     "text": [
      " 62%|██████▏   | 1245/2000 [03:42<02:09,  5.82it/s]"
     ]
    },
    {
     "name": "stdout",
     "output_type": "stream",
     "text": [
      "Training_loss 12.74653,   Relative Error 0.43334\n",
      "Training_loss 12.74146,   Relative Error 0.43329\n"
     ]
    },
    {
     "name": "stderr",
     "output_type": "stream",
     "text": [
      " 62%|██████▏   | 1247/2000 [03:43<02:14,  5.61it/s]"
     ]
    },
    {
     "name": "stdout",
     "output_type": "stream",
     "text": [
      "Training_loss 12.73486,   Relative Error 0.43321\n",
      "Training_loss 12.73171,   Relative Error 0.43317\n"
     ]
    },
    {
     "name": "stderr",
     "output_type": "stream",
     "text": [
      " 62%|██████▏   | 1249/2000 [03:43<02:09,  5.78it/s]"
     ]
    },
    {
     "name": "stdout",
     "output_type": "stream",
     "text": [
      "Training_loss 12.73092,   Relative Error 0.43312\n",
      "Training_loss 12.72673,   Relative Error 0.43307\n"
     ]
    },
    {
     "name": "stderr",
     "output_type": "stream",
     "text": [
      " 63%|██████▎   | 1251/2000 [03:43<02:09,  5.79it/s]"
     ]
    },
    {
     "name": "stdout",
     "output_type": "stream",
     "text": [
      "Training_loss 12.72248,   Relative Error 0.43299\n",
      "Training_loss 12.72188,   Relative Error 0.43294\n"
     ]
    },
    {
     "name": "stderr",
     "output_type": "stream",
     "text": [
      " 63%|██████▎   | 1253/2000 [03:44<02:08,  5.83it/s]"
     ]
    },
    {
     "name": "stdout",
     "output_type": "stream",
     "text": [
      "Training_loss 12.72125,   Relative Error 0.43286\n",
      "Training_loss 12.71901,   Relative Error 0.43279\n"
     ]
    },
    {
     "name": "stderr",
     "output_type": "stream",
     "text": [
      " 63%|██████▎   | 1255/2000 [03:44<02:05,  5.92it/s]"
     ]
    },
    {
     "name": "stdout",
     "output_type": "stream",
     "text": [
      "Training_loss 12.70998,   Relative Error 0.43274\n",
      "Training_loss 12.70602,   Relative Error 0.43269\n"
     ]
    },
    {
     "name": "stderr",
     "output_type": "stream",
     "text": [
      " 63%|██████▎   | 1257/2000 [03:44<02:05,  5.92it/s]"
     ]
    },
    {
     "name": "stdout",
     "output_type": "stream",
     "text": [
      "Training_loss 12.70149,   Relative Error 0.43264\n",
      "Training_loss 12.69603,   Relative Error 0.43257\n"
     ]
    },
    {
     "name": "stderr",
     "output_type": "stream",
     "text": [
      " 63%|██████▎   | 1259/2000 [03:45<02:09,  5.73it/s]"
     ]
    },
    {
     "name": "stdout",
     "output_type": "stream",
     "text": [
      "Training_loss 12.68728,   Relative Error 0.43249\n",
      "Training_loss 12.68706,   Relative Error 0.43244\n"
     ]
    },
    {
     "name": "stderr",
     "output_type": "stream",
     "text": [
      " 63%|██████▎   | 1261/2000 [03:45<02:05,  5.91it/s]"
     ]
    },
    {
     "name": "stdout",
     "output_type": "stream",
     "text": [
      "Training_loss 12.68495,   Relative Error 0.43242\n",
      "Training_loss 12.68034,   Relative Error 0.43237\n"
     ]
    },
    {
     "name": "stderr",
     "output_type": "stream",
     "text": [
      " 63%|██████▎   | 1263/2000 [03:45<02:00,  6.12it/s]"
     ]
    },
    {
     "name": "stdout",
     "output_type": "stream",
     "text": [
      "Training_loss 12.68483,   Relative Error 0.43232\n",
      "Training_loss 12.67926,   Relative Error 0.43225\n"
     ]
    },
    {
     "name": "stderr",
     "output_type": "stream",
     "text": [
      " 63%|██████▎   | 1265/2000 [03:46<01:54,  6.41it/s]"
     ]
    },
    {
     "name": "stdout",
     "output_type": "stream",
     "text": [
      "Training_loss 12.67850,   Relative Error 0.43220\n",
      "Training_loss 12.67880,   Relative Error 0.43215\n"
     ]
    },
    {
     "name": "stderr",
     "output_type": "stream",
     "text": [
      " 63%|██████▎   | 1267/2000 [03:46<01:57,  6.25it/s]"
     ]
    },
    {
     "name": "stdout",
     "output_type": "stream",
     "text": [
      "Training_loss 12.67900,   Relative Error 0.43207\n",
      "Training_loss 12.67411,   Relative Error 0.43201\n"
     ]
    },
    {
     "name": "stderr",
     "output_type": "stream",
     "text": [
      " 63%|██████▎   | 1269/2000 [03:46<01:57,  6.23it/s]"
     ]
    },
    {
     "name": "stdout",
     "output_type": "stream",
     "text": [
      "Training_loss 12.66904,   Relative Error 0.43193\n",
      "Training_loss 12.66566,   Relative Error 0.43189\n"
     ]
    },
    {
     "name": "stderr",
     "output_type": "stream",
     "text": [
      "\r",
      " 64%|██████▎   | 1270/2000 [03:46<02:03,  5.92it/s]"
     ]
    },
    {
     "name": "stdout",
     "output_type": "stream",
     "text": [
      "Training_loss 12.66258,   Relative Error 0.43184\n"
     ]
    },
    {
     "name": "stderr",
     "output_type": "stream",
     "text": [
      "\r",
      " 64%|██████▎   | 1271/2000 [03:47<02:13,  5.47it/s]"
     ]
    },
    {
     "name": "stdout",
     "output_type": "stream",
     "text": [
      "Training_loss 12.65651,   Relative Error 0.43173\n"
     ]
    },
    {
     "name": "stderr",
     "output_type": "stream",
     "text": [
      "\r",
      " 64%|██████▎   | 1272/2000 [03:47<02:19,  5.23it/s]"
     ]
    },
    {
     "name": "stdout",
     "output_type": "stream",
     "text": [
      "Training_loss 12.64776,   Relative Error 0.43168\n"
     ]
    },
    {
     "name": "stderr",
     "output_type": "stream",
     "text": [
      "\r",
      " 64%|██████▎   | 1273/2000 [03:47<02:29,  4.87it/s]"
     ]
    },
    {
     "name": "stdout",
     "output_type": "stream",
     "text": [
      "Training_loss 12.64222,   Relative Error 0.43160\n"
     ]
    },
    {
     "name": "stderr",
     "output_type": "stream",
     "text": [
      " 64%|██████▍   | 1275/2000 [03:48<02:27,  4.92it/s]"
     ]
    },
    {
     "name": "stdout",
     "output_type": "stream",
     "text": [
      "Training_loss 12.63493,   Relative Error 0.43155\n",
      "Training_loss 12.63335,   Relative Error 0.43144\n"
     ]
    },
    {
     "name": "stderr",
     "output_type": "stream",
     "text": [
      " 64%|██████▍   | 1277/2000 [03:48<02:27,  4.91it/s]"
     ]
    },
    {
     "name": "stdout",
     "output_type": "stream",
     "text": [
      "Training_loss 12.62549,   Relative Error 0.43136\n",
      "Training_loss 12.62829,   Relative Error 0.43127\n"
     ]
    },
    {
     "name": "stderr",
     "output_type": "stream",
     "text": [
      "\r",
      " 64%|██████▍   | 1278/2000 [03:48<02:40,  4.49it/s]"
     ]
    },
    {
     "name": "stdout",
     "output_type": "stream",
     "text": [
      "Training_loss 12.62981,   Relative Error 0.43122\n"
     ]
    },
    {
     "name": "stderr",
     "output_type": "stream",
     "text": [
      "\r",
      " 64%|██████▍   | 1279/2000 [03:48<02:42,  4.44it/s]"
     ]
    },
    {
     "name": "stdout",
     "output_type": "stream",
     "text": [
      "Training_loss 12.63085,   Relative Error 0.43120\n"
     ]
    },
    {
     "name": "stderr",
     "output_type": "stream",
     "text": [
      "\r",
      " 64%|██████▍   | 1280/2000 [03:49<02:54,  4.12it/s]"
     ]
    },
    {
     "name": "stdout",
     "output_type": "stream",
     "text": [
      "Training_loss 12.62310,   Relative Error 0.43116\n"
     ]
    },
    {
     "name": "stderr",
     "output_type": "stream",
     "text": [
      "\r",
      " 64%|██████▍   | 1281/2000 [03:49<03:11,  3.76it/s]"
     ]
    },
    {
     "name": "stdout",
     "output_type": "stream",
     "text": [
      "Training_loss 12.62249,   Relative Error 0.43109\n"
     ]
    },
    {
     "name": "stderr",
     "output_type": "stream",
     "text": [
      "\r",
      " 64%|██████▍   | 1282/2000 [03:49<03:17,  3.63it/s]"
     ]
    },
    {
     "name": "stdout",
     "output_type": "stream",
     "text": [
      "Training_loss 12.62087,   Relative Error 0.43107\n"
     ]
    },
    {
     "name": "stderr",
     "output_type": "stream",
     "text": [
      "\r",
      " 64%|██████▍   | 1283/2000 [03:50<03:21,  3.55it/s]"
     ]
    },
    {
     "name": "stdout",
     "output_type": "stream",
     "text": [
      "Training_loss 12.61430,   Relative Error 0.43102\n"
     ]
    },
    {
     "name": "stderr",
     "output_type": "stream",
     "text": [
      "\r",
      " 64%|██████▍   | 1284/2000 [03:50<03:12,  3.72it/s]"
     ]
    },
    {
     "name": "stdout",
     "output_type": "stream",
     "text": [
      "Training_loss 12.61811,   Relative Error 0.43097\n"
     ]
    },
    {
     "name": "stderr",
     "output_type": "stream",
     "text": [
      "\r",
      " 64%|██████▍   | 1285/2000 [03:50<03:10,  3.76it/s]"
     ]
    },
    {
     "name": "stdout",
     "output_type": "stream",
     "text": [
      "Training_loss 12.61540,   Relative Error 0.43096\n"
     ]
    },
    {
     "name": "stderr",
     "output_type": "stream",
     "text": [
      "\r",
      " 64%|██████▍   | 1286/2000 [03:50<03:04,  3.87it/s]"
     ]
    },
    {
     "name": "stdout",
     "output_type": "stream",
     "text": [
      "Training_loss 12.60707,   Relative Error 0.43091\n"
     ]
    },
    {
     "name": "stderr",
     "output_type": "stream",
     "text": [
      "\r",
      " 64%|██████▍   | 1287/2000 [03:51<03:01,  3.92it/s]"
     ]
    },
    {
     "name": "stdout",
     "output_type": "stream",
     "text": [
      "Training_loss 12.60287,   Relative Error 0.43083\n"
     ]
    },
    {
     "name": "stderr",
     "output_type": "stream",
     "text": [
      "\r",
      " 64%|██████▍   | 1288/2000 [03:51<02:54,  4.08it/s]"
     ]
    },
    {
     "name": "stdout",
     "output_type": "stream",
     "text": [
      "Training_loss 12.60363,   Relative Error 0.43078\n"
     ]
    },
    {
     "name": "stderr",
     "output_type": "stream",
     "text": [
      "\r",
      " 64%|██████▍   | 1289/2000 [03:51<02:48,  4.23it/s]"
     ]
    },
    {
     "name": "stdout",
     "output_type": "stream",
     "text": [
      "Training_loss 12.60265,   Relative Error 0.43071\n"
     ]
    },
    {
     "name": "stderr",
     "output_type": "stream",
     "text": [
      "\r",
      " 64%|██████▍   | 1290/2000 [03:51<02:54,  4.07it/s]"
     ]
    },
    {
     "name": "stdout",
     "output_type": "stream",
     "text": [
      "Training_loss 12.60550,   Relative Error 0.43066\n"
     ]
    },
    {
     "name": "stderr",
     "output_type": "stream",
     "text": [
      "\r",
      " 65%|██████▍   | 1291/2000 [03:52<02:57,  4.00it/s]"
     ]
    },
    {
     "name": "stdout",
     "output_type": "stream",
     "text": [
      "Training_loss 12.60007,   Relative Error 0.43059\n"
     ]
    },
    {
     "name": "stderr",
     "output_type": "stream",
     "text": [
      "\r",
      " 65%|██████▍   | 1292/2000 [03:52<03:07,  3.79it/s]"
     ]
    },
    {
     "name": "stdout",
     "output_type": "stream",
     "text": [
      "Training_loss 12.59938,   Relative Error 0.43051\n"
     ]
    },
    {
     "name": "stderr",
     "output_type": "stream",
     "text": [
      "\r",
      " 65%|██████▍   | 1293/2000 [03:52<03:07,  3.76it/s]"
     ]
    },
    {
     "name": "stdout",
     "output_type": "stream",
     "text": [
      "Training_loss 12.59336,   Relative Error 0.43043\n"
     ]
    },
    {
     "name": "stderr",
     "output_type": "stream",
     "text": [
      "\r",
      " 65%|██████▍   | 1294/2000 [03:53<03:37,  3.24it/s]"
     ]
    },
    {
     "name": "stdout",
     "output_type": "stream",
     "text": [
      "Training_loss 12.59681,   Relative Error 0.43038\n"
     ]
    },
    {
     "name": "stderr",
     "output_type": "stream",
     "text": [
      "\r",
      " 65%|██████▍   | 1295/2000 [03:53<03:48,  3.08it/s]"
     ]
    },
    {
     "name": "stdout",
     "output_type": "stream",
     "text": [
      "Training_loss 12.59227,   Relative Error 0.43033\n"
     ]
    },
    {
     "name": "stderr",
     "output_type": "stream",
     "text": [
      "\r",
      " 65%|██████▍   | 1296/2000 [03:53<03:48,  3.08it/s]"
     ]
    },
    {
     "name": "stdout",
     "output_type": "stream",
     "text": [
      "Training_loss 12.58303,   Relative Error 0.43026\n"
     ]
    },
    {
     "name": "stderr",
     "output_type": "stream",
     "text": [
      "\r",
      " 65%|██████▍   | 1297/2000 [03:54<03:54,  3.00it/s]"
     ]
    },
    {
     "name": "stdout",
     "output_type": "stream",
     "text": [
      "Training_loss 12.58572,   Relative Error 0.43018\n"
     ]
    },
    {
     "name": "stderr",
     "output_type": "stream",
     "text": [
      "\r",
      " 65%|██████▍   | 1298/2000 [03:54<03:50,  3.04it/s]"
     ]
    },
    {
     "name": "stdout",
     "output_type": "stream",
     "text": [
      "Training_loss 12.58658,   Relative Error 0.43017\n"
     ]
    },
    {
     "name": "stderr",
     "output_type": "stream",
     "text": [
      "\r",
      " 65%|██████▍   | 1299/2000 [03:54<03:39,  3.20it/s]"
     ]
    },
    {
     "name": "stdout",
     "output_type": "stream",
     "text": [
      "Training_loss 12.58914,   Relative Error 0.43010\n"
     ]
    },
    {
     "name": "stderr",
     "output_type": "stream",
     "text": [
      " 65%|██████▌   | 1301/2000 [03:55<03:06,  3.75it/s]"
     ]
    },
    {
     "name": "stdout",
     "output_type": "stream",
     "text": [
      "Training_loss 12.58578,   Relative Error 0.43002\n",
      "Training_loss 12.57654,   Relative Error 0.42997\n"
     ]
    },
    {
     "name": "stderr",
     "output_type": "stream",
     "text": [
      " 65%|██████▌   | 1303/2000 [03:55<02:46,  4.18it/s]"
     ]
    },
    {
     "name": "stdout",
     "output_type": "stream",
     "text": [
      "Training_loss 12.57495,   Relative Error 0.42989\n",
      "Training_loss 12.57380,   Relative Error 0.42985\n"
     ]
    },
    {
     "name": "stderr",
     "output_type": "stream",
     "text": [
      " 65%|██████▌   | 1305/2000 [03:55<02:26,  4.76it/s]"
     ]
    },
    {
     "name": "stdout",
     "output_type": "stream",
     "text": [
      "Training_loss 12.57607,   Relative Error 0.42977\n",
      "Training_loss 12.57399,   Relative Error 0.42970\n"
     ]
    },
    {
     "name": "stderr",
     "output_type": "stream",
     "text": [
      " 65%|██████▌   | 1307/2000 [03:56<02:20,  4.94it/s]"
     ]
    },
    {
     "name": "stdout",
     "output_type": "stream",
     "text": [
      "Training_loss 12.56362,   Relative Error 0.42962\n",
      "Training_loss 12.55881,   Relative Error 0.42953\n"
     ]
    },
    {
     "name": "stderr",
     "output_type": "stream",
     "text": [
      " 65%|██████▌   | 1309/2000 [03:56<02:12,  5.20it/s]"
     ]
    },
    {
     "name": "stdout",
     "output_type": "stream",
     "text": [
      "Training_loss 12.55795,   Relative Error 0.42946\n",
      "Training_loss 12.55416,   Relative Error 0.42940\n"
     ]
    },
    {
     "name": "stderr",
     "output_type": "stream",
     "text": [
      " 66%|██████▌   | 1311/2000 [03:57<02:06,  5.45it/s]"
     ]
    },
    {
     "name": "stdout",
     "output_type": "stream",
     "text": [
      "Training_loss 12.55841,   Relative Error 0.42936\n",
      "Training_loss 12.55151,   Relative Error 0.42928\n"
     ]
    },
    {
     "name": "stderr",
     "output_type": "stream",
     "text": [
      " 66%|██████▌   | 1313/2000 [03:57<02:10,  5.25it/s]"
     ]
    },
    {
     "name": "stdout",
     "output_type": "stream",
     "text": [
      "Training_loss 12.54597,   Relative Error 0.42921\n",
      "Training_loss 12.54504,   Relative Error 0.42913\n"
     ]
    },
    {
     "name": "stderr",
     "output_type": "stream",
     "text": [
      " 66%|██████▌   | 1315/2000 [03:57<02:10,  5.23it/s]"
     ]
    },
    {
     "name": "stdout",
     "output_type": "stream",
     "text": [
      "Training_loss 12.53988,   Relative Error 0.42906\n",
      "Training_loss 12.53707,   Relative Error 0.42898\n"
     ]
    },
    {
     "name": "stderr",
     "output_type": "stream",
     "text": [
      " 66%|██████▌   | 1317/2000 [03:58<02:15,  5.04it/s]"
     ]
    },
    {
     "name": "stdout",
     "output_type": "stream",
     "text": [
      "Training_loss 12.53407,   Relative Error 0.42896\n",
      "Training_loss 12.52900,   Relative Error 0.42891\n"
     ]
    },
    {
     "name": "stderr",
     "output_type": "stream",
     "text": [
      "\r",
      " 66%|██████▌   | 1318/2000 [03:58<02:10,  5.23it/s]"
     ]
    },
    {
     "name": "stdout",
     "output_type": "stream",
     "text": [
      "Training_loss 12.52516,   Relative Error 0.42885\n"
     ]
    },
    {
     "name": "stderr",
     "output_type": "stream",
     "text": [
      " 66%|██████▌   | 1320/2000 [03:58<02:07,  5.32it/s]"
     ]
    },
    {
     "name": "stdout",
     "output_type": "stream",
     "text": [
      "Training_loss 12.52041,   Relative Error 0.42880\n",
      "Training_loss 12.51987,   Relative Error 0.42876\n"
     ]
    },
    {
     "name": "stderr",
     "output_type": "stream",
     "text": [
      " 66%|██████▌   | 1322/2000 [03:59<02:11,  5.15it/s]"
     ]
    },
    {
     "name": "stdout",
     "output_type": "stream",
     "text": [
      "Training_loss 12.51826,   Relative Error 0.42868\n",
      "Training_loss 12.51311,   Relative Error 0.42861\n"
     ]
    },
    {
     "name": "stderr",
     "output_type": "stream",
     "text": [
      " 66%|██████▌   | 1324/2000 [03:59<02:10,  5.20it/s]"
     ]
    },
    {
     "name": "stdout",
     "output_type": "stream",
     "text": [
      "Training_loss 12.50764,   Relative Error 0.42853\n",
      "Training_loss 12.50550,   Relative Error 0.42846\n"
     ]
    },
    {
     "name": "stderr",
     "output_type": "stream",
     "text": [
      "\r",
      " 66%|██████▋   | 1325/2000 [03:59<02:06,  5.33it/s]"
     ]
    },
    {
     "name": "stdout",
     "output_type": "stream",
     "text": [
      "Training_loss 12.50965,   Relative Error 0.42841\n"
     ]
    },
    {
     "name": "stderr",
     "output_type": "stream",
     "text": [
      " 66%|██████▋   | 1327/2000 [04:00<02:08,  5.25it/s]"
     ]
    },
    {
     "name": "stdout",
     "output_type": "stream",
     "text": [
      "Training_loss 12.50167,   Relative Error 0.42836\n",
      "Training_loss 12.50068,   Relative Error 0.42828\n"
     ]
    },
    {
     "name": "stderr",
     "output_type": "stream",
     "text": [
      "\r",
      " 66%|██████▋   | 1328/2000 [04:00<02:12,  5.08it/s]"
     ]
    },
    {
     "name": "stdout",
     "output_type": "stream",
     "text": [
      "Training_loss 12.50117,   Relative Error 0.42823\n",
      "Training_loss 12.50012,   Relative Error 0.42815\n"
     ]
    },
    {
     "name": "stderr",
     "output_type": "stream",
     "text": [
      " 67%|██████▋   | 1331/2000 [04:00<02:11,  5.10it/s]"
     ]
    },
    {
     "name": "stdout",
     "output_type": "stream",
     "text": [
      "Training_loss 12.49813,   Relative Error 0.42805\n",
      "Training_loss 12.48804,   Relative Error 0.42797\n"
     ]
    },
    {
     "name": "stderr",
     "output_type": "stream",
     "text": [
      " 67%|██████▋   | 1333/2000 [04:01<02:08,  5.19it/s]"
     ]
    },
    {
     "name": "stdout",
     "output_type": "stream",
     "text": [
      "Training_loss 12.48316,   Relative Error 0.42790\n",
      "Training_loss 12.47271,   Relative Error 0.42782\n"
     ]
    },
    {
     "name": "stderr",
     "output_type": "stream",
     "text": [
      " 67%|██████▋   | 1335/2000 [04:01<02:06,  5.26it/s]"
     ]
    },
    {
     "name": "stdout",
     "output_type": "stream",
     "text": [
      "Training_loss 12.47208,   Relative Error 0.42776\n",
      "Training_loss 12.46990,   Relative Error 0.42766\n"
     ]
    },
    {
     "name": "stderr",
     "output_type": "stream",
     "text": [
      " 67%|██████▋   | 1337/2000 [04:02<02:07,  5.22it/s]"
     ]
    },
    {
     "name": "stdout",
     "output_type": "stream",
     "text": [
      "Training_loss 12.46728,   Relative Error 0.42758\n",
      "Training_loss 12.45722,   Relative Error 0.42750\n"
     ]
    },
    {
     "name": "stderr",
     "output_type": "stream",
     "text": [
      " 67%|██████▋   | 1339/2000 [04:02<02:08,  5.12it/s]"
     ]
    },
    {
     "name": "stdout",
     "output_type": "stream",
     "text": [
      "Training_loss 12.45366,   Relative Error 0.42748\n",
      "Training_loss 12.45275,   Relative Error 0.42740\n"
     ]
    },
    {
     "name": "stderr",
     "output_type": "stream",
     "text": [
      "\r",
      " 67%|██████▋   | 1340/2000 [04:02<02:07,  5.18it/s]"
     ]
    },
    {
     "name": "stdout",
     "output_type": "stream",
     "text": [
      "Training_loss 12.44780,   Relative Error 0.42733\n"
     ]
    },
    {
     "name": "stderr",
     "output_type": "stream",
     "text": [
      "\r",
      " 67%|██████▋   | 1341/2000 [04:02<02:12,  4.97it/s]"
     ]
    },
    {
     "name": "stdout",
     "output_type": "stream",
     "text": [
      "Training_loss 12.44154,   Relative Error 0.42726\n"
     ]
    },
    {
     "name": "stderr",
     "output_type": "stream",
     "text": [
      " 67%|██████▋   | 1343/2000 [04:03<02:12,  4.97it/s]"
     ]
    },
    {
     "name": "stdout",
     "output_type": "stream",
     "text": [
      "Training_loss 12.43318,   Relative Error 0.42717\n",
      "Training_loss 12.42940,   Relative Error 0.42712\n"
     ]
    },
    {
     "name": "stderr",
     "output_type": "stream",
     "text": [
      " 67%|██████▋   | 1345/2000 [04:03<02:12,  4.93it/s]"
     ]
    },
    {
     "name": "stdout",
     "output_type": "stream",
     "text": [
      "Training_loss 12.42022,   Relative Error 0.42704\n",
      "Training_loss 12.41795,   Relative Error 0.42694\n"
     ]
    },
    {
     "name": "stderr",
     "output_type": "stream",
     "text": [
      " 67%|██████▋   | 1347/2000 [04:04<02:10,  4.99it/s]"
     ]
    },
    {
     "name": "stdout",
     "output_type": "stream",
     "text": [
      "Training_loss 12.41600,   Relative Error 0.42692\n",
      "Training_loss 12.41283,   Relative Error 0.42688\n"
     ]
    },
    {
     "name": "stderr",
     "output_type": "stream",
     "text": [
      "\r",
      " 67%|██████▋   | 1348/2000 [04:04<02:21,  4.62it/s]"
     ]
    },
    {
     "name": "stdout",
     "output_type": "stream",
     "text": [
      "Training_loss 12.41351,   Relative Error 0.42682\n"
     ]
    },
    {
     "name": "stderr",
     "output_type": "stream",
     "text": [
      "\r",
      " 67%|██████▋   | 1349/2000 [04:04<02:45,  3.93it/s]"
     ]
    },
    {
     "name": "stdout",
     "output_type": "stream",
     "text": [
      "Training_loss 12.40877,   Relative Error 0.42677\n"
     ]
    },
    {
     "name": "stderr",
     "output_type": "stream",
     "text": [
      "\r",
      " 68%|██████▊   | 1350/2000 [04:05<02:55,  3.71it/s]"
     ]
    },
    {
     "name": "stdout",
     "output_type": "stream",
     "text": [
      "Training_loss 12.40312,   Relative Error 0.42670\n"
     ]
    },
    {
     "name": "stderr",
     "output_type": "stream",
     "text": [
      "\r",
      " 68%|██████▊   | 1351/2000 [04:05<02:55,  3.70it/s]"
     ]
    },
    {
     "name": "stdout",
     "output_type": "stream",
     "text": [
      "Training_loss 12.39551,   Relative Error 0.42666\n"
     ]
    },
    {
     "name": "stderr",
     "output_type": "stream",
     "text": [
      "\r",
      " 68%|██████▊   | 1352/2000 [04:05<02:58,  3.62it/s]"
     ]
    },
    {
     "name": "stdout",
     "output_type": "stream",
     "text": [
      "Training_loss 12.39399,   Relative Error 0.42659\n"
     ]
    },
    {
     "name": "stderr",
     "output_type": "stream",
     "text": [
      "\r",
      " 68%|██████▊   | 1353/2000 [04:05<03:09,  3.41it/s]"
     ]
    },
    {
     "name": "stdout",
     "output_type": "stream",
     "text": [
      "Training_loss 12.39011,   Relative Error 0.42654\n"
     ]
    },
    {
     "name": "stderr",
     "output_type": "stream",
     "text": [
      "\r",
      " 68%|██████▊   | 1354/2000 [04:06<03:06,  3.47it/s]"
     ]
    },
    {
     "name": "stdout",
     "output_type": "stream",
     "text": [
      "Training_loss 12.39344,   Relative Error 0.42650\n"
     ]
    },
    {
     "name": "stderr",
     "output_type": "stream",
     "text": [
      "\r",
      " 68%|██████▊   | 1355/2000 [04:06<03:04,  3.49it/s]"
     ]
    },
    {
     "name": "stdout",
     "output_type": "stream",
     "text": [
      "Training_loss 12.39010,   Relative Error 0.42648\n"
     ]
    },
    {
     "name": "stderr",
     "output_type": "stream",
     "text": [
      "\r",
      " 68%|██████▊   | 1356/2000 [04:06<03:07,  3.43it/s]"
     ]
    },
    {
     "name": "stdout",
     "output_type": "stream",
     "text": [
      "Training_loss 12.38645,   Relative Error 0.42644\n"
     ]
    },
    {
     "name": "stderr",
     "output_type": "stream",
     "text": [
      "\r",
      " 68%|██████▊   | 1357/2000 [04:07<03:01,  3.55it/s]"
     ]
    },
    {
     "name": "stdout",
     "output_type": "stream",
     "text": [
      "Training_loss 12.38699,   Relative Error 0.42639\n"
     ]
    },
    {
     "name": "stderr",
     "output_type": "stream",
     "text": [
      "\r",
      " 68%|██████▊   | 1358/2000 [04:07<02:52,  3.72it/s]"
     ]
    },
    {
     "name": "stdout",
     "output_type": "stream",
     "text": [
      "Training_loss 12.39131,   Relative Error 0.42635\n"
     ]
    },
    {
     "name": "stderr",
     "output_type": "stream",
     "text": [
      "\r",
      " 68%|██████▊   | 1359/2000 [04:07<02:48,  3.81it/s]"
     ]
    },
    {
     "name": "stdout",
     "output_type": "stream",
     "text": [
      "Training_loss 12.38891,   Relative Error 0.42633\n"
     ]
    },
    {
     "name": "stderr",
     "output_type": "stream",
     "text": [
      "\r",
      " 68%|██████▊   | 1360/2000 [04:07<02:41,  3.97it/s]"
     ]
    },
    {
     "name": "stdout",
     "output_type": "stream",
     "text": [
      "Training_loss 12.39150,   Relative Error 0.42626\n"
     ]
    },
    {
     "name": "stderr",
     "output_type": "stream",
     "text": [
      "\r",
      " 68%|██████▊   | 1361/2000 [04:08<02:39,  4.01it/s]"
     ]
    },
    {
     "name": "stdout",
     "output_type": "stream",
     "text": [
      "Training_loss 12.39102,   Relative Error 0.42622\n"
     ]
    },
    {
     "name": "stderr",
     "output_type": "stream",
     "text": [
      "\r",
      " 68%|██████▊   | 1362/2000 [04:08<02:35,  4.11it/s]"
     ]
    },
    {
     "name": "stdout",
     "output_type": "stream",
     "text": [
      "Training_loss 12.39368,   Relative Error 0.42614\n"
     ]
    },
    {
     "name": "stderr",
     "output_type": "stream",
     "text": [
      "\r",
      " 68%|██████▊   | 1363/2000 [04:08<02:31,  4.20it/s]"
     ]
    },
    {
     "name": "stdout",
     "output_type": "stream",
     "text": [
      "Training_loss 12.39376,   Relative Error 0.42610\n"
     ]
    },
    {
     "name": "stderr",
     "output_type": "stream",
     "text": [
      " 68%|██████▊   | 1365/2000 [04:08<02:20,  4.51it/s]"
     ]
    },
    {
     "name": "stdout",
     "output_type": "stream",
     "text": [
      "Training_loss 12.39330,   Relative Error 0.42606\n",
      "Training_loss 12.39358,   Relative Error 0.42603\n"
     ]
    },
    {
     "name": "stderr",
     "output_type": "stream",
     "text": [
      " 68%|██████▊   | 1367/2000 [04:09<02:07,  4.98it/s]"
     ]
    },
    {
     "name": "stdout",
     "output_type": "stream",
     "text": [
      "Training_loss 12.38525,   Relative Error 0.42599\n",
      "Training_loss 12.38318,   Relative Error 0.42594\n"
     ]
    },
    {
     "name": "stderr",
     "output_type": "stream",
     "text": [
      " 68%|██████▊   | 1369/2000 [04:09<01:57,  5.38it/s]"
     ]
    },
    {
     "name": "stdout",
     "output_type": "stream",
     "text": [
      "Training_loss 12.38064,   Relative Error 0.42587\n",
      "Training_loss 12.37778,   Relative Error 0.42580\n"
     ]
    },
    {
     "name": "stderr",
     "output_type": "stream",
     "text": [
      " 69%|██████▊   | 1371/2000 [04:09<01:48,  5.81it/s]"
     ]
    },
    {
     "name": "stdout",
     "output_type": "stream",
     "text": [
      "Training_loss 12.37514,   Relative Error 0.42569\n",
      "Training_loss 12.37180,   Relative Error 0.42564\n"
     ]
    },
    {
     "name": "stderr",
     "output_type": "stream",
     "text": [
      " 69%|██████▊   | 1373/2000 [04:10<01:43,  6.07it/s]"
     ]
    },
    {
     "name": "stdout",
     "output_type": "stream",
     "text": [
      "Training_loss 12.36813,   Relative Error 0.42560\n",
      "Training_loss 12.36979,   Relative Error 0.42553\n"
     ]
    },
    {
     "name": "stderr",
     "output_type": "stream",
     "text": [
      " 69%|██████▉   | 1375/2000 [04:10<01:38,  6.37it/s]"
     ]
    },
    {
     "name": "stdout",
     "output_type": "stream",
     "text": [
      "Training_loss 12.36553,   Relative Error 0.42542\n",
      "Training_loss 12.36282,   Relative Error 0.42538\n"
     ]
    },
    {
     "name": "stderr",
     "output_type": "stream",
     "text": [
      " 69%|██████▉   | 1377/2000 [04:10<01:38,  6.31it/s]"
     ]
    },
    {
     "name": "stdout",
     "output_type": "stream",
     "text": [
      "Training_loss 12.36526,   Relative Error 0.42534\n",
      "Training_loss 12.35739,   Relative Error 0.42528\n"
     ]
    },
    {
     "name": "stderr",
     "output_type": "stream",
     "text": [
      " 69%|██████▉   | 1379/2000 [04:11<01:40,  6.18it/s]"
     ]
    },
    {
     "name": "stdout",
     "output_type": "stream",
     "text": [
      "Training_loss 12.34995,   Relative Error 0.42523\n",
      "Training_loss 12.35298,   Relative Error 0.42516\n"
     ]
    },
    {
     "name": "stderr",
     "output_type": "stream",
     "text": [
      "\r",
      " 69%|██████▉   | 1380/2000 [04:11<01:49,  5.67it/s]"
     ]
    },
    {
     "name": "stdout",
     "output_type": "stream",
     "text": [
      "Training_loss 12.34776,   Relative Error 0.42511\n"
     ]
    },
    {
     "name": "stderr",
     "output_type": "stream",
     "text": [
      "\r",
      " 69%|██████▉   | 1381/2000 [04:11<01:53,  5.43it/s]"
     ]
    },
    {
     "name": "stdout",
     "output_type": "stream",
     "text": [
      "Training_loss 12.34217,   Relative Error 0.42502\n"
     ]
    },
    {
     "name": "stderr",
     "output_type": "stream",
     "text": [
      "\r",
      " 69%|██████▉   | 1382/2000 [04:11<02:02,  5.05it/s]"
     ]
    },
    {
     "name": "stdout",
     "output_type": "stream",
     "text": [
      "Training_loss 12.33383,   Relative Error 0.42494\n"
     ]
    },
    {
     "name": "stderr",
     "output_type": "stream",
     "text": [
      "\r",
      " 69%|██████▉   | 1383/2000 [04:12<02:06,  4.89it/s]"
     ]
    },
    {
     "name": "stdout",
     "output_type": "stream",
     "text": [
      "Training_loss 12.33097,   Relative Error 0.42486\n"
     ]
    },
    {
     "name": "stderr",
     "output_type": "stream",
     "text": [
      "\r",
      " 69%|██████▉   | 1384/2000 [04:12<02:12,  4.64it/s]"
     ]
    },
    {
     "name": "stdout",
     "output_type": "stream",
     "text": [
      "Training_loss 12.32712,   Relative Error 0.42482\n"
     ]
    },
    {
     "name": "stderr",
     "output_type": "stream",
     "text": [
      "\r",
      " 69%|██████▉   | 1385/2000 [04:12<02:14,  4.56it/s]"
     ]
    },
    {
     "name": "stdout",
     "output_type": "stream",
     "text": [
      "Training_loss 12.32469,   Relative Error 0.42480\n"
     ]
    },
    {
     "name": "stderr",
     "output_type": "stream",
     "text": [
      "\r",
      " 69%|██████▉   | 1386/2000 [04:12<02:28,  4.15it/s]"
     ]
    },
    {
     "name": "stdout",
     "output_type": "stream",
     "text": [
      "Training_loss 12.32026,   Relative Error 0.42475\n"
     ]
    },
    {
     "name": "stderr",
     "output_type": "stream",
     "text": [
      "\r",
      " 69%|██████▉   | 1387/2000 [04:13<02:27,  4.15it/s]"
     ]
    },
    {
     "name": "stdout",
     "output_type": "stream",
     "text": [
      "Training_loss 12.31865,   Relative Error 0.42467\n"
     ]
    },
    {
     "name": "stderr",
     "output_type": "stream",
     "text": [
      "\r",
      " 69%|██████▉   | 1388/2000 [04:13<02:25,  4.20it/s]"
     ]
    },
    {
     "name": "stdout",
     "output_type": "stream",
     "text": [
      "Training_loss 12.31757,   Relative Error 0.42460\n"
     ]
    },
    {
     "name": "stderr",
     "output_type": "stream",
     "text": [
      "\r",
      " 69%|██████▉   | 1389/2000 [04:13<02:25,  4.21it/s]"
     ]
    },
    {
     "name": "stdout",
     "output_type": "stream",
     "text": [
      "Training_loss 12.31330,   Relative Error 0.42455\n"
     ]
    },
    {
     "name": "stderr",
     "output_type": "stream",
     "text": [
      "\r",
      " 70%|██████▉   | 1390/2000 [04:13<02:23,  4.24it/s]"
     ]
    },
    {
     "name": "stdout",
     "output_type": "stream",
     "text": [
      "Training_loss 12.30985,   Relative Error 0.42454\n"
     ]
    },
    {
     "name": "stderr",
     "output_type": "stream",
     "text": [
      "\r",
      " 70%|██████▉   | 1391/2000 [04:13<02:18,  4.40it/s]"
     ]
    },
    {
     "name": "stdout",
     "output_type": "stream",
     "text": [
      "Training_loss 12.30960,   Relative Error 0.42450\n"
     ]
    },
    {
     "name": "stderr",
     "output_type": "stream",
     "text": [
      "\r",
      " 70%|██████▉   | 1392/2000 [04:14<02:19,  4.36it/s]"
     ]
    },
    {
     "name": "stdout",
     "output_type": "stream",
     "text": [
      "Training_loss 12.30475,   Relative Error 0.42446\n"
     ]
    },
    {
     "name": "stderr",
     "output_type": "stream",
     "text": [
      " 70%|██████▉   | 1394/2000 [04:14<02:11,  4.63it/s]"
     ]
    },
    {
     "name": "stdout",
     "output_type": "stream",
     "text": [
      "Training_loss 12.29766,   Relative Error 0.42442\n",
      "Training_loss 12.29430,   Relative Error 0.42436\n"
     ]
    },
    {
     "name": "stderr",
     "output_type": "stream",
     "text": [
      " 70%|██████▉   | 1396/2000 [04:15<02:10,  4.63it/s]"
     ]
    },
    {
     "name": "stdout",
     "output_type": "stream",
     "text": [
      "Training_loss 12.29502,   Relative Error 0.42432\n",
      "Training_loss 12.29416,   Relative Error 0.42425\n"
     ]
    },
    {
     "name": "stderr",
     "output_type": "stream",
     "text": [
      " 70%|██████▉   | 1398/2000 [04:15<01:58,  5.09it/s]"
     ]
    },
    {
     "name": "stdout",
     "output_type": "stream",
     "text": [
      "Training_loss 12.28834,   Relative Error 0.42414\n",
      "Training_loss 12.29106,   Relative Error 0.42410\n"
     ]
    },
    {
     "name": "stderr",
     "output_type": "stream",
     "text": [
      " 70%|███████   | 1400/2000 [04:15<01:58,  5.07it/s]"
     ]
    },
    {
     "name": "stdout",
     "output_type": "stream",
     "text": [
      "Training_loss 12.28614,   Relative Error 0.42403\n",
      "Training_loss 12.27745,   Relative Error 0.42395\n"
     ]
    },
    {
     "name": "stderr",
     "output_type": "stream",
     "text": [
      " 70%|███████   | 1402/2000 [04:16<01:54,  5.24it/s]"
     ]
    },
    {
     "name": "stdout",
     "output_type": "stream",
     "text": [
      "Training_loss 12.27777,   Relative Error 0.42390\n",
      "Training_loss 12.27729,   Relative Error 0.42386\n"
     ]
    },
    {
     "name": "stderr",
     "output_type": "stream",
     "text": [
      " 70%|███████   | 1404/2000 [04:16<01:49,  5.46it/s]"
     ]
    },
    {
     "name": "stdout",
     "output_type": "stream",
     "text": [
      "Training_loss 12.26922,   Relative Error 0.42379\n",
      "Training_loss 12.26687,   Relative Error 0.42374\n"
     ]
    },
    {
     "name": "stderr",
     "output_type": "stream",
     "text": [
      " 70%|███████   | 1406/2000 [04:16<01:46,  5.59it/s]"
     ]
    },
    {
     "name": "stdout",
     "output_type": "stream",
     "text": [
      "Training_loss 12.26665,   Relative Error 0.42368\n",
      "Training_loss 12.26367,   Relative Error 0.42360\n"
     ]
    },
    {
     "name": "stderr",
     "output_type": "stream",
     "text": [
      " 70%|███████   | 1408/2000 [04:17<01:44,  5.65it/s]"
     ]
    },
    {
     "name": "stdout",
     "output_type": "stream",
     "text": [
      "Training_loss 12.25970,   Relative Error 0.42355\n",
      "Training_loss 12.25819,   Relative Error 0.42348\n"
     ]
    },
    {
     "name": "stderr",
     "output_type": "stream",
     "text": [
      " 70%|███████   | 1410/2000 [04:17<01:39,  5.90it/s]"
     ]
    },
    {
     "name": "stdout",
     "output_type": "stream",
     "text": [
      "Training_loss 12.25989,   Relative Error 0.42341\n",
      "Training_loss 12.25528,   Relative Error 0.42336\n"
     ]
    },
    {
     "name": "stderr",
     "output_type": "stream",
     "text": [
      " 71%|███████   | 1412/2000 [04:17<01:39,  5.88it/s]"
     ]
    },
    {
     "name": "stdout",
     "output_type": "stream",
     "text": [
      "Training_loss 12.24956,   Relative Error 0.42329\n",
      "Training_loss 12.24491,   Relative Error 0.42322\n"
     ]
    },
    {
     "name": "stderr",
     "output_type": "stream",
     "text": [
      " 71%|███████   | 1414/2000 [04:18<01:40,  5.84it/s]"
     ]
    },
    {
     "name": "stdout",
     "output_type": "stream",
     "text": [
      "Training_loss 12.24028,   Relative Error 0.42315\n",
      "Training_loss 12.23850,   Relative Error 0.42313\n"
     ]
    },
    {
     "name": "stderr",
     "output_type": "stream",
     "text": [
      " 71%|███████   | 1416/2000 [04:18<01:40,  5.82it/s]"
     ]
    },
    {
     "name": "stdout",
     "output_type": "stream",
     "text": [
      "Training_loss 12.23150,   Relative Error 0.42308\n",
      "Training_loss 12.23460,   Relative Error 0.42304\n"
     ]
    },
    {
     "name": "stderr",
     "output_type": "stream",
     "text": [
      " 71%|███████   | 1418/2000 [04:18<01:42,  5.70it/s]"
     ]
    },
    {
     "name": "stdout",
     "output_type": "stream",
     "text": [
      "Training_loss 12.23121,   Relative Error 0.42300\n",
      "Training_loss 12.23112,   Relative Error 0.42295\n"
     ]
    },
    {
     "name": "stderr",
     "output_type": "stream",
     "text": [
      "\r",
      " 71%|███████   | 1419/2000 [04:19<01:46,  5.46it/s]"
     ]
    },
    {
     "name": "stdout",
     "output_type": "stream",
     "text": [
      "Training_loss 12.23046,   Relative Error 0.42288\n",
      "Training_loss 12.23131,   Relative Error 0.42284"
     ]
    },
    {
     "name": "stderr",
     "output_type": "stream",
     "text": [
      " 71%|███████   | 1421/2000 [04:19<01:49,  5.29it/s]"
     ]
    },
    {
     "name": "stdout",
     "output_type": "stream",
     "text": [
      "\n",
      "Training_loss 12.23448,   Relative Error 0.42279\n"
     ]
    },
    {
     "name": "stderr",
     "output_type": "stream",
     "text": [
      " 71%|███████   | 1423/2000 [04:19<01:52,  5.11it/s]"
     ]
    },
    {
     "name": "stdout",
     "output_type": "stream",
     "text": [
      "Training_loss 12.22690,   Relative Error 0.42274\n",
      "Training_loss 12.22932,   Relative Error 0.42267\n"
     ]
    },
    {
     "name": "stderr",
     "output_type": "stream",
     "text": [
      " 71%|███████▏  | 1425/2000 [04:20<01:52,  5.13it/s]"
     ]
    },
    {
     "name": "stdout",
     "output_type": "stream",
     "text": [
      "Training_loss 12.22609,   Relative Error 0.42262\n",
      "Training_loss 12.22376,   Relative Error 0.42251\n"
     ]
    },
    {
     "name": "stderr",
     "output_type": "stream",
     "text": [
      "\r",
      " 71%|███████▏  | 1426/2000 [04:20<01:58,  4.85it/s]"
     ]
    },
    {
     "name": "stdout",
     "output_type": "stream",
     "text": [
      "Training_loss 12.22361,   Relative Error 0.42247\n"
     ]
    },
    {
     "name": "stderr",
     "output_type": "stream",
     "text": [
      "\r",
      " 71%|███████▏  | 1427/2000 [04:20<01:59,  4.79it/s]"
     ]
    },
    {
     "name": "stdout",
     "output_type": "stream",
     "text": [
      "Training_loss 12.22104,   Relative Error 0.42245\n"
     ]
    },
    {
     "name": "stderr",
     "output_type": "stream",
     "text": [
      "\r",
      " 71%|███████▏  | 1428/2000 [04:21<02:02,  4.68it/s]"
     ]
    },
    {
     "name": "stdout",
     "output_type": "stream",
     "text": [
      "Training_loss 12.21246,   Relative Error 0.42240\n"
     ]
    },
    {
     "name": "stderr",
     "output_type": "stream",
     "text": [
      "\r",
      " 71%|███████▏  | 1429/2000 [04:21<02:04,  4.59it/s]"
     ]
    },
    {
     "name": "stdout",
     "output_type": "stream",
     "text": [
      "Training_loss 12.21586,   Relative Error 0.42236\n"
     ]
    },
    {
     "name": "stderr",
     "output_type": "stream",
     "text": [
      " 72%|███████▏  | 1431/2000 [04:21<02:03,  4.59it/s]"
     ]
    },
    {
     "name": "stdout",
     "output_type": "stream",
     "text": [
      "Training_loss 12.21362,   Relative Error 0.42225\n",
      "Training_loss 12.21671,   Relative Error 0.42218\n"
     ]
    },
    {
     "name": "stderr",
     "output_type": "stream",
     "text": [
      " 72%|███████▏  | 1433/2000 [04:22<01:54,  4.95it/s]"
     ]
    },
    {
     "name": "stdout",
     "output_type": "stream",
     "text": [
      "Training_loss 12.21970,   Relative Error 0.42212\n",
      "Training_loss 12.21609,   Relative Error 0.42204\n"
     ]
    },
    {
     "name": "stderr",
     "output_type": "stream",
     "text": [
      " 72%|███████▏  | 1435/2000 [04:22<01:42,  5.52it/s]"
     ]
    },
    {
     "name": "stdout",
     "output_type": "stream",
     "text": [
      "Training_loss 12.21334,   Relative Error 0.42198\n",
      "Training_loss 12.21091,   Relative Error 0.42191\n"
     ]
    },
    {
     "name": "stderr",
     "output_type": "stream",
     "text": [
      " 72%|███████▏  | 1437/2000 [04:22<01:41,  5.54it/s]"
     ]
    },
    {
     "name": "stdout",
     "output_type": "stream",
     "text": [
      "Training_loss 12.20961,   Relative Error 0.42185\n",
      "Training_loss 12.20528,   Relative Error 0.42180\n"
     ]
    },
    {
     "name": "stderr",
     "output_type": "stream",
     "text": [
      " 72%|███████▏  | 1439/2000 [04:23<01:32,  6.04it/s]"
     ]
    },
    {
     "name": "stdout",
     "output_type": "stream",
     "text": [
      "Training_loss 12.20090,   Relative Error 0.42175\n",
      "Training_loss 12.19538,   Relative Error 0.42167\n"
     ]
    },
    {
     "name": "stderr",
     "output_type": "stream",
     "text": [
      " 72%|███████▏  | 1441/2000 [04:23<01:28,  6.34it/s]"
     ]
    },
    {
     "name": "stdout",
     "output_type": "stream",
     "text": [
      "Training_loss 12.19445,   Relative Error 0.42163\n",
      "Training_loss 12.19299,   Relative Error 0.42159\n"
     ]
    },
    {
     "name": "stderr",
     "output_type": "stream",
     "text": [
      " 72%|███████▏  | 1443/2000 [04:23<01:29,  6.22it/s]"
     ]
    },
    {
     "name": "stdout",
     "output_type": "stream",
     "text": [
      "Training_loss 12.19202,   Relative Error 0.42155\n",
      "Training_loss 12.18704,   Relative Error 0.42148\n"
     ]
    },
    {
     "name": "stderr",
     "output_type": "stream",
     "text": [
      " 72%|███████▏  | 1445/2000 [04:24<01:28,  6.27it/s]"
     ]
    },
    {
     "name": "stdout",
     "output_type": "stream",
     "text": [
      "Training_loss 12.17864,   Relative Error 0.42143\n",
      "Training_loss 12.18131,   Relative Error 0.42140\n"
     ]
    },
    {
     "name": "stderr",
     "output_type": "stream",
     "text": [
      " 72%|███████▏  | 1447/2000 [04:24<01:25,  6.46it/s]"
     ]
    },
    {
     "name": "stdout",
     "output_type": "stream",
     "text": [
      "Training_loss 12.17244,   Relative Error 0.42132\n",
      "Training_loss 12.17046,   Relative Error 0.42126\n"
     ]
    },
    {
     "name": "stderr",
     "output_type": "stream",
     "text": [
      " 72%|███████▏  | 1449/2000 [04:24<01:25,  6.41it/s]"
     ]
    },
    {
     "name": "stdout",
     "output_type": "stream",
     "text": [
      "Training_loss 12.17286,   Relative Error 0.42119\n",
      "Training_loss 12.17089,   Relative Error 0.42109\n"
     ]
    },
    {
     "name": "stderr",
     "output_type": "stream",
     "text": [
      " 73%|███████▎  | 1451/2000 [04:24<01:27,  6.27it/s]"
     ]
    },
    {
     "name": "stdout",
     "output_type": "stream",
     "text": [
      "Training_loss 12.16774,   Relative Error 0.42099\n",
      "Training_loss 12.16101,   Relative Error 0.42092\n"
     ]
    },
    {
     "name": "stderr",
     "output_type": "stream",
     "text": [
      " 73%|███████▎  | 1453/2000 [04:25<01:35,  5.71it/s]"
     ]
    },
    {
     "name": "stdout",
     "output_type": "stream",
     "text": [
      "Training_loss 12.15691,   Relative Error 0.42088\n",
      "Training_loss 12.15258,   Relative Error 0.42087\n"
     ]
    },
    {
     "name": "stderr",
     "output_type": "stream",
     "text": [
      "\r",
      " 73%|███████▎  | 1454/2000 [04:25<01:39,  5.47it/s]"
     ]
    },
    {
     "name": "stdout",
     "output_type": "stream",
     "text": [
      "Training_loss 12.15504,   Relative Error 0.42080\n"
     ]
    },
    {
     "name": "stderr",
     "output_type": "stream",
     "text": [
      "\r",
      " 73%|███████▎  | 1455/2000 [04:25<01:44,  5.20it/s]"
     ]
    },
    {
     "name": "stdout",
     "output_type": "stream",
     "text": [
      "Training_loss 12.14544,   Relative Error 0.42073\n"
     ]
    },
    {
     "name": "stderr",
     "output_type": "stream",
     "text": [
      "\r",
      " 73%|███████▎  | 1456/2000 [04:25<01:48,  4.99it/s]"
     ]
    },
    {
     "name": "stdout",
     "output_type": "stream",
     "text": [
      "Training_loss 12.14189,   Relative Error 0.42071\n"
     ]
    },
    {
     "name": "stderr",
     "output_type": "stream",
     "text": [
      "\r",
      " 73%|███████▎  | 1457/2000 [04:26<01:51,  4.88it/s]"
     ]
    },
    {
     "name": "stdout",
     "output_type": "stream",
     "text": [
      "Training_loss 12.13340,   Relative Error 0.42063\n"
     ]
    },
    {
     "name": "stderr",
     "output_type": "stream",
     "text": [
      "\r",
      " 73%|███████▎  | 1458/2000 [04:26<01:57,  4.62it/s]"
     ]
    },
    {
     "name": "stdout",
     "output_type": "stream",
     "text": [
      "Training_loss 12.12985,   Relative Error 0.42056\n"
     ]
    },
    {
     "name": "stderr",
     "output_type": "stream",
     "text": [
      "\r",
      " 73%|███████▎  | 1459/2000 [04:26<01:59,  4.53it/s]"
     ]
    },
    {
     "name": "stdout",
     "output_type": "stream",
     "text": [
      "Training_loss 12.12460,   Relative Error 0.42049\n"
     ]
    },
    {
     "name": "stderr",
     "output_type": "stream",
     "text": [
      "\r",
      " 73%|███████▎  | 1460/2000 [04:26<01:58,  4.55it/s]"
     ]
    },
    {
     "name": "stdout",
     "output_type": "stream",
     "text": [
      "Training_loss 12.12468,   Relative Error 0.42044\n"
     ]
    },
    {
     "name": "stderr",
     "output_type": "stream",
     "text": [
      "\r",
      " 73%|███████▎  | 1461/2000 [04:27<02:00,  4.47it/s]"
     ]
    },
    {
     "name": "stdout",
     "output_type": "stream",
     "text": [
      "Training_loss 12.12329,   Relative Error 0.42040\n"
     ]
    },
    {
     "name": "stderr",
     "output_type": "stream",
     "text": [
      "\r",
      " 73%|███████▎  | 1462/2000 [04:27<01:58,  4.53it/s]"
     ]
    },
    {
     "name": "stdout",
     "output_type": "stream",
     "text": [
      "Training_loss 12.11946,   Relative Error 0.42035\n"
     ]
    },
    {
     "name": "stderr",
     "output_type": "stream",
     "text": [
      "\r",
      " 73%|███████▎  | 1463/2000 [04:27<01:59,  4.50it/s]"
     ]
    },
    {
     "name": "stdout",
     "output_type": "stream",
     "text": [
      "Training_loss 12.11204,   Relative Error 0.42032\n"
     ]
    },
    {
     "name": "stderr",
     "output_type": "stream",
     "text": [
      " 73%|███████▎  | 1465/2000 [04:27<01:55,  4.62it/s]"
     ]
    },
    {
     "name": "stdout",
     "output_type": "stream",
     "text": [
      "Training_loss 12.11166,   Relative Error 0.42027\n",
      "Training_loss 12.10466,   Relative Error 0.42022\n"
     ]
    },
    {
     "name": "stderr",
     "output_type": "stream",
     "text": [
      " 73%|███████▎  | 1467/2000 [04:28<01:53,  4.68it/s]"
     ]
    },
    {
     "name": "stdout",
     "output_type": "stream",
     "text": [
      "Training_loss 12.10136,   Relative Error 0.42018\n",
      "Training_loss 12.10134,   Relative Error 0.42013\n"
     ]
    },
    {
     "name": "stderr",
     "output_type": "stream",
     "text": [
      "\r",
      " 73%|███████▎  | 1468/2000 [04:28<01:50,  4.80it/s]"
     ]
    },
    {
     "name": "stdout",
     "output_type": "stream",
     "text": [
      "Training_loss 12.09817,   Relative Error 0.42008\n"
     ]
    },
    {
     "name": "stderr",
     "output_type": "stream",
     "text": [
      " 74%|███████▎  | 1470/2000 [04:28<01:47,  4.92it/s]"
     ]
    },
    {
     "name": "stdout",
     "output_type": "stream",
     "text": [
      "Training_loss 12.09472,   Relative Error 0.42003\n",
      "Training_loss 12.08941,   Relative Error 0.41993\n"
     ]
    },
    {
     "name": "stderr",
     "output_type": "stream",
     "text": [
      " 74%|███████▎  | 1472/2000 [04:29<01:47,  4.90it/s]"
     ]
    },
    {
     "name": "stdout",
     "output_type": "stream",
     "text": [
      "Training_loss 12.08691,   Relative Error 0.41983\n",
      "Training_loss 12.08593,   Relative Error 0.41976\n"
     ]
    },
    {
     "name": "stderr",
     "output_type": "stream",
     "text": [
      " 74%|███████▎  | 1474/2000 [04:29<01:47,  4.90it/s]"
     ]
    },
    {
     "name": "stdout",
     "output_type": "stream",
     "text": [
      "Training_loss 12.08346,   Relative Error 0.41972\n",
      "Training_loss 12.08263,   Relative Error 0.41965\n"
     ]
    },
    {
     "name": "stderr",
     "output_type": "stream",
     "text": [
      "\r",
      " 74%|███████▍  | 1475/2000 [04:30<01:48,  4.82it/s]"
     ]
    },
    {
     "name": "stdout",
     "output_type": "stream",
     "text": [
      "Training_loss 12.07703,   Relative Error 0.41957\n"
     ]
    },
    {
     "name": "stderr",
     "output_type": "stream",
     "text": [
      "\r",
      " 74%|███████▍  | 1476/2000 [04:30<01:50,  4.72it/s]"
     ]
    },
    {
     "name": "stdout",
     "output_type": "stream",
     "text": [
      "Training_loss 12.08064,   Relative Error 0.41953\n"
     ]
    },
    {
     "name": "stderr",
     "output_type": "stream",
     "text": [
      " 74%|███████▍  | 1478/2000 [04:30<01:48,  4.83it/s]"
     ]
    },
    {
     "name": "stdout",
     "output_type": "stream",
     "text": [
      "Training_loss 12.07368,   Relative Error 0.41948\n",
      "Training_loss 12.07372,   Relative Error 0.41944\n"
     ]
    },
    {
     "name": "stderr",
     "output_type": "stream",
     "text": [
      "\r",
      " 74%|███████▍  | 1479/2000 [04:30<01:44,  4.98it/s]"
     ]
    },
    {
     "name": "stdout",
     "output_type": "stream",
     "text": [
      "Training_loss 12.07670,   Relative Error 0.41940\n"
     ]
    },
    {
     "name": "stderr",
     "output_type": "stream",
     "text": [
      "\r",
      " 74%|███████▍  | 1480/2000 [04:31<01:44,  4.97it/s]"
     ]
    },
    {
     "name": "stdout",
     "output_type": "stream",
     "text": [
      "Training_loss 12.07406,   Relative Error 0.41930\n"
     ]
    },
    {
     "name": "stderr",
     "output_type": "stream",
     "text": [
      " 74%|███████▍  | 1482/2000 [04:31<01:38,  5.24it/s]"
     ]
    },
    {
     "name": "stdout",
     "output_type": "stream",
     "text": [
      "Training_loss 12.07214,   Relative Error 0.41924\n",
      "Training_loss 12.07488,   Relative Error 0.41918\n"
     ]
    },
    {
     "name": "stderr",
     "output_type": "stream",
     "text": [
      " 74%|███████▍  | 1484/2000 [04:31<01:39,  5.17it/s]"
     ]
    },
    {
     "name": "stdout",
     "output_type": "stream",
     "text": [
      "Training_loss 12.07861,   Relative Error 0.41914\n",
      "Training_loss 12.07584,   Relative Error 0.41912\n"
     ]
    },
    {
     "name": "stderr",
     "output_type": "stream",
     "text": [
      " 74%|███████▍  | 1486/2000 [04:32<01:42,  5.02it/s]"
     ]
    },
    {
     "name": "stdout",
     "output_type": "stream",
     "text": [
      "Training_loss 12.07572,   Relative Error 0.41908\n",
      "Training_loss 12.07918,   Relative Error 0.41905\n"
     ]
    },
    {
     "name": "stderr",
     "output_type": "stream",
     "text": [
      " 74%|███████▍  | 1488/2000 [04:32<01:41,  5.02it/s]"
     ]
    },
    {
     "name": "stdout",
     "output_type": "stream",
     "text": [
      "Training_loss 12.07904,   Relative Error 0.41899\n",
      "Training_loss 12.07673,   Relative Error 0.41897\n"
     ]
    },
    {
     "name": "stderr",
     "output_type": "stream",
     "text": [
      " 74%|███████▍  | 1490/2000 [04:33<01:42,  4.96it/s]"
     ]
    },
    {
     "name": "stdout",
     "output_type": "stream",
     "text": [
      "Training_loss 12.07332,   Relative Error 0.41889\n",
      "Training_loss 12.06796,   Relative Error 0.41881\n"
     ]
    },
    {
     "name": "stderr",
     "output_type": "stream",
     "text": [
      " 75%|███████▍  | 1492/2000 [04:33<01:40,  5.06it/s]"
     ]
    },
    {
     "name": "stdout",
     "output_type": "stream",
     "text": [
      "Training_loss 12.07087,   Relative Error 0.41878\n",
      "Training_loss 12.06994,   Relative Error 0.41872\n"
     ]
    },
    {
     "name": "stderr",
     "output_type": "stream",
     "text": [
      "\r",
      " 75%|███████▍  | 1493/2000 [04:33<01:38,  5.13it/s]"
     ]
    },
    {
     "name": "stdout",
     "output_type": "stream",
     "text": [
      "Training_loss 12.06614,   Relative Error 0.41868\n",
      "Training_loss 12.06539,   Relative Error 0.41862"
     ]
    },
    {
     "name": "stderr",
     "output_type": "stream",
     "text": [
      " 75%|███████▍  | 1495/2000 [04:33<01:37,  5.16it/s]"
     ]
    },
    {
     "name": "stdout",
     "output_type": "stream",
     "text": [
      "\n",
      "Training_loss 12.05629,   Relative Error 0.41854\n"
     ]
    },
    {
     "name": "stderr",
     "output_type": "stream",
     "text": [
      " 75%|███████▍  | 1497/2000 [04:34<01:41,  4.94it/s]"
     ]
    },
    {
     "name": "stdout",
     "output_type": "stream",
     "text": [
      "Training_loss 12.05354,   Relative Error 0.41851\n",
      "Training_loss 12.05346,   Relative Error 0.41846\n"
     ]
    },
    {
     "name": "stderr",
     "output_type": "stream",
     "text": [
      "\r",
      " 75%|███████▍  | 1498/2000 [04:34<01:45,  4.75it/s]"
     ]
    },
    {
     "name": "stdout",
     "output_type": "stream",
     "text": [
      "Training_loss 12.04993,   Relative Error 0.41839\n"
     ]
    },
    {
     "name": "stderr",
     "output_type": "stream",
     "text": [
      "\r",
      " 75%|███████▍  | 1499/2000 [04:34<01:49,  4.57it/s]"
     ]
    },
    {
     "name": "stdout",
     "output_type": "stream",
     "text": [
      "Training_loss 12.04684,   Relative Error 0.41834\n"
     ]
    },
    {
     "name": "stderr",
     "output_type": "stream",
     "text": [
      " 75%|███████▌  | 1501/2000 [04:35<01:44,  4.76it/s]"
     ]
    },
    {
     "name": "stdout",
     "output_type": "stream",
     "text": [
      "Training_loss 12.04600,   Relative Error 0.41828\n",
      "Training_loss 12.04572,   Relative Error 0.41825\n"
     ]
    },
    {
     "name": "stderr",
     "output_type": "stream",
     "text": [
      " 75%|███████▌  | 1503/2000 [04:35<01:40,  4.93it/s]"
     ]
    },
    {
     "name": "stdout",
     "output_type": "stream",
     "text": [
      "Training_loss 12.04261,   Relative Error 0.41821\n",
      "Training_loss 12.03739,   Relative Error 0.41810\n"
     ]
    },
    {
     "name": "stderr",
     "output_type": "stream",
     "text": [
      "\r",
      " 75%|███████▌  | 1504/2000 [04:35<01:46,  4.64it/s]"
     ]
    },
    {
     "name": "stdout",
     "output_type": "stream",
     "text": [
      "Training_loss 12.04000,   Relative Error 0.41805\n"
     ]
    },
    {
     "name": "stderr",
     "output_type": "stream",
     "text": [
      "\r",
      " 75%|███████▌  | 1505/2000 [04:36<01:44,  4.75it/s]"
     ]
    },
    {
     "name": "stdout",
     "output_type": "stream",
     "text": [
      "Training_loss 12.03882,   Relative Error 0.41799\n"
     ]
    },
    {
     "name": "stderr",
     "output_type": "stream",
     "text": [
      "\r",
      " 75%|███████▌  | 1506/2000 [04:36<01:48,  4.56it/s]"
     ]
    },
    {
     "name": "stdout",
     "output_type": "stream",
     "text": [
      "Training_loss 12.03377,   Relative Error 0.41791\n"
     ]
    },
    {
     "name": "stderr",
     "output_type": "stream",
     "text": [
      "\r",
      " 75%|███████▌  | 1507/2000 [04:36<01:54,  4.31it/s]"
     ]
    },
    {
     "name": "stdout",
     "output_type": "stream",
     "text": [
      "Training_loss 12.03260,   Relative Error 0.41788\n"
     ]
    },
    {
     "name": "stderr",
     "output_type": "stream",
     "text": [
      "\r",
      " 75%|███████▌  | 1508/2000 [04:36<01:59,  4.10it/s]"
     ]
    },
    {
     "name": "stdout",
     "output_type": "stream",
     "text": [
      "Training_loss 12.03511,   Relative Error 0.41784\n"
     ]
    },
    {
     "name": "stderr",
     "output_type": "stream",
     "text": [
      "\r",
      " 75%|███████▌  | 1509/2000 [04:37<02:05,  3.92it/s]"
     ]
    },
    {
     "name": "stdout",
     "output_type": "stream",
     "text": [
      "Training_loss 12.02876,   Relative Error 0.41776\n"
     ]
    },
    {
     "name": "stderr",
     "output_type": "stream",
     "text": [
      "\r",
      " 76%|███████▌  | 1510/2000 [04:37<02:13,  3.66it/s]"
     ]
    },
    {
     "name": "stdout",
     "output_type": "stream",
     "text": [
      "Training_loss 12.02608,   Relative Error 0.41772\n"
     ]
    },
    {
     "name": "stderr",
     "output_type": "stream",
     "text": [
      "\r",
      " 76%|███████▌  | 1511/2000 [04:37<02:09,  3.77it/s]"
     ]
    },
    {
     "name": "stdout",
     "output_type": "stream",
     "text": [
      "Training_loss 12.02096,   Relative Error 0.41762\n"
     ]
    },
    {
     "name": "stderr",
     "output_type": "stream",
     "text": [
      " 76%|███████▌  | 1513/2000 [04:38<01:57,  4.15it/s]"
     ]
    },
    {
     "name": "stdout",
     "output_type": "stream",
     "text": [
      "Training_loss 12.01407,   Relative Error 0.41754\n",
      "Training_loss 12.00852,   Relative Error 0.41745\n"
     ]
    },
    {
     "name": "stderr",
     "output_type": "stream",
     "text": [
      " 76%|███████▌  | 1515/2000 [04:38<01:42,  4.75it/s]"
     ]
    },
    {
     "name": "stdout",
     "output_type": "stream",
     "text": [
      "Training_loss 12.00771,   Relative Error 0.41739\n",
      "Training_loss 11.99799,   Relative Error 0.41731\n"
     ]
    },
    {
     "name": "stderr",
     "output_type": "stream",
     "text": [
      " 76%|███████▌  | 1517/2000 [04:38<01:32,  5.25it/s]"
     ]
    },
    {
     "name": "stdout",
     "output_type": "stream",
     "text": [
      "Training_loss 11.99763,   Relative Error 0.41726\n",
      "Training_loss 11.99451,   Relative Error 0.41718\n"
     ]
    },
    {
     "name": "stderr",
     "output_type": "stream",
     "text": [
      " 76%|███████▌  | 1519/2000 [04:39<01:22,  5.84it/s]"
     ]
    },
    {
     "name": "stdout",
     "output_type": "stream",
     "text": [
      "Training_loss 11.98588,   Relative Error 0.41713\n",
      "Training_loss 11.98051,   Relative Error 0.41705\n"
     ]
    },
    {
     "name": "stderr",
     "output_type": "stream",
     "text": [
      " 76%|███████▌  | 1521/2000 [04:39<01:16,  6.26it/s]"
     ]
    },
    {
     "name": "stdout",
     "output_type": "stream",
     "text": [
      "Training_loss 11.97942,   Relative Error 0.41702\n",
      "Training_loss 11.98016,   Relative Error 0.41700\n"
     ]
    },
    {
     "name": "stderr",
     "output_type": "stream",
     "text": [
      " 76%|███████▌  | 1523/2000 [04:39<01:15,  6.31it/s]"
     ]
    },
    {
     "name": "stdout",
     "output_type": "stream",
     "text": [
      "Training_loss 11.97184,   Relative Error 0.41692\n",
      "Training_loss 11.96789,   Relative Error 0.41688\n"
     ]
    },
    {
     "name": "stderr",
     "output_type": "stream",
     "text": [
      " 76%|███████▋  | 1525/2000 [04:40<01:15,  6.28it/s]"
     ]
    },
    {
     "name": "stdout",
     "output_type": "stream",
     "text": [
      "Training_loss 11.96511,   Relative Error 0.41678\n",
      "Training_loss 11.95631,   Relative Error 0.41673\n"
     ]
    },
    {
     "name": "stderr",
     "output_type": "stream",
     "text": [
      " 76%|███████▋  | 1527/2000 [04:40<01:10,  6.72it/s]"
     ]
    },
    {
     "name": "stdout",
     "output_type": "stream",
     "text": [
      "Training_loss 11.95866,   Relative Error 0.41666\n",
      "Training_loss 11.95529,   Relative Error 0.41662\n"
     ]
    },
    {
     "name": "stderr",
     "output_type": "stream",
     "text": [
      " 76%|███████▋  | 1529/2000 [04:40<01:11,  6.55it/s]"
     ]
    },
    {
     "name": "stdout",
     "output_type": "stream",
     "text": [
      "Training_loss 11.95138,   Relative Error 0.41652\n",
      "Training_loss 11.94412,   Relative Error 0.41647\n"
     ]
    },
    {
     "name": "stderr",
     "output_type": "stream",
     "text": [
      " 77%|███████▋  | 1531/2000 [04:41<01:13,  6.42it/s]"
     ]
    },
    {
     "name": "stdout",
     "output_type": "stream",
     "text": [
      "Training_loss 11.94565,   Relative Error 0.41641\n",
      "Training_loss 11.94802,   Relative Error 0.41635\n"
     ]
    },
    {
     "name": "stderr",
     "output_type": "stream",
     "text": [
      " 77%|███████▋  | 1533/2000 [04:41<01:11,  6.58it/s]"
     ]
    },
    {
     "name": "stdout",
     "output_type": "stream",
     "text": [
      "Training_loss 11.94617,   Relative Error 0.41628\n",
      "Training_loss 11.94479,   Relative Error 0.41623\n"
     ]
    },
    {
     "name": "stderr",
     "output_type": "stream",
     "text": [
      " 77%|███████▋  | 1535/2000 [04:41<01:11,  6.53it/s]"
     ]
    },
    {
     "name": "stdout",
     "output_type": "stream",
     "text": [
      "Training_loss 11.93577,   Relative Error 0.41616\n",
      "Training_loss 11.93280,   Relative Error 0.41609\n"
     ]
    },
    {
     "name": "stderr",
     "output_type": "stream",
     "text": [
      " 77%|███████▋  | 1537/2000 [04:41<01:09,  6.62it/s]"
     ]
    },
    {
     "name": "stdout",
     "output_type": "stream",
     "text": [
      "Training_loss 11.93053,   Relative Error 0.41607\n",
      "Training_loss 11.92571,   Relative Error 0.41599\n"
     ]
    },
    {
     "name": "stderr",
     "output_type": "stream",
     "text": [
      " 77%|███████▋  | 1539/2000 [04:42<01:10,  6.56it/s]"
     ]
    },
    {
     "name": "stdout",
     "output_type": "stream",
     "text": [
      "Training_loss 11.92535,   Relative Error 0.41596\n",
      "Training_loss 11.92441,   Relative Error 0.41593\n"
     ]
    },
    {
     "name": "stderr",
     "output_type": "stream",
     "text": [
      " 77%|███████▋  | 1541/2000 [04:42<01:10,  6.52it/s]"
     ]
    },
    {
     "name": "stdout",
     "output_type": "stream",
     "text": [
      "Training_loss 11.91791,   Relative Error 0.41585\n",
      "Training_loss 11.91631,   Relative Error 0.41578\n"
     ]
    },
    {
     "name": "stderr",
     "output_type": "stream",
     "text": [
      " 77%|███████▋  | 1543/2000 [04:42<01:07,  6.79it/s]"
     ]
    },
    {
     "name": "stdout",
     "output_type": "stream",
     "text": [
      "Training_loss 11.90997,   Relative Error 0.41571\n",
      "Training_loss 11.90199,   Relative Error 0.41566\n"
     ]
    },
    {
     "name": "stderr",
     "output_type": "stream",
     "text": [
      " 77%|███████▋  | 1545/2000 [04:43<01:07,  6.79it/s]"
     ]
    },
    {
     "name": "stdout",
     "output_type": "stream",
     "text": [
      "Training_loss 11.90076,   Relative Error 0.41559\n",
      "Training_loss 11.89776,   Relative Error 0.41557\n"
     ]
    },
    {
     "name": "stderr",
     "output_type": "stream",
     "text": [
      " 77%|███████▋  | 1547/2000 [04:43<01:08,  6.63it/s]"
     ]
    },
    {
     "name": "stdout",
     "output_type": "stream",
     "text": [
      "Training_loss 11.89889,   Relative Error 0.41555\n",
      "Training_loss 11.90092,   Relative Error 0.41549\n"
     ]
    },
    {
     "name": "stderr",
     "output_type": "stream",
     "text": [
      " 77%|███████▋  | 1549/2000 [04:43<01:08,  6.59it/s]"
     ]
    },
    {
     "name": "stdout",
     "output_type": "stream",
     "text": [
      "Training_loss 11.89755,   Relative Error 0.41545\n",
      "Training_loss 11.89699,   Relative Error 0.41541\n"
     ]
    },
    {
     "name": "stderr",
     "output_type": "stream",
     "text": [
      " 78%|███████▊  | 1551/2000 [04:44<01:05,  6.85it/s]"
     ]
    },
    {
     "name": "stdout",
     "output_type": "stream",
     "text": [
      "Training_loss 11.89181,   Relative Error 0.41534\n",
      "Training_loss 11.89150,   Relative Error 0.41529\n"
     ]
    },
    {
     "name": "stderr",
     "output_type": "stream",
     "text": [
      " 78%|███████▊  | 1553/2000 [04:44<01:05,  6.78it/s]"
     ]
    },
    {
     "name": "stdout",
     "output_type": "stream",
     "text": [
      "Training_loss 11.88902,   Relative Error 0.41520\n",
      "Training_loss 11.88258,   Relative Error 0.41510\n"
     ]
    },
    {
     "name": "stderr",
     "output_type": "stream",
     "text": [
      " 78%|███████▊  | 1555/2000 [04:44<01:06,  6.70it/s]"
     ]
    },
    {
     "name": "stdout",
     "output_type": "stream",
     "text": [
      "Training_loss 11.88041,   Relative Error 0.41503\n",
      "Training_loss 11.87128,   Relative Error 0.41495\n"
     ]
    },
    {
     "name": "stderr",
     "output_type": "stream",
     "text": [
      " 78%|███████▊  | 1557/2000 [04:44<01:07,  6.59it/s]"
     ]
    },
    {
     "name": "stdout",
     "output_type": "stream",
     "text": [
      "Training_loss 11.87048,   Relative Error 0.41488\n",
      "Training_loss 11.86870,   Relative Error 0.41482\n"
     ]
    },
    {
     "name": "stderr",
     "output_type": "stream",
     "text": [
      " 78%|███████▊  | 1559/2000 [04:45<01:07,  6.54it/s]"
     ]
    },
    {
     "name": "stdout",
     "output_type": "stream",
     "text": [
      "Training_loss 11.86190,   Relative Error 0.41477\n",
      "Training_loss 11.86000,   Relative Error 0.41471\n"
     ]
    },
    {
     "name": "stderr",
     "output_type": "stream",
     "text": [
      " 78%|███████▊  | 1561/2000 [04:45<01:06,  6.64it/s]"
     ]
    },
    {
     "name": "stdout",
     "output_type": "stream",
     "text": [
      "Training_loss 11.85395,   Relative Error 0.41461\n",
      "Training_loss 11.85367,   Relative Error 0.41457\n"
     ]
    },
    {
     "name": "stderr",
     "output_type": "stream",
     "text": [
      " 78%|███████▊  | 1563/2000 [04:45<01:06,  6.57it/s]"
     ]
    },
    {
     "name": "stdout",
     "output_type": "stream",
     "text": [
      "Training_loss 11.84921,   Relative Error 0.41450\n",
      "Training_loss 11.84621,   Relative Error 0.41445\n"
     ]
    },
    {
     "name": "stderr",
     "output_type": "stream",
     "text": [
      " 78%|███████▊  | 1565/2000 [04:46<01:06,  6.56it/s]"
     ]
    },
    {
     "name": "stdout",
     "output_type": "stream",
     "text": [
      "Training_loss 11.84355,   Relative Error 0.41444\n",
      "Training_loss 11.84100,   Relative Error 0.41440\n"
     ]
    },
    {
     "name": "stderr",
     "output_type": "stream",
     "text": [
      " 78%|███████▊  | 1567/2000 [04:46<01:06,  6.52it/s]"
     ]
    },
    {
     "name": "stdout",
     "output_type": "stream",
     "text": [
      "Training_loss 11.83646,   Relative Error 0.41433\n",
      "Training_loss 11.83866,   Relative Error 0.41426\n"
     ]
    },
    {
     "name": "stderr",
     "output_type": "stream",
     "text": [
      " 78%|███████▊  | 1569/2000 [04:46<01:06,  6.48it/s]"
     ]
    },
    {
     "name": "stdout",
     "output_type": "stream",
     "text": [
      "Training_loss 11.83973,   Relative Error 0.41423\n",
      "Training_loss 11.84001,   Relative Error 0.41417\n"
     ]
    },
    {
     "name": "stderr",
     "output_type": "stream",
     "text": [
      " 79%|███████▊  | 1571/2000 [04:47<01:04,  6.63it/s]"
     ]
    },
    {
     "name": "stdout",
     "output_type": "stream",
     "text": [
      "Training_loss 11.83216,   Relative Error 0.41412\n",
      "Training_loss 11.82950,   Relative Error 0.41402\n"
     ]
    },
    {
     "name": "stderr",
     "output_type": "stream",
     "text": [
      " 79%|███████▊  | 1573/2000 [04:47<01:03,  6.73it/s]"
     ]
    },
    {
     "name": "stdout",
     "output_type": "stream",
     "text": [
      "Training_loss 11.82936,   Relative Error 0.41397\n",
      "Training_loss 11.82416,   Relative Error 0.41391\n"
     ]
    },
    {
     "name": "stderr",
     "output_type": "stream",
     "text": [
      " 79%|███████▉  | 1575/2000 [04:47<01:03,  6.72it/s]"
     ]
    },
    {
     "name": "stdout",
     "output_type": "stream",
     "text": [
      "Training_loss 11.82444,   Relative Error 0.41388\n",
      "Training_loss 11.82235,   Relative Error 0.41386\n"
     ]
    },
    {
     "name": "stderr",
     "output_type": "stream",
     "text": [
      " 79%|███████▉  | 1577/2000 [04:48<01:03,  6.67it/s]"
     ]
    },
    {
     "name": "stdout",
     "output_type": "stream",
     "text": [
      "Training_loss 11.81465,   Relative Error 0.41379\n",
      "Training_loss 11.81467,   Relative Error 0.41374\n"
     ]
    },
    {
     "name": "stderr",
     "output_type": "stream",
     "text": [
      " 79%|███████▉  | 1579/2000 [04:48<01:01,  6.83it/s]"
     ]
    },
    {
     "name": "stdout",
     "output_type": "stream",
     "text": [
      "Training_loss 11.81443,   Relative Error 0.41369\n",
      "Training_loss 11.80964,   Relative Error 0.41362\n"
     ]
    },
    {
     "name": "stderr",
     "output_type": "stream",
     "text": [
      " 79%|███████▉  | 1581/2000 [04:48<01:07,  6.22it/s]"
     ]
    },
    {
     "name": "stdout",
     "output_type": "stream",
     "text": [
      "Training_loss 11.81265,   Relative Error 0.41357\n",
      "Training_loss 11.81130,   Relative Error 0.41353\n"
     ]
    },
    {
     "name": "stderr",
     "output_type": "stream",
     "text": [
      " 79%|███████▉  | 1583/2000 [04:49<01:10,  5.87it/s]"
     ]
    },
    {
     "name": "stdout",
     "output_type": "stream",
     "text": [
      "Training_loss 11.80881,   Relative Error 0.41349\n",
      "Training_loss 11.80256,   Relative Error 0.41342\n"
     ]
    },
    {
     "name": "stderr",
     "output_type": "stream",
     "text": [
      " 79%|███████▉  | 1585/2000 [04:49<01:05,  6.33it/s]"
     ]
    },
    {
     "name": "stdout",
     "output_type": "stream",
     "text": [
      "Training_loss 11.79654,   Relative Error 0.41333\n",
      "Training_loss 11.78879,   Relative Error 0.41328\n"
     ]
    },
    {
     "name": "stderr",
     "output_type": "stream",
     "text": [
      " 79%|███████▉  | 1587/2000 [04:49<01:04,  6.44it/s]"
     ]
    },
    {
     "name": "stdout",
     "output_type": "stream",
     "text": [
      "Training_loss 11.78658,   Relative Error 0.41322\n",
      "Training_loss 11.78464,   Relative Error 0.41316\n"
     ]
    },
    {
     "name": "stderr",
     "output_type": "stream",
     "text": [
      " 79%|███████▉  | 1589/2000 [04:49<01:04,  6.36it/s]"
     ]
    },
    {
     "name": "stdout",
     "output_type": "stream",
     "text": [
      "Training_loss 11.78177,   Relative Error 0.41307\n",
      "Training_loss 11.77439,   Relative Error 0.41300\n"
     ]
    },
    {
     "name": "stderr",
     "output_type": "stream",
     "text": [
      " 80%|███████▉  | 1591/2000 [04:50<01:01,  6.60it/s]"
     ]
    },
    {
     "name": "stdout",
     "output_type": "stream",
     "text": [
      "Training_loss 11.77479,   Relative Error 0.41296\n",
      "Training_loss 11.77513,   Relative Error 0.41291\n"
     ]
    },
    {
     "name": "stderr",
     "output_type": "stream",
     "text": [
      " 80%|███████▉  | 1593/2000 [04:50<01:02,  6.48it/s]"
     ]
    },
    {
     "name": "stdout",
     "output_type": "stream",
     "text": [
      "Training_loss 11.77384,   Relative Error 0.41285\n",
      "Training_loss 11.77115,   Relative Error 0.41278\n"
     ]
    },
    {
     "name": "stderr",
     "output_type": "stream",
     "text": [
      " 80%|███████▉  | 1595/2000 [04:50<01:01,  6.63it/s]"
     ]
    },
    {
     "name": "stdout",
     "output_type": "stream",
     "text": [
      "Training_loss 11.76779,   Relative Error 0.41273\n",
      "Training_loss 11.77059,   Relative Error 0.41269\n"
     ]
    },
    {
     "name": "stderr",
     "output_type": "stream",
     "text": [
      " 80%|███████▉  | 1597/2000 [04:51<01:00,  6.62it/s]"
     ]
    },
    {
     "name": "stdout",
     "output_type": "stream",
     "text": [
      "Training_loss 11.77304,   Relative Error 0.41266\n",
      "Training_loss 11.77090,   Relative Error 0.41265\n"
     ]
    },
    {
     "name": "stderr",
     "output_type": "stream",
     "text": [
      " 80%|███████▉  | 1599/2000 [04:51<00:59,  6.72it/s]"
     ]
    },
    {
     "name": "stdout",
     "output_type": "stream",
     "text": [
      "Training_loss 11.76788,   Relative Error 0.41264\n",
      "Training_loss 11.77061,   Relative Error 0.41260\n"
     ]
    },
    {
     "name": "stderr",
     "output_type": "stream",
     "text": [
      " 80%|████████  | 1601/2000 [04:51<00:59,  6.71it/s]"
     ]
    },
    {
     "name": "stdout",
     "output_type": "stream",
     "text": [
      "Training_loss 11.76900,   Relative Error 0.41254\n",
      "Training_loss 11.76866,   Relative Error 0.41251\n"
     ]
    },
    {
     "name": "stderr",
     "output_type": "stream",
     "text": [
      " 80%|████████  | 1603/2000 [04:52<00:58,  6.75it/s]"
     ]
    },
    {
     "name": "stdout",
     "output_type": "stream",
     "text": [
      "Training_loss 11.76733,   Relative Error 0.41245\n",
      "Training_loss 11.76201,   Relative Error 0.41238\n"
     ]
    },
    {
     "name": "stderr",
     "output_type": "stream",
     "text": [
      " 80%|████████  | 1605/2000 [04:52<01:02,  6.35it/s]"
     ]
    },
    {
     "name": "stdout",
     "output_type": "stream",
     "text": [
      "Training_loss 11.75421,   Relative Error 0.41233\n",
      "Training_loss 11.75152,   Relative Error 0.41227\n"
     ]
    },
    {
     "name": "stderr",
     "output_type": "stream",
     "text": [
      " 80%|████████  | 1607/2000 [04:52<01:07,  5.86it/s]"
     ]
    },
    {
     "name": "stdout",
     "output_type": "stream",
     "text": [
      "Training_loss 11.75404,   Relative Error 0.41221\n",
      "Training_loss 11.74974,   Relative Error 0.41216\n"
     ]
    },
    {
     "name": "stderr",
     "output_type": "stream",
     "text": [
      " 80%|████████  | 1609/2000 [04:53<01:09,  5.59it/s]"
     ]
    },
    {
     "name": "stdout",
     "output_type": "stream",
     "text": [
      "Training_loss 11.75260,   Relative Error 0.41210\n",
      "Training_loss 11.75237,   Relative Error 0.41207\n"
     ]
    },
    {
     "name": "stderr",
     "output_type": "stream",
     "text": [
      " 81%|████████  | 1611/2000 [04:53<01:13,  5.32it/s]"
     ]
    },
    {
     "name": "stdout",
     "output_type": "stream",
     "text": [
      "Training_loss 11.74697,   Relative Error 0.41202\n",
      "Training_loss 11.74631,   Relative Error 0.41198\n"
     ]
    },
    {
     "name": "stderr",
     "output_type": "stream",
     "text": [
      " 81%|████████  | 1613/2000 [04:53<01:12,  5.36it/s]"
     ]
    },
    {
     "name": "stdout",
     "output_type": "stream",
     "text": [
      "Training_loss 11.73792,   Relative Error 0.41193\n",
      "Training_loss 11.73382,   Relative Error 0.41189\n"
     ]
    },
    {
     "name": "stderr",
     "output_type": "stream",
     "text": [
      "\r",
      " 81%|████████  | 1614/2000 [04:54<01:13,  5.26it/s]"
     ]
    },
    {
     "name": "stdout",
     "output_type": "stream",
     "text": [
      "Training_loss 11.73255,   Relative Error 0.41185\n"
     ]
    },
    {
     "name": "stderr",
     "output_type": "stream",
     "text": [
      "\r",
      " 81%|████████  | 1615/2000 [04:54<01:17,  4.97it/s]"
     ]
    },
    {
     "name": "stdout",
     "output_type": "stream",
     "text": [
      "Training_loss 11.72497,   Relative Error 0.41181\n"
     ]
    },
    {
     "name": "stderr",
     "output_type": "stream",
     "text": [
      "\r",
      " 81%|████████  | 1616/2000 [04:54<01:19,  4.85it/s]"
     ]
    },
    {
     "name": "stdout",
     "output_type": "stream",
     "text": [
      "Training_loss 11.72262,   Relative Error 0.41173\n"
     ]
    },
    {
     "name": "stderr",
     "output_type": "stream",
     "text": [
      " 81%|████████  | 1618/2000 [04:54<01:17,  4.92it/s]"
     ]
    },
    {
     "name": "stdout",
     "output_type": "stream",
     "text": [
      "Training_loss 11.71950,   Relative Error 0.41168\n",
      "Training_loss 11.71099,   Relative Error 0.41161\n"
     ]
    },
    {
     "name": "stderr",
     "output_type": "stream",
     "text": [
      " 81%|████████  | 1620/2000 [04:55<01:12,  5.27it/s]"
     ]
    },
    {
     "name": "stdout",
     "output_type": "stream",
     "text": [
      "Training_loss 11.70409,   Relative Error 0.41156\n",
      "Training_loss 11.69626,   Relative Error 0.41149\n"
     ]
    },
    {
     "name": "stderr",
     "output_type": "stream",
     "text": [
      " 81%|████████  | 1622/2000 [04:55<01:03,  5.92it/s]"
     ]
    },
    {
     "name": "stdout",
     "output_type": "stream",
     "text": [
      "Training_loss 11.69921,   Relative Error 0.41145\n",
      "Training_loss 11.70228,   Relative Error 0.41139\n"
     ]
    },
    {
     "name": "stderr",
     "output_type": "stream",
     "text": [
      " 81%|████████  | 1624/2000 [04:55<00:59,  6.30it/s]"
     ]
    },
    {
     "name": "stdout",
     "output_type": "stream",
     "text": [
      "Training_loss 11.70080,   Relative Error 0.41132\n",
      "Training_loss 11.69371,   Relative Error 0.41127\n"
     ]
    },
    {
     "name": "stderr",
     "output_type": "stream",
     "text": [
      " 81%|████████▏ | 1626/2000 [04:56<00:58,  6.42it/s]"
     ]
    },
    {
     "name": "stdout",
     "output_type": "stream",
     "text": [
      "Training_loss 11.69625,   Relative Error 0.41124\n",
      "Training_loss 11.69979,   Relative Error 0.41121\n"
     ]
    },
    {
     "name": "stderr",
     "output_type": "stream",
     "text": [
      " 81%|████████▏ | 1628/2000 [04:56<00:55,  6.72it/s]"
     ]
    },
    {
     "name": "stdout",
     "output_type": "stream",
     "text": [
      "Training_loss 11.69849,   Relative Error 0.41114\n",
      "Training_loss 11.69844,   Relative Error 0.41111\n"
     ]
    },
    {
     "name": "stderr",
     "output_type": "stream",
     "text": [
      " 82%|████████▏ | 1630/2000 [04:56<00:56,  6.60it/s]"
     ]
    },
    {
     "name": "stdout",
     "output_type": "stream",
     "text": [
      "Training_loss 11.69634,   Relative Error 0.41104\n",
      "Training_loss 11.68905,   Relative Error 0.41098\n"
     ]
    },
    {
     "name": "stderr",
     "output_type": "stream",
     "text": [
      " 82%|████████▏ | 1632/2000 [04:57<00:55,  6.64it/s]"
     ]
    },
    {
     "name": "stdout",
     "output_type": "stream",
     "text": [
      "Training_loss 11.68562,   Relative Error 0.41095\n",
      "Training_loss 11.68354,   Relative Error 0.41085\n"
     ]
    },
    {
     "name": "stderr",
     "output_type": "stream",
     "text": [
      " 82%|████████▏ | 1634/2000 [04:57<00:53,  6.80it/s]"
     ]
    },
    {
     "name": "stdout",
     "output_type": "stream",
     "text": [
      "Training_loss 11.68228,   Relative Error 0.41080\n",
      "Training_loss 11.67516,   Relative Error 0.41074\n"
     ]
    },
    {
     "name": "stderr",
     "output_type": "stream",
     "text": [
      " 82%|████████▏ | 1636/2000 [04:57<00:54,  6.69it/s]"
     ]
    },
    {
     "name": "stdout",
     "output_type": "stream",
     "text": [
      "Training_loss 11.67025,   Relative Error 0.41068\n",
      "Training_loss 11.67301,   Relative Error 0.41064\n"
     ]
    },
    {
     "name": "stderr",
     "output_type": "stream",
     "text": [
      " 82%|████████▏ | 1638/2000 [04:57<00:53,  6.73it/s]"
     ]
    },
    {
     "name": "stdout",
     "output_type": "stream",
     "text": [
      "Training_loss 11.67509,   Relative Error 0.41058\n",
      "Training_loss 11.67191,   Relative Error 0.41053\n"
     ]
    },
    {
     "name": "stderr",
     "output_type": "stream",
     "text": [
      " 82%|████████▏ | 1640/2000 [04:58<00:53,  6.68it/s]"
     ]
    },
    {
     "name": "stdout",
     "output_type": "stream",
     "text": [
      "Training_loss 11.67415,   Relative Error 0.41050\n",
      "Training_loss 11.67339,   Relative Error 0.41047\n"
     ]
    },
    {
     "name": "stderr",
     "output_type": "stream",
     "text": [
      " 82%|████████▏ | 1642/2000 [04:58<00:52,  6.82it/s]"
     ]
    },
    {
     "name": "stdout",
     "output_type": "stream",
     "text": [
      "Training_loss 11.66885,   Relative Error 0.41040\n",
      "Training_loss 11.66563,   Relative Error 0.41035\n"
     ]
    },
    {
     "name": "stderr",
     "output_type": "stream",
     "text": [
      " 82%|████████▏ | 1644/2000 [04:58<00:53,  6.70it/s]"
     ]
    },
    {
     "name": "stdout",
     "output_type": "stream",
     "text": [
      "Training_loss 11.66452,   Relative Error 0.41030\n",
      "Training_loss 11.66123,   Relative Error 0.41021\n"
     ]
    },
    {
     "name": "stderr",
     "output_type": "stream",
     "text": [
      " 82%|████████▏ | 1646/2000 [04:59<00:51,  6.87it/s]"
     ]
    },
    {
     "name": "stdout",
     "output_type": "stream",
     "text": [
      "Training_loss 11.65816,   Relative Error 0.41018\n",
      "Training_loss 11.65695,   Relative Error 0.41012\n"
     ]
    },
    {
     "name": "stderr",
     "output_type": "stream",
     "text": [
      " 82%|████████▏ | 1648/2000 [04:59<00:50,  6.92it/s]"
     ]
    },
    {
     "name": "stdout",
     "output_type": "stream",
     "text": [
      "Training_loss 11.64926,   Relative Error 0.41008\n",
      "Training_loss 11.64976,   Relative Error 0.41005\n"
     ]
    },
    {
     "name": "stderr",
     "output_type": "stream",
     "text": [
      " 82%|████████▎ | 1650/2000 [04:59<00:49,  7.01it/s]"
     ]
    },
    {
     "name": "stdout",
     "output_type": "stream",
     "text": [
      "Training_loss 11.65250,   Relative Error 0.41001\n",
      "Training_loss 11.64380,   Relative Error 0.40993\n"
     ]
    },
    {
     "name": "stderr",
     "output_type": "stream",
     "text": [
      " 83%|████████▎ | 1652/2000 [04:59<00:49,  7.05it/s]"
     ]
    },
    {
     "name": "stdout",
     "output_type": "stream",
     "text": [
      "Training_loss 11.64542,   Relative Error 0.40988\n",
      "Training_loss 11.64810,   Relative Error 0.40983\n"
     ]
    },
    {
     "name": "stderr",
     "output_type": "stream",
     "text": [
      " 83%|████████▎ | 1654/2000 [05:00<00:49,  7.05it/s]"
     ]
    },
    {
     "name": "stdout",
     "output_type": "stream",
     "text": [
      "Training_loss 11.65069,   Relative Error 0.40980\n",
      "Training_loss 11.64710,   Relative Error 0.40976\n"
     ]
    },
    {
     "name": "stderr",
     "output_type": "stream",
     "text": [
      " 83%|████████▎ | 1656/2000 [05:00<00:55,  6.21it/s]"
     ]
    },
    {
     "name": "stdout",
     "output_type": "stream",
     "text": [
      "Training_loss 11.64736,   Relative Error 0.40974\n",
      "Training_loss 11.64384,   Relative Error 0.40968\n"
     ]
    },
    {
     "name": "stderr",
     "output_type": "stream",
     "text": [
      " 83%|████████▎ | 1658/2000 [05:00<00:53,  6.44it/s]"
     ]
    },
    {
     "name": "stdout",
     "output_type": "stream",
     "text": [
      "Training_loss 11.63507,   Relative Error 0.40963\n",
      "Training_loss 11.63236,   Relative Error 0.40959\n"
     ]
    },
    {
     "name": "stderr",
     "output_type": "stream",
     "text": [
      " 83%|████████▎ | 1660/2000 [05:01<00:49,  6.83it/s]"
     ]
    },
    {
     "name": "stdout",
     "output_type": "stream",
     "text": [
      "Training_loss 11.62605,   Relative Error 0.40950\n",
      "Training_loss 11.62315,   Relative Error 0.40948\n"
     ]
    },
    {
     "name": "stderr",
     "output_type": "stream",
     "text": [
      " 83%|████████▎ | 1662/2000 [05:01<00:49,  6.85it/s]"
     ]
    },
    {
     "name": "stdout",
     "output_type": "stream",
     "text": [
      "Training_loss 11.61773,   Relative Error 0.40942\n",
      "Training_loss 11.61229,   Relative Error 0.40935\n"
     ]
    },
    {
     "name": "stderr",
     "output_type": "stream",
     "text": [
      " 83%|████████▎ | 1664/2000 [05:01<00:48,  6.88it/s]"
     ]
    },
    {
     "name": "stdout",
     "output_type": "stream",
     "text": [
      "Training_loss 11.61022,   Relative Error 0.40933\n",
      "Training_loss 11.60734,   Relative Error 0.40932\n"
     ]
    },
    {
     "name": "stderr",
     "output_type": "stream",
     "text": [
      " 83%|████████▎ | 1666/2000 [05:02<00:49,  6.80it/s]"
     ]
    },
    {
     "name": "stdout",
     "output_type": "stream",
     "text": [
      "Training_loss 11.60089,   Relative Error 0.40927\n",
      "Training_loss 11.59910,   Relative Error 0.40920\n"
     ]
    },
    {
     "name": "stderr",
     "output_type": "stream",
     "text": [
      " 83%|████████▎ | 1668/2000 [05:02<00:48,  6.86it/s]"
     ]
    },
    {
     "name": "stdout",
     "output_type": "stream",
     "text": [
      "Training_loss 11.59857,   Relative Error 0.40917\n",
      "Training_loss 11.59144,   Relative Error 0.40913\n"
     ]
    },
    {
     "name": "stderr",
     "output_type": "stream",
     "text": [
      " 84%|████████▎ | 1670/2000 [05:02<00:47,  6.99it/s]"
     ]
    },
    {
     "name": "stdout",
     "output_type": "stream",
     "text": [
      "Training_loss 11.58704,   Relative Error 0.40907\n",
      "Training_loss 11.58612,   Relative Error 0.40901\n"
     ]
    },
    {
     "name": "stderr",
     "output_type": "stream",
     "text": [
      " 84%|████████▎ | 1672/2000 [05:03<00:48,  6.74it/s]"
     ]
    },
    {
     "name": "stdout",
     "output_type": "stream",
     "text": [
      "Training_loss 11.58756,   Relative Error 0.40895\n",
      "Training_loss 11.58352,   Relative Error 0.40891\n"
     ]
    },
    {
     "name": "stderr",
     "output_type": "stream",
     "text": [
      " 84%|████████▎ | 1674/2000 [05:03<00:46,  7.05it/s]"
     ]
    },
    {
     "name": "stdout",
     "output_type": "stream",
     "text": [
      "Training_loss 11.57939,   Relative Error 0.40884\n",
      "Training_loss 11.57689,   Relative Error 0.40876\n"
     ]
    },
    {
     "name": "stderr",
     "output_type": "stream",
     "text": [
      " 84%|████████▍ | 1676/2000 [05:03<00:46,  6.91it/s]"
     ]
    },
    {
     "name": "stdout",
     "output_type": "stream",
     "text": [
      "Training_loss 11.57410,   Relative Error 0.40872\n",
      "Training_loss 11.57073,   Relative Error 0.40867\n"
     ]
    },
    {
     "name": "stderr",
     "output_type": "stream",
     "text": [
      " 84%|████████▍ | 1678/2000 [05:03<00:47,  6.80it/s]"
     ]
    },
    {
     "name": "stdout",
     "output_type": "stream",
     "text": [
      "Training_loss 11.56797,   Relative Error 0.40863\n",
      "Training_loss 11.56077,   Relative Error 0.40856\n"
     ]
    },
    {
     "name": "stderr",
     "output_type": "stream",
     "text": [
      " 84%|████████▍ | 1680/2000 [05:04<00:45,  6.98it/s]"
     ]
    },
    {
     "name": "stdout",
     "output_type": "stream",
     "text": [
      "Training_loss 11.55794,   Relative Error 0.40852\n",
      "Training_loss 11.55843,   Relative Error 0.40848\n"
     ]
    },
    {
     "name": "stderr",
     "output_type": "stream",
     "text": [
      " 84%|████████▍ | 1682/2000 [05:04<00:46,  6.79it/s]"
     ]
    },
    {
     "name": "stdout",
     "output_type": "stream",
     "text": [
      "Training_loss 11.55624,   Relative Error 0.40840\n",
      "Training_loss 11.55457,   Relative Error 0.40834\n"
     ]
    },
    {
     "name": "stderr",
     "output_type": "stream",
     "text": [
      " 84%|████████▍ | 1684/2000 [05:04<00:44,  7.08it/s]"
     ]
    },
    {
     "name": "stdout",
     "output_type": "stream",
     "text": [
      "Training_loss 11.55730,   Relative Error 0.40831\n",
      "Training_loss 11.56070,   Relative Error 0.40827\n"
     ]
    },
    {
     "name": "stderr",
     "output_type": "stream",
     "text": [
      " 84%|████████▍ | 1686/2000 [05:05<00:46,  6.81it/s]"
     ]
    },
    {
     "name": "stdout",
     "output_type": "stream",
     "text": [
      "Training_loss 11.55237,   Relative Error 0.40820\n",
      "Training_loss 11.55267,   Relative Error 0.40816\n"
     ]
    },
    {
     "name": "stderr",
     "output_type": "stream",
     "text": [
      " 84%|████████▍ | 1688/2000 [05:05<00:45,  6.81it/s]"
     ]
    },
    {
     "name": "stdout",
     "output_type": "stream",
     "text": [
      "Training_loss 11.54923,   Relative Error 0.40809\n",
      "Training_loss 11.54691,   Relative Error 0.40800\n"
     ]
    },
    {
     "name": "stderr",
     "output_type": "stream",
     "text": [
      " 84%|████████▍ | 1690/2000 [05:05<00:46,  6.70it/s]"
     ]
    },
    {
     "name": "stdout",
     "output_type": "stream",
     "text": [
      "Training_loss 11.54144,   Relative Error 0.40794\n",
      "Training_loss 11.53764,   Relative Error 0.40788\n"
     ]
    },
    {
     "name": "stderr",
     "output_type": "stream",
     "text": [
      " 85%|████████▍ | 1692/2000 [05:05<00:44,  6.89it/s]"
     ]
    },
    {
     "name": "stdout",
     "output_type": "stream",
     "text": [
      "Training_loss 11.53820,   Relative Error 0.40784\n",
      "Training_loss 11.53482,   Relative Error 0.40782\n"
     ]
    },
    {
     "name": "stderr",
     "output_type": "stream",
     "text": [
      " 85%|████████▍ | 1694/2000 [05:06<00:45,  6.75it/s]"
     ]
    },
    {
     "name": "stdout",
     "output_type": "stream",
     "text": [
      "Training_loss 11.53776,   Relative Error 0.40778\n",
      "Training_loss 11.53227,   Relative Error 0.40772\n"
     ]
    },
    {
     "name": "stderr",
     "output_type": "stream",
     "text": [
      " 85%|████████▍ | 1696/2000 [05:06<00:45,  6.62it/s]"
     ]
    },
    {
     "name": "stdout",
     "output_type": "stream",
     "text": [
      "Training_loss 11.52720,   Relative Error 0.40766\n",
      "Training_loss 11.52720,   Relative Error 0.40762\n"
     ]
    },
    {
     "name": "stderr",
     "output_type": "stream",
     "text": [
      " 85%|████████▍ | 1698/2000 [05:06<00:46,  6.52it/s]"
     ]
    },
    {
     "name": "stdout",
     "output_type": "stream",
     "text": [
      "Training_loss 11.51917,   Relative Error 0.40755\n",
      "Training_loss 11.52182,   Relative Error 0.40752\n"
     ]
    },
    {
     "name": "stderr",
     "output_type": "stream",
     "text": [
      " 85%|████████▌ | 1700/2000 [05:07<00:45,  6.56it/s]"
     ]
    },
    {
     "name": "stdout",
     "output_type": "stream",
     "text": [
      "Training_loss 11.51948,   Relative Error 0.40744\n",
      "Training_loss 11.51742,   Relative Error 0.40737\n"
     ]
    },
    {
     "name": "stderr",
     "output_type": "stream",
     "text": [
      " 85%|████████▌ | 1702/2000 [05:07<00:45,  6.53it/s]"
     ]
    },
    {
     "name": "stdout",
     "output_type": "stream",
     "text": [
      "Training_loss 11.51630,   Relative Error 0.40732\n",
      "Training_loss 11.51112,   Relative Error 0.40726\n"
     ]
    },
    {
     "name": "stderr",
     "output_type": "stream",
     "text": [
      " 85%|████████▌ | 1704/2000 [05:07<00:46,  6.42it/s]"
     ]
    },
    {
     "name": "stdout",
     "output_type": "stream",
     "text": [
      "Training_loss 11.51032,   Relative Error 0.40723\n",
      "Training_loss 11.50600,   Relative Error 0.40719\n"
     ]
    },
    {
     "name": "stderr",
     "output_type": "stream",
     "text": [
      " 85%|████████▌ | 1706/2000 [05:08<00:44,  6.59it/s]"
     ]
    },
    {
     "name": "stdout",
     "output_type": "stream",
     "text": [
      "Training_loss 11.50287,   Relative Error 0.40714\n",
      "Training_loss 11.50388,   Relative Error 0.40712\n"
     ]
    },
    {
     "name": "stderr",
     "output_type": "stream",
     "text": [
      " 85%|████████▌ | 1708/2000 [05:08<00:44,  6.52it/s]"
     ]
    },
    {
     "name": "stdout",
     "output_type": "stream",
     "text": [
      "Training_loss 11.50438,   Relative Error 0.40709\n",
      "Training_loss 11.49917,   Relative Error 0.40702\n"
     ]
    },
    {
     "name": "stderr",
     "output_type": "stream",
     "text": [
      " 86%|████████▌ | 1710/2000 [05:08<00:49,  5.90it/s]"
     ]
    },
    {
     "name": "stdout",
     "output_type": "stream",
     "text": [
      "Training_loss 11.49556,   Relative Error 0.40695\n",
      "Training_loss 11.49416,   Relative Error 0.40690\n"
     ]
    },
    {
     "name": "stderr",
     "output_type": "stream",
     "text": [
      "\r",
      " 86%|████████▌ | 1711/2000 [05:08<00:49,  5.80it/s]"
     ]
    },
    {
     "name": "stdout",
     "output_type": "stream",
     "text": [
      "Training_loss 11.49435,   Relative Error 0.40686\n"
     ]
    },
    {
     "name": "stderr",
     "output_type": "stream",
     "text": [
      " 86%|████████▌ | 1713/2000 [05:09<00:54,  5.31it/s]"
     ]
    },
    {
     "name": "stdout",
     "output_type": "stream",
     "text": [
      "Training_loss 11.49573,   Relative Error 0.40680\n",
      "Training_loss 11.49438,   Relative Error 0.40675\n"
     ]
    },
    {
     "name": "stderr",
     "output_type": "stream",
     "text": [
      " 86%|████████▌ | 1715/2000 [05:09<00:52,  5.44it/s]"
     ]
    },
    {
     "name": "stdout",
     "output_type": "stream",
     "text": [
      "Training_loss 11.49226,   Relative Error 0.40673\n",
      "Training_loss 11.49258,   Relative Error 0.40670\n"
     ]
    },
    {
     "name": "stderr",
     "output_type": "stream",
     "text": [
      " 86%|████████▌ | 1717/2000 [05:10<00:49,  5.70it/s]"
     ]
    },
    {
     "name": "stdout",
     "output_type": "stream",
     "text": [
      "Training_loss 11.49392,   Relative Error 0.40665\n",
      "Training_loss 11.49341,   Relative Error 0.40663\n"
     ]
    },
    {
     "name": "stderr",
     "output_type": "stream",
     "text": [
      " 86%|████████▌ | 1719/2000 [05:10<00:47,  5.92it/s]"
     ]
    },
    {
     "name": "stdout",
     "output_type": "stream",
     "text": [
      "Training_loss 11.49580,   Relative Error 0.40660\n",
      "Training_loss 11.48846,   Relative Error 0.40654\n"
     ]
    },
    {
     "name": "stderr",
     "output_type": "stream",
     "text": [
      " 86%|████████▌ | 1721/2000 [05:10<00:45,  6.11it/s]"
     ]
    },
    {
     "name": "stdout",
     "output_type": "stream",
     "text": [
      "Training_loss 11.48090,   Relative Error 0.40650\n",
      "Training_loss 11.47896,   Relative Error 0.40643\n"
     ]
    },
    {
     "name": "stderr",
     "output_type": "stream",
     "text": [
      " 86%|████████▌ | 1723/2000 [05:10<00:43,  6.42it/s]"
     ]
    },
    {
     "name": "stdout",
     "output_type": "stream",
     "text": [
      "Training_loss 11.48028,   Relative Error 0.40638\n",
      "Training_loss 11.47781,   Relative Error 0.40629\n"
     ]
    },
    {
     "name": "stderr",
     "output_type": "stream",
     "text": [
      " 86%|████████▋ | 1725/2000 [05:11<00:43,  6.36it/s]"
     ]
    },
    {
     "name": "stdout",
     "output_type": "stream",
     "text": [
      "Training_loss 11.47231,   Relative Error 0.40623\n",
      "Training_loss 11.47393,   Relative Error 0.40618\n"
     ]
    },
    {
     "name": "stderr",
     "output_type": "stream",
     "text": [
      " 86%|████████▋ | 1727/2000 [05:11<00:41,  6.52it/s]"
     ]
    },
    {
     "name": "stdout",
     "output_type": "stream",
     "text": [
      "Training_loss 11.47331,   Relative Error 0.40616\n",
      "Training_loss 11.47527,   Relative Error 0.40610\n"
     ]
    },
    {
     "name": "stderr",
     "output_type": "stream",
     "text": [
      " 86%|████████▋ | 1729/2000 [05:11<00:41,  6.52it/s]"
     ]
    },
    {
     "name": "stdout",
     "output_type": "stream",
     "text": [
      "Training_loss 11.47768,   Relative Error 0.40607\n",
      "Training_loss 11.47709,   Relative Error 0.40603\n"
     ]
    },
    {
     "name": "stderr",
     "output_type": "stream",
     "text": [
      " 87%|████████▋ | 1731/2000 [05:12<00:44,  6.03it/s]"
     ]
    },
    {
     "name": "stdout",
     "output_type": "stream",
     "text": [
      "Training_loss 11.46873,   Relative Error 0.40598\n",
      "Training_loss 11.46032,   Relative Error 0.40591\n"
     ]
    },
    {
     "name": "stderr",
     "output_type": "stream",
     "text": [
      " 87%|████████▋ | 1733/2000 [05:12<00:43,  6.14it/s]"
     ]
    },
    {
     "name": "stdout",
     "output_type": "stream",
     "text": [
      "Training_loss 11.45839,   Relative Error 0.40590\n",
      "Training_loss 11.45661,   Relative Error 0.40583\n"
     ]
    },
    {
     "name": "stderr",
     "output_type": "stream",
     "text": [
      " 87%|████████▋ | 1735/2000 [05:12<00:42,  6.28it/s]"
     ]
    },
    {
     "name": "stdout",
     "output_type": "stream",
     "text": [
      "Training_loss 11.45625,   Relative Error 0.40581\n",
      "Training_loss 11.45204,   Relative Error 0.40576\n"
     ]
    },
    {
     "name": "stderr",
     "output_type": "stream",
     "text": [
      " 87%|████████▋ | 1737/2000 [05:13<00:41,  6.35it/s]"
     ]
    },
    {
     "name": "stdout",
     "output_type": "stream",
     "text": [
      "Training_loss 11.44757,   Relative Error 0.40572\n",
      "Training_loss 11.45081,   Relative Error 0.40569\n"
     ]
    },
    {
     "name": "stderr",
     "output_type": "stream",
     "text": [
      " 87%|████████▋ | 1739/2000 [05:13<00:42,  6.15it/s]"
     ]
    },
    {
     "name": "stdout",
     "output_type": "stream",
     "text": [
      "Training_loss 11.44894,   Relative Error 0.40563\n",
      "Training_loss 11.44161,   Relative Error 0.40559\n"
     ]
    },
    {
     "name": "stderr",
     "output_type": "stream",
     "text": [
      " 87%|████████▋ | 1741/2000 [05:13<00:41,  6.24it/s]"
     ]
    },
    {
     "name": "stdout",
     "output_type": "stream",
     "text": [
      "Training_loss 11.43670,   Relative Error 0.40554\n",
      "Training_loss 11.43504,   Relative Error 0.40548\n"
     ]
    },
    {
     "name": "stderr",
     "output_type": "stream",
     "text": [
      " 87%|████████▋ | 1743/2000 [05:14<00:39,  6.50it/s]"
     ]
    },
    {
     "name": "stdout",
     "output_type": "stream",
     "text": [
      "Training_loss 11.43429,   Relative Error 0.40542\n",
      "Training_loss 11.43253,   Relative Error 0.40536\n"
     ]
    },
    {
     "name": "stderr",
     "output_type": "stream",
     "text": [
      " 87%|████████▋ | 1745/2000 [05:14<00:38,  6.65it/s]"
     ]
    },
    {
     "name": "stdout",
     "output_type": "stream",
     "text": [
      "Training_loss 11.43091,   Relative Error 0.40531\n",
      "Training_loss 11.42955,   Relative Error 0.40526\n"
     ]
    },
    {
     "name": "stderr",
     "output_type": "stream",
     "text": [
      " 87%|████████▋ | 1747/2000 [05:14<00:38,  6.65it/s]"
     ]
    },
    {
     "name": "stdout",
     "output_type": "stream",
     "text": [
      "Training_loss 11.42840,   Relative Error 0.40521\n",
      "Training_loss 11.42165,   Relative Error 0.40517\n"
     ]
    },
    {
     "name": "stderr",
     "output_type": "stream",
     "text": [
      " 87%|████████▋ | 1749/2000 [05:15<00:37,  6.65it/s]"
     ]
    },
    {
     "name": "stdout",
     "output_type": "stream",
     "text": [
      "Training_loss 11.41966,   Relative Error 0.40509\n",
      "Training_loss 11.41722,   Relative Error 0.40506\n"
     ]
    },
    {
     "name": "stderr",
     "output_type": "stream",
     "text": [
      " 88%|████████▊ | 1751/2000 [05:15<00:35,  7.09it/s]"
     ]
    },
    {
     "name": "stdout",
     "output_type": "stream",
     "text": [
      "Training_loss 11.41099,   Relative Error 0.40503\n",
      "Training_loss 11.40911,   Relative Error 0.40501\n"
     ]
    },
    {
     "name": "stderr",
     "output_type": "stream",
     "text": [
      " 88%|████████▊ | 1753/2000 [05:15<00:35,  6.94it/s]"
     ]
    },
    {
     "name": "stdout",
     "output_type": "stream",
     "text": [
      "Training_loss 11.40659,   Relative Error 0.40496\n",
      "Training_loss 11.40626,   Relative Error 0.40491\n"
     ]
    },
    {
     "name": "stderr",
     "output_type": "stream",
     "text": [
      " 88%|████████▊ | 1755/2000 [05:15<00:35,  6.99it/s]"
     ]
    },
    {
     "name": "stdout",
     "output_type": "stream",
     "text": [
      "Training_loss 11.39977,   Relative Error 0.40487\n",
      "Training_loss 11.39641,   Relative Error 0.40482\n"
     ]
    },
    {
     "name": "stderr",
     "output_type": "stream",
     "text": [
      " 88%|████████▊ | 1757/2000 [05:16<00:35,  6.88it/s]"
     ]
    },
    {
     "name": "stdout",
     "output_type": "stream",
     "text": [
      "Training_loss 11.39824,   Relative Error 0.40475\n",
      "Training_loss 11.39461,   Relative Error 0.40468\n"
     ]
    },
    {
     "name": "stderr",
     "output_type": "stream",
     "text": [
      " 88%|████████▊ | 1759/2000 [05:16<00:35,  6.87it/s]"
     ]
    },
    {
     "name": "stdout",
     "output_type": "stream",
     "text": [
      "Training_loss 11.39470,   Relative Error 0.40463\n",
      "Training_loss 11.39446,   Relative Error 0.40459\n"
     ]
    },
    {
     "name": "stderr",
     "output_type": "stream",
     "text": [
      " 88%|████████▊ | 1761/2000 [05:16<00:34,  6.98it/s]"
     ]
    },
    {
     "name": "stdout",
     "output_type": "stream",
     "text": [
      "Training_loss 11.39095,   Relative Error 0.40455\n",
      "Training_loss 11.38639,   Relative Error 0.40449\n"
     ]
    },
    {
     "name": "stderr",
     "output_type": "stream",
     "text": [
      " 88%|████████▊ | 1763/2000 [05:17<00:34,  6.96it/s]"
     ]
    },
    {
     "name": "stdout",
     "output_type": "stream",
     "text": [
      "Training_loss 11.38244,   Relative Error 0.40442\n",
      "Training_loss 11.38272,   Relative Error 0.40438\n"
     ]
    },
    {
     "name": "stderr",
     "output_type": "stream",
     "text": [
      " 88%|████████▊ | 1765/2000 [05:17<00:33,  6.99it/s]"
     ]
    },
    {
     "name": "stdout",
     "output_type": "stream",
     "text": [
      "Training_loss 11.38182,   Relative Error 0.40431\n",
      "Training_loss 11.38162,   Relative Error 0.40427\n"
     ]
    },
    {
     "name": "stderr",
     "output_type": "stream",
     "text": [
      " 88%|████████▊ | 1767/2000 [05:17<00:35,  6.58it/s]"
     ]
    },
    {
     "name": "stdout",
     "output_type": "stream",
     "text": [
      "Training_loss 11.37909,   Relative Error 0.40424\n",
      "Training_loss 11.37620,   Relative Error 0.40421\n"
     ]
    },
    {
     "name": "stderr",
     "output_type": "stream",
     "text": [
      " 88%|████████▊ | 1769/2000 [05:17<00:34,  6.74it/s]"
     ]
    },
    {
     "name": "stdout",
     "output_type": "stream",
     "text": [
      "Training_loss 11.37133,   Relative Error 0.40413\n",
      "Training_loss 11.37391,   Relative Error 0.40410\n"
     ]
    },
    {
     "name": "stderr",
     "output_type": "stream",
     "text": [
      " 89%|████████▊ | 1771/2000 [05:18<00:34,  6.62it/s]"
     ]
    },
    {
     "name": "stdout",
     "output_type": "stream",
     "text": [
      "Training_loss 11.37167,   Relative Error 0.40408\n",
      "Training_loss 11.36867,   Relative Error 0.40405\n"
     ]
    },
    {
     "name": "stderr",
     "output_type": "stream",
     "text": [
      " 89%|████████▊ | 1773/2000 [05:18<00:33,  6.83it/s]"
     ]
    },
    {
     "name": "stdout",
     "output_type": "stream",
     "text": [
      "Training_loss 11.36807,   Relative Error 0.40401\n",
      "Training_loss 11.36726,   Relative Error 0.40395\n"
     ]
    },
    {
     "name": "stderr",
     "output_type": "stream",
     "text": [
      " 89%|████████▉ | 1775/2000 [05:18<00:33,  6.73it/s]"
     ]
    },
    {
     "name": "stdout",
     "output_type": "stream",
     "text": [
      "Training_loss 11.36500,   Relative Error 0.40389\n",
      "Training_loss 11.36619,   Relative Error 0.40384\n"
     ]
    },
    {
     "name": "stderr",
     "output_type": "stream",
     "text": [
      " 89%|████████▉ | 1777/2000 [05:19<00:34,  6.53it/s]"
     ]
    },
    {
     "name": "stdout",
     "output_type": "stream",
     "text": [
      "Training_loss 11.36310,   Relative Error 0.40377\n",
      "Training_loss 11.36235,   Relative Error 0.40374\n"
     ]
    },
    {
     "name": "stderr",
     "output_type": "stream",
     "text": [
      " 89%|████████▉ | 1779/2000 [05:19<00:34,  6.44it/s]"
     ]
    },
    {
     "name": "stdout",
     "output_type": "stream",
     "text": [
      "Training_loss 11.35486,   Relative Error 0.40369\n",
      "Training_loss 11.35275,   Relative Error 0.40367\n"
     ]
    },
    {
     "name": "stderr",
     "output_type": "stream",
     "text": [
      " 89%|████████▉ | 1781/2000 [05:19<00:35,  6.19it/s]"
     ]
    },
    {
     "name": "stdout",
     "output_type": "stream",
     "text": [
      "Training_loss 11.35206,   Relative Error 0.40364\n",
      "Training_loss 11.35125,   Relative Error 0.40359\n"
     ]
    },
    {
     "name": "stderr",
     "output_type": "stream",
     "text": [
      " 89%|████████▉ | 1783/2000 [05:20<00:36,  5.97it/s]"
     ]
    },
    {
     "name": "stdout",
     "output_type": "stream",
     "text": [
      "Training_loss 11.35048,   Relative Error 0.40355\n",
      "Training_loss 11.35005,   Relative Error 0.40351\n"
     ]
    },
    {
     "name": "stderr",
     "output_type": "stream",
     "text": [
      " 89%|████████▉ | 1785/2000 [05:20<00:35,  6.07it/s]"
     ]
    },
    {
     "name": "stdout",
     "output_type": "stream",
     "text": [
      "Training_loss 11.34832,   Relative Error 0.40349\n",
      "Training_loss 11.34481,   Relative Error 0.40341\n"
     ]
    },
    {
     "name": "stderr",
     "output_type": "stream",
     "text": [
      " 89%|████████▉ | 1787/2000 [05:20<00:34,  6.17it/s]"
     ]
    },
    {
     "name": "stdout",
     "output_type": "stream",
     "text": [
      "Training_loss 11.33792,   Relative Error 0.40333\n",
      "Training_loss 11.33022,   Relative Error 0.40326\n"
     ]
    },
    {
     "name": "stderr",
     "output_type": "stream",
     "text": [
      " 89%|████████▉ | 1789/2000 [05:21<00:32,  6.44it/s]"
     ]
    },
    {
     "name": "stdout",
     "output_type": "stream",
     "text": [
      "Training_loss 11.33225,   Relative Error 0.40323\n",
      "Training_loss 11.33215,   Relative Error 0.40318\n"
     ]
    },
    {
     "name": "stderr",
     "output_type": "stream",
     "text": [
      " 90%|████████▉ | 1791/2000 [05:21<00:32,  6.34it/s]"
     ]
    },
    {
     "name": "stdout",
     "output_type": "stream",
     "text": [
      "Training_loss 11.33053,   Relative Error 0.40316\n",
      "Training_loss 11.32377,   Relative Error 0.40312\n"
     ]
    },
    {
     "name": "stderr",
     "output_type": "stream",
     "text": [
      " 90%|████████▉ | 1793/2000 [05:21<00:31,  6.65it/s]"
     ]
    },
    {
     "name": "stdout",
     "output_type": "stream",
     "text": [
      "Training_loss 11.31851,   Relative Error 0.40305\n",
      "Training_loss 11.31597,   Relative Error 0.40297\n"
     ]
    },
    {
     "name": "stderr",
     "output_type": "stream",
     "text": [
      " 90%|████████▉ | 1795/2000 [05:22<00:31,  6.42it/s]"
     ]
    },
    {
     "name": "stdout",
     "output_type": "stream",
     "text": [
      "Training_loss 11.30935,   Relative Error 0.40293\n",
      "Training_loss 11.30393,   Relative Error 0.40288\n"
     ]
    },
    {
     "name": "stderr",
     "output_type": "stream",
     "text": [
      " 90%|████████▉ | 1797/2000 [05:22<00:30,  6.70it/s]"
     ]
    },
    {
     "name": "stdout",
     "output_type": "stream",
     "text": [
      "Training_loss 11.29750,   Relative Error 0.40285\n",
      "Training_loss 11.29518,   Relative Error 0.40281\n"
     ]
    },
    {
     "name": "stderr",
     "output_type": "stream",
     "text": [
      " 90%|████████▉ | 1799/2000 [05:22<00:31,  6.48it/s]"
     ]
    },
    {
     "name": "stdout",
     "output_type": "stream",
     "text": [
      "Training_loss 11.29464,   Relative Error 0.40278\n",
      "Training_loss 11.29659,   Relative Error 0.40273\n"
     ]
    },
    {
     "name": "stderr",
     "output_type": "stream",
     "text": [
      " 90%|█████████ | 1801/2000 [05:22<00:29,  6.74it/s]"
     ]
    },
    {
     "name": "stdout",
     "output_type": "stream",
     "text": [
      "Training_loss 11.29901,   Relative Error 0.40270\n",
      "Training_loss 11.29673,   Relative Error 0.40262\n"
     ]
    },
    {
     "name": "stderr",
     "output_type": "stream",
     "text": [
      " 90%|█████████ | 1803/2000 [05:23<00:30,  6.45it/s]"
     ]
    },
    {
     "name": "stdout",
     "output_type": "stream",
     "text": [
      "Training_loss 11.29358,   Relative Error 0.40258\n",
      "Training_loss 11.28740,   Relative Error 0.40254\n"
     ]
    },
    {
     "name": "stderr",
     "output_type": "stream",
     "text": [
      " 90%|█████████ | 1805/2000 [05:23<00:29,  6.71it/s]"
     ]
    },
    {
     "name": "stdout",
     "output_type": "stream",
     "text": [
      "Training_loss 11.28407,   Relative Error 0.40248\n",
      "Training_loss 11.27767,   Relative Error 0.40245\n"
     ]
    },
    {
     "name": "stderr",
     "output_type": "stream",
     "text": [
      " 90%|█████████ | 1807/2000 [05:23<00:29,  6.63it/s]"
     ]
    },
    {
     "name": "stdout",
     "output_type": "stream",
     "text": [
      "Training_loss 11.27602,   Relative Error 0.40239\n",
      "Training_loss 11.27717,   Relative Error 0.40237\n"
     ]
    },
    {
     "name": "stderr",
     "output_type": "stream",
     "text": [
      " 90%|█████████ | 1809/2000 [05:24<00:28,  6.67it/s]"
     ]
    },
    {
     "name": "stdout",
     "output_type": "stream",
     "text": [
      "Training_loss 11.27619,   Relative Error 0.40231\n",
      "Training_loss 11.27328,   Relative Error 0.40227\n"
     ]
    },
    {
     "name": "stderr",
     "output_type": "stream",
     "text": [
      " 91%|█████████ | 1811/2000 [05:24<00:30,  6.29it/s]"
     ]
    },
    {
     "name": "stdout",
     "output_type": "stream",
     "text": [
      "Training_loss 11.27316,   Relative Error 0.40223\n",
      "Training_loss 11.26992,   Relative Error 0.40219\n"
     ]
    },
    {
     "name": "stderr",
     "output_type": "stream",
     "text": [
      " 91%|█████████ | 1813/2000 [05:24<00:31,  5.87it/s]"
     ]
    },
    {
     "name": "stdout",
     "output_type": "stream",
     "text": [
      "Training_loss 11.26672,   Relative Error 0.40213\n",
      "Training_loss 11.26533,   Relative Error 0.40208\n"
     ]
    },
    {
     "name": "stderr",
     "output_type": "stream",
     "text": [
      " 91%|█████████ | 1815/2000 [05:25<00:32,  5.63it/s]"
     ]
    },
    {
     "name": "stdout",
     "output_type": "stream",
     "text": [
      "Training_loss 11.26632,   Relative Error 0.40206\n",
      "Training_loss 11.25900,   Relative Error 0.40200\n"
     ]
    },
    {
     "name": "stderr",
     "output_type": "stream",
     "text": [
      " 91%|█████████ | 1817/2000 [05:25<00:33,  5.48it/s]"
     ]
    },
    {
     "name": "stdout",
     "output_type": "stream",
     "text": [
      "Training_loss 11.25417,   Relative Error 0.40192\n",
      "Training_loss 11.25199,   Relative Error 0.40188\n"
     ]
    },
    {
     "name": "stderr",
     "output_type": "stream",
     "text": [
      " 91%|█████████ | 1819/2000 [05:25<00:32,  5.58it/s]"
     ]
    },
    {
     "name": "stdout",
     "output_type": "stream",
     "text": [
      "Training_loss 11.25373,   Relative Error 0.40182\n",
      "Training_loss 11.25591,   Relative Error 0.40176\n"
     ]
    },
    {
     "name": "stderr",
     "output_type": "stream",
     "text": [
      " 91%|█████████ | 1821/2000 [05:26<00:31,  5.67it/s]"
     ]
    },
    {
     "name": "stdout",
     "output_type": "stream",
     "text": [
      "Training_loss 11.25289,   Relative Error 0.40175\n",
      "Training_loss 11.25469,   Relative Error 0.40170\n"
     ]
    },
    {
     "name": "stderr",
     "output_type": "stream",
     "text": [
      " 91%|█████████ | 1823/2000 [05:26<00:29,  5.96it/s]"
     ]
    },
    {
     "name": "stdout",
     "output_type": "stream",
     "text": [
      "Training_loss 11.25314,   Relative Error 0.40164\n",
      "Training_loss 11.25532,   Relative Error 0.40162\n"
     ]
    },
    {
     "name": "stderr",
     "output_type": "stream",
     "text": [
      " 91%|█████████▏| 1825/2000 [05:26<00:28,  6.25it/s]"
     ]
    },
    {
     "name": "stdout",
     "output_type": "stream",
     "text": [
      "Training_loss 11.25456,   Relative Error 0.40156\n",
      "Training_loss 11.25090,   Relative Error 0.40151\n"
     ]
    },
    {
     "name": "stderr",
     "output_type": "stream",
     "text": [
      " 91%|█████████▏| 1827/2000 [05:27<00:26,  6.55it/s]"
     ]
    },
    {
     "name": "stdout",
     "output_type": "stream",
     "text": [
      "Training_loss 11.24712,   Relative Error 0.40145\n",
      "Training_loss 11.24260,   Relative Error 0.40139\n"
     ]
    },
    {
     "name": "stderr",
     "output_type": "stream",
     "text": [
      " 91%|█████████▏| 1829/2000 [05:27<00:29,  5.89it/s]"
     ]
    },
    {
     "name": "stdout",
     "output_type": "stream",
     "text": [
      "Training_loss 11.23849,   Relative Error 0.40134\n",
      "Training_loss 11.23562,   Relative Error 0.40132\n"
     ]
    },
    {
     "name": "stderr",
     "output_type": "stream",
     "text": [
      " 92%|█████████▏| 1831/2000 [05:27<00:30,  5.61it/s]"
     ]
    },
    {
     "name": "stdout",
     "output_type": "stream",
     "text": [
      "Training_loss 11.23806,   Relative Error 0.40126\n",
      "Training_loss 11.23497,   Relative Error 0.40122\n"
     ]
    },
    {
     "name": "stderr",
     "output_type": "stream",
     "text": [
      " 92%|█████████▏| 1833/2000 [05:28<00:28,  5.80it/s]"
     ]
    },
    {
     "name": "stdout",
     "output_type": "stream",
     "text": [
      "Training_loss 11.23783,   Relative Error 0.40120\n",
      "Training_loss 11.23065,   Relative Error 0.40115\n"
     ]
    },
    {
     "name": "stderr",
     "output_type": "stream",
     "text": [
      " 92%|█████████▏| 1835/2000 [05:28<00:27,  6.05it/s]"
     ]
    },
    {
     "name": "stdout",
     "output_type": "stream",
     "text": [
      "Training_loss 11.23011,   Relative Error 0.40113\n",
      "Training_loss 11.22680,   Relative Error 0.40109\n"
     ]
    },
    {
     "name": "stderr",
     "output_type": "stream",
     "text": [
      " 92%|█████████▏| 1837/2000 [05:28<00:25,  6.33it/s]"
     ]
    },
    {
     "name": "stdout",
     "output_type": "stream",
     "text": [
      "Training_loss 11.22234,   Relative Error 0.40103\n",
      "Training_loss 11.22119,   Relative Error 0.40098\n"
     ]
    },
    {
     "name": "stderr",
     "output_type": "stream",
     "text": [
      " 92%|█████████▏| 1839/2000 [05:29<00:24,  6.44it/s]"
     ]
    },
    {
     "name": "stdout",
     "output_type": "stream",
     "text": [
      "Training_loss 11.21809,   Relative Error 0.40094\n",
      "Training_loss 11.21734,   Relative Error 0.40088\n"
     ]
    },
    {
     "name": "stderr",
     "output_type": "stream",
     "text": [
      " 92%|█████████▏| 1841/2000 [05:29<00:24,  6.62it/s]"
     ]
    },
    {
     "name": "stdout",
     "output_type": "stream",
     "text": [
      "Training_loss 11.21435,   Relative Error 0.40084\n",
      "Training_loss 11.20862,   Relative Error 0.40081\n"
     ]
    },
    {
     "name": "stderr",
     "output_type": "stream",
     "text": [
      " 92%|█████████▏| 1843/2000 [05:29<00:23,  6.69it/s]"
     ]
    },
    {
     "name": "stdout",
     "output_type": "stream",
     "text": [
      "Training_loss 11.20635,   Relative Error 0.40079\n",
      "Training_loss 11.20636,   Relative Error 0.40075\n"
     ]
    },
    {
     "name": "stderr",
     "output_type": "stream",
     "text": [
      " 92%|█████████▏| 1845/2000 [05:30<00:22,  6.80it/s]"
     ]
    },
    {
     "name": "stdout",
     "output_type": "stream",
     "text": [
      "Training_loss 11.20219,   Relative Error 0.40069\n",
      "Training_loss 11.20485,   Relative Error 0.40065\n"
     ]
    },
    {
     "name": "stderr",
     "output_type": "stream",
     "text": [
      " 92%|█████████▏| 1847/2000 [05:30<00:22,  6.73it/s]"
     ]
    },
    {
     "name": "stdout",
     "output_type": "stream",
     "text": [
      "Training_loss 11.20772,   Relative Error 0.40062\n",
      "Training_loss 11.20167,   Relative Error 0.40057\n"
     ]
    },
    {
     "name": "stderr",
     "output_type": "stream",
     "text": [
      " 92%|█████████▏| 1849/2000 [05:30<00:22,  6.59it/s]"
     ]
    },
    {
     "name": "stdout",
     "output_type": "stream",
     "text": [
      "Training_loss 11.19819,   Relative Error 0.40051\n",
      "Training_loss 11.19499,   Relative Error 0.40048\n"
     ]
    },
    {
     "name": "stderr",
     "output_type": "stream",
     "text": [
      " 93%|█████████▎| 1851/2000 [05:31<00:21,  6.81it/s]"
     ]
    },
    {
     "name": "stdout",
     "output_type": "stream",
     "text": [
      "Training_loss 11.19517,   Relative Error 0.40045\n",
      "Training_loss 11.19179,   Relative Error 0.40039\n"
     ]
    },
    {
     "name": "stderr",
     "output_type": "stream",
     "text": [
      " 93%|█████████▎| 1853/2000 [05:31<00:21,  6.78it/s]"
     ]
    },
    {
     "name": "stdout",
     "output_type": "stream",
     "text": [
      "Training_loss 11.18826,   Relative Error 0.40035\n",
      "Training_loss 11.19010,   Relative Error 0.40029\n"
     ]
    },
    {
     "name": "stderr",
     "output_type": "stream",
     "text": [
      " 93%|█████████▎| 1855/2000 [05:31<00:21,  6.83it/s]"
     ]
    },
    {
     "name": "stdout",
     "output_type": "stream",
     "text": [
      "Training_loss 11.18372,   Relative Error 0.40025\n",
      "Training_loss 11.18219,   Relative Error 0.40019\n"
     ]
    },
    {
     "name": "stderr",
     "output_type": "stream",
     "text": [
      " 93%|█████████▎| 1857/2000 [05:31<00:20,  6.88it/s]"
     ]
    },
    {
     "name": "stdout",
     "output_type": "stream",
     "text": [
      "Training_loss 11.17971,   Relative Error 0.40016\n",
      "Training_loss 11.18284,   Relative Error 0.40013\n"
     ]
    },
    {
     "name": "stderr",
     "output_type": "stream",
     "text": [
      " 93%|█████████▎| 1859/2000 [05:32<00:20,  6.78it/s]"
     ]
    },
    {
     "name": "stdout",
     "output_type": "stream",
     "text": [
      "Training_loss 11.17851,   Relative Error 0.40007\n",
      "Training_loss 11.17367,   Relative Error 0.39999\n"
     ]
    },
    {
     "name": "stderr",
     "output_type": "stream",
     "text": [
      " 93%|█████████▎| 1861/2000 [05:32<00:20,  6.76it/s]"
     ]
    },
    {
     "name": "stdout",
     "output_type": "stream",
     "text": [
      "Training_loss 11.17315,   Relative Error 0.39996\n",
      "Training_loss 11.17298,   Relative Error 0.39992\n"
     ]
    },
    {
     "name": "stderr",
     "output_type": "stream",
     "text": [
      " 93%|█████████▎| 1863/2000 [05:32<00:20,  6.83it/s]"
     ]
    },
    {
     "name": "stdout",
     "output_type": "stream",
     "text": [
      "Training_loss 11.17241,   Relative Error 0.39986\n",
      "Training_loss 11.17217,   Relative Error 0.39983\n"
     ]
    },
    {
     "name": "stderr",
     "output_type": "stream",
     "text": [
      " 93%|█████████▎| 1865/2000 [05:33<00:19,  6.82it/s]"
     ]
    },
    {
     "name": "stdout",
     "output_type": "stream",
     "text": [
      "Training_loss 11.17231,   Relative Error 0.39980\n",
      "Training_loss 11.16830,   Relative Error 0.39974\n"
     ]
    },
    {
     "name": "stderr",
     "output_type": "stream",
     "text": [
      " 93%|█████████▎| 1867/2000 [05:33<00:18,  7.03it/s]"
     ]
    },
    {
     "name": "stdout",
     "output_type": "stream",
     "text": [
      "Training_loss 11.16875,   Relative Error 0.39971\n",
      "Training_loss 11.17035,   Relative Error 0.39967\n"
     ]
    },
    {
     "name": "stderr",
     "output_type": "stream",
     "text": [
      " 93%|█████████▎| 1869/2000 [05:33<00:18,  7.00it/s]"
     ]
    },
    {
     "name": "stdout",
     "output_type": "stream",
     "text": [
      "Training_loss 11.17110,   Relative Error 0.39964\n",
      "Training_loss 11.17180,   Relative Error 0.39962\n"
     ]
    },
    {
     "name": "stderr",
     "output_type": "stream",
     "text": [
      " 94%|█████████▎| 1871/2000 [05:33<00:17,  7.17it/s]"
     ]
    },
    {
     "name": "stdout",
     "output_type": "stream",
     "text": [
      "Training_loss 11.16617,   Relative Error 0.39957\n",
      "Training_loss 11.16218,   Relative Error 0.39952\n"
     ]
    },
    {
     "name": "stderr",
     "output_type": "stream",
     "text": [
      " 94%|█████████▎| 1873/2000 [05:34<00:18,  6.74it/s]"
     ]
    },
    {
     "name": "stdout",
     "output_type": "stream",
     "text": [
      "Training_loss 11.15878,   Relative Error 0.39948\n",
      "Training_loss 11.15231,   Relative Error 0.39942\n"
     ]
    },
    {
     "name": "stderr",
     "output_type": "stream",
     "text": [
      " 94%|█████████▍| 1875/2000 [05:34<00:18,  6.65it/s]"
     ]
    },
    {
     "name": "stdout",
     "output_type": "stream",
     "text": [
      "Training_loss 11.14780,   Relative Error 0.39935\n",
      "Training_loss 11.14472,   Relative Error 0.39932\n"
     ]
    },
    {
     "name": "stderr",
     "output_type": "stream",
     "text": [
      " 94%|█████████▍| 1877/2000 [05:34<00:18,  6.78it/s]"
     ]
    },
    {
     "name": "stdout",
     "output_type": "stream",
     "text": [
      "Training_loss 11.14302,   Relative Error 0.39930\n",
      "Training_loss 11.14006,   Relative Error 0.39924\n"
     ]
    },
    {
     "name": "stderr",
     "output_type": "stream",
     "text": [
      " 94%|█████████▍| 1879/2000 [05:35<00:17,  6.91it/s]"
     ]
    },
    {
     "name": "stdout",
     "output_type": "stream",
     "text": [
      "Training_loss 11.13657,   Relative Error 0.39921\n",
      "Training_loss 11.13225,   Relative Error 0.39915\n"
     ]
    },
    {
     "name": "stderr",
     "output_type": "stream",
     "text": [
      " 94%|█████████▍| 1881/2000 [05:35<00:17,  6.70it/s]"
     ]
    },
    {
     "name": "stdout",
     "output_type": "stream",
     "text": [
      "Training_loss 11.12864,   Relative Error 0.39909\n",
      "Training_loss 11.12603,   Relative Error 0.39907\n"
     ]
    },
    {
     "name": "stderr",
     "output_type": "stream",
     "text": [
      " 94%|█████████▍| 1883/2000 [05:35<00:17,  6.77it/s]"
     ]
    },
    {
     "name": "stdout",
     "output_type": "stream",
     "text": [
      "Training_loss 11.12720,   Relative Error 0.39901\n",
      "Training_loss 11.12471,   Relative Error 0.39898\n"
     ]
    },
    {
     "name": "stderr",
     "output_type": "stream",
     "text": [
      " 94%|█████████▍| 1885/2000 [05:36<00:17,  6.64it/s]"
     ]
    },
    {
     "name": "stdout",
     "output_type": "stream",
     "text": [
      "Training_loss 11.12096,   Relative Error 0.39893\n",
      "Training_loss 11.12428,   Relative Error 0.39889\n"
     ]
    },
    {
     "name": "stderr",
     "output_type": "stream",
     "text": [
      " 94%|█████████▍| 1887/2000 [05:36<00:16,  7.05it/s]"
     ]
    },
    {
     "name": "stdout",
     "output_type": "stream",
     "text": [
      "Training_loss 11.12424,   Relative Error 0.39885\n",
      "Training_loss 11.12120,   Relative Error 0.39880\n"
     ]
    },
    {
     "name": "stderr",
     "output_type": "stream",
     "text": [
      " 94%|█████████▍| 1889/2000 [05:36<00:16,  6.67it/s]"
     ]
    },
    {
     "name": "stdout",
     "output_type": "stream",
     "text": [
      "Training_loss 11.12044,   Relative Error 0.39872\n",
      "Training_loss 11.11997,   Relative Error 0.39868\n"
     ]
    },
    {
     "name": "stderr",
     "output_type": "stream",
     "text": [
      " 95%|█████████▍| 1891/2000 [05:36<00:16,  6.55it/s]"
     ]
    },
    {
     "name": "stdout",
     "output_type": "stream",
     "text": [
      "Training_loss 11.11830,   Relative Error 0.39861\n",
      "Training_loss 11.11764,   Relative Error 0.39856\n"
     ]
    },
    {
     "name": "stderr",
     "output_type": "stream",
     "text": [
      " 95%|█████████▍| 1893/2000 [05:37<00:16,  6.63it/s]"
     ]
    },
    {
     "name": "stdout",
     "output_type": "stream",
     "text": [
      "Training_loss 11.11027,   Relative Error 0.39850\n",
      "Training_loss 11.10890,   Relative Error 0.39847\n"
     ]
    },
    {
     "name": "stderr",
     "output_type": "stream",
     "text": [
      " 95%|█████████▍| 1895/2000 [05:37<00:15,  6.83it/s]"
     ]
    },
    {
     "name": "stdout",
     "output_type": "stream",
     "text": [
      "Training_loss 11.10906,   Relative Error 0.39842\n",
      "Training_loss 11.10488,   Relative Error 0.39837\n"
     ]
    },
    {
     "name": "stderr",
     "output_type": "stream",
     "text": [
      " 95%|█████████▍| 1897/2000 [05:37<00:15,  6.81it/s]"
     ]
    },
    {
     "name": "stdout",
     "output_type": "stream",
     "text": [
      "Training_loss 11.10226,   Relative Error 0.39835\n",
      "Training_loss 11.09887,   Relative Error 0.39831\n"
     ]
    },
    {
     "name": "stderr",
     "output_type": "stream",
     "text": [
      " 95%|█████████▍| 1899/2000 [05:38<00:14,  6.91it/s]"
     ]
    },
    {
     "name": "stdout",
     "output_type": "stream",
     "text": [
      "Training_loss 11.09702,   Relative Error 0.39823\n",
      "Training_loss 11.09316,   Relative Error 0.39817\n"
     ]
    },
    {
     "name": "stderr",
     "output_type": "stream",
     "text": [
      " 95%|█████████▌| 1901/2000 [05:38<00:14,  7.02it/s]"
     ]
    },
    {
     "name": "stdout",
     "output_type": "stream",
     "text": [
      "Training_loss 11.09096,   Relative Error 0.39815\n",
      "Training_loss 11.09115,   Relative Error 0.39811\n"
     ]
    },
    {
     "name": "stderr",
     "output_type": "stream",
     "text": [
      " 95%|█████████▌| 1903/2000 [05:38<00:14,  6.86it/s]"
     ]
    },
    {
     "name": "stdout",
     "output_type": "stream",
     "text": [
      "Training_loss 11.08864,   Relative Error 0.39810\n",
      "Training_loss 11.08728,   Relative Error 0.39805\n"
     ]
    },
    {
     "name": "stderr",
     "output_type": "stream",
     "text": [
      " 95%|█████████▌| 1905/2000 [05:38<00:14,  6.74it/s]"
     ]
    },
    {
     "name": "stdout",
     "output_type": "stream",
     "text": [
      "Training_loss 11.08529,   Relative Error 0.39803\n",
      "Training_loss 11.08009,   Relative Error 0.39800\n"
     ]
    },
    {
     "name": "stderr",
     "output_type": "stream",
     "text": [
      " 95%|█████████▌| 1907/2000 [05:39<00:13,  6.73it/s]"
     ]
    },
    {
     "name": "stdout",
     "output_type": "stream",
     "text": [
      "Training_loss 11.07599,   Relative Error 0.39793\n",
      "Training_loss 11.07179,   Relative Error 0.39789\n"
     ]
    },
    {
     "name": "stderr",
     "output_type": "stream",
     "text": [
      " 95%|█████████▌| 1909/2000 [05:39<00:12,  7.05it/s]"
     ]
    },
    {
     "name": "stdout",
     "output_type": "stream",
     "text": [
      "Training_loss 11.07248,   Relative Error 0.39786\n",
      "Training_loss 11.07353,   Relative Error 0.39780\n"
     ]
    },
    {
     "name": "stderr",
     "output_type": "stream",
     "text": [
      " 96%|█████████▌| 1911/2000 [05:39<00:12,  6.99it/s]"
     ]
    },
    {
     "name": "stdout",
     "output_type": "stream",
     "text": [
      "Training_loss 11.07519,   Relative Error 0.39774\n",
      "Training_loss 11.07272,   Relative Error 0.39770\n"
     ]
    },
    {
     "name": "stderr",
     "output_type": "stream",
     "text": [
      " 96%|█████████▌| 1913/2000 [05:40<00:12,  6.79it/s]"
     ]
    },
    {
     "name": "stdout",
     "output_type": "stream",
     "text": [
      "Training_loss 11.07167,   Relative Error 0.39764\n",
      "Training_loss 11.06746,   Relative Error 0.39758\n"
     ]
    },
    {
     "name": "stderr",
     "output_type": "stream",
     "text": [
      " 96%|█████████▌| 1915/2000 [05:40<00:12,  6.65it/s]"
     ]
    },
    {
     "name": "stdout",
     "output_type": "stream",
     "text": [
      "Training_loss 11.06778,   Relative Error 0.39755\n",
      "Training_loss 11.06551,   Relative Error 0.39752\n"
     ]
    },
    {
     "name": "stderr",
     "output_type": "stream",
     "text": [
      " 96%|█████████▌| 1917/2000 [05:40<00:13,  5.99it/s]"
     ]
    },
    {
     "name": "stdout",
     "output_type": "stream",
     "text": [
      "Training_loss 11.06535,   Relative Error 0.39748\n",
      "Training_loss 11.06613,   Relative Error 0.39745\n"
     ]
    },
    {
     "name": "stderr",
     "output_type": "stream",
     "text": [
      " 96%|█████████▌| 1919/2000 [05:41<00:14,  5.40it/s]"
     ]
    },
    {
     "name": "stdout",
     "output_type": "stream",
     "text": [
      "Training_loss 11.06438,   Relative Error 0.39739\n",
      "Training_loss 11.06151,   Relative Error 0.39735\n"
     ]
    },
    {
     "name": "stderr",
     "output_type": "stream",
     "text": [
      " 96%|█████████▌| 1921/2000 [05:41<00:14,  5.39it/s]"
     ]
    },
    {
     "name": "stdout",
     "output_type": "stream",
     "text": [
      "Training_loss 11.06274,   Relative Error 0.39730\n",
      "Training_loss 11.06122,   Relative Error 0.39729\n"
     ]
    },
    {
     "name": "stderr",
     "output_type": "stream",
     "text": [
      " 96%|█████████▌| 1923/2000 [05:41<00:13,  5.50it/s]"
     ]
    },
    {
     "name": "stdout",
     "output_type": "stream",
     "text": [
      "Training_loss 11.06263,   Relative Error 0.39725\n",
      "Training_loss 11.06057,   Relative Error 0.39719\n"
     ]
    },
    {
     "name": "stderr",
     "output_type": "stream",
     "text": [
      " 96%|█████████▋| 1925/2000 [05:42<00:12,  5.81it/s]"
     ]
    },
    {
     "name": "stdout",
     "output_type": "stream",
     "text": [
      "Training_loss 11.05683,   Relative Error 0.39714\n",
      "Training_loss 11.05127,   Relative Error 0.39710\n"
     ]
    },
    {
     "name": "stderr",
     "output_type": "stream",
     "text": [
      " 96%|█████████▋| 1927/2000 [05:42<00:11,  6.31it/s]"
     ]
    },
    {
     "name": "stdout",
     "output_type": "stream",
     "text": [
      "Training_loss 11.04805,   Relative Error 0.39706\n",
      "Training_loss 11.04379,   Relative Error 0.39701\n"
     ]
    },
    {
     "name": "stderr",
     "output_type": "stream",
     "text": [
      " 96%|█████████▋| 1929/2000 [05:42<00:11,  6.38it/s]"
     ]
    },
    {
     "name": "stdout",
     "output_type": "stream",
     "text": [
      "Training_loss 11.03972,   Relative Error 0.39695\n",
      "Training_loss 11.03788,   Relative Error 0.39688\n"
     ]
    },
    {
     "name": "stderr",
     "output_type": "stream",
     "text": [
      " 97%|█████████▋| 1931/2000 [05:43<00:10,  6.57it/s]"
     ]
    },
    {
     "name": "stdout",
     "output_type": "stream",
     "text": [
      "Training_loss 11.03140,   Relative Error 0.39681\n",
      "Training_loss 11.02964,   Relative Error 0.39674\n"
     ]
    },
    {
     "name": "stderr",
     "output_type": "stream",
     "text": [
      " 97%|█████████▋| 1933/2000 [05:43<00:10,  6.50it/s]"
     ]
    },
    {
     "name": "stdout",
     "output_type": "stream",
     "text": [
      "Training_loss 11.02775,   Relative Error 0.39671\n",
      "Training_loss 11.02747,   Relative Error 0.39667\n"
     ]
    },
    {
     "name": "stderr",
     "output_type": "stream",
     "text": [
      " 97%|█████████▋| 1935/2000 [05:43<00:09,  6.93it/s]"
     ]
    },
    {
     "name": "stdout",
     "output_type": "stream",
     "text": [
      "Training_loss 11.02310,   Relative Error 0.39661\n",
      "Training_loss 11.02169,   Relative Error 0.39658\n"
     ]
    },
    {
     "name": "stderr",
     "output_type": "stream",
     "text": [
      " 97%|█████████▋| 1937/2000 [05:44<00:09,  6.89it/s]"
     ]
    },
    {
     "name": "stdout",
     "output_type": "stream",
     "text": [
      "Training_loss 11.01793,   Relative Error 0.39654\n",
      "Training_loss 11.01536,   Relative Error 0.39652\n"
     ]
    },
    {
     "name": "stderr",
     "output_type": "stream",
     "text": [
      " 97%|█████████▋| 1939/2000 [05:44<00:08,  6.87it/s]"
     ]
    },
    {
     "name": "stdout",
     "output_type": "stream",
     "text": [
      "Training_loss 11.01346,   Relative Error 0.39651\n",
      "Training_loss 11.01315,   Relative Error 0.39647\n"
     ]
    },
    {
     "name": "stderr",
     "output_type": "stream",
     "text": [
      " 97%|█████████▋| 1941/2000 [05:44<00:08,  7.03it/s]"
     ]
    },
    {
     "name": "stdout",
     "output_type": "stream",
     "text": [
      "Training_loss 11.01266,   Relative Error 0.39644\n",
      "Training_loss 11.01003,   Relative Error 0.39640\n"
     ]
    },
    {
     "name": "stderr",
     "output_type": "stream",
     "text": [
      " 97%|█████████▋| 1943/2000 [05:44<00:08,  6.92it/s]"
     ]
    },
    {
     "name": "stdout",
     "output_type": "stream",
     "text": [
      "Training_loss 11.00500,   Relative Error 0.39637\n",
      "Training_loss 11.00661,   Relative Error 0.39632\n"
     ]
    },
    {
     "name": "stderr",
     "output_type": "stream",
     "text": [
      " 97%|█████████▋| 1945/2000 [05:45<00:07,  7.01it/s]"
     ]
    },
    {
     "name": "stdout",
     "output_type": "stream",
     "text": [
      "Training_loss 11.00070,   Relative Error 0.39629\n",
      "Training_loss 10.99882,   Relative Error 0.39627\n"
     ]
    },
    {
     "name": "stderr",
     "output_type": "stream",
     "text": [
      " 97%|█████████▋| 1947/2000 [05:45<00:07,  6.80it/s]"
     ]
    },
    {
     "name": "stdout",
     "output_type": "stream",
     "text": [
      "Training_loss 10.99630,   Relative Error 0.39624\n",
      "Training_loss 10.99569,   Relative Error 0.39620\n"
     ]
    },
    {
     "name": "stderr",
     "output_type": "stream",
     "text": [
      " 97%|█████████▋| 1949/2000 [05:45<00:07,  7.12it/s]"
     ]
    },
    {
     "name": "stdout",
     "output_type": "stream",
     "text": [
      "Training_loss 10.99521,   Relative Error 0.39616\n",
      "Training_loss 10.99218,   Relative Error 0.39610\n"
     ]
    },
    {
     "name": "stderr",
     "output_type": "stream",
     "text": [
      " 98%|█████████▊| 1951/2000 [05:46<00:07,  6.80it/s]"
     ]
    },
    {
     "name": "stdout",
     "output_type": "stream",
     "text": [
      "Training_loss 10.98611,   Relative Error 0.39605\n",
      "Training_loss 10.98480,   Relative Error 0.39599\n"
     ]
    },
    {
     "name": "stderr",
     "output_type": "stream",
     "text": [
      " 98%|█████████▊| 1953/2000 [05:46<00:06,  6.73it/s]"
     ]
    },
    {
     "name": "stdout",
     "output_type": "stream",
     "text": [
      "Training_loss 10.98188,   Relative Error 0.39594\n",
      "Training_loss 10.97622,   Relative Error 0.39589\n"
     ]
    },
    {
     "name": "stderr",
     "output_type": "stream",
     "text": [
      " 98%|█████████▊| 1955/2000 [05:46<00:06,  6.68it/s]"
     ]
    },
    {
     "name": "stdout",
     "output_type": "stream",
     "text": [
      "Training_loss 10.97105,   Relative Error 0.39586\n",
      "Training_loss 10.96723,   Relative Error 0.39583\n"
     ]
    },
    {
     "name": "stderr",
     "output_type": "stream",
     "text": [
      " 98%|█████████▊| 1957/2000 [05:46<00:06,  6.82it/s]"
     ]
    },
    {
     "name": "stdout",
     "output_type": "stream",
     "text": [
      "Training_loss 10.96676,   Relative Error 0.39579\n",
      "Training_loss 10.96393,   Relative Error 0.39576\n"
     ]
    },
    {
     "name": "stderr",
     "output_type": "stream",
     "text": [
      " 98%|█████████▊| 1959/2000 [05:47<00:06,  6.79it/s]"
     ]
    },
    {
     "name": "stdout",
     "output_type": "stream",
     "text": [
      "Training_loss 10.96254,   Relative Error 0.39568\n",
      "Training_loss 10.96240,   Relative Error 0.39563\n"
     ]
    },
    {
     "name": "stderr",
     "output_type": "stream",
     "text": [
      " 98%|█████████▊| 1961/2000 [05:47<00:05,  6.66it/s]"
     ]
    },
    {
     "name": "stdout",
     "output_type": "stream",
     "text": [
      "Training_loss 10.96234,   Relative Error 0.39559\n",
      "Training_loss 10.96015,   Relative Error 0.39556\n"
     ]
    },
    {
     "name": "stderr",
     "output_type": "stream",
     "text": [
      " 98%|█████████▊| 1963/2000 [05:47<00:05,  6.78it/s]"
     ]
    },
    {
     "name": "stdout",
     "output_type": "stream",
     "text": [
      "Training_loss 10.96072,   Relative Error 0.39552\n",
      "Training_loss 10.96308,   Relative Error 0.39549\n"
     ]
    },
    {
     "name": "stderr",
     "output_type": "stream",
     "text": [
      " 98%|█████████▊| 1965/2000 [05:48<00:05,  6.83it/s]"
     ]
    },
    {
     "name": "stdout",
     "output_type": "stream",
     "text": [
      "Training_loss 10.96218,   Relative Error 0.39544\n",
      "Training_loss 10.96119,   Relative Error 0.39539\n"
     ]
    },
    {
     "name": "stderr",
     "output_type": "stream",
     "text": [
      " 98%|█████████▊| 1967/2000 [05:48<00:04,  6.60it/s]"
     ]
    },
    {
     "name": "stdout",
     "output_type": "stream",
     "text": [
      "Training_loss 10.95813,   Relative Error 0.39536\n",
      "Training_loss 10.95521,   Relative Error 0.39531\n"
     ]
    },
    {
     "name": "stderr",
     "output_type": "stream",
     "text": [
      " 98%|█████████▊| 1969/2000 [05:48<00:05,  5.99it/s]"
     ]
    },
    {
     "name": "stdout",
     "output_type": "stream",
     "text": [
      "Training_loss 10.95050,   Relative Error 0.39527\n",
      "Training_loss 10.94953,   Relative Error 0.39519\n"
     ]
    },
    {
     "name": "stderr",
     "output_type": "stream",
     "text": [
      " 99%|█████████▊| 1971/2000 [05:49<00:05,  5.35it/s]"
     ]
    },
    {
     "name": "stdout",
     "output_type": "stream",
     "text": [
      "Training_loss 10.94735,   Relative Error 0.39515\n",
      "Training_loss 10.94561,   Relative Error 0.39508\n"
     ]
    },
    {
     "name": "stderr",
     "output_type": "stream",
     "text": [
      " 99%|█████████▊| 1973/2000 [05:49<00:04,  5.56it/s]"
     ]
    },
    {
     "name": "stdout",
     "output_type": "stream",
     "text": [
      "Training_loss 10.94136,   Relative Error 0.39505\n",
      "Training_loss 10.94420,   Relative Error 0.39501\n"
     ]
    },
    {
     "name": "stderr",
     "output_type": "stream",
     "text": [
      " 99%|█████████▉| 1975/2000 [05:49<00:04,  5.89it/s]"
     ]
    },
    {
     "name": "stdout",
     "output_type": "stream",
     "text": [
      "Training_loss 10.94056,   Relative Error 0.39496\n",
      "Training_loss 10.93789,   Relative Error 0.39490\n"
     ]
    },
    {
     "name": "stderr",
     "output_type": "stream",
     "text": [
      " 99%|█████████▉| 1977/2000 [05:50<00:03,  6.21it/s]"
     ]
    },
    {
     "name": "stdout",
     "output_type": "stream",
     "text": [
      "Training_loss 10.93482,   Relative Error 0.39485\n",
      "Training_loss 10.93157,   Relative Error 0.39482\n"
     ]
    },
    {
     "name": "stderr",
     "output_type": "stream",
     "text": [
      " 99%|█████████▉| 1979/2000 [05:50<00:03,  6.32it/s]"
     ]
    },
    {
     "name": "stdout",
     "output_type": "stream",
     "text": [
      "Training_loss 10.93340,   Relative Error 0.39476\n",
      "Training_loss 10.92842,   Relative Error 0.39473\n"
     ]
    },
    {
     "name": "stderr",
     "output_type": "stream",
     "text": [
      " 99%|█████████▉| 1981/2000 [05:50<00:02,  6.46it/s]"
     ]
    },
    {
     "name": "stdout",
     "output_type": "stream",
     "text": [
      "Training_loss 10.92603,   Relative Error 0.39470\n",
      "Training_loss 10.92753,   Relative Error 0.39464\n"
     ]
    },
    {
     "name": "stderr",
     "output_type": "stream",
     "text": [
      " 99%|█████████▉| 1983/2000 [05:51<00:02,  6.60it/s]"
     ]
    },
    {
     "name": "stdout",
     "output_type": "stream",
     "text": [
      "Training_loss 10.92246,   Relative Error 0.39461\n",
      "Training_loss 10.92192,   Relative Error 0.39458\n"
     ]
    },
    {
     "name": "stderr",
     "output_type": "stream",
     "text": [
      " 99%|█████████▉| 1985/2000 [05:51<00:02,  6.59it/s]"
     ]
    },
    {
     "name": "stdout",
     "output_type": "stream",
     "text": [
      "Training_loss 10.92482,   Relative Error 0.39454\n",
      "Training_loss 10.92327,   Relative Error 0.39447\n"
     ]
    },
    {
     "name": "stderr",
     "output_type": "stream",
     "text": [
      " 99%|█████████▉| 1987/2000 [05:51<00:01,  6.82it/s]"
     ]
    },
    {
     "name": "stdout",
     "output_type": "stream",
     "text": [
      "Training_loss 10.91713,   Relative Error 0.39442\n",
      "Training_loss 10.91714,   Relative Error 0.39438\n"
     ]
    },
    {
     "name": "stderr",
     "output_type": "stream",
     "text": [
      " 99%|█████████▉| 1989/2000 [05:51<00:01,  6.88it/s]"
     ]
    },
    {
     "name": "stdout",
     "output_type": "stream",
     "text": [
      "Training_loss 10.91238,   Relative Error 0.39434\n",
      "Training_loss 10.90874,   Relative Error 0.39429\n"
     ]
    },
    {
     "name": "stderr",
     "output_type": "stream",
     "text": [
      "100%|█████████▉| 1991/2000 [05:52<00:01,  6.89it/s]"
     ]
    },
    {
     "name": "stdout",
     "output_type": "stream",
     "text": [
      "Training_loss 10.90721,   Relative Error 0.39424\n",
      "Training_loss 10.90486,   Relative Error 0.39421\n"
     ]
    },
    {
     "name": "stderr",
     "output_type": "stream",
     "text": [
      "100%|█████████▉| 1993/2000 [05:52<00:01,  6.77it/s]"
     ]
    },
    {
     "name": "stdout",
     "output_type": "stream",
     "text": [
      "Training_loss 10.90635,   Relative Error 0.39415\n",
      "Training_loss 10.90261,   Relative Error 0.39412\n"
     ]
    },
    {
     "name": "stderr",
     "output_type": "stream",
     "text": [
      "100%|█████████▉| 1995/2000 [05:52<00:00,  6.75it/s]"
     ]
    },
    {
     "name": "stdout",
     "output_type": "stream",
     "text": [
      "Training_loss 10.89905,   Relative Error 0.39408\n",
      "Training_loss 10.90064,   Relative Error 0.39403\n"
     ]
    },
    {
     "name": "stderr",
     "output_type": "stream",
     "text": [
      "100%|█████████▉| 1997/2000 [05:53<00:00,  6.80it/s]"
     ]
    },
    {
     "name": "stdout",
     "output_type": "stream",
     "text": [
      "Training_loss 10.89518,   Relative Error 0.39400\n",
      "Training_loss 10.89061,   Relative Error 0.39397\n"
     ]
    },
    {
     "name": "stderr",
     "output_type": "stream",
     "text": [
      "100%|█████████▉| 1999/2000 [05:53<00:00,  6.82it/s]"
     ]
    },
    {
     "name": "stdout",
     "output_type": "stream",
     "text": [
      "Training_loss 10.88584,   Relative Error 0.39393\n",
      "Training_loss 10.88805,   Relative Error 0.39388\n"
     ]
    },
    {
     "name": "stderr",
     "output_type": "stream",
     "text": [
      "100%|██████████| 2000/2000 [05:53<00:00,  5.66it/s]"
     ]
    },
    {
     "name": "stdout",
     "output_type": "stream",
     "text": [
      "Training_loss 10.88739,   Relative Error 0.39383\n"
     ]
    },
    {
     "name": "stderr",
     "output_type": "stream",
     "text": [
      "\n"
     ]
    }
   ],
   "source": [
    "#global_model = CNN_Net().cuda()\n",
    "models = [MLP_Net(input_size=datapoints[i]['input_size'], user_id=i) for i in range(no_users)]\n",
    "dummy_models = [MLP_Net(input_size=datapoints[i]['input_size'], user_id=i) for i in range(no_users)]\n",
    "\n",
    "#model.load_state_dict(global_model.state_dict())\n",
    "\n",
    "criterion = nn.MSELoss()\n",
    "\n",
    "\n",
    "train_loss = []\n",
    "test_loss = []\n",
    "test_accuracy = []\n",
    "total_rel_error = []\n",
    "\n",
    "in_cluster_proj_norm = []\n",
    "out_cluster_proj_norm = []\n",
    "in_cluster_proj_diff_norm = []\n",
    "out_cluster_proj_diff_norm = []\n",
    "task_loss = {'0':[],\n",
    "                '1':[],\n",
    "                '2':[],\n",
    "                '3':[]}\n",
    "task_rel_error = {'0':[],\n",
    "            '1':[],\n",
    "            '2':[],\n",
    "            '3':[]}\n",
    "\n",
    "for curr_round in tqdm(range(1, it+1)):\n",
    "    w, local_loss = [], []\n",
    "\n",
    "    \n",
    "    for i in range(no_users):\n",
    "        dummy_models[i].load_state_dict(models[i].state_dict())\n",
    "        local_update = ClientUpdate(dataset=datapoints[i], batchSize=batch_size, alpha=alpha, lamda=lamda, epochs=1, projection_list=projection_list, projected_weights=projected_weights)\n",
    "        weights, loss = local_update.train(dummy_models[i])\n",
    "        w.append(weights)\n",
    "        local_loss.append(loss)\n",
    "        models[i].load_state_dict(w[i])\n",
    "        \n",
    "    \n",
    "    \n",
    "    # Update prjection matrix\n",
    "    projected_weights = []\n",
    "    update_ProjWeight(projection_list, projected_weights, models, first_run=False)\n",
    "    \n",
    "    #print(projection_list[0], projected_weights[0])\n",
    "    \n",
    "    for i in range(no_users):\n",
    "        weights = parameters_to_vector(models[i].parameters())\n",
    "        for j in G.neighbors(i):\n",
    "            temp_mat = torch.outer(projected_weights[i][j] - projected_weights[j][i], weights).clone()\n",
    "            projection_list[i][j] = torch.add(projection_list[i][j], -1 * eta * lamda * temp_mat)\n",
    "    \n",
    "    in_cluster_proj_norm_round = 0\n",
    "    out_cluster_proj_norm_round = 0\n",
    "    in_cluster_proj_diff_round = 0\n",
    "    out_cluster_proj_diff_round = 0\n",
    "    in_edges = 0\n",
    "    out_edges = 0\n",
    "    \n",
    "    for i in range(no_users//4):\n",
    "        for j in G.neighbors(i):\n",
    "            if j < no_users//4:\n",
    "                in_edges += 1\n",
    "                in_cluster_proj_norm_round += torch.norm(projection_list[i][j]).detach().numpy()\n",
    "                in_cluster_proj_diff_round += torch.norm(projected_weights[i][j] - projected_weights[j][i]).detach().numpy()\n",
    "            else:\n",
    "                out_edges += 1\n",
    "                out_cluster_proj_norm_round += torch.norm(projection_list[i][j]).detach().numpy()\n",
    "                out_cluster_proj_diff_round += torch.norm(projected_weights[i][j] - projected_weights[j][i]).detach().numpy()\n",
    "    in_cluster_proj_norm.append(in_cluster_proj_norm_round / in_edges)\n",
    "    out_cluster_proj_norm.append(out_cluster_proj_norm_round / out_edges)\n",
    "    in_cluster_proj_diff_norm.append(in_cluster_proj_diff_round / in_edges)\n",
    "    out_cluster_proj_diff_norm.append(out_cluster_proj_diff_round / out_edges)\n",
    "            \n",
    "                                         \n",
    "                                              \n",
    "    \n",
    "        \n",
    "        \n",
    "        \n",
    "    \n",
    "    \n",
    "\n",
    "\n",
    "\n",
    "\n",
    "          \n",
    "            \n",
    "\n",
    "    local_test_acc = []\n",
    "    local_test_loss = []\n",
    "    user_rel_error = 0\n",
    "    per_task_loss = []\n",
    "    per_task_rel_error = []\n",
    "    \n",
    "    for k in range(no_users):\n",
    "      \n",
    "        g_loss = testing(models[i], datapoints[i], 50, criterion)\n",
    "        local_test_loss.append(g_loss)\n",
    "        user_rel_error += rel_error(models[i])\n",
    "        if (k + 1) % 10 == 0:\n",
    "            task_loss[str(k // 10)].append(sum(per_task_loss) / 10)\n",
    "            task_rel_error[str(k // 10)].append(sum(per_task_rel_error) / 10)\n",
    "            per_task_loss = []\n",
    "            per_task_rel_error = []\n",
    "        per_task_loss.append(g_loss)\n",
    "        per_task_rel_error.append(rel_error(models[i]))\n",
    "    \n",
    "    \n",
    "        \n",
    "\n",
    "    g_loss = sum(local_test_loss) / len(local_test_loss)\n",
    "    total_rel_error.append(user_rel_error / no_users)\n",
    "    \n",
    "    \n",
    "\n",
    "    test_loss.append(g_loss)\n",
    "    #test_accuracy.append(g_accuracy)\n",
    "    print(\"Training_loss %2.5f,   Relative Error %2.5f\"% (test_loss[-1], total_rel_error[-1]))"
   ]
  },
  {
   "cell_type": "code",
   "execution_count": 18,
   "id": "2ff0ff71",
   "metadata": {},
   "outputs": [
    {
     "name": "stdout",
     "output_type": "stream",
     "text": [
      "tensor([ 1.0331,  2.9987, -0.6963,  5.1755,  1.7718, -2.8098, -4.4091],\n",
      "       grad_fn=<CatBackward0>) [ 2.  2.  0.  5.  2. -3. -5.]\n"
     ]
    }
   ],
   "source": [
    "#plot.plot(test_loss)\n",
    "print(parameters_to_vector(models[19].parameters()), W[1])"
   ]
  },
  {
   "cell_type": "code",
   "execution_count": 19,
   "id": "fb295047",
   "metadata": {},
   "outputs": [
    {
     "name": "stdout",
     "output_type": "stream",
     "text": [
      "0\n",
      "4\n",
      "5\n",
      "6\n",
      "15\n",
      "16\n",
      "19\n",
      "25\n",
      "31\n"
     ]
    }
   ],
   "source": [
    "for i in G.neighbors(3):\n",
    "    print(i)"
   ]
  },
  {
   "cell_type": "code",
   "execution_count": 20,
   "id": "2561d143",
   "metadata": {},
   "outputs": [],
   "source": [
    "test_loss = np.array(test_loss)\n",
    "total_rel_error = np.array(total_rel_error)\n",
    "\n",
    "in_cluster_proj_norm = np.array(in_cluster_proj_norm)\n",
    "out_cluster_proj_norm = np.array(out_cluster_proj_norm)\n",
    "in_cluster_proj_diff_norm = np.array(in_cluster_proj_diff_norm)\n",
    "out_cluster_proj_diff_norm = np.array(out_cluster_proj_diff_norm)\n"
   ]
  },
  {
   "cell_type": "code",
   "execution_count": 21,
   "id": "d61db64c",
   "metadata": {},
   "outputs": [],
   "source": [
    "np.save( 'training_loss_sheave_fml' + str(lamda).replace('.', '_')+ '_pout' + str(pout).replace('.', '_'), test_loss)\n",
    "np.save('relative_error_sheave_fml' + str(lamda).replace('.', '_')+ '_pout' + str(pout).replace('.', '_'), total_rel_error)\n",
    "np.save( 'in_cluster_proj_norm_sheave_fml' + str(lamda).replace('.', '_')+ '_pout' + str(pout).replace('.', '_'), in_cluster_proj_norm)\n",
    "np.save('out_cluster_proj_norm_sheave_fml' + str(lamda).replace('.', '_')+ '_pout' + str(pout).replace('.', '_'), out_cluster_proj_norm)\n",
    "np.save( 'in_cluster_proj_diff_norm_sheave_fml' + str(lamda).replace('.', '_')+ '_pout' + str(pout).replace('.', '_'), in_cluster_proj_diff_norm)\n",
    "np.save('out_cluster_proj_diff_norm_sheave_fml' + str(lamda).replace('.', '_')+ '_pout' + str(pout).replace('.', '_'), out_cluster_proj_diff_norm)"
   ]
  },
  {
   "cell_type": "code",
   "execution_count": 22,
   "id": "725be3f4",
   "metadata": {},
   "outputs": [
    {
     "data": {
      "text/plain": [
       "'training_loss_sheave_fml0_pout0_1'"
      ]
     },
     "execution_count": 22,
     "metadata": {},
     "output_type": "execute_result"
    }
   ],
   "source": [
    "'training_loss_sheave_fml' + str(lamda).replace('.', '_')+ '_pout' + str(pout).replace('.', '_')"
   ]
  },
  {
   "cell_type": "code",
   "execution_count": 23,
   "id": "b1bb8533",
   "metadata": {},
   "outputs": [
    {
     "data": {
      "text/plain": [
       "'relative_error_sheave_fml0_pout0_1'"
      ]
     },
     "execution_count": 23,
     "metadata": {},
     "output_type": "execute_result"
    }
   ],
   "source": [
    "'relative_error_sheave_fml' + str(lamda).replace('.', '_')+ '_pout' + str(pout).replace('.', '_')"
   ]
  },
  {
   "cell_type": "code",
   "execution_count": 24,
   "id": "8de6635c",
   "metadata": {},
   "outputs": [
    {
     "data": {
      "text/plain": [
       "'in_cluster_proj_norm_sheave_fml0_pout0_1'"
      ]
     },
     "execution_count": 24,
     "metadata": {},
     "output_type": "execute_result"
    }
   ],
   "source": [
    "'in_cluster_proj_norm_sheave_fml' + str(lamda).replace('.', '_')+ '_pout' + str(pout).replace('.', '_')"
   ]
  },
  {
   "cell_type": "code",
   "execution_count": 25,
   "id": "01662d4c",
   "metadata": {},
   "outputs": [
    {
     "data": {
      "text/plain": [
       "'out_cluster_proj_norm_sheave_fml0_pout0_1'"
      ]
     },
     "execution_count": 25,
     "metadata": {},
     "output_type": "execute_result"
    }
   ],
   "source": [
    "'out_cluster_proj_norm_sheave_fml' + str(lamda).replace('.', '_')+ '_pout' + str(pout).replace('.', '_')"
   ]
  },
  {
   "cell_type": "code",
   "execution_count": 26,
   "id": "6c2b0b99",
   "metadata": {},
   "outputs": [
    {
     "data": {
      "text/plain": [
       "'in_cluster_proj_diff_norm_sheave_fml0_pout0_1'"
      ]
     },
     "execution_count": 26,
     "metadata": {},
     "output_type": "execute_result"
    }
   ],
   "source": [
    "'in_cluster_proj_diff_norm_sheave_fml' + str(lamda).replace('.', '_')+ '_pout' + str(pout).replace('.', '_')"
   ]
  },
  {
   "cell_type": "code",
   "execution_count": 27,
   "id": "f7db9082",
   "metadata": {},
   "outputs": [
    {
     "data": {
      "text/plain": [
       "'out_cluster_proj_diff_norm_sheave_fml0_pout0_1'"
      ]
     },
     "execution_count": 27,
     "metadata": {},
     "output_type": "execute_result"
    }
   ],
   "source": [
    "'out_cluster_proj_diff_norm_sheave_fml' + str(lamda).replace('.', '_')+ '_pout' + str(pout).replace('.', '_')"
   ]
  },
  {
   "cell_type": "code",
   "execution_count": 28,
   "id": "54d29a2d",
   "metadata": {},
   "outputs": [],
   "source": [
    "# task_loss dictionary\n",
    "for key, value in task_loss.items():\n",
    "    # Convert the list to a NumPy array\n",
    "    array_loss = np.array(value)\n",
    "    \n",
    "    # Save the NumPy array using the specified format\n",
    "    np.save('training_loss_sheave_fml_task' + key + '_' + str(lamda).replace('.', '_') + '_pout' + str(pout).replace('.', '_'), array_loss)\n",
    "\n",
    "# task_rel_error dictionary\n",
    "for key, value in task_rel_error.items():\n",
    "    # Convert the list to a NumPy array\n",
    "    array_rel_error = np.array(value)\n",
    "    \n",
    "    # Save the NumPy array using the specified format\n",
    "    np.save('relative_error_sheave_fml_task' + key + '_' + str(lamda).replace('.', '_') + '_pout' + str(pout).replace('.', '_'), array_rel_error)"
   ]
  },
  {
   "cell_type": "code",
   "execution_count": 29,
   "id": "0c103fdb",
   "metadata": {},
   "outputs": [
    {
     "data": {
      "text/plain": [
       "'relative_error_sheave_fml_task3_0_pout0_1'"
      ]
     },
     "execution_count": 29,
     "metadata": {},
     "output_type": "execute_result"
    }
   ],
   "source": [
    "'relative_error_sheave_fml_task' + key + '_' + str(lamda).replace('.', '_') + '_pout' + str(pout).replace('.', '_')"
   ]
  },
  {
   "cell_type": "code",
   "execution_count": 30,
   "id": "a9e6306b",
   "metadata": {},
   "outputs": [
    {
     "data": {
      "text/plain": [
       "[60.980960083007815,\n",
       " 60.62915210723877,\n",
       " 58.087818717956544,\n",
       " 57.97616329193115,\n",
       " 55.941121101379395,\n",
       " 54.21936092376709,\n",
       " 52.602606010437015,\n",
       " 51.31578254699707,\n",
       " 50.63236770629883,\n",
       " 49.3741979598999,\n",
       " 48.397734832763675,\n",
       " 47.18665523529053,\n",
       " 46.14659671783447,\n",
       " 45.32335510253906,\n",
       " 45.007185745239255,\n",
       " 44.299446487426756,\n",
       " 43.82498989105225,\n",
       " 43.520512390136716,\n",
       " 43.37413845062256,\n",
       " 43.134957504272464,\n",
       " 42.46207752227783,\n",
       " 42.19277687072754,\n",
       " 41.734449577331546,\n",
       " 41.34343585968018,\n",
       " 40.96257762908935,\n",
       " 40.715349197387695,\n",
       " 40.43331470489502,\n",
       " 39.84458827972412,\n",
       " 39.34904823303223,\n",
       " 38.928687286376956,\n",
       " 38.59447975158692,\n",
       " 38.31453437805176,\n",
       " 37.924856185913086,\n",
       " 37.64488334655762,\n",
       " 37.369524765014646,\n",
       " 37.17091255187988,\n",
       " 36.99143886566162,\n",
       " 36.80692691802979,\n",
       " 36.516333389282224,\n",
       " 36.29406967163086,\n",
       " 36.08881587982178,\n",
       " 35.783667182922365,\n",
       " 35.63506679534912,\n",
       " 35.33243808746338,\n",
       " 35.21474962234497,\n",
       " 34.996220397949216,\n",
       " 34.91371650695801,\n",
       " 34.66103096008301,\n",
       " 34.43311614990235,\n",
       " 34.25663194656372,\n",
       " 34.052016735076904,\n",
       " 33.86782321929932,\n",
       " 33.663461208343506,\n",
       " 33.35244941711426,\n",
       " 33.03300905227661,\n",
       " 32.84024705886841,\n",
       " 32.548901653289796,\n",
       " 32.34487009048462,\n",
       " 32.20778303146362,\n",
       " 32.142654705047605,\n",
       " 32.10389957427979,\n",
       " 31.96001558303833,\n",
       " 31.759430122375488,\n",
       " 31.570475578308105,\n",
       " 31.4905912399292,\n",
       " 31.197005653381346,\n",
       " 31.00158634185791,\n",
       " 30.84503116607666,\n",
       " 30.550083446502686,\n",
       " 30.307695865631104,\n",
       " 30.295428943634032,\n",
       " 30.045319175720216,\n",
       " 29.797680473327638,\n",
       " 29.633410835266112,\n",
       " 29.51768274307251,\n",
       " 29.439811134338377,\n",
       " 29.27211513519287,\n",
       " 29.190792274475097,\n",
       " 29.05752639770508,\n",
       " 28.89768304824829,\n",
       " 28.791613483428954,\n",
       " 28.638494968414307,\n",
       " 28.531570529937746,\n",
       " 28.439898204803466,\n",
       " 28.28439016342163,\n",
       " 28.152166271209715,\n",
       " 28.01132583618164,\n",
       " 27.859122276306152,\n",
       " 27.77275686264038,\n",
       " 27.590191555023193,\n",
       " 27.57194652557373,\n",
       " 27.458273220062257,\n",
       " 27.299353408813477,\n",
       " 27.1193904876709,\n",
       " 26.900436401367188,\n",
       " 26.745817565917967,\n",
       " 26.603363513946533,\n",
       " 26.444832515716552,\n",
       " 26.352358531951904,\n",
       " 26.139519023895264,\n",
       " 25.989220905303956,\n",
       " 25.871006298065186,\n",
       " 25.67779197692871,\n",
       " 25.66228666305542,\n",
       " 25.507937335968016,\n",
       " 25.39606304168701,\n",
       " 25.272562980651855,\n",
       " 25.171677589416504,\n",
       " 25.05638380050659,\n",
       " 24.921996116638184,\n",
       " 24.826841640472413,\n",
       " 24.725335693359376,\n",
       " 24.70849742889404,\n",
       " 24.65938425064087,\n",
       " 24.602528285980224,\n",
       " 24.55838899612427,\n",
       " 24.460624408721923,\n",
       " 24.4517014503479,\n",
       " 24.405804347991943,\n",
       " 24.29065990447998,\n",
       " 24.224178886413576,\n",
       " 24.08595199584961,\n",
       " 24.046672439575197,\n",
       " 24.002498817443847,\n",
       " 23.913288116455078,\n",
       " 23.87261381149292,\n",
       " 23.86237335205078,\n",
       " 23.70112838745117,\n",
       " 23.577217197418214,\n",
       " 23.501881885528565,\n",
       " 23.464438247680665,\n",
       " 23.352772521972657,\n",
       " 23.352544212341307,\n",
       " 23.283120918273926,\n",
       " 23.161140060424806,\n",
       " 23.054328060150148,\n",
       " 22.948139190673828,\n",
       " 22.84888801574707,\n",
       " 22.751922512054442,\n",
       " 22.689383697509765,\n",
       " 22.664315128326415,\n",
       " 22.524606800079347,\n",
       " 22.523803424835204,\n",
       " 22.449748706817626,\n",
       " 22.385040092468262,\n",
       " 22.322368240356447,\n",
       " 22.301589488983154,\n",
       " 22.283182239532472,\n",
       " 22.219346523284912,\n",
       " 22.171761989593506,\n",
       " 22.089737033843996,\n",
       " 22.020977210998534,\n",
       " 21.893455982208252,\n",
       " 21.789667797088622,\n",
       " 21.689620971679688,\n",
       " 21.62183361053467,\n",
       " 21.56321039199829,\n",
       " 21.53865165710449,\n",
       " 21.452541160583497,\n",
       " 21.39065980911255,\n",
       " 21.33000240325928,\n",
       " 21.27638397216797,\n",
       " 21.163369846343993,\n",
       " 21.106343936920165,\n",
       " 21.107521533966064,\n",
       " 21.049113750457764,\n",
       " 20.97164468765259,\n",
       " 20.937033462524415,\n",
       " 20.85160188674927,\n",
       " 20.80090856552124,\n",
       " 20.727319049835206,\n",
       " 20.69804391860962,\n",
       " 20.69820957183838,\n",
       " 20.66779546737671,\n",
       " 20.562302684783937,\n",
       " 20.45835485458374,\n",
       " 20.4364972114563,\n",
       " 20.386427879333496,\n",
       " 20.3641565322876,\n",
       " 20.364465522766114,\n",
       " 20.267229652404787,\n",
       " 20.247526359558105,\n",
       " 20.154088497161865,\n",
       " 20.136591911315918,\n",
       " 20.137376403808595,\n",
       " 20.07297077178955,\n",
       " 20.045797634124757,\n",
       " 20.032914447784425,\n",
       " 20.00864839553833,\n",
       " 19.942605113983156,\n",
       " 19.901858711242674,\n",
       " 19.8625207901001,\n",
       " 19.866365146636962,\n",
       " 19.77710552215576,\n",
       " 19.73868856430054,\n",
       " 19.742122650146484,\n",
       " 19.705028343200684,\n",
       " 19.69202241897583,\n",
       " 19.69549341201782,\n",
       " 19.673356819152833,\n",
       " 19.60840015411377,\n",
       " 19.547620868682863,\n",
       " 19.48937873840332,\n",
       " 19.42420663833618,\n",
       " 19.410805892944335,\n",
       " 19.36922264099121,\n",
       " 19.356205558776857,\n",
       " 19.277388954162596,\n",
       " 19.198253917694093,\n",
       " 19.143736839294434,\n",
       " 19.147240447998048,\n",
       " 19.08537368774414,\n",
       " 19.06626949310303,\n",
       " 19.026736736297607,\n",
       " 19.027602767944337,\n",
       " 18.991613960266115,\n",
       " 18.955188274383545,\n",
       " 18.956268882751466,\n",
       " 18.90074758529663,\n",
       " 18.901477146148682,\n",
       " 18.883112812042235,\n",
       " 18.86293315887451,\n",
       " 18.84490785598755,\n",
       " 18.829371643066406,\n",
       " 18.77287359237671,\n",
       " 18.7355938911438,\n",
       " 18.683366775512695,\n",
       " 18.66816701889038,\n",
       " 18.65579538345337,\n",
       " 18.596220302581788,\n",
       " 18.560973072052,\n",
       " 18.526645946502686,\n",
       " 18.470927238464355,\n",
       " 18.420129203796385,\n",
       " 18.388378715515138,\n",
       " 18.356528663635252,\n",
       " 18.341096305847167,\n",
       " 18.32589998245239,\n",
       " 18.29471597671509,\n",
       " 18.262950038909914,\n",
       " 18.21677656173706,\n",
       " 18.172605514526367,\n",
       " 18.1305793762207,\n",
       " 18.130509853363037,\n",
       " 18.101537704467773,\n",
       " 18.042550563812256,\n",
       " 17.98460454940796,\n",
       " 17.945477771759034,\n",
       " 17.927246475219725,\n",
       " 17.92642765045166,\n",
       " 17.868852424621583,\n",
       " 17.839528369903565,\n",
       " 17.82814292907715,\n",
       " 17.813678741455078,\n",
       " 17.77199077606201,\n",
       " 17.759092140197755,\n",
       " 17.730392932891846,\n",
       " 17.716022300720216,\n",
       " 17.676464653015138,\n",
       " 17.62336120605469,\n",
       " 17.59871063232422,\n",
       " 17.56013402938843,\n",
       " 17.535171031951904,\n",
       " 17.535636234283448,\n",
       " 17.523256874084474,\n",
       " 17.509172916412354,\n",
       " 17.473184967041014,\n",
       " 17.47412738800049,\n",
       " 17.439038944244384,\n",
       " 17.398345756530762,\n",
       " 17.386191272735594,\n",
       " 17.386866760253906,\n",
       " 17.37387886047363,\n",
       " 17.36181707382202,\n",
       " 17.36211576461792,\n",
       " 17.35006856918335,\n",
       " 17.313868618011476,\n",
       " 17.289669513702393,\n",
       " 17.255223941802978,\n",
       " 17.233701038360596,\n",
       " 17.220461654663087,\n",
       " 17.196053981781006,\n",
       " 17.174475288391115,\n",
       " 17.138719940185545,\n",
       " 17.114366340637208,\n",
       " 17.079444408416748,\n",
       " 17.048644924163817,\n",
       " 17.0257830619812,\n",
       " 17.003812980651855,\n",
       " 16.991862773895264,\n",
       " 16.959547519683838,\n",
       " 16.948268508911134,\n",
       " 16.936329460144044,\n",
       " 16.92646493911743,\n",
       " 16.90554027557373,\n",
       " 16.876327800750733,\n",
       " 16.863827419281005,\n",
       " 16.85446243286133,\n",
       " 16.822868156433106,\n",
       " 16.79295959472656,\n",
       " 16.769519233703612,\n",
       " 16.748312187194824,\n",
       " 16.73138036727905,\n",
       " 16.728918743133544,\n",
       " 16.708223247528075,\n",
       " 16.678852844238282,\n",
       " 16.679604721069335,\n",
       " 16.639976692199706,\n",
       " 16.631972980499267,\n",
       " 16.61464548110962,\n",
       " 16.60697135925293,\n",
       " 16.58155174255371,\n",
       " 16.55916624069214,\n",
       " 16.540290355682373,\n",
       " 16.52046604156494,\n",
       " 16.511616897583007,\n",
       " 16.489523220062257,\n",
       " 16.485594749450684,\n",
       " 16.46408815383911,\n",
       " 16.4632607460022,\n",
       " 16.431259632110596,\n",
       " 16.403023052215577,\n",
       " 16.391850471496582,\n",
       " 16.375183868408204,\n",
       " 16.35065689086914,\n",
       " 16.314857769012452,\n",
       " 16.2983980178833,\n",
       " 16.279107570648193,\n",
       " 16.269196701049804,\n",
       " 16.248219680786132,\n",
       " 16.223385429382326,\n",
       " 16.19434461593628,\n",
       " 16.17805051803589,\n",
       " 16.17562837600708,\n",
       " 16.158124923706055,\n",
       " 16.157672595977782,\n",
       " 16.133433151245118,\n",
       " 16.11948652267456,\n",
       " 16.09733533859253,\n",
       " 16.09538698196411,\n",
       " 16.07616777420044,\n",
       " 16.060514831542967,\n",
       " 16.039832210540773,\n",
       " 16.01624937057495,\n",
       " 16.003084659576416,\n",
       " 15.991826248168945,\n",
       " 15.98611764907837,\n",
       " 15.975240325927734,\n",
       " 15.956329250335694,\n",
       " 15.947034645080567,\n",
       " 15.940387058258057,\n",
       " 15.930676174163818,\n",
       " 15.917965507507324,\n",
       " 15.91029224395752,\n",
       " 15.8968674659729,\n",
       " 15.869429111480713,\n",
       " 15.852258682250977,\n",
       " 15.833538150787353,\n",
       " 15.834955215454102,\n",
       " 15.817404556274415,\n",
       " 15.812979125976563,\n",
       " 15.799869346618653,\n",
       " 15.781848335266114,\n",
       " 15.760405254364013,\n",
       " 15.740842723846436,\n",
       " 15.732165241241455,\n",
       " 15.730154228210449,\n",
       " 15.729501056671143,\n",
       " 15.70367374420166,\n",
       " 15.692535495758056,\n",
       " 15.667963886260987,\n",
       " 15.662771129608155,\n",
       " 15.654513359069824,\n",
       " 15.636767864227295,\n",
       " 15.633583545684814,\n",
       " 15.629982948303223,\n",
       " 15.623046970367431,\n",
       " 15.620240306854248,\n",
       " 15.602118873596192,\n",
       " 15.600710391998291,\n",
       " 15.59814920425415,\n",
       " 15.593328952789307,\n",
       " 15.589865684509277,\n",
       " 15.573879718780518,\n",
       " 15.55237398147583,\n",
       " 15.545363330841065,\n",
       " 15.535652446746827,\n",
       " 15.515501117706298,\n",
       " 15.507701683044434,\n",
       " 15.502249717712402,\n",
       " 15.503182697296143,\n",
       " 15.4865083694458,\n",
       " 15.48502950668335,\n",
       " 15.474492073059082,\n",
       " 15.468028163909912,\n",
       " 15.456118297576904,\n",
       " 15.444559478759766,\n",
       " 15.42540464401245,\n",
       " 15.415916061401367,\n",
       " 15.411181640625,\n",
       " 15.411903476715088,\n",
       " 15.410502719879151,\n",
       " 15.397190380096436,\n",
       " 15.388049411773682,\n",
       " 15.373279666900634,\n",
       " 15.3590558052063,\n",
       " 15.353797817230225,\n",
       " 15.344426822662353,\n",
       " 15.33112735748291,\n",
       " 15.330920505523682,\n",
       " 15.330328273773194,\n",
       " 15.32138900756836,\n",
       " 15.31598596572876,\n",
       " 15.312076377868653,\n",
       " 15.306859588623047,\n",
       " 15.28452730178833,\n",
       " 15.279400634765626,\n",
       " 15.274976062774659,\n",
       " 15.257148170471192,\n",
       " 15.246763515472413,\n",
       " 15.235761737823486,\n",
       " 15.221817684173583,\n",
       " 15.217300415039062,\n",
       " 15.211862182617187,\n",
       " 15.20010166168213,\n",
       " 15.201104164123535,\n",
       " 15.185564517974854,\n",
       " 15.17887487411499,\n",
       " 15.177036380767822,\n",
       " 15.173543071746826,\n",
       " 15.168764877319337,\n",
       " 15.14948558807373,\n",
       " 15.1424054145813,\n",
       " 15.131208801269532,\n",
       " 15.116001749038697,\n",
       " 15.095732402801513,\n",
       " 15.088259983062745,\n",
       " 15.084304046630859,\n",
       " 15.079496669769288,\n",
       " 15.06995186805725,\n",
       " 15.064895582199096,\n",
       " 15.058871126174926,\n",
       " 15.060604476928711,\n",
       " 15.053228616714478,\n",
       " 15.046407651901244,\n",
       " 15.038112115859985,\n",
       " 15.03249363899231,\n",
       " 15.020494079589843,\n",
       " 15.002839136123658,\n",
       " 14.999155282974243,\n",
       " 14.996269226074219,\n",
       " 14.978637886047363,\n",
       " 14.959964561462403,\n",
       " 14.951541137695312,\n",
       " 14.93420376777649,\n",
       " 14.923403263092041,\n",
       " 14.908415937423706,\n",
       " 14.903451919555664,\n",
       " 14.899254369735718,\n",
       " 14.890040016174316,\n",
       " 14.883629751205444,\n",
       " 14.878331851959228,\n",
       " 14.869816160202026,\n",
       " 14.86274242401123,\n",
       " 14.854562330245972,\n",
       " 14.85298776626587,\n",
       " 14.840115737915038,\n",
       " 14.826754474639893,\n",
       " 14.81179633140564,\n",
       " 14.808105611801148,\n",
       " 14.807064485549926,\n",
       " 14.800404453277588,\n",
       " 14.792081880569459,\n",
       " 14.778112506866455,\n",
       " 14.776752519607545,\n",
       " 14.778501319885255,\n",
       " 14.774939346313477,\n",
       " 14.767090988159179,\n",
       " 14.759822416305543,\n",
       " 14.751826000213622,\n",
       " 14.751759052276611,\n",
       " 14.74725637435913,\n",
       " 14.73914065361023,\n",
       " 14.73397879600525,\n",
       " 14.725105619430542,\n",
       " 14.712012577056885,\n",
       " 14.703977966308594,\n",
       " 14.696023607254029,\n",
       " 14.690365219116211,\n",
       " 14.681507921218872,\n",
       " 14.678272104263305,\n",
       " 14.672018051147461,\n",
       " 14.65430474281311,\n",
       " 14.640943050384521,\n",
       " 14.638735914230347,\n",
       " 14.629305696487426,\n",
       " 14.62624282836914,\n",
       " 14.623357200622559,\n",
       " 14.618976831436157,\n",
       " 14.604098510742187,\n",
       " 14.595668649673462,\n",
       " 14.589176416397095,\n",
       " 14.574675750732421,\n",
       " 14.566095685958862,\n",
       " 14.5580228805542,\n",
       " 14.54798412322998,\n",
       " 14.542111158370972,\n",
       " 14.531701612472535,\n",
       " 14.517445993423461,\n",
       " 14.507623529434204,\n",
       " 14.495234727859497,\n",
       " 14.491416549682617,\n",
       " 14.484144973754884,\n",
       " 14.472511911392212,\n",
       " 14.471072101593018,\n",
       " 14.468975687026978,\n",
       " 14.465367794036865,\n",
       " 14.457907819747925,\n",
       " 14.45002040863037,\n",
       " 14.44022798538208,\n",
       " 14.43703293800354,\n",
       " 14.425941896438598,\n",
       " 14.417775964736938,\n",
       " 14.406166934967041,\n",
       " 14.403903579711914,\n",
       " 14.398610830307007,\n",
       " 14.391056442260743,\n",
       " 14.38932180404663,\n",
       " 14.380525016784668,\n",
       " 14.375700902938842,\n",
       " 14.374051666259765,\n",
       " 14.366896820068359,\n",
       " 14.355099821090699,\n",
       " 14.347300386428833,\n",
       " 14.340681123733521,\n",
       " 14.330547523498534,\n",
       " 14.325134181976319,\n",
       " 14.312626504898072,\n",
       " 14.302813911437989,\n",
       " 14.288871574401856,\n",
       " 14.282155752182007,\n",
       " 14.276511096954346,\n",
       " 14.267616891860962,\n",
       " 14.26505913734436,\n",
       " 14.253124809265136,\n",
       " 14.254392528533936,\n",
       " 14.24281997680664,\n",
       " 14.23200445175171,\n",
       " 14.229328680038453,\n",
       " 14.223938512802125,\n",
       " 14.214500570297242,\n",
       " 14.202497148513794,\n",
       " 14.188945770263672,\n",
       " 14.180754947662354,\n",
       " 14.173440885543823,\n",
       " 14.16862449645996,\n",
       " 14.162646389007568,\n",
       " 14.15530743598938,\n",
       " 14.143881225585938,\n",
       " 14.139233493804932,\n",
       " 14.132764005661011,\n",
       " 14.125767946243286,\n",
       " 14.116554021835327,\n",
       " 14.111932468414306,\n",
       " 14.100530290603638,\n",
       " 14.093512344360352,\n",
       " 14.084644746780395,\n",
       " 14.086835145950317,\n",
       " 14.078930568695068,\n",
       " 14.078447341918945,\n",
       " 14.065768432617187,\n",
       " 14.05886549949646,\n",
       " 14.053449153900146,\n",
       " 14.044515895843507,\n",
       " 14.031845998764037,\n",
       " 14.02847113609314,\n",
       " 14.023562049865722,\n",
       " 14.023694229125976,\n",
       " 14.022938060760499,\n",
       " 14.016420936584472,\n",
       " 14.007862758636474,\n",
       " 14.007701396942139,\n",
       " 14.003478527069092,\n",
       " 13.994472312927247,\n",
       " 13.987682247161866,\n",
       " 13.979395723342895,\n",
       " 13.97527198791504,\n",
       " 13.971945190429688,\n",
       " 13.97312364578247,\n",
       " 13.969493436813355,\n",
       " 13.965024662017822,\n",
       " 13.96515383720398,\n",
       " 13.966706085205079,\n",
       " 13.957212352752686,\n",
       " 13.95434217453003,\n",
       " 13.944997787475586,\n",
       " 13.93790431022644,\n",
       " 13.937639522552491,\n",
       " 13.934325170516967,\n",
       " 13.924662780761718,\n",
       " 13.915597343444825,\n",
       " 13.908776807785035,\n",
       " 13.910406303405761,\n",
       " 13.903626537322998,\n",
       " 13.90416340827942,\n",
       " 13.898840188980103,\n",
       " 13.89510998725891,\n",
       " 13.895612525939942,\n",
       " 13.889324140548705,\n",
       " 13.883523273468018,\n",
       " 13.87746877670288,\n",
       " 13.86564130783081,\n",
       " 13.860665702819825,\n",
       " 13.85500259399414,\n",
       " 13.85230278968811,\n",
       " 13.838717079162597,\n",
       " 13.832465171813965,\n",
       " 13.823489427566528,\n",
       " 13.821291732788087,\n",
       " 13.819058847427367,\n",
       " 13.812727117538453,\n",
       " 13.808772897720337,\n",
       " 13.80453200340271,\n",
       " 13.797739362716674,\n",
       " 13.79280195236206,\n",
       " 13.786755180358886,\n",
       " 13.776794528961181,\n",
       " 13.770998811721801,\n",
       " 13.762760353088378,\n",
       " 13.760877227783203,\n",
       " 13.753080368041992,\n",
       " 13.750956487655639,\n",
       " 13.749298238754273,\n",
       " 13.740963649749755,\n",
       " 13.733620405197144,\n",
       " 13.727556467056274,\n",
       " 13.71888542175293,\n",
       " 13.708762979507446,\n",
       " 13.704730653762818,\n",
       " 13.70143518447876,\n",
       " 13.699993658065797,\n",
       " 13.694732666015625,\n",
       " 13.688522386550904,\n",
       " 13.681037950515748,\n",
       " 13.677151966094971,\n",
       " 13.669327211380004,\n",
       " 13.661913585662841,\n",
       " 13.654691791534423,\n",
       " 13.652073955535888,\n",
       " 13.642605543136597,\n",
       " 13.638586950302123,\n",
       " 13.633857679367065,\n",
       " 13.628983354568481,\n",
       " 13.625518798828125,\n",
       " 13.620094728469848,\n",
       " 13.612288427352905,\n",
       " 13.613187503814697,\n",
       " 13.607000827789307,\n",
       " 13.605218553543091,\n",
       " 13.603407096862792,\n",
       " 13.598673963546753,\n",
       " 13.591227293014526,\n",
       " 13.580307054519654,\n",
       " 13.574776983261108,\n",
       " 13.572237682342529,\n",
       " 13.568891572952271,\n",
       " 13.562448692321777,\n",
       " 13.558878135681152,\n",
       " 13.547749757766724,\n",
       " 13.540589332580566,\n",
       " 13.537331199645996,\n",
       " 13.531274557113647,\n",
       " 13.5260178565979,\n",
       " 13.526410961151123,\n",
       " 13.524633407592773,\n",
       " 13.521381282806397,\n",
       " 13.520875310897827,\n",
       " 13.519009780883788,\n",
       " 13.515006637573242,\n",
       " 13.510141324996948,\n",
       " 13.505486726760864,\n",
       " 13.500799942016602,\n",
       " 13.504208707809449,\n",
       " 13.502831983566285,\n",
       " 13.495445394515992,\n",
       " 13.493290185928345,\n",
       " 13.484335470199586,\n",
       " 13.479209232330323,\n",
       " 13.474242639541625,\n",
       " 13.474132776260376,\n",
       " 13.471389198303223,\n",
       " 13.468113470077515,\n",
       " 13.458021068572998,\n",
       " 13.46083631515503,\n",
       " 13.462526321411133,\n",
       " 13.456501007080078,\n",
       " 13.454387855529784,\n",
       " 13.445809507369995,\n",
       " 13.433418989181519,\n",
       " 13.427643871307373,\n",
       " 13.420478296279907,\n",
       " 13.41690173149109,\n",
       " 13.415207862854004,\n",
       " 13.403825855255127,\n",
       " 13.394903326034546,\n",
       " 13.391698837280273,\n",
       " 13.394648838043214,\n",
       " 13.381847620010376,\n",
       " 13.375130939483643,\n",
       " 13.368087244033813,\n",
       " 13.370341157913208,\n",
       " 13.362653303146363,\n",
       " 13.360486507415771,\n",
       " 13.348274946212769,\n",
       " 13.341384887695312,\n",
       " 13.330156517028808,\n",
       " 13.32622675895691,\n",
       " 13.328655767440797,\n",
       " 13.323376750946045,\n",
       " 13.325840950012207,\n",
       " 13.323690032958984,\n",
       " 13.316469955444337,\n",
       " 13.30861430168152,\n",
       " 13.306585693359375,\n",
       " 13.301757287979125,\n",
       " 13.296478700637817,\n",
       " 13.298133516311646,\n",
       " 13.301636266708375,\n",
       " 13.29451060295105,\n",
       " 13.282592153549194,\n",
       " 13.27236328125,\n",
       " 13.264400339126587,\n",
       " 13.253408002853394,\n",
       " 13.245098304748534,\n",
       " 13.249244785308838,\n",
       " 13.251318454742432,\n",
       " 13.248367595672608,\n",
       " 13.240615367889404,\n",
       " 13.237807416915894,\n",
       " 13.23660922050476,\n",
       " 13.232321119308471,\n",
       " 13.22563362121582,\n",
       " 13.223668098449707,\n",
       " 13.22118330001831,\n",
       " 13.217209339141846,\n",
       " 13.21558756828308,\n",
       " 13.21386923789978,\n",
       " 13.211064291000366,\n",
       " 13.208685922622681,\n",
       " 13.205911874771118,\n",
       " 13.204972457885741,\n",
       " 13.204260921478271,\n",
       " 13.19564437866211,\n",
       " 13.187587881088257,\n",
       " 13.180726575851441,\n",
       " 13.181129121780396,\n",
       " 13.177837085723876,\n",
       " 13.174477672576904,\n",
       " 13.170040225982666,\n",
       " 13.163086652755737,\n",
       " 13.16626238822937,\n",
       " 13.153311395645142,\n",
       " 13.149241733551026,\n",
       " 13.136652946472168,\n",
       " 13.138808584213256,\n",
       " 13.136234092712403,\n",
       " 13.135832405090332,\n",
       " 13.122869396209717,\n",
       " 13.11153416633606,\n",
       " 13.099164247512817,\n",
       " 13.096882438659668,\n",
       " 13.09904923439026,\n",
       " 13.101949453353882,\n",
       " 13.09408392906189,\n",
       " 13.094433689117432,\n",
       " 13.09123477935791,\n",
       " 13.086829948425294,\n",
       " 13.082191228866577,\n",
       " 13.076464176177979,\n",
       " 13.074325704574585,\n",
       " 13.076332426071167,\n",
       " 13.067878532409669,\n",
       " 13.059694576263428,\n",
       " 13.062030029296874,\n",
       " 13.052136754989624,\n",
       " 13.041632795333863,\n",
       " 13.034329891204834,\n",
       " 13.030712127685547,\n",
       " 13.02637038230896,\n",
       " 13.022809696197509,\n",
       " 13.010836315155029,\n",
       " 13.003699493408202,\n",
       " 12.997333431243897,\n",
       " 12.993365478515624,\n",
       " 12.98705177307129,\n",
       " 12.975570631027221,\n",
       " 12.974676704406738,\n",
       " 12.971216440200806,\n",
       " 12.967945003509522,\n",
       " 12.967147207260131,\n",
       " 12.960853242874146,\n",
       " 12.954745960235595,\n",
       " 12.957017040252685,\n",
       " 12.950302076339721,\n",
       " 12.945525598526,\n",
       " 12.942249011993407,\n",
       " 12.933661651611327,\n",
       " 12.93730731010437,\n",
       " 12.938385772705079,\n",
       " 12.935580396652222,\n",
       " 12.93190598487854,\n",
       " 12.922680044174195,\n",
       " 12.919037818908691,\n",
       " 12.920301675796509,\n",
       " 12.923955059051513,\n",
       " 12.919058847427369,\n",
       " 12.917097187042236,\n",
       " 12.915099906921387,\n",
       " 12.908729553222656,\n",
       " 12.905507040023803,\n",
       " 12.89453616142273,\n",
       " 12.88417854309082,\n",
       " 12.880424737930298,\n",
       " 12.875128555297852,\n",
       " 12.874585676193238,\n",
       " 12.875731086730957,\n",
       " 12.872284984588623,\n",
       " 12.86716561317444,\n",
       " 12.862168121337891,\n",
       " 12.858761072158813,\n",
       " 12.85082516670227,\n",
       " 12.846737480163574,\n",
       " 12.84241247177124,\n",
       " 12.838114070892335,\n",
       " 12.836194896697998,\n",
       " 12.827940130233765,\n",
       " 12.828381729125976,\n",
       " 12.827094268798827,\n",
       " 12.824198770523072,\n",
       " 12.816999292373657,\n",
       " 12.813351058959961,\n",
       " 12.809185266494751,\n",
       " 12.800117254257202,\n",
       " 12.798286056518554,\n",
       " 12.79684624671936,\n",
       " 12.78582558631897,\n",
       " 12.782859277725219,\n",
       " 12.775669240951538,\n",
       " 12.778089237213134,\n",
       " 12.77950930595398,\n",
       " 12.769611310958862,\n",
       " 12.764371347427367,\n",
       " 12.768469333648682,\n",
       " 12.763270139694214,\n",
       " 12.760907220840455,\n",
       " 12.759239101409912,\n",
       " 12.757001495361328,\n",
       " 12.746165800094605,\n",
       " 12.746680355072021,\n",
       " 12.744404554367065,\n",
       " 12.734749031066894,\n",
       " 12.733679580688477,\n",
       " 12.731101655960083,\n",
       " 12.721704053878785,\n",
       " 12.722673082351685,\n",
       " 12.717410802841187,\n",
       " 12.70932126045227,\n",
       " 12.702277135848998,\n",
       " 12.698456382751464,\n",
       " 12.699935245513917,\n",
       " 12.69378204345703,\n",
       " 12.683124876022339,\n",
       " 12.68476767539978,\n",
       " 12.678626489639282,\n",
       " 12.67461347579956,\n",
       " 12.674453830718994,\n",
       " 12.677224016189575,\n",
       " 12.674684715270995,\n",
       " 12.667909240722656,\n",
       " 12.660325241088866,\n",
       " 12.651658916473389,\n",
       " 12.647776794433593,\n",
       " 12.644999313354493,\n",
       " 12.64071249961853,\n",
       " 12.63522834777832,\n",
       " 12.629149389266967,\n",
       " 12.624785757064819,\n",
       " 12.61527099609375,\n",
       " 12.605645942687989,\n",
       " 12.609368419647216,\n",
       " 12.607658243179321,\n",
       " 12.606770753860474,\n",
       " 12.60212516784668,\n",
       " 12.593176889419556,\n",
       " 12.586979055404663,\n",
       " 12.5828866481781,\n",
       " 12.578334617614747,\n",
       " 12.572737169265746,\n",
       " 12.568374824523925,\n",
       " 12.563137006759643,\n",
       " 12.561478757858277,\n",
       " 12.562225484848023,\n",
       " 12.561092948913574,\n",
       " 12.552651071548462,\n",
       " 12.552639055252076,\n",
       " 12.550866651535035,\n",
       " 12.551183366775513,\n",
       " 12.553737688064576,\n",
       " 12.54362382888794,\n",
       " 12.541356182098388,\n",
       " 12.534590148925782,\n",
       " 12.536058712005616,\n",
       " 12.529895639419555,\n",
       " 12.528148984909057,\n",
       " 12.524622201919556,\n",
       " 12.522931337356567,\n",
       " 12.514641809463502,\n",
       " 12.509753322601318,\n",
       " 12.504376459121705,\n",
       " 12.508351278305053,\n",
       " 12.499578952789307,\n",
       " 12.489848327636718,\n",
       " 12.484327697753907,\n",
       " 12.48687686920166,\n",
       " 12.48278875350952,\n",
       " 12.476995611190796,\n",
       " 12.47614631652832,\n",
       " 12.470967292785645,\n",
       " 12.47305212020874,\n",
       " 12.466603231430053,\n",
       " 12.461034536361694,\n",
       " 12.46005220413208,\n",
       " 12.458954000473023,\n",
       " 12.455282163619994,\n",
       " 12.452236032485962,\n",
       " 12.443899297714234,\n",
       " 12.442909669876098,\n",
       " 12.439789295196533,\n",
       " 12.433534383773804,\n",
       " 12.431623792648315,\n",
       " 12.434139490127563,\n",
       " 12.433609056472779,\n",
       " 12.431437540054322,\n",
       " 12.42501654624939,\n",
       " 12.420613002777099,\n",
       " 12.417419672012329,\n",
       " 12.42053918838501,\n",
       " 12.414994525909425,\n",
       " 12.410967779159545,\n",
       " 12.409857559204102,\n",
       " 12.403948974609374,\n",
       " 12.39380078315735,\n",
       " 12.390833187103272,\n",
       " 12.380354976654052,\n",
       " 12.374082899093628,\n",
       " 12.373890209197999,\n",
       " 12.369963455200196,\n",
       " 12.373918962478637,\n",
       " 12.377702808380127,\n",
       " 12.377272796630859,\n",
       " 12.372361993789672,\n",
       " 12.365726423263549,\n",
       " 12.359607124328614,\n",
       " 12.358809757232667,\n",
       " 12.349157238006592,\n",
       " 12.348037147521973,\n",
       " 12.345100450515748,\n",
       " 12.347603273391723,\n",
       " 12.3471848487854,\n",
       " 12.346209812164307,\n",
       " 12.343615579605103,\n",
       " 12.334396934509277,\n",
       " 12.33216233253479,\n",
       " 12.33436131477356,\n",
       " 12.326543426513672,\n",
       " 12.317122650146484,\n",
       " 12.313927173614502,\n",
       " 12.305217933654784,\n",
       " 12.300654745101928,\n",
       " 12.298083686828614,\n",
       " 12.29345440864563,\n",
       " 12.287926483154298,\n",
       " 12.278746461868286,\n",
       " 12.274959611892701,\n",
       " 12.278356790542603,\n",
       " 12.275133419036866,\n",
       " 12.269103813171387,\n",
       " 12.265052604675294,\n",
       " 12.25998044013977,\n",
       " 12.25631160736084,\n",
       " 12.253283929824828,\n",
       " 12.251242017745971,\n",
       " 12.248307037353516,\n",
       " 12.239099979400635,\n",
       " 12.234223937988281,\n",
       " 12.224403619766235,\n",
       " 12.216088771820068,\n",
       " 12.215374660491943,\n",
       " 12.212958097457886,\n",
       " 12.207911252975464,\n",
       " ...]"
      ]
     },
     "execution_count": 30,
     "metadata": {},
     "output_type": "execute_result"
    }
   ],
   "source": [
    "task_loss['0']"
   ]
  },
  {
   "cell_type": "code",
   "execution_count": 31,
   "id": "5f1ef2e4",
   "metadata": {},
   "outputs": [
    {
     "data": {
      "text/plain": [
       "[67.75662231445312,\n",
       " 67.36572456359863,\n",
       " 64.54202079772949,\n",
       " 64.41795921325684,\n",
       " 62.15680122375488,\n",
       " 60.24373435974121,\n",
       " 58.44734001159668,\n",
       " 57.01753616333008,\n",
       " 56.25818634033203,\n",
       " 54.860219955444336,\n",
       " 53.77526092529297,\n",
       " 52.429616928100586,\n",
       " 51.273996353149414,\n",
       " 50.359283447265625,\n",
       " 50.00798416137695,\n",
       " 49.22160720825195,\n",
       " 48.69443321228027,\n",
       " 48.35612487792969,\n",
       " 48.1934871673584,\n",
       " 47.927730560302734,\n",
       " 47.18008613586426,\n",
       " 46.880863189697266,\n",
       " 46.37161064147949,\n",
       " 45.937150955200195,\n",
       " 45.51397514343262,\n",
       " 45.23927688598633,\n",
       " 44.92590522766113,\n",
       " 44.27176475524902,\n",
       " 43.72116470336914,\n",
       " 43.25409698486328,\n",
       " 42.882755279541016,\n",
       " 42.57170486450195,\n",
       " 42.138729095458984,\n",
       " 41.8276481628418,\n",
       " 41.52169418334961,\n",
       " 41.3010139465332,\n",
       " 41.10159873962402,\n",
       " 40.89658546447754,\n",
       " 40.57370376586914,\n",
       " 40.326744079589844,\n",
       " 40.098684310913086,\n",
       " 39.75963020324707,\n",
       " 39.59451866149902,\n",
       " 39.25826454162598,\n",
       " 39.1274995803833,\n",
       " 38.88468933105469,\n",
       " 38.79301834106445,\n",
       " 38.51225662231445,\n",
       " 38.25901794433594,\n",
       " 38.0629243850708,\n",
       " 37.83557415008545,\n",
       " 37.63091468811035,\n",
       " 37.40384578704834,\n",
       " 37.05827713012695,\n",
       " 36.70334339141846,\n",
       " 36.489163398742676,\n",
       " 36.165446281433105,\n",
       " 35.93874454498291,\n",
       " 35.78642559051514,\n",
       " 35.71406078338623,\n",
       " 35.67099952697754,\n",
       " 35.511128425598145,\n",
       " 35.28825569152832,\n",
       " 35.07830619812012,\n",
       " 34.989545822143555,\n",
       " 34.663339614868164,\n",
       " 34.44620704650879,\n",
       " 34.27225685119629,\n",
       " 33.94453716278076,\n",
       " 33.675217628479004,\n",
       " 33.661587715148926,\n",
       " 33.38368797302246,\n",
       " 33.10853385925293,\n",
       " 32.92601203918457,\n",
       " 32.797425270080566,\n",
       " 32.71090126037598,\n",
       " 32.52457237243652,\n",
       " 32.434213638305664,\n",
       " 32.28614044189453,\n",
       " 32.10853672027588,\n",
       " 31.990681648254395,\n",
       " 31.820549964904785,\n",
       " 31.70174503326416,\n",
       " 31.599886894226074,\n",
       " 31.42710018157959,\n",
       " 31.280184745788574,\n",
       " 31.123695373535156,\n",
       " 30.954580307006836,\n",
       " 30.85861873626709,\n",
       " 30.655768394470215,\n",
       " 30.635496139526367,\n",
       " 30.50919246673584,\n",
       " 30.33261489868164,\n",
       " 30.13265609741211,\n",
       " 29.889373779296875,\n",
       " 29.717575073242188,\n",
       " 29.559292793273926,\n",
       " 29.38314723968506,\n",
       " 29.28039836883545,\n",
       " 29.043910026550293,\n",
       " 28.876912117004395,\n",
       " 28.74556255340576,\n",
       " 28.530879974365234,\n",
       " 28.513651847839355,\n",
       " 28.34215259552002,\n",
       " 28.21784782409668,\n",
       " 28.080625534057617,\n",
       " 27.968530654907227,\n",
       " 27.840426445007324,\n",
       " 27.69110679626465,\n",
       " 27.585379600524902,\n",
       " 27.47259521484375,\n",
       " 27.453886032104492,\n",
       " 27.39931583404541,\n",
       " 27.336142539978027,\n",
       " 27.28709888458252,\n",
       " 27.178471565246582,\n",
       " 27.168557167053223,\n",
       " 27.117560386657715,\n",
       " 26.989622116088867,\n",
       " 26.915754318237305,\n",
       " 26.762168884277344,\n",
       " 26.718524932861328,\n",
       " 26.669443130493164,\n",
       " 26.57032012939453,\n",
       " 26.525126457214355,\n",
       " 26.513748168945312,\n",
       " 26.33458709716797,\n",
       " 26.196907997131348,\n",
       " 26.11320209503174,\n",
       " 26.071598052978516,\n",
       " 25.947525024414062,\n",
       " 25.9472713470459,\n",
       " 25.870134353637695,\n",
       " 25.734600067138672,\n",
       " 25.615920066833496,\n",
       " 25.49793243408203,\n",
       " 25.387653350830078,\n",
       " 25.279913902282715,\n",
       " 25.210426330566406,\n",
       " 25.18257236480713,\n",
       " 25.02734088897705,\n",
       " 25.026448249816895,\n",
       " 24.944165229797363,\n",
       " 24.87226676940918,\n",
       " 24.802631378173828,\n",
       " 24.77954387664795,\n",
       " 24.7590913772583,\n",
       " 24.688162803649902,\n",
       " 24.63529109954834,\n",
       " 24.54415225982666,\n",
       " 24.46775245666504,\n",
       " 24.326062202453613,\n",
       " 24.210741996765137,\n",
       " 24.099578857421875,\n",
       " 24.024259567260742,\n",
       " 23.95912265777588,\n",
       " 23.931835174560547,\n",
       " 23.836156845092773,\n",
       " 23.767399787902832,\n",
       " 23.700002670288086,\n",
       " 23.640426635742188,\n",
       " 23.51485538482666,\n",
       " 23.45149326324463,\n",
       " 23.45280170440674,\n",
       " 23.387904167175293,\n",
       " 23.301827430725098,\n",
       " 23.263370513916016,\n",
       " 23.16844654083252,\n",
       " 23.112120628356934,\n",
       " 23.030354499816895,\n",
       " 22.99782657623291,\n",
       " 22.998010635375977,\n",
       " 22.96421718597412,\n",
       " 22.84700298309326,\n",
       " 22.731505393981934,\n",
       " 22.707219123840332,\n",
       " 22.651586532592773,\n",
       " 22.626840591430664,\n",
       " 22.62718391418457,\n",
       " 22.51914405822754,\n",
       " 22.497251510620117,\n",
       " 22.393431663513184,\n",
       " 22.373991012573242,\n",
       " 22.374862670898438,\n",
       " 22.303300857543945,\n",
       " 22.27310848236084,\n",
       " 22.258793830871582,\n",
       " 22.231831550598145,\n",
       " 22.15845012664795,\n",
       " 22.113176345825195,\n",
       " 22.069467544555664,\n",
       " 22.073739051818848,\n",
       " 21.97456169128418,\n",
       " 21.931876182556152,\n",
       " 21.935691833496094,\n",
       " 21.89447593688965,\n",
       " 21.880024909973145,\n",
       " 21.88388156890869,\n",
       " 21.859285354614258,\n",
       " 21.787111282348633,\n",
       " 21.719578742980957,\n",
       " 21.654865264892578,\n",
       " 21.582451820373535,\n",
       " 21.567562103271484,\n",
       " 21.521358489990234,\n",
       " 21.506895065307617,\n",
       " 21.419321060180664,\n",
       " 21.331393241882324,\n",
       " 21.27081871032715,\n",
       " 21.27471160888672,\n",
       " 21.205970764160156,\n",
       " 21.184743881225586,\n",
       " 21.14081859588623,\n",
       " 21.141780853271484,\n",
       " 21.10179328918457,\n",
       " 21.061320304870605,\n",
       " 21.06252098083496,\n",
       " 21.00083065032959,\n",
       " 21.001641273498535,\n",
       " 20.981236457824707,\n",
       " 20.95881462097168,\n",
       " 20.938786506652832,\n",
       " 20.921524047851562,\n",
       " 20.85874843597412,\n",
       " 20.817326545715332,\n",
       " 20.759296417236328,\n",
       " 20.74240779876709,\n",
       " 20.72866153717041,\n",
       " 20.662467002868652,\n",
       " 20.623303413391113,\n",
       " 20.58516216278076,\n",
       " 20.523252487182617,\n",
       " 20.46681022644043,\n",
       " 20.43153190612793,\n",
       " 20.396142959594727,\n",
       " 20.378995895385742,\n",
       " 20.36211109161377,\n",
       " 20.327462196350098,\n",
       " 20.292166709899902,\n",
       " 20.24086284637451,\n",
       " 20.191783905029297,\n",
       " 20.14508819580078,\n",
       " 20.145010948181152,\n",
       " 20.11281967163086,\n",
       " 20.04727840423584,\n",
       " 19.98289394378662,\n",
       " 19.939419746398926,\n",
       " 19.91916275024414,\n",
       " 19.91825294494629,\n",
       " 19.854280471801758,\n",
       " 19.82169818878174,\n",
       " 19.80904769897461,\n",
       " 19.79297637939453,\n",
       " 19.74665641784668,\n",
       " 19.732324600219727,\n",
       " 19.70043659210205,\n",
       " 19.68446922302246,\n",
       " 19.64051628112793,\n",
       " 19.581512451171875,\n",
       " 19.554122924804688,\n",
       " 19.51126003265381,\n",
       " 19.48352336883545,\n",
       " 19.48404026031494,\n",
       " 19.470285415649414,\n",
       " 19.454636573791504,\n",
       " 19.414649963378906,\n",
       " 19.41569709777832,\n",
       " 19.376709938049316,\n",
       " 19.33149528503418,\n",
       " 19.31799030303955,\n",
       " 19.318740844726562,\n",
       " 19.304309844970703,\n",
       " 19.290907859802246,\n",
       " 19.291239738464355,\n",
       " 19.277853965759277,\n",
       " 19.237631797790527,\n",
       " 19.21074390411377,\n",
       " 19.172471046447754,\n",
       " 19.14855670928955,\n",
       " 19.133846282958984,\n",
       " 19.10672664642334,\n",
       " 19.08275032043457,\n",
       " 19.04302215576172,\n",
       " 19.015962600708008,\n",
       " 18.977160453796387,\n",
       " 18.942938804626465,\n",
       " 18.917536735534668,\n",
       " 18.893125534057617,\n",
       " 18.879847526550293,\n",
       " 18.843941688537598,\n",
       " 18.831409454345703,\n",
       " 18.818143844604492,\n",
       " 18.807183265686035,\n",
       " 18.783933639526367,\n",
       " 18.75147533416748,\n",
       " 18.73758602142334,\n",
       " 18.72718048095703,\n",
       " 18.692075729370117,\n",
       " 18.658843994140625,\n",
       " 18.63279914855957,\n",
       " 18.609235763549805,\n",
       " 18.59042263031006,\n",
       " 18.587687492370605,\n",
       " 18.564692497253418,\n",
       " 18.532058715820312,\n",
       " 18.532894134521484,\n",
       " 18.488862991333008,\n",
       " 18.47996997833252,\n",
       " 18.46071720123291,\n",
       " 18.452190399169922,\n",
       " 18.423946380615234,\n",
       " 18.399073600769043,\n",
       " 18.378100395202637,\n",
       " 18.3560733795166,\n",
       " 18.346240997314453,\n",
       " 18.32169246673584,\n",
       " 18.31732749938965,\n",
       " 18.293431282043457,\n",
       " 18.29251194000244,\n",
       " 18.25695514678955,\n",
       " 18.225581169128418,\n",
       " 18.213167190551758,\n",
       " 18.19464874267578,\n",
       " 18.167396545410156,\n",
       " 18.127619743347168,\n",
       " 18.109331130981445,\n",
       " 18.087897300720215,\n",
       " 18.076885223388672,\n",
       " 18.053577423095703,\n",
       " 18.025983810424805,\n",
       " 17.9937162399292,\n",
       " 17.975611686706543,\n",
       " 17.972920417785645,\n",
       " 17.953472137451172,\n",
       " 17.952969551086426,\n",
       " 17.926036834716797,\n",
       " 17.91054058074951,\n",
       " 17.8859281539917,\n",
       " 17.883763313293457,\n",
       " 17.86240863800049,\n",
       " 17.845016479492188,\n",
       " 17.822035789489746,\n",
       " 17.795832633972168,\n",
       " 17.78120517730713,\n",
       " 17.768695831298828,\n",
       " 17.76235294342041,\n",
       " 17.750267028808594,\n",
       " 17.729254722595215,\n",
       " 17.71892738342285,\n",
       " 17.711541175842285,\n",
       " 17.700751304626465,\n",
       " 17.686628341674805,\n",
       " 17.678102493286133,\n",
       " 17.663186073303223,\n",
       " 17.632699012756348,\n",
       " 17.61362075805664,\n",
       " 17.592820167541504,\n",
       " 17.59439468383789,\n",
       " 17.574893951416016,\n",
       " 17.569976806640625,\n",
       " 17.555410385131836,\n",
       " 17.53538703918457,\n",
       " 17.511561393737793,\n",
       " 17.48982524871826,\n",
       " 17.480183601379395,\n",
       " 17.477949142456055,\n",
       " 17.47722339630127,\n",
       " 17.44852638244629,\n",
       " 17.436150550842285,\n",
       " 17.408848762512207,\n",
       " 17.40307903289795,\n",
       " 17.393903732299805,\n",
       " 17.374186515808105,\n",
       " 17.37064838409424,\n",
       " 17.366647720336914,\n",
       " 17.358941078186035,\n",
       " 17.355822563171387,\n",
       " 17.3356876373291,\n",
       " 17.33412265777588,\n",
       " 17.331276893615723,\n",
       " 17.325921058654785,\n",
       " 17.322072982788086,\n",
       " 17.30431079864502,\n",
       " 17.280415534973145,\n",
       " 17.27262592315674,\n",
       " 17.261836051940918,\n",
       " 17.239445686340332,\n",
       " 17.23077964782715,\n",
       " 17.224721908569336,\n",
       " 17.22575855255127,\n",
       " 17.207231521606445,\n",
       " 17.205588340759277,\n",
       " 17.193880081176758,\n",
       " 17.186697959899902,\n",
       " 17.17346477508545,\n",
       " 17.160621643066406,\n",
       " 17.139338493347168,\n",
       " 17.128795623779297,\n",
       " 17.12353515625,\n",
       " 17.124337196350098,\n",
       " 17.122780799865723,\n",
       " 17.10798931121826,\n",
       " 17.097832679748535,\n",
       " 17.081421852111816,\n",
       " 17.065617561340332,\n",
       " 17.059775352478027,\n",
       " 17.049363136291504,\n",
       " 17.03458595275879,\n",
       " 17.034356117248535,\n",
       " 17.033698081970215,\n",
       " 17.023765563964844,\n",
       " 17.017762184143066,\n",
       " 17.013418197631836,\n",
       " 17.00762176513672,\n",
       " 16.982808113098145,\n",
       " 16.97711181640625,\n",
       " 16.972195625305176,\n",
       " 16.9523868560791,\n",
       " 16.940848350524902,\n",
       " 16.928624153137207,\n",
       " 16.91313076019287,\n",
       " 16.908111572265625,\n",
       " 16.902069091796875,\n",
       " 16.889001846313477,\n",
       " 16.89011573791504,\n",
       " 16.872849464416504,\n",
       " 16.865416526794434,\n",
       " 16.86337375640869,\n",
       " 16.859492301940918,\n",
       " 16.854183197021484,\n",
       " 16.832761764526367,\n",
       " 16.824894905090332,\n",
       " 16.812454223632812,\n",
       " 16.795557498931885,\n",
       " 16.773036003112793,\n",
       " 16.76473331451416,\n",
       " 16.760337829589844,\n",
       " 16.754996299743652,\n",
       " 16.744390964508057,\n",
       " 16.738772869110107,\n",
       " 16.732079029083252,\n",
       " 16.734004974365234,\n",
       " 16.725809574127197,\n",
       " 16.718230724334717,\n",
       " 16.70901346206665,\n",
       " 16.702770709991455,\n",
       " 16.689437866210938,\n",
       " 16.66982126235962,\n",
       " 16.665728092193604,\n",
       " 16.662521362304688,\n",
       " 16.64293098449707,\n",
       " 16.622182846069336,\n",
       " 16.612823486328125,\n",
       " 16.593559741973877,\n",
       " 16.58155918121338,\n",
       " 16.56490659713745,\n",
       " 16.559391021728516,\n",
       " 16.55472707748413,\n",
       " 16.54448890686035,\n",
       " 16.53736639022827,\n",
       " 16.531479835510254,\n",
       " 16.52201795578003,\n",
       " 16.514158248901367,\n",
       " 16.505069255828857,\n",
       " 16.50331974029541,\n",
       " 16.489017486572266,\n",
       " 16.47417163848877,\n",
       " 16.4575514793396,\n",
       " 16.453450679779053,\n",
       " 16.452293872833252,\n",
       " 16.444893836975098,\n",
       " 16.435646533966064,\n",
       " 16.420125007629395,\n",
       " 16.41861391067505,\n",
       " 16.420557022094727,\n",
       " 16.41659927368164,\n",
       " 16.407878875732422,\n",
       " 16.399802684783936,\n",
       " 16.390917778015137,\n",
       " 16.390843391418457,\n",
       " 16.38584041595459,\n",
       " 16.37682294845581,\n",
       " 16.371087551116943,\n",
       " 16.361228466033936,\n",
       " 16.346680641174316,\n",
       " 16.337753295898438,\n",
       " 16.328915119171143,\n",
       " 16.322628021240234,\n",
       " 16.31278657913208,\n",
       " 16.30919122695923,\n",
       " 16.302242279052734,\n",
       " 16.2825608253479,\n",
       " 16.267714500427246,\n",
       " 16.265262126922607,\n",
       " 16.254784107208252,\n",
       " 16.251380920410156,\n",
       " 16.2481746673584,\n",
       " 16.24330759048462,\n",
       " 16.226776123046875,\n",
       " 16.21740961074829,\n",
       " 16.210196018218994,\n",
       " 16.19408416748047,\n",
       " 16.184550762176514,\n",
       " 16.175580978393555,\n",
       " 16.164426803588867,\n",
       " 16.157901287078857,\n",
       " 16.146335124969482,\n",
       " 16.13049554824829,\n",
       " 16.119581699371338,\n",
       " 16.10581636428833,\n",
       " 16.101573944091797,\n",
       " 16.093494415283203,\n",
       " 16.08056879043579,\n",
       " 16.07896900177002,\n",
       " 16.076639652252197,\n",
       " 16.072630882263184,\n",
       " 16.06434202194214,\n",
       " 16.055578231811523,\n",
       " 16.044697761535645,\n",
       " 16.041147708892822,\n",
       " 16.02882432937622,\n",
       " 16.01975107192993,\n",
       " 16.00685214996338,\n",
       " 16.004337310791016,\n",
       " 15.998456478118896,\n",
       " 15.990062713623047,\n",
       " 15.98813533782959,\n",
       " 15.978361129760742,\n",
       " 15.97300100326538,\n",
       " 15.971168518066406,\n",
       " 15.963218688964844,\n",
       " 15.950110912322998,\n",
       " 15.941444873809814,\n",
       " 15.93409013748169,\n",
       " 15.922830581665039,\n",
       " 15.916815757751465,\n",
       " 15.902918338775635,\n",
       " 15.89201545715332,\n",
       " 15.876523971557617,\n",
       " 15.869061946868896,\n",
       " 15.86279010772705,\n",
       " 15.852907657623291,\n",
       " 15.8500657081604,\n",
       " 15.83680534362793,\n",
       " 15.838213920593262,\n",
       " 15.825355529785156,\n",
       " 15.813338279724121,\n",
       " 15.810365200042725,\n",
       " 15.804376125335693,\n",
       " 15.79388952255249,\n",
       " 15.780552387237549,\n",
       " 15.765495300292969,\n",
       " 15.756394386291504,\n",
       " 15.748267650604248,\n",
       " 15.742916107177734,\n",
       " 15.736273765563965,\n",
       " 15.728119373321533,\n",
       " 15.715423583984375,\n",
       " 15.710259437561035,\n",
       " 15.703071117401123,\n",
       " 15.695297718048096,\n",
       " 15.685060024261475,\n",
       " 15.679924964904785,\n",
       " 15.667255878448486,\n",
       " 15.65945816040039,\n",
       " 15.64960527420044,\n",
       " 15.652039051055908,\n",
       " 15.643256187438965,\n",
       " 15.642719268798828,\n",
       " 15.628631591796875,\n",
       " 15.620961666107178,\n",
       " 15.614943504333496,\n",
       " 15.60501766204834,\n",
       " 15.590939998626709,\n",
       " 15.5871901512146,\n",
       " 15.581735610961914,\n",
       " 15.58188247680664,\n",
       " 15.581042289733887,\n",
       " 15.573801040649414,\n",
       " 15.564291954040527,\n",
       " 15.564112663269043,\n",
       " 15.559420585632324,\n",
       " 15.549413681030273,\n",
       " 15.541869163513184,\n",
       " 15.53266191482544,\n",
       " 15.528079986572266,\n",
       " 15.524383544921875,\n",
       " 15.5256929397583,\n",
       " 15.52165937423706,\n",
       " 15.516694068908691,\n",
       " 15.51683759689331,\n",
       " 15.518562316894531,\n",
       " 15.508013725280762,\n",
       " 15.5048246383667,\n",
       " 15.494441986083984,\n",
       " 15.486560344696045,\n",
       " 15.486266136169434,\n",
       " 15.48258352279663,\n",
       " 15.471847534179688,\n",
       " 15.461774826049805,\n",
       " 15.454196453094482,\n",
       " 15.45600700378418,\n",
       " 15.448473930358887,\n",
       " 15.449070453643799,\n",
       " 15.443155765533447,\n",
       " 15.439011096954346,\n",
       " 15.439569473266602,\n",
       " 15.432582378387451,\n",
       " 15.42613697052002,\n",
       " 15.41940975189209,\n",
       " 15.406268119812012,\n",
       " 15.400739669799805,\n",
       " 15.394447326660156,\n",
       " 15.3914475440979,\n",
       " 15.376352310180664,\n",
       " 15.369405746459961,\n",
       " 15.359432697296143,\n",
       " 15.356990814208984,\n",
       " 15.354509830474854,\n",
       " 15.347474575042725,\n",
       " 15.343080997467041,\n",
       " 15.338368892669678,\n",
       " 15.330821514129639,\n",
       " 15.325335502624512,\n",
       " 15.31861686706543,\n",
       " 15.307549476623535,\n",
       " 15.301109790802002,\n",
       " 15.291955947875977,\n",
       " 15.289863586425781,\n",
       " 15.281200408935547,\n",
       " 15.2788405418396,\n",
       " 15.276998043060303,\n",
       " 15.26773738861084,\n",
       " 15.259578227996826,\n",
       " 15.252840518951416,\n",
       " 15.243206024169922,\n",
       " 15.231958866119385,\n",
       " 15.227478504180908,\n",
       " 15.223816871643066,\n",
       " 15.222215175628662,\n",
       " 15.21636962890625,\n",
       " 15.209469318389893,\n",
       " 15.20115327835083,\n",
       " 15.1968355178833,\n",
       " 15.188141345977783,\n",
       " 15.179903984069824,\n",
       " 15.171879768371582,\n",
       " 15.168971061706543,\n",
       " 15.158450603485107,\n",
       " 15.153985500335693,\n",
       " 15.148730754852295,\n",
       " 15.143314838409424,\n",
       " 15.13946533203125,\n",
       " 15.13343858718872,\n",
       " 15.124764919281006,\n",
       " 15.125763893127441,\n",
       " 15.118889808654785,\n",
       " 15.116909503936768,\n",
       " 15.114896774291992,\n",
       " 15.10963773727417,\n",
       " 15.10136365890503,\n",
       " 15.089230060577393,\n",
       " 15.083085536956787,\n",
       " 15.0802640914917,\n",
       " 15.07654619216919,\n",
       " 15.069387435913086,\n",
       " 15.065420150756836,\n",
       " 15.05305528640747,\n",
       " 15.045099258422852,\n",
       " 15.041479110717773,\n",
       " 15.034749507904053,\n",
       " 15.028908729553223,\n",
       " 15.029345512390137,\n",
       " 15.02737045288086,\n",
       " 15.023756980895996,\n",
       " 15.023194789886475,\n",
       " 15.021121978759766,\n",
       " 15.016674041748047,\n",
       " 15.011268138885498,\n",
       " 15.006096363067627,\n",
       " 15.00088882446289,\n",
       " 15.004676342010498,\n",
       " 15.003146648406982,\n",
       " 14.99493932723999,\n",
       " 14.992544651031494,\n",
       " 14.982594966888428,\n",
       " 14.976899147033691,\n",
       " 14.971380710601807,\n",
       " 14.971258640289307,\n",
       " 14.968210220336914,\n",
       " 14.96457052230835,\n",
       " 14.953356742858887,\n",
       " 14.9564847946167,\n",
       " 14.958362579345703,\n",
       " 14.951667785644531,\n",
       " 14.949319839477539,\n",
       " 14.939788341522217,\n",
       " 14.926021099090576,\n",
       " 14.919604301452637,\n",
       " 14.91164255142212,\n",
       " 14.907668590545654,\n",
       " 14.905786514282227,\n",
       " 14.893139839172363,\n",
       " 14.883225917816162,\n",
       " 14.87966537475586,\n",
       " 14.882943153381348,\n",
       " 14.868719577789307,\n",
       " 14.86125659942627,\n",
       " 14.853430271148682,\n",
       " 14.855934619903564,\n",
       " 14.847392559051514,\n",
       " 14.844985008239746,\n",
       " 14.831416606903076,\n",
       " 14.823760986328125,\n",
       " 14.811285018920898,\n",
       " 14.806918621063232,\n",
       " 14.809617519378662,\n",
       " 14.803751945495605,\n",
       " 14.806489944458008,\n",
       " 14.804100036621094,\n",
       " 14.796077728271484,\n",
       " 14.787349224090576,\n",
       " 14.78509521484375,\n",
       " 14.779730319976807,\n",
       " 14.773865222930908,\n",
       " 14.77570390701294,\n",
       " 14.779595851898193,\n",
       " 14.771678447723389,\n",
       " 14.758435726165771,\n",
       " 14.7470703125,\n",
       " 14.738222599029541,\n",
       " 14.726008892059326,\n",
       " 14.716775894165039,\n",
       " 14.721383094787598,\n",
       " 14.723687171936035,\n",
       " 14.72040843963623,\n",
       " 14.71179485321045,\n",
       " 14.708674907684326,\n",
       " 14.707343578338623,\n",
       " 14.702579021453857,\n",
       " 14.695148468017578,\n",
       " 14.692964553833008,\n",
       " 14.690203666687012,\n",
       " 14.68578815460205,\n",
       " 14.683986186981201,\n",
       " 14.682076930999756,\n",
       " 14.67896032333374,\n",
       " 14.676317691802979,\n",
       " 14.673235416412354,\n",
       " 14.672191619873047,\n",
       " 14.671401023864746,\n",
       " 14.661827087402344,\n",
       " 14.652875423431396,\n",
       " 14.645251750946045,\n",
       " 14.64569902420044,\n",
       " 14.642041206359863,\n",
       " 14.63830852508545,\n",
       " 14.633378028869629,\n",
       " 14.625651836395264,\n",
       " 14.629180431365967,\n",
       " 14.614790439605713,\n",
       " 14.610268592834473,\n",
       " 14.596281051635742,\n",
       " 14.598676204681396,\n",
       " 14.595815658569336,\n",
       " 14.595369338989258,\n",
       " 14.580965995788574,\n",
       " 14.568371295928955,\n",
       " 14.554626941680908,\n",
       " 14.552091598510742,\n",
       " 14.55449914932251,\n",
       " 14.557721614837646,\n",
       " 14.5489821434021,\n",
       " 14.549370765686035,\n",
       " 14.545816421508789,\n",
       " 14.540922164916992,\n",
       " 14.535768032073975,\n",
       " 14.529404640197754,\n",
       " 14.527028560638428,\n",
       " 14.529258251190186,\n",
       " 14.519865036010742,\n",
       " 14.510771751403809,\n",
       " 14.51336669921875,\n",
       " 14.502374172210693,\n",
       " 14.490703105926514,\n",
       " 14.482588768005371,\n",
       " 14.478569030761719,\n",
       " 14.473744869232178,\n",
       " 14.469788551330566,\n",
       " 14.4564847946167,\n",
       " 14.448554992675781,\n",
       " 14.441481590270996,\n",
       " 14.43707275390625,\n",
       " 14.430057525634766,\n",
       " 14.417300701141357,\n",
       " 14.41630744934082,\n",
       " 14.412462711334229,\n",
       " 14.408827781677246,\n",
       " 14.407941341400146,\n",
       " 14.40094804763794,\n",
       " 14.39416217803955,\n",
       " 14.396685600280762,\n",
       " 14.389224529266357,\n",
       " 14.383917331695557,\n",
       " 14.380276679992676,\n",
       " 14.370735168457031,\n",
       " 14.374785900115967,\n",
       " 14.375984191894531,\n",
       " 14.372867107391357,\n",
       " 14.368784427642822,\n",
       " 14.358533382415771,\n",
       " 14.354486465454102,\n",
       " 14.35589075088501,\n",
       " 14.359950065612793,\n",
       " 14.354509830474854,\n",
       " 14.352330207824707,\n",
       " 14.35011100769043,\n",
       " 14.343032836914062,\n",
       " 14.339452266693115,\n",
       " 14.32726240158081,\n",
       " 14.315753936767578,\n",
       " 14.311583042144775,\n",
       " 14.30569839477539,\n",
       " 14.305095195770264,\n",
       " 14.306367874145508,\n",
       " 14.302538871765137,\n",
       " 14.296850681304932,\n",
       " 14.291297912597656,\n",
       " 14.287512302398682,\n",
       " 14.27869462966919,\n",
       " 14.274152755737305,\n",
       " 14.269347190856934,\n",
       " 14.264571189880371,\n",
       " 14.262438774108887,\n",
       " 14.25326681137085,\n",
       " 14.25375747680664,\n",
       " 14.252326965332031,\n",
       " 14.249109745025635,\n",
       " 14.24111032485962,\n",
       " 14.237056732177734,\n",
       " 14.232428073883057,\n",
       " 14.222352504730225,\n",
       " 14.220317840576172,\n",
       " 14.2187180519104,\n",
       " 14.206472873687744,\n",
       " 14.203176975250244,\n",
       " 14.195188045501709,\n",
       " 14.197876930236816,\n",
       " 14.19945478439331,\n",
       " 14.188457012176514,\n",
       " 14.182634830474854,\n",
       " 14.187188148498535,\n",
       " 14.181411266326904,\n",
       " 14.178785800933838,\n",
       " 14.176932334899902,\n",
       " 14.174446105957031,\n",
       " 14.16240644454956,\n",
       " 14.162978172302246,\n",
       " 14.160449504852295,\n",
       " 14.149721145629883,\n",
       " 14.14853286743164,\n",
       " 14.145668506622314,\n",
       " 14.135226726531982,\n",
       " 14.136303424835205,\n",
       " 14.130456447601318,\n",
       " 14.12146806716919,\n",
       " 14.113641262054443,\n",
       " 14.109395980834961,\n",
       " 14.111039161682129,\n",
       " 14.104202270507812,\n",
       " 14.092360973358154,\n",
       " 14.094186305999756,\n",
       " 14.08736276626587,\n",
       " 14.082903861999512,\n",
       " 14.08272647857666,\n",
       " 14.085804462432861,\n",
       " 14.082983016967773,\n",
       " 14.075454711914062,\n",
       " 14.067028045654297,\n",
       " 14.057398796081543,\n",
       " 14.053085327148438,\n",
       " 14.049999237060547,\n",
       " 14.045236110687256,\n",
       " 14.039142608642578,\n",
       " 14.03238821029663,\n",
       " 14.027539730072021,\n",
       " 14.0169677734375,\n",
       " 14.00627326965332,\n",
       " 14.010409355163574,\n",
       " 14.008509159088135,\n",
       " 14.00752305984497,\n",
       " 14.002361297607422,\n",
       " 13.992418766021729,\n",
       " 13.985532283782959,\n",
       " 13.980985164642334,\n",
       " 13.975927352905273,\n",
       " 13.96970796585083,\n",
       " 13.964860916137695,\n",
       " 13.959041118621826,\n",
       " 13.95719861984253,\n",
       " 13.958028316497803,\n",
       " 13.956769943237305,\n",
       " 13.947390079498291,\n",
       " 13.947376728057861,\n",
       " 13.945407390594482,\n",
       " 13.945759296417236,\n",
       " 13.948597431182861,\n",
       " 13.937359809875488,\n",
       " 13.934840202331543,\n",
       " 13.927322387695312,\n",
       " 13.928954124450684,\n",
       " 13.922106266021729,\n",
       " 13.920165538787842,\n",
       " 13.916246891021729,\n",
       " 13.914368152618408,\n",
       " 13.905157566070557,\n",
       " 13.899725914001465,\n",
       " 13.893751621246338,\n",
       " 13.898168087005615,\n",
       " 13.888421058654785,\n",
       " 13.877609252929688,\n",
       " 13.871475219726562,\n",
       " 13.874307632446289,\n",
       " 13.869765281677246,\n",
       " 13.863328456878662,\n",
       " 13.862384796142578,\n",
       " 13.856630325317383,\n",
       " 13.858946800231934,\n",
       " 13.851781368255615,\n",
       " 13.845593929290771,\n",
       " 13.844502449035645,\n",
       " 13.843282222747803,\n",
       " 13.839202404022217,\n",
       " 13.835817813873291,\n",
       " 13.826554775238037,\n",
       " 13.82545518875122,\n",
       " 13.821988105773926,\n",
       " 13.815038204193115,\n",
       " 13.812915325164795,\n",
       " 13.815710544586182,\n",
       " 13.815121173858643,\n",
       " 13.812708377838135,\n",
       " 13.8055739402771,\n",
       " 13.800681114196777,\n",
       " 13.797132968902588,\n",
       " 13.800599098205566,\n",
       " 13.794438362121582,\n",
       " 13.789964199066162,\n",
       " 13.78873062133789,\n",
       " 13.78216552734375,\n",
       " 13.77088975906372,\n",
       " 13.767592430114746,\n",
       " 13.755949974060059,\n",
       " 13.74898099899292,\n",
       " 13.748766899108887,\n",
       " 13.744403839111328,\n",
       " 13.748798847198486,\n",
       " 13.753003120422363,\n",
       " 13.752525329589844,\n",
       " 13.747068881988525,\n",
       " 13.739696025848389,\n",
       " 13.73289680480957,\n",
       " 13.732010841369629,\n",
       " 13.721285820007324,\n",
       " 13.720041275024414,\n",
       " 13.71677827835083,\n",
       " 13.71955919265747,\n",
       " 13.719094276428223,\n",
       " 13.718010902404785,\n",
       " 13.715128421783447,\n",
       " 13.704885482788086,\n",
       " 13.702402591705322,\n",
       " 13.704845905303955,\n",
       " 13.696159362792969,\n",
       " 13.685691833496094,\n",
       " 13.682141304016113,\n",
       " 13.672464370727539,\n",
       " 13.667394161224365,\n",
       " 13.66453742980957,\n",
       " 13.659393787384033,\n",
       " 13.653251647949219,\n",
       " 13.643051624298096,\n",
       " 13.638844013214111,\n",
       " 13.642618656158447,\n",
       " 13.639037132263184,\n",
       " 13.63233757019043,\n",
       " 13.627836227416992,\n",
       " 13.62220048904419,\n",
       " 13.618124008178711,\n",
       " 13.614759922027588,\n",
       " 13.612491130828857,\n",
       " 13.609230041503906,\n",
       " 13.598999977111816,\n",
       " 13.593582153320312,\n",
       " 13.58267068862915,\n",
       " 13.573431968688965,\n",
       " 13.572638511657715,\n",
       " 13.569953441619873,\n",
       " 13.564345836639404,\n",
       " ...]"
      ]
     },
     "execution_count": 31,
     "metadata": {},
     "output_type": "execute_result"
    }
   ],
   "source": [
    "task_loss['1']"
   ]
  },
  {
   "cell_type": "code",
   "execution_count": 33,
   "id": "ca340dd6",
   "metadata": {},
   "outputs": [
    {
     "data": {
      "text/plain": [
       "[0,\n",
       " 0,\n",
       " 0,\n",
       " tensor([[1.9701, 0.0000, 0.0000, 0.0000, 0.0000, 0.0000, 0.0000, 0.0000],\n",
       "         [0.0000, 1.5921, 0.0000, 0.0000, 0.0000, 0.0000, 0.0000, 0.0000],\n",
       "         [0.0000, 0.0000, 0.0033, 0.0000, 0.0000, 0.0000, 0.0000, 0.0000],\n",
       "         [0.0000, 0.0000, 0.0000, 0.1557, 0.0000, 0.0000, 0.0000, 0.0000],\n",
       "         [0.0000, 0.0000, 0.0000, 0.0000, 2.1053, 0.0000, 0.0000, 0.0000]],\n",
       "        grad_fn=<AddBackward0>),\n",
       " tensor([[2.0324, 0.0000, 0.0000, 0.0000, 0.0000, 0.0000, 0.0000, 0.0000],\n",
       "         [0.0000, 1.9731, 0.0000, 0.0000, 0.0000, 0.0000, 0.0000, 0.0000],\n",
       "         [0.0000, 0.0000, 1.0599, 0.0000, 0.0000, 0.0000, 0.0000, 0.0000],\n",
       "         [0.0000, 0.0000, 0.0000, 1.7370, 0.0000, 0.0000, 0.0000, 0.0000],\n",
       "         [0.0000, 0.0000, 0.0000, 0.0000, 1.6656, 0.0000, 0.0000, 0.0000]],\n",
       "        grad_fn=<AddBackward0>),\n",
       " 0,\n",
       " tensor([[ 2.8000,  0.0000,  0.0000,  0.0000,  0.0000,  0.0000,  0.0000,  0.0000],\n",
       "         [ 0.0000,  1.5508,  0.0000,  0.0000,  0.0000,  0.0000,  0.0000,  0.0000],\n",
       "         [ 0.0000,  0.0000,  0.0179,  0.0000,  0.0000,  0.0000,  0.0000,  0.0000],\n",
       "         [ 0.0000,  0.0000,  0.0000,  0.3361,  0.0000,  0.0000,  0.0000,  0.0000],\n",
       "         [ 0.0000,  0.0000,  0.0000,  0.0000, -1.8050,  0.0000,  0.0000,  0.0000]],\n",
       "        grad_fn=<AddBackward0>),\n",
       " 0,\n",
       " tensor([[0.2157, 0.0000, 0.0000, 0.0000, 0.0000, 0.0000, 0.0000, 0.0000],\n",
       "         [0.0000, 0.9639, 0.0000, 0.0000, 0.0000, 0.0000, 0.0000, 0.0000],\n",
       "         [0.0000, 0.0000, 1.1091, 0.0000, 0.0000, 0.0000, 0.0000, 0.0000],\n",
       "         [0.0000, 0.0000, 0.0000, 0.2799, 0.0000, 0.0000, 0.0000, 0.0000],\n",
       "         [0.0000, 0.0000, 0.0000, 0.0000, 0.0234, 0.0000, 0.0000, 0.0000]],\n",
       "        grad_fn=<AddBackward0>),\n",
       " tensor([[0.2166, 0.0000, 0.0000, 0.0000, 0.0000, 0.0000, 0.0000, 0.0000],\n",
       "         [0.0000, 1.2799, 0.0000, 0.0000, 0.0000, 0.0000, 0.0000, 0.0000],\n",
       "         [0.0000, 0.0000, 2.0541, 0.0000, 0.0000, 0.0000, 0.0000, 0.0000],\n",
       "         [0.0000, 0.0000, 0.0000, 0.9533, 0.0000, 0.0000, 0.0000, 0.0000],\n",
       "         [0.0000, 0.0000, 0.0000, 0.0000, 1.2172, 0.0000, 0.0000, 0.0000]],\n",
       "        grad_fn=<AddBackward0>),\n",
       " 0,\n",
       " 0,\n",
       " 0,\n",
       " 0,\n",
       " 0,\n",
       " 0,\n",
       " 0,\n",
       " 0,\n",
       " 0,\n",
       " 0,\n",
       " 0,\n",
       " 0,\n",
       " 0,\n",
       " 0,\n",
       " 0,\n",
       " tensor([[2.6272, 0.0000, 0.0000, 0.0000, 0.0000, 0.0000, 0.0000, 0.0000],\n",
       "         [0.0000, 0.2979, 0.0000, 0.0000, 0.0000, 0.0000, 0.0000, 0.0000],\n",
       "         [0.0000, 0.0000, 2.5686, 0.0000, 0.0000, 0.0000, 0.0000, 0.0000],\n",
       "         [0.0000, 0.0000, 0.0000, 2.0048, 0.0000, 0.0000, 0.0000, 0.0000],\n",
       "         [0.0000, 0.0000, 0.0000, 0.0000, 0.6710, 0.0000, 0.0000, 0.0000]],\n",
       "        grad_fn=<AddBackward0>),\n",
       " 0,\n",
       " 0,\n",
       " 0,\n",
       " tensor([[ 1.3466,  0.0000,  0.0000,  0.0000,  0.0000,  0.0000,  0.0000,  0.0000],\n",
       "         [ 0.0000, -0.2134,  0.0000,  0.0000,  0.0000,  0.0000,  0.0000,  0.0000],\n",
       "         [ 0.0000,  0.0000,  0.8248,  0.0000,  0.0000,  0.0000,  0.0000,  0.0000],\n",
       "         [ 0.0000,  0.0000,  0.0000,  1.8893,  0.0000,  0.0000,  0.0000,  0.0000],\n",
       "         [ 0.0000,  0.0000,  0.0000,  0.0000, -0.2219,  0.0000,  0.0000,  0.0000]],\n",
       "        grad_fn=<AddBackward0>),\n",
       " tensor([[ 1.7955,  0.0000,  0.0000,  0.0000,  0.0000,  0.0000,  0.0000,  0.0000],\n",
       "         [ 0.0000,  0.1433,  0.0000,  0.0000,  0.0000,  0.0000,  0.0000,  0.0000],\n",
       "         [ 0.0000,  0.0000,  1.1964,  0.0000,  0.0000,  0.0000,  0.0000,  0.0000],\n",
       "         [ 0.0000,  0.0000,  0.0000, -0.5180,  0.0000,  0.0000,  0.0000,  0.0000],\n",
       "         [ 0.0000,  0.0000,  0.0000,  0.0000,  0.5377,  0.0000,  0.0000,  0.0000]],\n",
       "        grad_fn=<AddBackward0>),\n",
       " 0,\n",
       " 0,\n",
       " 0,\n",
       " 0,\n",
       " 0,\n",
       " tensor([[1.8600, 0.0000, 0.0000, 0.0000, 0.0000, 0.0000, 0.0000, 0.0000],\n",
       "         [0.0000, 0.0542, 0.0000, 0.0000, 0.0000, 0.0000, 0.0000, 0.0000],\n",
       "         [0.0000, 0.0000, 0.9716, 0.0000, 0.0000, 0.0000, 0.0000, 0.0000],\n",
       "         [0.0000, 0.0000, 0.0000, 0.2806, 0.0000, 0.0000, 0.0000, 0.0000],\n",
       "         [0.0000, 0.0000, 0.0000, 0.0000, 0.2081, 0.0000, 0.0000, 0.0000]],\n",
       "        grad_fn=<AddBackward0>),\n",
       " 0,\n",
       " 0,\n",
       " 0]"
      ]
     },
     "execution_count": 33,
     "metadata": {},
     "output_type": "execute_result"
    }
   ],
   "source": [
    "projection_list[0]"
   ]
  },
  {
   "cell_type": "code",
   "execution_count": 34,
   "id": "b22bba26",
   "metadata": {},
   "outputs": [
    {
     "ename": "TypeError",
     "evalue": "'MLP_Net' object is not iterable",
     "output_type": "error",
     "traceback": [
      "\u001b[1;31m---------------------------------------------------------------------------\u001b[0m",
      "\u001b[1;31mTypeError\u001b[0m                                 Traceback (most recent call last)",
      "\u001b[1;32m<ipython-input-34-192e013750d5>\u001b[0m in \u001b[0;36m<module>\u001b[1;34m\u001b[0m\n\u001b[1;32m----> 1\u001b[1;33m \u001b[0mparameters_to_vector\u001b[0m\u001b[1;33m(\u001b[0m\u001b[0mmodels\u001b[0m\u001b[1;33m[\u001b[0m\u001b[1;36m0\u001b[0m\u001b[1;33m]\u001b[0m\u001b[1;33m)\u001b[0m\u001b[1;33m\u001b[0m\u001b[1;33m\u001b[0m\u001b[0m\n\u001b[0m",
      "\u001b[1;32mC:\\ProgramData\\Anaconda3\\lib\\site-packages\\torch\\nn\\utils\\convert_parameters.py\u001b[0m in \u001b[0;36mparameters_to_vector\u001b[1;34m(parameters)\u001b[0m\n\u001b[0;32m     17\u001b[0m \u001b[1;33m\u001b[0m\u001b[0m\n\u001b[0;32m     18\u001b[0m     \u001b[0mvec\u001b[0m \u001b[1;33m=\u001b[0m \u001b[1;33m[\u001b[0m\u001b[1;33m]\u001b[0m\u001b[1;33m\u001b[0m\u001b[1;33m\u001b[0m\u001b[0m\n\u001b[1;32m---> 19\u001b[1;33m     \u001b[1;32mfor\u001b[0m \u001b[0mparam\u001b[0m \u001b[1;32min\u001b[0m \u001b[0mparameters\u001b[0m\u001b[1;33m:\u001b[0m\u001b[1;33m\u001b[0m\u001b[1;33m\u001b[0m\u001b[0m\n\u001b[0m\u001b[0;32m     20\u001b[0m         \u001b[1;31m# Ensure the parameters are located in the same device\u001b[0m\u001b[1;33m\u001b[0m\u001b[1;33m\u001b[0m\u001b[1;33m\u001b[0m\u001b[0m\n\u001b[0;32m     21\u001b[0m         \u001b[0mparam_device\u001b[0m \u001b[1;33m=\u001b[0m \u001b[0m_check_param_device\u001b[0m\u001b[1;33m(\u001b[0m\u001b[0mparam\u001b[0m\u001b[1;33m,\u001b[0m \u001b[0mparam_device\u001b[0m\u001b[1;33m)\u001b[0m\u001b[1;33m\u001b[0m\u001b[1;33m\u001b[0m\u001b[0m\n",
      "\u001b[1;31mTypeError\u001b[0m: 'MLP_Net' object is not iterable"
     ]
    }
   ],
   "source": [
    "parameters_to_vector(models[0])"
   ]
  },
  {
   "cell_type": "code",
   "execution_count": null,
   "id": "7a06576d",
   "metadata": {},
   "outputs": [],
   "source": []
  }
 ],
 "metadata": {
  "kernelspec": {
   "display_name": "Python 3",
   "language": "python",
   "name": "python3"
  },
  "language_info": {
   "codemirror_mode": {
    "name": "ipython",
    "version": 3
   },
   "file_extension": ".py",
   "mimetype": "text/x-python",
   "name": "python",
   "nbconvert_exporter": "python",
   "pygments_lexer": "ipython3",
   "version": "3.8.8"
  }
 },
 "nbformat": 4,
 "nbformat_minor": 5
}
