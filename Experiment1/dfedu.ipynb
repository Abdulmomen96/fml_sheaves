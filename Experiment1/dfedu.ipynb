{
 "cells": [
  {
   "cell_type": "code",
   "execution_count": 1,
   "id": "74d5d395",
   "metadata": {},
   "outputs": [],
   "source": [
    "import torch\n",
    "import torch.nn as nn\n",
    "import torch.nn.functional as F\n",
    "import torch.optim as optim\n",
    "from torchvision import datasets, transforms\n",
    "from torch.utils.data import DataLoader, Dataset\n",
    "import copy\n",
    "import numpy as np\n",
    "import matplotlib.pyplot as plt\n",
    "from tqdm import tqdm\n",
    "import networkx as nx\n",
    "from torch.nn.utils import parameters_to_vector, vector_to_parameters"
   ]
  },
  {
   "cell_type": "code",
   "execution_count": 2,
   "id": "7617ffd7",
   "metadata": {},
   "outputs": [],
   "source": [
    "# Graph implementation\n",
    "def generate_graph(cluster_sizes=[100,100], pin=0.5, pout=0.01, seed=0):\n",
    "    \"\"\"Generate a random connected graph\"\"\"\n",
    "    probs = np.array([[pin, pout],[pout, pin]])\n",
    "    while True:\n",
    "        g = nx.stochastic_block_model(cluster_sizes, probs)\n",
    "        if nx.algorithms.components.is_connected(g):\n",
    "            return g\n",
    "\n",
    "\n",
    "cluster_sizes = [10, 10]\n",
    "pin = 0.5\n",
    "pout = 0.2\n",
    "seed = 0\n",
    "alpha = 1e-2\n",
    "lamda = 1e-3\n",
    "eta = 1e-2\n",
    "mu = 1e-2\n",
    "no_users = sum(cluster_sizes)\n",
    "batch_size = 20\n",
    "epochs = 1\n",
    "it = 2000\n",
    "G = generate_graph(cluster_sizes, pin, pout, seed)\n",
    "\n",
    "#nx.draw(G, with_labels=True, node_size=100, alpha=1, linewidths=10)\n",
    "#plt.show()"
   ]
  },
  {
   "cell_type": "code",
   "execution_count": 3,
   "id": "809e7c6f",
   "metadata": {},
   "outputs": [
    {
     "name": "stdout",
     "output_type": "stream",
     "text": [
      "[[0.         0.         0.         0.125      0.125      0.125\n",
      "  0.         0.125      0.         0.         0.         0.\n",
      "  0.         0.         0.         0.125      0.1        0.1\n",
      "  0.         0.        ]\n",
      " [0.         0.         0.11111111 0.11111111 0.11111111 0.\n",
      "  0.11111111 0.         0.1        0.         0.         0.\n",
      "  0.         0.         0.         0.11111111 0.         0.1\n",
      "  0.         0.11111111]\n",
      " [0.         0.11111111 0.         0.         0.14285714 0.14285714\n",
      "  0.         0.         0.         0.         0.14285714 0.\n",
      "  0.         0.         0.         0.125      0.         0.\n",
      "  0.         0.14285714]\n",
      " [0.125      0.11111111 0.         0.         0.         0.\n",
      "  0.125      0.         0.1        0.         0.         0.\n",
      "  0.1        0.         0.         0.         0.         0.1\n",
      "  0.         0.125     ]\n",
      " [0.125      0.11111111 0.14285714 0.         0.         0.\n",
      "  0.         0.         0.1        0.         0.         0.\n",
      "  0.         0.         0.         0.         0.         0.\n",
      "  0.         0.        ]\n",
      " [0.125      0.         0.14285714 0.         0.         0.\n",
      "  0.         0.         0.         0.         0.         0.\n",
      "  0.         0.         0.         0.         0.1        0.\n",
      "  0.         0.        ]\n",
      " [0.         0.11111111 0.         0.125      0.         0.\n",
      "  0.         0.         0.1        0.         0.         0.\n",
      "  0.         0.         0.         0.         0.         0.\n",
      "  0.         0.        ]\n",
      " [0.125      0.         0.         0.         0.         0.\n",
      "  0.         0.         0.1        0.         0.         0.\n",
      "  0.         0.         0.         0.         0.         0.1\n",
      "  0.         0.        ]\n",
      " [0.         0.1        0.         0.1        0.1        0.\n",
      "  0.1        0.1        0.         0.1        0.         0.\n",
      "  0.1        0.         0.         0.         0.         0.1\n",
      "  0.         0.1       ]\n",
      " [0.         0.         0.         0.         0.         0.\n",
      "  0.         0.         0.1        0.         0.         0.\n",
      "  0.1        0.         0.         0.         0.         0.\n",
      "  0.         0.        ]\n",
      " [0.         0.         0.14285714 0.         0.         0.\n",
      "  0.         0.         0.         0.         0.         0.\n",
      "  0.1        0.         0.16666667 0.125      0.1        0.\n",
      "  0.         0.        ]\n",
      " [0.         0.         0.         0.         0.         0.\n",
      "  0.         0.         0.         0.         0.         0.\n",
      "  0.1        0.2        0.         0.125      0.1        0.\n",
      "  0.         0.        ]\n",
      " [0.         0.         0.         0.1        0.         0.\n",
      "  0.         0.         0.1        0.1        0.1        0.1\n",
      "  0.         0.1        0.1        0.         0.1        0.1\n",
      "  0.         0.        ]\n",
      " [0.         0.         0.         0.         0.         0.\n",
      "  0.         0.         0.         0.         0.         0.2\n",
      "  0.1        0.         0.         0.125      0.1        0.\n",
      "  0.         0.        ]\n",
      " [0.         0.         0.         0.         0.         0.\n",
      "  0.         0.         0.         0.         0.16666667 0.\n",
      "  0.1        0.         0.         0.         0.1        0.1\n",
      "  0.         0.        ]\n",
      " [0.125      0.11111111 0.125      0.         0.         0.\n",
      "  0.         0.         0.         0.         0.125      0.125\n",
      "  0.         0.125      0.         0.         0.1        0.\n",
      "  0.         0.        ]\n",
      " [0.1        0.         0.         0.         0.         0.1\n",
      "  0.         0.         0.         0.         0.1        0.1\n",
      "  0.1        0.1        0.1        0.1        0.         0.1\n",
      "  0.         0.        ]\n",
      " [0.1        0.1        0.         0.1        0.         0.\n",
      "  0.         0.1        0.1        0.         0.         0.\n",
      "  0.1        0.         0.1        0.         0.1        0.\n",
      "  0.1        0.        ]\n",
      " [0.         0.         0.         0.         0.         0.\n",
      "  0.         0.         0.         0.         0.         0.\n",
      "  0.         0.         0.         0.         0.         0.1\n",
      "  0.         0.16666667]\n",
      " [0.         0.11111111 0.14285714 0.125      0.         0.\n",
      "  0.         0.         0.1        0.         0.         0.\n",
      "  0.         0.         0.         0.         0.         0.\n",
      "  0.16666667 0.        ]]\n",
      "[[0.175      0.         0.         0.125      0.125      0.125\n",
      "  0.         0.125      0.         0.         0.         0.\n",
      "  0.         0.         0.         0.125      0.1        0.1\n",
      "  0.         0.        ]\n",
      " [0.         0.13333333 0.11111111 0.11111111 0.11111111 0.\n",
      "  0.11111111 0.         0.1        0.         0.         0.\n",
      "  0.         0.         0.         0.11111111 0.         0.1\n",
      "  0.         0.11111111]\n",
      " [0.         0.11111111 0.19246032 0.         0.14285714 0.14285714\n",
      "  0.         0.         0.         0.         0.14285714 0.\n",
      "  0.         0.         0.         0.125      0.         0.\n",
      "  0.         0.14285714]\n",
      " [0.125      0.11111111 0.         0.21388889 0.         0.\n",
      "  0.125      0.         0.1        0.         0.         0.\n",
      "  0.1        0.         0.         0.         0.         0.1\n",
      "  0.         0.125     ]\n",
      " [0.125      0.11111111 0.14285714 0.         0.52103175 0.\n",
      "  0.         0.         0.1        0.         0.         0.\n",
      "  0.         0.         0.         0.         0.         0.\n",
      "  0.         0.        ]\n",
      " [0.125      0.         0.14285714 0.         0.         0.63214286\n",
      "  0.         0.         0.         0.         0.         0.\n",
      "  0.         0.         0.         0.         0.1        0.\n",
      "  0.         0.        ]\n",
      " [0.         0.11111111 0.         0.125      0.         0.\n",
      "  0.66388889 0.         0.1        0.         0.         0.\n",
      "  0.         0.         0.         0.         0.         0.\n",
      "  0.         0.        ]\n",
      " [0.125      0.         0.         0.         0.         0.\n",
      "  0.         0.675      0.1        0.         0.         0.\n",
      "  0.         0.         0.         0.         0.         0.1\n",
      "  0.         0.        ]\n",
      " [0.         0.1        0.         0.1        0.1        0.\n",
      "  0.1        0.1        0.1        0.1        0.         0.\n",
      "  0.1        0.         0.         0.         0.         0.1\n",
      "  0.         0.1       ]\n",
      " [0.         0.         0.         0.         0.         0.\n",
      "  0.         0.         0.1        0.8        0.         0.\n",
      "  0.1        0.         0.         0.         0.         0.\n",
      "  0.         0.        ]\n",
      " [0.         0.         0.14285714 0.         0.         0.\n",
      "  0.         0.         0.         0.         0.36547619 0.\n",
      "  0.1        0.         0.16666667 0.125      0.1        0.\n",
      "  0.         0.        ]\n",
      " [0.         0.         0.         0.         0.         0.\n",
      "  0.         0.         0.         0.         0.         0.475\n",
      "  0.1        0.2        0.         0.125      0.1        0.\n",
      "  0.         0.        ]\n",
      " [0.         0.         0.         0.1        0.         0.\n",
      "  0.         0.         0.1        0.1        0.1        0.1\n",
      "  0.1        0.1        0.1        0.         0.1        0.1\n",
      "  0.         0.        ]\n",
      " [0.         0.         0.         0.         0.         0.\n",
      "  0.         0.         0.         0.         0.         0.2\n",
      "  0.1        0.475      0.         0.125      0.1        0.\n",
      "  0.         0.        ]\n",
      " [0.         0.         0.         0.         0.         0.\n",
      "  0.         0.         0.         0.         0.16666667 0.\n",
      "  0.1        0.         0.53333333 0.         0.1        0.1\n",
      "  0.         0.        ]\n",
      " [0.125      0.11111111 0.125      0.         0.         0.\n",
      "  0.         0.         0.         0.         0.125      0.125\n",
      "  0.         0.125      0.         0.16388889 0.1        0.\n",
      "  0.         0.        ]\n",
      " [0.1        0.         0.         0.         0.         0.1\n",
      "  0.         0.         0.         0.         0.1        0.1\n",
      "  0.1        0.1        0.1        0.1        0.1        0.1\n",
      "  0.         0.        ]\n",
      " [0.1        0.1        0.         0.1        0.         0.\n",
      "  0.         0.1        0.1        0.         0.         0.\n",
      "  0.1        0.         0.1        0.         0.1        0.1\n",
      "  0.1        0.        ]\n",
      " [0.         0.         0.         0.         0.         0.\n",
      "  0.         0.         0.         0.         0.         0.\n",
      "  0.         0.         0.         0.         0.         0.1\n",
      "  0.73333333 0.16666667]\n",
      " [0.         0.11111111 0.14285714 0.125      0.         0.\n",
      "  0.         0.         0.1        0.         0.         0.\n",
      "  0.         0.         0.         0.         0.         0.\n",
      "  0.16666667 0.35436508]]\n"
     ]
    }
   ],
   "source": [
    "# Metropolis weights \n",
    "number_nodes = G.number_of_nodes()\n",
    "weights = np.zeros([number_nodes, number_nodes])\n",
    "for edge in G.edges():\n",
    "  i, j = edge[0], edge[1]\n",
    "  weights[i - 1][j - 1] = 1 / (1 + np.max([G.degree(i), G.degree(j)]))\n",
    "  weights[j - 1][i - 1] = weights[i - 1][j - 1]\n",
    "\n",
    "print(weights)\n",
    "\n",
    "weights = weights + np.diag(1 - np.sum(weights, axis=0))\n",
    "\n",
    "metropolis_weights = weights\n",
    "print(metropolis_weights)\n"
   ]
  },
  {
   "cell_type": "code",
   "execution_count": 4,
   "id": "26f67564",
   "metadata": {},
   "outputs": [],
   "source": [
    "def degrees(A):\n",
    "    \"\"\"Return the degrees of each node of a graph from its adjacency matrix\"\"\"\n",
    "    return np.sum(A, axis=0).reshape(A.shape[0], 1)\n",
    "\n",
    "def node_degree(n, G):\n",
    "    cnt = 0\n",
    "    for i in G.neighbors(n):\n",
    "        cnt += 1\n",
    "    return cnt\n",
    "\n",
    "def get_neighbors(n, G):\n",
    "    neighbors_list = []\n",
    "    for i in G.neighbors(n):\n",
    "        neighbors_list.append(int(i))\n",
    "    return neighbors_list"
   ]
  },
  {
   "cell_type": "code",
   "execution_count": 5,
   "id": "4861cc66",
   "metadata": {},
   "outputs": [
    {
     "name": "stdout",
     "output_type": "stream",
     "text": [
      "[5, 7, 8, 6, 7, 4, 3, 3, 3, 9, 2, 5, 4, 9, 4, 4, 7, 9, 9, 2]\n",
      "2\n",
      "3\n",
      "4\n",
      "9\n",
      "19\n"
     ]
    }
   ],
   "source": [
    "degree_list = [G.degree(i) for i in range(no_users)]\n",
    "print(degree_list)\n",
    "\n",
    "for i in G.neighbors(0):\n",
    "    print(i)"
   ]
  },
  {
   "cell_type": "code",
   "execution_count": 6,
   "id": "dbc31eff",
   "metadata": {},
   "outputs": [],
   "source": [
    "datapoints = {}\n",
    "count = 0\n",
    "W1 = np.array([2.0, 2.0])\n",
    "W2 = np.array([-2.0, 2.0])\n",
    "W = [W1, W2]\n",
    "m = 200\n",
    "n = 2\n",
    "noise_sd = 0.001\n",
    "for i, cluster_size in enumerate(cluster_sizes):\n",
    "    for j in range(cluster_size):\n",
    "        features = np.random.normal(loc=0.0, scale=1.0, size=(m, n))\n",
    "        label = np.dot(features, W[i]) + np.random.normal(0,noise_sd)\n",
    "        datapoints[count] = {\n",
    "                'features': features,\n",
    "                'degree': node_degree(count, G),\n",
    "                'label': label,\n",
    "                'neighbors': get_neighbors(count, G),\n",
    "                'exact_weights': torch.from_numpy(W[i])\n",
    "            }\n",
    "        count += 1"
   ]
  },
  {
   "cell_type": "code",
   "execution_count": 7,
   "id": "3c2530b1",
   "metadata": {},
   "outputs": [],
   "source": [
    "class MyDataset(Dataset):\n",
    "    def __init__(self, data, targets, transform=None):\n",
    "        self.data = torch.FloatTensor(data)\n",
    "        self.targets = torch.FloatTensor(targets).unsqueeze(-1)\n",
    "        \n",
    "    def __getitem__(self, index):\n",
    "        x = self.data[index]\n",
    "        y = self.targets[index]\n",
    "\n",
    "        return x, y\n",
    "    \n",
    "    def __len__(self):\n",
    "        return len(self.data)\n"
   ]
  },
  {
   "cell_type": "code",
   "execution_count": 8,
   "id": "1d84bf7c",
   "metadata": {},
   "outputs": [],
   "source": [
    "class MLP_Net(nn.Module):\n",
    "    def __init__(self, user_id):\n",
    "        super(MLP_Net, self).__init__()\n",
    "        self.fc1 = nn.Linear(2, 1, bias=False)\n",
    "        #self.fc2 = nn.Linear(4, 1, bias=False)\n",
    "        #self.fc3 = nn.Linear(200, 10)\n",
    "        self.user_id = user_id\n",
    "\n",
    "    def forward(self, x):\n",
    "        x = torch.flatten(x, 1)\n",
    "        #x = F.relu(self.fc1(x))\n",
    "        output = self.fc1(x)\n",
    "        #output = self.fc3(x)\n",
    "        return output"
   ]
  },
  {
   "cell_type": "code",
   "execution_count": 9,
   "id": "f93f4bbc",
   "metadata": {},
   "outputs": [],
   "source": [
    "from typing import Iterable, Optional\n",
    "\n",
    "def grads_to_vector(parameters: Iterable[torch.Tensor]) -> torch.Tensor:\n",
    "    r\"\"\"Convert parameters to one vector\n",
    "\n",
    "    Args:\n",
    "        parameters (Iterable[Tensor]): an iterator of Tensors that are the\n",
    "            parameters of a model.\n",
    "\n",
    "    Returns:\n",
    "        The parameters represented by a single vector\n",
    "    \"\"\"\n",
    "    # Flag for the device where the parameter is located\n",
    "    param_device = None\n",
    "\n",
    "    vec = []\n",
    "    for param in parameters:\n",
    "        # Ensure the parameters are located in the same device\n",
    "        param_device = param.grad\n",
    "\n",
    "        vec.append(param_device.view(-1))\n",
    "    return torch.cat(vec)"
   ]
  },
  {
   "cell_type": "code",
   "execution_count": 10,
   "id": "9cd3a679",
   "metadata": {},
   "outputs": [
    {
     "name": "stdout",
     "output_type": "stream",
     "text": [
      "torch.Size([50, 1])\n",
      "torch.Size([50, 1])\n",
      "0 tensor(12.5751, grad_fn=<MseLossBackward0>) tensor([ 6.8512, -4.4819]) tensor([ 0.2730, -0.1370], grad_fn=<CatBackward0>)\n",
      "torch.Size([50, 1])\n",
      "torch.Size([50, 1])\n",
      "0 tensor(7.6240, grad_fn=<MseLossBackward0>) tensor([ 3.6137, -3.2920]) tensor([ 0.2730, -0.1370], grad_fn=<CatBackward0>)\n",
      "torch.Size([50, 1])\n",
      "torch.Size([50, 1])\n",
      "0 tensor(9.7475, grad_fn=<MseLossBackward0>) tensor([ 5.6347, -3.1293]) tensor([ 0.2730, -0.1370], grad_fn=<CatBackward0>)\n",
      "torch.Size([50, 1])\n",
      "torch.Size([50, 1])\n",
      "0 tensor(7.8884, grad_fn=<MseLossBackward0>) tensor([ 3.2934, -3.8799]) tensor([ 0.2730, -0.1370], grad_fn=<CatBackward0>)\n",
      "torch.Size([50, 1])\n",
      "torch.Size([50, 1])\n",
      "1 tensor(12.5751, grad_fn=<MseLossBackward0>) tensor([ 6.8512, -4.4819]) tensor([ 0.2730, -0.1370], grad_fn=<CatBackward0>)\n",
      "torch.Size([50, 1])\n",
      "torch.Size([50, 1])\n",
      "1 tensor(7.6240, grad_fn=<MseLossBackward0>) tensor([ 3.6137, -3.2920]) tensor([ 0.2730, -0.1370], grad_fn=<CatBackward0>)\n",
      "torch.Size([50, 1])\n",
      "torch.Size([50, 1])\n",
      "1 tensor(9.7475, grad_fn=<MseLossBackward0>) tensor([ 5.6347, -3.1293]) tensor([ 0.2730, -0.1370], grad_fn=<CatBackward0>)\n",
      "torch.Size([50, 1])\n",
      "torch.Size([50, 1])\n",
      "1 tensor(7.8884, grad_fn=<MseLossBackward0>) tensor([ 3.2934, -3.8799]) tensor([ 0.2730, -0.1370], grad_fn=<CatBackward0>)\n",
      "torch.Size([50, 1])\n",
      "torch.Size([50, 1])\n",
      "2 tensor(12.5751, grad_fn=<MseLossBackward0>) tensor([ 6.8512, -4.4819]) tensor([ 0.2730, -0.1370], grad_fn=<CatBackward0>)\n",
      "torch.Size([50, 1])\n",
      "torch.Size([50, 1])\n",
      "2 tensor(7.6240, grad_fn=<MseLossBackward0>) tensor([ 3.6137, -3.2920]) tensor([ 0.2730, -0.1370], grad_fn=<CatBackward0>)\n",
      "torch.Size([50, 1])\n",
      "torch.Size([50, 1])\n",
      "2 tensor(9.7475, grad_fn=<MseLossBackward0>) tensor([ 5.6347, -3.1293]) tensor([ 0.2730, -0.1370], grad_fn=<CatBackward0>)\n",
      "torch.Size([50, 1])\n",
      "torch.Size([50, 1])\n",
      "2 tensor(7.8884, grad_fn=<MseLossBackward0>) tensor([ 3.2934, -3.8799]) tensor([ 0.2730, -0.1370], grad_fn=<CatBackward0>)\n",
      "torch.Size([50, 1])\n",
      "torch.Size([50, 1])\n",
      "3 tensor(12.5751, grad_fn=<MseLossBackward0>) tensor([ 6.8512, -4.4819]) tensor([ 0.2730, -0.1370], grad_fn=<CatBackward0>)\n",
      "torch.Size([50, 1])\n",
      "torch.Size([50, 1])\n",
      "3 tensor(7.6240, grad_fn=<MseLossBackward0>) tensor([ 3.6137, -3.2920]) tensor([ 0.2730, -0.1370], grad_fn=<CatBackward0>)\n",
      "torch.Size([50, 1])\n",
      "torch.Size([50, 1])\n",
      "3 tensor(9.7475, grad_fn=<MseLossBackward0>) tensor([ 5.6347, -3.1293]) tensor([ 0.2730, -0.1370], grad_fn=<CatBackward0>)\n",
      "torch.Size([50, 1])\n",
      "torch.Size([50, 1])\n",
      "3 tensor(7.8884, grad_fn=<MseLossBackward0>) tensor([ 3.2934, -3.8799]) tensor([ 0.2730, -0.1370], grad_fn=<CatBackward0>)\n",
      "torch.Size([50, 1])\n",
      "torch.Size([50, 1])\n",
      "4 tensor(12.5751, grad_fn=<MseLossBackward0>) tensor([ 6.8512, -4.4819]) tensor([ 0.2730, -0.1370], grad_fn=<CatBackward0>)\n",
      "torch.Size([50, 1])\n",
      "torch.Size([50, 1])\n",
      "4 tensor(7.6240, grad_fn=<MseLossBackward0>) tensor([ 3.6137, -3.2920]) tensor([ 0.2730, -0.1370], grad_fn=<CatBackward0>)\n",
      "torch.Size([50, 1])\n",
      "torch.Size([50, 1])\n",
      "4 tensor(9.7475, grad_fn=<MseLossBackward0>) tensor([ 5.6347, -3.1293]) tensor([ 0.2730, -0.1370], grad_fn=<CatBackward0>)\n",
      "torch.Size([50, 1])\n",
      "torch.Size([50, 1])\n",
      "4 tensor(7.8884, grad_fn=<MseLossBackward0>) tensor([ 3.2934, -3.8799]) tensor([ 0.2730, -0.1370], grad_fn=<CatBackward0>)\n",
      "torch.Size([50, 1])\n",
      "torch.Size([50, 1])\n",
      "5 tensor(12.5751, grad_fn=<MseLossBackward0>) tensor([ 6.8512, -4.4819]) tensor([ 0.2730, -0.1370], grad_fn=<CatBackward0>)\n",
      "torch.Size([50, 1])\n",
      "torch.Size([50, 1])\n",
      "5 tensor(7.6240, grad_fn=<MseLossBackward0>) tensor([ 3.6137, -3.2920]) tensor([ 0.2730, -0.1370], grad_fn=<CatBackward0>)\n",
      "torch.Size([50, 1])\n",
      "torch.Size([50, 1])\n",
      "5 tensor(9.7475, grad_fn=<MseLossBackward0>) tensor([ 5.6347, -3.1293]) tensor([ 0.2730, -0.1370], grad_fn=<CatBackward0>)\n",
      "torch.Size([50, 1])\n",
      "torch.Size([50, 1])\n",
      "5 tensor(7.8884, grad_fn=<MseLossBackward0>) tensor([ 3.2934, -3.8799]) tensor([ 0.2730, -0.1370], grad_fn=<CatBackward0>)\n",
      "torch.Size([50, 1])\n",
      "torch.Size([50, 1])\n",
      "6 tensor(12.5751, grad_fn=<MseLossBackward0>) tensor([ 6.8512, -4.4819]) tensor([ 0.2730, -0.1370], grad_fn=<CatBackward0>)\n",
      "torch.Size([50, 1])\n",
      "torch.Size([50, 1])\n",
      "6 tensor(7.6240, grad_fn=<MseLossBackward0>) tensor([ 3.6137, -3.2920]) tensor([ 0.2730, -0.1370], grad_fn=<CatBackward0>)\n",
      "torch.Size([50, 1])\n",
      "torch.Size([50, 1])\n",
      "6 tensor(9.7475, grad_fn=<MseLossBackward0>) tensor([ 5.6347, -3.1293]) tensor([ 0.2730, -0.1370], grad_fn=<CatBackward0>)\n",
      "torch.Size([50, 1])\n",
      "torch.Size([50, 1])\n",
      "6 tensor(7.8884, grad_fn=<MseLossBackward0>) tensor([ 3.2934, -3.8799]) tensor([ 0.2730, -0.1370], grad_fn=<CatBackward0>)\n",
      "torch.Size([50, 1])\n",
      "torch.Size([50, 1])\n",
      "7 tensor(12.5751, grad_fn=<MseLossBackward0>) tensor([ 6.8512, -4.4819]) tensor([ 0.2730, -0.1370], grad_fn=<CatBackward0>)\n",
      "torch.Size([50, 1])\n",
      "torch.Size([50, 1])\n",
      "7 tensor(7.6240, grad_fn=<MseLossBackward0>) tensor([ 3.6137, -3.2920]) tensor([ 0.2730, -0.1370], grad_fn=<CatBackward0>)\n",
      "torch.Size([50, 1])\n",
      "torch.Size([50, 1])\n",
      "7 tensor(9.7475, grad_fn=<MseLossBackward0>) tensor([ 5.6347, -3.1293]) tensor([ 0.2730, -0.1370], grad_fn=<CatBackward0>)\n",
      "torch.Size([50, 1])\n",
      "torch.Size([50, 1])\n",
      "7 tensor(7.8884, grad_fn=<MseLossBackward0>) tensor([ 3.2934, -3.8799]) tensor([ 0.2730, -0.1370], grad_fn=<CatBackward0>)\n",
      "torch.Size([50, 1])\n",
      "torch.Size([50, 1])\n",
      "8 tensor(12.5751, grad_fn=<MseLossBackward0>) tensor([ 6.8512, -4.4819]) tensor([ 0.2730, -0.1370], grad_fn=<CatBackward0>)\n",
      "torch.Size([50, 1])\n",
      "torch.Size([50, 1])\n",
      "8 tensor(7.6240, grad_fn=<MseLossBackward0>) tensor([ 3.6137, -3.2920]) tensor([ 0.2730, -0.1370], grad_fn=<CatBackward0>)\n",
      "torch.Size([50, 1])\n",
      "torch.Size([50, 1])\n",
      "8 tensor(9.7475, grad_fn=<MseLossBackward0>) tensor([ 5.6347, -3.1293]) tensor([ 0.2730, -0.1370], grad_fn=<CatBackward0>)\n",
      "torch.Size([50, 1])\n",
      "torch.Size([50, 1])\n",
      "8 tensor(7.8884, grad_fn=<MseLossBackward0>) tensor([ 3.2934, -3.8799]) tensor([ 0.2730, -0.1370], grad_fn=<CatBackward0>)\n",
      "torch.Size([50, 1])\n",
      "torch.Size([50, 1])\n",
      "9 tensor(12.5751, grad_fn=<MseLossBackward0>) tensor([ 6.8512, -4.4819]) tensor([ 0.2730, -0.1370], grad_fn=<CatBackward0>)\n",
      "torch.Size([50, 1])\n",
      "torch.Size([50, 1])\n",
      "9 tensor(7.6240, grad_fn=<MseLossBackward0>) tensor([ 3.6137, -3.2920]) tensor([ 0.2730, -0.1370], grad_fn=<CatBackward0>)\n",
      "torch.Size([50, 1])\n",
      "torch.Size([50, 1])\n",
      "9 tensor(9.7475, grad_fn=<MseLossBackward0>) tensor([ 5.6347, -3.1293]) tensor([ 0.2730, -0.1370], grad_fn=<CatBackward0>)\n",
      "torch.Size([50, 1])\n",
      "torch.Size([50, 1])\n",
      "9 tensor(7.8884, grad_fn=<MseLossBackward0>) tensor([ 3.2934, -3.8799]) tensor([ 0.2730, -0.1370], grad_fn=<CatBackward0>)\n",
      "torch.Size([50, 1])\n",
      "torch.Size([50, 1])\n",
      "10 tensor(12.5751, grad_fn=<MseLossBackward0>) tensor([ 6.8512, -4.4819]) tensor([ 0.2730, -0.1370], grad_fn=<CatBackward0>)\n",
      "torch.Size([50, 1])\n",
      "torch.Size([50, 1])\n",
      "10 tensor(7.6240, grad_fn=<MseLossBackward0>) tensor([ 3.6137, -3.2920]) tensor([ 0.2730, -0.1370], grad_fn=<CatBackward0>)\n",
      "torch.Size([50, 1])\n",
      "torch.Size([50, 1])\n",
      "10 tensor(9.7475, grad_fn=<MseLossBackward0>) tensor([ 5.6347, -3.1293]) tensor([ 0.2730, -0.1370], grad_fn=<CatBackward0>)\n",
      "torch.Size([50, 1])\n",
      "torch.Size([50, 1])\n",
      "10 tensor(7.8884, grad_fn=<MseLossBackward0>) tensor([ 3.2934, -3.8799]) tensor([ 0.2730, -0.1370], grad_fn=<CatBackward0>)\n",
      "torch.Size([50, 1])\n",
      "torch.Size([50, 1])\n",
      "11 tensor(12.5751, grad_fn=<MseLossBackward0>) tensor([ 6.8512, -4.4819]) tensor([ 0.2730, -0.1370], grad_fn=<CatBackward0>)\n",
      "torch.Size([50, 1])\n",
      "torch.Size([50, 1])\n",
      "11 tensor(7.6240, grad_fn=<MseLossBackward0>) tensor([ 3.6137, -3.2920]) tensor([ 0.2730, -0.1370], grad_fn=<CatBackward0>)\n",
      "torch.Size([50, 1])\n",
      "torch.Size([50, 1])\n",
      "11 tensor(9.7475, grad_fn=<MseLossBackward0>) tensor([ 5.6347, -3.1293]) tensor([ 0.2730, -0.1370], grad_fn=<CatBackward0>)\n",
      "torch.Size([50, 1])\n",
      "torch.Size([50, 1])\n",
      "11 tensor(7.8884, grad_fn=<MseLossBackward0>) tensor([ 3.2934, -3.8799]) tensor([ 0.2730, -0.1370], grad_fn=<CatBackward0>)\n",
      "torch.Size([50, 1])\n",
      "torch.Size([50, 1])\n",
      "12 tensor(12.5751, grad_fn=<MseLossBackward0>) tensor([ 6.8512, -4.4819]) tensor([ 0.2730, -0.1370], grad_fn=<CatBackward0>)\n",
      "torch.Size([50, 1])\n",
      "torch.Size([50, 1])\n",
      "12 tensor(7.6240, grad_fn=<MseLossBackward0>) tensor([ 3.6137, -3.2920]) tensor([ 0.2730, -0.1370], grad_fn=<CatBackward0>)\n",
      "torch.Size([50, 1])\n",
      "torch.Size([50, 1])\n",
      "12 tensor(9.7475, grad_fn=<MseLossBackward0>) tensor([ 5.6347, -3.1293]) tensor([ 0.2730, -0.1370], grad_fn=<CatBackward0>)\n",
      "torch.Size([50, 1])\n",
      "torch.Size([50, 1])\n",
      "12 tensor(7.8884, grad_fn=<MseLossBackward0>) tensor([ 3.2934, -3.8799]) tensor([ 0.2730, -0.1370], grad_fn=<CatBackward0>)\n",
      "torch.Size([50, 1])\n",
      "torch.Size([50, 1])\n",
      "13 tensor(12.5751, grad_fn=<MseLossBackward0>) tensor([ 6.8512, -4.4819]) tensor([ 0.2730, -0.1370], grad_fn=<CatBackward0>)\n",
      "torch.Size([50, 1])\n",
      "torch.Size([50, 1])\n",
      "13 tensor(7.6240, grad_fn=<MseLossBackward0>) tensor([ 3.6137, -3.2920]) tensor([ 0.2730, -0.1370], grad_fn=<CatBackward0>)\n",
      "torch.Size([50, 1])\n",
      "torch.Size([50, 1])\n",
      "13 tensor(9.7475, grad_fn=<MseLossBackward0>) tensor([ 5.6347, -3.1293]) tensor([ 0.2730, -0.1370], grad_fn=<CatBackward0>)\n",
      "torch.Size([50, 1])\n",
      "torch.Size([50, 1])\n",
      "13 tensor(7.8884, grad_fn=<MseLossBackward0>) tensor([ 3.2934, -3.8799]) tensor([ 0.2730, -0.1370], grad_fn=<CatBackward0>)\n",
      "torch.Size([50, 1])\n",
      "torch.Size([50, 1])\n",
      "14 tensor(12.5751, grad_fn=<MseLossBackward0>) tensor([ 6.8512, -4.4819]) tensor([ 0.2730, -0.1370], grad_fn=<CatBackward0>)\n",
      "torch.Size([50, 1])\n",
      "torch.Size([50, 1])\n",
      "14 tensor(7.6240, grad_fn=<MseLossBackward0>) tensor([ 3.6137, -3.2920]) tensor([ 0.2730, -0.1370], grad_fn=<CatBackward0>)\n",
      "torch.Size([50, 1])\n",
      "torch.Size([50, 1])\n",
      "14 tensor(9.7475, grad_fn=<MseLossBackward0>) tensor([ 5.6347, -3.1293]) tensor([ 0.2730, -0.1370], grad_fn=<CatBackward0>)\n",
      "torch.Size([50, 1])\n",
      "torch.Size([50, 1])\n",
      "14 tensor(7.8884, grad_fn=<MseLossBackward0>) tensor([ 3.2934, -3.8799]) tensor([ 0.2730, -0.1370], grad_fn=<CatBackward0>)\n",
      "torch.Size([50, 1])\n",
      "torch.Size([50, 1])\n",
      "15 tensor(12.5751, grad_fn=<MseLossBackward0>) tensor([ 6.8512, -4.4819]) tensor([ 0.2730, -0.1370], grad_fn=<CatBackward0>)\n",
      "torch.Size([50, 1])\n",
      "torch.Size([50, 1])\n",
      "15 tensor(7.6240, grad_fn=<MseLossBackward0>) tensor([ 3.6137, -3.2920]) tensor([ 0.2730, -0.1370], grad_fn=<CatBackward0>)\n",
      "torch.Size([50, 1])\n",
      "torch.Size([50, 1])\n",
      "15 tensor(9.7475, grad_fn=<MseLossBackward0>) tensor([ 5.6347, -3.1293]) tensor([ 0.2730, -0.1370], grad_fn=<CatBackward0>)\n",
      "torch.Size([50, 1])\n",
      "torch.Size([50, 1])\n",
      "15 tensor(7.8884, grad_fn=<MseLossBackward0>) tensor([ 3.2934, -3.8799]) tensor([ 0.2730, -0.1370], grad_fn=<CatBackward0>)\n",
      "torch.Size([50, 1])\n",
      "torch.Size([50, 1])\n",
      "16 tensor(12.5751, grad_fn=<MseLossBackward0>) tensor([ 6.8512, -4.4819]) tensor([ 0.2730, -0.1370], grad_fn=<CatBackward0>)\n",
      "torch.Size([50, 1])\n",
      "torch.Size([50, 1])\n"
     ]
    },
    {
     "name": "stdout",
     "output_type": "stream",
     "text": [
      "16 tensor(7.6240, grad_fn=<MseLossBackward0>) tensor([ 3.6137, -3.2920]) tensor([ 0.2730, -0.1370], grad_fn=<CatBackward0>)\n",
      "torch.Size([50, 1])\n",
      "torch.Size([50, 1])\n",
      "16 tensor(9.7475, grad_fn=<MseLossBackward0>) tensor([ 5.6347, -3.1293]) tensor([ 0.2730, -0.1370], grad_fn=<CatBackward0>)\n",
      "torch.Size([50, 1])\n",
      "torch.Size([50, 1])\n",
      "16 tensor(7.8884, grad_fn=<MseLossBackward0>) tensor([ 3.2934, -3.8799]) tensor([ 0.2730, -0.1370], grad_fn=<CatBackward0>)\n",
      "torch.Size([50, 1])\n",
      "torch.Size([50, 1])\n",
      "17 tensor(12.5751, grad_fn=<MseLossBackward0>) tensor([ 6.8512, -4.4819]) tensor([ 0.2730, -0.1370], grad_fn=<CatBackward0>)\n",
      "torch.Size([50, 1])\n",
      "torch.Size([50, 1])\n",
      "17 tensor(7.6240, grad_fn=<MseLossBackward0>) tensor([ 3.6137, -3.2920]) tensor([ 0.2730, -0.1370], grad_fn=<CatBackward0>)\n",
      "torch.Size([50, 1])\n",
      "torch.Size([50, 1])\n",
      "17 tensor(9.7475, grad_fn=<MseLossBackward0>) tensor([ 5.6347, -3.1293]) tensor([ 0.2730, -0.1370], grad_fn=<CatBackward0>)\n",
      "torch.Size([50, 1])\n",
      "torch.Size([50, 1])\n",
      "17 tensor(7.8884, grad_fn=<MseLossBackward0>) tensor([ 3.2934, -3.8799]) tensor([ 0.2730, -0.1370], grad_fn=<CatBackward0>)\n",
      "torch.Size([50, 1])\n",
      "torch.Size([50, 1])\n",
      "18 tensor(12.5751, grad_fn=<MseLossBackward0>) tensor([ 6.8512, -4.4819]) tensor([ 0.2730, -0.1370], grad_fn=<CatBackward0>)\n",
      "torch.Size([50, 1])\n",
      "torch.Size([50, 1])\n",
      "18 tensor(7.6240, grad_fn=<MseLossBackward0>) tensor([ 3.6137, -3.2920]) tensor([ 0.2730, -0.1370], grad_fn=<CatBackward0>)\n",
      "torch.Size([50, 1])\n",
      "torch.Size([50, 1])\n",
      "18 tensor(9.7475, grad_fn=<MseLossBackward0>) tensor([ 5.6347, -3.1293]) tensor([ 0.2730, -0.1370], grad_fn=<CatBackward0>)\n",
      "torch.Size([50, 1])\n",
      "torch.Size([50, 1])\n",
      "18 tensor(7.8884, grad_fn=<MseLossBackward0>) tensor([ 3.2934, -3.8799]) tensor([ 0.2730, -0.1370], grad_fn=<CatBackward0>)\n",
      "torch.Size([50, 1])\n",
      "torch.Size([50, 1])\n",
      "19 tensor(12.5751, grad_fn=<MseLossBackward0>) tensor([ 6.8512, -4.4819]) tensor([ 0.2730, -0.1370], grad_fn=<CatBackward0>)\n",
      "torch.Size([50, 1])\n",
      "torch.Size([50, 1])\n",
      "19 tensor(7.6240, grad_fn=<MseLossBackward0>) tensor([ 3.6137, -3.2920]) tensor([ 0.2730, -0.1370], grad_fn=<CatBackward0>)\n",
      "torch.Size([50, 1])\n",
      "torch.Size([50, 1])\n",
      "19 tensor(9.7475, grad_fn=<MseLossBackward0>) tensor([ 5.6347, -3.1293]) tensor([ 0.2730, -0.1370], grad_fn=<CatBackward0>)\n",
      "torch.Size([50, 1])\n",
      "torch.Size([50, 1])\n",
      "19 tensor(7.8884, grad_fn=<MseLossBackward0>) tensor([ 3.2934, -3.8799]) tensor([ 0.2730, -0.1370], grad_fn=<CatBackward0>)\n",
      "torch.Size([50, 1])\n",
      "torch.Size([50, 1])\n",
      "20 tensor(12.5751, grad_fn=<MseLossBackward0>) tensor([ 6.8512, -4.4819]) tensor([ 0.2730, -0.1370], grad_fn=<CatBackward0>)\n",
      "torch.Size([50, 1])\n",
      "torch.Size([50, 1])\n",
      "20 tensor(7.6240, grad_fn=<MseLossBackward0>) tensor([ 3.6137, -3.2920]) tensor([ 0.2730, -0.1370], grad_fn=<CatBackward0>)\n",
      "torch.Size([50, 1])\n",
      "torch.Size([50, 1])\n",
      "20 tensor(9.7475, grad_fn=<MseLossBackward0>) tensor([ 5.6347, -3.1293]) tensor([ 0.2730, -0.1370], grad_fn=<CatBackward0>)\n",
      "torch.Size([50, 1])\n",
      "torch.Size([50, 1])\n",
      "20 tensor(7.8884, grad_fn=<MseLossBackward0>) tensor([ 3.2934, -3.8799]) tensor([ 0.2730, -0.1370], grad_fn=<CatBackward0>)\n",
      "torch.Size([50, 1])\n",
      "torch.Size([50, 1])\n",
      "21 tensor(12.5751, grad_fn=<MseLossBackward0>) tensor([ 6.8512, -4.4819]) tensor([ 0.2730, -0.1370], grad_fn=<CatBackward0>)\n",
      "torch.Size([50, 1])\n",
      "torch.Size([50, 1])\n",
      "21 tensor(7.6240, grad_fn=<MseLossBackward0>) tensor([ 3.6137, -3.2920]) tensor([ 0.2730, -0.1370], grad_fn=<CatBackward0>)\n",
      "torch.Size([50, 1])\n",
      "torch.Size([50, 1])\n",
      "21 tensor(9.7475, grad_fn=<MseLossBackward0>) tensor([ 5.6347, -3.1293]) tensor([ 0.2730, -0.1370], grad_fn=<CatBackward0>)\n",
      "torch.Size([50, 1])\n",
      "torch.Size([50, 1])\n",
      "21 tensor(7.8884, grad_fn=<MseLossBackward0>) tensor([ 3.2934, -3.8799]) tensor([ 0.2730, -0.1370], grad_fn=<CatBackward0>)\n",
      "torch.Size([50, 1])\n",
      "torch.Size([50, 1])\n",
      "22 tensor(12.5751, grad_fn=<MseLossBackward0>) tensor([ 6.8512, -4.4819]) tensor([ 0.2730, -0.1370], grad_fn=<CatBackward0>)\n",
      "torch.Size([50, 1])\n",
      "torch.Size([50, 1])\n",
      "22 tensor(7.6240, grad_fn=<MseLossBackward0>) tensor([ 3.6137, -3.2920]) tensor([ 0.2730, -0.1370], grad_fn=<CatBackward0>)\n",
      "torch.Size([50, 1])\n",
      "torch.Size([50, 1])\n",
      "22 tensor(9.7475, grad_fn=<MseLossBackward0>) tensor([ 5.6347, -3.1293]) tensor([ 0.2730, -0.1370], grad_fn=<CatBackward0>)\n",
      "torch.Size([50, 1])\n",
      "torch.Size([50, 1])\n",
      "22 tensor(7.8884, grad_fn=<MseLossBackward0>) tensor([ 3.2934, -3.8799]) tensor([ 0.2730, -0.1370], grad_fn=<CatBackward0>)\n",
      "torch.Size([50, 1])\n",
      "torch.Size([50, 1])\n",
      "23 tensor(12.5751, grad_fn=<MseLossBackward0>) tensor([ 6.8512, -4.4819]) tensor([ 0.2730, -0.1370], grad_fn=<CatBackward0>)\n",
      "torch.Size([50, 1])\n",
      "torch.Size([50, 1])\n",
      "23 tensor(7.6240, grad_fn=<MseLossBackward0>) tensor([ 3.6137, -3.2920]) tensor([ 0.2730, -0.1370], grad_fn=<CatBackward0>)\n",
      "torch.Size([50, 1])\n",
      "torch.Size([50, 1])\n",
      "23 tensor(9.7475, grad_fn=<MseLossBackward0>) tensor([ 5.6347, -3.1293]) tensor([ 0.2730, -0.1370], grad_fn=<CatBackward0>)\n",
      "torch.Size([50, 1])\n",
      "torch.Size([50, 1])\n",
      "23 tensor(7.8884, grad_fn=<MseLossBackward0>) tensor([ 3.2934, -3.8799]) tensor([ 0.2730, -0.1370], grad_fn=<CatBackward0>)\n",
      "torch.Size([50, 1])\n",
      "torch.Size([50, 1])\n",
      "24 tensor(12.5751, grad_fn=<MseLossBackward0>) tensor([ 6.8512, -4.4819]) tensor([ 0.2730, -0.1370], grad_fn=<CatBackward0>)\n",
      "torch.Size([50, 1])\n",
      "torch.Size([50, 1])\n",
      "24 tensor(7.6240, grad_fn=<MseLossBackward0>) tensor([ 3.6137, -3.2920]) tensor([ 0.2730, -0.1370], grad_fn=<CatBackward0>)\n",
      "torch.Size([50, 1])\n",
      "torch.Size([50, 1])\n",
      "24 tensor(9.7475, grad_fn=<MseLossBackward0>) tensor([ 5.6347, -3.1293]) tensor([ 0.2730, -0.1370], grad_fn=<CatBackward0>)\n",
      "torch.Size([50, 1])\n",
      "torch.Size([50, 1])\n",
      "24 tensor(7.8884, grad_fn=<MseLossBackward0>) tensor([ 3.2934, -3.8799]) tensor([ 0.2730, -0.1370], grad_fn=<CatBackward0>)\n",
      "torch.Size([50, 1])\n",
      "torch.Size([50, 1])\n",
      "25 tensor(12.5751, grad_fn=<MseLossBackward0>) tensor([ 6.8512, -4.4819]) tensor([ 0.2730, -0.1370], grad_fn=<CatBackward0>)\n",
      "torch.Size([50, 1])\n",
      "torch.Size([50, 1])\n",
      "25 tensor(7.6240, grad_fn=<MseLossBackward0>) tensor([ 3.6137, -3.2920]) tensor([ 0.2730, -0.1370], grad_fn=<CatBackward0>)\n",
      "torch.Size([50, 1])\n",
      "torch.Size([50, 1])\n",
      "25 tensor(9.7475, grad_fn=<MseLossBackward0>) tensor([ 5.6347, -3.1293]) tensor([ 0.2730, -0.1370], grad_fn=<CatBackward0>)\n",
      "torch.Size([50, 1])\n",
      "torch.Size([50, 1])\n",
      "25 tensor(7.8884, grad_fn=<MseLossBackward0>) tensor([ 3.2934, -3.8799]) tensor([ 0.2730, -0.1370], grad_fn=<CatBackward0>)\n",
      "torch.Size([50, 1])\n",
      "torch.Size([50, 1])\n",
      "26 tensor(12.5751, grad_fn=<MseLossBackward0>) tensor([ 6.8512, -4.4819]) tensor([ 0.2730, -0.1370], grad_fn=<CatBackward0>)\n",
      "torch.Size([50, 1])\n",
      "torch.Size([50, 1])\n",
      "26 tensor(7.6240, grad_fn=<MseLossBackward0>) tensor([ 3.6137, -3.2920]) tensor([ 0.2730, -0.1370], grad_fn=<CatBackward0>)\n",
      "torch.Size([50, 1])\n",
      "torch.Size([50, 1])\n",
      "26 tensor(9.7475, grad_fn=<MseLossBackward0>) tensor([ 5.6347, -3.1293]) tensor([ 0.2730, -0.1370], grad_fn=<CatBackward0>)\n",
      "torch.Size([50, 1])\n",
      "torch.Size([50, 1])\n",
      "26 tensor(7.8884, grad_fn=<MseLossBackward0>) tensor([ 3.2934, -3.8799]) tensor([ 0.2730, -0.1370], grad_fn=<CatBackward0>)\n",
      "torch.Size([50, 1])\n",
      "torch.Size([50, 1])\n",
      "27 tensor(12.5751, grad_fn=<MseLossBackward0>) tensor([ 6.8512, -4.4819]) tensor([ 0.2730, -0.1370], grad_fn=<CatBackward0>)\n",
      "torch.Size([50, 1])\n",
      "torch.Size([50, 1])\n",
      "27 tensor(7.6240, grad_fn=<MseLossBackward0>) tensor([ 3.6137, -3.2920]) tensor([ 0.2730, -0.1370], grad_fn=<CatBackward0>)\n",
      "torch.Size([50, 1])\n",
      "torch.Size([50, 1])\n",
      "27 tensor(9.7475, grad_fn=<MseLossBackward0>) tensor([ 5.6347, -3.1293]) tensor([ 0.2730, -0.1370], grad_fn=<CatBackward0>)\n",
      "torch.Size([50, 1])\n",
      "torch.Size([50, 1])\n",
      "27 tensor(7.8884, grad_fn=<MseLossBackward0>) tensor([ 3.2934, -3.8799]) tensor([ 0.2730, -0.1370], grad_fn=<CatBackward0>)\n",
      "torch.Size([50, 1])\n",
      "torch.Size([50, 1])\n",
      "28 tensor(12.5751, grad_fn=<MseLossBackward0>) tensor([ 6.8512, -4.4819]) tensor([ 0.2730, -0.1370], grad_fn=<CatBackward0>)\n",
      "torch.Size([50, 1])\n",
      "torch.Size([50, 1])\n",
      "28 tensor(7.6240, grad_fn=<MseLossBackward0>) tensor([ 3.6137, -3.2920]) tensor([ 0.2730, -0.1370], grad_fn=<CatBackward0>)\n",
      "torch.Size([50, 1])\n",
      "torch.Size([50, 1])\n",
      "28 tensor(9.7475, grad_fn=<MseLossBackward0>) tensor([ 5.6347, -3.1293]) tensor([ 0.2730, -0.1370], grad_fn=<CatBackward0>)\n",
      "torch.Size([50, 1])\n",
      "torch.Size([50, 1])\n"
     ]
    },
    {
     "name": "stdout",
     "output_type": "stream",
     "text": [
      "28 tensor(7.8884, grad_fn=<MseLossBackward0>) tensor([ 3.2934, -3.8799]) tensor([ 0.2730, -0.1370], grad_fn=<CatBackward0>)\n",
      "torch.Size([50, 1])\n",
      "torch.Size([50, 1])\n",
      "29 tensor(12.5751, grad_fn=<MseLossBackward0>) tensor([ 6.8512, -4.4819]) tensor([ 0.2730, -0.1370], grad_fn=<CatBackward0>)\n",
      "torch.Size([50, 1])\n",
      "torch.Size([50, 1])\n",
      "29 tensor(7.6240, grad_fn=<MseLossBackward0>) tensor([ 3.6137, -3.2920]) tensor([ 0.2730, -0.1370], grad_fn=<CatBackward0>)\n",
      "torch.Size([50, 1])\n",
      "torch.Size([50, 1])\n",
      "29 tensor(9.7475, grad_fn=<MseLossBackward0>) tensor([ 5.6347, -3.1293]) tensor([ 0.2730, -0.1370], grad_fn=<CatBackward0>)\n",
      "torch.Size([50, 1])\n",
      "torch.Size([50, 1])\n",
      "29 tensor(7.8884, grad_fn=<MseLossBackward0>) tensor([ 3.2934, -3.8799]) tensor([ 0.2730, -0.1370], grad_fn=<CatBackward0>)\n",
      "torch.Size([50, 1])\n",
      "torch.Size([50, 1])\n",
      "30 tensor(12.5751, grad_fn=<MseLossBackward0>) tensor([ 6.8512, -4.4819]) tensor([ 0.2730, -0.1370], grad_fn=<CatBackward0>)\n",
      "torch.Size([50, 1])\n",
      "torch.Size([50, 1])\n",
      "30 tensor(7.6240, grad_fn=<MseLossBackward0>) tensor([ 3.6137, -3.2920]) tensor([ 0.2730, -0.1370], grad_fn=<CatBackward0>)\n",
      "torch.Size([50, 1])\n",
      "torch.Size([50, 1])\n",
      "30 tensor(9.7475, grad_fn=<MseLossBackward0>) tensor([ 5.6347, -3.1293]) tensor([ 0.2730, -0.1370], grad_fn=<CatBackward0>)\n",
      "torch.Size([50, 1])\n",
      "torch.Size([50, 1])\n",
      "30 tensor(7.8884, grad_fn=<MseLossBackward0>) tensor([ 3.2934, -3.8799]) tensor([ 0.2730, -0.1370], grad_fn=<CatBackward0>)\n",
      "torch.Size([50, 1])\n",
      "torch.Size([50, 1])\n",
      "31 tensor(12.5751, grad_fn=<MseLossBackward0>) tensor([ 6.8512, -4.4819]) tensor([ 0.2730, -0.1370], grad_fn=<CatBackward0>)\n",
      "torch.Size([50, 1])\n",
      "torch.Size([50, 1])\n",
      "31 tensor(7.6240, grad_fn=<MseLossBackward0>) tensor([ 3.6137, -3.2920]) tensor([ 0.2730, -0.1370], grad_fn=<CatBackward0>)\n",
      "torch.Size([50, 1])\n",
      "torch.Size([50, 1])\n",
      "31 tensor(9.7475, grad_fn=<MseLossBackward0>) tensor([ 5.6347, -3.1293]) tensor([ 0.2730, -0.1370], grad_fn=<CatBackward0>)\n",
      "torch.Size([50, 1])\n",
      "torch.Size([50, 1])\n",
      "31 tensor(7.8884, grad_fn=<MseLossBackward0>) tensor([ 3.2934, -3.8799]) tensor([ 0.2730, -0.1370], grad_fn=<CatBackward0>)\n",
      "torch.Size([50, 1])\n",
      "torch.Size([50, 1])\n",
      "32 tensor(12.5751, grad_fn=<MseLossBackward0>) tensor([ 6.8512, -4.4819]) tensor([ 0.2730, -0.1370], grad_fn=<CatBackward0>)\n",
      "torch.Size([50, 1])\n",
      "torch.Size([50, 1])\n",
      "32 tensor(7.6240, grad_fn=<MseLossBackward0>) tensor([ 3.6137, -3.2920]) tensor([ 0.2730, -0.1370], grad_fn=<CatBackward0>)\n",
      "torch.Size([50, 1])\n",
      "torch.Size([50, 1])\n",
      "32 tensor(9.7475, grad_fn=<MseLossBackward0>) tensor([ 5.6347, -3.1293]) tensor([ 0.2730, -0.1370], grad_fn=<CatBackward0>)\n",
      "torch.Size([50, 1])\n",
      "torch.Size([50, 1])\n",
      "32 tensor(7.8884, grad_fn=<MseLossBackward0>) tensor([ 3.2934, -3.8799]) tensor([ 0.2730, -0.1370], grad_fn=<CatBackward0>)\n",
      "torch.Size([50, 1])\n",
      "torch.Size([50, 1])\n",
      "33 tensor(12.5751, grad_fn=<MseLossBackward0>) tensor([ 6.8512, -4.4819]) tensor([ 0.2730, -0.1370], grad_fn=<CatBackward0>)\n",
      "torch.Size([50, 1])\n",
      "torch.Size([50, 1])\n",
      "33 tensor(7.6240, grad_fn=<MseLossBackward0>) tensor([ 3.6137, -3.2920]) tensor([ 0.2730, -0.1370], grad_fn=<CatBackward0>)\n",
      "torch.Size([50, 1])\n",
      "torch.Size([50, 1])\n",
      "33 tensor(9.7475, grad_fn=<MseLossBackward0>) tensor([ 5.6347, -3.1293]) tensor([ 0.2730, -0.1370], grad_fn=<CatBackward0>)\n",
      "torch.Size([50, 1])\n",
      "torch.Size([50, 1])\n",
      "33 tensor(7.8884, grad_fn=<MseLossBackward0>) tensor([ 3.2934, -3.8799]) tensor([ 0.2730, -0.1370], grad_fn=<CatBackward0>)\n",
      "torch.Size([50, 1])\n",
      "torch.Size([50, 1])\n",
      "34 tensor(12.5751, grad_fn=<MseLossBackward0>) tensor([ 6.8512, -4.4819]) tensor([ 0.2730, -0.1370], grad_fn=<CatBackward0>)\n",
      "torch.Size([50, 1])\n",
      "torch.Size([50, 1])\n",
      "34 tensor(7.6240, grad_fn=<MseLossBackward0>) tensor([ 3.6137, -3.2920]) tensor([ 0.2730, -0.1370], grad_fn=<CatBackward0>)\n",
      "torch.Size([50, 1])\n",
      "torch.Size([50, 1])\n",
      "34 tensor(9.7475, grad_fn=<MseLossBackward0>) tensor([ 5.6347, -3.1293]) tensor([ 0.2730, -0.1370], grad_fn=<CatBackward0>)\n",
      "torch.Size([50, 1])\n",
      "torch.Size([50, 1])\n",
      "34 tensor(7.8884, grad_fn=<MseLossBackward0>) tensor([ 3.2934, -3.8799]) tensor([ 0.2730, -0.1370], grad_fn=<CatBackward0>)\n",
      "torch.Size([50, 1])\n",
      "torch.Size([50, 1])\n",
      "35 tensor(12.5751, grad_fn=<MseLossBackward0>) tensor([ 6.8512, -4.4819]) tensor([ 0.2730, -0.1370], grad_fn=<CatBackward0>)\n",
      "torch.Size([50, 1])\n",
      "torch.Size([50, 1])\n",
      "35 tensor(7.6240, grad_fn=<MseLossBackward0>) tensor([ 3.6137, -3.2920]) tensor([ 0.2730, -0.1370], grad_fn=<CatBackward0>)\n",
      "torch.Size([50, 1])\n",
      "torch.Size([50, 1])\n",
      "35 tensor(9.7475, grad_fn=<MseLossBackward0>) tensor([ 5.6347, -3.1293]) tensor([ 0.2730, -0.1370], grad_fn=<CatBackward0>)\n",
      "torch.Size([50, 1])\n",
      "torch.Size([50, 1])\n",
      "35 tensor(7.8884, grad_fn=<MseLossBackward0>) tensor([ 3.2934, -3.8799]) tensor([ 0.2730, -0.1370], grad_fn=<CatBackward0>)\n",
      "torch.Size([50, 1])\n",
      "torch.Size([50, 1])\n",
      "36 tensor(12.5751, grad_fn=<MseLossBackward0>) tensor([ 6.8512, -4.4819]) tensor([ 0.2730, -0.1370], grad_fn=<CatBackward0>)\n",
      "torch.Size([50, 1])\n",
      "torch.Size([50, 1])\n",
      "36 tensor(7.6240, grad_fn=<MseLossBackward0>) tensor([ 3.6137, -3.2920]) tensor([ 0.2730, -0.1370], grad_fn=<CatBackward0>)\n",
      "torch.Size([50, 1])\n",
      "torch.Size([50, 1])\n",
      "36 tensor(9.7475, grad_fn=<MseLossBackward0>) tensor([ 5.6347, -3.1293]) tensor([ 0.2730, -0.1370], grad_fn=<CatBackward0>)\n",
      "torch.Size([50, 1])\n",
      "torch.Size([50, 1])\n",
      "36 tensor(7.8884, grad_fn=<MseLossBackward0>) tensor([ 3.2934, -3.8799]) tensor([ 0.2730, -0.1370], grad_fn=<CatBackward0>)\n",
      "torch.Size([50, 1])\n",
      "torch.Size([50, 1])\n",
      "37 tensor(12.5751, grad_fn=<MseLossBackward0>) tensor([ 6.8512, -4.4819]) tensor([ 0.2730, -0.1370], grad_fn=<CatBackward0>)\n",
      "torch.Size([50, 1])\n",
      "torch.Size([50, 1])\n",
      "37 tensor(7.6240, grad_fn=<MseLossBackward0>) tensor([ 3.6137, -3.2920]) tensor([ 0.2730, -0.1370], grad_fn=<CatBackward0>)\n",
      "torch.Size([50, 1])\n",
      "torch.Size([50, 1])\n",
      "37 tensor(9.7475, grad_fn=<MseLossBackward0>) tensor([ 5.6347, -3.1293]) tensor([ 0.2730, -0.1370], grad_fn=<CatBackward0>)\n",
      "torch.Size([50, 1])\n",
      "torch.Size([50, 1])\n",
      "37 tensor(7.8884, grad_fn=<MseLossBackward0>) tensor([ 3.2934, -3.8799]) tensor([ 0.2730, -0.1370], grad_fn=<CatBackward0>)\n",
      "torch.Size([50, 1])\n",
      "torch.Size([50, 1])\n",
      "38 tensor(12.5751, grad_fn=<MseLossBackward0>) tensor([ 6.8512, -4.4819]) tensor([ 0.2730, -0.1370], grad_fn=<CatBackward0>)\n",
      "torch.Size([50, 1])\n",
      "torch.Size([50, 1])\n",
      "38 tensor(7.6240, grad_fn=<MseLossBackward0>) tensor([ 3.6137, -3.2920]) tensor([ 0.2730, -0.1370], grad_fn=<CatBackward0>)\n",
      "torch.Size([50, 1])\n",
      "torch.Size([50, 1])\n",
      "38 tensor(9.7475, grad_fn=<MseLossBackward0>) tensor([ 5.6347, -3.1293]) tensor([ 0.2730, -0.1370], grad_fn=<CatBackward0>)\n",
      "torch.Size([50, 1])\n",
      "torch.Size([50, 1])\n",
      "38 tensor(7.8884, grad_fn=<MseLossBackward0>) tensor([ 3.2934, -3.8799]) tensor([ 0.2730, -0.1370], grad_fn=<CatBackward0>)\n",
      "torch.Size([50, 1])\n",
      "torch.Size([50, 1])\n",
      "39 tensor(12.5751, grad_fn=<MseLossBackward0>) tensor([ 6.8512, -4.4819]) tensor([ 0.2730, -0.1370], grad_fn=<CatBackward0>)\n",
      "torch.Size([50, 1])\n",
      "torch.Size([50, 1])\n",
      "39 tensor(7.6240, grad_fn=<MseLossBackward0>) tensor([ 3.6137, -3.2920]) tensor([ 0.2730, -0.1370], grad_fn=<CatBackward0>)\n",
      "torch.Size([50, 1])\n",
      "torch.Size([50, 1])\n",
      "39 tensor(9.7475, grad_fn=<MseLossBackward0>) tensor([ 5.6347, -3.1293]) tensor([ 0.2730, -0.1370], grad_fn=<CatBackward0>)\n",
      "torch.Size([50, 1])\n",
      "torch.Size([50, 1])\n",
      "39 tensor(7.8884, grad_fn=<MseLossBackward0>) tensor([ 3.2934, -3.8799]) tensor([ 0.2730, -0.1370], grad_fn=<CatBackward0>)\n",
      "torch.Size([50, 1])\n",
      "torch.Size([50, 1])\n",
      "40 tensor(12.5751, grad_fn=<MseLossBackward0>) tensor([ 6.8512, -4.4819]) tensor([ 0.2730, -0.1370], grad_fn=<CatBackward0>)\n",
      "torch.Size([50, 1])\n",
      "torch.Size([50, 1])\n",
      "40 tensor(7.6240, grad_fn=<MseLossBackward0>) tensor([ 3.6137, -3.2920]) tensor([ 0.2730, -0.1370], grad_fn=<CatBackward0>)\n",
      "torch.Size([50, 1])\n",
      "torch.Size([50, 1])\n",
      "40 tensor(9.7475, grad_fn=<MseLossBackward0>) tensor([ 5.6347, -3.1293]) tensor([ 0.2730, -0.1370], grad_fn=<CatBackward0>)\n",
      "torch.Size([50, 1])\n",
      "torch.Size([50, 1])\n",
      "40 tensor(7.8884, grad_fn=<MseLossBackward0>) tensor([ 3.2934, -3.8799]) tensor([ 0.2730, -0.1370], grad_fn=<CatBackward0>)\n",
      "torch.Size([50, 1])\n",
      "torch.Size([50, 1])\n",
      "41 tensor(12.5751, grad_fn=<MseLossBackward0>) tensor([ 6.8512, -4.4819]) tensor([ 0.2730, -0.1370], grad_fn=<CatBackward0>)\n",
      "torch.Size([50, 1])\n",
      "torch.Size([50, 1])\n",
      "41 tensor(7.6240, grad_fn=<MseLossBackward0>) tensor([ 3.6137, -3.2920]) tensor([ 0.2730, -0.1370], grad_fn=<CatBackward0>)\n",
      "torch.Size([50, 1])\n",
      "torch.Size([50, 1])\n",
      "41 tensor(9.7475, grad_fn=<MseLossBackward0>) tensor([ 5.6347, -3.1293]) tensor([ 0.2730, -0.1370], grad_fn=<CatBackward0>)\n",
      "torch.Size([50, 1])\n",
      "torch.Size([50, 1])\n",
      "41 tensor(7.8884, grad_fn=<MseLossBackward0>) tensor([ 3.2934, -3.8799]) tensor([ 0.2730, -0.1370], grad_fn=<CatBackward0>)\n",
      "torch.Size([50, 1])\n",
      "torch.Size([50, 1])\n",
      "42 tensor(12.5751, grad_fn=<MseLossBackward0>) tensor([ 6.8512, -4.4819]) tensor([ 0.2730, -0.1370], grad_fn=<CatBackward0>)\n",
      "torch.Size([50, 1])\n",
      "torch.Size([50, 1])\n",
      "42 tensor(7.6240, grad_fn=<MseLossBackward0>) tensor([ 3.6137, -3.2920]) tensor([ 0.2730, -0.1370], grad_fn=<CatBackward0>)\n",
      "torch.Size([50, 1])\n",
      "torch.Size([50, 1])\n",
      "42 tensor(9.7475, grad_fn=<MseLossBackward0>) tensor([ 5.6347, -3.1293]) tensor([ 0.2730, -0.1370], grad_fn=<CatBackward0>)\n",
      "torch.Size([50, 1])\n",
      "torch.Size([50, 1])\n",
      "42 tensor(7.8884, grad_fn=<MseLossBackward0>) tensor([ 3.2934, -3.8799]) tensor([ 0.2730, -0.1370], grad_fn=<CatBackward0>)\n",
      "torch.Size([50, 1])\n",
      "torch.Size([50, 1])\n",
      "43 tensor(12.5751, grad_fn=<MseLossBackward0>) tensor([ 6.8512, -4.4819]) tensor([ 0.2730, -0.1370], grad_fn=<CatBackward0>)\n",
      "torch.Size([50, 1])\n",
      "torch.Size([50, 1])\n",
      "43 tensor(7.6240, grad_fn=<MseLossBackward0>) tensor([ 3.6137, -3.2920]) tensor([ 0.2730, -0.1370], grad_fn=<CatBackward0>)\n",
      "torch.Size([50, 1])\n",
      "torch.Size([50, 1])\n",
      "43 tensor(9.7475, grad_fn=<MseLossBackward0>) tensor([ 5.6347, -3.1293]) tensor([ 0.2730, -0.1370], grad_fn=<CatBackward0>)\n",
      "torch.Size([50, 1])\n",
      "torch.Size([50, 1])\n",
      "43 tensor(7.8884, grad_fn=<MseLossBackward0>) tensor([ 3.2934, -3.8799]) tensor([ 0.2730, -0.1370], grad_fn=<CatBackward0>)\n",
      "torch.Size([50, 1])\n",
      "torch.Size([50, 1])\n",
      "44 tensor(12.5751, grad_fn=<MseLossBackward0>) tensor([ 6.8512, -4.4819]) tensor([ 0.2730, -0.1370], grad_fn=<CatBackward0>)\n",
      "torch.Size([50, 1])\n",
      "torch.Size([50, 1])\n",
      "44 tensor(7.6240, grad_fn=<MseLossBackward0>) tensor([ 3.6137, -3.2920]) tensor([ 0.2730, -0.1370], grad_fn=<CatBackward0>)\n"
     ]
    },
    {
     "name": "stdout",
     "output_type": "stream",
     "text": [
      "torch.Size([50, 1])\n",
      "torch.Size([50, 1])\n",
      "44 tensor(9.7475, grad_fn=<MseLossBackward0>) tensor([ 5.6347, -3.1293]) tensor([ 0.2730, -0.1370], grad_fn=<CatBackward0>)\n",
      "torch.Size([50, 1])\n",
      "torch.Size([50, 1])\n",
      "44 tensor(7.8884, grad_fn=<MseLossBackward0>) tensor([ 3.2934, -3.8799]) tensor([ 0.2730, -0.1370], grad_fn=<CatBackward0>)\n",
      "torch.Size([50, 1])\n",
      "torch.Size([50, 1])\n",
      "45 tensor(12.5751, grad_fn=<MseLossBackward0>) tensor([ 6.8512, -4.4819]) tensor([ 0.2730, -0.1370], grad_fn=<CatBackward0>)\n",
      "torch.Size([50, 1])\n",
      "torch.Size([50, 1])\n",
      "45 tensor(7.6240, grad_fn=<MseLossBackward0>) tensor([ 3.6137, -3.2920]) tensor([ 0.2730, -0.1370], grad_fn=<CatBackward0>)\n",
      "torch.Size([50, 1])\n",
      "torch.Size([50, 1])\n",
      "45 tensor(9.7475, grad_fn=<MseLossBackward0>) tensor([ 5.6347, -3.1293]) tensor([ 0.2730, -0.1370], grad_fn=<CatBackward0>)\n",
      "torch.Size([50, 1])\n",
      "torch.Size([50, 1])\n",
      "45 tensor(7.8884, grad_fn=<MseLossBackward0>) tensor([ 3.2934, -3.8799]) tensor([ 0.2730, -0.1370], grad_fn=<CatBackward0>)\n",
      "torch.Size([50, 1])\n",
      "torch.Size([50, 1])\n",
      "46 tensor(12.5751, grad_fn=<MseLossBackward0>) tensor([ 6.8512, -4.4819]) tensor([ 0.2730, -0.1370], grad_fn=<CatBackward0>)\n",
      "torch.Size([50, 1])\n",
      "torch.Size([50, 1])\n",
      "46 tensor(7.6240, grad_fn=<MseLossBackward0>) tensor([ 3.6137, -3.2920]) tensor([ 0.2730, -0.1370], grad_fn=<CatBackward0>)\n",
      "torch.Size([50, 1])\n",
      "torch.Size([50, 1])\n",
      "46 tensor(9.7475, grad_fn=<MseLossBackward0>) tensor([ 5.6347, -3.1293]) tensor([ 0.2730, -0.1370], grad_fn=<CatBackward0>)\n",
      "torch.Size([50, 1])\n",
      "torch.Size([50, 1])\n",
      "46 tensor(7.8884, grad_fn=<MseLossBackward0>) tensor([ 3.2934, -3.8799]) tensor([ 0.2730, -0.1370], grad_fn=<CatBackward0>)\n",
      "torch.Size([50, 1])\n",
      "torch.Size([50, 1])\n",
      "47 tensor(12.5751, grad_fn=<MseLossBackward0>) tensor([ 6.8512, -4.4819]) tensor([ 0.2730, -0.1370], grad_fn=<CatBackward0>)\n",
      "torch.Size([50, 1])\n",
      "torch.Size([50, 1])\n",
      "47 tensor(7.6240, grad_fn=<MseLossBackward0>) tensor([ 3.6137, -3.2920]) tensor([ 0.2730, -0.1370], grad_fn=<CatBackward0>)\n",
      "torch.Size([50, 1])\n",
      "torch.Size([50, 1])\n",
      "47 tensor(9.7475, grad_fn=<MseLossBackward0>) tensor([ 5.6347, -3.1293]) tensor([ 0.2730, -0.1370], grad_fn=<CatBackward0>)\n",
      "torch.Size([50, 1])\n",
      "torch.Size([50, 1])\n",
      "47 tensor(7.8884, grad_fn=<MseLossBackward0>) tensor([ 3.2934, -3.8799]) tensor([ 0.2730, -0.1370], grad_fn=<CatBackward0>)\n",
      "torch.Size([50, 1])\n",
      "torch.Size([50, 1])\n",
      "48 tensor(12.5751, grad_fn=<MseLossBackward0>) tensor([ 6.8512, -4.4819]) tensor([ 0.2730, -0.1370], grad_fn=<CatBackward0>)\n",
      "torch.Size([50, 1])\n",
      "torch.Size([50, 1])\n",
      "48 tensor(7.6240, grad_fn=<MseLossBackward0>) tensor([ 3.6137, -3.2920]) tensor([ 0.2730, -0.1370], grad_fn=<CatBackward0>)\n",
      "torch.Size([50, 1])\n",
      "torch.Size([50, 1])\n",
      "48 tensor(9.7475, grad_fn=<MseLossBackward0>) tensor([ 5.6347, -3.1293]) tensor([ 0.2730, -0.1370], grad_fn=<CatBackward0>)\n",
      "torch.Size([50, 1])\n",
      "torch.Size([50, 1])\n",
      "48 tensor(7.8884, grad_fn=<MseLossBackward0>) tensor([ 3.2934, -3.8799]) tensor([ 0.2730, -0.1370], grad_fn=<CatBackward0>)\n",
      "torch.Size([50, 1])\n",
      "torch.Size([50, 1])\n",
      "49 tensor(12.5751, grad_fn=<MseLossBackward0>) tensor([ 6.8512, -4.4819]) tensor([ 0.2730, -0.1370], grad_fn=<CatBackward0>)\n",
      "torch.Size([50, 1])\n",
      "torch.Size([50, 1])\n",
      "49 tensor(7.6240, grad_fn=<MseLossBackward0>) tensor([ 3.6137, -3.2920]) tensor([ 0.2730, -0.1370], grad_fn=<CatBackward0>)\n",
      "torch.Size([50, 1])\n",
      "torch.Size([50, 1])\n",
      "49 tensor(9.7475, grad_fn=<MseLossBackward0>) tensor([ 5.6347, -3.1293]) tensor([ 0.2730, -0.1370], grad_fn=<CatBackward0>)\n",
      "torch.Size([50, 1])\n",
      "torch.Size([50, 1])\n",
      "49 tensor(7.8884, grad_fn=<MseLossBackward0>) tensor([ 3.2934, -3.8799]) tensor([ 0.2730, -0.1370], grad_fn=<CatBackward0>)\n",
      "torch.Size([50, 1])\n",
      "torch.Size([50, 1])\n",
      "50 tensor(12.5751, grad_fn=<MseLossBackward0>) tensor([ 6.8512, -4.4819]) tensor([ 0.2730, -0.1370], grad_fn=<CatBackward0>)\n",
      "torch.Size([50, 1])\n",
      "torch.Size([50, 1])\n",
      "50 tensor(7.6240, grad_fn=<MseLossBackward0>) tensor([ 3.6137, -3.2920]) tensor([ 0.2730, -0.1370], grad_fn=<CatBackward0>)\n",
      "torch.Size([50, 1])\n",
      "torch.Size([50, 1])\n",
      "50 tensor(9.7475, grad_fn=<MseLossBackward0>) tensor([ 5.6347, -3.1293]) tensor([ 0.2730, -0.1370], grad_fn=<CatBackward0>)\n",
      "torch.Size([50, 1])\n",
      "torch.Size([50, 1])\n",
      "50 tensor(7.8884, grad_fn=<MseLossBackward0>) tensor([ 3.2934, -3.8799]) tensor([ 0.2730, -0.1370], grad_fn=<CatBackward0>)\n",
      "torch.Size([50, 1])\n",
      "torch.Size([50, 1])\n",
      "51 tensor(12.5751, grad_fn=<MseLossBackward0>) tensor([ 6.8512, -4.4819]) tensor([ 0.2730, -0.1370], grad_fn=<CatBackward0>)\n",
      "torch.Size([50, 1])\n",
      "torch.Size([50, 1])\n",
      "51 tensor(7.6240, grad_fn=<MseLossBackward0>) tensor([ 3.6137, -3.2920]) tensor([ 0.2730, -0.1370], grad_fn=<CatBackward0>)\n",
      "torch.Size([50, 1])\n",
      "torch.Size([50, 1])\n",
      "51 tensor(9.7475, grad_fn=<MseLossBackward0>) tensor([ 5.6347, -3.1293]) tensor([ 0.2730, -0.1370], grad_fn=<CatBackward0>)\n",
      "torch.Size([50, 1])\n",
      "torch.Size([50, 1])\n",
      "51 tensor(7.8884, grad_fn=<MseLossBackward0>) tensor([ 3.2934, -3.8799]) tensor([ 0.2730, -0.1370], grad_fn=<CatBackward0>)\n",
      "torch.Size([50, 1])\n",
      "torch.Size([50, 1])\n",
      "52 tensor(12.5751, grad_fn=<MseLossBackward0>) tensor([ 6.8512, -4.4819]) tensor([ 0.2730, -0.1370], grad_fn=<CatBackward0>)\n",
      "torch.Size([50, 1])\n",
      "torch.Size([50, 1])\n",
      "52 tensor(7.6240, grad_fn=<MseLossBackward0>) tensor([ 3.6137, -3.2920]) tensor([ 0.2730, -0.1370], grad_fn=<CatBackward0>)\n",
      "torch.Size([50, 1])\n",
      "torch.Size([50, 1])\n",
      "52 tensor(9.7475, grad_fn=<MseLossBackward0>) tensor([ 5.6347, -3.1293]) tensor([ 0.2730, -0.1370], grad_fn=<CatBackward0>)\n",
      "torch.Size([50, 1])\n",
      "torch.Size([50, 1])\n",
      "52 tensor(7.8884, grad_fn=<MseLossBackward0>) tensor([ 3.2934, -3.8799]) tensor([ 0.2730, -0.1370], grad_fn=<CatBackward0>)\n",
      "torch.Size([50, 1])\n",
      "torch.Size([50, 1])\n",
      "53 tensor(12.5751, grad_fn=<MseLossBackward0>) tensor([ 6.8512, -4.4819]) tensor([ 0.2730, -0.1370], grad_fn=<CatBackward0>)\n",
      "torch.Size([50, 1])\n",
      "torch.Size([50, 1])\n",
      "53 tensor(7.6240, grad_fn=<MseLossBackward0>) tensor([ 3.6137, -3.2920]) tensor([ 0.2730, -0.1370], grad_fn=<CatBackward0>)\n",
      "torch.Size([50, 1])\n",
      "torch.Size([50, 1])\n",
      "53 tensor(9.7475, grad_fn=<MseLossBackward0>) tensor([ 5.6347, -3.1293]) tensor([ 0.2730, -0.1370], grad_fn=<CatBackward0>)\n",
      "torch.Size([50, 1])\n",
      "torch.Size([50, 1])\n",
      "53 tensor(7.8884, grad_fn=<MseLossBackward0>) tensor([ 3.2934, -3.8799]) tensor([ 0.2730, -0.1370], grad_fn=<CatBackward0>)\n",
      "torch.Size([50, 1])\n",
      "torch.Size([50, 1])\n",
      "54 tensor(12.5751, grad_fn=<MseLossBackward0>) tensor([ 6.8512, -4.4819]) tensor([ 0.2730, -0.1370], grad_fn=<CatBackward0>)\n",
      "torch.Size([50, 1])\n",
      "torch.Size([50, 1])\n",
      "54 tensor(7.6240, grad_fn=<MseLossBackward0>) tensor([ 3.6137, -3.2920]) tensor([ 0.2730, -0.1370], grad_fn=<CatBackward0>)\n",
      "torch.Size([50, 1])\n",
      "torch.Size([50, 1])\n",
      "54 tensor(9.7475, grad_fn=<MseLossBackward0>) tensor([ 5.6347, -3.1293]) tensor([ 0.2730, -0.1370], grad_fn=<CatBackward0>)\n",
      "torch.Size([50, 1])\n",
      "torch.Size([50, 1])\n",
      "54 tensor(7.8884, grad_fn=<MseLossBackward0>) tensor([ 3.2934, -3.8799]) tensor([ 0.2730, -0.1370], grad_fn=<CatBackward0>)\n",
      "torch.Size([50, 1])\n",
      "torch.Size([50, 1])\n",
      "55 tensor(12.5751, grad_fn=<MseLossBackward0>) tensor([ 6.8512, -4.4819]) tensor([ 0.2730, -0.1370], grad_fn=<CatBackward0>)\n",
      "torch.Size([50, 1])\n",
      "torch.Size([50, 1])\n",
      "55 tensor(7.6240, grad_fn=<MseLossBackward0>) tensor([ 3.6137, -3.2920]) tensor([ 0.2730, -0.1370], grad_fn=<CatBackward0>)\n",
      "torch.Size([50, 1])\n",
      "torch.Size([50, 1])\n",
      "55 tensor(9.7475, grad_fn=<MseLossBackward0>) tensor([ 5.6347, -3.1293]) tensor([ 0.2730, -0.1370], grad_fn=<CatBackward0>)\n",
      "torch.Size([50, 1])\n",
      "torch.Size([50, 1])\n",
      "55 tensor(7.8884, grad_fn=<MseLossBackward0>) tensor([ 3.2934, -3.8799]) tensor([ 0.2730, -0.1370], grad_fn=<CatBackward0>)\n",
      "torch.Size([50, 1])\n",
      "torch.Size([50, 1])\n",
      "56 tensor(12.5751, grad_fn=<MseLossBackward0>) tensor([ 6.8512, -4.4819]) tensor([ 0.2730, -0.1370], grad_fn=<CatBackward0>)\n",
      "torch.Size([50, 1])\n",
      "torch.Size([50, 1])\n",
      "56 tensor(7.6240, grad_fn=<MseLossBackward0>) tensor([ 3.6137, -3.2920]) tensor([ 0.2730, -0.1370], grad_fn=<CatBackward0>)\n",
      "torch.Size([50, 1])\n",
      "torch.Size([50, 1])\n",
      "56 tensor(9.7475, grad_fn=<MseLossBackward0>) tensor([ 5.6347, -3.1293]) tensor([ 0.2730, -0.1370], grad_fn=<CatBackward0>)\n",
      "torch.Size([50, 1])\n",
      "torch.Size([50, 1])\n",
      "56 tensor(7.8884, grad_fn=<MseLossBackward0>) tensor([ 3.2934, -3.8799]) tensor([ 0.2730, -0.1370], grad_fn=<CatBackward0>)\n",
      "torch.Size([50, 1])\n",
      "torch.Size([50, 1])\n",
      "57 tensor(12.5751, grad_fn=<MseLossBackward0>) tensor([ 6.8512, -4.4819]) tensor([ 0.2730, -0.1370], grad_fn=<CatBackward0>)\n",
      "torch.Size([50, 1])\n",
      "torch.Size([50, 1])\n",
      "57 tensor(7.6240, grad_fn=<MseLossBackward0>) tensor([ 3.6137, -3.2920]) tensor([ 0.2730, -0.1370], grad_fn=<CatBackward0>)\n",
      "torch.Size([50, 1])\n",
      "torch.Size([50, 1])\n",
      "57 tensor(9.7475, grad_fn=<MseLossBackward0>) tensor([ 5.6347, -3.1293]) tensor([ 0.2730, -0.1370], grad_fn=<CatBackward0>)\n",
      "torch.Size([50, 1])\n",
      "torch.Size([50, 1])\n",
      "57 tensor(7.8884, grad_fn=<MseLossBackward0>) tensor([ 3.2934, -3.8799]) tensor([ 0.2730, -0.1370], grad_fn=<CatBackward0>)\n",
      "torch.Size([50, 1])\n",
      "torch.Size([50, 1])\n",
      "58 tensor(12.5751, grad_fn=<MseLossBackward0>) tensor([ 6.8512, -4.4819]) tensor([ 0.2730, -0.1370], grad_fn=<CatBackward0>)\n",
      "torch.Size([50, 1])\n",
      "torch.Size([50, 1])\n",
      "58 tensor(7.6240, grad_fn=<MseLossBackward0>) tensor([ 3.6137, -3.2920]) tensor([ 0.2730, -0.1370], grad_fn=<CatBackward0>)\n",
      "torch.Size([50, 1])\n",
      "torch.Size([50, 1])\n",
      "58 tensor(9.7475, grad_fn=<MseLossBackward0>) tensor([ 5.6347, -3.1293]) tensor([ 0.2730, -0.1370], grad_fn=<CatBackward0>)\n",
      "torch.Size([50, 1])\n",
      "torch.Size([50, 1])\n",
      "58 tensor(7.8884, grad_fn=<MseLossBackward0>) tensor([ 3.2934, -3.8799]) tensor([ 0.2730, -0.1370], grad_fn=<CatBackward0>)\n",
      "torch.Size([50, 1])\n",
      "torch.Size([50, 1])\n",
      "59 tensor(12.5751, grad_fn=<MseLossBackward0>) tensor([ 6.8512, -4.4819]) tensor([ 0.2730, -0.1370], grad_fn=<CatBackward0>)\n",
      "torch.Size([50, 1])\n",
      "torch.Size([50, 1])\n",
      "59 tensor(7.6240, grad_fn=<MseLossBackward0>) tensor([ 3.6137, -3.2920]) tensor([ 0.2730, -0.1370], grad_fn=<CatBackward0>)\n",
      "torch.Size([50, 1])\n",
      "torch.Size([50, 1])\n"
     ]
    },
    {
     "name": "stdout",
     "output_type": "stream",
     "text": [
      "59 tensor(9.7475, grad_fn=<MseLossBackward0>) tensor([ 5.6347, -3.1293]) tensor([ 0.2730, -0.1370], grad_fn=<CatBackward0>)\n",
      "torch.Size([50, 1])\n",
      "torch.Size([50, 1])\n",
      "59 tensor(7.8884, grad_fn=<MseLossBackward0>) tensor([ 3.2934, -3.8799]) tensor([ 0.2730, -0.1370], grad_fn=<CatBackward0>)\n",
      "torch.Size([50, 1])\n",
      "torch.Size([50, 1])\n",
      "60 tensor(12.5751, grad_fn=<MseLossBackward0>) tensor([ 6.8512, -4.4819]) tensor([ 0.2730, -0.1370], grad_fn=<CatBackward0>)\n",
      "torch.Size([50, 1])\n",
      "torch.Size([50, 1])\n",
      "60 tensor(7.6240, grad_fn=<MseLossBackward0>) tensor([ 3.6137, -3.2920]) tensor([ 0.2730, -0.1370], grad_fn=<CatBackward0>)\n",
      "torch.Size([50, 1])\n",
      "torch.Size([50, 1])\n",
      "60 tensor(9.7475, grad_fn=<MseLossBackward0>) tensor([ 5.6347, -3.1293]) tensor([ 0.2730, -0.1370], grad_fn=<CatBackward0>)\n",
      "torch.Size([50, 1])\n",
      "torch.Size([50, 1])\n",
      "60 tensor(7.8884, grad_fn=<MseLossBackward0>) tensor([ 3.2934, -3.8799]) tensor([ 0.2730, -0.1370], grad_fn=<CatBackward0>)\n",
      "torch.Size([50, 1])\n",
      "torch.Size([50, 1])\n",
      "61 tensor(12.5751, grad_fn=<MseLossBackward0>) tensor([ 6.8512, -4.4819]) tensor([ 0.2730, -0.1370], grad_fn=<CatBackward0>)\n",
      "torch.Size([50, 1])\n",
      "torch.Size([50, 1])\n",
      "61 tensor(7.6240, grad_fn=<MseLossBackward0>) tensor([ 3.6137, -3.2920]) tensor([ 0.2730, -0.1370], grad_fn=<CatBackward0>)\n",
      "torch.Size([50, 1])\n",
      "torch.Size([50, 1])\n",
      "61 tensor(9.7475, grad_fn=<MseLossBackward0>) tensor([ 5.6347, -3.1293]) tensor([ 0.2730, -0.1370], grad_fn=<CatBackward0>)\n",
      "torch.Size([50, 1])\n",
      "torch.Size([50, 1])\n",
      "61 tensor(7.8884, grad_fn=<MseLossBackward0>) tensor([ 3.2934, -3.8799]) tensor([ 0.2730, -0.1370], grad_fn=<CatBackward0>)\n",
      "torch.Size([50, 1])\n",
      "torch.Size([50, 1])\n",
      "62 tensor(12.5751, grad_fn=<MseLossBackward0>) tensor([ 6.8512, -4.4819]) tensor([ 0.2730, -0.1370], grad_fn=<CatBackward0>)\n",
      "torch.Size([50, 1])\n",
      "torch.Size([50, 1])\n",
      "62 tensor(7.6240, grad_fn=<MseLossBackward0>) tensor([ 3.6137, -3.2920]) tensor([ 0.2730, -0.1370], grad_fn=<CatBackward0>)\n",
      "torch.Size([50, 1])\n",
      "torch.Size([50, 1])\n",
      "62 tensor(9.7475, grad_fn=<MseLossBackward0>) tensor([ 5.6347, -3.1293]) tensor([ 0.2730, -0.1370], grad_fn=<CatBackward0>)\n",
      "torch.Size([50, 1])\n",
      "torch.Size([50, 1])\n",
      "62 tensor(7.8884, grad_fn=<MseLossBackward0>) tensor([ 3.2934, -3.8799]) tensor([ 0.2730, -0.1370], grad_fn=<CatBackward0>)\n",
      "torch.Size([50, 1])\n",
      "torch.Size([50, 1])\n",
      "63 tensor(12.5751, grad_fn=<MseLossBackward0>) tensor([ 6.8512, -4.4819]) tensor([ 0.2730, -0.1370], grad_fn=<CatBackward0>)\n",
      "torch.Size([50, 1])\n",
      "torch.Size([50, 1])\n",
      "63 tensor(7.6240, grad_fn=<MseLossBackward0>) tensor([ 3.6137, -3.2920]) tensor([ 0.2730, -0.1370], grad_fn=<CatBackward0>)\n",
      "torch.Size([50, 1])\n",
      "torch.Size([50, 1])\n",
      "63 tensor(9.7475, grad_fn=<MseLossBackward0>) tensor([ 5.6347, -3.1293]) tensor([ 0.2730, -0.1370], grad_fn=<CatBackward0>)\n",
      "torch.Size([50, 1])\n",
      "torch.Size([50, 1])\n",
      "63 tensor(7.8884, grad_fn=<MseLossBackward0>) tensor([ 3.2934, -3.8799]) tensor([ 0.2730, -0.1370], grad_fn=<CatBackward0>)\n",
      "torch.Size([50, 1])\n",
      "torch.Size([50, 1])\n",
      "64 tensor(12.5751, grad_fn=<MseLossBackward0>) tensor([ 6.8512, -4.4819]) tensor([ 0.2730, -0.1370], grad_fn=<CatBackward0>)\n",
      "torch.Size([50, 1])\n",
      "torch.Size([50, 1])\n",
      "64 tensor(7.6240, grad_fn=<MseLossBackward0>) tensor([ 3.6137, -3.2920]) tensor([ 0.2730, -0.1370], grad_fn=<CatBackward0>)\n",
      "torch.Size([50, 1])\n",
      "torch.Size([50, 1])\n",
      "64 tensor(9.7475, grad_fn=<MseLossBackward0>) tensor([ 5.6347, -3.1293]) tensor([ 0.2730, -0.1370], grad_fn=<CatBackward0>)\n",
      "torch.Size([50, 1])\n",
      "torch.Size([50, 1])\n",
      "64 tensor(7.8884, grad_fn=<MseLossBackward0>) tensor([ 3.2934, -3.8799]) tensor([ 0.2730, -0.1370], grad_fn=<CatBackward0>)\n",
      "torch.Size([50, 1])\n",
      "torch.Size([50, 1])\n",
      "65 tensor(12.5751, grad_fn=<MseLossBackward0>) tensor([ 6.8512, -4.4819]) tensor([ 0.2730, -0.1370], grad_fn=<CatBackward0>)\n",
      "torch.Size([50, 1])\n",
      "torch.Size([50, 1])\n",
      "65 tensor(7.6240, grad_fn=<MseLossBackward0>) tensor([ 3.6137, -3.2920]) tensor([ 0.2730, -0.1370], grad_fn=<CatBackward0>)\n",
      "torch.Size([50, 1])\n",
      "torch.Size([50, 1])\n",
      "65 tensor(9.7475, grad_fn=<MseLossBackward0>) tensor([ 5.6347, -3.1293]) tensor([ 0.2730, -0.1370], grad_fn=<CatBackward0>)\n",
      "torch.Size([50, 1])\n",
      "torch.Size([50, 1])\n",
      "65 tensor(7.8884, grad_fn=<MseLossBackward0>) tensor([ 3.2934, -3.8799]) tensor([ 0.2730, -0.1370], grad_fn=<CatBackward0>)\n",
      "torch.Size([50, 1])\n",
      "torch.Size([50, 1])\n",
      "66 tensor(12.5751, grad_fn=<MseLossBackward0>) tensor([ 6.8512, -4.4819]) tensor([ 0.2730, -0.1370], grad_fn=<CatBackward0>)\n",
      "torch.Size([50, 1])\n",
      "torch.Size([50, 1])\n",
      "66 tensor(7.6240, grad_fn=<MseLossBackward0>) tensor([ 3.6137, -3.2920]) tensor([ 0.2730, -0.1370], grad_fn=<CatBackward0>)\n",
      "torch.Size([50, 1])\n",
      "torch.Size([50, 1])\n",
      "66 tensor(9.7475, grad_fn=<MseLossBackward0>) tensor([ 5.6347, -3.1293]) tensor([ 0.2730, -0.1370], grad_fn=<CatBackward0>)\n",
      "torch.Size([50, 1])\n",
      "torch.Size([50, 1])\n",
      "66 tensor(7.8884, grad_fn=<MseLossBackward0>) tensor([ 3.2934, -3.8799]) tensor([ 0.2730, -0.1370], grad_fn=<CatBackward0>)\n",
      "torch.Size([50, 1])\n",
      "torch.Size([50, 1])\n",
      "67 tensor(12.5751, grad_fn=<MseLossBackward0>) tensor([ 6.8512, -4.4819]) tensor([ 0.2730, -0.1370], grad_fn=<CatBackward0>)\n",
      "torch.Size([50, 1])\n",
      "torch.Size([50, 1])\n",
      "67 tensor(7.6240, grad_fn=<MseLossBackward0>) tensor([ 3.6137, -3.2920]) tensor([ 0.2730, -0.1370], grad_fn=<CatBackward0>)\n",
      "torch.Size([50, 1])\n",
      "torch.Size([50, 1])\n",
      "67 tensor(9.7475, grad_fn=<MseLossBackward0>) tensor([ 5.6347, -3.1293]) tensor([ 0.2730, -0.1370], grad_fn=<CatBackward0>)\n",
      "torch.Size([50, 1])\n",
      "torch.Size([50, 1])\n",
      "67 tensor(7.8884, grad_fn=<MseLossBackward0>) tensor([ 3.2934, -3.8799]) tensor([ 0.2730, -0.1370], grad_fn=<CatBackward0>)\n",
      "torch.Size([50, 1])\n",
      "torch.Size([50, 1])\n",
      "68 tensor(12.5751, grad_fn=<MseLossBackward0>) tensor([ 6.8512, -4.4819]) tensor([ 0.2730, -0.1370], grad_fn=<CatBackward0>)\n",
      "torch.Size([50, 1])\n",
      "torch.Size([50, 1])\n",
      "68 tensor(7.6240, grad_fn=<MseLossBackward0>) tensor([ 3.6137, -3.2920]) tensor([ 0.2730, -0.1370], grad_fn=<CatBackward0>)\n",
      "torch.Size([50, 1])\n",
      "torch.Size([50, 1])\n",
      "68 tensor(9.7475, grad_fn=<MseLossBackward0>) tensor([ 5.6347, -3.1293]) tensor([ 0.2730, -0.1370], grad_fn=<CatBackward0>)\n",
      "torch.Size([50, 1])\n",
      "torch.Size([50, 1])\n",
      "68 tensor(7.8884, grad_fn=<MseLossBackward0>) tensor([ 3.2934, -3.8799]) tensor([ 0.2730, -0.1370], grad_fn=<CatBackward0>)\n",
      "torch.Size([50, 1])\n",
      "torch.Size([50, 1])\n",
      "69 tensor(12.5751, grad_fn=<MseLossBackward0>) tensor([ 6.8512, -4.4819]) tensor([ 0.2730, -0.1370], grad_fn=<CatBackward0>)\n",
      "torch.Size([50, 1])\n",
      "torch.Size([50, 1])\n",
      "69 tensor(7.6240, grad_fn=<MseLossBackward0>) tensor([ 3.6137, -3.2920]) tensor([ 0.2730, -0.1370], grad_fn=<CatBackward0>)\n",
      "torch.Size([50, 1])\n",
      "torch.Size([50, 1])\n",
      "69 tensor(9.7475, grad_fn=<MseLossBackward0>) tensor([ 5.6347, -3.1293]) tensor([ 0.2730, -0.1370], grad_fn=<CatBackward0>)\n",
      "torch.Size([50, 1])\n",
      "torch.Size([50, 1])\n",
      "69 tensor(7.8884, grad_fn=<MseLossBackward0>) tensor([ 3.2934, -3.8799]) tensor([ 0.2730, -0.1370], grad_fn=<CatBackward0>)\n",
      "torch.Size([50, 1])\n",
      "torch.Size([50, 1])\n",
      "70 tensor(12.5751, grad_fn=<MseLossBackward0>) tensor([ 6.8512, -4.4819]) tensor([ 0.2730, -0.1370], grad_fn=<CatBackward0>)\n",
      "torch.Size([50, 1])\n",
      "torch.Size([50, 1])\n",
      "70 tensor(7.6240, grad_fn=<MseLossBackward0>) tensor([ 3.6137, -3.2920]) tensor([ 0.2730, -0.1370], grad_fn=<CatBackward0>)\n",
      "torch.Size([50, 1])\n",
      "torch.Size([50, 1])\n",
      "70 tensor(9.7475, grad_fn=<MseLossBackward0>) tensor([ 5.6347, -3.1293]) tensor([ 0.2730, -0.1370], grad_fn=<CatBackward0>)\n",
      "torch.Size([50, 1])\n",
      "torch.Size([50, 1])\n",
      "70 tensor(7.8884, grad_fn=<MseLossBackward0>) tensor([ 3.2934, -3.8799]) tensor([ 0.2730, -0.1370], grad_fn=<CatBackward0>)\n",
      "torch.Size([50, 1])\n",
      "torch.Size([50, 1])\n",
      "71 tensor(12.5751, grad_fn=<MseLossBackward0>) tensor([ 6.8512, -4.4819]) tensor([ 0.2730, -0.1370], grad_fn=<CatBackward0>)\n",
      "torch.Size([50, 1])\n",
      "torch.Size([50, 1])\n",
      "71 tensor(7.6240, grad_fn=<MseLossBackward0>) tensor([ 3.6137, -3.2920]) tensor([ 0.2730, -0.1370], grad_fn=<CatBackward0>)\n",
      "torch.Size([50, 1])\n",
      "torch.Size([50, 1])\n",
      "71 tensor(9.7475, grad_fn=<MseLossBackward0>) tensor([ 5.6347, -3.1293]) tensor([ 0.2730, -0.1370], grad_fn=<CatBackward0>)\n",
      "torch.Size([50, 1])\n",
      "torch.Size([50, 1])\n",
      "71 tensor(7.8884, grad_fn=<MseLossBackward0>) tensor([ 3.2934, -3.8799]) tensor([ 0.2730, -0.1370], grad_fn=<CatBackward0>)\n",
      "torch.Size([50, 1])\n",
      "torch.Size([50, 1])\n",
      "72 tensor(12.5751, grad_fn=<MseLossBackward0>) tensor([ 6.8512, -4.4819]) tensor([ 0.2730, -0.1370], grad_fn=<CatBackward0>)\n",
      "torch.Size([50, 1])\n",
      "torch.Size([50, 1])\n",
      "72 tensor(7.6240, grad_fn=<MseLossBackward0>) tensor([ 3.6137, -3.2920]) tensor([ 0.2730, -0.1370], grad_fn=<CatBackward0>)\n",
      "torch.Size([50, 1])\n",
      "torch.Size([50, 1])\n",
      "72 tensor(9.7475, grad_fn=<MseLossBackward0>) tensor([ 5.6347, -3.1293]) tensor([ 0.2730, -0.1370], grad_fn=<CatBackward0>)\n",
      "torch.Size([50, 1])\n",
      "torch.Size([50, 1])\n",
      "72 tensor(7.8884, grad_fn=<MseLossBackward0>) tensor([ 3.2934, -3.8799]) tensor([ 0.2730, -0.1370], grad_fn=<CatBackward0>)\n",
      "torch.Size([50, 1])\n",
      "torch.Size([50, 1])\n",
      "73 tensor(12.5751, grad_fn=<MseLossBackward0>) tensor([ 6.8512, -4.4819]) tensor([ 0.2730, -0.1370], grad_fn=<CatBackward0>)\n",
      "torch.Size([50, 1])\n",
      "torch.Size([50, 1])\n",
      "73 tensor(7.6240, grad_fn=<MseLossBackward0>) tensor([ 3.6137, -3.2920]) tensor([ 0.2730, -0.1370], grad_fn=<CatBackward0>)\n",
      "torch.Size([50, 1])\n",
      "torch.Size([50, 1])\n",
      "73 tensor(9.7475, grad_fn=<MseLossBackward0>) tensor([ 5.6347, -3.1293]) tensor([ 0.2730, -0.1370], grad_fn=<CatBackward0>)\n",
      "torch.Size([50, 1])\n",
      "torch.Size([50, 1])\n",
      "73 tensor(7.8884, grad_fn=<MseLossBackward0>) tensor([ 3.2934, -3.8799]) tensor([ 0.2730, -0.1370], grad_fn=<CatBackward0>)\n",
      "torch.Size([50, 1])\n",
      "torch.Size([50, 1])\n",
      "74 tensor(12.5751, grad_fn=<MseLossBackward0>) tensor([ 6.8512, -4.4819]) tensor([ 0.2730, -0.1370], grad_fn=<CatBackward0>)\n",
      "torch.Size([50, 1])\n",
      "torch.Size([50, 1])\n"
     ]
    },
    {
     "name": "stdout",
     "output_type": "stream",
     "text": [
      "74 tensor(7.6240, grad_fn=<MseLossBackward0>) tensor([ 3.6137, -3.2920]) tensor([ 0.2730, -0.1370], grad_fn=<CatBackward0>)\n",
      "torch.Size([50, 1])\n",
      "torch.Size([50, 1])\n",
      "74 tensor(9.7475, grad_fn=<MseLossBackward0>) tensor([ 5.6347, -3.1293]) tensor([ 0.2730, -0.1370], grad_fn=<CatBackward0>)\n",
      "torch.Size([50, 1])\n",
      "torch.Size([50, 1])\n",
      "74 tensor(7.8884, grad_fn=<MseLossBackward0>) tensor([ 3.2934, -3.8799]) tensor([ 0.2730, -0.1370], grad_fn=<CatBackward0>)\n",
      "torch.Size([50, 1])\n",
      "torch.Size([50, 1])\n",
      "75 tensor(12.5751, grad_fn=<MseLossBackward0>) tensor([ 6.8512, -4.4819]) tensor([ 0.2730, -0.1370], grad_fn=<CatBackward0>)\n",
      "torch.Size([50, 1])\n",
      "torch.Size([50, 1])\n",
      "75 tensor(7.6240, grad_fn=<MseLossBackward0>) tensor([ 3.6137, -3.2920]) tensor([ 0.2730, -0.1370], grad_fn=<CatBackward0>)\n",
      "torch.Size([50, 1])\n",
      "torch.Size([50, 1])\n",
      "75 tensor(9.7475, grad_fn=<MseLossBackward0>) tensor([ 5.6347, -3.1293]) tensor([ 0.2730, -0.1370], grad_fn=<CatBackward0>)\n",
      "torch.Size([50, 1])\n",
      "torch.Size([50, 1])\n",
      "75 tensor(7.8884, grad_fn=<MseLossBackward0>) tensor([ 3.2934, -3.8799]) tensor([ 0.2730, -0.1370], grad_fn=<CatBackward0>)\n",
      "torch.Size([50, 1])\n",
      "torch.Size([50, 1])\n",
      "76 tensor(12.5751, grad_fn=<MseLossBackward0>) tensor([ 6.8512, -4.4819]) tensor([ 0.2730, -0.1370], grad_fn=<CatBackward0>)\n",
      "torch.Size([50, 1])\n",
      "torch.Size([50, 1])\n",
      "76 tensor(7.6240, grad_fn=<MseLossBackward0>) tensor([ 3.6137, -3.2920]) tensor([ 0.2730, -0.1370], grad_fn=<CatBackward0>)\n",
      "torch.Size([50, 1])\n",
      "torch.Size([50, 1])\n",
      "76 tensor(9.7475, grad_fn=<MseLossBackward0>) tensor([ 5.6347, -3.1293]) tensor([ 0.2730, -0.1370], grad_fn=<CatBackward0>)\n",
      "torch.Size([50, 1])\n",
      "torch.Size([50, 1])\n",
      "76 tensor(7.8884, grad_fn=<MseLossBackward0>) tensor([ 3.2934, -3.8799]) tensor([ 0.2730, -0.1370], grad_fn=<CatBackward0>)\n",
      "torch.Size([50, 1])\n",
      "torch.Size([50, 1])\n",
      "77 tensor(12.5751, grad_fn=<MseLossBackward0>) tensor([ 6.8512, -4.4819]) tensor([ 0.2730, -0.1370], grad_fn=<CatBackward0>)\n",
      "torch.Size([50, 1])\n",
      "torch.Size([50, 1])\n",
      "77 tensor(7.6240, grad_fn=<MseLossBackward0>) tensor([ 3.6137, -3.2920]) tensor([ 0.2730, -0.1370], grad_fn=<CatBackward0>)\n",
      "torch.Size([50, 1])\n",
      "torch.Size([50, 1])\n",
      "77 tensor(9.7475, grad_fn=<MseLossBackward0>) tensor([ 5.6347, -3.1293]) tensor([ 0.2730, -0.1370], grad_fn=<CatBackward0>)\n",
      "torch.Size([50, 1])\n",
      "torch.Size([50, 1])\n",
      "77 tensor(7.8884, grad_fn=<MseLossBackward0>) tensor([ 3.2934, -3.8799]) tensor([ 0.2730, -0.1370], grad_fn=<CatBackward0>)\n",
      "torch.Size([50, 1])\n",
      "torch.Size([50, 1])\n",
      "78 tensor(12.5751, grad_fn=<MseLossBackward0>) tensor([ 6.8512, -4.4819]) tensor([ 0.2730, -0.1370], grad_fn=<CatBackward0>)\n",
      "torch.Size([50, 1])\n",
      "torch.Size([50, 1])\n",
      "78 tensor(7.6240, grad_fn=<MseLossBackward0>) tensor([ 3.6137, -3.2920]) tensor([ 0.2730, -0.1370], grad_fn=<CatBackward0>)\n",
      "torch.Size([50, 1])\n",
      "torch.Size([50, 1])\n",
      "78 tensor(9.7475, grad_fn=<MseLossBackward0>) tensor([ 5.6347, -3.1293]) tensor([ 0.2730, -0.1370], grad_fn=<CatBackward0>)\n",
      "torch.Size([50, 1])\n",
      "torch.Size([50, 1])\n",
      "78 tensor(7.8884, grad_fn=<MseLossBackward0>) tensor([ 3.2934, -3.8799]) tensor([ 0.2730, -0.1370], grad_fn=<CatBackward0>)\n",
      "torch.Size([50, 1])\n",
      "torch.Size([50, 1])\n",
      "79 tensor(12.5751, grad_fn=<MseLossBackward0>) tensor([ 6.8512, -4.4819]) tensor([ 0.2730, -0.1370], grad_fn=<CatBackward0>)\n",
      "torch.Size([50, 1])\n",
      "torch.Size([50, 1])\n",
      "79 tensor(7.6240, grad_fn=<MseLossBackward0>) tensor([ 3.6137, -3.2920]) tensor([ 0.2730, -0.1370], grad_fn=<CatBackward0>)\n",
      "torch.Size([50, 1])\n",
      "torch.Size([50, 1])\n",
      "79 tensor(9.7475, grad_fn=<MseLossBackward0>) tensor([ 5.6347, -3.1293]) tensor([ 0.2730, -0.1370], grad_fn=<CatBackward0>)\n",
      "torch.Size([50, 1])\n",
      "torch.Size([50, 1])\n",
      "79 tensor(7.8884, grad_fn=<MseLossBackward0>) tensor([ 3.2934, -3.8799]) tensor([ 0.2730, -0.1370], grad_fn=<CatBackward0>)\n",
      "torch.Size([50, 1])\n",
      "torch.Size([50, 1])\n",
      "80 tensor(12.5751, grad_fn=<MseLossBackward0>) tensor([ 6.8512, -4.4819]) tensor([ 0.2730, -0.1370], grad_fn=<CatBackward0>)\n",
      "torch.Size([50, 1])\n",
      "torch.Size([50, 1])\n",
      "80 tensor(7.6240, grad_fn=<MseLossBackward0>) tensor([ 3.6137, -3.2920]) tensor([ 0.2730, -0.1370], grad_fn=<CatBackward0>)\n",
      "torch.Size([50, 1])\n",
      "torch.Size([50, 1])\n",
      "80 tensor(9.7475, grad_fn=<MseLossBackward0>) tensor([ 5.6347, -3.1293]) tensor([ 0.2730, -0.1370], grad_fn=<CatBackward0>)\n",
      "torch.Size([50, 1])\n",
      "torch.Size([50, 1])\n",
      "80 tensor(7.8884, grad_fn=<MseLossBackward0>) tensor([ 3.2934, -3.8799]) tensor([ 0.2730, -0.1370], grad_fn=<CatBackward0>)\n",
      "torch.Size([50, 1])\n",
      "torch.Size([50, 1])\n",
      "81 tensor(12.5751, grad_fn=<MseLossBackward0>) tensor([ 6.8512, -4.4819]) tensor([ 0.2730, -0.1370], grad_fn=<CatBackward0>)\n",
      "torch.Size([50, 1])\n",
      "torch.Size([50, 1])\n",
      "81 tensor(7.6240, grad_fn=<MseLossBackward0>) tensor([ 3.6137, -3.2920]) tensor([ 0.2730, -0.1370], grad_fn=<CatBackward0>)\n",
      "torch.Size([50, 1])\n",
      "torch.Size([50, 1])\n",
      "81 tensor(9.7475, grad_fn=<MseLossBackward0>) tensor([ 5.6347, -3.1293]) tensor([ 0.2730, -0.1370], grad_fn=<CatBackward0>)\n",
      "torch.Size([50, 1])\n",
      "torch.Size([50, 1])\n",
      "81 tensor(7.8884, grad_fn=<MseLossBackward0>) tensor([ 3.2934, -3.8799]) tensor([ 0.2730, -0.1370], grad_fn=<CatBackward0>)\n",
      "torch.Size([50, 1])\n",
      "torch.Size([50, 1])\n",
      "82 tensor(12.5751, grad_fn=<MseLossBackward0>) tensor([ 6.8512, -4.4819]) tensor([ 0.2730, -0.1370], grad_fn=<CatBackward0>)\n",
      "torch.Size([50, 1])\n",
      "torch.Size([50, 1])\n",
      "82 tensor(7.6240, grad_fn=<MseLossBackward0>) tensor([ 3.6137, -3.2920]) tensor([ 0.2730, -0.1370], grad_fn=<CatBackward0>)\n",
      "torch.Size([50, 1])\n",
      "torch.Size([50, 1])\n",
      "82 tensor(9.7475, grad_fn=<MseLossBackward0>) tensor([ 5.6347, -3.1293]) tensor([ 0.2730, -0.1370], grad_fn=<CatBackward0>)\n",
      "torch.Size([50, 1])\n",
      "torch.Size([50, 1])\n",
      "82 tensor(7.8884, grad_fn=<MseLossBackward0>) tensor([ 3.2934, -3.8799]) tensor([ 0.2730, -0.1370], grad_fn=<CatBackward0>)\n",
      "torch.Size([50, 1])\n",
      "torch.Size([50, 1])\n",
      "83 tensor(12.5751, grad_fn=<MseLossBackward0>) tensor([ 6.8512, -4.4819]) tensor([ 0.2730, -0.1370], grad_fn=<CatBackward0>)\n",
      "torch.Size([50, 1])\n",
      "torch.Size([50, 1])\n",
      "83 tensor(7.6240, grad_fn=<MseLossBackward0>) tensor([ 3.6137, -3.2920]) tensor([ 0.2730, -0.1370], grad_fn=<CatBackward0>)\n",
      "torch.Size([50, 1])\n",
      "torch.Size([50, 1])\n",
      "83 tensor(9.7475, grad_fn=<MseLossBackward0>) tensor([ 5.6347, -3.1293]) tensor([ 0.2730, -0.1370], grad_fn=<CatBackward0>)\n",
      "torch.Size([50, 1])\n",
      "torch.Size([50, 1])\n",
      "83 tensor(7.8884, grad_fn=<MseLossBackward0>) tensor([ 3.2934, -3.8799]) tensor([ 0.2730, -0.1370], grad_fn=<CatBackward0>)\n",
      "torch.Size([50, 1])\n",
      "torch.Size([50, 1])\n",
      "84 tensor(12.5751, grad_fn=<MseLossBackward0>) tensor([ 6.8512, -4.4819]) tensor([ 0.2730, -0.1370], grad_fn=<CatBackward0>)\n",
      "torch.Size([50, 1])\n",
      "torch.Size([50, 1])\n",
      "84 tensor(7.6240, grad_fn=<MseLossBackward0>) tensor([ 3.6137, -3.2920]) tensor([ 0.2730, -0.1370], grad_fn=<CatBackward0>)\n",
      "torch.Size([50, 1])\n",
      "torch.Size([50, 1])\n",
      "84 tensor(9.7475, grad_fn=<MseLossBackward0>) tensor([ 5.6347, -3.1293]) tensor([ 0.2730, -0.1370], grad_fn=<CatBackward0>)\n",
      "torch.Size([50, 1])\n",
      "torch.Size([50, 1])\n",
      "84 tensor(7.8884, grad_fn=<MseLossBackward0>) tensor([ 3.2934, -3.8799]) tensor([ 0.2730, -0.1370], grad_fn=<CatBackward0>)\n",
      "torch.Size([50, 1])\n",
      "torch.Size([50, 1])\n",
      "85 tensor(12.5751, grad_fn=<MseLossBackward0>) tensor([ 6.8512, -4.4819]) tensor([ 0.2730, -0.1370], grad_fn=<CatBackward0>)\n",
      "torch.Size([50, 1])\n",
      "torch.Size([50, 1])\n",
      "85 tensor(7.6240, grad_fn=<MseLossBackward0>) tensor([ 3.6137, -3.2920]) tensor([ 0.2730, -0.1370], grad_fn=<CatBackward0>)\n",
      "torch.Size([50, 1])\n",
      "torch.Size([50, 1])\n",
      "85 tensor(9.7475, grad_fn=<MseLossBackward0>) tensor([ 5.6347, -3.1293]) tensor([ 0.2730, -0.1370], grad_fn=<CatBackward0>)\n",
      "torch.Size([50, 1])\n",
      "torch.Size([50, 1])\n",
      "85 tensor(7.8884, grad_fn=<MseLossBackward0>) tensor([ 3.2934, -3.8799]) tensor([ 0.2730, -0.1370], grad_fn=<CatBackward0>)\n",
      "torch.Size([50, 1])\n",
      "torch.Size([50, 1])\n",
      "86 tensor(12.5751, grad_fn=<MseLossBackward0>) tensor([ 6.8512, -4.4819]) tensor([ 0.2730, -0.1370], grad_fn=<CatBackward0>)\n",
      "torch.Size([50, 1])\n",
      "torch.Size([50, 1])\n",
      "86 tensor(7.6240, grad_fn=<MseLossBackward0>) tensor([ 3.6137, -3.2920]) tensor([ 0.2730, -0.1370], grad_fn=<CatBackward0>)\n",
      "torch.Size([50, 1])\n",
      "torch.Size([50, 1])\n",
      "86 tensor(9.7475, grad_fn=<MseLossBackward0>) tensor([ 5.6347, -3.1293]) tensor([ 0.2730, -0.1370], grad_fn=<CatBackward0>)\n",
      "torch.Size([50, 1])\n",
      "torch.Size([50, 1])\n",
      "86 tensor(7.8884, grad_fn=<MseLossBackward0>) tensor([ 3.2934, -3.8799]) tensor([ 0.2730, -0.1370], grad_fn=<CatBackward0>)\n",
      "torch.Size([50, 1])\n",
      "torch.Size([50, 1])\n",
      "87 tensor(12.5751, grad_fn=<MseLossBackward0>) tensor([ 6.8512, -4.4819]) tensor([ 0.2730, -0.1370], grad_fn=<CatBackward0>)\n",
      "torch.Size([50, 1])\n",
      "torch.Size([50, 1])\n",
      "87 tensor(7.6240, grad_fn=<MseLossBackward0>) tensor([ 3.6137, -3.2920]) tensor([ 0.2730, -0.1370], grad_fn=<CatBackward0>)\n",
      "torch.Size([50, 1])\n",
      "torch.Size([50, 1])\n",
      "87 tensor(9.7475, grad_fn=<MseLossBackward0>) tensor([ 5.6347, -3.1293]) tensor([ 0.2730, -0.1370], grad_fn=<CatBackward0>)\n",
      "torch.Size([50, 1])\n",
      "torch.Size([50, 1])\n",
      "87 tensor(7.8884, grad_fn=<MseLossBackward0>) tensor([ 3.2934, -3.8799]) tensor([ 0.2730, -0.1370], grad_fn=<CatBackward0>)\n",
      "torch.Size([50, 1])\n",
      "torch.Size([50, 1])\n",
      "88 tensor(12.5751, grad_fn=<MseLossBackward0>) tensor([ 6.8512, -4.4819]) tensor([ 0.2730, -0.1370], grad_fn=<CatBackward0>)\n",
      "torch.Size([50, 1])\n",
      "torch.Size([50, 1])\n",
      "88 tensor(7.6240, grad_fn=<MseLossBackward0>) tensor([ 3.6137, -3.2920]) tensor([ 0.2730, -0.1370], grad_fn=<CatBackward0>)\n",
      "torch.Size([50, 1])\n",
      "torch.Size([50, 1])\n",
      "88 tensor(9.7475, grad_fn=<MseLossBackward0>) tensor([ 5.6347, -3.1293]) tensor([ 0.2730, -0.1370], grad_fn=<CatBackward0>)\n",
      "torch.Size([50, 1])\n",
      "torch.Size([50, 1])\n",
      "88 tensor(7.8884, grad_fn=<MseLossBackward0>) tensor([ 3.2934, -3.8799]) tensor([ 0.2730, -0.1370], grad_fn=<CatBackward0>)\n",
      "torch.Size([50, 1])\n",
      "torch.Size([50, 1])\n",
      "89 tensor(12.5751, grad_fn=<MseLossBackward0>) tensor([ 6.8512, -4.4819]) tensor([ 0.2730, -0.1370], grad_fn=<CatBackward0>)\n",
      "torch.Size([50, 1])\n",
      "torch.Size([50, 1])\n"
     ]
    },
    {
     "name": "stdout",
     "output_type": "stream",
     "text": [
      "89 tensor(7.6240, grad_fn=<MseLossBackward0>) tensor([ 3.6137, -3.2920]) tensor([ 0.2730, -0.1370], grad_fn=<CatBackward0>)\n",
      "torch.Size([50, 1])\n",
      "torch.Size([50, 1])\n",
      "89 tensor(9.7475, grad_fn=<MseLossBackward0>) tensor([ 5.6347, -3.1293]) tensor([ 0.2730, -0.1370], grad_fn=<CatBackward0>)\n",
      "torch.Size([50, 1])\n",
      "torch.Size([50, 1])\n",
      "89 tensor(7.8884, grad_fn=<MseLossBackward0>) tensor([ 3.2934, -3.8799]) tensor([ 0.2730, -0.1370], grad_fn=<CatBackward0>)\n",
      "torch.Size([50, 1])\n",
      "torch.Size([50, 1])\n",
      "90 tensor(12.5751, grad_fn=<MseLossBackward0>) tensor([ 6.8512, -4.4819]) tensor([ 0.2730, -0.1370], grad_fn=<CatBackward0>)\n",
      "torch.Size([50, 1])\n",
      "torch.Size([50, 1])\n",
      "90 tensor(7.6240, grad_fn=<MseLossBackward0>) tensor([ 3.6137, -3.2920]) tensor([ 0.2730, -0.1370], grad_fn=<CatBackward0>)\n",
      "torch.Size([50, 1])\n",
      "torch.Size([50, 1])\n",
      "90 tensor(9.7475, grad_fn=<MseLossBackward0>) tensor([ 5.6347, -3.1293]) tensor([ 0.2730, -0.1370], grad_fn=<CatBackward0>)\n",
      "torch.Size([50, 1])\n",
      "torch.Size([50, 1])\n",
      "90 tensor(7.8884, grad_fn=<MseLossBackward0>) tensor([ 3.2934, -3.8799]) tensor([ 0.2730, -0.1370], grad_fn=<CatBackward0>)\n",
      "torch.Size([50, 1])\n",
      "torch.Size([50, 1])\n",
      "91 tensor(12.5751, grad_fn=<MseLossBackward0>) tensor([ 6.8512, -4.4819]) tensor([ 0.2730, -0.1370], grad_fn=<CatBackward0>)\n",
      "torch.Size([50, 1])\n",
      "torch.Size([50, 1])\n",
      "91 tensor(7.6240, grad_fn=<MseLossBackward0>) tensor([ 3.6137, -3.2920]) tensor([ 0.2730, -0.1370], grad_fn=<CatBackward0>)\n",
      "torch.Size([50, 1])\n",
      "torch.Size([50, 1])\n",
      "91 tensor(9.7475, grad_fn=<MseLossBackward0>) tensor([ 5.6347, -3.1293]) tensor([ 0.2730, -0.1370], grad_fn=<CatBackward0>)\n",
      "torch.Size([50, 1])\n",
      "torch.Size([50, 1])\n",
      "91 tensor(7.8884, grad_fn=<MseLossBackward0>) tensor([ 3.2934, -3.8799]) tensor([ 0.2730, -0.1370], grad_fn=<CatBackward0>)\n",
      "torch.Size([50, 1])\n",
      "torch.Size([50, 1])\n",
      "92 tensor(12.5751, grad_fn=<MseLossBackward0>) tensor([ 6.8512, -4.4819]) tensor([ 0.2730, -0.1370], grad_fn=<CatBackward0>)\n",
      "torch.Size([50, 1])\n",
      "torch.Size([50, 1])\n",
      "92 tensor(7.6240, grad_fn=<MseLossBackward0>) tensor([ 3.6137, -3.2920]) tensor([ 0.2730, -0.1370], grad_fn=<CatBackward0>)\n",
      "torch.Size([50, 1])\n",
      "torch.Size([50, 1])\n",
      "92 tensor(9.7475, grad_fn=<MseLossBackward0>) tensor([ 5.6347, -3.1293]) tensor([ 0.2730, -0.1370], grad_fn=<CatBackward0>)\n",
      "torch.Size([50, 1])\n",
      "torch.Size([50, 1])\n",
      "92 tensor(7.8884, grad_fn=<MseLossBackward0>) tensor([ 3.2934, -3.8799]) tensor([ 0.2730, -0.1370], grad_fn=<CatBackward0>)\n",
      "torch.Size([50, 1])\n",
      "torch.Size([50, 1])\n",
      "93 tensor(12.5751, grad_fn=<MseLossBackward0>) tensor([ 6.8512, -4.4819]) tensor([ 0.2730, -0.1370], grad_fn=<CatBackward0>)\n",
      "torch.Size([50, 1])\n",
      "torch.Size([50, 1])\n",
      "93 tensor(7.6240, grad_fn=<MseLossBackward0>) tensor([ 3.6137, -3.2920]) tensor([ 0.2730, -0.1370], grad_fn=<CatBackward0>)\n",
      "torch.Size([50, 1])\n",
      "torch.Size([50, 1])\n",
      "93 tensor(9.7475, grad_fn=<MseLossBackward0>) tensor([ 5.6347, -3.1293]) tensor([ 0.2730, -0.1370], grad_fn=<CatBackward0>)\n",
      "torch.Size([50, 1])\n",
      "torch.Size([50, 1])\n",
      "93 tensor(7.8884, grad_fn=<MseLossBackward0>) tensor([ 3.2934, -3.8799]) tensor([ 0.2730, -0.1370], grad_fn=<CatBackward0>)\n",
      "torch.Size([50, 1])\n",
      "torch.Size([50, 1])\n",
      "94 tensor(12.5751, grad_fn=<MseLossBackward0>) tensor([ 6.8512, -4.4819]) tensor([ 0.2730, -0.1370], grad_fn=<CatBackward0>)\n",
      "torch.Size([50, 1])\n",
      "torch.Size([50, 1])\n",
      "94 tensor(7.6240, grad_fn=<MseLossBackward0>) tensor([ 3.6137, -3.2920]) tensor([ 0.2730, -0.1370], grad_fn=<CatBackward0>)\n",
      "torch.Size([50, 1])\n",
      "torch.Size([50, 1])\n",
      "94 tensor(9.7475, grad_fn=<MseLossBackward0>) tensor([ 5.6347, -3.1293]) tensor([ 0.2730, -0.1370], grad_fn=<CatBackward0>)\n",
      "torch.Size([50, 1])\n",
      "torch.Size([50, 1])\n",
      "94 tensor(7.8884, grad_fn=<MseLossBackward0>) tensor([ 3.2934, -3.8799]) tensor([ 0.2730, -0.1370], grad_fn=<CatBackward0>)\n",
      "torch.Size([50, 1])\n",
      "torch.Size([50, 1])\n",
      "95 tensor(12.5751, grad_fn=<MseLossBackward0>) tensor([ 6.8512, -4.4819]) tensor([ 0.2730, -0.1370], grad_fn=<CatBackward0>)\n",
      "torch.Size([50, 1])\n",
      "torch.Size([50, 1])\n",
      "95 tensor(7.6240, grad_fn=<MseLossBackward0>) tensor([ 3.6137, -3.2920]) tensor([ 0.2730, -0.1370], grad_fn=<CatBackward0>)\n",
      "torch.Size([50, 1])\n",
      "torch.Size([50, 1])\n",
      "95 tensor(9.7475, grad_fn=<MseLossBackward0>) tensor([ 5.6347, -3.1293]) tensor([ 0.2730, -0.1370], grad_fn=<CatBackward0>)\n",
      "torch.Size([50, 1])\n",
      "torch.Size([50, 1])\n",
      "95 tensor(7.8884, grad_fn=<MseLossBackward0>) tensor([ 3.2934, -3.8799]) tensor([ 0.2730, -0.1370], grad_fn=<CatBackward0>)\n",
      "torch.Size([50, 1])\n",
      "torch.Size([50, 1])\n",
      "96 tensor(12.5751, grad_fn=<MseLossBackward0>) tensor([ 6.8512, -4.4819]) tensor([ 0.2730, -0.1370], grad_fn=<CatBackward0>)\n",
      "torch.Size([50, 1])\n",
      "torch.Size([50, 1])\n",
      "96 tensor(7.6240, grad_fn=<MseLossBackward0>) tensor([ 3.6137, -3.2920]) tensor([ 0.2730, -0.1370], grad_fn=<CatBackward0>)\n",
      "torch.Size([50, 1])\n",
      "torch.Size([50, 1])\n",
      "96 tensor(9.7475, grad_fn=<MseLossBackward0>) tensor([ 5.6347, -3.1293]) tensor([ 0.2730, -0.1370], grad_fn=<CatBackward0>)\n",
      "torch.Size([50, 1])\n",
      "torch.Size([50, 1])\n",
      "96 tensor(7.8884, grad_fn=<MseLossBackward0>) tensor([ 3.2934, -3.8799]) tensor([ 0.2730, -0.1370], grad_fn=<CatBackward0>)\n",
      "torch.Size([50, 1])\n",
      "torch.Size([50, 1])\n",
      "97 tensor(12.5751, grad_fn=<MseLossBackward0>) tensor([ 6.8512, -4.4819]) tensor([ 0.2730, -0.1370], grad_fn=<CatBackward0>)\n",
      "torch.Size([50, 1])\n",
      "torch.Size([50, 1])\n",
      "97 tensor(7.6240, grad_fn=<MseLossBackward0>) tensor([ 3.6137, -3.2920]) tensor([ 0.2730, -0.1370], grad_fn=<CatBackward0>)\n",
      "torch.Size([50, 1])\n",
      "torch.Size([50, 1])\n",
      "97 tensor(9.7475, grad_fn=<MseLossBackward0>) tensor([ 5.6347, -3.1293]) tensor([ 0.2730, -0.1370], grad_fn=<CatBackward0>)\n",
      "torch.Size([50, 1])\n",
      "torch.Size([50, 1])\n",
      "97 tensor(7.8884, grad_fn=<MseLossBackward0>) tensor([ 3.2934, -3.8799]) tensor([ 0.2730, -0.1370], grad_fn=<CatBackward0>)\n",
      "torch.Size([50, 1])\n",
      "torch.Size([50, 1])\n",
      "98 tensor(12.5751, grad_fn=<MseLossBackward0>) tensor([ 6.8512, -4.4819]) tensor([ 0.2730, -0.1370], grad_fn=<CatBackward0>)\n",
      "torch.Size([50, 1])\n",
      "torch.Size([50, 1])\n",
      "98 tensor(7.6240, grad_fn=<MseLossBackward0>) tensor([ 3.6137, -3.2920]) tensor([ 0.2730, -0.1370], grad_fn=<CatBackward0>)\n",
      "torch.Size([50, 1])\n",
      "torch.Size([50, 1])\n",
      "98 tensor(9.7475, grad_fn=<MseLossBackward0>) tensor([ 5.6347, -3.1293]) tensor([ 0.2730, -0.1370], grad_fn=<CatBackward0>)\n",
      "torch.Size([50, 1])\n",
      "torch.Size([50, 1])\n",
      "98 tensor(7.8884, grad_fn=<MseLossBackward0>) tensor([ 3.2934, -3.8799]) tensor([ 0.2730, -0.1370], grad_fn=<CatBackward0>)\n",
      "torch.Size([50, 1])\n",
      "torch.Size([50, 1])\n",
      "99 tensor(12.5751, grad_fn=<MseLossBackward0>) tensor([ 6.8512, -4.4819]) tensor([ 0.2730, -0.1370], grad_fn=<CatBackward0>)\n",
      "torch.Size([50, 1])\n",
      "torch.Size([50, 1])\n",
      "99 tensor(7.6240, grad_fn=<MseLossBackward0>) tensor([ 3.6137, -3.2920]) tensor([ 0.2730, -0.1370], grad_fn=<CatBackward0>)\n",
      "torch.Size([50, 1])\n",
      "torch.Size([50, 1])\n",
      "99 tensor(9.7475, grad_fn=<MseLossBackward0>) tensor([ 5.6347, -3.1293]) tensor([ 0.2730, -0.1370], grad_fn=<CatBackward0>)\n",
      "torch.Size([50, 1])\n",
      "torch.Size([50, 1])\n",
      "99 tensor(7.8884, grad_fn=<MseLossBackward0>) tensor([ 3.2934, -3.8799]) tensor([ 0.2730, -0.1370], grad_fn=<CatBackward0>)\n"
     ]
    }
   ],
   "source": [
    "model = MLP_Net(user_id=0)\n",
    "\n",
    "lr = 0.01\n",
    "\n",
    "dataloader = DataLoader(MyDataset(datapoints[19][\"features\"], datapoints[19][\"label\"]), batch_size=50, shuffle=False)\n",
    "optimizer = torch.optim.SGD(model.parameters(), lr=0.01)\n",
    "for i in range(100):\n",
    "    for (x, y) in dataloader:\n",
    "        criterion = nn.MSELoss()\n",
    "        optimizer.zero_grad()\n",
    "        yhat = model(x)\n",
    "        print(y.size())\n",
    "        print(yhat.size())\n",
    "        loss = criterion(yhat, y)\n",
    "        \n",
    "        loss.backward()\n",
    "        print(i, loss, grads_to_vector(model.parameters()), parameters_to_vector(model.parameters()))\n",
    "        #optimizer.step()\n",
    "        #new_model = parameters_to_vector(model.parameters()) - lr * grads_to_vector(model.parameters())\n",
    "        #vector_to_parameters(parameters=model.parameters(), vec=new_model)\n",
    "        #if i % 50 ==0:\n",
    "            #lr *= 0.9\n",
    "            \n",
    "\n",
    "#parameters_to_vector(model.parameters())"
   ]
  },
  {
   "cell_type": "code",
   "execution_count": 11,
   "id": "5eb22da2",
   "metadata": {},
   "outputs": [
    {
     "data": {
      "text/plain": [
       "tensor([ 0.2730, -0.1370], grad_fn=<CatBackward0>)"
      ]
     },
     "execution_count": 11,
     "metadata": {},
     "output_type": "execute_result"
    }
   ],
   "source": [
    "parameters_to_vector(model.parameters())"
   ]
  },
  {
   "cell_type": "code",
   "execution_count": 12,
   "id": "52396ca6",
   "metadata": {},
   "outputs": [],
   "source": [
    "class CNN_Net(nn.Module):\n",
    "    def __init__(self):\n",
    "        super(CNN_Net, self).__init__()\n",
    "        self.conv1 = nn.Conv2d(1, 32, kernel_size=5)\n",
    "        self.conv2 = nn.Conv2d(32, 64, kernel_size=5)\n",
    "        self.pool = nn.MaxPool2d(2,2)\n",
    "        self.dropout = nn.Dropout(p=0.2)\n",
    "        self.fc1 = nn.Linear(1024, 512)\n",
    "        self.fc2 = nn.Linear(512, 10)\n",
    "\n",
    "    def forward(self, x):\n",
    "        x = self.pool(F.relu(self.conv1(x)))\n",
    "        x = self.pool(F.relu(self.conv2(x)))\n",
    "        x = self.dropout(x)\n",
    "        x = torch.flatten(x, 1)\n",
    "        x = F.relu(self.fc1(x))\n",
    "        output = self.fc2(x)\n",
    "        return output"
   ]
  },
  {
   "cell_type": "code",
   "execution_count": 13,
   "id": "cb5fe42b",
   "metadata": {},
   "outputs": [],
   "source": [
    "class ClientUpdate(object):\n",
    "    def __init__(self, dataset, batchSize, alpha, lamda, epochs, projection_list, projected_weights):\n",
    "        self.train_loader = DataLoader(MyDataset(dataset[\"features\"], dataset[\"label\"]), batch_size=batchSize, shuffle=True)\n",
    "        #self.learning_rate = learning_rate\n",
    "        self.epochs = epochs\n",
    "        self.batchSize = batchSize\n",
    "\n",
    "    def train(self, model):\n",
    "        criterion = nn.MSELoss()\n",
    "        optimizer = torch.optim.SGD(model.parameters(), lr=1e-3\n",
    "                                   )\n",
    "\n",
    "        e_loss = []\n",
    "        for epoch in range(1, self.epochs+1):\n",
    "            train_loss = 0\n",
    "            model.train()\n",
    "            for i, (data, labels) in zip(range(1), self.train_loader):\n",
    "                data, labels = data, labels\n",
    "                optimizer.zero_grad() \n",
    "                output = model(data)  \n",
    "                loss = criterion(output, labels)\n",
    "                #loss += mu/2 * torch.norm(client_param.data - server_param.data)**2\n",
    "                loss.backward()\n",
    "                #grads = grads_to_vector(model.parameters())\n",
    "                optimizer.step()\n",
    "                train_loss += loss.item()*data.size(0)\n",
    "                \n",
    "                \n",
    "\n",
    "            train_loss = train_loss/self.batchSize#len(self.train_loader.dataset) \n",
    "            e_loss.append(train_loss)\n",
    "\n",
    "        total_loss = e_loss#sum(e_loss)/len(e_loss)\n",
    "\n",
    "        return model.state_dict(), total_loss"
   ]
  },
  {
   "cell_type": "code",
   "execution_count": 14,
   "id": "2eeef5b5",
   "metadata": {},
   "outputs": [],
   "source": [
    "# Preparing projection matrices\n",
    "models = [MLP_Net(user_id=i) for i in range(no_users)]\n",
    "#temp = MLP_Net()\n",
    "projection_list = []\n",
    "projected_weights = []\n",
    "\n",
    "def update_ProjWeight(projection_list, projected_weights, first_run=True):\n",
    "    #projected_weights = []\n",
    "    for i in range(no_users):\n",
    "        neighbors_mat = []\n",
    "        neighbors_weights = []\n",
    "        for j in range(no_users):\n",
    "            if j in G.neighbors(i):\n",
    "                with torch.no_grad():\n",
    "                    if first_run == True:\n",
    "                        row, column = parameters_to_vector(models[j].parameters()).size()[0], parameters_to_vector(models[i].parameters()).size()[0]\n",
    "                        mat = torch.zeros((row, column))\n",
    "                        mat.fill_diagonal_(1.0 + 1.0 * float(np.random.randn(1)))\n",
    "                        neighbors_mat.append(mat)\n",
    "                        neighbors_weights.append(torch.matmul(mat, parameters_to_vector(models[j].parameters())))\n",
    "                    else:\n",
    "                        neighbors_weights.append(torch.matmul(projection_list[j][i], parameters_to_vector(models[j].parameters())))\n",
    "            else:\n",
    "                neighbors_mat.append(0)\n",
    "                neighbors_weights.append(0)\n",
    "        if first_run == True:\n",
    "            projection_list.append(neighbors_mat)\n",
    "        projected_weights.append(neighbors_weights)\n",
    "\n",
    "update_ProjWeight(projection_list, projected_weights)\n",
    "\n"
   ]
  },
  {
   "cell_type": "code",
   "execution_count": 15,
   "id": "8a69ce43",
   "metadata": {},
   "outputs": [
    {
     "name": "stdout",
     "output_type": "stream",
     "text": [
      "[0, 0, tensor([[1.7150, 0.0000],\n",
      "        [0.0000, 1.7150]]), tensor([[-0.0422,  0.0000],\n",
      "        [ 0.0000, -0.0422]]), tensor([[2.1969, 0.0000],\n",
      "        [0.0000, 2.1969]]), 0, 0, 0, 0, tensor([[1.7599, 0.0000],\n",
      "        [0.0000, 1.7599]]), 0, 0, 0, 0, 0, 0, 0, 0, 0, tensor([[1.1608, 0.0000],\n",
      "        [0.0000, 1.1608]])]\n"
     ]
    }
   ],
   "source": [
    "print(projection_list[0])"
   ]
  },
  {
   "cell_type": "code",
   "execution_count": 16,
   "id": "5f6059eb",
   "metadata": {},
   "outputs": [],
   "source": [
    "def testing(model, dataset, bs, criterion): \n",
    "    test_loss = 0\n",
    "    correct = 0\n",
    "    test_loader = DataLoader(MyDataset(dataset[\"features\"], dataset[\"label\"]), batch_size=bs)\n",
    "    l = len(test_loader)\n",
    "    model.eval()\n",
    "    for data, labels in test_loader:\n",
    "        data, labels = data, labels\n",
    "        output = model(data)\n",
    "        loss = criterion(output, labels)\n",
    "        test_loss += loss.item()*data.size(0)\n",
    "        #_, pred = torch.max(output, 1)\n",
    "        #correct += pred.eq(labels.data.view_as(pred)).sum().item()\n",
    "    \n",
    "    test_loss /= len(test_loader.dataset)\n",
    "    \n",
    "    return test_loss"
   ]
  },
  {
   "cell_type": "code",
   "execution_count": null,
   "id": "1c5a8c93",
   "metadata": {},
   "outputs": [],
   "source": []
  },
  {
   "cell_type": "code",
   "execution_count": 17,
   "id": "a5a25e6d",
   "metadata": {},
   "outputs": [],
   "source": [
    "def rel_error(model):\n",
    "    return (torch.norm(parameters_to_vector(model.parameters()) - datapoints[model.user_id]['exact_weights']) / torch.norm(datapoints[model.user_id]['exact_weights'])).detach()"
   ]
  },
  {
   "cell_type": "code",
   "execution_count": 18,
   "id": "1d1a33e3",
   "metadata": {},
   "outputs": [
    {
     "name": "stdout",
     "output_type": "stream",
     "text": [
      "tensor([-0.0935,  0.0979])\n"
     ]
    },
    {
     "data": {
      "text/plain": [
       "tensor([-0.1870,  0.1958], grad_fn=<CatBackward0>)"
      ]
     },
     "execution_count": 18,
     "metadata": {},
     "output_type": "execute_result"
    }
   ],
   "source": [
    "model = MLP_Net(user_id=0)\n",
    "\n",
    "from torch.nn.utils import parameters_to_vector, vector_to_parameters\n",
    "\n",
    "with torch.no_grad():    \n",
    "    params = parameters_to_vector(model.parameters())\n",
    "\n",
    "    print(params)\n",
    "\n",
    "params *= 2.\n",
    "\n",
    "vector_to_parameters(parameters=model.parameters(), vec=params)\n",
    "\n",
    "parameters_to_vector(model.parameters())\n",
    "\n",
    "\n",
    "\n"
   ]
  },
  {
   "cell_type": "code",
   "execution_count": 19,
   "id": "71472693",
   "metadata": {},
   "outputs": [
    {
     "name": "stderr",
     "output_type": "stream",
     "text": [
      "  0%|          | 1/2000 [00:00<04:26,  7.51it/s]"
     ]
    },
    {
     "name": "stdout",
     "output_type": "stream",
     "text": [
      "Training_loss 9.40203,   Relative Error 1.11623\n"
     ]
    },
    {
     "name": "stderr",
     "output_type": "stream",
     "text": [
      "\r",
      "  0%|          | 2/2000 [00:00<04:15,  7.81it/s]"
     ]
    },
    {
     "name": "stdout",
     "output_type": "stream",
     "text": [
      "Training_loss 9.38445,   Relative Error 1.11508\n"
     ]
    },
    {
     "name": "stderr",
     "output_type": "stream",
     "text": [
      "\r",
      "  0%|          | 3/2000 [00:00<05:53,  5.65it/s]"
     ]
    },
    {
     "name": "stdout",
     "output_type": "stream",
     "text": [
      "Training_loss 9.34538,   Relative Error 1.11280\n"
     ]
    },
    {
     "name": "stderr",
     "output_type": "stream",
     "text": [
      "  0%|          | 5/2000 [00:00<06:07,  5.42it/s]"
     ]
    },
    {
     "name": "stdout",
     "output_type": "stream",
     "text": [
      "Training_loss 9.29714,   Relative Error 1.11002\n",
      "Training_loss 9.25749,   Relative Error 1.10764\n"
     ]
    },
    {
     "name": "stderr",
     "output_type": "stream",
     "text": [
      "  0%|          | 7/2000 [00:01<05:03,  6.58it/s]"
     ]
    },
    {
     "name": "stdout",
     "output_type": "stream",
     "text": [
      "Training_loss 9.23971,   Relative Error 1.10663\n",
      "Training_loss 9.20706,   Relative Error 1.10464\n"
     ]
    },
    {
     "name": "stderr",
     "output_type": "stream",
     "text": [
      "  0%|          | 9/2000 [00:01<04:26,  7.46it/s]"
     ]
    },
    {
     "name": "stdout",
     "output_type": "stream",
     "text": [
      "Training_loss 9.17206,   Relative Error 1.10257\n",
      "Training_loss 9.13328,   Relative Error 1.10020\n"
     ]
    },
    {
     "name": "stderr",
     "output_type": "stream",
     "text": [
      "  1%|          | 11/2000 [00:01<04:20,  7.65it/s]"
     ]
    },
    {
     "name": "stdout",
     "output_type": "stream",
     "text": [
      "Training_loss 9.09942,   Relative Error 1.09809\n",
      "Training_loss 9.05152,   Relative Error 1.09526\n"
     ]
    },
    {
     "name": "stderr",
     "output_type": "stream",
     "text": [
      "  1%|          | 13/2000 [00:01<04:35,  7.20it/s]"
     ]
    },
    {
     "name": "stdout",
     "output_type": "stream",
     "text": [
      "Training_loss 9.02747,   Relative Error 1.09382\n",
      "Training_loss 9.00831,   Relative Error 1.09262\n"
     ]
    },
    {
     "name": "stderr",
     "output_type": "stream",
     "text": [
      "  1%|          | 16/2000 [00:02<03:57,  8.36it/s]"
     ]
    },
    {
     "name": "stdout",
     "output_type": "stream",
     "text": [
      "Training_loss 8.98141,   Relative Error 1.09099\n",
      "Training_loss 8.93156,   Relative Error 1.08793\n",
      "Training_loss 8.91083,   Relative Error 1.08672\n"
     ]
    },
    {
     "name": "stderr",
     "output_type": "stream",
     "text": [
      "  1%|          | 18/2000 [00:02<04:03,  8.15it/s]"
     ]
    },
    {
     "name": "stdout",
     "output_type": "stream",
     "text": [
      "Training_loss 8.87025,   Relative Error 1.08426\n",
      "Training_loss 8.81360,   Relative Error 1.08079\n"
     ]
    },
    {
     "name": "stderr",
     "output_type": "stream",
     "text": [
      "  1%|          | 20/2000 [00:02<03:54,  8.46it/s]"
     ]
    },
    {
     "name": "stdout",
     "output_type": "stream",
     "text": [
      "Training_loss 8.78838,   Relative Error 1.07923\n",
      "Training_loss 8.75775,   Relative Error 1.07737\n"
     ]
    },
    {
     "name": "stderr",
     "output_type": "stream",
     "text": [
      "  1%|          | 22/2000 [00:02<03:54,  8.44it/s]"
     ]
    },
    {
     "name": "stdout",
     "output_type": "stream",
     "text": [
      "Training_loss 8.72644,   Relative Error 1.07549\n",
      "Training_loss 8.69255,   Relative Error 1.07349\n"
     ]
    },
    {
     "name": "stderr",
     "output_type": "stream",
     "text": [
      "  1%|          | 24/2000 [00:03<03:57,  8.32it/s]"
     ]
    },
    {
     "name": "stdout",
     "output_type": "stream",
     "text": [
      "Training_loss 8.65898,   Relative Error 1.07136\n",
      "Training_loss 8.61975,   Relative Error 1.06894\n"
     ]
    },
    {
     "name": "stderr",
     "output_type": "stream",
     "text": [
      "  1%|▏         | 26/2000 [00:03<04:06,  8.01it/s]"
     ]
    },
    {
     "name": "stdout",
     "output_type": "stream",
     "text": [
      "Training_loss 8.57801,   Relative Error 1.06638\n",
      "Training_loss 8.54994,   Relative Error 1.06466\n"
     ]
    },
    {
     "name": "stderr",
     "output_type": "stream",
     "text": [
      "  1%|▏         | 28/2000 [00:03<04:04,  8.07it/s]"
     ]
    },
    {
     "name": "stdout",
     "output_type": "stream",
     "text": [
      "Training_loss 8.52690,   Relative Error 1.06320\n",
      "Training_loss 8.48790,   Relative Error 1.06086\n"
     ]
    },
    {
     "name": "stderr",
     "output_type": "stream",
     "text": [
      "  2%|▏         | 30/2000 [00:03<03:54,  8.39it/s]"
     ]
    },
    {
     "name": "stdout",
     "output_type": "stream",
     "text": [
      "Training_loss 8.45074,   Relative Error 1.05859\n",
      "Training_loss 8.42272,   Relative Error 1.05683\n"
     ]
    },
    {
     "name": "stderr",
     "output_type": "stream",
     "text": [
      "  2%|▏         | 32/2000 [00:04<03:59,  8.21it/s]"
     ]
    },
    {
     "name": "stdout",
     "output_type": "stream",
     "text": [
      "Training_loss 8.38746,   Relative Error 1.05468\n",
      "Training_loss 8.35796,   Relative Error 1.05287\n"
     ]
    },
    {
     "name": "stderr",
     "output_type": "stream",
     "text": [
      "  2%|▏         | 34/2000 [00:04<03:45,  8.71it/s]"
     ]
    },
    {
     "name": "stdout",
     "output_type": "stream",
     "text": [
      "Training_loss 8.31932,   Relative Error 1.05058\n",
      "Training_loss 8.30054,   Relative Error 1.04941\n"
     ]
    },
    {
     "name": "stderr",
     "output_type": "stream",
     "text": [
      "\r",
      "  2%|▏         | 35/2000 [00:04<04:38,  7.07it/s]"
     ]
    },
    {
     "name": "stdout",
     "output_type": "stream",
     "text": [
      "Training_loss 8.27851,   Relative Error 1.04804\n"
     ]
    },
    {
     "name": "stderr",
     "output_type": "stream",
     "text": [
      "  2%|▏         | 37/2000 [00:05<05:44,  5.69it/s]"
     ]
    },
    {
     "name": "stdout",
     "output_type": "stream",
     "text": [
      "Training_loss 8.23954,   Relative Error 1.04549\n",
      "Training_loss 8.21087,   Relative Error 1.04371\n"
     ]
    },
    {
     "name": "stderr",
     "output_type": "stream",
     "text": [
      "  2%|▏         | 39/2000 [00:05<04:46,  6.83it/s]"
     ]
    },
    {
     "name": "stdout",
     "output_type": "stream",
     "text": [
      "Training_loss 8.18930,   Relative Error 1.04238\n",
      "Training_loss 8.14432,   Relative Error 1.03964\n"
     ]
    },
    {
     "name": "stderr",
     "output_type": "stream",
     "text": [
      "\r",
      "  2%|▏         | 40/2000 [00:05<04:48,  6.79it/s]"
     ]
    },
    {
     "name": "stdout",
     "output_type": "stream",
     "text": [
      "Training_loss 8.12871,   Relative Error 1.03863\n",
      "Training_loss 8.11546,   Relative Error 1.03776\n"
     ]
    },
    {
     "name": "stderr",
     "output_type": "stream",
     "text": [
      "  2%|▏         | 43/2000 [00:05<04:04,  8.02it/s]"
     ]
    },
    {
     "name": "stdout",
     "output_type": "stream",
     "text": [
      "Training_loss 8.08466,   Relative Error 1.03588\n",
      "Training_loss 8.05028,   Relative Error 1.03371\n"
     ]
    },
    {
     "name": "stderr",
     "output_type": "stream",
     "text": [
      "  2%|▏         | 45/2000 [00:06<04:10,  7.81it/s]"
     ]
    },
    {
     "name": "stdout",
     "output_type": "stream",
     "text": [
      "Training_loss 8.01486,   Relative Error 1.03150\n",
      "Training_loss 7.97301,   Relative Error 1.02891\n"
     ]
    },
    {
     "name": "stderr",
     "output_type": "stream",
     "text": [
      "  2%|▏         | 47/2000 [00:06<04:22,  7.44it/s]"
     ]
    },
    {
     "name": "stdout",
     "output_type": "stream",
     "text": [
      "Training_loss 7.95072,   Relative Error 1.02752\n",
      "Training_loss 7.93571,   Relative Error 1.02653\n"
     ]
    },
    {
     "name": "stderr",
     "output_type": "stream",
     "text": [
      "  2%|▏         | 49/2000 [00:06<04:07,  7.88it/s]"
     ]
    },
    {
     "name": "stdout",
     "output_type": "stream",
     "text": [
      "Training_loss 7.89821,   Relative Error 1.02420\n",
      "Training_loss 7.85845,   Relative Error 1.02170\n"
     ]
    },
    {
     "name": "stderr",
     "output_type": "stream",
     "text": [
      "  3%|▎         | 51/2000 [00:06<04:07,  7.89it/s]"
     ]
    },
    {
     "name": "stdout",
     "output_type": "stream",
     "text": [
      "Training_loss 7.82255,   Relative Error 1.01936\n",
      "Training_loss 7.79537,   Relative Error 1.01758\n"
     ]
    },
    {
     "name": "stderr",
     "output_type": "stream",
     "text": [
      "  3%|▎         | 53/2000 [00:07<04:12,  7.70it/s]"
     ]
    },
    {
     "name": "stdout",
     "output_type": "stream",
     "text": [
      "Training_loss 7.76991,   Relative Error 1.01591\n",
      "Training_loss 7.72063,   Relative Error 1.01269\n"
     ]
    },
    {
     "name": "stderr",
     "output_type": "stream",
     "text": [
      "  3%|▎         | 55/2000 [00:07<04:29,  7.21it/s]"
     ]
    },
    {
     "name": "stdout",
     "output_type": "stream",
     "text": [
      "Training_loss 7.67841,   Relative Error 1.00997\n",
      "Training_loss 7.65248,   Relative Error 1.00825\n"
     ]
    },
    {
     "name": "stderr",
     "output_type": "stream",
     "text": [
      "  3%|▎         | 57/2000 [00:07<04:44,  6.83it/s]"
     ]
    },
    {
     "name": "stdout",
     "output_type": "stream",
     "text": [
      "Training_loss 7.63003,   Relative Error 1.00679\n",
      "Training_loss 7.60648,   Relative Error 1.00520\n"
     ]
    },
    {
     "name": "stderr",
     "output_type": "stream",
     "text": [
      "  3%|▎         | 59/2000 [00:08<05:02,  6.43it/s]"
     ]
    },
    {
     "name": "stdout",
     "output_type": "stream",
     "text": [
      "Training_loss 7.56909,   Relative Error 1.00275\n",
      "Training_loss 7.52419,   Relative Error 0.99981\n"
     ]
    },
    {
     "name": "stderr",
     "output_type": "stream",
     "text": [
      "  3%|▎         | 61/2000 [00:08<05:01,  6.43it/s]"
     ]
    },
    {
     "name": "stdout",
     "output_type": "stream",
     "text": [
      "Training_loss 7.48745,   Relative Error 0.99730\n",
      "Training_loss 7.44793,   Relative Error 0.99461\n"
     ]
    },
    {
     "name": "stderr",
     "output_type": "stream",
     "text": [
      "  3%|▎         | 63/2000 [00:08<04:48,  6.70it/s]"
     ]
    },
    {
     "name": "stdout",
     "output_type": "stream",
     "text": [
      "Training_loss 7.40683,   Relative Error 0.99190\n",
      "Training_loss 7.37609,   Relative Error 0.98986\n"
     ]
    },
    {
     "name": "stderr",
     "output_type": "stream",
     "text": [
      "  3%|▎         | 65/2000 [00:08<04:48,  6.70it/s]"
     ]
    },
    {
     "name": "stdout",
     "output_type": "stream",
     "text": [
      "Training_loss 7.33652,   Relative Error 0.98725\n",
      "Training_loss 7.29828,   Relative Error 0.98463\n"
     ]
    },
    {
     "name": "stderr",
     "output_type": "stream",
     "text": [
      "  3%|▎         | 67/2000 [00:09<04:27,  7.23it/s]"
     ]
    },
    {
     "name": "stdout",
     "output_type": "stream",
     "text": [
      "Training_loss 7.27107,   Relative Error 0.98275\n",
      "Training_loss 7.23991,   Relative Error 0.98066\n"
     ]
    },
    {
     "name": "stderr",
     "output_type": "stream",
     "text": [
      "\r",
      "  3%|▎         | 68/2000 [00:09<04:25,  7.29it/s]"
     ]
    },
    {
     "name": "stdout",
     "output_type": "stream",
     "text": [
      "Training_loss 7.19836,   Relative Error 0.97784\n",
      "Training_loss 7.17753,   Relative Error 0.97640\n"
     ]
    },
    {
     "name": "stderr",
     "output_type": "stream",
     "text": [
      "  4%|▎         | 71/2000 [00:09<04:04,  7.88it/s]"
     ]
    },
    {
     "name": "stdout",
     "output_type": "stream",
     "text": [
      "Training_loss 7.14289,   Relative Error 0.97402\n",
      "Training_loss 7.10985,   Relative Error 0.97180\n"
     ]
    },
    {
     "name": "stderr",
     "output_type": "stream",
     "text": [
      "  4%|▎         | 73/2000 [00:09<04:11,  7.67it/s]"
     ]
    },
    {
     "name": "stdout",
     "output_type": "stream",
     "text": [
      "Training_loss 7.08757,   Relative Error 0.97032\n",
      "Training_loss 7.07005,   Relative Error 0.96915\n"
     ]
    },
    {
     "name": "stderr",
     "output_type": "stream",
     "text": [
      "  4%|▍         | 75/2000 [00:10<04:07,  7.78it/s]"
     ]
    },
    {
     "name": "stdout",
     "output_type": "stream",
     "text": [
      "Training_loss 7.04302,   Relative Error 0.96733\n",
      "Training_loss 7.02431,   Relative Error 0.96612\n"
     ]
    },
    {
     "name": "stderr",
     "output_type": "stream",
     "text": [
      "  4%|▍         | 77/2000 [00:10<04:07,  7.77it/s]"
     ]
    },
    {
     "name": "stdout",
     "output_type": "stream",
     "text": [
      "Training_loss 6.98218,   Relative Error 0.96331\n",
      "Training_loss 6.96744,   Relative Error 0.96225\n"
     ]
    },
    {
     "name": "stderr",
     "output_type": "stream",
     "text": [
      "  4%|▍         | 79/2000 [00:10<04:15,  7.52it/s]"
     ]
    },
    {
     "name": "stdout",
     "output_type": "stream",
     "text": [
      "Training_loss 6.93541,   Relative Error 0.96005\n",
      "Training_loss 6.90656,   Relative Error 0.95817\n"
     ]
    },
    {
     "name": "stderr",
     "output_type": "stream",
     "text": [
      "  4%|▍         | 81/2000 [00:10<04:05,  7.83it/s]"
     ]
    },
    {
     "name": "stdout",
     "output_type": "stream",
     "text": [
      "Training_loss 6.86805,   Relative Error 0.95555\n",
      "Training_loss 6.84645,   Relative Error 0.95411\n"
     ]
    },
    {
     "name": "stderr",
     "output_type": "stream",
     "text": [
      "  4%|▍         | 83/2000 [00:11<04:10,  7.66it/s]"
     ]
    },
    {
     "name": "stdout",
     "output_type": "stream",
     "text": [
      "Training_loss 6.80426,   Relative Error 0.95121\n",
      "Training_loss 6.77185,   Relative Error 0.94898\n"
     ]
    },
    {
     "name": "stderr",
     "output_type": "stream",
     "text": [
      "  4%|▍         | 85/2000 [00:11<04:02,  7.91it/s]"
     ]
    },
    {
     "name": "stdout",
     "output_type": "stream",
     "text": [
      "Training_loss 6.72959,   Relative Error 0.94601\n",
      "Training_loss 6.69793,   Relative Error 0.94378\n"
     ]
    },
    {
     "name": "stderr",
     "output_type": "stream",
     "text": [
      "  4%|▍         | 87/2000 [00:11<03:59,  7.98it/s]"
     ]
    },
    {
     "name": "stdout",
     "output_type": "stream",
     "text": [
      "Training_loss 6.67505,   Relative Error 0.94223\n",
      "Training_loss 6.64976,   Relative Error 0.94045\n"
     ]
    },
    {
     "name": "stderr",
     "output_type": "stream",
     "text": [
      "  4%|▍         | 89/2000 [00:12<04:03,  7.85it/s]"
     ]
    },
    {
     "name": "stdout",
     "output_type": "stream",
     "text": [
      "Training_loss 6.62899,   Relative Error 0.93896\n",
      "Training_loss 6.60384,   Relative Error 0.93718\n"
     ]
    },
    {
     "name": "stderr",
     "output_type": "stream",
     "text": [
      "  5%|▍         | 91/2000 [00:12<04:09,  7.65it/s]"
     ]
    },
    {
     "name": "stdout",
     "output_type": "stream",
     "text": [
      "Training_loss 6.58892,   Relative Error 0.93612\n",
      "Training_loss 6.55902,   Relative Error 0.93405\n"
     ]
    },
    {
     "name": "stderr",
     "output_type": "stream",
     "text": [
      "  5%|▍         | 93/2000 [00:12<05:16,  6.03it/s]"
     ]
    },
    {
     "name": "stdout",
     "output_type": "stream",
     "text": [
      "Training_loss 6.53573,   Relative Error 0.93238\n",
      "Training_loss 6.49619,   Relative Error 0.92953\n"
     ]
    },
    {
     "name": "stderr",
     "output_type": "stream",
     "text": [
      "\r",
      "  5%|▍         | 94/2000 [00:12<05:23,  5.89it/s]"
     ]
    },
    {
     "name": "stdout",
     "output_type": "stream",
     "text": [
      "Training_loss 6.47433,   Relative Error 0.92798\n"
     ]
    },
    {
     "name": "stderr",
     "output_type": "stream",
     "text": [
      "\r",
      "  5%|▍         | 95/2000 [00:13<05:45,  5.51it/s]"
     ]
    },
    {
     "name": "stdout",
     "output_type": "stream",
     "text": [
      "Training_loss 6.45345,   Relative Error 0.92649\n"
     ]
    },
    {
     "name": "stderr",
     "output_type": "stream",
     "text": [
      "  5%|▍         | 97/2000 [00:13<06:29,  4.89it/s]"
     ]
    },
    {
     "name": "stdout",
     "output_type": "stream",
     "text": [
      "Training_loss 6.41779,   Relative Error 0.92393\n",
      "Training_loss 6.39196,   Relative Error 0.92210\n"
     ]
    },
    {
     "name": "stderr",
     "output_type": "stream",
     "text": [
      "  5%|▍         | 99/2000 [00:13<05:10,  6.13it/s]"
     ]
    },
    {
     "name": "stdout",
     "output_type": "stream",
     "text": [
      "Training_loss 6.37389,   Relative Error 0.92083\n",
      "Training_loss 6.34962,   Relative Error 0.91915\n"
     ]
    },
    {
     "name": "stderr",
     "output_type": "stream",
     "text": [
      "  5%|▌         | 101/2000 [00:14<04:16,  7.39it/s]"
     ]
    },
    {
     "name": "stdout",
     "output_type": "stream",
     "text": [
      "Training_loss 6.32961,   Relative Error 0.91771\n",
      "Training_loss 6.30573,   Relative Error 0.91595\n",
      "Training_loss 6.27775,   Relative Error 0.91392\n"
     ]
    },
    {
     "name": "stderr",
     "output_type": "stream",
     "text": [
      "  5%|▌         | 104/2000 [00:14<04:10,  7.58it/s]"
     ]
    },
    {
     "name": "stdout",
     "output_type": "stream",
     "text": [
      "Training_loss 6.26508,   Relative Error 0.91295\n",
      "Training_loss 6.23536,   Relative Error 0.91084\n"
     ]
    },
    {
     "name": "stderr",
     "output_type": "stream",
     "text": [
      "  5%|▌         | 106/2000 [00:14<03:59,  7.89it/s]"
     ]
    },
    {
     "name": "stdout",
     "output_type": "stream",
     "text": [
      "Training_loss 6.21271,   Relative Error 0.90925\n",
      "Training_loss 6.19844,   Relative Error 0.90820\n"
     ]
    },
    {
     "name": "stderr",
     "output_type": "stream",
     "text": [
      "\r",
      "  5%|▌         | 107/2000 [00:14<04:06,  7.66it/s]"
     ]
    },
    {
     "name": "stdout",
     "output_type": "stream",
     "text": [
      "Training_loss 6.17096,   Relative Error 0.90625\n"
     ]
    },
    {
     "name": "stderr",
     "output_type": "stream",
     "text": [
      "  5%|▌         | 109/2000 [00:15<04:59,  6.31it/s]"
     ]
    },
    {
     "name": "stdout",
     "output_type": "stream",
     "text": [
      "Training_loss 6.15260,   Relative Error 0.90486\n",
      "Training_loss 6.12803,   Relative Error 0.90304\n"
     ]
    },
    {
     "name": "stderr",
     "output_type": "stream",
     "text": [
      "  6%|▌         | 111/2000 [00:15<04:36,  6.84it/s]"
     ]
    },
    {
     "name": "stdout",
     "output_type": "stream",
     "text": [
      "Training_loss 6.11359,   Relative Error 0.90196\n",
      "Training_loss 6.10405,   Relative Error 0.90126\n"
     ]
    },
    {
     "name": "stderr",
     "output_type": "stream",
     "text": [
      "  6%|▌         | 113/2000 [00:15<04:07,  7.64it/s]"
     ]
    },
    {
     "name": "stdout",
     "output_type": "stream",
     "text": [
      "Training_loss 6.09052,   Relative Error 0.90031\n",
      "Training_loss 6.06059,   Relative Error 0.89810\n"
     ]
    },
    {
     "name": "stderr",
     "output_type": "stream",
     "text": [
      "  6%|▌         | 115/2000 [00:15<03:48,  8.25it/s]"
     ]
    },
    {
     "name": "stdout",
     "output_type": "stream",
     "text": [
      "Training_loss 6.03555,   Relative Error 0.89637\n",
      "Training_loss 6.01048,   Relative Error 0.89449\n"
     ]
    },
    {
     "name": "stderr",
     "output_type": "stream",
     "text": [
      "  6%|▌         | 117/2000 [00:16<04:00,  7.81it/s]"
     ]
    },
    {
     "name": "stdout",
     "output_type": "stream",
     "text": [
      "Training_loss 5.99195,   Relative Error 0.89316\n",
      "Training_loss 5.97030,   Relative Error 0.89151\n"
     ]
    },
    {
     "name": "stderr",
     "output_type": "stream",
     "text": [
      "  6%|▌         | 119/2000 [00:16<04:34,  6.85it/s]"
     ]
    },
    {
     "name": "stdout",
     "output_type": "stream",
     "text": [
      "Training_loss 5.94898,   Relative Error 0.88996\n",
      "Training_loss 5.91238,   Relative Error 0.88738\n"
     ]
    },
    {
     "name": "stderr",
     "output_type": "stream",
     "text": [
      "\r",
      "  6%|▌         | 120/2000 [00:16<04:59,  6.28it/s]"
     ]
    },
    {
     "name": "stdout",
     "output_type": "stream",
     "text": [
      "Training_loss 5.89633,   Relative Error 0.88617\n",
      "Training_loss 5.87794,   Relative Error 0.88474\n"
     ]
    },
    {
     "name": "stderr",
     "output_type": "stream",
     "text": [
      "  6%|▌         | 122/2000 [00:17<06:24,  4.89it/s]"
     ]
    },
    {
     "name": "stdout",
     "output_type": "stream",
     "text": [
      "Training_loss 5.86283,   Relative Error 0.88362\n"
     ]
    },
    {
     "name": "stderr",
     "output_type": "stream",
     "text": [
      "  6%|▌         | 124/2000 [00:17<06:36,  4.73it/s]"
     ]
    },
    {
     "name": "stdout",
     "output_type": "stream",
     "text": [
      "Training_loss 5.83083,   Relative Error 0.88127\n",
      "Training_loss 5.80168,   Relative Error 0.87906\n"
     ]
    },
    {
     "name": "stderr",
     "output_type": "stream",
     "text": [
      "  6%|▋         | 126/2000 [00:17<05:35,  5.59it/s]"
     ]
    },
    {
     "name": "stdout",
     "output_type": "stream",
     "text": [
      "Training_loss 5.77676,   Relative Error 0.87714\n",
      "Training_loss 5.75179,   Relative Error 0.87522\n"
     ]
    },
    {
     "name": "stderr",
     "output_type": "stream",
     "text": [
      "\r",
      "  6%|▋         | 127/2000 [00:18<06:18,  4.95it/s]"
     ]
    },
    {
     "name": "stdout",
     "output_type": "stream",
     "text": [
      "Training_loss 5.71142,   Relative Error 0.87223\n"
     ]
    },
    {
     "name": "stderr",
     "output_type": "stream",
     "text": [
      "\r",
      "  6%|▋         | 128/2000 [00:18<07:29,  4.16it/s]"
     ]
    },
    {
     "name": "stdout",
     "output_type": "stream",
     "text": [
      "Training_loss 5.68111,   Relative Error 0.86993\n"
     ]
    },
    {
     "name": "stderr",
     "output_type": "stream",
     "text": [
      "\r",
      "  6%|▋         | 129/2000 [00:18<08:54,  3.50it/s]"
     ]
    },
    {
     "name": "stdout",
     "output_type": "stream",
     "text": [
      "Training_loss 5.66560,   Relative Error 0.86871\n"
     ]
    },
    {
     "name": "stderr",
     "output_type": "stream",
     "text": [
      "\r",
      "  6%|▋         | 130/2000 [00:19<09:17,  3.35it/s]"
     ]
    },
    {
     "name": "stdout",
     "output_type": "stream",
     "text": [
      "Training_loss 5.64095,   Relative Error 0.86683\n"
     ]
    },
    {
     "name": "stderr",
     "output_type": "stream",
     "text": [
      "\r",
      "  7%|▋         | 131/2000 [00:19<09:31,  3.27it/s]"
     ]
    },
    {
     "name": "stdout",
     "output_type": "stream",
     "text": [
      "Training_loss 5.62167,   Relative Error 0.86535\n"
     ]
    },
    {
     "name": "stderr",
     "output_type": "stream",
     "text": [
      "\r",
      "  7%|▋         | 132/2000 [00:19<09:07,  3.41it/s]"
     ]
    },
    {
     "name": "stdout",
     "output_type": "stream",
     "text": [
      "Training_loss 5.59554,   Relative Error 0.86330\n"
     ]
    },
    {
     "name": "stderr",
     "output_type": "stream",
     "text": [
      "\r",
      "  7%|▋         | 133/2000 [00:20<09:22,  3.32it/s]"
     ]
    },
    {
     "name": "stdout",
     "output_type": "stream",
     "text": [
      "Training_loss 5.57730,   Relative Error 0.86191\n"
     ]
    },
    {
     "name": "stderr",
     "output_type": "stream",
     "text": [
      "\r",
      "  7%|▋         | 134/2000 [00:20<09:44,  3.19it/s]"
     ]
    },
    {
     "name": "stdout",
     "output_type": "stream",
     "text": [
      "Training_loss 5.54647,   Relative Error 0.85955\n"
     ]
    },
    {
     "name": "stderr",
     "output_type": "stream",
     "text": [
      "\r",
      "  7%|▋         | 135/2000 [00:20<09:59,  3.11it/s]"
     ]
    },
    {
     "name": "stdout",
     "output_type": "stream",
     "text": [
      "Training_loss 5.52313,   Relative Error 0.85775\n"
     ]
    },
    {
     "name": "stderr",
     "output_type": "stream",
     "text": [
      "\r",
      "  7%|▋         | 136/2000 [00:21<10:05,  3.08it/s]"
     ]
    },
    {
     "name": "stdout",
     "output_type": "stream",
     "text": [
      "Training_loss 5.49345,   Relative Error 0.85553\n"
     ]
    },
    {
     "name": "stderr",
     "output_type": "stream",
     "text": [
      "\r",
      "  7%|▋         | 137/2000 [00:21<09:29,  3.27it/s]"
     ]
    },
    {
     "name": "stdout",
     "output_type": "stream",
     "text": [
      "Training_loss 5.46679,   Relative Error 0.85351\n"
     ]
    },
    {
     "name": "stderr",
     "output_type": "stream",
     "text": [
      "  7%|▋         | 139/2000 [00:21<07:42,  4.02it/s]"
     ]
    },
    {
     "name": "stdout",
     "output_type": "stream",
     "text": [
      "Training_loss 5.44686,   Relative Error 0.85198\n",
      "Training_loss 5.43064,   Relative Error 0.85072\n"
     ]
    },
    {
     "name": "stderr",
     "output_type": "stream",
     "text": [
      "  7%|▋         | 141/2000 [00:22<06:42,  4.62it/s]"
     ]
    },
    {
     "name": "stdout",
     "output_type": "stream",
     "text": [
      "Training_loss 5.40696,   Relative Error 0.84883\n",
      "Training_loss 5.37689,   Relative Error 0.84647\n"
     ]
    },
    {
     "name": "stderr",
     "output_type": "stream",
     "text": [
      "  7%|▋         | 143/2000 [00:22<05:43,  5.40it/s]"
     ]
    },
    {
     "name": "stdout",
     "output_type": "stream",
     "text": [
      "Training_loss 5.35923,   Relative Error 0.84509\n",
      "Training_loss 5.33856,   Relative Error 0.84351\n"
     ]
    },
    {
     "name": "stderr",
     "output_type": "stream",
     "text": [
      "\r",
      "  7%|▋         | 144/2000 [00:22<05:15,  5.88it/s]"
     ]
    },
    {
     "name": "stdout",
     "output_type": "stream",
     "text": [
      "Training_loss 5.30615,   Relative Error 0.84092\n"
     ]
    },
    {
     "name": "stderr",
     "output_type": "stream",
     "text": [
      "\r",
      "  7%|▋         | 145/2000 [00:22<05:53,  5.25it/s]"
     ]
    },
    {
     "name": "stdout",
     "output_type": "stream",
     "text": [
      "Training_loss 5.28152,   Relative Error 0.83898\n"
     ]
    },
    {
     "name": "stderr",
     "output_type": "stream",
     "text": [
      "\r",
      "  7%|▋         | 146/2000 [00:23<06:37,  4.67it/s]"
     ]
    },
    {
     "name": "stdout",
     "output_type": "stream",
     "text": [
      "Training_loss 5.26000,   Relative Error 0.83725\n"
     ]
    },
    {
     "name": "stderr",
     "output_type": "stream",
     "text": [
      "\r",
      "  7%|▋         | 147/2000 [00:23<06:39,  4.64it/s]"
     ]
    },
    {
     "name": "stdout",
     "output_type": "stream",
     "text": [
      "Training_loss 5.23917,   Relative Error 0.83560\n"
     ]
    },
    {
     "name": "stderr",
     "output_type": "stream",
     "text": [
      "\r",
      "  7%|▋         | 148/2000 [00:23<09:06,  3.39it/s]"
     ]
    },
    {
     "name": "stdout",
     "output_type": "stream",
     "text": [
      "Training_loss 5.21825,   Relative Error 0.83396\n"
     ]
    },
    {
     "name": "stderr",
     "output_type": "stream",
     "text": [
      "\r",
      "  7%|▋         | 149/2000 [00:24<09:00,  3.42it/s]"
     ]
    },
    {
     "name": "stdout",
     "output_type": "stream",
     "text": [
      "Training_loss 5.19936,   Relative Error 0.83254\n"
     ]
    },
    {
     "name": "stderr",
     "output_type": "stream",
     "text": [
      "\r",
      "  8%|▊         | 150/2000 [00:24<09:27,  3.26it/s]"
     ]
    },
    {
     "name": "stdout",
     "output_type": "stream",
     "text": [
      "Training_loss 5.18197,   Relative Error 0.83113\n"
     ]
    },
    {
     "name": "stderr",
     "output_type": "stream",
     "text": [
      "\r",
      "  8%|▊         | 151/2000 [00:24<10:52,  2.84it/s]"
     ]
    },
    {
     "name": "stdout",
     "output_type": "stream",
     "text": [
      "Training_loss 5.14379,   Relative Error 0.82819\n"
     ]
    },
    {
     "name": "stderr",
     "output_type": "stream",
     "text": [
      "\r",
      "  8%|▊         | 152/2000 [00:25<10:44,  2.87it/s]"
     ]
    },
    {
     "name": "stdout",
     "output_type": "stream",
     "text": [
      "Training_loss 5.12319,   Relative Error 0.82659\n"
     ]
    },
    {
     "name": "stderr",
     "output_type": "stream",
     "text": [
      "  8%|▊         | 154/2000 [00:25<08:29,  3.63it/s]"
     ]
    },
    {
     "name": "stdout",
     "output_type": "stream",
     "text": [
      "Training_loss 5.09760,   Relative Error 0.82456\n",
      "Training_loss 5.08960,   Relative Error 0.82392\n"
     ]
    },
    {
     "name": "stderr",
     "output_type": "stream",
     "text": [
      "  8%|▊         | 156/2000 [00:25<06:47,  4.53it/s]"
     ]
    },
    {
     "name": "stdout",
     "output_type": "stream",
     "text": [
      "Training_loss 5.06250,   Relative Error 0.82176\n",
      "Training_loss 5.05496,   Relative Error 0.82112\n"
     ]
    },
    {
     "name": "stderr",
     "output_type": "stream",
     "text": [
      "  8%|▊         | 158/2000 [00:26<05:31,  5.56it/s]"
     ]
    },
    {
     "name": "stdout",
     "output_type": "stream",
     "text": [
      "Training_loss 5.03857,   Relative Error 0.81983\n",
      "Training_loss 5.01931,   Relative Error 0.81831\n"
     ]
    },
    {
     "name": "stderr",
     "output_type": "stream",
     "text": [
      "  8%|▊         | 160/2000 [00:26<04:50,  6.33it/s]"
     ]
    },
    {
     "name": "stdout",
     "output_type": "stream",
     "text": [
      "Training_loss 5.00314,   Relative Error 0.81702\n",
      "Training_loss 4.98031,   Relative Error 0.81517\n"
     ]
    },
    {
     "name": "stderr",
     "output_type": "stream",
     "text": [
      "  8%|▊         | 162/2000 [00:26<04:55,  6.21it/s]"
     ]
    },
    {
     "name": "stdout",
     "output_type": "stream",
     "text": [
      "Training_loss 4.96924,   Relative Error 0.81425\n",
      "Training_loss 4.95743,   Relative Error 0.81331\n"
     ]
    },
    {
     "name": "stderr",
     "output_type": "stream",
     "text": [
      "\r",
      "  8%|▊         | 163/2000 [00:27<05:34,  5.49it/s]"
     ]
    },
    {
     "name": "stdout",
     "output_type": "stream",
     "text": [
      "Training_loss 4.94165,   Relative Error 0.81202\n"
     ]
    },
    {
     "name": "stderr",
     "output_type": "stream",
     "text": [
      "\r",
      "  8%|▊         | 164/2000 [00:27<06:00,  5.09it/s]"
     ]
    },
    {
     "name": "stdout",
     "output_type": "stream",
     "text": [
      "Training_loss 4.92542,   Relative Error 0.81065\n"
     ]
    },
    {
     "name": "stderr",
     "output_type": "stream",
     "text": [
      "\r",
      "  8%|▊         | 165/2000 [00:27<06:07,  4.99it/s]"
     ]
    },
    {
     "name": "stdout",
     "output_type": "stream",
     "text": [
      "Training_loss 4.90195,   Relative Error 0.80875\n"
     ]
    },
    {
     "name": "stderr",
     "output_type": "stream",
     "text": [
      "\r",
      "  8%|▊         | 166/2000 [00:27<06:57,  4.39it/s]"
     ]
    },
    {
     "name": "stdout",
     "output_type": "stream",
     "text": [
      "Training_loss 4.89077,   Relative Error 0.80780\n"
     ]
    },
    {
     "name": "stderr",
     "output_type": "stream",
     "text": [
      "  8%|▊         | 168/2000 [00:28<06:46,  4.51it/s]"
     ]
    },
    {
     "name": "stdout",
     "output_type": "stream",
     "text": [
      "Training_loss 4.87054,   Relative Error 0.80613\n",
      "Training_loss 4.85680,   Relative Error 0.80499\n"
     ]
    },
    {
     "name": "stderr",
     "output_type": "stream",
     "text": [
      "  8%|▊         | 170/2000 [00:28<05:30,  5.55it/s]"
     ]
    },
    {
     "name": "stdout",
     "output_type": "stream",
     "text": [
      "Training_loss 4.84747,   Relative Error 0.80421\n",
      "Training_loss 4.83272,   Relative Error 0.80295\n"
     ]
    },
    {
     "name": "stderr",
     "output_type": "stream",
     "text": [
      "  9%|▊         | 172/2000 [00:28<04:40,  6.51it/s]"
     ]
    },
    {
     "name": "stdout",
     "output_type": "stream",
     "text": [
      "Training_loss 4.80097,   Relative Error 0.80036\n",
      "Training_loss 4.78065,   Relative Error 0.79867\n"
     ]
    },
    {
     "name": "stderr",
     "output_type": "stream",
     "text": [
      "  9%|▊         | 174/2000 [00:29<04:15,  7.15it/s]"
     ]
    },
    {
     "name": "stdout",
     "output_type": "stream",
     "text": [
      "Training_loss 4.76956,   Relative Error 0.79768\n",
      "Training_loss 4.75394,   Relative Error 0.79638\n"
     ]
    },
    {
     "name": "stderr",
     "output_type": "stream",
     "text": [
      "\r",
      "  9%|▉         | 175/2000 [00:29<04:09,  7.31it/s]"
     ]
    },
    {
     "name": "stdout",
     "output_type": "stream",
     "text": [
      "Training_loss 4.73289,   Relative Error 0.79462\n"
     ]
    },
    {
     "name": "stderr",
     "output_type": "stream",
     "text": [
      "  9%|▉         | 177/2000 [00:29<05:22,  5.65it/s]"
     ]
    },
    {
     "name": "stdout",
     "output_type": "stream",
     "text": [
      "Training_loss 4.72097,   Relative Error 0.79358\n",
      "Training_loss 4.71046,   Relative Error 0.79273\n"
     ]
    },
    {
     "name": "stderr",
     "output_type": "stream",
     "text": [
      "\r",
      "  9%|▉         | 178/2000 [00:29<06:14,  4.86it/s]"
     ]
    },
    {
     "name": "stdout",
     "output_type": "stream",
     "text": [
      "Training_loss 4.69291,   Relative Error 0.79119\n"
     ]
    },
    {
     "name": "stderr",
     "output_type": "stream",
     "text": [
      "  9%|▉         | 180/2000 [00:30<07:04,  4.29it/s]"
     ]
    },
    {
     "name": "stdout",
     "output_type": "stream",
     "text": [
      "Training_loss 4.67826,   Relative Error 0.78998\n",
      "Training_loss 4.66648,   Relative Error 0.78903\n"
     ]
    },
    {
     "name": "stderr",
     "output_type": "stream",
     "text": [
      "  9%|▉         | 182/2000 [00:30<06:00,  5.04it/s]"
     ]
    },
    {
     "name": "stdout",
     "output_type": "stream",
     "text": [
      "Training_loss 4.64964,   Relative Error 0.78760\n",
      "Training_loss 4.62743,   Relative Error 0.78578\n"
     ]
    },
    {
     "name": "stderr",
     "output_type": "stream",
     "text": [
      "  9%|▉         | 184/2000 [00:30<04:37,  6.55it/s]"
     ]
    },
    {
     "name": "stdout",
     "output_type": "stream",
     "text": [
      "Training_loss 4.59816,   Relative Error 0.78334\n",
      "Training_loss 4.57369,   Relative Error 0.78124\n"
     ]
    },
    {
     "name": "stderr",
     "output_type": "stream",
     "text": [
      "  9%|▉         | 186/2000 [00:31<04:08,  7.30it/s]"
     ]
    },
    {
     "name": "stdout",
     "output_type": "stream",
     "text": [
      "Training_loss 4.54560,   Relative Error 0.77894\n",
      "Training_loss 4.52817,   Relative Error 0.77748\n"
     ]
    },
    {
     "name": "stderr",
     "output_type": "stream",
     "text": [
      "  9%|▉         | 188/2000 [00:31<03:49,  7.88it/s]"
     ]
    },
    {
     "name": "stdout",
     "output_type": "stream",
     "text": [
      "Training_loss 4.49920,   Relative Error 0.77508\n",
      "Training_loss 4.48215,   Relative Error 0.77365\n"
     ]
    },
    {
     "name": "stderr",
     "output_type": "stream",
     "text": [
      " 10%|▉         | 190/2000 [00:31<04:22,  6.88it/s]"
     ]
    },
    {
     "name": "stdout",
     "output_type": "stream",
     "text": [
      "Training_loss 4.46266,   Relative Error 0.77201\n",
      "Training_loss 4.45185,   Relative Error 0.77107\n"
     ]
    },
    {
     "name": "stderr",
     "output_type": "stream",
     "text": [
      "\r",
      " 10%|▉         | 191/2000 [00:32<05:19,  5.66it/s]"
     ]
    },
    {
     "name": "stdout",
     "output_type": "stream",
     "text": [
      "Training_loss 4.44516,   Relative Error 0.77052\n"
     ]
    },
    {
     "name": "stderr",
     "output_type": "stream",
     "text": [
      "\r",
      " 10%|▉         | 192/2000 [00:32<06:54,  4.36it/s]"
     ]
    },
    {
     "name": "stdout",
     "output_type": "stream",
     "text": [
      "Training_loss 4.42505,   Relative Error 0.76886\n"
     ]
    },
    {
     "name": "stderr",
     "output_type": "stream",
     "text": [
      "\r",
      " 10%|▉         | 193/2000 [00:32<08:12,  3.67it/s]"
     ]
    },
    {
     "name": "stdout",
     "output_type": "stream",
     "text": [
      "Training_loss 4.40978,   Relative Error 0.76757\n",
      "Training_loss 4.38999,   Relative Error 0.76587\n"
     ]
    },
    {
     "name": "stderr",
     "output_type": "stream",
     "text": [
      " 10%|▉         | 196/2000 [00:33<07:03,  4.26it/s]"
     ]
    },
    {
     "name": "stdout",
     "output_type": "stream",
     "text": [
      "Training_loss 4.38035,   Relative Error 0.76500\n",
      "Training_loss 4.36781,   Relative Error 0.76388\n"
     ]
    },
    {
     "name": "stderr",
     "output_type": "stream",
     "text": [
      " 10%|▉         | 198/2000 [00:33<06:10,  4.87it/s]"
     ]
    },
    {
     "name": "stdout",
     "output_type": "stream",
     "text": [
      "Training_loss 4.35211,   Relative Error 0.76250\n",
      "Training_loss 4.34257,   Relative Error 0.76166\n"
     ]
    },
    {
     "name": "stderr",
     "output_type": "stream",
     "text": [
      " 10%|█         | 200/2000 [00:34<05:13,  5.74it/s]"
     ]
    },
    {
     "name": "stdout",
     "output_type": "stream",
     "text": [
      "Training_loss 4.32517,   Relative Error 0.76014\n",
      "Training_loss 4.31096,   Relative Error 0.75892\n"
     ]
    },
    {
     "name": "stderr",
     "output_type": "stream",
     "text": [
      "\r",
      " 10%|█         | 202/2000 [00:34<04:12,  7.11it/s]"
     ]
    },
    {
     "name": "stdout",
     "output_type": "stream",
     "text": [
      "Training_loss 4.29341,   Relative Error 0.75743\n",
      "Training_loss 4.26397,   Relative Error 0.75485\n",
      "Training_loss 4.24736,   Relative Error 0.75344\n"
     ]
    },
    {
     "name": "stderr",
     "output_type": "stream",
     "text": [
      " 10%|█         | 206/2000 [00:34<03:17,  9.08it/s]"
     ]
    },
    {
     "name": "stdout",
     "output_type": "stream",
     "text": [
      "Training_loss 4.23455,   Relative Error 0.75235\n",
      "Training_loss 4.22014,   Relative Error 0.75109\n",
      "Training_loss 4.20482,   Relative Error 0.74972\n"
     ]
    },
    {
     "name": "stderr",
     "output_type": "stream",
     "text": [
      " 10%|█         | 209/2000 [00:34<02:57, 10.07it/s]"
     ]
    },
    {
     "name": "stdout",
     "output_type": "stream",
     "text": [
      "Training_loss 4.18450,   Relative Error 0.74797\n",
      "Training_loss 4.16221,   Relative Error 0.74602\n",
      "Training_loss 4.15205,   Relative Error 0.74512\n"
     ]
    },
    {
     "name": "stderr",
     "output_type": "stream",
     "text": [
      "\r",
      " 11%|█         | 211/2000 [00:35<03:10,  9.38it/s]"
     ]
    },
    {
     "name": "stdout",
     "output_type": "stream",
     "text": [
      "Training_loss 4.13674,   Relative Error 0.74376\n",
      "Training_loss 4.11659,   Relative Error 0.74205\n"
     ]
    },
    {
     "name": "stderr",
     "output_type": "stream",
     "text": [
      " 11%|█         | 213/2000 [00:35<03:19,  8.94it/s]"
     ]
    },
    {
     "name": "stdout",
     "output_type": "stream",
     "text": [
      "Training_loss 4.10762,   Relative Error 0.74126\n",
      "Training_loss 4.09477,   Relative Error 0.74011\n",
      "Training_loss 4.08093,   Relative Error 0.73887\n"
     ]
    },
    {
     "name": "stderr",
     "output_type": "stream",
     "text": [
      " 11%|█         | 216/2000 [00:35<03:15,  9.12it/s]"
     ]
    },
    {
     "name": "stdout",
     "output_type": "stream",
     "text": [
      "Training_loss 4.06160,   Relative Error 0.73717\n",
      "Training_loss 4.05062,   Relative Error 0.73613\n"
     ]
    },
    {
     "name": "stderr",
     "output_type": "stream",
     "text": [
      " 11%|█         | 218/2000 [00:35<03:24,  8.70it/s]"
     ]
    },
    {
     "name": "stdout",
     "output_type": "stream",
     "text": [
      "Training_loss 4.02077,   Relative Error 0.73343\n",
      "Training_loss 4.01075,   Relative Error 0.73254\n"
     ]
    },
    {
     "name": "stderr",
     "output_type": "stream",
     "text": [
      " 11%|█         | 220/2000 [00:36<03:43,  7.95it/s]"
     ]
    },
    {
     "name": "stdout",
     "output_type": "stream",
     "text": [
      "Training_loss 3.99639,   Relative Error 0.73122\n",
      "Training_loss 3.98541,   Relative Error 0.73018\n"
     ]
    },
    {
     "name": "stderr",
     "output_type": "stream",
     "text": [
      " 11%|█         | 222/2000 [00:36<03:31,  8.41it/s]"
     ]
    },
    {
     "name": "stdout",
     "output_type": "stream",
     "text": [
      "Training_loss 3.98042,   Relative Error 0.72970\n",
      "Training_loss 3.96325,   Relative Error 0.72816\n"
     ]
    },
    {
     "name": "stderr",
     "output_type": "stream",
     "text": [
      " 11%|█         | 224/2000 [00:36<03:40,  8.06it/s]"
     ]
    },
    {
     "name": "stdout",
     "output_type": "stream",
     "text": [
      "Training_loss 3.94568,   Relative Error 0.72656\n",
      "Training_loss 3.92631,   Relative Error 0.72482\n"
     ]
    },
    {
     "name": "stderr",
     "output_type": "stream",
     "text": [
      "\r",
      " 11%|█▏        | 226/2000 [00:36<03:19,  8.88it/s]"
     ]
    },
    {
     "name": "stdout",
     "output_type": "stream",
     "text": [
      "Training_loss 3.90840,   Relative Error 0.72316\n",
      "Training_loss 3.89588,   Relative Error 0.72198\n"
     ]
    },
    {
     "name": "stderr",
     "output_type": "stream",
     "text": [
      " 11%|█▏        | 228/2000 [00:37<03:32,  8.35it/s]"
     ]
    },
    {
     "name": "stdout",
     "output_type": "stream",
     "text": [
      "Training_loss 3.87690,   Relative Error 0.72033\n",
      "Training_loss 3.86120,   Relative Error 0.71890\n"
     ]
    },
    {
     "name": "stderr",
     "output_type": "stream",
     "text": [
      " 12%|█▏        | 230/2000 [00:37<03:43,  7.92it/s]"
     ]
    },
    {
     "name": "stdout",
     "output_type": "stream",
     "text": [
      "Training_loss 3.84980,   Relative Error 0.71785\n",
      "Training_loss 3.83566,   Relative Error 0.71658\n"
     ]
    },
    {
     "name": "stderr",
     "output_type": "stream",
     "text": [
      " 12%|█▏        | 232/2000 [00:37<03:24,  8.65it/s]"
     ]
    },
    {
     "name": "stdout",
     "output_type": "stream",
     "text": [
      "Training_loss 3.83201,   Relative Error 0.71624\n",
      "Training_loss 3.82024,   Relative Error 0.71519\n",
      "Training_loss 3.80018,   Relative Error 0.71334\n"
     ]
    },
    {
     "name": "stderr",
     "output_type": "stream",
     "text": [
      " 12%|█▏        | 235/2000 [00:37<03:04,  9.56it/s]"
     ]
    },
    {
     "name": "stdout",
     "output_type": "stream",
     "text": [
      "Training_loss 3.78622,   Relative Error 0.71202\n",
      "Training_loss 3.76682,   Relative Error 0.71025\n",
      "Training_loss 3.74563,   Relative Error 0.70822\n"
     ]
    },
    {
     "name": "stderr",
     "output_type": "stream",
     "text": [
      " 12%|█▏        | 238/2000 [00:38<02:57,  9.93it/s]"
     ]
    },
    {
     "name": "stdout",
     "output_type": "stream",
     "text": [
      "Training_loss 3.72842,   Relative Error 0.70658\n",
      "Training_loss 3.71500,   Relative Error 0.70529\n"
     ]
    },
    {
     "name": "stderr",
     "output_type": "stream",
     "text": [
      "\r",
      " 12%|█▏        | 240/2000 [00:38<02:50, 10.33it/s]"
     ]
    },
    {
     "name": "stdout",
     "output_type": "stream",
     "text": [
      "Training_loss 3.70331,   Relative Error 0.70412\n",
      "Training_loss 3.69352,   Relative Error 0.70321\n",
      "Training_loss 3.67136,   Relative Error 0.70114\n"
     ]
    },
    {
     "name": "stderr",
     "output_type": "stream",
     "text": [
      " 12%|█▏        | 244/2000 [00:38<02:46, 10.55it/s]"
     ]
    },
    {
     "name": "stdout",
     "output_type": "stream",
     "text": [
      "Training_loss 3.65830,   Relative Error 0.69993\n",
      "Training_loss 3.64043,   Relative Error 0.69821\n",
      "Training_loss 3.62681,   Relative Error 0.69689\n"
     ]
    },
    {
     "name": "stderr",
     "output_type": "stream",
     "text": [
      "\r",
      " 12%|█▏        | 246/2000 [00:38<02:35, 11.28it/s]"
     ]
    },
    {
     "name": "stdout",
     "output_type": "stream",
     "text": [
      "Training_loss 3.61887,   Relative Error 0.69612\n",
      "Training_loss 3.60779,   Relative Error 0.69503\n",
      "Training_loss 3.58282,   Relative Error 0.69262\n"
     ]
    },
    {
     "name": "stderr",
     "output_type": "stream",
     "text": [
      " 12%|█▎        | 250/2000 [00:39<02:35, 11.28it/s]"
     ]
    },
    {
     "name": "stdout",
     "output_type": "stream",
     "text": [
      "Training_loss 3.57005,   Relative Error 0.69140\n",
      "Training_loss 3.56182,   Relative Error 0.69063\n",
      "Training_loss 3.54085,   Relative Error 0.68859\n"
     ]
    },
    {
     "name": "stderr",
     "output_type": "stream",
     "text": [
      "\r",
      " 13%|█▎        | 252/2000 [00:39<02:39, 10.95it/s]"
     ]
    },
    {
     "name": "stdout",
     "output_type": "stream",
     "text": [
      "Training_loss 3.53244,   Relative Error 0.68778\n",
      "Training_loss 3.52137,   Relative Error 0.68672\n",
      "Training_loss 3.50733,   Relative Error 0.68538\n"
     ]
    },
    {
     "name": "stderr",
     "output_type": "stream",
     "text": [
      " 13%|█▎        | 256/2000 [00:39<02:51, 10.17it/s]"
     ]
    },
    {
     "name": "stdout",
     "output_type": "stream",
     "text": [
      "Training_loss 3.49305,   Relative Error 0.68396\n",
      "Training_loss 3.48390,   Relative Error 0.68313\n",
      "Training_loss 3.47408,   Relative Error 0.68212\n"
     ]
    },
    {
     "name": "stderr",
     "output_type": "stream",
     "text": [
      "\r",
      " 13%|█▎        | 258/2000 [00:40<02:59,  9.69it/s]"
     ]
    },
    {
     "name": "stdout",
     "output_type": "stream",
     "text": [
      "Training_loss 3.45878,   Relative Error 0.68064\n",
      "Training_loss 3.44768,   Relative Error 0.67948\n"
     ]
    },
    {
     "name": "stderr",
     "output_type": "stream",
     "text": [
      " 13%|█▎        | 260/2000 [00:40<03:02,  9.52it/s]"
     ]
    },
    {
     "name": "stdout",
     "output_type": "stream",
     "text": [
      "Training_loss 3.43919,   Relative Error 0.67862\n",
      "Training_loss 3.42945,   Relative Error 0.67770\n"
     ]
    },
    {
     "name": "stderr",
     "output_type": "stream",
     "text": [
      " 13%|█▎        | 262/2000 [00:40<03:06,  9.31it/s]"
     ]
    },
    {
     "name": "stdout",
     "output_type": "stream",
     "text": [
      "Training_loss 3.41517,   Relative Error 0.67625\n",
      "Training_loss 3.40474,   Relative Error 0.67523\n"
     ]
    },
    {
     "name": "stderr",
     "output_type": "stream",
     "text": [
      " 13%|█▎        | 264/2000 [00:40<03:29,  8.29it/s]"
     ]
    },
    {
     "name": "stdout",
     "output_type": "stream",
     "text": [
      "Training_loss 3.39270,   Relative Error 0.67404\n",
      "Training_loss 3.38698,   Relative Error 0.67347\n"
     ]
    },
    {
     "name": "stderr",
     "output_type": "stream",
     "text": [
      " 13%|█▎        | 266/2000 [00:41<03:24,  8.50it/s]"
     ]
    },
    {
     "name": "stdout",
     "output_type": "stream",
     "text": [
      "Training_loss 3.37765,   Relative Error 0.67259\n",
      "Training_loss 3.36761,   Relative Error 0.67157\n"
     ]
    },
    {
     "name": "stderr",
     "output_type": "stream",
     "text": [
      " 13%|█▎        | 269/2000 [00:41<02:58,  9.67it/s]"
     ]
    },
    {
     "name": "stdout",
     "output_type": "stream",
     "text": [
      "Training_loss 3.35358,   Relative Error 0.67020\n",
      "Training_loss 3.33876,   Relative Error 0.66875\n",
      "Training_loss 3.32628,   Relative Error 0.66747\n"
     ]
    },
    {
     "name": "stderr",
     "output_type": "stream",
     "text": [
      "\r",
      " 14%|█▎        | 271/2000 [00:41<02:49, 10.19it/s]"
     ]
    },
    {
     "name": "stdout",
     "output_type": "stream",
     "text": [
      "Training_loss 3.32058,   Relative Error 0.66689\n",
      "Training_loss 3.31167,   Relative Error 0.66599\n",
      "Training_loss 3.30436,   Relative Error 0.66524\n"
     ]
    },
    {
     "name": "stderr",
     "output_type": "stream",
     "text": [
      " 14%|█▍        | 275/2000 [00:41<02:42, 10.63it/s]"
     ]
    },
    {
     "name": "stdout",
     "output_type": "stream",
     "text": [
      "Training_loss 3.29433,   Relative Error 0.66421\n",
      "Training_loss 3.28168,   Relative Error 0.66290\n",
      "Training_loss 3.27057,   Relative Error 0.66175\n"
     ]
    },
    {
     "name": "stderr",
     "output_type": "stream",
     "text": [
      "\r",
      " 14%|█▍        | 277/2000 [00:42<02:50, 10.12it/s]"
     ]
    },
    {
     "name": "stdout",
     "output_type": "stream",
     "text": [
      "Training_loss 3.26653,   Relative Error 0.66132\n",
      "Training_loss 3.24410,   Relative Error 0.65908\n",
      "Training_loss 3.22550,   Relative Error 0.65718\n"
     ]
    },
    {
     "name": "stderr",
     "output_type": "stream",
     "text": [
      " 14%|█▍        | 281/2000 [00:42<02:37, 10.88it/s]"
     ]
    },
    {
     "name": "stdout",
     "output_type": "stream",
     "text": [
      "Training_loss 3.21646,   Relative Error 0.65629\n",
      "Training_loss 3.20741,   Relative Error 0.65538\n",
      "Training_loss 3.20228,   Relative Error 0.65484\n"
     ]
    },
    {
     "name": "stderr",
     "output_type": "stream",
     "text": [
      "\r",
      " 14%|█▍        | 283/2000 [00:42<02:38, 10.83it/s]"
     ]
    },
    {
     "name": "stdout",
     "output_type": "stream",
     "text": [
      "Training_loss 3.19541,   Relative Error 0.65409\n",
      "Training_loss 3.18210,   Relative Error 0.65276\n",
      "Training_loss 3.17042,   Relative Error 0.65158\n"
     ]
    },
    {
     "name": "stderr",
     "output_type": "stream",
     "text": [
      " 14%|█▍        | 287/2000 [00:42<02:26, 11.69it/s]"
     ]
    },
    {
     "name": "stdout",
     "output_type": "stream",
     "text": [
      "Training_loss 3.15341,   Relative Error 0.64984\n",
      "Training_loss 3.13873,   Relative Error 0.64828\n",
      "Training_loss 3.13431,   Relative Error 0.64782\n"
     ]
    },
    {
     "name": "stderr",
     "output_type": "stream",
     "text": [
      "\r",
      " 14%|█▍        | 289/2000 [00:43<02:22, 12.00it/s]"
     ]
    },
    {
     "name": "stdout",
     "output_type": "stream",
     "text": [
      "Training_loss 3.11876,   Relative Error 0.64622\n",
      "Training_loss 3.10907,   Relative Error 0.64523\n",
      "Training_loss 3.09832,   Relative Error 0.64408\n"
     ]
    },
    {
     "name": "stderr",
     "output_type": "stream",
     "text": [
      " 15%|█▍        | 293/2000 [00:43<02:31, 11.28it/s]"
     ]
    },
    {
     "name": "stdout",
     "output_type": "stream",
     "text": [
      "Training_loss 3.08430,   Relative Error 0.64264\n",
      "Training_loss 3.07519,   Relative Error 0.64167\n",
      "Training_loss 3.05870,   Relative Error 0.63998\n"
     ]
    },
    {
     "name": "stderr",
     "output_type": "stream",
     "text": [
      "\r",
      " 15%|█▍        | 295/2000 [00:43<02:31, 11.24it/s]"
     ]
    },
    {
     "name": "stdout",
     "output_type": "stream",
     "text": [
      "Training_loss 3.04953,   Relative Error 0.63902\n",
      "Training_loss 3.03963,   Relative Error 0.63796\n"
     ]
    },
    {
     "name": "stderr",
     "output_type": "stream",
     "text": [
      "\r",
      " 15%|█▍        | 297/2000 [00:43<02:34, 11.02it/s]"
     ]
    },
    {
     "name": "stdout",
     "output_type": "stream",
     "text": [
      "Training_loss 3.02789,   Relative Error 0.63672\n",
      "Training_loss 3.01790,   Relative Error 0.63567\n",
      "Training_loss 3.00839,   Relative Error 0.63471\n"
     ]
    },
    {
     "name": "stderr",
     "output_type": "stream",
     "text": [
      " 15%|█▌        | 301/2000 [00:44<02:35, 10.89it/s]"
     ]
    },
    {
     "name": "stdout",
     "output_type": "stream",
     "text": [
      "Training_loss 3.00021,   Relative Error 0.63388\n",
      "Training_loss 2.99553,   Relative Error 0.63336\n",
      "Training_loss 2.97932,   Relative Error 0.63169\n"
     ]
    },
    {
     "name": "stderr",
     "output_type": "stream",
     "text": [
      "\r",
      " 15%|█▌        | 303/2000 [00:44<02:26, 11.58it/s]"
     ]
    },
    {
     "name": "stdout",
     "output_type": "stream",
     "text": [
      "Training_loss 2.97348,   Relative Error 0.63106\n",
      "Training_loss 2.96015,   Relative Error 0.62967\n",
      "Training_loss 2.95059,   Relative Error 0.62867\n"
     ]
    },
    {
     "name": "stderr",
     "output_type": "stream",
     "text": [
      " 15%|█▌        | 307/2000 [00:44<02:27, 11.51it/s]"
     ]
    },
    {
     "name": "stdout",
     "output_type": "stream",
     "text": [
      "Training_loss 2.94480,   Relative Error 0.62805\n",
      "Training_loss 2.93511,   Relative Error 0.62697\n",
      "Training_loss 2.92643,   Relative Error 0.62608\n"
     ]
    },
    {
     "name": "stderr",
     "output_type": "stream",
     "text": [
      "\r",
      " 15%|█▌        | 309/2000 [00:44<02:27, 11.43it/s]"
     ]
    },
    {
     "name": "stdout",
     "output_type": "stream",
     "text": [
      "Training_loss 2.91785,   Relative Error 0.62520\n",
      "Training_loss 2.91154,   Relative Error 0.62453\n",
      "Training_loss 2.90107,   Relative Error 0.62343\n"
     ]
    },
    {
     "name": "stderr",
     "output_type": "stream",
     "text": [
      " 16%|█▌        | 313/2000 [00:45<02:33, 10.99it/s]"
     ]
    },
    {
     "name": "stdout",
     "output_type": "stream",
     "text": [
      "Training_loss 2.89204,   Relative Error 0.62243\n",
      "Training_loss 2.87963,   Relative Error 0.62110\n",
      "Training_loss 2.87455,   Relative Error 0.62056\n"
     ]
    },
    {
     "name": "stderr",
     "output_type": "stream",
     "text": [
      "\r",
      " 16%|█▌        | 315/2000 [00:45<02:36, 10.73it/s]"
     ]
    },
    {
     "name": "stdout",
     "output_type": "stream",
     "text": [
      "Training_loss 2.87010,   Relative Error 0.62008\n",
      "Training_loss 2.85937,   Relative Error 0.61897\n",
      "Training_loss 2.85062,   Relative Error 0.61800\n"
     ]
    },
    {
     "name": "stderr",
     "output_type": "stream",
     "text": [
      "\r",
      " 16%|█▌        | 317/2000 [00:45<02:25, 11.58it/s]"
     ]
    },
    {
     "name": "stdout",
     "output_type": "stream",
     "text": [
      "Training_loss 2.83915,   Relative Error 0.61671\n",
      "Training_loss 2.82839,   Relative Error 0.61561\n"
     ]
    },
    {
     "name": "stderr",
     "output_type": "stream",
     "text": [
      " 16%|█▌        | 321/2000 [00:46<02:32, 11.01it/s]"
     ]
    },
    {
     "name": "stdout",
     "output_type": "stream",
     "text": [
      "Training_loss 2.81771,   Relative Error 0.61448\n",
      "Training_loss 2.80853,   Relative Error 0.61350\n",
      "Training_loss 2.80181,   Relative Error 0.61279\n"
     ]
    },
    {
     "name": "stderr",
     "output_type": "stream",
     "text": [
      "\r",
      " 16%|█▌        | 323/2000 [00:46<02:41, 10.38it/s]"
     ]
    },
    {
     "name": "stdout",
     "output_type": "stream",
     "text": [
      "Training_loss 2.78802,   Relative Error 0.61130\n",
      "Training_loss 2.77818,   Relative Error 0.61021\n",
      "Training_loss 2.76620,   Relative Error 0.60891\n"
     ]
    },
    {
     "name": "stderr",
     "output_type": "stream",
     "text": [
      " 16%|█▋        | 327/2000 [00:46<02:35, 10.75it/s]"
     ]
    },
    {
     "name": "stdout",
     "output_type": "stream",
     "text": [
      "Training_loss 2.75448,   Relative Error 0.60763\n",
      "Training_loss 2.74790,   Relative Error 0.60694\n",
      "Training_loss 2.73269,   Relative Error 0.60534\n"
     ]
    },
    {
     "name": "stderr",
     "output_type": "stream",
     "text": [
      "\r",
      " 16%|█▋        | 329/2000 [00:46<02:38, 10.53it/s]"
     ]
    },
    {
     "name": "stdout",
     "output_type": "stream",
     "text": [
      "Training_loss 2.71825,   Relative Error 0.60375\n",
      "Training_loss 2.70948,   Relative Error 0.60279\n",
      "Training_loss 2.69893,   Relative Error 0.60168\n"
     ]
    },
    {
     "name": "stderr",
     "output_type": "stream",
     "text": [
      " 17%|█▋        | 333/2000 [00:47<02:30, 11.04it/s]"
     ]
    },
    {
     "name": "stdout",
     "output_type": "stream",
     "text": [
      "Training_loss 2.68852,   Relative Error 0.60050\n",
      "Training_loss 2.68024,   Relative Error 0.59958\n",
      "Training_loss 2.67094,   Relative Error 0.59853\n"
     ]
    },
    {
     "name": "stderr",
     "output_type": "stream",
     "text": [
      "\r",
      " 17%|█▋        | 335/2000 [00:47<02:30, 11.08it/s]"
     ]
    },
    {
     "name": "stdout",
     "output_type": "stream",
     "text": [
      "Training_loss 2.66494,   Relative Error 0.59789\n",
      "Training_loss 2.65488,   Relative Error 0.59678\n",
      "Training_loss 2.65009,   Relative Error 0.59627\n"
     ]
    },
    {
     "name": "stderr",
     "output_type": "stream",
     "text": [
      " 17%|█▋        | 339/2000 [00:47<02:26, 11.33it/s]"
     ]
    },
    {
     "name": "stdout",
     "output_type": "stream",
     "text": [
      "Training_loss 2.64386,   Relative Error 0.59556\n",
      "Training_loss 2.63950,   Relative Error 0.59508\n",
      "Training_loss 2.63023,   Relative Error 0.59407\n"
     ]
    },
    {
     "name": "stderr",
     "output_type": "stream",
     "text": [
      "\r",
      " 17%|█▋        | 341/2000 [00:47<02:34, 10.77it/s]"
     ]
    },
    {
     "name": "stdout",
     "output_type": "stream",
     "text": [
      "Training_loss 2.62216,   Relative Error 0.59322\n",
      "Training_loss 2.60881,   Relative Error 0.59171\n",
      "Training_loss 2.59690,   Relative Error 0.59032\n"
     ]
    },
    {
     "name": "stderr",
     "output_type": "stream",
     "text": [
      " 17%|█▋        | 345/2000 [00:48<02:20, 11.77it/s]"
     ]
    },
    {
     "name": "stdout",
     "output_type": "stream",
     "text": [
      "Training_loss 2.59079,   Relative Error 0.58964\n",
      "Training_loss 2.57925,   Relative Error 0.58831\n",
      "Training_loss 2.57143,   Relative Error 0.58739\n"
     ]
    },
    {
     "name": "stderr",
     "output_type": "stream",
     "text": [
      "\r",
      " 17%|█▋        | 347/2000 [00:48<02:18, 11.93it/s]"
     ]
    },
    {
     "name": "stdout",
     "output_type": "stream",
     "text": [
      "Training_loss 2.56456,   Relative Error 0.58667\n",
      "Training_loss 2.55614,   Relative Error 0.58570\n",
      "Training_loss 2.53723,   Relative Error 0.58358\n"
     ]
    },
    {
     "name": "stderr",
     "output_type": "stream",
     "text": [
      " 18%|█▊        | 351/2000 [00:48<02:20, 11.70it/s]"
     ]
    },
    {
     "name": "stdout",
     "output_type": "stream",
     "text": [
      "Training_loss 2.52561,   Relative Error 0.58224\n",
      "Training_loss 2.51312,   Relative Error 0.58083\n",
      "Training_loss 2.50420,   Relative Error 0.57980\n"
     ]
    },
    {
     "name": "stderr",
     "output_type": "stream",
     "text": [
      "\r",
      " 18%|█▊        | 353/2000 [00:48<02:28, 11.08it/s]"
     ]
    },
    {
     "name": "stdout",
     "output_type": "stream",
     "text": [
      "Training_loss 2.49790,   Relative Error 0.57909\n",
      "Training_loss 2.48557,   Relative Error 0.57765\n"
     ]
    },
    {
     "name": "stderr",
     "output_type": "stream",
     "text": [
      "\r",
      " 18%|█▊        | 355/2000 [00:49<02:39, 10.30it/s]"
     ]
    },
    {
     "name": "stdout",
     "output_type": "stream",
     "text": [
      "Training_loss 2.47670,   Relative Error 0.57663\n",
      "Training_loss 2.46309,   Relative Error 0.57508\n",
      "Training_loss 2.45664,   Relative Error 0.57432\n"
     ]
    },
    {
     "name": "stderr",
     "output_type": "stream",
     "text": [
      " 18%|█▊        | 359/2000 [00:49<02:37, 10.42it/s]"
     ]
    },
    {
     "name": "stdout",
     "output_type": "stream",
     "text": [
      "Training_loss 2.44583,   Relative Error 0.57305\n",
      "Training_loss 2.43818,   Relative Error 0.57219\n",
      "Training_loss 2.43290,   Relative Error 0.57158\n"
     ]
    },
    {
     "name": "stderr",
     "output_type": "stream",
     "text": [
      "\r",
      " 18%|█▊        | 361/2000 [00:49<02:31, 10.82it/s]"
     ]
    },
    {
     "name": "stdout",
     "output_type": "stream",
     "text": [
      "Training_loss 2.42124,   Relative Error 0.57017\n",
      "Training_loss 2.41477,   Relative Error 0.56937\n",
      "Training_loss 2.40574,   Relative Error 0.56830\n"
     ]
    },
    {
     "name": "stderr",
     "output_type": "stream",
     "text": [
      " 18%|█▊        | 365/2000 [00:50<02:34, 10.55it/s]"
     ]
    },
    {
     "name": "stdout",
     "output_type": "stream",
     "text": [
      "Training_loss 2.39333,   Relative Error 0.56685\n",
      "Training_loss 2.38690,   Relative Error 0.56611\n",
      "Training_loss 2.37689,   Relative Error 0.56497\n"
     ]
    },
    {
     "name": "stderr",
     "output_type": "stream",
     "text": [
      "\r",
      " 18%|█▊        | 367/2000 [00:50<02:28, 11.01it/s]"
     ]
    },
    {
     "name": "stdout",
     "output_type": "stream",
     "text": [
      "Training_loss 2.36499,   Relative Error 0.56359\n",
      "Training_loss 2.35689,   Relative Error 0.56259\n",
      "Training_loss 2.34766,   Relative Error 0.56147\n"
     ]
    },
    {
     "name": "stderr",
     "output_type": "stream",
     "text": [
      " 19%|█▊        | 371/2000 [00:50<02:21, 11.50it/s]"
     ]
    },
    {
     "name": "stdout",
     "output_type": "stream",
     "text": [
      "Training_loss 2.33457,   Relative Error 0.55989\n",
      "Training_loss 2.32670,   Relative Error 0.55894\n",
      "Training_loss 2.32008,   Relative Error 0.55812\n"
     ]
    },
    {
     "name": "stderr",
     "output_type": "stream",
     "text": [
      "\r",
      " 19%|█▊        | 373/2000 [00:50<02:19, 11.65it/s]"
     ]
    },
    {
     "name": "stdout",
     "output_type": "stream",
     "text": [
      "Training_loss 2.30883,   Relative Error 0.55680\n",
      "Training_loss 2.30261,   Relative Error 0.55604\n",
      "Training_loss 2.29812,   Relative Error 0.55552\n"
     ]
    },
    {
     "name": "stderr",
     "output_type": "stream",
     "text": [
      " 19%|█▉        | 377/2000 [00:51<02:27, 11.02it/s]"
     ]
    },
    {
     "name": "stdout",
     "output_type": "stream",
     "text": [
      "Training_loss 2.29136,   Relative Error 0.55467\n",
      "Training_loss 2.27838,   Relative Error 0.55312\n",
      "Training_loss 2.27384,   Relative Error 0.55255\n"
     ]
    },
    {
     "name": "stderr",
     "output_type": "stream",
     "text": [
      "\r",
      " 19%|█▉        | 379/2000 [00:51<02:23, 11.27it/s]"
     ]
    },
    {
     "name": "stdout",
     "output_type": "stream",
     "text": [
      "Training_loss 2.26604,   Relative Error 0.55160\n",
      "Training_loss 2.25937,   Relative Error 0.55079\n",
      "Training_loss 2.25031,   Relative Error 0.54969\n"
     ]
    },
    {
     "name": "stderr",
     "output_type": "stream",
     "text": [
      " 19%|█▉        | 383/2000 [00:51<02:27, 10.95it/s]"
     ]
    },
    {
     "name": "stdout",
     "output_type": "stream",
     "text": [
      "Training_loss 2.24483,   Relative Error 0.54903\n",
      "Training_loss 2.23919,   Relative Error 0.54835\n",
      "Training_loss 2.23249,   Relative Error 0.54756\n"
     ]
    },
    {
     "name": "stderr",
     "output_type": "stream",
     "text": [
      "\r",
      " 19%|█▉        | 385/2000 [00:51<02:22, 11.33it/s]"
     ]
    },
    {
     "name": "stdout",
     "output_type": "stream",
     "text": [
      "Training_loss 2.22054,   Relative Error 0.54609\n",
      "Training_loss 2.21016,   Relative Error 0.54481\n",
      "Training_loss 2.20518,   Relative Error 0.54422\n"
     ]
    },
    {
     "name": "stderr",
     "output_type": "stream",
     "text": [
      " 19%|█▉        | 389/2000 [00:52<02:13, 12.03it/s]"
     ]
    },
    {
     "name": "stdout",
     "output_type": "stream",
     "text": [
      "Training_loss 2.19870,   Relative Error 0.54344\n",
      "Training_loss 2.19072,   Relative Error 0.54249\n",
      "Training_loss 2.18057,   Relative Error 0.54124\n"
     ]
    },
    {
     "name": "stderr",
     "output_type": "stream",
     "text": [
      "\r",
      " 20%|█▉        | 391/2000 [00:52<02:13, 12.08it/s]"
     ]
    },
    {
     "name": "stdout",
     "output_type": "stream",
     "text": [
      "Training_loss 2.17342,   Relative Error 0.54041\n",
      "Training_loss 2.16477,   Relative Error 0.53934\n",
      "Training_loss 2.16061,   Relative Error 0.53882\n"
     ]
    },
    {
     "name": "stderr",
     "output_type": "stream",
     "text": [
      " 20%|█▉        | 395/2000 [00:52<02:18, 11.62it/s]"
     ]
    },
    {
     "name": "stdout",
     "output_type": "stream",
     "text": [
      "Training_loss 2.14928,   Relative Error 0.53741\n",
      "Training_loss 2.14101,   Relative Error 0.53639\n",
      "Training_loss 2.13346,   Relative Error 0.53546\n"
     ]
    },
    {
     "name": "stderr",
     "output_type": "stream",
     "text": [
      "\r",
      " 20%|█▉        | 397/2000 [00:52<02:17, 11.63it/s]"
     ]
    },
    {
     "name": "stdout",
     "output_type": "stream",
     "text": [
      "Training_loss 2.12477,   Relative Error 0.53433\n",
      "Training_loss 2.11348,   Relative Error 0.53294\n",
      "Training_loss 2.10906,   Relative Error 0.53239\n"
     ]
    },
    {
     "name": "stderr",
     "output_type": "stream",
     "text": [
      " 20%|██        | 401/2000 [00:53<02:19, 11.48it/s]"
     ]
    },
    {
     "name": "stdout",
     "output_type": "stream",
     "text": [
      "Training_loss 2.10378,   Relative Error 0.53170\n",
      "Training_loss 2.09780,   Relative Error 0.53097\n",
      "Training_loss 2.08747,   Relative Error 0.52971\n"
     ]
    },
    {
     "name": "stderr",
     "output_type": "stream",
     "text": [
      "\r",
      " 20%|██        | 403/2000 [00:53<02:24, 11.04it/s]"
     ]
    },
    {
     "name": "stdout",
     "output_type": "stream",
     "text": [
      "Training_loss 2.07522,   Relative Error 0.52817\n",
      "Training_loss 2.06570,   Relative Error 0.52694\n",
      "Training_loss 2.06095,   Relative Error 0.52632\n"
     ]
    },
    {
     "name": "stderr",
     "output_type": "stream",
     "text": [
      " 20%|██        | 407/2000 [00:53<02:25, 10.97it/s]"
     ]
    },
    {
     "name": "stdout",
     "output_type": "stream",
     "text": [
      "Training_loss 2.05203,   Relative Error 0.52519\n",
      "Training_loss 2.04759,   Relative Error 0.52460\n",
      "Training_loss 2.04070,   Relative Error 0.52377\n"
     ]
    },
    {
     "name": "stderr",
     "output_type": "stream",
     "text": [
      "\r",
      " 20%|██        | 409/2000 [00:53<02:29, 10.62it/s]"
     ]
    },
    {
     "name": "stdout",
     "output_type": "stream",
     "text": [
      "Training_loss 2.03357,   Relative Error 0.52284\n",
      "Training_loss 2.02562,   Relative Error 0.52186\n",
      "Training_loss 2.02018,   Relative Error 0.52117\n"
     ]
    },
    {
     "name": "stderr",
     "output_type": "stream",
     "text": [
      "\r",
      " 21%|██        | 411/2000 [00:54<02:23, 11.08it/s]"
     ]
    },
    {
     "name": "stdout",
     "output_type": "stream",
     "text": [
      "Training_loss 2.01203,   Relative Error 0.52010\n",
      "Training_loss 2.00687,   Relative Error 0.51942\n",
      "Training_loss 1.99621,   Relative Error 0.51801\n"
     ]
    },
    {
     "name": "stderr",
     "output_type": "stream",
     "text": [
      " 21%|██        | 415/2000 [00:54<02:22, 11.16it/s]"
     ]
    },
    {
     "name": "stdout",
     "output_type": "stream",
     "text": [
      "Training_loss 1.98805,   Relative Error 0.51699\n",
      "Training_loss 1.97990,   Relative Error 0.51595\n"
     ]
    },
    {
     "name": "stderr",
     "output_type": "stream",
     "text": [
      "\r",
      " 21%|██        | 417/2000 [00:54<02:21, 11.22it/s]"
     ]
    },
    {
     "name": "stdout",
     "output_type": "stream",
     "text": [
      "Training_loss 1.97365,   Relative Error 0.51512\n",
      "Training_loss 1.96504,   Relative Error 0.51394\n"
     ]
    },
    {
     "name": "stderr",
     "output_type": "stream",
     "text": [
      "\r",
      " 21%|██        | 419/2000 [00:54<02:36, 10.12it/s]"
     ]
    },
    {
     "name": "stdout",
     "output_type": "stream",
     "text": [
      "Training_loss 1.95264,   Relative Error 0.51233\n",
      "Training_loss 1.94943,   Relative Error 0.51190\n"
     ]
    },
    {
     "name": "stderr",
     "output_type": "stream",
     "text": [
      "\r",
      " 21%|██        | 421/2000 [00:55<02:40,  9.83it/s]"
     ]
    },
    {
     "name": "stdout",
     "output_type": "stream",
     "text": [
      "Training_loss 1.94354,   Relative Error 0.51111\n",
      "Training_loss 1.92995,   Relative Error 0.50931\n",
      "Training_loss 1.92255,   Relative Error 0.50834\n"
     ]
    },
    {
     "name": "stderr",
     "output_type": "stream",
     "text": [
      " 21%|██▏       | 425/2000 [00:55<02:33, 10.29it/s]"
     ]
    },
    {
     "name": "stdout",
     "output_type": "stream",
     "text": [
      "Training_loss 1.91836,   Relative Error 0.50778\n",
      "Training_loss 1.90891,   Relative Error 0.50654\n",
      "Training_loss 1.90396,   Relative Error 0.50591\n"
     ]
    },
    {
     "name": "stderr",
     "output_type": "stream",
     "text": [
      "\r",
      " 21%|██▏       | 427/2000 [00:55<02:32, 10.29it/s]"
     ]
    },
    {
     "name": "stdout",
     "output_type": "stream",
     "text": [
      "Training_loss 1.89700,   Relative Error 0.50504\n",
      "Training_loss 1.89081,   Relative Error 0.50425\n",
      "Training_loss 1.88232,   Relative Error 0.50313\n"
     ]
    },
    {
     "name": "stderr",
     "output_type": "stream",
     "text": [
      " 22%|██▏       | 431/2000 [00:56<02:34, 10.18it/s]"
     ]
    },
    {
     "name": "stdout",
     "output_type": "stream",
     "text": [
      "Training_loss 1.87702,   Relative Error 0.50244\n",
      "Training_loss 1.86886,   Relative Error 0.50132\n",
      "Training_loss 1.86167,   Relative Error 0.50036\n"
     ]
    },
    {
     "name": "stderr",
     "output_type": "stream",
     "text": [
      "\r",
      " 22%|██▏       | 433/2000 [00:56<02:40,  9.76it/s]"
     ]
    },
    {
     "name": "stdout",
     "output_type": "stream",
     "text": [
      "Training_loss 1.85261,   Relative Error 0.49913\n",
      "Training_loss 1.84627,   Relative Error 0.49826\n"
     ]
    },
    {
     "name": "stderr",
     "output_type": "stream",
     "text": [
      " 22%|██▏       | 436/2000 [00:56<02:40,  9.73it/s]"
     ]
    },
    {
     "name": "stdout",
     "output_type": "stream",
     "text": [
      "Training_loss 1.84183,   Relative Error 0.49763\n",
      "Training_loss 1.83288,   Relative Error 0.49645\n",
      "Training_loss 1.82754,   Relative Error 0.49573\n"
     ]
    },
    {
     "name": "stderr",
     "output_type": "stream",
     "text": [
      " 22%|██▏       | 438/2000 [00:56<02:50,  9.19it/s]"
     ]
    },
    {
     "name": "stdout",
     "output_type": "stream",
     "text": [
      "Training_loss 1.82263,   Relative Error 0.49506\n",
      "Training_loss 1.81899,   Relative Error 0.49453\n"
     ]
    },
    {
     "name": "stderr",
     "output_type": "stream",
     "text": [
      "\r",
      " 22%|██▏       | 440/2000 [00:57<02:46,  9.36it/s]"
     ]
    },
    {
     "name": "stdout",
     "output_type": "stream",
     "text": [
      "Training_loss 1.81424,   Relative Error 0.49390\n",
      "Training_loss 1.80543,   Relative Error 0.49272\n",
      "Training_loss 1.80136,   Relative Error 0.49212\n"
     ]
    },
    {
     "name": "stderr",
     "output_type": "stream",
     "text": [
      "\r",
      " 22%|██▏       | 442/2000 [00:57<02:33, 10.18it/s]"
     ]
    },
    {
     "name": "stdout",
     "output_type": "stream",
     "text": [
      "Training_loss 1.79550,   Relative Error 0.49133\n",
      "Training_loss 1.79015,   Relative Error 0.49062\n"
     ]
    },
    {
     "name": "stderr",
     "output_type": "stream",
     "text": [
      " 22%|██▏       | 445/2000 [00:57<02:36,  9.94it/s]"
     ]
    },
    {
     "name": "stdout",
     "output_type": "stream",
     "text": [
      "Training_loss 1.78193,   Relative Error 0.48950\n",
      "Training_loss 1.77620,   Relative Error 0.48874\n"
     ]
    },
    {
     "name": "stderr",
     "output_type": "stream",
     "text": [
      " 22%|██▏       | 448/2000 [00:57<02:37,  9.83it/s]"
     ]
    },
    {
     "name": "stdout",
     "output_type": "stream",
     "text": [
      "Training_loss 1.77223,   Relative Error 0.48819\n",
      "Training_loss 1.76625,   Relative Error 0.48738\n",
      "Training_loss 1.76329,   Relative Error 0.48695\n"
     ]
    },
    {
     "name": "stderr",
     "output_type": "stream",
     "text": [
      " 23%|██▎       | 451/2000 [00:58<02:38,  9.79it/s]"
     ]
    },
    {
     "name": "stdout",
     "output_type": "stream",
     "text": [
      "Training_loss 1.75723,   Relative Error 0.48610\n",
      "Training_loss 1.75232,   Relative Error 0.48541\n",
      "Training_loss 1.74853,   Relative Error 0.48489\n"
     ]
    },
    {
     "name": "stderr",
     "output_type": "stream",
     "text": [
      "\r",
      " 23%|██▎       | 453/2000 [00:58<02:24, 10.71it/s]"
     ]
    },
    {
     "name": "stdout",
     "output_type": "stream",
     "text": [
      "Training_loss 1.73730,   Relative Error 0.48333\n",
      "Training_loss 1.73256,   Relative Error 0.48268\n",
      "Training_loss 1.72601,   Relative Error 0.48177\n"
     ]
    },
    {
     "name": "stderr",
     "output_type": "stream",
     "text": [
      " 23%|██▎       | 457/2000 [00:58<02:18, 11.12it/s]"
     ]
    },
    {
     "name": "stdout",
     "output_type": "stream",
     "text": [
      "Training_loss 1.72021,   Relative Error 0.48093\n",
      "Training_loss 1.71591,   Relative Error 0.48035\n",
      "Training_loss 1.71333,   Relative Error 0.47996\n"
     ]
    },
    {
     "name": "stderr",
     "output_type": "stream",
     "text": [
      "\r",
      " 23%|██▎       | 459/2000 [00:58<02:11, 11.70it/s]"
     ]
    },
    {
     "name": "stdout",
     "output_type": "stream",
     "text": [
      "Training_loss 1.70442,   Relative Error 0.47875\n",
      "Training_loss 1.69826,   Relative Error 0.47788\n",
      "Training_loss 1.69251,   Relative Error 0.47706\n"
     ]
    },
    {
     "name": "stderr",
     "output_type": "stream",
     "text": [
      "\r",
      " 23%|██▎       | 461/2000 [00:58<02:07, 12.04it/s]"
     ]
    },
    {
     "name": "stdout",
     "output_type": "stream",
     "text": [
      "Training_loss 1.68667,   Relative Error 0.47626\n",
      "Training_loss 1.68079,   Relative Error 0.47541\n"
     ]
    },
    {
     "name": "stderr",
     "output_type": "stream",
     "text": [
      " 23%|██▎       | 465/2000 [00:59<02:23, 10.68it/s]"
     ]
    },
    {
     "name": "stdout",
     "output_type": "stream",
     "text": [
      "Training_loss 1.67471,   Relative Error 0.47452\n",
      "Training_loss 1.67026,   Relative Error 0.47389\n",
      "Training_loss 1.66544,   Relative Error 0.47320\n"
     ]
    },
    {
     "name": "stderr",
     "output_type": "stream",
     "text": [
      "\r",
      " 23%|██▎       | 467/2000 [00:59<02:34,  9.92it/s]"
     ]
    },
    {
     "name": "stdout",
     "output_type": "stream",
     "text": [
      "Training_loss 1.65908,   Relative Error 0.47228\n",
      "Training_loss 1.65199,   Relative Error 0.47127\n"
     ]
    },
    {
     "name": "stderr",
     "output_type": "stream",
     "text": [
      "\r",
      " 23%|██▎       | 469/2000 [00:59<02:41,  9.50it/s]"
     ]
    },
    {
     "name": "stdout",
     "output_type": "stream",
     "text": [
      "Training_loss 1.64900,   Relative Error 0.47085\n",
      "Training_loss 1.63876,   Relative Error 0.46939\n"
     ]
    },
    {
     "name": "stderr",
     "output_type": "stream",
     "text": [
      " 24%|██▎       | 472/2000 [01:00<02:29, 10.22it/s]"
     ]
    },
    {
     "name": "stdout",
     "output_type": "stream",
     "text": [
      "Training_loss 1.63104,   Relative Error 0.46829\n",
      "Training_loss 1.62544,   Relative Error 0.46745\n",
      "Training_loss 1.62303,   Relative Error 0.46708\n"
     ]
    },
    {
     "name": "stderr",
     "output_type": "stream",
     "text": [
      "\r",
      " 24%|██▎       | 474/2000 [01:00<02:31, 10.10it/s]"
     ]
    },
    {
     "name": "stdout",
     "output_type": "stream",
     "text": [
      "Training_loss 1.61333,   Relative Error 0.46569\n",
      "Training_loss 1.60891,   Relative Error 0.46504\n",
      "Training_loss 1.60218,   Relative Error 0.46405\n"
     ]
    },
    {
     "name": "stderr",
     "output_type": "stream",
     "text": [
      " 24%|██▍       | 478/2000 [01:00<02:21, 10.73it/s]"
     ]
    },
    {
     "name": "stdout",
     "output_type": "stream",
     "text": [
      "Training_loss 1.59508,   Relative Error 0.46302\n",
      "Training_loss 1.59249,   Relative Error 0.46263\n",
      "Training_loss 1.58572,   Relative Error 0.46167\n"
     ]
    },
    {
     "name": "stderr",
     "output_type": "stream",
     "text": [
      "\r",
      " 24%|██▍       | 480/2000 [01:00<02:20, 10.79it/s]"
     ]
    },
    {
     "name": "stdout",
     "output_type": "stream",
     "text": [
      "Training_loss 1.58065,   Relative Error 0.46093\n",
      "Training_loss 1.57250,   Relative Error 0.45975\n",
      "Training_loss 1.56848,   Relative Error 0.45917\n"
     ]
    },
    {
     "name": "stderr",
     "output_type": "stream",
     "text": [
      " 24%|██▍       | 484/2000 [01:01<02:17, 10.99it/s]"
     ]
    },
    {
     "name": "stdout",
     "output_type": "stream",
     "text": [
      "Training_loss 1.56279,   Relative Error 0.45834\n",
      "Training_loss 1.55707,   Relative Error 0.45751\n",
      "Training_loss 1.55438,   Relative Error 0.45712\n"
     ]
    },
    {
     "name": "stderr",
     "output_type": "stream",
     "text": [
      "\r",
      " 24%|██▍       | 486/2000 [01:01<02:21, 10.70it/s]"
     ]
    },
    {
     "name": "stdout",
     "output_type": "stream",
     "text": [
      "Training_loss 1.54950,   Relative Error 0.45643\n",
      "Training_loss 1.54585,   Relative Error 0.45588\n",
      "Training_loss 1.53768,   Relative Error 0.45466\n"
     ]
    },
    {
     "name": "stderr",
     "output_type": "stream",
     "text": [
      " 24%|██▍       | 490/2000 [01:01<02:15, 11.16it/s]"
     ]
    },
    {
     "name": "stdout",
     "output_type": "stream",
     "text": [
      "Training_loss 1.53315,   Relative Error 0.45397\n",
      "Training_loss 1.52388,   Relative Error 0.45263\n",
      "Training_loss 1.51841,   Relative Error 0.45181\n"
     ]
    },
    {
     "name": "stderr",
     "output_type": "stream",
     "text": [
      "\r",
      " 25%|██▍       | 492/2000 [01:01<02:17, 11.01it/s]"
     ]
    },
    {
     "name": "stdout",
     "output_type": "stream",
     "text": [
      "Training_loss 1.50769,   Relative Error 0.45021\n",
      "Training_loss 1.50065,   Relative Error 0.44920\n",
      "Training_loss 1.49508,   Relative Error 0.44836\n"
     ]
    },
    {
     "name": "stderr",
     "output_type": "stream",
     "text": [
      " 25%|██▍       | 496/2000 [01:02<02:08, 11.69it/s]"
     ]
    },
    {
     "name": "stdout",
     "output_type": "stream",
     "text": [
      "Training_loss 1.49006,   Relative Error 0.44761\n",
      "Training_loss 1.48365,   Relative Error 0.44667\n",
      "Training_loss 1.47749,   Relative Error 0.44576\n"
     ]
    },
    {
     "name": "stderr",
     "output_type": "stream",
     "text": [
      "\r",
      " 25%|██▍       | 498/2000 [01:02<02:08, 11.65it/s]"
     ]
    },
    {
     "name": "stdout",
     "output_type": "stream",
     "text": [
      "Training_loss 1.47085,   Relative Error 0.44478\n",
      "Training_loss 1.46668,   Relative Error 0.44415\n",
      "Training_loss 1.46090,   Relative Error 0.44333\n"
     ]
    },
    {
     "name": "stderr",
     "output_type": "stream",
     "text": [
      " 25%|██▌       | 502/2000 [01:02<02:16, 10.98it/s]"
     ]
    },
    {
     "name": "stdout",
     "output_type": "stream",
     "text": [
      "Training_loss 1.45611,   Relative Error 0.44260\n",
      "Training_loss 1.44723,   Relative Error 0.44126\n",
      "Training_loss 1.44169,   Relative Error 0.44041\n"
     ]
    },
    {
     "name": "stderr",
     "output_type": "stream",
     "text": [
      "\r",
      " 25%|██▌       | 504/2000 [01:02<02:20, 10.63it/s]"
     ]
    },
    {
     "name": "stdout",
     "output_type": "stream",
     "text": [
      "Training_loss 1.43591,   Relative Error 0.43952\n",
      "Training_loss 1.43125,   Relative Error 0.43880\n"
     ]
    },
    {
     "name": "stderr",
     "output_type": "stream",
     "text": [
      "\r",
      " 25%|██▌       | 506/2000 [01:03<02:23, 10.42it/s]"
     ]
    },
    {
     "name": "stdout",
     "output_type": "stream",
     "text": [
      "Training_loss 1.42806,   Relative Error 0.43828\n",
      "Training_loss 1.42408,   Relative Error 0.43768\n",
      "Training_loss 1.41946,   Relative Error 0.43699\n"
     ]
    },
    {
     "name": "stderr",
     "output_type": "stream",
     "text": [
      " 26%|██▌       | 510/2000 [01:03<02:14, 11.10it/s]"
     ]
    },
    {
     "name": "stdout",
     "output_type": "stream",
     "text": [
      "Training_loss 1.41551,   Relative Error 0.43640\n",
      "Training_loss 1.41171,   Relative Error 0.43583\n",
      "Training_loss 1.40512,   Relative Error 0.43483\n"
     ]
    },
    {
     "name": "stderr",
     "output_type": "stream",
     "text": [
      "\r",
      " 26%|██▌       | 512/2000 [01:03<02:10, 11.38it/s]"
     ]
    },
    {
     "name": "stdout",
     "output_type": "stream",
     "text": [
      "Training_loss 1.40017,   Relative Error 0.43405\n",
      "Training_loss 1.39199,   Relative Error 0.43282\n",
      "Training_loss 1.38818,   Relative Error 0.43221\n"
     ]
    },
    {
     "name": "stderr",
     "output_type": "stream",
     "text": [
      " 26%|██▌       | 516/2000 [01:04<02:13, 11.09it/s]"
     ]
    },
    {
     "name": "stdout",
     "output_type": "stream",
     "text": [
      "Training_loss 1.38589,   Relative Error 0.43183\n",
      "Training_loss 1.37846,   Relative Error 0.43065\n",
      "Training_loss 1.37376,   Relative Error 0.42994\n"
     ]
    },
    {
     "name": "stderr",
     "output_type": "stream",
     "text": [
      "\r",
      " 26%|██▌       | 518/2000 [01:04<02:13, 11.06it/s]"
     ]
    },
    {
     "name": "stdout",
     "output_type": "stream",
     "text": [
      "Training_loss 1.36776,   Relative Error 0.42901\n",
      "Training_loss 1.36396,   Relative Error 0.42838\n",
      "Training_loss 1.35909,   Relative Error 0.42764\n"
     ]
    },
    {
     "name": "stderr",
     "output_type": "stream",
     "text": [
      "\r",
      " 26%|██▌       | 520/2000 [01:04<02:11, 11.27it/s]"
     ]
    },
    {
     "name": "stdout",
     "output_type": "stream",
     "text": [
      "Training_loss 1.35488,   Relative Error 0.42694\n",
      "Training_loss 1.35150,   Relative Error 0.42642\n"
     ]
    },
    {
     "name": "stderr",
     "output_type": "stream",
     "text": [
      " 26%|██▌       | 524/2000 [01:04<02:16, 10.79it/s]"
     ]
    },
    {
     "name": "stdout",
     "output_type": "stream",
     "text": [
      "Training_loss 1.34742,   Relative Error 0.42576\n",
      "Training_loss 1.34476,   Relative Error 0.42534\n",
      "Training_loss 1.34251,   Relative Error 0.42497\n"
     ]
    },
    {
     "name": "stderr",
     "output_type": "stream",
     "text": [
      "\r",
      " 26%|██▋       | 526/2000 [01:04<02:13, 11.06it/s]"
     ]
    },
    {
     "name": "stdout",
     "output_type": "stream",
     "text": [
      "Training_loss 1.33795,   Relative Error 0.42424\n",
      "Training_loss 1.33168,   Relative Error 0.42325\n",
      "Training_loss 1.32728,   Relative Error 0.42254\n"
     ]
    },
    {
     "name": "stderr",
     "output_type": "stream",
     "text": [
      "\r",
      " 26%|██▋       | 528/2000 [01:05<02:15, 10.87it/s]"
     ]
    },
    {
     "name": "stdout",
     "output_type": "stream",
     "text": [
      "Training_loss 1.32240,   Relative Error 0.42178\n",
      "Training_loss 1.31910,   Relative Error 0.42125\n"
     ]
    },
    {
     "name": "stderr",
     "output_type": "stream",
     "text": [
      " 27%|██▋       | 532/2000 [01:05<02:16, 10.75it/s]"
     ]
    },
    {
     "name": "stdout",
     "output_type": "stream",
     "text": [
      "Training_loss 1.31551,   Relative Error 0.42068\n",
      "Training_loss 1.30826,   Relative Error 0.41956\n",
      "Training_loss 1.30357,   Relative Error 0.41880\n"
     ]
    },
    {
     "name": "stderr",
     "output_type": "stream",
     "text": [
      "\r",
      " 27%|██▋       | 534/2000 [01:05<02:09, 11.33it/s]"
     ]
    },
    {
     "name": "stdout",
     "output_type": "stream",
     "text": [
      "Training_loss 1.29605,   Relative Error 0.41757\n",
      "Training_loss 1.28993,   Relative Error 0.41658\n",
      "Training_loss 1.28641,   Relative Error 0.41599\n"
     ]
    },
    {
     "name": "stderr",
     "output_type": "stream",
     "text": [
      " 27%|██▋       | 538/2000 [01:06<02:12, 11.00it/s]"
     ]
    },
    {
     "name": "stdout",
     "output_type": "stream",
     "text": [
      "Training_loss 1.28067,   Relative Error 0.41507\n",
      "Training_loss 1.27958,   Relative Error 0.41487\n",
      "Training_loss 1.27460,   Relative Error 0.41407\n"
     ]
    },
    {
     "name": "stderr",
     "output_type": "stream",
     "text": [
      "\r",
      " 27%|██▋       | 540/2000 [01:06<02:09, 11.31it/s]"
     ]
    },
    {
     "name": "stdout",
     "output_type": "stream",
     "text": [
      "Training_loss 1.27109,   Relative Error 0.41346\n",
      "Training_loss 1.26785,   Relative Error 0.41293\n",
      "Training_loss 1.26345,   Relative Error 0.41221\n"
     ]
    },
    {
     "name": "stderr",
     "output_type": "stream",
     "text": [
      " 27%|██▋       | 544/2000 [01:06<02:08, 11.37it/s]"
     ]
    },
    {
     "name": "stdout",
     "output_type": "stream",
     "text": [
      "Training_loss 1.26029,   Relative Error 0.41168\n",
      "Training_loss 1.25423,   Relative Error 0.41070\n",
      "Training_loss 1.25053,   Relative Error 0.41010\n"
     ]
    },
    {
     "name": "stderr",
     "output_type": "stream",
     "text": [
      "\r",
      " 27%|██▋       | 546/2000 [01:06<02:08, 11.36it/s]"
     ]
    },
    {
     "name": "stdout",
     "output_type": "stream",
     "text": [
      "Training_loss 1.24625,   Relative Error 0.40939\n",
      "Training_loss 1.24099,   Relative Error 0.40854\n",
      "Training_loss 1.23535,   Relative Error 0.40761\n"
     ]
    },
    {
     "name": "stderr",
     "output_type": "stream",
     "text": [
      " 28%|██▊       | 550/2000 [01:07<02:14, 10.74it/s]"
     ]
    },
    {
     "name": "stdout",
     "output_type": "stream",
     "text": [
      "Training_loss 1.23065,   Relative Error 0.40683\n",
      "Training_loss 1.22630,   Relative Error 0.40611\n",
      "Training_loss 1.22134,   Relative Error 0.40526\n"
     ]
    },
    {
     "name": "stderr",
     "output_type": "stream",
     "text": [
      "\r",
      " 28%|██▊       | 552/2000 [01:07<02:19, 10.40it/s]"
     ]
    },
    {
     "name": "stdout",
     "output_type": "stream",
     "text": [
      "Training_loss 1.21676,   Relative Error 0.40449\n",
      "Training_loss 1.21080,   Relative Error 0.40352\n",
      "Training_loss 1.20577,   Relative Error 0.40271\n"
     ]
    },
    {
     "name": "stderr",
     "output_type": "stream",
     "text": [
      " 28%|██▊       | 556/2000 [01:07<02:11, 10.96it/s]"
     ]
    },
    {
     "name": "stdout",
     "output_type": "stream",
     "text": [
      "Training_loss 1.20336,   Relative Error 0.40230\n",
      "Training_loss 1.20160,   Relative Error 0.40198\n",
      "Training_loss 1.19916,   Relative Error 0.40155\n"
     ]
    },
    {
     "name": "stderr",
     "output_type": "stream",
     "text": [
      "\r",
      " 28%|██▊       | 558/2000 [01:07<02:09, 11.16it/s]"
     ]
    },
    {
     "name": "stdout",
     "output_type": "stream",
     "text": [
      "Training_loss 1.19511,   Relative Error 0.40089\n",
      "Training_loss 1.18909,   Relative Error 0.39989\n",
      "Training_loss 1.18481,   Relative Error 0.39917\n"
     ]
    },
    {
     "name": "stderr",
     "output_type": "stream",
     "text": [
      " 28%|██▊       | 562/2000 [01:08<02:09, 11.14it/s]"
     ]
    },
    {
     "name": "stdout",
     "output_type": "stream",
     "text": [
      "Training_loss 1.17946,   Relative Error 0.39829\n",
      "Training_loss 1.17346,   Relative Error 0.39731\n",
      "Training_loss 1.16821,   Relative Error 0.39646\n"
     ]
    },
    {
     "name": "stderr",
     "output_type": "stream",
     "text": [
      "\r",
      " 28%|██▊       | 564/2000 [01:08<02:08, 11.19it/s]"
     ]
    },
    {
     "name": "stdout",
     "output_type": "stream",
     "text": [
      "Training_loss 1.16181,   Relative Error 0.39536\n",
      "Training_loss 1.15863,   Relative Error 0.39482\n",
      "Training_loss 1.15550,   Relative Error 0.39433\n"
     ]
    },
    {
     "name": "stderr",
     "output_type": "stream",
     "text": [
      " 28%|██▊       | 568/2000 [01:08<02:10, 10.96it/s]"
     ]
    },
    {
     "name": "stdout",
     "output_type": "stream",
     "text": [
      "Training_loss 1.15366,   Relative Error 0.39402\n",
      "Training_loss 1.14639,   Relative Error 0.39277\n",
      "Training_loss 1.14120,   Relative Error 0.39191\n"
     ]
    },
    {
     "name": "stderr",
     "output_type": "stream",
     "text": [
      "\r",
      " 28%|██▊       | 570/2000 [01:08<02:09, 11.04it/s]"
     ]
    },
    {
     "name": "stdout",
     "output_type": "stream",
     "text": [
      "Training_loss 1.13868,   Relative Error 0.39147\n",
      "Training_loss 1.13643,   Relative Error 0.39105\n",
      "Training_loss 1.13374,   Relative Error 0.39058\n"
     ]
    },
    {
     "name": "stderr",
     "output_type": "stream",
     "text": [
      " 29%|██▊       | 574/2000 [01:09<02:04, 11.42it/s]"
     ]
    },
    {
     "name": "stdout",
     "output_type": "stream",
     "text": [
      "Training_loss 1.12927,   Relative Error 0.38980\n",
      "Training_loss 1.12638,   Relative Error 0.38929\n",
      "Training_loss 1.12381,   Relative Error 0.38883\n"
     ]
    },
    {
     "name": "stderr",
     "output_type": "stream",
     "text": [
      "\r",
      " 29%|██▉       | 576/2000 [01:09<02:05, 11.32it/s]"
     ]
    },
    {
     "name": "stdout",
     "output_type": "stream",
     "text": [
      "Training_loss 1.12123,   Relative Error 0.38837\n",
      "Training_loss 1.11729,   Relative Error 0.38769\n",
      "Training_loss 1.11434,   Relative Error 0.38716\n"
     ]
    },
    {
     "name": "stderr",
     "output_type": "stream",
     "text": [
      " 29%|██▉       | 580/2000 [01:09<02:07, 11.12it/s]"
     ]
    },
    {
     "name": "stdout",
     "output_type": "stream",
     "text": [
      "Training_loss 1.11061,   Relative Error 0.38651\n",
      "Training_loss 1.10623,   Relative Error 0.38574\n",
      "Training_loss 1.10232,   Relative Error 0.38507\n"
     ]
    },
    {
     "name": "stderr",
     "output_type": "stream",
     "text": [
      "\r",
      " 29%|██▉       | 582/2000 [01:10<02:06, 11.20it/s]"
     ]
    },
    {
     "name": "stdout",
     "output_type": "stream",
     "text": [
      "Training_loss 1.09992,   Relative Error 0.38462\n",
      "Training_loss 1.09685,   Relative Error 0.38406\n",
      "Training_loss 1.09266,   Relative Error 0.38334\n"
     ]
    },
    {
     "name": "stderr",
     "output_type": "stream",
     "text": [
      " 29%|██▉       | 586/2000 [01:10<02:04, 11.35it/s]"
     ]
    },
    {
     "name": "stdout",
     "output_type": "stream",
     "text": [
      "Training_loss 1.08840,   Relative Error 0.38257\n",
      "Training_loss 1.08443,   Relative Error 0.38186\n",
      "Training_loss 1.08126,   Relative Error 0.38130\n"
     ]
    },
    {
     "name": "stderr",
     "output_type": "stream",
     "text": [
      "\r",
      " 29%|██▉       | 588/2000 [01:10<02:02, 11.50it/s]"
     ]
    },
    {
     "name": "stdout",
     "output_type": "stream",
     "text": [
      "Training_loss 1.07804,   Relative Error 0.38072\n",
      "Training_loss 1.07529,   Relative Error 0.38023\n",
      "Training_loss 1.07310,   Relative Error 0.37984\n"
     ]
    },
    {
     "name": "stderr",
     "output_type": "stream",
     "text": [
      "\r",
      " 30%|██▉       | 590/2000 [01:10<01:55, 12.19it/s]"
     ]
    },
    {
     "name": "stdout",
     "output_type": "stream",
     "text": [
      "Training_loss 1.06975,   Relative Error 0.37922\n",
      "Training_loss 1.06095,   Relative Error 0.37763\n"
     ]
    },
    {
     "name": "stderr",
     "output_type": "stream",
     "text": [
      "\r",
      " 30%|██▉       | 592/2000 [01:10<02:05, 11.23it/s]"
     ]
    },
    {
     "name": "stdout",
     "output_type": "stream",
     "text": [
      "Training_loss 1.05699,   Relative Error 0.37694\n",
      "Training_loss 1.05227,   Relative Error 0.37607\n"
     ]
    },
    {
     "name": "stderr",
     "output_type": "stream",
     "text": [
      " 30%|██▉       | 596/2000 [01:11<02:19, 10.03it/s]"
     ]
    },
    {
     "name": "stdout",
     "output_type": "stream",
     "text": [
      "Training_loss 1.04773,   Relative Error 0.37529\n",
      "Training_loss 1.04521,   Relative Error 0.37484\n",
      "Training_loss 1.03706,   Relative Error 0.37344\n"
     ]
    },
    {
     "name": "stderr",
     "output_type": "stream",
     "text": [
      "\r",
      " 30%|██▉       | 598/2000 [01:11<02:15, 10.36it/s]"
     ]
    },
    {
     "name": "stdout",
     "output_type": "stream",
     "text": [
      "Training_loss 1.03397,   Relative Error 0.37288\n",
      "Training_loss 1.02992,   Relative Error 0.37217\n",
      "Training_loss 1.02373,   Relative Error 0.37105\n"
     ]
    },
    {
     "name": "stderr",
     "output_type": "stream",
     "text": [
      " 30%|███       | 602/2000 [01:11<02:10, 10.68it/s]"
     ]
    },
    {
     "name": "stdout",
     "output_type": "stream",
     "text": [
      "Training_loss 1.01995,   Relative Error 0.37035\n",
      "Training_loss 1.01730,   Relative Error 0.36987\n",
      "Training_loss 1.01220,   Relative Error 0.36894\n"
     ]
    },
    {
     "name": "stderr",
     "output_type": "stream",
     "text": [
      "\r",
      " 30%|███       | 604/2000 [01:12<02:16, 10.22it/s]"
     ]
    },
    {
     "name": "stdout",
     "output_type": "stream",
     "text": [
      "Training_loss 1.00906,   Relative Error 0.36836\n",
      "Training_loss 1.00628,   Relative Error 0.36786\n"
     ]
    },
    {
     "name": "stderr",
     "output_type": "stream",
     "text": [
      "\r",
      " 30%|███       | 606/2000 [01:12<02:18, 10.06it/s]"
     ]
    },
    {
     "name": "stdout",
     "output_type": "stream",
     "text": [
      "Training_loss 1.00364,   Relative Error 0.36739\n",
      "Training_loss 1.00128,   Relative Error 0.36693\n"
     ]
    },
    {
     "name": "stderr",
     "output_type": "stream",
     "text": [
      " 30%|███       | 609/2000 [01:12<02:26,  9.51it/s]"
     ]
    },
    {
     "name": "stdout",
     "output_type": "stream",
     "text": [
      "Training_loss 0.99766,   Relative Error 0.36628\n",
      "Training_loss 0.99543,   Relative Error 0.36589\n",
      "Training_loss 0.99172,   Relative Error 0.36522\n"
     ]
    },
    {
     "name": "stderr",
     "output_type": "stream",
     "text": [
      " 31%|███       | 612/2000 [01:12<02:24,  9.64it/s]"
     ]
    },
    {
     "name": "stdout",
     "output_type": "stream",
     "text": [
      "Training_loss 0.99012,   Relative Error 0.36492\n",
      "Training_loss 0.98750,   Relative Error 0.36442\n",
      "Training_loss 0.98249,   Relative Error 0.36350\n"
     ]
    },
    {
     "name": "stderr",
     "output_type": "stream",
     "text": [
      " 31%|███       | 615/2000 [01:13<02:21,  9.82it/s]"
     ]
    },
    {
     "name": "stdout",
     "output_type": "stream",
     "text": [
      "Training_loss 0.98083,   Relative Error 0.36318\n",
      "Training_loss 0.97671,   Relative Error 0.36240\n",
      "Training_loss 0.97317,   Relative Error 0.36173\n"
     ]
    },
    {
     "name": "stderr",
     "output_type": "stream",
     "text": [
      "\r",
      " 31%|███       | 617/2000 [01:13<02:16, 10.12it/s]"
     ]
    },
    {
     "name": "stdout",
     "output_type": "stream",
     "text": [
      "Training_loss 0.97074,   Relative Error 0.36127\n",
      "Training_loss 0.96569,   Relative Error 0.36034\n",
      "Training_loss 0.96232,   Relative Error 0.35973\n"
     ]
    },
    {
     "name": "stderr",
     "output_type": "stream",
     "text": [
      " 31%|███       | 621/2000 [01:13<02:03, 11.15it/s]"
     ]
    },
    {
     "name": "stdout",
     "output_type": "stream",
     "text": [
      "Training_loss 0.95635,   Relative Error 0.35863\n",
      "Training_loss 0.95346,   Relative Error 0.35808\n",
      "Training_loss 0.95266,   Relative Error 0.35790\n"
     ]
    },
    {
     "name": "stderr",
     "output_type": "stream",
     "text": [
      "\r",
      " 31%|███       | 623/2000 [01:13<02:04, 11.09it/s]"
     ]
    },
    {
     "name": "stdout",
     "output_type": "stream",
     "text": [
      "Training_loss 0.95197,   Relative Error 0.35776\n",
      "Training_loss 0.94964,   Relative Error 0.35731\n",
      "Training_loss 0.94425,   Relative Error 0.35629\n"
     ]
    },
    {
     "name": "stderr",
     "output_type": "stream",
     "text": [
      " 31%|███▏      | 627/2000 [01:14<02:06, 10.82it/s]"
     ]
    },
    {
     "name": "stdout",
     "output_type": "stream",
     "text": [
      "Training_loss 0.93956,   Relative Error 0.35541\n",
      "Training_loss 0.93794,   Relative Error 0.35508\n",
      "Training_loss 0.93510,   Relative Error 0.35454\n"
     ]
    },
    {
     "name": "stderr",
     "output_type": "stream",
     "text": [
      "\r",
      " 31%|███▏      | 629/2000 [01:14<02:08, 10.63it/s]"
     ]
    },
    {
     "name": "stdout",
     "output_type": "stream",
     "text": [
      "Training_loss 0.93356,   Relative Error 0.35423\n",
      "Training_loss 0.93091,   Relative Error 0.35373\n",
      "Training_loss 0.92851,   Relative Error 0.35327\n"
     ]
    },
    {
     "name": "stderr",
     "output_type": "stream",
     "text": [
      " 32%|███▏      | 633/2000 [01:14<02:01, 11.29it/s]"
     ]
    },
    {
     "name": "stdout",
     "output_type": "stream",
     "text": [
      "Training_loss 0.92317,   Relative Error 0.35226\n",
      "Training_loss 0.92001,   Relative Error 0.35166\n",
      "Training_loss 0.91731,   Relative Error 0.35116\n"
     ]
    },
    {
     "name": "stderr",
     "output_type": "stream",
     "text": [
      "\r",
      " 32%|███▏      | 635/2000 [01:15<01:58, 11.51it/s]"
     ]
    },
    {
     "name": "stdout",
     "output_type": "stream",
     "text": [
      "Training_loss 0.91340,   Relative Error 0.35040\n",
      "Training_loss 0.91093,   Relative Error 0.34989\n",
      "Training_loss 0.90793,   Relative Error 0.34931\n"
     ]
    },
    {
     "name": "stderr",
     "output_type": "stream",
     "text": [
      " 32%|███▏      | 639/2000 [01:15<02:00, 11.26it/s]"
     ]
    },
    {
     "name": "stdout",
     "output_type": "stream",
     "text": [
      "Training_loss 0.90639,   Relative Error 0.34901\n",
      "Training_loss 0.90353,   Relative Error 0.34845\n",
      "Training_loss 0.90149,   Relative Error 0.34807\n"
     ]
    },
    {
     "name": "stderr",
     "output_type": "stream",
     "text": [
      "\r",
      " 32%|███▏      | 641/2000 [01:15<02:02, 11.10it/s]"
     ]
    },
    {
     "name": "stdout",
     "output_type": "stream",
     "text": [
      "Training_loss 0.89876,   Relative Error 0.34754\n",
      "Training_loss 0.89631,   Relative Error 0.34708\n",
      "Training_loss 0.89326,   Relative Error 0.34649\n"
     ]
    },
    {
     "name": "stderr",
     "output_type": "stream",
     "text": [
      " 32%|███▏      | 645/2000 [01:15<02:00, 11.25it/s]"
     ]
    },
    {
     "name": "stdout",
     "output_type": "stream",
     "text": [
      "Training_loss 0.89098,   Relative Error 0.34605\n",
      "Training_loss 0.88619,   Relative Error 0.34511\n",
      "Training_loss 0.88420,   Relative Error 0.34470\n"
     ]
    },
    {
     "name": "stderr",
     "output_type": "stream",
     "text": [
      "\r",
      " 32%|███▏      | 647/2000 [01:16<02:02, 11.08it/s]"
     ]
    },
    {
     "name": "stdout",
     "output_type": "stream",
     "text": [
      "Training_loss 0.87944,   Relative Error 0.34376\n",
      "Training_loss 0.87372,   Relative Error 0.34265\n",
      "Training_loss 0.87081,   Relative Error 0.34209\n"
     ]
    },
    {
     "name": "stderr",
     "output_type": "stream",
     "text": [
      "\r",
      " 32%|███▏      | 649/2000 [01:16<02:04, 10.85it/s]"
     ]
    },
    {
     "name": "stdout",
     "output_type": "stream",
     "text": [
      "Training_loss 0.86849,   Relative Error 0.34164\n",
      "Training_loss 0.86631,   Relative Error 0.34119\n"
     ]
    },
    {
     "name": "stderr",
     "output_type": "stream",
     "text": [
      " 33%|███▎      | 653/2000 [01:16<02:05, 10.75it/s]"
     ]
    },
    {
     "name": "stdout",
     "output_type": "stream",
     "text": [
      "Training_loss 0.86390,   Relative Error 0.34071\n",
      "Training_loss 0.85978,   Relative Error 0.33988\n",
      "Training_loss 0.85693,   Relative Error 0.33931\n"
     ]
    },
    {
     "name": "stderr",
     "output_type": "stream",
     "text": [
      "\r",
      " 33%|███▎      | 655/2000 [01:16<02:00, 11.14it/s]"
     ]
    },
    {
     "name": "stdout",
     "output_type": "stream",
     "text": [
      "Training_loss 0.85500,   Relative Error 0.33891\n",
      "Training_loss 0.85399,   Relative Error 0.33869\n",
      "Training_loss 0.85182,   Relative Error 0.33825\n"
     ]
    },
    {
     "name": "stderr",
     "output_type": "stream",
     "text": [
      " 33%|███▎      | 659/2000 [01:17<02:03, 10.82it/s]"
     ]
    },
    {
     "name": "stdout",
     "output_type": "stream",
     "text": [
      "Training_loss 0.84869,   Relative Error 0.33763\n",
      "Training_loss 0.84419,   Relative Error 0.33673\n",
      "Training_loss 0.84208,   Relative Error 0.33629\n"
     ]
    },
    {
     "name": "stderr",
     "output_type": "stream",
     "text": [
      "\r",
      " 33%|███▎      | 661/2000 [01:17<02:02, 10.94it/s]"
     ]
    },
    {
     "name": "stdout",
     "output_type": "stream",
     "text": [
      "Training_loss 0.84021,   Relative Error 0.33591\n",
      "Training_loss 0.83780,   Relative Error 0.33543\n",
      "Training_loss 0.83569,   Relative Error 0.33499\n"
     ]
    },
    {
     "name": "stderr",
     "output_type": "stream",
     "text": [
      " 33%|███▎      | 665/2000 [01:17<01:54, 11.70it/s]"
     ]
    },
    {
     "name": "stdout",
     "output_type": "stream",
     "text": [
      "Training_loss 0.83034,   Relative Error 0.33388\n",
      "Training_loss 0.82842,   Relative Error 0.33348\n",
      "Training_loss 0.82548,   Relative Error 0.33287\n"
     ]
    },
    {
     "name": "stderr",
     "output_type": "stream",
     "text": [
      "\r",
      " 33%|███▎      | 667/2000 [01:17<01:55, 11.55it/s]"
     ]
    },
    {
     "name": "stdout",
     "output_type": "stream",
     "text": [
      "Training_loss 0.82336,   Relative Error 0.33242\n",
      "Training_loss 0.82064,   Relative Error 0.33188\n"
     ]
    },
    {
     "name": "stderr",
     "output_type": "stream",
     "text": [
      "\r",
      " 33%|███▎      | 669/2000 [01:18<02:02, 10.85it/s]"
     ]
    },
    {
     "name": "stdout",
     "output_type": "stream",
     "text": [
      "Training_loss 0.81612,   Relative Error 0.33099\n",
      "Training_loss 0.81403,   Relative Error 0.33057\n",
      "Training_loss 0.81136,   Relative Error 0.33001\n"
     ]
    },
    {
     "name": "stderr",
     "output_type": "stream",
     "text": [
      "\r",
      " 34%|███▎      | 671/2000 [01:18<02:03, 10.75it/s]"
     ]
    },
    {
     "name": "stdout",
     "output_type": "stream",
     "text": [
      "Training_loss 0.80995,   Relative Error 0.32971\n",
      "Training_loss 0.80619,   Relative Error 0.32895\n"
     ]
    },
    {
     "name": "stderr",
     "output_type": "stream",
     "text": [
      "\r",
      " 34%|███▎      | 673/2000 [01:18<02:10, 10.20it/s]"
     ]
    },
    {
     "name": "stdout",
     "output_type": "stream",
     "text": [
      "Training_loss 0.80387,   Relative Error 0.32848\n",
      "Training_loss 0.80261,   Relative Error 0.32821\n"
     ]
    },
    {
     "name": "stderr",
     "output_type": "stream",
     "text": [
      "\r",
      " 34%|███▍      | 675/2000 [01:18<02:10, 10.13it/s]"
     ]
    },
    {
     "name": "stdout",
     "output_type": "stream",
     "text": [
      "Training_loss 0.79990,   Relative Error 0.32766\n",
      "Training_loss 0.79714,   Relative Error 0.32707\n",
      "Training_loss 0.79442,   Relative Error 0.32651"
     ]
    },
    {
     "name": "stderr",
     "output_type": "stream",
     "text": [
      " 34%|███▍      | 679/2000 [01:19<01:59, 11.09it/s]"
     ]
    },
    {
     "name": "stdout",
     "output_type": "stream",
     "text": [
      "\n",
      "Training_loss 0.79215,   Relative Error 0.32603\n",
      "Training_loss 0.78956,   Relative Error 0.32550\n"
     ]
    },
    {
     "name": "stderr",
     "output_type": "stream",
     "text": [
      "\r",
      " 34%|███▍      | 681/2000 [01:19<02:00, 10.94it/s]"
     ]
    },
    {
     "name": "stdout",
     "output_type": "stream",
     "text": [
      "Training_loss 0.78637,   Relative Error 0.32481\n",
      "Training_loss 0.78418,   Relative Error 0.32433\n",
      "Training_loss 0.78118,   Relative Error 0.32371\n"
     ]
    },
    {
     "name": "stderr",
     "output_type": "stream",
     "text": [
      " 34%|███▍      | 685/2000 [01:19<02:01, 10.85it/s]"
     ]
    },
    {
     "name": "stdout",
     "output_type": "stream",
     "text": [
      "Training_loss 0.77937,   Relative Error 0.32330\n",
      "Training_loss 0.77622,   Relative Error 0.32265\n",
      "Training_loss 0.77409,   Relative Error 0.32218\n"
     ]
    },
    {
     "name": "stderr",
     "output_type": "stream",
     "text": [
      "\r",
      " 34%|███▍      | 687/2000 [01:19<02:03, 10.67it/s]"
     ]
    },
    {
     "name": "stdout",
     "output_type": "stream",
     "text": [
      "Training_loss 0.77214,   Relative Error 0.32179\n",
      "Training_loss 0.77030,   Relative Error 0.32139\n",
      "Training_loss 0.76712,   Relative Error 0.32073\n"
     ]
    },
    {
     "name": "stderr",
     "output_type": "stream",
     "text": [
      " 35%|███▍      | 691/2000 [01:20<02:01, 10.79it/s]"
     ]
    },
    {
     "name": "stdout",
     "output_type": "stream",
     "text": [
      "Training_loss 0.76489,   Relative Error 0.32026\n",
      "Training_loss 0.76187,   Relative Error 0.31967\n",
      "Training_loss 0.75936,   Relative Error 0.31912\n"
     ]
    },
    {
     "name": "stderr",
     "output_type": "stream",
     "text": [
      "\r",
      " 35%|███▍      | 693/2000 [01:20<02:03, 10.55it/s]"
     ]
    },
    {
     "name": "stdout",
     "output_type": "stream",
     "text": [
      "Training_loss 0.75673,   Relative Error 0.31857\n",
      "Training_loss 0.75343,   Relative Error 0.31790\n",
      "Training_loss 0.75120,   Relative Error 0.31744\n"
     ]
    },
    {
     "name": "stderr",
     "output_type": "stream",
     "text": [
      " 35%|███▍      | 697/2000 [01:20<01:52, 11.59it/s]"
     ]
    },
    {
     "name": "stdout",
     "output_type": "stream",
     "text": [
      "Training_loss 0.74986,   Relative Error 0.31714\n",
      "Training_loss 0.74882,   Relative Error 0.31690\n",
      "Training_loss 0.74704,   Relative Error 0.31651\n"
     ]
    },
    {
     "name": "stderr",
     "output_type": "stream",
     "text": [
      "\r",
      " 35%|███▍      | 699/2000 [01:20<01:54, 11.32it/s]"
     ]
    },
    {
     "name": "stdout",
     "output_type": "stream",
     "text": [
      "Training_loss 0.74524,   Relative Error 0.31613\n",
      "Training_loss 0.74361,   Relative Error 0.31579\n",
      "Training_loss 0.74181,   Relative Error 0.31540\n"
     ]
    },
    {
     "name": "stderr",
     "output_type": "stream",
     "text": [
      " 35%|███▌      | 703/2000 [01:21<01:58, 10.92it/s]"
     ]
    },
    {
     "name": "stdout",
     "output_type": "stream",
     "text": [
      "Training_loss 0.73957,   Relative Error 0.31493\n",
      "Training_loss 0.73821,   Relative Error 0.31464\n",
      "Training_loss 0.73440,   Relative Error 0.31381\n"
     ]
    },
    {
     "name": "stderr",
     "output_type": "stream",
     "text": [
      "\r",
      " 35%|███▌      | 705/2000 [01:21<01:59, 10.84it/s]"
     ]
    },
    {
     "name": "stdout",
     "output_type": "stream",
     "text": [
      "Training_loss 0.73366,   Relative Error 0.31365\n",
      "Training_loss 0.73154,   Relative Error 0.31317\n",
      "Training_loss 0.72730,   Relative Error 0.31224\n"
     ]
    },
    {
     "name": "stderr",
     "output_type": "stream",
     "text": [
      " 35%|███▌      | 709/2000 [01:21<01:57, 11.01it/s]"
     ]
    },
    {
     "name": "stdout",
     "output_type": "stream",
     "text": [
      "Training_loss 0.72454,   Relative Error 0.31162\n",
      "Training_loss 0.72214,   Relative Error 0.31110\n",
      "Training_loss 0.71885,   Relative Error 0.31036\n"
     ]
    },
    {
     "name": "stderr",
     "output_type": "stream",
     "text": [
      "\r",
      " 36%|███▌      | 711/2000 [01:21<01:53, 11.34it/s]"
     ]
    },
    {
     "name": "stdout",
     "output_type": "stream",
     "text": [
      "Training_loss 0.71715,   Relative Error 0.31000\n",
      "Training_loss 0.71526,   Relative Error 0.30958\n",
      "Training_loss 0.71222,   Relative Error 0.30893\n"
     ]
    },
    {
     "name": "stderr",
     "output_type": "stream",
     "text": [
      " 36%|███▌      | 715/2000 [01:22<01:50, 11.59it/s]"
     ]
    },
    {
     "name": "stdout",
     "output_type": "stream",
     "text": [
      "Training_loss 0.71048,   Relative Error 0.30852\n",
      "Training_loss 0.70911,   Relative Error 0.30819\n",
      "Training_loss 0.70583,   Relative Error 0.30748\n"
     ]
    },
    {
     "name": "stderr",
     "output_type": "stream",
     "text": [
      "\r",
      " 36%|███▌      | 717/2000 [01:22<01:56, 11.00it/s]"
     ]
    },
    {
     "name": "stdout",
     "output_type": "stream",
     "text": [
      "Training_loss 0.70471,   Relative Error 0.30721\n",
      "Training_loss 0.70288,   Relative Error 0.30681\n",
      "Training_loss 0.69987,   Relative Error 0.30617\n"
     ]
    },
    {
     "name": "stderr",
     "output_type": "stream",
     "text": [
      " 36%|███▌      | 721/2000 [01:22<01:53, 11.25it/s]"
     ]
    },
    {
     "name": "stdout",
     "output_type": "stream",
     "text": [
      "Training_loss 0.69590,   Relative Error 0.30530\n",
      "Training_loss 0.69397,   Relative Error 0.30486\n",
      "Training_loss 0.69058,   Relative Error 0.30412\n"
     ]
    },
    {
     "name": "stderr",
     "output_type": "stream",
     "text": [
      "\r",
      " 36%|███▌      | 723/2000 [01:23<01:54, 11.11it/s]"
     ]
    },
    {
     "name": "stdout",
     "output_type": "stream",
     "text": [
      "Training_loss 0.68704,   Relative Error 0.30335\n",
      "Training_loss 0.68622,   Relative Error 0.30314\n",
      "Training_loss 0.68447,   Relative Error 0.30275\n"
     ]
    },
    {
     "name": "stderr",
     "output_type": "stream",
     "text": [
      " 36%|███▋      | 727/2000 [01:23<01:45, 12.05it/s]"
     ]
    },
    {
     "name": "stdout",
     "output_type": "stream",
     "text": [
      "Training_loss 0.68158,   Relative Error 0.30210\n",
      "Training_loss 0.67935,   Relative Error 0.30161\n",
      "Training_loss 0.67717,   Relative Error 0.30112\n"
     ]
    },
    {
     "name": "stderr",
     "output_type": "stream",
     "text": [
      "\r",
      " 36%|███▋      | 729/2000 [01:23<01:52, 11.30it/s]"
     ]
    },
    {
     "name": "stdout",
     "output_type": "stream",
     "text": [
      "Training_loss 0.67527,   Relative Error 0.30068\n",
      "Training_loss 0.67319,   Relative Error 0.30020\n",
      "Training_loss 0.66973,   Relative Error 0.29944\n"
     ]
    },
    {
     "name": "stderr",
     "output_type": "stream",
     "text": [
      " 37%|███▋      | 733/2000 [01:23<01:54, 11.08it/s]"
     ]
    },
    {
     "name": "stdout",
     "output_type": "stream",
     "text": [
      "Training_loss 0.66820,   Relative Error 0.29910\n",
      "Training_loss 0.66570,   Relative Error 0.29854\n",
      "Training_loss 0.66462,   Relative Error 0.29830\n"
     ]
    },
    {
     "name": "stderr",
     "output_type": "stream",
     "text": [
      "\r",
      " 37%|███▋      | 735/2000 [01:24<01:51, 11.31it/s]"
     ]
    },
    {
     "name": "stdout",
     "output_type": "stream",
     "text": [
      "Training_loss 0.66163,   Relative Error 0.29762\n",
      "Training_loss 0.66101,   Relative Error 0.29745\n",
      "Training_loss 0.65928,   Relative Error 0.29706\n"
     ]
    },
    {
     "name": "stderr",
     "output_type": "stream",
     "text": [
      "\r",
      " 37%|███▋      | 737/2000 [01:24<01:46, 11.83it/s]"
     ]
    },
    {
     "name": "stdout",
     "output_type": "stream",
     "text": [
      "Training_loss 0.65676,   Relative Error 0.29650\n",
      "Training_loss 0.65615,   Relative Error 0.29635\n"
     ]
    },
    {
     "name": "stderr",
     "output_type": "stream",
     "text": [
      " 37%|███▋      | 741/2000 [01:24<01:51, 11.30it/s]"
     ]
    },
    {
     "name": "stdout",
     "output_type": "stream",
     "text": [
      "Training_loss 0.65390,   Relative Error 0.29584\n",
      "Training_loss 0.65203,   Relative Error 0.29541\n",
      "Training_loss 0.65113,   Relative Error 0.29520\n"
     ]
    },
    {
     "name": "stderr",
     "output_type": "stream",
     "text": [
      "\r",
      " 37%|███▋      | 743/2000 [01:24<01:48, 11.57it/s]"
     ]
    },
    {
     "name": "stdout",
     "output_type": "stream",
     "text": [
      "Training_loss 0.64872,   Relative Error 0.29464\n",
      "Training_loss 0.64781,   Relative Error 0.29444\n",
      "Training_loss 0.64667,   Relative Error 0.29417\n"
     ]
    },
    {
     "name": "stderr",
     "output_type": "stream",
     "text": [
      "\r",
      " 37%|███▋      | 745/2000 [01:24<01:44, 11.98it/s]"
     ]
    },
    {
     "name": "stdout",
     "output_type": "stream",
     "text": [
      "Training_loss 0.64425,   Relative Error 0.29362\n",
      "Training_loss 0.64247,   Relative Error 0.29322\n",
      "Training_loss 0.63920,   Relative Error 0.29247\n"
     ]
    },
    {
     "name": "stderr",
     "output_type": "stream",
     "text": [
      " 37%|███▋      | 749/2000 [01:25<01:45, 11.87it/s]"
     ]
    },
    {
     "name": "stdout",
     "output_type": "stream",
     "text": [
      "Training_loss 0.63640,   Relative Error 0.29181\n",
      "Training_loss 0.63430,   Relative Error 0.29131\n"
     ]
    },
    {
     "name": "stderr",
     "output_type": "stream",
     "text": [
      "\r",
      " 38%|███▊      | 751/2000 [01:25<01:40, 12.43it/s]"
     ]
    },
    {
     "name": "stdout",
     "output_type": "stream",
     "text": [
      "Training_loss 0.63170,   Relative Error 0.29068\n",
      "Training_loss 0.62877,   Relative Error 0.28998\n",
      "Training_loss 0.62662,   Relative Error 0.28948\n"
     ]
    },
    {
     "name": "stderr",
     "output_type": "stream",
     "text": [
      " 38%|███▊      | 755/2000 [01:25<01:46, 11.71it/s]"
     ]
    },
    {
     "name": "stdout",
     "output_type": "stream",
     "text": [
      "Training_loss 0.62558,   Relative Error 0.28922\n",
      "Training_loss 0.62304,   Relative Error 0.28862\n",
      "Training_loss 0.62128,   Relative Error 0.28819\n"
     ]
    },
    {
     "name": "stderr",
     "output_type": "stream",
     "text": [
      "\r",
      " 38%|███▊      | 757/2000 [01:25<01:53, 10.99it/s]"
     ]
    },
    {
     "name": "stdout",
     "output_type": "stream",
     "text": [
      "Training_loss 0.61769,   Relative Error 0.28738\n",
      "Training_loss 0.61455,   Relative Error 0.28669\n",
      "Training_loss 0.61285,   Relative Error 0.28631\n"
     ]
    },
    {
     "name": "stderr",
     "output_type": "stream",
     "text": [
      " 38%|███▊      | 761/2000 [01:26<01:57, 10.59it/s]"
     ]
    },
    {
     "name": "stdout",
     "output_type": "stream",
     "text": [
      "Training_loss 0.61110,   Relative Error 0.28589\n",
      "Training_loss 0.60960,   Relative Error 0.28554\n",
      "Training_loss 0.60846,   Relative Error 0.28526\n"
     ]
    },
    {
     "name": "stderr",
     "output_type": "stream",
     "text": [
      "\r",
      " 38%|███▊      | 763/2000 [01:26<01:57, 10.52it/s]"
     ]
    },
    {
     "name": "stdout",
     "output_type": "stream",
     "text": [
      "Training_loss 0.60408,   Relative Error 0.28426\n",
      "Training_loss 0.60095,   Relative Error 0.28353\n",
      "Training_loss 0.59946,   Relative Error 0.28317\n"
     ]
    },
    {
     "name": "stderr",
     "output_type": "stream",
     "text": [
      " 38%|███▊      | 767/2000 [01:26<01:51, 11.06it/s]"
     ]
    },
    {
     "name": "stdout",
     "output_type": "stream",
     "text": [
      "Training_loss 0.59738,   Relative Error 0.28268\n",
      "Training_loss 0.59485,   Relative Error 0.28208\n",
      "Training_loss 0.59254,   Relative Error 0.28152\n"
     ]
    },
    {
     "name": "stderr",
     "output_type": "stream",
     "text": [
      "\r",
      " 38%|███▊      | 769/2000 [01:27<01:49, 11.28it/s]"
     ]
    },
    {
     "name": "stdout",
     "output_type": "stream",
     "text": [
      "Training_loss 0.59016,   Relative Error 0.28093\n",
      "Training_loss 0.58808,   Relative Error 0.28044\n",
      "Training_loss 0.58649,   Relative Error 0.28006\n"
     ]
    },
    {
     "name": "stderr",
     "output_type": "stream",
     "text": [
      " 39%|███▊      | 773/2000 [01:27<01:45, 11.68it/s]"
     ]
    },
    {
     "name": "stdout",
     "output_type": "stream",
     "text": [
      "Training_loss 0.58513,   Relative Error 0.27975\n",
      "Training_loss 0.58396,   Relative Error 0.27946\n",
      "Training_loss 0.58234,   Relative Error 0.27908\n"
     ]
    },
    {
     "name": "stderr",
     "output_type": "stream",
     "text": [
      "\r",
      " 39%|███▉      | 775/2000 [01:27<01:48, 11.29it/s]"
     ]
    },
    {
     "name": "stdout",
     "output_type": "stream",
     "text": [
      "Training_loss 0.58114,   Relative Error 0.27879\n",
      "Training_loss 0.57946,   Relative Error 0.27839\n",
      "Training_loss 0.57759,   Relative Error 0.27793\n"
     ]
    },
    {
     "name": "stderr",
     "output_type": "stream",
     "text": [
      "\r",
      " 39%|███▉      | 777/2000 [01:27<01:54, 10.68it/s]"
     ]
    },
    {
     "name": "stdout",
     "output_type": "stream",
     "text": [
      "Training_loss 0.57695,   Relative Error 0.27776\n",
      "Training_loss 0.57454,   Relative Error 0.27716\n"
     ]
    },
    {
     "name": "stderr",
     "output_type": "stream",
     "text": [
      "\r",
      " 39%|███▉      | 779/2000 [01:28<01:59, 10.19it/s]"
     ]
    },
    {
     "name": "stdout",
     "output_type": "stream",
     "text": [
      "Training_loss 0.57279,   Relative Error 0.27672\n",
      "Training_loss 0.57018,   Relative Error 0.27607\n"
     ]
    },
    {
     "name": "stderr",
     "output_type": "stream",
     "text": [
      " 39%|███▉      | 782/2000 [01:28<02:09,  9.44it/s]"
     ]
    },
    {
     "name": "stdout",
     "output_type": "stream",
     "text": [
      "Training_loss 0.56939,   Relative Error 0.27588\n",
      "Training_loss 0.56627,   Relative Error 0.27513\n"
     ]
    },
    {
     "name": "stderr",
     "output_type": "stream",
     "text": [
      " 39%|███▉      | 784/2000 [01:28<02:15,  8.97it/s]"
     ]
    },
    {
     "name": "stdout",
     "output_type": "stream",
     "text": [
      "Training_loss 0.56573,   Relative Error 0.27498\n",
      "Training_loss 0.56224,   Relative Error 0.27414\n"
     ]
    },
    {
     "name": "stderr",
     "output_type": "stream",
     "text": [
      " 39%|███▉      | 787/2000 [01:28<02:13,  9.08it/s]"
     ]
    },
    {
     "name": "stdout",
     "output_type": "stream",
     "text": [
      "Training_loss 0.55951,   Relative Error 0.27348\n",
      "Training_loss 0.55756,   Relative Error 0.27298\n",
      "Training_loss 0.55629,   Relative Error 0.27266\n"
     ]
    },
    {
     "name": "stderr",
     "output_type": "stream",
     "text": [
      " 40%|███▉      | 790/2000 [01:29<02:07,  9.51it/s]"
     ]
    },
    {
     "name": "stdout",
     "output_type": "stream",
     "text": [
      "Training_loss 0.55387,   Relative Error 0.27209\n",
      "Training_loss 0.55352,   Relative Error 0.27198\n",
      "Training_loss 0.55234,   Relative Error 0.27170\n"
     ]
    },
    {
     "name": "stderr",
     "output_type": "stream",
     "text": [
      " 40%|███▉      | 793/2000 [01:29<02:01,  9.97it/s]"
     ]
    },
    {
     "name": "stdout",
     "output_type": "stream",
     "text": [
      "Training_loss 0.54989,   Relative Error 0.27107\n",
      "Training_loss 0.54841,   Relative Error 0.27072\n",
      "Training_loss 0.54647,   Relative Error 0.27023\n"
     ]
    },
    {
     "name": "stderr",
     "output_type": "stream",
     "text": [
      "\r",
      " 40%|███▉      | 795/2000 [01:29<02:00, 10.02it/s]"
     ]
    },
    {
     "name": "stdout",
     "output_type": "stream",
     "text": [
      "Training_loss 0.54485,   Relative Error 0.26983\n",
      "Training_loss 0.54386,   Relative Error 0.26958\n",
      "Training_loss 0.54271,   Relative Error 0.26928\n"
     ]
    },
    {
     "name": "stderr",
     "output_type": "stream",
     "text": [
      " 40%|███▉      | 799/2000 [01:30<01:52, 10.63it/s]"
     ]
    },
    {
     "name": "stdout",
     "output_type": "stream",
     "text": [
      "Training_loss 0.54079,   Relative Error 0.26882\n",
      "Training_loss 0.54005,   Relative Error 0.26862\n",
      "Training_loss 0.53938,   Relative Error 0.26844\n"
     ]
    },
    {
     "name": "stderr",
     "output_type": "stream",
     "text": [
      "\r",
      " 40%|████      | 801/2000 [01:30<01:51, 10.71it/s]"
     ]
    },
    {
     "name": "stdout",
     "output_type": "stream",
     "text": [
      "Training_loss 0.53615,   Relative Error 0.26765\n",
      "Training_loss 0.53413,   Relative Error 0.26714\n",
      "Training_loss 0.53281,   Relative Error 0.26679\n"
     ]
    },
    {
     "name": "stderr",
     "output_type": "stream",
     "text": [
      " 40%|████      | 805/2000 [01:30<01:49, 10.95it/s]"
     ]
    },
    {
     "name": "stdout",
     "output_type": "stream",
     "text": [
      "Training_loss 0.53097,   Relative Error 0.26632\n",
      "Training_loss 0.52853,   Relative Error 0.26570\n",
      "Training_loss 0.52735,   Relative Error 0.26539\n"
     ]
    },
    {
     "name": "stderr",
     "output_type": "stream",
     "text": [
      "\r",
      " 40%|████      | 807/2000 [01:30<01:45, 11.31it/s]"
     ]
    },
    {
     "name": "stdout",
     "output_type": "stream",
     "text": [
      "Training_loss 0.52597,   Relative Error 0.26505\n",
      "Training_loss 0.52452,   Relative Error 0.26467\n",
      "Training_loss 0.52190,   Relative Error 0.26400\n"
     ]
    },
    {
     "name": "stderr",
     "output_type": "stream",
     "text": [
      " 41%|████      | 811/2000 [01:31<01:49, 10.90it/s]"
     ]
    },
    {
     "name": "stdout",
     "output_type": "stream",
     "text": [
      "Training_loss 0.51816,   Relative Error 0.26307\n",
      "Training_loss 0.51686,   Relative Error 0.26274\n",
      "Training_loss 0.51493,   Relative Error 0.26223\n"
     ]
    },
    {
     "name": "stderr",
     "output_type": "stream",
     "text": [
      "\r",
      " 41%|████      | 813/2000 [01:31<01:53, 10.42it/s]"
     ]
    },
    {
     "name": "stdout",
     "output_type": "stream",
     "text": [
      "Training_loss 0.51296,   Relative Error 0.26173\n",
      "Training_loss 0.51170,   Relative Error 0.26140\n",
      "Training_loss 0.50922,   Relative Error 0.26079\n"
     ]
    },
    {
     "name": "stderr",
     "output_type": "stream",
     "text": [
      " 41%|████      | 817/2000 [01:31<01:48, 10.89it/s]"
     ]
    },
    {
     "name": "stdout",
     "output_type": "stream",
     "text": [
      "Training_loss 0.50717,   Relative Error 0.26025\n",
      "Training_loss 0.50557,   Relative Error 0.25984\n",
      "Training_loss 0.50302,   Relative Error 0.25916\n"
     ]
    },
    {
     "name": "stderr",
     "output_type": "stream",
     "text": [
      "\r",
      " 41%|████      | 819/2000 [01:31<01:46, 11.11it/s]"
     ]
    },
    {
     "name": "stdout",
     "output_type": "stream",
     "text": [
      "Training_loss 0.50154,   Relative Error 0.25876\n",
      "Training_loss 0.49960,   Relative Error 0.25826\n",
      "Training_loss 0.49924,   Relative Error 0.25815\n"
     ]
    },
    {
     "name": "stderr",
     "output_type": "stream",
     "text": [
      " 41%|████      | 823/2000 [01:32<01:42, 11.50it/s]"
     ]
    },
    {
     "name": "stdout",
     "output_type": "stream",
     "text": [
      "Training_loss 0.49605,   Relative Error 0.25731\n",
      "Training_loss 0.49505,   Relative Error 0.25705\n",
      "Training_loss 0.49147,   Relative Error 0.25613\n"
     ]
    },
    {
     "name": "stderr",
     "output_type": "stream",
     "text": [
      "\r",
      " 41%|████▏     | 825/2000 [01:32<01:40, 11.67it/s]"
     ]
    },
    {
     "name": "stdout",
     "output_type": "stream",
     "text": [
      "Training_loss 0.49040,   Relative Error 0.25586\n",
      "Training_loss 0.48849,   Relative Error 0.25535\n",
      "Training_loss 0.48738,   Relative Error 0.25504\n"
     ]
    },
    {
     "name": "stderr",
     "output_type": "stream",
     "text": [
      " 41%|████▏     | 829/2000 [01:32<01:41, 11.49it/s]"
     ]
    },
    {
     "name": "stdout",
     "output_type": "stream",
     "text": [
      "Training_loss 0.48579,   Relative Error 0.25461\n",
      "Training_loss 0.48407,   Relative Error 0.25416\n",
      "Training_loss 0.48211,   Relative Error 0.25365\n"
     ]
    },
    {
     "name": "stderr",
     "output_type": "stream",
     "text": [
      "\r",
      " 42%|████▏     | 831/2000 [01:32<01:43, 11.28it/s]"
     ]
    },
    {
     "name": "stdout",
     "output_type": "stream",
     "text": [
      "Training_loss 0.48102,   Relative Error 0.25337\n",
      "Training_loss 0.47859,   Relative Error 0.25272\n",
      "Training_loss 0.47711,   Relative Error 0.25232\n"
     ]
    },
    {
     "name": "stderr",
     "output_type": "stream",
     "text": [
      " 42%|████▏     | 835/2000 [01:33<01:41, 11.49it/s]"
     ]
    },
    {
     "name": "stdout",
     "output_type": "stream",
     "text": [
      "Training_loss 0.47427,   Relative Error 0.25157\n",
      "Training_loss 0.47289,   Relative Error 0.25119\n",
      "Training_loss 0.47208,   Relative Error 0.25097\n"
     ]
    },
    {
     "name": "stderr",
     "output_type": "stream",
     "text": [
      "\r",
      " 42%|████▏     | 837/2000 [01:33<01:40, 11.61it/s]"
     ]
    },
    {
     "name": "stdout",
     "output_type": "stream",
     "text": [
      "Training_loss 0.47110,   Relative Error 0.25069\n",
      "Training_loss 0.46754,   Relative Error 0.24976\n",
      "Training_loss 0.46642,   Relative Error 0.24946\n"
     ]
    },
    {
     "name": "stderr",
     "output_type": "stream",
     "text": [
      " 42%|████▏     | 841/2000 [01:33<01:44, 11.10it/s]"
     ]
    },
    {
     "name": "stdout",
     "output_type": "stream",
     "text": [
      "Training_loss 0.46529,   Relative Error 0.24916\n",
      "Training_loss 0.46422,   Relative Error 0.24887\n",
      "Training_loss 0.46174,   Relative Error 0.24822\n"
     ]
    },
    {
     "name": "stderr",
     "output_type": "stream",
     "text": [
      "\r",
      " 42%|████▏     | 843/2000 [01:34<01:40, 11.48it/s]"
     ]
    },
    {
     "name": "stdout",
     "output_type": "stream",
     "text": [
      "Training_loss 0.46095,   Relative Error 0.24800\n",
      "Training_loss 0.45846,   Relative Error 0.24733\n",
      "Training_loss 0.45723,   Relative Error 0.24698\n"
     ]
    },
    {
     "name": "stderr",
     "output_type": "stream",
     "text": [
      " 42%|████▏     | 847/2000 [01:34<01:40, 11.42it/s]"
     ]
    },
    {
     "name": "stdout",
     "output_type": "stream",
     "text": [
      "Training_loss 0.45598,   Relative Error 0.24662\n",
      "Training_loss 0.45387,   Relative Error 0.24606\n",
      "Training_loss 0.45223,   Relative Error 0.24562\n"
     ]
    },
    {
     "name": "stderr",
     "output_type": "stream",
     "text": [
      "\r",
      " 42%|████▏     | 849/2000 [01:34<01:41, 11.31it/s]"
     ]
    },
    {
     "name": "stdout",
     "output_type": "stream",
     "text": [
      "Training_loss 0.45115,   Relative Error 0.24533\n",
      "Training_loss 0.44973,   Relative Error 0.24495\n",
      "Training_loss 0.44821,   Relative Error 0.24455\n"
     ]
    },
    {
     "name": "stderr",
     "output_type": "stream",
     "text": [
      " 43%|████▎     | 853/2000 [01:34<01:33, 12.21it/s]"
     ]
    },
    {
     "name": "stdout",
     "output_type": "stream",
     "text": [
      "Training_loss 0.44703,   Relative Error 0.24422\n",
      "Training_loss 0.44560,   Relative Error 0.24380\n",
      "Training_loss 0.44275,   Relative Error 0.24301\n"
     ]
    },
    {
     "name": "stderr",
     "output_type": "stream",
     "text": [
      "\r",
      " 43%|████▎     | 855/2000 [01:35<01:34, 12.17it/s]"
     ]
    },
    {
     "name": "stdout",
     "output_type": "stream",
     "text": [
      "Training_loss 0.44137,   Relative Error 0.24263\n",
      "Training_loss 0.44090,   Relative Error 0.24250\n",
      "Training_loss 0.43868,   Relative Error 0.24187\n"
     ]
    },
    {
     "name": "stderr",
     "output_type": "stream",
     "text": [
      " 43%|████▎     | 859/2000 [01:35<01:30, 12.56it/s]"
     ]
    },
    {
     "name": "stdout",
     "output_type": "stream",
     "text": [
      "Training_loss 0.43748,   Relative Error 0.24154\n",
      "Training_loss 0.43611,   Relative Error 0.24116\n",
      "Training_loss 0.43550,   Relative Error 0.24098\n"
     ]
    },
    {
     "name": "stderr",
     "output_type": "stream",
     "text": [
      "\r",
      " 43%|████▎     | 861/2000 [01:35<01:36, 11.85it/s]"
     ]
    },
    {
     "name": "stdout",
     "output_type": "stream",
     "text": [
      "Training_loss 0.43302,   Relative Error 0.24029\n",
      "Training_loss 0.43213,   Relative Error 0.24003\n",
      "Training_loss 0.43076,   Relative Error 0.23964\n"
     ]
    },
    {
     "name": "stderr",
     "output_type": "stream",
     "text": [
      " 43%|████▎     | 865/2000 [01:35<01:39, 11.38it/s]"
     ]
    },
    {
     "name": "stdout",
     "output_type": "stream",
     "text": [
      "Training_loss 0.42985,   Relative Error 0.23938\n",
      "Training_loss 0.42922,   Relative Error 0.23918\n",
      "Training_loss 0.42747,   Relative Error 0.23869\n"
     ]
    },
    {
     "name": "stderr",
     "output_type": "stream",
     "text": [
      "\r",
      " 43%|████▎     | 867/2000 [01:36<01:39, 11.36it/s]"
     ]
    },
    {
     "name": "stdout",
     "output_type": "stream",
     "text": [
      "Training_loss 0.42681,   Relative Error 0.23851\n",
      "Training_loss 0.42543,   Relative Error 0.23811\n",
      "Training_loss 0.42307,   Relative Error 0.23744\n"
     ]
    },
    {
     "name": "stderr",
     "output_type": "stream",
     "text": [
      "\r",
      " 43%|████▎     | 869/2000 [01:36<01:39, 11.35it/s]"
     ]
    },
    {
     "name": "stdout",
     "output_type": "stream",
     "text": [
      "Training_loss 0.42184,   Relative Error 0.23709\n",
      "Training_loss 0.42119,   Relative Error 0.23689\n"
     ]
    },
    {
     "name": "stderr",
     "output_type": "stream",
     "text": [
      " 44%|████▎     | 873/2000 [01:36<01:44, 10.76it/s]"
     ]
    },
    {
     "name": "stdout",
     "output_type": "stream",
     "text": [
      "Training_loss 0.42003,   Relative Error 0.23658\n",
      "Training_loss 0.41859,   Relative Error 0.23616\n",
      "Training_loss 0.41719,   Relative Error 0.23578\n"
     ]
    },
    {
     "name": "stderr",
     "output_type": "stream",
     "text": [
      "\r",
      " 44%|████▍     | 875/2000 [01:36<01:41, 11.04it/s]"
     ]
    },
    {
     "name": "stdout",
     "output_type": "stream",
     "text": [
      "Training_loss 0.41558,   Relative Error 0.23532\n",
      "Training_loss 0.41450,   Relative Error 0.23501\n",
      "Training_loss 0.41310,   Relative Error 0.23462\n"
     ]
    },
    {
     "name": "stderr",
     "output_type": "stream",
     "text": [
      " 44%|████▍     | 879/2000 [01:37<01:35, 11.74it/s]"
     ]
    },
    {
     "name": "stdout",
     "output_type": "stream",
     "text": [
      "Training_loss 0.41095,   Relative Error 0.23400\n",
      "Training_loss 0.41000,   Relative Error 0.23372\n",
      "Training_loss 0.40925,   Relative Error 0.23351\n"
     ]
    },
    {
     "name": "stderr",
     "output_type": "stream",
     "text": [
      "\r",
      " 44%|████▍     | 881/2000 [01:37<01:36, 11.54it/s]"
     ]
    },
    {
     "name": "stdout",
     "output_type": "stream",
     "text": [
      "Training_loss 0.40887,   Relative Error 0.23339\n",
      "Training_loss 0.40760,   Relative Error 0.23303\n",
      "Training_loss 0.40619,   Relative Error 0.23263\n"
     ]
    },
    {
     "name": "stderr",
     "output_type": "stream",
     "text": [
      " 44%|████▍     | 885/2000 [01:37<01:34, 11.79it/s]"
     ]
    },
    {
     "name": "stdout",
     "output_type": "stream",
     "text": [
      "Training_loss 0.40464,   Relative Error 0.23217\n",
      "Training_loss 0.40365,   Relative Error 0.23188\n",
      "Training_loss 0.40235,   Relative Error 0.23152\n"
     ]
    },
    {
     "name": "stderr",
     "output_type": "stream",
     "text": [
      "\r",
      " 44%|████▍     | 887/2000 [01:37<01:35, 11.60it/s]"
     ]
    },
    {
     "name": "stdout",
     "output_type": "stream",
     "text": [
      "Training_loss 0.39975,   Relative Error 0.23078\n",
      "Training_loss 0.39827,   Relative Error 0.23037\n",
      "Training_loss 0.39605,   Relative Error 0.22971\n"
     ]
    },
    {
     "name": "stderr",
     "output_type": "stream",
     "text": [
      " 45%|████▍     | 891/2000 [01:38<01:31, 12.06it/s]"
     ]
    },
    {
     "name": "stdout",
     "output_type": "stream",
     "text": [
      "Training_loss 0.39510,   Relative Error 0.22942\n",
      "Training_loss 0.39406,   Relative Error 0.22911\n",
      "Training_loss 0.39275,   Relative Error 0.22872\n"
     ]
    },
    {
     "name": "stderr",
     "output_type": "stream",
     "text": [
      "\r",
      " 45%|████▍     | 893/2000 [01:38<01:34, 11.69it/s]"
     ]
    },
    {
     "name": "stdout",
     "output_type": "stream",
     "text": [
      "Training_loss 0.39206,   Relative Error 0.22851\n",
      "Training_loss 0.39086,   Relative Error 0.22813\n",
      "Training_loss 0.38918,   Relative Error 0.22764\n"
     ]
    },
    {
     "name": "stderr",
     "output_type": "stream",
     "text": [
      " 45%|████▍     | 897/2000 [01:38<01:32, 11.93it/s]"
     ]
    },
    {
     "name": "stdout",
     "output_type": "stream",
     "text": [
      "Training_loss 0.38812,   Relative Error 0.22732\n",
      "Training_loss 0.38733,   Relative Error 0.22708\n",
      "Training_loss 0.38597,   Relative Error 0.22668\n"
     ]
    },
    {
     "name": "stderr",
     "output_type": "stream",
     "text": [
      "\r",
      " 45%|████▍     | 899/2000 [01:38<01:33, 11.81it/s]"
     ]
    },
    {
     "name": "stdout",
     "output_type": "stream",
     "text": [
      "Training_loss 0.38427,   Relative Error 0.22618\n",
      "Training_loss 0.38225,   Relative Error 0.22558\n",
      "Training_loss 0.38110,   Relative Error 0.22525\n"
     ]
    },
    {
     "name": "stderr",
     "output_type": "stream",
     "text": [
      " 45%|████▌     | 903/2000 [01:39<01:33, 11.77it/s]"
     ]
    },
    {
     "name": "stdout",
     "output_type": "stream",
     "text": [
      "Training_loss 0.38013,   Relative Error 0.22494\n",
      "Training_loss 0.37896,   Relative Error 0.22458\n",
      "Training_loss 0.37768,   Relative Error 0.22419\n"
     ]
    },
    {
     "name": "stderr",
     "output_type": "stream",
     "text": [
      "\r",
      " 45%|████▌     | 905/2000 [01:39<01:30, 12.04it/s]"
     ]
    },
    {
     "name": "stdout",
     "output_type": "stream",
     "text": [
      "Training_loss 0.37631,   Relative Error 0.22377\n",
      "Training_loss 0.37476,   Relative Error 0.22330\n",
      "Training_loss 0.37323,   Relative Error 0.22287\n"
     ]
    },
    {
     "name": "stderr",
     "output_type": "stream",
     "text": [
      " 45%|████▌     | 909/2000 [01:39<01:26, 12.67it/s]"
     ]
    },
    {
     "name": "stdout",
     "output_type": "stream",
     "text": [
      "Training_loss 0.37234,   Relative Error 0.22261\n",
      "Training_loss 0.37182,   Relative Error 0.22245\n",
      "Training_loss 0.36947,   Relative Error 0.22176\n"
     ]
    },
    {
     "name": "stderr",
     "output_type": "stream",
     "text": [
      "\r",
      " 46%|████▌     | 911/2000 [01:39<01:27, 12.44it/s]"
     ]
    },
    {
     "name": "stdout",
     "output_type": "stream",
     "text": [
      "Training_loss 0.36860,   Relative Error 0.22150\n",
      "Training_loss 0.36795,   Relative Error 0.22131\n",
      "Training_loss 0.36693,   Relative Error 0.22099\n"
     ]
    },
    {
     "name": "stderr",
     "output_type": "stream",
     "text": [
      "\r",
      " 46%|████▌     | 913/2000 [01:40<01:29, 12.10it/s]"
     ]
    },
    {
     "name": "stdout",
     "output_type": "stream",
     "text": [
      "Training_loss 0.36595,   Relative Error 0.22070\n",
      "Training_loss 0.36529,   Relative Error 0.22049\n"
     ]
    },
    {
     "name": "stderr",
     "output_type": "stream",
     "text": [
      " 46%|████▌     | 917/2000 [01:40<01:30, 12.02it/s]"
     ]
    },
    {
     "name": "stdout",
     "output_type": "stream",
     "text": [
      "Training_loss 0.36436,   Relative Error 0.22019\n",
      "Training_loss 0.36347,   Relative Error 0.21994\n",
      "Training_loss 0.36164,   Relative Error 0.21938\n"
     ]
    },
    {
     "name": "stderr",
     "output_type": "stream",
     "text": [
      "\r",
      " 46%|████▌     | 919/2000 [01:40<01:29, 12.09it/s]"
     ]
    },
    {
     "name": "stdout",
     "output_type": "stream",
     "text": [
      "Training_loss 0.36066,   Relative Error 0.21907\n",
      "Training_loss 0.35987,   Relative Error 0.21882\n",
      "Training_loss 0.35825,   Relative Error 0.21831\n"
     ]
    },
    {
     "name": "stderr",
     "output_type": "stream",
     "text": [
      " 46%|████▌     | 923/2000 [01:40<01:26, 12.52it/s]"
     ]
    },
    {
     "name": "stdout",
     "output_type": "stream",
     "text": [
      "Training_loss 0.35804,   Relative Error 0.21823\n",
      "Training_loss 0.35693,   Relative Error 0.21789\n",
      "Training_loss 0.35531,   Relative Error 0.21740\n"
     ]
    },
    {
     "name": "stderr",
     "output_type": "stream",
     "text": [
      "\r",
      " 46%|████▋     | 925/2000 [01:40<01:27, 12.28it/s]"
     ]
    },
    {
     "name": "stdout",
     "output_type": "stream",
     "text": [
      "Training_loss 0.35459,   Relative Error 0.21717\n",
      "Training_loss 0.35348,   Relative Error 0.21684\n",
      "Training_loss 0.35199,   Relative Error 0.21636\n"
     ]
    },
    {
     "name": "stderr",
     "output_type": "stream",
     "text": [
      " 46%|████▋     | 929/2000 [01:41<01:27, 12.25it/s]"
     ]
    },
    {
     "name": "stdout",
     "output_type": "stream",
     "text": [
      "Training_loss 0.35096,   Relative Error 0.21603\n",
      "Training_loss 0.35047,   Relative Error 0.21586\n",
      "Training_loss 0.34877,   Relative Error 0.21533\n"
     ]
    },
    {
     "name": "stderr",
     "output_type": "stream",
     "text": [
      "\r",
      " 47%|████▋     | 931/2000 [01:41<01:25, 12.50it/s]"
     ]
    },
    {
     "name": "stdout",
     "output_type": "stream",
     "text": [
      "Training_loss 0.34755,   Relative Error 0.21495\n",
      "Training_loss 0.34664,   Relative Error 0.21464\n",
      "Training_loss 0.34600,   Relative Error 0.21444\n"
     ]
    },
    {
     "name": "stderr",
     "output_type": "stream",
     "text": [
      " 47%|████▋     | 935/2000 [01:41<01:25, 12.40it/s]"
     ]
    },
    {
     "name": "stdout",
     "output_type": "stream",
     "text": [
      "Training_loss 0.34460,   Relative Error 0.21400\n",
      "Training_loss 0.34398,   Relative Error 0.21380\n",
      "Training_loss 0.34256,   Relative Error 0.21335\n"
     ]
    },
    {
     "name": "stderr",
     "output_type": "stream",
     "text": [
      "\r",
      " 47%|████▋     | 937/2000 [01:41<01:27, 12.10it/s]"
     ]
    },
    {
     "name": "stdout",
     "output_type": "stream",
     "text": [
      "Training_loss 0.34130,   Relative Error 0.21294\n",
      "Training_loss 0.33973,   Relative Error 0.21244\n",
      "Training_loss 0.33917,   Relative Error 0.21226\n"
     ]
    },
    {
     "name": "stderr",
     "output_type": "stream",
     "text": [
      " 47%|████▋     | 941/2000 [01:42<01:30, 11.73it/s]"
     ]
    },
    {
     "name": "stdout",
     "output_type": "stream",
     "text": [
      "Training_loss 0.33827,   Relative Error 0.21197\n",
      "Training_loss 0.33658,   Relative Error 0.21143\n",
      "Training_loss 0.33581,   Relative Error 0.21118\n"
     ]
    },
    {
     "name": "stderr",
     "output_type": "stream",
     "text": [
      "\r",
      " 47%|████▋     | 943/2000 [01:42<01:31, 11.60it/s]"
     ]
    },
    {
     "name": "stdout",
     "output_type": "stream",
     "text": [
      "Training_loss 0.33430,   Relative Error 0.21071\n",
      "Training_loss 0.33367,   Relative Error 0.21051\n",
      "Training_loss 0.33296,   Relative Error 0.21028\n"
     ]
    },
    {
     "name": "stderr",
     "output_type": "stream",
     "text": [
      " 47%|████▋     | 947/2000 [01:42<01:32, 11.34it/s]"
     ]
    },
    {
     "name": "stdout",
     "output_type": "stream",
     "text": [
      "Training_loss 0.33175,   Relative Error 0.20988\n",
      "Training_loss 0.33107,   Relative Error 0.20965\n",
      "Training_loss 0.33036,   Relative Error 0.20941\n"
     ]
    },
    {
     "name": "stderr",
     "output_type": "stream",
     "text": [
      "\r",
      " 47%|████▋     | 949/2000 [01:43<01:35, 10.96it/s]"
     ]
    },
    {
     "name": "stdout",
     "output_type": "stream",
     "text": [
      "Training_loss 0.32983,   Relative Error 0.20923\n",
      "Training_loss 0.32809,   Relative Error 0.20869\n"
     ]
    },
    {
     "name": "stderr",
     "output_type": "stream",
     "text": [
      "\r",
      " 48%|████▊     | 951/2000 [01:43<01:39, 10.52it/s]"
     ]
    },
    {
     "name": "stdout",
     "output_type": "stream",
     "text": [
      "Training_loss 0.32672,   Relative Error 0.20825\n",
      "Training_loss 0.32518,   Relative Error 0.20775\n",
      "Training_loss 0.32432,   Relative Error 0.20746\n"
     ]
    },
    {
     "name": "stderr",
     "output_type": "stream",
     "text": [
      "\r",
      " 48%|████▊     | 953/2000 [01:43<01:40, 10.43it/s]"
     ]
    },
    {
     "name": "stdout",
     "output_type": "stream",
     "text": [
      "Training_loss 0.32383,   Relative Error 0.20728\n",
      "Training_loss 0.32300,   Relative Error 0.20700\n"
     ]
    },
    {
     "name": "stderr",
     "output_type": "stream",
     "text": [
      " 48%|████▊     | 956/2000 [01:43<01:47,  9.69it/s]"
     ]
    },
    {
     "name": "stdout",
     "output_type": "stream",
     "text": [
      "Training_loss 0.32206,   Relative Error 0.20669\n",
      "Training_loss 0.32117,   Relative Error 0.20640\n"
     ]
    },
    {
     "name": "stderr",
     "output_type": "stream",
     "text": [
      " 48%|████▊     | 958/2000 [01:44<01:52,  9.25it/s]"
     ]
    },
    {
     "name": "stdout",
     "output_type": "stream",
     "text": [
      "Training_loss 0.31997,   Relative Error 0.20599\n",
      "Training_loss 0.31904,   Relative Error 0.20569\n",
      "Training_loss 0.31806,   Relative Error 0.20536\n"
     ]
    },
    {
     "name": "stderr",
     "output_type": "stream",
     "text": [
      " 48%|████▊     | 961/2000 [01:44<01:59,  8.69it/s]"
     ]
    },
    {
     "name": "stdout",
     "output_type": "stream",
     "text": [
      "Training_loss 0.31749,   Relative Error 0.20517\n",
      "Training_loss 0.31676,   Relative Error 0.20494\n"
     ]
    },
    {
     "name": "stderr",
     "output_type": "stream",
     "text": [
      " 48%|████▊     | 963/2000 [01:44<02:02,  8.44it/s]"
     ]
    },
    {
     "name": "stdout",
     "output_type": "stream",
     "text": [
      "Training_loss 0.31557,   Relative Error 0.20456\n",
      "Training_loss 0.31492,   Relative Error 0.20434\n"
     ]
    },
    {
     "name": "stderr",
     "output_type": "stream",
     "text": [
      " 48%|████▊     | 965/2000 [01:44<02:04,  8.28it/s]"
     ]
    },
    {
     "name": "stdout",
     "output_type": "stream",
     "text": [
      "Training_loss 0.31362,   Relative Error 0.20390\n",
      "Training_loss 0.31331,   Relative Error 0.20378\n"
     ]
    },
    {
     "name": "stderr",
     "output_type": "stream",
     "text": [
      " 48%|████▊     | 967/2000 [01:45<02:02,  8.42it/s]"
     ]
    },
    {
     "name": "stdout",
     "output_type": "stream",
     "text": [
      "Training_loss 0.31296,   Relative Error 0.20365\n",
      "Training_loss 0.31215,   Relative Error 0.20337\n"
     ]
    },
    {
     "name": "stderr",
     "output_type": "stream",
     "text": [
      " 48%|████▊     | 970/2000 [01:45<01:46,  9.65it/s]"
     ]
    },
    {
     "name": "stdout",
     "output_type": "stream",
     "text": [
      "Training_loss 0.31148,   Relative Error 0.20315\n",
      "Training_loss 0.31087,   Relative Error 0.20293\n",
      "Training_loss 0.30966,   Relative Error 0.20252\n"
     ]
    },
    {
     "name": "stderr",
     "output_type": "stream",
     "text": [
      " 49%|████▊     | 972/2000 [01:45<01:48,  9.43it/s]"
     ]
    },
    {
     "name": "stdout",
     "output_type": "stream",
     "text": [
      "Training_loss 0.30824,   Relative Error 0.20204\n",
      "Training_loss 0.30777,   Relative Error 0.20188\n",
      "Training_loss 0.30734,   Relative Error 0.20172\n"
     ]
    },
    {
     "name": "stderr",
     "output_type": "stream",
     "text": [
      " 49%|████▉     | 976/2000 [01:45<01:37, 10.54it/s]"
     ]
    },
    {
     "name": "stdout",
     "output_type": "stream",
     "text": [
      "Training_loss 0.30667,   Relative Error 0.20147\n",
      "Training_loss 0.30585,   Relative Error 0.20119\n",
      "Training_loss 0.30453,   Relative Error 0.20074\n"
     ]
    },
    {
     "name": "stderr",
     "output_type": "stream",
     "text": [
      "\r",
      " 49%|████▉     | 978/2000 [01:46<01:36, 10.59it/s]"
     ]
    },
    {
     "name": "stdout",
     "output_type": "stream",
     "text": [
      "Training_loss 0.30362,   Relative Error 0.20044\n",
      "Training_loss 0.30311,   Relative Error 0.20026\n",
      "Training_loss 0.30165,   Relative Error 0.19976\n"
     ]
    },
    {
     "name": "stderr",
     "output_type": "stream",
     "text": [
      "\r",
      " 49%|████▉     | 980/2000 [01:46<01:32, 11.03it/s]"
     ]
    },
    {
     "name": "stdout",
     "output_type": "stream",
     "text": [
      "Training_loss 0.30109,   Relative Error 0.19957\n",
      "Training_loss 0.30037,   Relative Error 0.19932\n"
     ]
    },
    {
     "name": "stderr",
     "output_type": "stream",
     "text": [
      " 49%|████▉     | 984/2000 [01:46<01:36, 10.58it/s]"
     ]
    },
    {
     "name": "stdout",
     "output_type": "stream",
     "text": [
      "Training_loss 0.29950,   Relative Error 0.19901\n",
      "Training_loss 0.29881,   Relative Error 0.19879\n",
      "Training_loss 0.29801,   Relative Error 0.19852\n"
     ]
    },
    {
     "name": "stderr",
     "output_type": "stream",
     "text": [
      "\r",
      " 49%|████▉     | 986/2000 [01:46<01:28, 11.47it/s]"
     ]
    },
    {
     "name": "stdout",
     "output_type": "stream",
     "text": [
      "Training_loss 0.29739,   Relative Error 0.19830\n",
      "Training_loss 0.29591,   Relative Error 0.19782\n",
      "Training_loss 0.29503,   Relative Error 0.19751\n"
     ]
    },
    {
     "name": "stderr",
     "output_type": "stream",
     "text": [
      " 50%|████▉     | 990/2000 [01:47<01:23, 12.05it/s]"
     ]
    },
    {
     "name": "stdout",
     "output_type": "stream",
     "text": [
      "Training_loss 0.29392,   Relative Error 0.19714\n",
      "Training_loss 0.29324,   Relative Error 0.19691\n",
      "Training_loss 0.29251,   Relative Error 0.19665\n"
     ]
    },
    {
     "name": "stderr",
     "output_type": "stream",
     "text": [
      "\r",
      " 50%|████▉     | 992/2000 [01:47<01:21, 12.37it/s]"
     ]
    },
    {
     "name": "stdout",
     "output_type": "stream",
     "text": [
      "Training_loss 0.29169,   Relative Error 0.19639\n",
      "Training_loss 0.29081,   Relative Error 0.19608\n",
      "Training_loss 0.28969,   Relative Error 0.19569\n"
     ]
    },
    {
     "name": "stderr",
     "output_type": "stream",
     "text": [
      " 50%|████▉     | 996/2000 [01:47<01:26, 11.66it/s]"
     ]
    },
    {
     "name": "stdout",
     "output_type": "stream",
     "text": [
      "Training_loss 0.28893,   Relative Error 0.19543\n",
      "Training_loss 0.28809,   Relative Error 0.19514\n",
      "Training_loss 0.28711,   Relative Error 0.19481\n"
     ]
    },
    {
     "name": "stderr",
     "output_type": "stream",
     "text": [
      "\r",
      " 50%|████▉     | 998/2000 [01:47<01:20, 12.46it/s]"
     ]
    },
    {
     "name": "stdout",
     "output_type": "stream",
     "text": [
      "Training_loss 0.28647,   Relative Error 0.19457\n",
      "Training_loss 0.28592,   Relative Error 0.19436\n",
      "Training_loss 0.28495,   Relative Error 0.19401\n"
     ]
    },
    {
     "name": "stderr",
     "output_type": "stream",
     "text": [
      " 50%|█████     | 1002/2000 [01:48<01:23, 11.98it/s]"
     ]
    },
    {
     "name": "stdout",
     "output_type": "stream",
     "text": [
      "Training_loss 0.28430,   Relative Error 0.19379\n",
      "Training_loss 0.28361,   Relative Error 0.19354\n",
      "Training_loss 0.28240,   Relative Error 0.19312\n"
     ]
    },
    {
     "name": "stderr",
     "output_type": "stream",
     "text": [
      "\r",
      " 50%|█████     | 1004/2000 [01:48<01:20, 12.42it/s]"
     ]
    },
    {
     "name": "stdout",
     "output_type": "stream",
     "text": [
      "Training_loss 0.28153,   Relative Error 0.19281\n",
      "Training_loss 0.28051,   Relative Error 0.19247\n",
      "Training_loss 0.27955,   Relative Error 0.19213\n"
     ]
    },
    {
     "name": "stderr",
     "output_type": "stream",
     "text": [
      " 50%|█████     | 1008/2000 [01:48<01:24, 11.79it/s]"
     ]
    },
    {
     "name": "stdout",
     "output_type": "stream",
     "text": [
      "Training_loss 0.27884,   Relative Error 0.19188\n",
      "Training_loss 0.27812,   Relative Error 0.19164\n",
      "Training_loss 0.27750,   Relative Error 0.19142\n"
     ]
    },
    {
     "name": "stderr",
     "output_type": "stream",
     "text": [
      "\r",
      " 50%|█████     | 1010/2000 [01:48<01:22, 11.97it/s]"
     ]
    },
    {
     "name": "stdout",
     "output_type": "stream",
     "text": [
      "Training_loss 0.27594,   Relative Error 0.19087\n",
      "Training_loss 0.27467,   Relative Error 0.19043\n",
      "Training_loss 0.27379,   Relative Error 0.19011\n"
     ]
    },
    {
     "name": "stderr",
     "output_type": "stream",
     "text": [
      " 51%|█████     | 1014/2000 [01:49<01:26, 11.44it/s]"
     ]
    },
    {
     "name": "stdout",
     "output_type": "stream",
     "text": [
      "Training_loss 0.27213,   Relative Error 0.18953\n",
      "Training_loss 0.27109,   Relative Error 0.18916\n",
      "Training_loss 0.26975,   Relative Error 0.18868\n"
     ]
    },
    {
     "name": "stderr",
     "output_type": "stream",
     "text": [
      "\r",
      " 51%|█████     | 1016/2000 [01:49<01:25, 11.47it/s]"
     ]
    },
    {
     "name": "stdout",
     "output_type": "stream",
     "text": [
      "Training_loss 0.26926,   Relative Error 0.18850\n",
      "Training_loss 0.26801,   Relative Error 0.18805\n",
      "Training_loss 0.26690,   Relative Error 0.18764\n"
     ]
    },
    {
     "name": "stderr",
     "output_type": "stream",
     "text": [
      "\r",
      " 51%|█████     | 1018/2000 [01:49<01:24, 11.61it/s]"
     ]
    },
    {
     "name": "stdout",
     "output_type": "stream",
     "text": [
      "Training_loss 0.26642,   Relative Error 0.18747\n",
      "Training_loss 0.26541,   Relative Error 0.18711\n"
     ]
    },
    {
     "name": "stderr",
     "output_type": "stream",
     "text": [
      " 51%|█████     | 1022/2000 [01:49<01:26, 11.35it/s]"
     ]
    },
    {
     "name": "stdout",
     "output_type": "stream",
     "text": [
      "Training_loss 0.26432,   Relative Error 0.18672\n",
      "Training_loss 0.26350,   Relative Error 0.18641\n",
      "Training_loss 0.26285,   Relative Error 0.18618\n"
     ]
    },
    {
     "name": "stderr",
     "output_type": "stream",
     "text": [
      "\r",
      " 51%|█████     | 1024/2000 [01:50<01:21, 11.96it/s]"
     ]
    },
    {
     "name": "stdout",
     "output_type": "stream",
     "text": [
      "Training_loss 0.26246,   Relative Error 0.18603\n",
      "Training_loss 0.26149,   Relative Error 0.18569\n",
      "Training_loss 0.26100,   Relative Error 0.18550\n"
     ]
    },
    {
     "name": "stderr",
     "output_type": "stream",
     "text": [
      " 51%|█████▏    | 1028/2000 [01:50<01:23, 11.69it/s]"
     ]
    },
    {
     "name": "stdout",
     "output_type": "stream",
     "text": [
      "Training_loss 0.25985,   Relative Error 0.18510\n",
      "Training_loss 0.25868,   Relative Error 0.18467\n",
      "Training_loss 0.25789,   Relative Error 0.18437\n"
     ]
    },
    {
     "name": "stderr",
     "output_type": "stream",
     "text": [
      "\r",
      " 52%|█████▏    | 1030/2000 [01:50<01:25, 11.32it/s]"
     ]
    },
    {
     "name": "stdout",
     "output_type": "stream",
     "text": [
      "Training_loss 0.25710,   Relative Error 0.18408\n",
      "Training_loss 0.25676,   Relative Error 0.18396\n",
      "Training_loss 0.25613,   Relative Error 0.18372\n"
     ]
    },
    {
     "name": "stderr",
     "output_type": "stream",
     "text": [
      " 52%|█████▏    | 1034/2000 [01:50<01:26, 11.17it/s]"
     ]
    },
    {
     "name": "stdout",
     "output_type": "stream",
     "text": [
      "Training_loss 0.25559,   Relative Error 0.18351\n",
      "Training_loss 0.25485,   Relative Error 0.18323\n",
      "Training_loss 0.25314,   Relative Error 0.18263\n"
     ]
    },
    {
     "name": "stderr",
     "output_type": "stream",
     "text": [
      "\r",
      " 52%|█████▏    | 1036/2000 [01:51<01:24, 11.47it/s]"
     ]
    },
    {
     "name": "stdout",
     "output_type": "stream",
     "text": [
      "Training_loss 0.25200,   Relative Error 0.18221\n",
      "Training_loss 0.25133,   Relative Error 0.18195\n",
      "Training_loss 0.25089,   Relative Error 0.18179\n"
     ]
    },
    {
     "name": "stderr",
     "output_type": "stream",
     "text": [
      " 52%|█████▏    | 1040/2000 [01:51<01:24, 11.30it/s]"
     ]
    },
    {
     "name": "stdout",
     "output_type": "stream",
     "text": [
      "Training_loss 0.25037,   Relative Error 0.18160\n",
      "Training_loss 0.24969,   Relative Error 0.18134\n",
      "Training_loss 0.24918,   Relative Error 0.18115\n"
     ]
    },
    {
     "name": "stderr",
     "output_type": "stream",
     "text": [
      "\r",
      " 52%|█████▏    | 1042/2000 [01:51<01:19, 12.03it/s]"
     ]
    },
    {
     "name": "stdout",
     "output_type": "stream",
     "text": [
      "Training_loss 0.24834,   Relative Error 0.18084\n",
      "Training_loss 0.24750,   Relative Error 0.18052\n",
      "Training_loss 0.24689,   Relative Error 0.18029\n"
     ]
    },
    {
     "name": "stderr",
     "output_type": "stream",
     "text": [
      " 52%|█████▏    | 1046/2000 [01:51<01:17, 12.35it/s]"
     ]
    },
    {
     "name": "stdout",
     "output_type": "stream",
     "text": [
      "Training_loss 0.24592,   Relative Error 0.17992\n",
      "Training_loss 0.24429,   Relative Error 0.17930\n",
      "Training_loss 0.24341,   Relative Error 0.17896\n"
     ]
    },
    {
     "name": "stderr",
     "output_type": "stream",
     "text": [
      "\r",
      " 52%|█████▏    | 1048/2000 [01:52<01:22, 11.56it/s]"
     ]
    },
    {
     "name": "stdout",
     "output_type": "stream",
     "text": [
      "Training_loss 0.24263,   Relative Error 0.17867\n",
      "Training_loss 0.24228,   Relative Error 0.17853\n"
     ]
    },
    {
     "name": "stderr",
     "output_type": "stream",
     "text": [
      "\r",
      " 52%|█████▎    | 1050/2000 [01:52<01:27, 10.83it/s]"
     ]
    },
    {
     "name": "stdout",
     "output_type": "stream",
     "text": [
      "Training_loss 0.24117,   Relative Error 0.17812\n",
      "Training_loss 0.24060,   Relative Error 0.17790\n",
      "Training_loss 0.24016,   Relative Error 0.17772\n"
     ]
    },
    {
     "name": "stderr",
     "output_type": "stream",
     "text": [
      " 53%|█████▎    | 1054/2000 [01:52<01:28, 10.75it/s]"
     ]
    },
    {
     "name": "stdout",
     "output_type": "stream",
     "text": [
      "Training_loss 0.23919,   Relative Error 0.17735\n",
      "Training_loss 0.23866,   Relative Error 0.17715\n",
      "Training_loss 0.23786,   Relative Error 0.17686\n"
     ]
    },
    {
     "name": "stderr",
     "output_type": "stream",
     "text": [
      "\r",
      " 53%|█████▎    | 1056/2000 [01:52<01:28, 10.66it/s]"
     ]
    },
    {
     "name": "stdout",
     "output_type": "stream",
     "text": [
      "Training_loss 0.23722,   Relative Error 0.17661\n",
      "Training_loss 0.23639,   Relative Error 0.17629\n",
      "Training_loss 0.23578,   Relative Error 0.17605\n"
     ]
    },
    {
     "name": "stderr",
     "output_type": "stream",
     "text": [
      " 53%|█████▎    | 1060/2000 [01:53<01:23, 11.30it/s]"
     ]
    },
    {
     "name": "stdout",
     "output_type": "stream",
     "text": [
      "Training_loss 0.23505,   Relative Error 0.17578\n",
      "Training_loss 0.23422,   Relative Error 0.17546\n",
      "Training_loss 0.23352,   Relative Error 0.17518\n"
     ]
    },
    {
     "name": "stderr",
     "output_type": "stream",
     "text": [
      "\r",
      " 53%|█████▎    | 1062/2000 [01:53<01:25, 10.96it/s]"
     ]
    },
    {
     "name": "stdout",
     "output_type": "stream",
     "text": [
      "Training_loss 0.23260,   Relative Error 0.17482\n",
      "Training_loss 0.23238,   Relative Error 0.17473\n",
      "Training_loss 0.23202,   Relative Error 0.17458\n"
     ]
    },
    {
     "name": "stderr",
     "output_type": "stream",
     "text": [
      " 53%|█████▎    | 1066/2000 [01:53<01:24, 11.01it/s]"
     ]
    },
    {
     "name": "stdout",
     "output_type": "stream",
     "text": [
      "Training_loss 0.23123,   Relative Error 0.17428\n",
      "Training_loss 0.23075,   Relative Error 0.17409\n",
      "Training_loss 0.23044,   Relative Error 0.17396\n"
     ]
    },
    {
     "name": "stderr",
     "output_type": "stream",
     "text": [
      "\r",
      " 53%|█████▎    | 1068/2000 [01:54<01:26, 10.83it/s]"
     ]
    },
    {
     "name": "stdout",
     "output_type": "stream",
     "text": [
      "Training_loss 0.22980,   Relative Error 0.17370\n",
      "Training_loss 0.22910,   Relative Error 0.17342\n",
      "Training_loss 0.22823,   Relative Error 0.17308\n"
     ]
    },
    {
     "name": "stderr",
     "output_type": "stream",
     "text": [
      " 54%|█████▎    | 1072/2000 [01:54<01:21, 11.42it/s]"
     ]
    },
    {
     "name": "stdout",
     "output_type": "stream",
     "text": [
      "Training_loss 0.22796,   Relative Error 0.17296\n",
      "Training_loss 0.22774,   Relative Error 0.17287\n",
      "Training_loss 0.22740,   Relative Error 0.17273\n"
     ]
    },
    {
     "name": "stderr",
     "output_type": "stream",
     "text": [
      "\r",
      " 54%|█████▎    | 1074/2000 [01:54<01:18, 11.76it/s]"
     ]
    },
    {
     "name": "stdout",
     "output_type": "stream",
     "text": [
      "Training_loss 0.22654,   Relative Error 0.17241\n",
      "Training_loss 0.22597,   Relative Error 0.17218\n",
      "Training_loss 0.22507,   Relative Error 0.17184\n"
     ]
    },
    {
     "name": "stderr",
     "output_type": "stream",
     "text": [
      " 54%|█████▍    | 1078/2000 [01:54<01:19, 11.60it/s]"
     ]
    },
    {
     "name": "stdout",
     "output_type": "stream",
     "text": [
      "Training_loss 0.22460,   Relative Error 0.17164\n",
      "Training_loss 0.22349,   Relative Error 0.17121\n",
      "Training_loss 0.22253,   Relative Error 0.17083\n"
     ]
    },
    {
     "name": "stderr",
     "output_type": "stream",
     "text": [
      "\r",
      " 54%|█████▍    | 1080/2000 [01:55<01:20, 11.49it/s]"
     ]
    },
    {
     "name": "stdout",
     "output_type": "stream",
     "text": [
      "Training_loss 0.22194,   Relative Error 0.17059\n",
      "Training_loss 0.22148,   Relative Error 0.17041\n"
     ]
    },
    {
     "name": "stderr",
     "output_type": "stream",
     "text": [
      "\r",
      " 54%|█████▍    | 1082/2000 [01:55<01:20, 11.45it/s]"
     ]
    },
    {
     "name": "stdout",
     "output_type": "stream",
     "text": [
      "Training_loss 0.22021,   Relative Error 0.16991\n",
      "Training_loss 0.21986,   Relative Error 0.16976\n",
      "Training_loss 0.21951,   Relative Error 0.16962\n"
     ]
    },
    {
     "name": "stderr",
     "output_type": "stream",
     "text": [
      " 54%|█████▍    | 1086/2000 [01:55<01:19, 11.45it/s]"
     ]
    },
    {
     "name": "stdout",
     "output_type": "stream",
     "text": [
      "Training_loss 0.21945,   Relative Error 0.16959\n",
      "Training_loss 0.21873,   Relative Error 0.16930\n",
      "Training_loss 0.21813,   Relative Error 0.16905\n"
     ]
    },
    {
     "name": "stderr",
     "output_type": "stream",
     "text": [
      "\r",
      " 54%|█████▍    | 1088/2000 [01:55<01:21, 11.17it/s]"
     ]
    },
    {
     "name": "stdout",
     "output_type": "stream",
     "text": [
      "Training_loss 0.21781,   Relative Error 0.16890\n",
      "Training_loss 0.21715,   Relative Error 0.16862\n",
      "Training_loss 0.21619,   Relative Error 0.16825\n"
     ]
    },
    {
     "name": "stderr",
     "output_type": "stream",
     "text": [
      " 55%|█████▍    | 1092/2000 [01:56<01:14, 12.17it/s]"
     ]
    },
    {
     "name": "stdout",
     "output_type": "stream",
     "text": [
      "Training_loss 0.21587,   Relative Error 0.16811\n",
      "Training_loss 0.21538,   Relative Error 0.16791\n",
      "Training_loss 0.21430,   Relative Error 0.16748\n"
     ]
    },
    {
     "name": "stderr",
     "output_type": "stream",
     "text": [
      "\r",
      " 55%|█████▍    | 1094/2000 [01:56<01:14, 12.14it/s]"
     ]
    },
    {
     "name": "stdout",
     "output_type": "stream",
     "text": [
      "Training_loss 0.21368,   Relative Error 0.16723\n",
      "Training_loss 0.21309,   Relative Error 0.16699\n",
      "Training_loss 0.21220,   Relative Error 0.16664\n"
     ]
    },
    {
     "name": "stderr",
     "output_type": "stream",
     "text": [
      " 55%|█████▍    | 1098/2000 [01:56<01:16, 11.82it/s]"
     ]
    },
    {
     "name": "stdout",
     "output_type": "stream",
     "text": [
      "Training_loss 0.21182,   Relative Error 0.16649\n",
      "Training_loss 0.21122,   Relative Error 0.16624\n",
      "Training_loss 0.21107,   Relative Error 0.16617\n"
     ]
    },
    {
     "name": "stderr",
     "output_type": "stream",
     "text": [
      "\r",
      " 55%|█████▌    | 1100/2000 [01:56<01:14, 12.14it/s]"
     ]
    },
    {
     "name": "stdout",
     "output_type": "stream",
     "text": [
      "Training_loss 0.21043,   Relative Error 0.16591\n",
      "Training_loss 0.21008,   Relative Error 0.16575\n",
      "Training_loss 0.20951,   Relative Error 0.16551\n"
     ]
    },
    {
     "name": "stderr",
     "output_type": "stream",
     "text": [
      " 55%|█████▌    | 1104/2000 [01:57<01:11, 12.45it/s]"
     ]
    },
    {
     "name": "stdout",
     "output_type": "stream",
     "text": [
      "Training_loss 0.20895,   Relative Error 0.16528\n",
      "Training_loss 0.20810,   Relative Error 0.16494\n",
      "Training_loss 0.20769,   Relative Error 0.16477\n"
     ]
    },
    {
     "name": "stderr",
     "output_type": "stream",
     "text": [
      "\r",
      " 55%|█████▌    | 1106/2000 [01:57<01:10, 12.65it/s]"
     ]
    },
    {
     "name": "stdout",
     "output_type": "stream",
     "text": [
      "Training_loss 0.20704,   Relative Error 0.16450\n",
      "Training_loss 0.20643,   Relative Error 0.16425\n",
      "Training_loss 0.20583,   Relative Error 0.16401\n"
     ]
    },
    {
     "name": "stderr",
     "output_type": "stream",
     "text": [
      " 56%|█████▌    | 1110/2000 [01:57<01:16, 11.71it/s]"
     ]
    },
    {
     "name": "stdout",
     "output_type": "stream",
     "text": [
      "Training_loss 0.20558,   Relative Error 0.16390\n",
      "Training_loss 0.20458,   Relative Error 0.16349\n",
      "Training_loss 0.20437,   Relative Error 0.16341\n"
     ]
    },
    {
     "name": "stderr",
     "output_type": "stream",
     "text": [
      "\r",
      " 56%|█████▌    | 1112/2000 [01:57<01:15, 11.72it/s]"
     ]
    },
    {
     "name": "stdout",
     "output_type": "stream",
     "text": [
      "Training_loss 0.20389,   Relative Error 0.16320\n",
      "Training_loss 0.20356,   Relative Error 0.16307\n",
      "Training_loss 0.20335,   Relative Error 0.16297\n"
     ]
    },
    {
     "name": "stderr",
     "output_type": "stream",
     "text": [
      " 56%|█████▌    | 1116/2000 [01:58<01:19, 11.12it/s]"
     ]
    },
    {
     "name": "stdout",
     "output_type": "stream",
     "text": [
      "Training_loss 0.20284,   Relative Error 0.16276\n",
      "Training_loss 0.20235,   Relative Error 0.16256\n",
      "Training_loss 0.20163,   Relative Error 0.16226\n"
     ]
    },
    {
     "name": "stderr",
     "output_type": "stream",
     "text": [
      "\r",
      " 56%|█████▌    | 1118/2000 [01:58<01:22, 10.65it/s]"
     ]
    },
    {
     "name": "stdout",
     "output_type": "stream",
     "text": [
      "Training_loss 0.20054,   Relative Error 0.16181\n",
      "Training_loss 0.20030,   Relative Error 0.16170\n",
      "Training_loss 0.19956,   Relative Error 0.16139\n"
     ]
    },
    {
     "name": "stderr",
     "output_type": "stream",
     "text": [
      " 56%|█████▌    | 1122/2000 [01:58<01:23, 10.48it/s]"
     ]
    },
    {
     "name": "stdout",
     "output_type": "stream",
     "text": [
      "Training_loss 0.19899,   Relative Error 0.16116\n",
      "Training_loss 0.19874,   Relative Error 0.16106\n",
      "Training_loss 0.19797,   Relative Error 0.16074\n"
     ]
    },
    {
     "name": "stderr",
     "output_type": "stream",
     "text": [
      "\r",
      " 56%|█████▌    | 1124/2000 [01:58<01:19, 11.03it/s]"
     ]
    },
    {
     "name": "stdout",
     "output_type": "stream",
     "text": [
      "Training_loss 0.19734,   Relative Error 0.16047\n",
      "Training_loss 0.19733,   Relative Error 0.16046\n",
      "Training_loss 0.19728,   Relative Error 0.16042\n"
     ]
    },
    {
     "name": "stderr",
     "output_type": "stream",
     "text": [
      " 56%|█████▋    | 1128/2000 [01:59<01:13, 11.88it/s]"
     ]
    },
    {
     "name": "stdout",
     "output_type": "stream",
     "text": [
      "Training_loss 0.19713,   Relative Error 0.16035\n",
      "Training_loss 0.19666,   Relative Error 0.16016\n",
      "Training_loss 0.19568,   Relative Error 0.15974\n"
     ]
    },
    {
     "name": "stderr",
     "output_type": "stream",
     "text": [
      "\r",
      " 56%|█████▋    | 1130/2000 [01:59<01:18, 11.12it/s]"
     ]
    },
    {
     "name": "stdout",
     "output_type": "stream",
     "text": [
      "Training_loss 0.19553,   Relative Error 0.15966\n",
      "Training_loss 0.19520,   Relative Error 0.15952\n",
      "Training_loss 0.19470,   Relative Error 0.15930\n"
     ]
    },
    {
     "name": "stderr",
     "output_type": "stream",
     "text": [
      " 57%|█████▋    | 1134/2000 [01:59<01:17, 11.14it/s]"
     ]
    },
    {
     "name": "stdout",
     "output_type": "stream",
     "text": [
      "Training_loss 0.19408,   Relative Error 0.15903\n",
      "Training_loss 0.19377,   Relative Error 0.15890\n",
      "Training_loss 0.19328,   Relative Error 0.15870\n"
     ]
    },
    {
     "name": "stderr",
     "output_type": "stream",
     "text": [
      "\r",
      " 57%|█████▋    | 1136/2000 [01:59<01:20, 10.70it/s]"
     ]
    },
    {
     "name": "stdout",
     "output_type": "stream",
     "text": [
      "Training_loss 0.19225,   Relative Error 0.15827\n",
      "Training_loss 0.19194,   Relative Error 0.15814\n"
     ]
    },
    {
     "name": "stderr",
     "output_type": "stream",
     "text": [
      "\r",
      " 57%|█████▋    | 1138/2000 [02:00<01:26,  9.91it/s]"
     ]
    },
    {
     "name": "stdout",
     "output_type": "stream",
     "text": [
      "Training_loss 0.19144,   Relative Error 0.15793\n",
      "Training_loss 0.19072,   Relative Error 0.15762\n"
     ]
    },
    {
     "name": "stderr",
     "output_type": "stream",
     "text": [
      "\r",
      " 57%|█████▋    | 1140/2000 [02:00<01:39,  8.65it/s]"
     ]
    },
    {
     "name": "stdout",
     "output_type": "stream",
     "text": [
      "Training_loss 0.19006,   Relative Error 0.15733\n",
      "Training_loss 0.18925,   Relative Error 0.15699\n"
     ]
    },
    {
     "name": "stderr",
     "output_type": "stream",
     "text": [
      " 57%|█████▋    | 1142/2000 [02:00<01:41,  8.45it/s]"
     ]
    },
    {
     "name": "stdout",
     "output_type": "stream",
     "text": [
      "Training_loss 0.18825,   Relative Error 0.15658\n",
      "Training_loss 0.18800,   Relative Error 0.15647\n"
     ]
    },
    {
     "name": "stderr",
     "output_type": "stream",
     "text": [
      " 57%|█████▋    | 1144/2000 [02:00<01:40,  8.56it/s]"
     ]
    },
    {
     "name": "stdout",
     "output_type": "stream",
     "text": [
      "Training_loss 0.18781,   Relative Error 0.15639\n",
      "Training_loss 0.18754,   Relative Error 0.15627\n"
     ]
    },
    {
     "name": "stderr",
     "output_type": "stream",
     "text": [
      " 57%|█████▋    | 1147/2000 [02:01<01:29,  9.49it/s]"
     ]
    },
    {
     "name": "stdout",
     "output_type": "stream",
     "text": [
      "Training_loss 0.18686,   Relative Error 0.15597\n",
      "Training_loss 0.18640,   Relative Error 0.15577\n",
      "Training_loss 0.18613,   Relative Error 0.15564\n"
     ]
    },
    {
     "name": "stderr",
     "output_type": "stream",
     "text": [
      " 57%|█████▊    | 1150/2000 [02:01<01:25,  9.96it/s]"
     ]
    },
    {
     "name": "stdout",
     "output_type": "stream",
     "text": [
      "Training_loss 0.18572,   Relative Error 0.15545\n",
      "Training_loss 0.18567,   Relative Error 0.15542\n",
      "Training_loss 0.18491,   Relative Error 0.15510\n"
     ]
    },
    {
     "name": "stderr",
     "output_type": "stream",
     "text": [
      "\r",
      " 58%|█████▊    | 1152/2000 [02:01<01:22, 10.26it/s]"
     ]
    },
    {
     "name": "stdout",
     "output_type": "stream",
     "text": [
      "Training_loss 0.18418,   Relative Error 0.15478\n",
      "Training_loss 0.18313,   Relative Error 0.15433\n",
      "Training_loss 0.18228,   Relative Error 0.15396\n"
     ]
    },
    {
     "name": "stderr",
     "output_type": "stream",
     "text": [
      " 58%|█████▊    | 1156/2000 [02:02<01:16, 10.99it/s]"
     ]
    },
    {
     "name": "stdout",
     "output_type": "stream",
     "text": [
      "Training_loss 0.18178,   Relative Error 0.15374\n",
      "Training_loss 0.18143,   Relative Error 0.15357\n",
      "Training_loss 0.18107,   Relative Error 0.15341\n"
     ]
    },
    {
     "name": "stderr",
     "output_type": "stream",
     "text": [
      "\r",
      " 58%|█████▊    | 1158/2000 [02:02<01:15, 11.13it/s]"
     ]
    },
    {
     "name": "stdout",
     "output_type": "stream",
     "text": [
      "Training_loss 0.18076,   Relative Error 0.15326\n",
      "Training_loss 0.18057,   Relative Error 0.15317\n",
      "Training_loss 0.18039,   Relative Error 0.15309\n"
     ]
    },
    {
     "name": "stderr",
     "output_type": "stream",
     "text": [
      " 58%|█████▊    | 1162/2000 [02:02<01:14, 11.20it/s]"
     ]
    },
    {
     "name": "stdout",
     "output_type": "stream",
     "text": [
      "Training_loss 0.17970,   Relative Error 0.15278\n",
      "Training_loss 0.17885,   Relative Error 0.15242\n",
      "Training_loss 0.17870,   Relative Error 0.15235\n"
     ]
    },
    {
     "name": "stderr",
     "output_type": "stream",
     "text": [
      "\r",
      " 58%|█████▊    | 1164/2000 [02:02<01:12, 11.57it/s]"
     ]
    },
    {
     "name": "stdout",
     "output_type": "stream",
     "text": [
      "Training_loss 0.17824,   Relative Error 0.15215\n",
      "Training_loss 0.17757,   Relative Error 0.15188\n",
      "Training_loss 0.17730,   Relative Error 0.15175\n"
     ]
    },
    {
     "name": "stderr",
     "output_type": "stream",
     "text": [
      " 58%|█████▊    | 1168/2000 [02:03<01:09, 12.05it/s]"
     ]
    },
    {
     "name": "stdout",
     "output_type": "stream",
     "text": [
      "Training_loss 0.17644,   Relative Error 0.15139\n",
      "Training_loss 0.17627,   Relative Error 0.15131\n",
      "Training_loss 0.17580,   Relative Error 0.15111\n"
     ]
    },
    {
     "name": "stderr",
     "output_type": "stream",
     "text": [
      "\r",
      " 58%|█████▊    | 1170/2000 [02:03<01:06, 12.42it/s]"
     ]
    },
    {
     "name": "stdout",
     "output_type": "stream",
     "text": [
      "Training_loss 0.17534,   Relative Error 0.15091\n",
      "Training_loss 0.17522,   Relative Error 0.15085\n",
      "Training_loss 0.17501,   Relative Error 0.15074\n"
     ]
    },
    {
     "name": "stderr",
     "output_type": "stream",
     "text": [
      " 59%|█████▊    | 1174/2000 [02:03<01:09, 11.96it/s]"
     ]
    },
    {
     "name": "stdout",
     "output_type": "stream",
     "text": [
      "Training_loss 0.17479,   Relative Error 0.15063\n",
      "Training_loss 0.17444,   Relative Error 0.15047\n",
      "Training_loss 0.17334,   Relative Error 0.15000\n"
     ]
    },
    {
     "name": "stderr",
     "output_type": "stream",
     "text": [
      "\r",
      " 59%|█████▉    | 1176/2000 [02:03<01:09, 11.80it/s]"
     ]
    },
    {
     "name": "stdout",
     "output_type": "stream",
     "text": [
      "Training_loss 0.17310,   Relative Error 0.14988\n",
      "Training_loss 0.17266,   Relative Error 0.14968\n",
      "Training_loss 0.17239,   Relative Error 0.14957\n"
     ]
    },
    {
     "name": "stderr",
     "output_type": "stream",
     "text": [
      " 59%|█████▉    | 1180/2000 [02:04<01:07, 12.23it/s]"
     ]
    },
    {
     "name": "stdout",
     "output_type": "stream",
     "text": [
      "Training_loss 0.17229,   Relative Error 0.14952\n",
      "Training_loss 0.17191,   Relative Error 0.14935\n",
      "Training_loss 0.17169,   Relative Error 0.14925\n"
     ]
    },
    {
     "name": "stderr",
     "output_type": "stream",
     "text": [
      "\r",
      " 59%|█████▉    | 1182/2000 [02:04<01:04, 12.64it/s]"
     ]
    },
    {
     "name": "stdout",
     "output_type": "stream",
     "text": [
      "Training_loss 0.17151,   Relative Error 0.14916\n",
      "Training_loss 0.17128,   Relative Error 0.14906\n",
      "Training_loss 0.17110,   Relative Error 0.14897\n"
     ]
    },
    {
     "name": "stderr",
     "output_type": "stream",
     "text": [
      " 59%|█████▉    | 1186/2000 [02:04<01:05, 12.37it/s]"
     ]
    },
    {
     "name": "stdout",
     "output_type": "stream",
     "text": [
      "Training_loss 0.17069,   Relative Error 0.14878\n",
      "Training_loss 0.16967,   Relative Error 0.14834\n",
      "Training_loss 0.16956,   Relative Error 0.14828\n"
     ]
    },
    {
     "name": "stderr",
     "output_type": "stream",
     "text": [
      "\r",
      " 59%|█████▉    | 1188/2000 [02:04<01:07, 12.02it/s]"
     ]
    },
    {
     "name": "stdout",
     "output_type": "stream",
     "text": [
      "Training_loss 0.16932,   Relative Error 0.14816\n",
      "Training_loss 0.16898,   Relative Error 0.14800\n",
      "Training_loss 0.16885,   Relative Error 0.14794\n"
     ]
    },
    {
     "name": "stderr",
     "output_type": "stream",
     "text": [
      "\r",
      " 60%|█████▉    | 1190/2000 [02:04<01:11, 11.31it/s]"
     ]
    },
    {
     "name": "stdout",
     "output_type": "stream",
     "text": [
      "Training_loss 0.16883,   Relative Error 0.14792\n",
      "Training_loss 0.16840,   Relative Error 0.14773\n"
     ]
    },
    {
     "name": "stderr",
     "output_type": "stream",
     "text": [
      " 60%|█████▉    | 1194/2000 [02:05<01:12, 11.07it/s]"
     ]
    },
    {
     "name": "stdout",
     "output_type": "stream",
     "text": [
      "Training_loss 0.16805,   Relative Error 0.14757\n",
      "Training_loss 0.16766,   Relative Error 0.14740\n",
      "Training_loss 0.16735,   Relative Error 0.14726\n"
     ]
    },
    {
     "name": "stderr",
     "output_type": "stream",
     "text": [
      "\r",
      " 60%|█████▉    | 1196/2000 [02:05<01:06, 12.13it/s]"
     ]
    },
    {
     "name": "stdout",
     "output_type": "stream",
     "text": [
      "Training_loss 0.16701,   Relative Error 0.14710\n",
      "Training_loss 0.16643,   Relative Error 0.14683\n",
      "Training_loss 0.16615,   Relative Error 0.14670\n"
     ]
    },
    {
     "name": "stderr",
     "output_type": "stream",
     "text": [
      " 60%|██████    | 1200/2000 [02:05<01:07, 11.85it/s]"
     ]
    },
    {
     "name": "stdout",
     "output_type": "stream",
     "text": [
      "Training_loss 0.16583,   Relative Error 0.14654\n",
      "Training_loss 0.16561,   Relative Error 0.14643\n",
      "Training_loss 0.16535,   Relative Error 0.14630\n"
     ]
    },
    {
     "name": "stderr",
     "output_type": "stream",
     "text": [
      "\r",
      " 60%|██████    | 1202/2000 [02:05<01:04, 12.41it/s]"
     ]
    },
    {
     "name": "stdout",
     "output_type": "stream",
     "text": [
      "Training_loss 0.16469,   Relative Error 0.14599\n",
      "Training_loss 0.16410,   Relative Error 0.14574\n",
      "Training_loss 0.16347,   Relative Error 0.14545\n"
     ]
    },
    {
     "name": "stderr",
     "output_type": "stream",
     "text": [
      " 60%|██████    | 1206/2000 [02:06<01:11, 11.16it/s]"
     ]
    },
    {
     "name": "stdout",
     "output_type": "stream",
     "text": [
      "Training_loss 0.16291,   Relative Error 0.14520\n",
      "Training_loss 0.16252,   Relative Error 0.14502\n",
      "Training_loss 0.16208,   Relative Error 0.14482\n"
     ]
    },
    {
     "name": "stderr",
     "output_type": "stream",
     "text": [
      "\r",
      " 60%|██████    | 1208/2000 [02:06<01:09, 11.42it/s]"
     ]
    },
    {
     "name": "stdout",
     "output_type": "stream",
     "text": [
      "Training_loss 0.16177,   Relative Error 0.14466\n",
      "Training_loss 0.16142,   Relative Error 0.14451\n",
      "Training_loss 0.16113,   Relative Error 0.14437\n"
     ]
    },
    {
     "name": "stderr",
     "output_type": "stream",
     "text": [
      " 61%|██████    | 1212/2000 [02:06<01:09, 11.28it/s]"
     ]
    },
    {
     "name": "stdout",
     "output_type": "stream",
     "text": [
      "Training_loss 0.16054,   Relative Error 0.14410\n",
      "Training_loss 0.15984,   Relative Error 0.14377\n",
      "Training_loss 0.15955,   Relative Error 0.14364\n"
     ]
    },
    {
     "name": "stderr",
     "output_type": "stream",
     "text": [
      "\r",
      " 61%|██████    | 1214/2000 [02:07<01:09, 11.32it/s]"
     ]
    },
    {
     "name": "stdout",
     "output_type": "stream",
     "text": [
      "Training_loss 0.15909,   Relative Error 0.14342\n",
      "Training_loss 0.15873,   Relative Error 0.14327\n",
      "Training_loss 0.15830,   Relative Error 0.14305\n"
     ]
    },
    {
     "name": "stderr",
     "output_type": "stream",
     "text": [
      " 61%|██████    | 1218/2000 [02:07<01:03, 12.36it/s]"
     ]
    },
    {
     "name": "stdout",
     "output_type": "stream",
     "text": [
      "Training_loss 0.15775,   Relative Error 0.14278\n",
      "Training_loss 0.15762,   Relative Error 0.14270\n",
      "Training_loss 0.15712,   Relative Error 0.14247\n"
     ]
    },
    {
     "name": "stderr",
     "output_type": "stream",
     "text": [
      "\r",
      " 61%|██████    | 1220/2000 [02:07<01:02, 12.48it/s]"
     ]
    },
    {
     "name": "stdout",
     "output_type": "stream",
     "text": [
      "Training_loss 0.15654,   Relative Error 0.14220\n",
      "Training_loss 0.15640,   Relative Error 0.14213\n",
      "Training_loss 0.15604,   Relative Error 0.14196\n"
     ]
    },
    {
     "name": "stderr",
     "output_type": "stream",
     "text": [
      " 61%|██████    | 1224/2000 [02:07<01:05, 11.86it/s]"
     ]
    },
    {
     "name": "stdout",
     "output_type": "stream",
     "text": [
      "Training_loss 0.15568,   Relative Error 0.14178\n",
      "Training_loss 0.15534,   Relative Error 0.14162\n",
      "Training_loss 0.15474,   Relative Error 0.14134\n"
     ]
    },
    {
     "name": "stderr",
     "output_type": "stream",
     "text": [
      "\r",
      " 61%|██████▏   | 1226/2000 [02:07<01:06, 11.56it/s]"
     ]
    },
    {
     "name": "stdout",
     "output_type": "stream",
     "text": [
      "Training_loss 0.15453,   Relative Error 0.14123\n",
      "Training_loss 0.15409,   Relative Error 0.14103\n",
      "Training_loss 0.15382,   Relative Error 0.14090\n"
     ]
    },
    {
     "name": "stderr",
     "output_type": "stream",
     "text": [
      "\r",
      " 61%|██████▏   | 1228/2000 [02:08<01:04, 11.92it/s]"
     ]
    },
    {
     "name": "stdout",
     "output_type": "stream",
     "text": [
      "Training_loss 0.15370,   Relative Error 0.14084\n",
      "Training_loss 0.15314,   Relative Error 0.14057\n"
     ]
    },
    {
     "name": "stderr",
     "output_type": "stream",
     "text": [
      " 62%|██████▏   | 1232/2000 [02:08<01:09, 11.09it/s]"
     ]
    },
    {
     "name": "stdout",
     "output_type": "stream",
     "text": [
      "Training_loss 0.15265,   Relative Error 0.14033\n",
      "Training_loss 0.15260,   Relative Error 0.14029\n",
      "Training_loss 0.15235,   Relative Error 0.14016\n"
     ]
    },
    {
     "name": "stderr",
     "output_type": "stream",
     "text": [
      "\r",
      " 62%|██████▏   | 1234/2000 [02:08<01:08, 11.19it/s]"
     ]
    },
    {
     "name": "stdout",
     "output_type": "stream",
     "text": [
      "Training_loss 0.15215,   Relative Error 0.14006\n",
      "Training_loss 0.15187,   Relative Error 0.13992\n"
     ]
    },
    {
     "name": "stderr",
     "output_type": "stream",
     "text": [
      "\r",
      " 62%|██████▏   | 1236/2000 [02:08<01:11, 10.63it/s]"
     ]
    },
    {
     "name": "stdout",
     "output_type": "stream",
     "text": [
      "Training_loss 0.15128,   Relative Error 0.13966\n",
      "Training_loss 0.15099,   Relative Error 0.13952\n",
      "Training_loss 0.15076,   Relative Error 0.13941\n"
     ]
    },
    {
     "name": "stderr",
     "output_type": "stream",
     "text": [
      "\r",
      " 62%|██████▏   | 1238/2000 [02:09<01:11, 10.71it/s]"
     ]
    },
    {
     "name": "stdout",
     "output_type": "stream",
     "text": [
      "Training_loss 0.15030,   Relative Error 0.13920\n",
      "Training_loss 0.14994,   Relative Error 0.13902\n"
     ]
    },
    {
     "name": "stderr",
     "output_type": "stream",
     "text": [
      " 62%|██████▏   | 1242/2000 [02:09<01:14, 10.12it/s]"
     ]
    },
    {
     "name": "stdout",
     "output_type": "stream",
     "text": [
      "Training_loss 0.14985,   Relative Error 0.13896\n",
      "Training_loss 0.14985,   Relative Error 0.13895\n",
      "Training_loss 0.14947,   Relative Error 0.13876\n"
     ]
    },
    {
     "name": "stderr",
     "output_type": "stream",
     "text": [
      "\r",
      " 62%|██████▏   | 1244/2000 [02:09<01:16,  9.93it/s]"
     ]
    },
    {
     "name": "stdout",
     "output_type": "stream",
     "text": [
      "Training_loss 0.14917,   Relative Error 0.13862\n",
      "Training_loss 0.14866,   Relative Error 0.13837\n"
     ]
    },
    {
     "name": "stderr",
     "output_type": "stream",
     "text": [
      "\r",
      " 62%|██████▏   | 1246/2000 [02:09<01:16,  9.81it/s]"
     ]
    },
    {
     "name": "stdout",
     "output_type": "stream",
     "text": [
      "Training_loss 0.14834,   Relative Error 0.13821\n",
      "Training_loss 0.14800,   Relative Error 0.13806\n"
     ]
    },
    {
     "name": "stderr",
     "output_type": "stream",
     "text": [
      " 62%|██████▏   | 1248/2000 [02:10<01:18,  9.54it/s]"
     ]
    },
    {
     "name": "stdout",
     "output_type": "stream",
     "text": [
      "Training_loss 0.14731,   Relative Error 0.13774\n",
      "Training_loss 0.14721,   Relative Error 0.13768\n"
     ]
    },
    {
     "name": "stderr",
     "output_type": "stream",
     "text": [
      " 62%|██████▎   | 1250/2000 [02:10<01:20,  9.36it/s]"
     ]
    },
    {
     "name": "stdout",
     "output_type": "stream",
     "text": [
      "Training_loss 0.14676,   Relative Error 0.13748\n",
      "Training_loss 0.14651,   Relative Error 0.13736\n"
     ]
    },
    {
     "name": "stderr",
     "output_type": "stream",
     "text": [
      " 63%|██████▎   | 1252/2000 [02:10<01:21,  9.14it/s]"
     ]
    },
    {
     "name": "stdout",
     "output_type": "stream",
     "text": [
      "Training_loss 0.14608,   Relative Error 0.13715\n",
      "Training_loss 0.14561,   Relative Error 0.13691\n"
     ]
    },
    {
     "name": "stderr",
     "output_type": "stream",
     "text": [
      " 63%|██████▎   | 1254/2000 [02:10<01:25,  8.77it/s]"
     ]
    },
    {
     "name": "stdout",
     "output_type": "stream",
     "text": [
      "Training_loss 0.14523,   Relative Error 0.13673\n",
      "Training_loss 0.14471,   Relative Error 0.13648\n"
     ]
    },
    {
     "name": "stderr",
     "output_type": "stream",
     "text": [
      " 63%|██████▎   | 1257/2000 [02:11<01:18,  9.46it/s]"
     ]
    },
    {
     "name": "stdout",
     "output_type": "stream",
     "text": [
      "Training_loss 0.14461,   Relative Error 0.13642\n",
      "Training_loss 0.14442,   Relative Error 0.13632\n",
      "Training_loss 0.14399,   Relative Error 0.13610\n"
     ]
    },
    {
     "name": "stderr",
     "output_type": "stream",
     "text": [
      "\r",
      " 63%|██████▎   | 1259/2000 [02:11<01:17,  9.52it/s]"
     ]
    },
    {
     "name": "stdout",
     "output_type": "stream",
     "text": [
      "Training_loss 0.14350,   Relative Error 0.13586\n",
      "Training_loss 0.14344,   Relative Error 0.13583\n"
     ]
    },
    {
     "name": "stderr",
     "output_type": "stream",
     "text": [
      " 63%|██████▎   | 1262/2000 [02:11<01:15,  9.76it/s]"
     ]
    },
    {
     "name": "stdout",
     "output_type": "stream",
     "text": [
      "Training_loss 0.14313,   Relative Error 0.13567\n",
      "Training_loss 0.14286,   Relative Error 0.13554\n",
      "Training_loss 0.14252,   Relative Error 0.13536\n"
     ]
    },
    {
     "name": "stderr",
     "output_type": "stream",
     "text": [
      "\r",
      " 63%|██████▎   | 1264/2000 [02:11<01:11, 10.32it/s]"
     ]
    },
    {
     "name": "stdout",
     "output_type": "stream",
     "text": [
      "Training_loss 0.14225,   Relative Error 0.13523\n",
      "Training_loss 0.14208,   Relative Error 0.13514\n"
     ]
    },
    {
     "name": "stderr",
     "output_type": "stream",
     "text": [
      "\r",
      " 63%|██████▎   | 1266/2000 [02:12<01:16,  9.63it/s]"
     ]
    },
    {
     "name": "stdout",
     "output_type": "stream",
     "text": [
      "Training_loss 0.14197,   Relative Error 0.13508\n",
      "Training_loss 0.14133,   Relative Error 0.13478\n"
     ]
    },
    {
     "name": "stderr",
     "output_type": "stream",
     "text": [
      " 63%|██████▎   | 1269/2000 [02:12<01:13,  9.89it/s]"
     ]
    },
    {
     "name": "stdout",
     "output_type": "stream",
     "text": [
      "Training_loss 0.14112,   Relative Error 0.13468\n",
      "Training_loss 0.14098,   Relative Error 0.13460\n",
      "Training_loss 0.14069,   Relative Error 0.13445\n"
     ]
    },
    {
     "name": "stderr",
     "output_type": "stream",
     "text": [
      "\r",
      " 64%|██████▎   | 1271/2000 [02:12<01:10, 10.28it/s]"
     ]
    },
    {
     "name": "stdout",
     "output_type": "stream",
     "text": [
      "Training_loss 0.14059,   Relative Error 0.13439\n",
      "Training_loss 0.14047,   Relative Error 0.13433\n",
      "Training_loss 0.14021,   Relative Error 0.13420\n"
     ]
    },
    {
     "name": "stderr",
     "output_type": "stream",
     "text": [
      " 64%|██████▍   | 1275/2000 [02:12<01:07, 10.70it/s]"
     ]
    },
    {
     "name": "stdout",
     "output_type": "stream",
     "text": [
      "Training_loss 0.13989,   Relative Error 0.13403\n",
      "Training_loss 0.13925,   Relative Error 0.13374\n",
      "Training_loss 0.13849,   Relative Error 0.13337\n"
     ]
    },
    {
     "name": "stderr",
     "output_type": "stream",
     "text": [
      "\r",
      " 64%|██████▍   | 1277/2000 [02:13<01:09, 10.41it/s]"
     ]
    },
    {
     "name": "stdout",
     "output_type": "stream",
     "text": [
      "Training_loss 0.13823,   Relative Error 0.13324\n",
      "Training_loss 0.13793,   Relative Error 0.13309\n",
      "Training_loss 0.13720,   Relative Error 0.13273\n"
     ]
    },
    {
     "name": "stderr",
     "output_type": "stream",
     "text": [
      " 64%|██████▍   | 1281/2000 [02:13<01:06, 10.87it/s]"
     ]
    },
    {
     "name": "stdout",
     "output_type": "stream",
     "text": [
      "Training_loss 0.13679,   Relative Error 0.13252\n",
      "Training_loss 0.13650,   Relative Error 0.13238\n",
      "Training_loss 0.13625,   Relative Error 0.13225\n"
     ]
    },
    {
     "name": "stderr",
     "output_type": "stream",
     "text": [
      "\r",
      " 64%|██████▍   | 1283/2000 [02:13<01:08, 10.48it/s]"
     ]
    },
    {
     "name": "stdout",
     "output_type": "stream",
     "text": [
      "Training_loss 0.13605,   Relative Error 0.13215\n",
      "Training_loss 0.13604,   Relative Error 0.13212\n",
      "Training_loss 0.13571,   Relative Error 0.13195\n"
     ]
    },
    {
     "name": "stderr",
     "output_type": "stream",
     "text": [
      " 64%|██████▍   | 1287/2000 [02:14<01:06, 10.79it/s]"
     ]
    },
    {
     "name": "stdout",
     "output_type": "stream",
     "text": [
      "Training_loss 0.13562,   Relative Error 0.13189\n",
      "Training_loss 0.13543,   Relative Error 0.13179\n",
      "Training_loss 0.13502,   Relative Error 0.13159\n"
     ]
    },
    {
     "name": "stderr",
     "output_type": "stream",
     "text": [
      "\r",
      " 64%|██████▍   | 1289/2000 [02:14<01:05, 10.78it/s]"
     ]
    },
    {
     "name": "stdout",
     "output_type": "stream",
     "text": [
      "Training_loss 0.13441,   Relative Error 0.13130\n",
      "Training_loss 0.13415,   Relative Error 0.13117\n",
      "Training_loss 0.13401,   Relative Error 0.13109\n"
     ]
    },
    {
     "name": "stderr",
     "output_type": "stream",
     "text": [
      " 65%|██████▍   | 1293/2000 [02:14<01:05, 10.88it/s]"
     ]
    },
    {
     "name": "stdout",
     "output_type": "stream",
     "text": [
      "Training_loss 0.13378,   Relative Error 0.13097\n",
      "Training_loss 0.13380,   Relative Error 0.13097\n",
      "Training_loss 0.13326,   Relative Error 0.13069\n"
     ]
    },
    {
     "name": "stderr",
     "output_type": "stream",
     "text": [
      "\r",
      " 65%|██████▍   | 1295/2000 [02:14<01:05, 10.74it/s]"
     ]
    },
    {
     "name": "stdout",
     "output_type": "stream",
     "text": [
      "Training_loss 0.13317,   Relative Error 0.13064\n",
      "Training_loss 0.13234,   Relative Error 0.13024\n",
      "Training_loss 0.13202,   Relative Error 0.13008\n"
     ]
    },
    {
     "name": "stderr",
     "output_type": "stream",
     "text": [
      " 65%|██████▍   | 1299/2000 [02:15<01:02, 11.18it/s]"
     ]
    },
    {
     "name": "stdout",
     "output_type": "stream",
     "text": [
      "Training_loss 0.13200,   Relative Error 0.13006\n",
      "Training_loss 0.13160,   Relative Error 0.12987\n",
      "Training_loss 0.13133,   Relative Error 0.12973\n"
     ]
    },
    {
     "name": "stderr",
     "output_type": "stream",
     "text": [
      "\r",
      " 65%|██████▌   | 1301/2000 [02:15<01:01, 11.29it/s]"
     ]
    },
    {
     "name": "stdout",
     "output_type": "stream",
     "text": [
      "Training_loss 0.13101,   Relative Error 0.12956\n",
      "Training_loss 0.13073,   Relative Error 0.12942\n",
      "Training_loss 0.13050,   Relative Error 0.12930\n"
     ]
    },
    {
     "name": "stderr",
     "output_type": "stream",
     "text": [
      " 65%|██████▌   | 1305/2000 [02:15<01:04, 10.69it/s]"
     ]
    },
    {
     "name": "stdout",
     "output_type": "stream",
     "text": [
      "Training_loss 0.13006,   Relative Error 0.12907\n",
      "Training_loss 0.12986,   Relative Error 0.12896\n",
      "Training_loss 0.12966,   Relative Error 0.12886\n"
     ]
    },
    {
     "name": "stderr",
     "output_type": "stream",
     "text": [
      "\r",
      " 65%|██████▌   | 1307/2000 [02:15<01:04, 10.70it/s]"
     ]
    },
    {
     "name": "stdout",
     "output_type": "stream",
     "text": [
      "Training_loss 0.12954,   Relative Error 0.12879\n",
      "Training_loss 0.12927,   Relative Error 0.12865\n",
      "Training_loss 0.12911,   Relative Error 0.12856\n"
     ]
    },
    {
     "name": "stderr",
     "output_type": "stream",
     "text": [
      " 66%|██████▌   | 1311/2000 [02:16<01:03, 10.85it/s]"
     ]
    },
    {
     "name": "stdout",
     "output_type": "stream",
     "text": [
      "Training_loss 0.12883,   Relative Error 0.12841\n",
      "Training_loss 0.12850,   Relative Error 0.12823\n",
      "Training_loss 0.12835,   Relative Error 0.12815\n"
     ]
    },
    {
     "name": "stderr",
     "output_type": "stream",
     "text": [
      "\r",
      " 66%|██████▌   | 1313/2000 [02:16<01:05, 10.45it/s]"
     ]
    },
    {
     "name": "stdout",
     "output_type": "stream",
     "text": [
      "Training_loss 0.12797,   Relative Error 0.12796\n",
      "Training_loss 0.12773,   Relative Error 0.12782\n",
      "Training_loss 0.12772,   Relative Error 0.12780\n"
     ]
    },
    {
     "name": "stderr",
     "output_type": "stream",
     "text": [
      " 66%|██████▌   | 1317/2000 [02:16<01:06, 10.33it/s]"
     ]
    },
    {
     "name": "stdout",
     "output_type": "stream",
     "text": [
      "Training_loss 0.12726,   Relative Error 0.12757\n",
      "Training_loss 0.12679,   Relative Error 0.12733\n",
      "Training_loss 0.12647,   Relative Error 0.12716\n"
     ]
    },
    {
     "name": "stderr",
     "output_type": "stream",
     "text": [
      "\r",
      " 66%|██████▌   | 1319/2000 [02:17<01:04, 10.61it/s]"
     ]
    },
    {
     "name": "stdout",
     "output_type": "stream",
     "text": [
      "Training_loss 0.12621,   Relative Error 0.12701\n",
      "Training_loss 0.12600,   Relative Error 0.12689\n",
      "Training_loss 0.12593,   Relative Error 0.12685\n"
     ]
    },
    {
     "name": "stderr",
     "output_type": "stream",
     "text": [
      "\r",
      " 66%|██████▌   | 1321/2000 [02:17<01:03, 10.64it/s]"
     ]
    },
    {
     "name": "stdout",
     "output_type": "stream",
     "text": [
      "Training_loss 0.12556,   Relative Error 0.12666\n",
      "Training_loss 0.12501,   Relative Error 0.12638\n"
     ]
    },
    {
     "name": "stderr",
     "output_type": "stream",
     "text": [
      " 66%|██████▋   | 1325/2000 [02:17<01:04, 10.46it/s]"
     ]
    },
    {
     "name": "stdout",
     "output_type": "stream",
     "text": [
      "Training_loss 0.12438,   Relative Error 0.12606\n",
      "Training_loss 0.12413,   Relative Error 0.12593\n",
      "Training_loss 0.12392,   Relative Error 0.12582\n"
     ]
    },
    {
     "name": "stderr",
     "output_type": "stream",
     "text": [
      "\r",
      " 66%|██████▋   | 1327/2000 [02:17<01:03, 10.60it/s]"
     ]
    },
    {
     "name": "stdout",
     "output_type": "stream",
     "text": [
      "Training_loss 0.12385,   Relative Error 0.12578\n",
      "Training_loss 0.12360,   Relative Error 0.12564\n",
      "Training_loss 0.12346,   Relative Error 0.12557\n"
     ]
    },
    {
     "name": "stderr",
     "output_type": "stream",
     "text": [
      "\r",
      " 66%|██████▋   | 1329/2000 [02:17<01:04, 10.42it/s]"
     ]
    },
    {
     "name": "stdout",
     "output_type": "stream",
     "text": [
      "Training_loss 0.12291,   Relative Error 0.12528\n",
      "Training_loss 0.12258,   Relative Error 0.12511\n",
      "Training_loss 0.12248,   Relative Error 0.12505\n"
     ]
    },
    {
     "name": "stderr",
     "output_type": "stream",
     "text": [
      "\r",
      " 67%|██████▋   | 1331/2000 [02:18<01:05, 10.24it/s]"
     ]
    },
    {
     "name": "stdout",
     "output_type": "stream",
     "text": [
      "Training_loss 0.12230,   Relative Error 0.12495\n"
     ]
    },
    {
     "name": "stderr",
     "output_type": "stream",
     "text": [
      " 67%|██████▋   | 1335/2000 [02:18<01:07,  9.79it/s]"
     ]
    },
    {
     "name": "stdout",
     "output_type": "stream",
     "text": [
      "Training_loss 0.12215,   Relative Error 0.12486\n",
      "Training_loss 0.12211,   Relative Error 0.12483\n",
      "Training_loss 0.12184,   Relative Error 0.12470\n"
     ]
    },
    {
     "name": "stderr",
     "output_type": "stream",
     "text": [
      " 67%|██████▋   | 1337/2000 [02:18<01:07,  9.76it/s]"
     ]
    },
    {
     "name": "stdout",
     "output_type": "stream",
     "text": [
      "Training_loss 0.12157,   Relative Error 0.12455\n",
      "Training_loss 0.12107,   Relative Error 0.12430\n",
      "Training_loss 0.12073,   Relative Error 0.12412\n"
     ]
    },
    {
     "name": "stderr",
     "output_type": "stream",
     "text": [
      " 67%|██████▋   | 1341/2000 [02:19<01:02, 10.48it/s]"
     ]
    },
    {
     "name": "stdout",
     "output_type": "stream",
     "text": [
      "Training_loss 0.12055,   Relative Error 0.12401\n",
      "Training_loss 0.11994,   Relative Error 0.12369\n",
      "Training_loss 0.11992,   Relative Error 0.12367\n"
     ]
    },
    {
     "name": "stderr",
     "output_type": "stream",
     "text": [
      "\r",
      " 67%|██████▋   | 1343/2000 [02:19<00:56, 11.69it/s]"
     ]
    },
    {
     "name": "stdout",
     "output_type": "stream",
     "text": [
      "Training_loss 0.11974,   Relative Error 0.12357\n",
      "Training_loss 0.11977,   Relative Error 0.12357\n",
      "Training_loss 0.11947,   Relative Error 0.12340\n"
     ]
    },
    {
     "name": "stderr",
     "output_type": "stream",
     "text": [
      " 67%|██████▋   | 1347/2000 [02:19<00:58, 11.10it/s]"
     ]
    },
    {
     "name": "stdout",
     "output_type": "stream",
     "text": [
      "Training_loss 0.11933,   Relative Error 0.12333\n",
      "Training_loss 0.11902,   Relative Error 0.12317\n",
      "Training_loss 0.11890,   Relative Error 0.12310\n"
     ]
    },
    {
     "name": "stderr",
     "output_type": "stream",
     "text": [
      "\r",
      " 67%|██████▋   | 1349/2000 [02:19<01:00, 10.82it/s]"
     ]
    },
    {
     "name": "stdout",
     "output_type": "stream",
     "text": [
      "Training_loss 0.11862,   Relative Error 0.12295\n",
      "Training_loss 0.11862,   Relative Error 0.12295\n",
      "Training_loss 0.11858,   Relative Error 0.12291\n"
     ]
    },
    {
     "name": "stderr",
     "output_type": "stream",
     "text": [
      " 68%|██████▊   | 1353/2000 [02:20<00:58, 11.06it/s]"
     ]
    },
    {
     "name": "stdout",
     "output_type": "stream",
     "text": [
      "Training_loss 0.11829,   Relative Error 0.12276\n",
      "Training_loss 0.11793,   Relative Error 0.12257\n",
      "Training_loss 0.11752,   Relative Error 0.12234\n"
     ]
    },
    {
     "name": "stderr",
     "output_type": "stream",
     "text": [
      "\r",
      " 68%|██████▊   | 1355/2000 [02:20<00:59, 10.93it/s]"
     ]
    },
    {
     "name": "stdout",
     "output_type": "stream",
     "text": [
      "Training_loss 0.11740,   Relative Error 0.12228\n",
      "Training_loss 0.11701,   Relative Error 0.12207\n",
      "Training_loss 0.11681,   Relative Error 0.12195\n"
     ]
    },
    {
     "name": "stderr",
     "output_type": "stream",
     "text": [
      " 68%|██████▊   | 1359/2000 [02:20<00:59, 10.70it/s]"
     ]
    },
    {
     "name": "stdout",
     "output_type": "stream",
     "text": [
      "Training_loss 0.11670,   Relative Error 0.12188\n",
      "Training_loss 0.11630,   Relative Error 0.12167\n",
      "Training_loss 0.11596,   Relative Error 0.12149\n"
     ]
    },
    {
     "name": "stderr",
     "output_type": "stream",
     "text": [
      "\r",
      " 68%|██████▊   | 1361/2000 [02:20<00:56, 11.21it/s]"
     ]
    },
    {
     "name": "stdout",
     "output_type": "stream",
     "text": [
      "Training_loss 0.11559,   Relative Error 0.12129\n",
      "Training_loss 0.11540,   Relative Error 0.12119\n",
      "Training_loss 0.11462,   Relative Error 0.12077\n"
     ]
    },
    {
     "name": "stderr",
     "output_type": "stream",
     "text": [
      " 68%|██████▊   | 1365/2000 [02:21<01:01, 10.30it/s]"
     ]
    },
    {
     "name": "stdout",
     "output_type": "stream",
     "text": [
      "Training_loss 0.11418,   Relative Error 0.12054\n",
      "Training_loss 0.11398,   Relative Error 0.12043\n",
      "Training_loss 0.11389,   Relative Error 0.12037\n"
     ]
    },
    {
     "name": "stderr",
     "output_type": "stream",
     "text": [
      "\r",
      " 68%|██████▊   | 1367/2000 [02:21<01:03,  9.96it/s]"
     ]
    },
    {
     "name": "stdout",
     "output_type": "stream",
     "text": [
      "Training_loss 0.11364,   Relative Error 0.12024\n",
      "Training_loss 0.11331,   Relative Error 0.12006\n"
     ]
    },
    {
     "name": "stderr",
     "output_type": "stream",
     "text": [
      "\r",
      " 68%|██████▊   | 1369/2000 [02:21<01:03,  9.87it/s]"
     ]
    },
    {
     "name": "stdout",
     "output_type": "stream",
     "text": [
      "Training_loss 0.11313,   Relative Error 0.11996\n",
      "Training_loss 0.11305,   Relative Error 0.11991\n"
     ]
    },
    {
     "name": "stderr",
     "output_type": "stream",
     "text": [
      " 69%|██████▊   | 1371/2000 [02:22<01:05,  9.57it/s]"
     ]
    },
    {
     "name": "stdout",
     "output_type": "stream",
     "text": [
      "Training_loss 0.11291,   Relative Error 0.11983\n",
      "Training_loss 0.11258,   Relative Error 0.11965\n"
     ]
    },
    {
     "name": "stderr",
     "output_type": "stream",
     "text": [
      " 69%|██████▊   | 1373/2000 [02:22<01:08,  9.14it/s]"
     ]
    },
    {
     "name": "stdout",
     "output_type": "stream",
     "text": [
      "Training_loss 0.11241,   Relative Error 0.11955\n",
      "Training_loss 0.11217,   Relative Error 0.11941\n"
     ]
    },
    {
     "name": "stderr",
     "output_type": "stream",
     "text": [
      " 69%|██████▉   | 1375/2000 [02:22<01:17,  8.03it/s]"
     ]
    },
    {
     "name": "stdout",
     "output_type": "stream",
     "text": [
      "Training_loss 0.11209,   Relative Error 0.11937\n",
      "Training_loss 0.11194,   Relative Error 0.11928\n"
     ]
    },
    {
     "name": "stderr",
     "output_type": "stream",
     "text": [
      " 69%|██████▉   | 1377/2000 [02:22<01:30,  6.90it/s]"
     ]
    },
    {
     "name": "stdout",
     "output_type": "stream",
     "text": [
      "Training_loss 0.11187,   Relative Error 0.11923\n",
      "Training_loss 0.11164,   Relative Error 0.11910\n"
     ]
    },
    {
     "name": "stderr",
     "output_type": "stream",
     "text": [
      " 69%|██████▉   | 1379/2000 [02:23<01:24,  7.35it/s]"
     ]
    },
    {
     "name": "stdout",
     "output_type": "stream",
     "text": [
      "Training_loss 0.11137,   Relative Error 0.11896\n",
      "Training_loss 0.11127,   Relative Error 0.11890\n"
     ]
    },
    {
     "name": "stderr",
     "output_type": "stream",
     "text": [
      " 69%|██████▉   | 1382/2000 [02:23<01:08,  9.07it/s]"
     ]
    },
    {
     "name": "stdout",
     "output_type": "stream",
     "text": [
      "Training_loss 0.11102,   Relative Error 0.11876\n",
      "Training_loss 0.11069,   Relative Error 0.11857\n",
      "Training_loss 0.11062,   Relative Error 0.11853\n"
     ]
    },
    {
     "name": "stderr",
     "output_type": "stream",
     "text": [
      "\r",
      " 69%|██████▉   | 1384/2000 [02:23<01:05,  9.44it/s]"
     ]
    },
    {
     "name": "stdout",
     "output_type": "stream",
     "text": [
      "Training_loss 0.11051,   Relative Error 0.11846\n",
      "Training_loss 0.11011,   Relative Error 0.11822\n"
     ]
    },
    {
     "name": "stderr",
     "output_type": "stream",
     "text": [
      " 69%|██████▉   | 1386/2000 [02:23<01:07,  9.10it/s]"
     ]
    },
    {
     "name": "stdout",
     "output_type": "stream",
     "text": [
      "Training_loss 0.10977,   Relative Error 0.11802\n",
      "Training_loss 0.10951,   Relative Error 0.11789\n"
     ]
    },
    {
     "name": "stderr",
     "output_type": "stream",
     "text": [
      " 69%|██████▉   | 1388/2000 [02:24<01:22,  7.38it/s]"
     ]
    },
    {
     "name": "stdout",
     "output_type": "stream",
     "text": [
      "Training_loss 0.10932,   Relative Error 0.11778\n",
      "Training_loss 0.10918,   Relative Error 0.11770\n"
     ]
    },
    {
     "name": "stderr",
     "output_type": "stream",
     "text": [
      " 70%|██████▉   | 1390/2000 [02:24<01:15,  8.03it/s]"
     ]
    },
    {
     "name": "stdout",
     "output_type": "stream",
     "text": [
      "Training_loss 0.10880,   Relative Error 0.11749\n",
      "Training_loss 0.10852,   Relative Error 0.11733\n"
     ]
    },
    {
     "name": "stderr",
     "output_type": "stream",
     "text": [
      " 70%|██████▉   | 1392/2000 [02:24<01:12,  8.44it/s]"
     ]
    },
    {
     "name": "stdout",
     "output_type": "stream",
     "text": [
      "Training_loss 0.10828,   Relative Error 0.11719\n",
      "Training_loss 0.10796,   Relative Error 0.11701\n"
     ]
    },
    {
     "name": "stderr",
     "output_type": "stream",
     "text": [
      "\r",
      " 70%|██████▉   | 1393/2000 [02:24<01:13,  8.25it/s]"
     ]
    },
    {
     "name": "stdout",
     "output_type": "stream",
     "text": [
      "Training_loss 0.10764,   Relative Error 0.11682\n",
      "Training_loss 0.10747,   Relative Error 0.11672\n"
     ]
    },
    {
     "name": "stderr",
     "output_type": "stream",
     "text": [
      " 70%|██████▉   | 1396/2000 [02:25<01:12,  8.35it/s]"
     ]
    },
    {
     "name": "stdout",
     "output_type": "stream",
     "text": [
      "Training_loss 0.10670,   Relative Error 0.11631\n",
      "Training_loss 0.10666,   Relative Error 0.11627\n"
     ]
    },
    {
     "name": "stderr",
     "output_type": "stream",
     "text": [
      " 70%|██████▉   | 1398/2000 [02:25<01:10,  8.58it/s]"
     ]
    },
    {
     "name": "stdout",
     "output_type": "stream",
     "text": [
      "Training_loss 0.10648,   Relative Error 0.11617\n",
      "Training_loss 0.10634,   Relative Error 0.11610\n"
     ]
    },
    {
     "name": "stderr",
     "output_type": "stream",
     "text": [
      " 70%|███████   | 1401/2000 [02:25<01:02,  9.53it/s]"
     ]
    },
    {
     "name": "stdout",
     "output_type": "stream",
     "text": [
      "Training_loss 0.10616,   Relative Error 0.11598\n",
      "Training_loss 0.10595,   Relative Error 0.11586\n",
      "Training_loss 0.10573,   Relative Error 0.11573\n"
     ]
    },
    {
     "name": "stderr",
     "output_type": "stream",
     "text": [
      " 70%|███████   | 1403/2000 [02:25<01:20,  7.43it/s]"
     ]
    },
    {
     "name": "stdout",
     "output_type": "stream",
     "text": [
      "Training_loss 0.10564,   Relative Error 0.11567\n",
      "Training_loss 0.10550,   Relative Error 0.11559\n"
     ]
    },
    {
     "name": "stderr",
     "output_type": "stream",
     "text": [
      " 70%|███████   | 1405/2000 [02:26<01:32,  6.43it/s]"
     ]
    },
    {
     "name": "stdout",
     "output_type": "stream",
     "text": [
      "Training_loss 0.10539,   Relative Error 0.11552\n",
      "Training_loss 0.10530,   Relative Error 0.11546\n"
     ]
    },
    {
     "name": "stderr",
     "output_type": "stream",
     "text": [
      " 70%|███████   | 1407/2000 [02:26<01:35,  6.19it/s]"
     ]
    },
    {
     "name": "stdout",
     "output_type": "stream",
     "text": [
      "Training_loss 0.10513,   Relative Error 0.11537\n",
      "Training_loss 0.10503,   Relative Error 0.11531\n"
     ]
    },
    {
     "name": "stderr",
     "output_type": "stream",
     "text": [
      " 70%|███████   | 1409/2000 [02:26<01:25,  6.90it/s]"
     ]
    },
    {
     "name": "stdout",
     "output_type": "stream",
     "text": [
      "Training_loss 0.10457,   Relative Error 0.11505\n",
      "Training_loss 0.10414,   Relative Error 0.11482\n"
     ]
    },
    {
     "name": "stderr",
     "output_type": "stream",
     "text": [
      " 71%|███████   | 1411/2000 [02:27<01:17,  7.58it/s]"
     ]
    },
    {
     "name": "stdout",
     "output_type": "stream",
     "text": [
      "Training_loss 0.10343,   Relative Error 0.11442\n",
      "Training_loss 0.10318,   Relative Error 0.11428\n"
     ]
    },
    {
     "name": "stderr",
     "output_type": "stream",
     "text": [
      " 71%|███████   | 1413/2000 [02:27<01:20,  7.27it/s]"
     ]
    },
    {
     "name": "stdout",
     "output_type": "stream",
     "text": [
      "Training_loss 0.10314,   Relative Error 0.11424\n",
      "Training_loss 0.10289,   Relative Error 0.11410\n"
     ]
    },
    {
     "name": "stderr",
     "output_type": "stream",
     "text": [
      " 71%|███████   | 1415/2000 [02:27<01:16,  7.60it/s]"
     ]
    },
    {
     "name": "stdout",
     "output_type": "stream",
     "text": [
      "Training_loss 0.10276,   Relative Error 0.11403\n",
      "Training_loss 0.10265,   Relative Error 0.11396\n"
     ]
    },
    {
     "name": "stderr",
     "output_type": "stream",
     "text": [
      "\r",
      " 71%|███████   | 1416/2000 [02:27<01:14,  7.79it/s]"
     ]
    },
    {
     "name": "stdout",
     "output_type": "stream",
     "text": [
      "Training_loss 0.10243,   Relative Error 0.11384\n",
      "Training_loss 0.10236,   Relative Error 0.11380\n"
     ]
    },
    {
     "name": "stderr",
     "output_type": "stream",
     "text": [
      " 71%|███████   | 1419/2000 [02:28<01:10,  8.20it/s]"
     ]
    },
    {
     "name": "stdout",
     "output_type": "stream",
     "text": [
      "Training_loss 0.10201,   Relative Error 0.11360\n",
      "Training_loss 0.10194,   Relative Error 0.11355\n"
     ]
    },
    {
     "name": "stderr",
     "output_type": "stream",
     "text": [
      " 71%|███████   | 1421/2000 [02:28<01:08,  8.40it/s]"
     ]
    },
    {
     "name": "stdout",
     "output_type": "stream",
     "text": [
      "Training_loss 0.10187,   Relative Error 0.11350\n",
      "Training_loss 0.10187,   Relative Error 0.11349\n"
     ]
    },
    {
     "name": "stderr",
     "output_type": "stream",
     "text": [
      " 71%|███████   | 1423/2000 [02:28<01:10,  8.20it/s]"
     ]
    },
    {
     "name": "stdout",
     "output_type": "stream",
     "text": [
      "Training_loss 0.10172,   Relative Error 0.11340\n",
      "Training_loss 0.10156,   Relative Error 0.11331\n"
     ]
    },
    {
     "name": "stderr",
     "output_type": "stream",
     "text": [
      " 71%|███████▏  | 1425/2000 [02:28<01:10,  8.21it/s]"
     ]
    },
    {
     "name": "stdout",
     "output_type": "stream",
     "text": [
      "Training_loss 0.10132,   Relative Error 0.11317\n",
      "Training_loss 0.10105,   Relative Error 0.11301\n"
     ]
    },
    {
     "name": "stderr",
     "output_type": "stream",
     "text": [
      " 71%|███████▏  | 1427/2000 [02:29<01:08,  8.39it/s]"
     ]
    },
    {
     "name": "stdout",
     "output_type": "stream",
     "text": [
      "Training_loss 0.10068,   Relative Error 0.11279\n",
      "Training_loss 0.10030,   Relative Error 0.11258\n"
     ]
    },
    {
     "name": "stderr",
     "output_type": "stream",
     "text": [
      " 71%|███████▏  | 1429/2000 [02:29<01:26,  6.63it/s]"
     ]
    },
    {
     "name": "stdout",
     "output_type": "stream",
     "text": [
      "Training_loss 0.10006,   Relative Error 0.11243\n",
      "Training_loss 0.09987,   Relative Error 0.11231\n"
     ]
    },
    {
     "name": "stderr",
     "output_type": "stream",
     "text": [
      "\r",
      " 72%|███████▏  | 1430/2000 [02:29<01:31,  6.23it/s]"
     ]
    },
    {
     "name": "stdout",
     "output_type": "stream",
     "text": [
      "Training_loss 0.09985,   Relative Error 0.11229\n",
      "Training_loss 0.09979,   Relative Error 0.11225\n"
     ]
    },
    {
     "name": "stderr",
     "output_type": "stream",
     "text": [
      " 72%|███████▏  | 1433/2000 [02:30<01:47,  5.28it/s]"
     ]
    },
    {
     "name": "stdout",
     "output_type": "stream",
     "text": [
      "Training_loss 0.09936,   Relative Error 0.11200\n",
      "Training_loss 0.09899,   Relative Error 0.11178\n"
     ]
    },
    {
     "name": "stderr",
     "output_type": "stream",
     "text": [
      " 72%|███████▏  | 1435/2000 [02:30<01:44,  5.43it/s]"
     ]
    },
    {
     "name": "stdout",
     "output_type": "stream",
     "text": [
      "Training_loss 0.09851,   Relative Error 0.11151\n",
      "Training_loss 0.09823,   Relative Error 0.11136\n"
     ]
    },
    {
     "name": "stderr",
     "output_type": "stream",
     "text": [
      " 72%|███████▏  | 1437/2000 [02:30<01:37,  5.80it/s]"
     ]
    },
    {
     "name": "stdout",
     "output_type": "stream",
     "text": [
      "Training_loss 0.09819,   Relative Error 0.11133\n",
      "Training_loss 0.09803,   Relative Error 0.11124\n"
     ]
    },
    {
     "name": "stderr",
     "output_type": "stream",
     "text": [
      " 72%|███████▏  | 1439/2000 [02:31<01:39,  5.66it/s]"
     ]
    },
    {
     "name": "stdout",
     "output_type": "stream",
     "text": [
      "Training_loss 0.09774,   Relative Error 0.11107\n",
      "Training_loss 0.09755,   Relative Error 0.11095\n"
     ]
    },
    {
     "name": "stderr",
     "output_type": "stream",
     "text": [
      " 72%|███████▏  | 1441/2000 [02:31<01:32,  6.07it/s]"
     ]
    },
    {
     "name": "stdout",
     "output_type": "stream",
     "text": [
      "Training_loss 0.09759,   Relative Error 0.11097\n",
      "Training_loss 0.09760,   Relative Error 0.11098\n"
     ]
    },
    {
     "name": "stderr",
     "output_type": "stream",
     "text": [
      " 72%|███████▏  | 1443/2000 [02:31<01:25,  6.54it/s]"
     ]
    },
    {
     "name": "stdout",
     "output_type": "stream",
     "text": [
      "Training_loss 0.09739,   Relative Error 0.11085\n",
      "Training_loss 0.09727,   Relative Error 0.11078\n"
     ]
    },
    {
     "name": "stderr",
     "output_type": "stream",
     "text": [
      " 72%|███████▏  | 1446/2000 [02:32<01:10,  7.84it/s]"
     ]
    },
    {
     "name": "stdout",
     "output_type": "stream",
     "text": [
      "Training_loss 0.09714,   Relative Error 0.11070\n",
      "Training_loss 0.09715,   Relative Error 0.11070\n",
      "Training_loss 0.09706,   Relative Error 0.11065\n"
     ]
    },
    {
     "name": "stderr",
     "output_type": "stream",
     "text": [
      " 72%|███████▏  | 1448/2000 [02:32<01:07,  8.22it/s]"
     ]
    },
    {
     "name": "stdout",
     "output_type": "stream",
     "text": [
      "Training_loss 0.09701,   Relative Error 0.11061\n",
      "Training_loss 0.09667,   Relative Error 0.11042\n"
     ]
    },
    {
     "name": "stderr",
     "output_type": "stream",
     "text": [
      " 72%|███████▎  | 1450/2000 [02:32<01:05,  8.34it/s]"
     ]
    },
    {
     "name": "stdout",
     "output_type": "stream",
     "text": [
      "Training_loss 0.09660,   Relative Error 0.11037\n",
      "Training_loss 0.09646,   Relative Error 0.11028\n"
     ]
    },
    {
     "name": "stderr",
     "output_type": "stream",
     "text": [
      " 73%|███████▎  | 1452/2000 [02:33<01:08,  7.96it/s]"
     ]
    },
    {
     "name": "stdout",
     "output_type": "stream",
     "text": [
      "Training_loss 0.09613,   Relative Error 0.11008\n",
      "Training_loss 0.09597,   Relative Error 0.10997\n"
     ]
    },
    {
     "name": "stderr",
     "output_type": "stream",
     "text": [
      " 73%|███████▎  | 1455/2000 [02:33<00:59,  9.22it/s]"
     ]
    },
    {
     "name": "stdout",
     "output_type": "stream",
     "text": [
      "Training_loss 0.09573,   Relative Error 0.10983\n",
      "Training_loss 0.09570,   Relative Error 0.10981\n",
      "Training_loss 0.09554,   Relative Error 0.10971\n"
     ]
    },
    {
     "name": "stderr",
     "output_type": "stream",
     "text": [
      "\r",
      " 73%|███████▎  | 1457/2000 [02:33<00:53, 10.22it/s]"
     ]
    },
    {
     "name": "stdout",
     "output_type": "stream",
     "text": [
      "Training_loss 0.09527,   Relative Error 0.10954\n",
      "Training_loss 0.09504,   Relative Error 0.10941\n"
     ]
    },
    {
     "name": "stderr",
     "output_type": "stream",
     "text": [
      "\r",
      " 73%|███████▎  | 1459/2000 [02:33<00:56,  9.66it/s]"
     ]
    },
    {
     "name": "stdout",
     "output_type": "stream",
     "text": [
      "Training_loss 0.09498,   Relative Error 0.10937\n",
      "Training_loss 0.09492,   Relative Error 0.10932\n",
      "Training_loss 0.09470,   Relative Error 0.10919\n"
     ]
    },
    {
     "name": "stderr",
     "output_type": "stream",
     "text": [
      " 73%|███████▎  | 1463/2000 [02:34<00:48, 11.15it/s]"
     ]
    },
    {
     "name": "stdout",
     "output_type": "stream",
     "text": [
      "Training_loss 0.09461,   Relative Error 0.10914\n",
      "Training_loss 0.09443,   Relative Error 0.10903\n",
      "Training_loss 0.09443,   Relative Error 0.10903\n"
     ]
    },
    {
     "name": "stderr",
     "output_type": "stream",
     "text": [
      "\r",
      " 73%|███████▎  | 1465/2000 [02:34<00:47, 11.37it/s]"
     ]
    },
    {
     "name": "stdout",
     "output_type": "stream",
     "text": [
      "Training_loss 0.09447,   Relative Error 0.10904\n",
      "Training_loss 0.09438,   Relative Error 0.10898\n",
      "Training_loss 0.09432,   Relative Error 0.10893\n"
     ]
    },
    {
     "name": "stderr",
     "output_type": "stream",
     "text": [
      " 73%|███████▎  | 1469/2000 [02:34<00:44, 11.83it/s]"
     ]
    },
    {
     "name": "stdout",
     "output_type": "stream",
     "text": [
      "Training_loss 0.09433,   Relative Error 0.10894\n",
      "Training_loss 0.09428,   Relative Error 0.10890\n",
      "Training_loss 0.09410,   Relative Error 0.10880\n"
     ]
    },
    {
     "name": "stderr",
     "output_type": "stream",
     "text": [
      "\r",
      " 74%|███████▎  | 1471/2000 [02:34<00:44, 11.89it/s]"
     ]
    },
    {
     "name": "stdout",
     "output_type": "stream",
     "text": [
      "Training_loss 0.09382,   Relative Error 0.10863\n",
      "Training_loss 0.09339,   Relative Error 0.10838\n",
      "Training_loss 0.09331,   Relative Error 0.10833\n"
     ]
    },
    {
     "name": "stderr",
     "output_type": "stream",
     "text": [
      " 74%|███████▍  | 1475/2000 [02:35<00:44, 11.88it/s]"
     ]
    },
    {
     "name": "stdout",
     "output_type": "stream",
     "text": [
      "Training_loss 0.09303,   Relative Error 0.10815\n",
      "Training_loss 0.09287,   Relative Error 0.10805\n",
      "Training_loss 0.09278,   Relative Error 0.10800\n"
     ]
    },
    {
     "name": "stderr",
     "output_type": "stream",
     "text": [
      "\r",
      " 74%|███████▍  | 1477/2000 [02:35<00:44, 11.65it/s]"
     ]
    },
    {
     "name": "stdout",
     "output_type": "stream",
     "text": [
      "Training_loss 0.09240,   Relative Error 0.10776\n",
      "Training_loss 0.09234,   Relative Error 0.10772\n",
      "Training_loss 0.09201,   Relative Error 0.10752\n"
     ]
    },
    {
     "name": "stderr",
     "output_type": "stream",
     "text": [
      " 74%|███████▍  | 1481/2000 [02:35<00:44, 11.66it/s]"
     ]
    },
    {
     "name": "stdout",
     "output_type": "stream",
     "text": [
      "Training_loss 0.09183,   Relative Error 0.10741\n",
      "Training_loss 0.09138,   Relative Error 0.10715\n",
      "Training_loss 0.09121,   Relative Error 0.10705\n"
     ]
    },
    {
     "name": "stderr",
     "output_type": "stream",
     "text": [
      "\r",
      " 74%|███████▍  | 1483/2000 [02:35<00:43, 11.98it/s]"
     ]
    },
    {
     "name": "stdout",
     "output_type": "stream",
     "text": [
      "Training_loss 0.09107,   Relative Error 0.10696\n",
      "Training_loss 0.09085,   Relative Error 0.10682\n",
      "Training_loss 0.09069,   Relative Error 0.10672\n"
     ]
    },
    {
     "name": "stderr",
     "output_type": "stream",
     "text": [
      " 74%|███████▍  | 1487/2000 [02:36<00:40, 12.58it/s]"
     ]
    },
    {
     "name": "stdout",
     "output_type": "stream",
     "text": [
      "Training_loss 0.09045,   Relative Error 0.10657\n",
      "Training_loss 0.09049,   Relative Error 0.10659\n",
      "Training_loss 0.09010,   Relative Error 0.10635\n"
     ]
    },
    {
     "name": "stderr",
     "output_type": "stream",
     "text": [
      "\r",
      " 74%|███████▍  | 1489/2000 [02:36<00:41, 12.21it/s]"
     ]
    },
    {
     "name": "stdout",
     "output_type": "stream",
     "text": [
      "Training_loss 0.08983,   Relative Error 0.10618\n",
      "Training_loss 0.08971,   Relative Error 0.10610\n",
      "Training_loss 0.08929,   Relative Error 0.10585\n"
     ]
    },
    {
     "name": "stderr",
     "output_type": "stream",
     "text": [
      " 75%|███████▍  | 1493/2000 [02:36<00:40, 12.48it/s]"
     ]
    },
    {
     "name": "stdout",
     "output_type": "stream",
     "text": [
      "Training_loss 0.08902,   Relative Error 0.10569\n",
      "Training_loss 0.08907,   Relative Error 0.10572\n",
      "Training_loss 0.08868,   Relative Error 0.10548\n"
     ]
    },
    {
     "name": "stderr",
     "output_type": "stream",
     "text": [
      "\r",
      " 75%|███████▍  | 1495/2000 [02:36<00:41, 12.19it/s]"
     ]
    },
    {
     "name": "stdout",
     "output_type": "stream",
     "text": [
      "Training_loss 0.08822,   Relative Error 0.10522\n",
      "Training_loss 0.08807,   Relative Error 0.10512\n",
      "Training_loss 0.08807,   Relative Error 0.10512\n"
     ]
    },
    {
     "name": "stderr",
     "output_type": "stream",
     "text": [
      " 75%|███████▍  | 1499/2000 [02:37<00:41, 12.04it/s]"
     ]
    },
    {
     "name": "stdout",
     "output_type": "stream",
     "text": [
      "Training_loss 0.08796,   Relative Error 0.10504\n",
      "Training_loss 0.08791,   Relative Error 0.10500\n",
      "Training_loss 0.08766,   Relative Error 0.10485\n"
     ]
    },
    {
     "name": "stderr",
     "output_type": "stream",
     "text": [
      " 75%|███████▌  | 1503/2000 [02:37<00:37, 13.16it/s]"
     ]
    },
    {
     "name": "stdout",
     "output_type": "stream",
     "text": [
      "Training_loss 0.08739,   Relative Error 0.10468\n",
      "Training_loss 0.08706,   Relative Error 0.10448\n",
      "Training_loss 0.08691,   Relative Error 0.10439\n",
      "Training_loss 0.08685,   Relative Error 0.10434\n"
     ]
    },
    {
     "name": "stderr",
     "output_type": "stream",
     "text": [
      "\r",
      " 75%|███████▌  | 1505/2000 [02:37<00:38, 12.77it/s]"
     ]
    },
    {
     "name": "stdout",
     "output_type": "stream",
     "text": [
      "Training_loss 0.08686,   Relative Error 0.10434\n",
      "Training_loss 0.08667,   Relative Error 0.10421\n",
      "Training_loss 0.08637,   Relative Error 0.10402\n"
     ]
    },
    {
     "name": "stderr",
     "output_type": "stream",
     "text": [
      " 75%|███████▌  | 1509/2000 [02:37<00:38, 12.71it/s]"
     ]
    },
    {
     "name": "stdout",
     "output_type": "stream",
     "text": [
      "Training_loss 0.08605,   Relative Error 0.10384\n",
      "Training_loss 0.08598,   Relative Error 0.10379\n",
      "Training_loss 0.08600,   Relative Error 0.10379\n"
     ]
    },
    {
     "name": "stderr",
     "output_type": "stream",
     "text": [
      "\r",
      " 76%|███████▌  | 1511/2000 [02:37<00:40, 12.18it/s]"
     ]
    },
    {
     "name": "stdout",
     "output_type": "stream",
     "text": [
      "Training_loss 0.08591,   Relative Error 0.10373\n",
      "Training_loss 0.08585,   Relative Error 0.10368\n",
      "Training_loss 0.08591,   Relative Error 0.10371\n"
     ]
    },
    {
     "name": "stderr",
     "output_type": "stream",
     "text": [
      " 76%|███████▌  | 1515/2000 [02:38<00:39, 12.37it/s]"
     ]
    },
    {
     "name": "stdout",
     "output_type": "stream",
     "text": [
      "Training_loss 0.08564,   Relative Error 0.10355\n",
      "Training_loss 0.08544,   Relative Error 0.10342\n",
      "Training_loss 0.08529,   Relative Error 0.10333\n"
     ]
    },
    {
     "name": "stderr",
     "output_type": "stream",
     "text": [
      "\r",
      " 76%|███████▌  | 1517/2000 [02:38<00:40, 12.02it/s]"
     ]
    },
    {
     "name": "stdout",
     "output_type": "stream",
     "text": [
      "Training_loss 0.08518,   Relative Error 0.10326\n",
      "Training_loss 0.08516,   Relative Error 0.10324\n",
      "Training_loss 0.08509,   Relative Error 0.10319\n"
     ]
    },
    {
     "name": "stderr",
     "output_type": "stream",
     "text": [
      " 76%|███████▌  | 1521/2000 [02:38<00:38, 12.55it/s]"
     ]
    },
    {
     "name": "stdout",
     "output_type": "stream",
     "text": [
      "Training_loss 0.08466,   Relative Error 0.10293\n",
      "Training_loss 0.08445,   Relative Error 0.10280\n",
      "Training_loss 0.08438,   Relative Error 0.10276\n"
     ]
    },
    {
     "name": "stderr",
     "output_type": "stream",
     "text": [
      "\r",
      " 76%|███████▌  | 1523/2000 [02:38<00:37, 12.56it/s]"
     ]
    },
    {
     "name": "stdout",
     "output_type": "stream",
     "text": [
      "Training_loss 0.08417,   Relative Error 0.10262\n",
      "Training_loss 0.08410,   Relative Error 0.10258\n",
      "Training_loss 0.08393,   Relative Error 0.10247\n"
     ]
    },
    {
     "name": "stderr",
     "output_type": "stream",
     "text": [
      " 76%|███████▋  | 1527/2000 [02:39<00:37, 12.68it/s]"
     ]
    },
    {
     "name": "stdout",
     "output_type": "stream",
     "text": [
      "Training_loss 0.08390,   Relative Error 0.10245\n",
      "Training_loss 0.08368,   Relative Error 0.10231\n",
      "Training_loss 0.08356,   Relative Error 0.10223\n"
     ]
    },
    {
     "name": "stderr",
     "output_type": "stream",
     "text": [
      "\r",
      " 76%|███████▋  | 1529/2000 [02:39<00:38, 12.27it/s]"
     ]
    },
    {
     "name": "stdout",
     "output_type": "stream",
     "text": [
      "Training_loss 0.08339,   Relative Error 0.10212\n",
      "Training_loss 0.08318,   Relative Error 0.10199\n"
     ]
    },
    {
     "name": "stderr",
     "output_type": "stream",
     "text": [
      "\r",
      " 77%|███████▋  | 1531/2000 [02:39<00:40, 11.53it/s]"
     ]
    },
    {
     "name": "stdout",
     "output_type": "stream",
     "text": [
      "Training_loss 0.08300,   Relative Error 0.10187\n",
      "Training_loss 0.08272,   Relative Error 0.10169\n",
      "Training_loss 0.08251,   Relative Error 0.10156\n"
     ]
    },
    {
     "name": "stderr",
     "output_type": "stream",
     "text": [
      " 77%|███████▋  | 1535/2000 [02:39<00:40, 11.49it/s]"
     ]
    },
    {
     "name": "stdout",
     "output_type": "stream",
     "text": [
      "Training_loss 0.08239,   Relative Error 0.10148\n",
      "Training_loss 0.08218,   Relative Error 0.10135\n",
      "Training_loss 0.08201,   Relative Error 0.10124\n"
     ]
    },
    {
     "name": "stderr",
     "output_type": "stream",
     "text": [
      "\r",
      " 77%|███████▋  | 1537/2000 [02:40<00:38, 12.07it/s]"
     ]
    },
    {
     "name": "stdout",
     "output_type": "stream",
     "text": [
      "Training_loss 0.08184,   Relative Error 0.10113\n",
      "Training_loss 0.08165,   Relative Error 0.10101\n",
      "Training_loss 0.08153,   Relative Error 0.10093\n"
     ]
    },
    {
     "name": "stderr",
     "output_type": "stream",
     "text": [
      " 77%|███████▋  | 1541/2000 [02:40<00:35, 12.97it/s]"
     ]
    },
    {
     "name": "stdout",
     "output_type": "stream",
     "text": [
      "Training_loss 0.08140,   Relative Error 0.10085\n",
      "Training_loss 0.08135,   Relative Error 0.10081\n",
      "Training_loss 0.08131,   Relative Error 0.10079\n"
     ]
    },
    {
     "name": "stderr",
     "output_type": "stream",
     "text": [
      "\r",
      " 77%|███████▋  | 1543/2000 [02:40<00:36, 12.57it/s]"
     ]
    },
    {
     "name": "stdout",
     "output_type": "stream",
     "text": [
      "Training_loss 0.08107,   Relative Error 0.10063\n",
      "Training_loss 0.08097,   Relative Error 0.10057\n",
      "Training_loss 0.08074,   Relative Error 0.10041\n"
     ]
    },
    {
     "name": "stderr",
     "output_type": "stream",
     "text": [
      " 77%|███████▋  | 1547/2000 [02:40<00:37, 11.95it/s]"
     ]
    },
    {
     "name": "stdout",
     "output_type": "stream",
     "text": [
      "Training_loss 0.08038,   Relative Error 0.10018\n",
      "Training_loss 0.08025,   Relative Error 0.10010\n",
      "Training_loss 0.08002,   Relative Error 0.09995\n"
     ]
    },
    {
     "name": "stderr",
     "output_type": "stream",
     "text": [
      "\r",
      " 77%|███████▋  | 1549/2000 [02:41<00:39, 11.31it/s]"
     ]
    },
    {
     "name": "stdout",
     "output_type": "stream",
     "text": [
      "Training_loss 0.08001,   Relative Error 0.09994\n",
      "Training_loss 0.07984,   Relative Error 0.09983\n",
      "Training_loss 0.07971,   Relative Error 0.09975\n"
     ]
    },
    {
     "name": "stderr",
     "output_type": "stream",
     "text": [
      " 78%|███████▊  | 1553/2000 [02:41<00:41, 10.73it/s]"
     ]
    },
    {
     "name": "stdout",
     "output_type": "stream",
     "text": [
      "Training_loss 0.07957,   Relative Error 0.09965\n",
      "Training_loss 0.07931,   Relative Error 0.09948\n",
      "Training_loss 0.07925,   Relative Error 0.09944\n"
     ]
    },
    {
     "name": "stderr",
     "output_type": "stream",
     "text": [
      "\r",
      " 78%|███████▊  | 1555/2000 [02:41<00:40, 11.04it/s]"
     ]
    },
    {
     "name": "stdout",
     "output_type": "stream",
     "text": [
      "Training_loss 0.07902,   Relative Error 0.09929\n",
      "Training_loss 0.07903,   Relative Error 0.09929\n",
      "Training_loss 0.07877,   Relative Error 0.09913\n"
     ]
    },
    {
     "name": "stderr",
     "output_type": "stream",
     "text": [
      " 78%|███████▊  | 1559/2000 [02:41<00:37, 11.75it/s]"
     ]
    },
    {
     "name": "stdout",
     "output_type": "stream",
     "text": [
      "Training_loss 0.07869,   Relative Error 0.09907\n",
      "Training_loss 0.07849,   Relative Error 0.09895\n",
      "Training_loss 0.07837,   Relative Error 0.09887\n"
     ]
    },
    {
     "name": "stderr",
     "output_type": "stream",
     "text": [
      "\r",
      " 78%|███████▊  | 1561/2000 [02:42<00:37, 11.62it/s]"
     ]
    },
    {
     "name": "stdout",
     "output_type": "stream",
     "text": [
      "Training_loss 0.07838,   Relative Error 0.09887\n",
      "Training_loss 0.07836,   Relative Error 0.09885\n",
      "Training_loss 0.07810,   Relative Error 0.09868\n"
     ]
    },
    {
     "name": "stderr",
     "output_type": "stream",
     "text": [
      " 78%|███████▊  | 1565/2000 [02:42<00:36, 11.85it/s]"
     ]
    },
    {
     "name": "stdout",
     "output_type": "stream",
     "text": [
      "Training_loss 0.07799,   Relative Error 0.09860\n",
      "Training_loss 0.07781,   Relative Error 0.09849\n",
      "Training_loss 0.07756,   Relative Error 0.09834\n"
     ]
    },
    {
     "name": "stderr",
     "output_type": "stream",
     "text": [
      "\r",
      " 78%|███████▊  | 1567/2000 [02:42<00:36, 12.01it/s]"
     ]
    },
    {
     "name": "stdout",
     "output_type": "stream",
     "text": [
      "Training_loss 0.07745,   Relative Error 0.09826\n",
      "Training_loss 0.07740,   Relative Error 0.09822\n",
      "Training_loss 0.07713,   Relative Error 0.09805\n"
     ]
    },
    {
     "name": "stderr",
     "output_type": "stream",
     "text": [
      "\r",
      " 78%|███████▊  | 1569/2000 [02:42<00:35, 12.26it/s]"
     ]
    },
    {
     "name": "stdout",
     "output_type": "stream",
     "text": [
      "Training_loss 0.07681,   Relative Error 0.09784\n",
      "Training_loss 0.07689,   Relative Error 0.09790\n"
     ]
    },
    {
     "name": "stderr",
     "output_type": "stream",
     "text": [
      " 79%|███████▊  | 1573/2000 [02:43<00:39, 10.90it/s]"
     ]
    },
    {
     "name": "stdout",
     "output_type": "stream",
     "text": [
      "Training_loss 0.07691,   Relative Error 0.09790\n",
      "Training_loss 0.07679,   Relative Error 0.09782\n",
      "Training_loss 0.07665,   Relative Error 0.09772\n"
     ]
    },
    {
     "name": "stderr",
     "output_type": "stream",
     "text": [
      "\r",
      " 79%|███████▉  | 1575/2000 [02:43<00:40, 10.60it/s]"
     ]
    },
    {
     "name": "stdout",
     "output_type": "stream",
     "text": [
      "Training_loss 0.07653,   Relative Error 0.09764\n",
      "Training_loss 0.07650,   Relative Error 0.09762\n"
     ]
    },
    {
     "name": "stderr",
     "output_type": "stream",
     "text": [
      "\r",
      " 79%|███████▉  | 1577/2000 [02:43<00:45,  9.37it/s]"
     ]
    },
    {
     "name": "stdout",
     "output_type": "stream",
     "text": [
      "Training_loss 0.07640,   Relative Error 0.09754\n",
      "Training_loss 0.07607,   Relative Error 0.09733\n"
     ]
    },
    {
     "name": "stderr",
     "output_type": "stream",
     "text": [
      " 79%|███████▉  | 1579/2000 [02:43<00:44,  9.47it/s]"
     ]
    },
    {
     "name": "stdout",
     "output_type": "stream",
     "text": [
      "Training_loss 0.07591,   Relative Error 0.09722\n",
      "Training_loss 0.07593,   Relative Error 0.09723\n",
      "Training_loss 0.07564,   Relative Error 0.09704\n"
     ]
    },
    {
     "name": "stderr",
     "output_type": "stream",
     "text": [
      " 79%|███████▉  | 1583/2000 [02:44<00:38, 10.93it/s]"
     ]
    },
    {
     "name": "stdout",
     "output_type": "stream",
     "text": [
      "Training_loss 0.07541,   Relative Error 0.09689\n",
      "Training_loss 0.07514,   Relative Error 0.09672\n",
      "Training_loss 0.07513,   Relative Error 0.09671\n"
     ]
    },
    {
     "name": "stderr",
     "output_type": "stream",
     "text": [
      "\r",
      " 79%|███████▉  | 1585/2000 [02:44<00:54,  7.64it/s]"
     ]
    },
    {
     "name": "stdout",
     "output_type": "stream",
     "text": [
      "Training_loss 0.07502,   Relative Error 0.09663\n",
      "Training_loss 0.07485,   Relative Error 0.09652\n"
     ]
    },
    {
     "name": "stderr",
     "output_type": "stream",
     "text": [
      " 79%|███████▉  | 1587/2000 [02:44<00:51,  7.94it/s]"
     ]
    },
    {
     "name": "stdout",
     "output_type": "stream",
     "text": [
      "Training_loss 0.07482,   Relative Error 0.09649\n",
      "Training_loss 0.07460,   Relative Error 0.09634\n"
     ]
    },
    {
     "name": "stderr",
     "output_type": "stream",
     "text": [
      "\r",
      " 79%|███████▉  | 1589/2000 [02:45<00:47,  8.70it/s]"
     ]
    },
    {
     "name": "stdout",
     "output_type": "stream",
     "text": [
      "Training_loss 0.07457,   Relative Error 0.09632\n",
      "Training_loss 0.07439,   Relative Error 0.09620\n",
      "Training_loss 0.07439,   Relative Error 0.09620\n"
     ]
    },
    {
     "name": "stderr",
     "output_type": "stream",
     "text": [
      " 80%|███████▉  | 1593/2000 [02:45<00:40,  9.99it/s]"
     ]
    },
    {
     "name": "stdout",
     "output_type": "stream",
     "text": [
      "Training_loss 0.07429,   Relative Error 0.09612\n",
      "Training_loss 0.07402,   Relative Error 0.09594\n",
      "Training_loss 0.07389,   Relative Error 0.09585\n"
     ]
    },
    {
     "name": "stderr",
     "output_type": "stream",
     "text": [
      "\r",
      " 80%|███████▉  | 1595/2000 [02:45<00:38, 10.52it/s]"
     ]
    },
    {
     "name": "stdout",
     "output_type": "stream",
     "text": [
      "Training_loss 0.07363,   Relative Error 0.09569\n",
      "Training_loss 0.07348,   Relative Error 0.09558\n",
      "Training_loss 0.07324,   Relative Error 0.09542\n"
     ]
    },
    {
     "name": "stderr",
     "output_type": "stream",
     "text": [
      " 80%|███████▉  | 1599/2000 [02:45<00:38, 10.36it/s]"
     ]
    },
    {
     "name": "stdout",
     "output_type": "stream",
     "text": [
      "Training_loss 0.07310,   Relative Error 0.09532\n",
      "Training_loss 0.07309,   Relative Error 0.09531\n",
      "Training_loss 0.07300,   Relative Error 0.09525\n"
     ]
    },
    {
     "name": "stderr",
     "output_type": "stream",
     "text": [
      "\r",
      " 80%|████████  | 1601/2000 [02:46<00:37, 10.53it/s]"
     ]
    },
    {
     "name": "stdout",
     "output_type": "stream",
     "text": [
      "Training_loss 0.07299,   Relative Error 0.09524\n",
      "Training_loss 0.07290,   Relative Error 0.09519\n",
      "Training_loss 0.07279,   Relative Error 0.09511\n"
     ]
    },
    {
     "name": "stderr",
     "output_type": "stream",
     "text": [
      "\r",
      " 80%|████████  | 1603/2000 [02:46<00:39, 10.17it/s]"
     ]
    },
    {
     "name": "stdout",
     "output_type": "stream",
     "text": [
      "Training_loss 0.07262,   Relative Error 0.09499\n",
      "Training_loss 0.07255,   Relative Error 0.09494\n"
     ]
    },
    {
     "name": "stderr",
     "output_type": "stream",
     "text": [
      "\r",
      " 80%|████████  | 1605/2000 [02:46<00:40,  9.86it/s]"
     ]
    },
    {
     "name": "stdout",
     "output_type": "stream",
     "text": [
      "Training_loss 0.07260,   Relative Error 0.09497\n",
      "Training_loss 0.07253,   Relative Error 0.09492\n"
     ]
    },
    {
     "name": "stderr",
     "output_type": "stream",
     "text": [
      " 80%|████████  | 1608/2000 [02:46<00:42,  9.14it/s]"
     ]
    },
    {
     "name": "stdout",
     "output_type": "stream",
     "text": [
      "Training_loss 0.07257,   Relative Error 0.09494\n",
      "Training_loss 0.07250,   Relative Error 0.09489\n"
     ]
    },
    {
     "name": "stderr",
     "output_type": "stream",
     "text": [
      " 81%|████████  | 1611/2000 [02:47<00:37, 10.40it/s]"
     ]
    },
    {
     "name": "stdout",
     "output_type": "stream",
     "text": [
      "Training_loss 0.07248,   Relative Error 0.09488\n",
      "Training_loss 0.07227,   Relative Error 0.09473\n",
      "Training_loss 0.07217,   Relative Error 0.09466\n"
     ]
    },
    {
     "name": "stderr",
     "output_type": "stream",
     "text": [
      "\r",
      " 81%|████████  | 1613/2000 [02:47<00:34, 11.29it/s]"
     ]
    },
    {
     "name": "stdout",
     "output_type": "stream",
     "text": [
      "Training_loss 0.07179,   Relative Error 0.09441\n",
      "Training_loss 0.07184,   Relative Error 0.09444\n",
      "Training_loss 0.07175,   Relative Error 0.09437\n"
     ]
    },
    {
     "name": "stderr",
     "output_type": "stream",
     "text": [
      " 81%|████████  | 1617/2000 [02:47<00:33, 11.32it/s]"
     ]
    },
    {
     "name": "stdout",
     "output_type": "stream",
     "text": [
      "Training_loss 0.07171,   Relative Error 0.09434\n",
      "Training_loss 0.07149,   Relative Error 0.09419\n",
      "Training_loss 0.07150,   Relative Error 0.09419\n"
     ]
    },
    {
     "name": "stderr",
     "output_type": "stream",
     "text": [
      "\r",
      " 81%|████████  | 1619/2000 [02:47<00:33, 11.33it/s]"
     ]
    },
    {
     "name": "stdout",
     "output_type": "stream",
     "text": [
      "Training_loss 0.07142,   Relative Error 0.09413\n",
      "Training_loss 0.07134,   Relative Error 0.09408\n",
      "Training_loss 0.07135,   Relative Error 0.09408\n"
     ]
    },
    {
     "name": "stderr",
     "output_type": "stream",
     "text": [
      " 81%|████████  | 1623/2000 [02:48<00:33, 11.17it/s]"
     ]
    },
    {
     "name": "stdout",
     "output_type": "stream",
     "text": [
      "Training_loss 0.07137,   Relative Error 0.09408\n",
      "Training_loss 0.07123,   Relative Error 0.09399\n",
      "Training_loss 0.07126,   Relative Error 0.09400\n"
     ]
    },
    {
     "name": "stderr",
     "output_type": "stream",
     "text": [
      "\r",
      " 81%|████████▏ | 1625/2000 [02:48<00:34, 10.74it/s]"
     ]
    },
    {
     "name": "stdout",
     "output_type": "stream",
     "text": [
      "Training_loss 0.07127,   Relative Error 0.09400\n",
      "Training_loss 0.07110,   Relative Error 0.09389\n",
      "Training_loss 0.07095,   Relative Error 0.09378\n"
     ]
    },
    {
     "name": "stderr",
     "output_type": "stream",
     "text": [
      " 81%|████████▏ | 1629/2000 [02:48<00:36, 10.30it/s]"
     ]
    },
    {
     "name": "stdout",
     "output_type": "stream",
     "text": [
      "Training_loss 0.07069,   Relative Error 0.09361\n",
      "Training_loss 0.07063,   Relative Error 0.09357\n",
      "Training_loss 0.07050,   Relative Error 0.09348\n"
     ]
    },
    {
     "name": "stderr",
     "output_type": "stream",
     "text": [
      "\r",
      " 82%|████████▏ | 1631/2000 [02:49<00:36, 10.24it/s]"
     ]
    },
    {
     "name": "stdout",
     "output_type": "stream",
     "text": [
      "Training_loss 0.07044,   Relative Error 0.09344\n",
      "Training_loss 0.07044,   Relative Error 0.09343\n",
      "Training_loss 0.07038,   Relative Error 0.09338\n"
     ]
    },
    {
     "name": "stderr",
     "output_type": "stream",
     "text": [
      " 82%|████████▏ | 1635/2000 [02:49<00:34, 10.69it/s]"
     ]
    },
    {
     "name": "stdout",
     "output_type": "stream",
     "text": [
      "Training_loss 0.07022,   Relative Error 0.09327\n",
      "Training_loss 0.07033,   Relative Error 0.09333\n",
      "Training_loss 0.07036,   Relative Error 0.09335\n"
     ]
    },
    {
     "name": "stderr",
     "output_type": "stream",
     "text": [
      "\r",
      " 82%|████████▏ | 1637/2000 [02:49<00:33, 10.94it/s]"
     ]
    },
    {
     "name": "stdout",
     "output_type": "stream",
     "text": [
      "Training_loss 0.07014,   Relative Error 0.09320\n",
      "Training_loss 0.06996,   Relative Error 0.09308\n",
      "Training_loss 0.06987,   Relative Error 0.09301\n"
     ]
    },
    {
     "name": "stderr",
     "output_type": "stream",
     "text": [
      " 82%|████████▏ | 1641/2000 [02:49<00:30, 11.74it/s]"
     ]
    },
    {
     "name": "stdout",
     "output_type": "stream",
     "text": [
      "Training_loss 0.06974,   Relative Error 0.09292\n",
      "Training_loss 0.06962,   Relative Error 0.09283\n",
      "Training_loss 0.06965,   Relative Error 0.09285\n"
     ]
    },
    {
     "name": "stderr",
     "output_type": "stream",
     "text": [
      "\r",
      " 82%|████████▏ | 1643/2000 [02:50<00:32, 10.87it/s]"
     ]
    },
    {
     "name": "stdout",
     "output_type": "stream",
     "text": [
      "Training_loss 0.06967,   Relative Error 0.09286\n",
      "Training_loss 0.06963,   Relative Error 0.09283\n",
      "Training_loss 0.06947,   Relative Error 0.09272\n"
     ]
    },
    {
     "name": "stderr",
     "output_type": "stream",
     "text": [
      " 82%|████████▏ | 1647/2000 [02:50<00:31, 11.07it/s]"
     ]
    },
    {
     "name": "stdout",
     "output_type": "stream",
     "text": [
      "Training_loss 0.06924,   Relative Error 0.09256\n",
      "Training_loss 0.06906,   Relative Error 0.09243\n",
      "Training_loss 0.06885,   Relative Error 0.09229\n"
     ]
    },
    {
     "name": "stderr",
     "output_type": "stream",
     "text": [
      "\r",
      " 82%|████████▏ | 1649/2000 [02:50<00:29, 11.95it/s]"
     ]
    },
    {
     "name": "stdout",
     "output_type": "stream",
     "text": [
      "Training_loss 0.06869,   Relative Error 0.09217\n",
      "Training_loss 0.06869,   Relative Error 0.09217\n",
      "Training_loss 0.06842,   Relative Error 0.09199\n"
     ]
    },
    {
     "name": "stderr",
     "output_type": "stream",
     "text": [
      " 83%|████████▎ | 1653/2000 [02:50<00:27, 12.63it/s]"
     ]
    },
    {
     "name": "stdout",
     "output_type": "stream",
     "text": [
      "Training_loss 0.06836,   Relative Error 0.09194\n",
      "Training_loss 0.06818,   Relative Error 0.09182\n",
      "Training_loss 0.06805,   Relative Error 0.09173\n"
     ]
    },
    {
     "name": "stderr",
     "output_type": "stream",
     "text": [
      "\r",
      " 83%|████████▎ | 1655/2000 [02:51<00:27, 12.64it/s]"
     ]
    },
    {
     "name": "stdout",
     "output_type": "stream",
     "text": [
      "Training_loss 0.06814,   Relative Error 0.09179\n",
      "Training_loss 0.06820,   Relative Error 0.09182\n",
      "Training_loss 0.06797,   Relative Error 0.09166\n"
     ]
    },
    {
     "name": "stderr",
     "output_type": "stream",
     "text": [
      "\r",
      " 83%|████████▎ | 1657/2000 [02:51<00:27, 12.52it/s]"
     ]
    },
    {
     "name": "stdout",
     "output_type": "stream",
     "text": [
      "Training_loss 0.06778,   Relative Error 0.09153\n",
      "Training_loss 0.06739,   Relative Error 0.09126\n"
     ]
    },
    {
     "name": "stderr",
     "output_type": "stream",
     "text": [
      " 83%|████████▎ | 1661/2000 [02:51<00:30, 11.16it/s]"
     ]
    },
    {
     "name": "stdout",
     "output_type": "stream",
     "text": [
      "Training_loss 0.06728,   Relative Error 0.09118\n",
      "Training_loss 0.06695,   Relative Error 0.09095\n",
      "Training_loss 0.06691,   Relative Error 0.09092\n"
     ]
    },
    {
     "name": "stderr",
     "output_type": "stream",
     "text": [
      "\r",
      " 83%|████████▎ | 1663/2000 [02:51<00:28, 11.98it/s]"
     ]
    },
    {
     "name": "stdout",
     "output_type": "stream",
     "text": [
      "Training_loss 0.06686,   Relative Error 0.09088\n",
      "Training_loss 0.06678,   Relative Error 0.09082\n",
      "Training_loss 0.06675,   Relative Error 0.09080\n"
     ]
    },
    {
     "name": "stderr",
     "output_type": "stream",
     "text": [
      " 83%|████████▎ | 1667/2000 [02:52<00:27, 11.90it/s]"
     ]
    },
    {
     "name": "stdout",
     "output_type": "stream",
     "text": [
      "Training_loss 0.06635,   Relative Error 0.09052\n",
      "Training_loss 0.06625,   Relative Error 0.09045\n",
      "Training_loss 0.06626,   Relative Error 0.09045\n"
     ]
    },
    {
     "name": "stderr",
     "output_type": "stream",
     "text": [
      " 84%|████████▎ | 1671/2000 [02:52<00:25, 12.69it/s]"
     ]
    },
    {
     "name": "stdout",
     "output_type": "stream",
     "text": [
      "Training_loss 0.06620,   Relative Error 0.09040\n",
      "Training_loss 0.06615,   Relative Error 0.09036\n",
      "Training_loss 0.06619,   Relative Error 0.09039\n",
      "Training_loss 0.06612,   Relative Error 0.09034\n"
     ]
    },
    {
     "name": "stderr",
     "output_type": "stream",
     "text": [
      "\r",
      " 84%|████████▎ | 1673/2000 [02:52<00:26, 12.25it/s]"
     ]
    },
    {
     "name": "stdout",
     "output_type": "stream",
     "text": [
      "Training_loss 0.06607,   Relative Error 0.09030\n",
      "Training_loss 0.06596,   Relative Error 0.09022\n",
      "Training_loss 0.06592,   Relative Error 0.09018\n"
     ]
    },
    {
     "name": "stderr",
     "output_type": "stream",
     "text": [
      " 84%|████████▍ | 1677/2000 [02:52<00:25, 12.45it/s]"
     ]
    },
    {
     "name": "stdout",
     "output_type": "stream",
     "text": [
      "Training_loss 0.06585,   Relative Error 0.09013\n",
      "Training_loss 0.06564,   Relative Error 0.08999\n",
      "Training_loss 0.06570,   Relative Error 0.09003\n"
     ]
    },
    {
     "name": "stderr",
     "output_type": "stream",
     "text": [
      "\r",
      " 84%|████████▍ | 1679/2000 [02:53<00:24, 12.97it/s]"
     ]
    },
    {
     "name": "stdout",
     "output_type": "stream",
     "text": [
      "Training_loss 0.06559,   Relative Error 0.08995\n",
      "Training_loss 0.06552,   Relative Error 0.08990\n",
      "Training_loss 0.06555,   Relative Error 0.08992\n"
     ]
    },
    {
     "name": "stderr",
     "output_type": "stream",
     "text": [
      " 84%|████████▍ | 1683/2000 [02:53<00:24, 13.03it/s]"
     ]
    },
    {
     "name": "stdout",
     "output_type": "stream",
     "text": [
      "Training_loss 0.06540,   Relative Error 0.08981\n",
      "Training_loss 0.06532,   Relative Error 0.08976\n",
      "Training_loss 0.06535,   Relative Error 0.08978\n"
     ]
    },
    {
     "name": "stderr",
     "output_type": "stream",
     "text": [
      "\r",
      " 84%|████████▍ | 1685/2000 [02:53<00:25, 12.38it/s]"
     ]
    },
    {
     "name": "stdout",
     "output_type": "stream",
     "text": [
      "Training_loss 0.06535,   Relative Error 0.08978\n",
      "Training_loss 0.06528,   Relative Error 0.08972\n",
      "Training_loss 0.06512,   Relative Error 0.08961\n"
     ]
    },
    {
     "name": "stderr",
     "output_type": "stream",
     "text": [
      " 84%|████████▍ | 1689/2000 [02:53<00:24, 12.90it/s]"
     ]
    },
    {
     "name": "stdout",
     "output_type": "stream",
     "text": [
      "Training_loss 0.06500,   Relative Error 0.08952\n",
      "Training_loss 0.06475,   Relative Error 0.08935\n",
      "Training_loss 0.06480,   Relative Error 0.08938\n"
     ]
    },
    {
     "name": "stderr",
     "output_type": "stream",
     "text": [
      "\r",
      " 85%|████████▍ | 1691/2000 [02:54<00:25, 12.22it/s]"
     ]
    },
    {
     "name": "stdout",
     "output_type": "stream",
     "text": [
      "Training_loss 0.06458,   Relative Error 0.08923\n",
      "Training_loss 0.06458,   Relative Error 0.08922\n",
      "Training_loss 0.06455,   Relative Error 0.08920\n"
     ]
    },
    {
     "name": "stderr",
     "output_type": "stream",
     "text": [
      " 85%|████████▍ | 1695/2000 [02:54<00:26, 11.51it/s]"
     ]
    },
    {
     "name": "stdout",
     "output_type": "stream",
     "text": [
      "Training_loss 0.06430,   Relative Error 0.08903\n",
      "Training_loss 0.06424,   Relative Error 0.08899\n",
      "Training_loss 0.06422,   Relative Error 0.08897\n"
     ]
    },
    {
     "name": "stderr",
     "output_type": "stream",
     "text": [
      "\r",
      " 85%|████████▍ | 1697/2000 [02:54<00:23, 12.70it/s]"
     ]
    },
    {
     "name": "stdout",
     "output_type": "stream",
     "text": [
      "Training_loss 0.06422,   Relative Error 0.08897\n",
      "Training_loss 0.06404,   Relative Error 0.08884\n",
      "Training_loss 0.06395,   Relative Error 0.08878\n"
     ]
    },
    {
     "name": "stderr",
     "output_type": "stream",
     "text": [
      " 85%|████████▌ | 1701/2000 [02:54<00:22, 13.02it/s]"
     ]
    },
    {
     "name": "stdout",
     "output_type": "stream",
     "text": [
      "Training_loss 0.06381,   Relative Error 0.08866\n",
      "Training_loss 0.06370,   Relative Error 0.08859\n",
      "Training_loss 0.06357,   Relative Error 0.08850\n"
     ]
    },
    {
     "name": "stderr",
     "output_type": "stream",
     "text": [
      "\r",
      " 85%|████████▌ | 1703/2000 [02:54<00:24, 12.23it/s]"
     ]
    },
    {
     "name": "stdout",
     "output_type": "stream",
     "text": [
      "Training_loss 0.06364,   Relative Error 0.08853\n",
      "Training_loss 0.06361,   Relative Error 0.08852\n",
      "Training_loss 0.06352,   Relative Error 0.08845\n"
     ]
    },
    {
     "name": "stderr",
     "output_type": "stream",
     "text": [
      " 85%|████████▌ | 1707/2000 [02:55<00:23, 12.67it/s]"
     ]
    },
    {
     "name": "stdout",
     "output_type": "stream",
     "text": [
      "Training_loss 0.06354,   Relative Error 0.08846\n",
      "Training_loss 0.06348,   Relative Error 0.08841\n",
      "Training_loss 0.06348,   Relative Error 0.08842\n"
     ]
    },
    {
     "name": "stderr",
     "output_type": "stream",
     "text": [
      "\r",
      " 85%|████████▌ | 1709/2000 [02:55<00:22, 12.93it/s]"
     ]
    },
    {
     "name": "stdout",
     "output_type": "stream",
     "text": [
      "Training_loss 0.06356,   Relative Error 0.08846\n",
      "Training_loss 0.06351,   Relative Error 0.08843\n",
      "Training_loss 0.06343,   Relative Error 0.08837\n"
     ]
    },
    {
     "name": "stderr",
     "output_type": "stream",
     "text": [
      " 86%|████████▌ | 1713/2000 [02:55<00:21, 13.39it/s]"
     ]
    },
    {
     "name": "stdout",
     "output_type": "stream",
     "text": [
      "Training_loss 0.06334,   Relative Error 0.08830\n",
      "Training_loss 0.06328,   Relative Error 0.08826\n",
      "Training_loss 0.06319,   Relative Error 0.08819\n"
     ]
    },
    {
     "name": "stderr",
     "output_type": "stream",
     "text": [
      "\r",
      " 86%|████████▌ | 1715/2000 [02:55<00:22, 12.76it/s]"
     ]
    },
    {
     "name": "stdout",
     "output_type": "stream",
     "text": [
      "Training_loss 0.06311,   Relative Error 0.08812\n",
      "Training_loss 0.06312,   Relative Error 0.08813\n",
      "Training_loss 0.06291,   Relative Error 0.08798\n"
     ]
    },
    {
     "name": "stderr",
     "output_type": "stream",
     "text": [
      " 86%|████████▌ | 1719/2000 [02:56<00:22, 12.72it/s]"
     ]
    },
    {
     "name": "stdout",
     "output_type": "stream",
     "text": [
      "Training_loss 0.06293,   Relative Error 0.08799\n",
      "Training_loss 0.06288,   Relative Error 0.08795\n",
      "Training_loss 0.06286,   Relative Error 0.08793\n"
     ]
    },
    {
     "name": "stderr",
     "output_type": "stream",
     "text": [
      "\r",
      " 86%|████████▌ | 1721/2000 [02:56<00:23, 11.76it/s]"
     ]
    },
    {
     "name": "stdout",
     "output_type": "stream",
     "text": [
      "Training_loss 0.06277,   Relative Error 0.08786\n",
      "Training_loss 0.06269,   Relative Error 0.08780\n",
      "Training_loss 0.06240,   Relative Error 0.08760\n"
     ]
    },
    {
     "name": "stderr",
     "output_type": "stream",
     "text": [
      " 86%|████████▋ | 1725/2000 [02:56<00:21, 12.94it/s]"
     ]
    },
    {
     "name": "stdout",
     "output_type": "stream",
     "text": [
      "Training_loss 0.06243,   Relative Error 0.08761\n",
      "Training_loss 0.06249,   Relative Error 0.08765\n",
      "Training_loss 0.06253,   Relative Error 0.08767\n"
     ]
    },
    {
     "name": "stderr",
     "output_type": "stream",
     "text": [
      "\r",
      " 86%|████████▋ | 1727/2000 [02:56<00:20, 13.14it/s]"
     ]
    },
    {
     "name": "stdout",
     "output_type": "stream",
     "text": [
      "Training_loss 0.06247,   Relative Error 0.08764\n",
      "Training_loss 0.06247,   Relative Error 0.08763\n",
      "Training_loss 0.06251,   Relative Error 0.08765\n"
     ]
    },
    {
     "name": "stderr",
     "output_type": "stream",
     "text": [
      " 87%|████████▋ | 1731/2000 [02:57<00:22, 12.13it/s]"
     ]
    },
    {
     "name": "stdout",
     "output_type": "stream",
     "text": [
      "Training_loss 0.06251,   Relative Error 0.08765\n",
      "Training_loss 0.06236,   Relative Error 0.08755\n",
      "Training_loss 0.06236,   Relative Error 0.08754\n"
     ]
    },
    {
     "name": "stderr",
     "output_type": "stream",
     "text": [
      "\r",
      " 87%|████████▋ | 1733/2000 [02:57<00:21, 12.39it/s]"
     ]
    },
    {
     "name": "stdout",
     "output_type": "stream",
     "text": [
      "Training_loss 0.06236,   Relative Error 0.08754\n",
      "Training_loss 0.06243,   Relative Error 0.08758\n",
      "Training_loss 0.06243,   Relative Error 0.08757\n"
     ]
    },
    {
     "name": "stderr",
     "output_type": "stream",
     "text": [
      " 87%|████████▋ | 1737/2000 [02:57<00:20, 12.78it/s]"
     ]
    },
    {
     "name": "stdout",
     "output_type": "stream",
     "text": [
      "Training_loss 0.06226,   Relative Error 0.08746\n",
      "Training_loss 0.06223,   Relative Error 0.08743\n",
      "Training_loss 0.06211,   Relative Error 0.08734\n"
     ]
    },
    {
     "name": "stderr",
     "output_type": "stream",
     "text": [
      "\r",
      " 87%|████████▋ | 1739/2000 [02:57<00:21, 12.36it/s]"
     ]
    },
    {
     "name": "stdout",
     "output_type": "stream",
     "text": [
      "Training_loss 0.06208,   Relative Error 0.08732\n",
      "Training_loss 0.06197,   Relative Error 0.08724\n",
      "Training_loss 0.06198,   Relative Error 0.08724\n"
     ]
    },
    {
     "name": "stderr",
     "output_type": "stream",
     "text": [
      " 87%|████████▋ | 1743/2000 [02:58<00:20, 12.48it/s]"
     ]
    },
    {
     "name": "stdout",
     "output_type": "stream",
     "text": [
      "Training_loss 0.06183,   Relative Error 0.08714\n",
      "Training_loss 0.06174,   Relative Error 0.08707\n",
      "Training_loss 0.06168,   Relative Error 0.08702\n"
     ]
    },
    {
     "name": "stderr",
     "output_type": "stream",
     "text": [
      "\r",
      " 87%|████████▋ | 1745/2000 [02:58<00:21, 11.85it/s]"
     ]
    },
    {
     "name": "stdout",
     "output_type": "stream",
     "text": [
      "Training_loss 0.06159,   Relative Error 0.08695\n",
      "Training_loss 0.06153,   Relative Error 0.08690\n",
      "Training_loss 0.06140,   Relative Error 0.08681\n"
     ]
    },
    {
     "name": "stderr",
     "output_type": "stream",
     "text": [
      " 87%|████████▋ | 1749/2000 [02:58<00:20, 12.00it/s]"
     ]
    },
    {
     "name": "stdout",
     "output_type": "stream",
     "text": [
      "Training_loss 0.06131,   Relative Error 0.08675\n",
      "Training_loss 0.06118,   Relative Error 0.08665\n",
      "Training_loss 0.06106,   Relative Error 0.08656\n"
     ]
    },
    {
     "name": "stderr",
     "output_type": "stream",
     "text": [
      " 88%|████████▊ | 1753/2000 [02:58<00:18, 13.15it/s]"
     ]
    },
    {
     "name": "stdout",
     "output_type": "stream",
     "text": [
      "Training_loss 0.06094,   Relative Error 0.08647\n",
      "Training_loss 0.06082,   Relative Error 0.08638\n",
      "Training_loss 0.06075,   Relative Error 0.08633\n",
      "Training_loss 0.06068,   Relative Error 0.08628\n"
     ]
    },
    {
     "name": "stderr",
     "output_type": "stream",
     "text": [
      "\r",
      " 88%|████████▊ | 1755/2000 [02:59<00:19, 12.72it/s]"
     ]
    },
    {
     "name": "stdout",
     "output_type": "stream",
     "text": [
      "Training_loss 0.06050,   Relative Error 0.08614\n",
      "Training_loss 0.06034,   Relative Error 0.08602\n",
      "Training_loss 0.06020,   Relative Error 0.08591\n"
     ]
    },
    {
     "name": "stderr",
     "output_type": "stream",
     "text": [
      " 88%|████████▊ | 1759/2000 [02:59<00:19, 12.31it/s]"
     ]
    },
    {
     "name": "stdout",
     "output_type": "stream",
     "text": [
      "Training_loss 0.06008,   Relative Error 0.08583\n",
      "Training_loss 0.06001,   Relative Error 0.08577\n",
      "Training_loss 0.05978,   Relative Error 0.08560\n"
     ]
    },
    {
     "name": "stderr",
     "output_type": "stream",
     "text": [
      "\r",
      " 88%|████████▊ | 1761/2000 [02:59<00:19, 12.07it/s]"
     ]
    },
    {
     "name": "stdout",
     "output_type": "stream",
     "text": [
      "Training_loss 0.05951,   Relative Error 0.08540\n",
      "Training_loss 0.05944,   Relative Error 0.08535\n",
      "Training_loss 0.05948,   Relative Error 0.08538\n"
     ]
    },
    {
     "name": "stderr",
     "output_type": "stream",
     "text": [
      " 88%|████████▊ | 1765/2000 [02:59<00:19, 12.19it/s]"
     ]
    },
    {
     "name": "stdout",
     "output_type": "stream",
     "text": [
      "Training_loss 0.05949,   Relative Error 0.08538\n",
      "Training_loss 0.05955,   Relative Error 0.08542\n",
      "Training_loss 0.05937,   Relative Error 0.08529\n"
     ]
    },
    {
     "name": "stderr",
     "output_type": "stream",
     "text": [
      "\r",
      " 88%|████████▊ | 1767/2000 [03:00<00:19, 12.24it/s]"
     ]
    },
    {
     "name": "stdout",
     "output_type": "stream",
     "text": [
      "Training_loss 0.05928,   Relative Error 0.08522\n",
      "Training_loss 0.05918,   Relative Error 0.08515\n",
      "Training_loss 0.05919,   Relative Error 0.08516\n"
     ]
    },
    {
     "name": "stderr",
     "output_type": "stream",
     "text": [
      " 89%|████████▊ | 1771/2000 [03:00<00:20, 11.24it/s]"
     ]
    },
    {
     "name": "stdout",
     "output_type": "stream",
     "text": [
      "Training_loss 0.05924,   Relative Error 0.08518\n",
      "Training_loss 0.05897,   Relative Error 0.08499\n",
      "Training_loss 0.05883,   Relative Error 0.08488\n"
     ]
    },
    {
     "name": "stderr",
     "output_type": "stream",
     "text": [
      "\r",
      " 89%|████████▊ | 1773/2000 [03:00<00:20, 11.05it/s]"
     ]
    },
    {
     "name": "stdout",
     "output_type": "stream",
     "text": [
      "Training_loss 0.05894,   Relative Error 0.08496\n",
      "Training_loss 0.05894,   Relative Error 0.08495\n",
      "Training_loss 0.05892,   Relative Error 0.08493\n"
     ]
    },
    {
     "name": "stderr",
     "output_type": "stream",
     "text": [
      " 89%|████████▉ | 1777/2000 [03:01<00:20, 10.63it/s]"
     ]
    },
    {
     "name": "stdout",
     "output_type": "stream",
     "text": [
      "Training_loss 0.05884,   Relative Error 0.08487\n",
      "Training_loss 0.05876,   Relative Error 0.08481\n",
      "Training_loss 0.05875,   Relative Error 0.08480\n"
     ]
    },
    {
     "name": "stderr",
     "output_type": "stream",
     "text": [
      "\r",
      " 89%|████████▉ | 1779/2000 [03:01<00:21, 10.46it/s]"
     ]
    },
    {
     "name": "stdout",
     "output_type": "stream",
     "text": [
      "Training_loss 0.05877,   Relative Error 0.08481\n",
      "Training_loss 0.05878,   Relative Error 0.08482\n",
      "Training_loss 0.05863,   Relative Error 0.08471\n"
     ]
    },
    {
     "name": "stderr",
     "output_type": "stream",
     "text": [
      " 89%|████████▉ | 1783/2000 [03:01<00:20, 10.77it/s]"
     ]
    },
    {
     "name": "stdout",
     "output_type": "stream",
     "text": [
      "Training_loss 0.05860,   Relative Error 0.08468\n",
      "Training_loss 0.05868,   Relative Error 0.08473\n",
      "Training_loss 0.05852,   Relative Error 0.08461\n"
     ]
    },
    {
     "name": "stderr",
     "output_type": "stream",
     "text": [
      "\r",
      " 89%|████████▉ | 1785/2000 [03:01<00:19, 10.91it/s]"
     ]
    },
    {
     "name": "stdout",
     "output_type": "stream",
     "text": [
      "Training_loss 0.05854,   Relative Error 0.08462\n",
      "Training_loss 0.05853,   Relative Error 0.08461\n",
      "Training_loss 0.05838,   Relative Error 0.08450\n"
     ]
    },
    {
     "name": "stderr",
     "output_type": "stream",
     "text": [
      " 89%|████████▉ | 1789/2000 [03:02<00:18, 11.12it/s]"
     ]
    },
    {
     "name": "stdout",
     "output_type": "stream",
     "text": [
      "Training_loss 0.05835,   Relative Error 0.08448\n",
      "Training_loss 0.05824,   Relative Error 0.08440\n",
      "Training_loss 0.05826,   Relative Error 0.08441\n"
     ]
    },
    {
     "name": "stderr",
     "output_type": "stream",
     "text": [
      "\r",
      " 90%|████████▉ | 1791/2000 [03:02<00:18, 11.31it/s]"
     ]
    },
    {
     "name": "stdout",
     "output_type": "stream",
     "text": [
      "Training_loss 0.05820,   Relative Error 0.08436\n",
      "Training_loss 0.05825,   Relative Error 0.08440\n",
      "Training_loss 0.05820,   Relative Error 0.08436\n"
     ]
    },
    {
     "name": "stderr",
     "output_type": "stream",
     "text": [
      " 90%|████████▉ | 1795/2000 [03:02<00:19, 10.47it/s]"
     ]
    },
    {
     "name": "stdout",
     "output_type": "stream",
     "text": [
      "Training_loss 0.05817,   Relative Error 0.08433\n",
      "Training_loss 0.05823,   Relative Error 0.08437\n",
      "Training_loss 0.05823,   Relative Error 0.08437\n"
     ]
    },
    {
     "name": "stderr",
     "output_type": "stream",
     "text": [
      "\r",
      " 90%|████████▉ | 1797/2000 [03:02<00:20, 10.00it/s]"
     ]
    },
    {
     "name": "stdout",
     "output_type": "stream",
     "text": [
      "Training_loss 0.05824,   Relative Error 0.08438\n",
      "Training_loss 0.05816,   Relative Error 0.08432\n",
      "Training_loss 0.05817,   Relative Error 0.08432\n"
     ]
    },
    {
     "name": "stderr",
     "output_type": "stream",
     "text": [
      " 90%|█████████ | 1801/2000 [03:03<00:19, 10.06it/s]"
     ]
    },
    {
     "name": "stdout",
     "output_type": "stream",
     "text": [
      "Training_loss 0.05822,   Relative Error 0.08435\n",
      "Training_loss 0.05816,   Relative Error 0.08431\n",
      "Training_loss 0.05806,   Relative Error 0.08423\n"
     ]
    },
    {
     "name": "stderr",
     "output_type": "stream",
     "text": [
      "\r",
      " 90%|█████████ | 1803/2000 [03:03<00:19, 10.33it/s]"
     ]
    },
    {
     "name": "stdout",
     "output_type": "stream",
     "text": [
      "Training_loss 0.05799,   Relative Error 0.08418\n",
      "Training_loss 0.05795,   Relative Error 0.08415\n",
      "Training_loss 0.05770,   Relative Error 0.08397\n"
     ]
    },
    {
     "name": "stderr",
     "output_type": "stream",
     "text": [
      " 90%|█████████ | 1807/2000 [03:03<00:18, 10.59it/s]"
     ]
    },
    {
     "name": "stdout",
     "output_type": "stream",
     "text": [
      "Training_loss 0.05753,   Relative Error 0.08383\n",
      "Training_loss 0.05731,   Relative Error 0.08367\n",
      "Training_loss 0.05739,   Relative Error 0.08373\n"
     ]
    },
    {
     "name": "stderr",
     "output_type": "stream",
     "text": [
      "\r",
      " 90%|█████████ | 1809/2000 [03:04<00:18, 10.30it/s]"
     ]
    },
    {
     "name": "stdout",
     "output_type": "stream",
     "text": [
      "Training_loss 0.05739,   Relative Error 0.08372\n",
      "Training_loss 0.05740,   Relative Error 0.08373\n"
     ]
    },
    {
     "name": "stderr",
     "output_type": "stream",
     "text": [
      "\r",
      " 91%|█████████ | 1811/2000 [03:04<00:18, 10.25it/s]"
     ]
    },
    {
     "name": "stdout",
     "output_type": "stream",
     "text": [
      "Training_loss 0.05734,   Relative Error 0.08368\n",
      "Training_loss 0.05737,   Relative Error 0.08371\n"
     ]
    },
    {
     "name": "stderr",
     "output_type": "stream",
     "text": [
      "\r",
      " 91%|█████████ | 1813/2000 [03:04<00:18,  9.85it/s]"
     ]
    },
    {
     "name": "stdout",
     "output_type": "stream",
     "text": [
      "Training_loss 0.05731,   Relative Error 0.08366\n",
      "Training_loss 0.05735,   Relative Error 0.08368\n",
      "Training_loss 0.05729,   Relative Error 0.08363\n"
     ]
    },
    {
     "name": "stderr",
     "output_type": "stream",
     "text": [
      " 91%|█████████ | 1816/2000 [03:04<00:19,  9.41it/s]"
     ]
    },
    {
     "name": "stdout",
     "output_type": "stream",
     "text": [
      "Training_loss 0.05724,   Relative Error 0.08359\n",
      "Training_loss 0.05711,   Relative Error 0.08350\n",
      "Training_loss 0.05711,   Relative Error 0.08349\n"
     ]
    },
    {
     "name": "stderr",
     "output_type": "stream",
     "text": [
      "\r",
      " 91%|█████████ | 1818/2000 [03:05<00:17, 10.27it/s]"
     ]
    },
    {
     "name": "stdout",
     "output_type": "stream",
     "text": [
      "Training_loss 0.05700,   Relative Error 0.08341\n",
      "Training_loss 0.05706,   Relative Error 0.08345\n"
     ]
    },
    {
     "name": "stderr",
     "output_type": "stream",
     "text": [
      " 91%|█████████ | 1822/2000 [03:05<00:17, 10.40it/s]"
     ]
    },
    {
     "name": "stdout",
     "output_type": "stream",
     "text": [
      "Training_loss 0.05705,   Relative Error 0.08344\n",
      "Training_loss 0.05698,   Relative Error 0.08339\n",
      "Training_loss 0.05695,   Relative Error 0.08336\n"
     ]
    },
    {
     "name": "stderr",
     "output_type": "stream",
     "text": [
      "\r",
      " 91%|█████████ | 1824/2000 [03:05<00:16, 10.66it/s]"
     ]
    },
    {
     "name": "stdout",
     "output_type": "stream",
     "text": [
      "Training_loss 0.05702,   Relative Error 0.08341\n",
      "Training_loss 0.05691,   Relative Error 0.08333\n",
      "Training_loss 0.05693,   Relative Error 0.08334\n"
     ]
    },
    {
     "name": "stderr",
     "output_type": "stream",
     "text": [
      " 91%|█████████▏| 1828/2000 [03:05<00:15, 11.10it/s]"
     ]
    },
    {
     "name": "stdout",
     "output_type": "stream",
     "text": [
      "Training_loss 0.05669,   Relative Error 0.08316\n",
      "Training_loss 0.05661,   Relative Error 0.08310\n",
      "Training_loss 0.05652,   Relative Error 0.08303\n"
     ]
    },
    {
     "name": "stderr",
     "output_type": "stream",
     "text": [
      "\r",
      " 92%|█████████▏| 1830/2000 [03:06<00:14, 11.49it/s]"
     ]
    },
    {
     "name": "stdout",
     "output_type": "stream",
     "text": [
      "Training_loss 0.05649,   Relative Error 0.08300\n",
      "Training_loss 0.05643,   Relative Error 0.08295\n",
      "Training_loss 0.05647,   Relative Error 0.08298\n"
     ]
    },
    {
     "name": "stderr",
     "output_type": "stream",
     "text": [
      " 92%|█████████▏| 1834/2000 [03:06<00:14, 11.11it/s]"
     ]
    },
    {
     "name": "stdout",
     "output_type": "stream",
     "text": [
      "Training_loss 0.05641,   Relative Error 0.08294\n",
      "Training_loss 0.05645,   Relative Error 0.08296\n",
      "Training_loss 0.05635,   Relative Error 0.08289\n"
     ]
    },
    {
     "name": "stderr",
     "output_type": "stream",
     "text": [
      "\r",
      " 92%|█████████▏| 1836/2000 [03:06<00:13, 11.76it/s]"
     ]
    },
    {
     "name": "stdout",
     "output_type": "stream",
     "text": [
      "Training_loss 0.05614,   Relative Error 0.08273\n",
      "Training_loss 0.05616,   Relative Error 0.08274\n",
      "Training_loss 0.05619,   Relative Error 0.08276\n"
     ]
    },
    {
     "name": "stderr",
     "output_type": "stream",
     "text": [
      " 92%|█████████▏| 1840/2000 [03:06<00:13, 11.94it/s]"
     ]
    },
    {
     "name": "stdout",
     "output_type": "stream",
     "text": [
      "Training_loss 0.05627,   Relative Error 0.08281\n",
      "Training_loss 0.05634,   Relative Error 0.08286\n",
      "Training_loss 0.05636,   Relative Error 0.08287\n"
     ]
    },
    {
     "name": "stderr",
     "output_type": "stream",
     "text": [
      "\r",
      " 92%|█████████▏| 1842/2000 [03:07<00:13, 12.03it/s]"
     ]
    },
    {
     "name": "stdout",
     "output_type": "stream",
     "text": [
      "Training_loss 0.05622,   Relative Error 0.08277\n",
      "Training_loss 0.05626,   Relative Error 0.08279\n",
      "Training_loss 0.05621,   Relative Error 0.08276\n"
     ]
    },
    {
     "name": "stderr",
     "output_type": "stream",
     "text": [
      " 92%|█████████▏| 1846/2000 [03:07<00:12, 12.19it/s]"
     ]
    },
    {
     "name": "stdout",
     "output_type": "stream",
     "text": [
      "Training_loss 0.05626,   Relative Error 0.08279\n",
      "Training_loss 0.05627,   Relative Error 0.08280\n",
      "Training_loss 0.05632,   Relative Error 0.08283\n"
     ]
    },
    {
     "name": "stderr",
     "output_type": "stream",
     "text": [
      "\r",
      " 92%|█████████▏| 1848/2000 [03:07<00:12, 12.03it/s]"
     ]
    },
    {
     "name": "stdout",
     "output_type": "stream",
     "text": [
      "Training_loss 0.05622,   Relative Error 0.08276\n",
      "Training_loss 0.05621,   Relative Error 0.08275\n",
      "Training_loss 0.05597,   Relative Error 0.08257\n"
     ]
    },
    {
     "name": "stderr",
     "output_type": "stream",
     "text": [
      " 93%|█████████▎| 1852/2000 [03:08<00:13, 11.31it/s]"
     ]
    },
    {
     "name": "stdout",
     "output_type": "stream",
     "text": [
      "Training_loss 0.05587,   Relative Error 0.08250\n",
      "Training_loss 0.05587,   Relative Error 0.08250\n",
      "Training_loss 0.05583,   Relative Error 0.08247\n"
     ]
    },
    {
     "name": "stderr",
     "output_type": "stream",
     "text": [
      "\r",
      " 93%|█████████▎| 1854/2000 [03:08<00:13, 10.81it/s]"
     ]
    },
    {
     "name": "stdout",
     "output_type": "stream",
     "text": [
      "Training_loss 0.05569,   Relative Error 0.08236\n",
      "Training_loss 0.05566,   Relative Error 0.08234\n"
     ]
    },
    {
     "name": "stderr",
     "output_type": "stream",
     "text": [
      "\r",
      " 93%|█████████▎| 1856/2000 [03:08<00:13, 10.45it/s]"
     ]
    },
    {
     "name": "stdout",
     "output_type": "stream",
     "text": [
      "Training_loss 0.05574,   Relative Error 0.08239\n",
      "Training_loss 0.05559,   Relative Error 0.08228\n",
      "Training_loss 0.05545,   Relative Error 0.08217\n"
     ]
    },
    {
     "name": "stderr",
     "output_type": "stream",
     "text": [
      " 93%|█████████▎| 1860/2000 [03:08<00:12, 11.08it/s]"
     ]
    },
    {
     "name": "stdout",
     "output_type": "stream",
     "text": [
      "Training_loss 0.05530,   Relative Error 0.08206\n",
      "Training_loss 0.05519,   Relative Error 0.08197\n",
      "Training_loss 0.05517,   Relative Error 0.08195\n"
     ]
    },
    {
     "name": "stderr",
     "output_type": "stream",
     "text": [
      "\r",
      " 93%|█████████▎| 1862/2000 [03:08<00:12, 11.03it/s]"
     ]
    },
    {
     "name": "stdout",
     "output_type": "stream",
     "text": [
      "Training_loss 0.05507,   Relative Error 0.08187\n",
      "Training_loss 0.05503,   Relative Error 0.08184\n",
      "Training_loss 0.05497,   Relative Error 0.08179\n"
     ]
    },
    {
     "name": "stderr",
     "output_type": "stream",
     "text": [
      " 93%|█████████▎| 1866/2000 [03:09<00:11, 12.08it/s]"
     ]
    },
    {
     "name": "stdout",
     "output_type": "stream",
     "text": [
      "Training_loss 0.05491,   Relative Error 0.08175\n",
      "Training_loss 0.05482,   Relative Error 0.08168\n",
      "Training_loss 0.05472,   Relative Error 0.08161\n"
     ]
    },
    {
     "name": "stderr",
     "output_type": "stream",
     "text": [
      "\r",
      " 93%|█████████▎| 1868/2000 [03:09<00:11, 11.79it/s]"
     ]
    },
    {
     "name": "stdout",
     "output_type": "stream",
     "text": [
      "Training_loss 0.05458,   Relative Error 0.08150\n",
      "Training_loss 0.05444,   Relative Error 0.08140\n",
      "Training_loss 0.05443,   Relative Error 0.08139\n"
     ]
    },
    {
     "name": "stderr",
     "output_type": "stream",
     "text": [
      " 94%|█████████▎| 1872/2000 [03:09<00:11, 11.43it/s]"
     ]
    },
    {
     "name": "stdout",
     "output_type": "stream",
     "text": [
      "Training_loss 0.05448,   Relative Error 0.08142\n",
      "Training_loss 0.05437,   Relative Error 0.08134\n",
      "Training_loss 0.05436,   Relative Error 0.08132\n"
     ]
    },
    {
     "name": "stderr",
     "output_type": "stream",
     "text": [
      "\r",
      " 94%|█████████▎| 1874/2000 [03:09<00:10, 11.63it/s]"
     ]
    },
    {
     "name": "stdout",
     "output_type": "stream",
     "text": [
      "Training_loss 0.05435,   Relative Error 0.08131\n",
      "Training_loss 0.05434,   Relative Error 0.08130\n",
      "Training_loss 0.05432,   Relative Error 0.08129\n"
     ]
    },
    {
     "name": "stderr",
     "output_type": "stream",
     "text": [
      " 94%|█████████▍| 1878/2000 [03:10<00:10, 11.34it/s]"
     ]
    },
    {
     "name": "stdout",
     "output_type": "stream",
     "text": [
      "Training_loss 0.05428,   Relative Error 0.08125\n",
      "Training_loss 0.05426,   Relative Error 0.08123\n",
      "Training_loss 0.05428,   Relative Error 0.08125\n"
     ]
    },
    {
     "name": "stderr",
     "output_type": "stream",
     "text": [
      "\r",
      " 94%|█████████▍| 1880/2000 [03:10<00:10, 11.53it/s]"
     ]
    },
    {
     "name": "stdout",
     "output_type": "stream",
     "text": [
      "Training_loss 0.05418,   Relative Error 0.08117\n",
      "Training_loss 0.05424,   Relative Error 0.08122\n",
      "Training_loss 0.05417,   Relative Error 0.08116\n"
     ]
    },
    {
     "name": "stderr",
     "output_type": "stream",
     "text": [
      " 94%|█████████▍| 1884/2000 [03:10<00:10, 11.10it/s]"
     ]
    },
    {
     "name": "stdout",
     "output_type": "stream",
     "text": [
      "Training_loss 0.05409,   Relative Error 0.08109\n",
      "Training_loss 0.05408,   Relative Error 0.08109\n",
      "Training_loss 0.05411,   Relative Error 0.08110\n"
     ]
    },
    {
     "name": "stderr",
     "output_type": "stream",
     "text": [
      "\r",
      " 94%|█████████▍| 1886/2000 [03:11<00:10, 10.57it/s]"
     ]
    },
    {
     "name": "stdout",
     "output_type": "stream",
     "text": [
      "Training_loss 0.05412,   Relative Error 0.08111\n",
      "Training_loss 0.05408,   Relative Error 0.08108\n"
     ]
    },
    {
     "name": "stderr",
     "output_type": "stream",
     "text": [
      "\r",
      " 94%|█████████▍| 1888/2000 [03:11<00:10, 10.32it/s]"
     ]
    },
    {
     "name": "stdout",
     "output_type": "stream",
     "text": [
      "Training_loss 0.05410,   Relative Error 0.08110\n",
      "Training_loss 0.05401,   Relative Error 0.08103\n"
     ]
    },
    {
     "name": "stderr",
     "output_type": "stream",
     "text": [
      "\r",
      " 94%|█████████▍| 1890/2000 [03:11<00:11,  9.82it/s]"
     ]
    },
    {
     "name": "stdout",
     "output_type": "stream",
     "text": [
      "Training_loss 0.05391,   Relative Error 0.08095\n",
      "Training_loss 0.05389,   Relative Error 0.08093\n"
     ]
    },
    {
     "name": "stderr",
     "output_type": "stream",
     "text": [
      " 95%|█████████▍| 1893/2000 [03:11<00:10,  9.89it/s]"
     ]
    },
    {
     "name": "stdout",
     "output_type": "stream",
     "text": [
      "Training_loss 0.05371,   Relative Error 0.08079\n",
      "Training_loss 0.05371,   Relative Error 0.08079\n",
      "Training_loss 0.05366,   Relative Error 0.08075\n"
     ]
    },
    {
     "name": "stderr",
     "output_type": "stream",
     "text": [
      " 95%|█████████▍| 1895/2000 [03:12<00:12,  8.48it/s]"
     ]
    },
    {
     "name": "stdout",
     "output_type": "stream",
     "text": [
      "Training_loss 0.05365,   Relative Error 0.08074\n",
      "Training_loss 0.05366,   Relative Error 0.08074\n"
     ]
    },
    {
     "name": "stderr",
     "output_type": "stream",
     "text": [
      " 95%|█████████▍| 1897/2000 [03:12<00:12,  8.34it/s]"
     ]
    },
    {
     "name": "stdout",
     "output_type": "stream",
     "text": [
      "Training_loss 0.05361,   Relative Error 0.08070\n",
      "Training_loss 0.05367,   Relative Error 0.08074\n"
     ]
    },
    {
     "name": "stderr",
     "output_type": "stream",
     "text": [
      " 95%|█████████▌| 1900/2000 [03:12<00:10,  9.19it/s]"
     ]
    },
    {
     "name": "stdout",
     "output_type": "stream",
     "text": [
      "Training_loss 0.05364,   Relative Error 0.08071\n",
      "Training_loss 0.05362,   Relative Error 0.08070\n",
      "Training_loss 0.05362,   Relative Error 0.08070\n"
     ]
    },
    {
     "name": "stderr",
     "output_type": "stream",
     "text": [
      " 95%|█████████▌| 1902/2000 [03:12<00:13,  7.44it/s]"
     ]
    },
    {
     "name": "stdout",
     "output_type": "stream",
     "text": [
      "Training_loss 0.05368,   Relative Error 0.08074\n",
      "Training_loss 0.05361,   Relative Error 0.08068\n"
     ]
    },
    {
     "name": "stderr",
     "output_type": "stream",
     "text": [
      " 95%|█████████▌| 1904/2000 [03:13<00:12,  7.55it/s]"
     ]
    },
    {
     "name": "stdout",
     "output_type": "stream",
     "text": [
      "Training_loss 0.05341,   Relative Error 0.08053\n",
      "Training_loss 0.05318,   Relative Error 0.08036\n"
     ]
    },
    {
     "name": "stderr",
     "output_type": "stream",
     "text": [
      " 95%|█████████▌| 1906/2000 [03:13<00:12,  7.78it/s]"
     ]
    },
    {
     "name": "stdout",
     "output_type": "stream",
     "text": [
      "Training_loss 0.05312,   Relative Error 0.08031\n",
      "Training_loss 0.05300,   Relative Error 0.08022\n"
     ]
    },
    {
     "name": "stderr",
     "output_type": "stream",
     "text": [
      " 95%|█████████▌| 1908/2000 [03:13<00:11,  8.35it/s]"
     ]
    },
    {
     "name": "stdout",
     "output_type": "stream",
     "text": [
      "Training_loss 0.05299,   Relative Error 0.08021\n",
      "Training_loss 0.05293,   Relative Error 0.08016\n"
     ]
    },
    {
     "name": "stderr",
     "output_type": "stream",
     "text": [
      " 96%|█████████▌| 1910/2000 [03:13<00:10,  8.62it/s]"
     ]
    },
    {
     "name": "stdout",
     "output_type": "stream",
     "text": [
      "Training_loss 0.05284,   Relative Error 0.08009\n",
      "Training_loss 0.05275,   Relative Error 0.08001\n"
     ]
    },
    {
     "name": "stderr",
     "output_type": "stream",
     "text": [
      " 96%|█████████▌| 1912/2000 [03:14<00:11,  7.50it/s]"
     ]
    },
    {
     "name": "stdout",
     "output_type": "stream",
     "text": [
      "Training_loss 0.05286,   Relative Error 0.08010\n",
      "Training_loss 0.05280,   Relative Error 0.08005\n"
     ]
    },
    {
     "name": "stderr",
     "output_type": "stream",
     "text": [
      " 96%|█████████▌| 1914/2000 [03:14<00:13,  6.17it/s]"
     ]
    },
    {
     "name": "stdout",
     "output_type": "stream",
     "text": [
      "Training_loss 0.05278,   Relative Error 0.08003\n",
      "Training_loss 0.05268,   Relative Error 0.07996\n"
     ]
    },
    {
     "name": "stderr",
     "output_type": "stream",
     "text": [
      " 96%|█████████▌| 1916/2000 [03:14<00:12,  6.72it/s]"
     ]
    },
    {
     "name": "stdout",
     "output_type": "stream",
     "text": [
      "Training_loss 0.05268,   Relative Error 0.07996\n",
      "Training_loss 0.05263,   Relative Error 0.07991\n"
     ]
    },
    {
     "name": "stderr",
     "output_type": "stream",
     "text": [
      " 96%|█████████▌| 1918/2000 [03:15<00:11,  7.15it/s]"
     ]
    },
    {
     "name": "stdout",
     "output_type": "stream",
     "text": [
      "Training_loss 0.05263,   Relative Error 0.07991\n",
      "Training_loss 0.05248,   Relative Error 0.07980\n"
     ]
    },
    {
     "name": "stderr",
     "output_type": "stream",
     "text": [
      " 96%|█████████▌| 1920/2000 [03:15<00:10,  7.62it/s]"
     ]
    },
    {
     "name": "stdout",
     "output_type": "stream",
     "text": [
      "Training_loss 0.05248,   Relative Error 0.07979\n",
      "Training_loss 0.05247,   Relative Error 0.07979\n"
     ]
    },
    {
     "name": "stderr",
     "output_type": "stream",
     "text": [
      " 96%|█████████▌| 1922/2000 [03:15<00:09,  7.85it/s]"
     ]
    },
    {
     "name": "stdout",
     "output_type": "stream",
     "text": [
      "Training_loss 0.05235,   Relative Error 0.07969\n",
      "Training_loss 0.05229,   Relative Error 0.07965\n"
     ]
    },
    {
     "name": "stderr",
     "output_type": "stream",
     "text": [
      " 96%|█████████▌| 1924/2000 [03:15<00:09,  8.16it/s]"
     ]
    },
    {
     "name": "stdout",
     "output_type": "stream",
     "text": [
      "Training_loss 0.05214,   Relative Error 0.07953\n",
      "Training_loss 0.05210,   Relative Error 0.07950\n"
     ]
    },
    {
     "name": "stderr",
     "output_type": "stream",
     "text": [
      "\r",
      " 96%|█████████▋| 1926/2000 [03:16<00:08,  8.79it/s]"
     ]
    },
    {
     "name": "stdout",
     "output_type": "stream",
     "text": [
      "Training_loss 0.05203,   Relative Error 0.07944\n",
      "Training_loss 0.05208,   Relative Error 0.07948\n"
     ]
    },
    {
     "name": "stderr",
     "output_type": "stream",
     "text": [
      " 96%|█████████▋| 1928/2000 [03:16<00:08,  8.81it/s]"
     ]
    },
    {
     "name": "stdout",
     "output_type": "stream",
     "text": [
      "Training_loss 0.05206,   Relative Error 0.07947\n",
      "Training_loss 0.05205,   Relative Error 0.07946\n"
     ]
    },
    {
     "name": "stderr",
     "output_type": "stream",
     "text": [
      "\r",
      " 96%|█████████▋| 1930/2000 [03:16<00:07,  9.14it/s]"
     ]
    },
    {
     "name": "stdout",
     "output_type": "stream",
     "text": [
      "Training_loss 0.05195,   Relative Error 0.07937\n",
      "Training_loss 0.05195,   Relative Error 0.07938\n"
     ]
    },
    {
     "name": "stderr",
     "output_type": "stream",
     "text": [
      " 97%|█████████▋| 1932/2000 [03:16<00:07,  8.98it/s]"
     ]
    },
    {
     "name": "stdout",
     "output_type": "stream",
     "text": [
      "Training_loss 0.05200,   Relative Error 0.07941\n",
      "Training_loss 0.05207,   Relative Error 0.07946\n"
     ]
    },
    {
     "name": "stderr",
     "output_type": "stream",
     "text": [
      "\r",
      " 97%|█████████▋| 1933/2000 [03:16<00:07,  9.12it/s]"
     ]
    },
    {
     "name": "stdout",
     "output_type": "stream",
     "text": [
      "Training_loss 0.05201,   Relative Error 0.07941\n",
      "Training_loss 0.05201,   Relative Error 0.07941\n"
     ]
    },
    {
     "name": "stderr",
     "output_type": "stream",
     "text": [
      " 97%|█████████▋| 1936/2000 [03:17<00:06,  9.23it/s]"
     ]
    },
    {
     "name": "stdout",
     "output_type": "stream",
     "text": [
      "Training_loss 0.05196,   Relative Error 0.07937\n",
      "Training_loss 0.05194,   Relative Error 0.07935\n",
      "Training_loss 0.05192,   Relative Error 0.07933\n"
     ]
    },
    {
     "name": "stderr",
     "output_type": "stream",
     "text": [
      " 97%|█████████▋| 1939/2000 [03:17<00:06,  9.25it/s]"
     ]
    },
    {
     "name": "stdout",
     "output_type": "stream",
     "text": [
      "Training_loss 0.05194,   Relative Error 0.07935\n",
      "Training_loss 0.05190,   Relative Error 0.07932\n"
     ]
    },
    {
     "name": "stderr",
     "output_type": "stream",
     "text": [
      " 97%|█████████▋| 1941/2000 [03:17<00:06,  9.05it/s]"
     ]
    },
    {
     "name": "stdout",
     "output_type": "stream",
     "text": [
      "Training_loss 0.05180,   Relative Error 0.07924\n",
      "Training_loss 0.05175,   Relative Error 0.07920\n",
      "Training_loss 0.05181,   Relative Error 0.07924\n"
     ]
    },
    {
     "name": "stderr",
     "output_type": "stream",
     "text": [
      " 97%|█████████▋| 1945/2000 [03:18<00:05,  9.77it/s]"
     ]
    },
    {
     "name": "stdout",
     "output_type": "stream",
     "text": [
      "Training_loss 0.05176,   Relative Error 0.07920\n",
      "Training_loss 0.05175,   Relative Error 0.07919\n",
      "Training_loss 0.05169,   Relative Error 0.07914\n"
     ]
    },
    {
     "name": "stderr",
     "output_type": "stream",
     "text": [
      "\r",
      " 97%|█████████▋| 1947/2000 [03:18<00:05, 10.51it/s]"
     ]
    },
    {
     "name": "stdout",
     "output_type": "stream",
     "text": [
      "Training_loss 0.05172,   Relative Error 0.07916\n",
      "Training_loss 0.05169,   Relative Error 0.07914\n",
      "Training_loss 0.05173,   Relative Error 0.07917\n"
     ]
    },
    {
     "name": "stderr",
     "output_type": "stream",
     "text": [
      "\r",
      " 97%|█████████▋| 1949/2000 [03:18<00:05, 10.00it/s]"
     ]
    },
    {
     "name": "stdout",
     "output_type": "stream",
     "text": [
      "Training_loss 0.05167,   Relative Error 0.07912\n",
      "Training_loss 0.05147,   Relative Error 0.07897\n"
     ]
    },
    {
     "name": "stderr",
     "output_type": "stream",
     "text": [
      " 98%|█████████▊| 1952/2000 [03:18<00:05,  9.48it/s]"
     ]
    },
    {
     "name": "stdout",
     "output_type": "stream",
     "text": [
      "Training_loss 0.05139,   Relative Error 0.07890\n",
      "Training_loss 0.05124,   Relative Error 0.07879\n"
     ]
    },
    {
     "name": "stderr",
     "output_type": "stream",
     "text": [
      " 98%|█████████▊| 1954/2000 [03:19<00:05,  8.61it/s]"
     ]
    },
    {
     "name": "stdout",
     "output_type": "stream",
     "text": [
      "Training_loss 0.05117,   Relative Error 0.07873\n",
      "Training_loss 0.05117,   Relative Error 0.07873\n"
     ]
    },
    {
     "name": "stderr",
     "output_type": "stream",
     "text": [
      " 98%|█████████▊| 1956/2000 [03:19<00:05,  8.51it/s]"
     ]
    },
    {
     "name": "stdout",
     "output_type": "stream",
     "text": [
      "Training_loss 0.05115,   Relative Error 0.07871\n",
      "Training_loss 0.05099,   Relative Error 0.07859\n"
     ]
    },
    {
     "name": "stderr",
     "output_type": "stream",
     "text": [
      " 98%|█████████▊| 1958/2000 [03:19<00:05,  7.22it/s]"
     ]
    },
    {
     "name": "stdout",
     "output_type": "stream",
     "text": [
      "Training_loss 0.05110,   Relative Error 0.07867\n",
      "Training_loss 0.05116,   Relative Error 0.07872\n"
     ]
    },
    {
     "name": "stderr",
     "output_type": "stream",
     "text": [
      " 98%|█████████▊| 1960/2000 [03:20<00:05,  6.88it/s]"
     ]
    },
    {
     "name": "stdout",
     "output_type": "stream",
     "text": [
      "Training_loss 0.05116,   Relative Error 0.07871\n",
      "Training_loss 0.05115,   Relative Error 0.07870\n"
     ]
    },
    {
     "name": "stderr",
     "output_type": "stream",
     "text": [
      " 98%|█████████▊| 1962/2000 [03:20<00:05,  6.89it/s]"
     ]
    },
    {
     "name": "stdout",
     "output_type": "stream",
     "text": [
      "Training_loss 0.05118,   Relative Error 0.07872\n",
      "Training_loss 0.05109,   Relative Error 0.07865\n"
     ]
    },
    {
     "name": "stderr",
     "output_type": "stream",
     "text": [
      "\r",
      " 98%|█████████▊| 1963/2000 [03:20<00:05,  6.36it/s]"
     ]
    },
    {
     "name": "stdout",
     "output_type": "stream",
     "text": [
      "Training_loss 0.05109,   Relative Error 0.07865\n"
     ]
    },
    {
     "name": "stderr",
     "output_type": "stream",
     "text": [
      "\r",
      " 98%|█████████▊| 1964/2000 [03:20<00:08,  4.32it/s]"
     ]
    },
    {
     "name": "stdout",
     "output_type": "stream",
     "text": [
      "Training_loss 0.05109,   Relative Error 0.07865\n"
     ]
    },
    {
     "name": "stderr",
     "output_type": "stream",
     "text": [
      "\r",
      " 98%|█████████▊| 1965/2000 [03:21<00:09,  3.54it/s]"
     ]
    },
    {
     "name": "stdout",
     "output_type": "stream",
     "text": [
      "Training_loss 0.05094,   Relative Error 0.07853\n"
     ]
    },
    {
     "name": "stderr",
     "output_type": "stream",
     "text": [
      "\r",
      " 98%|█████████▊| 1966/2000 [03:21<00:11,  3.08it/s]"
     ]
    },
    {
     "name": "stdout",
     "output_type": "stream",
     "text": [
      "Training_loss 0.05096,   Relative Error 0.07855\n"
     ]
    },
    {
     "name": "stderr",
     "output_type": "stream",
     "text": [
      "\r",
      " 98%|█████████▊| 1967/2000 [03:22<00:10,  3.09it/s]"
     ]
    },
    {
     "name": "stdout",
     "output_type": "stream",
     "text": [
      "Training_loss 0.05092,   Relative Error 0.07851\n"
     ]
    },
    {
     "name": "stderr",
     "output_type": "stream",
     "text": [
      "\r",
      " 98%|█████████▊| 1968/2000 [03:22<00:09,  3.38it/s]"
     ]
    },
    {
     "name": "stdout",
     "output_type": "stream",
     "text": [
      "Training_loss 0.05090,   Relative Error 0.07849\n"
     ]
    },
    {
     "name": "stderr",
     "output_type": "stream",
     "text": [
      " 98%|█████████▊| 1970/2000 [03:22<00:07,  4.25it/s]"
     ]
    },
    {
     "name": "stdout",
     "output_type": "stream",
     "text": [
      "Training_loss 0.05090,   Relative Error 0.07849\n",
      "Training_loss 0.05088,   Relative Error 0.07847\n"
     ]
    },
    {
     "name": "stderr",
     "output_type": "stream",
     "text": [
      " 99%|█████████▊| 1972/2000 [03:22<00:05,  5.23it/s]"
     ]
    },
    {
     "name": "stdout",
     "output_type": "stream",
     "text": [
      "Training_loss 0.05077,   Relative Error 0.07839\n",
      "Training_loss 0.05072,   Relative Error 0.07835\n"
     ]
    },
    {
     "name": "stderr",
     "output_type": "stream",
     "text": [
      " 99%|█████████▊| 1974/2000 [03:23<00:04,  5.56it/s]"
     ]
    },
    {
     "name": "stdout",
     "output_type": "stream",
     "text": [
      "Training_loss 0.05072,   Relative Error 0.07835\n",
      "Training_loss 0.05063,   Relative Error 0.07828\n"
     ]
    },
    {
     "name": "stderr",
     "output_type": "stream",
     "text": [
      " 99%|█████████▉| 1976/2000 [03:23<00:03,  6.67it/s]"
     ]
    },
    {
     "name": "stdout",
     "output_type": "stream",
     "text": [
      "Training_loss 0.05056,   Relative Error 0.07822\n",
      "Training_loss 0.05049,   Relative Error 0.07817\n"
     ]
    },
    {
     "name": "stderr",
     "output_type": "stream",
     "text": [
      " 99%|█████████▉| 1978/2000 [03:23<00:03,  7.05it/s]"
     ]
    },
    {
     "name": "stdout",
     "output_type": "stream",
     "text": [
      "Training_loss 0.05034,   Relative Error 0.07805\n",
      "Training_loss 0.05017,   Relative Error 0.07792\n"
     ]
    },
    {
     "name": "stderr",
     "output_type": "stream",
     "text": [
      " 99%|█████████▉| 1980/2000 [03:24<00:03,  6.62it/s]"
     ]
    },
    {
     "name": "stdout",
     "output_type": "stream",
     "text": [
      "Training_loss 0.05005,   Relative Error 0.07782\n",
      "Training_loss 0.04997,   Relative Error 0.07775\n"
     ]
    },
    {
     "name": "stderr",
     "output_type": "stream",
     "text": [
      " 99%|█████████▉| 1982/2000 [03:24<00:02,  7.29it/s]"
     ]
    },
    {
     "name": "stdout",
     "output_type": "stream",
     "text": [
      "Training_loss 0.04997,   Relative Error 0.07775\n",
      "Training_loss 0.04999,   Relative Error 0.07777\n"
     ]
    },
    {
     "name": "stderr",
     "output_type": "stream",
     "text": [
      " 99%|█████████▉| 1984/2000 [03:24<00:02,  6.88it/s]"
     ]
    },
    {
     "name": "stdout",
     "output_type": "stream",
     "text": [
      "Training_loss 0.04995,   Relative Error 0.07774\n",
      "Training_loss 0.04997,   Relative Error 0.07775\n"
     ]
    },
    {
     "name": "stderr",
     "output_type": "stream",
     "text": [
      " 99%|█████████▉| 1986/2000 [03:24<00:01,  7.09it/s]"
     ]
    },
    {
     "name": "stdout",
     "output_type": "stream",
     "text": [
      "Training_loss 0.05003,   Relative Error 0.07780\n",
      "Training_loss 0.05005,   Relative Error 0.07781\n"
     ]
    },
    {
     "name": "stderr",
     "output_type": "stream",
     "text": [
      " 99%|█████████▉| 1988/2000 [03:25<00:01,  7.51it/s]"
     ]
    },
    {
     "name": "stdout",
     "output_type": "stream",
     "text": [
      "Training_loss 0.05001,   Relative Error 0.07778\n",
      "Training_loss 0.04996,   Relative Error 0.07773\n"
     ]
    },
    {
     "name": "stderr",
     "output_type": "stream",
     "text": [
      "100%|█████████▉| 1990/2000 [03:25<00:01,  7.63it/s]"
     ]
    },
    {
     "name": "stdout",
     "output_type": "stream",
     "text": [
      "Training_loss 0.05002,   Relative Error 0.07778\n",
      "Training_loss 0.05003,   Relative Error 0.07779\n"
     ]
    },
    {
     "name": "stderr",
     "output_type": "stream",
     "text": [
      "100%|█████████▉| 1992/2000 [03:25<00:01,  7.55it/s]"
     ]
    },
    {
     "name": "stdout",
     "output_type": "stream",
     "text": [
      "Training_loss 0.04998,   Relative Error 0.07775\n",
      "Training_loss 0.04984,   Relative Error 0.07763\n"
     ]
    },
    {
     "name": "stderr",
     "output_type": "stream",
     "text": [
      "100%|█████████▉| 1994/2000 [03:25<00:00,  7.72it/s]"
     ]
    },
    {
     "name": "stdout",
     "output_type": "stream",
     "text": [
      "Training_loss 0.04989,   Relative Error 0.07767\n",
      "Training_loss 0.04991,   Relative Error 0.07769\n"
     ]
    },
    {
     "name": "stderr",
     "output_type": "stream",
     "text": [
      "100%|█████████▉| 1996/2000 [03:26<00:00,  7.68it/s]"
     ]
    },
    {
     "name": "stdout",
     "output_type": "stream",
     "text": [
      "Training_loss 0.04991,   Relative Error 0.07769\n",
      "Training_loss 0.04990,   Relative Error 0.07768\n"
     ]
    },
    {
     "name": "stderr",
     "output_type": "stream",
     "text": [
      "100%|█████████▉| 1998/2000 [03:26<00:00,  7.61it/s]"
     ]
    },
    {
     "name": "stdout",
     "output_type": "stream",
     "text": [
      "Training_loss 0.04989,   Relative Error 0.07767\n",
      "Training_loss 0.04976,   Relative Error 0.07757\n"
     ]
    },
    {
     "name": "stderr",
     "output_type": "stream",
     "text": [
      "100%|██████████| 2000/2000 [03:26<00:00,  9.67it/s]"
     ]
    },
    {
     "name": "stdout",
     "output_type": "stream",
     "text": [
      "Training_loss 0.04969,   Relative Error 0.07751\n",
      "Training_loss 0.04966,   Relative Error 0.07749\n"
     ]
    },
    {
     "name": "stderr",
     "output_type": "stream",
     "text": [
      "\n"
     ]
    }
   ],
   "source": [
    "#global_model = CNN_Net().cuda()\n",
    "models = [MLP_Net(user_id=i) for i in range(no_users)]\n",
    "dummy_models = [MLP_Net(user_id=i) for i in range(no_users)]\n",
    "\n",
    "#model.load_state_dict(global_model.state_dict())\n",
    "\n",
    "criterion = nn.MSELoss()\n",
    "\n",
    "\n",
    "train_loss = []\n",
    "test_loss = []\n",
    "test_accuracy = []\n",
    "total_rel_error = []\n",
    "\n",
    "for curr_round in tqdm(range(1, it+1)):\n",
    "    w, local_loss = [], []\n",
    "\n",
    "    \n",
    "    for i in range(no_users):\n",
    "        dummy_models[i].load_state_dict(models[i].state_dict())\n",
    "        local_update = ClientUpdate(dataset=datapoints[i], batchSize=batch_size, alpha=alpha, lamda=lamda, epochs=1, projection_list=projection_list, projected_weights=projected_weights)\n",
    "        weights, loss = local_update.train(dummy_models[i])\n",
    "        w.append(weights)\n",
    "        local_loss.append(loss)\n",
    "        models[i].load_state_dict(w[i])\n",
    "        \n",
    "    \n",
    "    \n",
    "    \n",
    "    #Share and mix the local weights\n",
    "    \n",
    "    \n",
    "    for i in range(no_users):\n",
    "        weights = parameters_to_vector(dummy_models[i].parameters())\n",
    "        mat_vec_sum = torch.zeros_like(weights)\n",
    "        for j in G.neighbors(i):\n",
    "            mat_vec_sum = torch.add(mat_vec_sum, parameters_to_vector(dummy_models[j].parameters()))\n",
    "        \n",
    "        new_weights = weights - mu * eta * (degree_list[i] * weights - mat_vec_sum)\n",
    "        # Update real models\n",
    "        vector_to_parameters(parameters=models[i].parameters(), vec=new_weights)\n",
    "        \n",
    "        \n",
    "        \n",
    "    \n",
    "    \n",
    "\n",
    "\n",
    "\n",
    "\n",
    "          \n",
    "            \n",
    "\n",
    "    local_test_acc = []\n",
    "    local_test_loss = []\n",
    "    \n",
    "    user_rel_error = 0\n",
    "    for k in range(no_users):\n",
    "      \n",
    "        g_loss = testing(models[i], datapoints[i], 50, criterion)\n",
    "        local_test_loss.append(g_loss)\n",
    "        user_rel_error += rel_error(models[i])\n",
    "    \n",
    "    \n",
    "        \n",
    "\n",
    "    g_loss = sum(local_test_loss) / len(local_test_loss)\n",
    "    total_rel_error.append(user_rel_error / no_users)\n",
    "    #g_accuracy = sum(local_test_acc) / len(local_test_acc)\n",
    "    \n",
    "    \n",
    "\n",
    "    test_loss.append(g_loss)\n",
    "    #test_accuracy.append(g_accuracy)\n",
    "    print(\"Training_loss %2.5f,   Relative Error %2.5f\"% (test_loss[-1], total_rel_error[-1]))"
   ]
  },
  {
   "cell_type": "code",
   "execution_count": 20,
   "id": "2ff0ff71",
   "metadata": {},
   "outputs": [
    {
     "data": {
      "text/plain": [
       "tensor([-1.7920,  1.9307], grad_fn=<CatBackward0>)"
      ]
     },
     "execution_count": 20,
     "metadata": {},
     "output_type": "execute_result"
    }
   ],
   "source": [
    "#plot.plot(test_loss)\n",
    "parameters_to_vector(models[19].parameters())"
   ]
  },
  {
   "cell_type": "code",
   "execution_count": 21,
   "id": "679d15ac",
   "metadata": {},
   "outputs": [
    {
     "name": "stdout",
     "output_type": "stream",
     "text": [
      "2\n",
      "3\n",
      "4\n",
      "9\n",
      "19\n"
     ]
    }
   ],
   "source": [
    "for j in G.neighbors(0):\n",
    "    print(j)"
   ]
  },
  {
   "cell_type": "code",
   "execution_count": 22,
   "id": "c76fd36c",
   "metadata": {},
   "outputs": [
    {
     "data": {
      "text/plain": [
       "tensor([1.7862, 1.9280], grad_fn=<CatBackward0>)"
      ]
     },
     "execution_count": 22,
     "metadata": {},
     "output_type": "execute_result"
    }
   ],
   "source": [
    "parameters_to_vector(models[0].parameters())"
   ]
  },
  {
   "cell_type": "code",
   "execution_count": 23,
   "id": "42f4dc91",
   "metadata": {},
   "outputs": [
    {
     "data": {
      "text/plain": [
       "[0,\n",
       " 0,\n",
       " tensor([[1.7150, 0.0000],\n",
       "         [0.0000, 1.7150]]),\n",
       " tensor([[-0.0422,  0.0000],\n",
       "         [ 0.0000, -0.0422]]),\n",
       " tensor([[2.1969, 0.0000],\n",
       "         [0.0000, 2.1969]]),\n",
       " 0,\n",
       " 0,\n",
       " 0,\n",
       " 0,\n",
       " tensor([[1.7599, 0.0000],\n",
       "         [0.0000, 1.7599]]),\n",
       " 0,\n",
       " 0,\n",
       " 0,\n",
       " 0,\n",
       " 0,\n",
       " 0,\n",
       " 0,\n",
       " 0,\n",
       " 0,\n",
       " tensor([[1.1608, 0.0000],\n",
       "         [0.0000, 1.1608]])]"
      ]
     },
     "execution_count": 23,
     "metadata": {},
     "output_type": "execute_result"
    }
   ],
   "source": [
    "projection_list[0]"
   ]
  },
  {
   "cell_type": "code",
   "execution_count": 24,
   "id": "e98c0b57",
   "metadata": {},
   "outputs": [
    {
     "data": {
      "text/plain": [
       "[0,\n",
       " 0,\n",
       " tensor([-0.8066, -0.6668]),\n",
       " tensor([-0.0103, -0.0174]),\n",
       " tensor([-0.9049, -0.2024]),\n",
       " 0,\n",
       " 0,\n",
       " 0,\n",
       " 0,\n",
       " tensor([-0.0352,  0.1558]),\n",
       " 0,\n",
       " 0,\n",
       " 0,\n",
       " 0,\n",
       " 0,\n",
       " 0,\n",
       " 0,\n",
       " 0,\n",
       " 0,\n",
       " tensor([0.6834, 0.2581])]"
      ]
     },
     "execution_count": 24,
     "metadata": {},
     "output_type": "execute_result"
    }
   ],
   "source": [
    "projected_weights[0]"
   ]
  },
  {
   "cell_type": "code",
   "execution_count": 25,
   "id": "1cf9ba5d",
   "metadata": {},
   "outputs": [],
   "source": [
    "test_loss = np.array(test_loss)\n",
    "total_rel_error = np.array(total_rel_error)"
   ]
  },
  {
   "cell_type": "code",
   "execution_count": 26,
   "id": "7dade085",
   "metadata": {},
   "outputs": [],
   "source": [
    "np.save( 'training_loss_dfedu' + str(eta).replace('.', '_') + '_pout' + str(pout).replace('.', '_'), test_loss)\n",
    "np.save('relative_error_dfedu' + str(eta).replace('.', '_') + '_pout' + str(pout).replace('.', '_'), total_rel_error)"
   ]
  },
  {
   "cell_type": "code",
   "execution_count": 27,
   "id": "1bb16136",
   "metadata": {},
   "outputs": [
    {
     "data": {
      "text/plain": [
       "'training_loss_dfedu0_01_pout0_2'"
      ]
     },
     "execution_count": 27,
     "metadata": {},
     "output_type": "execute_result"
    }
   ],
   "source": [
    "'training_loss_dfedu' + str(eta).replace('.', '_') + '_pout' + str(pout).replace('.', '_')"
   ]
  },
  {
   "cell_type": "code",
   "execution_count": 28,
   "id": "e5bf8f56",
   "metadata": {},
   "outputs": [
    {
     "data": {
      "text/plain": [
       "'relative_error_dfedu0_01_pout0_2'"
      ]
     },
     "execution_count": 28,
     "metadata": {},
     "output_type": "execute_result"
    }
   ],
   "source": [
    "'relative_error_dfedu' + str(eta).replace('.', '_') + '_pout' + str(pout).replace('.', '_')"
   ]
  },
  {
   "cell_type": "code",
   "execution_count": null,
   "id": "5e3a58c1",
   "metadata": {},
   "outputs": [],
   "source": []
  }
 ],
 "metadata": {
  "kernelspec": {
   "display_name": "Python 3",
   "language": "python",
   "name": "python3"
  },
  "language_info": {
   "codemirror_mode": {
    "name": "ipython",
    "version": 3
   },
   "file_extension": ".py",
   "mimetype": "text/x-python",
   "name": "python",
   "nbconvert_exporter": "python",
   "pygments_lexer": "ipython3",
   "version": "3.8.8"
  }
 },
 "nbformat": 4,
 "nbformat_minor": 5
}
