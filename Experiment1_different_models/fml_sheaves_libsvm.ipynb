{
 "cells": [
  {
   "cell_type": "code",
   "execution_count": 1,
   "id": "61528518",
   "metadata": {},
   "outputs": [],
   "source": [
    "from keras.utils import to_categorical\n",
    "import numpy as np\n",
    "import torch\n",
    "import torch.nn as nn\n",
    "import torch.nn.functional as F\n",
    "import torch.optim as optim\n",
    "from torchvision import datasets, transforms\n",
    "from torch.utils.data import DataLoader, Dataset\n",
    "import copy\n",
    "import matplotlib.pyplot as plt\n",
    "from tqdm import tqdm\n",
    "import networkx as nx\n",
    "from torch.nn.utils import parameters_to_vector, vector_to_parameters\n",
    "import networkx as nx"
   ]
  },
  {
   "cell_type": "code",
   "execution_count": 2,
   "id": "f41d4094",
   "metadata": {},
   "outputs": [],
   "source": [
    "from sklearn.datasets import load_svmlight_file\n",
    "\n",
    "\n",
    "def get_data(data):\n",
    "    data = load_svmlight_file(data)\n",
    "    return data[0].toarray(), data[1]\n",
    "data = \"./a1a.txt\"\n",
    "X, y = get_data(data)\n",
    "y[y == -1] = 0\n",
    "# Convert labels to one-hot encoding\n",
    "y = to_categorical(y)\n",
    "\n",
    "data = \"./a1a_t\"\n",
    "X_test,y_test = get_data(data)\n",
    "y_test[y_test == -1] = 0\n",
    "y_test = to_categorical(y_test)"
   ]
  },
  {
   "cell_type": "code",
   "execution_count": 3,
   "id": "1ea7af89",
   "metadata": {},
   "outputs": [
    {
     "data": {
      "text/plain": [
       "(1605, 119)"
      ]
     },
     "execution_count": 3,
     "metadata": {},
     "output_type": "execute_result"
    }
   ],
   "source": [
    "y[y[:, 0] == 1].shape\n",
    "X.shape"
   ]
  },
  {
   "cell_type": "code",
   "execution_count": 4,
   "id": "a7d47154",
   "metadata": {},
   "outputs": [],
   "source": [
    "# Dataset partitioning\n",
    "def random_split(X, y, n, seed):\n",
    "    \"\"\"Equally split data between n agents\"\"\"\n",
    "    rng = np.random.default_rng(seed)\n",
    "    perm = rng.permutation(y.shape[0])\n",
    "    X_split = np.array_split(X[perm], n)  #np.stack to keep as a np array\n",
    "    y_split = np.array_split(y[perm], n)\n",
    "    return X_split, y_split"
   ]
  },
  {
   "cell_type": "code",
   "execution_count": 5,
   "id": "3043b1e8",
   "metadata": {},
   "outputs": [],
   "source": [
    "no_users = 30"
   ]
  },
  {
   "cell_type": "code",
   "execution_count": null,
   "id": "6026ac3d",
   "metadata": {},
   "outputs": [],
   "source": []
  },
  {
   "cell_type": "code",
   "execution_count": 6,
   "id": "18f83b75",
   "metadata": {},
   "outputs": [],
   "source": [
    "X, y = random_split(X, y, 3, 42)"
   ]
  },
  {
   "cell_type": "code",
   "execution_count": 7,
   "id": "61953180",
   "metadata": {},
   "outputs": [],
   "source": [
    "X1 = X[0][:, 0:50]\n",
    "X2 = X[1][:, 30: 90]\n",
    "X3 = X[2][:, 20:]\n",
    "y1 = y[0]\n",
    "y2 = y[1]\n",
    "y3 = y[2]\n",
    "subset_ranges = [np.arange(0, 50), np.arange(30, 90), np.arange(20, 119)]\n",
    "subset_lengths = [subset_ranges[0].shape[0], subset_ranges[1].shape[0], subset_ranges[2].shape[0]]"
   ]
  },
  {
   "cell_type": "code",
   "execution_count": 8,
   "id": "daef2586",
   "metadata": {},
   "outputs": [],
   "source": [
    "# Graph implementation\n",
    "def generate_graph(cluster_sizes=[100,100], pin=0.5, pout=0.01, seed=0):\n",
    "    \"\"\"Generate a random connected graph\"\"\"\n",
    "    probs = np.array([[pin, pout, 5 * pout],[pout, pin, 5 * pout],[5 * pout, 5 * pout, pin]])\n",
    "    while True:\n",
    "        g = nx.stochastic_block_model(cluster_sizes, probs, seed=0)\n",
    "        if nx.algorithms.components.is_connected(g):\n",
    "            return g\n",
    "\n",
    "\n",
    "cluster_sizes = [10, 10, 10]\n",
    "features_sizes = [8, 7, 6, 5]\n",
    "pin = 0.5\n",
    "pout = 0.1\n",
    "seed = 0\n",
    "alpha = 1e-2\n",
    "lamda = 0#1e-2#1e-3\n",
    "eta = 1e-2\n",
    "d0 = min(subset_lengths)\n",
    "no_users = sum(cluster_sizes)\n",
    "batch_size = 10\n",
    "epochs = 1\n",
    "it = 2000\n",
    "G = generate_graph(cluster_sizes, pin, pout, seed)\n",
    "\n",
    "# Set a random seed for reproducibility\n",
    "seed = 17\n",
    "torch.manual_seed(seed)\n",
    "torch.backends.cudnn.deterministic = True\n",
    "torch.backends.cudnn.benchmark = False\n",
    "np.random.seed(seed)\n",
    "#nx.draw(G, with_labels=True, node_size=100, alpha=1, linewidths=10)\n",
    "#plt.show()"
   ]
  },
  {
   "cell_type": "code",
   "execution_count": 9,
   "id": "ed250e42",
   "metadata": {},
   "outputs": [],
   "source": [
    "def degrees(A):\n",
    "    \"\"\"Return the degrees of each node of a graph from its adjacency matrix\"\"\"\n",
    "    return np.sum(A, axis=0).reshape(A.shape[0], 1)\n",
    "\n",
    "def node_degree(n, G):\n",
    "    cnt = 0\n",
    "    for i in G.neighbors(n):\n",
    "        cnt += 1\n",
    "    return cnt\n",
    "\n",
    "def get_neighbors(n, G):\n",
    "    neighbors_list = []\n",
    "    for i in G.neighbors(n):\n",
    "        neighbors_list.append(int(i))\n",
    "    return neighbors_list"
   ]
  },
  {
   "cell_type": "code",
   "execution_count": 10,
   "id": "b68e8b60",
   "metadata": {},
   "outputs": [
    {
     "data": {
      "text/plain": [
       "(535, 2)"
      ]
     },
     "execution_count": 10,
     "metadata": {},
     "output_type": "execute_result"
    }
   ],
   "source": [
    "y1.shape"
   ]
  },
  {
   "cell_type": "code",
   "execution_count": 11,
   "id": "55bb4419",
   "metadata": {},
   "outputs": [],
   "source": [
    "datapoints = {}\n",
    "count = 0\n",
    "\n",
    "X1, y1 = random_split(X1, y1, 10, 42)\n",
    "X2, y2 = random_split(X2, y2, 10, 42)\n",
    "X3, y3 = random_split(X3, y3, 10, 42)\n",
    "\n",
    "X_train = [X1, X2, X3]\n",
    "y_train = [y1, y2, y3]\n",
    "input_sizes = [X1[0].shape[1], X2[0].shape[1], X3[0].shape[1]]\n",
    "\n",
    "for i, cluster_size in enumerate(cluster_sizes):\n",
    "    for j in range(cluster_size):\n",
    "        \n",
    "        test_features = X_test[:, subset_ranges[i]]\n",
    "        test_label = y_test\n",
    "        datapoints[count] = {\n",
    "                'features': X_train[i][j],\n",
    "                'degree': node_degree(count, G),\n",
    "                'label': y_train[i][j],\n",
    "                'neighbors': get_neighbors(count, G),\n",
    "                'input_size': X_train[i][j].shape[1],\n",
    "                'test_features':test_features,\n",
    "                'test_labels': test_label\n",
    "            }\n",
    "        count += 1"
   ]
  },
  {
   "cell_type": "code",
   "execution_count": 12,
   "id": "84cba8b7",
   "metadata": {},
   "outputs": [],
   "source": [
    "class MyDataset(Dataset):\n",
    "    def __init__(self, data, targets, transform=None):\n",
    "        self.data = torch.FloatTensor(data)\n",
    "        self.targets = torch.FloatTensor(targets)\n",
    "        \n",
    "    def __getitem__(self, index):\n",
    "        x = self.data[index]\n",
    "        y = self.targets[index]\n",
    "\n",
    "        return x, y\n",
    "    \n",
    "    def __len__(self):\n",
    "        return len(self.data)\n"
   ]
  },
  {
   "cell_type": "code",
   "execution_count": 13,
   "id": "67fa3550",
   "metadata": {},
   "outputs": [],
   "source": [
    "\n",
    "class MLP_Net(nn.Module):\n",
    "    def __init__(self, input_size, num_classes, user_id):\n",
    "        super(MLP_Net, self).__init__()\n",
    "        self.fc1 = nn.Linear(input_size, num_classes, bias=True)\n",
    "        self.user_id = user_id\n",
    "\n",
    "    def forward(self, x):\n",
    "        x = torch.flatten(x, 1)\n",
    "        output = F.softmax(self.fc1(x), dim=1)  # Applying softmax along the second dimension\n",
    "        return output"
   ]
  },
  {
   "cell_type": "code",
   "execution_count": 14,
   "id": "f67d681c",
   "metadata": {},
   "outputs": [],
   "source": [
    "from typing import Iterable, Optional\n",
    "\n",
    "def grads_to_vector(parameters: Iterable[torch.Tensor]) -> torch.Tensor:\n",
    "    r\"\"\"Convert parameters to one vector\n",
    "\n",
    "    Args:\n",
    "        parameters (Iterable[Tensor]): an iterator of Tensors that are the\n",
    "            parameters of a model.\n",
    "\n",
    "    Returns:\n",
    "        The parameters represented by a single vector\n",
    "    \"\"\"\n",
    "    # Flag for the device where the parameter is located\n",
    "    param_device = None\n",
    "\n",
    "    vec = []\n",
    "    for param in parameters:\n",
    "        # Ensure the parameters are located in the same device\n",
    "        param_device = param.grad\n",
    "\n",
    "        vec.append(param_device.view(-1))\n",
    "    return torch.cat(vec)"
   ]
  },
  {
   "cell_type": "code",
   "execution_count": 15,
   "id": "af0d754f",
   "metadata": {},
   "outputs": [
    {
     "name": "stdout",
     "output_type": "stream",
     "text": [
      "0 tensor(0.7243) 5\n",
      "1 tensor(0.7168) 7\n",
      "2 tensor(0.7072) 7\n",
      "3 tensor(0.7037) 6\n",
      "4 tensor(0.7381) 3\n",
      "5 tensor(0.7233) 4\n",
      "6 tensor(0.7124) 5\n",
      "7 tensor(0.7149) 6\n",
      "8 tensor(0.7011) 10\n",
      "9 tensor(0.7044) 10\n",
      "10 tensor(0.7113) 7\n",
      "11 tensor(0.7167) 7\n",
      "12 tensor(0.6863) 12\n",
      "13 tensor(0.6950) 11\n",
      "14 tensor(0.6973) 9\n",
      "15 tensor(0.6853) 10\n",
      "16 tensor(0.6938) 11\n",
      "17 tensor(0.7039) 8\n",
      "18 tensor(0.6882) 11\n",
      "19 tensor(0.6918) 11\n",
      "20 tensor(0.6919) 9\n",
      "21 tensor(0.6995) 9\n",
      "22 tensor(0.7058) 8\n",
      "23 tensor(0.6918) 9\n",
      "24 tensor(0.7008) 8\n",
      "25 tensor(0.6934) 11\n",
      "26 tensor(0.6974) 8\n",
      "27 tensor(0.6901) 7\n",
      "28 tensor(0.6792) 11\n",
      "29 tensor(0.6794) 12\n",
      "30 tensor(0.6853) 13\n",
      "31 tensor(0.6725) 14\n",
      "32 tensor(0.6809) 10\n",
      "33 tensor(0.6903) 8\n",
      "34 tensor(0.6936) 8\n",
      "35 tensor(0.6877) 9\n",
      "36 tensor(0.6837) 10\n",
      "37 tensor(0.6899) 10\n",
      "38 tensor(0.6755) 12\n",
      "39 tensor(0.6671) 13\n",
      "40 tensor(0.6928) 11\n",
      "41 tensor(0.6868) 11\n",
      "42 tensor(0.6961) 12\n",
      "43 tensor(0.6730) 13\n",
      "44 tensor(0.6791) 14\n",
      "45 tensor(0.6768) 12\n",
      "46 tensor(0.6698) 14\n",
      "47 tensor(0.6851) 12\n",
      "48 tensor(0.6689) 13\n",
      "49 tensor(0.6670) 14\n",
      "50 tensor(0.6796) 12\n",
      "51 tensor(0.6480) 16\n",
      "52 tensor(0.6852) 12\n",
      "53 tensor(0.6647) 16\n",
      "54 tensor(0.6662) 15\n",
      "55 tensor(0.6610) 15\n",
      "56 tensor(0.6644) 14\n",
      "57 tensor(0.6699) 16\n",
      "58 tensor(0.6705) 14\n",
      "59 tensor(0.6743) 14\n",
      "60 tensor(0.6548) 16\n",
      "61 tensor(0.6369) 18\n",
      "62 tensor(0.6610) 14\n",
      "63 tensor(0.6406) 17\n",
      "64 tensor(0.6709) 14\n",
      "65 tensor(0.6543) 16\n",
      "66 tensor(0.6696) 14\n",
      "67 tensor(0.6530) 16\n",
      "68 tensor(0.6582) 16\n",
      "69 tensor(0.6692) 14\n",
      "70 tensor(0.6713) 14\n",
      "71 tensor(0.6547) 14\n",
      "72 tensor(0.6567) 15\n",
      "73 tensor(0.6429) 18\n",
      "74 tensor(0.6276) 17\n",
      "75 tensor(0.6738) 14\n",
      "76 tensor(0.6320) 18\n",
      "77 tensor(0.6489) 16\n",
      "78 tensor(0.6197) 18\n",
      "79 tensor(0.6329) 17\n",
      "80 tensor(0.6305) 17\n",
      "81 tensor(0.6479) 15\n",
      "82 tensor(0.6527) 15\n",
      "83 tensor(0.6472) 16\n",
      "84 tensor(0.6237) 17\n",
      "85 tensor(0.6445) 15\n",
      "86 tensor(0.6550) 14\n",
      "87 tensor(0.6592) 12\n",
      "88 tensor(0.6270) 17\n",
      "89 tensor(0.6536) 14\n",
      "90 tensor(0.6555) 14\n",
      "91 tensor(0.6215) 16\n",
      "92 tensor(0.6406) 15\n",
      "93 tensor(0.6421) 16\n",
      "94 tensor(0.6516) 15\n",
      "95 tensor(0.6424) 15\n",
      "96 tensor(0.6425) 15\n",
      "97 tensor(0.6266) 18\n",
      "98 tensor(0.6180) 17\n",
      "99 tensor(0.6090) 18\n",
      "100 tensor(0.6384) 16\n",
      "101 tensor(0.6425) 15\n",
      "102 tensor(0.6223) 15\n",
      "103 tensor(0.6851) 11\n",
      "104 tensor(0.6219) 16\n",
      "105 tensor(0.6273) 16\n",
      "106 tensor(0.6254) 16\n",
      "107 tensor(0.6099) 17\n",
      "108 tensor(0.6193) 16\n",
      "109 tensor(0.6640) 12\n",
      "110 tensor(0.6330) 15\n",
      "111 tensor(0.6172) 17\n",
      "112 tensor(0.6197) 16\n",
      "113 tensor(0.6554) 12\n",
      "114 tensor(0.6106) 17\n",
      "115 tensor(0.6355) 14\n",
      "116 tensor(0.6177) 15\n",
      "117 tensor(0.6093) 17\n",
      "118 tensor(0.6400) 15\n",
      "119 tensor(0.6425) 14\n",
      "120 tensor(0.6147) 16\n",
      "121 tensor(0.6243) 16\n",
      "122 tensor(0.6140) 16\n",
      "123 tensor(0.6105) 15\n",
      "124 tensor(0.6019) 17\n",
      "125 tensor(0.6708) 12\n",
      "126 tensor(0.6072) 16\n",
      "127 tensor(0.6688) 12\n",
      "128 tensor(0.6628) 12\n",
      "129 tensor(0.6142) 16\n",
      "130 tensor(0.5814) 18\n",
      "131 tensor(0.6103) 15\n",
      "132 tensor(0.6126) 16\n",
      "133 tensor(0.6384) 14\n",
      "134 tensor(0.6484) 12\n",
      "135 tensor(0.5912) 17\n",
      "136 tensor(0.6367) 14\n",
      "137 tensor(0.6372) 13\n",
      "138 tensor(0.6349) 15\n",
      "139 tensor(0.6592) 13\n",
      "140 tensor(0.6017) 15\n",
      "141 tensor(0.5634) 18\n",
      "142 tensor(0.6414) 13\n",
      "143 tensor(0.6089) 15\n",
      "144 tensor(0.6194) 15\n",
      "145 tensor(0.6102) 15\n",
      "146 tensor(0.6208) 14\n",
      "147 tensor(0.5974) 15\n",
      "148 tensor(0.5987) 16\n",
      "149 tensor(0.6067) 16\n",
      "150 tensor(0.5822) 16\n",
      "151 tensor(0.6047) 16\n",
      "152 tensor(0.6028) 16\n",
      "153 tensor(0.6146) 15\n",
      "154 tensor(0.5583) 17\n",
      "155 tensor(0.6220) 14\n",
      "156 tensor(0.6126) 14\n",
      "157 tensor(0.6138) 15\n",
      "158 tensor(0.5920) 16\n",
      "159 tensor(0.6217) 15\n",
      "160 tensor(0.6034) 15\n",
      "161 tensor(0.6425) 14\n",
      "162 tensor(0.5719) 17\n",
      "163 tensor(0.6010) 16\n",
      "164 tensor(0.5824) 16\n",
      "165 tensor(0.6261) 14\n",
      "166 tensor(0.6431) 13\n",
      "167 tensor(0.5724) 17\n",
      "168 tensor(0.5855) 17\n",
      "169 tensor(0.6445) 13\n",
      "170 tensor(0.5965) 16\n",
      "171 tensor(0.5717) 17\n",
      "172 tensor(0.6080) 15\n",
      "173 tensor(0.6157) 14\n",
      "174 tensor(0.6300) 13\n",
      "175 tensor(0.5650) 17\n",
      "176 tensor(0.6594) 12\n",
      "177 tensor(0.5529) 18\n",
      "178 tensor(0.6252) 13\n",
      "179 tensor(0.5778) 17\n",
      "180 tensor(0.6094) 15\n",
      "181 tensor(0.6220) 14\n",
      "182 tensor(0.6545) 13\n",
      "183 tensor(0.5631) 17\n",
      "184 tensor(0.5923) 15\n",
      "185 tensor(0.5807) 16\n",
      "186 tensor(0.5636) 17\n",
      "187 tensor(0.5649) 17\n",
      "188 tensor(0.6063) 15\n",
      "189 tensor(0.5529) 17\n",
      "190 tensor(0.5663) 17\n",
      "191 tensor(0.5626) 17\n",
      "192 tensor(0.5949) 15\n",
      "193 tensor(0.6034) 15\n",
      "194 tensor(0.5692) 17\n",
      "195 tensor(0.6041) 15\n",
      "196 tensor(0.6646) 11\n",
      "197 tensor(0.5658) 16\n",
      "198 tensor(0.6073) 14\n",
      "199 tensor(0.5847) 15\n",
      "200 tensor(0.6277) 12\n",
      "201 tensor(0.6286) 13\n",
      "202 tensor(0.5950) 15\n",
      "203 tensor(0.5960) 16\n",
      "204 tensor(0.5356) 18\n",
      "205 tensor(0.5645) 16\n",
      "206 tensor(0.6299) 13\n",
      "207 tensor(0.6183) 14\n",
      "208 tensor(0.6117) 14\n",
      "209 tensor(0.5874) 16\n",
      "210 tensor(0.6080) 14\n",
      "211 tensor(0.5925) 15\n",
      "212 tensor(0.5774) 16\n",
      "213 tensor(0.5771) 16\n",
      "214 tensor(0.5616) 16\n",
      "215 tensor(0.6001) 13\n",
      "216 tensor(0.5709) 16\n",
      "217 tensor(0.6163) 14\n",
      "218 tensor(0.5821) 16\n",
      "219 tensor(0.5407) 18\n",
      "220 tensor(0.5692) 16\n",
      "221 tensor(0.6310) 12\n",
      "222 tensor(0.5840) 15\n",
      "223 tensor(0.5462) 17\n",
      "224 tensor(0.5783) 15\n",
      "225 tensor(0.5712) 16\n",
      "226 tensor(0.6063) 14\n",
      "227 tensor(0.5887) 15\n",
      "228 tensor(0.5944) 15\n",
      "229 tensor(0.5579) 16\n",
      "230 tensor(0.5699) 16\n",
      "231 tensor(0.5374) 17\n",
      "232 tensor(0.5914) 15\n",
      "233 tensor(0.5763) 15\n",
      "234 tensor(0.5918) 14\n",
      "235 tensor(0.5977) 14\n",
      "236 tensor(0.5559) 16\n",
      "237 tensor(0.5955) 15\n",
      "238 tensor(0.5411) 17\n",
      "239 tensor(0.5792) 16\n",
      "240 tensor(0.5557) 17\n",
      "241 tensor(0.5463) 16\n",
      "242 tensor(0.5679) 16\n",
      "243 tensor(0.5842) 15\n",
      "244 tensor(0.5617) 16\n",
      "245 tensor(0.5554) 16\n",
      "246 tensor(0.6144) 14\n",
      "247 tensor(0.5958) 14\n",
      "248 tensor(0.6311) 13\n",
      "249 tensor(0.5960) 14\n",
      "250 tensor(0.5470) 17\n",
      "251 tensor(0.6480) 13\n",
      "252 tensor(0.5624) 16\n",
      "253 tensor(0.6050) 14\n",
      "254 tensor(0.5860) 15\n",
      "255 tensor(0.5505) 17\n",
      "256 tensor(0.5967) 14\n",
      "257 tensor(0.5511) 16\n",
      "258 tensor(0.5343) 17\n",
      "259 tensor(0.5361) 17\n",
      "260 tensor(0.5855) 15\n",
      "261 tensor(0.5869) 15\n",
      "262 tensor(0.5251) 17\n",
      "263 tensor(0.6069) 14\n",
      "264 tensor(0.6149) 13\n",
      "265 tensor(0.5888) 15\n",
      "266 tensor(0.5484) 16\n",
      "267 tensor(0.6202) 13\n",
      "268 tensor(0.5696) 16\n",
      "269 tensor(0.6161) 13\n",
      "270 tensor(0.5797) 16\n",
      "271 tensor(0.6031) 15\n",
      "272 tensor(0.5275) 18\n",
      "273 tensor(0.5545) 16\n",
      "274 tensor(0.5699) 15\n",
      "275 tensor(0.5745) 15\n",
      "276 tensor(0.5615) 17\n",
      "277 tensor(0.6266) 13\n",
      "278 tensor(0.6210) 13\n",
      "279 tensor(0.6016) 14\n",
      "280 tensor(0.5139) 18\n",
      "281 tensor(0.5853) 15\n",
      "282 tensor(0.5300) 17\n",
      "283 tensor(0.6192) 13\n",
      "284 tensor(0.5802) 14\n",
      "285 tensor(0.5518) 16\n",
      "286 tensor(0.5874) 14\n",
      "287 tensor(0.5386) 16\n",
      "288 tensor(0.5457) 16\n",
      "289 tensor(0.4651) 20\n",
      "290 tensor(0.5650) 16\n",
      "291 tensor(0.5192) 18\n",
      "292 tensor(0.5619) 16\n",
      "293 tensor(0.6281) 12\n",
      "294 tensor(0.6011) 14\n",
      "295 tensor(0.5143) 18\n",
      "296 tensor(0.6381) 12\n",
      "297 tensor(0.5764) 15\n",
      "298 tensor(0.5906) 15\n",
      "299 tensor(0.5892) 14\n",
      "300 tensor(0.5376) 16\n",
      "301 tensor(0.5544) 16\n",
      "302 tensor(0.5319) 17\n",
      "303 tensor(0.5875) 15\n",
      "304 tensor(0.5424) 16\n",
      "305 tensor(0.5438) 16\n",
      "306 tensor(0.5978) 14\n",
      "307 tensor(0.5215) 18\n",
      "308 tensor(0.5367) 16\n",
      "309 tensor(0.5855) 14\n",
      "310 tensor(0.5937) 14\n",
      "311 tensor(0.5976) 14\n",
      "312 tensor(0.5601) 16\n",
      "313 tensor(0.5260) 17\n",
      "314 tensor(0.5778) 15\n",
      "315 tensor(0.5462) 16\n",
      "316 tensor(0.5765) 15\n",
      "317 tensor(0.5476) 16\n",
      "318 tensor(0.6115) 14\n",
      "319 tensor(0.5528) 15\n",
      "320 tensor(0.5901) 14\n",
      "321 tensor(0.5729) 15\n",
      "322 tensor(0.5393) 16\n",
      "323 tensor(0.6171) 13\n",
      "324 tensor(0.6300) 12\n",
      "325 tensor(0.5915) 14\n",
      "326 tensor(0.5835) 15\n",
      "327 tensor(0.5590) 16\n",
      "328 tensor(0.5265) 17\n",
      "329 tensor(0.5123) 17\n",
      "330 tensor(0.5899) 14\n",
      "331 tensor(0.4932) 18\n",
      "332 tensor(0.5445) 16\n",
      "333 tensor(0.5656) 15\n",
      "334 tensor(0.5669) 15\n",
      "335 tensor(0.5113) 17\n",
      "336 tensor(0.5489) 16\n",
      "337 tensor(0.5410) 16\n",
      "338 tensor(0.5836) 14\n",
      "339 tensor(0.5798) 15\n",
      "340 tensor(0.6351) 12\n",
      "341 tensor(0.6069) 13\n",
      "342 tensor(0.5900) 13\n",
      "343 tensor(0.5795) 15\n",
      "344 tensor(0.6378) 12\n",
      "345 tensor(0.5264) 17\n",
      "346 tensor(0.5620) 15\n",
      "347 tensor(0.4991) 18\n",
      "348 tensor(0.5199) 17\n",
      "349 tensor(0.5486) 15\n",
      "350 tensor(0.5988) 14\n",
      "351 tensor(0.5636) 16\n",
      "352 tensor(0.5734) 15\n",
      "353 tensor(0.5607) 15\n",
      "354 tensor(0.5456) 16\n",
      "355 tensor(0.5631) 15\n",
      "356 tensor(0.5045) 18\n",
      "357 tensor(0.5460) 16\n",
      "358 tensor(0.5655) 15\n",
      "359 tensor(0.5722) 15\n",
      "360 tensor(0.4868) 18\n",
      "361 tensor(0.5140) 17\n",
      "362 tensor(0.5256) 17\n",
      "363 tensor(0.5971) 14\n",
      "364 tensor(0.4914) 18\n",
      "365 tensor(0.6054) 13\n",
      "366 tensor(0.5496) 15\n",
      "367 tensor(0.5827) 14\n",
      "368 tensor(0.6455) 12\n",
      "369 tensor(0.6102) 13\n",
      "370 tensor(0.5393) 16\n",
      "371 tensor(0.5232) 16\n",
      "372 tensor(0.4983) 18\n",
      "373 tensor(0.6133) 13\n",
      "374 tensor(0.5945) 14\n",
      "375 tensor(0.6068) 13\n",
      "376 tensor(0.5215) 17\n",
      "377 tensor(0.6116) 13\n",
      "378 tensor(0.5811) 14\n",
      "379 tensor(0.5562) 15\n",
      "380 tensor(0.5650) 15\n",
      "381 tensor(0.5452) 16\n",
      "382 tensor(0.6171) 13\n",
      "383 tensor(0.5173) 17\n",
      "384 tensor(0.5761) 14\n",
      "385 tensor(0.5708) 15\n",
      "386 tensor(0.5355) 16\n",
      "387 tensor(0.5629) 15\n",
      "388 tensor(0.5347) 17\n",
      "389 tensor(0.5066) 18\n",
      "390 tensor(0.5170) 17\n"
     ]
    },
    {
     "name": "stdout",
     "output_type": "stream",
     "text": [
      "391 tensor(0.5377) 16\n",
      "392 tensor(0.5500) 15\n",
      "393 tensor(0.5050) 17\n",
      "394 tensor(0.5224) 17\n",
      "395 tensor(0.5908) 13\n",
      "396 tensor(0.5525) 16\n",
      "397 tensor(0.5198) 17\n",
      "398 tensor(0.5723) 15\n",
      "399 tensor(0.5902) 14\n",
      "400 tensor(0.5836) 14\n",
      "401 tensor(0.5484) 15\n",
      "402 tensor(0.5734) 14\n",
      "403 tensor(0.5708) 15\n",
      "404 tensor(0.5598) 15\n",
      "405 tensor(0.6095) 13\n",
      "406 tensor(0.5313) 16\n",
      "407 tensor(0.5373) 17\n",
      "408 tensor(0.5037) 17\n",
      "409 tensor(0.5732) 14\n",
      "410 tensor(0.5484) 15\n",
      "411 tensor(0.5778) 14\n",
      "412 tensor(0.5294) 16\n",
      "413 tensor(0.4947) 18\n",
      "414 tensor(0.5146) 16\n",
      "415 tensor(0.4988) 17\n",
      "416 tensor(0.5412) 16\n",
      "417 tensor(0.5373) 16\n",
      "418 tensor(0.5748) 14\n",
      "419 tensor(0.5267) 16\n",
      "420 tensor(0.5465) 16\n",
      "421 tensor(0.5716) 14\n",
      "422 tensor(0.5905) 14\n",
      "423 tensor(0.6338) 12\n",
      "424 tensor(0.5382) 16\n",
      "425 tensor(0.5274) 17\n",
      "426 tensor(0.5303) 16\n",
      "427 tensor(0.5688) 15\n",
      "428 tensor(0.5344) 16\n",
      "429 tensor(0.5711) 14\n",
      "430 tensor(0.5696) 14\n",
      "431 tensor(0.5351) 16\n",
      "432 tensor(0.5081) 16\n",
      "433 tensor(0.5489) 15\n",
      "434 tensor(0.4854) 18\n",
      "435 tensor(0.5748) 14\n",
      "436 tensor(0.5123) 17\n",
      "437 tensor(0.6099) 13\n",
      "438 tensor(0.5886) 14\n",
      "439 tensor(0.5934) 13\n",
      "440 tensor(0.5810) 14\n",
      "441 tensor(0.5574) 14\n",
      "442 tensor(0.5050) 17\n",
      "443 tensor(0.4660) 19\n",
      "444 tensor(0.5459) 15\n",
      "445 tensor(0.6074) 13\n",
      "446 tensor(0.5693) 14\n",
      "447 tensor(0.6022) 13\n",
      "448 tensor(0.5494) 15\n",
      "449 tensor(0.4684) 18\n",
      "450 tensor(0.5629) 15\n",
      "451 tensor(0.5005) 17\n",
      "452 tensor(0.4923) 17\n",
      "453 tensor(0.5528) 15\n",
      "454 tensor(0.5623) 15\n",
      "455 tensor(0.5509) 15\n",
      "456 tensor(0.4980) 16\n",
      "457 tensor(0.5797) 14\n",
      "458 tensor(0.5001) 16\n",
      "459 tensor(0.5110) 16\n",
      "460 tensor(0.5477) 16\n",
      "461 tensor(0.4941) 17\n",
      "462 tensor(0.5085) 16\n",
      "463 tensor(0.5271) 16\n",
      "464 tensor(0.5412) 16\n",
      "465 tensor(0.5855) 13\n",
      "466 tensor(0.5349) 16\n",
      "467 tensor(0.5619) 14\n",
      "468 tensor(0.5507) 15\n",
      "469 tensor(0.5685) 15\n",
      "470 tensor(0.5533) 15\n",
      "471 tensor(0.4899) 17\n",
      "472 tensor(0.5815) 14\n",
      "473 tensor(0.5178) 17\n",
      "474 tensor(0.5043) 17\n",
      "475 tensor(0.5167) 17\n",
      "476 tensor(0.5350) 15\n",
      "477 tensor(0.5599) 15\n",
      "478 tensor(0.5299) 16\n",
      "479 tensor(0.5187) 16\n",
      "480 tensor(0.5275) 16\n",
      "481 tensor(0.4730) 18\n",
      "482 tensor(0.5664) 14\n",
      "483 tensor(0.5333) 16\n",
      "484 tensor(0.6220) 12\n",
      "485 tensor(0.5807) 15\n",
      "486 tensor(0.5115) 17\n",
      "487 tensor(0.5814) 14\n",
      "488 tensor(0.5907) 13\n",
      "489 tensor(0.5768) 15\n",
      "490 tensor(0.5207) 16\n",
      "491 tensor(0.5717) 14\n",
      "492 tensor(0.5687) 14\n",
      "493 tensor(0.5422) 16\n",
      "494 tensor(0.5925) 13\n",
      "495 tensor(0.5002) 17\n",
      "496 tensor(0.5749) 14\n",
      "497 tensor(0.5848) 13\n",
      "498 tensor(0.5321) 15\n",
      "499 tensor(0.5601) 14\n",
      "500 tensor(0.6054) 12\n",
      "501 tensor(0.5873) 13\n",
      "502 tensor(0.5916) 13\n",
      "503 tensor(0.5224) 16\n",
      "504 tensor(0.5261) 16\n",
      "505 tensor(0.5607) 15\n",
      "506 tensor(0.5618) 14\n",
      "507 tensor(0.5783) 14\n",
      "508 tensor(0.4976) 17\n",
      "509 tensor(0.5404) 15\n",
      "510 tensor(0.5400) 15\n",
      "511 tensor(0.5942) 13\n",
      "512 tensor(0.5285) 16\n",
      "513 tensor(0.5208) 16\n",
      "514 tensor(0.4877) 17\n",
      "515 tensor(0.5434) 15\n",
      "516 tensor(0.6021) 13\n",
      "517 tensor(0.5305) 15\n",
      "518 tensor(0.5128) 16\n",
      "519 tensor(0.5883) 14\n",
      "520 tensor(0.5434) 15\n",
      "521 tensor(0.5127) 16\n",
      "522 tensor(0.4880) 17\n",
      "523 tensor(0.5674) 15\n",
      "524 tensor(0.5580) 15\n",
      "525 tensor(0.4874) 17\n",
      "526 tensor(0.5443) 15\n",
      "527 tensor(0.4968) 16\n",
      "528 tensor(0.5971) 13\n",
      "529 tensor(0.5189) 16\n",
      "530 tensor(0.5649) 15\n",
      "531 tensor(0.5656) 14\n",
      "532 tensor(0.5133) 16\n",
      "533 tensor(0.5666) 15\n",
      "534 tensor(0.5769) 14\n",
      "535 tensor(0.5113) 16\n",
      "536 tensor(0.5473) 15\n",
      "537 tensor(0.5482) 15\n",
      "538 tensor(0.5891) 14\n",
      "539 tensor(0.5761) 15\n",
      "540 tensor(0.5262) 16\n",
      "541 tensor(0.5285) 16\n",
      "542 tensor(0.5174) 16\n",
      "543 tensor(0.4940) 17\n",
      "544 tensor(0.5432) 15\n",
      "545 tensor(0.5582) 14\n",
      "546 tensor(0.5326) 16\n",
      "547 tensor(0.4983) 17\n",
      "548 tensor(0.5888) 13\n",
      "549 tensor(0.5835) 14\n",
      "550 tensor(0.5356) 16\n",
      "551 tensor(0.5775) 14\n",
      "552 tensor(0.5436) 16\n",
      "553 tensor(0.5003) 17\n",
      "554 tensor(0.5658) 15\n",
      "555 tensor(0.4670) 18\n",
      "556 tensor(0.6148) 12\n",
      "557 tensor(0.5950) 13\n",
      "558 tensor(0.5804) 14\n",
      "559 tensor(0.5071) 16\n",
      "560 tensor(0.5591) 15\n",
      "561 tensor(0.5268) 15\n",
      "562 tensor(0.5683) 14\n",
      "563 tensor(0.5055) 17\n",
      "564 tensor(0.5889) 14\n",
      "565 tensor(0.5554) 14\n",
      "566 tensor(0.4784) 18\n",
      "567 tensor(0.5939) 13\n",
      "568 tensor(0.4839) 17\n",
      "569 tensor(0.5310) 16\n",
      "570 tensor(0.5207) 16\n",
      "571 tensor(0.5411) 15\n",
      "572 tensor(0.5072) 16\n",
      "573 tensor(0.5301) 16\n",
      "574 tensor(0.5085) 17\n",
      "575 tensor(0.5825) 13\n",
      "576 tensor(0.5358) 15\n",
      "577 tensor(0.5008) 17\n",
      "578 tensor(0.6001) 13\n",
      "579 tensor(0.5436) 14\n",
      "580 tensor(0.5932) 14\n",
      "581 tensor(0.5522) 15\n",
      "582 tensor(0.5274) 16\n",
      "583 tensor(0.5382) 16\n",
      "584 tensor(0.5317) 15\n",
      "585 tensor(0.6146) 12\n",
      "586 tensor(0.5511) 15\n",
      "587 tensor(0.5564) 15\n",
      "588 tensor(0.5397) 15\n",
      "589 tensor(0.5193) 16\n",
      "590 tensor(0.5059) 16\n",
      "591 tensor(0.5462) 14\n",
      "592 tensor(0.4919) 16\n",
      "593 tensor(0.5739) 14\n",
      "594 tensor(0.6127) 12\n",
      "595 tensor(0.5678) 14\n",
      "596 tensor(0.4393) 18\n",
      "597 tensor(0.5473) 15\n",
      "598 tensor(0.5597) 14\n",
      "599 tensor(0.5537) 14\n",
      "600 tensor(0.5549) 15\n",
      "601 tensor(0.5388) 15\n",
      "602 tensor(0.5094) 16\n",
      "603 tensor(0.5800) 14\n",
      "604 tensor(0.5960) 13\n",
      "605 tensor(0.5371) 15\n",
      "606 tensor(0.4702) 18\n",
      "607 tensor(0.5344) 15\n",
      "608 tensor(0.5067) 16\n",
      "609 tensor(0.5237) 15\n",
      "610 tensor(0.5448) 15\n",
      "611 tensor(0.5420) 15\n",
      "612 tensor(0.5127) 16\n",
      "613 tensor(0.5082) 17\n",
      "614 tensor(0.5903) 13\n",
      "615 tensor(0.5853) 13\n",
      "616 tensor(0.4957) 17\n",
      "617 tensor(0.5751) 13\n",
      "618 tensor(0.6213) 12\n",
      "619 tensor(0.5259) 16\n",
      "620 tensor(0.5261) 15\n",
      "621 tensor(0.5894) 13\n",
      "622 tensor(0.5236) 16\n",
      "623 tensor(0.5649) 14\n",
      "624 tensor(0.5161) 16\n",
      "625 tensor(0.5557) 15\n",
      "626 tensor(0.6422) 12\n",
      "627 tensor(0.5254) 16\n",
      "628 tensor(0.5537) 15\n",
      "629 tensor(0.5327) 16\n",
      "630 tensor(0.5501) 14\n",
      "631 tensor(0.5236) 16\n",
      "632 tensor(0.5620) 14\n",
      "633 tensor(0.4817) 17\n",
      "634 tensor(0.4830) 18\n",
      "635 tensor(0.5852) 13\n",
      "636 tensor(0.5601) 14\n",
      "637 tensor(0.4545) 18\n",
      "638 tensor(0.5622) 14\n",
      "639 tensor(0.5239) 16\n",
      "640 tensor(0.5131) 16\n",
      "641 tensor(0.4952) 17\n",
      "642 tensor(0.4994) 17\n",
      "643 tensor(0.4962) 17\n",
      "644 tensor(0.4736) 18\n",
      "645 tensor(0.5290) 14\n",
      "646 tensor(0.5394) 15\n",
      "647 tensor(0.5780) 13\n",
      "648 tensor(0.5950) 13\n",
      "649 tensor(0.4953) 17\n",
      "650 tensor(0.4742) 17\n",
      "651 tensor(0.5247) 15\n",
      "652 tensor(0.5745) 14\n",
      "653 tensor(0.4746) 17\n",
      "654 tensor(0.5894) 14\n",
      "655 tensor(0.4916) 17\n",
      "656 tensor(0.5294) 15\n",
      "657 tensor(0.5275) 16\n",
      "658 tensor(0.5323) 16\n",
      "659 tensor(0.4843) 18\n",
      "660 tensor(0.4764) 18\n",
      "661 tensor(0.5153) 16\n",
      "662 tensor(0.5503) 15\n",
      "663 tensor(0.6138) 12\n",
      "664 tensor(0.5142) 17\n",
      "665 tensor(0.5204) 17\n",
      "666 tensor(0.5909) 13\n",
      "667 tensor(0.4760) 18\n",
      "668 tensor(0.5323) 15\n",
      "669 tensor(0.5806) 14\n",
      "670 tensor(0.5364) 16\n",
      "671 tensor(0.5312) 16\n",
      "672 tensor(0.5056) 17\n",
      "673 tensor(0.5827) 14\n",
      "674 tensor(0.5567) 15\n",
      "675 tensor(0.5168) 16\n",
      "676 tensor(0.5425) 15\n",
      "677 tensor(0.5319) 16\n",
      "678 tensor(0.5067) 17\n",
      "679 tensor(0.5310) 15\n",
      "680 tensor(0.5629) 14\n",
      "681 tensor(0.5686) 15\n",
      "682 tensor(0.5126) 17\n",
      "683 tensor(0.5123) 17\n",
      "684 tensor(0.5216) 17\n",
      "685 tensor(0.5724) 15\n",
      "686 tensor(0.5300) 16\n",
      "687 tensor(0.5914) 14\n",
      "688 tensor(0.6031) 14\n",
      "689 tensor(0.5679) 15\n",
      "690 tensor(0.5059) 17\n",
      "691 tensor(0.5012) 17\n",
      "692 tensor(0.5244) 16\n",
      "693 tensor(0.5298) 16\n",
      "694 tensor(0.4460) 20\n",
      "695 tensor(0.4600) 18\n",
      "696 tensor(0.5400) 15\n",
      "697 tensor(0.5737) 14\n",
      "698 tensor(0.4906) 18\n",
      "699 tensor(0.5512) 15\n",
      "700 tensor(0.4861) 18\n",
      "701 tensor(0.5403) 16\n",
      "702 tensor(0.5480) 15\n",
      "703 tensor(0.5289) 17\n",
      "704 tensor(0.5424) 16\n",
      "705 tensor(0.4862) 18\n",
      "706 tensor(0.5471) 15\n",
      "707 tensor(0.5556) 16\n",
      "708 tensor(0.5007) 17\n",
      "709 tensor(0.4661) 18\n",
      "710 tensor(0.5683) 15\n",
      "711 tensor(0.5555) 15\n",
      "712 tensor(0.5219) 16\n",
      "713 tensor(0.5688) 14\n",
      "714 tensor(0.5253) 15\n",
      "715 tensor(0.5414) 16\n",
      "716 tensor(0.5001) 17\n",
      "717 tensor(0.5285) 16\n",
      "718 tensor(0.4960) 18\n",
      "719 tensor(0.5606) 14\n",
      "720 tensor(0.5787) 14\n",
      "721 tensor(0.5830) 14\n",
      "722 tensor(0.5090) 17\n",
      "723 tensor(0.5690) 15\n",
      "724 tensor(0.5583) 14\n",
      "725 tensor(0.5877) 14\n",
      "726 tensor(0.5607) 15\n",
      "727 tensor(0.5308) 16\n",
      "728 tensor(0.5645) 15\n",
      "729 tensor(0.5011) 17\n",
      "730 tensor(0.4973) 17\n",
      "731 tensor(0.5631) 15\n",
      "732 tensor(0.5036) 16\n",
      "733 tensor(0.4919) 18\n",
      "734 tensor(0.4312) 20\n",
      "735 tensor(0.4930) 17\n",
      "736 tensor(0.5563) 15\n",
      "737 tensor(0.5731) 14\n",
      "738 tensor(0.5473) 15\n",
      "739 tensor(0.5455) 16\n",
      "740 tensor(0.5839) 15\n",
      "741 tensor(0.5157) 16\n",
      "742 tensor(0.6111) 13\n",
      "743 tensor(0.5573) 16\n",
      "744 tensor(0.4926) 18\n",
      "745 tensor(0.5039) 18\n",
      "746 tensor(0.5553) 15\n",
      "747 tensor(0.5506) 14\n",
      "748 tensor(0.5769) 14\n",
      "749 tensor(0.5249) 16\n",
      "750 tensor(0.5524) 15\n",
      "751 tensor(0.5237) 17\n",
      "752 tensor(0.5089) 16\n",
      "753 tensor(0.4771) 17\n",
      "754 tensor(0.5267) 16\n",
      "755 tensor(0.5501) 15\n",
      "756 tensor(0.4691) 17\n",
      "757 tensor(0.5392) 16\n",
      "758 tensor(0.5442) 15\n",
      "759 tensor(0.5668) 15\n",
      "760 tensor(0.5528) 15\n",
      "761 tensor(0.4782) 17\n",
      "762 tensor(0.5726) 15\n",
      "763 tensor(0.4969) 17\n",
      "764 tensor(0.5181) 16\n",
      "765 tensor(0.5421) 16\n",
      "766 tensor(0.5591) 14\n",
      "767 tensor(0.5059) 17\n",
      "768 tensor(0.5335) 16\n",
      "769 tensor(0.5146) 17\n"
     ]
    },
    {
     "name": "stdout",
     "output_type": "stream",
     "text": [
      "770 tensor(0.5260) 16\n",
      "771 tensor(0.4780) 18\n",
      "772 tensor(0.4400) 19\n",
      "773 tensor(0.4815) 17\n",
      "774 tensor(0.4662) 18\n",
      "775 tensor(0.5341) 16\n",
      "776 tensor(0.5848) 13\n",
      "777 tensor(0.5006) 16\n",
      "778 tensor(0.6048) 13\n",
      "779 tensor(0.4854) 17\n",
      "780 tensor(0.4620) 18\n",
      "781 tensor(0.5233) 16\n",
      "782 tensor(0.5625) 14\n",
      "783 tensor(0.5341) 15\n",
      "784 tensor(0.5106) 16\n",
      "785 tensor(0.4993) 17\n",
      "786 tensor(0.5556) 14\n",
      "787 tensor(0.5120) 16\n",
      "788 tensor(0.5392) 16\n",
      "789 tensor(0.4451) 19\n",
      "790 tensor(0.4800) 18\n",
      "791 tensor(0.5396) 15\n",
      "792 tensor(0.4685) 17\n",
      "793 tensor(0.5830) 13\n",
      "794 tensor(0.5429) 15\n",
      "795 tensor(0.5179) 17\n",
      "796 tensor(0.5785) 13\n",
      "797 tensor(0.4983) 17\n",
      "798 tensor(0.5087) 16\n",
      "799 tensor(0.5291) 16\n",
      "800 tensor(0.5090) 16\n",
      "801 tensor(0.5917) 13\n",
      "802 tensor(0.5725) 14\n",
      "803 tensor(0.5918) 13\n",
      "804 tensor(0.5259) 15\n",
      "805 tensor(0.5196) 15\n",
      "806 tensor(0.5194) 16\n",
      "807 tensor(0.5142) 16\n",
      "808 tensor(0.5253) 16\n",
      "809 tensor(0.5591) 14\n",
      "810 tensor(0.5639) 15\n",
      "811 tensor(0.5088) 16\n",
      "812 tensor(0.5214) 16\n",
      "813 tensor(0.5481) 15\n",
      "814 tensor(0.5055) 15\n",
      "815 tensor(0.5072) 17\n",
      "816 tensor(0.5511) 15\n",
      "817 tensor(0.5208) 15\n",
      "818 tensor(0.5563) 14\n",
      "819 tensor(0.5085) 16\n",
      "820 tensor(0.4825) 17\n",
      "821 tensor(0.5569) 13\n",
      "822 tensor(0.5343) 16\n",
      "823 tensor(0.5222) 16\n",
      "824 tensor(0.5590) 15\n",
      "825 tensor(0.5511) 14\n",
      "826 tensor(0.5759) 13\n",
      "827 tensor(0.4684) 18\n",
      "828 tensor(0.5094) 16\n",
      "829 tensor(0.4826) 17\n",
      "830 tensor(0.4992) 17\n",
      "831 tensor(0.4712) 17\n",
      "832 tensor(0.4922) 16\n",
      "833 tensor(0.5360) 15\n",
      "834 tensor(0.5762) 13\n",
      "835 tensor(0.5037) 16\n",
      "836 tensor(0.5037) 17\n",
      "837 tensor(0.4697) 17\n",
      "838 tensor(0.5298) 15\n",
      "839 tensor(0.5087) 16\n",
      "840 tensor(0.4606) 18\n",
      "841 tensor(0.5143) 16\n",
      "842 tensor(0.5192) 16\n",
      "843 tensor(0.4972) 17\n",
      "844 tensor(0.5090) 16\n",
      "845 tensor(0.4891) 17\n",
      "846 tensor(0.5405) 15\n",
      "847 tensor(0.4890) 17\n",
      "848 tensor(0.4966) 17\n",
      "849 tensor(0.5117) 16\n",
      "850 tensor(0.5530) 15\n",
      "851 tensor(0.4975) 17\n",
      "852 tensor(0.5011) 17\n",
      "853 tensor(0.4790) 17\n",
      "854 tensor(0.5359) 15\n",
      "855 tensor(0.5197) 16\n",
      "856 tensor(0.4729) 17\n",
      "857 tensor(0.5814) 13\n",
      "858 tensor(0.4875) 17\n",
      "859 tensor(0.5708) 14\n",
      "860 tensor(0.4767) 17\n",
      "861 tensor(0.5026) 16\n",
      "862 tensor(0.4922) 17\n",
      "863 tensor(0.5686) 14\n",
      "864 tensor(0.5409) 15\n",
      "865 tensor(0.5495) 14\n",
      "866 tensor(0.5062) 17\n",
      "867 tensor(0.4763) 18\n",
      "868 tensor(0.5366) 15\n",
      "869 tensor(0.5946) 13\n",
      "870 tensor(0.5617) 15\n",
      "871 tensor(0.4865) 17\n",
      "872 tensor(0.4491) 18\n",
      "873 tensor(0.5021) 17\n",
      "874 tensor(0.5165) 15\n",
      "875 tensor(0.4748) 18\n",
      "876 tensor(0.5495) 15\n",
      "877 tensor(0.5718) 13\n",
      "878 tensor(0.5488) 14\n",
      "879 tensor(0.5256) 15\n",
      "880 tensor(0.4905) 17\n",
      "881 tensor(0.5143) 17\n",
      "882 tensor(0.4376) 19\n",
      "883 tensor(0.4570) 18\n",
      "884 tensor(0.4833) 17\n",
      "885 tensor(0.5394) 14\n",
      "886 tensor(0.4929) 17\n",
      "887 tensor(0.4791) 17\n",
      "888 tensor(0.5489) 14\n",
      "889 tensor(0.5269) 14\n",
      "890 tensor(0.5391) 15\n",
      "891 tensor(0.5718) 14\n",
      "892 tensor(0.5777) 13\n",
      "893 tensor(0.6190) 11\n",
      "894 tensor(0.5072) 16\n",
      "895 tensor(0.4989) 17\n",
      "896 tensor(0.5155) 16\n",
      "897 tensor(0.5176) 15\n",
      "898 tensor(0.4796) 16\n",
      "899 tensor(0.5479) 14\n",
      "900 tensor(0.5045) 16\n",
      "901 tensor(0.5292) 15\n",
      "902 tensor(0.4988) 16\n",
      "903 tensor(0.5366) 16\n",
      "904 tensor(0.4527) 18\n",
      "905 tensor(0.5004) 16\n",
      "906 tensor(0.5828) 13\n",
      "907 tensor(0.5400) 15\n",
      "908 tensor(0.5023) 17\n",
      "909 tensor(0.5246) 15\n",
      "910 tensor(0.5512) 14\n",
      "911 tensor(0.4906) 16\n",
      "912 tensor(0.5791) 13\n",
      "913 tensor(0.4982) 17\n",
      "914 tensor(0.5598) 14\n",
      "915 tensor(0.4925) 17\n",
      "916 tensor(0.5108) 15\n",
      "917 tensor(0.4788) 17\n",
      "918 tensor(0.5571) 14\n",
      "919 tensor(0.5214) 16\n",
      "920 tensor(0.4675) 18\n",
      "921 tensor(0.5277) 14\n",
      "922 tensor(0.5295) 16\n",
      "923 tensor(0.4897) 16\n",
      "924 tensor(0.5322) 15\n",
      "925 tensor(0.5099) 16\n",
      "926 tensor(0.4915) 17\n",
      "927 tensor(0.5014) 16\n",
      "928 tensor(0.5031) 16\n",
      "929 tensor(0.4827) 17\n",
      "930 tensor(0.5115) 15\n",
      "931 tensor(0.4696) 18\n",
      "932 tensor(0.5384) 15\n",
      "933 tensor(0.5050) 17\n",
      "934 tensor(0.5534) 14\n",
      "935 tensor(0.5393) 15\n",
      "936 tensor(0.4997) 16\n",
      "937 tensor(0.5907) 13\n",
      "938 tensor(0.5886) 12\n",
      "939 tensor(0.4691) 18\n",
      "940 tensor(0.4824) 17\n",
      "941 tensor(0.5129) 16\n",
      "942 tensor(0.5523) 14\n",
      "943 tensor(0.4616) 17\n",
      "944 tensor(0.5533) 14\n",
      "945 tensor(0.5193) 16\n",
      "946 tensor(0.4469) 18\n",
      "947 tensor(0.5061) 16\n",
      "948 tensor(0.4672) 18\n",
      "949 tensor(0.4995) 17\n",
      "950 tensor(0.5170) 16\n",
      "951 tensor(0.5505) 14\n",
      "952 tensor(0.5128) 16\n",
      "953 tensor(0.4984) 16\n",
      "954 tensor(0.4982) 16\n",
      "955 tensor(0.4865) 17\n",
      "956 tensor(0.5332) 16\n",
      "957 tensor(0.5189) 16\n",
      "958 tensor(0.5220) 16\n",
      "959 tensor(0.4982) 16\n",
      "960 tensor(0.5362) 15\n",
      "961 tensor(0.5140) 15\n",
      "962 tensor(0.4752) 17\n",
      "963 tensor(0.4641) 17\n",
      "964 tensor(0.5321) 15\n",
      "965 tensor(0.5046) 15\n",
      "966 tensor(0.5231) 15\n",
      "967 tensor(0.5011) 16\n",
      "968 tensor(0.5051) 17\n",
      "969 tensor(0.4635) 17\n",
      "970 tensor(0.5448) 14\n",
      "971 tensor(0.4971) 16\n",
      "972 tensor(0.4536) 18\n",
      "973 tensor(0.4690) 18\n",
      "974 tensor(0.4572) 18\n",
      "975 tensor(0.4904) 16\n",
      "976 tensor(0.5749) 13\n",
      "977 tensor(0.4805) 17\n",
      "978 tensor(0.5227) 15\n",
      "979 tensor(0.5109) 15\n",
      "980 tensor(0.5347) 15\n",
      "981 tensor(0.4948) 17\n",
      "982 tensor(0.5139) 16\n",
      "983 tensor(0.5593) 14\n",
      "984 tensor(0.4855) 17\n",
      "985 tensor(0.5106) 15\n",
      "986 tensor(0.4492) 18\n",
      "987 tensor(0.5397) 15\n",
      "988 tensor(0.5759) 13\n",
      "989 tensor(0.5085) 16\n",
      "990 tensor(0.4998) 16\n",
      "991 tensor(0.4501) 18\n",
      "992 tensor(0.4857) 17\n",
      "993 tensor(0.4746) 18\n",
      "994 tensor(0.5520) 14\n",
      "995 tensor(0.5283) 15\n",
      "996 tensor(0.5828) 13\n",
      "997 tensor(0.5384) 14\n",
      "998 tensor(0.5014) 16\n",
      "999 tensor(0.5201) 16\n"
     ]
    }
   ],
   "source": [
    "model = MLP_Net(datapoints[0][\"input_size\"], 2, user_id=0)\n",
    "\n",
    "lr = 0.01\n",
    "\n",
    "dataloader = DataLoader(MyDataset(datapoints[0][\"features\"], datapoints[0][\"label\"]), batch_size=20, shuffle=True)\n",
    "optimizer = torch.optim.SGD(model.parameters(), lr=0.01)\n",
    "for i in range(1000):\n",
    "    for j, (x, y) in zip(range(1), dataloader):\n",
    "        criterion = nn.CrossEntropyLoss()\n",
    "        optimizer.zero_grad()\n",
    "        yhat = model(x)\n",
    "        \n",
    "        # Calculate accuracy\n",
    "        _, predicted = torch.max(yhat, 1)\n",
    "        _, predicted_true = torch.max(y, 1)\n",
    "        correct_predictions = (predicted == predicted_true).sum().item()\n",
    "         \n",
    "\n",
    "        loss = criterion(yhat, y)\n",
    "        \n",
    "        loss.backward()\n",
    "        print(i, loss.detach(), correct_predictions)\n",
    "        #optimizer.step()\n",
    "        new_model = parameters_to_vector(model.parameters()) - lr * grads_to_vector(model.parameters())\n",
    "        vector_to_parameters(parameters=model.parameters(), vec=new_model)\n",
    "        #if i % 50 ==0:\n",
    "            #lr *= 0.9\n",
    "            \n",
    "\n",
    "#parameters_to_vector(model.parameters())"
   ]
  },
  {
   "cell_type": "code",
   "execution_count": 16,
   "id": "6f5671b9",
   "metadata": {},
   "outputs": [],
   "source": [
    "class ClientUpdate(object):\n",
    "    def __init__(self, dataset, batchSize, alpha, lamda, epochs, projection_list, projected_weights):\n",
    "        self.train_loader = DataLoader(MyDataset(dataset[\"features\"], dataset[\"label\"]), batch_size=batchSize, shuffle=True)\n",
    "        #self.learning_rate = learning_rate\n",
    "        self.epochs = epochs\n",
    "        self.batchSize = batchSize\n",
    "\n",
    "    def train(self, model):\n",
    "        criterion = nn.CrossEntropyLoss()\n",
    "        optimizer = torch.optim.SGD(model.parameters(), lr=1e-3, momentum=0.5)\n",
    "\n",
    "        e_loss = []\n",
    "        for epoch in range(1, self.epochs+1):\n",
    "            train_loss = 0\n",
    "            model.train()\n",
    "            for i, (data, labels) in zip(range(1), self.train_loader):\n",
    "                data, labels = data, labels\n",
    "                optimizer.zero_grad() \n",
    "                output = model(data)  \n",
    "                loss = criterion(output, labels)\n",
    "                #loss += mu/2 * torch.norm(client_param.data - server_param.data)**2\n",
    "                loss.backward()\n",
    "                grads = grads_to_vector(model.parameters())\n",
    "                #optimizer.step()\n",
    "                train_loss += loss.item()*data.size(0)\n",
    "                weights = parameters_to_vector(model.parameters())\n",
    "                mat_vec_sum = torch.zeros_like(weights)\n",
    "                for j in G.neighbors(model.user_id):\n",
    "                    mat_vec_sum = torch.add(mat_vec_sum, torch.matmul(torch.transpose(projection_list[model.user_id][j], 0, 1), \n",
    "                                                         projected_weights[j][model.user_id] - projected_weights[model.user_id][j]))\n",
    "                \n",
    "                model_update = parameters_to_vector(model.parameters()) - alpha * (grads + lamda * mat_vec_sum)\n",
    "                \n",
    "            vector_to_parameters(parameters=model.parameters(), vec=model_update)\n",
    "                \n",
    "\n",
    "            train_loss = train_loss/self.batchSize#len(self.train_loader.dataset) \n",
    "            e_loss.append(train_loss)\n",
    "\n",
    "        total_loss = e_loss#sum(e_loss)/len(e_loss)\n",
    "\n",
    "        return model.state_dict(), total_loss"
   ]
  },
  {
   "cell_type": "code",
   "execution_count": 17,
   "id": "08b4c426",
   "metadata": {},
   "outputs": [],
   "source": [
    "# Preparing projection matrices\n",
    "models = [MLP_Net(input_size=datapoints[i]['input_size'], num_classes=2, user_id=i) for i in range(no_users)]\n",
    "#temp = MLP_Net()\n",
    "projection_list = []\n",
    "projected_weights = []\n",
    "\n",
    "def update_ProjWeight(projection_list, projected_weights, models, first_run=True):\n",
    "    for i in range(no_users):\n",
    "        neighbors_mat = []\n",
    "        neighbors_weights = []\n",
    "        for j in range(no_users):\n",
    "            if j in G.neighbors(i):\n",
    "                with torch.no_grad():\n",
    "                    if first_run == True:\n",
    "                        # Specify the dimensions of the rectangular matrix\n",
    "                        row, column = d0, parameters_to_vector(models[i].parameters()).size()[0]\n",
    "\n",
    "                        # Generate random values for the diagonal from a normal distribution\n",
    "                        diag_values = 1.0 + 1.0 * torch.randn(min(row, column))\n",
    "\n",
    "                        # Create a rectangular matrix with diagonal elements\n",
    "                        mat = torch.diag(diag_values)\n",
    "\n",
    "                        # If the matrix is larger than the diagonal vector, fill the remaining elements with zeros\n",
    "                       \n",
    "                        mat = torch.cat((mat, torch.zeros(row, column - row)), dim=1)\n",
    "\n",
    "                        \n",
    "\n",
    "                        # Append the matrix to the list\n",
    "                        neighbors_mat.append(mat)\n",
    "                        neighbors_weights.append(torch.matmul(mat, parameters_to_vector(models[i].parameters())))\n",
    "                    else:\n",
    "                        neighbors_weights.append(torch.matmul(projection_list[i][j], parameters_to_vector(models[i].parameters())))\n",
    "            else:\n",
    "                neighbors_mat.append(0)\n",
    "                neighbors_weights.append(0)\n",
    "        if first_run == True:\n",
    "            projection_list.append(neighbors_mat)\n",
    "        projected_weights.append(neighbors_weights)\n",
    "\n",
    "update_ProjWeight(projection_list, projected_weights, models)\n",
    "\n"
   ]
  },
  {
   "cell_type": "code",
   "execution_count": 18,
   "id": "ab81d2aa",
   "metadata": {},
   "outputs": [],
   "source": [
    "def testing(model, dataset, bs, criterion): \n",
    "    test_loss = 0\n",
    "    correct = 0\n",
    "    test_loader = DataLoader(MyDataset(dataset[\"test_features\"], dataset[\"test_labels\"]), batch_size=bs)\n",
    "    l = len(test_loader)\n",
    "    model.eval()\n",
    "    for data, labels in test_loader:\n",
    "        data, labels = data, labels\n",
    "        output = model(data)\n",
    "        loss = criterion(output, labels)\n",
    "        test_loss += loss.item()*data.size(0)\n",
    "        _, pred = torch.max(output, 1)\n",
    "        _, predicted_true = torch.max(labels, 1)\n",
    "        correct += pred.eq(predicted_true.data.view_as(pred)).sum().item()\n",
    "    \n",
    "    test_loss /= len(test_loader.dataset)\n",
    "    correct /= len(test_loader.dataset)\n",
    "    \n",
    "    return test_loss, correct"
   ]
  },
  {
   "cell_type": "code",
   "execution_count": 19,
   "id": "5654c02d",
   "metadata": {},
   "outputs": [
    {
     "name": "stderr",
     "output_type": "stream",
     "text": [
      "  0%|          | 1/2000 [00:18<10:04:17, 18.14s/it]"
     ]
    },
    {
     "name": "stdout",
     "output_type": "stream",
     "text": [
      "Training_loss 0.69400,   Accuracy 0.49996\n"
     ]
    },
    {
     "name": "stderr",
     "output_type": "stream",
     "text": [
      "\r",
      "  0%|          | 2/2000 [00:39<11:08:25, 20.07s/it]"
     ]
    },
    {
     "name": "stdout",
     "output_type": "stream",
     "text": [
      "Training_loss 0.69253,   Accuracy 0.50915\n"
     ]
    },
    {
     "name": "stderr",
     "output_type": "stream",
     "text": [
      "\r",
      "  0%|          | 3/2000 [00:57<10:32:41, 19.01s/it]"
     ]
    },
    {
     "name": "stdout",
     "output_type": "stream",
     "text": [
      "Training_loss 0.69073,   Accuracy 0.51974\n"
     ]
    },
    {
     "name": "stderr",
     "output_type": "stream",
     "text": [
      "\r",
      "  0%|          | 4/2000 [01:21<11:38:46, 21.01s/it]"
     ]
    },
    {
     "name": "stdout",
     "output_type": "stream",
     "text": [
      "Training_loss 0.68923,   Accuracy 0.52937\n"
     ]
    },
    {
     "name": "stderr",
     "output_type": "stream",
     "text": [
      "\r",
      "  0%|          | 5/2000 [01:44<12:06:59, 21.86s/it]"
     ]
    },
    {
     "name": "stdout",
     "output_type": "stream",
     "text": [
      "Training_loss 0.68765,   Accuracy 0.53775\n"
     ]
    },
    {
     "name": "stderr",
     "output_type": "stream",
     "text": [
      "\r",
      "  0%|          | 6/2000 [02:02<11:23:26, 20.57s/it]"
     ]
    },
    {
     "name": "stdout",
     "output_type": "stream",
     "text": [
      "Training_loss 0.68587,   Accuracy 0.54904\n"
     ]
    },
    {
     "name": "stderr",
     "output_type": "stream",
     "text": [
      "\r",
      "  0%|          | 7/2000 [02:27<12:04:07, 21.80s/it]"
     ]
    },
    {
     "name": "stdout",
     "output_type": "stream",
     "text": [
      "Training_loss 0.68437,   Accuracy 0.55766\n"
     ]
    },
    {
     "name": "stderr",
     "output_type": "stream",
     "text": [
      "\r",
      "  0%|          | 8/2000 [02:47<11:52:41, 21.47s/it]"
     ]
    },
    {
     "name": "stdout",
     "output_type": "stream",
     "text": [
      "Training_loss 0.68289,   Accuracy 0.56667\n"
     ]
    },
    {
     "name": "stderr",
     "output_type": "stream",
     "text": [
      "\r",
      "  0%|          | 9/2000 [03:07<11:31:55, 20.85s/it]"
     ]
    },
    {
     "name": "stdout",
     "output_type": "stream",
     "text": [
      "Training_loss 0.68125,   Accuracy 0.57633\n"
     ]
    },
    {
     "name": "stderr",
     "output_type": "stream",
     "text": [
      "\r",
      "  0%|          | 10/2000 [03:29<11:47:34, 21.33s/it]"
     ]
    },
    {
     "name": "stdout",
     "output_type": "stream",
     "text": [
      "Training_loss 0.67976,   Accuracy 0.58677\n"
     ]
    },
    {
     "name": "stderr",
     "output_type": "stream",
     "text": [
      "\r",
      "  1%|          | 11/2000 [03:53<12:12:53, 22.11s/it]"
     ]
    },
    {
     "name": "stdout",
     "output_type": "stream",
     "text": [
      "Training_loss 0.67818,   Accuracy 0.59654\n"
     ]
    },
    {
     "name": "stderr",
     "output_type": "stream",
     "text": [
      "\r",
      "  1%|          | 12/2000 [04:10<11:23:56, 20.64s/it]"
     ]
    },
    {
     "name": "stdout",
     "output_type": "stream",
     "text": [
      "Training_loss 0.67671,   Accuracy 0.60515\n"
     ]
    },
    {
     "name": "stderr",
     "output_type": "stream",
     "text": [
      "\r",
      "  1%|          | 13/2000 [04:26<10:35:54, 19.20s/it]"
     ]
    },
    {
     "name": "stdout",
     "output_type": "stream",
     "text": [
      "Training_loss 0.67523,   Accuracy 0.61253\n"
     ]
    },
    {
     "name": "stderr",
     "output_type": "stream",
     "text": [
      "\r",
      "  1%|          | 14/2000 [04:45<10:27:16, 18.95s/it]"
     ]
    },
    {
     "name": "stdout",
     "output_type": "stream",
     "text": [
      "Training_loss 0.67355,   Accuracy 0.62111\n"
     ]
    },
    {
     "name": "stderr",
     "output_type": "stream",
     "text": [
      "\r",
      "  1%|          | 15/2000 [05:03<10:19:39, 18.73s/it]"
     ]
    },
    {
     "name": "stdout",
     "output_type": "stream",
     "text": [
      "Training_loss 0.67200,   Accuracy 0.62912\n"
     ]
    },
    {
     "name": "stderr",
     "output_type": "stream",
     "text": [
      "\r",
      "  1%|          | 16/2000 [05:19<9:55:10, 18.00s/it] "
     ]
    },
    {
     "name": "stdout",
     "output_type": "stream",
     "text": [
      "Training_loss 0.67087,   Accuracy 0.63474\n"
     ]
    },
    {
     "name": "stderr",
     "output_type": "stream",
     "text": [
      "\r",
      "  1%|          | 17/2000 [05:38<10:03:14, 18.25s/it]"
     ]
    },
    {
     "name": "stdout",
     "output_type": "stream",
     "text": [
      "Training_loss 0.66952,   Accuracy 0.64123\n"
     ]
    },
    {
     "name": "stderr",
     "output_type": "stream",
     "text": [
      "\r",
      "  1%|          | 18/2000 [05:52<9:19:12, 16.93s/it] "
     ]
    },
    {
     "name": "stdout",
     "output_type": "stream",
     "text": [
      "Training_loss 0.66787,   Accuracy 0.65026\n"
     ]
    },
    {
     "name": "stderr",
     "output_type": "stream",
     "text": [
      "\r",
      "  1%|          | 19/2000 [06:05<8:45:26, 15.91s/it]"
     ]
    },
    {
     "name": "stdout",
     "output_type": "stream",
     "text": [
      "Training_loss 0.66661,   Accuracy 0.65668\n"
     ]
    },
    {
     "name": "stderr",
     "output_type": "stream",
     "text": [
      "\r",
      "  1%|          | 20/2000 [06:26<9:28:48, 17.24s/it]"
     ]
    },
    {
     "name": "stdout",
     "output_type": "stream",
     "text": [
      "Training_loss 0.66523,   Accuracy 0.66327\n"
     ]
    },
    {
     "name": "stderr",
     "output_type": "stream",
     "text": [
      "\r",
      "  1%|          | 21/2000 [06:44<9:36:29, 17.48s/it]"
     ]
    },
    {
     "name": "stdout",
     "output_type": "stream",
     "text": [
      "Training_loss 0.66398,   Accuracy 0.66910\n"
     ]
    },
    {
     "name": "stderr",
     "output_type": "stream",
     "text": [
      "\r",
      "  1%|          | 22/2000 [07:01<9:33:10, 17.39s/it]"
     ]
    },
    {
     "name": "stdout",
     "output_type": "stream",
     "text": [
      "Training_loss 0.66256,   Accuracy 0.67546\n"
     ]
    },
    {
     "name": "stderr",
     "output_type": "stream",
     "text": [
      "\r",
      "  1%|          | 23/2000 [07:18<9:27:15, 17.22s/it]"
     ]
    },
    {
     "name": "stdout",
     "output_type": "stream",
     "text": [
      "Training_loss 0.66118,   Accuracy 0.68162\n"
     ]
    },
    {
     "name": "stderr",
     "output_type": "stream",
     "text": [
      "\r",
      "  1%|          | 24/2000 [07:36<9:35:25, 17.47s/it]"
     ]
    },
    {
     "name": "stdout",
     "output_type": "stream",
     "text": [
      "Training_loss 0.66011,   Accuracy 0.68576\n"
     ]
    },
    {
     "name": "stderr",
     "output_type": "stream",
     "text": [
      "\r",
      "  1%|▏         | 25/2000 [07:53<9:32:42, 17.40s/it]"
     ]
    },
    {
     "name": "stdout",
     "output_type": "stream",
     "text": [
      "Training_loss 0.65894,   Accuracy 0.69057\n"
     ]
    },
    {
     "name": "stderr",
     "output_type": "stream",
     "text": [
      "\r",
      "  1%|▏         | 26/2000 [08:14<10:04:53, 18.39s/it]"
     ]
    },
    {
     "name": "stdout",
     "output_type": "stream",
     "text": [
      "Training_loss 0.65791,   Accuracy 0.69404\n"
     ]
    },
    {
     "name": "stderr",
     "output_type": "stream",
     "text": [
      "\r",
      "  1%|▏         | 27/2000 [08:34<10:24:23, 18.99s/it]"
     ]
    },
    {
     "name": "stdout",
     "output_type": "stream",
     "text": [
      "Training_loss 0.65646,   Accuracy 0.69975\n"
     ]
    },
    {
     "name": "stderr",
     "output_type": "stream",
     "text": [
      "\r",
      "  1%|▏         | 28/2000 [08:59<11:18:58, 20.66s/it]"
     ]
    },
    {
     "name": "stdout",
     "output_type": "stream",
     "text": [
      "Training_loss 0.65520,   Accuracy 0.70266\n"
     ]
    },
    {
     "name": "stderr",
     "output_type": "stream",
     "text": [
      "\r",
      "  1%|▏         | 29/2000 [09:22<11:41:10, 21.34s/it]"
     ]
    },
    {
     "name": "stdout",
     "output_type": "stream",
     "text": [
      "Training_loss 0.65427,   Accuracy 0.70460\n"
     ]
    },
    {
     "name": "stderr",
     "output_type": "stream",
     "text": [
      "\r",
      "  2%|▏         | 30/2000 [09:42<11:33:33, 21.12s/it]"
     ]
    },
    {
     "name": "stdout",
     "output_type": "stream",
     "text": [
      "Training_loss 0.65308,   Accuracy 0.70799\n"
     ]
    },
    {
     "name": "stderr",
     "output_type": "stream",
     "text": [
      "\r",
      "  2%|▏         | 31/2000 [10:00<11:03:47, 20.23s/it]"
     ]
    },
    {
     "name": "stdout",
     "output_type": "stream",
     "text": [
      "Training_loss 0.65201,   Accuracy 0.71056\n"
     ]
    },
    {
     "name": "stderr",
     "output_type": "stream",
     "text": [
      "\r",
      "  2%|▏         | 32/2000 [10:25<11:46:44, 21.55s/it]"
     ]
    },
    {
     "name": "stdout",
     "output_type": "stream",
     "text": [
      "Training_loss 0.65076,   Accuracy 0.71438\n"
     ]
    },
    {
     "name": "stderr",
     "output_type": "stream",
     "text": [
      "\r",
      "  2%|▏         | 33/2000 [10:47<11:48:55, 21.62s/it]"
     ]
    },
    {
     "name": "stdout",
     "output_type": "stream",
     "text": [
      "Training_loss 0.64979,   Accuracy 0.71617\n"
     ]
    },
    {
     "name": "stderr",
     "output_type": "stream",
     "text": [
      "\r",
      "  2%|▏         | 34/2000 [11:07<11:35:53, 21.24s/it]"
     ]
    },
    {
     "name": "stdout",
     "output_type": "stream",
     "text": [
      "Training_loss 0.64887,   Accuracy 0.71840\n"
     ]
    },
    {
     "name": "stderr",
     "output_type": "stream",
     "text": [
      "\r",
      "  2%|▏         | 35/2000 [11:25<10:59:14, 20.13s/it]"
     ]
    },
    {
     "name": "stdout",
     "output_type": "stream",
     "text": [
      "Training_loss 0.64770,   Accuracy 0.72163\n"
     ]
    },
    {
     "name": "stderr",
     "output_type": "stream",
     "text": [
      "\r",
      "  2%|▏         | 36/2000 [11:41<10:22:21, 19.01s/it]"
     ]
    },
    {
     "name": "stdout",
     "output_type": "stream",
     "text": [
      "Training_loss 0.64656,   Accuracy 0.72384\n"
     ]
    },
    {
     "name": "stderr",
     "output_type": "stream",
     "text": [
      "\r",
      "  2%|▏         | 37/2000 [12:02<10:41:53, 19.62s/it]"
     ]
    },
    {
     "name": "stdout",
     "output_type": "stream",
     "text": [
      "Training_loss 0.64557,   Accuracy 0.72598\n"
     ]
    },
    {
     "name": "stderr",
     "output_type": "stream",
     "text": [
      "\r",
      "  2%|▏         | 38/2000 [12:26<11:27:02, 21.01s/it]"
     ]
    },
    {
     "name": "stdout",
     "output_type": "stream",
     "text": [
      "Training_loss 0.64456,   Accuracy 0.72759\n"
     ]
    },
    {
     "name": "stderr",
     "output_type": "stream",
     "text": [
      "\r",
      "  2%|▏         | 39/2000 [12:50<11:51:59, 21.78s/it]"
     ]
    },
    {
     "name": "stdout",
     "output_type": "stream",
     "text": [
      "Training_loss 0.64364,   Accuracy 0.72941\n"
     ]
    },
    {
     "name": "stderr",
     "output_type": "stream",
     "text": [
      "\r",
      "  2%|▏         | 40/2000 [13:07<11:06:31, 20.40s/it]"
     ]
    },
    {
     "name": "stdout",
     "output_type": "stream",
     "text": [
      "Training_loss 0.64251,   Accuracy 0.73140\n"
     ]
    },
    {
     "name": "stderr",
     "output_type": "stream",
     "text": [
      "\r",
      "  2%|▏         | 41/2000 [13:31<11:39:09, 21.41s/it]"
     ]
    },
    {
     "name": "stdout",
     "output_type": "stream",
     "text": [
      "Training_loss 0.64147,   Accuracy 0.73308\n"
     ]
    },
    {
     "name": "stderr",
     "output_type": "stream",
     "text": [
      "\r",
      "  2%|▏         | 42/2000 [13:57<12:19:31, 22.66s/it]"
     ]
    },
    {
     "name": "stdout",
     "output_type": "stream",
     "text": [
      "Training_loss 0.64062,   Accuracy 0.73439\n"
     ]
    },
    {
     "name": "stderr",
     "output_type": "stream",
     "text": [
      "\r",
      "  2%|▏         | 43/2000 [14:18<12:04:13, 22.20s/it]"
     ]
    },
    {
     "name": "stdout",
     "output_type": "stream",
     "text": [
      "Training_loss 0.63970,   Accuracy 0.73572\n"
     ]
    },
    {
     "name": "stderr",
     "output_type": "stream",
     "text": [
      "\r",
      "  2%|▏         | 44/2000 [14:36<11:27:08, 21.08s/it]"
     ]
    },
    {
     "name": "stdout",
     "output_type": "stream",
     "text": [
      "Training_loss 0.63850,   Accuracy 0.73679\n"
     ]
    },
    {
     "name": "stderr",
     "output_type": "stream",
     "text": [
      "\r",
      "  2%|▏         | 45/2000 [15:07<13:00:50, 23.96s/it]"
     ]
    },
    {
     "name": "stdout",
     "output_type": "stream",
     "text": [
      "Training_loss 0.63766,   Accuracy 0.73802\n"
     ]
    },
    {
     "name": "stderr",
     "output_type": "stream",
     "text": [
      "\r",
      "  2%|▏         | 46/2000 [15:33<13:17:14, 24.48s/it]"
     ]
    },
    {
     "name": "stdout",
     "output_type": "stream",
     "text": [
      "Training_loss 0.63665,   Accuracy 0.73914\n"
     ]
    },
    {
     "name": "stderr",
     "output_type": "stream",
     "text": [
      "\r",
      "  2%|▏         | 47/2000 [15:57<13:19:57, 24.58s/it]"
     ]
    },
    {
     "name": "stdout",
     "output_type": "stream",
     "text": [
      "Training_loss 0.63590,   Accuracy 0.73983\n"
     ]
    },
    {
     "name": "stderr",
     "output_type": "stream",
     "text": [
      "\r",
      "  2%|▏         | 48/2000 [16:19<12:55:41, 23.84s/it]"
     ]
    },
    {
     "name": "stdout",
     "output_type": "stream",
     "text": [
      "Training_loss 0.63480,   Accuracy 0.74063\n"
     ]
    },
    {
     "name": "stderr",
     "output_type": "stream",
     "text": [
      "\r",
      "  2%|▏         | 49/2000 [16:41<12:32:11, 23.13s/it]"
     ]
    },
    {
     "name": "stdout",
     "output_type": "stream",
     "text": [
      "Training_loss 0.63394,   Accuracy 0.74130\n"
     ]
    },
    {
     "name": "stderr",
     "output_type": "stream",
     "text": [
      "\r",
      "  2%|▎         | 50/2000 [16:55<11:06:13, 20.50s/it]"
     ]
    },
    {
     "name": "stdout",
     "output_type": "stream",
     "text": [
      "Training_loss 0.63310,   Accuracy 0.74229\n"
     ]
    },
    {
     "name": "stderr",
     "output_type": "stream",
     "text": [
      "\r",
      "  3%|▎         | 51/2000 [17:20<11:49:11, 21.83s/it]"
     ]
    },
    {
     "name": "stdout",
     "output_type": "stream",
     "text": [
      "Training_loss 0.63226,   Accuracy 0.74304\n"
     ]
    },
    {
     "name": "stderr",
     "output_type": "stream",
     "text": [
      "\r",
      "  3%|▎         | 52/2000 [17:47<12:33:07, 23.20s/it]"
     ]
    },
    {
     "name": "stdout",
     "output_type": "stream",
     "text": [
      "Training_loss 0.63161,   Accuracy 0.74342\n"
     ]
    },
    {
     "name": "stderr",
     "output_type": "stream",
     "text": [
      "\r",
      "  3%|▎         | 53/2000 [18:09<12:21:14, 22.84s/it]"
     ]
    },
    {
     "name": "stdout",
     "output_type": "stream",
     "text": [
      "Training_loss 0.63081,   Accuracy 0.74398\n"
     ]
    },
    {
     "name": "stderr",
     "output_type": "stream",
     "text": [
      "\r",
      "  3%|▎         | 54/2000 [18:30<12:06:50, 22.41s/it]"
     ]
    },
    {
     "name": "stdout",
     "output_type": "stream",
     "text": [
      "Training_loss 0.62996,   Accuracy 0.74458\n"
     ]
    },
    {
     "name": "stderr",
     "output_type": "stream",
     "text": [
      "\r",
      "  3%|▎         | 55/2000 [18:51<11:49:38, 21.89s/it]"
     ]
    },
    {
     "name": "stdout",
     "output_type": "stream",
     "text": [
      "Training_loss 0.62933,   Accuracy 0.74508\n"
     ]
    },
    {
     "name": "stderr",
     "output_type": "stream",
     "text": [
      "\r",
      "  3%|▎         | 56/2000 [19:10<11:21:34, 21.04s/it]"
     ]
    },
    {
     "name": "stdout",
     "output_type": "stream",
     "text": [
      "Training_loss 0.62845,   Accuracy 0.74550\n"
     ]
    },
    {
     "name": "stderr",
     "output_type": "stream",
     "text": [
      "\r",
      "  3%|▎         | 57/2000 [19:43<13:16:00, 24.58s/it]"
     ]
    },
    {
     "name": "stdout",
     "output_type": "stream",
     "text": [
      "Training_loss 0.62763,   Accuracy 0.74578\n"
     ]
    },
    {
     "name": "stderr",
     "output_type": "stream",
     "text": [
      "\r",
      "  3%|▎         | 58/2000 [20:08<13:26:54, 24.93s/it]"
     ]
    },
    {
     "name": "stdout",
     "output_type": "stream",
     "text": [
      "Training_loss 0.62679,   Accuracy 0.74657\n"
     ]
    },
    {
     "name": "stderr",
     "output_type": "stream",
     "text": [
      "\r",
      "  3%|▎         | 59/2000 [20:29<12:48:36, 23.76s/it]"
     ]
    },
    {
     "name": "stdout",
     "output_type": "stream",
     "text": [
      "Training_loss 0.62603,   Accuracy 0.74706\n"
     ]
    },
    {
     "name": "stderr",
     "output_type": "stream",
     "text": [
      "\r",
      "  3%|▎         | 60/2000 [20:51<12:26:27, 23.09s/it]"
     ]
    },
    {
     "name": "stdout",
     "output_type": "stream",
     "text": [
      "Training_loss 0.62525,   Accuracy 0.74733\n"
     ]
    },
    {
     "name": "stderr",
     "output_type": "stream",
     "text": [
      "\r",
      "  3%|▎         | 61/2000 [21:12<12:04:04, 22.41s/it]"
     ]
    },
    {
     "name": "stdout",
     "output_type": "stream",
     "text": [
      "Training_loss 0.62452,   Accuracy 0.74796\n"
     ]
    },
    {
     "name": "stderr",
     "output_type": "stream",
     "text": [
      "\r",
      "  3%|▎         | 62/2000 [21:33<11:48:27, 21.93s/it]"
     ]
    },
    {
     "name": "stdout",
     "output_type": "stream",
     "text": [
      "Training_loss 0.62393,   Accuracy 0.74841\n"
     ]
    },
    {
     "name": "stderr",
     "output_type": "stream",
     "text": [
      "\r",
      "  3%|▎         | 63/2000 [21:51<11:18:00, 21.00s/it]"
     ]
    },
    {
     "name": "stdout",
     "output_type": "stream",
     "text": [
      "Training_loss 0.62317,   Accuracy 0.74902\n"
     ]
    },
    {
     "name": "stderr",
     "output_type": "stream",
     "text": [
      "\r",
      "  3%|▎         | 64/2000 [22:14<11:28:19, 21.33s/it]"
     ]
    },
    {
     "name": "stdout",
     "output_type": "stream",
     "text": [
      "Training_loss 0.62244,   Accuracy 0.74921\n"
     ]
    },
    {
     "name": "stderr",
     "output_type": "stream",
     "text": [
      "\r",
      "  3%|▎         | 65/2000 [22:31<10:46:40, 20.05s/it]"
     ]
    },
    {
     "name": "stdout",
     "output_type": "stream",
     "text": [
      "Training_loss 0.62167,   Accuracy 0.74958\n"
     ]
    },
    {
     "name": "stderr",
     "output_type": "stream",
     "text": [
      "\r",
      "  3%|▎         | 66/2000 [22:48<10:17:02, 19.14s/it]"
     ]
    },
    {
     "name": "stdout",
     "output_type": "stream",
     "text": [
      "Training_loss 0.62091,   Accuracy 0.74982\n"
     ]
    },
    {
     "name": "stderr",
     "output_type": "stream",
     "text": [
      "\r",
      "  3%|▎         | 67/2000 [23:05<9:57:27, 18.55s/it] "
     ]
    },
    {
     "name": "stdout",
     "output_type": "stream",
     "text": [
      "Training_loss 0.62037,   Accuracy 0.75003\n"
     ]
    },
    {
     "name": "stderr",
     "output_type": "stream",
     "text": [
      "\r",
      "  3%|▎         | 68/2000 [23:25<10:15:14, 19.11s/it]"
     ]
    },
    {
     "name": "stdout",
     "output_type": "stream",
     "text": [
      "Training_loss 0.61974,   Accuracy 0.75038\n"
     ]
    },
    {
     "name": "stderr",
     "output_type": "stream",
     "text": [
      "\r",
      "  3%|▎         | 69/2000 [23:43<10:06:12, 18.84s/it]"
     ]
    },
    {
     "name": "stdout",
     "output_type": "stream",
     "text": [
      "Training_loss 0.61905,   Accuracy 0.75067\n"
     ]
    },
    {
     "name": "stderr",
     "output_type": "stream",
     "text": [
      "\r",
      "  4%|▎         | 70/2000 [24:06<10:41:24, 19.94s/it]"
     ]
    },
    {
     "name": "stdout",
     "output_type": "stream",
     "text": [
      "Training_loss 0.61828,   Accuracy 0.75098\n"
     ]
    },
    {
     "name": "stderr",
     "output_type": "stream",
     "text": [
      "\r",
      "  4%|▎         | 71/2000 [24:26<10:44:20, 20.04s/it]"
     ]
    },
    {
     "name": "stdout",
     "output_type": "stream",
     "text": [
      "Training_loss 0.61763,   Accuracy 0.75128\n"
     ]
    },
    {
     "name": "stderr",
     "output_type": "stream",
     "text": [
      "\r",
      "  4%|▎         | 72/2000 [24:46<10:41:28, 19.96s/it]"
     ]
    },
    {
     "name": "stdout",
     "output_type": "stream",
     "text": [
      "Training_loss 0.61698,   Accuracy 0.75153\n"
     ]
    },
    {
     "name": "stderr",
     "output_type": "stream",
     "text": [
      "\r",
      "  4%|▎         | 73/2000 [25:14<12:03:50, 22.54s/it]"
     ]
    },
    {
     "name": "stdout",
     "output_type": "stream",
     "text": [
      "Training_loss 0.61642,   Accuracy 0.75202\n"
     ]
    },
    {
     "name": "stderr",
     "output_type": "stream",
     "text": [
      "\r",
      "  4%|▎         | 74/2000 [25:35<11:43:02, 21.90s/it]"
     ]
    },
    {
     "name": "stdout",
     "output_type": "stream",
     "text": [
      "Training_loss 0.61582,   Accuracy 0.75208\n"
     ]
    },
    {
     "name": "stderr",
     "output_type": "stream",
     "text": [
      "\r",
      "  4%|▍         | 75/2000 [25:52<10:57:10, 20.48s/it]"
     ]
    },
    {
     "name": "stdout",
     "output_type": "stream",
     "text": [
      "Training_loss 0.61522,   Accuracy 0.75226\n"
     ]
    },
    {
     "name": "stderr",
     "output_type": "stream",
     "text": [
      "\r",
      "  4%|▍         | 76/2000 [26:12<10:52:48, 20.36s/it]"
     ]
    },
    {
     "name": "stdout",
     "output_type": "stream",
     "text": [
      "Training_loss 0.61467,   Accuracy 0.75256\n"
     ]
    },
    {
     "name": "stderr",
     "output_type": "stream",
     "text": [
      "\r",
      "  4%|▍         | 77/2000 [26:34<11:06:11, 20.79s/it]"
     ]
    },
    {
     "name": "stdout",
     "output_type": "stream",
     "text": [
      "Training_loss 0.61415,   Accuracy 0.75268\n"
     ]
    },
    {
     "name": "stderr",
     "output_type": "stream",
     "text": [
      "\r",
      "  4%|▍         | 78/2000 [26:56<11:22:50, 21.32s/it]"
     ]
    },
    {
     "name": "stdout",
     "output_type": "stream",
     "text": [
      "Training_loss 0.61355,   Accuracy 0.75316\n"
     ]
    },
    {
     "name": "stderr",
     "output_type": "stream",
     "text": [
      "\r",
      "  4%|▍         | 79/2000 [27:18<11:24:07, 21.37s/it]"
     ]
    },
    {
     "name": "stdout",
     "output_type": "stream",
     "text": [
      "Training_loss 0.61303,   Accuracy 0.75342\n"
     ]
    },
    {
     "name": "stderr",
     "output_type": "stream",
     "text": [
      "\r",
      "  4%|▍         | 80/2000 [27:36<10:55:24, 20.48s/it]"
     ]
    },
    {
     "name": "stdout",
     "output_type": "stream",
     "text": [
      "Training_loss 0.61241,   Accuracy 0.75369\n"
     ]
    },
    {
     "name": "stderr",
     "output_type": "stream",
     "text": [
      "\r",
      "  4%|▍         | 81/2000 [27:57<10:54:30, 20.46s/it]"
     ]
    },
    {
     "name": "stdout",
     "output_type": "stream",
     "text": [
      "Training_loss 0.61195,   Accuracy 0.75394\n"
     ]
    },
    {
     "name": "stderr",
     "output_type": "stream",
     "text": [
      "\r",
      "  4%|▍         | 82/2000 [28:15<10:34:55, 19.86s/it]"
     ]
    },
    {
     "name": "stdout",
     "output_type": "stream",
     "text": [
      "Training_loss 0.61142,   Accuracy 0.75420\n"
     ]
    },
    {
     "name": "stderr",
     "output_type": "stream",
     "text": [
      "\r",
      "  4%|▍         | 83/2000 [28:35<10:34:21, 19.85s/it]"
     ]
    },
    {
     "name": "stdout",
     "output_type": "stream",
     "text": [
      "Training_loss 0.61079,   Accuracy 0.75436\n"
     ]
    },
    {
     "name": "stderr",
     "output_type": "stream",
     "text": [
      "\r",
      "  4%|▍         | 84/2000 [29:29<15:59:54, 30.06s/it]"
     ]
    },
    {
     "name": "stdout",
     "output_type": "stream",
     "text": [
      "Training_loss 0.61018,   Accuracy 0.75459\n"
     ]
    },
    {
     "name": "stderr",
     "output_type": "stream",
     "text": [
      "\r",
      "  4%|▍         | 85/2000 [29:45<13:42:38, 25.77s/it]"
     ]
    },
    {
     "name": "stdout",
     "output_type": "stream",
     "text": [
      "Training_loss 0.60957,   Accuracy 0.75484\n"
     ]
    },
    {
     "name": "stderr",
     "output_type": "stream",
     "text": [
      "\r",
      "  4%|▍         | 86/2000 [30:00<12:00:41, 22.59s/it]"
     ]
    },
    {
     "name": "stdout",
     "output_type": "stream",
     "text": [
      "Training_loss 0.60907,   Accuracy 0.75504\n"
     ]
    },
    {
     "name": "stderr",
     "output_type": "stream",
     "text": [
      "\r",
      "  4%|▍         | 87/2000 [30:16<10:55:58, 20.57s/it]"
     ]
    },
    {
     "name": "stdout",
     "output_type": "stream",
     "text": [
      "Training_loss 0.60852,   Accuracy 0.75541\n"
     ]
    },
    {
     "name": "stderr",
     "output_type": "stream",
     "text": [
      "\r",
      "  4%|▍         | 88/2000 [30:30<9:53:51, 18.64s/it] "
     ]
    },
    {
     "name": "stdout",
     "output_type": "stream",
     "text": [
      "Training_loss 0.60800,   Accuracy 0.75557\n"
     ]
    },
    {
     "name": "stderr",
     "output_type": "stream",
     "text": [
      "\r",
      "  4%|▍         | 89/2000 [30:52<10:28:32, 19.73s/it]"
     ]
    },
    {
     "name": "stdout",
     "output_type": "stream",
     "text": [
      "Training_loss 0.60744,   Accuracy 0.75570\n"
     ]
    },
    {
     "name": "stderr",
     "output_type": "stream",
     "text": [
      "\r",
      "  4%|▍         | 90/2000 [32:52<26:22:01, 49.70s/it]"
     ]
    },
    {
     "name": "stdout",
     "output_type": "stream",
     "text": [
      "Training_loss 0.60692,   Accuracy 0.75582\n"
     ]
    },
    {
     "name": "stderr",
     "output_type": "stream",
     "text": [
      "\r",
      "  5%|▍         | 91/2000 [34:50<37:11:58, 70.15s/it]"
     ]
    },
    {
     "name": "stdout",
     "output_type": "stream",
     "text": [
      "Training_loss 0.60637,   Accuracy 0.75608\n"
     ]
    },
    {
     "name": "stderr",
     "output_type": "stream",
     "text": [
      "\r",
      "  5%|▍         | 92/2000 [36:53<45:38:14, 86.11s/it]"
     ]
    },
    {
     "name": "stdout",
     "output_type": "stream",
     "text": [
      "Training_loss 0.60593,   Accuracy 0.75618\n"
     ]
    },
    {
     "name": "stderr",
     "output_type": "stream",
     "text": [
      "\r",
      "  5%|▍         | 93/2000 [38:50<50:34:07, 95.46s/it]"
     ]
    },
    {
     "name": "stdout",
     "output_type": "stream",
     "text": [
      "Training_loss 0.60547,   Accuracy 0.75643\n"
     ]
    },
    {
     "name": "stderr",
     "output_type": "stream",
     "text": [
      "\r",
      "  5%|▍         | 94/2000 [40:46<53:45:04, 101.52s/it]"
     ]
    },
    {
     "name": "stdout",
     "output_type": "stream",
     "text": [
      "Training_loss 0.60509,   Accuracy 0.75657\n"
     ]
    },
    {
     "name": "stderr",
     "output_type": "stream",
     "text": [
      "\r",
      "  5%|▍         | 95/2000 [43:12<60:45:20, 114.81s/it]"
     ]
    },
    {
     "name": "stdout",
     "output_type": "stream",
     "text": [
      "Training_loss 0.60462,   Accuracy 0.75665\n"
     ]
    },
    {
     "name": "stderr",
     "output_type": "stream",
     "text": [
      "\r",
      "  5%|▍         | 96/2000 [45:28<64:11:17, 121.36s/it]"
     ]
    },
    {
     "name": "stdout",
     "output_type": "stream",
     "text": [
      "Training_loss 0.60416,   Accuracy 0.75678\n"
     ]
    },
    {
     "name": "stderr",
     "output_type": "stream",
     "text": [
      "\r",
      "  5%|▍         | 97/2000 [47:41<65:58:43, 124.82s/it]"
     ]
    },
    {
     "name": "stdout",
     "output_type": "stream",
     "text": [
      "Training_loss 0.60371,   Accuracy 0.75686\n"
     ]
    },
    {
     "name": "stderr",
     "output_type": "stream",
     "text": [
      "\r",
      "  5%|▍         | 98/2000 [49:43<65:28:41, 123.93s/it]"
     ]
    },
    {
     "name": "stdout",
     "output_type": "stream",
     "text": [
      "Training_loss 0.60329,   Accuracy 0.75694\n"
     ]
    },
    {
     "name": "stderr",
     "output_type": "stream",
     "text": [
      "\r",
      "  5%|▍         | 99/2000 [51:38<63:58:50, 121.16s/it]"
     ]
    },
    {
     "name": "stdout",
     "output_type": "stream",
     "text": [
      "Training_loss 0.60282,   Accuracy 0.75710\n"
     ]
    },
    {
     "name": "stderr",
     "output_type": "stream",
     "text": [
      "\r",
      "  5%|▌         | 100/2000 [53:35<63:15:22, 119.85s/it]"
     ]
    },
    {
     "name": "stdout",
     "output_type": "stream",
     "text": [
      "Training_loss 0.60239,   Accuracy 0.75731\n"
     ]
    },
    {
     "name": "stderr",
     "output_type": "stream",
     "text": [
      "\r",
      "  5%|▌         | 101/2000 [55:59<67:06:40, 127.23s/it]"
     ]
    },
    {
     "name": "stdout",
     "output_type": "stream",
     "text": [
      "Training_loss 0.60193,   Accuracy 0.75737\n"
     ]
    },
    {
     "name": "stderr",
     "output_type": "stream",
     "text": [
      "\r",
      "  5%|▌         | 102/2000 [58:05<66:49:49, 126.76s/it]"
     ]
    },
    {
     "name": "stdout",
     "output_type": "stream",
     "text": [
      "Training_loss 0.60156,   Accuracy 0.75747\n"
     ]
    },
    {
     "name": "stderr",
     "output_type": "stream",
     "text": [
      "\r",
      "  5%|▌         | 103/2000 [1:00:12<66:53:25, 126.94s/it]"
     ]
    },
    {
     "name": "stdout",
     "output_type": "stream",
     "text": [
      "Training_loss 0.60120,   Accuracy 0.75768\n"
     ]
    },
    {
     "name": "stderr",
     "output_type": "stream",
     "text": [
      "\r",
      "  5%|▌         | 104/2000 [1:02:11<65:36:35, 124.58s/it]"
     ]
    },
    {
     "name": "stdout",
     "output_type": "stream",
     "text": [
      "Training_loss 0.60085,   Accuracy 0.75775\n"
     ]
    },
    {
     "name": "stderr",
     "output_type": "stream",
     "text": [
      "\r",
      "  5%|▌         | 105/2000 [1:03:59<62:59:29, 119.67s/it]"
     ]
    },
    {
     "name": "stdout",
     "output_type": "stream",
     "text": [
      "Training_loss 0.60038,   Accuracy 0.75785\n"
     ]
    },
    {
     "name": "stderr",
     "output_type": "stream",
     "text": [
      "\r",
      "  5%|▌         | 106/2000 [1:05:45<60:44:03, 115.44s/it]"
     ]
    },
    {
     "name": "stdout",
     "output_type": "stream",
     "text": [
      "Training_loss 0.60002,   Accuracy 0.75799\n"
     ]
    },
    {
     "name": "stderr",
     "output_type": "stream",
     "text": [
      "\r",
      "  5%|▌         | 107/2000 [1:07:30<59:08:05, 112.46s/it]"
     ]
    },
    {
     "name": "stdout",
     "output_type": "stream",
     "text": [
      "Training_loss 0.59967,   Accuracy 0.75802\n"
     ]
    },
    {
     "name": "stderr",
     "output_type": "stream",
     "text": [
      "\r",
      "  5%|▌         | 108/2000 [1:09:15<57:55:33, 110.22s/it]"
     ]
    },
    {
     "name": "stdout",
     "output_type": "stream",
     "text": [
      "Training_loss 0.59924,   Accuracy 0.75810\n"
     ]
    },
    {
     "name": "stderr",
     "output_type": "stream",
     "text": [
      "\r",
      "  5%|▌         | 109/2000 [1:11:00<56:56:51, 108.41s/it]"
     ]
    },
    {
     "name": "stdout",
     "output_type": "stream",
     "text": [
      "Training_loss 0.59888,   Accuracy 0.75819\n"
     ]
    },
    {
     "name": "stderr",
     "output_type": "stream",
     "text": [
      "\r",
      "  6%|▌         | 110/2000 [1:12:45<56:23:35, 107.42s/it]"
     ]
    },
    {
     "name": "stdout",
     "output_type": "stream",
     "text": [
      "Training_loss 0.59851,   Accuracy 0.75832\n"
     ]
    },
    {
     "name": "stderr",
     "output_type": "stream",
     "text": [
      "\r",
      "  6%|▌         | 111/2000 [1:14:32<56:21:30, 107.41s/it]"
     ]
    },
    {
     "name": "stdout",
     "output_type": "stream",
     "text": [
      "Training_loss 0.59815,   Accuracy 0.75837\n"
     ]
    },
    {
     "name": "stderr",
     "output_type": "stream",
     "text": [
      "\r",
      "  6%|▌         | 112/2000 [1:16:23<56:56:22, 108.57s/it]"
     ]
    },
    {
     "name": "stdout",
     "output_type": "stream",
     "text": [
      "Training_loss 0.59774,   Accuracy 0.75841\n"
     ]
    },
    {
     "name": "stderr",
     "output_type": "stream",
     "text": [
      "\r",
      "  6%|▌         | 113/2000 [1:18:12<56:55:49, 108.61s/it]"
     ]
    },
    {
     "name": "stdout",
     "output_type": "stream",
     "text": [
      "Training_loss 0.59747,   Accuracy 0.75851\n"
     ]
    },
    {
     "name": "stderr",
     "output_type": "stream",
     "text": [
      "\r",
      "  6%|▌         | 114/2000 [1:20:02<57:08:17, 109.07s/it]"
     ]
    },
    {
     "name": "stdout",
     "output_type": "stream",
     "text": [
      "Training_loss 0.59704,   Accuracy 0.75850\n"
     ]
    },
    {
     "name": "stderr",
     "output_type": "stream",
     "text": [
      "\r",
      "  6%|▌         | 115/2000 [1:21:56<57:55:01, 110.61s/it]"
     ]
    },
    {
     "name": "stdout",
     "output_type": "stream",
     "text": [
      "Training_loss 0.59669,   Accuracy 0.75853\n"
     ]
    },
    {
     "name": "stderr",
     "output_type": "stream",
     "text": [
      "\r",
      "  6%|▌         | 116/2000 [1:23:50<58:16:52, 111.37s/it]"
     ]
    },
    {
     "name": "stdout",
     "output_type": "stream",
     "text": [
      "Training_loss 0.59642,   Accuracy 0.75855\n"
     ]
    },
    {
     "name": "stderr",
     "output_type": "stream",
     "text": [
      "\r",
      "  6%|▌         | 117/2000 [1:25:45<58:55:14, 112.65s/it]"
     ]
    },
    {
     "name": "stdout",
     "output_type": "stream",
     "text": [
      "Training_loss 0.59612,   Accuracy 0.75871\n"
     ]
    },
    {
     "name": "stderr",
     "output_type": "stream",
     "text": [
      "\r",
      "  6%|▌         | 118/2000 [1:27:32<57:54:35, 110.77s/it]"
     ]
    },
    {
     "name": "stdout",
     "output_type": "stream",
     "text": [
      "Training_loss 0.59568,   Accuracy 0.75877\n"
     ]
    },
    {
     "name": "stderr",
     "output_type": "stream",
     "text": [
      "\r",
      "  6%|▌         | 119/2000 [1:29:18<57:12:11, 109.48s/it]"
     ]
    },
    {
     "name": "stdout",
     "output_type": "stream",
     "text": [
      "Training_loss 0.59535,   Accuracy 0.75883\n"
     ]
    },
    {
     "name": "stderr",
     "output_type": "stream",
     "text": [
      "\r",
      "  6%|▌         | 120/2000 [1:31:09<57:19:17, 109.76s/it]"
     ]
    },
    {
     "name": "stdout",
     "output_type": "stream",
     "text": [
      "Training_loss 0.59511,   Accuracy 0.75890\n"
     ]
    },
    {
     "name": "stderr",
     "output_type": "stream",
     "text": [
      "\r",
      "  6%|▌         | 121/2000 [1:32:52<56:18:59, 107.90s/it]"
     ]
    },
    {
     "name": "stdout",
     "output_type": "stream",
     "text": [
      "Training_loss 0.59481,   Accuracy 0.75889\n"
     ]
    },
    {
     "name": "stderr",
     "output_type": "stream",
     "text": [
      "\r",
      "  6%|▌         | 122/2000 [1:34:39<56:09:41, 107.66s/it]"
     ]
    },
    {
     "name": "stdout",
     "output_type": "stream",
     "text": [
      "Training_loss 0.59452,   Accuracy 0.75886\n"
     ]
    },
    {
     "name": "stderr",
     "output_type": "stream",
     "text": [
      "\r",
      "  6%|▌         | 123/2000 [1:36:25<55:46:52, 106.99s/it]"
     ]
    },
    {
     "name": "stdout",
     "output_type": "stream",
     "text": [
      "Training_loss 0.59424,   Accuracy 0.75883\n"
     ]
    },
    {
     "name": "stderr",
     "output_type": "stream",
     "text": [
      "\r",
      "  6%|▌         | 124/2000 [1:38:12<55:47:57, 107.08s/it]"
     ]
    },
    {
     "name": "stdout",
     "output_type": "stream",
     "text": [
      "Training_loss 0.59389,   Accuracy 0.75889\n"
     ]
    },
    {
     "name": "stderr",
     "output_type": "stream",
     "text": [
      "\r",
      "  6%|▋         | 125/2000 [1:39:57<55:28:00, 106.50s/it]"
     ]
    },
    {
     "name": "stdout",
     "output_type": "stream",
     "text": [
      "Training_loss 0.59362,   Accuracy 0.75892\n"
     ]
    },
    {
     "name": "stderr",
     "output_type": "stream",
     "text": [
      "\r",
      "  6%|▋         | 126/2000 [1:41:49<56:13:51, 108.02s/it]"
     ]
    },
    {
     "name": "stdout",
     "output_type": "stream",
     "text": [
      "Training_loss 0.59333,   Accuracy 0.75899\n"
     ]
    },
    {
     "name": "stderr",
     "output_type": "stream",
     "text": [
      "\r",
      "  6%|▋         | 127/2000 [1:43:46<57:39:49, 110.83s/it]"
     ]
    },
    {
     "name": "stdout",
     "output_type": "stream",
     "text": [
      "Training_loss 0.59295,   Accuracy 0.75904\n"
     ]
    },
    {
     "name": "stderr",
     "output_type": "stream",
     "text": [
      "\r",
      "  6%|▋         | 128/2000 [1:45:48<59:26:48, 114.32s/it]"
     ]
    },
    {
     "name": "stdout",
     "output_type": "stream",
     "text": [
      "Training_loss 0.59265,   Accuracy 0.75914\n"
     ]
    },
    {
     "name": "stderr",
     "output_type": "stream",
     "text": [
      "\r",
      "  6%|▋         | 129/2000 [1:47:38<58:36:37, 112.77s/it]"
     ]
    },
    {
     "name": "stdout",
     "output_type": "stream",
     "text": [
      "Training_loss 0.59238,   Accuracy 0.75928\n"
     ]
    },
    {
     "name": "stderr",
     "output_type": "stream",
     "text": [
      "\r",
      "  6%|▋         | 130/2000 [1:49:27<58:02:05, 111.72s/it]"
     ]
    },
    {
     "name": "stdout",
     "output_type": "stream",
     "text": [
      "Training_loss 0.59209,   Accuracy 0.75936\n"
     ]
    },
    {
     "name": "stderr",
     "output_type": "stream",
     "text": [
      "\r",
      "  7%|▋         | 131/2000 [1:51:14<57:13:03, 110.21s/it]"
     ]
    },
    {
     "name": "stdout",
     "output_type": "stream",
     "text": [
      "Training_loss 0.59179,   Accuracy 0.75942\n"
     ]
    },
    {
     "name": "stderr",
     "output_type": "stream",
     "text": [
      "\r",
      "  7%|▋         | 132/2000 [1:53:00<56:31:50, 108.95s/it]"
     ]
    },
    {
     "name": "stdout",
     "output_type": "stream",
     "text": [
      "Training_loss 0.59151,   Accuracy 0.75948\n"
     ]
    },
    {
     "name": "stderr",
     "output_type": "stream",
     "text": [
      "\r",
      "  7%|▋         | 133/2000 [1:54:49<56:33:58, 109.07s/it]"
     ]
    },
    {
     "name": "stdout",
     "output_type": "stream",
     "text": [
      "Training_loss 0.59125,   Accuracy 0.75951\n"
     ]
    },
    {
     "name": "stderr",
     "output_type": "stream",
     "text": [
      "\r",
      "  7%|▋         | 134/2000 [1:56:34<55:50:54, 107.75s/it]"
     ]
    },
    {
     "name": "stdout",
     "output_type": "stream",
     "text": [
      "Training_loss 0.59092,   Accuracy 0.75950\n"
     ]
    },
    {
     "name": "stderr",
     "output_type": "stream",
     "text": [
      "\r",
      "  7%|▋         | 135/2000 [1:58:21<55:42:08, 107.52s/it]"
     ]
    },
    {
     "name": "stdout",
     "output_type": "stream",
     "text": [
      "Training_loss 0.59064,   Accuracy 0.75942\n"
     ]
    },
    {
     "name": "stderr",
     "output_type": "stream",
     "text": [
      "\r",
      "  7%|▋         | 136/2000 [2:00:08<55:41:20, 107.55s/it]"
     ]
    },
    {
     "name": "stdout",
     "output_type": "stream",
     "text": [
      "Training_loss 0.59031,   Accuracy 0.75944\n"
     ]
    },
    {
     "name": "stderr",
     "output_type": "stream",
     "text": [
      "\r",
      "  7%|▋         | 137/2000 [2:01:56<55:37:06, 107.48s/it]"
     ]
    },
    {
     "name": "stdout",
     "output_type": "stream",
     "text": [
      "Training_loss 0.59001,   Accuracy 0.75948\n"
     ]
    },
    {
     "name": "stderr",
     "output_type": "stream",
     "text": [
      "\r",
      "  7%|▋         | 138/2000 [2:03:42<55:25:00, 107.14s/it]"
     ]
    },
    {
     "name": "stdout",
     "output_type": "stream",
     "text": [
      "Training_loss 0.58978,   Accuracy 0.75951\n"
     ]
    },
    {
     "name": "stderr",
     "output_type": "stream",
     "text": [
      "\r",
      "  7%|▋         | 139/2000 [2:05:30<55:31:52, 107.42s/it]"
     ]
    },
    {
     "name": "stdout",
     "output_type": "stream",
     "text": [
      "Training_loss 0.58955,   Accuracy 0.75953\n"
     ]
    },
    {
     "name": "stderr",
     "output_type": "stream",
     "text": [
      "\r",
      "  7%|▋         | 140/2000 [2:07:20<55:54:45, 108.22s/it]"
     ]
    },
    {
     "name": "stdout",
     "output_type": "stream",
     "text": [
      "Training_loss 0.58927,   Accuracy 0.75953\n"
     ]
    },
    {
     "name": "stderr",
     "output_type": "stream",
     "text": [
      "\r",
      "  7%|▋         | 141/2000 [2:09:04<55:10:53, 106.86s/it]"
     ]
    },
    {
     "name": "stdout",
     "output_type": "stream",
     "text": [
      "Training_loss 0.58911,   Accuracy 0.75958\n"
     ]
    },
    {
     "name": "stderr",
     "output_type": "stream",
     "text": [
      "\r",
      "  7%|▋         | 142/2000 [2:10:50<55:04:40, 106.72s/it]"
     ]
    },
    {
     "name": "stdout",
     "output_type": "stream",
     "text": [
      "Training_loss 0.58890,   Accuracy 0.75961\n"
     ]
    },
    {
     "name": "stderr",
     "output_type": "stream",
     "text": [
      "\r",
      "  7%|▋         | 143/2000 [2:12:41<55:42:36, 108.00s/it]"
     ]
    },
    {
     "name": "stdout",
     "output_type": "stream",
     "text": [
      "Training_loss 0.58857,   Accuracy 0.75961\n"
     ]
    },
    {
     "name": "stderr",
     "output_type": "stream",
     "text": [
      "\r",
      "  7%|▋         | 144/2000 [2:14:25<55:02:07, 106.75s/it]"
     ]
    },
    {
     "name": "stdout",
     "output_type": "stream",
     "text": [
      "Training_loss 0.58838,   Accuracy 0.75968\n"
     ]
    },
    {
     "name": "stderr",
     "output_type": "stream",
     "text": [
      "\r",
      "  7%|▋         | 145/2000 [2:16:13<55:12:06, 107.13s/it]"
     ]
    },
    {
     "name": "stdout",
     "output_type": "stream",
     "text": [
      "Training_loss 0.58809,   Accuracy 0.75969\n"
     ]
    },
    {
     "name": "stderr",
     "output_type": "stream",
     "text": [
      "\r",
      "  7%|▋         | 146/2000 [2:18:02<55:23:39, 107.56s/it]"
     ]
    },
    {
     "name": "stdout",
     "output_type": "stream",
     "text": [
      "Training_loss 0.58786,   Accuracy 0.75968\n"
     ]
    },
    {
     "name": "stderr",
     "output_type": "stream",
     "text": [
      "\r",
      "  7%|▋         | 147/2000 [2:19:54<56:05:05, 108.96s/it]"
     ]
    },
    {
     "name": "stdout",
     "output_type": "stream",
     "text": [
      "Training_loss 0.58756,   Accuracy 0.75974\n"
     ]
    },
    {
     "name": "stderr",
     "output_type": "stream",
     "text": [
      "\r",
      "  7%|▋         | 148/2000 [2:21:38<55:20:54, 107.59s/it]"
     ]
    },
    {
     "name": "stdout",
     "output_type": "stream",
     "text": [
      "Training_loss 0.58726,   Accuracy 0.75973\n"
     ]
    },
    {
     "name": "stderr",
     "output_type": "stream",
     "text": [
      "\r",
      "  7%|▋         | 149/2000 [2:23:23<54:58:24, 106.92s/it]"
     ]
    },
    {
     "name": "stdout",
     "output_type": "stream",
     "text": [
      "Training_loss 0.58704,   Accuracy 0.75975\n"
     ]
    },
    {
     "name": "stderr",
     "output_type": "stream",
     "text": [
      "\r",
      "  8%|▊         | 150/2000 [2:25:10<54:56:58, 106.93s/it]"
     ]
    },
    {
     "name": "stdout",
     "output_type": "stream",
     "text": [
      "Training_loss 0.58672,   Accuracy 0.75970\n"
     ]
    },
    {
     "name": "stderr",
     "output_type": "stream",
     "text": [
      "\r",
      "  8%|▊         | 151/2000 [2:26:59<55:05:37, 107.27s/it]"
     ]
    },
    {
     "name": "stdout",
     "output_type": "stream",
     "text": [
      "Training_loss 0.58646,   Accuracy 0.75970\n"
     ]
    },
    {
     "name": "stderr",
     "output_type": "stream",
     "text": [
      "\r",
      "  8%|▊         | 152/2000 [2:28:48<55:22:54, 107.89s/it]"
     ]
    },
    {
     "name": "stdout",
     "output_type": "stream",
     "text": [
      "Training_loss 0.58630,   Accuracy 0.75971\n"
     ]
    },
    {
     "name": "stderr",
     "output_type": "stream",
     "text": [
      "\r",
      "  8%|▊         | 153/2000 [2:30:43<56:27:41, 110.05s/it]"
     ]
    },
    {
     "name": "stdout",
     "output_type": "stream",
     "text": [
      "Training_loss 0.58609,   Accuracy 0.75975\n"
     ]
    },
    {
     "name": "stderr",
     "output_type": "stream",
     "text": [
      "\r",
      "  8%|▊         | 154/2000 [2:32:29<55:45:50, 108.75s/it]"
     ]
    },
    {
     "name": "stdout",
     "output_type": "stream",
     "text": [
      "Training_loss 0.58586,   Accuracy 0.75978\n"
     ]
    },
    {
     "name": "stderr",
     "output_type": "stream",
     "text": [
      "\r",
      "  8%|▊         | 155/2000 [2:34:17<55:35:53, 108.48s/it]"
     ]
    },
    {
     "name": "stdout",
     "output_type": "stream",
     "text": [
      "Training_loss 0.58562,   Accuracy 0.75975\n"
     ]
    },
    {
     "name": "stderr",
     "output_type": "stream",
     "text": [
      "\r",
      "  8%|▊         | 156/2000 [2:36:01<55:00:39, 107.40s/it]"
     ]
    },
    {
     "name": "stdout",
     "output_type": "stream",
     "text": [
      "Training_loss 0.58546,   Accuracy 0.75980\n"
     ]
    },
    {
     "name": "stderr",
     "output_type": "stream",
     "text": [
      "\r",
      "  8%|▊         | 157/2000 [2:37:47<54:41:37, 106.84s/it]"
     ]
    },
    {
     "name": "stdout",
     "output_type": "stream",
     "text": [
      "Training_loss 0.58527,   Accuracy 0.75982\n"
     ]
    },
    {
     "name": "stderr",
     "output_type": "stream",
     "text": [
      "\r",
      "  8%|▊         | 158/2000 [2:39:31<54:12:52, 105.96s/it]"
     ]
    },
    {
     "name": "stdout",
     "output_type": "stream",
     "text": [
      "Training_loss 0.58507,   Accuracy 0.75983\n"
     ]
    },
    {
     "name": "stderr",
     "output_type": "stream",
     "text": [
      "\r",
      "  8%|▊         | 159/2000 [2:41:20<54:38:56, 106.86s/it]"
     ]
    },
    {
     "name": "stdout",
     "output_type": "stream",
     "text": [
      "Training_loss 0.58487,   Accuracy 0.75986\n"
     ]
    },
    {
     "name": "stderr",
     "output_type": "stream",
     "text": [
      "\r",
      "  8%|▊         | 160/2000 [2:43:18<56:19:04, 110.19s/it]"
     ]
    },
    {
     "name": "stdout",
     "output_type": "stream",
     "text": [
      "Training_loss 0.58465,   Accuracy 0.76006\n"
     ]
    },
    {
     "name": "stderr",
     "output_type": "stream",
     "text": [
      "\r",
      "  8%|▊         | 161/2000 [2:45:22<58:27:34, 114.44s/it]"
     ]
    },
    {
     "name": "stdout",
     "output_type": "stream",
     "text": [
      "Training_loss 0.58438,   Accuracy 0.75997\n"
     ]
    },
    {
     "name": "stderr",
     "output_type": "stream",
     "text": [
      "\r",
      "  8%|▊         | 162/2000 [2:47:16<58:18:44, 114.21s/it]"
     ]
    },
    {
     "name": "stdout",
     "output_type": "stream",
     "text": [
      "Training_loss 0.58418,   Accuracy 0.75996\n"
     ]
    },
    {
     "name": "stderr",
     "output_type": "stream",
     "text": [
      "\r",
      "  8%|▊         | 163/2000 [2:49:04<57:18:57, 112.32s/it]"
     ]
    },
    {
     "name": "stdout",
     "output_type": "stream",
     "text": [
      "Training_loss 0.58396,   Accuracy 0.76003\n"
     ]
    },
    {
     "name": "stderr",
     "output_type": "stream",
     "text": [
      "\r",
      "  8%|▊         | 164/2000 [2:51:02<58:11:53, 114.11s/it]"
     ]
    },
    {
     "name": "stdout",
     "output_type": "stream",
     "text": [
      "Training_loss 0.58369,   Accuracy 0.76017\n"
     ]
    },
    {
     "name": "stderr",
     "output_type": "stream",
     "text": [
      "\r",
      "  8%|▊         | 165/2000 [2:52:56<58:12:08, 114.18s/it]"
     ]
    },
    {
     "name": "stdout",
     "output_type": "stream",
     "text": [
      "Training_loss 0.58347,   Accuracy 0.76015\n"
     ]
    },
    {
     "name": "stderr",
     "output_type": "stream",
     "text": [
      "\r",
      "  8%|▊         | 166/2000 [2:54:59<59:30:59, 116.83s/it]"
     ]
    },
    {
     "name": "stdout",
     "output_type": "stream",
     "text": [
      "Training_loss 0.58330,   Accuracy 0.76018\n"
     ]
    },
    {
     "name": "stderr",
     "output_type": "stream",
     "text": [
      "\r",
      "  8%|▊         | 167/2000 [2:56:55<59:14:54, 116.36s/it]"
     ]
    },
    {
     "name": "stdout",
     "output_type": "stream",
     "text": [
      "Training_loss 0.58303,   Accuracy 0.76024\n"
     ]
    },
    {
     "name": "stderr",
     "output_type": "stream",
     "text": [
      "\r",
      "  8%|▊         | 168/2000 [2:58:42<57:51:42, 113.70s/it]"
     ]
    },
    {
     "name": "stdout",
     "output_type": "stream",
     "text": [
      "Training_loss 0.58284,   Accuracy 0.76032\n"
     ]
    },
    {
     "name": "stderr",
     "output_type": "stream",
     "text": [
      "\r",
      "  8%|▊         | 169/2000 [3:00:35<57:40:40, 113.40s/it]"
     ]
    },
    {
     "name": "stdout",
     "output_type": "stream",
     "text": [
      "Training_loss 0.58267,   Accuracy 0.76031\n"
     ]
    },
    {
     "name": "stderr",
     "output_type": "stream",
     "text": [
      "\r",
      "  8%|▊         | 170/2000 [3:02:25<57:07:40, 112.38s/it]"
     ]
    },
    {
     "name": "stdout",
     "output_type": "stream",
     "text": [
      "Training_loss 0.58252,   Accuracy 0.76041\n"
     ]
    },
    {
     "name": "stderr",
     "output_type": "stream",
     "text": [
      "\r",
      "  9%|▊         | 171/2000 [3:04:10<55:58:05, 110.16s/it]"
     ]
    },
    {
     "name": "stdout",
     "output_type": "stream",
     "text": [
      "Training_loss 0.58233,   Accuracy 0.76046\n"
     ]
    },
    {
     "name": "stderr",
     "output_type": "stream",
     "text": [
      "\r",
      "  9%|▊         | 172/2000 [3:05:55<55:12:01, 108.71s/it]"
     ]
    },
    {
     "name": "stdout",
     "output_type": "stream",
     "text": [
      "Training_loss 0.58217,   Accuracy 0.76048\n"
     ]
    },
    {
     "name": "stderr",
     "output_type": "stream",
     "text": [
      "\r",
      "  9%|▊         | 173/2000 [3:07:45<55:19:38, 109.02s/it]"
     ]
    },
    {
     "name": "stdout",
     "output_type": "stream",
     "text": [
      "Training_loss 0.58194,   Accuracy 0.76047\n"
     ]
    },
    {
     "name": "stderr",
     "output_type": "stream",
     "text": [
      "\r",
      "  9%|▊         | 174/2000 [3:09:29<54:33:28, 107.56s/it]"
     ]
    },
    {
     "name": "stdout",
     "output_type": "stream",
     "text": [
      "Training_loss 0.58176,   Accuracy 0.76048\n"
     ]
    },
    {
     "name": "stderr",
     "output_type": "stream",
     "text": [
      "\r",
      "  9%|▉         | 175/2000 [3:11:14<54:05:36, 106.70s/it]"
     ]
    },
    {
     "name": "stdout",
     "output_type": "stream",
     "text": [
      "Training_loss 0.58156,   Accuracy 0.76052\n"
     ]
    },
    {
     "name": "stderr",
     "output_type": "stream",
     "text": [
      "\r",
      "  9%|▉         | 176/2000 [3:13:00<53:55:46, 106.44s/it]"
     ]
    },
    {
     "name": "stdout",
     "output_type": "stream",
     "text": [
      "Training_loss 0.58134,   Accuracy 0.76050\n"
     ]
    },
    {
     "name": "stderr",
     "output_type": "stream",
     "text": [
      "\r",
      "  9%|▉         | 177/2000 [3:14:45<53:48:53, 106.27s/it]"
     ]
    },
    {
     "name": "stdout",
     "output_type": "stream",
     "text": [
      "Training_loss 0.58115,   Accuracy 0.76055\n"
     ]
    },
    {
     "name": "stderr",
     "output_type": "stream",
     "text": [
      "\r",
      "  9%|▉         | 178/2000 [3:16:36<54:23:03, 107.46s/it]"
     ]
    },
    {
     "name": "stdout",
     "output_type": "stream",
     "text": [
      "Training_loss 0.58099,   Accuracy 0.76056\n"
     ]
    },
    {
     "name": "stderr",
     "output_type": "stream",
     "text": [
      "\r",
      "  9%|▉         | 179/2000 [3:18:23<54:17:30, 107.33s/it]"
     ]
    },
    {
     "name": "stdout",
     "output_type": "stream",
     "text": [
      "Training_loss 0.58080,   Accuracy 0.76051\n"
     ]
    },
    {
     "name": "stderr",
     "output_type": "stream",
     "text": [
      "\r",
      "  9%|▉         | 180/2000 [3:20:11<54:25:14, 107.65s/it]"
     ]
    },
    {
     "name": "stdout",
     "output_type": "stream",
     "text": [
      "Training_loss 0.58064,   Accuracy 0.76058\n"
     ]
    },
    {
     "name": "stderr",
     "output_type": "stream",
     "text": [
      "\r",
      "  9%|▉         | 181/2000 [3:21:56<54:00:56, 106.90s/it]"
     ]
    },
    {
     "name": "stdout",
     "output_type": "stream",
     "text": [
      "Training_loss 0.58045,   Accuracy 0.76056\n"
     ]
    },
    {
     "name": "stderr",
     "output_type": "stream",
     "text": [
      "\r",
      "  9%|▉         | 182/2000 [3:23:42<53:45:31, 106.45s/it]"
     ]
    },
    {
     "name": "stdout",
     "output_type": "stream",
     "text": [
      "Training_loss 0.58026,   Accuracy 0.76061\n"
     ]
    },
    {
     "name": "stderr",
     "output_type": "stream",
     "text": [
      "\r",
      "  9%|▉         | 183/2000 [3:25:36<54:51:22, 108.69s/it]"
     ]
    },
    {
     "name": "stdout",
     "output_type": "stream",
     "text": [
      "Training_loss 0.58008,   Accuracy 0.76067\n"
     ]
    },
    {
     "name": "stderr",
     "output_type": "stream",
     "text": [
      "\r",
      "  9%|▉         | 184/2000 [3:27:22<54:30:27, 108.05s/it]"
     ]
    },
    {
     "name": "stdout",
     "output_type": "stream",
     "text": [
      "Training_loss 0.57989,   Accuracy 0.76065\n"
     ]
    },
    {
     "name": "stderr",
     "output_type": "stream",
     "text": [
      "\r",
      "  9%|▉         | 185/2000 [3:29:10<54:28:13, 108.04s/it]"
     ]
    },
    {
     "name": "stdout",
     "output_type": "stream",
     "text": [
      "Training_loss 0.57976,   Accuracy 0.76072\n"
     ]
    },
    {
     "name": "stderr",
     "output_type": "stream",
     "text": [
      "\r",
      "  9%|▉         | 186/2000 [3:30:57<54:18:53, 107.79s/it]"
     ]
    },
    {
     "name": "stdout",
     "output_type": "stream",
     "text": [
      "Training_loss 0.57959,   Accuracy 0.76068\n"
     ]
    },
    {
     "name": "stderr",
     "output_type": "stream",
     "text": [
      "\r",
      "  9%|▉         | 187/2000 [3:32:43<53:58:24, 107.17s/it]"
     ]
    },
    {
     "name": "stdout",
     "output_type": "stream",
     "text": [
      "Training_loss 0.57945,   Accuracy 0.76075\n"
     ]
    },
    {
     "name": "stderr",
     "output_type": "stream",
     "text": [
      "\r",
      "  9%|▉         | 188/2000 [3:34:30<53:51:52, 107.02s/it]"
     ]
    },
    {
     "name": "stdout",
     "output_type": "stream",
     "text": [
      "Training_loss 0.57923,   Accuracy 0.76072\n"
     ]
    },
    {
     "name": "stderr",
     "output_type": "stream",
     "text": [
      "\r",
      "  9%|▉         | 189/2000 [3:36:17<53:52:27, 107.09s/it]"
     ]
    },
    {
     "name": "stdout",
     "output_type": "stream",
     "text": [
      "Training_loss 0.57905,   Accuracy 0.76079\n"
     ]
    },
    {
     "name": "stderr",
     "output_type": "stream",
     "text": [
      "\r",
      " 10%|▉         | 190/2000 [3:38:09<54:32:40, 108.49s/it]"
     ]
    },
    {
     "name": "stdout",
     "output_type": "stream",
     "text": [
      "Training_loss 0.57879,   Accuracy 0.76082\n"
     ]
    },
    {
     "name": "stderr",
     "output_type": "stream",
     "text": [
      "\r",
      " 10%|▉         | 191/2000 [3:39:55<54:11:13, 107.83s/it]"
     ]
    },
    {
     "name": "stdout",
     "output_type": "stream",
     "text": [
      "Training_loss 0.57863,   Accuracy 0.76078\n"
     ]
    },
    {
     "name": "stderr",
     "output_type": "stream",
     "text": [
      "\r",
      " 10%|▉         | 192/2000 [3:41:48<54:57:10, 109.42s/it]"
     ]
    },
    {
     "name": "stdout",
     "output_type": "stream",
     "text": [
      "Training_loss 0.57845,   Accuracy 0.76083\n"
     ]
    },
    {
     "name": "stderr",
     "output_type": "stream",
     "text": [
      "\r",
      " 10%|▉         | 193/2000 [3:43:49<56:39:08, 112.87s/it]"
     ]
    },
    {
     "name": "stdout",
     "output_type": "stream",
     "text": [
      "Training_loss 0.57827,   Accuracy 0.76083\n"
     ]
    },
    {
     "name": "stderr",
     "output_type": "stream",
     "text": [
      "\r",
      " 10%|▉         | 194/2000 [3:45:48<57:35:43, 114.81s/it]"
     ]
    },
    {
     "name": "stdout",
     "output_type": "stream",
     "text": [
      "Training_loss 0.57809,   Accuracy 0.76085\n"
     ]
    },
    {
     "name": "stderr",
     "output_type": "stream",
     "text": [
      "\r",
      " 10%|▉         | 195/2000 [3:47:40<57:02:45, 113.78s/it]"
     ]
    },
    {
     "name": "stdout",
     "output_type": "stream",
     "text": [
      "Training_loss 0.57796,   Accuracy 0.76103\n"
     ]
    },
    {
     "name": "stderr",
     "output_type": "stream",
     "text": [
      "\r",
      " 10%|▉         | 196/2000 [3:49:29<56:18:22, 112.36s/it]"
     ]
    },
    {
     "name": "stdout",
     "output_type": "stream",
     "text": [
      "Training_loss 0.57774,   Accuracy 0.76103\n"
     ]
    },
    {
     "name": "stderr",
     "output_type": "stream",
     "text": [
      "\r",
      " 10%|▉         | 197/2000 [3:51:15<55:18:31, 110.43s/it]"
     ]
    },
    {
     "name": "stdout",
     "output_type": "stream",
     "text": [
      "Training_loss 0.57757,   Accuracy 0.76100\n"
     ]
    },
    {
     "name": "stderr",
     "output_type": "stream",
     "text": [
      "\r",
      " 10%|▉         | 198/2000 [3:53:06<55:26:21, 110.76s/it]"
     ]
    },
    {
     "name": "stdout",
     "output_type": "stream",
     "text": [
      "Training_loss 0.57747,   Accuracy 0.76102\n"
     ]
    },
    {
     "name": "stderr",
     "output_type": "stream",
     "text": [
      "\r",
      " 10%|▉         | 199/2000 [3:55:03<56:18:13, 112.55s/it]"
     ]
    },
    {
     "name": "stdout",
     "output_type": "stream",
     "text": [
      "Training_loss 0.57729,   Accuracy 0.76106\n"
     ]
    },
    {
     "name": "stderr",
     "output_type": "stream",
     "text": [
      "\r",
      " 10%|█         | 200/2000 [3:56:57<56:28:18, 112.94s/it]"
     ]
    },
    {
     "name": "stdout",
     "output_type": "stream",
     "text": [
      "Training_loss 0.57711,   Accuracy 0.76100\n"
     ]
    },
    {
     "name": "stderr",
     "output_type": "stream",
     "text": [
      "\r",
      " 10%|█         | 201/2000 [3:58:49<56:17:28, 112.65s/it]"
     ]
    },
    {
     "name": "stdout",
     "output_type": "stream",
     "text": [
      "Training_loss 0.57702,   Accuracy 0.76106\n"
     ]
    },
    {
     "name": "stderr",
     "output_type": "stream",
     "text": [
      "\r",
      " 10%|█         | 202/2000 [4:00:41<56:14:26, 112.61s/it]"
     ]
    },
    {
     "name": "stdout",
     "output_type": "stream",
     "text": [
      "Training_loss 0.57683,   Accuracy 0.76105\n"
     ]
    },
    {
     "name": "stderr",
     "output_type": "stream",
     "text": [
      "\r",
      " 10%|█         | 203/2000 [4:02:26<55:00:16, 110.19s/it]"
     ]
    },
    {
     "name": "stdout",
     "output_type": "stream",
     "text": [
      "Training_loss 0.57666,   Accuracy 0.76107\n"
     ]
    },
    {
     "name": "stderr",
     "output_type": "stream",
     "text": [
      "\r",
      " 10%|█         | 204/2000 [4:04:11<54:13:16, 108.68s/it]"
     ]
    },
    {
     "name": "stdout",
     "output_type": "stream",
     "text": [
      "Training_loss 0.57646,   Accuracy 0.76107\n"
     ]
    },
    {
     "name": "stderr",
     "output_type": "stream",
     "text": [
      "\r",
      " 10%|█         | 205/2000 [4:05:59<54:07:25, 108.55s/it]"
     ]
    },
    {
     "name": "stdout",
     "output_type": "stream",
     "text": [
      "Training_loss 0.57623,   Accuracy 0.76090\n"
     ]
    },
    {
     "name": "stderr",
     "output_type": "stream",
     "text": [
      "\r",
      " 10%|█         | 206/2000 [4:07:47<54:00:11, 108.37s/it]"
     ]
    },
    {
     "name": "stdout",
     "output_type": "stream",
     "text": [
      "Training_loss 0.57611,   Accuracy 0.76110\n"
     ]
    },
    {
     "name": "stderr",
     "output_type": "stream",
     "text": [
      "\r",
      " 10%|█         | 207/2000 [4:09:34<53:46:59, 107.99s/it]"
     ]
    },
    {
     "name": "stdout",
     "output_type": "stream",
     "text": [
      "Training_loss 0.57591,   Accuracy 0.76111\n"
     ]
    },
    {
     "name": "stderr",
     "output_type": "stream",
     "text": [
      "\r",
      " 10%|█         | 208/2000 [4:11:20<53:20:48, 107.17s/it]"
     ]
    },
    {
     "name": "stdout",
     "output_type": "stream",
     "text": [
      "Training_loss 0.57576,   Accuracy 0.76113\n"
     ]
    },
    {
     "name": "stderr",
     "output_type": "stream",
     "text": [
      "\r",
      " 10%|█         | 209/2000 [4:13:03<52:47:41, 106.12s/it]"
     ]
    },
    {
     "name": "stdout",
     "output_type": "stream",
     "text": [
      "Training_loss 0.57558,   Accuracy 0.76111\n"
     ]
    },
    {
     "name": "stderr",
     "output_type": "stream",
     "text": [
      "\r",
      " 10%|█         | 210/2000 [4:14:48<52:36:51, 105.82s/it]"
     ]
    },
    {
     "name": "stdout",
     "output_type": "stream",
     "text": [
      "Training_loss 0.57543,   Accuracy 0.76118\n"
     ]
    },
    {
     "name": "stderr",
     "output_type": "stream",
     "text": [
      "\r",
      " 11%|█         | 211/2000 [4:16:34<52:37:12, 105.89s/it]"
     ]
    },
    {
     "name": "stdout",
     "output_type": "stream",
     "text": [
      "Training_loss 0.57527,   Accuracy 0.76114\n"
     ]
    },
    {
     "name": "stderr",
     "output_type": "stream",
     "text": [
      "\r",
      " 11%|█         | 212/2000 [4:18:22<52:47:37, 106.30s/it]"
     ]
    },
    {
     "name": "stdout",
     "output_type": "stream",
     "text": [
      "Training_loss 0.57513,   Accuracy 0.76118\n"
     ]
    },
    {
     "name": "stderr",
     "output_type": "stream",
     "text": [
      "\r",
      " 11%|█         | 213/2000 [4:20:07<52:38:00, 106.03s/it]"
     ]
    },
    {
     "name": "stdout",
     "output_type": "stream",
     "text": [
      "Training_loss 0.57502,   Accuracy 0.76114\n"
     ]
    },
    {
     "name": "stderr",
     "output_type": "stream",
     "text": [
      "\r",
      " 11%|█         | 214/2000 [4:22:00<53:36:58, 108.07s/it]"
     ]
    },
    {
     "name": "stdout",
     "output_type": "stream",
     "text": [
      "Training_loss 0.57487,   Accuracy 0.76113\n"
     ]
    },
    {
     "name": "stderr",
     "output_type": "stream",
     "text": [
      "\r",
      " 11%|█         | 215/2000 [4:23:46<53:18:22, 107.51s/it]"
     ]
    },
    {
     "name": "stdout",
     "output_type": "stream",
     "text": [
      "Training_loss 0.57474,   Accuracy 0.76116\n"
     ]
    },
    {
     "name": "stderr",
     "output_type": "stream",
     "text": [
      "\r",
      " 11%|█         | 216/2000 [4:25:32<52:57:43, 106.87s/it]"
     ]
    },
    {
     "name": "stdout",
     "output_type": "stream",
     "text": [
      "Training_loss 0.57459,   Accuracy 0.76118\n"
     ]
    },
    {
     "name": "stderr",
     "output_type": "stream",
     "text": [
      "\r",
      " 11%|█         | 217/2000 [4:27:19<53:00:32, 107.03s/it]"
     ]
    },
    {
     "name": "stdout",
     "output_type": "stream",
     "text": [
      "Training_loss 0.57442,   Accuracy 0.76113\n"
     ]
    },
    {
     "name": "stderr",
     "output_type": "stream",
     "text": [
      "\r",
      " 11%|█         | 218/2000 [4:29:04<52:44:51, 106.56s/it]"
     ]
    },
    {
     "name": "stdout",
     "output_type": "stream",
     "text": [
      "Training_loss 0.57424,   Accuracy 0.76113\n"
     ]
    },
    {
     "name": "stderr",
     "output_type": "stream",
     "text": [
      "\r",
      " 11%|█         | 219/2000 [4:30:57<53:39:18, 108.45s/it]"
     ]
    },
    {
     "name": "stdout",
     "output_type": "stream",
     "text": [
      "Training_loss 0.57414,   Accuracy 0.76121\n"
     ]
    },
    {
     "name": "stderr",
     "output_type": "stream",
     "text": [
      "\r",
      " 11%|█         | 220/2000 [4:32:42<53:04:39, 107.35s/it]"
     ]
    },
    {
     "name": "stdout",
     "output_type": "stream",
     "text": [
      "Training_loss 0.57397,   Accuracy 0.76121\n"
     ]
    },
    {
     "name": "stderr",
     "output_type": "stream",
     "text": [
      "\r",
      " 11%|█         | 221/2000 [4:34:38<54:16:31, 109.83s/it]"
     ]
    },
    {
     "name": "stdout",
     "output_type": "stream",
     "text": [
      "Training_loss 0.57382,   Accuracy 0.76124\n"
     ]
    },
    {
     "name": "stderr",
     "output_type": "stream",
     "text": [
      "\r",
      " 11%|█         | 222/2000 [4:36:23<53:38:55, 108.62s/it]"
     ]
    },
    {
     "name": "stdout",
     "output_type": "stream",
     "text": [
      "Training_loss 0.57374,   Accuracy 0.76131\n"
     ]
    },
    {
     "name": "stderr",
     "output_type": "stream",
     "text": [
      "\r",
      " 11%|█         | 223/2000 [4:38:19<54:36:27, 110.63s/it]"
     ]
    },
    {
     "name": "stdout",
     "output_type": "stream",
     "text": [
      "Training_loss 0.57361,   Accuracy 0.76133\n"
     ]
    },
    {
     "name": "stderr",
     "output_type": "stream",
     "text": [
      "\r",
      " 11%|█         | 224/2000 [4:40:03<53:42:12, 108.86s/it]"
     ]
    },
    {
     "name": "stdout",
     "output_type": "stream",
     "text": [
      "Training_loss 0.57349,   Accuracy 0.76132\n"
     ]
    },
    {
     "name": "stderr",
     "output_type": "stream",
     "text": [
      "\r",
      " 11%|█▏        | 225/2000 [4:41:59<54:38:57, 110.84s/it]"
     ]
    },
    {
     "name": "stdout",
     "output_type": "stream",
     "text": [
      "Training_loss 0.57333,   Accuracy 0.76131\n"
     ]
    },
    {
     "name": "stderr",
     "output_type": "stream",
     "text": [
      "\r",
      " 11%|█▏        | 226/2000 [4:44:07<57:12:25, 116.09s/it]"
     ]
    },
    {
     "name": "stdout",
     "output_type": "stream",
     "text": [
      "Training_loss 0.57325,   Accuracy 0.76137\n"
     ]
    },
    {
     "name": "stderr",
     "output_type": "stream",
     "text": [
      "\r",
      " 11%|█▏        | 227/2000 [4:46:23<60:06:05, 122.03s/it]"
     ]
    },
    {
     "name": "stdout",
     "output_type": "stream",
     "text": [
      "Training_loss 0.57317,   Accuracy 0.76143\n"
     ]
    },
    {
     "name": "stderr",
     "output_type": "stream",
     "text": [
      "\r",
      " 11%|█▏        | 228/2000 [4:48:29<60:38:52, 123.21s/it]"
     ]
    },
    {
     "name": "stdout",
     "output_type": "stream",
     "text": [
      "Training_loss 0.57303,   Accuracy 0.76136\n"
     ]
    },
    {
     "name": "stderr",
     "output_type": "stream",
     "text": [
      "\r",
      " 11%|█▏        | 229/2000 [4:50:22<59:08:24, 120.22s/it]"
     ]
    },
    {
     "name": "stdout",
     "output_type": "stream",
     "text": [
      "Training_loss 0.57290,   Accuracy 0.76134\n"
     ]
    },
    {
     "name": "stderr",
     "output_type": "stream",
     "text": [
      "\r",
      " 12%|█▏        | 230/2000 [4:52:08<56:59:31, 115.92s/it]"
     ]
    },
    {
     "name": "stdout",
     "output_type": "stream",
     "text": [
      "Training_loss 0.57275,   Accuracy 0.76137\n"
     ]
    },
    {
     "name": "stderr",
     "output_type": "stream",
     "text": [
      "\r",
      " 12%|█▏        | 231/2000 [4:53:54<55:30:48, 112.97s/it]"
     ]
    },
    {
     "name": "stdout",
     "output_type": "stream",
     "text": [
      "Training_loss 0.57265,   Accuracy 0.76139\n"
     ]
    },
    {
     "name": "stderr",
     "output_type": "stream",
     "text": [
      "\r",
      " 12%|█▏        | 232/2000 [4:55:42<54:43:11, 111.42s/it]"
     ]
    },
    {
     "name": "stdout",
     "output_type": "stream",
     "text": [
      "Training_loss 0.57243,   Accuracy 0.76136\n"
     ]
    },
    {
     "name": "stderr",
     "output_type": "stream",
     "text": [
      "\r",
      " 12%|█▏        | 233/2000 [4:57:31<54:14:17, 110.50s/it]"
     ]
    },
    {
     "name": "stdout",
     "output_type": "stream",
     "text": [
      "Training_loss 0.57229,   Accuracy 0.76136\n"
     ]
    },
    {
     "name": "stderr",
     "output_type": "stream",
     "text": [
      "\r",
      " 12%|█▏        | 234/2000 [4:59:17<53:35:46, 109.26s/it]"
     ]
    },
    {
     "name": "stdout",
     "output_type": "stream",
     "text": [
      "Training_loss 0.57220,   Accuracy 0.76138\n"
     ]
    },
    {
     "name": "stderr",
     "output_type": "stream",
     "text": [
      "\r",
      " 12%|█▏        | 235/2000 [5:01:25<56:18:13, 114.84s/it]"
     ]
    },
    {
     "name": "stdout",
     "output_type": "stream",
     "text": [
      "Training_loss 0.57215,   Accuracy 0.76161\n"
     ]
    },
    {
     "name": "stderr",
     "output_type": "stream",
     "text": [
      "\r",
      " 12%|█▏        | 236/2000 [5:03:12<55:05:27, 112.43s/it]"
     ]
    },
    {
     "name": "stdout",
     "output_type": "stream",
     "text": [
      "Training_loss 0.57202,   Accuracy 0.76161\n"
     ]
    },
    {
     "name": "stderr",
     "output_type": "stream",
     "text": [
      "\r",
      " 12%|█▏        | 237/2000 [5:04:58<54:07:24, 110.52s/it]"
     ]
    },
    {
     "name": "stdout",
     "output_type": "stream",
     "text": [
      "Training_loss 0.57189,   Accuracy 0.76162\n"
     ]
    },
    {
     "name": "stderr",
     "output_type": "stream",
     "text": [
      "\r",
      " 12%|█▏        | 238/2000 [5:06:49<54:12:32, 110.76s/it]"
     ]
    },
    {
     "name": "stdout",
     "output_type": "stream",
     "text": [
      "Training_loss 0.57180,   Accuracy 0.76161\n"
     ]
    },
    {
     "name": "stderr",
     "output_type": "stream",
     "text": [
      "\r",
      " 12%|█▏        | 239/2000 [5:08:33<53:16:15, 108.90s/it]"
     ]
    },
    {
     "name": "stdout",
     "output_type": "stream",
     "text": [
      "Training_loss 0.57165,   Accuracy 0.76161\n"
     ]
    },
    {
     "name": "stderr",
     "output_type": "stream",
     "text": [
      "\r",
      " 12%|█▏        | 240/2000 [5:10:18<52:37:46, 107.65s/it]"
     ]
    },
    {
     "name": "stdout",
     "output_type": "stream",
     "text": [
      "Training_loss 0.57152,   Accuracy 0.76147\n"
     ]
    },
    {
     "name": "stderr",
     "output_type": "stream",
     "text": [
      "\r",
      " 12%|█▏        | 241/2000 [5:12:04<52:18:09, 107.04s/it]"
     ]
    },
    {
     "name": "stdout",
     "output_type": "stream",
     "text": [
      "Training_loss 0.57137,   Accuracy 0.76144\n"
     ]
    },
    {
     "name": "stderr",
     "output_type": "stream",
     "text": [
      "\r",
      " 12%|█▏        | 242/2000 [5:13:49<51:58:54, 106.45s/it]"
     ]
    },
    {
     "name": "stdout",
     "output_type": "stream",
     "text": [
      "Training_loss 0.57124,   Accuracy 0.76156\n"
     ]
    },
    {
     "name": "stderr",
     "output_type": "stream",
     "text": [
      "\r",
      " 12%|█▏        | 243/2000 [5:15:34<51:47:01, 106.10s/it]"
     ]
    },
    {
     "name": "stdout",
     "output_type": "stream",
     "text": [
      "Training_loss 0.57111,   Accuracy 0.76155\n"
     ]
    },
    {
     "name": "stderr",
     "output_type": "stream",
     "text": [
      "\r",
      " 12%|█▏        | 244/2000 [5:17:22<52:01:08, 106.65s/it]"
     ]
    },
    {
     "name": "stdout",
     "output_type": "stream",
     "text": [
      "Training_loss 0.57097,   Accuracy 0.76159\n"
     ]
    },
    {
     "name": "stderr",
     "output_type": "stream",
     "text": [
      "\r",
      " 12%|█▏        | 245/2000 [5:19:09<51:57:49, 106.59s/it]"
     ]
    },
    {
     "name": "stdout",
     "output_type": "stream",
     "text": [
      "Training_loss 0.57083,   Accuracy 0.76148\n"
     ]
    },
    {
     "name": "stderr",
     "output_type": "stream",
     "text": [
      "\r",
      " 12%|█▏        | 246/2000 [5:20:55<51:52:46, 106.48s/it]"
     ]
    },
    {
     "name": "stdout",
     "output_type": "stream",
     "text": [
      "Training_loss 0.57070,   Accuracy 0.76147\n"
     ]
    },
    {
     "name": "stderr",
     "output_type": "stream",
     "text": [
      "\r",
      " 12%|█▏        | 247/2000 [5:22:48<52:52:44, 108.59s/it]"
     ]
    },
    {
     "name": "stdout",
     "output_type": "stream",
     "text": [
      "Training_loss 0.57057,   Accuracy 0.76145\n"
     ]
    },
    {
     "name": "stderr",
     "output_type": "stream",
     "text": [
      "\r",
      " 12%|█▏        | 248/2000 [5:24:35<52:32:04, 107.95s/it]"
     ]
    },
    {
     "name": "stdout",
     "output_type": "stream",
     "text": [
      "Training_loss 0.57046,   Accuracy 0.76148\n"
     ]
    },
    {
     "name": "stderr",
     "output_type": "stream",
     "text": [
      "\r",
      " 12%|█▏        | 249/2000 [5:26:22<52:21:59, 107.66s/it]"
     ]
    },
    {
     "name": "stdout",
     "output_type": "stream",
     "text": [
      "Training_loss 0.57037,   Accuracy 0.76148\n"
     ]
    },
    {
     "name": "stderr",
     "output_type": "stream",
     "text": [
      "\r",
      " 12%|█▎        | 250/2000 [5:28:10<52:25:26, 107.84s/it]"
     ]
    },
    {
     "name": "stdout",
     "output_type": "stream",
     "text": [
      "Training_loss 0.57023,   Accuracy 0.76149\n"
     ]
    },
    {
     "name": "stderr",
     "output_type": "stream",
     "text": [
      "\r",
      " 13%|█▎        | 251/2000 [5:30:00<52:41:25, 108.45s/it]"
     ]
    },
    {
     "name": "stdout",
     "output_type": "stream",
     "text": [
      "Training_loss 0.57010,   Accuracy 0.76152\n"
     ]
    },
    {
     "name": "stderr",
     "output_type": "stream",
     "text": [
      "\r",
      " 13%|█▎        | 252/2000 [5:31:51<53:00:50, 109.18s/it]"
     ]
    },
    {
     "name": "stdout",
     "output_type": "stream",
     "text": [
      "Training_loss 0.57002,   Accuracy 0.76154\n"
     ]
    },
    {
     "name": "stderr",
     "output_type": "stream",
     "text": [
      "\r",
      " 13%|█▎        | 253/2000 [5:33:36<52:26:12, 108.06s/it]"
     ]
    },
    {
     "name": "stdout",
     "output_type": "stream",
     "text": [
      "Training_loss 0.56993,   Accuracy 0.76161\n"
     ]
    },
    {
     "name": "stderr",
     "output_type": "stream",
     "text": [
      "\r",
      " 13%|█▎        | 254/2000 [5:35:27<52:50:48, 108.96s/it]"
     ]
    },
    {
     "name": "stdout",
     "output_type": "stream",
     "text": [
      "Training_loss 0.56980,   Accuracy 0.76172\n"
     ]
    },
    {
     "name": "stderr",
     "output_type": "stream",
     "text": [
      "\r",
      " 13%|█▎        | 255/2000 [5:37:18<53:07:09, 109.59s/it]"
     ]
    },
    {
     "name": "stdout",
     "output_type": "stream",
     "text": [
      "Training_loss 0.56968,   Accuracy 0.76172\n"
     ]
    },
    {
     "name": "stderr",
     "output_type": "stream",
     "text": [
      "\r",
      " 13%|█▎        | 256/2000 [5:39:05<52:38:07, 108.65s/it]"
     ]
    },
    {
     "name": "stdout",
     "output_type": "stream",
     "text": [
      "Training_loss 0.56958,   Accuracy 0.76180\n"
     ]
    },
    {
     "name": "stderr",
     "output_type": "stream",
     "text": [
      "\r",
      " 13%|█▎        | 257/2000 [5:40:49<52:00:53, 107.43s/it]"
     ]
    },
    {
     "name": "stdout",
     "output_type": "stream",
     "text": [
      "Training_loss 0.56946,   Accuracy 0.76176\n"
     ]
    },
    {
     "name": "stderr",
     "output_type": "stream",
     "text": [
      "\r",
      " 13%|█▎        | 258/2000 [5:42:48<53:38:19, 110.85s/it]"
     ]
    },
    {
     "name": "stdout",
     "output_type": "stream",
     "text": [
      "Training_loss 0.56938,   Accuracy 0.76191\n"
     ]
    },
    {
     "name": "stderr",
     "output_type": "stream",
     "text": [
      "\r",
      " 13%|█▎        | 259/2000 [5:44:47<54:47:02, 113.28s/it]"
     ]
    },
    {
     "name": "stdout",
     "output_type": "stream",
     "text": [
      "Training_loss 0.56927,   Accuracy 0.76193\n"
     ]
    },
    {
     "name": "stderr",
     "output_type": "stream",
     "text": [
      "\r",
      " 13%|█▎        | 260/2000 [5:46:44<55:20:19, 114.49s/it]"
     ]
    },
    {
     "name": "stdout",
     "output_type": "stream",
     "text": [
      "Training_loss 0.56918,   Accuracy 0.76190\n"
     ]
    },
    {
     "name": "stderr",
     "output_type": "stream",
     "text": [
      "\r",
      " 13%|█▎        | 261/2000 [5:48:31<54:07:43, 112.05s/it]"
     ]
    },
    {
     "name": "stdout",
     "output_type": "stream",
     "text": [
      "Training_loss 0.56908,   Accuracy 0.76195\n"
     ]
    },
    {
     "name": "stderr",
     "output_type": "stream",
     "text": [
      "\r",
      " 13%|█▎        | 262/2000 [5:50:16<53:05:42, 109.98s/it]"
     ]
    },
    {
     "name": "stdout",
     "output_type": "stream",
     "text": [
      "Training_loss 0.56897,   Accuracy 0.76195\n"
     ]
    },
    {
     "name": "stderr",
     "output_type": "stream",
     "text": [
      "\r",
      " 13%|█▎        | 263/2000 [5:52:07<53:14:43, 110.35s/it]"
     ]
    },
    {
     "name": "stdout",
     "output_type": "stream",
     "text": [
      "Training_loss 0.56886,   Accuracy 0.76191\n"
     ]
    },
    {
     "name": "stderr",
     "output_type": "stream",
     "text": [
      "\r",
      " 13%|█▎        | 264/2000 [5:54:05<54:13:33, 112.45s/it]"
     ]
    },
    {
     "name": "stdout",
     "output_type": "stream",
     "text": [
      "Training_loss 0.56874,   Accuracy 0.76215\n"
     ]
    },
    {
     "name": "stderr",
     "output_type": "stream",
     "text": [
      "\r",
      " 13%|█▎        | 265/2000 [5:56:04<55:12:50, 114.57s/it]"
     ]
    },
    {
     "name": "stdout",
     "output_type": "stream",
     "text": [
      "Training_loss 0.56860,   Accuracy 0.76213\n"
     ]
    },
    {
     "name": "stderr",
     "output_type": "stream",
     "text": [
      "\r",
      " 13%|█▎        | 266/2000 [5:58:04<55:53:32, 116.04s/it]"
     ]
    },
    {
     "name": "stdout",
     "output_type": "stream",
     "text": [
      "Training_loss 0.56847,   Accuracy 0.76209\n"
     ]
    },
    {
     "name": "stderr",
     "output_type": "stream",
     "text": [
      "\r",
      " 13%|█▎        | 267/2000 [5:59:59<55:47:09, 115.89s/it]"
     ]
    },
    {
     "name": "stdout",
     "output_type": "stream",
     "text": [
      "Training_loss 0.56837,   Accuracy 0.76208\n"
     ]
    },
    {
     "name": "stderr",
     "output_type": "stream",
     "text": [
      "\r",
      " 13%|█▎        | 268/2000 [6:01:58<56:09:32, 116.73s/it]"
     ]
    },
    {
     "name": "stdout",
     "output_type": "stream",
     "text": [
      "Training_loss 0.56830,   Accuracy 0.76210\n"
     ]
    },
    {
     "name": "stderr",
     "output_type": "stream",
     "text": [
      "\r",
      " 13%|█▎        | 269/2000 [6:03:45<54:47:08, 113.94s/it]"
     ]
    },
    {
     "name": "stdout",
     "output_type": "stream",
     "text": [
      "Training_loss 0.56821,   Accuracy 0.76225\n"
     ]
    },
    {
     "name": "stderr",
     "output_type": "stream",
     "text": [
      "\r",
      " 14%|█▎        | 270/2000 [6:05:30<53:26:38, 111.21s/it]"
     ]
    },
    {
     "name": "stdout",
     "output_type": "stream",
     "text": [
      "Training_loss 0.56813,   Accuracy 0.76213\n"
     ]
    },
    {
     "name": "stderr",
     "output_type": "stream",
     "text": [
      "\r",
      " 14%|█▎        | 271/2000 [6:07:17<52:46:58, 109.90s/it]"
     ]
    },
    {
     "name": "stdout",
     "output_type": "stream",
     "text": [
      "Training_loss 0.56806,   Accuracy 0.76217\n"
     ]
    },
    {
     "name": "stderr",
     "output_type": "stream",
     "text": [
      "\r",
      " 14%|█▎        | 272/2000 [6:09:04<52:19:59, 109.03s/it]"
     ]
    },
    {
     "name": "stdout",
     "output_type": "stream",
     "text": [
      "Training_loss 0.56794,   Accuracy 0.76215\n"
     ]
    },
    {
     "name": "stderr",
     "output_type": "stream",
     "text": [
      "\r",
      " 14%|█▎        | 273/2000 [6:10:53<52:20:58, 109.12s/it]"
     ]
    },
    {
     "name": "stdout",
     "output_type": "stream",
     "text": [
      "Training_loss 0.56784,   Accuracy 0.76220\n"
     ]
    },
    {
     "name": "stderr",
     "output_type": "stream",
     "text": [
      "\r",
      " 14%|█▎        | 274/2000 [6:12:38<51:40:44, 107.79s/it]"
     ]
    },
    {
     "name": "stdout",
     "output_type": "stream",
     "text": [
      "Training_loss 0.56772,   Accuracy 0.76219\n"
     ]
    },
    {
     "name": "stderr",
     "output_type": "stream",
     "text": [
      "\r",
      " 14%|█▍        | 275/2000 [6:14:26<51:43:55, 107.96s/it]"
     ]
    },
    {
     "name": "stdout",
     "output_type": "stream",
     "text": [
      "Training_loss 0.56760,   Accuracy 0.76210\n"
     ]
    },
    {
     "name": "stderr",
     "output_type": "stream",
     "text": [
      "\r",
      " 14%|█▍        | 276/2000 [6:16:13<51:31:35, 107.60s/it]"
     ]
    },
    {
     "name": "stdout",
     "output_type": "stream",
     "text": [
      "Training_loss 0.56747,   Accuracy 0.76220\n"
     ]
    },
    {
     "name": "stderr",
     "output_type": "stream",
     "text": [
      "\r",
      " 14%|█▍        | 277/2000 [6:17:59<51:15:38, 107.10s/it]"
     ]
    },
    {
     "name": "stdout",
     "output_type": "stream",
     "text": [
      "Training_loss 0.56735,   Accuracy 0.76218\n"
     ]
    },
    {
     "name": "stderr",
     "output_type": "stream",
     "text": [
      "\r",
      " 14%|█▍        | 278/2000 [6:19:44<50:57:02, 106.52s/it]"
     ]
    },
    {
     "name": "stdout",
     "output_type": "stream",
     "text": [
      "Training_loss 0.56725,   Accuracy 0.76221\n"
     ]
    },
    {
     "name": "stderr",
     "output_type": "stream",
     "text": [
      "\r",
      " 14%|█▍        | 279/2000 [6:21:34<51:22:56, 107.48s/it]"
     ]
    },
    {
     "name": "stdout",
     "output_type": "stream",
     "text": [
      "Training_loss 0.56714,   Accuracy 0.76217\n"
     ]
    },
    {
     "name": "stderr",
     "output_type": "stream",
     "text": [
      "\r",
      " 14%|█▍        | 280/2000 [6:23:20<51:06:38, 106.98s/it]"
     ]
    },
    {
     "name": "stdout",
     "output_type": "stream",
     "text": [
      "Training_loss 0.56711,   Accuracy 0.76225\n"
     ]
    },
    {
     "name": "stderr",
     "output_type": "stream",
     "text": [
      "\r",
      " 14%|█▍        | 281/2000 [6:25:04<50:42:19, 106.19s/it]"
     ]
    },
    {
     "name": "stdout",
     "output_type": "stream",
     "text": [
      "Training_loss 0.56702,   Accuracy 0.76241\n"
     ]
    },
    {
     "name": "stderr",
     "output_type": "stream",
     "text": [
      "\r",
      " 14%|█▍        | 282/2000 [6:26:53<51:03:14, 106.98s/it]"
     ]
    },
    {
     "name": "stdout",
     "output_type": "stream",
     "text": [
      "Training_loss 0.56692,   Accuracy 0.76234\n"
     ]
    },
    {
     "name": "stderr",
     "output_type": "stream",
     "text": [
      "\r",
      " 14%|█▍        | 283/2000 [6:28:40<51:03:45, 107.06s/it]"
     ]
    },
    {
     "name": "stdout",
     "output_type": "stream",
     "text": [
      "Training_loss 0.56684,   Accuracy 0.76230\n"
     ]
    },
    {
     "name": "stderr",
     "output_type": "stream",
     "text": [
      "\r",
      " 14%|█▍        | 284/2000 [6:30:28<51:10:29, 107.36s/it]"
     ]
    },
    {
     "name": "stdout",
     "output_type": "stream",
     "text": [
      "Training_loss 0.56676,   Accuracy 0.76232\n"
     ]
    },
    {
     "name": "stderr",
     "output_type": "stream",
     "text": [
      "\r",
      " 14%|█▍        | 285/2000 [6:32:30<53:15:08, 111.78s/it]"
     ]
    },
    {
     "name": "stdout",
     "output_type": "stream",
     "text": [
      "Training_loss 0.56669,   Accuracy 0.76235\n"
     ]
    },
    {
     "name": "stderr",
     "output_type": "stream",
     "text": [
      "\r",
      " 14%|█▍        | 286/2000 [6:34:25<53:38:54, 112.68s/it]"
     ]
    },
    {
     "name": "stdout",
     "output_type": "stream",
     "text": [
      "Training_loss 0.56655,   Accuracy 0.76241\n"
     ]
    },
    {
     "name": "stderr",
     "output_type": "stream",
     "text": [
      "\r",
      " 14%|█▍        | 287/2000 [6:36:15<53:12:03, 111.81s/it]"
     ]
    },
    {
     "name": "stdout",
     "output_type": "stream",
     "text": [
      "Training_loss 0.56646,   Accuracy 0.76242\n"
     ]
    },
    {
     "name": "stderr",
     "output_type": "stream",
     "text": [
      "\r",
      " 14%|█▍        | 288/2000 [6:38:04<52:50:56, 111.13s/it]"
     ]
    },
    {
     "name": "stdout",
     "output_type": "stream",
     "text": [
      "Training_loss 0.56638,   Accuracy 0.76245\n"
     ]
    },
    {
     "name": "stderr",
     "output_type": "stream",
     "text": [
      "\r",
      " 14%|█▍        | 289/2000 [6:39:49<51:49:57, 109.06s/it]"
     ]
    },
    {
     "name": "stdout",
     "output_type": "stream",
     "text": [
      "Training_loss 0.56629,   Accuracy 0.76253\n"
     ]
    },
    {
     "name": "stderr",
     "output_type": "stream",
     "text": [
      "\r",
      " 14%|█▍        | 290/2000 [6:41:40<52:10:10, 109.83s/it]"
     ]
    },
    {
     "name": "stdout",
     "output_type": "stream",
     "text": [
      "Training_loss 0.56619,   Accuracy 0.76257\n"
     ]
    },
    {
     "name": "stderr",
     "output_type": "stream",
     "text": [
      "\r",
      " 15%|█▍        | 291/2000 [6:43:39<53:26:20, 112.57s/it]"
     ]
    },
    {
     "name": "stdout",
     "output_type": "stream",
     "text": [
      "Training_loss 0.56611,   Accuracy 0.76257\n"
     ]
    },
    {
     "name": "stderr",
     "output_type": "stream",
     "text": [
      "\r",
      " 15%|█▍        | 292/2000 [6:45:37<54:07:48, 114.09s/it]"
     ]
    },
    {
     "name": "stdout",
     "output_type": "stream",
     "text": [
      "Training_loss 0.56598,   Accuracy 0.76255\n"
     ]
    },
    {
     "name": "stderr",
     "output_type": "stream",
     "text": [
      "\r",
      " 15%|█▍        | 293/2000 [6:47:34<54:28:38, 114.89s/it]"
     ]
    },
    {
     "name": "stdout",
     "output_type": "stream",
     "text": [
      "Training_loss 0.56586,   Accuracy 0.76254\n"
     ]
    },
    {
     "name": "stderr",
     "output_type": "stream",
     "text": [
      "\r",
      " 15%|█▍        | 294/2000 [6:49:30<54:42:05, 115.43s/it]"
     ]
    },
    {
     "name": "stdout",
     "output_type": "stream",
     "text": [
      "Training_loss 0.56576,   Accuracy 0.76261\n"
     ]
    },
    {
     "name": "stderr",
     "output_type": "stream",
     "text": [
      "\r",
      " 15%|█▍        | 295/2000 [6:51:27<54:52:41, 115.87s/it]"
     ]
    },
    {
     "name": "stdout",
     "output_type": "stream",
     "text": [
      "Training_loss 0.56567,   Accuracy 0.76270\n"
     ]
    },
    {
     "name": "stderr",
     "output_type": "stream",
     "text": [
      "\r",
      " 15%|█▍        | 296/2000 [6:53:23<54:49:22, 115.82s/it]"
     ]
    },
    {
     "name": "stdout",
     "output_type": "stream",
     "text": [
      "Training_loss 0.56557,   Accuracy 0.76253\n"
     ]
    },
    {
     "name": "stderr",
     "output_type": "stream",
     "text": [
      "\r",
      " 15%|█▍        | 297/2000 [6:55:32<56:39:47, 119.78s/it]"
     ]
    },
    {
     "name": "stdout",
     "output_type": "stream",
     "text": [
      "Training_loss 0.56550,   Accuracy 0.76265\n"
     ]
    },
    {
     "name": "stderr",
     "output_type": "stream",
     "text": [
      "\r",
      " 15%|█▍        | 298/2000 [6:57:43<58:16:18, 123.25s/it]"
     ]
    },
    {
     "name": "stdout",
     "output_type": "stream",
     "text": [
      "Training_loss 0.56542,   Accuracy 0.76267\n"
     ]
    },
    {
     "name": "stderr",
     "output_type": "stream",
     "text": [
      "\r",
      " 15%|█▍        | 299/2000 [6:59:32<56:10:18, 118.88s/it]"
     ]
    },
    {
     "name": "stdout",
     "output_type": "stream",
     "text": [
      "Training_loss 0.56534,   Accuracy 0.76267\n"
     ]
    },
    {
     "name": "stderr",
     "output_type": "stream",
     "text": [
      "\r",
      " 15%|█▌        | 300/2000 [7:01:29<55:51:41, 118.29s/it]"
     ]
    },
    {
     "name": "stdout",
     "output_type": "stream",
     "text": [
      "Training_loss 0.56523,   Accuracy 0.76272\n"
     ]
    },
    {
     "name": "stderr",
     "output_type": "stream",
     "text": [
      "\r",
      " 15%|█▌        | 301/2000 [7:03:15<54:05:26, 114.61s/it]"
     ]
    },
    {
     "name": "stdout",
     "output_type": "stream",
     "text": [
      "Training_loss 0.56516,   Accuracy 0.76278\n"
     ]
    },
    {
     "name": "stderr",
     "output_type": "stream",
     "text": [
      "\r",
      " 15%|█▌        | 302/2000 [7:05:03<53:06:02, 112.58s/it]"
     ]
    },
    {
     "name": "stdout",
     "output_type": "stream",
     "text": [
      "Training_loss 0.56506,   Accuracy 0.76275\n"
     ]
    },
    {
     "name": "stderr",
     "output_type": "stream",
     "text": [
      "\r",
      " 15%|█▌        | 303/2000 [7:06:48<51:59:27, 110.29s/it]"
     ]
    },
    {
     "name": "stdout",
     "output_type": "stream",
     "text": [
      "Training_loss 0.56496,   Accuracy 0.76279\n"
     ]
    },
    {
     "name": "stderr",
     "output_type": "stream",
     "text": [
      "\r",
      " 15%|█▌        | 304/2000 [7:08:33<51:12:13, 108.69s/it]"
     ]
    },
    {
     "name": "stdout",
     "output_type": "stream",
     "text": [
      "Training_loss 0.56484,   Accuracy 0.76271\n"
     ]
    },
    {
     "name": "stderr",
     "output_type": "stream",
     "text": [
      "\r",
      " 15%|█▌        | 305/2000 [7:10:29<52:11:50, 110.86s/it]"
     ]
    },
    {
     "name": "stdout",
     "output_type": "stream",
     "text": [
      "Training_loss 0.56476,   Accuracy 0.76271\n"
     ]
    },
    {
     "name": "stderr",
     "output_type": "stream",
     "text": [
      "\r",
      " 15%|█▌        | 306/2000 [7:12:23<52:40:59, 111.96s/it]"
     ]
    },
    {
     "name": "stdout",
     "output_type": "stream",
     "text": [
      "Training_loss 0.56469,   Accuracy 0.76282\n"
     ]
    },
    {
     "name": "stderr",
     "output_type": "stream",
     "text": [
      "\r",
      " 15%|█▌        | 307/2000 [7:14:27<54:22:40, 115.63s/it]"
     ]
    },
    {
     "name": "stdout",
     "output_type": "stream",
     "text": [
      "Training_loss 0.56460,   Accuracy 0.76279\n"
     ]
    },
    {
     "name": "stderr",
     "output_type": "stream",
     "text": [
      "\r",
      " 15%|█▌        | 308/2000 [7:16:27<54:54:12, 116.82s/it]"
     ]
    },
    {
     "name": "stdout",
     "output_type": "stream",
     "text": [
      "Training_loss 0.56454,   Accuracy 0.76280\n"
     ]
    },
    {
     "name": "stderr",
     "output_type": "stream",
     "text": [
      "\r",
      " 15%|█▌        | 309/2000 [7:18:31<55:53:24, 118.99s/it]"
     ]
    },
    {
     "name": "stdout",
     "output_type": "stream",
     "text": [
      "Training_loss 0.56446,   Accuracy 0.76289\n"
     ]
    },
    {
     "name": "stderr",
     "output_type": "stream",
     "text": [
      "\r",
      " 16%|█▌        | 310/2000 [7:20:32<56:08:10, 119.58s/it]"
     ]
    },
    {
     "name": "stdout",
     "output_type": "stream",
     "text": [
      "Training_loss 0.56441,   Accuracy 0.76296\n"
     ]
    },
    {
     "name": "stderr",
     "output_type": "stream",
     "text": [
      "\r",
      " 16%|█▌        | 311/2000 [7:22:25<55:12:02, 117.66s/it]"
     ]
    },
    {
     "name": "stdout",
     "output_type": "stream",
     "text": [
      "Training_loss 0.56431,   Accuracy 0.76296\n"
     ]
    },
    {
     "name": "stderr",
     "output_type": "stream",
     "text": [
      "\r",
      " 16%|█▌        | 312/2000 [7:24:16<54:09:51, 115.52s/it]"
     ]
    },
    {
     "name": "stdout",
     "output_type": "stream",
     "text": [
      "Training_loss 0.56422,   Accuracy 0.76288\n"
     ]
    },
    {
     "name": "stderr",
     "output_type": "stream",
     "text": [
      "\r",
      " 16%|█▌        | 313/2000 [7:26:07<53:32:42, 114.26s/it]"
     ]
    },
    {
     "name": "stdout",
     "output_type": "stream",
     "text": [
      "Training_loss 0.56415,   Accuracy 0.76305\n"
     ]
    },
    {
     "name": "stderr",
     "output_type": "stream",
     "text": [
      "\r",
      " 16%|█▌        | 314/2000 [7:27:58<53:08:31, 113.47s/it]"
     ]
    },
    {
     "name": "stdout",
     "output_type": "stream",
     "text": [
      "Training_loss 0.56407,   Accuracy 0.76311\n"
     ]
    },
    {
     "name": "stderr",
     "output_type": "stream",
     "text": [
      "\r",
      " 16%|█▌        | 315/2000 [7:29:44<51:59:49, 111.09s/it]"
     ]
    },
    {
     "name": "stdout",
     "output_type": "stream",
     "text": [
      "Training_loss 0.56402,   Accuracy 0.76316\n"
     ]
    },
    {
     "name": "stderr",
     "output_type": "stream",
     "text": [
      "\r",
      " 16%|█▌        | 316/2000 [7:31:31<51:24:05, 109.88s/it]"
     ]
    },
    {
     "name": "stdout",
     "output_type": "stream",
     "text": [
      "Training_loss 0.56396,   Accuracy 0.76316\n"
     ]
    },
    {
     "name": "stderr",
     "output_type": "stream",
     "text": [
      "\r",
      " 16%|█▌        | 317/2000 [7:33:15<50:33:19, 108.14s/it]"
     ]
    },
    {
     "name": "stdout",
     "output_type": "stream",
     "text": [
      "Training_loss 0.56387,   Accuracy 0.76313\n"
     ]
    },
    {
     "name": "stderr",
     "output_type": "stream",
     "text": [
      "\r",
      " 16%|█▌        | 318/2000 [7:35:01<50:11:43, 107.43s/it]"
     ]
    },
    {
     "name": "stdout",
     "output_type": "stream",
     "text": [
      "Training_loss 0.56378,   Accuracy 0.76313\n"
     ]
    },
    {
     "name": "stderr",
     "output_type": "stream",
     "text": [
      "\r",
      " 16%|█▌        | 319/2000 [7:36:48<50:03:40, 107.21s/it]"
     ]
    },
    {
     "name": "stdout",
     "output_type": "stream",
     "text": [
      "Training_loss 0.56369,   Accuracy 0.76297\n"
     ]
    },
    {
     "name": "stderr",
     "output_type": "stream",
     "text": [
      "\r",
      " 16%|█▌        | 320/2000 [7:38:34<49:57:08, 107.04s/it]"
     ]
    },
    {
     "name": "stdout",
     "output_type": "stream",
     "text": [
      "Training_loss 0.56364,   Accuracy 0.76321\n"
     ]
    },
    {
     "name": "stderr",
     "output_type": "stream",
     "text": [
      "\r",
      " 16%|█▌        | 321/2000 [7:40:20<49:40:08, 106.50s/it]"
     ]
    },
    {
     "name": "stdout",
     "output_type": "stream",
     "text": [
      "Training_loss 0.56353,   Accuracy 0.76321\n"
     ]
    },
    {
     "name": "stderr",
     "output_type": "stream",
     "text": [
      "\r",
      " 16%|█▌        | 322/2000 [7:42:16<51:00:09, 109.42s/it]"
     ]
    },
    {
     "name": "stdout",
     "output_type": "stream",
     "text": [
      "Training_loss 0.56343,   Accuracy 0.76313\n"
     ]
    },
    {
     "name": "stderr",
     "output_type": "stream",
     "text": [
      "\r",
      " 16%|█▌        | 323/2000 [7:44:17<52:38:33, 113.01s/it]"
     ]
    },
    {
     "name": "stdout",
     "output_type": "stream",
     "text": [
      "Training_loss 0.56334,   Accuracy 0.76303\n"
     ]
    },
    {
     "name": "stderr",
     "output_type": "stream",
     "text": [
      "\r",
      " 16%|█▌        | 324/2000 [7:46:19<53:49:55, 115.63s/it]"
     ]
    },
    {
     "name": "stdout",
     "output_type": "stream",
     "text": [
      "Training_loss 0.56325,   Accuracy 0.76305\n"
     ]
    },
    {
     "name": "stderr",
     "output_type": "stream",
     "text": [
      "\r",
      " 16%|█▋        | 325/2000 [7:48:11<53:20:40, 114.65s/it]"
     ]
    },
    {
     "name": "stdout",
     "output_type": "stream",
     "text": [
      "Training_loss 0.56319,   Accuracy 0.76315\n"
     ]
    },
    {
     "name": "stderr",
     "output_type": "stream",
     "text": [
      "\r",
      " 16%|█▋        | 326/2000 [7:49:58<52:08:58, 112.15s/it]"
     ]
    },
    {
     "name": "stdout",
     "output_type": "stream",
     "text": [
      "Training_loss 0.56311,   Accuracy 0.76327\n"
     ]
    },
    {
     "name": "stderr",
     "output_type": "stream",
     "text": [
      "\r",
      " 16%|█▋        | 327/2000 [7:51:47<51:41:15, 111.22s/it]"
     ]
    },
    {
     "name": "stdout",
     "output_type": "stream",
     "text": [
      "Training_loss 0.56300,   Accuracy 0.76312\n"
     ]
    },
    {
     "name": "stderr",
     "output_type": "stream",
     "text": [
      "\r",
      " 16%|█▋        | 328/2000 [7:53:31<50:42:08, 109.17s/it]"
     ]
    },
    {
     "name": "stdout",
     "output_type": "stream",
     "text": [
      "Training_loss 0.56292,   Accuracy 0.76313\n"
     ]
    },
    {
     "name": "stderr",
     "output_type": "stream",
     "text": [
      "\r",
      " 16%|█▋        | 329/2000 [7:55:20<50:41:37, 109.21s/it]"
     ]
    },
    {
     "name": "stdout",
     "output_type": "stream",
     "text": [
      "Training_loss 0.56287,   Accuracy 0.76316\n"
     ]
    },
    {
     "name": "stderr",
     "output_type": "stream",
     "text": [
      "\r",
      " 16%|█▋        | 330/2000 [7:57:07<50:19:41, 108.49s/it]"
     ]
    },
    {
     "name": "stdout",
     "output_type": "stream",
     "text": [
      "Training_loss 0.56280,   Accuracy 0.76321\n"
     ]
    },
    {
     "name": "stderr",
     "output_type": "stream",
     "text": [
      "\r",
      " 17%|█▋        | 331/2000 [7:58:53<49:52:18, 107.57s/it]"
     ]
    },
    {
     "name": "stdout",
     "output_type": "stream",
     "text": [
      "Training_loss 0.56275,   Accuracy 0.76338\n"
     ]
    },
    {
     "name": "stderr",
     "output_type": "stream",
     "text": [
      "\r",
      " 17%|█▋        | 332/2000 [8:00:37<49:23:28, 106.60s/it]"
     ]
    },
    {
     "name": "stdout",
     "output_type": "stream",
     "text": [
      "Training_loss 0.56267,   Accuracy 0.76340\n"
     ]
    },
    {
     "name": "stderr",
     "output_type": "stream",
     "text": [
      "\r",
      " 17%|█▋        | 333/2000 [8:02:22<49:09:37, 106.17s/it]"
     ]
    },
    {
     "name": "stdout",
     "output_type": "stream",
     "text": [
      "Training_loss 0.56260,   Accuracy 0.76343\n"
     ]
    },
    {
     "name": "stderr",
     "output_type": "stream",
     "text": [
      "\r",
      " 17%|█▋        | 334/2000 [8:04:10<49:19:08, 106.57s/it]"
     ]
    },
    {
     "name": "stdout",
     "output_type": "stream",
     "text": [
      "Training_loss 0.56251,   Accuracy 0.76345\n"
     ]
    },
    {
     "name": "stderr",
     "output_type": "stream",
     "text": [
      "\r",
      " 17%|█▋        | 335/2000 [8:05:55<49:09:56, 106.30s/it]"
     ]
    },
    {
     "name": "stdout",
     "output_type": "stream",
     "text": [
      "Training_loss 0.56243,   Accuracy 0.76346\n"
     ]
    },
    {
     "name": "stderr",
     "output_type": "stream",
     "text": [
      "\r",
      " 17%|█▋        | 336/2000 [8:07:45<49:36:54, 107.34s/it]"
     ]
    },
    {
     "name": "stdout",
     "output_type": "stream",
     "text": [
      "Training_loss 0.56234,   Accuracy 0.76351\n"
     ]
    },
    {
     "name": "stderr",
     "output_type": "stream",
     "text": [
      "\r",
      " 17%|█▋        | 337/2000 [8:09:30<49:16:55, 106.68s/it]"
     ]
    },
    {
     "name": "stdout",
     "output_type": "stream",
     "text": [
      "Training_loss 0.56226,   Accuracy 0.76355\n"
     ]
    },
    {
     "name": "stderr",
     "output_type": "stream",
     "text": [
      "\r",
      " 17%|█▋        | 338/2000 [8:11:15<48:59:06, 106.11s/it]"
     ]
    },
    {
     "name": "stdout",
     "output_type": "stream",
     "text": [
      "Training_loss 0.56219,   Accuracy 0.76350\n"
     ]
    },
    {
     "name": "stderr",
     "output_type": "stream",
     "text": [
      "\r",
      " 17%|█▋        | 339/2000 [8:12:59<48:44:57, 105.66s/it]"
     ]
    },
    {
     "name": "stdout",
     "output_type": "stream",
     "text": [
      "Training_loss 0.56210,   Accuracy 0.76359\n"
     ]
    },
    {
     "name": "stderr",
     "output_type": "stream",
     "text": [
      "\r",
      " 17%|█▋        | 340/2000 [8:14:45<48:38:11, 105.48s/it]"
     ]
    },
    {
     "name": "stdout",
     "output_type": "stream",
     "text": [
      "Training_loss 0.56203,   Accuracy 0.76352\n"
     ]
    },
    {
     "name": "stderr",
     "output_type": "stream",
     "text": [
      "\r",
      " 17%|█▋        | 341/2000 [8:16:31<48:46:50, 105.85s/it]"
     ]
    },
    {
     "name": "stdout",
     "output_type": "stream",
     "text": [
      "Training_loss 0.56193,   Accuracy 0.76350\n"
     ]
    },
    {
     "name": "stderr",
     "output_type": "stream",
     "text": [
      "\r",
      " 17%|█▋        | 342/2000 [8:18:22<49:28:37, 107.43s/it]"
     ]
    },
    {
     "name": "stdout",
     "output_type": "stream",
     "text": [
      "Training_loss 0.56189,   Accuracy 0.76358\n"
     ]
    },
    {
     "name": "stderr",
     "output_type": "stream",
     "text": [
      "\r",
      " 17%|█▋        | 343/2000 [8:20:13<49:55:21, 108.46s/it]"
     ]
    },
    {
     "name": "stdout",
     "output_type": "stream",
     "text": [
      "Training_loss 0.56185,   Accuracy 0.76360\n"
     ]
    },
    {
     "name": "stderr",
     "output_type": "stream",
     "text": [
      "\r",
      " 17%|█▋        | 344/2000 [8:22:09<50:55:03, 110.69s/it]"
     ]
    },
    {
     "name": "stdout",
     "output_type": "stream",
     "text": [
      "Training_loss 0.56178,   Accuracy 0.76369\n"
     ]
    },
    {
     "name": "stderr",
     "output_type": "stream",
     "text": [
      "\r",
      " 17%|█▋        | 345/2000 [8:24:01<51:05:42, 111.14s/it]"
     ]
    },
    {
     "name": "stdout",
     "output_type": "stream",
     "text": [
      "Training_loss 0.56168,   Accuracy 0.76358\n"
     ]
    },
    {
     "name": "stderr",
     "output_type": "stream",
     "text": [
      "\r",
      " 17%|█▋        | 346/2000 [8:25:54<51:19:59, 111.73s/it]"
     ]
    },
    {
     "name": "stdout",
     "output_type": "stream",
     "text": [
      "Training_loss 0.56160,   Accuracy 0.76359\n"
     ]
    },
    {
     "name": "stderr",
     "output_type": "stream",
     "text": [
      "\r",
      " 17%|█▋        | 347/2000 [8:27:54<52:19:00, 113.94s/it]"
     ]
    },
    {
     "name": "stdout",
     "output_type": "stream",
     "text": [
      "Training_loss 0.56153,   Accuracy 0.76357\n"
     ]
    },
    {
     "name": "stderr",
     "output_type": "stream",
     "text": [
      "\r",
      " 17%|█▋        | 348/2000 [8:29:48<52:18:52, 114.00s/it]"
     ]
    },
    {
     "name": "stdout",
     "output_type": "stream",
     "text": [
      "Training_loss 0.56148,   Accuracy 0.76369\n"
     ]
    },
    {
     "name": "stderr",
     "output_type": "stream",
     "text": [
      "\r",
      " 17%|█▋        | 349/2000 [8:31:47<52:58:53, 115.53s/it]"
     ]
    },
    {
     "name": "stdout",
     "output_type": "stream",
     "text": [
      "Training_loss 0.56142,   Accuracy 0.76377\n"
     ]
    },
    {
     "name": "stderr",
     "output_type": "stream",
     "text": [
      "\r",
      " 18%|█▊        | 350/2000 [8:33:59<55:18:10, 120.66s/it]"
     ]
    },
    {
     "name": "stdout",
     "output_type": "stream",
     "text": [
      "Training_loss 0.56139,   Accuracy 0.76376\n"
     ]
    },
    {
     "name": "stderr",
     "output_type": "stream",
     "text": [
      "\r",
      " 18%|█▊        | 351/2000 [8:36:27<58:57:36, 128.72s/it]"
     ]
    },
    {
     "name": "stdout",
     "output_type": "stream",
     "text": [
      "Training_loss 0.56134,   Accuracy 0.76376\n"
     ]
    },
    {
     "name": "stderr",
     "output_type": "stream",
     "text": [
      "\r",
      " 18%|█▊        | 352/2000 [8:38:44<60:05:59, 131.29s/it]"
     ]
    },
    {
     "name": "stdout",
     "output_type": "stream",
     "text": [
      "Training_loss 0.56126,   Accuracy 0.76382\n"
     ]
    },
    {
     "name": "stderr",
     "output_type": "stream",
     "text": [
      "\r",
      " 18%|█▊        | 353/2000 [8:40:53<59:40:18, 130.43s/it]"
     ]
    },
    {
     "name": "stdout",
     "output_type": "stream",
     "text": [
      "Training_loss 0.56120,   Accuracy 0.76394\n"
     ]
    },
    {
     "name": "stderr",
     "output_type": "stream",
     "text": [
      "\r",
      " 18%|█▊        | 354/2000 [8:43:16<61:24:00, 134.29s/it]"
     ]
    },
    {
     "name": "stdout",
     "output_type": "stream",
     "text": [
      "Training_loss 0.56112,   Accuracy 0.76395\n"
     ]
    },
    {
     "name": "stderr",
     "output_type": "stream",
     "text": [
      "\r",
      " 18%|█▊        | 355/2000 [8:45:32<61:36:58, 134.84s/it]"
     ]
    },
    {
     "name": "stdout",
     "output_type": "stream",
     "text": [
      "Training_loss 0.56104,   Accuracy 0.76397\n"
     ]
    },
    {
     "name": "stderr",
     "output_type": "stream",
     "text": [
      "\r",
      " 18%|█▊        | 356/2000 [8:47:41<60:44:45, 133.02s/it]"
     ]
    },
    {
     "name": "stdout",
     "output_type": "stream",
     "text": [
      "Training_loss 0.56096,   Accuracy 0.76396\n"
     ]
    },
    {
     "name": "stderr",
     "output_type": "stream",
     "text": [
      "\r",
      " 18%|█▊        | 357/2000 [8:49:37<58:26:35, 128.06s/it]"
     ]
    },
    {
     "name": "stdout",
     "output_type": "stream",
     "text": [
      "Training_loss 0.56091,   Accuracy 0.76392\n"
     ]
    },
    {
     "name": "stderr",
     "output_type": "stream",
     "text": [
      "\r",
      " 18%|█▊        | 358/2000 [8:51:40<57:42:42, 126.53s/it]"
     ]
    },
    {
     "name": "stdout",
     "output_type": "stream",
     "text": [
      "Training_loss 0.56083,   Accuracy 0.76396\n"
     ]
    },
    {
     "name": "stderr",
     "output_type": "stream",
     "text": [
      "\r",
      " 18%|█▊        | 359/2000 [8:53:57<59:05:36, 129.64s/it]"
     ]
    },
    {
     "name": "stdout",
     "output_type": "stream",
     "text": [
      "Training_loss 0.56077,   Accuracy 0.76395\n"
     ]
    },
    {
     "name": "stderr",
     "output_type": "stream",
     "text": [
      "\r",
      " 18%|█▊        | 360/2000 [8:55:53<57:11:34, 125.55s/it]"
     ]
    },
    {
     "name": "stdout",
     "output_type": "stream",
     "text": [
      "Training_loss 0.56069,   Accuracy 0.76400\n"
     ]
    },
    {
     "name": "stderr",
     "output_type": "stream",
     "text": [
      "\r",
      " 18%|█▊        | 361/2000 [8:57:55<56:36:23, 124.33s/it]"
     ]
    },
    {
     "name": "stdout",
     "output_type": "stream",
     "text": [
      "Training_loss 0.56061,   Accuracy 0.76400\n"
     ]
    },
    {
     "name": "stderr",
     "output_type": "stream",
     "text": [
      "\r",
      " 18%|█▊        | 362/2000 [8:59:40<53:56:42, 118.56s/it]"
     ]
    },
    {
     "name": "stdout",
     "output_type": "stream",
     "text": [
      "Training_loss 0.56053,   Accuracy 0.76399\n"
     ]
    },
    {
     "name": "stderr",
     "output_type": "stream",
     "text": [
      "\r",
      " 18%|█▊        | 363/2000 [9:01:29<52:36:46, 115.70s/it]"
     ]
    },
    {
     "name": "stdout",
     "output_type": "stream",
     "text": [
      "Training_loss 0.56046,   Accuracy 0.76403\n"
     ]
    },
    {
     "name": "stderr",
     "output_type": "stream",
     "text": [
      "\r",
      " 18%|█▊        | 364/2000 [9:03:20<51:56:52, 114.31s/it]"
     ]
    },
    {
     "name": "stdout",
     "output_type": "stream",
     "text": [
      "Training_loss 0.56037,   Accuracy 0.76401\n"
     ]
    },
    {
     "name": "stderr",
     "output_type": "stream",
     "text": [
      "\r",
      " 18%|█▊        | 365/2000 [9:05:05<50:39:12, 111.53s/it]"
     ]
    },
    {
     "name": "stdout",
     "output_type": "stream",
     "text": [
      "Training_loss 0.56027,   Accuracy 0.76398\n"
     ]
    },
    {
     "name": "stderr",
     "output_type": "stream",
     "text": [
      "\r",
      " 18%|█▊        | 366/2000 [9:06:54<50:14:41, 110.70s/it]"
     ]
    },
    {
     "name": "stdout",
     "output_type": "stream",
     "text": [
      "Training_loss 0.56021,   Accuracy 0.76403\n"
     ]
    },
    {
     "name": "stderr",
     "output_type": "stream",
     "text": [
      "\r",
      " 18%|█▊        | 367/2000 [9:08:39<49:29:34, 109.11s/it]"
     ]
    },
    {
     "name": "stdout",
     "output_type": "stream",
     "text": [
      "Training_loss 0.56015,   Accuracy 0.76411\n"
     ]
    },
    {
     "name": "stderr",
     "output_type": "stream",
     "text": [
      "\r",
      " 18%|█▊        | 368/2000 [9:10:30<49:38:50, 109.52s/it]"
     ]
    },
    {
     "name": "stdout",
     "output_type": "stream",
     "text": [
      "Training_loss 0.56009,   Accuracy 0.76410\n"
     ]
    },
    {
     "name": "stderr",
     "output_type": "stream",
     "text": [
      "\r",
      " 18%|█▊        | 369/2000 [9:12:13<48:45:41, 107.63s/it]"
     ]
    },
    {
     "name": "stdout",
     "output_type": "stream",
     "text": [
      "Training_loss 0.56001,   Accuracy 0.76405\n"
     ]
    },
    {
     "name": "stderr",
     "output_type": "stream",
     "text": [
      "\r",
      " 18%|█▊        | 370/2000 [9:14:00<48:43:08, 107.60s/it]"
     ]
    },
    {
     "name": "stdout",
     "output_type": "stream",
     "text": [
      "Training_loss 0.55995,   Accuracy 0.76419\n"
     ]
    },
    {
     "name": "stderr",
     "output_type": "stream",
     "text": [
      "\r",
      " 19%|█▊        | 371/2000 [9:15:47<48:30:36, 107.20s/it]"
     ]
    },
    {
     "name": "stdout",
     "output_type": "stream",
     "text": [
      "Training_loss 0.55988,   Accuracy 0.76412\n"
     ]
    },
    {
     "name": "stderr",
     "output_type": "stream",
     "text": [
      "\r",
      " 19%|█▊        | 372/2000 [9:17:34<48:29:27, 107.23s/it]"
     ]
    },
    {
     "name": "stdout",
     "output_type": "stream",
     "text": [
      "Training_loss 0.55982,   Accuracy 0.76420\n"
     ]
    },
    {
     "name": "stderr",
     "output_type": "stream",
     "text": [
      "\r",
      " 19%|█▊        | 373/2000 [9:19:20<48:21:34, 107.00s/it]"
     ]
    },
    {
     "name": "stdout",
     "output_type": "stream",
     "text": [
      "Training_loss 0.55974,   Accuracy 0.76420\n"
     ]
    },
    {
     "name": "stderr",
     "output_type": "stream",
     "text": [
      "\r",
      " 19%|█▊        | 374/2000 [9:21:05<48:00:36, 106.30s/it]"
     ]
    },
    {
     "name": "stdout",
     "output_type": "stream",
     "text": [
      "Training_loss 0.55972,   Accuracy 0.76422\n"
     ]
    },
    {
     "name": "stderr",
     "output_type": "stream",
     "text": [
      "\r",
      " 19%|█▉        | 375/2000 [9:22:50<47:46:24, 105.84s/it]"
     ]
    },
    {
     "name": "stdout",
     "output_type": "stream",
     "text": [
      "Training_loss 0.55963,   Accuracy 0.76419\n"
     ]
    },
    {
     "name": "stderr",
     "output_type": "stream",
     "text": [
      "\r",
      " 19%|█▉        | 376/2000 [9:24:34<47:34:56, 105.48s/it]"
     ]
    },
    {
     "name": "stdout",
     "output_type": "stream",
     "text": [
      "Training_loss 0.55954,   Accuracy 0.76414\n"
     ]
    },
    {
     "name": "stderr",
     "output_type": "stream",
     "text": [
      "\r",
      " 19%|█▉        | 377/2000 [9:26:28<48:37:17, 107.85s/it]"
     ]
    },
    {
     "name": "stdout",
     "output_type": "stream",
     "text": [
      "Training_loss 0.55947,   Accuracy 0.76420\n"
     ]
    },
    {
     "name": "stderr",
     "output_type": "stream",
     "text": [
      "\r",
      " 19%|█▉        | 378/2000 [9:28:17<48:42:57, 108.12s/it]"
     ]
    },
    {
     "name": "stdout",
     "output_type": "stream",
     "text": [
      "Training_loss 0.55940,   Accuracy 0.76425\n"
     ]
    },
    {
     "name": "stderr",
     "output_type": "stream",
     "text": [
      "\r",
      " 19%|█▉        | 379/2000 [9:30:04<48:37:33, 107.99s/it]"
     ]
    },
    {
     "name": "stdout",
     "output_type": "stream",
     "text": [
      "Training_loss 0.55936,   Accuracy 0.76429\n"
     ]
    },
    {
     "name": "stderr",
     "output_type": "stream",
     "text": [
      "\r",
      " 19%|█▉        | 380/2000 [9:31:51<48:28:07, 107.71s/it]"
     ]
    },
    {
     "name": "stdout",
     "output_type": "stream",
     "text": [
      "Training_loss 0.55933,   Accuracy 0.76428\n"
     ]
    },
    {
     "name": "stderr",
     "output_type": "stream",
     "text": [
      "\r",
      " 19%|█▉        | 381/2000 [9:33:41<48:44:12, 108.37s/it]"
     ]
    },
    {
     "name": "stdout",
     "output_type": "stream",
     "text": [
      "Training_loss 0.55927,   Accuracy 0.76433\n"
     ]
    },
    {
     "name": "stderr",
     "output_type": "stream",
     "text": [
      "\r",
      " 19%|█▉        | 382/2000 [9:35:42<50:19:47, 111.98s/it]"
     ]
    },
    {
     "name": "stdout",
     "output_type": "stream",
     "text": [
      "Training_loss 0.55923,   Accuracy 0.76433\n"
     ]
    },
    {
     "name": "stderr",
     "output_type": "stream",
     "text": [
      "\r",
      " 19%|█▉        | 383/2000 [9:37:43<51:36:18, 114.89s/it]"
     ]
    },
    {
     "name": "stdout",
     "output_type": "stream",
     "text": [
      "Training_loss 0.55919,   Accuracy 0.76436\n"
     ]
    },
    {
     "name": "stderr",
     "output_type": "stream",
     "text": [
      "\r",
      " 19%|█▉        | 384/2000 [9:39:29<50:20:30, 112.15s/it]"
     ]
    },
    {
     "name": "stdout",
     "output_type": "stream",
     "text": [
      "Training_loss 0.55915,   Accuracy 0.76436\n"
     ]
    },
    {
     "name": "stderr",
     "output_type": "stream",
     "text": [
      "\r",
      " 19%|█▉        | 385/2000 [9:41:18<49:49:30, 111.07s/it]"
     ]
    },
    {
     "name": "stdout",
     "output_type": "stream",
     "text": [
      "Training_loss 0.55907,   Accuracy 0.76441\n"
     ]
    },
    {
     "name": "stderr",
     "output_type": "stream",
     "text": [
      "\r",
      " 19%|█▉        | 386/2000 [9:43:15<50:37:19, 112.91s/it]"
     ]
    },
    {
     "name": "stdout",
     "output_type": "stream",
     "text": [
      "Training_loss 0.55903,   Accuracy 0.76462\n"
     ]
    },
    {
     "name": "stderr",
     "output_type": "stream",
     "text": [
      "\r",
      " 19%|█▉        | 387/2000 [9:45:15<51:32:33, 115.04s/it]"
     ]
    },
    {
     "name": "stdout",
     "output_type": "stream",
     "text": [
      "Training_loss 0.55896,   Accuracy 0.76467\n"
     ]
    },
    {
     "name": "stderr",
     "output_type": "stream",
     "text": [
      "\r",
      " 19%|█▉        | 388/2000 [9:47:09<51:25:43, 114.85s/it]"
     ]
    },
    {
     "name": "stdout",
     "output_type": "stream",
     "text": [
      "Training_loss 0.55889,   Accuracy 0.76466\n"
     ]
    },
    {
     "name": "stderr",
     "output_type": "stream",
     "text": [
      "\r",
      " 19%|█▉        | 389/2000 [9:49:03<51:17:30, 114.62s/it]"
     ]
    },
    {
     "name": "stdout",
     "output_type": "stream",
     "text": [
      "Training_loss 0.55887,   Accuracy 0.76459\n"
     ]
    },
    {
     "name": "stderr",
     "output_type": "stream",
     "text": [
      "\r",
      " 20%|█▉        | 390/2000 [9:50:48<49:52:19, 111.52s/it]"
     ]
    },
    {
     "name": "stdout",
     "output_type": "stream",
     "text": [
      "Training_loss 0.55881,   Accuracy 0.76440\n"
     ]
    },
    {
     "name": "stderr",
     "output_type": "stream",
     "text": [
      "\r",
      " 20%|█▉        | 391/2000 [9:52:38<49:37:57, 111.05s/it]"
     ]
    },
    {
     "name": "stdout",
     "output_type": "stream",
     "text": [
      "Training_loss 0.55875,   Accuracy 0.76439\n"
     ]
    },
    {
     "name": "stderr",
     "output_type": "stream",
     "text": [
      "\r",
      " 20%|█▉        | 392/2000 [9:54:31<49:56:30, 111.81s/it]"
     ]
    },
    {
     "name": "stdout",
     "output_type": "stream",
     "text": [
      "Training_loss 0.55871,   Accuracy 0.76466\n"
     ]
    },
    {
     "name": "stderr",
     "output_type": "stream",
     "text": [
      "\r",
      " 20%|█▉        | 393/2000 [9:56:27<50:27:12, 113.03s/it]"
     ]
    },
    {
     "name": "stdout",
     "output_type": "stream",
     "text": [
      "Training_loss 0.55861,   Accuracy 0.76444\n"
     ]
    },
    {
     "name": "stderr",
     "output_type": "stream",
     "text": [
      "\r",
      " 20%|█▉        | 394/2000 [9:58:18<50:10:16, 112.46s/it]"
     ]
    },
    {
     "name": "stdout",
     "output_type": "stream",
     "text": [
      "Training_loss 0.55854,   Accuracy 0.76451\n"
     ]
    },
    {
     "name": "stderr",
     "output_type": "stream",
     "text": [
      "\r",
      " 20%|█▉        | 395/2000 [10:00:09<49:59:08, 112.12s/it]"
     ]
    },
    {
     "name": "stdout",
     "output_type": "stream",
     "text": [
      "Training_loss 0.55849,   Accuracy 0.76450\n"
     ]
    },
    {
     "name": "stderr",
     "output_type": "stream",
     "text": [
      "\r",
      " 20%|█▉        | 396/2000 [10:02:06<50:32:51, 113.45s/it]"
     ]
    },
    {
     "name": "stdout",
     "output_type": "stream",
     "text": [
      "Training_loss 0.55845,   Accuracy 0.76447\n"
     ]
    },
    {
     "name": "stderr",
     "output_type": "stream",
     "text": [
      "\r",
      " 20%|█▉        | 397/2000 [10:04:05<51:13:35, 115.04s/it]"
     ]
    },
    {
     "name": "stdout",
     "output_type": "stream",
     "text": [
      "Training_loss 0.55838,   Accuracy 0.76454\n"
     ]
    },
    {
     "name": "stderr",
     "output_type": "stream",
     "text": [
      "\r",
      " 20%|█▉        | 398/2000 [10:05:51<50:05:06, 112.55s/it]"
     ]
    },
    {
     "name": "stdout",
     "output_type": "stream",
     "text": [
      "Training_loss 0.55829,   Accuracy 0.76458\n"
     ]
    },
    {
     "name": "stderr",
     "output_type": "stream",
     "text": [
      "\r",
      " 20%|█▉        | 399/2000 [10:07:39<49:22:13, 111.01s/it]"
     ]
    },
    {
     "name": "stdout",
     "output_type": "stream",
     "text": [
      "Training_loss 0.55824,   Accuracy 0.76459\n"
     ]
    },
    {
     "name": "stderr",
     "output_type": "stream",
     "text": [
      "\r",
      " 20%|██        | 400/2000 [10:09:24<48:33:31, 109.26s/it]"
     ]
    },
    {
     "name": "stdout",
     "output_type": "stream",
     "text": [
      "Training_loss 0.55819,   Accuracy 0.76469\n"
     ]
    },
    {
     "name": "stderr",
     "output_type": "stream",
     "text": [
      "\r",
      " 20%|██        | 401/2000 [10:11:11<48:12:44, 108.55s/it]"
     ]
    },
    {
     "name": "stdout",
     "output_type": "stream",
     "text": [
      "Training_loss 0.55813,   Accuracy 0.76469\n"
     ]
    },
    {
     "name": "stderr",
     "output_type": "stream",
     "text": [
      "\r",
      " 20%|██        | 402/2000 [10:12:55<47:38:27, 107.33s/it]"
     ]
    },
    {
     "name": "stdout",
     "output_type": "stream",
     "text": [
      "Training_loss 0.55806,   Accuracy 0.76464\n"
     ]
    },
    {
     "name": "stderr",
     "output_type": "stream",
     "text": [
      "\r",
      " 20%|██        | 403/2000 [10:14:49<48:29:37, 109.32s/it]"
     ]
    },
    {
     "name": "stdout",
     "output_type": "stream",
     "text": [
      "Training_loss 0.55798,   Accuracy 0.76465\n"
     ]
    },
    {
     "name": "stderr",
     "output_type": "stream",
     "text": [
      "\r",
      " 20%|██        | 404/2000 [10:16:36<48:02:28, 108.36s/it]"
     ]
    },
    {
     "name": "stdout",
     "output_type": "stream",
     "text": [
      "Training_loss 0.55793,   Accuracy 0.76467\n"
     ]
    },
    {
     "name": "stderr",
     "output_type": "stream",
     "text": [
      "\r",
      " 20%|██        | 405/2000 [10:18:24<47:58:54, 108.30s/it]"
     ]
    },
    {
     "name": "stdout",
     "output_type": "stream",
     "text": [
      "Training_loss 0.55787,   Accuracy 0.76469\n"
     ]
    },
    {
     "name": "stderr",
     "output_type": "stream",
     "text": [
      "\r",
      " 20%|██        | 406/2000 [10:20:11<47:52:18, 108.12s/it]"
     ]
    },
    {
     "name": "stdout",
     "output_type": "stream",
     "text": [
      "Training_loss 0.55782,   Accuracy 0.76470\n"
     ]
    },
    {
     "name": "stderr",
     "output_type": "stream",
     "text": [
      "\r",
      " 20%|██        | 407/2000 [10:21:57<47:32:56, 107.46s/it]"
     ]
    },
    {
     "name": "stdout",
     "output_type": "stream",
     "text": [
      "Training_loss 0.55776,   Accuracy 0.76471\n"
     ]
    },
    {
     "name": "stderr",
     "output_type": "stream",
     "text": [
      "\r",
      " 20%|██        | 408/2000 [10:23:44<47:22:31, 107.13s/it]"
     ]
    },
    {
     "name": "stdout",
     "output_type": "stream",
     "text": [
      "Training_loss 0.55771,   Accuracy 0.76472\n"
     ]
    },
    {
     "name": "stderr",
     "output_type": "stream",
     "text": [
      "\r",
      " 20%|██        | 409/2000 [10:25:31<47:20:46, 107.13s/it]"
     ]
    },
    {
     "name": "stdout",
     "output_type": "stream",
     "text": [
      "Training_loss 0.55765,   Accuracy 0.76493\n"
     ]
    },
    {
     "name": "stderr",
     "output_type": "stream",
     "text": [
      "\r",
      " 20%|██        | 410/2000 [10:27:17<47:08:40, 106.74s/it]"
     ]
    },
    {
     "name": "stdout",
     "output_type": "stream",
     "text": [
      "Training_loss 0.55759,   Accuracy 0.76484\n"
     ]
    },
    {
     "name": "stderr",
     "output_type": "stream",
     "text": [
      "\r",
      " 21%|██        | 411/2000 [10:29:12<48:15:29, 109.33s/it]"
     ]
    },
    {
     "name": "stdout",
     "output_type": "stream",
     "text": [
      "Training_loss 0.55752,   Accuracy 0.76481\n"
     ]
    },
    {
     "name": "stderr",
     "output_type": "stream",
     "text": [
      "\r",
      " 21%|██        | 412/2000 [10:31:03<48:27:14, 109.85s/it]"
     ]
    },
    {
     "name": "stdout",
     "output_type": "stream",
     "text": [
      "Training_loss 0.55747,   Accuracy 0.76492\n"
     ]
    },
    {
     "name": "stderr",
     "output_type": "stream",
     "text": [
      "\r",
      " 21%|██        | 413/2000 [10:32:48<47:44:09, 108.29s/it]"
     ]
    },
    {
     "name": "stdout",
     "output_type": "stream",
     "text": [
      "Training_loss 0.55741,   Accuracy 0.76485\n"
     ]
    },
    {
     "name": "stderr",
     "output_type": "stream",
     "text": [
      "\r",
      " 21%|██        | 414/2000 [10:34:36<47:40:43, 108.22s/it]"
     ]
    },
    {
     "name": "stdout",
     "output_type": "stream",
     "text": [
      "Training_loss 0.55738,   Accuracy 0.76497\n"
     ]
    },
    {
     "name": "stderr",
     "output_type": "stream",
     "text": [
      "\r",
      " 21%|██        | 415/2000 [10:36:20<47:10:36, 107.15s/it]"
     ]
    },
    {
     "name": "stdout",
     "output_type": "stream",
     "text": [
      "Training_loss 0.55731,   Accuracy 0.76497\n"
     ]
    },
    {
     "name": "stderr",
     "output_type": "stream",
     "text": [
      "\r",
      " 21%|██        | 416/2000 [10:38:09<47:20:09, 107.58s/it]"
     ]
    },
    {
     "name": "stdout",
     "output_type": "stream",
     "text": [
      "Training_loss 0.55725,   Accuracy 0.76498\n"
     ]
    },
    {
     "name": "stderr",
     "output_type": "stream",
     "text": [
      "\r",
      " 21%|██        | 417/2000 [10:39:56<47:12:00, 107.34s/it]"
     ]
    },
    {
     "name": "stdout",
     "output_type": "stream",
     "text": [
      "Training_loss 0.55717,   Accuracy 0.76499\n"
     ]
    },
    {
     "name": "stderr",
     "output_type": "stream",
     "text": [
      "\r",
      " 21%|██        | 418/2000 [10:41:57<48:59:03, 111.47s/it]"
     ]
    },
    {
     "name": "stdout",
     "output_type": "stream",
     "text": [
      "Training_loss 0.55710,   Accuracy 0.76510\n"
     ]
    },
    {
     "name": "stderr",
     "output_type": "stream",
     "text": [
      "\r",
      " 21%|██        | 419/2000 [10:43:53<49:32:25, 112.81s/it]"
     ]
    },
    {
     "name": "stdout",
     "output_type": "stream",
     "text": [
      "Training_loss 0.55705,   Accuracy 0.76529\n"
     ]
    },
    {
     "name": "stderr",
     "output_type": "stream",
     "text": [
      "\r",
      " 21%|██        | 420/2000 [10:46:06<52:14:50, 119.04s/it]"
     ]
    },
    {
     "name": "stdout",
     "output_type": "stream",
     "text": [
      "Training_loss 0.55700,   Accuracy 0.76508\n"
     ]
    },
    {
     "name": "stderr",
     "output_type": "stream",
     "text": [
      "\r",
      " 21%|██        | 421/2000 [10:48:17<53:41:31, 122.41s/it]"
     ]
    },
    {
     "name": "stdout",
     "output_type": "stream",
     "text": [
      "Training_loss 0.55695,   Accuracy 0.76530\n"
     ]
    },
    {
     "name": "stderr",
     "output_type": "stream",
     "text": [
      "\r",
      " 21%|██        | 422/2000 [10:50:16<53:12:24, 121.38s/it]"
     ]
    },
    {
     "name": "stdout",
     "output_type": "stream",
     "text": [
      "Training_loss 0.55688,   Accuracy 0.76522\n"
     ]
    },
    {
     "name": "stderr",
     "output_type": "stream",
     "text": [
      "\r",
      " 21%|██        | 423/2000 [10:52:19<53:28:51, 122.09s/it]"
     ]
    },
    {
     "name": "stdout",
     "output_type": "stream",
     "text": [
      "Training_loss 0.55683,   Accuracy 0.76541\n"
     ]
    },
    {
     "name": "stderr",
     "output_type": "stream",
     "text": [
      "\r",
      " 21%|██        | 424/2000 [10:54:28<54:16:24, 123.97s/it]"
     ]
    },
    {
     "name": "stdout",
     "output_type": "stream",
     "text": [
      "Training_loss 0.55674,   Accuracy 0.76540\n"
     ]
    },
    {
     "name": "stderr",
     "output_type": "stream",
     "text": [
      "\r",
      " 21%|██▏       | 425/2000 [10:56:14<51:50:48, 118.51s/it]"
     ]
    },
    {
     "name": "stdout",
     "output_type": "stream",
     "text": [
      "Training_loss 0.55669,   Accuracy 0.76538\n"
     ]
    },
    {
     "name": "stderr",
     "output_type": "stream",
     "text": [
      "\r",
      " 21%|██▏       | 426/2000 [10:58:00<50:10:25, 114.76s/it]"
     ]
    },
    {
     "name": "stdout",
     "output_type": "stream",
     "text": [
      "Training_loss 0.55661,   Accuracy 0.76534\n"
     ]
    },
    {
     "name": "stderr",
     "output_type": "stream",
     "text": [
      "\r",
      " 21%|██▏       | 427/2000 [10:59:46<49:01:03, 112.18s/it]"
     ]
    },
    {
     "name": "stdout",
     "output_type": "stream",
     "text": [
      "Training_loss 0.55654,   Accuracy 0.76533\n"
     ]
    },
    {
     "name": "stderr",
     "output_type": "stream",
     "text": [
      "\r",
      " 21%|██▏       | 428/2000 [11:01:31<48:06:54, 110.19s/it]"
     ]
    },
    {
     "name": "stdout",
     "output_type": "stream",
     "text": [
      "Training_loss 0.55647,   Accuracy 0.76535\n"
     ]
    },
    {
     "name": "stderr",
     "output_type": "stream",
     "text": [
      "\r",
      " 21%|██▏       | 429/2000 [11:03:16<47:21:21, 108.52s/it]"
     ]
    },
    {
     "name": "stdout",
     "output_type": "stream",
     "text": [
      "Training_loss 0.55644,   Accuracy 0.76544\n"
     ]
    },
    {
     "name": "stderr",
     "output_type": "stream",
     "text": [
      "\r",
      " 22%|██▏       | 430/2000 [11:05:03<47:09:34, 108.14s/it]"
     ]
    },
    {
     "name": "stdout",
     "output_type": "stream",
     "text": [
      "Training_loss 0.55643,   Accuracy 0.76547\n"
     ]
    },
    {
     "name": "stderr",
     "output_type": "stream",
     "text": [
      "\r",
      " 22%|██▏       | 431/2000 [11:06:53<47:20:10, 108.61s/it]"
     ]
    },
    {
     "name": "stdout",
     "output_type": "stream",
     "text": [
      "Training_loss 0.55636,   Accuracy 0.76550\n"
     ]
    },
    {
     "name": "stderr",
     "output_type": "stream",
     "text": [
      "\r",
      " 22%|██▏       | 432/2000 [11:08:40<47:06:51, 108.17s/it]"
     ]
    },
    {
     "name": "stdout",
     "output_type": "stream",
     "text": [
      "Training_loss 0.55632,   Accuracy 0.76558\n"
     ]
    },
    {
     "name": "stderr",
     "output_type": "stream",
     "text": [
      "\r",
      " 22%|██▏       | 433/2000 [11:10:25<46:38:22, 107.15s/it]"
     ]
    },
    {
     "name": "stdout",
     "output_type": "stream",
     "text": [
      "Training_loss 0.55627,   Accuracy 0.76564\n"
     ]
    },
    {
     "name": "stderr",
     "output_type": "stream",
     "text": [
      "\r",
      " 22%|██▏       | 434/2000 [11:12:09<46:14:13, 106.29s/it]"
     ]
    },
    {
     "name": "stdout",
     "output_type": "stream",
     "text": [
      "Training_loss 0.55619,   Accuracy 0.76567\n"
     ]
    },
    {
     "name": "stderr",
     "output_type": "stream",
     "text": [
      "\r",
      " 22%|██▏       | 435/2000 [11:13:53<45:54:18, 105.60s/it]"
     ]
    },
    {
     "name": "stdout",
     "output_type": "stream",
     "text": [
      "Training_loss 0.55614,   Accuracy 0.76567\n"
     ]
    },
    {
     "name": "stderr",
     "output_type": "stream",
     "text": [
      "\r",
      " 22%|██▏       | 436/2000 [11:15:38<45:48:50, 105.45s/it]"
     ]
    },
    {
     "name": "stdout",
     "output_type": "stream",
     "text": [
      "Training_loss 0.55607,   Accuracy 0.76573\n"
     ]
    },
    {
     "name": "stderr",
     "output_type": "stream",
     "text": [
      "\r",
      " 22%|██▏       | 437/2000 [11:17:31<46:42:47, 107.59s/it]"
     ]
    },
    {
     "name": "stdout",
     "output_type": "stream",
     "text": [
      "Training_loss 0.55599,   Accuracy 0.76564\n"
     ]
    },
    {
     "name": "stderr",
     "output_type": "stream",
     "text": [
      "\r",
      " 22%|██▏       | 438/2000 [11:19:22<47:09:26, 108.69s/it]"
     ]
    },
    {
     "name": "stdout",
     "output_type": "stream",
     "text": [
      "Training_loss 0.55594,   Accuracy 0.76567\n"
     ]
    },
    {
     "name": "stderr",
     "output_type": "stream",
     "text": [
      "\r",
      " 22%|██▏       | 439/2000 [11:21:06<46:34:15, 107.40s/it]"
     ]
    },
    {
     "name": "stdout",
     "output_type": "stream",
     "text": [
      "Training_loss 0.55589,   Accuracy 0.76564\n"
     ]
    },
    {
     "name": "stderr",
     "output_type": "stream",
     "text": [
      "\r",
      " 22%|██▏       | 440/2000 [11:22:52<46:20:11, 106.93s/it]"
     ]
    },
    {
     "name": "stdout",
     "output_type": "stream",
     "text": [
      "Training_loss 0.55586,   Accuracy 0.76566\n"
     ]
    },
    {
     "name": "stderr",
     "output_type": "stream",
     "text": [
      "\r",
      " 22%|██▏       | 441/2000 [11:24:37<46:03:37, 106.36s/it]"
     ]
    },
    {
     "name": "stdout",
     "output_type": "stream",
     "text": [
      "Training_loss 0.55581,   Accuracy 0.76566\n"
     ]
    },
    {
     "name": "stderr",
     "output_type": "stream",
     "text": [
      "\r",
      " 22%|██▏       | 442/2000 [11:26:24<46:05:46, 106.51s/it]"
     ]
    },
    {
     "name": "stdout",
     "output_type": "stream",
     "text": [
      "Training_loss 0.55579,   Accuracy 0.76589\n"
     ]
    },
    {
     "name": "stderr",
     "output_type": "stream",
     "text": [
      "\r",
      " 22%|██▏       | 443/2000 [11:28:12<46:16:52, 107.01s/it]"
     ]
    },
    {
     "name": "stdout",
     "output_type": "stream",
     "text": [
      "Training_loss 0.55576,   Accuracy 0.76596\n"
     ]
    },
    {
     "name": "stderr",
     "output_type": "stream",
     "text": [
      "\r",
      " 22%|██▏       | 444/2000 [11:30:02<46:39:26, 107.95s/it]"
     ]
    },
    {
     "name": "stdout",
     "output_type": "stream",
     "text": [
      "Training_loss 0.55571,   Accuracy 0.76606\n"
     ]
    },
    {
     "name": "stderr",
     "output_type": "stream",
     "text": [
      "\r",
      " 22%|██▏       | 445/2000 [11:31:53<47:00:49, 108.84s/it]"
     ]
    },
    {
     "name": "stdout",
     "output_type": "stream",
     "text": [
      "Training_loss 0.55566,   Accuracy 0.76606\n"
     ]
    },
    {
     "name": "stderr",
     "output_type": "stream",
     "text": [
      "\r",
      " 22%|██▏       | 446/2000 [11:33:38<46:24:38, 107.51s/it]"
     ]
    },
    {
     "name": "stdout",
     "output_type": "stream",
     "text": [
      "Training_loss 0.55565,   Accuracy 0.76615\n"
     ]
    },
    {
     "name": "stderr",
     "output_type": "stream",
     "text": [
      "\r",
      " 22%|██▏       | 447/2000 [11:35:24<46:15:22, 107.23s/it]"
     ]
    },
    {
     "name": "stdout",
     "output_type": "stream",
     "text": [
      "Training_loss 0.55563,   Accuracy 0.76631\n"
     ]
    },
    {
     "name": "stderr",
     "output_type": "stream",
     "text": [
      "\r",
      " 22%|██▏       | 448/2000 [11:37:12<46:13:47, 107.23s/it]"
     ]
    },
    {
     "name": "stdout",
     "output_type": "stream",
     "text": [
      "Training_loss 0.55559,   Accuracy 0.76635\n"
     ]
    },
    {
     "name": "stderr",
     "output_type": "stream",
     "text": [
      "\r",
      " 22%|██▏       | 449/2000 [11:38:57<45:59:09, 106.74s/it]"
     ]
    },
    {
     "name": "stdout",
     "output_type": "stream",
     "text": [
      "Training_loss 0.55553,   Accuracy 0.76634\n"
     ]
    },
    {
     "name": "stderr",
     "output_type": "stream",
     "text": [
      "\r",
      " 22%|██▎       | 450/2000 [11:40:45<46:07:13, 107.12s/it]"
     ]
    },
    {
     "name": "stdout",
     "output_type": "stream",
     "text": [
      "Training_loss 0.55547,   Accuracy 0.76636\n"
     ]
    },
    {
     "name": "stderr",
     "output_type": "stream",
     "text": [
      "\r",
      " 23%|██▎       | 451/2000 [11:42:30<45:47:25, 106.42s/it]"
     ]
    },
    {
     "name": "stdout",
     "output_type": "stream",
     "text": [
      "Training_loss 0.55542,   Accuracy 0.76636\n"
     ]
    },
    {
     "name": "stderr",
     "output_type": "stream",
     "text": [
      "\r",
      " 23%|██▎       | 452/2000 [11:44:14<45:31:00, 105.85s/it]"
     ]
    },
    {
     "name": "stdout",
     "output_type": "stream",
     "text": [
      "Training_loss 0.55539,   Accuracy 0.76631\n"
     ]
    },
    {
     "name": "stderr",
     "output_type": "stream",
     "text": [
      "\r",
      " 23%|██▎       | 453/2000 [11:45:58<45:15:02, 105.30s/it]"
     ]
    },
    {
     "name": "stdout",
     "output_type": "stream",
     "text": [
      "Training_loss 0.55535,   Accuracy 0.76640\n"
     ]
    },
    {
     "name": "stderr",
     "output_type": "stream",
     "text": [
      "\r",
      " 23%|██▎       | 454/2000 [11:47:49<45:50:16, 106.74s/it]"
     ]
    },
    {
     "name": "stdout",
     "output_type": "stream",
     "text": [
      "Training_loss 0.55531,   Accuracy 0.76650\n"
     ]
    },
    {
     "name": "stderr",
     "output_type": "stream",
     "text": [
      "\r",
      " 23%|██▎       | 455/2000 [11:49:37<46:05:05, 107.38s/it]"
     ]
    },
    {
     "name": "stdout",
     "output_type": "stream",
     "text": [
      "Training_loss 0.55527,   Accuracy 0.76653\n"
     ]
    },
    {
     "name": "stderr",
     "output_type": "stream",
     "text": [
      "\r",
      " 23%|██▎       | 456/2000 [11:51:22<45:44:48, 106.66s/it]"
     ]
    },
    {
     "name": "stdout",
     "output_type": "stream",
     "text": [
      "Training_loss 0.55524,   Accuracy 0.76661\n"
     ]
    },
    {
     "name": "stderr",
     "output_type": "stream",
     "text": [
      "\r",
      " 23%|██▎       | 457/2000 [11:53:12<46:05:22, 107.53s/it]"
     ]
    },
    {
     "name": "stdout",
     "output_type": "stream",
     "text": [
      "Training_loss 0.55516,   Accuracy 0.76659\n"
     ]
    },
    {
     "name": "stderr",
     "output_type": "stream",
     "text": [
      "\r",
      " 23%|██▎       | 458/2000 [11:55:00<46:08:32, 107.73s/it]"
     ]
    },
    {
     "name": "stdout",
     "output_type": "stream",
     "text": [
      "Training_loss 0.55513,   Accuracy 0.76665\n"
     ]
    },
    {
     "name": "stderr",
     "output_type": "stream",
     "text": [
      "\r",
      " 23%|██▎       | 459/2000 [11:56:46<45:48:44, 107.02s/it]"
     ]
    },
    {
     "name": "stdout",
     "output_type": "stream",
     "text": [
      "Training_loss 0.55509,   Accuracy 0.76671\n"
     ]
    },
    {
     "name": "stderr",
     "output_type": "stream",
     "text": [
      "\r",
      " 23%|██▎       | 460/2000 [11:58:32<45:40:15, 106.76s/it]"
     ]
    },
    {
     "name": "stdout",
     "output_type": "stream",
     "text": [
      "Training_loss 0.55505,   Accuracy 0.76681\n"
     ]
    },
    {
     "name": "stderr",
     "output_type": "stream",
     "text": [
      "\r",
      " 23%|██▎       | 461/2000 [12:00:23<46:13:35, 108.13s/it]"
     ]
    },
    {
     "name": "stdout",
     "output_type": "stream",
     "text": [
      "Training_loss 0.55500,   Accuracy 0.76688\n"
     ]
    },
    {
     "name": "stderr",
     "output_type": "stream",
     "text": [
      "\r",
      " 23%|██▎       | 462/2000 [12:02:09<45:53:05, 107.40s/it]"
     ]
    },
    {
     "name": "stdout",
     "output_type": "stream",
     "text": [
      "Training_loss 0.55496,   Accuracy 0.76689\n"
     ]
    },
    {
     "name": "stderr",
     "output_type": "stream",
     "text": [
      "\r",
      " 23%|██▎       | 463/2000 [12:03:57<45:56:32, 107.61s/it]"
     ]
    },
    {
     "name": "stdout",
     "output_type": "stream",
     "text": [
      "Training_loss 0.55489,   Accuracy 0.76675\n"
     ]
    },
    {
     "name": "stderr",
     "output_type": "stream",
     "text": [
      "\r",
      " 23%|██▎       | 464/2000 [12:05:43<45:45:42, 107.25s/it]"
     ]
    },
    {
     "name": "stdout",
     "output_type": "stream",
     "text": [
      "Training_loss 0.55486,   Accuracy 0.76685\n"
     ]
    },
    {
     "name": "stderr",
     "output_type": "stream",
     "text": [
      "\r",
      " 23%|██▎       | 465/2000 [12:07:36<46:26:09, 108.90s/it]"
     ]
    },
    {
     "name": "stdout",
     "output_type": "stream",
     "text": [
      "Training_loss 0.55483,   Accuracy 0.76681\n"
     ]
    },
    {
     "name": "stderr",
     "output_type": "stream",
     "text": [
      "\r",
      " 23%|██▎       | 466/2000 [12:09:22<46:05:20, 108.16s/it]"
     ]
    },
    {
     "name": "stdout",
     "output_type": "stream",
     "text": [
      "Training_loss 0.55475,   Accuracy 0.76681\n"
     ]
    },
    {
     "name": "stderr",
     "output_type": "stream",
     "text": [
      "\r",
      " 23%|██▎       | 467/2000 [12:11:07<45:37:21, 107.14s/it]"
     ]
    },
    {
     "name": "stdout",
     "output_type": "stream",
     "text": [
      "Training_loss 0.55471,   Accuracy 0.76689\n"
     ]
    },
    {
     "name": "stderr",
     "output_type": "stream",
     "text": [
      "\r",
      " 23%|██▎       | 468/2000 [12:12:52<45:16:31, 106.39s/it]"
     ]
    },
    {
     "name": "stdout",
     "output_type": "stream",
     "text": [
      "Training_loss 0.55466,   Accuracy 0.76689\n"
     ]
    },
    {
     "name": "stderr",
     "output_type": "stream",
     "text": [
      "\r",
      " 23%|██▎       | 469/2000 [12:14:37<45:02:39, 105.92s/it]"
     ]
    },
    {
     "name": "stdout",
     "output_type": "stream",
     "text": [
      "Training_loss 0.55462,   Accuracy 0.76699\n"
     ]
    },
    {
     "name": "stderr",
     "output_type": "stream",
     "text": [
      "\r",
      " 24%|██▎       | 470/2000 [12:16:21<44:46:11, 105.34s/it]"
     ]
    },
    {
     "name": "stdout",
     "output_type": "stream",
     "text": [
      "Training_loss 0.55456,   Accuracy 0.76691\n"
     ]
    },
    {
     "name": "stderr",
     "output_type": "stream",
     "text": [
      "\r",
      " 24%|██▎       | 471/2000 [12:18:10<45:13:38, 106.49s/it]"
     ]
    },
    {
     "name": "stdout",
     "output_type": "stream",
     "text": [
      "Training_loss 0.55452,   Accuracy 0.76696\n"
     ]
    },
    {
     "name": "stderr",
     "output_type": "stream",
     "text": [
      "\r",
      " 24%|██▎       | 472/2000 [12:19:56<45:12:01, 106.49s/it]"
     ]
    },
    {
     "name": "stdout",
     "output_type": "stream",
     "text": [
      "Training_loss 0.55449,   Accuracy 0.76702\n"
     ]
    },
    {
     "name": "stderr",
     "output_type": "stream",
     "text": [
      "\r",
      " 24%|██▎       | 473/2000 [12:21:43<45:14:43, 106.67s/it]"
     ]
    },
    {
     "name": "stdout",
     "output_type": "stream",
     "text": [
      "Training_loss 0.55445,   Accuracy 0.76702\n"
     ]
    },
    {
     "name": "stderr",
     "output_type": "stream",
     "text": [
      "\r",
      " 24%|██▎       | 474/2000 [12:23:29<45:01:49, 106.23s/it]"
     ]
    },
    {
     "name": "stdout",
     "output_type": "stream",
     "text": [
      "Training_loss 0.55440,   Accuracy 0.76707\n"
     ]
    },
    {
     "name": "stderr",
     "output_type": "stream",
     "text": [
      "\r",
      " 24%|██▍       | 475/2000 [12:25:15<45:01:46, 106.30s/it]"
     ]
    },
    {
     "name": "stdout",
     "output_type": "stream",
     "text": [
      "Training_loss 0.55434,   Accuracy 0.76706\n"
     ]
    },
    {
     "name": "stderr",
     "output_type": "stream",
     "text": [
      "\r",
      " 24%|██▍       | 476/2000 [12:27:02<45:02:02, 106.38s/it]"
     ]
    },
    {
     "name": "stdout",
     "output_type": "stream",
     "text": [
      "Training_loss 0.55432,   Accuracy 0.76710\n"
     ]
    },
    {
     "name": "stderr",
     "output_type": "stream",
     "text": [
      "\r",
      " 24%|██▍       | 477/2000 [12:28:48<45:02:06, 106.45s/it]"
     ]
    },
    {
     "name": "stdout",
     "output_type": "stream",
     "text": [
      "Training_loss 0.55426,   Accuracy 0.76710\n"
     ]
    },
    {
     "name": "stderr",
     "output_type": "stream",
     "text": [
      "\r",
      " 24%|██▍       | 478/2000 [12:30:38<45:22:49, 107.34s/it]"
     ]
    },
    {
     "name": "stdout",
     "output_type": "stream",
     "text": [
      "Training_loss 0.55422,   Accuracy 0.76705\n"
     ]
    },
    {
     "name": "stderr",
     "output_type": "stream",
     "text": [
      "\r",
      " 24%|██▍       | 479/2000 [12:32:23<45:02:37, 106.61s/it]"
     ]
    },
    {
     "name": "stdout",
     "output_type": "stream",
     "text": [
      "Training_loss 0.55418,   Accuracy 0.76709\n"
     ]
    },
    {
     "name": "stderr",
     "output_type": "stream",
     "text": [
      "\r",
      " 24%|██▍       | 480/2000 [12:34:08<44:49:07, 106.15s/it]"
     ]
    },
    {
     "name": "stdout",
     "output_type": "stream",
     "text": [
      "Training_loss 0.55416,   Accuracy 0.76713\n"
     ]
    },
    {
     "name": "stderr",
     "output_type": "stream",
     "text": [
      "\r",
      " 24%|██▍       | 481/2000 [12:35:54<44:52:46, 106.36s/it]"
     ]
    },
    {
     "name": "stdout",
     "output_type": "stream",
     "text": [
      "Training_loss 0.55412,   Accuracy 0.76712\n"
     ]
    },
    {
     "name": "stderr",
     "output_type": "stream",
     "text": [
      "\r",
      " 24%|██▍       | 482/2000 [12:37:53<46:21:44, 109.95s/it]"
     ]
    },
    {
     "name": "stdout",
     "output_type": "stream",
     "text": [
      "Training_loss 0.55407,   Accuracy 0.76715\n"
     ]
    },
    {
     "name": "stderr",
     "output_type": "stream",
     "text": [
      "\r",
      " 24%|██▍       | 483/2000 [12:39:40<45:59:01, 109.12s/it]"
     ]
    },
    {
     "name": "stdout",
     "output_type": "stream",
     "text": [
      "Training_loss 0.55402,   Accuracy 0.76723\n"
     ]
    },
    {
     "name": "stderr",
     "output_type": "stream",
     "text": [
      "\r",
      " 24%|██▍       | 484/2000 [12:41:31<46:14:38, 109.81s/it]"
     ]
    },
    {
     "name": "stdout",
     "output_type": "stream",
     "text": [
      "Training_loss 0.55397,   Accuracy 0.76715\n"
     ]
    },
    {
     "name": "stderr",
     "output_type": "stream",
     "text": [
      "\r",
      " 24%|██▍       | 485/2000 [12:43:30<47:20:29, 112.49s/it]"
     ]
    },
    {
     "name": "stdout",
     "output_type": "stream",
     "text": [
      "Training_loss 0.55398,   Accuracy 0.76724\n"
     ]
    },
    {
     "name": "stderr",
     "output_type": "stream",
     "text": [
      "\r",
      " 24%|██▍       | 486/2000 [12:45:35<48:49:29, 116.10s/it]"
     ]
    },
    {
     "name": "stdout",
     "output_type": "stream",
     "text": [
      "Training_loss 0.55394,   Accuracy 0.76721\n"
     ]
    },
    {
     "name": "stderr",
     "output_type": "stream",
     "text": [
      "\r",
      " 24%|██▍       | 487/2000 [12:47:29<48:37:21, 115.69s/it]"
     ]
    },
    {
     "name": "stdout",
     "output_type": "stream",
     "text": [
      "Training_loss 0.55390,   Accuracy 0.76722\n"
     ]
    },
    {
     "name": "stderr",
     "output_type": "stream",
     "text": [
      "\r",
      " 24%|██▍       | 488/2000 [12:49:24<48:24:32, 115.26s/it]"
     ]
    },
    {
     "name": "stdout",
     "output_type": "stream",
     "text": [
      "Training_loss 0.55385,   Accuracy 0.76723\n"
     ]
    },
    {
     "name": "stderr",
     "output_type": "stream",
     "text": [
      "\r",
      " 24%|██▍       | 489/2000 [12:51:13<47:34:19, 113.34s/it]"
     ]
    },
    {
     "name": "stdout",
     "output_type": "stream",
     "text": [
      "Training_loss 0.55377,   Accuracy 0.76728\n"
     ]
    },
    {
     "name": "stderr",
     "output_type": "stream",
     "text": [
      "\r",
      " 24%|██▍       | 490/2000 [12:53:37<51:26:51, 122.66s/it]"
     ]
    },
    {
     "name": "stdout",
     "output_type": "stream",
     "text": [
      "Training_loss 0.55371,   Accuracy 0.76743\n"
     ]
    },
    {
     "name": "stderr",
     "output_type": "stream",
     "text": [
      "\r",
      " 25%|██▍       | 491/2000 [12:55:42<51:45:30, 123.48s/it]"
     ]
    },
    {
     "name": "stdout",
     "output_type": "stream",
     "text": [
      "Training_loss 0.55369,   Accuracy 0.76753\n"
     ]
    },
    {
     "name": "stderr",
     "output_type": "stream",
     "text": [
      "\r",
      " 25%|██▍       | 492/2000 [12:57:36<50:32:58, 120.68s/it]"
     ]
    },
    {
     "name": "stdout",
     "output_type": "stream",
     "text": [
      "Training_loss 0.55366,   Accuracy 0.76762\n"
     ]
    },
    {
     "name": "stderr",
     "output_type": "stream",
     "text": [
      "\r",
      " 25%|██▍       | 493/2000 [12:59:21<48:29:54, 115.86s/it]"
     ]
    },
    {
     "name": "stdout",
     "output_type": "stream",
     "text": [
      "Training_loss 0.55365,   Accuracy 0.76763\n"
     ]
    },
    {
     "name": "stderr",
     "output_type": "stream",
     "text": [
      "\r",
      " 25%|██▍       | 494/2000 [13:01:20<48:52:37, 116.84s/it]"
     ]
    },
    {
     "name": "stdout",
     "output_type": "stream",
     "text": [
      "Training_loss 0.55361,   Accuracy 0.76778\n"
     ]
    },
    {
     "name": "stderr",
     "output_type": "stream",
     "text": [
      "\r",
      " 25%|██▍       | 495/2000 [13:03:27<50:04:29, 119.78s/it]"
     ]
    },
    {
     "name": "stdout",
     "output_type": "stream",
     "text": [
      "Training_loss 0.55360,   Accuracy 0.76794\n"
     ]
    },
    {
     "name": "stderr",
     "output_type": "stream",
     "text": [
      "\r",
      " 25%|██▍       | 496/2000 [13:05:31<50:34:34, 121.06s/it]"
     ]
    },
    {
     "name": "stdout",
     "output_type": "stream",
     "text": [
      "Training_loss 0.55357,   Accuracy 0.76808\n"
     ]
    },
    {
     "name": "stderr",
     "output_type": "stream",
     "text": [
      "\r",
      " 25%|██▍       | 497/2000 [13:07:40<51:31:52, 123.43s/it]"
     ]
    },
    {
     "name": "stdout",
     "output_type": "stream",
     "text": [
      "Training_loss 0.55351,   Accuracy 0.76808\n"
     ]
    },
    {
     "name": "stderr",
     "output_type": "stream",
     "text": [
      "\r",
      " 25%|██▍       | 498/2000 [13:09:46<51:46:48, 124.11s/it]"
     ]
    },
    {
     "name": "stdout",
     "output_type": "stream",
     "text": [
      "Training_loss 0.55349,   Accuracy 0.76809\n"
     ]
    },
    {
     "name": "stderr",
     "output_type": "stream",
     "text": [
      "\r",
      " 25%|██▍       | 499/2000 [13:11:53<52:12:01, 125.20s/it]"
     ]
    },
    {
     "name": "stdout",
     "output_type": "stream",
     "text": [
      "Training_loss 0.55342,   Accuracy 0.76809\n"
     ]
    },
    {
     "name": "stderr",
     "output_type": "stream",
     "text": [
      "\r",
      " 25%|██▌       | 500/2000 [13:13:45<50:28:01, 121.12s/it]"
     ]
    },
    {
     "name": "stdout",
     "output_type": "stream",
     "text": [
      "Training_loss 0.55338,   Accuracy 0.76818\n"
     ]
    },
    {
     "name": "stderr",
     "output_type": "stream",
     "text": [
      "\r",
      " 25%|██▌       | 501/2000 [13:15:37<49:19:23, 118.45s/it]"
     ]
    },
    {
     "name": "stdout",
     "output_type": "stream",
     "text": [
      "Training_loss 0.55333,   Accuracy 0.76822\n"
     ]
    },
    {
     "name": "stderr",
     "output_type": "stream",
     "text": [
      "\r",
      " 25%|██▌       | 502/2000 [13:17:41<50:00:27, 120.18s/it]"
     ]
    },
    {
     "name": "stdout",
     "output_type": "stream",
     "text": [
      "Training_loss 0.55327,   Accuracy 0.76826\n"
     ]
    },
    {
     "name": "stderr",
     "output_type": "stream",
     "text": [
      "\r",
      " 25%|██▌       | 503/2000 [13:19:33<48:57:35, 117.74s/it]"
     ]
    },
    {
     "name": "stdout",
     "output_type": "stream",
     "text": [
      "Training_loss 0.55325,   Accuracy 0.76847\n"
     ]
    },
    {
     "name": "stderr",
     "output_type": "stream",
     "text": [
      "\r",
      " 25%|██▌       | 504/2000 [13:21:30<48:45:29, 117.33s/it]"
     ]
    },
    {
     "name": "stdout",
     "output_type": "stream",
     "text": [
      "Training_loss 0.55323,   Accuracy 0.76836\n"
     ]
    },
    {
     "name": "stderr",
     "output_type": "stream",
     "text": [
      "\r",
      " 25%|██▌       | 505/2000 [13:23:27<48:39:27, 117.17s/it]"
     ]
    },
    {
     "name": "stdout",
     "output_type": "stream",
     "text": [
      "Training_loss 0.55318,   Accuracy 0.76846\n"
     ]
    },
    {
     "name": "stderr",
     "output_type": "stream",
     "text": [
      "\r",
      " 25%|██▌       | 506/2000 [13:25:22<48:24:47, 116.66s/it]"
     ]
    },
    {
     "name": "stdout",
     "output_type": "stream",
     "text": [
      "Training_loss 0.55315,   Accuracy 0.76839\n"
     ]
    },
    {
     "name": "stderr",
     "output_type": "stream",
     "text": [
      "\r",
      " 25%|██▌       | 507/2000 [13:27:09<47:12:53, 113.85s/it]"
     ]
    },
    {
     "name": "stdout",
     "output_type": "stream",
     "text": [
      "Training_loss 0.55312,   Accuracy 0.76839\n"
     ]
    },
    {
     "name": "stderr",
     "output_type": "stream",
     "text": [
      "\r",
      " 25%|██▌       | 508/2000 [13:28:56<46:16:52, 111.67s/it]"
     ]
    },
    {
     "name": "stdout",
     "output_type": "stream",
     "text": [
      "Training_loss 0.55307,   Accuracy 0.76845\n"
     ]
    },
    {
     "name": "stderr",
     "output_type": "stream",
     "text": [
      "\r",
      " 25%|██▌       | 509/2000 [13:30:44<45:50:16, 110.68s/it]"
     ]
    },
    {
     "name": "stdout",
     "output_type": "stream",
     "text": [
      "Training_loss 0.55301,   Accuracy 0.76853\n"
     ]
    },
    {
     "name": "stderr",
     "output_type": "stream",
     "text": [
      "\r",
      " 26%|██▌       | 510/2000 [13:32:33<45:34:52, 110.13s/it]"
     ]
    },
    {
     "name": "stdout",
     "output_type": "stream",
     "text": [
      "Training_loss 0.55297,   Accuracy 0.76854\n"
     ]
    },
    {
     "name": "stderr",
     "output_type": "stream",
     "text": [
      "\r",
      " 26%|██▌       | 511/2000 [13:34:21<45:16:19, 109.46s/it]"
     ]
    },
    {
     "name": "stdout",
     "output_type": "stream",
     "text": [
      "Training_loss 0.55293,   Accuracy 0.76842\n"
     ]
    },
    {
     "name": "stderr",
     "output_type": "stream",
     "text": [
      "\r",
      " 26%|██▌       | 512/2000 [13:36:08<44:53:39, 108.62s/it]"
     ]
    },
    {
     "name": "stdout",
     "output_type": "stream",
     "text": [
      "Training_loss 0.55293,   Accuracy 0.76857\n"
     ]
    },
    {
     "name": "stderr",
     "output_type": "stream",
     "text": [
      "\r",
      " 26%|██▌       | 513/2000 [13:38:00<45:22:13, 109.84s/it]"
     ]
    },
    {
     "name": "stdout",
     "output_type": "stream",
     "text": [
      "Training_loss 0.55289,   Accuracy 0.76865\n"
     ]
    },
    {
     "name": "stderr",
     "output_type": "stream",
     "text": [
      "\r",
      " 26%|██▌       | 514/2000 [13:39:46<44:47:24, 108.51s/it]"
     ]
    },
    {
     "name": "stdout",
     "output_type": "stream",
     "text": [
      "Training_loss 0.55286,   Accuracy 0.76864\n"
     ]
    },
    {
     "name": "stderr",
     "output_type": "stream",
     "text": [
      "\r",
      " 26%|██▌       | 515/2000 [13:41:38<45:11:34, 109.56s/it]"
     ]
    },
    {
     "name": "stdout",
     "output_type": "stream",
     "text": [
      "Training_loss 0.55282,   Accuracy 0.76864\n"
     ]
    },
    {
     "name": "stderr",
     "output_type": "stream",
     "text": [
      "\r",
      " 26%|██▌       | 516/2000 [13:43:36<46:10:50, 112.03s/it]"
     ]
    },
    {
     "name": "stdout",
     "output_type": "stream",
     "text": [
      "Training_loss 0.55279,   Accuracy 0.76867\n"
     ]
    },
    {
     "name": "stderr",
     "output_type": "stream",
     "text": [
      "\r",
      " 26%|██▌       | 517/2000 [13:45:42<47:59:37, 116.51s/it]"
     ]
    },
    {
     "name": "stdout",
     "output_type": "stream",
     "text": [
      "Training_loss 0.55273,   Accuracy 0.76866\n"
     ]
    },
    {
     "name": "stderr",
     "output_type": "stream",
     "text": [
      "\r",
      " 26%|██▌       | 518/2000 [13:47:38<47:46:51, 116.07s/it]"
     ]
    },
    {
     "name": "stdout",
     "output_type": "stream",
     "text": [
      "Training_loss 0.55268,   Accuracy 0.76866\n"
     ]
    },
    {
     "name": "stderr",
     "output_type": "stream",
     "text": [
      "\r",
      " 26%|██▌       | 519/2000 [13:49:26<46:49:22, 113.82s/it]"
     ]
    },
    {
     "name": "stdout",
     "output_type": "stream",
     "text": [
      "Training_loss 0.55266,   Accuracy 0.76848\n"
     ]
    },
    {
     "name": "stderr",
     "output_type": "stream",
     "text": [
      "\r",
      " 26%|██▌       | 520/2000 [13:51:13<45:54:12, 111.66s/it]"
     ]
    },
    {
     "name": "stdout",
     "output_type": "stream",
     "text": [
      "Training_loss 0.55261,   Accuracy 0.76864\n"
     ]
    },
    {
     "name": "stderr",
     "output_type": "stream",
     "text": [
      "\r",
      " 26%|██▌       | 521/2000 [13:52:59<45:15:49, 110.18s/it]"
     ]
    },
    {
     "name": "stdout",
     "output_type": "stream",
     "text": [
      "Training_loss 0.55256,   Accuracy 0.76863\n"
     ]
    },
    {
     "name": "stderr",
     "output_type": "stream",
     "text": [
      "\r",
      " 26%|██▌       | 522/2000 [13:54:47<44:52:48, 109.32s/it]"
     ]
    },
    {
     "name": "stdout",
     "output_type": "stream",
     "text": [
      "Training_loss 0.55252,   Accuracy 0.76865\n"
     ]
    },
    {
     "name": "stderr",
     "output_type": "stream",
     "text": [
      "\r",
      " 26%|██▌       | 523/2000 [13:56:32<44:24:15, 108.23s/it]"
     ]
    },
    {
     "name": "stdout",
     "output_type": "stream",
     "text": [
      "Training_loss 0.55246,   Accuracy 0.76860\n"
     ]
    },
    {
     "name": "stderr",
     "output_type": "stream",
     "text": [
      "\r",
      " 26%|██▌       | 524/2000 [13:58:21<44:25:15, 108.34s/it]"
     ]
    },
    {
     "name": "stdout",
     "output_type": "stream",
     "text": [
      "Training_loss 0.55244,   Accuracy 0.76874\n"
     ]
    },
    {
     "name": "stderr",
     "output_type": "stream",
     "text": [
      "\r",
      " 26%|██▋       | 525/2000 [14:00:09<44:23:31, 108.35s/it]"
     ]
    },
    {
     "name": "stdout",
     "output_type": "stream",
     "text": [
      "Training_loss 0.55240,   Accuracy 0.76872\n"
     ]
    },
    {
     "name": "stderr",
     "output_type": "stream",
     "text": [
      "\r",
      " 26%|██▋       | 526/2000 [14:01:54<43:57:38, 107.37s/it]"
     ]
    },
    {
     "name": "stdout",
     "output_type": "stream",
     "text": [
      "Training_loss 0.55234,   Accuracy 0.76875\n"
     ]
    },
    {
     "name": "stderr",
     "output_type": "stream",
     "text": [
      "\r",
      " 26%|██▋       | 527/2000 [14:03:38<43:27:37, 106.22s/it]"
     ]
    },
    {
     "name": "stdout",
     "output_type": "stream",
     "text": [
      "Training_loss 0.55230,   Accuracy 0.76883\n"
     ]
    },
    {
     "name": "stderr",
     "output_type": "stream",
     "text": [
      "\r",
      " 26%|██▋       | 528/2000 [14:05:26<43:41:11, 106.84s/it]"
     ]
    },
    {
     "name": "stdout",
     "output_type": "stream",
     "text": [
      "Training_loss 0.55226,   Accuracy 0.76870\n"
     ]
    },
    {
     "name": "stderr",
     "output_type": "stream",
     "text": [
      "\r",
      " 26%|██▋       | 529/2000 [14:07:22<44:45:29, 109.54s/it]"
     ]
    },
    {
     "name": "stdout",
     "output_type": "stream",
     "text": [
      "Training_loss 0.55220,   Accuracy 0.76873\n"
     ]
    },
    {
     "name": "stderr",
     "output_type": "stream",
     "text": [
      "\r",
      " 26%|██▋       | 530/2000 [14:09:13<44:54:39, 109.99s/it]"
     ]
    },
    {
     "name": "stdout",
     "output_type": "stream",
     "text": [
      "Training_loss 0.55213,   Accuracy 0.76884\n"
     ]
    },
    {
     "name": "stderr",
     "output_type": "stream",
     "text": [
      "\r",
      " 27%|██▋       | 531/2000 [14:11:00<44:28:41, 109.00s/it]"
     ]
    },
    {
     "name": "stdout",
     "output_type": "stream",
     "text": [
      "Training_loss 0.55213,   Accuracy 0.76885\n"
     ]
    },
    {
     "name": "stderr",
     "output_type": "stream",
     "text": [
      "\r",
      " 27%|██▋       | 532/2000 [14:12:54<45:04:21, 110.53s/it]"
     ]
    },
    {
     "name": "stdout",
     "output_type": "stream",
     "text": [
      "Training_loss 0.55209,   Accuracy 0.76888\n"
     ]
    },
    {
     "name": "stderr",
     "output_type": "stream",
     "text": [
      "\r",
      " 27%|██▋       | 533/2000 [14:14:57<46:36:52, 114.39s/it]"
     ]
    },
    {
     "name": "stdout",
     "output_type": "stream",
     "text": [
      "Training_loss 0.55207,   Accuracy 0.76890\n"
     ]
    },
    {
     "name": "stderr",
     "output_type": "stream",
     "text": [
      "\r",
      " 27%|██▋       | 534/2000 [14:16:54<46:51:41, 115.08s/it]"
     ]
    },
    {
     "name": "stdout",
     "output_type": "stream",
     "text": [
      "Training_loss 0.55205,   Accuracy 0.76890\n"
     ]
    },
    {
     "name": "stderr",
     "output_type": "stream",
     "text": [
      "\r",
      " 27%|██▋       | 535/2000 [14:18:50<46:56:53, 115.37s/it]"
     ]
    },
    {
     "name": "stdout",
     "output_type": "stream",
     "text": [
      "Training_loss 0.55200,   Accuracy 0.76889\n"
     ]
    },
    {
     "name": "stderr",
     "output_type": "stream",
     "text": [
      "\r",
      " 27%|██▋       | 536/2000 [14:20:46<47:02:29, 115.68s/it]"
     ]
    },
    {
     "name": "stdout",
     "output_type": "stream",
     "text": [
      "Training_loss 0.55197,   Accuracy 0.76894\n"
     ]
    },
    {
     "name": "stderr",
     "output_type": "stream",
     "text": [
      "\r",
      " 27%|██▋       | 537/2000 [14:22:41<46:52:11, 115.33s/it]"
     ]
    },
    {
     "name": "stdout",
     "output_type": "stream",
     "text": [
      "Training_loss 0.55193,   Accuracy 0.76896\n"
     ]
    },
    {
     "name": "stderr",
     "output_type": "stream",
     "text": [
      "\r",
      " 27%|██▋       | 538/2000 [14:24:32<46:19:55, 114.09s/it]"
     ]
    },
    {
     "name": "stdout",
     "output_type": "stream",
     "text": [
      "Training_loss 0.55187,   Accuracy 0.76901\n"
     ]
    },
    {
     "name": "stderr",
     "output_type": "stream",
     "text": [
      "\r",
      " 27%|██▋       | 539/2000 [14:26:20<45:29:15, 112.08s/it]"
     ]
    },
    {
     "name": "stdout",
     "output_type": "stream",
     "text": [
      "Training_loss 0.55186,   Accuracy 0.76902\n"
     ]
    },
    {
     "name": "stderr",
     "output_type": "stream",
     "text": [
      "\r",
      " 27%|██▋       | 540/2000 [14:28:09<45:10:53, 111.41s/it]"
     ]
    },
    {
     "name": "stdout",
     "output_type": "stream",
     "text": [
      "Training_loss 0.55181,   Accuracy 0.76901\n"
     ]
    },
    {
     "name": "stderr",
     "output_type": "stream",
     "text": [
      "\r",
      " 27%|██▋       | 541/2000 [14:29:56<44:31:36, 109.87s/it]"
     ]
    },
    {
     "name": "stdout",
     "output_type": "stream",
     "text": [
      "Training_loss 0.55180,   Accuracy 0.76908\n"
     ]
    },
    {
     "name": "stderr",
     "output_type": "stream",
     "text": [
      "\r",
      " 27%|██▋       | 542/2000 [14:31:48<44:46:46, 110.57s/it]"
     ]
    },
    {
     "name": "stdout",
     "output_type": "stream",
     "text": [
      "Training_loss 0.55176,   Accuracy 0.76903\n"
     ]
    },
    {
     "name": "stderr",
     "output_type": "stream",
     "text": [
      "\r",
      " 27%|██▋       | 543/2000 [14:33:35<44:22:07, 109.63s/it]"
     ]
    },
    {
     "name": "stdout",
     "output_type": "stream",
     "text": [
      "Training_loss 0.55172,   Accuracy 0.76909\n"
     ]
    },
    {
     "name": "stderr",
     "output_type": "stream",
     "text": [
      "\r",
      " 27%|██▋       | 544/2000 [14:35:22<44:00:54, 108.83s/it]"
     ]
    },
    {
     "name": "stdout",
     "output_type": "stream",
     "text": [
      "Training_loss 0.55171,   Accuracy 0.76907\n"
     ]
    },
    {
     "name": "stderr",
     "output_type": "stream",
     "text": [
      "\r",
      " 27%|██▋       | 545/2000 [14:37:13<44:10:23, 109.29s/it]"
     ]
    },
    {
     "name": "stdout",
     "output_type": "stream",
     "text": [
      "Training_loss 0.55162,   Accuracy 0.76909\n"
     ]
    },
    {
     "name": "stderr",
     "output_type": "stream",
     "text": [
      "\r",
      " 27%|██▋       | 546/2000 [14:39:00<43:52:41, 108.64s/it]"
     ]
    },
    {
     "name": "stdout",
     "output_type": "stream",
     "text": [
      "Training_loss 0.55156,   Accuracy 0.76914\n"
     ]
    },
    {
     "name": "stderr",
     "output_type": "stream",
     "text": [
      "\r",
      " 27%|██▋       | 547/2000 [14:40:48<43:46:17, 108.45s/it]"
     ]
    },
    {
     "name": "stdout",
     "output_type": "stream",
     "text": [
      "Training_loss 0.55153,   Accuracy 0.76910\n"
     ]
    },
    {
     "name": "stderr",
     "output_type": "stream",
     "text": [
      "\r",
      " 27%|██▋       | 548/2000 [14:42:51<45:28:08, 112.73s/it]"
     ]
    },
    {
     "name": "stdout",
     "output_type": "stream",
     "text": [
      "Training_loss 0.55150,   Accuracy 0.76914\n"
     ]
    },
    {
     "name": "stderr",
     "output_type": "stream",
     "text": [
      "\r",
      " 27%|██▋       | 549/2000 [14:44:52<46:30:14, 115.38s/it]"
     ]
    },
    {
     "name": "stdout",
     "output_type": "stream",
     "text": [
      "Training_loss 0.55145,   Accuracy 0.76914\n"
     ]
    },
    {
     "name": "stderr",
     "output_type": "stream",
     "text": [
      "\r",
      " 28%|██▊       | 550/2000 [14:45:09<34:35:00, 85.86s/it] "
     ]
    },
    {
     "name": "stdout",
     "output_type": "stream",
     "text": [
      "Training_loss 0.55142,   Accuracy 0.76932\n"
     ]
    },
    {
     "name": "stderr",
     "output_type": "stream",
     "text": [
      "\r",
      " 28%|██▊       | 551/2000 [14:45:23<25:52:00, 64.27s/it]"
     ]
    },
    {
     "name": "stdout",
     "output_type": "stream",
     "text": [
      "Training_loss 0.55135,   Accuracy 0.76942\n"
     ]
    },
    {
     "name": "stderr",
     "output_type": "stream",
     "text": [
      "\r",
      " 28%|██▊       | 552/2000 [14:45:37<19:45:29, 49.12s/it]"
     ]
    },
    {
     "name": "stdout",
     "output_type": "stream",
     "text": [
      "Training_loss 0.55132,   Accuracy 0.76966\n"
     ]
    },
    {
     "name": "stderr",
     "output_type": "stream",
     "text": [
      "\r",
      " 28%|██▊       | 553/2000 [14:45:53<15:44:06, 39.15s/it]"
     ]
    },
    {
     "name": "stdout",
     "output_type": "stream",
     "text": [
      "Training_loss 0.55127,   Accuracy 0.76954\n"
     ]
    },
    {
     "name": "stderr",
     "output_type": "stream",
     "text": [
      "\r",
      " 28%|██▊       | 554/2000 [14:46:08<12:50:23, 31.97s/it]"
     ]
    },
    {
     "name": "stdout",
     "output_type": "stream",
     "text": [
      "Training_loss 0.55124,   Accuracy 0.76961\n"
     ]
    },
    {
     "name": "stderr",
     "output_type": "stream",
     "text": [
      "\r",
      " 28%|██▊       | 555/2000 [14:46:21<10:34:45, 26.36s/it]"
     ]
    },
    {
     "name": "stdout",
     "output_type": "stream",
     "text": [
      "Training_loss 0.55119,   Accuracy 0.76963\n"
     ]
    },
    {
     "name": "stderr",
     "output_type": "stream",
     "text": [
      "\r",
      " 28%|██▊       | 556/2000 [14:46:35<9:06:00, 22.69s/it] "
     ]
    },
    {
     "name": "stdout",
     "output_type": "stream",
     "text": [
      "Training_loss 0.55115,   Accuracy 0.76978\n"
     ]
    },
    {
     "name": "stderr",
     "output_type": "stream",
     "text": [
      "\r",
      " 28%|██▊       | 557/2000 [14:46:50<8:08:58, 20.33s/it]"
     ]
    },
    {
     "name": "stdout",
     "output_type": "stream",
     "text": [
      "Training_loss 0.55110,   Accuracy 0.76957\n"
     ]
    },
    {
     "name": "stderr",
     "output_type": "stream",
     "text": [
      "\r",
      " 28%|██▊       | 558/2000 [14:47:05<7:29:27, 18.70s/it]"
     ]
    },
    {
     "name": "stdout",
     "output_type": "stream",
     "text": [
      "Training_loss 0.55108,   Accuracy 0.76976\n"
     ]
    },
    {
     "name": "stderr",
     "output_type": "stream",
     "text": [
      "\r",
      " 28%|██▊       | 559/2000 [14:47:19<6:57:53, 17.40s/it]"
     ]
    },
    {
     "name": "stdout",
     "output_type": "stream",
     "text": [
      "Training_loss 0.55103,   Accuracy 0.76958\n"
     ]
    },
    {
     "name": "stderr",
     "output_type": "stream",
     "text": [
      "\r",
      " 28%|██▊       | 560/2000 [14:47:34<6:39:24, 16.64s/it]"
     ]
    },
    {
     "name": "stdout",
     "output_type": "stream",
     "text": [
      "Training_loss 0.55098,   Accuracy 0.76959\n"
     ]
    },
    {
     "name": "stderr",
     "output_type": "stream",
     "text": [
      "\r",
      " 28%|██▊       | 561/2000 [14:47:51<6:41:39, 16.75s/it]"
     ]
    },
    {
     "name": "stdout",
     "output_type": "stream",
     "text": [
      "Training_loss 0.55095,   Accuracy 0.76953\n"
     ]
    },
    {
     "name": "stderr",
     "output_type": "stream",
     "text": [
      "\r",
      " 28%|██▊       | 562/2000 [14:48:13<7:14:58, 18.15s/it]"
     ]
    },
    {
     "name": "stdout",
     "output_type": "stream",
     "text": [
      "Training_loss 0.55091,   Accuracy 0.76950\n"
     ]
    },
    {
     "name": "stderr",
     "output_type": "stream",
     "text": [
      "\r",
      " 28%|██▊       | 563/2000 [14:48:35<7:47:13, 19.51s/it]"
     ]
    },
    {
     "name": "stdout",
     "output_type": "stream",
     "text": [
      "Training_loss 0.55089,   Accuracy 0.76953\n"
     ]
    },
    {
     "name": "stderr",
     "output_type": "stream",
     "text": [
      "\r",
      " 28%|██▊       | 564/2000 [14:48:54<7:39:02, 19.18s/it]"
     ]
    },
    {
     "name": "stdout",
     "output_type": "stream",
     "text": [
      "Training_loss 0.55087,   Accuracy 0.76963\n"
     ]
    },
    {
     "name": "stderr",
     "output_type": "stream",
     "text": [
      "\r",
      " 28%|██▊       | 565/2000 [14:49:14<7:48:27, 19.59s/it]"
     ]
    },
    {
     "name": "stdout",
     "output_type": "stream",
     "text": [
      "Training_loss 0.55087,   Accuracy 0.76979\n"
     ]
    },
    {
     "name": "stderr",
     "output_type": "stream",
     "text": [
      "\r",
      " 28%|██▊       | 566/2000 [14:49:35<7:59:06, 20.05s/it]"
     ]
    },
    {
     "name": "stdout",
     "output_type": "stream",
     "text": [
      "Training_loss 0.55085,   Accuracy 0.76986\n"
     ]
    },
    {
     "name": "stderr",
     "output_type": "stream",
     "text": [
      "\r",
      " 28%|██▊       | 567/2000 [14:49:54<7:49:58, 19.68s/it]"
     ]
    },
    {
     "name": "stdout",
     "output_type": "stream",
     "text": [
      "Training_loss 0.55081,   Accuracy 0.76982\n"
     ]
    },
    {
     "name": "stderr",
     "output_type": "stream",
     "text": [
      "\r",
      " 28%|██▊       | 568/2000 [14:50:14<7:50:55, 19.73s/it]"
     ]
    },
    {
     "name": "stdout",
     "output_type": "stream",
     "text": [
      "Training_loss 0.55074,   Accuracy 0.76966\n"
     ]
    },
    {
     "name": "stderr",
     "output_type": "stream",
     "text": [
      "\r",
      " 28%|██▊       | 569/2000 [14:50:41<8:41:18, 21.86s/it]"
     ]
    },
    {
     "name": "stdout",
     "output_type": "stream",
     "text": [
      "Training_loss 0.55067,   Accuracy 0.76973\n"
     ]
    },
    {
     "name": "stderr",
     "output_type": "stream",
     "text": [
      "\r",
      " 28%|██▊       | 570/2000 [14:51:13<9:51:36, 24.82s/it]"
     ]
    },
    {
     "name": "stdout",
     "output_type": "stream",
     "text": [
      "Training_loss 0.55063,   Accuracy 0.76980\n"
     ]
    },
    {
     "name": "stderr",
     "output_type": "stream",
     "text": [
      "\r",
      " 29%|██▊       | 571/2000 [14:51:37<9:49:11, 24.74s/it]"
     ]
    },
    {
     "name": "stdout",
     "output_type": "stream",
     "text": [
      "Training_loss 0.55058,   Accuracy 0.76981\n"
     ]
    },
    {
     "name": "stderr",
     "output_type": "stream",
     "text": [
      "\r",
      " 29%|██▊       | 572/2000 [14:52:03<9:53:33, 24.94s/it]"
     ]
    },
    {
     "name": "stdout",
     "output_type": "stream",
     "text": [
      "Training_loss 0.55053,   Accuracy 0.76982\n"
     ]
    },
    {
     "name": "stderr",
     "output_type": "stream",
     "text": [
      "\r",
      " 29%|██▊       | 573/2000 [14:52:31<10:14:49, 25.85s/it]"
     ]
    },
    {
     "name": "stdout",
     "output_type": "stream",
     "text": [
      "Training_loss 0.55049,   Accuracy 0.76967\n"
     ]
    },
    {
     "name": "stderr",
     "output_type": "stream",
     "text": [
      "\r",
      " 29%|██▊       | 574/2000 [14:52:55<10:07:39, 25.57s/it]"
     ]
    },
    {
     "name": "stdout",
     "output_type": "stream",
     "text": [
      "Training_loss 0.55045,   Accuracy 0.76959\n"
     ]
    },
    {
     "name": "stderr",
     "output_type": "stream",
     "text": [
      "\r",
      " 29%|██▉       | 575/2000 [14:53:19<9:52:37, 24.95s/it] "
     ]
    },
    {
     "name": "stdout",
     "output_type": "stream",
     "text": [
      "Training_loss 0.55042,   Accuracy 0.76966\n"
     ]
    },
    {
     "name": "stderr",
     "output_type": "stream",
     "text": [
      "\r",
      " 29%|██▉       | 576/2000 [14:53:41<9:30:14, 24.03s/it]"
     ]
    },
    {
     "name": "stdout",
     "output_type": "stream",
     "text": [
      "Training_loss 0.55037,   Accuracy 0.76964\n"
     ]
    },
    {
     "name": "stderr",
     "output_type": "stream",
     "text": [
      "\r",
      " 29%|██▉       | 577/2000 [14:54:04<9:21:04, 23.66s/it]"
     ]
    },
    {
     "name": "stdout",
     "output_type": "stream",
     "text": [
      "Training_loss 0.55034,   Accuracy 0.76973\n"
     ]
    },
    {
     "name": "stderr",
     "output_type": "stream",
     "text": [
      "\r",
      " 29%|██▉       | 578/2000 [14:54:32<9:53:21, 25.04s/it]"
     ]
    },
    {
     "name": "stdout",
     "output_type": "stream",
     "text": [
      "Training_loss 0.55029,   Accuracy 0.76985\n"
     ]
    },
    {
     "name": "stderr",
     "output_type": "stream",
     "text": [
      "\r",
      " 29%|██▉       | 579/2000 [14:54:56<9:49:34, 24.89s/it]"
     ]
    },
    {
     "name": "stdout",
     "output_type": "stream",
     "text": [
      "Training_loss 0.55024,   Accuracy 0.76993\n"
     ]
    },
    {
     "name": "stderr",
     "output_type": "stream",
     "text": [
      "\r",
      " 29%|██▉       | 580/2000 [14:55:22<9:56:01, 25.18s/it]"
     ]
    },
    {
     "name": "stdout",
     "output_type": "stream",
     "text": [
      "Training_loss 0.55023,   Accuracy 0.76996\n"
     ]
    },
    {
     "name": "stderr",
     "output_type": "stream",
     "text": [
      "\r",
      " 29%|██▉       | 581/2000 [14:55:49<10:06:55, 25.66s/it]"
     ]
    },
    {
     "name": "stdout",
     "output_type": "stream",
     "text": [
      "Training_loss 0.55017,   Accuracy 0.77009\n"
     ]
    },
    {
     "name": "stderr",
     "output_type": "stream",
     "text": [
      "\r",
      " 29%|██▉       | 582/2000 [14:56:18<10:29:09, 26.62s/it]"
     ]
    },
    {
     "name": "stdout",
     "output_type": "stream",
     "text": [
      "Training_loss 0.55013,   Accuracy 0.76986\n"
     ]
    },
    {
     "name": "stderr",
     "output_type": "stream",
     "text": [
      "\r",
      " 29%|██▉       | 583/2000 [14:56:51<11:14:49, 28.57s/it]"
     ]
    },
    {
     "name": "stdout",
     "output_type": "stream",
     "text": [
      "Training_loss 0.55011,   Accuracy 0.76990\n"
     ]
    },
    {
     "name": "stderr",
     "output_type": "stream",
     "text": [
      "\r",
      " 29%|██▉       | 584/2000 [14:57:13<10:28:01, 26.61s/it]"
     ]
    },
    {
     "name": "stdout",
     "output_type": "stream",
     "text": [
      "Training_loss 0.55006,   Accuracy 0.76996\n"
     ]
    },
    {
     "name": "stderr",
     "output_type": "stream",
     "text": [
      "\r",
      " 29%|██▉       | 585/2000 [14:57:36<9:59:55, 25.44s/it] "
     ]
    },
    {
     "name": "stdout",
     "output_type": "stream",
     "text": [
      "Training_loss 0.55003,   Accuracy 0.76998\n"
     ]
    },
    {
     "name": "stderr",
     "output_type": "stream",
     "text": [
      "\r",
      " 29%|██▉       | 586/2000 [14:58:00<9:48:30, 24.97s/it]"
     ]
    },
    {
     "name": "stdout",
     "output_type": "stream",
     "text": [
      "Training_loss 0.54998,   Accuracy 0.77001\n"
     ]
    },
    {
     "name": "stderr",
     "output_type": "stream",
     "text": [
      "\r",
      " 29%|██▉       | 587/2000 [14:58:20<9:17:20, 23.67s/it]"
     ]
    },
    {
     "name": "stdout",
     "output_type": "stream",
     "text": [
      "Training_loss 0.54997,   Accuracy 0.77000\n"
     ]
    },
    {
     "name": "stderr",
     "output_type": "stream",
     "text": [
      "\r",
      " 29%|██▉       | 588/2000 [14:58:42<9:00:59, 22.99s/it]"
     ]
    },
    {
     "name": "stdout",
     "output_type": "stream",
     "text": [
      "Training_loss 0.54994,   Accuracy 0.76999\n"
     ]
    },
    {
     "name": "stderr",
     "output_type": "stream",
     "text": [
      "\r",
      " 29%|██▉       | 589/2000 [14:58:59<8:18:50, 21.21s/it]"
     ]
    },
    {
     "name": "stdout",
     "output_type": "stream",
     "text": [
      "Training_loss 0.54993,   Accuracy 0.77019\n"
     ]
    },
    {
     "name": "stderr",
     "output_type": "stream",
     "text": [
      "\r",
      " 30%|██▉       | 590/2000 [14:59:19<8:14:39, 21.05s/it]"
     ]
    },
    {
     "name": "stdout",
     "output_type": "stream",
     "text": [
      "Training_loss 0.54990,   Accuracy 0.77018\n"
     ]
    },
    {
     "name": "stderr",
     "output_type": "stream",
     "text": [
      "\r",
      " 30%|██▉       | 591/2000 [14:59:41<8:15:10, 21.09s/it]"
     ]
    },
    {
     "name": "stdout",
     "output_type": "stream",
     "text": [
      "Training_loss 0.54986,   Accuracy 0.77038\n"
     ]
    },
    {
     "name": "stderr",
     "output_type": "stream",
     "text": [
      "\r",
      " 30%|██▉       | 592/2000 [15:00:10<9:13:32, 23.59s/it]"
     ]
    },
    {
     "name": "stdout",
     "output_type": "stream",
     "text": [
      "Training_loss 0.54983,   Accuracy 0.77025\n"
     ]
    },
    {
     "name": "stderr",
     "output_type": "stream",
     "text": [
      "\r",
      " 30%|██▉       | 593/2000 [15:00:36<9:31:29, 24.37s/it]"
     ]
    },
    {
     "name": "stdout",
     "output_type": "stream",
     "text": [
      "Training_loss 0.54980,   Accuracy 0.77028\n"
     ]
    },
    {
     "name": "stderr",
     "output_type": "stream",
     "text": [
      "\r",
      " 30%|██▉       | 594/2000 [15:01:02<9:39:19, 24.72s/it]"
     ]
    },
    {
     "name": "stdout",
     "output_type": "stream",
     "text": [
      "Training_loss 0.54978,   Accuracy 0.77051\n"
     ]
    },
    {
     "name": "stderr",
     "output_type": "stream",
     "text": [
      "\r",
      " 30%|██▉       | 595/2000 [15:01:25<9:31:10, 24.39s/it]"
     ]
    },
    {
     "name": "stdout",
     "output_type": "stream",
     "text": [
      "Training_loss 0.54976,   Accuracy 0.77039\n"
     ]
    },
    {
     "name": "stderr",
     "output_type": "stream",
     "text": [
      "\r",
      " 30%|██▉       | 596/2000 [15:01:43<8:44:14, 22.40s/it]"
     ]
    },
    {
     "name": "stdout",
     "output_type": "stream",
     "text": [
      "Training_loss 0.54971,   Accuracy 0.77031\n"
     ]
    },
    {
     "name": "stderr",
     "output_type": "stream",
     "text": [
      "\r",
      " 30%|██▉       | 597/2000 [15:02:03<8:25:16, 21.61s/it]"
     ]
    },
    {
     "name": "stdout",
     "output_type": "stream",
     "text": [
      "Training_loss 0.54967,   Accuracy 0.77042\n"
     ]
    },
    {
     "name": "stderr",
     "output_type": "stream",
     "text": [
      "\r",
      " 30%|██▉       | 598/2000 [15:02:21<7:57:51, 20.45s/it]"
     ]
    },
    {
     "name": "stdout",
     "output_type": "stream",
     "text": [
      "Training_loss 0.54961,   Accuracy 0.77023\n"
     ]
    },
    {
     "name": "stderr",
     "output_type": "stream",
     "text": [
      "\r",
      " 30%|██▉       | 599/2000 [15:02:43<8:07:20, 20.87s/it]"
     ]
    },
    {
     "name": "stdout",
     "output_type": "stream",
     "text": [
      "Training_loss 0.54955,   Accuracy 0.77033\n"
     ]
    },
    {
     "name": "stderr",
     "output_type": "stream",
     "text": [
      "\r",
      " 30%|███       | 600/2000 [15:03:10<8:52:24, 22.82s/it]"
     ]
    },
    {
     "name": "stdout",
     "output_type": "stream",
     "text": [
      "Training_loss 0.54952,   Accuracy 0.77040\n"
     ]
    },
    {
     "name": "stderr",
     "output_type": "stream",
     "text": [
      "\r",
      " 30%|███       | 601/2000 [15:03:29<8:23:44, 21.60s/it]"
     ]
    },
    {
     "name": "stdout",
     "output_type": "stream",
     "text": [
      "Training_loss 0.54948,   Accuracy 0.77045\n"
     ]
    },
    {
     "name": "stderr",
     "output_type": "stream",
     "text": [
      "\r",
      " 30%|███       | 602/2000 [15:03:50<8:19:52, 21.45s/it]"
     ]
    },
    {
     "name": "stdout",
     "output_type": "stream",
     "text": [
      "Training_loss 0.54944,   Accuracy 0.77047\n"
     ]
    },
    {
     "name": "stderr",
     "output_type": "stream",
     "text": [
      "\r",
      " 30%|███       | 603/2000 [15:04:12<8:26:36, 21.76s/it]"
     ]
    },
    {
     "name": "stdout",
     "output_type": "stream",
     "text": [
      "Training_loss 0.54939,   Accuracy 0.77049\n"
     ]
    },
    {
     "name": "stderr",
     "output_type": "stream",
     "text": [
      "\r",
      " 30%|███       | 604/2000 [15:04:32<8:10:27, 21.08s/it]"
     ]
    },
    {
     "name": "stdout",
     "output_type": "stream",
     "text": [
      "Training_loss 0.54936,   Accuracy 0.77048\n"
     ]
    },
    {
     "name": "stderr",
     "output_type": "stream",
     "text": [
      "\r",
      " 30%|███       | 605/2000 [15:04:50<7:52:39, 20.33s/it]"
     ]
    },
    {
     "name": "stdout",
     "output_type": "stream",
     "text": [
      "Training_loss 0.54935,   Accuracy 0.77034\n"
     ]
    },
    {
     "name": "stderr",
     "output_type": "stream",
     "text": [
      "\r",
      " 30%|███       | 606/2000 [15:05:07<7:28:24, 19.30s/it]"
     ]
    },
    {
     "name": "stdout",
     "output_type": "stream",
     "text": [
      "Training_loss 0.54931,   Accuracy 0.77044\n"
     ]
    },
    {
     "name": "stderr",
     "output_type": "stream",
     "text": [
      "\r",
      " 30%|███       | 607/2000 [15:05:27<7:31:31, 19.45s/it]"
     ]
    },
    {
     "name": "stdout",
     "output_type": "stream",
     "text": [
      "Training_loss 0.54928,   Accuracy 0.77036\n"
     ]
    },
    {
     "name": "stderr",
     "output_type": "stream",
     "text": [
      "\r",
      " 30%|███       | 608/2000 [15:05:42<7:03:42, 18.26s/it]"
     ]
    },
    {
     "name": "stdout",
     "output_type": "stream",
     "text": [
      "Training_loss 0.54924,   Accuracy 0.77039\n"
     ]
    },
    {
     "name": "stderr",
     "output_type": "stream",
     "text": [
      "\r",
      " 30%|███       | 609/2000 [15:06:01<7:03:10, 18.25s/it]"
     ]
    },
    {
     "name": "stdout",
     "output_type": "stream",
     "text": [
      "Training_loss 0.54921,   Accuracy 0.77030\n"
     ]
    },
    {
     "name": "stderr",
     "output_type": "stream",
     "text": [
      "\r",
      " 30%|███       | 610/2000 [15:06:17<6:47:49, 17.60s/it]"
     ]
    },
    {
     "name": "stdout",
     "output_type": "stream",
     "text": [
      "Training_loss 0.54916,   Accuracy 0.77036\n"
     ]
    },
    {
     "name": "stderr",
     "output_type": "stream",
     "text": [
      "\r",
      " 31%|███       | 611/2000 [15:06:33<6:38:55, 17.23s/it]"
     ]
    },
    {
     "name": "stdout",
     "output_type": "stream",
     "text": [
      "Training_loss 0.54913,   Accuracy 0.77036\n"
     ]
    },
    {
     "name": "stderr",
     "output_type": "stream",
     "text": [
      "\r",
      " 31%|███       | 612/2000 [15:06:54<7:01:44, 18.23s/it]"
     ]
    },
    {
     "name": "stdout",
     "output_type": "stream",
     "text": [
      "Training_loss 0.54914,   Accuracy 0.77043\n"
     ]
    },
    {
     "name": "stderr",
     "output_type": "stream",
     "text": [
      "\r",
      " 31%|███       | 613/2000 [15:07:08<6:34:25, 17.06s/it]"
     ]
    },
    {
     "name": "stdout",
     "output_type": "stream",
     "text": [
      "Training_loss 0.54910,   Accuracy 0.77058\n"
     ]
    },
    {
     "name": "stderr",
     "output_type": "stream",
     "text": [
      "\r",
      " 31%|███       | 614/2000 [15:07:24<6:23:37, 16.61s/it]"
     ]
    },
    {
     "name": "stdout",
     "output_type": "stream",
     "text": [
      "Training_loss 0.54908,   Accuracy 0.77047\n"
     ]
    },
    {
     "name": "stderr",
     "output_type": "stream",
     "text": [
      "\r",
      " 31%|███       | 615/2000 [15:07:39<6:17:53, 16.37s/it]"
     ]
    },
    {
     "name": "stdout",
     "output_type": "stream",
     "text": [
      "Training_loss 0.54904,   Accuracy 0.77043\n"
     ]
    },
    {
     "name": "stderr",
     "output_type": "stream",
     "text": [
      "\r",
      " 31%|███       | 616/2000 [15:07:59<6:37:38, 17.24s/it]"
     ]
    },
    {
     "name": "stdout",
     "output_type": "stream",
     "text": [
      "Training_loss 0.54903,   Accuracy 0.77061\n"
     ]
    },
    {
     "name": "stderr",
     "output_type": "stream",
     "text": [
      "\r",
      " 31%|███       | 617/2000 [15:08:15<6:30:39, 16.95s/it]"
     ]
    },
    {
     "name": "stdout",
     "output_type": "stream",
     "text": [
      "Training_loss 0.54900,   Accuracy 0.77063\n"
     ]
    },
    {
     "name": "stderr",
     "output_type": "stream",
     "text": [
      "\r",
      " 31%|███       | 618/2000 [15:08:33<6:34:33, 17.13s/it]"
     ]
    },
    {
     "name": "stdout",
     "output_type": "stream",
     "text": [
      "Training_loss 0.54900,   Accuracy 0.77058\n"
     ]
    },
    {
     "name": "stderr",
     "output_type": "stream",
     "text": [
      "\r",
      " 31%|███       | 619/2000 [15:08:53<6:55:06, 18.03s/it]"
     ]
    },
    {
     "name": "stdout",
     "output_type": "stream",
     "text": [
      "Training_loss 0.54894,   Accuracy 0.77070\n"
     ]
    },
    {
     "name": "stderr",
     "output_type": "stream",
     "text": [
      "\r",
      " 31%|███       | 620/2000 [15:09:16<7:31:49, 19.64s/it]"
     ]
    },
    {
     "name": "stdout",
     "output_type": "stream",
     "text": [
      "Training_loss 0.54891,   Accuracy 0.77064\n"
     ]
    },
    {
     "name": "stderr",
     "output_type": "stream",
     "text": [
      "\r",
      " 31%|███       | 621/2000 [15:09:41<8:04:58, 21.10s/it]"
     ]
    },
    {
     "name": "stdout",
     "output_type": "stream",
     "text": [
      "Training_loss 0.54886,   Accuracy 0.77063\n"
     ]
    },
    {
     "name": "stderr",
     "output_type": "stream",
     "text": [
      "\r",
      " 31%|███       | 622/2000 [15:10:02<8:08:22, 21.26s/it]"
     ]
    },
    {
     "name": "stdout",
     "output_type": "stream",
     "text": [
      "Training_loss 0.54883,   Accuracy 0.77057\n"
     ]
    },
    {
     "name": "stderr",
     "output_type": "stream",
     "text": [
      "\r",
      " 31%|███       | 623/2000 [15:10:20<7:42:44, 20.16s/it]"
     ]
    },
    {
     "name": "stdout",
     "output_type": "stream",
     "text": [
      "Training_loss 0.54882,   Accuracy 0.77068\n"
     ]
    },
    {
     "name": "stderr",
     "output_type": "stream",
     "text": [
      "\r",
      " 31%|███       | 624/2000 [15:10:40<7:40:30, 20.08s/it]"
     ]
    },
    {
     "name": "stdout",
     "output_type": "stream",
     "text": [
      "Training_loss 0.54879,   Accuracy 0.77068\n"
     ]
    },
    {
     "name": "stderr",
     "output_type": "stream",
     "text": [
      "\r",
      " 31%|███▏      | 625/2000 [15:11:02<7:56:25, 20.79s/it]"
     ]
    },
    {
     "name": "stdout",
     "output_type": "stream",
     "text": [
      "Training_loss 0.54879,   Accuracy 0.77086\n"
     ]
    },
    {
     "name": "stderr",
     "output_type": "stream",
     "text": [
      "\r",
      " 31%|███▏      | 626/2000 [15:11:21<7:44:00, 20.26s/it]"
     ]
    },
    {
     "name": "stdout",
     "output_type": "stream",
     "text": [
      "Training_loss 0.54876,   Accuracy 0.77083\n"
     ]
    },
    {
     "name": "stderr",
     "output_type": "stream",
     "text": [
      "\r",
      " 31%|███▏      | 627/2000 [15:11:43<7:52:46, 20.66s/it]"
     ]
    },
    {
     "name": "stdout",
     "output_type": "stream",
     "text": [
      "Training_loss 0.54872,   Accuracy 0.77083\n"
     ]
    },
    {
     "name": "stderr",
     "output_type": "stream",
     "text": [
      "\r",
      " 31%|███▏      | 628/2000 [15:12:04<7:54:20, 20.74s/it]"
     ]
    },
    {
     "name": "stdout",
     "output_type": "stream",
     "text": [
      "Training_loss 0.54868,   Accuracy 0.77081\n"
     ]
    },
    {
     "name": "stderr",
     "output_type": "stream",
     "text": [
      "\r",
      " 31%|███▏      | 629/2000 [15:12:23<7:46:32, 20.42s/it]"
     ]
    },
    {
     "name": "stdout",
     "output_type": "stream",
     "text": [
      "Training_loss 0.54864,   Accuracy 0.77097\n"
     ]
    },
    {
     "name": "stderr",
     "output_type": "stream",
     "text": [
      "\r",
      " 32%|███▏      | 630/2000 [15:12:39<7:16:16, 19.11s/it]"
     ]
    },
    {
     "name": "stdout",
     "output_type": "stream",
     "text": [
      "Training_loss 0.54865,   Accuracy 0.77098\n"
     ]
    },
    {
     "name": "stderr",
     "output_type": "stream",
     "text": [
      "\r",
      " 32%|███▏      | 631/2000 [15:12:57<7:05:28, 18.65s/it]"
     ]
    },
    {
     "name": "stdout",
     "output_type": "stream",
     "text": [
      "Training_loss 0.54861,   Accuracy 0.77103\n"
     ]
    },
    {
     "name": "stderr",
     "output_type": "stream",
     "text": [
      "\r",
      " 32%|███▏      | 632/2000 [15:13:13<6:43:59, 17.72s/it]"
     ]
    },
    {
     "name": "stdout",
     "output_type": "stream",
     "text": [
      "Training_loss 0.54854,   Accuracy 0.77087\n"
     ]
    },
    {
     "name": "stderr",
     "output_type": "stream",
     "text": [
      "\r",
      " 32%|███▏      | 633/2000 [15:13:28<6:27:06, 16.99s/it]"
     ]
    },
    {
     "name": "stdout",
     "output_type": "stream",
     "text": [
      "Training_loss 0.54849,   Accuracy 0.77091\n"
     ]
    },
    {
     "name": "stderr",
     "output_type": "stream",
     "text": [
      "\r",
      " 32%|███▏      | 634/2000 [15:13:43<6:14:52, 16.47s/it]"
     ]
    },
    {
     "name": "stdout",
     "output_type": "stream",
     "text": [
      "Training_loss 0.54851,   Accuracy 0.77088\n"
     ]
    },
    {
     "name": "stderr",
     "output_type": "stream",
     "text": [
      "\r",
      " 32%|███▏      | 635/2000 [15:13:58<6:06:00, 16.09s/it]"
     ]
    },
    {
     "name": "stdout",
     "output_type": "stream",
     "text": [
      "Training_loss 0.54846,   Accuracy 0.77104\n"
     ]
    },
    {
     "name": "stderr",
     "output_type": "stream",
     "text": [
      "\r",
      " 32%|███▏      | 636/2000 [15:14:21<6:53:18, 18.18s/it]"
     ]
    },
    {
     "name": "stdout",
     "output_type": "stream",
     "text": [
      "Training_loss 0.54841,   Accuracy 0.77094\n"
     ]
    },
    {
     "name": "stderr",
     "output_type": "stream",
     "text": [
      "\r",
      " 32%|███▏      | 637/2000 [15:14:44<7:20:45, 19.40s/it]"
     ]
    },
    {
     "name": "stdout",
     "output_type": "stream",
     "text": [
      "Training_loss 0.54841,   Accuracy 0.77099\n"
     ]
    },
    {
     "name": "stderr",
     "output_type": "stream",
     "text": [
      "\r",
      " 32%|███▏      | 638/2000 [15:14:59<6:51:23, 18.12s/it]"
     ]
    },
    {
     "name": "stdout",
     "output_type": "stream",
     "text": [
      "Training_loss 0.54839,   Accuracy 0.77100\n"
     ]
    },
    {
     "name": "stderr",
     "output_type": "stream",
     "text": [
      "\r",
      " 32%|███▏      | 639/2000 [15:15:15<6:35:56, 17.46s/it]"
     ]
    },
    {
     "name": "stdout",
     "output_type": "stream",
     "text": [
      "Training_loss 0.54836,   Accuracy 0.77095\n"
     ]
    },
    {
     "name": "stderr",
     "output_type": "stream",
     "text": [
      "\r",
      " 32%|███▏      | 640/2000 [15:15:30<6:22:08, 16.86s/it]"
     ]
    },
    {
     "name": "stdout",
     "output_type": "stream",
     "text": [
      "Training_loss 0.54835,   Accuracy 0.77094\n"
     ]
    },
    {
     "name": "stderr",
     "output_type": "stream",
     "text": [
      "\r",
      " 32%|███▏      | 641/2000 [15:15:52<6:58:08, 18.46s/it]"
     ]
    },
    {
     "name": "stdout",
     "output_type": "stream",
     "text": [
      "Training_loss 0.54834,   Accuracy 0.77091\n"
     ]
    },
    {
     "name": "stderr",
     "output_type": "stream",
     "text": [
      "\r",
      " 32%|███▏      | 642/2000 [15:16:18<7:48:36, 20.70s/it]"
     ]
    },
    {
     "name": "stdout",
     "output_type": "stream",
     "text": [
      "Training_loss 0.54834,   Accuracy 0.77108\n"
     ]
    },
    {
     "name": "stderr",
     "output_type": "stream",
     "text": [
      "\r",
      " 32%|███▏      | 643/2000 [15:16:39<7:49:27, 20.76s/it]"
     ]
    },
    {
     "name": "stdout",
     "output_type": "stream",
     "text": [
      "Training_loss 0.54830,   Accuracy 0.77104\n"
     ]
    },
    {
     "name": "stderr",
     "output_type": "stream",
     "text": [
      "\r",
      " 32%|███▏      | 644/2000 [15:17:02<8:05:34, 21.49s/it]"
     ]
    },
    {
     "name": "stdout",
     "output_type": "stream",
     "text": [
      "Training_loss 0.54826,   Accuracy 0.77107\n"
     ]
    },
    {
     "name": "stderr",
     "output_type": "stream",
     "text": [
      "\r",
      " 32%|███▏      | 645/2000 [15:17:23<7:59:14, 21.22s/it]"
     ]
    },
    {
     "name": "stdout",
     "output_type": "stream",
     "text": [
      "Training_loss 0.54822,   Accuracy 0.77106\n"
     ]
    },
    {
     "name": "stderr",
     "output_type": "stream",
     "text": [
      "\r",
      " 32%|███▏      | 646/2000 [15:17:39<7:23:40, 19.66s/it]"
     ]
    },
    {
     "name": "stdout",
     "output_type": "stream",
     "text": [
      "Training_loss 0.54818,   Accuracy 0.77104\n"
     ]
    },
    {
     "name": "stderr",
     "output_type": "stream",
     "text": [
      "\r",
      " 32%|███▏      | 647/2000 [15:17:55<6:58:49, 18.57s/it]"
     ]
    },
    {
     "name": "stdout",
     "output_type": "stream",
     "text": [
      "Training_loss 0.54818,   Accuracy 0.77102\n"
     ]
    },
    {
     "name": "stderr",
     "output_type": "stream",
     "text": [
      "\r",
      " 32%|███▏      | 648/2000 [15:18:19<7:35:36, 20.22s/it]"
     ]
    },
    {
     "name": "stdout",
     "output_type": "stream",
     "text": [
      "Training_loss 0.54813,   Accuracy 0.77108\n"
     ]
    },
    {
     "name": "stderr",
     "output_type": "stream",
     "text": [
      "\r",
      " 32%|███▏      | 649/2000 [15:18:42<7:51:33, 20.94s/it]"
     ]
    },
    {
     "name": "stdout",
     "output_type": "stream",
     "text": [
      "Training_loss 0.54809,   Accuracy 0.77117\n"
     ]
    },
    {
     "name": "stderr",
     "output_type": "stream",
     "text": [
      "\r",
      " 32%|███▎      | 650/2000 [15:18:59<7:28:56, 19.95s/it]"
     ]
    },
    {
     "name": "stdout",
     "output_type": "stream",
     "text": [
      "Training_loss 0.54805,   Accuracy 0.77115\n"
     ]
    },
    {
     "name": "stderr",
     "output_type": "stream",
     "text": [
      "\r",
      " 33%|███▎      | 651/2000 [15:19:14<6:50:07, 18.24s/it]"
     ]
    },
    {
     "name": "stdout",
     "output_type": "stream",
     "text": [
      "Training_loss 0.54801,   Accuracy 0.77121\n"
     ]
    },
    {
     "name": "stderr",
     "output_type": "stream",
     "text": [
      "\r",
      " 33%|███▎      | 652/2000 [15:19:29<6:29:19, 17.33s/it]"
     ]
    },
    {
     "name": "stdout",
     "output_type": "stream",
     "text": [
      "Training_loss 0.54798,   Accuracy 0.77110\n"
     ]
    },
    {
     "name": "stderr",
     "output_type": "stream",
     "text": [
      "\r",
      " 33%|███▎      | 653/2000 [15:19:48<6:41:05, 17.87s/it]"
     ]
    },
    {
     "name": "stdout",
     "output_type": "stream",
     "text": [
      "Training_loss 0.54793,   Accuracy 0.77111\n"
     ]
    },
    {
     "name": "stderr",
     "output_type": "stream",
     "text": [
      "\r",
      " 33%|███▎      | 654/2000 [15:20:05<6:36:15, 17.66s/it]"
     ]
    },
    {
     "name": "stdout",
     "output_type": "stream",
     "text": [
      "Training_loss 0.54790,   Accuracy 0.77124\n"
     ]
    },
    {
     "name": "stderr",
     "output_type": "stream",
     "text": [
      "\r",
      " 33%|███▎      | 655/2000 [15:20:24<6:42:02, 17.93s/it]"
     ]
    },
    {
     "name": "stdout",
     "output_type": "stream",
     "text": [
      "Training_loss 0.54786,   Accuracy 0.77122\n"
     ]
    },
    {
     "name": "stderr",
     "output_type": "stream",
     "text": [
      "\r",
      " 33%|███▎      | 656/2000 [15:20:41<6:34:59, 17.63s/it]"
     ]
    },
    {
     "name": "stdout",
     "output_type": "stream",
     "text": [
      "Training_loss 0.54781,   Accuracy 0.77118\n"
     ]
    },
    {
     "name": "stderr",
     "output_type": "stream",
     "text": [
      "\r",
      " 33%|███▎      | 657/2000 [15:21:04<7:11:33, 19.28s/it]"
     ]
    },
    {
     "name": "stdout",
     "output_type": "stream",
     "text": [
      "Training_loss 0.54779,   Accuracy 0.77113\n"
     ]
    },
    {
     "name": "stderr",
     "output_type": "stream",
     "text": [
      "\r",
      " 33%|███▎      | 658/2000 [15:21:21<6:58:32, 18.71s/it]"
     ]
    },
    {
     "name": "stdout",
     "output_type": "stream",
     "text": [
      "Training_loss 0.54778,   Accuracy 0.77130\n"
     ]
    },
    {
     "name": "stderr",
     "output_type": "stream",
     "text": [
      " 33%|███▎      | 658/2000 [15:21:29<31:19:23, 84.03s/it]\n"
     ]
    },
    {
     "ename": "KeyboardInterrupt",
     "evalue": "",
     "output_type": "error",
     "traceback": [
      "\u001b[1;31m---------------------------------------------------------------------------\u001b[0m",
      "\u001b[1;31mKeyboardInterrupt\u001b[0m                         Traceback (most recent call last)",
      "\u001b[1;32m<ipython-input-19-576e8fa0b3f8>\u001b[0m in \u001b[0;36m<module>\u001b[1;34m\u001b[0m\n\u001b[0;32m     95\u001b[0m     \u001b[1;32mfor\u001b[0m \u001b[0mk\u001b[0m \u001b[1;32min\u001b[0m \u001b[0mrange\u001b[0m\u001b[1;33m(\u001b[0m\u001b[0mno_users\u001b[0m\u001b[1;33m)\u001b[0m\u001b[1;33m:\u001b[0m\u001b[1;33m\u001b[0m\u001b[1;33m\u001b[0m\u001b[0m\n\u001b[0;32m     96\u001b[0m \u001b[1;33m\u001b[0m\u001b[0m\n\u001b[1;32m---> 97\u001b[1;33m         \u001b[0mg_loss\u001b[0m\u001b[1;33m,\u001b[0m \u001b[0macc\u001b[0m \u001b[1;33m=\u001b[0m \u001b[0mtesting\u001b[0m\u001b[1;33m(\u001b[0m\u001b[0mmodels\u001b[0m\u001b[1;33m[\u001b[0m\u001b[0mk\u001b[0m\u001b[1;33m]\u001b[0m\u001b[1;33m,\u001b[0m \u001b[0mdatapoints\u001b[0m\u001b[1;33m[\u001b[0m\u001b[0mk\u001b[0m\u001b[1;33m]\u001b[0m\u001b[1;33m,\u001b[0m \u001b[1;36m50\u001b[0m\u001b[1;33m,\u001b[0m \u001b[0mcriterion\u001b[0m\u001b[1;33m)\u001b[0m\u001b[1;33m\u001b[0m\u001b[1;33m\u001b[0m\u001b[0m\n\u001b[0m\u001b[0;32m     98\u001b[0m         \u001b[0mlocal_test_loss\u001b[0m\u001b[1;33m.\u001b[0m\u001b[0mappend\u001b[0m\u001b[1;33m(\u001b[0m\u001b[0mg_loss\u001b[0m\u001b[1;33m)\u001b[0m\u001b[1;33m\u001b[0m\u001b[1;33m\u001b[0m\u001b[0m\n\u001b[0;32m     99\u001b[0m         \u001b[0muser_rel_error\u001b[0m \u001b[1;33m+=\u001b[0m \u001b[0macc\u001b[0m\u001b[1;31m#rel_error(models[i])\u001b[0m\u001b[1;33m\u001b[0m\u001b[1;33m\u001b[0m\u001b[0m\n",
      "\u001b[1;32m<ipython-input-18-4f9f94e3c649>\u001b[0m in \u001b[0;36mtesting\u001b[1;34m(model, dataset, bs, criterion)\u001b[0m\n\u001b[0;32m      5\u001b[0m     \u001b[0ml\u001b[0m \u001b[1;33m=\u001b[0m \u001b[0mlen\u001b[0m\u001b[1;33m(\u001b[0m\u001b[0mtest_loader\u001b[0m\u001b[1;33m)\u001b[0m\u001b[1;33m\u001b[0m\u001b[1;33m\u001b[0m\u001b[0m\n\u001b[0;32m      6\u001b[0m     \u001b[0mmodel\u001b[0m\u001b[1;33m.\u001b[0m\u001b[0meval\u001b[0m\u001b[1;33m(\u001b[0m\u001b[1;33m)\u001b[0m\u001b[1;33m\u001b[0m\u001b[1;33m\u001b[0m\u001b[0m\n\u001b[1;32m----> 7\u001b[1;33m     \u001b[1;32mfor\u001b[0m \u001b[0mdata\u001b[0m\u001b[1;33m,\u001b[0m \u001b[0mlabels\u001b[0m \u001b[1;32min\u001b[0m \u001b[0mtest_loader\u001b[0m\u001b[1;33m:\u001b[0m\u001b[1;33m\u001b[0m\u001b[1;33m\u001b[0m\u001b[0m\n\u001b[0m\u001b[0;32m      8\u001b[0m         \u001b[0mdata\u001b[0m\u001b[1;33m,\u001b[0m \u001b[0mlabels\u001b[0m \u001b[1;33m=\u001b[0m \u001b[0mdata\u001b[0m\u001b[1;33m,\u001b[0m \u001b[0mlabels\u001b[0m\u001b[1;33m\u001b[0m\u001b[1;33m\u001b[0m\u001b[0m\n\u001b[0;32m      9\u001b[0m         \u001b[0moutput\u001b[0m \u001b[1;33m=\u001b[0m \u001b[0mmodel\u001b[0m\u001b[1;33m(\u001b[0m\u001b[0mdata\u001b[0m\u001b[1;33m)\u001b[0m\u001b[1;33m\u001b[0m\u001b[1;33m\u001b[0m\u001b[0m\n",
      "\u001b[1;32mC:\\ProgramData\\Anaconda3\\lib\\site-packages\\torch\\utils\\data\\dataloader.py\u001b[0m in \u001b[0;36m__next__\u001b[1;34m(self)\u001b[0m\n\u001b[0;32m    650\u001b[0m                 \u001b[1;31m# TODO(https://github.com/pytorch/pytorch/issues/76750)\u001b[0m\u001b[1;33m\u001b[0m\u001b[1;33m\u001b[0m\u001b[1;33m\u001b[0m\u001b[0m\n\u001b[0;32m    651\u001b[0m                 \u001b[0mself\u001b[0m\u001b[1;33m.\u001b[0m\u001b[0m_reset\u001b[0m\u001b[1;33m(\u001b[0m\u001b[1;33m)\u001b[0m  \u001b[1;31m# type: ignore[call-arg]\u001b[0m\u001b[1;33m\u001b[0m\u001b[1;33m\u001b[0m\u001b[0m\n\u001b[1;32m--> 652\u001b[1;33m             \u001b[0mdata\u001b[0m \u001b[1;33m=\u001b[0m \u001b[0mself\u001b[0m\u001b[1;33m.\u001b[0m\u001b[0m_next_data\u001b[0m\u001b[1;33m(\u001b[0m\u001b[1;33m)\u001b[0m\u001b[1;33m\u001b[0m\u001b[1;33m\u001b[0m\u001b[0m\n\u001b[0m\u001b[0;32m    653\u001b[0m             \u001b[0mself\u001b[0m\u001b[1;33m.\u001b[0m\u001b[0m_num_yielded\u001b[0m \u001b[1;33m+=\u001b[0m \u001b[1;36m1\u001b[0m\u001b[1;33m\u001b[0m\u001b[1;33m\u001b[0m\u001b[0m\n\u001b[0;32m    654\u001b[0m             \u001b[1;32mif\u001b[0m \u001b[0mself\u001b[0m\u001b[1;33m.\u001b[0m\u001b[0m_dataset_kind\u001b[0m \u001b[1;33m==\u001b[0m \u001b[0m_DatasetKind\u001b[0m\u001b[1;33m.\u001b[0m\u001b[0mIterable\u001b[0m \u001b[1;32mand\u001b[0m\u001b[0;31m \u001b[0m\u001b[0;31m\\\u001b[0m\u001b[1;33m\u001b[0m\u001b[1;33m\u001b[0m\u001b[0m\n",
      "\u001b[1;32mC:\\ProgramData\\Anaconda3\\lib\\site-packages\\torch\\utils\\data\\dataloader.py\u001b[0m in \u001b[0;36m_next_data\u001b[1;34m(self)\u001b[0m\n\u001b[0;32m    690\u001b[0m     \u001b[1;32mdef\u001b[0m \u001b[0m_next_data\u001b[0m\u001b[1;33m(\u001b[0m\u001b[0mself\u001b[0m\u001b[1;33m)\u001b[0m\u001b[1;33m:\u001b[0m\u001b[1;33m\u001b[0m\u001b[1;33m\u001b[0m\u001b[0m\n\u001b[0;32m    691\u001b[0m         \u001b[0mindex\u001b[0m \u001b[1;33m=\u001b[0m \u001b[0mself\u001b[0m\u001b[1;33m.\u001b[0m\u001b[0m_next_index\u001b[0m\u001b[1;33m(\u001b[0m\u001b[1;33m)\u001b[0m  \u001b[1;31m# may raise StopIteration\u001b[0m\u001b[1;33m\u001b[0m\u001b[1;33m\u001b[0m\u001b[0m\n\u001b[1;32m--> 692\u001b[1;33m         \u001b[0mdata\u001b[0m \u001b[1;33m=\u001b[0m \u001b[0mself\u001b[0m\u001b[1;33m.\u001b[0m\u001b[0m_dataset_fetcher\u001b[0m\u001b[1;33m.\u001b[0m\u001b[0mfetch\u001b[0m\u001b[1;33m(\u001b[0m\u001b[0mindex\u001b[0m\u001b[1;33m)\u001b[0m  \u001b[1;31m# may raise StopIteration\u001b[0m\u001b[1;33m\u001b[0m\u001b[1;33m\u001b[0m\u001b[0m\n\u001b[0m\u001b[0;32m    693\u001b[0m         \u001b[1;32mif\u001b[0m \u001b[0mself\u001b[0m\u001b[1;33m.\u001b[0m\u001b[0m_pin_memory\u001b[0m\u001b[1;33m:\u001b[0m\u001b[1;33m\u001b[0m\u001b[1;33m\u001b[0m\u001b[0m\n\u001b[0;32m    694\u001b[0m             \u001b[0mdata\u001b[0m \u001b[1;33m=\u001b[0m \u001b[0m_utils\u001b[0m\u001b[1;33m.\u001b[0m\u001b[0mpin_memory\u001b[0m\u001b[1;33m.\u001b[0m\u001b[0mpin_memory\u001b[0m\u001b[1;33m(\u001b[0m\u001b[0mdata\u001b[0m\u001b[1;33m,\u001b[0m \u001b[0mself\u001b[0m\u001b[1;33m.\u001b[0m\u001b[0m_pin_memory_device\u001b[0m\u001b[1;33m)\u001b[0m\u001b[1;33m\u001b[0m\u001b[1;33m\u001b[0m\u001b[0m\n",
      "\u001b[1;32mC:\\ProgramData\\Anaconda3\\lib\\site-packages\\torch\\utils\\data\\_utils\\fetch.py\u001b[0m in \u001b[0;36mfetch\u001b[1;34m(self, possibly_batched_index)\u001b[0m\n\u001b[0;32m     50\u001b[0m         \u001b[1;32melse\u001b[0m\u001b[1;33m:\u001b[0m\u001b[1;33m\u001b[0m\u001b[1;33m\u001b[0m\u001b[0m\n\u001b[0;32m     51\u001b[0m             \u001b[0mdata\u001b[0m \u001b[1;33m=\u001b[0m \u001b[0mself\u001b[0m\u001b[1;33m.\u001b[0m\u001b[0mdataset\u001b[0m\u001b[1;33m[\u001b[0m\u001b[0mpossibly_batched_index\u001b[0m\u001b[1;33m]\u001b[0m\u001b[1;33m\u001b[0m\u001b[1;33m\u001b[0m\u001b[0m\n\u001b[1;32m---> 52\u001b[1;33m         \u001b[1;32mreturn\u001b[0m \u001b[0mself\u001b[0m\u001b[1;33m.\u001b[0m\u001b[0mcollate_fn\u001b[0m\u001b[1;33m(\u001b[0m\u001b[0mdata\u001b[0m\u001b[1;33m)\u001b[0m\u001b[1;33m\u001b[0m\u001b[1;33m\u001b[0m\u001b[0m\n\u001b[0m",
      "\u001b[1;32mC:\\ProgramData\\Anaconda3\\lib\\site-packages\\torch\\utils\\data\\_utils\\collate.py\u001b[0m in \u001b[0;36mdefault_collate\u001b[1;34m(batch)\u001b[0m\n\u001b[0;32m    173\u001b[0m \u001b[1;33m\u001b[0m\u001b[0m\n\u001b[0;32m    174\u001b[0m         \u001b[1;32mif\u001b[0m \u001b[0misinstance\u001b[0m\u001b[1;33m(\u001b[0m\u001b[0melem\u001b[0m\u001b[1;33m,\u001b[0m \u001b[0mtuple\u001b[0m\u001b[1;33m)\u001b[0m\u001b[1;33m:\u001b[0m\u001b[1;33m\u001b[0m\u001b[1;33m\u001b[0m\u001b[0m\n\u001b[1;32m--> 175\u001b[1;33m             \u001b[1;32mreturn\u001b[0m \u001b[1;33m[\u001b[0m\u001b[0mdefault_collate\u001b[0m\u001b[1;33m(\u001b[0m\u001b[0msamples\u001b[0m\u001b[1;33m)\u001b[0m \u001b[1;32mfor\u001b[0m \u001b[0msamples\u001b[0m \u001b[1;32min\u001b[0m \u001b[0mtransposed\u001b[0m\u001b[1;33m]\u001b[0m  \u001b[1;31m# Backwards compatibility.\u001b[0m\u001b[1;33m\u001b[0m\u001b[1;33m\u001b[0m\u001b[0m\n\u001b[0m\u001b[0;32m    176\u001b[0m         \u001b[1;32melse\u001b[0m\u001b[1;33m:\u001b[0m\u001b[1;33m\u001b[0m\u001b[1;33m\u001b[0m\u001b[0m\n\u001b[0;32m    177\u001b[0m             \u001b[1;32mtry\u001b[0m\u001b[1;33m:\u001b[0m\u001b[1;33m\u001b[0m\u001b[1;33m\u001b[0m\u001b[0m\n",
      "\u001b[1;32mC:\\ProgramData\\Anaconda3\\lib\\site-packages\\torch\\utils\\data\\_utils\\collate.py\u001b[0m in \u001b[0;36m<listcomp>\u001b[1;34m(.0)\u001b[0m\n\u001b[0;32m    173\u001b[0m \u001b[1;33m\u001b[0m\u001b[0m\n\u001b[0;32m    174\u001b[0m         \u001b[1;32mif\u001b[0m \u001b[0misinstance\u001b[0m\u001b[1;33m(\u001b[0m\u001b[0melem\u001b[0m\u001b[1;33m,\u001b[0m \u001b[0mtuple\u001b[0m\u001b[1;33m)\u001b[0m\u001b[1;33m:\u001b[0m\u001b[1;33m\u001b[0m\u001b[1;33m\u001b[0m\u001b[0m\n\u001b[1;32m--> 175\u001b[1;33m             \u001b[1;32mreturn\u001b[0m \u001b[1;33m[\u001b[0m\u001b[0mdefault_collate\u001b[0m\u001b[1;33m(\u001b[0m\u001b[0msamples\u001b[0m\u001b[1;33m)\u001b[0m \u001b[1;32mfor\u001b[0m \u001b[0msamples\u001b[0m \u001b[1;32min\u001b[0m \u001b[0mtransposed\u001b[0m\u001b[1;33m]\u001b[0m  \u001b[1;31m# Backwards compatibility.\u001b[0m\u001b[1;33m\u001b[0m\u001b[1;33m\u001b[0m\u001b[0m\n\u001b[0m\u001b[0;32m    176\u001b[0m         \u001b[1;32melse\u001b[0m\u001b[1;33m:\u001b[0m\u001b[1;33m\u001b[0m\u001b[1;33m\u001b[0m\u001b[0m\n\u001b[0;32m    177\u001b[0m             \u001b[1;32mtry\u001b[0m\u001b[1;33m:\u001b[0m\u001b[1;33m\u001b[0m\u001b[1;33m\u001b[0m\u001b[0m\n",
      "\u001b[1;32mC:\\ProgramData\\Anaconda3\\lib\\site-packages\\torch\\utils\\data\\_utils\\collate.py\u001b[0m in \u001b[0;36mdefault_collate\u001b[1;34m(batch)\u001b[0m\n\u001b[0;32m    139\u001b[0m             \u001b[0mstorage\u001b[0m \u001b[1;33m=\u001b[0m \u001b[0melem\u001b[0m\u001b[1;33m.\u001b[0m\u001b[0mstorage\u001b[0m\u001b[1;33m(\u001b[0m\u001b[1;33m)\u001b[0m\u001b[1;33m.\u001b[0m\u001b[0m_new_shared\u001b[0m\u001b[1;33m(\u001b[0m\u001b[0mnumel\u001b[0m\u001b[1;33m,\u001b[0m \u001b[0mdevice\u001b[0m\u001b[1;33m=\u001b[0m\u001b[0melem\u001b[0m\u001b[1;33m.\u001b[0m\u001b[0mdevice\u001b[0m\u001b[1;33m)\u001b[0m\u001b[1;33m\u001b[0m\u001b[1;33m\u001b[0m\u001b[0m\n\u001b[0;32m    140\u001b[0m             \u001b[0mout\u001b[0m \u001b[1;33m=\u001b[0m \u001b[0melem\u001b[0m\u001b[1;33m.\u001b[0m\u001b[0mnew\u001b[0m\u001b[1;33m(\u001b[0m\u001b[0mstorage\u001b[0m\u001b[1;33m)\u001b[0m\u001b[1;33m.\u001b[0m\u001b[0mresize_\u001b[0m\u001b[1;33m(\u001b[0m\u001b[0mlen\u001b[0m\u001b[1;33m(\u001b[0m\u001b[0mbatch\u001b[0m\u001b[1;33m)\u001b[0m\u001b[1;33m,\u001b[0m \u001b[1;33m*\u001b[0m\u001b[0mlist\u001b[0m\u001b[1;33m(\u001b[0m\u001b[0melem\u001b[0m\u001b[1;33m.\u001b[0m\u001b[0msize\u001b[0m\u001b[1;33m(\u001b[0m\u001b[1;33m)\u001b[0m\u001b[1;33m)\u001b[0m\u001b[1;33m)\u001b[0m\u001b[1;33m\u001b[0m\u001b[1;33m\u001b[0m\u001b[0m\n\u001b[1;32m--> 141\u001b[1;33m         \u001b[1;32mreturn\u001b[0m \u001b[0mtorch\u001b[0m\u001b[1;33m.\u001b[0m\u001b[0mstack\u001b[0m\u001b[1;33m(\u001b[0m\u001b[0mbatch\u001b[0m\u001b[1;33m,\u001b[0m \u001b[1;36m0\u001b[0m\u001b[1;33m,\u001b[0m \u001b[0mout\u001b[0m\u001b[1;33m=\u001b[0m\u001b[0mout\u001b[0m\u001b[1;33m)\u001b[0m\u001b[1;33m\u001b[0m\u001b[1;33m\u001b[0m\u001b[0m\n\u001b[0m\u001b[0;32m    142\u001b[0m     \u001b[1;32melif\u001b[0m \u001b[0melem_type\u001b[0m\u001b[1;33m.\u001b[0m\u001b[0m__module__\u001b[0m \u001b[1;33m==\u001b[0m \u001b[1;34m'numpy'\u001b[0m \u001b[1;32mand\u001b[0m \u001b[0melem_type\u001b[0m\u001b[1;33m.\u001b[0m\u001b[0m__name__\u001b[0m \u001b[1;33m!=\u001b[0m \u001b[1;34m'str_'\u001b[0m\u001b[0;31m \u001b[0m\u001b[0;31m\\\u001b[0m\u001b[1;33m\u001b[0m\u001b[1;33m\u001b[0m\u001b[0m\n\u001b[0;32m    143\u001b[0m             \u001b[1;32mand\u001b[0m \u001b[0melem_type\u001b[0m\u001b[1;33m.\u001b[0m\u001b[0m__name__\u001b[0m \u001b[1;33m!=\u001b[0m \u001b[1;34m'string_'\u001b[0m\u001b[1;33m:\u001b[0m\u001b[1;33m\u001b[0m\u001b[1;33m\u001b[0m\u001b[0m\n",
      "\u001b[1;31mKeyboardInterrupt\u001b[0m: "
     ]
    }
   ],
   "source": [
    "#global_model = CNN_Net().cuda()\n",
    "models = [MLP_Net(input_size=datapoints[i]['input_size'], num_classes=2, user_id=i) for i in range(no_users)]\n",
    "dummy_models = [MLP_Net(input_size=datapoints[i]['input_size'], num_classes=2, user_id=i) for i in range(no_users)]\n",
    "\n",
    "#model.load_state_dict(global_model.state_dict())\n",
    "\n",
    "criterion = nn.CrossEntropyLoss()\n",
    "\n",
    "\n",
    "train_loss = []\n",
    "test_loss = []\n",
    "test_accuracy = []\n",
    "total_rel_error = []\n",
    "\n",
    "in_cluster_proj_norm = []\n",
    "out_cluster_proj_norm = []\n",
    "in_cluster_proj_diff_norm = []\n",
    "out_cluster_proj_diff_norm = []\n",
    "task_loss = {'0':[],\n",
    "                '1':[],\n",
    "                '2':[]}\n",
    "task_rel_error = {'0':[],\n",
    "            '1':[],\n",
    "            '2':[]}\n",
    "\n",
    "for curr_round in tqdm(range(1, it+1)):\n",
    "    w, local_loss = [], []\n",
    "\n",
    "    \n",
    "    for i in range(no_users):\n",
    "        dummy_models[i].load_state_dict(models[i].state_dict())\n",
    "        local_update = ClientUpdate(dataset=datapoints[i], batchSize=batch_size, alpha=alpha, lamda=lamda, epochs=1, projection_list=projection_list, projected_weights=projected_weights)\n",
    "        weights, loss = local_update.train(dummy_models[i])\n",
    "        w.append(weights)\n",
    "        local_loss.append(loss)\n",
    "        models[i].load_state_dict(w[i])\n",
    "        \n",
    "    \n",
    "    \n",
    "    # Update prjection matrix\n",
    "    projected_weights = []\n",
    "    update_ProjWeight(projection_list, projected_weights, models, first_run=False)\n",
    "    \n",
    "    #print(projection_list[0], projected_weights[0])\n",
    "    \n",
    "    for i in range(no_users):\n",
    "        weights = parameters_to_vector(models[i].parameters())\n",
    "        for j in G.neighbors(i):\n",
    "            temp_mat = torch.outer(projected_weights[i][j] - projected_weights[j][i], weights).clone()\n",
    "            projection_list[i][j] = torch.add(projection_list[i][j], -1 * eta * lamda * temp_mat)\n",
    "    \n",
    "    in_cluster_proj_norm_round = 0\n",
    "    out_cluster_proj_norm_round = 0\n",
    "    in_cluster_proj_diff_round = 0\n",
    "    out_cluster_proj_diff_round = 0\n",
    "    in_edges = 0\n",
    "    out_edges = 0\n",
    "    \n",
    "    for i in range(no_users//3):\n",
    "        for j in G.neighbors(i):\n",
    "            if j < no_users//3:\n",
    "                in_edges += 1\n",
    "                in_cluster_proj_norm_round += torch.norm(projection_list[i][j]).detach().numpy()\n",
    "                in_cluster_proj_diff_round += torch.norm(projected_weights[i][j] - projected_weights[j][i]).detach().numpy()\n",
    "            else:\n",
    "                out_edges += 1\n",
    "                out_cluster_proj_norm_round += torch.norm(projection_list[i][j]).detach().numpy()\n",
    "                out_cluster_proj_diff_round += torch.norm(projected_weights[i][j] - projected_weights[j][i]).detach().numpy()\n",
    "    in_cluster_proj_norm.append(in_cluster_proj_norm_round / in_edges)\n",
    "    out_cluster_proj_norm.append(out_cluster_proj_norm_round / out_edges)\n",
    "    in_cluster_proj_diff_norm.append(in_cluster_proj_diff_round / in_edges)\n",
    "    out_cluster_proj_diff_norm.append(out_cluster_proj_diff_round / out_edges)\n",
    "            \n",
    "                                         \n",
    "                                              \n",
    "    \n",
    "        \n",
    "        \n",
    "        \n",
    "    \n",
    "    \n",
    "\n",
    "\n",
    "\n",
    "\n",
    "          \n",
    "            \n",
    "\n",
    "    local_test_acc = []\n",
    "    local_test_loss = []\n",
    "    user_rel_error = 0\n",
    "    per_task_loss = []\n",
    "    per_task_rel_error = []\n",
    "    \n",
    "    for k in range(no_users):\n",
    "      \n",
    "        g_loss, acc = testing(models[k], datapoints[k], 50, criterion)\n",
    "        local_test_loss.append(g_loss)\n",
    "        user_rel_error += acc#rel_error(models[i])\n",
    "        if (k + 1) % 10 == 0:\n",
    "            task_loss[str(k // 10)].append(sum(per_task_loss) / 10)\n",
    "            task_rel_error[str(k // 10)].append(sum(per_task_rel_error) / 10)\n",
    "            per_task_loss = []\n",
    "            per_task_rel_error = []\n",
    "        per_task_loss.append(g_loss)\n",
    "        per_task_rel_error.append(acc)#rel_error(models[i]))\n",
    "    \n",
    "    \n",
    "        \n",
    "\n",
    "    g_loss = sum(local_test_loss) / len(local_test_loss)\n",
    "    total_rel_error.append(user_rel_error / no_users)\n",
    "    \n",
    "    \n",
    "\n",
    "    test_loss.append(g_loss)\n",
    "    #test_accuracy.append(g_accuracy)\n",
    "    print(\"Training_loss %2.5f,   Accuracy %2.5f\"% (test_loss[-1], total_rel_error[-1]))"
   ]
  },
  {
   "cell_type": "code",
   "execution_count": 20,
   "id": "07b5f619",
   "metadata": {},
   "outputs": [
    {
     "ename": "NameError",
     "evalue": "name 'W' is not defined",
     "output_type": "error",
     "traceback": [
      "\u001b[1;31m---------------------------------------------------------------------------\u001b[0m",
      "\u001b[1;31mNameError\u001b[0m                                 Traceback (most recent call last)",
      "\u001b[1;32m<ipython-input-20-356a787e2354>\u001b[0m in \u001b[0;36m<module>\u001b[1;34m\u001b[0m\n\u001b[0;32m      1\u001b[0m \u001b[1;31m#plot.plot(test_loss)\u001b[0m\u001b[1;33m\u001b[0m\u001b[1;33m\u001b[0m\u001b[1;33m\u001b[0m\u001b[0m\n\u001b[1;32m----> 2\u001b[1;33m \u001b[0mprint\u001b[0m\u001b[1;33m(\u001b[0m\u001b[0mparameters_to_vector\u001b[0m\u001b[1;33m(\u001b[0m\u001b[0mmodels\u001b[0m\u001b[1;33m[\u001b[0m\u001b[1;36m19\u001b[0m\u001b[1;33m]\u001b[0m\u001b[1;33m.\u001b[0m\u001b[0mparameters\u001b[0m\u001b[1;33m(\u001b[0m\u001b[1;33m)\u001b[0m\u001b[1;33m)\u001b[0m\u001b[1;33m,\u001b[0m \u001b[0mW\u001b[0m\u001b[1;33m[\u001b[0m\u001b[1;36m1\u001b[0m\u001b[1;33m]\u001b[0m\u001b[1;33m)\u001b[0m\u001b[1;33m\u001b[0m\u001b[1;33m\u001b[0m\u001b[0m\n\u001b[0m",
      "\u001b[1;31mNameError\u001b[0m: name 'W' is not defined"
     ]
    }
   ],
   "source": [
    "#plot.plot(test_loss)\n",
    "print(parameters_to_vector(models[19].parameters()), W[1])"
   ]
  },
  {
   "cell_type": "code",
   "execution_count": 21,
   "id": "53edfe7c",
   "metadata": {},
   "outputs": [],
   "source": [
    "test_loss = np.array(test_loss)\n",
    "total_rel_error = np.array(total_rel_error)\n",
    "\n",
    "in_cluster_proj_norm = np.array(in_cluster_proj_norm)\n",
    "out_cluster_proj_norm = np.array(out_cluster_proj_norm)\n",
    "in_cluster_proj_diff_norm = np.array(in_cluster_proj_diff_norm)\n",
    "out_cluster_proj_diff_norm = np.array(out_cluster_proj_diff_norm)\n"
   ]
  },
  {
   "cell_type": "code",
   "execution_count": 22,
   "id": "0597b369",
   "metadata": {},
   "outputs": [
    {
     "data": {
      "text/plain": [
       "'\\n  0%|          | 1/2000 [00:12<6:59:49, 12.60s/it]\\nTraining_loss 0.69317,   Accuracy 0.52177\\n  0%|          | 2/2000 [00:25<6:58:41, 12.57s/it]\\nTraining_loss 0.69256,   Accuracy 0.52523\\n  0%|          | 3/2000 [00:37<6:55:30, 12.48s/it]\\nTraining_loss 0.69282,   Accuracy 0.52400\\n  0%|          | 4/2000 [00:50<6:56:56, 12.53s/it]\\nTraining_loss 0.69216,   Accuracy 0.52552\\n  0%|          | 5/2000 [01:05<7:35:34, 13.70s/it]\\nTraining_loss 0.69178,   Accuracy 0.52765\\n  0%|          | 6/2000 [01:18<7:24:07, 13.36s/it]\\nTraining_loss 0.69037,   Accuracy 0.55240\\n  0%|          | 7/2000 [01:32<7:32:02, 13.61s/it]\\nTraining_loss 0.68986,   Accuracy 0.55653\\n  0%|          | 8/2000 [01:47<7:42:39, 13.94s/it]\\nTraining_loss 0.68921,   Accuracy 0.56338\\n'"
      ]
     },
     "execution_count": 22,
     "metadata": {},
     "output_type": "execute_result"
    }
   ],
   "source": [
    "'''\n",
    "  0%|          | 1/2000 [00:12<6:59:49, 12.60s/it]\n",
    "Training_loss 0.69317,   Accuracy 0.52177\n",
    "  0%|          | 2/2000 [00:25<6:58:41, 12.57s/it]\n",
    "Training_loss 0.69256,   Accuracy 0.52523\n",
    "  0%|          | 3/2000 [00:37<6:55:30, 12.48s/it]\n",
    "Training_loss 0.69282,   Accuracy 0.52400\n",
    "  0%|          | 4/2000 [00:50<6:56:56, 12.53s/it]\n",
    "Training_loss 0.69216,   Accuracy 0.52552\n",
    "  0%|          | 5/2000 [01:05<7:35:34, 13.70s/it]\n",
    "Training_loss 0.69178,   Accuracy 0.52765\n",
    "  0%|          | 6/2000 [01:18<7:24:07, 13.36s/it]\n",
    "Training_loss 0.69037,   Accuracy 0.55240\n",
    "  0%|          | 7/2000 [01:32<7:32:02, 13.61s/it]\n",
    "Training_loss 0.68986,   Accuracy 0.55653\n",
    "  0%|          | 8/2000 [01:47<7:42:39, 13.94s/it]\n",
    "Training_loss 0.68921,   Accuracy 0.56338\n",
    "'''"
   ]
  },
  {
   "cell_type": "code",
   "execution_count": 23,
   "id": "b9060599",
   "metadata": {},
   "outputs": [],
   "source": [
    "np.save( 'training_loss_sheave_fml' + str(lamda).replace('.', '_')+ '_pout' + str(pout).replace('.', '_'), test_loss)\n",
    "np.save('relative_error_sheave_fml' + str(lamda).replace('.', '_')+ '_pout' + str(pout).replace('.', '_'), total_rel_error)\n",
    "np.save( 'in_cluster_proj_norm_sheave_fml' + str(lamda).replace('.', '_')+ '_pout' + str(pout).replace('.', '_'), in_cluster_proj_norm)\n",
    "np.save('out_cluster_proj_norm_sheave_fml' + str(lamda).replace('.', '_')+ '_pout' + str(pout).replace('.', '_'), out_cluster_proj_norm)\n",
    "np.save( 'in_cluster_proj_diff_norm_sheave_fml' + str(lamda).replace('.', '_')+ '_pout' + str(pout).replace('.', '_'), in_cluster_proj_diff_norm)\n",
    "np.save('out_cluster_proj_diff_norm_sheave_fml' + str(lamda).replace('.', '_')+ '_pout' + str(pout).replace('.', '_'), out_cluster_proj_diff_norm)"
   ]
  },
  {
   "cell_type": "code",
   "execution_count": 24,
   "id": "b857a245",
   "metadata": {},
   "outputs": [],
   "source": [
    "# task_loss dictionary\n",
    "for key, value in task_loss.items():\n",
    "    # Convert the list to a NumPy array\n",
    "    array_loss = np.array(value)\n",
    "    \n",
    "    # Save the NumPy array using the specified format\n",
    "    np.save('training_loss_sheave_fml_task' + key + '_' + str(lamda).replace('.', '_') + '_pout' + str(pout).replace('.', '_'), array_loss)\n",
    "\n",
    "# task_rel_error dictionary\n",
    "for key, value in task_rel_error.items():\n",
    "    # Convert the list to a NumPy array\n",
    "    array_rel_error = np.array(value)\n",
    "    \n",
    "    # Save the NumPy array using the specified format\n",
    "    np.save('relative_error_sheave_fml_task' + key + '_' + str(lamda).replace('.', '_') + '_pout' + str(pout).replace('.', '_'), array_rel_error)"
   ]
  },
  {
   "cell_type": "code",
   "execution_count": null,
   "id": "da0d5837",
   "metadata": {},
   "outputs": [],
   "source": []
  }
 ],
 "metadata": {
  "kernelspec": {
   "display_name": "Python 3",
   "language": "python",
   "name": "python3"
  },
  "language_info": {
   "codemirror_mode": {
    "name": "ipython",
    "version": 3
   },
   "file_extension": ".py",
   "mimetype": "text/x-python",
   "name": "python",
   "nbconvert_exporter": "python",
   "pygments_lexer": "ipython3",
   "version": "3.8.8"
  }
 },
 "nbformat": 4,
 "nbformat_minor": 5
}
