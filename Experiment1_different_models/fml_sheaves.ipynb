{
 "cells": [
  {
   "cell_type": "code",
   "execution_count": 1,
   "id": "74d5d395",
   "metadata": {},
   "outputs": [],
   "source": [
    "import torch\n",
    "import torch.nn as nn\n",
    "import torch.nn.functional as F\n",
    "import torch.optim as optim\n",
    "from torchvision import datasets, transforms\n",
    "from torch.utils.data import DataLoader, Dataset\n",
    "import copy\n",
    "import numpy as np\n",
    "import matplotlib.pyplot as plt\n",
    "from tqdm import tqdm\n",
    "import networkx as nx\n",
    "from torch.nn.utils import parameters_to_vector, vector_to_parameters"
   ]
  },
  {
   "cell_type": "code",
   "execution_count": 2,
   "id": "7617ffd7",
   "metadata": {},
   "outputs": [],
   "source": [
    "# Graph implementation\n",
    "def generate_graph(cluster_sizes=[100,100], pin=0.5, pout=0.01, seed=0):\n",
    "    \"\"\"Generate a random connected graph\"\"\"\n",
    "    probs = np.array([[pin, pout, pout, pout],[pout, pin, pout, pout],[pout, pout, pin, pout],[pout, pout, pout, pin]])\n",
    "    while True:\n",
    "        g = nx.stochastic_block_model(cluster_sizes, probs, seed=0)\n",
    "        if nx.algorithms.components.is_connected(g):\n",
    "            return g\n",
    "\n",
    "\n",
    "cluster_sizes = [10, 10, 10, 10]\n",
    "features_sizes = [8, 7, 6, 5]\n",
    "pin = 0.5\n",
    "pout = 0.1\n",
    "seed = 0\n",
    "alpha = 1e-2\n",
    "lamda = 0#1e-3#1e-3\n",
    "eta = 1e-2\n",
    "d0 = min(features_sizes)\n",
    "no_users = sum(cluster_sizes)\n",
    "batch_size = 10\n",
    "epochs = 1\n",
    "it = 2000\n",
    "G = generate_graph(cluster_sizes, pin, pout, seed)\n",
    "\n",
    "# Set a random seed for reproducibility\n",
    "seed = 17\n",
    "torch.manual_seed(seed)\n",
    "torch.backends.cudnn.deterministic = True\n",
    "torch.backends.cudnn.benchmark = False\n",
    "np.random.seed(seed)\n",
    "#nx.draw(G, with_labels=True, node_size=100, alpha=1, linewidths=10)\n",
    "#plt.show()"
   ]
  },
  {
   "cell_type": "code",
   "execution_count": 3,
   "id": "809e7c6f",
   "metadata": {},
   "outputs": [
    {
     "name": "stdout",
     "output_type": "stream",
     "text": [
      "[[0.         0.         0.         ... 0.09090909 0.         0.        ]\n",
      " [0.         0.         0.         ... 0.         0.         0.        ]\n",
      " [0.         0.         0.         ... 0.         0.         0.1       ]\n",
      " ...\n",
      " [0.09090909 0.         0.         ... 0.         0.         0.        ]\n",
      " [0.         0.         0.         ... 0.         0.         0.        ]\n",
      " [0.         0.         0.1        ... 0.         0.         0.        ]]\n",
      "[[0.40353535 0.         0.         ... 0.09090909 0.         0.        ]\n",
      " [0.         0.53216783 0.         ... 0.         0.         0.        ]\n",
      " [0.         0.         0.13216783 ... 0.         0.         0.1       ]\n",
      " ...\n",
      " [0.09090909 0.         0.         ... 0.11796537 0.         0.        ]\n",
      " [0.         0.         0.         ... 0.         0.18100233 0.        ]\n",
      " [0.         0.         0.1        ... 0.         0.         0.1488345 ]]\n"
     ]
    }
   ],
   "source": [
    "# Metropolis weights \n",
    "number_nodes = G.number_of_nodes()\n",
    "weights = np.zeros([number_nodes, number_nodes])\n",
    "for edge in G.edges():\n",
    "  i, j = edge[0], edge[1]\n",
    "  weights[i - 1][j - 1] = 1 / (1 + np.max([G.degree(i), G.degree(j)]))\n",
    "  weights[j - 1][i - 1] = weights[i - 1][j - 1]\n",
    "\n",
    "print(weights)\n",
    "\n",
    "weights = weights + np.diag(1 - np.sum(weights, axis=0))\n",
    "\n",
    "metropolis_weights = weights\n",
    "print(metropolis_weights)\n"
   ]
  },
  {
   "cell_type": "code",
   "execution_count": 4,
   "id": "26f67564",
   "metadata": {},
   "outputs": [],
   "source": [
    "def degrees(A):\n",
    "    \"\"\"Return the degrees of each node of a graph from its adjacency matrix\"\"\"\n",
    "    return np.sum(A, axis=0).reshape(A.shape[0], 1)\n",
    "\n",
    "def node_degree(n, G):\n",
    "    cnt = 0\n",
    "    for i in G.neighbors(n):\n",
    "        cnt += 1\n",
    "    return cnt\n",
    "\n",
    "def get_neighbors(n, G):\n",
    "    neighbors_list = []\n",
    "    for i in G.neighbors(n):\n",
    "        neighbors_list.append(int(i))\n",
    "    return neighbors_list"
   ]
  },
  {
   "cell_type": "code",
   "execution_count": 5,
   "id": "dbc31eff",
   "metadata": {},
   "outputs": [],
   "source": [
    "datapoints = {}\n",
    "count = 0\n",
    "W1 =  np.array([2.0, 2.0, 0.0, 5.0, -2.0, -3.0, 5.0, 2.0])\n",
    "W2 = np.array([2.0, 2.0, 0.0, 5.0, 2.0, -3.0, -5.0])\n",
    "W3 =  np.array([2.0, 2.0, 0.0, 5.0, -2.0, -3.0])\n",
    "W4 =  np.array([2.0, 2.0, 0.0, -5.0, -2.0])\n",
    "W = [W1, W2, W3, W4]\n",
    "m = 50\n",
    "n = [8, 7, 6, 5]\n",
    "noise_sd = [0.001,0.01,0.1,1.0]\n",
    "\n",
    "for i, cluster_size in enumerate(cluster_sizes):\n",
    "    for j in range(cluster_size):\n",
    "        features = np.random.normal(loc=0.0, scale=1.0, size=(m, n[i]))\n",
    "        label = np.dot(features, W[i]) + np.random.normal(0,noise_sd[2])\n",
    "        test_features = np.random.normal(loc=0.0, scale=1.0, size=(100, n[i]))\n",
    "        test_label = np.dot(test_features, W[i]) + np.random.normal(0,0.05)\n",
    "        datapoints[count] = {\n",
    "                'features': features,\n",
    "                'degree': node_degree(count, G),\n",
    "                'label': label,\n",
    "                'neighbors': get_neighbors(count, G),\n",
    "                'exact_weights': torch.from_numpy(W[i]),\n",
    "                'input_size': n[i],\n",
    "                'test_features':test_features,\n",
    "                'test_labels': test_label\n",
    "            }\n",
    "        count += 1"
   ]
  },
  {
   "cell_type": "code",
   "execution_count": 6,
   "id": "3c2530b1",
   "metadata": {},
   "outputs": [],
   "source": [
    "class MyDataset(Dataset):\n",
    "    def __init__(self, data, targets, transform=None):\n",
    "        self.data = torch.FloatTensor(data)\n",
    "        self.targets = torch.FloatTensor(targets).unsqueeze(-1)\n",
    "        \n",
    "    def __getitem__(self, index):\n",
    "        x = self.data[index]\n",
    "        y = self.targets[index]\n",
    "\n",
    "        return x, y\n",
    "    \n",
    "    def __len__(self):\n",
    "        return len(self.data)\n"
   ]
  },
  {
   "cell_type": "code",
   "execution_count": 7,
   "id": "1d84bf7c",
   "metadata": {},
   "outputs": [],
   "source": [
    "class MLP_Net(nn.Module):\n",
    "    def __init__(self, input_size, user_id):\n",
    "        super(MLP_Net, self).__init__()\n",
    "        self.fc1 = nn.Linear(input_size, 1, bias=False)\n",
    "        #self.fc2 = nn.Linear(4, 1, bias=False)\n",
    "        #self.fc3 = nn.Linear(200, 10)\n",
    "        self.user_id = user_id\n",
    "\n",
    "    def forward(self, x):\n",
    "        x = torch.flatten(x, 1)\n",
    "        #x = F.relu(self.fc1(x))\n",
    "        output = self.fc1(x)\n",
    "        #output = self.fc3(x)\n",
    "        return output"
   ]
  },
  {
   "cell_type": "code",
   "execution_count": 8,
   "id": "f93f4bbc",
   "metadata": {},
   "outputs": [],
   "source": [
    "from typing import Iterable, Optional\n",
    "\n",
    "def grads_to_vector(parameters: Iterable[torch.Tensor]) -> torch.Tensor:\n",
    "    r\"\"\"Convert parameters to one vector\n",
    "\n",
    "    Args:\n",
    "        parameters (Iterable[Tensor]): an iterator of Tensors that are the\n",
    "            parameters of a model.\n",
    "\n",
    "    Returns:\n",
    "        The parameters represented by a single vector\n",
    "    \"\"\"\n",
    "    # Flag for the device where the parameter is located\n",
    "    param_device = None\n",
    "\n",
    "    vec = []\n",
    "    for param in parameters:\n",
    "        # Ensure the parameters are located in the same device\n",
    "        param_device = param.grad\n",
    "\n",
    "        vec.append(param_device.view(-1))\n",
    "    return torch.cat(vec)"
   ]
  },
  {
   "cell_type": "code",
   "execution_count": 9,
   "id": "9cd3a679",
   "metadata": {},
   "outputs": [
    {
     "name": "stdout",
     "output_type": "stream",
     "text": [
      "0 tensor(66.9203) tensor([-0.0497,  0.0265,  0.2496, -0.2843, -0.3558,  0.0373, -0.0888])\n",
      "1 tensor(88.9725) tensor([-0.0605,  0.0263,  0.2387, -0.1926, -0.3544, -0.0526, -0.2111])\n",
      "2 tensor(75.7507) tensor([-0.0070,  0.0675,  0.1969, -0.0852, -0.4048, -0.1659, -0.3788])\n",
      "3 tensor(57.8489) tensor([ 0.0688,  0.0720,  0.1347,  0.0082, -0.4030, -0.2452, -0.5140])\n",
      "4 tensor(41.5260) tensor([ 0.1294,  0.0949,  0.1483,  0.0863, -0.4131, -0.3008, -0.6203])\n",
      "5 tensor(54.2266) tensor([ 0.1882,  0.1076,  0.1548,  0.1297, -0.3938, -0.3703, -0.6778])\n",
      "6 tensor(51.4614) tensor([ 0.2372,  0.1393,  0.1194,  0.2144, -0.4359, -0.4483, -0.7727])\n",
      "7 tensor(69.9925) tensor([ 0.2778,  0.1552,  0.0620,  0.2935, -0.4229, -0.4940, -0.8651])\n",
      "8 tensor(44.3733) tensor([ 0.2862,  0.1883,  0.0663,  0.4655, -0.4219, -0.5672, -0.9444])\n",
      "9 tensor(36.1280) tensor([ 0.3150,  0.1833,  0.0273,  0.5475, -0.4001, -0.6124, -1.0187])\n",
      "10 tensor(39.9554) tensor([ 0.3555,  0.2012, -0.0044,  0.5797, -0.3986, -0.6658, -1.1053])\n",
      "11 tensor(42.1315) tensor([ 0.4066,  0.2670, -0.0338,  0.6536, -0.4038, -0.6901, -1.1627])\n",
      "12 tensor(44.3389) tensor([ 0.4200,  0.2713, -0.0686,  0.7389, -0.3836, -0.7591, -1.2225])\n",
      "13 tensor(42.5335) tensor([ 0.4402,  0.3092, -0.0706,  0.8343, -0.3616, -0.8054, -1.2822])\n",
      "14 tensor(30.1256) tensor([ 0.4996,  0.3624, -0.0851,  0.9043, -0.3841, -0.8370, -1.3791])\n",
      "15 tensor(45.5223) tensor([ 0.5763,  0.3984, -0.1281,  0.9554, -0.4169, -0.8374, -1.4608])\n",
      "16 tensor(46.3887) tensor([ 0.6117,  0.4112, -0.1588,  1.0501, -0.4161, -0.8919, -1.5547])\n",
      "17 tensor(29.7234) tensor([ 0.6030,  0.4170, -0.1495,  1.1531, -0.3894, -0.9751, -1.6349])\n",
      "18 tensor(34.8101) tensor([ 0.6657,  0.4673, -0.1904,  1.2071, -0.4141, -1.0179, -1.6929])\n",
      "19 tensor(41.5470) tensor([ 0.7206,  0.5018, -0.1770,  1.2827, -0.4234, -1.0346, -1.7725])\n",
      "20 tensor(32.4125) tensor([ 0.7462,  0.5213, -0.2247,  1.3732, -0.3852, -1.1204, -1.8274])\n",
      "21 tensor(27.1360) tensor([ 0.7965,  0.5699, -0.2337,  1.4400, -0.3907, -1.1809, -1.8828])\n",
      "22 tensor(29.1318) tensor([ 0.8355,  0.6121, -0.2738,  1.4922, -0.3817, -1.2012, -1.9477])\n",
      "23 tensor(25.2240) tensor([ 0.8493,  0.6269, -0.2896,  1.5704, -0.3831, -1.2822, -1.9913])\n",
      "24 tensor(31.2774) tensor([ 0.8631,  0.6730, -0.3293,  1.6109, -0.3673, -1.3412, -2.0447])\n",
      "25 tensor(23.2965) tensor([ 0.8838,  0.7113, -0.3423,  1.6671, -0.3527, -1.4119, -2.1150])\n",
      "26 tensor(17.5269) tensor([ 0.9265,  0.7308, -0.3421,  1.7170, -0.3364, -1.4390, -2.1653])\n",
      "27 tensor(28.9324) tensor([ 0.9574,  0.7594, -0.3407,  1.7619, -0.3218, -1.4731, -2.1825])\n",
      "28 tensor(26.8707) tensor([ 0.9836,  0.7959, -0.3321,  1.8181, -0.3067, -1.5343, -2.2500])\n",
      "29 tensor(18.4180) tensor([ 0.9820,  0.8033, -0.3554,  1.9066, -0.2984, -1.5624, -2.3200])\n",
      "30 tensor(22.2506) tensor([ 1.0049,  0.8308, -0.3760,  1.9489, -0.2910, -1.5818, -2.3726])\n",
      "31 tensor(15.6596) tensor([ 1.0181,  0.8680, -0.3998,  2.0016, -0.2793, -1.6137, -2.4348])\n",
      "32 tensor(19.9482) tensor([ 1.0451,  0.8612, -0.4190,  2.0312, -0.2609, -1.6415, -2.4868])\n",
      "33 tensor(16.1978) tensor([ 1.0694,  0.8776, -0.4071,  2.0885, -0.2416, -1.6673, -2.5282])\n",
      "34 tensor(16.9337) tensor([ 1.0779,  0.8705, -0.4180,  2.1524, -0.2352, -1.6925, -2.5653])\n",
      "35 tensor(10.0757) tensor([ 1.1098,  0.8860, -0.4185,  2.1841, -0.2277, -1.7264, -2.6224])\n",
      "36 tensor(18.5179) tensor([ 1.1224,  0.9014, -0.4275,  2.2161, -0.2378, -1.7504, -2.6570])\n",
      "37 tensor(16.0433) tensor([ 1.1206,  0.8880, -0.4181,  2.2933, -0.2314, -1.7901, -2.6997])\n",
      "38 tensor(13.5415) tensor([ 1.1292,  0.9000, -0.4307,  2.3388, -0.2180, -1.8312, -2.7423])\n",
      "39 tensor(14.2193) tensor([ 1.1425,  0.9141, -0.4239,  2.3759, -0.2015, -1.8697, -2.7697])\n",
      "40 tensor(13.1939) tensor([ 1.1800,  0.9308, -0.3965,  2.4078, -0.1900, -1.8965, -2.8070])\n",
      "41 tensor(11.9004) tensor([ 1.2096,  0.9598, -0.4079,  2.4591, -0.2058, -1.9170, -2.8472])\n",
      "42 tensor(11.4967) tensor([ 1.2143,  0.9727, -0.4220,  2.5192, -0.2104, -1.9297, -2.8807])\n",
      "43 tensor(12.8738) tensor([ 1.2258,  0.9581, -0.4008,  2.5527, -0.1954, -1.9637, -2.9144])\n",
      "44 tensor(13.7619) tensor([ 1.2341,  0.9851, -0.4235,  2.5915, -0.1872, -1.9958, -2.9544])\n",
      "45 tensor(10.9151) tensor([ 1.2428,  0.9992, -0.4148,  2.6410, -0.1802, -2.0606, -2.9767])\n",
      "46 tensor(9.9365) tensor([ 1.2556,  1.0216, -0.4206,  2.6726, -0.1520, -2.0755, -2.9952])\n",
      "47 tensor(11.0290) tensor([ 1.2492,  1.0309, -0.4363,  2.7177, -0.1422, -2.0777, -3.0308])\n",
      "48 tensor(5.8550) tensor([ 1.2591,  1.0601, -0.4466,  2.7471, -0.1279, -2.0936, -3.0706])\n",
      "49 tensor(11.7341) tensor([ 1.2647,  1.0612, -0.4581,  2.7682, -0.1181, -2.1039, -3.0912])\n",
      "50 tensor(17.1413) tensor([ 1.2773,  1.0537, -0.4635,  2.8162, -0.1069, -2.1326, -3.1325])\n",
      "51 tensor(10.4729) tensor([ 1.2765,  1.0740, -0.4529,  2.8874, -0.0847, -2.1762, -3.1735])\n",
      "52 tensor(8.5744) tensor([ 1.2858,  1.0707, -0.4294,  2.9128, -0.0658, -2.2091, -3.2142])\n",
      "53 tensor(7.1408) tensor([ 1.3032,  1.0888, -0.4238,  2.9298, -0.0431, -2.2373, -3.2351])\n",
      "54 tensor(6.9371) tensor([ 1.3311,  1.1032, -0.4341,  2.9441, -0.0332, -2.2622, -3.2612])\n",
      "55 tensor(4.2104) tensor([ 1.3546,  1.0940, -0.4415,  2.9561, -0.0212, -2.2706, -3.3062])\n",
      "56 tensor(9.0550) tensor([ 1.3656,  1.0949, -0.4541,  2.9700, -0.0155, -2.2744, -3.3299])\n",
      "57 tensor(11.1996) tensor([ 1.3951,  1.1106, -0.4510,  3.0019, -0.0072, -2.2990, -3.3570])\n",
      "58 tensor(7.5355) tensor([ 1.4007,  1.1258, -0.4303,  3.0484,  0.0091, -2.3248, -3.3895])\n",
      "59 tensor(6.1431) tensor([ 1.4022,  1.1386, -0.4219,  3.0760,  0.0286, -2.3507, -3.4066])\n",
      "60 tensor(6.8744) tensor([ 1.3931,  1.1506, -0.4240,  3.1034,  0.0383, -2.3782, -3.4236])\n",
      "61 tensor(6.7520) tensor([ 1.3889,  1.1591, -0.4356,  3.1327,  0.0461, -2.3933, -3.4590])\n",
      "62 tensor(7.4319) tensor([ 1.4070,  1.1712, -0.4450,  3.1641,  0.0489, -2.3935, -3.4941])\n",
      "63 tensor(5.7183) tensor([ 1.4265,  1.1851, -0.4440,  3.1791,  0.0701, -2.3978, -3.5281])\n",
      "64 tensor(7.8444) tensor([ 1.4344,  1.1824, -0.4300,  3.1967,  0.0875, -2.4181, -3.5467])\n",
      "65 tensor(7.3193) tensor([ 1.4486,  1.2003, -0.4221,  3.2245,  0.1054, -2.4108, -3.5818])\n",
      "66 tensor(8.2240) tensor([ 1.4565,  1.2137, -0.4229,  3.2574,  0.1254, -2.4109, -3.6059])\n",
      "67 tensor(5.9019) tensor([ 1.4588,  1.2278, -0.4135,  3.2956,  0.1481, -2.4417, -3.6214])\n",
      "68 tensor(5.3438) tensor([ 1.4692,  1.2338, -0.4277,  3.3140,  0.1721, -2.4447, -3.6469])\n",
      "69 tensor(7.2500) tensor([ 1.4661,  1.2361, -0.4272,  3.3434,  0.1756, -2.4653, -3.6754])\n",
      "70 tensor(5.0384) tensor([ 1.4622,  1.2533, -0.4302,  3.3908,  0.1822, -2.4705, -3.7067])\n",
      "71 tensor(7.9928) tensor([ 1.4697,  1.2758, -0.4308,  3.4083,  0.1990, -2.4844, -3.7195])\n",
      "72 tensor(6.7871) tensor([ 1.4694,  1.2860, -0.4241,  3.4638,  0.2160, -2.4990, -3.7356])\n",
      "73 tensor(3.5198) tensor([ 1.4841,  1.2956, -0.4054,  3.4871,  0.2346, -2.5106, -3.7661])\n",
      "74 tensor(4.4283) tensor([ 1.4933,  1.2980, -0.3977,  3.5030,  0.2424, -2.5152, -3.7814])\n",
      "75 tensor(4.4549) tensor([ 1.4951,  1.3039, -0.3932,  3.5201,  0.2589, -2.5337, -3.7956])\n",
      "76 tensor(4.6211) tensor([ 1.5072,  1.3255, -0.4024,  3.5352,  0.2715, -2.5279, -3.8188])\n",
      "77 tensor(2.8267) tensor([ 1.5123,  1.3392, -0.3984,  3.5561,  0.2783, -2.5380, -3.8456])\n",
      "78 tensor(5.7328) tensor([ 1.5164,  1.3354, -0.3987,  3.5703,  0.2864, -2.5421, -3.8628])\n",
      "79 tensor(4.4200) tensor([ 1.5260,  1.3354, -0.3983,  3.6029,  0.3027, -2.5379, -3.8935])\n",
      "80 tensor(3.9531) tensor([ 1.5303,  1.3449, -0.3976,  3.6261,  0.3108, -2.5518, -3.9187])\n",
      "81 tensor(5.0736) tensor([ 1.5398,  1.3471, -0.3909,  3.6481,  0.3179, -2.5698, -3.9368])\n",
      "82 tensor(4.6744) tensor([ 1.5439,  1.3651, -0.3806,  3.6829,  0.3288, -2.5896, -3.9463])\n",
      "83 tensor(3.8451) tensor([ 1.5399,  1.3792, -0.3802,  3.7091,  0.3434, -2.6075, -3.9640])\n",
      "84 tensor(5.9178) tensor([ 1.5486,  1.3896, -0.3697,  3.7286,  0.3543, -2.6033, -3.9847])\n",
      "85 tensor(4.1842) tensor([ 1.5449,  1.3999, -0.3574,  3.7681,  0.3680, -2.6248, -4.0097])\n",
      "86 tensor(4.3856) tensor([ 1.5522,  1.4173, -0.3585,  3.7923,  0.3782, -2.6333, -4.0292])\n",
      "87 tensor(3.7154) tensor([ 1.5624,  1.4203, -0.3470,  3.8099,  0.3913, -2.6528, -4.0564])\n",
      "88 tensor(3.7814) tensor([ 1.5658,  1.4329, -0.3517,  3.8317,  0.4050, -2.6675, -4.0712])\n",
      "89 tensor(3.1569) tensor([ 1.5760,  1.4563, -0.3582,  3.8513,  0.4189, -2.6752, -4.0841])\n",
      "90 tensor(2.2730) tensor([ 1.5845,  1.4582, -0.3494,  3.8666,  0.4312, -2.6847, -4.1000])\n",
      "91 tensor(2.6685) tensor([ 1.5858,  1.4570, -0.3545,  3.8828,  0.4388, -2.6885, -4.1156])\n",
      "92 tensor(3.0546) tensor([ 1.5916,  1.4738, -0.3526,  3.8990,  0.4478, -2.6851, -4.1260])\n",
      "93 tensor(2.8666) tensor([ 1.5958,  1.4879, -0.3516,  3.9119,  0.4620, -2.6815, -4.1444])\n",
      "94 tensor(2.3769) tensor([ 1.6025,  1.4879, -0.3387,  3.9285,  0.4767, -2.6898, -4.1504])\n",
      "95 tensor(1.9086) tensor([ 1.6143,  1.4945, -0.3297,  3.9395,  0.4806, -2.6900, -4.1717])\n",
      "96 tensor(2.3100) tensor([ 1.6197,  1.4998, -0.3250,  3.9416,  0.4913, -2.6960, -4.1850])\n",
      "97 tensor(2.4113) tensor([ 1.6228,  1.5130, -0.3238,  3.9607,  0.5021, -2.6924, -4.1878])\n",
      "98 tensor(1.9090) tensor([ 1.6237,  1.5167, -0.3227,  3.9829,  0.5091, -2.6929, -4.2006])\n",
      "99 tensor(2.7917) tensor([ 1.6234,  1.5135, -0.3166,  3.9969,  0.5172, -2.7018, -4.2114])\n"
     ]
    }
   ],
   "source": [
    "model = MLP_Net(datapoints[19][\"input_size\"], user_id=0)\n",
    "\n",
    "lr = 0.01\n",
    "\n",
    "dataloader = DataLoader(MyDataset(datapoints[19][\"features\"], datapoints[19][\"label\"]), batch_size=20, shuffle=True)\n",
    "optimizer = torch.optim.SGD(model.parameters(), lr=0.01)\n",
    "for i in range(100):\n",
    "    for j, (x, y) in zip(range(1), dataloader):\n",
    "        criterion = nn.MSELoss()\n",
    "        optimizer.zero_grad()\n",
    "        yhat = model(x)\n",
    "\n",
    "        loss = criterion(yhat, y)\n",
    "        \n",
    "        loss.backward()\n",
    "        print(i, loss.detach(), parameters_to_vector(model.parameters()).detach())\n",
    "        #optimizer.step()\n",
    "        new_model = parameters_to_vector(model.parameters()) - lr * grads_to_vector(model.parameters())\n",
    "        vector_to_parameters(parameters=model.parameters(), vec=new_model)\n",
    "        #if i % 50 ==0:\n",
    "            #lr *= 0.9\n",
    "            \n",
    "\n",
    "#parameters_to_vector(model.parameters())"
   ]
  },
  {
   "cell_type": "code",
   "execution_count": 10,
   "id": "5eb22da2",
   "metadata": {},
   "outputs": [
    {
     "data": {
      "text/plain": [
       "tensor([ 1.6380,  1.5253, -0.3111,  4.0060,  0.5291, -2.7091, -4.2288],\n",
       "       grad_fn=<CatBackward0>)"
      ]
     },
     "execution_count": 10,
     "metadata": {},
     "output_type": "execute_result"
    }
   ],
   "source": [
    "parameters_to_vector(model.parameters())"
   ]
  },
  {
   "cell_type": "code",
   "execution_count": 11,
   "id": "52396ca6",
   "metadata": {},
   "outputs": [],
   "source": [
    "class CNN_Net(nn.Module):\n",
    "    def __init__(self):\n",
    "        super(CNN_Net, self).__init__()\n",
    "        self.conv1 = nn.Conv2d(1, 32, kernel_size=5)\n",
    "        self.conv2 = nn.Conv2d(32, 64, kernel_size=5)\n",
    "        self.pool = nn.MaxPool2d(2,2)\n",
    "        self.dropout = nn.Dropout(p=0.2)\n",
    "        self.fc1 = nn.Linear(1024, 512)\n",
    "        self.fc2 = nn.Linear(512, 10)\n",
    "\n",
    "    def forward(self, x):\n",
    "        x = self.pool(F.relu(self.conv1(x)))\n",
    "        x = self.pool(F.relu(self.conv2(x)))\n",
    "        x = self.dropout(x)\n",
    "        x = torch.flatten(x, 1)\n",
    "        x = F.relu(self.fc1(x))\n",
    "        output = self.fc2(x)\n",
    "        return output"
   ]
  },
  {
   "cell_type": "code",
   "execution_count": 12,
   "id": "cb5fe42b",
   "metadata": {},
   "outputs": [],
   "source": [
    "class ClientUpdate(object):\n",
    "    def __init__(self, dataset, batchSize, alpha, lamda, epochs, projection_list, projected_weights):\n",
    "        self.train_loader = DataLoader(MyDataset(dataset[\"features\"], dataset[\"label\"]), batch_size=batchSize, shuffle=True)\n",
    "        #self.learning_rate = learning_rate\n",
    "        self.epochs = epochs\n",
    "        self.batchSize = batchSize\n",
    "\n",
    "    def train(self, model):\n",
    "        criterion = nn.MSELoss()\n",
    "        optimizer = torch.optim.SGD(model.parameters(), lr=1e-3, momentum=0.5)\n",
    "\n",
    "        e_loss = []\n",
    "        for epoch in range(1, self.epochs+1):\n",
    "            train_loss = 0\n",
    "            model.train()\n",
    "            for i, (data, labels) in zip(range(1), self.train_loader):\n",
    "                data, labels = data, labels\n",
    "                optimizer.zero_grad() \n",
    "                output = model(data)  \n",
    "                loss = criterion(output, labels)\n",
    "                #loss += mu/2 * torch.norm(client_param.data - server_param.data)**2\n",
    "                loss.backward()\n",
    "                grads = grads_to_vector(model.parameters())\n",
    "                #optimizer.step()\n",
    "                train_loss += loss.item()*data.size(0)\n",
    "                weights = parameters_to_vector(model.parameters())\n",
    "                mat_vec_sum = torch.zeros_like(weights)\n",
    "                for j in G.neighbors(model.user_id):\n",
    "                    mat_vec_sum = torch.add(mat_vec_sum, torch.matmul(torch.transpose(projection_list[model.user_id][j], 0, 1), \n",
    "                                                         projected_weights[j][model.user_id] - projected_weights[model.user_id][j]))\n",
    "                \n",
    "                model_update = parameters_to_vector(model.parameters()) - alpha * (grads + lamda * mat_vec_sum)\n",
    "                \n",
    "            vector_to_parameters(parameters=model.parameters(), vec=model_update)\n",
    "                \n",
    "\n",
    "            train_loss = train_loss/self.batchSize#len(self.train_loader.dataset) \n",
    "            e_loss.append(train_loss)\n",
    "\n",
    "        total_loss = e_loss#sum(e_loss)/len(e_loss)\n",
    "\n",
    "        return model.state_dict(), total_loss"
   ]
  },
  {
   "cell_type": "code",
   "execution_count": 13,
   "id": "2eeef5b5",
   "metadata": {},
   "outputs": [],
   "source": [
    "# Preparing projection matrices\n",
    "models = [MLP_Net(input_size=datapoints[i]['input_size'], user_id=i) for i in range(no_users)]\n",
    "#temp = MLP_Net()\n",
    "projection_list = []\n",
    "projected_weights = []\n",
    "\n",
    "def update_ProjWeight(projection_list, projected_weights, models, first_run=True):\n",
    "    for i in range(no_users):\n",
    "        neighbors_mat = []\n",
    "        neighbors_weights = []\n",
    "        for j in range(no_users):\n",
    "            if j in G.neighbors(i):\n",
    "                with torch.no_grad():\n",
    "                    if first_run == True:\n",
    "                        # Specify the dimensions of the rectangular matrix\n",
    "                        row, column = d0, parameters_to_vector(models[i].parameters()).size()[0]\n",
    "\n",
    "                        # Generate random values for the diagonal from a normal distribution\n",
    "                        diag_values = 1.0 + 1.0 * torch.randn(min(row, column))\n",
    "\n",
    "                        # Create a rectangular matrix with diagonal elements\n",
    "                        mat = torch.diag(diag_values)\n",
    "\n",
    "                        # If the matrix is larger than the diagonal vector, fill the remaining elements with zeros\n",
    "                       \n",
    "                        mat = torch.cat((mat, torch.zeros(row, column - row)), dim=1)\n",
    "\n",
    "                        \n",
    "\n",
    "                        # Append the matrix to the list\n",
    "                        neighbors_mat.append(mat)\n",
    "                        neighbors_weights.append(torch.matmul(mat, parameters_to_vector(models[i].parameters())))\n",
    "                    else:\n",
    "                        neighbors_weights.append(torch.matmul(projection_list[i][j], parameters_to_vector(models[i].parameters())))\n",
    "            else:\n",
    "                neighbors_mat.append(0)\n",
    "                neighbors_weights.append(0)\n",
    "        if first_run == True:\n",
    "            projection_list.append(neighbors_mat)\n",
    "        projected_weights.append(neighbors_weights)\n",
    "\n",
    "update_ProjWeight(projection_list, projected_weights, models)\n",
    "\n"
   ]
  },
  {
   "cell_type": "code",
   "execution_count": 14,
   "id": "5f6059eb",
   "metadata": {},
   "outputs": [],
   "source": [
    "def testing(model, dataset, bs, criterion): \n",
    "    test_loss = 0\n",
    "    correct = 0\n",
    "    test_loader = DataLoader(MyDataset(dataset[\"test_features\"], dataset[\"test_labels\"]), batch_size=bs)\n",
    "    l = len(test_loader)\n",
    "    model.eval()\n",
    "    for data, labels in test_loader:\n",
    "        data, labels = data, labels\n",
    "        output = model(data)\n",
    "        loss = criterion(output, labels)\n",
    "        test_loss += loss.item()*data.size(0)\n",
    "        #_, pred = torch.max(output, 1)\n",
    "        #correct += pred.eq(labels.data.view_as(pred)).sum().item()\n",
    "    \n",
    "    test_loss /= len(test_loader.dataset)\n",
    "    \n",
    "    return test_loss"
   ]
  },
  {
   "cell_type": "code",
   "execution_count": 15,
   "id": "f172f558",
   "metadata": {},
   "outputs": [],
   "source": [
    "def rel_error(model):\n",
    "    return (torch.norm(parameters_to_vector(model.parameters()) - datapoints[model.user_id]['exact_weights']) / torch.norm(datapoints[model.user_id]['exact_weights'])).detach()"
   ]
  },
  {
   "cell_type": "code",
   "execution_count": 16,
   "id": "6e38148f",
   "metadata": {},
   "outputs": [
    {
     "data": {
      "text/plain": [
       "tensor(8.6603, dtype=torch.float64)"
      ]
     },
     "execution_count": 16,
     "metadata": {},
     "output_type": "execute_result"
    }
   ],
   "source": [
    "torch.norm(datapoints[model.user_id]['exact_weights'])"
   ]
  },
  {
   "cell_type": "code",
   "execution_count": 17,
   "id": "71472693",
   "metadata": {},
   "outputs": [
    {
     "name": "stderr",
     "output_type": "stream",
     "text": [
      "  0%|          | 2/2000 [00:00<03:52,  8.61it/s]"
     ]
    },
    {
     "name": "stdout",
     "output_type": "stream",
     "text": [
      "Training_loss 70.15044,   Relative Error 0.92818\n",
      "Training_loss 67.39997,   Relative Error 0.91148\n"
     ]
    },
    {
     "name": "stderr",
     "output_type": "stream",
     "text": [
      "  0%|          | 4/2000 [00:00<03:51,  8.62it/s]"
     ]
    },
    {
     "name": "stdout",
     "output_type": "stream",
     "text": [
      "Training_loss 63.95627,   Relative Error 0.88850\n",
      "Training_loss 60.72331,   Relative Error 0.86573\n"
     ]
    },
    {
     "name": "stderr",
     "output_type": "stream",
     "text": [
      "  0%|          | 6/2000 [00:00<04:05,  8.12it/s]"
     ]
    },
    {
     "name": "stdout",
     "output_type": "stream",
     "text": [
      "Training_loss 58.63331,   Relative Error 0.85149\n",
      "Training_loss 57.57350,   Relative Error 0.84319\n"
     ]
    },
    {
     "name": "stderr",
     "output_type": "stream",
     "text": [
      "  0%|          | 8/2000 [00:00<04:08,  8.03it/s]"
     ]
    },
    {
     "name": "stdout",
     "output_type": "stream",
     "text": [
      "Training_loss 56.88955,   Relative Error 0.83765\n",
      "Training_loss 55.16327,   Relative Error 0.82457\n"
     ]
    },
    {
     "name": "stderr",
     "output_type": "stream",
     "text": [
      "  0%|          | 10/2000 [00:01<04:10,  7.95it/s]"
     ]
    },
    {
     "name": "stdout",
     "output_type": "stream",
     "text": [
      "Training_loss 51.20518,   Relative Error 0.79428\n",
      "Training_loss 49.87214,   Relative Error 0.78333\n"
     ]
    },
    {
     "name": "stderr",
     "output_type": "stream",
     "text": [
      "  1%|          | 12/2000 [00:01<04:09,  7.97it/s]"
     ]
    },
    {
     "name": "stdout",
     "output_type": "stream",
     "text": [
      "Training_loss 48.99183,   Relative Error 0.77608\n",
      "Training_loss 47.48387,   Relative Error 0.76328\n"
     ]
    },
    {
     "name": "stderr",
     "output_type": "stream",
     "text": [
      "  1%|          | 14/2000 [00:01<04:04,  8.13it/s]"
     ]
    },
    {
     "name": "stdout",
     "output_type": "stream",
     "text": [
      "Training_loss 46.04424,   Relative Error 0.75145\n",
      "Training_loss 43.40748,   Relative Error 0.72926\n"
     ]
    },
    {
     "name": "stderr",
     "output_type": "stream",
     "text": [
      "  1%|          | 16/2000 [00:01<03:59,  8.27it/s]"
     ]
    },
    {
     "name": "stdout",
     "output_type": "stream",
     "text": [
      "Training_loss 42.21107,   Relative Error 0.71893\n",
      "Training_loss 40.48846,   Relative Error 0.70267\n"
     ]
    },
    {
     "name": "stderr",
     "output_type": "stream",
     "text": [
      "  1%|          | 18/2000 [00:02<04:01,  8.21it/s]"
     ]
    },
    {
     "name": "stdout",
     "output_type": "stream",
     "text": [
      "Training_loss 37.77292,   Relative Error 0.67928\n",
      "Training_loss 36.99171,   Relative Error 0.67233\n"
     ]
    },
    {
     "name": "stderr",
     "output_type": "stream",
     "text": [
      "  1%|          | 20/2000 [00:02<04:05,  8.08it/s]"
     ]
    },
    {
     "name": "stdout",
     "output_type": "stream",
     "text": [
      "Training_loss 35.57750,   Relative Error 0.65956\n",
      "Training_loss 33.92846,   Relative Error 0.64442\n"
     ]
    },
    {
     "name": "stderr",
     "output_type": "stream",
     "text": [
      "  1%|          | 22/2000 [00:02<04:17,  7.67it/s]"
     ]
    },
    {
     "name": "stdout",
     "output_type": "stream",
     "text": [
      "Training_loss 31.91420,   Relative Error 0.62438\n",
      "Training_loss 30.29107,   Relative Error 0.60771\n"
     ]
    },
    {
     "name": "stderr",
     "output_type": "stream",
     "text": [
      "  1%|          | 24/2000 [00:02<04:12,  7.81it/s]"
     ]
    },
    {
     "name": "stdout",
     "output_type": "stream",
     "text": [
      "Training_loss 29.15210,   Relative Error 0.59563\n",
      "Training_loss 27.74272,   Relative Error 0.58131\n"
     ]
    },
    {
     "name": "stderr",
     "output_type": "stream",
     "text": [
      "  1%|▏         | 26/2000 [00:03<04:12,  7.82it/s]"
     ]
    },
    {
     "name": "stdout",
     "output_type": "stream",
     "text": [
      "Training_loss 27.39532,   Relative Error 0.57742\n",
      "Training_loss 27.13246,   Relative Error 0.57486\n"
     ]
    },
    {
     "name": "stderr",
     "output_type": "stream",
     "text": [
      "  1%|▏         | 28/2000 [00:03<04:05,  8.04it/s]"
     ]
    },
    {
     "name": "stdout",
     "output_type": "stream",
     "text": [
      "Training_loss 26.27339,   Relative Error 0.56625\n",
      "Training_loss 25.07698,   Relative Error 0.55261\n"
     ]
    },
    {
     "name": "stderr",
     "output_type": "stream",
     "text": [
      "  2%|▏         | 30/2000 [00:03<03:54,  8.40it/s]"
     ]
    },
    {
     "name": "stdout",
     "output_type": "stream",
     "text": [
      "Training_loss 23.81408,   Relative Error 0.53851\n",
      "Training_loss 22.82763,   Relative Error 0.52749\n"
     ]
    },
    {
     "name": "stderr",
     "output_type": "stream",
     "text": [
      "  2%|▏         | 32/2000 [00:04<04:18,  7.61it/s]"
     ]
    },
    {
     "name": "stdout",
     "output_type": "stream",
     "text": [
      "Training_loss 22.14045,   Relative Error 0.51950\n",
      "Training_loss 21.20164,   Relative Error 0.50872\n"
     ]
    },
    {
     "name": "stderr",
     "output_type": "stream",
     "text": [
      "  2%|▏         | 34/2000 [00:04<04:35,  7.15it/s]"
     ]
    },
    {
     "name": "stdout",
     "output_type": "stream",
     "text": [
      "Training_loss 20.30015,   Relative Error 0.49885\n",
      "Training_loss 19.61828,   Relative Error 0.49078\n"
     ]
    },
    {
     "name": "stderr",
     "output_type": "stream",
     "text": [
      "  2%|▏         | 36/2000 [00:04<04:49,  6.78it/s]"
     ]
    },
    {
     "name": "stdout",
     "output_type": "stream",
     "text": [
      "Training_loss 19.28530,   Relative Error 0.48624\n",
      "Training_loss 18.09615,   Relative Error 0.47053\n"
     ]
    },
    {
     "name": "stderr",
     "output_type": "stream",
     "text": [
      "  2%|▏         | 38/2000 [00:04<04:53,  6.69it/s]"
     ]
    },
    {
     "name": "stdout",
     "output_type": "stream",
     "text": [
      "Training_loss 17.56649,   Relative Error 0.46381\n",
      "Training_loss 17.14713,   Relative Error 0.45822\n"
     ]
    },
    {
     "name": "stderr",
     "output_type": "stream",
     "text": [
      "  2%|▏         | 40/2000 [00:05<05:01,  6.50it/s]"
     ]
    },
    {
     "name": "stdout",
     "output_type": "stream",
     "text": [
      "Training_loss 16.64474,   Relative Error 0.45145\n",
      "Training_loss 16.06503,   Relative Error 0.44419\n"
     ]
    },
    {
     "name": "stderr",
     "output_type": "stream",
     "text": [
      "  2%|▏         | 42/2000 [00:05<05:07,  6.36it/s]"
     ]
    },
    {
     "name": "stdout",
     "output_type": "stream",
     "text": [
      "Training_loss 15.65315,   Relative Error 0.43874\n",
      "Training_loss 15.27211,   Relative Error 0.43388\n"
     ]
    },
    {
     "name": "stderr",
     "output_type": "stream",
     "text": [
      "  2%|▏         | 44/2000 [00:05<05:18,  6.14it/s]"
     ]
    },
    {
     "name": "stdout",
     "output_type": "stream",
     "text": [
      "Training_loss 15.02986,   Relative Error 0.43027\n",
      "Training_loss 14.54162,   Relative Error 0.42390\n"
     ]
    },
    {
     "name": "stderr",
     "output_type": "stream",
     "text": [
      "  2%|▏         | 46/2000 [00:06<05:07,  6.35it/s]"
     ]
    },
    {
     "name": "stdout",
     "output_type": "stream",
     "text": [
      "Training_loss 13.81370,   Relative Error 0.41179\n",
      "Training_loss 13.59981,   Relative Error 0.40821\n"
     ]
    },
    {
     "name": "stderr",
     "output_type": "stream",
     "text": [
      "  2%|▏         | 48/2000 [00:06<05:25,  6.01it/s]"
     ]
    },
    {
     "name": "stdout",
     "output_type": "stream",
     "text": [
      "Training_loss 13.36214,   Relative Error 0.40457\n",
      "Training_loss 13.07015,   Relative Error 0.39983\n"
     ]
    },
    {
     "name": "stderr",
     "output_type": "stream",
     "text": [
      "  2%|▎         | 50/2000 [00:06<05:47,  5.61it/s]"
     ]
    },
    {
     "name": "stdout",
     "output_type": "stream",
     "text": [
      "Training_loss 12.63795,   Relative Error 0.39328\n",
      "Training_loss 12.40276,   Relative Error 0.38950\n"
     ]
    },
    {
     "name": "stderr",
     "output_type": "stream",
     "text": [
      "  3%|▎         | 52/2000 [00:07<05:54,  5.49it/s]"
     ]
    },
    {
     "name": "stdout",
     "output_type": "stream",
     "text": [
      "Training_loss 12.08212,   Relative Error 0.38470\n",
      "Training_loss 11.71535,   Relative Error 0.37912\n"
     ]
    },
    {
     "name": "stderr",
     "output_type": "stream",
     "text": [
      "  3%|▎         | 54/2000 [00:07<05:08,  6.32it/s]"
     ]
    },
    {
     "name": "stdout",
     "output_type": "stream",
     "text": [
      "Training_loss 11.39775,   Relative Error 0.37454\n",
      "Training_loss 11.19662,   Relative Error 0.37130\n"
     ]
    },
    {
     "name": "stderr",
     "output_type": "stream",
     "text": [
      "  3%|▎         | 56/2000 [00:07<05:09,  6.29it/s]"
     ]
    },
    {
     "name": "stdout",
     "output_type": "stream",
     "text": [
      "Training_loss 10.83920,   Relative Error 0.36401\n",
      "Training_loss 10.57361,   Relative Error 0.35969\n"
     ]
    },
    {
     "name": "stderr",
     "output_type": "stream",
     "text": [
      "  3%|▎         | 58/2000 [00:08<05:05,  6.35it/s]"
     ]
    },
    {
     "name": "stdout",
     "output_type": "stream",
     "text": [
      "Training_loss 10.28227,   Relative Error 0.35374\n",
      "Training_loss 9.85188,   Relative Error 0.34524\n"
     ]
    },
    {
     "name": "stderr",
     "output_type": "stream",
     "text": [
      "\r",
      "  3%|▎         | 59/2000 [00:08<04:54,  6.59it/s]"
     ]
    },
    {
     "name": "stdout",
     "output_type": "stream",
     "text": [
      "Training_loss 9.51733,   Relative Error 0.33944\n"
     ]
    },
    {
     "name": "stderr",
     "output_type": "stream",
     "text": [
      "  3%|▎         | 61/2000 [00:08<05:39,  5.71it/s]"
     ]
    },
    {
     "name": "stdout",
     "output_type": "stream",
     "text": [
      "Training_loss 9.28159,   Relative Error 0.33564\n",
      "Training_loss 9.04379,   Relative Error 0.33153\n"
     ]
    },
    {
     "name": "stderr",
     "output_type": "stream",
     "text": [
      "  3%|▎         | 63/2000 [00:09<05:32,  5.82it/s]"
     ]
    },
    {
     "name": "stdout",
     "output_type": "stream",
     "text": [
      "Training_loss 8.85621,   Relative Error 0.32801\n",
      "Training_loss 8.65654,   Relative Error 0.32447\n"
     ]
    },
    {
     "name": "stderr",
     "output_type": "stream",
     "text": [
      "  3%|▎         | 65/2000 [00:09<05:18,  6.07it/s]"
     ]
    },
    {
     "name": "stdout",
     "output_type": "stream",
     "text": [
      "Training_loss 8.33983,   Relative Error 0.31902\n",
      "Training_loss 7.93969,   Relative Error 0.31131\n"
     ]
    },
    {
     "name": "stderr",
     "output_type": "stream",
     "text": [
      "  3%|▎         | 67/2000 [00:09<04:53,  6.59it/s]"
     ]
    },
    {
     "name": "stdout",
     "output_type": "stream",
     "text": [
      "Training_loss 7.71217,   Relative Error 0.30702\n",
      "Training_loss 7.55643,   Relative Error 0.30392\n"
     ]
    },
    {
     "name": "stderr",
     "output_type": "stream",
     "text": [
      "  3%|▎         | 69/2000 [00:09<04:43,  6.82it/s]"
     ]
    },
    {
     "name": "stdout",
     "output_type": "stream",
     "text": [
      "Training_loss 7.48550,   Relative Error 0.30260\n",
      "Training_loss 7.25371,   Relative Error 0.29797\n"
     ]
    },
    {
     "name": "stderr",
     "output_type": "stream",
     "text": [
      "  4%|▎         | 71/2000 [00:10<05:21,  6.00it/s]"
     ]
    },
    {
     "name": "stdout",
     "output_type": "stream",
     "text": [
      "Training_loss 6.96826,   Relative Error 0.29146\n",
      "Training_loss 6.63077,   Relative Error 0.28428\n"
     ]
    },
    {
     "name": "stderr",
     "output_type": "stream",
     "text": [
      "  4%|▎         | 73/2000 [00:10<06:07,  5.24it/s]"
     ]
    },
    {
     "name": "stdout",
     "output_type": "stream",
     "text": [
      "Training_loss 6.43972,   Relative Error 0.28024\n",
      "Training_loss 6.29180,   Relative Error 0.27715\n"
     ]
    },
    {
     "name": "stderr",
     "output_type": "stream",
     "text": [
      "\r",
      "  4%|▎         | 74/2000 [00:10<06:13,  5.15it/s]"
     ]
    },
    {
     "name": "stdout",
     "output_type": "stream",
     "text": [
      "Training_loss 6.10516,   Relative Error 0.27300\n"
     ]
    },
    {
     "name": "stderr",
     "output_type": "stream",
     "text": [
      "  4%|▍         | 76/2000 [00:11<06:24,  5.01it/s]"
     ]
    },
    {
     "name": "stdout",
     "output_type": "stream",
     "text": [
      "Training_loss 5.95376,   Relative Error 0.26963\n",
      "Training_loss 5.82966,   Relative Error 0.26646\n"
     ]
    },
    {
     "name": "stderr",
     "output_type": "stream",
     "text": [
      "  4%|▍         | 78/2000 [00:11<06:07,  5.23it/s]"
     ]
    },
    {
     "name": "stdout",
     "output_type": "stream",
     "text": [
      "Training_loss 5.75053,   Relative Error 0.26405\n",
      "Training_loss 5.64457,   Relative Error 0.26160\n"
     ]
    },
    {
     "name": "stderr",
     "output_type": "stream",
     "text": [
      "  4%|▍         | 80/2000 [00:12<06:04,  5.27it/s]"
     ]
    },
    {
     "name": "stdout",
     "output_type": "stream",
     "text": [
      "Training_loss 5.52009,   Relative Error 0.25859\n",
      "Training_loss 5.38064,   Relative Error 0.25488\n"
     ]
    },
    {
     "name": "stderr",
     "output_type": "stream",
     "text": [
      "  4%|▍         | 82/2000 [00:12<06:00,  5.31it/s]"
     ]
    },
    {
     "name": "stdout",
     "output_type": "stream",
     "text": [
      "Training_loss 5.21673,   Relative Error 0.25084\n",
      "Training_loss 5.04864,   Relative Error 0.24666\n"
     ]
    },
    {
     "name": "stderr",
     "output_type": "stream",
     "text": [
      "  4%|▍         | 84/2000 [00:12<06:22,  5.01it/s]"
     ]
    },
    {
     "name": "stdout",
     "output_type": "stream",
     "text": [
      "Training_loss 4.93873,   Relative Error 0.24421\n",
      "Training_loss 4.79926,   Relative Error 0.23984\n"
     ]
    },
    {
     "name": "stderr",
     "output_type": "stream",
     "text": [
      "\r",
      "  4%|▍         | 85/2000 [00:13<06:40,  4.78it/s]"
     ]
    },
    {
     "name": "stdout",
     "output_type": "stream",
     "text": [
      "Training_loss 4.71945,   Relative Error 0.23799\n"
     ]
    },
    {
     "name": "stderr",
     "output_type": "stream",
     "text": [
      "  4%|▍         | 87/2000 [00:13<06:43,  4.74it/s]"
     ]
    },
    {
     "name": "stdout",
     "output_type": "stream",
     "text": [
      "Training_loss 4.55681,   Relative Error 0.23423\n",
      "Training_loss 4.41629,   Relative Error 0.23054\n"
     ]
    },
    {
     "name": "stderr",
     "output_type": "stream",
     "text": [
      "  4%|▍         | 89/2000 [00:14<06:15,  5.09it/s]"
     ]
    },
    {
     "name": "stdout",
     "output_type": "stream",
     "text": [
      "Training_loss 4.31655,   Relative Error 0.22804\n",
      "Training_loss 4.24798,   Relative Error 0.22604\n"
     ]
    },
    {
     "name": "stderr",
     "output_type": "stream",
     "text": [
      "  5%|▍         | 91/2000 [00:14<05:56,  5.35it/s]"
     ]
    },
    {
     "name": "stdout",
     "output_type": "stream",
     "text": [
      "Training_loss 4.19839,   Relative Error 0.22441\n",
      "Training_loss 4.03937,   Relative Error 0.22048\n"
     ]
    },
    {
     "name": "stderr",
     "output_type": "stream",
     "text": [
      "  5%|▍         | 93/2000 [00:14<05:17,  6.00it/s]"
     ]
    },
    {
     "name": "stdout",
     "output_type": "stream",
     "text": [
      "Training_loss 3.90645,   Relative Error 0.21709\n",
      "Training_loss 3.78717,   Relative Error 0.21373\n"
     ]
    },
    {
     "name": "stderr",
     "output_type": "stream",
     "text": [
      "  5%|▍         | 95/2000 [00:15<06:06,  5.20it/s]"
     ]
    },
    {
     "name": "stdout",
     "output_type": "stream",
     "text": [
      "Training_loss 3.65297,   Relative Error 0.20921\n",
      "Training_loss 3.58358,   Relative Error 0.20719\n"
     ]
    },
    {
     "name": "stderr",
     "output_type": "stream",
     "text": [
      "  5%|▍         | 97/2000 [00:15<05:27,  5.80it/s]"
     ]
    },
    {
     "name": "stdout",
     "output_type": "stream",
     "text": [
      "Training_loss 3.47186,   Relative Error 0.20411\n",
      "Training_loss 3.37003,   Relative Error 0.20099\n"
     ]
    },
    {
     "name": "stderr",
     "output_type": "stream",
     "text": [
      "  5%|▍         | 99/2000 [00:15<05:08,  6.17it/s]"
     ]
    },
    {
     "name": "stdout",
     "output_type": "stream",
     "text": [
      "Training_loss 3.28426,   Relative Error 0.19867\n",
      "Training_loss 3.17725,   Relative Error 0.19520\n"
     ]
    },
    {
     "name": "stderr",
     "output_type": "stream",
     "text": [
      "  5%|▌         | 101/2000 [00:16<05:22,  5.89it/s]"
     ]
    },
    {
     "name": "stdout",
     "output_type": "stream",
     "text": [
      "Training_loss 3.08882,   Relative Error 0.19247\n",
      "Training_loss 3.00087,   Relative Error 0.18978\n"
     ]
    },
    {
     "name": "stderr",
     "output_type": "stream",
     "text": [
      "  5%|▌         | 103/2000 [00:16<05:34,  5.67it/s]"
     ]
    },
    {
     "name": "stdout",
     "output_type": "stream",
     "text": [
      "Training_loss 2.91994,   Relative Error 0.18710\n",
      "Training_loss 2.86315,   Relative Error 0.18532\n"
     ]
    },
    {
     "name": "stderr",
     "output_type": "stream",
     "text": [
      "\r",
      "  5%|▌         | 104/2000 [00:16<05:19,  5.93it/s]"
     ]
    },
    {
     "name": "stdout",
     "output_type": "stream",
     "text": [
      "Training_loss 2.82149,   Relative Error 0.18384\n"
     ]
    },
    {
     "name": "stderr",
     "output_type": "stream",
     "text": [
      "  5%|▌         | 106/2000 [00:16<05:38,  5.60it/s]"
     ]
    },
    {
     "name": "stdout",
     "output_type": "stream",
     "text": [
      "Training_loss 2.75620,   Relative Error 0.18179\n",
      "Training_loss 2.68871,   Relative Error 0.17895\n"
     ]
    },
    {
     "name": "stderr",
     "output_type": "stream",
     "text": [
      "\r",
      "  5%|▌         | 107/2000 [00:17<05:30,  5.73it/s]"
     ]
    },
    {
     "name": "stdout",
     "output_type": "stream",
     "text": [
      "Training_loss 2.60389,   Relative Error 0.17612\n"
     ]
    },
    {
     "name": "stderr",
     "output_type": "stream",
     "text": [
      "\r",
      "  5%|▌         | 108/2000 [00:17<06:04,  5.20it/s]"
     ]
    },
    {
     "name": "stdout",
     "output_type": "stream",
     "text": [
      "Training_loss 2.56135,   Relative Error 0.17468\n"
     ]
    },
    {
     "name": "stderr",
     "output_type": "stream",
     "text": [
      "  6%|▌         | 110/2000 [00:17<06:20,  4.97it/s]"
     ]
    },
    {
     "name": "stdout",
     "output_type": "stream",
     "text": [
      "Training_loss 2.52474,   Relative Error 0.17334\n",
      "Training_loss 2.43797,   Relative Error 0.17010\n"
     ]
    },
    {
     "name": "stderr",
     "output_type": "stream",
     "text": [
      "  6%|▌         | 112/2000 [00:18<05:34,  5.65it/s]"
     ]
    },
    {
     "name": "stdout",
     "output_type": "stream",
     "text": [
      "Training_loss 2.36191,   Relative Error 0.16756\n",
      "Training_loss 2.30320,   Relative Error 0.16550\n"
     ]
    },
    {
     "name": "stderr",
     "output_type": "stream",
     "text": [
      "\r",
      "  6%|▌         | 113/2000 [00:18<05:20,  5.89it/s]"
     ]
    },
    {
     "name": "stdout",
     "output_type": "stream",
     "text": [
      "Training_loss 2.20887,   Relative Error 0.16216\n"
     ]
    },
    {
     "name": "stderr",
     "output_type": "stream",
     "text": [
      "  6%|▌         | 115/2000 [00:18<05:34,  5.64it/s]"
     ]
    },
    {
     "name": "stdout",
     "output_type": "stream",
     "text": [
      "Training_loss 2.17451,   Relative Error 0.16090\n",
      "Training_loss 2.13851,   Relative Error 0.15941\n"
     ]
    },
    {
     "name": "stderr",
     "output_type": "stream",
     "text": [
      "\r",
      "  6%|▌         | 116/2000 [00:18<05:15,  5.98it/s]"
     ]
    },
    {
     "name": "stdout",
     "output_type": "stream",
     "text": [
      "Training_loss 2.08955,   Relative Error 0.15751\n"
     ]
    },
    {
     "name": "stderr",
     "output_type": "stream",
     "text": [
      "  6%|▌         | 118/2000 [00:19<06:03,  5.17it/s]"
     ]
    },
    {
     "name": "stdout",
     "output_type": "stream",
     "text": [
      "Training_loss 2.04034,   Relative Error 0.15559\n",
      "Training_loss 1.98280,   Relative Error 0.15312\n"
     ]
    },
    {
     "name": "stderr",
     "output_type": "stream",
     "text": [
      "  6%|▌         | 120/2000 [00:19<05:27,  5.75it/s]"
     ]
    },
    {
     "name": "stdout",
     "output_type": "stream",
     "text": [
      "Training_loss 1.92352,   Relative Error 0.15073\n",
      "Training_loss 1.87881,   Relative Error 0.14897\n"
     ]
    },
    {
     "name": "stderr",
     "output_type": "stream",
     "text": [
      "  6%|▌         | 122/2000 [00:19<04:57,  6.30it/s]"
     ]
    },
    {
     "name": "stdout",
     "output_type": "stream",
     "text": [
      "Training_loss 1.81200,   Relative Error 0.14632\n",
      "Training_loss 1.77368,   Relative Error 0.14491\n"
     ]
    },
    {
     "name": "stderr",
     "output_type": "stream",
     "text": [
      "  6%|▌         | 124/2000 [00:20<04:46,  6.55it/s]"
     ]
    },
    {
     "name": "stdout",
     "output_type": "stream",
     "text": [
      "Training_loss 1.73605,   Relative Error 0.14331\n",
      "Training_loss 1.69460,   Relative Error 0.14112\n"
     ]
    },
    {
     "name": "stderr",
     "output_type": "stream",
     "text": [
      "  6%|▋         | 126/2000 [00:20<04:38,  6.73it/s]"
     ]
    },
    {
     "name": "stdout",
     "output_type": "stream",
     "text": [
      "Training_loss 1.62679,   Relative Error 0.13788\n",
      "Training_loss 1.56788,   Relative Error 0.13553\n"
     ]
    },
    {
     "name": "stderr",
     "output_type": "stream",
     "text": [
      "  6%|▋         | 128/2000 [00:20<04:51,  6.43it/s]"
     ]
    },
    {
     "name": "stdout",
     "output_type": "stream",
     "text": [
      "Training_loss 1.53949,   Relative Error 0.13445\n",
      "Training_loss 1.49488,   Relative Error 0.13223\n"
     ]
    },
    {
     "name": "stderr",
     "output_type": "stream",
     "text": [
      "  6%|▋         | 130/2000 [00:21<04:49,  6.46it/s]"
     ]
    },
    {
     "name": "stdout",
     "output_type": "stream",
     "text": [
      "Training_loss 1.46870,   Relative Error 0.13085\n",
      "Training_loss 1.42946,   Relative Error 0.12926\n"
     ]
    },
    {
     "name": "stderr",
     "output_type": "stream",
     "text": [
      "  7%|▋         | 132/2000 [00:21<04:48,  6.48it/s]"
     ]
    },
    {
     "name": "stdout",
     "output_type": "stream",
     "text": [
      "Training_loss 1.37843,   Relative Error 0.12672\n",
      "Training_loss 1.35792,   Relative Error 0.12575\n"
     ]
    },
    {
     "name": "stderr",
     "output_type": "stream",
     "text": [
      "  7%|▋         | 134/2000 [00:21<04:30,  6.91it/s]"
     ]
    },
    {
     "name": "stdout",
     "output_type": "stream",
     "text": [
      "Training_loss 1.33619,   Relative Error 0.12463\n",
      "Training_loss 1.29716,   Relative Error 0.12268\n"
     ]
    },
    {
     "name": "stderr",
     "output_type": "stream",
     "text": [
      "  7%|▋         | 136/2000 [00:21<04:32,  6.85it/s]"
     ]
    },
    {
     "name": "stdout",
     "output_type": "stream",
     "text": [
      "Training_loss 1.26629,   Relative Error 0.12129\n",
      "Training_loss 1.23605,   Relative Error 0.12007\n"
     ]
    },
    {
     "name": "stderr",
     "output_type": "stream",
     "text": [
      "  7%|▋         | 138/2000 [00:22<05:32,  5.60it/s]"
     ]
    },
    {
     "name": "stdout",
     "output_type": "stream",
     "text": [
      "Training_loss 1.21884,   Relative Error 0.11926\n",
      "Training_loss 1.18261,   Relative Error 0.11722\n"
     ]
    },
    {
     "name": "stderr",
     "output_type": "stream",
     "text": [
      "  7%|▋         | 140/2000 [00:22<05:11,  5.97it/s]"
     ]
    },
    {
     "name": "stdout",
     "output_type": "stream",
     "text": [
      "Training_loss 1.13614,   Relative Error 0.11493\n",
      "Training_loss 1.08860,   Relative Error 0.11259\n"
     ]
    },
    {
     "name": "stderr",
     "output_type": "stream",
     "text": [
      "\r",
      "  7%|▋         | 141/2000 [00:22<04:52,  6.36it/s]"
     ]
    },
    {
     "name": "stdout",
     "output_type": "stream",
     "text": [
      "Training_loss 1.07123,   Relative Error 0.11169\n"
     ]
    },
    {
     "name": "stderr",
     "output_type": "stream",
     "text": [
      "  7%|▋         | 143/2000 [00:23<06:06,  5.06it/s]"
     ]
    },
    {
     "name": "stdout",
     "output_type": "stream",
     "text": [
      "Training_loss 1.05152,   Relative Error 0.11060\n",
      "Training_loss 1.03415,   Relative Error 0.10980\n"
     ]
    },
    {
     "name": "stderr",
     "output_type": "stream",
     "text": [
      "  7%|▋         | 145/2000 [00:23<06:10,  5.01it/s]"
     ]
    },
    {
     "name": "stdout",
     "output_type": "stream",
     "text": [
      "Training_loss 1.01729,   Relative Error 0.10880\n",
      "Training_loss 1.00705,   Relative Error 0.10820\n"
     ]
    },
    {
     "name": "stderr",
     "output_type": "stream",
     "text": [
      "  7%|▋         | 147/2000 [00:24<05:40,  5.44it/s]"
     ]
    },
    {
     "name": "stdout",
     "output_type": "stream",
     "text": [
      "Training_loss 0.97357,   Relative Error 0.10653\n",
      "Training_loss 0.95968,   Relative Error 0.10584\n"
     ]
    },
    {
     "name": "stderr",
     "output_type": "stream",
     "text": [
      "  7%|▋         | 149/2000 [00:24<05:29,  5.62it/s]"
     ]
    },
    {
     "name": "stdout",
     "output_type": "stream",
     "text": [
      "Training_loss 0.92253,   Relative Error 0.10360\n",
      "Training_loss 0.89254,   Relative Error 0.10183\n"
     ]
    },
    {
     "name": "stderr",
     "output_type": "stream",
     "text": [
      "  8%|▊         | 151/2000 [00:24<05:13,  5.91it/s]"
     ]
    },
    {
     "name": "stdout",
     "output_type": "stream",
     "text": [
      "Training_loss 0.86725,   Relative Error 0.10040\n",
      "Training_loss 0.83403,   Relative Error 0.09856\n"
     ]
    },
    {
     "name": "stderr",
     "output_type": "stream",
     "text": [
      "\r",
      "  8%|▊         | 152/2000 [00:24<04:56,  6.24it/s]"
     ]
    },
    {
     "name": "stdout",
     "output_type": "stream",
     "text": [
      "Training_loss 0.81599,   Relative Error 0.09735\n"
     ]
    },
    {
     "name": "stderr",
     "output_type": "stream",
     "text": [
      "\r",
      "  8%|▊         | 153/2000 [00:25<05:46,  5.33it/s]"
     ]
    },
    {
     "name": "stdout",
     "output_type": "stream",
     "text": [
      "Training_loss 0.79230,   Relative Error 0.09601\n"
     ]
    },
    {
     "name": "stderr",
     "output_type": "stream",
     "text": [
      "  8%|▊         | 155/2000 [00:25<05:27,  5.63it/s]"
     ]
    },
    {
     "name": "stdout",
     "output_type": "stream",
     "text": [
      "Training_loss 0.76958,   Relative Error 0.09473\n",
      "Training_loss 0.74594,   Relative Error 0.09328\n"
     ]
    },
    {
     "name": "stderr",
     "output_type": "stream",
     "text": [
      "  8%|▊         | 157/2000 [00:25<04:50,  6.35it/s]"
     ]
    },
    {
     "name": "stdout",
     "output_type": "stream",
     "text": [
      "Training_loss 0.72958,   Relative Error 0.09222\n",
      "Training_loss 0.71272,   Relative Error 0.09076\n"
     ]
    },
    {
     "name": "stderr",
     "output_type": "stream",
     "text": [
      "  8%|▊         | 159/2000 [00:25<04:28,  6.85it/s]"
     ]
    },
    {
     "name": "stdout",
     "output_type": "stream",
     "text": [
      "Training_loss 0.69767,   Relative Error 0.08973\n",
      "Training_loss 0.67252,   Relative Error 0.08829\n"
     ]
    },
    {
     "name": "stderr",
     "output_type": "stream",
     "text": [
      "  8%|▊         | 161/2000 [00:26<04:35,  6.68it/s]"
     ]
    },
    {
     "name": "stdout",
     "output_type": "stream",
     "text": [
      "Training_loss 0.65120,   Relative Error 0.08667\n",
      "Training_loss 0.63897,   Relative Error 0.08581\n"
     ]
    },
    {
     "name": "stderr",
     "output_type": "stream",
     "text": [
      "  8%|▊         | 163/2000 [00:26<04:59,  6.13it/s]"
     ]
    },
    {
     "name": "stdout",
     "output_type": "stream",
     "text": [
      "Training_loss 0.61484,   Relative Error 0.08421\n",
      "Training_loss 0.60136,   Relative Error 0.08330\n"
     ]
    },
    {
     "name": "stderr",
     "output_type": "stream",
     "text": [
      "  8%|▊         | 165/2000 [00:27<05:20,  5.73it/s]"
     ]
    },
    {
     "name": "stdout",
     "output_type": "stream",
     "text": [
      "Training_loss 0.58591,   Relative Error 0.08234\n",
      "Training_loss 0.56860,   Relative Error 0.08094\n"
     ]
    },
    {
     "name": "stderr",
     "output_type": "stream",
     "text": [
      "  8%|▊         | 167/2000 [00:27<05:02,  6.07it/s]"
     ]
    },
    {
     "name": "stdout",
     "output_type": "stream",
     "text": [
      "Training_loss 0.55800,   Relative Error 0.08022\n",
      "Training_loss 0.54837,   Relative Error 0.07953\n"
     ]
    },
    {
     "name": "stderr",
     "output_type": "stream",
     "text": [
      "  8%|▊         | 169/2000 [00:27<04:35,  6.65it/s]"
     ]
    },
    {
     "name": "stdout",
     "output_type": "stream",
     "text": [
      "Training_loss 0.52939,   Relative Error 0.07808\n",
      "Training_loss 0.51527,   Relative Error 0.07682\n"
     ]
    },
    {
     "name": "stderr",
     "output_type": "stream",
     "text": [
      "  9%|▊         | 171/2000 [00:27<04:49,  6.31it/s]"
     ]
    },
    {
     "name": "stdout",
     "output_type": "stream",
     "text": [
      "Training_loss 0.49562,   Relative Error 0.07534\n",
      "Training_loss 0.47607,   Relative Error 0.07396\n"
     ]
    },
    {
     "name": "stderr",
     "output_type": "stream",
     "text": [
      "  9%|▊         | 173/2000 [00:28<04:45,  6.40it/s]"
     ]
    },
    {
     "name": "stdout",
     "output_type": "stream",
     "text": [
      "Training_loss 0.45810,   Relative Error 0.07276\n",
      "Training_loss 0.43750,   Relative Error 0.07104\n"
     ]
    },
    {
     "name": "stderr",
     "output_type": "stream",
     "text": [
      "  9%|▉         | 175/2000 [00:28<04:44,  6.42it/s]"
     ]
    },
    {
     "name": "stdout",
     "output_type": "stream",
     "text": [
      "Training_loss 0.42585,   Relative Error 0.07014\n",
      "Training_loss 0.42070,   Relative Error 0.06971\n"
     ]
    },
    {
     "name": "stderr",
     "output_type": "stream",
     "text": [
      "  9%|▉         | 177/2000 [00:28<04:36,  6.60it/s]"
     ]
    },
    {
     "name": "stdout",
     "output_type": "stream",
     "text": [
      "Training_loss 0.40713,   Relative Error 0.06853\n",
      "Training_loss 0.39472,   Relative Error 0.06750\n"
     ]
    },
    {
     "name": "stderr",
     "output_type": "stream",
     "text": [
      "  9%|▉         | 179/2000 [00:29<04:23,  6.90it/s]"
     ]
    },
    {
     "name": "stdout",
     "output_type": "stream",
     "text": [
      "Training_loss 0.38367,   Relative Error 0.06632\n",
      "Training_loss 0.37556,   Relative Error 0.06564\n"
     ]
    },
    {
     "name": "stderr",
     "output_type": "stream",
     "text": [
      "\r",
      "  9%|▉         | 180/2000 [00:29<04:53,  6.21it/s]"
     ]
    },
    {
     "name": "stdout",
     "output_type": "stream",
     "text": [
      "Training_loss 0.36617,   Relative Error 0.06461\n"
     ]
    },
    {
     "name": "stderr",
     "output_type": "stream",
     "text": [
      "  9%|▉         | 182/2000 [00:29<04:56,  6.14it/s]"
     ]
    },
    {
     "name": "stdout",
     "output_type": "stream",
     "text": [
      "Training_loss 0.35740,   Relative Error 0.06383\n",
      "Training_loss 0.34951,   Relative Error 0.06314\n"
     ]
    },
    {
     "name": "stderr",
     "output_type": "stream",
     "text": [
      "  9%|▉         | 184/2000 [00:29<04:35,  6.60it/s]"
     ]
    },
    {
     "name": "stdout",
     "output_type": "stream",
     "text": [
      "Training_loss 0.33901,   Relative Error 0.06201\n",
      "Training_loss 0.32858,   Relative Error 0.06110\n"
     ]
    },
    {
     "name": "stderr",
     "output_type": "stream",
     "text": [
      "  9%|▉         | 186/2000 [00:30<04:23,  6.89it/s]"
     ]
    },
    {
     "name": "stdout",
     "output_type": "stream",
     "text": [
      "Training_loss 0.32020,   Relative Error 0.06036\n",
      "Training_loss 0.30865,   Relative Error 0.05916\n"
     ]
    },
    {
     "name": "stderr",
     "output_type": "stream",
     "text": [
      "  9%|▉         | 188/2000 [00:30<04:20,  6.95it/s]"
     ]
    },
    {
     "name": "stdout",
     "output_type": "stream",
     "text": [
      "Training_loss 0.30159,   Relative Error 0.05847\n",
      "Training_loss 0.29453,   Relative Error 0.05779\n"
     ]
    },
    {
     "name": "stderr",
     "output_type": "stream",
     "text": [
      "\r",
      "  9%|▉         | 189/2000 [00:30<04:45,  6.35it/s]"
     ]
    },
    {
     "name": "stdout",
     "output_type": "stream",
     "text": [
      "Training_loss 0.28234,   Relative Error 0.05665\n"
     ]
    },
    {
     "name": "stderr",
     "output_type": "stream",
     "text": [
      " 10%|▉         | 191/2000 [00:31<05:05,  5.92it/s]"
     ]
    },
    {
     "name": "stdout",
     "output_type": "stream",
     "text": [
      "Training_loss 0.27078,   Relative Error 0.05550\n",
      "Training_loss 0.26119,   Relative Error 0.05439\n"
     ]
    },
    {
     "name": "stderr",
     "output_type": "stream",
     "text": [
      " 10%|▉         | 193/2000 [00:31<05:11,  5.80it/s]"
     ]
    },
    {
     "name": "stdout",
     "output_type": "stream",
     "text": [
      "Training_loss 0.25453,   Relative Error 0.05375\n",
      "Training_loss 0.24786,   Relative Error 0.05307\n"
     ]
    },
    {
     "name": "stderr",
     "output_type": "stream",
     "text": [
      " 10%|▉         | 195/2000 [00:31<05:21,  5.62it/s]"
     ]
    },
    {
     "name": "stdout",
     "output_type": "stream",
     "text": [
      "Training_loss 0.24029,   Relative Error 0.05212\n",
      "Training_loss 0.23469,   Relative Error 0.05154\n"
     ]
    },
    {
     "name": "stderr",
     "output_type": "stream",
     "text": [
      " 10%|▉         | 197/2000 [00:32<05:38,  5.33it/s]"
     ]
    },
    {
     "name": "stdout",
     "output_type": "stream",
     "text": [
      "Training_loss 0.22822,   Relative Error 0.05089\n",
      "Training_loss 0.22178,   Relative Error 0.05000\n"
     ]
    },
    {
     "name": "stderr",
     "output_type": "stream",
     "text": [
      " 10%|▉         | 199/2000 [00:32<05:36,  5.35it/s]"
     ]
    },
    {
     "name": "stdout",
     "output_type": "stream",
     "text": [
      "Training_loss 0.21431,   Relative Error 0.04903\n",
      "Training_loss 0.21059,   Relative Error 0.04860\n"
     ]
    },
    {
     "name": "stderr",
     "output_type": "stream",
     "text": [
      " 10%|█         | 201/2000 [00:32<05:17,  5.66it/s]"
     ]
    },
    {
     "name": "stdout",
     "output_type": "stream",
     "text": [
      "Training_loss 0.20582,   Relative Error 0.04803\n",
      "Training_loss 0.20120,   Relative Error 0.04747\n"
     ]
    },
    {
     "name": "stderr",
     "output_type": "stream",
     "text": [
      " 10%|█         | 203/2000 [00:33<05:00,  5.98it/s]"
     ]
    },
    {
     "name": "stdout",
     "output_type": "stream",
     "text": [
      "Training_loss 0.19716,   Relative Error 0.04700\n",
      "Training_loss 0.19348,   Relative Error 0.04661\n"
     ]
    },
    {
     "name": "stderr",
     "output_type": "stream",
     "text": [
      " 10%|█         | 205/2000 [00:33<04:35,  6.51it/s]"
     ]
    },
    {
     "name": "stdout",
     "output_type": "stream",
     "text": [
      "Training_loss 0.19061,   Relative Error 0.04626\n",
      "Training_loss 0.18260,   Relative Error 0.04527\n"
     ]
    },
    {
     "name": "stderr",
     "output_type": "stream",
     "text": [
      " 10%|█         | 207/2000 [00:33<04:33,  6.56it/s]"
     ]
    },
    {
     "name": "stdout",
     "output_type": "stream",
     "text": [
      "Training_loss 0.17966,   Relative Error 0.04492\n",
      "Training_loss 0.17303,   Relative Error 0.04413\n"
     ]
    },
    {
     "name": "stderr",
     "output_type": "stream",
     "text": [
      "\r",
      " 10%|█         | 208/2000 [00:33<04:31,  6.60it/s]"
     ]
    },
    {
     "name": "stdout",
     "output_type": "stream",
     "text": [
      "Training_loss 0.16613,   Relative Error 0.04329\n"
     ]
    },
    {
     "name": "stderr",
     "output_type": "stream",
     "text": [
      " 10%|█         | 210/2000 [00:34<05:12,  5.73it/s]"
     ]
    },
    {
     "name": "stdout",
     "output_type": "stream",
     "text": [
      "Training_loss 0.16102,   Relative Error 0.04250\n",
      "Training_loss 0.15968,   Relative Error 0.04233\n"
     ]
    },
    {
     "name": "stderr",
     "output_type": "stream",
     "text": [
      " 11%|█         | 212/2000 [00:34<05:18,  5.62it/s]"
     ]
    },
    {
     "name": "stdout",
     "output_type": "stream",
     "text": [
      "Training_loss 0.15705,   Relative Error 0.04196\n",
      "Training_loss 0.15211,   Relative Error 0.04128\n"
     ]
    },
    {
     "name": "stderr",
     "output_type": "stream",
     "text": [
      " 11%|█         | 214/2000 [00:35<05:16,  5.64it/s]"
     ]
    },
    {
     "name": "stdout",
     "output_type": "stream",
     "text": [
      "Training_loss 0.14984,   Relative Error 0.04096\n",
      "Training_loss 0.14476,   Relative Error 0.04014\n"
     ]
    },
    {
     "name": "stderr",
     "output_type": "stream",
     "text": [
      " 11%|█         | 216/2000 [00:35<04:54,  6.05it/s]"
     ]
    },
    {
     "name": "stdout",
     "output_type": "stream",
     "text": [
      "Training_loss 0.14105,   Relative Error 0.03961\n",
      "Training_loss 0.13773,   Relative Error 0.03914\n"
     ]
    },
    {
     "name": "stderr",
     "output_type": "stream",
     "text": [
      " 11%|█         | 218/2000 [00:35<04:40,  6.36it/s]"
     ]
    },
    {
     "name": "stdout",
     "output_type": "stream",
     "text": [
      "Training_loss 0.13541,   Relative Error 0.03886\n",
      "Training_loss 0.13155,   Relative Error 0.03826\n"
     ]
    },
    {
     "name": "stderr",
     "output_type": "stream",
     "text": [
      " 11%|█         | 220/2000 [00:36<04:40,  6.34it/s]"
     ]
    },
    {
     "name": "stdout",
     "output_type": "stream",
     "text": [
      "Training_loss 0.12836,   Relative Error 0.03782\n",
      "Training_loss 0.12317,   Relative Error 0.03707\n"
     ]
    },
    {
     "name": "stderr",
     "output_type": "stream",
     "text": [
      "\r",
      " 11%|█         | 221/2000 [00:36<04:29,  6.60it/s]"
     ]
    },
    {
     "name": "stdout",
     "output_type": "stream",
     "text": [
      "Training_loss 0.11993,   Relative Error 0.03657\n"
     ]
    },
    {
     "name": "stderr",
     "output_type": "stream",
     "text": [
      "\r",
      " 11%|█         | 222/2000 [00:36<05:12,  5.70it/s]"
     ]
    },
    {
     "name": "stdout",
     "output_type": "stream",
     "text": [
      "Training_loss 0.11785,   Relative Error 0.03621\n"
     ]
    },
    {
     "name": "stderr",
     "output_type": "stream",
     "text": [
      " 11%|█         | 224/2000 [00:36<05:45,  5.14it/s]"
     ]
    },
    {
     "name": "stdout",
     "output_type": "stream",
     "text": [
      "Training_loss 0.11626,   Relative Error 0.03598\n",
      "Training_loss 0.11436,   Relative Error 0.03568\n"
     ]
    },
    {
     "name": "stderr",
     "output_type": "stream",
     "text": [
      " 11%|█▏        | 226/2000 [00:37<05:19,  5.56it/s]"
     ]
    },
    {
     "name": "stdout",
     "output_type": "stream",
     "text": [
      "Training_loss 0.11029,   Relative Error 0.03503\n",
      "Training_loss 0.10743,   Relative Error 0.03461\n"
     ]
    },
    {
     "name": "stderr",
     "output_type": "stream",
     "text": [
      "\r",
      " 11%|█▏        | 227/2000 [00:37<04:54,  6.03it/s]"
     ]
    },
    {
     "name": "stdout",
     "output_type": "stream",
     "text": [
      "Training_loss 0.10376,   Relative Error 0.03397\n"
     ]
    },
    {
     "name": "stderr",
     "output_type": "stream",
     "text": [
      "\r",
      " 11%|█▏        | 228/2000 [00:37<05:38,  5.23it/s]"
     ]
    },
    {
     "name": "stdout",
     "output_type": "stream",
     "text": [
      "Training_loss 0.10208,   Relative Error 0.03372\n"
     ]
    },
    {
     "name": "stderr",
     "output_type": "stream",
     "text": [
      " 12%|█▏        | 230/2000 [00:38<05:56,  4.97it/s]"
     ]
    },
    {
     "name": "stdout",
     "output_type": "stream",
     "text": [
      "Training_loss 0.09880,   Relative Error 0.03326\n",
      "Training_loss 0.09678,   Relative Error 0.03294\n"
     ]
    },
    {
     "name": "stderr",
     "output_type": "stream",
     "text": [
      "\r",
      " 12%|█▏        | 231/2000 [00:38<06:22,  4.63it/s]"
     ]
    },
    {
     "name": "stdout",
     "output_type": "stream",
     "text": [
      "Training_loss 0.09428,   Relative Error 0.03252\n"
     ]
    },
    {
     "name": "stderr",
     "output_type": "stream",
     "text": [
      "\r",
      " 12%|█▏        | 232/2000 [00:38<06:33,  4.50it/s]"
     ]
    },
    {
     "name": "stdout",
     "output_type": "stream",
     "text": [
      "Training_loss 0.09293,   Relative Error 0.03229\n"
     ]
    },
    {
     "name": "stderr",
     "output_type": "stream",
     "text": [
      "\r",
      " 12%|█▏        | 233/2000 [00:38<06:54,  4.26it/s]"
     ]
    },
    {
     "name": "stdout",
     "output_type": "stream",
     "text": [
      "Training_loss 0.08987,   Relative Error 0.03169\n"
     ]
    },
    {
     "name": "stderr",
     "output_type": "stream",
     "text": [
      " 12%|█▏        | 235/2000 [00:39<06:26,  4.56it/s]"
     ]
    },
    {
     "name": "stdout",
     "output_type": "stream",
     "text": [
      "Training_loss 0.08769,   Relative Error 0.03135\n",
      "Training_loss 0.08471,   Relative Error 0.03085\n"
     ]
    },
    {
     "name": "stderr",
     "output_type": "stream",
     "text": [
      "\r",
      " 12%|█▏        | 236/2000 [00:39<05:41,  5.17it/s]"
     ]
    },
    {
     "name": "stdout",
     "output_type": "stream",
     "text": [
      "Training_loss 0.08330,   Relative Error 0.03061\n"
     ]
    },
    {
     "name": "stderr",
     "output_type": "stream",
     "text": [
      " 12%|█▏        | 238/2000 [00:39<05:23,  5.44it/s]"
     ]
    },
    {
     "name": "stdout",
     "output_type": "stream",
     "text": [
      "Training_loss 0.07989,   Relative Error 0.02999\n",
      "Training_loss 0.07856,   Relative Error 0.02975\n"
     ]
    },
    {
     "name": "stderr",
     "output_type": "stream",
     "text": [
      " 12%|█▏        | 240/2000 [00:40<05:34,  5.26it/s]"
     ]
    },
    {
     "name": "stdout",
     "output_type": "stream",
     "text": [
      "Training_loss 0.07766,   Relative Error 0.02963\n",
      "Training_loss 0.07476,   Relative Error 0.02903\n"
     ]
    },
    {
     "name": "stderr",
     "output_type": "stream",
     "text": [
      " 12%|█▏        | 242/2000 [00:40<04:39,  6.30it/s]"
     ]
    },
    {
     "name": "stdout",
     "output_type": "stream",
     "text": [
      "Training_loss 0.07385,   Relative Error 0.02887\n",
      "Training_loss 0.07148,   Relative Error 0.02844\n"
     ]
    },
    {
     "name": "stderr",
     "output_type": "stream",
     "text": [
      " 12%|█▏        | 244/2000 [00:40<04:06,  7.13it/s]"
     ]
    },
    {
     "name": "stdout",
     "output_type": "stream",
     "text": [
      "Training_loss 0.07035,   Relative Error 0.02821\n",
      "Training_loss 0.06895,   Relative Error 0.02793\n"
     ]
    },
    {
     "name": "stderr",
     "output_type": "stream",
     "text": [
      " 12%|█▏        | 246/2000 [00:40<03:49,  7.64it/s]"
     ]
    },
    {
     "name": "stdout",
     "output_type": "stream",
     "text": [
      "Training_loss 0.06847,   Relative Error 0.02783\n",
      "Training_loss 0.06659,   Relative Error 0.02742\n"
     ]
    },
    {
     "name": "stderr",
     "output_type": "stream",
     "text": [
      " 12%|█▏        | 248/2000 [00:41<04:20,  6.73it/s]"
     ]
    },
    {
     "name": "stdout",
     "output_type": "stream",
     "text": [
      "Training_loss 0.06550,   Relative Error 0.02718\n",
      "Training_loss 0.06425,   Relative Error 0.02693\n"
     ]
    },
    {
     "name": "stderr",
     "output_type": "stream",
     "text": [
      " 12%|█▎        | 250/2000 [00:41<04:20,  6.73it/s]"
     ]
    },
    {
     "name": "stdout",
     "output_type": "stream",
     "text": [
      "Training_loss 0.06149,   Relative Error 0.02637\n",
      "Training_loss 0.06008,   Relative Error 0.02610\n"
     ]
    },
    {
     "name": "stderr",
     "output_type": "stream",
     "text": [
      " 13%|█▎        | 252/2000 [00:41<04:05,  7.12it/s]"
     ]
    },
    {
     "name": "stdout",
     "output_type": "stream",
     "text": [
      "Training_loss 0.05894,   Relative Error 0.02582\n",
      "Training_loss 0.05855,   Relative Error 0.02572\n"
     ]
    },
    {
     "name": "stderr",
     "output_type": "stream",
     "text": [
      " 13%|█▎        | 254/2000 [00:41<03:56,  7.38it/s]"
     ]
    },
    {
     "name": "stdout",
     "output_type": "stream",
     "text": [
      "Training_loss 0.05752,   Relative Error 0.02553\n",
      "Training_loss 0.05611,   Relative Error 0.02520\n"
     ]
    },
    {
     "name": "stderr",
     "output_type": "stream",
     "text": [
      " 13%|█▎        | 256/2000 [00:42<03:55,  7.40it/s]"
     ]
    },
    {
     "name": "stdout",
     "output_type": "stream",
     "text": [
      "Training_loss 0.05443,   Relative Error 0.02477\n",
      "Training_loss 0.05289,   Relative Error 0.02441\n"
     ]
    },
    {
     "name": "stderr",
     "output_type": "stream",
     "text": [
      " 13%|█▎        | 258/2000 [00:42<03:56,  7.38it/s]"
     ]
    },
    {
     "name": "stdout",
     "output_type": "stream",
     "text": [
      "Training_loss 0.05038,   Relative Error 0.02382\n",
      "Training_loss 0.04908,   Relative Error 0.02353\n"
     ]
    },
    {
     "name": "stderr",
     "output_type": "stream",
     "text": [
      "\r",
      " 13%|█▎        | 259/2000 [00:42<03:58,  7.30it/s]"
     ]
    },
    {
     "name": "stdout",
     "output_type": "stream",
     "text": [
      "Training_loss 0.04753,   Relative Error 0.02314\n"
     ]
    },
    {
     "name": "stderr",
     "output_type": "stream",
     "text": [
      "\r",
      " 13%|█▎        | 260/2000 [00:42<04:45,  6.09it/s]"
     ]
    },
    {
     "name": "stdout",
     "output_type": "stream",
     "text": [
      "Training_loss 0.04676,   Relative Error 0.02296\n"
     ]
    },
    {
     "name": "stderr",
     "output_type": "stream",
     "text": [
      " 13%|█▎        | 262/2000 [00:43<05:23,  5.37it/s]"
     ]
    },
    {
     "name": "stdout",
     "output_type": "stream",
     "text": [
      "Training_loss 0.04504,   Relative Error 0.02255\n",
      "Training_loss 0.04309,   Relative Error 0.02209\n"
     ]
    },
    {
     "name": "stderr",
     "output_type": "stream",
     "text": [
      " 13%|█▎        | 264/2000 [00:43<04:42,  6.15it/s]"
     ]
    },
    {
     "name": "stdout",
     "output_type": "stream",
     "text": [
      "Training_loss 0.04172,   Relative Error 0.02175\n",
      "Training_loss 0.04068,   Relative Error 0.02154\n"
     ]
    },
    {
     "name": "stderr",
     "output_type": "stream",
     "text": [
      " 13%|█▎        | 266/2000 [00:43<04:10,  6.92it/s]"
     ]
    },
    {
     "name": "stdout",
     "output_type": "stream",
     "text": [
      "Training_loss 0.03989,   Relative Error 0.02132\n",
      "Training_loss 0.03858,   Relative Error 0.02101\n"
     ]
    },
    {
     "name": "stderr",
     "output_type": "stream",
     "text": [
      " 13%|█▎        | 268/2000 [00:44<04:06,  7.02it/s]"
     ]
    },
    {
     "name": "stdout",
     "output_type": "stream",
     "text": [
      "Training_loss 0.03753,   Relative Error 0.02074\n",
      "Training_loss 0.03598,   Relative Error 0.02033\n"
     ]
    },
    {
     "name": "stderr",
     "output_type": "stream",
     "text": [
      " 14%|█▎        | 270/2000 [00:44<04:52,  5.91it/s]"
     ]
    },
    {
     "name": "stdout",
     "output_type": "stream",
     "text": [
      "Training_loss 0.03555,   Relative Error 0.02021\n",
      "Training_loss 0.03493,   Relative Error 0.02005\n"
     ]
    },
    {
     "name": "stderr",
     "output_type": "stream",
     "text": [
      " 14%|█▎        | 272/2000 [00:44<04:34,  6.28it/s]"
     ]
    },
    {
     "name": "stdout",
     "output_type": "stream",
     "text": [
      "Training_loss 0.03410,   Relative Error 0.01981\n",
      "Training_loss 0.03328,   Relative Error 0.01955\n"
     ]
    },
    {
     "name": "stderr",
     "output_type": "stream",
     "text": [
      " 14%|█▎        | 274/2000 [00:45<04:23,  6.56it/s]"
     ]
    },
    {
     "name": "stdout",
     "output_type": "stream",
     "text": [
      "Training_loss 0.03239,   Relative Error 0.01930\n",
      "Training_loss 0.03140,   Relative Error 0.01897\n"
     ]
    },
    {
     "name": "stderr",
     "output_type": "stream",
     "text": [
      "\r",
      " 14%|█▍        | 275/2000 [00:45<04:04,  7.05it/s]"
     ]
    },
    {
     "name": "stdout",
     "output_type": "stream",
     "text": [
      "Training_loss 0.03082,   Relative Error 0.01875\n"
     ]
    },
    {
     "name": "stderr",
     "output_type": "stream",
     "text": [
      " 14%|█▍        | 277/2000 [00:45<04:18,  6.66it/s]"
     ]
    },
    {
     "name": "stdout",
     "output_type": "stream",
     "text": [
      "Training_loss 0.03007,   Relative Error 0.01852\n",
      "Training_loss 0.02969,   Relative Error 0.01838\n"
     ]
    },
    {
     "name": "stderr",
     "output_type": "stream",
     "text": [
      " 14%|█▍        | 279/2000 [00:45<04:21,  6.59it/s]"
     ]
    },
    {
     "name": "stdout",
     "output_type": "stream",
     "text": [
      "Training_loss 0.02913,   Relative Error 0.01822\n",
      "Training_loss 0.02864,   Relative Error 0.01804\n"
     ]
    },
    {
     "name": "stderr",
     "output_type": "stream",
     "text": [
      "\r",
      " 14%|█▍        | 280/2000 [00:46<04:31,  6.34it/s]"
     ]
    },
    {
     "name": "stdout",
     "output_type": "stream",
     "text": [
      "Training_loss 0.02756,   Relative Error 0.01768\n"
     ]
    },
    {
     "name": "stderr",
     "output_type": "stream",
     "text": [
      "\r",
      " 14%|█▍        | 281/2000 [00:46<05:18,  5.40it/s]"
     ]
    },
    {
     "name": "stdout",
     "output_type": "stream",
     "text": [
      "Training_loss 0.02731,   Relative Error 0.01759\n"
     ]
    },
    {
     "name": "stderr",
     "output_type": "stream",
     "text": [
      " 14%|█▍        | 283/2000 [00:46<05:16,  5.43it/s]"
     ]
    },
    {
     "name": "stdout",
     "output_type": "stream",
     "text": [
      "Training_loss 0.02609,   Relative Error 0.01713\n",
      "Training_loss 0.02564,   Relative Error 0.01698\n"
     ]
    },
    {
     "name": "stderr",
     "output_type": "stream",
     "text": [
      "\r",
      " 14%|█▍        | 284/2000 [00:46<04:50,  5.90it/s]"
     ]
    },
    {
     "name": "stdout",
     "output_type": "stream",
     "text": [
      "Training_loss 0.02500,   Relative Error 0.01679\n"
     ]
    },
    {
     "name": "stderr",
     "output_type": "stream",
     "text": [
      " 14%|█▍        | 286/2000 [00:47<04:57,  5.77it/s]"
     ]
    },
    {
     "name": "stdout",
     "output_type": "stream",
     "text": [
      "Training_loss 0.02419,   Relative Error 0.01654\n",
      "Training_loss 0.02369,   Relative Error 0.01637\n"
     ]
    },
    {
     "name": "stderr",
     "output_type": "stream",
     "text": [
      " 14%|█▍        | 288/2000 [00:47<04:34,  6.23it/s]"
     ]
    },
    {
     "name": "stdout",
     "output_type": "stream",
     "text": [
      "Training_loss 0.02322,   Relative Error 0.01624\n",
      "Training_loss 0.02278,   Relative Error 0.01609\n"
     ]
    },
    {
     "name": "stderr",
     "output_type": "stream",
     "text": [
      " 14%|█▍        | 290/2000 [00:47<05:19,  5.35it/s]"
     ]
    },
    {
     "name": "stdout",
     "output_type": "stream",
     "text": [
      "Training_loss 0.02208,   Relative Error 0.01583\n",
      "Training_loss 0.02161,   Relative Error 0.01570\n"
     ]
    },
    {
     "name": "stderr",
     "output_type": "stream",
     "text": [
      " 15%|█▍        | 292/2000 [00:48<04:53,  5.82it/s]"
     ]
    },
    {
     "name": "stdout",
     "output_type": "stream",
     "text": [
      "Training_loss 0.02062,   Relative Error 0.01535\n",
      "Training_loss 0.02034,   Relative Error 0.01525\n"
     ]
    },
    {
     "name": "stderr",
     "output_type": "stream",
     "text": [
      " 15%|█▍        | 294/2000 [00:48<04:13,  6.73it/s]"
     ]
    },
    {
     "name": "stdout",
     "output_type": "stream",
     "text": [
      "Training_loss 0.01950,   Relative Error 0.01493\n",
      "Training_loss 0.01900,   Relative Error 0.01471\n"
     ]
    },
    {
     "name": "stderr",
     "output_type": "stream",
     "text": [
      " 15%|█▍        | 296/2000 [00:48<03:53,  7.31it/s]"
     ]
    },
    {
     "name": "stdout",
     "output_type": "stream",
     "text": [
      "Training_loss 0.01864,   Relative Error 0.01458\n",
      "Training_loss 0.01778,   Relative Error 0.01425\n"
     ]
    },
    {
     "name": "stderr",
     "output_type": "stream",
     "text": [
      " 15%|█▍        | 298/2000 [00:49<03:40,  7.73it/s]"
     ]
    },
    {
     "name": "stdout",
     "output_type": "stream",
     "text": [
      "Training_loss 0.01724,   Relative Error 0.01400\n",
      "Training_loss 0.01684,   Relative Error 0.01386\n"
     ]
    },
    {
     "name": "stderr",
     "output_type": "stream",
     "text": [
      " 15%|█▌        | 300/2000 [00:49<04:04,  6.95it/s]"
     ]
    },
    {
     "name": "stdout",
     "output_type": "stream",
     "text": [
      "Training_loss 0.01622,   Relative Error 0.01364\n",
      "Training_loss 0.01558,   Relative Error 0.01337\n"
     ]
    },
    {
     "name": "stderr",
     "output_type": "stream",
     "text": [
      " 15%|█▌        | 302/2000 [00:49<04:12,  6.72it/s]"
     ]
    },
    {
     "name": "stdout",
     "output_type": "stream",
     "text": [
      "Training_loss 0.01499,   Relative Error 0.01311\n",
      "Training_loss 0.01473,   Relative Error 0.01297\n"
     ]
    },
    {
     "name": "stderr",
     "output_type": "stream",
     "text": [
      " 15%|█▌        | 304/2000 [00:49<04:00,  7.06it/s]"
     ]
    },
    {
     "name": "stdout",
     "output_type": "stream",
     "text": [
      "Training_loss 0.01414,   Relative Error 0.01274\n",
      "Training_loss 0.01358,   Relative Error 0.01246\n"
     ]
    },
    {
     "name": "stderr",
     "output_type": "stream",
     "text": [
      "\r",
      " 15%|█▌        | 305/2000 [00:50<04:06,  6.89it/s]"
     ]
    },
    {
     "name": "stdout",
     "output_type": "stream",
     "text": [
      "Training_loss 0.01326,   Relative Error 0.01231\n"
     ]
    },
    {
     "name": "stderr",
     "output_type": "stream",
     "text": [
      " 15%|█▌        | 307/2000 [00:50<04:26,  6.35it/s]"
     ]
    },
    {
     "name": "stdout",
     "output_type": "stream",
     "text": [
      "Training_loss 0.01287,   Relative Error 0.01213\n",
      "Training_loss 0.01248,   Relative Error 0.01196\n"
     ]
    },
    {
     "name": "stderr",
     "output_type": "stream",
     "text": [
      " 15%|█▌        | 309/2000 [00:50<03:53,  7.26it/s]"
     ]
    },
    {
     "name": "stdout",
     "output_type": "stream",
     "text": [
      "Training_loss 0.01220,   Relative Error 0.01182\n",
      "Training_loss 0.01196,   Relative Error 0.01172\n"
     ]
    },
    {
     "name": "stderr",
     "output_type": "stream",
     "text": [
      " 16%|█▌        | 311/2000 [00:50<03:43,  7.56it/s]"
     ]
    },
    {
     "name": "stdout",
     "output_type": "stream",
     "text": [
      "Training_loss 0.01190,   Relative Error 0.01171\n",
      "Training_loss 0.01168,   Relative Error 0.01162\n"
     ]
    },
    {
     "name": "stderr",
     "output_type": "stream",
     "text": [
      " 16%|█▌        | 313/2000 [00:51<03:35,  7.82it/s]"
     ]
    },
    {
     "name": "stdout",
     "output_type": "stream",
     "text": [
      "Training_loss 0.01131,   Relative Error 0.01142\n",
      "Training_loss 0.01112,   Relative Error 0.01131\n"
     ]
    },
    {
     "name": "stderr",
     "output_type": "stream",
     "text": [
      " 16%|█▌        | 315/2000 [00:51<03:49,  7.35it/s]"
     ]
    },
    {
     "name": "stdout",
     "output_type": "stream",
     "text": [
      "Training_loss 0.01076,   Relative Error 0.01113\n",
      "Training_loss 0.01056,   Relative Error 0.01103\n"
     ]
    },
    {
     "name": "stderr",
     "output_type": "stream",
     "text": [
      " 16%|█▌        | 317/2000 [00:51<03:32,  7.90it/s]"
     ]
    },
    {
     "name": "stdout",
     "output_type": "stream",
     "text": [
      "Training_loss 0.01014,   Relative Error 0.01080\n",
      "Training_loss 0.01005,   Relative Error 0.01077\n"
     ]
    },
    {
     "name": "stderr",
     "output_type": "stream",
     "text": [
      " 16%|█▌        | 319/2000 [00:52<03:54,  7.18it/s]"
     ]
    },
    {
     "name": "stdout",
     "output_type": "stream",
     "text": [
      "Training_loss 0.00971,   Relative Error 0.01058\n",
      "Training_loss 0.00937,   Relative Error 0.01039\n"
     ]
    },
    {
     "name": "stderr",
     "output_type": "stream",
     "text": [
      " 16%|█▌        | 321/2000 [00:52<03:56,  7.11it/s]"
     ]
    },
    {
     "name": "stdout",
     "output_type": "stream",
     "text": [
      "Training_loss 0.00914,   Relative Error 0.01028\n",
      "Training_loss 0.00881,   Relative Error 0.01009\n"
     ]
    },
    {
     "name": "stderr",
     "output_type": "stream",
     "text": [
      "\r",
      " 16%|█▌        | 322/2000 [00:52<04:12,  6.64it/s]"
     ]
    },
    {
     "name": "stdout",
     "output_type": "stream",
     "text": [
      "Training_loss 0.00877,   Relative Error 0.01008\n"
     ]
    },
    {
     "name": "stderr",
     "output_type": "stream",
     "text": [
      " 16%|█▌        | 324/2000 [00:52<05:09,  5.42it/s]"
     ]
    },
    {
     "name": "stdout",
     "output_type": "stream",
     "text": [
      "Training_loss 0.00845,   Relative Error 0.00992\n",
      "Training_loss 0.00819,   Relative Error 0.00977\n"
     ]
    },
    {
     "name": "stderr",
     "output_type": "stream",
     "text": [
      " 16%|█▋        | 326/2000 [00:53<04:25,  6.30it/s]"
     ]
    },
    {
     "name": "stdout",
     "output_type": "stream",
     "text": [
      "Training_loss 0.00798,   Relative Error 0.00965\n",
      "Training_loss 0.00783,   Relative Error 0.00956\n"
     ]
    },
    {
     "name": "stderr",
     "output_type": "stream",
     "text": [
      " 16%|█▋        | 328/2000 [00:53<03:56,  7.06it/s]"
     ]
    },
    {
     "name": "stdout",
     "output_type": "stream",
     "text": [
      "Training_loss 0.00752,   Relative Error 0.00935\n",
      "Training_loss 0.00744,   Relative Error 0.00930\n"
     ]
    },
    {
     "name": "stderr",
     "output_type": "stream",
     "text": [
      " 16%|█▋        | 330/2000 [00:53<03:51,  7.21it/s]"
     ]
    },
    {
     "name": "stdout",
     "output_type": "stream",
     "text": [
      "Training_loss 0.00737,   Relative Error 0.00927\n",
      "Training_loss 0.00733,   Relative Error 0.00924\n"
     ]
    },
    {
     "name": "stderr",
     "output_type": "stream",
     "text": [
      " 17%|█▋        | 332/2000 [00:53<03:32,  7.84it/s]"
     ]
    },
    {
     "name": "stdout",
     "output_type": "stream",
     "text": [
      "Training_loss 0.00715,   Relative Error 0.00911\n",
      "Training_loss 0.00711,   Relative Error 0.00909\n"
     ]
    },
    {
     "name": "stderr",
     "output_type": "stream",
     "text": [
      " 17%|█▋        | 334/2000 [00:54<03:43,  7.45it/s]"
     ]
    },
    {
     "name": "stdout",
     "output_type": "stream",
     "text": [
      "Training_loss 0.00674,   Relative Error 0.00882\n",
      "Training_loss 0.00655,   Relative Error 0.00870\n"
     ]
    },
    {
     "name": "stderr",
     "output_type": "stream",
     "text": [
      " 17%|█▋        | 336/2000 [00:54<03:37,  7.66it/s]"
     ]
    },
    {
     "name": "stdout",
     "output_type": "stream",
     "text": [
      "Training_loss 0.00643,   Relative Error 0.00861\n",
      "Training_loss 0.00624,   Relative Error 0.00845\n"
     ]
    },
    {
     "name": "stderr",
     "output_type": "stream",
     "text": [
      " 17%|█▋        | 338/2000 [00:54<03:26,  8.06it/s]"
     ]
    },
    {
     "name": "stdout",
     "output_type": "stream",
     "text": [
      "Training_loss 0.00606,   Relative Error 0.00830\n",
      "Training_loss 0.00606,   Relative Error 0.00832\n"
     ]
    },
    {
     "name": "stderr",
     "output_type": "stream",
     "text": [
      " 17%|█▋        | 340/2000 [00:54<03:26,  8.03it/s]"
     ]
    },
    {
     "name": "stdout",
     "output_type": "stream",
     "text": [
      "Training_loss 0.00594,   Relative Error 0.00822\n",
      "Training_loss 0.00576,   Relative Error 0.00810\n"
     ]
    },
    {
     "name": "stderr",
     "output_type": "stream",
     "text": [
      " 17%|█▋        | 342/2000 [00:55<04:08,  6.66it/s]"
     ]
    },
    {
     "name": "stdout",
     "output_type": "stream",
     "text": [
      "Training_loss 0.00565,   Relative Error 0.00802\n",
      "Training_loss 0.00537,   Relative Error 0.00781\n"
     ]
    },
    {
     "name": "stderr",
     "output_type": "stream",
     "text": [
      "\r",
      " 17%|█▋        | 343/2000 [00:55<04:13,  6.54it/s]"
     ]
    },
    {
     "name": "stdout",
     "output_type": "stream",
     "text": [
      "Training_loss 0.00530,   Relative Error 0.00776\n"
     ]
    },
    {
     "name": "stderr",
     "output_type": "stream",
     "text": [
      "\r",
      " 17%|█▋        | 344/2000 [00:55<04:34,  6.03it/s]"
     ]
    },
    {
     "name": "stdout",
     "output_type": "stream",
     "text": [
      "Training_loss 0.00525,   Relative Error 0.00773\n"
     ]
    },
    {
     "name": "stderr",
     "output_type": "stream",
     "text": [
      " 17%|█▋        | 346/2000 [00:56<05:23,  5.12it/s]"
     ]
    },
    {
     "name": "stdout",
     "output_type": "stream",
     "text": [
      "Training_loss 0.00523,   Relative Error 0.00772\n",
      "Training_loss 0.00500,   Relative Error 0.00754\n"
     ]
    },
    {
     "name": "stderr",
     "output_type": "stream",
     "text": [
      "\r",
      " 17%|█▋        | 347/2000 [00:56<04:50,  5.69it/s]"
     ]
    },
    {
     "name": "stdout",
     "output_type": "stream",
     "text": [
      "Training_loss 0.00495,   Relative Error 0.00748\n"
     ]
    },
    {
     "name": "stderr",
     "output_type": "stream",
     "text": [
      " 17%|█▋        | 349/2000 [00:56<04:58,  5.53it/s]"
     ]
    },
    {
     "name": "stdout",
     "output_type": "stream",
     "text": [
      "Training_loss 0.00479,   Relative Error 0.00734\n",
      "Training_loss 0.00461,   Relative Error 0.00721\n"
     ]
    },
    {
     "name": "stderr",
     "output_type": "stream",
     "text": [
      " 18%|█▊        | 351/2000 [00:56<04:05,  6.71it/s]"
     ]
    },
    {
     "name": "stdout",
     "output_type": "stream",
     "text": [
      "Training_loss 0.00457,   Relative Error 0.00721\n",
      "Training_loss 0.00442,   Relative Error 0.00710\n"
     ]
    },
    {
     "name": "stderr",
     "output_type": "stream",
     "text": [
      " 18%|█▊        | 353/2000 [00:57<03:53,  7.06it/s]"
     ]
    },
    {
     "name": "stdout",
     "output_type": "stream",
     "text": [
      "Training_loss 0.00433,   Relative Error 0.00703\n",
      "Training_loss 0.00427,   Relative Error 0.00699\n"
     ]
    },
    {
     "name": "stderr",
     "output_type": "stream",
     "text": [
      " 18%|█▊        | 355/2000 [00:57<03:49,  7.15it/s]"
     ]
    },
    {
     "name": "stdout",
     "output_type": "stream",
     "text": [
      "Training_loss 0.00422,   Relative Error 0.00696\n",
      "Training_loss 0.00413,   Relative Error 0.00685\n"
     ]
    },
    {
     "name": "stderr",
     "output_type": "stream",
     "text": [
      " 18%|█▊        | 357/2000 [00:57<03:42,  7.37it/s]"
     ]
    },
    {
     "name": "stdout",
     "output_type": "stream",
     "text": [
      "Training_loss 0.00405,   Relative Error 0.00677\n",
      "Training_loss 0.00375,   Relative Error 0.00650\n"
     ]
    },
    {
     "name": "stderr",
     "output_type": "stream",
     "text": [
      " 18%|█▊        | 359/2000 [00:57<03:39,  7.49it/s]"
     ]
    },
    {
     "name": "stdout",
     "output_type": "stream",
     "text": [
      "Training_loss 0.00373,   Relative Error 0.00646\n",
      "Training_loss 0.00367,   Relative Error 0.00643\n"
     ]
    },
    {
     "name": "stderr",
     "output_type": "stream",
     "text": [
      " 18%|█▊        | 361/2000 [00:58<03:33,  7.69it/s]"
     ]
    },
    {
     "name": "stdout",
     "output_type": "stream",
     "text": [
      "Training_loss 0.00357,   Relative Error 0.00631\n",
      "Training_loss 0.00350,   Relative Error 0.00625\n"
     ]
    },
    {
     "name": "stderr",
     "output_type": "stream",
     "text": [
      " 18%|█▊        | 363/2000 [00:58<03:50,  7.11it/s]"
     ]
    },
    {
     "name": "stdout",
     "output_type": "stream",
     "text": [
      "Training_loss 0.00343,   Relative Error 0.00623\n",
      "Training_loss 0.00346,   Relative Error 0.00626\n"
     ]
    },
    {
     "name": "stderr",
     "output_type": "stream",
     "text": [
      " 18%|█▊        | 365/2000 [00:58<04:47,  5.70it/s]"
     ]
    },
    {
     "name": "stdout",
     "output_type": "stream",
     "text": [
      "Training_loss 0.00333,   Relative Error 0.00618\n",
      "Training_loss 0.00323,   Relative Error 0.00610\n"
     ]
    },
    {
     "name": "stderr",
     "output_type": "stream",
     "text": [
      " 18%|█▊        | 367/2000 [00:59<04:20,  6.28it/s]"
     ]
    },
    {
     "name": "stdout",
     "output_type": "stream",
     "text": [
      "Training_loss 0.00326,   Relative Error 0.00614\n",
      "Training_loss 0.00307,   Relative Error 0.00595\n"
     ]
    },
    {
     "name": "stderr",
     "output_type": "stream",
     "text": [
      "\r",
      " 18%|█▊        | 368/2000 [00:59<04:17,  6.33it/s]"
     ]
    },
    {
     "name": "stdout",
     "output_type": "stream",
     "text": [
      "Training_loss 0.00301,   Relative Error 0.00590\n"
     ]
    },
    {
     "name": "stderr",
     "output_type": "stream",
     "text": [
      " 18%|█▊        | 370/2000 [00:59<04:59,  5.43it/s]"
     ]
    },
    {
     "name": "stdout",
     "output_type": "stream",
     "text": [
      "Training_loss 0.00280,   Relative Error 0.00569\n",
      "Training_loss 0.00274,   Relative Error 0.00562\n"
     ]
    },
    {
     "name": "stderr",
     "output_type": "stream",
     "text": [
      " 19%|█▊        | 372/2000 [01:00<04:19,  6.27it/s]"
     ]
    },
    {
     "name": "stdout",
     "output_type": "stream",
     "text": [
      "Training_loss 0.00271,   Relative Error 0.00557\n",
      "Training_loss 0.00270,   Relative Error 0.00555\n"
     ]
    },
    {
     "name": "stderr",
     "output_type": "stream",
     "text": [
      "\r",
      " 19%|█▊        | 373/2000 [01:00<04:01,  6.74it/s]"
     ]
    },
    {
     "name": "stdout",
     "output_type": "stream",
     "text": [
      "Training_loss 0.00258,   Relative Error 0.00540\n"
     ]
    },
    {
     "name": "stderr",
     "output_type": "stream",
     "text": [
      "\r",
      " 19%|█▊        | 374/2000 [01:00<04:37,  5.85it/s]"
     ]
    },
    {
     "name": "stdout",
     "output_type": "stream",
     "text": [
      "Training_loss 0.00251,   Relative Error 0.00533\n"
     ]
    },
    {
     "name": "stderr",
     "output_type": "stream",
     "text": [
      " 19%|█▉        | 376/2000 [01:00<05:13,  5.18it/s]"
     ]
    },
    {
     "name": "stdout",
     "output_type": "stream",
     "text": [
      "Training_loss 0.00249,   Relative Error 0.00529\n",
      "Training_loss 0.00236,   Relative Error 0.00516\n"
     ]
    },
    {
     "name": "stderr",
     "output_type": "stream",
     "text": [
      " 19%|█▉        | 378/2000 [01:01<04:17,  6.31it/s]"
     ]
    },
    {
     "name": "stdout",
     "output_type": "stream",
     "text": [
      "Training_loss 0.00234,   Relative Error 0.00515\n",
      "Training_loss 0.00231,   Relative Error 0.00511\n"
     ]
    },
    {
     "name": "stderr",
     "output_type": "stream",
     "text": [
      " 19%|█▉        | 380/2000 [01:01<04:34,  5.90it/s]"
     ]
    },
    {
     "name": "stdout",
     "output_type": "stream",
     "text": [
      "Training_loss 0.00234,   Relative Error 0.00512\n",
      "Training_loss 0.00225,   Relative Error 0.00502\n"
     ]
    },
    {
     "name": "stderr",
     "output_type": "stream",
     "text": [
      " 19%|█▉        | 382/2000 [01:01<04:06,  6.56it/s]"
     ]
    },
    {
     "name": "stdout",
     "output_type": "stream",
     "text": [
      "Training_loss 0.00221,   Relative Error 0.00498\n",
      "Training_loss 0.00221,   Relative Error 0.00499\n"
     ]
    },
    {
     "name": "stderr",
     "output_type": "stream",
     "text": [
      " 19%|█▉        | 384/2000 [01:02<03:46,  7.15it/s]"
     ]
    },
    {
     "name": "stdout",
     "output_type": "stream",
     "text": [
      "Training_loss 0.00219,   Relative Error 0.00495\n",
      "Training_loss 0.00214,   Relative Error 0.00491\n"
     ]
    },
    {
     "name": "stderr",
     "output_type": "stream",
     "text": [
      "\r",
      " 19%|█▉        | 385/2000 [01:02<03:57,  6.79it/s]"
     ]
    },
    {
     "name": "stdout",
     "output_type": "stream",
     "text": [
      "Training_loss 0.00211,   Relative Error 0.00488\n"
     ]
    },
    {
     "name": "stderr",
     "output_type": "stream",
     "text": [
      " 19%|█▉        | 387/2000 [01:02<05:09,  5.22it/s]"
     ]
    },
    {
     "name": "stdout",
     "output_type": "stream",
     "text": [
      "Training_loss 0.00197,   Relative Error 0.00471\n",
      "Training_loss 0.00195,   Relative Error 0.00468\n"
     ]
    },
    {
     "name": "stderr",
     "output_type": "stream",
     "text": [
      " 19%|█▉        | 389/2000 [01:02<04:12,  6.38it/s]"
     ]
    },
    {
     "name": "stdout",
     "output_type": "stream",
     "text": [
      "Training_loss 0.00192,   Relative Error 0.00464\n",
      "Training_loss 0.00186,   Relative Error 0.00455\n"
     ]
    },
    {
     "name": "stderr",
     "output_type": "stream",
     "text": [
      " 20%|█▉        | 391/2000 [01:03<04:13,  6.35it/s]"
     ]
    },
    {
     "name": "stdout",
     "output_type": "stream",
     "text": [
      "Training_loss 0.00183,   Relative Error 0.00452\n",
      "Training_loss 0.00181,   Relative Error 0.00452\n"
     ]
    },
    {
     "name": "stderr",
     "output_type": "stream",
     "text": [
      " 20%|█▉        | 393/2000 [01:03<04:08,  6.47it/s]"
     ]
    },
    {
     "name": "stdout",
     "output_type": "stream",
     "text": [
      "Training_loss 0.00185,   Relative Error 0.00456\n",
      "Training_loss 0.00181,   Relative Error 0.00452\n"
     ]
    },
    {
     "name": "stderr",
     "output_type": "stream",
     "text": [
      " 20%|█▉        | 395/2000 [01:03<03:42,  7.21it/s]"
     ]
    },
    {
     "name": "stdout",
     "output_type": "stream",
     "text": [
      "Training_loss 0.00182,   Relative Error 0.00453\n",
      "Training_loss 0.00171,   Relative Error 0.00437\n"
     ]
    },
    {
     "name": "stderr",
     "output_type": "stream",
     "text": [
      " 20%|█▉        | 397/2000 [01:04<03:39,  7.30it/s]"
     ]
    },
    {
     "name": "stdout",
     "output_type": "stream",
     "text": [
      "Training_loss 0.00167,   Relative Error 0.00433\n",
      "Training_loss 0.00162,   Relative Error 0.00429\n"
     ]
    },
    {
     "name": "stderr",
     "output_type": "stream",
     "text": [
      " 20%|█▉        | 399/2000 [01:04<03:37,  7.35it/s]"
     ]
    },
    {
     "name": "stdout",
     "output_type": "stream",
     "text": [
      "Training_loss 0.00165,   Relative Error 0.00434\n",
      "Training_loss 0.00158,   Relative Error 0.00426\n"
     ]
    },
    {
     "name": "stderr",
     "output_type": "stream",
     "text": [
      " 20%|██        | 401/2000 [01:04<03:46,  7.07it/s]"
     ]
    },
    {
     "name": "stdout",
     "output_type": "stream",
     "text": [
      "Training_loss 0.00162,   Relative Error 0.00433\n",
      "Training_loss 0.00159,   Relative Error 0.00427\n"
     ]
    },
    {
     "name": "stderr",
     "output_type": "stream",
     "text": [
      "\r",
      " 20%|██        | 402/2000 [01:04<03:47,  7.03it/s]"
     ]
    },
    {
     "name": "stdout",
     "output_type": "stream",
     "text": [
      "Training_loss 0.00156,   Relative Error 0.00424\n"
     ]
    },
    {
     "name": "stderr",
     "output_type": "stream",
     "text": [
      " 20%|██        | 404/2000 [01:05<04:25,  6.00it/s]"
     ]
    },
    {
     "name": "stdout",
     "output_type": "stream",
     "text": [
      "Training_loss 0.00155,   Relative Error 0.00425\n",
      "Training_loss 0.00149,   Relative Error 0.00417\n"
     ]
    },
    {
     "name": "stderr",
     "output_type": "stream",
     "text": [
      " 20%|██        | 406/2000 [01:05<04:32,  5.85it/s]"
     ]
    },
    {
     "name": "stdout",
     "output_type": "stream",
     "text": [
      "Training_loss 0.00148,   Relative Error 0.00417\n",
      "Training_loss 0.00148,   Relative Error 0.00419\n"
     ]
    },
    {
     "name": "stderr",
     "output_type": "stream",
     "text": [
      " 20%|██        | 408/2000 [01:05<04:07,  6.43it/s]"
     ]
    },
    {
     "name": "stdout",
     "output_type": "stream",
     "text": [
      "Training_loss 0.00142,   Relative Error 0.00413\n",
      "Training_loss 0.00132,   Relative Error 0.00397\n"
     ]
    },
    {
     "name": "stderr",
     "output_type": "stream",
     "text": [
      " 20%|██        | 410/2000 [01:06<04:10,  6.34it/s]"
     ]
    },
    {
     "name": "stdout",
     "output_type": "stream",
     "text": [
      "Training_loss 0.00131,   Relative Error 0.00395\n",
      "Training_loss 0.00135,   Relative Error 0.00400\n"
     ]
    },
    {
     "name": "stderr",
     "output_type": "stream",
     "text": [
      " 21%|██        | 412/2000 [01:06<03:42,  7.13it/s]"
     ]
    },
    {
     "name": "stdout",
     "output_type": "stream",
     "text": [
      "Training_loss 0.00129,   Relative Error 0.00389\n",
      "Training_loss 0.00124,   Relative Error 0.00379\n"
     ]
    },
    {
     "name": "stderr",
     "output_type": "stream",
     "text": [
      " 21%|██        | 414/2000 [01:06<03:34,  7.39it/s]"
     ]
    },
    {
     "name": "stdout",
     "output_type": "stream",
     "text": [
      "Training_loss 0.00116,   Relative Error 0.00361\n",
      "Training_loss 0.00112,   Relative Error 0.00352\n"
     ]
    },
    {
     "name": "stderr",
     "output_type": "stream",
     "text": [
      " 21%|██        | 416/2000 [01:06<03:26,  7.69it/s]"
     ]
    },
    {
     "name": "stdout",
     "output_type": "stream",
     "text": [
      "Training_loss 0.00109,   Relative Error 0.00347\n",
      "Training_loss 0.00109,   Relative Error 0.00348\n"
     ]
    },
    {
     "name": "stderr",
     "output_type": "stream",
     "text": [
      " 21%|██        | 418/2000 [01:07<03:21,  7.86it/s]"
     ]
    },
    {
     "name": "stdout",
     "output_type": "stream",
     "text": [
      "Training_loss 0.00104,   Relative Error 0.00340\n",
      "Training_loss 0.00110,   Relative Error 0.00351\n"
     ]
    },
    {
     "name": "stderr",
     "output_type": "stream",
     "text": [
      " 21%|██        | 420/2000 [01:07<03:15,  8.07it/s]"
     ]
    },
    {
     "name": "stdout",
     "output_type": "stream",
     "text": [
      "Training_loss 0.00113,   Relative Error 0.00357\n",
      "Training_loss 0.00111,   Relative Error 0.00351\n"
     ]
    },
    {
     "name": "stderr",
     "output_type": "stream",
     "text": [
      " 21%|██        | 422/2000 [01:07<03:20,  7.89it/s]"
     ]
    },
    {
     "name": "stdout",
     "output_type": "stream",
     "text": [
      "Training_loss 0.00104,   Relative Error 0.00341\n",
      "Training_loss 0.00105,   Relative Error 0.00342\n"
     ]
    },
    {
     "name": "stderr",
     "output_type": "stream",
     "text": [
      " 21%|██        | 424/2000 [01:07<03:18,  7.92it/s]"
     ]
    },
    {
     "name": "stdout",
     "output_type": "stream",
     "text": [
      "Training_loss 0.00103,   Relative Error 0.00339\n",
      "Training_loss 0.00099,   Relative Error 0.00335\n"
     ]
    },
    {
     "name": "stderr",
     "output_type": "stream",
     "text": [
      " 21%|██▏       | 426/2000 [01:08<03:27,  7.60it/s]"
     ]
    },
    {
     "name": "stdout",
     "output_type": "stream",
     "text": [
      "Training_loss 0.00103,   Relative Error 0.00340\n",
      "Training_loss 0.00103,   Relative Error 0.00342\n"
     ]
    },
    {
     "name": "stderr",
     "output_type": "stream",
     "text": [
      " 21%|██▏       | 428/2000 [01:08<04:00,  6.53it/s]"
     ]
    },
    {
     "name": "stdout",
     "output_type": "stream",
     "text": [
      "Training_loss 0.00101,   Relative Error 0.00338\n",
      "Training_loss 0.00098,   Relative Error 0.00336\n"
     ]
    },
    {
     "name": "stderr",
     "output_type": "stream",
     "text": [
      " 22%|██▏       | 430/2000 [01:08<04:36,  5.69it/s]"
     ]
    },
    {
     "name": "stdout",
     "output_type": "stream",
     "text": [
      "Training_loss 0.00099,   Relative Error 0.00338\n",
      "Training_loss 0.00089,   Relative Error 0.00322\n"
     ]
    },
    {
     "name": "stderr",
     "output_type": "stream",
     "text": [
      " 22%|██▏       | 432/2000 [01:09<03:51,  6.76it/s]"
     ]
    },
    {
     "name": "stdout",
     "output_type": "stream",
     "text": [
      "Training_loss 0.00085,   Relative Error 0.00313\n",
      "Training_loss 0.00090,   Relative Error 0.00324\n"
     ]
    },
    {
     "name": "stderr",
     "output_type": "stream",
     "text": [
      "\r",
      " 22%|██▏       | 433/2000 [01:09<03:55,  6.65it/s]"
     ]
    },
    {
     "name": "stdout",
     "output_type": "stream",
     "text": [
      "Training_loss 0.00086,   Relative Error 0.00316\n"
     ]
    },
    {
     "name": "stderr",
     "output_type": "stream",
     "text": [
      "\r",
      " 22%|██▏       | 434/2000 [01:09<04:47,  5.45it/s]"
     ]
    },
    {
     "name": "stdout",
     "output_type": "stream",
     "text": [
      "Training_loss 0.00086,   Relative Error 0.00316\n"
     ]
    },
    {
     "name": "stderr",
     "output_type": "stream",
     "text": [
      " 22%|██▏       | 436/2000 [01:10<05:10,  5.03it/s]"
     ]
    },
    {
     "name": "stdout",
     "output_type": "stream",
     "text": [
      "Training_loss 0.00084,   Relative Error 0.00309\n",
      "Training_loss 0.00085,   Relative Error 0.00309\n"
     ]
    },
    {
     "name": "stderr",
     "output_type": "stream",
     "text": [
      "\r",
      " 22%|██▏       | 437/2000 [01:10<04:26,  5.86it/s]"
     ]
    },
    {
     "name": "stdout",
     "output_type": "stream",
     "text": [
      "Training_loss 0.00089,   Relative Error 0.00318\n"
     ]
    },
    {
     "name": "stderr",
     "output_type": "stream",
     "text": [
      "\r",
      " 22%|██▏       | 438/2000 [01:10<04:55,  5.28it/s]"
     ]
    },
    {
     "name": "stdout",
     "output_type": "stream",
     "text": [
      "Training_loss 0.00089,   Relative Error 0.00317\n"
     ]
    },
    {
     "name": "stderr",
     "output_type": "stream",
     "text": [
      "\r",
      " 22%|██▏       | 439/2000 [01:10<05:26,  4.78it/s]"
     ]
    },
    {
     "name": "stdout",
     "output_type": "stream",
     "text": [
      "Training_loss 0.00082,   Relative Error 0.00303\n"
     ]
    },
    {
     "name": "stderr",
     "output_type": "stream",
     "text": [
      "\r",
      " 22%|██▏       | 440/2000 [01:10<05:33,  4.67it/s]"
     ]
    },
    {
     "name": "stdout",
     "output_type": "stream",
     "text": [
      "Training_loss 0.00079,   Relative Error 0.00294\n"
     ]
    },
    {
     "name": "stderr",
     "output_type": "stream",
     "text": [
      " 22%|██▏       | 442/2000 [01:11<05:01,  5.17it/s]"
     ]
    },
    {
     "name": "stdout",
     "output_type": "stream",
     "text": [
      "Training_loss 0.00072,   Relative Error 0.00281\n",
      "Training_loss 0.00071,   Relative Error 0.00283\n"
     ]
    },
    {
     "name": "stderr",
     "output_type": "stream",
     "text": [
      " 22%|██▏       | 444/2000 [01:11<04:05,  6.33it/s]"
     ]
    },
    {
     "name": "stdout",
     "output_type": "stream",
     "text": [
      "Training_loss 0.00070,   Relative Error 0.00282\n",
      "Training_loss 0.00073,   Relative Error 0.00290\n"
     ]
    },
    {
     "name": "stderr",
     "output_type": "stream",
     "text": [
      " 22%|██▏       | 446/2000 [01:11<03:55,  6.59it/s]"
     ]
    },
    {
     "name": "stdout",
     "output_type": "stream",
     "text": [
      "Training_loss 0.00074,   Relative Error 0.00297\n",
      "Training_loss 0.00069,   Relative Error 0.00285\n"
     ]
    },
    {
     "name": "stderr",
     "output_type": "stream",
     "text": [
      "\r",
      " 22%|██▏       | 447/2000 [01:12<04:48,  5.39it/s]"
     ]
    },
    {
     "name": "stdout",
     "output_type": "stream",
     "text": [
      "Training_loss 0.00072,   Relative Error 0.00292\n"
     ]
    },
    {
     "name": "stderr",
     "output_type": "stream",
     "text": [
      " 22%|██▏       | 449/2000 [01:12<04:37,  5.58it/s]"
     ]
    },
    {
     "name": "stdout",
     "output_type": "stream",
     "text": [
      "Training_loss 0.00071,   Relative Error 0.00289\n",
      "Training_loss 0.00069,   Relative Error 0.00290\n"
     ]
    },
    {
     "name": "stderr",
     "output_type": "stream",
     "text": [
      "\r",
      " 22%|██▎       | 450/2000 [01:12<04:30,  5.72it/s]"
     ]
    },
    {
     "name": "stdout",
     "output_type": "stream",
     "text": [
      "Training_loss 0.00070,   Relative Error 0.00291\n"
     ]
    },
    {
     "name": "stderr",
     "output_type": "stream",
     "text": [
      " 23%|██▎       | 452/2000 [01:12<04:57,  5.20it/s]"
     ]
    },
    {
     "name": "stdout",
     "output_type": "stream",
     "text": [
      "Training_loss 0.00075,   Relative Error 0.00301\n",
      "Training_loss 0.00071,   Relative Error 0.00294\n"
     ]
    },
    {
     "name": "stderr",
     "output_type": "stream",
     "text": [
      " 23%|██▎       | 454/2000 [01:13<04:16,  6.02it/s]"
     ]
    },
    {
     "name": "stdout",
     "output_type": "stream",
     "text": [
      "Training_loss 0.00071,   Relative Error 0.00294\n",
      "Training_loss 0.00071,   Relative Error 0.00296\n"
     ]
    },
    {
     "name": "stderr",
     "output_type": "stream",
     "text": [
      " 23%|██▎       | 456/2000 [01:13<03:47,  6.80it/s]"
     ]
    },
    {
     "name": "stdout",
     "output_type": "stream",
     "text": [
      "Training_loss 0.00070,   Relative Error 0.00295\n",
      "Training_loss 0.00070,   Relative Error 0.00296\n"
     ]
    },
    {
     "name": "stderr",
     "output_type": "stream",
     "text": [
      " 23%|██▎       | 458/2000 [01:13<03:36,  7.11it/s]"
     ]
    },
    {
     "name": "stdout",
     "output_type": "stream",
     "text": [
      "Training_loss 0.00071,   Relative Error 0.00298\n",
      "Training_loss 0.00071,   Relative Error 0.00297\n"
     ]
    },
    {
     "name": "stderr",
     "output_type": "stream",
     "text": [
      " 23%|██▎       | 460/2000 [01:14<03:35,  7.15it/s]"
     ]
    },
    {
     "name": "stdout",
     "output_type": "stream",
     "text": [
      "Training_loss 0.00074,   Relative Error 0.00306\n",
      "Training_loss 0.00075,   Relative Error 0.00308\n"
     ]
    },
    {
     "name": "stderr",
     "output_type": "stream",
     "text": [
      " 23%|██▎       | 462/2000 [01:14<03:55,  6.52it/s]"
     ]
    },
    {
     "name": "stdout",
     "output_type": "stream",
     "text": [
      "Training_loss 0.00078,   Relative Error 0.00317\n",
      "Training_loss 0.00080,   Relative Error 0.00324\n"
     ]
    },
    {
     "name": "stderr",
     "output_type": "stream",
     "text": [
      "\r",
      " 23%|██▎       | 463/2000 [01:14<04:25,  5.78it/s]"
     ]
    },
    {
     "name": "stdout",
     "output_type": "stream",
     "text": [
      "Training_loss 0.00079,   Relative Error 0.00321\n"
     ]
    },
    {
     "name": "stderr",
     "output_type": "stream",
     "text": [
      "\r",
      " 23%|██▎       | 464/2000 [01:14<04:46,  5.36it/s]"
     ]
    },
    {
     "name": "stdout",
     "output_type": "stream",
     "text": [
      "Training_loss 0.00076,   Relative Error 0.00317\n"
     ]
    },
    {
     "name": "stderr",
     "output_type": "stream",
     "text": [
      " 23%|██▎       | 466/2000 [01:15<04:40,  5.47it/s]"
     ]
    },
    {
     "name": "stdout",
     "output_type": "stream",
     "text": [
      "Training_loss 0.00074,   Relative Error 0.00311\n",
      "Training_loss 0.00069,   Relative Error 0.00300\n"
     ]
    },
    {
     "name": "stderr",
     "output_type": "stream",
     "text": [
      " 23%|██▎       | 468/2000 [01:15<03:55,  6.52it/s]"
     ]
    },
    {
     "name": "stdout",
     "output_type": "stream",
     "text": [
      "Training_loss 0.00070,   Relative Error 0.00302\n",
      "Training_loss 0.00070,   Relative Error 0.00301\n"
     ]
    },
    {
     "name": "stderr",
     "output_type": "stream",
     "text": [
      " 24%|██▎       | 470/2000 [01:15<03:43,  6.86it/s]"
     ]
    },
    {
     "name": "stdout",
     "output_type": "stream",
     "text": [
      "Training_loss 0.00068,   Relative Error 0.00298\n",
      "Training_loss 0.00068,   Relative Error 0.00297\n"
     ]
    },
    {
     "name": "stderr",
     "output_type": "stream",
     "text": [
      " 24%|██▎       | 472/2000 [01:16<03:38,  7.01it/s]"
     ]
    },
    {
     "name": "stdout",
     "output_type": "stream",
     "text": [
      "Training_loss 0.00073,   Relative Error 0.00307\n",
      "Training_loss 0.00073,   Relative Error 0.00310\n"
     ]
    },
    {
     "name": "stderr",
     "output_type": "stream",
     "text": [
      " 24%|██▎       | 474/2000 [01:16<04:15,  5.97it/s]"
     ]
    },
    {
     "name": "stdout",
     "output_type": "stream",
     "text": [
      "Training_loss 0.00070,   Relative Error 0.00303\n",
      "Training_loss 0.00069,   Relative Error 0.00297\n"
     ]
    },
    {
     "name": "stderr",
     "output_type": "stream",
     "text": [
      " 24%|██▍       | 476/2000 [01:16<03:45,  6.75it/s]"
     ]
    },
    {
     "name": "stdout",
     "output_type": "stream",
     "text": [
      "Training_loss 0.00064,   Relative Error 0.00287\n",
      "Training_loss 0.00066,   Relative Error 0.00290\n"
     ]
    },
    {
     "name": "stderr",
     "output_type": "stream",
     "text": [
      "\r",
      " 24%|██▍       | 477/2000 [01:16<03:51,  6.59it/s]"
     ]
    },
    {
     "name": "stdout",
     "output_type": "stream",
     "text": [
      "Training_loss 0.00061,   Relative Error 0.00274\n"
     ]
    },
    {
     "name": "stderr",
     "output_type": "stream",
     "text": [
      "\r",
      " 24%|██▍       | 478/2000 [01:17<04:23,  5.78it/s]"
     ]
    },
    {
     "name": "stdout",
     "output_type": "stream",
     "text": [
      "Training_loss 0.00064,   Relative Error 0.00280\n"
     ]
    },
    {
     "name": "stderr",
     "output_type": "stream",
     "text": [
      "\r",
      " 24%|██▍       | 479/2000 [01:17<04:57,  5.12it/s]"
     ]
    },
    {
     "name": "stdout",
     "output_type": "stream",
     "text": [
      "Training_loss 0.00064,   Relative Error 0.00281\n"
     ]
    },
    {
     "name": "stderr",
     "output_type": "stream",
     "text": [
      " 24%|██▍       | 481/2000 [01:17<05:08,  4.93it/s]"
     ]
    },
    {
     "name": "stdout",
     "output_type": "stream",
     "text": [
      "Training_loss 0.00064,   Relative Error 0.00282\n",
      "Training_loss 0.00062,   Relative Error 0.00275\n"
     ]
    },
    {
     "name": "stderr",
     "output_type": "stream",
     "text": [
      " 24%|██▍       | 483/2000 [01:18<04:33,  5.55it/s]"
     ]
    },
    {
     "name": "stdout",
     "output_type": "stream",
     "text": [
      "Training_loss 0.00059,   Relative Error 0.00270\n",
      "Training_loss 0.00060,   Relative Error 0.00273\n"
     ]
    },
    {
     "name": "stderr",
     "output_type": "stream",
     "text": [
      " 24%|██▍       | 485/2000 [01:18<03:57,  6.37it/s]"
     ]
    },
    {
     "name": "stdout",
     "output_type": "stream",
     "text": [
      "Training_loss 0.00058,   Relative Error 0.00270\n",
      "Training_loss 0.00062,   Relative Error 0.00280\n"
     ]
    },
    {
     "name": "stderr",
     "output_type": "stream",
     "text": [
      " 24%|██▍       | 487/2000 [01:18<03:56,  6.39it/s]"
     ]
    },
    {
     "name": "stdout",
     "output_type": "stream",
     "text": [
      "Training_loss 0.00062,   Relative Error 0.00283\n",
      "Training_loss 0.00064,   Relative Error 0.00285\n"
     ]
    },
    {
     "name": "stderr",
     "output_type": "stream",
     "text": [
      "\r",
      " 24%|██▍       | 488/2000 [01:18<03:40,  6.85it/s]"
     ]
    },
    {
     "name": "stdout",
     "output_type": "stream",
     "text": [
      "Training_loss 0.00062,   Relative Error 0.00277\n"
     ]
    },
    {
     "name": "stderr",
     "output_type": "stream",
     "text": [
      " 24%|██▍       | 490/2000 [01:19<04:22,  5.75it/s]"
     ]
    },
    {
     "name": "stdout",
     "output_type": "stream",
     "text": [
      "Training_loss 0.00064,   Relative Error 0.00283\n",
      "Training_loss 0.00069,   Relative Error 0.00296\n"
     ]
    },
    {
     "name": "stderr",
     "output_type": "stream",
     "text": [
      " 25%|██▍       | 492/2000 [01:19<04:58,  5.05it/s]"
     ]
    },
    {
     "name": "stdout",
     "output_type": "stream",
     "text": [
      "Training_loss 0.00067,   Relative Error 0.00293\n",
      "Training_loss 0.00065,   Relative Error 0.00289\n"
     ]
    },
    {
     "name": "stderr",
     "output_type": "stream",
     "text": [
      " 25%|██▍       | 494/2000 [01:19<04:02,  6.20it/s]"
     ]
    },
    {
     "name": "stdout",
     "output_type": "stream",
     "text": [
      "Training_loss 0.00065,   Relative Error 0.00292\n",
      "Training_loss 0.00070,   Relative Error 0.00301\n"
     ]
    },
    {
     "name": "stderr",
     "output_type": "stream",
     "text": [
      " 25%|██▍       | 496/2000 [01:20<03:51,  6.48it/s]"
     ]
    },
    {
     "name": "stdout",
     "output_type": "stream",
     "text": [
      "Training_loss 0.00067,   Relative Error 0.00293\n",
      "Training_loss 0.00068,   Relative Error 0.00297\n"
     ]
    },
    {
     "name": "stderr",
     "output_type": "stream",
     "text": [
      " 25%|██▍       | 498/2000 [01:20<04:13,  5.94it/s]"
     ]
    },
    {
     "name": "stdout",
     "output_type": "stream",
     "text": [
      "Training_loss 0.00070,   Relative Error 0.00304\n",
      "Training_loss 0.00070,   Relative Error 0.00305\n"
     ]
    },
    {
     "name": "stderr",
     "output_type": "stream",
     "text": [
      " 25%|██▌       | 500/2000 [01:20<03:47,  6.58it/s]"
     ]
    },
    {
     "name": "stdout",
     "output_type": "stream",
     "text": [
      "Training_loss 0.00069,   Relative Error 0.00302\n",
      "Training_loss 0.00066,   Relative Error 0.00295\n"
     ]
    },
    {
     "name": "stderr",
     "output_type": "stream",
     "text": [
      " 25%|██▌       | 502/2000 [01:21<03:19,  7.50it/s]"
     ]
    },
    {
     "name": "stdout",
     "output_type": "stream",
     "text": [
      "Training_loss 0.00065,   Relative Error 0.00294\n",
      "Training_loss 0.00061,   Relative Error 0.00282\n"
     ]
    },
    {
     "name": "stderr",
     "output_type": "stream",
     "text": [
      " 25%|██▌       | 504/2000 [01:21<03:28,  7.19it/s]"
     ]
    },
    {
     "name": "stdout",
     "output_type": "stream",
     "text": [
      "Training_loss 0.00061,   Relative Error 0.00283\n",
      "Training_loss 0.00062,   Relative Error 0.00285\n"
     ]
    },
    {
     "name": "stderr",
     "output_type": "stream",
     "text": [
      " 25%|██▌       | 506/2000 [01:21<03:22,  7.37it/s]"
     ]
    },
    {
     "name": "stdout",
     "output_type": "stream",
     "text": [
      "Training_loss 0.00065,   Relative Error 0.00290\n",
      "Training_loss 0.00067,   Relative Error 0.00298\n"
     ]
    },
    {
     "name": "stderr",
     "output_type": "stream",
     "text": [
      " 25%|██▌       | 508/2000 [01:21<03:44,  6.64it/s]"
     ]
    },
    {
     "name": "stdout",
     "output_type": "stream",
     "text": [
      "Training_loss 0.00069,   Relative Error 0.00303\n",
      "Training_loss 0.00067,   Relative Error 0.00302\n"
     ]
    },
    {
     "name": "stderr",
     "output_type": "stream",
     "text": [
      " 26%|██▌       | 510/2000 [01:22<04:19,  5.74it/s]"
     ]
    },
    {
     "name": "stdout",
     "output_type": "stream",
     "text": [
      "Training_loss 0.00068,   Relative Error 0.00304\n",
      "Training_loss 0.00061,   Relative Error 0.00288\n"
     ]
    },
    {
     "name": "stderr",
     "output_type": "stream",
     "text": [
      "\r",
      " 26%|██▌       | 511/2000 [01:22<04:25,  5.61it/s]"
     ]
    },
    {
     "name": "stdout",
     "output_type": "stream",
     "text": [
      "Training_loss 0.00061,   Relative Error 0.00291\n"
     ]
    },
    {
     "name": "stderr",
     "output_type": "stream",
     "text": [
      " 26%|██▌       | 513/2000 [01:22<04:54,  5.04it/s]"
     ]
    },
    {
     "name": "stdout",
     "output_type": "stream",
     "text": [
      "Training_loss 0.00063,   Relative Error 0.00295\n",
      "Training_loss 0.00067,   Relative Error 0.00303\n"
     ]
    },
    {
     "name": "stderr",
     "output_type": "stream",
     "text": [
      " 26%|██▌       | 515/2000 [01:23<04:27,  5.55it/s]"
     ]
    },
    {
     "name": "stdout",
     "output_type": "stream",
     "text": [
      "Training_loss 0.00067,   Relative Error 0.00303\n",
      "Training_loss 0.00069,   Relative Error 0.00305\n"
     ]
    },
    {
     "name": "stderr",
     "output_type": "stream",
     "text": [
      " 26%|██▌       | 517/2000 [01:23<04:31,  5.46it/s]"
     ]
    },
    {
     "name": "stdout",
     "output_type": "stream",
     "text": [
      "Training_loss 0.00064,   Relative Error 0.00295\n",
      "Training_loss 0.00067,   Relative Error 0.00301\n"
     ]
    },
    {
     "name": "stderr",
     "output_type": "stream",
     "text": [
      " 26%|██▌       | 519/2000 [01:23<03:55,  6.28it/s]"
     ]
    },
    {
     "name": "stdout",
     "output_type": "stream",
     "text": [
      "Training_loss 0.00068,   Relative Error 0.00303\n",
      "Training_loss 0.00070,   Relative Error 0.00309\n"
     ]
    },
    {
     "name": "stderr",
     "output_type": "stream",
     "text": [
      " 26%|██▌       | 521/2000 [01:24<03:45,  6.57it/s]"
     ]
    },
    {
     "name": "stdout",
     "output_type": "stream",
     "text": [
      "Training_loss 0.00073,   Relative Error 0.00317\n",
      "Training_loss 0.00075,   Relative Error 0.00322\n"
     ]
    },
    {
     "name": "stderr",
     "output_type": "stream",
     "text": [
      "\r",
      " 26%|██▌       | 522/2000 [01:24<04:33,  5.41it/s]"
     ]
    },
    {
     "name": "stdout",
     "output_type": "stream",
     "text": [
      "Training_loss 0.00079,   Relative Error 0.00330\n"
     ]
    },
    {
     "name": "stderr",
     "output_type": "stream",
     "text": [
      "\r",
      " 26%|██▌       | 523/2000 [01:24<05:09,  4.77it/s]"
     ]
    },
    {
     "name": "stdout",
     "output_type": "stream",
     "text": [
      "Training_loss 0.00077,   Relative Error 0.00326\n"
     ]
    },
    {
     "name": "stderr",
     "output_type": "stream",
     "text": [
      " 26%|██▋       | 525/2000 [01:25<05:14,  4.69it/s]"
     ]
    },
    {
     "name": "stdout",
     "output_type": "stream",
     "text": [
      "Training_loss 0.00077,   Relative Error 0.00325\n",
      "Training_loss 0.00080,   Relative Error 0.00333\n"
     ]
    },
    {
     "name": "stderr",
     "output_type": "stream",
     "text": [
      "\r",
      " 26%|██▋       | 526/2000 [01:25<05:11,  4.74it/s]"
     ]
    },
    {
     "name": "stdout",
     "output_type": "stream",
     "text": [
      "Training_loss 0.00080,   Relative Error 0.00331\n"
     ]
    },
    {
     "name": "stderr",
     "output_type": "stream",
     "text": [
      " 26%|██▋       | 528/2000 [01:25<05:29,  4.47it/s]"
     ]
    },
    {
     "name": "stdout",
     "output_type": "stream",
     "text": [
      "Training_loss 0.00080,   Relative Error 0.00332\n",
      "Training_loss 0.00079,   Relative Error 0.00332\n"
     ]
    },
    {
     "name": "stderr",
     "output_type": "stream",
     "text": [
      "\r",
      " 26%|██▋       | 529/2000 [01:26<05:16,  4.64it/s]"
     ]
    },
    {
     "name": "stdout",
     "output_type": "stream",
     "text": [
      "Training_loss 0.00078,   Relative Error 0.00328\n"
     ]
    },
    {
     "name": "stderr",
     "output_type": "stream",
     "text": [
      " 27%|██▋       | 531/2000 [01:26<05:16,  4.64it/s]"
     ]
    },
    {
     "name": "stdout",
     "output_type": "stream",
     "text": [
      "Training_loss 0.00084,   Relative Error 0.00341\n",
      "Training_loss 0.00085,   Relative Error 0.00342\n"
     ]
    },
    {
     "name": "stderr",
     "output_type": "stream",
     "text": [
      "\r",
      " 27%|██▋       | 532/2000 [01:26<05:26,  4.50it/s]"
     ]
    },
    {
     "name": "stdout",
     "output_type": "stream",
     "text": [
      "Training_loss 0.00086,   Relative Error 0.00345\n"
     ]
    },
    {
     "name": "stderr",
     "output_type": "stream",
     "text": [
      "\r",
      " 27%|██▋       | 533/2000 [01:27<06:06,  4.01it/s]"
     ]
    },
    {
     "name": "stdout",
     "output_type": "stream",
     "text": [
      "Training_loss 0.00082,   Relative Error 0.00338\n"
     ]
    },
    {
     "name": "stderr",
     "output_type": "stream",
     "text": [
      "\r",
      " 27%|██▋       | 534/2000 [01:27<06:59,  3.49it/s]"
     ]
    },
    {
     "name": "stdout",
     "output_type": "stream",
     "text": [
      "Training_loss 0.00078,   Relative Error 0.00330\n"
     ]
    },
    {
     "name": "stderr",
     "output_type": "stream",
     "text": [
      "\r",
      " 27%|██▋       | 535/2000 [01:27<07:36,  3.21it/s]"
     ]
    },
    {
     "name": "stdout",
     "output_type": "stream",
     "text": [
      "Training_loss 0.00080,   Relative Error 0.00335\n"
     ]
    },
    {
     "name": "stderr",
     "output_type": "stream",
     "text": [
      "\r",
      " 27%|██▋       | 536/2000 [01:28<07:16,  3.35it/s]"
     ]
    },
    {
     "name": "stdout",
     "output_type": "stream",
     "text": [
      "Training_loss 0.00083,   Relative Error 0.00343\n"
     ]
    },
    {
     "name": "stderr",
     "output_type": "stream",
     "text": [
      "\r",
      " 27%|██▋       | 537/2000 [01:28<06:54,  3.53it/s]"
     ]
    },
    {
     "name": "stdout",
     "output_type": "stream",
     "text": [
      "Training_loss 0.00083,   Relative Error 0.00344\n"
     ]
    },
    {
     "name": "stderr",
     "output_type": "stream",
     "text": [
      "\r",
      " 27%|██▋       | 538/2000 [01:28<06:30,  3.74it/s]"
     ]
    },
    {
     "name": "stdout",
     "output_type": "stream",
     "text": [
      "Training_loss 0.00085,   Relative Error 0.00349\n"
     ]
    },
    {
     "name": "stderr",
     "output_type": "stream",
     "text": [
      "\r",
      " 27%|██▋       | 539/2000 [01:28<06:21,  3.83it/s]"
     ]
    },
    {
     "name": "stdout",
     "output_type": "stream",
     "text": [
      "Training_loss 0.00083,   Relative Error 0.00345\n"
     ]
    },
    {
     "name": "stderr",
     "output_type": "stream",
     "text": [
      " 27%|██▋       | 541/2000 [01:29<05:31,  4.40it/s]"
     ]
    },
    {
     "name": "stdout",
     "output_type": "stream",
     "text": [
      "Training_loss 0.00081,   Relative Error 0.00339\n",
      "Training_loss 0.00082,   Relative Error 0.00343\n"
     ]
    },
    {
     "name": "stderr",
     "output_type": "stream",
     "text": [
      " 27%|██▋       | 543/2000 [01:29<04:39,  5.22it/s]"
     ]
    },
    {
     "name": "stdout",
     "output_type": "stream",
     "text": [
      "Training_loss 0.00082,   Relative Error 0.00344\n",
      "Training_loss 0.00085,   Relative Error 0.00350\n"
     ]
    },
    {
     "name": "stderr",
     "output_type": "stream",
     "text": [
      " 27%|██▋       | 545/2000 [01:29<03:58,  6.09it/s]"
     ]
    },
    {
     "name": "stdout",
     "output_type": "stream",
     "text": [
      "Training_loss 0.00084,   Relative Error 0.00348\n",
      "Training_loss 0.00083,   Relative Error 0.00345\n"
     ]
    },
    {
     "name": "stderr",
     "output_type": "stream",
     "text": [
      " 27%|██▋       | 547/2000 [01:30<03:38,  6.64it/s]"
     ]
    },
    {
     "name": "stdout",
     "output_type": "stream",
     "text": [
      "Training_loss 0.00081,   Relative Error 0.00341\n",
      "Training_loss 0.00079,   Relative Error 0.00338\n"
     ]
    },
    {
     "name": "stderr",
     "output_type": "stream",
     "text": [
      " 27%|██▋       | 549/2000 [01:30<04:13,  5.72it/s]"
     ]
    },
    {
     "name": "stdout",
     "output_type": "stream",
     "text": [
      "Training_loss 0.00078,   Relative Error 0.00334\n",
      "Training_loss 0.00075,   Relative Error 0.00327\n"
     ]
    },
    {
     "name": "stderr",
     "output_type": "stream",
     "text": [
      " 28%|██▊       | 551/2000 [01:30<04:28,  5.39it/s]"
     ]
    },
    {
     "name": "stdout",
     "output_type": "stream",
     "text": [
      "Training_loss 0.00079,   Relative Error 0.00333\n",
      "Training_loss 0.00082,   Relative Error 0.00343\n"
     ]
    },
    {
     "name": "stderr",
     "output_type": "stream",
     "text": [
      " 28%|██▊       | 553/2000 [01:31<04:46,  5.05it/s]"
     ]
    },
    {
     "name": "stdout",
     "output_type": "stream",
     "text": [
      "Training_loss 0.00078,   Relative Error 0.00332\n",
      "Training_loss 0.00080,   Relative Error 0.00337\n"
     ]
    },
    {
     "name": "stderr",
     "output_type": "stream",
     "text": [
      " 28%|██▊       | 555/2000 [01:31<04:19,  5.57it/s]"
     ]
    },
    {
     "name": "stdout",
     "output_type": "stream",
     "text": [
      "Training_loss 0.00083,   Relative Error 0.00341\n",
      "Training_loss 0.00082,   Relative Error 0.00341\n"
     ]
    },
    {
     "name": "stderr",
     "output_type": "stream",
     "text": [
      " 28%|██▊       | 557/2000 [01:31<03:38,  6.60it/s]"
     ]
    },
    {
     "name": "stdout",
     "output_type": "stream",
     "text": [
      "Training_loss 0.00085,   Relative Error 0.00348\n",
      "Training_loss 0.00083,   Relative Error 0.00345\n"
     ]
    },
    {
     "name": "stderr",
     "output_type": "stream",
     "text": [
      "\r",
      " 28%|██▊       | 558/2000 [01:32<04:05,  5.87it/s]"
     ]
    },
    {
     "name": "stdout",
     "output_type": "stream",
     "text": [
      "Training_loss 0.00082,   Relative Error 0.00342\n"
     ]
    },
    {
     "name": "stderr",
     "output_type": "stream",
     "text": [
      "\r",
      " 28%|██▊       | 559/2000 [01:32<04:40,  5.14it/s]"
     ]
    },
    {
     "name": "stdout",
     "output_type": "stream",
     "text": [
      "Training_loss 0.00083,   Relative Error 0.00344\n"
     ]
    },
    {
     "name": "stderr",
     "output_type": "stream",
     "text": [
      "\r",
      " 28%|██▊       | 560/2000 [01:32<05:06,  4.70it/s]"
     ]
    },
    {
     "name": "stdout",
     "output_type": "stream",
     "text": [
      "Training_loss 0.00085,   Relative Error 0.00347\n"
     ]
    },
    {
     "name": "stderr",
     "output_type": "stream",
     "text": [
      " 28%|██▊       | 562/2000 [01:33<05:10,  4.63it/s]"
     ]
    },
    {
     "name": "stdout",
     "output_type": "stream",
     "text": [
      "Training_loss 0.00085,   Relative Error 0.00348\n",
      "Training_loss 0.00081,   Relative Error 0.00339\n"
     ]
    },
    {
     "name": "stderr",
     "output_type": "stream",
     "text": [
      "\r",
      " 28%|██▊       | 563/2000 [01:33<04:34,  5.23it/s]"
     ]
    },
    {
     "name": "stdout",
     "output_type": "stream",
     "text": [
      "Training_loss 0.00075,   Relative Error 0.00323\n"
     ]
    },
    {
     "name": "stderr",
     "output_type": "stream",
     "text": [
      "\r",
      " 28%|██▊       | 564/2000 [01:33<05:01,  4.76it/s]"
     ]
    },
    {
     "name": "stdout",
     "output_type": "stream",
     "text": [
      "Training_loss 0.00076,   Relative Error 0.00324\n"
     ]
    },
    {
     "name": "stderr",
     "output_type": "stream",
     "text": [
      "\r",
      " 28%|██▊       | 565/2000 [01:33<05:11,  4.60it/s]"
     ]
    },
    {
     "name": "stdout",
     "output_type": "stream",
     "text": [
      "Training_loss 0.00079,   Relative Error 0.00331\n"
     ]
    },
    {
     "name": "stderr",
     "output_type": "stream",
     "text": [
      "\r",
      " 28%|██▊       | 566/2000 [01:33<05:07,  4.66it/s]"
     ]
    },
    {
     "name": "stdout",
     "output_type": "stream",
     "text": [
      "Training_loss 0.00079,   Relative Error 0.00328\n"
     ]
    },
    {
     "name": "stderr",
     "output_type": "stream",
     "text": [
      "\r",
      " 28%|██▊       | 567/2000 [01:34<05:15,  4.54it/s]"
     ]
    },
    {
     "name": "stdout",
     "output_type": "stream",
     "text": [
      "Training_loss 0.00073,   Relative Error 0.00316\n"
     ]
    },
    {
     "name": "stderr",
     "output_type": "stream",
     "text": [
      "\r",
      " 28%|██▊       | 568/2000 [01:34<05:35,  4.27it/s]"
     ]
    },
    {
     "name": "stdout",
     "output_type": "stream",
     "text": [
      "Training_loss 0.00069,   Relative Error 0.00305\n"
     ]
    },
    {
     "name": "stderr",
     "output_type": "stream",
     "text": [
      " 28%|██▊       | 570/2000 [01:34<05:21,  4.44it/s]"
     ]
    },
    {
     "name": "stdout",
     "output_type": "stream",
     "text": [
      "Training_loss 0.00073,   Relative Error 0.00313\n",
      "Training_loss 0.00075,   Relative Error 0.00317\n"
     ]
    },
    {
     "name": "stderr",
     "output_type": "stream",
     "text": [
      " 29%|██▊       | 572/2000 [01:35<04:58,  4.78it/s]"
     ]
    },
    {
     "name": "stdout",
     "output_type": "stream",
     "text": [
      "Training_loss 0.00078,   Relative Error 0.00323\n",
      "Training_loss 0.00083,   Relative Error 0.00332\n"
     ]
    },
    {
     "name": "stderr",
     "output_type": "stream",
     "text": [
      " 29%|██▊       | 574/2000 [01:35<04:18,  5.53it/s]"
     ]
    },
    {
     "name": "stdout",
     "output_type": "stream",
     "text": [
      "Training_loss 0.00084,   Relative Error 0.00334\n",
      "Training_loss 0.00079,   Relative Error 0.00323\n"
     ]
    },
    {
     "name": "stderr",
     "output_type": "stream",
     "text": [
      "\r",
      " 29%|██▉       | 575/2000 [01:35<04:06,  5.78it/s]"
     ]
    },
    {
     "name": "stdout",
     "output_type": "stream",
     "text": [
      "Training_loss 0.00083,   Relative Error 0.00333\n"
     ]
    },
    {
     "name": "stderr",
     "output_type": "stream",
     "text": [
      "\r",
      " 29%|██▉       | 576/2000 [01:35<04:31,  5.24it/s]"
     ]
    },
    {
     "name": "stdout",
     "output_type": "stream",
     "text": [
      "Training_loss 0.00085,   Relative Error 0.00337\n"
     ]
    },
    {
     "name": "stderr",
     "output_type": "stream",
     "text": [
      "\r",
      " 29%|██▉       | 577/2000 [01:36<04:40,  5.07it/s]"
     ]
    },
    {
     "name": "stdout",
     "output_type": "stream",
     "text": [
      "Training_loss 0.00080,   Relative Error 0.00328\n"
     ]
    },
    {
     "name": "stderr",
     "output_type": "stream",
     "text": [
      " 29%|██▉       | 579/2000 [01:36<04:44,  5.00it/s]"
     ]
    },
    {
     "name": "stdout",
     "output_type": "stream",
     "text": [
      "Training_loss 0.00081,   Relative Error 0.00329\n",
      "Training_loss 0.00072,   Relative Error 0.00312\n"
     ]
    },
    {
     "name": "stderr",
     "output_type": "stream",
     "text": [
      " 29%|██▉       | 581/2000 [01:36<04:39,  5.08it/s]"
     ]
    },
    {
     "name": "stdout",
     "output_type": "stream",
     "text": [
      "Training_loss 0.00075,   Relative Error 0.00321\n",
      "Training_loss 0.00078,   Relative Error 0.00328\n"
     ]
    },
    {
     "name": "stderr",
     "output_type": "stream",
     "text": [
      " 29%|██▉       | 583/2000 [01:37<04:11,  5.64it/s]"
     ]
    },
    {
     "name": "stdout",
     "output_type": "stream",
     "text": [
      "Training_loss 0.00073,   Relative Error 0.00316\n",
      "Training_loss 0.00076,   Relative Error 0.00322\n"
     ]
    },
    {
     "name": "stderr",
     "output_type": "stream",
     "text": [
      "\r",
      " 29%|██▉       | 584/2000 [01:37<04:15,  5.55it/s]"
     ]
    },
    {
     "name": "stdout",
     "output_type": "stream",
     "text": [
      "Training_loss 0.00080,   Relative Error 0.00328\n"
     ]
    },
    {
     "name": "stderr",
     "output_type": "stream",
     "text": [
      "\r",
      " 29%|██▉       | 585/2000 [01:37<04:26,  5.31it/s]"
     ]
    },
    {
     "name": "stdout",
     "output_type": "stream",
     "text": [
      "Training_loss 0.00083,   Relative Error 0.00333\n"
     ]
    },
    {
     "name": "stderr",
     "output_type": "stream",
     "text": [
      " 29%|██▉       | 587/2000 [01:38<04:34,  5.16it/s]"
     ]
    },
    {
     "name": "stdout",
     "output_type": "stream",
     "text": [
      "Training_loss 0.00086,   Relative Error 0.00341\n",
      "Training_loss 0.00087,   Relative Error 0.00341\n"
     ]
    },
    {
     "name": "stderr",
     "output_type": "stream",
     "text": [
      "\r",
      " 29%|██▉       | 588/2000 [01:38<04:59,  4.72it/s]"
     ]
    },
    {
     "name": "stdout",
     "output_type": "stream",
     "text": [
      "Training_loss 0.00083,   Relative Error 0.00335\n"
     ]
    },
    {
     "name": "stderr",
     "output_type": "stream",
     "text": [
      " 30%|██▉       | 590/2000 [01:38<04:46,  4.93it/s]"
     ]
    },
    {
     "name": "stdout",
     "output_type": "stream",
     "text": [
      "Training_loss 0.00086,   Relative Error 0.00339\n",
      "Training_loss 0.00091,   Relative Error 0.00352\n"
     ]
    },
    {
     "name": "stderr",
     "output_type": "stream",
     "text": [
      " 30%|██▉       | 592/2000 [01:39<03:51,  6.09it/s]"
     ]
    },
    {
     "name": "stdout",
     "output_type": "stream",
     "text": [
      "Training_loss 0.00090,   Relative Error 0.00351\n",
      "Training_loss 0.00086,   Relative Error 0.00346\n"
     ]
    },
    {
     "name": "stderr",
     "output_type": "stream",
     "text": [
      " 30%|██▉       | 594/2000 [01:39<03:41,  6.36it/s]"
     ]
    },
    {
     "name": "stdout",
     "output_type": "stream",
     "text": [
      "Training_loss 0.00085,   Relative Error 0.00346\n",
      "Training_loss 0.00088,   Relative Error 0.00351\n"
     ]
    },
    {
     "name": "stderr",
     "output_type": "stream",
     "text": [
      "\r",
      " 30%|██▉       | 595/2000 [01:39<04:03,  5.76it/s]"
     ]
    },
    {
     "name": "stdout",
     "output_type": "stream",
     "text": [
      "Training_loss 0.00087,   Relative Error 0.00350\n"
     ]
    },
    {
     "name": "stderr",
     "output_type": "stream",
     "text": [
      " 30%|██▉       | 597/2000 [01:39<04:29,  5.21it/s]"
     ]
    },
    {
     "name": "stdout",
     "output_type": "stream",
     "text": [
      "Training_loss 0.00079,   Relative Error 0.00332\n",
      "Training_loss 0.00082,   Relative Error 0.00336\n"
     ]
    },
    {
     "name": "stderr",
     "output_type": "stream",
     "text": [
      "\r",
      " 30%|██▉       | 598/2000 [01:40<04:12,  5.55it/s]"
     ]
    },
    {
     "name": "stdout",
     "output_type": "stream",
     "text": [
      "Training_loss 0.00077,   Relative Error 0.00326\n"
     ]
    },
    {
     "name": "stderr",
     "output_type": "stream",
     "text": [
      " 30%|███       | 600/2000 [01:40<04:35,  5.08it/s]"
     ]
    },
    {
     "name": "stdout",
     "output_type": "stream",
     "text": [
      "Training_loss 0.00078,   Relative Error 0.00329\n",
      "Training_loss 0.00080,   Relative Error 0.00334\n"
     ]
    },
    {
     "name": "stderr",
     "output_type": "stream",
     "text": [
      " 30%|███       | 602/2000 [01:40<03:52,  6.00it/s]"
     ]
    },
    {
     "name": "stdout",
     "output_type": "stream",
     "text": [
      "Training_loss 0.00081,   Relative Error 0.00336\n",
      "Training_loss 0.00084,   Relative Error 0.00342\n"
     ]
    },
    {
     "name": "stderr",
     "output_type": "stream",
     "text": [
      " 30%|███       | 604/2000 [01:41<03:36,  6.46it/s]"
     ]
    },
    {
     "name": "stdout",
     "output_type": "stream",
     "text": [
      "Training_loss 0.00083,   Relative Error 0.00344\n",
      "Training_loss 0.00084,   Relative Error 0.00347\n"
     ]
    },
    {
     "name": "stderr",
     "output_type": "stream",
     "text": [
      " 30%|███       | 606/2000 [01:41<04:20,  5.36it/s]"
     ]
    },
    {
     "name": "stdout",
     "output_type": "stream",
     "text": [
      "Training_loss 0.00087,   Relative Error 0.00351\n",
      "Training_loss 0.00093,   Relative Error 0.00361\n"
     ]
    },
    {
     "name": "stderr",
     "output_type": "stream",
     "text": [
      " 30%|███       | 608/2000 [01:41<03:51,  6.01it/s]"
     ]
    },
    {
     "name": "stdout",
     "output_type": "stream",
     "text": [
      "Training_loss 0.00098,   Relative Error 0.00369\n",
      "Training_loss 0.00102,   Relative Error 0.00377\n"
     ]
    },
    {
     "name": "stderr",
     "output_type": "stream",
     "text": [
      " 30%|███       | 610/2000 [01:42<03:51,  6.02it/s]"
     ]
    },
    {
     "name": "stdout",
     "output_type": "stream",
     "text": [
      "Training_loss 0.00098,   Relative Error 0.00370\n",
      "Training_loss 0.00090,   Relative Error 0.00352\n"
     ]
    },
    {
     "name": "stderr",
     "output_type": "stream",
     "text": [
      "\r",
      " 31%|███       | 611/2000 [01:42<04:12,  5.51it/s]"
     ]
    },
    {
     "name": "stdout",
     "output_type": "stream",
     "text": [
      "Training_loss 0.00083,   Relative Error 0.00340\n"
     ]
    },
    {
     "name": "stderr",
     "output_type": "stream",
     "text": [
      "\r",
      " 31%|███       | 612/2000 [01:42<04:33,  5.07it/s]"
     ]
    },
    {
     "name": "stdout",
     "output_type": "stream",
     "text": [
      "Training_loss 0.00087,   Relative Error 0.00346\n"
     ]
    },
    {
     "name": "stderr",
     "output_type": "stream",
     "text": [
      " 31%|███       | 614/2000 [01:42<04:06,  5.62it/s]"
     ]
    },
    {
     "name": "stdout",
     "output_type": "stream",
     "text": [
      "Training_loss 0.00085,   Relative Error 0.00342\n",
      "Training_loss 0.00088,   Relative Error 0.00347\n"
     ]
    },
    {
     "name": "stderr",
     "output_type": "stream",
     "text": [
      " 31%|███       | 616/2000 [01:43<04:05,  5.63it/s]"
     ]
    },
    {
     "name": "stdout",
     "output_type": "stream",
     "text": [
      "Training_loss 0.00090,   Relative Error 0.00354\n",
      "Training_loss 0.00094,   Relative Error 0.00362\n"
     ]
    },
    {
     "name": "stderr",
     "output_type": "stream",
     "text": [
      "\r",
      " 31%|███       | 617/2000 [01:43<04:33,  5.06it/s]"
     ]
    },
    {
     "name": "stdout",
     "output_type": "stream",
     "text": [
      "Training_loss 0.00097,   Relative Error 0.00370\n"
     ]
    },
    {
     "name": "stderr",
     "output_type": "stream",
     "text": [
      "\r",
      " 31%|███       | 618/2000 [01:43<04:47,  4.81it/s]"
     ]
    },
    {
     "name": "stdout",
     "output_type": "stream",
     "text": [
      "Training_loss 0.00089,   Relative Error 0.00354\n"
     ]
    },
    {
     "name": "stderr",
     "output_type": "stream",
     "text": [
      "\r",
      " 31%|███       | 619/2000 [01:44<05:13,  4.41it/s]"
     ]
    },
    {
     "name": "stdout",
     "output_type": "stream",
     "text": [
      "Training_loss 0.00079,   Relative Error 0.00334\n"
     ]
    },
    {
     "name": "stderr",
     "output_type": "stream",
     "text": [
      "\r",
      " 31%|███       | 620/2000 [01:44<05:21,  4.30it/s]"
     ]
    },
    {
     "name": "stdout",
     "output_type": "stream",
     "text": [
      "Training_loss 0.00080,   Relative Error 0.00338\n"
     ]
    },
    {
     "name": "stderr",
     "output_type": "stream",
     "text": [
      "\r",
      " 31%|███       | 621/2000 [01:44<05:09,  4.45it/s]"
     ]
    },
    {
     "name": "stdout",
     "output_type": "stream",
     "text": [
      "Training_loss 0.00085,   Relative Error 0.00347\n"
     ]
    },
    {
     "name": "stderr",
     "output_type": "stream",
     "text": [
      "\r",
      " 31%|███       | 622/2000 [01:44<05:19,  4.31it/s]"
     ]
    },
    {
     "name": "stdout",
     "output_type": "stream",
     "text": [
      "Training_loss 0.00083,   Relative Error 0.00347\n"
     ]
    },
    {
     "name": "stderr",
     "output_type": "stream",
     "text": [
      "\r",
      " 31%|███       | 623/2000 [01:45<05:24,  4.24it/s]"
     ]
    },
    {
     "name": "stdout",
     "output_type": "stream",
     "text": [
      "Training_loss 0.00081,   Relative Error 0.00342\n"
     ]
    },
    {
     "name": "stderr",
     "output_type": "stream",
     "text": [
      "\r",
      " 31%|███       | 624/2000 [01:45<05:54,  3.88it/s]"
     ]
    },
    {
     "name": "stdout",
     "output_type": "stream",
     "text": [
      "Training_loss 0.00083,   Relative Error 0.00347\n"
     ]
    },
    {
     "name": "stderr",
     "output_type": "stream",
     "text": [
      "\r",
      " 31%|███▏      | 625/2000 [01:45<05:55,  3.87it/s]"
     ]
    },
    {
     "name": "stdout",
     "output_type": "stream",
     "text": [
      "Training_loss 0.00086,   Relative Error 0.00354\n"
     ]
    },
    {
     "name": "stderr",
     "output_type": "stream",
     "text": [
      " 31%|███▏      | 627/2000 [01:45<04:58,  4.60it/s]"
     ]
    },
    {
     "name": "stdout",
     "output_type": "stream",
     "text": [
      "Training_loss 0.00087,   Relative Error 0.00353\n",
      "Training_loss 0.00082,   Relative Error 0.00342\n"
     ]
    },
    {
     "name": "stderr",
     "output_type": "stream",
     "text": [
      " 31%|███▏      | 629/2000 [01:46<04:11,  5.46it/s]"
     ]
    },
    {
     "name": "stdout",
     "output_type": "stream",
     "text": [
      "Training_loss 0.00077,   Relative Error 0.00330\n",
      "Training_loss 0.00081,   Relative Error 0.00338\n"
     ]
    },
    {
     "name": "stderr",
     "output_type": "stream",
     "text": [
      " 32%|███▏      | 631/2000 [01:46<03:46,  6.04it/s]"
     ]
    },
    {
     "name": "stdout",
     "output_type": "stream",
     "text": [
      "Training_loss 0.00085,   Relative Error 0.00347\n",
      "Training_loss 0.00089,   Relative Error 0.00359\n"
     ]
    },
    {
     "name": "stderr",
     "output_type": "stream",
     "text": [
      " 32%|███▏      | 633/2000 [01:46<03:33,  6.41it/s]"
     ]
    },
    {
     "name": "stdout",
     "output_type": "stream",
     "text": [
      "Training_loss 0.00084,   Relative Error 0.00348\n",
      "Training_loss 0.00079,   Relative Error 0.00339\n"
     ]
    },
    {
     "name": "stderr",
     "output_type": "stream",
     "text": [
      " 32%|███▏      | 635/2000 [01:47<03:16,  6.93it/s]"
     ]
    },
    {
     "name": "stdout",
     "output_type": "stream",
     "text": [
      "Training_loss 0.00081,   Relative Error 0.00340\n",
      "Training_loss 0.00083,   Relative Error 0.00344\n"
     ]
    },
    {
     "name": "stderr",
     "output_type": "stream",
     "text": [
      " 32%|███▏      | 637/2000 [01:47<03:15,  6.97it/s]"
     ]
    },
    {
     "name": "stdout",
     "output_type": "stream",
     "text": [
      "Training_loss 0.00085,   Relative Error 0.00349\n",
      "Training_loss 0.00087,   Relative Error 0.00352\n"
     ]
    },
    {
     "name": "stderr",
     "output_type": "stream",
     "text": [
      " 32%|███▏      | 639/2000 [01:47<03:12,  7.08it/s]"
     ]
    },
    {
     "name": "stdout",
     "output_type": "stream",
     "text": [
      "Training_loss 0.00086,   Relative Error 0.00351\n",
      "Training_loss 0.00084,   Relative Error 0.00349\n"
     ]
    },
    {
     "name": "stderr",
     "output_type": "stream",
     "text": [
      "\r",
      " 32%|███▏      | 640/2000 [01:47<03:30,  6.46it/s]"
     ]
    },
    {
     "name": "stdout",
     "output_type": "stream",
     "text": [
      "Training_loss 0.00084,   Relative Error 0.00348\n"
     ]
    },
    {
     "name": "stderr",
     "output_type": "stream",
     "text": [
      "\r",
      " 32%|███▏      | 641/2000 [01:48<04:19,  5.24it/s]"
     ]
    },
    {
     "name": "stdout",
     "output_type": "stream",
     "text": [
      "Training_loss 0.00084,   Relative Error 0.00346\n"
     ]
    },
    {
     "name": "stderr",
     "output_type": "stream",
     "text": [
      " 32%|███▏      | 643/2000 [01:48<04:20,  5.20it/s]"
     ]
    },
    {
     "name": "stdout",
     "output_type": "stream",
     "text": [
      "Training_loss 0.00085,   Relative Error 0.00349\n",
      "Training_loss 0.00085,   Relative Error 0.00349\n"
     ]
    },
    {
     "name": "stderr",
     "output_type": "stream",
     "text": [
      " 32%|███▏      | 645/2000 [01:48<04:02,  5.59it/s]"
     ]
    },
    {
     "name": "stdout",
     "output_type": "stream",
     "text": [
      "Training_loss 0.00088,   Relative Error 0.00354\n",
      "Training_loss 0.00091,   Relative Error 0.00361\n"
     ]
    },
    {
     "name": "stderr",
     "output_type": "stream",
     "text": [
      " 32%|███▏      | 647/2000 [01:49<04:12,  5.36it/s]"
     ]
    },
    {
     "name": "stdout",
     "output_type": "stream",
     "text": [
      "Training_loss 0.00085,   Relative Error 0.00350\n",
      "Training_loss 0.00087,   Relative Error 0.00357\n"
     ]
    },
    {
     "name": "stderr",
     "output_type": "stream",
     "text": [
      " 32%|███▏      | 649/2000 [01:49<04:22,  5.15it/s]"
     ]
    },
    {
     "name": "stdout",
     "output_type": "stream",
     "text": [
      "Training_loss 0.00085,   Relative Error 0.00354\n",
      "Training_loss 0.00085,   Relative Error 0.00355\n"
     ]
    },
    {
     "name": "stderr",
     "output_type": "stream",
     "text": [
      "\r",
      " 32%|███▎      | 650/2000 [01:49<04:12,  5.34it/s]"
     ]
    },
    {
     "name": "stdout",
     "output_type": "stream",
     "text": [
      "Training_loss 0.00081,   Relative Error 0.00344\n"
     ]
    },
    {
     "name": "stderr",
     "output_type": "stream",
     "text": [
      " 33%|███▎      | 652/2000 [01:50<04:21,  5.15it/s]"
     ]
    },
    {
     "name": "stdout",
     "output_type": "stream",
     "text": [
      "Training_loss 0.00083,   Relative Error 0.00346\n",
      "Training_loss 0.00084,   Relative Error 0.00347\n"
     ]
    },
    {
     "name": "stderr",
     "output_type": "stream",
     "text": [
      " 33%|███▎      | 654/2000 [01:50<04:10,  5.37it/s]"
     ]
    },
    {
     "name": "stdout",
     "output_type": "stream",
     "text": [
      "Training_loss 0.00083,   Relative Error 0.00345\n",
      "Training_loss 0.00082,   Relative Error 0.00344\n"
     ]
    },
    {
     "name": "stderr",
     "output_type": "stream",
     "text": [
      " 33%|███▎      | 656/2000 [01:50<03:50,  5.83it/s]"
     ]
    },
    {
     "name": "stdout",
     "output_type": "stream",
     "text": [
      "Training_loss 0.00085,   Relative Error 0.00350\n",
      "Training_loss 0.00087,   Relative Error 0.00355\n"
     ]
    },
    {
     "name": "stderr",
     "output_type": "stream",
     "text": [
      " 33%|███▎      | 658/2000 [01:51<04:10,  5.35it/s]"
     ]
    },
    {
     "name": "stdout",
     "output_type": "stream",
     "text": [
      "Training_loss 0.00087,   Relative Error 0.00358\n",
      "Training_loss 0.00085,   Relative Error 0.00352\n"
     ]
    },
    {
     "name": "stderr",
     "output_type": "stream",
     "text": [
      " 33%|███▎      | 660/2000 [01:51<03:45,  5.93it/s]"
     ]
    },
    {
     "name": "stdout",
     "output_type": "stream",
     "text": [
      "Training_loss 0.00081,   Relative Error 0.00341\n",
      "Training_loss 0.00081,   Relative Error 0.00341\n"
     ]
    },
    {
     "name": "stderr",
     "output_type": "stream",
     "text": [
      "\r",
      " 33%|███▎      | 661/2000 [01:51<03:25,  6.52it/s]"
     ]
    },
    {
     "name": "stdout",
     "output_type": "stream",
     "text": [
      "Training_loss 0.00084,   Relative Error 0.00350\n"
     ]
    },
    {
     "name": "stderr",
     "output_type": "stream",
     "text": [
      " 33%|███▎      | 663/2000 [01:52<03:44,  5.96it/s]"
     ]
    },
    {
     "name": "stdout",
     "output_type": "stream",
     "text": [
      "Training_loss 0.00087,   Relative Error 0.00357\n",
      "Training_loss 0.00090,   Relative Error 0.00364\n"
     ]
    },
    {
     "name": "stderr",
     "output_type": "stream",
     "text": [
      "\r",
      " 33%|███▎      | 664/2000 [01:52<03:46,  5.90it/s]"
     ]
    },
    {
     "name": "stdout",
     "output_type": "stream",
     "text": [
      "Training_loss 0.00094,   Relative Error 0.00372\n"
     ]
    },
    {
     "name": "stderr",
     "output_type": "stream",
     "text": [
      "\r",
      " 33%|███▎      | 665/2000 [01:52<04:18,  5.16it/s]"
     ]
    },
    {
     "name": "stdout",
     "output_type": "stream",
     "text": [
      "Training_loss 0.00093,   Relative Error 0.00371\n"
     ]
    },
    {
     "name": "stderr",
     "output_type": "stream",
     "text": [
      "\r",
      " 33%|███▎      | 666/2000 [01:52<04:49,  4.60it/s]"
     ]
    },
    {
     "name": "stdout",
     "output_type": "stream",
     "text": [
      "Training_loss 0.00096,   Relative Error 0.00375\n"
     ]
    },
    {
     "name": "stderr",
     "output_type": "stream",
     "text": [
      "\r",
      " 33%|███▎      | 667/2000 [01:53<04:50,  4.59it/s]"
     ]
    },
    {
     "name": "stdout",
     "output_type": "stream",
     "text": [
      "Training_loss 0.00098,   Relative Error 0.00380\n"
     ]
    },
    {
     "name": "stderr",
     "output_type": "stream",
     "text": [
      "\r",
      " 33%|███▎      | 668/2000 [01:53<05:02,  4.40it/s]"
     ]
    },
    {
     "name": "stdout",
     "output_type": "stream",
     "text": [
      "Training_loss 0.00099,   Relative Error 0.00381\n"
     ]
    },
    {
     "name": "stderr",
     "output_type": "stream",
     "text": [
      "\r",
      " 33%|███▎      | 669/2000 [01:53<05:10,  4.29it/s]"
     ]
    },
    {
     "name": "stdout",
     "output_type": "stream",
     "text": [
      "Training_loss 0.00090,   Relative Error 0.00364\n"
     ]
    },
    {
     "name": "stderr",
     "output_type": "stream",
     "text": [
      " 34%|███▎      | 671/2000 [01:53<04:36,  4.80it/s]"
     ]
    },
    {
     "name": "stdout",
     "output_type": "stream",
     "text": [
      "Training_loss 0.00090,   Relative Error 0.00365\n",
      "Training_loss 0.00089,   Relative Error 0.00363\n"
     ]
    },
    {
     "name": "stderr",
     "output_type": "stream",
     "text": [
      " 34%|███▎      | 673/2000 [01:54<03:51,  5.73it/s]"
     ]
    },
    {
     "name": "stdout",
     "output_type": "stream",
     "text": [
      "Training_loss 0.00091,   Relative Error 0.00364\n",
      "Training_loss 0.00091,   Relative Error 0.00366\n"
     ]
    },
    {
     "name": "stderr",
     "output_type": "stream",
     "text": [
      " 34%|███▍      | 675/2000 [01:54<03:32,  6.23it/s]"
     ]
    },
    {
     "name": "stdout",
     "output_type": "stream",
     "text": [
      "Training_loss 0.00097,   Relative Error 0.00377\n",
      "Training_loss 0.00102,   Relative Error 0.00385\n"
     ]
    },
    {
     "name": "stderr",
     "output_type": "stream",
     "text": [
      " 34%|███▍      | 677/2000 [01:54<03:29,  6.32it/s]"
     ]
    },
    {
     "name": "stdout",
     "output_type": "stream",
     "text": [
      "Training_loss 0.00108,   Relative Error 0.00397\n",
      "Training_loss 0.00108,   Relative Error 0.00396\n"
     ]
    },
    {
     "name": "stderr",
     "output_type": "stream",
     "text": [
      " 34%|███▍      | 679/2000 [01:55<03:18,  6.66it/s]"
     ]
    },
    {
     "name": "stdout",
     "output_type": "stream",
     "text": [
      "Training_loss 0.00107,   Relative Error 0.00396\n",
      "Training_loss 0.00111,   Relative Error 0.00404\n"
     ]
    },
    {
     "name": "stderr",
     "output_type": "stream",
     "text": [
      " 34%|███▍      | 681/2000 [01:55<03:27,  6.35it/s]"
     ]
    },
    {
     "name": "stdout",
     "output_type": "stream",
     "text": [
      "Training_loss 0.00112,   Relative Error 0.00404\n",
      "Training_loss 0.00116,   Relative Error 0.00412\n"
     ]
    },
    {
     "name": "stderr",
     "output_type": "stream",
     "text": [
      " 34%|███▍      | 683/2000 [01:55<03:25,  6.41it/s]"
     ]
    },
    {
     "name": "stdout",
     "output_type": "stream",
     "text": [
      "Training_loss 0.00118,   Relative Error 0.00416\n",
      "Training_loss 0.00123,   Relative Error 0.00424\n"
     ]
    },
    {
     "name": "stderr",
     "output_type": "stream",
     "text": [
      " 34%|███▍      | 685/2000 [01:56<03:33,  6.17it/s]"
     ]
    },
    {
     "name": "stdout",
     "output_type": "stream",
     "text": [
      "Training_loss 0.00119,   Relative Error 0.00417\n",
      "Training_loss 0.00121,   Relative Error 0.00419\n"
     ]
    },
    {
     "name": "stderr",
     "output_type": "stream",
     "text": [
      " 34%|███▍      | 687/2000 [01:56<03:37,  6.03it/s]"
     ]
    },
    {
     "name": "stdout",
     "output_type": "stream",
     "text": [
      "Training_loss 0.00122,   Relative Error 0.00421\n",
      "Training_loss 0.00120,   Relative Error 0.00417\n"
     ]
    },
    {
     "name": "stderr",
     "output_type": "stream",
     "text": [
      "\r",
      " 34%|███▍      | 688/2000 [01:56<03:50,  5.69it/s]"
     ]
    },
    {
     "name": "stdout",
     "output_type": "stream",
     "text": [
      "Training_loss 0.00116,   Relative Error 0.00411\n"
     ]
    },
    {
     "name": "stderr",
     "output_type": "stream",
     "text": [
      " 34%|███▍      | 690/2000 [01:57<04:00,  5.46it/s]"
     ]
    },
    {
     "name": "stdout",
     "output_type": "stream",
     "text": [
      "Training_loss 0.00111,   Relative Error 0.00402\n",
      "Training_loss 0.00112,   Relative Error 0.00402\n"
     ]
    },
    {
     "name": "stderr",
     "output_type": "stream",
     "text": [
      " 35%|███▍      | 692/2000 [01:57<03:42,  5.87it/s]"
     ]
    },
    {
     "name": "stdout",
     "output_type": "stream",
     "text": [
      "Training_loss 0.00106,   Relative Error 0.00392\n",
      "Training_loss 0.00110,   Relative Error 0.00398\n"
     ]
    },
    {
     "name": "stderr",
     "output_type": "stream",
     "text": [
      " 35%|███▍      | 694/2000 [01:57<03:24,  6.40it/s]"
     ]
    },
    {
     "name": "stdout",
     "output_type": "stream",
     "text": [
      "Training_loss 0.00110,   Relative Error 0.00401\n",
      "Training_loss 0.00107,   Relative Error 0.00394\n"
     ]
    },
    {
     "name": "stderr",
     "output_type": "stream",
     "text": [
      " 35%|███▍      | 696/2000 [01:57<03:14,  6.70it/s]"
     ]
    },
    {
     "name": "stdout",
     "output_type": "stream",
     "text": [
      "Training_loss 0.00099,   Relative Error 0.00379\n",
      "Training_loss 0.00102,   Relative Error 0.00384\n"
     ]
    },
    {
     "name": "stderr",
     "output_type": "stream",
     "text": [
      " 35%|███▍      | 698/2000 [01:58<03:14,  6.68it/s]"
     ]
    },
    {
     "name": "stdout",
     "output_type": "stream",
     "text": [
      "Training_loss 0.00099,   Relative Error 0.00378\n",
      "Training_loss 0.00095,   Relative Error 0.00373\n"
     ]
    },
    {
     "name": "stderr",
     "output_type": "stream",
     "text": [
      " 35%|███▌      | 700/2000 [01:58<03:11,  6.79it/s]"
     ]
    },
    {
     "name": "stdout",
     "output_type": "stream",
     "text": [
      "Training_loss 0.00098,   Relative Error 0.00377\n",
      "Training_loss 0.00101,   Relative Error 0.00384\n"
     ]
    },
    {
     "name": "stderr",
     "output_type": "stream",
     "text": [
      " 35%|███▌      | 702/2000 [01:58<03:12,  6.73it/s]"
     ]
    },
    {
     "name": "stdout",
     "output_type": "stream",
     "text": [
      "Training_loss 0.00101,   Relative Error 0.00386\n",
      "Training_loss 0.00107,   Relative Error 0.00398\n"
     ]
    },
    {
     "name": "stderr",
     "output_type": "stream",
     "text": [
      "\r",
      " 35%|███▌      | 703/2000 [01:59<03:49,  5.66it/s]"
     ]
    },
    {
     "name": "stdout",
     "output_type": "stream",
     "text": [
      "Training_loss 0.00109,   Relative Error 0.00400\n"
     ]
    },
    {
     "name": "stderr",
     "output_type": "stream",
     "text": [
      "\r",
      " 35%|███▌      | 704/2000 [01:59<04:32,  4.75it/s]"
     ]
    },
    {
     "name": "stdout",
     "output_type": "stream",
     "text": [
      "Training_loss 0.00111,   Relative Error 0.00403\n"
     ]
    },
    {
     "name": "stderr",
     "output_type": "stream",
     "text": [
      " 35%|███▌      | 706/2000 [01:59<04:30,  4.78it/s]"
     ]
    },
    {
     "name": "stdout",
     "output_type": "stream",
     "text": [
      "Training_loss 0.00111,   Relative Error 0.00401\n",
      "Training_loss 0.00114,   Relative Error 0.00407\n"
     ]
    },
    {
     "name": "stderr",
     "output_type": "stream",
     "text": [
      " 35%|███▌      | 708/2000 [02:00<03:58,  5.42it/s]"
     ]
    },
    {
     "name": "stdout",
     "output_type": "stream",
     "text": [
      "Training_loss 0.00116,   Relative Error 0.00410\n",
      "Training_loss 0.00118,   Relative Error 0.00415\n"
     ]
    },
    {
     "name": "stderr",
     "output_type": "stream",
     "text": [
      "\r",
      " 35%|███▌      | 709/2000 [02:00<04:07,  5.21it/s]"
     ]
    },
    {
     "name": "stdout",
     "output_type": "stream",
     "text": [
      "Training_loss 0.00117,   Relative Error 0.00412\n"
     ]
    },
    {
     "name": "stderr",
     "output_type": "stream",
     "text": [
      " 36%|███▌      | 711/2000 [02:00<04:19,  4.97it/s]"
     ]
    },
    {
     "name": "stdout",
     "output_type": "stream",
     "text": [
      "Training_loss 0.00109,   Relative Error 0.00398\n",
      "Training_loss 0.00115,   Relative Error 0.00409\n"
     ]
    },
    {
     "name": "stderr",
     "output_type": "stream",
     "text": [
      "\r",
      " 36%|███▌      | 712/2000 [02:00<04:38,  4.62it/s]"
     ]
    },
    {
     "name": "stdout",
     "output_type": "stream",
     "text": [
      "Training_loss 0.00114,   Relative Error 0.00408\n"
     ]
    },
    {
     "name": "stderr",
     "output_type": "stream",
     "text": [
      "\r",
      " 36%|███▌      | 713/2000 [02:01<05:06,  4.21it/s]"
     ]
    },
    {
     "name": "stdout",
     "output_type": "stream",
     "text": [
      "Training_loss 0.00110,   Relative Error 0.00402\n"
     ]
    },
    {
     "name": "stderr",
     "output_type": "stream",
     "text": [
      "\r",
      " 36%|███▌      | 714/2000 [02:01<05:25,  3.95it/s]"
     ]
    },
    {
     "name": "stdout",
     "output_type": "stream",
     "text": [
      "Training_loss 0.00112,   Relative Error 0.00405\n"
     ]
    },
    {
     "name": "stderr",
     "output_type": "stream",
     "text": [
      "\r",
      " 36%|███▌      | 715/2000 [02:01<05:41,  3.76it/s]"
     ]
    },
    {
     "name": "stdout",
     "output_type": "stream",
     "text": [
      "Training_loss 0.00111,   Relative Error 0.00404\n"
     ]
    },
    {
     "name": "stderr",
     "output_type": "stream",
     "text": [
      "\r",
      " 36%|███▌      | 716/2000 [02:02<05:33,  3.85it/s]"
     ]
    },
    {
     "name": "stdout",
     "output_type": "stream",
     "text": [
      "Training_loss 0.00110,   Relative Error 0.00402\n"
     ]
    },
    {
     "name": "stderr",
     "output_type": "stream",
     "text": [
      "\r",
      " 36%|███▌      | 717/2000 [02:02<05:16,  4.06it/s]"
     ]
    },
    {
     "name": "stdout",
     "output_type": "stream",
     "text": [
      "Training_loss 0.00109,   Relative Error 0.00399\n"
     ]
    },
    {
     "name": "stderr",
     "output_type": "stream",
     "text": [
      "\r",
      " 36%|███▌      | 718/2000 [02:02<05:20,  4.01it/s]"
     ]
    },
    {
     "name": "stdout",
     "output_type": "stream",
     "text": [
      "Training_loss 0.00103,   Relative Error 0.00388\n"
     ]
    },
    {
     "name": "stderr",
     "output_type": "stream",
     "text": [
      " 36%|███▌      | 720/2000 [02:02<04:49,  4.42it/s]"
     ]
    },
    {
     "name": "stdout",
     "output_type": "stream",
     "text": [
      "Training_loss 0.00098,   Relative Error 0.00378\n",
      "Training_loss 0.00095,   Relative Error 0.00373\n"
     ]
    },
    {
     "name": "stderr",
     "output_type": "stream",
     "text": [
      " 36%|███▌      | 722/2000 [02:03<04:43,  4.51it/s]"
     ]
    },
    {
     "name": "stdout",
     "output_type": "stream",
     "text": [
      "Training_loss 0.00096,   Relative Error 0.00375\n",
      "Training_loss 0.00097,   Relative Error 0.00378\n"
     ]
    },
    {
     "name": "stderr",
     "output_type": "stream",
     "text": [
      "\r",
      " 36%|███▌      | 723/2000 [02:03<04:57,  4.30it/s]"
     ]
    },
    {
     "name": "stdout",
     "output_type": "stream",
     "text": [
      "Training_loss 0.00097,   Relative Error 0.00378\n"
     ]
    },
    {
     "name": "stderr",
     "output_type": "stream",
     "text": [
      "\r",
      " 36%|███▌      | 724/2000 [02:03<05:11,  4.10it/s]"
     ]
    },
    {
     "name": "stdout",
     "output_type": "stream",
     "text": [
      "Training_loss 0.00102,   Relative Error 0.00387\n"
     ]
    },
    {
     "name": "stderr",
     "output_type": "stream",
     "text": [
      "\r",
      " 36%|███▋      | 725/2000 [02:04<05:17,  4.02it/s]"
     ]
    },
    {
     "name": "stdout",
     "output_type": "stream",
     "text": [
      "Training_loss 0.00102,   Relative Error 0.00387\n"
     ]
    },
    {
     "name": "stderr",
     "output_type": "stream",
     "text": [
      " 36%|███▋      | 727/2000 [02:04<04:50,  4.39it/s]"
     ]
    },
    {
     "name": "stdout",
     "output_type": "stream",
     "text": [
      "Training_loss 0.00101,   Relative Error 0.00385\n",
      "Training_loss 0.00098,   Relative Error 0.00380\n"
     ]
    },
    {
     "name": "stderr",
     "output_type": "stream",
     "text": [
      " 36%|███▋      | 729/2000 [02:04<03:59,  5.30it/s]"
     ]
    },
    {
     "name": "stdout",
     "output_type": "stream",
     "text": [
      "Training_loss 0.00098,   Relative Error 0.00380\n",
      "Training_loss 0.00098,   Relative Error 0.00380\n"
     ]
    },
    {
     "name": "stderr",
     "output_type": "stream",
     "text": [
      " 37%|███▋      | 731/2000 [02:05<03:53,  5.45it/s]"
     ]
    },
    {
     "name": "stdout",
     "output_type": "stream",
     "text": [
      "Training_loss 0.00101,   Relative Error 0.00385\n",
      "Training_loss 0.00098,   Relative Error 0.00380\n"
     ]
    },
    {
     "name": "stderr",
     "output_type": "stream",
     "text": [
      "\r",
      " 37%|███▋      | 732/2000 [02:05<04:06,  5.13it/s]"
     ]
    },
    {
     "name": "stdout",
     "output_type": "stream",
     "text": [
      "Training_loss 0.00101,   Relative Error 0.00385\n"
     ]
    },
    {
     "name": "stderr",
     "output_type": "stream",
     "text": [
      "\r",
      " 37%|███▋      | 733/2000 [02:05<04:38,  4.56it/s]"
     ]
    },
    {
     "name": "stdout",
     "output_type": "stream",
     "text": [
      "Training_loss 0.00102,   Relative Error 0.00387\n"
     ]
    },
    {
     "name": "stderr",
     "output_type": "stream",
     "text": [
      "\r",
      " 37%|███▋      | 734/2000 [02:06<04:53,  4.32it/s]"
     ]
    },
    {
     "name": "stdout",
     "output_type": "stream",
     "text": [
      "Training_loss 0.00101,   Relative Error 0.00384\n"
     ]
    },
    {
     "name": "stderr",
     "output_type": "stream",
     "text": [
      "\r",
      " 37%|███▋      | 735/2000 [02:06<04:50,  4.35it/s]"
     ]
    },
    {
     "name": "stdout",
     "output_type": "stream",
     "text": [
      "Training_loss 0.00102,   Relative Error 0.00388\n"
     ]
    },
    {
     "name": "stderr",
     "output_type": "stream",
     "text": [
      "\r",
      " 37%|███▋      | 736/2000 [02:06<05:15,  4.01it/s]"
     ]
    },
    {
     "name": "stdout",
     "output_type": "stream",
     "text": [
      "Training_loss 0.00092,   Relative Error 0.00366\n"
     ]
    },
    {
     "name": "stderr",
     "output_type": "stream",
     "text": [
      "\r",
      " 37%|███▋      | 737/2000 [02:06<05:02,  4.17it/s]"
     ]
    },
    {
     "name": "stdout",
     "output_type": "stream",
     "text": [
      "Training_loss 0.00091,   Relative Error 0.00366\n"
     ]
    },
    {
     "name": "stderr",
     "output_type": "stream",
     "text": [
      "\r",
      " 37%|███▋      | 738/2000 [02:07<04:55,  4.28it/s]"
     ]
    },
    {
     "name": "stdout",
     "output_type": "stream",
     "text": [
      "Training_loss 0.00093,   Relative Error 0.00369\n"
     ]
    },
    {
     "name": "stderr",
     "output_type": "stream",
     "text": [
      "\r",
      " 37%|███▋      | 739/2000 [02:07<05:51,  3.59it/s]"
     ]
    },
    {
     "name": "stdout",
     "output_type": "stream",
     "text": [
      "Training_loss 0.00092,   Relative Error 0.00369\n"
     ]
    },
    {
     "name": "stderr",
     "output_type": "stream",
     "text": [
      "\r",
      " 37%|███▋      | 740/2000 [02:07<05:53,  3.56it/s]"
     ]
    },
    {
     "name": "stdout",
     "output_type": "stream",
     "text": [
      "Training_loss 0.00088,   Relative Error 0.00360\n"
     ]
    },
    {
     "name": "stderr",
     "output_type": "stream",
     "text": [
      " 37%|███▋      | 742/2000 [02:08<05:06,  4.11it/s]"
     ]
    },
    {
     "name": "stdout",
     "output_type": "stream",
     "text": [
      "Training_loss 0.00093,   Relative Error 0.00370\n",
      "Training_loss 0.00097,   Relative Error 0.00380\n"
     ]
    },
    {
     "name": "stderr",
     "output_type": "stream",
     "text": [
      " 37%|███▋      | 744/2000 [02:08<04:48,  4.36it/s]"
     ]
    },
    {
     "name": "stdout",
     "output_type": "stream",
     "text": [
      "Training_loss 0.00102,   Relative Error 0.00390\n",
      "Training_loss 0.00092,   Relative Error 0.00369\n"
     ]
    },
    {
     "name": "stderr",
     "output_type": "stream",
     "text": [
      "\r",
      " 37%|███▋      | 745/2000 [02:08<05:08,  4.07it/s]"
     ]
    },
    {
     "name": "stdout",
     "output_type": "stream",
     "text": [
      "Training_loss 0.00094,   Relative Error 0.00372\n"
     ]
    },
    {
     "name": "stderr",
     "output_type": "stream",
     "text": [
      "\r",
      " 37%|███▋      | 746/2000 [02:09<05:07,  4.07it/s]"
     ]
    },
    {
     "name": "stdout",
     "output_type": "stream",
     "text": [
      "Training_loss 0.00094,   Relative Error 0.00371\n"
     ]
    },
    {
     "name": "stderr",
     "output_type": "stream",
     "text": [
      " 37%|███▋      | 748/2000 [02:09<04:37,  4.52it/s]"
     ]
    },
    {
     "name": "stdout",
     "output_type": "stream",
     "text": [
      "Training_loss 0.00095,   Relative Error 0.00376\n",
      "Training_loss 0.00091,   Relative Error 0.00368\n"
     ]
    },
    {
     "name": "stderr",
     "output_type": "stream",
     "text": [
      " 38%|███▊      | 750/2000 [02:09<04:12,  4.95it/s]"
     ]
    },
    {
     "name": "stdout",
     "output_type": "stream",
     "text": [
      "Training_loss 0.00087,   Relative Error 0.00358\n",
      "Training_loss 0.00091,   Relative Error 0.00367\n"
     ]
    },
    {
     "name": "stderr",
     "output_type": "stream",
     "text": [
      " 38%|███▊      | 752/2000 [02:10<04:11,  4.96it/s]"
     ]
    },
    {
     "name": "stdout",
     "output_type": "stream",
     "text": [
      "Training_loss 0.00081,   Relative Error 0.00347\n",
      "Training_loss 0.00080,   Relative Error 0.00343\n"
     ]
    },
    {
     "name": "stderr",
     "output_type": "stream",
     "text": [
      " 38%|███▊      | 754/2000 [02:10<03:42,  5.59it/s]"
     ]
    },
    {
     "name": "stdout",
     "output_type": "stream",
     "text": [
      "Training_loss 0.00081,   Relative Error 0.00347\n",
      "Training_loss 0.00080,   Relative Error 0.00345\n"
     ]
    },
    {
     "name": "stderr",
     "output_type": "stream",
     "text": [
      " 38%|███▊      | 756/2000 [02:10<03:43,  5.57it/s]"
     ]
    },
    {
     "name": "stdout",
     "output_type": "stream",
     "text": [
      "Training_loss 0.00083,   Relative Error 0.00349\n",
      "Training_loss 0.00086,   Relative Error 0.00356\n"
     ]
    },
    {
     "name": "stderr",
     "output_type": "stream",
     "text": [
      "\r",
      " 38%|███▊      | 757/2000 [02:11<03:57,  5.23it/s]"
     ]
    },
    {
     "name": "stdout",
     "output_type": "stream",
     "text": [
      "Training_loss 0.00087,   Relative Error 0.00358\n"
     ]
    },
    {
     "name": "stderr",
     "output_type": "stream",
     "text": [
      "\r",
      " 38%|███▊      | 758/2000 [02:11<04:13,  4.91it/s]"
     ]
    },
    {
     "name": "stdout",
     "output_type": "stream",
     "text": [
      "Training_loss 0.00091,   Relative Error 0.00365\n"
     ]
    },
    {
     "name": "stderr",
     "output_type": "stream",
     "text": [
      "\r",
      " 38%|███▊      | 759/2000 [02:11<04:22,  4.73it/s]"
     ]
    },
    {
     "name": "stdout",
     "output_type": "stream",
     "text": [
      "Training_loss 0.00091,   Relative Error 0.00366\n"
     ]
    },
    {
     "name": "stderr",
     "output_type": "stream",
     "text": [
      "\r",
      " 38%|███▊      | 760/2000 [02:11<04:38,  4.45it/s]"
     ]
    },
    {
     "name": "stdout",
     "output_type": "stream",
     "text": [
      "Training_loss 0.00085,   Relative Error 0.00352\n"
     ]
    },
    {
     "name": "stderr",
     "output_type": "stream",
     "text": [
      "\r",
      " 38%|███▊      | 761/2000 [02:12<04:41,  4.40it/s]"
     ]
    },
    {
     "name": "stdout",
     "output_type": "stream",
     "text": [
      "Training_loss 0.00085,   Relative Error 0.00353\n"
     ]
    },
    {
     "name": "stderr",
     "output_type": "stream",
     "text": [
      "\r",
      " 38%|███▊      | 762/2000 [02:12<04:43,  4.37it/s]"
     ]
    },
    {
     "name": "stdout",
     "output_type": "stream",
     "text": [
      "Training_loss 0.00073,   Relative Error 0.00326\n"
     ]
    },
    {
     "name": "stderr",
     "output_type": "stream",
     "text": [
      "\r",
      " 38%|███▊      | 763/2000 [02:12<05:02,  4.10it/s]"
     ]
    },
    {
     "name": "stdout",
     "output_type": "stream",
     "text": [
      "Training_loss 0.00077,   Relative Error 0.00334\n"
     ]
    },
    {
     "name": "stderr",
     "output_type": "stream",
     "text": [
      "\r",
      " 38%|███▊      | 764/2000 [02:12<05:27,  3.78it/s]"
     ]
    },
    {
     "name": "stdout",
     "output_type": "stream",
     "text": [
      "Training_loss 0.00078,   Relative Error 0.00337\n"
     ]
    },
    {
     "name": "stderr",
     "output_type": "stream",
     "text": [
      "\r",
      " 38%|███▊      | 765/2000 [02:13<05:31,  3.72it/s]"
     ]
    },
    {
     "name": "stdout",
     "output_type": "stream",
     "text": [
      "Training_loss 0.00076,   Relative Error 0.00330\n"
     ]
    },
    {
     "name": "stderr",
     "output_type": "stream",
     "text": [
      " 38%|███▊      | 767/2000 [02:13<04:48,  4.27it/s]"
     ]
    },
    {
     "name": "stdout",
     "output_type": "stream",
     "text": [
      "Training_loss 0.00072,   Relative Error 0.00322\n",
      "Training_loss 0.00070,   Relative Error 0.00317\n"
     ]
    },
    {
     "name": "stderr",
     "output_type": "stream",
     "text": [
      "\r",
      " 38%|███▊      | 768/2000 [02:13<04:33,  4.50it/s]"
     ]
    },
    {
     "name": "stdout",
     "output_type": "stream",
     "text": [
      "Training_loss 0.00071,   Relative Error 0.00319\n"
     ]
    },
    {
     "name": "stderr",
     "output_type": "stream",
     "text": [
      "\r",
      " 38%|███▊      | 769/2000 [02:14<04:37,  4.43it/s]"
     ]
    },
    {
     "name": "stdout",
     "output_type": "stream",
     "text": [
      "Training_loss 0.00072,   Relative Error 0.00320\n"
     ]
    },
    {
     "name": "stderr",
     "output_type": "stream",
     "text": [
      "\r",
      " 38%|███▊      | 770/2000 [02:14<04:39,  4.40it/s]"
     ]
    },
    {
     "name": "stdout",
     "output_type": "stream",
     "text": [
      "Training_loss 0.00070,   Relative Error 0.00313\n"
     ]
    },
    {
     "name": "stderr",
     "output_type": "stream",
     "text": [
      "\r",
      " 39%|███▊      | 771/2000 [02:14<04:39,  4.40it/s]"
     ]
    },
    {
     "name": "stdout",
     "output_type": "stream",
     "text": [
      "Training_loss 0.00070,   Relative Error 0.00314\n"
     ]
    },
    {
     "name": "stderr",
     "output_type": "stream",
     "text": [
      "\r",
      " 39%|███▊      | 772/2000 [02:14<04:39,  4.40it/s]"
     ]
    },
    {
     "name": "stdout",
     "output_type": "stream",
     "text": [
      "Training_loss 0.00070,   Relative Error 0.00315\n"
     ]
    },
    {
     "name": "stderr",
     "output_type": "stream",
     "text": [
      " 39%|███▊      | 774/2000 [02:15<04:19,  4.73it/s]"
     ]
    },
    {
     "name": "stdout",
     "output_type": "stream",
     "text": [
      "Training_loss 0.00071,   Relative Error 0.00319\n",
      "Training_loss 0.00076,   Relative Error 0.00332\n"
     ]
    },
    {
     "name": "stderr",
     "output_type": "stream",
     "text": [
      " 39%|███▉      | 776/2000 [02:15<04:17,  4.76it/s]"
     ]
    },
    {
     "name": "stdout",
     "output_type": "stream",
     "text": [
      "Training_loss 0.00079,   Relative Error 0.00339\n",
      "Training_loss 0.00079,   Relative Error 0.00338\n"
     ]
    },
    {
     "name": "stderr",
     "output_type": "stream",
     "text": [
      " 39%|███▉      | 778/2000 [02:15<04:01,  5.05it/s]"
     ]
    },
    {
     "name": "stdout",
     "output_type": "stream",
     "text": [
      "Training_loss 0.00075,   Relative Error 0.00329\n",
      "Training_loss 0.00077,   Relative Error 0.00335\n"
     ]
    },
    {
     "name": "stderr",
     "output_type": "stream",
     "text": [
      " 39%|███▉      | 780/2000 [02:16<04:09,  4.89it/s]"
     ]
    },
    {
     "name": "stdout",
     "output_type": "stream",
     "text": [
      "Training_loss 0.00075,   Relative Error 0.00329\n",
      "Training_loss 0.00064,   Relative Error 0.00305\n"
     ]
    },
    {
     "name": "stderr",
     "output_type": "stream",
     "text": [
      " 39%|███▉      | 782/2000 [02:16<03:59,  5.08it/s]"
     ]
    },
    {
     "name": "stdout",
     "output_type": "stream",
     "text": [
      "Training_loss 0.00067,   Relative Error 0.00313\n",
      "Training_loss 0.00067,   Relative Error 0.00315\n"
     ]
    },
    {
     "name": "stderr",
     "output_type": "stream",
     "text": [
      "\r",
      " 39%|███▉      | 783/2000 [02:16<04:06,  4.93it/s]"
     ]
    },
    {
     "name": "stdout",
     "output_type": "stream",
     "text": [
      "Training_loss 0.00067,   Relative Error 0.00313\n"
     ]
    },
    {
     "name": "stderr",
     "output_type": "stream",
     "text": [
      "\r",
      " 39%|███▉      | 784/2000 [02:17<04:23,  4.62it/s]"
     ]
    },
    {
     "name": "stdout",
     "output_type": "stream",
     "text": [
      "Training_loss 0.00068,   Relative Error 0.00316\n"
     ]
    },
    {
     "name": "stderr",
     "output_type": "stream",
     "text": [
      "\r",
      " 39%|███▉      | 785/2000 [02:17<05:01,  4.02it/s]"
     ]
    },
    {
     "name": "stdout",
     "output_type": "stream",
     "text": [
      "Training_loss 0.00071,   Relative Error 0.00324\n"
     ]
    },
    {
     "name": "stderr",
     "output_type": "stream",
     "text": [
      "\r",
      " 39%|███▉      | 786/2000 [02:17<05:11,  3.90it/s]"
     ]
    },
    {
     "name": "stdout",
     "output_type": "stream",
     "text": [
      "Training_loss 0.00069,   Relative Error 0.00318\n"
     ]
    },
    {
     "name": "stderr",
     "output_type": "stream",
     "text": [
      "\r",
      " 39%|███▉      | 787/2000 [02:18<05:30,  3.67it/s]"
     ]
    },
    {
     "name": "stdout",
     "output_type": "stream",
     "text": [
      "Training_loss 0.00068,   Relative Error 0.00316\n"
     ]
    },
    {
     "name": "stderr",
     "output_type": "stream",
     "text": [
      "\r",
      " 39%|███▉      | 788/2000 [02:18<05:08,  3.93it/s]"
     ]
    },
    {
     "name": "stdout",
     "output_type": "stream",
     "text": [
      "Training_loss 0.00069,   Relative Error 0.00317\n"
     ]
    },
    {
     "name": "stderr",
     "output_type": "stream",
     "text": [
      " 40%|███▉      | 790/2000 [02:18<04:49,  4.18it/s]"
     ]
    },
    {
     "name": "stdout",
     "output_type": "stream",
     "text": [
      "Training_loss 0.00067,   Relative Error 0.00315\n",
      "Training_loss 0.00063,   Relative Error 0.00304\n"
     ]
    },
    {
     "name": "stderr",
     "output_type": "stream",
     "text": [
      "\r",
      " 40%|███▉      | 791/2000 [02:19<04:54,  4.10it/s]"
     ]
    },
    {
     "name": "stdout",
     "output_type": "stream",
     "text": [
      "Training_loss 0.00068,   Relative Error 0.00315\n"
     ]
    },
    {
     "name": "stderr",
     "output_type": "stream",
     "text": [
      "\r",
      " 40%|███▉      | 792/2000 [02:19<04:54,  4.10it/s]"
     ]
    },
    {
     "name": "stdout",
     "output_type": "stream",
     "text": [
      "Training_loss 0.00072,   Relative Error 0.00325\n"
     ]
    },
    {
     "name": "stderr",
     "output_type": "stream",
     "text": [
      "\r",
      " 40%|███▉      | 793/2000 [02:19<04:54,  4.10it/s]"
     ]
    },
    {
     "name": "stdout",
     "output_type": "stream",
     "text": [
      "Training_loss 0.00068,   Relative Error 0.00316\n"
     ]
    },
    {
     "name": "stderr",
     "output_type": "stream",
     "text": [
      "\r",
      " 40%|███▉      | 794/2000 [02:19<04:58,  4.04it/s]"
     ]
    },
    {
     "name": "stdout",
     "output_type": "stream",
     "text": [
      "Training_loss 0.00070,   Relative Error 0.00322\n"
     ]
    },
    {
     "name": "stderr",
     "output_type": "stream",
     "text": [
      "\r",
      " 40%|███▉      | 795/2000 [02:20<05:33,  3.61it/s]"
     ]
    },
    {
     "name": "stdout",
     "output_type": "stream",
     "text": [
      "Training_loss 0.00067,   Relative Error 0.00314\n"
     ]
    },
    {
     "name": "stderr",
     "output_type": "stream",
     "text": [
      "\r",
      " 40%|███▉      | 796/2000 [02:20<05:45,  3.49it/s]"
     ]
    },
    {
     "name": "stdout",
     "output_type": "stream",
     "text": [
      "Training_loss 0.00069,   Relative Error 0.00318\n"
     ]
    },
    {
     "name": "stderr",
     "output_type": "stream",
     "text": [
      "\r",
      " 40%|███▉      | 797/2000 [02:20<05:37,  3.56it/s]"
     ]
    },
    {
     "name": "stdout",
     "output_type": "stream",
     "text": [
      "Training_loss 0.00070,   Relative Error 0.00319\n"
     ]
    },
    {
     "name": "stderr",
     "output_type": "stream",
     "text": [
      " 40%|███▉      | 799/2000 [02:21<04:59,  4.01it/s]"
     ]
    },
    {
     "name": "stdout",
     "output_type": "stream",
     "text": [
      "Training_loss 0.00069,   Relative Error 0.00316\n",
      "Training_loss 0.00070,   Relative Error 0.00318\n"
     ]
    },
    {
     "name": "stderr",
     "output_type": "stream",
     "text": [
      " 40%|████      | 801/2000 [02:21<04:13,  4.73it/s]"
     ]
    },
    {
     "name": "stdout",
     "output_type": "stream",
     "text": [
      "Training_loss 0.00072,   Relative Error 0.00325\n",
      "Training_loss 0.00075,   Relative Error 0.00334\n"
     ]
    },
    {
     "name": "stderr",
     "output_type": "stream",
     "text": [
      " 40%|████      | 803/2000 [02:21<03:40,  5.42it/s]"
     ]
    },
    {
     "name": "stdout",
     "output_type": "stream",
     "text": [
      "Training_loss 0.00078,   Relative Error 0.00338\n",
      "Training_loss 0.00080,   Relative Error 0.00342\n"
     ]
    },
    {
     "name": "stderr",
     "output_type": "stream",
     "text": [
      " 40%|████      | 805/2000 [02:22<03:15,  6.11it/s]"
     ]
    },
    {
     "name": "stdout",
     "output_type": "stream",
     "text": [
      "Training_loss 0.00082,   Relative Error 0.00346\n",
      "Training_loss 0.00085,   Relative Error 0.00353\n"
     ]
    },
    {
     "name": "stderr",
     "output_type": "stream",
     "text": [
      " 40%|████      | 807/2000 [02:22<03:11,  6.24it/s]"
     ]
    },
    {
     "name": "stdout",
     "output_type": "stream",
     "text": [
      "Training_loss 0.00088,   Relative Error 0.00360\n",
      "Training_loss 0.00091,   Relative Error 0.00367\n"
     ]
    },
    {
     "name": "stderr",
     "output_type": "stream",
     "text": [
      " 40%|████      | 809/2000 [02:22<03:09,  6.29it/s]"
     ]
    },
    {
     "name": "stdout",
     "output_type": "stream",
     "text": [
      "Training_loss 0.00095,   Relative Error 0.00374\n",
      "Training_loss 0.00090,   Relative Error 0.00365\n"
     ]
    },
    {
     "name": "stderr",
     "output_type": "stream",
     "text": [
      "\r",
      " 40%|████      | 810/2000 [02:22<03:39,  5.43it/s]"
     ]
    },
    {
     "name": "stdout",
     "output_type": "stream",
     "text": [
      "Training_loss 0.00093,   Relative Error 0.00372\n"
     ]
    },
    {
     "name": "stderr",
     "output_type": "stream",
     "text": [
      "\r",
      " 41%|████      | 811/2000 [02:23<04:22,  4.53it/s]"
     ]
    },
    {
     "name": "stdout",
     "output_type": "stream",
     "text": [
      "Training_loss 0.00089,   Relative Error 0.00362\n"
     ]
    },
    {
     "name": "stderr",
     "output_type": "stream",
     "text": [
      "\r",
      " 41%|████      | 812/2000 [02:23<04:32,  4.36it/s]"
     ]
    },
    {
     "name": "stdout",
     "output_type": "stream",
     "text": [
      "Training_loss 0.00086,   Relative Error 0.00356\n"
     ]
    },
    {
     "name": "stderr",
     "output_type": "stream",
     "text": [
      "\r",
      " 41%|████      | 813/2000 [02:23<04:58,  3.98it/s]"
     ]
    },
    {
     "name": "stdout",
     "output_type": "stream",
     "text": [
      "Training_loss 0.00088,   Relative Error 0.00357\n"
     ]
    },
    {
     "name": "stderr",
     "output_type": "stream",
     "text": [
      "\r",
      " 41%|████      | 814/2000 [02:24<04:52,  4.06it/s]"
     ]
    },
    {
     "name": "stdout",
     "output_type": "stream",
     "text": [
      "Training_loss 0.00090,   Relative Error 0.00360\n"
     ]
    },
    {
     "name": "stderr",
     "output_type": "stream",
     "text": [
      " 41%|████      | 816/2000 [02:24<04:23,  4.50it/s]"
     ]
    },
    {
     "name": "stdout",
     "output_type": "stream",
     "text": [
      "Training_loss 0.00087,   Relative Error 0.00353\n",
      "Training_loss 0.00088,   Relative Error 0.00353\n"
     ]
    },
    {
     "name": "stderr",
     "output_type": "stream",
     "text": [
      " 41%|████      | 818/2000 [02:24<03:39,  5.39it/s]"
     ]
    },
    {
     "name": "stdout",
     "output_type": "stream",
     "text": [
      "Training_loss 0.00078,   Relative Error 0.00331\n",
      "Training_loss 0.00079,   Relative Error 0.00332\n"
     ]
    },
    {
     "name": "stderr",
     "output_type": "stream",
     "text": [
      " 41%|████      | 820/2000 [02:25<03:13,  6.10it/s]"
     ]
    },
    {
     "name": "stdout",
     "output_type": "stream",
     "text": [
      "Training_loss 0.00083,   Relative Error 0.00337\n",
      "Training_loss 0.00082,   Relative Error 0.00338\n"
     ]
    },
    {
     "name": "stderr",
     "output_type": "stream",
     "text": [
      " 41%|████      | 822/2000 [02:25<02:59,  6.56it/s]"
     ]
    },
    {
     "name": "stdout",
     "output_type": "stream",
     "text": [
      "Training_loss 0.00074,   Relative Error 0.00322\n",
      "Training_loss 0.00072,   Relative Error 0.00319\n"
     ]
    },
    {
     "name": "stderr",
     "output_type": "stream",
     "text": [
      " 41%|████      | 824/2000 [02:25<02:59,  6.56it/s]"
     ]
    },
    {
     "name": "stdout",
     "output_type": "stream",
     "text": [
      "Training_loss 0.00075,   Relative Error 0.00323\n",
      "Training_loss 0.00077,   Relative Error 0.00326\n"
     ]
    },
    {
     "name": "stderr",
     "output_type": "stream",
     "text": [
      " 41%|████▏     | 826/2000 [02:25<03:02,  6.42it/s]"
     ]
    },
    {
     "name": "stdout",
     "output_type": "stream",
     "text": [
      "Training_loss 0.00079,   Relative Error 0.00332\n",
      "Training_loss 0.00078,   Relative Error 0.00331\n"
     ]
    },
    {
     "name": "stderr",
     "output_type": "stream",
     "text": [
      " 41%|████▏     | 828/2000 [02:26<02:52,  6.80it/s]"
     ]
    },
    {
     "name": "stdout",
     "output_type": "stream",
     "text": [
      "Training_loss 0.00079,   Relative Error 0.00333\n",
      "Training_loss 0.00071,   Relative Error 0.00316\n"
     ]
    },
    {
     "name": "stderr",
     "output_type": "stream",
     "text": [
      " 42%|████▏     | 830/2000 [02:26<02:58,  6.55it/s]"
     ]
    },
    {
     "name": "stdout",
     "output_type": "stream",
     "text": [
      "Training_loss 0.00076,   Relative Error 0.00325\n",
      "Training_loss 0.00075,   Relative Error 0.00325\n"
     ]
    },
    {
     "name": "stderr",
     "output_type": "stream",
     "text": [
      " 42%|████▏     | 832/2000 [02:26<02:57,  6.57it/s]"
     ]
    },
    {
     "name": "stdout",
     "output_type": "stream",
     "text": [
      "Training_loss 0.00078,   Relative Error 0.00331\n",
      "Training_loss 0.00078,   Relative Error 0.00331\n"
     ]
    },
    {
     "name": "stderr",
     "output_type": "stream",
     "text": [
      " 42%|████▏     | 834/2000 [02:27<02:47,  6.95it/s]"
     ]
    },
    {
     "name": "stdout",
     "output_type": "stream",
     "text": [
      "Training_loss 0.00076,   Relative Error 0.00328\n",
      "Training_loss 0.00079,   Relative Error 0.00334\n"
     ]
    },
    {
     "name": "stderr",
     "output_type": "stream",
     "text": [
      " 42%|████▏     | 836/2000 [02:27<03:08,  6.18it/s]"
     ]
    },
    {
     "name": "stdout",
     "output_type": "stream",
     "text": [
      "Training_loss 0.00073,   Relative Error 0.00322\n",
      "Training_loss 0.00073,   Relative Error 0.00320\n"
     ]
    },
    {
     "name": "stderr",
     "output_type": "stream",
     "text": [
      "\r",
      " 42%|████▏     | 837/2000 [02:27<03:37,  5.36it/s]"
     ]
    },
    {
     "name": "stdout",
     "output_type": "stream",
     "text": [
      "Training_loss 0.00073,   Relative Error 0.00319\n"
     ]
    },
    {
     "name": "stderr",
     "output_type": "stream",
     "text": [
      "\r",
      " 42%|████▏     | 838/2000 [02:27<04:01,  4.81it/s]"
     ]
    },
    {
     "name": "stdout",
     "output_type": "stream",
     "text": [
      "Training_loss 0.00076,   Relative Error 0.00326\n"
     ]
    },
    {
     "name": "stderr",
     "output_type": "stream",
     "text": [
      "\r",
      " 42%|████▏     | 839/2000 [02:28<04:48,  4.03it/s]"
     ]
    },
    {
     "name": "stdout",
     "output_type": "stream",
     "text": [
      "Training_loss 0.00075,   Relative Error 0.00321\n"
     ]
    },
    {
     "name": "stderr",
     "output_type": "stream",
     "text": [
      "\r",
      " 42%|████▏     | 840/2000 [02:28<05:16,  3.67it/s]"
     ]
    },
    {
     "name": "stdout",
     "output_type": "stream",
     "text": [
      "Training_loss 0.00073,   Relative Error 0.00318\n"
     ]
    },
    {
     "name": "stderr",
     "output_type": "stream",
     "text": [
      "\r",
      " 42%|████▏     | 841/2000 [02:28<05:10,  3.73it/s]"
     ]
    },
    {
     "name": "stdout",
     "output_type": "stream",
     "text": [
      "Training_loss 0.00072,   Relative Error 0.00317\n"
     ]
    },
    {
     "name": "stderr",
     "output_type": "stream",
     "text": [
      "\r",
      " 42%|████▏     | 842/2000 [02:29<04:58,  3.88it/s]"
     ]
    },
    {
     "name": "stdout",
     "output_type": "stream",
     "text": [
      "Training_loss 0.00066,   Relative Error 0.00306\n"
     ]
    },
    {
     "name": "stderr",
     "output_type": "stream",
     "text": [
      "\r",
      " 42%|████▏     | 843/2000 [02:29<04:59,  3.86it/s]"
     ]
    },
    {
     "name": "stdout",
     "output_type": "stream",
     "text": [
      "Training_loss 0.00069,   Relative Error 0.00310\n"
     ]
    },
    {
     "name": "stderr",
     "output_type": "stream",
     "text": [
      "\r",
      " 42%|████▏     | 844/2000 [02:29<04:46,  4.03it/s]"
     ]
    },
    {
     "name": "stdout",
     "output_type": "stream",
     "text": [
      "Training_loss 0.00070,   Relative Error 0.00313\n"
     ]
    },
    {
     "name": "stderr",
     "output_type": "stream",
     "text": [
      "\r",
      " 42%|████▏     | 845/2000 [02:29<04:44,  4.06it/s]"
     ]
    },
    {
     "name": "stdout",
     "output_type": "stream",
     "text": [
      "Training_loss 0.00070,   Relative Error 0.00312\n"
     ]
    },
    {
     "name": "stderr",
     "output_type": "stream",
     "text": [
      " 42%|████▏     | 847/2000 [02:30<04:20,  4.43it/s]"
     ]
    },
    {
     "name": "stdout",
     "output_type": "stream",
     "text": [
      "Training_loss 0.00072,   Relative Error 0.00317\n",
      "Training_loss 0.00078,   Relative Error 0.00329\n"
     ]
    },
    {
     "name": "stderr",
     "output_type": "stream",
     "text": [
      " 42%|████▏     | 849/2000 [02:30<03:46,  5.08it/s]"
     ]
    },
    {
     "name": "stdout",
     "output_type": "stream",
     "text": [
      "Training_loss 0.00081,   Relative Error 0.00334\n",
      "Training_loss 0.00082,   Relative Error 0.00340\n"
     ]
    },
    {
     "name": "stderr",
     "output_type": "stream",
     "text": [
      " 43%|████▎     | 851/2000 [02:30<03:18,  5.78it/s]"
     ]
    },
    {
     "name": "stdout",
     "output_type": "stream",
     "text": [
      "Training_loss 0.00083,   Relative Error 0.00344\n",
      "Training_loss 0.00081,   Relative Error 0.00340\n"
     ]
    },
    {
     "name": "stderr",
     "output_type": "stream",
     "text": [
      " 43%|████▎     | 853/2000 [02:31<03:39,  5.23it/s]"
     ]
    },
    {
     "name": "stdout",
     "output_type": "stream",
     "text": [
      "Training_loss 0.00087,   Relative Error 0.00353\n",
      "Training_loss 0.00085,   Relative Error 0.00346\n"
     ]
    },
    {
     "name": "stderr",
     "output_type": "stream",
     "text": [
      " 43%|████▎     | 855/2000 [02:31<03:30,  5.43it/s]"
     ]
    },
    {
     "name": "stdout",
     "output_type": "stream",
     "text": [
      "Training_loss 0.00082,   Relative Error 0.00340\n",
      "Training_loss 0.00078,   Relative Error 0.00331\n"
     ]
    },
    {
     "name": "stderr",
     "output_type": "stream",
     "text": [
      "\r",
      " 43%|████▎     | 856/2000 [02:31<03:42,  5.15it/s]"
     ]
    },
    {
     "name": "stdout",
     "output_type": "stream",
     "text": [
      "Training_loss 0.00077,   Relative Error 0.00327\n"
     ]
    },
    {
     "name": "stderr",
     "output_type": "stream",
     "text": [
      "\r",
      " 43%|████▎     | 857/2000 [02:32<04:01,  4.73it/s]"
     ]
    },
    {
     "name": "stdout",
     "output_type": "stream",
     "text": [
      "Training_loss 0.00077,   Relative Error 0.00328\n"
     ]
    },
    {
     "name": "stderr",
     "output_type": "stream",
     "text": [
      " 43%|████▎     | 859/2000 [02:32<03:44,  5.08it/s]"
     ]
    },
    {
     "name": "stdout",
     "output_type": "stream",
     "text": [
      "Training_loss 0.00076,   Relative Error 0.00328\n",
      "Training_loss 0.00077,   Relative Error 0.00328\n"
     ]
    },
    {
     "name": "stderr",
     "output_type": "stream",
     "text": [
      " 43%|████▎     | 861/2000 [02:32<03:10,  5.98it/s]"
     ]
    },
    {
     "name": "stdout",
     "output_type": "stream",
     "text": [
      "Training_loss 0.00080,   Relative Error 0.00336\n",
      "Training_loss 0.00079,   Relative Error 0.00335\n"
     ]
    },
    {
     "name": "stderr",
     "output_type": "stream",
     "text": [
      " 43%|████▎     | 863/2000 [02:33<03:04,  6.18it/s]"
     ]
    },
    {
     "name": "stdout",
     "output_type": "stream",
     "text": [
      "Training_loss 0.00082,   Relative Error 0.00339\n",
      "Training_loss 0.00081,   Relative Error 0.00339\n"
     ]
    },
    {
     "name": "stderr",
     "output_type": "stream",
     "text": [
      " 43%|████▎     | 865/2000 [02:33<02:58,  6.35it/s]"
     ]
    },
    {
     "name": "stdout",
     "output_type": "stream",
     "text": [
      "Training_loss 0.00077,   Relative Error 0.00329\n",
      "Training_loss 0.00077,   Relative Error 0.00331\n"
     ]
    },
    {
     "name": "stderr",
     "output_type": "stream",
     "text": [
      " 43%|████▎     | 867/2000 [02:33<02:47,  6.75it/s]"
     ]
    },
    {
     "name": "stdout",
     "output_type": "stream",
     "text": [
      "Training_loss 0.00077,   Relative Error 0.00333\n",
      "Training_loss 0.00075,   Relative Error 0.00328\n"
     ]
    },
    {
     "name": "stderr",
     "output_type": "stream",
     "text": [
      " 43%|████▎     | 869/2000 [02:33<02:38,  7.13it/s]"
     ]
    },
    {
     "name": "stdout",
     "output_type": "stream",
     "text": [
      "Training_loss 0.00078,   Relative Error 0.00335\n",
      "Training_loss 0.00083,   Relative Error 0.00342\n"
     ]
    },
    {
     "name": "stderr",
     "output_type": "stream",
     "text": [
      " 44%|████▎     | 871/2000 [02:34<02:37,  7.18it/s]"
     ]
    },
    {
     "name": "stdout",
     "output_type": "stream",
     "text": [
      "Training_loss 0.00083,   Relative Error 0.00343\n",
      "Training_loss 0.00082,   Relative Error 0.00342\n"
     ]
    },
    {
     "name": "stderr",
     "output_type": "stream",
     "text": [
      " 44%|████▎     | 873/2000 [02:34<02:51,  6.56it/s]"
     ]
    },
    {
     "name": "stdout",
     "output_type": "stream",
     "text": [
      "Training_loss 0.00088,   Relative Error 0.00353\n",
      "Training_loss 0.00090,   Relative Error 0.00357\n"
     ]
    },
    {
     "name": "stderr",
     "output_type": "stream",
     "text": [
      " 44%|████▍     | 875/2000 [02:34<02:52,  6.52it/s]"
     ]
    },
    {
     "name": "stdout",
     "output_type": "stream",
     "text": [
      "Training_loss 0.00094,   Relative Error 0.00366\n",
      "Training_loss 0.00094,   Relative Error 0.00367\n"
     ]
    },
    {
     "name": "stderr",
     "output_type": "stream",
     "text": [
      " 44%|████▍     | 877/2000 [02:35<02:48,  6.65it/s]"
     ]
    },
    {
     "name": "stdout",
     "output_type": "stream",
     "text": [
      "Training_loss 0.00095,   Relative Error 0.00370\n",
      "Training_loss 0.00098,   Relative Error 0.00375\n"
     ]
    },
    {
     "name": "stderr",
     "output_type": "stream",
     "text": [
      " 44%|████▍     | 879/2000 [02:35<03:00,  6.21it/s]"
     ]
    },
    {
     "name": "stdout",
     "output_type": "stream",
     "text": [
      "Training_loss 0.00091,   Relative Error 0.00360\n",
      "Training_loss 0.00094,   Relative Error 0.00367\n"
     ]
    },
    {
     "name": "stderr",
     "output_type": "stream",
     "text": [
      " 44%|████▍     | 881/2000 [02:35<03:11,  5.85it/s]"
     ]
    },
    {
     "name": "stdout",
     "output_type": "stream",
     "text": [
      "Training_loss 0.00096,   Relative Error 0.00371\n",
      "Training_loss 0.00101,   Relative Error 0.00383\n"
     ]
    },
    {
     "name": "stderr",
     "output_type": "stream",
     "text": [
      " 44%|████▍     | 883/2000 [02:36<02:56,  6.34it/s]"
     ]
    },
    {
     "name": "stdout",
     "output_type": "stream",
     "text": [
      "Training_loss 0.00106,   Relative Error 0.00389\n",
      "Training_loss 0.00098,   Relative Error 0.00375\n"
     ]
    },
    {
     "name": "stderr",
     "output_type": "stream",
     "text": [
      " 44%|████▍     | 885/2000 [02:36<02:56,  6.30it/s]"
     ]
    },
    {
     "name": "stdout",
     "output_type": "stream",
     "text": [
      "Training_loss 0.00087,   Relative Error 0.00356\n",
      "Training_loss 0.00088,   Relative Error 0.00358\n"
     ]
    },
    {
     "name": "stderr",
     "output_type": "stream",
     "text": [
      " 44%|████▍     | 887/2000 [02:36<02:50,  6.53it/s]"
     ]
    },
    {
     "name": "stdout",
     "output_type": "stream",
     "text": [
      "Training_loss 0.00090,   Relative Error 0.00362\n",
      "Training_loss 0.00088,   Relative Error 0.00358\n"
     ]
    },
    {
     "name": "stderr",
     "output_type": "stream",
     "text": [
      " 44%|████▍     | 889/2000 [02:37<02:35,  7.13it/s]"
     ]
    },
    {
     "name": "stdout",
     "output_type": "stream",
     "text": [
      "Training_loss 0.00091,   Relative Error 0.00366\n",
      "Training_loss 0.00094,   Relative Error 0.00371\n"
     ]
    },
    {
     "name": "stderr",
     "output_type": "stream",
     "text": [
      "\r",
      " 44%|████▍     | 890/2000 [02:37<02:41,  6.85it/s]"
     ]
    },
    {
     "name": "stdout",
     "output_type": "stream",
     "text": [
      "Training_loss 0.00095,   Relative Error 0.00373\n"
     ]
    },
    {
     "name": "stderr",
     "output_type": "stream",
     "text": [
      "\r",
      " 45%|████▍     | 891/2000 [02:37<03:14,  5.71it/s]"
     ]
    },
    {
     "name": "stdout",
     "output_type": "stream",
     "text": [
      "Training_loss 0.00098,   Relative Error 0.00376\n"
     ]
    },
    {
     "name": "stderr",
     "output_type": "stream",
     "text": [
      "\r",
      " 45%|████▍     | 892/2000 [02:37<03:34,  5.16it/s]"
     ]
    },
    {
     "name": "stdout",
     "output_type": "stream",
     "text": [
      "Training_loss 0.00097,   Relative Error 0.00375\n"
     ]
    },
    {
     "name": "stderr",
     "output_type": "stream",
     "text": [
      " 45%|████▍     | 894/2000 [02:38<03:41,  4.99it/s]"
     ]
    },
    {
     "name": "stdout",
     "output_type": "stream",
     "text": [
      "Training_loss 0.00099,   Relative Error 0.00379\n",
      "Training_loss 0.00104,   Relative Error 0.00389\n"
     ]
    },
    {
     "name": "stderr",
     "output_type": "stream",
     "text": [
      "\r",
      " 45%|████▍     | 895/2000 [02:38<03:21,  5.49it/s]"
     ]
    },
    {
     "name": "stdout",
     "output_type": "stream",
     "text": [
      "Training_loss 0.00107,   Relative Error 0.00395\n"
     ]
    },
    {
     "name": "stderr",
     "output_type": "stream",
     "text": [
      "\r",
      " 45%|████▍     | 896/2000 [02:38<03:35,  5.13it/s]"
     ]
    },
    {
     "name": "stdout",
     "output_type": "stream",
     "text": [
      "Training_loss 0.00110,   Relative Error 0.00399\n"
     ]
    },
    {
     "name": "stderr",
     "output_type": "stream",
     "text": [
      "\r",
      " 45%|████▍     | 897/2000 [02:38<04:06,  4.48it/s]"
     ]
    },
    {
     "name": "stdout",
     "output_type": "stream",
     "text": [
      "Training_loss 0.00100,   Relative Error 0.00384\n"
     ]
    },
    {
     "name": "stderr",
     "output_type": "stream",
     "text": [
      "\r",
      " 45%|████▍     | 898/2000 [02:39<04:15,  4.31it/s]"
     ]
    },
    {
     "name": "stdout",
     "output_type": "stream",
     "text": [
      "Training_loss 0.00099,   Relative Error 0.00379\n"
     ]
    },
    {
     "name": "stderr",
     "output_type": "stream",
     "text": [
      "\r",
      " 45%|████▍     | 899/2000 [02:39<04:16,  4.29it/s]"
     ]
    },
    {
     "name": "stdout",
     "output_type": "stream",
     "text": [
      "Training_loss 0.00104,   Relative Error 0.00388\n"
     ]
    },
    {
     "name": "stderr",
     "output_type": "stream",
     "text": [
      " 45%|████▌     | 901/2000 [02:39<03:54,  4.69it/s]"
     ]
    },
    {
     "name": "stdout",
     "output_type": "stream",
     "text": [
      "Training_loss 0.00106,   Relative Error 0.00392\n",
      "Training_loss 0.00110,   Relative Error 0.00400\n"
     ]
    },
    {
     "name": "stderr",
     "output_type": "stream",
     "text": [
      " 45%|████▌     | 903/2000 [02:39<03:17,  5.54it/s]"
     ]
    },
    {
     "name": "stdout",
     "output_type": "stream",
     "text": [
      "Training_loss 0.00112,   Relative Error 0.00403\n",
      "Training_loss 0.00112,   Relative Error 0.00402\n"
     ]
    },
    {
     "name": "stderr",
     "output_type": "stream",
     "text": [
      " 45%|████▌     | 905/2000 [02:40<03:10,  5.75it/s]"
     ]
    },
    {
     "name": "stdout",
     "output_type": "stream",
     "text": [
      "Training_loss 0.00110,   Relative Error 0.00399\n",
      "Training_loss 0.00102,   Relative Error 0.00385\n"
     ]
    },
    {
     "name": "stderr",
     "output_type": "stream",
     "text": [
      "\r",
      " 45%|████▌     | 906/2000 [02:40<03:36,  5.04it/s]"
     ]
    },
    {
     "name": "stdout",
     "output_type": "stream",
     "text": [
      "Training_loss 0.00106,   Relative Error 0.00391\n"
     ]
    },
    {
     "name": "stderr",
     "output_type": "stream",
     "text": [
      " 45%|████▌     | 908/2000 [02:41<03:49,  4.75it/s]"
     ]
    },
    {
     "name": "stdout",
     "output_type": "stream",
     "text": [
      "Training_loss 0.00108,   Relative Error 0.00394\n",
      "Training_loss 0.00110,   Relative Error 0.00398\n"
     ]
    },
    {
     "name": "stderr",
     "output_type": "stream",
     "text": [
      " 46%|████▌     | 910/2000 [02:41<03:35,  5.06it/s]"
     ]
    },
    {
     "name": "stdout",
     "output_type": "stream",
     "text": [
      "Training_loss 0.00110,   Relative Error 0.00398\n",
      "Training_loss 0.00111,   Relative Error 0.00399\n"
     ]
    },
    {
     "name": "stderr",
     "output_type": "stream",
     "text": [
      "\r",
      " 46%|████▌     | 911/2000 [02:41<03:36,  5.02it/s]"
     ]
    },
    {
     "name": "stdout",
     "output_type": "stream",
     "text": [
      "Training_loss 0.00111,   Relative Error 0.00401\n"
     ]
    },
    {
     "name": "stderr",
     "output_type": "stream",
     "text": [
      "\r",
      " 46%|████▌     | 912/2000 [02:41<03:54,  4.65it/s]"
     ]
    },
    {
     "name": "stdout",
     "output_type": "stream",
     "text": [
      "Training_loss 0.00113,   Relative Error 0.00402\n"
     ]
    },
    {
     "name": "stderr",
     "output_type": "stream",
     "text": [
      "\r",
      " 46%|████▌     | 913/2000 [02:42<04:02,  4.49it/s]"
     ]
    },
    {
     "name": "stdout",
     "output_type": "stream",
     "text": [
      "Training_loss 0.00113,   Relative Error 0.00403\n"
     ]
    },
    {
     "name": "stderr",
     "output_type": "stream",
     "text": [
      " 46%|████▌     | 915/2000 [02:42<03:59,  4.54it/s]"
     ]
    },
    {
     "name": "stdout",
     "output_type": "stream",
     "text": [
      "Training_loss 0.00112,   Relative Error 0.00401\n",
      "Training_loss 0.00116,   Relative Error 0.00408\n"
     ]
    },
    {
     "name": "stderr",
     "output_type": "stream",
     "text": [
      "\r",
      " 46%|████▌     | 916/2000 [02:42<03:50,  4.70it/s]"
     ]
    },
    {
     "name": "stdout",
     "output_type": "stream",
     "text": [
      "Training_loss 0.00116,   Relative Error 0.00408\n"
     ]
    },
    {
     "name": "stderr",
     "output_type": "stream",
     "text": [
      "\r",
      " 46%|████▌     | 917/2000 [02:43<04:12,  4.29it/s]"
     ]
    },
    {
     "name": "stdout",
     "output_type": "stream",
     "text": [
      "Training_loss 0.00108,   Relative Error 0.00393\n"
     ]
    },
    {
     "name": "stderr",
     "output_type": "stream",
     "text": [
      " 46%|████▌     | 919/2000 [02:43<03:57,  4.55it/s]"
     ]
    },
    {
     "name": "stdout",
     "output_type": "stream",
     "text": [
      "Training_loss 0.00108,   Relative Error 0.00395\n",
      "Training_loss 0.00111,   Relative Error 0.00400\n"
     ]
    },
    {
     "name": "stderr",
     "output_type": "stream",
     "text": [
      "\r",
      " 46%|████▌     | 920/2000 [02:43<03:39,  4.91it/s]"
     ]
    },
    {
     "name": "stdout",
     "output_type": "stream",
     "text": [
      "Training_loss 0.00113,   Relative Error 0.00403\n"
     ]
    },
    {
     "name": "stderr",
     "output_type": "stream",
     "text": [
      "\r",
      " 46%|████▌     | 921/2000 [02:43<03:45,  4.78it/s]"
     ]
    },
    {
     "name": "stdout",
     "output_type": "stream",
     "text": [
      "Training_loss 0.00114,   Relative Error 0.00406\n"
     ]
    },
    {
     "name": "stderr",
     "output_type": "stream",
     "text": [
      "\r",
      " 46%|████▌     | 922/2000 [02:44<03:58,  4.52it/s]"
     ]
    },
    {
     "name": "stdout",
     "output_type": "stream",
     "text": [
      "Training_loss 0.00118,   Relative Error 0.00413\n"
     ]
    },
    {
     "name": "stderr",
     "output_type": "stream",
     "text": [
      "\r",
      " 46%|████▌     | 923/2000 [02:44<04:04,  4.40it/s]"
     ]
    },
    {
     "name": "stdout",
     "output_type": "stream",
     "text": [
      "Training_loss 0.00114,   Relative Error 0.00409\n"
     ]
    },
    {
     "name": "stderr",
     "output_type": "stream",
     "text": [
      "\r",
      " 46%|████▌     | 924/2000 [02:44<04:05,  4.39it/s]"
     ]
    },
    {
     "name": "stdout",
     "output_type": "stream",
     "text": [
      "Training_loss 0.00106,   Relative Error 0.00393\n"
     ]
    },
    {
     "name": "stderr",
     "output_type": "stream",
     "text": [
      " 46%|████▋     | 926/2000 [02:44<03:59,  4.48it/s]"
     ]
    },
    {
     "name": "stdout",
     "output_type": "stream",
     "text": [
      "Training_loss 0.00106,   Relative Error 0.00394\n",
      "Training_loss 0.00101,   Relative Error 0.00386\n"
     ]
    },
    {
     "name": "stderr",
     "output_type": "stream",
     "text": [
      " 46%|████▋     | 928/2000 [02:45<03:30,  5.09it/s]"
     ]
    },
    {
     "name": "stdout",
     "output_type": "stream",
     "text": [
      "Training_loss 0.00101,   Relative Error 0.00384\n",
      "Training_loss 0.00101,   Relative Error 0.00384\n"
     ]
    },
    {
     "name": "stderr",
     "output_type": "stream",
     "text": [
      " 46%|████▋     | 930/2000 [02:45<03:16,  5.45it/s]"
     ]
    },
    {
     "name": "stdout",
     "output_type": "stream",
     "text": [
      "Training_loss 0.00094,   Relative Error 0.00370\n",
      "Training_loss 0.00097,   Relative Error 0.00374\n"
     ]
    },
    {
     "name": "stderr",
     "output_type": "stream",
     "text": [
      " 47%|████▋     | 932/2000 [02:45<02:59,  5.94it/s]"
     ]
    },
    {
     "name": "stdout",
     "output_type": "stream",
     "text": [
      "Training_loss 0.00092,   Relative Error 0.00367\n",
      "Training_loss 0.00096,   Relative Error 0.00374\n"
     ]
    },
    {
     "name": "stderr",
     "output_type": "stream",
     "text": [
      "\r",
      " 47%|████▋     | 933/2000 [02:46<03:07,  5.69it/s]"
     ]
    },
    {
     "name": "stdout",
     "output_type": "stream",
     "text": [
      "Training_loss 0.00096,   Relative Error 0.00372\n"
     ]
    },
    {
     "name": "stderr",
     "output_type": "stream",
     "text": [
      " 47%|████▋     | 935/2000 [02:46<03:05,  5.75it/s]"
     ]
    },
    {
     "name": "stdout",
     "output_type": "stream",
     "text": [
      "Training_loss 0.00101,   Relative Error 0.00379\n",
      "Training_loss 0.00103,   Relative Error 0.00385\n"
     ]
    },
    {
     "name": "stderr",
     "output_type": "stream",
     "text": [
      " 47%|████▋     | 937/2000 [02:46<02:47,  6.33it/s]"
     ]
    },
    {
     "name": "stdout",
     "output_type": "stream",
     "text": [
      "Training_loss 0.00109,   Relative Error 0.00395\n",
      "Training_loss 0.00106,   Relative Error 0.00387\n"
     ]
    },
    {
     "name": "stderr",
     "output_type": "stream",
     "text": [
      " 47%|████▋     | 939/2000 [02:47<02:42,  6.53it/s]"
     ]
    },
    {
     "name": "stdout",
     "output_type": "stream",
     "text": [
      "Training_loss 0.00102,   Relative Error 0.00380\n",
      "Training_loss 0.00105,   Relative Error 0.00387\n"
     ]
    },
    {
     "name": "stderr",
     "output_type": "stream",
     "text": [
      " 47%|████▋     | 941/2000 [02:47<02:42,  6.50it/s]"
     ]
    },
    {
     "name": "stdout",
     "output_type": "stream",
     "text": [
      "Training_loss 0.00093,   Relative Error 0.00364\n",
      "Training_loss 0.00095,   Relative Error 0.00369\n"
     ]
    },
    {
     "name": "stderr",
     "output_type": "stream",
     "text": [
      " 47%|████▋     | 943/2000 [02:47<02:52,  6.13it/s]"
     ]
    },
    {
     "name": "stdout",
     "output_type": "stream",
     "text": [
      "Training_loss 0.00093,   Relative Error 0.00363\n",
      "Training_loss 0.00087,   Relative Error 0.00352\n"
     ]
    },
    {
     "name": "stderr",
     "output_type": "stream",
     "text": [
      " 47%|████▋     | 945/2000 [02:48<02:44,  6.41it/s]"
     ]
    },
    {
     "name": "stdout",
     "output_type": "stream",
     "text": [
      "Training_loss 0.00087,   Relative Error 0.00353\n",
      "Training_loss 0.00084,   Relative Error 0.00345\n"
     ]
    },
    {
     "name": "stderr",
     "output_type": "stream",
     "text": [
      " 47%|████▋     | 947/2000 [02:48<02:37,  6.70it/s]"
     ]
    },
    {
     "name": "stdout",
     "output_type": "stream",
     "text": [
      "Training_loss 0.00085,   Relative Error 0.00348\n",
      "Training_loss 0.00087,   Relative Error 0.00353\n"
     ]
    },
    {
     "name": "stderr",
     "output_type": "stream",
     "text": [
      " 47%|████▋     | 949/2000 [02:48<02:33,  6.86it/s]"
     ]
    },
    {
     "name": "stdout",
     "output_type": "stream",
     "text": [
      "Training_loss 0.00083,   Relative Error 0.00345\n",
      "Training_loss 0.00086,   Relative Error 0.00351\n"
     ]
    },
    {
     "name": "stderr",
     "output_type": "stream",
     "text": [
      " 48%|████▊     | 951/2000 [02:48<02:37,  6.67it/s]"
     ]
    },
    {
     "name": "stdout",
     "output_type": "stream",
     "text": [
      "Training_loss 0.00090,   Relative Error 0.00357\n",
      "Training_loss 0.00092,   Relative Error 0.00362\n"
     ]
    },
    {
     "name": "stderr",
     "output_type": "stream",
     "text": [
      "\r",
      " 48%|████▊     | 952/2000 [02:49<02:33,  6.83it/s]"
     ]
    },
    {
     "name": "stdout",
     "output_type": "stream",
     "text": [
      "Training_loss 0.00089,   Relative Error 0.00356\n"
     ]
    },
    {
     "name": "stderr",
     "output_type": "stream",
     "text": [
      " 48%|████▊     | 954/2000 [02:49<02:50,  6.15it/s]"
     ]
    },
    {
     "name": "stdout",
     "output_type": "stream",
     "text": [
      "Training_loss 0.00090,   Relative Error 0.00356\n",
      "Training_loss 0.00087,   Relative Error 0.00351\n"
     ]
    },
    {
     "name": "stderr",
     "output_type": "stream",
     "text": [
      " 48%|████▊     | 956/2000 [02:49<02:39,  6.56it/s]"
     ]
    },
    {
     "name": "stdout",
     "output_type": "stream",
     "text": [
      "Training_loss 0.00085,   Relative Error 0.00347\n",
      "Training_loss 0.00087,   Relative Error 0.00351\n"
     ]
    },
    {
     "name": "stderr",
     "output_type": "stream",
     "text": [
      " 48%|████▊     | 958/2000 [02:50<02:27,  7.06it/s]"
     ]
    },
    {
     "name": "stdout",
     "output_type": "stream",
     "text": [
      "Training_loss 0.00091,   Relative Error 0.00359\n",
      "Training_loss 0.00096,   Relative Error 0.00367\n"
     ]
    },
    {
     "name": "stderr",
     "output_type": "stream",
     "text": [
      " 48%|████▊     | 960/2000 [02:50<02:25,  7.12it/s]"
     ]
    },
    {
     "name": "stdout",
     "output_type": "stream",
     "text": [
      "Training_loss 0.00097,   Relative Error 0.00369\n",
      "Training_loss 0.00090,   Relative Error 0.00356\n"
     ]
    },
    {
     "name": "stderr",
     "output_type": "stream",
     "text": [
      " 48%|████▊     | 962/2000 [02:50<02:23,  7.23it/s]"
     ]
    },
    {
     "name": "stdout",
     "output_type": "stream",
     "text": [
      "Training_loss 0.00086,   Relative Error 0.00349\n",
      "Training_loss 0.00080,   Relative Error 0.00337\n"
     ]
    },
    {
     "name": "stderr",
     "output_type": "stream",
     "text": [
      " 48%|████▊     | 964/2000 [02:50<02:22,  7.27it/s]"
     ]
    },
    {
     "name": "stdout",
     "output_type": "stream",
     "text": [
      "Training_loss 0.00084,   Relative Error 0.00346\n",
      "Training_loss 0.00084,   Relative Error 0.00346\n"
     ]
    },
    {
     "name": "stderr",
     "output_type": "stream",
     "text": [
      " 48%|████▊     | 966/2000 [02:51<02:35,  6.64it/s]"
     ]
    },
    {
     "name": "stdout",
     "output_type": "stream",
     "text": [
      "Training_loss 0.00088,   Relative Error 0.00351\n",
      "Training_loss 0.00087,   Relative Error 0.00353\n"
     ]
    },
    {
     "name": "stderr",
     "output_type": "stream",
     "text": [
      "\r",
      " 48%|████▊     | 967/2000 [02:51<02:33,  6.73it/s]"
     ]
    },
    {
     "name": "stdout",
     "output_type": "stream",
     "text": [
      "Training_loss 0.00086,   Relative Error 0.00349\n"
     ]
    },
    {
     "name": "stderr",
     "output_type": "stream",
     "text": [
      " 48%|████▊     | 969/2000 [02:51<02:59,  5.75it/s]"
     ]
    },
    {
     "name": "stdout",
     "output_type": "stream",
     "text": [
      "Training_loss 0.00086,   Relative Error 0.00347\n",
      "Training_loss 0.00088,   Relative Error 0.00355\n"
     ]
    },
    {
     "name": "stderr",
     "output_type": "stream",
     "text": [
      " 49%|████▊     | 971/2000 [02:51<02:41,  6.35it/s]"
     ]
    },
    {
     "name": "stdout",
     "output_type": "stream",
     "text": [
      "Training_loss 0.00092,   Relative Error 0.00362\n",
      "Training_loss 0.00096,   Relative Error 0.00369\n"
     ]
    },
    {
     "name": "stderr",
     "output_type": "stream",
     "text": [
      " 49%|████▊     | 973/2000 [02:52<02:30,  6.81it/s]"
     ]
    },
    {
     "name": "stdout",
     "output_type": "stream",
     "text": [
      "Training_loss 0.00099,   Relative Error 0.00374\n",
      "Training_loss 0.00104,   Relative Error 0.00384\n"
     ]
    },
    {
     "name": "stderr",
     "output_type": "stream",
     "text": [
      " 49%|████▉     | 975/2000 [02:52<02:30,  6.82it/s]"
     ]
    },
    {
     "name": "stdout",
     "output_type": "stream",
     "text": [
      "Training_loss 0.00104,   Relative Error 0.00383\n",
      "Training_loss 0.00103,   Relative Error 0.00384\n"
     ]
    },
    {
     "name": "stderr",
     "output_type": "stream",
     "text": [
      " 49%|████▉     | 977/2000 [02:52<02:25,  7.05it/s]"
     ]
    },
    {
     "name": "stdout",
     "output_type": "stream",
     "text": [
      "Training_loss 0.00104,   Relative Error 0.00386\n",
      "Training_loss 0.00107,   Relative Error 0.00393\n"
     ]
    },
    {
     "name": "stderr",
     "output_type": "stream",
     "text": [
      " 49%|████▉     | 979/2000 [02:53<02:44,  6.19it/s]"
     ]
    },
    {
     "name": "stdout",
     "output_type": "stream",
     "text": [
      "Training_loss 0.00106,   Relative Error 0.00391\n",
      "Training_loss 0.00102,   Relative Error 0.00384\n"
     ]
    },
    {
     "name": "stderr",
     "output_type": "stream",
     "text": [
      " 49%|████▉     | 981/2000 [02:53<02:40,  6.34it/s]"
     ]
    },
    {
     "name": "stdout",
     "output_type": "stream",
     "text": [
      "Training_loss 0.00098,   Relative Error 0.00376\n",
      "Training_loss 0.00101,   Relative Error 0.00382\n"
     ]
    },
    {
     "name": "stderr",
     "output_type": "stream",
     "text": [
      " 49%|████▉     | 983/2000 [02:53<02:37,  6.44it/s]"
     ]
    },
    {
     "name": "stdout",
     "output_type": "stream",
     "text": [
      "Training_loss 0.00092,   Relative Error 0.00362\n",
      "Training_loss 0.00092,   Relative Error 0.00362\n"
     ]
    },
    {
     "name": "stderr",
     "output_type": "stream",
     "text": [
      " 49%|████▉     | 985/2000 [02:54<02:33,  6.63it/s]"
     ]
    },
    {
     "name": "stdout",
     "output_type": "stream",
     "text": [
      "Training_loss 0.00094,   Relative Error 0.00367\n",
      "Training_loss 0.00095,   Relative Error 0.00368\n"
     ]
    },
    {
     "name": "stderr",
     "output_type": "stream",
     "text": [
      " 49%|████▉     | 987/2000 [02:54<02:29,  6.79it/s]"
     ]
    },
    {
     "name": "stdout",
     "output_type": "stream",
     "text": [
      "Training_loss 0.00098,   Relative Error 0.00375\n",
      "Training_loss 0.00097,   Relative Error 0.00371\n"
     ]
    },
    {
     "name": "stderr",
     "output_type": "stream",
     "text": [
      " 49%|████▉     | 989/2000 [02:54<02:47,  6.02it/s]"
     ]
    },
    {
     "name": "stdout",
     "output_type": "stream",
     "text": [
      "Training_loss 0.00098,   Relative Error 0.00374\n",
      "Training_loss 0.00093,   Relative Error 0.00365\n"
     ]
    },
    {
     "name": "stderr",
     "output_type": "stream",
     "text": [
      " 50%|████▉     | 991/2000 [02:55<02:38,  6.37it/s]"
     ]
    },
    {
     "name": "stdout",
     "output_type": "stream",
     "text": [
      "Training_loss 0.00093,   Relative Error 0.00365\n",
      "Training_loss 0.00093,   Relative Error 0.00365\n"
     ]
    },
    {
     "name": "stderr",
     "output_type": "stream",
     "text": [
      " 50%|████▉     | 993/2000 [02:55<02:58,  5.63it/s]"
     ]
    },
    {
     "name": "stdout",
     "output_type": "stream",
     "text": [
      "Training_loss 0.00095,   Relative Error 0.00370\n",
      "Training_loss 0.00092,   Relative Error 0.00364\n"
     ]
    },
    {
     "name": "stderr",
     "output_type": "stream",
     "text": [
      " 50%|████▉     | 995/2000 [02:55<02:50,  5.89it/s]"
     ]
    },
    {
     "name": "stdout",
     "output_type": "stream",
     "text": [
      "Training_loss 0.00096,   Relative Error 0.00371\n",
      "Training_loss 0.00096,   Relative Error 0.00371\n"
     ]
    },
    {
     "name": "stderr",
     "output_type": "stream",
     "text": [
      " 50%|████▉     | 997/2000 [02:56<02:34,  6.49it/s]"
     ]
    },
    {
     "name": "stdout",
     "output_type": "stream",
     "text": [
      "Training_loss 0.00088,   Relative Error 0.00356\n",
      "Training_loss 0.00086,   Relative Error 0.00352\n"
     ]
    },
    {
     "name": "stderr",
     "output_type": "stream",
     "text": [
      " 50%|████▉     | 999/2000 [02:56<02:30,  6.64it/s]"
     ]
    },
    {
     "name": "stdout",
     "output_type": "stream",
     "text": [
      "Training_loss 0.00082,   Relative Error 0.00344\n",
      "Training_loss 0.00085,   Relative Error 0.00349\n"
     ]
    },
    {
     "name": "stderr",
     "output_type": "stream",
     "text": [
      " 50%|█████     | 1001/2000 [02:56<02:32,  6.54it/s]"
     ]
    },
    {
     "name": "stdout",
     "output_type": "stream",
     "text": [
      "Training_loss 0.00087,   Relative Error 0.00351\n",
      "Training_loss 0.00083,   Relative Error 0.00342\n"
     ]
    },
    {
     "name": "stderr",
     "output_type": "stream",
     "text": [
      " 50%|█████     | 1003/2000 [02:56<02:25,  6.87it/s]"
     ]
    },
    {
     "name": "stdout",
     "output_type": "stream",
     "text": [
      "Training_loss 0.00081,   Relative Error 0.00340\n",
      "Training_loss 0.00086,   Relative Error 0.00350\n"
     ]
    },
    {
     "name": "stderr",
     "output_type": "stream",
     "text": [
      " 50%|█████     | 1005/2000 [02:57<02:40,  6.20it/s]"
     ]
    },
    {
     "name": "stdout",
     "output_type": "stream",
     "text": [
      "Training_loss 0.00085,   Relative Error 0.00348\n",
      "Training_loss 0.00081,   Relative Error 0.00341\n"
     ]
    },
    {
     "name": "stderr",
     "output_type": "stream",
     "text": [
      " 50%|█████     | 1007/2000 [02:57<02:41,  6.14it/s]"
     ]
    },
    {
     "name": "stdout",
     "output_type": "stream",
     "text": [
      "Training_loss 0.00085,   Relative Error 0.00348\n",
      "Training_loss 0.00088,   Relative Error 0.00355\n"
     ]
    },
    {
     "name": "stderr",
     "output_type": "stream",
     "text": [
      " 50%|█████     | 1009/2000 [02:57<02:51,  5.78it/s]"
     ]
    },
    {
     "name": "stdout",
     "output_type": "stream",
     "text": [
      "Training_loss 0.00086,   Relative Error 0.00350\n",
      "Training_loss 0.00088,   Relative Error 0.00356\n"
     ]
    },
    {
     "name": "stderr",
     "output_type": "stream",
     "text": [
      "\r",
      " 50%|█████     | 1010/2000 [02:58<02:49,  5.83it/s]"
     ]
    },
    {
     "name": "stdout",
     "output_type": "stream",
     "text": [
      "Training_loss 0.00083,   Relative Error 0.00344\n"
     ]
    },
    {
     "name": "stderr",
     "output_type": "stream",
     "text": [
      "\r",
      " 51%|█████     | 1011/2000 [02:58<03:04,  5.37it/s]"
     ]
    },
    {
     "name": "stdout",
     "output_type": "stream",
     "text": [
      "Training_loss 0.00087,   Relative Error 0.00351\n"
     ]
    },
    {
     "name": "stderr",
     "output_type": "stream",
     "text": [
      "\r",
      " 51%|█████     | 1012/2000 [02:58<03:14,  5.07it/s]"
     ]
    },
    {
     "name": "stdout",
     "output_type": "stream",
     "text": [
      "Training_loss 0.00089,   Relative Error 0.00356\n"
     ]
    },
    {
     "name": "stderr",
     "output_type": "stream",
     "text": [
      " 51%|█████     | 1014/2000 [02:59<03:25,  4.81it/s]"
     ]
    },
    {
     "name": "stdout",
     "output_type": "stream",
     "text": [
      "Training_loss 0.00096,   Relative Error 0.00368\n",
      "Training_loss 0.00093,   Relative Error 0.00361\n"
     ]
    },
    {
     "name": "stderr",
     "output_type": "stream",
     "text": [
      " 51%|█████     | 1016/2000 [02:59<03:08,  5.22it/s]"
     ]
    },
    {
     "name": "stdout",
     "output_type": "stream",
     "text": [
      "Training_loss 0.00092,   Relative Error 0.00359\n",
      "Training_loss 0.00094,   Relative Error 0.00362\n"
     ]
    },
    {
     "name": "stderr",
     "output_type": "stream",
     "text": [
      "\r",
      " 51%|█████     | 1017/2000 [02:59<03:25,  4.79it/s]"
     ]
    },
    {
     "name": "stdout",
     "output_type": "stream",
     "text": [
      "Training_loss 0.00097,   Relative Error 0.00369\n"
     ]
    },
    {
     "name": "stderr",
     "output_type": "stream",
     "text": [
      " 51%|█████     | 1019/2000 [03:00<03:22,  4.84it/s]"
     ]
    },
    {
     "name": "stdout",
     "output_type": "stream",
     "text": [
      "Training_loss 0.00098,   Relative Error 0.00370\n",
      "Training_loss 0.00097,   Relative Error 0.00370\n"
     ]
    },
    {
     "name": "stderr",
     "output_type": "stream",
     "text": [
      " 51%|█████     | 1021/2000 [03:00<02:57,  5.53it/s]"
     ]
    },
    {
     "name": "stdout",
     "output_type": "stream",
     "text": [
      "Training_loss 0.00098,   Relative Error 0.00370\n",
      "Training_loss 0.00099,   Relative Error 0.00373\n"
     ]
    },
    {
     "name": "stderr",
     "output_type": "stream",
     "text": [
      " 51%|█████     | 1023/2000 [03:00<02:48,  5.82it/s]"
     ]
    },
    {
     "name": "stdout",
     "output_type": "stream",
     "text": [
      "Training_loss 0.00090,   Relative Error 0.00353\n",
      "Training_loss 0.00091,   Relative Error 0.00355\n"
     ]
    },
    {
     "name": "stderr",
     "output_type": "stream",
     "text": [
      " 51%|█████▏    | 1025/2000 [03:01<02:41,  6.04it/s]"
     ]
    },
    {
     "name": "stdout",
     "output_type": "stream",
     "text": [
      "Training_loss 0.00090,   Relative Error 0.00352\n",
      "Training_loss 0.00090,   Relative Error 0.00352\n"
     ]
    },
    {
     "name": "stderr",
     "output_type": "stream",
     "text": [
      " 51%|█████▏    | 1027/2000 [03:01<02:46,  5.85it/s]"
     ]
    },
    {
     "name": "stdout",
     "output_type": "stream",
     "text": [
      "Training_loss 0.00085,   Relative Error 0.00343\n",
      "Training_loss 0.00083,   Relative Error 0.00339\n"
     ]
    },
    {
     "name": "stderr",
     "output_type": "stream",
     "text": [
      " 51%|█████▏    | 1029/2000 [03:01<02:52,  5.62it/s]"
     ]
    },
    {
     "name": "stdout",
     "output_type": "stream",
     "text": [
      "Training_loss 0.00087,   Relative Error 0.00348\n",
      "Training_loss 0.00085,   Relative Error 0.00345\n"
     ]
    },
    {
     "name": "stderr",
     "output_type": "stream",
     "text": [
      " 52%|█████▏    | 1031/2000 [03:02<02:41,  5.99it/s]"
     ]
    },
    {
     "name": "stdout",
     "output_type": "stream",
     "text": [
      "Training_loss 0.00086,   Relative Error 0.00348\n",
      "Training_loss 0.00086,   Relative Error 0.00347\n"
     ]
    },
    {
     "name": "stderr",
     "output_type": "stream",
     "text": [
      " 52%|█████▏    | 1033/2000 [03:02<02:31,  6.40it/s]"
     ]
    },
    {
     "name": "stdout",
     "output_type": "stream",
     "text": [
      "Training_loss 0.00085,   Relative Error 0.00346\n",
      "Training_loss 0.00084,   Relative Error 0.00346\n"
     ]
    },
    {
     "name": "stderr",
     "output_type": "stream",
     "text": [
      " 52%|█████▏    | 1035/2000 [03:02<02:34,  6.25it/s]"
     ]
    },
    {
     "name": "stdout",
     "output_type": "stream",
     "text": [
      "Training_loss 0.00088,   Relative Error 0.00353\n",
      "Training_loss 0.00090,   Relative Error 0.00356\n"
     ]
    },
    {
     "name": "stderr",
     "output_type": "stream",
     "text": [
      " 52%|█████▏    | 1037/2000 [03:03<02:41,  5.96it/s]"
     ]
    },
    {
     "name": "stdout",
     "output_type": "stream",
     "text": [
      "Training_loss 0.00091,   Relative Error 0.00359\n",
      "Training_loss 0.00090,   Relative Error 0.00355\n"
     ]
    },
    {
     "name": "stderr",
     "output_type": "stream",
     "text": [
      "\r",
      " 52%|█████▏    | 1038/2000 [03:03<02:48,  5.72it/s]"
     ]
    },
    {
     "name": "stdout",
     "output_type": "stream",
     "text": [
      "Training_loss 0.00088,   Relative Error 0.00353\n"
     ]
    },
    {
     "name": "stderr",
     "output_type": "stream",
     "text": [
      "\r",
      " 52%|█████▏    | 1039/2000 [03:03<03:10,  5.05it/s]"
     ]
    },
    {
     "name": "stdout",
     "output_type": "stream",
     "text": [
      "Training_loss 0.00086,   Relative Error 0.00350\n"
     ]
    },
    {
     "name": "stderr",
     "output_type": "stream",
     "text": [
      "\r",
      " 52%|█████▏    | 1040/2000 [03:03<03:15,  4.90it/s]"
     ]
    },
    {
     "name": "stdout",
     "output_type": "stream",
     "text": [
      "Training_loss 0.00088,   Relative Error 0.00355\n"
     ]
    },
    {
     "name": "stderr",
     "output_type": "stream",
     "text": [
      "\r",
      " 52%|█████▏    | 1041/2000 [03:03<03:20,  4.79it/s]"
     ]
    },
    {
     "name": "stdout",
     "output_type": "stream",
     "text": [
      "Training_loss 0.00084,   Relative Error 0.00349\n"
     ]
    },
    {
     "name": "stderr",
     "output_type": "stream",
     "text": [
      "\r",
      " 52%|█████▏    | 1042/2000 [03:04<03:19,  4.79it/s]"
     ]
    },
    {
     "name": "stdout",
     "output_type": "stream",
     "text": [
      "Training_loss 0.00083,   Relative Error 0.00348\n"
     ]
    },
    {
     "name": "stderr",
     "output_type": "stream",
     "text": [
      " 52%|█████▏    | 1044/2000 [03:04<03:23,  4.69it/s]"
     ]
    },
    {
     "name": "stdout",
     "output_type": "stream",
     "text": [
      "Training_loss 0.00085,   Relative Error 0.00350\n",
      "Training_loss 0.00089,   Relative Error 0.00357\n"
     ]
    },
    {
     "name": "stderr",
     "output_type": "stream",
     "text": [
      " 52%|█████▏    | 1046/2000 [03:04<02:53,  5.51it/s]"
     ]
    },
    {
     "name": "stdout",
     "output_type": "stream",
     "text": [
      "Training_loss 0.00090,   Relative Error 0.00363\n",
      "Training_loss 0.00089,   Relative Error 0.00361\n"
     ]
    },
    {
     "name": "stderr",
     "output_type": "stream",
     "text": [
      " 52%|█████▏    | 1048/2000 [03:05<02:31,  6.28it/s]"
     ]
    },
    {
     "name": "stdout",
     "output_type": "stream",
     "text": [
      "Training_loss 0.00088,   Relative Error 0.00360\n",
      "Training_loss 0.00089,   Relative Error 0.00361\n"
     ]
    },
    {
     "name": "stderr",
     "output_type": "stream",
     "text": [
      " 52%|█████▎    | 1050/2000 [03:05<02:21,  6.73it/s]"
     ]
    },
    {
     "name": "stdout",
     "output_type": "stream",
     "text": [
      "Training_loss 0.00089,   Relative Error 0.00359\n",
      "Training_loss 0.00087,   Relative Error 0.00355\n"
     ]
    },
    {
     "name": "stderr",
     "output_type": "stream",
     "text": [
      " 53%|█████▎    | 1052/2000 [03:05<02:20,  6.73it/s]"
     ]
    },
    {
     "name": "stdout",
     "output_type": "stream",
     "text": [
      "Training_loss 0.00086,   Relative Error 0.00353\n",
      "Training_loss 0.00084,   Relative Error 0.00349\n"
     ]
    },
    {
     "name": "stderr",
     "output_type": "stream",
     "text": [
      " 53%|█████▎    | 1054/2000 [03:06<02:25,  6.49it/s]"
     ]
    },
    {
     "name": "stdout",
     "output_type": "stream",
     "text": [
      "Training_loss 0.00088,   Relative Error 0.00356\n",
      "Training_loss 0.00090,   Relative Error 0.00361\n"
     ]
    },
    {
     "name": "stderr",
     "output_type": "stream",
     "text": [
      " 53%|█████▎    | 1056/2000 [03:06<02:26,  6.42it/s]"
     ]
    },
    {
     "name": "stdout",
     "output_type": "stream",
     "text": [
      "Training_loss 0.00092,   Relative Error 0.00363\n",
      "Training_loss 0.00089,   Relative Error 0.00357\n"
     ]
    },
    {
     "name": "stderr",
     "output_type": "stream",
     "text": [
      " 53%|█████▎    | 1058/2000 [03:06<02:38,  5.93it/s]"
     ]
    },
    {
     "name": "stdout",
     "output_type": "stream",
     "text": [
      "Training_loss 0.00088,   Relative Error 0.00356\n",
      "Training_loss 0.00093,   Relative Error 0.00366\n"
     ]
    },
    {
     "name": "stderr",
     "output_type": "stream",
     "text": [
      " 53%|█████▎    | 1060/2000 [03:07<02:51,  5.48it/s]"
     ]
    },
    {
     "name": "stdout",
     "output_type": "stream",
     "text": [
      "Training_loss 0.00097,   Relative Error 0.00376\n",
      "Training_loss 0.00099,   Relative Error 0.00378\n"
     ]
    },
    {
     "name": "stderr",
     "output_type": "stream",
     "text": [
      " 53%|█████▎    | 1062/2000 [03:07<02:55,  5.34it/s]"
     ]
    },
    {
     "name": "stdout",
     "output_type": "stream",
     "text": [
      "Training_loss 0.00098,   Relative Error 0.00375\n",
      "Training_loss 0.00095,   Relative Error 0.00369\n"
     ]
    },
    {
     "name": "stderr",
     "output_type": "stream",
     "text": [
      "\r",
      " 53%|█████▎    | 1063/2000 [03:07<03:17,  4.73it/s]"
     ]
    },
    {
     "name": "stdout",
     "output_type": "stream",
     "text": [
      "Training_loss 0.00095,   Relative Error 0.00369\n"
     ]
    },
    {
     "name": "stderr",
     "output_type": "stream",
     "text": [
      "\r",
      " 53%|█████▎    | 1064/2000 [03:08<03:26,  4.53it/s]"
     ]
    },
    {
     "name": "stdout",
     "output_type": "stream",
     "text": [
      "Training_loss 0.00093,   Relative Error 0.00366\n"
     ]
    },
    {
     "name": "stderr",
     "output_type": "stream",
     "text": [
      "\r",
      " 53%|█████▎    | 1065/2000 [03:08<03:38,  4.27it/s]"
     ]
    },
    {
     "name": "stdout",
     "output_type": "stream",
     "text": [
      "Training_loss 0.00097,   Relative Error 0.00374\n"
     ]
    },
    {
     "name": "stderr",
     "output_type": "stream",
     "text": [
      "\r",
      " 53%|█████▎    | 1066/2000 [03:08<03:47,  4.10it/s]"
     ]
    },
    {
     "name": "stdout",
     "output_type": "stream",
     "text": [
      "Training_loss 0.00098,   Relative Error 0.00376\n"
     ]
    },
    {
     "name": "stderr",
     "output_type": "stream",
     "text": [
      "\r",
      " 53%|█████▎    | 1067/2000 [03:08<03:55,  3.97it/s]"
     ]
    },
    {
     "name": "stdout",
     "output_type": "stream",
     "text": [
      "Training_loss 0.00099,   Relative Error 0.00378\n"
     ]
    },
    {
     "name": "stderr",
     "output_type": "stream",
     "text": [
      " 53%|█████▎    | 1069/2000 [03:09<03:31,  4.40it/s]"
     ]
    },
    {
     "name": "stdout",
     "output_type": "stream",
     "text": [
      "Training_loss 0.00091,   Relative Error 0.00361\n",
      "Training_loss 0.00092,   Relative Error 0.00363\n"
     ]
    },
    {
     "name": "stderr",
     "output_type": "stream",
     "text": [
      " 54%|█████▎    | 1071/2000 [03:09<02:56,  5.27it/s]"
     ]
    },
    {
     "name": "stdout",
     "output_type": "stream",
     "text": [
      "Training_loss 0.00096,   Relative Error 0.00371\n",
      "Training_loss 0.00099,   Relative Error 0.00377\n"
     ]
    },
    {
     "name": "stderr",
     "output_type": "stream",
     "text": [
      " 54%|█████▎    | 1073/2000 [03:09<02:37,  5.89it/s]"
     ]
    },
    {
     "name": "stdout",
     "output_type": "stream",
     "text": [
      "Training_loss 0.00104,   Relative Error 0.00388\n",
      "Training_loss 0.00104,   Relative Error 0.00386\n"
     ]
    },
    {
     "name": "stderr",
     "output_type": "stream",
     "text": [
      " 54%|█████▍    | 1075/2000 [03:10<02:24,  6.39it/s]"
     ]
    },
    {
     "name": "stdout",
     "output_type": "stream",
     "text": [
      "Training_loss 0.00104,   Relative Error 0.00388\n",
      "Training_loss 0.00109,   Relative Error 0.00397\n"
     ]
    },
    {
     "name": "stderr",
     "output_type": "stream",
     "text": [
      " 54%|█████▍    | 1077/2000 [03:10<02:22,  6.48it/s]"
     ]
    },
    {
     "name": "stdout",
     "output_type": "stream",
     "text": [
      "Training_loss 0.00110,   Relative Error 0.00401\n",
      "Training_loss 0.00116,   Relative Error 0.00411\n"
     ]
    },
    {
     "name": "stderr",
     "output_type": "stream",
     "text": [
      " 54%|█████▍    | 1079/2000 [03:10<02:25,  6.33it/s]"
     ]
    },
    {
     "name": "stdout",
     "output_type": "stream",
     "text": [
      "Training_loss 0.00113,   Relative Error 0.00404\n",
      "Training_loss 0.00113,   Relative Error 0.00405\n"
     ]
    },
    {
     "name": "stderr",
     "output_type": "stream",
     "text": [
      "\r",
      " 54%|█████▍    | 1080/2000 [03:10<02:27,  6.23it/s]"
     ]
    },
    {
     "name": "stdout",
     "output_type": "stream",
     "text": [
      "Training_loss 0.00114,   Relative Error 0.00407\n"
     ]
    },
    {
     "name": "stderr",
     "output_type": "stream",
     "text": [
      " 54%|█████▍    | 1082/2000 [03:11<02:40,  5.71it/s]"
     ]
    },
    {
     "name": "stdout",
     "output_type": "stream",
     "text": [
      "Training_loss 0.00110,   Relative Error 0.00399\n",
      "Training_loss 0.00108,   Relative Error 0.00396\n"
     ]
    },
    {
     "name": "stderr",
     "output_type": "stream",
     "text": [
      " 54%|█████▍    | 1084/2000 [03:11<02:31,  6.06it/s]"
     ]
    },
    {
     "name": "stdout",
     "output_type": "stream",
     "text": [
      "Training_loss 0.00109,   Relative Error 0.00397\n",
      "Training_loss 0.00110,   Relative Error 0.00398\n"
     ]
    },
    {
     "name": "stderr",
     "output_type": "stream",
     "text": [
      " 54%|█████▍    | 1086/2000 [03:11<02:27,  6.19it/s]"
     ]
    },
    {
     "name": "stdout",
     "output_type": "stream",
     "text": [
      "Training_loss 0.00109,   Relative Error 0.00395\n",
      "Training_loss 0.00108,   Relative Error 0.00394\n"
     ]
    },
    {
     "name": "stderr",
     "output_type": "stream",
     "text": [
      " 54%|█████▍    | 1088/2000 [03:12<02:13,  6.82it/s]"
     ]
    },
    {
     "name": "stdout",
     "output_type": "stream",
     "text": [
      "Training_loss 0.00113,   Relative Error 0.00404\n",
      "Training_loss 0.00113,   Relative Error 0.00404\n"
     ]
    },
    {
     "name": "stderr",
     "output_type": "stream",
     "text": [
      " 55%|█████▍    | 1090/2000 [03:12<02:26,  6.22it/s]"
     ]
    },
    {
     "name": "stdout",
     "output_type": "stream",
     "text": [
      "Training_loss 0.00111,   Relative Error 0.00401\n",
      "Training_loss 0.00106,   Relative Error 0.00391\n"
     ]
    },
    {
     "name": "stderr",
     "output_type": "stream",
     "text": [
      " 55%|█████▍    | 1092/2000 [03:12<02:17,  6.59it/s]"
     ]
    },
    {
     "name": "stdout",
     "output_type": "stream",
     "text": [
      "Training_loss 0.00107,   Relative Error 0.00392\n",
      "Training_loss 0.00109,   Relative Error 0.00396\n"
     ]
    },
    {
     "name": "stderr",
     "output_type": "stream",
     "text": [
      "\r",
      " 55%|█████▍    | 1093/2000 [03:13<02:35,  5.82it/s]"
     ]
    },
    {
     "name": "stdout",
     "output_type": "stream",
     "text": [
      "Training_loss 0.00108,   Relative Error 0.00396\n"
     ]
    },
    {
     "name": "stderr",
     "output_type": "stream",
     "text": [
      "\r",
      " 55%|█████▍    | 1094/2000 [03:13<02:58,  5.07it/s]"
     ]
    },
    {
     "name": "stdout",
     "output_type": "stream",
     "text": [
      "Training_loss 0.00109,   Relative Error 0.00397\n"
     ]
    },
    {
     "name": "stderr",
     "output_type": "stream",
     "text": [
      "\r",
      " 55%|█████▍    | 1095/2000 [03:13<03:32,  4.27it/s]"
     ]
    },
    {
     "name": "stdout",
     "output_type": "stream",
     "text": [
      "Training_loss 0.00113,   Relative Error 0.00403\n"
     ]
    },
    {
     "name": "stderr",
     "output_type": "stream",
     "text": [
      "\r",
      " 55%|█████▍    | 1096/2000 [03:13<03:38,  4.15it/s]"
     ]
    },
    {
     "name": "stdout",
     "output_type": "stream",
     "text": [
      "Training_loss 0.00111,   Relative Error 0.00400\n"
     ]
    },
    {
     "name": "stderr",
     "output_type": "stream",
     "text": [
      "\r",
      " 55%|█████▍    | 1097/2000 [03:14<03:58,  3.78it/s]"
     ]
    },
    {
     "name": "stdout",
     "output_type": "stream",
     "text": [
      "Training_loss 0.00102,   Relative Error 0.00383\n"
     ]
    },
    {
     "name": "stderr",
     "output_type": "stream",
     "text": [
      " 55%|█████▍    | 1099/2000 [03:14<03:22,  4.45it/s]"
     ]
    },
    {
     "name": "stdout",
     "output_type": "stream",
     "text": [
      "Training_loss 0.00103,   Relative Error 0.00384\n",
      "Training_loss 0.00106,   Relative Error 0.00392\n"
     ]
    },
    {
     "name": "stderr",
     "output_type": "stream",
     "text": [
      " 55%|█████▌    | 1101/2000 [03:14<02:54,  5.15it/s]"
     ]
    },
    {
     "name": "stdout",
     "output_type": "stream",
     "text": [
      "Training_loss 0.00107,   Relative Error 0.00393\n",
      "Training_loss 0.00103,   Relative Error 0.00384\n"
     ]
    },
    {
     "name": "stderr",
     "output_type": "stream",
     "text": [
      " 55%|█████▌    | 1103/2000 [03:15<03:01,  4.93it/s]"
     ]
    },
    {
     "name": "stdout",
     "output_type": "stream",
     "text": [
      "Training_loss 0.00096,   Relative Error 0.00372\n",
      "Training_loss 0.00101,   Relative Error 0.00380\n"
     ]
    },
    {
     "name": "stderr",
     "output_type": "stream",
     "text": [
      " 55%|█████▌    | 1105/2000 [03:15<02:49,  5.28it/s]"
     ]
    },
    {
     "name": "stdout",
     "output_type": "stream",
     "text": [
      "Training_loss 0.00102,   Relative Error 0.00381\n",
      "Training_loss 0.00097,   Relative Error 0.00374\n"
     ]
    },
    {
     "name": "stderr",
     "output_type": "stream",
     "text": [
      " 55%|█████▌    | 1107/2000 [03:16<02:41,  5.53it/s]"
     ]
    },
    {
     "name": "stdout",
     "output_type": "stream",
     "text": [
      "Training_loss 0.00096,   Relative Error 0.00370\n",
      "Training_loss 0.00096,   Relative Error 0.00371\n"
     ]
    },
    {
     "name": "stderr",
     "output_type": "stream",
     "text": [
      "\r",
      " 55%|█████▌    | 1108/2000 [03:16<02:50,  5.23it/s]"
     ]
    },
    {
     "name": "stdout",
     "output_type": "stream",
     "text": [
      "Training_loss 0.00095,   Relative Error 0.00368\n"
     ]
    },
    {
     "name": "stderr",
     "output_type": "stream",
     "text": [
      " 56%|█████▌    | 1110/2000 [03:16<02:43,  5.43it/s]"
     ]
    },
    {
     "name": "stdout",
     "output_type": "stream",
     "text": [
      "Training_loss 0.00094,   Relative Error 0.00367\n",
      "Training_loss 0.00092,   Relative Error 0.00362\n"
     ]
    },
    {
     "name": "stderr",
     "output_type": "stream",
     "text": [
      " 56%|█████▌    | 1112/2000 [03:16<02:23,  6.18it/s]"
     ]
    },
    {
     "name": "stdout",
     "output_type": "stream",
     "text": [
      "Training_loss 0.00093,   Relative Error 0.00365\n",
      "Training_loss 0.00086,   Relative Error 0.00352\n"
     ]
    },
    {
     "name": "stderr",
     "output_type": "stream",
     "text": [
      " 56%|█████▌    | 1114/2000 [03:17<02:26,  6.03it/s]"
     ]
    },
    {
     "name": "stdout",
     "output_type": "stream",
     "text": [
      "Training_loss 0.00079,   Relative Error 0.00337\n",
      "Training_loss 0.00074,   Relative Error 0.00325\n"
     ]
    },
    {
     "name": "stderr",
     "output_type": "stream",
     "text": [
      " 56%|█████▌    | 1116/2000 [03:17<02:27,  6.00it/s]"
     ]
    },
    {
     "name": "stdout",
     "output_type": "stream",
     "text": [
      "Training_loss 0.00077,   Relative Error 0.00333\n",
      "Training_loss 0.00078,   Relative Error 0.00337\n"
     ]
    },
    {
     "name": "stderr",
     "output_type": "stream",
     "text": [
      " 56%|█████▌    | 1118/2000 [03:17<02:30,  5.85it/s]"
     ]
    },
    {
     "name": "stdout",
     "output_type": "stream",
     "text": [
      "Training_loss 0.00085,   Relative Error 0.00351\n",
      "Training_loss 0.00088,   Relative Error 0.00354\n"
     ]
    },
    {
     "name": "stderr",
     "output_type": "stream",
     "text": [
      " 56%|█████▌    | 1120/2000 [03:18<02:33,  5.75it/s]"
     ]
    },
    {
     "name": "stdout",
     "output_type": "stream",
     "text": [
      "Training_loss 0.00085,   Relative Error 0.00349\n",
      "Training_loss 0.00087,   Relative Error 0.00352\n"
     ]
    },
    {
     "name": "stderr",
     "output_type": "stream",
     "text": [
      " 56%|█████▌    | 1122/2000 [03:18<02:26,  5.99it/s]"
     ]
    },
    {
     "name": "stdout",
     "output_type": "stream",
     "text": [
      "Training_loss 0.00082,   Relative Error 0.00341\n",
      "Training_loss 0.00086,   Relative Error 0.00351\n"
     ]
    },
    {
     "name": "stderr",
     "output_type": "stream",
     "text": [
      " 56%|█████▌    | 1124/2000 [03:18<02:17,  6.35it/s]"
     ]
    },
    {
     "name": "stdout",
     "output_type": "stream",
     "text": [
      "Training_loss 0.00087,   Relative Error 0.00352\n",
      "Training_loss 0.00088,   Relative Error 0.00354\n"
     ]
    },
    {
     "name": "stderr",
     "output_type": "stream",
     "text": [
      "\r",
      " 56%|█████▋    | 1125/2000 [03:19<02:16,  6.40it/s]"
     ]
    },
    {
     "name": "stdout",
     "output_type": "stream",
     "text": [
      "Training_loss 0.00092,   Relative Error 0.00362\n"
     ]
    },
    {
     "name": "stderr",
     "output_type": "stream",
     "text": [
      " 56%|█████▋    | 1127/2000 [03:19<02:35,  5.61it/s]"
     ]
    },
    {
     "name": "stdout",
     "output_type": "stream",
     "text": [
      "Training_loss 0.00096,   Relative Error 0.00369\n",
      "Training_loss 0.00089,   Relative Error 0.00355\n"
     ]
    },
    {
     "name": "stderr",
     "output_type": "stream",
     "text": [
      " 56%|█████▋    | 1129/2000 [03:19<02:36,  5.56it/s]"
     ]
    },
    {
     "name": "stdout",
     "output_type": "stream",
     "text": [
      "Training_loss 0.00092,   Relative Error 0.00360\n",
      "Training_loss 0.00093,   Relative Error 0.00361\n"
     ]
    },
    {
     "name": "stderr",
     "output_type": "stream",
     "text": [
      "\r",
      " 56%|█████▋    | 1130/2000 [03:20<02:43,  5.34it/s]"
     ]
    },
    {
     "name": "stdout",
     "output_type": "stream",
     "text": [
      "Training_loss 0.00091,   Relative Error 0.00359\n"
     ]
    },
    {
     "name": "stderr",
     "output_type": "stream",
     "text": [
      " 57%|█████▋    | 1132/2000 [03:20<02:36,  5.53it/s]"
     ]
    },
    {
     "name": "stdout",
     "output_type": "stream",
     "text": [
      "Training_loss 0.00089,   Relative Error 0.00356\n",
      "Training_loss 0.00092,   Relative Error 0.00361\n"
     ]
    },
    {
     "name": "stderr",
     "output_type": "stream",
     "text": [
      " 57%|█████▋    | 1134/2000 [03:20<02:26,  5.93it/s]"
     ]
    },
    {
     "name": "stdout",
     "output_type": "stream",
     "text": [
      "Training_loss 0.00087,   Relative Error 0.00350\n",
      "Training_loss 0.00089,   Relative Error 0.00355\n"
     ]
    },
    {
     "name": "stderr",
     "output_type": "stream",
     "text": [
      " 57%|█████▋    | 1136/2000 [03:20<02:17,  6.28it/s]"
     ]
    },
    {
     "name": "stdout",
     "output_type": "stream",
     "text": [
      "Training_loss 0.00091,   Relative Error 0.00358\n",
      "Training_loss 0.00090,   Relative Error 0.00355\n"
     ]
    },
    {
     "name": "stderr",
     "output_type": "stream",
     "text": [
      " 57%|█████▋    | 1138/2000 [03:21<02:18,  6.23it/s]"
     ]
    },
    {
     "name": "stdout",
     "output_type": "stream",
     "text": [
      "Training_loss 0.00091,   Relative Error 0.00357\n",
      "Training_loss 0.00088,   Relative Error 0.00353\n"
     ]
    },
    {
     "name": "stderr",
     "output_type": "stream",
     "text": [
      " 57%|█████▋    | 1140/2000 [03:21<02:11,  6.53it/s]"
     ]
    },
    {
     "name": "stdout",
     "output_type": "stream",
     "text": [
      "Training_loss 0.00086,   Relative Error 0.00349\n",
      "Training_loss 0.00087,   Relative Error 0.00350\n"
     ]
    },
    {
     "name": "stderr",
     "output_type": "stream",
     "text": [
      " 57%|█████▋    | 1142/2000 [03:21<02:12,  6.46it/s]"
     ]
    },
    {
     "name": "stdout",
     "output_type": "stream",
     "text": [
      "Training_loss 0.00089,   Relative Error 0.00355\n",
      "Training_loss 0.00092,   Relative Error 0.00360\n"
     ]
    },
    {
     "name": "stderr",
     "output_type": "stream",
     "text": [
      " 57%|█████▋    | 1144/2000 [03:22<02:30,  5.70it/s]"
     ]
    },
    {
     "name": "stdout",
     "output_type": "stream",
     "text": [
      "Training_loss 0.00095,   Relative Error 0.00367\n",
      "Training_loss 0.00094,   Relative Error 0.00365\n"
     ]
    },
    {
     "name": "stderr",
     "output_type": "stream",
     "text": [
      " 57%|█████▋    | 1146/2000 [03:22<02:27,  5.80it/s]"
     ]
    },
    {
     "name": "stdout",
     "output_type": "stream",
     "text": [
      "Training_loss 0.00094,   Relative Error 0.00362\n",
      "Training_loss 0.00096,   Relative Error 0.00366\n"
     ]
    },
    {
     "name": "stderr",
     "output_type": "stream",
     "text": [
      "\r",
      " 57%|█████▋    | 1147/2000 [03:22<02:31,  5.61it/s]"
     ]
    },
    {
     "name": "stdout",
     "output_type": "stream",
     "text": [
      "Training_loss 0.00096,   Relative Error 0.00365\n"
     ]
    },
    {
     "name": "stderr",
     "output_type": "stream",
     "text": [
      " 57%|█████▋    | 1149/2000 [03:23<02:34,  5.50it/s]"
     ]
    },
    {
     "name": "stdout",
     "output_type": "stream",
     "text": [
      "Training_loss 0.00089,   Relative Error 0.00351\n",
      "Training_loss 0.00084,   Relative Error 0.00343\n"
     ]
    },
    {
     "name": "stderr",
     "output_type": "stream",
     "text": [
      " 58%|█████▊    | 1151/2000 [03:23<02:19,  6.07it/s]"
     ]
    },
    {
     "name": "stdout",
     "output_type": "stream",
     "text": [
      "Training_loss 0.00078,   Relative Error 0.00332\n",
      "Training_loss 0.00073,   Relative Error 0.00321\n"
     ]
    },
    {
     "name": "stderr",
     "output_type": "stream",
     "text": [
      " 58%|█████▊    | 1153/2000 [03:23<02:27,  5.75it/s]"
     ]
    },
    {
     "name": "stdout",
     "output_type": "stream",
     "text": [
      "Training_loss 0.00075,   Relative Error 0.00325\n",
      "Training_loss 0.00074,   Relative Error 0.00323\n"
     ]
    },
    {
     "name": "stderr",
     "output_type": "stream",
     "text": [
      " 58%|█████▊    | 1155/2000 [03:24<02:28,  5.68it/s]"
     ]
    },
    {
     "name": "stdout",
     "output_type": "stream",
     "text": [
      "Training_loss 0.00076,   Relative Error 0.00326\n",
      "Training_loss 0.00078,   Relative Error 0.00330\n"
     ]
    },
    {
     "name": "stderr",
     "output_type": "stream",
     "text": [
      " 58%|█████▊    | 1157/2000 [03:24<02:23,  5.88it/s]"
     ]
    },
    {
     "name": "stdout",
     "output_type": "stream",
     "text": [
      "Training_loss 0.00081,   Relative Error 0.00337\n",
      "Training_loss 0.00085,   Relative Error 0.00343\n"
     ]
    },
    {
     "name": "stderr",
     "output_type": "stream",
     "text": [
      " 58%|█████▊    | 1159/2000 [03:24<02:14,  6.23it/s]"
     ]
    },
    {
     "name": "stdout",
     "output_type": "stream",
     "text": [
      "Training_loss 0.00079,   Relative Error 0.00332\n",
      "Training_loss 0.00081,   Relative Error 0.00335\n"
     ]
    },
    {
     "name": "stderr",
     "output_type": "stream",
     "text": [
      " 58%|█████▊    | 1161/2000 [03:25<02:01,  6.90it/s]"
     ]
    },
    {
     "name": "stdout",
     "output_type": "stream",
     "text": [
      "Training_loss 0.00081,   Relative Error 0.00336\n",
      "Training_loss 0.00081,   Relative Error 0.00336\n"
     ]
    },
    {
     "name": "stderr",
     "output_type": "stream",
     "text": [
      " 58%|█████▊    | 1163/2000 [03:25<02:10,  6.42it/s]"
     ]
    },
    {
     "name": "stdout",
     "output_type": "stream",
     "text": [
      "Training_loss 0.00086,   Relative Error 0.00348\n",
      "Training_loss 0.00086,   Relative Error 0.00349\n"
     ]
    },
    {
     "name": "stderr",
     "output_type": "stream",
     "text": [
      " 58%|█████▊    | 1165/2000 [03:25<02:17,  6.08it/s]"
     ]
    },
    {
     "name": "stdout",
     "output_type": "stream",
     "text": [
      "Training_loss 0.00088,   Relative Error 0.00352\n",
      "Training_loss 0.00089,   Relative Error 0.00355\n"
     ]
    },
    {
     "name": "stderr",
     "output_type": "stream",
     "text": [
      "\r",
      " 58%|█████▊    | 1166/2000 [03:26<02:36,  5.33it/s]"
     ]
    },
    {
     "name": "stdout",
     "output_type": "stream",
     "text": [
      "Training_loss 0.00090,   Relative Error 0.00357\n"
     ]
    },
    {
     "name": "stderr",
     "output_type": "stream",
     "text": [
      " 58%|█████▊    | 1168/2000 [03:26<02:33,  5.40it/s]"
     ]
    },
    {
     "name": "stdout",
     "output_type": "stream",
     "text": [
      "Training_loss 0.00088,   Relative Error 0.00355\n",
      "Training_loss 0.00085,   Relative Error 0.00348\n"
     ]
    },
    {
     "name": "stderr",
     "output_type": "stream",
     "text": [
      " 58%|█████▊    | 1170/2000 [03:26<02:13,  6.21it/s]"
     ]
    },
    {
     "name": "stdout",
     "output_type": "stream",
     "text": [
      "Training_loss 0.00086,   Relative Error 0.00347\n",
      "Training_loss 0.00087,   Relative Error 0.00351\n"
     ]
    },
    {
     "name": "stderr",
     "output_type": "stream",
     "text": [
      "\r",
      " 59%|█████▊    | 1171/2000 [03:26<02:12,  6.23it/s]"
     ]
    },
    {
     "name": "stdout",
     "output_type": "stream",
     "text": [
      "Training_loss 0.00088,   Relative Error 0.00353\n"
     ]
    },
    {
     "name": "stderr",
     "output_type": "stream",
     "text": [
      "\r",
      " 59%|█████▊    | 1172/2000 [03:27<02:37,  5.26it/s]"
     ]
    },
    {
     "name": "stdout",
     "output_type": "stream",
     "text": [
      "Training_loss 0.00084,   Relative Error 0.00346\n"
     ]
    },
    {
     "name": "stderr",
     "output_type": "stream",
     "text": [
      "\r",
      " 59%|█████▊    | 1173/2000 [03:27<02:43,  5.07it/s]"
     ]
    },
    {
     "name": "stdout",
     "output_type": "stream",
     "text": [
      "Training_loss 0.00090,   Relative Error 0.00357\n"
     ]
    },
    {
     "name": "stderr",
     "output_type": "stream",
     "text": [
      "\r",
      " 59%|█████▊    | 1174/2000 [03:27<02:54,  4.73it/s]"
     ]
    },
    {
     "name": "stdout",
     "output_type": "stream",
     "text": [
      "Training_loss 0.00089,   Relative Error 0.00354\n"
     ]
    },
    {
     "name": "stderr",
     "output_type": "stream",
     "text": [
      " 59%|█████▉    | 1176/2000 [03:27<02:42,  5.08it/s]"
     ]
    },
    {
     "name": "stdout",
     "output_type": "stream",
     "text": [
      "Training_loss 0.00092,   Relative Error 0.00360\n",
      "Training_loss 0.00092,   Relative Error 0.00360\n"
     ]
    },
    {
     "name": "stderr",
     "output_type": "stream",
     "text": [
      " 59%|█████▉    | 1178/2000 [03:28<02:30,  5.47it/s]"
     ]
    },
    {
     "name": "stdout",
     "output_type": "stream",
     "text": [
      "Training_loss 0.00090,   Relative Error 0.00355\n",
      "Training_loss 0.00093,   Relative Error 0.00363\n"
     ]
    },
    {
     "name": "stderr",
     "output_type": "stream",
     "text": [
      " 59%|█████▉    | 1180/2000 [03:28<02:08,  6.40it/s]"
     ]
    },
    {
     "name": "stdout",
     "output_type": "stream",
     "text": [
      "Training_loss 0.00095,   Relative Error 0.00366\n",
      "Training_loss 0.00099,   Relative Error 0.00372\n"
     ]
    },
    {
     "name": "stderr",
     "output_type": "stream",
     "text": [
      " 59%|█████▉    | 1182/2000 [03:28<02:02,  6.70it/s]"
     ]
    },
    {
     "name": "stdout",
     "output_type": "stream",
     "text": [
      "Training_loss 0.00101,   Relative Error 0.00375\n",
      "Training_loss 0.00108,   Relative Error 0.00386\n"
     ]
    },
    {
     "name": "stderr",
     "output_type": "stream",
     "text": [
      " 59%|█████▉    | 1184/2000 [03:29<02:12,  6.17it/s]"
     ]
    },
    {
     "name": "stdout",
     "output_type": "stream",
     "text": [
      "Training_loss 0.00114,   Relative Error 0.00396\n",
      "Training_loss 0.00110,   Relative Error 0.00391\n"
     ]
    },
    {
     "name": "stderr",
     "output_type": "stream",
     "text": [
      " 59%|█████▉    | 1186/2000 [03:29<02:13,  6.09it/s]"
     ]
    },
    {
     "name": "stdout",
     "output_type": "stream",
     "text": [
      "Training_loss 0.00111,   Relative Error 0.00390\n",
      "Training_loss 0.00110,   Relative Error 0.00389\n"
     ]
    },
    {
     "name": "stderr",
     "output_type": "stream",
     "text": [
      "\r",
      " 59%|█████▉    | 1187/2000 [03:29<02:24,  5.63it/s]"
     ]
    },
    {
     "name": "stdout",
     "output_type": "stream",
     "text": [
      "Training_loss 0.00114,   Relative Error 0.00397\n"
     ]
    },
    {
     "name": "stderr",
     "output_type": "stream",
     "text": [
      "\r",
      " 59%|█████▉    | 1188/2000 [03:30<02:55,  4.62it/s]"
     ]
    },
    {
     "name": "stdout",
     "output_type": "stream",
     "text": [
      "Training_loss 0.00117,   Relative Error 0.00401\n"
     ]
    },
    {
     "name": "stderr",
     "output_type": "stream",
     "text": [
      " 60%|█████▉    | 1190/2000 [03:30<02:47,  4.82it/s]"
     ]
    },
    {
     "name": "stdout",
     "output_type": "stream",
     "text": [
      "Training_loss 0.00109,   Relative Error 0.00389\n",
      "Training_loss 0.00111,   Relative Error 0.00392\n"
     ]
    },
    {
     "name": "stderr",
     "output_type": "stream",
     "text": [
      " 60%|█████▉    | 1192/2000 [03:30<02:50,  4.75it/s]"
     ]
    },
    {
     "name": "stdout",
     "output_type": "stream",
     "text": [
      "Training_loss 0.00117,   Relative Error 0.00401\n",
      "Training_loss 0.00116,   Relative Error 0.00401\n"
     ]
    },
    {
     "name": "stderr",
     "output_type": "stream",
     "text": [
      " 60%|█████▉    | 1194/2000 [03:31<02:56,  4.57it/s]"
     ]
    },
    {
     "name": "stdout",
     "output_type": "stream",
     "text": [
      "Training_loss 0.00114,   Relative Error 0.00399\n",
      "Training_loss 0.00114,   Relative Error 0.00400\n"
     ]
    },
    {
     "name": "stderr",
     "output_type": "stream",
     "text": [
      " 60%|█████▉    | 1196/2000 [03:31<02:50,  4.71it/s]"
     ]
    },
    {
     "name": "stdout",
     "output_type": "stream",
     "text": [
      "Training_loss 0.00112,   Relative Error 0.00398\n",
      "Training_loss 0.00117,   Relative Error 0.00404\n"
     ]
    },
    {
     "name": "stderr",
     "output_type": "stream",
     "text": [
      " 60%|█████▉    | 1198/2000 [03:32<02:33,  5.21it/s]"
     ]
    },
    {
     "name": "stdout",
     "output_type": "stream",
     "text": [
      "Training_loss 0.00118,   Relative Error 0.00406\n",
      "Training_loss 0.00108,   Relative Error 0.00389\n"
     ]
    },
    {
     "name": "stderr",
     "output_type": "stream",
     "text": [
      " 60%|██████    | 1200/2000 [03:32<02:15,  5.92it/s]"
     ]
    },
    {
     "name": "stdout",
     "output_type": "stream",
     "text": [
      "Training_loss 0.00108,   Relative Error 0.00391\n",
      "Training_loss 0.00113,   Relative Error 0.00399\n"
     ]
    },
    {
     "name": "stderr",
     "output_type": "stream",
     "text": [
      " 60%|██████    | 1202/2000 [03:32<02:01,  6.59it/s]"
     ]
    },
    {
     "name": "stdout",
     "output_type": "stream",
     "text": [
      "Training_loss 0.00113,   Relative Error 0.00399\n",
      "Training_loss 0.00108,   Relative Error 0.00389\n"
     ]
    },
    {
     "name": "stderr",
     "output_type": "stream",
     "text": [
      " 60%|██████    | 1204/2000 [03:33<02:09,  6.15it/s]"
     ]
    },
    {
     "name": "stdout",
     "output_type": "stream",
     "text": [
      "Training_loss 0.00109,   Relative Error 0.00393\n",
      "Training_loss 0.00113,   Relative Error 0.00398\n"
     ]
    },
    {
     "name": "stderr",
     "output_type": "stream",
     "text": [
      "\r",
      " 60%|██████    | 1205/2000 [03:33<02:21,  5.60it/s]"
     ]
    },
    {
     "name": "stdout",
     "output_type": "stream",
     "text": [
      "Training_loss 0.00103,   Relative Error 0.00382\n"
     ]
    },
    {
     "name": "stderr",
     "output_type": "stream",
     "text": [
      "\r",
      " 60%|██████    | 1206/2000 [03:33<02:47,  4.74it/s]"
     ]
    },
    {
     "name": "stdout",
     "output_type": "stream",
     "text": [
      "Training_loss 0.00101,   Relative Error 0.00378\n"
     ]
    },
    {
     "name": "stderr",
     "output_type": "stream",
     "text": [
      " 60%|██████    | 1208/2000 [03:34<02:55,  4.52it/s]"
     ]
    },
    {
     "name": "stdout",
     "output_type": "stream",
     "text": [
      "Training_loss 0.00105,   Relative Error 0.00384\n",
      "Training_loss 0.00095,   Relative Error 0.00365\n"
     ]
    },
    {
     "name": "stderr",
     "output_type": "stream",
     "text": [
      " 60%|██████    | 1210/2000 [03:34<02:31,  5.21it/s]"
     ]
    },
    {
     "name": "stdout",
     "output_type": "stream",
     "text": [
      "Training_loss 0.00094,   Relative Error 0.00364\n",
      "Training_loss 0.00097,   Relative Error 0.00372\n"
     ]
    },
    {
     "name": "stderr",
     "output_type": "stream",
     "text": [
      " 61%|██████    | 1212/2000 [03:34<02:09,  6.08it/s]"
     ]
    },
    {
     "name": "stdout",
     "output_type": "stream",
     "text": [
      "Training_loss 0.00092,   Relative Error 0.00362\n",
      "Training_loss 0.00098,   Relative Error 0.00373\n"
     ]
    },
    {
     "name": "stderr",
     "output_type": "stream",
     "text": [
      " 61%|██████    | 1214/2000 [03:35<02:10,  6.04it/s]"
     ]
    },
    {
     "name": "stdout",
     "output_type": "stream",
     "text": [
      "Training_loss 0.00089,   Relative Error 0.00355\n",
      "Training_loss 0.00092,   Relative Error 0.00364\n"
     ]
    },
    {
     "name": "stderr",
     "output_type": "stream",
     "text": [
      " 61%|██████    | 1216/2000 [03:35<02:00,  6.49it/s]"
     ]
    },
    {
     "name": "stdout",
     "output_type": "stream",
     "text": [
      "Training_loss 0.00084,   Relative Error 0.00348\n",
      "Training_loss 0.00089,   Relative Error 0.00358\n"
     ]
    },
    {
     "name": "stderr",
     "output_type": "stream",
     "text": [
      " 61%|██████    | 1218/2000 [03:35<02:00,  6.48it/s]"
     ]
    },
    {
     "name": "stdout",
     "output_type": "stream",
     "text": [
      "Training_loss 0.00093,   Relative Error 0.00365\n",
      "Training_loss 0.00093,   Relative Error 0.00367\n"
     ]
    },
    {
     "name": "stderr",
     "output_type": "stream",
     "text": [
      " 61%|██████    | 1220/2000 [03:35<02:09,  6.04it/s]"
     ]
    },
    {
     "name": "stdout",
     "output_type": "stream",
     "text": [
      "Training_loss 0.00095,   Relative Error 0.00370\n",
      "Training_loss 0.00093,   Relative Error 0.00364\n"
     ]
    },
    {
     "name": "stderr",
     "output_type": "stream",
     "text": [
      " 61%|██████    | 1222/2000 [03:36<02:04,  6.27it/s]"
     ]
    },
    {
     "name": "stdout",
     "output_type": "stream",
     "text": [
      "Training_loss 0.00096,   Relative Error 0.00371\n",
      "Training_loss 0.00097,   Relative Error 0.00373\n"
     ]
    },
    {
     "name": "stderr",
     "output_type": "stream",
     "text": [
      " 61%|██████    | 1224/2000 [03:36<01:56,  6.69it/s]"
     ]
    },
    {
     "name": "stdout",
     "output_type": "stream",
     "text": [
      "Training_loss 0.00101,   Relative Error 0.00380\n",
      "Training_loss 0.00102,   Relative Error 0.00380\n"
     ]
    },
    {
     "name": "stderr",
     "output_type": "stream",
     "text": [
      "\r",
      " 61%|██████▏   | 1225/2000 [03:36<01:58,  6.52it/s]"
     ]
    },
    {
     "name": "stdout",
     "output_type": "stream",
     "text": [
      "Training_loss 0.00097,   Relative Error 0.00369\n"
     ]
    },
    {
     "name": "stderr",
     "output_type": "stream",
     "text": [
      " 61%|██████▏   | 1227/2000 [03:37<02:04,  6.20it/s]"
     ]
    },
    {
     "name": "stdout",
     "output_type": "stream",
     "text": [
      "Training_loss 0.00097,   Relative Error 0.00369\n",
      "Training_loss 0.00095,   Relative Error 0.00366\n"
     ]
    },
    {
     "name": "stderr",
     "output_type": "stream",
     "text": [
      " 61%|██████▏   | 1229/2000 [03:37<01:57,  6.55it/s]"
     ]
    },
    {
     "name": "stdout",
     "output_type": "stream",
     "text": [
      "Training_loss 0.00100,   Relative Error 0.00376\n",
      "Training_loss 0.00104,   Relative Error 0.00383\n"
     ]
    },
    {
     "name": "stderr",
     "output_type": "stream",
     "text": [
      " 62%|██████▏   | 1231/2000 [03:37<01:49,  7.04it/s]"
     ]
    },
    {
     "name": "stdout",
     "output_type": "stream",
     "text": [
      "Training_loss 0.00107,   Relative Error 0.00390\n",
      "Training_loss 0.00109,   Relative Error 0.00392\n"
     ]
    },
    {
     "name": "stderr",
     "output_type": "stream",
     "text": [
      " 62%|██████▏   | 1233/2000 [03:37<01:46,  7.17it/s]"
     ]
    },
    {
     "name": "stdout",
     "output_type": "stream",
     "text": [
      "Training_loss 0.00112,   Relative Error 0.00394\n",
      "Training_loss 0.00117,   Relative Error 0.00404\n"
     ]
    },
    {
     "name": "stderr",
     "output_type": "stream",
     "text": [
      " 62%|██████▏   | 1235/2000 [03:38<01:40,  7.58it/s]"
     ]
    },
    {
     "name": "stdout",
     "output_type": "stream",
     "text": [
      "Training_loss 0.00118,   Relative Error 0.00404\n",
      "Training_loss 0.00121,   Relative Error 0.00411\n"
     ]
    },
    {
     "name": "stderr",
     "output_type": "stream",
     "text": [
      "\r",
      " 62%|██████▏   | 1236/2000 [03:38<01:42,  7.44it/s]"
     ]
    },
    {
     "name": "stdout",
     "output_type": "stream",
     "text": [
      "Training_loss 0.00122,   Relative Error 0.00410\n"
     ]
    },
    {
     "name": "stderr",
     "output_type": "stream",
     "text": [
      " 62%|██████▏   | 1238/2000 [03:38<02:16,  5.57it/s]"
     ]
    },
    {
     "name": "stdout",
     "output_type": "stream",
     "text": [
      "Training_loss 0.00122,   Relative Error 0.00411\n",
      "Training_loss 0.00121,   Relative Error 0.00409\n"
     ]
    },
    {
     "name": "stderr",
     "output_type": "stream",
     "text": [
      "\r",
      " 62%|██████▏   | 1239/2000 [03:38<02:05,  6.04it/s]"
     ]
    },
    {
     "name": "stdout",
     "output_type": "stream",
     "text": [
      "Training_loss 0.00112,   Relative Error 0.00394\n"
     ]
    },
    {
     "name": "stderr",
     "output_type": "stream",
     "text": [
      " 62%|██████▏   | 1241/2000 [03:39<02:21,  5.35it/s]"
     ]
    },
    {
     "name": "stdout",
     "output_type": "stream",
     "text": [
      "Training_loss 0.00112,   Relative Error 0.00396\n",
      "Training_loss 0.00113,   Relative Error 0.00400\n"
     ]
    },
    {
     "name": "stderr",
     "output_type": "stream",
     "text": [
      "\r",
      " 62%|██████▏   | 1242/2000 [03:39<02:11,  5.78it/s]"
     ]
    },
    {
     "name": "stdout",
     "output_type": "stream",
     "text": [
      "Training_loss 0.00115,   Relative Error 0.00400\n"
     ]
    },
    {
     "name": "stderr",
     "output_type": "stream",
     "text": [
      " 62%|██████▏   | 1244/2000 [03:39<02:20,  5.39it/s]"
     ]
    },
    {
     "name": "stdout",
     "output_type": "stream",
     "text": [
      "Training_loss 0.00107,   Relative Error 0.00387\n",
      "Training_loss 0.00103,   Relative Error 0.00384\n"
     ]
    },
    {
     "name": "stderr",
     "output_type": "stream",
     "text": [
      " 62%|██████▏   | 1246/2000 [03:40<01:56,  6.48it/s]"
     ]
    },
    {
     "name": "stdout",
     "output_type": "stream",
     "text": [
      "Training_loss 0.00105,   Relative Error 0.00388\n",
      "Training_loss 0.00097,   Relative Error 0.00374\n"
     ]
    },
    {
     "name": "stderr",
     "output_type": "stream",
     "text": [
      "\r",
      " 62%|██████▏   | 1247/2000 [03:40<02:03,  6.10it/s]"
     ]
    },
    {
     "name": "stdout",
     "output_type": "stream",
     "text": [
      "Training_loss 0.00090,   Relative Error 0.00360\n"
     ]
    },
    {
     "name": "stderr",
     "output_type": "stream",
     "text": [
      "\r",
      " 62%|██████▏   | 1248/2000 [03:40<02:16,  5.50it/s]"
     ]
    },
    {
     "name": "stdout",
     "output_type": "stream",
     "text": [
      "Training_loss 0.00082,   Relative Error 0.00344\n"
     ]
    },
    {
     "name": "stderr",
     "output_type": "stream",
     "text": [
      " 62%|██████▎   | 1250/2000 [03:40<02:35,  4.81it/s]"
     ]
    },
    {
     "name": "stdout",
     "output_type": "stream",
     "text": [
      "Training_loss 0.00082,   Relative Error 0.00344\n",
      "Training_loss 0.00080,   Relative Error 0.00338\n"
     ]
    },
    {
     "name": "stderr",
     "output_type": "stream",
     "text": [
      "\r",
      " 63%|██████▎   | 1251/2000 [03:41<03:00,  4.15it/s]"
     ]
    },
    {
     "name": "stdout",
     "output_type": "stream",
     "text": [
      "Training_loss 0.00082,   Relative Error 0.00341\n"
     ]
    },
    {
     "name": "stderr",
     "output_type": "stream",
     "text": [
      " 63%|██████▎   | 1253/2000 [03:41<02:43,  4.57it/s]"
     ]
    },
    {
     "name": "stdout",
     "output_type": "stream",
     "text": [
      "Training_loss 0.00086,   Relative Error 0.00350\n",
      "Training_loss 0.00081,   Relative Error 0.00338\n"
     ]
    },
    {
     "name": "stderr",
     "output_type": "stream",
     "text": [
      " 63%|██████▎   | 1255/2000 [03:41<02:07,  5.84it/s]"
     ]
    },
    {
     "name": "stdout",
     "output_type": "stream",
     "text": [
      "Training_loss 0.00084,   Relative Error 0.00345\n",
      "Training_loss 0.00085,   Relative Error 0.00346\n"
     ]
    },
    {
     "name": "stderr",
     "output_type": "stream",
     "text": [
      " 63%|██████▎   | 1257/2000 [03:42<01:56,  6.38it/s]"
     ]
    },
    {
     "name": "stdout",
     "output_type": "stream",
     "text": [
      "Training_loss 0.00078,   Relative Error 0.00331\n",
      "Training_loss 0.00077,   Relative Error 0.00333\n"
     ]
    },
    {
     "name": "stderr",
     "output_type": "stream",
     "text": [
      " 63%|██████▎   | 1259/2000 [03:42<01:45,  7.00it/s]"
     ]
    },
    {
     "name": "stdout",
     "output_type": "stream",
     "text": [
      "Training_loss 0.00077,   Relative Error 0.00331\n",
      "Training_loss 0.00075,   Relative Error 0.00327\n"
     ]
    },
    {
     "name": "stderr",
     "output_type": "stream",
     "text": [
      " 63%|██████▎   | 1261/2000 [03:42<01:40,  7.33it/s]"
     ]
    },
    {
     "name": "stdout",
     "output_type": "stream",
     "text": [
      "Training_loss 0.00072,   Relative Error 0.00321\n",
      "Training_loss 0.00077,   Relative Error 0.00333\n"
     ]
    },
    {
     "name": "stderr",
     "output_type": "stream",
     "text": [
      "\r",
      " 63%|██████▎   | 1262/2000 [03:42<01:38,  7.46it/s]"
     ]
    },
    {
     "name": "stdout",
     "output_type": "stream",
     "text": [
      "Training_loss 0.00077,   Relative Error 0.00333\n"
     ]
    },
    {
     "name": "stderr",
     "output_type": "stream",
     "text": [
      " 63%|██████▎   | 1264/2000 [03:43<02:11,  5.58it/s]"
     ]
    },
    {
     "name": "stdout",
     "output_type": "stream",
     "text": [
      "Training_loss 0.00070,   Relative Error 0.00318\n",
      "Training_loss 0.00071,   Relative Error 0.00320\n"
     ]
    },
    {
     "name": "stderr",
     "output_type": "stream",
     "text": [
      "\r",
      " 63%|██████▎   | 1265/2000 [03:43<02:12,  5.55it/s]"
     ]
    },
    {
     "name": "stdout",
     "output_type": "stream",
     "text": [
      "Training_loss 0.00073,   Relative Error 0.00324\n"
     ]
    },
    {
     "name": "stderr",
     "output_type": "stream",
     "text": [
      " 63%|██████▎   | 1267/2000 [03:43<02:14,  5.45it/s]"
     ]
    },
    {
     "name": "stdout",
     "output_type": "stream",
     "text": [
      "Training_loss 0.00071,   Relative Error 0.00321\n",
      "Training_loss 0.00078,   Relative Error 0.00335\n"
     ]
    },
    {
     "name": "stderr",
     "output_type": "stream",
     "text": [
      " 63%|██████▎   | 1269/2000 [03:44<02:01,  6.02it/s]"
     ]
    },
    {
     "name": "stdout",
     "output_type": "stream",
     "text": [
      "Training_loss 0.00077,   Relative Error 0.00335\n",
      "Training_loss 0.00081,   Relative Error 0.00342\n"
     ]
    },
    {
     "name": "stderr",
     "output_type": "stream",
     "text": [
      " 64%|██████▎   | 1271/2000 [03:44<01:53,  6.42it/s]"
     ]
    },
    {
     "name": "stdout",
     "output_type": "stream",
     "text": [
      "Training_loss 0.00082,   Relative Error 0.00343\n",
      "Training_loss 0.00083,   Relative Error 0.00344\n"
     ]
    },
    {
     "name": "stderr",
     "output_type": "stream",
     "text": [
      " 64%|██████▎   | 1273/2000 [03:44<01:44,  6.96it/s]"
     ]
    },
    {
     "name": "stdout",
     "output_type": "stream",
     "text": [
      "Training_loss 0.00085,   Relative Error 0.00351\n",
      "Training_loss 0.00087,   Relative Error 0.00357\n"
     ]
    },
    {
     "name": "stderr",
     "output_type": "stream",
     "text": [
      " 64%|██████▍   | 1275/2000 [03:45<01:42,  7.09it/s]"
     ]
    },
    {
     "name": "stdout",
     "output_type": "stream",
     "text": [
      "Training_loss 0.00083,   Relative Error 0.00347\n",
      "Training_loss 0.00088,   Relative Error 0.00356\n"
     ]
    },
    {
     "name": "stderr",
     "output_type": "stream",
     "text": [
      " 64%|██████▍   | 1277/2000 [03:45<01:57,  6.16it/s]"
     ]
    },
    {
     "name": "stdout",
     "output_type": "stream",
     "text": [
      "Training_loss 0.00088,   Relative Error 0.00356\n",
      "Training_loss 0.00088,   Relative Error 0.00356\n"
     ]
    },
    {
     "name": "stderr",
     "output_type": "stream",
     "text": [
      " 64%|██████▍   | 1279/2000 [03:45<02:10,  5.53it/s]"
     ]
    },
    {
     "name": "stdout",
     "output_type": "stream",
     "text": [
      "Training_loss 0.00089,   Relative Error 0.00358\n",
      "Training_loss 0.00093,   Relative Error 0.00363\n"
     ]
    },
    {
     "name": "stderr",
     "output_type": "stream",
     "text": [
      "\r",
      " 64%|██████▍   | 1280/2000 [03:45<02:05,  5.73it/s]"
     ]
    },
    {
     "name": "stdout",
     "output_type": "stream",
     "text": [
      "Training_loss 0.00097,   Relative Error 0.00372\n"
     ]
    },
    {
     "name": "stderr",
     "output_type": "stream",
     "text": [
      "\r",
      " 64%|██████▍   | 1281/2000 [03:46<02:11,  5.46it/s]"
     ]
    },
    {
     "name": "stdout",
     "output_type": "stream",
     "text": [
      "Training_loss 0.00096,   Relative Error 0.00369\n"
     ]
    },
    {
     "name": "stderr",
     "output_type": "stream",
     "text": [
      " 64%|██████▍   | 1283/2000 [03:46<02:17,  5.20it/s]"
     ]
    },
    {
     "name": "stdout",
     "output_type": "stream",
     "text": [
      "Training_loss 0.00100,   Relative Error 0.00375\n",
      "Training_loss 0.00095,   Relative Error 0.00366\n"
     ]
    },
    {
     "name": "stderr",
     "output_type": "stream",
     "text": [
      " 64%|██████▍   | 1285/2000 [03:46<01:58,  6.03it/s]"
     ]
    },
    {
     "name": "stdout",
     "output_type": "stream",
     "text": [
      "Training_loss 0.00089,   Relative Error 0.00354\n",
      "Training_loss 0.00090,   Relative Error 0.00357\n"
     ]
    },
    {
     "name": "stderr",
     "output_type": "stream",
     "text": [
      " 64%|██████▍   | 1287/2000 [03:47<01:57,  6.04it/s]"
     ]
    },
    {
     "name": "stdout",
     "output_type": "stream",
     "text": [
      "Training_loss 0.00085,   Relative Error 0.00346\n",
      "Training_loss 0.00083,   Relative Error 0.00341\n"
     ]
    },
    {
     "name": "stderr",
     "output_type": "stream",
     "text": [
      "\r",
      " 64%|██████▍   | 1288/2000 [03:47<02:23,  4.96it/s]"
     ]
    },
    {
     "name": "stdout",
     "output_type": "stream",
     "text": [
      "Training_loss 0.00079,   Relative Error 0.00332\n"
     ]
    },
    {
     "name": "stderr",
     "output_type": "stream",
     "text": [
      "\r",
      " 64%|██████▍   | 1289/2000 [03:47<02:38,  4.50it/s]"
     ]
    },
    {
     "name": "stdout",
     "output_type": "stream",
     "text": [
      "Training_loss 0.00074,   Relative Error 0.00324\n"
     ]
    },
    {
     "name": "stderr",
     "output_type": "stream",
     "text": [
      " 65%|██████▍   | 1291/2000 [03:48<02:29,  4.73it/s]"
     ]
    },
    {
     "name": "stdout",
     "output_type": "stream",
     "text": [
      "Training_loss 0.00074,   Relative Error 0.00324\n",
      "Training_loss 0.00074,   Relative Error 0.00322\n"
     ]
    },
    {
     "name": "stderr",
     "output_type": "stream",
     "text": [
      "\r",
      " 65%|██████▍   | 1292/2000 [03:48<02:21,  5.01it/s]"
     ]
    },
    {
     "name": "stdout",
     "output_type": "stream",
     "text": [
      "Training_loss 0.00075,   Relative Error 0.00325\n"
     ]
    },
    {
     "name": "stderr",
     "output_type": "stream",
     "text": [
      " 65%|██████▍   | 1294/2000 [03:48<02:46,  4.24it/s]"
     ]
    },
    {
     "name": "stdout",
     "output_type": "stream",
     "text": [
      "Training_loss 0.00077,   Relative Error 0.00328\n",
      "Training_loss 0.00081,   Relative Error 0.00338\n"
     ]
    },
    {
     "name": "stderr",
     "output_type": "stream",
     "text": [
      " 65%|██████▍   | 1296/2000 [03:49<02:12,  5.30it/s]"
     ]
    },
    {
     "name": "stdout",
     "output_type": "stream",
     "text": [
      "Training_loss 0.00084,   Relative Error 0.00343\n",
      "Training_loss 0.00083,   Relative Error 0.00343\n"
     ]
    },
    {
     "name": "stderr",
     "output_type": "stream",
     "text": [
      "\r",
      " 65%|██████▍   | 1297/2000 [03:49<02:02,  5.75it/s]"
     ]
    },
    {
     "name": "stdout",
     "output_type": "stream",
     "text": [
      "Training_loss 0.00086,   Relative Error 0.00349\n"
     ]
    },
    {
     "name": "stderr",
     "output_type": "stream",
     "text": [
      " 65%|██████▍   | 1299/2000 [03:49<02:00,  5.81it/s]"
     ]
    },
    {
     "name": "stdout",
     "output_type": "stream",
     "text": [
      "Training_loss 0.00084,   Relative Error 0.00343\n",
      "Training_loss 0.00080,   Relative Error 0.00336\n"
     ]
    },
    {
     "name": "stderr",
     "output_type": "stream",
     "text": [
      " 65%|██████▌   | 1301/2000 [03:50<01:56,  5.98it/s]"
     ]
    },
    {
     "name": "stdout",
     "output_type": "stream",
     "text": [
      "Training_loss 0.00080,   Relative Error 0.00337\n",
      "Training_loss 0.00080,   Relative Error 0.00337\n"
     ]
    },
    {
     "name": "stderr",
     "output_type": "stream",
     "text": [
      " 65%|██████▌   | 1303/2000 [03:50<01:54,  6.07it/s]"
     ]
    },
    {
     "name": "stdout",
     "output_type": "stream",
     "text": [
      "Training_loss 0.00083,   Relative Error 0.00345\n",
      "Training_loss 0.00087,   Relative Error 0.00350\n"
     ]
    },
    {
     "name": "stderr",
     "output_type": "stream",
     "text": [
      " 65%|██████▌   | 1305/2000 [03:50<01:48,  6.41it/s]"
     ]
    },
    {
     "name": "stdout",
     "output_type": "stream",
     "text": [
      "Training_loss 0.00089,   Relative Error 0.00355\n",
      "Training_loss 0.00091,   Relative Error 0.00359\n"
     ]
    },
    {
     "name": "stderr",
     "output_type": "stream",
     "text": [
      " 65%|██████▌   | 1307/2000 [03:50<01:45,  6.55it/s]"
     ]
    },
    {
     "name": "stdout",
     "output_type": "stream",
     "text": [
      "Training_loss 0.00093,   Relative Error 0.00365\n",
      "Training_loss 0.00090,   Relative Error 0.00360\n"
     ]
    },
    {
     "name": "stderr",
     "output_type": "stream",
     "text": [
      " 65%|██████▌   | 1309/2000 [03:51<01:41,  6.82it/s]"
     ]
    },
    {
     "name": "stdout",
     "output_type": "stream",
     "text": [
      "Training_loss 0.00087,   Relative Error 0.00352\n",
      "Training_loss 0.00090,   Relative Error 0.00360\n"
     ]
    },
    {
     "name": "stderr",
     "output_type": "stream",
     "text": [
      " 66%|██████▌   | 1311/2000 [03:51<01:39,  6.91it/s]"
     ]
    },
    {
     "name": "stdout",
     "output_type": "stream",
     "text": [
      "Training_loss 0.00089,   Relative Error 0.00358\n",
      "Training_loss 0.00092,   Relative Error 0.00364\n"
     ]
    },
    {
     "name": "stderr",
     "output_type": "stream",
     "text": [
      " 66%|██████▌   | 1313/2000 [03:51<01:50,  6.20it/s]"
     ]
    },
    {
     "name": "stdout",
     "output_type": "stream",
     "text": [
      "Training_loss 0.00092,   Relative Error 0.00363\n",
      "Training_loss 0.00093,   Relative Error 0.00364\n"
     ]
    },
    {
     "name": "stderr",
     "output_type": "stream",
     "text": [
      "\r",
      " 66%|██████▌   | 1314/2000 [03:52<01:46,  6.41it/s]"
     ]
    },
    {
     "name": "stdout",
     "output_type": "stream",
     "text": [
      "Training_loss 0.00091,   Relative Error 0.00360\n"
     ]
    },
    {
     "name": "stderr",
     "output_type": "stream",
     "text": [
      " 66%|██████▌   | 1316/2000 [03:52<01:49,  6.27it/s]"
     ]
    },
    {
     "name": "stdout",
     "output_type": "stream",
     "text": [
      "Training_loss 0.00088,   Relative Error 0.00355\n",
      "Training_loss 0.00091,   Relative Error 0.00361\n"
     ]
    },
    {
     "name": "stderr",
     "output_type": "stream",
     "text": [
      " 66%|██████▌   | 1318/2000 [03:52<01:48,  6.28it/s]"
     ]
    },
    {
     "name": "stdout",
     "output_type": "stream",
     "text": [
      "Training_loss 0.00095,   Relative Error 0.00369\n",
      "Training_loss 0.00097,   Relative Error 0.00376\n"
     ]
    },
    {
     "name": "stderr",
     "output_type": "stream",
     "text": [
      " 66%|██████▌   | 1320/2000 [03:52<01:47,  6.33it/s]"
     ]
    },
    {
     "name": "stdout",
     "output_type": "stream",
     "text": [
      "Training_loss 0.00099,   Relative Error 0.00379\n",
      "Training_loss 0.00093,   Relative Error 0.00367\n"
     ]
    },
    {
     "name": "stderr",
     "output_type": "stream",
     "text": [
      " 66%|██████▌   | 1322/2000 [03:53<01:45,  6.43it/s]"
     ]
    },
    {
     "name": "stdout",
     "output_type": "stream",
     "text": [
      "Training_loss 0.00095,   Relative Error 0.00372\n",
      "Training_loss 0.00095,   Relative Error 0.00373\n"
     ]
    },
    {
     "name": "stderr",
     "output_type": "stream",
     "text": [
      " 66%|██████▌   | 1324/2000 [03:53<01:40,  6.76it/s]"
     ]
    },
    {
     "name": "stdout",
     "output_type": "stream",
     "text": [
      "Training_loss 0.00091,   Relative Error 0.00365\n",
      "Training_loss 0.00093,   Relative Error 0.00369\n"
     ]
    },
    {
     "name": "stderr",
     "output_type": "stream",
     "text": [
      " 66%|██████▋   | 1326/2000 [03:53<01:36,  6.98it/s]"
     ]
    },
    {
     "name": "stdout",
     "output_type": "stream",
     "text": [
      "Training_loss 0.00092,   Relative Error 0.00371\n",
      "Training_loss 0.00094,   Relative Error 0.00374\n"
     ]
    },
    {
     "name": "stderr",
     "output_type": "stream",
     "text": [
      " 66%|██████▋   | 1328/2000 [03:54<01:34,  7.13it/s]"
     ]
    },
    {
     "name": "stdout",
     "output_type": "stream",
     "text": [
      "Training_loss 0.00098,   Relative Error 0.00379\n",
      "Training_loss 0.00095,   Relative Error 0.00374\n"
     ]
    },
    {
     "name": "stderr",
     "output_type": "stream",
     "text": [
      " 66%|██████▋   | 1330/2000 [03:54<01:42,  6.57it/s]"
     ]
    },
    {
     "name": "stdout",
     "output_type": "stream",
     "text": [
      "Training_loss 0.00102,   Relative Error 0.00387\n",
      "Training_loss 0.00104,   Relative Error 0.00391\n"
     ]
    },
    {
     "name": "stderr",
     "output_type": "stream",
     "text": [
      " 67%|██████▋   | 1332/2000 [03:54<01:39,  6.70it/s]"
     ]
    },
    {
     "name": "stdout",
     "output_type": "stream",
     "text": [
      "Training_loss 0.00108,   Relative Error 0.00397\n",
      "Training_loss 0.00109,   Relative Error 0.00398\n"
     ]
    },
    {
     "name": "stderr",
     "output_type": "stream",
     "text": [
      " 67%|██████▋   | 1334/2000 [03:55<01:40,  6.63it/s]"
     ]
    },
    {
     "name": "stdout",
     "output_type": "stream",
     "text": [
      "Training_loss 0.00110,   Relative Error 0.00399\n",
      "Training_loss 0.00109,   Relative Error 0.00395\n"
     ]
    },
    {
     "name": "stderr",
     "output_type": "stream",
     "text": [
      "\r",
      " 67%|██████▋   | 1335/2000 [03:55<02:03,  5.39it/s]"
     ]
    },
    {
     "name": "stdout",
     "output_type": "stream",
     "text": [
      "Training_loss 0.00100,   Relative Error 0.00378\n"
     ]
    },
    {
     "name": "stderr",
     "output_type": "stream",
     "text": [
      " 67%|██████▋   | 1337/2000 [03:55<02:08,  5.14it/s]"
     ]
    },
    {
     "name": "stdout",
     "output_type": "stream",
     "text": [
      "Training_loss 0.00097,   Relative Error 0.00374\n",
      "Training_loss 0.00092,   Relative Error 0.00364\n"
     ]
    },
    {
     "name": "stderr",
     "output_type": "stream",
     "text": [
      " 67%|██████▋   | 1339/2000 [03:56<02:07,  5.20it/s]"
     ]
    },
    {
     "name": "stdout",
     "output_type": "stream",
     "text": [
      "Training_loss 0.00093,   Relative Error 0.00364\n",
      "Training_loss 0.00090,   Relative Error 0.00358\n"
     ]
    },
    {
     "name": "stderr",
     "output_type": "stream",
     "text": [
      " 67%|██████▋   | 1341/2000 [03:56<01:58,  5.56it/s]"
     ]
    },
    {
     "name": "stdout",
     "output_type": "stream",
     "text": [
      "Training_loss 0.00093,   Relative Error 0.00363\n",
      "Training_loss 0.00092,   Relative Error 0.00362\n"
     ]
    },
    {
     "name": "stderr",
     "output_type": "stream",
     "text": [
      " 67%|██████▋   | 1343/2000 [03:56<01:51,  5.87it/s]"
     ]
    },
    {
     "name": "stdout",
     "output_type": "stream",
     "text": [
      "Training_loss 0.00095,   Relative Error 0.00366\n",
      "Training_loss 0.00098,   Relative Error 0.00370\n"
     ]
    },
    {
     "name": "stderr",
     "output_type": "stream",
     "text": [
      "\r",
      " 67%|██████▋   | 1344/2000 [03:56<01:47,  6.12it/s]"
     ]
    },
    {
     "name": "stdout",
     "output_type": "stream",
     "text": [
      "Training_loss 0.00103,   Relative Error 0.00378\n"
     ]
    },
    {
     "name": "stderr",
     "output_type": "stream",
     "text": [
      "\r",
      " 67%|██████▋   | 1345/2000 [03:57<02:02,  5.35it/s]"
     ]
    },
    {
     "name": "stdout",
     "output_type": "stream",
     "text": [
      "Training_loss 0.00104,   Relative Error 0.00382\n"
     ]
    },
    {
     "name": "stderr",
     "output_type": "stream",
     "text": [
      " 67%|██████▋   | 1347/2000 [03:57<02:08,  5.07it/s]"
     ]
    },
    {
     "name": "stdout",
     "output_type": "stream",
     "text": [
      "Training_loss 0.00108,   Relative Error 0.00388\n",
      "Training_loss 0.00099,   Relative Error 0.00371\n"
     ]
    },
    {
     "name": "stderr",
     "output_type": "stream",
     "text": [
      "\r",
      " 67%|██████▋   | 1348/2000 [03:57<02:08,  5.06it/s]"
     ]
    },
    {
     "name": "stdout",
     "output_type": "stream",
     "text": [
      "Training_loss 0.00103,   Relative Error 0.00378\n"
     ]
    },
    {
     "name": "stderr",
     "output_type": "stream",
     "text": [
      "\r",
      " 67%|██████▋   | 1349/2000 [03:58<02:21,  4.61it/s]"
     ]
    },
    {
     "name": "stdout",
     "output_type": "stream",
     "text": [
      "Training_loss 0.00104,   Relative Error 0.00380\n"
     ]
    },
    {
     "name": "stderr",
     "output_type": "stream",
     "text": [
      "\r",
      " 68%|██████▊   | 1350/2000 [03:58<02:36,  4.16it/s]"
     ]
    },
    {
     "name": "stdout",
     "output_type": "stream",
     "text": [
      "Training_loss 0.00107,   Relative Error 0.00386\n"
     ]
    },
    {
     "name": "stderr",
     "output_type": "stream",
     "text": [
      "\r",
      " 68%|██████▊   | 1351/2000 [03:58<02:50,  3.80it/s]"
     ]
    },
    {
     "name": "stdout",
     "output_type": "stream",
     "text": [
      "Training_loss 0.00105,   Relative Error 0.00383\n"
     ]
    },
    {
     "name": "stderr",
     "output_type": "stream",
     "text": [
      "\r",
      " 68%|██████▊   | 1352/2000 [03:58<02:48,  3.85it/s]"
     ]
    },
    {
     "name": "stdout",
     "output_type": "stream",
     "text": [
      "Training_loss 0.00099,   Relative Error 0.00373\n"
     ]
    },
    {
     "name": "stderr",
     "output_type": "stream",
     "text": [
      "\r",
      " 68%|██████▊   | 1353/2000 [03:59<02:45,  3.91it/s]"
     ]
    },
    {
     "name": "stdout",
     "output_type": "stream",
     "text": [
      "Training_loss 0.00100,   Relative Error 0.00374\n"
     ]
    },
    {
     "name": "stderr",
     "output_type": "stream",
     "text": [
      "\r",
      " 68%|██████▊   | 1354/2000 [03:59<02:44,  3.93it/s]"
     ]
    },
    {
     "name": "stdout",
     "output_type": "stream",
     "text": [
      "Training_loss 0.00099,   Relative Error 0.00372\n"
     ]
    },
    {
     "name": "stderr",
     "output_type": "stream",
     "text": [
      "\r",
      " 68%|██████▊   | 1355/2000 [03:59<02:39,  4.05it/s]"
     ]
    },
    {
     "name": "stdout",
     "output_type": "stream",
     "text": [
      "Training_loss 0.00098,   Relative Error 0.00369\n"
     ]
    },
    {
     "name": "stderr",
     "output_type": "stream",
     "text": [
      "\r",
      " 68%|██████▊   | 1356/2000 [03:59<02:39,  4.05it/s]"
     ]
    },
    {
     "name": "stdout",
     "output_type": "stream",
     "text": [
      "Training_loss 0.00100,   Relative Error 0.00374\n"
     ]
    },
    {
     "name": "stderr",
     "output_type": "stream",
     "text": [
      "\r",
      " 68%|██████▊   | 1357/2000 [04:00<02:40,  4.00it/s]"
     ]
    },
    {
     "name": "stdout",
     "output_type": "stream",
     "text": [
      "Training_loss 0.00104,   Relative Error 0.00381\n"
     ]
    },
    {
     "name": "stderr",
     "output_type": "stream",
     "text": [
      "\r",
      " 68%|██████▊   | 1358/2000 [04:00<02:35,  4.12it/s]"
     ]
    },
    {
     "name": "stdout",
     "output_type": "stream",
     "text": [
      "Training_loss 0.00106,   Relative Error 0.00384\n"
     ]
    },
    {
     "name": "stderr",
     "output_type": "stream",
     "text": [
      "\r",
      " 68%|██████▊   | 1359/2000 [04:00<02:36,  4.09it/s]"
     ]
    },
    {
     "name": "stdout",
     "output_type": "stream",
     "text": [
      "Training_loss 0.00111,   Relative Error 0.00392\n"
     ]
    },
    {
     "name": "stderr",
     "output_type": "stream",
     "text": [
      " 68%|██████▊   | 1361/2000 [04:01<02:25,  4.40it/s]"
     ]
    },
    {
     "name": "stdout",
     "output_type": "stream",
     "text": [
      "Training_loss 0.00114,   Relative Error 0.00396\n",
      "Training_loss 0.00111,   Relative Error 0.00391\n"
     ]
    },
    {
     "name": "stderr",
     "output_type": "stream",
     "text": [
      "\r",
      " 68%|██████▊   | 1362/2000 [04:01<02:20,  4.53it/s]"
     ]
    },
    {
     "name": "stdout",
     "output_type": "stream",
     "text": [
      "Training_loss 0.00109,   Relative Error 0.00386\n"
     ]
    },
    {
     "name": "stderr",
     "output_type": "stream",
     "text": [
      "\r",
      " 68%|██████▊   | 1363/2000 [04:01<02:26,  4.35it/s]"
     ]
    },
    {
     "name": "stdout",
     "output_type": "stream",
     "text": [
      "Training_loss 0.00109,   Relative Error 0.00388\n"
     ]
    },
    {
     "name": "stderr",
     "output_type": "stream",
     "text": [
      " 68%|██████▊   | 1365/2000 [04:01<02:10,  4.87it/s]"
     ]
    },
    {
     "name": "stdout",
     "output_type": "stream",
     "text": [
      "Training_loss 0.00113,   Relative Error 0.00395\n",
      "Training_loss 0.00117,   Relative Error 0.00402\n"
     ]
    },
    {
     "name": "stderr",
     "output_type": "stream",
     "text": [
      "\r",
      " 68%|██████▊   | 1366/2000 [04:02<02:21,  4.49it/s]"
     ]
    },
    {
     "name": "stdout",
     "output_type": "stream",
     "text": [
      "Training_loss 0.00116,   Relative Error 0.00401\n"
     ]
    },
    {
     "name": "stderr",
     "output_type": "stream",
     "text": [
      "\r",
      " 68%|██████▊   | 1367/2000 [04:02<02:22,  4.45it/s]"
     ]
    },
    {
     "name": "stdout",
     "output_type": "stream",
     "text": [
      "Training_loss 0.00121,   Relative Error 0.00409\n"
     ]
    },
    {
     "name": "stderr",
     "output_type": "stream",
     "text": [
      " 68%|██████▊   | 1369/2000 [04:02<02:18,  4.56it/s]"
     ]
    },
    {
     "name": "stdout",
     "output_type": "stream",
     "text": [
      "Training_loss 0.00120,   Relative Error 0.00407\n",
      "Training_loss 0.00109,   Relative Error 0.00390\n"
     ]
    },
    {
     "name": "stderr",
     "output_type": "stream",
     "text": [
      " 69%|██████▊   | 1371/2000 [04:03<01:54,  5.51it/s]"
     ]
    },
    {
     "name": "stdout",
     "output_type": "stream",
     "text": [
      "Training_loss 0.00115,   Relative Error 0.00400\n",
      "Training_loss 0.00117,   Relative Error 0.00404\n"
     ]
    },
    {
     "name": "stderr",
     "output_type": "stream",
     "text": [
      "\r",
      " 69%|██████▊   | 1372/2000 [04:03<02:01,  5.19it/s]"
     ]
    },
    {
     "name": "stdout",
     "output_type": "stream",
     "text": [
      "Training_loss 0.00117,   Relative Error 0.00403\n"
     ]
    },
    {
     "name": "stderr",
     "output_type": "stream",
     "text": [
      "\r",
      " 69%|██████▊   | 1373/2000 [04:03<02:05,  4.99it/s]"
     ]
    },
    {
     "name": "stdout",
     "output_type": "stream",
     "text": [
      "Training_loss 0.00110,   Relative Error 0.00391\n"
     ]
    },
    {
     "name": "stderr",
     "output_type": "stream",
     "text": [
      "\r",
      " 69%|██████▊   | 1374/2000 [04:03<02:10,  4.79it/s]"
     ]
    },
    {
     "name": "stdout",
     "output_type": "stream",
     "text": [
      "Training_loss 0.00103,   Relative Error 0.00378\n"
     ]
    },
    {
     "name": "stderr",
     "output_type": "stream",
     "text": [
      "\r",
      " 69%|██████▉   | 1375/2000 [04:04<02:17,  4.54it/s]"
     ]
    },
    {
     "name": "stdout",
     "output_type": "stream",
     "text": [
      "Training_loss 0.00101,   Relative Error 0.00373\n"
     ]
    },
    {
     "name": "stderr",
     "output_type": "stream",
     "text": [
      "\r",
      " 69%|██████▉   | 1376/2000 [04:04<02:23,  4.35it/s]"
     ]
    },
    {
     "name": "stdout",
     "output_type": "stream",
     "text": [
      "Training_loss 0.00100,   Relative Error 0.00372\n"
     ]
    },
    {
     "name": "stderr",
     "output_type": "stream",
     "text": [
      " 69%|██████▉   | 1378/2000 [04:04<02:18,  4.49it/s]"
     ]
    },
    {
     "name": "stdout",
     "output_type": "stream",
     "text": [
      "Training_loss 0.00100,   Relative Error 0.00369\n",
      "Training_loss 0.00096,   Relative Error 0.00361\n"
     ]
    },
    {
     "name": "stderr",
     "output_type": "stream",
     "text": [
      " 69%|██████▉   | 1380/2000 [04:05<01:56,  5.31it/s]"
     ]
    },
    {
     "name": "stdout",
     "output_type": "stream",
     "text": [
      "Training_loss 0.00096,   Relative Error 0.00360\n",
      "Training_loss 0.00090,   Relative Error 0.00350\n"
     ]
    },
    {
     "name": "stderr",
     "output_type": "stream",
     "text": [
      " 69%|██████▉   | 1382/2000 [04:05<01:40,  6.12it/s]"
     ]
    },
    {
     "name": "stdout",
     "output_type": "stream",
     "text": [
      "Training_loss 0.00092,   Relative Error 0.00354\n",
      "Training_loss 0.00091,   Relative Error 0.00354\n"
     ]
    },
    {
     "name": "stderr",
     "output_type": "stream",
     "text": [
      "\r",
      " 69%|██████▉   | 1383/2000 [04:05<01:50,  5.60it/s]"
     ]
    },
    {
     "name": "stdout",
     "output_type": "stream",
     "text": [
      "Training_loss 0.00088,   Relative Error 0.00349\n"
     ]
    },
    {
     "name": "stderr",
     "output_type": "stream",
     "text": [
      " 69%|██████▉   | 1385/2000 [04:05<01:57,  5.22it/s]"
     ]
    },
    {
     "name": "stdout",
     "output_type": "stream",
     "text": [
      "Training_loss 0.00091,   Relative Error 0.00354\n",
      "Training_loss 0.00093,   Relative Error 0.00357\n"
     ]
    },
    {
     "name": "stderr",
     "output_type": "stream",
     "text": [
      " 69%|██████▉   | 1387/2000 [04:06<01:36,  6.32it/s]"
     ]
    },
    {
     "name": "stdout",
     "output_type": "stream",
     "text": [
      "Training_loss 0.00091,   Relative Error 0.00352\n",
      "Training_loss 0.00093,   Relative Error 0.00356\n"
     ]
    },
    {
     "name": "stderr",
     "output_type": "stream",
     "text": [
      " 69%|██████▉   | 1389/2000 [04:06<01:42,  5.96it/s]"
     ]
    },
    {
     "name": "stdout",
     "output_type": "stream",
     "text": [
      "Training_loss 0.00095,   Relative Error 0.00358\n",
      "Training_loss 0.00095,   Relative Error 0.00360\n"
     ]
    },
    {
     "name": "stderr",
     "output_type": "stream",
     "text": [
      " 70%|██████▉   | 1391/2000 [04:06<01:37,  6.26it/s]"
     ]
    },
    {
     "name": "stdout",
     "output_type": "stream",
     "text": [
      "Training_loss 0.00095,   Relative Error 0.00359\n",
      "Training_loss 0.00098,   Relative Error 0.00364\n"
     ]
    },
    {
     "name": "stderr",
     "output_type": "stream",
     "text": [
      " 70%|██████▉   | 1393/2000 [04:07<01:35,  6.39it/s]"
     ]
    },
    {
     "name": "stdout",
     "output_type": "stream",
     "text": [
      "Training_loss 0.00095,   Relative Error 0.00357\n",
      "Training_loss 0.00096,   Relative Error 0.00358\n"
     ]
    },
    {
     "name": "stderr",
     "output_type": "stream",
     "text": [
      " 70%|██████▉   | 1395/2000 [04:07<01:51,  5.44it/s]"
     ]
    },
    {
     "name": "stdout",
     "output_type": "stream",
     "text": [
      "Training_loss 0.00097,   Relative Error 0.00363\n",
      "Training_loss 0.00102,   Relative Error 0.00370\n"
     ]
    },
    {
     "name": "stderr",
     "output_type": "stream",
     "text": [
      " 70%|██████▉   | 1397/2000 [04:07<01:40,  5.98it/s]"
     ]
    },
    {
     "name": "stdout",
     "output_type": "stream",
     "text": [
      "Training_loss 0.00107,   Relative Error 0.00381\n",
      "Training_loss 0.00102,   Relative Error 0.00370\n"
     ]
    },
    {
     "name": "stderr",
     "output_type": "stream",
     "text": [
      "\r",
      " 70%|██████▉   | 1398/2000 [04:08<01:52,  5.36it/s]"
     ]
    },
    {
     "name": "stdout",
     "output_type": "stream",
     "text": [
      "Training_loss 0.00104,   Relative Error 0.00374\n"
     ]
    },
    {
     "name": "stderr",
     "output_type": "stream",
     "text": [
      " 70%|███████   | 1400/2000 [04:08<01:59,  5.04it/s]"
     ]
    },
    {
     "name": "stdout",
     "output_type": "stream",
     "text": [
      "Training_loss 0.00108,   Relative Error 0.00382\n",
      "Training_loss 0.00110,   Relative Error 0.00384\n"
     ]
    },
    {
     "name": "stderr",
     "output_type": "stream",
     "text": [
      " 70%|███████   | 1402/2000 [04:08<01:53,  5.26it/s]"
     ]
    },
    {
     "name": "stdout",
     "output_type": "stream",
     "text": [
      "Training_loss 0.00109,   Relative Error 0.00381\n",
      "Training_loss 0.00101,   Relative Error 0.00369\n"
     ]
    },
    {
     "name": "stderr",
     "output_type": "stream",
     "text": [
      "\r",
      " 70%|███████   | 1403/2000 [04:09<02:00,  4.94it/s]"
     ]
    },
    {
     "name": "stdout",
     "output_type": "stream",
     "text": [
      "Training_loss 0.00105,   Relative Error 0.00376\n"
     ]
    },
    {
     "name": "stderr",
     "output_type": "stream",
     "text": [
      " 70%|███████   | 1405/2000 [04:09<01:58,  5.01it/s]"
     ]
    },
    {
     "name": "stdout",
     "output_type": "stream",
     "text": [
      "Training_loss 0.00107,   Relative Error 0.00380\n",
      "Training_loss 0.00107,   Relative Error 0.00379\n"
     ]
    },
    {
     "name": "stderr",
     "output_type": "stream",
     "text": [
      " 70%|███████   | 1407/2000 [04:09<01:38,  6.03it/s]"
     ]
    },
    {
     "name": "stdout",
     "output_type": "stream",
     "text": [
      "Training_loss 0.00109,   Relative Error 0.00381\n",
      "Training_loss 0.00110,   Relative Error 0.00384\n"
     ]
    },
    {
     "name": "stderr",
     "output_type": "stream",
     "text": [
      " 70%|███████   | 1409/2000 [04:10<01:26,  6.84it/s]"
     ]
    },
    {
     "name": "stdout",
     "output_type": "stream",
     "text": [
      "Training_loss 0.00111,   Relative Error 0.00387\n",
      "Training_loss 0.00118,   Relative Error 0.00398\n"
     ]
    },
    {
     "name": "stderr",
     "output_type": "stream",
     "text": [
      " 71%|███████   | 1411/2000 [04:10<01:32,  6.38it/s]"
     ]
    },
    {
     "name": "stdout",
     "output_type": "stream",
     "text": [
      "Training_loss 0.00114,   Relative Error 0.00391\n",
      "Training_loss 0.00117,   Relative Error 0.00397\n"
     ]
    },
    {
     "name": "stderr",
     "output_type": "stream",
     "text": [
      " 71%|███████   | 1413/2000 [04:10<01:32,  6.32it/s]"
     ]
    },
    {
     "name": "stdout",
     "output_type": "stream",
     "text": [
      "Training_loss 0.00121,   Relative Error 0.00402\n",
      "Training_loss 0.00119,   Relative Error 0.00400\n"
     ]
    },
    {
     "name": "stderr",
     "output_type": "stream",
     "text": [
      " 71%|███████   | 1415/2000 [04:11<01:25,  6.83it/s]"
     ]
    },
    {
     "name": "stdout",
     "output_type": "stream",
     "text": [
      "Training_loss 0.00119,   Relative Error 0.00398\n",
      "Training_loss 0.00122,   Relative Error 0.00404\n"
     ]
    },
    {
     "name": "stderr",
     "output_type": "stream",
     "text": [
      "\r",
      " 71%|███████   | 1416/2000 [04:11<01:36,  6.05it/s]"
     ]
    },
    {
     "name": "stdout",
     "output_type": "stream",
     "text": [
      "Training_loss 0.00125,   Relative Error 0.00411\n"
     ]
    },
    {
     "name": "stderr",
     "output_type": "stream",
     "text": [
      " 71%|███████   | 1418/2000 [04:11<01:51,  5.21it/s]"
     ]
    },
    {
     "name": "stdout",
     "output_type": "stream",
     "text": [
      "Training_loss 0.00124,   Relative Error 0.00411\n",
      "Training_loss 0.00125,   Relative Error 0.00411\n"
     ]
    },
    {
     "name": "stderr",
     "output_type": "stream",
     "text": [
      " 71%|███████   | 1420/2000 [04:11<01:34,  6.17it/s]"
     ]
    },
    {
     "name": "stdout",
     "output_type": "stream",
     "text": [
      "Training_loss 0.00129,   Relative Error 0.00417\n",
      "Training_loss 0.00129,   Relative Error 0.00417\n"
     ]
    },
    {
     "name": "stderr",
     "output_type": "stream",
     "text": [
      " 71%|███████   | 1422/2000 [04:12<01:23,  6.89it/s]"
     ]
    },
    {
     "name": "stdout",
     "output_type": "stream",
     "text": [
      "Training_loss 0.00122,   Relative Error 0.00406\n",
      "Training_loss 0.00123,   Relative Error 0.00408\n"
     ]
    },
    {
     "name": "stderr",
     "output_type": "stream",
     "text": [
      " 71%|███████   | 1424/2000 [04:12<01:27,  6.56it/s]"
     ]
    },
    {
     "name": "stdout",
     "output_type": "stream",
     "text": [
      "Training_loss 0.00128,   Relative Error 0.00415\n",
      "Training_loss 0.00126,   Relative Error 0.00413\n"
     ]
    },
    {
     "name": "stderr",
     "output_type": "stream",
     "text": [
      " 71%|███████▏  | 1426/2000 [04:12<01:20,  7.16it/s]"
     ]
    },
    {
     "name": "stdout",
     "output_type": "stream",
     "text": [
      "Training_loss 0.00118,   Relative Error 0.00398\n",
      "Training_loss 0.00120,   Relative Error 0.00404\n"
     ]
    },
    {
     "name": "stderr",
     "output_type": "stream",
     "text": [
      " 71%|███████▏  | 1428/2000 [04:13<01:18,  7.29it/s]"
     ]
    },
    {
     "name": "stdout",
     "output_type": "stream",
     "text": [
      "Training_loss 0.00109,   Relative Error 0.00383\n",
      "Training_loss 0.00107,   Relative Error 0.00382\n"
     ]
    },
    {
     "name": "stderr",
     "output_type": "stream",
     "text": [
      " 72%|███████▏  | 1430/2000 [04:13<01:14,  7.67it/s]"
     ]
    },
    {
     "name": "stdout",
     "output_type": "stream",
     "text": [
      "Training_loss 0.00098,   Relative Error 0.00364\n",
      "Training_loss 0.00091,   Relative Error 0.00352\n"
     ]
    },
    {
     "name": "stderr",
     "output_type": "stream",
     "text": [
      "\r",
      " 72%|███████▏  | 1431/2000 [04:13<01:31,  6.19it/s]"
     ]
    },
    {
     "name": "stdout",
     "output_type": "stream",
     "text": [
      "Training_loss 0.00094,   Relative Error 0.00358\n"
     ]
    },
    {
     "name": "stderr",
     "output_type": "stream",
     "text": [
      "\r",
      " 72%|███████▏  | 1432/2000 [04:13<01:49,  5.21it/s]"
     ]
    },
    {
     "name": "stdout",
     "output_type": "stream",
     "text": [
      "Training_loss 0.00095,   Relative Error 0.00360\n"
     ]
    },
    {
     "name": "stderr",
     "output_type": "stream",
     "text": [
      "\r",
      " 72%|███████▏  | 1433/2000 [04:14<01:57,  4.84it/s]"
     ]
    },
    {
     "name": "stdout",
     "output_type": "stream",
     "text": [
      "Training_loss 0.00095,   Relative Error 0.00357\n"
     ]
    },
    {
     "name": "stderr",
     "output_type": "stream",
     "text": [
      "\r",
      " 72%|███████▏  | 1434/2000 [04:14<02:07,  4.42it/s]"
     ]
    },
    {
     "name": "stdout",
     "output_type": "stream",
     "text": [
      "Training_loss 0.00096,   Relative Error 0.00359\n"
     ]
    },
    {
     "name": "stderr",
     "output_type": "stream",
     "text": [
      "\r",
      " 72%|███████▏  | 1435/2000 [04:14<02:24,  3.91it/s]"
     ]
    },
    {
     "name": "stdout",
     "output_type": "stream",
     "text": [
      "Training_loss 0.00095,   Relative Error 0.00357\n"
     ]
    },
    {
     "name": "stderr",
     "output_type": "stream",
     "text": [
      "\r",
      " 72%|███████▏  | 1436/2000 [04:14<02:33,  3.67it/s]"
     ]
    },
    {
     "name": "stdout",
     "output_type": "stream",
     "text": [
      "Training_loss 0.00096,   Relative Error 0.00359\n"
     ]
    },
    {
     "name": "stderr",
     "output_type": "stream",
     "text": [
      "\r",
      " 72%|███████▏  | 1437/2000 [04:15<02:25,  3.86it/s]"
     ]
    },
    {
     "name": "stdout",
     "output_type": "stream",
     "text": [
      "Training_loss 0.00095,   Relative Error 0.00359\n"
     ]
    },
    {
     "name": "stderr",
     "output_type": "stream",
     "text": [
      " 72%|███████▏  | 1439/2000 [04:15<02:01,  4.62it/s]"
     ]
    },
    {
     "name": "stdout",
     "output_type": "stream",
     "text": [
      "Training_loss 0.00090,   Relative Error 0.00345\n",
      "Training_loss 0.00083,   Relative Error 0.00333\n"
     ]
    },
    {
     "name": "stderr",
     "output_type": "stream",
     "text": [
      "\r",
      " 72%|███████▏  | 1440/2000 [04:15<01:58,  4.72it/s]"
     ]
    },
    {
     "name": "stdout",
     "output_type": "stream",
     "text": [
      "Training_loss 0.00085,   Relative Error 0.00336\n"
     ]
    },
    {
     "name": "stderr",
     "output_type": "stream",
     "text": [
      " 72%|███████▏  | 1442/2000 [04:16<02:03,  4.50it/s]"
     ]
    },
    {
     "name": "stdout",
     "output_type": "stream",
     "text": [
      "Training_loss 0.00083,   Relative Error 0.00334\n",
      "Training_loss 0.00084,   Relative Error 0.00337\n"
     ]
    },
    {
     "name": "stderr",
     "output_type": "stream",
     "text": [
      " 72%|███████▏  | 1444/2000 [04:16<01:57,  4.74it/s]"
     ]
    },
    {
     "name": "stdout",
     "output_type": "stream",
     "text": [
      "Training_loss 0.00086,   Relative Error 0.00343\n",
      "Training_loss 0.00088,   Relative Error 0.00347\n"
     ]
    },
    {
     "name": "stderr",
     "output_type": "stream",
     "text": [
      " 72%|███████▏  | 1446/2000 [04:16<01:35,  5.79it/s]"
     ]
    },
    {
     "name": "stdout",
     "output_type": "stream",
     "text": [
      "Training_loss 0.00084,   Relative Error 0.00336\n",
      "Training_loss 0.00085,   Relative Error 0.00338\n"
     ]
    },
    {
     "name": "stderr",
     "output_type": "stream",
     "text": [
      " 72%|███████▏  | 1448/2000 [04:17<01:28,  6.25it/s]"
     ]
    },
    {
     "name": "stdout",
     "output_type": "stream",
     "text": [
      "Training_loss 0.00089,   Relative Error 0.00347\n",
      "Training_loss 0.00089,   Relative Error 0.00348\n"
     ]
    },
    {
     "name": "stderr",
     "output_type": "stream",
     "text": [
      " 72%|███████▎  | 1450/2000 [04:17<01:27,  6.31it/s]"
     ]
    },
    {
     "name": "stdout",
     "output_type": "stream",
     "text": [
      "Training_loss 0.00095,   Relative Error 0.00360\n",
      "Training_loss 0.00096,   Relative Error 0.00361\n"
     ]
    },
    {
     "name": "stderr",
     "output_type": "stream",
     "text": [
      " 73%|███████▎  | 1452/2000 [04:17<01:18,  7.00it/s]"
     ]
    },
    {
     "name": "stdout",
     "output_type": "stream",
     "text": [
      "Training_loss 0.00094,   Relative Error 0.00359\n",
      "Training_loss 0.00097,   Relative Error 0.00366\n"
     ]
    },
    {
     "name": "stderr",
     "output_type": "stream",
     "text": [
      " 73%|███████▎  | 1454/2000 [04:18<01:17,  7.02it/s]"
     ]
    },
    {
     "name": "stdout",
     "output_type": "stream",
     "text": [
      "Training_loss 0.00098,   Relative Error 0.00367\n",
      "Training_loss 0.00098,   Relative Error 0.00368\n"
     ]
    },
    {
     "name": "stderr",
     "output_type": "stream",
     "text": [
      " 73%|███████▎  | 1456/2000 [04:18<01:18,  6.96it/s]"
     ]
    },
    {
     "name": "stdout",
     "output_type": "stream",
     "text": [
      "Training_loss 0.00098,   Relative Error 0.00370\n",
      "Training_loss 0.00098,   Relative Error 0.00370\n"
     ]
    },
    {
     "name": "stderr",
     "output_type": "stream",
     "text": [
      " 73%|███████▎  | 1458/2000 [04:18<01:16,  7.08it/s]"
     ]
    },
    {
     "name": "stdout",
     "output_type": "stream",
     "text": [
      "Training_loss 0.00094,   Relative Error 0.00360\n",
      "Training_loss 0.00091,   Relative Error 0.00355\n"
     ]
    },
    {
     "name": "stderr",
     "output_type": "stream",
     "text": [
      " 73%|███████▎  | 1460/2000 [04:18<01:20,  6.74it/s]"
     ]
    },
    {
     "name": "stdout",
     "output_type": "stream",
     "text": [
      "Training_loss 0.00088,   Relative Error 0.00348\n",
      "Training_loss 0.00090,   Relative Error 0.00353\n"
     ]
    },
    {
     "name": "stderr",
     "output_type": "stream",
     "text": [
      " 73%|███████▎  | 1462/2000 [04:19<01:25,  6.28it/s]"
     ]
    },
    {
     "name": "stdout",
     "output_type": "stream",
     "text": [
      "Training_loss 0.00089,   Relative Error 0.00352\n",
      "Training_loss 0.00092,   Relative Error 0.00358\n"
     ]
    },
    {
     "name": "stderr",
     "output_type": "stream",
     "text": [
      " 73%|███████▎  | 1464/2000 [04:19<01:26,  6.19it/s]"
     ]
    },
    {
     "name": "stdout",
     "output_type": "stream",
     "text": [
      "Training_loss 0.00095,   Relative Error 0.00364\n",
      "Training_loss 0.00092,   Relative Error 0.00357\n"
     ]
    },
    {
     "name": "stderr",
     "output_type": "stream",
     "text": [
      "\r",
      " 73%|███████▎  | 1465/2000 [04:19<01:23,  6.40it/s]"
     ]
    },
    {
     "name": "stdout",
     "output_type": "stream",
     "text": [
      "Training_loss 0.00093,   Relative Error 0.00360\n"
     ]
    },
    {
     "name": "stderr",
     "output_type": "stream",
     "text": [
      " 73%|███████▎  | 1467/2000 [04:20<01:35,  5.57it/s]"
     ]
    },
    {
     "name": "stdout",
     "output_type": "stream",
     "text": [
      "Training_loss 0.00094,   Relative Error 0.00362\n",
      "Training_loss 0.00097,   Relative Error 0.00370\n"
     ]
    },
    {
     "name": "stderr",
     "output_type": "stream",
     "text": [
      "\r",
      " 73%|███████▎  | 1468/2000 [04:20<01:39,  5.34it/s]"
     ]
    },
    {
     "name": "stdout",
     "output_type": "stream",
     "text": [
      "Training_loss 0.00100,   Relative Error 0.00375\n"
     ]
    },
    {
     "name": "stderr",
     "output_type": "stream",
     "text": [
      "\r",
      " 73%|███████▎  | 1469/2000 [04:20<01:51,  4.77it/s]"
     ]
    },
    {
     "name": "stdout",
     "output_type": "stream",
     "text": [
      "Training_loss 0.00101,   Relative Error 0.00378\n"
     ]
    },
    {
     "name": "stderr",
     "output_type": "stream",
     "text": [
      " 74%|███████▎  | 1471/2000 [04:21<01:44,  5.06it/s]"
     ]
    },
    {
     "name": "stdout",
     "output_type": "stream",
     "text": [
      "Training_loss 0.00102,   Relative Error 0.00380\n",
      "Training_loss 0.00096,   Relative Error 0.00366\n"
     ]
    },
    {
     "name": "stderr",
     "output_type": "stream",
     "text": [
      " 74%|███████▎  | 1473/2000 [04:21<01:38,  5.34it/s]"
     ]
    },
    {
     "name": "stdout",
     "output_type": "stream",
     "text": [
      "Training_loss 0.00098,   Relative Error 0.00371\n",
      "Training_loss 0.00101,   Relative Error 0.00374\n"
     ]
    },
    {
     "name": "stderr",
     "output_type": "stream",
     "text": [
      "\r",
      " 74%|███████▎  | 1474/2000 [04:21<02:00,  4.37it/s]"
     ]
    },
    {
     "name": "stdout",
     "output_type": "stream",
     "text": [
      "Training_loss 0.00100,   Relative Error 0.00371\n"
     ]
    },
    {
     "name": "stderr",
     "output_type": "stream",
     "text": [
      "\r",
      " 74%|███████▍  | 1475/2000 [04:22<02:14,  3.90it/s]"
     ]
    },
    {
     "name": "stdout",
     "output_type": "stream",
     "text": [
      "Training_loss 0.00103,   Relative Error 0.00380\n"
     ]
    },
    {
     "name": "stderr",
     "output_type": "stream",
     "text": [
      "\r",
      " 74%|███████▍  | 1476/2000 [04:22<02:12,  3.96it/s]"
     ]
    },
    {
     "name": "stdout",
     "output_type": "stream",
     "text": [
      "Training_loss 0.00103,   Relative Error 0.00379\n"
     ]
    },
    {
     "name": "stderr",
     "output_type": "stream",
     "text": [
      " 74%|███████▍  | 1478/2000 [04:22<01:51,  4.67it/s]"
     ]
    },
    {
     "name": "stdout",
     "output_type": "stream",
     "text": [
      "Training_loss 0.00098,   Relative Error 0.00369\n",
      "Training_loss 0.00102,   Relative Error 0.00377\n"
     ]
    },
    {
     "name": "stderr",
     "output_type": "stream",
     "text": [
      " 74%|███████▍  | 1480/2000 [04:22<01:40,  5.17it/s]"
     ]
    },
    {
     "name": "stdout",
     "output_type": "stream",
     "text": [
      "Training_loss 0.00098,   Relative Error 0.00368\n",
      "Training_loss 0.00096,   Relative Error 0.00365\n"
     ]
    },
    {
     "name": "stderr",
     "output_type": "stream",
     "text": [
      "\r",
      " 74%|███████▍  | 1481/2000 [04:23<01:38,  5.25it/s]"
     ]
    },
    {
     "name": "stdout",
     "output_type": "stream",
     "text": [
      "Training_loss 0.00096,   Relative Error 0.00366\n"
     ]
    },
    {
     "name": "stderr",
     "output_type": "stream",
     "text": [
      " 74%|███████▍  | 1483/2000 [04:23<01:43,  4.99it/s]"
     ]
    },
    {
     "name": "stdout",
     "output_type": "stream",
     "text": [
      "Training_loss 0.00102,   Relative Error 0.00376\n",
      "Training_loss 0.00100,   Relative Error 0.00374\n"
     ]
    },
    {
     "name": "stderr",
     "output_type": "stream",
     "text": [
      " 74%|███████▍  | 1485/2000 [04:23<01:36,  5.32it/s]"
     ]
    },
    {
     "name": "stdout",
     "output_type": "stream",
     "text": [
      "Training_loss 0.00101,   Relative Error 0.00374\n",
      "Training_loss 0.00103,   Relative Error 0.00380\n"
     ]
    },
    {
     "name": "stderr",
     "output_type": "stream",
     "text": [
      " 74%|███████▍  | 1487/2000 [04:24<01:31,  5.63it/s]"
     ]
    },
    {
     "name": "stdout",
     "output_type": "stream",
     "text": [
      "Training_loss 0.00095,   Relative Error 0.00364\n",
      "Training_loss 0.00096,   Relative Error 0.00366\n"
     ]
    },
    {
     "name": "stderr",
     "output_type": "stream",
     "text": [
      " 74%|███████▍  | 1489/2000 [04:24<01:27,  5.82it/s]"
     ]
    },
    {
     "name": "stdout",
     "output_type": "stream",
     "text": [
      "Training_loss 0.00098,   Relative Error 0.00371\n",
      "Training_loss 0.00098,   Relative Error 0.00371\n"
     ]
    },
    {
     "name": "stderr",
     "output_type": "stream",
     "text": [
      " 75%|███████▍  | 1491/2000 [04:24<01:21,  6.23it/s]"
     ]
    },
    {
     "name": "stdout",
     "output_type": "stream",
     "text": [
      "Training_loss 0.00103,   Relative Error 0.00381\n",
      "Training_loss 0.00104,   Relative Error 0.00384\n"
     ]
    },
    {
     "name": "stderr",
     "output_type": "stream",
     "text": [
      " 75%|███████▍  | 1493/2000 [04:25<01:19,  6.39it/s]"
     ]
    },
    {
     "name": "stdout",
     "output_type": "stream",
     "text": [
      "Training_loss 0.00104,   Relative Error 0.00385\n",
      "Training_loss 0.00104,   Relative Error 0.00384\n"
     ]
    },
    {
     "name": "stderr",
     "output_type": "stream",
     "text": [
      " 75%|███████▍  | 1495/2000 [04:25<01:17,  6.50it/s]"
     ]
    },
    {
     "name": "stdout",
     "output_type": "stream",
     "text": [
      "Training_loss 0.00108,   Relative Error 0.00390\n",
      "Training_loss 0.00105,   Relative Error 0.00386\n"
     ]
    },
    {
     "name": "stderr",
     "output_type": "stream",
     "text": [
      " 75%|███████▍  | 1497/2000 [04:25<01:23,  6.04it/s]"
     ]
    },
    {
     "name": "stdout",
     "output_type": "stream",
     "text": [
      "Training_loss 0.00103,   Relative Error 0.00382\n",
      "Training_loss 0.00106,   Relative Error 0.00387\n"
     ]
    },
    {
     "name": "stderr",
     "output_type": "stream",
     "text": [
      "\r",
      " 75%|███████▍  | 1498/2000 [04:26<01:35,  5.25it/s]"
     ]
    },
    {
     "name": "stdout",
     "output_type": "stream",
     "text": [
      "Training_loss 0.00107,   Relative Error 0.00392\n"
     ]
    },
    {
     "name": "stderr",
     "output_type": "stream",
     "text": [
      "\r",
      " 75%|███████▍  | 1499/2000 [04:26<01:41,  4.93it/s]"
     ]
    },
    {
     "name": "stdout",
     "output_type": "stream",
     "text": [
      "Training_loss 0.00101,   Relative Error 0.00380\n"
     ]
    },
    {
     "name": "stderr",
     "output_type": "stream",
     "text": [
      "\r",
      " 75%|███████▌  | 1500/2000 [04:26<01:43,  4.82it/s]"
     ]
    },
    {
     "name": "stdout",
     "output_type": "stream",
     "text": [
      "Training_loss 0.00099,   Relative Error 0.00377\n"
     ]
    },
    {
     "name": "stderr",
     "output_type": "stream",
     "text": [
      " 75%|███████▌  | 1502/2000 [04:26<01:43,  4.83it/s]"
     ]
    },
    {
     "name": "stdout",
     "output_type": "stream",
     "text": [
      "Training_loss 0.00093,   Relative Error 0.00363\n",
      "Training_loss 0.00095,   Relative Error 0.00368\n"
     ]
    },
    {
     "name": "stderr",
     "output_type": "stream",
     "text": [
      "\r",
      " 75%|███████▌  | 1503/2000 [04:27<01:39,  4.98it/s]"
     ]
    },
    {
     "name": "stdout",
     "output_type": "stream",
     "text": [
      "Training_loss 0.00095,   Relative Error 0.00367\n"
     ]
    },
    {
     "name": "stderr",
     "output_type": "stream",
     "text": [
      "\r",
      " 75%|███████▌  | 1504/2000 [04:27<01:46,  4.67it/s]"
     ]
    },
    {
     "name": "stdout",
     "output_type": "stream",
     "text": [
      "Training_loss 0.00090,   Relative Error 0.00358\n"
     ]
    },
    {
     "name": "stderr",
     "output_type": "stream",
     "text": [
      "\r",
      " 75%|███████▌  | 1505/2000 [04:27<01:53,  4.35it/s]"
     ]
    },
    {
     "name": "stdout",
     "output_type": "stream",
     "text": [
      "Training_loss 0.00096,   Relative Error 0.00369\n"
     ]
    },
    {
     "name": "stderr",
     "output_type": "stream",
     "text": [
      " 75%|███████▌  | 1507/2000 [04:28<02:00,  4.08it/s]"
     ]
    },
    {
     "name": "stdout",
     "output_type": "stream",
     "text": [
      "Training_loss 0.00091,   Relative Error 0.00357\n",
      "Training_loss 0.00093,   Relative Error 0.00361\n"
     ]
    },
    {
     "name": "stderr",
     "output_type": "stream",
     "text": [
      "\r",
      " 75%|███████▌  | 1508/2000 [04:28<01:52,  4.36it/s]"
     ]
    },
    {
     "name": "stdout",
     "output_type": "stream",
     "text": [
      "Training_loss 0.00097,   Relative Error 0.00369\n"
     ]
    },
    {
     "name": "stderr",
     "output_type": "stream",
     "text": [
      " 76%|███████▌  | 1510/2000 [04:28<01:44,  4.69it/s]"
     ]
    },
    {
     "name": "stdout",
     "output_type": "stream",
     "text": [
      "Training_loss 0.00096,   Relative Error 0.00369\n",
      "Training_loss 0.00093,   Relative Error 0.00362\n"
     ]
    },
    {
     "name": "stderr",
     "output_type": "stream",
     "text": [
      " 76%|███████▌  | 1512/2000 [04:29<01:29,  5.42it/s]"
     ]
    },
    {
     "name": "stdout",
     "output_type": "stream",
     "text": [
      "Training_loss 0.00096,   Relative Error 0.00367\n",
      "Training_loss 0.00100,   Relative Error 0.00375\n"
     ]
    },
    {
     "name": "stderr",
     "output_type": "stream",
     "text": [
      " 76%|███████▌  | 1514/2000 [04:29<01:23,  5.79it/s]"
     ]
    },
    {
     "name": "stdout",
     "output_type": "stream",
     "text": [
      "Training_loss 0.00100,   Relative Error 0.00375\n",
      "Training_loss 0.00104,   Relative Error 0.00382\n"
     ]
    },
    {
     "name": "stderr",
     "output_type": "stream",
     "text": [
      " 76%|███████▌  | 1516/2000 [04:29<01:25,  5.68it/s]"
     ]
    },
    {
     "name": "stdout",
     "output_type": "stream",
     "text": [
      "Training_loss 0.00102,   Relative Error 0.00377\n",
      "Training_loss 0.00108,   Relative Error 0.00387\n"
     ]
    },
    {
     "name": "stderr",
     "output_type": "stream",
     "text": [
      " 76%|███████▌  | 1518/2000 [04:30<01:20,  5.98it/s]"
     ]
    },
    {
     "name": "stdout",
     "output_type": "stream",
     "text": [
      "Training_loss 0.00112,   Relative Error 0.00393\n",
      "Training_loss 0.00110,   Relative Error 0.00389\n"
     ]
    },
    {
     "name": "stderr",
     "output_type": "stream",
     "text": [
      " 76%|███████▌  | 1520/2000 [04:30<01:10,  6.79it/s]"
     ]
    },
    {
     "name": "stdout",
     "output_type": "stream",
     "text": [
      "Training_loss 0.00110,   Relative Error 0.00390\n",
      "Training_loss 0.00116,   Relative Error 0.00399\n"
     ]
    },
    {
     "name": "stderr",
     "output_type": "stream",
     "text": [
      " 76%|███████▌  | 1522/2000 [04:30<01:09,  6.91it/s]"
     ]
    },
    {
     "name": "stdout",
     "output_type": "stream",
     "text": [
      "Training_loss 0.00118,   Relative Error 0.00404\n",
      "Training_loss 0.00116,   Relative Error 0.00402\n"
     ]
    },
    {
     "name": "stderr",
     "output_type": "stream",
     "text": [
      " 76%|███████▌  | 1524/2000 [04:30<01:12,  6.60it/s]"
     ]
    },
    {
     "name": "stdout",
     "output_type": "stream",
     "text": [
      "Training_loss 0.00113,   Relative Error 0.00396\n",
      "Training_loss 0.00108,   Relative Error 0.00388\n"
     ]
    },
    {
     "name": "stderr",
     "output_type": "stream",
     "text": [
      " 76%|███████▋  | 1526/2000 [04:31<01:16,  6.23it/s]"
     ]
    },
    {
     "name": "stdout",
     "output_type": "stream",
     "text": [
      "Training_loss 0.00106,   Relative Error 0.00385\n",
      "Training_loss 0.00112,   Relative Error 0.00396\n"
     ]
    },
    {
     "name": "stderr",
     "output_type": "stream",
     "text": [
      " 76%|███████▋  | 1528/2000 [04:31<01:14,  6.34it/s]"
     ]
    },
    {
     "name": "stdout",
     "output_type": "stream",
     "text": [
      "Training_loss 0.00115,   Relative Error 0.00400\n",
      "Training_loss 0.00117,   Relative Error 0.00405\n"
     ]
    },
    {
     "name": "stderr",
     "output_type": "stream",
     "text": [
      " 76%|███████▋  | 1530/2000 [04:31<01:09,  6.75it/s]"
     ]
    },
    {
     "name": "stdout",
     "output_type": "stream",
     "text": [
      "Training_loss 0.00119,   Relative Error 0.00407\n",
      "Training_loss 0.00115,   Relative Error 0.00402\n"
     ]
    },
    {
     "name": "stderr",
     "output_type": "stream",
     "text": [
      " 77%|███████▋  | 1532/2000 [04:32<01:07,  6.98it/s]"
     ]
    },
    {
     "name": "stdout",
     "output_type": "stream",
     "text": [
      "Training_loss 0.00108,   Relative Error 0.00391\n",
      "Training_loss 0.00105,   Relative Error 0.00387\n"
     ]
    },
    {
     "name": "stderr",
     "output_type": "stream",
     "text": [
      " 77%|███████▋  | 1534/2000 [04:32<01:07,  6.93it/s]"
     ]
    },
    {
     "name": "stdout",
     "output_type": "stream",
     "text": [
      "Training_loss 0.00098,   Relative Error 0.00373\n",
      "Training_loss 0.00097,   Relative Error 0.00370\n"
     ]
    },
    {
     "name": "stderr",
     "output_type": "stream",
     "text": [
      " 77%|███████▋  | 1536/2000 [04:32<01:06,  7.01it/s]"
     ]
    },
    {
     "name": "stdout",
     "output_type": "stream",
     "text": [
      "Training_loss 0.00093,   Relative Error 0.00363\n",
      "Training_loss 0.00090,   Relative Error 0.00356\n"
     ]
    },
    {
     "name": "stderr",
     "output_type": "stream",
     "text": [
      " 77%|███████▋  | 1538/2000 [04:33<01:08,  6.74it/s]"
     ]
    },
    {
     "name": "stdout",
     "output_type": "stream",
     "text": [
      "Training_loss 0.00085,   Relative Error 0.00347\n",
      "Training_loss 0.00076,   Relative Error 0.00328\n"
     ]
    },
    {
     "name": "stderr",
     "output_type": "stream",
     "text": [
      " 77%|███████▋  | 1540/2000 [04:33<01:08,  6.74it/s]"
     ]
    },
    {
     "name": "stdout",
     "output_type": "stream",
     "text": [
      "Training_loss 0.00076,   Relative Error 0.00326\n",
      "Training_loss 0.00077,   Relative Error 0.00330\n"
     ]
    },
    {
     "name": "stderr",
     "output_type": "stream",
     "text": [
      " 77%|███████▋  | 1542/2000 [04:33<01:08,  6.73it/s]"
     ]
    },
    {
     "name": "stdout",
     "output_type": "stream",
     "text": [
      "Training_loss 0.00075,   Relative Error 0.00326\n",
      "Training_loss 0.00076,   Relative Error 0.00327\n"
     ]
    },
    {
     "name": "stderr",
     "output_type": "stream",
     "text": [
      " 77%|███████▋  | 1544/2000 [04:33<01:07,  6.75it/s]"
     ]
    },
    {
     "name": "stdout",
     "output_type": "stream",
     "text": [
      "Training_loss 0.00068,   Relative Error 0.00311\n",
      "Training_loss 0.00070,   Relative Error 0.00317\n"
     ]
    },
    {
     "name": "stderr",
     "output_type": "stream",
     "text": [
      " 77%|███████▋  | 1546/2000 [04:34<01:12,  6.30it/s]"
     ]
    },
    {
     "name": "stdout",
     "output_type": "stream",
     "text": [
      "Training_loss 0.00073,   Relative Error 0.00322\n",
      "Training_loss 0.00074,   Relative Error 0.00327\n"
     ]
    },
    {
     "name": "stderr",
     "output_type": "stream",
     "text": [
      " 77%|███████▋  | 1548/2000 [04:34<01:08,  6.59it/s]"
     ]
    },
    {
     "name": "stdout",
     "output_type": "stream",
     "text": [
      "Training_loss 0.00075,   Relative Error 0.00328\n",
      "Training_loss 0.00073,   Relative Error 0.00325\n"
     ]
    },
    {
     "name": "stderr",
     "output_type": "stream",
     "text": [
      " 78%|███████▊  | 1550/2000 [04:34<01:09,  6.49it/s]"
     ]
    },
    {
     "name": "stdout",
     "output_type": "stream",
     "text": [
      "Training_loss 0.00068,   Relative Error 0.00311\n",
      "Training_loss 0.00070,   Relative Error 0.00316\n"
     ]
    },
    {
     "name": "stderr",
     "output_type": "stream",
     "text": [
      " 78%|███████▊  | 1552/2000 [04:35<01:09,  6.41it/s]"
     ]
    },
    {
     "name": "stdout",
     "output_type": "stream",
     "text": [
      "Training_loss 0.00069,   Relative Error 0.00313\n",
      "Training_loss 0.00066,   Relative Error 0.00306\n"
     ]
    },
    {
     "name": "stderr",
     "output_type": "stream",
     "text": [
      " 78%|███████▊  | 1554/2000 [04:35<01:14,  6.01it/s]"
     ]
    },
    {
     "name": "stdout",
     "output_type": "stream",
     "text": [
      "Training_loss 0.00061,   Relative Error 0.00293\n",
      "Training_loss 0.00061,   Relative Error 0.00295\n"
     ]
    },
    {
     "name": "stderr",
     "output_type": "stream",
     "text": [
      "\r",
      " 78%|███████▊  | 1555/2000 [04:35<01:13,  6.05it/s]"
     ]
    },
    {
     "name": "stdout",
     "output_type": "stream",
     "text": [
      "Training_loss 0.00061,   Relative Error 0.00295\n",
      "Training_loss 0.00064,   Relative Error 0.00300\n"
     ]
    },
    {
     "name": "stderr",
     "output_type": "stream",
     "text": [
      " 78%|███████▊  | 1558/2000 [04:36<01:16,  5.79it/s]"
     ]
    },
    {
     "name": "stdout",
     "output_type": "stream",
     "text": [
      "Training_loss 0.00062,   Relative Error 0.00295\n",
      "Training_loss 0.00066,   Relative Error 0.00303\n"
     ]
    },
    {
     "name": "stderr",
     "output_type": "stream",
     "text": [
      " 78%|███████▊  | 1560/2000 [04:36<01:11,  6.16it/s]"
     ]
    },
    {
     "name": "stdout",
     "output_type": "stream",
     "text": [
      "Training_loss 0.00065,   Relative Error 0.00301\n",
      "Training_loss 0.00064,   Relative Error 0.00300\n"
     ]
    },
    {
     "name": "stderr",
     "output_type": "stream",
     "text": [
      " 78%|███████▊  | 1562/2000 [04:36<01:12,  6.03it/s]"
     ]
    },
    {
     "name": "stdout",
     "output_type": "stream",
     "text": [
      "Training_loss 0.00061,   Relative Error 0.00293\n",
      "Training_loss 0.00064,   Relative Error 0.00299\n"
     ]
    },
    {
     "name": "stderr",
     "output_type": "stream",
     "text": [
      " 78%|███████▊  | 1564/2000 [04:37<01:16,  5.68it/s]"
     ]
    },
    {
     "name": "stdout",
     "output_type": "stream",
     "text": [
      "Training_loss 0.00065,   Relative Error 0.00302\n",
      "Training_loss 0.00062,   Relative Error 0.00294\n"
     ]
    },
    {
     "name": "stderr",
     "output_type": "stream",
     "text": [
      "\r",
      " 78%|███████▊  | 1565/2000 [04:37<01:20,  5.40it/s]"
     ]
    },
    {
     "name": "stdout",
     "output_type": "stream",
     "text": [
      "Training_loss 0.00063,   Relative Error 0.00294\n"
     ]
    },
    {
     "name": "stderr",
     "output_type": "stream",
     "text": [
      " 78%|███████▊  | 1567/2000 [04:37<01:20,  5.41it/s]"
     ]
    },
    {
     "name": "stdout",
     "output_type": "stream",
     "text": [
      "Training_loss 0.00063,   Relative Error 0.00295\n",
      "Training_loss 0.00062,   Relative Error 0.00292\n"
     ]
    },
    {
     "name": "stderr",
     "output_type": "stream",
     "text": [
      " 78%|███████▊  | 1569/2000 [04:38<01:13,  5.84it/s]"
     ]
    },
    {
     "name": "stdout",
     "output_type": "stream",
     "text": [
      "Training_loss 0.00061,   Relative Error 0.00291\n",
      "Training_loss 0.00065,   Relative Error 0.00300\n"
     ]
    },
    {
     "name": "stderr",
     "output_type": "stream",
     "text": [
      " 79%|███████▊  | 1571/2000 [04:38<01:13,  5.84it/s]"
     ]
    },
    {
     "name": "stdout",
     "output_type": "stream",
     "text": [
      "Training_loss 0.00067,   Relative Error 0.00306\n",
      "Training_loss 0.00065,   Relative Error 0.00302\n"
     ]
    },
    {
     "name": "stderr",
     "output_type": "stream",
     "text": [
      " 79%|███████▊  | 1573/2000 [04:38<01:12,  5.86it/s]"
     ]
    },
    {
     "name": "stdout",
     "output_type": "stream",
     "text": [
      "Training_loss 0.00063,   Relative Error 0.00296\n",
      "Training_loss 0.00064,   Relative Error 0.00296\n"
     ]
    },
    {
     "name": "stderr",
     "output_type": "stream",
     "text": [
      "\r",
      " 79%|███████▊  | 1574/2000 [04:39<01:10,  6.02it/s]"
     ]
    },
    {
     "name": "stdout",
     "output_type": "stream",
     "text": [
      "Training_loss 0.00065,   Relative Error 0.00298\n"
     ]
    },
    {
     "name": "stderr",
     "output_type": "stream",
     "text": [
      "\r",
      " 79%|███████▉  | 1575/2000 [04:39<01:14,  5.72it/s]"
     ]
    },
    {
     "name": "stdout",
     "output_type": "stream",
     "text": [
      "Training_loss 0.00066,   Relative Error 0.00301\n"
     ]
    },
    {
     "name": "stderr",
     "output_type": "stream",
     "text": [
      "\r",
      " 79%|███████▉  | 1576/2000 [04:39<01:23,  5.09it/s]"
     ]
    },
    {
     "name": "stdout",
     "output_type": "stream",
     "text": [
      "Training_loss 0.00068,   Relative Error 0.00306\n"
     ]
    },
    {
     "name": "stderr",
     "output_type": "stream",
     "text": [
      "\r",
      " 79%|███████▉  | 1577/2000 [04:39<01:28,  4.78it/s]"
     ]
    },
    {
     "name": "stdout",
     "output_type": "stream",
     "text": [
      "Training_loss 0.00066,   Relative Error 0.00298\n"
     ]
    },
    {
     "name": "stderr",
     "output_type": "stream",
     "text": [
      " 79%|███████▉  | 1579/2000 [04:40<01:27,  4.80it/s]"
     ]
    },
    {
     "name": "stdout",
     "output_type": "stream",
     "text": [
      "Training_loss 0.00070,   Relative Error 0.00309\n",
      "Training_loss 0.00072,   Relative Error 0.00312\n"
     ]
    },
    {
     "name": "stderr",
     "output_type": "stream",
     "text": [
      " 79%|███████▉  | 1581/2000 [04:40<01:18,  5.36it/s]"
     ]
    },
    {
     "name": "stdout",
     "output_type": "stream",
     "text": [
      "Training_loss 0.00072,   Relative Error 0.00311\n",
      "Training_loss 0.00069,   Relative Error 0.00305\n"
     ]
    },
    {
     "name": "stderr",
     "output_type": "stream",
     "text": [
      " 79%|███████▉  | 1583/2000 [04:40<01:17,  5.36it/s]"
     ]
    },
    {
     "name": "stdout",
     "output_type": "stream",
     "text": [
      "Training_loss 0.00072,   Relative Error 0.00310\n",
      "Training_loss 0.00073,   Relative Error 0.00315\n"
     ]
    },
    {
     "name": "stderr",
     "output_type": "stream",
     "text": [
      " 79%|███████▉  | 1585/2000 [04:41<01:20,  5.14it/s]"
     ]
    },
    {
     "name": "stdout",
     "output_type": "stream",
     "text": [
      "Training_loss 0.00071,   Relative Error 0.00310\n",
      "Training_loss 0.00070,   Relative Error 0.00309\n"
     ]
    },
    {
     "name": "stderr",
     "output_type": "stream",
     "text": [
      "\r",
      " 79%|███████▉  | 1586/2000 [04:41<01:25,  4.84it/s]"
     ]
    },
    {
     "name": "stdout",
     "output_type": "stream",
     "text": [
      "Training_loss 0.00072,   Relative Error 0.00314\n"
     ]
    },
    {
     "name": "stderr",
     "output_type": "stream",
     "text": [
      "\r",
      " 79%|███████▉  | 1587/2000 [04:41<01:27,  4.74it/s]"
     ]
    },
    {
     "name": "stdout",
     "output_type": "stream",
     "text": [
      "Training_loss 0.00071,   Relative Error 0.00313\n"
     ]
    },
    {
     "name": "stderr",
     "output_type": "stream",
     "text": [
      " 79%|███████▉  | 1589/2000 [04:42<01:24,  4.85it/s]"
     ]
    },
    {
     "name": "stdout",
     "output_type": "stream",
     "text": [
      "Training_loss 0.00071,   Relative Error 0.00312\n",
      "Training_loss 0.00073,   Relative Error 0.00318\n"
     ]
    },
    {
     "name": "stderr",
     "output_type": "stream",
     "text": [
      "\r",
      " 80%|███████▉  | 1590/2000 [04:42<01:21,  5.03it/s]"
     ]
    },
    {
     "name": "stdout",
     "output_type": "stream",
     "text": [
      "Training_loss 0.00075,   Relative Error 0.00324\n"
     ]
    },
    {
     "name": "stderr",
     "output_type": "stream",
     "text": [
      " 80%|███████▉  | 1592/2000 [04:42<01:22,  4.92it/s]"
     ]
    },
    {
     "name": "stdout",
     "output_type": "stream",
     "text": [
      "Training_loss 0.00079,   Relative Error 0.00332\n",
      "Training_loss 0.00084,   Relative Error 0.00345\n"
     ]
    },
    {
     "name": "stderr",
     "output_type": "stream",
     "text": [
      " 80%|███████▉  | 1594/2000 [04:43<01:14,  5.45it/s]"
     ]
    },
    {
     "name": "stdout",
     "output_type": "stream",
     "text": [
      "Training_loss 0.00085,   Relative Error 0.00348\n",
      "Training_loss 0.00090,   Relative Error 0.00359\n"
     ]
    },
    {
     "name": "stderr",
     "output_type": "stream",
     "text": [
      " 80%|███████▉  | 1596/2000 [04:43<01:11,  5.65it/s]"
     ]
    },
    {
     "name": "stdout",
     "output_type": "stream",
     "text": [
      "Training_loss 0.00088,   Relative Error 0.00353\n",
      "Training_loss 0.00090,   Relative Error 0.00357\n"
     ]
    },
    {
     "name": "stderr",
     "output_type": "stream",
     "text": [
      " 80%|███████▉  | 1598/2000 [04:43<01:14,  5.41it/s]"
     ]
    },
    {
     "name": "stdout",
     "output_type": "stream",
     "text": [
      "Training_loss 0.00093,   Relative Error 0.00361\n",
      "Training_loss 0.00092,   Relative Error 0.00360\n"
     ]
    },
    {
     "name": "stderr",
     "output_type": "stream",
     "text": [
      " 80%|████████  | 1600/2000 [04:44<01:09,  5.73it/s]"
     ]
    },
    {
     "name": "stdout",
     "output_type": "stream",
     "text": [
      "Training_loss 0.00088,   Relative Error 0.00350\n",
      "Training_loss 0.00081,   Relative Error 0.00335\n"
     ]
    },
    {
     "name": "stderr",
     "output_type": "stream",
     "text": [
      " 80%|████████  | 1602/2000 [04:44<01:10,  5.63it/s]"
     ]
    },
    {
     "name": "stdout",
     "output_type": "stream",
     "text": [
      "Training_loss 0.00078,   Relative Error 0.00330\n",
      "Training_loss 0.00079,   Relative Error 0.00334\n"
     ]
    },
    {
     "name": "stderr",
     "output_type": "stream",
     "text": [
      " 80%|████████  | 1604/2000 [04:44<01:09,  5.72it/s]"
     ]
    },
    {
     "name": "stdout",
     "output_type": "stream",
     "text": [
      "Training_loss 0.00082,   Relative Error 0.00340\n",
      "Training_loss 0.00081,   Relative Error 0.00337\n"
     ]
    },
    {
     "name": "stderr",
     "output_type": "stream",
     "text": [
      " 80%|████████  | 1606/2000 [04:45<01:07,  5.86it/s]"
     ]
    },
    {
     "name": "stdout",
     "output_type": "stream",
     "text": [
      "Training_loss 0.00081,   Relative Error 0.00337\n",
      "Training_loss 0.00083,   Relative Error 0.00342\n"
     ]
    },
    {
     "name": "stderr",
     "output_type": "stream",
     "text": [
      " 80%|████████  | 1608/2000 [04:45<01:06,  5.86it/s]"
     ]
    },
    {
     "name": "stdout",
     "output_type": "stream",
     "text": [
      "Training_loss 0.00080,   Relative Error 0.00336\n",
      "Training_loss 0.00079,   Relative Error 0.00332\n"
     ]
    },
    {
     "name": "stderr",
     "output_type": "stream",
     "text": [
      "\r",
      " 80%|████████  | 1609/2000 [04:45<01:05,  5.95it/s]"
     ]
    },
    {
     "name": "stdout",
     "output_type": "stream",
     "text": [
      "Training_loss 0.00085,   Relative Error 0.00342\n",
      "Training_loss 0.00080,   Relative Error 0.00331\n"
     ]
    },
    {
     "name": "stderr",
     "output_type": "stream",
     "text": [
      " 81%|████████  | 1611/2000 [04:46<01:07,  5.74it/s]"
     ]
    },
    {
     "name": "stdout",
     "output_type": "stream",
     "text": [
      "Training_loss 0.00083,   Relative Error 0.00337\n"
     ]
    },
    {
     "name": "stderr",
     "output_type": "stream",
     "text": [
      " 81%|████████  | 1613/2000 [04:46<01:04,  6.01it/s]"
     ]
    },
    {
     "name": "stdout",
     "output_type": "stream",
     "text": [
      "Training_loss 0.00085,   Relative Error 0.00341\n",
      "Training_loss 0.00083,   Relative Error 0.00337\n"
     ]
    },
    {
     "name": "stderr",
     "output_type": "stream",
     "text": [
      " 81%|████████  | 1615/2000 [04:46<01:02,  6.21it/s]"
     ]
    },
    {
     "name": "stdout",
     "output_type": "stream",
     "text": [
      "Training_loss 0.00078,   Relative Error 0.00328\n",
      "Training_loss 0.00077,   Relative Error 0.00326\n"
     ]
    },
    {
     "name": "stderr",
     "output_type": "stream",
     "text": [
      " 81%|████████  | 1617/2000 [04:46<01:01,  6.23it/s]"
     ]
    },
    {
     "name": "stdout",
     "output_type": "stream",
     "text": [
      "Training_loss 0.00073,   Relative Error 0.00319\n",
      "Training_loss 0.00070,   Relative Error 0.00311\n"
     ]
    },
    {
     "name": "stderr",
     "output_type": "stream",
     "text": [
      " 81%|████████  | 1619/2000 [04:47<01:00,  6.34it/s]"
     ]
    },
    {
     "name": "stdout",
     "output_type": "stream",
     "text": [
      "Training_loss 0.00071,   Relative Error 0.00313\n",
      "Training_loss 0.00072,   Relative Error 0.00315\n"
     ]
    },
    {
     "name": "stderr",
     "output_type": "stream",
     "text": [
      " 81%|████████  | 1621/2000 [04:47<01:05,  5.81it/s]"
     ]
    },
    {
     "name": "stdout",
     "output_type": "stream",
     "text": [
      "Training_loss 0.00070,   Relative Error 0.00312\n",
      "Training_loss 0.00064,   Relative Error 0.00296\n"
     ]
    },
    {
     "name": "stderr",
     "output_type": "stream",
     "text": [
      " 81%|████████  | 1623/2000 [04:48<01:06,  5.65it/s]"
     ]
    },
    {
     "name": "stdout",
     "output_type": "stream",
     "text": [
      "Training_loss 0.00062,   Relative Error 0.00292\n",
      "Training_loss 0.00058,   Relative Error 0.00283\n"
     ]
    },
    {
     "name": "stderr",
     "output_type": "stream",
     "text": [
      " 81%|████████▏ | 1625/2000 [04:48<01:03,  5.91it/s]"
     ]
    },
    {
     "name": "stdout",
     "output_type": "stream",
     "text": [
      "Training_loss 0.00056,   Relative Error 0.00277\n",
      "Training_loss 0.00053,   Relative Error 0.00271\n"
     ]
    },
    {
     "name": "stderr",
     "output_type": "stream",
     "text": [
      " 81%|████████▏ | 1627/2000 [04:48<01:00,  6.13it/s]"
     ]
    },
    {
     "name": "stdout",
     "output_type": "stream",
     "text": [
      "Training_loss 0.00051,   Relative Error 0.00265\n",
      "Training_loss 0.00052,   Relative Error 0.00267\n"
     ]
    },
    {
     "name": "stderr",
     "output_type": "stream",
     "text": [
      " 81%|████████▏ | 1629/2000 [04:48<00:59,  6.20it/s]"
     ]
    },
    {
     "name": "stdout",
     "output_type": "stream",
     "text": [
      "Training_loss 0.00052,   Relative Error 0.00267\n",
      "Training_loss 0.00053,   Relative Error 0.00270\n"
     ]
    },
    {
     "name": "stderr",
     "output_type": "stream",
     "text": [
      " 82%|████████▏ | 1631/2000 [04:49<01:03,  5.81it/s]"
     ]
    },
    {
     "name": "stdout",
     "output_type": "stream",
     "text": [
      "Training_loss 0.00051,   Relative Error 0.00263\n",
      "Training_loss 0.00051,   Relative Error 0.00265\n"
     ]
    },
    {
     "name": "stderr",
     "output_type": "stream",
     "text": [
      " 82%|████████▏ | 1633/2000 [04:49<00:59,  6.19it/s]"
     ]
    },
    {
     "name": "stdout",
     "output_type": "stream",
     "text": [
      "Training_loss 0.00051,   Relative Error 0.00265\n",
      "Training_loss 0.00053,   Relative Error 0.00270\n"
     ]
    },
    {
     "name": "stderr",
     "output_type": "stream",
     "text": [
      " 82%|████████▏ | 1635/2000 [04:49<00:57,  6.31it/s]"
     ]
    },
    {
     "name": "stdout",
     "output_type": "stream",
     "text": [
      "Training_loss 0.00055,   Relative Error 0.00279\n",
      "Training_loss 0.00056,   Relative Error 0.00281\n"
     ]
    },
    {
     "name": "stderr",
     "output_type": "stream",
     "text": [
      " 82%|████████▏ | 1637/2000 [04:50<01:01,  5.94it/s]"
     ]
    },
    {
     "name": "stdout",
     "output_type": "stream",
     "text": [
      "Training_loss 0.00059,   Relative Error 0.00286\n",
      "Training_loss 0.00057,   Relative Error 0.00282\n"
     ]
    },
    {
     "name": "stderr",
     "output_type": "stream",
     "text": [
      " 82%|████████▏ | 1639/2000 [04:50<01:00,  5.98it/s]"
     ]
    },
    {
     "name": "stdout",
     "output_type": "stream",
     "text": [
      "Training_loss 0.00059,   Relative Error 0.00287\n",
      "Training_loss 0.00056,   Relative Error 0.00281\n"
     ]
    },
    {
     "name": "stderr",
     "output_type": "stream",
     "text": [
      " 82%|████████▏ | 1641/2000 [04:50<00:59,  6.01it/s]"
     ]
    },
    {
     "name": "stdout",
     "output_type": "stream",
     "text": [
      "Training_loss 0.00058,   Relative Error 0.00286\n",
      "Training_loss 0.00054,   Relative Error 0.00275\n"
     ]
    },
    {
     "name": "stderr",
     "output_type": "stream",
     "text": [
      " 82%|████████▏ | 1643/2000 [04:51<01:00,  5.90it/s]"
     ]
    },
    {
     "name": "stdout",
     "output_type": "stream",
     "text": [
      "Training_loss 0.00057,   Relative Error 0.00283\n",
      "Training_loss 0.00055,   Relative Error 0.00278\n"
     ]
    },
    {
     "name": "stderr",
     "output_type": "stream",
     "text": [
      " 82%|████████▏ | 1645/2000 [04:51<00:58,  6.02it/s]"
     ]
    },
    {
     "name": "stdout",
     "output_type": "stream",
     "text": [
      "Training_loss 0.00053,   Relative Error 0.00273\n",
      "Training_loss 0.00051,   Relative Error 0.00268\n"
     ]
    },
    {
     "name": "stderr",
     "output_type": "stream",
     "text": [
      " 82%|████████▏ | 1647/2000 [04:51<00:56,  6.20it/s]"
     ]
    },
    {
     "name": "stdout",
     "output_type": "stream",
     "text": [
      "Training_loss 0.00052,   Relative Error 0.00267\n",
      "Training_loss 0.00052,   Relative Error 0.00267\n"
     ]
    },
    {
     "name": "stderr",
     "output_type": "stream",
     "text": [
      " 82%|████████▏ | 1649/2000 [04:52<00:59,  5.88it/s]"
     ]
    },
    {
     "name": "stdout",
     "output_type": "stream",
     "text": [
      "Training_loss 0.00052,   Relative Error 0.00268\n",
      "Training_loss 0.00053,   Relative Error 0.00270\n"
     ]
    },
    {
     "name": "stderr",
     "output_type": "stream",
     "text": [
      " 83%|████████▎ | 1651/2000 [04:52<01:01,  5.71it/s]"
     ]
    },
    {
     "name": "stdout",
     "output_type": "stream",
     "text": [
      "Training_loss 0.00057,   Relative Error 0.00283\n",
      "Training_loss 0.00057,   Relative Error 0.00285\n"
     ]
    },
    {
     "name": "stderr",
     "output_type": "stream",
     "text": [
      " 83%|████████▎ | 1653/2000 [04:53<00:59,  5.80it/s]"
     ]
    },
    {
     "name": "stdout",
     "output_type": "stream",
     "text": [
      "Training_loss 0.00060,   Relative Error 0.00292\n",
      "Training_loss 0.00064,   Relative Error 0.00302\n"
     ]
    },
    {
     "name": "stderr",
     "output_type": "stream",
     "text": [
      "\r",
      " 83%|████████▎ | 1654/2000 [04:53<01:13,  4.73it/s]"
     ]
    },
    {
     "name": "stdout",
     "output_type": "stream",
     "text": [
      "Training_loss 0.00059,   Relative Error 0.00289\n"
     ]
    },
    {
     "name": "stderr",
     "output_type": "stream",
     "text": [
      " 83%|████████▎ | 1656/2000 [04:53<01:08,  5.02it/s]"
     ]
    },
    {
     "name": "stdout",
     "output_type": "stream",
     "text": [
      "Training_loss 0.00061,   Relative Error 0.00293\n",
      "Training_loss 0.00060,   Relative Error 0.00292\n"
     ]
    },
    {
     "name": "stderr",
     "output_type": "stream",
     "text": [
      " 83%|████████▎ | 1658/2000 [04:54<01:07,  5.05it/s]"
     ]
    },
    {
     "name": "stdout",
     "output_type": "stream",
     "text": [
      "Training_loss 0.00064,   Relative Error 0.00303\n",
      "Training_loss 0.00066,   Relative Error 0.00307\n"
     ]
    },
    {
     "name": "stderr",
     "output_type": "stream",
     "text": [
      " 83%|████████▎ | 1660/2000 [04:54<01:03,  5.38it/s]"
     ]
    },
    {
     "name": "stdout",
     "output_type": "stream",
     "text": [
      "Training_loss 0.00071,   Relative Error 0.00319\n",
      "Training_loss 0.00076,   Relative Error 0.00331\n"
     ]
    },
    {
     "name": "stderr",
     "output_type": "stream",
     "text": [
      " 83%|████████▎ | 1662/2000 [04:54<00:57,  5.87it/s]"
     ]
    },
    {
     "name": "stdout",
     "output_type": "stream",
     "text": [
      "Training_loss 0.00077,   Relative Error 0.00334\n",
      "Training_loss 0.00079,   Relative Error 0.00336\n"
     ]
    },
    {
     "name": "stderr",
     "output_type": "stream",
     "text": [
      " 83%|████████▎ | 1664/2000 [04:55<00:57,  5.85it/s]"
     ]
    },
    {
     "name": "stdout",
     "output_type": "stream",
     "text": [
      "Training_loss 0.00075,   Relative Error 0.00326\n",
      "Training_loss 0.00077,   Relative Error 0.00330\n"
     ]
    },
    {
     "name": "stderr",
     "output_type": "stream",
     "text": [
      " 83%|████████▎ | 1666/2000 [04:55<00:56,  5.91it/s]"
     ]
    },
    {
     "name": "stdout",
     "output_type": "stream",
     "text": [
      "Training_loss 0.00078,   Relative Error 0.00332\n",
      "Training_loss 0.00082,   Relative Error 0.00340\n"
     ]
    },
    {
     "name": "stderr",
     "output_type": "stream",
     "text": [
      " 83%|████████▎ | 1668/2000 [04:55<00:55,  5.99it/s]"
     ]
    },
    {
     "name": "stdout",
     "output_type": "stream",
     "text": [
      "Training_loss 0.00083,   Relative Error 0.00345\n",
      "Training_loss 0.00085,   Relative Error 0.00347\n"
     ]
    },
    {
     "name": "stderr",
     "output_type": "stream",
     "text": [
      " 84%|████████▎ | 1670/2000 [04:56<00:55,  5.96it/s]"
     ]
    },
    {
     "name": "stdout",
     "output_type": "stream",
     "text": [
      "Training_loss 0.00090,   Relative Error 0.00357\n",
      "Training_loss 0.00092,   Relative Error 0.00361\n"
     ]
    },
    {
     "name": "stderr",
     "output_type": "stream",
     "text": [
      " 84%|████████▎ | 1672/2000 [04:56<00:56,  5.78it/s]"
     ]
    },
    {
     "name": "stdout",
     "output_type": "stream",
     "text": [
      "Training_loss 0.00096,   Relative Error 0.00368\n",
      "Training_loss 0.00095,   Relative Error 0.00366\n"
     ]
    },
    {
     "name": "stderr",
     "output_type": "stream",
     "text": [
      " 84%|████████▎ | 1674/2000 [04:56<00:53,  6.04it/s]"
     ]
    },
    {
     "name": "stdout",
     "output_type": "stream",
     "text": [
      "Training_loss 0.00094,   Relative Error 0.00364\n",
      "Training_loss 0.00091,   Relative Error 0.00360\n"
     ]
    },
    {
     "name": "stderr",
     "output_type": "stream",
     "text": [
      " 84%|████████▍ | 1676/2000 [04:57<00:52,  6.19it/s]"
     ]
    },
    {
     "name": "stdout",
     "output_type": "stream",
     "text": [
      "Training_loss 0.00096,   Relative Error 0.00369\n",
      "Training_loss 0.00099,   Relative Error 0.00374\n"
     ]
    },
    {
     "name": "stderr",
     "output_type": "stream",
     "text": [
      " 84%|████████▍ | 1678/2000 [04:57<00:54,  5.91it/s]"
     ]
    },
    {
     "name": "stdout",
     "output_type": "stream",
     "text": [
      "Training_loss 0.00099,   Relative Error 0.00374\n",
      "Training_loss 0.00101,   Relative Error 0.00377\n"
     ]
    },
    {
     "name": "stderr",
     "output_type": "stream",
     "text": [
      "\r",
      " 84%|████████▍ | 1679/2000 [04:57<01:00,  5.30it/s]"
     ]
    },
    {
     "name": "stdout",
     "output_type": "stream",
     "text": [
      "Training_loss 0.00092,   Relative Error 0.00360\n",
      "Training_loss 0.00095,   Relative Error 0.00364"
     ]
    },
    {
     "name": "stderr",
     "output_type": "stream",
     "text": [
      "\r",
      " 84%|████████▍ | 1680/2000 [04:57<01:01,  5.24it/s]"
     ]
    },
    {
     "name": "stdout",
     "output_type": "stream",
     "text": [
      "\n"
     ]
    },
    {
     "name": "stderr",
     "output_type": "stream",
     "text": [
      "\r",
      " 84%|████████▍ | 1681/2000 [04:58<01:03,  5.00it/s]"
     ]
    },
    {
     "name": "stdout",
     "output_type": "stream",
     "text": [
      "Training_loss 0.00097,   Relative Error 0.00368\n"
     ]
    },
    {
     "name": "stderr",
     "output_type": "stream",
     "text": [
      " 84%|████████▍ | 1683/2000 [04:58<01:03,  4.99it/s]"
     ]
    },
    {
     "name": "stdout",
     "output_type": "stream",
     "text": [
      "Training_loss 0.00100,   Relative Error 0.00375\n",
      "Training_loss 0.00090,   Relative Error 0.00359\n"
     ]
    },
    {
     "name": "stderr",
     "output_type": "stream",
     "text": [
      " 84%|████████▍ | 1685/2000 [04:58<00:57,  5.48it/s]"
     ]
    },
    {
     "name": "stdout",
     "output_type": "stream",
     "text": [
      "Training_loss 0.00083,   Relative Error 0.00345\n",
      "Training_loss 0.00080,   Relative Error 0.00336\n"
     ]
    },
    {
     "name": "stderr",
     "output_type": "stream",
     "text": [
      " 84%|████████▍ | 1687/2000 [04:59<00:51,  6.13it/s]"
     ]
    },
    {
     "name": "stdout",
     "output_type": "stream",
     "text": [
      "Training_loss 0.00082,   Relative Error 0.00341\n",
      "Training_loss 0.00086,   Relative Error 0.00349\n"
     ]
    },
    {
     "name": "stderr",
     "output_type": "stream",
     "text": [
      " 84%|████████▍ | 1689/2000 [04:59<00:47,  6.55it/s]"
     ]
    },
    {
     "name": "stdout",
     "output_type": "stream",
     "text": [
      "Training_loss 0.00088,   Relative Error 0.00353\n",
      "Training_loss 0.00088,   Relative Error 0.00353\n"
     ]
    },
    {
     "name": "stderr",
     "output_type": "stream",
     "text": [
      " 85%|████████▍ | 1691/2000 [04:59<00:45,  6.85it/s]"
     ]
    },
    {
     "name": "stdout",
     "output_type": "stream",
     "text": [
      "Training_loss 0.00089,   Relative Error 0.00355\n",
      "Training_loss 0.00093,   Relative Error 0.00365\n"
     ]
    },
    {
     "name": "stderr",
     "output_type": "stream",
     "text": [
      " 85%|████████▍ | 1693/2000 [04:59<00:44,  6.86it/s]"
     ]
    },
    {
     "name": "stdout",
     "output_type": "stream",
     "text": [
      "Training_loss 0.00087,   Relative Error 0.00352\n",
      "Training_loss 0.00089,   Relative Error 0.00355\n"
     ]
    },
    {
     "name": "stderr",
     "output_type": "stream",
     "text": [
      " 85%|████████▍ | 1695/2000 [05:00<00:44,  6.86it/s]"
     ]
    },
    {
     "name": "stdout",
     "output_type": "stream",
     "text": [
      "Training_loss 0.00084,   Relative Error 0.00344\n",
      "Training_loss 0.00084,   Relative Error 0.00345\n"
     ]
    },
    {
     "name": "stderr",
     "output_type": "stream",
     "text": [
      " 85%|████████▍ | 1697/2000 [05:00<00:44,  6.86it/s]"
     ]
    },
    {
     "name": "stdout",
     "output_type": "stream",
     "text": [
      "Training_loss 0.00080,   Relative Error 0.00336\n",
      "Training_loss 0.00079,   Relative Error 0.00333\n"
     ]
    },
    {
     "name": "stderr",
     "output_type": "stream",
     "text": [
      " 85%|████████▍ | 1699/2000 [05:00<00:47,  6.30it/s]"
     ]
    },
    {
     "name": "stdout",
     "output_type": "stream",
     "text": [
      "Training_loss 0.00075,   Relative Error 0.00324\n",
      "Training_loss 0.00069,   Relative Error 0.00312\n"
     ]
    },
    {
     "name": "stderr",
     "output_type": "stream",
     "text": [
      " 85%|████████▌ | 1701/2000 [05:01<00:49,  6.01it/s]"
     ]
    },
    {
     "name": "stdout",
     "output_type": "stream",
     "text": [
      "Training_loss 0.00072,   Relative Error 0.00317\n",
      "Training_loss 0.00068,   Relative Error 0.00310\n"
     ]
    },
    {
     "name": "stderr",
     "output_type": "stream",
     "text": [
      " 85%|████████▌ | 1703/2000 [05:01<00:46,  6.43it/s]"
     ]
    },
    {
     "name": "stdout",
     "output_type": "stream",
     "text": [
      "Training_loss 0.00068,   Relative Error 0.00309\n",
      "Training_loss 0.00069,   Relative Error 0.00311\n"
     ]
    },
    {
     "name": "stderr",
     "output_type": "stream",
     "text": [
      " 85%|████████▌ | 1705/2000 [05:01<00:48,  6.03it/s]"
     ]
    },
    {
     "name": "stdout",
     "output_type": "stream",
     "text": [
      "Training_loss 0.00070,   Relative Error 0.00314\n",
      "Training_loss 0.00065,   Relative Error 0.00301\n"
     ]
    },
    {
     "name": "stderr",
     "output_type": "stream",
     "text": [
      " 85%|████████▌ | 1707/2000 [05:02<00:46,  6.32it/s]"
     ]
    },
    {
     "name": "stdout",
     "output_type": "stream",
     "text": [
      "Training_loss 0.00068,   Relative Error 0.00308\n",
      "Training_loss 0.00072,   Relative Error 0.00319\n"
     ]
    },
    {
     "name": "stderr",
     "output_type": "stream",
     "text": [
      " 85%|████████▌ | 1709/2000 [05:02<00:43,  6.68it/s]"
     ]
    },
    {
     "name": "stdout",
     "output_type": "stream",
     "text": [
      "Training_loss 0.00077,   Relative Error 0.00328\n",
      "Training_loss 0.00072,   Relative Error 0.00317\n"
     ]
    },
    {
     "name": "stderr",
     "output_type": "stream",
     "text": [
      " 86%|████████▌ | 1711/2000 [05:02<00:44,  6.52it/s]"
     ]
    },
    {
     "name": "stdout",
     "output_type": "stream",
     "text": [
      "Training_loss 0.00073,   Relative Error 0.00321\n",
      "Training_loss 0.00077,   Relative Error 0.00329\n"
     ]
    },
    {
     "name": "stderr",
     "output_type": "stream",
     "text": [
      " 86%|████████▌ | 1713/2000 [05:03<00:43,  6.67it/s]"
     ]
    },
    {
     "name": "stdout",
     "output_type": "stream",
     "text": [
      "Training_loss 0.00078,   Relative Error 0.00330\n",
      "Training_loss 0.00076,   Relative Error 0.00328\n"
     ]
    },
    {
     "name": "stderr",
     "output_type": "stream",
     "text": [
      " 86%|████████▌ | 1715/2000 [05:03<00:41,  6.91it/s]"
     ]
    },
    {
     "name": "stdout",
     "output_type": "stream",
     "text": [
      "Training_loss 0.00080,   Relative Error 0.00336\n",
      "Training_loss 0.00072,   Relative Error 0.00317\n"
     ]
    },
    {
     "name": "stderr",
     "output_type": "stream",
     "text": [
      " 86%|████████▌ | 1717/2000 [05:03<00:41,  6.80it/s]"
     ]
    },
    {
     "name": "stdout",
     "output_type": "stream",
     "text": [
      "Training_loss 0.00072,   Relative Error 0.00317\n",
      "Training_loss 0.00072,   Relative Error 0.00317\n"
     ]
    },
    {
     "name": "stderr",
     "output_type": "stream",
     "text": [
      " 86%|████████▌ | 1719/2000 [05:03<00:39,  7.07it/s]"
     ]
    },
    {
     "name": "stdout",
     "output_type": "stream",
     "text": [
      "Training_loss 0.00072,   Relative Error 0.00318\n",
      "Training_loss 0.00071,   Relative Error 0.00314\n"
     ]
    },
    {
     "name": "stderr",
     "output_type": "stream",
     "text": [
      " 86%|████████▌ | 1721/2000 [05:04<00:38,  7.31it/s]"
     ]
    },
    {
     "name": "stdout",
     "output_type": "stream",
     "text": [
      "Training_loss 0.00074,   Relative Error 0.00324\n",
      "Training_loss 0.00076,   Relative Error 0.00328\n"
     ]
    },
    {
     "name": "stderr",
     "output_type": "stream",
     "text": [
      " 86%|████████▌ | 1723/2000 [05:04<00:37,  7.37it/s]"
     ]
    },
    {
     "name": "stdout",
     "output_type": "stream",
     "text": [
      "Training_loss 0.00070,   Relative Error 0.00316\n",
      "Training_loss 0.00070,   Relative Error 0.00314\n"
     ]
    },
    {
     "name": "stderr",
     "output_type": "stream",
     "text": [
      " 86%|████████▋ | 1725/2000 [05:04<00:39,  7.01it/s]"
     ]
    },
    {
     "name": "stdout",
     "output_type": "stream",
     "text": [
      "Training_loss 0.00069,   Relative Error 0.00312\n",
      "Training_loss 0.00073,   Relative Error 0.00322\n"
     ]
    },
    {
     "name": "stderr",
     "output_type": "stream",
     "text": [
      " 86%|████████▋ | 1727/2000 [05:05<00:39,  6.99it/s]"
     ]
    },
    {
     "name": "stdout",
     "output_type": "stream",
     "text": [
      "Training_loss 0.00077,   Relative Error 0.00329\n",
      "Training_loss 0.00071,   Relative Error 0.00318\n"
     ]
    },
    {
     "name": "stderr",
     "output_type": "stream",
     "text": [
      " 86%|████████▋ | 1729/2000 [05:05<00:38,  7.04it/s]"
     ]
    },
    {
     "name": "stdout",
     "output_type": "stream",
     "text": [
      "Training_loss 0.00074,   Relative Error 0.00325\n",
      "Training_loss 0.00076,   Relative Error 0.00329\n"
     ]
    },
    {
     "name": "stderr",
     "output_type": "stream",
     "text": [
      " 87%|████████▋ | 1731/2000 [05:05<00:37,  7.13it/s]"
     ]
    },
    {
     "name": "stdout",
     "output_type": "stream",
     "text": [
      "Training_loss 0.00078,   Relative Error 0.00333\n",
      "Training_loss 0.00075,   Relative Error 0.00327\n"
     ]
    },
    {
     "name": "stderr",
     "output_type": "stream",
     "text": [
      " 87%|████████▋ | 1733/2000 [05:06<00:44,  6.00it/s]"
     ]
    },
    {
     "name": "stdout",
     "output_type": "stream",
     "text": [
      "Training_loss 0.00074,   Relative Error 0.00326\n",
      "Training_loss 0.00079,   Relative Error 0.00336\n"
     ]
    },
    {
     "name": "stderr",
     "output_type": "stream",
     "text": [
      " 87%|████████▋ | 1735/2000 [05:06<00:45,  5.79it/s]"
     ]
    },
    {
     "name": "stdout",
     "output_type": "stream",
     "text": [
      "Training_loss 0.00085,   Relative Error 0.00347\n",
      "Training_loss 0.00078,   Relative Error 0.00333\n"
     ]
    },
    {
     "name": "stderr",
     "output_type": "stream",
     "text": [
      " 87%|████████▋ | 1737/2000 [05:06<00:47,  5.56it/s]"
     ]
    },
    {
     "name": "stdout",
     "output_type": "stream",
     "text": [
      "Training_loss 0.00081,   Relative Error 0.00340\n",
      "Training_loss 0.00075,   Relative Error 0.00328\n"
     ]
    },
    {
     "name": "stderr",
     "output_type": "stream",
     "text": [
      "\r",
      " 87%|████████▋ | 1738/2000 [05:06<00:50,  5.23it/s]"
     ]
    },
    {
     "name": "stdout",
     "output_type": "stream",
     "text": [
      "Training_loss 0.00074,   Relative Error 0.00326\n"
     ]
    },
    {
     "name": "stderr",
     "output_type": "stream",
     "text": [
      "\r",
      " 87%|████████▋ | 1739/2000 [05:07<00:52,  4.98it/s]"
     ]
    },
    {
     "name": "stdout",
     "output_type": "stream",
     "text": [
      "Training_loss 0.00078,   Relative Error 0.00334\n"
     ]
    },
    {
     "name": "stderr",
     "output_type": "stream",
     "text": [
      "\r",
      " 87%|████████▋ | 1740/2000 [05:07<00:54,  4.77it/s]"
     ]
    },
    {
     "name": "stdout",
     "output_type": "stream",
     "text": [
      "Training_loss 0.00082,   Relative Error 0.00343\n"
     ]
    },
    {
     "name": "stderr",
     "output_type": "stream",
     "text": [
      " 87%|████████▋ | 1742/2000 [05:07<00:50,  5.12it/s]"
     ]
    },
    {
     "name": "stdout",
     "output_type": "stream",
     "text": [
      "Training_loss 0.00082,   Relative Error 0.00344\n",
      "Training_loss 0.00083,   Relative Error 0.00348\n"
     ]
    },
    {
     "name": "stderr",
     "output_type": "stream",
     "text": [
      " 87%|████████▋ | 1744/2000 [05:08<00:42,  6.05it/s]"
     ]
    },
    {
     "name": "stdout",
     "output_type": "stream",
     "text": [
      "Training_loss 0.00088,   Relative Error 0.00357\n",
      "Training_loss 0.00089,   Relative Error 0.00360\n"
     ]
    },
    {
     "name": "stderr",
     "output_type": "stream",
     "text": [
      " 87%|████████▋ | 1746/2000 [05:08<00:37,  6.76it/s]"
     ]
    },
    {
     "name": "stdout",
     "output_type": "stream",
     "text": [
      "Training_loss 0.00092,   Relative Error 0.00366\n",
      "Training_loss 0.00093,   Relative Error 0.00366\n"
     ]
    },
    {
     "name": "stderr",
     "output_type": "stream",
     "text": [
      " 87%|████████▋ | 1748/2000 [05:08<00:35,  7.12it/s]"
     ]
    },
    {
     "name": "stdout",
     "output_type": "stream",
     "text": [
      "Training_loss 0.00088,   Relative Error 0.00357\n",
      "Training_loss 0.00092,   Relative Error 0.00367\n"
     ]
    },
    {
     "name": "stderr",
     "output_type": "stream",
     "text": [
      " 88%|████████▊ | 1750/2000 [05:08<00:36,  6.87it/s]"
     ]
    },
    {
     "name": "stdout",
     "output_type": "stream",
     "text": [
      "Training_loss 0.00089,   Relative Error 0.00360\n",
      "Training_loss 0.00090,   Relative Error 0.00363\n"
     ]
    },
    {
     "name": "stderr",
     "output_type": "stream",
     "text": [
      " 88%|████████▊ | 1752/2000 [05:09<00:37,  6.65it/s]"
     ]
    },
    {
     "name": "stdout",
     "output_type": "stream",
     "text": [
      "Training_loss 0.00090,   Relative Error 0.00362\n",
      "Training_loss 0.00094,   Relative Error 0.00371\n"
     ]
    },
    {
     "name": "stderr",
     "output_type": "stream",
     "text": [
      " 88%|████████▊ | 1754/2000 [05:09<00:37,  6.48it/s]"
     ]
    },
    {
     "name": "stdout",
     "output_type": "stream",
     "text": [
      "Training_loss 0.00096,   Relative Error 0.00376\n",
      "Training_loss 0.00098,   Relative Error 0.00379\n"
     ]
    },
    {
     "name": "stderr",
     "output_type": "stream",
     "text": [
      " 88%|████████▊ | 1756/2000 [05:09<00:36,  6.70it/s]"
     ]
    },
    {
     "name": "stdout",
     "output_type": "stream",
     "text": [
      "Training_loss 0.00099,   Relative Error 0.00382\n",
      "Training_loss 0.00093,   Relative Error 0.00369\n"
     ]
    },
    {
     "name": "stderr",
     "output_type": "stream",
     "text": [
      " 88%|████████▊ | 1758/2000 [05:10<00:34,  6.92it/s]"
     ]
    },
    {
     "name": "stdout",
     "output_type": "stream",
     "text": [
      "Training_loss 0.00097,   Relative Error 0.00377\n",
      "Training_loss 0.00098,   Relative Error 0.00380\n"
     ]
    },
    {
     "name": "stderr",
     "output_type": "stream",
     "text": [
      " 88%|████████▊ | 1760/2000 [05:10<00:33,  7.15it/s]"
     ]
    },
    {
     "name": "stdout",
     "output_type": "stream",
     "text": [
      "Training_loss 0.00103,   Relative Error 0.00388\n",
      "Training_loss 0.00103,   Relative Error 0.00390\n"
     ]
    },
    {
     "name": "stderr",
     "output_type": "stream",
     "text": [
      " 88%|████████▊ | 1762/2000 [05:10<00:32,  7.22it/s]"
     ]
    },
    {
     "name": "stdout",
     "output_type": "stream",
     "text": [
      "Training_loss 0.00106,   Relative Error 0.00394\n",
      "Training_loss 0.00108,   Relative Error 0.00397\n"
     ]
    },
    {
     "name": "stderr",
     "output_type": "stream",
     "text": [
      " 88%|████████▊ | 1764/2000 [05:10<00:33,  7.04it/s]"
     ]
    },
    {
     "name": "stdout",
     "output_type": "stream",
     "text": [
      "Training_loss 0.00101,   Relative Error 0.00384\n",
      "Training_loss 0.00096,   Relative Error 0.00373\n"
     ]
    },
    {
     "name": "stderr",
     "output_type": "stream",
     "text": [
      " 88%|████████▊ | 1766/2000 [05:11<00:33,  6.89it/s]"
     ]
    },
    {
     "name": "stdout",
     "output_type": "stream",
     "text": [
      "Training_loss 0.00098,   Relative Error 0.00378\n",
      "Training_loss 0.00103,   Relative Error 0.00388\n"
     ]
    },
    {
     "name": "stderr",
     "output_type": "stream",
     "text": [
      " 88%|████████▊ | 1768/2000 [05:11<00:32,  7.19it/s]"
     ]
    },
    {
     "name": "stdout",
     "output_type": "stream",
     "text": [
      "Training_loss 0.00102,   Relative Error 0.00384\n",
      "Training_loss 0.00107,   Relative Error 0.00395\n"
     ]
    },
    {
     "name": "stderr",
     "output_type": "stream",
     "text": [
      " 88%|████████▊ | 1770/2000 [05:11<00:31,  7.40it/s]"
     ]
    },
    {
     "name": "stdout",
     "output_type": "stream",
     "text": [
      "Training_loss 0.00106,   Relative Error 0.00394\n",
      "Training_loss 0.00104,   Relative Error 0.00391\n"
     ]
    },
    {
     "name": "stderr",
     "output_type": "stream",
     "text": [
      " 89%|████████▊ | 1772/2000 [05:12<00:34,  6.69it/s]"
     ]
    },
    {
     "name": "stdout",
     "output_type": "stream",
     "text": [
      "Training_loss 0.00104,   Relative Error 0.00393\n",
      "Training_loss 0.00103,   Relative Error 0.00394\n"
     ]
    },
    {
     "name": "stderr",
     "output_type": "stream",
     "text": [
      " 89%|████████▊ | 1774/2000 [05:12<00:32,  6.89it/s]"
     ]
    },
    {
     "name": "stdout",
     "output_type": "stream",
     "text": [
      "Training_loss 0.00104,   Relative Error 0.00393\n",
      "Training_loss 0.00108,   Relative Error 0.00399\n"
     ]
    },
    {
     "name": "stderr",
     "output_type": "stream",
     "text": [
      " 89%|████████▉ | 1776/2000 [05:12<00:31,  7.18it/s]"
     ]
    },
    {
     "name": "stdout",
     "output_type": "stream",
     "text": [
      "Training_loss 0.00106,   Relative Error 0.00394\n",
      "Training_loss 0.00105,   Relative Error 0.00393\n"
     ]
    },
    {
     "name": "stderr",
     "output_type": "stream",
     "text": [
      " 89%|████████▉ | 1778/2000 [05:12<00:31,  7.01it/s]"
     ]
    },
    {
     "name": "stdout",
     "output_type": "stream",
     "text": [
      "Training_loss 0.00104,   Relative Error 0.00391\n",
      "Training_loss 0.00105,   Relative Error 0.00392\n"
     ]
    },
    {
     "name": "stderr",
     "output_type": "stream",
     "text": [
      " 89%|████████▉ | 1780/2000 [05:13<00:30,  7.32it/s]"
     ]
    },
    {
     "name": "stdout",
     "output_type": "stream",
     "text": [
      "Training_loss 0.00101,   Relative Error 0.00383\n",
      "Training_loss 0.00101,   Relative Error 0.00385\n"
     ]
    },
    {
     "name": "stderr",
     "output_type": "stream",
     "text": [
      " 89%|████████▉ | 1782/2000 [05:13<00:32,  6.65it/s]"
     ]
    },
    {
     "name": "stdout",
     "output_type": "stream",
     "text": [
      "Training_loss 0.00105,   Relative Error 0.00391\n",
      "Training_loss 0.00108,   Relative Error 0.00395\n"
     ]
    },
    {
     "name": "stderr",
     "output_type": "stream",
     "text": [
      " 89%|████████▉ | 1784/2000 [05:13<00:34,  6.29it/s]"
     ]
    },
    {
     "name": "stdout",
     "output_type": "stream",
     "text": [
      "Training_loss 0.00103,   Relative Error 0.00386\n",
      "Training_loss 0.00107,   Relative Error 0.00391\n"
     ]
    },
    {
     "name": "stderr",
     "output_type": "stream",
     "text": [
      " 89%|████████▉ | 1786/2000 [05:14<00:34,  6.12it/s]"
     ]
    },
    {
     "name": "stdout",
     "output_type": "stream",
     "text": [
      "Training_loss 0.00105,   Relative Error 0.00386\n",
      "Training_loss 0.00107,   Relative Error 0.00389\n"
     ]
    },
    {
     "name": "stderr",
     "output_type": "stream",
     "text": [
      " 89%|████████▉ | 1788/2000 [05:14<00:33,  6.26it/s]"
     ]
    },
    {
     "name": "stdout",
     "output_type": "stream",
     "text": [
      "Training_loss 0.00101,   Relative Error 0.00379\n",
      "Training_loss 0.00102,   Relative Error 0.00383\n"
     ]
    },
    {
     "name": "stderr",
     "output_type": "stream",
     "text": [
      " 90%|████████▉ | 1790/2000 [05:14<00:32,  6.46it/s]"
     ]
    },
    {
     "name": "stdout",
     "output_type": "stream",
     "text": [
      "Training_loss 0.00098,   Relative Error 0.00374\n",
      "Training_loss 0.00094,   Relative Error 0.00369\n"
     ]
    },
    {
     "name": "stderr",
     "output_type": "stream",
     "text": [
      " 90%|████████▉ | 1792/2000 [05:15<00:36,  5.72it/s]"
     ]
    },
    {
     "name": "stdout",
     "output_type": "stream",
     "text": [
      "Training_loss 0.00090,   Relative Error 0.00360\n",
      "Training_loss 0.00092,   Relative Error 0.00363\n"
     ]
    },
    {
     "name": "stderr",
     "output_type": "stream",
     "text": [
      "\r",
      " 90%|████████▉ | 1793/2000 [05:15<00:38,  5.40it/s]"
     ]
    },
    {
     "name": "stdout",
     "output_type": "stream",
     "text": [
      "Training_loss 0.00088,   Relative Error 0.00355\n"
     ]
    },
    {
     "name": "stderr",
     "output_type": "stream",
     "text": [
      " 90%|████████▉ | 1795/2000 [05:15<00:40,  5.10it/s]"
     ]
    },
    {
     "name": "stdout",
     "output_type": "stream",
     "text": [
      "Training_loss 0.00089,   Relative Error 0.00357\n",
      "Training_loss 0.00093,   Relative Error 0.00363\n"
     ]
    },
    {
     "name": "stderr",
     "output_type": "stream",
     "text": [
      " 90%|████████▉ | 1797/2000 [05:16<00:37,  5.35it/s]"
     ]
    },
    {
     "name": "stdout",
     "output_type": "stream",
     "text": [
      "Training_loss 0.00092,   Relative Error 0.00360\n",
      "Training_loss 0.00096,   Relative Error 0.00368\n"
     ]
    },
    {
     "name": "stderr",
     "output_type": "stream",
     "text": [
      " 90%|████████▉ | 1799/2000 [05:16<00:34,  5.78it/s]"
     ]
    },
    {
     "name": "stdout",
     "output_type": "stream",
     "text": [
      "Training_loss 0.00088,   Relative Error 0.00352\n",
      "Training_loss 0.00091,   Relative Error 0.00360\n"
     ]
    },
    {
     "name": "stderr",
     "output_type": "stream",
     "text": [
      " 90%|█████████ | 1801/2000 [05:16<00:33,  5.97it/s]"
     ]
    },
    {
     "name": "stdout",
     "output_type": "stream",
     "text": [
      "Training_loss 0.00083,   Relative Error 0.00343\n",
      "Training_loss 0.00083,   Relative Error 0.00343\n"
     ]
    },
    {
     "name": "stderr",
     "output_type": "stream",
     "text": [
      " 90%|█████████ | 1803/2000 [05:17<00:32,  6.15it/s]"
     ]
    },
    {
     "name": "stdout",
     "output_type": "stream",
     "text": [
      "Training_loss 0.00086,   Relative Error 0.00349\n",
      "Training_loss 0.00086,   Relative Error 0.00348\n"
     ]
    },
    {
     "name": "stderr",
     "output_type": "stream",
     "text": [
      " 90%|█████████ | 1805/2000 [05:17<00:31,  6.17it/s]"
     ]
    },
    {
     "name": "stdout",
     "output_type": "stream",
     "text": [
      "Training_loss 0.00080,   Relative Error 0.00336\n",
      "Training_loss 0.00079,   Relative Error 0.00334\n"
     ]
    },
    {
     "name": "stderr",
     "output_type": "stream",
     "text": [
      " 90%|█████████ | 1807/2000 [05:17<00:32,  6.01it/s]"
     ]
    },
    {
     "name": "stdout",
     "output_type": "stream",
     "text": [
      "Training_loss 0.00082,   Relative Error 0.00341\n",
      "Training_loss 0.00086,   Relative Error 0.00348\n"
     ]
    },
    {
     "name": "stderr",
     "output_type": "stream",
     "text": [
      "\r",
      " 90%|█████████ | 1808/2000 [05:17<00:31,  6.11it/s]"
     ]
    },
    {
     "name": "stdout",
     "output_type": "stream",
     "text": [
      "Training_loss 0.00091,   Relative Error 0.00360\n"
     ]
    },
    {
     "name": "stderr",
     "output_type": "stream",
     "text": [
      " 90%|█████████ | 1810/2000 [05:18<00:33,  5.62it/s]"
     ]
    },
    {
     "name": "stdout",
     "output_type": "stream",
     "text": [
      "Training_loss 0.00094,   Relative Error 0.00366\n",
      "Training_loss 0.00092,   Relative Error 0.00364\n"
     ]
    },
    {
     "name": "stderr",
     "output_type": "stream",
     "text": [
      " 91%|█████████ | 1812/2000 [05:18<00:32,  5.86it/s]"
     ]
    },
    {
     "name": "stdout",
     "output_type": "stream",
     "text": [
      "Training_loss 0.00093,   Relative Error 0.00366\n",
      "Training_loss 0.00093,   Relative Error 0.00367\n"
     ]
    },
    {
     "name": "stderr",
     "output_type": "stream",
     "text": [
      " 91%|█████████ | 1814/2000 [05:18<00:30,  6.06it/s]"
     ]
    },
    {
     "name": "stdout",
     "output_type": "stream",
     "text": [
      "Training_loss 0.00087,   Relative Error 0.00354\n",
      "Training_loss 0.00088,   Relative Error 0.00355\n"
     ]
    },
    {
     "name": "stderr",
     "output_type": "stream",
     "text": [
      " 91%|█████████ | 1816/2000 [05:19<00:30,  5.95it/s]"
     ]
    },
    {
     "name": "stdout",
     "output_type": "stream",
     "text": [
      "Training_loss 0.00081,   Relative Error 0.00342\n",
      "Training_loss 0.00082,   Relative Error 0.00346\n"
     ]
    },
    {
     "name": "stderr",
     "output_type": "stream",
     "text": [
      "\r",
      " 91%|█████████ | 1817/2000 [05:19<00:31,  5.86it/s]"
     ]
    },
    {
     "name": "stdout",
     "output_type": "stream",
     "text": [
      "Training_loss 0.00079,   Relative Error 0.00339\n"
     ]
    },
    {
     "name": "stderr",
     "output_type": "stream",
     "text": [
      " 91%|█████████ | 1819/2000 [05:19<00:31,  5.66it/s]"
     ]
    },
    {
     "name": "stdout",
     "output_type": "stream",
     "text": [
      "Training_loss 0.00076,   Relative Error 0.00332\n",
      "Training_loss 0.00069,   Relative Error 0.00316\n"
     ]
    },
    {
     "name": "stderr",
     "output_type": "stream",
     "text": [
      " 91%|█████████ | 1821/2000 [05:20<00:30,  5.88it/s]"
     ]
    },
    {
     "name": "stdout",
     "output_type": "stream",
     "text": [
      "Training_loss 0.00064,   Relative Error 0.00304\n",
      "Training_loss 0.00067,   Relative Error 0.00312\n"
     ]
    },
    {
     "name": "stderr",
     "output_type": "stream",
     "text": [
      " 91%|█████████ | 1823/2000 [05:20<00:29,  6.00it/s]"
     ]
    },
    {
     "name": "stdout",
     "output_type": "stream",
     "text": [
      "Training_loss 0.00069,   Relative Error 0.00317\n",
      "Training_loss 0.00070,   Relative Error 0.00320\n"
     ]
    },
    {
     "name": "stderr",
     "output_type": "stream",
     "text": [
      " 91%|█████████▏| 1825/2000 [05:20<00:27,  6.29it/s]"
     ]
    },
    {
     "name": "stdout",
     "output_type": "stream",
     "text": [
      "Training_loss 0.00072,   Relative Error 0.00325\n",
      "Training_loss 0.00073,   Relative Error 0.00327\n"
     ]
    },
    {
     "name": "stderr",
     "output_type": "stream",
     "text": [
      " 91%|█████████▏| 1827/2000 [05:21<00:27,  6.24it/s]"
     ]
    },
    {
     "name": "stdout",
     "output_type": "stream",
     "text": [
      "Training_loss 0.00069,   Relative Error 0.00319\n",
      "Training_loss 0.00064,   Relative Error 0.00306\n"
     ]
    },
    {
     "name": "stderr",
     "output_type": "stream",
     "text": [
      " 91%|█████████▏| 1829/2000 [05:21<00:26,  6.47it/s]"
     ]
    },
    {
     "name": "stdout",
     "output_type": "stream",
     "text": [
      "Training_loss 0.00064,   Relative Error 0.00308\n",
      "Training_loss 0.00067,   Relative Error 0.00316\n"
     ]
    },
    {
     "name": "stderr",
     "output_type": "stream",
     "text": [
      " 92%|█████████▏| 1831/2000 [05:21<00:26,  6.41it/s]"
     ]
    },
    {
     "name": "stdout",
     "output_type": "stream",
     "text": [
      "Training_loss 0.00065,   Relative Error 0.00310\n",
      "Training_loss 0.00070,   Relative Error 0.00322\n"
     ]
    },
    {
     "name": "stderr",
     "output_type": "stream",
     "text": [
      "\r",
      " 92%|█████████▏| 1832/2000 [05:21<00:27,  6.11it/s]"
     ]
    },
    {
     "name": "stdout",
     "output_type": "stream",
     "text": [
      "Training_loss 0.00065,   Relative Error 0.00310\n",
      "Training_loss 0.00070,   Relative Error 0.00320\n"
     ]
    },
    {
     "name": "stderr",
     "output_type": "stream",
     "text": [
      " 92%|█████████▏| 1834/2000 [05:22<00:28,  5.91it/s]"
     ]
    },
    {
     "name": "stdout",
     "output_type": "stream",
     "text": [
      "Training_loss 0.00072,   Relative Error 0.00324\n"
     ]
    },
    {
     "name": "stderr",
     "output_type": "stream",
     "text": [
      " 92%|█████████▏| 1836/2000 [05:22<00:27,  5.96it/s]"
     ]
    },
    {
     "name": "stdout",
     "output_type": "stream",
     "text": [
      "Training_loss 0.00075,   Relative Error 0.00331\n",
      "Training_loss 0.00073,   Relative Error 0.00327\n"
     ]
    },
    {
     "name": "stderr",
     "output_type": "stream",
     "text": [
      " 92%|█████████▏| 1838/2000 [05:22<00:27,  5.89it/s]"
     ]
    },
    {
     "name": "stdout",
     "output_type": "stream",
     "text": [
      "Training_loss 0.00071,   Relative Error 0.00321\n",
      "Training_loss 0.00068,   Relative Error 0.00314\n"
     ]
    },
    {
     "name": "stderr",
     "output_type": "stream",
     "text": [
      " 92%|█████████▏| 1840/2000 [05:23<00:27,  5.89it/s]"
     ]
    },
    {
     "name": "stdout",
     "output_type": "stream",
     "text": [
      "Training_loss 0.00066,   Relative Error 0.00310\n",
      "Training_loss 0.00069,   Relative Error 0.00317\n"
     ]
    },
    {
     "name": "stderr",
     "output_type": "stream",
     "text": [
      " 92%|█████████▏| 1842/2000 [05:23<00:26,  5.97it/s]"
     ]
    },
    {
     "name": "stdout",
     "output_type": "stream",
     "text": [
      "Training_loss 0.00074,   Relative Error 0.00329\n",
      "Training_loss 0.00077,   Relative Error 0.00335\n"
     ]
    },
    {
     "name": "stderr",
     "output_type": "stream",
     "text": [
      " 92%|█████████▏| 1844/2000 [05:23<00:25,  6.03it/s]"
     ]
    },
    {
     "name": "stdout",
     "output_type": "stream",
     "text": [
      "Training_loss 0.00079,   Relative Error 0.00338\n",
      "Training_loss 0.00080,   Relative Error 0.00340\n"
     ]
    },
    {
     "name": "stderr",
     "output_type": "stream",
     "text": [
      " 92%|█████████▏| 1846/2000 [05:24<00:25,  6.10it/s]"
     ]
    },
    {
     "name": "stdout",
     "output_type": "stream",
     "text": [
      "Training_loss 0.00084,   Relative Error 0.00349\n",
      "Training_loss 0.00081,   Relative Error 0.00342\n"
     ]
    },
    {
     "name": "stderr",
     "output_type": "stream",
     "text": [
      " 92%|█████████▏| 1848/2000 [05:24<00:25,  5.97it/s]"
     ]
    },
    {
     "name": "stdout",
     "output_type": "stream",
     "text": [
      "Training_loss 0.00082,   Relative Error 0.00347\n",
      "Training_loss 0.00086,   Relative Error 0.00352\n"
     ]
    },
    {
     "name": "stderr",
     "output_type": "stream",
     "text": [
      "\r",
      " 92%|█████████▏| 1849/2000 [05:24<00:25,  5.94it/s]"
     ]
    },
    {
     "name": "stdout",
     "output_type": "stream",
     "text": [
      "Training_loss 0.00085,   Relative Error 0.00350\n"
     ]
    },
    {
     "name": "stderr",
     "output_type": "stream",
     "text": [
      "\r",
      " 92%|█████████▎| 1850/2000 [05:25<00:26,  5.61it/s]"
     ]
    },
    {
     "name": "stdout",
     "output_type": "stream",
     "text": [
      "Training_loss 0.00080,   Relative Error 0.00342\n"
     ]
    },
    {
     "name": "stderr",
     "output_type": "stream",
     "text": [
      " 93%|█████████▎| 1852/2000 [05:25<00:26,  5.66it/s]"
     ]
    },
    {
     "name": "stdout",
     "output_type": "stream",
     "text": [
      "Training_loss 0.00078,   Relative Error 0.00340\n",
      "Training_loss 0.00075,   Relative Error 0.00331\n"
     ]
    },
    {
     "name": "stderr",
     "output_type": "stream",
     "text": [
      " 93%|█████████▎| 1854/2000 [05:25<00:24,  6.00it/s]"
     ]
    },
    {
     "name": "stdout",
     "output_type": "stream",
     "text": [
      "Training_loss 0.00074,   Relative Error 0.00329\n",
      "Training_loss 0.00074,   Relative Error 0.00330\n"
     ]
    },
    {
     "name": "stderr",
     "output_type": "stream",
     "text": [
      " 93%|█████████▎| 1856/2000 [05:26<00:24,  6.00it/s]"
     ]
    },
    {
     "name": "stdout",
     "output_type": "stream",
     "text": [
      "Training_loss 0.00072,   Relative Error 0.00328\n",
      "Training_loss 0.00072,   Relative Error 0.00327\n"
     ]
    },
    {
     "name": "stderr",
     "output_type": "stream",
     "text": [
      " 93%|█████████▎| 1858/2000 [05:26<00:24,  5.73it/s]"
     ]
    },
    {
     "name": "stdout",
     "output_type": "stream",
     "text": [
      "Training_loss 0.00077,   Relative Error 0.00338\n",
      "Training_loss 0.00078,   Relative Error 0.00339\n"
     ]
    },
    {
     "name": "stderr",
     "output_type": "stream",
     "text": [
      " 93%|█████████▎| 1860/2000 [05:26<00:23,  5.86it/s]"
     ]
    },
    {
     "name": "stdout",
     "output_type": "stream",
     "text": [
      "Training_loss 0.00080,   Relative Error 0.00342\n",
      "Training_loss 0.00078,   Relative Error 0.00340\n"
     ]
    },
    {
     "name": "stderr",
     "output_type": "stream",
     "text": [
      " 93%|█████████▎| 1862/2000 [05:27<00:22,  6.01it/s]"
     ]
    },
    {
     "name": "stdout",
     "output_type": "stream",
     "text": [
      "Training_loss 0.00080,   Relative Error 0.00344\n",
      "Training_loss 0.00083,   Relative Error 0.00350\n"
     ]
    },
    {
     "name": "stderr",
     "output_type": "stream",
     "text": [
      " 93%|█████████▎| 1864/2000 [05:27<00:23,  5.79it/s]"
     ]
    },
    {
     "name": "stdout",
     "output_type": "stream",
     "text": [
      "Training_loss 0.00082,   Relative Error 0.00347\n",
      "Training_loss 0.00079,   Relative Error 0.00341\n"
     ]
    },
    {
     "name": "stderr",
     "output_type": "stream",
     "text": [
      " 93%|█████████▎| 1866/2000 [05:27<00:23,  5.75it/s]"
     ]
    },
    {
     "name": "stdout",
     "output_type": "stream",
     "text": [
      "Training_loss 0.00081,   Relative Error 0.00346\n",
      "Training_loss 0.00085,   Relative Error 0.00355\n"
     ]
    },
    {
     "name": "stderr",
     "output_type": "stream",
     "text": [
      " 93%|█████████▎| 1868/2000 [05:28<00:22,  5.89it/s]"
     ]
    },
    {
     "name": "stdout",
     "output_type": "stream",
     "text": [
      "Training_loss 0.00086,   Relative Error 0.00358\n",
      "Training_loss 0.00090,   Relative Error 0.00366\n"
     ]
    },
    {
     "name": "stderr",
     "output_type": "stream",
     "text": [
      " 94%|█████████▎| 1870/2000 [05:28<00:21,  6.13it/s]"
     ]
    },
    {
     "name": "stdout",
     "output_type": "stream",
     "text": [
      "Training_loss 0.00095,   Relative Error 0.00377\n",
      "Training_loss 0.00092,   Relative Error 0.00370\n"
     ]
    },
    {
     "name": "stderr",
     "output_type": "stream",
     "text": [
      " 94%|█████████▎| 1872/2000 [05:28<00:21,  5.97it/s]"
     ]
    },
    {
     "name": "stdout",
     "output_type": "stream",
     "text": [
      "Training_loss 0.00094,   Relative Error 0.00373\n",
      "Training_loss 0.00099,   Relative Error 0.00384\n"
     ]
    },
    {
     "name": "stderr",
     "output_type": "stream",
     "text": [
      " 94%|█████████▎| 1874/2000 [05:29<00:20,  6.01it/s]"
     ]
    },
    {
     "name": "stdout",
     "output_type": "stream",
     "text": [
      "Training_loss 0.00104,   Relative Error 0.00392\n",
      "Training_loss 0.00103,   Relative Error 0.00392\n"
     ]
    },
    {
     "name": "stderr",
     "output_type": "stream",
     "text": [
      " 94%|█████████▍| 1876/2000 [05:29<00:23,  5.32it/s]"
     ]
    },
    {
     "name": "stdout",
     "output_type": "stream",
     "text": [
      "Training_loss 0.00104,   Relative Error 0.00395\n",
      "Training_loss 0.00102,   Relative Error 0.00390\n"
     ]
    },
    {
     "name": "stderr",
     "output_type": "stream",
     "text": [
      " 94%|█████████▍| 1878/2000 [05:29<00:23,  5.14it/s]"
     ]
    },
    {
     "name": "stdout",
     "output_type": "stream",
     "text": [
      "Training_loss 0.00104,   Relative Error 0.00393\n",
      "Training_loss 0.00100,   Relative Error 0.00386\n"
     ]
    },
    {
     "name": "stderr",
     "output_type": "stream",
     "text": [
      "\r",
      " 94%|█████████▍| 1879/2000 [05:30<00:25,  4.73it/s]"
     ]
    },
    {
     "name": "stdout",
     "output_type": "stream",
     "text": [
      "Training_loss 0.00099,   Relative Error 0.00385\n"
     ]
    },
    {
     "name": "stderr",
     "output_type": "stream",
     "text": [
      "\r",
      " 94%|█████████▍| 1880/2000 [05:30<00:27,  4.38it/s]"
     ]
    },
    {
     "name": "stdout",
     "output_type": "stream",
     "text": [
      "Training_loss 0.00103,   Relative Error 0.00393\n"
     ]
    },
    {
     "name": "stderr",
     "output_type": "stream",
     "text": [
      " 94%|█████████▍| 1882/2000 [05:30<00:26,  4.52it/s]"
     ]
    },
    {
     "name": "stdout",
     "output_type": "stream",
     "text": [
      "Training_loss 0.00102,   Relative Error 0.00390\n",
      "Training_loss 0.00104,   Relative Error 0.00395\n"
     ]
    },
    {
     "name": "stderr",
     "output_type": "stream",
     "text": [
      " 94%|█████████▍| 1884/2000 [05:31<00:22,  5.16it/s]"
     ]
    },
    {
     "name": "stdout",
     "output_type": "stream",
     "text": [
      "Training_loss 0.00102,   Relative Error 0.00390\n",
      "Training_loss 0.00105,   Relative Error 0.00396\n"
     ]
    },
    {
     "name": "stderr",
     "output_type": "stream",
     "text": [
      " 94%|█████████▍| 1886/2000 [05:31<00:20,  5.45it/s]"
     ]
    },
    {
     "name": "stdout",
     "output_type": "stream",
     "text": [
      "Training_loss 0.00105,   Relative Error 0.00396\n",
      "Training_loss 0.00101,   Relative Error 0.00389\n"
     ]
    },
    {
     "name": "stderr",
     "output_type": "stream",
     "text": [
      " 94%|█████████▍| 1888/2000 [05:31<00:20,  5.59it/s]"
     ]
    },
    {
     "name": "stdout",
     "output_type": "stream",
     "text": [
      "Training_loss 0.00099,   Relative Error 0.00384\n",
      "Training_loss 0.00102,   Relative Error 0.00389\n"
     ]
    },
    {
     "name": "stderr",
     "output_type": "stream",
     "text": [
      " 94%|█████████▍| 1890/2000 [05:32<00:18,  5.86it/s]"
     ]
    },
    {
     "name": "stdout",
     "output_type": "stream",
     "text": [
      "Training_loss 0.00093,   Relative Error 0.00371\n",
      "Training_loss 0.00086,   Relative Error 0.00357\n"
     ]
    },
    {
     "name": "stderr",
     "output_type": "stream",
     "text": [
      " 95%|█████████▍| 1892/2000 [05:32<00:18,  5.95it/s]"
     ]
    },
    {
     "name": "stdout",
     "output_type": "stream",
     "text": [
      "Training_loss 0.00086,   Relative Error 0.00356\n",
      "Training_loss 0.00086,   Relative Error 0.00355\n"
     ]
    },
    {
     "name": "stderr",
     "output_type": "stream",
     "text": [
      " 95%|█████████▍| 1894/2000 [05:32<00:17,  5.96it/s]"
     ]
    },
    {
     "name": "stdout",
     "output_type": "stream",
     "text": [
      "Training_loss 0.00082,   Relative Error 0.00348\n",
      "Training_loss 0.00077,   Relative Error 0.00337\n"
     ]
    },
    {
     "name": "stderr",
     "output_type": "stream",
     "text": [
      " 95%|█████████▍| 1896/2000 [05:33<00:17,  6.05it/s]"
     ]
    },
    {
     "name": "stdout",
     "output_type": "stream",
     "text": [
      "Training_loss 0.00077,   Relative Error 0.00339\n",
      "Training_loss 0.00075,   Relative Error 0.00330\n"
     ]
    },
    {
     "name": "stderr",
     "output_type": "stream",
     "text": [
      " 95%|█████████▍| 1898/2000 [05:33<00:17,  5.91it/s]"
     ]
    },
    {
     "name": "stdout",
     "output_type": "stream",
     "text": [
      "Training_loss 0.00075,   Relative Error 0.00332\n",
      "Training_loss 0.00075,   Relative Error 0.00331\n"
     ]
    },
    {
     "name": "stderr",
     "output_type": "stream",
     "text": [
      " 95%|█████████▌| 1900/2000 [05:33<00:16,  6.16it/s]"
     ]
    },
    {
     "name": "stdout",
     "output_type": "stream",
     "text": [
      "Training_loss 0.00080,   Relative Error 0.00340\n",
      "Training_loss 0.00085,   Relative Error 0.00349\n"
     ]
    },
    {
     "name": "stderr",
     "output_type": "stream",
     "text": [
      " 95%|█████████▌| 1902/2000 [05:34<00:16,  6.04it/s]"
     ]
    },
    {
     "name": "stdout",
     "output_type": "stream",
     "text": [
      "Training_loss 0.00089,   Relative Error 0.00356\n",
      "Training_loss 0.00090,   Relative Error 0.00359\n"
     ]
    },
    {
     "name": "stderr",
     "output_type": "stream",
     "text": [
      "\r",
      " 95%|█████████▌| 1903/2000 [05:34<00:16,  5.96it/s]"
     ]
    },
    {
     "name": "stdout",
     "output_type": "stream",
     "text": [
      "Training_loss 0.00088,   Relative Error 0.00355\n"
     ]
    },
    {
     "name": "stderr",
     "output_type": "stream",
     "text": [
      " 95%|█████████▌| 1905/2000 [05:34<00:18,  5.09it/s]"
     ]
    },
    {
     "name": "stdout",
     "output_type": "stream",
     "text": [
      "Training_loss 0.00085,   Relative Error 0.00350\n",
      "Training_loss 0.00081,   Relative Error 0.00339\n"
     ]
    },
    {
     "name": "stderr",
     "output_type": "stream",
     "text": [
      " 95%|█████████▌| 1907/2000 [05:35<00:17,  5.27it/s]"
     ]
    },
    {
     "name": "stdout",
     "output_type": "stream",
     "text": [
      "Training_loss 0.00086,   Relative Error 0.00348\n",
      "Training_loss 0.00082,   Relative Error 0.00340\n"
     ]
    },
    {
     "name": "stderr",
     "output_type": "stream",
     "text": [
      "\r",
      " 95%|█████████▌| 1908/2000 [05:35<00:18,  5.04it/s]"
     ]
    },
    {
     "name": "stdout",
     "output_type": "stream",
     "text": [
      "Training_loss 0.00078,   Relative Error 0.00334\n"
     ]
    },
    {
     "name": "stderr",
     "output_type": "stream",
     "text": [
      " 96%|█████████▌| 1910/2000 [05:35<00:17,  5.20it/s]"
     ]
    },
    {
     "name": "stdout",
     "output_type": "stream",
     "text": [
      "Training_loss 0.00078,   Relative Error 0.00336\n",
      "Training_loss 0.00069,   Relative Error 0.00318\n"
     ]
    },
    {
     "name": "stderr",
     "output_type": "stream",
     "text": [
      " 96%|█████████▌| 1912/2000 [05:36<00:16,  5.30it/s]"
     ]
    },
    {
     "name": "stdout",
     "output_type": "stream",
     "text": [
      "Training_loss 0.00072,   Relative Error 0.00324\n",
      "Training_loss 0.00068,   Relative Error 0.00314\n"
     ]
    },
    {
     "name": "stderr",
     "output_type": "stream",
     "text": [
      " 96%|█████████▌| 1914/2000 [05:36<00:14,  5.75it/s]"
     ]
    },
    {
     "name": "stdout",
     "output_type": "stream",
     "text": [
      "Training_loss 0.00070,   Relative Error 0.00321\n",
      "Training_loss 0.00071,   Relative Error 0.00322\n"
     ]
    },
    {
     "name": "stderr",
     "output_type": "stream",
     "text": [
      " 96%|█████████▌| 1916/2000 [05:36<00:13,  6.40it/s]"
     ]
    },
    {
     "name": "stdout",
     "output_type": "stream",
     "text": [
      "Training_loss 0.00066,   Relative Error 0.00309\n",
      "Training_loss 0.00069,   Relative Error 0.00315\n"
     ]
    },
    {
     "name": "stderr",
     "output_type": "stream",
     "text": [
      " 96%|█████████▌| 1918/2000 [05:37<00:14,  5.85it/s]"
     ]
    },
    {
     "name": "stdout",
     "output_type": "stream",
     "text": [
      "Training_loss 0.00065,   Relative Error 0.00306\n",
      "Training_loss 0.00068,   Relative Error 0.00312\n"
     ]
    },
    {
     "name": "stderr",
     "output_type": "stream",
     "text": [
      " 96%|█████████▌| 1920/2000 [05:37<00:12,  6.22it/s]"
     ]
    },
    {
     "name": "stdout",
     "output_type": "stream",
     "text": [
      "Training_loss 0.00063,   Relative Error 0.00299\n",
      "Training_loss 0.00061,   Relative Error 0.00294\n"
     ]
    },
    {
     "name": "stderr",
     "output_type": "stream",
     "text": [
      " 96%|█████████▌| 1922/2000 [05:37<00:12,  6.29it/s]"
     ]
    },
    {
     "name": "stdout",
     "output_type": "stream",
     "text": [
      "Training_loss 0.00056,   Relative Error 0.00277\n",
      "Training_loss 0.00059,   Relative Error 0.00285\n"
     ]
    },
    {
     "name": "stderr",
     "output_type": "stream",
     "text": [
      " 96%|█████████▌| 1924/2000 [05:38<00:12,  6.12it/s]"
     ]
    },
    {
     "name": "stdout",
     "output_type": "stream",
     "text": [
      "Training_loss 0.00059,   Relative Error 0.00284\n",
      "Training_loss 0.00062,   Relative Error 0.00291\n"
     ]
    },
    {
     "name": "stderr",
     "output_type": "stream",
     "text": [
      " 96%|█████████▋| 1926/2000 [05:38<00:11,  6.18it/s]"
     ]
    },
    {
     "name": "stdout",
     "output_type": "stream",
     "text": [
      "Training_loss 0.00062,   Relative Error 0.00290\n",
      "Training_loss 0.00063,   Relative Error 0.00291\n"
     ]
    },
    {
     "name": "stderr",
     "output_type": "stream",
     "text": [
      " 96%|█████████▋| 1928/2000 [05:38<00:12,  5.82it/s]"
     ]
    },
    {
     "name": "stdout",
     "output_type": "stream",
     "text": [
      "Training_loss 0.00063,   Relative Error 0.00291\n",
      "Training_loss 0.00062,   Relative Error 0.00287\n"
     ]
    },
    {
     "name": "stderr",
     "output_type": "stream",
     "text": [
      " 96%|█████████▋| 1930/2000 [05:39<00:11,  5.90it/s]"
     ]
    },
    {
     "name": "stdout",
     "output_type": "stream",
     "text": [
      "Training_loss 0.00063,   Relative Error 0.00288\n",
      "Training_loss 0.00066,   Relative Error 0.00294\n"
     ]
    },
    {
     "name": "stderr",
     "output_type": "stream",
     "text": [
      " 97%|█████████▋| 1932/2000 [05:39<00:11,  5.99it/s]"
     ]
    },
    {
     "name": "stdout",
     "output_type": "stream",
     "text": [
      "Training_loss 0.00066,   Relative Error 0.00299\n",
      "Training_loss 0.00064,   Relative Error 0.00294\n"
     ]
    },
    {
     "name": "stderr",
     "output_type": "stream",
     "text": [
      " 97%|█████████▋| 1934/2000 [05:39<00:11,  5.97it/s]"
     ]
    },
    {
     "name": "stdout",
     "output_type": "stream",
     "text": [
      "Training_loss 0.00066,   Relative Error 0.00298\n",
      "Training_loss 0.00063,   Relative Error 0.00292\n"
     ]
    },
    {
     "name": "stderr",
     "output_type": "stream",
     "text": [
      " 97%|█████████▋| 1936/2000 [05:40<00:11,  5.79it/s]"
     ]
    },
    {
     "name": "stdout",
     "output_type": "stream",
     "text": [
      "Training_loss 0.00061,   Relative Error 0.00288\n",
      "Training_loss 0.00064,   Relative Error 0.00294\n"
     ]
    },
    {
     "name": "stderr",
     "output_type": "stream",
     "text": [
      " 97%|█████████▋| 1938/2000 [05:40<00:10,  5.79it/s]"
     ]
    },
    {
     "name": "stdout",
     "output_type": "stream",
     "text": [
      "Training_loss 0.00066,   Relative Error 0.00299\n",
      "Training_loss 0.00067,   Relative Error 0.00302\n"
     ]
    },
    {
     "name": "stderr",
     "output_type": "stream",
     "text": [
      " 97%|█████████▋| 1940/2000 [05:40<00:09,  6.01it/s]"
     ]
    },
    {
     "name": "stdout",
     "output_type": "stream",
     "text": [
      "Training_loss 0.00066,   Relative Error 0.00301\n",
      "Training_loss 0.00064,   Relative Error 0.00295\n"
     ]
    },
    {
     "name": "stderr",
     "output_type": "stream",
     "text": [
      " 97%|█████████▋| 1942/2000 [05:41<00:09,  5.95it/s]"
     ]
    },
    {
     "name": "stdout",
     "output_type": "stream",
     "text": [
      "Training_loss 0.00062,   Relative Error 0.00292\n",
      "Training_loss 0.00066,   Relative Error 0.00300\n"
     ]
    },
    {
     "name": "stderr",
     "output_type": "stream",
     "text": [
      " 97%|█████████▋| 1944/2000 [05:41<00:09,  5.90it/s]"
     ]
    },
    {
     "name": "stdout",
     "output_type": "stream",
     "text": [
      "Training_loss 0.00070,   Relative Error 0.00310\n",
      "Training_loss 0.00065,   Relative Error 0.00297\n"
     ]
    },
    {
     "name": "stderr",
     "output_type": "stream",
     "text": [
      " 97%|█████████▋| 1946/2000 [05:41<00:08,  6.08it/s]"
     ]
    },
    {
     "name": "stdout",
     "output_type": "stream",
     "text": [
      "Training_loss 0.00066,   Relative Error 0.00300\n",
      "Training_loss 0.00067,   Relative Error 0.00299\n"
     ]
    },
    {
     "name": "stderr",
     "output_type": "stream",
     "text": [
      " 97%|█████████▋| 1948/2000 [05:42<00:08,  6.09it/s]"
     ]
    },
    {
     "name": "stdout",
     "output_type": "stream",
     "text": [
      "Training_loss 0.00067,   Relative Error 0.00301\n",
      "Training_loss 0.00064,   Relative Error 0.00295\n"
     ]
    },
    {
     "name": "stderr",
     "output_type": "stream",
     "text": [
      " 98%|█████████▊| 1950/2000 [05:42<00:08,  6.09it/s]"
     ]
    },
    {
     "name": "stdout",
     "output_type": "stream",
     "text": [
      "Training_loss 0.00065,   Relative Error 0.00297\n",
      "Training_loss 0.00064,   Relative Error 0.00297\n"
     ]
    },
    {
     "name": "stderr",
     "output_type": "stream",
     "text": [
      " 98%|█████████▊| 1952/2000 [05:42<00:08,  5.90it/s]"
     ]
    },
    {
     "name": "stdout",
     "output_type": "stream",
     "text": [
      "Training_loss 0.00065,   Relative Error 0.00300\n",
      "Training_loss 0.00066,   Relative Error 0.00300\n"
     ]
    },
    {
     "name": "stderr",
     "output_type": "stream",
     "text": [
      " 98%|█████████▊| 1954/2000 [05:43<00:07,  5.93it/s]"
     ]
    },
    {
     "name": "stdout",
     "output_type": "stream",
     "text": [
      "Training_loss 0.00066,   Relative Error 0.00299\n",
      "Training_loss 0.00062,   Relative Error 0.00289\n"
     ]
    },
    {
     "name": "stderr",
     "output_type": "stream",
     "text": [
      " 98%|█████████▊| 1956/2000 [05:43<00:07,  5.98it/s]"
     ]
    },
    {
     "name": "stdout",
     "output_type": "stream",
     "text": [
      "Training_loss 0.00062,   Relative Error 0.00288\n",
      "Training_loss 0.00067,   Relative Error 0.00300\n"
     ]
    },
    {
     "name": "stderr",
     "output_type": "stream",
     "text": [
      " 98%|█████████▊| 1958/2000 [05:43<00:06,  6.12it/s]"
     ]
    },
    {
     "name": "stdout",
     "output_type": "stream",
     "text": [
      "Training_loss 0.00065,   Relative Error 0.00296\n",
      "Training_loss 0.00065,   Relative Error 0.00298\n"
     ]
    },
    {
     "name": "stderr",
     "output_type": "stream",
     "text": [
      "\r",
      " 98%|█████████▊| 1959/2000 [05:44<00:07,  5.73it/s]"
     ]
    },
    {
     "name": "stdout",
     "output_type": "stream",
     "text": [
      "Training_loss 0.00066,   Relative Error 0.00299\n"
     ]
    },
    {
     "name": "stderr",
     "output_type": "stream",
     "text": [
      " 98%|█████████▊| 1961/2000 [05:44<00:07,  5.11it/s]"
     ]
    },
    {
     "name": "stdout",
     "output_type": "stream",
     "text": [
      "Training_loss 0.00068,   Relative Error 0.00306\n",
      "Training_loss 0.00066,   Relative Error 0.00300\n"
     ]
    },
    {
     "name": "stderr",
     "output_type": "stream",
     "text": [
      " 98%|█████████▊| 1963/2000 [05:44<00:06,  5.44it/s]"
     ]
    },
    {
     "name": "stdout",
     "output_type": "stream",
     "text": [
      "Training_loss 0.00066,   Relative Error 0.00299\n",
      "Training_loss 0.00067,   Relative Error 0.00304\n"
     ]
    },
    {
     "name": "stderr",
     "output_type": "stream",
     "text": [
      " 98%|█████████▊| 1965/2000 [05:45<00:05,  5.84it/s]"
     ]
    },
    {
     "name": "stdout",
     "output_type": "stream",
     "text": [
      "Training_loss 0.00072,   Relative Error 0.00314\n",
      "Training_loss 0.00076,   Relative Error 0.00322\n"
     ]
    },
    {
     "name": "stderr",
     "output_type": "stream",
     "text": [
      " 98%|█████████▊| 1967/2000 [05:45<00:06,  5.33it/s]"
     ]
    },
    {
     "name": "stdout",
     "output_type": "stream",
     "text": [
      "Training_loss 0.00078,   Relative Error 0.00327\n",
      "Training_loss 0.00081,   Relative Error 0.00334\n"
     ]
    },
    {
     "name": "stderr",
     "output_type": "stream",
     "text": [
      "\r",
      " 98%|█████████▊| 1968/2000 [05:45<00:06,  4.85it/s]"
     ]
    },
    {
     "name": "stdout",
     "output_type": "stream",
     "text": [
      "Training_loss 0.00077,   Relative Error 0.00327\n"
     ]
    },
    {
     "name": "stderr",
     "output_type": "stream",
     "text": [
      "\r",
      " 98%|█████████▊| 1969/2000 [05:46<00:06,  4.83it/s]"
     ]
    },
    {
     "name": "stdout",
     "output_type": "stream",
     "text": [
      "Training_loss 0.00077,   Relative Error 0.00325\n"
     ]
    },
    {
     "name": "stderr",
     "output_type": "stream",
     "text": [
      "\r",
      " 98%|█████████▊| 1970/2000 [05:46<00:06,  4.65it/s]"
     ]
    },
    {
     "name": "stdout",
     "output_type": "stream",
     "text": [
      "Training_loss 0.00074,   Relative Error 0.00318\n"
     ]
    },
    {
     "name": "stderr",
     "output_type": "stream",
     "text": [
      "\r",
      " 99%|█████████▊| 1971/2000 [05:46<00:06,  4.56it/s]"
     ]
    },
    {
     "name": "stdout",
     "output_type": "stream",
     "text": [
      "Training_loss 0.00074,   Relative Error 0.00320\n"
     ]
    },
    {
     "name": "stderr",
     "output_type": "stream",
     "text": [
      " 99%|█████████▊| 1973/2000 [05:46<00:05,  4.73it/s]"
     ]
    },
    {
     "name": "stdout",
     "output_type": "stream",
     "text": [
      "Training_loss 0.00076,   Relative Error 0.00323\n",
      "Training_loss 0.00077,   Relative Error 0.00326\n"
     ]
    },
    {
     "name": "stderr",
     "output_type": "stream",
     "text": [
      " 99%|█████████▉| 1975/2000 [05:47<00:04,  5.28it/s]"
     ]
    },
    {
     "name": "stdout",
     "output_type": "stream",
     "text": [
      "Training_loss 0.00077,   Relative Error 0.00326\n",
      "Training_loss 0.00080,   Relative Error 0.00334\n"
     ]
    },
    {
     "name": "stderr",
     "output_type": "stream",
     "text": [
      " 99%|█████████▉| 1977/2000 [05:47<00:03,  5.79it/s]"
     ]
    },
    {
     "name": "stdout",
     "output_type": "stream",
     "text": [
      "Training_loss 0.00082,   Relative Error 0.00336\n",
      "Training_loss 0.00085,   Relative Error 0.00345\n"
     ]
    },
    {
     "name": "stderr",
     "output_type": "stream",
     "text": [
      " 99%|█████████▉| 1979/2000 [05:47<00:03,  5.89it/s]"
     ]
    },
    {
     "name": "stdout",
     "output_type": "stream",
     "text": [
      "Training_loss 0.00082,   Relative Error 0.00338\n",
      "Training_loss 0.00083,   Relative Error 0.00338\n"
     ]
    },
    {
     "name": "stderr",
     "output_type": "stream",
     "text": [
      " 99%|█████████▉| 1981/2000 [05:48<00:03,  5.39it/s]"
     ]
    },
    {
     "name": "stdout",
     "output_type": "stream",
     "text": [
      "Training_loss 0.00077,   Relative Error 0.00326\n",
      "Training_loss 0.00076,   Relative Error 0.00325\n"
     ]
    },
    {
     "name": "stderr",
     "output_type": "stream",
     "text": [
      " 99%|█████████▉| 1983/2000 [05:48<00:03,  5.09it/s]"
     ]
    },
    {
     "name": "stdout",
     "output_type": "stream",
     "text": [
      "Training_loss 0.00078,   Relative Error 0.00328\n",
      "Training_loss 0.00075,   Relative Error 0.00324\n"
     ]
    },
    {
     "name": "stderr",
     "output_type": "stream",
     "text": [
      " 99%|█████████▉| 1985/2000 [05:49<00:02,  5.44it/s]"
     ]
    },
    {
     "name": "stdout",
     "output_type": "stream",
     "text": [
      "Training_loss 0.00081,   Relative Error 0.00338\n",
      "Training_loss 0.00084,   Relative Error 0.00344\n"
     ]
    },
    {
     "name": "stderr",
     "output_type": "stream",
     "text": [
      " 99%|█████████▉| 1987/2000 [05:49<00:02,  5.72it/s]"
     ]
    },
    {
     "name": "stdout",
     "output_type": "stream",
     "text": [
      "Training_loss 0.00076,   Relative Error 0.00328\n",
      "Training_loss 0.00076,   Relative Error 0.00327\n"
     ]
    },
    {
     "name": "stderr",
     "output_type": "stream",
     "text": [
      " 99%|█████████▉| 1989/2000 [05:49<00:01,  5.84it/s]"
     ]
    },
    {
     "name": "stdout",
     "output_type": "stream",
     "text": [
      "Training_loss 0.00078,   Relative Error 0.00334\n",
      "Training_loss 0.00079,   Relative Error 0.00334\n"
     ]
    },
    {
     "name": "stderr",
     "output_type": "stream",
     "text": [
      "100%|█████████▉| 1991/2000 [05:50<00:01,  5.71it/s]"
     ]
    },
    {
     "name": "stdout",
     "output_type": "stream",
     "text": [
      "Training_loss 0.00078,   Relative Error 0.00331\n",
      "Training_loss 0.00078,   Relative Error 0.00332\n"
     ]
    },
    {
     "name": "stderr",
     "output_type": "stream",
     "text": [
      "100%|█████████▉| 1993/2000 [05:50<00:01,  5.90it/s]"
     ]
    },
    {
     "name": "stdout",
     "output_type": "stream",
     "text": [
      "Training_loss 0.00079,   Relative Error 0.00333\n",
      "Training_loss 0.00081,   Relative Error 0.00337\n"
     ]
    },
    {
     "name": "stderr",
     "output_type": "stream",
     "text": [
      "100%|█████████▉| 1995/2000 [05:50<00:00,  5.70it/s]"
     ]
    },
    {
     "name": "stdout",
     "output_type": "stream",
     "text": [
      "Training_loss 0.00081,   Relative Error 0.00337\n",
      "Training_loss 0.00084,   Relative Error 0.00343\n"
     ]
    },
    {
     "name": "stderr",
     "output_type": "stream",
     "text": [
      "100%|█████████▉| 1997/2000 [05:51<00:00,  5.53it/s]"
     ]
    },
    {
     "name": "stdout",
     "output_type": "stream",
     "text": [
      "Training_loss 0.00084,   Relative Error 0.00346\n",
      "Training_loss 0.00077,   Relative Error 0.00330\n"
     ]
    },
    {
     "name": "stderr",
     "output_type": "stream",
     "text": [
      "100%|█████████▉| 1999/2000 [05:51<00:00,  5.74it/s]"
     ]
    },
    {
     "name": "stdout",
     "output_type": "stream",
     "text": [
      "Training_loss 0.00069,   Relative Error 0.00313\n",
      "Training_loss 0.00070,   Relative Error 0.00314\n"
     ]
    },
    {
     "name": "stderr",
     "output_type": "stream",
     "text": [
      "100%|██████████| 2000/2000 [05:51<00:00,  5.69it/s]"
     ]
    },
    {
     "name": "stdout",
     "output_type": "stream",
     "text": [
      "Training_loss 0.00068,   Relative Error 0.00309\n"
     ]
    },
    {
     "name": "stderr",
     "output_type": "stream",
     "text": [
      "\n"
     ]
    }
   ],
   "source": [
    "#global_model = CNN_Net().cuda()\n",
    "models = [MLP_Net(input_size=datapoints[i]['input_size'], user_id=i) for i in range(no_users)]\n",
    "dummy_models = [MLP_Net(input_size=datapoints[i]['input_size'], user_id=i) for i in range(no_users)]\n",
    "\n",
    "#model.load_state_dict(global_model.state_dict())\n",
    "\n",
    "criterion = nn.MSELoss()\n",
    "\n",
    "\n",
    "train_loss = []\n",
    "test_loss = []\n",
    "test_accuracy = []\n",
    "total_rel_error = []\n",
    "\n",
    "in_cluster_proj_norm = []\n",
    "out_cluster_proj_norm = []\n",
    "in_cluster_proj_diff_norm = []\n",
    "out_cluster_proj_diff_norm = []\n",
    "task_loss = {'0':[],\n",
    "                '1':[],\n",
    "                '2':[],\n",
    "                '3':[]}\n",
    "task_rel_error = {'0':[],\n",
    "            '1':[],\n",
    "            '2':[],\n",
    "            '3':[]}\n",
    "\n",
    "for curr_round in tqdm(range(1, it+1)):\n",
    "    w, local_loss = [], []\n",
    "\n",
    "    \n",
    "    for i in range(no_users):\n",
    "        dummy_models[i].load_state_dict(models[i].state_dict())\n",
    "        local_update = ClientUpdate(dataset=datapoints[i], batchSize=batch_size, alpha=alpha, lamda=lamda, epochs=1, projection_list=projection_list, projected_weights=projected_weights)\n",
    "        weights, loss = local_update.train(dummy_models[i])\n",
    "        w.append(weights)\n",
    "        local_loss.append(loss)\n",
    "        models[i].load_state_dict(w[i])\n",
    "        \n",
    "    \n",
    "    \n",
    "    # Update prjection matrix\n",
    "    projected_weights = []\n",
    "    update_ProjWeight(projection_list, projected_weights, models, first_run=False)\n",
    "    \n",
    "    #print(projection_list[0], projected_weights[0])\n",
    "    \n",
    "    for i in range(no_users):\n",
    "        weights = parameters_to_vector(models[i].parameters())\n",
    "        for j in G.neighbors(i):\n",
    "            temp_mat = torch.outer(projected_weights[i][j] - projected_weights[j][i], weights).clone()\n",
    "            projection_list[i][j] = torch.add(projection_list[i][j], -1 * eta * lamda * temp_mat)\n",
    "    \n",
    "    in_cluster_proj_norm_round = 0\n",
    "    out_cluster_proj_norm_round = 0\n",
    "    in_cluster_proj_diff_round = 0\n",
    "    out_cluster_proj_diff_round = 0\n",
    "    in_edges = 0\n",
    "    out_edges = 0\n",
    "    \n",
    "    for i in range(no_users//4):\n",
    "        for j in G.neighbors(i):\n",
    "            if j < no_users//4:\n",
    "                in_edges += 1\n",
    "                in_cluster_proj_norm_round += torch.norm(projection_list[i][j]).detach().numpy()\n",
    "                in_cluster_proj_diff_round += torch.norm(projected_weights[i][j] - projected_weights[j][i]).detach().numpy()\n",
    "            else:\n",
    "                out_edges += 1\n",
    "                out_cluster_proj_norm_round += torch.norm(projection_list[i][j]).detach().numpy()\n",
    "                out_cluster_proj_diff_round += torch.norm(projected_weights[i][j] - projected_weights[j][i]).detach().numpy()\n",
    "    in_cluster_proj_norm.append(in_cluster_proj_norm_round / in_edges)\n",
    "    out_cluster_proj_norm.append(out_cluster_proj_norm_round / out_edges)\n",
    "    in_cluster_proj_diff_norm.append(in_cluster_proj_diff_round / in_edges)\n",
    "    out_cluster_proj_diff_norm.append(out_cluster_proj_diff_round / out_edges)\n",
    "            \n",
    "                                         \n",
    "                                              \n",
    "    \n",
    "        \n",
    "        \n",
    "        \n",
    "    \n",
    "    \n",
    "\n",
    "\n",
    "\n",
    "\n",
    "          \n",
    "            \n",
    "\n",
    "    local_test_acc = []\n",
    "    local_test_loss = []\n",
    "    user_rel_error = 0\n",
    "    per_task_loss = []\n",
    "    per_task_rel_error = []\n",
    "    \n",
    "    for k in range(no_users):\n",
    "      \n",
    "        g_loss = testing(models[i], datapoints[i], 50, criterion)\n",
    "        local_test_loss.append(g_loss)\n",
    "        user_rel_error += rel_error(models[i])\n",
    "        if (k + 1) % 10 == 0:\n",
    "            task_loss[str(k // 10)].append(sum(per_task_loss) / 10)\n",
    "            task_rel_error[str(k // 10)].append(sum(per_task_rel_error) / 10)\n",
    "            per_task_loss = []\n",
    "            per_task_rel_error = []\n",
    "        per_task_loss.append(g_loss)\n",
    "        per_task_rel_error.append(rel_error(models[i]))\n",
    "    \n",
    "    \n",
    "        \n",
    "\n",
    "    g_loss = sum(local_test_loss) / len(local_test_loss)\n",
    "    total_rel_error.append(user_rel_error / no_users)\n",
    "    \n",
    "    \n",
    "\n",
    "    test_loss.append(g_loss)\n",
    "    #test_accuracy.append(g_accuracy)\n",
    "    print(\"Training_loss %2.5f,   Relative Error %2.5f\"% (test_loss[-1], total_rel_error[-1]))"
   ]
  },
  {
   "cell_type": "code",
   "execution_count": 18,
   "id": "2ff0ff71",
   "metadata": {},
   "outputs": [
    {
     "name": "stdout",
     "output_type": "stream",
     "text": [
      "tensor([ 1.9913,  2.0138,  0.0238,  5.0157,  1.9681, -2.9953, -5.0207],\n",
      "       grad_fn=<CatBackward0>) [ 2.  2.  0.  5.  2. -3. -5.]\n"
     ]
    }
   ],
   "source": [
    "#plot.plot(test_loss)\n",
    "print(parameters_to_vector(models[19].parameters()), W[1])"
   ]
  },
  {
   "cell_type": "code",
   "execution_count": 19,
   "id": "fb295047",
   "metadata": {},
   "outputs": [
    {
     "name": "stdout",
     "output_type": "stream",
     "text": [
      "0\n",
      "4\n",
      "5\n",
      "6\n",
      "15\n",
      "16\n",
      "19\n",
      "25\n",
      "31\n"
     ]
    }
   ],
   "source": [
    "for i in G.neighbors(3):\n",
    "    print(i)"
   ]
  },
  {
   "cell_type": "code",
   "execution_count": 20,
   "id": "2561d143",
   "metadata": {},
   "outputs": [],
   "source": [
    "test_loss = np.array(test_loss)\n",
    "total_rel_error = np.array(total_rel_error)\n",
    "\n",
    "in_cluster_proj_norm = np.array(in_cluster_proj_norm)\n",
    "out_cluster_proj_norm = np.array(out_cluster_proj_norm)\n",
    "in_cluster_proj_diff_norm = np.array(in_cluster_proj_diff_norm)\n",
    "out_cluster_proj_diff_norm = np.array(out_cluster_proj_diff_norm)\n"
   ]
  },
  {
   "cell_type": "code",
   "execution_count": 21,
   "id": "d61db64c",
   "metadata": {},
   "outputs": [],
   "source": [
    "np.save( 'training_loss_sheave_fml' + str(lamda).replace('.', '_')+ '_pout' + str(pout).replace('.', '_'), test_loss)\n",
    "np.save('relative_error_sheave_fml' + str(lamda).replace('.', '_')+ '_pout' + str(pout).replace('.', '_'), total_rel_error)\n",
    "np.save( 'in_cluster_proj_norm_sheave_fml' + str(lamda).replace('.', '_')+ '_pout' + str(pout).replace('.', '_'), in_cluster_proj_norm)\n",
    "np.save('out_cluster_proj_norm_sheave_fml' + str(lamda).replace('.', '_')+ '_pout' + str(pout).replace('.', '_'), out_cluster_proj_norm)\n",
    "np.save( 'in_cluster_proj_diff_norm_sheave_fml' + str(lamda).replace('.', '_')+ '_pout' + str(pout).replace('.', '_'), in_cluster_proj_diff_norm)\n",
    "np.save('out_cluster_proj_diff_norm_sheave_fml' + str(lamda).replace('.', '_')+ '_pout' + str(pout).replace('.', '_'), out_cluster_proj_diff_norm)"
   ]
  },
  {
   "cell_type": "code",
   "execution_count": 22,
   "id": "725be3f4",
   "metadata": {},
   "outputs": [
    {
     "data": {
      "text/plain": [
       "'training_loss_sheave_fml0_pout0_1'"
      ]
     },
     "execution_count": 22,
     "metadata": {},
     "output_type": "execute_result"
    }
   ],
   "source": [
    "'training_loss_sheave_fml' + str(lamda).replace('.', '_')+ '_pout' + str(pout).replace('.', '_')"
   ]
  },
  {
   "cell_type": "code",
   "execution_count": 23,
   "id": "b1bb8533",
   "metadata": {},
   "outputs": [
    {
     "data": {
      "text/plain": [
       "'relative_error_sheave_fml0_pout0_1'"
      ]
     },
     "execution_count": 23,
     "metadata": {},
     "output_type": "execute_result"
    }
   ],
   "source": [
    "'relative_error_sheave_fml' + str(lamda).replace('.', '_')+ '_pout' + str(pout).replace('.', '_')"
   ]
  },
  {
   "cell_type": "code",
   "execution_count": 24,
   "id": "8de6635c",
   "metadata": {},
   "outputs": [
    {
     "data": {
      "text/plain": [
       "'in_cluster_proj_norm_sheave_fml0_pout0_1'"
      ]
     },
     "execution_count": 24,
     "metadata": {},
     "output_type": "execute_result"
    }
   ],
   "source": [
    "'in_cluster_proj_norm_sheave_fml' + str(lamda).replace('.', '_')+ '_pout' + str(pout).replace('.', '_')"
   ]
  },
  {
   "cell_type": "code",
   "execution_count": 25,
   "id": "01662d4c",
   "metadata": {},
   "outputs": [
    {
     "data": {
      "text/plain": [
       "'out_cluster_proj_norm_sheave_fml0_pout0_1'"
      ]
     },
     "execution_count": 25,
     "metadata": {},
     "output_type": "execute_result"
    }
   ],
   "source": [
    "'out_cluster_proj_norm_sheave_fml' + str(lamda).replace('.', '_')+ '_pout' + str(pout).replace('.', '_')"
   ]
  },
  {
   "cell_type": "code",
   "execution_count": 26,
   "id": "6c2b0b99",
   "metadata": {},
   "outputs": [
    {
     "data": {
      "text/plain": [
       "'in_cluster_proj_diff_norm_sheave_fml0_pout0_1'"
      ]
     },
     "execution_count": 26,
     "metadata": {},
     "output_type": "execute_result"
    }
   ],
   "source": [
    "'in_cluster_proj_diff_norm_sheave_fml' + str(lamda).replace('.', '_')+ '_pout' + str(pout).replace('.', '_')"
   ]
  },
  {
   "cell_type": "code",
   "execution_count": 27,
   "id": "f7db9082",
   "metadata": {},
   "outputs": [
    {
     "data": {
      "text/plain": [
       "'out_cluster_proj_diff_norm_sheave_fml0_pout0_1'"
      ]
     },
     "execution_count": 27,
     "metadata": {},
     "output_type": "execute_result"
    }
   ],
   "source": [
    "'out_cluster_proj_diff_norm_sheave_fml' + str(lamda).replace('.', '_')+ '_pout' + str(pout).replace('.', '_')"
   ]
  },
  {
   "cell_type": "code",
   "execution_count": 28,
   "id": "54d29a2d",
   "metadata": {},
   "outputs": [],
   "source": [
    "# task_loss dictionary\n",
    "for key, value in task_loss.items():\n",
    "    # Convert the list to a NumPy array\n",
    "    array_loss = np.array(value)\n",
    "    \n",
    "    # Save the NumPy array using the specified format\n",
    "    np.save('training_loss_sheave_fml_task' + key + '_' + str(lamda).replace('.', '_') + '_pout' + str(pout).replace('.', '_'), array_loss)\n",
    "\n",
    "# task_rel_error dictionary\n",
    "for key, value in task_rel_error.items():\n",
    "    # Convert the list to a NumPy array\n",
    "    array_rel_error = np.array(value)\n",
    "    \n",
    "    # Save the NumPy array using the specified format\n",
    "    np.save('relative_error_sheave_fml_task' + key + '_' + str(lamda).replace('.', '_') + '_pout' + str(pout).replace('.', '_'), array_rel_error)"
   ]
  },
  {
   "cell_type": "code",
   "execution_count": 29,
   "id": "0c103fdb",
   "metadata": {},
   "outputs": [
    {
     "data": {
      "text/plain": [
       "'relative_error_sheave_fml_task3_0_pout0_1'"
      ]
     },
     "execution_count": 29,
     "metadata": {},
     "output_type": "execute_result"
    }
   ],
   "source": [
    "'relative_error_sheave_fml_task' + key + '_' + str(lamda).replace('.', '_') + '_pout' + str(pout).replace('.', '_')"
   ]
  },
  {
   "cell_type": "code",
   "execution_count": 30,
   "id": "a9e6306b",
   "metadata": {},
   "outputs": [
    {
     "data": {
      "text/plain": [
       "[63.13539276123047,\n",
       " 60.65997734069824,\n",
       " 57.56063976287842,\n",
       " 54.65097942352295,\n",
       " 52.76997756958008,\n",
       " 51.81614799499512,\n",
       " 51.20059776306152,\n",
       " 49.64694728851318,\n",
       " 46.08466129302978,\n",
       " 44.88493022918701,\n",
       " 44.09264945983887,\n",
       " 42.73548259735107,\n",
       " 41.439816856384276,\n",
       " 39.06672878265381,\n",
       " 37.98995876312256,\n",
       " 36.43961448669434,\n",
       " 33.99563026428223,\n",
       " 33.292541313171384,\n",
       " 32.019747734069824,\n",
       " 30.53561496734619,\n",
       " 28.722781562805174,\n",
       " 27.2619647026062,\n",
       " 26.236892223358154,\n",
       " 24.96845111846924,\n",
       " 24.655785369873048,\n",
       " 24.419215393066406,\n",
       " 23.646046543121336,\n",
       " 22.569285106658935,\n",
       " 21.432673931121826,\n",
       " 20.54486789703369,\n",
       " 19.926401996612547,\n",
       " 19.081475257873535,\n",
       " 18.27013235092163,\n",
       " 17.656451511383057,\n",
       " 17.356765937805175,\n",
       " 16.286538791656493,\n",
       " 15.80983943939209,\n",
       " 15.4324161529541,\n",
       " 14.980264377593993,\n",
       " 14.458524942398071,\n",
       " 14.087833356857299,\n",
       " 13.744899415969849,\n",
       " 13.526876592636109,\n",
       " 13.087453508377076,\n",
       " 12.432331895828247,\n",
       " 12.239828252792359,\n",
       " 12.025924444198608,\n",
       " 11.763131046295166,\n",
       " 11.374159240722657,\n",
       " 11.162485313415527,\n",
       " 10.873911809921264,\n",
       " 10.543810844421387,\n",
       " 10.257974481582641,\n",
       " 10.076959705352783,\n",
       " 9.755279159545898,\n",
       " 9.516249704360963,\n",
       " 9.254045534133912,\n",
       " 8.8666907787323,\n",
       " 8.565597581863404,\n",
       " 8.35343270301819,\n",
       " 8.139407014846801,\n",
       " 7.9705909252166744,\n",
       " 7.790882921218872,\n",
       " 7.505844783782959,\n",
       " 7.145720672607422,\n",
       " 6.940949892997741,\n",
       " 6.8007845163345335,\n",
       " 6.7369526624679565,\n",
       " 6.528336024284362,\n",
       " 6.2714297533035275,\n",
       " 5.967695546150208,\n",
       " 5.795751571655273,\n",
       " 5.662620663642883,\n",
       " 5.494645500183106,\n",
       " 5.358386492729187,\n",
       " 5.2466984510421755,\n",
       " 5.1754755020141605,\n",
       " 5.080114388465882,\n",
       " 4.968083238601684,\n",
       " 4.842573451995849,\n",
       " 4.695054531097412,\n",
       " 4.543777298927307,\n",
       " 4.444854211807251,\n",
       " 4.319329833984375,\n",
       " 4.247509288787842,\n",
       " 4.1011314868927,\n",
       " 3.974658894538879,\n",
       " 3.8848984479904174,\n",
       " 3.823186182975769,\n",
       " 3.778555083274841,\n",
       " 3.6354308009147642,\n",
       " 3.5158089995384216,\n",
       " 3.4084550857543947,\n",
       " 3.28767124414444,\n",
       " 3.2252194404602053,\n",
       " 3.124677050113678,\n",
       " 3.0330311179161074,\n",
       " 2.955832314491272,\n",
       " 2.859525990486145,\n",
       " 2.7799362659454347,\n",
       " 2.7007823467254637,\n",
       " 2.627946102619171,\n",
       " 2.5768358588218687,\n",
       " 2.5393421173095705,\n",
       " 2.4805814623832703,\n",
       " 2.419843375682831,\n",
       " 2.343499982357025,\n",
       " 2.3052173495292663,\n",
       " 2.272263729572296,\n",
       " 2.1941742181777952,\n",
       " 2.125719094276428,\n",
       " 2.072883331775665,\n",
       " 1.9879791855812072,\n",
       " 1.9570577144622803,\n",
       " 1.9246580243110656,\n",
       " 1.8805928707122803,\n",
       " 1.8363094925880432,\n",
       " 1.784519362449646,\n",
       " 1.7311662554740905,\n",
       " 1.6909286677837372,\n",
       " 1.6307968139648437,\n",
       " 1.596308809518814,\n",
       " 1.5624480664730072,\n",
       " 1.525137037038803,\n",
       " 1.46411013007164,\n",
       " 1.4110909581184388,\n",
       " 1.3855381429195404,\n",
       " 1.345391535758972,\n",
       " 1.3218299925327301,\n",
       " 1.2865137219429017,\n",
       " 1.2405864715576171,\n",
       " 1.2221249341964722,\n",
       " 1.2025706112384795,\n",
       " 1.1674447238445282,\n",
       " 1.1396575748920441,\n",
       " 1.1124487102031708,\n",
       " 1.0969563245773315,\n",
       " 1.064345920085907,\n",
       " 1.0225230395793914,\n",
       " 0.9797385334968567,\n",
       " 0.964105224609375,\n",
       " 0.9463668644428254,\n",
       " 0.9307333946228027,\n",
       " 0.9155631691217423,\n",
       " 0.906348466873169,\n",
       " 0.8762165576219558,\n",
       " 0.863713949918747,\n",
       " 0.8302725434303284,\n",
       " 0.8032820910215378,\n",
       " 0.7805208116769791,\n",
       " 0.7506294965744018,\n",
       " 0.7343901693820953,\n",
       " 0.7130725890398025,\n",
       " 0.6926220327615737,\n",
       " 0.6713437736034393,\n",
       " 0.6566222548484802,\n",
       " 0.6414449214935303,\n",
       " 0.6279012948274613,\n",
       " 0.6052643895149231,\n",
       " 0.5860820353031159,\n",
       " 0.5750738739967346,\n",
       " 0.5533593535423279,\n",
       " 0.5412267833948136,\n",
       " 0.5273168742656708,\n",
       " 0.5117405623197555,\n",
       " 0.5022010445594788,\n",
       " 0.49353166222572326,\n",
       " 0.47645304501056673,\n",
       " 0.4637386232614517,\n",
       " 0.4460573002696037,\n",
       " 0.42846549600362777,\n",
       " 0.4122913330793381,\n",
       " 0.39374951720237733,\n",
       " 0.38326654583215714,\n",
       " 0.3786288723349571,\n",
       " 0.36641764640808105,\n",
       " 0.3552441135048866,\n",
       " 0.3453026130795479,\n",
       " 0.3380040407180786,\n",
       " 0.32955185025930406,\n",
       " 0.3216633930802345,\n",
       " 0.31456307619810103,\n",
       " 0.30510752499103544,\n",
       " 0.2957237496972084,\n",
       " 0.28817554414272306,\n",
       " 0.2777824535965919,\n",
       " 0.2714303657412529,\n",
       " 0.265078304708004,\n",
       " 0.25410364419221876,\n",
       " 0.2437002807855606,\n",
       " 0.235068878531456,\n",
       " 0.22907712534070016,\n",
       " 0.22307536080479623,\n",
       " 0.21626108139753342,\n",
       " 0.21122203543782234,\n",
       " 0.2053962841629982,\n",
       " 0.1996017202734947,\n",
       " 0.1928752228617668,\n",
       " 0.18953473269939422,\n",
       " 0.18524231314659118,\n",
       " 0.1810804434120655,\n",
       " 0.17744736447930337,\n",
       " 0.17413246929645537,\n",
       " 0.17155044749379159,\n",
       " 0.16433840990066528,\n",
       " 0.1616907611489296,\n",
       " 0.15573057755827904,\n",
       " 0.14951941296458243,\n",
       " 0.14492178484797477,\n",
       " 0.14371511936187745,\n",
       " 0.1413444086909294,\n",
       " 0.1369016647338867,\n",
       " 0.13485156521201133,\n",
       " 0.13028849065303802,\n",
       " 0.12694730311632157,\n",
       " 0.1239593893289566,\n",
       " 0.12186694443225861,\n",
       " 0.11839323565363884,\n",
       " 0.11552362404763698,\n",
       " 0.11085285879671573,\n",
       " 0.10793544352054596,\n",
       " 0.10606590025126934,\n",
       " 0.10463239699602127,\n",
       " 0.10291960537433624,\n",
       " 0.09926294647157193,\n",
       " 0.09669133834540844,\n",
       " 0.09338538162410259,\n",
       " 0.09187515042722225,\n",
       " 0.08892331905663013,\n",
       " 0.0871005266904831,\n",
       " 0.08485082052648067,\n",
       " 0.08363936729729175,\n",
       " 0.08088329695165157,\n",
       " 0.07892168015241623,\n",
       " 0.07624188847839833,\n",
       " 0.07497004196047782,\n",
       " 0.07190352939069271,\n",
       " 0.07070683166384698,\n",
       " 0.06989560425281524,\n",
       " 0.06728795729577541,\n",
       " 0.06646160557866096,\n",
       " 0.0643281765282154,\n",
       " 0.06331281289458275,\n",
       " 0.06205640584230423,\n",
       " 0.061623158678412435,\n",
       " 0.059929749369621275,\n",
       " 0.058952932432293895,\n",
       " 0.05782275181263685,\n",
       " 0.05534362457692623,\n",
       " 0.054072188772261144,\n",
       " 0.053043310157954694,\n",
       " 0.05269740913063288,\n",
       " 0.051770161092281344,\n",
       " 0.050499243289232255,\n",
       " 0.048991238325834276,\n",
       " 0.04760179538279772,\n",
       " 0.045345214381814006,\n",
       " 0.04417204298079014,\n",
       " 0.0427751736715436,\n",
       " 0.04208229035139084,\n",
       " 0.0405382264405489,\n",
       " 0.03878196123987436,\n",
       " 0.03754955660551786,\n",
       " 0.036609943583607675,\n",
       " 0.03589853961020708,\n",
       " 0.03472613263875246,\n",
       " 0.0337764261290431,\n",
       " 0.032385675609111785,\n",
       " 0.03199897482991219,\n",
       " 0.03144002594053745,\n",
       " 0.03069330397993326,\n",
       " 0.029948442801833154,\n",
       " 0.029149206541478633,\n",
       " 0.028259680420160294,\n",
       " 0.027734042890369893,\n",
       " 0.027060116082429884,\n",
       " 0.02672080658376217,\n",
       " 0.026221330650150775,\n",
       " 0.02577777961269021,\n",
       " 0.024805498123168946,\n",
       " 0.024579889979213475,\n",
       " 0.02348496951162815,\n",
       " 0.023078976944088937,\n",
       " 0.022495898231863976,\n",
       " 0.021771384961903097,\n",
       " 0.021324881818145514,\n",
       " 0.020895247254520653,\n",
       " 0.02050023414194584,\n",
       " 0.019870064221322536,\n",
       " 0.019448983389884232,\n",
       " 0.01855526464059949,\n",
       " 0.018301944248378277,\n",
       " 0.01755104139447212,\n",
       " 0.017101774737238885,\n",
       " 0.016780236549675465,\n",
       " 0.016002905555069447,\n",
       " 0.01551587088033557,\n",
       " 0.015153517853468657,\n",
       " 0.014597460301592946,\n",
       " 0.014018915360793471,\n",
       " 0.013491126615554095,\n",
       " 0.013256968930363655,\n",
       " 0.012727057468146086,\n",
       " 0.012219402892515063,\n",
       " 0.011932173511013389,\n",
       " 0.011583501845598221,\n",
       " 0.011234590457752347,\n",
       " 0.010977721586823464,\n",
       " 0.010759784141555429,\n",
       " 0.010709497332572936,\n",
       " 0.01051631080918014,\n",
       " 0.010180756822228432,\n",
       " 0.010005494160577656,\n",
       " 0.009681216347962618,\n",
       " 0.009503658302128315,\n",
       " 0.00912428623996675,\n",
       " 0.009048300934955478,\n",
       " 0.008739589573815465,\n",
       " 0.008430279744789004,\n",
       " 0.008222952950745821,\n",
       " 0.00793225052766502,\n",
       " 0.007889100071042775,\n",
       " 0.007603842951357365,\n",
       " 0.00737433722242713,\n",
       " 0.007185146771371364,\n",
       " 0.0070482830749824645,\n",
       " 0.006766346655786038,\n",
       " 0.006697805528528988,\n",
       " 0.006628934573382139,\n",
       " 0.006598663539625705,\n",
       " 0.006432018312625587,\n",
       " 0.006397293764166534,\n",
       " 0.006061933608725667,\n",
       " 0.005897679948247969,\n",
       " 0.005784622742794454,\n",
       " 0.005616267817094922,\n",
       " 0.005457988567650318,\n",
       " 0.0054583215387538075,\n",
       " 0.005349493003450334,\n",
       " 0.005185347888618708,\n",
       " 0.0050808639032766225,\n",
       " 0.004831909015774727,\n",
       " 0.00477423460688442,\n",
       " 0.004727474274113774,\n",
       " 0.004703859728761017,\n",
       " 0.004498097836039961,\n",
       " 0.004458073619753122,\n",
       " 0.00431189239025116,\n",
       " 0.004151578433811665,\n",
       " 0.004111432051286101,\n",
       " 0.003976033302024007,\n",
       " 0.003898155363276601,\n",
       " 0.0038444862468168138,\n",
       " 0.0037943972507491707,\n",
       " 0.003717144497204572,\n",
       " 0.003644762362819165,\n",
       " 0.00337628445122391,\n",
       " 0.0033593868487514556,\n",
       " 0.003303684701677412,\n",
       " 0.0032103982055559756,\n",
       " 0.003149599547032267,\n",
       " 0.003087336046155542,\n",
       " 0.003110171284060925,\n",
       " 0.002993858337868005,\n",
       " 0.0029090675292536617,\n",
       " 0.0029346261522732674,\n",
       " 0.002763475861866027,\n",
       " 0.002708135393913835,\n",
       " 0.002523829182609916,\n",
       " 0.0024624337325803935,\n",
       " 0.002434980485122651,\n",
       " 0.0024334251182153823,\n",
       " 0.002319269464351237,\n",
       " 0.002259010705165565,\n",
       " 0.0022391922189854085,\n",
       " 0.0021215226617641745,\n",
       " 0.002109612396452576,\n",
       " 0.0020783097599633036,\n",
       " 0.0021076754434034227,\n",
       " 0.0020282942103222014,\n",
       " 0.001986429485259578,\n",
       " 0.0019876621488947423,\n",
       " 0.0019733009627088904,\n",
       " 0.0019234257575590163,\n",
       " 0.001896811748156324,\n",
       " 0.001775959477527067,\n",
       " 0.0017560155771207064,\n",
       " 0.0017310722381807865,\n",
       " 0.0016744909866247327,\n",
       " 0.001642722001997754,\n",
       " 0.0016281812335364521,\n",
       " 0.001662062352988869,\n",
       " 0.001625758077716455,\n",
       " 0.0016353931801859289,\n",
       " 0.0015353311726357787,\n",
       " 0.0015062239137478173,\n",
       " 0.001457605417817831,\n",
       " 0.0014841593918390572,\n",
       " 0.001423913467442617,\n",
       " 0.001459325960604474,\n",
       " 0.0014299712260253728,\n",
       " 0.0013997112459037454,\n",
       " 0.0013955592701677233,\n",
       " 0.0013438860420137643,\n",
       " 0.0013324661180377007,\n",
       " 0.001334210654022172,\n",
       " 0.0012768245302140712,\n",
       " 0.0011870033747982233,\n",
       " 0.0011806693801190704,\n",
       " 0.0012126944318879395,\n",
       " 0.0011581038823351264,\n",
       " 0.0011160319671034812,\n",
       " 0.0010476207331521436,\n",
       " 0.0010069396113976837,\n",
       " 0.0009810219024075195,\n",
       " 0.0009840478218393401,\n",
       " 0.0009367994527565316,\n",
       " 0.0009856050222879277,\n",
       " 0.0010208253079326823,\n",
       " 0.0009997777990065515,\n",
       " 0.0009375417226692662,\n",
       " 0.0009445675124879927,\n",
       " 0.0009277572651626542,\n",
       " 0.0008913295663660392,\n",
       " 0.0009248564456356689,\n",
       " 0.0009249215887393803,\n",
       " 0.0009068248502444476,\n",
       " 0.0008828260470181704,\n",
       " 0.0008895192586351186,\n",
       " 0.0008029652119148523,\n",
       " 0.0007623732264619321,\n",
       " 0.0008063476241659373,\n",
       " 0.000772238097852096,\n",
       " 0.0007740547182038427,\n",
       " 0.0007545265863882378,\n",
       " 0.0007656715315533802,\n",
       " 0.0007967732381075621,\n",
       " 0.0007981483417097479,\n",
       " 0.0007381232542684301,\n",
       " 0.0007069040177157149,\n",
       " 0.0006437232485041022,\n",
       " 0.0006394937401637435,\n",
       " 0.0006301932589849457,\n",
       " 0.000654145490261726,\n",
       " 0.0006691591552225873,\n",
       " 0.0006186573766171933,\n",
       " 0.0006476536276750266,\n",
       " 0.0006375327939167619,\n",
       " 0.0006247909914236516,\n",
       " 0.000632177700754255,\n",
       " 0.0006729407818056643,\n",
       " 0.0006389840418705717,\n",
       " 0.0006368626869516447,\n",
       " 0.0006419148790882901,\n",
       " 0.0006266525073442608,\n",
       " 0.0006318915635347367,\n",
       " 0.0006398925877874717,\n",
       " 0.0006395718752173707,\n",
       " 0.0006649665534496308,\n",
       " 0.0006759144715033471,\n",
       " 0.0007044574711471796,\n",
       " 0.0007175216887844726,\n",
       " 0.0007092873856890947,\n",
       " 0.0006844006507890299,\n",
       " 0.000661591999232769,\n",
       " 0.0006184251978993416,\n",
       " 0.0006278559390921146,\n",
       " 0.0006266237731324508,\n",
       " 0.0006141024408861995,\n",
       " 0.0006115356663940474,\n",
       " 0.0006548020552145317,\n",
       " 0.000659805946634151,\n",
       " 0.0006341598113067448,\n",
       " 0.0006179462507134303,\n",
       " 0.00057467354927212,\n",
       " 0.0005963428382528945,\n",
       " 0.0005466828646603972,\n",
       " 0.0005727944313548506,\n",
       " 0.0005746228387579321,\n",
       " 0.0005739754415117204,\n",
       " 0.0005613130575511605,\n",
       " 0.0005345559271518141,\n",
       " 0.0005408215307397768,\n",
       " 0.0005247445427812636,\n",
       " 0.0005579385295277461,\n",
       " 0.0005614923778921366,\n",
       " 0.0005773066717665642,\n",
       " 0.0005545836203964428,\n",
       " 0.0005745478731114418,\n",
       " 0.0006182949902722612,\n",
       " 0.0006060215004254132,\n",
       " 0.000586538709467277,\n",
       " 0.0005843461607582867,\n",
       " 0.0006278387561906129,\n",
       " 0.0006043936300557107,\n",
       " 0.0006095686956541612,\n",
       " 0.0006308023090241477,\n",
       " 0.0006335822981782258,\n",
       " 0.0006224254088010639,\n",
       " 0.0005934744200203568,\n",
       " 0.0005891103035537526,\n",
       " 0.0005454096011817455,\n",
       " 0.0005490567506058142,\n",
       " 0.0005607183877145872,\n",
       " 0.0005824480263981968,\n",
       " 0.0006042799243004993,\n",
       " 0.0006206601799931377,\n",
       " 0.0006047634029528126,\n",
       " 0.0006086095701903105,\n",
       " 0.0005478016391862184,\n",
       " 0.0005520362814422697,\n",
       " 0.0005691615573596209,\n",
       " 0.0006007461663102732,\n",
       " 0.000604296478559263,\n",
       " 0.0006185323814861477,\n",
       " 0.0005788421840406954,\n",
       " 0.0006040416163159534,\n",
       " 0.0006125966581748798,\n",
       " 0.0006335157406283543,\n",
       " 0.0006579327746294439,\n",
       " 0.0006743881531292573,\n",
       " 0.0007090695085935295,\n",
       " 0.0006910298456205055,\n",
       " 0.0006892690696986392,\n",
       " 0.0007215536723379045,\n",
       " 0.0007164406852098182,\n",
       " 0.0007164804206695408,\n",
       " 0.0007117272529285401,\n",
       " 0.0006997751304879784,\n",
       " 0.0007522442989284173,\n",
       " 0.0007627372106071562,\n",
       " 0.000773511963780038,\n",
       " 0.0007374146691290662,\n",
       " 0.0006988028035266325,\n",
       " 0.0007187117618741468,\n",
       " 0.0007494587567634881,\n",
       " 0.0007495797704905272,\n",
       " 0.0007660889765247703,\n",
       " 0.0007453671045368537,\n",
       " 0.0007260078680701553,\n",
       " 0.0007379184215096756,\n",
       " 0.0007401571492664516,\n",
       " 0.0007632540859049186,\n",
       " 0.0007574615883640945,\n",
       " 0.0007472266559489071,\n",
       " 0.0007274976989720017,\n",
       " 0.0007136547763366252,\n",
       " 0.0007016697549261153,\n",
       " 0.000675822637276724,\n",
       " 0.0007076914713252336,\n",
       " 0.0007408757141092792,\n",
       " 0.0006987448374275118,\n",
       " 0.0007234476157464087,\n",
       " 0.0007456564897438511,\n",
       " 0.0007394802320050076,\n",
       " 0.0007647409831406549,\n",
       " 0.0007471058517694474,\n",
       " 0.0007370539067778736,\n",
       " 0.0007444404851412401,\n",
       " 0.0007646373094758018,\n",
       " 0.0007664622331503779,\n",
       " 0.0007333634595852346,\n",
       " 0.0006725472252583131,\n",
       " 0.0006846952222986147,\n",
       " 0.0007136473897844553,\n",
       " 0.0007077746093273162,\n",
       " 0.0006566875643329694,\n",
       " 0.0006201864976901561,\n",
       " 0.0006527353660203516,\n",
       " 0.0006710533605655655,\n",
       " 0.0007016349176410585,\n",
       " 0.0007433403603499755,\n",
       " 0.000757334812078625,\n",
       " 0.0007144108763895929,\n",
       " 0.0007494336634408683,\n",
       " 0.0007623209181474522,\n",
       " 0.0007176973420428112,\n",
       " 0.0007259176840307191,\n",
       " 0.0006462636985816062,\n",
       " 0.0006776218913728371,\n",
       " 0.0007034265756374225,\n",
       " 0.000653236053767614,\n",
       " 0.0006855453044408933,\n",
       " 0.0007187267969129607,\n",
       " 0.0007501807529479265,\n",
       " 0.000777019711676985,\n",
       " 0.0007806893612723797,\n",
       " 0.0007436913001583889,\n",
       " 0.0007709638652158901,\n",
       " 0.0008207998587749898,\n",
       " 0.0008128774672513828,\n",
       " 0.0007782705535646528,\n",
       " 0.000767826204537414,\n",
       " 0.0007910316344350576,\n",
       " 0.0007860688929213211,\n",
       " 0.0007123792602214962,\n",
       " 0.0007407679280731827,\n",
       " 0.0006957607227377593,\n",
       " 0.0006976330565521494,\n",
       " 0.0007205584784969688,\n",
       " 0.0007298275275388732,\n",
       " 0.0007563418708741665,\n",
       " 0.0007512165466323495,\n",
       " 0.0007567378372186795,\n",
       " 0.0007847178349038586,\n",
       " 0.000838926195865497,\n",
       " 0.0008823532814858481,\n",
       " 0.0009152086393442004,\n",
       " 0.0008809567778371274,\n",
       " 0.0008059614017838612,\n",
       " 0.0007492840726627037,\n",
       " 0.0007814688520738855,\n",
       " 0.0007641144358785823,\n",
       " 0.0007892444817116484,\n",
       " 0.0008119361533317715,\n",
       " 0.0008432372967945411,\n",
       " 0.0008774579357123003,\n",
       " 0.0008029491553315892,\n",
       " 0.0007076741574564948,\n",
       " 0.0007242534309625625,\n",
       " 0.0007610101718455553,\n",
       " 0.0007490659860195592,\n",
       " 0.000725681078620255,\n",
       " 0.0007427381729939953,\n",
       " 0.0007779591396683827,\n",
       " 0.0007807612622855231,\n",
       " 0.000736880348995328,\n",
       " 0.0006915968813700601,\n",
       " 0.0007277936063474044,\n",
       " 0.0007628267660038546,\n",
       " 0.0008011258818442002,\n",
       " 0.0007524759275838733,\n",
       " 0.000714201747905463,\n",
       " 0.0007260384620167315,\n",
       " 0.0007441488734912128,\n",
       " 0.0007666651275940239,\n",
       " 0.0007845026033464819,\n",
       " 0.0007720293098827824,\n",
       " 0.0007603379694046452,\n",
       " 0.0007581700949231163,\n",
       " 0.0007534406322520226,\n",
       " 0.0007666538906050846,\n",
       " 0.0007687383389566093,\n",
       " 0.0007962653471622616,\n",
       " 0.0008178254880476743,\n",
       " 0.0007614410802489147,\n",
       " 0.0007869168010074645,\n",
       " 0.0007666508259717375,\n",
       " 0.0007673917862121016,\n",
       " 0.0007283884071512148,\n",
       " 0.0007485448935767635,\n",
       " 0.0007539093116065487,\n",
       " 0.000742816727142781,\n",
       " 0.000738297204952687,\n",
       " 0.0007624990859767423,\n",
       " 0.0007814906188286841,\n",
       " 0.0007853684277506545,\n",
       " 0.0007675306376768276,\n",
       " 0.0007285471918294206,\n",
       " 0.0007249026093631983,\n",
       " 0.0007583799830172211,\n",
       " 0.0007852461829315871,\n",
       " 0.000811357016209513,\n",
       " 0.0008454975293716415,\n",
       " 0.0008363599190488458,\n",
       " 0.0008595017250627279,\n",
       " 0.0008835743152303621,\n",
       " 0.0008950951363658532,\n",
       " 0.0008085196110187099,\n",
       " 0.0008085784153081477,\n",
       " 0.0008021788584301248,\n",
       " 0.0008145272615365684,\n",
       " 0.0008192591340048239,\n",
       " 0.0008739638346014544,\n",
       " 0.0009137628134340048,\n",
       " 0.0009714902378618717,\n",
       " 0.0009708739584311843,\n",
       " 0.000961714267032221,\n",
       " 0.0010033430415205657,\n",
       " 0.001007784769171849,\n",
       " 0.0010460493620485067,\n",
       " 0.001066190132405609,\n",
       " 0.0011059634678531438,\n",
       " 0.0010711830749642105,\n",
       " 0.0010854421590920538,\n",
       " 0.0010980602237395942,\n",
       " 0.0010760479315649718,\n",
       " 0.0010466756473761051,\n",
       " 0.00099962949170731,\n",
       " 0.0010044313268736005,\n",
       " 0.0009584399551386014,\n",
       " 0.0009891242953017354,\n",
       " 0.0009942365228198468,\n",
       " 0.000967248366214335,\n",
       " 0.0008946289191953838,\n",
       " 0.0009144349111011252,\n",
       " 0.0008886231284122914,\n",
       " 0.0008569468162022531,\n",
       " 0.0008778700634138658,\n",
       " 0.0009108490543439984,\n",
       " 0.0009094559820368886,\n",
       " 0.0009653162327595055,\n",
       " 0.0009816009347559883,\n",
       " 0.0009973486448870972,\n",
       " 0.0010003564384533092,\n",
       " 0.0010281596041750163,\n",
       " 0.0010462444508448244,\n",
       " 0.0010664900997653603,\n",
       " 0.0010502064717002213,\n",
       " 0.000978302236762829,\n",
       " 0.0010339726635720582,\n",
       " 0.0010218070121482015,\n",
       " 0.0009885923587717115,\n",
       " 0.0010115010954905301,\n",
       " 0.0010010563535615801,\n",
       " 0.000994074542541057,\n",
       " 0.0009804640605580062,\n",
       " 0.0009255933458916843,\n",
       " 0.000885248338454403,\n",
       " 0.0008570822887122631,\n",
       " 0.000862965572741814,\n",
       " 0.0008763836114667356,\n",
       " 0.0008735756215173751,\n",
       " 0.0009179927670629695,\n",
       " 0.0009162838803604245,\n",
       " 0.0009068123297765851,\n",
       " 0.0008792354492470622,\n",
       " 0.0008833544212393463,\n",
       " 0.0008847386401612311,\n",
       " 0.0009118229005252943,\n",
       " 0.0008833344880258664,\n",
       " 0.000907629617722705,\n",
       " 0.0009182877314742654,\n",
       " 0.000907281506806612,\n",
       " 0.0009222401131410152,\n",
       " 0.0008235231653088704,\n",
       " 0.0008168764732545241,\n",
       " 0.0008365769841475412,\n",
       " 0.0008281329501187429,\n",
       " 0.000788468448445201,\n",
       " 0.000833133069681935,\n",
       " 0.0008739693352254107,\n",
       " 0.0009189798933221027,\n",
       " 0.0008261081966338679,\n",
       " 0.0008452857291558757,\n",
       " 0.0008424392086453736,\n",
       " 0.000852805029717274,\n",
       " 0.000822418718598783,\n",
       " 0.0007818931073416025,\n",
       " 0.0008165477716829628,\n",
       " 0.0007304023165488616,\n",
       " 0.0007167041389038786,\n",
       " 0.0007276240823557601,\n",
       " 0.000723490520613268,\n",
       " 0.0007474651210941374,\n",
       " 0.0007736873551039026,\n",
       " 0.0007859303295845166,\n",
       " 0.000815617642365396,\n",
       " 0.000821539614116773,\n",
       " 0.0007627125887665898,\n",
       " 0.0007653510809177532,\n",
       " 0.0006584867922356352,\n",
       " 0.0006895440485095606,\n",
       " 0.000703068877919577,\n",
       " 0.0006801432988140732,\n",
       " 0.000652273470768705,\n",
       " 0.0006343957880744711,\n",
       " 0.0006406253232853487,\n",
       " 0.0006463698344305157,\n",
       " 0.000629169907188043,\n",
       " 0.0006300823559286072,\n",
       " 0.000629581484827213,\n",
       " 0.0006385540502378717,\n",
       " 0.0006857032247353345,\n",
       " 0.0007068034610711038,\n",
       " 0.0007076567650074139,\n",
       " 0.0006723386730300262,\n",
       " 0.0006957941193832084,\n",
       " 0.0006710565823595971,\n",
       " 0.0005761278356658295,\n",
       " 0.0006020219443598762,\n",
       " 0.0006071471114410087,\n",
       " 0.0006067310547223315,\n",
       " 0.0006159947079140693,\n",
       " 0.0006400286627467721,\n",
       " 0.0006211970408912748,\n",
       " 0.0006117634969996288,\n",
       " 0.0006201141251949594,\n",
       " 0.0006070427305530756,\n",
       " 0.0005708808166673407,\n",
       " 0.000609533124952577,\n",
       " 0.0006459507654653862,\n",
       " 0.0006105154840042815,\n",
       " 0.000628907632199116,\n",
       " 0.000601401473977603,\n",
       " 0.0006223488453542814,\n",
       " 0.0006307490839390084,\n",
       " 0.0006232208776054904,\n",
       " 0.0006258004606934265,\n",
       " 0.0006523294723592699,\n",
       " 0.0006789965758798644,\n",
       " 0.0007016918883891776,\n",
       " 0.0007173234567744658,\n",
       " 0.0007366585428826511,\n",
       " 0.0007633474917383865,\n",
       " 0.0007907390798209235,\n",
       " 0.0008222872798796743,\n",
       " 0.0008566126402001828,\n",
       " 0.0008120203914586454,\n",
       " 0.0008393911033635959,\n",
       " 0.0008004213043022901,\n",
       " 0.0007740391592960805,\n",
       " 0.0007890889188274741,\n",
       " 0.0008085461973678321,\n",
       " 0.0007803748303558677,\n",
       " 0.0007891987741459161,\n",
       " 0.0006997901131398976,\n",
       " 0.0007105252094333992,\n",
       " 0.0007425246963975951,\n",
       " 0.0007393502601189539,\n",
       " 0.0006648609414696693,\n",
       " 0.0006516523193567991,\n",
       " 0.0006741535908076912,\n",
       " 0.0006909359683049843,\n",
       " 0.0007125318370526657,\n",
       " 0.000699692071066238,\n",
       " 0.0007113860046956688,\n",
       " 0.0006370048125972971,\n",
       " 0.0006816838402301073,\n",
       " 0.0006792949192458764,\n",
       " 0.0007020995893981308,\n",
       " 0.000698200092301704,\n",
       " 0.0006871437857626006,\n",
       " 0.0007109662547009066,\n",
       " 0.0006598392123123631,\n",
       " 0.000658253303845413,\n",
       " 0.0006601229659281671,\n",
       " 0.0006870707060443237,\n",
       " 0.0006747113278834149,\n",
       " 0.0006602733948966489,\n",
       " 0.0006496965856058523,\n",
       " 0.0005982486472930759,\n",
       " 0.0006170335924252868,\n",
       " 0.0006293484417255968,\n",
       " 0.0006265362608246505,\n",
       " 0.0006481993681518361,\n",
       " 0.0007006789877777919,\n",
       " 0.0007252971088746562,\n",
       " 0.0007421001268085092,\n",
       " 0.0007488570408895612,\n",
       " 0.0007261993159772828,\n",
       " 0.0007856263808207586,\n",
       " 0.0007679897302296012,\n",
       " 0.0007405248790746555,\n",
       " 0.0006981502461712808,\n",
       " 0.0006888742296723649,\n",
       " 0.0006963830790482461,\n",
       " 0.0006873062113299966,\n",
       " 0.0006887048890348524,\n",
       " 0.0007210011477582157,\n",
       " 0.0007151850761147216,\n",
       " 0.000736718630651012,\n",
       " 0.000731742923380807,\n",
       " 0.0006885322742164135,\n",
       " 0.0006925124471308663,\n",
       " 0.0006957104575121775,\n",
       " 0.0006767202605260537,\n",
       " 0.000704326425329782,\n",
       " 0.0007440312125254423,\n",
       " 0.0007446163741406054,\n",
       " 0.0007410532794892788,\n",
       " 0.0007880307297455147,\n",
       " 0.0008105389162665233,\n",
       " 0.0008483828947646544,\n",
       " 0.0008464044774882495,\n",
       " 0.0008574590290663763,\n",
       " 0.0008816597837721929,\n",
       " 0.0008147553802700713,\n",
       " 0.000847359438193962,\n",
       " 0.0008655600337078795,\n",
       " 0.000910200530779548,\n",
       " 0.0009512276679743082,\n",
       " 0.0008807890611933544,\n",
       " 0.000787387287709862,\n",
       " 0.0007939260103739798,\n",
       " 0.000805856889928691,\n",
       " 0.000788476804154925,\n",
       " 0.0008150578622007742,\n",
       " 0.000848048011539504,\n",
       " 0.0008588374854298309,\n",
       " 0.0008814311411697417,\n",
       " 0.0008725572464754805,\n",
       " 0.000894451275235042,\n",
       " 0.000938741592108272,\n",
       " 0.0009653573302784935,\n",
       " 0.0009880639845505357,\n",
       " 0.0009020818717544899,\n",
       " 0.0008901275228708983,\n",
       " 0.0009320192271843553,\n",
       " 0.0009550068323733285,\n",
       " 0.0009905700164381415,\n",
       " 0.0010071079828776418,\n",
       " 0.001004337816266343,\n",
       " 0.0009919774689478799,\n",
       " 0.0009194543876219541,\n",
       " 0.0009506374510237948,\n",
       " 0.0009702777693746612,\n",
       " 0.000987534353043884,\n",
       " 0.0009932894725352525,\n",
       " 0.0009997145680245012,\n",
       " 0.001002374303061515,\n",
       " 0.0010126541834324597,\n",
       " 0.001017097377916798,\n",
       " 0.0010059795691631734,\n",
       " 0.0010415265918709339,\n",
       " 0.001040015072794631,\n",
       " 0.0009697852015960962,\n",
       " 0.0009745088231284171,\n",
       " 0.0010000634123571218,\n",
       " 0.0010145426786039025,\n",
       " 0.0010294837353285401,\n",
       " 0.001059896423248574,\n",
       " 0.0010272659885231406,\n",
       " 0.0009517411381239071,\n",
       " 0.0009508117160294205,\n",
       " 0.0009122523944824934,\n",
       " 0.000907084479695186,\n",
       " 0.0009102716197958216,\n",
       " 0.0008497664064634591,\n",
       " 0.0008689673035405576,\n",
       " 0.0008291253674542531,\n",
       " 0.0008636282931547612,\n",
       " 0.0008599870634498075,\n",
       " 0.0009052148699993268,\n",
       " 0.0009260460210498422,\n",
       " 0.0009800853033084423,\n",
       " 0.0009569997346261516,\n",
       " 0.000919089067610912,\n",
       " 0.000946388638112694,\n",
       " 0.0008379704755498097,\n",
       " 0.0008578190580010414,\n",
       " 0.0008376216050237417,\n",
       " 0.0007829189475160092,\n",
       " 0.0007852248614653945,\n",
       " 0.0007568853325210512,\n",
       " 0.0007625365687999874,\n",
       " 0.0007819798600394278,\n",
       " 0.0007464412716217339,\n",
       " 0.0007759815081954003,\n",
       " 0.0008073190343566239,\n",
       " 0.0008312249032314867,\n",
       " 0.0008007562661077827,\n",
       " 0.0008066383452387527,\n",
       " 0.0007821586565114558,\n",
       " 0.0007633088302100077,\n",
       " 0.0007825450098607689,\n",
       " 0.0008184799313312397,\n",
       " 0.0008623581728897989,\n",
       " 0.0008689036796567962,\n",
       " 0.0008076626399997622,\n",
       " 0.0007750709977699443,\n",
       " 0.0007235241791931912,\n",
       " 0.0007587814761791378,\n",
       " 0.0007568996341433376,\n",
       " 0.0007885911385528743,\n",
       " 0.0007862094731535763,\n",
       " 0.000771880688262172,\n",
       " 0.0007700827438384295,\n",
       " 0.0007944426499307156,\n",
       " 0.0008295115898363292,\n",
       " 0.0008626833907328546,\n",
       " 0.0008898501342628151,\n",
       " 0.0009340237331343815,\n",
       " 0.0009350268373964354,\n",
       " 0.0009271217073546723,\n",
       " 0.0009378379181725904,\n",
       " 0.0009622892393963411,\n",
       " 0.0009554129093885422,\n",
       " 0.0009219834697432816,\n",
       " 0.0008829525351757184,\n",
       " 0.0009102361538680271,\n",
       " 0.0008251461898908019,\n",
       " 0.0008283854811452329,\n",
       " 0.0008480301214149222,\n",
       " 0.0008590455661760643,\n",
       " 0.0008841851464239881,\n",
       " 0.0008699903410160914,\n",
       " 0.0008816420770017431,\n",
       " 0.0008388069370994344,\n",
       " 0.0008350726420758292,\n",
       " 0.0008333551115356386,\n",
       " 0.0008552680257707835,\n",
       " 0.0008297677617520094,\n",
       " 0.0008650087664136663,\n",
       " 0.0008622926892712712,\n",
       " 0.0007926875579869375,\n",
       " 0.0007739601598586888,\n",
       " 0.0007389596372377128,\n",
       " 0.000760892903781496,\n",
       " 0.0007785933616105467,\n",
       " ...]"
      ]
     },
     "execution_count": 30,
     "metadata": {},
     "output_type": "execute_result"
    }
   ],
   "source": [
    "task_loss['0']"
   ]
  },
  {
   "cell_type": "code",
   "execution_count": 31,
   "id": "5f1ef2e4",
   "metadata": {},
   "outputs": [
    {
     "data": {
      "text/plain": [
       "[70.15043640136719,\n",
       " 67.39997482299805,\n",
       " 63.95626640319824,\n",
       " 60.723310470581055,\n",
       " 58.63330841064453,\n",
       " 57.5734977722168,\n",
       " 56.88955307006836,\n",
       " 55.16327476501465,\n",
       " 51.20517921447754,\n",
       " 49.87214469909668,\n",
       " 48.9918327331543,\n",
       " 47.483869552612305,\n",
       " 46.044240951538086,\n",
       " 43.4074764251709,\n",
       " 42.2110652923584,\n",
       " 40.488460540771484,\n",
       " 37.77292251586914,\n",
       " 36.99171257019043,\n",
       " 35.577497482299805,\n",
       " 33.9284610748291,\n",
       " 31.914201736450195,\n",
       " 30.291071891784668,\n",
       " 29.15210247039795,\n",
       " 27.74272346496582,\n",
       " 27.39531707763672,\n",
       " 27.132461547851562,\n",
       " 26.273385047912598,\n",
       " 25.07698345184326,\n",
       " 23.814082145690918,\n",
       " 22.8276309967041,\n",
       " 22.140446662902832,\n",
       " 21.20163917541504,\n",
       " 20.30014705657959,\n",
       " 19.618279457092285,\n",
       " 19.285295486450195,\n",
       " 18.09615421295166,\n",
       " 17.56648826599121,\n",
       " 17.14712905883789,\n",
       " 16.64473819732666,\n",
       " 16.065027713775635,\n",
       " 15.653148174285889,\n",
       " 15.27211046218872,\n",
       " 15.029862880706787,\n",
       " 14.541615009307861,\n",
       " 13.81370210647583,\n",
       " 13.599809169769287,\n",
       " 13.362138271331787,\n",
       " 13.070145606994629,\n",
       " 12.637954711914062,\n",
       " 12.402761459350586,\n",
       " 12.08212423324585,\n",
       " 11.71534538269043,\n",
       " 11.397749423980713,\n",
       " 11.196621894836426,\n",
       " 10.83919906616211,\n",
       " 10.573610782623291,\n",
       " 10.282272815704346,\n",
       " 9.851878643035889,\n",
       " 9.517330646514893,\n",
       " 9.281591892242432,\n",
       " 9.043785572052002,\n",
       " 8.856212139129639,\n",
       " 8.65653657913208,\n",
       " 8.339827537536621,\n",
       " 7.939689636230469,\n",
       " 7.7121665477752686,\n",
       " 7.556427240371704,\n",
       " 7.4855029582977295,\n",
       " 7.253706693649292,\n",
       " 6.968255281448364,\n",
       " 6.630772829055786,\n",
       " 6.439723968505859,\n",
       " 6.2918007373809814,\n",
       " 6.105161666870117,\n",
       " 5.953762769699097,\n",
       " 5.829664945602417,\n",
       " 5.750528335571289,\n",
       " 5.644571542739868,\n",
       " 5.520092487335205,\n",
       " 5.380637168884277,\n",
       " 5.216727256774902,\n",
       " 5.0486414432525635,\n",
       " 4.938726902008057,\n",
       " 4.79925537109375,\n",
       " 4.719454765319824,\n",
       " 4.556812763214111,\n",
       " 4.416287660598755,\n",
       " 4.316553831100464,\n",
       " 4.2479846477508545,\n",
       " 4.198394536972046,\n",
       " 4.0393675565719604,\n",
       " 3.9064544439315796,\n",
       " 3.787172317504883,\n",
       " 3.6529680490493774,\n",
       " 3.5835771560668945,\n",
       " 3.4718633890151978,\n",
       " 3.3700345754623413,\n",
       " 3.2842581272125244,\n",
       " 3.177251100540161,\n",
       " 3.088818073272705,\n",
       " 3.0008692741394043,\n",
       " 2.9199401140213013,\n",
       " 2.863150954246521,\n",
       " 2.821491241455078,\n",
       " 2.7562016248703003,\n",
       " 2.688714861869812,\n",
       " 2.6038888692855835,\n",
       " 2.5613526105880737,\n",
       " 2.5247374773025513,\n",
       " 2.437971353530884,\n",
       " 2.361910104751587,\n",
       " 2.3032037019729614,\n",
       " 2.208865761756897,\n",
       " 2.174508571624756,\n",
       " 2.138508915901184,\n",
       " 2.089547634124756,\n",
       " 2.0403438806533813,\n",
       " 1.9827992916107178,\n",
       " 1.9235180616378784,\n",
       " 1.878809630870819,\n",
       " 1.8119964599609375,\n",
       " 1.7736764550209045,\n",
       " 1.7360534071922302,\n",
       " 1.6945967078208923,\n",
       " 1.6267890334129333,\n",
       " 1.5678788423538208,\n",
       " 1.539486825466156,\n",
       " 1.4948794841766357,\n",
       " 1.4686999917030334,\n",
       " 1.4294596910476685,\n",
       " 1.3784294128417969,\n",
       " 1.3579165935516357,\n",
       " 1.3361895680427551,\n",
       " 1.297160804271698,\n",
       " 1.2662861943244934,\n",
       " 1.2360541224479675,\n",
       " 1.2188403606414795,\n",
       " 1.18260657787323,\n",
       " 1.1361367106437683,\n",
       " 1.088598370552063,\n",
       " 1.07122802734375,\n",
       " 1.051518738269806,\n",
       " 1.0341482162475586,\n",
       " 1.0172924101352692,\n",
       " 1.0070538520812988,\n",
       " 0.9735739529132843,\n",
       " 0.9596821665763855,\n",
       " 0.9225250482559204,\n",
       " 0.8925356566905975,\n",
       " 0.8672453463077545,\n",
       " 0.8340327739715576,\n",
       " 0.815989077091217,\n",
       " 0.7923028767108917,\n",
       " 0.7695800364017487,\n",
       " 0.7459375262260437,\n",
       " 0.729580283164978,\n",
       " 0.7127165794372559,\n",
       " 0.6976681053638458,\n",
       " 0.6725159883499146,\n",
       " 0.6512022614479065,\n",
       " 0.6389709711074829,\n",
       " 0.6148437261581421,\n",
       " 0.6013630926609039,\n",
       " 0.5859076380729675,\n",
       " 0.5686006247997284,\n",
       " 0.5580011606216431,\n",
       " 0.548368513584137,\n",
       " 0.529392272233963,\n",
       " 0.5152651369571686,\n",
       " 0.4956192225217819,\n",
       " 0.4760727733373642,\n",
       " 0.4581014811992645,\n",
       " 0.437499463558197,\n",
       " 0.4258517175912857,\n",
       " 0.42069874703884125,\n",
       " 0.40713071823120117,\n",
       " 0.39471568167209625,\n",
       " 0.38366957008838654,\n",
       " 0.37556004524230957,\n",
       " 0.36616872251033783,\n",
       " 0.3574037700891495,\n",
       " 0.34951452910900116,\n",
       " 0.3390083611011505,\n",
       " 0.32858194410800934,\n",
       " 0.3201950490474701,\n",
       " 0.30864717066287994,\n",
       " 0.3015892952680588,\n",
       " 0.29453144967556,\n",
       " 0.28233738243579865,\n",
       " 0.270778089761734,\n",
       " 0.2611876428127289,\n",
       " 0.2545301392674446,\n",
       " 0.24786151200532913,\n",
       " 0.2402900904417038,\n",
       " 0.23469115048646927,\n",
       " 0.22821809351444244,\n",
       " 0.2217796891927719,\n",
       " 0.2143058031797409,\n",
       " 0.21059414744377136,\n",
       " 0.20582479238510132,\n",
       " 0.20120049268007278,\n",
       " 0.19716373831033707,\n",
       " 0.19348052144050598,\n",
       " 0.1906116083264351,\n",
       " 0.18259823322296143,\n",
       " 0.17965640127658844,\n",
       " 0.17303397506475449,\n",
       " 0.16613268107175827,\n",
       " 0.16102420538663864,\n",
       " 0.1596834659576416,\n",
       " 0.15704934298992157,\n",
       " 0.1521129608154297,\n",
       " 0.14983507245779037,\n",
       " 0.1447649896144867,\n",
       " 0.14105255901813507,\n",
       " 0.13773265480995178,\n",
       " 0.1354077160358429,\n",
       " 0.13154803961515427,\n",
       " 0.1283595822751522,\n",
       " 0.12316984310746193,\n",
       " 0.1199282705783844,\n",
       " 0.11785100027918816,\n",
       " 0.11625821888446808,\n",
       " 0.11435511708259583,\n",
       " 0.11029216274619102,\n",
       " 0.10743482038378716,\n",
       " 0.10376153513789177,\n",
       " 0.10208350047469139,\n",
       " 0.09880368784070015,\n",
       " 0.09677836298942566,\n",
       " 0.09427868947386742,\n",
       " 0.09293263033032417,\n",
       " 0.08987032994627953,\n",
       " 0.08769075572490692,\n",
       " 0.08471320942044258,\n",
       " 0.08330004662275314,\n",
       " 0.07989281043410301,\n",
       " 0.0785631462931633,\n",
       " 0.07766178250312805,\n",
       " 0.07476439699530602,\n",
       " 0.0738462284207344,\n",
       " 0.07147575169801712,\n",
       " 0.07034756988286972,\n",
       " 0.0689515620470047,\n",
       " 0.06847017630934715,\n",
       " 0.06658861041069031,\n",
       " 0.06550325825810432,\n",
       " 0.06424750201404095,\n",
       " 0.0614929161965847,\n",
       " 0.060080209746956825,\n",
       " 0.058937011286616325,\n",
       " 0.05855267681181431,\n",
       " 0.057522401213645935,\n",
       " 0.05611027032136917,\n",
       " 0.05443470925092697,\n",
       " 0.05289088375866413,\n",
       " 0.05038357153534889,\n",
       " 0.04908004775643349,\n",
       " 0.047527970746159554,\n",
       " 0.046758100390434265,\n",
       " 0.04504247382283211,\n",
       " 0.04309106804430485,\n",
       " 0.041721729561686516,\n",
       " 0.040677715092897415,\n",
       " 0.03988726623356342,\n",
       " 0.03858459182083607,\n",
       " 0.03752936236560345,\n",
       " 0.03598408401012421,\n",
       " 0.035554416477680206,\n",
       " 0.034933362156152725,\n",
       " 0.034103671088814735,\n",
       " 0.03327604755759239,\n",
       " 0.03238800726830959,\n",
       " 0.031399644911289215,\n",
       " 0.030815603211522102,\n",
       " 0.030066795647144318,\n",
       " 0.029689785093069077,\n",
       " 0.029134811833500862,\n",
       " 0.028641977347433567,\n",
       " 0.027561664581298828,\n",
       " 0.02731098886579275,\n",
       " 0.026094410568475723,\n",
       " 0.025643307715654373,\n",
       " 0.02499544247984886,\n",
       " 0.024190427735447884,\n",
       " 0.023694313131272793,\n",
       " 0.02321694139391184,\n",
       " 0.022778037935495377,\n",
       " 0.02207784913480282,\n",
       " 0.021609981544315815,\n",
       " 0.02061696071177721,\n",
       " 0.020335493609309196,\n",
       " 0.019501157104969025,\n",
       " 0.019001971930265427,\n",
       " 0.018644707277417183,\n",
       " 0.017781006172299385,\n",
       " 0.017239856533706188,\n",
       " 0.01683724205940962,\n",
       " 0.016219400335103273,\n",
       " 0.015576572623103857,\n",
       " 0.014990140683948994,\n",
       " 0.014729965478181839,\n",
       " 0.014141174964606762,\n",
       " 0.013577114325016737,\n",
       " 0.013257970567792654,\n",
       " 0.012870557606220245,\n",
       " 0.012482878286391497,\n",
       " 0.012197468429803848,\n",
       " 0.011955315712839365,\n",
       " 0.011899441480636597,\n",
       " 0.011684789787977934,\n",
       " 0.011311952024698257,\n",
       " 0.011117215733975172,\n",
       " 0.010756907053291798,\n",
       " 0.010559620335698128,\n",
       " 0.010138095822185278,\n",
       " 0.010053667705506086,\n",
       " 0.009710655082017183,\n",
       " 0.009366977494210005,\n",
       " 0.009136614389717579,\n",
       " 0.008813611697405577,\n",
       " 0.008765666745603085,\n",
       " 0.008448714390397072,\n",
       " 0.008193708024919033,\n",
       " 0.00798349641263485,\n",
       " 0.007831425638869405,\n",
       " 0.007518162950873375,\n",
       " 0.007442006142809987,\n",
       " 0.007365482859313488,\n",
       " 0.007331848377361894,\n",
       " 0.00714668701402843,\n",
       " 0.00710810418240726,\n",
       " 0.006735481787472963,\n",
       " 0.006552977720275521,\n",
       " 0.006427358603104949,\n",
       " 0.006240297574549913,\n",
       " 0.006064431741833687,\n",
       " 0.006064801709726453,\n",
       " 0.005943881114944816,\n",
       " 0.005761497654020786,\n",
       " 0.005645404336974025,\n",
       " 0.005368787795305252,\n",
       " 0.005304705118760467,\n",
       " 0.005252749193459749,\n",
       " 0.005226510809734464,\n",
       " 0.004997886484488845,\n",
       " 0.004953415133059025,\n",
       " 0.004790991544723511,\n",
       " 0.004612864926457405,\n",
       " 0.004568257834762335,\n",
       " 0.004417814780026674,\n",
       " 0.004331283736974001,\n",
       " 0.0042716513853520155,\n",
       " 0.004215996945276856,\n",
       " 0.004130160552449524,\n",
       " 0.004049735958687961,\n",
       " 0.0037514271680265665,\n",
       " 0.003732652054168284,\n",
       " 0.0036707607796415687,\n",
       " 0.003567109117284417,\n",
       " 0.0034995550522580743,\n",
       " 0.003430373384617269,\n",
       " 0.003455745871178806,\n",
       " 0.0033265092642977834,\n",
       " 0.0032322972547262907,\n",
       " 0.003260695724748075,\n",
       " 0.003070528735406697,\n",
       " 0.003009039326570928,\n",
       " 0.002804254647344351,\n",
       " 0.0027360374806448817,\n",
       " 0.002705533872358501,\n",
       " 0.00270380568690598,\n",
       " 0.0025769660715013742,\n",
       " 0.0025100118946284056,\n",
       " 0.0024879913544282317,\n",
       " 0.002357247401960194,\n",
       " 0.0023440137738361955,\n",
       " 0.002309233066625893,\n",
       " 0.002341861603781581,\n",
       " 0.0022536602336913347,\n",
       " 0.002207143872510642,\n",
       " 0.0022085134987719357,\n",
       " 0.0021925566252321005,\n",
       " 0.0021371397306211293,\n",
       " 0.0021075686090625823,\n",
       " 0.001973288308363408,\n",
       " 0.0019511284190230072,\n",
       " 0.0019234135979786515,\n",
       " 0.0018605455406941473,\n",
       " 0.0018252466688863933,\n",
       " 0.0018090902594849467,\n",
       " 0.00184673594776541,\n",
       " 0.0018063978641293943,\n",
       " 0.001817103533539921,\n",
       " 0.0017059235251508653,\n",
       " 0.0016735821263864636,\n",
       " 0.0016195615753531456,\n",
       " 0.0016490659909322858,\n",
       " 0.001582126074936241,\n",
       " 0.0016214732895605266,\n",
       " 0.0015888569178059697,\n",
       " 0.001555234717670828,\n",
       " 0.0015506214112974703,\n",
       " 0.001493206713348627,\n",
       " 0.0014805179089307785,\n",
       " 0.0014824562822468579,\n",
       " 0.0014186939224600792,\n",
       " 0.0013188926386646926,\n",
       " 0.0013118548667989671,\n",
       " 0.0013474382576532662,\n",
       " 0.0012867820914834738,\n",
       " 0.001240035519003868,\n",
       " 0.0011640230368357152,\n",
       " 0.0011188217904418707,\n",
       " 0.001090024336008355,\n",
       " 0.0010933864687103778,\n",
       " 0.0010408882808405906,\n",
       " 0.0010951166914310306,\n",
       " 0.0011342503421474248,\n",
       " 0.0011108642211183906,\n",
       " 0.0010417130251880735,\n",
       " 0.0010495194583199918,\n",
       " 0.0010308414057362825,\n",
       " 0.0009903661848511547,\n",
       " 0.001027618272928521,\n",
       " 0.001027690654154867,\n",
       " 0.001007583166938275,\n",
       " 0.0009809178300201893,\n",
       " 0.0009883547318167984,\n",
       " 0.0008921835687942803,\n",
       " 0.0008470813627354801,\n",
       " 0.0008959418046288192,\n",
       " 0.0008580423309467733,\n",
       " 0.0008600607980042696,\n",
       " 0.0008383628737647086,\n",
       " 0.0008507461461704224,\n",
       " 0.0008853035978972912,\n",
       " 0.0008868314907886088,\n",
       " 0.0008201369491871446,\n",
       " 0.0007854489085730165,\n",
       " 0.0007152480538934469,\n",
       " 0.0007105486001819372,\n",
       " 0.0007002147322054952,\n",
       " 0.000726828322513029,\n",
       " 0.0007435101724695414,\n",
       " 0.0006873970851302147,\n",
       " 0.0007196151418611407,\n",
       " 0.0007083697710186243,\n",
       " 0.0006942122126929462,\n",
       " 0.0007024196675047278,\n",
       " 0.0007477119797840714,\n",
       " 0.0007099822687450796,\n",
       " 0.0007076252077240497,\n",
       " 0.0007132387545425445,\n",
       " 0.0006962805637158453,\n",
       " 0.0007021017372608185,\n",
       " 0.0007109917642083019,\n",
       " 0.0007106354169081897,\n",
       " 0.0007388517260551453,\n",
       " 0.0007510160794481635,\n",
       " 0.0007827305234968662,\n",
       " 0.0007972463208716363,\n",
       " 0.0007880970952101052,\n",
       " 0.0007604451675433666,\n",
       " 0.0007351022213697433,\n",
       " 0.0006871391087770462,\n",
       " 0.0006976177101023495,\n",
       " 0.0006962486368138343,\n",
       " 0.0006823360454291105,\n",
       " 0.0006794840737711638,\n",
       " 0.0007275578391272575,\n",
       " 0.00073311771848239,\n",
       " 0.0007046220125630498,\n",
       " 0.0006866069452371448,\n",
       " 0.0006385261658579111,\n",
       " 0.0006626031536143273,\n",
       " 0.0006074254051782191,\n",
       " 0.000636438257060945,\n",
       " 0.0006384698208421469,\n",
       " 0.0006377504905685782,\n",
       " 0.000623681175056845,\n",
       " 0.0005939510301686823,\n",
       " 0.0006009128119330853,\n",
       " 0.0005830494919791818,\n",
       " 0.0006199316994752735,\n",
       " 0.0006238804198801517,\n",
       " 0.0006414518575184047,\n",
       " 0.0006162040226627141,\n",
       " 0.0006383865256793797,\n",
       " 0.0006869944336358458,\n",
       " 0.0006733572226949036,\n",
       " 0.0006517096771858633,\n",
       " 0.0006492735119536519,\n",
       " 0.0006975986179895699,\n",
       " 0.0006715484778396785,\n",
       " 0.0006772985507268459,\n",
       " 0.0007008914544712752,\n",
       " 0.0007039803313091397,\n",
       " 0.0006915837875567377,\n",
       " 0.0006594160222448409,\n",
       " 0.000654567003948614,\n",
       " 0.0006060106679797173,\n",
       " 0.0006100630562286824,\n",
       " 0.0006230204307939857,\n",
       " 0.0006471644737757742,\n",
       " 0.0006714221381116658,\n",
       " 0.0006896224222145975,\n",
       " 0.0006719593366142362,\n",
       " 0.0006762328557670116,\n",
       " 0.0006086684879846871,\n",
       " 0.0006133736460469663,\n",
       " 0.0006324017303995788,\n",
       " 0.0006674957403447479,\n",
       " 0.0006714405317325145,\n",
       " 0.0006872582016512752,\n",
       " 0.0006431579822674394,\n",
       " 0.0006711573514621705,\n",
       " 0.0006806629535276443,\n",
       " 0.0007039063784759492,\n",
       " 0.0007310364162549376,\n",
       " 0.0007493201701436192,\n",
       " 0.0007878550095483661,\n",
       " 0.0007678109395783395,\n",
       " 0.0007658545218873769,\n",
       " 0.0008017263025976717,\n",
       " 0.0007960452057886869,\n",
       " 0.0007960893562994897,\n",
       " 0.000790808058809489,\n",
       " 0.0007775279227644205,\n",
       " 0.0008358269988093525,\n",
       " 0.0008474857895635068,\n",
       " 0.0008594577375333756,\n",
       " 0.0008193496323656291,\n",
       " 0.0007764475594740361,\n",
       " 0.0007985686243046075,\n",
       " 0.0008327319519594312,\n",
       " 0.0008328664116561413,\n",
       " 0.0008512099739164114,\n",
       " 0.0008281856717076153,\n",
       " 0.0008066754089668393,\n",
       " 0.000819909357232973,\n",
       " 0.0008223968325182796,\n",
       " 0.0008480600954499096,\n",
       " 0.0008416239870712161,\n",
       " 0.0008302518399432302,\n",
       " 0.0008083307766355574,\n",
       " 0.0007929497514851391,\n",
       " 0.000779633061029017,\n",
       " 0.0007509140414185822,\n",
       " 0.0007863238570280373,\n",
       " 0.0008231952378991991,\n",
       " 0.0007763831526972353,\n",
       " 0.0008038306841626763,\n",
       " 0.0008285072108265013,\n",
       " 0.0008216447022277862,\n",
       " 0.0008497122034896165,\n",
       " 0.0008301176130771637,\n",
       " 0.0008189487853087485,\n",
       " 0.0008271560946013778,\n",
       " 0.0008495970105286688,\n",
       " 0.0008516247035004199,\n",
       " 0.0008148482884280384,\n",
       " 0.000747274694731459,\n",
       " 0.000760772469220683,\n",
       " 0.0007929415442049503,\n",
       " 0.000786416232585907,\n",
       " 0.000729652849258855,\n",
       " 0.0006890961085446179,\n",
       " 0.0007252615178003907,\n",
       " 0.0007456148450728506,\n",
       " 0.0007795943529345095,\n",
       " 0.000825933733722195,\n",
       " 0.0008414831245318055,\n",
       " 0.0007937898626551032,\n",
       " 0.0008327040704898536,\n",
       " 0.000847023242386058,\n",
       " 0.0007974414911586791,\n",
       " 0.0008065752044785768,\n",
       " 0.0007180707762017846,\n",
       " 0.0007529132126364857,\n",
       " 0.0007815850840415806,\n",
       " 0.0007258178375195712,\n",
       " 0.0007617170049343258,\n",
       " 0.0007985853299032897,\n",
       " 0.0008335341699421406,\n",
       " 0.00086335523519665,\n",
       " 0.0008674326236359775,\n",
       " 0.0008263236668426543,\n",
       " 0.0008566265169065446,\n",
       " 0.000911999843083322,\n",
       " 0.0009031971858348697,\n",
       " 0.0008647450595162809,\n",
       " 0.0008531402272637933,\n",
       " 0.0008789240382611752,\n",
       " 0.0008734098810236901,\n",
       " 0.000791532511357218,\n",
       " 0.0008230754756368697,\n",
       " 0.0007730674697086215,\n",
       " 0.0007751478406134993,\n",
       " 0.0008006205316632986,\n",
       " 0.0008109194750431925,\n",
       " 0.0008403798565268517,\n",
       " 0.0008346850518137217,\n",
       " 0.0008408198191318661,\n",
       " 0.0008719087054487318,\n",
       " 0.00093214021762833,\n",
       " 0.0009803925349842757,\n",
       " 0.0010168984881602228,\n",
       " 0.000978840864263475,\n",
       " 0.0008955126686487347,\n",
       " 0.0008325378585141152,\n",
       " 0.0008682987245265394,\n",
       " 0.0008490160398650914,\n",
       " 0.0008769383130129427,\n",
       " 0.0009021512814797461,\n",
       " 0.0009369303297717124,\n",
       " 0.0009749532619025558,\n",
       " 0.0008921657281462103,\n",
       " 0.0007863046193961054,\n",
       " 0.0008047260344028473,\n",
       " 0.0008455668576061726,\n",
       " 0.0008322955400217324,\n",
       " 0.0008063123095780611,\n",
       " 0.0008252646366599947,\n",
       " 0.0008643990440759808,\n",
       " 0.0008675125136505812,\n",
       " 0.0008187559433281422,\n",
       " 0.0007684409793000668,\n",
       " 0.0008086595626082271,\n",
       " 0.0008475852955598384,\n",
       " 0.000890139868715778,\n",
       " 0.0008360843639820814,\n",
       " 0.0007935574976727366,\n",
       " 0.0008067094022408128,\n",
       " 0.000826832081656903,\n",
       " 0.0008518501417711377,\n",
       " 0.0008716695592738688,\n",
       " 0.0008578103443142027,\n",
       " 0.0008448199660051614,\n",
       " 0.0008424112165812403,\n",
       " 0.0008371562580578029,\n",
       " 0.0008518376562278718,\n",
       " 0.0008541537099517882,\n",
       " 0.0008847392746247351,\n",
       " 0.0009086949867196381,\n",
       " 0.0008460456447210163,\n",
       " 0.000874352001119405,\n",
       " 0.0008518342510797083,\n",
       " 0.0008526575402356684,\n",
       " 0.0008093204523902386,\n",
       " 0.0008317165484186262,\n",
       " 0.0008376770128961653,\n",
       " 0.0008253519190475345,\n",
       " 0.0008203302277252078,\n",
       " 0.0008472212066408247,\n",
       " 0.000868322909809649,\n",
       " 0.0008726315863896161,\n",
       " 0.0008528118196409196,\n",
       " 0.0008094968798104674,\n",
       " 0.000805447343736887,\n",
       " 0.0008426444255746901,\n",
       " 0.0008724957588128746,\n",
       " 0.0009015077957883477,\n",
       " 0.000939441699301824,\n",
       " 0.000929288798943162,\n",
       " 0.0009550019167363644,\n",
       " 0.0009817492391448468,\n",
       " 0.0009945501515176147,\n",
       " 0.000898355123354122,\n",
       " 0.0008984204614534974,\n",
       " 0.0008913098427001387,\n",
       " 0.0009050302905961871,\n",
       " 0.0009102879266720265,\n",
       " 0.0009710709273349494,\n",
       " 0.001015292014926672,\n",
       " 0.001079433597624302,\n",
       " 0.0010787488427013159,\n",
       " 0.0010685714078135788,\n",
       " 0.0011148256016895175,\n",
       " 0.0011197608546353877,\n",
       " 0.0011622770689427853,\n",
       " 0.0011846557026728988,\n",
       " 0.0012288482976146042,\n",
       " 0.0011902034166269004,\n",
       " 0.0012060468434356153,\n",
       " 0.0012200669152662158,\n",
       " 0.0011956088128499687,\n",
       " 0.0011629729415290058,\n",
       " 0.0011106994352303445,\n",
       " 0.0011160348076373339,\n",
       " 0.0010649332834873348,\n",
       " 0.001099026994779706,\n",
       " 0.0011047072475776076,\n",
       " 0.0010747204069048166,\n",
       " 0.0009940321324393153,\n",
       " 0.0010160387901123613,\n",
       " 0.0009873590315692127,\n",
       " 0.0009521631291136146,\n",
       " 0.0009754111815709621,\n",
       " 0.001012054504826665,\n",
       " 0.001010506646707654,\n",
       " 0.0010725735919550061,\n",
       " 0.0010906677052844316,\n",
       " 0.0011081651609856635,\n",
       " 0.0011115071538370103,\n",
       " 0.0011423995601944625,\n",
       " 0.001162493834272027,\n",
       " 0.0011849889997392893,\n",
       " 0.0011668960796669126,\n",
       " 0.0010870024852920324,\n",
       " 0.0011488585150800645,\n",
       " 0.0011353411246091127,\n",
       " 0.0010984359541907907,\n",
       " 0.001123890106100589,\n",
       " 0.0011122848372906446,\n",
       " 0.0011045272694900632,\n",
       " 0.001089404511731118,\n",
       " 0.0010284370509907603,\n",
       " 0.0009836092649493366,\n",
       " 0.0009523136541247368,\n",
       " 0.0009588506363797933,\n",
       " 0.0009737595682963729,\n",
       " 0.0009706395794637501,\n",
       " 0.0010199919634032995,\n",
       " 0.0010180932004004717,\n",
       " 0.0010075692553073168,\n",
       " 0.0009769282769411802,\n",
       " 0.0009815049124881625,\n",
       " 0.000983042933512479,\n",
       " 0.0010131365561392158,\n",
       " 0.000981482764473185,\n",
       " 0.0010084773530252278,\n",
       " 0.0010203197016380727,\n",
       " 0.0010080905631184578,\n",
       " 0.0010247112368233502,\n",
       " 0.0009150257392320782,\n",
       " 0.0009076405258383602,\n",
       " 0.0009295299823861569,\n",
       " 0.0009201477223541588,\n",
       " 0.000876076053828001,\n",
       " 0.0009257034107577056,\n",
       " 0.0009710770391393453,\n",
       " 0.001021088770357892,\n",
       " 0.0009178979962598532,\n",
       " 0.0009392063657287508,\n",
       " 0.0009360435651615262,\n",
       " 0.0009475611441303045,\n",
       " 0.00091379857622087,\n",
       " 0.0008687701192684472,\n",
       " 0.0009072753018699586,\n",
       " 0.0008115581294987351,\n",
       " 0.0007963379321154207,\n",
       " 0.0008084712026175112,\n",
       " 0.0008038783562369645,\n",
       " 0.0008305168012157083,\n",
       " 0.0008596526167821139,\n",
       " 0.000873255921760574,\n",
       " 0.00090624182485044,\n",
       " 0.0009128217934630811,\n",
       " 0.0008474584319628775,\n",
       " 0.0008503900899086148,\n",
       " 0.000731651991372928,\n",
       " 0.0007661600538995117,\n",
       " 0.0007811876421328634,\n",
       " 0.0007557147764600813,\n",
       " 0.0007247483008541167,\n",
       " 0.0007048842089716345,\n",
       " 0.0007118059147614986,\n",
       " 0.0007181887049227953,\n",
       " 0.0006990776746533811,\n",
       " 0.0007000915065873414,\n",
       " 0.0006995349831413478,\n",
       " 0.0007095045002643019,\n",
       " 0.0007618924719281495,\n",
       " 0.0007853371789678931,\n",
       " 0.0007862852944526821,\n",
       " 0.0007470429700333625,\n",
       " 0.0007731045770924538,\n",
       " 0.0007456184248439968,\n",
       " 0.0006401420396286994,\n",
       " 0.0006689132715109736,\n",
       " 0.0006746079016011208,\n",
       " 0.0006741456163581461,\n",
       " 0.0006844385643489659,\n",
       " 0.0007111429586075246,\n",
       " 0.0006902189343236387,\n",
       " 0.0006797372188884765,\n",
       " 0.0006890156946610659,\n",
       " 0.0006744919228367507,\n",
       " 0.0006343120185192674,\n",
       " 0.0006772590277250856,\n",
       " 0.000717723072739318,\n",
       " 0.000678350537782535,\n",
       " 0.0006987862579990178,\n",
       " 0.0006682238599751145,\n",
       " 0.0006914987170603126,\n",
       " 0.0007008323154877871,\n",
       " 0.0006924676417838782,\n",
       " 0.0006953338452149183,\n",
       " 0.0007248105248436332,\n",
       " 0.000754440639866516,\n",
       " 0.0007796576537657529,\n",
       " 0.0007970260630827397,\n",
       " 0.0008185094920918345,\n",
       " 0.0008481638797093183,\n",
       " 0.0008785989775788039,\n",
       " 0.0009136525331996381,\n",
       " 0.0009517918224446476,\n",
       " 0.000902244879398495,\n",
       " 0.0009326567815151066,\n",
       " 0.0008893570047803223,\n",
       " 0.0008600435103289783,\n",
       " 0.0008767654653638601,\n",
       " 0.0008983846637420356,\n",
       " 0.000867083144839853,\n",
       " 0.0008768875268287957,\n",
       " 0.0007775445701554418,\n",
       " 0.000789472454925999,\n",
       " 0.0008250274404417723,\n",
       " 0.0008215002890210599,\n",
       " 0.0007387343794107437,\n",
       " 0.0007240581326186657,\n",
       " 0.0007490595453418791,\n",
       " 0.0007677066314499825,\n",
       " 0.0007917020411696285,\n",
       " 0.0007774356345180422,\n",
       " 0.0007904288941062987,\n",
       " 0.0007077831251081079,\n",
       " 0.0007574264891445637,\n",
       " 0.0007547721324954182,\n",
       " 0.000780110654886812,\n",
       " 0.0007757778803352267,\n",
       " 0.0007634930952917784,\n",
       " 0.0007899625052232295,\n",
       " 0.0007331546803470701,\n",
       " 0.0007313925598282367,\n",
       " 0.0007334699621424079,\n",
       " 0.0007634118956048042,\n",
       " 0.0007496792532037944,\n",
       " 0.0007336371054407209,\n",
       " 0.0007218850951176137,\n",
       " 0.0006647207192145288,\n",
       " 0.0006855928804725409,\n",
       " 0.0006992760463617742,\n",
       " 0.0006961514009162784,\n",
       " 0.0007202215201687068,\n",
       " 0.000778532208641991,\n",
       " 0.0008058856765273958,\n",
       " 0.0008245556964538991,\n",
       " 0.0008320633787661791,\n",
       " 0.0008068881288636476,\n",
       " 0.000872918200911954,\n",
       " 0.0008533219224773347,\n",
       " 0.0008228054211940616,\n",
       " 0.0007757224957458675,\n",
       " 0.0007654158107470721,\n",
       " 0.0007737589767202735,\n",
       " 0.0007636735681444407,\n",
       " 0.0007652276544831693,\n",
       " 0.0008011123863980174,\n",
       " 0.0007946500845719129,\n",
       " 0.0008185762562789023,\n",
       " 0.0008130476926453412,\n",
       " 0.0007650358602404594,\n",
       " 0.0007694582745898515,\n",
       " 0.000773011619457975,\n",
       " 0.000751911400584504,\n",
       " 0.0007825849170330912,\n",
       " 0.0008267013472504914,\n",
       " 0.0008273515268228948,\n",
       " 0.0008233925327658653,\n",
       " 0.0008755896997172385,\n",
       " 0.0009005987958516926,\n",
       " 0.0009426476608496159,\n",
       " 0.0009404494194313884,\n",
       " 0.000952732254518196,\n",
       " 0.0009796219819691032,\n",
       " 0.0009052837558556348,\n",
       " 0.00094151048688218,\n",
       " 0.0009617333707865328,\n",
       " 0.0010113339230883867,\n",
       " 0.0010569196310825646,\n",
       " 0.0009786545124370605,\n",
       " 0.0008748747641220689,\n",
       " 0.0008821400115266442,\n",
       " 0.0008953965443652123,\n",
       " 0.0008760853379499167,\n",
       " 0.0009056198468897492,\n",
       " 0.0009422755683772266,\n",
       " 0.0009542638726998121,\n",
       " 0.0009793679346330464,\n",
       " 0.0009695080516394228,\n",
       " 0.0009938347502611578,\n",
       " 0.0010430462134536356,\n",
       " 0.0010726192558649927,\n",
       " 0.0010978488717228174,\n",
       " 0.001002313190838322,\n",
       " 0.0009890305809676647,\n",
       " 0.001035576919093728,\n",
       " 0.0010611187026370317,\n",
       " 0.001100633351597935,\n",
       " 0.0011190088698640466,\n",
       " 0.0011159309069626033,\n",
       " 0.0011021971877198666,\n",
       " 0.0010216159862466156,\n",
       " 0.001056263834470883,\n",
       " 0.0010780864104162902,\n",
       " 0.0010972603922709823,\n",
       " 0.001103654969483614,\n",
       " 0.001110793964471668,\n",
       " 0.0011137492256239057,\n",
       " 0.0011251713149249554,\n",
       " 0.001130108197685331,\n",
       " 0.0011177550768479705,\n",
       " 0.001157251768745482,\n",
       " 0.0011555723031051457,\n",
       " 0.0010775391128845513,\n",
       " 0.0010827875812537968,\n",
       " 0.0011111815692856908,\n",
       " 0.001127269642893225,\n",
       " 0.0011438708170317113,\n",
       " 0.0011776626924984157,\n",
       " 0.0011414066539146006,\n",
       " 0.001057490153471008,\n",
       " 0.0010564574622549117,\n",
       " 0.0010136137716472149,\n",
       " 0.0010078716441057622,\n",
       " 0.0010114129108842462,\n",
       " 0.0009441848960705101,\n",
       " 0.0009655192261561751,\n",
       " 0.0009212504082825035,\n",
       " 0.0009595869923941791,\n",
       " 0.0009555411816108972,\n",
       " 0.001005794299999252,\n",
       " 0.0010289400233887136,\n",
       " 0.0010889836703427136,\n",
       " 0.0010633330384735018,\n",
       " 0.0010212100751232356,\n",
       " 0.0010515429312363267,\n",
       " 0.0009310783061664551,\n",
       " 0.0009531322866678238,\n",
       " 0.0009306906722486019,\n",
       " 0.0008699099416844547,\n",
       " 0.0008724720682948828,\n",
       " 0.000840983702801168,\n",
       " 0.0008472628542222083,\n",
       " 0.0008688665111549199,\n",
       " 0.0008293791906908154,\n",
       " 0.0008622016757726669,\n",
       " 0.0008970211492851377,\n",
       " 0.000923583225812763,\n",
       " 0.000889729184564203,\n",
       " 0.0008962648280430585,\n",
       " 0.0008690651739016175,\n",
       " 0.0008481209224555641,\n",
       " 0.0008694944554008543,\n",
       " 0.0009094221459235996,\n",
       " 0.0009581757476553321,\n",
       " 0.0009654485329519957,\n",
       " 0.0008974029333330691,\n",
       " 0.0008611899975221604,\n",
       " 0.0008039157546591014,\n",
       " 0.0008430905290879309,\n",
       " 0.0008409995934925973,\n",
       " 0.0008762123761698604,\n",
       " 0.0008735660812817514,\n",
       " 0.0008576452091801912,\n",
       " 0.0008556474931538105,\n",
       " 0.0008827140554785728,\n",
       " 0.000921679544262588,\n",
       " 0.0009585371008142829,\n",
       " 0.000988722371403128,\n",
       " 0.0010378041479270905,\n",
       " 0.0010389187082182616,\n",
       " 0.0010301352303940803,\n",
       " 0.0010420421313028783,\n",
       " 0.0010692102659959346,\n",
       " 0.0010615698993206024,\n",
       " 0.0010244260774925351,\n",
       " 0.0009810583724174649,\n",
       " 0.0010113735042978078,\n",
       " 0.0009168290998786688,\n",
       " 0.0009204283123835921,\n",
       " 0.0009422556904610246,\n",
       " 0.0009544950735289603,\n",
       " 0.0009824279404710978,\n",
       " 0.0009666559344623238,\n",
       " 0.0009796023077797145,\n",
       " 0.0009320077078882605,\n",
       " 0.0009278584911953658,\n",
       " 0.0009259501239284873,\n",
       " 0.0009502978064119816,\n",
       " 0.0009219641797244549,\n",
       " 0.0009611208515707403,\n",
       " 0.0009581029880791903,\n",
       " 0.0008807639533188194,\n",
       " 0.0008599557331763208,\n",
       " 0.0008210662635974586,\n",
       " 0.0008454365597572178,\n",
       " 0.0008651037351228297,\n",
       " ...]"
      ]
     },
     "execution_count": 31,
     "metadata": {},
     "output_type": "execute_result"
    }
   ],
   "source": [
    "task_loss['1']"
   ]
  },
  {
   "cell_type": "code",
   "execution_count": 32,
   "id": "ca340dd6",
   "metadata": {},
   "outputs": [
    {
     "data": {
      "text/plain": [
       "[0,\n",
       " 0,\n",
       " 0,\n",
       " tensor([[1.9701, 0.0000, 0.0000, 0.0000, 0.0000, 0.0000, 0.0000, 0.0000],\n",
       "         [0.0000, 1.5921, 0.0000, 0.0000, 0.0000, 0.0000, 0.0000, 0.0000],\n",
       "         [0.0000, 0.0000, 0.0033, 0.0000, 0.0000, 0.0000, 0.0000, 0.0000],\n",
       "         [0.0000, 0.0000, 0.0000, 0.1557, 0.0000, 0.0000, 0.0000, 0.0000],\n",
       "         [0.0000, 0.0000, 0.0000, 0.0000, 2.1053, 0.0000, 0.0000, 0.0000]],\n",
       "        grad_fn=<AddBackward0>),\n",
       " tensor([[2.0324, 0.0000, 0.0000, 0.0000, 0.0000, 0.0000, 0.0000, 0.0000],\n",
       "         [0.0000, 1.9731, 0.0000, 0.0000, 0.0000, 0.0000, 0.0000, 0.0000],\n",
       "         [0.0000, 0.0000, 1.0599, 0.0000, 0.0000, 0.0000, 0.0000, 0.0000],\n",
       "         [0.0000, 0.0000, 0.0000, 1.7370, 0.0000, 0.0000, 0.0000, 0.0000],\n",
       "         [0.0000, 0.0000, 0.0000, 0.0000, 1.6656, 0.0000, 0.0000, 0.0000]],\n",
       "        grad_fn=<AddBackward0>),\n",
       " 0,\n",
       " tensor([[ 2.8000,  0.0000,  0.0000,  0.0000,  0.0000,  0.0000,  0.0000,  0.0000],\n",
       "         [ 0.0000,  1.5508,  0.0000,  0.0000,  0.0000,  0.0000,  0.0000,  0.0000],\n",
       "         [ 0.0000,  0.0000,  0.0179,  0.0000,  0.0000,  0.0000,  0.0000,  0.0000],\n",
       "         [ 0.0000,  0.0000,  0.0000,  0.3361,  0.0000,  0.0000,  0.0000,  0.0000],\n",
       "         [ 0.0000,  0.0000,  0.0000,  0.0000, -1.8050,  0.0000,  0.0000,  0.0000]],\n",
       "        grad_fn=<AddBackward0>),\n",
       " 0,\n",
       " tensor([[0.2157, 0.0000, 0.0000, 0.0000, 0.0000, 0.0000, 0.0000, 0.0000],\n",
       "         [0.0000, 0.9639, 0.0000, 0.0000, 0.0000, 0.0000, 0.0000, 0.0000],\n",
       "         [0.0000, 0.0000, 1.1091, 0.0000, 0.0000, 0.0000, 0.0000, 0.0000],\n",
       "         [0.0000, 0.0000, 0.0000, 0.2799, 0.0000, 0.0000, 0.0000, 0.0000],\n",
       "         [0.0000, 0.0000, 0.0000, 0.0000, 0.0234, 0.0000, 0.0000, 0.0000]],\n",
       "        grad_fn=<AddBackward0>),\n",
       " tensor([[0.2166, 0.0000, 0.0000, 0.0000, 0.0000, 0.0000, 0.0000, 0.0000],\n",
       "         [0.0000, 1.2799, 0.0000, 0.0000, 0.0000, 0.0000, 0.0000, 0.0000],\n",
       "         [0.0000, 0.0000, 2.0541, 0.0000, 0.0000, 0.0000, 0.0000, 0.0000],\n",
       "         [0.0000, 0.0000, 0.0000, 0.9533, 0.0000, 0.0000, 0.0000, 0.0000],\n",
       "         [0.0000, 0.0000, 0.0000, 0.0000, 1.2172, 0.0000, 0.0000, 0.0000]],\n",
       "        grad_fn=<AddBackward0>),\n",
       " 0,\n",
       " 0,\n",
       " 0,\n",
       " 0,\n",
       " 0,\n",
       " 0,\n",
       " 0,\n",
       " 0,\n",
       " 0,\n",
       " 0,\n",
       " 0,\n",
       " 0,\n",
       " 0,\n",
       " 0,\n",
       " 0,\n",
       " tensor([[2.6272, 0.0000, 0.0000, 0.0000, 0.0000, 0.0000, 0.0000, 0.0000],\n",
       "         [0.0000, 0.2979, 0.0000, 0.0000, 0.0000, 0.0000, 0.0000, 0.0000],\n",
       "         [0.0000, 0.0000, 2.5686, 0.0000, 0.0000, 0.0000, 0.0000, 0.0000],\n",
       "         [0.0000, 0.0000, 0.0000, 2.0048, 0.0000, 0.0000, 0.0000, 0.0000],\n",
       "         [0.0000, 0.0000, 0.0000, 0.0000, 0.6710, 0.0000, 0.0000, 0.0000]],\n",
       "        grad_fn=<AddBackward0>),\n",
       " 0,\n",
       " 0,\n",
       " 0,\n",
       " tensor([[ 1.3466,  0.0000,  0.0000,  0.0000,  0.0000,  0.0000,  0.0000,  0.0000],\n",
       "         [ 0.0000, -0.2134,  0.0000,  0.0000,  0.0000,  0.0000,  0.0000,  0.0000],\n",
       "         [ 0.0000,  0.0000,  0.8248,  0.0000,  0.0000,  0.0000,  0.0000,  0.0000],\n",
       "         [ 0.0000,  0.0000,  0.0000,  1.8893,  0.0000,  0.0000,  0.0000,  0.0000],\n",
       "         [ 0.0000,  0.0000,  0.0000,  0.0000, -0.2219,  0.0000,  0.0000,  0.0000]],\n",
       "        grad_fn=<AddBackward0>),\n",
       " tensor([[ 1.7955,  0.0000,  0.0000,  0.0000,  0.0000,  0.0000,  0.0000,  0.0000],\n",
       "         [ 0.0000,  0.1433,  0.0000,  0.0000,  0.0000,  0.0000,  0.0000,  0.0000],\n",
       "         [ 0.0000,  0.0000,  1.1964,  0.0000,  0.0000,  0.0000,  0.0000,  0.0000],\n",
       "         [ 0.0000,  0.0000,  0.0000, -0.5180,  0.0000,  0.0000,  0.0000,  0.0000],\n",
       "         [ 0.0000,  0.0000,  0.0000,  0.0000,  0.5377,  0.0000,  0.0000,  0.0000]],\n",
       "        grad_fn=<AddBackward0>),\n",
       " 0,\n",
       " 0,\n",
       " 0,\n",
       " 0,\n",
       " 0,\n",
       " tensor([[1.8600, 0.0000, 0.0000, 0.0000, 0.0000, 0.0000, 0.0000, 0.0000],\n",
       "         [0.0000, 0.0542, 0.0000, 0.0000, 0.0000, 0.0000, 0.0000, 0.0000],\n",
       "         [0.0000, 0.0000, 0.9716, 0.0000, 0.0000, 0.0000, 0.0000, 0.0000],\n",
       "         [0.0000, 0.0000, 0.0000, 0.2806, 0.0000, 0.0000, 0.0000, 0.0000],\n",
       "         [0.0000, 0.0000, 0.0000, 0.0000, 0.2081, 0.0000, 0.0000, 0.0000]],\n",
       "        grad_fn=<AddBackward0>),\n",
       " 0,\n",
       " 0,\n",
       " 0]"
      ]
     },
     "execution_count": 32,
     "metadata": {},
     "output_type": "execute_result"
    }
   ],
   "source": [
    "projection_list[0]"
   ]
  },
  {
   "cell_type": "code",
   "execution_count": 33,
   "id": "b22bba26",
   "metadata": {},
   "outputs": [
    {
     "ename": "TypeError",
     "evalue": "'MLP_Net' object is not iterable",
     "output_type": "error",
     "traceback": [
      "\u001b[1;31m---------------------------------------------------------------------------\u001b[0m",
      "\u001b[1;31mTypeError\u001b[0m                                 Traceback (most recent call last)",
      "\u001b[1;32m<ipython-input-33-192e013750d5>\u001b[0m in \u001b[0;36m<module>\u001b[1;34m\u001b[0m\n\u001b[1;32m----> 1\u001b[1;33m \u001b[0mparameters_to_vector\u001b[0m\u001b[1;33m(\u001b[0m\u001b[0mmodels\u001b[0m\u001b[1;33m[\u001b[0m\u001b[1;36m0\u001b[0m\u001b[1;33m]\u001b[0m\u001b[1;33m)\u001b[0m\u001b[1;33m\u001b[0m\u001b[1;33m\u001b[0m\u001b[0m\n\u001b[0m",
      "\u001b[1;32mC:\\ProgramData\\Anaconda3\\lib\\site-packages\\torch\\nn\\utils\\convert_parameters.py\u001b[0m in \u001b[0;36mparameters_to_vector\u001b[1;34m(parameters)\u001b[0m\n\u001b[0;32m     17\u001b[0m \u001b[1;33m\u001b[0m\u001b[0m\n\u001b[0;32m     18\u001b[0m     \u001b[0mvec\u001b[0m \u001b[1;33m=\u001b[0m \u001b[1;33m[\u001b[0m\u001b[1;33m]\u001b[0m\u001b[1;33m\u001b[0m\u001b[1;33m\u001b[0m\u001b[0m\n\u001b[1;32m---> 19\u001b[1;33m     \u001b[1;32mfor\u001b[0m \u001b[0mparam\u001b[0m \u001b[1;32min\u001b[0m \u001b[0mparameters\u001b[0m\u001b[1;33m:\u001b[0m\u001b[1;33m\u001b[0m\u001b[1;33m\u001b[0m\u001b[0m\n\u001b[0m\u001b[0;32m     20\u001b[0m         \u001b[1;31m# Ensure the parameters are located in the same device\u001b[0m\u001b[1;33m\u001b[0m\u001b[1;33m\u001b[0m\u001b[1;33m\u001b[0m\u001b[0m\n\u001b[0;32m     21\u001b[0m         \u001b[0mparam_device\u001b[0m \u001b[1;33m=\u001b[0m \u001b[0m_check_param_device\u001b[0m\u001b[1;33m(\u001b[0m\u001b[0mparam\u001b[0m\u001b[1;33m,\u001b[0m \u001b[0mparam_device\u001b[0m\u001b[1;33m)\u001b[0m\u001b[1;33m\u001b[0m\u001b[1;33m\u001b[0m\u001b[0m\n",
      "\u001b[1;31mTypeError\u001b[0m: 'MLP_Net' object is not iterable"
     ]
    }
   ],
   "source": [
    "parameters_to_vector(models[0])"
   ]
  },
  {
   "cell_type": "code",
   "execution_count": null,
   "id": "7a06576d",
   "metadata": {},
   "outputs": [],
   "source": []
  }
 ],
 "metadata": {
  "kernelspec": {
   "display_name": "Python 3",
   "language": "python",
   "name": "python3"
  },
  "language_info": {
   "codemirror_mode": {
    "name": "ipython",
    "version": 3
   },
   "file_extension": ".py",
   "mimetype": "text/x-python",
   "name": "python",
   "nbconvert_exporter": "python",
   "pygments_lexer": "ipython3",
   "version": "3.8.8"
  }
 },
 "nbformat": 4,
 "nbformat_minor": 5
}
