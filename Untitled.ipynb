{
 "cells": [
  {
   "cell_type": "code",
   "execution_count": 19,
   "id": "58db9dde",
   "metadata": {},
   "outputs": [],
   "source": [
    "import torch\n",
    "import torch.nn as nn\n",
    "import torch.nn.functional as F\n",
    "import numpy as np\n",
    "import matplotlib.pyplot as plt\n",
    "import pandas as pd\n",
    "from sklearn.model_selection import train_test_split\n",
    "from torch.utils.data import DataLoader"
   ]
  },
  {
   "cell_type": "code",
   "execution_count": 2,
   "id": "5b10240c",
   "metadata": {},
   "outputs": [],
   "source": [
    "# Cerate a model class taht inherits nn.Module\n",
    "class Model(nn.Module):\n",
    "    # Input layer -> Hidden Layer1 --> HL 2 --> Output\n",
    "    def __init__(self, in_features=4, h1=8, h2=9, out_features=3):\n",
    "        super().__init__()\n",
    "        self.fc1 = nn.Linear(in_features, h1)\n",
    "        self.fc2 = nn.Linear(h1, h2)\n",
    "        self.out = nn.Linear(h2, out_features)\n",
    "    \n",
    "    # Forward propagatoin\n",
    "    def forward(self, x):\n",
    "        x = F.relu(self.fc1(x))\n",
    "        x = F.relu(self.fc2(x))\n",
    "        x = self.out(x)\n",
    "        \n",
    "        return x\n",
    "        "
   ]
  },
  {
   "cell_type": "code",
   "execution_count": 3,
   "id": "e951812d",
   "metadata": {},
   "outputs": [],
   "source": [
    "# Initializing the seed\n",
    "torch.manual_seed(41)\n",
    "\n",
    "# Create a model\n",
    "model = Model()\n"
   ]
  },
  {
   "cell_type": "code",
   "execution_count": 4,
   "id": "520e8929",
   "metadata": {},
   "outputs": [],
   "source": [
    "url = 'https://gist.githubusercontent.com/curran/a08a1080b88344b0c8a7/raw/0e7a9b0a5d22642a06d3d5b9bcbad9890c8ee534/iris.csv'\n",
    "my_df = pd.read_csv(url)"
   ]
  },
  {
   "cell_type": "code",
   "execution_count": 5,
   "id": "e9247a01",
   "metadata": {},
   "outputs": [],
   "source": [
    "# Change the last column from strings to numbers\n",
    "my_df['species'] = my_df['species'].replace('setosa', 0.0)\n",
    "my_df['species'] = my_df['species'].replace('versicolor', 1.0)\n",
    "my_df['species'] = my_df['species'].replace('virginica', 2.0)\n"
   ]
  },
  {
   "cell_type": "code",
   "execution_count": 6,
   "id": "5835ab14",
   "metadata": {},
   "outputs": [
    {
     "data": {
      "text/plain": [
       "array([0., 1., 2.])"
      ]
     },
     "execution_count": 6,
     "metadata": {},
     "output_type": "execute_result"
    }
   ],
   "source": [
    "my_df['species'].unique()"
   ]
  },
  {
   "cell_type": "code",
   "execution_count": 7,
   "id": "9a7a6fda",
   "metadata": {},
   "outputs": [],
   "source": [
    "# Splitting the datasets\n",
    "X = my_df.drop('species', axis=1)\n",
    "y = my_df['species']"
   ]
  },
  {
   "cell_type": "code",
   "execution_count": 8,
   "id": "60739560",
   "metadata": {},
   "outputs": [],
   "source": [
    "# Convert to np arrays\n",
    "X = X.values\n",
    "y = y.values"
   ]
  },
  {
   "cell_type": "code",
   "execution_count": 9,
   "id": "b5eb7b75",
   "metadata": {},
   "outputs": [],
   "source": [
    "# Train Test split\n",
    "X_train, X_test, y_train, y_test = train_test_split(X, y, test_size=0.2, random_state=41)"
   ]
  },
  {
   "cell_type": "code",
   "execution_count": 10,
   "id": "7c68f196",
   "metadata": {},
   "outputs": [],
   "source": [
    "# Convert the input featres to tensors\n",
    "X_train = torch.FloatTensor(X_train)\n",
    "X_test = torch.FloatTensor(X_test)\n",
    "\n",
    "# Convert the labels into integers\n",
    "y_train = torch.LongTensor(y_train)\n",
    "y_test = torch.LongTensor(y_test)"
   ]
  },
  {
   "cell_type": "code",
   "execution_count": 21,
   "id": "a9ef48c2",
   "metadata": {},
   "outputs": [],
   "source": [
    "train_dataloader = DataLoader((X_train, y_train), batch_size=64, shuffle=True)\n",
    "test_data_loader = DataLoader((X_test, y_test), batch_size=64, shuffle=True)"
   ]
  },
  {
   "cell_type": "code",
   "execution_count": 11,
   "id": "7853b93d",
   "metadata": {},
   "outputs": [],
   "source": [
    "# Loss function definition\n",
    "criterion = nn.CrossEntropyLoss()\n",
    "\n",
    "\n",
    "# Optimizer initialization\n",
    "optimizer = torch.optim.Adam(model.parameters(), lr=0.01)"
   ]
  },
  {
   "cell_type": "code",
   "execution_count": 12,
   "id": "ad700189",
   "metadata": {},
   "outputs": [
    {
     "name": "stdout",
     "output_type": "stream",
     "text": [
      "Epoch: 0,........loss: 1.1251550912857056\n",
      "Epoch: 10,........loss: 1.0096259117126465\n",
      "Epoch: 20,........loss: 0.8157405257225037\n",
      "Epoch: 30,........loss: 0.585706353187561\n",
      "Epoch: 40,........loss: 0.3999636769294739\n",
      "Epoch: 50,........loss: 0.2676880657672882\n",
      "Epoch: 60,........loss: 0.17942366003990173\n",
      "Epoch: 70,........loss: 0.12151693552732468\n",
      "Epoch: 80,........loss: 0.08601187914609909\n",
      "Epoch: 90,........loss: 0.06520853191614151\n"
     ]
    }
   ],
   "source": [
    "# Train model\n",
    "epochs = 100\n",
    "losses = []\n",
    "\n",
    "for it in range(epochs):\n",
    "    # Forward propagation\n",
    "    y_pred = model.forward(X_train) # Get predicted results\n",
    "    \n",
    "    #  Loss\n",
    "    loss = criterion(y_pred, y_train)\n",
    "    \n",
    "    # Detach is used to exclude the computational graph and pass only the numerical value\n",
    "    losses.append(loss.detach().numpy())\n",
    "    \n",
    "    if it % 10 == 0:\n",
    "        print(f'Epoch: {it},........loss: {loss}')\n",
    "\n",
    "        \n",
    "    # Back propagation\n",
    "    optimizer.zero_grad()\n",
    "    loss.backward()\n",
    "    optimizer.step()\n",
    "    "
   ]
  },
  {
   "cell_type": "code",
   "execution_count": 13,
   "id": "a45e57c5",
   "metadata": {},
   "outputs": [
    {
     "data": {
      "text/plain": [
       "Text(0.5, 0, 'Epoch')"
      ]
     },
     "execution_count": 13,
     "metadata": {},
     "output_type": "execute_result"
    },
    {
     "data": {
      "image/png": "[encoded data removed]",
      "text/plain": [
       "<Figure size 432x288 with 1 Axes>"
      ]
     },
     "metadata": {
      "needs_background": "light"
     },
     "output_type": "display_data"
    }
   ],
   "source": [
    "plt.plot(range(epochs), losses)\n",
    "plt.ylabel(\"loss\")\n",
    "plt.xlabel(\"Epoch\")"
   ]
  },
  {
   "cell_type": "code",
   "execution_count": 14,
   "id": "8de29cf1",
   "metadata": {},
   "outputs": [],
   "source": [
    "with torch.no_grad():\n",
    "    y_eval = model.forward(X_test)\n",
    "    loss = criterion(y_eval, y_test)\n",
    "    "
   ]
  },
  {
   "cell_type": "code",
   "execution_count": 15,
   "id": "540dc067",
   "metadata": {},
   "outputs": [
    {
     "data": {
      "text/plain": [
       "array(0.13151275, dtype=float32)"
      ]
     },
     "execution_count": 15,
     "metadata": {},
     "output_type": "execute_result"
    }
   ],
   "source": [
    "loss.detach().numpy()"
   ]
  },
  {
   "cell_type": "code",
   "execution_count": 18,
   "id": "c7ccbcfe",
   "metadata": {},
   "outputs": [
    {
     "name": "stdout",
     "output_type": "stream",
     "text": [
      "1.) tensor([-5.8760,  4.4628,  6.5124]) \t 2\n",
      "2.) tensor([-7.5436,  4.1670,  9.7255]) \t 2\n",
      "3.) tensor([-8.4504,  5.1271, 10.1987]) \t 2\n",
      "4.) tensor([-4.3398,  5.6267,  2.5608]) \t 1\n",
      "5.) tensor([-7.1825,  4.8754,  8.2992]) \t 2\n",
      "6.) tensor([-3.3974,  5.3463,  1.2803]) \t 1\n",
      "7.) tensor([-5.9231,  4.9822,  5.9997]) \t 2\n",
      "8.) tensor([-4.2881,  5.7003,  2.3889]) \t 1\n",
      "9.) tensor([-6.5356,  4.9257,  7.1260]) \t 2\n",
      "10.) tensor([-8.0509,  4.4129, 10.3286]) \t 2\n",
      "11.) tensor([-5.6762,  4.9500,  5.6215]) \t 2\n",
      "12.) tensor([ 4.5662, -2.2476, -2.8911]) \t 0\n",
      "13.) tensor([ 4.2571, -1.9967, -2.7330]) \t 0\n",
      "14.) tensor([-2.1108,  4.0515,  0.5799]) \t 1\n",
      "15.) tensor([ 3.4575, -1.2098, -2.3514]) \t 0\n",
      "16.) tensor([-5.4724,  5.1165,  5.0934]) \t 2\n",
      "17.) tensor([ 4.0557, -1.7949, -2.6492]) \t 0\n",
      "18.) tensor([-5.8075,  4.6053,  6.2458]) \t 1\n",
      "19.) tensor([ 4.4343, -2.1392, -2.8242]) \t 0\n",
      "20.) tensor([ 3.4527, -1.2514, -2.3660]) \t 0\n",
      "21.) tensor([-2.6189,  4.5619,  0.8574]) \t 1\n",
      "22.) tensor([-7.7412,  4.7377,  9.4199]) \t 2\n",
      "23.) tensor([ 3.5743, -1.3221, -2.4135]) \t 0\n",
      "24.) tensor([ 4.5365, -2.2383, -2.8684]) \t 0\n",
      "25.) tensor([-2.6579,  4.6177,  0.8823]) \t 1\n",
      "26.) tensor([-3.2865,  5.2229,  1.2164]) \t 1\n",
      "27.) tensor([-4.6514,  5.7776,  2.9273]) \t 1\n",
      "28.) tensor([-2.9464,  4.8892,  1.0379]) \t 1\n",
      "29.) tensor([ 4.5847, -2.2687, -2.8974]) \t 0\n",
      "30.) tensor([-4.5784,  5.4554,  3.1660]) \t 1\n"
     ]
    }
   ],
   "source": [
    "correct = 0\n",
    "with torch.no_grad():\n",
    "    for i, data in enumerate(X_test):\n",
    "        y_val = model.forward(data)\n",
    "\n",
    "        print(f'{i + 1}.) {str(y_val)} \\t {y_test[i]}')"
   ]
  },
  {
   "cell_type": "code",
   "execution_count": null,
   "id": "867c6088",
   "metadata": {},
   "outputs": [],
   "source": []
  }
 ],
 "metadata": {
  "kernelspec": {
   "display_name": "Python 3",
   "language": "python",
   "name": "python3"
  },
  "language_info": {
   "codemirror_mode": {
    "name": "ipython",
    "version": 3
   },
   "file_extension": ".py",
   "mimetype": "text/x-python",
   "name": "python",
   "nbconvert_exporter": "python",
   "pygments_lexer": "ipython3",
   "version": "3.8.8"
  }
 },
 "nbformat": 4,
 "nbformat_minor": 5
}
