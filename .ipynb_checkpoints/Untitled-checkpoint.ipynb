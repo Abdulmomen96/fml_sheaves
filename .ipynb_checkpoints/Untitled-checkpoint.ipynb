{
 "cells": [
  {
   "cell_type": "code",
   "execution_count": 30,
   "id": "4c63959e",
   "metadata": {},
   "outputs": [],
   "source": [
    "import torch\n",
    "import torch.nn as nn\n",
    "import torch.nn.functional as F\n",
    "import numpy as np\n",
    "import matplotlib.pyplot as plt\n",
    "import pandas as pd\n",
    "from sklearn.model_selection import train_test_split"
   ]
  },
  {
   "cell_type": "code",
   "execution_count": 31,
   "id": "fdb7ddf0",
   "metadata": {},
   "outputs": [],
   "source": [
    "# Cerate a model class taht inherits nn.Module\n",
    "class Model(nn.Module):\n",
    "    # Input layer -> Hidden Layer1 --> HL 2 --> Output\n",
    "    def __init__(self, in_features=4, h1=8, h2=9, out_features=3):\n",
    "        super().__init__()\n",
    "        self.fc1 = nn.Linear(in_features, h1)\n",
    "        self.fc2 = nn.Linear(h1, h2)\n",
    "        self.out = nn.Linear(h2, out_features)\n",
    "    \n",
    "    # Forward propagatoin\n",
    "    def forward(self, x):\n",
    "        x = F.relu(self.fc1(x))\n",
    "        x = F.relu(self.fc2(x))\n",
    "        x = self.out(x)\n",
    "        \n",
    "        return x\n",
    "        "
   ]
  },
  {
   "cell_type": "code",
   "execution_count": 32,
   "id": "b757a6d1",
   "metadata": {},
   "outputs": [],
   "source": [
    "# Initializing the seed\n",
    "torch.manual_seed(41)\n",
    "\n",
    "# Create a model\n",
    "model = Model()\n"
   ]
  },
  {
   "cell_type": "code",
   "execution_count": 33,
   "id": "6a21537d",
   "metadata": {},
   "outputs": [],
   "source": [
    "url = 'https://gist.githubusercontent.com/curran/a08a1080b88344b0c8a7/raw/0e7a9b0a5d22642a06d3d5b9bcbad9890c8ee534/iris.csv'\n",
    "my_df = pd.read_csv(url)"
   ]
  },
  {
   "cell_type": "code",
   "execution_count": 34,
   "id": "e43d363d",
   "metadata": {},
   "outputs": [],
   "source": [
    "# Change the last column from strings to numbers\n",
    "my_df['species'] = my_df['species'].replace('setosa', 0.0)\n",
    "my_df['species'] = my_df['species'].replace('versicolor', 1.0)\n",
    "my_df['species'] = my_df['species'].replace('virginica', 2.0)\n"
   ]
  },
  {
   "cell_type": "code",
   "execution_count": 35,
   "id": "a4bda960",
   "metadata": {},
   "outputs": [
    {
     "data": {
      "text/plain": [
       "array([0., 1., 2.])"
      ]
     },
     "execution_count": 35,
     "metadata": {},
     "output_type": "execute_result"
    }
   ],
   "source": [
    "my_df['species'].unique()"
   ]
  },
  {
   "cell_type": "code",
   "execution_count": 36,
   "id": "45da6ee1",
   "metadata": {},
   "outputs": [],
   "source": [
    "# Splitting the datasets\n",
    "X = my_df.drop('species', axis=1)\n",
    "y = my_df['species']"
   ]
  },
  {
   "cell_type": "code",
   "execution_count": 37,
   "id": "e7d184ea",
   "metadata": {},
   "outputs": [],
   "source": [
    "# Convert to np arrays\n",
    "X = X.values\n",
    "y = y.values"
   ]
  },
  {
   "cell_type": "code",
   "execution_count": 42,
   "id": "d4293d51",
   "metadata": {},
   "outputs": [],
   "source": [
    "# Train Test split\n",
    "X_train, X_test, y_train, y_test = train_test_split(X, y, test_size=0.2, random_state=41)"
   ]
  },
  {
   "cell_type": "code",
   "execution_count": 43,
   "id": "70705767",
   "metadata": {},
   "outputs": [],
   "source": [
    "# Convert the input featres to tensors\n",
    "X_train = torch.FloatTensor(X_train)\n",
    "X_test = torch.FloatTensor(X_test)\n",
    "\n",
    "# Convert the labels into integers\n",
    "y_train = torch.LongTensor(y_train)\n",
    "y_test = torch.LongTensor(y_test)"
   ]
  },
  {
   "cell_type": "code",
   "execution_count": 45,
   "id": "f4553d07",
   "metadata": {},
   "outputs": [],
   "source": [
    "# Loss function definition\n",
    "criterion = nn.CrossEntropyLoss()\n",
    "\n",
    "\n",
    "# Optimizer initialization\n",
    "optimizer = torch.optim.Adam(model.parameters(), lr=0.01)"
   ]
  },
  {
   "cell_type": "code",
   "execution_count": 47,
   "id": "f2e3e462",
   "metadata": {},
   "outputs": [
    {
     "name": "stdout",
     "output_type": "stream",
     "text": [
      "Epoch: 0,........loss: 1.1251550912857056\n",
      "Epoch: 10,........loss: 1.0096259117126465\n",
      "Epoch: 20,........loss: 0.8157405257225037\n",
      "Epoch: 30,........loss: 0.585706353187561\n",
      "Epoch: 40,........loss: 0.3999636769294739\n",
      "Epoch: 50,........loss: 0.2676880657672882\n",
      "Epoch: 60,........loss: 0.17942366003990173\n",
      "Epoch: 70,........loss: 0.12151693552732468\n",
      "Epoch: 80,........loss: 0.08601187914609909\n",
      "Epoch: 90,........loss: 0.06520853191614151\n"
     ]
    }
   ],
   "source": [
    "# Train model\n",
    "epochs = 100\n",
    "losses = []\n",
    "\n",
    "for it in range(epochs):\n",
    "    # Forward propagation\n",
    "    y_pred = model.forward(X_train) # Get predicted results\n",
    "    \n",
    "    #  Loss\n",
    "    loss = criterion(y_pred, y_train)\n",
    "    \n",
    "    # Detach is used to exclude the computational graph and pass only the numerical value\n",
    "    losses.append(loss.detach().numpy())\n",
    "    \n",
    "    if it % 10 == 0:\n",
    "        print(f'Epoch: {it},........loss: {loss}')\n",
    "\n",
    "        \n",
    "    # Back propagation\n",
    "    optimizer.zero_grad()\n",
    "    loss.backward()\n",
    "    optimizer.step()\n",
    "    "
   ]
  },
  {
   "cell_type": "code",
   "execution_count": null,
   "id": "6321c5aa",
   "metadata": {},
   "outputs": [],
   "source": []
  }
 ],
 "metadata": {
  "kernelspec": {
   "display_name": "Python 3",
   "language": "python",
   "name": "python3"
  },
  "language_info": {
   "codemirror_mode": {
    "name": "ipython",
    "version": 3
   },
   "file_extension": ".py",
   "mimetype": "text/x-python",
   "name": "python",
   "nbconvert_exporter": "python",
   "pygments_lexer": "ipython3",
   "version": "3.8.8"
  }
 },
 "nbformat": 4,
 "nbformat_minor": 5
}
